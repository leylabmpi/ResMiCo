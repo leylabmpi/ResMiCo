{
 "cells": [
  {
   "cell_type": "markdown",
   "id": "73937722",
   "metadata": {},
   "source": [
    "1. load trained model of interest (fixed input shape, no global pooling, nomask, all features used for training)\n",
    "   it can not be the best resmico, some layers are not supported by shap\n",
    "2. select datapath and stats file\n",
    "3. 200 random short contigs for background\n",
    "4. 100 pos and 100 neg contigs to explain\n",
    "\n",
    "shap explanations take about 30min "
   ]
  },
  {
   "cell_type": "code",
   "execution_count": 1,
   "id": "fca5dce7",
   "metadata": {
    "ExecuteTime": {
     "end_time": "2022-01-20T15:30:54.073472Z",
     "start_time": "2022-01-20T15:30:20.867412Z"
    }
   },
   "outputs": [
    {
     "name": "stderr",
     "output_type": "stream",
     "text": [
      "2022-01-20 16:30:38.593776: I tensorflow/stream_executor/platform/default/dso_loader.cc:49] Successfully opened dynamic library libcudart.so.10.1\n"
     ]
    }
   ],
   "source": [
    "import sys\n",
    "import os\n",
    "sys.path.insert(1, '/cluster/home/omineeva/ResMiCo')\n",
    "from resmico import contig_reader\n",
    "from resmico import utils\n",
    "from resmico import models_fl as Models\n",
    "from tensorflow.keras.models import load_model\n",
    "from resmico.commands.evaluate import parse_args"
   ]
  },
  {
   "cell_type": "code",
   "execution_count": 2,
   "id": "b909e3de",
   "metadata": {
    "ExecuteTime": {
     "end_time": "2022-01-20T15:31:02.399958Z",
     "start_time": "2022-01-20T15:30:54.076349Z"
    }
   },
   "outputs": [],
   "source": [
    "import shap\n",
    "import numpy as np\n",
    "import matplotlib.pyplot as plt\n",
    "import pandas as pd\n",
    "import seaborn as sns\n",
    "%matplotlib inline\n",
    "import random"
   ]
  },
  {
   "cell_type": "code",
   "execution_count": 3,
   "id": "4a2b411a",
   "metadata": {
    "ExecuteTime": {
     "end_time": "2022-01-20T15:31:02.404638Z",
     "start_time": "2022-01-20T15:31:02.401959Z"
    }
   },
   "outputs": [],
   "source": [
    "project_path = '/cluster/home/omineeva/global_projects/projects/projects2019-contig_quality/'\n",
    "save_path = project_path + 'Outputs/predictions/'"
   ]
  },
  {
   "cell_type": "code",
   "execution_count": 6,
   "id": "4ea632f2",
   "metadata": {
    "ExecuteTime": {
     "end_time": "2022-01-20T15:31:39.486708Z",
     "start_time": "2022-01-20T15:31:39.483786Z"
    }
   },
   "outputs": [],
   "source": [
    "# model_name = project_path + 'Outputs/mc_epoch_32_aucPR_0.643_max624-111-d02-fl16-nblo4_model.h5'\n",
    "model_name = project_path + 'Outputs/mc_epoch_32_aucPR_0.683_fimp2_model.h5'"
   ]
  },
  {
   "cell_type": "code",
   "execution_count": 7,
   "id": "016c14b4",
   "metadata": {
    "ExecuteTime": {
     "end_time": "2022-01-20T15:31:41.796296Z",
     "start_time": "2022-01-20T15:31:40.544035Z"
    }
   },
   "outputs": [
    {
     "name": "stderr",
     "output_type": "stream",
     "text": [
      "2022-01-20 16:31:40.710758: I tensorflow/compiler/jit/xla_cpu_device.cc:41] Not creating XLA devices, tf_xla_enable_xla_devices not set\n",
      "2022-01-20 16:31:40.720175: I tensorflow/stream_executor/platform/default/dso_loader.cc:49] Successfully opened dynamic library libcuda.so.1\n",
      "2022-01-20 16:31:40.738763: E tensorflow/stream_executor/cuda/cuda_driver.cc:328] failed call to cuInit: CUDA_ERROR_NO_DEVICE: no CUDA-capable device is detected\n",
      "2022-01-20 16:31:40.738793: I tensorflow/stream_executor/cuda/cuda_diagnostics.cc:169] retrieving CUDA diagnostic information for host: le-g3-007\n",
      "2022-01-20 16:31:40.738799: I tensorflow/stream_executor/cuda/cuda_diagnostics.cc:176] hostname: le-g3-007\n",
      "2022-01-20 16:31:40.738883: I tensorflow/stream_executor/cuda/cuda_diagnostics.cc:200] libcuda reported version is: 450.80.2\n",
      "2022-01-20 16:31:40.738909: I tensorflow/stream_executor/cuda/cuda_diagnostics.cc:204] kernel reported version is: 450.80.2\n",
      "2022-01-20 16:31:40.738914: I tensorflow/stream_executor/cuda/cuda_diagnostics.cc:310] kernel version seems to match DSO: 450.80.2\n",
      "2022-01-20 16:31:40.739230: I tensorflow/core/platform/cpu_feature_guard.cc:142] This TensorFlow binary is optimized with oneAPI Deep Neural Network Library (oneDNN) to use the following CPU instructions in performance-critical operations:  SSE4.1 SSE4.2 AVX AVX2 FMA\n",
      "To enable them in other operations, rebuild TensorFlow with the appropriate compiler flags.\n",
      "2022-01-20 16:31:40.739707: I tensorflow/compiler/jit/xla_gpu_device.cc:99] Not creating XLA devices, tf_xla_enable_xla_devices not set\n"
     ]
    }
   ],
   "source": [
    "custom_obj = {'class_recall_0': utils.class_recall_0, 'class_recall_1': utils.class_recall_1,\n",
    "              'GlobalMaskedMaxPooling1D': Models.GlobalMaskedMaxPooling1D}\n",
    "\n",
    "\n",
    "model = load_model(model_name, custom_objects=custom_obj)"
   ]
  },
  {
   "cell_type": "code",
   "execution_count": 8,
   "id": "a7e37250",
   "metadata": {
    "ExecuteTime": {
     "end_time": "2022-01-20T15:31:41.897010Z",
     "start_time": "2022-01-20T15:31:41.893997Z"
    }
   },
   "outputs": [],
   "source": [
    "data_path = project_path + \\\n",
    "            'data/v2/resmico-sm/GTDBr202_n9k_novel-family_test/features/' \n",
    "\n",
    "# stats_file = project_path + \\\n",
    "#             '/data/v2/resmico-sm/GTDBr202_n9k_train/features/' + \\\n",
    "#             'stats.json'\n",
    "\n",
    "stats_file = project_path + \\\n",
    "            '/data/v2/resmico-sm/GTDBr202_n9k_train_1rep/stats_cov.json'"
   ]
  },
  {
   "cell_type": "code",
   "execution_count": 9,
   "id": "700688c6",
   "metadata": {
    "ExecuteTime": {
     "end_time": "2022-01-20T15:31:42.325332Z",
     "start_time": "2022-01-20T15:31:42.320661Z"
    }
   },
   "outputs": [],
   "source": [
    "joint_line = ''\n",
    "\n",
    "joint_line += ' --features'\n",
    "features_imp =\" ref_base num_query_A num_query_C num_query_G num_query_T coverage num_proper_Match num_orphans_Match max_insert_size_Match mean_insert_size_Match min_insert_size_Match stdev_insert_size_Match mean_mapq_Match min_mapq_Match stdev_mapq_Match mean_al_score_Match min_al_score_Match stdev_al_score_Match num_proper_SNP\"\n",
    "features_imp2=\" ref_base num_query_A num_query_C num_query_G num_query_T coverage max_insert_size_Match mean_insert_size_Match min_insert_size_Match stdev_insert_size_Match max_mapq_Match mean_mapq_Match min_mapq_Match stdev_mapq_Match max_al_score_Match mean_al_score_Match min_al_score_Match stdev_al_score_Match num_SNPs num_proper_SNP num_proper_Match num_discordant num_orphans_Match \"\n",
    "joint_line += features_imp2\n",
    "\n",
    "joint_line += ' --feature-files-path '\n",
    "joint_line += data_path\n",
    "\n",
    "joint_line += ' --stats-file '\n",
    "joint_line += stats_file\n",
    "\n",
    "joint_line += ' --max-len=5000 '\n",
    "\n",
    "\n",
    "joint_line += ' --binary-data '"
   ]
  },
  {
   "cell_type": "code",
   "execution_count": 10,
   "id": "31970a87",
   "metadata": {
    "ExecuteTime": {
     "end_time": "2022-01-20T15:31:42.638439Z",
     "start_time": "2022-01-20T15:31:42.633821Z"
    }
   },
   "outputs": [],
   "source": [
    "args = parse_args().parse_args(joint_line.split())"
   ]
  },
  {
   "cell_type": "code",
   "execution_count": 11,
   "id": "efc007e3",
   "metadata": {
    "ExecuteTime": {
     "end_time": "2022-01-20T15:31:42.876045Z",
     "start_time": "2022-01-20T15:31:42.863970Z"
    }
   },
   "outputs": [
    {
     "data": {
      "text/plain": [
       "Namespace(model='/cluster/home/omineeva/ResMiCo/resmico/model/fl_all_model.h5', batch_size=100, sdepth=None, rich=None, filter10=False, rep10=False, method_pred='chunks', min_len=1000, mem_lim=500000, window=5000, v1=False, longdir=False, embeddings=False, emb_ind=0, binary_data=True, gpu_eval_mem_gb=3.0, val_ind_f=None, chunks=False, log_level='INFO', no_cython=False, seed=12, n_procs=1, max_len=5000, save_path='.', save_name='resmico', feature_files_path='/cluster/home/omineeva/global_projects/projects/projects2019-contig_quality/data/v2/resmico-sm/GTDBr202_n9k_novel-family_test/features/', feature_file_table='', technology='all-asmbl', big_data=False, features=['ref_base', 'num_query_A', 'num_query_C', 'num_query_G', 'num_query_T', 'coverage', 'max_insert_size_Match', 'mean_insert_size_Match', 'min_insert_size_Match', 'stdev_insert_size_Match', 'max_mapq_Match', 'mean_mapq_Match', 'min_mapq_Match', 'stdev_mapq_Match', 'max_al_score_Match', 'mean_al_score_Match', 'min_al_score_Match', 'stdev_al_score_Match', 'num_SNPs', 'num_proper_SNP', 'num_proper_Match', 'num_discordant', 'num_orphans_Match'], stats_file='/cluster/home/omineeva/global_projects/projects/projects2019-contig_quality//data/v2/resmico-sm/GTDBr202_n9k_train_1rep/stats_cov.json', mask_padding=False, min_avg_coverage=1.0, feature_file_match='')"
      ]
     },
     "execution_count": 11,
     "metadata": {},
     "output_type": "execute_result"
    }
   ],
   "source": [
    "args"
   ]
  },
  {
   "cell_type": "code",
   "execution_count": 12,
   "id": "497ce59d",
   "metadata": {
    "ExecuteTime": {
     "end_time": "2022-01-20T15:31:43.066443Z",
     "start_time": "2022-01-20T15:31:43.063855Z"
    }
   },
   "outputs": [],
   "source": [
    "if args.mask_padding:\n",
    "    convoluted_size = Models.get_convoluted_size(model)\n",
    "else:  # when not padding, the convoluted size is unused\n",
    "    convoluted_size = lambda len, pad: 0"
   ]
  },
  {
   "cell_type": "code",
   "execution_count": 13,
   "id": "9da022bc",
   "metadata": {
    "ExecuteTime": {
     "end_time": "2022-01-20T15:32:14.088476Z",
     "start_time": "2022-01-20T15:31:43.224112Z"
    }
   },
   "outputs": [],
   "source": [
    "reader = contig_reader.ContigReader(args.feature_files_path, args.features, args.n_procs, args.chunks,\n",
    "                                    args.no_cython, args.stats_file, args.min_len)"
   ]
  },
  {
   "cell_type": "code",
   "execution_count": 14,
   "id": "3d35bf38",
   "metadata": {
    "ExecuteTime": {
     "end_time": "2022-01-20T15:32:15.368986Z",
     "start_time": "2022-01-20T15:32:14.089970Z"
    }
   },
   "outputs": [],
   "source": [
    "#use only short contigs for simplicity\n",
    "eval_idx = []\n",
    "for ind, contig in enumerate(reader.contigs):\n",
    "    if contig.length < 5000:\n",
    "        eval_idx.append(ind)"
   ]
  },
  {
   "cell_type": "code",
   "execution_count": 15,
   "id": "53d2d3ca",
   "metadata": {
    "ExecuteTime": {
     "end_time": "2022-01-20T15:32:15.789727Z",
     "start_time": "2022-01-20T15:32:15.370166Z"
    }
   },
   "outputs": [],
   "source": [
    "back_idx = np.random.choice(eval_idx, 200, replace=False)"
   ]
  },
  {
   "cell_type": "code",
   "execution_count": 16,
   "id": "ee9327ae",
   "metadata": {
    "ExecuteTime": {
     "end_time": "2022-01-20T15:32:27.375291Z",
     "start_time": "2022-01-20T15:32:15.791274Z"
    }
   },
   "outputs": [],
   "source": [
    "pos_idx = []\n",
    "for idx in random.sample(eval_idx, len(eval_idx)):\n",
    "    if reader.contigs[idx].misassembly > 0:\n",
    "        if idx not in set(back_idx):\n",
    "            pos_idx.append(idx)"
   ]
  },
  {
   "cell_type": "code",
   "execution_count": 17,
   "id": "de995aad",
   "metadata": {
    "ExecuteTime": {
     "end_time": "2022-01-20T15:32:30.627613Z",
     "start_time": "2022-01-20T15:32:27.376517Z"
    }
   },
   "outputs": [],
   "source": [
    "neg_idx = []\n",
    "c=0\n",
    "for idx in random.sample(eval_idx, len(eval_idx)):\n",
    "    if reader.contigs[idx].misassembly == 0:\n",
    "        if idx not in set(back_idx):\n",
    "            neg_idx.append(idx)\n",
    "            c+=1\n",
    "            if c>100:\n",
    "                break"
   ]
  },
  {
   "cell_type": "code",
   "execution_count": 18,
   "id": "fa77b954",
   "metadata": {
    "ExecuteTime": {
     "end_time": "2022-01-20T15:32:30.631173Z",
     "start_time": "2022-01-20T15:32:30.628873Z"
    }
   },
   "outputs": [],
   "source": [
    "expl_idx = np.concatenate((pos_idx[:100],neg_idx[:100]))"
   ]
  },
  {
   "cell_type": "code",
   "execution_count": 19,
   "id": "01c45358",
   "metadata": {
    "ExecuteTime": {
     "end_time": "2022-01-20T15:32:30.638773Z",
     "start_time": "2022-01-20T15:32:30.632523Z"
    }
   },
   "outputs": [
    {
     "data": {
      "text/plain": [
       "set()"
      ]
     },
     "execution_count": 19,
     "metadata": {},
     "output_type": "execute_result"
    }
   ],
   "source": [
    "set(expl_idx).intersection(set(back_idx))"
   ]
  },
  {
   "cell_type": "code",
   "execution_count": 20,
   "id": "3a932a7e",
   "metadata": {
    "ExecuteTime": {
     "end_time": "2022-01-20T15:32:30.643925Z",
     "start_time": "2022-01-20T15:32:30.640081Z"
    }
   },
   "outputs": [],
   "source": [
    "# for i in expl_idx:\n",
    "#     print(i, reader.contigs[i].breakpoints, reader.contigs[i].misassembly, reader.contigs[i].length)"
   ]
  },
  {
   "cell_type": "code",
   "execution_count": 21,
   "id": "c3c188a7",
   "metadata": {
    "ExecuteTime": {
     "end_time": "2022-01-20T15:32:30.681493Z",
     "start_time": "2022-01-20T15:32:30.644908Z"
    }
   },
   "outputs": [],
   "source": [
    "back_data = Models.BinaryDatasetEval(reader, back_idx, args.features, args.max_len, max(250, args.max_len-500),\n",
    "                                        int(args.gpu_eval_mem_gb * 1e9 * 0.8), cache_results=False,\n",
    "                                        show_progress=False, convoluted_size=convoluted_size, pad_to_max_len=True)"
   ]
  },
  {
   "cell_type": "code",
   "execution_count": 22,
   "id": "db45d02c",
   "metadata": {
    "ExecuteTime": {
     "end_time": "2022-01-20T15:32:36.281532Z",
     "start_time": "2022-01-20T15:32:30.684072Z"
    }
   },
   "outputs": [],
   "source": [
    "(x_back, mask), y = back_data.__getitem__(0)"
   ]
  },
  {
   "cell_type": "code",
   "execution_count": 23,
   "id": "5a0e2f49",
   "metadata": {
    "ExecuteTime": {
     "end_time": "2022-01-20T15:32:36.287099Z",
     "start_time": "2022-01-20T15:32:36.283618Z"
    }
   },
   "outputs": [
    {
     "data": {
      "text/plain": [
       "200"
      ]
     },
     "execution_count": 23,
     "metadata": {},
     "output_type": "execute_result"
    }
   ],
   "source": [
    "len(x_back)"
   ]
  },
  {
   "cell_type": "code",
   "execution_count": 24,
   "id": "f7680052",
   "metadata": {
    "ExecuteTime": {
     "end_time": "2022-01-20T15:32:36.851041Z",
     "start_time": "2022-01-20T15:32:36.288829Z"
    }
   },
   "outputs": [],
   "source": [
    "expl_data = Models.BinaryDatasetEval(reader, expl_idx, args.features, args.max_len, max(250, args.max_len-500),\n",
    "                                        int(args.gpu_eval_mem_gb * 1e9 * 0.8), cache_results=False,\n",
    "                                        show_progress=False, convoluted_size=convoluted_size, pad_to_max_len=True)"
   ]
  },
  {
   "cell_type": "code",
   "execution_count": 25,
   "id": "736b08fd",
   "metadata": {
    "ExecuteTime": {
     "end_time": "2022-01-20T15:32:41.802000Z",
     "start_time": "2022-01-20T15:32:36.852725Z"
    }
   },
   "outputs": [],
   "source": [
    "(x_expl, mask), y = expl_data.__getitem__(0)"
   ]
  },
  {
   "cell_type": "code",
   "execution_count": 26,
   "id": "2e3c1aff",
   "metadata": {
    "ExecuteTime": {
     "end_time": "2022-01-20T15:32:41.807394Z",
     "start_time": "2022-01-20T15:32:41.803622Z"
    }
   },
   "outputs": [
    {
     "data": {
      "text/plain": [
       "200"
      ]
     },
     "execution_count": 26,
     "metadata": {},
     "output_type": "execute_result"
    }
   ],
   "source": [
    "len(x_expl)"
   ]
  },
  {
   "cell_type": "code",
   "execution_count": 27,
   "id": "c61d2585",
   "metadata": {
    "ExecuteTime": {
     "end_time": "2022-01-20T15:32:45.656331Z",
     "start_time": "2022-01-20T15:32:41.808864Z"
    }
   },
   "outputs": [
    {
     "name": "stderr",
     "output_type": "stream",
     "text": [
      "Your TensorFlow version is newer than 2.4.0 and so graph support has been removed in eager mode. See PR #1483 for discussion.\n"
     ]
    }
   ],
   "source": [
    "e = shap.DeepExplainer((model.layers[0].input, model.layers[-1].output), x_back)"
   ]
  },
  {
   "cell_type": "code",
   "execution_count": 28,
   "id": "ed0be5ea",
   "metadata": {
    "ExecuteTime": {
     "end_time": "2022-01-20T15:32:45.659333Z",
     "start_time": "2022-01-20T15:32:45.657308Z"
    }
   },
   "outputs": [],
   "source": [
    "shap.explainers._deep.deep_tf.op_handlers[\"AddV2\"] = shap.explainers._deep.deep_tf.passthrough"
   ]
  },
  {
   "cell_type": "code",
   "execution_count": 29,
   "id": "7492403a",
   "metadata": {
    "ExecuteTime": {
     "end_time": "2022-01-20T16:24:06.445826Z",
     "start_time": "2022-01-20T15:32:45.660025Z"
    }
   },
   "outputs": [
    {
     "name": "stdout",
     "output_type": "stream",
     "text": [
      "WARNING:tensorflow:AutoGraph could not transform <function TFDeep.phi_symbolic.<locals>.grad_graph at 0x2b1a4645eb80> and will run it as-is.\n",
      "Please report this to the TensorFlow team. When filing the bug, set the verbosity to 10 (on Linux, `export AUTOGRAPH_VERBOSITY=10`) and attach the full output.\n",
      "Cause: module 'gast' has no attribute 'Index'\n",
      "To silence this warning, decorate the function with @tf.autograph.experimental.do_not_convert\n"
     ]
    },
    {
     "name": "stderr",
     "output_type": "stream",
     "text": [
      "WARNING:tensorflow:AutoGraph could not transform <function TFDeep.phi_symbolic.<locals>.grad_graph at 0x2b1a4645eb80> and will run it as-is.\n",
      "Please report this to the TensorFlow team. When filing the bug, set the verbosity to 10 (on Linux, `export AUTOGRAPH_VERBOSITY=10`) and attach the full output.\n",
      "Cause: module 'gast' has no attribute 'Index'\n",
      "To silence this warning, decorate the function with @tf.autograph.experimental.do_not_convert\n"
     ]
    },
    {
     "name": "stdout",
     "output_type": "stream",
     "text": [
      "WARNING: AutoGraph could not transform <function TFDeep.phi_symbolic.<locals>.grad_graph at 0x2b1a4645eb80> and will run it as-is.\n",
      "Please report this to the TensorFlow team. When filing the bug, set the verbosity to 10 (on Linux, `export AUTOGRAPH_VERBOSITY=10`) and attach the full output.\n",
      "Cause: module 'gast' has no attribute 'Index'\n",
      "To silence this warning, decorate the function with @tf.autograph.experimental.do_not_convert\n"
     ]
    },
    {
     "name": "stderr",
     "output_type": "stream",
     "text": [
      "`tf.keras.backend.set_learning_phase` is deprecated and will be removed after 2020-10-11. To update it, simply pass a True/False value to the `training` argument of the `__call__` method of your layer or model.\n",
      "2022-01-20 16:32:46.560086: I tensorflow/compiler/mlir/mlir_graph_optimization_pass.cc:116] None of the MLIR optimization passes are enabled (registered 2)\n",
      "2022-01-20 16:32:46.570578: I tensorflow/core/platform/profile_utils/cpu_utils.cc:112] CPU Frequency: 2249950000 Hz\n"
     ]
    }
   ],
   "source": [
    "shap_values = e.shap_values(x_expl)"
   ]
  },
  {
   "cell_type": "code",
   "execution_count": 30,
   "id": "5fe68c13",
   "metadata": {
    "ExecuteTime": {
     "end_time": "2022-01-20T16:24:06.450614Z",
     "start_time": "2022-01-20T16:24:06.446998Z"
    }
   },
   "outputs": [],
   "source": [
    "features = features_imp2.split(' ')[1:]\n",
    "features = np.concatenate(([features[0]]*3, features))"
   ]
  },
  {
   "cell_type": "code",
   "execution_count": 31,
   "id": "490b5d9e",
   "metadata": {
    "ExecuteTime": {
     "end_time": "2022-01-20T16:24:07.424840Z",
     "start_time": "2022-01-20T16:24:06.451339Z"
    },
    "scrolled": false
   },
   "outputs": [],
   "source": [
    "plt.rcParams[\"figure.figsize\"] = [5, 5]\n",
    "arr = np.zeros(26)\n",
    "for n, cont in enumerate(expl_idx):\n",
    "    for i in range(reader.contigs[cont].length): \n",
    "        arr+=abs(shap_values[0][n][i])\n",
    "arr=arr/n \n",
    "inds = arr.argsort()"
   ]
  },
  {
   "cell_type": "code",
   "execution_count": 32,
   "id": "6fab3b1d",
   "metadata": {
    "ExecuteTime": {
     "end_time": "2022-01-20T16:24:07.429648Z",
     "start_time": "2022-01-20T16:24:07.425987Z"
    }
   },
   "outputs": [
    {
     "data": {
      "text/plain": [
       "array(['ref_base', 'ref_base', 'ref_base', 'ref_base', 'num_discordant',\n",
       "       'num_proper_SNP', 'max_mapq_Match', 'stdev_mapq_Match',\n",
       "       'stdev_insert_size_Match', 'min_mapq_Match', 'num_proper_Match',\n",
       "       'num_orphans_Match', 'num_query_G', 'num_query_C', 'num_query_A',\n",
       "       'max_al_score_Match', 'num_query_T', 'stdev_al_score_Match',\n",
       "       'mean_insert_size_Match', 'max_insert_size_Match',\n",
       "       'min_insert_size_Match', 'mean_mapq_Match', 'num_SNPs', 'coverage',\n",
       "       'min_al_score_Match', 'mean_al_score_Match'], dtype='<U23')"
      ]
     },
     "execution_count": 32,
     "metadata": {},
     "output_type": "execute_result"
    }
   ],
   "source": [
    "features[inds]"
   ]
  },
  {
   "cell_type": "code",
   "execution_count": 33,
   "id": "967803b2",
   "metadata": {
    "ExecuteTime": {
     "end_time": "2022-01-20T16:24:07.436222Z",
     "start_time": "2022-01-20T16:24:07.430818Z"
    }
   },
   "outputs": [
    {
     "data": {
      "text/plain": [
       "[3,\n",
       " 24,\n",
       " 22,\n",
       " 13,\n",
       " 16,\n",
       " 12,\n",
       " 15,\n",
       " 23,\n",
       " 25,\n",
       " 6,\n",
       " 5,\n",
       " 4,\n",
       " 17,\n",
       " 7,\n",
       " 20,\n",
       " 10,\n",
       " 9,\n",
       " 11,\n",
       " 14,\n",
       " 21,\n",
       " 8,\n",
       " 19,\n",
       " 18]"
      ]
     },
     "execution_count": 33,
     "metadata": {},
     "output_type": "execute_result"
    }
   ],
   "source": [
    "inds_oneref = list(inds)\n",
    "inds_oneref.remove(0)\n",
    "inds_oneref.remove(1)\n",
    "inds_oneref.remove(2)\n",
    "inds_oneref"
   ]
  },
  {
   "cell_type": "code",
   "execution_count": 34,
   "id": "2b233e91",
   "metadata": {
    "ExecuteTime": {
     "end_time": "2022-01-20T16:24:07.442240Z",
     "start_time": "2022-01-20T16:24:07.437319Z"
    }
   },
   "outputs": [],
   "source": [
    "savefig_path=project_path+'Outputs/figures'"
   ]
  },
  {
   "cell_type": "code",
   "execution_count": null,
   "id": "16ef5259",
   "metadata": {},
   "outputs": [],
   "source": [
    "#todo: change feature names"
   ]
  },
  {
   "cell_type": "code",
   "execution_count": 35,
   "id": "2d94045e",
   "metadata": {
    "ExecuteTime": {
     "end_time": "2022-01-20T16:24:07.913926Z",
     "start_time": "2022-01-20T16:24:07.443307Z"
    }
   },
   "outputs": [
    {
     "data": {
      "text/plain": [
       "Text(0.5, 0, 'mean(|SHAP value|)')"
      ]
     },
     "execution_count": 35,
     "metadata": {},
     "output_type": "execute_result"
    },
    {
     "data": {
      "image/png": "[encoded data removed]",
      "text/plain": [
       "<Figure size 480x480 with 1 Axes>"
      ]
     },
     "metadata": {
      "needs_background": "light"
     },
     "output_type": "display_data"
    }
   ],
   "source": [
    "plt.figure(figsize=(6, 6), dpi=80)\n",
    "y_pos = np.arange(23)\n",
    "plt.yticks(y_pos, labels=features[inds_oneref], fontsize=14)\n",
    "plt.barh(y_pos, arr[inds_oneref], color='deeppink')\n",
    "plt.xlabel('mean(|SHAP value|)', fontsize=14)\n",
    "\n",
    "# where = os.path.join(savefig_path,'shap.pdf')\n",
    "# plt.savefig(where, \n",
    "#             bbox_inches='tight', format='pdf', dpi=300)\n",
    "# print(where)\n",
    "# plt.show()"
   ]
  },
  {
   "cell_type": "code",
   "execution_count": 36,
   "id": "2e5656a1",
   "metadata": {
    "ExecuteTime": {
     "end_time": "2022-01-20T16:24:07.920722Z",
     "start_time": "2022-01-20T16:24:07.916075Z"
    }
   },
   "outputs": [
    {
     "data": {
      "text/plain": [
       "{'ref_base': 0.0003485153646749759,\n",
       " 'num_query_A': 0.08721410507900959,\n",
       " 'num_query_C': 0.08645045342955279,\n",
       " 'num_query_G': 0.08274602203990356,\n",
       " 'num_query_T': 0.08979263740790056,\n",
       " 'coverage': 0.1525170557965516,\n",
       " 'max_insert_size_Match': 0.10673509174307608,\n",
       " 'mean_insert_size_Match': 0.10047644247632047,\n",
       " 'min_insert_size_Match': 0.10809871009095133,\n",
       " 'stdev_insert_size_Match': 0.044027574904123366,\n",
       " 'max_mapq_Match': 0.03454637295222416,\n",
       " 'mean_mapq_Match': 0.12169421846251291,\n",
       " 'min_mapq_Match': 0.04477217435382488,\n",
       " 'stdev_mapq_Match': 0.0402769059317806,\n",
       " 'max_al_score_Match': 0.08976540899699398,\n",
       " 'mean_al_score_Match': 0.17942266483325284,\n",
       " 'min_al_score_Match': 0.1709269581646705,\n",
       " 'stdev_al_score_Match': 0.09245847550786496,\n",
       " 'num_SNPs': 0.1444732931943834,\n",
       " 'num_proper_SNP': 0.031144925780767746,\n",
       " 'num_proper_Match': 0.06487877275582281,\n",
       " 'num_discordant': 0.015567381855719268,\n",
       " 'num_orphans_Match': 0.07781893660864456}"
      ]
     },
     "execution_count": 36,
     "metadata": {},
     "output_type": "execute_result"
    }
   ],
   "source": [
    "{k:v for k, v in zip(features, arr)}"
   ]
  }
 ],
 "metadata": {
  "kernelspec": {
   "display_name": "resmico",
   "language": "python",
   "name": "resmico"
  },
  "language_info": {
   "codemirror_mode": {
    "name": "ipython",
    "version": 3
   },
   "file_extension": ".py",
   "mimetype": "text/x-python",
   "name": "python",
   "nbconvert_exporter": "python",
   "pygments_lexer": "ipython3",
   "version": "3.9.7"
  }
 },
 "nbformat": 4,
 "nbformat_minor": 5
}
