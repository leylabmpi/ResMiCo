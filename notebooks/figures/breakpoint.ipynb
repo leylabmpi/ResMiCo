{
 "cells": [
  {
   "cell_type": "markdown",
   "id": "11a8e1c4",
   "metadata": {},
   "source": [
    "1. load the best model and give the last BatchNormalization layer index as output\n",
    "2. define datapath (only a couple of contigs will be used)\n",
    "3. in args: set features and stats file"
   ]
  },
  {
   "cell_type": "code",
   "execution_count": 1,
   "id": "8221cc0d",
   "metadata": {
    "ExecuteTime": {
     "end_time": "2022-01-20T16:49:17.590600Z",
     "start_time": "2022-01-20T16:49:17.572796Z"
    }
   },
   "outputs": [],
   "source": [
    "%load_ext autoreload\n",
    "%autoreload 2"
   ]
  },
  {
   "cell_type": "code",
   "execution_count": 2,
   "id": "b9676a13",
   "metadata": {
    "ExecuteTime": {
     "end_time": "2022-01-20T16:49:20.901706Z",
     "start_time": "2022-01-20T16:49:17.782967Z"
    }
   },
   "outputs": [
    {
     "name": "stderr",
     "output_type": "stream",
     "text": [
      "2022-01-20 17:49:18.461129: I tensorflow/stream_executor/platform/default/dso_loader.cc:49] Successfully opened dynamic library libcudart.so.10.1\n"
     ]
    }
   ],
   "source": [
    "import numpy as np\n",
    "import os\n",
    "np.random.seed(5)\n",
    "import pandas as pd\n",
    "import time\n",
    "from tensorflow.keras.models import load_model\n",
    "from tensorflow.keras.models import Model\n",
    "import tensorflow as tf"
   ]
  },
  {
   "cell_type": "code",
   "execution_count": 3,
   "id": "a5fb1e2a",
   "metadata": {
    "ExecuteTime": {
     "end_time": "2022-01-20T16:49:21.935267Z",
     "start_time": "2022-01-20T16:49:20.903145Z"
    }
   },
   "outputs": [],
   "source": [
    "import sys\n",
    "sys.path.insert(1, '/cluster/home/omineeva/ResMiCo')\n",
    "from resmico import contig_reader\n",
    "from resmico import utils\n",
    "from resmico import models_fl as Models\n",
    "from resmico.commands.evaluate import parse_args\n",
    "import matplotlib.pyplot as plt\n",
    "%matplotlib inline"
   ]
  },
  {
   "cell_type": "code",
   "execution_count": 4,
   "id": "f47e4ea3",
   "metadata": {
    "ExecuteTime": {
     "end_time": "2022-01-20T16:49:21.974669Z",
     "start_time": "2022-01-20T16:49:21.936433Z"
    }
   },
   "outputs": [],
   "source": [
    "project_path = '/cluster/home/omineeva/global_projects/projects/projects2019-contig_quality/'\n",
    "\n",
    "data_path = project_path + \\\n",
    "            'data/v2/resmico-sm/GTDBr202_n9k_novel-family_test/features/' + \\\n",
    "            '0.111111/mean-10-sigma-1/1/100/2000000/metaspades/'\n",
    "\n",
    "stats_file = project_path + \\\n",
    "            '/data/v2/resmico-sm/GTDBr202_n9k_train_1rep/features/' + \\\n",
    "            'stats.json'\n",
    "\n",
    "# model_name = project_path + 'Outputs/mc_epoch_40_aucPR_0.605_mask-111-gpu2-d02-fl16-nblo4_model.h5'\n",
    "# model_name = '/cluster/home/ddanciu/tmp/mc_epoch_30_aucPR_0.660_resmico_model.h5'\n",
    "# model_name = '/cluster/home/ddanciu/tmp/mc_epoch_28_aucPR_0.657_resmico_model.h5'\n",
    "# model_name = '/cluster/home/ddanciu/tmp/mc_epoch_46_aucPR_0.647_resmico_model.h5' \n",
    "model_name = project_path +'/Outputs/mc_epoch_44_aucPR_0.685_upcov-111-d02-fl16-nblo4_model.h5'"
   ]
  },
  {
   "cell_type": "code",
   "execution_count": 5,
   "id": "37e8d41a",
   "metadata": {
    "ExecuteTime": {
     "end_time": "2022-01-20T16:49:22.890048Z",
     "start_time": "2022-01-20T16:49:21.976264Z"
    }
   },
   "outputs": [
    {
     "name": "stderr",
     "output_type": "stream",
     "text": [
      "2022-01-20 17:49:22.105293: I tensorflow/compiler/jit/xla_cpu_device.cc:41] Not creating XLA devices, tf_xla_enable_xla_devices not set\n",
      "2022-01-20 17:49:22.106355: I tensorflow/stream_executor/platform/default/dso_loader.cc:49] Successfully opened dynamic library libcuda.so.1\n",
      "2022-01-20 17:49:22.118548: E tensorflow/stream_executor/cuda/cuda_driver.cc:328] failed call to cuInit: CUDA_ERROR_NO_DEVICE: no CUDA-capable device is detected\n",
      "2022-01-20 17:49:22.118575: I tensorflow/stream_executor/cuda/cuda_diagnostics.cc:169] retrieving CUDA diagnostic information for host: le-g3-007\n",
      "2022-01-20 17:49:22.118582: I tensorflow/stream_executor/cuda/cuda_diagnostics.cc:176] hostname: le-g3-007\n",
      "2022-01-20 17:49:22.118657: I tensorflow/stream_executor/cuda/cuda_diagnostics.cc:200] libcuda reported version is: 450.80.2\n",
      "2022-01-20 17:49:22.118683: I tensorflow/stream_executor/cuda/cuda_diagnostics.cc:204] kernel reported version is: 450.80.2\n",
      "2022-01-20 17:49:22.118688: I tensorflow/stream_executor/cuda/cuda_diagnostics.cc:310] kernel version seems to match DSO: 450.80.2\n",
      "2022-01-20 17:49:22.118925: I tensorflow/core/platform/cpu_feature_guard.cc:142] This TensorFlow binary is optimized with oneAPI Deep Neural Network Library (oneDNN) to use the following CPU instructions in performance-critical operations:  SSE4.1 SSE4.2 AVX AVX2 FMA\n",
      "To enable them in other operations, rebuild TensorFlow with the appropriate compiler flags.\n",
      "2022-01-20 17:49:22.119385: I tensorflow/compiler/jit/xla_gpu_device.cc:99] Not creating XLA devices, tf_xla_enable_xla_devices not set\n"
     ]
    }
   ],
   "source": [
    "custom_obj = {'class_recall_0': utils.class_recall_0, 'class_recall_1': utils.class_recall_1,\n",
    "              'GlobalMaskedMaxPooling1D': Models.GlobalMaskedMaxPooling1D}\n",
    "\n",
    "\n",
    "model = load_model(model_name, custom_objects=custom_obj)"
   ]
  },
  {
   "cell_type": "code",
   "execution_count": 6,
   "id": "1fb6d98a",
   "metadata": {
    "ExecuteTime": {
     "end_time": "2022-01-20T16:49:22.933894Z",
     "start_time": "2022-01-20T16:49:22.891809Z"
    }
   },
   "outputs": [
    {
     "data": {
      "text/plain": [
       "[<tensorflow.python.keras.engine.input_layer.InputLayer at 0x2b30996dd040>,\n",
       " <tensorflow.python.keras.layers.normalization_v2.BatchNormalization at 0x2b30996faf10>,\n",
       " <tensorflow.python.keras.layers.convolutional.Conv1D at 0x2b309971b370>,\n",
       " <tensorflow.python.keras.layers.advanced_activations.ReLU at 0x2b309971b8e0>,\n",
       " <tensorflow.python.keras.layers.normalization_v2.BatchNormalization at 0x2b309971bc70>,\n",
       " <tensorflow.python.keras.layers.convolutional.Conv1D at 0x2b309971beb0>,\n",
       " <tensorflow.python.keras.layers.advanced_activations.ReLU at 0x2b30999b15b0>,\n",
       " <tensorflow.python.keras.layers.normalization_v2.BatchNormalization at 0x2b30999b1940>,\n",
       " <tensorflow.python.keras.layers.convolutional.Cropping1D at 0x2b30999b1f70>,\n",
       " <tensorflow.python.keras.layers.convolutional.Conv1D at 0x2b30999b1f10>,\n",
       " <tensorflow.python.keras.layers.merge.Add at 0x2b30999b8700>,\n",
       " <tensorflow.python.keras.layers.advanced_activations.ReLU at 0x2b30999b8670>,\n",
       " <tensorflow.python.keras.layers.normalization_v2.BatchNormalization at 0x2b30999b8970>,\n",
       " <tensorflow.python.keras.layers.convolutional.Conv1D at 0x2b30999b8c40>,\n",
       " <tensorflow.python.keras.layers.advanced_activations.ReLU at 0x2b30999b8f70>,\n",
       " <tensorflow.python.keras.layers.normalization_v2.BatchNormalization at 0x2b30999bd610>,\n",
       " <tensorflow.python.keras.layers.convolutional.Cropping1D at 0x2b30999bdcd0>,\n",
       " <tensorflow.python.keras.layers.convolutional.Conv1D at 0x2b30999bdbe0>,\n",
       " <tensorflow.python.keras.layers.merge.Add at 0x2b30999c23d0>,\n",
       " <tensorflow.python.keras.layers.advanced_activations.ReLU at 0x2b30999bdf70>,\n",
       " <tensorflow.python.keras.layers.normalization_v2.BatchNormalization at 0x2b30999c2640>,\n",
       " <tensorflow.python.keras.layers.convolutional.Conv1D at 0x2b30999c2910>,\n",
       " <tensorflow.python.keras.layers.convolutional.Conv1D at 0x2b30999c2f10>,\n",
       " <tensorflow.python.keras.layers.advanced_activations.ReLU at 0x2b30999c7490>,\n",
       " <tensorflow.python.keras.layers.convolutional.Cropping1D at 0x2b30999c79a0>,\n",
       " <tensorflow.python.keras.layers.normalization_v2.BatchNormalization at 0x2b30999c7700>,\n",
       " <tensorflow.python.keras.layers.convolutional.Cropping1D at 0x2b30999c7fd0>,\n",
       " <tensorflow.python.keras.layers.convolutional.Conv1D at 0x2b30999c7ca0>,\n",
       " <tensorflow.python.keras.layers.merge.Add at 0x2b30999ce7c0>,\n",
       " <tensorflow.python.keras.layers.advanced_activations.ReLU at 0x2b30999ce730>,\n",
       " <tensorflow.python.keras.layers.normalization_v2.BatchNormalization at 0x2b30999cea30>,\n",
       " <tensorflow.python.keras.layers.convolutional.Conv1D at 0x2b30999cefd0>,\n",
       " <tensorflow.python.keras.layers.advanced_activations.ReLU at 0x2b30999d3340>,\n",
       " <tensorflow.python.keras.layers.normalization_v2.BatchNormalization at 0x2b30999d36d0>,\n",
       " <tensorflow.python.keras.layers.convolutional.Cropping1D at 0x2b30999d3d90>,\n",
       " <tensorflow.python.keras.layers.convolutional.Conv1D at 0x2b30999d3ca0>,\n",
       " <tensorflow.python.keras.layers.merge.Add at 0x2b30999d5490>,\n",
       " <tensorflow.python.keras.layers.advanced_activations.ReLU at 0x2b30999d3e50>,\n",
       " <tensorflow.python.keras.layers.normalization_v2.BatchNormalization at 0x2b30999d5700>,\n",
       " <tensorflow.python.keras.layers.convolutional.Conv1D at 0x2b30999d59d0>,\n",
       " <tensorflow.python.keras.layers.advanced_activations.ReLU at 0x2b30999d5fd0>,\n",
       " <tensorflow.python.keras.layers.normalization_v2.BatchNormalization at 0x2b30999dc3a0>,\n",
       " <tensorflow.python.keras.layers.convolutional.Cropping1D at 0x2b30999dca60>,\n",
       " <tensorflow.python.keras.layers.convolutional.Conv1D at 0x2b30999dc970>,\n",
       " <tensorflow.python.keras.layers.merge.Add at 0x2b30999df160>,\n",
       " <tensorflow.python.keras.layers.advanced_activations.ReLU at 0x2b30999dce20>,\n",
       " <tensorflow.python.keras.layers.normalization_v2.BatchNormalization at 0x2b30999df3d0>,\n",
       " <tensorflow.python.keras.layers.convolutional.Conv1D at 0x2b30999df6a0>,\n",
       " <tensorflow.python.keras.layers.advanced_activations.ReLU at 0x2b30999dfca0>,\n",
       " <tensorflow.python.keras.layers.normalization_v2.BatchNormalization at 0x2b30999dff10>,\n",
       " <tensorflow.python.keras.layers.convolutional.Cropping1D at 0x2b30999e4730>,\n",
       " <tensorflow.python.keras.layers.convolutional.Conv1D at 0x2b30999e4640>,\n",
       " <tensorflow.python.keras.layers.merge.Add at 0x2b30999e4df0>,\n",
       " <tensorflow.python.keras.layers.advanced_activations.ReLU at 0x2b30999e4d60>,\n",
       " <tensorflow.python.keras.layers.normalization_v2.BatchNormalization at 0x2b30999e4d30>,\n",
       " <tensorflow.python.keras.layers.convolutional.Conv1D at 0x2b30999e8370>,\n",
       " <tensorflow.python.keras.layers.advanced_activations.ReLU at 0x2b30999e8970>,\n",
       " <tensorflow.python.keras.layers.normalization_v2.BatchNormalization at 0x2b30999e8d00>,\n",
       " <tensorflow.python.keras.layers.convolutional.Cropping1D at 0x2b30999e8ee0>,\n",
       " <tensorflow.python.keras.layers.convolutional.Conv1D at 0x2b30999e8fa0>,\n",
       " <tensorflow.python.keras.layers.merge.Add at 0x2b30999eeac0>,\n",
       " <tensorflow.python.keras.layers.advanced_activations.ReLU at 0x2b30999eea30>,\n",
       " <tensorflow.python.keras.layers.normalization_v2.BatchNormalization at 0x2b30999eed30>,\n",
       " <tensorflow.python.keras.layers.convolutional.Conv1D at 0x2b30999eef40>,\n",
       " <tensorflow.python.keras.layers.convolutional.Conv1D at 0x2b30999f5640>,\n",
       " <tensorflow.python.keras.layers.advanced_activations.ReLU at 0x2b30999f5b80>,\n",
       " <tensorflow.python.keras.layers.convolutional.Cropping1D at 0x2b30999f5df0>,\n",
       " <tensorflow.python.keras.layers.normalization_v2.BatchNormalization at 0x2b30999f5f10>,\n",
       " <tensorflow.python.keras.layers.convolutional.Cropping1D at 0x2b30999f97f0>,\n",
       " <tensorflow.python.keras.layers.convolutional.Conv1D at 0x2b30999f9700>,\n",
       " <tensorflow.python.keras.layers.merge.Add at 0x2b30999f9eb0>,\n",
       " <tensorflow.python.keras.layers.advanced_activations.ReLU at 0x2b30999f9e20>,\n",
       " <tensorflow.python.keras.layers.normalization_v2.BatchNormalization at 0x2b30999f9df0>,\n",
       " <tensorflow.python.keras.layers.convolutional.Conv1D at 0x2b3099a00430>,\n",
       " <tensorflow.python.keras.layers.advanced_activations.ReLU at 0x2b3099a00a30>,\n",
       " <tensorflow.python.keras.layers.normalization_v2.BatchNormalization at 0x2b3099a00dc0>,\n",
       " <tensorflow.python.keras.layers.convolutional.Cropping1D at 0x2b3099a00fa0>,\n",
       " <tensorflow.python.keras.layers.convolutional.Conv1D at 0x2b3099a00fd0>,\n",
       " <tensorflow.python.keras.layers.merge.Add at 0x2b3099a05b80>,\n",
       " <tensorflow.python.keras.layers.advanced_activations.ReLU at 0x2b3099a05af0>,\n",
       " <tensorflow.python.keras.layers.normalization_v2.BatchNormalization at 0x2b3099a05df0>,\n",
       " <tensorflow.python.keras.layers.convolutional.Conv1D at 0x2b3099a09100>,\n",
       " <tensorflow.python.keras.layers.advanced_activations.ReLU at 0x2b3099a09700>,\n",
       " <tensorflow.python.keras.layers.normalization_v2.BatchNormalization at 0x2b3099a09a90>,\n",
       " <tensorflow.python.keras.layers.convolutional.Cropping1D at 0x2b3099a09fa0>,\n",
       " <tensorflow.python.keras.layers.convolutional.Conv1D at 0x2b3099a09d30>,\n",
       " <tensorflow.python.keras.layers.merge.Add at 0x2b3099a0f850>,\n",
       " <tensorflow.python.keras.layers.advanced_activations.ReLU at 0x2b3099a0f7c0>,\n",
       " <tensorflow.python.keras.layers.normalization_v2.BatchNormalization at 0x2b3099a0fac0>,\n",
       " <tensorflow.python.keras.layers.convolutional.Conv1D at 0x2b3099a0ffa0>,\n",
       " <tensorflow.python.keras.layers.advanced_activations.ReLU at 0x2b3099a14400>,\n",
       " <tensorflow.python.keras.layers.normalization_v2.BatchNormalization at 0x2b3099a14790>,\n",
       " <tensorflow.python.keras.layers.convolutional.Cropping1D at 0x2b3099a14e50>,\n",
       " <tensorflow.python.keras.layers.convolutional.Conv1D at 0x2b3099a14d60>,\n",
       " <tensorflow.python.keras.layers.merge.Add at 0x2b3099a18550>,\n",
       " <tensorflow.python.keras.layers.advanced_activations.ReLU at 0x2b3099a14f10>,\n",
       " <tensorflow.python.keras.layers.normalization_v2.BatchNormalization at 0x2b3099a187c0>,\n",
       " <tensorflow.python.keras.layers.convolutional.Conv1D at 0x2b3099a18a90>,\n",
       " <tensorflow.python.keras.layers.advanced_activations.ReLU at 0x2b3099a18f70>,\n",
       " <tensorflow.python.keras.layers.normalization_v2.BatchNormalization at 0x2b3099a1e460>,\n",
       " <tensorflow.python.keras.layers.convolutional.Cropping1D at 0x2b3099a1eb20>,\n",
       " <tensorflow.python.keras.layers.convolutional.Conv1D at 0x2b3099a1ea30>,\n",
       " <tensorflow.python.keras.layers.merge.Add at 0x2b3099a23220>,\n",
       " <tensorflow.python.keras.layers.advanced_activations.ReLU at 0x2b3099a1eee0>,\n",
       " <tensorflow.python.keras.layers.normalization_v2.BatchNormalization at 0x2b3099a23490>,\n",
       " <tensorflow.python.keras.layers.convolutional.Conv1D at 0x2b3099a23760>,\n",
       " <tensorflow.python.keras.layers.convolutional.Conv1D at 0x2b3099a23fa0>,\n",
       " <tensorflow.python.keras.layers.advanced_activations.ReLU at 0x2b3099a282e0>,\n",
       " <tensorflow.python.keras.layers.convolutional.Cropping1D at 0x2b3099a287f0>,\n",
       " <tensorflow.python.keras.layers.normalization_v2.BatchNormalization at 0x2b3099a28550>,\n",
       " <tensorflow.python.keras.layers.convolutional.Cropping1D at 0x2b3099a28f10>,\n",
       " <tensorflow.python.keras.layers.convolutional.Conv1D at 0x2b3099a28f40>,\n",
       " <tensorflow.python.keras.layers.merge.Add at 0x2b3099a2d610>,\n",
       " <tensorflow.python.keras.layers.advanced_activations.ReLU at 0x2b3099a2d580>,\n",
       " <tensorflow.python.keras.layers.normalization_v2.BatchNormalization at 0x2b3099a2d880>,\n",
       " <tensorflow.python.keras.layers.convolutional.Conv1D at 0x2b3099a2db50>,\n",
       " <tensorflow.python.keras.layers.advanced_activations.ReLU at 0x2b3099a2de80>,\n",
       " <tensorflow.python.keras.layers.normalization_v2.BatchNormalization at 0x2b3099a31520>,\n",
       " <tensorflow.python.keras.layers.convolutional.Cropping1D at 0x2b3099a31be0>,\n",
       " <tensorflow.python.keras.layers.convolutional.Conv1D at 0x2b3099a31af0>,\n",
       " <tensorflow.python.keras.layers.merge.Add at 0x2b3099a392e0>,\n",
       " <tensorflow.python.keras.layers.advanced_activations.ReLU at 0x2b3099a31fa0>,\n",
       " <tensorflow.python.keras.layers.normalization_v2.BatchNormalization at 0x2b3099a39550>,\n",
       " <tensorflow.python.keras.engine.input_layer.InputLayer at 0x2b3099a39820>,\n",
       " <tensorflow.python.keras.layers.pooling.GlobalAveragePooling1D at 0x2b3099a39fd0>,\n",
       " <tensorflow.python.keras.layers.core.Dense at 0x2b3099a39d30>,\n",
       " <tensorflow.python.keras.layers.core.Dropout at 0x2b3099a3e280>,\n",
       " <tensorflow.python.keras.layers.core.Dense at 0x2b3099a3e5b0>]"
      ]
     },
     "execution_count": 6,
     "metadata": {},
     "output_type": "execute_result"
    }
   ],
   "source": [
    "model.layers"
   ]
  },
  {
   "cell_type": "code",
   "execution_count": 7,
   "id": "b20ca8c0",
   "metadata": {
    "ExecuteTime": {
     "end_time": "2022-01-20T16:49:22.972959Z",
     "start_time": "2022-01-20T16:49:22.935069Z"
    }
   },
   "outputs": [],
   "source": [
    "middle_output = Model(inputs=model.input, outputs=model.layers[-6].output)"
   ]
  },
  {
   "cell_type": "code",
   "execution_count": 8,
   "id": "46a56366",
   "metadata": {
    "ExecuteTime": {
     "end_time": "2022-01-20T16:49:23.006189Z",
     "start_time": "2022-01-20T16:49:22.974084Z"
    }
   },
   "outputs": [],
   "source": [
    "# mask_output = Model(inputs=model.input, outputs=model.layers[-5].output)"
   ]
  },
  {
   "cell_type": "code",
   "execution_count": 9,
   "id": "4f32f10c",
   "metadata": {
    "ExecuteTime": {
     "end_time": "2022-01-20T16:49:23.043961Z",
     "start_time": "2022-01-20T16:49:23.007886Z"
    }
   },
   "outputs": [],
   "source": [
    "# weights = model.layers[-1].get_weights()\n",
    "# were used when only one dense layer"
   ]
  },
  {
   "cell_type": "code",
   "execution_count": 10,
   "id": "37da84bc",
   "metadata": {
    "ExecuteTime": {
     "end_time": "2022-01-20T16:49:23.079610Z",
     "start_time": "2022-01-20T16:49:23.045080Z"
    }
   },
   "outputs": [],
   "source": [
    "joint_line = ''\n",
    "\n",
    "joint_line += ' --features'\n",
    "features_set17=\" ref_base num_query_A num_query_C num_query_G num_query_T num_SNPs num_proper_Match num_orphans_Match mean_al_score_Match coverage stdev_insert_size_Match max_insert_size_Match mean_mapq_Match min_mapq_Match\"\n",
    "features_set_D = \" ref_base num_query_A num_query_C num_query_G num_query_T num_SNPs num_proper_Match num_orphans_Match mean_al_score_Match coverage stdev_insert_size_Match mean_mapq_Match\"\n",
    "features_upcov=\" mean_al_score_Match mean_mapq_Match num_orphans_Match mean_insert_size_Match min_al_score_Match num_proper_Match min_insert_size_Match num_proper_SNP coverage\"\n",
    "joint_line += features_upcov\n",
    "\n",
    "joint_line += ' --feature-files-path '\n",
    "joint_line += data_path\n",
    "\n",
    "joint_line += ' --stats-file '\n",
    "joint_line += stats_file\n",
    "\n",
    "joint_line += ' --mask-padding'\n",
    "joint_line += ' --binary-data '"
   ]
  },
  {
   "cell_type": "code",
   "execution_count": 11,
   "id": "c90c59f0",
   "metadata": {
    "ExecuteTime": {
     "end_time": "2022-01-20T16:49:23.120384Z",
     "start_time": "2022-01-20T16:49:23.081325Z"
    }
   },
   "outputs": [],
   "source": [
    "args = parse_args().parse_args(joint_line.split())"
   ]
  },
  {
   "cell_type": "code",
   "execution_count": 12,
   "id": "52934a3f",
   "metadata": {
    "ExecuteTime": {
     "end_time": "2022-01-20T16:49:23.159247Z",
     "start_time": "2022-01-20T16:49:23.121479Z"
    }
   },
   "outputs": [
    {
     "data": {
      "text/plain": [
       "Namespace(model='/cluster/home/omineeva/ResMiCo/resmico/model/fl_all_model.h5', batch_size=100, sdepth=None, rich=None, filter10=False, rep10=False, method_pred='chunks', min_len=1000, mem_lim=500000, window=5000, v1=False, longdir=False, embeddings=False, emb_ind=0, binary_data=True, gpu_eval_mem_gb=3.0, val_ind_f=None, chunks=False, log_level='INFO', no_cython=False, seed=12, n_procs=1, max_len=10000, save_path='.', save_name='resmico', feature_files_path='/cluster/home/omineeva/global_projects/projects/projects2019-contig_quality/data/v2/resmico-sm/GTDBr202_n9k_novel-family_test/features/0.111111/mean-10-sigma-1/1/100/2000000/metaspades/', feature_file_table='', technology='all-asmbl', big_data=False, features=['mean_al_score_Match', 'mean_mapq_Match', 'num_orphans_Match', 'mean_insert_size_Match', 'min_al_score_Match', 'num_proper_Match', 'min_insert_size_Match', 'num_proper_SNP', 'coverage'], stats_file='/cluster/home/omineeva/global_projects/projects/projects2019-contig_quality//data/v2/resmico-sm/GTDBr202_n9k_train_1rep/features/stats.json', mask_padding=True, min_avg_coverage=1.0, feature_file_match='')"
      ]
     },
     "execution_count": 12,
     "metadata": {},
     "output_type": "execute_result"
    }
   ],
   "source": [
    "args"
   ]
  },
  {
   "cell_type": "code",
   "execution_count": 13,
   "id": "3eaa1d58",
   "metadata": {
    "ExecuteTime": {
     "end_time": "2022-01-20T16:49:23.498976Z",
     "start_time": "2022-01-20T16:49:23.160428Z"
    }
   },
   "outputs": [
    {
     "ename": "AttributeError",
     "evalue": "module 'resmico.models_fl' has no attribute 'get_convoluted_size'",
     "output_type": "error",
     "traceback": [
      "\u001b[0;31m---------------------------------------------------------------------------\u001b[0m",
      "\u001b[0;31mAttributeError\u001b[0m                            Traceback (most recent call last)",
      "\u001b[0;32m/scratch/3795619.tmpdir/ipykernel_140250/3649171308.py\u001b[0m in \u001b[0;36m<module>\u001b[0;34m\u001b[0m\n\u001b[1;32m      1\u001b[0m \u001b[0;32mif\u001b[0m \u001b[0margs\u001b[0m\u001b[0;34m.\u001b[0m\u001b[0mmask_padding\u001b[0m\u001b[0;34m:\u001b[0m\u001b[0;34m\u001b[0m\u001b[0;34m\u001b[0m\u001b[0m\n\u001b[0;32m----> 2\u001b[0;31m     \u001b[0mconvoluted_size\u001b[0m \u001b[0;34m=\u001b[0m \u001b[0mModels\u001b[0m\u001b[0;34m.\u001b[0m\u001b[0mget_convoluted_size\u001b[0m\u001b[0;34m(\u001b[0m\u001b[0mmodel\u001b[0m\u001b[0;34m)\u001b[0m\u001b[0;34m\u001b[0m\u001b[0;34m\u001b[0m\u001b[0m\n\u001b[0m\u001b[1;32m      3\u001b[0m \u001b[0;32melse\u001b[0m\u001b[0;34m:\u001b[0m  \u001b[0;31m# when not padding, the convoluted size is unused\u001b[0m\u001b[0;34m\u001b[0m\u001b[0;34m\u001b[0m\u001b[0m\n\u001b[1;32m      4\u001b[0m     \u001b[0mconvoluted_size\u001b[0m \u001b[0;34m=\u001b[0m \u001b[0;32mlambda\u001b[0m \u001b[0mlen\u001b[0m\u001b[0;34m,\u001b[0m \u001b[0mpad\u001b[0m\u001b[0;34m:\u001b[0m \u001b[0;36m0\u001b[0m\u001b[0;34m\u001b[0m\u001b[0;34m\u001b[0m\u001b[0m\n",
      "\u001b[0;31mAttributeError\u001b[0m: module 'resmico.models_fl' has no attribute 'get_convoluted_size'"
     ]
    }
   ],
   "source": [
    "if args.mask_padding:\n",
    "    convoluted_size = Models.get_convoluted_size(model)\n",
    "else:  # when not padding, the convoluted size is unused\n",
    "    convoluted_size = lambda len, pad: 0"
   ]
  },
  {
   "cell_type": "code",
   "execution_count": null,
   "id": "a8e6018b",
   "metadata": {
    "ExecuteTime": {
     "end_time": "2022-01-20T16:45:54.145604Z",
     "start_time": "2022-01-20T16:45:54.092533Z"
    }
   },
   "outputs": [],
   "source": [
    "reader = contig_reader.ContigReader(args.feature_files_path, args.features, args.n_procs, args.chunks,\n",
    "                                    args.no_cython, args.stats_file, args.min_len)"
   ]
  },
  {
   "cell_type": "code",
   "execution_count": null,
   "id": "63eacb2f",
   "metadata": {
    "ExecuteTime": {
     "end_time": "2022-01-13T18:56:29.656342Z",
     "start_time": "2022-01-13T18:56:29.617828Z"
    }
   },
   "outputs": [],
   "source": [
    "# eval_idx = []\n",
    "# for ind, contig in enumerate(reader.contigs):\n",
    "# #     if contig.length > 3000 and contig.length < 4000 and contig.misassembly == 0: \n",
    "# #     if contig.length > 1700 and contig.misassembly == 1: \n",
    "# #     if contig.name == 'NODE_1576_length_1934_cov_1.551357':\n",
    "#     if ind in set([163, 5461, 5500, 5510]):\n",
    "# #         print (ind)\n",
    "#         print(contig.name)\n",
    "# #  'NODE_2209_length_1631_cov_1.418147', wrong prediction +, averageD +\n",
    "# #  'NODE_1219_length_2221_cov_2.613573', wrong -, averageD +\n",
    "# #  'NODE_2868_length_1433_cov_2.236575', correct +, averageD +\n",
    "# #  'NODE_4888_length_1087_cov_1.323643'  wrong -\n",
    "#         eval_idx.append(ind)   "
   ]
  },
  {
   "cell_type": "code",
   "execution_count": null,
   "id": "a7e283ef",
   "metadata": {
    "ExecuteTime": {
     "end_time": "2022-01-13T18:56:31.192859Z",
     "start_time": "2022-01-13T18:56:31.161320Z"
    }
   },
   "outputs": [],
   "source": [
    "#need to be selected based on the story we want to tell here\n",
    "eval_idx = [5616, 5045, 3615, 3169]\n",
    "# plot1: [5616, 5045, 3615, 3169]\n",
    "#plot2 [163, 311, 851, 1174] #5663  163, 5461, 5500, 5510"
   ]
  },
  {
   "cell_type": "code",
   "execution_count": null,
   "id": "ec014575",
   "metadata": {
    "ExecuteTime": {
     "end_time": "2022-01-13T18:56:32.837593Z",
     "start_time": "2022-01-13T18:56:32.798727Z"
    }
   },
   "outputs": [],
   "source": [
    "predict_data = Models.BinaryDatasetEval(reader, eval_idx, args.features, args.max_len, max(250, args.max_len-500),\n",
    "                                        int(args.gpu_eval_mem_gb * 1e9 * 0.8), cache_results=False,\n",
    "                                        show_progress=False, convoluted_size=convoluted_size, pad_to_max_len=False)"
   ]
  },
  {
   "cell_type": "code",
   "execution_count": null,
   "id": "9605da05",
   "metadata": {
    "ExecuteTime": {
     "end_time": "2022-01-13T18:56:34.689842Z",
     "start_time": "2022-01-13T18:56:34.619357Z"
    }
   },
   "outputs": [],
   "source": [
    "preds = predict_data.__getitem__(0)"
   ]
  },
  {
   "cell_type": "code",
   "execution_count": null,
   "id": "a5558392",
   "metadata": {
    "ExecuteTime": {
     "end_time": "2022-01-13T18:56:35.158035Z",
     "start_time": "2022-01-13T18:56:35.119595Z"
    }
   },
   "outputs": [],
   "source": [
    "sum(preds[0][1][0]), len(preds[0][1][0])"
   ]
  },
  {
   "cell_type": "code",
   "execution_count": null,
   "id": "8d5daa44",
   "metadata": {
    "ExecuteTime": {
     "end_time": "2022-01-13T18:56:41.395378Z",
     "start_time": "2022-01-13T18:56:41.358611Z"
    }
   },
   "outputs": [],
   "source": [
    "# convert the slow Keras predict_data of type Sequence to a tf.data object\n",
    "data_iter = lambda: (s for s in predict_data)\n",
    "\n",
    "predict_data_tf = tf.data.Dataset.from_generator(\n",
    "    data_iter,\n",
    "    output_signature=(\n",
    "        # first dimension is batch size, second is contig length, third is number of features\n",
    "        (tf.TensorSpec(shape=(None, None, len(predict_data.expanded_feature_names)), dtype=tf.float32),\n",
    "         # first dimension is batch size, second is contig length (no third dimension,\n",
    "         # as all features are masked the same way)\n",
    "         tf.TensorSpec(shape=(None, None), dtype=tf.bool)),\n",
    "        tf.TensorSpec(shape=(None), dtype=tf.bool)\n",
    "    ))\n",
    "\n",
    "options = tf.data.Options()\n",
    "options.experimental_distribute.auto_shard_policy = tf.data.experimental.AutoShardPolicy.DATA\n",
    "predict_data_tf = predict_data_tf.with_options(options)  # avoids Tensorflow ugly console barf"
   ]
  },
  {
   "cell_type": "code",
   "execution_count": null,
   "id": "11932bf9",
   "metadata": {
    "ExecuteTime": {
     "end_time": "2022-01-13T18:56:42.104658Z",
     "start_time": "2022-01-13T18:56:42.069526Z"
    }
   },
   "outputs": [],
   "source": [
    "eval_data_flat_y = model.predict(x=predict_data_tf,\n",
    "                                 workers=args.n_procs,\n",
    "                                 use_multiprocessing=False,\n",
    "                                 max_queue_size=max(args.n_procs, 10),\n",
    "                                 verbose=1)\n",
    "eval_data_predicted_min = predict_data.group(eval_data_flat_y, min)\n",
    "eval_data_predicted_mean = predict_data.group(eval_data_flat_y, np.mean)\n",
    "eval_data_predicted_std = predict_data.group(eval_data_flat_y, np.std)\n",
    "# eval_data_predicted_max = round(predict_data.group(eval_data_flat_y, max)[0], 3)\n",
    "eval_data_predicted_max = predict_data.group(eval_data_flat_y, max) #use this if >1 contig\n",
    "eval_data_predicted_max"
   ]
  },
  {
   "cell_type": "code",
   "execution_count": null,
   "id": "45417f8e",
   "metadata": {
    "ExecuteTime": {
     "end_time": "2022-01-12T18:33:04.854035Z",
     "start_time": "2022-01-12T18:33:04.808225Z"
    }
   },
   "outputs": [],
   "source": [
    "# mask_y = mask_output.predict(x=predict_data_tf,\n",
    "#                                  workers=args.n_procs,\n",
    "#                                  use_multiprocessing=False,\n",
    "#                                  max_queue_size=max(args.n_procs, 10),\n",
    "#                                  verbose=1)\n",
    "# len(mask_y[0])-sum(mask_y[0])"
   ]
  },
  {
   "cell_type": "code",
   "execution_count": null,
   "id": "04a9d69a",
   "metadata": {
    "ExecuteTime": {
     "end_time": "2022-01-12T18:24:18.995109Z",
     "start_time": "2022-01-12T18:24:18.928692Z"
    }
   },
   "outputs": [],
   "source": [
    "down = 8\n",
    "for breakpoint in reader.contigs[eval_idx[0]].breakpoints:\n",
    "    print(breakpoint[0]/down)\n",
    "print('length: ', reader.contigs[eval_idx[0]].length//down)"
   ]
  },
  {
   "cell_type": "code",
   "execution_count": null,
   "id": "b698403e",
   "metadata": {
    "ExecuteTime": {
     "end_time": "2022-01-12T18:24:19.858144Z",
     "start_time": "2022-01-12T18:24:19.808504Z"
    }
   },
   "outputs": [],
   "source": [
    "savefig_path=project_path+'Outputs/figures'"
   ]
  },
  {
   "cell_type": "markdown",
   "id": "aca78a87",
   "metadata": {
    "ExecuteTime": {
     "end_time": "2022-01-04T21:03:48.006978Z",
     "start_time": "2022-01-04T21:03:47.975884Z"
    }
   },
   "source": [
    "#examples to show in main part: two misassembly correctly classified, \n",
    "                                two wrongly classified misassembly: correct spike, wrong spike position\n",
    "                                \n",
    "                                \n",
    "#suppliment: two correctly classified good contigs: without spikes, with spike\n",
    "             two false positives"
   ]
  },
  {
   "cell_type": "code",
   "execution_count": null,
   "id": "9092bbda",
   "metadata": {
    "ExecuteTime": {
     "end_time": "2022-01-12T18:27:34.268746Z",
     "start_time": "2022-01-12T18:27:34.217295Z"
    }
   },
   "outputs": [],
   "source": [
    "#try just sum for a new model\n",
    "def posargmax(ind):\n",
    "    length = reader.contigs[eval_idx[ind]].length//down - 45 #TODO: update with a new mask\n",
    "    mask = len(eval_data_flat_y[ind].T[0]) - length\n",
    "    pos_kernel = np.zeros(length)\n",
    "    for i, kernel in enumerate(eval_data_flat_y[ind].T):\n",
    "        pos_kernel[np.argmax(kernel[:-mask])]+=max(kernel[:-mask])  \n",
    "\n",
    "    return pos_kernel\n",
    "\n",
    "def bp(ind):\n",
    "    return reader.contigs[eval_idx[ind]].breakpoints[0][0]//8 - 45\n",
    "\n",
    "def text_cont(ind):\n",
    "    return 'label: ' + str(reader.contigs[eval_idx[ind]].misassembly) + \\\n",
    "            '\\n'+ 'resmico score: ' + str(round(eval_data_predicted_max[ind], 3)) "
   ]
  },
  {
   "cell_type": "code",
   "execution_count": null,
   "id": "28c2461c",
   "metadata": {
    "ExecuteTime": {
     "end_time": "2022-01-11T15:29:58.388306Z",
     "start_time": "2022-01-11T15:29:58.348099Z"
    }
   },
   "outputs": [],
   "source": [
    "where = os.path.join(savefig_path, \n",
    "                    'bp:'+'_'.join(str(elem) for elem in eval_idx)+\n",
    "                     '.pdf')"
   ]
  },
  {
   "cell_type": "code",
   "execution_count": null,
   "id": "df8a87ea",
   "metadata": {
    "ExecuteTime": {
     "end_time": "2022-01-12T18:27:35.125059Z",
     "start_time": "2022-01-12T18:27:34.697469Z"
    }
   },
   "outputs": [],
   "source": [
    "#\n",
    "fig, axs = plt.subplots(2, 2, sharey=True, figsize=(8, 6))\n",
    "fig.subplots_adjust(wspace=0.1, hspace=0.2)\n",
    "ind = 0\n",
    "axs[0][0].plot(posargmax(ind), 'olive')\n",
    "axs[0][0].scatter(bp(ind), 0, s=100, c='deeppink', marker='o')\n",
    "axs[0][0].text(80, 180, text_cont(ind), fontsize=14)\n",
    "\n",
    "ind = 1\n",
    "axs[0][1].plot(posargmax(ind), 'olive')\n",
    "axs[0][1].scatter(bp(ind), 0, s=100, c='deeppink', marker='o')\n",
    "axs[0][1].text(80, 180, text_cont(ind), fontsize=14)\n",
    "\n",
    "ind = 2\n",
    "axs[1][0].plot(posargmax(ind), 'olive')\n",
    "axs[1][0].scatter(bp(ind), 0, s=100, c='deeppink', marker='o')\n",
    "axs[1][0].text(10, 180, text_cont(ind), fontsize=14)\n",
    "\n",
    "ind = 3\n",
    "axs[1][1].plot(posargmax(ind), 'olive')\n",
    "axs[1][1].scatter(bp(ind), 0, s=100, c='deeppink', marker='o')\n",
    "axs[1][1].text(10, 180, text_cont(ind), fontsize=14)\n",
    "\n",
    "# where = os.path.join(savefig_path, \n",
    "#                     'bp:'+'_'.join(str(elem) for elem in eval_idx)+\n",
    "#                      '.pdf')\n",
    "# plt.savefig(where, \n",
    "#             bbox_inches='tight', format='pdf', dpi=300)\n",
    "# print(where)\n",
    "\n",
    "plt.show()"
   ]
  },
  {
   "cell_type": "code",
   "execution_count": null,
   "id": "01b44753",
   "metadata": {
    "ExecuteTime": {
     "end_time": "2022-01-12T18:28:46.610375Z",
     "start_time": "2022-01-12T18:28:44.729362Z"
    }
   },
   "outputs": [],
   "source": [
    "#good contigs\n",
    "#subplots: share y axis, cut to the actual length\n",
    "fig, axs = plt.subplots(2, 2, sharey=True, figsize=(8, 6))\n",
    "\n",
    "ind = 0\n",
    "axs[0][0].plot(posargmax(ind), 'olive')\n",
    "axs[0][0].text(10, 180, text_cont(ind), fontsize=14)\n",
    "\n",
    "ind = 1\n",
    "axs[0][1].plot(posargmax(ind), 'olive')\n",
    "axs[0][1].text(10, 180, text_cont(ind), fontsize=14)\n",
    "\n",
    "ind = 2\n",
    "axs[1][0].plot(posargmax(ind), 'olive')\n",
    "axs[1][0].text(10, 180, text_cont(ind), fontsize=14)\n",
    "\n",
    "ind = 3\n",
    "axs[1][1].plot(posargmax(ind), 'olive')\n",
    "axs[1][1].text(10, 180, text_cont(ind), fontsize=14)\n"
   ]
  },
  {
   "cell_type": "code",
   "execution_count": null,
   "id": "c59729bb",
   "metadata": {},
   "outputs": [],
   "source": []
  },
  {
   "cell_type": "code",
   "execution_count": null,
   "id": "c06a15a2",
   "metadata": {},
   "outputs": [],
   "source": []
  },
  {
   "cell_type": "code",
   "execution_count": null,
   "id": "9420a8dd",
   "metadata": {},
   "outputs": [],
   "source": []
  }
 ],
 "metadata": {
  "kernelspec": {
   "display_name": "resmico",
   "language": "python",
   "name": "resmico"
  },
  "language_info": {
   "codemirror_mode": {
    "name": "ipython",
    "version": 3
   },
   "file_extension": ".py",
   "mimetype": "text/x-python",
   "name": "python",
   "nbconvert_exporter": "python",
   "pygments_lexer": "ipython3",
   "version": "3.9.7"
  }
 },
 "nbformat": 4,
 "nbformat_minor": 5
}
