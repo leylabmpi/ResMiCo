{
 "cells": [
  {
   "cell_type": "markdown",
   "id": "11a8e1c4",
   "metadata": {},
   "source": [
    "1. load the best model and give the last BatchNormalization layer index as output\n",
    "2. define datapath (only a couple of contigs will be used)\n",
    "3. in args: set features and stats file"
   ]
  },
  {
   "cell_type": "code",
   "execution_count": 1,
   "id": "8221cc0d",
   "metadata": {
    "ExecuteTime": {
     "end_time": "2022-02-06T13:38:56.860250Z",
     "start_time": "2022-02-06T13:38:56.837127Z"
    }
   },
   "outputs": [],
   "source": [
    "%load_ext autoreload\n",
    "%autoreload 2"
   ]
  },
  {
   "cell_type": "code",
   "execution_count": 2,
   "id": "b9676a13",
   "metadata": {
    "ExecuteTime": {
     "end_time": "2022-02-06T13:39:00.780171Z",
     "start_time": "2022-02-06T13:38:57.036742Z"
    }
   },
   "outputs": [
    {
     "name": "stderr",
     "output_type": "stream",
     "text": [
      "2022-02-06 14:38:57.849593: I tensorflow/stream_executor/platform/default/dso_loader.cc:49] Successfully opened dynamic library libcudart.so.10.1\n"
     ]
    }
   ],
   "source": [
    "import numpy as np\n",
    "import os\n",
    "np.random.seed(5)\n",
    "import pandas as pd\n",
    "import time\n",
    "from tensorflow.keras.models import load_model\n",
    "from tensorflow.keras.models import Model\n",
    "import tensorflow as tf"
   ]
  },
  {
   "cell_type": "code",
   "execution_count": 3,
   "id": "a5fb1e2a",
   "metadata": {
    "ExecuteTime": {
     "end_time": "2022-02-06T13:39:02.179175Z",
     "start_time": "2022-02-06T13:39:00.784050Z"
    }
   },
   "outputs": [],
   "source": [
    "import sys\n",
    "sys.path.insert(1, '/cluster/home/omineeva/ResMiCo')\n",
    "from resmico import contig_reader\n",
    "from resmico import utils\n",
    "from resmico import models_fl as Models\n",
    "from resmico.commands.evaluate import parse_args\n",
    "import matplotlib.pyplot as plt\n",
    "%matplotlib inline"
   ]
  },
  {
   "cell_type": "code",
   "execution_count": 4,
   "id": "dc8c43cf",
   "metadata": {
    "ExecuteTime": {
     "end_time": "2022-02-06T13:39:02.278025Z",
     "start_time": "2022-02-06T13:39:02.181773Z"
    }
   },
   "outputs": [],
   "source": [
    "import seaborn as sns\n",
    "colors = ['#4daf4a', '#e41a1c',  '#377eb8', '#984ea3', '#ff7f00', '#ffff33']\n",
    "sns.set(font_scale=1.2, style=\"whitegrid\", palette=sns.color_palette(colors))"
   ]
  },
  {
   "cell_type": "code",
   "execution_count": 5,
   "id": "f47e4ea3",
   "metadata": {
    "ExecuteTime": {
     "end_time": "2022-02-06T13:39:02.327416Z",
     "start_time": "2022-02-06T13:39:02.282180Z"
    }
   },
   "outputs": [],
   "source": [
    "project_path = '/cluster/home/omineeva/global_projects/projects/projects2019-contig_quality/'\n",
    "\n",
    "data_path = project_path + \\\n",
    "            'data/v2/resmico-sm/GTDBr202_n9k_novel-family_test/features/' + \\\n",
    "            '0.111111/mean-10-sigma-1/1/100/2000000/metaspades/'\n",
    "\n",
    "stats_file = project_path + \\\n",
    "            '/data/v2/resmico-sm/GTDBr202_n9k_train/' + \\\n",
    "            'stats.json'\n",
    "\n",
    "# model_name = project_path + 'Outputs/mc_epoch_40_aucPR_0.605_mask-111-gpu2-d02-fl16-nblo4_model.h5'\n",
    "# model_name = '/cluster/home/ddanciu/tmp/mc_epoch_30_aucPR_0.660_resmico_model.h5'\n",
    "# model_name = '/cluster/home/ddanciu/tmp/mc_epoch_28_aucPR_0.657_resmico_model.h5'\n",
    "# model_name = '/cluster/home/ddanciu/tmp/mc_epoch_46_aucPR_0.647_resmico_model.h5' \n",
    "# model_name = project_path +'/Outputs/mc_epoch_44_aucPR_0.685_upcov-111-d02-fl16-nblo4_model.h5'\n",
    "model_name = project_path + '/Outputs/mc_epoch_40_aucPR_0.727_resmico_10000_2022-01-20_09-30-25_model.h5'"
   ]
  },
  {
   "cell_type": "code",
   "execution_count": 6,
   "id": "37e8d41a",
   "metadata": {
    "ExecuteTime": {
     "end_time": "2022-02-06T13:39:03.592513Z",
     "start_time": "2022-02-06T13:39:02.328957Z"
    }
   },
   "outputs": [
    {
     "name": "stderr",
     "output_type": "stream",
     "text": [
      "2022-02-06 14:39:02.468603: I tensorflow/compiler/jit/xla_cpu_device.cc:41] Not creating XLA devices, tf_xla_enable_xla_devices not set\n",
      "2022-02-06 14:39:02.470810: I tensorflow/stream_executor/platform/default/dso_loader.cc:49] Successfully opened dynamic library libcuda.so.1\n",
      "2022-02-06 14:39:02.485712: E tensorflow/stream_executor/cuda/cuda_driver.cc:328] failed call to cuInit: CUDA_ERROR_NO_DEVICE: no CUDA-capable device is detected\n",
      "2022-02-06 14:39:02.485752: I tensorflow/stream_executor/cuda/cuda_diagnostics.cc:169] retrieving CUDA diagnostic information for host: le-g3-007\n",
      "2022-02-06 14:39:02.485761: I tensorflow/stream_executor/cuda/cuda_diagnostics.cc:176] hostname: le-g3-007\n",
      "2022-02-06 14:39:02.485949: I tensorflow/stream_executor/cuda/cuda_diagnostics.cc:200] libcuda reported version is: 450.80.2\n",
      "2022-02-06 14:39:02.486000: I tensorflow/stream_executor/cuda/cuda_diagnostics.cc:204] kernel reported version is: 450.80.2\n",
      "2022-02-06 14:39:02.486007: I tensorflow/stream_executor/cuda/cuda_diagnostics.cc:310] kernel version seems to match DSO: 450.80.2\n",
      "2022-02-06 14:39:02.486548: I tensorflow/core/platform/cpu_feature_guard.cc:142] This TensorFlow binary is optimized with oneAPI Deep Neural Network Library (oneDNN) to use the following CPU instructions in performance-critical operations:  SSE4.1 SSE4.2 AVX AVX2 FMA\n",
      "To enable them in other operations, rebuild TensorFlow with the appropriate compiler flags.\n",
      "2022-02-06 14:39:02.486857: I tensorflow/compiler/jit/xla_gpu_device.cc:99] Not creating XLA devices, tf_xla_enable_xla_devices not set\n"
     ]
    }
   ],
   "source": [
    "custom_obj = {'class_recall_0': utils.class_recall_0, 'class_recall_1': utils.class_recall_1,\n",
    "              'GlobalMaskedMaxPooling1D': Models.GlobalMaskedMaxPooling1D}\n",
    "\n",
    "\n",
    "model = load_model(model_name, custom_objects=custom_obj)"
   ]
  },
  {
   "cell_type": "code",
   "execution_count": 7,
   "id": "1fb6d98a",
   "metadata": {
    "ExecuteTime": {
     "end_time": "2022-02-06T13:39:03.649804Z",
     "start_time": "2022-02-06T13:39:03.596085Z"
    }
   },
   "outputs": [
    {
     "data": {
      "text/plain": [
       "[<tensorflow.python.keras.engine.input_layer.InputLayer at 0x2b6bf0a7b040>,\n",
       " <tensorflow.python.keras.layers.normalization_v2.BatchNormalization at 0x2b6bf0a95f40>,\n",
       " <tensorflow.python.keras.layers.convolutional.Conv1D at 0x2b6bf0aae3d0>,\n",
       " <tensorflow.python.keras.layers.advanced_activations.ReLU at 0x2b6bf0aae940>,\n",
       " <tensorflow.python.keras.layers.normalization_v2.BatchNormalization at 0x2b6bf0aaecd0>,\n",
       " <tensorflow.python.keras.layers.convolutional.Conv1D at 0x2b6bf0aaeee0>,\n",
       " <tensorflow.python.keras.layers.advanced_activations.ReLU at 0x2b6bf0d4c5e0>,\n",
       " <tensorflow.python.keras.layers.normalization_v2.BatchNormalization at 0x2b6bf0d4c970>,\n",
       " <tensorflow.python.keras.layers.convolutional.Cropping1D at 0x2b6bf0d4cfa0>,\n",
       " <tensorflow.python.keras.layers.convolutional.Conv1D at 0x2b6bf0d4cf40>,\n",
       " <tensorflow.python.keras.layers.merge.Add at 0x2b6bf0d51730>,\n",
       " <tensorflow.python.keras.layers.advanced_activations.ReLU at 0x2b6bf0d516a0>,\n",
       " <tensorflow.python.keras.layers.normalization_v2.BatchNormalization at 0x2b6bf0d519a0>,\n",
       " <tensorflow.python.keras.layers.convolutional.Conv1D at 0x2b6bf0d51fa0>,\n",
       " <tensorflow.python.keras.layers.advanced_activations.ReLU at 0x2b6bf0d572b0>,\n",
       " <tensorflow.python.keras.layers.normalization_v2.BatchNormalization at 0x2b6bf0d57640>,\n",
       " <tensorflow.python.keras.layers.convolutional.Cropping1D at 0x2b6bf0d57d00>,\n",
       " <tensorflow.python.keras.layers.convolutional.Conv1D at 0x2b6bf0d57c10>,\n",
       " <tensorflow.python.keras.layers.merge.Add at 0x2b6bf0d5d400>,\n",
       " <tensorflow.python.keras.layers.advanced_activations.ReLU at 0x2b6bf0d57fa0>,\n",
       " <tensorflow.python.keras.layers.normalization_v2.BatchNormalization at 0x2b6bf0d5d670>,\n",
       " <tensorflow.python.keras.layers.convolutional.Conv1D at 0x2b6bf0d5d940>,\n",
       " <tensorflow.python.keras.layers.advanced_activations.ReLU at 0x2b6bf0d5df40>,\n",
       " <tensorflow.python.keras.layers.convolutional.Conv1D at 0x2b6bf0d62310>,\n",
       " <tensorflow.python.keras.layers.normalization_v2.BatchNormalization at 0x2b6bf0d626d0>,\n",
       " <tensorflow.python.keras.layers.convolutional.Cropping1D at 0x2b6bf0d62f10>,\n",
       " <tensorflow.python.keras.layers.convolutional.Conv1D at 0x2b6bf0d62f40>,\n",
       " <tensorflow.python.keras.layers.merge.Add at 0x2b6bf0d66610>,\n",
       " <tensorflow.python.keras.layers.advanced_activations.ReLU at 0x2b6bf0d66580>,\n",
       " <tensorflow.python.keras.layers.normalization_v2.BatchNormalization at 0x2b6bf0d66880>,\n",
       " <tensorflow.python.keras.layers.convolutional.Conv1D at 0x2b6bf0d66b50>,\n",
       " <tensorflow.python.keras.layers.advanced_activations.ReLU at 0x2b6bf0d66e80>,\n",
       " <tensorflow.python.keras.layers.normalization_v2.BatchNormalization at 0x2b6bf0d6b520>,\n",
       " <tensorflow.python.keras.layers.convolutional.Cropping1D at 0x2b6bf0d6bbe0>,\n",
       " <tensorflow.python.keras.layers.convolutional.Conv1D at 0x2b6bf0d6baf0>,\n",
       " <tensorflow.python.keras.layers.merge.Add at 0x2b6bf0d6d2e0>,\n",
       " <tensorflow.python.keras.layers.advanced_activations.ReLU at 0x2b6bf0d6bfa0>,\n",
       " <tensorflow.python.keras.layers.normalization_v2.BatchNormalization at 0x2b6bf0d6d550>,\n",
       " <tensorflow.python.keras.layers.convolutional.Conv1D at 0x2b6bf0d6d820>,\n",
       " <tensorflow.python.keras.layers.advanced_activations.ReLU at 0x2b6bf0d6de20>,\n",
       " <tensorflow.python.keras.layers.normalization_v2.BatchNormalization at 0x2b6bf0d741f0>,\n",
       " <tensorflow.python.keras.layers.convolutional.Cropping1D at 0x2b6bf0d748b0>,\n",
       " <tensorflow.python.keras.layers.convolutional.Conv1D at 0x2b6bf0d747c0>,\n",
       " <tensorflow.python.keras.layers.merge.Add at 0x2b6bf0d74f70>,\n",
       " <tensorflow.python.keras.layers.advanced_activations.ReLU at 0x2b6bf0d74eb0>,\n",
       " <tensorflow.python.keras.layers.normalization_v2.BatchNormalization at 0x2b6bf0d74ee0>,\n",
       " <tensorflow.python.keras.layers.convolutional.Conv1D at 0x2b6bf0d794f0>,\n",
       " <tensorflow.python.keras.layers.advanced_activations.ReLU at 0x2b6bf0d79af0>,\n",
       " <tensorflow.python.keras.layers.normalization_v2.BatchNormalization at 0x2b6bf0d79e80>,\n",
       " <tensorflow.python.keras.layers.convolutional.Cropping1D at 0x2b6bf0d7d580>,\n",
       " <tensorflow.python.keras.layers.convolutional.Conv1D at 0x2b6bf0d7d490>,\n",
       " <tensorflow.python.keras.layers.merge.Add at 0x2b6bf0d7dc40>,\n",
       " <tensorflow.python.keras.layers.advanced_activations.ReLU at 0x2b6bf0d7dbb0>,\n",
       " <tensorflow.python.keras.layers.normalization_v2.BatchNormalization at 0x2b6bf0d7db80>,\n",
       " <tensorflow.python.keras.layers.convolutional.Conv1D at 0x2b6bf0d831c0>,\n",
       " <tensorflow.python.keras.layers.advanced_activations.ReLU at 0x2b6bf0d837c0>,\n",
       " <tensorflow.python.keras.layers.normalization_v2.BatchNormalization at 0x2b6bf0d83b50>,\n",
       " <tensorflow.python.keras.layers.convolutional.Cropping1D at 0x2b6bf0d83d30>,\n",
       " <tensorflow.python.keras.layers.convolutional.Conv1D at 0x2b6bf0d83df0>,\n",
       " <tensorflow.python.keras.layers.merge.Add at 0x2b6bf0d8a910>,\n",
       " <tensorflow.python.keras.layers.advanced_activations.ReLU at 0x2b6bf0d8a880>,\n",
       " <tensorflow.python.keras.layers.normalization_v2.BatchNormalization at 0x2b6bf0d8ab80>,\n",
       " <tensorflow.python.keras.layers.convolutional.Conv1D at 0x2b6bf0d8ad90>,\n",
       " <tensorflow.python.keras.layers.advanced_activations.ReLU at 0x2b6bf0d8f490>,\n",
       " <tensorflow.python.keras.layers.convolutional.Conv1D at 0x2b6bf0d8f820>,\n",
       " <tensorflow.python.keras.layers.normalization_v2.BatchNormalization at 0x2b6bf0d8fbe0>,\n",
       " <tensorflow.python.keras.layers.convolutional.Cropping1D at 0x2b6bf0d8ff40>,\n",
       " <tensorflow.python.keras.layers.convolutional.Conv1D at 0x2b6bf0d8ff70>,\n",
       " <tensorflow.python.keras.layers.merge.Add at 0x2b6bf0d93b20>,\n",
       " <tensorflow.python.keras.layers.advanced_activations.ReLU at 0x2b6bf0d93a90>,\n",
       " <tensorflow.python.keras.layers.normalization_v2.BatchNormalization at 0x2b6bf0d93d90>,\n",
       " <tensorflow.python.keras.layers.convolutional.Conv1D at 0x2b6bf0d93fa0>,\n",
       " <tensorflow.python.keras.layers.advanced_activations.ReLU at 0x2b6bf0d976a0>,\n",
       " <tensorflow.python.keras.layers.normalization_v2.BatchNormalization at 0x2b6bf0d97a30>,\n",
       " <tensorflow.python.keras.layers.convolutional.Cropping1D at 0x2b6bf0d97fa0>,\n",
       " <tensorflow.python.keras.layers.convolutional.Conv1D at 0x2b6bf0d97cd0>,\n",
       " <tensorflow.python.keras.layers.merge.Add at 0x2b6bf0d9e7f0>,\n",
       " <tensorflow.python.keras.layers.advanced_activations.ReLU at 0x2b6bf0d9e760>,\n",
       " <tensorflow.python.keras.layers.normalization_v2.BatchNormalization at 0x2b6bf0d9ea60>,\n",
       " <tensorflow.python.keras.layers.convolutional.Conv1D at 0x2b6bf0d9efa0>,\n",
       " <tensorflow.python.keras.layers.advanced_activations.ReLU at 0x2b6bf0da4370>,\n",
       " <tensorflow.python.keras.layers.normalization_v2.BatchNormalization at 0x2b6bf0da4700>,\n",
       " <tensorflow.python.keras.layers.convolutional.Cropping1D at 0x2b6bf0da4dc0>,\n",
       " <tensorflow.python.keras.layers.convolutional.Conv1D at 0x2b6bf0da4cd0>,\n",
       " <tensorflow.python.keras.layers.merge.Add at 0x2b6bf0da74c0>,\n",
       " <tensorflow.python.keras.layers.advanced_activations.ReLU at 0x2b6bf0da4e80>,\n",
       " <tensorflow.python.keras.layers.normalization_v2.BatchNormalization at 0x2b6bf0da7730>,\n",
       " <tensorflow.python.keras.layers.convolutional.Conv1D at 0x2b6bf0da7a00>,\n",
       " <tensorflow.python.keras.layers.advanced_activations.ReLU at 0x2b6bf0da7f10>,\n",
       " <tensorflow.python.keras.layers.normalization_v2.BatchNormalization at 0x2b6bf0dac400>,\n",
       " <tensorflow.python.keras.layers.convolutional.Cropping1D at 0x2b6bf0dacac0>,\n",
       " <tensorflow.python.keras.layers.convolutional.Conv1D at 0x2b6bf0dac9d0>,\n",
       " <tensorflow.python.keras.layers.merge.Add at 0x2b6bf0db11c0>,\n",
       " <tensorflow.python.keras.layers.advanced_activations.ReLU at 0x2b6bf0dace80>,\n",
       " <tensorflow.python.keras.layers.normalization_v2.BatchNormalization at 0x2b6bf0db1430>,\n",
       " <tensorflow.python.keras.layers.convolutional.Conv1D at 0x2b6bf0db1700>,\n",
       " <tensorflow.python.keras.layers.advanced_activations.ReLU at 0x2b6bf0db1d00>,\n",
       " <tensorflow.python.keras.layers.normalization_v2.BatchNormalization at 0x2b6bf0db1f70>,\n",
       " <tensorflow.python.keras.layers.convolutional.Cropping1D at 0x2b6bf0db6790>,\n",
       " <tensorflow.python.keras.layers.convolutional.Conv1D at 0x2b6bf0db66a0>,\n",
       " <tensorflow.python.keras.layers.merge.Add at 0x2b6bf0db6e50>,\n",
       " <tensorflow.python.keras.layers.advanced_activations.ReLU at 0x2b6bf0db6dc0>,\n",
       " <tensorflow.python.keras.layers.normalization_v2.BatchNormalization at 0x2b6bf0db6d90>,\n",
       " <tensorflow.python.keras.layers.convolutional.Conv1D at 0x2b6bf0dbb3d0>,\n",
       " <tensorflow.python.keras.layers.advanced_activations.ReLU at 0x2b6bf0dbb9d0>,\n",
       " <tensorflow.python.keras.layers.convolutional.Conv1D at 0x2b6bf0dbbd60>,\n",
       " <tensorflow.python.keras.layers.normalization_v2.BatchNormalization at 0x2b6bf0dbbc40>,\n",
       " <tensorflow.python.keras.layers.convolutional.Cropping1D at 0x2b6bf0dbf9a0>,\n",
       " <tensorflow.python.keras.layers.convolutional.Conv1D at 0x2b6bf0dbf8b0>,\n",
       " <tensorflow.python.keras.layers.merge.Add at 0x2b6bf0dbffa0>,\n",
       " <tensorflow.python.keras.layers.advanced_activations.ReLU at 0x2b6bf0dbfd60>,\n",
       " <tensorflow.python.keras.layers.normalization_v2.BatchNormalization at 0x2b6bf0dc6310>,\n",
       " <tensorflow.python.keras.layers.convolutional.Conv1D at 0x2b6bf0dc65e0>,\n",
       " <tensorflow.python.keras.layers.advanced_activations.ReLU at 0x2b6bf0dc6be0>,\n",
       " <tensorflow.python.keras.layers.normalization_v2.BatchNormalization at 0x2b6bf0dc6e50>,\n",
       " <tensorflow.python.keras.layers.convolutional.Cropping1D at 0x2b6bf0dcc670>,\n",
       " <tensorflow.python.keras.layers.convolutional.Conv1D at 0x2b6bf0dcc580>,\n",
       " <tensorflow.python.keras.layers.merge.Add at 0x2b6bf0dccd30>,\n",
       " <tensorflow.python.keras.layers.advanced_activations.ReLU at 0x2b6bf0dccca0>,\n",
       " <tensorflow.python.keras.layers.normalization_v2.BatchNormalization at 0x2b6bf0dccc70>,\n",
       " <tensorflow.python.keras.engine.input_layer.InputLayer at 0x2b6bf0dd22b0>,\n",
       " <tensorflow.python.keras.layers.pooling.GlobalAveragePooling1D at 0x2b6bf0dd2a60>,\n",
       " <tensorflow.python.keras.layers.core.Dense at 0x2b6bf0dd2850>,\n",
       " <tensorflow.python.keras.layers.core.Dropout at 0x2b6bf0dd27c0>,\n",
       " <tensorflow.python.keras.layers.core.Dense at 0x2b6bf0dd2f70>]"
      ]
     },
     "execution_count": 7,
     "metadata": {},
     "output_type": "execute_result"
    }
   ],
   "source": [
    "model.layers"
   ]
  },
  {
   "cell_type": "code",
   "execution_count": 8,
   "id": "b20ca8c0",
   "metadata": {
    "ExecuteTime": {
     "end_time": "2022-02-06T13:39:03.697217Z",
     "start_time": "2022-02-06T13:39:03.651310Z"
    }
   },
   "outputs": [],
   "source": [
    "middle_output = Model(inputs=model.input, outputs=model.layers[-6].output)"
   ]
  },
  {
   "cell_type": "code",
   "execution_count": 9,
   "id": "46a56366",
   "metadata": {
    "ExecuteTime": {
     "end_time": "2022-02-06T13:39:03.740368Z",
     "start_time": "2022-02-06T13:39:03.698927Z"
    }
   },
   "outputs": [],
   "source": [
    "mask_output = Model(inputs=model.input, outputs=model.layers[-5].output)"
   ]
  },
  {
   "cell_type": "code",
   "execution_count": 10,
   "id": "4f32f10c",
   "metadata": {
    "ExecuteTime": {
     "end_time": "2022-02-06T13:39:03.779420Z",
     "start_time": "2022-02-06T13:39:03.743923Z"
    }
   },
   "outputs": [],
   "source": [
    "# weights = model.layers[-1].get_weights()\n",
    "# were used when only one dense layer"
   ]
  },
  {
   "cell_type": "code",
   "execution_count": 11,
   "id": "37da84bc",
   "metadata": {
    "ExecuteTime": {
     "end_time": "2022-02-06T13:39:03.818342Z",
     "start_time": "2022-02-06T13:39:03.781623Z"
    }
   },
   "outputs": [],
   "source": [
    "joint_line = ''\n",
    "\n",
    "joint_line += ' --features'\n",
    "features_set17=\" ref_base num_query_A num_query_C num_query_G num_query_T num_SNPs num_proper_Match num_orphans_Match mean_al_score_Match coverage stdev_insert_size_Match max_insert_size_Match mean_mapq_Match min_mapq_Match\"\n",
    "features_D = \" ref_base num_query_A num_query_C num_query_G num_query_T num_SNPs num_proper_Match num_orphans_Match mean_al_score_Match coverage stdev_insert_size_Match mean_mapq_Match\"\n",
    "features_upcov=\" mean_al_score_Match mean_mapq_Match num_orphans_Match mean_insert_size_Match min_al_score_Match num_proper_Match min_insert_size_Match num_proper_SNP coverage\"\n",
    "joint_line += features_D\n",
    "\n",
    "joint_line += ' --feature-files-path '\n",
    "joint_line += data_path\n",
    "\n",
    "joint_line += ' --stats-file '\n",
    "joint_line += stats_file\n",
    "\n",
    "joint_line += ' --mask-padding'\n",
    "joint_line += ' --binary-data '"
   ]
  },
  {
   "cell_type": "code",
   "execution_count": 12,
   "id": "c90c59f0",
   "metadata": {
    "ExecuteTime": {
     "end_time": "2022-02-06T13:39:03.855360Z",
     "start_time": "2022-02-06T13:39:03.819436Z"
    }
   },
   "outputs": [],
   "source": [
    "args = parse_args().parse_args(joint_line.split())"
   ]
  },
  {
   "cell_type": "code",
   "execution_count": 13,
   "id": "52934a3f",
   "metadata": {
    "ExecuteTime": {
     "end_time": "2022-02-06T13:39:03.891275Z",
     "start_time": "2022-02-06T13:39:03.856406Z"
    }
   },
   "outputs": [
    {
     "data": {
      "text/plain": [
       "Namespace(model='/cluster/home/omineeva/ResMiCo/resmico/model/fl_all_model.h5', batch_size=100, sdepth=None, rich=None, filter10=False, rep10=False, method_pred='chunks', min_len=1000, mem_lim=500000, window=5000, v1=False, longdir=False, embeddings=False, emb_ind=0, binary_data=True, gpu_eval_mem_gb=3.0, val_ind_f=None, chunks=False, log_level='INFO', no_cython=False, seed=12, n_procs=1, max_len=10000, save_path='.', save_name='resmico', feature_files_path='/cluster/home/omineeva/global_projects/projects/projects2019-contig_quality/data/v2/resmico-sm/GTDBr202_n9k_novel-family_test/features/0.111111/mean-10-sigma-1/1/100/2000000/metaspades/', feature_file_table='', technology='all-asmbl', big_data=False, features=['ref_base', 'num_query_A', 'num_query_C', 'num_query_G', 'num_query_T', 'num_SNPs', 'num_proper_Match', 'num_orphans_Match', 'mean_al_score_Match', 'coverage', 'stdev_insert_size_Match', 'mean_mapq_Match'], stats_file='/cluster/home/omineeva/global_projects/projects/projects2019-contig_quality//data/v2/resmico-sm/GTDBr202_n9k_train/stats.json', mask_padding=True, min_avg_coverage=1.0, feature_file_match='')"
      ]
     },
     "execution_count": 13,
     "metadata": {},
     "output_type": "execute_result"
    }
   ],
   "source": [
    "args"
   ]
  },
  {
   "cell_type": "code",
   "execution_count": 14,
   "id": "3eaa1d58",
   "metadata": {
    "ExecuteTime": {
     "end_time": "2022-02-06T13:39:03.929738Z",
     "start_time": "2022-02-06T13:39:03.892582Z"
    }
   },
   "outputs": [],
   "source": [
    "if args.mask_padding:\n",
    "    convoluted_size = Models.construct_convolution_lambda(model)\n",
    "else:  # when not padding, the convoluted size is unused\n",
    "    convoluted_size = lambda len, pad: 0"
   ]
  },
  {
   "cell_type": "code",
   "execution_count": 15,
   "id": "a8e6018b",
   "metadata": {
    "ExecuteTime": {
     "end_time": "2022-02-06T13:39:04.111789Z",
     "start_time": "2022-02-06T13:39:04.041859Z"
    }
   },
   "outputs": [],
   "source": [
    "reader = contig_reader.ContigReader(args.feature_files_path, args.features, args.n_procs, args.chunks,\n",
    "                                    args.no_cython, args.stats_file, args.min_len)"
   ]
  },
  {
   "cell_type": "code",
   "execution_count": 16,
   "id": "63eacb2f",
   "metadata": {
    "ExecuteTime": {
     "end_time": "2022-02-06T13:39:05.905217Z",
     "start_time": "2022-02-06T13:39:05.857436Z"
    }
   },
   "outputs": [],
   "source": [
    "# eval_idx = []\n",
    "# for ind, contig in enumerate(reader.contigs):\n",
    "#     if contig.length > 7000 and contig.length < 9000 and contig.misassembly == 1: \n",
    "# #     if contig.length > 1700 and contig.misassembly == 1: \n",
    "# #     if contig.name == 'NODE_1576_length_1934_cov_1.551357':\n",
    "# #     if ind in set([163, 5461, 5500, 5510]):\n",
    "# # #         print (ind)\n",
    "# #         print(contig.name)\n",
    "# #  'NODE_2209_length_1631_cov_1.418147', wrong prediction +, averageD +\n",
    "# #  'NODE_1219_length_2221_cov_2.613573', wrong -, averageD +\n",
    "# #  'NODE_2868_length_1433_cov_2.236575', correct +, averageD +\n",
    "# #  'NODE_4888_length_1087_cov_1.323643'  wrong -\n",
    "#         eval_idx.append(ind)   "
   ]
  },
  {
   "cell_type": "code",
   "execution_count": 33,
   "id": "a7e283ef",
   "metadata": {
    "ExecuteTime": {
     "end_time": "2022-02-06T13:40:08.157542Z",
     "start_time": "2022-02-06T13:40:07.510744Z"
    }
   },
   "outputs": [],
   "source": [
    "# select based on the story we want to tell here\n",
    "\n",
    "# eval_idx = [5616, 778, 3615, 740 ] # plot1 5422 5569\n",
    "eval_idx = [311, 1174, 163, 1521] # plot2\n",
    " \n",
    "#plot2 [163, 311, 851, 1174] #5663  163, 5461, 5500, 5510"
   ]
  },
  {
   "cell_type": "code",
   "execution_count": 34,
   "id": "ec014575",
   "metadata": {
    "ExecuteTime": {
     "end_time": "2022-02-06T13:40:09.083622Z",
     "start_time": "2022-02-06T13:40:09.036614Z"
    }
   },
   "outputs": [],
   "source": [
    "predict_data = Models.BinaryDatasetEval(reader, eval_idx, args.features, args.max_len, max(250, args.max_len-500),\n",
    "                                        int(args.gpu_eval_mem_gb * 1e9 * 0.8), cache_results=False,\n",
    "                                        show_progress=False, convoluted_size=convoluted_size, pad_to_max_len=False)"
   ]
  },
  {
   "cell_type": "code",
   "execution_count": 35,
   "id": "9605da05",
   "metadata": {
    "ExecuteTime": {
     "end_time": "2022-02-06T13:40:09.440971Z",
     "start_time": "2022-02-06T13:40:09.339508Z"
    }
   },
   "outputs": [],
   "source": [
    "preds = predict_data.__getitem__(0)"
   ]
  },
  {
   "cell_type": "code",
   "execution_count": 36,
   "id": "a5558392",
   "metadata": {
    "ExecuteTime": {
     "end_time": "2022-02-06T13:40:09.615527Z",
     "start_time": "2022-02-06T13:40:09.570851Z"
    }
   },
   "outputs": [],
   "source": [
    "# sum(preds[0][1][2]), len(preds[0][1][2])"
   ]
  },
  {
   "cell_type": "code",
   "execution_count": 37,
   "id": "8d5daa44",
   "metadata": {
    "ExecuteTime": {
     "end_time": "2022-02-06T13:40:09.953782Z",
     "start_time": "2022-02-06T13:40:09.885883Z"
    }
   },
   "outputs": [],
   "source": [
    "# convert the slow Keras predict_data of type Sequence to a tf.data object\n",
    "data_iter = lambda: (s for s in predict_data)\n",
    "\n",
    "predict_data_tf = tf.data.Dataset.from_generator(\n",
    "    data_iter,\n",
    "    output_signature=(\n",
    "        # first dimension is batch size, second is contig length, third is number of features\n",
    "        (tf.TensorSpec(shape=(None, None, len(predict_data.expanded_feature_names)), dtype=tf.float32),\n",
    "         # first dimension is batch size, second is contig length (no third dimension,\n",
    "         # as all features are masked the same way)\n",
    "         tf.TensorSpec(shape=(None, None), dtype=tf.bool)),\n",
    "        tf.TensorSpec(shape=(None), dtype=tf.bool)\n",
    "    ))\n",
    "\n",
    "options = tf.data.Options()\n",
    "options.experimental_distribute.auto_shard_policy = tf.data.experimental.AutoShardPolicy.DATA\n",
    "predict_data_tf = predict_data_tf.with_options(options)  # avoids Tensorflow ugly console barf"
   ]
  },
  {
   "cell_type": "code",
   "execution_count": 38,
   "id": "11932bf9",
   "metadata": {
    "ExecuteTime": {
     "end_time": "2022-02-06T13:40:10.421691Z",
     "start_time": "2022-02-06T13:40:10.269870Z"
    }
   },
   "outputs": [
    {
     "name": "stdout",
     "output_type": "stream",
     "text": [
      "1/1 [==============================] - 0s 92ms/step\n"
     ]
    },
    {
     "data": {
      "text/plain": [
       "array([4.97661058e-05, 1.97669506e-01, 4.40099299e-01, 8.29031110e-01])"
      ]
     },
     "execution_count": 38,
     "metadata": {},
     "output_type": "execute_result"
    }
   ],
   "source": [
    "eval_data_flat_y = model.predict(x=predict_data_tf,\n",
    "                                 workers=args.n_procs,\n",
    "                                 use_multiprocessing=False,\n",
    "                                 max_queue_size=max(args.n_procs, 10),\n",
    "                                 verbose=1)\n",
    "eval_data_predicted_min = predict_data.group(eval_data_flat_y, min)\n",
    "eval_data_predicted_mean = predict_data.group(eval_data_flat_y, np.mean)\n",
    "eval_data_predicted_std = predict_data.group(eval_data_flat_y, np.std)\n",
    "# eval_data_predicted_max = round(predict_data.group(eval_data_flat_y, max)[0], 3)\n",
    "eval_data_predicted_max = predict_data.group(eval_data_flat_y, max) #use this if >1 contig\n",
    "eval_data_predicted_max"
   ]
  },
  {
   "cell_type": "code",
   "execution_count": 39,
   "id": "da67fc09",
   "metadata": {
    "ExecuteTime": {
     "end_time": "2022-02-06T13:40:10.710362Z",
     "start_time": "2022-02-06T13:40:10.658973Z"
    }
   },
   "outputs": [
    {
     "name": "stdout",
     "output_type": "stream",
     "text": [
      "3 163\n"
     ]
    }
   ],
   "source": [
    "print(np.argmax(eval_data_predicted_max), eval_idx[2])"
   ]
  },
  {
   "cell_type": "code",
   "execution_count": 40,
   "id": "58d4c9b7",
   "metadata": {
    "ExecuteTime": {
     "end_time": "2022-02-06T13:40:11.294083Z",
     "start_time": "2022-02-06T13:40:11.149466Z"
    }
   },
   "outputs": [
    {
     "name": "stdout",
     "output_type": "stream",
     "text": [
      "1/1 [==============================] - 0s 93ms/step\n"
     ]
    }
   ],
   "source": [
    "eval_data_flat_y = middle_output.predict(x=predict_data_tf,\n",
    "                                 workers=args.n_procs,\n",
    "                                 use_multiprocessing=False,\n",
    "                                 max_queue_size=max(args.n_procs, 10),\n",
    "                                 verbose=1)"
   ]
  },
  {
   "cell_type": "code",
   "execution_count": 41,
   "id": "45417f8e",
   "metadata": {
    "ExecuteTime": {
     "end_time": "2022-02-06T13:40:12.504152Z",
     "start_time": "2022-02-06T13:40:12.459437Z"
    }
   },
   "outputs": [],
   "source": [
    "# mask_y = mask_output.predict(x=predict_data_tf,\n",
    "#                                  workers=args.n_procs,\n",
    "#                                  use_multiprocessing=False,\n",
    "#                                  max_queue_size=max(args.n_procs, 10),\n",
    "#                                  verbose=1)\n",
    "# len(mask_y[0])-sum(mask_y[0])"
   ]
  },
  {
   "cell_type": "code",
   "execution_count": 42,
   "id": "04a9d69a",
   "metadata": {
    "ExecuteTime": {
     "end_time": "2022-02-06T13:40:13.624616Z",
     "start_time": "2022-02-06T13:40:13.574333Z"
    }
   },
   "outputs": [
    {
     "name": "stdout",
     "output_type": "stream",
     "text": [
      "length:  205\n",
      "length:  241\n",
      "length:  378\n",
      "length:  325\n"
     ]
    }
   ],
   "source": [
    "down = 8\n",
    "for i in range(4):\n",
    "    for breakpoint in reader.contigs[eval_idx[i]].breakpoints:\n",
    "        print(breakpoint[0]/down)\n",
    "    print('length: ', reader.contigs[eval_idx[i]].length//down)"
   ]
  },
  {
   "cell_type": "code",
   "execution_count": 43,
   "id": "223c0a35",
   "metadata": {
    "ExecuteTime": {
     "end_time": "2022-02-06T13:40:14.846890Z",
     "start_time": "2022-02-06T13:40:14.797719Z"
    }
   },
   "outputs": [],
   "source": [
    "ind=2\n",
    "max_len = len(preds[0][1][ind])\n",
    "#45 positions are lost because of the valid padding"
   ]
  },
  {
   "cell_type": "code",
   "execution_count": 44,
   "id": "b698403e",
   "metadata": {
    "ExecuteTime": {
     "end_time": "2022-02-06T13:40:15.882477Z",
     "start_time": "2022-02-06T13:40:15.815346Z"
    }
   },
   "outputs": [],
   "source": [
    "savefig_path=project_path+'Outputs/figures'"
   ]
  },
  {
   "cell_type": "markdown",
   "id": "aca78a87",
   "metadata": {
    "ExecuteTime": {
     "end_time": "2022-01-04T21:03:48.006978Z",
     "start_time": "2022-01-04T21:03:47.975884Z"
    }
   },
   "source": [
    "#examples to show in main part: two misassembly correctly classified, \n",
    "                                two wrongly classified misassembly: correct spike, wrong spike position\n",
    "                                \n",
    "                                \n",
    "#suppliment: two correctly classified good contigs: without spikes, with spike\n",
    "             two false positives"
   ]
  },
  {
   "cell_type": "code",
   "execution_count": 45,
   "id": "9092bbda",
   "metadata": {
    "ExecuteTime": {
     "end_time": "2022-02-06T13:40:17.803872Z",
     "start_time": "2022-02-06T13:40:17.748251Z"
    }
   },
   "outputs": [],
   "source": [
    "def posargmax(ind):\n",
    "    max_len = len(preds[0][1][ind])\n",
    "    cont_len = sum(preds[0][1][ind])\n",
    "    mask = max_len - cont_len\n",
    "    print(mask)\n",
    "    pos_kernel = np.zeros(cont_len)\n",
    "    for i, kernel in enumerate(eval_data_flat_y[ind].T):\n",
    "#         print(kernel)\n",
    "        if mask>0:\n",
    "            pos_kernel[np.argmax(kernel[:-mask])]+=max(kernel[:-mask])  \n",
    "        else: \n",
    "            pos_kernel[np.argmax(kernel)]+=max(kernel) \n",
    "\n",
    "    return pos_kernel\n",
    "\n",
    "def sumkernels(ind):\n",
    "    max_len = len(preds[0][1][ind])\n",
    "    cont_len = sum(preds[0][1][ind])\n",
    "    mask = max_len - cont_len\n",
    "    pos_kernel = np.zeros(cont_len)\n",
    "    for i, kernel in enumerate(eval_data_flat_y[ind].T):\n",
    "        if mask>0:\n",
    "            pos_kernel+=kernel[:-mask]\n",
    "        else: \n",
    "            pos_kernel+=kernel \n",
    "\n",
    "    return pos_kernel/(i+1)\n",
    "\n",
    "def bp(ind):\n",
    "    return reader.contigs[eval_idx[ind]].breakpoints[0][0]//8 - 45/2 \n",
    "#45 is number of pos cutted because of val padding\n",
    "\n",
    "def text_cont(ind):\n",
    "    return 'label: ' + str(reader.contigs[eval_idx[ind]].misassembly) + \\\n",
    "            '\\n'+ 'resmico score: ' + str(round(eval_data_predicted_max[ind], 3)) "
   ]
  },
  {
   "cell_type": "code",
   "execution_count": 46,
   "id": "28c2461c",
   "metadata": {
    "ExecuteTime": {
     "end_time": "2022-02-06T13:40:21.577643Z",
     "start_time": "2022-02-06T13:40:21.529660Z"
    }
   },
   "outputs": [],
   "source": [
    "where = os.path.join(savefig_path, \n",
    "                    'bp:'+'_'.join(str(elem) for elem in eval_idx)+\n",
    "                     '.pdf')"
   ]
  },
  {
   "cell_type": "code",
   "execution_count": 31,
   "id": "df8a87ea",
   "metadata": {
    "ExecuteTime": {
     "end_time": "2022-02-06T13:39:21.736069Z",
     "start_time": "2022-02-06T13:39:20.865621Z"
    },
    "scrolled": false
   },
   "outputs": [
    {
     "name": "stdout",
     "output_type": "stream",
     "text": [
      "/cluster/home/omineeva/global_projects/projects/projects2019-contig_quality/Outputs/figures/with_bp:5616_778_3615_740.pdf\n"
     ]
    },
    {
     "data": {
      "image/png": "[encoded data removed]",
      "text/plain": [
       "<Figure size 576x432 with 4 Axes>"
      ]
     },
     "metadata": {},
     "output_type": "display_data"
    }
   ],
   "source": [
    "#\n",
    "fig, axs = plt.subplots(2, 2, sharey=True, figsize=(8, 6))\n",
    "fig.subplots_adjust(wspace=0.1, hspace=0.2)\n",
    "ind = 0\n",
    "axs[0][0].plot(sumkernels(ind), c=colors[2])\n",
    "axs[0][0].scatter(bp(ind), 0, s=100, c=colors[1], marker='o')\n",
    "axs[0][0].text(100, 6, text_cont(ind))\n",
    "axs[0][0].set_ylim(-0.5, 8.5)\n",
    "\n",
    "ind = 1\n",
    "axs[0][1].plot(sumkernels(ind), c=colors[2])\n",
    "axs[0][1].scatter(bp(ind), 0, s=100, c=colors[1], marker='o')\n",
    "axs[0][1].text(15, 6.3, text_cont(ind))\n",
    "\n",
    "ind = 2\n",
    "axs[1][0].plot(sumkernels(ind), c=colors[2])\n",
    "axs[1][0].scatter(bp(ind), 0, s=100, c=colors[1], marker='o')\n",
    "axs[1][0].text(5, 6.3, text_cont(ind))\n",
    "\n",
    "ind = 3\n",
    "axs[1][1].plot(sumkernels(ind), c=colors[2])\n",
    "axs[1][1].scatter(bp(ind), 0, s=100, c=colors[1], marker='o')\n",
    "axs[1][1].text(5, 6.3, text_cont(ind))\n",
    "\n",
    "where = os.path.join(savefig_path, \n",
    "                    'with_bp:'+'_'.join(str(elem) for elem in eval_idx)+\n",
    "                     '.pdf')\n",
    "plt.savefig(where, \n",
    "            bbox_inches='tight', format='pdf', dpi=300)\n",
    "print(where)\n",
    "\n",
    "plt.show()"
   ]
  },
  {
   "cell_type": "code",
   "execution_count": 47,
   "id": "01b44753",
   "metadata": {
    "ExecuteTime": {
     "end_time": "2022-02-06T13:40:24.695816Z",
     "start_time": "2022-02-06T13:40:23.948050Z"
    }
   },
   "outputs": [
    {
     "name": "stdout",
     "output_type": "stream",
     "text": [
      "/cluster/home/omineeva/global_projects/projects/projects2019-contig_quality/Outputs/figures/without_bp:311_1174_163_1521.pdf\n"
     ]
    },
    {
     "data": {
      "image/png": "[encoded data removed]",
      "text/plain": [
       "<Figure size 576x432 with 4 Axes>"
      ]
     },
     "metadata": {},
     "output_type": "display_data"
    }
   ],
   "source": [
    "#\n",
    "fig, axs = plt.subplots(2, 2, sharey=True, figsize=(8, 6))\n",
    "fig.subplots_adjust(wspace=0.1, hspace=0.2)\n",
    "ind = 0\n",
    "axs[0][0].plot(sumkernels(ind), c=colors[2])\n",
    "axs[0][0].text(5, 6.2, text_cont(ind))\n",
    "axs[0][0].set_ylim(-0.5, 8.5)\n",
    "\n",
    "ind = 1\n",
    "axs[0][1].plot(sumkernels(ind), c=colors[2])\n",
    "axs[0][1].text(5, 6.2, text_cont(ind))\n",
    "\n",
    "ind = 2\n",
    "axs[1][0].plot(sumkernels(ind), c=colors[2])\n",
    "axs[1][0].text(5, 6.2, text_cont(ind))\n",
    "\n",
    "ind = 3\n",
    "axs[1][1].plot(sumkernels(ind), c=colors[2])\n",
    "axs[1][1].text(5, 6.2, text_cont(ind))\n",
    "\n",
    "where = os.path.join(savefig_path, \n",
    "                    'without_bp:'+'_'.join(str(elem) for elem in eval_idx)+\n",
    "                     '.pdf')\n",
    "plt.savefig(where, \n",
    "            bbox_inches='tight', format='pdf', dpi=300)\n",
    "print(where)\n",
    "\n",
    "plt.show()"
   ]
  }
 ],
 "metadata": {
  "kernelspec": {
   "display_name": "resmico",
   "language": "python",
   "name": "resmico"
  },
  "language_info": {
   "codemirror_mode": {
    "name": "ipython",
    "version": 3
   },
   "file_extension": ".py",
   "mimetype": "text/x-python",
   "name": "python",
   "nbconvert_exporter": "python",
   "pygments_lexer": "ipython3",
   "version": "3.9.7"
  }
 },
 "nbformat": 4,
 "nbformat_minor": 5
}
