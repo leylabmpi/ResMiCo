{
 "cells": [
  {
   "cell_type": "code",
   "execution_count": 1,
   "metadata": {
    "ExecuteTime": {
     "end_time": "2022-01-19T22:06:54.003653Z",
     "start_time": "2022-01-19T22:06:53.983636Z"
    }
   },
   "outputs": [],
   "source": [
    "%load_ext autoreload\n",
    "%autoreload 2"
   ]
  },
  {
   "cell_type": "code",
   "execution_count": 2,
   "metadata": {
    "ExecuteTime": {
     "end_time": "2022-01-19T22:06:58.696454Z",
     "start_time": "2022-01-19T22:06:54.629063Z"
    }
   },
   "outputs": [
    {
     "name": "stderr",
     "output_type": "stream",
     "text": [
      "2022-01-19 23:06:56.198650: I tensorflow/stream_executor/platform/default/dso_loader.cc:49] Successfully opened dynamic library libcudart.so.10.1\n"
     ]
    }
   ],
   "source": [
    "import sys\n",
    "sys.path.insert(1, '/cluster/home/omineeva/ResMiCo')\n",
    "from resmico import utils\n",
    "from pathlib import Path"
   ]
  },
  {
   "cell_type": "code",
   "execution_count": 3,
   "metadata": {
    "ExecuteTime": {
     "end_time": "2022-01-19T22:06:59.033097Z",
     "start_time": "2022-01-19T22:06:58.697978Z"
    }
   },
   "outputs": [],
   "source": [
    "import seaborn as sns\n",
    "sns.set(font_scale=1.2, style=\"whitegrid\")"
   ]
  },
  {
   "cell_type": "code",
   "execution_count": 4,
   "metadata": {
    "ExecuteTime": {
     "end_time": "2022-01-19T22:06:59.070439Z",
     "start_time": "2022-01-19T22:06:59.035095Z"
    }
   },
   "outputs": [],
   "source": [
    "project_path = '/cluster/home/omineeva/global_projects/projects/projects2019-contig_quality/'\n",
    "save_path = project_path+'Outputs/predictions/'"
   ]
  },
  {
   "cell_type": "code",
   "execution_count": 5,
   "metadata": {
    "ExecuteTime": {
     "end_time": "2022-01-19T22:06:59.106118Z",
     "start_time": "2022-01-19T22:06:59.072261Z"
    }
   },
   "outputs": [],
   "source": [
    "import os\n",
    "import pandas as pd\n",
    "import numpy as np\n",
    "from sklearn.metrics import average_precision_score, recall_score, confusion_matrix, precision_score\n",
    "from sklearn.metrics import precision_recall_curve\n",
    "import matplotlib.pyplot as plt\n",
    "import time"
   ]
  },
  {
   "cell_type": "code",
   "execution_count": 6,
   "metadata": {
    "ExecuteTime": {
     "end_time": "2022-01-19T22:06:59.142129Z",
     "start_time": "2022-01-19T22:06:59.108565Z"
    }
   },
   "outputs": [],
   "source": [
    "test_data_path = project_path+'data/v2/resmico-sm/GTDBr202_n9k_novel-family_test/'"
   ]
  },
  {
   "cell_type": "code",
   "execution_count": 14,
   "metadata": {
    "ExecuteTime": {
     "end_time": "2022-01-19T22:06:59.780973Z",
     "start_time": "2022-01-19T22:06:59.743933Z"
    }
   },
   "outputs": [],
   "source": [
    "#ALE\n",
    "ALE_path = test_data_path+'ALE/'\n",
    "\n",
    "# if dataset has changed, ALE should be recomputed using the following steps: 1 - create pickles, 2 - aggregate"
   ]
  },
  {
   "cell_type": "code",
   "execution_count": 15,
   "metadata": {
    "ExecuteTime": {
     "end_time": "2022-01-19T22:07:00.642492Z",
     "start_time": "2022-01-19T22:07:00.605786Z"
    }
   },
   "outputs": [],
   "source": [
    "# import gzip\n",
    "# import _pickle as pickle\n",
    "# def create_ALE_pickle(assembly_path):\n",
    "#     parsed_ale = {}\n",
    "    \n",
    "#     with gzip.open(assembly_path, 'rt') as gf: #open\n",
    "#         cur_contig, cont_length = None, None\n",
    "#         ti = time.time()\n",
    "#         for i, g in enumerate(gf):\n",
    "#             line = g.split()\n",
    "        \n",
    "#             if 'Reference' in line[1]:\n",
    "#                 # Sanity check\n",
    "#                 if not (cont_length  is None): \n",
    "#                     assert((parsed_ale[cur_contig]['depth'] < 10 ** 5).all())\n",
    "               \n",
    "#                 cur_contig = line[2]\n",
    "#                 cont_length = int(line[3])\n",
    "    \n",
    "#                 base = 10 ** 5 * np.ones(cont_length)\n",
    "    \n",
    "#                 parsed_ale[cur_contig] = {'depth' : base.copy(), 'place' : base.copy(), \n",
    "#                                          'insert' : base.copy(), 'kmer' : base.copy()}\n",
    "    \n",
    "#                 next(gf)\n",
    "#                 idx = 0\n",
    "#                 continue\n",
    "                \n",
    "#             if cur_contig is None:\n",
    "#                 continue\n",
    "    \n",
    "#             parsed_ale[cur_contig]['depth'][idx] = float(line[3])\n",
    "#             parsed_ale[cur_contig]['place'][idx] = float(line[4])\n",
    "#             parsed_ale[cur_contig]['insert'][idx] = float(line[5])\n",
    "#             parsed_ale[cur_contig]['kmer'][idx] = float(line[6])\n",
    "#             idx += 1\n",
    "            \n",
    "    \n",
    "#     save_path = assembly_path.replace('.txt.gz', '_all.pkl') \n",
    "#     print (time.time()-ti, save_path)\n",
    "#     with open(save_path, 'wb') as f:\n",
    "#         pickle.dump(parsed_ale, f)"
   ]
  },
  {
   "cell_type": "code",
   "execution_count": 16,
   "metadata": {
    "ExecuteTime": {
     "end_time": "2022-01-19T22:07:01.053245Z",
     "start_time": "2022-01-19T22:07:01.019449Z"
    },
    "scrolled": true
   },
   "outputs": [],
   "source": [
    "# #1.30h\n",
    "# EXT = \".txt.gz\"\n",
    "# all_txt_files = []\n",
    "# for r, d, f in os.walk(ALE_path):\n",
    "#     for file in f:\n",
    "#         if EXT in file:\n",
    "#             all_txt_files.append(os.path.join(r,file))\n",
    "\n",
    "# import pathos\n",
    "# nprocs = 16\n",
    "# with pathos.multiprocessing.Pool(nprocs) as pool:\n",
    "#     pool.map(lambda file: create_ALE_pickle(file), all_txt_files)"
   ]
  },
  {
   "cell_type": "code",
   "execution_count": 17,
   "metadata": {
    "ExecuteTime": {
     "end_time": "2022-01-19T22:07:01.559209Z",
     "start_time": "2022-01-19T22:07:01.521631Z"
    }
   },
   "outputs": [],
   "source": [
    "# # #synthetic\n",
    "# def aggregate_ALE(ALE_path):\n",
    "#     st = time.time()\n",
    "#     thresh = {'depth': -21,\n",
    "#               'place' : -2,\n",
    "#               'insert' : 2,\n",
    "#               'kmer' : 2}\n",
    "#     all_preds = {'score':[], 'cont_name':[]}\n",
    "\n",
    "#     EXT = '.pkl'\n",
    "#     all_pkl_files = []\n",
    "#     for r, d, f in os.walk(ALE_path):\n",
    "#         for file in f:\n",
    "#             if EXT in file:\n",
    "#                 all_pkl_files.append(os.path.join(r,file))\n",
    "    \n",
    "#     for i, file in enumerate(all_pkl_files): \n",
    "#         print(i)\n",
    "#         with open(file, 'rb') as f:\n",
    "#             ale_scores = pickle.load(f)\n",
    "            \n",
    "#             for cont in ale_scores:\n",
    "#                 total = 0\n",
    "#                 for score in ale_scores[cont]:\n",
    "#                     total += np.sum(ale_scores[cont][score] < thresh[score])\n",
    "                \n",
    "#                 all_preds['score'].append(total / float(len(thresh)) / len(ale_scores[cont]['depth']))\n",
    "#                 all_preds['cont_name'].append('/'.join(file.split('/')[:-1])+'/'+cont)\n",
    "    \n",
    "#     ALE_preds = pd.DataFrame.from_dict(all_preds)\n",
    "#     ALE_preds.to_csv(ALE_path + 'aggregated_preds.csv', index=False) \n",
    "#     print('saved as: '+ ALE_path + 'aggregated_preds.csv')\n",
    "    \n",
    "\n",
    "    \n",
    "# aggregate_ALE(ALE_path)"
   ]
  },
  {
   "cell_type": "code",
   "execution_count": 18,
   "metadata": {
    "ExecuteTime": {
     "end_time": "2022-01-19T22:07:02.069724Z",
     "start_time": "2022-01-19T22:07:02.033429Z"
    }
   },
   "outputs": [],
   "source": [
    "# VALET_path = test_data_path+'VALET/'"
   ]
  },
  {
   "cell_type": "code",
   "execution_count": 19,
   "metadata": {
    "ExecuteTime": {
     "end_time": "2022-01-19T22:07:02.859032Z",
     "start_time": "2022-01-19T22:07:02.822051Z"
    }
   },
   "outputs": [],
   "source": [
    "# #VALET\n",
    "\n",
    "\n",
    "# def aggregate_VALET(VALET_path):\n",
    "#     all_preds = {'score':[], 'cont_name':[]}\n",
    "\n",
    "#     EXT = '.tsv'\n",
    "#     all_files = []\n",
    "#     for r, d, f in os.walk(VALET_path):\n",
    "#         for file in f:\n",
    "#             if EXT in file:\n",
    "#                 all_files.append(os.path.join(r,file))\n",
    "\n",
    "#     for i, file in enumerate(all_files):\n",
    "#         print(i)\n",
    "#         df = pd.read_csv(file, sep='\\t')\n",
    "#         df = df.set_index(\"contig_name\")\n",
    "#         for cont, pr in df.iterrows():\n",
    "#             score = np.nan_to_num(pr[\"low_cov\"])+np.nan_to_num(pr[\"high_cov\"])+np.nan_to_num(pr[\"breakpoints\"])\n",
    "#             all_preds['score'].append(score)\n",
    "#             all_preds['cont_name'].append('/'.join(file.split('/')[:-1])+'/'+cont)\n",
    "\n",
    "\n",
    "#     VALET_preds = pd.DataFrame.from_dict(all_preds)\n",
    "#     VALET_preds.to_csv(VALET_path + 'aggregated_preds.csv', index=False) \n",
    "#     print('saved as: '+ VALET_path + 'aggregated_preds.csv')\n",
    "    \n",
    "    \n",
    "# aggregate_VALET(VALET_path)"
   ]
  },
  {
   "cell_type": "code",
   "execution_count": 20,
   "metadata": {
    "ExecuteTime": {
     "end_time": "2022-01-19T22:07:03.410735Z",
     "start_time": "2022-01-19T22:07:03.374345Z"
    }
   },
   "outputs": [],
   "source": [
    "metaMIC_path = test_data_path+'metaMIC/'"
   ]
  },
  {
   "cell_type": "code",
   "execution_count": 21,
   "metadata": {
    "ExecuteTime": {
     "end_time": "2022-01-19T22:07:05.442789Z",
     "start_time": "2022-01-19T22:07:05.408029Z"
    }
   },
   "outputs": [],
   "source": [
    "# # # ### metaMIC\n",
    "\n",
    "# save_name = 'metaMIC_contig_score.txt.gz'\n",
    "# files = []\n",
    "# for r, d, f in os.walk(metaMIC_path):\n",
    "#     for file in f:\n",
    "#         if save_name in file:\n",
    "#             files.append(os.path.join(r, file))\n",
    "            \n",
    "# frames = []\n",
    "# for f in files:\n",
    "#     cur_df = pd.read_csv(f, sep='\\t')\n",
    "#     f_prefix = '/'.join(f.split('/')[:-2]) + '/'\n",
    "#     cur_df['cont_name'] = f_prefix + cur_df['contig']\n",
    "#     frames.append(cur_df)\n",
    "\n",
    "# metaMIC_preds = pd.concat(frames)\n",
    "# metaMIC_preds = metaMIC_preds.drop(columns = ['contig', 'length'])\n",
    "# metaMIC_preds = metaMIC_preds.rename(columns={\"metaMIC_contig_score\": \"metaMIC_score\"})\n",
    "# metaMIC_preds.to_csv(metaMIC_path + 'aggregated_preds.csv', index=False) \n",
    "# print('saved as: '+ metaMIC_path + 'aggregated_preds.csv')"
   ]
  },
  {
   "cell_type": "code",
   "execution_count": 22,
   "metadata": {
    "ExecuteTime": {
     "end_time": "2022-01-19T22:07:47.401676Z",
     "start_time": "2022-01-19T22:07:12.808248Z"
    }
   },
   "outputs": [],
   "source": [
    "resmico_df = pd.read_csv(save_path+'family_test_data_path-mc32_valfixed_666-d02-nblo4.csv')\n",
    "deepmased_df = pd.read_csv(save_path+'family_test_data_path-v1.csv') #old table. need to be updated as new data comes\n",
    "ALE_df = pd.read_csv(ALE_path + 'aggregated_preds.csv')\n",
    "# VALET_df = pd.read_csv(VALET_path + 'aggregated_preds.csv')\n",
    "metaMIC_df = pd.read_csv(metaMIC_path + 'aggregated_preds.csv')\n",
    "\n",
    "#7 parameters are informative\n",
    "n=7\n",
    "resmico_df['cont_name']=resmico_df['cont_name'].map(lambda x: '/'.join(x.split('/')[-n:]))\n",
    "ALE_df['cont_name']=ALE_df['cont_name'].map(lambda x: '/'.join(x.split('/')[-n:]))\n",
    "# VALET_df['cont_name']=VALET_df['cont_name'].map(lambda x: '/'.join(x.split('/')[-n:]))\n",
    "metaMIC_df['cont_name']=metaMIC_df['cont_name'].map(lambda x: '/'.join(x.split('/')[-n:]))"
   ]
  },
  {
   "cell_type": "code",
   "execution_count": 23,
   "metadata": {
    "ExecuteTime": {
     "end_time": "2022-01-17T18:00:47.947535Z",
     "start_time": "2022-01-17T18:00:47.246036Z"
    }
   },
   "outputs": [],
   "source": [
    "resmico_df = resmico_df.rename(columns={\"score\": \"resmico_score\"})\n",
    "resmico_df.label = resmico_df.label>0\n",
    "deepmased_df = deepmased_df.rename(columns={\"max\": \"deepmased_score\"})\n",
    "deepmased_df = deepmased_df.drop(columns = ['label', 'length'])\n",
    "ALE_df = ALE_df.rename(columns={\"score\": \"ALE_score\"})\n",
    "# VALET_df = VALET_df.rename(columns={\"score\": \"VALET_score\"})"
   ]
  },
  {
   "cell_type": "code",
   "execution_count": 24,
   "metadata": {
    "ExecuteTime": {
     "end_time": "2022-01-17T18:00:47.982875Z",
     "start_time": "2022-01-17T18:00:47.948863Z"
    }
   },
   "outputs": [
    {
     "data": {
      "text/plain": [
       "(1858111, 2216322, 5221336, 1858083)"
      ]
     },
     "execution_count": 24,
     "metadata": {},
     "output_type": "execute_result"
    }
   ],
   "source": [
    "len(resmico_df), len(metaMIC_df), len(ALE_df), len(deepmased_df)"
   ]
  },
  {
   "cell_type": "code",
   "execution_count": 25,
   "metadata": {
    "ExecuteTime": {
     "end_time": "2022-01-17T18:00:59.431757Z",
     "start_time": "2022-01-17T18:00:47.984698Z"
    }
   },
   "outputs": [
    {
     "name": "stdout",
     "output_type": "stream",
     "text": [
      "1858111\n",
      "1858083\n",
      "777450\n"
     ]
    }
   ],
   "source": [
    "result = pd.merge(resmico_df, ALE_df, on=['cont_name'])\n",
    "print(len(result))\n",
    "result = pd.merge(result, deepmased_df, on=['cont_name'])\n",
    "print(len(result))\n",
    "# result = pd.merge(result, VALET_df, on=['cont_name'])\n",
    "# print(len(result))\n",
    "result_m = pd.merge(result, metaMIC_df, on=['cont_name'])\n",
    "print(len(result_m))"
   ]
  },
  {
   "cell_type": "markdown",
   "metadata": {},
   "source": [
    "## Performance comparison with baselines"
   ]
  },
  {
   "cell_type": "code",
   "execution_count": 29,
   "metadata": {
    "ExecuteTime": {
     "end_time": "2022-01-17T18:02:03.657750Z",
     "start_time": "2022-01-17T18:02:02.996975Z"
    }
   },
   "outputs": [],
   "source": [
    "def PR4all(axs, i, df, df_m,\n",
    "           dataset_name = 'dname', save_path=None):\n",
    "    if i==-1:\n",
    "        ax=axs\n",
    "    else:\n",
    "        ax = axs[i]\n",
    "    y_true_r, y_resmico = df.label, df.resmico_score\n",
    "    y_true_d, y_deepmased = df.label, df.deepmased_score\n",
    "    y_true_a, y_ALE = df.label, df.ALE_score\n",
    "    y_true_m, y_metaMIC = df_m.label, df_m.metaMIC_score\n",
    "    \n",
    "    colors = [(0, 160/255, 81/255), (28/255, 117/255, 188/255), (46/255, 49/255, 14/255), (236/255, 0, 140/255)]\n",
    "    linestyles = ['solid','dashed']\n",
    "\n",
    "    # resmico\n",
    "    prs, rcs, thresholds = precision_recall_curve(y_true_r, y_resmico)\n",
    "    re = ax.plot(rcs, prs, lw=1.5, color=colors[0], ls=linestyles[0],\n",
    "                 label='ResMiCo: %0.3f' % (average_precision_score(y_true_r, y_resmico)))\n",
    "    \n",
    "    # deepmased\n",
    "    prs, rcs, thresholds = precision_recall_curve(y_true_d, y_deepmased)\n",
    "    d = ax.plot(rcs, prs, lw=1.5, color=colors[1], ls=linestyles[0],\n",
    "                 label='DeepMAsED: %0.3f' % (average_precision_score(y_true_d, y_deepmased)))\n",
    "        \n",
    "    # ALE\n",
    "    prs, rcs, thresholds = precision_recall_curve(y_true_a, y_ALE)\n",
    "    a =ax.plot(rcs, prs, lw=1.5, color=colors[2], ls=linestyles[0],\n",
    "                 label='ALE: %0.3f' % (average_precision_score(y_true_a, y_ALE)))\n",
    "    \n",
    "    \n",
    "    # metaMIC\n",
    "    prs, rcs, thresholds = precision_recall_curve(y_true_m, y_metaMIC)\n",
    "    m = ax.plot(rcs, prs, lw=1.5, color=colors[3], ls=linestyles[0],\n",
    "                 label='metaMIC: %0.3f' % (average_precision_score(y_true_m, y_metaMIC)))\n",
    "        \n",
    "    # Random\n",
    "    pr_random = np.mean(y_true_r)\n",
    "    ra = ax.plot([0, 1], [pr_random, pr_random], color='black', ls=linestyles[1], label=\"Random: %0.3f\" % pr_random, lw=2)\n",
    "\n",
    "\n",
    "    ax.tick_params(axis='both', which='major', labelsize=12)\n",
    "    ax.set_ylim([0.0, 1.05])\n",
    "    ax.set_xlim([0.0, 1.0])\n",
    "    \n",
    "    # plt.title('Receiver operating characteristic example')\n",
    "#     if i==1:\n",
    "#         ax.legend(bbox_to_anchor=(0.5, 1.4), loc='upper center', \n",
    "#                   ncol=5, fontsize=26)\n",
    "    \n",
    "    ax.set_ylabel('Precision', fontsize=16)\n",
    "    ax.set_xlabel('Recall', fontsize=16)\n",
    "    \n",
    "    ax.legend(fontsize=16)\n",
    "#     ax.grid(True, axis='y', linestyle=':')\n",
    "#     ax.grid(True, axis='x', linestyle=':')\n",
    "    \n",
    "#     ax.set_title('skin', fontsize=16)\n",
    "\n",
    "    return "
   ]
  },
  {
   "cell_type": "code",
   "execution_count": 27,
   "metadata": {
    "ExecuteTime": {
     "end_time": "2022-01-17T18:01:00.311330Z",
     "start_time": "2022-01-17T18:00:59.687811Z"
    }
   },
   "outputs": [
    {
     "name": "stdout",
     "output_type": "stream",
     "text": [
      "/n metamic subset:\n",
      "AUPRC metaMIC:  0.09190347447052191\n",
      "AUPRC resmico_score:  0.254688439103413\n",
      "AUPRC deepmased_score:  0.09191770070470497\n",
      "AUPRC ALE_score:  0.0528038502104803\n",
      "RANDOME score:  0.024418290565309666\n"
     ]
    }
   ],
   "source": [
    "print('/n metamic subset:')\n",
    "print('AUPRC metaMIC: ',\n",
    "      average_precision_score(result_m['label']>0, result_m['metaMIC_score']))\n",
    "print('AUPRC resmico_score: ',\n",
    "  average_precision_score(result_m['label']>0, result_m['resmico_score']))\n",
    "print('AUPRC deepmased_score: ',\n",
    "  average_precision_score(result_m['label']>0, result_m['deepmased_score']))\n",
    "print('AUPRC ALE_score: ',\n",
    "      average_precision_score(result_m['label']>0, result_m['ALE_score']))\n",
    "print('RANDOME score: ',\n",
    "      np.mean(result_m['label']))"
   ]
  },
  {
   "cell_type": "code",
   "execution_count": 30,
   "metadata": {
    "ExecuteTime": {
     "end_time": "2022-01-17T18:02:12.995007Z",
     "start_time": "2022-01-17T18:02:06.457562Z"
    }
   },
   "outputs": [
    {
     "name": "stdout",
     "output_type": "stream",
     "text": [
      "/cluster/home/omineeva/global_projects/projects/projects2019-contig_quality//Outputs/figures/PRcurve_family.pdf\n"
     ]
    },
    {
     "data": {
      "image/png": "[encoded data removed]",
      "text/plain": [
       "<Figure size 576x360 with 1 Axes>"
      ]
     },
     "metadata": {},
     "output_type": "display_data"
    }
   ],
   "source": [
    "fig, axs = plt.subplots(1, 1, figsize=(8, 5), sharey = True)\n",
    "\n",
    "\n",
    "PR4all(axs, -1,  result, result_m)\n",
    "\n",
    "\n",
    "dataset_name = 'family'\n",
    "where = project_path+'/Outputs/figures/PRcurve_'+dataset_name+'.pdf'\n",
    "plt.savefig(where, \n",
    "            bbox_inches='tight', format='pdf', dpi=300)\n",
    "print(where)\n",
    "\n",
    "plt.show()"
   ]
  },
  {
   "cell_type": "markdown",
   "metadata": {},
   "source": [
    "## Performance for different length"
   ]
  },
  {
   "cell_type": "code",
   "execution_count": 31,
   "metadata": {
    "ExecuteTime": {
     "end_time": "2022-01-17T18:03:41.878055Z",
     "start_time": "2022-01-17T18:03:41.247692Z"
    }
   },
   "outputs": [],
   "source": [
    "df_all_preds = resmico_df"
   ]
  },
  {
   "cell_type": "code",
   "execution_count": 32,
   "metadata": {
    "ExecuteTime": {
     "end_time": "2022-01-17T18:03:43.732862Z",
     "start_time": "2022-01-17T18:03:42.765912Z"
    }
   },
   "outputs": [
    {
     "name": "stdout",
     "output_type": "stream",
     "text": [
      "1000 2000\n",
      "set50: recall: 0.500, precision 0.306, threshold 0.904\n",
      "set90: recall: 0.900, precision 0.096, threshold 0.516\n",
      "\n",
      "set thr: recall: 0.830, precision 0.118, threshold 0.627\n",
      "\n",
      "2000 3000\n",
      "set50: recall: 0.500, precision 0.525, threshold 0.814\n",
      "set90: recall: 0.900, precision 0.116, threshold 0.346\n",
      "\n",
      "set thr: recall: 0.742, precision 0.251, threshold 0.627\n",
      "\n",
      "3000 4000\n",
      "set50: recall: 0.500, precision 0.508, threshold 0.716\n",
      "set90: recall: 0.900, precision 0.140, threshold 0.188\n",
      "\n",
      "set thr: recall: 0.615, precision 0.401, threshold 0.627\n",
      "\n",
      "4000 5000\n",
      "set50: recall: 0.500, precision 0.411, threshold 0.617\n",
      "set90: recall: 0.900, precision 0.108, threshold 0.075\n",
      "\n",
      "set thr: recall: 0.488, precision 0.418, threshold 0.627\n",
      "\n",
      "5000 6000\n",
      "set50: recall: 0.501, precision 0.378, threshold 0.642\n",
      "set90: recall: 0.900, precision 0.091, threshold 0.092\n",
      "\n",
      "set thr: recall: 0.524, precision 0.367, threshold 0.627\n",
      "\n",
      "6000 7000\n",
      "set50: recall: 0.501, precision 0.279, threshold 0.564\n",
      "set90: recall: 0.901, precision 0.059, threshold 0.043\n",
      "\n",
      "set thr: recall: 0.451, precision 0.329, threshold 0.627\n",
      "\n",
      "7000 10000\n",
      "set50: recall: 0.500, precision 0.308, threshold 0.612\n",
      "set90: recall: 0.900, precision 0.073, threshold 0.078\n",
      "\n",
      "set thr: recall: 0.481, precision 0.315, threshold 0.627\n",
      "\n",
      "10000 20000\n",
      "set50: recall: 0.500, precision 0.299, threshold 0.645\n",
      "set90: recall: 0.900, precision 0.073, threshold 0.096\n",
      "\n",
      "set thr: recall: 0.528, precision 0.292, threshold 0.627\n",
      "\n",
      "20000 50000\n",
      "set50: recall: 0.501, precision 0.359, threshold 0.694\n",
      "set90: recall: 0.900, precision 0.099, threshold 0.160\n",
      "\n",
      "set thr: recall: 0.583, precision 0.309, threshold 0.627\n",
      "\n",
      "50000 10000000\n",
      "set50: recall: 0.501, precision 0.331, threshold 0.715\n",
      "set90: recall: 0.900, precision 0.132, threshold 0.248\n",
      "\n",
      "set thr: recall: 0.639, precision 0.288, threshold 0.627\n",
      "\n"
     ]
    }
   ],
   "source": [
    "bin_names = ['1k-2k', '2k-3k', '3k-4k', '4k-5k', '5k-6k', '6k-7k', '7k-10k', '10k-20k', '20k-50k', '>50k']\n",
    "min_max_len = [(1000, 2000), (2000, 3000), (3000, 4000),\n",
    "               (4000, 5000), (5000, 6000), (6000, 7000),\n",
    "               (7000, 10000), (10000, 20000), \n",
    "               (20000, 50000), (50000, 10000000)]\n",
    "\n",
    "bin_n = []\n",
    "bin_avglabel = []\n",
    "bin_prauc = []\n",
    "\n",
    "for minl, maxl in min_max_len:\n",
    "    temp_df = df_all_preds[(df_all_preds.length>=minl)&(df_all_preds.length<maxl)]\n",
    "    bin_n.append(temp_df.shape[0])\n",
    "    bin_avglabel.append(temp_df['label'].mean())\n",
    "    \n",
    "    pr_auc = average_precision_score(temp_df['label'], temp_df['resmico_score'])\n",
    "    bin_prauc.append(pr_auc)\n",
    "    \n",
    "    \n",
    "    print(minl, maxl)\n",
    "    precision, recall, thresholds = precision_recall_curve(temp_df['label'], temp_df['resmico_score'])\n",
    "    arg_r50 = np.argmin(np.abs(recall-0.5))\n",
    "    print('set50: recall: {:.3f}, precision {:.3f}, threshold {:.3f}'.format(\n",
    "        recall[arg_r50], precision[arg_r50], thresholds[arg_r50]))\n",
    "    arg_r90 = np.argmin(np.abs(recall-0.90))\n",
    "    print('set90: recall: {:.3f}, precision {:.3f}, threshold {:.3f}'.format(\n",
    "        recall[arg_r90], precision[arg_r90], thresholds[arg_r90]))\n",
    "    print('')\n",
    "    arg_th = np.argmin(np.abs(thresholds-0.627)) #0.8 on total recall\n",
    "    print('set thr: recall: {:.3f}, precision {:.3f}, threshold {:.3f}'.format(\n",
    "        recall[arg_th], precision[arg_th], thresholds[arg_th]))\n",
    "    print('')"
   ]
  },
  {
   "cell_type": "code",
   "execution_count": 33,
   "metadata": {
    "ExecuteTime": {
     "end_time": "2022-01-17T18:03:43.767446Z",
     "start_time": "2022-01-17T18:03:43.734420Z"
    }
   },
   "outputs": [],
   "source": [
    "def autolabel(rects):\n",
    "    \"\"\"Attach a text label above bar.\"\"\"\n",
    "    i=0\n",
    "    for rect1 in rects:\n",
    "        height = rect1.get_height()\n",
    "        ax.annotate('{:.2f}'.format(bin_avglabel[i]),\n",
    "                    xy=(rect1.get_x() + rect1.get_width() / 2, height),\n",
    "#                     xytext=(0, 3),  # 3 points vertical offset\n",
    "#                     textcoords=\"offset points\",\n",
    "                    ha='center', va='bottom')\n",
    "        i+=1"
   ]
  },
  {
   "cell_type": "code",
   "execution_count": 34,
   "metadata": {
    "ExecuteTime": {
     "end_time": "2022-01-17T18:03:44.074718Z",
     "start_time": "2022-01-17T18:03:44.027538Z"
    }
   },
   "outputs": [],
   "source": [
    "def autolabel(bar_plot):\n",
    "    for idx,rect in enumerate(bar_plot):\n",
    "        height = rect.get_height()\n",
    "        ax.text(rect.get_x() + rect.get_width()/2., 1.05*height,\n",
    "                bin_names[idx],\n",
    "                ha='center', va='bottom', rotation=0)\n"
   ]
  },
  {
   "cell_type": "code",
   "execution_count": 35,
   "metadata": {
    "ExecuteTime": {
     "end_time": "2022-01-17T18:03:45.622256Z",
     "start_time": "2022-01-17T18:03:44.877861Z"
    }
   },
   "outputs": [
    {
     "data": {
      "image/png": "[encoded data removed]",
      "text/plain": [
       "<Figure size 720x144 with 1 Axes>"
      ]
     },
     "metadata": {},
     "output_type": "display_data"
    }
   ],
   "source": [
    "fig, ax = plt.subplots(1, 1, figsize=(10,2))\n",
    "width = 0.35\n",
    "positions = np.arange(len(bin_names)) #[l[0] for l in min_max_len]\n",
    "\n",
    "p1 = ax.bar(positions, bin_n, width)\n",
    "plt.xticks(positions, bin_names)\n",
    "\n",
    "for i, p in enumerate(p1):\n",
    "    height = p.get_height()\n",
    "    ax.text(x=p.get_x() + p.get_width() / 2, y=height+.10,\n",
    "    s=\"{:.2f}\".format(bin_avglabel[i]),\n",
    "    ha='center')\n",
    "    \n",
    "plt.yscale('log')\n",
    "plt.ylabel('Counts', fontsize=16)\n",
    "plt.xlabel('Contig length', fontsize=16)\n",
    "\n",
    "save_name = 'family'\n",
    "where = project_path+'/Outputs/figures/lenbin_'+dataset_name+'.pdf'\n",
    "plt.savefig(where, \n",
    "            bbox_inches='tight', format='pdf', dpi=300)\n",
    "\n",
    "plt.show()"
   ]
  },
  {
   "cell_type": "code",
   "execution_count": 37,
   "metadata": {
    "ExecuteTime": {
     "end_time": "2022-01-17T18:03:55.674709Z",
     "start_time": "2022-01-17T18:03:55.369268Z"
    }
   },
   "outputs": [
    {
     "data": {
      "image/png": "[encoded data removed]",
      "text/plain": [
       "<Figure size 720x144 with 1 Axes>"
      ]
     },
     "metadata": {},
     "output_type": "display_data"
    }
   ],
   "source": [
    "fig1 = plt.figure(figsize=(10,2))\n",
    "positions = np.arange(len(bin_names)) #[l[0] for l in min_max_len]\n",
    "plt.scatter(positions, bin_prauc)\n",
    "plt.xticks(positions, bin_names)\n",
    "plt.yticks(np.arange(0, 1, .1))\n",
    "plt.ylabel('AUPRC', fontsize=16)\n",
    "plt.xlabel('Contig length', fontsize=16)\n",
    "plt.grid(True)\n",
    "\n",
    "\n",
    "save_name = 'family'\n",
    "where = project_path+'/Outputs/figures/AUPRCbin_'+save_name+'.pdf'\n",
    "plt.savefig(where, \n",
    "            bbox_inches='tight', format='pdf', dpi=300)\n",
    "\n",
    "plt.show()"
   ]
  },
  {
   "cell_type": "markdown",
   "metadata": {},
   "source": [
    "## Performance parameters"
   ]
  },
  {
   "cell_type": "code",
   "execution_count": 38,
   "metadata": {
    "ExecuteTime": {
     "end_time": "2022-01-17T18:03:57.679607Z",
     "start_time": "2022-01-17T18:03:57.629686Z"
    }
   },
   "outputs": [],
   "source": [
    "df_all_preds = resmico_df"
   ]
  },
  {
   "cell_type": "code",
   "execution_count": 39,
   "metadata": {
    "ExecuteTime": {
     "end_time": "2022-01-17T18:04:06.837085Z",
     "start_time": "2022-01-17T18:04:01.218156Z"
    }
   },
   "outputs": [],
   "source": [
    "split_name = df_all_preds['cont_name'].str.split('/', expand = True)\n",
    "cols = ['richness', 'abund_dist', 'sim_rep', 'read_length', 'seq_depth', 'assembler', 'cont']"
   ]
  },
  {
   "cell_type": "code",
   "execution_count": 40,
   "metadata": {
    "ExecuteTime": {
     "end_time": "2022-01-17T18:04:07.042821Z",
     "start_time": "2022-01-17T18:04:06.838605Z"
    }
   },
   "outputs": [],
   "source": [
    "for i, col in enumerate(cols):\n",
    "    df_all_preds[col] = split_name[i]"
   ]
  },
  {
   "cell_type": "code",
   "execution_count": 41,
   "metadata": {
    "ExecuteTime": {
     "end_time": "2022-01-17T18:04:07.075054Z",
     "start_time": "2022-01-17T18:04:07.043991Z"
    }
   },
   "outputs": [],
   "source": [
    "def auc_group(df):\n",
    "    return average_precision_score(df.label, df.resmico_score)"
   ]
  },
  {
   "cell_type": "code",
   "execution_count": 42,
   "metadata": {
    "ExecuteTime": {
     "end_time": "2022-01-17T18:04:10.870961Z",
     "start_time": "2022-01-17T18:04:07.077163Z"
    }
   },
   "outputs": [],
   "source": [
    "grouped = df_all_preds.groupby(['richness', 'abund_dist', 'read_length', 'seq_depth', 'assembler'],\n",
    "                               as_index=False\n",
    "                              ).apply(lambda x: pd.Series({'AUPRC':auc_group(x)})).reset_index(drop=True)"
   ]
  },
  {
   "cell_type": "code",
   "execution_count": 43,
   "metadata": {
    "ExecuteTime": {
     "end_time": "2022-01-17T18:04:10.905490Z",
     "start_time": "2022-01-17T18:04:10.872251Z"
    }
   },
   "outputs": [],
   "source": [
    "grouped[['richness', 'seq_depth']] = grouped[['richness', 'seq_depth']].apply(pd.to_numeric)"
   ]
  },
  {
   "cell_type": "code",
   "execution_count": 46,
   "metadata": {
    "ExecuteTime": {
     "end_time": "2022-01-17T18:04:22.716177Z",
     "start_time": "2022-01-17T18:04:19.708740Z"
    }
   },
   "outputs": [
    {
     "name": "stdout",
     "output_type": "stream",
     "text": [
      "/cluster/home/omineeva/global_projects/projects/projects2019-contig_quality/Outputs/figures/paramgrid_family.pdf\n"
     ]
    },
    {
     "data": {
      "image/png": "[encoded data removed]",
      "text/plain": [
       "<Figure size 1041.27x648 with 12 Axes>"
      ]
     },
     "metadata": {},
     "output_type": "display_data"
    }
   ],
   "source": [
    "# sns.set(font_scale=1.2)\n",
    "# sns.set_style(\"whitegrid\")\n",
    "# Create an array with the colors you want to use\n",
    "# colors = [(0, 160/255, 81/255), (236/255, 0, 140/255), (28/255, 117/255, 188/255)]\n",
    "# Set your custom color palette\n",
    "# sns.set_palette(sns.color_palette(colors))\n",
    "g = sns.FacetGrid(grouped, col=\"richness\", row='seq_depth',\n",
    "                  margin_titles=True)\n",
    "g.map_dataframe(sns.scatterplot, x=\"assembler\", y=\"AUPRC\", hue='read_length', style='abund_dist', \n",
    "                s=200, alpha=0.6)\n",
    "g.tight_layout()\n",
    "g.add_legend()\n",
    "\n",
    "dataset_name = 'family'\n",
    "where = project_path+'Outputs/figures/paramgrid_'+dataset_name+'.pdf'\n",
    "plt.savefig(where, \n",
    "            bbox_inches='tight', format='pdf', dpi=300)\n",
    "print(where)"
   ]
  },
  {
   "cell_type": "markdown",
   "metadata": {},
   "source": [
    "## Metrics after filtering misassemblies"
   ]
  },
  {
   "cell_type": "code",
   "execution_count": 42,
   "metadata": {
    "ExecuteTime": {
     "end_time": "2022-01-15T17:18:16.560264Z",
     "start_time": "2022-01-15T17:18:16.527526Z"
    }
   },
   "outputs": [],
   "source": [
    "def calculate_N50(list_of_lengths):\n",
    "    numlist = np.array(list_of_lengths)\n",
    "    numlist.sort()\n",
    "    newlist = []\n",
    "    for x in numlist :\n",
    "        newlist += [x]*x\n",
    "    # take the mean of the two middle elements if there are an even number\n",
    "    # of elements. otherwise, take the middle element\n",
    "    if len(newlist) % 2 == 0:\n",
    "        medianpos = int(len(newlist)/2)\n",
    "\n",
    "        return float(newlist[medianpos-1] + newlist[medianpos]) /2\n",
    "    else:\n",
    "        medianpos = int(np.ceil(len(newlist)/2))\n",
    "\n",
    "        return newlist[medianpos-1]\n"
   ]
  },
  {
   "cell_type": "code",
   "execution_count": 43,
   "metadata": {
    "ExecuteTime": {
     "end_time": "2022-01-15T17:18:18.629838Z",
     "start_time": "2022-01-15T17:18:18.149260Z"
    }
   },
   "outputs": [
    {
     "name": "stdout",
     "output_type": "stream",
     "text": [
      "Original\n",
      "true error rate 0.036\n",
      "N contigs 1858111\n",
      "Mean length 2746\n",
      "Median length 1515\n",
      "\n",
      "ResMiCo\n",
      "true error rate 0.007\n",
      "N contigs 1294886\n",
      "Mean length 3135\n",
      "Median length 1756\n",
      "\n"
     ]
    }
   ],
   "source": [
    "print('Original')\n",
    "print('true error rate {:.3f}'.format(df_all_preds.label.mean()))\n",
    "print('N contigs {:d}'.format(df_all_preds.shape[0]))\n",
    "print('Mean length {:.0f}'.format(df_all_preds.length.mean()))\n",
    "print('Median length {:.0f}'.format(df_all_preds.length.median()))\n",
    "print('')\n",
    "\n",
    "df_filtered = df_all_preds[df_all_preds.resmico_score<0.5]\n",
    "print('ResMiCo')\n",
    "print('true error rate {:.3f}'.format(df_filtered.label.mean()))\n",
    "print('N contigs {:d}'.format(df_filtered.shape[0]))\n",
    "print('Mean length {:.0f}'.format(df_filtered.length.mean()))\n",
    "print('Median length {:.0f}'.format(df_filtered.length.median()))\n",
    "print('')"
   ]
  },
  {
   "cell_type": "code",
   "execution_count": 44,
   "metadata": {
    "ExecuteTime": {
     "end_time": "2022-01-15T17:19:35.238878Z",
     "start_time": "2022-01-15T17:18:18.870180Z"
    }
   },
   "outputs": [
    {
     "data": {
      "text/plain": [
       "(3446, 4154)"
      ]
     },
     "execution_count": 44,
     "metadata": {},
     "output_type": "execute_result"
    }
   ],
   "source": [
    "#run this only if enough memory reqquested\n",
    "calculate_N50(df_all_preds.length), calculate_N50(df_filtered.length)"
   ]
  },
  {
   "cell_type": "code",
   "execution_count": 45,
   "metadata": {
    "ExecuteTime": {
     "end_time": "2022-01-15T17:19:35.813656Z",
     "start_time": "2022-01-15T17:19:35.243833Z"
    }
   },
   "outputs": [],
   "source": [
    "# def PR4all(result_df, dataset_name, save_path=None):\n",
    "# #     techs = ['_megahit', '_metaspades']\n",
    "#     fig, ax = plt.subplots(1, 1, figsize=(14, 10))\n",
    "    \n",
    "#     y_true = result_df.label>0\n",
    "#     y_resmico = result_df.resmico_score\n",
    "#     y_deepmased = result_df.deepmased_score\n",
    "#     y_ALE = result_df.ALE_score\n",
    "#     y_VALET = result_df.VALET_score\n",
    "# #     y_metaMIC = result_df.metaMIC_score\n",
    "    \n",
    "#     colors = ['b', 'g', 'C1', 'r', 'b']\n",
    "#     linestyles = ['solid','dashed']\n",
    "# #     legend_tech = ['MH', 'MS']\n",
    "\n",
    "#     # resmico\n",
    "#     prs, rcs, thresholds = precision_recall_curve(y_true, y_resmico)\n",
    "#     ax.plot(rcs, prs, lw=1.5, color=colors[0], ls=linestyles[0],\n",
    "#                  label='ResMiCo: %0.3f' % (average_precision_score(y_true, y_resmico)))\n",
    "    \n",
    "#     # deepmased\n",
    "#     prs, rcs, thresholds = precision_recall_curve(y_true, y_deepmased)\n",
    "#     ax.plot(rcs, prs, lw=1.5, color=colors[1], ls=linestyles[1],\n",
    "#                  label='DeepMAsED: %0.3f' % (average_precision_score(y_true, y_deepmased)))\n",
    "        \n",
    "#     # ALE\n",
    "#     prs, rcs, thresholds = precision_recall_curve(y_true, y_ALE)\n",
    "#     ax.plot(rcs, prs, lw=1.5, color=colors[2], ls=linestyles[1],\n",
    "#                  label='ALE: %0.3f' % (average_precision_score(y_true, y_ALE)))\n",
    "    \n",
    "#     # VALET\n",
    "#     prs, rcs, thresholds = precision_recall_curve(y_true, y_VALET)\n",
    "#     ax.plot(rcs, prs, lw=1.5, color=colors[3], ls=linestyles[1],\n",
    "#                  label='VALET: %0.3f' % (average_precision_score(y_true, y_VALET)))\n",
    "    \n",
    "# #     # metaMIC\n",
    "# #     prs, rcs, thresholds = precision_recall_curve(y_true, y_metaMIC)\n",
    "# #     ax.plot(rcs, prs, lw=1.5, color=colors[4], ls=linestyles[1],\n",
    "# #                  label='metaMIC: %0.3f' % (average_precision_score(y_true, y_VALET)))\n",
    "        \n",
    "#     # Random\n",
    "#     pr_random = np.mean(y_true)\n",
    "#     ax.plot([0, 1], [pr_random, pr_random], ':', color='gray', label=\"Random: %0.3f\" % pr_random, lw=2)\n",
    "\n",
    "#     ax.set_xlabel('Recall', fontsize=22)\n",
    "#     ax.set_ylabel('Precision', fontsize=22)\n",
    "#     ax.tick_params(axis='both', which='major', labelsize=22)\n",
    "#     ax.set_ylim([0.0, 1.05])\n",
    "#     ax.set_xlim([0.0, 1.0])\n",
    "    \n",
    "#     # plt.title('Receiver operating characteristic example')\n",
    "#     ax.legend(loc='upper right', fontsize=20)\n",
    "#     ax.grid(True, axis='y', linestyle=':')\n",
    "#     ax.grid(True, axis='x', linestyle=':')\n",
    "    \n",
    "#     if save_path:\n",
    "#         where = os.path.join(save_path,'PRcurve_'+dataset_name+'.pdf')\n",
    "#         plt.savefig(where, \n",
    "#                     bbox_inches='tight', format='pdf', dpi=5000)\n",
    "#         print(where)\n",
    "#     plt.show()"
   ]
  },
  {
   "cell_type": "code",
   "execution_count": null,
   "metadata": {},
   "outputs": [],
   "source": []
  }
 ],
 "metadata": {
  "kernelspec": {
   "display_name": "resmico",
   "language": "python",
   "name": "resmico"
  },
  "language_info": {
   "codemirror_mode": {
    "name": "ipython",
    "version": 3
   },
   "file_extension": ".py",
   "mimetype": "text/x-python",
   "name": "python",
   "nbconvert_exporter": "python",
   "pygments_lexer": "ipython3",
   "version": "3.9.7"
  }
 },
 "nbformat": 4,
 "nbformat_minor": 2
}
