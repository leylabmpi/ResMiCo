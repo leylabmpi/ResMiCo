{
 "cells": [
  {
   "cell_type": "code",
   "execution_count": 16,
   "id": "8221cc0d",
   "metadata": {
    "ExecuteTime": {
     "end_time": "2022-01-19T13:17:28.148599Z",
     "start_time": "2022-01-19T13:17:12.850249Z"
    }
   },
   "outputs": [
    {
     "name": "stdout",
     "output_type": "stream",
     "text": [
      "The autoreload extension is already loaded. To reload it, use:\n",
      "  %reload_ext autoreload\n"
     ]
    }
   ],
   "source": [
    "%load_ext autoreload\n",
    "%autoreload 2"
   ]
  },
  {
   "cell_type": "code",
   "execution_count": 17,
   "id": "b9676a13",
   "metadata": {
    "ExecuteTime": {
     "end_time": "2022-01-19T13:17:28.169320Z",
     "start_time": "2022-01-19T13:17:28.150915Z"
    }
   },
   "outputs": [],
   "source": [
    "import numpy as np\n",
    "np.random.seed(5)\n",
    "import pandas as pd\n",
    "import time"
   ]
  },
  {
   "cell_type": "code",
   "execution_count": 18,
   "id": "6b219b6d",
   "metadata": {
    "ExecuteTime": {
     "end_time": "2022-01-19T13:17:28.183513Z",
     "start_time": "2022-01-19T13:17:28.170177Z"
    }
   },
   "outputs": [],
   "source": [
    "pd.set_option('display.max_columns', None)"
   ]
  },
  {
   "cell_type": "code",
   "execution_count": 19,
   "id": "a5fb1e2a",
   "metadata": {
    "ExecuteTime": {
     "end_time": "2022-01-19T13:17:28.195107Z",
     "start_time": "2022-01-19T13:17:28.185252Z"
    }
   },
   "outputs": [],
   "source": [
    "import sys\n",
    "sys.path.insert(1, '/cluster/home/omineeva/ResMiCo')\n",
    "from resmico import contig_reader"
   ]
  },
  {
   "cell_type": "code",
   "execution_count": 20,
   "id": "63eacb2f",
   "metadata": {
    "ExecuteTime": {
     "end_time": "2022-01-19T13:17:28.205689Z",
     "start_time": "2022-01-19T13:17:28.196109Z"
    }
   },
   "outputs": [],
   "source": [
    "project_path = '/cluster/home/omineeva/global_projects/projects/projects2019-contig_quality/'"
   ]
  },
  {
   "cell_type": "code",
   "execution_count": 21,
   "id": "5db3303c",
   "metadata": {
    "ExecuteTime": {
     "end_time": "2022-01-19T13:17:28.231256Z",
     "start_time": "2022-01-19T13:17:28.206958Z"
    }
   },
   "outputs": [],
   "source": [
    "def get_ind(reader, sel_file_name='', sel_label=2, fraq=1):\n",
    "    #sel_label: 0 - negative, 1 - positive, 2 - both\n",
    "    sel_ind = []\n",
    "    for i in range(len(reader)):\n",
    "        add = True\n",
    "        if sel_label==0:\n",
    "            if reader.contigs[i].misassembly != 0:\n",
    "                add = False\n",
    "        elif sel_label==1:\n",
    "            if reader.contigs[i].misassembly == 0:\n",
    "                add = False \n",
    "        if sel_file_name not in reader.contigs[i].file:\n",
    "            add = False\n",
    "        if add:\n",
    "            sel_ind.append(i)\n",
    "    if fraq < 1:\n",
    "        num = int(fraq * len(sel_ind))\n",
    "        np.random.shuffle(sel_ind)\n",
    "        sel_ind = sel_ind[:num] \n",
    "    return sel_ind\n",
    "\n",
    "\n",
    "\n",
    "def compute_mean_stdev(reader, sel_file_name='', sel_label=2, fraq=1):\n",
    "    start_time = time.time()\n",
    "    sel_ind = get_ind(reader, sel_file_name, sel_label, fraq)\n",
    "    print('sel_ind func time: ',  time.time()-start_time, len(sel_ind))\n",
    "    \n",
    "    contig_data = [reader.contigs[i] for i in sel_ind]\n",
    "    \n",
    "    start_time = time.time()\n",
    "    features_data = reader.read_contigs(contig_data, return_raw=True)\n",
    "    print('read_contigs func time: ',  time.time()-start_time)\n",
    "    \n",
    "    features_stats = {}\n",
    "    for feature in reader.feature_names:\n",
    "        features_stats[feature] = {'sum':0, 'sum2':0, 'count':0}\n",
    "\n",
    "    start_time = time.time()\n",
    "    \n",
    "    #for runs with 1 feature\n",
    "    minval = 10**8\n",
    "    maxval = -10**8\n",
    "    for contig in features_data:\n",
    "        for feature in reader.feature_names:\n",
    "            cur_max = np.nanmax(contig[feature])\n",
    "            cur_min = np.nanmin(contig[feature])\n",
    "            minval = np.min((minval,cur_min))\n",
    "            maxval = np.max((maxval,cur_max))\n",
    "            \n",
    "            features_stats[feature]['sum'] += np.nansum(contig[feature])\n",
    "            features_stats[feature]['sum2'] += np.nansum(contig[feature]**2)\n",
    "            features_stats[feature]['count'] += (len(contig[feature]) -\n",
    "                                             np.count_nonzero(np.isnan(contig[feature])))\n",
    "    print('iterate features_data time: ',  time.time()-start_time)\n",
    "    print(minval, maxval)\n",
    "    print(features_stats)\n",
    "    features_meanstd = {}\n",
    "    for feature in reader.feature_names:\n",
    "        feat_sum = features_stats[feature]['sum']\n",
    "        n_el = features_stats[feature]['count']\n",
    "        feat_sq_sum = features_stats[feature]['sum2']\n",
    "        features_meanstd[feature+'_mean'] = feat_sum / n_el\n",
    "        features_meanstd[feature+'_stdev'] = np.sqrt((feat_sq_sum / n_el - \n",
    "                                                     (feat_sum / n_el) ** 2).clip(min=0))\n",
    "    return features_meanstd"
   ]
  },
  {
   "cell_type": "code",
   "execution_count": 22,
   "id": "f39fa3d8",
   "metadata": {
    "ExecuteTime": {
     "end_time": "2022-01-19T13:17:28.245911Z",
     "start_time": "2022-01-19T13:17:28.232291Z"
    }
   },
   "outputs": [],
   "source": [
    "# features = ['num_SNPs', 'num_proper_Match', 'num_orphans_Match', \n",
    "#             'mean_al_score_Match', 'coverage', 'stdev_insert_size_Match', 'mean_mapq_Match']\n",
    "\n",
    "features=['coverage']#'num_proper_Match',\n",
    "#         'num_orphans_Match',\n",
    "#         'max_insert_size_Match',\n",
    "#         'mean_insert_size_Match',\n",
    "#         'min_insert_size_Match',\n",
    "#         'stdev_insert_size_Match',\n",
    "#         'mean_mapq_Match',\n",
    "#         'min_mapq_Match',\n",
    "#         'stdev_mapq_Match',\n",
    "#         'mean_al_score_Match',\n",
    "#         'min_al_score_Match',\n",
    "#         'stdev_al_score_Match',\n",
    "#         'seq_window_perc_gc',\n",
    "#         'num_proper_SNP',\n",
    "#         'coverage']#,  \n",
    "#           'seq_window_entropy']"
   ]
  },
  {
   "cell_type": "code",
   "execution_count": 23,
   "id": "57a1225e",
   "metadata": {
    "ExecuteTime": {
     "end_time": "2022-01-19T13:17:28.272387Z",
     "start_time": "2022-01-19T13:17:28.247103Z"
    }
   },
   "outputs": [],
   "source": [
    "df = pd.DataFrame(columns=np.concatenate((('data_path', 'sel_file_name', 'sel_label'), \n",
    "                                          [f+'_mean' for f in features],\n",
    "                                          [f+'_stdev' for f in features])))"
   ]
  },
  {
   "cell_type": "code",
   "execution_count": 24,
   "id": "a3afcdad",
   "metadata": {
    "ExecuteTime": {
     "end_time": "2022-01-19T13:17:28.289501Z",
     "start_time": "2022-01-19T13:17:28.273843Z"
    }
   },
   "outputs": [],
   "source": [
    "row_ind = 0\n",
    "n_procs = 16\n",
    "chunks = False\n",
    "no_cython = False"
   ]
  },
  {
   "cell_type": "markdown",
   "id": "e0815c27",
   "metadata": {},
   "source": [
    "## TRAIN"
   ]
  },
  {
   "cell_type": "code",
   "execution_count": 25,
   "id": "dd450318",
   "metadata": {
    "ExecuteTime": {
     "end_time": "2022-01-19T13:19:05.755899Z",
     "start_time": "2022-01-19T13:17:41.500592Z"
    }
   },
   "outputs": [
    {
     "name": "stdout",
     "output_type": "stream",
     "text": [
      "8637153\n"
     ]
    }
   ],
   "source": [
    "feature_files_path = project_path + 'data/v2/resmico-sm/GTDBr202_n9k_train/' #_1rep\n",
    "reader = contig_reader.ContigReader(feature_files_path, features, n_procs, chunks, no_cython)\n",
    "print(len(reader))"
   ]
  },
  {
   "cell_type": "code",
   "execution_count": 11,
   "id": "1870c79e",
   "metadata": {
    "ExecuteTime": {
     "end_time": "2022-01-18T16:37:38.641571Z",
     "start_time": "2022-01-18T16:37:30.464316Z"
    }
   },
   "outputs": [
    {
     "data": {
      "text/plain": [
       "53.81759907545678"
      ]
     },
     "execution_count": 11,
     "metadata": {},
     "output_type": "execute_result"
    }
   ],
   "source": [
    "sum_a = 0\n",
    "sum_l = 0\n",
    "for i, cont in enumerate(reader.contigs):\n",
    "    sum_l += cont.length\n",
    "    sum_a += cont.avg_coverage*cont.length\n",
    "sum_a/sum_l #if >20 we can not trust it, there are dummy 100s"
   ]
  },
  {
   "cell_type": "code",
   "execution_count": 12,
   "id": "c58f6214",
   "metadata": {
    "ExecuteTime": {
     "end_time": "2022-01-18T16:37:47.131101Z",
     "start_time": "2022-01-18T16:37:47.095255Z"
    }
   },
   "outputs": [
    {
     "name": "stdout",
     "output_type": "stream",
     "text": [
      "76149223294\n"
     ]
    }
   ],
   "source": [
    "print(sum_l)"
   ]
  },
  {
   "cell_type": "code",
   "execution_count": 13,
   "id": "884a3ce3",
   "metadata": {
    "ExecuteTime": {
     "end_time": "2022-01-18T16:39:43.802842Z",
     "start_time": "2022-01-18T16:39:30.366369Z"
    }
   },
   "outputs": [
    {
     "data": {
      "text/plain": [
       "(1517.0, 2959.456903766341)"
      ]
     },
     "execution_count": 13,
     "metadata": {},
     "output_type": "execute_result"
    }
   ],
   "source": [
    "import statistics\n",
    "sum_l = []\n",
    "for i, cont in enumerate(reader.contigs):\n",
    "    sum_l.append(cont.length)\n",
    "statistics.median(sum_l), np.mean(sum_l)"
   ]
  },
  {
   "cell_type": "code",
   "execution_count": 14,
   "id": "610e8d0e",
   "metadata": {
    "ExecuteTime": {
     "end_time": "2022-01-18T16:40:37.200870Z",
     "start_time": "2022-01-18T16:40:31.367181Z"
    }
   },
   "outputs": [
    {
     "data": {
      "text/plain": [
       "0.03176071798750214"
      ]
     },
     "execution_count": 14,
     "metadata": {},
     "output_type": "execute_result"
    }
   ],
   "source": [
    "ms = 0\n",
    "for i, cont in enumerate(reader.contigs):\n",
    "    ms+=1*(cont.misassembly>0)\n",
    "ms/(i+1)"
   ]
  },
  {
   "cell_type": "code",
   "execution_count": 15,
   "id": "b954d69b",
   "metadata": {
    "ExecuteTime": {
     "end_time": "2022-01-18T17:42:54.192121Z",
     "start_time": "2022-01-18T16:42:08.345072Z"
    }
   },
   "outputs": [
    {
     "name": "stdout",
     "output_type": "stream",
     "text": [
      "sel_ind func time:  10.679700136184692 2573081\n",
      "read_contigs func time:  3413.3425109386444\n",
      "iterate features_data time:  214.11487698554993\n",
      "0.0 1264.0\n",
      "{'coverage': {'sum': 95697636517.0, 'sum2': 1708121085599.0, 'count': 7603137259}}\n"
     ]
    },
    {
     "data": {
      "text/html": [
       "<div>\n",
       "<style scoped>\n",
       "    .dataframe tbody tr th:only-of-type {\n",
       "        vertical-align: middle;\n",
       "    }\n",
       "\n",
       "    .dataframe tbody tr th {\n",
       "        vertical-align: top;\n",
       "    }\n",
       "\n",
       "    .dataframe thead th {\n",
       "        text-align: right;\n",
       "    }\n",
       "</style>\n",
       "<table border=\"1\" class=\"dataframe\">\n",
       "  <thead>\n",
       "    <tr style=\"text-align: right;\">\n",
       "      <th></th>\n",
       "      <th>data_path</th>\n",
       "      <th>sel_file_name</th>\n",
       "      <th>sel_label</th>\n",
       "      <th>coverage_mean</th>\n",
       "      <th>coverage_stdev</th>\n",
       "    </tr>\n",
       "  </thead>\n",
       "  <tbody>\n",
       "    <tr>\n",
       "      <th>0</th>\n",
       "      <td>data/v2/resmico-sm/GTDBr202_n9k_train/</td>\n",
       "      <td></td>\n",
       "      <td>2</td>\n",
       "      <td>12.586599</td>\n",
       "      <td>8.138647</td>\n",
       "    </tr>\n",
       "  </tbody>\n",
       "</table>\n",
       "</div>"
      ],
      "text/plain": [
       "                                data_path sel_file_name sel_label  \\\n",
       "0  data/v2/resmico-sm/GTDBr202_n9k_train/                       2   \n",
       "\n",
       "   coverage_mean  coverage_stdev  \n",
       "0      12.586599        8.138647  "
      ]
     },
     "metadata": {},
     "output_type": "display_data"
    }
   ],
   "source": [
    "sel_file_name = ''\n",
    "sel_label=2\n",
    "fraq=0.1\n",
    "\n",
    "features_meanstd = compute_mean_stdev(reader, sel_file_name, sel_label, fraq)\n",
    "\n",
    "features_meanstd['data_path'] = feature_files_path[len(project_path):]\n",
    "features_meanstd['sel_file_name'] = sel_file_name\n",
    "features_meanstd['sel_label'] = sel_label\n",
    "row_to_add = pd.Series(features_meanstd, name=row_ind)\n",
    "row_ind+=1\n",
    "df = df.append(row_to_add)\n",
    "\n",
    "display(df)"
   ]
  },
  {
   "cell_type": "code",
   "execution_count": null,
   "id": "4f3ae14e",
   "metadata": {},
   "outputs": [],
   "source": []
  },
  {
   "cell_type": "code",
   "execution_count": 50,
   "id": "138f0cf8",
   "metadata": {
    "ExecuteTime": {
     "end_time": "2022-01-13T20:20:51.988626Z",
     "start_time": "2022-01-13T20:19:19.593650Z"
    }
   },
   "outputs": [
    {
     "name": "stdout",
     "output_type": "stream",
     "text": [
      "sel_ind func time:  0.06417536735534668 323396\n",
      "read_contigs func time:  65.99628233909607\n",
      "iterate features_data time:  22.14345407485962\n",
      "0.0 1004.0\n",
      "{'coverage': {'sum': 13979831488.0, 'sum2': 273458914943.0, 'count': 890427979}}\n"
     ]
    },
    {
     "data": {
      "text/html": [
       "<div>\n",
       "<style scoped>\n",
       "    .dataframe tbody tr th:only-of-type {\n",
       "        vertical-align: middle;\n",
       "    }\n",
       "\n",
       "    .dataframe tbody tr th {\n",
       "        vertical-align: top;\n",
       "    }\n",
       "\n",
       "    .dataframe thead th {\n",
       "        text-align: right;\n",
       "    }\n",
       "</style>\n",
       "<table border=\"1\" class=\"dataframe\">\n",
       "  <thead>\n",
       "    <tr style=\"text-align: right;\">\n",
       "      <th></th>\n",
       "      <th>data_path</th>\n",
       "      <th>sel_file_name</th>\n",
       "      <th>sel_label</th>\n",
       "      <th>coverage_mean</th>\n",
       "      <th>coverage_stdev</th>\n",
       "    </tr>\n",
       "  </thead>\n",
       "  <tbody>\n",
       "    <tr>\n",
       "      <th>0</th>\n",
       "      <td>data/CAMI/CAMI2_HMP-oral/short_read/ResMiCo-SM...</td>\n",
       "      <td></td>\n",
       "      <td>2</td>\n",
       "      <td>16.330370</td>\n",
       "      <td>7.811221</td>\n",
       "    </tr>\n",
       "    <tr>\n",
       "      <th>1</th>\n",
       "      <td>data/CAMI/CAMI2_HMP-gut/short_read/ResMiCo-SM/...</td>\n",
       "      <td></td>\n",
       "      <td>2</td>\n",
       "      <td>16.900280</td>\n",
       "      <td>7.235160</td>\n",
       "    </tr>\n",
       "    <tr>\n",
       "      <th>2</th>\n",
       "      <td>data/CAMI/CAMI2_HMP-skin/short_read/ResMiCo-SM...</td>\n",
       "      <td></td>\n",
       "      <td>2</td>\n",
       "      <td>15.700126</td>\n",
       "      <td>7.785600</td>\n",
       "    </tr>\n",
       "  </tbody>\n",
       "</table>\n",
       "</div>"
      ],
      "text/plain": [
       "                                           data_path sel_file_name sel_label  \\\n",
       "0  data/CAMI/CAMI2_HMP-oral/short_read/ResMiCo-SM...                       2   \n",
       "1  data/CAMI/CAMI2_HMP-gut/short_read/ResMiCo-SM/...                       2   \n",
       "2  data/CAMI/CAMI2_HMP-skin/short_read/ResMiCo-SM...                       2   \n",
       "\n",
       "   coverage_mean  coverage_stdev  \n",
       "0      16.330370        7.811221  \n",
       "1      16.900280        7.235160  \n",
       "2      15.700126        7.785600  "
      ]
     },
     "metadata": {},
     "output_type": "display_data"
    }
   ],
   "source": [
    "feature_files_path = project_path + 'data/CAMI/CAMI2_HMP-skin/short_read/ResMiCo-SM/features'\n",
    "reader = contig_reader.ContigReader(feature_files_path, features, n_procs, chunks, no_cython)\n",
    "\n",
    "sel_file_name = ''#'0.005555/mean-10-sigma-1/3/150/8000000'\n",
    "sel_label=2\n",
    "fraq=1\n",
    "\n",
    "features_meanstd = compute_mean_stdev(reader, sel_file_name, sel_label, fraq)\n",
    "features_meanstd['data_path'] = feature_files_path[len(project_path):]\n",
    "features_meanstd['sel_file_name'] = sel_file_name\n",
    "features_meanstd['sel_label'] = sel_label\n",
    "row_to_add = pd.Series(features_meanstd, name=row_ind)\n",
    "row_ind+=1\n",
    "df = df.append(row_to_add)\n",
    "\n",
    "display(df)"
   ]
  },
  {
   "cell_type": "code",
   "execution_count": null,
   "id": "683cf229",
   "metadata": {},
   "outputs": [],
   "source": []
  }
 ],
 "metadata": {
  "kernelspec": {
   "display_name": "resmico",
   "language": "python",
   "name": "resmico"
  },
  "language_info": {
   "codemirror_mode": {
    "name": "ipython",
    "version": 3
   },
   "file_extension": ".py",
   "mimetype": "text/x-python",
   "name": "python",
   "nbconvert_exporter": "python",
   "pygments_lexer": "ipython3",
   "version": "3.9.7"
  }
 },
 "nbformat": 4,
 "nbformat_minor": 5
}
