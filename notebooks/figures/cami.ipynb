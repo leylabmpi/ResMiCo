{
 "cells": [
  {
   "cell_type": "code",
   "execution_count": 1,
   "metadata": {
    "ExecuteTime": {
     "end_time": "2022-01-14T16:25:04.149765Z",
     "start_time": "2022-01-14T16:25:04.005304Z"
    }
   },
   "outputs": [],
   "source": [
    "%load_ext autoreload\n",
    "%autoreload 2"
   ]
  },
  {
   "cell_type": "code",
   "execution_count": 2,
   "metadata": {
    "ExecuteTime": {
     "end_time": "2022-01-14T16:25:08.749185Z",
     "start_time": "2022-01-14T16:25:04.957383Z"
    }
   },
   "outputs": [
    {
     "name": "stderr",
     "output_type": "stream",
     "text": [
      "2022-01-14 17:25:06.445336: I tensorflow/stream_executor/platform/default/dso_loader.cc:49] Successfully opened dynamic library libcudart.so.10.1\n"
     ]
    }
   ],
   "source": [
    "import sys\n",
    "sys.path.insert(1, '/cluster/home/omineeva/ResMiCo')\n",
    "from resmico import utils\n",
    "from pathlib import Path"
   ]
  },
  {
   "cell_type": "code",
   "execution_count": 3,
   "metadata": {
    "ExecuteTime": {
     "end_time": "2022-01-14T16:25:09.050469Z",
     "start_time": "2022-01-14T16:25:08.751318Z"
    }
   },
   "outputs": [],
   "source": [
    "import os\n",
    "import pandas as pd\n",
    "import numpy as np\n",
    "from sklearn.metrics import average_precision_score, recall_score\n",
    "from sklearn.metrics import precision_recall_curve\n",
    "import matplotlib.pyplot as plt\n",
    "import time"
   ]
  },
  {
   "cell_type": "code",
   "execution_count": 4,
   "metadata": {
    "ExecuteTime": {
     "end_time": "2022-01-14T16:25:09.099991Z",
     "start_time": "2022-01-14T16:25:09.052281Z"
    }
   },
   "outputs": [],
   "source": [
    "project_path = '/cluster/home/omineeva/global_projects/projects/projects2019-contig_quality/'\n",
    "gut_path = project_path+'data/CAMI/CAMI2_HMP-gut/short_read/ResMiCo-SM/'\n",
    "skin_path = project_path+'data/CAMI/CAMI2_HMP-skin/short_read/ResMiCo-SM/'\n",
    "oral_path = project_path+'data/CAMI/CAMI2_HMP-oral/short_read/ResMiCo-SM/'\n",
    "\n",
    "predictions_path=project_path+'/Outputs/predictions/'\n",
    "save_path = project_path+'Outputs/'"
   ]
  },
  {
   "cell_type": "code",
   "execution_count": 25,
   "metadata": {
    "ExecuteTime": {
     "end_time": "2022-01-14T16:50:35.379645Z",
     "start_time": "2022-01-14T16:50:35.322850Z"
    }
   },
   "outputs": [],
   "source": [
    "def creat_dfs(site):\n",
    "    gut_path = project_path+'data/CAMI/CAMI2_HMP-gut/short_read/ResMiCo-SM/'\n",
    "    skin_path = project_path+'data/CAMI/CAMI2_HMP-skin/short_read/ResMiCo-SM/'\n",
    "    oral_path = project_path+'data/CAMI/CAMI2_HMP-oral/short_read/ResMiCo-SM/'\n",
    "    \n",
    "    if site == 'gut':\n",
    "        site_path = gut_path\n",
    "        deepmased_df = pd.read_csv(project_path+'Outputs/predictions/CAMI2_HMP_gut_v1.csv')\n",
    "        resmico_df = pd.read_csv('') #TODO\n",
    "    elif site == 'skin':\n",
    "        site_path = skin_path\n",
    "        deepmased_df = pd.read_csv(project_path+'Outputs/predictions/CAMI2_HMP_skin_v1.csv')\n",
    "        resmico_df = pd.read_csv('/cluster/home/ddanciu/tmp/evaluate_skin_2022-01-11_10-19-47.csv')\n",
    "    elif site == 'oral':\n",
    "        site_path = oral_path\n",
    "        deepmased_df = pd.read_csv(project_path+'Outputs/predictions/CAMI2_HMP_oral_v1.csv')\n",
    "        resmico_df = pd.read_csv('') #TODO\n",
    "        \n",
    "    ALE_path = site_path+'ALE/'\n",
    "    ALE_df = pd.read_csv(ALE_path + 'aggregated_preds.csv')\n",
    "    \n",
    "    metaMIC_path = site_path+'metaMIC/'\n",
    "    metaMIC_df = load_metamic(metaMIC_path)\n",
    "    \n",
    "    n=7\n",
    "    resmico_df['cont_name']=resmico_df['cont_name'].map(lambda x: '/'.join(x.split('/')[-n:]))\n",
    "    resmico_df = resmico_df.rename(columns={\"max\": \"resmico_score\"})\n",
    "    deepmased_df = deepmased_df.rename(columns={\"max\": \"deepmased_score\"})\n",
    "    deepmased_df = deepmased_df.drop(columns = ['length', 'label']) \n",
    "    metaMIC_df = metaMIC_df.drop(columns = ['length'])\n",
    "    print(site, len(resmico_df), len(deepmased_df), len(metaMIC_df), len(ALE_df))\n",
    "    \n",
    "    result = pd.merge(resmico_df, deepmased_df, on=['cont_name'])\n",
    "    print('result',len(result))\n",
    "    result = pd.merge(result, ALE_df, on=['cont_name'])\n",
    "    print('result',len(result))\n",
    "\n",
    "    result_m = pd.merge(result, metaMIC_df, on=['cont_name'])\n",
    "    print('result_m', len(result), len(result_m))\n",
    "    \n",
    "    print('AUPRC resmico_score: ',\n",
    "      average_precision_score(result['label']>0, result['resmico_score']))\n",
    "    print('AUPRC deepmased_score: ',\n",
    "      average_precision_score(result['label']>0, result['deepmased_score']))\n",
    "    print('AUPRC ALE_score: ',\n",
    "          average_precision_score(result['label']>0, result['ALE_score']))\n",
    "    print('RANDOME score: ',\n",
    "          np.mean(result['label']))\n",
    "    \n",
    "    print('/n metamic subset:')\n",
    "    print('AUPRC metaMIC: ',\n",
    "          average_precision_score(result_m['label']>0, result_m['metaMIC_contig_score']))\n",
    "    print('AUPRC resmico_score: ',\n",
    "      average_precision_score(result_m['label']>0, result_m['resmico_score']))\n",
    "    print('AUPRC deepmased_score: ',\n",
    "      average_precision_score(result_m['label']>0, result_m['deepmased_score']))\n",
    "    print('AUPRC ALE_score: ',\n",
    "          average_precision_score(result_m['label']>0, result_m['ALE_score']))\n",
    "    print('RANDOME score: ',\n",
    "          np.mean(result_m['label']))\n",
    "    \n",
    "    return result, result_m"
   ]
  },
  {
   "cell_type": "code",
   "execution_count": 23,
   "metadata": {
    "ExecuteTime": {
     "end_time": "2022-01-14T16:50:10.686664Z",
     "start_time": "2022-01-14T16:50:10.634632Z"
    }
   },
   "outputs": [],
   "source": [
    "def PR4all(axs, i, df, df_m,\n",
    "           dataset_name = 'dname', save_path=None):\n",
    "    ax = axs[i]\n",
    "    y_true_r, y_resmico = df.label>0, df.resmico_score\n",
    "    y_true_d, y_deepmased = df.label>0, df.deepmased_score\n",
    "    y_true_a, y_ALE = df.label>0, df.ALE_score\n",
    "    y_true_m, y_metaMIC = df_m.label>0, df_m.metaMIC_contig_score\n",
    "    \n",
    "    colors = [(0, 160/255, 81/255), (28/255, 117/255, 188/255), (46/255, 49/255, 14/255), (236/255, 0, 140/255)]\n",
    "    linestyles = ['solid','dashed']\n",
    "\n",
    "    # resmico\n",
    "    prs, rcs, thresholds = precision_recall_curve(y_true_r, y_resmico)\n",
    "    re = ax.plot(rcs, prs, lw=1.5, color=colors[0], ls=linestyles[0],\n",
    "                 label='ResMiCo: %0.3f' % (average_precision_score(y_true_r, y_resmico)))\n",
    "    \n",
    "    # deepmased\n",
    "    prs, rcs, thresholds = precision_recall_curve(y_true_d, y_deepmased)\n",
    "    d = ax.plot(rcs, prs, lw=1.5, color=colors[1], ls=linestyles[0],\n",
    "                 label='DeepMAsED: %0.3f' % (average_precision_score(y_true_d, y_deepmased)))\n",
    "        \n",
    "    # ALE\n",
    "    prs, rcs, thresholds = precision_recall_curve(y_true_a, y_ALE)\n",
    "    a =ax.plot(rcs, prs, lw=1.5, color=colors[2], ls=linestyles[0],\n",
    "                 label='ALE: %0.3f' % (average_precision_score(y_true_a, y_ALE)))\n",
    "    \n",
    "    \n",
    "    # metaMIC\n",
    "    prs, rcs, thresholds = precision_recall_curve(y_true_m, y_metaMIC)\n",
    "    m = ax.plot(rcs, prs, lw=1.5, color=colors[3], ls=linestyles[0],\n",
    "                 label='metaMIC: %0.3f' % (average_precision_score(y_true_m, y_metaMIC)))\n",
    "        \n",
    "    # Random\n",
    "    pr_random = np.mean(y_true_r)\n",
    "    ra = ax.plot([0, 1], [pr_random, pr_random], color='black', ls=linestyles[1], label=\"Random: %0.3f\" % pr_random, lw=2)\n",
    "\n",
    "\n",
    "    ax.tick_params(axis='both', which='major', labelsize=12)\n",
    "    ax.set_ylim([0.0, 1.05])\n",
    "    ax.set_xlim([0.0, 1.0])\n",
    "    \n",
    "    # plt.title('Receiver operating characteristic example')\n",
    "#     if i==1:\n",
    "#         ax.legend(bbox_to_anchor=(0.5, 1.4), loc='upper center', \n",
    "#                   ncol=5, fontsize=26)\n",
    "    if i==0:\n",
    "        ax.set_ylabel('Precision', fontsize=16)\n",
    "    ax.set_xlabel('Recall', fontsize=16)\n",
    "    \n",
    "    ax.legend(fontsize=16)\n",
    "    ax.grid(True, axis='y', linestyle=':')\n",
    "    ax.grid(True, axis='x', linestyle=':')\n",
    "    \n",
    "    ax.set_title('skin', fontsize=16)\n",
    "\n",
    "    return "
   ]
  },
  {
   "cell_type": "code",
   "execution_count": 26,
   "metadata": {
    "ExecuteTime": {
     "end_time": "2022-01-14T16:51:00.554988Z",
     "start_time": "2022-01-14T16:50:38.534654Z"
    }
   },
   "outputs": [
    {
     "name": "stdout",
     "output_type": "stream",
     "text": [
      "skin 323396 323378 283605 323396\n",
      "result 323378\n",
      "result 323378\n",
      "result_m 323378 283587\n",
      "AUPRC resmico_score:  0.5791368348810135\n",
      "AUPRC deepmased_score:  0.04212492697960772\n",
      "AUPRC ALE_score:  0.05085155177442041\n",
      "RANDOME score:  0.018380965928418137\n",
      "/n metamic subset:\n",
      "AUPRC metaMIC:  0.1033062720625168\n",
      "AUPRC resmico_score:  0.5361645808516742\n",
      "AUPRC deepmased_score:  0.036859364423680346\n",
      "AUPRC ALE_score:  0.04724137841319416\n",
      "RANDOME score:  0.01758895859119071\n",
      "/cluster/home/omineeva/global_projects/projects/projects2019-contig_quality/Outputs/figures/PRcurve_cami.pdf\n"
     ]
    },
    {
     "data": {
      "image/png": "[encoded data removed]",
      "text/plain": [
       "<Figure size 1440x360 with 3 Axes>"
      ]
     },
     "metadata": {
      "needs_background": "light"
     },
     "output_type": "display_data"
    }
   ],
   "source": [
    "fig, axs = plt.subplots(1, 3, figsize=(20, 5), sharey = True)\n",
    "fig.subplots_adjust(wspace=0.05)\n",
    "df, result_m = creat_dfs('skin')\n",
    "PR4all(axs, 0,  df, result_m)\n",
    "df, result_m = creat_dfs('skin')\n",
    "PR4all(axs, 1, df, result_m)\n",
    "df, result_m = creat_dfs('skin')\n",
    "PR4all(axs, 2, df, result_m)\n",
    "\n",
    "dataset_name = 'cami'\n",
    "if save_path:\n",
    "    where = save_path+'figures/PRcurve_'+dataset_name+'.pdf'\n",
    "    plt.savefig(where, \n",
    "                bbox_inches='tight', format='pdf', dpi=300)\n",
    "    print(where)\n",
    "\n",
    "plt.show()"
   ]
  },
  {
   "cell_type": "code",
   "execution_count": 6,
   "metadata": {
    "ExecuteTime": {
     "end_time": "2022-01-14T16:28:29.043797Z",
     "start_time": "2022-01-14T16:28:28.464540Z"
    }
   },
   "outputs": [],
   "source": [
    "#Aggregate ALE"
   ]
  },
  {
   "cell_type": "code",
   "execution_count": 10,
   "metadata": {
    "ExecuteTime": {
     "end_time": "2021-11-04T13:24:18.820387Z",
     "start_time": "2021-11-04T13:24:17.932409Z"
    }
   },
   "outputs": [],
   "source": [
    "# import gzip\n",
    "# import _pickle as pickle\n",
    "# def create_ALE_pickle(assembly_path):\n",
    "#     parsed_ale = {}\n",
    "\n",
    "#     with gzip.open(assembly_path, 'rt') as gf: #open\n",
    "#         cur_contig, cont_length = None, None\n",
    "#         ti = time.time()\n",
    "#         for i, g in enumerate(gf):\n",
    "#             line = g.split()\n",
    "\n",
    "#             if 'Reference' in line[1]:\n",
    "#                 # Sanity check\n",
    "#                 if not (cont_length  is None): \n",
    "#                     assert((parsed_ale[cur_contig]['depth'] < 10 ** 5).all())\n",
    "\n",
    "#                 cur_contig = line[2]\n",
    "#                 cont_length = int(line[3])\n",
    "\n",
    "#                 base = 10 ** 5 * np.ones(cont_length)\n",
    "\n",
    "#                 parsed_ale[cur_contig] = {'depth' : base.copy(), 'place' : base.copy(), \n",
    "#                                          'insert' : base.copy(), 'kmer' : base.copy()}\n",
    "\n",
    "#                 next(gf)\n",
    "#                 idx = 0\n",
    "#                 continue\n",
    "\n",
    "#             if cur_contig is None:\n",
    "#                 continue\n",
    "\n",
    "#             parsed_ale[cur_contig]['depth'][idx] = float(line[3])\n",
    "#             parsed_ale[cur_contig]['place'][idx] = float(line[4])\n",
    "#             parsed_ale[cur_contig]['insert'][idx] = float(line[5])\n",
    "#             parsed_ale[cur_contig]['kmer'][idx] = float(line[6])\n",
    "#             idx += 1\n",
    "\n",
    "\n",
    "#     save_path = assembly_path.replace('.txt.gz', '_all.pkl') \n",
    "#     print (time.time()-ti, save_path)\n",
    "#     with open(save_path, 'wb') as f:\n",
    "#         pickle.dump(parsed_ale, f)"
   ]
  },
  {
   "cell_type": "code",
   "execution_count": 29,
   "metadata": {
    "ExecuteTime": {
     "end_time": "2021-09-09T11:40:13.454498Z",
     "start_time": "2021-09-09T11:40:13.370902Z"
    }
   },
   "outputs": [],
   "source": [
    "# for site in [oral_path, gut_path, skin_path]:\n",
    "#     ALE_path = site+'ALE/'\n",
    "#     EXT = \".txt.gz\"\n",
    "#     all_txt_files = []\n",
    "#     for r, d, f in os.walk(ALE_path):\n",
    "#         for file in f:\n",
    "#             if EXT in file:\n",
    "#                 all_txt_files.append(os.path.join(r,file))\n",
    "\n",
    "#     import pathos\n",
    "#     nprocs = 16\n",
    "#     with pathos.multiprocessing.Pool(nprocs) as pool:\n",
    "#         pool.map(lambda file: create_ALE_pickle(file), all_txt_files)"
   ]
  },
  {
   "cell_type": "code",
   "execution_count": 30,
   "metadata": {
    "ExecuteTime": {
     "end_time": "2021-09-09T11:40:13.576622Z",
     "start_time": "2021-09-09T11:40:13.493335Z"
    }
   },
   "outputs": [],
   "source": [
    "# #synthetic\n",
    "# def aggregate_ALE(ALE_path):\n",
    "#     st = time.time()\n",
    "#     thresh = {'depth': -21,\n",
    "#               'place' : -2,\n",
    "#               'insert' : 2,\n",
    "#               'kmer' : 2}\n",
    "#     all_preds = {'ALE_score':[],\n",
    "#                 'cont_name':[]}\n",
    "\n",
    "#     EXT = '.pkl'\n",
    "#     all_pkl_files = []\n",
    "#     for r, d, f in os.walk(ALE_path):\n",
    "#         for file in f:\n",
    "#             if EXT in file:\n",
    "#                 all_pkl_files.append(os.path.join(r,file))\n",
    "\n",
    "#     for i, file in enumerate(all_pkl_files): \n",
    "#         print(i)\n",
    "#         with open(file, 'rb') as f:\n",
    "#             ale_scores = pickle.load(f)\n",
    "\n",
    "#             for cont in ale_scores:\n",
    "#                 total = 0\n",
    "#                 for score in ale_scores[cont]:\n",
    "#                     total += np.sum(ale_scores[cont][score] < thresh[score])\n",
    "\n",
    "#                 all_preds['ALE_score'].append(total / float(len(thresh)) / len(ale_scores[cont]['depth']))\n",
    "#                 cont_name = '/'.join(file.split('/')[-7:-1])+'/'+cont\n",
    "#                 all_preds['cont_name'].append(cont_name)\n",
    "\n",
    "#     ALE_preds = pd.DataFrame.from_dict(all_preds)\n",
    "#     ALE_preds.to_csv(ALE_path + 'aggregated_preds.csv', index=False) \n",
    "#     print('saved as: '+ ALE_path + 'aggregated_preds.csv')\n",
    "\n",
    "\n",
    "# for site in [oral_path, gut_path, skin_path]:\n",
    "#     ALE_path = site+'ALE/'\n",
    "#     aggregate_ALE(ALE_path)"
   ]
  }
 ],
 "metadata": {
  "kernelspec": {
   "display_name": "resmico",
   "language": "python",
   "name": "resmico"
  },
  "language_info": {
   "codemirror_mode": {
    "name": "ipython",
    "version": 3
   },
   "file_extension": ".py",
   "mimetype": "text/x-python",
   "name": "python",
   "nbconvert_exporter": "python",
   "pygments_lexer": "ipython3",
   "version": "3.9.7"
  }
 },
 "nbformat": 4,
 "nbformat_minor": 2
}
