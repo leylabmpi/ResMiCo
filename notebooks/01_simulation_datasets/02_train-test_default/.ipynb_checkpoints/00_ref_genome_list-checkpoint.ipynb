{
 "cells": [
  {
   "cell_type": "markdown",
   "metadata": {
    "toc": true
   },
   "source": [
    "<h1>Table of Contents<span class=\"tocSkip\"></span></h1>\n",
    "<div class=\"toc\"><ul class=\"toc-item\"><li><span><a href=\"#Goal\" data-toc-modified-id=\"Goal-1\"><span class=\"toc-item-num\">1&nbsp;&nbsp;</span>Goal</a></span></li><li><span><a href=\"#Var\" data-toc-modified-id=\"Var-2\"><span class=\"toc-item-num\">2&nbsp;&nbsp;</span>Var</a></span></li><li><span><a href=\"#Init\" data-toc-modified-id=\"Init-3\"><span class=\"toc-item-num\">3&nbsp;&nbsp;</span>Init</a></span></li><li><span><a href=\"#Load\" data-toc-modified-id=\"Load-4\"><span class=\"toc-item-num\">4&nbsp;&nbsp;</span>Load</a></span></li></ul></div>"
   ]
  },
  {
   "cell_type": "markdown",
   "metadata": {},
   "source": [
    "# Goal"
   ]
  },
  {
   "cell_type": "markdown",
   "metadata": {},
   "source": [
    "* Get a list of possible ref genomes to use for the simulations\n",
    "  * Using just \"high quality\" prokaryotic genomes\n"
   ]
  },
  {
   "cell_type": "markdown",
   "metadata": {},
   "source": [
    "# Var"
   ]
  },
  {
   "cell_type": "code",
   "execution_count": 19,
   "metadata": {
    "ExecuteTime": {
     "end_time": "2019-03-13T16:04:47.351546Z",
     "start_time": "2019-03-13T16:04:46.947Z"
    }
   },
   "outputs": [],
   "source": [
    "genbank_prok_tbl_file = '/ebio/abt3_projects/databases_no-backup/NCBI_genome/genbank_refseq_genome_list/prokaryotes.txt'\n",
    "#genbank_prok_tbl_file = '/ebio/abt3_projects/databases_no-backup/NCBI_genome/genbank_refseq_genome_list/tmp.tsv'"
   ]
  },
  {
   "cell_type": "markdown",
   "metadata": {},
   "source": [
    "# Init"
   ]
  },
  {
   "cell_type": "code",
   "execution_count": 14,
   "metadata": {
    "ExecuteTime": {
     "end_time": "2019-03-13T10:37:31.753506Z",
     "start_time": "2019-03-13T10:37:32.315Z"
    }
   },
   "outputs": [
    {
     "name": "stderr",
     "output_type": "stream",
     "text": [
      "\n",
      "Attaching package: ‘data.table’\n",
      "\n",
      "The following objects are masked from ‘package:dplyr’:\n",
      "\n",
      "    between, first, last\n",
      "\n"
     ]
    }
   ],
   "source": [
    "library(dplyr)\n",
    "library(tidyr)\n",
    "library(ggplot2)\n",
    "library(data.table)"
   ]
  },
  {
   "cell_type": "markdown",
   "metadata": {},
   "source": [
    "# Load"
   ]
  },
  {
   "cell_type": "code",
   "execution_count": 16,
   "metadata": {
    "ExecuteTime": {
     "end_time": "2019-03-13T10:37:53.747009Z",
     "start_time": "2019-03-13T10:37:50.964Z"
    }
   },
   "outputs": [
    {
     "name": "stderr",
     "output_type": "stream",
     "text": [
      "Warning message in fread(genbank_prok_tbl_file, sep = \"\\t\"):\n",
      "“Found and resolved improper quoting out-of-sample. First healed line 43003: <<Rhodococcus erythropolis DN1\t1381122\tPRJNA214035\t214035\tTerrabacteria group\tActinobacteria\t6.5484\t62.4\t-\tAUZK01\t78\t6163\t5630\t2013/08/23\t2017/04/01\tContig\t\"National Center for Biotechnology\" RSE\tSAMN02470607\tGCA_000454425.1\t-\tftp://ftp.ncbi.nlm.nih.gov/genomes/all/GCA/000/454/425/GCA_000454425.1_RodocDN1\t24136850\tDN1>>. If the fields are not quoted (e.g. field separator does not appear within any field), try quote=\"\" to avoid this warning.”"
     ]
    },
    {
     "data": {
      "text/plain": [
       ".\n",
       "     Chromosome Complete Genome          Contig        Scaffold \n",
       "           2267           13681           96943           80815 "
      ]
     },
     "metadata": {},
     "output_type": "display_data"
    }
   ],
   "source": [
    "fread(genbank_prok_tbl_file, sep='\\t')$Status %>% table"
   ]
  },
  {
   "cell_type": "code",
   "execution_count": 23,
   "metadata": {
    "ExecuteTime": {
     "end_time": "2019-03-13T16:05:58.347232Z",
     "start_time": "2019-03-13T16:05:55.776Z"
    }
   },
   "outputs": [
    {
     "name": "stderr",
     "output_type": "stream",
     "text": [
      "Warning message in fread(genbank_prok_tbl_file, sep = \"\\t\", check.names = TRUE):\n",
      "“Found and resolved improper quoting out-of-sample. First healed line 43003: <<Rhodococcus erythropolis DN1\t1381122\tPRJNA214035\t214035\tTerrabacteria group\tActinobacteria\t6.5484\t62.4\t-\tAUZK01\t78\t6163\t5630\t2013/08/23\t2017/04/01\tContig\t\"National Center for Biotechnology\" RSE\tSAMN02470607\tGCA_000454425.1\t-\tftp://ftp.ncbi.nlm.nih.gov/genomes/all/GCA/000/454/425/GCA_000454425.1_RodocDN1\t24136850\tDN1>>. If the fields are not quoted (e.g. field separator does not appear within any field), try quote=\"\" to avoid this warning.”"
     ]
    },
    {
     "name": "stdout",
     "output_type": "stream",
     "text": [
      "[1] 13681\n"
     ]
    },
    {
     "data": {
      "text/html": [
       "<table>\n",
       "<thead><tr><th scope=col>X.Organism.Name</th><th scope=col>TaxID</th><th scope=col>Group</th><th scope=col>SubGroup</th><th scope=col>Size..Mb.</th><th scope=col>GC.</th><th scope=col>Replicons</th><th scope=col>Scaffolds</th><th scope=col>Status</th><th scope=col>Assembly.Accession</th><th scope=col>FTP.Path</th></tr></thead>\n",
       "<tbody>\n",
       "\t<tr><td>Campylobacter jejuni subsp. jejuni NCTC 11168 = ATCC 700819                                                                                      </td><td> 192222                                                                                                                                          </td><td>Proteobacteria                                                                                                                                   </td><td>delta/epsilon subdivisions                                                                                                                       </td><td>1.64148                                                                                                                                          </td><td>30.5                                                                                                                                             </td><td>chromosome:NC_002163.1/AL111168.1                                                                                                                </td><td>1                                                                                                                                                </td><td>Complete Genome                                                                                                                                  </td><td>GCA_000009085.1                                                                                                                                  </td><td>ftp://ftp.ncbi.nlm.nih.gov/genomes/all/GCA/000/009/085/GCA_000009085.1_ASM908v1                                                                  </td></tr>\n",
       "\t<tr><td>Pseudomonas fluorescens F113                                                                                                                     </td><td>1114970                                                                                                                                          </td><td>Proteobacteria                                                                                                                                   </td><td>Gammaproteobacteria                                                                                                                              </td><td>6.84583                                                                                                                                          </td><td>60.8                                                                                                                                             </td><td>chromosome:NC_016830.1/CP003150.1                                                                                                                </td><td>1                                                                                                                                                </td><td>Complete Genome                                                                                                                                  </td><td>GCA_000237065.1                                                                                                                                  </td><td>ftp://ftp.ncbi.nlm.nih.gov/genomes/all/GCA/000/237/065/GCA_000237065.1_ASM23706v1                                                                </td></tr>\n",
       "\t<tr><td>Xanthomonas campestris pv. campestris str. ATCC 33913                                                                                            </td><td> 190485                                                                                                                                          </td><td>Proteobacteria                                                                                                                                   </td><td>Gammaproteobacteria                                                                                                                              </td><td>5.07619                                                                                                                                          </td><td>65.1                                                                                                                                             </td><td>chromosome:NC_003902.1/AE008922.1                                                                                                                </td><td>1                                                                                                                                                </td><td>Complete Genome                                                                                                                                  </td><td>GCA_000007145.1                                                                                                                                  </td><td>ftp://ftp.ncbi.nlm.nih.gov/genomes/all/GCA/000/007/145/GCA_000007145.1_ASM714v1                                                                  </td></tr>\n",
       "\t<tr><td>Salmonella enterica subsp. enterica serovar Typhi str. CT18                                                                                      </td><td> 220341                                                                                                                                          </td><td>Proteobacteria                                                                                                                                   </td><td>Gammaproteobacteria                                                                                                                              </td><td>5.13371                                                                                                                                          </td><td>51.8776                                                                                                                                          </td><td>chromosome:NC_003198.1/AL513382.1; plasmid pHCM1:NC_003384.1/AL513383.1; plasmid pHCM2:NC_003385.1/AL513384.1                                    </td><td>3                                                                                                                                                </td><td>Complete Genome                                                                                                                                  </td><td>GCA_000195995.1                                                                                                                                  </td><td>ftp://ftp.ncbi.nlm.nih.gov/genomes/all/GCA/000/195/995/GCA_000195995.1_ASM19599v1                                                                </td></tr>\n",
       "\t<tr><td>Yersinia pestis CO92                                                                                                                             </td><td> 214092                                                                                                                                          </td><td>Proteobacteria                                                                                                                                   </td><td>Gammaproteobacteria                                                                                                                              </td><td>4.82986                                                                                                                                          </td><td>47.6065                                                                                                                                          </td><td>chromosome:NC_003143.1/AL590842.1; plasmid pCD1:NC_003131.1/AL117189.1; plasmid pMT1:NC_003134.1/AL117211.1; plasmid pPCP1:NC_003132.1/AL109969.1</td><td>4                                                                                                                                                </td><td>Complete Genome                                                                                                                                  </td><td>GCA_000009065.1                                                                                                                                  </td><td>ftp://ftp.ncbi.nlm.nih.gov/genomes/all/GCA/000/009/065/GCA_000009065.1_ASM906v1                                                                  </td></tr>\n",
       "\t<tr><td>Staphylococcus aureus subsp. aureus NCTC 8325                                                                                                    </td><td>  93061                                                                                                                                          </td><td>Terrabacteria group                                                                                                                              </td><td>Firmicutes                                                                                                                                       </td><td>2.82136                                                                                                                                          </td><td>32.9                                                                                                                                             </td><td>chromosome:NC_007795.1/CP000253.1                                                                                                                </td><td>1                                                                                                                                                </td><td>Complete Genome                                                                                                                                  </td><td>GCA_000013425.1                                                                                                                                  </td><td>ftp://ftp.ncbi.nlm.nih.gov/genomes/all/GCA/000/013/425/GCA_000013425.1_ASM1342v1                                                                 </td></tr>\n",
       "</tbody>\n",
       "</table>\n"
      ],
      "text/latex": [
       "\\begin{tabular}{r|lllllllllll}\n",
       " X.Organism.Name & TaxID & Group & SubGroup & Size..Mb. & GC. & Replicons & Scaffolds & Status & Assembly.Accession & FTP.Path\\\\\n",
       "\\hline\n",
       "\t Campylobacter jejuni subsp. jejuni NCTC 11168 = ATCC 700819                                                                                         &  192222                                                                                                                                             & Proteobacteria                                                                                                                                      & delta/epsilon subdivisions                                                                                                                          & 1.64148                                                                                                                                             & 30.5                                                                                                                                                & chromosome:NC\\_002163.1/AL111168.1                                                                                                                 & 1                                                                                                                                                   & Complete Genome                                                                                                                                     & GCA\\_000009085.1                                                                                                                                   & ftp://ftp.ncbi.nlm.nih.gov/genomes/all/GCA/000/009/085/GCA\\_000009085.1\\_ASM908v1                                                                \\\\\n",
       "\t Pseudomonas fluorescens F113                                                                                                                        & 1114970                                                                                                                                             & Proteobacteria                                                                                                                                      & Gammaproteobacteria                                                                                                                                 & 6.84583                                                                                                                                             & 60.8                                                                                                                                                & chromosome:NC\\_016830.1/CP003150.1                                                                                                                 & 1                                                                                                                                                   & Complete Genome                                                                                                                                     & GCA\\_000237065.1                                                                                                                                   & ftp://ftp.ncbi.nlm.nih.gov/genomes/all/GCA/000/237/065/GCA\\_000237065.1\\_ASM23706v1                                                              \\\\\n",
       "\t Xanthomonas campestris pv. campestris str. ATCC 33913                                                                                               &  190485                                                                                                                                             & Proteobacteria                                                                                                                                      & Gammaproteobacteria                                                                                                                                 & 5.07619                                                                                                                                             & 65.1                                                                                                                                                & chromosome:NC\\_003902.1/AE008922.1                                                                                                                 & 1                                                                                                                                                   & Complete Genome                                                                                                                                     & GCA\\_000007145.1                                                                                                                                   & ftp://ftp.ncbi.nlm.nih.gov/genomes/all/GCA/000/007/145/GCA\\_000007145.1\\_ASM714v1                                                                \\\\\n",
       "\t Salmonella enterica subsp. enterica serovar Typhi str. CT18                                                                                             &  220341                                                                                                                                                 & Proteobacteria                                                                                                                                          & Gammaproteobacteria                                                                                                                                     & 5.13371                                                                                                                                                 & 51.8776                                                                                                                                                 & chromosome:NC\\_003198.1/AL513382.1; plasmid pHCM1:NC\\_003384.1/AL513383.1; plasmid pHCM2:NC\\_003385.1/AL513384.1                                     & 3                                                                                                                                                       & Complete Genome                                                                                                                                         & GCA\\_000195995.1                                                                                                                                       & ftp://ftp.ncbi.nlm.nih.gov/genomes/all/GCA/000/195/995/GCA\\_000195995.1\\_ASM19599v1                                                                  \\\\\n",
       "\t Yersinia pestis CO92                                                                                                                                      &  214092                                                                                                                                                   & Proteobacteria                                                                                                                                            & Gammaproteobacteria                                                                                                                                       & 4.82986                                                                                                                                                   & 47.6065                                                                                                                                                   & chromosome:NC\\_003143.1/AL590842.1; plasmid pCD1:NC\\_003131.1/AL117189.1; plasmid pMT1:NC\\_003134.1/AL117211.1; plasmid pPCP1:NC\\_003132.1/AL109969.1 & 4                                                                                                                                                         & Complete Genome                                                                                                                                           & GCA\\_000009065.1                                                                                                                                         & ftp://ftp.ncbi.nlm.nih.gov/genomes/all/GCA/000/009/065/GCA\\_000009065.1\\_ASM906v1                                                                      \\\\\n",
       "\t Staphylococcus aureus subsp. aureus NCTC 8325                                                                                                       &   93061                                                                                                                                             & Terrabacteria group                                                                                                                                 & Firmicutes                                                                                                                                          & 2.82136                                                                                                                                             & 32.9                                                                                                                                                & chromosome:NC\\_007795.1/CP000253.1                                                                                                                 & 1                                                                                                                                                   & Complete Genome                                                                                                                                     & GCA\\_000013425.1                                                                                                                                   & ftp://ftp.ncbi.nlm.nih.gov/genomes/all/GCA/000/013/425/GCA\\_000013425.1\\_ASM1342v1                                                               \\\\\n",
       "\\end{tabular}\n"
      ],
      "text/markdown": [
       "\n",
       "X.Organism.Name | TaxID | Group | SubGroup | Size..Mb. | GC. | Replicons | Scaffolds | Status | Assembly.Accession | FTP.Path | \n",
       "|---|---|---|---|---|---|\n",
       "| Campylobacter jejuni subsp. jejuni NCTC 11168 = ATCC 700819                                                                                       |  192222                                                                                                                                           | Proteobacteria                                                                                                                                    | delta/epsilon subdivisions                                                                                                                        | 1.64148                                                                                                                                           | 30.5                                                                                                                                              | chromosome:NC_002163.1/AL111168.1                                                                                                                 | 1                                                                                                                                                 | Complete Genome                                                                                                                                   | GCA_000009085.1                                                                                                                                   | ftp://ftp.ncbi.nlm.nih.gov/genomes/all/GCA/000/009/085/GCA_000009085.1_ASM908v1                                                                   | \n",
       "| Pseudomonas fluorescens F113                                                                                                                      | 1114970                                                                                                                                           | Proteobacteria                                                                                                                                    | Gammaproteobacteria                                                                                                                               | 6.84583                                                                                                                                           | 60.8                                                                                                                                              | chromosome:NC_016830.1/CP003150.1                                                                                                                 | 1                                                                                                                                                 | Complete Genome                                                                                                                                   | GCA_000237065.1                                                                                                                                   | ftp://ftp.ncbi.nlm.nih.gov/genomes/all/GCA/000/237/065/GCA_000237065.1_ASM23706v1                                                                 | \n",
       "| Xanthomonas campestris pv. campestris str. ATCC 33913                                                                                             |  190485                                                                                                                                           | Proteobacteria                                                                                                                                    | Gammaproteobacteria                                                                                                                               | 5.07619                                                                                                                                           | 65.1                                                                                                                                              | chromosome:NC_003902.1/AE008922.1                                                                                                                 | 1                                                                                                                                                 | Complete Genome                                                                                                                                   | GCA_000007145.1                                                                                                                                   | ftp://ftp.ncbi.nlm.nih.gov/genomes/all/GCA/000/007/145/GCA_000007145.1_ASM714v1                                                                   | \n",
       "| Salmonella enterica subsp. enterica serovar Typhi str. CT18                                                                                       |  220341                                                                                                                                           | Proteobacteria                                                                                                                                    | Gammaproteobacteria                                                                                                                               | 5.13371                                                                                                                                           | 51.8776                                                                                                                                           | chromosome:NC_003198.1/AL513382.1; plasmid pHCM1:NC_003384.1/AL513383.1; plasmid pHCM2:NC_003385.1/AL513384.1                                     | 3                                                                                                                                                 | Complete Genome                                                                                                                                   | GCA_000195995.1                                                                                                                                   | ftp://ftp.ncbi.nlm.nih.gov/genomes/all/GCA/000/195/995/GCA_000195995.1_ASM19599v1                                                                 | \n",
       "| Yersinia pestis CO92                                                                                                                              |  214092                                                                                                                                           | Proteobacteria                                                                                                                                    | Gammaproteobacteria                                                                                                                               | 4.82986                                                                                                                                           | 47.6065                                                                                                                                           | chromosome:NC_003143.1/AL590842.1; plasmid pCD1:NC_003131.1/AL117189.1; plasmid pMT1:NC_003134.1/AL117211.1; plasmid pPCP1:NC_003132.1/AL109969.1 | 4                                                                                                                                                 | Complete Genome                                                                                                                                   | GCA_000009065.1                                                                                                                                   | ftp://ftp.ncbi.nlm.nih.gov/genomes/all/GCA/000/009/065/GCA_000009065.1_ASM906v1                                                                   | \n",
       "| Staphylococcus aureus subsp. aureus NCTC 8325                                                                                                     |   93061                                                                                                                                           | Terrabacteria group                                                                                                                               | Firmicutes                                                                                                                                        | 2.82136                                                                                                                                           | 32.9                                                                                                                                              | chromosome:NC_007795.1/CP000253.1                                                                                                                 | 1                                                                                                                                                 | Complete Genome                                                                                                                                   | GCA_000013425.1                                                                                                                                   | ftp://ftp.ncbi.nlm.nih.gov/genomes/all/GCA/000/013/425/GCA_000013425.1_ASM1342v1                                                                  | \n",
       "\n",
       "\n"
      ],
      "text/plain": [
       "  X.Organism.Name                                             TaxID  \n",
       "1 Campylobacter jejuni subsp. jejuni NCTC 11168 = ATCC 700819  192222\n",
       "2 Pseudomonas fluorescens F113                                1114970\n",
       "3 Xanthomonas campestris pv. campestris str. ATCC 33913        190485\n",
       "4 Salmonella enterica subsp. enterica serovar Typhi str. CT18  220341\n",
       "5 Yersinia pestis CO92                                         214092\n",
       "6 Staphylococcus aureus subsp. aureus NCTC 8325                 93061\n",
       "  Group               SubGroup                   Size..Mb. GC.    \n",
       "1 Proteobacteria      delta/epsilon subdivisions 1.64148   30.5   \n",
       "2 Proteobacteria      Gammaproteobacteria        6.84583   60.8   \n",
       "3 Proteobacteria      Gammaproteobacteria        5.07619   65.1   \n",
       "4 Proteobacteria      Gammaproteobacteria        5.13371   51.8776\n",
       "5 Proteobacteria      Gammaproteobacteria        4.82986   47.6065\n",
       "6 Terrabacteria group Firmicutes                 2.82136   32.9   \n",
       "  Replicons                                                                                                                                        \n",
       "1 chromosome:NC_002163.1/AL111168.1                                                                                                                \n",
       "2 chromosome:NC_016830.1/CP003150.1                                                                                                                \n",
       "3 chromosome:NC_003902.1/AE008922.1                                                                                                                \n",
       "4 chromosome:NC_003198.1/AL513382.1; plasmid pHCM1:NC_003384.1/AL513383.1; plasmid pHCM2:NC_003385.1/AL513384.1                                    \n",
       "5 chromosome:NC_003143.1/AL590842.1; plasmid pCD1:NC_003131.1/AL117189.1; plasmid pMT1:NC_003134.1/AL117211.1; plasmid pPCP1:NC_003132.1/AL109969.1\n",
       "6 chromosome:NC_007795.1/CP000253.1                                                                                                                \n",
       "  Scaffolds Status          Assembly.Accession\n",
       "1 1         Complete Genome GCA_000009085.1   \n",
       "2 1         Complete Genome GCA_000237065.1   \n",
       "3 1         Complete Genome GCA_000007145.1   \n",
       "4 3         Complete Genome GCA_000195995.1   \n",
       "5 4         Complete Genome GCA_000009065.1   \n",
       "6 1         Complete Genome GCA_000013425.1   \n",
       "  FTP.Path                                                                         \n",
       "1 ftp://ftp.ncbi.nlm.nih.gov/genomes/all/GCA/000/009/085/GCA_000009085.1_ASM908v1  \n",
       "2 ftp://ftp.ncbi.nlm.nih.gov/genomes/all/GCA/000/237/065/GCA_000237065.1_ASM23706v1\n",
       "3 ftp://ftp.ncbi.nlm.nih.gov/genomes/all/GCA/000/007/145/GCA_000007145.1_ASM714v1  \n",
       "4 ftp://ftp.ncbi.nlm.nih.gov/genomes/all/GCA/000/195/995/GCA_000195995.1_ASM19599v1\n",
       "5 ftp://ftp.ncbi.nlm.nih.gov/genomes/all/GCA/000/009/065/GCA_000009065.1_ASM906v1  \n",
       "6 ftp://ftp.ncbi.nlm.nih.gov/genomes/all/GCA/000/013/425/GCA_000013425.1_ASM1342v1 "
      ]
     },
     "metadata": {},
     "output_type": "display_data"
    }
   ],
   "source": [
    "prok = fread(genbank_prok_tbl_file, sep='\\t', check.names=TRUE) %>%\n",
    "    dplyr::select(X.Organism.Name, TaxID, Group, SubGroup, \n",
    "                  Size..Mb., GC., Replicons, Scaffolds, Status,\n",
    "                  Assembly.Accession, FTP.Path) %>%\n",
    "    filter(Status == 'Complete Genome')\n",
    "\n",
    "prok %>% nrow %>% print\n",
    "prok %>% head"
   ]
  },
  {
   "cell_type": "code",
   "execution_count": null,
   "metadata": {},
   "outputs": [],
   "source": []
  }
 ],
 "metadata": {
  "kernelspec": {
   "display_name": "R [conda env:py3_physeq]",
   "language": "R",
   "name": "conda-env-py3_physeq-r"
  },
  "language_info": {
   "codemirror_mode": "r",
   "file_extension": ".r",
   "mimetype": "text/x-r-source",
   "name": "R",
   "pygments_lexer": "r",
   "version": "3.4.1"
  },
  "toc": {
   "base_numbering": 1,
   "nav_menu": {},
   "number_sections": true,
   "sideBar": true,
   "skip_h1_title": false,
   "title_cell": "Table of Contents",
   "title_sidebar": "Contents",
   "toc_cell": true,
   "toc_position": {},
   "toc_section_display": true,
   "toc_window_display": false
  }
 },
 "nbformat": 4,
 "nbformat_minor": 2
}
