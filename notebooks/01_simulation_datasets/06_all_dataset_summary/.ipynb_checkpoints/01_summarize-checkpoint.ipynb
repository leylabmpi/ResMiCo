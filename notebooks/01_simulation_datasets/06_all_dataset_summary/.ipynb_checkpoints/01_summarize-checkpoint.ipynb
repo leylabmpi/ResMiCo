{
 "cells": [
  {
   "cell_type": "markdown",
   "metadata": {
    "toc": true
   },
   "source": [
    "<h1>Table of Contents<span class=\"tocSkip\"></span></h1>\n",
    "<div class=\"toc\"><ul class=\"toc-item\"><li><span><a href=\"#Goal\" data-toc-modified-id=\"Goal-1\"><span class=\"toc-item-num\">1&nbsp;&nbsp;</span>Goal</a></span></li><li><span><a href=\"#Var\" data-toc-modified-id=\"Var-2\"><span class=\"toc-item-num\">2&nbsp;&nbsp;</span>Var</a></span></li><li><span><a href=\"#Init\" data-toc-modified-id=\"Init-3\"><span class=\"toc-item-num\">3&nbsp;&nbsp;</span>Init</a></span></li><li><span><a href=\"#Load\" data-toc-modified-id=\"Load-4\"><span class=\"toc-item-num\">4&nbsp;&nbsp;</span>Load</a></span></li><li><span><a href=\"#Summary\" data-toc-modified-id=\"Summary-5\"><span class=\"toc-item-num\">5&nbsp;&nbsp;</span>Summary</a></span><ul class=\"toc-item\"><li><span><a href=\"#CheckM\" data-toc-modified-id=\"CheckM-5.1\"><span class=\"toc-item-num\">5.1&nbsp;&nbsp;</span>CheckM</a></span></li><li><span><a href=\"#Taxonomy\" data-toc-modified-id=\"Taxonomy-5.2\"><span class=\"toc-item-num\">5.2&nbsp;&nbsp;</span>Taxonomy</a></span></li><li><span><a href=\"#Writing-table\" data-toc-modified-id=\"Writing-table-5.3\"><span class=\"toc-item-num\">5.3&nbsp;&nbsp;</span>Writing table</a></span></li></ul></li><li><span><a href=\"#sessionInfo\" data-toc-modified-id=\"sessionInfo-6\"><span class=\"toc-item-num\">6&nbsp;&nbsp;</span>sessionInfo</a></span></li></ul></div>"
   ]
  },
  {
   "cell_type": "markdown",
   "metadata": {},
   "source": [
    "# Goal\n",
    "\n",
    "* Combine and summarize all datasets"
   ]
  },
  {
   "cell_type": "markdown",
   "metadata": {},
   "source": [
    "# Var"
   ]
  },
  {
   "cell_type": "code",
   "execution_count": 1,
   "metadata": {
    "ExecuteTime": {
     "end_time": "2020-01-19T13:45:40.024640Z",
     "start_time": "2020-01-19T13:45:39.044Z"
    }
   },
   "outputs": [],
   "source": [
    "work_dir = '/ebio/abt3_projects/databases_no-backup/DeepMAsED/GTDB_ref_genomes/summary/'\n",
    "\n",
    "train_n1000_genome_file = '/ebio/abt3_projects/databases_no-backup/DeepMAsED/GTDB_ref_genomes/DeepMAsED_GTDB_genome-refs_train.tsv'\n",
    "test_n100_genome_file = '/ebio/abt3_projects/databases_no-backup/DeepMAsED/GTDB_ref_genomes/DeepMAsED_GTDB_genome-refs_test_n100.tsv'\n",
    "test_n1000_genome_file = '/ebio/abt3_projects/databases_no-backup/DeepMAsED/GTDB_ref_genomes/DeepMAsED_GTDB_genome-refs_test.tsv'\n",
    "\n",
    "IS_train_n1000_genome_file = '/ebio/abt3_projects/databases_no-backup/DeepMAsED/GTDB_ref_genomes/intraSpec/GTDBr86_genome-refs_train.tsv'\n",
    "IS_test_n1000_genome_file = '/ebio/abt3_projects/databases_no-backup/DeepMAsED/GTDB_ref_genomes/intraSpec/GTDBr86_genome-refs_test.tsv'\n"
   ]
  },
  {
   "cell_type": "markdown",
   "metadata": {},
   "source": [
    "# Init"
   ]
  },
  {
   "cell_type": "code",
   "execution_count": 14,
   "metadata": {
    "ExecuteTime": {
     "end_time": "2020-01-19T13:49:51.255595Z",
     "start_time": "2020-01-19T13:49:51.175Z"
    }
   },
   "outputs": [],
   "source": [
    "library(dplyr)\n",
    "library(tidyr)\n",
    "library(ggplot2)\n",
    "library(data.table)\n",
    "source('/ebio/abt3_projects/software/dev/DeepMAsED/bin/misc_r_functions/init.R')"
   ]
  },
  {
   "cell_type": "code",
   "execution_count": 3,
   "metadata": {
    "ExecuteTime": {
     "end_time": "2020-01-19T13:45:43.180984Z",
     "start_time": "2020-01-19T13:45:39.410Z"
    }
   },
   "outputs": [
    {
     "name": "stdout",
     "output_type": "stream",
     "text": [
      "Directory already exists: /ebio/abt3_projects/databases_no-backup/DeepMAsED/GTDB_ref_genomes/summary/ \n"
     ]
    }
   ],
   "source": [
    "make_dir(work_dir)"
   ]
  },
  {
   "cell_type": "markdown",
   "metadata": {},
   "source": [
    "# Load"
   ]
  },
  {
   "cell_type": "code",
   "execution_count": 27,
   "metadata": {
    "ExecuteTime": {
     "end_time": "2020-01-19T13:55:21.468537Z",
     "start_time": "2020-01-19T13:55:21.170Z"
    }
   },
   "outputs": [
    {
     "name": "stdout",
     "output_type": "stream",
     "text": [
      "[1] 1000    8\n"
     ]
    },
    {
     "data": {
      "text/html": [
       "<table>\n",
       "<thead><tr><th scope=col>Taxon</th><th scope=col>accession</th><th scope=col>checkm_completeness</th><th scope=col>checkm_contamination</th><th scope=col>ncbi_taxonomy</th><th scope=col>gtdb_taxonomy</th><th scope=col>dataset</th><th scope=col>partition</th></tr></thead>\n",
       "<tbody>\n",
       "\t<tr><td>GB_GCA_002238865.1_Gemmatimonadetes bacterium bin94                                                                            </td><td>GB_GCA_002238865.1                                                                                                             </td><td> 97.80                                                                                                                         </td><td>3.30                                                                                                                           </td><td>d__Bacteria;p__Gemmatimonadetes;c__;o__;f__;g__;s__                                                                            </td><td>d__Bacteria;p__Gemmatimonadota;c__Gemmatimonadetes;o__SG8-23;f__BD2-11;g__bin94;s__                                            </td><td>N1000                                                                                                                          </td><td>train                                                                                                                          </td></tr>\n",
       "\t<tr><td>RS_GCF_000429065.1_Silanimonas lenta DSM 16282                                                                                 </td><td>RS_GCF_000429065.1                                                                                                             </td><td> 99.66                                                                                                                         </td><td>0.04                                                                                                                           </td><td>d__Bacteria;p__Proteobacteria;c__Gammaproteobacteria;o__Xanthomonadales;f__Xanthomonadaceae;g__Silanimonas;s__Silanimonas lenta</td><td>d__Bacteria;p__Proteobacteria;c__Gammaproteobacteria;o__Xanthomonadales;f__Xanthomonadaceae;g__Silanimonas;s__Silanimonas lenta</td><td>N1000                                                                                                                          </td><td>train                                                                                                                          </td></tr>\n",
       "\t<tr><td>RS_GCF_900188435.1_Marinobacter sp. es.048                                                                                     </td><td>RS_GCF_900188435.1                                                                                                             </td><td>100.00                                                                                                                         </td><td>0.00                                                                                                                           </td><td>d__Bacteria;p__Proteobacteria;c__Gammaproteobacteria;o__Alteromonadales;f__Alteromonadaceae;g__Marinobacter;s__                </td><td>d__Bacteria;p__Proteobacteria;c__Gammaproteobacteria;o__Pseudomonadales;f__Hahellaceae;g__Marinobacter;s__                     </td><td>N1000                                                                                                                          </td><td>train                                                                                                                          </td></tr>\n",
       "</tbody>\n",
       "</table>\n"
      ],
      "text/latex": [
       "\\begin{tabular}{r|llllllll}\n",
       " Taxon & accession & checkm\\_completeness & checkm\\_contamination & ncbi\\_taxonomy & gtdb\\_taxonomy & dataset & partition\\\\\n",
       "\\hline\n",
       "\t GB\\_GCA\\_002238865.1\\_Gemmatimonadetes bacterium bin94                                                                                                   & GB\\_GCA\\_002238865.1                                                                                                                                      &  97.80                                                                                                                                                      & 3.30                                                                                                                                                        & d\\_\\_Bacteria;p\\_\\_Gemmatimonadetes;c\\_\\_;o\\_\\_;f\\_\\_;g\\_\\_;s\\_\\_                                                                             & d\\_\\_Bacteria;p\\_\\_Gemmatimonadota;c\\_\\_Gemmatimonadetes;o\\_\\_SG8-23;f\\_\\_BD2-11;g\\_\\_bin94;s\\_\\_                                             & N1000                                                                                                                                                       & train                                                                                                                                                      \\\\\n",
       "\t RS\\_GCF\\_000429065.1\\_Silanimonas lenta DSM 16282                                                                                                        & RS\\_GCF\\_000429065.1                                                                                                                                      &  99.66                                                                                                                                                      & 0.04                                                                                                                                                        & d\\_\\_Bacteria;p\\_\\_Proteobacteria;c\\_\\_Gammaproteobacteria;o\\_\\_Xanthomonadales;f\\_\\_Xanthomonadaceae;g\\_\\_Silanimonas;s\\_\\_Silanimonas lenta & d\\_\\_Bacteria;p\\_\\_Proteobacteria;c\\_\\_Gammaproteobacteria;o\\_\\_Xanthomonadales;f\\_\\_Xanthomonadaceae;g\\_\\_Silanimonas;s\\_\\_Silanimonas lenta & N1000                                                                                                                                                       & train                                                                                                                                                      \\\\\n",
       "\t RS\\_GCF\\_900188435.1\\_Marinobacter sp. es.048                                                                                                            & RS\\_GCF\\_900188435.1                                                                                                                                      & 100.00                                                                                                                                                      & 0.00                                                                                                                                                        & d\\_\\_Bacteria;p\\_\\_Proteobacteria;c\\_\\_Gammaproteobacteria;o\\_\\_Alteromonadales;f\\_\\_Alteromonadaceae;g\\_\\_Marinobacter;s\\_\\_                 & d\\_\\_Bacteria;p\\_\\_Proteobacteria;c\\_\\_Gammaproteobacteria;o\\_\\_Pseudomonadales;f\\_\\_Hahellaceae;g\\_\\_Marinobacter;s\\_\\_                      & N1000                                                                                                                                                       & train                                                                                                                                                      \\\\\n",
       "\\end{tabular}\n"
      ],
      "text/markdown": [
       "\n",
       "Taxon | accession | checkm_completeness | checkm_contamination | ncbi_taxonomy | gtdb_taxonomy | dataset | partition | \n",
       "|---|---|---|\n",
       "| GB_GCA_002238865.1_Gemmatimonadetes bacterium bin94                                                                             | GB_GCA_002238865.1                                                                                                              |  97.80                                                                                                                          | 3.30                                                                                                                            | d__Bacteria;p__Gemmatimonadetes;c__;o__;f__;g__;s__                                                                             | d__Bacteria;p__Gemmatimonadota;c__Gemmatimonadetes;o__SG8-23;f__BD2-11;g__bin94;s__                                             | N1000                                                                                                                           | train                                                                                                                           | \n",
       "| RS_GCF_000429065.1_Silanimonas lenta DSM 16282                                                                                  | RS_GCF_000429065.1                                                                                                              |  99.66                                                                                                                          | 0.04                                                                                                                            | d__Bacteria;p__Proteobacteria;c__Gammaproteobacteria;o__Xanthomonadales;f__Xanthomonadaceae;g__Silanimonas;s__Silanimonas lenta | d__Bacteria;p__Proteobacteria;c__Gammaproteobacteria;o__Xanthomonadales;f__Xanthomonadaceae;g__Silanimonas;s__Silanimonas lenta | N1000                                                                                                                           | train                                                                                                                           | \n",
       "| RS_GCF_900188435.1_Marinobacter sp. es.048                                                                                      | RS_GCF_900188435.1                                                                                                              | 100.00                                                                                                                          | 0.00                                                                                                                            | d__Bacteria;p__Proteobacteria;c__Gammaproteobacteria;o__Alteromonadales;f__Alteromonadaceae;g__Marinobacter;s__                 | d__Bacteria;p__Proteobacteria;c__Gammaproteobacteria;o__Pseudomonadales;f__Hahellaceae;g__Marinobacter;s__                      | N1000                                                                                                                           | train                                                                                                                           | \n",
       "\n",
       "\n"
      ],
      "text/plain": [
       "  Taxon                                               accession         \n",
       "1 GB_GCA_002238865.1_Gemmatimonadetes bacterium bin94 GB_GCA_002238865.1\n",
       "2 RS_GCF_000429065.1_Silanimonas lenta DSM 16282      RS_GCF_000429065.1\n",
       "3 RS_GCF_900188435.1_Marinobacter sp. es.048          RS_GCF_900188435.1\n",
       "  checkm_completeness checkm_contamination\n",
       "1  97.80              3.30                \n",
       "2  99.66              0.04                \n",
       "3 100.00              0.00                \n",
       "  ncbi_taxonomy                                                                                                                  \n",
       "1 d__Bacteria;p__Gemmatimonadetes;c__;o__;f__;g__;s__                                                                            \n",
       "2 d__Bacteria;p__Proteobacteria;c__Gammaproteobacteria;o__Xanthomonadales;f__Xanthomonadaceae;g__Silanimonas;s__Silanimonas lenta\n",
       "3 d__Bacteria;p__Proteobacteria;c__Gammaproteobacteria;o__Alteromonadales;f__Alteromonadaceae;g__Marinobacter;s__                \n",
       "  gtdb_taxonomy                                                                                                                  \n",
       "1 d__Bacteria;p__Gemmatimonadota;c__Gemmatimonadetes;o__SG8-23;f__BD2-11;g__bin94;s__                                            \n",
       "2 d__Bacteria;p__Proteobacteria;c__Gammaproteobacteria;o__Xanthomonadales;f__Xanthomonadaceae;g__Silanimonas;s__Silanimonas lenta\n",
       "3 d__Bacteria;p__Proteobacteria;c__Gammaproteobacteria;o__Pseudomonadales;f__Hahellaceae;g__Marinobacter;s__                     \n",
       "  dataset partition\n",
       "1 N1000   train    \n",
       "2 N1000   train    \n",
       "3 N1000   train    "
      ]
     },
     "metadata": {},
     "output_type": "display_data"
    }
   ],
   "source": [
    "train_n1000_genome = read.delim(train_n1000_genome_file, sep='\\t') %>%\n",
    "    dplyr::select(Taxon, accession, checkm_completeness, checkm_contamination,\n",
    "                  ncbi_taxonomy, gtdb_taxonomy) %>%\n",
    "    mutate(dataset = 'N1000',\n",
    "           partition = 'train') \n",
    "\n",
    "train_n1000_genome %>% dfhead"
   ]
  },
  {
   "cell_type": "code",
   "execution_count": 28,
   "metadata": {
    "ExecuteTime": {
     "end_time": "2020-01-19T13:55:21.533409Z",
     "start_time": "2020-01-19T13:55:21.281Z"
    }
   },
   "outputs": [
    {
     "name": "stdout",
     "output_type": "stream",
     "text": [
      "[1] 99  8\n"
     ]
    },
    {
     "data": {
      "text/html": [
       "<table>\n",
       "<thead><tr><th scope=col>Taxon</th><th scope=col>accession</th><th scope=col>checkm_completeness</th><th scope=col>checkm_contamination</th><th scope=col>ncbi_taxonomy</th><th scope=col>gtdb_taxonomy</th><th scope=col>dataset</th><th scope=col>partition</th></tr></thead>\n",
       "<tbody>\n",
       "\t<tr><td>GB_GCA_000437635.1_Sutterella sp. CAG:521                                                                                                  </td><td>GB_GCA_000437635.1                                                                                                                         </td><td>94.90                                                                                                                                      </td><td>1.25                                                                                                                                       </td><td>d__Bacteria;p__Proteobacteria;c__Betaproteobacteria;o__Burkholderiales;f__Sutterellaceae;g__Sutterella;s__                                 </td><td>d__Bacteria;p__Proteobacteria;c__Gammaproteobacteria;o__Betaproteobacteriales;f__Burkholderiaceae;g__CAG-521;s__                           </td><td>N100                                                                                                                                       </td><td>test                                                                                                                                       </td></tr>\n",
       "\t<tr><td>RS_GCF_000771625.1_Bifidobacterium saguini DSM 23967                                                                                       </td><td>RS_GCF_000771625.1                                                                                                                         </td><td>99.54                                                                                                                                      </td><td>0.69                                                                                                                                       </td><td>d__Bacteria;p__Actinobacteria;c__Actinobacteria;o__Bifidobacteriales;f__Bifidobacteriaceae;g__Bifidobacterium;s__Bifidobacterium saguini   </td><td>d__Bacteria;p__Actinobacteriota;c__Actinobacteria;o__Actinomycetales;f__Bifidobacteriaceae;g__Bifidobacterium;s__Bifidobacterium saguini   </td><td>N100                                                                                                                                       </td><td>test                                                                                                                                       </td></tr>\n",
       "\t<tr><td>RS_GCF_000420585.1_Corynebacterium callunae DSM 20147                                                                                      </td><td>RS_GCF_000420585.1                                                                                                                         </td><td>99.45                                                                                                                                      </td><td>0.44                                                                                                                                       </td><td>d__Bacteria;p__Actinobacteria;c__Actinobacteria;o__Corynebacteriales;f__Corynebacteriaceae;g__Corynebacterium;s__Corynebacterium callunae  </td><td>d__Bacteria;p__Actinobacteriota;c__Actinobacteria;o__Corynebacteriales;f__Corynebacteriaceae;g__Corynebacterium;s__Corynebacterium callunae</td><td>N100                                                                                                                                       </td><td>test                                                                                                                                       </td></tr>\n",
       "</tbody>\n",
       "</table>\n"
      ],
      "text/latex": [
       "\\begin{tabular}{r|llllllll}\n",
       " Taxon & accession & checkm\\_completeness & checkm\\_contamination & ncbi\\_taxonomy & gtdb\\_taxonomy & dataset & partition\\\\\n",
       "\\hline\n",
       "\t GB\\_GCA\\_000437635.1\\_Sutterella sp. CAG:521                                                                                                                         & GB\\_GCA\\_000437635.1                                                                                                                                                  & 94.90                                                                                                                                                                   & 1.25                                                                                                                                                                    & d\\_\\_Bacteria;p\\_\\_Proteobacteria;c\\_\\_Betaproteobacteria;o\\_\\_Burkholderiales;f\\_\\_Sutterellaceae;g\\_\\_Sutterella;s\\_\\_                                  & d\\_\\_Bacteria;p\\_\\_Proteobacteria;c\\_\\_Gammaproteobacteria;o\\_\\_Betaproteobacteriales;f\\_\\_Burkholderiaceae;g\\_\\_CAG-521;s\\_\\_                            & N100                                                                                                                                                                    & test                                                                                                                                                                   \\\\\n",
       "\t RS\\_GCF\\_000771625.1\\_Bifidobacterium saguini DSM 23967                                                                                                              & RS\\_GCF\\_000771625.1                                                                                                                                                  & 99.54                                                                                                                                                                   & 0.69                                                                                                                                                                    & d\\_\\_Bacteria;p\\_\\_Actinobacteria;c\\_\\_Actinobacteria;o\\_\\_Bifidobacteriales;f\\_\\_Bifidobacteriaceae;g\\_\\_Bifidobacterium;s\\_\\_Bifidobacterium saguini    & d\\_\\_Bacteria;p\\_\\_Actinobacteriota;c\\_\\_Actinobacteria;o\\_\\_Actinomycetales;f\\_\\_Bifidobacteriaceae;g\\_\\_Bifidobacterium;s\\_\\_Bifidobacterium saguini    & N100                                                                                                                                                                    & test                                                                                                                                                                   \\\\\n",
       "\t RS\\_GCF\\_000420585.1\\_Corynebacterium callunae DSM 20147                                                                                                             & RS\\_GCF\\_000420585.1                                                                                                                                                  & 99.45                                                                                                                                                                   & 0.44                                                                                                                                                                    & d\\_\\_Bacteria;p\\_\\_Actinobacteria;c\\_\\_Actinobacteria;o\\_\\_Corynebacteriales;f\\_\\_Corynebacteriaceae;g\\_\\_Corynebacterium;s\\_\\_Corynebacterium callunae   & d\\_\\_Bacteria;p\\_\\_Actinobacteriota;c\\_\\_Actinobacteria;o\\_\\_Corynebacteriales;f\\_\\_Corynebacteriaceae;g\\_\\_Corynebacterium;s\\_\\_Corynebacterium callunae & N100                                                                                                                                                                    & test                                                                                                                                                                   \\\\\n",
       "\\end{tabular}\n"
      ],
      "text/markdown": [
       "\n",
       "Taxon | accession | checkm_completeness | checkm_contamination | ncbi_taxonomy | gtdb_taxonomy | dataset | partition | \n",
       "|---|---|---|\n",
       "| GB_GCA_000437635.1_Sutterella sp. CAG:521                                                                                                   | GB_GCA_000437635.1                                                                                                                          | 94.90                                                                                                                                       | 1.25                                                                                                                                        | d__Bacteria;p__Proteobacteria;c__Betaproteobacteria;o__Burkholderiales;f__Sutterellaceae;g__Sutterella;s__                                  | d__Bacteria;p__Proteobacteria;c__Gammaproteobacteria;o__Betaproteobacteriales;f__Burkholderiaceae;g__CAG-521;s__                            | N100                                                                                                                                        | test                                                                                                                                        | \n",
       "| RS_GCF_000771625.1_Bifidobacterium saguini DSM 23967                                                                                        | RS_GCF_000771625.1                                                                                                                          | 99.54                                                                                                                                       | 0.69                                                                                                                                        | d__Bacteria;p__Actinobacteria;c__Actinobacteria;o__Bifidobacteriales;f__Bifidobacteriaceae;g__Bifidobacterium;s__Bifidobacterium saguini    | d__Bacteria;p__Actinobacteriota;c__Actinobacteria;o__Actinomycetales;f__Bifidobacteriaceae;g__Bifidobacterium;s__Bifidobacterium saguini    | N100                                                                                                                                        | test                                                                                                                                        | \n",
       "| RS_GCF_000420585.1_Corynebacterium callunae DSM 20147                                                                                       | RS_GCF_000420585.1                                                                                                                          | 99.45                                                                                                                                       | 0.44                                                                                                                                        | d__Bacteria;p__Actinobacteria;c__Actinobacteria;o__Corynebacteriales;f__Corynebacteriaceae;g__Corynebacterium;s__Corynebacterium callunae   | d__Bacteria;p__Actinobacteriota;c__Actinobacteria;o__Corynebacteriales;f__Corynebacteriaceae;g__Corynebacterium;s__Corynebacterium callunae | N100                                                                                                                                        | test                                                                                                                                        | \n",
       "\n",
       "\n"
      ],
      "text/plain": [
       "  Taxon                                                 accession         \n",
       "1 GB_GCA_000437635.1_Sutterella sp. CAG:521             GB_GCA_000437635.1\n",
       "2 RS_GCF_000771625.1_Bifidobacterium saguini DSM 23967  RS_GCF_000771625.1\n",
       "3 RS_GCF_000420585.1_Corynebacterium callunae DSM 20147 RS_GCF_000420585.1\n",
       "  checkm_completeness checkm_contamination\n",
       "1 94.90               1.25                \n",
       "2 99.54               0.69                \n",
       "3 99.45               0.44                \n",
       "  ncbi_taxonomy                                                                                                                            \n",
       "1 d__Bacteria;p__Proteobacteria;c__Betaproteobacteria;o__Burkholderiales;f__Sutterellaceae;g__Sutterella;s__                               \n",
       "2 d__Bacteria;p__Actinobacteria;c__Actinobacteria;o__Bifidobacteriales;f__Bifidobacteriaceae;g__Bifidobacterium;s__Bifidobacterium saguini \n",
       "3 d__Bacteria;p__Actinobacteria;c__Actinobacteria;o__Corynebacteriales;f__Corynebacteriaceae;g__Corynebacterium;s__Corynebacterium callunae\n",
       "  gtdb_taxonomy                                                                                                                              \n",
       "1 d__Bacteria;p__Proteobacteria;c__Gammaproteobacteria;o__Betaproteobacteriales;f__Burkholderiaceae;g__CAG-521;s__                           \n",
       "2 d__Bacteria;p__Actinobacteriota;c__Actinobacteria;o__Actinomycetales;f__Bifidobacteriaceae;g__Bifidobacterium;s__Bifidobacterium saguini   \n",
       "3 d__Bacteria;p__Actinobacteriota;c__Actinobacteria;o__Corynebacteriales;f__Corynebacteriaceae;g__Corynebacterium;s__Corynebacterium callunae\n",
       "  dataset partition\n",
       "1 N100    test     \n",
       "2 N100    test     \n",
       "3 N100    test     "
      ]
     },
     "metadata": {},
     "output_type": "display_data"
    }
   ],
   "source": [
    "test_n100_genome = read.delim(test_n100_genome_file, sep='\\t') %>%\n",
    "    dplyr::select(Taxon, accession, checkm_completeness, checkm_contamination,\n",
    "                  ncbi_taxonomy, gtdb_taxonomy) %>%\n",
    "    mutate(dataset = 'N100',\n",
    "           partition = 'test')\n",
    "\n",
    "test_n100_genome %>% dfhead"
   ]
  },
  {
   "cell_type": "code",
   "execution_count": 29,
   "metadata": {
    "ExecuteTime": {
     "end_time": "2020-01-19T13:55:24.682538Z",
     "start_time": "2020-01-19T13:55:21.426Z"
    }
   },
   "outputs": [
    {
     "name": "stdout",
     "output_type": "stream",
     "text": [
      "[1] 1000    8\n"
     ]
    },
    {
     "data": {
      "text/html": [
       "<table>\n",
       "<thead><tr><th scope=col>Taxon</th><th scope=col>accession</th><th scope=col>checkm_completeness</th><th scope=col>checkm_contamination</th><th scope=col>ncbi_taxonomy</th><th scope=col>gtdb_taxonomy</th><th scope=col>dataset</th><th scope=col>partition</th></tr></thead>\n",
       "<tbody>\n",
       "\t<tr><td>GB_GCA_000437635.1_Sutterella sp. CAG:521                                                                                                  </td><td>GB_GCA_000437635.1                                                                                                                         </td><td>94.90                                                                                                                                      </td><td>1.25                                                                                                                                       </td><td>d__Bacteria;p__Proteobacteria;c__Betaproteobacteria;o__Burkholderiales;f__Sutterellaceae;g__Sutterella;s__                                 </td><td>d__Bacteria;p__Proteobacteria;c__Gammaproteobacteria;o__Betaproteobacteriales;f__Burkholderiaceae;g__CAG-521;s__                           </td><td>N1000                                                                                                                                      </td><td>test                                                                                                                                       </td></tr>\n",
       "\t<tr><td>RS_GCF_000771625.1_Bifidobacterium saguini DSM 23967                                                                                       </td><td>RS_GCF_000771625.1                                                                                                                         </td><td>99.54                                                                                                                                      </td><td>0.69                                                                                                                                       </td><td>d__Bacteria;p__Actinobacteria;c__Actinobacteria;o__Bifidobacteriales;f__Bifidobacteriaceae;g__Bifidobacterium;s__Bifidobacterium saguini   </td><td>d__Bacteria;p__Actinobacteriota;c__Actinobacteria;o__Actinomycetales;f__Bifidobacteriaceae;g__Bifidobacterium;s__Bifidobacterium saguini   </td><td>N1000                                                                                                                                      </td><td>test                                                                                                                                       </td></tr>\n",
       "\t<tr><td>RS_GCF_000420585.1_Corynebacterium callunae DSM 20147                                                                                      </td><td>RS_GCF_000420585.1                                                                                                                         </td><td>99.45                                                                                                                                      </td><td>0.44                                                                                                                                       </td><td>d__Bacteria;p__Actinobacteria;c__Actinobacteria;o__Corynebacteriales;f__Corynebacteriaceae;g__Corynebacterium;s__Corynebacterium callunae  </td><td>d__Bacteria;p__Actinobacteriota;c__Actinobacteria;o__Corynebacteriales;f__Corynebacteriaceae;g__Corynebacterium;s__Corynebacterium callunae</td><td>N1000                                                                                                                                      </td><td>test                                                                                                                                       </td></tr>\n",
       "</tbody>\n",
       "</table>\n"
      ],
      "text/latex": [
       "\\begin{tabular}{r|llllllll}\n",
       " Taxon & accession & checkm\\_completeness & checkm\\_contamination & ncbi\\_taxonomy & gtdb\\_taxonomy & dataset & partition\\\\\n",
       "\\hline\n",
       "\t GB\\_GCA\\_000437635.1\\_Sutterella sp. CAG:521                                                                                                                         & GB\\_GCA\\_000437635.1                                                                                                                                                  & 94.90                                                                                                                                                                   & 1.25                                                                                                                                                                    & d\\_\\_Bacteria;p\\_\\_Proteobacteria;c\\_\\_Betaproteobacteria;o\\_\\_Burkholderiales;f\\_\\_Sutterellaceae;g\\_\\_Sutterella;s\\_\\_                                  & d\\_\\_Bacteria;p\\_\\_Proteobacteria;c\\_\\_Gammaproteobacteria;o\\_\\_Betaproteobacteriales;f\\_\\_Burkholderiaceae;g\\_\\_CAG-521;s\\_\\_                            & N1000                                                                                                                                                                   & test                                                                                                                                                                   \\\\\n",
       "\t RS\\_GCF\\_000771625.1\\_Bifidobacterium saguini DSM 23967                                                                                                              & RS\\_GCF\\_000771625.1                                                                                                                                                  & 99.54                                                                                                                                                                   & 0.69                                                                                                                                                                    & d\\_\\_Bacteria;p\\_\\_Actinobacteria;c\\_\\_Actinobacteria;o\\_\\_Bifidobacteriales;f\\_\\_Bifidobacteriaceae;g\\_\\_Bifidobacterium;s\\_\\_Bifidobacterium saguini    & d\\_\\_Bacteria;p\\_\\_Actinobacteriota;c\\_\\_Actinobacteria;o\\_\\_Actinomycetales;f\\_\\_Bifidobacteriaceae;g\\_\\_Bifidobacterium;s\\_\\_Bifidobacterium saguini    & N1000                                                                                                                                                                   & test                                                                                                                                                                   \\\\\n",
       "\t RS\\_GCF\\_000420585.1\\_Corynebacterium callunae DSM 20147                                                                                                             & RS\\_GCF\\_000420585.1                                                                                                                                                  & 99.45                                                                                                                                                                   & 0.44                                                                                                                                                                    & d\\_\\_Bacteria;p\\_\\_Actinobacteria;c\\_\\_Actinobacteria;o\\_\\_Corynebacteriales;f\\_\\_Corynebacteriaceae;g\\_\\_Corynebacterium;s\\_\\_Corynebacterium callunae   & d\\_\\_Bacteria;p\\_\\_Actinobacteriota;c\\_\\_Actinobacteria;o\\_\\_Corynebacteriales;f\\_\\_Corynebacteriaceae;g\\_\\_Corynebacterium;s\\_\\_Corynebacterium callunae & N1000                                                                                                                                                                   & test                                                                                                                                                                   \\\\\n",
       "\\end{tabular}\n"
      ],
      "text/markdown": [
       "\n",
       "Taxon | accession | checkm_completeness | checkm_contamination | ncbi_taxonomy | gtdb_taxonomy | dataset | partition | \n",
       "|---|---|---|\n",
       "| GB_GCA_000437635.1_Sutterella sp. CAG:521                                                                                                   | GB_GCA_000437635.1                                                                                                                          | 94.90                                                                                                                                       | 1.25                                                                                                                                        | d__Bacteria;p__Proteobacteria;c__Betaproteobacteria;o__Burkholderiales;f__Sutterellaceae;g__Sutterella;s__                                  | d__Bacteria;p__Proteobacteria;c__Gammaproteobacteria;o__Betaproteobacteriales;f__Burkholderiaceae;g__CAG-521;s__                            | N1000                                                                                                                                       | test                                                                                                                                        | \n",
       "| RS_GCF_000771625.1_Bifidobacterium saguini DSM 23967                                                                                        | RS_GCF_000771625.1                                                                                                                          | 99.54                                                                                                                                       | 0.69                                                                                                                                        | d__Bacteria;p__Actinobacteria;c__Actinobacteria;o__Bifidobacteriales;f__Bifidobacteriaceae;g__Bifidobacterium;s__Bifidobacterium saguini    | d__Bacteria;p__Actinobacteriota;c__Actinobacteria;o__Actinomycetales;f__Bifidobacteriaceae;g__Bifidobacterium;s__Bifidobacterium saguini    | N1000                                                                                                                                       | test                                                                                                                                        | \n",
       "| RS_GCF_000420585.1_Corynebacterium callunae DSM 20147                                                                                       | RS_GCF_000420585.1                                                                                                                          | 99.45                                                                                                                                       | 0.44                                                                                                                                        | d__Bacteria;p__Actinobacteria;c__Actinobacteria;o__Corynebacteriales;f__Corynebacteriaceae;g__Corynebacterium;s__Corynebacterium callunae   | d__Bacteria;p__Actinobacteriota;c__Actinobacteria;o__Corynebacteriales;f__Corynebacteriaceae;g__Corynebacterium;s__Corynebacterium callunae | N1000                                                                                                                                       | test                                                                                                                                        | \n",
       "\n",
       "\n"
      ],
      "text/plain": [
       "  Taxon                                                 accession         \n",
       "1 GB_GCA_000437635.1_Sutterella sp. CAG:521             GB_GCA_000437635.1\n",
       "2 RS_GCF_000771625.1_Bifidobacterium saguini DSM 23967  RS_GCF_000771625.1\n",
       "3 RS_GCF_000420585.1_Corynebacterium callunae DSM 20147 RS_GCF_000420585.1\n",
       "  checkm_completeness checkm_contamination\n",
       "1 94.90               1.25                \n",
       "2 99.54               0.69                \n",
       "3 99.45               0.44                \n",
       "  ncbi_taxonomy                                                                                                                            \n",
       "1 d__Bacteria;p__Proteobacteria;c__Betaproteobacteria;o__Burkholderiales;f__Sutterellaceae;g__Sutterella;s__                               \n",
       "2 d__Bacteria;p__Actinobacteria;c__Actinobacteria;o__Bifidobacteriales;f__Bifidobacteriaceae;g__Bifidobacterium;s__Bifidobacterium saguini \n",
       "3 d__Bacteria;p__Actinobacteria;c__Actinobacteria;o__Corynebacteriales;f__Corynebacteriaceae;g__Corynebacterium;s__Corynebacterium callunae\n",
       "  gtdb_taxonomy                                                                                                                              \n",
       "1 d__Bacteria;p__Proteobacteria;c__Gammaproteobacteria;o__Betaproteobacteriales;f__Burkholderiaceae;g__CAG-521;s__                           \n",
       "2 d__Bacteria;p__Actinobacteriota;c__Actinobacteria;o__Actinomycetales;f__Bifidobacteriaceae;g__Bifidobacterium;s__Bifidobacterium saguini   \n",
       "3 d__Bacteria;p__Actinobacteriota;c__Actinobacteria;o__Corynebacteriales;f__Corynebacteriaceae;g__Corynebacterium;s__Corynebacterium callunae\n",
       "  dataset partition\n",
       "1 N1000   test     \n",
       "2 N1000   test     \n",
       "3 N1000   test     "
      ]
     },
     "metadata": {},
     "output_type": "display_data"
    }
   ],
   "source": [
    "test_n1000_genome = read.delim(test_n1000_genome_file, sep='\\t') %>%\n",
    "    dplyr::select(Taxon, accession, checkm_completeness, checkm_contamination,\n",
    "                  ncbi_taxonomy, gtdb_taxonomy) %>%\n",
    "    mutate(dataset = 'N1000',\n",
    "           partition = 'test')\n",
    "\n",
    "test_n1000_genome %>% dfhead"
   ]
  },
  {
   "cell_type": "code",
   "execution_count": 30,
   "metadata": {
    "ExecuteTime": {
     "end_time": "2020-01-19T13:55:25.196619Z",
     "start_time": "2020-01-19T13:55:21.546Z"
    }
   },
   "outputs": [
    {
     "name": "stdout",
     "output_type": "stream",
     "text": [
      "[1] 1000    8\n"
     ]
    },
    {
     "data": {
      "text/html": [
       "<table>\n",
       "<thead><tr><th scope=col>Taxon</th><th scope=col>accession</th><th scope=col>checkm_completeness</th><th scope=col>checkm_contamination</th><th scope=col>ncbi_taxonomy</th><th scope=col>gtdb_taxonomy</th><th scope=col>dataset</th><th scope=col>partition</th></tr></thead>\n",
       "<tbody>\n",
       "\t<tr><td>RS_GCF_900078295.2_Blautia sp. Marseille-P2398                                                                                             </td><td>RS_GCF_900078295.2                                                                                                                         </td><td> 99.37                                                                                                                                     </td><td>0.00                                                                                                                                       </td><td>d__Bacteria;p__Firmicutes;c__Clostridia;o__Clostridiales;f__Lachnospiraceae;g__Blautia;s__                                                 </td><td>d__Bacteria;p__Firmicutes_A;c__Clostridia;o__Lachnospirales;f__Lachnospiraceae;g__Blautia_A;s__Blautia_A wexlerae                          </td><td>IS_N1000                                                                                                                                   </td><td>train                                                                                                                                      </td></tr>\n",
       "\t<tr><td>RS_GCF_001882795.1_Burkholderia ubonensis                                                                                                  </td><td>RS_GCF_001882795.1                                                                                                                         </td><td>100.00                                                                                                                                     </td><td>1.11                                                                                                                                       </td><td>d__Bacteria;p__Proteobacteria;c__Betaproteobacteria;o__Burkholderiales;f__Burkholderiaceae;g__Burkholderia;s__Burkholderia ubonensis       </td><td>d__Bacteria;p__Proteobacteria;c__Gammaproteobacteria;o__Betaproteobacteriales;f__Burkholderiaceae;g__Burkholderia;s__Burkholderia ubonensis</td><td>IS_N1000                                                                                                                                   </td><td>train                                                                                                                                      </td></tr>\n",
       "\t<tr><td>RS_GCF_000154385.1_Faecalibacterium prausnitzii M21/2                                                                                      </td><td>RS_GCF_000154385.1                                                                                                                         </td><td>100.00                                                                                                                                     </td><td>0.00                                                                                                                                       </td><td>d__Bacteria;p__Firmicutes;c__Clostridia;o__Clostridiales;f__Ruminococcaceae;g__Faecalibacterium;s__Faecalibacterium prausnitzii            </td><td>d__Bacteria;p__Firmicutes_A;c__Clostridia;o__Oscillospirales;f__Ruminococcaceae;g__Faecalibacterium;s__Faecalibacterium prausnitzii_A      </td><td>IS_N1000                                                                                                                                   </td><td>train                                                                                                                                      </td></tr>\n",
       "</tbody>\n",
       "</table>\n"
      ],
      "text/latex": [
       "\\begin{tabular}{r|llllllll}\n",
       " Taxon & accession & checkm\\_completeness & checkm\\_contamination & ncbi\\_taxonomy & gtdb\\_taxonomy & dataset & partition\\\\\n",
       "\\hline\n",
       "\t RS\\_GCF\\_900078295.2\\_Blautia sp. Marseille-P2398                                                                                                                          & RS\\_GCF\\_900078295.2                                                                                                                                                        &  99.37                                                                                                                                                                        & 0.00                                                                                                                                                                          & d\\_\\_Bacteria;p\\_\\_Firmicutes;c\\_\\_Clostridia;o\\_\\_Clostridiales;f\\_\\_Lachnospiraceae;g\\_\\_Blautia;s\\_\\_                                                        & d\\_\\_Bacteria;p\\_\\_Firmicutes\\_A;c\\_\\_Clostridia;o\\_\\_Lachnospirales;f\\_\\_Lachnospiraceae;g\\_\\_Blautia\\_A;s\\_\\_Blautia\\_A wexlerae                           & IS\\_N1000                                                                                                                                                                    & train                                                                                                                                                                        \\\\\n",
       "\t RS\\_GCF\\_001882795.1\\_Burkholderia ubonensis                                                                                                                         & RS\\_GCF\\_001882795.1                                                                                                                                                  & 100.00                                                                                                                                                                  & 1.11                                                                                                                                                                    & d\\_\\_Bacteria;p\\_\\_Proteobacteria;c\\_\\_Betaproteobacteria;o\\_\\_Burkholderiales;f\\_\\_Burkholderiaceae;g\\_\\_Burkholderia;s\\_\\_Burkholderia ubonensis        & d\\_\\_Bacteria;p\\_\\_Proteobacteria;c\\_\\_Gammaproteobacteria;o\\_\\_Betaproteobacteriales;f\\_\\_Burkholderiaceae;g\\_\\_Burkholderia;s\\_\\_Burkholderia ubonensis & IS\\_N1000                                                                                                                                                              & train                                                                                                                                                                  \\\\\n",
       "\t RS\\_GCF\\_000154385.1\\_Faecalibacterium prausnitzii M21/2                                                                                                                 & RS\\_GCF\\_000154385.1                                                                                                                                                      & 100.00                                                                                                                                                                      & 0.00                                                                                                                                                                        & d\\_\\_Bacteria;p\\_\\_Firmicutes;c\\_\\_Clostridia;o\\_\\_Clostridiales;f\\_\\_Ruminococcaceae;g\\_\\_Faecalibacterium;s\\_\\_Faecalibacterium prausnitzii                 & d\\_\\_Bacteria;p\\_\\_Firmicutes\\_A;c\\_\\_Clostridia;o\\_\\_Oscillospirales;f\\_\\_Ruminococcaceae;g\\_\\_Faecalibacterium;s\\_\\_Faecalibacterium prausnitzii\\_A       & IS\\_N1000                                                                                                                                                                  & train                                                                                                                                                                      \\\\\n",
       "\\end{tabular}\n"
      ],
      "text/markdown": [
       "\n",
       "Taxon | accession | checkm_completeness | checkm_contamination | ncbi_taxonomy | gtdb_taxonomy | dataset | partition | \n",
       "|---|---|---|\n",
       "| RS_GCF_900078295.2_Blautia sp. Marseille-P2398                                                                                              | RS_GCF_900078295.2                                                                                                                          |  99.37                                                                                                                                      | 0.00                                                                                                                                        | d__Bacteria;p__Firmicutes;c__Clostridia;o__Clostridiales;f__Lachnospiraceae;g__Blautia;s__                                                  | d__Bacteria;p__Firmicutes_A;c__Clostridia;o__Lachnospirales;f__Lachnospiraceae;g__Blautia_A;s__Blautia_A wexlerae                           | IS_N1000                                                                                                                                    | train                                                                                                                                       | \n",
       "| RS_GCF_001882795.1_Burkholderia ubonensis                                                                                                   | RS_GCF_001882795.1                                                                                                                          | 100.00                                                                                                                                      | 1.11                                                                                                                                        | d__Bacteria;p__Proteobacteria;c__Betaproteobacteria;o__Burkholderiales;f__Burkholderiaceae;g__Burkholderia;s__Burkholderia ubonensis        | d__Bacteria;p__Proteobacteria;c__Gammaproteobacteria;o__Betaproteobacteriales;f__Burkholderiaceae;g__Burkholderia;s__Burkholderia ubonensis | IS_N1000                                                                                                                                    | train                                                                                                                                       | \n",
       "| RS_GCF_000154385.1_Faecalibacterium prausnitzii M21/2                                                                                       | RS_GCF_000154385.1                                                                                                                          | 100.00                                                                                                                                      | 0.00                                                                                                                                        | d__Bacteria;p__Firmicutes;c__Clostridia;o__Clostridiales;f__Ruminococcaceae;g__Faecalibacterium;s__Faecalibacterium prausnitzii             | d__Bacteria;p__Firmicutes_A;c__Clostridia;o__Oscillospirales;f__Ruminococcaceae;g__Faecalibacterium;s__Faecalibacterium prausnitzii_A       | IS_N1000                                                                                                                                    | train                                                                                                                                       | \n",
       "\n",
       "\n"
      ],
      "text/plain": [
       "  Taxon                                                 accession         \n",
       "1 RS_GCF_900078295.2_Blautia sp. Marseille-P2398        RS_GCF_900078295.2\n",
       "2 RS_GCF_001882795.1_Burkholderia ubonensis             RS_GCF_001882795.1\n",
       "3 RS_GCF_000154385.1_Faecalibacterium prausnitzii M21/2 RS_GCF_000154385.1\n",
       "  checkm_completeness checkm_contamination\n",
       "1  99.37              0.00                \n",
       "2 100.00              1.11                \n",
       "3 100.00              0.00                \n",
       "  ncbi_taxonomy                                                                                                                       \n",
       "1 d__Bacteria;p__Firmicutes;c__Clostridia;o__Clostridiales;f__Lachnospiraceae;g__Blautia;s__                                          \n",
       "2 d__Bacteria;p__Proteobacteria;c__Betaproteobacteria;o__Burkholderiales;f__Burkholderiaceae;g__Burkholderia;s__Burkholderia ubonensis\n",
       "3 d__Bacteria;p__Firmicutes;c__Clostridia;o__Clostridiales;f__Ruminococcaceae;g__Faecalibacterium;s__Faecalibacterium prausnitzii     \n",
       "  gtdb_taxonomy                                                                                                                              \n",
       "1 d__Bacteria;p__Firmicutes_A;c__Clostridia;o__Lachnospirales;f__Lachnospiraceae;g__Blautia_A;s__Blautia_A wexlerae                          \n",
       "2 d__Bacteria;p__Proteobacteria;c__Gammaproteobacteria;o__Betaproteobacteriales;f__Burkholderiaceae;g__Burkholderia;s__Burkholderia ubonensis\n",
       "3 d__Bacteria;p__Firmicutes_A;c__Clostridia;o__Oscillospirales;f__Ruminococcaceae;g__Faecalibacterium;s__Faecalibacterium prausnitzii_A      \n",
       "  dataset  partition\n",
       "1 IS_N1000 train    \n",
       "2 IS_N1000 train    \n",
       "3 IS_N1000 train    "
      ]
     },
     "metadata": {},
     "output_type": "display_data"
    }
   ],
   "source": [
    "IS_train_n1000_genome = read.delim(IS_train_n1000_genome_file, sep='\\t') %>%\n",
    "    dplyr::select(Taxon, accession, checkm_completeness, checkm_contamination,\n",
    "                  ncbi_taxonomy, gtdb_taxonomy) %>%\n",
    "    mutate(dataset = 'IS_N1000',\n",
    "           partition = 'train')\n",
    "\n",
    "IS_train_n1000_genome %>% dfhead"
   ]
  },
  {
   "cell_type": "code",
   "execution_count": 31,
   "metadata": {
    "ExecuteTime": {
     "end_time": "2020-01-19T13:55:25.731906Z",
     "start_time": "2020-01-19T13:55:21.666Z"
    }
   },
   "outputs": [
    {
     "name": "stdout",
     "output_type": "stream",
     "text": [
      "[1] 1000    8\n"
     ]
    },
    {
     "data": {
      "text/html": [
       "<table>\n",
       "<thead><tr><th scope=col>Taxon</th><th scope=col>accession</th><th scope=col>checkm_completeness</th><th scope=col>checkm_contamination</th><th scope=col>ncbi_taxonomy</th><th scope=col>gtdb_taxonomy</th><th scope=col>dataset</th><th scope=col>partition</th></tr></thead>\n",
       "<tbody>\n",
       "\t<tr><td>RS_GCF_000505765.1_Asaia sp. SF2.1                                                                                      </td><td>RS_GCF_000505765.1                                                                                                      </td><td> 93.86                                                                                                                  </td><td>0.00                                                                                                                    </td><td>d__Bacteria;p__Proteobacteria;c__Alphaproteobacteria;o__Rhodospirillales;f__Acetobacteraceae;g__Asaia;s__               </td><td>d__Bacteria;p__Proteobacteria;c__Alphaproteobacteria;o__Acetobacterales;f__Acetobacteraceae;g__Asaia;s__Asaia bogorensis</td><td>IS_N1000                                                                                                                </td><td>test                                                                                                                    </td></tr>\n",
       "\t<tr><td>GB_GCA_002343285.1_Chthonomonas sp. UBA2399                                                                             </td><td>GB_GCA_002343285.1                                                                                                      </td><td> 92.54                                                                                                                  </td><td>0.93                                                                                                                    </td><td>d__Bacteria;p__Armatimonadetes;c__Chthonomonadetes;o__Chthonomonadales;f__Chthonomonadaceae;g__Chthonomonas;s__         </td><td>d__Bacteria;p__Armatimonadota;c__Fimbriimonadia;o__Fimbriimonadales;f__Fimbriimonadaceae;g__UBA6659;s__                 </td><td>IS_N1000                                                                                                                </td><td>test                                                                                                                    </td></tr>\n",
       "\t<tr><td>RS_GCF_001813675.1_Streptococcus sp. HMSC078D09                                                                         </td><td>RS_GCF_001813675.1                                                                                                      </td><td>100.00                                                                                                                  </td><td>0.24                                                                                                                    </td><td>d__Bacteria;p__Firmicutes;c__Bacilli;o__Lactobacillales;f__Streptococcaceae;g__Streptococcus;s__                        </td><td>d__Bacteria;p__Firmicutes;c__Bacilli;o__Lactobacillales;f__Streptococcaceae;g__Streptococcus;s__                        </td><td>IS_N1000                                                                                                                </td><td>test                                                                                                                    </td></tr>\n",
       "</tbody>\n",
       "</table>\n"
      ],
      "text/latex": [
       "\\begin{tabular}{r|llllllll}\n",
       " Taxon & accession & checkm\\_completeness & checkm\\_contamination & ncbi\\_taxonomy & gtdb\\_taxonomy & dataset & partition\\\\\n",
       "\\hline\n",
       "\t RS\\_GCF\\_000505765.1\\_Asaia sp. SF2.1                                                                                                             & RS\\_GCF\\_000505765.1                                                                                                                               &  93.86                                                                                                                                               & 0.00                                                                                                                                                 & d\\_\\_Bacteria;p\\_\\_Proteobacteria;c\\_\\_Alphaproteobacteria;o\\_\\_Rhodospirillales;f\\_\\_Acetobacteraceae;g\\_\\_Asaia;s\\_\\_                & d\\_\\_Bacteria;p\\_\\_Proteobacteria;c\\_\\_Alphaproteobacteria;o\\_\\_Acetobacterales;f\\_\\_Acetobacteraceae;g\\_\\_Asaia;s\\_\\_Asaia bogorensis & IS\\_N1000                                                                                                                                           & test                                                                                                                                                \\\\\n",
       "\t GB\\_GCA\\_002343285.1\\_Chthonomonas sp. UBA2399                                                                                                    & GB\\_GCA\\_002343285.1                                                                                                                               &  92.54                                                                                                                                               & 0.93                                                                                                                                                 & d\\_\\_Bacteria;p\\_\\_Armatimonadetes;c\\_\\_Chthonomonadetes;o\\_\\_Chthonomonadales;f\\_\\_Chthonomonadaceae;g\\_\\_Chthonomonas;s\\_\\_          & d\\_\\_Bacteria;p\\_\\_Armatimonadota;c\\_\\_Fimbriimonadia;o\\_\\_Fimbriimonadales;f\\_\\_Fimbriimonadaceae;g\\_\\_UBA6659;s\\_\\_                  & IS\\_N1000                                                                                                                                           & test                                                                                                                                                \\\\\n",
       "\t RS\\_GCF\\_001813675.1\\_Streptococcus sp. HMSC078D09                                                                                                & RS\\_GCF\\_001813675.1                                                                                                                               & 100.00                                                                                                                                               & 0.24                                                                                                                                                 & d\\_\\_Bacteria;p\\_\\_Firmicutes;c\\_\\_Bacilli;o\\_\\_Lactobacillales;f\\_\\_Streptococcaceae;g\\_\\_Streptococcus;s\\_\\_                         & d\\_\\_Bacteria;p\\_\\_Firmicutes;c\\_\\_Bacilli;o\\_\\_Lactobacillales;f\\_\\_Streptococcaceae;g\\_\\_Streptococcus;s\\_\\_                         & IS\\_N1000                                                                                                                                           & test                                                                                                                                                \\\\\n",
       "\\end{tabular}\n"
      ],
      "text/markdown": [
       "\n",
       "Taxon | accession | checkm_completeness | checkm_contamination | ncbi_taxonomy | gtdb_taxonomy | dataset | partition | \n",
       "|---|---|---|\n",
       "| RS_GCF_000505765.1_Asaia sp. SF2.1                                                                                       | RS_GCF_000505765.1                                                                                                       |  93.86                                                                                                                   | 0.00                                                                                                                     | d__Bacteria;p__Proteobacteria;c__Alphaproteobacteria;o__Rhodospirillales;f__Acetobacteraceae;g__Asaia;s__                | d__Bacteria;p__Proteobacteria;c__Alphaproteobacteria;o__Acetobacterales;f__Acetobacteraceae;g__Asaia;s__Asaia bogorensis | IS_N1000                                                                                                                 | test                                                                                                                     | \n",
       "| GB_GCA_002343285.1_Chthonomonas sp. UBA2399                                                                              | GB_GCA_002343285.1                                                                                                       |  92.54                                                                                                                   | 0.93                                                                                                                     | d__Bacteria;p__Armatimonadetes;c__Chthonomonadetes;o__Chthonomonadales;f__Chthonomonadaceae;g__Chthonomonas;s__          | d__Bacteria;p__Armatimonadota;c__Fimbriimonadia;o__Fimbriimonadales;f__Fimbriimonadaceae;g__UBA6659;s__                  | IS_N1000                                                                                                                 | test                                                                                                                     | \n",
       "| RS_GCF_001813675.1_Streptococcus sp. HMSC078D09                                                                          | RS_GCF_001813675.1                                                                                                       | 100.00                                                                                                                   | 0.24                                                                                                                     | d__Bacteria;p__Firmicutes;c__Bacilli;o__Lactobacillales;f__Streptococcaceae;g__Streptococcus;s__                         | d__Bacteria;p__Firmicutes;c__Bacilli;o__Lactobacillales;f__Streptococcaceae;g__Streptococcus;s__                         | IS_N1000                                                                                                                 | test                                                                                                                     | \n",
       "\n",
       "\n"
      ],
      "text/plain": [
       "  Taxon                                           accession         \n",
       "1 RS_GCF_000505765.1_Asaia sp. SF2.1              RS_GCF_000505765.1\n",
       "2 GB_GCA_002343285.1_Chthonomonas sp. UBA2399     GB_GCA_002343285.1\n",
       "3 RS_GCF_001813675.1_Streptococcus sp. HMSC078D09 RS_GCF_001813675.1\n",
       "  checkm_completeness checkm_contamination\n",
       "1  93.86              0.00                \n",
       "2  92.54              0.93                \n",
       "3 100.00              0.24                \n",
       "  ncbi_taxonomy                                                                                                  \n",
       "1 d__Bacteria;p__Proteobacteria;c__Alphaproteobacteria;o__Rhodospirillales;f__Acetobacteraceae;g__Asaia;s__      \n",
       "2 d__Bacteria;p__Armatimonadetes;c__Chthonomonadetes;o__Chthonomonadales;f__Chthonomonadaceae;g__Chthonomonas;s__\n",
       "3 d__Bacteria;p__Firmicutes;c__Bacilli;o__Lactobacillales;f__Streptococcaceae;g__Streptococcus;s__               \n",
       "  gtdb_taxonomy                                                                                                           \n",
       "1 d__Bacteria;p__Proteobacteria;c__Alphaproteobacteria;o__Acetobacterales;f__Acetobacteraceae;g__Asaia;s__Asaia bogorensis\n",
       "2 d__Bacteria;p__Armatimonadota;c__Fimbriimonadia;o__Fimbriimonadales;f__Fimbriimonadaceae;g__UBA6659;s__                 \n",
       "3 d__Bacteria;p__Firmicutes;c__Bacilli;o__Lactobacillales;f__Streptococcaceae;g__Streptococcus;s__                        \n",
       "  dataset  partition\n",
       "1 IS_N1000 test     \n",
       "2 IS_N1000 test     \n",
       "3 IS_N1000 test     "
      ]
     },
     "metadata": {},
     "output_type": "display_data"
    }
   ],
   "source": [
    "IS_test_n1000_genome = read.delim(IS_test_n1000_genome_file, sep='\\t') %>%\n",
    "    dplyr::select(Taxon, accession, checkm_completeness, checkm_contamination,\n",
    "                  ncbi_taxonomy, gtdb_taxonomy) %>%\n",
    "    mutate(dataset = 'IS_N1000',\n",
    "           partition = 'test')\n",
    "\n",
    "IS_test_n1000_genome %>% dfhead"
   ]
  },
  {
   "cell_type": "markdown",
   "metadata": {},
   "source": [
    "# Summary"
   ]
  },
  {
   "cell_type": "code",
   "execution_count": 32,
   "metadata": {
    "ExecuteTime": {
     "end_time": "2020-01-19T13:55:25.802594Z",
     "start_time": "2020-01-19T13:55:22.893Z"
    }
   },
   "outputs": [
    {
     "name": "stdout",
     "output_type": "stream",
     "text": [
      "[1] 4099    8\n"
     ]
    },
    {
     "data": {
      "text/html": [
       "<table>\n",
       "<thead><tr><th scope=col>Taxon</th><th scope=col>accession</th><th scope=col>checkm_completeness</th><th scope=col>checkm_contamination</th><th scope=col>ncbi_taxonomy</th><th scope=col>gtdb_taxonomy</th><th scope=col>dataset</th><th scope=col>partition</th></tr></thead>\n",
       "<tbody>\n",
       "\t<tr><td>GB_GCA_002238865.1_Gemmatimonadetes bacterium bin94                                                                            </td><td>GB_GCA_002238865.1                                                                                                             </td><td> 97.80                                                                                                                         </td><td>3.30                                                                                                                           </td><td>d__Bacteria;p__Gemmatimonadetes;c__;o__;f__;g__;s__                                                                            </td><td>d__Bacteria;p__Gemmatimonadota;c__Gemmatimonadetes;o__SG8-23;f__BD2-11;g__bin94;s__                                            </td><td>N1000                                                                                                                          </td><td>train                                                                                                                          </td></tr>\n",
       "\t<tr><td>RS_GCF_000429065.1_Silanimonas lenta DSM 16282                                                                                 </td><td>RS_GCF_000429065.1                                                                                                             </td><td> 99.66                                                                                                                         </td><td>0.04                                                                                                                           </td><td>d__Bacteria;p__Proteobacteria;c__Gammaproteobacteria;o__Xanthomonadales;f__Xanthomonadaceae;g__Silanimonas;s__Silanimonas lenta</td><td>d__Bacteria;p__Proteobacteria;c__Gammaproteobacteria;o__Xanthomonadales;f__Xanthomonadaceae;g__Silanimonas;s__Silanimonas lenta</td><td>N1000                                                                                                                          </td><td>train                                                                                                                          </td></tr>\n",
       "\t<tr><td>RS_GCF_900188435.1_Marinobacter sp. es.048                                                                                     </td><td>RS_GCF_900188435.1                                                                                                             </td><td>100.00                                                                                                                         </td><td>0.00                                                                                                                           </td><td>d__Bacteria;p__Proteobacteria;c__Gammaproteobacteria;o__Alteromonadales;f__Alteromonadaceae;g__Marinobacter;s__                </td><td>d__Bacteria;p__Proteobacteria;c__Gammaproteobacteria;o__Pseudomonadales;f__Hahellaceae;g__Marinobacter;s__                     </td><td>N1000                                                                                                                          </td><td>train                                                                                                                          </td></tr>\n",
       "</tbody>\n",
       "</table>\n"
      ],
      "text/latex": [
       "\\begin{tabular}{r|llllllll}\n",
       " Taxon & accession & checkm\\_completeness & checkm\\_contamination & ncbi\\_taxonomy & gtdb\\_taxonomy & dataset & partition\\\\\n",
       "\\hline\n",
       "\t GB\\_GCA\\_002238865.1\\_Gemmatimonadetes bacterium bin94                                                                                                   & GB\\_GCA\\_002238865.1                                                                                                                                      &  97.80                                                                                                                                                      & 3.30                                                                                                                                                        & d\\_\\_Bacteria;p\\_\\_Gemmatimonadetes;c\\_\\_;o\\_\\_;f\\_\\_;g\\_\\_;s\\_\\_                                                                             & d\\_\\_Bacteria;p\\_\\_Gemmatimonadota;c\\_\\_Gemmatimonadetes;o\\_\\_SG8-23;f\\_\\_BD2-11;g\\_\\_bin94;s\\_\\_                                             & N1000                                                                                                                                                       & train                                                                                                                                                      \\\\\n",
       "\t RS\\_GCF\\_000429065.1\\_Silanimonas lenta DSM 16282                                                                                                        & RS\\_GCF\\_000429065.1                                                                                                                                      &  99.66                                                                                                                                                      & 0.04                                                                                                                                                        & d\\_\\_Bacteria;p\\_\\_Proteobacteria;c\\_\\_Gammaproteobacteria;o\\_\\_Xanthomonadales;f\\_\\_Xanthomonadaceae;g\\_\\_Silanimonas;s\\_\\_Silanimonas lenta & d\\_\\_Bacteria;p\\_\\_Proteobacteria;c\\_\\_Gammaproteobacteria;o\\_\\_Xanthomonadales;f\\_\\_Xanthomonadaceae;g\\_\\_Silanimonas;s\\_\\_Silanimonas lenta & N1000                                                                                                                                                       & train                                                                                                                                                      \\\\\n",
       "\t RS\\_GCF\\_900188435.1\\_Marinobacter sp. es.048                                                                                                            & RS\\_GCF\\_900188435.1                                                                                                                                      & 100.00                                                                                                                                                      & 0.00                                                                                                                                                        & d\\_\\_Bacteria;p\\_\\_Proteobacteria;c\\_\\_Gammaproteobacteria;o\\_\\_Alteromonadales;f\\_\\_Alteromonadaceae;g\\_\\_Marinobacter;s\\_\\_                 & d\\_\\_Bacteria;p\\_\\_Proteobacteria;c\\_\\_Gammaproteobacteria;o\\_\\_Pseudomonadales;f\\_\\_Hahellaceae;g\\_\\_Marinobacter;s\\_\\_                      & N1000                                                                                                                                                       & train                                                                                                                                                      \\\\\n",
       "\\end{tabular}\n"
      ],
      "text/markdown": [
       "\n",
       "Taxon | accession | checkm_completeness | checkm_contamination | ncbi_taxonomy | gtdb_taxonomy | dataset | partition | \n",
       "|---|---|---|\n",
       "| GB_GCA_002238865.1_Gemmatimonadetes bacterium bin94                                                                             | GB_GCA_002238865.1                                                                                                              |  97.80                                                                                                                          | 3.30                                                                                                                            | d__Bacteria;p__Gemmatimonadetes;c__;o__;f__;g__;s__                                                                             | d__Bacteria;p__Gemmatimonadota;c__Gemmatimonadetes;o__SG8-23;f__BD2-11;g__bin94;s__                                             | N1000                                                                                                                           | train                                                                                                                           | \n",
       "| RS_GCF_000429065.1_Silanimonas lenta DSM 16282                                                                                  | RS_GCF_000429065.1                                                                                                              |  99.66                                                                                                                          | 0.04                                                                                                                            | d__Bacteria;p__Proteobacteria;c__Gammaproteobacteria;o__Xanthomonadales;f__Xanthomonadaceae;g__Silanimonas;s__Silanimonas lenta | d__Bacteria;p__Proteobacteria;c__Gammaproteobacteria;o__Xanthomonadales;f__Xanthomonadaceae;g__Silanimonas;s__Silanimonas lenta | N1000                                                                                                                           | train                                                                                                                           | \n",
       "| RS_GCF_900188435.1_Marinobacter sp. es.048                                                                                      | RS_GCF_900188435.1                                                                                                              | 100.00                                                                                                                          | 0.00                                                                                                                            | d__Bacteria;p__Proteobacteria;c__Gammaproteobacteria;o__Alteromonadales;f__Alteromonadaceae;g__Marinobacter;s__                 | d__Bacteria;p__Proteobacteria;c__Gammaproteobacteria;o__Pseudomonadales;f__Hahellaceae;g__Marinobacter;s__                      | N1000                                                                                                                           | train                                                                                                                           | \n",
       "\n",
       "\n"
      ],
      "text/plain": [
       "  Taxon                                               accession         \n",
       "1 GB_GCA_002238865.1_Gemmatimonadetes bacterium bin94 GB_GCA_002238865.1\n",
       "2 RS_GCF_000429065.1_Silanimonas lenta DSM 16282      RS_GCF_000429065.1\n",
       "3 RS_GCF_900188435.1_Marinobacter sp. es.048          RS_GCF_900188435.1\n",
       "  checkm_completeness checkm_contamination\n",
       "1  97.80              3.30                \n",
       "2  99.66              0.04                \n",
       "3 100.00              0.00                \n",
       "  ncbi_taxonomy                                                                                                                  \n",
       "1 d__Bacteria;p__Gemmatimonadetes;c__;o__;f__;g__;s__                                                                            \n",
       "2 d__Bacteria;p__Proteobacteria;c__Gammaproteobacteria;o__Xanthomonadales;f__Xanthomonadaceae;g__Silanimonas;s__Silanimonas lenta\n",
       "3 d__Bacteria;p__Proteobacteria;c__Gammaproteobacteria;o__Alteromonadales;f__Alteromonadaceae;g__Marinobacter;s__                \n",
       "  gtdb_taxonomy                                                                                                                  \n",
       "1 d__Bacteria;p__Gemmatimonadota;c__Gemmatimonadetes;o__SG8-23;f__BD2-11;g__bin94;s__                                            \n",
       "2 d__Bacteria;p__Proteobacteria;c__Gammaproteobacteria;o__Xanthomonadales;f__Xanthomonadaceae;g__Silanimonas;s__Silanimonas lenta\n",
       "3 d__Bacteria;p__Proteobacteria;c__Gammaproteobacteria;o__Pseudomonadales;f__Hahellaceae;g__Marinobacter;s__                     \n",
       "  dataset partition\n",
       "1 N1000   train    \n",
       "2 N1000   train    \n",
       "3 N1000   train    "
      ]
     },
     "metadata": {},
     "output_type": "display_data"
    }
   ],
   "source": [
    "df_all = list(train_n1000_genome, test_n100_genome, test_n1000_genome,\n",
    "              IS_train_n1000_genome, IS_test_n1000_genome) %>%\n",
    "    do.call(rbind, .)\n",
    "\n",
    "df_all %>% dfhead"
   ]
  },
  {
   "cell_type": "code",
   "execution_count": 33,
   "metadata": {
    "ExecuteTime": {
     "end_time": "2020-01-19T13:55:27.294368Z",
     "start_time": "2020-01-19T13:55:27.202Z"
    }
   },
   "outputs": [
    {
     "data": {
      "text/html": [
       "2000"
      ],
      "text/latex": [
       "2000"
      ],
      "text/markdown": [
       "2000"
      ],
      "text/plain": [
       "[1] 2000"
      ]
     },
     "metadata": {},
     "output_type": "display_data"
    },
    {
     "data": {
      "text/html": [
       "2000"
      ],
      "text/latex": [
       "2000"
      ],
      "text/markdown": [
       "2000"
      ],
      "text/plain": [
       "[1] 2000"
      ]
     },
     "metadata": {},
     "output_type": "display_data"
    }
   ],
   "source": [
    "# unique accessions\n",
    "## N1000\n",
    "df_all %>%\n",
    "    filter(dataset == 'N1000') %>%\n",
    "    .$accession %>% unique %>% length\n",
    "## IS_N1000\n",
    "df_all %>%\n",
    "    filter(dataset == 'IS_N1000') %>%\n",
    "    .$accession %>% unique %>% length"
   ]
  },
  {
   "cell_type": "markdown",
   "metadata": {},
   "source": [
    "## CheckM"
   ]
  },
  {
   "cell_type": "code",
   "execution_count": 34,
   "metadata": {
    "ExecuteTime": {
     "end_time": "2020-01-19T13:55:30.062943Z",
     "start_time": "2020-01-19T13:55:28.529Z"
    }
   },
   "outputs": [
    {
     "data": {
      "image/png": "[encoded data removed]",
      "text/plain": [
       "plot without title"
      ]
     },
     "metadata": {},
     "output_type": "display_data"
    }
   ],
   "source": [
    "p = df_all %>%\n",
    "    dplyr::select(Taxon, checkm_completeness, checkm_contamination, dataset, partition) %>%\n",
    "    gather(checkm_metric, checkm_value, -Taxon, -dataset, -partition) %>%\n",
    "    mutate(checkm_metric = checkm_metric %>% as.character,\n",
    "           checkm_metric = ifelse(checkm_metric == 'checkm_completeness',\n",
    "                                  'Completeness', 'Contamination'),\n",
    "           partition = gsub('^t', 'T', partition)) %>%\n",
    "    ggplot(aes(partition, checkm_value, color=dataset)) +\n",
    "    geom_boxplot() +\n",
    "    facet_wrap(~ checkm_metric, scales='free_y') +\n",
    "    theme_bw() +\n",
    "    theme(\n",
    "        axis.title.y = element_blank()\n",
    "    )\n",
    "\n",
    "dims(6,2.7,res=200)\n",
    "plot(p)"
   ]
  },
  {
   "cell_type": "markdown",
   "metadata": {},
   "source": [
    "## Taxonomy"
   ]
  },
  {
   "cell_type": "code",
   "execution_count": 41,
   "metadata": {
    "ExecuteTime": {
     "end_time": "2019-12-20T11:30:06.432447Z",
     "start_time": "2019-12-20T11:30:06.261Z"
    }
   },
   "outputs": [
    {
     "data": {
      "text/html": [
       "40"
      ],
      "text/latex": [
       "40"
      ],
      "text/markdown": [
       "40"
      ],
      "text/plain": [
       "[1] 40"
      ]
     },
     "metadata": {},
     "output_type": "display_data"
    },
    {
     "data": {
      "text/html": [
       "40"
      ],
      "text/latex": [
       "40"
      ],
      "text/markdown": [
       "40"
      ],
      "text/plain": [
       "[1] 40"
      ]
     },
     "metadata": {},
     "output_type": "display_data"
    }
   ],
   "source": [
    "levs = c('Domain', 'Phylum', 'Class', 'Order', 'Family', 'Genus', 'Species')\n",
    "\n",
    "df_all_s = df_all %>%\n",
    "    separate(ncbi_taxonomy, levs, sep=';') \n",
    "\n",
    "df_all_s %>%\n",
    "    filter(dataset == 'N1000',\n",
    "           Phylum != 'p__') %>%\n",
    "    group_by(Phylum) %>%\n",
    "    summarize(n=n()) %>%\n",
    "    ungroup() %>%\n",
    "    nrow\n",
    "    \n",
    "\n",
    "df_all_s %>%\n",
    "    filter(dataset == 'N1000',\n",
    "           Phylum != 'p__') %>%\n",
    "    group_by(Phylum) %>%\n",
    "    summarize(n=n()) %>%\n",
    "    ungroup() %>%\n",
    "    nrow"
   ]
  },
  {
   "cell_type": "markdown",
   "metadata": {},
   "source": [
    "## Writing table"
   ]
  },
  {
   "cell_type": "code",
   "execution_count": 42,
   "metadata": {
    "ExecuteTime": {
     "end_time": "2019-12-20T11:31:19.035246Z",
     "start_time": "2019-12-20T11:31:18.959Z"
    }
   },
   "outputs": [
    {
     "name": "stdout",
     "output_type": "stream",
     "text": [
      "File written: /ebio/abt3_projects/databases_no-backup/DeepMAsED/GTDB_ref_genomes/summary//N1000_IS-N1000_ref-genome_summary.tsv \n"
     ]
    }
   ],
   "source": [
    "F = file.path(work_dir, 'N1000_IS-N1000_ref-genome_summary.tsv')\n",
    "write.table(df_all, file=F, sep='\\t', quote=FALSE, row.names=FALSE)\n",
    "cat('File written:', F, '\\n')"
   ]
  },
  {
   "cell_type": "markdown",
   "metadata": {},
   "source": [
    "# sessionInfo"
   ]
  },
  {
   "cell_type": "code",
   "execution_count": 43,
   "metadata": {
    "ExecuteTime": {
     "end_time": "2019-12-20T11:31:26.064744Z",
     "start_time": "2019-12-20T11:31:25.961Z"
    }
   },
   "outputs": [
    {
     "data": {
      "text/plain": [
       "R version 3.4.1 (2017-06-30)\n",
       "Platform: x86_64-pc-linux-gnu (64-bit)\n",
       "Running under: Ubuntu 18.04.3 LTS\n",
       "\n",
       "Matrix products: default\n",
       "BLAS: /ebio/abt3_projects/software/miniconda3_gt4.4/envs/py3_physeq/lib/R/lib/libRblas.so\n",
       "LAPACK: /ebio/abt3_projects/software/miniconda3_gt4.4/envs/py3_physeq/lib/R/lib/libRlapack.so\n",
       "\n",
       "locale:\n",
       " [1] LC_CTYPE=en_US.UTF-8       LC_NUMERIC=C              \n",
       " [3] LC_TIME=en_US.UTF-8        LC_COLLATE=en_US.UTF-8    \n",
       " [5] LC_MONETARY=en_US.UTF-8    LC_MESSAGES=en_US.UTF-8   \n",
       " [7] LC_PAPER=en_US.UTF-8       LC_NAME=C                 \n",
       " [9] LC_ADDRESS=C               LC_TELEPHONE=C            \n",
       "[11] LC_MEASUREMENT=en_US.UTF-8 LC_IDENTIFICATION=C       \n",
       "\n",
       "attached base packages:\n",
       "[1] stats     graphics  grDevices utils     datasets  methods   base     \n",
       "\n",
       "other attached packages:\n",
       "[1] bindrcpp_0.2.2    data.table_1.11.4 ggplot2_3.0.0     tidyr_0.8.1      \n",
       "[5] dplyr_0.7.6      \n",
       "\n",
       "loaded via a namespace (and not attached):\n",
       " [1] Rcpp_0.12.17     pillar_1.2.2     compiler_3.4.1   plyr_1.8.4      \n",
       " [5] bindr_0.1.1      base64enc_0.1-3  tools_3.4.1      digest_0.6.15   \n",
       " [9] uuid_0.1-2       jsonlite_1.5     evaluate_0.10.1  tibble_1.4.2    \n",
       "[13] gtable_0.2.0     pkgconfig_2.0.1  rlang_0.2.1      IRdisplay_0.4.4 \n",
       "[17] IRkernel_0.8.12  repr_0.15.0      withr_2.1.1      stringr_1.3.1   \n",
       "[21] grid_3.4.1       tidyselect_0.2.4 glue_1.3.0       R6_2.2.2        \n",
       "[25] pbdZMQ_0.3-2     purrr_0.2.4      magrittr_1.5     scales_0.5.0    \n",
       "[29] htmltools_0.3.6  assertthat_0.2.0 colorspace_1.3-2 stringi_1.2.3   \n",
       "[33] lazyeval_0.2.1   munsell_0.5.0    crayon_1.3.4    "
      ]
     },
     "metadata": {},
     "output_type": "display_data"
    }
   ],
   "source": [
    "sessionInfo()"
   ]
  },
  {
   "cell_type": "code",
   "execution_count": null,
   "metadata": {},
   "outputs": [],
   "source": []
  }
 ],
 "metadata": {
  "kernelspec": {
   "display_name": "R [conda env:py3_physeq]",
   "language": "R",
   "name": "conda-env-py3_physeq-r"
  },
  "language_info": {
   "codemirror_mode": "r",
   "file_extension": ".r",
   "mimetype": "text/x-r-source",
   "name": "R",
   "pygments_lexer": "r",
   "version": "3.4.1"
  },
  "toc": {
   "base_numbering": 1,
   "nav_menu": {},
   "number_sections": true,
   "sideBar": true,
   "skip_h1_title": false,
   "title_cell": "Table of Contents",
   "title_sidebar": "Contents",
   "toc_cell": true,
   "toc_position": {},
   "toc_section_display": true,
   "toc_window_display": true
  }
 },
 "nbformat": 4,
 "nbformat_minor": 2
}
