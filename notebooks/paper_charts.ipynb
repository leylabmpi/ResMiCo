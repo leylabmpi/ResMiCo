{
 "cells": [
  {
   "cell_type": "code",
   "execution_count": null,
   "id": "harmful-tragedy",
   "metadata": {
    "ExecuteTime": {
     "end_time": "2022-01-18T18:12:23.077332Z",
     "start_time": "2022-01-18T18:12:22.402852Z"
    }
   },
   "outputs": [],
   "source": [
    "import matplotlib.pyplot as plt\n",
    "import matplotlib.colors\n",
    "import seaborn as sns\n",
    "import numpy as np\n",
    "\n",
    "train_hist=[6399, 36699, 29536, 22462, 17547, 13945, 14452, 16713, 20741, 22517,\n",
    " 16766, 12332,  9295,  7378,  5828,  4845,  4016,  3333,  2716,  2385,\n",
    "  1958,  1744,  1475,  1290,  1131,   979,   926,   912,   745,   626,\n",
    "   631,   589,   519,   445,   440,   412,   402,   366,   361,   292,\n",
    "   293,   265,   263,   251,   229,   223,   209,   198,   179, 11889]\n",
    "novel_hist=[ 4954, 27398, 21134, 15225, 12089,  9670,  9859, 11345, 14096, 16025,\n",
    " 12255,  9363,  7136,  5727,  4707,  3929,  3130,  2598,  2257,  1741,\n",
    "  1528,  1263,  1084,   946,   820,   754,   737,   574,   571,   449,\n",
    "   437,   442,   376,   345,   313,   282,   256,   253,   228,   232,\n",
    "   186,   191,   180,   169,   149,   154,   147,   114,   112,  7132,]\n",
    "gut_hist=[ 59, 605, 410, 390, 296, 231, 230, 248, 270, 325, 243, 167, 168, 140,\n",
    " 134, 105,  92, 100,  54,  69,  47,  48,  39,  29,  42,  24,  25,  27,\n",
    "  19,  23,  25,  18,  16,  15,  21,  12,  20,   8,   7,  10,  10,   6,\n",
    "   4,  11,  10,  10,   3,  10,   3, 670,]\n",
    "skin_hist=[ 63, 639, 584, 502, 344, 273, 257, 306, 389, 357, 294, 199, 176, 148,\n",
    " 131, 127, 107,  80,  69,  62,  44,  39,  47,  37,  46,  36,  26,  15,\n",
    "  21,  19,  31,  15,   9,  15,  11,  12,   4,   7,   2,  15,   8,   9,\n",
    "   4,   8,   1,  11,   7,   6,   3, 333,]\n",
    "oral_hist= [ 78, 755, 698, 568, 411, 328, 346, 375, 466, 474, 394, 305, 226, 204,\n",
    " 169, 144, 136, 126,  90,  85,  74,  64,  53,  38,  49,  48,  28,  38,\n",
    "  27,  26,  16,  22,  23,  20,  19,  20,  17,  10,  23,  16,  11,   7,\n",
    "  19,  14,   9,  14,  10,  10,  11, 616,]\n",
    "\n",
    "\n",
    "data = [train_hist, novel_hist, gut_hist, skin_hist, oral_hist]\n",
    "# normalize values\n",
    "\n",
    "data=[np.array(d)/sum(d) for d in data]\n",
    "pal = sns.color_palette(\"magma\")\n",
    "fig, axs = plt.subplots(1, 1, figsize=(9,6))\n",
    "\n",
    "\n",
    "xticks=np.arange(50) # [str(x) for x in range(0,10000, 200)]\n",
    "plt.plot(xticks, data[0], color=pal[0], label='n9ktrain') # range=(0,1000), density=False, alpha=0.8, label=['n9ktrain', 'n9knovel', 'cami-gut', 'cami-skin', 'cami-oral'], color=pal[:5])\n",
    "plt.plot(xticks, data[1], color=pal[1], label='n9knovel') #, width=0.2)\n",
    "plt.plot(xticks, data[2], color=pal[2], label='CAMI gut') #, width=0.2)\n",
    "plt.plot(xticks, data[3], color=pal[3], label='CAMI skin') #, width=0.2)\n",
    "plt.plot(xticks, data[4], color=pal[4], label='CAMI oral') #, width=0.2)\n",
    "plt.legend(loc='upper right')\n",
    "axs.legend(loc='best', fontsize=14)\n",
    "#plt.xticks(xticks, rotation='90')\n",
    "\n",
    "xlabels=[]\n",
    "for i, l in enumerate(xticks):\n",
    "    if i%5 == 0:\n",
    "        xlabels.append(str(i*200))\n",
    "    else:\n",
    "        xlabels.append('')\n",
    "\n",
    "xlabels[-1] = '>10000'\n",
    "\n",
    "axs.set_xticks(xticks)\n",
    "axs.set_xticklabels(xlabels)\n",
    "plt.xlim(0,50)\n",
    "plt.ylim(0,0.13)\n",
    "plt.xlabel(\"Position\")\n",
    "plt.ylabel(\"Breakpoint %\")\n",
    "plt.savefig('/tmp/breakpoint_histogram.png', format='png', bbox_inches='tight')\n",
    "plt.show()\n",
    "\n",
    "\n"
   ]
  }
 ],
 "metadata": {
  "kernelspec": {
   "display_name": "Python 3",
   "language": "python",
   "name": "python3"
  },
  "language_info": {
   "codemirror_mode": {
    "name": "ipython",
    "version": 3
   },
   "file_extension": ".py",
   "mimetype": "text/x-python",
   "name": "python",
   "nbconvert_exporter": "python",
   "pygments_lexer": "ipython3",
   "version": "3.7.10"
  }
 },
 "nbformat": 4,
 "nbformat_minor": 5
}
