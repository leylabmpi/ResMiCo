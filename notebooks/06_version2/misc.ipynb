{
 "cells": [
  {
   "cell_type": "markdown",
   "metadata": {
    "toc": true
   },
   "source": [
    "<h1>Table of Contents<span class=\"tocSkip\"></span></h1>\n",
    "<div class=\"toc\"><ul class=\"toc-item\"><li><span><a href=\"#Database-format\" data-toc-modified-id=\"Database-format-1\"><span class=\"toc-item-num\">1&nbsp;&nbsp;</span>Database format</a></span><ul class=\"toc-item\"><li><span><a href=\"#Disbiome\" data-toc-modified-id=\"Disbiome-1.1\"><span class=\"toc-item-num\">1.1&nbsp;&nbsp;</span>Disbiome</a></span></li><li><span><a href=\"#MicroPheno\" data-toc-modified-id=\"MicroPheno-1.2\"><span class=\"toc-item-num\">1.2&nbsp;&nbsp;</span>MicroPheno</a></span></li><li><span><a href=\"#microphenodb\" data-toc-modified-id=\"microphenodb-1.3\"><span class=\"toc-item-num\">1.3&nbsp;&nbsp;</span>microphenodb</a></span></li><li><span><a href=\"#peryton\" data-toc-modified-id=\"peryton-1.4\"><span class=\"toc-item-num\">1.4&nbsp;&nbsp;</span>peryton</a></span></li></ul></li></ul></div>"
   ]
  },
  {
   "cell_type": "code",
   "execution_count": 2,
   "metadata": {
    "ExecuteTime": {
     "end_time": "2021-04-25T11:56:05.890867Z",
     "start_time": "2021-04-25T11:56:05.809Z"
    }
   },
   "outputs": [],
   "source": [
    "work_dir = '/ebio/abt3_scratch/nyoungblut/parasite_ku_db/taxdump/'\n",
    "tsv = file.path(work_dir, 'parasite_genomes.tsv')\n",
    "idx = file.path(work_dir, 'GTDBr95_NCBI-2020-12-23_renamed-taxids.tsv')"
   ]
  },
  {
   "cell_type": "code",
   "execution_count": 3,
   "metadata": {
    "ExecuteTime": {
     "end_time": "2021-04-25T11:56:06.010276Z",
     "start_time": "2021-04-25T11:56:05.959Z"
    }
   },
   "outputs": [],
   "source": [
    "library(dplyr)\n",
    "library(tidyr)\n",
    "library(data.table)\n",
    "library(tidytable)\n",
    "library(LeyLabRMisc)\n",
    "library(readxl)\n",
    "df.dims()"
   ]
  },
  {
   "cell_type": "code",
   "execution_count": 4,
   "metadata": {
    "ExecuteTime": {
     "end_time": "2021-04-25T11:56:06.112508Z",
     "start_time": "2021-04-25T11:56:06.038Z"
    }
   },
   "outputs": [
    {
     "data": {
      "text/html": [
       "<table class=\"dataframe\">\n",
       "<caption>A data.table: 24 × 4</caption>\n",
       "<thead>\n",
       "\t<tr><th scope=col>taxon</th><th scope=col>fasta</th><th scope=col>taxid</th><th scope=col>accession</th></tr>\n",
       "\t<tr><th scope=col>&lt;chr&gt;</th><th scope=col>&lt;chr&gt;</th><th scope=col>&lt;int&gt;</th><th scope=col>&lt;chr&gt;</th></tr>\n",
       "</thead>\n",
       "<tbody>\n",
       "\t<tr><td>ancylostoma_duodenale</td><td>/ebio/abt3_projects/ temp_data/wormbase_parasite/Archive/ancylostoma_duodenale.PRJNA72581.WBPS12.genomic.fa.gz</td><td>51022</td><td></td></tr>\n",
       "\t<tr><td>ascaris_lumbricoides </td><td>/ebio/abt3_projects/ temp_data/wormbase_parasite/Archive/ascaris_lumbricoides.PRJEB4950.WBPS12.genomic.fa.gz  </td><td> 6252</td><td></td></tr>\n",
       "\t<tr><td>⋮</td><td>⋮</td><td>⋮</td><td>⋮</td></tr>\n",
       "\t<tr><td>Cyclospora_cayetanensis      </td><td>/ebio/abt3_projects/ temp_data/NCBI_rep_protozoa/20200327/Archive/GCF_002999335.1_CcayRef3_genomic.fna.gz</td><td> 88456</td><td>GCF_002999335.1</td></tr>\n",
       "\t<tr><td>Cryptosporidium_hominis_TU502</td><td>/ebio/abt3_projects/ temp_data/NCBI_rep_protozoa/20200327/Archive/GCF_000006425.1_ASM642v1_genomic.fna.gz</td><td>237895</td><td>GCF_000006425.1</td></tr>\n",
       "</tbody>\n",
       "</table>\n"
      ],
      "text/latex": [
       "A data.table: 24 × 4\n",
       "\\begin{tabular}{llll}\n",
       " taxon & fasta & taxid & accession\\\\\n",
       " <chr> & <chr> & <int> & <chr>\\\\\n",
       "\\hline\n",
       "\t ancylostoma\\_duodenale & /ebio/abt3\\_projects/ temp\\_data/wormbase\\_parasite/Archive/ancylostoma\\_duodenale.PRJNA72581.WBPS12.genomic.fa.gz & 51022 & \\\\\n",
       "\t ascaris\\_lumbricoides  & /ebio/abt3\\_projects/ temp\\_data/wormbase\\_parasite/Archive/ascaris\\_lumbricoides.PRJEB4950.WBPS12.genomic.fa.gz   &  6252 & \\\\\n",
       "\t ⋮ & ⋮ & ⋮ & ⋮\\\\\n",
       "\t Cyclospora\\_cayetanensis       & /ebio/abt3\\_projects/ temp\\_data/NCBI\\_rep\\_protozoa/20200327/Archive/GCF\\_002999335.1\\_CcayRef3\\_genomic.fna.gz &  88456 & GCF\\_002999335.1\\\\\n",
       "\t Cryptosporidium\\_hominis\\_TU502 & /ebio/abt3\\_projects/ temp\\_data/NCBI\\_rep\\_protozoa/20200327/Archive/GCF\\_000006425.1\\_ASM642v1\\_genomic.fna.gz & 237895 & GCF\\_000006425.1\\\\\n",
       "\\end{tabular}\n"
      ],
      "text/markdown": [
       "\n",
       "A data.table: 24 × 4\n",
       "\n",
       "| taxon &lt;chr&gt; | fasta &lt;chr&gt; | taxid &lt;int&gt; | accession &lt;chr&gt; |\n",
       "|---|---|---|---|\n",
       "| ancylostoma_duodenale | /ebio/abt3_projects/ temp_data/wormbase_parasite/Archive/ancylostoma_duodenale.PRJNA72581.WBPS12.genomic.fa.gz | 51022 | <!----> |\n",
       "| ascaris_lumbricoides  | /ebio/abt3_projects/ temp_data/wormbase_parasite/Archive/ascaris_lumbricoides.PRJEB4950.WBPS12.genomic.fa.gz   |  6252 | <!----> |\n",
       "| ⋮ | ⋮ | ⋮ | ⋮ |\n",
       "| Cyclospora_cayetanensis       | /ebio/abt3_projects/ temp_data/NCBI_rep_protozoa/20200327/Archive/GCF_002999335.1_CcayRef3_genomic.fna.gz |  88456 | GCF_002999335.1 |\n",
       "| Cryptosporidium_hominis_TU502 | /ebio/abt3_projects/ temp_data/NCBI_rep_protozoa/20200327/Archive/GCF_000006425.1_ASM642v1_genomic.fna.gz | 237895 | GCF_000006425.1 |\n",
       "\n"
      ],
      "text/plain": [
       "   taxon                        \n",
       "1  ancylostoma_duodenale        \n",
       "2  ascaris_lumbricoides         \n",
       "⋮  ⋮                            \n",
       "23 Cyclospora_cayetanensis      \n",
       "24 Cryptosporidium_hominis_TU502\n",
       "   fasta                                                                                                         \n",
       "1  /ebio/abt3_projects/ temp_data/wormbase_parasite/Archive/ancylostoma_duodenale.PRJNA72581.WBPS12.genomic.fa.gz\n",
       "2  /ebio/abt3_projects/ temp_data/wormbase_parasite/Archive/ascaris_lumbricoides.PRJEB4950.WBPS12.genomic.fa.gz  \n",
       "⋮  ⋮                                                                                                             \n",
       "23 /ebio/abt3_projects/ temp_data/NCBI_rep_protozoa/20200327/Archive/GCF_002999335.1_CcayRef3_genomic.fna.gz     \n",
       "24 /ebio/abt3_projects/ temp_data/NCBI_rep_protozoa/20200327/Archive/GCF_000006425.1_ASM642v1_genomic.fna.gz     \n",
       "   taxid  accession      \n",
       "1  51022                 \n",
       "2   6252                 \n",
       "⋮  ⋮      ⋮              \n",
       "23  88456 GCF_002999335.1\n",
       "24 237895 GCF_000006425.1"
      ]
     },
     "metadata": {},
     "output_type": "display_data"
    }
   ],
   "source": [
    "tsv = Fread(tsv)\n",
    "tsv"
   ]
  },
  {
   "cell_type": "code",
   "execution_count": 12,
   "metadata": {
    "ExecuteTime": {
     "end_time": "2021-04-25T08:38:49.405499Z",
     "start_time": "2021-04-25T08:38:48.868Z"
    }
   },
   "outputs": [
    {
     "data": {
      "text/html": [
       "<table class=\"dataframe\">\n",
       "<caption>A data.table: 2296862 × 2</caption>\n",
       "<thead>\n",
       "\t<tr><th scope=col>taxid_original</th><th scope=col>taxid_new</th></tr>\n",
       "\t<tr><th scope=col>&lt;int&gt;</th><th scope=col>&lt;int&gt;</th></tr>\n",
       "</thead>\n",
       "<tbody>\n",
       "\t<tr><td>1</td><td>240105</td></tr>\n",
       "\t<tr><td>2</td><td>240106</td></tr>\n",
       "\t<tr><td>⋮</td><td>⋮</td></tr>\n",
       "\t<tr><td>2798811</td><td>3038915</td></tr>\n",
       "\t<tr><td>2799057</td><td>3039161</td></tr>\n",
       "</tbody>\n",
       "</table>\n"
      ],
      "text/latex": [
       "A data.table: 2296862 × 2\n",
       "\\begin{tabular}{ll}\n",
       " taxid\\_original & taxid\\_new\\\\\n",
       " <int> & <int>\\\\\n",
       "\\hline\n",
       "\t 1 & 240105\\\\\n",
       "\t 2 & 240106\\\\\n",
       "\t ⋮ & ⋮\\\\\n",
       "\t 2798811 & 3038915\\\\\n",
       "\t 2799057 & 3039161\\\\\n",
       "\\end{tabular}\n"
      ],
      "text/markdown": [
       "\n",
       "A data.table: 2296862 × 2\n",
       "\n",
       "| taxid_original &lt;int&gt; | taxid_new &lt;int&gt; |\n",
       "|---|---|\n",
       "| 1 | 240105 |\n",
       "| 2 | 240106 |\n",
       "| ⋮ | ⋮ |\n",
       "| 2798811 | 3038915 |\n",
       "| 2799057 | 3039161 |\n",
       "\n"
      ],
      "text/plain": [
       "        taxid_original taxid_new\n",
       "1       1              240105   \n",
       "2       2              240106   \n",
       "⋮       ⋮              ⋮        \n",
       "2296861 2798811        3038915  \n",
       "2296862 2799057        3039161  "
      ]
     },
     "metadata": {},
     "output_type": "display_data"
    }
   ],
   "source": [
    "idx = Fread(idx)\n",
    "idx"
   ]
  },
  {
   "cell_type": "code",
   "execution_count": 13,
   "metadata": {
    "ExecuteTime": {
     "end_time": "2021-04-25T08:39:04.944499Z",
     "start_time": "2021-04-25T08:39:04.428Z"
    }
   },
   "outputs": [
    {
     "name": "stdout",
     "output_type": "stream",
     "text": [
      "intersect(x,y): 24 \n",
      "setdiff(x,y): 0 \n",
      "setdiff(y,x): 2296838 \n",
      "union(x,y): 2296862 \n"
     ]
    }
   ],
   "source": [
    "overlap(tsv$taxid, idx$taxid_original)"
   ]
  },
  {
   "cell_type": "code",
   "execution_count": 16,
   "metadata": {
    "ExecuteTime": {
     "end_time": "2021-04-25T08:40:05.078654Z",
     "start_time": "2021-04-25T08:40:04.964Z"
    }
   },
   "outputs": [
    {
     "data": {
      "text/html": [
       "<table class=\"dataframe\">\n",
       "<caption>A tidytable: 24 × 5</caption>\n",
       "<thead>\n",
       "\t<tr><th scope=col>taxon</th><th scope=col>fasta</th><th scope=col>taxid_original</th><th scope=col>accession</th><th scope=col>taxid</th></tr>\n",
       "\t<tr><th scope=col>&lt;chr&gt;</th><th scope=col>&lt;chr&gt;</th><th scope=col>&lt;int&gt;</th><th scope=col>&lt;chr&gt;</th><th scope=col>&lt;int&gt;</th></tr>\n",
       "</thead>\n",
       "<tbody>\n",
       "\t<tr><td>Giardia_lamblia_ATCC_50803     </td><td>/ebio/abt3_projects/ temp_data/NCBI_rep_protozoa/20200327/Archive/GCF_000002435.1_GL2_genomic.fna.gz          </td><td>5741</td><td>GCF_000002435.1</td><td>245845</td></tr>\n",
       "\t<tr><td>Entamoeba_histolytica_HM-1:IMSS</td><td>/ebio/abt3_projects/ temp_data/NCBI_rep_protozoa/20200327/Archive/GCF_000208925.1_JCVI_ESG2_1.0_genomic.fna.gz</td><td>5759</td><td>GCF_000208925.1</td><td>245863</td></tr>\n",
       "\t<tr><td>⋮</td><td>⋮</td><td>⋮</td><td>⋮</td><td>⋮</td></tr>\n",
       "\t<tr><td>hymenolepis_nana             </td><td>/ebio/abt3_projects/ temp_data/wormbase_parasite/Archive/hymenolepis_nana.PRJEB508.WBPS12.genomic.fa.gz  </td><td>102285</td><td>               </td><td>342389</td></tr>\n",
       "\t<tr><td>Cryptosporidium_hominis_TU502</td><td>/ebio/abt3_projects/ temp_data/NCBI_rep_protozoa/20200327/Archive/GCF_000006425.1_ASM642v1_genomic.fna.gz</td><td>237895</td><td>GCF_000006425.1</td><td>477999</td></tr>\n",
       "</tbody>\n",
       "</table>\n"
      ],
      "text/latex": [
       "A tidytable: 24 × 5\n",
       "\\begin{tabular}{lllll}\n",
       " taxon & fasta & taxid\\_original & accession & taxid\\\\\n",
       " <chr> & <chr> & <int> & <chr> & <int>\\\\\n",
       "\\hline\n",
       "\t Giardia\\_lamblia\\_ATCC\\_50803      & /ebio/abt3\\_projects/ temp\\_data/NCBI\\_rep\\_protozoa/20200327/Archive/GCF\\_000002435.1\\_GL2\\_genomic.fna.gz           & 5741 & GCF\\_000002435.1 & 245845\\\\\n",
       "\t Entamoeba\\_histolytica\\_HM-1:IMSS & /ebio/abt3\\_projects/ temp\\_data/NCBI\\_rep\\_protozoa/20200327/Archive/GCF\\_000208925.1\\_JCVI\\_ESG2\\_1.0\\_genomic.fna.gz & 5759 & GCF\\_000208925.1 & 245863\\\\\n",
       "\t ⋮ & ⋮ & ⋮ & ⋮ & ⋮\\\\\n",
       "\t hymenolepis\\_nana              & /ebio/abt3\\_projects/ temp\\_data/wormbase\\_parasite/Archive/hymenolepis\\_nana.PRJEB508.WBPS12.genomic.fa.gz   & 102285 &                 & 342389\\\\\n",
       "\t Cryptosporidium\\_hominis\\_TU502 & /ebio/abt3\\_projects/ temp\\_data/NCBI\\_rep\\_protozoa/20200327/Archive/GCF\\_000006425.1\\_ASM642v1\\_genomic.fna.gz & 237895 & GCF\\_000006425.1 & 477999\\\\\n",
       "\\end{tabular}\n"
      ],
      "text/markdown": [
       "\n",
       "A tidytable: 24 × 5\n",
       "\n",
       "| taxon &lt;chr&gt; | fasta &lt;chr&gt; | taxid_original &lt;int&gt; | accession &lt;chr&gt; | taxid &lt;int&gt; |\n",
       "|---|---|---|---|---|\n",
       "| Giardia_lamblia_ATCC_50803      | /ebio/abt3_projects/ temp_data/NCBI_rep_protozoa/20200327/Archive/GCF_000002435.1_GL2_genomic.fna.gz           | 5741 | GCF_000002435.1 | 245845 |\n",
       "| Entamoeba_histolytica_HM-1:IMSS | /ebio/abt3_projects/ temp_data/NCBI_rep_protozoa/20200327/Archive/GCF_000208925.1_JCVI_ESG2_1.0_genomic.fna.gz | 5759 | GCF_000208925.1 | 245863 |\n",
       "| ⋮ | ⋮ | ⋮ | ⋮ | ⋮ |\n",
       "| hymenolepis_nana              | /ebio/abt3_projects/ temp_data/wormbase_parasite/Archive/hymenolepis_nana.PRJEB508.WBPS12.genomic.fa.gz   | 102285 | <!----> | 342389 |\n",
       "| Cryptosporidium_hominis_TU502 | /ebio/abt3_projects/ temp_data/NCBI_rep_protozoa/20200327/Archive/GCF_000006425.1_ASM642v1_genomic.fna.gz | 237895 | GCF_000006425.1 | 477999 |\n",
       "\n"
      ],
      "text/plain": [
       "   taxon                          \n",
       "1  Giardia_lamblia_ATCC_50803     \n",
       "2  Entamoeba_histolytica_HM-1:IMSS\n",
       "⋮  ⋮                              \n",
       "23 hymenolepis_nana               \n",
       "24 Cryptosporidium_hominis_TU502  \n",
       "   fasta                                                                                                         \n",
       "1  /ebio/abt3_projects/ temp_data/NCBI_rep_protozoa/20200327/Archive/GCF_000002435.1_GL2_genomic.fna.gz          \n",
       "2  /ebio/abt3_projects/ temp_data/NCBI_rep_protozoa/20200327/Archive/GCF_000208925.1_JCVI_ESG2_1.0_genomic.fna.gz\n",
       "⋮  ⋮                                                                                                             \n",
       "23 /ebio/abt3_projects/ temp_data/wormbase_parasite/Archive/hymenolepis_nana.PRJEB508.WBPS12.genomic.fa.gz       \n",
       "24 /ebio/abt3_projects/ temp_data/NCBI_rep_protozoa/20200327/Archive/GCF_000006425.1_ASM642v1_genomic.fna.gz     \n",
       "   taxid_original accession       taxid \n",
       "1  5741           GCF_000002435.1 245845\n",
       "2  5759           GCF_000208925.1 245863\n",
       "⋮  ⋮              ⋮               ⋮     \n",
       "23 102285                         342389\n",
       "24 237895         GCF_000006425.1 477999"
      ]
     },
     "metadata": {},
     "output_type": "display_data"
    }
   ],
   "source": [
    "tsv = tsv %>%\n",
    "    inner_join.(idx, c('taxid' = 'taxid_original')) %>%\n",
    "    rename.('taxid_original' = taxid,\n",
    "            'taxid' = taxid_new)\n",
    "tsv"
   ]
  },
  {
   "cell_type": "code",
   "execution_count": 18,
   "metadata": {
    "ExecuteTime": {
     "end_time": "2021-04-25T08:40:41.720095Z",
     "start_time": "2021-04-25T08:40:41.594Z"
    }
   },
   "outputs": [
    {
     "name": "stdout",
     "output_type": "stream",
     "text": [
      "File written: /ebio/abt3_scratch/nyoungblut/parasite_ku_db/taxdump//parasite_genomes_new-taxids.tsv \n"
     ]
    }
   ],
   "source": [
    "F = file.path(work_dir, 'parasite_genomes_new-taxids.tsv')\n",
    "write_table(tsv, F)"
   ]
  },
  {
   "cell_type": "code",
   "execution_count": null,
   "metadata": {},
   "outputs": [],
   "source": []
  },
  {
   "cell_type": "markdown",
   "metadata": {},
   "source": [
    "# Database format"
   ]
  },
  {
   "cell_type": "markdown",
   "metadata": {},
   "source": [
    "## Disbiome"
   ]
  },
  {
   "cell_type": "code",
   "execution_count": 10,
   "metadata": {
    "ExecuteTime": {
     "end_time": "2021-04-25T12:01:05.177781Z",
     "start_time": "2021-04-25T12:01:05.074Z"
    }
   },
   "outputs": [
    {
     "data": {
      "text/html": [
       "'/ebio/abt3_projects/databases_no-backup/MicroPheno/Disbiome/disease.json'"
      ],
      "text/latex": [
       "'/ebio/abt3\\_projects/databases\\_no-backup/MicroPheno/Disbiome/disease.json'"
      ],
      "text/markdown": [
       "'/ebio/abt3_projects/databases_no-backup/MicroPheno/Disbiome/disease.json'"
      ],
      "text/plain": [
       "[1] \"/ebio/abt3_projects/databases_no-backup/MicroPheno/Disbiome/disease.json\""
      ]
     },
     "metadata": {},
     "output_type": "display_data"
    }
   ],
   "source": [
    "F = '/ebio/abt3_projects/databases_no-backup/MicroPheno/Disbiome/disease.json'\n",
    "F"
   ]
  },
  {
   "cell_type": "markdown",
   "metadata": {},
   "source": [
    "## MicroPheno"
   ]
  },
  {
   "cell_type": "code",
   "execution_count": 7,
   "metadata": {
    "ExecuteTime": {
     "end_time": "2021-04-25T11:57:25.445537Z",
     "start_time": "2021-04-25T11:57:25.334Z"
    }
   },
   "outputs": [
    {
     "data": {
      "text/html": [
       "<table class=\"dataframe\">\n",
       "<caption>A tibble: 325 × 14</caption>\n",
       "<thead>\n",
       "\t<tr><th scope=col>Index</th><th scope=col>PMID</th><th scope=col>Journal</th><th scope=col>Title</th><th scope=col>Authors</th><th scope=col>Research Type</th><th scope=col>Intervention</th><th scope=col>Intervention Type</th><th scope=col>Intervention ID</th><th scope=col>Disorder Name</th><th scope=col>DOID</th><th scope=col>Conclusion</th><th scope=col>Experiment ID</th><th scope=col>Experiment web site</th></tr>\n",
       "\t<tr><th scope=col>&lt;dbl&gt;</th><th scope=col>&lt;dbl&gt;</th><th scope=col>&lt;chr&gt;</th><th scope=col>&lt;chr&gt;</th><th scope=col>&lt;chr&gt;</th><th scope=col>&lt;chr&gt;</th><th scope=col>&lt;chr&gt;</th><th scope=col>&lt;chr&gt;</th><th scope=col>&lt;chr&gt;</th><th scope=col>&lt;chr&gt;</th><th scope=col>&lt;chr&gt;</th><th scope=col>&lt;chr&gt;</th><th scope=col>&lt;chr&gt;</th><th scope=col>&lt;chr&gt;</th></tr>\n",
       "</thead>\n",
       "<tbody>\n",
       "\t<tr><td>1</td><td>29353409</td><td><span style=white-space:pre-wrap>Urolithiasis                   </span></td><td><span style=white-space:pre-wrap>16S rRNA gene sequencing reveals altered composition of gut microbiota in individuals with kidney stones  </span></td><td><span style=white-space:pre-wrap>Tang R, Jiang Y, Tan A, Ye J, Xian X, Xie Y, Wang Q, Yao Z, Mo Z             </span></td><td>Gut microbiota associated with disorder</td><td>NA</td><td>NA</td><td>NA</td><td>nephrolithiasis</td><td>DOID:585 </td><td>Twenty genera differentiated significantly in relative abundance between nephrolithiasis patients and healthy controls (all p &lt; 0.05).</td><td>SRP103884</td><td>https://trace.ncbi.nlm.nih.gov/Traces/sra/?study=SRP103884</td></tr>\n",
       "\t<tr><td>2</td><td>29340896</td><td>Eur J Clin Microbiol Infect Dis</td><td>Analysis of fecal microbiota in patients with functional constipation undergoing treatment with synbiotics</td><td>Huang LS, Kong C, Gao RY, Yan X, Yu HJ, Wen B, Zhu Q, Shen TY, Sun ZL, Qin HL</td><td>Gut microbiota associated with disorder</td><td>NA</td><td>NA</td><td>NA</td><td>constipation   </td><td>DOID:2089</td><td>Synbiotic treatment can improve the microbiota in patients with constipation.                                                         </td><td>SRP115062</td><td>https://trace.ncbi.nlm.nih.gov/Traces/sra/?study=SRP115062</td></tr>\n",
       "\t<tr><td>⋮</td><td>⋮</td><td>⋮</td><td>⋮</td><td>⋮</td><td>⋮</td><td>⋮</td><td>⋮</td><td>⋮</td><td>⋮</td><td>⋮</td><td>⋮</td><td>⋮</td><td>⋮</td></tr>\n",
       "\t<tr><td>324</td><td>28274256</td><td>Microbiome</td><td>Intestinal dysbiosis in preterm infants preceding necrotizing enterocolitis: a systematic review and meta-analysis</td><td>Pammi M, Cope J, Tarr PI, Warner BB, Morrow AL, Mai V, Gregory KE, Kroll JS, McMurtry V, Ferris MJ, Engstrand L, Lilja HE, Hollister EB, Versalovic J, Neu J. </td><td>Gut microbiota associated with disorder</td><td>NA</td><td>NA</td><td>NA</td><td>necrotizing enterocolitis</td><td>DOID:8677</td><td>Microbial dysbiosis preceding NEC in preterm infants is characterized by increased relative abundances of Proteobacteria and decreased relative abundances of Firmicutes and Bacteroidetes. Microbiome optimization may provide a novel strategy for preventing NEC            </td><td>NA         </td><td>NA                                                 </td></tr>\n",
       "\t<tr><td>325</td><td>28245856</td><td>Genome Med</td><td>Characterization of oral and gut microbiome temporal variability in hospitalized cancer patients                  </td><td>Galloway-Peña JR, Smith DP, Sahasrabhojane P, Wadsworth WD, Fellman BM, Ajami NJ, Shpall EJ, Daver N, Guindani M, Petrosino JF, Kontoyiannis DP, Shelburne SA.</td><td>Gut microbiota associated with disorder</td><td>NA</td><td>NA</td><td>NA</td><td>acute myeloid leukemia   </td><td>DOID:9119</td><td>These data quantify the longitudinal variability of the oral and gut microbiota in AML patients, show that increased variability was correlated with adverse clinical outcomes, and offer the possibility of using stabilizing taxa as a method of focused microbiome repletion</td><td>PRJNA352060</td><td>https://www.ncbi.nlm.nih.gov/bioproject/PRJNA352060</td></tr>\n",
       "</tbody>\n",
       "</table>\n"
      ],
      "text/latex": [
       "A tibble: 325 × 14\n",
       "\\begin{tabular}{llllllllllllll}\n",
       " Index & PMID & Journal & Title & Authors & Research Type & Intervention & Intervention Type & Intervention ID & Disorder Name & DOID & Conclusion & Experiment ID & Experiment web site\\\\\n",
       " <dbl> & <dbl> & <chr> & <chr> & <chr> & <chr> & <chr> & <chr> & <chr> & <chr> & <chr> & <chr> & <chr> & <chr>\\\\\n",
       "\\hline\n",
       "\t 1 & 29353409 & Urolithiasis                    & 16S rRNA gene sequencing reveals altered composition of gut microbiota in individuals with kidney stones   & Tang R, Jiang Y, Tan A, Ye J, Xian X, Xie Y, Wang Q, Yao Z, Mo Z              & Gut microbiota associated with disorder & NA & NA & NA & nephrolithiasis & DOID:585  & Twenty genera differentiated significantly in relative abundance between nephrolithiasis patients and healthy controls (all p < 0.05). & SRP103884 & https://trace.ncbi.nlm.nih.gov/Traces/sra/?study=SRP103884\\\\\n",
       "\t 2 & 29340896 & Eur J Clin Microbiol Infect Dis & Analysis of fecal microbiota in patients with functional constipation undergoing treatment with synbiotics & Huang LS, Kong C, Gao RY, Yan X, Yu HJ, Wen B, Zhu Q, Shen TY, Sun ZL, Qin HL & Gut microbiota associated with disorder & NA & NA & NA & constipation    & DOID:2089 & Synbiotic treatment can improve the microbiota in patients with constipation.                                                          & SRP115062 & https://trace.ncbi.nlm.nih.gov/Traces/sra/?study=SRP115062\\\\\n",
       "\t ⋮ & ⋮ & ⋮ & ⋮ & ⋮ & ⋮ & ⋮ & ⋮ & ⋮ & ⋮ & ⋮ & ⋮ & ⋮ & ⋮\\\\\n",
       "\t 324 & 28274256 & Microbiome & Intestinal dysbiosis in preterm infants preceding necrotizing enterocolitis: a systematic review and meta-analysis & Pammi M, Cope J, Tarr PI, Warner BB, Morrow AL, Mai V, Gregory KE, Kroll JS, McMurtry V, Ferris MJ, Engstrand L, Lilja HE, Hollister EB, Versalovic J, Neu J.  & Gut microbiota associated with disorder & NA & NA & NA & necrotizing enterocolitis & DOID:8677 & Microbial dysbiosis preceding NEC in preterm infants is characterized by increased relative abundances of Proteobacteria and decreased relative abundances of Firmicutes and Bacteroidetes. Microbiome optimization may provide a novel strategy for preventing NEC             & NA          & NA                                                 \\\\\n",
       "\t 325 & 28245856 & Genome Med & Characterization of oral and gut microbiome temporal variability in hospitalized cancer patients                   & Galloway-Peña JR, Smith DP, Sahasrabhojane P, Wadsworth WD, Fellman BM, Ajami NJ, Shpall EJ, Daver N, Guindani M, Petrosino JF, Kontoyiannis DP, Shelburne SA. & Gut microbiota associated with disorder & NA & NA & NA & acute myeloid leukemia    & DOID:9119 & These data quantify the longitudinal variability of the oral and gut microbiota in AML patients, show that increased variability was correlated with adverse clinical outcomes, and offer the possibility of using stabilizing taxa as a method of focused microbiome repletion & PRJNA352060 & https://www.ncbi.nlm.nih.gov/bioproject/PRJNA352060\\\\\n",
       "\\end{tabular}\n"
      ],
      "text/markdown": [
       "\n",
       "A tibble: 325 × 14\n",
       "\n",
       "| Index &lt;dbl&gt; | PMID &lt;dbl&gt; | Journal &lt;chr&gt; | Title &lt;chr&gt; | Authors &lt;chr&gt; | Research Type &lt;chr&gt; | Intervention &lt;chr&gt; | Intervention Type &lt;chr&gt; | Intervention ID &lt;chr&gt; | Disorder Name &lt;chr&gt; | DOID &lt;chr&gt; | Conclusion &lt;chr&gt; | Experiment ID &lt;chr&gt; | Experiment web site &lt;chr&gt; |\n",
       "|---|---|---|---|---|---|---|---|---|---|---|---|---|---|\n",
       "| 1 | 29353409 | Urolithiasis                    | 16S rRNA gene sequencing reveals altered composition of gut microbiota in individuals with kidney stones   | Tang R, Jiang Y, Tan A, Ye J, Xian X, Xie Y, Wang Q, Yao Z, Mo Z              | Gut microbiota associated with disorder | NA | NA | NA | nephrolithiasis | DOID:585  | Twenty genera differentiated significantly in relative abundance between nephrolithiasis patients and healthy controls (all p &lt; 0.05). | SRP103884 | https://trace.ncbi.nlm.nih.gov/Traces/sra/?study=SRP103884 |\n",
       "| 2 | 29340896 | Eur J Clin Microbiol Infect Dis | Analysis of fecal microbiota in patients with functional constipation undergoing treatment with synbiotics | Huang LS, Kong C, Gao RY, Yan X, Yu HJ, Wen B, Zhu Q, Shen TY, Sun ZL, Qin HL | Gut microbiota associated with disorder | NA | NA | NA | constipation    | DOID:2089 | Synbiotic treatment can improve the microbiota in patients with constipation.                                                          | SRP115062 | https://trace.ncbi.nlm.nih.gov/Traces/sra/?study=SRP115062 |\n",
       "| ⋮ | ⋮ | ⋮ | ⋮ | ⋮ | ⋮ | ⋮ | ⋮ | ⋮ | ⋮ | ⋮ | ⋮ | ⋮ | ⋮ |\n",
       "| 324 | 28274256 | Microbiome | Intestinal dysbiosis in preterm infants preceding necrotizing enterocolitis: a systematic review and meta-analysis | Pammi M, Cope J, Tarr PI, Warner BB, Morrow AL, Mai V, Gregory KE, Kroll JS, McMurtry V, Ferris MJ, Engstrand L, Lilja HE, Hollister EB, Versalovic J, Neu J.  | Gut microbiota associated with disorder | NA | NA | NA | necrotizing enterocolitis | DOID:8677 | Microbial dysbiosis preceding NEC in preterm infants is characterized by increased relative abundances of Proteobacteria and decreased relative abundances of Firmicutes and Bacteroidetes. Microbiome optimization may provide a novel strategy for preventing NEC             | NA          | NA                                                  |\n",
       "| 325 | 28245856 | Genome Med | Characterization of oral and gut microbiome temporal variability in hospitalized cancer patients                   | Galloway-Peña JR, Smith DP, Sahasrabhojane P, Wadsworth WD, Fellman BM, Ajami NJ, Shpall EJ, Daver N, Guindani M, Petrosino JF, Kontoyiannis DP, Shelburne SA. | Gut microbiota associated with disorder | NA | NA | NA | acute myeloid leukemia    | DOID:9119 | These data quantify the longitudinal variability of the oral and gut microbiota in AML patients, show that increased variability was correlated with adverse clinical outcomes, and offer the possibility of using stabilizing taxa as a method of focused microbiome repletion | PRJNA352060 | https://www.ncbi.nlm.nih.gov/bioproject/PRJNA352060 |\n",
       "\n"
      ],
      "text/plain": [
       "    Index PMID     Journal                        \n",
       "1   1     29353409 Urolithiasis                   \n",
       "2   2     29340896 Eur J Clin Microbiol Infect Dis\n",
       "⋮   ⋮     ⋮        ⋮                              \n",
       "324 324   28274256 Microbiome                     \n",
       "325 325   28245856 Genome Med                     \n",
       "    Title                                                                                                             \n",
       "1   16S rRNA gene sequencing reveals altered composition of gut microbiota in individuals with kidney stones          \n",
       "2   Analysis of fecal microbiota in patients with functional constipation undergoing treatment with synbiotics        \n",
       "⋮   ⋮                                                                                                                 \n",
       "324 Intestinal dysbiosis in preterm infants preceding necrotizing enterocolitis: a systematic review and meta-analysis\n",
       "325 Characterization of oral and gut microbiome temporal variability in hospitalized cancer patients                  \n",
       "    Authors                                                                                                                                                       \n",
       "1   Tang R, Jiang Y, Tan A, Ye J, Xian X, Xie Y, Wang Q, Yao Z, Mo Z                                                                                              \n",
       "2   Huang LS, Kong C, Gao RY, Yan X, Yu HJ, Wen B, Zhu Q, Shen TY, Sun ZL, Qin HL                                                                                 \n",
       "⋮   ⋮                                                                                                                                                             \n",
       "324 Pammi M, Cope J, Tarr PI, Warner BB, Morrow AL, Mai V, Gregory KE, Kroll JS, McMurtry V, Ferris MJ, Engstrand L, Lilja HE, Hollister EB, Versalovic J, Neu J. \n",
       "325 Galloway-Peña JR, Smith DP, Sahasrabhojane P, Wadsworth WD, Fellman BM, Ajami NJ, Shpall EJ, Daver N, Guindani M, Petrosino JF, Kontoyiannis DP, Shelburne SA.\n",
       "    Research Type                           Intervention Intervention Type\n",
       "1   Gut microbiota associated with disorder NA           NA               \n",
       "2   Gut microbiota associated with disorder NA           NA               \n",
       "⋮   ⋮                                       ⋮            ⋮                \n",
       "324 Gut microbiota associated with disorder NA           NA               \n",
       "325 Gut microbiota associated with disorder NA           NA               \n",
       "    Intervention ID Disorder Name             DOID     \n",
       "1   NA              nephrolithiasis           DOID:585 \n",
       "2   NA              constipation              DOID:2089\n",
       "⋮   ⋮               ⋮                         ⋮        \n",
       "324 NA              necrotizing enterocolitis DOID:8677\n",
       "325 NA              acute myeloid leukemia    DOID:9119\n",
       "    Conclusion                                                                                                                                                                                                                                                                     \n",
       "1   Twenty genera differentiated significantly in relative abundance between nephrolithiasis patients and healthy controls (all p < 0.05).                                                                                                                                         \n",
       "2   Synbiotic treatment can improve the microbiota in patients with constipation.                                                                                                                                                                                                  \n",
       "⋮   ⋮                                                                                                                                                                                                                                                                              \n",
       "324 Microbial dysbiosis preceding NEC in preterm infants is characterized by increased relative abundances of Proteobacteria and decreased relative abundances of Firmicutes and Bacteroidetes. Microbiome optimization may provide a novel strategy for preventing NEC            \n",
       "325 These data quantify the longitudinal variability of the oral and gut microbiota in AML patients, show that increased variability was correlated with adverse clinical outcomes, and offer the possibility of using stabilizing taxa as a method of focused microbiome repletion\n",
       "    Experiment ID Experiment web site                                       \n",
       "1   SRP103884     https://trace.ncbi.nlm.nih.gov/Traces/sra/?study=SRP103884\n",
       "2   SRP115062     https://trace.ncbi.nlm.nih.gov/Traces/sra/?study=SRP115062\n",
       "⋮   ⋮             ⋮                                                         \n",
       "324 NA            NA                                                        \n",
       "325 PRJNA352060   https://www.ncbi.nlm.nih.gov/bioproject/PRJNA352060       "
      ]
     },
     "metadata": {},
     "output_type": "display_data"
    }
   ],
   "source": [
    "F = '/ebio/abt3_projects/databases_no-backup/MicroPheno/gutMDisorder/human.xlsx'\n",
    "db_h = readxl::read_excel(F)\n",
    "db_h"
   ]
  },
  {
   "cell_type": "code",
   "execution_count": 8,
   "metadata": {
    "ExecuteTime": {
     "end_time": "2021-04-25T11:57:25.979865Z",
     "start_time": "2021-04-25T11:57:25.879Z"
    }
   },
   "outputs": [
    {
     "data": {
      "text/html": [
       "<table class=\"dataframe\">\n",
       "<caption>A tibble: 190 × 14</caption>\n",
       "<thead>\n",
       "\t<tr><th scope=col>Index</th><th scope=col>PMID</th><th scope=col>Journal</th><th scope=col>Title</th><th scope=col>Authors</th><th scope=col>Research Type</th><th scope=col>Intervention</th><th scope=col>Intervention Type</th><th scope=col>Intervention ID</th><th scope=col>Disorder Name</th><th scope=col>DOID</th><th scope=col>Conclusion</th><th scope=col>Experiment ID</th><th scope=col>Experiment web site</th></tr>\n",
       "\t<tr><th scope=col>&lt;dbl&gt;</th><th scope=col>&lt;dbl&gt;</th><th scope=col>&lt;chr&gt;</th><th scope=col>&lt;chr&gt;</th><th scope=col>&lt;chr&gt;</th><th scope=col>&lt;chr&gt;</th><th scope=col>&lt;chr&gt;</th><th scope=col>&lt;chr&gt;</th><th scope=col>&lt;chr&gt;</th><th scope=col>&lt;chr&gt;</th><th scope=col>&lt;chr&gt;</th><th scope=col>&lt;chr&gt;</th><th scope=col>&lt;chr&gt;</th><th scope=col>&lt;chr&gt;</th></tr>\n",
       "</thead>\n",
       "<tbody>\n",
       "\t<tr><td>1</td><td>29366768</td><td>Journal of Ethnopharmacology</td><td>Ginseng polysaccharides enhanced ginsenoside Rb1 and microbial metabolites exposure through enhancing intestinal absorption and affecting gut microbial metabolism</td><td>Shen H, Gao XJ, Li T, Jing WH, Han BL, Jia YM, Hu N, Yan ZX, Li SL, Yan R</td><td>Interventions change the composition of gut microbiota</td><td>Ginseng polysaccharide</td><td>Drug</td><td>NA</td><td>colitis             </td><td>DOID:0060180</td><td>GP influenced the microbial composition and showed a prebiotic-like effect.                                                                                                                                                                          </td><td>NA</td><td>NA</td></tr>\n",
       "\t<tr><td>2</td><td>29290650</td><td>World J Gastroenterol       </td><td>Structural shift of gut microbiota during chemo-preventive effects of epigallocatechin gallate on colorectal carcinogenesis in mice                               </td><td>Wang X, Ye T, Chen WJ, Lv Y, Hao Z, Chen J, Zhao JY,Wang HP, Cai YK      </td><td>Gut microbiota associated with disorder               </td><td>NA                    </td><td>NA  </td><td>NA</td><td>colorectal carcinoma</td><td>DOID:0080199</td><td>During the cancerization, the diversity of gut microbiota increased, potential carcinogenic bacteria such as Bacteroides were enriched, and the abundance of butyrate-producing bacteria (Clostridiaceae, Ruminococcus, etc.) decreased continuously.</td><td>NA</td><td>NA</td></tr>\n",
       "\t<tr><td>⋮</td><td>⋮</td><td>⋮</td><td>⋮</td><td>⋮</td><td>⋮</td><td>⋮</td><td>⋮</td><td>⋮</td><td>⋮</td><td>⋮</td><td>⋮</td><td>⋮</td><td>⋮</td></tr>\n",
       "\t<tr><td>189</td><td>26890232</td><td>Mol Nutr Food Res</td><td>Lingonberries reduce atherosclerosis in Apoe(-/-) mice in association with altered gut microbiota composition and improved lipid profile      </td><td>Matziouridou C,Marungruang N,Nguyen TD,Nyman M,Fåk F </td><td>Interventions change the composition of gut microbiota</td><td>lingonberry     </td><td>Food</td><td>NA</td><td>NA</td><td>NA</td><td>Intake of lingonberries resulted in decreased triglyceridemia and reduced atherosclerosis. The altered gut microbiota composition and SCFA profile was associated with increased hepatic bile acid gene expression in mice fed lingonberries.                                                                                                                                                                                                                                                                                                                                                                                                                                                                                                               </td><td>NA</td><td>NA</td></tr>\n",
       "\t<tr><td>190</td><td>26878783</td><td>J Nutr Biochem   </td><td>Dietary flaxseed modulates the colonic microenvironment in healthy C57Bl/6 male mice which may alter susceptibility to gut-associated diseases</td><td>Power KA,Lepp D,Zarepoor L Monk JM2,Wu W,Tsao R,Liu R</td><td>Interventions change the composition of gut microbiota</td><td>dietary flaxseed</td><td>Food</td><td>NA</td><td>NA</td><td>NA</td><td>FS diet altered the fecal microbial community structure (16S rRNA gene profiling), including a 20-fold increase in Prevotella spp. and a 30-fold reduction in Akkermansia muciniphila abundance. A 10-fold reduction in A. muciniphila abundance by FS was also demonstrated in the colon tissue-associated microbiota (quantitative PCR). Furthermore, fecal branched chain fatty acids were increased by FS, indicative of increased microbial-derived putrefactive compounds. In conclusion, consumption of a FS-supplemented diet alters the baseline colonic microenvironment of healthy mice which may modify subsequent mucosal microbial defense and injury-repair responses leading to altered susceptibility to different gut-associated diseases.</td><td>NA</td><td>NA</td></tr>\n",
       "</tbody>\n",
       "</table>\n"
      ],
      "text/latex": [
       "A tibble: 190 × 14\n",
       "\\begin{tabular}{llllllllllllll}\n",
       " Index & PMID & Journal & Title & Authors & Research Type & Intervention & Intervention Type & Intervention ID & Disorder Name & DOID & Conclusion & Experiment ID & Experiment web site\\\\\n",
       " <dbl> & <dbl> & <chr> & <chr> & <chr> & <chr> & <chr> & <chr> & <chr> & <chr> & <chr> & <chr> & <chr> & <chr>\\\\\n",
       "\\hline\n",
       "\t 1 & 29366768 & Journal of Ethnopharmacology & Ginseng polysaccharides enhanced ginsenoside Rb1 and microbial metabolites exposure through enhancing intestinal absorption and affecting gut microbial metabolism & Shen H, Gao XJ, Li T, Jing WH, Han BL, Jia YM, Hu N, Yan ZX, Li SL, Yan R & Interventions change the composition of gut microbiota & Ginseng polysaccharide & Drug & NA & colitis              & DOID:0060180 & GP influenced the microbial composition and showed a prebiotic-like effect.                                                                                                                                                                           & NA & NA\\\\\n",
       "\t 2 & 29290650 & World J Gastroenterol        & Structural shift of gut microbiota during chemo-preventive effects of epigallocatechin gallate on colorectal carcinogenesis in mice                                & Wang X, Ye T, Chen WJ, Lv Y, Hao Z, Chen J, Zhao JY,Wang HP, Cai YK       & Gut microbiota associated with disorder                & NA                     & NA   & NA & colorectal carcinoma & DOID:0080199 & During the cancerization, the diversity of gut microbiota increased, potential carcinogenic bacteria such as Bacteroides were enriched, and the abundance of butyrate-producing bacteria (Clostridiaceae, Ruminococcus, etc.) decreased continuously. & NA & NA\\\\\n",
       "\t ⋮ & ⋮ & ⋮ & ⋮ & ⋮ & ⋮ & ⋮ & ⋮ & ⋮ & ⋮ & ⋮ & ⋮ & ⋮ & ⋮\\\\\n",
       "\t 189 & 26890232 & Mol Nutr Food Res & Lingonberries reduce atherosclerosis in Apoe(-/-) mice in association with altered gut microbiota composition and improved lipid profile       & Matziouridou C,Marungruang N,Nguyen TD,Nyman M,Fåk F  & Interventions change the composition of gut microbiota & lingonberry      & Food & NA & NA & NA & Intake of lingonberries resulted in decreased triglyceridemia and reduced atherosclerosis. The altered gut microbiota composition and SCFA profile was associated with increased hepatic bile acid gene expression in mice fed lingonberries.                                                                                                                                                                                                                                                                                                                                                                                                                                                                                                                & NA & NA\\\\\n",
       "\t 190 & 26878783 & J Nutr Biochem    & Dietary flaxseed modulates the colonic microenvironment in healthy C57Bl/6 male mice which may alter susceptibility to gut-associated diseases & Power KA,Lepp D,Zarepoor L Monk JM2,Wu W,Tsao R,Liu R & Interventions change the composition of gut microbiota & dietary flaxseed & Food & NA & NA & NA & FS diet altered the fecal microbial community structure (16S rRNA gene profiling), including a 20-fold increase in Prevotella spp. and a 30-fold reduction in Akkermansia muciniphila abundance. A 10-fold reduction in A. muciniphila abundance by FS was also demonstrated in the colon tissue-associated microbiota (quantitative PCR). Furthermore, fecal branched chain fatty acids were increased by FS, indicative of increased microbial-derived putrefactive compounds. In conclusion, consumption of a FS-supplemented diet alters the baseline colonic microenvironment of healthy mice which may modify subsequent mucosal microbial defense and injury-repair responses leading to altered susceptibility to different gut-associated diseases. & NA & NA\\\\\n",
       "\\end{tabular}\n"
      ],
      "text/markdown": [
       "\n",
       "A tibble: 190 × 14\n",
       "\n",
       "| Index &lt;dbl&gt; | PMID &lt;dbl&gt; | Journal &lt;chr&gt; | Title &lt;chr&gt; | Authors &lt;chr&gt; | Research Type &lt;chr&gt; | Intervention &lt;chr&gt; | Intervention Type &lt;chr&gt; | Intervention ID &lt;chr&gt; | Disorder Name &lt;chr&gt; | DOID &lt;chr&gt; | Conclusion &lt;chr&gt; | Experiment ID &lt;chr&gt; | Experiment web site &lt;chr&gt; |\n",
       "|---|---|---|---|---|---|---|---|---|---|---|---|---|---|\n",
       "| 1 | 29366768 | Journal of Ethnopharmacology | Ginseng polysaccharides enhanced ginsenoside Rb1 and microbial metabolites exposure through enhancing intestinal absorption and affecting gut microbial metabolism | Shen H, Gao XJ, Li T, Jing WH, Han BL, Jia YM, Hu N, Yan ZX, Li SL, Yan R | Interventions change the composition of gut microbiota | Ginseng polysaccharide | Drug | NA | colitis              | DOID:0060180 | GP influenced the microbial composition and showed a prebiotic-like effect.                                                                                                                                                                           | NA | NA |\n",
       "| 2 | 29290650 | World J Gastroenterol        | Structural shift of gut microbiota during chemo-preventive effects of epigallocatechin gallate on colorectal carcinogenesis in mice                                | Wang X, Ye T, Chen WJ, Lv Y, Hao Z, Chen J, Zhao JY,Wang HP, Cai YK       | Gut microbiota associated with disorder                | NA                     | NA   | NA | colorectal carcinoma | DOID:0080199 | During the cancerization, the diversity of gut microbiota increased, potential carcinogenic bacteria such as Bacteroides were enriched, and the abundance of butyrate-producing bacteria (Clostridiaceae, Ruminococcus, etc.) decreased continuously. | NA | NA |\n",
       "| ⋮ | ⋮ | ⋮ | ⋮ | ⋮ | ⋮ | ⋮ | ⋮ | ⋮ | ⋮ | ⋮ | ⋮ | ⋮ | ⋮ |\n",
       "| 189 | 26890232 | Mol Nutr Food Res | Lingonberries reduce atherosclerosis in Apoe(-/-) mice in association with altered gut microbiota composition and improved lipid profile       | Matziouridou C,Marungruang N,Nguyen TD,Nyman M,Fåk F  | Interventions change the composition of gut microbiota | lingonberry      | Food | NA | NA | NA | Intake of lingonberries resulted in decreased triglyceridemia and reduced atherosclerosis. The altered gut microbiota composition and SCFA profile was associated with increased hepatic bile acid gene expression in mice fed lingonberries.                                                                                                                                                                                                                                                                                                                                                                                                                                                                                                                | NA | NA |\n",
       "| 190 | 26878783 | J Nutr Biochem    | Dietary flaxseed modulates the colonic microenvironment in healthy C57Bl/6 male mice which may alter susceptibility to gut-associated diseases | Power KA,Lepp D,Zarepoor L Monk JM2,Wu W,Tsao R,Liu R | Interventions change the composition of gut microbiota | dietary flaxseed | Food | NA | NA | NA | FS diet altered the fecal microbial community structure (16S rRNA gene profiling), including a 20-fold increase in Prevotella spp. and a 30-fold reduction in Akkermansia muciniphila abundance. A 10-fold reduction in A. muciniphila abundance by FS was also demonstrated in the colon tissue-associated microbiota (quantitative PCR). Furthermore, fecal branched chain fatty acids were increased by FS, indicative of increased microbial-derived putrefactive compounds. In conclusion, consumption of a FS-supplemented diet alters the baseline colonic microenvironment of healthy mice which may modify subsequent mucosal microbial defense and injury-repair responses leading to altered susceptibility to different gut-associated diseases. | NA | NA |\n",
       "\n"
      ],
      "text/plain": [
       "    Index PMID     Journal                     \n",
       "1   1     29366768 Journal of Ethnopharmacology\n",
       "2   2     29290650 World J Gastroenterol       \n",
       "⋮   ⋮     ⋮        ⋮                           \n",
       "189 189   26890232 Mol Nutr Food Res           \n",
       "190 190   26878783 J Nutr Biochem              \n",
       "    Title                                                                                                                                                             \n",
       "1   Ginseng polysaccharides enhanced ginsenoside Rb1 and microbial metabolites exposure through enhancing intestinal absorption and affecting gut microbial metabolism\n",
       "2   Structural shift of gut microbiota during chemo-preventive effects of epigallocatechin gallate on colorectal carcinogenesis in mice                               \n",
       "⋮   ⋮                                                                                                                                                                 \n",
       "189 Lingonberries reduce atherosclerosis in Apoe(-/-) mice in association with altered gut microbiota composition and improved lipid profile                          \n",
       "190 Dietary flaxseed modulates the colonic microenvironment in healthy C57Bl/6 male mice which may alter susceptibility to gut-associated diseases                    \n",
       "    Authors                                                                  \n",
       "1   Shen H, Gao XJ, Li T, Jing WH, Han BL, Jia YM, Hu N, Yan ZX, Li SL, Yan R\n",
       "2   Wang X, Ye T, Chen WJ, Lv Y, Hao Z, Chen J, Zhao JY,Wang HP, Cai YK      \n",
       "⋮   ⋮                                                                        \n",
       "189 Matziouridou C,Marungruang N,Nguyen TD,Nyman M,Fåk F                     \n",
       "190 Power KA,Lepp D,Zarepoor L Monk JM2,Wu W,Tsao R,Liu R                    \n",
       "    Research Type                                         \n",
       "1   Interventions change the composition of gut microbiota\n",
       "2   Gut microbiota associated with disorder               \n",
       "⋮   ⋮                                                     \n",
       "189 Interventions change the composition of gut microbiota\n",
       "190 Interventions change the composition of gut microbiota\n",
       "    Intervention           Intervention Type Intervention ID\n",
       "1   Ginseng polysaccharide Drug              NA             \n",
       "2   NA                     NA                NA             \n",
       "⋮   ⋮                      ⋮                 ⋮              \n",
       "189 lingonberry            Food              NA             \n",
       "190 dietary flaxseed       Food              NA             \n",
       "    Disorder Name        DOID        \n",
       "1   colitis              DOID:0060180\n",
       "2   colorectal carcinoma DOID:0080199\n",
       "⋮   ⋮                    ⋮           \n",
       "189 NA                   NA          \n",
       "190 NA                   NA          \n",
       "    Conclusion                                                                                                                                                                                                                                                                                                                                                                                                                                                                                                                                                                                                                                                                                                                                                  \n",
       "1   GP influenced the microbial composition and showed a prebiotic-like effect.                                                                                                                                                                                                                                                                                                                                                                                                                                                                                                                                                                                                                                                                                 \n",
       "2   During the cancerization, the diversity of gut microbiota increased, potential carcinogenic bacteria such as Bacteroides were enriched, and the abundance of butyrate-producing bacteria (Clostridiaceae, Ruminococcus, etc.) decreased continuously.                                                                                                                                                                                                                                                                                                                                                                                                                                                                                                       \n",
       "⋮   ⋮                                                                                                                                                                                                                                                                                                                                                                                                                                                                                                                                                                                                                                                                                                                                                           \n",
       "189 Intake of lingonberries resulted in decreased triglyceridemia and reduced atherosclerosis. The altered gut microbiota composition and SCFA profile was associated with increased hepatic bile acid gene expression in mice fed lingonberries.                                                                                                                                                                                                                                                                                                                                                                                                                                                                                                               \n",
       "190 FS diet altered the fecal microbial community structure (16S rRNA gene profiling), including a 20-fold increase in Prevotella spp. and a 30-fold reduction in Akkermansia muciniphila abundance. A 10-fold reduction in A. muciniphila abundance by FS was also demonstrated in the colon tissue-associated microbiota (quantitative PCR). Furthermore, fecal branched chain fatty acids were increased by FS, indicative of increased microbial-derived putrefactive compounds. In conclusion, consumption of a FS-supplemented diet alters the baseline colonic microenvironment of healthy mice which may modify subsequent mucosal microbial defense and injury-repair responses leading to altered susceptibility to different gut-associated diseases.\n",
       "    Experiment ID Experiment web site\n",
       "1   NA            NA                 \n",
       "2   NA            NA                 \n",
       "⋮   ⋮             ⋮                  \n",
       "189 NA            NA                 \n",
       "190 NA            NA                 "
      ]
     },
     "metadata": {},
     "output_type": "display_data"
    }
   ],
   "source": [
    "F = '/ebio/abt3_projects/databases_no-backup/MicroPheno/gutMDisorder/mouse.xlsx'\n",
    "db_m = readxl::read_excel(F)\n",
    "db_m"
   ]
  },
  {
   "cell_type": "markdown",
   "metadata": {},
   "source": [
    "## microphenodb"
   ]
  },
  {
   "cell_type": "code",
   "execution_count": 46,
   "metadata": {
    "ExecuteTime": {
     "end_time": "2021-04-25T13:34:33.251438Z",
     "start_time": "2021-04-25T13:34:32.580Z"
    }
   },
   "outputs": [
    {
     "data": {
      "text/html": [
       "<table class=\"dataframe\">\n",
       "<caption>A data.table: 5529 × 8</caption>\n",
       "<thead>\n",
       "\t<tr><th scope=col>Association_ID</th><th scope=col>Microbe</th><th scope=col>Disease</th><th scope=col>Score</th><th scope=col>Pmid</th><th scope=col>Type</th><th scope=col>Position</th><th scope=col>Tendency</th></tr>\n",
       "\t<tr><th scope=col>&lt;chr&gt;</th><th scope=col>&lt;chr&gt;</th><th scope=col>&lt;chr&gt;</th><th scope=col>&lt;dbl&gt;</th><th scope=col>&lt;chr&gt;</th><th scope=col>&lt;chr&gt;</th><th scope=col>&lt;chr&gt;</th><th scope=col>&lt;chr&gt;</th></tr>\n",
       "</thead>\n",
       "<tbody>\n",
       "\t<tr><td>MBP00000001</td><td>Enterobacteriaceae    </td><td>Ankylosing spondylitis           </td><td>-0.2569350</td><td>27390077</td><td>Bacteria</td><td>Other                 </td><td>Decrease</td></tr>\n",
       "\t<tr><td>MBP00000002</td><td>Bifidobacterium longum</td><td>Non-alcoholic fatty liver disease</td><td>-0.4363988</td><td>29379536</td><td>Bacteria</td><td>Gastrointestinal tract</td><td>Decrease</td></tr>\n",
       "\t<tr><td>⋮</td><td>⋮</td><td>⋮</td><td>⋮</td><td>⋮</td><td>⋮</td><td>⋮</td><td>⋮</td></tr>\n",
       "\t<tr><td>MBP00005530</td><td>Bacteroides vulgatus</td><td>Familial adenomatous polyposis</td><td>0.3393538</td><td>20562611</td><td>Bacteria</td><td>Other </td><td>Increase</td></tr>\n",
       "\t<tr><td>MBP00005531</td><td>Mobiluncus curtisii </td><td>Bacteria vaginosis            </td><td>0.5997019</td><td>21272848</td><td>Bacteria</td><td>Vagina</td><td>Increase</td></tr>\n",
       "</tbody>\n",
       "</table>\n"
      ],
      "text/latex": [
       "A data.table: 5529 × 8\n",
       "\\begin{tabular}{llllllll}\n",
       " Association\\_ID & Microbe & Disease & Score & Pmid & Type & Position & Tendency\\\\\n",
       " <chr> & <chr> & <chr> & <dbl> & <chr> & <chr> & <chr> & <chr>\\\\\n",
       "\\hline\n",
       "\t MBP00000001 & Enterobacteriaceae     & Ankylosing spondylitis            & -0.2569350 & 27390077 & Bacteria & Other                  & Decrease\\\\\n",
       "\t MBP00000002 & Bifidobacterium longum & Non-alcoholic fatty liver disease & -0.4363988 & 29379536 & Bacteria & Gastrointestinal tract & Decrease\\\\\n",
       "\t ⋮ & ⋮ & ⋮ & ⋮ & ⋮ & ⋮ & ⋮ & ⋮\\\\\n",
       "\t MBP00005530 & Bacteroides vulgatus & Familial adenomatous polyposis & 0.3393538 & 20562611 & Bacteria & Other  & Increase\\\\\n",
       "\t MBP00005531 & Mobiluncus curtisii  & Bacteria vaginosis             & 0.5997019 & 21272848 & Bacteria & Vagina & Increase\\\\\n",
       "\\end{tabular}\n"
      ],
      "text/markdown": [
       "\n",
       "A data.table: 5529 × 8\n",
       "\n",
       "| Association_ID &lt;chr&gt; | Microbe &lt;chr&gt; | Disease &lt;chr&gt; | Score &lt;dbl&gt; | Pmid &lt;chr&gt; | Type &lt;chr&gt; | Position &lt;chr&gt; | Tendency &lt;chr&gt; |\n",
       "|---|---|---|---|---|---|---|---|\n",
       "| MBP00000001 | Enterobacteriaceae     | Ankylosing spondylitis            | -0.2569350 | 27390077 | Bacteria | Other                  | Decrease |\n",
       "| MBP00000002 | Bifidobacterium longum | Non-alcoholic fatty liver disease | -0.4363988 | 29379536 | Bacteria | Gastrointestinal tract | Decrease |\n",
       "| ⋮ | ⋮ | ⋮ | ⋮ | ⋮ | ⋮ | ⋮ | ⋮ |\n",
       "| MBP00005530 | Bacteroides vulgatus | Familial adenomatous polyposis | 0.3393538 | 20562611 | Bacteria | Other  | Increase |\n",
       "| MBP00005531 | Mobiluncus curtisii  | Bacteria vaginosis             | 0.5997019 | 21272848 | Bacteria | Vagina | Increase |\n",
       "\n"
      ],
      "text/plain": [
       "     Association_ID Microbe                Disease                          \n",
       "1    MBP00000001    Enterobacteriaceae     Ankylosing spondylitis           \n",
       "2    MBP00000002    Bifidobacterium longum Non-alcoholic fatty liver disease\n",
       "⋮    ⋮              ⋮                      ⋮                                \n",
       "5528 MBP00005530    Bacteroides vulgatus   Familial adenomatous polyposis   \n",
       "5529 MBP00005531    Mobiluncus curtisii    Bacteria vaginosis               \n",
       "     Score      Pmid     Type     Position               Tendency\n",
       "1    -0.2569350 27390077 Bacteria Other                  Decrease\n",
       "2    -0.4363988 29379536 Bacteria Gastrointestinal tract Decrease\n",
       "⋮    ⋮          ⋮        ⋮        ⋮                      ⋮       \n",
       "5528 0.3393538  20562611 Bacteria Other                  Increase\n",
       "5529 0.5997019  21272848 Bacteria Vagina                 Increase"
      ]
     },
     "metadata": {},
     "output_type": "display_data"
    }
   ],
   "source": [
    "F = '/ebio/abt3_projects/databases_no-backup/MicroPheno/microphenodb/core_table.txt'\n",
    "ct = Fread(F)\n",
    "ct"
   ]
  },
  {
   "cell_type": "code",
   "execution_count": 47,
   "metadata": {
    "ExecuteTime": {
     "end_time": "2021-04-25T13:34:43.729092Z",
     "start_time": "2021-04-25T13:34:43.663Z"
    }
   },
   "outputs": [
    {
     "data": {
      "text/html": [
       "<table class=\"dataframe\">\n",
       "<caption>A data.table: 1774 × 5</caption>\n",
       "<thead>\n",
       "\t<tr><th scope=col>ncbi_taxonomy</th><th scope=col>gtdb_taxonomy</th><th scope=col>lca_frac</th><th scope=col>target_tax_level</th><th scope=col>lineage</th></tr>\n",
       "\t<tr><th scope=col>&lt;chr&gt;</th><th scope=col>&lt;chr&gt;</th><th scope=col>&lt;dbl&gt;</th><th scope=col>&lt;chr&gt;</th><th scope=col>&lt;chr&gt;</th></tr>\n",
       "</thead>\n",
       "<tbody>\n",
       "\t<tr><td>Enterobacteriaceae    </td><td>Enterobacteriaceae    </td><td>1.00</td><td>family </td><td>bacteria;proteobacteria;gammaproteobacteria;enterobacterales;enterobacteriaceae                                  </td></tr>\n",
       "\t<tr><td>Bifidobacterium longum</td><td>Bifidobacterium longum</td><td>0.92</td><td>species</td><td>bacteria;actinobacteriota;actinomycetia;actinomycetales;bifidobacteriaceae;bifidobacterium;bifidobacterium longum</td></tr>\n",
       "\t<tr><td>⋮</td><td>⋮</td><td>⋮</td><td>⋮</td><td>⋮</td></tr>\n",
       "\t<tr><td>Hsv-1                </td><td>unclassified</td><td>NA</td><td>NA</td><td>NA</td></tr>\n",
       "\t<tr><td>Eubacterium tortuosum</td><td>unclassified</td><td>NA</td><td>NA</td><td>NA</td></tr>\n",
       "</tbody>\n",
       "</table>\n"
      ],
      "text/latex": [
       "A data.table: 1774 × 5\n",
       "\\begin{tabular}{lllll}\n",
       " ncbi\\_taxonomy & gtdb\\_taxonomy & lca\\_frac & target\\_tax\\_level & lineage\\\\\n",
       " <chr> & <chr> & <dbl> & <chr> & <chr>\\\\\n",
       "\\hline\n",
       "\t Enterobacteriaceae     & Enterobacteriaceae     & 1.00 & family  & bacteria;proteobacteria;gammaproteobacteria;enterobacterales;enterobacteriaceae                                  \\\\\n",
       "\t Bifidobacterium longum & Bifidobacterium longum & 0.92 & species & bacteria;actinobacteriota;actinomycetia;actinomycetales;bifidobacteriaceae;bifidobacterium;bifidobacterium longum\\\\\n",
       "\t ⋮ & ⋮ & ⋮ & ⋮ & ⋮\\\\\n",
       "\t Hsv-1                 & unclassified & NA & NA & NA\\\\\n",
       "\t Eubacterium tortuosum & unclassified & NA & NA & NA\\\\\n",
       "\\end{tabular}\n"
      ],
      "text/markdown": [
       "\n",
       "A data.table: 1774 × 5\n",
       "\n",
       "| ncbi_taxonomy &lt;chr&gt; | gtdb_taxonomy &lt;chr&gt; | lca_frac &lt;dbl&gt; | target_tax_level &lt;chr&gt; | lineage &lt;chr&gt; |\n",
       "|---|---|---|---|---|\n",
       "| Enterobacteriaceae     | Enterobacteriaceae     | 1.00 | family  | bacteria;proteobacteria;gammaproteobacteria;enterobacterales;enterobacteriaceae                                   |\n",
       "| Bifidobacterium longum | Bifidobacterium longum | 0.92 | species | bacteria;actinobacteriota;actinomycetia;actinomycetales;bifidobacteriaceae;bifidobacterium;bifidobacterium longum |\n",
       "| ⋮ | ⋮ | ⋮ | ⋮ | ⋮ |\n",
       "| Hsv-1                 | unclassified | NA | NA | NA |\n",
       "| Eubacterium tortuosum | unclassified | NA | NA | NA |\n",
       "\n"
      ],
      "text/plain": [
       "     ncbi_taxonomy          gtdb_taxonomy          lca_frac target_tax_level\n",
       "1    Enterobacteriaceae     Enterobacteriaceae     1.00     family          \n",
       "2    Bifidobacterium longum Bifidobacterium longum 0.92     species         \n",
       "⋮    ⋮                      ⋮                      ⋮        ⋮               \n",
       "1773 Hsv-1                  unclassified           NA       NA              \n",
       "1774 Eubacterium tortuosum  unclassified           NA       NA              \n",
       "     lineage                                                                                                          \n",
       "1    bacteria;proteobacteria;gammaproteobacteria;enterobacterales;enterobacteriaceae                                  \n",
       "2    bacteria;actinobacteriota;actinomycetia;actinomycetales;bifidobacteriaceae;bifidobacterium;bifidobacterium longum\n",
       "⋮    ⋮                                                                                                                \n",
       "1773 NA                                                                                                               \n",
       "1774 NA                                                                                                               "
      ]
     },
     "metadata": {},
     "output_type": "display_data"
    }
   ],
   "source": [
    "# gtdb taxids\n",
    "F = '/ebio/abt3_projects/software/dev/gtdb_to_taxdump/ncbi-gtdb/taxonomy_map_summary.tsv'\n",
    "taxids = Fread(F)\n",
    "taxids"
   ]
  },
  {
   "cell_type": "code",
   "execution_count": 48,
   "metadata": {
    "ExecuteTime": {
     "end_time": "2021-04-25T13:35:18.892294Z",
     "start_time": "2021-04-25T13:35:18.800Z"
    }
   },
   "outputs": [
    {
     "name": "stdout",
     "output_type": "stream",
     "text": [
      "intersect(x,y): 1767 \n",
      "setdiff(x,y): 0 \n",
      "setdiff(y,x): 0 \n",
      "union(x,y): 1767 \n"
     ]
    },
    {
     "data": {
      "text/html": [
       "<table class=\"dataframe\">\n",
       "<caption>A tidytable: 5556 × 11</caption>\n",
       "<thead>\n",
       "\t<tr><th scope=col>Association_ID</th><th scope=col>Microbe</th><th scope=col>Disease</th><th scope=col>Score</th><th scope=col>Pmid</th><th scope=col>Type</th><th scope=col>Position</th><th scope=col>Tendency</th><th scope=col>gtdb_taxonomy</th><th scope=col>gtdb_taxid_tax_level</th><th scope=col>gtdb_lineage</th></tr>\n",
       "\t<tr><th scope=col>&lt;chr&gt;</th><th scope=col>&lt;chr&gt;</th><th scope=col>&lt;chr&gt;</th><th scope=col>&lt;dbl&gt;</th><th scope=col>&lt;chr&gt;</th><th scope=col>&lt;chr&gt;</th><th scope=col>&lt;chr&gt;</th><th scope=col>&lt;chr&gt;</th><th scope=col>&lt;chr&gt;</th><th scope=col>&lt;chr&gt;</th><th scope=col>&lt;chr&gt;</th></tr>\n",
       "</thead>\n",
       "<tbody>\n",
       "\t<tr><td>MBP00000001</td><td>Enterobacteriaceae</td><td>Ankylosing spondylitis</td><td>-0.256935</td><td>27390077</td><td>Bacteria</td><td>Other      </td><td>Decrease</td><td>Enterobacteriaceae</td><td>family</td><td>bacteria;proteobacteria;gammaproteobacteria;enterobacterales;enterobacteriaceae</td></tr>\n",
       "\t<tr><td>MBP00000012</td><td>Enterobacteriaceae</td><td>Celiac disease        </td><td> 0.256935</td><td>24657864</td><td>Bacteria</td><td>Oral cavity</td><td>Increase</td><td>Enterobacteriaceae</td><td>family</td><td>bacteria;proteobacteria;gammaproteobacteria;enterobacterales;enterobacteriaceae</td></tr>\n",
       "\t<tr><td>⋮</td><td>⋮</td><td>⋮</td><td>⋮</td><td>⋮</td><td>⋮</td><td>⋮</td><td>⋮</td><td>⋮</td><td>⋮</td><td>⋮</td></tr>\n",
       "\t<tr><td>MBP00005516</td><td>Hsv-1                </td><td>Atherosclerosis         </td><td>0.6749594</td><td>11940204</td><td>Virus   </td><td>Other                 </td><td>Increase</td><td>unclassified</td><td>NA</td><td>NA</td></tr>\n",
       "\t<tr><td>MBP00005521</td><td>Eubacterium tortuosum</td><td>Type i diabetes mellitus</td><td>0.6749594</td><td>22043294</td><td>Bacteria</td><td>Gastrointestinal tract</td><td>Increase</td><td>unclassified</td><td>NA</td><td>NA</td></tr>\n",
       "</tbody>\n",
       "</table>\n"
      ],
      "text/latex": [
       "A tidytable: 5556 × 11\n",
       "\\begin{tabular}{lllllllllll}\n",
       " Association\\_ID & Microbe & Disease & Score & Pmid & Type & Position & Tendency & gtdb\\_taxonomy & gtdb\\_taxid\\_tax\\_level & gtdb\\_lineage\\\\\n",
       " <chr> & <chr> & <chr> & <dbl> & <chr> & <chr> & <chr> & <chr> & <chr> & <chr> & <chr>\\\\\n",
       "\\hline\n",
       "\t MBP00000001 & Enterobacteriaceae & Ankylosing spondylitis & -0.256935 & 27390077 & Bacteria & Other       & Decrease & Enterobacteriaceae & family & bacteria;proteobacteria;gammaproteobacteria;enterobacterales;enterobacteriaceae\\\\\n",
       "\t MBP00000012 & Enterobacteriaceae & Celiac disease         &  0.256935 & 24657864 & Bacteria & Oral cavity & Increase & Enterobacteriaceae & family & bacteria;proteobacteria;gammaproteobacteria;enterobacterales;enterobacteriaceae\\\\\n",
       "\t ⋮ & ⋮ & ⋮ & ⋮ & ⋮ & ⋮ & ⋮ & ⋮ & ⋮ & ⋮ & ⋮\\\\\n",
       "\t MBP00005516 & Hsv-1                 & Atherosclerosis          & 0.6749594 & 11940204 & Virus    & Other                  & Increase & unclassified & NA & NA\\\\\n",
       "\t MBP00005521 & Eubacterium tortuosum & Type i diabetes mellitus & 0.6749594 & 22043294 & Bacteria & Gastrointestinal tract & Increase & unclassified & NA & NA\\\\\n",
       "\\end{tabular}\n"
      ],
      "text/markdown": [
       "\n",
       "A tidytable: 5556 × 11\n",
       "\n",
       "| Association_ID &lt;chr&gt; | Microbe &lt;chr&gt; | Disease &lt;chr&gt; | Score &lt;dbl&gt; | Pmid &lt;chr&gt; | Type &lt;chr&gt; | Position &lt;chr&gt; | Tendency &lt;chr&gt; | gtdb_taxonomy &lt;chr&gt; | gtdb_taxid_tax_level &lt;chr&gt; | gtdb_lineage &lt;chr&gt; |\n",
       "|---|---|---|---|---|---|---|---|---|---|---|\n",
       "| MBP00000001 | Enterobacteriaceae | Ankylosing spondylitis | -0.256935 | 27390077 | Bacteria | Other       | Decrease | Enterobacteriaceae | family | bacteria;proteobacteria;gammaproteobacteria;enterobacterales;enterobacteriaceae |\n",
       "| MBP00000012 | Enterobacteriaceae | Celiac disease         |  0.256935 | 24657864 | Bacteria | Oral cavity | Increase | Enterobacteriaceae | family | bacteria;proteobacteria;gammaproteobacteria;enterobacterales;enterobacteriaceae |\n",
       "| ⋮ | ⋮ | ⋮ | ⋮ | ⋮ | ⋮ | ⋮ | ⋮ | ⋮ | ⋮ | ⋮ |\n",
       "| MBP00005516 | Hsv-1                 | Atherosclerosis          | 0.6749594 | 11940204 | Virus    | Other                  | Increase | unclassified | NA | NA |\n",
       "| MBP00005521 | Eubacterium tortuosum | Type i diabetes mellitus | 0.6749594 | 22043294 | Bacteria | Gastrointestinal tract | Increase | unclassified | NA | NA |\n",
       "\n"
      ],
      "text/plain": [
       "     Association_ID Microbe               Disease                  Score    \n",
       "1    MBP00000001    Enterobacteriaceae    Ankylosing spondylitis   -0.256935\n",
       "2    MBP00000012    Enterobacteriaceae    Celiac disease            0.256935\n",
       "⋮    ⋮              ⋮                     ⋮                        ⋮        \n",
       "5555 MBP00005516    Hsv-1                 Atherosclerosis          0.6749594\n",
       "5556 MBP00005521    Eubacterium tortuosum Type i diabetes mellitus 0.6749594\n",
       "     Pmid     Type     Position               Tendency gtdb_taxonomy     \n",
       "1    27390077 Bacteria Other                  Decrease Enterobacteriaceae\n",
       "2    24657864 Bacteria Oral cavity            Increase Enterobacteriaceae\n",
       "⋮    ⋮        ⋮        ⋮                      ⋮        ⋮                 \n",
       "5555 11940204 Virus    Other                  Increase unclassified      \n",
       "5556 22043294 Bacteria Gastrointestinal tract Increase unclassified      \n",
       "     gtdb_taxid_tax_level\n",
       "1    family              \n",
       "2    family              \n",
       "⋮    ⋮                   \n",
       "5555 NA                  \n",
       "5556 NA                  \n",
       "     gtdb_lineage                                                                   \n",
       "1    bacteria;proteobacteria;gammaproteobacteria;enterobacterales;enterobacteriaceae\n",
       "2    bacteria;proteobacteria;gammaproteobacteria;enterobacterales;enterobacteriaceae\n",
       "⋮    ⋮                                                                              \n",
       "5555 NA                                                                             \n",
       "5556 NA                                                                             "
      ]
     },
     "metadata": {},
     "output_type": "display_data"
    }
   ],
   "source": [
    "overlap(ct$Microbe, taxids$ncbi_taxonomy)\n",
    "ct_j = ct %>%\n",
    "    inner_join.(taxids %>% select.(-lca_frac) %>% \n",
    "                    rename.('gtdb_taxid_tax_level' = target_tax_level,\n",
    "                            'gtdb_lineage' = lineage), \n",
    "                c('Microbe'='ncbi_taxonomy'))\n",
    "ct_j"
   ]
  },
  {
   "cell_type": "code",
   "execution_count": 49,
   "metadata": {
    "ExecuteTime": {
     "end_time": "2021-04-25T13:35:50.431087Z",
     "start_time": "2021-04-25T13:35:50.375Z"
    }
   },
   "outputs": [
    {
     "name": "stdout",
     "output_type": "stream",
     "text": [
      "File written: /ebio/abt3_projects/databases_no-backup/MicroPheno/microphenodb/core_table_wGTDBr95.txt \n"
     ]
    }
   ],
   "source": [
    "F = '/ebio/abt3_projects/databases_no-backup/MicroPheno/microphenodb/core_table_wGTDBr95.txt'\n",
    "write_table(ct_j, F)"
   ]
  },
  {
   "cell_type": "markdown",
   "metadata": {},
   "source": [
    "## peryton"
   ]
  },
  {
   "cell_type": "code",
   "execution_count": 17,
   "metadata": {
    "ExecuteTime": {
     "end_time": "2021-04-25T12:04:27.214224Z",
     "start_time": "2021-04-25T12:04:27.065Z"
    }
   },
   "outputs": [
    {
     "data": {
      "text/html": [
       "<table class=\"dataframe\">\n",
       "<caption>A data.table: 7977 × 31</caption>\n",
       "<thead>\n",
       "\t<tr><th scope=col>S.No</th><th scope=col>disease_name</th><th scope=col>microbe_scientific_name</th><th scope=col>tax_rank_name</th><th scope=col>microbe_ncbi_tax_id</th><th scope=col>experimental_method_name</th><th scope=col>samples_origin_name</th><th scope=col>relationship_name</th><th scope=col>subjects_number</th><th scope=col>subjects_group_one</th><th scope=col>subjects_group_two</th><th scope=col>mean_age_group_one</th><th scope=col>mean_age_group_two</th><th scope=col>males_number</th><th scope=col>females_number</th><th scope=col>group_one</th><th scope=col>group_two</th><th scope=col>disease_type_name</th><th scope=col>disease_subtype</th><th scope=col>disease_mesh_id</th><th scope=col>disease_mesh_heading</th><th scope=col>host_species_name</th><th scope=col>publication_PMID</th><th scope=col>publication_doi</th><th scope=col>publication_first_author</th><th scope=col>publication_corresponding_author_mail</th><th scope=col>publication_title</th><th scope=col>publication_journal</th><th scope=col>publication_year</th><th scope=col>comments</th><th scope=col>microbe_com_contaminant</th></tr>\n",
       "\t<tr><th scope=col>&lt;int&gt;</th><th scope=col>&lt;chr&gt;</th><th scope=col>&lt;chr&gt;</th><th scope=col>&lt;chr&gt;</th><th scope=col>&lt;int&gt;</th><th scope=col>&lt;chr&gt;</th><th scope=col>&lt;chr&gt;</th><th scope=col>&lt;chr&gt;</th><th scope=col>&lt;chr&gt;</th><th scope=col>&lt;chr&gt;</th><th scope=col>&lt;chr&gt;</th><th scope=col>&lt;chr&gt;</th><th scope=col>&lt;chr&gt;</th><th scope=col>&lt;chr&gt;</th><th scope=col>&lt;chr&gt;</th><th scope=col>&lt;chr&gt;</th><th scope=col>&lt;chr&gt;</th><th scope=col>&lt;chr&gt;</th><th scope=col>&lt;chr&gt;</th><th scope=col>&lt;chr&gt;</th><th scope=col>&lt;chr&gt;</th><th scope=col>&lt;chr&gt;</th><th scope=col>&lt;int&gt;</th><th scope=col>&lt;chr&gt;</th><th scope=col>&lt;chr&gt;</th><th scope=col>&lt;chr&gt;</th><th scope=col>&lt;chr&gt;</th><th scope=col>&lt;chr&gt;</th><th scope=col>&lt;int&gt;</th><th scope=col>&lt;chr&gt;</th><th scope=col>&lt;lgl&gt;</th></tr>\n",
       "</thead>\n",
       "<tbody>\n",
       "\t<tr><td>1</td><td>Ulcerative Colitis</td><td>Spirochaetes</td><td>Phylum</td><td>203691</td><td>16S rRNA sequencing    </td><td>Tongue brushings</td><td>Increased</td><td>74</td><td>31</td><td>43</td><td>14</td><td>14</td><td>37</td><td>37</td><td>Ulcerative Colitis</td><td>Healthy Controls</td><td>Gastrointestinal Disorders</td><td>undefined</td><td>MESH:D003093</td><td>Ulcerative Colitis</td><td>Homo sapiens</td><td>21987382</td><td>10.1002/ibd.21874                            </td><td>Docktor MJ</td><td>Michael.docktor@childrens.harvard.edu</td><td>Alterations in diversity of the oral microbiome in pediatric inflammatory bowel disease</td><td>Inflammatory Bowel Diseases</td><td>2012</td><td>null</td><td>FALSE</td></tr>\n",
       "\t<tr><td>2</td><td>Mouth Neoplasms   </td><td>Actinomyces </td><td>Genus </td><td>  1654</td><td>Microbiological culture</td><td>Oral swab       </td><td>Increased</td><td>21</td><td>21</td><td>21</td><td>53</td><td>53</td><td>20</td><td>1 </td><td>Oral cancer       </td><td>Normal adjacent </td><td>Cancers                   </td><td>undefined</td><td>MESH:D009062</td><td>Mouth neoplasms   </td><td>Homo sapiens</td><td> 9813727</td><td>https://doi.org/10.1016/S1368-8375(98)80012-2</td><td>K.N. Nagy </td><td>nagynk@stoma.szote.u-szeged.hu       </td><td>The microflora associated with human oral carcinomas                                   </td><td>Oral Oncology              </td><td>1998</td><td>null</td><td> TRUE</td></tr>\n",
       "\t<tr><td>⋮</td><td>⋮</td><td>⋮</td><td>⋮</td><td>⋮</td><td>⋮</td><td>⋮</td><td>⋮</td><td>⋮</td><td>⋮</td><td>⋮</td><td>⋮</td><td>⋮</td><td>⋮</td><td>⋮</td><td>⋮</td><td>⋮</td><td>⋮</td><td>⋮</td><td>⋮</td><td>⋮</td><td>⋮</td><td>⋮</td><td>⋮</td><td>⋮</td><td>⋮</td><td>⋮</td><td>⋮</td><td>⋮</td><td>⋮</td><td>⋮</td></tr>\n",
       "\t<tr><td>7976</td><td>Uterine Cervical Neoplasms</td><td>Streptococcus pneumoniae</td><td>Species</td><td> 1313</td><td>16S rRNA sequencing</td><td>Cervical swab</td><td>Increased</td><td>92</td><td>42</td><td>50</td><td>45.7</td><td>45.1</td><td>null</td><td>92</td><td>Cervical cancer</td><td>Healthy Controls</td><td>Cancers</td><td>undefined</td><td>MESH:D002583</td><td>Uterine Cervical neoplasms</td><td>Homo sapiens</td><td>32546712</td><td>10.1038/s41598-020-66607-4</td><td>Charles Nkufi Tango</td><td>alrud@ncc.re.kr</td><td>Taxonomic and Functional Differences in Cervical Microbiome Associated with Cervical Cancer Development</td><td>Scientific Reports</td><td>2020</td><td>LEfSe analysis</td><td>FALSE</td></tr>\n",
       "\t<tr><td>7977</td><td>Uterine Cervical Neoplasms</td><td>Weissella               </td><td>Genus  </td><td>46255</td><td>16S rRNA sequencing</td><td>Cervical swab</td><td>Present  </td><td>92</td><td>42</td><td>50</td><td>45.7</td><td>45.1</td><td>null</td><td>92</td><td>Cervical cancer</td><td>Healthy Controls</td><td>Cancers</td><td>undefined</td><td>MESH:D002583</td><td>Uterine Cervical neoplasms</td><td>Homo sapiens</td><td>32546712</td><td>10.1038/s41598-020-66607-4</td><td>Charles Nkufi Tango</td><td>alrud@ncc.re.kr</td><td>Taxonomic and Functional Differences in Cervical Microbiome Associated with Cervical Cancer Development</td><td>Scientific Reports</td><td>2020</td><td>LEfSe analysis</td><td>FALSE</td></tr>\n",
       "</tbody>\n",
       "</table>\n"
      ],
      "text/latex": [
       "A data.table: 7977 × 31\n",
       "\\begin{tabular}{lllllllllllllllllllllllllllllll}\n",
       " S.No & disease\\_name & microbe\\_scientific\\_name & tax\\_rank\\_name & microbe\\_ncbi\\_tax\\_id & experimental\\_method\\_name & samples\\_origin\\_name & relationship\\_name & subjects\\_number & subjects\\_group\\_one & subjects\\_group\\_two & mean\\_age\\_group\\_one & mean\\_age\\_group\\_two & males\\_number & females\\_number & group\\_one & group\\_two & disease\\_type\\_name & disease\\_subtype & disease\\_mesh\\_id & disease\\_mesh\\_heading & host\\_species\\_name & publication\\_PMID & publication\\_doi & publication\\_first\\_author & publication\\_corresponding\\_author\\_mail & publication\\_title & publication\\_journal & publication\\_year & comments & microbe\\_com\\_contaminant\\\\\n",
       " <int> & <chr> & <chr> & <chr> & <int> & <chr> & <chr> & <chr> & <chr> & <chr> & <chr> & <chr> & <chr> & <chr> & <chr> & <chr> & <chr> & <chr> & <chr> & <chr> & <chr> & <chr> & <int> & <chr> & <chr> & <chr> & <chr> & <chr> & <int> & <chr> & <lgl>\\\\\n",
       "\\hline\n",
       "\t 1 & Ulcerative Colitis & Spirochaetes & Phylum & 203691 & 16S rRNA sequencing     & Tongue brushings & Increased & 74 & 31 & 43 & 14 & 14 & 37 & 37 & Ulcerative Colitis & Healthy Controls & Gastrointestinal Disorders & undefined & MESH:D003093 & Ulcerative Colitis & Homo sapiens & 21987382 & 10.1002/ibd.21874                             & Docktor MJ & Michael.docktor@childrens.harvard.edu & Alterations in diversity of the oral microbiome in pediatric inflammatory bowel disease & Inflammatory Bowel Diseases & 2012 & null & FALSE\\\\\n",
       "\t 2 & Mouth Neoplasms    & Actinomyces  & Genus  &   1654 & Microbiological culture & Oral swab        & Increased & 21 & 21 & 21 & 53 & 53 & 20 & 1  & Oral cancer        & Normal adjacent  & Cancers                    & undefined & MESH:D009062 & Mouth neoplasms    & Homo sapiens &  9813727 & https://doi.org/10.1016/S1368-8375(98)80012-2 & K.N. Nagy  & nagynk@stoma.szote.u-szeged.hu        & The microflora associated with human oral carcinomas                                    & Oral Oncology               & 1998 & null &  TRUE\\\\\n",
       "\t ⋮ & ⋮ & ⋮ & ⋮ & ⋮ & ⋮ & ⋮ & ⋮ & ⋮ & ⋮ & ⋮ & ⋮ & ⋮ & ⋮ & ⋮ & ⋮ & ⋮ & ⋮ & ⋮ & ⋮ & ⋮ & ⋮ & ⋮ & ⋮ & ⋮ & ⋮ & ⋮ & ⋮ & ⋮ & ⋮ & ⋮\\\\\n",
       "\t 7976 & Uterine Cervical Neoplasms & Streptococcus pneumoniae & Species &  1313 & 16S rRNA sequencing & Cervical swab & Increased & 92 & 42 & 50 & 45.7 & 45.1 & null & 92 & Cervical cancer & Healthy Controls & Cancers & undefined & MESH:D002583 & Uterine Cervical neoplasms & Homo sapiens & 32546712 & 10.1038/s41598-020-66607-4 & Charles Nkufi Tango & alrud@ncc.re.kr & Taxonomic and Functional Differences in Cervical Microbiome Associated with Cervical Cancer Development & Scientific Reports & 2020 & LEfSe analysis & FALSE\\\\\n",
       "\t 7977 & Uterine Cervical Neoplasms & Weissella                & Genus   & 46255 & 16S rRNA sequencing & Cervical swab & Present   & 92 & 42 & 50 & 45.7 & 45.1 & null & 92 & Cervical cancer & Healthy Controls & Cancers & undefined & MESH:D002583 & Uterine Cervical neoplasms & Homo sapiens & 32546712 & 10.1038/s41598-020-66607-4 & Charles Nkufi Tango & alrud@ncc.re.kr & Taxonomic and Functional Differences in Cervical Microbiome Associated with Cervical Cancer Development & Scientific Reports & 2020 & LEfSe analysis & FALSE\\\\\n",
       "\\end{tabular}\n"
      ],
      "text/markdown": [
       "\n",
       "A data.table: 7977 × 31\n",
       "\n",
       "| S.No &lt;int&gt; | disease_name &lt;chr&gt; | microbe_scientific_name &lt;chr&gt; | tax_rank_name &lt;chr&gt; | microbe_ncbi_tax_id &lt;int&gt; | experimental_method_name &lt;chr&gt; | samples_origin_name &lt;chr&gt; | relationship_name &lt;chr&gt; | subjects_number &lt;chr&gt; | subjects_group_one &lt;chr&gt; | subjects_group_two &lt;chr&gt; | mean_age_group_one &lt;chr&gt; | mean_age_group_two &lt;chr&gt; | males_number &lt;chr&gt; | females_number &lt;chr&gt; | group_one &lt;chr&gt; | group_two &lt;chr&gt; | disease_type_name &lt;chr&gt; | disease_subtype &lt;chr&gt; | disease_mesh_id &lt;chr&gt; | disease_mesh_heading &lt;chr&gt; | host_species_name &lt;chr&gt; | publication_PMID &lt;int&gt; | publication_doi &lt;chr&gt; | publication_first_author &lt;chr&gt; | publication_corresponding_author_mail &lt;chr&gt; | publication_title &lt;chr&gt; | publication_journal &lt;chr&gt; | publication_year &lt;int&gt; | comments &lt;chr&gt; | microbe_com_contaminant &lt;lgl&gt; |\n",
       "|---|---|---|---|---|---|---|---|---|---|---|---|---|---|---|---|---|---|---|---|---|---|---|---|---|---|---|---|---|---|---|\n",
       "| 1 | Ulcerative Colitis | Spirochaetes | Phylum | 203691 | 16S rRNA sequencing     | Tongue brushings | Increased | 74 | 31 | 43 | 14 | 14 | 37 | 37 | Ulcerative Colitis | Healthy Controls | Gastrointestinal Disorders | undefined | MESH:D003093 | Ulcerative Colitis | Homo sapiens | 21987382 | 10.1002/ibd.21874                             | Docktor MJ | Michael.docktor@childrens.harvard.edu | Alterations in diversity of the oral microbiome in pediatric inflammatory bowel disease | Inflammatory Bowel Diseases | 2012 | null | FALSE |\n",
       "| 2 | Mouth Neoplasms    | Actinomyces  | Genus  |   1654 | Microbiological culture | Oral swab        | Increased | 21 | 21 | 21 | 53 | 53 | 20 | 1  | Oral cancer        | Normal adjacent  | Cancers                    | undefined | MESH:D009062 | Mouth neoplasms    | Homo sapiens |  9813727 | https://doi.org/10.1016/S1368-8375(98)80012-2 | K.N. Nagy  | nagynk@stoma.szote.u-szeged.hu        | The microflora associated with human oral carcinomas                                    | Oral Oncology               | 1998 | null |  TRUE |\n",
       "| ⋮ | ⋮ | ⋮ | ⋮ | ⋮ | ⋮ | ⋮ | ⋮ | ⋮ | ⋮ | ⋮ | ⋮ | ⋮ | ⋮ | ⋮ | ⋮ | ⋮ | ⋮ | ⋮ | ⋮ | ⋮ | ⋮ | ⋮ | ⋮ | ⋮ | ⋮ | ⋮ | ⋮ | ⋮ | ⋮ | ⋮ |\n",
       "| 7976 | Uterine Cervical Neoplasms | Streptococcus pneumoniae | Species |  1313 | 16S rRNA sequencing | Cervical swab | Increased | 92 | 42 | 50 | 45.7 | 45.1 | null | 92 | Cervical cancer | Healthy Controls | Cancers | undefined | MESH:D002583 | Uterine Cervical neoplasms | Homo sapiens | 32546712 | 10.1038/s41598-020-66607-4 | Charles Nkufi Tango | alrud@ncc.re.kr | Taxonomic and Functional Differences in Cervical Microbiome Associated with Cervical Cancer Development | Scientific Reports | 2020 | LEfSe analysis | FALSE |\n",
       "| 7977 | Uterine Cervical Neoplasms | Weissella                | Genus   | 46255 | 16S rRNA sequencing | Cervical swab | Present   | 92 | 42 | 50 | 45.7 | 45.1 | null | 92 | Cervical cancer | Healthy Controls | Cancers | undefined | MESH:D002583 | Uterine Cervical neoplasms | Homo sapiens | 32546712 | 10.1038/s41598-020-66607-4 | Charles Nkufi Tango | alrud@ncc.re.kr | Taxonomic and Functional Differences in Cervical Microbiome Associated with Cervical Cancer Development | Scientific Reports | 2020 | LEfSe analysis | FALSE |\n",
       "\n"
      ],
      "text/plain": [
       "     S.No disease_name               microbe_scientific_name  tax_rank_name\n",
       "1    1    Ulcerative Colitis         Spirochaetes             Phylum       \n",
       "2    2    Mouth Neoplasms            Actinomyces              Genus        \n",
       "⋮    ⋮    ⋮                          ⋮                        ⋮            \n",
       "7976 7976 Uterine Cervical Neoplasms Streptococcus pneumoniae Species      \n",
       "7977 7977 Uterine Cervical Neoplasms Weissella                Genus        \n",
       "     microbe_ncbi_tax_id experimental_method_name samples_origin_name\n",
       "1    203691              16S rRNA sequencing      Tongue brushings   \n",
       "2      1654              Microbiological culture  Oral swab          \n",
       "⋮    ⋮                   ⋮                        ⋮                  \n",
       "7976  1313               16S rRNA sequencing      Cervical swab      \n",
       "7977 46255               16S rRNA sequencing      Cervical swab      \n",
       "     relationship_name subjects_number subjects_group_one subjects_group_two\n",
       "1    Increased         74              31                 43                \n",
       "2    Increased         21              21                 21                \n",
       "⋮    ⋮                 ⋮               ⋮                  ⋮                 \n",
       "7976 Increased         92              42                 50                \n",
       "7977 Present           92              42                 50                \n",
       "     mean_age_group_one mean_age_group_two males_number females_number\n",
       "1    14                 14                 37           37            \n",
       "2    53                 53                 20           1             \n",
       "⋮    ⋮                  ⋮                  ⋮            ⋮             \n",
       "7976 45.7               45.1               null         92            \n",
       "7977 45.7               45.1               null         92            \n",
       "     group_one          group_two        disease_type_name         \n",
       "1    Ulcerative Colitis Healthy Controls Gastrointestinal Disorders\n",
       "2    Oral cancer        Normal adjacent  Cancers                   \n",
       "⋮    ⋮                  ⋮                ⋮                         \n",
       "7976 Cervical cancer    Healthy Controls Cancers                   \n",
       "7977 Cervical cancer    Healthy Controls Cancers                   \n",
       "     disease_subtype disease_mesh_id disease_mesh_heading      \n",
       "1    undefined       MESH:D003093    Ulcerative Colitis        \n",
       "2    undefined       MESH:D009062    Mouth neoplasms           \n",
       "⋮    ⋮               ⋮               ⋮                         \n",
       "7976 undefined       MESH:D002583    Uterine Cervical neoplasms\n",
       "7977 undefined       MESH:D002583    Uterine Cervical neoplasms\n",
       "     host_species_name publication_PMID\n",
       "1    Homo sapiens      21987382        \n",
       "2    Homo sapiens       9813727        \n",
       "⋮    ⋮                 ⋮               \n",
       "7976 Homo sapiens      32546712        \n",
       "7977 Homo sapiens      32546712        \n",
       "     publication_doi                               publication_first_author\n",
       "1    10.1002/ibd.21874                             Docktor MJ              \n",
       "2    https://doi.org/10.1016/S1368-8375(98)80012-2 K.N. Nagy               \n",
       "⋮    ⋮                                             ⋮                       \n",
       "7976 10.1038/s41598-020-66607-4                    Charles Nkufi Tango     \n",
       "7977 10.1038/s41598-020-66607-4                    Charles Nkufi Tango     \n",
       "     publication_corresponding_author_mail\n",
       "1    Michael.docktor@childrens.harvard.edu\n",
       "2    nagynk@stoma.szote.u-szeged.hu       \n",
       "⋮    ⋮                                    \n",
       "7976 alrud@ncc.re.kr                      \n",
       "7977 alrud@ncc.re.kr                      \n",
       "     publication_title                                                                                      \n",
       "1    Alterations in diversity of the oral microbiome in pediatric inflammatory bowel disease                \n",
       "2    The microflora associated with human oral carcinomas                                                   \n",
       "⋮    ⋮                                                                                                      \n",
       "7976 Taxonomic and Functional Differences in Cervical Microbiome Associated with Cervical Cancer Development\n",
       "7977 Taxonomic and Functional Differences in Cervical Microbiome Associated with Cervical Cancer Development\n",
       "     publication_journal         publication_year comments      \n",
       "1    Inflammatory Bowel Diseases 2012             null          \n",
       "2    Oral Oncology               1998             null          \n",
       "⋮    ⋮                           ⋮                ⋮             \n",
       "7976 Scientific Reports          2020             LEfSe analysis\n",
       "7977 Scientific Reports          2020             LEfSe analysis\n",
       "     microbe_com_contaminant\n",
       "1    FALSE                  \n",
       "2     TRUE                  \n",
       "⋮    ⋮                      \n",
       "7976 FALSE                  \n",
       "7977 FALSE                  "
      ]
     },
     "metadata": {},
     "output_type": "display_data"
    }
   ],
   "source": [
    "F = '/ebio/abt3_projects/databases_no-backup/MicroPheno/peryton/DB.tsv'\n",
    "db = Fread(F)\n",
    "df.dims(4,40)\n",
    "db"
   ]
  },
  {
   "cell_type": "code",
   "execution_count": 33,
   "metadata": {
    "ExecuteTime": {
     "end_time": "2021-04-25T12:21:15.567131Z",
     "start_time": "2021-04-25T12:21:15.462Z"
    }
   },
   "outputs": [
    {
     "data": {
      "text/html": [
       "<table class=\"dataframe\">\n",
       "<caption>A tidytable: 7977 × 31</caption>\n",
       "<thead>\n",
       "\t<tr><th scope=col>S.No</th><th scope=col>disease_name</th><th scope=col>tax_rank_name</th><th scope=col>microbe_ncbi_tax_id</th><th scope=col>experimental_method_name</th><th scope=col>samples_origin_name</th><th scope=col>relationship_name</th><th scope=col>subjects_number</th><th scope=col>subjects_group_one</th><th scope=col>subjects_group_two</th><th scope=col>mean_age_group_one</th><th scope=col>mean_age_group_two</th><th scope=col>males_number</th><th scope=col>females_number</th><th scope=col>group_one</th><th scope=col>group_two</th><th scope=col>disease_type_name</th><th scope=col>disease_subtype</th><th scope=col>disease_mesh_id</th><th scope=col>disease_mesh_heading</th><th scope=col>host_species_name</th><th scope=col>publication_PMID</th><th scope=col>publication_doi</th><th scope=col>publication_first_author</th><th scope=col>publication_corresponding_author_mail</th><th scope=col>publication_title</th><th scope=col>publication_journal</th><th scope=col>publication_year</th><th scope=col>comments</th><th scope=col>microbe_com_contaminant</th><th scope=col>tax_name</th></tr>\n",
       "\t<tr><th scope=col>&lt;int&gt;</th><th scope=col>&lt;chr&gt;</th><th scope=col>&lt;chr&gt;</th><th scope=col>&lt;int&gt;</th><th scope=col>&lt;chr&gt;</th><th scope=col>&lt;chr&gt;</th><th scope=col>&lt;chr&gt;</th><th scope=col>&lt;chr&gt;</th><th scope=col>&lt;chr&gt;</th><th scope=col>&lt;chr&gt;</th><th scope=col>&lt;chr&gt;</th><th scope=col>&lt;chr&gt;</th><th scope=col>&lt;chr&gt;</th><th scope=col>&lt;chr&gt;</th><th scope=col>&lt;chr&gt;</th><th scope=col>&lt;chr&gt;</th><th scope=col>&lt;chr&gt;</th><th scope=col>&lt;chr&gt;</th><th scope=col>&lt;chr&gt;</th><th scope=col>&lt;chr&gt;</th><th scope=col>&lt;chr&gt;</th><th scope=col>&lt;int&gt;</th><th scope=col>&lt;chr&gt;</th><th scope=col>&lt;chr&gt;</th><th scope=col>&lt;chr&gt;</th><th scope=col>&lt;chr&gt;</th><th scope=col>&lt;chr&gt;</th><th scope=col>&lt;int&gt;</th><th scope=col>&lt;chr&gt;</th><th scope=col>&lt;lgl&gt;</th><th scope=col>&lt;chr&gt;</th></tr>\n",
       "</thead>\n",
       "<tbody>\n",
       "\t<tr><td>1</td><td>Ulcerative Colitis</td><td>Phylum</td><td>203691</td><td>16S rRNA sequencing    </td><td>Tongue brushings</td><td>Increased</td><td>74</td><td>31</td><td>43</td><td>14</td><td>14</td><td>37</td><td>37</td><td>Ulcerative Colitis</td><td>Healthy Controls</td><td>Gastrointestinal Disorders</td><td>undefined</td><td>MESH:D003093</td><td>Ulcerative Colitis</td><td>Homo sapiens</td><td>21987382</td><td>10.1002/ibd.21874                            </td><td>Docktor MJ</td><td>Michael.docktor@childrens.harvard.edu</td><td>Alterations in diversity of the oral microbiome in pediatric inflammatory bowel disease</td><td>Inflammatory Bowel Diseases</td><td>2012</td><td>null</td><td>FALSE</td><td>p__Spirochaetes</td></tr>\n",
       "\t<tr><td>2</td><td>Mouth Neoplasms   </td><td>Genus </td><td>  1654</td><td>Microbiological culture</td><td>Oral swab       </td><td>Increased</td><td>21</td><td>21</td><td>21</td><td>53</td><td>53</td><td>20</td><td>1 </td><td>Oral cancer       </td><td>Normal adjacent </td><td>Cancers                   </td><td>undefined</td><td>MESH:D009062</td><td>Mouth neoplasms   </td><td>Homo sapiens</td><td> 9813727</td><td>https://doi.org/10.1016/S1368-8375(98)80012-2</td><td>K.N. Nagy </td><td>nagynk@stoma.szote.u-szeged.hu       </td><td>The microflora associated with human oral carcinomas                                   </td><td>Oral Oncology              </td><td>1998</td><td>null</td><td> TRUE</td><td>g__Actinomyces </td></tr>\n",
       "\t<tr><td>⋮</td><td>⋮</td><td>⋮</td><td>⋮</td><td>⋮</td><td>⋮</td><td>⋮</td><td>⋮</td><td>⋮</td><td>⋮</td><td>⋮</td><td>⋮</td><td>⋮</td><td>⋮</td><td>⋮</td><td>⋮</td><td>⋮</td><td>⋮</td><td>⋮</td><td>⋮</td><td>⋮</td><td>⋮</td><td>⋮</td><td>⋮</td><td>⋮</td><td>⋮</td><td>⋮</td><td>⋮</td><td>⋮</td><td>⋮</td><td>⋮</td></tr>\n",
       "\t<tr><td>7976</td><td>Uterine Cervical Neoplasms</td><td>Species</td><td> 1313</td><td>16S rRNA sequencing</td><td>Cervical swab</td><td>Increased</td><td>92</td><td>42</td><td>50</td><td>45.7</td><td>45.1</td><td>null</td><td>92</td><td>Cervical cancer</td><td>Healthy Controls</td><td>Cancers</td><td>undefined</td><td>MESH:D002583</td><td>Uterine Cervical neoplasms</td><td>Homo sapiens</td><td>32546712</td><td>10.1038/s41598-020-66607-4</td><td>Charles Nkufi Tango</td><td>alrud@ncc.re.kr</td><td>Taxonomic and Functional Differences in Cervical Microbiome Associated with Cervical Cancer Development</td><td>Scientific Reports</td><td>2020</td><td>LEfSe analysis</td><td>FALSE</td><td>s__Streptococcus pneumoniae</td></tr>\n",
       "\t<tr><td>7977</td><td>Uterine Cervical Neoplasms</td><td>Genus  </td><td>46255</td><td>16S rRNA sequencing</td><td>Cervical swab</td><td>Present  </td><td>92</td><td>42</td><td>50</td><td>45.7</td><td>45.1</td><td>null</td><td>92</td><td>Cervical cancer</td><td>Healthy Controls</td><td>Cancers</td><td>undefined</td><td>MESH:D002583</td><td>Uterine Cervical neoplasms</td><td>Homo sapiens</td><td>32546712</td><td>10.1038/s41598-020-66607-4</td><td>Charles Nkufi Tango</td><td>alrud@ncc.re.kr</td><td>Taxonomic and Functional Differences in Cervical Microbiome Associated with Cervical Cancer Development</td><td>Scientific Reports</td><td>2020</td><td>LEfSe analysis</td><td>FALSE</td><td>g__Weissella               </td></tr>\n",
       "</tbody>\n",
       "</table>\n"
      ],
      "text/latex": [
       "A tidytable: 7977 × 31\n",
       "\\begin{tabular}{lllllllllllllllllllllllllllllll}\n",
       " S.No & disease\\_name & tax\\_rank\\_name & microbe\\_ncbi\\_tax\\_id & experimental\\_method\\_name & samples\\_origin\\_name & relationship\\_name & subjects\\_number & subjects\\_group\\_one & subjects\\_group\\_two & mean\\_age\\_group\\_one & mean\\_age\\_group\\_two & males\\_number & females\\_number & group\\_one & group\\_two & disease\\_type\\_name & disease\\_subtype & disease\\_mesh\\_id & disease\\_mesh\\_heading & host\\_species\\_name & publication\\_PMID & publication\\_doi & publication\\_first\\_author & publication\\_corresponding\\_author\\_mail & publication\\_title & publication\\_journal & publication\\_year & comments & microbe\\_com\\_contaminant & tax\\_name\\\\\n",
       " <int> & <chr> & <chr> & <int> & <chr> & <chr> & <chr> & <chr> & <chr> & <chr> & <chr> & <chr> & <chr> & <chr> & <chr> & <chr> & <chr> & <chr> & <chr> & <chr> & <chr> & <int> & <chr> & <chr> & <chr> & <chr> & <chr> & <int> & <chr> & <lgl> & <chr>\\\\\n",
       "\\hline\n",
       "\t 1 & Ulcerative Colitis & Phylum & 203691 & 16S rRNA sequencing     & Tongue brushings & Increased & 74 & 31 & 43 & 14 & 14 & 37 & 37 & Ulcerative Colitis & Healthy Controls & Gastrointestinal Disorders & undefined & MESH:D003093 & Ulcerative Colitis & Homo sapiens & 21987382 & 10.1002/ibd.21874                             & Docktor MJ & Michael.docktor@childrens.harvard.edu & Alterations in diversity of the oral microbiome in pediatric inflammatory bowel disease & Inflammatory Bowel Diseases & 2012 & null & FALSE & p\\_\\_Spirochaetes\\\\\n",
       "\t 2 & Mouth Neoplasms    & Genus  &   1654 & Microbiological culture & Oral swab        & Increased & 21 & 21 & 21 & 53 & 53 & 20 & 1  & Oral cancer        & Normal adjacent  & Cancers                    & undefined & MESH:D009062 & Mouth neoplasms    & Homo sapiens &  9813727 & https://doi.org/10.1016/S1368-8375(98)80012-2 & K.N. Nagy  & nagynk@stoma.szote.u-szeged.hu        & The microflora associated with human oral carcinomas                                    & Oral Oncology               & 1998 & null &  TRUE & g\\_\\_Actinomyces \\\\\n",
       "\t ⋮ & ⋮ & ⋮ & ⋮ & ⋮ & ⋮ & ⋮ & ⋮ & ⋮ & ⋮ & ⋮ & ⋮ & ⋮ & ⋮ & ⋮ & ⋮ & ⋮ & ⋮ & ⋮ & ⋮ & ⋮ & ⋮ & ⋮ & ⋮ & ⋮ & ⋮ & ⋮ & ⋮ & ⋮ & ⋮ & ⋮\\\\\n",
       "\t 7976 & Uterine Cervical Neoplasms & Species &  1313 & 16S rRNA sequencing & Cervical swab & Increased & 92 & 42 & 50 & 45.7 & 45.1 & null & 92 & Cervical cancer & Healthy Controls & Cancers & undefined & MESH:D002583 & Uterine Cervical neoplasms & Homo sapiens & 32546712 & 10.1038/s41598-020-66607-4 & Charles Nkufi Tango & alrud@ncc.re.kr & Taxonomic and Functional Differences in Cervical Microbiome Associated with Cervical Cancer Development & Scientific Reports & 2020 & LEfSe analysis & FALSE & s\\_\\_Streptococcus pneumoniae\\\\\n",
       "\t 7977 & Uterine Cervical Neoplasms & Genus   & 46255 & 16S rRNA sequencing & Cervical swab & Present   & 92 & 42 & 50 & 45.7 & 45.1 & null & 92 & Cervical cancer & Healthy Controls & Cancers & undefined & MESH:D002583 & Uterine Cervical neoplasms & Homo sapiens & 32546712 & 10.1038/s41598-020-66607-4 & Charles Nkufi Tango & alrud@ncc.re.kr & Taxonomic and Functional Differences in Cervical Microbiome Associated with Cervical Cancer Development & Scientific Reports & 2020 & LEfSe analysis & FALSE & g\\_\\_Weissella               \\\\\n",
       "\\end{tabular}\n"
      ],
      "text/markdown": [
       "\n",
       "A tidytable: 7977 × 31\n",
       "\n",
       "| S.No &lt;int&gt; | disease_name &lt;chr&gt; | tax_rank_name &lt;chr&gt; | microbe_ncbi_tax_id &lt;int&gt; | experimental_method_name &lt;chr&gt; | samples_origin_name &lt;chr&gt; | relationship_name &lt;chr&gt; | subjects_number &lt;chr&gt; | subjects_group_one &lt;chr&gt; | subjects_group_two &lt;chr&gt; | mean_age_group_one &lt;chr&gt; | mean_age_group_two &lt;chr&gt; | males_number &lt;chr&gt; | females_number &lt;chr&gt; | group_one &lt;chr&gt; | group_two &lt;chr&gt; | disease_type_name &lt;chr&gt; | disease_subtype &lt;chr&gt; | disease_mesh_id &lt;chr&gt; | disease_mesh_heading &lt;chr&gt; | host_species_name &lt;chr&gt; | publication_PMID &lt;int&gt; | publication_doi &lt;chr&gt; | publication_first_author &lt;chr&gt; | publication_corresponding_author_mail &lt;chr&gt; | publication_title &lt;chr&gt; | publication_journal &lt;chr&gt; | publication_year &lt;int&gt; | comments &lt;chr&gt; | microbe_com_contaminant &lt;lgl&gt; | tax_name &lt;chr&gt; |\n",
       "|---|---|---|---|---|---|---|---|---|---|---|---|---|---|---|---|---|---|---|---|---|---|---|---|---|---|---|---|---|---|---|\n",
       "| 1 | Ulcerative Colitis | Phylum | 203691 | 16S rRNA sequencing     | Tongue brushings | Increased | 74 | 31 | 43 | 14 | 14 | 37 | 37 | Ulcerative Colitis | Healthy Controls | Gastrointestinal Disorders | undefined | MESH:D003093 | Ulcerative Colitis | Homo sapiens | 21987382 | 10.1002/ibd.21874                             | Docktor MJ | Michael.docktor@childrens.harvard.edu | Alterations in diversity of the oral microbiome in pediatric inflammatory bowel disease | Inflammatory Bowel Diseases | 2012 | null | FALSE | p__Spirochaetes |\n",
       "| 2 | Mouth Neoplasms    | Genus  |   1654 | Microbiological culture | Oral swab        | Increased | 21 | 21 | 21 | 53 | 53 | 20 | 1  | Oral cancer        | Normal adjacent  | Cancers                    | undefined | MESH:D009062 | Mouth neoplasms    | Homo sapiens |  9813727 | https://doi.org/10.1016/S1368-8375(98)80012-2 | K.N. Nagy  | nagynk@stoma.szote.u-szeged.hu        | The microflora associated with human oral carcinomas                                    | Oral Oncology               | 1998 | null |  TRUE | g__Actinomyces  |\n",
       "| ⋮ | ⋮ | ⋮ | ⋮ | ⋮ | ⋮ | ⋮ | ⋮ | ⋮ | ⋮ | ⋮ | ⋮ | ⋮ | ⋮ | ⋮ | ⋮ | ⋮ | ⋮ | ⋮ | ⋮ | ⋮ | ⋮ | ⋮ | ⋮ | ⋮ | ⋮ | ⋮ | ⋮ | ⋮ | ⋮ | ⋮ |\n",
       "| 7976 | Uterine Cervical Neoplasms | Species |  1313 | 16S rRNA sequencing | Cervical swab | Increased | 92 | 42 | 50 | 45.7 | 45.1 | null | 92 | Cervical cancer | Healthy Controls | Cancers | undefined | MESH:D002583 | Uterine Cervical neoplasms | Homo sapiens | 32546712 | 10.1038/s41598-020-66607-4 | Charles Nkufi Tango | alrud@ncc.re.kr | Taxonomic and Functional Differences in Cervical Microbiome Associated with Cervical Cancer Development | Scientific Reports | 2020 | LEfSe analysis | FALSE | s__Streptococcus pneumoniae |\n",
       "| 7977 | Uterine Cervical Neoplasms | Genus   | 46255 | 16S rRNA sequencing | Cervical swab | Present   | 92 | 42 | 50 | 45.7 | 45.1 | null | 92 | Cervical cancer | Healthy Controls | Cancers | undefined | MESH:D002583 | Uterine Cervical neoplasms | Homo sapiens | 32546712 | 10.1038/s41598-020-66607-4 | Charles Nkufi Tango | alrud@ncc.re.kr | Taxonomic and Functional Differences in Cervical Microbiome Associated with Cervical Cancer Development | Scientific Reports | 2020 | LEfSe analysis | FALSE | g__Weissella                |\n",
       "\n"
      ],
      "text/plain": [
       "     S.No disease_name               tax_rank_name microbe_ncbi_tax_id\n",
       "1    1    Ulcerative Colitis         Phylum        203691             \n",
       "2    2    Mouth Neoplasms            Genus           1654             \n",
       "⋮    ⋮    ⋮                          ⋮             ⋮                  \n",
       "7976 7976 Uterine Cervical Neoplasms Species        1313              \n",
       "7977 7977 Uterine Cervical Neoplasms Genus         46255              \n",
       "     experimental_method_name samples_origin_name relationship_name\n",
       "1    16S rRNA sequencing      Tongue brushings    Increased        \n",
       "2    Microbiological culture  Oral swab           Increased        \n",
       "⋮    ⋮                        ⋮                   ⋮                \n",
       "7976 16S rRNA sequencing      Cervical swab       Increased        \n",
       "7977 16S rRNA sequencing      Cervical swab       Present          \n",
       "     subjects_number subjects_group_one subjects_group_two mean_age_group_one\n",
       "1    74              31                 43                 14                \n",
       "2    21              21                 21                 53                \n",
       "⋮    ⋮               ⋮                  ⋮                  ⋮                 \n",
       "7976 92              42                 50                 45.7              \n",
       "7977 92              42                 50                 45.7              \n",
       "     mean_age_group_two males_number females_number group_one         \n",
       "1    14                 37           37             Ulcerative Colitis\n",
       "2    53                 20           1              Oral cancer       \n",
       "⋮    ⋮                  ⋮            ⋮              ⋮                 \n",
       "7976 45.1               null         92             Cervical cancer   \n",
       "7977 45.1               null         92             Cervical cancer   \n",
       "     group_two        disease_type_name          disease_subtype\n",
       "1    Healthy Controls Gastrointestinal Disorders undefined      \n",
       "2    Normal adjacent  Cancers                    undefined      \n",
       "⋮    ⋮                ⋮                          ⋮              \n",
       "7976 Healthy Controls Cancers                    undefined      \n",
       "7977 Healthy Controls Cancers                    undefined      \n",
       "     disease_mesh_id disease_mesh_heading       host_species_name\n",
       "1    MESH:D003093    Ulcerative Colitis         Homo sapiens     \n",
       "2    MESH:D009062    Mouth neoplasms            Homo sapiens     \n",
       "⋮    ⋮               ⋮                          ⋮                \n",
       "7976 MESH:D002583    Uterine Cervical neoplasms Homo sapiens     \n",
       "7977 MESH:D002583    Uterine Cervical neoplasms Homo sapiens     \n",
       "     publication_PMID publication_doi                              \n",
       "1    21987382         10.1002/ibd.21874                            \n",
       "2     9813727         https://doi.org/10.1016/S1368-8375(98)80012-2\n",
       "⋮    ⋮                ⋮                                            \n",
       "7976 32546712         10.1038/s41598-020-66607-4                   \n",
       "7977 32546712         10.1038/s41598-020-66607-4                   \n",
       "     publication_first_author publication_corresponding_author_mail\n",
       "1    Docktor MJ               Michael.docktor@childrens.harvard.edu\n",
       "2    K.N. Nagy                nagynk@stoma.szote.u-szeged.hu       \n",
       "⋮    ⋮                        ⋮                                    \n",
       "7976 Charles Nkufi Tango      alrud@ncc.re.kr                      \n",
       "7977 Charles Nkufi Tango      alrud@ncc.re.kr                      \n",
       "     publication_title                                                                                      \n",
       "1    Alterations in diversity of the oral microbiome in pediatric inflammatory bowel disease                \n",
       "2    The microflora associated with human oral carcinomas                                                   \n",
       "⋮    ⋮                                                                                                      \n",
       "7976 Taxonomic and Functional Differences in Cervical Microbiome Associated with Cervical Cancer Development\n",
       "7977 Taxonomic and Functional Differences in Cervical Microbiome Associated with Cervical Cancer Development\n",
       "     publication_journal         publication_year comments      \n",
       "1    Inflammatory Bowel Diseases 2012             null          \n",
       "2    Oral Oncology               1998             null          \n",
       "⋮    ⋮                           ⋮                ⋮             \n",
       "7976 Scientific Reports          2020             LEfSe analysis\n",
       "7977 Scientific Reports          2020             LEfSe analysis\n",
       "     microbe_com_contaminant tax_name                   \n",
       "1    FALSE                   p__Spirochaetes            \n",
       "2     TRUE                   g__Actinomyces             \n",
       "⋮    ⋮                       ⋮                          \n",
       "7976 FALSE                   s__Streptococcus pneumoniae\n",
       "7977 FALSE                   g__Weissella               "
      ]
     },
     "metadata": {},
     "output_type": "display_data"
    }
   ],
   "source": [
    "db_f = db %>%\n",
    "    mutate.(prefix = stringr::str_to_lower(stringr::str_trunc(tax_rank_name, 1, ellipsis=''))) %>%\n",
    "    unite.(prefix, microbe_scientific_name, col='tax_name', sep='__')\n",
    "db_f"
   ]
  },
  {
   "cell_type": "code",
   "execution_count": 41,
   "metadata": {
    "ExecuteTime": {
     "end_time": "2021-04-25T12:37:23.569631Z",
     "start_time": "2021-04-25T12:37:23.499Z"
    }
   },
   "outputs": [
    {
     "name": "stdout",
     "output_type": "stream",
     "text": [
      "File written: /ebio/abt3_projects/databases_no-backup/MicroPheno/peryton/DB_f.tsv \n"
     ]
    }
   ],
   "source": [
    "F = '/ebio/abt3_projects/databases_no-backup/MicroPheno/peryton/DB_f.tsv'\n",
    "write_table(db_f, F)"
   ]
  },
  {
   "cell_type": "code",
   "execution_count": 42,
   "metadata": {
    "ExecuteTime": {
     "end_time": "2021-04-25T13:07:08.649158Z",
     "start_time": "2021-04-25T13:07:08.531Z"
    }
   },
   "outputs": [
    {
     "data": {
      "text/html": [
       "<table class=\"dataframe\">\n",
       "<caption>A data.table: 1396 × 5</caption>\n",
       "<thead>\n",
       "\t<tr><th scope=col>ncbi_taxonomy</th><th scope=col>gtdb_taxonomy</th><th scope=col>lca_frac</th><th scope=col>target_tax_level</th><th scope=col>lineage</th></tr>\n",
       "\t<tr><th scope=col>&lt;chr&gt;</th><th scope=col>&lt;chr&gt;</th><th scope=col>&lt;dbl&gt;</th><th scope=col>&lt;chr&gt;</th><th scope=col>&lt;chr&gt;</th></tr>\n",
       "</thead>\n",
       "<tbody>\n",
       "\t<tr><td>p__Spirochaetes</td><td>p__Spirochaetota   </td><td>0.98</td><td>phylum</td><td>d__bacteria;p__spirochaetota                                                           </td></tr>\n",
       "\t<tr><td>g__Actinomyces </td><td>f__Actinomycetaceae</td><td>1.00</td><td>family</td><td>d__bacteria;p__actinobacteriota;c__actinomycetia;o__actinomycetales;f__actinomycetaceae</td></tr>\n",
       "\t<tr><td>⋮</td><td>⋮</td><td>⋮</td><td>⋮</td><td>⋮</td></tr>\n",
       "\t<tr><td>s__Prevotella amnii        </td><td>s__Prevotella amnii        </td><td>1</td><td>species</td><td>d__bacteria;p__bacteroidota;c__bacteroidia;o__bacteroidales;f__bacteroidaceae;g__prevotella;s__prevotella amnii         </td></tr>\n",
       "\t<tr><td>s__Streptococcus pneumoniae</td><td>s__Streptococcus pneumoniae</td><td>1</td><td>species</td><td>d__bacteria;p__firmicutes;c__bacilli;o__lactobacillales;f__streptococcaceae;g__streptococcus;s__streptococcus pneumoniae</td></tr>\n",
       "</tbody>\n",
       "</table>\n"
      ],
      "text/latex": [
       "A data.table: 1396 × 5\n",
       "\\begin{tabular}{lllll}\n",
       " ncbi\\_taxonomy & gtdb\\_taxonomy & lca\\_frac & target\\_tax\\_level & lineage\\\\\n",
       " <chr> & <chr> & <dbl> & <chr> & <chr>\\\\\n",
       "\\hline\n",
       "\t p\\_\\_Spirochaetes & p\\_\\_Spirochaetota    & 0.98 & phylum & d\\_\\_bacteria;p\\_\\_spirochaetota                                                           \\\\\n",
       "\t g\\_\\_Actinomyces  & f\\_\\_Actinomycetaceae & 1.00 & family & d\\_\\_bacteria;p\\_\\_actinobacteriota;c\\_\\_actinomycetia;o\\_\\_actinomycetales;f\\_\\_actinomycetaceae\\\\\n",
       "\t ⋮ & ⋮ & ⋮ & ⋮ & ⋮\\\\\n",
       "\t s\\_\\_Prevotella amnii         & s\\_\\_Prevotella amnii         & 1 & species & d\\_\\_bacteria;p\\_\\_bacteroidota;c\\_\\_bacteroidia;o\\_\\_bacteroidales;f\\_\\_bacteroidaceae;g\\_\\_prevotella;s\\_\\_prevotella amnii         \\\\\n",
       "\t s\\_\\_Streptococcus pneumoniae & s\\_\\_Streptococcus pneumoniae & 1 & species & d\\_\\_bacteria;p\\_\\_firmicutes;c\\_\\_bacilli;o\\_\\_lactobacillales;f\\_\\_streptococcaceae;g\\_\\_streptococcus;s\\_\\_streptococcus pneumoniae\\\\\n",
       "\\end{tabular}\n"
      ],
      "text/markdown": [
       "\n",
       "A data.table: 1396 × 5\n",
       "\n",
       "| ncbi_taxonomy &lt;chr&gt; | gtdb_taxonomy &lt;chr&gt; | lca_frac &lt;dbl&gt; | target_tax_level &lt;chr&gt; | lineage &lt;chr&gt; |\n",
       "|---|---|---|---|---|\n",
       "| p__Spirochaetes | p__Spirochaetota    | 0.98 | phylum | d__bacteria;p__spirochaetota                                                            |\n",
       "| g__Actinomyces  | f__Actinomycetaceae | 1.00 | family | d__bacteria;p__actinobacteriota;c__actinomycetia;o__actinomycetales;f__actinomycetaceae |\n",
       "| ⋮ | ⋮ | ⋮ | ⋮ | ⋮ |\n",
       "| s__Prevotella amnii         | s__Prevotella amnii         | 1 | species | d__bacteria;p__bacteroidota;c__bacteroidia;o__bacteroidales;f__bacteroidaceae;g__prevotella;s__prevotella amnii          |\n",
       "| s__Streptococcus pneumoniae | s__Streptococcus pneumoniae | 1 | species | d__bacteria;p__firmicutes;c__bacilli;o__lactobacillales;f__streptococcaceae;g__streptococcus;s__streptococcus pneumoniae |\n",
       "\n"
      ],
      "text/plain": [
       "     ncbi_taxonomy               gtdb_taxonomy               lca_frac\n",
       "1    p__Spirochaetes             p__Spirochaetota            0.98    \n",
       "2    g__Actinomyces              f__Actinomycetaceae         1.00    \n",
       "⋮    ⋮                           ⋮                           ⋮       \n",
       "1395 s__Prevotella amnii         s__Prevotella amnii         1       \n",
       "1396 s__Streptococcus pneumoniae s__Streptococcus pneumoniae 1       \n",
       "     target_tax_level\n",
       "1    phylum          \n",
       "2    family          \n",
       "⋮    ⋮               \n",
       "1395 species         \n",
       "1396 species         \n",
       "     lineage                                                                                                                 \n",
       "1    d__bacteria;p__spirochaetota                                                                                            \n",
       "2    d__bacteria;p__actinobacteriota;c__actinomycetia;o__actinomycetales;f__actinomycetaceae                                 \n",
       "⋮    ⋮                                                                                                                       \n",
       "1395 d__bacteria;p__bacteroidota;c__bacteroidia;o__bacteroidales;f__bacteroidaceae;g__prevotella;s__prevotella amnii         \n",
       "1396 d__bacteria;p__firmicutes;c__bacilli;o__lactobacillales;f__streptococcaceae;g__streptococcus;s__streptococcus pneumoniae"
      ]
     },
     "metadata": {},
     "output_type": "display_data"
    }
   ],
   "source": [
    "# gtdb taxids\n",
    "F = '/ebio/abt3_projects/software/dev/gtdb_to_taxdump/ncbi-gtdb/taxonomy_map_summary.tsv'\n",
    "taxids = Fread(F)\n",
    "taxids"
   ]
  },
  {
   "cell_type": "code",
   "execution_count": 43,
   "metadata": {
    "ExecuteTime": {
     "end_time": "2021-04-25T13:07:09.072965Z",
     "start_time": "2021-04-25T13:07:08.942Z"
    }
   },
   "outputs": [
    {
     "name": "stdout",
     "output_type": "stream",
     "text": [
      "intersect(x,y): 1396 \n",
      "setdiff(x,y): 0 \n",
      "setdiff(y,x): 0 \n",
      "union(x,y): 1396 \n"
     ]
    },
    {
     "data": {
      "text/html": [
       "<table class=\"dataframe\">\n",
       "<caption>A tidytable: 7977 × 34</caption>\n",
       "<thead>\n",
       "\t<tr><th scope=col>S.No</th><th scope=col>disease_name</th><th scope=col>tax_rank_name</th><th scope=col>microbe_ncbi_tax_id</th><th scope=col>experimental_method_name</th><th scope=col>samples_origin_name</th><th scope=col>relationship_name</th><th scope=col>subjects_number</th><th scope=col>subjects_group_one</th><th scope=col>subjects_group_two</th><th scope=col>mean_age_group_one</th><th scope=col>mean_age_group_two</th><th scope=col>males_number</th><th scope=col>females_number</th><th scope=col>group_one</th><th scope=col>group_two</th><th scope=col>disease_type_name</th><th scope=col>disease_subtype</th><th scope=col>disease_mesh_id</th><th scope=col>disease_mesh_heading</th><th scope=col>host_species_name</th><th scope=col>publication_PMID</th><th scope=col>publication_doi</th><th scope=col>publication_first_author</th><th scope=col>publication_corresponding_author_mail</th><th scope=col>publication_title</th><th scope=col>publication_journal</th><th scope=col>publication_year</th><th scope=col>comments</th><th scope=col>microbe_com_contaminant</th><th scope=col>tax_name</th><th scope=col>gtdb_taxonomy</th><th scope=col>gtdb_taxid_tax_level</th><th scope=col>gtdb_lineage</th></tr>\n",
       "\t<tr><th scope=col>&lt;int&gt;</th><th scope=col>&lt;chr&gt;</th><th scope=col>&lt;chr&gt;</th><th scope=col>&lt;int&gt;</th><th scope=col>&lt;chr&gt;</th><th scope=col>&lt;chr&gt;</th><th scope=col>&lt;chr&gt;</th><th scope=col>&lt;chr&gt;</th><th scope=col>&lt;chr&gt;</th><th scope=col>&lt;chr&gt;</th><th scope=col>&lt;chr&gt;</th><th scope=col>&lt;chr&gt;</th><th scope=col>&lt;chr&gt;</th><th scope=col>&lt;chr&gt;</th><th scope=col>&lt;chr&gt;</th><th scope=col>&lt;chr&gt;</th><th scope=col>&lt;chr&gt;</th><th scope=col>&lt;chr&gt;</th><th scope=col>&lt;chr&gt;</th><th scope=col>&lt;chr&gt;</th><th scope=col>&lt;chr&gt;</th><th scope=col>&lt;int&gt;</th><th scope=col>&lt;chr&gt;</th><th scope=col>&lt;chr&gt;</th><th scope=col>&lt;chr&gt;</th><th scope=col>&lt;chr&gt;</th><th scope=col>&lt;chr&gt;</th><th scope=col>&lt;int&gt;</th><th scope=col>&lt;chr&gt;</th><th scope=col>&lt;lgl&gt;</th><th scope=col>&lt;chr&gt;</th><th scope=col>&lt;chr&gt;</th><th scope=col>&lt;chr&gt;</th><th scope=col>&lt;chr&gt;</th></tr>\n",
       "</thead>\n",
       "<tbody>\n",
       "\t<tr><td>  1</td><td>Ulcerative Colitis</td><td>Phylum</td><td>203691</td><td>16S rRNA sequencing     </td><td>Tongue brushings</td><td>Increased</td><td>74</td><td>31</td><td>43</td><td>14  </td><td>14  </td><td>37</td><td>37</td><td>Ulcerative Colitis</td><td>Healthy Controls</td><td>Gastrointestinal Disorders</td><td>undefined</td><td>MESH:D003093</td><td>Ulcerative Colitis</td><td>Homo sapiens</td><td>21987382</td><td>10.1002/ibd.21874</td><td>Docktor MJ   </td><td>Michael.docktor@childrens.harvard.edu</td><td>Alterations in diversity of the oral microbiome in pediatric inflammatory bowel disease</td><td>Inflammatory Bowel Diseases</td><td>2012</td><td>null</td><td>FALSE</td><td>p__Spirochaetes</td><td>p__Spirochaetota</td><td>phylum</td><td>d__bacteria;p__spirochaetota</td></tr>\n",
       "\t<tr><td>418</td><td>Ulcerative Colitis</td><td>Phylum</td><td>203691</td><td>Microarray hybridization</td><td>Stool           </td><td>Increased</td><td>53</td><td>27</td><td>26</td><td>13.6</td><td>13.3</td><td>31</td><td>22</td><td>Ulcerative Colitis</td><td>Healthy Controls</td><td>Gastrointestinal Disorders</td><td>undefined</td><td>MESH:D003093</td><td>Ulcerative Colitis</td><td>Homo sapiens</td><td>22170749</td><td>10.1002/ibd.22860</td><td>Sonia Michail</td><td>Sonia.michail@hotmail.com            </td><td>Alterations in the gut microbiome of children with severe ulcerative colitis           </td><td>Inflammatory Bowel Diseases</td><td>2012</td><td>null</td><td>FALSE</td><td>p__Spirochaetes</td><td>p__Spirochaetota</td><td>phylum</td><td>d__bacteria;p__spirochaetota</td></tr>\n",
       "\t<tr><td>⋮</td><td>⋮</td><td>⋮</td><td>⋮</td><td>⋮</td><td>⋮</td><td>⋮</td><td>⋮</td><td>⋮</td><td>⋮</td><td>⋮</td><td>⋮</td><td>⋮</td><td>⋮</td><td>⋮</td><td>⋮</td><td>⋮</td><td>⋮</td><td>⋮</td><td>⋮</td><td>⋮</td><td>⋮</td><td>⋮</td><td>⋮</td><td>⋮</td><td>⋮</td><td>⋮</td><td>⋮</td><td>⋮</td><td>⋮</td><td>⋮</td><td>⋮</td><td>⋮</td><td>⋮</td></tr>\n",
       "\t<tr><td>7970</td><td>Uterine Cervical Neoplasms</td><td>Species</td><td>419005</td><td>16S rRNA sequencing</td><td>Cervical swab</td><td>Increased</td><td>92</td><td>42</td><td>50</td><td>45.7</td><td>45.1</td><td>null</td><td>92</td><td>Cervical cancer</td><td>Healthy Controls</td><td>Cancers</td><td>undefined</td><td>MESH:D002583</td><td>Uterine Cervical neoplasms</td><td>Homo sapiens</td><td>32546712</td><td>10.1038/s41598-020-66607-4</td><td>Charles Nkufi Tango</td><td>alrud@ncc.re.kr</td><td>Taxonomic and Functional Differences in Cervical Microbiome Associated with Cervical Cancer Development</td><td>Scientific Reports</td><td>2020</td><td>LEfSe analysis</td><td>FALSE</td><td>s__Prevotella amnii        </td><td>s__Prevotella amnii        </td><td>species</td><td>d__bacteria;p__bacteroidota;c__bacteroidia;o__bacteroidales;f__bacteroidaceae;g__prevotella;s__prevotella amnii         </td></tr>\n",
       "\t<tr><td>7976</td><td>Uterine Cervical Neoplasms</td><td>Species</td><td>  1313</td><td>16S rRNA sequencing</td><td>Cervical swab</td><td>Increased</td><td>92</td><td>42</td><td>50</td><td>45.7</td><td>45.1</td><td>null</td><td>92</td><td>Cervical cancer</td><td>Healthy Controls</td><td>Cancers</td><td>undefined</td><td>MESH:D002583</td><td>Uterine Cervical neoplasms</td><td>Homo sapiens</td><td>32546712</td><td>10.1038/s41598-020-66607-4</td><td>Charles Nkufi Tango</td><td>alrud@ncc.re.kr</td><td>Taxonomic and Functional Differences in Cervical Microbiome Associated with Cervical Cancer Development</td><td>Scientific Reports</td><td>2020</td><td>LEfSe analysis</td><td>FALSE</td><td>s__Streptococcus pneumoniae</td><td>s__Streptococcus pneumoniae</td><td>species</td><td>d__bacteria;p__firmicutes;c__bacilli;o__lactobacillales;f__streptococcaceae;g__streptococcus;s__streptococcus pneumoniae</td></tr>\n",
       "</tbody>\n",
       "</table>\n"
      ],
      "text/latex": [
       "A tidytable: 7977 × 34\n",
       "\\begin{tabular}{llllllllllllllllllllllllllllllllll}\n",
       " S.No & disease\\_name & tax\\_rank\\_name & microbe\\_ncbi\\_tax\\_id & experimental\\_method\\_name & samples\\_origin\\_name & relationship\\_name & subjects\\_number & subjects\\_group\\_one & subjects\\_group\\_two & mean\\_age\\_group\\_one & mean\\_age\\_group\\_two & males\\_number & females\\_number & group\\_one & group\\_two & disease\\_type\\_name & disease\\_subtype & disease\\_mesh\\_id & disease\\_mesh\\_heading & host\\_species\\_name & publication\\_PMID & publication\\_doi & publication\\_first\\_author & publication\\_corresponding\\_author\\_mail & publication\\_title & publication\\_journal & publication\\_year & comments & microbe\\_com\\_contaminant & tax\\_name & gtdb\\_taxonomy & gtdb\\_taxid\\_tax\\_level & gtdb\\_lineage\\\\\n",
       " <int> & <chr> & <chr> & <int> & <chr> & <chr> & <chr> & <chr> & <chr> & <chr> & <chr> & <chr> & <chr> & <chr> & <chr> & <chr> & <chr> & <chr> & <chr> & <chr> & <chr> & <int> & <chr> & <chr> & <chr> & <chr> & <chr> & <int> & <chr> & <lgl> & <chr> & <chr> & <chr> & <chr>\\\\\n",
       "\\hline\n",
       "\t   1 & Ulcerative Colitis & Phylum & 203691 & 16S rRNA sequencing      & Tongue brushings & Increased & 74 & 31 & 43 & 14   & 14   & 37 & 37 & Ulcerative Colitis & Healthy Controls & Gastrointestinal Disorders & undefined & MESH:D003093 & Ulcerative Colitis & Homo sapiens & 21987382 & 10.1002/ibd.21874 & Docktor MJ    & Michael.docktor@childrens.harvard.edu & Alterations in diversity of the oral microbiome in pediatric inflammatory bowel disease & Inflammatory Bowel Diseases & 2012 & null & FALSE & p\\_\\_Spirochaetes & p\\_\\_Spirochaetota & phylum & d\\_\\_bacteria;p\\_\\_spirochaetota\\\\\n",
       "\t 418 & Ulcerative Colitis & Phylum & 203691 & Microarray hybridization & Stool            & Increased & 53 & 27 & 26 & 13.6 & 13.3 & 31 & 22 & Ulcerative Colitis & Healthy Controls & Gastrointestinal Disorders & undefined & MESH:D003093 & Ulcerative Colitis & Homo sapiens & 22170749 & 10.1002/ibd.22860 & Sonia Michail & Sonia.michail@hotmail.com             & Alterations in the gut microbiome of children with severe ulcerative colitis            & Inflammatory Bowel Diseases & 2012 & null & FALSE & p\\_\\_Spirochaetes & p\\_\\_Spirochaetota & phylum & d\\_\\_bacteria;p\\_\\_spirochaetota\\\\\n",
       "\t ⋮ & ⋮ & ⋮ & ⋮ & ⋮ & ⋮ & ⋮ & ⋮ & ⋮ & ⋮ & ⋮ & ⋮ & ⋮ & ⋮ & ⋮ & ⋮ & ⋮ & ⋮ & ⋮ & ⋮ & ⋮ & ⋮ & ⋮ & ⋮ & ⋮ & ⋮ & ⋮ & ⋮ & ⋮ & ⋮ & ⋮ & ⋮ & ⋮ & ⋮\\\\\n",
       "\t 7970 & Uterine Cervical Neoplasms & Species & 419005 & 16S rRNA sequencing & Cervical swab & Increased & 92 & 42 & 50 & 45.7 & 45.1 & null & 92 & Cervical cancer & Healthy Controls & Cancers & undefined & MESH:D002583 & Uterine Cervical neoplasms & Homo sapiens & 32546712 & 10.1038/s41598-020-66607-4 & Charles Nkufi Tango & alrud@ncc.re.kr & Taxonomic and Functional Differences in Cervical Microbiome Associated with Cervical Cancer Development & Scientific Reports & 2020 & LEfSe analysis & FALSE & s\\_\\_Prevotella amnii         & s\\_\\_Prevotella amnii         & species & d\\_\\_bacteria;p\\_\\_bacteroidota;c\\_\\_bacteroidia;o\\_\\_bacteroidales;f\\_\\_bacteroidaceae;g\\_\\_prevotella;s\\_\\_prevotella amnii         \\\\\n",
       "\t 7976 & Uterine Cervical Neoplasms & Species &   1313 & 16S rRNA sequencing & Cervical swab & Increased & 92 & 42 & 50 & 45.7 & 45.1 & null & 92 & Cervical cancer & Healthy Controls & Cancers & undefined & MESH:D002583 & Uterine Cervical neoplasms & Homo sapiens & 32546712 & 10.1038/s41598-020-66607-4 & Charles Nkufi Tango & alrud@ncc.re.kr & Taxonomic and Functional Differences in Cervical Microbiome Associated with Cervical Cancer Development & Scientific Reports & 2020 & LEfSe analysis & FALSE & s\\_\\_Streptococcus pneumoniae & s\\_\\_Streptococcus pneumoniae & species & d\\_\\_bacteria;p\\_\\_firmicutes;c\\_\\_bacilli;o\\_\\_lactobacillales;f\\_\\_streptococcaceae;g\\_\\_streptococcus;s\\_\\_streptococcus pneumoniae\\\\\n",
       "\\end{tabular}\n"
      ],
      "text/markdown": [
       "\n",
       "A tidytable: 7977 × 34\n",
       "\n",
       "| S.No &lt;int&gt; | disease_name &lt;chr&gt; | tax_rank_name &lt;chr&gt; | microbe_ncbi_tax_id &lt;int&gt; | experimental_method_name &lt;chr&gt; | samples_origin_name &lt;chr&gt; | relationship_name &lt;chr&gt; | subjects_number &lt;chr&gt; | subjects_group_one &lt;chr&gt; | subjects_group_two &lt;chr&gt; | mean_age_group_one &lt;chr&gt; | mean_age_group_two &lt;chr&gt; | males_number &lt;chr&gt; | females_number &lt;chr&gt; | group_one &lt;chr&gt; | group_two &lt;chr&gt; | disease_type_name &lt;chr&gt; | disease_subtype &lt;chr&gt; | disease_mesh_id &lt;chr&gt; | disease_mesh_heading &lt;chr&gt; | host_species_name &lt;chr&gt; | publication_PMID &lt;int&gt; | publication_doi &lt;chr&gt; | publication_first_author &lt;chr&gt; | publication_corresponding_author_mail &lt;chr&gt; | publication_title &lt;chr&gt; | publication_journal &lt;chr&gt; | publication_year &lt;int&gt; | comments &lt;chr&gt; | microbe_com_contaminant &lt;lgl&gt; | tax_name &lt;chr&gt; | gtdb_taxonomy &lt;chr&gt; | gtdb_taxid_tax_level &lt;chr&gt; | gtdb_lineage &lt;chr&gt; |\n",
       "|---|---|---|---|---|---|---|---|---|---|---|---|---|---|---|---|---|---|---|---|---|---|---|---|---|---|---|---|---|---|---|---|---|---|\n",
       "|   1 | Ulcerative Colitis | Phylum | 203691 | 16S rRNA sequencing      | Tongue brushings | Increased | 74 | 31 | 43 | 14   | 14   | 37 | 37 | Ulcerative Colitis | Healthy Controls | Gastrointestinal Disorders | undefined | MESH:D003093 | Ulcerative Colitis | Homo sapiens | 21987382 | 10.1002/ibd.21874 | Docktor MJ    | Michael.docktor@childrens.harvard.edu | Alterations in diversity of the oral microbiome in pediatric inflammatory bowel disease | Inflammatory Bowel Diseases | 2012 | null | FALSE | p__Spirochaetes | p__Spirochaetota | phylum | d__bacteria;p__spirochaetota |\n",
       "| 418 | Ulcerative Colitis | Phylum | 203691 | Microarray hybridization | Stool            | Increased | 53 | 27 | 26 | 13.6 | 13.3 | 31 | 22 | Ulcerative Colitis | Healthy Controls | Gastrointestinal Disorders | undefined | MESH:D003093 | Ulcerative Colitis | Homo sapiens | 22170749 | 10.1002/ibd.22860 | Sonia Michail | Sonia.michail@hotmail.com             | Alterations in the gut microbiome of children with severe ulcerative colitis            | Inflammatory Bowel Diseases | 2012 | null | FALSE | p__Spirochaetes | p__Spirochaetota | phylum | d__bacteria;p__spirochaetota |\n",
       "| ⋮ | ⋮ | ⋮ | ⋮ | ⋮ | ⋮ | ⋮ | ⋮ | ⋮ | ⋮ | ⋮ | ⋮ | ⋮ | ⋮ | ⋮ | ⋮ | ⋮ | ⋮ | ⋮ | ⋮ | ⋮ | ⋮ | ⋮ | ⋮ | ⋮ | ⋮ | ⋮ | ⋮ | ⋮ | ⋮ | ⋮ | ⋮ | ⋮ | ⋮ |\n",
       "| 7970 | Uterine Cervical Neoplasms | Species | 419005 | 16S rRNA sequencing | Cervical swab | Increased | 92 | 42 | 50 | 45.7 | 45.1 | null | 92 | Cervical cancer | Healthy Controls | Cancers | undefined | MESH:D002583 | Uterine Cervical neoplasms | Homo sapiens | 32546712 | 10.1038/s41598-020-66607-4 | Charles Nkufi Tango | alrud@ncc.re.kr | Taxonomic and Functional Differences in Cervical Microbiome Associated with Cervical Cancer Development | Scientific Reports | 2020 | LEfSe analysis | FALSE | s__Prevotella amnii         | s__Prevotella amnii         | species | d__bacteria;p__bacteroidota;c__bacteroidia;o__bacteroidales;f__bacteroidaceae;g__prevotella;s__prevotella amnii          |\n",
       "| 7976 | Uterine Cervical Neoplasms | Species |   1313 | 16S rRNA sequencing | Cervical swab | Increased | 92 | 42 | 50 | 45.7 | 45.1 | null | 92 | Cervical cancer | Healthy Controls | Cancers | undefined | MESH:D002583 | Uterine Cervical neoplasms | Homo sapiens | 32546712 | 10.1038/s41598-020-66607-4 | Charles Nkufi Tango | alrud@ncc.re.kr | Taxonomic and Functional Differences in Cervical Microbiome Associated with Cervical Cancer Development | Scientific Reports | 2020 | LEfSe analysis | FALSE | s__Streptococcus pneumoniae | s__Streptococcus pneumoniae | species | d__bacteria;p__firmicutes;c__bacilli;o__lactobacillales;f__streptococcaceae;g__streptococcus;s__streptococcus pneumoniae |\n",
       "\n"
      ],
      "text/plain": [
       "     S.No disease_name               tax_rank_name microbe_ncbi_tax_id\n",
       "1      1  Ulcerative Colitis         Phylum        203691             \n",
       "2    418  Ulcerative Colitis         Phylum        203691             \n",
       "⋮    ⋮    ⋮                          ⋮             ⋮                  \n",
       "7976 7970 Uterine Cervical Neoplasms Species       419005             \n",
       "7977 7976 Uterine Cervical Neoplasms Species         1313             \n",
       "     experimental_method_name samples_origin_name relationship_name\n",
       "1    16S rRNA sequencing      Tongue brushings    Increased        \n",
       "2    Microarray hybridization Stool               Increased        \n",
       "⋮    ⋮                        ⋮                   ⋮                \n",
       "7976 16S rRNA sequencing      Cervical swab       Increased        \n",
       "7977 16S rRNA sequencing      Cervical swab       Increased        \n",
       "     subjects_number subjects_group_one subjects_group_two mean_age_group_one\n",
       "1    74              31                 43                 14                \n",
       "2    53              27                 26                 13.6              \n",
       "⋮    ⋮               ⋮                  ⋮                  ⋮                 \n",
       "7976 92              42                 50                 45.7              \n",
       "7977 92              42                 50                 45.7              \n",
       "     mean_age_group_two males_number females_number group_one         \n",
       "1    14                 37           37             Ulcerative Colitis\n",
       "2    13.3               31           22             Ulcerative Colitis\n",
       "⋮    ⋮                  ⋮            ⋮              ⋮                 \n",
       "7976 45.1               null         92             Cervical cancer   \n",
       "7977 45.1               null         92             Cervical cancer   \n",
       "     group_two        disease_type_name          disease_subtype\n",
       "1    Healthy Controls Gastrointestinal Disorders undefined      \n",
       "2    Healthy Controls Gastrointestinal Disorders undefined      \n",
       "⋮    ⋮                ⋮                          ⋮              \n",
       "7976 Healthy Controls Cancers                    undefined      \n",
       "7977 Healthy Controls Cancers                    undefined      \n",
       "     disease_mesh_id disease_mesh_heading       host_species_name\n",
       "1    MESH:D003093    Ulcerative Colitis         Homo sapiens     \n",
       "2    MESH:D003093    Ulcerative Colitis         Homo sapiens     \n",
       "⋮    ⋮               ⋮                          ⋮                \n",
       "7976 MESH:D002583    Uterine Cervical neoplasms Homo sapiens     \n",
       "7977 MESH:D002583    Uterine Cervical neoplasms Homo sapiens     \n",
       "     publication_PMID publication_doi            publication_first_author\n",
       "1    21987382         10.1002/ibd.21874          Docktor MJ              \n",
       "2    22170749         10.1002/ibd.22860          Sonia Michail           \n",
       "⋮    ⋮                ⋮                          ⋮                       \n",
       "7976 32546712         10.1038/s41598-020-66607-4 Charles Nkufi Tango     \n",
       "7977 32546712         10.1038/s41598-020-66607-4 Charles Nkufi Tango     \n",
       "     publication_corresponding_author_mail\n",
       "1    Michael.docktor@childrens.harvard.edu\n",
       "2    Sonia.michail@hotmail.com            \n",
       "⋮    ⋮                                    \n",
       "7976 alrud@ncc.re.kr                      \n",
       "7977 alrud@ncc.re.kr                      \n",
       "     publication_title                                                                                      \n",
       "1    Alterations in diversity of the oral microbiome in pediatric inflammatory bowel disease                \n",
       "2    Alterations in the gut microbiome of children with severe ulcerative colitis                           \n",
       "⋮    ⋮                                                                                                      \n",
       "7976 Taxonomic and Functional Differences in Cervical Microbiome Associated with Cervical Cancer Development\n",
       "7977 Taxonomic and Functional Differences in Cervical Microbiome Associated with Cervical Cancer Development\n",
       "     publication_journal         publication_year comments      \n",
       "1    Inflammatory Bowel Diseases 2012             null          \n",
       "2    Inflammatory Bowel Diseases 2012             null          \n",
       "⋮    ⋮                           ⋮                ⋮             \n",
       "7976 Scientific Reports          2020             LEfSe analysis\n",
       "7977 Scientific Reports          2020             LEfSe analysis\n",
       "     microbe_com_contaminant tax_name                   \n",
       "1    FALSE                   p__Spirochaetes            \n",
       "2    FALSE                   p__Spirochaetes            \n",
       "⋮    ⋮                       ⋮                          \n",
       "7976 FALSE                   s__Prevotella amnii        \n",
       "7977 FALSE                   s__Streptococcus pneumoniae\n",
       "     gtdb_taxonomy               gtdb_taxid_tax_level\n",
       "1    p__Spirochaetota            phylum              \n",
       "2    p__Spirochaetota            phylum              \n",
       "⋮    ⋮                           ⋮                   \n",
       "7976 s__Prevotella amnii         species             \n",
       "7977 s__Streptococcus pneumoniae species             \n",
       "     gtdb_lineage                                                                                                            \n",
       "1    d__bacteria;p__spirochaetota                                                                                            \n",
       "2    d__bacteria;p__spirochaetota                                                                                            \n",
       "⋮    ⋮                                                                                                                       \n",
       "7976 d__bacteria;p__bacteroidota;c__bacteroidia;o__bacteroidales;f__bacteroidaceae;g__prevotella;s__prevotella amnii         \n",
       "7977 d__bacteria;p__firmicutes;c__bacilli;o__lactobacillales;f__streptococcaceae;g__streptococcus;s__streptococcus pneumoniae"
      ]
     },
     "metadata": {},
     "output_type": "display_data"
    }
   ],
   "source": [
    "overlap(db_f$tax_name, taxids$ncbi_taxonomy)\n",
    "db_fj = db_f %>%\n",
    "    inner_join.(taxids %>% select.(-lca_frac) %>% \n",
    "                    rename.('gtdb_taxid_tax_level' = target_tax_level,\n",
    "                            'gtdb_lineage' = lineage), \n",
    "                c('tax_name'='ncbi_taxonomy'))\n",
    "db_fj"
   ]
  },
  {
   "cell_type": "code",
   "execution_count": 45,
   "metadata": {
    "ExecuteTime": {
     "end_time": "2021-04-25T13:09:31.394604Z",
     "start_time": "2021-04-25T13:09:31.318Z"
    }
   },
   "outputs": [
    {
     "name": "stdout",
     "output_type": "stream",
     "text": [
      "File written: /ebio/abt3_projects/databases_no-backup/MicroPheno/peryton/DB_wGTDBr95.tsv \n"
     ]
    }
   ],
   "source": [
    "F = '/ebio/abt3_projects/databases_no-backup/MicroPheno/peryton/DB_wGTDBr95.tsv'\n",
    "write_table(db_fj, F)"
   ]
  },
  {
   "cell_type": "code",
   "execution_count": null,
   "metadata": {},
   "outputs": [],
   "source": []
  }
 ],
 "metadata": {
  "kernelspec": {
   "display_name": "R [conda env:Anxiety_Twins_Metagenomes-tidyverse2]",
   "language": "R",
   "name": "conda-env-Anxiety_Twins_Metagenomes-tidyverse2-r"
  },
  "language_info": {
   "codemirror_mode": "r",
   "file_extension": ".r",
   "mimetype": "text/x-r-source",
   "name": "R",
   "pygments_lexer": "r",
   "version": "4.0.3"
  },
  "toc": {
   "base_numbering": 1,
   "nav_menu": {},
   "number_sections": true,
   "sideBar": true,
   "skip_h1_title": false,
   "title_cell": "Table of Contents",
   "title_sidebar": "Contents",
   "toc_cell": true,
   "toc_position": {},
   "toc_section_display": true,
   "toc_window_display": true
  }
 },
 "nbformat": 4,
 "nbformat_minor": 4
}
