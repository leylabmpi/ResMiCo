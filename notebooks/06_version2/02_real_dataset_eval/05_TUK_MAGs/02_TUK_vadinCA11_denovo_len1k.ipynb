{
 "cells": [
  {
   "cell_type": "markdown",
   "metadata": {
    "toc": true
   },
   "source": [
    "<h1>Table of Contents<span class=\"tocSkip\"></span></h1>\n",
    "<div class=\"toc\"><ul class=\"toc-item\"><li><span><a href=\"#Goal\" data-toc-modified-id=\"Goal-1\"><span class=\"toc-item-num\">1&nbsp;&nbsp;</span>Goal</a></span></li><li><span><a href=\"#Var\" data-toc-modified-id=\"Var-2\"><span class=\"toc-item-num\">2&nbsp;&nbsp;</span>Var</a></span></li><li><span><a href=\"#Init\" data-toc-modified-id=\"Init-3\"><span class=\"toc-item-num\">3&nbsp;&nbsp;</span>Init</a></span></li><li><span><a href=\"#Load\" data-toc-modified-id=\"Load-4\"><span class=\"toc-item-num\">4&nbsp;&nbsp;</span>Load</a></span></li><li><span><a href=\"#Selecting-samples\" data-toc-modified-id=\"Selecting-samples-5\"><span class=\"toc-item-num\">5&nbsp;&nbsp;</span>Selecting samples</a></span></li><li><span><a href=\"#LLCOMP\" data-toc-modified-id=\"LLCOMP-6\"><span class=\"toc-item-num\">6&nbsp;&nbsp;</span>LLCOMP</a></span><ul class=\"toc-item\"><li><ul class=\"toc-item\"><li><span><a href=\"#Config\" data-toc-modified-id=\"Config-6.0.1\"><span class=\"toc-item-num\">6.0.1&nbsp;&nbsp;</span>Config</a></span></li><li><span><a href=\"#Run\" data-toc-modified-id=\"Run-6.0.2\"><span class=\"toc-item-num\">6.0.2&nbsp;&nbsp;</span>Run</a></span></li></ul></li></ul></li><li><span><a href=\"#LLMGA\" data-toc-modified-id=\"LLMGA-7\"><span class=\"toc-item-num\">7&nbsp;&nbsp;</span>LLMGA</a></span><ul class=\"toc-item\"><li><ul class=\"toc-item\"><li><span><a href=\"#Config\" data-toc-modified-id=\"Config-7.0.1\"><span class=\"toc-item-num\">7.0.1&nbsp;&nbsp;</span>Config</a></span></li><li><span><a href=\"#Run\" data-toc-modified-id=\"Run-7.0.2\"><span class=\"toc-item-num\">7.0.2&nbsp;&nbsp;</span>Run</a></span></li></ul></li><li><span><a href=\"#Summary\" data-toc-modified-id=\"Summary-7.1\"><span class=\"toc-item-num\">7.1&nbsp;&nbsp;</span>Summary</a></span></li></ul></li><li><span><a href=\"#ResMiCo-SM\" data-toc-modified-id=\"ResMiCo-SM-8\"><span class=\"toc-item-num\">8&nbsp;&nbsp;</span>ResMiCo-SM</a></span><ul class=\"toc-item\"><li><ul class=\"toc-item\"><li><span><a href=\"#Config\" data-toc-modified-id=\"Config-8.0.1\"><span class=\"toc-item-num\">8.0.1&nbsp;&nbsp;</span>Config</a></span></li><li><span><a href=\"#Run\" data-toc-modified-id=\"Run-8.0.2\"><span class=\"toc-item-num\">8.0.2&nbsp;&nbsp;</span>Run</a></span></li></ul></li></ul></li><li><span><a href=\"#sessionInfo\" data-toc-modified-id=\"sessionInfo-9\"><span class=\"toc-item-num\">9&nbsp;&nbsp;</span>sessionInfo</a></span></li></ul></div>"
   ]
  },
  {
   "cell_type": "markdown",
   "metadata": {},
   "source": [
    "# Goal\n",
    "\n",
    "* de-novo assembly of TUK metagenomes\n",
    "  * using contig length cutoff of >=1000 bp\n",
    "  * using VadinCA11 dataset\n",
    "* using contigs for ResMiCo-SM"
   ]
  },
  {
   "cell_type": "markdown",
   "metadata": {},
   "source": [
    "# Var"
   ]
  },
  {
   "cell_type": "code",
   "execution_count": 8,
   "metadata": {
    "ExecuteTime": {
     "end_time": "2022-03-04T14:33:45.912473Z",
     "start_time": "2022-03-04T14:33:45.843Z"
    }
   },
   "outputs": [],
   "source": [
    "work_dir = '/ebio/abt3_projects/databases_no-backup/DeepMAsED/version2/real_data_eval/TUK/len1k/n100r2/'\n",
    "\n",
    "all_tuk_meta_file = '/ebio/abt3_projects/Anxiety_Twins_Metagenomes/data/metagenome/TUK-5projects/metadata/study-n5_samples-metadata.tsv'\n",
    "va_samps_file = '/ebio/abt3_projects/databases_no-backup/TUK/metagenome/vadinCA11/LLMGQC/final/samples_spring.txt'\n",
    "\n",
    "tmp_dir = '/ebio/scratch/nyoungblut/vadinCA11/llcomp/'\n"
   ]
  },
  {
   "cell_type": "markdown",
   "metadata": {},
   "source": [
    "# Init"
   ]
  },
  {
   "cell_type": "code",
   "execution_count": 4,
   "metadata": {
    "ExecuteTime": {
     "end_time": "2022-03-04T14:33:21.292350Z",
     "start_time": "2022-03-04T14:33:21.220Z"
    }
   },
   "outputs": [],
   "source": [
    "library(dplyr)\n",
    "library(tidyr)\n",
    "library(ggplot2)\n",
    "library(data.table)\n",
    "library(tidytable)\n",
    "library(LeyLabRMisc)\n",
    "Init()"
   ]
  },
  {
   "cell_type": "code",
   "execution_count": 3,
   "metadata": {
    "ExecuteTime": {
     "end_time": "2022-03-04T14:33:17.424829Z",
     "start_time": "2022-03-04T14:33:17.353Z"
    }
   },
   "outputs": [
    {
     "name": "stdout",
     "output_type": "stream",
     "text": [
      "Created directory: /ebio/abt3_projects/databases_no-backup/DeepMAsED/version2/real_data_eval/TUK/len1k/n100r2/ \n",
      "Created directory: /ebio/scratch/nyoungblut/vadinCA11/llcomp/ \n"
     ]
    }
   ],
   "source": [
    "make_dir(work_dir)\n",
    "make_dir(tmp_dir)"
   ]
  },
  {
   "cell_type": "code",
   "execution_count": 10,
   "metadata": {
    "ExecuteTime": {
     "end_time": "2022-03-04T14:34:03.555939Z",
     "start_time": "2022-03-04T14:34:03.493Z"
    }
   },
   "outputs": [],
   "source": [
    "set.seed(4312)"
   ]
  },
  {
   "cell_type": "markdown",
   "metadata": {},
   "source": [
    "# Load"
   ]
  },
  {
   "cell_type": "code",
   "execution_count": 9,
   "metadata": {
    "ExecuteTime": {
     "end_time": "2022-03-04T14:33:47.378206Z",
     "start_time": "2022-03-04T14:33:47.251Z"
    }
   },
   "outputs": [
    {
     "data": {
      "text/html": [
       "<table class=\"dataframe\">\n",
       "<caption>A tidytable: 130 × 3</caption>\n",
       "<thead>\n",
       "\t<tr><th scope=col>Sample</th><th scope=col>Reads</th><th scope=col>Paired</th></tr>\n",
       "\t<tr><th scope=col>&lt;chr&gt;</th><th scope=col>&lt;chr&gt;</th><th scope=col>&lt;lgl&gt;</th></tr>\n",
       "</thead>\n",
       "<tbody>\n",
       "\t<tr><td>1171</td><td>/ebio/abt3_projects/databases_no-backup/TUK/metagenome/vadinCA11/LLMGQC/final/1171/R1-R2_final.spring</td><td>TRUE</td></tr>\n",
       "\t<tr><td>4632</td><td>/ebio/abt3_projects/databases_no-backup/TUK/metagenome/vadinCA11/LLMGQC/final/4632/R1-R2_final.spring</td><td>TRUE</td></tr>\n",
       "\t<tr><td>⋮</td><td>⋮</td><td>⋮</td></tr>\n",
       "\t<tr><td>mock </td><td>/ebio/abt3_projects/databases_no-backup/TUK/metagenome/vadinCA11/LLMGQC/final/mock/R1-R2_final.spring </td><td>TRUE</td></tr>\n",
       "\t<tr><td>water</td><td>/ebio/abt3_projects/databases_no-backup/TUK/metagenome/vadinCA11/LLMGQC/final/water/R1-R2_final.spring</td><td>TRUE</td></tr>\n",
       "</tbody>\n",
       "</table>\n"
      ],
      "text/latex": [
       "A tidytable: 130 × 3\n",
       "\\begin{tabular}{lll}\n",
       " Sample & Reads & Paired\\\\\n",
       " <chr> & <chr> & <lgl>\\\\\n",
       "\\hline\n",
       "\t 1171 & /ebio/abt3\\_projects/databases\\_no-backup/TUK/metagenome/vadinCA11/LLMGQC/final/1171/R1-R2\\_final.spring & TRUE\\\\\n",
       "\t 4632 & /ebio/abt3\\_projects/databases\\_no-backup/TUK/metagenome/vadinCA11/LLMGQC/final/4632/R1-R2\\_final.spring & TRUE\\\\\n",
       "\t ⋮ & ⋮ & ⋮\\\\\n",
       "\t mock  & /ebio/abt3\\_projects/databases\\_no-backup/TUK/metagenome/vadinCA11/LLMGQC/final/mock/R1-R2\\_final.spring  & TRUE\\\\\n",
       "\t water & /ebio/abt3\\_projects/databases\\_no-backup/TUK/metagenome/vadinCA11/LLMGQC/final/water/R1-R2\\_final.spring & TRUE\\\\\n",
       "\\end{tabular}\n"
      ],
      "text/markdown": [
       "\n",
       "A tidytable: 130 × 3\n",
       "\n",
       "| Sample &lt;chr&gt; | Reads &lt;chr&gt; | Paired &lt;lgl&gt; |\n",
       "|---|---|---|\n",
       "| 1171 | /ebio/abt3_projects/databases_no-backup/TUK/metagenome/vadinCA11/LLMGQC/final/1171/R1-R2_final.spring | TRUE |\n",
       "| 4632 | /ebio/abt3_projects/databases_no-backup/TUK/metagenome/vadinCA11/LLMGQC/final/4632/R1-R2_final.spring | TRUE |\n",
       "| ⋮ | ⋮ | ⋮ |\n",
       "| mock  | /ebio/abt3_projects/databases_no-backup/TUK/metagenome/vadinCA11/LLMGQC/final/mock/R1-R2_final.spring  | TRUE |\n",
       "| water | /ebio/abt3_projects/databases_no-backup/TUK/metagenome/vadinCA11/LLMGQC/final/water/R1-R2_final.spring | TRUE |\n",
       "\n"
      ],
      "text/plain": [
       "    Sample\n",
       "1   1171  \n",
       "2   4632  \n",
       "⋮   ⋮     \n",
       "129 mock  \n",
       "130 water \n",
       "    Reads                                                                                                 \n",
       "1   /ebio/abt3_projects/databases_no-backup/TUK/metagenome/vadinCA11/LLMGQC/final/1171/R1-R2_final.spring \n",
       "2   /ebio/abt3_projects/databases_no-backup/TUK/metagenome/vadinCA11/LLMGQC/final/4632/R1-R2_final.spring \n",
       "⋮   ⋮                                                                                                     \n",
       "129 /ebio/abt3_projects/databases_no-backup/TUK/metagenome/vadinCA11/LLMGQC/final/mock/R1-R2_final.spring \n",
       "130 /ebio/abt3_projects/databases_no-backup/TUK/metagenome/vadinCA11/LLMGQC/final/water/R1-R2_final.spring\n",
       "    Paired\n",
       "1   TRUE  \n",
       "2   TRUE  \n",
       "⋮   ⋮     \n",
       "129 TRUE  \n",
       "130 TRUE  "
      ]
     },
     "metadata": {},
     "output_type": "display_data"
    }
   ],
   "source": [
    "va_samps = Fread(va_samps_file) %>%\n",
    "    select.(-Notes)\n",
    "va_samps"
   ]
  },
  {
   "cell_type": "markdown",
   "metadata": {},
   "source": [
    " # Selecting samples"
   ]
  },
  {
   "cell_type": "code",
   "execution_count": 11,
   "metadata": {
    "ExecuteTime": {
     "end_time": "2022-03-04T14:34:18.146965Z",
     "start_time": "2022-03-04T14:34:18.070Z"
    }
   },
   "outputs": [
    {
     "data": {
      "text/html": [
       "<table class=\"dataframe\">\n",
       "<caption>A tidytable: 100 × 3</caption>\n",
       "<thead>\n",
       "\t<tr><th scope=col>Sample</th><th scope=col>Reads</th><th scope=col>Paired</th></tr>\n",
       "\t<tr><th scope=col>&lt;chr&gt;</th><th scope=col>&lt;chr&gt;</th><th scope=col>&lt;lgl&gt;</th></tr>\n",
       "</thead>\n",
       "<tbody>\n",
       "\t<tr><td>1019314</td><td>/ebio/abt3_projects/databases_no-backup/TUK/metagenome/vadinCA11/LLMGQC/final/1019314/R1-R2_final.spring</td><td>TRUE</td></tr>\n",
       "\t<tr><td>1014075</td><td>/ebio/abt3_projects/databases_no-backup/TUK/metagenome/vadinCA11/LLMGQC/final/1014075/R1-R2_final.spring</td><td>TRUE</td></tr>\n",
       "\t<tr><td>⋮</td><td>⋮</td><td>⋮</td></tr>\n",
       "\t<tr><td>1012315</td><td>/ebio/abt3_projects/databases_no-backup/TUK/metagenome/vadinCA11/LLMGQC/final/1012315/R1-R2_final.spring</td><td>TRUE</td></tr>\n",
       "\t<tr><td>75643  </td><td>/ebio/abt3_projects/databases_no-backup/TUK/metagenome/vadinCA11/LLMGQC/final/75643/R1-R2_final.spring  </td><td>TRUE</td></tr>\n",
       "</tbody>\n",
       "</table>\n"
      ],
      "text/latex": [
       "A tidytable: 100 × 3\n",
       "\\begin{tabular}{lll}\n",
       " Sample & Reads & Paired\\\\\n",
       " <chr> & <chr> & <lgl>\\\\\n",
       "\\hline\n",
       "\t 1019314 & /ebio/abt3\\_projects/databases\\_no-backup/TUK/metagenome/vadinCA11/LLMGQC/final/1019314/R1-R2\\_final.spring & TRUE\\\\\n",
       "\t 1014075 & /ebio/abt3\\_projects/databases\\_no-backup/TUK/metagenome/vadinCA11/LLMGQC/final/1014075/R1-R2\\_final.spring & TRUE\\\\\n",
       "\t ⋮ & ⋮ & ⋮\\\\\n",
       "\t 1012315 & /ebio/abt3\\_projects/databases\\_no-backup/TUK/metagenome/vadinCA11/LLMGQC/final/1012315/R1-R2\\_final.spring & TRUE\\\\\n",
       "\t 75643   & /ebio/abt3\\_projects/databases\\_no-backup/TUK/metagenome/vadinCA11/LLMGQC/final/75643/R1-R2\\_final.spring   & TRUE\\\\\n",
       "\\end{tabular}\n"
      ],
      "text/markdown": [
       "\n",
       "A tidytable: 100 × 3\n",
       "\n",
       "| Sample &lt;chr&gt; | Reads &lt;chr&gt; | Paired &lt;lgl&gt; |\n",
       "|---|---|---|\n",
       "| 1019314 | /ebio/abt3_projects/databases_no-backup/TUK/metagenome/vadinCA11/LLMGQC/final/1019314/R1-R2_final.spring | TRUE |\n",
       "| 1014075 | /ebio/abt3_projects/databases_no-backup/TUK/metagenome/vadinCA11/LLMGQC/final/1014075/R1-R2_final.spring | TRUE |\n",
       "| ⋮ | ⋮ | ⋮ |\n",
       "| 1012315 | /ebio/abt3_projects/databases_no-backup/TUK/metagenome/vadinCA11/LLMGQC/final/1012315/R1-R2_final.spring | TRUE |\n",
       "| 75643   | /ebio/abt3_projects/databases_no-backup/TUK/metagenome/vadinCA11/LLMGQC/final/75643/R1-R2_final.spring   | TRUE |\n",
       "\n"
      ],
      "text/plain": [
       "    Sample \n",
       "1   1019314\n",
       "2   1014075\n",
       "⋮   ⋮      \n",
       "99  1012315\n",
       "100 75643  \n",
       "    Reads                                                                                                   \n",
       "1   /ebio/abt3_projects/databases_no-backup/TUK/metagenome/vadinCA11/LLMGQC/final/1019314/R1-R2_final.spring\n",
       "2   /ebio/abt3_projects/databases_no-backup/TUK/metagenome/vadinCA11/LLMGQC/final/1014075/R1-R2_final.spring\n",
       "⋮   ⋮                                                                                                       \n",
       "99  /ebio/abt3_projects/databases_no-backup/TUK/metagenome/vadinCA11/LLMGQC/final/1012315/R1-R2_final.spring\n",
       "100 /ebio/abt3_projects/databases_no-backup/TUK/metagenome/vadinCA11/LLMGQC/final/75643/R1-R2_final.spring  \n",
       "    Paired\n",
       "1   TRUE  \n",
       "2   TRUE  \n",
       "⋮   ⋮     \n",
       "99  TRUE  \n",
       "100 TRUE  "
      ]
     },
     "metadata": {},
     "output_type": "display_data"
    }
   ],
   "source": [
    "va_samps_f = va_samps %>%\n",
    "    slice_sample.(n=100)\n",
    "va_samps_f"
   ]
  },
  {
   "cell_type": "markdown",
   "metadata": {},
   "source": [
    "# LLCOMP"
   ]
  },
  {
   "cell_type": "code",
   "execution_count": 13,
   "metadata": {
    "ExecuteTime": {
     "end_time": "2022-03-04T14:34:31.287362Z",
     "start_time": "2022-03-04T14:34:31.216Z"
    }
   },
   "outputs": [
    {
     "name": "stdout",
     "output_type": "stream",
     "text": [
      "Directory already exists: /ebio/abt3_projects/databases_no-backup/DeepMAsED/version2/real_data_eval/TUK/len1k/n100r2//llcomp \n",
      "File written: /ebio/abt3_projects/databases_no-backup/DeepMAsED/version2/real_data_eval/TUK/len1k/n100r2//llcomp/samples_spring.tsv \n"
     ]
    }
   ],
   "source": [
    "D = file.path(work_dir, 'llcomp')\n",
    "make_dir(D)\n",
    "F = file.path(D, 'samples_spring.tsv')\n",
    "write_table(va_samps_f, F)"
   ]
  },
  {
   "cell_type": "markdown",
   "metadata": {},
   "source": [
    "### Config"
   ]
  },
  {
   "cell_type": "code",
   "execution_count": 14,
   "metadata": {
    "ExecuteTime": {
     "end_time": "2022-03-04T14:35:50.207950Z",
     "start_time": "2022-03-04T14:35:50.126Z"
    }
   },
   "outputs": [
    {
     "name": "stdout",
     "output_type": "stream",
     "text": [
      "# Input table with sample <-> read_file information\n",
      "## example of compression\n",
      "samples_file: /ebio/abt3_projects/databases_no-backup/DeepMAsED/version2/real_data_eval/TUK/len1k/n100r2/llcomp/samples_spring.tsv\n",
      "\n",
      "# Output location (can be the same as input)\n",
      "output_dir: /ebio/scratch/nyoungblut/vadinCA11/llcomp/\n",
      "\n",
      "# temporary file directory (your username will be added automatically)\n",
      "tmp_dir: /ebio/abt3_scratch/\n",
      "\n",
      "# If input are *.spring, are they paired-end reads (or single)?\n",
      "spring_files_paired: True\n",
      "\n",
      "# Remove input read files after (un)compression?\n",
      "rm_input_reads: False\n",
      "\n",
      "# ionice for reducing I/O loads (use \"-c 2\" for normal usage)\n",
      "ionice: -c 3\n",
      "\n",
      "# pipeline params\n",
      "pipeline:\n",
      "  snakemake_folder: ./\n",
      "  script_folder: ./bin/scripts/\n",
      "  name: LLCOMP"
     ]
    }
   ],
   "source": [
    "F = file.path(D, 'config.yaml')\n",
    "cat_file(F)"
   ]
  },
  {
   "cell_type": "markdown",
   "metadata": {},
   "source": [
    "### Run"
   ]
  },
  {
   "cell_type": "markdown",
   "metadata": {},
   "source": [
    "```\n",
    "(snakemake) @ rick:/tmp/global2/nyoungblut/code/dev/ll_pipelines/llcomp\n",
    "$ screen -L -S llcomp-va ./snakemake_sge.sh /ebio/abt3_projects/databases_no-backup/DeepMAsED/version2/real_data_eval/TUK/len1k/n100r2/llcomp/config.yaml 30 -F\n",
    "```"
   ]
  },
  {
   "cell_type": "markdown",
   "metadata": {},
   "source": [
    "# LLMGA"
   ]
  },
  {
   "cell_type": "code",
   "execution_count": 15,
   "metadata": {
    "ExecuteTime": {
     "end_time": "2022-03-05T05:39:43.714298Z",
     "start_time": "2022-03-05T05:39:43.550Z"
    }
   },
   "outputs": [
    {
     "name": "stdout",
     "output_type": "stream",
     "text": [
      "Created directory: /ebio/abt3_projects/databases_no-backup/DeepMAsED/version2/real_data_eval/TUK/len1k/n100r2//llmga \n"
     ]
    }
   ],
   "source": [
    "D = file.path(work_dir, 'llmga')\n",
    "make_dir(D)"
   ]
  },
  {
   "cell_type": "markdown",
   "metadata": {},
   "source": [
    "### Config"
   ]
  },
  {
   "cell_type": "code",
   "execution_count": 17,
   "metadata": {
    "ExecuteTime": {
     "end_time": "2022-03-05T05:42:02.545746Z",
     "start_time": "2022-03-05T05:42:02.391Z"
    }
   },
   "outputs": [
    {
     "name": "stdout",
     "output_type": "stream",
     "text": [
      "#-- I/O --#\n",
      "# table with sample --> read_file information\n",
      "samples_file: /ebio/scratch/nyoungblut/vadinCA11/llcomp/samples.txt\n",
      "\n",
      "# output location\n",
      "output_dir: /ebio/abt3_projects/databases_no-backup/DeepMAsED/version2/real_data_eval/TUK/len1k/n100r2/llmga/\n",
      "\n",
      "# temporary file directory (your username will be added automatically)\n",
      "tmp_dir: /ebio/scratch/\n",
      "\n",
      "#-- reference genomes for metacompass --#\n",
      "metacompass_ref: /ebio/abt3_projects/Anxiety_Twins_Metagenomes/data/metagenome/TUKMZ-BGI250/llmga-find-refs/references/drep/dereplicated_genomes.fna\n",
      "\n",
      "#-- master control --#\n",
      "# which major parts of the pipline to run \n",
      "run_assembly: True\n",
      "run_binning: False\n",
      "run_other_assembly: False\n",
      "\n",
      "#-- software parameters --#\n",
      "# Notes:\n",
      "## see \"Notes on the `config.yaml` file\" in the README\n",
      "params:\n",
      "  # raw reads\n",
      "  ionice: -c 3\n",
      "  reads:\n",
      "    subsample: 40000000\n",
      "    fastqc: \"\"  \n",
      "  # metacompass (per-sample ref-based assembly); skipped if using graphbin2\n",
      "  metacompass:\n",
      "    buildcontig: Skip #--pickref breadth --mincov 3 -l 1000 -n T -b F -u F\n",
      "    pilon: \"\"\n",
      "  # denovo per-sample assembly (unmapped if metacompass used, else all reads)\n",
      "  denovo_assembly:\n",
      "    metaspades: -k auto --only-assembler\n",
      "    megahit: Skip #--min-count 3 --min-contig-len 500 --presets meta-sensitive\n",
      "  # combined, final contigs\n",
      "  final_contigs:\n",
      "    derep_contigs: minidentity=100 minscaf=1000 minoverlappercent=95\n",
      "    contig_rename: \"\"\n",
      "    min_contig_len: 1000            # min contig length retained\n",
      "    metaquast: Skip #--max-ref-number 0   # job run on rick to use internet if `--max-ref-number` > 0\n",
      "  # contig binning\n",
      "  binning:\n",
      "    subsample: 5000000       # how many reads per sample to use for dif-cov binning?\n",
      "    # mapping\n",
      "    map:\n",
      "      num_map_samples: 40    # how many samples to use for dif-cov. binning ('all' = all samples)\n",
      "      minimap2:\n",
      "        index: -k 15 -w 10 -I 12G\n",
      "        map: -N 5 -F 800\n",
      "      samtools_view: -q 0 -F 3584                 # -q = MAPQ cutoff\n",
      "      bam_to_depth: --percentIdentity 97\n",
      "      keep_bam: False                       # keep all BAM files?\n",
      "    # binning\n",
      "    binners:\n",
      "      maxbin2:\n",
      "        Low: -min_contig_length 1000 -markerset 40 -prob_threshold 0.6\n",
      "        Med: -min_contig_length 1000 -markerset 40 -prob_threshold 0.7\n",
      "        High: -min_contig_length 1000 -markerset 40 -prob_threshold 0.8\n",
      "      metabat2:\n",
      "        Low: --minContig 1000 --minCV 0.5 --minCVSum 0.5 --maxP 92\n",
      "             --maxEdges 150 --seed 8394\n",
      "        Med: --minContig 1000 --minCV 0.5 --minCVSum 0.5 --maxP 94\n",
      "             --maxEdges 325 --seed 8394\n",
      "        High: --minContig 1000 --minCV 0.5 --minCVSum 0.5 --maxP 97\n",
      "              --maxEdges 500 --seed 8394\n",
      "        LowNoCov: --minContig 1000 --minCV 0.5 --minCVSum 0.5 --maxP 92\n",
      "                  --maxEdges 150 --seed 8394 NOCOV\n",
      "        MedNoCov: --minContig 1000 --minCV 0.5 --minCVSum 0.5 --maxP 94\n",
      "                  --maxEdges 325 --seed 8394 NOCOV\n",
      "        HighNoCov: --minContig 1000 --minCV 0.5 --minCVSum 0.5 --maxP 97\n",
      "                   --maxEdges 500 --seed 8394 NOCOV\n",
      "      vamb:\n",
      "        Low: -c 10000 -m 1000 -l 24 -n 384 384\n",
      "        Med: -c 10000 -m 1000 -l 32 -n 512 512\n",
      "        High: -c 10000 -m 1000 -l 40 -n 768 768\n",
      "    # selecting final bins (MAGs)\n",
      "    select:\n",
      "      das_tool: --search_engine diamond\n",
      "      genome_table: \"\"\n",
      "  # denovo assembly of other genetic components\n",
      "  denovo_other_assembly:\n",
      "    min_contig_len: 1000\n",
      "    metaplasmidspades: -k auto --only-assembler\n",
      "    metabiosyntheticspades: -k auto --only-assembler\n",
      "  \n",
      "#-- snakemake pipeline --#\n",
      "pipeline:\n",
      "  snakemake_folder: ./\n",
      "  script_folder: bin/scripts/\n",
      "  random_number_seed: 83421\n",
      "  name: LLMGA\n"
     ]
    }
   ],
   "source": [
    "F = file.path(D, 'config.yaml')\n",
    "cat_file(F)"
   ]
  },
  {
   "cell_type": "markdown",
   "metadata": {},
   "source": [
    "### Run"
   ]
  },
  {
   "cell_type": "markdown",
   "metadata": {},
   "source": [
    "```\n",
    "(snakemake) @ rick:/tmp/global2/nyoungblut/code/dev/ll_pipelines/llmga\n",
    "$ screen -L -S llmga-va ./snakemake_sge.sh /ebio/abt3_projects/databases_no-backup/DeepMAsED/version2/real_data_eval/TUK/len1k/n100r2/llmga/config.yaml 30 -F\n",
    "```"
   ]
  },
  {
   "cell_type": "markdown",
   "metadata": {},
   "source": [
    "## Summary"
   ]
  },
  {
   "cell_type": "code",
   "execution_count": 18,
   "metadata": {
    "ExecuteTime": {
     "end_time": "2022-03-06T05:34:24.894952Z",
     "start_time": "2022-03-06T05:34:24.766Z"
    }
   },
   "outputs": [
    {
     "data": {
      "text/html": [
       "<table class=\"dataframe\">\n",
       "<caption>A data.table: 100 × 16</caption>\n",
       "<thead>\n",
       "\t<tr><th scope=col>Sample</th><th scope=col>file</th><th scope=col>format</th><th scope=col>type</th><th scope=col>num_seqs</th><th scope=col>sum_len</th><th scope=col>min_len</th><th scope=col>avg_len</th><th scope=col>max_len</th><th scope=col>Q1</th><th scope=col>Q2</th><th scope=col>Q3</th><th scope=col>sum_gap</th><th scope=col>N50</th><th scope=col>Q20...</th><th scope=col>Q30...</th></tr>\n",
       "\t<tr><th scope=col>&lt;chr&gt;</th><th scope=col>&lt;chr&gt;</th><th scope=col>&lt;chr&gt;</th><th scope=col>&lt;chr&gt;</th><th scope=col>&lt;int&gt;</th><th scope=col>&lt;int&gt;</th><th scope=col>&lt;int&gt;</th><th scope=col>&lt;dbl&gt;</th><th scope=col>&lt;int&gt;</th><th scope=col>&lt;dbl&gt;</th><th scope=col>&lt;dbl&gt;</th><th scope=col>&lt;dbl&gt;</th><th scope=col>&lt;int&gt;</th><th scope=col>&lt;int&gt;</th><th scope=col>&lt;dbl&gt;</th><th scope=col>&lt;dbl&gt;</th></tr>\n",
       "</thead>\n",
       "<tbody>\n",
       "\t<tr><td>1019314</td><td>/ebio/scratch/nyoungblut/LLMGA_122597181487/all_contigs/1019314/contigs_final.fasta</td><td>FASTA</td><td>DNA</td><td>43216</td><td>128718510</td><td>1000</td><td>2978.5</td><td>260418</td><td>1210</td><td>1593</td><td>2605</td><td>0</td><td>4050</td><td>0</td><td>0</td></tr>\n",
       "\t<tr><td>1014075</td><td>/ebio/scratch/nyoungblut/LLMGA_122597181487/all_contigs/1014075/contigs_final.fasta</td><td>FASTA</td><td>DNA</td><td>17092</td><td> 46190684</td><td>1000</td><td>2702.5</td><td>192337</td><td>1201</td><td>1561</td><td>2452</td><td>0</td><td>3280</td><td>0</td><td>0</td></tr>\n",
       "\t<tr><td>⋮</td><td>⋮</td><td>⋮</td><td>⋮</td><td>⋮</td><td>⋮</td><td>⋮</td><td>⋮</td><td>⋮</td><td>⋮</td><td>⋮</td><td>⋮</td><td>⋮</td><td>⋮</td><td>⋮</td><td>⋮</td></tr>\n",
       "\t<tr><td>1012315</td><td>/ebio/scratch/nyoungblut/LLMGA_122597181487/all_contigs/1012315/contigs_final.fasta</td><td>FASTA</td><td>DNA</td><td>15251</td><td> 51672671</td><td>1000</td><td>3388.1</td><td>105196</td><td>1240</td><td>1711</td><td>3130</td><td>0</td><td>5691</td><td>0</td><td>0</td></tr>\n",
       "\t<tr><td>75643  </td><td>/ebio/scratch/nyoungblut/LLMGA_122597181487/all_contigs/75643/contigs_final.fasta  </td><td>FASTA</td><td>DNA</td><td>47729</td><td>166052786</td><td>1000</td><td>3479.1</td><td>579679</td><td>1200</td><td>1552</td><td>2463</td><td>0</td><td>6598</td><td>0</td><td>0</td></tr>\n",
       "</tbody>\n",
       "</table>\n"
      ],
      "text/latex": [
       "A data.table: 100 × 16\n",
       "\\begin{tabular}{llllllllllllllll}\n",
       " Sample & file & format & type & num\\_seqs & sum\\_len & min\\_len & avg\\_len & max\\_len & Q1 & Q2 & Q3 & sum\\_gap & N50 & Q20... & Q30...\\\\\n",
       " <chr> & <chr> & <chr> & <chr> & <int> & <int> & <int> & <dbl> & <int> & <dbl> & <dbl> & <dbl> & <int> & <int> & <dbl> & <dbl>\\\\\n",
       "\\hline\n",
       "\t 1019314 & /ebio/scratch/nyoungblut/LLMGA\\_122597181487/all\\_contigs/1019314/contigs\\_final.fasta & FASTA & DNA & 43216 & 128718510 & 1000 & 2978.5 & 260418 & 1210 & 1593 & 2605 & 0 & 4050 & 0 & 0\\\\\n",
       "\t 1014075 & /ebio/scratch/nyoungblut/LLMGA\\_122597181487/all\\_contigs/1014075/contigs\\_final.fasta & FASTA & DNA & 17092 &  46190684 & 1000 & 2702.5 & 192337 & 1201 & 1561 & 2452 & 0 & 3280 & 0 & 0\\\\\n",
       "\t ⋮ & ⋮ & ⋮ & ⋮ & ⋮ & ⋮ & ⋮ & ⋮ & ⋮ & ⋮ & ⋮ & ⋮ & ⋮ & ⋮ & ⋮ & ⋮\\\\\n",
       "\t 1012315 & /ebio/scratch/nyoungblut/LLMGA\\_122597181487/all\\_contigs/1012315/contigs\\_final.fasta & FASTA & DNA & 15251 &  51672671 & 1000 & 3388.1 & 105196 & 1240 & 1711 & 3130 & 0 & 5691 & 0 & 0\\\\\n",
       "\t 75643   & /ebio/scratch/nyoungblut/LLMGA\\_122597181487/all\\_contigs/75643/contigs\\_final.fasta   & FASTA & DNA & 47729 & 166052786 & 1000 & 3479.1 & 579679 & 1200 & 1552 & 2463 & 0 & 6598 & 0 & 0\\\\\n",
       "\\end{tabular}\n"
      ],
      "text/markdown": [
       "\n",
       "A data.table: 100 × 16\n",
       "\n",
       "| Sample &lt;chr&gt; | file &lt;chr&gt; | format &lt;chr&gt; | type &lt;chr&gt; | num_seqs &lt;int&gt; | sum_len &lt;int&gt; | min_len &lt;int&gt; | avg_len &lt;dbl&gt; | max_len &lt;int&gt; | Q1 &lt;dbl&gt; | Q2 &lt;dbl&gt; | Q3 &lt;dbl&gt; | sum_gap &lt;int&gt; | N50 &lt;int&gt; | Q20... &lt;dbl&gt; | Q30... &lt;dbl&gt; |\n",
       "|---|---|---|---|---|---|---|---|---|---|---|---|---|---|---|---|\n",
       "| 1019314 | /ebio/scratch/nyoungblut/LLMGA_122597181487/all_contigs/1019314/contigs_final.fasta | FASTA | DNA | 43216 | 128718510 | 1000 | 2978.5 | 260418 | 1210 | 1593 | 2605 | 0 | 4050 | 0 | 0 |\n",
       "| 1014075 | /ebio/scratch/nyoungblut/LLMGA_122597181487/all_contigs/1014075/contigs_final.fasta | FASTA | DNA | 17092 |  46190684 | 1000 | 2702.5 | 192337 | 1201 | 1561 | 2452 | 0 | 3280 | 0 | 0 |\n",
       "| ⋮ | ⋮ | ⋮ | ⋮ | ⋮ | ⋮ | ⋮ | ⋮ | ⋮ | ⋮ | ⋮ | ⋮ | ⋮ | ⋮ | ⋮ | ⋮ |\n",
       "| 1012315 | /ebio/scratch/nyoungblut/LLMGA_122597181487/all_contigs/1012315/contigs_final.fasta | FASTA | DNA | 15251 |  51672671 | 1000 | 3388.1 | 105196 | 1240 | 1711 | 3130 | 0 | 5691 | 0 | 0 |\n",
       "| 75643   | /ebio/scratch/nyoungblut/LLMGA_122597181487/all_contigs/75643/contigs_final.fasta   | FASTA | DNA | 47729 | 166052786 | 1000 | 3479.1 | 579679 | 1200 | 1552 | 2463 | 0 | 6598 | 0 | 0 |\n",
       "\n"
      ],
      "text/plain": [
       "    Sample \n",
       "1   1019314\n",
       "2   1014075\n",
       "⋮   ⋮      \n",
       "99  1012315\n",
       "100 75643  \n",
       "    file                                                                               \n",
       "1   /ebio/scratch/nyoungblut/LLMGA_122597181487/all_contigs/1019314/contigs_final.fasta\n",
       "2   /ebio/scratch/nyoungblut/LLMGA_122597181487/all_contigs/1014075/contigs_final.fasta\n",
       "⋮   ⋮                                                                                  \n",
       "99  /ebio/scratch/nyoungblut/LLMGA_122597181487/all_contigs/1012315/contigs_final.fasta\n",
       "100 /ebio/scratch/nyoungblut/LLMGA_122597181487/all_contigs/75643/contigs_final.fasta  \n",
       "    format type num_seqs sum_len   min_len avg_len max_len Q1   Q2   Q3  \n",
       "1   FASTA  DNA  43216    128718510 1000    2978.5  260418  1210 1593 2605\n",
       "2   FASTA  DNA  17092     46190684 1000    2702.5  192337  1201 1561 2452\n",
       "⋮   ⋮      ⋮    ⋮        ⋮         ⋮       ⋮       ⋮       ⋮    ⋮    ⋮   \n",
       "99  FASTA  DNA  15251     51672671 1000    3388.1  105196  1240 1711 3130\n",
       "100 FASTA  DNA  47729    166052786 1000    3479.1  579679  1200 1552 2463\n",
       "    sum_gap N50  Q20... Q30...\n",
       "1   0       4050 0      0     \n",
       "2   0       3280 0      0     \n",
       "⋮   ⋮       ⋮    ⋮      ⋮     \n",
       "99  0       5691 0      0     \n",
       "100 0       6598 0      0     "
      ]
     },
     "metadata": {},
     "output_type": "display_data"
    }
   ],
   "source": [
    "F = file.path(D, 'final_contigs', 'contig_stats.tsv')\n",
    "stats = Fread(F)\n",
    "stats"
   ]
  },
  {
   "cell_type": "code",
   "execution_count": 19,
   "metadata": {
    "ExecuteTime": {
     "end_time": "2022-03-06T05:34:29.952501Z",
     "start_time": "2022-03-06T05:34:29.865Z"
    }
   },
   "outputs": [
    {
     "data": {
      "text/html": [
       "<table class=\"dataframe\">\n",
       "<caption>A matrix: 1 × 8 of type dbl</caption>\n",
       "<thead>\n",
       "\t<tr><th></th><th scope=col>Min.</th><th scope=col>1st Qu.</th><th scope=col>Median</th><th scope=col>Mean</th><th scope=col>3rd Qu.</th><th scope=col>Max.</th><th scope=col>sd</th><th scope=col>sd_err_of_mean</th></tr>\n",
       "</thead>\n",
       "<tbody>\n",
       "\t<tr><th scope=row>num_seqs</th><td>1</td><td>22987.5</td><td>31399.5</td><td>34162.43</td><td>43290</td><td>83180</td><td>15649.58</td><td>6388.912</td></tr>\n",
       "</tbody>\n",
       "</table>\n"
      ],
      "text/latex": [
       "A matrix: 1 × 8 of type dbl\n",
       "\\begin{tabular}{r|llllllll}\n",
       "  & Min. & 1st Qu. & Median & Mean & 3rd Qu. & Max. & sd & sd\\_err\\_of\\_mean\\\\\n",
       "\\hline\n",
       "\tnum\\_seqs & 1 & 22987.5 & 31399.5 & 34162.43 & 43290 & 83180 & 15649.58 & 6388.912\\\\\n",
       "\\end{tabular}\n"
      ],
      "text/markdown": [
       "\n",
       "A matrix: 1 × 8 of type dbl\n",
       "\n",
       "| <!--/--> | Min. | 1st Qu. | Median | Mean | 3rd Qu. | Max. | sd | sd_err_of_mean |\n",
       "|---|---|---|---|---|---|---|---|---|\n",
       "| num_seqs | 1 | 22987.5 | 31399.5 | 34162.43 | 43290 | 83180 | 15649.58 | 6388.912 |\n",
       "\n"
      ],
      "text/plain": [
       "         Min. 1st Qu. Median  Mean     3rd Qu. Max.  sd       sd_err_of_mean\n",
       "num_seqs 1    22987.5 31399.5 34162.43 43290   83180 15649.58 6388.912      "
      ]
     },
     "metadata": {},
     "output_type": "display_data"
    },
    {
     "data": {
      "text/html": [
       "<table class=\"dataframe\">\n",
       "<caption>A matrix: 1 × 8 of type dbl</caption>\n",
       "<thead>\n",
       "\t<tr><th></th><th scope=col>Min.</th><th scope=col>1st Qu.</th><th scope=col>Median</th><th scope=col>Mean</th><th scope=col>3rd Qu.</th><th scope=col>Max.</th><th scope=col>sd</th><th scope=col>sd_err_of_mean</th></tr>\n",
       "</thead>\n",
       "<tbody>\n",
       "\t<tr><th scope=row>min_len</th><td>1000</td><td>1000</td><td>1000</td><td>1000.58</td><td>1000</td><td>1058</td><td>5.8</td><td>2.368</td></tr>\n",
       "</tbody>\n",
       "</table>\n"
      ],
      "text/latex": [
       "A matrix: 1 × 8 of type dbl\n",
       "\\begin{tabular}{r|llllllll}\n",
       "  & Min. & 1st Qu. & Median & Mean & 3rd Qu. & Max. & sd & sd\\_err\\_of\\_mean\\\\\n",
       "\\hline\n",
       "\tmin\\_len & 1000 & 1000 & 1000 & 1000.58 & 1000 & 1058 & 5.8 & 2.368\\\\\n",
       "\\end{tabular}\n"
      ],
      "text/markdown": [
       "\n",
       "A matrix: 1 × 8 of type dbl\n",
       "\n",
       "| <!--/--> | Min. | 1st Qu. | Median | Mean | 3rd Qu. | Max. | sd | sd_err_of_mean |\n",
       "|---|---|---|---|---|---|---|---|---|\n",
       "| min_len | 1000 | 1000 | 1000 | 1000.58 | 1000 | 1058 | 5.8 | 2.368 |\n",
       "\n"
      ],
      "text/plain": [
       "        Min. 1st Qu. Median Mean    3rd Qu. Max. sd  sd_err_of_mean\n",
       "min_len 1000 1000    1000   1000.58 1000    1058 5.8 2.368         "
      ]
     },
     "metadata": {},
     "output_type": "display_data"
    },
    {
     "data": {
      "text/html": [
       "<table class=\"dataframe\">\n",
       "<caption>A matrix: 1 × 8 of type dbl</caption>\n",
       "<thead>\n",
       "\t<tr><th></th><th scope=col>Min.</th><th scope=col>1st Qu.</th><th scope=col>Median</th><th scope=col>Mean</th><th scope=col>3rd Qu.</th><th scope=col>Max.</th><th scope=col>sd</th><th scope=col>sd_err_of_mean</th></tr>\n",
       "</thead>\n",
       "<tbody>\n",
       "\t<tr><th scope=row>avg_len</th><td>1058</td><td>2816.65</td><td>3088.6</td><td>3199.888</td><td>3538.025</td><td>5663.6</td><td>649.378</td><td>265.107</td></tr>\n",
       "</tbody>\n",
       "</table>\n"
      ],
      "text/latex": [
       "A matrix: 1 × 8 of type dbl\n",
       "\\begin{tabular}{r|llllllll}\n",
       "  & Min. & 1st Qu. & Median & Mean & 3rd Qu. & Max. & sd & sd\\_err\\_of\\_mean\\\\\n",
       "\\hline\n",
       "\tavg\\_len & 1058 & 2816.65 & 3088.6 & 3199.888 & 3538.025 & 5663.6 & 649.378 & 265.107\\\\\n",
       "\\end{tabular}\n"
      ],
      "text/markdown": [
       "\n",
       "A matrix: 1 × 8 of type dbl\n",
       "\n",
       "| <!--/--> | Min. | 1st Qu. | Median | Mean | 3rd Qu. | Max. | sd | sd_err_of_mean |\n",
       "|---|---|---|---|---|---|---|---|---|\n",
       "| avg_len | 1058 | 2816.65 | 3088.6 | 3199.888 | 3538.025 | 5663.6 | 649.378 | 265.107 |\n",
       "\n"
      ],
      "text/plain": [
       "        Min. 1st Qu. Median Mean     3rd Qu.  Max.   sd      sd_err_of_mean\n",
       "avg_len 1058 2816.65 3088.6 3199.888 3538.025 5663.6 649.378 265.107       "
      ]
     },
     "metadata": {},
     "output_type": "display_data"
    }
   ],
   "source": [
    "summary_x(stats$num_seqs)\n",
    "summary_x(stats$min_len)\n",
    "summary_x(stats$avg_len)"
   ]
  },
  {
   "cell_type": "markdown",
   "metadata": {},
   "source": [
    "# ResMiCo-SM"
   ]
  },
  {
   "cell_type": "code",
   "execution_count": 20,
   "metadata": {
    "ExecuteTime": {
     "end_time": "2022-03-06T05:34:42.778754Z",
     "start_time": "2022-03-06T05:34:42.717Z"
    }
   },
   "outputs": [
    {
     "name": "stdout",
     "output_type": "stream",
     "text": [
      "Created directory: /ebio/abt3_projects/databases_no-backup/DeepMAsED/version2/real_data_eval/TUK/len1k/n100r2//llmga/resmico-sm \n"
     ]
    }
   ],
   "source": [
    "DD = file.path(D, 'resmico-sm')\n",
    "make_dir(DD)"
   ]
  },
  {
   "cell_type": "code",
   "execution_count": 21,
   "metadata": {
    "ExecuteTime": {
     "end_time": "2022-03-06T05:34:46.472755Z",
     "start_time": "2022-03-06T05:34:46.393Z"
    }
   },
   "outputs": [
    {
     "data": {
      "text/html": [
       "<table class=\"dataframe\">\n",
       "<caption>A data.table: 100 × 2</caption>\n",
       "<thead>\n",
       "\t<tr><th scope=col>Sample</th><th scope=col>Fasta</th></tr>\n",
       "\t<tr><th scope=col>&lt;chr&gt;</th><th scope=col>&lt;chr&gt;</th></tr>\n",
       "</thead>\n",
       "<tbody>\n",
       "\t<tr><td>1019314</td><td>/ebio/abt3_projects/databases_no-backup/DeepMAsED/version2/real_data_eval/TUK/len1k/n100r2/llmga/final_contigs/1019314/contigs.fna.gz</td></tr>\n",
       "\t<tr><td>1014075</td><td>/ebio/abt3_projects/databases_no-backup/DeepMAsED/version2/real_data_eval/TUK/len1k/n100r2/llmga/final_contigs/1014075/contigs.fna.gz</td></tr>\n",
       "\t<tr><td>⋮</td><td>⋮</td></tr>\n",
       "\t<tr><td>1012315</td><td>/ebio/abt3_projects/databases_no-backup/DeepMAsED/version2/real_data_eval/TUK/len1k/n100r2/llmga/final_contigs/1012315/contigs.fna.gz</td></tr>\n",
       "\t<tr><td>75643  </td><td>/ebio/abt3_projects/databases_no-backup/DeepMAsED/version2/real_data_eval/TUK/len1k/n100r2/llmga/final_contigs/75643/contigs.fna.gz  </td></tr>\n",
       "</tbody>\n",
       "</table>\n"
      ],
      "text/latex": [
       "A data.table: 100 × 2\n",
       "\\begin{tabular}{ll}\n",
       " Sample & Fasta\\\\\n",
       " <chr> & <chr>\\\\\n",
       "\\hline\n",
       "\t 1019314 & /ebio/abt3\\_projects/databases\\_no-backup/DeepMAsED/version2/real\\_data\\_eval/TUK/len1k/n100r2/llmga/final\\_contigs/1019314/contigs.fna.gz\\\\\n",
       "\t 1014075 & /ebio/abt3\\_projects/databases\\_no-backup/DeepMAsED/version2/real\\_data\\_eval/TUK/len1k/n100r2/llmga/final\\_contigs/1014075/contigs.fna.gz\\\\\n",
       "\t ⋮ & ⋮\\\\\n",
       "\t 1012315 & /ebio/abt3\\_projects/databases\\_no-backup/DeepMAsED/version2/real\\_data\\_eval/TUK/len1k/n100r2/llmga/final\\_contigs/1012315/contigs.fna.gz\\\\\n",
       "\t 75643   & /ebio/abt3\\_projects/databases\\_no-backup/DeepMAsED/version2/real\\_data\\_eval/TUK/len1k/n100r2/llmga/final\\_contigs/75643/contigs.fna.gz  \\\\\n",
       "\\end{tabular}\n"
      ],
      "text/markdown": [
       "\n",
       "A data.table: 100 × 2\n",
       "\n",
       "| Sample &lt;chr&gt; | Fasta &lt;chr&gt; |\n",
       "|---|---|\n",
       "| 1019314 | /ebio/abt3_projects/databases_no-backup/DeepMAsED/version2/real_data_eval/TUK/len1k/n100r2/llmga/final_contigs/1019314/contigs.fna.gz |\n",
       "| 1014075 | /ebio/abt3_projects/databases_no-backup/DeepMAsED/version2/real_data_eval/TUK/len1k/n100r2/llmga/final_contigs/1014075/contigs.fna.gz |\n",
       "| ⋮ | ⋮ |\n",
       "| 1012315 | /ebio/abt3_projects/databases_no-backup/DeepMAsED/version2/real_data_eval/TUK/len1k/n100r2/llmga/final_contigs/1012315/contigs.fna.gz |\n",
       "| 75643   | /ebio/abt3_projects/databases_no-backup/DeepMAsED/version2/real_data_eval/TUK/len1k/n100r2/llmga/final_contigs/75643/contigs.fna.gz   |\n",
       "\n"
      ],
      "text/plain": [
       "    Sample \n",
       "1   1019314\n",
       "2   1014075\n",
       "⋮   ⋮      \n",
       "99  1012315\n",
       "100 75643  \n",
       "    Fasta                                                                                                                                \n",
       "1   /ebio/abt3_projects/databases_no-backup/DeepMAsED/version2/real_data_eval/TUK/len1k/n100r2/llmga/final_contigs/1019314/contigs.fna.gz\n",
       "2   /ebio/abt3_projects/databases_no-backup/DeepMAsED/version2/real_data_eval/TUK/len1k/n100r2/llmga/final_contigs/1014075/contigs.fna.gz\n",
       "⋮   ⋮                                                                                                                                    \n",
       "99  /ebio/abt3_projects/databases_no-backup/DeepMAsED/version2/real_data_eval/TUK/len1k/n100r2/llmga/final_contigs/1012315/contigs.fna.gz\n",
       "100 /ebio/abt3_projects/databases_no-backup/DeepMAsED/version2/real_data_eval/TUK/len1k/n100r2/llmga/final_contigs/75643/contigs.fna.gz  "
      ]
     },
     "metadata": {},
     "output_type": "display_data"
    }
   ],
   "source": [
    "# contigs\n",
    "F = file.path(D, 'final_contigs', 'contig_data.tsv')\n",
    "contigs = Fread(F)\n",
    "contigs"
   ]
  },
  {
   "cell_type": "code",
   "execution_count": 22,
   "metadata": {
    "ExecuteTime": {
     "end_time": "2022-03-06T05:34:56.667142Z",
     "start_time": "2022-03-06T05:34:56.577Z"
    }
   },
   "outputs": [
    {
     "data": {
      "text/html": [
       "<table class=\"dataframe\">\n",
       "<caption>A tidytable: 100 × 3</caption>\n",
       "<thead>\n",
       "\t<tr><th scope=col>Sample</th><th scope=col>Read1</th><th scope=col>Read2</th></tr>\n",
       "\t<tr><th scope=col>&lt;chr&gt;</th><th scope=col>&lt;chr&gt;</th><th scope=col>&lt;chr&gt;</th></tr>\n",
       "</thead>\n",
       "<tbody>\n",
       "\t<tr><td>1019314</td><td>/ebio/scratch/nyoungblut/vadinCA11/llcomp/1019314/R1_final.fq.gz</td><td>/ebio/scratch/nyoungblut/vadinCA11/llcomp/1019314/R2_final.fq.gz</td></tr>\n",
       "\t<tr><td>1014075</td><td>/ebio/scratch/nyoungblut/vadinCA11/llcomp/1014075/R1_final.fq.gz</td><td>/ebio/scratch/nyoungblut/vadinCA11/llcomp/1014075/R2_final.fq.gz</td></tr>\n",
       "\t<tr><td>⋮</td><td>⋮</td><td>⋮</td></tr>\n",
       "\t<tr><td>1012315</td><td>/ebio/scratch/nyoungblut/vadinCA11/llcomp/1012315/R1_final.fq.gz</td><td>/ebio/scratch/nyoungblut/vadinCA11/llcomp/1012315/R2_final.fq.gz</td></tr>\n",
       "\t<tr><td>75643  </td><td>/ebio/scratch/nyoungblut/vadinCA11/llcomp/75643/R1_final.fq.gz  </td><td>/ebio/scratch/nyoungblut/vadinCA11/llcomp/75643/R2_final.fq.gz  </td></tr>\n",
       "</tbody>\n",
       "</table>\n"
      ],
      "text/latex": [
       "A tidytable: 100 × 3\n",
       "\\begin{tabular}{lll}\n",
       " Sample & Read1 & Read2\\\\\n",
       " <chr> & <chr> & <chr>\\\\\n",
       "\\hline\n",
       "\t 1019314 & /ebio/scratch/nyoungblut/vadinCA11/llcomp/1019314/R1\\_final.fq.gz & /ebio/scratch/nyoungblut/vadinCA11/llcomp/1019314/R2\\_final.fq.gz\\\\\n",
       "\t 1014075 & /ebio/scratch/nyoungblut/vadinCA11/llcomp/1014075/R1\\_final.fq.gz & /ebio/scratch/nyoungblut/vadinCA11/llcomp/1014075/R2\\_final.fq.gz\\\\\n",
       "\t ⋮ & ⋮ & ⋮\\\\\n",
       "\t 1012315 & /ebio/scratch/nyoungblut/vadinCA11/llcomp/1012315/R1\\_final.fq.gz & /ebio/scratch/nyoungblut/vadinCA11/llcomp/1012315/R2\\_final.fq.gz\\\\\n",
       "\t 75643   & /ebio/scratch/nyoungblut/vadinCA11/llcomp/75643/R1\\_final.fq.gz   & /ebio/scratch/nyoungblut/vadinCA11/llcomp/75643/R2\\_final.fq.gz  \\\\\n",
       "\\end{tabular}\n"
      ],
      "text/markdown": [
       "\n",
       "A tidytable: 100 × 3\n",
       "\n",
       "| Sample &lt;chr&gt; | Read1 &lt;chr&gt; | Read2 &lt;chr&gt; |\n",
       "|---|---|---|\n",
       "| 1019314 | /ebio/scratch/nyoungblut/vadinCA11/llcomp/1019314/R1_final.fq.gz | /ebio/scratch/nyoungblut/vadinCA11/llcomp/1019314/R2_final.fq.gz |\n",
       "| 1014075 | /ebio/scratch/nyoungblut/vadinCA11/llcomp/1014075/R1_final.fq.gz | /ebio/scratch/nyoungblut/vadinCA11/llcomp/1014075/R2_final.fq.gz |\n",
       "| ⋮ | ⋮ | ⋮ |\n",
       "| 1012315 | /ebio/scratch/nyoungblut/vadinCA11/llcomp/1012315/R1_final.fq.gz | /ebio/scratch/nyoungblut/vadinCA11/llcomp/1012315/R2_final.fq.gz |\n",
       "| 75643   | /ebio/scratch/nyoungblut/vadinCA11/llcomp/75643/R1_final.fq.gz   | /ebio/scratch/nyoungblut/vadinCA11/llcomp/75643/R2_final.fq.gz   |\n",
       "\n"
      ],
      "text/plain": [
       "    Sample  Read1                                                           \n",
       "1   1019314 /ebio/scratch/nyoungblut/vadinCA11/llcomp/1019314/R1_final.fq.gz\n",
       "2   1014075 /ebio/scratch/nyoungblut/vadinCA11/llcomp/1014075/R1_final.fq.gz\n",
       "⋮   ⋮       ⋮                                                               \n",
       "99  1012315 /ebio/scratch/nyoungblut/vadinCA11/llcomp/1012315/R1_final.fq.gz\n",
       "100 75643   /ebio/scratch/nyoungblut/vadinCA11/llcomp/75643/R1_final.fq.gz  \n",
       "    Read2                                                           \n",
       "1   /ebio/scratch/nyoungblut/vadinCA11/llcomp/1019314/R2_final.fq.gz\n",
       "2   /ebio/scratch/nyoungblut/vadinCA11/llcomp/1014075/R2_final.fq.gz\n",
       "⋮   ⋮                                                               \n",
       "99  /ebio/scratch/nyoungblut/vadinCA11/llcomp/1012315/R2_final.fq.gz\n",
       "100 /ebio/scratch/nyoungblut/vadinCA11/llcomp/75643/R2_final.fq.gz  "
      ]
     },
     "metadata": {},
     "output_type": "display_data"
    }
   ],
   "source": [
    "# reads\n",
    "F = '/ebio/scratch/nyoungblut/vadinCA11/llcomp/samples.txt'\n",
    "reads = Fread(F) %>%\n",
    "    select.(Sample, Read1, Read2)\n",
    "reads"
   ]
  },
  {
   "cell_type": "code",
   "execution_count": 23,
   "metadata": {
    "ExecuteTime": {
     "end_time": "2022-03-06T05:35:01.057975Z",
     "start_time": "2022-03-06T05:35:00.956Z"
    }
   },
   "outputs": [
    {
     "name": "stdout",
     "output_type": "stream",
     "text": [
      "intersect(x,y): 100 \n",
      "setdiff(x,y): 0 \n",
      "setdiff(y,x): 0 \n",
      "union(x,y): 100 \n"
     ]
    },
    {
     "data": {
      "text/html": [
       "<table class=\"dataframe\">\n",
       "<caption>A tidytable: 100 × 5</caption>\n",
       "<thead>\n",
       "\t<tr><th scope=col>Sample</th><th scope=col>Fasta</th><th scope=col>Read1</th><th scope=col>Read2</th><th scope=col>Taxon</th></tr>\n",
       "\t<tr><th scope=col>&lt;chr&gt;</th><th scope=col>&lt;chr&gt;</th><th scope=col>&lt;chr&gt;</th><th scope=col>&lt;chr&gt;</th><th scope=col>&lt;chr&gt;</th></tr>\n",
       "</thead>\n",
       "<tbody>\n",
       "\t<tr><td>1019314</td><td>/ebio/abt3_projects/databases_no-backup/DeepMAsED/version2/real_data_eval/TUK/len1k/n100r2/llmga/final_contigs/1019314/contigs.fna.gz</td><td>/ebio/scratch/nyoungblut/vadinCA11/llcomp/1019314/R1_final.fq.gz</td><td>/ebio/scratch/nyoungblut/vadinCA11/llcomp/1019314/R2_final.fq.gz</td><td>1019314</td></tr>\n",
       "\t<tr><td>1014075</td><td>/ebio/abt3_projects/databases_no-backup/DeepMAsED/version2/real_data_eval/TUK/len1k/n100r2/llmga/final_contigs/1014075/contigs.fna.gz</td><td>/ebio/scratch/nyoungblut/vadinCA11/llcomp/1014075/R1_final.fq.gz</td><td>/ebio/scratch/nyoungblut/vadinCA11/llcomp/1014075/R2_final.fq.gz</td><td>1014075</td></tr>\n",
       "\t<tr><td>⋮</td><td>⋮</td><td>⋮</td><td>⋮</td><td>⋮</td></tr>\n",
       "\t<tr><td>1012315</td><td>/ebio/abt3_projects/databases_no-backup/DeepMAsED/version2/real_data_eval/TUK/len1k/n100r2/llmga/final_contigs/1012315/contigs.fna.gz</td><td>/ebio/scratch/nyoungblut/vadinCA11/llcomp/1012315/R1_final.fq.gz</td><td>/ebio/scratch/nyoungblut/vadinCA11/llcomp/1012315/R2_final.fq.gz</td><td>1012315</td></tr>\n",
       "\t<tr><td>75643  </td><td>/ebio/abt3_projects/databases_no-backup/DeepMAsED/version2/real_data_eval/TUK/len1k/n100r2/llmga/final_contigs/75643/contigs.fna.gz  </td><td>/ebio/scratch/nyoungblut/vadinCA11/llcomp/75643/R1_final.fq.gz  </td><td>/ebio/scratch/nyoungblut/vadinCA11/llcomp/75643/R2_final.fq.gz  </td><td>75643  </td></tr>\n",
       "</tbody>\n",
       "</table>\n"
      ],
      "text/latex": [
       "A tidytable: 100 × 5\n",
       "\\begin{tabular}{lllll}\n",
       " Sample & Fasta & Read1 & Read2 & Taxon\\\\\n",
       " <chr> & <chr> & <chr> & <chr> & <chr>\\\\\n",
       "\\hline\n",
       "\t 1019314 & /ebio/abt3\\_projects/databases\\_no-backup/DeepMAsED/version2/real\\_data\\_eval/TUK/len1k/n100r2/llmga/final\\_contigs/1019314/contigs.fna.gz & /ebio/scratch/nyoungblut/vadinCA11/llcomp/1019314/R1\\_final.fq.gz & /ebio/scratch/nyoungblut/vadinCA11/llcomp/1019314/R2\\_final.fq.gz & 1019314\\\\\n",
       "\t 1014075 & /ebio/abt3\\_projects/databases\\_no-backup/DeepMAsED/version2/real\\_data\\_eval/TUK/len1k/n100r2/llmga/final\\_contigs/1014075/contigs.fna.gz & /ebio/scratch/nyoungblut/vadinCA11/llcomp/1014075/R1\\_final.fq.gz & /ebio/scratch/nyoungblut/vadinCA11/llcomp/1014075/R2\\_final.fq.gz & 1014075\\\\\n",
       "\t ⋮ & ⋮ & ⋮ & ⋮ & ⋮\\\\\n",
       "\t 1012315 & /ebio/abt3\\_projects/databases\\_no-backup/DeepMAsED/version2/real\\_data\\_eval/TUK/len1k/n100r2/llmga/final\\_contigs/1012315/contigs.fna.gz & /ebio/scratch/nyoungblut/vadinCA11/llcomp/1012315/R1\\_final.fq.gz & /ebio/scratch/nyoungblut/vadinCA11/llcomp/1012315/R2\\_final.fq.gz & 1012315\\\\\n",
       "\t 75643   & /ebio/abt3\\_projects/databases\\_no-backup/DeepMAsED/version2/real\\_data\\_eval/TUK/len1k/n100r2/llmga/final\\_contigs/75643/contigs.fna.gz   & /ebio/scratch/nyoungblut/vadinCA11/llcomp/75643/R1\\_final.fq.gz   & /ebio/scratch/nyoungblut/vadinCA11/llcomp/75643/R2\\_final.fq.gz   & 75643  \\\\\n",
       "\\end{tabular}\n"
      ],
      "text/markdown": [
       "\n",
       "A tidytable: 100 × 5\n",
       "\n",
       "| Sample &lt;chr&gt; | Fasta &lt;chr&gt; | Read1 &lt;chr&gt; | Read2 &lt;chr&gt; | Taxon &lt;chr&gt; |\n",
       "|---|---|---|---|---|\n",
       "| 1019314 | /ebio/abt3_projects/databases_no-backup/DeepMAsED/version2/real_data_eval/TUK/len1k/n100r2/llmga/final_contigs/1019314/contigs.fna.gz | /ebio/scratch/nyoungblut/vadinCA11/llcomp/1019314/R1_final.fq.gz | /ebio/scratch/nyoungblut/vadinCA11/llcomp/1019314/R2_final.fq.gz | 1019314 |\n",
       "| 1014075 | /ebio/abt3_projects/databases_no-backup/DeepMAsED/version2/real_data_eval/TUK/len1k/n100r2/llmga/final_contigs/1014075/contigs.fna.gz | /ebio/scratch/nyoungblut/vadinCA11/llcomp/1014075/R1_final.fq.gz | /ebio/scratch/nyoungblut/vadinCA11/llcomp/1014075/R2_final.fq.gz | 1014075 |\n",
       "| ⋮ | ⋮ | ⋮ | ⋮ | ⋮ |\n",
       "| 1012315 | /ebio/abt3_projects/databases_no-backup/DeepMAsED/version2/real_data_eval/TUK/len1k/n100r2/llmga/final_contigs/1012315/contigs.fna.gz | /ebio/scratch/nyoungblut/vadinCA11/llcomp/1012315/R1_final.fq.gz | /ebio/scratch/nyoungblut/vadinCA11/llcomp/1012315/R2_final.fq.gz | 1012315 |\n",
       "| 75643   | /ebio/abt3_projects/databases_no-backup/DeepMAsED/version2/real_data_eval/TUK/len1k/n100r2/llmga/final_contigs/75643/contigs.fna.gz   | /ebio/scratch/nyoungblut/vadinCA11/llcomp/75643/R1_final.fq.gz   | /ebio/scratch/nyoungblut/vadinCA11/llcomp/75643/R2_final.fq.gz   | 75643   |\n",
       "\n"
      ],
      "text/plain": [
       "    Sample \n",
       "1   1019314\n",
       "2   1014075\n",
       "⋮   ⋮      \n",
       "99  1012315\n",
       "100 75643  \n",
       "    Fasta                                                                                                                                \n",
       "1   /ebio/abt3_projects/databases_no-backup/DeepMAsED/version2/real_data_eval/TUK/len1k/n100r2/llmga/final_contigs/1019314/contigs.fna.gz\n",
       "2   /ebio/abt3_projects/databases_no-backup/DeepMAsED/version2/real_data_eval/TUK/len1k/n100r2/llmga/final_contigs/1014075/contigs.fna.gz\n",
       "⋮   ⋮                                                                                                                                    \n",
       "99  /ebio/abt3_projects/databases_no-backup/DeepMAsED/version2/real_data_eval/TUK/len1k/n100r2/llmga/final_contigs/1012315/contigs.fna.gz\n",
       "100 /ebio/abt3_projects/databases_no-backup/DeepMAsED/version2/real_data_eval/TUK/len1k/n100r2/llmga/final_contigs/75643/contigs.fna.gz  \n",
       "    Read1                                                           \n",
       "1   /ebio/scratch/nyoungblut/vadinCA11/llcomp/1019314/R1_final.fq.gz\n",
       "2   /ebio/scratch/nyoungblut/vadinCA11/llcomp/1014075/R1_final.fq.gz\n",
       "⋮   ⋮                                                               \n",
       "99  /ebio/scratch/nyoungblut/vadinCA11/llcomp/1012315/R1_final.fq.gz\n",
       "100 /ebio/scratch/nyoungblut/vadinCA11/llcomp/75643/R1_final.fq.gz  \n",
       "    Read2                                                            Taxon  \n",
       "1   /ebio/scratch/nyoungblut/vadinCA11/llcomp/1019314/R2_final.fq.gz 1019314\n",
       "2   /ebio/scratch/nyoungblut/vadinCA11/llcomp/1014075/R2_final.fq.gz 1014075\n",
       "⋮   ⋮                                                                ⋮      \n",
       "99  /ebio/scratch/nyoungblut/vadinCA11/llcomp/1012315/R2_final.fq.gz 1012315\n",
       "100 /ebio/scratch/nyoungblut/vadinCA11/llcomp/75643/R2_final.fq.gz   75643  "
      ]
     },
     "metadata": {},
     "output_type": "display_data"
    }
   ],
   "source": [
    "# joining\n",
    "overlap(contigs$Sample, reads$Sample)\n",
    "contigs = contigs %>%\n",
    "    inner_join.(reads, c('Sample')) %>%\n",
    "    mutate.(Taxon = Sample)\n",
    "contigs"
   ]
  },
  {
   "cell_type": "code",
   "execution_count": 24,
   "metadata": {
    "ExecuteTime": {
     "end_time": "2022-03-06T05:35:05.385550Z",
     "start_time": "2022-03-06T05:35:05.322Z"
    }
   },
   "outputs": [
    {
     "name": "stdout",
     "output_type": "stream",
     "text": [
      "File written: /ebio/abt3_projects/databases_no-backup/DeepMAsED/version2/real_data_eval/TUK/len1k/n100r2//llmga/resmico-sm/samples.tsv \n"
     ]
    }
   ],
   "source": [
    "# writing\n",
    "F = file.path(DD, 'samples.tsv')\n",
    "write_table(contigs, F)"
   ]
  },
  {
   "cell_type": "markdown",
   "metadata": {},
   "source": [
    "### Config"
   ]
  },
  {
   "cell_type": "code",
   "execution_count": 26,
   "metadata": {
    "ExecuteTime": {
     "end_time": "2022-03-06T05:37:20.411228Z",
     "start_time": "2022-03-06T05:37:20.293Z"
    }
   },
   "outputs": [
    {
     "name": "stdout",
     "output_type": "stream",
     "text": [
      "# Input table\n",
      "## Table of genomes\n",
      "genomes_file: /ebio/abt3_projects/databases_no-backup/DeepMAsED/version2/real_data_eval/TUK/len1k/n100r2/llmga/resmico-sm/samples.tsv\n",
      "\n",
      "# Output directory\n",
      "output_dir: /ebio/abt3_projects/databases_no-backup/DeepMAsED/version2/real_data_eval/TUK/len1k/n100r2/llmga/resmico-sm/\n",
      "\n",
      "# Temporary output directory (/dev/shm/ for shared memory)\n",
      "tmp_dir: /ebio/abt3_scratch/nyoungblut/\n",
      "\n",
      "# Email for notifications (\"Skip\" to skip)\n",
      "email: nyoungblut@tuebingen.mpg.de\n",
      "\n",
      "# software parameters for data simulations\n",
      "## Use \"Skip\" to skip  steps. If no params for rule, use \"\"\n",
      "## `reps:` is the number of replicate simulations\n",
      "## If `keep_reads: True`, then simulated reads are kept\n",
      "params:\n",
      "  ionice: -c 3\n",
      "  # simulating metagenomes\n",
      "  MGSIM:\n",
      "    sim_reps: 1\n",
      "    community:\n",
      "      richness:\n",
      "        - 0.5\n",
      "        - 0.8\n",
      "      abundance_distribution:\n",
      "        - \"mean:10,sigma:1\"\n",
      "        - \"mean:10,sigma:2\"\n",
      "      random_seed: 8192\n",
      "      other_sim_params: --group-bias 0\n",
      "    reads: \n",
      "      length:\n",
      "        - 100\n",
      "        - 150\n",
      "      depth:\n",
      "        - 1000000\n",
      "        - 4000000\n",
      "      other_sim_params: --art-paired --art-mflen 270 --art-sdev 50 --rndSeed 8712\n",
      "                        --art-qprof1 data/art_error_profiles/HiSeq2500L150R1.txt\n",
      "                        --art-qprof2 data/art_error_profiles/HiSeq2500L150R2.txt\n",
      "      skewer: -n -l 70 -q 25 --format sanger\n",
      "      keep_reads: False\n",
      "  # coverage\n",
      "  nonpareil:\n",
      "    params: -T kmer\n",
      "    summary: 1e9   # this is target seq. depth\n",
      "  # assemblying metagenomes\n",
      "  assemblers:\n",
      "    metaspades: -k auto --only-assembler\n",
      "    megahit: --min-count 1 --min-contig-len 1000\n",
      "  # assembly filtering\n",
      "  contigs:\n",
      "    length_cutoff: 1000       # length in bp \n",
      "  # assessing assembly errors\n",
      "  asmbl_errors:\n",
      "    metaquast: --max-ref-number 0 --min-contig 1000 --min-identity 95 --extensive-mis-size 100\n",
      "               --no-html --no-plots --no-icarus --no-gc --no-snps --no-sv\n",
      "    keep_genomes: False\n",
      "  # mapping reads to contigs\n",
      "  map:\n",
      "    contig_frac:\n",
      "      - 1\n",
      "    samtools: \"\"\n",
      "    bowtie2: \"\"\n",
      "    max_coverage: 20\n",
      "    keep_bam: False\n",
      "    keep_faidx: False\n",
      "    create_bigwig: False\n",
      "  # creating ResMiCo feature tables\n",
      "  feature_table:\n",
      "    make: --window 6\n",
      "  # state-of-the-art\n",
      "  SotA:\n",
      "    ALE: Skip\n",
      "    VALET: Skip\n",
      "    metaMIC:\n",
      "      extract: Skip #--mlen 1000\n",
      "      predict: --mlen 1000 --slen 500 -a MEGAHIT\n",
      "  # misc\n",
      "  real_contigs_simulated_reads: False\n",
      "\n",
      "# params just for creating feature tables for non-simulated data\n",
      "nonsim_params:\n",
      "  # max number of reads to use\n",
      "  subsample_reads: Skip #1000000\n",
      "\n",
      "# snakemake pipeline\n",
      "pipeline:\n",
      "  snakemake_folder: ./\n",
      "  script_folder: ./bin/scripts/\n",
      "  name: ResMiCo-SM"
     ]
    }
   ],
   "source": [
    "F = file.path(DD, 'config.yaml')\n",
    "cat_file(F)"
   ]
  },
  {
   "cell_type": "markdown",
   "metadata": {},
   "source": [
    "### Run"
   ]
  },
  {
   "cell_type": "markdown",
   "metadata": {},
   "source": [
    "```\n",
    "(snakemake) @ rick:/ebio/abt3_projects/DeepMAsED/version2/deepmased/ResMiCo-SM\n",
    "$ screen -L -S rmc-sm-VA11 ./snakemake_sge.sh /ebio/abt3_projects/databases_no-backup/DeepMAsED/version2/real_data_eval/TUK/len1k/n100r2/llmga/resmico-sm/config.yaml 30 -F\n",
    "```"
   ]
  },
  {
   "cell_type": "markdown",
   "metadata": {},
   "source": [
    "# sessionInfo"
   ]
  },
  {
   "cell_type": "code",
   "execution_count": 27,
   "metadata": {
    "ExecuteTime": {
     "end_time": "2022-03-08T08:06:45.015353Z",
     "start_time": "2022-03-08T08:06:44.903Z"
    }
   },
   "outputs": [
    {
     "data": {
      "text/plain": [
       "R version 4.1.1 (2021-08-10)\n",
       "Platform: x86_64-conda-linux-gnu (64-bit)\n",
       "Running under: Ubuntu 18.04.6 LTS\n",
       "\n",
       "Matrix products: default\n",
       "BLAS/LAPACK: /tmp/global2/nyoungblut/code/general/conda_envs/general-tidyverse/lib/libopenblasp-r0.3.18.so\n",
       "\n",
       "locale:\n",
       " [1] LC_CTYPE=en_US.UTF-8       LC_NUMERIC=C              \n",
       " [3] LC_TIME=en_US.UTF-8        LC_COLLATE=en_US.UTF-8    \n",
       " [5] LC_MONETARY=en_US.UTF-8    LC_MESSAGES=en_US.UTF-8   \n",
       " [7] LC_PAPER=en_US.UTF-8       LC_NAME=C                 \n",
       " [9] LC_ADDRESS=C               LC_TELEPHONE=C            \n",
       "[11] LC_MEASUREMENT=en_US.UTF-8 LC_IDENTIFICATION=C       \n",
       "\n",
       "attached base packages:\n",
       "[1] stats     graphics  grDevices utils     datasets  methods   base     \n",
       "\n",
       "other attached packages:\n",
       "[1] clustermq_0.8.95.2 LeyLabRMisc_0.2.1  tidytable_0.6.6    data.table_1.14.2 \n",
       "[5] ggplot2_3.3.5      tidyr_1.1.4        dplyr_1.0.7       \n",
       "\n",
       "loaded via a namespace (and not attached):\n",
       " [1] Rcpp_1.0.7       plyr_1.8.6       pillar_1.6.4     compiler_4.1.1  \n",
       " [5] base64enc_0.1-3  tools_4.1.1      digest_0.6.29    uuid_1.0-3      \n",
       " [9] jsonlite_1.7.2   evaluate_0.14    lifecycle_1.0.1  tibble_3.1.6    \n",
       "[13] gtable_0.3.0     pkgconfig_2.0.3  rlang_0.4.12     IRdisplay_1.1   \n",
       "[17] IRkernel_1.3     fastmap_1.1.0    repr_1.1.4       withr_2.4.3     \n",
       "[21] generics_0.1.1   vctrs_0.3.8      grid_4.1.1       tidyselect_1.1.1\n",
       "[25] glue_1.6.0       R6_2.5.1         fansi_1.0.0      pbdZMQ_0.3-6    \n",
       "[29] purrr_0.3.4      magrittr_2.0.1   codetools_0.2-18 scales_1.1.1    \n",
       "[33] ellipsis_0.3.2   htmltools_0.5.2  colorspace_2.0-2 utf8_1.2.2      \n",
       "[37] munsell_0.5.0    crayon_1.4.2    "
      ]
     },
     "metadata": {},
     "output_type": "display_data"
    }
   ],
   "source": [
    "sessionInfo()"
   ]
  }
 ],
 "metadata": {
  "kernelspec": {
   "display_name": "R [conda env:general-tidyverse]",
   "language": "R",
   "name": "conda-env-general-tidyverse-r"
  },
  "language_info": {
   "codemirror_mode": "r",
   "file_extension": ".r",
   "mimetype": "text/x-r-source",
   "name": "R",
   "pygments_lexer": "r",
   "version": "4.1.1"
  },
  "notify_time": "30",
  "toc": {
   "base_numbering": 1,
   "nav_menu": {},
   "number_sections": true,
   "sideBar": true,
   "skip_h1_title": false,
   "title_cell": "Table of Contents",
   "title_sidebar": "Contents",
   "toc_cell": true,
   "toc_position": {},
   "toc_section_display": true,
   "toc_window_display": true
  }
 },
 "nbformat": 4,
 "nbformat_minor": 4
}
