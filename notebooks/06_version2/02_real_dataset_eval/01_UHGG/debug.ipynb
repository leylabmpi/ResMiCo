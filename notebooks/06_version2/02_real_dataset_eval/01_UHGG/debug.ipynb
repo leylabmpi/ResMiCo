{
 "cells": [
  {
   "cell_type": "markdown",
   "id": "4730e1f5",
   "metadata": {
    "toc": true
   },
   "source": [
    "<h1>Table of Contents<span class=\"tocSkip\"></span></h1>\n",
    "<div class=\"toc\"><ul class=\"toc-item\"></ul></div>"
   ]
  },
  {
   "cell_type": "code",
   "execution_count": 4,
   "id": "694e3c99",
   "metadata": {
    "ExecuteTime": {
     "end_time": "2021-07-08T07:49:31.643594Z",
     "start_time": "2021-07-08T07:49:31.596Z"
    }
   },
   "outputs": [],
   "source": [
    "threads = 4"
   ]
  },
  {
   "cell_type": "code",
   "execution_count": 5,
   "id": "c7ff86ba",
   "metadata": {
    "ExecuteTime": {
     "end_time": "2021-07-08T07:49:31.785430Z",
     "start_time": "2021-07-08T07:49:31.732Z"
    }
   },
   "outputs": [],
   "source": [
    "library(dplyr)\n",
    "library(tidyr)\n",
    "library(ggplot2)\n",
    "library(data.table)\n",
    "library(tidytable)\n",
    "library(LeyLabRMisc)"
   ]
  },
  {
   "cell_type": "code",
   "execution_count": 6,
   "id": "13012329",
   "metadata": {
    "ExecuteTime": {
     "end_time": "2021-07-08T07:49:31.897851Z",
     "start_time": "2021-07-08T07:49:31.843Z"
    }
   },
   "outputs": [],
   "source": [
    "setDTthreads(threads)\n",
    "df.dims()"
   ]
  },
  {
   "cell_type": "code",
   "execution_count": 12,
   "id": "c0790a1c",
   "metadata": {
    "ExecuteTime": {
     "end_time": "2021-07-08T07:51:51.582225Z",
     "start_time": "2021-07-08T07:51:51.487Z"
    }
   },
   "outputs": [
    {
     "data": {
      "text/html": [
       "<table>\n",
       "<caption>A data.table: 100 × 3</caption>\n",
       "<thead>\n",
       "\t<tr><th scope=col>genome</th><th scope=col>contig</th><th scope=col>y_pred_proba</th></tr>\n",
       "\t<tr><th scope=col>&lt;chr&gt;</th><th scope=col>&lt;chr&gt;</th><th scope=col>&lt;dbl&gt;</th></tr>\n",
       "</thead>\n",
       "<tbody>\n",
       "\t<tr><td>GUT_GENOME203706</td><td>GUT_GENOME203706_8_CONTIG8  </td><td>0.6951044</td></tr>\n",
       "\t<tr><td>GUT_GENOME203706</td><td>GUT_GENOME203706_52_CONTIG52</td><td>0.6735171</td></tr>\n",
       "\t<tr><td>⋮</td><td>⋮</td><td>⋮</td></tr>\n",
       "\t<tr><td>GUT_GENOME203706</td><td>GUT_GENOME203706_83_CONTIG83  </td><td>0.6049470</td></tr>\n",
       "\t<tr><td>GUT_GENOME203706</td><td>GUT_GENOME203706_118_CONTIG118</td><td>0.4237847</td></tr>\n",
       "</tbody>\n",
       "</table>\n"
      ],
      "text/latex": [
       "A data.table: 100 × 3\n",
       "\\begin{tabular}{lll}\n",
       " genome & contig & y\\_pred\\_proba\\\\\n",
       " <chr> & <chr> & <dbl>\\\\\n",
       "\\hline\n",
       "\t GUT\\_GENOME203706 & GUT\\_GENOME203706\\_8\\_CONTIG8   & 0.6951044\\\\\n",
       "\t GUT\\_GENOME203706 & GUT\\_GENOME203706\\_52\\_CONTIG52 & 0.6735171\\\\\n",
       "\t ⋮ & ⋮ & ⋮\\\\\n",
       "\t GUT\\_GENOME203706 & GUT\\_GENOME203706\\_83\\_CONTIG83   & 0.6049470\\\\\n",
       "\t GUT\\_GENOME203706 & GUT\\_GENOME203706\\_118\\_CONTIG118 & 0.4237847\\\\\n",
       "\\end{tabular}\n"
      ],
      "text/markdown": [
       "\n",
       "A data.table: 100 × 3\n",
       "\n",
       "| genome &lt;chr&gt; | contig &lt;chr&gt; | y_pred_proba &lt;dbl&gt; |\n",
       "|---|---|---|\n",
       "| GUT_GENOME203706 | GUT_GENOME203706_8_CONTIG8   | 0.6951044 |\n",
       "| GUT_GENOME203706 | GUT_GENOME203706_52_CONTIG52 | 0.6735171 |\n",
       "| ⋮ | ⋮ | ⋮ |\n",
       "| GUT_GENOME203706 | GUT_GENOME203706_83_CONTIG83   | 0.6049470 |\n",
       "| GUT_GENOME203706 | GUT_GENOME203706_118_CONTIG118 | 0.4237847 |\n",
       "\n"
      ],
      "text/plain": [
       "    genome           contig                         y_pred_proba\n",
       "1   GUT_GENOME203706 GUT_GENOME203706_8_CONTIG8     0.6951044   \n",
       "2   GUT_GENOME203706 GUT_GENOME203706_52_CONTIG52   0.6735171   \n",
       "⋮   ⋮                ⋮                              ⋮           \n",
       "99  GUT_GENOME203706 GUT_GENOME203706_83_CONTIG83   0.6049470   \n",
       "100 GUT_GENOME203706 GUT_GENOME203706_118_CONTIG118 0.4237847   "
      ]
     },
     "metadata": {},
     "output_type": "display_data"
    }
   ],
   "source": [
    "F = '/ebio/abt3_projects/databases_no-backup/DeepMAsED/version2/real_data_eval/UHGG/LLMGQC_top100/DM-sm/DM/with_mc38_aucPR_0.869-d03-fc1-nblo4_sample.csv'\n",
    "misprobs = Fread(F, nrows=100, sep=',') %>%\n",
    "    select.(genome, contig, y_pred_proba)\n",
    "misprobs"
   ]
  },
  {
   "cell_type": "code",
   "execution_count": 8,
   "id": "26cf2aa8",
   "metadata": {
    "ExecuteTime": {
     "end_time": "2021-07-08T07:49:56.384380Z",
     "start_time": "2021-07-08T07:49:55.732Z"
    }
   },
   "outputs": [],
   "source": []
  },
  {
   "cell_type": "code",
   "execution_count": null,
   "id": "2443b2a2",
   "metadata": {},
   "outputs": [],
   "source": []
  }
 ],
 "metadata": {
  "kernelspec": {
   "display_name": "R [conda env:Georg_animal_feces-tidyverse]",
   "language": "R",
   "name": "conda-env-Georg_animal_feces-tidyverse-r"
  },
  "language_info": {
   "codemirror_mode": "r",
   "file_extension": ".r",
   "mimetype": "text/x-r-source",
   "name": "R",
   "pygments_lexer": "r",
   "version": "3.6.3"
  },
  "toc": {
   "base_numbering": 1,
   "nav_menu": {},
   "number_sections": true,
   "sideBar": true,
   "skip_h1_title": false,
   "title_cell": "Table of Contents",
   "title_sidebar": "Contents",
   "toc_cell": true,
   "toc_position": {},
   "toc_section_display": true,
   "toc_window_display": false
  }
 },
 "nbformat": 4,
 "nbformat_minor": 5
}
