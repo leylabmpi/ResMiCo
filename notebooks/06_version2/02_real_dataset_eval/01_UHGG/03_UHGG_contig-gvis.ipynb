{
 "cells": [
  {
   "cell_type": "markdown",
   "metadata": {
    "toc": true
   },
   "source": [
    "<h1>Table of Contents<span class=\"tocSkip\"></span></h1>\n",
    "<div class=\"toc\"><ul class=\"toc-item\"><li><span><a href=\"#Goal\" data-toc-modified-id=\"Goal-1\"><span class=\"toc-item-num\">1&nbsp;&nbsp;</span>Goal</a></span></li><li><span><a href=\"#Var\" data-toc-modified-id=\"Var-2\"><span class=\"toc-item-num\">2&nbsp;&nbsp;</span>Var</a></span></li><li><span><a href=\"#Init\" data-toc-modified-id=\"Init-3\"><span class=\"toc-item-num\">3&nbsp;&nbsp;</span>Init</a></span></li><li><span><a href=\"#Run1\" data-toc-modified-id=\"Run1-4\"><span class=\"toc-item-num\">4&nbsp;&nbsp;</span>Run1</a></span></li><li><span><a href=\"#sessionInfo\" data-toc-modified-id=\"sessionInfo-5\"><span class=\"toc-item-num\">5&nbsp;&nbsp;</span>sessionInfo</a></span></li></ul></div>"
   ]
  },
  {
   "cell_type": "markdown",
   "metadata": {},
   "source": [
    "# Goal\n",
    "\n",
    "* Visualize per-position resmico scores on contigs along with mapped reads"
   ]
  },
  {
   "cell_type": "markdown",
   "metadata": {},
   "source": [
    "# Var"
   ]
  },
  {
   "cell_type": "code",
   "execution_count": 4,
   "metadata": {
    "ExecuteTime": {
     "end_time": "2022-02-10T11:44:48.099183Z",
     "start_time": "2022-02-10T11:44:40.166Z"
    }
   },
   "outputs": [],
   "source": [
    "base_dir = '/ebio/abt3_projects/databases_no-backup/DeepMAsED/version2/real_data_eval/UHGG/LLMGQC_r100/LLMGA/rmc-sm/map/'\n",
    "scores_dir = '/ebio/abt3_projects/databases_no-backup/DeepMAsED/version2/real_data_eval/UHGG/LLMGQC_r100/resmico_scores/'\n"
   ]
  },
  {
   "cell_type": "markdown",
   "metadata": {},
   "source": [
    "# Init"
   ]
  },
  {
   "cell_type": "code",
   "execution_count": 5,
   "metadata": {
    "ExecuteTime": {
     "end_time": "2022-02-10T11:44:48.124806Z",
     "start_time": "2022-02-10T11:44:42.900Z"
    }
   },
   "outputs": [],
   "source": [
    "library(dplyr)\n",
    "library(tidyr)\n",
    "library(ggplot2)\n",
    "library(data.table)\n",
    "library(tidytable)\n",
    "library(LeyLabRMisc)\n",
    "Init()"
   ]
  },
  {
   "cell_type": "code",
   "execution_count": 6,
   "metadata": {
    "ExecuteTime": {
     "end_time": "2022-02-10T11:44:48.140588Z",
     "start_time": "2022-02-10T11:44:43.628Z"
    }
   },
   "outputs": [],
   "source": [
    "library(Gviz)\n",
    "library(Rsamtools)"
   ]
  },
  {
   "cell_type": "code",
   "execution_count": 3,
   "metadata": {
    "ExecuteTime": {
     "end_time": "2022-02-10T11:44:48.082294Z",
     "start_time": "2022-02-10T11:44:31.223Z"
    }
   },
   "outputs": [],
   "source": [
    "options(ucscChromosomeNames=FALSE)"
   ]
  },
  {
   "cell_type": "markdown",
   "metadata": {},
   "source": [
    "# Run1"
   ]
  },
  {
   "cell_type": "code",
   "execution_count": 7,
   "metadata": {
    "ExecuteTime": {
     "end_time": "2022-02-10T11:45:01.208091Z",
     "start_time": "2022-02-10T11:45:01.180Z"
    }
   },
   "outputs": [],
   "source": [
    "score_files_9feat = list(\n",
    "'ERS436684' = '9_feat_contr_ERS436684.wig',\n",
    "'ERS537292' = '9_feat_contr_ERS537292.wig',\n",
    "'ERS971961' = '9_feat_contr_ERS971961.wig',\n",
    "'ERS1069689' = '9_feat_contr_ERS1069689.wig',\n",
    "'SRS476211' = '9_feat_contr_SRS476211.wig',\n",
    "'SRS820603' = '9_feat_contr_SRS820603.wig'\n",
    ")\n",
    "score_files_contr = list(\n",
    "'ERS537292' = 'all_feat_contr_ERS537292.wig',\n",
    "'ERS971961' = 'all_feat_contr_ERS971961.wig',\n",
    "'ERS1069689' = 'all_feat_contr_ERS1069689.wig',\n",
    "'SRS476114' = 'all_feat_contr_SRS476114.wig',\n",
    "'SRS476211' = 'all_feat_contr_SRS476211.wig',\n",
    "'SRS820603' = 'all_feat_contr_SRS820603.wig'\n",
    ")\n",
    "score_files_low = list(\n",
    "'ERS235630' = 'all_feat_low_ERS235630.wig',\n",
    "'ERS396506' = 'all_feat_low_ERS396506.wig',\n",
    "'ERS1015611' = 'all_feat_low_ERS1015611.wig',\n",
    "'SRS1858592' = 'all_feat_low_SRS1858592.wig',\n",
    "'SRS1876707' = 'all_feat_low_SRS1876707.wig'\n",
    ")\n",
    "score_files_medium = list(\n",
    "'ERS235591' = 'all_feat_medium_ERS235591.wig',\n",
    "'ERS396506' = 'all_feat_medium_ERS396506.wig',\n",
    "'ERS848736' = 'all_feat_medium_ERS848736.wig',\n",
    "'ERS1015876' = 'all_feat_medium_ERS1015876.wig',\n",
    "'SRS476114' = 'all_feat_medium_SRS476114.wig'\n",
    ")"
   ]
  },
  {
   "cell_type": "code",
   "execution_count": 31,
   "metadata": {
    "ExecuteTime": {
     "end_time": "2022-02-10T12:29:42.965607Z",
     "start_time": "2022-02-10T12:29:42.947Z"
    }
   },
   "outputs": [],
   "source": [
    "plot_region = function(x, tracks, out_dir=NULL){\n",
    "    if(! is.null(out_dir)){\n",
    "        if(! dir.exists(out_dir)){\n",
    "            make_dir(out_dir)\n",
    "        }\n",
    "        out_file = file.path(out_dir, paste0(x[['contig']], '.png'))\n",
    "        png(file=out_file, width=8, height=3.5, units='in', res=300)\n",
    "    }\n",
    "    plotTracks(tracks, \n",
    "               sizes = c(1,3,2),\n",
    "               from = 1, to = x[['length_bp']], \n",
    "               chromosome = x[['contig']], \n",
    "               col.mates = 'purple',\n",
    "               main = x[['contig']],\n",
    "               cex.main = 0.8,\n",
    "               cex = 0.8)\n",
    "    if(! is.null(out_dir)){\n",
    "        dev.off()\n",
    "    }\n",
    "}\n",
    "\n",
    "plot_contig = function(sample, score_files, base_dir, scores_dir, out_dir=NULL){\n",
    "    # input\n",
    "    scores_file = glue::glue('all_feat_contr_{s}.wig', s=sample)\n",
    "    D = file.path(base_dir, sample, glue::glue('{s}_contigs', s=sample), \n",
    "                  'NA', 'NA', 'NA', 'NA')\n",
    "    contigs_file = file.path(D, 'contigs.fasta')\n",
    "    bam_file = file.path(D, 'mapped.bam')\n",
    "    wig_file = file.path(scores_dir, score_files[[sample]])\n",
    "    # getting target contigs\n",
    "    target_contigs = Fread(wig_file, sep=' ', header=FALSE) %>%\n",
    "        filter.(V1 == 'variableStep') %>%\n",
    "        mutate.(V2 = gsub('^chrom=', '', V2)) %>%\n",
    "        .$V2\n",
    "    # getting contig lengths\n",
    "    contigs = FaFile(contigs_file) %>% seqinfo %>% as.data.frame\n",
    "    contigs$contig = rownames(contigs)\n",
    "    contigs = contigs %>% as.data.table %>%\n",
    "        rename.('length_bp' = seqlengths) %>%\n",
    "        select.(contig, length_bp) %>%\n",
    "        filter.(contig %in% target_contigs)\n",
    "    # tracks\n",
    "    tracks = list(\n",
    "        SequenceTrack(contigs_file),\n",
    "        AlignmentsTrack(bam_file, isPaired = TRUE),\n",
    "        DataTrack(wig_file, type='l', name='ResMiCo')\n",
    "    )\n",
    "    # plotting\n",
    "    contigs %>%\n",
    "        group_split.(contig) %>%\n",
    "        lapply(plot_region, tracks=tracks, out_dir=out_dir)\n",
    "}"
   ]
  },
  {
   "cell_type": "code",
   "execution_count": 32,
   "metadata": {
    "ExecuteTime": {
     "end_time": "2022-02-10T12:30:08.963864Z",
     "start_time": "2022-02-10T12:29:43.120Z"
    }
   },
   "outputs": [],
   "source": [
    "p.dims(8,3)\n",
    "out_dir = file.path(scores_dir, '9_feat_contr')\n",
    "ret = score_files_9feat %>% names %>% \n",
    "    lapply(plot_contig, score_files=score_files_9feat, base_dir=base_dir, \n",
    "           scores_dir=scores_dir, out_dir=out_dir)"
   ]
  },
  {
   "cell_type": "code",
   "execution_count": 33,
   "metadata": {
    "ExecuteTime": {
     "end_time": "2022-02-10T12:30:43.567628Z",
     "start_time": "2022-02-10T12:30:04.450Z"
    }
   },
   "outputs": [],
   "source": [
    "p.dims(8,3)\n",
    "out_dir = file.path(scores_dir, 'all_feat_contr')\n",
    "ret = score_files_contr %>% names %>% \n",
    "    lapply(plot_contig, score_files=score_files_contr, base_dir=base_dir, \n",
    "           scores_dir=scores_dir, out_dir=out_dir)"
   ]
  },
  {
   "cell_type": "code",
   "execution_count": 34,
   "metadata": {
    "ExecuteTime": {
     "end_time": "2022-02-10T12:32:22.583100Z",
     "start_time": "2022-02-10T12:30:04.563Z"
    }
   },
   "outputs": [],
   "source": [
    "p.dims(8,3)\n",
    "out_dir = file.path(scores_dir, 'all_feat_low')\n",
    "ret = score_files_low %>% names %>% \n",
    "    lapply(plot_contig, score_files=score_files_low, base_dir=base_dir, \n",
    "           scores_dir=scores_dir, out_dir=out_dir)"
   ]
  },
  {
   "cell_type": "code",
   "execution_count": 36,
   "metadata": {
    "ExecuteTime": {
     "end_time": "2022-02-10T12:37:12.571995Z",
     "start_time": "2022-02-10T12:36:20.920Z"
    }
   },
   "outputs": [
    {
     "name": "stdout",
     "output_type": "stream",
     "text": [
      "Created directory: /ebio/abt3_projects/databases_no-backup/DeepMAsED/version2/real_data_eval/UHGG/LLMGQC_r100/resmico_scores//all_feat_medium \n"
     ]
    }
   ],
   "source": [
    "p.dims(8,3)\n",
    "out_dir = file.path(scores_dir, 'all_feat_medium')\n",
    "ret = score_files_medium %>% names %>% \n",
    "    lapply(plot_contig, score_files=score_files_medium, base_dir=base_dir, \n",
    "           scores_dir=scores_dir, out_dir=out_dir)"
   ]
  },
  {
   "cell_type": "markdown",
   "metadata": {},
   "source": [
    "# sessionInfo"
   ]
  },
  {
   "cell_type": "code",
   "execution_count": 16,
   "metadata": {
    "ExecuteTime": {
     "end_time": "2022-02-10T11:49:43.988619Z",
     "start_time": "2022-02-10T11:46:59.711Z"
    },
    "scrolled": true
   },
   "outputs": [
    {
     "data": {
      "text/plain": [
       "R version 4.1.2 (2021-11-01)\n",
       "Platform: x86_64-conda-linux-gnu (64-bit)\n",
       "Running under: Ubuntu 18.04.6 LTS\n",
       "\n",
       "Matrix products: default\n",
       "BLAS/LAPACK: /tmp/global2/nyoungblut/code/DeepMAsED/conda_envs/dm-genome/lib/libopenblasp-r0.3.18.so\n",
       "\n",
       "locale:\n",
       " [1] LC_CTYPE=en_US.UTF-8       LC_NUMERIC=C              \n",
       " [3] LC_TIME=en_US.UTF-8        LC_COLLATE=en_US.UTF-8    \n",
       " [5] LC_MONETARY=en_US.UTF-8    LC_MESSAGES=en_US.UTF-8   \n",
       " [7] LC_PAPER=en_US.UTF-8       LC_NAME=C                 \n",
       " [9] LC_ADDRESS=C               LC_TELEPHONE=C            \n",
       "[11] LC_MEASUREMENT=en_US.UTF-8 LC_IDENTIFICATION=C       \n",
       "\n",
       "attached base packages:\n",
       "[1] grid      stats4    stats     graphics  grDevices utils     datasets \n",
       "[8] methods   base     \n",
       "\n",
       "other attached packages:\n",
       " [1] Rsamtools_2.10.0     Biostrings_2.62.0    XVector_0.34.0      \n",
       " [4] Gviz_1.38.0          GenomicRanges_1.46.0 GenomeInfoDb_1.30.0 \n",
       " [7] IRanges_2.28.0       S4Vectors_0.32.0     BiocGenerics_0.40.0 \n",
       "[10] clustermq_0.8.95.3   LeyLabRMisc_0.2.1    tidytable_0.6.7     \n",
       "[13] data.table_1.14.2    ggplot2_3.3.5        tidyr_1.2.0         \n",
       "[16] dplyr_1.0.7         \n",
       "\n",
       "loaded via a namespace (and not attached):\n",
       "  [1] colorspace_2.0-2            rjson_0.2.21               \n",
       "  [3] ellipsis_0.3.2              biovizBase_1.42.0          \n",
       "  [5] IRdisplay_1.1               htmlTable_2.4.0            \n",
       "  [7] base64enc_0.1-3             dichromat_2.0-0            \n",
       "  [9] rstudioapi_0.13             bit64_4.0.5                \n",
       " [11] AnnotationDbi_1.56.1        fansi_1.0.2                \n",
       " [13] xml2_1.3.3                  codetools_0.2-18           \n",
       " [15] splines_4.1.2               cachem_1.0.6               \n",
       " [17] knitr_1.37                  IRkernel_1.3               \n",
       " [19] Formula_1.2-4               jsonlite_1.7.3             \n",
       " [21] cluster_2.1.2               dbplyr_2.1.1               \n",
       " [23] png_0.1-7                   compiler_4.1.2             \n",
       " [25] httr_1.4.2                  backports_1.4.1            \n",
       " [27] lazyeval_0.2.2              assertthat_0.2.1           \n",
       " [29] Matrix_1.4-0                fastmap_1.1.0              \n",
       " [31] htmltools_0.5.2             prettyunits_1.1.1          \n",
       " [33] tools_4.1.2                 gtable_0.3.0               \n",
       " [35] glue_1.6.1                  GenomeInfoDbData_1.2.7     \n",
       " [37] rappdirs_0.3.3              Rcpp_1.0.8                 \n",
       " [39] Biobase_2.54.0              vctrs_0.3.8                \n",
       " [41] rtracklayer_1.54.0          xfun_0.29                  \n",
       " [43] stringr_1.4.0               lifecycle_1.0.1            \n",
       " [45] ensembldb_2.18.1            restfulr_0.0.13            \n",
       " [47] XML_3.99-0.8                zlibbioc_1.40.0            \n",
       " [49] scales_1.1.1                BSgenome_1.62.0            \n",
       " [51] VariantAnnotation_1.40.0    ProtGenerics_1.26.0        \n",
       " [53] hms_1.1.1                   MatrixGenerics_1.6.0       \n",
       " [55] parallel_4.1.2              SummarizedExperiment_1.24.0\n",
       " [57] AnnotationFilter_1.18.0     RColorBrewer_1.1-2         \n",
       " [59] yaml_2.2.2                  curl_4.3.2                 \n",
       " [61] memoise_2.0.1               gridExtra_2.3              \n",
       " [63] biomaRt_2.50.0              rpart_4.1.16               \n",
       " [65] latticeExtra_0.6-29         stringi_1.7.6              \n",
       " [67] RSQLite_2.2.8               BiocIO_1.4.0               \n",
       " [69] checkmate_2.0.0             GenomicFeatures_1.46.1     \n",
       " [71] filelock_1.0.2              BiocParallel_1.28.0        \n",
       " [73] repr_1.1.4                  rlang_0.4.12               \n",
       " [75] pkgconfig_2.0.3             matrixStats_0.61.0         \n",
       " [77] bitops_1.0-7                evaluate_0.14              \n",
       " [79] lattice_0.20-45             purrr_0.3.4                \n",
       " [81] GenomicAlignments_1.30.0    htmlwidgets_1.5.4          \n",
       " [83] bit_4.0.4                   tidyselect_1.1.1           \n",
       " [85] plyr_1.8.6                  magrittr_2.0.2             \n",
       " [87] R6_2.5.1                    generics_0.1.2             \n",
       " [89] Hmisc_4.6-0                 pbdZMQ_0.3-7               \n",
       " [91] DelayedArray_0.20.0         DBI_1.1.2                  \n",
       " [93] pillar_1.7.0                foreign_0.8-82             \n",
       " [95] withr_2.4.3                 survival_3.2-13            \n",
       " [97] KEGGREST_1.34.0             RCurl_1.98-1.5             \n",
       " [99] nnet_7.3-17                 tibble_3.1.6               \n",
       "[101] crayon_1.4.2                uuid_1.0-3                 \n",
       "[103] utf8_1.2.2                  BiocFileCache_2.2.0        \n",
       "[105] jpeg_0.1-9                  progress_1.2.2             \n",
       "[107] blob_1.2.2                  digest_0.6.29              \n",
       "[109] munsell_0.5.0              "
      ]
     },
     "metadata": {},
     "output_type": "display_data"
    }
   ],
   "source": [
    "sessionInfo()"
   ]
  }
 ],
 "metadata": {
  "kernelspec": {
   "display_name": "R [conda env:dm-genome]",
   "language": "R",
   "name": "conda-env-dm-genome-r"
  },
  "language_info": {
   "codemirror_mode": "r",
   "file_extension": ".r",
   "mimetype": "text/x-r-source",
   "name": "R",
   "pygments_lexer": "r",
   "version": "4.1.2"
  },
  "notify_time": "30",
  "toc": {
   "base_numbering": 1,
   "nav_menu": {},
   "number_sections": true,
   "sideBar": true,
   "skip_h1_title": false,
   "title_cell": "Table of Contents",
   "title_sidebar": "Contents",
   "toc_cell": true,
   "toc_position": {},
   "toc_section_display": true,
   "toc_window_display": true
  }
 },
 "nbformat": 4,
 "nbformat_minor": 4
}
