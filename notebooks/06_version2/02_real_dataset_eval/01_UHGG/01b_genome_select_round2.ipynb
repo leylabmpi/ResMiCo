{
 "cells": [
  {
   "cell_type": "markdown",
   "metadata": {
    "toc": true
   },
   "source": [
    "<h1>Table of Contents<span class=\"tocSkip\"></span></h1>\n",
    "<div class=\"toc\"><ul class=\"toc-item\"><li><span><a href=\"#Goal\" data-toc-modified-id=\"Goal-1\"><span class=\"toc-item-num\">1&nbsp;&nbsp;</span>Goal</a></span></li><li><span><a href=\"#Var\" data-toc-modified-id=\"Var-2\"><span class=\"toc-item-num\">2&nbsp;&nbsp;</span>Var</a></span></li><li><span><a href=\"#Init\" data-toc-modified-id=\"Init-3\"><span class=\"toc-item-num\">3&nbsp;&nbsp;</span>Init</a></span></li><li><span><a href=\"#Load\" data-toc-modified-id=\"Load-4\"><span class=\"toc-item-num\">4&nbsp;&nbsp;</span>Load</a></span><ul class=\"toc-item\"><li><span><a href=\"#Filtering\" data-toc-modified-id=\"Filtering-4.1\"><span class=\"toc-item-num\">4.1&nbsp;&nbsp;</span>Filtering</a></span></li></ul></li><li><span><a href=\"#rand-N-samples\" data-toc-modified-id=\"rand-N-samples-5\"><span class=\"toc-item-num\">5&nbsp;&nbsp;</span>rand-N samples</a></span><ul class=\"toc-item\"><li><span><a href=\"#Getting-run-accessions\" data-toc-modified-id=\"Getting-run-accessions-5.1\"><span class=\"toc-item-num\">5.1&nbsp;&nbsp;</span>Getting run accessions</a></span></li><li><span><a href=\"#Filtering\" data-toc-modified-id=\"Filtering-5.2\"><span class=\"toc-item-num\">5.2&nbsp;&nbsp;</span>Filtering</a></span></li><li><span><a href=\"#LLMGQC-for-metagenomes\" data-toc-modified-id=\"LLMGQC-for-metagenomes-5.3\"><span class=\"toc-item-num\">5.3&nbsp;&nbsp;</span>LLMGQC for metagenomes</a></span><ul class=\"toc-item\"><li><span><a href=\"#Config\" data-toc-modified-id=\"Config-5.3.1\"><span class=\"toc-item-num\">5.3.1&nbsp;&nbsp;</span>Config</a></span></li><li><span><a href=\"#Run\" data-toc-modified-id=\"Run-5.3.2\"><span class=\"toc-item-num\">5.3.2&nbsp;&nbsp;</span>Run</a></span></li></ul></li></ul></li><li><span><a href=\"#--WAITING--\" data-toc-modified-id=\"--WAITING---6\"><span class=\"toc-item-num\">6&nbsp;&nbsp;</span>--WAITING--</a></span><ul class=\"toc-item\"><li><ul class=\"toc-item\"><li><span><a href=\"#Summary\" data-toc-modified-id=\"Summary-6.0.1\"><span class=\"toc-item-num\">6.0.1&nbsp;&nbsp;</span>Summary</a></span></li></ul></li></ul></li><li><span><a href=\"#sessionInfo\" data-toc-modified-id=\"sessionInfo-7\"><span class=\"toc-item-num\">7&nbsp;&nbsp;</span>sessionInfo</a></span></li></ul></div>"
   ]
  },
  {
   "cell_type": "markdown",
   "metadata": {},
   "source": [
    "# Goal\n",
    "\n",
    "* Process more UHGG samples"
   ]
  },
  {
   "cell_type": "markdown",
   "metadata": {},
   "source": [
    "# Var"
   ]
  },
  {
   "cell_type": "code",
   "execution_count": 10,
   "metadata": {
    "ExecuteTime": {
     "end_time": "2022-04-30T12:14:31.570116Z",
     "start_time": "2022-04-30T12:14:29.154Z"
    }
   },
   "outputs": [],
   "source": [
    "work_dir = '/ebio/abt3_projects/databases_no-backup/DeepMAsED/version2/real_data_eval/UHGG/'\n",
    "\n",
    "# UHGG metadata\n",
    "uhgg_meta_file = '/ebio/abt3_projects/databases_no-backup/UHGG/2019_09/genomes_metadata.tsv'\n",
    "\n",
    "# 1st round of samples\n",
    "samps_r1_file = '/ebio/abt3_projects/databases_no-backup/DeepMAsED/version2/real_data_eval/UHGG/LLMGQC_r100/samples.tsv'\n",
    "\n",
    "# params\n",
    "threads = 4"
   ]
  },
  {
   "cell_type": "markdown",
   "metadata": {},
   "source": [
    "# Init"
   ]
  },
  {
   "cell_type": "code",
   "execution_count": 5,
   "metadata": {
    "ExecuteTime": {
     "end_time": "2022-04-30T12:14:08.702140Z",
     "start_time": "2022-04-30T12:14:06.283Z"
    }
   },
   "outputs": [],
   "source": [
    "library(dplyr)\n",
    "library(tidyr)\n",
    "library(ggplot2)\n",
    "library(data.table)\n",
    "library(tidytable)\n",
    "library(LeyLabRMisc)"
   ]
  },
  {
   "cell_type": "code",
   "execution_count": 8,
   "metadata": {
    "ExecuteTime": {
     "end_time": "2022-04-30T12:14:16.926695Z",
     "start_time": "2022-04-30T12:14:14.511Z"
    }
   },
   "outputs": [],
   "source": [
    "setDTthreads(threads)\n",
    "df.dims()\n",
    "set.seed(7432)\n",
    "clustermq_setup(scheduler = c(\"multicore\"))"
   ]
  },
  {
   "cell_type": "markdown",
   "metadata": {},
   "source": [
    "# Load"
   ]
  },
  {
   "cell_type": "code",
   "execution_count": 9,
   "metadata": {
    "ExecuteTime": {
     "end_time": "2022-04-30T12:14:26.917923Z",
     "start_time": "2022-04-30T12:14:20.124Z"
    }
   },
   "outputs": [
    {
     "data": {
      "text/html": [
       "<table class=\"dataframe\">\n",
       "<caption>A data.table: 286997 × 25</caption>\n",
       "<thead>\n",
       "\t<tr><th scope=col>Genome</th><th scope=col>Original_name</th><th scope=col>Study_set</th><th scope=col>Genome_type</th><th scope=col>Length</th><th scope=col>N_contigs</th><th scope=col>N50</th><th scope=col>GC_content</th><th scope=col>Completeness</th><th scope=col>Contamination</th><th scope=col>⋯</th><th scope=col>tRNAs</th><th scope=col>Genome_accession</th><th scope=col>Species_rep</th><th scope=col>MGnify_accession</th><th scope=col>Lineage</th><th scope=col>Sample_accession</th><th scope=col>Study_accession</th><th scope=col>Country</th><th scope=col>Continent</th><th scope=col>FTP_download</th></tr>\n",
       "\t<tr><th scope=col>&lt;chr&gt;</th><th scope=col>&lt;chr&gt;</th><th scope=col>&lt;chr&gt;</th><th scope=col>&lt;chr&gt;</th><th scope=col>&lt;int&gt;</th><th scope=col>&lt;int&gt;</th><th scope=col>&lt;int&gt;</th><th scope=col>&lt;dbl&gt;</th><th scope=col>&lt;dbl&gt;</th><th scope=col>&lt;dbl&gt;</th><th scope=col>⋯</th><th scope=col>&lt;int&gt;</th><th scope=col>&lt;chr&gt;</th><th scope=col>&lt;chr&gt;</th><th scope=col>&lt;chr&gt;</th><th scope=col>&lt;chr&gt;</th><th scope=col>&lt;chr&gt;</th><th scope=col>&lt;chr&gt;</th><th scope=col>&lt;chr&gt;</th><th scope=col>&lt;chr&gt;</th><th scope=col>&lt;chr&gt;</th></tr>\n",
       "</thead>\n",
       "<tbody>\n",
       "\t<tr><td>GUT_GENOME000001</td><td>11861_6_55</td><td>HBC</td><td>Isolate</td><td>3221441</td><td>137</td><td>47272</td><td>28.26</td><td>98.59</td><td>0.70</td><td>⋯</td><td>20</td><td>NA</td><td>GUT_GENOME000001</td><td>MGYG-HGUT-00001</td><td>d__Bacteria;p__Firmicutes_A;c__Clostridia;o__Peptostreptococcales;f__Peptostreptococcaceae;g__GCA-900066495;s__        </td><td>ERS370061</td><td>ERP105624</td><td>United Kingdom</td><td>Europe</td><td>ftp://ftp.ebi.ac.uk/pub/databases/metagenomics/mgnify_genomes/human-gut/v1.0/all_genomes/MGYG-HGUT-000/MGYG-HGUT-00001/genomes1/GUT_GENOME000001.gff.gz</td></tr>\n",
       "\t<tr><td>GUT_GENOME000002</td><td>11861_6_56</td><td>HBC</td><td>Isolate</td><td>3296933</td><td> 82</td><td>96092</td><td>38.19</td><td>99.33</td><td>1.34</td><td>⋯</td><td>20</td><td>NA</td><td>GUT_GENOME001689</td><td>MGYG-HGUT-00262</td><td>d__Bacteria;p__Firmicutes_A;c__Clostridia;o__Lachnospirales;f__Lachnospiraceae;g__Eubacterium_E;s__Eubacterium_E hallii</td><td>ERS370062</td><td>ERP105624</td><td>United Kingdom</td><td>Europe</td><td>ftp://ftp.ebi.ac.uk/pub/databases/metagenomics/mgnify_genomes/human-gut/v1.0/all_genomes/MGYG-HGUT-002/MGYG-HGUT-00262/genomes1/GUT_GENOME000002.gff.gz</td></tr>\n",
       "\t<tr><td>⋮</td><td>⋮</td><td>⋮</td><td>⋮</td><td>⋮</td><td>⋮</td><td>⋮</td><td>⋮</td><td>⋮</td><td>⋮</td><td>⋱</td><td>⋮</td><td>⋮</td><td>⋮</td><td>⋮</td><td>⋮</td><td>⋮</td><td>⋮</td><td>⋮</td><td>⋮</td><td>⋮</td></tr>\n",
       "\t<tr><td>GUT_GENOME286996</td><td>ZellerG_2014__MMPU99077057ST__bin.71</td><td>CIBIO</td><td>MAG</td><td>2155871</td><td> 51</td><td>58794</td><td>58.54</td><td>94.46</td><td>0.00</td><td>⋯</td><td>18</td><td>NA</td><td>GUT_GENOME239684</td><td>MGYG-HGUT-03686</td><td>d__Bacteria;p__Firmicutes_A;c__Clostridia;o__Oscillospirales;f__Oscillospiraceae;g__ER4;s__ER4 sp000765235                   </td><td>ERS436838</td><td>ERP005534</td><td>Germany</td><td>Europe</td><td>ftp://ftp.ebi.ac.uk/pub/databases/metagenomics/mgnify_genomes/human-gut/v1.0/all_genomes/MGYG-HGUT-036/MGYG-HGUT-03686/genomes4/GUT_GENOME286996.gff.gz</td></tr>\n",
       "\t<tr><td>GUT_GENOME286997</td><td>ZellerG_2014__MMPU99077057ST__bin.72</td><td>CIBIO</td><td>MAG</td><td>2883579</td><td>383</td><td>10509</td><td>43.57</td><td>94.53</td><td>0.94</td><td>⋯</td><td>19</td><td>NA</td><td>GUT_GENOME000682</td><td>MGYG-HGUT-00144</td><td>d__Bacteria;p__Bacteroidota;c__Bacteroidia;o__Bacteroidales;f__Barnesiellaceae;g__Barnesiella;s__Barnesiella intestinihominis</td><td>ERS436838</td><td>ERP005534</td><td>Germany</td><td>Europe</td><td>ftp://ftp.ebi.ac.uk/pub/databases/metagenomics/mgnify_genomes/human-gut/v1.0/all_genomes/MGYG-HGUT-001/MGYG-HGUT-00144/genomes1/GUT_GENOME286997.gff.gz</td></tr>\n",
       "</tbody>\n",
       "</table>\n"
      ],
      "text/latex": [
       "A data.table: 286997 × 25\n",
       "\\begin{tabular}{lllllllllllllllllllll}\n",
       " Genome & Original\\_name & Study\\_set & Genome\\_type & Length & N\\_contigs & N50 & GC\\_content & Completeness & Contamination & ⋯ & tRNAs & Genome\\_accession & Species\\_rep & MGnify\\_accession & Lineage & Sample\\_accession & Study\\_accession & Country & Continent & FTP\\_download\\\\\n",
       " <chr> & <chr> & <chr> & <chr> & <int> & <int> & <int> & <dbl> & <dbl> & <dbl> & ⋯ & <int> & <chr> & <chr> & <chr> & <chr> & <chr> & <chr> & <chr> & <chr> & <chr>\\\\\n",
       "\\hline\n",
       "\t GUT\\_GENOME000001 & 11861\\_6\\_55 & HBC & Isolate & 3221441 & 137 & 47272 & 28.26 & 98.59 & 0.70 & ⋯ & 20 & NA & GUT\\_GENOME000001 & MGYG-HGUT-00001 & d\\_\\_Bacteria;p\\_\\_Firmicutes\\_A;c\\_\\_Clostridia;o\\_\\_Peptostreptococcales;f\\_\\_Peptostreptococcaceae;g\\_\\_GCA-900066495;s\\_\\_         & ERS370061 & ERP105624 & United Kingdom & Europe & ftp://ftp.ebi.ac.uk/pub/databases/metagenomics/mgnify\\_genomes/human-gut/v1.0/all\\_genomes/MGYG-HGUT-000/MGYG-HGUT-00001/genomes1/GUT\\_GENOME000001.gff.gz\\\\\n",
       "\t GUT\\_GENOME000002 & 11861\\_6\\_56 & HBC & Isolate & 3296933 &  82 & 96092 & 38.19 & 99.33 & 1.34 & ⋯ & 20 & NA & GUT\\_GENOME001689 & MGYG-HGUT-00262 & d\\_\\_Bacteria;p\\_\\_Firmicutes\\_A;c\\_\\_Clostridia;o\\_\\_Lachnospirales;f\\_\\_Lachnospiraceae;g\\_\\_Eubacterium\\_E;s\\_\\_Eubacterium\\_E hallii & ERS370062 & ERP105624 & United Kingdom & Europe & ftp://ftp.ebi.ac.uk/pub/databases/metagenomics/mgnify\\_genomes/human-gut/v1.0/all\\_genomes/MGYG-HGUT-002/MGYG-HGUT-00262/genomes1/GUT\\_GENOME000002.gff.gz\\\\\n",
       "\t ⋮ & ⋮ & ⋮ & ⋮ & ⋮ & ⋮ & ⋮ & ⋮ & ⋮ & ⋮ & ⋱ & ⋮ & ⋮ & ⋮ & ⋮ & ⋮ & ⋮ & ⋮ & ⋮ & ⋮ & ⋮\\\\\n",
       "\t GUT\\_GENOME286996 & ZellerG\\_2014\\_\\_MMPU99077057ST\\_\\_bin.71 & CIBIO & MAG & 2155871 &  51 & 58794 & 58.54 & 94.46 & 0.00 & ⋯ & 18 & NA & GUT\\_GENOME239684 & MGYG-HGUT-03686 & d\\_\\_Bacteria;p\\_\\_Firmicutes\\_A;c\\_\\_Clostridia;o\\_\\_Oscillospirales;f\\_\\_Oscillospiraceae;g\\_\\_ER4;s\\_\\_ER4 sp000765235                    & ERS436838 & ERP005534 & Germany & Europe & ftp://ftp.ebi.ac.uk/pub/databases/metagenomics/mgnify\\_genomes/human-gut/v1.0/all\\_genomes/MGYG-HGUT-036/MGYG-HGUT-03686/genomes4/GUT\\_GENOME286996.gff.gz\\\\\n",
       "\t GUT\\_GENOME286997 & ZellerG\\_2014\\_\\_MMPU99077057ST\\_\\_bin.72 & CIBIO & MAG & 2883579 & 383 & 10509 & 43.57 & 94.53 & 0.94 & ⋯ & 19 & NA & GUT\\_GENOME000682 & MGYG-HGUT-00144 & d\\_\\_Bacteria;p\\_\\_Bacteroidota;c\\_\\_Bacteroidia;o\\_\\_Bacteroidales;f\\_\\_Barnesiellaceae;g\\_\\_Barnesiella;s\\_\\_Barnesiella intestinihominis & ERS436838 & ERP005534 & Germany & Europe & ftp://ftp.ebi.ac.uk/pub/databases/metagenomics/mgnify\\_genomes/human-gut/v1.0/all\\_genomes/MGYG-HGUT-001/MGYG-HGUT-00144/genomes1/GUT\\_GENOME286997.gff.gz\\\\\n",
       "\\end{tabular}\n"
      ],
      "text/markdown": [
       "\n",
       "A data.table: 286997 × 25\n",
       "\n",
       "| Genome &lt;chr&gt; | Original_name &lt;chr&gt; | Study_set &lt;chr&gt; | Genome_type &lt;chr&gt; | Length &lt;int&gt; | N_contigs &lt;int&gt; | N50 &lt;int&gt; | GC_content &lt;dbl&gt; | Completeness &lt;dbl&gt; | Contamination &lt;dbl&gt; | ⋯ ⋯ | tRNAs &lt;int&gt; | Genome_accession &lt;chr&gt; | Species_rep &lt;chr&gt; | MGnify_accession &lt;chr&gt; | Lineage &lt;chr&gt; | Sample_accession &lt;chr&gt; | Study_accession &lt;chr&gt; | Country &lt;chr&gt; | Continent &lt;chr&gt; | FTP_download &lt;chr&gt; |\n",
       "|---|---|---|---|---|---|---|---|---|---|---|---|---|---|---|---|---|---|---|---|---|\n",
       "| GUT_GENOME000001 | 11861_6_55 | HBC | Isolate | 3221441 | 137 | 47272 | 28.26 | 98.59 | 0.70 | ⋯ | 20 | NA | GUT_GENOME000001 | MGYG-HGUT-00001 | d__Bacteria;p__Firmicutes_A;c__Clostridia;o__Peptostreptococcales;f__Peptostreptococcaceae;g__GCA-900066495;s__         | ERS370061 | ERP105624 | United Kingdom | Europe | ftp://ftp.ebi.ac.uk/pub/databases/metagenomics/mgnify_genomes/human-gut/v1.0/all_genomes/MGYG-HGUT-000/MGYG-HGUT-00001/genomes1/GUT_GENOME000001.gff.gz |\n",
       "| GUT_GENOME000002 | 11861_6_56 | HBC | Isolate | 3296933 |  82 | 96092 | 38.19 | 99.33 | 1.34 | ⋯ | 20 | NA | GUT_GENOME001689 | MGYG-HGUT-00262 | d__Bacteria;p__Firmicutes_A;c__Clostridia;o__Lachnospirales;f__Lachnospiraceae;g__Eubacterium_E;s__Eubacterium_E hallii | ERS370062 | ERP105624 | United Kingdom | Europe | ftp://ftp.ebi.ac.uk/pub/databases/metagenomics/mgnify_genomes/human-gut/v1.0/all_genomes/MGYG-HGUT-002/MGYG-HGUT-00262/genomes1/GUT_GENOME000002.gff.gz |\n",
       "| ⋮ | ⋮ | ⋮ | ⋮ | ⋮ | ⋮ | ⋮ | ⋮ | ⋮ | ⋮ | ⋱ | ⋮ | ⋮ | ⋮ | ⋮ | ⋮ | ⋮ | ⋮ | ⋮ | ⋮ | ⋮ |\n",
       "| GUT_GENOME286996 | ZellerG_2014__MMPU99077057ST__bin.71 | CIBIO | MAG | 2155871 |  51 | 58794 | 58.54 | 94.46 | 0.00 | ⋯ | 18 | NA | GUT_GENOME239684 | MGYG-HGUT-03686 | d__Bacteria;p__Firmicutes_A;c__Clostridia;o__Oscillospirales;f__Oscillospiraceae;g__ER4;s__ER4 sp000765235                    | ERS436838 | ERP005534 | Germany | Europe | ftp://ftp.ebi.ac.uk/pub/databases/metagenomics/mgnify_genomes/human-gut/v1.0/all_genomes/MGYG-HGUT-036/MGYG-HGUT-03686/genomes4/GUT_GENOME286996.gff.gz |\n",
       "| GUT_GENOME286997 | ZellerG_2014__MMPU99077057ST__bin.72 | CIBIO | MAG | 2883579 | 383 | 10509 | 43.57 | 94.53 | 0.94 | ⋯ | 19 | NA | GUT_GENOME000682 | MGYG-HGUT-00144 | d__Bacteria;p__Bacteroidota;c__Bacteroidia;o__Bacteroidales;f__Barnesiellaceae;g__Barnesiella;s__Barnesiella intestinihominis | ERS436838 | ERP005534 | Germany | Europe | ftp://ftp.ebi.ac.uk/pub/databases/metagenomics/mgnify_genomes/human-gut/v1.0/all_genomes/MGYG-HGUT-001/MGYG-HGUT-00144/genomes1/GUT_GENOME286997.gff.gz |\n",
       "\n"
      ],
      "text/plain": [
       "       Genome           Original_name                        Study_set\n",
       "1      GUT_GENOME000001 11861_6_55                           HBC      \n",
       "2      GUT_GENOME000002 11861_6_56                           HBC      \n",
       "⋮      ⋮                ⋮                                    ⋮        \n",
       "286996 GUT_GENOME286996 ZellerG_2014__MMPU99077057ST__bin.71 CIBIO    \n",
       "286997 GUT_GENOME286997 ZellerG_2014__MMPU99077057ST__bin.72 CIBIO    \n",
       "       Genome_type Length  N_contigs N50   GC_content Completeness\n",
       "1      Isolate     3221441 137       47272 28.26      98.59       \n",
       "2      Isolate     3296933  82       96092 38.19      99.33       \n",
       "⋮      ⋮           ⋮       ⋮         ⋮     ⋮          ⋮           \n",
       "286996 MAG         2155871  51       58794 58.54      94.46       \n",
       "286997 MAG         2883579 383       10509 43.57      94.53       \n",
       "       Contamination ⋯ tRNAs Genome_accession Species_rep      MGnify_accession\n",
       "1      0.70          ⋯ 20    NA               GUT_GENOME000001 MGYG-HGUT-00001 \n",
       "2      1.34          ⋯ 20    NA               GUT_GENOME001689 MGYG-HGUT-00262 \n",
       "⋮      ⋮             ⋱ ⋮     ⋮                ⋮                ⋮               \n",
       "286996 0.00          ⋯ 18    NA               GUT_GENOME239684 MGYG-HGUT-03686 \n",
       "286997 0.94          ⋯ 19    NA               GUT_GENOME000682 MGYG-HGUT-00144 \n",
       "       Lineage                                                                                                                      \n",
       "1      d__Bacteria;p__Firmicutes_A;c__Clostridia;o__Peptostreptococcales;f__Peptostreptococcaceae;g__GCA-900066495;s__              \n",
       "2      d__Bacteria;p__Firmicutes_A;c__Clostridia;o__Lachnospirales;f__Lachnospiraceae;g__Eubacterium_E;s__Eubacterium_E hallii      \n",
       "⋮      ⋮                                                                                                                            \n",
       "286996 d__Bacteria;p__Firmicutes_A;c__Clostridia;o__Oscillospirales;f__Oscillospiraceae;g__ER4;s__ER4 sp000765235                   \n",
       "286997 d__Bacteria;p__Bacteroidota;c__Bacteroidia;o__Bacteroidales;f__Barnesiellaceae;g__Barnesiella;s__Barnesiella intestinihominis\n",
       "       Sample_accession Study_accession Country        Continent\n",
       "1      ERS370061        ERP105624       United Kingdom Europe   \n",
       "2      ERS370062        ERP105624       United Kingdom Europe   \n",
       "⋮      ⋮                ⋮               ⋮              ⋮        \n",
       "286996 ERS436838        ERP005534       Germany        Europe   \n",
       "286997 ERS436838        ERP005534       Germany        Europe   \n",
       "       FTP_download                                                                                                                                           \n",
       "1      ftp://ftp.ebi.ac.uk/pub/databases/metagenomics/mgnify_genomes/human-gut/v1.0/all_genomes/MGYG-HGUT-000/MGYG-HGUT-00001/genomes1/GUT_GENOME000001.gff.gz\n",
       "2      ftp://ftp.ebi.ac.uk/pub/databases/metagenomics/mgnify_genomes/human-gut/v1.0/all_genomes/MGYG-HGUT-002/MGYG-HGUT-00262/genomes1/GUT_GENOME000002.gff.gz\n",
       "⋮      ⋮                                                                                                                                                      \n",
       "286996 ftp://ftp.ebi.ac.uk/pub/databases/metagenomics/mgnify_genomes/human-gut/v1.0/all_genomes/MGYG-HGUT-036/MGYG-HGUT-03686/genomes4/GUT_GENOME286996.gff.gz\n",
       "286997 ftp://ftp.ebi.ac.uk/pub/databases/metagenomics/mgnify_genomes/human-gut/v1.0/all_genomes/MGYG-HGUT-001/MGYG-HGUT-00144/genomes1/GUT_GENOME286997.gff.gz"
      ]
     },
     "metadata": {},
     "output_type": "display_data"
    }
   ],
   "source": [
    "uhgg_meta = Fread(uhgg_meta_file)\n",
    "uhgg_meta"
   ]
  },
  {
   "cell_type": "code",
   "execution_count": 11,
   "metadata": {
    "ExecuteTime": {
     "end_time": "2022-04-30T12:14:38.895485Z",
     "start_time": "2022-04-30T12:14:36.445Z"
    }
   },
   "outputs": [
    {
     "data": {
      "text/html": [
       "<table class=\"dataframe\">\n",
       "<caption>A data.table: 514 × 4</caption>\n",
       "<thead>\n",
       "\t<tr><th scope=col>Sample</th><th scope=col>Remote</th><th scope=col>Run</th><th scope=col>Lane</th></tr>\n",
       "\t<tr><th scope=col>&lt;chr&gt;</th><th scope=col>&lt;chr&gt;</th><th scope=col>&lt;int&gt;</th><th scope=col>&lt;int&gt;</th></tr>\n",
       "</thead>\n",
       "<tbody>\n",
       "\t<tr><td>ERS473032</td><td>ERR525697</td><td>1</td><td>1</td></tr>\n",
       "\t<tr><td>ERS473044</td><td>ERR525709</td><td>1</td><td>1</td></tr>\n",
       "\t<tr><td>⋮</td><td>⋮</td><td>⋮</td><td>⋮</td></tr>\n",
       "\t<tr><td>ERS436831</td><td>ERR479540</td><td>1</td><td>3</td></tr>\n",
       "\t<tr><td>ERS436831</td><td>ERR479541</td><td>1</td><td>4</td></tr>\n",
       "</tbody>\n",
       "</table>\n"
      ],
      "text/latex": [
       "A data.table: 514 × 4\n",
       "\\begin{tabular}{llll}\n",
       " Sample & Remote & Run & Lane\\\\\n",
       " <chr> & <chr> & <int> & <int>\\\\\n",
       "\\hline\n",
       "\t ERS473032 & ERR525697 & 1 & 1\\\\\n",
       "\t ERS473044 & ERR525709 & 1 & 1\\\\\n",
       "\t ⋮ & ⋮ & ⋮ & ⋮\\\\\n",
       "\t ERS436831 & ERR479540 & 1 & 3\\\\\n",
       "\t ERS436831 & ERR479541 & 1 & 4\\\\\n",
       "\\end{tabular}\n"
      ],
      "text/markdown": [
       "\n",
       "A data.table: 514 × 4\n",
       "\n",
       "| Sample &lt;chr&gt; | Remote &lt;chr&gt; | Run &lt;int&gt; | Lane &lt;int&gt; |\n",
       "|---|---|---|---|\n",
       "| ERS473032 | ERR525697 | 1 | 1 |\n",
       "| ERS473044 | ERR525709 | 1 | 1 |\n",
       "| ⋮ | ⋮ | ⋮ | ⋮ |\n",
       "| ERS436831 | ERR479540 | 1 | 3 |\n",
       "| ERS436831 | ERR479541 | 1 | 4 |\n",
       "\n"
      ],
      "text/plain": [
       "    Sample    Remote    Run Lane\n",
       "1   ERS473032 ERR525697 1   1   \n",
       "2   ERS473044 ERR525709 1   1   \n",
       "⋮   ⋮         ⋮         ⋮   ⋮   \n",
       "513 ERS436831 ERR479540 1   3   \n",
       "514 ERS436831 ERR479541 1   4   "
      ]
     },
     "metadata": {},
     "output_type": "display_data"
    }
   ],
   "source": [
    "samps_r1 = Fread(samps_r1_file)\n",
    "samps_r1"
   ]
  },
  {
   "cell_type": "markdown",
   "metadata": {},
   "source": [
    "## Filtering"
   ]
  },
  {
   "cell_type": "code",
   "execution_count": 12,
   "metadata": {
    "ExecuteTime": {
     "end_time": "2022-04-30T12:15:02.663899Z",
     "start_time": "2022-04-30T12:15:00.067Z"
    }
   },
   "outputs": [
    {
     "name": "stdout",
     "output_type": "stream",
     "text": [
      "intersect(x,y): 200 \n",
      "setdiff(x,y): 21666 \n",
      "setdiff(y,x): 0 \n",
      "union(x,y): 21866 \n"
     ]
    }
   ],
   "source": [
    "overlap(uhgg_meta$Sample_accession, samps_r1$Sample)"
   ]
  },
  {
   "cell_type": "code",
   "execution_count": 14,
   "metadata": {
    "ExecuteTime": {
     "end_time": "2022-04-30T12:16:30.890040Z",
     "start_time": "2022-04-30T12:16:27.397Z"
    }
   },
   "outputs": [
    {
     "data": {
      "text/html": [
       "<table class=\"dataframe\">\n",
       "<caption>A tidytable: 280532 × 25</caption>\n",
       "<thead>\n",
       "\t<tr><th scope=col>Genome</th><th scope=col>Original_name</th><th scope=col>Study_set</th><th scope=col>Genome_type</th><th scope=col>Length</th><th scope=col>N_contigs</th><th scope=col>N50</th><th scope=col>GC_content</th><th scope=col>Completeness</th><th scope=col>Contamination</th><th scope=col>⋯</th><th scope=col>tRNAs</th><th scope=col>Genome_accession</th><th scope=col>Species_rep</th><th scope=col>MGnify_accession</th><th scope=col>Lineage</th><th scope=col>Sample_accession</th><th scope=col>Study_accession</th><th scope=col>Country</th><th scope=col>Continent</th><th scope=col>FTP_download</th></tr>\n",
       "\t<tr><th scope=col>&lt;chr&gt;</th><th scope=col>&lt;chr&gt;</th><th scope=col>&lt;chr&gt;</th><th scope=col>&lt;chr&gt;</th><th scope=col>&lt;int&gt;</th><th scope=col>&lt;int&gt;</th><th scope=col>&lt;int&gt;</th><th scope=col>&lt;dbl&gt;</th><th scope=col>&lt;dbl&gt;</th><th scope=col>&lt;dbl&gt;</th><th scope=col>⋯</th><th scope=col>&lt;int&gt;</th><th scope=col>&lt;chr&gt;</th><th scope=col>&lt;chr&gt;</th><th scope=col>&lt;chr&gt;</th><th scope=col>&lt;chr&gt;</th><th scope=col>&lt;chr&gt;</th><th scope=col>&lt;chr&gt;</th><th scope=col>&lt;chr&gt;</th><th scope=col>&lt;chr&gt;</th><th scope=col>&lt;chr&gt;</th></tr>\n",
       "</thead>\n",
       "<tbody>\n",
       "\t<tr><td>GUT_GENOME000001</td><td>11861_6_55</td><td>HBC</td><td>Isolate</td><td>3221441</td><td>137</td><td>47272</td><td>28.26</td><td>98.59</td><td>0.70</td><td>⋯</td><td>20</td><td>NA</td><td>GUT_GENOME000001</td><td>MGYG-HGUT-00001</td><td>d__Bacteria;p__Firmicutes_A;c__Clostridia;o__Peptostreptococcales;f__Peptostreptococcaceae;g__GCA-900066495;s__        </td><td>ERS370061</td><td>ERP105624</td><td>United Kingdom</td><td>Europe</td><td>ftp://ftp.ebi.ac.uk/pub/databases/metagenomics/mgnify_genomes/human-gut/v1.0/all_genomes/MGYG-HGUT-000/MGYG-HGUT-00001/genomes1/GUT_GENOME000001.gff.gz</td></tr>\n",
       "\t<tr><td>GUT_GENOME000002</td><td>11861_6_56</td><td>HBC</td><td>Isolate</td><td>3296933</td><td> 82</td><td>96092</td><td>38.19</td><td>99.33</td><td>1.34</td><td>⋯</td><td>20</td><td>NA</td><td>GUT_GENOME001689</td><td>MGYG-HGUT-00262</td><td>d__Bacteria;p__Firmicutes_A;c__Clostridia;o__Lachnospirales;f__Lachnospiraceae;g__Eubacterium_E;s__Eubacterium_E hallii</td><td>ERS370062</td><td>ERP105624</td><td>United Kingdom</td><td>Europe</td><td>ftp://ftp.ebi.ac.uk/pub/databases/metagenomics/mgnify_genomes/human-gut/v1.0/all_genomes/MGYG-HGUT-002/MGYG-HGUT-00262/genomes1/GUT_GENOME000002.gff.gz</td></tr>\n",
       "\t<tr><td>⋮</td><td>⋮</td><td>⋮</td><td>⋮</td><td>⋮</td><td>⋮</td><td>⋮</td><td>⋮</td><td>⋮</td><td>⋮</td><td>⋱</td><td>⋮</td><td>⋮</td><td>⋮</td><td>⋮</td><td>⋮</td><td>⋮</td><td>⋮</td><td>⋮</td><td>⋮</td><td>⋮</td></tr>\n",
       "\t<tr><td>GUT_GENOME286996</td><td>ZellerG_2014__MMPU99077057ST__bin.71</td><td>CIBIO</td><td>MAG</td><td>2155871</td><td> 51</td><td>58794</td><td>58.54</td><td>94.46</td><td>0.00</td><td>⋯</td><td>18</td><td>NA</td><td>GUT_GENOME239684</td><td>MGYG-HGUT-03686</td><td>d__Bacteria;p__Firmicutes_A;c__Clostridia;o__Oscillospirales;f__Oscillospiraceae;g__ER4;s__ER4 sp000765235                   </td><td>ERS436838</td><td>ERP005534</td><td>Germany</td><td>Europe</td><td>ftp://ftp.ebi.ac.uk/pub/databases/metagenomics/mgnify_genomes/human-gut/v1.0/all_genomes/MGYG-HGUT-036/MGYG-HGUT-03686/genomes4/GUT_GENOME286996.gff.gz</td></tr>\n",
       "\t<tr><td>GUT_GENOME286997</td><td>ZellerG_2014__MMPU99077057ST__bin.72</td><td>CIBIO</td><td>MAG</td><td>2883579</td><td>383</td><td>10509</td><td>43.57</td><td>94.53</td><td>0.94</td><td>⋯</td><td>19</td><td>NA</td><td>GUT_GENOME000682</td><td>MGYG-HGUT-00144</td><td>d__Bacteria;p__Bacteroidota;c__Bacteroidia;o__Bacteroidales;f__Barnesiellaceae;g__Barnesiella;s__Barnesiella intestinihominis</td><td>ERS436838</td><td>ERP005534</td><td>Germany</td><td>Europe</td><td>ftp://ftp.ebi.ac.uk/pub/databases/metagenomics/mgnify_genomes/human-gut/v1.0/all_genomes/MGYG-HGUT-001/MGYG-HGUT-00144/genomes1/GUT_GENOME286997.gff.gz</td></tr>\n",
       "</tbody>\n",
       "</table>\n"
      ],
      "text/latex": [
       "A tidytable: 280532 × 25\n",
       "\\begin{tabular}{lllllllllllllllllllll}\n",
       " Genome & Original\\_name & Study\\_set & Genome\\_type & Length & N\\_contigs & N50 & GC\\_content & Completeness & Contamination & ⋯ & tRNAs & Genome\\_accession & Species\\_rep & MGnify\\_accession & Lineage & Sample\\_accession & Study\\_accession & Country & Continent & FTP\\_download\\\\\n",
       " <chr> & <chr> & <chr> & <chr> & <int> & <int> & <int> & <dbl> & <dbl> & <dbl> & ⋯ & <int> & <chr> & <chr> & <chr> & <chr> & <chr> & <chr> & <chr> & <chr> & <chr>\\\\\n",
       "\\hline\n",
       "\t GUT\\_GENOME000001 & 11861\\_6\\_55 & HBC & Isolate & 3221441 & 137 & 47272 & 28.26 & 98.59 & 0.70 & ⋯ & 20 & NA & GUT\\_GENOME000001 & MGYG-HGUT-00001 & d\\_\\_Bacteria;p\\_\\_Firmicutes\\_A;c\\_\\_Clostridia;o\\_\\_Peptostreptococcales;f\\_\\_Peptostreptococcaceae;g\\_\\_GCA-900066495;s\\_\\_         & ERS370061 & ERP105624 & United Kingdom & Europe & ftp://ftp.ebi.ac.uk/pub/databases/metagenomics/mgnify\\_genomes/human-gut/v1.0/all\\_genomes/MGYG-HGUT-000/MGYG-HGUT-00001/genomes1/GUT\\_GENOME000001.gff.gz\\\\\n",
       "\t GUT\\_GENOME000002 & 11861\\_6\\_56 & HBC & Isolate & 3296933 &  82 & 96092 & 38.19 & 99.33 & 1.34 & ⋯ & 20 & NA & GUT\\_GENOME001689 & MGYG-HGUT-00262 & d\\_\\_Bacteria;p\\_\\_Firmicutes\\_A;c\\_\\_Clostridia;o\\_\\_Lachnospirales;f\\_\\_Lachnospiraceae;g\\_\\_Eubacterium\\_E;s\\_\\_Eubacterium\\_E hallii & ERS370062 & ERP105624 & United Kingdom & Europe & ftp://ftp.ebi.ac.uk/pub/databases/metagenomics/mgnify\\_genomes/human-gut/v1.0/all\\_genomes/MGYG-HGUT-002/MGYG-HGUT-00262/genomes1/GUT\\_GENOME000002.gff.gz\\\\\n",
       "\t ⋮ & ⋮ & ⋮ & ⋮ & ⋮ & ⋮ & ⋮ & ⋮ & ⋮ & ⋮ & ⋱ & ⋮ & ⋮ & ⋮ & ⋮ & ⋮ & ⋮ & ⋮ & ⋮ & ⋮ & ⋮\\\\\n",
       "\t GUT\\_GENOME286996 & ZellerG\\_2014\\_\\_MMPU99077057ST\\_\\_bin.71 & CIBIO & MAG & 2155871 &  51 & 58794 & 58.54 & 94.46 & 0.00 & ⋯ & 18 & NA & GUT\\_GENOME239684 & MGYG-HGUT-03686 & d\\_\\_Bacteria;p\\_\\_Firmicutes\\_A;c\\_\\_Clostridia;o\\_\\_Oscillospirales;f\\_\\_Oscillospiraceae;g\\_\\_ER4;s\\_\\_ER4 sp000765235                    & ERS436838 & ERP005534 & Germany & Europe & ftp://ftp.ebi.ac.uk/pub/databases/metagenomics/mgnify\\_genomes/human-gut/v1.0/all\\_genomes/MGYG-HGUT-036/MGYG-HGUT-03686/genomes4/GUT\\_GENOME286996.gff.gz\\\\\n",
       "\t GUT\\_GENOME286997 & ZellerG\\_2014\\_\\_MMPU99077057ST\\_\\_bin.72 & CIBIO & MAG & 2883579 & 383 & 10509 & 43.57 & 94.53 & 0.94 & ⋯ & 19 & NA & GUT\\_GENOME000682 & MGYG-HGUT-00144 & d\\_\\_Bacteria;p\\_\\_Bacteroidota;c\\_\\_Bacteroidia;o\\_\\_Bacteroidales;f\\_\\_Barnesiellaceae;g\\_\\_Barnesiella;s\\_\\_Barnesiella intestinihominis & ERS436838 & ERP005534 & Germany & Europe & ftp://ftp.ebi.ac.uk/pub/databases/metagenomics/mgnify\\_genomes/human-gut/v1.0/all\\_genomes/MGYG-HGUT-001/MGYG-HGUT-00144/genomes1/GUT\\_GENOME286997.gff.gz\\\\\n",
       "\\end{tabular}\n"
      ],
      "text/markdown": [
       "\n",
       "A tidytable: 280532 × 25\n",
       "\n",
       "| Genome &lt;chr&gt; | Original_name &lt;chr&gt; | Study_set &lt;chr&gt; | Genome_type &lt;chr&gt; | Length &lt;int&gt; | N_contigs &lt;int&gt; | N50 &lt;int&gt; | GC_content &lt;dbl&gt; | Completeness &lt;dbl&gt; | Contamination &lt;dbl&gt; | ⋯ ⋯ | tRNAs &lt;int&gt; | Genome_accession &lt;chr&gt; | Species_rep &lt;chr&gt; | MGnify_accession &lt;chr&gt; | Lineage &lt;chr&gt; | Sample_accession &lt;chr&gt; | Study_accession &lt;chr&gt; | Country &lt;chr&gt; | Continent &lt;chr&gt; | FTP_download &lt;chr&gt; |\n",
       "|---|---|---|---|---|---|---|---|---|---|---|---|---|---|---|---|---|---|---|---|---|\n",
       "| GUT_GENOME000001 | 11861_6_55 | HBC | Isolate | 3221441 | 137 | 47272 | 28.26 | 98.59 | 0.70 | ⋯ | 20 | NA | GUT_GENOME000001 | MGYG-HGUT-00001 | d__Bacteria;p__Firmicutes_A;c__Clostridia;o__Peptostreptococcales;f__Peptostreptococcaceae;g__GCA-900066495;s__         | ERS370061 | ERP105624 | United Kingdom | Europe | ftp://ftp.ebi.ac.uk/pub/databases/metagenomics/mgnify_genomes/human-gut/v1.0/all_genomes/MGYG-HGUT-000/MGYG-HGUT-00001/genomes1/GUT_GENOME000001.gff.gz |\n",
       "| GUT_GENOME000002 | 11861_6_56 | HBC | Isolate | 3296933 |  82 | 96092 | 38.19 | 99.33 | 1.34 | ⋯ | 20 | NA | GUT_GENOME001689 | MGYG-HGUT-00262 | d__Bacteria;p__Firmicutes_A;c__Clostridia;o__Lachnospirales;f__Lachnospiraceae;g__Eubacterium_E;s__Eubacterium_E hallii | ERS370062 | ERP105624 | United Kingdom | Europe | ftp://ftp.ebi.ac.uk/pub/databases/metagenomics/mgnify_genomes/human-gut/v1.0/all_genomes/MGYG-HGUT-002/MGYG-HGUT-00262/genomes1/GUT_GENOME000002.gff.gz |\n",
       "| ⋮ | ⋮ | ⋮ | ⋮ | ⋮ | ⋮ | ⋮ | ⋮ | ⋮ | ⋮ | ⋱ | ⋮ | ⋮ | ⋮ | ⋮ | ⋮ | ⋮ | ⋮ | ⋮ | ⋮ | ⋮ |\n",
       "| GUT_GENOME286996 | ZellerG_2014__MMPU99077057ST__bin.71 | CIBIO | MAG | 2155871 |  51 | 58794 | 58.54 | 94.46 | 0.00 | ⋯ | 18 | NA | GUT_GENOME239684 | MGYG-HGUT-03686 | d__Bacteria;p__Firmicutes_A;c__Clostridia;o__Oscillospirales;f__Oscillospiraceae;g__ER4;s__ER4 sp000765235                    | ERS436838 | ERP005534 | Germany | Europe | ftp://ftp.ebi.ac.uk/pub/databases/metagenomics/mgnify_genomes/human-gut/v1.0/all_genomes/MGYG-HGUT-036/MGYG-HGUT-03686/genomes4/GUT_GENOME286996.gff.gz |\n",
       "| GUT_GENOME286997 | ZellerG_2014__MMPU99077057ST__bin.72 | CIBIO | MAG | 2883579 | 383 | 10509 | 43.57 | 94.53 | 0.94 | ⋯ | 19 | NA | GUT_GENOME000682 | MGYG-HGUT-00144 | d__Bacteria;p__Bacteroidota;c__Bacteroidia;o__Bacteroidales;f__Barnesiellaceae;g__Barnesiella;s__Barnesiella intestinihominis | ERS436838 | ERP005534 | Germany | Europe | ftp://ftp.ebi.ac.uk/pub/databases/metagenomics/mgnify_genomes/human-gut/v1.0/all_genomes/MGYG-HGUT-001/MGYG-HGUT-00144/genomes1/GUT_GENOME286997.gff.gz |\n",
       "\n"
      ],
      "text/plain": [
       "       Genome           Original_name                        Study_set\n",
       "1      GUT_GENOME000001 11861_6_55                           HBC      \n",
       "2      GUT_GENOME000002 11861_6_56                           HBC      \n",
       "⋮      ⋮                ⋮                                    ⋮        \n",
       "280531 GUT_GENOME286996 ZellerG_2014__MMPU99077057ST__bin.71 CIBIO    \n",
       "280532 GUT_GENOME286997 ZellerG_2014__MMPU99077057ST__bin.72 CIBIO    \n",
       "       Genome_type Length  N_contigs N50   GC_content Completeness\n",
       "1      Isolate     3221441 137       47272 28.26      98.59       \n",
       "2      Isolate     3296933  82       96092 38.19      99.33       \n",
       "⋮      ⋮           ⋮       ⋮         ⋮     ⋮          ⋮           \n",
       "280531 MAG         2155871  51       58794 58.54      94.46       \n",
       "280532 MAG         2883579 383       10509 43.57      94.53       \n",
       "       Contamination ⋯ tRNAs Genome_accession Species_rep      MGnify_accession\n",
       "1      0.70          ⋯ 20    NA               GUT_GENOME000001 MGYG-HGUT-00001 \n",
       "2      1.34          ⋯ 20    NA               GUT_GENOME001689 MGYG-HGUT-00262 \n",
       "⋮      ⋮             ⋱ ⋮     ⋮                ⋮                ⋮               \n",
       "280531 0.00          ⋯ 18    NA               GUT_GENOME239684 MGYG-HGUT-03686 \n",
       "280532 0.94          ⋯ 19    NA               GUT_GENOME000682 MGYG-HGUT-00144 \n",
       "       Lineage                                                                                                                      \n",
       "1      d__Bacteria;p__Firmicutes_A;c__Clostridia;o__Peptostreptococcales;f__Peptostreptococcaceae;g__GCA-900066495;s__              \n",
       "2      d__Bacteria;p__Firmicutes_A;c__Clostridia;o__Lachnospirales;f__Lachnospiraceae;g__Eubacterium_E;s__Eubacterium_E hallii      \n",
       "⋮      ⋮                                                                                                                            \n",
       "280531 d__Bacteria;p__Firmicutes_A;c__Clostridia;o__Oscillospirales;f__Oscillospiraceae;g__ER4;s__ER4 sp000765235                   \n",
       "280532 d__Bacteria;p__Bacteroidota;c__Bacteroidia;o__Bacteroidales;f__Barnesiellaceae;g__Barnesiella;s__Barnesiella intestinihominis\n",
       "       Sample_accession Study_accession Country        Continent\n",
       "1      ERS370061        ERP105624       United Kingdom Europe   \n",
       "2      ERS370062        ERP105624       United Kingdom Europe   \n",
       "⋮      ⋮                ⋮               ⋮              ⋮        \n",
       "280531 ERS436838        ERP005534       Germany        Europe   \n",
       "280532 ERS436838        ERP005534       Germany        Europe   \n",
       "       FTP_download                                                                                                                                           \n",
       "1      ftp://ftp.ebi.ac.uk/pub/databases/metagenomics/mgnify_genomes/human-gut/v1.0/all_genomes/MGYG-HGUT-000/MGYG-HGUT-00001/genomes1/GUT_GENOME000001.gff.gz\n",
       "2      ftp://ftp.ebi.ac.uk/pub/databases/metagenomics/mgnify_genomes/human-gut/v1.0/all_genomes/MGYG-HGUT-002/MGYG-HGUT-00262/genomes1/GUT_GENOME000002.gff.gz\n",
       "⋮      ⋮                                                                                                                                                      \n",
       "280531 ftp://ftp.ebi.ac.uk/pub/databases/metagenomics/mgnify_genomes/human-gut/v1.0/all_genomes/MGYG-HGUT-036/MGYG-HGUT-03686/genomes4/GUT_GENOME286996.gff.gz\n",
       "280532 ftp://ftp.ebi.ac.uk/pub/databases/metagenomics/mgnify_genomes/human-gut/v1.0/all_genomes/MGYG-HGUT-001/MGYG-HGUT-00144/genomes1/GUT_GENOME286997.gff.gz"
      ]
     },
     "metadata": {},
     "output_type": "display_data"
    }
   ],
   "source": [
    "uhgg_meta = uhgg_meta %>%\n",
    "    anti_join.(samps_r1, c('Sample_accession'='Sample'))\n",
    "uhgg_meta"
   ]
  },
  {
   "cell_type": "code",
   "execution_count": 15,
   "metadata": {
    "ExecuteTime": {
     "end_time": "2022-04-30T12:16:49.100714Z",
     "start_time": "2022-04-30T12:16:45.704Z"
    }
   },
   "outputs": [
    {
     "name": "stdout",
     "output_type": "stream",
     "text": [
      "No. of unique Samples: 11444 \n",
      "No. of unique Studies: 93 \n"
     ]
    },
    {
     "data": {
      "text/html": [
       "<table class=\"dataframe\">\n",
       "<caption>A tidytable: 262028 × 25</caption>\n",
       "<thead>\n",
       "\t<tr><th scope=col>Genome</th><th scope=col>Original_name</th><th scope=col>Study_set</th><th scope=col>Genome_type</th><th scope=col>Length</th><th scope=col>N_contigs</th><th scope=col>N50</th><th scope=col>GC_content</th><th scope=col>Completeness</th><th scope=col>Contamination</th><th scope=col>⋯</th><th scope=col>tRNAs</th><th scope=col>Genome_accession</th><th scope=col>Species_rep</th><th scope=col>MGnify_accession</th><th scope=col>Lineage</th><th scope=col>Sample_accession</th><th scope=col>Study_accession</th><th scope=col>Country</th><th scope=col>Continent</th><th scope=col>FTP_download</th></tr>\n",
       "\t<tr><th scope=col>&lt;chr&gt;</th><th scope=col>&lt;chr&gt;</th><th scope=col>&lt;chr&gt;</th><th scope=col>&lt;chr&gt;</th><th scope=col>&lt;int&gt;</th><th scope=col>&lt;int&gt;</th><th scope=col>&lt;int&gt;</th><th scope=col>&lt;dbl&gt;</th><th scope=col>&lt;dbl&gt;</th><th scope=col>&lt;dbl&gt;</th><th scope=col>⋯</th><th scope=col>&lt;int&gt;</th><th scope=col>&lt;chr&gt;</th><th scope=col>&lt;chr&gt;</th><th scope=col>&lt;chr&gt;</th><th scope=col>&lt;chr&gt;</th><th scope=col>&lt;chr&gt;</th><th scope=col>&lt;chr&gt;</th><th scope=col>&lt;chr&gt;</th><th scope=col>&lt;chr&gt;</th><th scope=col>&lt;chr&gt;</th></tr>\n",
       "</thead>\n",
       "<tbody>\n",
       "\t<tr><td>GUT_GENOME001878</td><td>AsnicarF_2017__MV_FEI1_t1Q14__bin.10</td><td>CIBIO</td><td>MAG</td><td>2026042</td><td>403</td><td>6562</td><td>60.17</td><td>84.65</td><td>1.65</td><td>⋯</td><td>16</td><td>NA</td><td>GUT_GENOME095938</td><td>MGYG-HGUT-01292</td><td>d__Bacteria;p__Actinobacteriota;c__Actinobacteria;o__Actinomycetales;f__Bifidobacteriaceae;g__Bifidobacterium;s__Bifidobacterium infantis</td><td>SRS1634634</td><td>SRP082656</td><td>Italy</td><td>Europe</td><td>ftp://ftp.ebi.ac.uk/pub/databases/metagenomics/mgnify_genomes/human-gut/v1.0/all_genomes/MGYG-HGUT-012/MGYG-HGUT-01292/genomes3/GUT_GENOME001878.gff.gz</td></tr>\n",
       "\t<tr><td>GUT_GENOME001879</td><td>AsnicarF_2017__MV_FEI1_t1Q14__bin.2 </td><td>CIBIO</td><td>MAG</td><td>1868450</td><td>616</td><td>3134</td><td>44.24</td><td>64.75</td><td>0.88</td><td>⋯</td><td> 7</td><td>NA</td><td>GUT_GENOME096210</td><td>MGYG-HGUT-01380</td><td>d__Bacteria;p__Firmicutes_A;c__Clostridia;o__Lachnospirales;f__Lachnospiraceae;g__Faecalicatena;s__Faecalicatena gnavus                  </td><td>SRS1634634</td><td>SRP082656</td><td>Italy</td><td>Europe</td><td>ftp://ftp.ebi.ac.uk/pub/databases/metagenomics/mgnify_genomes/human-gut/v1.0/all_genomes/MGYG-HGUT-013/MGYG-HGUT-01380/genomes2/GUT_GENOME001879.gff.gz</td></tr>\n",
       "\t<tr><td>⋮</td><td>⋮</td><td>⋮</td><td>⋮</td><td>⋮</td><td>⋮</td><td>⋮</td><td>⋮</td><td>⋮</td><td>⋮</td><td>⋱</td><td>⋮</td><td>⋮</td><td>⋮</td><td>⋮</td><td>⋮</td><td>⋮</td><td>⋮</td><td>⋮</td><td>⋮</td><td>⋮</td></tr>\n",
       "\t<tr><td>GUT_GENOME286996</td><td>ZellerG_2014__MMPU99077057ST__bin.71</td><td>CIBIO</td><td>MAG</td><td>2155871</td><td> 51</td><td>58794</td><td>58.54</td><td>94.46</td><td>0.00</td><td>⋯</td><td>18</td><td>NA</td><td>GUT_GENOME239684</td><td>MGYG-HGUT-03686</td><td>d__Bacteria;p__Firmicutes_A;c__Clostridia;o__Oscillospirales;f__Oscillospiraceae;g__ER4;s__ER4 sp000765235                   </td><td>ERS436838</td><td>ERP005534</td><td>Germany</td><td>Europe</td><td>ftp://ftp.ebi.ac.uk/pub/databases/metagenomics/mgnify_genomes/human-gut/v1.0/all_genomes/MGYG-HGUT-036/MGYG-HGUT-03686/genomes4/GUT_GENOME286996.gff.gz</td></tr>\n",
       "\t<tr><td>GUT_GENOME286997</td><td>ZellerG_2014__MMPU99077057ST__bin.72</td><td>CIBIO</td><td>MAG</td><td>2883579</td><td>383</td><td>10509</td><td>43.57</td><td>94.53</td><td>0.94</td><td>⋯</td><td>19</td><td>NA</td><td>GUT_GENOME000682</td><td>MGYG-HGUT-00144</td><td>d__Bacteria;p__Bacteroidota;c__Bacteroidia;o__Bacteroidales;f__Barnesiellaceae;g__Barnesiella;s__Barnesiella intestinihominis</td><td>ERS436838</td><td>ERP005534</td><td>Germany</td><td>Europe</td><td>ftp://ftp.ebi.ac.uk/pub/databases/metagenomics/mgnify_genomes/human-gut/v1.0/all_genomes/MGYG-HGUT-001/MGYG-HGUT-00144/genomes1/GUT_GENOME286997.gff.gz</td></tr>\n",
       "</tbody>\n",
       "</table>\n"
      ],
      "text/latex": [
       "A tidytable: 262028 × 25\n",
       "\\begin{tabular}{lllllllllllllllllllll}\n",
       " Genome & Original\\_name & Study\\_set & Genome\\_type & Length & N\\_contigs & N50 & GC\\_content & Completeness & Contamination & ⋯ & tRNAs & Genome\\_accession & Species\\_rep & MGnify\\_accession & Lineage & Sample\\_accession & Study\\_accession & Country & Continent & FTP\\_download\\\\\n",
       " <chr> & <chr> & <chr> & <chr> & <int> & <int> & <int> & <dbl> & <dbl> & <dbl> & ⋯ & <int> & <chr> & <chr> & <chr> & <chr> & <chr> & <chr> & <chr> & <chr> & <chr>\\\\\n",
       "\\hline\n",
       "\t GUT\\_GENOME001878 & AsnicarF\\_2017\\_\\_MV\\_FEI1\\_t1Q14\\_\\_bin.10 & CIBIO & MAG & 2026042 & 403 & 6562 & 60.17 & 84.65 & 1.65 & ⋯ & 16 & NA & GUT\\_GENOME095938 & MGYG-HGUT-01292 & d\\_\\_Bacteria;p\\_\\_Actinobacteriota;c\\_\\_Actinobacteria;o\\_\\_Actinomycetales;f\\_\\_Bifidobacteriaceae;g\\_\\_Bifidobacterium;s\\_\\_Bifidobacterium infantis & SRS1634634 & SRP082656 & Italy & Europe & ftp://ftp.ebi.ac.uk/pub/databases/metagenomics/mgnify\\_genomes/human-gut/v1.0/all\\_genomes/MGYG-HGUT-012/MGYG-HGUT-01292/genomes3/GUT\\_GENOME001878.gff.gz\\\\\n",
       "\t GUT\\_GENOME001879 & AsnicarF\\_2017\\_\\_MV\\_FEI1\\_t1Q14\\_\\_bin.2  & CIBIO & MAG & 1868450 & 616 & 3134 & 44.24 & 64.75 & 0.88 & ⋯ &  7 & NA & GUT\\_GENOME096210 & MGYG-HGUT-01380 & d\\_\\_Bacteria;p\\_\\_Firmicutes\\_A;c\\_\\_Clostridia;o\\_\\_Lachnospirales;f\\_\\_Lachnospiraceae;g\\_\\_Faecalicatena;s\\_\\_Faecalicatena gnavus                   & SRS1634634 & SRP082656 & Italy & Europe & ftp://ftp.ebi.ac.uk/pub/databases/metagenomics/mgnify\\_genomes/human-gut/v1.0/all\\_genomes/MGYG-HGUT-013/MGYG-HGUT-01380/genomes2/GUT\\_GENOME001879.gff.gz\\\\\n",
       "\t ⋮ & ⋮ & ⋮ & ⋮ & ⋮ & ⋮ & ⋮ & ⋮ & ⋮ & ⋮ & ⋱ & ⋮ & ⋮ & ⋮ & ⋮ & ⋮ & ⋮ & ⋮ & ⋮ & ⋮ & ⋮\\\\\n",
       "\t GUT\\_GENOME286996 & ZellerG\\_2014\\_\\_MMPU99077057ST\\_\\_bin.71 & CIBIO & MAG & 2155871 &  51 & 58794 & 58.54 & 94.46 & 0.00 & ⋯ & 18 & NA & GUT\\_GENOME239684 & MGYG-HGUT-03686 & d\\_\\_Bacteria;p\\_\\_Firmicutes\\_A;c\\_\\_Clostridia;o\\_\\_Oscillospirales;f\\_\\_Oscillospiraceae;g\\_\\_ER4;s\\_\\_ER4 sp000765235                    & ERS436838 & ERP005534 & Germany & Europe & ftp://ftp.ebi.ac.uk/pub/databases/metagenomics/mgnify\\_genomes/human-gut/v1.0/all\\_genomes/MGYG-HGUT-036/MGYG-HGUT-03686/genomes4/GUT\\_GENOME286996.gff.gz\\\\\n",
       "\t GUT\\_GENOME286997 & ZellerG\\_2014\\_\\_MMPU99077057ST\\_\\_bin.72 & CIBIO & MAG & 2883579 & 383 & 10509 & 43.57 & 94.53 & 0.94 & ⋯ & 19 & NA & GUT\\_GENOME000682 & MGYG-HGUT-00144 & d\\_\\_Bacteria;p\\_\\_Bacteroidota;c\\_\\_Bacteroidia;o\\_\\_Bacteroidales;f\\_\\_Barnesiellaceae;g\\_\\_Barnesiella;s\\_\\_Barnesiella intestinihominis & ERS436838 & ERP005534 & Germany & Europe & ftp://ftp.ebi.ac.uk/pub/databases/metagenomics/mgnify\\_genomes/human-gut/v1.0/all\\_genomes/MGYG-HGUT-001/MGYG-HGUT-00144/genomes1/GUT\\_GENOME286997.gff.gz\\\\\n",
       "\\end{tabular}\n"
      ],
      "text/markdown": [
       "\n",
       "A tidytable: 262028 × 25\n",
       "\n",
       "| Genome &lt;chr&gt; | Original_name &lt;chr&gt; | Study_set &lt;chr&gt; | Genome_type &lt;chr&gt; | Length &lt;int&gt; | N_contigs &lt;int&gt; | N50 &lt;int&gt; | GC_content &lt;dbl&gt; | Completeness &lt;dbl&gt; | Contamination &lt;dbl&gt; | ⋯ ⋯ | tRNAs &lt;int&gt; | Genome_accession &lt;chr&gt; | Species_rep &lt;chr&gt; | MGnify_accession &lt;chr&gt; | Lineage &lt;chr&gt; | Sample_accession &lt;chr&gt; | Study_accession &lt;chr&gt; | Country &lt;chr&gt; | Continent &lt;chr&gt; | FTP_download &lt;chr&gt; |\n",
       "|---|---|---|---|---|---|---|---|---|---|---|---|---|---|---|---|---|---|---|---|---|\n",
       "| GUT_GENOME001878 | AsnicarF_2017__MV_FEI1_t1Q14__bin.10 | CIBIO | MAG | 2026042 | 403 | 6562 | 60.17 | 84.65 | 1.65 | ⋯ | 16 | NA | GUT_GENOME095938 | MGYG-HGUT-01292 | d__Bacteria;p__Actinobacteriota;c__Actinobacteria;o__Actinomycetales;f__Bifidobacteriaceae;g__Bifidobacterium;s__Bifidobacterium infantis | SRS1634634 | SRP082656 | Italy | Europe | ftp://ftp.ebi.ac.uk/pub/databases/metagenomics/mgnify_genomes/human-gut/v1.0/all_genomes/MGYG-HGUT-012/MGYG-HGUT-01292/genomes3/GUT_GENOME001878.gff.gz |\n",
       "| GUT_GENOME001879 | AsnicarF_2017__MV_FEI1_t1Q14__bin.2  | CIBIO | MAG | 1868450 | 616 | 3134 | 44.24 | 64.75 | 0.88 | ⋯ |  7 | NA | GUT_GENOME096210 | MGYG-HGUT-01380 | d__Bacteria;p__Firmicutes_A;c__Clostridia;o__Lachnospirales;f__Lachnospiraceae;g__Faecalicatena;s__Faecalicatena gnavus                   | SRS1634634 | SRP082656 | Italy | Europe | ftp://ftp.ebi.ac.uk/pub/databases/metagenomics/mgnify_genomes/human-gut/v1.0/all_genomes/MGYG-HGUT-013/MGYG-HGUT-01380/genomes2/GUT_GENOME001879.gff.gz |\n",
       "| ⋮ | ⋮ | ⋮ | ⋮ | ⋮ | ⋮ | ⋮ | ⋮ | ⋮ | ⋮ | ⋱ | ⋮ | ⋮ | ⋮ | ⋮ | ⋮ | ⋮ | ⋮ | ⋮ | ⋮ | ⋮ |\n",
       "| GUT_GENOME286996 | ZellerG_2014__MMPU99077057ST__bin.71 | CIBIO | MAG | 2155871 |  51 | 58794 | 58.54 | 94.46 | 0.00 | ⋯ | 18 | NA | GUT_GENOME239684 | MGYG-HGUT-03686 | d__Bacteria;p__Firmicutes_A;c__Clostridia;o__Oscillospirales;f__Oscillospiraceae;g__ER4;s__ER4 sp000765235                    | ERS436838 | ERP005534 | Germany | Europe | ftp://ftp.ebi.ac.uk/pub/databases/metagenomics/mgnify_genomes/human-gut/v1.0/all_genomes/MGYG-HGUT-036/MGYG-HGUT-03686/genomes4/GUT_GENOME286996.gff.gz |\n",
       "| GUT_GENOME286997 | ZellerG_2014__MMPU99077057ST__bin.72 | CIBIO | MAG | 2883579 | 383 | 10509 | 43.57 | 94.53 | 0.94 | ⋯ | 19 | NA | GUT_GENOME000682 | MGYG-HGUT-00144 | d__Bacteria;p__Bacteroidota;c__Bacteroidia;o__Bacteroidales;f__Barnesiellaceae;g__Barnesiella;s__Barnesiella intestinihominis | ERS436838 | ERP005534 | Germany | Europe | ftp://ftp.ebi.ac.uk/pub/databases/metagenomics/mgnify_genomes/human-gut/v1.0/all_genomes/MGYG-HGUT-001/MGYG-HGUT-00144/genomes1/GUT_GENOME286997.gff.gz |\n",
       "\n"
      ],
      "text/plain": [
       "       Genome           Original_name                        Study_set\n",
       "1      GUT_GENOME001878 AsnicarF_2017__MV_FEI1_t1Q14__bin.10 CIBIO    \n",
       "2      GUT_GENOME001879 AsnicarF_2017__MV_FEI1_t1Q14__bin.2  CIBIO    \n",
       "⋮      ⋮                ⋮                                    ⋮        \n",
       "262027 GUT_GENOME286996 ZellerG_2014__MMPU99077057ST__bin.71 CIBIO    \n",
       "262028 GUT_GENOME286997 ZellerG_2014__MMPU99077057ST__bin.72 CIBIO    \n",
       "       Genome_type Length  N_contigs N50   GC_content Completeness\n",
       "1      MAG         2026042 403       6562  60.17      84.65       \n",
       "2      MAG         1868450 616       3134  44.24      64.75       \n",
       "⋮      ⋮           ⋮       ⋮         ⋮     ⋮          ⋮           \n",
       "262027 MAG         2155871  51       58794 58.54      94.46       \n",
       "262028 MAG         2883579 383       10509 43.57      94.53       \n",
       "       Contamination ⋯ tRNAs Genome_accession Species_rep      MGnify_accession\n",
       "1      1.65          ⋯ 16    NA               GUT_GENOME095938 MGYG-HGUT-01292 \n",
       "2      0.88          ⋯  7    NA               GUT_GENOME096210 MGYG-HGUT-01380 \n",
       "⋮      ⋮             ⋱ ⋮     ⋮                ⋮                ⋮               \n",
       "262027 0.00          ⋯ 18    NA               GUT_GENOME239684 MGYG-HGUT-03686 \n",
       "262028 0.94          ⋯ 19    NA               GUT_GENOME000682 MGYG-HGUT-00144 \n",
       "       Lineage                                                                                                                                  \n",
       "1      d__Bacteria;p__Actinobacteriota;c__Actinobacteria;o__Actinomycetales;f__Bifidobacteriaceae;g__Bifidobacterium;s__Bifidobacterium infantis\n",
       "2      d__Bacteria;p__Firmicutes_A;c__Clostridia;o__Lachnospirales;f__Lachnospiraceae;g__Faecalicatena;s__Faecalicatena gnavus                  \n",
       "⋮      ⋮                                                                                                                                        \n",
       "262027 d__Bacteria;p__Firmicutes_A;c__Clostridia;o__Oscillospirales;f__Oscillospiraceae;g__ER4;s__ER4 sp000765235                               \n",
       "262028 d__Bacteria;p__Bacteroidota;c__Bacteroidia;o__Bacteroidales;f__Barnesiellaceae;g__Barnesiella;s__Barnesiella intestinihominis            \n",
       "       Sample_accession Study_accession Country Continent\n",
       "1      SRS1634634       SRP082656       Italy   Europe   \n",
       "2      SRS1634634       SRP082656       Italy   Europe   \n",
       "⋮      ⋮                ⋮               ⋮       ⋮        \n",
       "262027 ERS436838        ERP005534       Germany Europe   \n",
       "262028 ERS436838        ERP005534       Germany Europe   \n",
       "       FTP_download                                                                                                                                           \n",
       "1      ftp://ftp.ebi.ac.uk/pub/databases/metagenomics/mgnify_genomes/human-gut/v1.0/all_genomes/MGYG-HGUT-012/MGYG-HGUT-01292/genomes3/GUT_GENOME001878.gff.gz\n",
       "2      ftp://ftp.ebi.ac.uk/pub/databases/metagenomics/mgnify_genomes/human-gut/v1.0/all_genomes/MGYG-HGUT-013/MGYG-HGUT-01380/genomes2/GUT_GENOME001879.gff.gz\n",
       "⋮      ⋮                                                                                                                                                      \n",
       "262027 ftp://ftp.ebi.ac.uk/pub/databases/metagenomics/mgnify_genomes/human-gut/v1.0/all_genomes/MGYG-HGUT-036/MGYG-HGUT-03686/genomes4/GUT_GENOME286996.gff.gz\n",
       "262028 ftp://ftp.ebi.ac.uk/pub/databases/metagenomics/mgnify_genomes/human-gut/v1.0/all_genomes/MGYG-HGUT-001/MGYG-HGUT-00144/genomes1/GUT_GENOME286997.gff.gz"
      ]
     },
     "metadata": {},
     "output_type": "display_data"
    }
   ],
   "source": [
    "uhgg_meta_f = uhgg_meta %>% \n",
    "    filter.(Genome_type == 'MAG',\n",
    "            !is.na(Sample_accession)) \n",
    "uhgg_meta_f$Sample_accession %>% unique_n('Samples')\n",
    "uhgg_meta_f$Study_accession %>% unique_n('Studies')\n",
    "uhgg_meta_f "
   ]
  },
  {
   "cell_type": "code",
   "execution_count": 16,
   "metadata": {
    "ExecuteTime": {
     "end_time": "2022-04-30T12:16:54.731250Z",
     "start_time": "2022-04-30T12:16:52.288Z"
    }
   },
   "outputs": [
    {
     "data": {
      "text/html": [
       "<table class=\"dataframe\">\n",
       "<caption>A matrix: 1 × 8 of type dbl</caption>\n",
       "<thead>\n",
       "\t<tr><th></th><th scope=col>Min.</th><th scope=col>1st Qu.</th><th scope=col>Median</th><th scope=col>Mean</th><th scope=col>3rd Qu.</th><th scope=col>Max.</th><th scope=col>sd</th><th scope=col>sd_err_of_mean</th></tr>\n",
       "</thead>\n",
       "<tbody>\n",
       "\t<tr><th scope=row>MAGs per sample</th><td>1</td><td>8</td><td>17</td><td>22.89654</td><td>31</td><td>6076</td><td>60.065</td><td>24.521</td></tr>\n",
       "</tbody>\n",
       "</table>\n"
      ],
      "text/latex": [
       "A matrix: 1 × 8 of type dbl\n",
       "\\begin{tabular}{r|llllllll}\n",
       "  & Min. & 1st Qu. & Median & Mean & 3rd Qu. & Max. & sd & sd\\_err\\_of\\_mean\\\\\n",
       "\\hline\n",
       "\tMAGs per sample & 1 & 8 & 17 & 22.89654 & 31 & 6076 & 60.065 & 24.521\\\\\n",
       "\\end{tabular}\n"
      ],
      "text/markdown": [
       "\n",
       "A matrix: 1 × 8 of type dbl\n",
       "\n",
       "| <!--/--> | Min. | 1st Qu. | Median | Mean | 3rd Qu. | Max. | sd | sd_err_of_mean |\n",
       "|---|---|---|---|---|---|---|---|---|\n",
       "| MAGs per sample | 1 | 8 | 17 | 22.89654 | 31 | 6076 | 60.065 | 24.521 |\n",
       "\n"
      ],
      "text/plain": [
       "                Min. 1st Qu. Median Mean     3rd Qu. Max. sd     sd_err_of_mean\n",
       "MAGs per sample 1    8       17     22.89654 31      6076 60.065 24.521        "
      ]
     },
     "metadata": {},
     "output_type": "display_data"
    }
   ],
   "source": [
    "# MAGs per sample\n",
    "uhgg_meta_f %>%\n",
    "    summarize.(n = n.(),\n",
    "               .by=c(Sample_accession)) %>%\n",
    "    .$n %>% summary_x('MAGs per sample')"
   ]
  },
  {
   "cell_type": "code",
   "execution_count": 17,
   "metadata": {
    "ExecuteTime": {
     "end_time": "2022-04-30T12:16:58.599687Z",
     "start_time": "2022-04-30T12:16:55.274Z"
    }
   },
   "outputs": [
    {
     "data": {
      "text/html": [
       "<table class=\"dataframe\">\n",
       "<caption>A matrix: 1 × 8 of type dbl</caption>\n",
       "<thead>\n",
       "\t<tr><th></th><th scope=col>Min.</th><th scope=col>1st Qu.</th><th scope=col>Median</th><th scope=col>Mean</th><th scope=col>3rd Qu.</th><th scope=col>Max.</th><th scope=col>sd</th><th scope=col>sd_err_of_mean</th></tr>\n",
       "</thead>\n",
       "<tbody>\n",
       "\t<tr><th scope=row>MAGs per sample</th><td>10</td><td>23</td><td>37</td><td>42.69358</td><td>57</td><td>155</td><td>25.127</td><td>10.258</td></tr>\n",
       "</tbody>\n",
       "</table>\n"
      ],
      "text/latex": [
       "A matrix: 1 × 8 of type dbl\n",
       "\\begin{tabular}{r|llllllll}\n",
       "  & Min. & 1st Qu. & Median & Mean & 3rd Qu. & Max. & sd & sd\\_err\\_of\\_mean\\\\\n",
       "\\hline\n",
       "\tMAGs per sample & 10 & 23 & 37 & 42.69358 & 57 & 155 & 25.127 & 10.258\\\\\n",
       "\\end{tabular}\n"
      ],
      "text/markdown": [
       "\n",
       "A matrix: 1 × 8 of type dbl\n",
       "\n",
       "| <!--/--> | Min. | 1st Qu. | Median | Mean | 3rd Qu. | Max. | sd | sd_err_of_mean |\n",
       "|---|---|---|---|---|---|---|---|---|\n",
       "| MAGs per sample | 10 | 23 | 37 | 42.69358 | 57 | 155 | 25.127 | 10.258 |\n",
       "\n"
      ],
      "text/plain": [
       "                Min. 1st Qu. Median Mean     3rd Qu. Max. sd     sd_err_of_mean\n",
       "MAGs per sample 10   23      37     42.69358 57      155  25.127 10.258        "
      ]
     },
     "metadata": {},
     "output_type": "display_data"
    },
    {
     "data": {
      "text/html": [
       "<table class=\"dataframe\">\n",
       "<caption>A matrix: 1 × 8 of type dbl</caption>\n",
       "<thead>\n",
       "\t<tr><th></th><th scope=col>Min.</th><th scope=col>1st Qu.</th><th scope=col>Median</th><th scope=col>Mean</th><th scope=col>3rd Qu.</th><th scope=col>Max.</th><th scope=col>sd</th><th scope=col>sd_err_of_mean</th></tr>\n",
       "</thead>\n",
       "<tbody>\n",
       "\t<tr><th scope=row>Samples per study</th><td>10</td><td>115</td><td>217</td><td>240.2109</td><td>327</td><td>769</td><td>173.902</td><td>70.995</td></tr>\n",
       "</tbody>\n",
       "</table>\n"
      ],
      "text/latex": [
       "A matrix: 1 × 8 of type dbl\n",
       "\\begin{tabular}{r|llllllll}\n",
       "  & Min. & 1st Qu. & Median & Mean & 3rd Qu. & Max. & sd & sd\\_err\\_of\\_mean\\\\\n",
       "\\hline\n",
       "\tSamples per study & 10 & 115 & 217 & 240.2109 & 327 & 769 & 173.902 & 70.995\\\\\n",
       "\\end{tabular}\n"
      ],
      "text/markdown": [
       "\n",
       "A matrix: 1 × 8 of type dbl\n",
       "\n",
       "| <!--/--> | Min. | 1st Qu. | Median | Mean | 3rd Qu. | Max. | sd | sd_err_of_mean |\n",
       "|---|---|---|---|---|---|---|---|---|\n",
       "| Samples per study | 10 | 115 | 217 | 240.2109 | 327 | 769 | 173.902 | 70.995 |\n",
       "\n"
      ],
      "text/plain": [
       "                  Min. 1st Qu. Median Mean     3rd Qu. Max. sd     \n",
       "Samples per study 10   115     217    240.2109 327     769  173.902\n",
       "                  sd_err_of_mean\n",
       "Samples per study 70.995        "
      ]
     },
     "metadata": {},
     "output_type": "display_data"
    },
    {
     "name": "stdout",
     "output_type": "stream",
     "text": [
      "No. of unique Samples: 7860 \n",
      "No. of unique Studies: 62 \n"
     ]
    }
   ],
   "source": [
    "# filtering out samples with very low or high numbers of MAGs\n",
    "uhgg_meta_f = uhgg_meta_f %>%\n",
    "    mutate.(nMAGs = n.(),\n",
    "            .by=c(Sample_accession)) %>%\n",
    "    filter.(nMAGs >= 10, nMAGs <= 300) %>%\n",
    "    mutate.(nSamples = Sample_accession %>% unique %>% length,\n",
    "            .by=c(Study_accession)) %>%\n",
    "    filter.(nSamples >= 10) \n",
    "\n",
    "uhgg_meta_f$nMAGs %>% summary_x('MAGs per sample')\n",
    "uhgg_meta_f$nSamples %>% summary_x('Samples per study')\n",
    "uhgg_meta_f$Sample_accession %>% unique_n('Samples')\n",
    "uhgg_meta_f$Study_accession %>% unique_n('Studies')"
   ]
  },
  {
   "cell_type": "markdown",
   "metadata": {},
   "source": [
    "# rand-N samples\n",
    "\n",
    "* randomly selecting 300\n",
    "* many will likely fail the sample/read QC process"
   ]
  },
  {
   "cell_type": "code",
   "execution_count": 18,
   "metadata": {
    "ExecuteTime": {
     "end_time": "2022-04-30T12:17:20.594959Z",
     "start_time": "2022-04-30T12:17:18.126Z"
    }
   },
   "outputs": [
    {
     "name": "stdout",
     "output_type": "stream",
     "text": [
      "No. of unique Samples: 300 \n",
      "No. of unique Studies: 54 \n"
     ]
    }
   ],
   "source": [
    "# random \n",
    "n_samples = 300\n",
    "target_samps = uhgg_meta_f %>%\n",
    "    distinct.(Sample_accession, Study_accession) %>%\n",
    "    mutate.(X = sample(1:length(Sample_accession), length(Sample_accession))) %>%\n",
    "    filter.(X <= n_samples)\n",
    "\n",
    "target_samps$Sample_accession %>% unique_n('Samples')\n",
    "target_samps$Study_accession %>% unique_n('Studies')"
   ]
  },
  {
   "cell_type": "code",
   "execution_count": 19,
   "metadata": {
    "ExecuteTime": {
     "end_time": "2022-04-30T12:17:31.796249Z",
     "start_time": "2022-04-30T12:17:23.660Z"
    }
   },
   "outputs": [
    {
     "name": "stdout",
     "output_type": "stream",
     "text": [
      "No. of unique Genomes: 8929 \n",
      "No. of unique Samples: 300 \n",
      "No. of unique Studies: 54 \n"
     ]
    },
    {
     "data": {
      "text/html": [
       "<table class=\"dataframe\">\n",
       "<caption>A matrix: 1 × 8 of type dbl</caption>\n",
       "<thead>\n",
       "\t<tr><th></th><th scope=col>Min.</th><th scope=col>1st Qu.</th><th scope=col>Median</th><th scope=col>Mean</th><th scope=col>3rd Qu.</th><th scope=col>Max.</th><th scope=col>sd</th><th scope=col>sd_err_of_mean</th></tr>\n",
       "</thead>\n",
       "<tbody>\n",
       "\t<tr><th scope=row>MAGs per sample</th><td>10</td><td>23</td><td>35</td><td>42.40956</td><td>58</td><td>114</td><td>24.644</td><td>10.061</td></tr>\n",
       "</tbody>\n",
       "</table>\n"
      ],
      "text/latex": [
       "A matrix: 1 × 8 of type dbl\n",
       "\\begin{tabular}{r|llllllll}\n",
       "  & Min. & 1st Qu. & Median & Mean & 3rd Qu. & Max. & sd & sd\\_err\\_of\\_mean\\\\\n",
       "\\hline\n",
       "\tMAGs per sample & 10 & 23 & 35 & 42.40956 & 58 & 114 & 24.644 & 10.061\\\\\n",
       "\\end{tabular}\n"
      ],
      "text/markdown": [
       "\n",
       "A matrix: 1 × 8 of type dbl\n",
       "\n",
       "| <!--/--> | Min. | 1st Qu. | Median | Mean | 3rd Qu. | Max. | sd | sd_err_of_mean |\n",
       "|---|---|---|---|---|---|---|---|---|\n",
       "| MAGs per sample | 10 | 23 | 35 | 42.40956 | 58 | 114 | 24.644 | 10.061 |\n",
       "\n"
      ],
      "text/plain": [
       "                Min. 1st Qu. Median Mean     3rd Qu. Max. sd     sd_err_of_mean\n",
       "MAGs per sample 10   23      35     42.40956 58      114  24.644 10.061        "
      ]
     },
     "metadata": {},
     "output_type": "display_data"
    },
    {
     "data": {
      "text/html": [
       "<table class=\"dataframe\">\n",
       "<caption>A matrix: 1 × 8 of type dbl</caption>\n",
       "<thead>\n",
       "\t<tr><th></th><th scope=col>Min.</th><th scope=col>1st Qu.</th><th scope=col>Median</th><th scope=col>Mean</th><th scope=col>3rd Qu.</th><th scope=col>Max.</th><th scope=col>sd</th><th scope=col>sd_err_of_mean</th></tr>\n",
       "</thead>\n",
       "<tbody>\n",
       "\t<tr><th scope=row>Samples per study</th><td>1</td><td>6</td><td>10</td><td>9.25714</td><td>12</td><td>27</td><td>5.678</td><td>2.318</td></tr>\n",
       "</tbody>\n",
       "</table>\n"
      ],
      "text/latex": [
       "A matrix: 1 × 8 of type dbl\n",
       "\\begin{tabular}{r|llllllll}\n",
       "  & Min. & 1st Qu. & Median & Mean & 3rd Qu. & Max. & sd & sd\\_err\\_of\\_mean\\\\\n",
       "\\hline\n",
       "\tSamples per study & 1 & 6 & 10 & 9.25714 & 12 & 27 & 5.678 & 2.318\\\\\n",
       "\\end{tabular}\n"
      ],
      "text/markdown": [
       "\n",
       "A matrix: 1 × 8 of type dbl\n",
       "\n",
       "| <!--/--> | Min. | 1st Qu. | Median | Mean | 3rd Qu. | Max. | sd | sd_err_of_mean |\n",
       "|---|---|---|---|---|---|---|---|---|\n",
       "| Samples per study | 1 | 6 | 10 | 9.25714 | 12 | 27 | 5.678 | 2.318 |\n",
       "\n"
      ],
      "text/plain": [
       "                  Min. 1st Qu. Median Mean    3rd Qu. Max. sd    sd_err_of_mean\n",
       "Samples per study 1    6       10     9.25714 12      27   5.678 2.318         "
      ]
     },
     "metadata": {},
     "output_type": "display_data"
    },
    {
     "data": {
      "text/html": [
       "<table class=\"dataframe\">\n",
       "<caption>A tidytable: 8929 × 27</caption>\n",
       "<thead>\n",
       "\t<tr><th scope=col>Genome</th><th scope=col>Original_name</th><th scope=col>Study_set</th><th scope=col>Genome_type</th><th scope=col>Length</th><th scope=col>N_contigs</th><th scope=col>N50</th><th scope=col>GC_content</th><th scope=col>Completeness</th><th scope=col>Contamination</th><th scope=col>⋯</th><th scope=col>Species_rep</th><th scope=col>MGnify_accession</th><th scope=col>Lineage</th><th scope=col>Sample_accession</th><th scope=col>Study_accession</th><th scope=col>Country</th><th scope=col>Continent</th><th scope=col>FTP_download</th><th scope=col>nMAGs</th><th scope=col>nSamples</th></tr>\n",
       "\t<tr><th scope=col>&lt;chr&gt;</th><th scope=col>&lt;chr&gt;</th><th scope=col>&lt;chr&gt;</th><th scope=col>&lt;chr&gt;</th><th scope=col>&lt;int&gt;</th><th scope=col>&lt;int&gt;</th><th scope=col>&lt;int&gt;</th><th scope=col>&lt;dbl&gt;</th><th scope=col>&lt;dbl&gt;</th><th scope=col>&lt;dbl&gt;</th><th scope=col>⋯</th><th scope=col>&lt;chr&gt;</th><th scope=col>&lt;chr&gt;</th><th scope=col>&lt;chr&gt;</th><th scope=col>&lt;chr&gt;</th><th scope=col>&lt;chr&gt;</th><th scope=col>&lt;chr&gt;</th><th scope=col>&lt;chr&gt;</th><th scope=col>&lt;chr&gt;</th><th scope=col>&lt;int&gt;</th><th scope=col>&lt;int&gt;</th></tr>\n",
       "</thead>\n",
       "<tbody>\n",
       "\t<tr><td>GUT_GENOME002103</td><td>BackhedF_2015__SID105_12M__bin.10</td><td>CIBIO</td><td>MAG</td><td>4050138</td><td>702</td><td>7372</td><td>49.79</td><td>70.69</td><td>1.72</td><td>⋯</td><td>GUT_GENOME145378</td><td>MGYG-HGUT-02507</td><td>d__Bacteria;p__Proteobacteria;c__Gammaproteobacteria;o__Enterobacterales;f__Enterobacteriaceae;g__Escherichia;s__Escherichia albertii</td><td>ERS473029</td><td>ERP005989</td><td>Sweden</td><td>Europe</td><td>ftp://ftp.ebi.ac.uk/pub/databases/metagenomics/mgnify_genomes/human-gut/v1.0/all_genomes/MGYG-HGUT-025/MGYG-HGUT-02507/genomes1/GUT_GENOME002103.gff.gz</td><td>41</td><td>12</td></tr>\n",
       "\t<tr><td>GUT_GENOME002104</td><td>BackhedF_2015__SID105_12M__bin.12</td><td>CIBIO</td><td>MAG</td><td>2205103</td><td>484</td><td>5535</td><td>27.72</td><td>84.64</td><td>1.99</td><td>⋯</td><td>GUT_GENOME036763</td><td>MGYG-HGUT-00839</td><td>d__Bacteria;p__Firmicutes_A;c__Clostridia;o__Clostridiales;f__Clostridiaceae;g__Clostridium;s__                                      </td><td>ERS473029</td><td>ERP005989</td><td>Sweden</td><td>Europe</td><td>ftp://ftp.ebi.ac.uk/pub/databases/metagenomics/mgnify_genomes/human-gut/v1.0/all_genomes/MGYG-HGUT-008/MGYG-HGUT-00839/genomes1/GUT_GENOME002104.gff.gz</td><td>41</td><td>12</td></tr>\n",
       "\t<tr><td>⋮</td><td>⋮</td><td>⋮</td><td>⋮</td><td>⋮</td><td>⋮</td><td>⋮</td><td>⋮</td><td>⋮</td><td>⋮</td><td>⋱</td><td>⋮</td><td>⋮</td><td>⋮</td><td>⋮</td><td>⋮</td><td>⋮</td><td>⋮</td><td>⋮</td><td>⋮</td><td>⋮</td></tr>\n",
       "\t<tr><td>GUT_GENOME285786</td><td>ZellerG_2014__CCMD14479708ST-21-0__bin.73</td><td>CIBIO</td><td>MAG</td><td>4057685</td><td>239</td><td> 26212</td><td>46.91</td><td>92.73</td><td>0.87</td><td>⋯</td><td>GUT_GENOME096083</td><td>MGYG-HGUT-01346</td><td>d__Bacteria;p__Bacteroidota;c__Bacteroidia;o__Bacteroidales;f__Bacteroidaceae;g__Bacteroides;s__Bacteroides uniformis        </td><td>ERS436820</td><td>ERP005534</td><td>Germany</td><td>Europe</td><td>ftp://ftp.ebi.ac.uk/pub/databases/metagenomics/mgnify_genomes/human-gut/v1.0/all_genomes/MGYG-HGUT-013/MGYG-HGUT-01346/genomes3/GUT_GENOME285786.gff.gz</td><td>31</td><td>9</td></tr>\n",
       "\t<tr><td>GUT_GENOME285787</td><td>ZellerG_2014__CCMD14479708ST-21-0__bin.8 </td><td>CIBIO</td><td>MAG</td><td>3293374</td><td> 31</td><td>237806</td><td>43.33</td><td>99.25</td><td>0.00</td><td>⋯</td><td>GUT_GENOME000682</td><td>MGYG-HGUT-00144</td><td>d__Bacteria;p__Bacteroidota;c__Bacteroidia;o__Bacteroidales;f__Barnesiellaceae;g__Barnesiella;s__Barnesiella intestinihominis</td><td>ERS436820</td><td>ERP005534</td><td>Germany</td><td>Europe</td><td>ftp://ftp.ebi.ac.uk/pub/databases/metagenomics/mgnify_genomes/human-gut/v1.0/all_genomes/MGYG-HGUT-001/MGYG-HGUT-00144/genomes3/GUT_GENOME285787.gff.gz</td><td>31</td><td>9</td></tr>\n",
       "</tbody>\n",
       "</table>\n"
      ],
      "text/latex": [
       "A tidytable: 8929 × 27\n",
       "\\begin{tabular}{lllllllllllllllllllll}\n",
       " Genome & Original\\_name & Study\\_set & Genome\\_type & Length & N\\_contigs & N50 & GC\\_content & Completeness & Contamination & ⋯ & Species\\_rep & MGnify\\_accession & Lineage & Sample\\_accession & Study\\_accession & Country & Continent & FTP\\_download & nMAGs & nSamples\\\\\n",
       " <chr> & <chr> & <chr> & <chr> & <int> & <int> & <int> & <dbl> & <dbl> & <dbl> & ⋯ & <chr> & <chr> & <chr> & <chr> & <chr> & <chr> & <chr> & <chr> & <int> & <int>\\\\\n",
       "\\hline\n",
       "\t GUT\\_GENOME002103 & BackhedF\\_2015\\_\\_SID105\\_12M\\_\\_bin.10 & CIBIO & MAG & 4050138 & 702 & 7372 & 49.79 & 70.69 & 1.72 & ⋯ & GUT\\_GENOME145378 & MGYG-HGUT-02507 & d\\_\\_Bacteria;p\\_\\_Proteobacteria;c\\_\\_Gammaproteobacteria;o\\_\\_Enterobacterales;f\\_\\_Enterobacteriaceae;g\\_\\_Escherichia;s\\_\\_Escherichia albertii & ERS473029 & ERP005989 & Sweden & Europe & ftp://ftp.ebi.ac.uk/pub/databases/metagenomics/mgnify\\_genomes/human-gut/v1.0/all\\_genomes/MGYG-HGUT-025/MGYG-HGUT-02507/genomes1/GUT\\_GENOME002103.gff.gz & 41 & 12\\\\\n",
       "\t GUT\\_GENOME002104 & BackhedF\\_2015\\_\\_SID105\\_12M\\_\\_bin.12 & CIBIO & MAG & 2205103 & 484 & 5535 & 27.72 & 84.64 & 1.99 & ⋯ & GUT\\_GENOME036763 & MGYG-HGUT-00839 & d\\_\\_Bacteria;p\\_\\_Firmicutes\\_A;c\\_\\_Clostridia;o\\_\\_Clostridiales;f\\_\\_Clostridiaceae;g\\_\\_Clostridium;s\\_\\_                                       & ERS473029 & ERP005989 & Sweden & Europe & ftp://ftp.ebi.ac.uk/pub/databases/metagenomics/mgnify\\_genomes/human-gut/v1.0/all\\_genomes/MGYG-HGUT-008/MGYG-HGUT-00839/genomes1/GUT\\_GENOME002104.gff.gz & 41 & 12\\\\\n",
       "\t ⋮ & ⋮ & ⋮ & ⋮ & ⋮ & ⋮ & ⋮ & ⋮ & ⋮ & ⋮ & ⋱ & ⋮ & ⋮ & ⋮ & ⋮ & ⋮ & ⋮ & ⋮ & ⋮ & ⋮ & ⋮\\\\\n",
       "\t GUT\\_GENOME285786 & ZellerG\\_2014\\_\\_CCMD14479708ST-21-0\\_\\_bin.73 & CIBIO & MAG & 4057685 & 239 &  26212 & 46.91 & 92.73 & 0.87 & ⋯ & GUT\\_GENOME096083 & MGYG-HGUT-01346 & d\\_\\_Bacteria;p\\_\\_Bacteroidota;c\\_\\_Bacteroidia;o\\_\\_Bacteroidales;f\\_\\_Bacteroidaceae;g\\_\\_Bacteroides;s\\_\\_Bacteroides uniformis         & ERS436820 & ERP005534 & Germany & Europe & ftp://ftp.ebi.ac.uk/pub/databases/metagenomics/mgnify\\_genomes/human-gut/v1.0/all\\_genomes/MGYG-HGUT-013/MGYG-HGUT-01346/genomes3/GUT\\_GENOME285786.gff.gz & 31 & 9\\\\\n",
       "\t GUT\\_GENOME285787 & ZellerG\\_2014\\_\\_CCMD14479708ST-21-0\\_\\_bin.8  & CIBIO & MAG & 3293374 &  31 & 237806 & 43.33 & 99.25 & 0.00 & ⋯ & GUT\\_GENOME000682 & MGYG-HGUT-00144 & d\\_\\_Bacteria;p\\_\\_Bacteroidota;c\\_\\_Bacteroidia;o\\_\\_Bacteroidales;f\\_\\_Barnesiellaceae;g\\_\\_Barnesiella;s\\_\\_Barnesiella intestinihominis & ERS436820 & ERP005534 & Germany & Europe & ftp://ftp.ebi.ac.uk/pub/databases/metagenomics/mgnify\\_genomes/human-gut/v1.0/all\\_genomes/MGYG-HGUT-001/MGYG-HGUT-00144/genomes3/GUT\\_GENOME285787.gff.gz & 31 & 9\\\\\n",
       "\\end{tabular}\n"
      ],
      "text/markdown": [
       "\n",
       "A tidytable: 8929 × 27\n",
       "\n",
       "| Genome &lt;chr&gt; | Original_name &lt;chr&gt; | Study_set &lt;chr&gt; | Genome_type &lt;chr&gt; | Length &lt;int&gt; | N_contigs &lt;int&gt; | N50 &lt;int&gt; | GC_content &lt;dbl&gt; | Completeness &lt;dbl&gt; | Contamination &lt;dbl&gt; | ⋯ ⋯ | Species_rep &lt;chr&gt; | MGnify_accession &lt;chr&gt; | Lineage &lt;chr&gt; | Sample_accession &lt;chr&gt; | Study_accession &lt;chr&gt; | Country &lt;chr&gt; | Continent &lt;chr&gt; | FTP_download &lt;chr&gt; | nMAGs &lt;int&gt; | nSamples &lt;int&gt; |\n",
       "|---|---|---|---|---|---|---|---|---|---|---|---|---|---|---|---|---|---|---|---|---|\n",
       "| GUT_GENOME002103 | BackhedF_2015__SID105_12M__bin.10 | CIBIO | MAG | 4050138 | 702 | 7372 | 49.79 | 70.69 | 1.72 | ⋯ | GUT_GENOME145378 | MGYG-HGUT-02507 | d__Bacteria;p__Proteobacteria;c__Gammaproteobacteria;o__Enterobacterales;f__Enterobacteriaceae;g__Escherichia;s__Escherichia albertii | ERS473029 | ERP005989 | Sweden | Europe | ftp://ftp.ebi.ac.uk/pub/databases/metagenomics/mgnify_genomes/human-gut/v1.0/all_genomes/MGYG-HGUT-025/MGYG-HGUT-02507/genomes1/GUT_GENOME002103.gff.gz | 41 | 12 |\n",
       "| GUT_GENOME002104 | BackhedF_2015__SID105_12M__bin.12 | CIBIO | MAG | 2205103 | 484 | 5535 | 27.72 | 84.64 | 1.99 | ⋯ | GUT_GENOME036763 | MGYG-HGUT-00839 | d__Bacteria;p__Firmicutes_A;c__Clostridia;o__Clostridiales;f__Clostridiaceae;g__Clostridium;s__                                       | ERS473029 | ERP005989 | Sweden | Europe | ftp://ftp.ebi.ac.uk/pub/databases/metagenomics/mgnify_genomes/human-gut/v1.0/all_genomes/MGYG-HGUT-008/MGYG-HGUT-00839/genomes1/GUT_GENOME002104.gff.gz | 41 | 12 |\n",
       "| ⋮ | ⋮ | ⋮ | ⋮ | ⋮ | ⋮ | ⋮ | ⋮ | ⋮ | ⋮ | ⋱ | ⋮ | ⋮ | ⋮ | ⋮ | ⋮ | ⋮ | ⋮ | ⋮ | ⋮ | ⋮ |\n",
       "| GUT_GENOME285786 | ZellerG_2014__CCMD14479708ST-21-0__bin.73 | CIBIO | MAG | 4057685 | 239 |  26212 | 46.91 | 92.73 | 0.87 | ⋯ | GUT_GENOME096083 | MGYG-HGUT-01346 | d__Bacteria;p__Bacteroidota;c__Bacteroidia;o__Bacteroidales;f__Bacteroidaceae;g__Bacteroides;s__Bacteroides uniformis         | ERS436820 | ERP005534 | Germany | Europe | ftp://ftp.ebi.ac.uk/pub/databases/metagenomics/mgnify_genomes/human-gut/v1.0/all_genomes/MGYG-HGUT-013/MGYG-HGUT-01346/genomes3/GUT_GENOME285786.gff.gz | 31 | 9 |\n",
       "| GUT_GENOME285787 | ZellerG_2014__CCMD14479708ST-21-0__bin.8  | CIBIO | MAG | 3293374 |  31 | 237806 | 43.33 | 99.25 | 0.00 | ⋯ | GUT_GENOME000682 | MGYG-HGUT-00144 | d__Bacteria;p__Bacteroidota;c__Bacteroidia;o__Bacteroidales;f__Barnesiellaceae;g__Barnesiella;s__Barnesiella intestinihominis | ERS436820 | ERP005534 | Germany | Europe | ftp://ftp.ebi.ac.uk/pub/databases/metagenomics/mgnify_genomes/human-gut/v1.0/all_genomes/MGYG-HGUT-001/MGYG-HGUT-00144/genomes3/GUT_GENOME285787.gff.gz | 31 | 9 |\n",
       "\n"
      ],
      "text/plain": [
       "     Genome           Original_name                             Study_set\n",
       "1    GUT_GENOME002103 BackhedF_2015__SID105_12M__bin.10         CIBIO    \n",
       "2    GUT_GENOME002104 BackhedF_2015__SID105_12M__bin.12         CIBIO    \n",
       "⋮    ⋮                ⋮                                         ⋮        \n",
       "8928 GUT_GENOME285786 ZellerG_2014__CCMD14479708ST-21-0__bin.73 CIBIO    \n",
       "8929 GUT_GENOME285787 ZellerG_2014__CCMD14479708ST-21-0__bin.8  CIBIO    \n",
       "     Genome_type Length  N_contigs N50    GC_content Completeness Contamination\n",
       "1    MAG         4050138 702       7372   49.79      70.69        1.72         \n",
       "2    MAG         2205103 484       5535   27.72      84.64        1.99         \n",
       "⋮    ⋮           ⋮       ⋮         ⋮      ⋮          ⋮            ⋮            \n",
       "8928 MAG         4057685 239        26212 46.91      92.73        0.87         \n",
       "8929 MAG         3293374  31       237806 43.33      99.25        0.00         \n",
       "     ⋯ Species_rep      MGnify_accession\n",
       "1    ⋯ GUT_GENOME145378 MGYG-HGUT-02507 \n",
       "2    ⋯ GUT_GENOME036763 MGYG-HGUT-00839 \n",
       "⋮    ⋱ ⋮                ⋮               \n",
       "8928 ⋯ GUT_GENOME096083 MGYG-HGUT-01346 \n",
       "8929 ⋯ GUT_GENOME000682 MGYG-HGUT-00144 \n",
       "     Lineage                                                                                                                              \n",
       "1    d__Bacteria;p__Proteobacteria;c__Gammaproteobacteria;o__Enterobacterales;f__Enterobacteriaceae;g__Escherichia;s__Escherichia albertii\n",
       "2    d__Bacteria;p__Firmicutes_A;c__Clostridia;o__Clostridiales;f__Clostridiaceae;g__Clostridium;s__                                      \n",
       "⋮    ⋮                                                                                                                                    \n",
       "8928 d__Bacteria;p__Bacteroidota;c__Bacteroidia;o__Bacteroidales;f__Bacteroidaceae;g__Bacteroides;s__Bacteroides uniformis                \n",
       "8929 d__Bacteria;p__Bacteroidota;c__Bacteroidia;o__Bacteroidales;f__Barnesiellaceae;g__Barnesiella;s__Barnesiella intestinihominis        \n",
       "     Sample_accession Study_accession Country Continent\n",
       "1    ERS473029        ERP005989       Sweden  Europe   \n",
       "2    ERS473029        ERP005989       Sweden  Europe   \n",
       "⋮    ⋮                ⋮               ⋮       ⋮        \n",
       "8928 ERS436820        ERP005534       Germany Europe   \n",
       "8929 ERS436820        ERP005534       Germany Europe   \n",
       "     FTP_download                                                                                                                                           \n",
       "1    ftp://ftp.ebi.ac.uk/pub/databases/metagenomics/mgnify_genomes/human-gut/v1.0/all_genomes/MGYG-HGUT-025/MGYG-HGUT-02507/genomes1/GUT_GENOME002103.gff.gz\n",
       "2    ftp://ftp.ebi.ac.uk/pub/databases/metagenomics/mgnify_genomes/human-gut/v1.0/all_genomes/MGYG-HGUT-008/MGYG-HGUT-00839/genomes1/GUT_GENOME002104.gff.gz\n",
       "⋮    ⋮                                                                                                                                                      \n",
       "8928 ftp://ftp.ebi.ac.uk/pub/databases/metagenomics/mgnify_genomes/human-gut/v1.0/all_genomes/MGYG-HGUT-013/MGYG-HGUT-01346/genomes3/GUT_GENOME285786.gff.gz\n",
       "8929 ftp://ftp.ebi.ac.uk/pub/databases/metagenomics/mgnify_genomes/human-gut/v1.0/all_genomes/MGYG-HGUT-001/MGYG-HGUT-00144/genomes3/GUT_GENOME285787.gff.gz\n",
       "     nMAGs nSamples\n",
       "1    41    12      \n",
       "2    41    12      \n",
       "⋮    ⋮     ⋮       \n",
       "8928 31    9       \n",
       "8929 31    9       "
      ]
     },
     "metadata": {},
     "output_type": "display_data"
    }
   ],
   "source": [
    "# filtering to target samples\n",
    "uhgg_meta_ff = uhgg_meta_f %>%\n",
    "    semi_join.(target_samps, c('Sample_accession')) %>%\n",
    "    mutate.(nMAGs = n.(),\n",
    "            .by=c(Sample_accession)) %>%\n",
    "    mutate.(nSamples = Sample_accession %>% unique %>% length,\n",
    "            .by=c(Study_accession)) \n",
    "\n",
    "# summary\n",
    "uhgg_meta_ff$Genome %>% unique_n('Genomes')\n",
    "uhgg_meta_ff$Sample_accession %>% unique_n('Samples')\n",
    "uhgg_meta_ff$Study_accession %>% unique_n('Studies')\n",
    "uhgg_meta_ff$nMAGs %>% summary_x('MAGs per sample')\n",
    "uhgg_meta_ff$nSamples %>% summary_x('Samples per study')\n",
    "uhgg_meta_ff"
   ]
  },
  {
   "cell_type": "markdown",
   "metadata": {},
   "source": [
    "## Getting run accessions"
   ]
  },
  {
   "cell_type": "code",
   "execution_count": 20,
   "metadata": {
    "ExecuteTime": {
     "end_time": "2022-04-30T12:17:38.039978Z",
     "start_time": "2022-04-30T12:17:34.250Z"
    }
   },
   "outputs": [
    {
     "name": "stderr",
     "output_type": "stream",
     "text": [
      "bash -c \" wget -qO- 'http://www.ebi.ac.uk/ena/portal/api/filereport?accession=ERS1444621&result=read_run'\"\n",
      "\n"
     ]
    },
    {
     "data": {
      "text/html": [
       "<table class=\"dataframe\">\n",
       "<caption>A data.frame: 8 × 11</caption>\n",
       "<thead>\n",
       "\t<tr><th scope=col>run_accession</th><th scope=col>fastq_ftp</th><th scope=col>fastq_bytes</th><th scope=col>fastq_md5</th><th scope=col>submitted_ftp</th><th scope=col>submitted_bytes</th><th scope=col>submitted_md5</th><th scope=col>sra_ftp</th><th scope=col>sra_bytes</th><th scope=col>sra_md5</th><th scope=col>Sample_accession</th></tr>\n",
       "\t<tr><th scope=col>&lt;chr&gt;</th><th scope=col>&lt;chr&gt;</th><th scope=col>&lt;chr&gt;</th><th scope=col>&lt;chr&gt;</th><th scope=col>&lt;chr&gt;</th><th scope=col>&lt;chr&gt;</th><th scope=col>&lt;chr&gt;</th><th scope=col>&lt;chr&gt;</th><th scope=col>&lt;int&gt;</th><th scope=col>&lt;chr&gt;</th><th scope=col>&lt;chr&gt;</th></tr>\n",
       "</thead>\n",
       "<tbody>\n",
       "\t<tr><td>ERR1727756</td><td>ftp.sra.ebi.ac.uk/vol1/fastq/ERR172/006/ERR1727756/ERR1727756_1.fastq.gz;ftp.sra.ebi.ac.uk/vol1/fastq/ERR172/006/ERR1727756/ERR1727756_2.fastq.gz</td><td>661441404;659997128</td><td>eb62183690330fc99ce7dee618646fa5;60e1791e2d3cc1cbdbd56a78edf71eff</td><td>ftp.sra.ebi.ac.uk/vol1/run/ERR172/ERR1727756/713B069-11-0-0_14s007604-1-1_lane5.screened.adapter.screened.hg19.pair.1.fq.gz;ftp.sra.ebi.ac.uk/vol1/run/ERR172/ERR1727756/713B069-11-0-0_14s007604-1-1_lane5.screened.adapter.screened.hg19.pair.2.fq.gz</td><td>615362637;614138393</td><td>811db7be9cef02c4bf549da4ab88337c;59a2654877884b65d4e59f3d74a1513e</td><td>ftp.sra.ebi.ac.uk/vol1/err/ERR172/006/ERR1727756</td><td>1201551285</td><td>231e59eec577bb3355645d7f37c6ca0d</td><td>ERS1444621</td></tr>\n",
       "\t<tr><td>ERR1727757</td><td>ftp.sra.ebi.ac.uk/vol1/fastq/ERR172/007/ERR1727757/ERR1727757_1.fastq.gz;ftp.sra.ebi.ac.uk/vol1/fastq/ERR172/007/ERR1727757/ERR1727757_2.fastq.gz</td><td>621189240;618922836</td><td>b6614ba5a9029f20ce9f487d30d2b4ab;6c6db3c06ec93df31e5cca541622e1da</td><td>ftp.sra.ebi.ac.uk/vol1/run/ERR172/ERR1727757/713B069-11-0-0_14s007604-4-1_lane8.screened.adapter.screened.hg19.pair.1.fq.gz;ftp.sra.ebi.ac.uk/vol1/run/ERR172/ERR1727757/713B069-11-0-0_14s007604-4-1_lane8.screened.adapter.screened.hg19.pair.2.fq.gz</td><td>577856647;575761646</td><td>7f0a00e47f2dc27b4f9ed5adfa54164d;e40c98c1f2f227362619cc7c9fa21189</td><td>ftp.sra.ebi.ac.uk/vol1/err/ERR172/007/ERR1727757</td><td>1127804249</td><td>8bfc1a6df4ac451d0ea1d95e0f5a3f42</td><td>ERS1444621</td></tr>\n",
       "\t<tr><td>⋮</td><td>⋮</td><td>⋮</td><td>⋮</td><td>⋮</td><td>⋮</td><td>⋮</td><td>⋮</td><td>⋮</td><td>⋮</td><td>⋮</td></tr>\n",
       "\t<tr><td>ERR1728880</td><td>ftp.sra.ebi.ac.uk/vol1/fastq/ERR172/000/ERR1728880/ERR1728880.fastq.gz</td><td>82093036</td><td>2a3f10852bd3ea1166cae92f830167a4</td><td>ftp.sra.ebi.ac.uk/vol1/run/ERR172/ERR1728880/713B069-11-0-0_14s007604-4-1_lane8.screened.adapter.screened.hg19.single.fq.gz</td><td>77251804</td><td>54af0bd70cdfe420c363717cf85c6f84</td><td>ftp.sra.ebi.ac.uk/vol1/err/ERR172/000/ERR1728880</td><td>88978649</td><td>b5598b37ad5ce55fde5b02696e6c3313</td><td>ERS1444621</td></tr>\n",
       "\t<tr><td>ERR1728881</td><td>ftp.sra.ebi.ac.uk/vol1/fastq/ERR172/001/ERR1728881/ERR1728881.fastq.gz</td><td>87880314</td><td>9c7ae3c7941005dd46d9deab522a2ead</td><td>ftp.sra.ebi.ac.uk/vol1/run/ERR172/ERR1728881/713B069-11-0-0_14s007604-1-1_lane5.screened.adapter.screened.hg19.single.fq.gz</td><td>82694653</td><td>5289d8ea19d5e1d00c197cf2e7d82e69</td><td>ftp.sra.ebi.ac.uk/vol1/err/ERR172/001/ERR1728881</td><td>95261746</td><td>97d9af7c8bb58c056e28b644ce5b45ab</td><td>ERS1444621</td></tr>\n",
       "</tbody>\n",
       "</table>\n"
      ],
      "text/latex": [
       "A data.frame: 8 × 11\n",
       "\\begin{tabular}{lllllllllll}\n",
       " run\\_accession & fastq\\_ftp & fastq\\_bytes & fastq\\_md5 & submitted\\_ftp & submitted\\_bytes & submitted\\_md5 & sra\\_ftp & sra\\_bytes & sra\\_md5 & Sample\\_accession\\\\\n",
       " <chr> & <chr> & <chr> & <chr> & <chr> & <chr> & <chr> & <chr> & <int> & <chr> & <chr>\\\\\n",
       "\\hline\n",
       "\t ERR1727756 & ftp.sra.ebi.ac.uk/vol1/fastq/ERR172/006/ERR1727756/ERR1727756\\_1.fastq.gz;ftp.sra.ebi.ac.uk/vol1/fastq/ERR172/006/ERR1727756/ERR1727756\\_2.fastq.gz & 661441404;659997128 & eb62183690330fc99ce7dee618646fa5;60e1791e2d3cc1cbdbd56a78edf71eff & ftp.sra.ebi.ac.uk/vol1/run/ERR172/ERR1727756/713B069-11-0-0\\_14s007604-1-1\\_lane5.screened.adapter.screened.hg19.pair.1.fq.gz;ftp.sra.ebi.ac.uk/vol1/run/ERR172/ERR1727756/713B069-11-0-0\\_14s007604-1-1\\_lane5.screened.adapter.screened.hg19.pair.2.fq.gz & 615362637;614138393 & 811db7be9cef02c4bf549da4ab88337c;59a2654877884b65d4e59f3d74a1513e & ftp.sra.ebi.ac.uk/vol1/err/ERR172/006/ERR1727756 & 1201551285 & 231e59eec577bb3355645d7f37c6ca0d & ERS1444621\\\\\n",
       "\t ERR1727757 & ftp.sra.ebi.ac.uk/vol1/fastq/ERR172/007/ERR1727757/ERR1727757\\_1.fastq.gz;ftp.sra.ebi.ac.uk/vol1/fastq/ERR172/007/ERR1727757/ERR1727757\\_2.fastq.gz & 621189240;618922836 & b6614ba5a9029f20ce9f487d30d2b4ab;6c6db3c06ec93df31e5cca541622e1da & ftp.sra.ebi.ac.uk/vol1/run/ERR172/ERR1727757/713B069-11-0-0\\_14s007604-4-1\\_lane8.screened.adapter.screened.hg19.pair.1.fq.gz;ftp.sra.ebi.ac.uk/vol1/run/ERR172/ERR1727757/713B069-11-0-0\\_14s007604-4-1\\_lane8.screened.adapter.screened.hg19.pair.2.fq.gz & 577856647;575761646 & 7f0a00e47f2dc27b4f9ed5adfa54164d;e40c98c1f2f227362619cc7c9fa21189 & ftp.sra.ebi.ac.uk/vol1/err/ERR172/007/ERR1727757 & 1127804249 & 8bfc1a6df4ac451d0ea1d95e0f5a3f42 & ERS1444621\\\\\n",
       "\t ⋮ & ⋮ & ⋮ & ⋮ & ⋮ & ⋮ & ⋮ & ⋮ & ⋮ & ⋮ & ⋮\\\\\n",
       "\t ERR1728880 & ftp.sra.ebi.ac.uk/vol1/fastq/ERR172/000/ERR1728880/ERR1728880.fastq.gz & 82093036 & 2a3f10852bd3ea1166cae92f830167a4 & ftp.sra.ebi.ac.uk/vol1/run/ERR172/ERR1728880/713B069-11-0-0\\_14s007604-4-1\\_lane8.screened.adapter.screened.hg19.single.fq.gz & 77251804 & 54af0bd70cdfe420c363717cf85c6f84 & ftp.sra.ebi.ac.uk/vol1/err/ERR172/000/ERR1728880 & 88978649 & b5598b37ad5ce55fde5b02696e6c3313 & ERS1444621\\\\\n",
       "\t ERR1728881 & ftp.sra.ebi.ac.uk/vol1/fastq/ERR172/001/ERR1728881/ERR1728881.fastq.gz & 87880314 & 9c7ae3c7941005dd46d9deab522a2ead & ftp.sra.ebi.ac.uk/vol1/run/ERR172/ERR1728881/713B069-11-0-0\\_14s007604-1-1\\_lane5.screened.adapter.screened.hg19.single.fq.gz & 82694653 & 5289d8ea19d5e1d00c197cf2e7d82e69 & ftp.sra.ebi.ac.uk/vol1/err/ERR172/001/ERR1728881 & 95261746 & 97d9af7c8bb58c056e28b644ce5b45ab & ERS1444621\\\\\n",
       "\\end{tabular}\n"
      ],
      "text/markdown": [
       "\n",
       "A data.frame: 8 × 11\n",
       "\n",
       "| run_accession &lt;chr&gt; | fastq_ftp &lt;chr&gt; | fastq_bytes &lt;chr&gt; | fastq_md5 &lt;chr&gt; | submitted_ftp &lt;chr&gt; | submitted_bytes &lt;chr&gt; | submitted_md5 &lt;chr&gt; | sra_ftp &lt;chr&gt; | sra_bytes &lt;int&gt; | sra_md5 &lt;chr&gt; | Sample_accession &lt;chr&gt; |\n",
       "|---|---|---|---|---|---|---|---|---|---|---|\n",
       "| ERR1727756 | ftp.sra.ebi.ac.uk/vol1/fastq/ERR172/006/ERR1727756/ERR1727756_1.fastq.gz;ftp.sra.ebi.ac.uk/vol1/fastq/ERR172/006/ERR1727756/ERR1727756_2.fastq.gz | 661441404;659997128 | eb62183690330fc99ce7dee618646fa5;60e1791e2d3cc1cbdbd56a78edf71eff | ftp.sra.ebi.ac.uk/vol1/run/ERR172/ERR1727756/713B069-11-0-0_14s007604-1-1_lane5.screened.adapter.screened.hg19.pair.1.fq.gz;ftp.sra.ebi.ac.uk/vol1/run/ERR172/ERR1727756/713B069-11-0-0_14s007604-1-1_lane5.screened.adapter.screened.hg19.pair.2.fq.gz | 615362637;614138393 | 811db7be9cef02c4bf549da4ab88337c;59a2654877884b65d4e59f3d74a1513e | ftp.sra.ebi.ac.uk/vol1/err/ERR172/006/ERR1727756 | 1201551285 | 231e59eec577bb3355645d7f37c6ca0d | ERS1444621 |\n",
       "| ERR1727757 | ftp.sra.ebi.ac.uk/vol1/fastq/ERR172/007/ERR1727757/ERR1727757_1.fastq.gz;ftp.sra.ebi.ac.uk/vol1/fastq/ERR172/007/ERR1727757/ERR1727757_2.fastq.gz | 621189240;618922836 | b6614ba5a9029f20ce9f487d30d2b4ab;6c6db3c06ec93df31e5cca541622e1da | ftp.sra.ebi.ac.uk/vol1/run/ERR172/ERR1727757/713B069-11-0-0_14s007604-4-1_lane8.screened.adapter.screened.hg19.pair.1.fq.gz;ftp.sra.ebi.ac.uk/vol1/run/ERR172/ERR1727757/713B069-11-0-0_14s007604-4-1_lane8.screened.adapter.screened.hg19.pair.2.fq.gz | 577856647;575761646 | 7f0a00e47f2dc27b4f9ed5adfa54164d;e40c98c1f2f227362619cc7c9fa21189 | ftp.sra.ebi.ac.uk/vol1/err/ERR172/007/ERR1727757 | 1127804249 | 8bfc1a6df4ac451d0ea1d95e0f5a3f42 | ERS1444621 |\n",
       "| ⋮ | ⋮ | ⋮ | ⋮ | ⋮ | ⋮ | ⋮ | ⋮ | ⋮ | ⋮ | ⋮ |\n",
       "| ERR1728880 | ftp.sra.ebi.ac.uk/vol1/fastq/ERR172/000/ERR1728880/ERR1728880.fastq.gz | 82093036 | 2a3f10852bd3ea1166cae92f830167a4 | ftp.sra.ebi.ac.uk/vol1/run/ERR172/ERR1728880/713B069-11-0-0_14s007604-4-1_lane8.screened.adapter.screened.hg19.single.fq.gz | 77251804 | 54af0bd70cdfe420c363717cf85c6f84 | ftp.sra.ebi.ac.uk/vol1/err/ERR172/000/ERR1728880 | 88978649 | b5598b37ad5ce55fde5b02696e6c3313 | ERS1444621 |\n",
       "| ERR1728881 | ftp.sra.ebi.ac.uk/vol1/fastq/ERR172/001/ERR1728881/ERR1728881.fastq.gz | 87880314 | 9c7ae3c7941005dd46d9deab522a2ead | ftp.sra.ebi.ac.uk/vol1/run/ERR172/ERR1728881/713B069-11-0-0_14s007604-1-1_lane5.screened.adapter.screened.hg19.single.fq.gz | 82694653 | 5289d8ea19d5e1d00c197cf2e7d82e69 | ftp.sra.ebi.ac.uk/vol1/err/ERR172/001/ERR1728881 | 95261746 | 97d9af7c8bb58c056e28b644ce5b45ab | ERS1444621 |\n",
       "\n"
      ],
      "text/plain": [
       "  run_accession\n",
       "1 ERR1727756   \n",
       "2 ERR1727757   \n",
       "⋮ ⋮            \n",
       "7 ERR1728880   \n",
       "8 ERR1728881   \n",
       "  fastq_ftp                                                                                                                                        \n",
       "1 ftp.sra.ebi.ac.uk/vol1/fastq/ERR172/006/ERR1727756/ERR1727756_1.fastq.gz;ftp.sra.ebi.ac.uk/vol1/fastq/ERR172/006/ERR1727756/ERR1727756_2.fastq.gz\n",
       "2 ftp.sra.ebi.ac.uk/vol1/fastq/ERR172/007/ERR1727757/ERR1727757_1.fastq.gz;ftp.sra.ebi.ac.uk/vol1/fastq/ERR172/007/ERR1727757/ERR1727757_2.fastq.gz\n",
       "⋮ ⋮                                                                                                                                                \n",
       "7 ftp.sra.ebi.ac.uk/vol1/fastq/ERR172/000/ERR1728880/ERR1728880.fastq.gz                                                                           \n",
       "8 ftp.sra.ebi.ac.uk/vol1/fastq/ERR172/001/ERR1728881/ERR1728881.fastq.gz                                                                           \n",
       "  fastq_bytes        \n",
       "1 661441404;659997128\n",
       "2 621189240;618922836\n",
       "⋮ ⋮                  \n",
       "7 82093036           \n",
       "8 87880314           \n",
       "  fastq_md5                                                        \n",
       "1 eb62183690330fc99ce7dee618646fa5;60e1791e2d3cc1cbdbd56a78edf71eff\n",
       "2 b6614ba5a9029f20ce9f487d30d2b4ab;6c6db3c06ec93df31e5cca541622e1da\n",
       "⋮ ⋮                                                                \n",
       "7 2a3f10852bd3ea1166cae92f830167a4                                 \n",
       "8 9c7ae3c7941005dd46d9deab522a2ead                                 \n",
       "  submitted_ftp                                                                                                                                                                                                                                          \n",
       "1 ftp.sra.ebi.ac.uk/vol1/run/ERR172/ERR1727756/713B069-11-0-0_14s007604-1-1_lane5.screened.adapter.screened.hg19.pair.1.fq.gz;ftp.sra.ebi.ac.uk/vol1/run/ERR172/ERR1727756/713B069-11-0-0_14s007604-1-1_lane5.screened.adapter.screened.hg19.pair.2.fq.gz\n",
       "2 ftp.sra.ebi.ac.uk/vol1/run/ERR172/ERR1727757/713B069-11-0-0_14s007604-4-1_lane8.screened.adapter.screened.hg19.pair.1.fq.gz;ftp.sra.ebi.ac.uk/vol1/run/ERR172/ERR1727757/713B069-11-0-0_14s007604-4-1_lane8.screened.adapter.screened.hg19.pair.2.fq.gz\n",
       "⋮ ⋮                                                                                                                                                                                                                                                      \n",
       "7 ftp.sra.ebi.ac.uk/vol1/run/ERR172/ERR1728880/713B069-11-0-0_14s007604-4-1_lane8.screened.adapter.screened.hg19.single.fq.gz                                                                                                                            \n",
       "8 ftp.sra.ebi.ac.uk/vol1/run/ERR172/ERR1728881/713B069-11-0-0_14s007604-1-1_lane5.screened.adapter.screened.hg19.single.fq.gz                                                                                                                            \n",
       "  submitted_bytes    \n",
       "1 615362637;614138393\n",
       "2 577856647;575761646\n",
       "⋮ ⋮                  \n",
       "7 77251804           \n",
       "8 82694653           \n",
       "  submitted_md5                                                    \n",
       "1 811db7be9cef02c4bf549da4ab88337c;59a2654877884b65d4e59f3d74a1513e\n",
       "2 7f0a00e47f2dc27b4f9ed5adfa54164d;e40c98c1f2f227362619cc7c9fa21189\n",
       "⋮ ⋮                                                                \n",
       "7 54af0bd70cdfe420c363717cf85c6f84                                 \n",
       "8 5289d8ea19d5e1d00c197cf2e7d82e69                                 \n",
       "  sra_ftp                                          sra_bytes \n",
       "1 ftp.sra.ebi.ac.uk/vol1/err/ERR172/006/ERR1727756 1201551285\n",
       "2 ftp.sra.ebi.ac.uk/vol1/err/ERR172/007/ERR1727757 1127804249\n",
       "⋮ ⋮                                                ⋮         \n",
       "7 ftp.sra.ebi.ac.uk/vol1/err/ERR172/000/ERR1728880 88978649  \n",
       "8 ftp.sra.ebi.ac.uk/vol1/err/ERR172/001/ERR1728881 95261746  \n",
       "  sra_md5                          Sample_accession\n",
       "1 231e59eec577bb3355645d7f37c6ca0d ERS1444621      \n",
       "2 8bfc1a6df4ac451d0ea1d95e0f5a3f42 ERS1444621      \n",
       "⋮ ⋮                                ⋮               \n",
       "7 b5598b37ad5ce55fde5b02696e6c3313 ERS1444621      \n",
       "8 97d9af7c8bb58c056e28b644ce5b45ab ERS1444621      "
      ]
     },
     "metadata": {},
     "output_type": "display_data"
    }
   ],
   "source": [
    "# via ENA REST API\n",
    "get_ENA_info = function(sample_accession){\n",
    "    #cmd = paste0('wget -qO- \\'http://www.ebi.ac.uk/ena/data/warehouse/filereport?accession=',\n",
    "    #             sample_accession, '&result=read_run\\'')\n",
    "    cmd = paste0('wget -qO- \\'http://www.ebi.ac.uk/ena/portal/api/filereport?accession=',\n",
    "                 sample_accession, '&result=read_run\\'')\n",
    "    ret = bash_job(cmd, return_output=TRUE, print_output=FALSE)\n",
    "    ret = read.csv(text=ret, sep='\\t')\n",
    "    ret$Sample_accession = sample_accession\n",
    "    return(ret)\n",
    "}\n",
    "df = get_ENA_info('ERS1444621')\n",
    "df"
   ]
  },
  {
   "cell_type": "code",
   "execution_count": 21,
   "metadata": {
    "ExecuteTime": {
     "end_time": "2022-04-30T12:19:19.176618Z",
     "start_time": "2022-04-30T12:17:40.814Z"
    },
    "scrolled": true
   },
   "outputs": [
    {
     "name": "stderr",
     "output_type": "stream",
     "text": [
      "Starting 4 cores ...\n",
      "\n",
      "Running 300 calculations (0 objs/0 Mb common; 1 calls/chunk) ...\n",
      "\n",
      "\n",
      "[----------------------------------------------------]   0% (4/4 wrk) eta:  6m\n",
      "\n",
      "[----------------------------------------------------]   1% (4/4 wrk) eta:  3m\n",
      "\n",
      "[>---------------------------------------------------]   1% (4/4 wrk) eta:  2m\n",
      "\n",
      "[>---------------------------------------------------]   2% (4/4 wrk) eta:  2m\n",
      "\n",
      "[>---------------------------------------------------]   3% (4/4 wrk) eta:  2m\n",
      "\n",
      "[=>--------------------------------------------------]   3% (4/4 wrk) eta:  2m\n",
      "\n",
      "[=>--------------------------------------------------]   4% (4/4 wrk) eta:  2m\n",
      "\n",
      "[=>--------------------------------------------------]   5% (4/4 wrk) eta:  2m\n",
      "\n",
      "[==>-------------------------------------------------]   5% (4/4 wrk) eta:  2m\n",
      "\n",
      "[==>-------------------------------------------------]   6% (4/4 wrk) eta:  2m\n",
      "\n",
      "[==>-------------------------------------------------]   7% (4/4 wrk) eta:  2m\n",
      "\n",
      "[===>------------------------------------------------]   7% (4/4 wrk) eta:  2m\n",
      "\n",
      "[===>------------------------------------------------]   8% (4/4 wrk) eta:  2m\n",
      "\n",
      "[====>-----------------------------------------------]   9% (4/4 wrk) eta:  2m\n",
      "\n",
      "[====>-----------------------------------------------]  10% (4/4 wrk) eta:  2m\n",
      "\n",
      "[====>-----------------------------------------------]  10% (4/4 wrk) eta:  1m\n",
      "\n",
      "[=====>----------------------------------------------]  11% (4/4 wrk) eta:  1m\n",
      "\n",
      "[=====>----------------------------------------------]  12% (4/4 wrk) eta:  1m\n",
      "\n",
      "[======>---------------------------------------------]  13% (4/4 wrk) eta:  1m\n",
      "\n",
      "[======>---------------------------------------------]  14% (4/4 wrk) eta:  1m\n",
      "\n",
      "[=======>--------------------------------------------]  15% (4/4 wrk) eta:  1m\n",
      "\n",
      "[=======>--------------------------------------------]  16% (4/4 wrk) eta:  1m\n",
      "\n",
      "[========>-------------------------------------------]  17% (4/4 wrk) eta:  1m\n",
      "\n",
      "[========>-------------------------------------------]  18% (4/4 wrk) eta:  1m\n",
      "\n",
      "[=========>------------------------------------------]  18% (4/4 wrk) eta:  1m\n",
      "\n",
      "[=========>------------------------------------------]  19% (4/4 wrk) eta:  1m\n",
      "\n",
      "[=========>------------------------------------------]  20% (4/4 wrk) eta:  1m\n",
      "\n",
      "[==========>-----------------------------------------]  20% (4/4 wrk) eta:  1m\n",
      "\n",
      "[==========>-----------------------------------------]  21% (4/4 wrk) eta:  1m\n",
      "\n",
      "[==========>-----------------------------------------]  22% (4/4 wrk) eta:  1m\n",
      "\n",
      "[===========>----------------------------------------]  22% (4/4 wrk) eta:  1m\n",
      "\n",
      "[===========>----------------------------------------]  23% (4/4 wrk) eta:  1m\n",
      "\n",
      "[===========>----------------------------------------]  24% (4/4 wrk) eta:  1m\n",
      "\n",
      "[============>---------------------------------------]  24% (4/4 wrk) eta:  1m\n",
      "\n",
      "[============>---------------------------------------]  25% (4/4 wrk) eta:  1m\n",
      "\n",
      "[============>---------------------------------------]  26% (4/4 wrk) eta:  1m\n",
      "\n",
      "[=============>--------------------------------------]  26% (4/4 wrk) eta:  1m\n",
      "\n",
      "[=============>--------------------------------------]  27% (4/4 wrk) eta:  1m\n",
      "\n",
      "[=============>--------------------------------------]  28% (4/4 wrk) eta:  1m\n",
      "\n",
      "[==============>-------------------------------------]  28% (4/4 wrk) eta:  1m\n",
      "\n",
      "[==============>-------------------------------------]  29% (4/4 wrk) eta:  1m\n",
      "\n",
      "[==============>-------------------------------------]  30% (4/4 wrk) eta:  1m\n",
      "\n",
      "[===============>------------------------------------]  30% (4/4 wrk) eta:  1m\n",
      "\n",
      "[===============>------------------------------------]  31% (4/4 wrk) eta:  1m\n",
      "\n",
      "[===============>------------------------------------]  32% (4/4 wrk) eta:  1m\n",
      "\n",
      "[================>-----------------------------------]  32% (4/4 wrk) eta:  1m\n",
      "\n",
      "[================>-----------------------------------]  33% (4/4 wrk) eta:  1m\n",
      "\n",
      "[=================>----------------------------------]  34% (4/4 wrk) eta:  1m\n",
      "\n",
      "[=================>----------------------------------]  35% (4/4 wrk) eta:  1m\n",
      "\n",
      "[==================>---------------------------------]  36% (4/4 wrk) eta:  1m\n",
      "\n",
      "[==================>---------------------------------]  37% (4/4 wrk) eta:  1m\n",
      "\n",
      "[===================>--------------------------------]  38% (4/4 wrk) eta:  1m\n",
      "\n",
      "[===================>--------------------------------]  39% (4/4 wrk) eta:  1m\n",
      "\n",
      "[====================>-------------------------------]  40% (4/4 wrk) eta:  1m\n",
      "\n",
      "[====================>-------------------------------]  41% (4/4 wrk) eta:  1m\n",
      "\n",
      "[=====================>------------------------------]  42% (4/4 wrk) eta:  1m\n",
      "\n",
      "[=====================>------------------------------]  43% (4/4 wrk) eta:  1m\n",
      "\n",
      "[======================>-----------------------------]  43% (4/4 wrk) eta:  1m\n",
      "\n",
      "[======================>-----------------------------]  44% (4/4 wrk) eta:  1m\n",
      "\n",
      "[======================>-----------------------------]  45% (4/4 wrk) eta:  1m\n",
      "\n",
      "[=======================>----------------------------]  45% (4/4 wrk) eta:  1m\n",
      "\n",
      "[=======================>----------------------------]  46% (4/4 wrk) eta:  1m\n",
      "\n",
      "[=======================>----------------------------]  47% (4/4 wrk) eta:  1m\n",
      "\n",
      "[=======================>----------------------------]  47% (4/4 wrk) eta: 50s\n",
      "\n",
      "[========================>---------------------------]  47% (4/4 wrk) eta: 49s\n",
      "\n",
      "[========================>---------------------------]  48% (4/4 wrk) eta: 49s\n",
      "\n",
      "[========================>---------------------------]  49% (4/4 wrk) eta: 48s\n",
      "\n",
      "[=========================>--------------------------]  49% (4/4 wrk) eta: 47s\n",
      "\n",
      "[=========================>--------------------------]  50% (4/4 wrk) eta: 48s\n",
      "\n",
      "[=========================>--------------------------]  50% (4/4 wrk) eta: 47s\n",
      "\n",
      "[=========================>--------------------------]  51% (4/4 wrk) eta: 46s\n",
      "\n",
      "[==========================>-------------------------]  51% (4/4 wrk) eta: 46s\n",
      "\n",
      "[==========================>-------------------------]  52% (4/4 wrk) eta: 45s\n",
      "\n",
      "[==========================>-------------------------]  53% (4/4 wrk) eta: 44s\n",
      "\n",
      "[===========================>------------------------]  53% (4/4 wrk) eta: 44s\n",
      "\n",
      "[===========================>------------------------]  54% (4/4 wrk) eta: 43s\n",
      "\n",
      "[===========================>------------------------]  55% (4/4 wrk) eta: 42s\n",
      "\n",
      "[============================>-----------------------]  55% (4/4 wrk) eta: 42s\n",
      "\n",
      "[============================>-----------------------]  56% (4/4 wrk) eta: 42s\n",
      "\n",
      "[============================>-----------------------]  56% (4/4 wrk) eta: 41s\n",
      "\n",
      "[============================>-----------------------]  57% (4/4 wrk) eta: 41s\n",
      "\n",
      "[=============================>----------------------]  57% (4/4 wrk) eta: 40s\n",
      "\n",
      "[=============================>----------------------]  58% (4/4 wrk) eta: 40s\n",
      "\n",
      "[=============================>----------------------]  58% (4/4 wrk) eta: 39s\n",
      "\n",
      "[==============================>---------------------]  59% (4/4 wrk) eta: 39s\n",
      "\n",
      "[==============================>---------------------]  59% (4/4 wrk) eta: 38s\n",
      "\n",
      "[==============================>---------------------]  60% (4/4 wrk) eta: 38s\n",
      "\n",
      "[==============================>---------------------]  60% (4/4 wrk) eta: 37s\n",
      "\n",
      "[===============================>--------------------]  61% (4/4 wrk) eta: 37s\n",
      "\n",
      "[===============================>--------------------]  61% (4/4 wrk) eta: 36s\n",
      "\n",
      "[===============================>--------------------]  62% (4/4 wrk) eta: 36s\n",
      "\n",
      "[===============================>--------------------]  62% (4/4 wrk) eta: 35s\n",
      "\n",
      "[================================>-------------------]  63% (4/4 wrk) eta: 35s\n",
      "\n",
      "[================================>-------------------]  63% (4/4 wrk) eta: 34s\n",
      "\n",
      "[================================>-------------------]  64% (4/4 wrk) eta: 34s\n",
      "\n",
      "[================================>-------------------]  64% (4/4 wrk) eta: 33s\n",
      "\n",
      "[=================================>------------------]  65% (4/4 wrk) eta: 33s\n",
      "\n",
      "[=================================>------------------]  65% (4/4 wrk) eta: 32s\n",
      "\n",
      "[=================================>------------------]  66% (4/4 wrk) eta: 32s\n",
      "\n",
      "[==================================>-----------------]  67% (4/4 wrk) eta: 31s\n",
      "\n",
      "[==================================>-----------------]  68% (4/4 wrk) eta: 30s\n",
      "\n",
      "[===================================>----------------]  68% (4/4 wrk) eta: 30s\n"
     ]
    },
    {
     "name": "stderr",
     "output_type": "stream",
     "text": [
      "\n",
      "[===================================>----------------]  69% (4/4 wrk) eta: 29s\n",
      "\n",
      "[===================================>----------------]  70% (4/4 wrk) eta: 28s\n",
      "\n",
      "[====================================>---------------]  70% (4/4 wrk) eta: 28s\n",
      "\n",
      "[====================================>---------------]  71% (4/4 wrk) eta: 28s\n",
      "\n",
      "[====================================>---------------]  71% (4/4 wrk) eta: 27s\n",
      "\n",
      "[====================================>---------------]  72% (4/4 wrk) eta: 27s\n",
      "\n",
      "[====================================>---------------]  72% (4/4 wrk) eta: 26s\n",
      "\n",
      "[=====================================>--------------]  72% (4/4 wrk) eta: 26s\n",
      "\n",
      "[=====================================>--------------]  73% (4/4 wrk) eta: 26s\n",
      "\n",
      "[=====================================>--------------]  73% (4/4 wrk) eta: 25s\n",
      "\n",
      "[=====================================>--------------]  74% (4/4 wrk) eta: 25s\n",
      "\n",
      "[=====================================>--------------]  74% (4/4 wrk) eta: 24s\n",
      "\n",
      "[======================================>-------------]  74% (4/4 wrk) eta: 24s\n",
      "\n",
      "[======================================>-------------]  75% (4/4 wrk) eta: 24s\n",
      "\n",
      "[======================================>-------------]  75% (4/4 wrk) eta: 23s\n",
      "\n",
      "[======================================>-------------]  76% (4/4 wrk) eta: 23s\n",
      "\n",
      "[=======================================>------------]  76% (4/4 wrk) eta: 23s\n",
      "\n",
      "[=======================================>------------]  76% (4/4 wrk) eta: 22s\n",
      "\n",
      "[=======================================>------------]  77% (4/4 wrk) eta: 22s\n",
      "\n",
      "[=======================================>------------]  77% (4/4 wrk) eta: 21s\n",
      "\n",
      "[=======================================>------------]  78% (4/4 wrk) eta: 21s\n",
      "\n",
      "[========================================>-----------]  78% (4/4 wrk) eta: 21s\n",
      "\n",
      "[========================================>-----------]  79% (4/4 wrk) eta: 20s\n",
      "\n",
      "[========================================>-----------]  80% (4/4 wrk) eta: 19s\n",
      "\n",
      "[=========================================>----------]  80% (4/4 wrk) eta: 19s\n",
      "\n",
      "[=========================================>----------]  81% (4/4 wrk) eta: 18s\n",
      "\n",
      "[=========================================>----------]  82% (4/4 wrk) eta: 17s\n",
      "\n",
      "[==========================================>---------]  82% (4/4 wrk) eta: 17s\n",
      "\n",
      "[==========================================>---------]  83% (4/4 wrk) eta: 16s\n",
      "\n",
      "[===========================================>--------]  84% (4/4 wrk) eta: 15s\n",
      "\n",
      "[===========================================>--------]  85% (4/4 wrk) eta: 15s\n",
      "\n",
      "[===========================================>--------]  85% (4/4 wrk) eta: 14s\n",
      "\n",
      "[============================================>-------]  86% (4/4 wrk) eta: 14s\n",
      "\n",
      "[============================================>-------]  86% (4/4 wrk) eta: 13s\n",
      "\n",
      "[============================================>-------]  87% (4/4 wrk) eta: 13s\n",
      "\n",
      "[============================================>-------]  87% (4/4 wrk) eta: 12s\n",
      "\n",
      "[=============================================>------]  88% (4/4 wrk) eta: 12s\n",
      "\n",
      "[=============================================>------]  88% (4/4 wrk) eta: 11s\n",
      "\n",
      "[=============================================>------]  89% (4/4 wrk) eta: 11s\n",
      "\n",
      "[=============================================>------]  89% (4/4 wrk) eta: 10s\n",
      "\n",
      "[==============================================>-----]  90% (4/4 wrk) eta: 10s\n",
      "\n",
      "[==============================================>-----]  90% (4/4 wrk) eta:  9s\n",
      "\n",
      "[==============================================>-----]  91% (4/4 wrk) eta:  9s\n",
      "\n",
      "[==============================================>-----]  91% (4/4 wrk) eta:  8s\n",
      "\n",
      "[===============================================>----]  92% (4/4 wrk) eta:  8s\n",
      "\n",
      "[===============================================>----]  92% (4/4 wrk) eta:  7s\n",
      "\n",
      "[===============================================>----]  93% (4/4 wrk) eta:  7s\n",
      "\n",
      "[================================================>---]  93% (4/4 wrk) eta:  6s\n",
      "\n",
      "[================================================>---]  94% (4/4 wrk) eta:  6s\n",
      "\n",
      "[================================================>---]  94% (4/4 wrk) eta:  5s\n",
      "\n",
      "[================================================>---]  95% (4/4 wrk) eta:  5s\n",
      "\n",
      "[=================================================>--]  95% (4/4 wrk) eta:  4s\n",
      "\n",
      "[=================================================>--]  96% (4/4 wrk) eta:  4s\n",
      "\n",
      "[=================================================>--]  96% (4/4 wrk) eta:  3s\n",
      "\n",
      "[=================================================>--]  97% (4/4 wrk) eta:  3s\n",
      "\n",
      "[==================================================>-]  97% (4/4 wrk) eta:  3s\n",
      "\n",
      "[==================================================>-]  98% (4/4 wrk) eta:  2s\n",
      "\n",
      "[==================================================>-]  99% (4/4 wrk) eta:  1s\n",
      "\n",
      "[===================================================>]  99% (4/4 wrk) eta:  1s\n",
      "\n",
      "[===================================================>] 100% (3/3 wrk) eta:  0s\n",
      "\n",
      "[====================================================] 100% (1/1 wrk) eta:  0s\n",
      "                                                                              \n",
      "\n",
      "Master: [95.3s 2.6% CPU]; Worker: [avg 2.9% CPU, max 684.2 Mb]\n",
      "\n"
     ]
    },
    {
     "data": {
      "text/html": [
       "<table class=\"dataframe\">\n",
       "<caption>A tidytable: 911 × 3</caption>\n",
       "<thead>\n",
       "\t<tr><th scope=col>run_accession</th><th scope=col>Sample_accession</th><th scope=col>fastq_ftp</th></tr>\n",
       "\t<tr><th scope=col>&lt;chr&gt;</th><th scope=col>&lt;chr&gt;</th><th scope=col>&lt;chr&gt;</th></tr>\n",
       "</thead>\n",
       "<tbody>\n",
       "\t<tr><td>ERR525694</td><td>ERS473029</td><td>ftp.sra.ebi.ac.uk/vol1/fastq/ERR525/ERR525694/ERR525694_1.fastq.gz;ftp.sra.ebi.ac.uk/vol1/fastq/ERR525/ERR525694/ERR525694_2.fastq.gz</td></tr>\n",
       "\t<tr><td>ERR525727</td><td>ERS473062</td><td>ftp.sra.ebi.ac.uk/vol1/fastq/ERR525/ERR525727/ERR525727_1.fastq.gz;ftp.sra.ebi.ac.uk/vol1/fastq/ERR525/ERR525727/ERR525727_2.fastq.gz</td></tr>\n",
       "\t<tr><td>⋮</td><td>⋮</td><td>⋮</td></tr>\n",
       "\t<tr><td>ERR480934</td><td>ERS436820</td><td>ftp.sra.ebi.ac.uk/vol1/fastq/ERR480/ERR480934/ERR480934.fastq.gz</td></tr>\n",
       "\t<tr><td>ERR480935</td><td>ERS436820</td><td>ftp.sra.ebi.ac.uk/vol1/fastq/ERR480/ERR480935/ERR480935.fastq.gz</td></tr>\n",
       "</tbody>\n",
       "</table>\n"
      ],
      "text/latex": [
       "A tidytable: 911 × 3\n",
       "\\begin{tabular}{lll}\n",
       " run\\_accession & Sample\\_accession & fastq\\_ftp\\\\\n",
       " <chr> & <chr> & <chr>\\\\\n",
       "\\hline\n",
       "\t ERR525694 & ERS473029 & ftp.sra.ebi.ac.uk/vol1/fastq/ERR525/ERR525694/ERR525694\\_1.fastq.gz;ftp.sra.ebi.ac.uk/vol1/fastq/ERR525/ERR525694/ERR525694\\_2.fastq.gz\\\\\n",
       "\t ERR525727 & ERS473062 & ftp.sra.ebi.ac.uk/vol1/fastq/ERR525/ERR525727/ERR525727\\_1.fastq.gz;ftp.sra.ebi.ac.uk/vol1/fastq/ERR525/ERR525727/ERR525727\\_2.fastq.gz\\\\\n",
       "\t ⋮ & ⋮ & ⋮\\\\\n",
       "\t ERR480934 & ERS436820 & ftp.sra.ebi.ac.uk/vol1/fastq/ERR480/ERR480934/ERR480934.fastq.gz\\\\\n",
       "\t ERR480935 & ERS436820 & ftp.sra.ebi.ac.uk/vol1/fastq/ERR480/ERR480935/ERR480935.fastq.gz\\\\\n",
       "\\end{tabular}\n"
      ],
      "text/markdown": [
       "\n",
       "A tidytable: 911 × 3\n",
       "\n",
       "| run_accession &lt;chr&gt; | Sample_accession &lt;chr&gt; | fastq_ftp &lt;chr&gt; |\n",
       "|---|---|---|\n",
       "| ERR525694 | ERS473029 | ftp.sra.ebi.ac.uk/vol1/fastq/ERR525/ERR525694/ERR525694_1.fastq.gz;ftp.sra.ebi.ac.uk/vol1/fastq/ERR525/ERR525694/ERR525694_2.fastq.gz |\n",
       "| ERR525727 | ERS473062 | ftp.sra.ebi.ac.uk/vol1/fastq/ERR525/ERR525727/ERR525727_1.fastq.gz;ftp.sra.ebi.ac.uk/vol1/fastq/ERR525/ERR525727/ERR525727_2.fastq.gz |\n",
       "| ⋮ | ⋮ | ⋮ |\n",
       "| ERR480934 | ERS436820 | ftp.sra.ebi.ac.uk/vol1/fastq/ERR480/ERR480934/ERR480934.fastq.gz |\n",
       "| ERR480935 | ERS436820 | ftp.sra.ebi.ac.uk/vol1/fastq/ERR480/ERR480935/ERR480935.fastq.gz |\n",
       "\n"
      ],
      "text/plain": [
       "    run_accession Sample_accession\n",
       "1   ERR525694     ERS473029       \n",
       "2   ERR525727     ERS473062       \n",
       "⋮   ⋮             ⋮               \n",
       "910 ERR480934     ERS436820       \n",
       "911 ERR480935     ERS436820       \n",
       "    fastq_ftp                                                                                                                            \n",
       "1   ftp.sra.ebi.ac.uk/vol1/fastq/ERR525/ERR525694/ERR525694_1.fastq.gz;ftp.sra.ebi.ac.uk/vol1/fastq/ERR525/ERR525694/ERR525694_2.fastq.gz\n",
       "2   ftp.sra.ebi.ac.uk/vol1/fastq/ERR525/ERR525727/ERR525727_1.fastq.gz;ftp.sra.ebi.ac.uk/vol1/fastq/ERR525/ERR525727/ERR525727_2.fastq.gz\n",
       "⋮   ⋮                                                                                                                                    \n",
       "910 ftp.sra.ebi.ac.uk/vol1/fastq/ERR480/ERR480934/ERR480934.fastq.gz                                                                     \n",
       "911 ftp.sra.ebi.ac.uk/vol1/fastq/ERR480/ERR480935/ERR480935.fastq.gz                                                                     "
      ]
     },
     "metadata": {},
     "output_type": "display_data"
    }
   ],
   "source": [
    "# getting accession info\n",
    "## WARNING: a bit slow\n",
    "acc = uhgg_meta_ff %>%\n",
    "    distinct.(Sample_accession) %>%\n",
    "    .$Sample_accession %>%\n",
    "    Q(get_ENA_info, ., n_jobs=threads) %>%\n",
    "    do.call(rbind, .) %>%\n",
    "    distinct.(run_accession, Sample_accession, fastq_ftp)\n",
    "acc"
   ]
  },
  {
   "cell_type": "code",
   "execution_count": 22,
   "metadata": {
    "ExecuteTime": {
     "end_time": "2022-04-30T12:19:19.368239Z",
     "start_time": "2022-04-30T12:17:58.415Z"
    }
   },
   "outputs": [
    {
     "data": {
      "text/plain": [
       ".\n",
       "  1   2   3 \n",
       "155 654   8 "
      ]
     },
     "metadata": {},
     "output_type": "display_data"
    }
   ],
   "source": [
    "# how many have paired-end reads?\n",
    "acc = acc %>%\n",
    "    mutate.(n_read_files = stringr::str_count(fastq_ftp, ';') + 1) \n",
    "acc$n_read_files %>% table"
   ]
  },
  {
   "cell_type": "code",
   "execution_count": 23,
   "metadata": {
    "ExecuteTime": {
     "end_time": "2022-04-30T12:19:19.608333Z",
     "start_time": "2022-04-30T12:18:06.011Z"
    }
   },
   "outputs": [
    {
     "name": "stdout",
     "output_type": "stream",
     "text": [
      "No. of unique Samples: 289 \n",
      "No. of unique Studies: 50 \n"
     ]
    },
    {
     "data": {
      "text/html": [
       "<table class=\"dataframe\">\n",
       "<caption>A tidytable: 21768 × 6</caption>\n",
       "<thead>\n",
       "\t<tr><th scope=col>Genome</th><th scope=col>FTP_download</th><th scope=col>Sample_accession</th><th scope=col>Study_accession</th><th scope=col>run_accession</th><th scope=col>n_read_files</th></tr>\n",
       "\t<tr><th scope=col>&lt;chr&gt;</th><th scope=col>&lt;chr&gt;</th><th scope=col>&lt;chr&gt;</th><th scope=col>&lt;chr&gt;</th><th scope=col>&lt;chr&gt;</th><th scope=col>&lt;dbl&gt;</th></tr>\n",
       "</thead>\n",
       "<tbody>\n",
       "\t<tr><td>GUT_GENOME002103</td><td>ftp://ftp.ebi.ac.uk/pub/databases/metagenomics/mgnify_genomes/human-gut/v1.0/all_genomes/MGYG-HGUT-025/MGYG-HGUT-02507/genomes1/GUT_GENOME002103.gff.gz</td><td>ERS473029</td><td>ERP005989</td><td>ERR525694</td><td>2</td></tr>\n",
       "\t<tr><td>GUT_GENOME002104</td><td>ftp://ftp.ebi.ac.uk/pub/databases/metagenomics/mgnify_genomes/human-gut/v1.0/all_genomes/MGYG-HGUT-008/MGYG-HGUT-00839/genomes1/GUT_GENOME002104.gff.gz</td><td>ERS473029</td><td>ERP005989</td><td>ERR525694</td><td>2</td></tr>\n",
       "\t<tr><td>⋮</td><td>⋮</td><td>⋮</td><td>⋮</td><td>⋮</td><td>⋮</td></tr>\n",
       "\t<tr><td>GUT_GENOME285786</td><td>ftp://ftp.ebi.ac.uk/pub/databases/metagenomics/mgnify_genomes/human-gut/v1.0/all_genomes/MGYG-HGUT-013/MGYG-HGUT-01346/genomes3/GUT_GENOME285786.gff.gz</td><td>ERS436820</td><td>ERP005534</td><td>ERR479439</td><td>2</td></tr>\n",
       "\t<tr><td>GUT_GENOME285787</td><td>ftp://ftp.ebi.ac.uk/pub/databases/metagenomics/mgnify_genomes/human-gut/v1.0/all_genomes/MGYG-HGUT-001/MGYG-HGUT-00144/genomes3/GUT_GENOME285787.gff.gz</td><td>ERS436820</td><td>ERP005534</td><td>ERR479439</td><td>2</td></tr>\n",
       "</tbody>\n",
       "</table>\n"
      ],
      "text/latex": [
       "A tidytable: 21768 × 6\n",
       "\\begin{tabular}{llllll}\n",
       " Genome & FTP\\_download & Sample\\_accession & Study\\_accession & run\\_accession & n\\_read\\_files\\\\\n",
       " <chr> & <chr> & <chr> & <chr> & <chr> & <dbl>\\\\\n",
       "\\hline\n",
       "\t GUT\\_GENOME002103 & ftp://ftp.ebi.ac.uk/pub/databases/metagenomics/mgnify\\_genomes/human-gut/v1.0/all\\_genomes/MGYG-HGUT-025/MGYG-HGUT-02507/genomes1/GUT\\_GENOME002103.gff.gz & ERS473029 & ERP005989 & ERR525694 & 2\\\\\n",
       "\t GUT\\_GENOME002104 & ftp://ftp.ebi.ac.uk/pub/databases/metagenomics/mgnify\\_genomes/human-gut/v1.0/all\\_genomes/MGYG-HGUT-008/MGYG-HGUT-00839/genomes1/GUT\\_GENOME002104.gff.gz & ERS473029 & ERP005989 & ERR525694 & 2\\\\\n",
       "\t ⋮ & ⋮ & ⋮ & ⋮ & ⋮ & ⋮\\\\\n",
       "\t GUT\\_GENOME285786 & ftp://ftp.ebi.ac.uk/pub/databases/metagenomics/mgnify\\_genomes/human-gut/v1.0/all\\_genomes/MGYG-HGUT-013/MGYG-HGUT-01346/genomes3/GUT\\_GENOME285786.gff.gz & ERS436820 & ERP005534 & ERR479439 & 2\\\\\n",
       "\t GUT\\_GENOME285787 & ftp://ftp.ebi.ac.uk/pub/databases/metagenomics/mgnify\\_genomes/human-gut/v1.0/all\\_genomes/MGYG-HGUT-001/MGYG-HGUT-00144/genomes3/GUT\\_GENOME285787.gff.gz & ERS436820 & ERP005534 & ERR479439 & 2\\\\\n",
       "\\end{tabular}\n"
      ],
      "text/markdown": [
       "\n",
       "A tidytable: 21768 × 6\n",
       "\n",
       "| Genome &lt;chr&gt; | FTP_download &lt;chr&gt; | Sample_accession &lt;chr&gt; | Study_accession &lt;chr&gt; | run_accession &lt;chr&gt; | n_read_files &lt;dbl&gt; |\n",
       "|---|---|---|---|---|---|\n",
       "| GUT_GENOME002103 | ftp://ftp.ebi.ac.uk/pub/databases/metagenomics/mgnify_genomes/human-gut/v1.0/all_genomes/MGYG-HGUT-025/MGYG-HGUT-02507/genomes1/GUT_GENOME002103.gff.gz | ERS473029 | ERP005989 | ERR525694 | 2 |\n",
       "| GUT_GENOME002104 | ftp://ftp.ebi.ac.uk/pub/databases/metagenomics/mgnify_genomes/human-gut/v1.0/all_genomes/MGYG-HGUT-008/MGYG-HGUT-00839/genomes1/GUT_GENOME002104.gff.gz | ERS473029 | ERP005989 | ERR525694 | 2 |\n",
       "| ⋮ | ⋮ | ⋮ | ⋮ | ⋮ | ⋮ |\n",
       "| GUT_GENOME285786 | ftp://ftp.ebi.ac.uk/pub/databases/metagenomics/mgnify_genomes/human-gut/v1.0/all_genomes/MGYG-HGUT-013/MGYG-HGUT-01346/genomes3/GUT_GENOME285786.gff.gz | ERS436820 | ERP005534 | ERR479439 | 2 |\n",
       "| GUT_GENOME285787 | ftp://ftp.ebi.ac.uk/pub/databases/metagenomics/mgnify_genomes/human-gut/v1.0/all_genomes/MGYG-HGUT-001/MGYG-HGUT-00144/genomes3/GUT_GENOME285787.gff.gz | ERS436820 | ERP005534 | ERR479439 | 2 |\n",
       "\n"
      ],
      "text/plain": [
       "      Genome          \n",
       "1     GUT_GENOME002103\n",
       "2     GUT_GENOME002104\n",
       "⋮     ⋮               \n",
       "21767 GUT_GENOME285786\n",
       "21768 GUT_GENOME285787\n",
       "      FTP_download                                                                                                                                           \n",
       "1     ftp://ftp.ebi.ac.uk/pub/databases/metagenomics/mgnify_genomes/human-gut/v1.0/all_genomes/MGYG-HGUT-025/MGYG-HGUT-02507/genomes1/GUT_GENOME002103.gff.gz\n",
       "2     ftp://ftp.ebi.ac.uk/pub/databases/metagenomics/mgnify_genomes/human-gut/v1.0/all_genomes/MGYG-HGUT-008/MGYG-HGUT-00839/genomes1/GUT_GENOME002104.gff.gz\n",
       "⋮     ⋮                                                                                                                                                      \n",
       "21767 ftp://ftp.ebi.ac.uk/pub/databases/metagenomics/mgnify_genomes/human-gut/v1.0/all_genomes/MGYG-HGUT-013/MGYG-HGUT-01346/genomes3/GUT_GENOME285786.gff.gz\n",
       "21768 ftp://ftp.ebi.ac.uk/pub/databases/metagenomics/mgnify_genomes/human-gut/v1.0/all_genomes/MGYG-HGUT-001/MGYG-HGUT-00144/genomes3/GUT_GENOME285787.gff.gz\n",
       "      Sample_accession Study_accession run_accession n_read_files\n",
       "1     ERS473029        ERP005989       ERR525694     2           \n",
       "2     ERS473029        ERP005989       ERR525694     2           \n",
       "⋮     ⋮                ⋮               ⋮             ⋮           \n",
       "21767 ERS436820        ERP005534       ERR479439     2           \n",
       "21768 ERS436820        ERP005534       ERR479439     2           "
      ]
     },
     "metadata": {},
     "output_type": "display_data"
    }
   ],
   "source": [
    "# adding run accession info\n",
    "## filtering samples lacking read1-read2\n",
    "uhgg_meta_fj = uhgg_meta_f %>%\n",
    "    distinct.(Genome, FTP_download, Sample_accession, Study_accession) %>%\n",
    "    inner_join.(acc %>% filter(n_read_files == 2) %>% select.(-fastq_ftp),\n",
    "                c('Sample_accession'))\n",
    "\n",
    "uhgg_meta_fj$Sample_accession %>% unique_n('Samples')\n",
    "uhgg_meta_fj$Study_accession %>% unique_n('Studies')\n",
    "uhgg_meta_fj "
   ]
  },
  {
   "cell_type": "code",
   "execution_count": 24,
   "metadata": {
    "ExecuteTime": {
     "end_time": "2022-04-30T12:19:20.671608Z",
     "start_time": "2022-04-30T12:18:16.842Z"
    }
   },
   "outputs": [
    {
     "name": "stderr",
     "output_type": "stream",
     "text": [
      "Sending email to: nyoungblut@tuebingen.mpg.de\n",
      "\n"
     ]
    }
   ],
   "source": [
    "send_email('http://127.0.0.1:9704/notebooks/version2/deepmased/notebooks/06_version2/02_real_dataset_eval/01_UHGG/01b_genome_select_round2.ipynb')"
   ]
  },
  {
   "cell_type": "markdown",
   "metadata": {},
   "source": [
    "## Filtering"
   ]
  },
  {
   "cell_type": "code",
   "execution_count": 25,
   "metadata": {
    "ExecuteTime": {
     "end_time": "2022-04-30T12:19:20.721769Z",
     "start_time": "2022-04-30T12:18:42.061Z"
    }
   },
   "outputs": [
    {
     "name": "stdout",
     "output_type": "stream",
     "text": [
      "No. of unique Samples: 250 \n",
      "No. of unique Studies: 49 \n"
     ]
    }
   ],
   "source": [
    "# random \n",
    "n_samples = 250\n",
    "target_samps = uhgg_meta_fj %>%\n",
    "    distinct.(Sample_accession, Study_accession) %>%\n",
    "    mutate.(X = sample(1:length(Sample_accession), length(Sample_accession))) %>%\n",
    "    filter.(X <= n_samples)\n",
    "\n",
    "target_samps$Sample_accession %>% unique_n('Samples')\n",
    "target_samps$Study_accession %>% unique_n('Studies')"
   ]
  },
  {
   "cell_type": "code",
   "execution_count": 26,
   "metadata": {
    "ExecuteTime": {
     "end_time": "2022-04-30T12:19:20.821725Z",
     "start_time": "2022-04-30T12:18:46.289Z"
    }
   },
   "outputs": [
    {
     "name": "stdout",
     "output_type": "stream",
     "text": [
      "No. of unique Genomes: 7488 \n",
      "No. of unique Samples: 250 \n",
      "No. of unique Studies: 49 \n"
     ]
    },
    {
     "data": {
      "text/html": [
       "<table class=\"dataframe\">\n",
       "<caption>A tidytable: 17979 × 6</caption>\n",
       "<thead>\n",
       "\t<tr><th scope=col>Genome</th><th scope=col>FTP_download</th><th scope=col>Sample_accession</th><th scope=col>Study_accession</th><th scope=col>run_accession</th><th scope=col>n_read_files</th></tr>\n",
       "\t<tr><th scope=col>&lt;chr&gt;</th><th scope=col>&lt;chr&gt;</th><th scope=col>&lt;chr&gt;</th><th scope=col>&lt;chr&gt;</th><th scope=col>&lt;chr&gt;</th><th scope=col>&lt;dbl&gt;</th></tr>\n",
       "</thead>\n",
       "<tbody>\n",
       "\t<tr><td>GUT_GENOME002103</td><td>ftp://ftp.ebi.ac.uk/pub/databases/metagenomics/mgnify_genomes/human-gut/v1.0/all_genomes/MGYG-HGUT-025/MGYG-HGUT-02507/genomes1/GUT_GENOME002103.gff.gz</td><td>ERS473029</td><td>ERP005989</td><td>ERR525694</td><td>2</td></tr>\n",
       "\t<tr><td>GUT_GENOME002104</td><td>ftp://ftp.ebi.ac.uk/pub/databases/metagenomics/mgnify_genomes/human-gut/v1.0/all_genomes/MGYG-HGUT-008/MGYG-HGUT-00839/genomes1/GUT_GENOME002104.gff.gz</td><td>ERS473029</td><td>ERP005989</td><td>ERR525694</td><td>2</td></tr>\n",
       "\t<tr><td>⋮</td><td>⋮</td><td>⋮</td><td>⋮</td><td>⋮</td><td>⋮</td></tr>\n",
       "\t<tr><td>GUT_GENOME285786</td><td>ftp://ftp.ebi.ac.uk/pub/databases/metagenomics/mgnify_genomes/human-gut/v1.0/all_genomes/MGYG-HGUT-013/MGYG-HGUT-01346/genomes3/GUT_GENOME285786.gff.gz</td><td>ERS436820</td><td>ERP005534</td><td>ERR479439</td><td>2</td></tr>\n",
       "\t<tr><td>GUT_GENOME285787</td><td>ftp://ftp.ebi.ac.uk/pub/databases/metagenomics/mgnify_genomes/human-gut/v1.0/all_genomes/MGYG-HGUT-001/MGYG-HGUT-00144/genomes3/GUT_GENOME285787.gff.gz</td><td>ERS436820</td><td>ERP005534</td><td>ERR479439</td><td>2</td></tr>\n",
       "</tbody>\n",
       "</table>\n"
      ],
      "text/latex": [
       "A tidytable: 17979 × 6\n",
       "\\begin{tabular}{llllll}\n",
       " Genome & FTP\\_download & Sample\\_accession & Study\\_accession & run\\_accession & n\\_read\\_files\\\\\n",
       " <chr> & <chr> & <chr> & <chr> & <chr> & <dbl>\\\\\n",
       "\\hline\n",
       "\t GUT\\_GENOME002103 & ftp://ftp.ebi.ac.uk/pub/databases/metagenomics/mgnify\\_genomes/human-gut/v1.0/all\\_genomes/MGYG-HGUT-025/MGYG-HGUT-02507/genomes1/GUT\\_GENOME002103.gff.gz & ERS473029 & ERP005989 & ERR525694 & 2\\\\\n",
       "\t GUT\\_GENOME002104 & ftp://ftp.ebi.ac.uk/pub/databases/metagenomics/mgnify\\_genomes/human-gut/v1.0/all\\_genomes/MGYG-HGUT-008/MGYG-HGUT-00839/genomes1/GUT\\_GENOME002104.gff.gz & ERS473029 & ERP005989 & ERR525694 & 2\\\\\n",
       "\t ⋮ & ⋮ & ⋮ & ⋮ & ⋮ & ⋮\\\\\n",
       "\t GUT\\_GENOME285786 & ftp://ftp.ebi.ac.uk/pub/databases/metagenomics/mgnify\\_genomes/human-gut/v1.0/all\\_genomes/MGYG-HGUT-013/MGYG-HGUT-01346/genomes3/GUT\\_GENOME285786.gff.gz & ERS436820 & ERP005534 & ERR479439 & 2\\\\\n",
       "\t GUT\\_GENOME285787 & ftp://ftp.ebi.ac.uk/pub/databases/metagenomics/mgnify\\_genomes/human-gut/v1.0/all\\_genomes/MGYG-HGUT-001/MGYG-HGUT-00144/genomes3/GUT\\_GENOME285787.gff.gz & ERS436820 & ERP005534 & ERR479439 & 2\\\\\n",
       "\\end{tabular}\n"
      ],
      "text/markdown": [
       "\n",
       "A tidytable: 17979 × 6\n",
       "\n",
       "| Genome &lt;chr&gt; | FTP_download &lt;chr&gt; | Sample_accession &lt;chr&gt; | Study_accession &lt;chr&gt; | run_accession &lt;chr&gt; | n_read_files &lt;dbl&gt; |\n",
       "|---|---|---|---|---|---|\n",
       "| GUT_GENOME002103 | ftp://ftp.ebi.ac.uk/pub/databases/metagenomics/mgnify_genomes/human-gut/v1.0/all_genomes/MGYG-HGUT-025/MGYG-HGUT-02507/genomes1/GUT_GENOME002103.gff.gz | ERS473029 | ERP005989 | ERR525694 | 2 |\n",
       "| GUT_GENOME002104 | ftp://ftp.ebi.ac.uk/pub/databases/metagenomics/mgnify_genomes/human-gut/v1.0/all_genomes/MGYG-HGUT-008/MGYG-HGUT-00839/genomes1/GUT_GENOME002104.gff.gz | ERS473029 | ERP005989 | ERR525694 | 2 |\n",
       "| ⋮ | ⋮ | ⋮ | ⋮ | ⋮ | ⋮ |\n",
       "| GUT_GENOME285786 | ftp://ftp.ebi.ac.uk/pub/databases/metagenomics/mgnify_genomes/human-gut/v1.0/all_genomes/MGYG-HGUT-013/MGYG-HGUT-01346/genomes3/GUT_GENOME285786.gff.gz | ERS436820 | ERP005534 | ERR479439 | 2 |\n",
       "| GUT_GENOME285787 | ftp://ftp.ebi.ac.uk/pub/databases/metagenomics/mgnify_genomes/human-gut/v1.0/all_genomes/MGYG-HGUT-001/MGYG-HGUT-00144/genomes3/GUT_GENOME285787.gff.gz | ERS436820 | ERP005534 | ERR479439 | 2 |\n",
       "\n"
      ],
      "text/plain": [
       "      Genome          \n",
       "1     GUT_GENOME002103\n",
       "2     GUT_GENOME002104\n",
       "⋮     ⋮               \n",
       "17978 GUT_GENOME285786\n",
       "17979 GUT_GENOME285787\n",
       "      FTP_download                                                                                                                                           \n",
       "1     ftp://ftp.ebi.ac.uk/pub/databases/metagenomics/mgnify_genomes/human-gut/v1.0/all_genomes/MGYG-HGUT-025/MGYG-HGUT-02507/genomes1/GUT_GENOME002103.gff.gz\n",
       "2     ftp://ftp.ebi.ac.uk/pub/databases/metagenomics/mgnify_genomes/human-gut/v1.0/all_genomes/MGYG-HGUT-008/MGYG-HGUT-00839/genomes1/GUT_GENOME002104.gff.gz\n",
       "⋮     ⋮                                                                                                                                                      \n",
       "17978 ftp://ftp.ebi.ac.uk/pub/databases/metagenomics/mgnify_genomes/human-gut/v1.0/all_genomes/MGYG-HGUT-013/MGYG-HGUT-01346/genomes3/GUT_GENOME285786.gff.gz\n",
       "17979 ftp://ftp.ebi.ac.uk/pub/databases/metagenomics/mgnify_genomes/human-gut/v1.0/all_genomes/MGYG-HGUT-001/MGYG-HGUT-00144/genomes3/GUT_GENOME285787.gff.gz\n",
       "      Sample_accession Study_accession run_accession n_read_files\n",
       "1     ERS473029        ERP005989       ERR525694     2           \n",
       "2     ERS473029        ERP005989       ERR525694     2           \n",
       "⋮     ⋮                ⋮               ⋮             ⋮           \n",
       "17978 ERS436820        ERP005534       ERR479439     2           \n",
       "17979 ERS436820        ERP005534       ERR479439     2           "
      ]
     },
     "metadata": {},
     "output_type": "display_data"
    }
   ],
   "source": [
    "# filtering\n",
    "uhgg_meta_fj = uhgg_meta_fj %>%\n",
    "    semi_join.(target_samps, c('Sample_accession'))\n",
    "\n",
    "uhgg_meta_fj$Genome %>% unique_n('Genomes')\n",
    "uhgg_meta_fj$Sample_accession %>% unique_n('Samples')\n",
    "uhgg_meta_fj$Study_accession %>% unique_n('Studies')\n",
    "uhgg_meta_fj"
   ]
  },
  {
   "cell_type": "markdown",
   "metadata": {},
   "source": [
    "## LLMGQC for metagenomes\n",
    "\n",
    "* Download & QC for all associated metagenomes"
   ]
  },
  {
   "cell_type": "code",
   "execution_count": 27,
   "metadata": {
    "ExecuteTime": {
     "end_time": "2022-04-30T12:19:20.892092Z",
     "start_time": "2022-04-30T12:18:56.012Z"
    }
   },
   "outputs": [
    {
     "name": "stdout",
     "output_type": "stream",
     "text": [
      "No. of unique sample accessions: 250 \n",
      "No. of unique run accessions: 549 \n"
     ]
    },
    {
     "data": {
      "text/html": [
       "<table class=\"dataframe\">\n",
       "<caption>A matrix: 1 × 8 of type dbl</caption>\n",
       "<thead>\n",
       "\t<tr><th></th><th scope=col>Min.</th><th scope=col>1st Qu.</th><th scope=col>Median</th><th scope=col>Mean</th><th scope=col>3rd Qu.</th><th scope=col>Max.</th><th scope=col>sd</th><th scope=col>sd_err_of_mean</th></tr>\n",
       "</thead>\n",
       "<tbody>\n",
       "\t<tr><th scope=row>No. of lanes</th><td>1</td><td>1</td><td>2</td><td>4.73224</td><td>6</td><td>29</td><td>5.708</td><td>2.33</td></tr>\n",
       "</tbody>\n",
       "</table>\n"
      ],
      "text/latex": [
       "A matrix: 1 × 8 of type dbl\n",
       "\\begin{tabular}{r|llllllll}\n",
       "  & Min. & 1st Qu. & Median & Mean & 3rd Qu. & Max. & sd & sd\\_err\\_of\\_mean\\\\\n",
       "\\hline\n",
       "\tNo. of lanes & 1 & 1 & 2 & 4.73224 & 6 & 29 & 5.708 & 2.33\\\\\n",
       "\\end{tabular}\n"
      ],
      "text/markdown": [
       "\n",
       "A matrix: 1 × 8 of type dbl\n",
       "\n",
       "| <!--/--> | Min. | 1st Qu. | Median | Mean | 3rd Qu. | Max. | sd | sd_err_of_mean |\n",
       "|---|---|---|---|---|---|---|---|---|\n",
       "| No. of lanes | 1 | 1 | 2 | 4.73224 | 6 | 29 | 5.708 | 2.33 |\n",
       "\n"
      ],
      "text/plain": [
       "             Min. 1st Qu. Median Mean    3rd Qu. Max. sd    sd_err_of_mean\n",
       "No. of lanes 1    1       2      4.73224 6       29   5.708 2.33          "
      ]
     },
     "metadata": {},
     "output_type": "display_data"
    },
    {
     "data": {
      "text/html": [
       "<table class=\"dataframe\">\n",
       "<caption>A tidytable: 549 × 4</caption>\n",
       "<thead>\n",
       "\t<tr><th scope=col>Sample</th><th scope=col>Remote</th><th scope=col>Run</th><th scope=col>Lane</th></tr>\n",
       "\t<tr><th scope=col>&lt;chr&gt;</th><th scope=col>&lt;chr&gt;</th><th scope=col>&lt;dbl&gt;</th><th scope=col>&lt;int&gt;</th></tr>\n",
       "</thead>\n",
       "<tbody>\n",
       "\t<tr><td>ERS473029</td><td>ERR525694</td><td>1</td><td>1</td></tr>\n",
       "\t<tr><td>ERS473062</td><td>ERR525727</td><td>1</td><td>1</td></tr>\n",
       "\t<tr><td>⋮</td><td>⋮</td><td>⋮</td><td>⋮</td></tr>\n",
       "\t<tr><td>ERS436820</td><td>ERR479438</td><td>1</td><td>3</td></tr>\n",
       "\t<tr><td>ERS436820</td><td>ERR479439</td><td>1</td><td>4</td></tr>\n",
       "</tbody>\n",
       "</table>\n"
      ],
      "text/latex": [
       "A tidytable: 549 × 4\n",
       "\\begin{tabular}{llll}\n",
       " Sample & Remote & Run & Lane\\\\\n",
       " <chr> & <chr> & <dbl> & <int>\\\\\n",
       "\\hline\n",
       "\t ERS473029 & ERR525694 & 1 & 1\\\\\n",
       "\t ERS473062 & ERR525727 & 1 & 1\\\\\n",
       "\t ⋮ & ⋮ & ⋮ & ⋮\\\\\n",
       "\t ERS436820 & ERR479438 & 1 & 3\\\\\n",
       "\t ERS436820 & ERR479439 & 1 & 4\\\\\n",
       "\\end{tabular}\n"
      ],
      "text/markdown": [
       "\n",
       "A tidytable: 549 × 4\n",
       "\n",
       "| Sample &lt;chr&gt; | Remote &lt;chr&gt; | Run &lt;dbl&gt; | Lane &lt;int&gt; |\n",
       "|---|---|---|---|\n",
       "| ERS473029 | ERR525694 | 1 | 1 |\n",
       "| ERS473062 | ERR525727 | 1 | 1 |\n",
       "| ⋮ | ⋮ | ⋮ | ⋮ |\n",
       "| ERS436820 | ERR479438 | 1 | 3 |\n",
       "| ERS436820 | ERR479439 | 1 | 4 |\n",
       "\n"
      ],
      "text/plain": [
       "    Sample    Remote    Run Lane\n",
       "1   ERS473029 ERR525694 1   1   \n",
       "2   ERS473062 ERR525727 1   1   \n",
       "⋮   ⋮         ⋮         ⋮   ⋮   \n",
       "548 ERS436820 ERR479438 1   3   \n",
       "549 ERS436820 ERR479439 1   4   "
      ]
     },
     "metadata": {},
     "output_type": "display_data"
    }
   ],
   "source": [
    "# formatting\n",
    "samps = uhgg_meta_fj %>%\n",
    "    distinct.(Sample_accession, run_accession) %>%\n",
    "    mutate.(Run = 1) %>%\n",
    "    mutate.(Lane = 1:length(run_accession),\n",
    "            .by=c(Sample_accession)) %>%\n",
    "    rename.('Sample' = Sample_accession,\n",
    "            'Remote' = run_accession)\n",
    "samps %>% unique_n('sample accessions', Sample)\n",
    "samps %>% unique_n('run accessions', Remote)\n",
    "samps$Lane %>% summary_x('No. of lanes')\n",
    "samps"
   ]
  },
  {
   "cell_type": "code",
   "execution_count": 28,
   "metadata": {
    "ExecuteTime": {
     "end_time": "2022-04-30T12:19:28.938381Z",
     "start_time": "2022-04-30T12:19:26.518Z"
    }
   },
   "outputs": [
    {
     "name": "stdout",
     "output_type": "stream",
     "text": [
      "Created directory: /ebio/abt3_projects/databases_no-backup/DeepMAsED/version2/real_data_eval/UHGG//LLMGQC_r100-rep2 \n",
      "File written: /ebio/abt3_projects/databases_no-backup/DeepMAsED/version2/real_data_eval/UHGG//LLMGQC_r100-rep2/samples.tsv \n"
     ]
    }
   ],
   "source": [
    "base_dir = file.path(work_dir, 'LLMGQC_r100-rep2')\n",
    "make_dir(base_dir)\n",
    "F = file.path(base_dir, 'samples.tsv')\n",
    "samps %>% write_table(F)"
   ]
  },
  {
   "cell_type": "markdown",
   "metadata": {},
   "source": [
    "### Config"
   ]
  },
  {
   "cell_type": "code",
   "execution_count": 30,
   "metadata": {
    "ExecuteTime": {
     "end_time": "2022-04-30T12:22:18.812329Z",
     "start_time": "2022-04-30T12:22:16.364Z"
    }
   },
   "outputs": [
    {
     "name": "stdout",
     "output_type": "stream",
     "text": [
      "#-- I/O --#\n",
      "# table with sample --> read_file information\n",
      "samples_file: /ebio/abt3_projects/databases_no-backup/DeepMAsED/version2/real_data_eval/UHGG/LLMGQC_r100-rep2/samples.tsv\n",
      "\n",
      "# output location\n",
      "output_dir: /ebio/abt3_projects/databases_no-backup/DeepMAsED/version2/real_data_eval/UHGG/LLMGQC_r100-rep2/\n",
      "\n",
      "# temporary file directory (your username will be added automatically)\n",
      "tmp_dir: /ebio/abt3_scratch/\n",
      "\n",
      "# ionice for reducing I/O load (use \"-c 2\" for noraml I/O usage) \n",
      "ionice: -c 3 \n",
      "\n",
      "#-- Software parameters --#\n",
      "# See the README for info on all major parameters\n",
      "# Use \"Skip\" to skip any of these steps. If no params for rule, use: \"\"\n",
      "params:\n",
      "  just_read1: False\n",
      "  download:\n",
      "    dump: --dump-method fasterq-dump --use-prefetch --bufsize 50M\n",
      "  initial_checks:\n",
      "    validate_reads: \"\"\n",
      "    convert_fastq_to_1.8: \"\"\n",
      "  subsample:\n",
      "    num_reads: Skip\n",
      "  raw:\n",
      "    seqkit: \"\"\n",
      "    fastqc: \"\"\n",
      "  deduplication:\n",
      "    clumpify: Skip #dedupe=t dupedist=40 optical=t spany=t adjacent=t\n",
      "    seqkit: \"\"\n",
      "    fastqc: \"\"\n",
      "  quality:      \n",
      "    bbduk: ref=./adapters/bbmap_adapters.fa fastawrap=300 k=23 qin=33\n",
      "    skewer: -x ./adapters/PE_all.fa -n -l 80 -q 25\n",
      "    seqkit: \"\"\n",
      "    fastqc: \"\"\n",
      "  filter:       \n",
      "    bbmap: minratio=0.9 maxindel=1 bwr=0.16 bw=12 fast minhits=2 qtrim=r trimq=10 untrim\n",
      "           idtag printunmappedcount kfilter=25 maxsites=1 k=14 pairlen=1000 rescuedist=1000\n",
      "    ikraken2: Skip #--confidence 0.7\n",
      "    seqkit: \"\"\n",
      "    fastqc: \"\"\n",
      "  final:\n",
      "    seqkit: \"\"\n",
      "    fastqc: \"\"\n",
      "  coverage:\n",
      "    nonpareil: -T kmer\n",
      "    nonpareil_summary: 1e9      \n",
      "  skip_all:\n",
      "    seqkit: False\n",
      "    fastqc: False\n",
      "    QC: False\n",
      "\n",
      "#-- Databases --#\n",
      "databases:\n",
      "  ## hg19 = human genome database for filtering out human reads\n",
      "  bbmap: /ebio/abt3_projects/databases_no-backup/Homo_sapiens/hg19/hg19\n",
      "  # ikraken2 (iterative kraken2-based read filtering)\n",
      "  ikraken2:  \n",
      "    animal_genomes: /ebio/abt3_projects/databases_no-backup/kraken2/animal_gut_microbiome_200908_db/kraken2/\n",
      "    vertebrate_all_nt: /ebio/abt3_projects/databases_no-backup/kraken2/vertebrata-all_nt_db/\n",
      "    plant: /ebio/abt3_projects/databases_no-backup/kraken2/plant_db/\n",
      "    fungi:  /ebio/abt3_projects/databases_no-backup/kraken2/fungi_db/\n",
      "    protozoa: /ebio/abt3_projects/databases_no-backup/kraken2/protozoa_db/\n",
      "    human: /ebio/abt3_projects/databases_no-backup/kraken2/human_db/\n",
      "    univec: /ebio/abt3_projects/databases_no-backup/kraken2/UniVec_Core_db/\n",
      "\n",
      "#-- Snakemake pipeline --#\n",
      "pipeline:\n",
      "  snakemake_folder: ./\n",
      "  script_folder: ./bin/scripts/\n",
      "  run_skip_locally: True        # trivial \"skip\" steps run locally (not qsub)\n",
      "  export_conda: True\n",
      "  name: LLMGQC"
     ]
    }
   ],
   "source": [
    "F = file.path(base_dir, 'config.yaml')\n",
    "cat_file(F)"
   ]
  },
  {
   "cell_type": "markdown",
   "metadata": {},
   "source": [
    "### Run"
   ]
  },
  {
   "cell_type": "markdown",
   "metadata": {},
   "source": [
    "```\n",
    "(snakemake) rick: /tmp/global2/nyoungblut/code/dev/ll_pipelines/llmgqc\n",
    "$ screen -L -S llmgqc-uhgg ./snakemake_sge.sh /ebio/abt3_projects/databases_no-backup/DeepMAsED/version2/real_data_eval/UHGG/LLMGQC_r100-rep2/config.yaml 40 -F\n",
    "```"
   ]
  },
  {
   "cell_type": "markdown",
   "metadata": {},
   "source": [
    "# --WAITING--"
   ]
  },
  {
   "cell_type": "markdown",
   "metadata": {},
   "source": [
    "### Summary"
   ]
  },
  {
   "cell_type": "code",
   "execution_count": null,
   "metadata": {},
   "outputs": [],
   "source": [
    "F = file.path(base_dir, 'reports', 'final', 'multiqc', 'fastqc.tsv')\n",
    "fastqc = Fread(F) %>%\n",
    "    mutate.(Sample = gsub(' \\\\|.+', '', Sample),\n",
    "            Read = gsub('_.+', '', Filename),\n",
    "            min_seq_len = gsub('-.+', '', Sequence.length) %>% as.numeric,\n",
    "            max_seq_len = gsub('.+-', '', Sequence.length) %>% as.numeric) %>%\n",
    "    filter.(Read == 'R1') %>%\n",
    "    select.(Sample, Read, Total.Sequences, min_seq_len, max_seq_len, total_deduplicated_percentage)\n",
    "fastqc"
   ]
  },
  {
   "cell_type": "code",
   "execution_count": null,
   "metadata": {},
   "outputs": [],
   "source": [
    "fastqc$Total.Sequences %>% summary_x('total seqs')\n",
    "fastqc$min_seq_len %>% summary_x('min seq length')\n",
    "fastqc$max_seq_len %>% summary_x('max seq length')\n",
    "fastqc$total_deduplicated_percentage %>% summary_x('total % dups')"
   ]
  },
  {
   "cell_type": "code",
   "execution_count": null,
   "metadata": {},
   "outputs": [],
   "source": [
    "# filtering samples with low numbers of reads\n",
    "fastqc_f = fastqc %>%\n",
    "    filter.(Total.Sequences >= 1e6,\n",
    "            Total.Sequences < 5e7,\n",
    "            max_seq_len <= 150,\n",
    "            total_deduplicated_percentage < 90)\n",
    "fastqc_f"
   ]
  },
  {
   "cell_type": "code",
   "execution_count": null,
   "metadata": {},
   "outputs": [],
   "source": [
    "fastqc_f$Total.Sequences %>% summary_x('total seqs')\n",
    "fastqc_f$min_seq_len %>% summary_x('min seq length')\n",
    "fastqc_f$max_seq_len %>% summary_x('max seq length')\n",
    "fastqc_f$total_deduplicated_percentage %>% summary_x('total % dups')"
   ]
  },
  {
   "cell_type": "markdown",
   "metadata": {},
   "source": [
    " # sessionInfo"
   ]
  },
  {
   "cell_type": "code",
   "execution_count": null,
   "metadata": {},
   "outputs": [],
   "source": [
    "sessionInfo()"
   ]
  }
 ],
 "metadata": {
  "kernelspec": {
   "display_name": "R [conda env:general-tidyverse]",
   "language": "R",
   "name": "conda-env-general-tidyverse-r"
  },
  "language_info": {
   "codemirror_mode": "r",
   "file_extension": ".r",
   "mimetype": "text/x-r-source",
   "name": "R",
   "pygments_lexer": "r",
   "version": "4.1.1"
  },
  "notify_time": "30",
  "toc": {
   "base_numbering": 1,
   "nav_menu": {},
   "number_sections": true,
   "sideBar": true,
   "skip_h1_title": false,
   "title_cell": "Table of Contents",
   "title_sidebar": "Contents",
   "toc_cell": true,
   "toc_position": {},
   "toc_section_display": true,
   "toc_window_display": true
  }
 },
 "nbformat": 4,
 "nbformat_minor": 4
}
