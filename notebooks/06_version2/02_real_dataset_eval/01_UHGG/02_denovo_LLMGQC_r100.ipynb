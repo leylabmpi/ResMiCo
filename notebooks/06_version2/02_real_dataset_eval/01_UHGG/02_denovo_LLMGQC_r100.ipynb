{
 "cells": [
  {
   "cell_type": "markdown",
   "metadata": {
    "toc": true
   },
   "source": [
    "<h1>Table of Contents<span class=\"tocSkip\"></span></h1>\n",
    "<div class=\"toc\"><ul class=\"toc-item\"><li><span><a href=\"#Goal\" data-toc-modified-id=\"Goal-1\"><span class=\"toc-item-num\">1&nbsp;&nbsp;</span>Goal</a></span></li><li><span><a href=\"#Var\" data-toc-modified-id=\"Var-2\"><span class=\"toc-item-num\">2&nbsp;&nbsp;</span>Var</a></span></li><li><span><a href=\"#Init\" data-toc-modified-id=\"Init-3\"><span class=\"toc-item-num\">3&nbsp;&nbsp;</span>Init</a></span></li><li><span><a href=\"#Load\" data-toc-modified-id=\"Load-4\"><span class=\"toc-item-num\">4&nbsp;&nbsp;</span>Load</a></span></li><li><span><a href=\"#LLMGA:-denovo\" data-toc-modified-id=\"LLMGA:-denovo-5\"><span class=\"toc-item-num\">5&nbsp;&nbsp;</span>LLMGA: denovo</a></span><ul class=\"toc-item\"><li><ul class=\"toc-item\"><li><span><a href=\"#Selecting-samples\" data-toc-modified-id=\"Selecting-samples-5.0.1\"><span class=\"toc-item-num\">5.0.1&nbsp;&nbsp;</span>Selecting samples</a></span></li><li><span><a href=\"#Config\" data-toc-modified-id=\"Config-5.0.2\"><span class=\"toc-item-num\">5.0.2&nbsp;&nbsp;</span>Config</a></span></li><li><span><a href=\"#Run\" data-toc-modified-id=\"Run-5.0.3\"><span class=\"toc-item-num\">5.0.3&nbsp;&nbsp;</span>Run</a></span></li></ul></li><li><span><a href=\"#Summary\" data-toc-modified-id=\"Summary-5.1\"><span class=\"toc-item-num\">5.1&nbsp;&nbsp;</span>Summary</a></span></li></ul></li><li><span><a href=\"#ResMiCo-SM\" data-toc-modified-id=\"ResMiCo-SM-6\"><span class=\"toc-item-num\">6&nbsp;&nbsp;</span>ResMiCo-SM</a></span><ul class=\"toc-item\"><li><ul class=\"toc-item\"><li><span><a href=\"#Samples-table\" data-toc-modified-id=\"Samples-table-6.0.1\"><span class=\"toc-item-num\">6.0.1&nbsp;&nbsp;</span>Samples table</a></span></li><li><span><a href=\"#Config\" data-toc-modified-id=\"Config-6.0.2\"><span class=\"toc-item-num\">6.0.2&nbsp;&nbsp;</span>Config</a></span></li><li><span><a href=\"#Run\" data-toc-modified-id=\"Run-6.0.3\"><span class=\"toc-item-num\">6.0.3&nbsp;&nbsp;</span>Run</a></span></li></ul></li></ul></li><li><span><a href=\"#LLMGA:-binning\" data-toc-modified-id=\"LLMGA:-binning-7\"><span class=\"toc-item-num\">7&nbsp;&nbsp;</span>LLMGA: binning</a></span><ul class=\"toc-item\"><li><ul class=\"toc-item\"><li><span><a href=\"#Contig\" data-toc-modified-id=\"Contig-7.0.1\"><span class=\"toc-item-num\">7.0.1&nbsp;&nbsp;</span>Contig</a></span></li><li><span><a href=\"#Run\" data-toc-modified-id=\"Run-7.0.2\"><span class=\"toc-item-num\">7.0.2&nbsp;&nbsp;</span>Run</a></span></li></ul></li><li><span><a href=\"#Summary\" data-toc-modified-id=\"Summary-7.1\"><span class=\"toc-item-num\">7.1&nbsp;&nbsp;</span>Summary</a></span><ul class=\"toc-item\"><li><ul class=\"toc-item\"><li><span><a href=\"#Writing\" data-toc-modified-id=\"Writing-7.1.0.1\"><span class=\"toc-item-num\">7.1.0.1&nbsp;&nbsp;</span>Writing</a></span></li></ul></li></ul></li><li><span><a href=\"#LLG\" data-toc-modified-id=\"LLG-7.2\"><span class=\"toc-item-num\">7.2&nbsp;&nbsp;</span>LLG</a></span><ul class=\"toc-item\"><li><span><a href=\"#Config\" data-toc-modified-id=\"Config-7.2.1\"><span class=\"toc-item-num\">7.2.1&nbsp;&nbsp;</span>Config</a></span></li><li><span><a href=\"#Run\" data-toc-modified-id=\"Run-7.2.2\"><span class=\"toc-item-num\">7.2.2&nbsp;&nbsp;</span>Run</a></span></li></ul></li><li><span><a href=\"#dRep\" data-toc-modified-id=\"dRep-7.3\"><span class=\"toc-item-num\">7.3&nbsp;&nbsp;</span>dRep</a></span></li><li><span><a href=\"#ResMiCo-SM\" data-toc-modified-id=\"ResMiCo-SM-7.4\"><span class=\"toc-item-num\">7.4&nbsp;&nbsp;</span>ResMiCo-SM</a></span><ul class=\"toc-item\"><li><span><a href=\"#Samples-table\" data-toc-modified-id=\"Samples-table-7.4.1\"><span class=\"toc-item-num\">7.4.1&nbsp;&nbsp;</span>Samples table</a></span></li><li><span><a href=\"#Config\" data-toc-modified-id=\"Config-7.4.2\"><span class=\"toc-item-num\">7.4.2&nbsp;&nbsp;</span>Config</a></span></li><li><span><a href=\"#Run\" data-toc-modified-id=\"Run-7.4.3\"><span class=\"toc-item-num\">7.4.3&nbsp;&nbsp;</span>Run</a></span></li></ul></li></ul></li><li><span><a href=\"#sessionInfo\" data-toc-modified-id=\"sessionInfo-8\"><span class=\"toc-item-num\">8&nbsp;&nbsp;</span>sessionInfo</a></span></li></ul></div>"
   ]
  },
  {
   "cell_type": "markdown",
   "metadata": {},
   "source": [
    "# Goal\n",
    "\n",
    "* assemble contigs from the UHGG, in order to make sure that the contigs original from the correct metagenomes"
   ]
  },
  {
   "cell_type": "markdown",
   "metadata": {},
   "source": [
    "# Var"
   ]
  },
  {
   "cell_type": "code",
   "execution_count": 77,
   "metadata": {
    "ExecuteTime": {
     "end_time": "2022-04-30T12:23:30.865798Z",
     "start_time": "2022-04-30T12:23:25.484Z"
    }
   },
   "outputs": [],
   "source": [
    "work_dir = '/ebio/abt3_projects/databases_no-backup/DeepMAsED/version2/real_data_eval/UHGG/LLMGQC_r100/LLMGA/'\n",
    "\n",
    "# UHGG metadata\n",
    "uhgg_meta_file = '/ebio/abt3_projects/databases_no-backup/UHGG/2019_09/genomes_metadata.tsv'\n",
    "\n",
    "# LLMGQC_r100\n",
    "read_file = '/ebio/abt3_projects/databases_no-backup/DeepMAsED/version2/real_data_eval/UHGG/LLMGQC_r100/final/samples.txt'\n",
    "stats_file = '/ebio/abt3_projects/databases_no-backup/DeepMAsED/version2/real_data_eval/UHGG/LLMGQC_r100/reports/final/seqkit_stats.tsv'\n",
    "\n",
    "# params\n",
    "threads = 4"
   ]
  },
  {
   "cell_type": "markdown",
   "metadata": {},
   "source": [
    "# Init"
   ]
  },
  {
   "cell_type": "code",
   "execution_count": 4,
   "metadata": {
    "ExecuteTime": {
     "end_time": "2022-02-06T14:10:18.045811Z",
     "start_time": "2022-02-06T14:10:17.959Z"
    }
   },
   "outputs": [],
   "source": [
    "library(dplyr)\n",
    "library(tidyr)\n",
    "library(ggplot2)\n",
    "library(data.table)\n",
    "library(tidytable)\n",
    "library(LeyLabRMisc)\n",
    "Init()"
   ]
  },
  {
   "cell_type": "code",
   "execution_count": 2,
   "metadata": {
    "ExecuteTime": {
     "end_time": "2022-02-06T14:10:16.374214Z",
     "start_time": "2022-02-06T14:10:15.604Z"
    }
   },
   "outputs": [],
   "source": [
    "set.seed(231)"
   ]
  },
  {
   "cell_type": "markdown",
   "metadata": {},
   "source": [
    "# Load"
   ]
  },
  {
   "cell_type": "code",
   "execution_count": 7,
   "metadata": {
    "ExecuteTime": {
     "end_time": "2022-02-06T14:10:26.396205Z",
     "start_time": "2022-02-06T14:10:23.547Z"
    }
   },
   "outputs": [
    {
     "data": {
      "text/html": [
       "<table class=\"dataframe\">\n",
       "<caption>A data.table: 286997 × 25</caption>\n",
       "<thead>\n",
       "\t<tr><th scope=col>Genome</th><th scope=col>Original_name</th><th scope=col>Study_set</th><th scope=col>Genome_type</th><th scope=col>Length</th><th scope=col>N_contigs</th><th scope=col>N50</th><th scope=col>GC_content</th><th scope=col>Completeness</th><th scope=col>Contamination</th><th scope=col>⋯</th><th scope=col>tRNAs</th><th scope=col>Genome_accession</th><th scope=col>Species_rep</th><th scope=col>MGnify_accession</th><th scope=col>Lineage</th><th scope=col>Sample_accession</th><th scope=col>Study_accession</th><th scope=col>Country</th><th scope=col>Continent</th><th scope=col>FTP_download</th></tr>\n",
       "\t<tr><th scope=col>&lt;chr&gt;</th><th scope=col>&lt;chr&gt;</th><th scope=col>&lt;chr&gt;</th><th scope=col>&lt;chr&gt;</th><th scope=col>&lt;int&gt;</th><th scope=col>&lt;int&gt;</th><th scope=col>&lt;int&gt;</th><th scope=col>&lt;dbl&gt;</th><th scope=col>&lt;dbl&gt;</th><th scope=col>&lt;dbl&gt;</th><th scope=col>⋯</th><th scope=col>&lt;int&gt;</th><th scope=col>&lt;chr&gt;</th><th scope=col>&lt;chr&gt;</th><th scope=col>&lt;chr&gt;</th><th scope=col>&lt;chr&gt;</th><th scope=col>&lt;chr&gt;</th><th scope=col>&lt;chr&gt;</th><th scope=col>&lt;chr&gt;</th><th scope=col>&lt;chr&gt;</th><th scope=col>&lt;chr&gt;</th></tr>\n",
       "</thead>\n",
       "<tbody>\n",
       "\t<tr><td>GUT_GENOME000001</td><td>11861_6_55</td><td>HBC</td><td>Isolate</td><td>3221441</td><td>137</td><td>47272</td><td>28.26</td><td>98.59</td><td>0.70</td><td>⋯</td><td>20</td><td>NA</td><td>GUT_GENOME000001</td><td>MGYG-HGUT-00001</td><td>d__Bacteria;p__Firmicutes_A;c__Clostridia;o__Peptostreptococcales;f__Peptostreptococcaceae;g__GCA-900066495;s__        </td><td>ERS370061</td><td>ERP105624</td><td>United Kingdom</td><td>Europe</td><td>ftp://ftp.ebi.ac.uk/pub/databases/metagenomics/mgnify_genomes/human-gut/v1.0/all_genomes/MGYG-HGUT-000/MGYG-HGUT-00001/genomes1/GUT_GENOME000001.gff.gz</td></tr>\n",
       "\t<tr><td>GUT_GENOME000002</td><td>11861_6_56</td><td>HBC</td><td>Isolate</td><td>3296933</td><td> 82</td><td>96092</td><td>38.19</td><td>99.33</td><td>1.34</td><td>⋯</td><td>20</td><td>NA</td><td>GUT_GENOME001689</td><td>MGYG-HGUT-00262</td><td>d__Bacteria;p__Firmicutes_A;c__Clostridia;o__Lachnospirales;f__Lachnospiraceae;g__Eubacterium_E;s__Eubacterium_E hallii</td><td>ERS370062</td><td>ERP105624</td><td>United Kingdom</td><td>Europe</td><td>ftp://ftp.ebi.ac.uk/pub/databases/metagenomics/mgnify_genomes/human-gut/v1.0/all_genomes/MGYG-HGUT-002/MGYG-HGUT-00262/genomes1/GUT_GENOME000002.gff.gz</td></tr>\n",
       "\t<tr><td>⋮</td><td>⋮</td><td>⋮</td><td>⋮</td><td>⋮</td><td>⋮</td><td>⋮</td><td>⋮</td><td>⋮</td><td>⋮</td><td>⋱</td><td>⋮</td><td>⋮</td><td>⋮</td><td>⋮</td><td>⋮</td><td>⋮</td><td>⋮</td><td>⋮</td><td>⋮</td><td>⋮</td></tr>\n",
       "\t<tr><td>GUT_GENOME286996</td><td>ZellerG_2014__MMPU99077057ST__bin.71</td><td>CIBIO</td><td>MAG</td><td>2155871</td><td> 51</td><td>58794</td><td>58.54</td><td>94.46</td><td>0.00</td><td>⋯</td><td>18</td><td>NA</td><td>GUT_GENOME239684</td><td>MGYG-HGUT-03686</td><td>d__Bacteria;p__Firmicutes_A;c__Clostridia;o__Oscillospirales;f__Oscillospiraceae;g__ER4;s__ER4 sp000765235                   </td><td>ERS436838</td><td>ERP005534</td><td>Germany</td><td>Europe</td><td>ftp://ftp.ebi.ac.uk/pub/databases/metagenomics/mgnify_genomes/human-gut/v1.0/all_genomes/MGYG-HGUT-036/MGYG-HGUT-03686/genomes4/GUT_GENOME286996.gff.gz</td></tr>\n",
       "\t<tr><td>GUT_GENOME286997</td><td>ZellerG_2014__MMPU99077057ST__bin.72</td><td>CIBIO</td><td>MAG</td><td>2883579</td><td>383</td><td>10509</td><td>43.57</td><td>94.53</td><td>0.94</td><td>⋯</td><td>19</td><td>NA</td><td>GUT_GENOME000682</td><td>MGYG-HGUT-00144</td><td>d__Bacteria;p__Bacteroidota;c__Bacteroidia;o__Bacteroidales;f__Barnesiellaceae;g__Barnesiella;s__Barnesiella intestinihominis</td><td>ERS436838</td><td>ERP005534</td><td>Germany</td><td>Europe</td><td>ftp://ftp.ebi.ac.uk/pub/databases/metagenomics/mgnify_genomes/human-gut/v1.0/all_genomes/MGYG-HGUT-001/MGYG-HGUT-00144/genomes1/GUT_GENOME286997.gff.gz</td></tr>\n",
       "</tbody>\n",
       "</table>\n"
      ],
      "text/latex": [
       "A data.table: 286997 × 25\n",
       "\\begin{tabular}{lllllllllllllllllllll}\n",
       " Genome & Original\\_name & Study\\_set & Genome\\_type & Length & N\\_contigs & N50 & GC\\_content & Completeness & Contamination & ⋯ & tRNAs & Genome\\_accession & Species\\_rep & MGnify\\_accession & Lineage & Sample\\_accession & Study\\_accession & Country & Continent & FTP\\_download\\\\\n",
       " <chr> & <chr> & <chr> & <chr> & <int> & <int> & <int> & <dbl> & <dbl> & <dbl> & ⋯ & <int> & <chr> & <chr> & <chr> & <chr> & <chr> & <chr> & <chr> & <chr> & <chr>\\\\\n",
       "\\hline\n",
       "\t GUT\\_GENOME000001 & 11861\\_6\\_55 & HBC & Isolate & 3221441 & 137 & 47272 & 28.26 & 98.59 & 0.70 & ⋯ & 20 & NA & GUT\\_GENOME000001 & MGYG-HGUT-00001 & d\\_\\_Bacteria;p\\_\\_Firmicutes\\_A;c\\_\\_Clostridia;o\\_\\_Peptostreptococcales;f\\_\\_Peptostreptococcaceae;g\\_\\_GCA-900066495;s\\_\\_         & ERS370061 & ERP105624 & United Kingdom & Europe & ftp://ftp.ebi.ac.uk/pub/databases/metagenomics/mgnify\\_genomes/human-gut/v1.0/all\\_genomes/MGYG-HGUT-000/MGYG-HGUT-00001/genomes1/GUT\\_GENOME000001.gff.gz\\\\\n",
       "\t GUT\\_GENOME000002 & 11861\\_6\\_56 & HBC & Isolate & 3296933 &  82 & 96092 & 38.19 & 99.33 & 1.34 & ⋯ & 20 & NA & GUT\\_GENOME001689 & MGYG-HGUT-00262 & d\\_\\_Bacteria;p\\_\\_Firmicutes\\_A;c\\_\\_Clostridia;o\\_\\_Lachnospirales;f\\_\\_Lachnospiraceae;g\\_\\_Eubacterium\\_E;s\\_\\_Eubacterium\\_E hallii & ERS370062 & ERP105624 & United Kingdom & Europe & ftp://ftp.ebi.ac.uk/pub/databases/metagenomics/mgnify\\_genomes/human-gut/v1.0/all\\_genomes/MGYG-HGUT-002/MGYG-HGUT-00262/genomes1/GUT\\_GENOME000002.gff.gz\\\\\n",
       "\t ⋮ & ⋮ & ⋮ & ⋮ & ⋮ & ⋮ & ⋮ & ⋮ & ⋮ & ⋮ & ⋱ & ⋮ & ⋮ & ⋮ & ⋮ & ⋮ & ⋮ & ⋮ & ⋮ & ⋮ & ⋮\\\\\n",
       "\t GUT\\_GENOME286996 & ZellerG\\_2014\\_\\_MMPU99077057ST\\_\\_bin.71 & CIBIO & MAG & 2155871 &  51 & 58794 & 58.54 & 94.46 & 0.00 & ⋯ & 18 & NA & GUT\\_GENOME239684 & MGYG-HGUT-03686 & d\\_\\_Bacteria;p\\_\\_Firmicutes\\_A;c\\_\\_Clostridia;o\\_\\_Oscillospirales;f\\_\\_Oscillospiraceae;g\\_\\_ER4;s\\_\\_ER4 sp000765235                    & ERS436838 & ERP005534 & Germany & Europe & ftp://ftp.ebi.ac.uk/pub/databases/metagenomics/mgnify\\_genomes/human-gut/v1.0/all\\_genomes/MGYG-HGUT-036/MGYG-HGUT-03686/genomes4/GUT\\_GENOME286996.gff.gz\\\\\n",
       "\t GUT\\_GENOME286997 & ZellerG\\_2014\\_\\_MMPU99077057ST\\_\\_bin.72 & CIBIO & MAG & 2883579 & 383 & 10509 & 43.57 & 94.53 & 0.94 & ⋯ & 19 & NA & GUT\\_GENOME000682 & MGYG-HGUT-00144 & d\\_\\_Bacteria;p\\_\\_Bacteroidota;c\\_\\_Bacteroidia;o\\_\\_Bacteroidales;f\\_\\_Barnesiellaceae;g\\_\\_Barnesiella;s\\_\\_Barnesiella intestinihominis & ERS436838 & ERP005534 & Germany & Europe & ftp://ftp.ebi.ac.uk/pub/databases/metagenomics/mgnify\\_genomes/human-gut/v1.0/all\\_genomes/MGYG-HGUT-001/MGYG-HGUT-00144/genomes1/GUT\\_GENOME286997.gff.gz\\\\\n",
       "\\end{tabular}\n"
      ],
      "text/markdown": [
       "\n",
       "A data.table: 286997 × 25\n",
       "\n",
       "| Genome &lt;chr&gt; | Original_name &lt;chr&gt; | Study_set &lt;chr&gt; | Genome_type &lt;chr&gt; | Length &lt;int&gt; | N_contigs &lt;int&gt; | N50 &lt;int&gt; | GC_content &lt;dbl&gt; | Completeness &lt;dbl&gt; | Contamination &lt;dbl&gt; | ⋯ ⋯ | tRNAs &lt;int&gt; | Genome_accession &lt;chr&gt; | Species_rep &lt;chr&gt; | MGnify_accession &lt;chr&gt; | Lineage &lt;chr&gt; | Sample_accession &lt;chr&gt; | Study_accession &lt;chr&gt; | Country &lt;chr&gt; | Continent &lt;chr&gt; | FTP_download &lt;chr&gt; |\n",
       "|---|---|---|---|---|---|---|---|---|---|---|---|---|---|---|---|---|---|---|---|---|\n",
       "| GUT_GENOME000001 | 11861_6_55 | HBC | Isolate | 3221441 | 137 | 47272 | 28.26 | 98.59 | 0.70 | ⋯ | 20 | NA | GUT_GENOME000001 | MGYG-HGUT-00001 | d__Bacteria;p__Firmicutes_A;c__Clostridia;o__Peptostreptococcales;f__Peptostreptococcaceae;g__GCA-900066495;s__         | ERS370061 | ERP105624 | United Kingdom | Europe | ftp://ftp.ebi.ac.uk/pub/databases/metagenomics/mgnify_genomes/human-gut/v1.0/all_genomes/MGYG-HGUT-000/MGYG-HGUT-00001/genomes1/GUT_GENOME000001.gff.gz |\n",
       "| GUT_GENOME000002 | 11861_6_56 | HBC | Isolate | 3296933 |  82 | 96092 | 38.19 | 99.33 | 1.34 | ⋯ | 20 | NA | GUT_GENOME001689 | MGYG-HGUT-00262 | d__Bacteria;p__Firmicutes_A;c__Clostridia;o__Lachnospirales;f__Lachnospiraceae;g__Eubacterium_E;s__Eubacterium_E hallii | ERS370062 | ERP105624 | United Kingdom | Europe | ftp://ftp.ebi.ac.uk/pub/databases/metagenomics/mgnify_genomes/human-gut/v1.0/all_genomes/MGYG-HGUT-002/MGYG-HGUT-00262/genomes1/GUT_GENOME000002.gff.gz |\n",
       "| ⋮ | ⋮ | ⋮ | ⋮ | ⋮ | ⋮ | ⋮ | ⋮ | ⋮ | ⋮ | ⋱ | ⋮ | ⋮ | ⋮ | ⋮ | ⋮ | ⋮ | ⋮ | ⋮ | ⋮ | ⋮ |\n",
       "| GUT_GENOME286996 | ZellerG_2014__MMPU99077057ST__bin.71 | CIBIO | MAG | 2155871 |  51 | 58794 | 58.54 | 94.46 | 0.00 | ⋯ | 18 | NA | GUT_GENOME239684 | MGYG-HGUT-03686 | d__Bacteria;p__Firmicutes_A;c__Clostridia;o__Oscillospirales;f__Oscillospiraceae;g__ER4;s__ER4 sp000765235                    | ERS436838 | ERP005534 | Germany | Europe | ftp://ftp.ebi.ac.uk/pub/databases/metagenomics/mgnify_genomes/human-gut/v1.0/all_genomes/MGYG-HGUT-036/MGYG-HGUT-03686/genomes4/GUT_GENOME286996.gff.gz |\n",
       "| GUT_GENOME286997 | ZellerG_2014__MMPU99077057ST__bin.72 | CIBIO | MAG | 2883579 | 383 | 10509 | 43.57 | 94.53 | 0.94 | ⋯ | 19 | NA | GUT_GENOME000682 | MGYG-HGUT-00144 | d__Bacteria;p__Bacteroidota;c__Bacteroidia;o__Bacteroidales;f__Barnesiellaceae;g__Barnesiella;s__Barnesiella intestinihominis | ERS436838 | ERP005534 | Germany | Europe | ftp://ftp.ebi.ac.uk/pub/databases/metagenomics/mgnify_genomes/human-gut/v1.0/all_genomes/MGYG-HGUT-001/MGYG-HGUT-00144/genomes1/GUT_GENOME286997.gff.gz |\n",
       "\n"
      ],
      "text/plain": [
       "       Genome           Original_name                        Study_set\n",
       "1      GUT_GENOME000001 11861_6_55                           HBC      \n",
       "2      GUT_GENOME000002 11861_6_56                           HBC      \n",
       "⋮      ⋮                ⋮                                    ⋮        \n",
       "286996 GUT_GENOME286996 ZellerG_2014__MMPU99077057ST__bin.71 CIBIO    \n",
       "286997 GUT_GENOME286997 ZellerG_2014__MMPU99077057ST__bin.72 CIBIO    \n",
       "       Genome_type Length  N_contigs N50   GC_content Completeness\n",
       "1      Isolate     3221441 137       47272 28.26      98.59       \n",
       "2      Isolate     3296933  82       96092 38.19      99.33       \n",
       "⋮      ⋮           ⋮       ⋮         ⋮     ⋮          ⋮           \n",
       "286996 MAG         2155871  51       58794 58.54      94.46       \n",
       "286997 MAG         2883579 383       10509 43.57      94.53       \n",
       "       Contamination ⋯ tRNAs Genome_accession Species_rep      MGnify_accession\n",
       "1      0.70          ⋯ 20    NA               GUT_GENOME000001 MGYG-HGUT-00001 \n",
       "2      1.34          ⋯ 20    NA               GUT_GENOME001689 MGYG-HGUT-00262 \n",
       "⋮      ⋮             ⋱ ⋮     ⋮                ⋮                ⋮               \n",
       "286996 0.00          ⋯ 18    NA               GUT_GENOME239684 MGYG-HGUT-03686 \n",
       "286997 0.94          ⋯ 19    NA               GUT_GENOME000682 MGYG-HGUT-00144 \n",
       "       Lineage                                                                                                                      \n",
       "1      d__Bacteria;p__Firmicutes_A;c__Clostridia;o__Peptostreptococcales;f__Peptostreptococcaceae;g__GCA-900066495;s__              \n",
       "2      d__Bacteria;p__Firmicutes_A;c__Clostridia;o__Lachnospirales;f__Lachnospiraceae;g__Eubacterium_E;s__Eubacterium_E hallii      \n",
       "⋮      ⋮                                                                                                                            \n",
       "286996 d__Bacteria;p__Firmicutes_A;c__Clostridia;o__Oscillospirales;f__Oscillospiraceae;g__ER4;s__ER4 sp000765235                   \n",
       "286997 d__Bacteria;p__Bacteroidota;c__Bacteroidia;o__Bacteroidales;f__Barnesiellaceae;g__Barnesiella;s__Barnesiella intestinihominis\n",
       "       Sample_accession Study_accession Country        Continent\n",
       "1      ERS370061        ERP105624       United Kingdom Europe   \n",
       "2      ERS370062        ERP105624       United Kingdom Europe   \n",
       "⋮      ⋮                ⋮               ⋮              ⋮        \n",
       "286996 ERS436838        ERP005534       Germany        Europe   \n",
       "286997 ERS436838        ERP005534       Germany        Europe   \n",
       "       FTP_download                                                                                                                                           \n",
       "1      ftp://ftp.ebi.ac.uk/pub/databases/metagenomics/mgnify_genomes/human-gut/v1.0/all_genomes/MGYG-HGUT-000/MGYG-HGUT-00001/genomes1/GUT_GENOME000001.gff.gz\n",
       "2      ftp://ftp.ebi.ac.uk/pub/databases/metagenomics/mgnify_genomes/human-gut/v1.0/all_genomes/MGYG-HGUT-002/MGYG-HGUT-00262/genomes1/GUT_GENOME000002.gff.gz\n",
       "⋮      ⋮                                                                                                                                                      \n",
       "286996 ftp://ftp.ebi.ac.uk/pub/databases/metagenomics/mgnify_genomes/human-gut/v1.0/all_genomes/MGYG-HGUT-036/MGYG-HGUT-03686/genomes4/GUT_GENOME286996.gff.gz\n",
       "286997 ftp://ftp.ebi.ac.uk/pub/databases/metagenomics/mgnify_genomes/human-gut/v1.0/all_genomes/MGYG-HGUT-001/MGYG-HGUT-00144/genomes1/GUT_GENOME286997.gff.gz"
      ]
     },
     "metadata": {},
     "output_type": "display_data"
    }
   ],
   "source": [
    "uhgg_meta = Fread(uhgg_meta_file)\n",
    "uhgg_meta"
   ]
  },
  {
   "cell_type": "code",
   "execution_count": 8,
   "metadata": {
    "ExecuteTime": {
     "end_time": "2022-02-06T14:10:26.439534Z",
     "start_time": "2022-02-06T14:10:23.893Z"
    }
   },
   "outputs": [
    {
     "data": {
      "text/html": [
       "<table class=\"dataframe\">\n",
       "<caption>A tidytable: 180 × 3</caption>\n",
       "<thead>\n",
       "\t<tr><th scope=col>Sample</th><th scope=col>Read1</th><th scope=col>Read2</th></tr>\n",
       "\t<tr><th scope=col>&lt;chr&gt;</th><th scope=col>&lt;chr&gt;</th><th scope=col>&lt;chr&gt;</th></tr>\n",
       "</thead>\n",
       "<tbody>\n",
       "\t<tr><td>ERS1015611</td><td>/ebio/abt3_projects/databases_no-backup/DeepMAsED/version2/real_data_eval/UHGG/LLMGQC_r100/final/ERS1015611/R1_final.fq.gz</td><td>/ebio/abt3_projects/databases_no-backup/DeepMAsED/version2/real_data_eval/UHGG/LLMGQC_r100/final/ERS1015611/R2_final.fq.gz</td></tr>\n",
       "\t<tr><td>ERS1015695</td><td>/ebio/abt3_projects/databases_no-backup/DeepMAsED/version2/real_data_eval/UHGG/LLMGQC_r100/final/ERS1015695/R1_final.fq.gz</td><td>/ebio/abt3_projects/databases_no-backup/DeepMAsED/version2/real_data_eval/UHGG/LLMGQC_r100/final/ERS1015695/R2_final.fq.gz</td></tr>\n",
       "\t<tr><td>⋮</td><td>⋮</td><td>⋮</td></tr>\n",
       "\t<tr><td>SRS871448</td><td>/ebio/abt3_projects/databases_no-backup/DeepMAsED/version2/real_data_eval/UHGG/LLMGQC_r100/final/SRS871448/R1_final.fq.gz</td><td>/ebio/abt3_projects/databases_no-backup/DeepMAsED/version2/real_data_eval/UHGG/LLMGQC_r100/final/SRS871448/R2_final.fq.gz</td></tr>\n",
       "\t<tr><td>SRS871517</td><td>/ebio/abt3_projects/databases_no-backup/DeepMAsED/version2/real_data_eval/UHGG/LLMGQC_r100/final/SRS871517/R1_final.fq.gz</td><td>/ebio/abt3_projects/databases_no-backup/DeepMAsED/version2/real_data_eval/UHGG/LLMGQC_r100/final/SRS871517/R2_final.fq.gz</td></tr>\n",
       "</tbody>\n",
       "</table>\n"
      ],
      "text/latex": [
       "A tidytable: 180 × 3\n",
       "\\begin{tabular}{lll}\n",
       " Sample & Read1 & Read2\\\\\n",
       " <chr> & <chr> & <chr>\\\\\n",
       "\\hline\n",
       "\t ERS1015611 & /ebio/abt3\\_projects/databases\\_no-backup/DeepMAsED/version2/real\\_data\\_eval/UHGG/LLMGQC\\_r100/final/ERS1015611/R1\\_final.fq.gz & /ebio/abt3\\_projects/databases\\_no-backup/DeepMAsED/version2/real\\_data\\_eval/UHGG/LLMGQC\\_r100/final/ERS1015611/R2\\_final.fq.gz\\\\\n",
       "\t ERS1015695 & /ebio/abt3\\_projects/databases\\_no-backup/DeepMAsED/version2/real\\_data\\_eval/UHGG/LLMGQC\\_r100/final/ERS1015695/R1\\_final.fq.gz & /ebio/abt3\\_projects/databases\\_no-backup/DeepMAsED/version2/real\\_data\\_eval/UHGG/LLMGQC\\_r100/final/ERS1015695/R2\\_final.fq.gz\\\\\n",
       "\t ⋮ & ⋮ & ⋮\\\\\n",
       "\t SRS871448 & /ebio/abt3\\_projects/databases\\_no-backup/DeepMAsED/version2/real\\_data\\_eval/UHGG/LLMGQC\\_r100/final/SRS871448/R1\\_final.fq.gz & /ebio/abt3\\_projects/databases\\_no-backup/DeepMAsED/version2/real\\_data\\_eval/UHGG/LLMGQC\\_r100/final/SRS871448/R2\\_final.fq.gz\\\\\n",
       "\t SRS871517 & /ebio/abt3\\_projects/databases\\_no-backup/DeepMAsED/version2/real\\_data\\_eval/UHGG/LLMGQC\\_r100/final/SRS871517/R1\\_final.fq.gz & /ebio/abt3\\_projects/databases\\_no-backup/DeepMAsED/version2/real\\_data\\_eval/UHGG/LLMGQC\\_r100/final/SRS871517/R2\\_final.fq.gz\\\\\n",
       "\\end{tabular}\n"
      ],
      "text/markdown": [
       "\n",
       "A tidytable: 180 × 3\n",
       "\n",
       "| Sample &lt;chr&gt; | Read1 &lt;chr&gt; | Read2 &lt;chr&gt; |\n",
       "|---|---|---|\n",
       "| ERS1015611 | /ebio/abt3_projects/databases_no-backup/DeepMAsED/version2/real_data_eval/UHGG/LLMGQC_r100/final/ERS1015611/R1_final.fq.gz | /ebio/abt3_projects/databases_no-backup/DeepMAsED/version2/real_data_eval/UHGG/LLMGQC_r100/final/ERS1015611/R2_final.fq.gz |\n",
       "| ERS1015695 | /ebio/abt3_projects/databases_no-backup/DeepMAsED/version2/real_data_eval/UHGG/LLMGQC_r100/final/ERS1015695/R1_final.fq.gz | /ebio/abt3_projects/databases_no-backup/DeepMAsED/version2/real_data_eval/UHGG/LLMGQC_r100/final/ERS1015695/R2_final.fq.gz |\n",
       "| ⋮ | ⋮ | ⋮ |\n",
       "| SRS871448 | /ebio/abt3_projects/databases_no-backup/DeepMAsED/version2/real_data_eval/UHGG/LLMGQC_r100/final/SRS871448/R1_final.fq.gz | /ebio/abt3_projects/databases_no-backup/DeepMAsED/version2/real_data_eval/UHGG/LLMGQC_r100/final/SRS871448/R2_final.fq.gz |\n",
       "| SRS871517 | /ebio/abt3_projects/databases_no-backup/DeepMAsED/version2/real_data_eval/UHGG/LLMGQC_r100/final/SRS871517/R1_final.fq.gz | /ebio/abt3_projects/databases_no-backup/DeepMAsED/version2/real_data_eval/UHGG/LLMGQC_r100/final/SRS871517/R2_final.fq.gz |\n",
       "\n"
      ],
      "text/plain": [
       "    Sample    \n",
       "1   ERS1015611\n",
       "2   ERS1015695\n",
       "⋮   ⋮         \n",
       "179 SRS871448 \n",
       "180 SRS871517 \n",
       "    Read1                                                                                                                     \n",
       "1   /ebio/abt3_projects/databases_no-backup/DeepMAsED/version2/real_data_eval/UHGG/LLMGQC_r100/final/ERS1015611/R1_final.fq.gz\n",
       "2   /ebio/abt3_projects/databases_no-backup/DeepMAsED/version2/real_data_eval/UHGG/LLMGQC_r100/final/ERS1015695/R1_final.fq.gz\n",
       "⋮   ⋮                                                                                                                         \n",
       "179 /ebio/abt3_projects/databases_no-backup/DeepMAsED/version2/real_data_eval/UHGG/LLMGQC_r100/final/SRS871448/R1_final.fq.gz \n",
       "180 /ebio/abt3_projects/databases_no-backup/DeepMAsED/version2/real_data_eval/UHGG/LLMGQC_r100/final/SRS871517/R1_final.fq.gz \n",
       "    Read2                                                                                                                     \n",
       "1   /ebio/abt3_projects/databases_no-backup/DeepMAsED/version2/real_data_eval/UHGG/LLMGQC_r100/final/ERS1015611/R2_final.fq.gz\n",
       "2   /ebio/abt3_projects/databases_no-backup/DeepMAsED/version2/real_data_eval/UHGG/LLMGQC_r100/final/ERS1015695/R2_final.fq.gz\n",
       "⋮   ⋮                                                                                                                         \n",
       "179 /ebio/abt3_projects/databases_no-backup/DeepMAsED/version2/real_data_eval/UHGG/LLMGQC_r100/final/SRS871448/R2_final.fq.gz \n",
       "180 /ebio/abt3_projects/databases_no-backup/DeepMAsED/version2/real_data_eval/UHGG/LLMGQC_r100/final/SRS871517/R2_final.fq.gz "
      ]
     },
     "metadata": {},
     "output_type": "display_data"
    }
   ],
   "source": [
    "samps = Fread(read_file) %>%\n",
    "    filter.(Read1 != '',\n",
    "            Read2 != '') %>%\n",
    "    select.(-Notes)\n",
    "samps"
   ]
  },
  {
   "cell_type": "code",
   "execution_count": 9,
   "metadata": {
    "ExecuteTime": {
     "end_time": "2022-02-06T14:10:26.539411Z",
     "start_time": "2022-02-06T14:10:24.635Z"
    }
   },
   "outputs": [
    {
     "data": {
      "text/html": [
       "<table class=\"dataframe\">\n",
       "<caption>A tidytable: 200 × 14</caption>\n",
       "<thead>\n",
       "\t<tr><th scope=col>Sample</th><th scope=col>Read</th><th scope=col>num_seqs</th><th scope=col>sum_len</th><th scope=col>min_len</th><th scope=col>avg_len</th><th scope=col>max_len</th><th scope=col>Q1</th><th scope=col>Q2</th><th scope=col>Q3</th><th scope=col>sum_gap</th><th scope=col>N50</th><th scope=col>Q20...</th><th scope=col>Q30...</th></tr>\n",
       "\t<tr><th scope=col>&lt;chr&gt;</th><th scope=col>&lt;int&gt;</th><th scope=col>&lt;int&gt;</th><th scope=col>&lt;int64&gt;</th><th scope=col>&lt;int&gt;</th><th scope=col>&lt;dbl&gt;</th><th scope=col>&lt;int&gt;</th><th scope=col>&lt;dbl&gt;</th><th scope=col>&lt;dbl&gt;</th><th scope=col>&lt;dbl&gt;</th><th scope=col>&lt;int&gt;</th><th scope=col>&lt;int&gt;</th><th scope=col>&lt;dbl&gt;</th><th scope=col>&lt;dbl&gt;</th></tr>\n",
       "</thead>\n",
       "<tbody>\n",
       "\t<tr><td>ERS473032</td><td>1</td><td>18612357</td><td>1817926816</td><td>80</td><td>97.7</td><td>100</td><td> 99</td><td>100</td><td>100</td><td>0</td><td>100</td><td>97.26</td><td>90.28</td></tr>\n",
       "\t<tr><td>ERS473044</td><td>1</td><td>26614864</td><td>2619657414</td><td>80</td><td>98.4</td><td>100</td><td>100</td><td>100</td><td>100</td><td>0</td><td>100</td><td>97.89</td><td>91.96</td></tr>\n",
       "\t<tr><td>⋮</td><td>⋮</td><td>⋮</td><td>⋮</td><td>⋮</td><td>⋮</td><td>⋮</td><td>⋮</td><td>⋮</td><td>⋮</td><td>⋮</td><td>⋮</td><td>⋮</td><td>⋮</td></tr>\n",
       "\t<tr><td>ERS436651</td><td>1</td><td> 1609913</td><td> 137419060</td><td>80</td><td>85.4</td><td>94</td><td>82</td><td>84</td><td>88</td><td>0</td><td>85</td><td>100</td><td>90.67</td></tr>\n",
       "\t<tr><td>ERS436831</td><td>1</td><td>22645284</td><td>2059022203</td><td>80</td><td>90.9</td><td>92</td><td>89</td><td>92</td><td>92</td><td>0</td><td>92</td><td>100</td><td>98.96</td></tr>\n",
       "</tbody>\n",
       "</table>\n"
      ],
      "text/latex": [
       "A tidytable: 200 × 14\n",
       "\\begin{tabular}{llllllllllllll}\n",
       " Sample & Read & num\\_seqs & sum\\_len & min\\_len & avg\\_len & max\\_len & Q1 & Q2 & Q3 & sum\\_gap & N50 & Q20... & Q30...\\\\\n",
       " <chr> & <int> & <int> & <int64> & <int> & <dbl> & <int> & <dbl> & <dbl> & <dbl> & <int> & <int> & <dbl> & <dbl>\\\\\n",
       "\\hline\n",
       "\t ERS473032 & 1 & 18612357 & 1817926816 & 80 & 97.7 & 100 &  99 & 100 & 100 & 0 & 100 & 97.26 & 90.28\\\\\n",
       "\t ERS473044 & 1 & 26614864 & 2619657414 & 80 & 98.4 & 100 & 100 & 100 & 100 & 0 & 100 & 97.89 & 91.96\\\\\n",
       "\t ⋮ & ⋮ & ⋮ & ⋮ & ⋮ & ⋮ & ⋮ & ⋮ & ⋮ & ⋮ & ⋮ & ⋮ & ⋮ & ⋮\\\\\n",
       "\t ERS436651 & 1 &  1609913 &  137419060 & 80 & 85.4 & 94 & 82 & 84 & 88 & 0 & 85 & 100 & 90.67\\\\\n",
       "\t ERS436831 & 1 & 22645284 & 2059022203 & 80 & 90.9 & 92 & 89 & 92 & 92 & 0 & 92 & 100 & 98.96\\\\\n",
       "\\end{tabular}\n"
      ],
      "text/markdown": [
       "\n",
       "A tidytable: 200 × 14\n",
       "\n",
       "| Sample &lt;chr&gt; | Read &lt;int&gt; | num_seqs &lt;int&gt; | sum_len &lt;int64&gt; | min_len &lt;int&gt; | avg_len &lt;dbl&gt; | max_len &lt;int&gt; | Q1 &lt;dbl&gt; | Q2 &lt;dbl&gt; | Q3 &lt;dbl&gt; | sum_gap &lt;int&gt; | N50 &lt;int&gt; | Q20... &lt;dbl&gt; | Q30... &lt;dbl&gt; |\n",
       "|---|---|---|---|---|---|---|---|---|---|---|---|---|---|\n",
       "| ERS473032 | 1 | 18612357 | 1817926816 | 80 | 97.7 | 100 |  99 | 100 | 100 | 0 | 100 | 97.26 | 90.28 |\n",
       "| ERS473044 | 1 | 26614864 | 2619657414 | 80 | 98.4 | 100 | 100 | 100 | 100 | 0 | 100 | 97.89 | 91.96 |\n",
       "| ⋮ | ⋮ | ⋮ | ⋮ | ⋮ | ⋮ | ⋮ | ⋮ | ⋮ | ⋮ | ⋮ | ⋮ | ⋮ | ⋮ |\n",
       "| ERS436651 | 1 |  1609913 |  137419060 | 80 | 85.4 | 94 | 82 | 84 | 88 | 0 | 85 | 100 | 90.67 |\n",
       "| ERS436831 | 1 | 22645284 | 2059022203 | 80 | 90.9 | 92 | 89 | 92 | 92 | 0 | 92 | 100 | 98.96 |\n",
       "\n"
      ],
      "text/plain": [
       "    Sample    Read num_seqs sum_len    min_len avg_len max_len Q1  Q2  Q3 \n",
       "1   ERS473032 1    18612357 1817926816 80      97.7    100      99 100 100\n",
       "2   ERS473044 1    26614864 2619657414 80      98.4    100     100 100 100\n",
       "⋮   ⋮         ⋮    ⋮        ⋮          ⋮       ⋮       ⋮       ⋮   ⋮   ⋮  \n",
       "199 ERS436651 1     1609913  137419060 80      85.4    94      82  84  88 \n",
       "200 ERS436831 1    22645284 2059022203 80      90.9    92      89  92  92 \n",
       "    sum_gap N50 Q20... Q30...\n",
       "1   0       100 97.26  90.28 \n",
       "2   0       100 97.89  91.96 \n",
       "⋮   ⋮       ⋮   ⋮      ⋮     \n",
       "199 0       85  100    90.67 \n",
       "200 0       92  100    98.96 "
      ]
     },
     "metadata": {},
     "output_type": "display_data"
    }
   ],
   "source": [
    "stats = Fread(stats_file) %>%\n",
    "    filter.(Read == 1) %>%\n",
    "    select.(-file, -format, -type)\n",
    "stats"
   ]
  },
  {
   "cell_type": "code",
   "execution_count": 10,
   "metadata": {
    "ExecuteTime": {
     "end_time": "2022-02-06T14:10:26.588795Z",
     "start_time": "2022-02-06T14:10:25.501Z"
    }
   },
   "outputs": [
    {
     "name": "stdout",
     "output_type": "stream",
     "text": [
      "intersect(x,y): 180 \n",
      "setdiff(x,y): 0 \n",
      "setdiff(y,x): 20 \n",
      "union(x,y): 200 \n"
     ]
    },
    {
     "data": {
      "text/html": [
       "<table class=\"dataframe\">\n",
       "<caption>A tidytable: 180 × 16</caption>\n",
       "<thead>\n",
       "\t<tr><th scope=col>Sample</th><th scope=col>Read1</th><th scope=col>Read2</th><th scope=col>Read</th><th scope=col>num_seqs</th><th scope=col>sum_len</th><th scope=col>min_len</th><th scope=col>avg_len</th><th scope=col>max_len</th><th scope=col>Q1</th><th scope=col>Q2</th><th scope=col>Q3</th><th scope=col>sum_gap</th><th scope=col>N50</th><th scope=col>Q20...</th><th scope=col>Q30...</th></tr>\n",
       "\t<tr><th scope=col>&lt;chr&gt;</th><th scope=col>&lt;chr&gt;</th><th scope=col>&lt;chr&gt;</th><th scope=col>&lt;int&gt;</th><th scope=col>&lt;int&gt;</th><th scope=col>&lt;int64&gt;</th><th scope=col>&lt;int&gt;</th><th scope=col>&lt;dbl&gt;</th><th scope=col>&lt;int&gt;</th><th scope=col>&lt;dbl&gt;</th><th scope=col>&lt;dbl&gt;</th><th scope=col>&lt;dbl&gt;</th><th scope=col>&lt;int&gt;</th><th scope=col>&lt;int&gt;</th><th scope=col>&lt;dbl&gt;</th><th scope=col>&lt;dbl&gt;</th></tr>\n",
       "</thead>\n",
       "<tbody>\n",
       "\t<tr><td>ERS473032</td><td>/ebio/abt3_projects/databases_no-backup/DeepMAsED/version2/real_data_eval/UHGG/LLMGQC_r100/final/ERS473032/R1_final.fq.gz</td><td>/ebio/abt3_projects/databases_no-backup/DeepMAsED/version2/real_data_eval/UHGG/LLMGQC_r100/final/ERS473032/R2_final.fq.gz</td><td>1</td><td>18612357</td><td>1817926816</td><td>80</td><td>97.7</td><td>100</td><td> 99</td><td>100</td><td>100</td><td>0</td><td>100</td><td>97.26</td><td>90.28</td></tr>\n",
       "\t<tr><td>ERS473044</td><td>/ebio/abt3_projects/databases_no-backup/DeepMAsED/version2/real_data_eval/UHGG/LLMGQC_r100/final/ERS473044/R1_final.fq.gz</td><td>/ebio/abt3_projects/databases_no-backup/DeepMAsED/version2/real_data_eval/UHGG/LLMGQC_r100/final/ERS473044/R2_final.fq.gz</td><td>1</td><td>26614864</td><td>2619657414</td><td>80</td><td>98.4</td><td>100</td><td>100</td><td>100</td><td>100</td><td>0</td><td>100</td><td>97.89</td><td>91.96</td></tr>\n",
       "\t<tr><td>⋮</td><td>⋮</td><td>⋮</td><td>⋮</td><td>⋮</td><td>⋮</td><td>⋮</td><td>⋮</td><td>⋮</td><td>⋮</td><td>⋮</td><td>⋮</td><td>⋮</td><td>⋮</td><td>⋮</td><td>⋮</td></tr>\n",
       "\t<tr><td>ERS436651</td><td>/ebio/abt3_projects/databases_no-backup/DeepMAsED/version2/real_data_eval/UHGG/LLMGQC_r100/final/ERS436651/R1_final.fq.gz</td><td>/ebio/abt3_projects/databases_no-backup/DeepMAsED/version2/real_data_eval/UHGG/LLMGQC_r100/final/ERS436651/R2_final.fq.gz</td><td>1</td><td> 1609913</td><td> 137419060</td><td>80</td><td>85.4</td><td>94</td><td>82</td><td>84</td><td>88</td><td>0</td><td>85</td><td>100</td><td>90.67</td></tr>\n",
       "\t<tr><td>ERS436831</td><td>/ebio/abt3_projects/databases_no-backup/DeepMAsED/version2/real_data_eval/UHGG/LLMGQC_r100/final/ERS436831/R1_final.fq.gz</td><td>/ebio/abt3_projects/databases_no-backup/DeepMAsED/version2/real_data_eval/UHGG/LLMGQC_r100/final/ERS436831/R2_final.fq.gz</td><td>1</td><td>22645284</td><td>2059022203</td><td>80</td><td>90.9</td><td>92</td><td>89</td><td>92</td><td>92</td><td>0</td><td>92</td><td>100</td><td>98.96</td></tr>\n",
       "</tbody>\n",
       "</table>\n"
      ],
      "text/latex": [
       "A tidytable: 180 × 16\n",
       "\\begin{tabular}{llllllllllllllll}\n",
       " Sample & Read1 & Read2 & Read & num\\_seqs & sum\\_len & min\\_len & avg\\_len & max\\_len & Q1 & Q2 & Q3 & sum\\_gap & N50 & Q20... & Q30...\\\\\n",
       " <chr> & <chr> & <chr> & <int> & <int> & <int64> & <int> & <dbl> & <int> & <dbl> & <dbl> & <dbl> & <int> & <int> & <dbl> & <dbl>\\\\\n",
       "\\hline\n",
       "\t ERS473032 & /ebio/abt3\\_projects/databases\\_no-backup/DeepMAsED/version2/real\\_data\\_eval/UHGG/LLMGQC\\_r100/final/ERS473032/R1\\_final.fq.gz & /ebio/abt3\\_projects/databases\\_no-backup/DeepMAsED/version2/real\\_data\\_eval/UHGG/LLMGQC\\_r100/final/ERS473032/R2\\_final.fq.gz & 1 & 18612357 & 1817926816 & 80 & 97.7 & 100 &  99 & 100 & 100 & 0 & 100 & 97.26 & 90.28\\\\\n",
       "\t ERS473044 & /ebio/abt3\\_projects/databases\\_no-backup/DeepMAsED/version2/real\\_data\\_eval/UHGG/LLMGQC\\_r100/final/ERS473044/R1\\_final.fq.gz & /ebio/abt3\\_projects/databases\\_no-backup/DeepMAsED/version2/real\\_data\\_eval/UHGG/LLMGQC\\_r100/final/ERS473044/R2\\_final.fq.gz & 1 & 26614864 & 2619657414 & 80 & 98.4 & 100 & 100 & 100 & 100 & 0 & 100 & 97.89 & 91.96\\\\\n",
       "\t ⋮ & ⋮ & ⋮ & ⋮ & ⋮ & ⋮ & ⋮ & ⋮ & ⋮ & ⋮ & ⋮ & ⋮ & ⋮ & ⋮ & ⋮ & ⋮\\\\\n",
       "\t ERS436651 & /ebio/abt3\\_projects/databases\\_no-backup/DeepMAsED/version2/real\\_data\\_eval/UHGG/LLMGQC\\_r100/final/ERS436651/R1\\_final.fq.gz & /ebio/abt3\\_projects/databases\\_no-backup/DeepMAsED/version2/real\\_data\\_eval/UHGG/LLMGQC\\_r100/final/ERS436651/R2\\_final.fq.gz & 1 &  1609913 &  137419060 & 80 & 85.4 & 94 & 82 & 84 & 88 & 0 & 85 & 100 & 90.67\\\\\n",
       "\t ERS436831 & /ebio/abt3\\_projects/databases\\_no-backup/DeepMAsED/version2/real\\_data\\_eval/UHGG/LLMGQC\\_r100/final/ERS436831/R1\\_final.fq.gz & /ebio/abt3\\_projects/databases\\_no-backup/DeepMAsED/version2/real\\_data\\_eval/UHGG/LLMGQC\\_r100/final/ERS436831/R2\\_final.fq.gz & 1 & 22645284 & 2059022203 & 80 & 90.9 & 92 & 89 & 92 & 92 & 0 & 92 & 100 & 98.96\\\\\n",
       "\\end{tabular}\n"
      ],
      "text/markdown": [
       "\n",
       "A tidytable: 180 × 16\n",
       "\n",
       "| Sample &lt;chr&gt; | Read1 &lt;chr&gt; | Read2 &lt;chr&gt; | Read &lt;int&gt; | num_seqs &lt;int&gt; | sum_len &lt;int64&gt; | min_len &lt;int&gt; | avg_len &lt;dbl&gt; | max_len &lt;int&gt; | Q1 &lt;dbl&gt; | Q2 &lt;dbl&gt; | Q3 &lt;dbl&gt; | sum_gap &lt;int&gt; | N50 &lt;int&gt; | Q20... &lt;dbl&gt; | Q30... &lt;dbl&gt; |\n",
       "|---|---|---|---|---|---|---|---|---|---|---|---|---|---|---|---|\n",
       "| ERS473032 | /ebio/abt3_projects/databases_no-backup/DeepMAsED/version2/real_data_eval/UHGG/LLMGQC_r100/final/ERS473032/R1_final.fq.gz | /ebio/abt3_projects/databases_no-backup/DeepMAsED/version2/real_data_eval/UHGG/LLMGQC_r100/final/ERS473032/R2_final.fq.gz | 1 | 18612357 | 1817926816 | 80 | 97.7 | 100 |  99 | 100 | 100 | 0 | 100 | 97.26 | 90.28 |\n",
       "| ERS473044 | /ebio/abt3_projects/databases_no-backup/DeepMAsED/version2/real_data_eval/UHGG/LLMGQC_r100/final/ERS473044/R1_final.fq.gz | /ebio/abt3_projects/databases_no-backup/DeepMAsED/version2/real_data_eval/UHGG/LLMGQC_r100/final/ERS473044/R2_final.fq.gz | 1 | 26614864 | 2619657414 | 80 | 98.4 | 100 | 100 | 100 | 100 | 0 | 100 | 97.89 | 91.96 |\n",
       "| ⋮ | ⋮ | ⋮ | ⋮ | ⋮ | ⋮ | ⋮ | ⋮ | ⋮ | ⋮ | ⋮ | ⋮ | ⋮ | ⋮ | ⋮ | ⋮ |\n",
       "| ERS436651 | /ebio/abt3_projects/databases_no-backup/DeepMAsED/version2/real_data_eval/UHGG/LLMGQC_r100/final/ERS436651/R1_final.fq.gz | /ebio/abt3_projects/databases_no-backup/DeepMAsED/version2/real_data_eval/UHGG/LLMGQC_r100/final/ERS436651/R2_final.fq.gz | 1 |  1609913 |  137419060 | 80 | 85.4 | 94 | 82 | 84 | 88 | 0 | 85 | 100 | 90.67 |\n",
       "| ERS436831 | /ebio/abt3_projects/databases_no-backup/DeepMAsED/version2/real_data_eval/UHGG/LLMGQC_r100/final/ERS436831/R1_final.fq.gz | /ebio/abt3_projects/databases_no-backup/DeepMAsED/version2/real_data_eval/UHGG/LLMGQC_r100/final/ERS436831/R2_final.fq.gz | 1 | 22645284 | 2059022203 | 80 | 90.9 | 92 | 89 | 92 | 92 | 0 | 92 | 100 | 98.96 |\n",
       "\n"
      ],
      "text/plain": [
       "    Sample   \n",
       "1   ERS473032\n",
       "2   ERS473044\n",
       "⋮   ⋮        \n",
       "179 ERS436651\n",
       "180 ERS436831\n",
       "    Read1                                                                                                                    \n",
       "1   /ebio/abt3_projects/databases_no-backup/DeepMAsED/version2/real_data_eval/UHGG/LLMGQC_r100/final/ERS473032/R1_final.fq.gz\n",
       "2   /ebio/abt3_projects/databases_no-backup/DeepMAsED/version2/real_data_eval/UHGG/LLMGQC_r100/final/ERS473044/R1_final.fq.gz\n",
       "⋮   ⋮                                                                                                                        \n",
       "179 /ebio/abt3_projects/databases_no-backup/DeepMAsED/version2/real_data_eval/UHGG/LLMGQC_r100/final/ERS436651/R1_final.fq.gz\n",
       "180 /ebio/abt3_projects/databases_no-backup/DeepMAsED/version2/real_data_eval/UHGG/LLMGQC_r100/final/ERS436831/R1_final.fq.gz\n",
       "    Read2                                                                                                                    \n",
       "1   /ebio/abt3_projects/databases_no-backup/DeepMAsED/version2/real_data_eval/UHGG/LLMGQC_r100/final/ERS473032/R2_final.fq.gz\n",
       "2   /ebio/abt3_projects/databases_no-backup/DeepMAsED/version2/real_data_eval/UHGG/LLMGQC_r100/final/ERS473044/R2_final.fq.gz\n",
       "⋮   ⋮                                                                                                                        \n",
       "179 /ebio/abt3_projects/databases_no-backup/DeepMAsED/version2/real_data_eval/UHGG/LLMGQC_r100/final/ERS436651/R2_final.fq.gz\n",
       "180 /ebio/abt3_projects/databases_no-backup/DeepMAsED/version2/real_data_eval/UHGG/LLMGQC_r100/final/ERS436831/R2_final.fq.gz\n",
       "    Read num_seqs sum_len    min_len avg_len max_len Q1  Q2  Q3  sum_gap N50\n",
       "1   1    18612357 1817926816 80      97.7    100      99 100 100 0       100\n",
       "2   1    26614864 2619657414 80      98.4    100     100 100 100 0       100\n",
       "⋮   ⋮    ⋮        ⋮          ⋮       ⋮       ⋮       ⋮   ⋮   ⋮   ⋮       ⋮  \n",
       "179 1     1609913  137419060 80      85.4    94      82  84  88  0       85 \n",
       "180 1    22645284 2059022203 80      90.9    92      89  92  92  0       92 \n",
       "    Q20... Q30...\n",
       "1   97.26  90.28 \n",
       "2   97.89  91.96 \n",
       "⋮   ⋮      ⋮     \n",
       "179 100    90.67 \n",
       "180 100    98.96 "
      ]
     },
     "metadata": {},
     "output_type": "display_data"
    }
   ],
   "source": [
    "# joining\n",
    "overlap(samps$Sample, stats$Sample)\n",
    "samps = samps %>%\n",
    "    inner_join.(stats, c('Sample'))\n",
    "samps"
   ]
  },
  {
   "cell_type": "code",
   "execution_count": 11,
   "metadata": {
    "ExecuteTime": {
     "end_time": "2022-02-06T14:10:26.614479Z",
     "start_time": "2022-02-06T14:10:25.965Z"
    }
   },
   "outputs": [
    {
     "data": {
      "text/html": [
       "<table class=\"dataframe\">\n",
       "<caption>A matrix: 1 × 8 of type dbl</caption>\n",
       "<thead>\n",
       "\t<tr><th></th><th scope=col>Min.</th><th scope=col>1st Qu.</th><th scope=col>Median</th><th scope=col>Mean</th><th scope=col>3rd Qu.</th><th scope=col>Max.</th><th scope=col>sd</th><th scope=col>sd_err_of_mean</th></tr>\n",
       "</thead>\n",
       "<tbody>\n",
       "\t<tr><th scope=row>num_seqs</th><td>1609913</td><td>10320880</td><td>20220708</td><td>23376298</td><td>28632253</td><td>401918652</td><td>31526112</td><td>12870481</td></tr>\n",
       "</tbody>\n",
       "</table>\n"
      ],
      "text/latex": [
       "A matrix: 1 × 8 of type dbl\n",
       "\\begin{tabular}{r|llllllll}\n",
       "  & Min. & 1st Qu. & Median & Mean & 3rd Qu. & Max. & sd & sd\\_err\\_of\\_mean\\\\\n",
       "\\hline\n",
       "\tnum\\_seqs & 1609913 & 10320880 & 20220708 & 23376298 & 28632253 & 401918652 & 31526112 & 12870481\\\\\n",
       "\\end{tabular}\n"
      ],
      "text/markdown": [
       "\n",
       "A matrix: 1 × 8 of type dbl\n",
       "\n",
       "| <!--/--> | Min. | 1st Qu. | Median | Mean | 3rd Qu. | Max. | sd | sd_err_of_mean |\n",
       "|---|---|---|---|---|---|---|---|---|\n",
       "| num_seqs | 1609913 | 10320880 | 20220708 | 23376298 | 28632253 | 401918652 | 31526112 | 12870481 |\n",
       "\n"
      ],
      "text/plain": [
       "         Min.    1st Qu.  Median   Mean     3rd Qu.  Max.      sd      \n",
       "num_seqs 1609913 10320880 20220708 23376298 28632253 401918652 31526112\n",
       "         sd_err_of_mean\n",
       "num_seqs 12870481      "
      ]
     },
     "metadata": {},
     "output_type": "display_data"
    }
   ],
   "source": [
    "summary_x(samps$num_seqs)"
   ]
  },
  {
   "cell_type": "markdown",
   "metadata": {},
   "source": [
    "# LLMGA: denovo"
   ]
  },
  {
   "cell_type": "markdown",
   "metadata": {},
   "source": [
    "### Selecting samples"
   ]
  },
  {
   "cell_type": "code",
   "execution_count": 12,
   "metadata": {
    "ExecuteTime": {
     "end_time": "2022-02-06T14:10:28.500552Z",
     "start_time": "2022-02-06T14:10:28.376Z"
    }
   },
   "outputs": [
    {
     "data": {
      "text/html": [
       "<table class=\"dataframe\">\n",
       "<caption>A matrix: 1 × 8 of type dbl</caption>\n",
       "<thead>\n",
       "\t<tr><th></th><th scope=col>Min.</th><th scope=col>1st Qu.</th><th scope=col>Median</th><th scope=col>Mean</th><th scope=col>3rd Qu.</th><th scope=col>Max.</th><th scope=col>sd</th><th scope=col>sd_err_of_mean</th></tr>\n",
       "</thead>\n",
       "<tbody>\n",
       "\t<tr><th scope=row>num_seqs</th><td>5377953</td><td>11048396</td><td>20232450</td><td>20952740</td><td>26762110</td><td>45580765</td><td>10508745</td><td>4290177</td></tr>\n",
       "</tbody>\n",
       "</table>\n"
      ],
      "text/latex": [
       "A matrix: 1 × 8 of type dbl\n",
       "\\begin{tabular}{r|llllllll}\n",
       "  & Min. & 1st Qu. & Median & Mean & 3rd Qu. & Max. & sd & sd\\_err\\_of\\_mean\\\\\n",
       "\\hline\n",
       "\tnum\\_seqs & 5377953 & 11048396 & 20232450 & 20952740 & 26762110 & 45580765 & 10508745 & 4290177\\\\\n",
       "\\end{tabular}\n"
      ],
      "text/markdown": [
       "\n",
       "A matrix: 1 × 8 of type dbl\n",
       "\n",
       "| <!--/--> | Min. | 1st Qu. | Median | Mean | 3rd Qu. | Max. | sd | sd_err_of_mean |\n",
       "|---|---|---|---|---|---|---|---|---|\n",
       "| num_seqs | 5377953 | 11048396 | 20232450 | 20952740 | 26762110 | 45580765 | 10508745 | 4290177 |\n",
       "\n"
      ],
      "text/plain": [
       "         Min.    1st Qu.  Median   Mean     3rd Qu.  Max.     sd      \n",
       "num_seqs 5377953 11048396 20232450 20952740 26762110 45580765 10508745\n",
       "         sd_err_of_mean\n",
       "num_seqs 4290177       "
      ]
     },
     "metadata": {},
     "output_type": "display_data"
    },
    {
     "data": {
      "text/html": [
       "<table class=\"dataframe\">\n",
       "<caption>A tidytable: 100 × 17</caption>\n",
       "<thead>\n",
       "\t<tr><th scope=col>Sample</th><th scope=col>Read1</th><th scope=col>Read2</th><th scope=col>Read</th><th scope=col>num_seqs</th><th scope=col>sum_len</th><th scope=col>min_len</th><th scope=col>avg_len</th><th scope=col>max_len</th><th scope=col>Q1</th><th scope=col>Q2</th><th scope=col>Q3</th><th scope=col>sum_gap</th><th scope=col>N50</th><th scope=col>Q20...</th><th scope=col>Q30...</th><th scope=col>X</th></tr>\n",
       "\t<tr><th scope=col>&lt;chr&gt;</th><th scope=col>&lt;chr&gt;</th><th scope=col>&lt;chr&gt;</th><th scope=col>&lt;int&gt;</th><th scope=col>&lt;int&gt;</th><th scope=col>&lt;int64&gt;</th><th scope=col>&lt;int&gt;</th><th scope=col>&lt;dbl&gt;</th><th scope=col>&lt;int&gt;</th><th scope=col>&lt;dbl&gt;</th><th scope=col>&lt;dbl&gt;</th><th scope=col>&lt;dbl&gt;</th><th scope=col>&lt;int&gt;</th><th scope=col>&lt;int&gt;</th><th scope=col>&lt;dbl&gt;</th><th scope=col>&lt;dbl&gt;</th><th scope=col>&lt;int&gt;</th></tr>\n",
       "</thead>\n",
       "<tbody>\n",
       "\t<tr><td>ERS473032</td><td>/ebio/abt3_projects/databases_no-backup/DeepMAsED/version2/real_data_eval/UHGG/LLMGQC_r100/final/ERS473032/R1_final.fq.gz</td><td>/ebio/abt3_projects/databases_no-backup/DeepMAsED/version2/real_data_eval/UHGG/LLMGQC_r100/final/ERS473032/R2_final.fq.gz</td><td>1</td><td>18612357</td><td>1817926816</td><td>80</td><td>97.7</td><td>100</td><td> 99</td><td>100</td><td>100</td><td>0</td><td>100</td><td>97.26</td><td>90.28</td><td> 7</td></tr>\n",
       "\t<tr><td>ERS473044</td><td>/ebio/abt3_projects/databases_no-backup/DeepMAsED/version2/real_data_eval/UHGG/LLMGQC_r100/final/ERS473044/R1_final.fq.gz</td><td>/ebio/abt3_projects/databases_no-backup/DeepMAsED/version2/real_data_eval/UHGG/LLMGQC_r100/final/ERS473044/R2_final.fq.gz</td><td>1</td><td>26614864</td><td>2619657414</td><td>80</td><td>98.4</td><td>100</td><td>100</td><td>100</td><td>100</td><td>0</td><td>100</td><td>97.89</td><td>91.96</td><td>91</td></tr>\n",
       "\t<tr><td>⋮</td><td>⋮</td><td>⋮</td><td>⋮</td><td>⋮</td><td>⋮</td><td>⋮</td><td>⋮</td><td>⋮</td><td>⋮</td><td>⋮</td><td>⋮</td><td>⋮</td><td>⋮</td><td>⋮</td><td>⋮</td><td>⋮</td></tr>\n",
       "\t<tr><td>ERS436684</td><td>/ebio/abt3_projects/databases_no-backup/DeepMAsED/version2/real_data_eval/UHGG/LLMGQC_r100/final/ERS436684/R1_final.fq.gz</td><td>/ebio/abt3_projects/databases_no-backup/DeepMAsED/version2/real_data_eval/UHGG/LLMGQC_r100/final/ERS436684/R2_final.fq.gz</td><td>1</td><td>31151333</td><td>2845442695</td><td>80</td><td>91.3</td><td>92</td><td>92</td><td>92</td><td>92</td><td>0</td><td>92</td><td>100</td><td>98.60</td><td>98</td></tr>\n",
       "\t<tr><td>ERS436831</td><td>/ebio/abt3_projects/databases_no-backup/DeepMAsED/version2/real_data_eval/UHGG/LLMGQC_r100/final/ERS436831/R1_final.fq.gz</td><td>/ebio/abt3_projects/databases_no-backup/DeepMAsED/version2/real_data_eval/UHGG/LLMGQC_r100/final/ERS436831/R2_final.fq.gz</td><td>1</td><td>22645284</td><td>2059022203</td><td>80</td><td>90.9</td><td>92</td><td>89</td><td>92</td><td>92</td><td>0</td><td>92</td><td>100</td><td>98.96</td><td>74</td></tr>\n",
       "</tbody>\n",
       "</table>\n"
      ],
      "text/latex": [
       "A tidytable: 100 × 17\n",
       "\\begin{tabular}{lllllllllllllllll}\n",
       " Sample & Read1 & Read2 & Read & num\\_seqs & sum\\_len & min\\_len & avg\\_len & max\\_len & Q1 & Q2 & Q3 & sum\\_gap & N50 & Q20... & Q30... & X\\\\\n",
       " <chr> & <chr> & <chr> & <int> & <int> & <int64> & <int> & <dbl> & <int> & <dbl> & <dbl> & <dbl> & <int> & <int> & <dbl> & <dbl> & <int>\\\\\n",
       "\\hline\n",
       "\t ERS473032 & /ebio/abt3\\_projects/databases\\_no-backup/DeepMAsED/version2/real\\_data\\_eval/UHGG/LLMGQC\\_r100/final/ERS473032/R1\\_final.fq.gz & /ebio/abt3\\_projects/databases\\_no-backup/DeepMAsED/version2/real\\_data\\_eval/UHGG/LLMGQC\\_r100/final/ERS473032/R2\\_final.fq.gz & 1 & 18612357 & 1817926816 & 80 & 97.7 & 100 &  99 & 100 & 100 & 0 & 100 & 97.26 & 90.28 &  7\\\\\n",
       "\t ERS473044 & /ebio/abt3\\_projects/databases\\_no-backup/DeepMAsED/version2/real\\_data\\_eval/UHGG/LLMGQC\\_r100/final/ERS473044/R1\\_final.fq.gz & /ebio/abt3\\_projects/databases\\_no-backup/DeepMAsED/version2/real\\_data\\_eval/UHGG/LLMGQC\\_r100/final/ERS473044/R2\\_final.fq.gz & 1 & 26614864 & 2619657414 & 80 & 98.4 & 100 & 100 & 100 & 100 & 0 & 100 & 97.89 & 91.96 & 91\\\\\n",
       "\t ⋮ & ⋮ & ⋮ & ⋮ & ⋮ & ⋮ & ⋮ & ⋮ & ⋮ & ⋮ & ⋮ & ⋮ & ⋮ & ⋮ & ⋮ & ⋮ & ⋮\\\\\n",
       "\t ERS436684 & /ebio/abt3\\_projects/databases\\_no-backup/DeepMAsED/version2/real\\_data\\_eval/UHGG/LLMGQC\\_r100/final/ERS436684/R1\\_final.fq.gz & /ebio/abt3\\_projects/databases\\_no-backup/DeepMAsED/version2/real\\_data\\_eval/UHGG/LLMGQC\\_r100/final/ERS436684/R2\\_final.fq.gz & 1 & 31151333 & 2845442695 & 80 & 91.3 & 92 & 92 & 92 & 92 & 0 & 92 & 100 & 98.60 & 98\\\\\n",
       "\t ERS436831 & /ebio/abt3\\_projects/databases\\_no-backup/DeepMAsED/version2/real\\_data\\_eval/UHGG/LLMGQC\\_r100/final/ERS436831/R1\\_final.fq.gz & /ebio/abt3\\_projects/databases\\_no-backup/DeepMAsED/version2/real\\_data\\_eval/UHGG/LLMGQC\\_r100/final/ERS436831/R2\\_final.fq.gz & 1 & 22645284 & 2059022203 & 80 & 90.9 & 92 & 89 & 92 & 92 & 0 & 92 & 100 & 98.96 & 74\\\\\n",
       "\\end{tabular}\n"
      ],
      "text/markdown": [
       "\n",
       "A tidytable: 100 × 17\n",
       "\n",
       "| Sample &lt;chr&gt; | Read1 &lt;chr&gt; | Read2 &lt;chr&gt; | Read &lt;int&gt; | num_seqs &lt;int&gt; | sum_len &lt;int64&gt; | min_len &lt;int&gt; | avg_len &lt;dbl&gt; | max_len &lt;int&gt; | Q1 &lt;dbl&gt; | Q2 &lt;dbl&gt; | Q3 &lt;dbl&gt; | sum_gap &lt;int&gt; | N50 &lt;int&gt; | Q20... &lt;dbl&gt; | Q30... &lt;dbl&gt; | X &lt;int&gt; |\n",
       "|---|---|---|---|---|---|---|---|---|---|---|---|---|---|---|---|---|\n",
       "| ERS473032 | /ebio/abt3_projects/databases_no-backup/DeepMAsED/version2/real_data_eval/UHGG/LLMGQC_r100/final/ERS473032/R1_final.fq.gz | /ebio/abt3_projects/databases_no-backup/DeepMAsED/version2/real_data_eval/UHGG/LLMGQC_r100/final/ERS473032/R2_final.fq.gz | 1 | 18612357 | 1817926816 | 80 | 97.7 | 100 |  99 | 100 | 100 | 0 | 100 | 97.26 | 90.28 |  7 |\n",
       "| ERS473044 | /ebio/abt3_projects/databases_no-backup/DeepMAsED/version2/real_data_eval/UHGG/LLMGQC_r100/final/ERS473044/R1_final.fq.gz | /ebio/abt3_projects/databases_no-backup/DeepMAsED/version2/real_data_eval/UHGG/LLMGQC_r100/final/ERS473044/R2_final.fq.gz | 1 | 26614864 | 2619657414 | 80 | 98.4 | 100 | 100 | 100 | 100 | 0 | 100 | 97.89 | 91.96 | 91 |\n",
       "| ⋮ | ⋮ | ⋮ | ⋮ | ⋮ | ⋮ | ⋮ | ⋮ | ⋮ | ⋮ | ⋮ | ⋮ | ⋮ | ⋮ | ⋮ | ⋮ | ⋮ |\n",
       "| ERS436684 | /ebio/abt3_projects/databases_no-backup/DeepMAsED/version2/real_data_eval/UHGG/LLMGQC_r100/final/ERS436684/R1_final.fq.gz | /ebio/abt3_projects/databases_no-backup/DeepMAsED/version2/real_data_eval/UHGG/LLMGQC_r100/final/ERS436684/R2_final.fq.gz | 1 | 31151333 | 2845442695 | 80 | 91.3 | 92 | 92 | 92 | 92 | 0 | 92 | 100 | 98.60 | 98 |\n",
       "| ERS436831 | /ebio/abt3_projects/databases_no-backup/DeepMAsED/version2/real_data_eval/UHGG/LLMGQC_r100/final/ERS436831/R1_final.fq.gz | /ebio/abt3_projects/databases_no-backup/DeepMAsED/version2/real_data_eval/UHGG/LLMGQC_r100/final/ERS436831/R2_final.fq.gz | 1 | 22645284 | 2059022203 | 80 | 90.9 | 92 | 89 | 92 | 92 | 0 | 92 | 100 | 98.96 | 74 |\n",
       "\n"
      ],
      "text/plain": [
       "    Sample   \n",
       "1   ERS473032\n",
       "2   ERS473044\n",
       "⋮   ⋮        \n",
       "99  ERS436684\n",
       "100 ERS436831\n",
       "    Read1                                                                                                                    \n",
       "1   /ebio/abt3_projects/databases_no-backup/DeepMAsED/version2/real_data_eval/UHGG/LLMGQC_r100/final/ERS473032/R1_final.fq.gz\n",
       "2   /ebio/abt3_projects/databases_no-backup/DeepMAsED/version2/real_data_eval/UHGG/LLMGQC_r100/final/ERS473044/R1_final.fq.gz\n",
       "⋮   ⋮                                                                                                                        \n",
       "99  /ebio/abt3_projects/databases_no-backup/DeepMAsED/version2/real_data_eval/UHGG/LLMGQC_r100/final/ERS436684/R1_final.fq.gz\n",
       "100 /ebio/abt3_projects/databases_no-backup/DeepMAsED/version2/real_data_eval/UHGG/LLMGQC_r100/final/ERS436831/R1_final.fq.gz\n",
       "    Read2                                                                                                                    \n",
       "1   /ebio/abt3_projects/databases_no-backup/DeepMAsED/version2/real_data_eval/UHGG/LLMGQC_r100/final/ERS473032/R2_final.fq.gz\n",
       "2   /ebio/abt3_projects/databases_no-backup/DeepMAsED/version2/real_data_eval/UHGG/LLMGQC_r100/final/ERS473044/R2_final.fq.gz\n",
       "⋮   ⋮                                                                                                                        \n",
       "99  /ebio/abt3_projects/databases_no-backup/DeepMAsED/version2/real_data_eval/UHGG/LLMGQC_r100/final/ERS436684/R2_final.fq.gz\n",
       "100 /ebio/abt3_projects/databases_no-backup/DeepMAsED/version2/real_data_eval/UHGG/LLMGQC_r100/final/ERS436831/R2_final.fq.gz\n",
       "    Read num_seqs sum_len    min_len avg_len max_len Q1  Q2  Q3  sum_gap N50\n",
       "1   1    18612357 1817926816 80      97.7    100      99 100 100 0       100\n",
       "2   1    26614864 2619657414 80      98.4    100     100 100 100 0       100\n",
       "⋮   ⋮    ⋮        ⋮          ⋮       ⋮       ⋮       ⋮   ⋮   ⋮   ⋮       ⋮  \n",
       "99  1    31151333 2845442695 80      91.3    92      92  92  92  0       92 \n",
       "100 1    22645284 2059022203 80      90.9    92      89  92  92  0       92 \n",
       "    Q20... Q30... X \n",
       "1   97.26  90.28   7\n",
       "2   97.89  91.96  91\n",
       "⋮   ⋮      ⋮      ⋮ \n",
       "99  100    98.60  98\n",
       "100 100    98.96  74"
      ]
     },
     "metadata": {},
     "output_type": "display_data"
    }
   ],
   "source": [
    "samps_f = samps %>%\n",
    "    filter.(num_seqs >= 5e6, num_seqs <= 80e6) %>%\n",
    "    mutate.(X = sample(1:length(Read1), length(Read1))) %>%\n",
    "    filter.(X <= 100)\n",
    "summary_x(samps_f$num_seqs)\n",
    "samps_f"
   ]
  },
  {
   "cell_type": "code",
   "execution_count": 13,
   "metadata": {
    "ExecuteTime": {
     "end_time": "2022-02-06T14:10:52.817806Z",
     "start_time": "2022-02-06T14:10:52.669Z"
    }
   },
   "outputs": [
    {
     "name": "stdout",
     "output_type": "stream",
     "text": [
      "File written: /ebio/abt3_projects/databases_no-backup/DeepMAsED/version2/real_data_eval/UHGG/LLMGQC_r100/LLMGA//samples.tsv \n"
     ]
    }
   ],
   "source": [
    "F = file.path(work_dir, 'samples.tsv')\n",
    "write_table(samps_f, F)"
   ]
  },
  {
   "cell_type": "markdown",
   "metadata": {},
   "source": [
    "### Config"
   ]
  },
  {
   "cell_type": "code",
   "execution_count": 32,
   "metadata": {
    "ExecuteTime": {
     "end_time": "2022-02-12T12:48:23.034238Z",
     "start_time": "2022-02-12T12:48:23.022Z"
    }
   },
   "outputs": [
    {
     "name": "stdout",
     "output_type": "stream",
     "text": [
      "#-- I/O --#\n",
      "# table with sample --> read_file information\n",
      "samples_file: /ebio/abt3_projects/databases_no-backup/DeepMAsED/version2/real_data_eval/UHGG/LLMGQC_r100/LLMGA/samples.tsv\n",
      "\n",
      "# output location\n",
      "output_dir: /ebio/abt3_projects/databases_no-backup/DeepMAsED/version2/real_data_eval/UHGG/LLMGQC_r100/LLMGA/\n",
      "\n",
      "# temporary file directory (your username will be added automatically)\n",
      "tmp_dir: /ebio/abt3_scratch/\n",
      "\n",
      "#-- reference genomes for metacompass --#\n",
      "metacompass_ref: /ebio/abt3_projects/Anxiety_Twins_Metagenomes/data/metagenome/TUKMZ-BGI250/llmga-find-refs/references/drep/dereplicated_genomes.fna\n",
      "\n",
      "#-- master control --#\n",
      "# which major parts of the pipline to run \n",
      "run_assembly: True\n",
      "run_binning: False\n",
      "run_other_assembly: False\n",
      "\n",
      "#-- software parameters --#\n",
      "# Notes:\n",
      "## see \"Notes on the `config.yaml` file\" in the README\n",
      "params:\n",
      "  # raw reads\n",
      "  ionice: -c 3\n",
      "  reads:\n",
      "    subsample: 40000000\n",
      "    fastqc: \"\"  \n",
      "  # metacompass (per-sample ref-based assembly); skipped if using graphbin2\n",
      "  metacompass:\n",
      "    buildcontig: Skip #--pickref breadth --mincov 3 -l 1000 -n T -b F -u F\n",
      "    pilon: \"\"\n",
      "  # denovo per-sample assembly (unmapped if metacompass used, else all reads)\n",
      "  denovo_assembly:\n",
      "    metaspades: -k auto --only-assembler\n",
      "    megahit: Skip #--min-count 3 --min-contig-len 500 --presets meta-sensitive\n",
      "  # combined, final contigs\n",
      "  final_contigs:\n",
      "    derep_contigs: minidentity=100 minscaf=1000 minoverlappercent=95\n",
      "    contig_rename: \"\"\n",
      "    min_contig_len: 1000            # min contig length retained\n",
      "    metaquast: Skip #--max-ref-number 0   # job run on rick to use internet if `--max-ref-number` > 0\n",
      "  # contig binning\n",
      "  binning:\n",
      "    subsample: 5000000       # how many reads per sample to use for dif-cov binning?\n",
      "    # mapping\n",
      "    map:\n",
      "      num_map_samples: 40    # how many samples to use for dif-cov. binning ('all' = all samples)\n",
      "      minimap2:\n",
      "        index: -k 15 -w 10 -I 12G\n",
      "        map: -N 5 -F 800\n",
      "      samtools_view: -q 0 -F 3584                 # -q = MAPQ cutoff\n",
      "      bam_to_depth: --percentIdentity 97\n",
      "      keep_bam: False                       # keep all BAM files?\n",
      "    # binning\n",
      "    binners:\n",
      "      maxbin2:\n",
      "        Low: -min_contig_length 1500 -markerset 40 -prob_threshold 0.6\n",
      "        Med: -min_contig_length 1500 -markerset 40 -prob_threshold 0.7\n",
      "        High: -min_contig_length 1500 -markerset 40 -prob_threshold 0.8\n",
      "      metabat2:\n",
      "        Low: --minContig 1500 --minCV 0.5 --minCVSum 0.5 --maxP 92\n",
      "             --maxEdges 150 --seed 8394\n",
      "        Med: --minContig 1500 --minCV 0.5 --minCVSum 0.5 --maxP 94\n",
      "             --maxEdges 325 --seed 8394\n",
      "        High: --minContig 1500 --minCV 0.5 --minCVSum 0.5 --maxP 97\n",
      "              --maxEdges 500 --seed 8394\n",
      "        LowNoCov: --minContig 1500 --minCV 0.5 --minCVSum 0.5 --maxP 92\n",
      "                  --maxEdges 150 --seed 8394 NOCOV\n",
      "        MedNoCov: --minContig 1500 --minCV 0.5 --minCVSum 0.5 --maxP 94\n",
      "                  --maxEdges 325 --seed 8394 NOCOV\n",
      "        HighNoCov: --minContig 1500 --minCV 0.5 --minCVSum 0.5 --maxP 97\n",
      "                   --maxEdges 500 --seed 8394 NOCOV\n",
      "      vamb:\n",
      "        Low: -c 10000 -m 1500 -l 24 -n 384 384\n",
      "        Med: -c 10000 -m 1500 -l 32 -n 512 512\n",
      "        High: -c 10000 -m 1500 -l 40 -n 768 768\n",
      "    # selecting final bins (MAGs)\n",
      "    select:\n",
      "      das_tool: --search_engine diamond\n",
      "      genome_table: \"\"\n",
      "  # denovo assembly of other genetic components\n",
      "  denovo_other_assembly:\n",
      "    min_contig_len: 1000\n",
      "    metaplasmidspades: -k auto --only-assembler\n",
      "    metabiosyntheticspades: -k auto --only-assembler\n",
      "  \n",
      "#-- snakemake pipeline --#\n",
      "pipeline:\n",
      "  snakemake_folder: ./\n",
      "  script_folder: bin/scripts/\n",
      "  random_number_seed: 83421\n",
      "  name: LLMGA\n"
     ]
    }
   ],
   "source": [
    "F = file.path(work_dir, 'config_denovo.yaml')\n",
    "cat_file(F)"
   ]
  },
  {
   "cell_type": "markdown",
   "metadata": {},
   "source": [
    "### Run"
   ]
  },
  {
   "cell_type": "markdown",
   "metadata": {},
   "source": [
    "```\n",
    "(snakemake) @ rick:/tmp/global2/nyoungblut/code/dev/ll_pipelines/llmga\n",
    "$ screen -L -S llmga-uhgg ./snakemake_sge.sh /ebio/abt3_projects/databases_no-backup/DeepMAsED/version2/real_data_eval/UHGG/LLMGQC_r100/LLMGA/config_denovo.yaml 35 -F\n",
    "```"
   ]
  },
  {
   "cell_type": "markdown",
   "metadata": {},
   "source": [
    "## Summary"
   ]
  },
  {
   "cell_type": "code",
   "execution_count": 17,
   "metadata": {
    "ExecuteTime": {
     "end_time": "2022-02-07T05:09:21.490107Z",
     "start_time": "2022-02-07T05:09:21.387Z"
    }
   },
   "outputs": [
    {
     "data": {
      "text/html": [
       "<table class=\"dataframe\">\n",
       "<caption>A data.table: 100 × 16</caption>\n",
       "<thead>\n",
       "\t<tr><th scope=col>Sample</th><th scope=col>file</th><th scope=col>format</th><th scope=col>type</th><th scope=col>num_seqs</th><th scope=col>sum_len</th><th scope=col>min_len</th><th scope=col>avg_len</th><th scope=col>max_len</th><th scope=col>Q1</th><th scope=col>Q2</th><th scope=col>Q3</th><th scope=col>sum_gap</th><th scope=col>N50</th><th scope=col>Q20...</th><th scope=col>Q30...</th></tr>\n",
       "\t<tr><th scope=col>&lt;chr&gt;</th><th scope=col>&lt;chr&gt;</th><th scope=col>&lt;chr&gt;</th><th scope=col>&lt;chr&gt;</th><th scope=col>&lt;int&gt;</th><th scope=col>&lt;int&gt;</th><th scope=col>&lt;int&gt;</th><th scope=col>&lt;dbl&gt;</th><th scope=col>&lt;int&gt;</th><th scope=col>&lt;dbl&gt;</th><th scope=col>&lt;dbl&gt;</th><th scope=col>&lt;dbl&gt;</th><th scope=col>&lt;int&gt;</th><th scope=col>&lt;int&gt;</th><th scope=col>&lt;dbl&gt;</th><th scope=col>&lt;dbl&gt;</th></tr>\n",
       "</thead>\n",
       "<tbody>\n",
       "\t<tr><td>ERS473032</td><td>/ebio/abt3_scratch/nyoungblut/LLMGA_122597181487/all_contigs/ERS473032/contigs_final.fasta</td><td>FASTA</td><td>DNA</td><td>51274</td><td>161674997</td><td>1000</td><td>3153.2</td><td>291214</td><td>1250</td><td>1713</td><td>2902</td><td>0</td><td> 4467</td><td>0</td><td>0</td></tr>\n",
       "\t<tr><td>ERS473044</td><td>/ebio/abt3_scratch/nyoungblut/LLMGA_122597181487/all_contigs/ERS473044/contigs_final.fasta</td><td>FASTA</td><td>DNA</td><td>11630</td><td> 80568942</td><td>1000</td><td>6927.7</td><td>379294</td><td>1341</td><td>1994</td><td>4188</td><td>0</td><td>31304</td><td>0</td><td>0</td></tr>\n",
       "\t<tr><td>⋮</td><td>⋮</td><td>⋮</td><td>⋮</td><td>⋮</td><td>⋮</td><td>⋮</td><td>⋮</td><td>⋮</td><td>⋮</td><td>⋮</td><td>⋮</td><td>⋮</td><td>⋮</td><td>⋮</td><td>⋮</td></tr>\n",
       "\t<tr><td>ERS436684</td><td>/ebio/abt3_scratch/nyoungblut/LLMGA_122597181487/all_contigs/ERS436684/contigs_final.fasta</td><td>FASTA</td><td>DNA</td><td>47759</td><td>182157725</td><td>1000</td><td>3814.1</td><td>399803</td><td>1270</td><td>1768</td><td>3149</td><td>0</td><td>6858</td><td>0</td><td>0</td></tr>\n",
       "\t<tr><td>ERS436831</td><td>/ebio/abt3_scratch/nyoungblut/LLMGA_122597181487/all_contigs/ERS436831/contigs_final.fasta</td><td>FASTA</td><td>DNA</td><td>39281</td><td>161830209</td><td>1000</td><td>4119.8</td><td>516565</td><td>1277</td><td>1805</td><td>3290</td><td>0</td><td>8145</td><td>0</td><td>0</td></tr>\n",
       "</tbody>\n",
       "</table>\n"
      ],
      "text/latex": [
       "A data.table: 100 × 16\n",
       "\\begin{tabular}{llllllllllllllll}\n",
       " Sample & file & format & type & num\\_seqs & sum\\_len & min\\_len & avg\\_len & max\\_len & Q1 & Q2 & Q3 & sum\\_gap & N50 & Q20... & Q30...\\\\\n",
       " <chr> & <chr> & <chr> & <chr> & <int> & <int> & <int> & <dbl> & <int> & <dbl> & <dbl> & <dbl> & <int> & <int> & <dbl> & <dbl>\\\\\n",
       "\\hline\n",
       "\t ERS473032 & /ebio/abt3\\_scratch/nyoungblut/LLMGA\\_122597181487/all\\_contigs/ERS473032/contigs\\_final.fasta & FASTA & DNA & 51274 & 161674997 & 1000 & 3153.2 & 291214 & 1250 & 1713 & 2902 & 0 &  4467 & 0 & 0\\\\\n",
       "\t ERS473044 & /ebio/abt3\\_scratch/nyoungblut/LLMGA\\_122597181487/all\\_contigs/ERS473044/contigs\\_final.fasta & FASTA & DNA & 11630 &  80568942 & 1000 & 6927.7 & 379294 & 1341 & 1994 & 4188 & 0 & 31304 & 0 & 0\\\\\n",
       "\t ⋮ & ⋮ & ⋮ & ⋮ & ⋮ & ⋮ & ⋮ & ⋮ & ⋮ & ⋮ & ⋮ & ⋮ & ⋮ & ⋮ & ⋮ & ⋮\\\\\n",
       "\t ERS436684 & /ebio/abt3\\_scratch/nyoungblut/LLMGA\\_122597181487/all\\_contigs/ERS436684/contigs\\_final.fasta & FASTA & DNA & 47759 & 182157725 & 1000 & 3814.1 & 399803 & 1270 & 1768 & 3149 & 0 & 6858 & 0 & 0\\\\\n",
       "\t ERS436831 & /ebio/abt3\\_scratch/nyoungblut/LLMGA\\_122597181487/all\\_contigs/ERS436831/contigs\\_final.fasta & FASTA & DNA & 39281 & 161830209 & 1000 & 4119.8 & 516565 & 1277 & 1805 & 3290 & 0 & 8145 & 0 & 0\\\\\n",
       "\\end{tabular}\n"
      ],
      "text/markdown": [
       "\n",
       "A data.table: 100 × 16\n",
       "\n",
       "| Sample &lt;chr&gt; | file &lt;chr&gt; | format &lt;chr&gt; | type &lt;chr&gt; | num_seqs &lt;int&gt; | sum_len &lt;int&gt; | min_len &lt;int&gt; | avg_len &lt;dbl&gt; | max_len &lt;int&gt; | Q1 &lt;dbl&gt; | Q2 &lt;dbl&gt; | Q3 &lt;dbl&gt; | sum_gap &lt;int&gt; | N50 &lt;int&gt; | Q20... &lt;dbl&gt; | Q30... &lt;dbl&gt; |\n",
       "|---|---|---|---|---|---|---|---|---|---|---|---|---|---|---|---|\n",
       "| ERS473032 | /ebio/abt3_scratch/nyoungblut/LLMGA_122597181487/all_contigs/ERS473032/contigs_final.fasta | FASTA | DNA | 51274 | 161674997 | 1000 | 3153.2 | 291214 | 1250 | 1713 | 2902 | 0 |  4467 | 0 | 0 |\n",
       "| ERS473044 | /ebio/abt3_scratch/nyoungblut/LLMGA_122597181487/all_contigs/ERS473044/contigs_final.fasta | FASTA | DNA | 11630 |  80568942 | 1000 | 6927.7 | 379294 | 1341 | 1994 | 4188 | 0 | 31304 | 0 | 0 |\n",
       "| ⋮ | ⋮ | ⋮ | ⋮ | ⋮ | ⋮ | ⋮ | ⋮ | ⋮ | ⋮ | ⋮ | ⋮ | ⋮ | ⋮ | ⋮ | ⋮ |\n",
       "| ERS436684 | /ebio/abt3_scratch/nyoungblut/LLMGA_122597181487/all_contigs/ERS436684/contigs_final.fasta | FASTA | DNA | 47759 | 182157725 | 1000 | 3814.1 | 399803 | 1270 | 1768 | 3149 | 0 | 6858 | 0 | 0 |\n",
       "| ERS436831 | /ebio/abt3_scratch/nyoungblut/LLMGA_122597181487/all_contigs/ERS436831/contigs_final.fasta | FASTA | DNA | 39281 | 161830209 | 1000 | 4119.8 | 516565 | 1277 | 1805 | 3290 | 0 | 8145 | 0 | 0 |\n",
       "\n"
      ],
      "text/plain": [
       "    Sample   \n",
       "1   ERS473032\n",
       "2   ERS473044\n",
       "⋮   ⋮        \n",
       "99  ERS436684\n",
       "100 ERS436831\n",
       "    file                                                                                      \n",
       "1   /ebio/abt3_scratch/nyoungblut/LLMGA_122597181487/all_contigs/ERS473032/contigs_final.fasta\n",
       "2   /ebio/abt3_scratch/nyoungblut/LLMGA_122597181487/all_contigs/ERS473044/contigs_final.fasta\n",
       "⋮   ⋮                                                                                         \n",
       "99  /ebio/abt3_scratch/nyoungblut/LLMGA_122597181487/all_contigs/ERS436684/contigs_final.fasta\n",
       "100 /ebio/abt3_scratch/nyoungblut/LLMGA_122597181487/all_contigs/ERS436831/contigs_final.fasta\n",
       "    format type num_seqs sum_len   min_len avg_len max_len Q1   Q2   Q3  \n",
       "1   FASTA  DNA  51274    161674997 1000    3153.2  291214  1250 1713 2902\n",
       "2   FASTA  DNA  11630     80568942 1000    6927.7  379294  1341 1994 4188\n",
       "⋮   ⋮      ⋮    ⋮        ⋮         ⋮       ⋮       ⋮       ⋮    ⋮    ⋮   \n",
       "99  FASTA  DNA  47759    182157725 1000    3814.1  399803  1270 1768 3149\n",
       "100 FASTA  DNA  39281    161830209 1000    4119.8  516565  1277 1805 3290\n",
       "    sum_gap N50   Q20... Q30...\n",
       "1   0        4467 0      0     \n",
       "2   0       31304 0      0     \n",
       "⋮   ⋮       ⋮     ⋮      ⋮     \n",
       "99  0       6858  0      0     \n",
       "100 0       8145  0      0     "
      ]
     },
     "metadata": {},
     "output_type": "display_data"
    }
   ],
   "source": [
    "F = file.path(work_dir, 'final_contigs', 'contig_stats.tsv')\n",
    "stats = Fread(F)\n",
    "stats"
   ]
  },
  {
   "cell_type": "code",
   "execution_count": 18,
   "metadata": {
    "ExecuteTime": {
     "end_time": "2022-02-07T05:09:58.175000Z",
     "start_time": "2022-02-07T05:09:58.063Z"
    }
   },
   "outputs": [
    {
     "data": {
      "text/html": [
       "<table class=\"dataframe\">\n",
       "<caption>A matrix: 1 × 8 of type dbl</caption>\n",
       "<thead>\n",
       "\t<tr><th></th><th scope=col>Min.</th><th scope=col>1st Qu.</th><th scope=col>Median</th><th scope=col>Mean</th><th scope=col>3rd Qu.</th><th scope=col>Max.</th><th scope=col>sd</th><th scope=col>sd_err_of_mean</th></tr>\n",
       "</thead>\n",
       "<tbody>\n",
       "\t<tr><th scope=row>num_seqs</th><td>1528</td><td>17587.75</td><td>29000.5</td><td>30610.16</td><td>40679.25</td><td>91830</td><td>16110.39</td><td>6577.04</td></tr>\n",
       "</tbody>\n",
       "</table>\n"
      ],
      "text/latex": [
       "A matrix: 1 × 8 of type dbl\n",
       "\\begin{tabular}{r|llllllll}\n",
       "  & Min. & 1st Qu. & Median & Mean & 3rd Qu. & Max. & sd & sd\\_err\\_of\\_mean\\\\\n",
       "\\hline\n",
       "\tnum\\_seqs & 1528 & 17587.75 & 29000.5 & 30610.16 & 40679.25 & 91830 & 16110.39 & 6577.04\\\\\n",
       "\\end{tabular}\n"
      ],
      "text/markdown": [
       "\n",
       "A matrix: 1 × 8 of type dbl\n",
       "\n",
       "| <!--/--> | Min. | 1st Qu. | Median | Mean | 3rd Qu. | Max. | sd | sd_err_of_mean |\n",
       "|---|---|---|---|---|---|---|---|---|\n",
       "| num_seqs | 1528 | 17587.75 | 29000.5 | 30610.16 | 40679.25 | 91830 | 16110.39 | 6577.04 |\n",
       "\n"
      ],
      "text/plain": [
       "         Min. 1st Qu.  Median  Mean     3rd Qu.  Max.  sd       sd_err_of_mean\n",
       "num_seqs 1528 17587.75 29000.5 30610.16 40679.25 91830 16110.39 6577.04       "
      ]
     },
     "metadata": {},
     "output_type": "display_data"
    },
    {
     "data": {
      "text/html": [
       "<table class=\"dataframe\">\n",
       "<caption>A matrix: 1 × 8 of type dbl</caption>\n",
       "<thead>\n",
       "\t<tr><th></th><th scope=col>Min.</th><th scope=col>1st Qu.</th><th scope=col>Median</th><th scope=col>Mean</th><th scope=col>3rd Qu.</th><th scope=col>Max.</th><th scope=col>sd</th><th scope=col>sd_err_of_mean</th></tr>\n",
       "</thead>\n",
       "<tbody>\n",
       "\t<tr><th scope=row>min_len</th><td>1000</td><td>1000</td><td>1000</td><td>1000</td><td>1000</td><td>1000</td><td>0</td><td>0</td></tr>\n",
       "</tbody>\n",
       "</table>\n"
      ],
      "text/latex": [
       "A matrix: 1 × 8 of type dbl\n",
       "\\begin{tabular}{r|llllllll}\n",
       "  & Min. & 1st Qu. & Median & Mean & 3rd Qu. & Max. & sd & sd\\_err\\_of\\_mean\\\\\n",
       "\\hline\n",
       "\tmin\\_len & 1000 & 1000 & 1000 & 1000 & 1000 & 1000 & 0 & 0\\\\\n",
       "\\end{tabular}\n"
      ],
      "text/markdown": [
       "\n",
       "A matrix: 1 × 8 of type dbl\n",
       "\n",
       "| <!--/--> | Min. | 1st Qu. | Median | Mean | 3rd Qu. | Max. | sd | sd_err_of_mean |\n",
       "|---|---|---|---|---|---|---|---|---|\n",
       "| min_len | 1000 | 1000 | 1000 | 1000 | 1000 | 1000 | 0 | 0 |\n",
       "\n"
      ],
      "text/plain": [
       "        Min. 1st Qu. Median Mean 3rd Qu. Max. sd sd_err_of_mean\n",
       "min_len 1000 1000    1000   1000 1000    1000 0  0             "
      ]
     },
     "metadata": {},
     "output_type": "display_data"
    },
    {
     "data": {
      "text/html": [
       "<table class=\"dataframe\">\n",
       "<caption>A matrix: 1 × 8 of type dbl</caption>\n",
       "<thead>\n",
       "\t<tr><th></th><th scope=col>Min.</th><th scope=col>1st Qu.</th><th scope=col>Median</th><th scope=col>Mean</th><th scope=col>3rd Qu.</th><th scope=col>Max.</th><th scope=col>sd</th><th scope=col>sd_err_of_mean</th></tr>\n",
       "</thead>\n",
       "<tbody>\n",
       "\t<tr><th scope=row>avg_len</th><td>2504.2</td><td>3504.4</td><td>4165.8</td><td>4431.823</td><td>4916.075</td><td>13159.4</td><td>1421.989</td><td>580.525</td></tr>\n",
       "</tbody>\n",
       "</table>\n"
      ],
      "text/latex": [
       "A matrix: 1 × 8 of type dbl\n",
       "\\begin{tabular}{r|llllllll}\n",
       "  & Min. & 1st Qu. & Median & Mean & 3rd Qu. & Max. & sd & sd\\_err\\_of\\_mean\\\\\n",
       "\\hline\n",
       "\tavg\\_len & 2504.2 & 3504.4 & 4165.8 & 4431.823 & 4916.075 & 13159.4 & 1421.989 & 580.525\\\\\n",
       "\\end{tabular}\n"
      ],
      "text/markdown": [
       "\n",
       "A matrix: 1 × 8 of type dbl\n",
       "\n",
       "| <!--/--> | Min. | 1st Qu. | Median | Mean | 3rd Qu. | Max. | sd | sd_err_of_mean |\n",
       "|---|---|---|---|---|---|---|---|---|\n",
       "| avg_len | 2504.2 | 3504.4 | 4165.8 | 4431.823 | 4916.075 | 13159.4 | 1421.989 | 580.525 |\n",
       "\n"
      ],
      "text/plain": [
       "        Min.   1st Qu. Median Mean     3rd Qu.  Max.    sd       sd_err_of_mean\n",
       "avg_len 2504.2 3504.4  4165.8 4431.823 4916.075 13159.4 1421.989 580.525       "
      ]
     },
     "metadata": {},
     "output_type": "display_data"
    },
    {
     "data": {
      "text/html": [
       "<table class=\"dataframe\">\n",
       "<caption>A matrix: 1 × 8 of type dbl</caption>\n",
       "<thead>\n",
       "\t<tr><th></th><th scope=col>Min.</th><th scope=col>1st Qu.</th><th scope=col>Median</th><th scope=col>Mean</th><th scope=col>3rd Qu.</th><th scope=col>Max.</th><th scope=col>sd</th><th scope=col>sd_err_of_mean</th></tr>\n",
       "</thead>\n",
       "<tbody>\n",
       "\t<tr><th scope=row>max_len</th><td>96213</td><td>291409</td><td>409567.5</td><td>433861.3</td><td>539519.8</td><td>932386</td><td>181314.1</td><td>74021.18</td></tr>\n",
       "</tbody>\n",
       "</table>\n"
      ],
      "text/latex": [
       "A matrix: 1 × 8 of type dbl\n",
       "\\begin{tabular}{r|llllllll}\n",
       "  & Min. & 1st Qu. & Median & Mean & 3rd Qu. & Max. & sd & sd\\_err\\_of\\_mean\\\\\n",
       "\\hline\n",
       "\tmax\\_len & 96213 & 291409 & 409567.5 & 433861.3 & 539519.8 & 932386 & 181314.1 & 74021.18\\\\\n",
       "\\end{tabular}\n"
      ],
      "text/markdown": [
       "\n",
       "A matrix: 1 × 8 of type dbl\n",
       "\n",
       "| <!--/--> | Min. | 1st Qu. | Median | Mean | 3rd Qu. | Max. | sd | sd_err_of_mean |\n",
       "|---|---|---|---|---|---|---|---|---|\n",
       "| max_len | 96213 | 291409 | 409567.5 | 433861.3 | 539519.8 | 932386 | 181314.1 | 74021.18 |\n",
       "\n"
      ],
      "text/plain": [
       "        Min.  1st Qu. Median   Mean     3rd Qu.  Max.   sd       sd_err_of_mean\n",
       "max_len 96213 291409  409567.5 433861.3 539519.8 932386 181314.1 74021.18      "
      ]
     },
     "metadata": {},
     "output_type": "display_data"
    },
    {
     "data": {
      "text/html": [
       "<table class=\"dataframe\">\n",
       "<caption>A matrix: 1 × 8 of type dbl</caption>\n",
       "<thead>\n",
       "\t<tr><th></th><th scope=col>Min.</th><th scope=col>1st Qu.</th><th scope=col>Median</th><th scope=col>Mean</th><th scope=col>3rd Qu.</th><th scope=col>Max.</th><th scope=col>sd</th><th scope=col>sd_err_of_mean</th></tr>\n",
       "</thead>\n",
       "<tbody>\n",
       "\t<tr><th scope=row>N50</th><td>2782</td><td>5606</td><td>8444</td><td>11714.66</td><td>13343.5</td><td>59820</td><td>9711.294</td><td>3964.619</td></tr>\n",
       "</tbody>\n",
       "</table>\n"
      ],
      "text/latex": [
       "A matrix: 1 × 8 of type dbl\n",
       "\\begin{tabular}{r|llllllll}\n",
       "  & Min. & 1st Qu. & Median & Mean & 3rd Qu. & Max. & sd & sd\\_err\\_of\\_mean\\\\\n",
       "\\hline\n",
       "\tN50 & 2782 & 5606 & 8444 & 11714.66 & 13343.5 & 59820 & 9711.294 & 3964.619\\\\\n",
       "\\end{tabular}\n"
      ],
      "text/markdown": [
       "\n",
       "A matrix: 1 × 8 of type dbl\n",
       "\n",
       "| <!--/--> | Min. | 1st Qu. | Median | Mean | 3rd Qu. | Max. | sd | sd_err_of_mean |\n",
       "|---|---|---|---|---|---|---|---|---|\n",
       "| N50 | 2782 | 5606 | 8444 | 11714.66 | 13343.5 | 59820 | 9711.294 | 3964.619 |\n",
       "\n"
      ],
      "text/plain": [
       "    Min. 1st Qu. Median Mean     3rd Qu. Max.  sd       sd_err_of_mean\n",
       "N50 2782 5606    8444   11714.66 13343.5 59820 9711.294 3964.619      "
      ]
     },
     "metadata": {},
     "output_type": "display_data"
    }
   ],
   "source": [
    "summary_x(stats$num_seqs)\n",
    "summary_x(stats$min_len)\n",
    "summary_x(stats$avg_len)\n",
    "summary_x(stats$max_len)\n",
    "summary_x(stats$N50)"
   ]
  },
  {
   "cell_type": "markdown",
   "metadata": {},
   "source": [
    "# ResMiCo-SM"
   ]
  },
  {
   "cell_type": "code",
   "execution_count": 27,
   "metadata": {
    "ExecuteTime": {
     "end_time": "2022-02-07T05:13:39.121757Z",
     "start_time": "2022-02-07T05:13:38.739Z"
    }
   },
   "outputs": [
    {
     "name": "stdout",
     "output_type": "stream",
     "text": [
      "Created directory: /ebio/abt3_projects/databases_no-backup/DeepMAsED/version2/real_data_eval/UHGG/LLMGQC_r100/LLMGA//rmc-sm \n"
     ]
    }
   ],
   "source": [
    "work_dir1 = file.path(work_dir, 'rmc-sm')\n",
    "make_dir(work_dir1)"
   ]
  },
  {
   "cell_type": "markdown",
   "metadata": {},
   "source": [
    "### Samples table"
   ]
  },
  {
   "cell_type": "code",
   "execution_count": 25,
   "metadata": {
    "ExecuteTime": {
     "end_time": "2022-02-07T05:13:15.323863Z",
     "start_time": "2022-02-07T05:13:15.233Z"
    }
   },
   "outputs": [
    {
     "data": {
      "text/html": [
       "<table class=\"dataframe\">\n",
       "<caption>A data.table: 100 × 2</caption>\n",
       "<thead>\n",
       "\t<tr><th scope=col>Sample</th><th scope=col>Fasta</th></tr>\n",
       "\t<tr><th scope=col>&lt;chr&gt;</th><th scope=col>&lt;chr&gt;</th></tr>\n",
       "</thead>\n",
       "<tbody>\n",
       "\t<tr><td>ERS473032</td><td>/ebio/abt3_projects/databases_no-backup/DeepMAsED/version2/real_data_eval/UHGG/LLMGQC_r100/LLMGA/final_contigs/ERS473032/contigs.fna.gz</td></tr>\n",
       "\t<tr><td>ERS473044</td><td>/ebio/abt3_projects/databases_no-backup/DeepMAsED/version2/real_data_eval/UHGG/LLMGQC_r100/LLMGA/final_contigs/ERS473044/contigs.fna.gz</td></tr>\n",
       "\t<tr><td>⋮</td><td>⋮</td></tr>\n",
       "\t<tr><td>ERS436684</td><td>/ebio/abt3_projects/databases_no-backup/DeepMAsED/version2/real_data_eval/UHGG/LLMGQC_r100/LLMGA/final_contigs/ERS436684/contigs.fna.gz</td></tr>\n",
       "\t<tr><td>ERS436831</td><td>/ebio/abt3_projects/databases_no-backup/DeepMAsED/version2/real_data_eval/UHGG/LLMGQC_r100/LLMGA/final_contigs/ERS436831/contigs.fna.gz</td></tr>\n",
       "</tbody>\n",
       "</table>\n"
      ],
      "text/latex": [
       "A data.table: 100 × 2\n",
       "\\begin{tabular}{ll}\n",
       " Sample & Fasta\\\\\n",
       " <chr> & <chr>\\\\\n",
       "\\hline\n",
       "\t ERS473032 & /ebio/abt3\\_projects/databases\\_no-backup/DeepMAsED/version2/real\\_data\\_eval/UHGG/LLMGQC\\_r100/LLMGA/final\\_contigs/ERS473032/contigs.fna.gz\\\\\n",
       "\t ERS473044 & /ebio/abt3\\_projects/databases\\_no-backup/DeepMAsED/version2/real\\_data\\_eval/UHGG/LLMGQC\\_r100/LLMGA/final\\_contigs/ERS473044/contigs.fna.gz\\\\\n",
       "\t ⋮ & ⋮\\\\\n",
       "\t ERS436684 & /ebio/abt3\\_projects/databases\\_no-backup/DeepMAsED/version2/real\\_data\\_eval/UHGG/LLMGQC\\_r100/LLMGA/final\\_contigs/ERS436684/contigs.fna.gz\\\\\n",
       "\t ERS436831 & /ebio/abt3\\_projects/databases\\_no-backup/DeepMAsED/version2/real\\_data\\_eval/UHGG/LLMGQC\\_r100/LLMGA/final\\_contigs/ERS436831/contigs.fna.gz\\\\\n",
       "\\end{tabular}\n"
      ],
      "text/markdown": [
       "\n",
       "A data.table: 100 × 2\n",
       "\n",
       "| Sample &lt;chr&gt; | Fasta &lt;chr&gt; |\n",
       "|---|---|\n",
       "| ERS473032 | /ebio/abt3_projects/databases_no-backup/DeepMAsED/version2/real_data_eval/UHGG/LLMGQC_r100/LLMGA/final_contigs/ERS473032/contigs.fna.gz |\n",
       "| ERS473044 | /ebio/abt3_projects/databases_no-backup/DeepMAsED/version2/real_data_eval/UHGG/LLMGQC_r100/LLMGA/final_contigs/ERS473044/contigs.fna.gz |\n",
       "| ⋮ | ⋮ |\n",
       "| ERS436684 | /ebio/abt3_projects/databases_no-backup/DeepMAsED/version2/real_data_eval/UHGG/LLMGQC_r100/LLMGA/final_contigs/ERS436684/contigs.fna.gz |\n",
       "| ERS436831 | /ebio/abt3_projects/databases_no-backup/DeepMAsED/version2/real_data_eval/UHGG/LLMGQC_r100/LLMGA/final_contigs/ERS436831/contigs.fna.gz |\n",
       "\n"
      ],
      "text/plain": [
       "    Sample   \n",
       "1   ERS473032\n",
       "2   ERS473044\n",
       "⋮   ⋮        \n",
       "99  ERS436684\n",
       "100 ERS436831\n",
       "    Fasta                                                                                                                                  \n",
       "1   /ebio/abt3_projects/databases_no-backup/DeepMAsED/version2/real_data_eval/UHGG/LLMGQC_r100/LLMGA/final_contigs/ERS473032/contigs.fna.gz\n",
       "2   /ebio/abt3_projects/databases_no-backup/DeepMAsED/version2/real_data_eval/UHGG/LLMGQC_r100/LLMGA/final_contigs/ERS473044/contigs.fna.gz\n",
       "⋮   ⋮                                                                                                                                      \n",
       "99  /ebio/abt3_projects/databases_no-backup/DeepMAsED/version2/real_data_eval/UHGG/LLMGQC_r100/LLMGA/final_contigs/ERS436684/contigs.fna.gz\n",
       "100 /ebio/abt3_projects/databases_no-backup/DeepMAsED/version2/real_data_eval/UHGG/LLMGQC_r100/LLMGA/final_contigs/ERS436831/contigs.fna.gz"
      ]
     },
     "metadata": {},
     "output_type": "display_data"
    }
   ],
   "source": [
    "F = file.path(work_dir, 'final_contigs', 'contig_data.tsv')\n",
    "contigs = Fread(F)\n",
    "contigs"
   ]
  },
  {
   "cell_type": "code",
   "execution_count": 26,
   "metadata": {
    "ExecuteTime": {
     "end_time": "2022-02-07T05:13:15.498710Z",
     "start_time": "2022-02-07T05:13:15.405Z"
    }
   },
   "outputs": [
    {
     "name": "stdout",
     "output_type": "stream",
     "text": [
      "intersect(x,y): 100 \n",
      "setdiff(x,y): 0 \n",
      "setdiff(y,x): 0 \n",
      "union(x,y): 100 \n"
     ]
    },
    {
     "data": {
      "text/html": [
       "<table class=\"dataframe\">\n",
       "<caption>A tidytable: 100 × 5</caption>\n",
       "<thead>\n",
       "\t<tr><th scope=col>Sample</th><th scope=col>Fasta</th><th scope=col>Read1</th><th scope=col>Read2</th><th scope=col>Taxon</th></tr>\n",
       "\t<tr><th scope=col>&lt;chr&gt;</th><th scope=col>&lt;chr&gt;</th><th scope=col>&lt;chr&gt;</th><th scope=col>&lt;chr&gt;</th><th scope=col>&lt;chr&gt;</th></tr>\n",
       "</thead>\n",
       "<tbody>\n",
       "\t<tr><td>ERS473032</td><td>/ebio/abt3_projects/databases_no-backup/DeepMAsED/version2/real_data_eval/UHGG/LLMGQC_r100/LLMGA/final_contigs/ERS473032/contigs.fna.gz</td><td>/ebio/abt3_projects/databases_no-backup/DeepMAsED/version2/real_data_eval/UHGG/LLMGQC_r100/final/ERS473032/R1_final.fq.gz</td><td>/ebio/abt3_projects/databases_no-backup/DeepMAsED/version2/real_data_eval/UHGG/LLMGQC_r100/final/ERS473032/R2_final.fq.gz</td><td>ERS473032_contigs</td></tr>\n",
       "\t<tr><td>ERS473044</td><td>/ebio/abt3_projects/databases_no-backup/DeepMAsED/version2/real_data_eval/UHGG/LLMGQC_r100/LLMGA/final_contigs/ERS473044/contigs.fna.gz</td><td>/ebio/abt3_projects/databases_no-backup/DeepMAsED/version2/real_data_eval/UHGG/LLMGQC_r100/final/ERS473044/R1_final.fq.gz</td><td>/ebio/abt3_projects/databases_no-backup/DeepMAsED/version2/real_data_eval/UHGG/LLMGQC_r100/final/ERS473044/R2_final.fq.gz</td><td>ERS473044_contigs</td></tr>\n",
       "\t<tr><td>⋮</td><td>⋮</td><td>⋮</td><td>⋮</td><td>⋮</td></tr>\n",
       "\t<tr><td>ERS436684</td><td>/ebio/abt3_projects/databases_no-backup/DeepMAsED/version2/real_data_eval/UHGG/LLMGQC_r100/LLMGA/final_contigs/ERS436684/contigs.fna.gz</td><td>/ebio/abt3_projects/databases_no-backup/DeepMAsED/version2/real_data_eval/UHGG/LLMGQC_r100/final/ERS436684/R1_final.fq.gz</td><td>/ebio/abt3_projects/databases_no-backup/DeepMAsED/version2/real_data_eval/UHGG/LLMGQC_r100/final/ERS436684/R2_final.fq.gz</td><td>ERS436684_contigs</td></tr>\n",
       "\t<tr><td>ERS436831</td><td>/ebio/abt3_projects/databases_no-backup/DeepMAsED/version2/real_data_eval/UHGG/LLMGQC_r100/LLMGA/final_contigs/ERS436831/contigs.fna.gz</td><td>/ebio/abt3_projects/databases_no-backup/DeepMAsED/version2/real_data_eval/UHGG/LLMGQC_r100/final/ERS436831/R1_final.fq.gz</td><td>/ebio/abt3_projects/databases_no-backup/DeepMAsED/version2/real_data_eval/UHGG/LLMGQC_r100/final/ERS436831/R2_final.fq.gz</td><td>ERS436831_contigs</td></tr>\n",
       "</tbody>\n",
       "</table>\n"
      ],
      "text/latex": [
       "A tidytable: 100 × 5\n",
       "\\begin{tabular}{lllll}\n",
       " Sample & Fasta & Read1 & Read2 & Taxon\\\\\n",
       " <chr> & <chr> & <chr> & <chr> & <chr>\\\\\n",
       "\\hline\n",
       "\t ERS473032 & /ebio/abt3\\_projects/databases\\_no-backup/DeepMAsED/version2/real\\_data\\_eval/UHGG/LLMGQC\\_r100/LLMGA/final\\_contigs/ERS473032/contigs.fna.gz & /ebio/abt3\\_projects/databases\\_no-backup/DeepMAsED/version2/real\\_data\\_eval/UHGG/LLMGQC\\_r100/final/ERS473032/R1\\_final.fq.gz & /ebio/abt3\\_projects/databases\\_no-backup/DeepMAsED/version2/real\\_data\\_eval/UHGG/LLMGQC\\_r100/final/ERS473032/R2\\_final.fq.gz & ERS473032\\_contigs\\\\\n",
       "\t ERS473044 & /ebio/abt3\\_projects/databases\\_no-backup/DeepMAsED/version2/real\\_data\\_eval/UHGG/LLMGQC\\_r100/LLMGA/final\\_contigs/ERS473044/contigs.fna.gz & /ebio/abt3\\_projects/databases\\_no-backup/DeepMAsED/version2/real\\_data\\_eval/UHGG/LLMGQC\\_r100/final/ERS473044/R1\\_final.fq.gz & /ebio/abt3\\_projects/databases\\_no-backup/DeepMAsED/version2/real\\_data\\_eval/UHGG/LLMGQC\\_r100/final/ERS473044/R2\\_final.fq.gz & ERS473044\\_contigs\\\\\n",
       "\t ⋮ & ⋮ & ⋮ & ⋮ & ⋮\\\\\n",
       "\t ERS436684 & /ebio/abt3\\_projects/databases\\_no-backup/DeepMAsED/version2/real\\_data\\_eval/UHGG/LLMGQC\\_r100/LLMGA/final\\_contigs/ERS436684/contigs.fna.gz & /ebio/abt3\\_projects/databases\\_no-backup/DeepMAsED/version2/real\\_data\\_eval/UHGG/LLMGQC\\_r100/final/ERS436684/R1\\_final.fq.gz & /ebio/abt3\\_projects/databases\\_no-backup/DeepMAsED/version2/real\\_data\\_eval/UHGG/LLMGQC\\_r100/final/ERS436684/R2\\_final.fq.gz & ERS436684\\_contigs\\\\\n",
       "\t ERS436831 & /ebio/abt3\\_projects/databases\\_no-backup/DeepMAsED/version2/real\\_data\\_eval/UHGG/LLMGQC\\_r100/LLMGA/final\\_contigs/ERS436831/contigs.fna.gz & /ebio/abt3\\_projects/databases\\_no-backup/DeepMAsED/version2/real\\_data\\_eval/UHGG/LLMGQC\\_r100/final/ERS436831/R1\\_final.fq.gz & /ebio/abt3\\_projects/databases\\_no-backup/DeepMAsED/version2/real\\_data\\_eval/UHGG/LLMGQC\\_r100/final/ERS436831/R2\\_final.fq.gz & ERS436831\\_contigs\\\\\n",
       "\\end{tabular}\n"
      ],
      "text/markdown": [
       "\n",
       "A tidytable: 100 × 5\n",
       "\n",
       "| Sample &lt;chr&gt; | Fasta &lt;chr&gt; | Read1 &lt;chr&gt; | Read2 &lt;chr&gt; | Taxon &lt;chr&gt; |\n",
       "|---|---|---|---|---|\n",
       "| ERS473032 | /ebio/abt3_projects/databases_no-backup/DeepMAsED/version2/real_data_eval/UHGG/LLMGQC_r100/LLMGA/final_contigs/ERS473032/contigs.fna.gz | /ebio/abt3_projects/databases_no-backup/DeepMAsED/version2/real_data_eval/UHGG/LLMGQC_r100/final/ERS473032/R1_final.fq.gz | /ebio/abt3_projects/databases_no-backup/DeepMAsED/version2/real_data_eval/UHGG/LLMGQC_r100/final/ERS473032/R2_final.fq.gz | ERS473032_contigs |\n",
       "| ERS473044 | /ebio/abt3_projects/databases_no-backup/DeepMAsED/version2/real_data_eval/UHGG/LLMGQC_r100/LLMGA/final_contigs/ERS473044/contigs.fna.gz | /ebio/abt3_projects/databases_no-backup/DeepMAsED/version2/real_data_eval/UHGG/LLMGQC_r100/final/ERS473044/R1_final.fq.gz | /ebio/abt3_projects/databases_no-backup/DeepMAsED/version2/real_data_eval/UHGG/LLMGQC_r100/final/ERS473044/R2_final.fq.gz | ERS473044_contigs |\n",
       "| ⋮ | ⋮ | ⋮ | ⋮ | ⋮ |\n",
       "| ERS436684 | /ebio/abt3_projects/databases_no-backup/DeepMAsED/version2/real_data_eval/UHGG/LLMGQC_r100/LLMGA/final_contigs/ERS436684/contigs.fna.gz | /ebio/abt3_projects/databases_no-backup/DeepMAsED/version2/real_data_eval/UHGG/LLMGQC_r100/final/ERS436684/R1_final.fq.gz | /ebio/abt3_projects/databases_no-backup/DeepMAsED/version2/real_data_eval/UHGG/LLMGQC_r100/final/ERS436684/R2_final.fq.gz | ERS436684_contigs |\n",
       "| ERS436831 | /ebio/abt3_projects/databases_no-backup/DeepMAsED/version2/real_data_eval/UHGG/LLMGQC_r100/LLMGA/final_contigs/ERS436831/contigs.fna.gz | /ebio/abt3_projects/databases_no-backup/DeepMAsED/version2/real_data_eval/UHGG/LLMGQC_r100/final/ERS436831/R1_final.fq.gz | /ebio/abt3_projects/databases_no-backup/DeepMAsED/version2/real_data_eval/UHGG/LLMGQC_r100/final/ERS436831/R2_final.fq.gz | ERS436831_contigs |\n",
       "\n"
      ],
      "text/plain": [
       "    Sample   \n",
       "1   ERS473032\n",
       "2   ERS473044\n",
       "⋮   ⋮        \n",
       "99  ERS436684\n",
       "100 ERS436831\n",
       "    Fasta                                                                                                                                  \n",
       "1   /ebio/abt3_projects/databases_no-backup/DeepMAsED/version2/real_data_eval/UHGG/LLMGQC_r100/LLMGA/final_contigs/ERS473032/contigs.fna.gz\n",
       "2   /ebio/abt3_projects/databases_no-backup/DeepMAsED/version2/real_data_eval/UHGG/LLMGQC_r100/LLMGA/final_contigs/ERS473044/contigs.fna.gz\n",
       "⋮   ⋮                                                                                                                                      \n",
       "99  /ebio/abt3_projects/databases_no-backup/DeepMAsED/version2/real_data_eval/UHGG/LLMGQC_r100/LLMGA/final_contigs/ERS436684/contigs.fna.gz\n",
       "100 /ebio/abt3_projects/databases_no-backup/DeepMAsED/version2/real_data_eval/UHGG/LLMGQC_r100/LLMGA/final_contigs/ERS436831/contigs.fna.gz\n",
       "    Read1                                                                                                                    \n",
       "1   /ebio/abt3_projects/databases_no-backup/DeepMAsED/version2/real_data_eval/UHGG/LLMGQC_r100/final/ERS473032/R1_final.fq.gz\n",
       "2   /ebio/abt3_projects/databases_no-backup/DeepMAsED/version2/real_data_eval/UHGG/LLMGQC_r100/final/ERS473044/R1_final.fq.gz\n",
       "⋮   ⋮                                                                                                                        \n",
       "99  /ebio/abt3_projects/databases_no-backup/DeepMAsED/version2/real_data_eval/UHGG/LLMGQC_r100/final/ERS436684/R1_final.fq.gz\n",
       "100 /ebio/abt3_projects/databases_no-backup/DeepMAsED/version2/real_data_eval/UHGG/LLMGQC_r100/final/ERS436831/R1_final.fq.gz\n",
       "    Read2                                                                                                                    \n",
       "1   /ebio/abt3_projects/databases_no-backup/DeepMAsED/version2/real_data_eval/UHGG/LLMGQC_r100/final/ERS473032/R2_final.fq.gz\n",
       "2   /ebio/abt3_projects/databases_no-backup/DeepMAsED/version2/real_data_eval/UHGG/LLMGQC_r100/final/ERS473044/R2_final.fq.gz\n",
       "⋮   ⋮                                                                                                                        \n",
       "99  /ebio/abt3_projects/databases_no-backup/DeepMAsED/version2/real_data_eval/UHGG/LLMGQC_r100/final/ERS436684/R2_final.fq.gz\n",
       "100 /ebio/abt3_projects/databases_no-backup/DeepMAsED/version2/real_data_eval/UHGG/LLMGQC_r100/final/ERS436831/R2_final.fq.gz\n",
       "    Taxon            \n",
       "1   ERS473032_contigs\n",
       "2   ERS473044_contigs\n",
       "⋮   ⋮                \n",
       "99  ERS436684_contigs\n",
       "100 ERS436831_contigs"
      ]
     },
     "metadata": {},
     "output_type": "display_data"
    }
   ],
   "source": [
    "# adding read info\n",
    "overlap(contigs$Sample, samps_f$Sample)\n",
    "contigs = contigs %>%\n",
    "    inner_join.(samps_f %>% select.(Sample, Read1, Read2), c('Sample')) %>%\n",
    "    mutate.(Taxon = paste(Sample, 'contigs', sep='_'))\n",
    "contigs"
   ]
  },
  {
   "cell_type": "code",
   "execution_count": 29,
   "metadata": {
    "ExecuteTime": {
     "end_time": "2022-02-07T05:14:00.279128Z",
     "start_time": "2022-02-07T05:14:00.206Z"
    }
   },
   "outputs": [
    {
     "name": "stdout",
     "output_type": "stream",
     "text": [
      "File written: /ebio/abt3_projects/databases_no-backup/DeepMAsED/version2/real_data_eval/UHGG/LLMGQC_r100/LLMGA//rmc-sm/samples.tsv \n"
     ]
    }
   ],
   "source": [
    "F = file.path(work_dir1, 'samples.tsv')\n",
    "write_table(contigs, F)"
   ]
  },
  {
   "cell_type": "markdown",
   "metadata": {},
   "source": [
    "### Config"
   ]
  },
  {
   "cell_type": "code",
   "execution_count": 30,
   "metadata": {
    "ExecuteTime": {
     "end_time": "2022-02-07T05:15:35.364091Z",
     "start_time": "2022-02-07T05:15:35.263Z"
    }
   },
   "outputs": [
    {
     "name": "stdout",
     "output_type": "stream",
     "text": [
      "# Input table\n",
      "## Table of genomes\n",
      "genomes_file: /ebio/abt3_projects/databases_no-backup/DeepMAsED/version2/real_data_eval/UHGG/LLMGQC_r100/LLMGA/rmc-sm/samples.tsv\n",
      "\n",
      "# Output directory\n",
      "output_dir: /ebio/abt3_projects/databases_no-backup/DeepMAsED/version2/real_data_eval/UHGG/LLMGQC_r100/LLMGA/rmc-sm/\n",
      "\n",
      "# Temporary output directory (/dev/shm/ for shared memory)\n",
      "#tmp_dir: /tmp/\n",
      "tmp_dir: /ebio/abt3_scratch/\n",
      "\n",
      "# Email for notifications (\"Skip\" to skip)\n",
      "email: nyoungblut@tuebingen.mpg.de\n",
      "\n",
      "# software parameters for data simulations\n",
      "## Use \"Skip\" to skip  steps. If no params for rule, use \"\"\n",
      "## `reps:` is the number of replicate simulations\n",
      "## If `keep_reads: True`, then simulated reads are kept\n",
      "params:\n",
      "  ionice: -c 3\n",
      "  # simulating metagenomes\n",
      "  MGSIM:\n",
      "#    genome_download: \"\"\n",
      "    sim_reps: 1\n",
      "    community:\n",
      "      richness:\n",
      "        - 0.5\n",
      "        - 0.8\n",
      "      abundance_distribution:\n",
      "        - \"mean:10,sigma:1\"\n",
      "        - \"mean:10,sigma:2\"\n",
      "      random_seed: 8192\n",
      "      other_sim_params: --group-bias 0\n",
      "    reads: \n",
      "      length:\n",
      "        - 100\n",
      "      depth:\n",
      "        - 1000000\n",
      "      other_sim_params: --art-paired --art-mflen 270 --art-sdev 50 --rndSeed 8712\n",
      "                        --art-qprof1 data/art_error_profiles/HiSeq2500L150R1.txt\n",
      "                        --art-qprof2 data/art_error_profiles/HiSeq2500L150R2.txt\n",
      "      skewer: -n -l 70 -q 25 --format sanger\n",
      "      keep_reads: False\n",
      "  # coverage\n",
      "  nonpareil:\n",
      "    params: -T kmer\n",
      "    summary: 1e9   # this is target seq. depth\n",
      "  # assemblying metagenomes\n",
      "  assemblers:\n",
      "    metaspades: -k auto --only-assembler\n",
      "    megahit: --min-count 1 --min-contig-len 1000\n",
      "  # assembly filtering\n",
      "  contigs:\n",
      "    length_cutoff: 1000       # length in bp \n",
      "  # assessing assembly errors\n",
      "  asmbl_errors:\n",
      "    metaquast: --max-ref-number 0 --min-contig 1000 --min-identity 95 --extensive-mis-size 100\n",
      "               --no-html --no-plots --no-icarus --no-gc --no-snps --no-sv\n",
      "    keep_genomes: False\n",
      "  # mapping reads to contigs\n",
      "  map:\n",
      "    samtools: \"\"\n",
      "    bowtie2: \"\"\n",
      "    max_coverage: 20\n",
      "    keep_bam: False\n",
      "  # creating ResMiCo feature tables\n",
      "  feature_table:\n",
      "    make: --window 6\n",
      "  # state-of-the-art\n",
      "  SotA:\n",
      "    ALE: \"\"\n",
      "    VALET: Skip #\"\"  \n",
      "    metaMIC:\n",
      "      extract: --mlen 1000\n",
      "      predict: --mlen 1000 --slen 500 -a MEGAHIT\n",
      "\n",
      "# params just for creating feature tables for non-simulated data\n",
      "nonsim_params:\n",
      "  # max number of reads to use\n",
      "  subsample_reads: Skip\n",
      "\n",
      "# snakemake pipeline\n",
      "pipeline:\n",
      "  snakemake_folder: ./\n",
      "  script_folder: ./bin/scripts/\n",
      "  name: ResMiCo-SM"
     ]
    }
   ],
   "source": [
    "F = file.path(work_dir1, 'config.yaml')\n",
    "cat_file(F)"
   ]
  },
  {
   "cell_type": "markdown",
   "metadata": {},
   "source": [
    "### Run"
   ]
  },
  {
   "cell_type": "markdown",
   "metadata": {},
   "source": [
    "```\n",
    "(snakemake) rick: /ebio/abt3_projects/DeepMAsED/version2/deepmased/ResMiCo-SM\n",
    "screen -L -S rmc-uhgg-r100 ./snakemake_sge.sh /ebio/abt3_projects/databases_no-backup/DeepMAsED/version2/real_data_eval/UHGG/LLMGQC_r100/LLMGA/rmc-sm/config.yaml 30 -F\n",
    "```"
   ]
  },
  {
   "cell_type": "markdown",
   "metadata": {},
   "source": [
    "# LLMGA: binning\n",
    "\n",
    "* binning contigs into MAGs"
   ]
  },
  {
   "cell_type": "markdown",
   "metadata": {},
   "source": [
    "### Contig"
   ]
  },
  {
   "cell_type": "code",
   "execution_count": 33,
   "metadata": {
    "ExecuteTime": {
     "end_time": "2022-02-12T12:49:02.943530Z",
     "start_time": "2022-02-12T12:49:02.935Z"
    }
   },
   "outputs": [
    {
     "name": "stdout",
     "output_type": "stream",
     "text": [
      "#-- I/O --#\n",
      "# table with sample --> read_file information\n",
      "samples_file: /ebio/abt3_projects/databases_no-backup/DeepMAsED/version2/real_data_eval/UHGG/LLMGQC_r100/LLMGA/samples.tsv\n",
      "\n",
      "# output location\n",
      "output_dir: /ebio/abt3_projects/databases_no-backup/DeepMAsED/version2/real_data_eval/UHGG/LLMGQC_r100/LLMGA/\n",
      "\n",
      "# temporary file directory (your username will be added automatically)\n",
      "tmp_dir: /ebio/abt3_scratch/\n",
      "\n",
      "#-- reference genomes for metacompass --#\n",
      "metacompass_ref: /ebio/abt3_projects/Anxiety_Twins_Metagenomes/data/metagenome/TUKMZ-BGI250/llmga-find-refs/references/drep/dereplicated_genomes.fna\n",
      "\n",
      "#-- master control --#\n",
      "# which major parts of the pipline to run \n",
      "run_assembly: False\n",
      "run_binning: True\n",
      "run_other_assembly: False\n",
      "\n",
      "#-- software parameters --#\n",
      "# Notes:\n",
      "## see \"Notes on the `config.yaml` file\" in the README\n",
      "params:\n",
      "  # raw reads\n",
      "  ionice: -c 3\n",
      "  reads:\n",
      "    subsample: 40000000\n",
      "    fastqc: \"\"  \n",
      "  # metacompass (per-sample ref-based assembly); skipped if using graphbin2\n",
      "  metacompass:\n",
      "    buildcontig: Skip #--pickref breadth --mincov 3 -l 1000 -n T -b F -u F\n",
      "    pilon: \"\"\n",
      "  # denovo per-sample assembly (unmapped if metacompass used, else all reads)\n",
      "  denovo_assembly:\n",
      "    metaspades: -k auto --only-assembler\n",
      "    megahit: Skip #--min-count 3 --min-contig-len 500 --presets meta-sensitive\n",
      "  # combined, final contigs\n",
      "  final_contigs:\n",
      "    derep_contigs: minidentity=100 minscaf=1000 minoverlappercent=95\n",
      "    contig_rename: \"\"\n",
      "    min_contig_len: 1000            # min contig length retained\n",
      "    metaquast: Skip #--max-ref-number 0   # job run on rick to use internet if `--max-ref-number` > 0\n",
      "  # contig binning\n",
      "  binning:\n",
      "    subsample: 20000000       # how many reads per sample to use for dif-cov binning?\n",
      "    # mapping\n",
      "    map:\n",
      "      num_map_samples: 30    # how many samples to use for dif-cov. binning ('all' = all samples)\n",
      "      minimap2:\n",
      "        index: -k 15 -w 10 -I 12G\n",
      "        map: -N 5 -F 800\n",
      "      samtools_view: -q 0 -F 3584                 # -q = MAPQ cutoff\n",
      "      bam_to_depth: --percentIdentity 97\n",
      "      keep_bam: False                       # keep all BAM files?\n",
      "    # binning\n",
      "    binners:\n",
      "      maxbin2:\n",
      "        Low: -min_contig_length 1000 -markerset 40 -prob_threshold 0.6\n",
      "        Med: -min_contig_length 1000 -markerset 40 -prob_threshold 0.7\n",
      "        High: -min_contig_length 1000 -markerset 40 -prob_threshold 0.8\n",
      "      metabat2:\n",
      "        Low: --minContig 1000 --minCV 0.5 --minCVSum 0.5 --maxP 92\n",
      "             --maxEdges 150 --seed 8394\n",
      "        Med: --minContig 1000 --minCV 0.5 --minCVSum 0.5 --maxP 94\n",
      "             --maxEdges 325 --seed 8394\n",
      "        High: --minContig 1000 --minCV 0.5 --minCVSum 0.5 --maxP 97\n",
      "              --maxEdges 500 --seed 8394\n",
      "        LowNoCov: --minContig 1000 --minCV 0.5 --minCVSum 0.5 --maxP 92\n",
      "                  --maxEdges 150 --seed 8394 NOCOV\n",
      "        MedNoCov: --minContig 1000 --minCV 0.5 --minCVSum 0.5 --maxP 94\n",
      "                  --maxEdges 325 --seed 8394 NOCOV\n",
      "        HighNoCov: --minContig 1000 --minCV 0.5 --minCVSum 0.5 --maxP 97\n",
      "                   --maxEdges 500 --seed 8394 NOCOV\n",
      "      vamb:\n",
      "        Low: Skip #-c 10000 -m 1000 -l 24 -n 384 384\n",
      "        Med: Skip #-c 10000 -m 1000 -l 32 -n 512 512\n",
      "        High: Skip #-c 10000 -m 1000 -l 40 -n 768 768\n",
      "    # selecting final bins (MAGs)\n",
      "    select:\n",
      "      das_tool: --search_engine diamond\n",
      "      genome_table: \"\"\n",
      "  # denovo assembly of other genetic components\n",
      "  denovo_other_assembly:\n",
      "    min_contig_len: 1000\n",
      "    metaplasmidspades: -k auto --only-assembler\n",
      "    metabiosyntheticspades: -k auto --only-assembler\n",
      "  \n",
      "#-- snakemake pipeline --#\n",
      "pipeline:\n",
      "  snakemake_folder: ./\n",
      "  script_folder: bin/scripts/\n",
      "  random_number_seed: 83421\n",
      "  name: LLMGA\n"
     ]
    }
   ],
   "source": [
    "F = file.path(work_dir, 'config_bin.yaml')\n",
    "cat_file(F)"
   ]
  },
  {
   "cell_type": "markdown",
   "metadata": {},
   "source": [
    "### Run"
   ]
  },
  {
   "cell_type": "markdown",
   "metadata": {},
   "source": [
    "```\n",
    "(snakemake) @ rick:/tmp/global2/nyoungblut/code/dev/ll_pipelines/llmga\n",
    "$ screen -L -S llmga-uhgg-bin ./snakemake_sge.sh /ebio/abt3_projects/databases_no-backup/DeepMAsED/version2/real_data_eval/UHGG/LLMGQC_r100/LLMGA/config_bin.yaml 50\n",
    "```"
   ]
  },
  {
   "cell_type": "markdown",
   "metadata": {},
   "source": [
    "## Summary"
   ]
  },
  {
   "cell_type": "code",
   "execution_count": 36,
   "metadata": {
    "ExecuteTime": {
     "end_time": "2022-02-15T12:31:52.528795Z",
     "start_time": "2022-02-15T12:31:52.439Z"
    }
   },
   "outputs": [
    {
     "data": {
      "text/html": [
       "<table class=\"dataframe\">\n",
       "<caption>A data.table: 2783 × 14</caption>\n",
       "<thead>\n",
       "\t<tr><th scope=col>Name</th><th scope=col>Fasta</th><th scope=col>uniqueBacSCGs</th><th scope=col>redundantBacSCGs</th><th scope=col>uniqueArcSCGs</th><th scope=col>redundantArcSCGs</th><th scope=col>bacRatio</th><th scope=col>arcRatio</th><th scope=col>size</th><th scope=col>contigs</th><th scope=col>N50</th><th scope=col>binScore</th><th scope=col>SCG_completeness</th><th scope=col>SCG_redundancy</th></tr>\n",
       "\t<tr><th scope=col>&lt;chr&gt;</th><th scope=col>&lt;chr&gt;</th><th scope=col>&lt;int&gt;</th><th scope=col>&lt;int&gt;</th><th scope=col>&lt;int&gt;</th><th scope=col>&lt;int&gt;</th><th scope=col>&lt;dbl&gt;</th><th scope=col>&lt;dbl&gt;</th><th scope=col>&lt;int&gt;</th><th scope=col>&lt;int&gt;</th><th scope=col>&lt;int&gt;</th><th scope=col>&lt;dbl&gt;</th><th scope=col>&lt;dbl&gt;</th><th scope=col>&lt;dbl&gt;</th></tr>\n",
       "</thead>\n",
       "<tbody>\n",
       "\t<tr><td>ERS396505__maxbin2__High.100</td><td>/ebio/abt3_projects/databases_no-backup/DeepMAsED/version2/real_data_eval/UHGG/LLMGQC_r100/LLMGA/final_MAGs/MAGs/ERS396505__maxbin2__High.100.fna.gz</td><td>45</td><td>4</td><td>13</td><td>1</td><td>0.8823529</td><td>0.3421053</td><td>2508006</td><td>649</td><td> 6130</td><td>0.7898</td><td>88.24</td><td> 7.84</td></tr>\n",
       "\t<tr><td>SRS871448__maxbin2__Low.014 </td><td>/ebio/abt3_projects/databases_no-backup/DeepMAsED/version2/real_data_eval/UHGG/LLMGQC_r100/LLMGA/final_MAGs/MAGs/SRS871448__maxbin2__Low.014.fna.gz </td><td>49</td><td>4</td><td>14</td><td>4</td><td>0.9607843</td><td>0.3684211</td><td>3638424</td><td>501</td><td>17758</td><td>0.8726</td><td>96.08</td><td>10.53</td></tr>\n",
       "\t<tr><td>⋮</td><td>⋮</td><td>⋮</td><td>⋮</td><td>⋮</td><td>⋮</td><td>⋮</td><td>⋮</td><td>⋮</td><td>⋮</td><td>⋮</td><td>⋮</td><td>⋮</td><td>⋮</td></tr>\n",
       "\t<tr><td>SRS871517__maxbin2__High.012</td><td>/ebio/abt3_projects/databases_no-backup/DeepMAsED/version2/real_data_eval/UHGG/LLMGQC_r100/LLMGA/final_MAGs/MAGs/SRS871517__maxbin2__High.012.fna.gz</td><td>48</td><td> 1</td><td>13</td><td>0</td><td>0.9411765</td><td>0.3421053</td><td>3310997</td><td>  81</td><td>87759</td><td>0.9189</td><td>94.12</td><td> 1.96</td></tr>\n",
       "\t<tr><td>ERS537292__maxbin2__High.007</td><td>/ebio/abt3_projects/databases_no-backup/DeepMAsED/version2/real_data_eval/UHGG/LLMGQC_r100/LLMGA/final_MAGs/MAGs/ERS537292__maxbin2__High.007.fna.gz</td><td>47</td><td>11</td><td>13</td><td>6</td><td>0.9215686</td><td>0.3421053</td><td>7686911</td><td>3022</td><td> 2660</td><td>0.6537</td><td>92.16</td><td>21.57</td></tr>\n",
       "</tbody>\n",
       "</table>\n"
      ],
      "text/latex": [
       "A data.table: 2783 × 14\n",
       "\\begin{tabular}{llllllllllllll}\n",
       " Name & Fasta & uniqueBacSCGs & redundantBacSCGs & uniqueArcSCGs & redundantArcSCGs & bacRatio & arcRatio & size & contigs & N50 & binScore & SCG\\_completeness & SCG\\_redundancy\\\\\n",
       " <chr> & <chr> & <int> & <int> & <int> & <int> & <dbl> & <dbl> & <int> & <int> & <int> & <dbl> & <dbl> & <dbl>\\\\\n",
       "\\hline\n",
       "\t ERS396505\\_\\_maxbin2\\_\\_High.100 & /ebio/abt3\\_projects/databases\\_no-backup/DeepMAsED/version2/real\\_data\\_eval/UHGG/LLMGQC\\_r100/LLMGA/final\\_MAGs/MAGs/ERS396505\\_\\_maxbin2\\_\\_High.100.fna.gz & 45 & 4 & 13 & 1 & 0.8823529 & 0.3421053 & 2508006 & 649 &  6130 & 0.7898 & 88.24 &  7.84\\\\\n",
       "\t SRS871448\\_\\_maxbin2\\_\\_Low.014  & /ebio/abt3\\_projects/databases\\_no-backup/DeepMAsED/version2/real\\_data\\_eval/UHGG/LLMGQC\\_r100/LLMGA/final\\_MAGs/MAGs/SRS871448\\_\\_maxbin2\\_\\_Low.014.fna.gz  & 49 & 4 & 14 & 4 & 0.9607843 & 0.3684211 & 3638424 & 501 & 17758 & 0.8726 & 96.08 & 10.53\\\\\n",
       "\t ⋮ & ⋮ & ⋮ & ⋮ & ⋮ & ⋮ & ⋮ & ⋮ & ⋮ & ⋮ & ⋮ & ⋮ & ⋮ & ⋮\\\\\n",
       "\t SRS871517\\_\\_maxbin2\\_\\_High.012 & /ebio/abt3\\_projects/databases\\_no-backup/DeepMAsED/version2/real\\_data\\_eval/UHGG/LLMGQC\\_r100/LLMGA/final\\_MAGs/MAGs/SRS871517\\_\\_maxbin2\\_\\_High.012.fna.gz & 48 &  1 & 13 & 0 & 0.9411765 & 0.3421053 & 3310997 &   81 & 87759 & 0.9189 & 94.12 &  1.96\\\\\n",
       "\t ERS537292\\_\\_maxbin2\\_\\_High.007 & /ebio/abt3\\_projects/databases\\_no-backup/DeepMAsED/version2/real\\_data\\_eval/UHGG/LLMGQC\\_r100/LLMGA/final\\_MAGs/MAGs/ERS537292\\_\\_maxbin2\\_\\_High.007.fna.gz & 47 & 11 & 13 & 6 & 0.9215686 & 0.3421053 & 7686911 & 3022 &  2660 & 0.6537 & 92.16 & 21.57\\\\\n",
       "\\end{tabular}\n"
      ],
      "text/markdown": [
       "\n",
       "A data.table: 2783 × 14\n",
       "\n",
       "| Name &lt;chr&gt; | Fasta &lt;chr&gt; | uniqueBacSCGs &lt;int&gt; | redundantBacSCGs &lt;int&gt; | uniqueArcSCGs &lt;int&gt; | redundantArcSCGs &lt;int&gt; | bacRatio &lt;dbl&gt; | arcRatio &lt;dbl&gt; | size &lt;int&gt; | contigs &lt;int&gt; | N50 &lt;int&gt; | binScore &lt;dbl&gt; | SCG_completeness &lt;dbl&gt; | SCG_redundancy &lt;dbl&gt; |\n",
       "|---|---|---|---|---|---|---|---|---|---|---|---|---|---|\n",
       "| ERS396505__maxbin2__High.100 | /ebio/abt3_projects/databases_no-backup/DeepMAsED/version2/real_data_eval/UHGG/LLMGQC_r100/LLMGA/final_MAGs/MAGs/ERS396505__maxbin2__High.100.fna.gz | 45 | 4 | 13 | 1 | 0.8823529 | 0.3421053 | 2508006 | 649 |  6130 | 0.7898 | 88.24 |  7.84 |\n",
       "| SRS871448__maxbin2__Low.014  | /ebio/abt3_projects/databases_no-backup/DeepMAsED/version2/real_data_eval/UHGG/LLMGQC_r100/LLMGA/final_MAGs/MAGs/SRS871448__maxbin2__Low.014.fna.gz  | 49 | 4 | 14 | 4 | 0.9607843 | 0.3684211 | 3638424 | 501 | 17758 | 0.8726 | 96.08 | 10.53 |\n",
       "| ⋮ | ⋮ | ⋮ | ⋮ | ⋮ | ⋮ | ⋮ | ⋮ | ⋮ | ⋮ | ⋮ | ⋮ | ⋮ | ⋮ |\n",
       "| SRS871517__maxbin2__High.012 | /ebio/abt3_projects/databases_no-backup/DeepMAsED/version2/real_data_eval/UHGG/LLMGQC_r100/LLMGA/final_MAGs/MAGs/SRS871517__maxbin2__High.012.fna.gz | 48 |  1 | 13 | 0 | 0.9411765 | 0.3421053 | 3310997 |   81 | 87759 | 0.9189 | 94.12 |  1.96 |\n",
       "| ERS537292__maxbin2__High.007 | /ebio/abt3_projects/databases_no-backup/DeepMAsED/version2/real_data_eval/UHGG/LLMGQC_r100/LLMGA/final_MAGs/MAGs/ERS537292__maxbin2__High.007.fna.gz | 47 | 11 | 13 | 6 | 0.9215686 | 0.3421053 | 7686911 | 3022 |  2660 | 0.6537 | 92.16 | 21.57 |\n",
       "\n"
      ],
      "text/plain": [
       "     Name                        \n",
       "1    ERS396505__maxbin2__High.100\n",
       "2    SRS871448__maxbin2__Low.014 \n",
       "⋮    ⋮                           \n",
       "2782 SRS871517__maxbin2__High.012\n",
       "2783 ERS537292__maxbin2__High.007\n",
       "     Fasta                                                                                                                                               \n",
       "1    /ebio/abt3_projects/databases_no-backup/DeepMAsED/version2/real_data_eval/UHGG/LLMGQC_r100/LLMGA/final_MAGs/MAGs/ERS396505__maxbin2__High.100.fna.gz\n",
       "2    /ebio/abt3_projects/databases_no-backup/DeepMAsED/version2/real_data_eval/UHGG/LLMGQC_r100/LLMGA/final_MAGs/MAGs/SRS871448__maxbin2__Low.014.fna.gz \n",
       "⋮    ⋮                                                                                                                                                   \n",
       "2782 /ebio/abt3_projects/databases_no-backup/DeepMAsED/version2/real_data_eval/UHGG/LLMGQC_r100/LLMGA/final_MAGs/MAGs/SRS871517__maxbin2__High.012.fna.gz\n",
       "2783 /ebio/abt3_projects/databases_no-backup/DeepMAsED/version2/real_data_eval/UHGG/LLMGQC_r100/LLMGA/final_MAGs/MAGs/ERS537292__maxbin2__High.007.fna.gz\n",
       "     uniqueBacSCGs redundantBacSCGs uniqueArcSCGs redundantArcSCGs bacRatio \n",
       "1    45            4                13            1                0.8823529\n",
       "2    49            4                14            4                0.9607843\n",
       "⋮    ⋮             ⋮                ⋮             ⋮                ⋮        \n",
       "2782 48             1               13            0                0.9411765\n",
       "2783 47            11               13            6                0.9215686\n",
       "     arcRatio  size    contigs N50   binScore SCG_completeness SCG_redundancy\n",
       "1    0.3421053 2508006 649      6130 0.7898   88.24             7.84         \n",
       "2    0.3684211 3638424 501     17758 0.8726   96.08            10.53         \n",
       "⋮    ⋮         ⋮       ⋮       ⋮     ⋮        ⋮                ⋮             \n",
       "2782 0.3421053 3310997   81    87759 0.9189   94.12             1.96         \n",
       "2783 0.3421053 7686911 3022     2660 0.6537   92.16            21.57         "
      ]
     },
     "metadata": {},
     "output_type": "display_data"
    }
   ],
   "source": [
    "F = file.path(work_dir, 'final_MAGs', 'final_MAGs.tsv')\n",
    "mag = Fread(F)\n",
    "mag"
   ]
  },
  {
   "cell_type": "code",
   "execution_count": 39,
   "metadata": {
    "ExecuteTime": {
     "end_time": "2022-02-15T12:32:31.809016Z",
     "start_time": "2022-02-15T12:32:31.776Z"
    }
   },
   "outputs": [
    {
     "data": {
      "text/html": [
       "<table class=\"dataframe\">\n",
       "<caption>A tidytable: 1802 × 14</caption>\n",
       "<thead>\n",
       "\t<tr><th scope=col>Name</th><th scope=col>Fasta</th><th scope=col>uniqueBacSCGs</th><th scope=col>redundantBacSCGs</th><th scope=col>uniqueArcSCGs</th><th scope=col>redundantArcSCGs</th><th scope=col>bacRatio</th><th scope=col>arcRatio</th><th scope=col>size</th><th scope=col>contigs</th><th scope=col>N50</th><th scope=col>binScore</th><th scope=col>SCG_completeness</th><th scope=col>SCG_redundancy</th></tr>\n",
       "\t<tr><th scope=col>&lt;chr&gt;</th><th scope=col>&lt;chr&gt;</th><th scope=col>&lt;int&gt;</th><th scope=col>&lt;int&gt;</th><th scope=col>&lt;int&gt;</th><th scope=col>&lt;int&gt;</th><th scope=col>&lt;dbl&gt;</th><th scope=col>&lt;dbl&gt;</th><th scope=col>&lt;int&gt;</th><th scope=col>&lt;int&gt;</th><th scope=col>&lt;int&gt;</th><th scope=col>&lt;dbl&gt;</th><th scope=col>&lt;dbl&gt;</th><th scope=col>&lt;dbl&gt;</th></tr>\n",
       "</thead>\n",
       "<tbody>\n",
       "\t<tr><td>SRS871448__maxbin2__Low.014</td><td>/ebio/abt3_projects/databases_no-backup/DeepMAsED/version2/real_data_eval/UHGG/LLMGQC_r100/LLMGA/final_MAGs/MAGs/SRS871448__maxbin2__Low.014.fna.gz</td><td>49</td><td>4</td><td>14</td><td>4</td><td>0.9607843</td><td>0.3684211</td><td>3638424</td><td>501</td><td>17758</td><td>0.8726</td><td>96.08</td><td>10.53</td></tr>\n",
       "\t<tr><td>ERS746721__maxbin2__Low.077</td><td>/ebio/abt3_projects/databases_no-backup/DeepMAsED/version2/real_data_eval/UHGG/LLMGQC_r100/LLMGA/final_MAGs/MAGs/ERS746721__maxbin2__Low.077.fna.gz</td><td>50</td><td>1</td><td>15</td><td>0</td><td>0.9803922</td><td>0.3947368</td><td>1958289</td><td> 84</td><td>50822</td><td>0.9586</td><td>98.04</td><td> 1.96</td></tr>\n",
       "\t<tr><td>⋮</td><td>⋮</td><td>⋮</td><td>⋮</td><td>⋮</td><td>⋮</td><td>⋮</td><td>⋮</td><td>⋮</td><td>⋮</td><td>⋮</td><td>⋮</td><td>⋮</td><td>⋮</td></tr>\n",
       "\t<tr><td>SRS871517__maxbin2__High.012</td><td>/ebio/abt3_projects/databases_no-backup/DeepMAsED/version2/real_data_eval/UHGG/LLMGQC_r100/LLMGA/final_MAGs/MAGs/SRS871517__maxbin2__High.012.fna.gz</td><td>48</td><td> 1</td><td>13</td><td>0</td><td>0.9411765</td><td>0.3421053</td><td>3310997</td><td>  81</td><td>87759</td><td>0.9189</td><td>94.12</td><td> 1.96</td></tr>\n",
       "\t<tr><td>ERS537292__maxbin2__High.007</td><td>/ebio/abt3_projects/databases_no-backup/DeepMAsED/version2/real_data_eval/UHGG/LLMGQC_r100/LLMGA/final_MAGs/MAGs/ERS537292__maxbin2__High.007.fna.gz</td><td>47</td><td>11</td><td>13</td><td>6</td><td>0.9215686</td><td>0.3421053</td><td>7686911</td><td>3022</td><td> 2660</td><td>0.6537</td><td>92.16</td><td>21.57</td></tr>\n",
       "</tbody>\n",
       "</table>\n"
      ],
      "text/latex": [
       "A tidytable: 1802 × 14\n",
       "\\begin{tabular}{llllllllllllll}\n",
       " Name & Fasta & uniqueBacSCGs & redundantBacSCGs & uniqueArcSCGs & redundantArcSCGs & bacRatio & arcRatio & size & contigs & N50 & binScore & SCG\\_completeness & SCG\\_redundancy\\\\\n",
       " <chr> & <chr> & <int> & <int> & <int> & <int> & <dbl> & <dbl> & <int> & <int> & <int> & <dbl> & <dbl> & <dbl>\\\\\n",
       "\\hline\n",
       "\t SRS871448\\_\\_maxbin2\\_\\_Low.014 & /ebio/abt3\\_projects/databases\\_no-backup/DeepMAsED/version2/real\\_data\\_eval/UHGG/LLMGQC\\_r100/LLMGA/final\\_MAGs/MAGs/SRS871448\\_\\_maxbin2\\_\\_Low.014.fna.gz & 49 & 4 & 14 & 4 & 0.9607843 & 0.3684211 & 3638424 & 501 & 17758 & 0.8726 & 96.08 & 10.53\\\\\n",
       "\t ERS746721\\_\\_maxbin2\\_\\_Low.077 & /ebio/abt3\\_projects/databases\\_no-backup/DeepMAsED/version2/real\\_data\\_eval/UHGG/LLMGQC\\_r100/LLMGA/final\\_MAGs/MAGs/ERS746721\\_\\_maxbin2\\_\\_Low.077.fna.gz & 50 & 1 & 15 & 0 & 0.9803922 & 0.3947368 & 1958289 &  84 & 50822 & 0.9586 & 98.04 &  1.96\\\\\n",
       "\t ⋮ & ⋮ & ⋮ & ⋮ & ⋮ & ⋮ & ⋮ & ⋮ & ⋮ & ⋮ & ⋮ & ⋮ & ⋮ & ⋮\\\\\n",
       "\t SRS871517\\_\\_maxbin2\\_\\_High.012 & /ebio/abt3\\_projects/databases\\_no-backup/DeepMAsED/version2/real\\_data\\_eval/UHGG/LLMGQC\\_r100/LLMGA/final\\_MAGs/MAGs/SRS871517\\_\\_maxbin2\\_\\_High.012.fna.gz & 48 &  1 & 13 & 0 & 0.9411765 & 0.3421053 & 3310997 &   81 & 87759 & 0.9189 & 94.12 &  1.96\\\\\n",
       "\t ERS537292\\_\\_maxbin2\\_\\_High.007 & /ebio/abt3\\_projects/databases\\_no-backup/DeepMAsED/version2/real\\_data\\_eval/UHGG/LLMGQC\\_r100/LLMGA/final\\_MAGs/MAGs/ERS537292\\_\\_maxbin2\\_\\_High.007.fna.gz & 47 & 11 & 13 & 6 & 0.9215686 & 0.3421053 & 7686911 & 3022 &  2660 & 0.6537 & 92.16 & 21.57\\\\\n",
       "\\end{tabular}\n"
      ],
      "text/markdown": [
       "\n",
       "A tidytable: 1802 × 14\n",
       "\n",
       "| Name &lt;chr&gt; | Fasta &lt;chr&gt; | uniqueBacSCGs &lt;int&gt; | redundantBacSCGs &lt;int&gt; | uniqueArcSCGs &lt;int&gt; | redundantArcSCGs &lt;int&gt; | bacRatio &lt;dbl&gt; | arcRatio &lt;dbl&gt; | size &lt;int&gt; | contigs &lt;int&gt; | N50 &lt;int&gt; | binScore &lt;dbl&gt; | SCG_completeness &lt;dbl&gt; | SCG_redundancy &lt;dbl&gt; |\n",
       "|---|---|---|---|---|---|---|---|---|---|---|---|---|---|\n",
       "| SRS871448__maxbin2__Low.014 | /ebio/abt3_projects/databases_no-backup/DeepMAsED/version2/real_data_eval/UHGG/LLMGQC_r100/LLMGA/final_MAGs/MAGs/SRS871448__maxbin2__Low.014.fna.gz | 49 | 4 | 14 | 4 | 0.9607843 | 0.3684211 | 3638424 | 501 | 17758 | 0.8726 | 96.08 | 10.53 |\n",
       "| ERS746721__maxbin2__Low.077 | /ebio/abt3_projects/databases_no-backup/DeepMAsED/version2/real_data_eval/UHGG/LLMGQC_r100/LLMGA/final_MAGs/MAGs/ERS746721__maxbin2__Low.077.fna.gz | 50 | 1 | 15 | 0 | 0.9803922 | 0.3947368 | 1958289 |  84 | 50822 | 0.9586 | 98.04 |  1.96 |\n",
       "| ⋮ | ⋮ | ⋮ | ⋮ | ⋮ | ⋮ | ⋮ | ⋮ | ⋮ | ⋮ | ⋮ | ⋮ | ⋮ | ⋮ |\n",
       "| SRS871517__maxbin2__High.012 | /ebio/abt3_projects/databases_no-backup/DeepMAsED/version2/real_data_eval/UHGG/LLMGQC_r100/LLMGA/final_MAGs/MAGs/SRS871517__maxbin2__High.012.fna.gz | 48 |  1 | 13 | 0 | 0.9411765 | 0.3421053 | 3310997 |   81 | 87759 | 0.9189 | 94.12 |  1.96 |\n",
       "| ERS537292__maxbin2__High.007 | /ebio/abt3_projects/databases_no-backup/DeepMAsED/version2/real_data_eval/UHGG/LLMGQC_r100/LLMGA/final_MAGs/MAGs/ERS537292__maxbin2__High.007.fna.gz | 47 | 11 | 13 | 6 | 0.9215686 | 0.3421053 | 7686911 | 3022 |  2660 | 0.6537 | 92.16 | 21.57 |\n",
       "\n"
      ],
      "text/plain": [
       "     Name                        \n",
       "1    SRS871448__maxbin2__Low.014 \n",
       "2    ERS746721__maxbin2__Low.077 \n",
       "⋮    ⋮                           \n",
       "1801 SRS871517__maxbin2__High.012\n",
       "1802 ERS537292__maxbin2__High.007\n",
       "     Fasta                                                                                                                                               \n",
       "1    /ebio/abt3_projects/databases_no-backup/DeepMAsED/version2/real_data_eval/UHGG/LLMGQC_r100/LLMGA/final_MAGs/MAGs/SRS871448__maxbin2__Low.014.fna.gz \n",
       "2    /ebio/abt3_projects/databases_no-backup/DeepMAsED/version2/real_data_eval/UHGG/LLMGQC_r100/LLMGA/final_MAGs/MAGs/ERS746721__maxbin2__Low.077.fna.gz \n",
       "⋮    ⋮                                                                                                                                                   \n",
       "1801 /ebio/abt3_projects/databases_no-backup/DeepMAsED/version2/real_data_eval/UHGG/LLMGQC_r100/LLMGA/final_MAGs/MAGs/SRS871517__maxbin2__High.012.fna.gz\n",
       "1802 /ebio/abt3_projects/databases_no-backup/DeepMAsED/version2/real_data_eval/UHGG/LLMGQC_r100/LLMGA/final_MAGs/MAGs/ERS537292__maxbin2__High.007.fna.gz\n",
       "     uniqueBacSCGs redundantBacSCGs uniqueArcSCGs redundantArcSCGs bacRatio \n",
       "1    49            4                14            4                0.9607843\n",
       "2    50            1                15            0                0.9803922\n",
       "⋮    ⋮             ⋮                ⋮             ⋮                ⋮        \n",
       "1801 48             1               13            0                0.9411765\n",
       "1802 47            11               13            6                0.9215686\n",
       "     arcRatio  size    contigs N50   binScore SCG_completeness SCG_redundancy\n",
       "1    0.3684211 3638424 501     17758 0.8726   96.08            10.53         \n",
       "2    0.3947368 1958289  84     50822 0.9586   98.04             1.96         \n",
       "⋮    ⋮         ⋮       ⋮       ⋮     ⋮        ⋮                ⋮             \n",
       "1801 0.3421053 3310997   81    87759 0.9189   94.12             1.96         \n",
       "1802 0.3421053 7686911 3022     2660 0.6537   92.16            21.57         "
      ]
     },
     "metadata": {},
     "output_type": "display_data"
    }
   ],
   "source": [
    "mag_f = mag %>%\n",
    "    filter.(SCG_completeness > 90)\n",
    "mag_f"
   ]
  },
  {
   "cell_type": "markdown",
   "metadata": {},
   "source": [
    "#### Writing"
   ]
  },
  {
   "cell_type": "code",
   "execution_count": 41,
   "metadata": {
    "ExecuteTime": {
     "end_time": "2022-02-15T12:33:12.791557Z",
     "start_time": "2022-02-15T12:33:12.773Z"
    }
   },
   "outputs": [
    {
     "name": "stdout",
     "output_type": "stream",
     "text": [
      "File written: /ebio/abt3_projects/databases_no-backup/DeepMAsED/version2/real_data_eval/UHGG/LLMGQC_r100/LLMGA//final_MAGs/final_MAGs_comp90.tsv \n"
     ]
    }
   ],
   "source": [
    "F = file.path(work_dir, 'final_MAGs', 'final_MAGs_comp90.tsv')\n",
    "write_table(mag_f, F)"
   ]
  },
  {
   "cell_type": "markdown",
   "metadata": {},
   "source": [
    "## LLG"
   ]
  },
  {
   "cell_type": "code",
   "execution_count": 42,
   "metadata": {
    "ExecuteTime": {
     "end_time": "2022-02-15T12:33:38.432286Z",
     "start_time": "2022-02-15T12:33:38.417Z"
    }
   },
   "outputs": [
    {
     "name": "stdout",
     "output_type": "stream",
     "text": [
      "Created directory: /ebio/abt3_projects/databases_no-backup/DeepMAsED/version2/real_data_eval/UHGG/LLMGQC_r100/LLMGA//LLG \n"
     ]
    }
   ],
   "source": [
    "work_dir1 = file.path(work_dir, 'LLG')\n",
    "make_dir(work_dir1)"
   ]
  },
  {
   "cell_type": "markdown",
   "metadata": {},
   "source": [
    "### Config"
   ]
  },
  {
   "cell_type": "code",
   "execution_count": 45,
   "metadata": {
    "ExecuteTime": {
     "end_time": "2022-02-15T12:37:05.614974Z",
     "start_time": "2022-02-15T12:37:05.591Z"
    }
   },
   "outputs": [
    {
     "name": "stdout",
     "output_type": "stream",
     "text": [
      "# table with genome --> fasta_file information\n",
      "samples_file: /ebio/abt3_projects/databases_no-backup/DeepMAsED/version2/real_data_eval/UHGG/LLMGQC_r100/LLMGA/final_MAGs/final_MAGs_comp90.tsv\n",
      "\n",
      "# output location\n",
      "output_dir: /ebio/abt3_projects/databases_no-backup/DeepMAsED/version2/real_data_eval/UHGG/LLMGQC_r100/LLMGA/LLG/\n",
      "\n",
      "# temporary file directory (your username will be added automatically)\n",
      "tmp_dir: /ebio/abt3_scratch/\n",
      "\n",
      "# batch processing of genomes for certain steps\n",
      "## increase to better parallelize\n",
      "batches: 40\n",
      "\n",
      "# Domain of genomes ('Archaea' or 'Bacteria)\n",
      "## Use \"Skip\" if provided as a \"Domain\" column in the genome table\n",
      "Domain: Bacteria\n",
      "\n",
      "# Just run certain major pipeline steps?\n",
      "run_pipeline_steps:  \n",
      "  assembly_assessment: True\n",
      "  dereplication: True\n",
      "  taxonomy: False\n",
      "  ANI: False\n",
      "  rRNA: False\n",
      "  annotation: False\n",
      "  pseudogene: False\n",
      "  genome_phylogeny: False\n",
      "  phenotype: False\n",
      "  BGC: False\n",
      "  AMR_virulence: False\n",
      "  plasmids: False\n",
      "  HGT: False\n",
      "  CRISPR: False\n",
      "\n",
      "# software parameters\n",
      "# Use \"Skip\" to skip any of these steps. If no params for rule, use \"\"\n",
      "# dRep MAGs are not further analyzed, but you can de-rep & then use the de-rep genome table as input.\n",
      "params:\n",
      "  ionice: -c 3\n",
      "  # assembly assessment\n",
      "  seqkit: \"\"\n",
      "  quast:\n",
      "    run: Skip \n",
      "    multiqc: \"\" \n",
      "  checkm: \"\"\n",
      "  # de-replication (unskipped CheckM or genomeInfo file recommended)\n",
      "  drep:\n",
      "    algorithm: auto\n",
      "    params: -comp 90 -con 5 -sa 0.999\n",
      "    genomeInfo: Skip # e.g., tests/output_bac9/checkM/genomeInfo.csv\n",
      "  # taxonomy\n",
      "  sourmash:\n",
      "    compute: --scaled 10000 -k 31\n",
      "    gather: -k 31\n",
      "  gtdbtk:\n",
      "    classify_wf: --min_perc_aa 10\n",
      "  minimap2:\n",
      "    index: -k 15\n",
      "    run: -x asm5 -N 5\n",
      "    taxonomy: --min-coverage 0.5\n",
      "    keep_bam: True\n",
      "  # genome pairwise ANI  \n",
      "  fastani: --fragLen 3000 --minFraction 0.2 -k 16\n",
      "  dashing: -k 31 --full-tsv\n",
      "  comparem_aai: --evalue 0.001\n",
      "  # rRNA (16S alignment & phylogeny)\n",
      "  rRNA:\n",
      "    barrnap: --lencutoff 0.8\n",
      "    vsearch_per_genome_drep: --id 0.95\n",
      "    qiime2_fasttree: \"\"\n",
      "    qiime2_iqtree: --p-alrt 1000 --p-abayes --p-lbp 1000 --p-substitution-model 'GTR+I+G'\n",
      "  # gene annotation\n",
      "  gene_call:\n",
      "    prokka:\n",
      "      run: \"\"\n",
      "      multiqc: \"\"\n",
      "    prodigal: \"\"\n",
      "    merge_seqs: \"\"\n",
      "    stats: \"\"\n",
      "  eggnog_mapper:\n",
      "    map: --dmnd_iterate yes\n",
      "    annot: \"\"\n",
      "  # pseudogene detection\n",
      "  dfast: --minimum_length 200 --threshold \"0,75,75,1e-6\" --aligner ghostx\n",
      "  # genome phylogeny (requires annotation)\n",
      "  phylophlan:\n",
      "    config: --map_dna diamond --db_aa diamond --map_aa diamond\n",
      "            --msa mafft --trim trimal --tree1 fasttree --tree2 raxml\n",
      "    accuracy: --auto \n",
      "    other_params: --diversity high --min_num_markers 50\n",
      "  # phenotype (requires annotation)\n",
      "  traitar: \"\"\n",
      "  # biosynthetic gene clusters (BGCs)\n",
      "  antismash: --cb-knownclusters --cb-subclusters --asf  \n",
      "  DeepBGC: --score 0.5 --classifier-score 0.5\n",
      "  bigscape: --cutoffs 0.3 --mibig\n",
      "  # antimicrobial resistance (AMR) & virulence \n",
      "  abricate: --minid 75 --mincov 80\n",
      "  RGI: --alignment_tool BLAST\n",
      "  pathofact:\n",
      "    virulence: -E 1e-10\n",
      "    toxin: -T 40\n",
      "  # plasmids\n",
      "  platon: --mode accuracy\n",
      "  plasflow: --threshold 0.7\n",
      "  mob_suite:\n",
      "    typer: --multi\n",
      "    recon: \"\"\n",
      "  # HGT  \n",
      "  metachip: -r pcofg      # requires GTDB-Tk\n",
      "  # CRISPRs\n",
      "  cctyper: --prodigal meta\n",
      "  \n",
      "# databases\n",
      "databases:\n",
      "  checkM_data: /ebio/abt3_projects/databases_no-backup/checkM/\n",
      "  sourmash: /ebio/abt3_projects/databases_no-backup/sourmash/genbank-k31.sbt.json\n",
      "  sourmash_lca: /ebio/abt3_projects/databases_no-backup/sourmash/genbank-k31.lca.json.gz\n",
      "  gtdbtk: /ebio/abt3_projects/databases_no-backup/GTDB/release202/gtdbtk/db_info.md\n",
      "  minimap2: /ebio/abt3_projects/databases_no-backup/minimap2/GTDBr202_refGenomes.fna.gz\n",
      "  phylophlan: /ebio/abt3_projects/databases_no-backup/phylophlan/PhyloPhlan/phylophlan.faa.bz2\n",
      "  eggnog: /ebio/abt3_projects/databases_no-backup/Eggnog/v2.1.6/eggnog.db\n",
      "  eggnog_diamond: /ebio/abt3_projects/databases_no-backup/Eggnog/v2.1.6/eggnog_proteins.dmnd\n",
      "  antismash: /ebio/abt3_projects/databases_no-backup/antismash/v5/  \n",
      "  deepbgc: /ebio/abt3_projects/databases_no-backup/DeepBGC/\n",
      "  bigscape: /ebio/abt3_projects/databases_no-backup/BiGSCAPE/2021-04-03/Pfam-A.hmm\n",
      "  traitar: /ebio/abt3_projects/databases_no-backup/pfam/traitar/\n",
      "  platon: /ebio/abt3_projects/databases_no-backup/platon/2021-04/README.md\n",
      "  taxdump: \n",
      "    names: /ebio/abt3_projects/databases_no-backup/GTDB/release202/taxdump/names.dmp\n",
      "    nodes: /ebio/abt3_projects/databases_no-backup/GTDB/release202/taxdump/nodes.dmp\n",
      "  abricate:\n",
      "    ncbi: /ebio/abt3_projects/databases_no-backup/abricate/ncbi/sequences\n",
      "    card: /ebio/abt3_projects/databases_no-backup/abricate/card/sequences\n",
      "    resfinder: /ebio/abt3_projects/databases_no-backup/abricate/resfinder/sequences\n",
      "    argannot: /ebio/abt3_projects/databases_no-backup/abricate/argannot/sequences\n",
      "    bacmet2: /ebio/abt3_projects/databases_no-backup/abricate/bacmet2/sequences\n",
      "    vfdb: /ebio/abt3_projects/databases_no-backup/abricate/vfdb/sequences\n",
      "    megares: /ebio/abt3_projects/databases_no-backup/abricate/megares/sequences\n",
      "    plasmidfinder: /ebio/abt3_projects/databases_no-backup/abricate/plasmidfinder/sequences\n",
      "  RGI:\n",
      "    card:\n",
      "      json: /ebio/abt3_projects/databases_no-backup/CARD/v3.0.9/card.json\n",
      "      fasta: /ebio/abt3_projects/databases_no-backup/CARD/v3.0.9/card_database_v3.0.9.fasta\n",
      "  pathofact:\n",
      "    vir_hmm: /ebio/abt3_projects/databases_no-backup/PathoFact/v1.0/virulence/Virulence_factor.hmm\n",
      "    pos_dom: /ebio/abt3_projects/databases_no-backup/PathoFact/v1.0/models_and_domains/positive_domains.tsv\n",
      "    neg_dom: /ebio/abt3_projects/databases_no-backup/PathoFact/v1.0/models_and_domains/negative_domains.tsv\n",
      "    shared_dom: /ebio/abt3_projects/databases_no-backup/PathoFact/v1.0/models_and_domains/shared_domains.tsv\n",
      "    model: /ebio/abt3_projects/databases_no-backup/PathoFact/v1.0/virulence/Virulence_factor_model.sav\n",
      "    toxin_hmm: /ebio/abt3_projects/databases_no-backup/PathoFact/v1.0/toxins/combined_Toxin.hmm\n",
      "    toxin_names: /ebio/abt3_projects/databases_no-backup/PathoFact/v1.0/toxins/library_HMM_Toxins.tsv\n",
      "  mob_suite: /ebio/abt3_projects/databases_no-backup/mob_suite/v3.0.3/README.md\n",
      "  dfast: /ebio/abt3_projects/databases_no-backup/dfast/211102/\n",
      "    \n",
      "# snakemake pipeline\n",
      "pipeline:\n",
      "  snakemake_folder: ./\n",
      "  script_folder: ./bin/scripts/\n",
      "  use_shared_mem: True\n",
      "  export_conda: True\n",
      "  name: LLG"
     ]
    }
   ],
   "source": [
    "F = file.path(work_dir1, 'config.yaml')\n",
    "cat_file(F)"
   ]
  },
  {
   "cell_type": "markdown",
   "metadata": {},
   "source": [
    "### Run"
   ]
  },
  {
   "cell_type": "markdown",
   "metadata": {},
   "source": [
    "```\n",
    "(snakemake) @ rick:/tmp/global2/nyoungblut/code/dev/ll_pipelines/llg\n",
    "$ screen -L -S llg-uhgg ./snakemake_sge.sh /ebio/abt3_projects/databases_no-backup/DeepMAsED/version2/real_data_eval/UHGG/LLMGQC_r100/LLMGA/LLG/config.yaml 40 -F\n",
    "```"
   ]
  },
  {
   "cell_type": "markdown",
   "metadata": {},
   "source": [
    "## dRep"
   ]
  },
  {
   "cell_type": "code",
   "execution_count": 57,
   "metadata": {
    "ExecuteTime": {
     "end_time": "2022-02-16T08:45:11.637286Z",
     "start_time": "2022-02-16T08:45:11.595Z"
    }
   },
   "outputs": [
    {
     "data": {
      "text/html": [
       "<table class=\"dataframe\">\n",
       "<caption>A tidytable: 1115 × 3</caption>\n",
       "<thead>\n",
       "\t<tr><th scope=col>Name</th><th scope=col>Fasta</th><th scope=col>Sample</th></tr>\n",
       "\t<tr><th scope=col>&lt;chr&gt;</th><th scope=col>&lt;chr&gt;</th><th scope=col>&lt;chr&gt;</th></tr>\n",
       "</thead>\n",
       "<tbody>\n",
       "\t<tr><td>SRS475648__maxbin2__Low_050</td><td>/ebio/abt3_projects/databases_no-backup/DeepMAsED/version2/real_data_eval/UHGG/LLMGQC_r100/LLMGA/LLG/drep/drep/dereplicated_genomes/SRS475648__maxbin2__Low_050.fna</td><td>SRS475648</td></tr>\n",
       "\t<tr><td>SRS475648__maxbin2__Med_022</td><td>/ebio/abt3_projects/databases_no-backup/DeepMAsED/version2/real_data_eval/UHGG/LLMGQC_r100/LLMGA/LLG/drep/drep/dereplicated_genomes/SRS475648__maxbin2__Med_022.fna</td><td>SRS475648</td></tr>\n",
       "\t<tr><td>⋮</td><td>⋮</td><td>⋮</td></tr>\n",
       "\t<tr><td>SRS475648__maxbin2__Low_037</td><td>/ebio/abt3_projects/databases_no-backup/DeepMAsED/version2/real_data_eval/UHGG/LLMGQC_r100/LLMGA/LLG/drep/drep/dereplicated_genomes/SRS475648__maxbin2__Low_037.fna</td><td>SRS475648</td></tr>\n",
       "\t<tr><td>SRS576031__maxbin2__Low_010</td><td>/ebio/abt3_projects/databases_no-backup/DeepMAsED/version2/real_data_eval/UHGG/LLMGQC_r100/LLMGA/LLG/drep/drep/dereplicated_genomes/SRS576031__maxbin2__Low_010.fna</td><td>SRS576031</td></tr>\n",
       "</tbody>\n",
       "</table>\n"
      ],
      "text/latex": [
       "A tidytable: 1115 × 3\n",
       "\\begin{tabular}{lll}\n",
       " Name & Fasta & Sample\\\\\n",
       " <chr> & <chr> & <chr>\\\\\n",
       "\\hline\n",
       "\t SRS475648\\_\\_maxbin2\\_\\_Low\\_050 & /ebio/abt3\\_projects/databases\\_no-backup/DeepMAsED/version2/real\\_data\\_eval/UHGG/LLMGQC\\_r100/LLMGA/LLG/drep/drep/dereplicated\\_genomes/SRS475648\\_\\_maxbin2\\_\\_Low\\_050.fna & SRS475648\\\\\n",
       "\t SRS475648\\_\\_maxbin2\\_\\_Med\\_022 & /ebio/abt3\\_projects/databases\\_no-backup/DeepMAsED/version2/real\\_data\\_eval/UHGG/LLMGQC\\_r100/LLMGA/LLG/drep/drep/dereplicated\\_genomes/SRS475648\\_\\_maxbin2\\_\\_Med\\_022.fna & SRS475648\\\\\n",
       "\t ⋮ & ⋮ & ⋮\\\\\n",
       "\t SRS475648\\_\\_maxbin2\\_\\_Low\\_037 & /ebio/abt3\\_projects/databases\\_no-backup/DeepMAsED/version2/real\\_data\\_eval/UHGG/LLMGQC\\_r100/LLMGA/LLG/drep/drep/dereplicated\\_genomes/SRS475648\\_\\_maxbin2\\_\\_Low\\_037.fna & SRS475648\\\\\n",
       "\t SRS576031\\_\\_maxbin2\\_\\_Low\\_010 & /ebio/abt3\\_projects/databases\\_no-backup/DeepMAsED/version2/real\\_data\\_eval/UHGG/LLMGQC\\_r100/LLMGA/LLG/drep/drep/dereplicated\\_genomes/SRS576031\\_\\_maxbin2\\_\\_Low\\_010.fna & SRS576031\\\\\n",
       "\\end{tabular}\n"
      ],
      "text/markdown": [
       "\n",
       "A tidytable: 1115 × 3\n",
       "\n",
       "| Name &lt;chr&gt; | Fasta &lt;chr&gt; | Sample &lt;chr&gt; |\n",
       "|---|---|---|\n",
       "| SRS475648__maxbin2__Low_050 | /ebio/abt3_projects/databases_no-backup/DeepMAsED/version2/real_data_eval/UHGG/LLMGQC_r100/LLMGA/LLG/drep/drep/dereplicated_genomes/SRS475648__maxbin2__Low_050.fna | SRS475648 |\n",
       "| SRS475648__maxbin2__Med_022 | /ebio/abt3_projects/databases_no-backup/DeepMAsED/version2/real_data_eval/UHGG/LLMGQC_r100/LLMGA/LLG/drep/drep/dereplicated_genomes/SRS475648__maxbin2__Med_022.fna | SRS475648 |\n",
       "| ⋮ | ⋮ | ⋮ |\n",
       "| SRS475648__maxbin2__Low_037 | /ebio/abt3_projects/databases_no-backup/DeepMAsED/version2/real_data_eval/UHGG/LLMGQC_r100/LLMGA/LLG/drep/drep/dereplicated_genomes/SRS475648__maxbin2__Low_037.fna | SRS475648 |\n",
       "| SRS576031__maxbin2__Low_010 | /ebio/abt3_projects/databases_no-backup/DeepMAsED/version2/real_data_eval/UHGG/LLMGQC_r100/LLMGA/LLG/drep/drep/dereplicated_genomes/SRS576031__maxbin2__Low_010.fna | SRS576031 |\n",
       "\n"
      ],
      "text/plain": [
       "     Name                       \n",
       "1    SRS475648__maxbin2__Low_050\n",
       "2    SRS475648__maxbin2__Med_022\n",
       "⋮    ⋮                          \n",
       "1114 SRS475648__maxbin2__Low_037\n",
       "1115 SRS576031__maxbin2__Low_010\n",
       "     Fasta                                                                                                                                                              \n",
       "1    /ebio/abt3_projects/databases_no-backup/DeepMAsED/version2/real_data_eval/UHGG/LLMGQC_r100/LLMGA/LLG/drep/drep/dereplicated_genomes/SRS475648__maxbin2__Low_050.fna\n",
       "2    /ebio/abt3_projects/databases_no-backup/DeepMAsED/version2/real_data_eval/UHGG/LLMGQC_r100/LLMGA/LLG/drep/drep/dereplicated_genomes/SRS475648__maxbin2__Med_022.fna\n",
       "⋮    ⋮                                                                                                                                                                  \n",
       "1114 /ebio/abt3_projects/databases_no-backup/DeepMAsED/version2/real_data_eval/UHGG/LLMGQC_r100/LLMGA/LLG/drep/drep/dereplicated_genomes/SRS475648__maxbin2__Low_037.fna\n",
       "1115 /ebio/abt3_projects/databases_no-backup/DeepMAsED/version2/real_data_eval/UHGG/LLMGQC_r100/LLMGA/LLG/drep/drep/dereplicated_genomes/SRS576031__maxbin2__Low_010.fna\n",
       "     Sample   \n",
       "1    SRS475648\n",
       "2    SRS475648\n",
       "⋮    ⋮        \n",
       "1114 SRS475648\n",
       "1115 SRS576031"
      ]
     },
     "metadata": {},
     "output_type": "display_data"
    }
   ],
   "source": [
    "F = file.path(work_dir, 'LLG', 'drep', 'dereplicated_genomes.tsv')\n",
    "drep = Fread(F) %>%\n",
    "    mutate.(Sample = gsub('__.+', '', Name))\n",
    "drep"
   ]
  },
  {
   "cell_type": "code",
   "execution_count": 58,
   "metadata": {
    "ExecuteTime": {
     "end_time": "2022-02-16T08:45:14.247680Z",
     "start_time": "2022-02-16T08:45:14.207Z"
    }
   },
   "outputs": [
    {
     "data": {
      "text/html": [
       "<table class=\"dataframe\">\n",
       "<caption>A tidytable: 1120 × 6</caption>\n",
       "<thead>\n",
       "\t<tr><th scope=col>genome</th><th scope=col>secondary_cluster</th><th scope=col>threshold</th><th scope=col>cluster_method</th><th scope=col>comparison_algorithm</th><th scope=col>primary_cluster</th></tr>\n",
       "\t<tr><th scope=col>&lt;chr&gt;</th><th scope=col>&lt;chr&gt;</th><th scope=col>&lt;dbl&gt;</th><th scope=col>&lt;chr&gt;</th><th scope=col>&lt;chr&gt;</th><th scope=col>&lt;int&gt;</th></tr>\n",
       "</thead>\n",
       "<tbody>\n",
       "\t<tr><td>SRS475648__maxbin2__Low_050</td><td>1_0</td><td>0.001</td><td>average</td><td>fastANI</td><td>1</td></tr>\n",
       "\t<tr><td>SRS475648__maxbin2__Med_022</td><td>2_0</td><td>0.001</td><td>average</td><td>fastANI</td><td>2</td></tr>\n",
       "\t<tr><td>⋮</td><td>⋮</td><td>⋮</td><td>⋮</td><td>⋮</td><td>⋮</td></tr>\n",
       "\t<tr><td>SRS475648__maxbin2__Low_037</td><td>236_0</td><td>0.001</td><td>average</td><td>fastANI</td><td>236</td></tr>\n",
       "\t<tr><td>SRS576031__maxbin2__Low_010</td><td>237_0</td><td>0.001</td><td>average</td><td>fastANI</td><td>237</td></tr>\n",
       "</tbody>\n",
       "</table>\n"
      ],
      "text/latex": [
       "A tidytable: 1120 × 6\n",
       "\\begin{tabular}{llllll}\n",
       " genome & secondary\\_cluster & threshold & cluster\\_method & comparison\\_algorithm & primary\\_cluster\\\\\n",
       " <chr> & <chr> & <dbl> & <chr> & <chr> & <int>\\\\\n",
       "\\hline\n",
       "\t SRS475648\\_\\_maxbin2\\_\\_Low\\_050 & 1\\_0 & 0.001 & average & fastANI & 1\\\\\n",
       "\t SRS475648\\_\\_maxbin2\\_\\_Med\\_022 & 2\\_0 & 0.001 & average & fastANI & 2\\\\\n",
       "\t ⋮ & ⋮ & ⋮ & ⋮ & ⋮ & ⋮\\\\\n",
       "\t SRS475648\\_\\_maxbin2\\_\\_Low\\_037 & 236\\_0 & 0.001 & average & fastANI & 236\\\\\n",
       "\t SRS576031\\_\\_maxbin2\\_\\_Low\\_010 & 237\\_0 & 0.001 & average & fastANI & 237\\\\\n",
       "\\end{tabular}\n"
      ],
      "text/markdown": [
       "\n",
       "A tidytable: 1120 × 6\n",
       "\n",
       "| genome &lt;chr&gt; | secondary_cluster &lt;chr&gt; | threshold &lt;dbl&gt; | cluster_method &lt;chr&gt; | comparison_algorithm &lt;chr&gt; | primary_cluster &lt;int&gt; |\n",
       "|---|---|---|---|---|---|\n",
       "| SRS475648__maxbin2__Low_050 | 1_0 | 0.001 | average | fastANI | 1 |\n",
       "| SRS475648__maxbin2__Med_022 | 2_0 | 0.001 | average | fastANI | 2 |\n",
       "| ⋮ | ⋮ | ⋮ | ⋮ | ⋮ | ⋮ |\n",
       "| SRS475648__maxbin2__Low_037 | 236_0 | 0.001 | average | fastANI | 236 |\n",
       "| SRS576031__maxbin2__Low_010 | 237_0 | 0.001 | average | fastANI | 237 |\n",
       "\n"
      ],
      "text/plain": [
       "     genome                      secondary_cluster threshold cluster_method\n",
       "1    SRS475648__maxbin2__Low_050 1_0               0.001     average       \n",
       "2    SRS475648__maxbin2__Med_022 2_0               0.001     average       \n",
       "⋮    ⋮                           ⋮                 ⋮         ⋮             \n",
       "1119 SRS475648__maxbin2__Low_037 236_0             0.001     average       \n",
       "1120 SRS576031__maxbin2__Low_010 237_0             0.001     average       \n",
       "     comparison_algorithm primary_cluster\n",
       "1    fastANI              1              \n",
       "2    fastANI              2              \n",
       "⋮    ⋮                    ⋮              \n",
       "1119 fastANI              236            \n",
       "1120 fastANI              237            "
      ]
     },
     "metadata": {},
     "output_type": "display_data"
    }
   ],
   "source": [
    "F = file.path(work_dir, 'LLG', 'drep', 'drep', 'data_tables', 'Cdb.csv')\n",
    "drep_c = Fread(F, sep=',') %>%\n",
    "    mutate.(genome = gsub('\\\\.fna$', '', genome))\n",
    "drep_c"
   ]
  },
  {
   "cell_type": "code",
   "execution_count": 59,
   "metadata": {
    "ExecuteTime": {
     "end_time": "2022-02-16T08:45:15.147139Z",
     "start_time": "2022-02-16T08:45:15.126Z"
    }
   },
   "outputs": [
    {
     "name": "stdout",
     "output_type": "stream",
     "text": [
      "intersect(x,y): 1115 \n",
      "setdiff(x,y): 0 \n",
      "setdiff(y,x): 5 \n",
      "union(x,y): 1120 \n"
     ]
    }
   ],
   "source": [
    "overlap(drep$Name, drep_c$genome)"
   ]
  },
  {
   "cell_type": "markdown",
   "metadata": {},
   "source": [
    "## ResMiCo-SM"
   ]
  },
  {
   "cell_type": "markdown",
   "metadata": {},
   "source": [
    "### Samples table"
   ]
  },
  {
   "cell_type": "code",
   "execution_count": 62,
   "metadata": {
    "ExecuteTime": {
     "end_time": "2022-02-16T08:45:57.065355Z",
     "start_time": "2022-02-16T08:45:57.026Z"
    }
   },
   "outputs": [
    {
     "data": {
      "text/html": [
       "<table class=\"dataframe\">\n",
       "<caption>A tidytable: 100 × 3</caption>\n",
       "<thead>\n",
       "\t<tr><th scope=col>Sample</th><th scope=col>Read1</th><th scope=col>Read2</th></tr>\n",
       "\t<tr><th scope=col>&lt;chr&gt;</th><th scope=col>&lt;chr&gt;</th><th scope=col>&lt;chr&gt;</th></tr>\n",
       "</thead>\n",
       "<tbody>\n",
       "\t<tr><td>ERS473032</td><td>/ebio/abt3_projects/databases_no-backup/DeepMAsED/version2/real_data_eval/UHGG/LLMGQC_r100/final/ERS473032/R1_final.fq.gz</td><td>/ebio/abt3_projects/databases_no-backup/DeepMAsED/version2/real_data_eval/UHGG/LLMGQC_r100/final/ERS473032/R2_final.fq.gz</td></tr>\n",
       "\t<tr><td>ERS473044</td><td>/ebio/abt3_projects/databases_no-backup/DeepMAsED/version2/real_data_eval/UHGG/LLMGQC_r100/final/ERS473044/R1_final.fq.gz</td><td>/ebio/abt3_projects/databases_no-backup/DeepMAsED/version2/real_data_eval/UHGG/LLMGQC_r100/final/ERS473044/R2_final.fq.gz</td></tr>\n",
       "\t<tr><td>⋮</td><td>⋮</td><td>⋮</td></tr>\n",
       "\t<tr><td>ERS436684</td><td>/ebio/abt3_projects/databases_no-backup/DeepMAsED/version2/real_data_eval/UHGG/LLMGQC_r100/final/ERS436684/R1_final.fq.gz</td><td>/ebio/abt3_projects/databases_no-backup/DeepMAsED/version2/real_data_eval/UHGG/LLMGQC_r100/final/ERS436684/R2_final.fq.gz</td></tr>\n",
       "\t<tr><td>ERS436831</td><td>/ebio/abt3_projects/databases_no-backup/DeepMAsED/version2/real_data_eval/UHGG/LLMGQC_r100/final/ERS436831/R1_final.fq.gz</td><td>/ebio/abt3_projects/databases_no-backup/DeepMAsED/version2/real_data_eval/UHGG/LLMGQC_r100/final/ERS436831/R2_final.fq.gz</td></tr>\n",
       "</tbody>\n",
       "</table>\n"
      ],
      "text/latex": [
       "A tidytable: 100 × 3\n",
       "\\begin{tabular}{lll}\n",
       " Sample & Read1 & Read2\\\\\n",
       " <chr> & <chr> & <chr>\\\\\n",
       "\\hline\n",
       "\t ERS473032 & /ebio/abt3\\_projects/databases\\_no-backup/DeepMAsED/version2/real\\_data\\_eval/UHGG/LLMGQC\\_r100/final/ERS473032/R1\\_final.fq.gz & /ebio/abt3\\_projects/databases\\_no-backup/DeepMAsED/version2/real\\_data\\_eval/UHGG/LLMGQC\\_r100/final/ERS473032/R2\\_final.fq.gz\\\\\n",
       "\t ERS473044 & /ebio/abt3\\_projects/databases\\_no-backup/DeepMAsED/version2/real\\_data\\_eval/UHGG/LLMGQC\\_r100/final/ERS473044/R1\\_final.fq.gz & /ebio/abt3\\_projects/databases\\_no-backup/DeepMAsED/version2/real\\_data\\_eval/UHGG/LLMGQC\\_r100/final/ERS473044/R2\\_final.fq.gz\\\\\n",
       "\t ⋮ & ⋮ & ⋮\\\\\n",
       "\t ERS436684 & /ebio/abt3\\_projects/databases\\_no-backup/DeepMAsED/version2/real\\_data\\_eval/UHGG/LLMGQC\\_r100/final/ERS436684/R1\\_final.fq.gz & /ebio/abt3\\_projects/databases\\_no-backup/DeepMAsED/version2/real\\_data\\_eval/UHGG/LLMGQC\\_r100/final/ERS436684/R2\\_final.fq.gz\\\\\n",
       "\t ERS436831 & /ebio/abt3\\_projects/databases\\_no-backup/DeepMAsED/version2/real\\_data\\_eval/UHGG/LLMGQC\\_r100/final/ERS436831/R1\\_final.fq.gz & /ebio/abt3\\_projects/databases\\_no-backup/DeepMAsED/version2/real\\_data\\_eval/UHGG/LLMGQC\\_r100/final/ERS436831/R2\\_final.fq.gz\\\\\n",
       "\\end{tabular}\n"
      ],
      "text/markdown": [
       "\n",
       "A tidytable: 100 × 3\n",
       "\n",
       "| Sample &lt;chr&gt; | Read1 &lt;chr&gt; | Read2 &lt;chr&gt; |\n",
       "|---|---|---|\n",
       "| ERS473032 | /ebio/abt3_projects/databases_no-backup/DeepMAsED/version2/real_data_eval/UHGG/LLMGQC_r100/final/ERS473032/R1_final.fq.gz | /ebio/abt3_projects/databases_no-backup/DeepMAsED/version2/real_data_eval/UHGG/LLMGQC_r100/final/ERS473032/R2_final.fq.gz |\n",
       "| ERS473044 | /ebio/abt3_projects/databases_no-backup/DeepMAsED/version2/real_data_eval/UHGG/LLMGQC_r100/final/ERS473044/R1_final.fq.gz | /ebio/abt3_projects/databases_no-backup/DeepMAsED/version2/real_data_eval/UHGG/LLMGQC_r100/final/ERS473044/R2_final.fq.gz |\n",
       "| ⋮ | ⋮ | ⋮ |\n",
       "| ERS436684 | /ebio/abt3_projects/databases_no-backup/DeepMAsED/version2/real_data_eval/UHGG/LLMGQC_r100/final/ERS436684/R1_final.fq.gz | /ebio/abt3_projects/databases_no-backup/DeepMAsED/version2/real_data_eval/UHGG/LLMGQC_r100/final/ERS436684/R2_final.fq.gz |\n",
       "| ERS436831 | /ebio/abt3_projects/databases_no-backup/DeepMAsED/version2/real_data_eval/UHGG/LLMGQC_r100/final/ERS436831/R1_final.fq.gz | /ebio/abt3_projects/databases_no-backup/DeepMAsED/version2/real_data_eval/UHGG/LLMGQC_r100/final/ERS436831/R2_final.fq.gz |\n",
       "\n"
      ],
      "text/plain": [
       "    Sample   \n",
       "1   ERS473032\n",
       "2   ERS473044\n",
       "⋮   ⋮        \n",
       "99  ERS436684\n",
       "100 ERS436831\n",
       "    Read1                                                                                                                    \n",
       "1   /ebio/abt3_projects/databases_no-backup/DeepMAsED/version2/real_data_eval/UHGG/LLMGQC_r100/final/ERS473032/R1_final.fq.gz\n",
       "2   /ebio/abt3_projects/databases_no-backup/DeepMAsED/version2/real_data_eval/UHGG/LLMGQC_r100/final/ERS473044/R1_final.fq.gz\n",
       "⋮   ⋮                                                                                                                        \n",
       "99  /ebio/abt3_projects/databases_no-backup/DeepMAsED/version2/real_data_eval/UHGG/LLMGQC_r100/final/ERS436684/R1_final.fq.gz\n",
       "100 /ebio/abt3_projects/databases_no-backup/DeepMAsED/version2/real_data_eval/UHGG/LLMGQC_r100/final/ERS436831/R1_final.fq.gz\n",
       "    Read2                                                                                                                    \n",
       "1   /ebio/abt3_projects/databases_no-backup/DeepMAsED/version2/real_data_eval/UHGG/LLMGQC_r100/final/ERS473032/R2_final.fq.gz\n",
       "2   /ebio/abt3_projects/databases_no-backup/DeepMAsED/version2/real_data_eval/UHGG/LLMGQC_r100/final/ERS473044/R2_final.fq.gz\n",
       "⋮   ⋮                                                                                                                        \n",
       "99  /ebio/abt3_projects/databases_no-backup/DeepMAsED/version2/real_data_eval/UHGG/LLMGQC_r100/final/ERS436684/R2_final.fq.gz\n",
       "100 /ebio/abt3_projects/databases_no-backup/DeepMAsED/version2/real_data_eval/UHGG/LLMGQC_r100/final/ERS436831/R2_final.fq.gz"
      ]
     },
     "metadata": {},
     "output_type": "display_data"
    }
   ],
   "source": [
    "F = file.path(work_dir, 'samples.tsv')\n",
    "samps = Fread(F) %>%\n",
    "    select.(Sample, Read1, Read2)\n",
    "samps"
   ]
  },
  {
   "cell_type": "code",
   "execution_count": 66,
   "metadata": {
    "ExecuteTime": {
     "end_time": "2022-02-16T08:46:33.793067Z",
     "start_time": "2022-02-16T08:46:33.754Z"
    }
   },
   "outputs": [
    {
     "name": "stdout",
     "output_type": "stream",
     "text": [
      "intersect(x,y): 98 \n",
      "setdiff(x,y): 0 \n",
      "setdiff(y,x): 2 \n",
      "union(x,y): 100 \n"
     ]
    },
    {
     "data": {
      "text/html": [
       "<table class=\"dataframe\">\n",
       "<caption>A tidytable: 1115 × 5</caption>\n",
       "<thead>\n",
       "\t<tr><th scope=col>Taxon</th><th scope=col>Fasta</th><th scope=col>Sample</th><th scope=col>Read1</th><th scope=col>Read2</th></tr>\n",
       "\t<tr><th scope=col>&lt;chr&gt;</th><th scope=col>&lt;chr&gt;</th><th scope=col>&lt;chr&gt;</th><th scope=col>&lt;chr&gt;</th><th scope=col>&lt;chr&gt;</th></tr>\n",
       "</thead>\n",
       "<tbody>\n",
       "\t<tr><td>ERS473032__maxbin2__Low_029 </td><td>/ebio/abt3_projects/databases_no-backup/DeepMAsED/version2/real_data_eval/UHGG/LLMGQC_r100/LLMGA/LLG/drep/drep/dereplicated_genomes/ERS473032__maxbin2__Low_029.fna </td><td>ERS473032</td><td>/ebio/abt3_projects/databases_no-backup/DeepMAsED/version2/real_data_eval/UHGG/LLMGQC_r100/final/ERS473032/R1_final.fq.gz</td><td>/ebio/abt3_projects/databases_no-backup/DeepMAsED/version2/real_data_eval/UHGG/LLMGQC_r100/final/ERS473032/R2_final.fq.gz</td></tr>\n",
       "\t<tr><td>ERS473032__maxbin2__High_022</td><td>/ebio/abt3_projects/databases_no-backup/DeepMAsED/version2/real_data_eval/UHGG/LLMGQC_r100/LLMGA/LLG/drep/drep/dereplicated_genomes/ERS473032__maxbin2__High_022.fna</td><td>ERS473032</td><td>/ebio/abt3_projects/databases_no-backup/DeepMAsED/version2/real_data_eval/UHGG/LLMGQC_r100/final/ERS473032/R1_final.fq.gz</td><td>/ebio/abt3_projects/databases_no-backup/DeepMAsED/version2/real_data_eval/UHGG/LLMGQC_r100/final/ERS473032/R2_final.fq.gz</td></tr>\n",
       "\t<tr><td>⋮</td><td>⋮</td><td>⋮</td><td>⋮</td><td>⋮</td></tr>\n",
       "\t<tr><td>ERS436831__maxbin2__High_047</td><td>/ebio/abt3_projects/databases_no-backup/DeepMAsED/version2/real_data_eval/UHGG/LLMGQC_r100/LLMGA/LLG/drep/drep/dereplicated_genomes/ERS436831__maxbin2__High_047.fna</td><td>ERS436831</td><td>/ebio/abt3_projects/databases_no-backup/DeepMAsED/version2/real_data_eval/UHGG/LLMGQC_r100/final/ERS436831/R1_final.fq.gz</td><td>/ebio/abt3_projects/databases_no-backup/DeepMAsED/version2/real_data_eval/UHGG/LLMGQC_r100/final/ERS436831/R2_final.fq.gz</td></tr>\n",
       "\t<tr><td>ERS436831__maxbin2__High_014</td><td>/ebio/abt3_projects/databases_no-backup/DeepMAsED/version2/real_data_eval/UHGG/LLMGQC_r100/LLMGA/LLG/drep/drep/dereplicated_genomes/ERS436831__maxbin2__High_014.fna</td><td>ERS436831</td><td>/ebio/abt3_projects/databases_no-backup/DeepMAsED/version2/real_data_eval/UHGG/LLMGQC_r100/final/ERS436831/R1_final.fq.gz</td><td>/ebio/abt3_projects/databases_no-backup/DeepMAsED/version2/real_data_eval/UHGG/LLMGQC_r100/final/ERS436831/R2_final.fq.gz</td></tr>\n",
       "</tbody>\n",
       "</table>\n"
      ],
      "text/latex": [
       "A tidytable: 1115 × 5\n",
       "\\begin{tabular}{lllll}\n",
       " Taxon & Fasta & Sample & Read1 & Read2\\\\\n",
       " <chr> & <chr> & <chr> & <chr> & <chr>\\\\\n",
       "\\hline\n",
       "\t ERS473032\\_\\_maxbin2\\_\\_Low\\_029  & /ebio/abt3\\_projects/databases\\_no-backup/DeepMAsED/version2/real\\_data\\_eval/UHGG/LLMGQC\\_r100/LLMGA/LLG/drep/drep/dereplicated\\_genomes/ERS473032\\_\\_maxbin2\\_\\_Low\\_029.fna  & ERS473032 & /ebio/abt3\\_projects/databases\\_no-backup/DeepMAsED/version2/real\\_data\\_eval/UHGG/LLMGQC\\_r100/final/ERS473032/R1\\_final.fq.gz & /ebio/abt3\\_projects/databases\\_no-backup/DeepMAsED/version2/real\\_data\\_eval/UHGG/LLMGQC\\_r100/final/ERS473032/R2\\_final.fq.gz\\\\\n",
       "\t ERS473032\\_\\_maxbin2\\_\\_High\\_022 & /ebio/abt3\\_projects/databases\\_no-backup/DeepMAsED/version2/real\\_data\\_eval/UHGG/LLMGQC\\_r100/LLMGA/LLG/drep/drep/dereplicated\\_genomes/ERS473032\\_\\_maxbin2\\_\\_High\\_022.fna & ERS473032 & /ebio/abt3\\_projects/databases\\_no-backup/DeepMAsED/version2/real\\_data\\_eval/UHGG/LLMGQC\\_r100/final/ERS473032/R1\\_final.fq.gz & /ebio/abt3\\_projects/databases\\_no-backup/DeepMAsED/version2/real\\_data\\_eval/UHGG/LLMGQC\\_r100/final/ERS473032/R2\\_final.fq.gz\\\\\n",
       "\t ⋮ & ⋮ & ⋮ & ⋮ & ⋮\\\\\n",
       "\t ERS436831\\_\\_maxbin2\\_\\_High\\_047 & /ebio/abt3\\_projects/databases\\_no-backup/DeepMAsED/version2/real\\_data\\_eval/UHGG/LLMGQC\\_r100/LLMGA/LLG/drep/drep/dereplicated\\_genomes/ERS436831\\_\\_maxbin2\\_\\_High\\_047.fna & ERS436831 & /ebio/abt3\\_projects/databases\\_no-backup/DeepMAsED/version2/real\\_data\\_eval/UHGG/LLMGQC\\_r100/final/ERS436831/R1\\_final.fq.gz & /ebio/abt3\\_projects/databases\\_no-backup/DeepMAsED/version2/real\\_data\\_eval/UHGG/LLMGQC\\_r100/final/ERS436831/R2\\_final.fq.gz\\\\\n",
       "\t ERS436831\\_\\_maxbin2\\_\\_High\\_014 & /ebio/abt3\\_projects/databases\\_no-backup/DeepMAsED/version2/real\\_data\\_eval/UHGG/LLMGQC\\_r100/LLMGA/LLG/drep/drep/dereplicated\\_genomes/ERS436831\\_\\_maxbin2\\_\\_High\\_014.fna & ERS436831 & /ebio/abt3\\_projects/databases\\_no-backup/DeepMAsED/version2/real\\_data\\_eval/UHGG/LLMGQC\\_r100/final/ERS436831/R1\\_final.fq.gz & /ebio/abt3\\_projects/databases\\_no-backup/DeepMAsED/version2/real\\_data\\_eval/UHGG/LLMGQC\\_r100/final/ERS436831/R2\\_final.fq.gz\\\\\n",
       "\\end{tabular}\n"
      ],
      "text/markdown": [
       "\n",
       "A tidytable: 1115 × 5\n",
       "\n",
       "| Taxon &lt;chr&gt; | Fasta &lt;chr&gt; | Sample &lt;chr&gt; | Read1 &lt;chr&gt; | Read2 &lt;chr&gt; |\n",
       "|---|---|---|---|---|\n",
       "| ERS473032__maxbin2__Low_029  | /ebio/abt3_projects/databases_no-backup/DeepMAsED/version2/real_data_eval/UHGG/LLMGQC_r100/LLMGA/LLG/drep/drep/dereplicated_genomes/ERS473032__maxbin2__Low_029.fna  | ERS473032 | /ebio/abt3_projects/databases_no-backup/DeepMAsED/version2/real_data_eval/UHGG/LLMGQC_r100/final/ERS473032/R1_final.fq.gz | /ebio/abt3_projects/databases_no-backup/DeepMAsED/version2/real_data_eval/UHGG/LLMGQC_r100/final/ERS473032/R2_final.fq.gz |\n",
       "| ERS473032__maxbin2__High_022 | /ebio/abt3_projects/databases_no-backup/DeepMAsED/version2/real_data_eval/UHGG/LLMGQC_r100/LLMGA/LLG/drep/drep/dereplicated_genomes/ERS473032__maxbin2__High_022.fna | ERS473032 | /ebio/abt3_projects/databases_no-backup/DeepMAsED/version2/real_data_eval/UHGG/LLMGQC_r100/final/ERS473032/R1_final.fq.gz | /ebio/abt3_projects/databases_no-backup/DeepMAsED/version2/real_data_eval/UHGG/LLMGQC_r100/final/ERS473032/R2_final.fq.gz |\n",
       "| ⋮ | ⋮ | ⋮ | ⋮ | ⋮ |\n",
       "| ERS436831__maxbin2__High_047 | /ebio/abt3_projects/databases_no-backup/DeepMAsED/version2/real_data_eval/UHGG/LLMGQC_r100/LLMGA/LLG/drep/drep/dereplicated_genomes/ERS436831__maxbin2__High_047.fna | ERS436831 | /ebio/abt3_projects/databases_no-backup/DeepMAsED/version2/real_data_eval/UHGG/LLMGQC_r100/final/ERS436831/R1_final.fq.gz | /ebio/abt3_projects/databases_no-backup/DeepMAsED/version2/real_data_eval/UHGG/LLMGQC_r100/final/ERS436831/R2_final.fq.gz |\n",
       "| ERS436831__maxbin2__High_014 | /ebio/abt3_projects/databases_no-backup/DeepMAsED/version2/real_data_eval/UHGG/LLMGQC_r100/LLMGA/LLG/drep/drep/dereplicated_genomes/ERS436831__maxbin2__High_014.fna | ERS436831 | /ebio/abt3_projects/databases_no-backup/DeepMAsED/version2/real_data_eval/UHGG/LLMGQC_r100/final/ERS436831/R1_final.fq.gz | /ebio/abt3_projects/databases_no-backup/DeepMAsED/version2/real_data_eval/UHGG/LLMGQC_r100/final/ERS436831/R2_final.fq.gz |\n",
       "\n"
      ],
      "text/plain": [
       "     Taxon                       \n",
       "1    ERS473032__maxbin2__Low_029 \n",
       "2    ERS473032__maxbin2__High_022\n",
       "⋮    ⋮                           \n",
       "1114 ERS436831__maxbin2__High_047\n",
       "1115 ERS436831__maxbin2__High_014\n",
       "     Fasta                                                                                                                                                               \n",
       "1    /ebio/abt3_projects/databases_no-backup/DeepMAsED/version2/real_data_eval/UHGG/LLMGQC_r100/LLMGA/LLG/drep/drep/dereplicated_genomes/ERS473032__maxbin2__Low_029.fna \n",
       "2    /ebio/abt3_projects/databases_no-backup/DeepMAsED/version2/real_data_eval/UHGG/LLMGQC_r100/LLMGA/LLG/drep/drep/dereplicated_genomes/ERS473032__maxbin2__High_022.fna\n",
       "⋮    ⋮                                                                                                                                                                   \n",
       "1114 /ebio/abt3_projects/databases_no-backup/DeepMAsED/version2/real_data_eval/UHGG/LLMGQC_r100/LLMGA/LLG/drep/drep/dereplicated_genomes/ERS436831__maxbin2__High_047.fna\n",
       "1115 /ebio/abt3_projects/databases_no-backup/DeepMAsED/version2/real_data_eval/UHGG/LLMGQC_r100/LLMGA/LLG/drep/drep/dereplicated_genomes/ERS436831__maxbin2__High_014.fna\n",
       "     Sample   \n",
       "1    ERS473032\n",
       "2    ERS473032\n",
       "⋮    ⋮        \n",
       "1114 ERS436831\n",
       "1115 ERS436831\n",
       "     Read1                                                                                                                    \n",
       "1    /ebio/abt3_projects/databases_no-backup/DeepMAsED/version2/real_data_eval/UHGG/LLMGQC_r100/final/ERS473032/R1_final.fq.gz\n",
       "2    /ebio/abt3_projects/databases_no-backup/DeepMAsED/version2/real_data_eval/UHGG/LLMGQC_r100/final/ERS473032/R1_final.fq.gz\n",
       "⋮    ⋮                                                                                                                        \n",
       "1114 /ebio/abt3_projects/databases_no-backup/DeepMAsED/version2/real_data_eval/UHGG/LLMGQC_r100/final/ERS436831/R1_final.fq.gz\n",
       "1115 /ebio/abt3_projects/databases_no-backup/DeepMAsED/version2/real_data_eval/UHGG/LLMGQC_r100/final/ERS436831/R1_final.fq.gz\n",
       "     Read2                                                                                                                    \n",
       "1    /ebio/abt3_projects/databases_no-backup/DeepMAsED/version2/real_data_eval/UHGG/LLMGQC_r100/final/ERS473032/R2_final.fq.gz\n",
       "2    /ebio/abt3_projects/databases_no-backup/DeepMAsED/version2/real_data_eval/UHGG/LLMGQC_r100/final/ERS473032/R2_final.fq.gz\n",
       "⋮    ⋮                                                                                                                        \n",
       "1114 /ebio/abt3_projects/databases_no-backup/DeepMAsED/version2/real_data_eval/UHGG/LLMGQC_r100/final/ERS436831/R2_final.fq.gz\n",
       "1115 /ebio/abt3_projects/databases_no-backup/DeepMAsED/version2/real_data_eval/UHGG/LLMGQC_r100/final/ERS436831/R2_final.fq.gz"
      ]
     },
     "metadata": {},
     "output_type": "display_data"
    }
   ],
   "source": [
    "# joining\n",
    "overlap(drep$Sample, samps$Sample)\n",
    "drep = drep %>%\n",
    "    inner_join.(samps, c('Sample')) %>%\n",
    "    rename.('Taxon' = Name)\n",
    "drep"
   ]
  },
  {
   "cell_type": "code",
   "execution_count": 74,
   "metadata": {
    "ExecuteTime": {
     "end_time": "2022-04-21T11:45:31.430137Z",
     "start_time": "2022-04-21T11:45:31.277Z"
    }
   },
   "outputs": [
    {
     "data": {
      "text/html": [
       "<style>\n",
       ".list-inline {list-style: none; margin:0; padding: 0}\n",
       ".list-inline>li {display: inline-block}\n",
       ".list-inline>li:not(:last-child)::after {content: \"\\00b7\"; padding: 0 .5ex}\n",
       "</style>\n",
       "<ol class=list-inline><li>'ERS473336'</li><li>'ERS972228'</li></ol>\n"
      ],
      "text/latex": [
       "\\begin{enumerate*}\n",
       "\\item 'ERS473336'\n",
       "\\item 'ERS972228'\n",
       "\\end{enumerate*}\n"
      ],
      "text/markdown": [
       "1. 'ERS473336'\n",
       "2. 'ERS972228'\n",
       "\n",
       "\n"
      ],
      "text/plain": [
       "[1] \"ERS473336\" \"ERS972228\""
      ]
     },
     "metadata": {},
     "output_type": "display_data"
    }
   ],
   "source": [
    "# missing samples\n",
    "overlap(drep$Sample, samps$Sample, diff='y')"
   ]
  },
  {
   "cell_type": "code",
   "execution_count": 70,
   "metadata": {
    "ExecuteTime": {
     "end_time": "2022-02-16T08:47:38.486798Z",
     "start_time": "2022-02-16T08:47:38.457Z"
    }
   },
   "outputs": [
    {
     "name": "stdout",
     "output_type": "stream",
     "text": [
      "Directory already exists: /ebio/abt3_projects/databases_no-backup/DeepMAsED/version2/real_data_eval/UHGG/LLMGQC_r100/LLMGA//LLG/ResMiCo-SM \n",
      "File written: /ebio/abt3_projects/databases_no-backup/DeepMAsED/version2/real_data_eval/UHGG/LLMGQC_r100/LLMGA//LLG/ResMiCo-SM/samples.tsv \n"
     ]
    }
   ],
   "source": [
    "# Writing table\n",
    "D = file.path(work_dir, 'LLG', 'ResMiCo-SM')\n",
    "make_dir(D)\n",
    "F = file.path(D, 'samples.tsv')\n",
    "write_table(drep, F)"
   ]
  },
  {
   "cell_type": "markdown",
   "metadata": {},
   "source": [
    "### Config"
   ]
  },
  {
   "cell_type": "code",
   "execution_count": 72,
   "metadata": {
    "ExecuteTime": {
     "end_time": "2022-04-21T11:40:09.761313Z",
     "start_time": "2022-04-21T11:40:09.577Z"
    }
   },
   "outputs": [
    {
     "name": "stdout",
     "output_type": "stream",
     "text": [
      "# Input table\n",
      "## Table of genomes\n",
      "genomes_file: /ebio/abt3_projects/databases_no-backup/DeepMAsED/version2/real_data_eval/UHGG/LLMGQC_r100/LLMGA/LLG/ResMiCo-SM/samples.tsv\n",
      "\n",
      "# Output directory\n",
      "output_dir: /ebio/abt3_projects/databases_no-backup/DeepMAsED/version2/real_data_eval/UHGG/LLMGQC_r100/LLMGA/LLG/ResMiCo-SM/\n",
      "\n",
      "# Temporary output directory (/dev/shm/ for shared memory)\n",
      "#tmp_dir: /tmp/\n",
      "tmp_dir: /ebio/abt3_scratch/\n",
      "\n",
      "# Email for notifications (\"Skip\" to skip)\n",
      "email: nyoungblut@tuebingen.mpg.de\n",
      "\n",
      "# software parameters for data simulations\n",
      "## Use \"Skip\" to skip  steps. If no params for rule, use \"\"\n",
      "## `reps:` is the number of replicate simulations\n",
      "## If `keep_reads: True`, then simulated reads are kept\n",
      "params:\n",
      "  ionice: -c 3\n",
      "  # simulating metagenomes\n",
      "  MGSIM:\n",
      "    sim_reps: 1\n",
      "    community:\n",
      "      richness:\n",
      "        - 0.5\n",
      "        - 0.8\n",
      "      abundance_distribution:\n",
      "        - \"mean:10,sigma:1\"\n",
      "        - \"mean:10,sigma:2\"\n",
      "      random_seed: Skip #8192\n",
      "      other_sim_params: --group-bias 0\n",
      "    reads: \n",
      "      length:\n",
      "        - 100\n",
      "        - 150\n",
      "      depth:\n",
      "        - 1000000\n",
      "        - 4000000\n",
      "      other_sim_params: --art-paired --art-mflen 270 --art-sdev 50 --rndSeed 8712\n",
      "                        --art-qprof1 data/art_error_profiles/HiSeq2500L150R1.txt\n",
      "                        --art-qprof2 data/art_error_profiles/HiSeq2500L150R2.txt\n",
      "      skewer: -n -l 70 -q 25 --format sanger\n",
      "      keep_reads: False\n",
      "  # coverage\n",
      "  nonpareil:\n",
      "    params: -T kmer\n",
      "    summary: 1e9   # this is target seq. depth\n",
      "  # assemblying metagenomes\n",
      "  assemblers:\n",
      "    metaspades: -k auto --only-assembler\n",
      "    megahit: --min-count 1 --min-contig-len 1000\n",
      "  # assembly filtering\n",
      "  contigs:\n",
      "    length_cutoff: 1000       # length in bp \n",
      "  # assessing assembly errors\n",
      "  asmbl_errors:\n",
      "    metaquast: --max-ref-number 0 --min-contig 1000 --min-identity 95 --extensive-mis-size 100\n",
      "               --no-html --no-plots --no-icarus --no-gc --no-snps --no-sv\n",
      "    keep_genomes: False\n",
      "  # mapping reads to contigs\n",
      "  map:\n",
      "    contig_frac:\n",
      "      - 1000\n",
      "    samtools: \"\"\n",
      "    bowtie2: \"\"\n",
      "    max_coverage: 20\n",
      "    keep_bam: True\n",
      "    keep_faidx: True\n",
      "    create_bigwig: False\n",
      "  # creating ResMiCo feature tables\n",
      "  feature_table:\n",
      "    make: --window 6\n",
      "  # state-of-the-art\n",
      "  SotA:\n",
      "    ALE: Skip\n",
      "    VALET: Skip\n",
      "    metaMIC:\n",
      "      extract: Skip #--mlen 1000\n",
      "      predict: --mlen 1000 --slen 500 -a MEGAHIT\n",
      "  # misc\n",
      "  real_contigs_simulated_reads: False\n",
      "\n",
      "# params just for creating feature tables for non-simulated data\n",
      "nonsim_params:\n",
      "  # max number of reads to use\n",
      "  subsample_reads: Skip #1000000\n",
      "\n",
      "# snakemake pipeline\n",
      "pipeline:\n",
      "  snakemake_folder: ./\n",
      "  script_folder: ./bin/scripts/\n",
      "  name: ResMiCo-SM"
     ]
    }
   ],
   "source": [
    "F = file.path(D, 'config.yaml')\n",
    "cat_file(F)"
   ]
  },
  {
   "cell_type": "markdown",
   "metadata": {},
   "source": [
    "### Run"
   ]
  },
  {
   "cell_type": "markdown",
   "metadata": {},
   "source": [
    "```\n",
    "(snakemake) rick: /ebio/abt3_projects/DeepMAsED/version2/deepmased/ResMiCo-SM\n",
    "$ screen -L -S rmc-sm-UHGG ./snakemake_sge.sh /ebio/abt3_projects/databases_no-backup/DeepMAsED/version2/real_data_eval/UHGG/LLMGQC_r100/LLMGA/LLG/ResMiCo-SM/config.yaml 40 -F\n",
    "```"
   ]
  },
  {
   "cell_type": "code",
   "execution_count": 76,
   "metadata": {
    "ExecuteTime": {
     "end_time": "2022-04-22T10:13:52.671143Z",
     "start_time": "2022-04-22T10:13:52.578Z"
    }
   },
   "outputs": [
    {
     "data": {
      "text/html": [
       "<table class=\"dataframe\">\n",
       "<caption>A data.table: 1115 × 4</caption>\n",
       "<thead>\n",
       "\t<tr><th scope=col>sample</th><th scope=col>taxon</th><th scope=col>contig_frac</th><th scope=col>feature_file</th></tr>\n",
       "\t<tr><th scope=col>&lt;chr&gt;</th><th scope=col>&lt;chr&gt;</th><th scope=col>&lt;int&gt;</th><th scope=col>&lt;chr&gt;</th></tr>\n",
       "</thead>\n",
       "<tbody>\n",
       "\t<tr><td>ERS473032</td><td>ERS473032__maxbin2__Low_029 </td><td>1000</td><td>ERS473032/ERS473032__maxbin2__Low_029/1000/features.tsv.gz </td></tr>\n",
       "\t<tr><td>ERS473032</td><td>ERS473032__maxbin2__High_022</td><td>1000</td><td>ERS473032/ERS473032__maxbin2__High_022/1000/features.tsv.gz</td></tr>\n",
       "\t<tr><td>⋮</td><td>⋮</td><td>⋮</td><td>⋮</td></tr>\n",
       "\t<tr><td>ERS436831</td><td>ERS436831__maxbin2__High_047</td><td>1000</td><td>ERS436831/ERS436831__maxbin2__High_047/1000/features.tsv.gz</td></tr>\n",
       "\t<tr><td>ERS436831</td><td>ERS436831__maxbin2__High_014</td><td>1000</td><td>ERS436831/ERS436831__maxbin2__High_014/1000/features.tsv.gz</td></tr>\n",
       "</tbody>\n",
       "</table>\n"
      ],
      "text/latex": [
       "A data.table: 1115 × 4\n",
       "\\begin{tabular}{llll}\n",
       " sample & taxon & contig\\_frac & feature\\_file\\\\\n",
       " <chr> & <chr> & <int> & <chr>\\\\\n",
       "\\hline\n",
       "\t ERS473032 & ERS473032\\_\\_maxbin2\\_\\_Low\\_029  & 1000 & ERS473032/ERS473032\\_\\_maxbin2\\_\\_Low\\_029/1000/features.tsv.gz \\\\\n",
       "\t ERS473032 & ERS473032\\_\\_maxbin2\\_\\_High\\_022 & 1000 & ERS473032/ERS473032\\_\\_maxbin2\\_\\_High\\_022/1000/features.tsv.gz\\\\\n",
       "\t ⋮ & ⋮ & ⋮ & ⋮\\\\\n",
       "\t ERS436831 & ERS436831\\_\\_maxbin2\\_\\_High\\_047 & 1000 & ERS436831/ERS436831\\_\\_maxbin2\\_\\_High\\_047/1000/features.tsv.gz\\\\\n",
       "\t ERS436831 & ERS436831\\_\\_maxbin2\\_\\_High\\_014 & 1000 & ERS436831/ERS436831\\_\\_maxbin2\\_\\_High\\_014/1000/features.tsv.gz\\\\\n",
       "\\end{tabular}\n"
      ],
      "text/markdown": [
       "\n",
       "A data.table: 1115 × 4\n",
       "\n",
       "| sample &lt;chr&gt; | taxon &lt;chr&gt; | contig_frac &lt;int&gt; | feature_file &lt;chr&gt; |\n",
       "|---|---|---|---|\n",
       "| ERS473032 | ERS473032__maxbin2__Low_029  | 1000 | ERS473032/ERS473032__maxbin2__Low_029/1000/features.tsv.gz  |\n",
       "| ERS473032 | ERS473032__maxbin2__High_022 | 1000 | ERS473032/ERS473032__maxbin2__High_022/1000/features.tsv.gz |\n",
       "| ⋮ | ⋮ | ⋮ | ⋮ |\n",
       "| ERS436831 | ERS436831__maxbin2__High_047 | 1000 | ERS436831/ERS436831__maxbin2__High_047/1000/features.tsv.gz |\n",
       "| ERS436831 | ERS436831__maxbin2__High_014 | 1000 | ERS436831/ERS436831__maxbin2__High_014/1000/features.tsv.gz |\n",
       "\n"
      ],
      "text/plain": [
       "     sample    taxon                        contig_frac\n",
       "1    ERS473032 ERS473032__maxbin2__Low_029  1000       \n",
       "2    ERS473032 ERS473032__maxbin2__High_022 1000       \n",
       "⋮    ⋮         ⋮                            ⋮          \n",
       "1114 ERS436831 ERS436831__maxbin2__High_047 1000       \n",
       "1115 ERS436831 ERS436831__maxbin2__High_014 1000       \n",
       "     feature_file                                               \n",
       "1    ERS473032/ERS473032__maxbin2__Low_029/1000/features.tsv.gz \n",
       "2    ERS473032/ERS473032__maxbin2__High_022/1000/features.tsv.gz\n",
       "⋮    ⋮                                                          \n",
       "1114 ERS436831/ERS436831__maxbin2__High_047/1000/features.tsv.gz\n",
       "1115 ERS436831/ERS436831__maxbin2__High_014/1000/features.tsv.gz"
      ]
     },
     "metadata": {},
     "output_type": "display_data"
    }
   ],
   "source": [
    "# feature tables\n",
    "F = file.path(D, 'features', 'feature_files.tsv')\n",
    "Fread(F)"
   ]
  },
  {
   "cell_type": "markdown",
   "metadata": {},
   "source": [
    "# sessionInfo"
   ]
  },
  {
   "cell_type": "code",
   "execution_count": 31,
   "metadata": {
    "ExecuteTime": {
     "end_time": "2022-02-08T14:24:04.248216Z",
     "start_time": "2022-02-08T14:24:03.996Z"
    }
   },
   "outputs": [
    {
     "data": {
      "text/plain": [
       "R version 4.1.1 (2021-08-10)\n",
       "Platform: x86_64-conda-linux-gnu (64-bit)\n",
       "Running under: Ubuntu 18.04.6 LTS\n",
       "\n",
       "Matrix products: default\n",
       "BLAS/LAPACK: /tmp/global2/nyoungblut/code/general/conda_envs/general-tidyverse/lib/libopenblasp-r0.3.18.so\n",
       "\n",
       "locale:\n",
       " [1] LC_CTYPE=en_US.UTF-8       LC_NUMERIC=C              \n",
       " [3] LC_TIME=en_US.UTF-8        LC_COLLATE=en_US.UTF-8    \n",
       " [5] LC_MONETARY=en_US.UTF-8    LC_MESSAGES=en_US.UTF-8   \n",
       " [7] LC_PAPER=en_US.UTF-8       LC_NAME=C                 \n",
       " [9] LC_ADDRESS=C               LC_TELEPHONE=C            \n",
       "[11] LC_MEASUREMENT=en_US.UTF-8 LC_IDENTIFICATION=C       \n",
       "\n",
       "attached base packages:\n",
       "[1] stats     graphics  grDevices utils     datasets  methods   base     \n",
       "\n",
       "other attached packages:\n",
       "[1] clustermq_0.8.95.2 LeyLabRMisc_0.2.1  tidytable_0.6.6    data.table_1.14.2 \n",
       "[5] ggplot2_3.3.5      tidyr_1.1.4        dplyr_1.0.7       \n",
       "\n",
       "loaded via a namespace (and not attached):\n",
       " [1] Rcpp_1.0.7       plyr_1.8.6       pillar_1.6.4     compiler_4.1.1  \n",
       " [5] base64enc_0.1-3  tools_4.1.1      bit_4.0.4        digest_0.6.29   \n",
       " [9] uuid_1.0-3       jsonlite_1.7.2   evaluate_0.14    lifecycle_1.0.1 \n",
       "[13] tibble_3.1.6     gtable_0.3.0     pkgconfig_2.0.3  rlang_0.4.12    \n",
       "[17] IRdisplay_1.1    IRkernel_1.3     fastmap_1.1.0    repr_1.1.4      \n",
       "[21] withr_2.4.3      generics_0.1.1   vctrs_0.3.8      bit64_4.0.5     \n",
       "[25] grid_4.1.1       tidyselect_1.1.1 glue_1.6.0       R6_2.5.1        \n",
       "[29] fansi_1.0.0      pbdZMQ_0.3-6     purrr_0.3.4      magrittr_2.0.1  \n",
       "[33] codetools_0.2-18 scales_1.1.1     ellipsis_0.3.2   htmltools_0.5.2 \n",
       "[37] colorspace_2.0-2 utf8_1.2.2       munsell_0.5.0    crayon_1.4.2    "
      ]
     },
     "metadata": {},
     "output_type": "display_data"
    }
   ],
   "source": [
    "sessionInfo()"
   ]
  }
 ],
 "metadata": {
  "kernelspec": {
   "display_name": "R [conda env:general-tidyverse]",
   "language": "R",
   "name": "conda-env-general-tidyverse-r"
  },
  "language_info": {
   "codemirror_mode": "r",
   "file_extension": ".r",
   "mimetype": "text/x-r-source",
   "name": "R",
   "pygments_lexer": "r",
   "version": "4.1.1"
  },
  "notify_time": "30",
  "toc": {
   "base_numbering": 1,
   "nav_menu": {},
   "number_sections": true,
   "sideBar": true,
   "skip_h1_title": false,
   "title_cell": "Table of Contents",
   "title_sidebar": "Contents",
   "toc_cell": true,
   "toc_position": {
    "height": "calc(100% - 180px)",
    "left": "10px",
    "top": "150px",
    "width": "230.398px"
   },
   "toc_section_display": true,
   "toc_window_display": true
  }
 },
 "nbformat": 4,
 "nbformat_minor": 4
}
