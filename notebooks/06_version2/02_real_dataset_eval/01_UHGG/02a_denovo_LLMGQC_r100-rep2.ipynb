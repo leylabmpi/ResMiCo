{
 "cells": [
  {
   "cell_type": "markdown",
   "metadata": {
    "toc": true
   },
   "source": [
    "<h1>Table of Contents<span class=\"tocSkip\"></span></h1>\n",
    "<div class=\"toc\"><ul class=\"toc-item\"><li><span><a href=\"#Goal\" data-toc-modified-id=\"Goal-1\"><span class=\"toc-item-num\">1&nbsp;&nbsp;</span>Goal</a></span></li><li><span><a href=\"#Init\" data-toc-modified-id=\"Init-2\"><span class=\"toc-item-num\">2&nbsp;&nbsp;</span>Init</a></span></li><li><span><a href=\"#Var\" data-toc-modified-id=\"Var-3\"><span class=\"toc-item-num\">3&nbsp;&nbsp;</span>Var</a></span></li><li><span><a href=\"#Load\" data-toc-modified-id=\"Load-4\"><span class=\"toc-item-num\">4&nbsp;&nbsp;</span>Load</a></span></li><li><span><a href=\"#LLMGA:-denovo\" data-toc-modified-id=\"LLMGA:-denovo-5\"><span class=\"toc-item-num\">5&nbsp;&nbsp;</span>LLMGA: denovo</a></span><ul class=\"toc-item\"><li><ul class=\"toc-item\"><li><span><a href=\"#Selecting-samples\" data-toc-modified-id=\"Selecting-samples-5.0.1\"><span class=\"toc-item-num\">5.0.1&nbsp;&nbsp;</span>Selecting samples</a></span></li><li><span><a href=\"#Config\" data-toc-modified-id=\"Config-5.0.2\"><span class=\"toc-item-num\">5.0.2&nbsp;&nbsp;</span>Config</a></span></li></ul></li></ul></li><li><span><a href=\"#--TODO--\" data-toc-modified-id=\"--TODO---6\"><span class=\"toc-item-num\">6&nbsp;&nbsp;</span>--TODO--</a></span></li></ul></div>"
   ]
  },
  {
   "cell_type": "markdown",
   "metadata": {},
   "source": [
    "# Goal\n",
    "\n",
    "* assemble contigs from the UHGG, in order to make sure that the contigs original from the correct metagenomes"
   ]
  },
  {
   "cell_type": "markdown",
   "metadata": {},
   "source": [
    "# Init"
   ]
  },
  {
   "cell_type": "code",
   "execution_count": 3,
   "metadata": {
    "ExecuteTime": {
     "end_time": "2022-04-30T12:23:52.986326Z",
     "start_time": "2022-04-30T12:23:50.569Z"
    }
   },
   "outputs": [],
   "source": [
    "work_dir = '/ebio/abt3_projects/databases_no-backup/DeepMAsED/version2/real_data_eval/UHGG/LLMGQC_r100-rep2/LLMGA/'\n",
    "\n",
    "# UHGG metadata\n",
    "uhgg_meta_file = '/ebio/abt3_projects/databases_no-backup/UHGG/2019_09/genomes_metadata.tsv'\n",
    "\n",
    "# LLMGQC_r100-rep2\n",
    "read_file = '/ebio/abt3_projects/databases_no-backup/DeepMAsED/version2/real_data_eval/UHGG/LLMGQC_r100-rep2/final/samples.txt'\n",
    "stats_file = '/ebio/abt3_projects/databases_no-backup/DeepMAsED/version2/real_data_eval/UHGG/LLMGQC_r100-rep2/reports/final/seqkit_stats.tsv'\n",
    "\n",
    "# params\n",
    "threads = 4"
   ]
  },
  {
   "cell_type": "markdown",
   "metadata": {},
   "source": [
    "# Var"
   ]
  },
  {
   "cell_type": "code",
   "execution_count": 5,
   "metadata": {
    "ExecuteTime": {
     "end_time": "2022-04-30T12:24:01.988238Z",
     "start_time": "2022-04-30T12:23:59.570Z"
    }
   },
   "outputs": [],
   "source": [
    "library(dplyr)\n",
    "library(tidyr)\n",
    "library(ggplot2)\n",
    "library(data.table)\n",
    "library(tidytable)\n",
    "library(LeyLabRMisc)\n",
    "Init()"
   ]
  },
  {
   "cell_type": "code",
   "execution_count": 6,
   "metadata": {
    "ExecuteTime": {
     "end_time": "2022-04-30T12:24:03.062525Z",
     "start_time": "2022-04-30T12:24:00.661Z"
    }
   },
   "outputs": [],
   "source": [
    "set.seed(231)"
   ]
  },
  {
   "cell_type": "markdown",
   "metadata": {},
   "source": [
    "# Load"
   ]
  },
  {
   "cell_type": "code",
   "execution_count": 7,
   "metadata": {
    "ExecuteTime": {
     "end_time": "2022-04-30T12:24:18.809851Z",
     "start_time": "2022-04-30T12:24:12.991Z"
    }
   },
   "outputs": [
    {
     "data": {
      "text/html": [
       "<table class=\"dataframe\">\n",
       "<caption>A data.table: 286997 × 25</caption>\n",
       "<thead>\n",
       "\t<tr><th scope=col>Genome</th><th scope=col>Original_name</th><th scope=col>Study_set</th><th scope=col>Genome_type</th><th scope=col>Length</th><th scope=col>N_contigs</th><th scope=col>N50</th><th scope=col>GC_content</th><th scope=col>Completeness</th><th scope=col>Contamination</th><th scope=col>⋯</th><th scope=col>tRNAs</th><th scope=col>Genome_accession</th><th scope=col>Species_rep</th><th scope=col>MGnify_accession</th><th scope=col>Lineage</th><th scope=col>Sample_accession</th><th scope=col>Study_accession</th><th scope=col>Country</th><th scope=col>Continent</th><th scope=col>FTP_download</th></tr>\n",
       "\t<tr><th scope=col>&lt;chr&gt;</th><th scope=col>&lt;chr&gt;</th><th scope=col>&lt;chr&gt;</th><th scope=col>&lt;chr&gt;</th><th scope=col>&lt;int&gt;</th><th scope=col>&lt;int&gt;</th><th scope=col>&lt;int&gt;</th><th scope=col>&lt;dbl&gt;</th><th scope=col>&lt;dbl&gt;</th><th scope=col>&lt;dbl&gt;</th><th scope=col>⋯</th><th scope=col>&lt;int&gt;</th><th scope=col>&lt;chr&gt;</th><th scope=col>&lt;chr&gt;</th><th scope=col>&lt;chr&gt;</th><th scope=col>&lt;chr&gt;</th><th scope=col>&lt;chr&gt;</th><th scope=col>&lt;chr&gt;</th><th scope=col>&lt;chr&gt;</th><th scope=col>&lt;chr&gt;</th><th scope=col>&lt;chr&gt;</th></tr>\n",
       "</thead>\n",
       "<tbody>\n",
       "\t<tr><td>GUT_GENOME000001</td><td>11861_6_55</td><td>HBC</td><td>Isolate</td><td>3221441</td><td>137</td><td>47272</td><td>28.26</td><td>98.59</td><td>0.70</td><td>⋯</td><td>20</td><td>NA</td><td>GUT_GENOME000001</td><td>MGYG-HGUT-00001</td><td>d__Bacteria;p__Firmicutes_A;c__Clostridia;o__Peptostreptococcales;f__Peptostreptococcaceae;g__GCA-900066495;s__        </td><td>ERS370061</td><td>ERP105624</td><td>United Kingdom</td><td>Europe</td><td>ftp://ftp.ebi.ac.uk/pub/databases/metagenomics/mgnify_genomes/human-gut/v1.0/all_genomes/MGYG-HGUT-000/MGYG-HGUT-00001/genomes1/GUT_GENOME000001.gff.gz</td></tr>\n",
       "\t<tr><td>GUT_GENOME000002</td><td>11861_6_56</td><td>HBC</td><td>Isolate</td><td>3296933</td><td> 82</td><td>96092</td><td>38.19</td><td>99.33</td><td>1.34</td><td>⋯</td><td>20</td><td>NA</td><td>GUT_GENOME001689</td><td>MGYG-HGUT-00262</td><td>d__Bacteria;p__Firmicutes_A;c__Clostridia;o__Lachnospirales;f__Lachnospiraceae;g__Eubacterium_E;s__Eubacterium_E hallii</td><td>ERS370062</td><td>ERP105624</td><td>United Kingdom</td><td>Europe</td><td>ftp://ftp.ebi.ac.uk/pub/databases/metagenomics/mgnify_genomes/human-gut/v1.0/all_genomes/MGYG-HGUT-002/MGYG-HGUT-00262/genomes1/GUT_GENOME000002.gff.gz</td></tr>\n",
       "\t<tr><td>⋮</td><td>⋮</td><td>⋮</td><td>⋮</td><td>⋮</td><td>⋮</td><td>⋮</td><td>⋮</td><td>⋮</td><td>⋮</td><td>⋱</td><td>⋮</td><td>⋮</td><td>⋮</td><td>⋮</td><td>⋮</td><td>⋮</td><td>⋮</td><td>⋮</td><td>⋮</td><td>⋮</td></tr>\n",
       "\t<tr><td>GUT_GENOME286996</td><td>ZellerG_2014__MMPU99077057ST__bin.71</td><td>CIBIO</td><td>MAG</td><td>2155871</td><td> 51</td><td>58794</td><td>58.54</td><td>94.46</td><td>0.00</td><td>⋯</td><td>18</td><td>NA</td><td>GUT_GENOME239684</td><td>MGYG-HGUT-03686</td><td>d__Bacteria;p__Firmicutes_A;c__Clostridia;o__Oscillospirales;f__Oscillospiraceae;g__ER4;s__ER4 sp000765235                   </td><td>ERS436838</td><td>ERP005534</td><td>Germany</td><td>Europe</td><td>ftp://ftp.ebi.ac.uk/pub/databases/metagenomics/mgnify_genomes/human-gut/v1.0/all_genomes/MGYG-HGUT-036/MGYG-HGUT-03686/genomes4/GUT_GENOME286996.gff.gz</td></tr>\n",
       "\t<tr><td>GUT_GENOME286997</td><td>ZellerG_2014__MMPU99077057ST__bin.72</td><td>CIBIO</td><td>MAG</td><td>2883579</td><td>383</td><td>10509</td><td>43.57</td><td>94.53</td><td>0.94</td><td>⋯</td><td>19</td><td>NA</td><td>GUT_GENOME000682</td><td>MGYG-HGUT-00144</td><td>d__Bacteria;p__Bacteroidota;c__Bacteroidia;o__Bacteroidales;f__Barnesiellaceae;g__Barnesiella;s__Barnesiella intestinihominis</td><td>ERS436838</td><td>ERP005534</td><td>Germany</td><td>Europe</td><td>ftp://ftp.ebi.ac.uk/pub/databases/metagenomics/mgnify_genomes/human-gut/v1.0/all_genomes/MGYG-HGUT-001/MGYG-HGUT-00144/genomes1/GUT_GENOME286997.gff.gz</td></tr>\n",
       "</tbody>\n",
       "</table>\n"
      ],
      "text/latex": [
       "A data.table: 286997 × 25\n",
       "\\begin{tabular}{lllllllllllllllllllll}\n",
       " Genome & Original\\_name & Study\\_set & Genome\\_type & Length & N\\_contigs & N50 & GC\\_content & Completeness & Contamination & ⋯ & tRNAs & Genome\\_accession & Species\\_rep & MGnify\\_accession & Lineage & Sample\\_accession & Study\\_accession & Country & Continent & FTP\\_download\\\\\n",
       " <chr> & <chr> & <chr> & <chr> & <int> & <int> & <int> & <dbl> & <dbl> & <dbl> & ⋯ & <int> & <chr> & <chr> & <chr> & <chr> & <chr> & <chr> & <chr> & <chr> & <chr>\\\\\n",
       "\\hline\n",
       "\t GUT\\_GENOME000001 & 11861\\_6\\_55 & HBC & Isolate & 3221441 & 137 & 47272 & 28.26 & 98.59 & 0.70 & ⋯ & 20 & NA & GUT\\_GENOME000001 & MGYG-HGUT-00001 & d\\_\\_Bacteria;p\\_\\_Firmicutes\\_A;c\\_\\_Clostridia;o\\_\\_Peptostreptococcales;f\\_\\_Peptostreptococcaceae;g\\_\\_GCA-900066495;s\\_\\_         & ERS370061 & ERP105624 & United Kingdom & Europe & ftp://ftp.ebi.ac.uk/pub/databases/metagenomics/mgnify\\_genomes/human-gut/v1.0/all\\_genomes/MGYG-HGUT-000/MGYG-HGUT-00001/genomes1/GUT\\_GENOME000001.gff.gz\\\\\n",
       "\t GUT\\_GENOME000002 & 11861\\_6\\_56 & HBC & Isolate & 3296933 &  82 & 96092 & 38.19 & 99.33 & 1.34 & ⋯ & 20 & NA & GUT\\_GENOME001689 & MGYG-HGUT-00262 & d\\_\\_Bacteria;p\\_\\_Firmicutes\\_A;c\\_\\_Clostridia;o\\_\\_Lachnospirales;f\\_\\_Lachnospiraceae;g\\_\\_Eubacterium\\_E;s\\_\\_Eubacterium\\_E hallii & ERS370062 & ERP105624 & United Kingdom & Europe & ftp://ftp.ebi.ac.uk/pub/databases/metagenomics/mgnify\\_genomes/human-gut/v1.0/all\\_genomes/MGYG-HGUT-002/MGYG-HGUT-00262/genomes1/GUT\\_GENOME000002.gff.gz\\\\\n",
       "\t ⋮ & ⋮ & ⋮ & ⋮ & ⋮ & ⋮ & ⋮ & ⋮ & ⋮ & ⋮ & ⋱ & ⋮ & ⋮ & ⋮ & ⋮ & ⋮ & ⋮ & ⋮ & ⋮ & ⋮ & ⋮\\\\\n",
       "\t GUT\\_GENOME286996 & ZellerG\\_2014\\_\\_MMPU99077057ST\\_\\_bin.71 & CIBIO & MAG & 2155871 &  51 & 58794 & 58.54 & 94.46 & 0.00 & ⋯ & 18 & NA & GUT\\_GENOME239684 & MGYG-HGUT-03686 & d\\_\\_Bacteria;p\\_\\_Firmicutes\\_A;c\\_\\_Clostridia;o\\_\\_Oscillospirales;f\\_\\_Oscillospiraceae;g\\_\\_ER4;s\\_\\_ER4 sp000765235                    & ERS436838 & ERP005534 & Germany & Europe & ftp://ftp.ebi.ac.uk/pub/databases/metagenomics/mgnify\\_genomes/human-gut/v1.0/all\\_genomes/MGYG-HGUT-036/MGYG-HGUT-03686/genomes4/GUT\\_GENOME286996.gff.gz\\\\\n",
       "\t GUT\\_GENOME286997 & ZellerG\\_2014\\_\\_MMPU99077057ST\\_\\_bin.72 & CIBIO & MAG & 2883579 & 383 & 10509 & 43.57 & 94.53 & 0.94 & ⋯ & 19 & NA & GUT\\_GENOME000682 & MGYG-HGUT-00144 & d\\_\\_Bacteria;p\\_\\_Bacteroidota;c\\_\\_Bacteroidia;o\\_\\_Bacteroidales;f\\_\\_Barnesiellaceae;g\\_\\_Barnesiella;s\\_\\_Barnesiella intestinihominis & ERS436838 & ERP005534 & Germany & Europe & ftp://ftp.ebi.ac.uk/pub/databases/metagenomics/mgnify\\_genomes/human-gut/v1.0/all\\_genomes/MGYG-HGUT-001/MGYG-HGUT-00144/genomes1/GUT\\_GENOME286997.gff.gz\\\\\n",
       "\\end{tabular}\n"
      ],
      "text/markdown": [
       "\n",
       "A data.table: 286997 × 25\n",
       "\n",
       "| Genome &lt;chr&gt; | Original_name &lt;chr&gt; | Study_set &lt;chr&gt; | Genome_type &lt;chr&gt; | Length &lt;int&gt; | N_contigs &lt;int&gt; | N50 &lt;int&gt; | GC_content &lt;dbl&gt; | Completeness &lt;dbl&gt; | Contamination &lt;dbl&gt; | ⋯ ⋯ | tRNAs &lt;int&gt; | Genome_accession &lt;chr&gt; | Species_rep &lt;chr&gt; | MGnify_accession &lt;chr&gt; | Lineage &lt;chr&gt; | Sample_accession &lt;chr&gt; | Study_accession &lt;chr&gt; | Country &lt;chr&gt; | Continent &lt;chr&gt; | FTP_download &lt;chr&gt; |\n",
       "|---|---|---|---|---|---|---|---|---|---|---|---|---|---|---|---|---|---|---|---|---|\n",
       "| GUT_GENOME000001 | 11861_6_55 | HBC | Isolate | 3221441 | 137 | 47272 | 28.26 | 98.59 | 0.70 | ⋯ | 20 | NA | GUT_GENOME000001 | MGYG-HGUT-00001 | d__Bacteria;p__Firmicutes_A;c__Clostridia;o__Peptostreptococcales;f__Peptostreptococcaceae;g__GCA-900066495;s__         | ERS370061 | ERP105624 | United Kingdom | Europe | ftp://ftp.ebi.ac.uk/pub/databases/metagenomics/mgnify_genomes/human-gut/v1.0/all_genomes/MGYG-HGUT-000/MGYG-HGUT-00001/genomes1/GUT_GENOME000001.gff.gz |\n",
       "| GUT_GENOME000002 | 11861_6_56 | HBC | Isolate | 3296933 |  82 | 96092 | 38.19 | 99.33 | 1.34 | ⋯ | 20 | NA | GUT_GENOME001689 | MGYG-HGUT-00262 | d__Bacteria;p__Firmicutes_A;c__Clostridia;o__Lachnospirales;f__Lachnospiraceae;g__Eubacterium_E;s__Eubacterium_E hallii | ERS370062 | ERP105624 | United Kingdom | Europe | ftp://ftp.ebi.ac.uk/pub/databases/metagenomics/mgnify_genomes/human-gut/v1.0/all_genomes/MGYG-HGUT-002/MGYG-HGUT-00262/genomes1/GUT_GENOME000002.gff.gz |\n",
       "| ⋮ | ⋮ | ⋮ | ⋮ | ⋮ | ⋮ | ⋮ | ⋮ | ⋮ | ⋮ | ⋱ | ⋮ | ⋮ | ⋮ | ⋮ | ⋮ | ⋮ | ⋮ | ⋮ | ⋮ | ⋮ |\n",
       "| GUT_GENOME286996 | ZellerG_2014__MMPU99077057ST__bin.71 | CIBIO | MAG | 2155871 |  51 | 58794 | 58.54 | 94.46 | 0.00 | ⋯ | 18 | NA | GUT_GENOME239684 | MGYG-HGUT-03686 | d__Bacteria;p__Firmicutes_A;c__Clostridia;o__Oscillospirales;f__Oscillospiraceae;g__ER4;s__ER4 sp000765235                    | ERS436838 | ERP005534 | Germany | Europe | ftp://ftp.ebi.ac.uk/pub/databases/metagenomics/mgnify_genomes/human-gut/v1.0/all_genomes/MGYG-HGUT-036/MGYG-HGUT-03686/genomes4/GUT_GENOME286996.gff.gz |\n",
       "| GUT_GENOME286997 | ZellerG_2014__MMPU99077057ST__bin.72 | CIBIO | MAG | 2883579 | 383 | 10509 | 43.57 | 94.53 | 0.94 | ⋯ | 19 | NA | GUT_GENOME000682 | MGYG-HGUT-00144 | d__Bacteria;p__Bacteroidota;c__Bacteroidia;o__Bacteroidales;f__Barnesiellaceae;g__Barnesiella;s__Barnesiella intestinihominis | ERS436838 | ERP005534 | Germany | Europe | ftp://ftp.ebi.ac.uk/pub/databases/metagenomics/mgnify_genomes/human-gut/v1.0/all_genomes/MGYG-HGUT-001/MGYG-HGUT-00144/genomes1/GUT_GENOME286997.gff.gz |\n",
       "\n"
      ],
      "text/plain": [
       "       Genome           Original_name                        Study_set\n",
       "1      GUT_GENOME000001 11861_6_55                           HBC      \n",
       "2      GUT_GENOME000002 11861_6_56                           HBC      \n",
       "⋮      ⋮                ⋮                                    ⋮        \n",
       "286996 GUT_GENOME286996 ZellerG_2014__MMPU99077057ST__bin.71 CIBIO    \n",
       "286997 GUT_GENOME286997 ZellerG_2014__MMPU99077057ST__bin.72 CIBIO    \n",
       "       Genome_type Length  N_contigs N50   GC_content Completeness\n",
       "1      Isolate     3221441 137       47272 28.26      98.59       \n",
       "2      Isolate     3296933  82       96092 38.19      99.33       \n",
       "⋮      ⋮           ⋮       ⋮         ⋮     ⋮          ⋮           \n",
       "286996 MAG         2155871  51       58794 58.54      94.46       \n",
       "286997 MAG         2883579 383       10509 43.57      94.53       \n",
       "       Contamination ⋯ tRNAs Genome_accession Species_rep      MGnify_accession\n",
       "1      0.70          ⋯ 20    NA               GUT_GENOME000001 MGYG-HGUT-00001 \n",
       "2      1.34          ⋯ 20    NA               GUT_GENOME001689 MGYG-HGUT-00262 \n",
       "⋮      ⋮             ⋱ ⋮     ⋮                ⋮                ⋮               \n",
       "286996 0.00          ⋯ 18    NA               GUT_GENOME239684 MGYG-HGUT-03686 \n",
       "286997 0.94          ⋯ 19    NA               GUT_GENOME000682 MGYG-HGUT-00144 \n",
       "       Lineage                                                                                                                      \n",
       "1      d__Bacteria;p__Firmicutes_A;c__Clostridia;o__Peptostreptococcales;f__Peptostreptococcaceae;g__GCA-900066495;s__              \n",
       "2      d__Bacteria;p__Firmicutes_A;c__Clostridia;o__Lachnospirales;f__Lachnospiraceae;g__Eubacterium_E;s__Eubacterium_E hallii      \n",
       "⋮      ⋮                                                                                                                            \n",
       "286996 d__Bacteria;p__Firmicutes_A;c__Clostridia;o__Oscillospirales;f__Oscillospiraceae;g__ER4;s__ER4 sp000765235                   \n",
       "286997 d__Bacteria;p__Bacteroidota;c__Bacteroidia;o__Bacteroidales;f__Barnesiellaceae;g__Barnesiella;s__Barnesiella intestinihominis\n",
       "       Sample_accession Study_accession Country        Continent\n",
       "1      ERS370061        ERP105624       United Kingdom Europe   \n",
       "2      ERS370062        ERP105624       United Kingdom Europe   \n",
       "⋮      ⋮                ⋮               ⋮              ⋮        \n",
       "286996 ERS436838        ERP005534       Germany        Europe   \n",
       "286997 ERS436838        ERP005534       Germany        Europe   \n",
       "       FTP_download                                                                                                                                           \n",
       "1      ftp://ftp.ebi.ac.uk/pub/databases/metagenomics/mgnify_genomes/human-gut/v1.0/all_genomes/MGYG-HGUT-000/MGYG-HGUT-00001/genomes1/GUT_GENOME000001.gff.gz\n",
       "2      ftp://ftp.ebi.ac.uk/pub/databases/metagenomics/mgnify_genomes/human-gut/v1.0/all_genomes/MGYG-HGUT-002/MGYG-HGUT-00262/genomes1/GUT_GENOME000002.gff.gz\n",
       "⋮      ⋮                                                                                                                                                      \n",
       "286996 ftp://ftp.ebi.ac.uk/pub/databases/metagenomics/mgnify_genomes/human-gut/v1.0/all_genomes/MGYG-HGUT-036/MGYG-HGUT-03686/genomes4/GUT_GENOME286996.gff.gz\n",
       "286997 ftp://ftp.ebi.ac.uk/pub/databases/metagenomics/mgnify_genomes/human-gut/v1.0/all_genomes/MGYG-HGUT-001/MGYG-HGUT-00144/genomes1/GUT_GENOME286997.gff.gz"
      ]
     },
     "metadata": {},
     "output_type": "display_data"
    }
   ],
   "source": [
    "uhgg_meta = Fread(uhgg_meta_file)\n",
    "uhgg_meta"
   ]
  },
  {
   "cell_type": "code",
   "execution_count": null,
   "metadata": {
    "ExecuteTime": {
     "end_time": "2022-04-30T12:24:20.737452Z",
     "start_time": "2022-04-30T12:24:18.326Z"
    }
   },
   "outputs": [],
   "source": [
    "samps = Fread(read_file) %>%\n",
    "    filter.(Read1 != '',\n",
    "            Read2 != '') %>%\n",
    "    select.(-Notes)\n",
    "samps"
   ]
  },
  {
   "cell_type": "code",
   "execution_count": null,
   "metadata": {},
   "outputs": [],
   "source": [
    "stats = Fread(stats_file) %>%\n",
    "    filter.(Read == 1) %>%\n",
    "    select.(-file, -format, -type)\n",
    "stats"
   ]
  },
  {
   "cell_type": "code",
   "execution_count": null,
   "metadata": {},
   "outputs": [],
   "source": [
    "# joining\n",
    "overlap(samps$Sample, stats$Sample)\n",
    "samps = samps %>%\n",
    "    inner_join.(stats, c('Sample'))\n",
    "samps"
   ]
  },
  {
   "cell_type": "code",
   "execution_count": null,
   "metadata": {},
   "outputs": [],
   "source": [
    "summary_x(samps$num_seqs)"
   ]
  },
  {
   "cell_type": "markdown",
   "metadata": {},
   "source": [
    "# LLMGA: denovo"
   ]
  },
  {
   "cell_type": "markdown",
   "metadata": {},
   "source": [
    "### Selecting samples"
   ]
  },
  {
   "cell_type": "code",
   "execution_count": null,
   "metadata": {},
   "outputs": [],
   "source": [
    "n_samps = 200"
   ]
  },
  {
   "cell_type": "code",
   "execution_count": null,
   "metadata": {},
   "outputs": [],
   "source": [
    "samps_f = samps %>%\n",
    "    filter.(num_seqs >= 5e6, num_seqs <= 80e6) %>%\n",
    "    mutate.(X = sample(1:length(Read1), length(Read1))) %>%\n",
    "    filter.(X <= n_samps)\n",
    "summary_x(samps_f$num_seqs)\n",
    "samps_f"
   ]
  },
  {
   "cell_type": "code",
   "execution_count": null,
   "metadata": {},
   "outputs": [],
   "source": [
    "F = file.path(work_dir, 'samples.tsv')\n",
    "write_table(samps_f, F)"
   ]
  },
  {
   "cell_type": "markdown",
   "metadata": {},
   "source": [
    "### Config"
   ]
  },
  {
   "cell_type": "code",
   "execution_count": null,
   "metadata": {},
   "outputs": [],
   "source": [
    "F = file.path(work_dir, 'config_denovo.yaml')\n",
    "cat_file(F)"
   ]
  },
  {
   "cell_type": "markdown",
   "metadata": {},
   "source": [
    "# --TODO--"
   ]
  }
 ],
 "metadata": {
  "kernelspec": {
   "display_name": "R [conda env:general-tidyverse]",
   "language": "R",
   "name": "conda-env-general-tidyverse-r"
  },
  "language_info": {
   "codemirror_mode": "r",
   "file_extension": ".r",
   "mimetype": "text/x-r-source",
   "name": "R",
   "pygments_lexer": "r",
   "version": "4.1.1"
  },
  "notify_time": "30",
  "toc": {
   "base_numbering": 1,
   "nav_menu": {},
   "number_sections": true,
   "sideBar": true,
   "skip_h1_title": false,
   "title_cell": "Table of Contents",
   "title_sidebar": "Contents",
   "toc_cell": true,
   "toc_position": {},
   "toc_section_display": true,
   "toc_window_display": true
  }
 },
 "nbformat": 4,
 "nbformat_minor": 4
}
