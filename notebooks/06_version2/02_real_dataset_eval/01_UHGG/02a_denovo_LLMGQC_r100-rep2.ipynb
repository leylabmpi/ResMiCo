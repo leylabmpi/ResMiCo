{
 "cells": [
  {
   "cell_type": "markdown",
   "metadata": {
    "toc": true
   },
   "source": [
    "<h1>Table of Contents<span class=\"tocSkip\"></span></h1>\n",
    "<div class=\"toc\"><ul class=\"toc-item\"><li><span><a href=\"#Goal\" data-toc-modified-id=\"Goal-1\"><span class=\"toc-item-num\">1&nbsp;&nbsp;</span>Goal</a></span></li><li><span><a href=\"#Init\" data-toc-modified-id=\"Init-2\"><span class=\"toc-item-num\">2&nbsp;&nbsp;</span>Init</a></span></li><li><span><a href=\"#Var\" data-toc-modified-id=\"Var-3\"><span class=\"toc-item-num\">3&nbsp;&nbsp;</span>Var</a></span></li><li><span><a href=\"#Load\" data-toc-modified-id=\"Load-4\"><span class=\"toc-item-num\">4&nbsp;&nbsp;</span>Load</a></span></li><li><span><a href=\"#LLMGA:-denovo\" data-toc-modified-id=\"LLMGA:-denovo-5\"><span class=\"toc-item-num\">5&nbsp;&nbsp;</span>LLMGA: denovo</a></span><ul class=\"toc-item\"><li><ul class=\"toc-item\"><li><span><a href=\"#Selecting-samples\" data-toc-modified-id=\"Selecting-samples-5.0.1\"><span class=\"toc-item-num\">5.0.1&nbsp;&nbsp;</span>Selecting samples</a></span></li><li><span><a href=\"#Config\" data-toc-modified-id=\"Config-5.0.2\"><span class=\"toc-item-num\">5.0.2&nbsp;&nbsp;</span>Config</a></span></li><li><span><a href=\"#Run\" data-toc-modified-id=\"Run-5.0.3\"><span class=\"toc-item-num\">5.0.3&nbsp;&nbsp;</span>Run</a></span></li></ul></li><li><span><a href=\"#Summary\" data-toc-modified-id=\"Summary-5.1\"><span class=\"toc-item-num\">5.1&nbsp;&nbsp;</span>Summary</a></span></li></ul></li><li><span><a href=\"#ResMiCo-SM\" data-toc-modified-id=\"ResMiCo-SM-6\"><span class=\"toc-item-num\">6&nbsp;&nbsp;</span>ResMiCo-SM</a></span><ul class=\"toc-item\"><li><ul class=\"toc-item\"><li><span><a href=\"#Samples-table\" data-toc-modified-id=\"Samples-table-6.0.1\"><span class=\"toc-item-num\">6.0.1&nbsp;&nbsp;</span>Samples table</a></span></li><li><span><a href=\"#Config\" data-toc-modified-id=\"Config-6.0.2\"><span class=\"toc-item-num\">6.0.2&nbsp;&nbsp;</span>Config</a></span></li><li><span><a href=\"#Run\" data-toc-modified-id=\"Run-6.0.3\"><span class=\"toc-item-num\">6.0.3&nbsp;&nbsp;</span>Run</a></span></li></ul></li></ul></li><li><span><a href=\"#--WAITING--\" data-toc-modified-id=\"--WAITING---7\"><span class=\"toc-item-num\">7&nbsp;&nbsp;</span>--WAITING--</a></span></li><li><span><a href=\"#sessionInfo\" data-toc-modified-id=\"sessionInfo-8\"><span class=\"toc-item-num\">8&nbsp;&nbsp;</span>sessionInfo</a></span></li></ul></div>"
   ]
  },
  {
   "cell_type": "markdown",
   "metadata": {},
   "source": [
    "# Goal\n",
    "\n",
    "* assemble contigs from the UHGG, in order to make sure that the contigs original from the correct metagenomes"
   ]
  },
  {
   "cell_type": "markdown",
   "metadata": {},
   "source": [
    "# Init"
   ]
  },
  {
   "cell_type": "code",
   "execution_count": 9,
   "metadata": {
    "ExecuteTime": {
     "end_time": "2022-05-18T13:29:28.836317Z",
     "start_time": "2022-05-18T13:29:28.784Z"
    }
   },
   "outputs": [],
   "source": [
    "work_dir = '/ebio/abt3_projects/databases_no-backup/DeepMAsED/version2/real_data_eval/UHGG/LLMGQC_r100-rep2/LLMGA/'\n",
    "\n",
    "# UHGG metadata\n",
    "uhgg_meta_file = '/ebio/abt3_projects/databases_no-backup/UHGG/2019_09/genomes_metadata.tsv'\n",
    "\n",
    "# LLMGQC_r100-rep2\n",
    "read_file = '/ebio/abt3_projects/databases_no-backup/DeepMAsED/version2/real_data_eval/UHGG/LLMGQC_r100-rep2/final/samples.txt'\n",
    "stats_file = '/ebio/abt3_projects/databases_no-backup/DeepMAsED/version2/real_data_eval/UHGG/LLMGQC_r100-rep2/reports/final/seqkit_stats.tsv'\n",
    "\n",
    "# params\n",
    "threads = 4"
   ]
  },
  {
   "cell_type": "markdown",
   "metadata": {},
   "source": [
    "# Var"
   ]
  },
  {
   "cell_type": "code",
   "execution_count": 10,
   "metadata": {
    "ExecuteTime": {
     "end_time": "2022-05-18T13:29:29.080803Z",
     "start_time": "2022-05-18T13:29:29.022Z"
    }
   },
   "outputs": [],
   "source": [
    "library(dplyr)\n",
    "library(tidyr)\n",
    "library(ggplot2)\n",
    "library(data.table)\n",
    "library(tidytable)\n",
    "library(LeyLabRMisc)\n",
    "Init()"
   ]
  },
  {
   "cell_type": "code",
   "execution_count": 11,
   "metadata": {
    "ExecuteTime": {
     "end_time": "2022-05-18T13:29:29.173964Z",
     "start_time": "2022-05-18T13:29:29.133Z"
    }
   },
   "outputs": [],
   "source": [
    "set.seed(231)"
   ]
  },
  {
   "cell_type": "code",
   "execution_count": 21,
   "metadata": {
    "ExecuteTime": {
     "end_time": "2022-05-18T13:51:44.259448Z",
     "start_time": "2022-05-18T13:51:44.221Z"
    }
   },
   "outputs": [
    {
     "name": "stdout",
     "output_type": "stream",
     "text": [
      "Created directory: /ebio/abt3_projects/databases_no-backup/DeepMAsED/version2/real_data_eval/UHGG/LLMGQC_r100-rep2/LLMGA/ \n"
     ]
    }
   ],
   "source": [
    "make_dir(work_dir)"
   ]
  },
  {
   "cell_type": "markdown",
   "metadata": {},
   "source": [
    "# Load"
   ]
  },
  {
   "cell_type": "code",
   "execution_count": 12,
   "metadata": {
    "ExecuteTime": {
     "end_time": "2022-05-18T13:29:32.848197Z",
     "start_time": "2022-05-18T13:29:30.354Z"
    }
   },
   "outputs": [
    {
     "data": {
      "text/html": [
       "<table class=\"dataframe\">\n",
       "<caption>A data.table: 286997 × 25</caption>\n",
       "<thead>\n",
       "\t<tr><th scope=col>Genome</th><th scope=col>Original_name</th><th scope=col>Study_set</th><th scope=col>Genome_type</th><th scope=col>Length</th><th scope=col>N_contigs</th><th scope=col>N50</th><th scope=col>GC_content</th><th scope=col>Completeness</th><th scope=col>Contamination</th><th scope=col>⋯</th><th scope=col>tRNAs</th><th scope=col>Genome_accession</th><th scope=col>Species_rep</th><th scope=col>MGnify_accession</th><th scope=col>Lineage</th><th scope=col>Sample_accession</th><th scope=col>Study_accession</th><th scope=col>Country</th><th scope=col>Continent</th><th scope=col>FTP_download</th></tr>\n",
       "\t<tr><th scope=col>&lt;chr&gt;</th><th scope=col>&lt;chr&gt;</th><th scope=col>&lt;chr&gt;</th><th scope=col>&lt;chr&gt;</th><th scope=col>&lt;int&gt;</th><th scope=col>&lt;int&gt;</th><th scope=col>&lt;int&gt;</th><th scope=col>&lt;dbl&gt;</th><th scope=col>&lt;dbl&gt;</th><th scope=col>&lt;dbl&gt;</th><th scope=col>⋯</th><th scope=col>&lt;int&gt;</th><th scope=col>&lt;chr&gt;</th><th scope=col>&lt;chr&gt;</th><th scope=col>&lt;chr&gt;</th><th scope=col>&lt;chr&gt;</th><th scope=col>&lt;chr&gt;</th><th scope=col>&lt;chr&gt;</th><th scope=col>&lt;chr&gt;</th><th scope=col>&lt;chr&gt;</th><th scope=col>&lt;chr&gt;</th></tr>\n",
       "</thead>\n",
       "<tbody>\n",
       "\t<tr><td>GUT_GENOME000001</td><td>11861_6_55</td><td>HBC</td><td>Isolate</td><td>3221441</td><td>137</td><td>47272</td><td>28.26</td><td>98.59</td><td>0.70</td><td>⋯</td><td>20</td><td>NA</td><td>GUT_GENOME000001</td><td>MGYG-HGUT-00001</td><td>d__Bacteria;p__Firmicutes_A;c__Clostridia;o__Peptostreptococcales;f__Peptostreptococcaceae;g__GCA-900066495;s__        </td><td>ERS370061</td><td>ERP105624</td><td>United Kingdom</td><td>Europe</td><td>ftp://ftp.ebi.ac.uk/pub/databases/metagenomics/mgnify_genomes/human-gut/v1.0/all_genomes/MGYG-HGUT-000/MGYG-HGUT-00001/genomes1/GUT_GENOME000001.gff.gz</td></tr>\n",
       "\t<tr><td>GUT_GENOME000002</td><td>11861_6_56</td><td>HBC</td><td>Isolate</td><td>3296933</td><td> 82</td><td>96092</td><td>38.19</td><td>99.33</td><td>1.34</td><td>⋯</td><td>20</td><td>NA</td><td>GUT_GENOME001689</td><td>MGYG-HGUT-00262</td><td>d__Bacteria;p__Firmicutes_A;c__Clostridia;o__Lachnospirales;f__Lachnospiraceae;g__Eubacterium_E;s__Eubacterium_E hallii</td><td>ERS370062</td><td>ERP105624</td><td>United Kingdom</td><td>Europe</td><td>ftp://ftp.ebi.ac.uk/pub/databases/metagenomics/mgnify_genomes/human-gut/v1.0/all_genomes/MGYG-HGUT-002/MGYG-HGUT-00262/genomes1/GUT_GENOME000002.gff.gz</td></tr>\n",
       "\t<tr><td>⋮</td><td>⋮</td><td>⋮</td><td>⋮</td><td>⋮</td><td>⋮</td><td>⋮</td><td>⋮</td><td>⋮</td><td>⋮</td><td>⋱</td><td>⋮</td><td>⋮</td><td>⋮</td><td>⋮</td><td>⋮</td><td>⋮</td><td>⋮</td><td>⋮</td><td>⋮</td><td>⋮</td></tr>\n",
       "\t<tr><td>GUT_GENOME286996</td><td>ZellerG_2014__MMPU99077057ST__bin.71</td><td>CIBIO</td><td>MAG</td><td>2155871</td><td> 51</td><td>58794</td><td>58.54</td><td>94.46</td><td>0.00</td><td>⋯</td><td>18</td><td>NA</td><td>GUT_GENOME239684</td><td>MGYG-HGUT-03686</td><td>d__Bacteria;p__Firmicutes_A;c__Clostridia;o__Oscillospirales;f__Oscillospiraceae;g__ER4;s__ER4 sp000765235                   </td><td>ERS436838</td><td>ERP005534</td><td>Germany</td><td>Europe</td><td>ftp://ftp.ebi.ac.uk/pub/databases/metagenomics/mgnify_genomes/human-gut/v1.0/all_genomes/MGYG-HGUT-036/MGYG-HGUT-03686/genomes4/GUT_GENOME286996.gff.gz</td></tr>\n",
       "\t<tr><td>GUT_GENOME286997</td><td>ZellerG_2014__MMPU99077057ST__bin.72</td><td>CIBIO</td><td>MAG</td><td>2883579</td><td>383</td><td>10509</td><td>43.57</td><td>94.53</td><td>0.94</td><td>⋯</td><td>19</td><td>NA</td><td>GUT_GENOME000682</td><td>MGYG-HGUT-00144</td><td>d__Bacteria;p__Bacteroidota;c__Bacteroidia;o__Bacteroidales;f__Barnesiellaceae;g__Barnesiella;s__Barnesiella intestinihominis</td><td>ERS436838</td><td>ERP005534</td><td>Germany</td><td>Europe</td><td>ftp://ftp.ebi.ac.uk/pub/databases/metagenomics/mgnify_genomes/human-gut/v1.0/all_genomes/MGYG-HGUT-001/MGYG-HGUT-00144/genomes1/GUT_GENOME286997.gff.gz</td></tr>\n",
       "</tbody>\n",
       "</table>\n"
      ],
      "text/latex": [
       "A data.table: 286997 × 25\n",
       "\\begin{tabular}{lllllllllllllllllllll}\n",
       " Genome & Original\\_name & Study\\_set & Genome\\_type & Length & N\\_contigs & N50 & GC\\_content & Completeness & Contamination & ⋯ & tRNAs & Genome\\_accession & Species\\_rep & MGnify\\_accession & Lineage & Sample\\_accession & Study\\_accession & Country & Continent & FTP\\_download\\\\\n",
       " <chr> & <chr> & <chr> & <chr> & <int> & <int> & <int> & <dbl> & <dbl> & <dbl> & ⋯ & <int> & <chr> & <chr> & <chr> & <chr> & <chr> & <chr> & <chr> & <chr> & <chr>\\\\\n",
       "\\hline\n",
       "\t GUT\\_GENOME000001 & 11861\\_6\\_55 & HBC & Isolate & 3221441 & 137 & 47272 & 28.26 & 98.59 & 0.70 & ⋯ & 20 & NA & GUT\\_GENOME000001 & MGYG-HGUT-00001 & d\\_\\_Bacteria;p\\_\\_Firmicutes\\_A;c\\_\\_Clostridia;o\\_\\_Peptostreptococcales;f\\_\\_Peptostreptococcaceae;g\\_\\_GCA-900066495;s\\_\\_         & ERS370061 & ERP105624 & United Kingdom & Europe & ftp://ftp.ebi.ac.uk/pub/databases/metagenomics/mgnify\\_genomes/human-gut/v1.0/all\\_genomes/MGYG-HGUT-000/MGYG-HGUT-00001/genomes1/GUT\\_GENOME000001.gff.gz\\\\\n",
       "\t GUT\\_GENOME000002 & 11861\\_6\\_56 & HBC & Isolate & 3296933 &  82 & 96092 & 38.19 & 99.33 & 1.34 & ⋯ & 20 & NA & GUT\\_GENOME001689 & MGYG-HGUT-00262 & d\\_\\_Bacteria;p\\_\\_Firmicutes\\_A;c\\_\\_Clostridia;o\\_\\_Lachnospirales;f\\_\\_Lachnospiraceae;g\\_\\_Eubacterium\\_E;s\\_\\_Eubacterium\\_E hallii & ERS370062 & ERP105624 & United Kingdom & Europe & ftp://ftp.ebi.ac.uk/pub/databases/metagenomics/mgnify\\_genomes/human-gut/v1.0/all\\_genomes/MGYG-HGUT-002/MGYG-HGUT-00262/genomes1/GUT\\_GENOME000002.gff.gz\\\\\n",
       "\t ⋮ & ⋮ & ⋮ & ⋮ & ⋮ & ⋮ & ⋮ & ⋮ & ⋮ & ⋮ & ⋱ & ⋮ & ⋮ & ⋮ & ⋮ & ⋮ & ⋮ & ⋮ & ⋮ & ⋮ & ⋮\\\\\n",
       "\t GUT\\_GENOME286996 & ZellerG\\_2014\\_\\_MMPU99077057ST\\_\\_bin.71 & CIBIO & MAG & 2155871 &  51 & 58794 & 58.54 & 94.46 & 0.00 & ⋯ & 18 & NA & GUT\\_GENOME239684 & MGYG-HGUT-03686 & d\\_\\_Bacteria;p\\_\\_Firmicutes\\_A;c\\_\\_Clostridia;o\\_\\_Oscillospirales;f\\_\\_Oscillospiraceae;g\\_\\_ER4;s\\_\\_ER4 sp000765235                    & ERS436838 & ERP005534 & Germany & Europe & ftp://ftp.ebi.ac.uk/pub/databases/metagenomics/mgnify\\_genomes/human-gut/v1.0/all\\_genomes/MGYG-HGUT-036/MGYG-HGUT-03686/genomes4/GUT\\_GENOME286996.gff.gz\\\\\n",
       "\t GUT\\_GENOME286997 & ZellerG\\_2014\\_\\_MMPU99077057ST\\_\\_bin.72 & CIBIO & MAG & 2883579 & 383 & 10509 & 43.57 & 94.53 & 0.94 & ⋯ & 19 & NA & GUT\\_GENOME000682 & MGYG-HGUT-00144 & d\\_\\_Bacteria;p\\_\\_Bacteroidota;c\\_\\_Bacteroidia;o\\_\\_Bacteroidales;f\\_\\_Barnesiellaceae;g\\_\\_Barnesiella;s\\_\\_Barnesiella intestinihominis & ERS436838 & ERP005534 & Germany & Europe & ftp://ftp.ebi.ac.uk/pub/databases/metagenomics/mgnify\\_genomes/human-gut/v1.0/all\\_genomes/MGYG-HGUT-001/MGYG-HGUT-00144/genomes1/GUT\\_GENOME286997.gff.gz\\\\\n",
       "\\end{tabular}\n"
      ],
      "text/markdown": [
       "\n",
       "A data.table: 286997 × 25\n",
       "\n",
       "| Genome &lt;chr&gt; | Original_name &lt;chr&gt; | Study_set &lt;chr&gt; | Genome_type &lt;chr&gt; | Length &lt;int&gt; | N_contigs &lt;int&gt; | N50 &lt;int&gt; | GC_content &lt;dbl&gt; | Completeness &lt;dbl&gt; | Contamination &lt;dbl&gt; | ⋯ ⋯ | tRNAs &lt;int&gt; | Genome_accession &lt;chr&gt; | Species_rep &lt;chr&gt; | MGnify_accession &lt;chr&gt; | Lineage &lt;chr&gt; | Sample_accession &lt;chr&gt; | Study_accession &lt;chr&gt; | Country &lt;chr&gt; | Continent &lt;chr&gt; | FTP_download &lt;chr&gt; |\n",
       "|---|---|---|---|---|---|---|---|---|---|---|---|---|---|---|---|---|---|---|---|---|\n",
       "| GUT_GENOME000001 | 11861_6_55 | HBC | Isolate | 3221441 | 137 | 47272 | 28.26 | 98.59 | 0.70 | ⋯ | 20 | NA | GUT_GENOME000001 | MGYG-HGUT-00001 | d__Bacteria;p__Firmicutes_A;c__Clostridia;o__Peptostreptococcales;f__Peptostreptococcaceae;g__GCA-900066495;s__         | ERS370061 | ERP105624 | United Kingdom | Europe | ftp://ftp.ebi.ac.uk/pub/databases/metagenomics/mgnify_genomes/human-gut/v1.0/all_genomes/MGYG-HGUT-000/MGYG-HGUT-00001/genomes1/GUT_GENOME000001.gff.gz |\n",
       "| GUT_GENOME000002 | 11861_6_56 | HBC | Isolate | 3296933 |  82 | 96092 | 38.19 | 99.33 | 1.34 | ⋯ | 20 | NA | GUT_GENOME001689 | MGYG-HGUT-00262 | d__Bacteria;p__Firmicutes_A;c__Clostridia;o__Lachnospirales;f__Lachnospiraceae;g__Eubacterium_E;s__Eubacterium_E hallii | ERS370062 | ERP105624 | United Kingdom | Europe | ftp://ftp.ebi.ac.uk/pub/databases/metagenomics/mgnify_genomes/human-gut/v1.0/all_genomes/MGYG-HGUT-002/MGYG-HGUT-00262/genomes1/GUT_GENOME000002.gff.gz |\n",
       "| ⋮ | ⋮ | ⋮ | ⋮ | ⋮ | ⋮ | ⋮ | ⋮ | ⋮ | ⋮ | ⋱ | ⋮ | ⋮ | ⋮ | ⋮ | ⋮ | ⋮ | ⋮ | ⋮ | ⋮ | ⋮ |\n",
       "| GUT_GENOME286996 | ZellerG_2014__MMPU99077057ST__bin.71 | CIBIO | MAG | 2155871 |  51 | 58794 | 58.54 | 94.46 | 0.00 | ⋯ | 18 | NA | GUT_GENOME239684 | MGYG-HGUT-03686 | d__Bacteria;p__Firmicutes_A;c__Clostridia;o__Oscillospirales;f__Oscillospiraceae;g__ER4;s__ER4 sp000765235                    | ERS436838 | ERP005534 | Germany | Europe | ftp://ftp.ebi.ac.uk/pub/databases/metagenomics/mgnify_genomes/human-gut/v1.0/all_genomes/MGYG-HGUT-036/MGYG-HGUT-03686/genomes4/GUT_GENOME286996.gff.gz |\n",
       "| GUT_GENOME286997 | ZellerG_2014__MMPU99077057ST__bin.72 | CIBIO | MAG | 2883579 | 383 | 10509 | 43.57 | 94.53 | 0.94 | ⋯ | 19 | NA | GUT_GENOME000682 | MGYG-HGUT-00144 | d__Bacteria;p__Bacteroidota;c__Bacteroidia;o__Bacteroidales;f__Barnesiellaceae;g__Barnesiella;s__Barnesiella intestinihominis | ERS436838 | ERP005534 | Germany | Europe | ftp://ftp.ebi.ac.uk/pub/databases/metagenomics/mgnify_genomes/human-gut/v1.0/all_genomes/MGYG-HGUT-001/MGYG-HGUT-00144/genomes1/GUT_GENOME286997.gff.gz |\n",
       "\n"
      ],
      "text/plain": [
       "       Genome           Original_name                        Study_set\n",
       "1      GUT_GENOME000001 11861_6_55                           HBC      \n",
       "2      GUT_GENOME000002 11861_6_56                           HBC      \n",
       "⋮      ⋮                ⋮                                    ⋮        \n",
       "286996 GUT_GENOME286996 ZellerG_2014__MMPU99077057ST__bin.71 CIBIO    \n",
       "286997 GUT_GENOME286997 ZellerG_2014__MMPU99077057ST__bin.72 CIBIO    \n",
       "       Genome_type Length  N_contigs N50   GC_content Completeness\n",
       "1      Isolate     3221441 137       47272 28.26      98.59       \n",
       "2      Isolate     3296933  82       96092 38.19      99.33       \n",
       "⋮      ⋮           ⋮       ⋮         ⋮     ⋮          ⋮           \n",
       "286996 MAG         2155871  51       58794 58.54      94.46       \n",
       "286997 MAG         2883579 383       10509 43.57      94.53       \n",
       "       Contamination ⋯ tRNAs Genome_accession Species_rep      MGnify_accession\n",
       "1      0.70          ⋯ 20    NA               GUT_GENOME000001 MGYG-HGUT-00001 \n",
       "2      1.34          ⋯ 20    NA               GUT_GENOME001689 MGYG-HGUT-00262 \n",
       "⋮      ⋮             ⋱ ⋮     ⋮                ⋮                ⋮               \n",
       "286996 0.00          ⋯ 18    NA               GUT_GENOME239684 MGYG-HGUT-03686 \n",
       "286997 0.94          ⋯ 19    NA               GUT_GENOME000682 MGYG-HGUT-00144 \n",
       "       Lineage                                                                                                                      \n",
       "1      d__Bacteria;p__Firmicutes_A;c__Clostridia;o__Peptostreptococcales;f__Peptostreptococcaceae;g__GCA-900066495;s__              \n",
       "2      d__Bacteria;p__Firmicutes_A;c__Clostridia;o__Lachnospirales;f__Lachnospiraceae;g__Eubacterium_E;s__Eubacterium_E hallii      \n",
       "⋮      ⋮                                                                                                                            \n",
       "286996 d__Bacteria;p__Firmicutes_A;c__Clostridia;o__Oscillospirales;f__Oscillospiraceae;g__ER4;s__ER4 sp000765235                   \n",
       "286997 d__Bacteria;p__Bacteroidota;c__Bacteroidia;o__Bacteroidales;f__Barnesiellaceae;g__Barnesiella;s__Barnesiella intestinihominis\n",
       "       Sample_accession Study_accession Country        Continent\n",
       "1      ERS370061        ERP105624       United Kingdom Europe   \n",
       "2      ERS370062        ERP105624       United Kingdom Europe   \n",
       "⋮      ⋮                ⋮               ⋮              ⋮        \n",
       "286996 ERS436838        ERP005534       Germany        Europe   \n",
       "286997 ERS436838        ERP005534       Germany        Europe   \n",
       "       FTP_download                                                                                                                                           \n",
       "1      ftp://ftp.ebi.ac.uk/pub/databases/metagenomics/mgnify_genomes/human-gut/v1.0/all_genomes/MGYG-HGUT-000/MGYG-HGUT-00001/genomes1/GUT_GENOME000001.gff.gz\n",
       "2      ftp://ftp.ebi.ac.uk/pub/databases/metagenomics/mgnify_genomes/human-gut/v1.0/all_genomes/MGYG-HGUT-002/MGYG-HGUT-00262/genomes1/GUT_GENOME000002.gff.gz\n",
       "⋮      ⋮                                                                                                                                                      \n",
       "286996 ftp://ftp.ebi.ac.uk/pub/databases/metagenomics/mgnify_genomes/human-gut/v1.0/all_genomes/MGYG-HGUT-036/MGYG-HGUT-03686/genomes4/GUT_GENOME286996.gff.gz\n",
       "286997 ftp://ftp.ebi.ac.uk/pub/databases/metagenomics/mgnify_genomes/human-gut/v1.0/all_genomes/MGYG-HGUT-001/MGYG-HGUT-00144/genomes1/GUT_GENOME286997.gff.gz"
      ]
     },
     "metadata": {},
     "output_type": "display_data"
    }
   ],
   "source": [
    "uhgg_meta = Fread(uhgg_meta_file)\n",
    "uhgg_meta"
   ]
  },
  {
   "cell_type": "code",
   "execution_count": 13,
   "metadata": {
    "ExecuteTime": {
     "end_time": "2022-05-18T13:29:35.217087Z",
     "start_time": "2022-05-18T13:29:35.117Z"
    }
   },
   "outputs": [
    {
     "data": {
      "text/html": [
       "<table class=\"dataframe\">\n",
       "<caption>A tidytable: 234 × 3</caption>\n",
       "<thead>\n",
       "\t<tr><th scope=col>Sample</th><th scope=col>Read1</th><th scope=col>Read2</th></tr>\n",
       "\t<tr><th scope=col>&lt;chr&gt;</th><th scope=col>&lt;chr&gt;</th><th scope=col>&lt;chr&gt;</th></tr>\n",
       "</thead>\n",
       "<tbody>\n",
       "\t<tr><td>ERS1015631</td><td>/ebio/abt3_projects/databases_no-backup/DeepMAsED/version2/real_data_eval/UHGG/LLMGQC_r100-rep2/final/ERS1015631/R1_final.fq.gz</td><td>/ebio/abt3_projects/databases_no-backup/DeepMAsED/version2/real_data_eval/UHGG/LLMGQC_r100-rep2/final/ERS1015631/R2_final.fq.gz</td></tr>\n",
       "\t<tr><td>ERS1015680</td><td>/ebio/abt3_projects/databases_no-backup/DeepMAsED/version2/real_data_eval/UHGG/LLMGQC_r100-rep2/final/ERS1015680/R1_final.fq.gz</td><td>/ebio/abt3_projects/databases_no-backup/DeepMAsED/version2/real_data_eval/UHGG/LLMGQC_r100-rep2/final/ERS1015680/R2_final.fq.gz</td></tr>\n",
       "\t<tr><td>⋮</td><td>⋮</td><td>⋮</td></tr>\n",
       "\t<tr><td>SRS871504</td><td>/ebio/abt3_projects/databases_no-backup/DeepMAsED/version2/real_data_eval/UHGG/LLMGQC_r100-rep2/final/SRS871504/R1_final.fq.gz</td><td>/ebio/abt3_projects/databases_no-backup/DeepMAsED/version2/real_data_eval/UHGG/LLMGQC_r100-rep2/final/SRS871504/R2_final.fq.gz</td></tr>\n",
       "\t<tr><td>SRS883019</td><td>/ebio/abt3_projects/databases_no-backup/DeepMAsED/version2/real_data_eval/UHGG/LLMGQC_r100-rep2/final/SRS883019/R1_final.fq.gz</td><td>/ebio/abt3_projects/databases_no-backup/DeepMAsED/version2/real_data_eval/UHGG/LLMGQC_r100-rep2/final/SRS883019/R2_final.fq.gz</td></tr>\n",
       "</tbody>\n",
       "</table>\n"
      ],
      "text/latex": [
       "A tidytable: 234 × 3\n",
       "\\begin{tabular}{lll}\n",
       " Sample & Read1 & Read2\\\\\n",
       " <chr> & <chr> & <chr>\\\\\n",
       "\\hline\n",
       "\t ERS1015631 & /ebio/abt3\\_projects/databases\\_no-backup/DeepMAsED/version2/real\\_data\\_eval/UHGG/LLMGQC\\_r100-rep2/final/ERS1015631/R1\\_final.fq.gz & /ebio/abt3\\_projects/databases\\_no-backup/DeepMAsED/version2/real\\_data\\_eval/UHGG/LLMGQC\\_r100-rep2/final/ERS1015631/R2\\_final.fq.gz\\\\\n",
       "\t ERS1015680 & /ebio/abt3\\_projects/databases\\_no-backup/DeepMAsED/version2/real\\_data\\_eval/UHGG/LLMGQC\\_r100-rep2/final/ERS1015680/R1\\_final.fq.gz & /ebio/abt3\\_projects/databases\\_no-backup/DeepMAsED/version2/real\\_data\\_eval/UHGG/LLMGQC\\_r100-rep2/final/ERS1015680/R2\\_final.fq.gz\\\\\n",
       "\t ⋮ & ⋮ & ⋮\\\\\n",
       "\t SRS871504 & /ebio/abt3\\_projects/databases\\_no-backup/DeepMAsED/version2/real\\_data\\_eval/UHGG/LLMGQC\\_r100-rep2/final/SRS871504/R1\\_final.fq.gz & /ebio/abt3\\_projects/databases\\_no-backup/DeepMAsED/version2/real\\_data\\_eval/UHGG/LLMGQC\\_r100-rep2/final/SRS871504/R2\\_final.fq.gz\\\\\n",
       "\t SRS883019 & /ebio/abt3\\_projects/databases\\_no-backup/DeepMAsED/version2/real\\_data\\_eval/UHGG/LLMGQC\\_r100-rep2/final/SRS883019/R1\\_final.fq.gz & /ebio/abt3\\_projects/databases\\_no-backup/DeepMAsED/version2/real\\_data\\_eval/UHGG/LLMGQC\\_r100-rep2/final/SRS883019/R2\\_final.fq.gz\\\\\n",
       "\\end{tabular}\n"
      ],
      "text/markdown": [
       "\n",
       "A tidytable: 234 × 3\n",
       "\n",
       "| Sample &lt;chr&gt; | Read1 &lt;chr&gt; | Read2 &lt;chr&gt; |\n",
       "|---|---|---|\n",
       "| ERS1015631 | /ebio/abt3_projects/databases_no-backup/DeepMAsED/version2/real_data_eval/UHGG/LLMGQC_r100-rep2/final/ERS1015631/R1_final.fq.gz | /ebio/abt3_projects/databases_no-backup/DeepMAsED/version2/real_data_eval/UHGG/LLMGQC_r100-rep2/final/ERS1015631/R2_final.fq.gz |\n",
       "| ERS1015680 | /ebio/abt3_projects/databases_no-backup/DeepMAsED/version2/real_data_eval/UHGG/LLMGQC_r100-rep2/final/ERS1015680/R1_final.fq.gz | /ebio/abt3_projects/databases_no-backup/DeepMAsED/version2/real_data_eval/UHGG/LLMGQC_r100-rep2/final/ERS1015680/R2_final.fq.gz |\n",
       "| ⋮ | ⋮ | ⋮ |\n",
       "| SRS871504 | /ebio/abt3_projects/databases_no-backup/DeepMAsED/version2/real_data_eval/UHGG/LLMGQC_r100-rep2/final/SRS871504/R1_final.fq.gz | /ebio/abt3_projects/databases_no-backup/DeepMAsED/version2/real_data_eval/UHGG/LLMGQC_r100-rep2/final/SRS871504/R2_final.fq.gz |\n",
       "| SRS883019 | /ebio/abt3_projects/databases_no-backup/DeepMAsED/version2/real_data_eval/UHGG/LLMGQC_r100-rep2/final/SRS883019/R1_final.fq.gz | /ebio/abt3_projects/databases_no-backup/DeepMAsED/version2/real_data_eval/UHGG/LLMGQC_r100-rep2/final/SRS883019/R2_final.fq.gz |\n",
       "\n"
      ],
      "text/plain": [
       "    Sample    \n",
       "1   ERS1015631\n",
       "2   ERS1015680\n",
       "⋮   ⋮         \n",
       "233 SRS871504 \n",
       "234 SRS883019 \n",
       "    Read1                                                                                                                          \n",
       "1   /ebio/abt3_projects/databases_no-backup/DeepMAsED/version2/real_data_eval/UHGG/LLMGQC_r100-rep2/final/ERS1015631/R1_final.fq.gz\n",
       "2   /ebio/abt3_projects/databases_no-backup/DeepMAsED/version2/real_data_eval/UHGG/LLMGQC_r100-rep2/final/ERS1015680/R1_final.fq.gz\n",
       "⋮   ⋮                                                                                                                              \n",
       "233 /ebio/abt3_projects/databases_no-backup/DeepMAsED/version2/real_data_eval/UHGG/LLMGQC_r100-rep2/final/SRS871504/R1_final.fq.gz \n",
       "234 /ebio/abt3_projects/databases_no-backup/DeepMAsED/version2/real_data_eval/UHGG/LLMGQC_r100-rep2/final/SRS883019/R1_final.fq.gz \n",
       "    Read2                                                                                                                          \n",
       "1   /ebio/abt3_projects/databases_no-backup/DeepMAsED/version2/real_data_eval/UHGG/LLMGQC_r100-rep2/final/ERS1015631/R2_final.fq.gz\n",
       "2   /ebio/abt3_projects/databases_no-backup/DeepMAsED/version2/real_data_eval/UHGG/LLMGQC_r100-rep2/final/ERS1015680/R2_final.fq.gz\n",
       "⋮   ⋮                                                                                                                              \n",
       "233 /ebio/abt3_projects/databases_no-backup/DeepMAsED/version2/real_data_eval/UHGG/LLMGQC_r100-rep2/final/SRS871504/R2_final.fq.gz \n",
       "234 /ebio/abt3_projects/databases_no-backup/DeepMAsED/version2/real_data_eval/UHGG/LLMGQC_r100-rep2/final/SRS883019/R2_final.fq.gz "
      ]
     },
     "metadata": {},
     "output_type": "display_data"
    }
   ],
   "source": [
    "samps = Fread(read_file) %>%\n",
    "    filter.(Read1 != '',\n",
    "            Read2 != '') %>%\n",
    "    select.(-Notes)\n",
    "samps"
   ]
  },
  {
   "cell_type": "code",
   "execution_count": 14,
   "metadata": {
    "ExecuteTime": {
     "end_time": "2022-05-18T13:29:37.083846Z",
     "start_time": "2022-05-18T13:29:36.820Z"
    }
   },
   "outputs": [
    {
     "data": {
      "text/html": [
       "<table class=\"dataframe\">\n",
       "<caption>A tidytable: 250 × 14</caption>\n",
       "<thead>\n",
       "\t<tr><th scope=col>Sample</th><th scope=col>Read</th><th scope=col>num_seqs</th><th scope=col>sum_len</th><th scope=col>min_len</th><th scope=col>avg_len</th><th scope=col>max_len</th><th scope=col>Q1</th><th scope=col>Q2</th><th scope=col>Q3</th><th scope=col>sum_gap</th><th scope=col>N50</th><th scope=col>Q20...</th><th scope=col>Q30...</th></tr>\n",
       "\t<tr><th scope=col>&lt;chr&gt;</th><th scope=col>&lt;int&gt;</th><th scope=col>&lt;int&gt;</th><th scope=col>&lt;int64&gt;</th><th scope=col>&lt;int&gt;</th><th scope=col>&lt;dbl&gt;</th><th scope=col>&lt;int&gt;</th><th scope=col>&lt;dbl&gt;</th><th scope=col>&lt;dbl&gt;</th><th scope=col>&lt;dbl&gt;</th><th scope=col>&lt;int&gt;</th><th scope=col>&lt;int&gt;</th><th scope=col>&lt;dbl&gt;</th><th scope=col>&lt;dbl&gt;</th></tr>\n",
       "</thead>\n",
       "<tbody>\n",
       "\t<tr><td>ERS473029</td><td>1</td><td>20731697</td><td>2037645346</td><td>80</td><td>98.3</td><td>100</td><td> 99</td><td>100</td><td>100</td><td>0</td><td>100</td><td>97.94</td><td>92.10</td></tr>\n",
       "\t<tr><td>ERS473062</td><td>1</td><td>21960612</td><td>2163698964</td><td>80</td><td>98.5</td><td>100</td><td>100</td><td>100</td><td>100</td><td>0</td><td>100</td><td>98.35</td><td>93.79</td></tr>\n",
       "\t<tr><td>⋮</td><td>⋮</td><td>⋮</td><td>⋮</td><td>⋮</td><td>⋮</td><td>⋮</td><td>⋮</td><td>⋮</td><td>⋮</td><td>⋮</td><td>⋮</td><td>⋮</td><td>⋮</td></tr>\n",
       "\t<tr><td>ERS436776</td><td>1</td><td>24673527</td><td>2310414357</td><td>80</td><td>93.6</td><td>94</td><td>94</td><td>94</td><td>94</td><td>0</td><td>94</td><td>100</td><td>99.16</td></tr>\n",
       "\t<tr><td>ERS436820</td><td>1</td><td>22918317</td><td>2106149111</td><td>80</td><td>91.9</td><td>93</td><td>90</td><td>93</td><td>93</td><td>0</td><td>93</td><td>100</td><td>98.97</td></tr>\n",
       "</tbody>\n",
       "</table>\n"
      ],
      "text/latex": [
       "A tidytable: 250 × 14\n",
       "\\begin{tabular}{llllllllllllll}\n",
       " Sample & Read & num\\_seqs & sum\\_len & min\\_len & avg\\_len & max\\_len & Q1 & Q2 & Q3 & sum\\_gap & N50 & Q20... & Q30...\\\\\n",
       " <chr> & <int> & <int> & <int64> & <int> & <dbl> & <int> & <dbl> & <dbl> & <dbl> & <int> & <int> & <dbl> & <dbl>\\\\\n",
       "\\hline\n",
       "\t ERS473029 & 1 & 20731697 & 2037645346 & 80 & 98.3 & 100 &  99 & 100 & 100 & 0 & 100 & 97.94 & 92.10\\\\\n",
       "\t ERS473062 & 1 & 21960612 & 2163698964 & 80 & 98.5 & 100 & 100 & 100 & 100 & 0 & 100 & 98.35 & 93.79\\\\\n",
       "\t ⋮ & ⋮ & ⋮ & ⋮ & ⋮ & ⋮ & ⋮ & ⋮ & ⋮ & ⋮ & ⋮ & ⋮ & ⋮ & ⋮\\\\\n",
       "\t ERS436776 & 1 & 24673527 & 2310414357 & 80 & 93.6 & 94 & 94 & 94 & 94 & 0 & 94 & 100 & 99.16\\\\\n",
       "\t ERS436820 & 1 & 22918317 & 2106149111 & 80 & 91.9 & 93 & 90 & 93 & 93 & 0 & 93 & 100 & 98.97\\\\\n",
       "\\end{tabular}\n"
      ],
      "text/markdown": [
       "\n",
       "A tidytable: 250 × 14\n",
       "\n",
       "| Sample &lt;chr&gt; | Read &lt;int&gt; | num_seqs &lt;int&gt; | sum_len &lt;int64&gt; | min_len &lt;int&gt; | avg_len &lt;dbl&gt; | max_len &lt;int&gt; | Q1 &lt;dbl&gt; | Q2 &lt;dbl&gt; | Q3 &lt;dbl&gt; | sum_gap &lt;int&gt; | N50 &lt;int&gt; | Q20... &lt;dbl&gt; | Q30... &lt;dbl&gt; |\n",
       "|---|---|---|---|---|---|---|---|---|---|---|---|---|---|\n",
       "| ERS473029 | 1 | 20731697 | 2037645346 | 80 | 98.3 | 100 |  99 | 100 | 100 | 0 | 100 | 97.94 | 92.10 |\n",
       "| ERS473062 | 1 | 21960612 | 2163698964 | 80 | 98.5 | 100 | 100 | 100 | 100 | 0 | 100 | 98.35 | 93.79 |\n",
       "| ⋮ | ⋮ | ⋮ | ⋮ | ⋮ | ⋮ | ⋮ | ⋮ | ⋮ | ⋮ | ⋮ | ⋮ | ⋮ | ⋮ |\n",
       "| ERS436776 | 1 | 24673527 | 2310414357 | 80 | 93.6 | 94 | 94 | 94 | 94 | 0 | 94 | 100 | 99.16 |\n",
       "| ERS436820 | 1 | 22918317 | 2106149111 | 80 | 91.9 | 93 | 90 | 93 | 93 | 0 | 93 | 100 | 98.97 |\n",
       "\n"
      ],
      "text/plain": [
       "    Sample    Read num_seqs sum_len    min_len avg_len max_len Q1  Q2  Q3 \n",
       "1   ERS473029 1    20731697 2037645346 80      98.3    100      99 100 100\n",
       "2   ERS473062 1    21960612 2163698964 80      98.5    100     100 100 100\n",
       "⋮   ⋮         ⋮    ⋮        ⋮          ⋮       ⋮       ⋮       ⋮   ⋮   ⋮  \n",
       "249 ERS436776 1    24673527 2310414357 80      93.6    94      94  94  94 \n",
       "250 ERS436820 1    22918317 2106149111 80      91.9    93      90  93  93 \n",
       "    sum_gap N50 Q20... Q30...\n",
       "1   0       100 97.94  92.10 \n",
       "2   0       100 98.35  93.79 \n",
       "⋮   ⋮       ⋮   ⋮      ⋮     \n",
       "249 0       94  100    99.16 \n",
       "250 0       93  100    98.97 "
      ]
     },
     "metadata": {},
     "output_type": "display_data"
    }
   ],
   "source": [
    "stats = Fread(stats_file) %>%\n",
    "    filter.(Read == 1) %>%\n",
    "    select.(-file, -format, -type)\n",
    "stats"
   ]
  },
  {
   "cell_type": "code",
   "execution_count": 15,
   "metadata": {
    "ExecuteTime": {
     "end_time": "2022-05-18T13:29:37.279630Z",
     "start_time": "2022-05-18T13:29:37.209Z"
    }
   },
   "outputs": [
    {
     "name": "stdout",
     "output_type": "stream",
     "text": [
      "intersect(x,y): 234 \n",
      "setdiff(x,y): 0 \n",
      "setdiff(y,x): 16 \n",
      "union(x,y): 250 \n"
     ]
    },
    {
     "data": {
      "text/html": [
       "<table class=\"dataframe\">\n",
       "<caption>A tidytable: 234 × 16</caption>\n",
       "<thead>\n",
       "\t<tr><th scope=col>Sample</th><th scope=col>Read1</th><th scope=col>Read2</th><th scope=col>Read</th><th scope=col>num_seqs</th><th scope=col>sum_len</th><th scope=col>min_len</th><th scope=col>avg_len</th><th scope=col>max_len</th><th scope=col>Q1</th><th scope=col>Q2</th><th scope=col>Q3</th><th scope=col>sum_gap</th><th scope=col>N50</th><th scope=col>Q20...</th><th scope=col>Q30...</th></tr>\n",
       "\t<tr><th scope=col>&lt;chr&gt;</th><th scope=col>&lt;chr&gt;</th><th scope=col>&lt;chr&gt;</th><th scope=col>&lt;int&gt;</th><th scope=col>&lt;int&gt;</th><th scope=col>&lt;int64&gt;</th><th scope=col>&lt;int&gt;</th><th scope=col>&lt;dbl&gt;</th><th scope=col>&lt;int&gt;</th><th scope=col>&lt;dbl&gt;</th><th scope=col>&lt;dbl&gt;</th><th scope=col>&lt;dbl&gt;</th><th scope=col>&lt;int&gt;</th><th scope=col>&lt;int&gt;</th><th scope=col>&lt;dbl&gt;</th><th scope=col>&lt;dbl&gt;</th></tr>\n",
       "</thead>\n",
       "<tbody>\n",
       "\t<tr><td>ERS473029</td><td>/ebio/abt3_projects/databases_no-backup/DeepMAsED/version2/real_data_eval/UHGG/LLMGQC_r100-rep2/final/ERS473029/R1_final.fq.gz</td><td>/ebio/abt3_projects/databases_no-backup/DeepMAsED/version2/real_data_eval/UHGG/LLMGQC_r100-rep2/final/ERS473029/R2_final.fq.gz</td><td>1</td><td>20731697</td><td>2037645346</td><td>80</td><td>98.3</td><td>100</td><td> 99</td><td>100</td><td>100</td><td>0</td><td>100</td><td>97.94</td><td>92.10</td></tr>\n",
       "\t<tr><td>ERS473062</td><td>/ebio/abt3_projects/databases_no-backup/DeepMAsED/version2/real_data_eval/UHGG/LLMGQC_r100-rep2/final/ERS473062/R1_final.fq.gz</td><td>/ebio/abt3_projects/databases_no-backup/DeepMAsED/version2/real_data_eval/UHGG/LLMGQC_r100-rep2/final/ERS473062/R2_final.fq.gz</td><td>1</td><td>21960612</td><td>2163698964</td><td>80</td><td>98.5</td><td>100</td><td>100</td><td>100</td><td>100</td><td>0</td><td>100</td><td>98.35</td><td>93.79</td></tr>\n",
       "\t<tr><td>⋮</td><td>⋮</td><td>⋮</td><td>⋮</td><td>⋮</td><td>⋮</td><td>⋮</td><td>⋮</td><td>⋮</td><td>⋮</td><td>⋮</td><td>⋮</td><td>⋮</td><td>⋮</td><td>⋮</td><td>⋮</td></tr>\n",
       "\t<tr><td>ERS436776</td><td>/ebio/abt3_projects/databases_no-backup/DeepMAsED/version2/real_data_eval/UHGG/LLMGQC_r100-rep2/final/ERS436776/R1_final.fq.gz</td><td>/ebio/abt3_projects/databases_no-backup/DeepMAsED/version2/real_data_eval/UHGG/LLMGQC_r100-rep2/final/ERS436776/R2_final.fq.gz</td><td>1</td><td>24673527</td><td>2310414357</td><td>80</td><td>93.6</td><td>94</td><td>94</td><td>94</td><td>94</td><td>0</td><td>94</td><td>100</td><td>99.16</td></tr>\n",
       "\t<tr><td>ERS436820</td><td>/ebio/abt3_projects/databases_no-backup/DeepMAsED/version2/real_data_eval/UHGG/LLMGQC_r100-rep2/final/ERS436820/R1_final.fq.gz</td><td>/ebio/abt3_projects/databases_no-backup/DeepMAsED/version2/real_data_eval/UHGG/LLMGQC_r100-rep2/final/ERS436820/R2_final.fq.gz</td><td>1</td><td>22918317</td><td>2106149111</td><td>80</td><td>91.9</td><td>93</td><td>90</td><td>93</td><td>93</td><td>0</td><td>93</td><td>100</td><td>98.97</td></tr>\n",
       "</tbody>\n",
       "</table>\n"
      ],
      "text/latex": [
       "A tidytable: 234 × 16\n",
       "\\begin{tabular}{llllllllllllllll}\n",
       " Sample & Read1 & Read2 & Read & num\\_seqs & sum\\_len & min\\_len & avg\\_len & max\\_len & Q1 & Q2 & Q3 & sum\\_gap & N50 & Q20... & Q30...\\\\\n",
       " <chr> & <chr> & <chr> & <int> & <int> & <int64> & <int> & <dbl> & <int> & <dbl> & <dbl> & <dbl> & <int> & <int> & <dbl> & <dbl>\\\\\n",
       "\\hline\n",
       "\t ERS473029 & /ebio/abt3\\_projects/databases\\_no-backup/DeepMAsED/version2/real\\_data\\_eval/UHGG/LLMGQC\\_r100-rep2/final/ERS473029/R1\\_final.fq.gz & /ebio/abt3\\_projects/databases\\_no-backup/DeepMAsED/version2/real\\_data\\_eval/UHGG/LLMGQC\\_r100-rep2/final/ERS473029/R2\\_final.fq.gz & 1 & 20731697 & 2037645346 & 80 & 98.3 & 100 &  99 & 100 & 100 & 0 & 100 & 97.94 & 92.10\\\\\n",
       "\t ERS473062 & /ebio/abt3\\_projects/databases\\_no-backup/DeepMAsED/version2/real\\_data\\_eval/UHGG/LLMGQC\\_r100-rep2/final/ERS473062/R1\\_final.fq.gz & /ebio/abt3\\_projects/databases\\_no-backup/DeepMAsED/version2/real\\_data\\_eval/UHGG/LLMGQC\\_r100-rep2/final/ERS473062/R2\\_final.fq.gz & 1 & 21960612 & 2163698964 & 80 & 98.5 & 100 & 100 & 100 & 100 & 0 & 100 & 98.35 & 93.79\\\\\n",
       "\t ⋮ & ⋮ & ⋮ & ⋮ & ⋮ & ⋮ & ⋮ & ⋮ & ⋮ & ⋮ & ⋮ & ⋮ & ⋮ & ⋮ & ⋮ & ⋮\\\\\n",
       "\t ERS436776 & /ebio/abt3\\_projects/databases\\_no-backup/DeepMAsED/version2/real\\_data\\_eval/UHGG/LLMGQC\\_r100-rep2/final/ERS436776/R1\\_final.fq.gz & /ebio/abt3\\_projects/databases\\_no-backup/DeepMAsED/version2/real\\_data\\_eval/UHGG/LLMGQC\\_r100-rep2/final/ERS436776/R2\\_final.fq.gz & 1 & 24673527 & 2310414357 & 80 & 93.6 & 94 & 94 & 94 & 94 & 0 & 94 & 100 & 99.16\\\\\n",
       "\t ERS436820 & /ebio/abt3\\_projects/databases\\_no-backup/DeepMAsED/version2/real\\_data\\_eval/UHGG/LLMGQC\\_r100-rep2/final/ERS436820/R1\\_final.fq.gz & /ebio/abt3\\_projects/databases\\_no-backup/DeepMAsED/version2/real\\_data\\_eval/UHGG/LLMGQC\\_r100-rep2/final/ERS436820/R2\\_final.fq.gz & 1 & 22918317 & 2106149111 & 80 & 91.9 & 93 & 90 & 93 & 93 & 0 & 93 & 100 & 98.97\\\\\n",
       "\\end{tabular}\n"
      ],
      "text/markdown": [
       "\n",
       "A tidytable: 234 × 16\n",
       "\n",
       "| Sample &lt;chr&gt; | Read1 &lt;chr&gt; | Read2 &lt;chr&gt; | Read &lt;int&gt; | num_seqs &lt;int&gt; | sum_len &lt;int64&gt; | min_len &lt;int&gt; | avg_len &lt;dbl&gt; | max_len &lt;int&gt; | Q1 &lt;dbl&gt; | Q2 &lt;dbl&gt; | Q3 &lt;dbl&gt; | sum_gap &lt;int&gt; | N50 &lt;int&gt; | Q20... &lt;dbl&gt; | Q30... &lt;dbl&gt; |\n",
       "|---|---|---|---|---|---|---|---|---|---|---|---|---|---|---|---|\n",
       "| ERS473029 | /ebio/abt3_projects/databases_no-backup/DeepMAsED/version2/real_data_eval/UHGG/LLMGQC_r100-rep2/final/ERS473029/R1_final.fq.gz | /ebio/abt3_projects/databases_no-backup/DeepMAsED/version2/real_data_eval/UHGG/LLMGQC_r100-rep2/final/ERS473029/R2_final.fq.gz | 1 | 20731697 | 2037645346 | 80 | 98.3 | 100 |  99 | 100 | 100 | 0 | 100 | 97.94 | 92.10 |\n",
       "| ERS473062 | /ebio/abt3_projects/databases_no-backup/DeepMAsED/version2/real_data_eval/UHGG/LLMGQC_r100-rep2/final/ERS473062/R1_final.fq.gz | /ebio/abt3_projects/databases_no-backup/DeepMAsED/version2/real_data_eval/UHGG/LLMGQC_r100-rep2/final/ERS473062/R2_final.fq.gz | 1 | 21960612 | 2163698964 | 80 | 98.5 | 100 | 100 | 100 | 100 | 0 | 100 | 98.35 | 93.79 |\n",
       "| ⋮ | ⋮ | ⋮ | ⋮ | ⋮ | ⋮ | ⋮ | ⋮ | ⋮ | ⋮ | ⋮ | ⋮ | ⋮ | ⋮ | ⋮ | ⋮ |\n",
       "| ERS436776 | /ebio/abt3_projects/databases_no-backup/DeepMAsED/version2/real_data_eval/UHGG/LLMGQC_r100-rep2/final/ERS436776/R1_final.fq.gz | /ebio/abt3_projects/databases_no-backup/DeepMAsED/version2/real_data_eval/UHGG/LLMGQC_r100-rep2/final/ERS436776/R2_final.fq.gz | 1 | 24673527 | 2310414357 | 80 | 93.6 | 94 | 94 | 94 | 94 | 0 | 94 | 100 | 99.16 |\n",
       "| ERS436820 | /ebio/abt3_projects/databases_no-backup/DeepMAsED/version2/real_data_eval/UHGG/LLMGQC_r100-rep2/final/ERS436820/R1_final.fq.gz | /ebio/abt3_projects/databases_no-backup/DeepMAsED/version2/real_data_eval/UHGG/LLMGQC_r100-rep2/final/ERS436820/R2_final.fq.gz | 1 | 22918317 | 2106149111 | 80 | 91.9 | 93 | 90 | 93 | 93 | 0 | 93 | 100 | 98.97 |\n",
       "\n"
      ],
      "text/plain": [
       "    Sample   \n",
       "1   ERS473029\n",
       "2   ERS473062\n",
       "⋮   ⋮        \n",
       "233 ERS436776\n",
       "234 ERS436820\n",
       "    Read1                                                                                                                         \n",
       "1   /ebio/abt3_projects/databases_no-backup/DeepMAsED/version2/real_data_eval/UHGG/LLMGQC_r100-rep2/final/ERS473029/R1_final.fq.gz\n",
       "2   /ebio/abt3_projects/databases_no-backup/DeepMAsED/version2/real_data_eval/UHGG/LLMGQC_r100-rep2/final/ERS473062/R1_final.fq.gz\n",
       "⋮   ⋮                                                                                                                             \n",
       "233 /ebio/abt3_projects/databases_no-backup/DeepMAsED/version2/real_data_eval/UHGG/LLMGQC_r100-rep2/final/ERS436776/R1_final.fq.gz\n",
       "234 /ebio/abt3_projects/databases_no-backup/DeepMAsED/version2/real_data_eval/UHGG/LLMGQC_r100-rep2/final/ERS436820/R1_final.fq.gz\n",
       "    Read2                                                                                                                         \n",
       "1   /ebio/abt3_projects/databases_no-backup/DeepMAsED/version2/real_data_eval/UHGG/LLMGQC_r100-rep2/final/ERS473029/R2_final.fq.gz\n",
       "2   /ebio/abt3_projects/databases_no-backup/DeepMAsED/version2/real_data_eval/UHGG/LLMGQC_r100-rep2/final/ERS473062/R2_final.fq.gz\n",
       "⋮   ⋮                                                                                                                             \n",
       "233 /ebio/abt3_projects/databases_no-backup/DeepMAsED/version2/real_data_eval/UHGG/LLMGQC_r100-rep2/final/ERS436776/R2_final.fq.gz\n",
       "234 /ebio/abt3_projects/databases_no-backup/DeepMAsED/version2/real_data_eval/UHGG/LLMGQC_r100-rep2/final/ERS436820/R2_final.fq.gz\n",
       "    Read num_seqs sum_len    min_len avg_len max_len Q1  Q2  Q3  sum_gap N50\n",
       "1   1    20731697 2037645346 80      98.3    100      99 100 100 0       100\n",
       "2   1    21960612 2163698964 80      98.5    100     100 100 100 0       100\n",
       "⋮   ⋮    ⋮        ⋮          ⋮       ⋮       ⋮       ⋮   ⋮   ⋮   ⋮       ⋮  \n",
       "233 1    24673527 2310414357 80      93.6    94      94  94  94  0       94 \n",
       "234 1    22918317 2106149111 80      91.9    93      90  93  93  0       93 \n",
       "    Q20... Q30...\n",
       "1   97.94  92.10 \n",
       "2   98.35  93.79 \n",
       "⋮   ⋮      ⋮     \n",
       "233 100    99.16 \n",
       "234 100    98.97 "
      ]
     },
     "metadata": {},
     "output_type": "display_data"
    }
   ],
   "source": [
    "# joining\n",
    "overlap(samps$Sample, stats$Sample)\n",
    "samps = samps %>%\n",
    "    inner_join.(stats, c('Sample'))\n",
    "samps"
   ]
  },
  {
   "cell_type": "code",
   "execution_count": 16,
   "metadata": {
    "ExecuteTime": {
     "end_time": "2022-05-18T13:29:39.328067Z",
     "start_time": "2022-05-18T13:29:39.274Z"
    }
   },
   "outputs": [
    {
     "data": {
      "text/html": [
       "<table class=\"dataframe\">\n",
       "<caption>A matrix: 1 × 8 of type dbl</caption>\n",
       "<thead>\n",
       "\t<tr><th></th><th scope=col>Min.</th><th scope=col>1st Qu.</th><th scope=col>Median</th><th scope=col>Mean</th><th scope=col>3rd Qu.</th><th scope=col>Max.</th><th scope=col>sd</th><th scope=col>sd_err_of_mean</th></tr>\n",
       "</thead>\n",
       "<tbody>\n",
       "\t<tr><th scope=row>num_seqs</th><td>2097398</td><td>11641969</td><td>21575332</td><td>23451280</td><td>29192627</td><td>185839193</td><td>18082390</td><td>7382105</td></tr>\n",
       "</tbody>\n",
       "</table>\n"
      ],
      "text/latex": [
       "A matrix: 1 × 8 of type dbl\n",
       "\\begin{tabular}{r|llllllll}\n",
       "  & Min. & 1st Qu. & Median & Mean & 3rd Qu. & Max. & sd & sd\\_err\\_of\\_mean\\\\\n",
       "\\hline\n",
       "\tnum\\_seqs & 2097398 & 11641969 & 21575332 & 23451280 & 29192627 & 185839193 & 18082390 & 7382105\\\\\n",
       "\\end{tabular}\n"
      ],
      "text/markdown": [
       "\n",
       "A matrix: 1 × 8 of type dbl\n",
       "\n",
       "| <!--/--> | Min. | 1st Qu. | Median | Mean | 3rd Qu. | Max. | sd | sd_err_of_mean |\n",
       "|---|---|---|---|---|---|---|---|---|\n",
       "| num_seqs | 2097398 | 11641969 | 21575332 | 23451280 | 29192627 | 185839193 | 18082390 | 7382105 |\n",
       "\n"
      ],
      "text/plain": [
       "         Min.    1st Qu.  Median   Mean     3rd Qu.  Max.      sd      \n",
       "num_seqs 2097398 11641969 21575332 23451280 29192627 185839193 18082390\n",
       "         sd_err_of_mean\n",
       "num_seqs 7382105       "
      ]
     },
     "metadata": {},
     "output_type": "display_data"
    }
   ],
   "source": [
    "summary_x(samps$num_seqs)"
   ]
  },
  {
   "cell_type": "markdown",
   "metadata": {},
   "source": [
    "# LLMGA: denovo"
   ]
  },
  {
   "cell_type": "markdown",
   "metadata": {},
   "source": [
    "### Selecting samples"
   ]
  },
  {
   "cell_type": "code",
   "execution_count": 17,
   "metadata": {
    "ExecuteTime": {
     "end_time": "2022-05-18T13:30:02.529637Z",
     "start_time": "2022-05-18T13:30:02.489Z"
    }
   },
   "outputs": [],
   "source": [
    "n_samps = 200"
   ]
  },
  {
   "cell_type": "code",
   "execution_count": 18,
   "metadata": {
    "ExecuteTime": {
     "end_time": "2022-05-18T13:30:03.501147Z",
     "start_time": "2022-05-18T13:30:03.303Z"
    }
   },
   "outputs": [
    {
     "data": {
      "text/html": [
       "<table class=\"dataframe\">\n",
       "<caption>A matrix: 1 × 8 of type dbl</caption>\n",
       "<thead>\n",
       "\t<tr><th></th><th scope=col>Min.</th><th scope=col>1st Qu.</th><th scope=col>Median</th><th scope=col>Mean</th><th scope=col>3rd Qu.</th><th scope=col>Max.</th><th scope=col>sd</th><th scope=col>sd_err_of_mean</th></tr>\n",
       "</thead>\n",
       "<tbody>\n",
       "\t<tr><th scope=row>num_seqs</th><td>5296969</td><td>12272256</td><td>21575332</td><td>22507355</td><td>29186158</td><td>78345024</td><td>12913485</td><td>5271908</td></tr>\n",
       "</tbody>\n",
       "</table>\n"
      ],
      "text/latex": [
       "A matrix: 1 × 8 of type dbl\n",
       "\\begin{tabular}{r|llllllll}\n",
       "  & Min. & 1st Qu. & Median & Mean & 3rd Qu. & Max. & sd & sd\\_err\\_of\\_mean\\\\\n",
       "\\hline\n",
       "\tnum\\_seqs & 5296969 & 12272256 & 21575332 & 22507355 & 29186158 & 78345024 & 12913485 & 5271908\\\\\n",
       "\\end{tabular}\n"
      ],
      "text/markdown": [
       "\n",
       "A matrix: 1 × 8 of type dbl\n",
       "\n",
       "| <!--/--> | Min. | 1st Qu. | Median | Mean | 3rd Qu. | Max. | sd | sd_err_of_mean |\n",
       "|---|---|---|---|---|---|---|---|---|\n",
       "| num_seqs | 5296969 | 12272256 | 21575332 | 22507355 | 29186158 | 78345024 | 12913485 | 5271908 |\n",
       "\n"
      ],
      "text/plain": [
       "         Min.    1st Qu.  Median   Mean     3rd Qu.  Max.     sd      \n",
       "num_seqs 5296969 12272256 21575332 22507355 29186158 78345024 12913485\n",
       "         sd_err_of_mean\n",
       "num_seqs 5271908       "
      ]
     },
     "metadata": {},
     "output_type": "display_data"
    },
    {
     "data": {
      "text/html": [
       "<table class=\"dataframe\">\n",
       "<caption>A tidytable: 200 × 17</caption>\n",
       "<thead>\n",
       "\t<tr><th scope=col>Sample</th><th scope=col>Read1</th><th scope=col>Read2</th><th scope=col>Read</th><th scope=col>num_seqs</th><th scope=col>sum_len</th><th scope=col>min_len</th><th scope=col>avg_len</th><th scope=col>max_len</th><th scope=col>Q1</th><th scope=col>Q2</th><th scope=col>Q3</th><th scope=col>sum_gap</th><th scope=col>N50</th><th scope=col>Q20...</th><th scope=col>Q30...</th><th scope=col>X</th></tr>\n",
       "\t<tr><th scope=col>&lt;chr&gt;</th><th scope=col>&lt;chr&gt;</th><th scope=col>&lt;chr&gt;</th><th scope=col>&lt;int&gt;</th><th scope=col>&lt;int&gt;</th><th scope=col>&lt;int64&gt;</th><th scope=col>&lt;int&gt;</th><th scope=col>&lt;dbl&gt;</th><th scope=col>&lt;int&gt;</th><th scope=col>&lt;dbl&gt;</th><th scope=col>&lt;dbl&gt;</th><th scope=col>&lt;dbl&gt;</th><th scope=col>&lt;int&gt;</th><th scope=col>&lt;int&gt;</th><th scope=col>&lt;dbl&gt;</th><th scope=col>&lt;dbl&gt;</th><th scope=col>&lt;int&gt;</th></tr>\n",
       "</thead>\n",
       "<tbody>\n",
       "\t<tr><td>ERS473029</td><td>/ebio/abt3_projects/databases_no-backup/DeepMAsED/version2/real_data_eval/UHGG/LLMGQC_r100-rep2/final/ERS473029/R1_final.fq.gz</td><td>/ebio/abt3_projects/databases_no-backup/DeepMAsED/version2/real_data_eval/UHGG/LLMGQC_r100-rep2/final/ERS473029/R2_final.fq.gz</td><td>1</td><td>20731697</td><td>2037645346</td><td>80</td><td>98.3</td><td>100</td><td> 99</td><td>100</td><td>100</td><td>0</td><td>100</td><td>97.94</td><td>92.10</td><td> 7</td></tr>\n",
       "\t<tr><td>ERS473062</td><td>/ebio/abt3_projects/databases_no-backup/DeepMAsED/version2/real_data_eval/UHGG/LLMGQC_r100-rep2/final/ERS473062/R1_final.fq.gz</td><td>/ebio/abt3_projects/databases_no-backup/DeepMAsED/version2/real_data_eval/UHGG/LLMGQC_r100-rep2/final/ERS473062/R2_final.fq.gz</td><td>1</td><td>21960612</td><td>2163698964</td><td>80</td><td>98.5</td><td>100</td><td>100</td><td>100</td><td>100</td><td>0</td><td>100</td><td>98.35</td><td>93.79</td><td>91</td></tr>\n",
       "\t<tr><td>⋮</td><td>⋮</td><td>⋮</td><td>⋮</td><td>⋮</td><td>⋮</td><td>⋮</td><td>⋮</td><td>⋮</td><td>⋮</td><td>⋮</td><td>⋮</td><td>⋮</td><td>⋮</td><td>⋮</td><td>⋮</td><td>⋮</td></tr>\n",
       "\t<tr><td>ERS436776</td><td>/ebio/abt3_projects/databases_no-backup/DeepMAsED/version2/real_data_eval/UHGG/LLMGQC_r100-rep2/final/ERS436776/R1_final.fq.gz</td><td>/ebio/abt3_projects/databases_no-backup/DeepMAsED/version2/real_data_eval/UHGG/LLMGQC_r100-rep2/final/ERS436776/R2_final.fq.gz</td><td>1</td><td>24673527</td><td>2310414357</td><td>80</td><td>93.6</td><td>94</td><td>94</td><td>94</td><td>94</td><td>0</td><td>94</td><td>100</td><td>99.16</td><td>125</td></tr>\n",
       "\t<tr><td>ERS436820</td><td>/ebio/abt3_projects/databases_no-backup/DeepMAsED/version2/real_data_eval/UHGG/LLMGQC_r100-rep2/final/ERS436820/R1_final.fq.gz</td><td>/ebio/abt3_projects/databases_no-backup/DeepMAsED/version2/real_data_eval/UHGG/LLMGQC_r100-rep2/final/ERS436820/R2_final.fq.gz</td><td>1</td><td>22918317</td><td>2106149111</td><td>80</td><td>91.9</td><td>93</td><td>90</td><td>93</td><td>93</td><td>0</td><td>93</td><td>100</td><td>98.97</td><td>153</td></tr>\n",
       "</tbody>\n",
       "</table>\n"
      ],
      "text/latex": [
       "A tidytable: 200 × 17\n",
       "\\begin{tabular}{lllllllllllllllll}\n",
       " Sample & Read1 & Read2 & Read & num\\_seqs & sum\\_len & min\\_len & avg\\_len & max\\_len & Q1 & Q2 & Q3 & sum\\_gap & N50 & Q20... & Q30... & X\\\\\n",
       " <chr> & <chr> & <chr> & <int> & <int> & <int64> & <int> & <dbl> & <int> & <dbl> & <dbl> & <dbl> & <int> & <int> & <dbl> & <dbl> & <int>\\\\\n",
       "\\hline\n",
       "\t ERS473029 & /ebio/abt3\\_projects/databases\\_no-backup/DeepMAsED/version2/real\\_data\\_eval/UHGG/LLMGQC\\_r100-rep2/final/ERS473029/R1\\_final.fq.gz & /ebio/abt3\\_projects/databases\\_no-backup/DeepMAsED/version2/real\\_data\\_eval/UHGG/LLMGQC\\_r100-rep2/final/ERS473029/R2\\_final.fq.gz & 1 & 20731697 & 2037645346 & 80 & 98.3 & 100 &  99 & 100 & 100 & 0 & 100 & 97.94 & 92.10 &  7\\\\\n",
       "\t ERS473062 & /ebio/abt3\\_projects/databases\\_no-backup/DeepMAsED/version2/real\\_data\\_eval/UHGG/LLMGQC\\_r100-rep2/final/ERS473062/R1\\_final.fq.gz & /ebio/abt3\\_projects/databases\\_no-backup/DeepMAsED/version2/real\\_data\\_eval/UHGG/LLMGQC\\_r100-rep2/final/ERS473062/R2\\_final.fq.gz & 1 & 21960612 & 2163698964 & 80 & 98.5 & 100 & 100 & 100 & 100 & 0 & 100 & 98.35 & 93.79 & 91\\\\\n",
       "\t ⋮ & ⋮ & ⋮ & ⋮ & ⋮ & ⋮ & ⋮ & ⋮ & ⋮ & ⋮ & ⋮ & ⋮ & ⋮ & ⋮ & ⋮ & ⋮ & ⋮\\\\\n",
       "\t ERS436776 & /ebio/abt3\\_projects/databases\\_no-backup/DeepMAsED/version2/real\\_data\\_eval/UHGG/LLMGQC\\_r100-rep2/final/ERS436776/R1\\_final.fq.gz & /ebio/abt3\\_projects/databases\\_no-backup/DeepMAsED/version2/real\\_data\\_eval/UHGG/LLMGQC\\_r100-rep2/final/ERS436776/R2\\_final.fq.gz & 1 & 24673527 & 2310414357 & 80 & 93.6 & 94 & 94 & 94 & 94 & 0 & 94 & 100 & 99.16 & 125\\\\\n",
       "\t ERS436820 & /ebio/abt3\\_projects/databases\\_no-backup/DeepMAsED/version2/real\\_data\\_eval/UHGG/LLMGQC\\_r100-rep2/final/ERS436820/R1\\_final.fq.gz & /ebio/abt3\\_projects/databases\\_no-backup/DeepMAsED/version2/real\\_data\\_eval/UHGG/LLMGQC\\_r100-rep2/final/ERS436820/R2\\_final.fq.gz & 1 & 22918317 & 2106149111 & 80 & 91.9 & 93 & 90 & 93 & 93 & 0 & 93 & 100 & 98.97 & 153\\\\\n",
       "\\end{tabular}\n"
      ],
      "text/markdown": [
       "\n",
       "A tidytable: 200 × 17\n",
       "\n",
       "| Sample &lt;chr&gt; | Read1 &lt;chr&gt; | Read2 &lt;chr&gt; | Read &lt;int&gt; | num_seqs &lt;int&gt; | sum_len &lt;int64&gt; | min_len &lt;int&gt; | avg_len &lt;dbl&gt; | max_len &lt;int&gt; | Q1 &lt;dbl&gt; | Q2 &lt;dbl&gt; | Q3 &lt;dbl&gt; | sum_gap &lt;int&gt; | N50 &lt;int&gt; | Q20... &lt;dbl&gt; | Q30... &lt;dbl&gt; | X &lt;int&gt; |\n",
       "|---|---|---|---|---|---|---|---|---|---|---|---|---|---|---|---|---|\n",
       "| ERS473029 | /ebio/abt3_projects/databases_no-backup/DeepMAsED/version2/real_data_eval/UHGG/LLMGQC_r100-rep2/final/ERS473029/R1_final.fq.gz | /ebio/abt3_projects/databases_no-backup/DeepMAsED/version2/real_data_eval/UHGG/LLMGQC_r100-rep2/final/ERS473029/R2_final.fq.gz | 1 | 20731697 | 2037645346 | 80 | 98.3 | 100 |  99 | 100 | 100 | 0 | 100 | 97.94 | 92.10 |  7 |\n",
       "| ERS473062 | /ebio/abt3_projects/databases_no-backup/DeepMAsED/version2/real_data_eval/UHGG/LLMGQC_r100-rep2/final/ERS473062/R1_final.fq.gz | /ebio/abt3_projects/databases_no-backup/DeepMAsED/version2/real_data_eval/UHGG/LLMGQC_r100-rep2/final/ERS473062/R2_final.fq.gz | 1 | 21960612 | 2163698964 | 80 | 98.5 | 100 | 100 | 100 | 100 | 0 | 100 | 98.35 | 93.79 | 91 |\n",
       "| ⋮ | ⋮ | ⋮ | ⋮ | ⋮ | ⋮ | ⋮ | ⋮ | ⋮ | ⋮ | ⋮ | ⋮ | ⋮ | ⋮ | ⋮ | ⋮ | ⋮ |\n",
       "| ERS436776 | /ebio/abt3_projects/databases_no-backup/DeepMAsED/version2/real_data_eval/UHGG/LLMGQC_r100-rep2/final/ERS436776/R1_final.fq.gz | /ebio/abt3_projects/databases_no-backup/DeepMAsED/version2/real_data_eval/UHGG/LLMGQC_r100-rep2/final/ERS436776/R2_final.fq.gz | 1 | 24673527 | 2310414357 | 80 | 93.6 | 94 | 94 | 94 | 94 | 0 | 94 | 100 | 99.16 | 125 |\n",
       "| ERS436820 | /ebio/abt3_projects/databases_no-backup/DeepMAsED/version2/real_data_eval/UHGG/LLMGQC_r100-rep2/final/ERS436820/R1_final.fq.gz | /ebio/abt3_projects/databases_no-backup/DeepMAsED/version2/real_data_eval/UHGG/LLMGQC_r100-rep2/final/ERS436820/R2_final.fq.gz | 1 | 22918317 | 2106149111 | 80 | 91.9 | 93 | 90 | 93 | 93 | 0 | 93 | 100 | 98.97 | 153 |\n",
       "\n"
      ],
      "text/plain": [
       "    Sample   \n",
       "1   ERS473029\n",
       "2   ERS473062\n",
       "⋮   ⋮        \n",
       "199 ERS436776\n",
       "200 ERS436820\n",
       "    Read1                                                                                                                         \n",
       "1   /ebio/abt3_projects/databases_no-backup/DeepMAsED/version2/real_data_eval/UHGG/LLMGQC_r100-rep2/final/ERS473029/R1_final.fq.gz\n",
       "2   /ebio/abt3_projects/databases_no-backup/DeepMAsED/version2/real_data_eval/UHGG/LLMGQC_r100-rep2/final/ERS473062/R1_final.fq.gz\n",
       "⋮   ⋮                                                                                                                             \n",
       "199 /ebio/abt3_projects/databases_no-backup/DeepMAsED/version2/real_data_eval/UHGG/LLMGQC_r100-rep2/final/ERS436776/R1_final.fq.gz\n",
       "200 /ebio/abt3_projects/databases_no-backup/DeepMAsED/version2/real_data_eval/UHGG/LLMGQC_r100-rep2/final/ERS436820/R1_final.fq.gz\n",
       "    Read2                                                                                                                         \n",
       "1   /ebio/abt3_projects/databases_no-backup/DeepMAsED/version2/real_data_eval/UHGG/LLMGQC_r100-rep2/final/ERS473029/R2_final.fq.gz\n",
       "2   /ebio/abt3_projects/databases_no-backup/DeepMAsED/version2/real_data_eval/UHGG/LLMGQC_r100-rep2/final/ERS473062/R2_final.fq.gz\n",
       "⋮   ⋮                                                                                                                             \n",
       "199 /ebio/abt3_projects/databases_no-backup/DeepMAsED/version2/real_data_eval/UHGG/LLMGQC_r100-rep2/final/ERS436776/R2_final.fq.gz\n",
       "200 /ebio/abt3_projects/databases_no-backup/DeepMAsED/version2/real_data_eval/UHGG/LLMGQC_r100-rep2/final/ERS436820/R2_final.fq.gz\n",
       "    Read num_seqs sum_len    min_len avg_len max_len Q1  Q2  Q3  sum_gap N50\n",
       "1   1    20731697 2037645346 80      98.3    100      99 100 100 0       100\n",
       "2   1    21960612 2163698964 80      98.5    100     100 100 100 0       100\n",
       "⋮   ⋮    ⋮        ⋮          ⋮       ⋮       ⋮       ⋮   ⋮   ⋮   ⋮       ⋮  \n",
       "199 1    24673527 2310414357 80      93.6    94      94  94  94  0       94 \n",
       "200 1    22918317 2106149111 80      91.9    93      90  93  93  0       93 \n",
       "    Q20... Q30... X  \n",
       "1   97.94  92.10   7 \n",
       "2   98.35  93.79  91 \n",
       "⋮   ⋮      ⋮      ⋮  \n",
       "199 100    99.16  125\n",
       "200 100    98.97  153"
      ]
     },
     "metadata": {},
     "output_type": "display_data"
    }
   ],
   "source": [
    "samps_f = samps %>%\n",
    "    filter.(num_seqs >= 5e6, num_seqs <= 80e6) %>%\n",
    "    mutate.(X = sample(1:length(Read1), length(Read1))) %>%\n",
    "    filter.(X <= n_samps)\n",
    "summary_x(samps_f$num_seqs)\n",
    "samps_f"
   ]
  },
  {
   "cell_type": "code",
   "execution_count": 22,
   "metadata": {
    "ExecuteTime": {
     "end_time": "2022-05-18T13:51:47.753831Z",
     "start_time": "2022-05-18T13:51:47.717Z"
    }
   },
   "outputs": [
    {
     "name": "stdout",
     "output_type": "stream",
     "text": [
      "File written: /ebio/abt3_projects/databases_no-backup/DeepMAsED/version2/real_data_eval/UHGG/LLMGQC_r100-rep2/LLMGA//samples.tsv \n"
     ]
    }
   ],
   "source": [
    "F = file.path(work_dir, 'samples.tsv')\n",
    "write_table(samps_f, F)"
   ]
  },
  {
   "cell_type": "markdown",
   "metadata": {},
   "source": [
    "### Config"
   ]
  },
  {
   "cell_type": "code",
   "execution_count": 24,
   "metadata": {
    "ExecuteTime": {
     "end_time": "2022-05-18T13:52:34.828238Z",
     "start_time": "2022-05-18T13:52:34.766Z"
    }
   },
   "outputs": [
    {
     "name": "stdout",
     "output_type": "stream",
     "text": [
      "#-- I/O --#\n",
      "# table with sample --> read_file information\n",
      "samples_file: /ebio/abt3_projects/databases_no-backup/DeepMAsED/version2/real_data_eval/UHGG/LLMGQC_r100-rep2/LLMGA/samples.tsv\n",
      "\n",
      "# output location\n",
      "output_dir: /ebio/abt3_projects/databases_no-backup/DeepMAsED/version2/real_data_eval/UHGG/LLMGQC_r100-rep2/LLMGA/\n",
      "\n",
      "# temporary file directory (your username will be added automatically)\n",
      "tmp_dir: /ebio/abt3_scratch/\n",
      "\n",
      "#-- reference genomes for metacompass --#\n",
      "metacompass_ref: /ebio/abt3_projects/Anxiety_Twins_Metagenomes/data/metagenome/TUKMZ-BGI250/llmga-find-refs/references/drep/dereplicated_genomes.fna\n",
      "\n",
      "#-- master control --#\n",
      "# which major parts of the pipline to run \n",
      "run_assembly: True\n",
      "run_binning: False\n",
      "run_other_assembly: False\n",
      "\n",
      "#-- software parameters --#\n",
      "# Notes:\n",
      "## see \"Notes on the `config.yaml` file\" in the README\n",
      "params:\n",
      "  # raw reads\n",
      "  ionice: -c 3\n",
      "  reads:\n",
      "    subsample: 40000000\n",
      "    fastqc: \"\"  \n",
      "  # metacompass (per-sample ref-based assembly); skipped if using graphbin2\n",
      "  metacompass:\n",
      "    buildcontig: Skip #--pickref breadth --mincov 3 -l 1000 -n T -b F -u F\n",
      "    pilon: \"\"\n",
      "  # denovo per-sample assembly (unmapped if metacompass used, else all reads)\n",
      "  denovo_assembly:\n",
      "    metaspades: -k auto --only-assembler\n",
      "    megahit: Skip #--min-count 3 --min-contig-len 500 --presets meta-sensitive\n",
      "  # combined, final contigs\n",
      "  final_contigs:\n",
      "    derep_contigs: minidentity=100 minscaf=1000 minoverlappercent=95\n",
      "    contig_rename: \"\"\n",
      "    min_contig_len: 1000            # min contig length retained\n",
      "    metaquast: Skip #--max-ref-number 0   # job run on rick to use internet if `--max-ref-number` > 0\n",
      "  # contig binning\n",
      "  binning:\n",
      "    subsample: 5000000       # how many reads per sample to use for dif-cov binning?\n",
      "    # mapping\n",
      "    map:\n",
      "      num_map_samples: 40    # how many samples to use for dif-cov. binning ('all' = all samples)\n",
      "      minimap2:\n",
      "        index: -k 15 -w 10 -I 12G\n",
      "        map: -N 5 -F 800\n",
      "      samtools_view: -q 0 -F 3584                 # -q = MAPQ cutoff\n",
      "      bam_to_depth: --percentIdentity 97\n",
      "      keep_bam: False                       # keep all BAM files?\n",
      "    # binning\n",
      "    binners:\n",
      "      maxbin2:\n",
      "        Low: -min_contig_length 1500 -markerset 40 -prob_threshold 0.6\n",
      "        Med: -min_contig_length 1500 -markerset 40 -prob_threshold 0.7\n",
      "        High: -min_contig_length 1500 -markerset 40 -prob_threshold 0.8\n",
      "      metabat2:\n",
      "        Low: --minContig 1500 --minCV 0.5 --minCVSum 0.5 --maxP 92\n",
      "             --maxEdges 150 --seed 8394\n",
      "        Med: --minContig 1500 --minCV 0.5 --minCVSum 0.5 --maxP 94\n",
      "             --maxEdges 325 --seed 8394\n",
      "        High: --minContig 1500 --minCV 0.5 --minCVSum 0.5 --maxP 97\n",
      "              --maxEdges 500 --seed 8394\n",
      "        LowNoCov: --minContig 1500 --minCV 0.5 --minCVSum 0.5 --maxP 92\n",
      "                  --maxEdges 150 --seed 8394 NOCOV\n",
      "        MedNoCov: --minContig 1500 --minCV 0.5 --minCVSum 0.5 --maxP 94\n",
      "                  --maxEdges 325 --seed 8394 NOCOV\n",
      "        HighNoCov: --minContig 1500 --minCV 0.5 --minCVSum 0.5 --maxP 97\n",
      "                   --maxEdges 500 --seed 8394 NOCOV\n",
      "      vamb:\n",
      "        Low: -c 10000 -m 1500 -l 24 -n 384 384\n",
      "        Med: -c 10000 -m 1500 -l 32 -n 512 512\n",
      "        High: -c 10000 -m 1500 -l 40 -n 768 768\n",
      "    # selecting final bins (MAGs)\n",
      "    select:\n",
      "      das_tool: --search_engine diamond\n",
      "      genome_table: \"\"\n",
      "  # denovo assembly of other genetic components\n",
      "  denovo_other_assembly:\n",
      "    min_contig_len: 1000\n",
      "    metaplasmidspades: -k auto --only-assembler\n",
      "    metabiosyntheticspades: -k auto --only-assembler\n",
      "  \n",
      "#-- snakemake pipeline --#\n",
      "pipeline:\n",
      "  snakemake_folder: ./\n",
      "  script_folder: bin/scripts/\n",
      "  random_number_seed: 83421\n",
      "  name: LLMGA\n"
     ]
    }
   ],
   "source": [
    "F = file.path(work_dir, 'config_denovo.yaml')\n",
    "cat_file(F)"
   ]
  },
  {
   "cell_type": "markdown",
   "metadata": {},
   "source": [
    "### Run"
   ]
  },
  {
   "cell_type": "markdown",
   "metadata": {},
   "source": [
    "```\n",
    "(snakemake) @ rick:/tmp/global2/nyoungblut/code/dev/ll_pipelines/llmga\n",
    "$ screen -L -S llmga-uhgg ./snakemake_sge.sh /ebio/abt3_projects/databases_no-backup/DeepMAsED/version2/real_data_eval/UHGG/LLMGQC_r100-rep2/LLMGA/config_denovo.yaml 34 -F\n",
    "```"
   ]
  },
  {
   "cell_type": "markdown",
   "metadata": {},
   "source": [
    "## Summary"
   ]
  },
  {
   "cell_type": "code",
   "execution_count": 25,
   "metadata": {
    "ExecuteTime": {
     "end_time": "2022-05-20T11:36:34.912844Z",
     "start_time": "2022-05-20T11:36:34.861Z"
    }
   },
   "outputs": [
    {
     "data": {
      "text/html": [
       "<table class=\"dataframe\">\n",
       "<caption>A data.table: 200 × 16</caption>\n",
       "<thead>\n",
       "\t<tr><th scope=col>Sample</th><th scope=col>file</th><th scope=col>format</th><th scope=col>type</th><th scope=col>num_seqs</th><th scope=col>sum_len</th><th scope=col>min_len</th><th scope=col>avg_len</th><th scope=col>max_len</th><th scope=col>Q1</th><th scope=col>Q2</th><th scope=col>Q3</th><th scope=col>sum_gap</th><th scope=col>N50</th><th scope=col>Q20...</th><th scope=col>Q30...</th></tr>\n",
       "\t<tr><th scope=col>&lt;chr&gt;</th><th scope=col>&lt;chr&gt;</th><th scope=col>&lt;chr&gt;</th><th scope=col>&lt;chr&gt;</th><th scope=col>&lt;int&gt;</th><th scope=col>&lt;int&gt;</th><th scope=col>&lt;int&gt;</th><th scope=col>&lt;dbl&gt;</th><th scope=col>&lt;int&gt;</th><th scope=col>&lt;dbl&gt;</th><th scope=col>&lt;dbl&gt;</th><th scope=col>&lt;dbl&gt;</th><th scope=col>&lt;int&gt;</th><th scope=col>&lt;int&gt;</th><th scope=col>&lt;dbl&gt;</th><th scope=col>&lt;dbl&gt;</th></tr>\n",
       "</thead>\n",
       "<tbody>\n",
       "\t<tr><td>ERS473029</td><td>/ebio/abt3_scratch/nyoungblut/LLMGA_122597181487/all_contigs/ERS473029/contigs_final.fasta</td><td>FASTA</td><td>DNA</td><td>16071</td><td>88853470</td><td>1000</td><td>5528.8</td><td>344501</td><td>1367</td><td>2127</td><td>4258</td><td>0</td><td>14501</td><td>0</td><td>0</td></tr>\n",
       "\t<tr><td>ERS473062</td><td>/ebio/abt3_scratch/nyoungblut/LLMGA_122597181487/all_contigs/ERS473062/contigs_final.fasta</td><td>FASTA</td><td>DNA</td><td> 4009</td><td>28392515</td><td>1000</td><td>7082.2</td><td>395918</td><td>1458</td><td>2422</td><td>5644</td><td>0</td><td>20019</td><td>0</td><td>0</td></tr>\n",
       "\t<tr><td>⋮</td><td>⋮</td><td>⋮</td><td>⋮</td><td>⋮</td><td>⋮</td><td>⋮</td><td>⋮</td><td>⋮</td><td>⋮</td><td>⋮</td><td>⋮</td><td>⋮</td><td>⋮</td><td>⋮</td><td>⋮</td></tr>\n",
       "\t<tr><td>ERS436776</td><td>/ebio/abt3_scratch/nyoungblut/LLMGA_122597181487/all_contigs/ERS436776/contigs_final.fasta</td><td>FASTA</td><td>DNA</td><td>41764</td><td>178915579</td><td>1000</td><td>4284.0</td><td>448251</td><td>1287</td><td>1858.0</td><td>3535</td><td>0</td><td>8514</td><td>0</td><td>0</td></tr>\n",
       "\t<tr><td>ERS436820</td><td>/ebio/abt3_scratch/nyoungblut/LLMGA_122597181487/all_contigs/ERS436820/contigs_final.fasta</td><td>FASTA</td><td>DNA</td><td>35038</td><td>155667795</td><td>1000</td><td>4442.8</td><td>540481</td><td>1309</td><td>1886.5</td><td>3471</td><td>0</td><td>9419</td><td>0</td><td>0</td></tr>\n",
       "</tbody>\n",
       "</table>\n"
      ],
      "text/latex": [
       "A data.table: 200 × 16\n",
       "\\begin{tabular}{llllllllllllllll}\n",
       " Sample & file & format & type & num\\_seqs & sum\\_len & min\\_len & avg\\_len & max\\_len & Q1 & Q2 & Q3 & sum\\_gap & N50 & Q20... & Q30...\\\\\n",
       " <chr> & <chr> & <chr> & <chr> & <int> & <int> & <int> & <dbl> & <int> & <dbl> & <dbl> & <dbl> & <int> & <int> & <dbl> & <dbl>\\\\\n",
       "\\hline\n",
       "\t ERS473029 & /ebio/abt3\\_scratch/nyoungblut/LLMGA\\_122597181487/all\\_contigs/ERS473029/contigs\\_final.fasta & FASTA & DNA & 16071 & 88853470 & 1000 & 5528.8 & 344501 & 1367 & 2127 & 4258 & 0 & 14501 & 0 & 0\\\\\n",
       "\t ERS473062 & /ebio/abt3\\_scratch/nyoungblut/LLMGA\\_122597181487/all\\_contigs/ERS473062/contigs\\_final.fasta & FASTA & DNA &  4009 & 28392515 & 1000 & 7082.2 & 395918 & 1458 & 2422 & 5644 & 0 & 20019 & 0 & 0\\\\\n",
       "\t ⋮ & ⋮ & ⋮ & ⋮ & ⋮ & ⋮ & ⋮ & ⋮ & ⋮ & ⋮ & ⋮ & ⋮ & ⋮ & ⋮ & ⋮ & ⋮\\\\\n",
       "\t ERS436776 & /ebio/abt3\\_scratch/nyoungblut/LLMGA\\_122597181487/all\\_contigs/ERS436776/contigs\\_final.fasta & FASTA & DNA & 41764 & 178915579 & 1000 & 4284.0 & 448251 & 1287 & 1858.0 & 3535 & 0 & 8514 & 0 & 0\\\\\n",
       "\t ERS436820 & /ebio/abt3\\_scratch/nyoungblut/LLMGA\\_122597181487/all\\_contigs/ERS436820/contigs\\_final.fasta & FASTA & DNA & 35038 & 155667795 & 1000 & 4442.8 & 540481 & 1309 & 1886.5 & 3471 & 0 & 9419 & 0 & 0\\\\\n",
       "\\end{tabular}\n"
      ],
      "text/markdown": [
       "\n",
       "A data.table: 200 × 16\n",
       "\n",
       "| Sample &lt;chr&gt; | file &lt;chr&gt; | format &lt;chr&gt; | type &lt;chr&gt; | num_seqs &lt;int&gt; | sum_len &lt;int&gt; | min_len &lt;int&gt; | avg_len &lt;dbl&gt; | max_len &lt;int&gt; | Q1 &lt;dbl&gt; | Q2 &lt;dbl&gt; | Q3 &lt;dbl&gt; | sum_gap &lt;int&gt; | N50 &lt;int&gt; | Q20... &lt;dbl&gt; | Q30... &lt;dbl&gt; |\n",
       "|---|---|---|---|---|---|---|---|---|---|---|---|---|---|---|---|\n",
       "| ERS473029 | /ebio/abt3_scratch/nyoungblut/LLMGA_122597181487/all_contigs/ERS473029/contigs_final.fasta | FASTA | DNA | 16071 | 88853470 | 1000 | 5528.8 | 344501 | 1367 | 2127 | 4258 | 0 | 14501 | 0 | 0 |\n",
       "| ERS473062 | /ebio/abt3_scratch/nyoungblut/LLMGA_122597181487/all_contigs/ERS473062/contigs_final.fasta | FASTA | DNA |  4009 | 28392515 | 1000 | 7082.2 | 395918 | 1458 | 2422 | 5644 | 0 | 20019 | 0 | 0 |\n",
       "| ⋮ | ⋮ | ⋮ | ⋮ | ⋮ | ⋮ | ⋮ | ⋮ | ⋮ | ⋮ | ⋮ | ⋮ | ⋮ | ⋮ | ⋮ | ⋮ |\n",
       "| ERS436776 | /ebio/abt3_scratch/nyoungblut/LLMGA_122597181487/all_contigs/ERS436776/contigs_final.fasta | FASTA | DNA | 41764 | 178915579 | 1000 | 4284.0 | 448251 | 1287 | 1858.0 | 3535 | 0 | 8514 | 0 | 0 |\n",
       "| ERS436820 | /ebio/abt3_scratch/nyoungblut/LLMGA_122597181487/all_contigs/ERS436820/contigs_final.fasta | FASTA | DNA | 35038 | 155667795 | 1000 | 4442.8 | 540481 | 1309 | 1886.5 | 3471 | 0 | 9419 | 0 | 0 |\n",
       "\n"
      ],
      "text/plain": [
       "    Sample   \n",
       "1   ERS473029\n",
       "2   ERS473062\n",
       "⋮   ⋮        \n",
       "199 ERS436776\n",
       "200 ERS436820\n",
       "    file                                                                                      \n",
       "1   /ebio/abt3_scratch/nyoungblut/LLMGA_122597181487/all_contigs/ERS473029/contigs_final.fasta\n",
       "2   /ebio/abt3_scratch/nyoungblut/LLMGA_122597181487/all_contigs/ERS473062/contigs_final.fasta\n",
       "⋮   ⋮                                                                                         \n",
       "199 /ebio/abt3_scratch/nyoungblut/LLMGA_122597181487/all_contigs/ERS436776/contigs_final.fasta\n",
       "200 /ebio/abt3_scratch/nyoungblut/LLMGA_122597181487/all_contigs/ERS436820/contigs_final.fasta\n",
       "    format type num_seqs sum_len   min_len avg_len max_len Q1   Q2     Q3  \n",
       "1   FASTA  DNA  16071    88853470  1000    5528.8  344501  1367 2127   4258\n",
       "2   FASTA  DNA   4009    28392515  1000    7082.2  395918  1458 2422   5644\n",
       "⋮   ⋮      ⋮    ⋮        ⋮         ⋮       ⋮       ⋮       ⋮    ⋮      ⋮   \n",
       "199 FASTA  DNA  41764    178915579 1000    4284.0  448251  1287 1858.0 3535\n",
       "200 FASTA  DNA  35038    155667795 1000    4442.8  540481  1309 1886.5 3471\n",
       "    sum_gap N50   Q20... Q30...\n",
       "1   0       14501 0      0     \n",
       "2   0       20019 0      0     \n",
       "⋮   ⋮       ⋮     ⋮      ⋮     \n",
       "199 0       8514  0      0     \n",
       "200 0       9419  0      0     "
      ]
     },
     "metadata": {},
     "output_type": "display_data"
    }
   ],
   "source": [
    "# stats\n",
    "F = file.path(work_dir, 'final_contigs', 'contig_stats.tsv')\n",
    "stats = Fread(F)\n",
    "stats"
   ]
  },
  {
   "cell_type": "code",
   "execution_count": 26,
   "metadata": {
    "ExecuteTime": {
     "end_time": "2022-05-20T11:36:36.970749Z",
     "start_time": "2022-05-20T11:36:36.773Z"
    }
   },
   "outputs": [
    {
     "data": {
      "text/html": [
       "<table class=\"dataframe\">\n",
       "<caption>A matrix: 1 × 8 of type dbl</caption>\n",
       "<thead>\n",
       "\t<tr><th></th><th scope=col>Min.</th><th scope=col>1st Qu.</th><th scope=col>Median</th><th scope=col>Mean</th><th scope=col>3rd Qu.</th><th scope=col>Max.</th><th scope=col>sd</th><th scope=col>sd_err_of_mean</th></tr>\n",
       "</thead>\n",
       "<tbody>\n",
       "\t<tr><th scope=row>num_seqs</th><td>2297</td><td>18426.25</td><td>27264.5</td><td>29062.1</td><td>38617.25</td><td>65243</td><td>14416.69</td><td>5885.591</td></tr>\n",
       "</tbody>\n",
       "</table>\n"
      ],
      "text/latex": [
       "A matrix: 1 × 8 of type dbl\n",
       "\\begin{tabular}{r|llllllll}\n",
       "  & Min. & 1st Qu. & Median & Mean & 3rd Qu. & Max. & sd & sd\\_err\\_of\\_mean\\\\\n",
       "\\hline\n",
       "\tnum\\_seqs & 2297 & 18426.25 & 27264.5 & 29062.1 & 38617.25 & 65243 & 14416.69 & 5885.591\\\\\n",
       "\\end{tabular}\n"
      ],
      "text/markdown": [
       "\n",
       "A matrix: 1 × 8 of type dbl\n",
       "\n",
       "| <!--/--> | Min. | 1st Qu. | Median | Mean | 3rd Qu. | Max. | sd | sd_err_of_mean |\n",
       "|---|---|---|---|---|---|---|---|---|\n",
       "| num_seqs | 2297 | 18426.25 | 27264.5 | 29062.1 | 38617.25 | 65243 | 14416.69 | 5885.591 |\n",
       "\n"
      ],
      "text/plain": [
       "         Min. 1st Qu.  Median  Mean    3rd Qu.  Max.  sd       sd_err_of_mean\n",
       "num_seqs 2297 18426.25 27264.5 29062.1 38617.25 65243 14416.69 5885.591      "
      ]
     },
     "metadata": {},
     "output_type": "display_data"
    },
    {
     "data": {
      "text/html": [
       "<table class=\"dataframe\">\n",
       "<caption>A matrix: 1 × 8 of type dbl</caption>\n",
       "<thead>\n",
       "\t<tr><th></th><th scope=col>Min.</th><th scope=col>1st Qu.</th><th scope=col>Median</th><th scope=col>Mean</th><th scope=col>3rd Qu.</th><th scope=col>Max.</th><th scope=col>sd</th><th scope=col>sd_err_of_mean</th></tr>\n",
       "</thead>\n",
       "<tbody>\n",
       "\t<tr><th scope=row>min_len</th><td>1000</td><td>1000</td><td>1000</td><td>1000</td><td>1000</td><td>1000</td><td>0</td><td>0</td></tr>\n",
       "</tbody>\n",
       "</table>\n"
      ],
      "text/latex": [
       "A matrix: 1 × 8 of type dbl\n",
       "\\begin{tabular}{r|llllllll}\n",
       "  & Min. & 1st Qu. & Median & Mean & 3rd Qu. & Max. & sd & sd\\_err\\_of\\_mean\\\\\n",
       "\\hline\n",
       "\tmin\\_len & 1000 & 1000 & 1000 & 1000 & 1000 & 1000 & 0 & 0\\\\\n",
       "\\end{tabular}\n"
      ],
      "text/markdown": [
       "\n",
       "A matrix: 1 × 8 of type dbl\n",
       "\n",
       "| <!--/--> | Min. | 1st Qu. | Median | Mean | 3rd Qu. | Max. | sd | sd_err_of_mean |\n",
       "|---|---|---|---|---|---|---|---|---|\n",
       "| min_len | 1000 | 1000 | 1000 | 1000 | 1000 | 1000 | 0 | 0 |\n",
       "\n"
      ],
      "text/plain": [
       "        Min. 1st Qu. Median Mean 3rd Qu. Max. sd sd_err_of_mean\n",
       "min_len 1000 1000    1000   1000 1000    1000 0  0             "
      ]
     },
     "metadata": {},
     "output_type": "display_data"
    },
    {
     "data": {
      "text/html": [
       "<table class=\"dataframe\">\n",
       "<caption>A matrix: 1 × 8 of type dbl</caption>\n",
       "<thead>\n",
       "\t<tr><th></th><th scope=col>Min.</th><th scope=col>1st Qu.</th><th scope=col>Median</th><th scope=col>Mean</th><th scope=col>3rd Qu.</th><th scope=col>Max.</th><th scope=col>sd</th><th scope=col>sd_err_of_mean</th></tr>\n",
       "</thead>\n",
       "<tbody>\n",
       "\t<tr><th scope=row>avg_len</th><td>2293.6</td><td>3636.625</td><td>4284.2</td><td>4550.451</td><td>5263.775</td><td>10095.5</td><td>1336.926</td><td>545.798</td></tr>\n",
       "</tbody>\n",
       "</table>\n"
      ],
      "text/latex": [
       "A matrix: 1 × 8 of type dbl\n",
       "\\begin{tabular}{r|llllllll}\n",
       "  & Min. & 1st Qu. & Median & Mean & 3rd Qu. & Max. & sd & sd\\_err\\_of\\_mean\\\\\n",
       "\\hline\n",
       "\tavg\\_len & 2293.6 & 3636.625 & 4284.2 & 4550.451 & 5263.775 & 10095.5 & 1336.926 & 545.798\\\\\n",
       "\\end{tabular}\n"
      ],
      "text/markdown": [
       "\n",
       "A matrix: 1 × 8 of type dbl\n",
       "\n",
       "| <!--/--> | Min. | 1st Qu. | Median | Mean | 3rd Qu. | Max. | sd | sd_err_of_mean |\n",
       "|---|---|---|---|---|---|---|---|---|\n",
       "| avg_len | 2293.6 | 3636.625 | 4284.2 | 4550.451 | 5263.775 | 10095.5 | 1336.926 | 545.798 |\n",
       "\n"
      ],
      "text/plain": [
       "        Min.   1st Qu.  Median Mean     3rd Qu.  Max.    sd      \n",
       "avg_len 2293.6 3636.625 4284.2 4550.451 5263.775 10095.5 1336.926\n",
       "        sd_err_of_mean\n",
       "avg_len 545.798       "
      ]
     },
     "metadata": {},
     "output_type": "display_data"
    },
    {
     "data": {
      "text/html": [
       "<table class=\"dataframe\">\n",
       "<caption>A matrix: 1 × 8 of type dbl</caption>\n",
       "<thead>\n",
       "\t<tr><th></th><th scope=col>Min.</th><th scope=col>1st Qu.</th><th scope=col>Median</th><th scope=col>Mean</th><th scope=col>3rd Qu.</th><th scope=col>Max.</th><th scope=col>sd</th><th scope=col>sd_err_of_mean</th></tr>\n",
       "</thead>\n",
       "<tbody>\n",
       "\t<tr><th scope=row>max_len</th><td>82262</td><td>301410.5</td><td>432734.5</td><td>448359.3</td><td>570140.2</td><td>1056028</td><td>194394.9</td><td>79361.39</td></tr>\n",
       "</tbody>\n",
       "</table>\n"
      ],
      "text/latex": [
       "A matrix: 1 × 8 of type dbl\n",
       "\\begin{tabular}{r|llllllll}\n",
       "  & Min. & 1st Qu. & Median & Mean & 3rd Qu. & Max. & sd & sd\\_err\\_of\\_mean\\\\\n",
       "\\hline\n",
       "\tmax\\_len & 82262 & 301410.5 & 432734.5 & 448359.3 & 570140.2 & 1056028 & 194394.9 & 79361.39\\\\\n",
       "\\end{tabular}\n"
      ],
      "text/markdown": [
       "\n",
       "A matrix: 1 × 8 of type dbl\n",
       "\n",
       "| <!--/--> | Min. | 1st Qu. | Median | Mean | 3rd Qu. | Max. | sd | sd_err_of_mean |\n",
       "|---|---|---|---|---|---|---|---|---|\n",
       "| max_len | 82262 | 301410.5 | 432734.5 | 448359.3 | 570140.2 | 1056028 | 194394.9 | 79361.39 |\n",
       "\n"
      ],
      "text/plain": [
       "        Min.  1st Qu.  Median   Mean     3rd Qu.  Max.    sd      \n",
       "max_len 82262 301410.5 432734.5 448359.3 570140.2 1056028 194394.9\n",
       "        sd_err_of_mean\n",
       "max_len 79361.39      "
      ]
     },
     "metadata": {},
     "output_type": "display_data"
    },
    {
     "data": {
      "text/html": [
       "<table class=\"dataframe\">\n",
       "<caption>A matrix: 1 × 8 of type dbl</caption>\n",
       "<thead>\n",
       "\t<tr><th></th><th scope=col>Min.</th><th scope=col>1st Qu.</th><th scope=col>Median</th><th scope=col>Mean</th><th scope=col>3rd Qu.</th><th scope=col>Max.</th><th scope=col>sd</th><th scope=col>sd_err_of_mean</th></tr>\n",
       "</thead>\n",
       "<tbody>\n",
       "\t<tr><th scope=row>N50</th><td>2526</td><td>6161.25</td><td>9410</td><td>12225.08</td><td>15648.5</td><td>55281</td><td>8624.692</td><td>3521.016</td></tr>\n",
       "</tbody>\n",
       "</table>\n"
      ],
      "text/latex": [
       "A matrix: 1 × 8 of type dbl\n",
       "\\begin{tabular}{r|llllllll}\n",
       "  & Min. & 1st Qu. & Median & Mean & 3rd Qu. & Max. & sd & sd\\_err\\_of\\_mean\\\\\n",
       "\\hline\n",
       "\tN50 & 2526 & 6161.25 & 9410 & 12225.08 & 15648.5 & 55281 & 8624.692 & 3521.016\\\\\n",
       "\\end{tabular}\n"
      ],
      "text/markdown": [
       "\n",
       "A matrix: 1 × 8 of type dbl\n",
       "\n",
       "| <!--/--> | Min. | 1st Qu. | Median | Mean | 3rd Qu. | Max. | sd | sd_err_of_mean |\n",
       "|---|---|---|---|---|---|---|---|---|\n",
       "| N50 | 2526 | 6161.25 | 9410 | 12225.08 | 15648.5 | 55281 | 8624.692 | 3521.016 |\n",
       "\n"
      ],
      "text/plain": [
       "    Min. 1st Qu. Median Mean     3rd Qu. Max.  sd       sd_err_of_mean\n",
       "N50 2526 6161.25 9410   12225.08 15648.5 55281 8624.692 3521.016      "
      ]
     },
     "metadata": {},
     "output_type": "display_data"
    }
   ],
   "source": [
    "# stats\n",
    "summary_x(stats$num_seqs)\n",
    "summary_x(stats$min_len)\n",
    "summary_x(stats$avg_len)\n",
    "summary_x(stats$max_len)\n",
    "summary_x(stats$N50)"
   ]
  },
  {
   "cell_type": "markdown",
   "metadata": {},
   "source": [
    "# ResMiCo-SM"
   ]
  },
  {
   "cell_type": "code",
   "execution_count": 27,
   "metadata": {
    "ExecuteTime": {
     "end_time": "2022-05-20T11:36:55.327390Z",
     "start_time": "2022-05-20T11:36:55.303Z"
    }
   },
   "outputs": [
    {
     "name": "stdout",
     "output_type": "stream",
     "text": [
      "Created directory: /ebio/abt3_projects/databases_no-backup/DeepMAsED/version2/real_data_eval/UHGG/LLMGQC_r100-rep2/LLMGA//rmc-sm \n"
     ]
    }
   ],
   "source": [
    "work_dir1 = file.path(work_dir, 'rmc-sm')\n",
    "make_dir(work_dir1)"
   ]
  },
  {
   "cell_type": "markdown",
   "metadata": {},
   "source": [
    "### Samples table"
   ]
  },
  {
   "cell_type": "code",
   "execution_count": 28,
   "metadata": {
    "ExecuteTime": {
     "end_time": "2022-05-20T11:37:04.461964Z",
     "start_time": "2022-05-20T11:37:04.424Z"
    }
   },
   "outputs": [
    {
     "data": {
      "text/html": [
       "<table class=\"dataframe\">\n",
       "<caption>A data.table: 200 × 2</caption>\n",
       "<thead>\n",
       "\t<tr><th scope=col>Sample</th><th scope=col>Fasta</th></tr>\n",
       "\t<tr><th scope=col>&lt;chr&gt;</th><th scope=col>&lt;chr&gt;</th></tr>\n",
       "</thead>\n",
       "<tbody>\n",
       "\t<tr><td>ERS473029</td><td>/ebio/abt3_projects/databases_no-backup/DeepMAsED/version2/real_data_eval/UHGG/LLMGQC_r100-rep2/LLMGA/final_contigs/ERS473029/contigs.fna.gz</td></tr>\n",
       "\t<tr><td>ERS473062</td><td>/ebio/abt3_projects/databases_no-backup/DeepMAsED/version2/real_data_eval/UHGG/LLMGQC_r100-rep2/LLMGA/final_contigs/ERS473062/contigs.fna.gz</td></tr>\n",
       "\t<tr><td>⋮</td><td>⋮</td></tr>\n",
       "\t<tr><td>ERS436776</td><td>/ebio/abt3_projects/databases_no-backup/DeepMAsED/version2/real_data_eval/UHGG/LLMGQC_r100-rep2/LLMGA/final_contigs/ERS436776/contigs.fna.gz</td></tr>\n",
       "\t<tr><td>ERS436820</td><td>/ebio/abt3_projects/databases_no-backup/DeepMAsED/version2/real_data_eval/UHGG/LLMGQC_r100-rep2/LLMGA/final_contigs/ERS436820/contigs.fna.gz</td></tr>\n",
       "</tbody>\n",
       "</table>\n"
      ],
      "text/latex": [
       "A data.table: 200 × 2\n",
       "\\begin{tabular}{ll}\n",
       " Sample & Fasta\\\\\n",
       " <chr> & <chr>\\\\\n",
       "\\hline\n",
       "\t ERS473029 & /ebio/abt3\\_projects/databases\\_no-backup/DeepMAsED/version2/real\\_data\\_eval/UHGG/LLMGQC\\_r100-rep2/LLMGA/final\\_contigs/ERS473029/contigs.fna.gz\\\\\n",
       "\t ERS473062 & /ebio/abt3\\_projects/databases\\_no-backup/DeepMAsED/version2/real\\_data\\_eval/UHGG/LLMGQC\\_r100-rep2/LLMGA/final\\_contigs/ERS473062/contigs.fna.gz\\\\\n",
       "\t ⋮ & ⋮\\\\\n",
       "\t ERS436776 & /ebio/abt3\\_projects/databases\\_no-backup/DeepMAsED/version2/real\\_data\\_eval/UHGG/LLMGQC\\_r100-rep2/LLMGA/final\\_contigs/ERS436776/contigs.fna.gz\\\\\n",
       "\t ERS436820 & /ebio/abt3\\_projects/databases\\_no-backup/DeepMAsED/version2/real\\_data\\_eval/UHGG/LLMGQC\\_r100-rep2/LLMGA/final\\_contigs/ERS436820/contigs.fna.gz\\\\\n",
       "\\end{tabular}\n"
      ],
      "text/markdown": [
       "\n",
       "A data.table: 200 × 2\n",
       "\n",
       "| Sample &lt;chr&gt; | Fasta &lt;chr&gt; |\n",
       "|---|---|\n",
       "| ERS473029 | /ebio/abt3_projects/databases_no-backup/DeepMAsED/version2/real_data_eval/UHGG/LLMGQC_r100-rep2/LLMGA/final_contigs/ERS473029/contigs.fna.gz |\n",
       "| ERS473062 | /ebio/abt3_projects/databases_no-backup/DeepMAsED/version2/real_data_eval/UHGG/LLMGQC_r100-rep2/LLMGA/final_contigs/ERS473062/contigs.fna.gz |\n",
       "| ⋮ | ⋮ |\n",
       "| ERS436776 | /ebio/abt3_projects/databases_no-backup/DeepMAsED/version2/real_data_eval/UHGG/LLMGQC_r100-rep2/LLMGA/final_contigs/ERS436776/contigs.fna.gz |\n",
       "| ERS436820 | /ebio/abt3_projects/databases_no-backup/DeepMAsED/version2/real_data_eval/UHGG/LLMGQC_r100-rep2/LLMGA/final_contigs/ERS436820/contigs.fna.gz |\n",
       "\n"
      ],
      "text/plain": [
       "    Sample   \n",
       "1   ERS473029\n",
       "2   ERS473062\n",
       "⋮   ⋮        \n",
       "199 ERS436776\n",
       "200 ERS436820\n",
       "    Fasta                                                                                                                                       \n",
       "1   /ebio/abt3_projects/databases_no-backup/DeepMAsED/version2/real_data_eval/UHGG/LLMGQC_r100-rep2/LLMGA/final_contigs/ERS473029/contigs.fna.gz\n",
       "2   /ebio/abt3_projects/databases_no-backup/DeepMAsED/version2/real_data_eval/UHGG/LLMGQC_r100-rep2/LLMGA/final_contigs/ERS473062/contigs.fna.gz\n",
       "⋮   ⋮                                                                                                                                           \n",
       "199 /ebio/abt3_projects/databases_no-backup/DeepMAsED/version2/real_data_eval/UHGG/LLMGQC_r100-rep2/LLMGA/final_contigs/ERS436776/contigs.fna.gz\n",
       "200 /ebio/abt3_projects/databases_no-backup/DeepMAsED/version2/real_data_eval/UHGG/LLMGQC_r100-rep2/LLMGA/final_contigs/ERS436820/contigs.fna.gz"
      ]
     },
     "metadata": {},
     "output_type": "display_data"
    }
   ],
   "source": [
    "F = file.path(work_dir, 'final_contigs', 'contig_data.tsv')\n",
    "contigs = Fread(F)\n",
    "contigs"
   ]
  },
  {
   "cell_type": "code",
   "execution_count": 29,
   "metadata": {
    "ExecuteTime": {
     "end_time": "2022-05-20T11:37:09.416915Z",
     "start_time": "2022-05-20T11:37:09.368Z"
    }
   },
   "outputs": [
    {
     "name": "stdout",
     "output_type": "stream",
     "text": [
      "intersect(x,y): 200 \n",
      "setdiff(x,y): 0 \n",
      "setdiff(y,x): 0 \n",
      "union(x,y): 200 \n"
     ]
    },
    {
     "data": {
      "text/html": [
       "<table class=\"dataframe\">\n",
       "<caption>A tidytable: 200 × 5</caption>\n",
       "<thead>\n",
       "\t<tr><th scope=col>Sample</th><th scope=col>Fasta</th><th scope=col>Read1</th><th scope=col>Read2</th><th scope=col>Taxon</th></tr>\n",
       "\t<tr><th scope=col>&lt;chr&gt;</th><th scope=col>&lt;chr&gt;</th><th scope=col>&lt;chr&gt;</th><th scope=col>&lt;chr&gt;</th><th scope=col>&lt;chr&gt;</th></tr>\n",
       "</thead>\n",
       "<tbody>\n",
       "\t<tr><td>ERS473029</td><td>/ebio/abt3_projects/databases_no-backup/DeepMAsED/version2/real_data_eval/UHGG/LLMGQC_r100-rep2/LLMGA/final_contigs/ERS473029/contigs.fna.gz</td><td>/ebio/abt3_projects/databases_no-backup/DeepMAsED/version2/real_data_eval/UHGG/LLMGQC_r100-rep2/final/ERS473029/R1_final.fq.gz</td><td>/ebio/abt3_projects/databases_no-backup/DeepMAsED/version2/real_data_eval/UHGG/LLMGQC_r100-rep2/final/ERS473029/R2_final.fq.gz</td><td>ERS473029_contigs</td></tr>\n",
       "\t<tr><td>ERS473062</td><td>/ebio/abt3_projects/databases_no-backup/DeepMAsED/version2/real_data_eval/UHGG/LLMGQC_r100-rep2/LLMGA/final_contigs/ERS473062/contigs.fna.gz</td><td>/ebio/abt3_projects/databases_no-backup/DeepMAsED/version2/real_data_eval/UHGG/LLMGQC_r100-rep2/final/ERS473062/R1_final.fq.gz</td><td>/ebio/abt3_projects/databases_no-backup/DeepMAsED/version2/real_data_eval/UHGG/LLMGQC_r100-rep2/final/ERS473062/R2_final.fq.gz</td><td>ERS473062_contigs</td></tr>\n",
       "\t<tr><td>⋮</td><td>⋮</td><td>⋮</td><td>⋮</td><td>⋮</td></tr>\n",
       "\t<tr><td>ERS436776</td><td>/ebio/abt3_projects/databases_no-backup/DeepMAsED/version2/real_data_eval/UHGG/LLMGQC_r100-rep2/LLMGA/final_contigs/ERS436776/contigs.fna.gz</td><td>/ebio/abt3_projects/databases_no-backup/DeepMAsED/version2/real_data_eval/UHGG/LLMGQC_r100-rep2/final/ERS436776/R1_final.fq.gz</td><td>/ebio/abt3_projects/databases_no-backup/DeepMAsED/version2/real_data_eval/UHGG/LLMGQC_r100-rep2/final/ERS436776/R2_final.fq.gz</td><td>ERS436776_contigs</td></tr>\n",
       "\t<tr><td>ERS436820</td><td>/ebio/abt3_projects/databases_no-backup/DeepMAsED/version2/real_data_eval/UHGG/LLMGQC_r100-rep2/LLMGA/final_contigs/ERS436820/contigs.fna.gz</td><td>/ebio/abt3_projects/databases_no-backup/DeepMAsED/version2/real_data_eval/UHGG/LLMGQC_r100-rep2/final/ERS436820/R1_final.fq.gz</td><td>/ebio/abt3_projects/databases_no-backup/DeepMAsED/version2/real_data_eval/UHGG/LLMGQC_r100-rep2/final/ERS436820/R2_final.fq.gz</td><td>ERS436820_contigs</td></tr>\n",
       "</tbody>\n",
       "</table>\n"
      ],
      "text/latex": [
       "A tidytable: 200 × 5\n",
       "\\begin{tabular}{lllll}\n",
       " Sample & Fasta & Read1 & Read2 & Taxon\\\\\n",
       " <chr> & <chr> & <chr> & <chr> & <chr>\\\\\n",
       "\\hline\n",
       "\t ERS473029 & /ebio/abt3\\_projects/databases\\_no-backup/DeepMAsED/version2/real\\_data\\_eval/UHGG/LLMGQC\\_r100-rep2/LLMGA/final\\_contigs/ERS473029/contigs.fna.gz & /ebio/abt3\\_projects/databases\\_no-backup/DeepMAsED/version2/real\\_data\\_eval/UHGG/LLMGQC\\_r100-rep2/final/ERS473029/R1\\_final.fq.gz & /ebio/abt3\\_projects/databases\\_no-backup/DeepMAsED/version2/real\\_data\\_eval/UHGG/LLMGQC\\_r100-rep2/final/ERS473029/R2\\_final.fq.gz & ERS473029\\_contigs\\\\\n",
       "\t ERS473062 & /ebio/abt3\\_projects/databases\\_no-backup/DeepMAsED/version2/real\\_data\\_eval/UHGG/LLMGQC\\_r100-rep2/LLMGA/final\\_contigs/ERS473062/contigs.fna.gz & /ebio/abt3\\_projects/databases\\_no-backup/DeepMAsED/version2/real\\_data\\_eval/UHGG/LLMGQC\\_r100-rep2/final/ERS473062/R1\\_final.fq.gz & /ebio/abt3\\_projects/databases\\_no-backup/DeepMAsED/version2/real\\_data\\_eval/UHGG/LLMGQC\\_r100-rep2/final/ERS473062/R2\\_final.fq.gz & ERS473062\\_contigs\\\\\n",
       "\t ⋮ & ⋮ & ⋮ & ⋮ & ⋮\\\\\n",
       "\t ERS436776 & /ebio/abt3\\_projects/databases\\_no-backup/DeepMAsED/version2/real\\_data\\_eval/UHGG/LLMGQC\\_r100-rep2/LLMGA/final\\_contigs/ERS436776/contigs.fna.gz & /ebio/abt3\\_projects/databases\\_no-backup/DeepMAsED/version2/real\\_data\\_eval/UHGG/LLMGQC\\_r100-rep2/final/ERS436776/R1\\_final.fq.gz & /ebio/abt3\\_projects/databases\\_no-backup/DeepMAsED/version2/real\\_data\\_eval/UHGG/LLMGQC\\_r100-rep2/final/ERS436776/R2\\_final.fq.gz & ERS436776\\_contigs\\\\\n",
       "\t ERS436820 & /ebio/abt3\\_projects/databases\\_no-backup/DeepMAsED/version2/real\\_data\\_eval/UHGG/LLMGQC\\_r100-rep2/LLMGA/final\\_contigs/ERS436820/contigs.fna.gz & /ebio/abt3\\_projects/databases\\_no-backup/DeepMAsED/version2/real\\_data\\_eval/UHGG/LLMGQC\\_r100-rep2/final/ERS436820/R1\\_final.fq.gz & /ebio/abt3\\_projects/databases\\_no-backup/DeepMAsED/version2/real\\_data\\_eval/UHGG/LLMGQC\\_r100-rep2/final/ERS436820/R2\\_final.fq.gz & ERS436820\\_contigs\\\\\n",
       "\\end{tabular}\n"
      ],
      "text/markdown": [
       "\n",
       "A tidytable: 200 × 5\n",
       "\n",
       "| Sample &lt;chr&gt; | Fasta &lt;chr&gt; | Read1 &lt;chr&gt; | Read2 &lt;chr&gt; | Taxon &lt;chr&gt; |\n",
       "|---|---|---|---|---|\n",
       "| ERS473029 | /ebio/abt3_projects/databases_no-backup/DeepMAsED/version2/real_data_eval/UHGG/LLMGQC_r100-rep2/LLMGA/final_contigs/ERS473029/contigs.fna.gz | /ebio/abt3_projects/databases_no-backup/DeepMAsED/version2/real_data_eval/UHGG/LLMGQC_r100-rep2/final/ERS473029/R1_final.fq.gz | /ebio/abt3_projects/databases_no-backup/DeepMAsED/version2/real_data_eval/UHGG/LLMGQC_r100-rep2/final/ERS473029/R2_final.fq.gz | ERS473029_contigs |\n",
       "| ERS473062 | /ebio/abt3_projects/databases_no-backup/DeepMAsED/version2/real_data_eval/UHGG/LLMGQC_r100-rep2/LLMGA/final_contigs/ERS473062/contigs.fna.gz | /ebio/abt3_projects/databases_no-backup/DeepMAsED/version2/real_data_eval/UHGG/LLMGQC_r100-rep2/final/ERS473062/R1_final.fq.gz | /ebio/abt3_projects/databases_no-backup/DeepMAsED/version2/real_data_eval/UHGG/LLMGQC_r100-rep2/final/ERS473062/R2_final.fq.gz | ERS473062_contigs |\n",
       "| ⋮ | ⋮ | ⋮ | ⋮ | ⋮ |\n",
       "| ERS436776 | /ebio/abt3_projects/databases_no-backup/DeepMAsED/version2/real_data_eval/UHGG/LLMGQC_r100-rep2/LLMGA/final_contigs/ERS436776/contigs.fna.gz | /ebio/abt3_projects/databases_no-backup/DeepMAsED/version2/real_data_eval/UHGG/LLMGQC_r100-rep2/final/ERS436776/R1_final.fq.gz | /ebio/abt3_projects/databases_no-backup/DeepMAsED/version2/real_data_eval/UHGG/LLMGQC_r100-rep2/final/ERS436776/R2_final.fq.gz | ERS436776_contigs |\n",
       "| ERS436820 | /ebio/abt3_projects/databases_no-backup/DeepMAsED/version2/real_data_eval/UHGG/LLMGQC_r100-rep2/LLMGA/final_contigs/ERS436820/contigs.fna.gz | /ebio/abt3_projects/databases_no-backup/DeepMAsED/version2/real_data_eval/UHGG/LLMGQC_r100-rep2/final/ERS436820/R1_final.fq.gz | /ebio/abt3_projects/databases_no-backup/DeepMAsED/version2/real_data_eval/UHGG/LLMGQC_r100-rep2/final/ERS436820/R2_final.fq.gz | ERS436820_contigs |\n",
       "\n"
      ],
      "text/plain": [
       "    Sample   \n",
       "1   ERS473029\n",
       "2   ERS473062\n",
       "⋮   ⋮        \n",
       "199 ERS436776\n",
       "200 ERS436820\n",
       "    Fasta                                                                                                                                       \n",
       "1   /ebio/abt3_projects/databases_no-backup/DeepMAsED/version2/real_data_eval/UHGG/LLMGQC_r100-rep2/LLMGA/final_contigs/ERS473029/contigs.fna.gz\n",
       "2   /ebio/abt3_projects/databases_no-backup/DeepMAsED/version2/real_data_eval/UHGG/LLMGQC_r100-rep2/LLMGA/final_contigs/ERS473062/contigs.fna.gz\n",
       "⋮   ⋮                                                                                                                                           \n",
       "199 /ebio/abt3_projects/databases_no-backup/DeepMAsED/version2/real_data_eval/UHGG/LLMGQC_r100-rep2/LLMGA/final_contigs/ERS436776/contigs.fna.gz\n",
       "200 /ebio/abt3_projects/databases_no-backup/DeepMAsED/version2/real_data_eval/UHGG/LLMGQC_r100-rep2/LLMGA/final_contigs/ERS436820/contigs.fna.gz\n",
       "    Read1                                                                                                                         \n",
       "1   /ebio/abt3_projects/databases_no-backup/DeepMAsED/version2/real_data_eval/UHGG/LLMGQC_r100-rep2/final/ERS473029/R1_final.fq.gz\n",
       "2   /ebio/abt3_projects/databases_no-backup/DeepMAsED/version2/real_data_eval/UHGG/LLMGQC_r100-rep2/final/ERS473062/R1_final.fq.gz\n",
       "⋮   ⋮                                                                                                                             \n",
       "199 /ebio/abt3_projects/databases_no-backup/DeepMAsED/version2/real_data_eval/UHGG/LLMGQC_r100-rep2/final/ERS436776/R1_final.fq.gz\n",
       "200 /ebio/abt3_projects/databases_no-backup/DeepMAsED/version2/real_data_eval/UHGG/LLMGQC_r100-rep2/final/ERS436820/R1_final.fq.gz\n",
       "    Read2                                                                                                                         \n",
       "1   /ebio/abt3_projects/databases_no-backup/DeepMAsED/version2/real_data_eval/UHGG/LLMGQC_r100-rep2/final/ERS473029/R2_final.fq.gz\n",
       "2   /ebio/abt3_projects/databases_no-backup/DeepMAsED/version2/real_data_eval/UHGG/LLMGQC_r100-rep2/final/ERS473062/R2_final.fq.gz\n",
       "⋮   ⋮                                                                                                                             \n",
       "199 /ebio/abt3_projects/databases_no-backup/DeepMAsED/version2/real_data_eval/UHGG/LLMGQC_r100-rep2/final/ERS436776/R2_final.fq.gz\n",
       "200 /ebio/abt3_projects/databases_no-backup/DeepMAsED/version2/real_data_eval/UHGG/LLMGQC_r100-rep2/final/ERS436820/R2_final.fq.gz\n",
       "    Taxon            \n",
       "1   ERS473029_contigs\n",
       "2   ERS473062_contigs\n",
       "⋮   ⋮                \n",
       "199 ERS436776_contigs\n",
       "200 ERS436820_contigs"
      ]
     },
     "metadata": {},
     "output_type": "display_data"
    }
   ],
   "source": [
    "# adding read info\n",
    "overlap(contigs$Sample, samps_f$Sample)\n",
    "contigs = contigs %>%\n",
    "    inner_join.(samps_f %>% select.(Sample, Read1, Read2), c('Sample')) %>%\n",
    "    mutate.(Taxon = paste(Sample, 'contigs', sep='_'))\n",
    "contigs"
   ]
  },
  {
   "cell_type": "code",
   "execution_count": 30,
   "metadata": {
    "ExecuteTime": {
     "end_time": "2022-05-20T11:37:14.288021Z",
     "start_time": "2022-05-20T11:37:14.262Z"
    }
   },
   "outputs": [
    {
     "name": "stdout",
     "output_type": "stream",
     "text": [
      "File written: /ebio/abt3_projects/databases_no-backup/DeepMAsED/version2/real_data_eval/UHGG/LLMGQC_r100-rep2/LLMGA//rmc-sm/samples.tsv \n"
     ]
    }
   ],
   "source": [
    "F = file.path(work_dir1, 'samples.tsv')\n",
    "write_table(contigs, F)"
   ]
  },
  {
   "cell_type": "markdown",
   "metadata": {},
   "source": [
    "### Config"
   ]
  },
  {
   "cell_type": "code",
   "execution_count": 33,
   "metadata": {
    "ExecuteTime": {
     "end_time": "2022-05-20T11:43:23.428265Z",
     "start_time": "2022-05-20T11:43:23.388Z"
    }
   },
   "outputs": [
    {
     "name": "stdout",
     "output_type": "stream",
     "text": [
      "# Input table\n",
      "## Table of genomes\n",
      "genomes_file: /ebio/abt3_projects/databases_no-backup/DeepMAsED/version2/real_data_eval/UHGG/LLMGQC_r100-rep2/LLMGA/rmc-sm/samples.tsv\n",
      "\n",
      "# Output directory\n",
      "output_dir: /ebio/abt3_projects/databases_no-backup/DeepMAsED/version2/real_data_eval/UHGG/LLMGQC_r100-rep2/LLMGA/rmc-sm/\n",
      "\n",
      "# Temporary output directory (/dev/shm/ for shared memory)\n",
      "#tmp_dir: /tmp/\n",
      "tmp_dir: /ebio/abt3_scratch/\n",
      "\n",
      "# Email for notifications (\"Skip\" to skip)\n",
      "email: nyoungblut@tuebingen.mpg.de\n",
      "\n",
      "# software parameters for data simulations\n",
      "## Use \"Skip\" to skip  steps. If no params for rule, use \"\"\n",
      "## `reps:` is the number of replicate simulations\n",
      "## If `keep_reads: True`, then simulated reads are kept\n",
      "params:\n",
      "  ionice: -c 3\n",
      "  # simulating metagenomes\n",
      "  MGSIM:\n",
      "#    genome_download: \"\"\n",
      "    sim_reps: 1\n",
      "    community:\n",
      "      richness:\n",
      "        - 0.5\n",
      "        - 0.8\n",
      "      abundance_distribution:\n",
      "        - \"mean:10,sigma:1\"\n",
      "        - \"mean:10,sigma:2\"\n",
      "      random_seed: 8192\n",
      "      other_sim_params: --group-bias 0\n",
      "    reads: \n",
      "      length:\n",
      "        - 100\n",
      "      depth:\n",
      "        - 1000000\n",
      "      other_sim_params: --art-paired --art-mflen 270 --art-sdev 50 --rndSeed 8712\n",
      "                        --art-qprof1 data/art_error_profiles/HiSeq2500L150R1.txt\n",
      "                        --art-qprof2 data/art_error_profiles/HiSeq2500L150R2.txt\n",
      "      skewer: -n -l 70 -q 25 --format sanger\n",
      "      keep_reads: False\n",
      "  # coverage\n",
      "  nonpareil:\n",
      "    params: -T kmer\n",
      "    summary: 1e9   # this is target seq. depth\n",
      "  # assemblying metagenomes\n",
      "  assemblers:\n",
      "    metaspades: -k auto --only-assembler\n",
      "    megahit: --min-count 1 --min-contig-len 1000\n",
      "  # assembly filtering\n",
      "  contigs:\n",
      "    length_cutoff: 1000       # length in bp \n",
      "  # assessing assembly errors\n",
      "  asmbl_errors:\n",
      "    metaquast: --max-ref-number 0 --min-contig 1000 --min-identity 95 --extensive-mis-size 100\n",
      "               --no-html --no-plots --no-icarus --no-gc --no-snps --no-sv\n",
      "    keep_genomes: False\n",
      "  # mapping reads to contigs\n",
      "  map:\n",
      "    contig_frac:\n",
      "      - 1000\n",
      "    samtools: \"\"\n",
      "    bowtie2: \"\"\n",
      "    max_coverage: 20\n",
      "    keep_bam: True\n",
      "    keep_faidx: True\n",
      "    create_bigwig: False    \n",
      "  # creating ResMiCo feature tables\n",
      "  feature_table:\n",
      "    make: --window 6\n",
      "  # state-of-the-art\n",
      "  SotA:\n",
      "    ALE: Skip\n",
      "    VALET: Skip\n",
      "    metaMIC:\n",
      "      extract: Skip #--mlen 1000\n",
      "      predict: --mlen 1000 --slen 500 -a MEGAHIT\n",
      "  # misc\n",
      "  real_contigs_simulated_reads: False\n",
      "\n",
      "# params just for creating feature tables for non-simulated data\n",
      "nonsim_params:\n",
      "  # max number of reads to use\n",
      "  subsample_reads: Skip\n",
      "\n",
      "# snakemake pipeline\n",
      "pipeline:\n",
      "  snakemake_folder: ./\n",
      "  script_folder: ./bin/scripts/\n",
      "  name: ResMiCo-SM"
     ]
    }
   ],
   "source": [
    "F = file.path(work_dir1, 'config.yaml')\n",
    "cat_file(F)"
   ]
  },
  {
   "cell_type": "markdown",
   "metadata": {},
   "source": [
    "### Run"
   ]
  },
  {
   "cell_type": "markdown",
   "metadata": {},
   "source": [
    "```\n",
    "(snakemake) rick: /ebio/abt3_projects/DeepMAsED/version2/deepmased/ResMiCo-SM\n",
    "screen -L -S rmc-uhgg-r100r2 ./snakemake_sge.sh /ebio/abt3_projects/databases_no-backup/DeepMAsED/version2/real_data_eval/UHGG/LLMGQC_r100-rep2/LLMGA/rmc-sm/config.yaml 30 -F\n",
    "```"
   ]
  },
  {
   "cell_type": "markdown",
   "metadata": {},
   "source": [
    "# sessionInfo"
   ]
  },
  {
   "cell_type": "code",
   "execution_count": 34,
   "metadata": {
    "ExecuteTime": {
     "end_time": "2022-05-20T11:44:21.346699Z",
     "start_time": "2022-05-20T11:44:21.273Z"
    }
   },
   "outputs": [
    {
     "data": {
      "text/plain": [
       "R version 4.1.1 (2021-08-10)\n",
       "Platform: x86_64-conda-linux-gnu (64-bit)\n",
       "Running under: Ubuntu 18.04.6 LTS\n",
       "\n",
       "Matrix products: default\n",
       "BLAS/LAPACK: /tmp/global2/nyoungblut/code/general/conda_envs/general-tidyverse/lib/libopenblasp-r0.3.18.so\n",
       "\n",
       "locale:\n",
       " [1] LC_CTYPE=en_US.UTF-8       LC_NUMERIC=C              \n",
       " [3] LC_TIME=en_US.UTF-8        LC_COLLATE=en_US.UTF-8    \n",
       " [5] LC_MONETARY=en_US.UTF-8    LC_MESSAGES=en_US.UTF-8   \n",
       " [7] LC_PAPER=en_US.UTF-8       LC_NAME=C                 \n",
       " [9] LC_ADDRESS=C               LC_TELEPHONE=C            \n",
       "[11] LC_MEASUREMENT=en_US.UTF-8 LC_IDENTIFICATION=C       \n",
       "\n",
       "attached base packages:\n",
       "[1] stats     graphics  grDevices utils     datasets  methods   base     \n",
       "\n",
       "other attached packages:\n",
       "[1] clustermq_0.8.95.2 LeyLabRMisc_0.2.1  tidytable_0.6.6    data.table_1.14.2 \n",
       "[5] ggplot2_3.3.5      tidyr_1.1.4        dplyr_1.0.7       \n",
       "\n",
       "loaded via a namespace (and not attached):\n",
       " [1] Rcpp_1.0.7       plyr_1.8.6       pillar_1.6.4     compiler_4.1.1  \n",
       " [5] base64enc_0.1-3  tools_4.1.1      bit_4.0.4        digest_0.6.29   \n",
       " [9] uuid_1.0-3       jsonlite_1.7.2   evaluate_0.14    lifecycle_1.0.1 \n",
       "[13] tibble_3.1.6     gtable_0.3.0     pkgconfig_2.0.3  rlang_0.4.12    \n",
       "[17] IRdisplay_1.1    IRkernel_1.3     fastmap_1.1.0    repr_1.1.4      \n",
       "[21] withr_2.4.3      generics_0.1.1   vctrs_0.3.8      bit64_4.0.5     \n",
       "[25] grid_4.1.1       tidyselect_1.1.1 glue_1.6.0       R6_2.5.1        \n",
       "[29] fansi_1.0.0      pbdZMQ_0.3-6     purrr_0.3.4      magrittr_2.0.1  \n",
       "[33] codetools_0.2-18 scales_1.1.1     ellipsis_0.3.2   htmltools_0.5.2 \n",
       "[37] colorspace_2.0-2 utf8_1.2.2       munsell_0.5.0    crayon_1.4.2    "
      ]
     },
     "metadata": {},
     "output_type": "display_data"
    }
   ],
   "source": [
    "sessionInfo()"
   ]
  },
  {
   "cell_type": "code",
   "execution_count": null,
   "metadata": {},
   "outputs": [],
   "source": []
  }
 ],
 "metadata": {
  "kernelspec": {
   "display_name": "R [conda env:general-tidyverse]",
   "language": "R",
   "name": "conda-env-general-tidyverse-r"
  },
  "language_info": {
   "codemirror_mode": "r",
   "file_extension": ".r",
   "mimetype": "text/x-r-source",
   "name": "R",
   "pygments_lexer": "r",
   "version": "4.1.1"
  },
  "notify_time": "30",
  "toc": {
   "base_numbering": 1,
   "nav_menu": {},
   "number_sections": true,
   "sideBar": true,
   "skip_h1_title": false,
   "title_cell": "Table of Contents",
   "title_sidebar": "Contents",
   "toc_cell": true,
   "toc_position": {},
   "toc_section_display": true,
   "toc_window_display": true
  }
 },
 "nbformat": 4,
 "nbformat_minor": 4
}
