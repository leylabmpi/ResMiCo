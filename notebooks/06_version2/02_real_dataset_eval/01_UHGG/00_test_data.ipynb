{
 "cells": [
  {
   "cell_type": "markdown",
   "id": "12fc711e",
   "metadata": {
    "toc": true
   },
   "source": [
    "<h1>Table of Contents<span class=\"tocSkip\"></span></h1>\n",
    "<div class=\"toc\"><ul class=\"toc-item\"><li><span><a href=\"#Var\" data-toc-modified-id=\"Var-1\"><span class=\"toc-item-num\">1&nbsp;&nbsp;</span>Var</a></span></li><li><span><a href=\"#Init\" data-toc-modified-id=\"Init-2\"><span class=\"toc-item-num\">2&nbsp;&nbsp;</span>Init</a></span></li><li><span><a href=\"#Read/write\" data-toc-modified-id=\"Read/write-3\"><span class=\"toc-item-num\">3&nbsp;&nbsp;</span>Read/write</a></span></li><li><span><a href=\"#sessionInfo\" data-toc-modified-id=\"sessionInfo-4\"><span class=\"toc-item-num\">4&nbsp;&nbsp;</span>sessionInfo</a></span></li></ul></div>"
   ]
  },
  {
   "cell_type": "markdown",
   "id": "0e4fa218",
   "metadata": {},
   "source": [
    "# Var"
   ]
  },
  {
   "cell_type": "code",
   "execution_count": 7,
   "id": "24368706",
   "metadata": {
    "ExecuteTime": {
     "end_time": "2021-07-18T13:32:48.184422Z",
     "start_time": "2021-07-18T13:32:48.125Z"
    }
   },
   "outputs": [],
   "source": [
    "work_dir = '/ebio/abt3_projects/databases_no-backup/DeepMAsED/version2/real_data_eval/UHGG/'\n",
    "samps_file = file.path(work_dir, 'LLMGQC_top100', 'genome-samples.tsv')\n",
    "\n",
    "# params\n",
    "threads = 4"
   ]
  },
  {
   "cell_type": "markdown",
   "id": "89353c02",
   "metadata": {},
   "source": [
    "# Init"
   ]
  },
  {
   "cell_type": "code",
   "execution_count": 4,
   "id": "df6c47c3",
   "metadata": {
    "ExecuteTime": {
     "end_time": "2021-07-18T13:32:13.723090Z",
     "start_time": "2021-07-18T13:32:13.663Z"
    }
   },
   "outputs": [],
   "source": [
    "library(dplyr)\n",
    "library(tidyr)\n",
    "library(ggplot2)\n",
    "library(data.table)\n",
    "library(tidytable)\n",
    "library(LeyLabRMisc)"
   ]
  },
  {
   "cell_type": "code",
   "execution_count": 5,
   "id": "8b1de586",
   "metadata": {
    "ExecuteTime": {
     "end_time": "2021-07-18T13:32:14.654920Z",
     "start_time": "2021-07-18T13:32:14.606Z"
    }
   },
   "outputs": [],
   "source": [
    "setDTthreads(threads)\n",
    "df.dims()"
   ]
  },
  {
   "cell_type": "markdown",
   "id": "9a029c9b",
   "metadata": {},
   "source": [
    "# Read/write"
   ]
  },
  {
   "cell_type": "code",
   "execution_count": 19,
   "id": "e8a5a8ec",
   "metadata": {
    "ExecuteTime": {
     "end_time": "2021-07-18T13:37:58.570489Z",
     "start_time": "2021-07-18T13:37:58.470Z"
    }
   },
   "outputs": [
    {
     "name": "stdout",
     "output_type": "stream",
     "text": [
      "File written: /ebio/abt3_projects/DeepMAsED/version2/deepmased/DeepMAsED-SM/tests/data/Samp2-MAG3.tsv \n"
     ]
    }
   ],
   "source": [
    "F = '/ebio/abt3_projects/DeepMAsED/version2/deepmased/DeepMAsED-SM/tests/data/Samp2-MAG3.tsv'\n",
    "Fread(samps_file) %>%\n",
    "    filter.(grepl('ERS', Sample)) %>%\n",
    "    mutate.(X = sample(1:length(Fasta)),\n",
    "            .by=c(Sample)) %>%\n",
    "    filter.(X <= 3) %>%\n",
    "    select.(-X) %>%\n",
    "    arrange.(-Sample) %>%\n",
    "    slice_head.(n=6) %>%\n",
    "    write_table(F)"
   ]
  },
  {
   "cell_type": "markdown",
   "id": "12c33d88",
   "metadata": {},
   "source": [
    "# sessionInfo"
   ]
  },
  {
   "cell_type": "code",
   "execution_count": 20,
   "id": "240316b3",
   "metadata": {
    "ExecuteTime": {
     "end_time": "2021-07-19T18:48:34.814718Z",
     "start_time": "2021-07-19T18:48:34.451Z"
    }
   },
   "outputs": [
    {
     "data": {
      "text/plain": [
       "R version 4.0.3 (2020-10-10)\n",
       "Platform: x86_64-conda-linux-gnu (64-bit)\n",
       "Running under: Ubuntu 18.04.5 LTS\n",
       "\n",
       "Matrix products: default\n",
       "BLAS/LAPACK: /ebio/abt3_projects/Georg_animal_feces/envs/phyloseq2/lib/libopenblasp-r0.3.10.so\n",
       "\n",
       "locale:\n",
       " [1] LC_CTYPE=en_US.UTF-8       LC_NUMERIC=C              \n",
       " [3] LC_TIME=en_US.UTF-8        LC_COLLATE=en_US.UTF-8    \n",
       " [5] LC_MONETARY=en_US.UTF-8    LC_MESSAGES=en_US.UTF-8   \n",
       " [7] LC_PAPER=en_US.UTF-8       LC_NAME=C                 \n",
       " [9] LC_ADDRESS=C               LC_TELEPHONE=C            \n",
       "[11] LC_MEASUREMENT=en_US.UTF-8 LC_IDENTIFICATION=C       \n",
       "\n",
       "attached base packages:\n",
       "[1] stats     graphics  grDevices utils     datasets  methods   base     \n",
       "\n",
       "other attached packages:\n",
       "[1] LeyLabRMisc_0.1.9 tidytable_0.5.8   data.table_1.13.6 ggplot2_3.3.3    \n",
       "[5] tidyr_1.1.2       dplyr_1.0.3      \n",
       "\n",
       "loaded via a namespace (and not attached):\n",
       " [1] magrittr_2.0.1    munsell_0.5.0     tidyselect_1.1.0  uuid_0.1-4       \n",
       " [5] colorspace_2.0-0  R6_2.5.0          rlang_0.4.10      fansi_0.4.2      \n",
       " [9] tools_4.0.3       grid_4.0.3        gtable_0.3.0      cli_2.2.0        \n",
       "[13] withr_2.4.1       htmltools_0.5.1.1 ellipsis_0.3.1    assertthat_0.2.1 \n",
       "[17] digest_0.6.27     tibble_3.0.5      lifecycle_0.2.0   crayon_1.3.4     \n",
       "[21] IRdisplay_1.0     purrr_0.3.4       repr_1.1.3        base64enc_0.1-3  \n",
       "[25] vctrs_0.3.6       IRkernel_1.1.1    glue_1.4.2        evaluate_0.14    \n",
       "[29] pbdZMQ_0.3-4      compiler_4.0.3    pillar_1.4.7      scales_1.1.1     \n",
       "[33] generics_0.1.0    jsonlite_1.7.2    pkgconfig_2.0.3  "
      ]
     },
     "metadata": {},
     "output_type": "display_data"
    }
   ],
   "source": [
    "sessionInfo()"
   ]
  }
 ],
 "metadata": {
  "kernelspec": {
   "display_name": "R [conda env:Georg_animal_feces-phyloseq2]",
   "language": "R",
   "name": "conda-env-Georg_animal_feces-phyloseq2-r"
  },
  "language_info": {
   "codemirror_mode": "r",
   "file_extension": ".r",
   "mimetype": "text/x-r-source",
   "name": "R",
   "pygments_lexer": "r",
   "version": "4.0.3"
  },
  "toc": {
   "base_numbering": 1,
   "nav_menu": {},
   "number_sections": true,
   "sideBar": true,
   "skip_h1_title": false,
   "title_cell": "Table of Contents",
   "title_sidebar": "Contents",
   "toc_cell": true,
   "toc_position": {},
   "toc_section_display": true,
   "toc_window_display": false
  }
 },
 "nbformat": 4,
 "nbformat_minor": 5
}
