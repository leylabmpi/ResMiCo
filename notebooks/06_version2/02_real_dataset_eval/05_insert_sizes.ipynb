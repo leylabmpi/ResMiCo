{
 "cells": [
  {
   "cell_type": "markdown",
   "metadata": {
    "toc": true
   },
   "source": [
    "<h1>Table of Contents<span class=\"tocSkip\"></span></h1>\n",
    "<div class=\"toc\"><ul class=\"toc-item\"><li><span><a href=\"#Goal\" data-toc-modified-id=\"Goal-1\"><span class=\"toc-item-num\">1&nbsp;&nbsp;</span>Goal</a></span></li><li><span><a href=\"#Var\" data-toc-modified-id=\"Var-2\"><span class=\"toc-item-num\">2&nbsp;&nbsp;</span>Var</a></span></li><li><span><a href=\"#Init\" data-toc-modified-id=\"Init-3\"><span class=\"toc-item-num\">3&nbsp;&nbsp;</span>Init</a></span></li><li><span><a href=\"#Load\" data-toc-modified-id=\"Load-4\"><span class=\"toc-item-num\">4&nbsp;&nbsp;</span>Load</a></span></li><li><span><a href=\"#Insert-size-info\" data-toc-modified-id=\"Insert-size-info-5\"><span class=\"toc-item-num\">5&nbsp;&nbsp;</span>Insert size info</a></span><ul class=\"toc-item\"><li><ul class=\"toc-item\"><li><span><a href=\"#uhgg_r100\" data-toc-modified-id=\"uhgg_r100-5.0.1\"><span class=\"toc-item-num\">5.0.1&nbsp;&nbsp;</span>uhgg_r100</a></span></li><li><span><a href=\"#anx_n30r1\" data-toc-modified-id=\"anx_n30r1-5.0.2\"><span class=\"toc-item-num\">5.0.2&nbsp;&nbsp;</span>anx_n30r1</a></span></li><li><span><a href=\"#animal_n30r1\" data-toc-modified-id=\"animal_n30r1-5.0.3\"><span class=\"toc-item-num\">5.0.3&nbsp;&nbsp;</span>animal_n30r1</a></span></li></ul></li></ul></li><li><span><a href=\"#sessionInfo\" data-toc-modified-id=\"sessionInfo-6\"><span class=\"toc-item-num\">6&nbsp;&nbsp;</span>sessionInfo</a></span></li></ul></div>"
   ]
  },
  {
   "cell_type": "markdown",
   "metadata": {},
   "source": [
    "# Goal\n",
    "\n",
    "* Summarize mean & stdev insert sizes for real data\n",
    "* Basing insert sizes off of feature tables"
   ]
  },
  {
   "cell_type": "markdown",
   "metadata": {},
   "source": [
    "# Var"
   ]
  },
  {
   "cell_type": "code",
   "execution_count": 9,
   "metadata": {
    "ExecuteTime": {
     "end_time": "2022-02-15T19:38:28.822821Z",
     "start_time": "2022-02-15T19:38:28.733Z"
    }
   },
   "outputs": [],
   "source": [
    "uhgg_r100_file = '/ebio/abt3_projects/databases_no-backup/DeepMAsED/version2/real_data_eval/UHGG/LLMGQC_r100/LLMGA/rmc-sm/features/feature_files.tsv'\n",
    "anx_n30r1_file = '/ebio/abt3_projects/databases_no-backup/DeepMAsED/version2/real_data_eval/anx/n30r1/features/feature_files.tsv'\n",
    "#anx_n30r2_file = '/ebio/abt3_projects/databases_no-backup/DeepMAsED/version2/real_data_eval/anx/n30r2/features/feature_files.tsv'\n",
    "animal_n30r1_file = '/ebio/abt3_projects/databases_no-backup/DeepMAsED/version2/real_data_eval/animal-gut/n30r1/features/feature_files.tsv'\n"
   ]
  },
  {
   "cell_type": "markdown",
   "metadata": {},
   "source": [
    "# Init"
   ]
  },
  {
   "cell_type": "code",
   "execution_count": 10,
   "metadata": {
    "ExecuteTime": {
     "end_time": "2022-02-15T19:38:29.073397Z",
     "start_time": "2022-02-15T19:38:28.979Z"
    }
   },
   "outputs": [],
   "source": [
    "library(dplyr)\n",
    "library(tidyr)\n",
    "library(ggplot2)\n",
    "library(data.table)\n",
    "library(tidytable)\n",
    "library(LeyLabRMisc)\n",
    "Init()"
   ]
  },
  {
   "cell_type": "code",
   "execution_count": 11,
   "metadata": {
    "ExecuteTime": {
     "end_time": "2022-02-15T19:38:29.193606Z",
     "start_time": "2022-02-15T19:38:29.112Z"
    }
   },
   "outputs": [],
   "source": [
    "clustermq_setup(scheduler = 'multicore')"
   ]
  },
  {
   "cell_type": "markdown",
   "metadata": {},
   "source": [
    "# Load"
   ]
  },
  {
   "cell_type": "code",
   "execution_count": 12,
   "metadata": {
    "ExecuteTime": {
     "end_time": "2022-02-15T19:38:30.264551Z",
     "start_time": "2022-02-15T19:38:30.130Z"
    }
   },
   "outputs": [
    {
     "data": {
      "text/html": [
       "<table class=\"dataframe\">\n",
       "<caption>A tidytable: 100 × 7</caption>\n",
       "<thead>\n",
       "\t<tr><th scope=col>richness</th><th scope=col>abundance_distribution</th><th scope=col>rep</th><th scope=col>read_length</th><th scope=col>read_depth</th><th scope=col>assembler</th><th scope=col>feature_file</th></tr>\n",
       "\t<tr><th scope=col>&lt;chr&gt;</th><th scope=col>&lt;chr&gt;</th><th scope=col>&lt;lgl&gt;</th><th scope=col>&lt;lgl&gt;</th><th scope=col>&lt;lgl&gt;</th><th scope=col>&lt;lgl&gt;</th><th scope=col>&lt;chr&gt;</th></tr>\n",
       "</thead>\n",
       "<tbody>\n",
       "\t<tr><td>ERS473032</td><td>ERS473032_contigs</td><td>NA</td><td>NA</td><td>NA</td><td>NA</td><td>/ebio/abt3_projects/databases_no-backup/DeepMAsED/version2/real_data_eval/UHGG/LLMGQC_r100/LLMGA/rmc-sm/features/ERS473032/ERS473032_contigs/NA/NA/NA/NA/features.tsv.gz</td></tr>\n",
       "\t<tr><td>ERS473044</td><td>ERS473044_contigs</td><td>NA</td><td>NA</td><td>NA</td><td>NA</td><td>/ebio/abt3_projects/databases_no-backup/DeepMAsED/version2/real_data_eval/UHGG/LLMGQC_r100/LLMGA/rmc-sm/features/ERS473044/ERS473044_contigs/NA/NA/NA/NA/features.tsv.gz</td></tr>\n",
       "\t<tr><td>⋮</td><td>⋮</td><td>⋮</td><td>⋮</td><td>⋮</td><td>⋮</td><td>⋮</td></tr>\n",
       "\t<tr><td>ERS436684</td><td>ERS436684_contigs</td><td>NA</td><td>NA</td><td>NA</td><td>NA</td><td>/ebio/abt3_projects/databases_no-backup/DeepMAsED/version2/real_data_eval/UHGG/LLMGQC_r100/LLMGA/rmc-sm/features/ERS436684/ERS436684_contigs/NA/NA/NA/NA/features.tsv.gz</td></tr>\n",
       "\t<tr><td>ERS436831</td><td>ERS436831_contigs</td><td>NA</td><td>NA</td><td>NA</td><td>NA</td><td>/ebio/abt3_projects/databases_no-backup/DeepMAsED/version2/real_data_eval/UHGG/LLMGQC_r100/LLMGA/rmc-sm/features/ERS436831/ERS436831_contigs/NA/NA/NA/NA/features.tsv.gz</td></tr>\n",
       "</tbody>\n",
       "</table>\n"
      ],
      "text/latex": [
       "A tidytable: 100 × 7\n",
       "\\begin{tabular}{lllllll}\n",
       " richness & abundance\\_distribution & rep & read\\_length & read\\_depth & assembler & feature\\_file\\\\\n",
       " <chr> & <chr> & <lgl> & <lgl> & <lgl> & <lgl> & <chr>\\\\\n",
       "\\hline\n",
       "\t ERS473032 & ERS473032\\_contigs & NA & NA & NA & NA & /ebio/abt3\\_projects/databases\\_no-backup/DeepMAsED/version2/real\\_data\\_eval/UHGG/LLMGQC\\_r100/LLMGA/rmc-sm/features/ERS473032/ERS473032\\_contigs/NA/NA/NA/NA/features.tsv.gz\\\\\n",
       "\t ERS473044 & ERS473044\\_contigs & NA & NA & NA & NA & /ebio/abt3\\_projects/databases\\_no-backup/DeepMAsED/version2/real\\_data\\_eval/UHGG/LLMGQC\\_r100/LLMGA/rmc-sm/features/ERS473044/ERS473044\\_contigs/NA/NA/NA/NA/features.tsv.gz\\\\\n",
       "\t ⋮ & ⋮ & ⋮ & ⋮ & ⋮ & ⋮ & ⋮\\\\\n",
       "\t ERS436684 & ERS436684\\_contigs & NA & NA & NA & NA & /ebio/abt3\\_projects/databases\\_no-backup/DeepMAsED/version2/real\\_data\\_eval/UHGG/LLMGQC\\_r100/LLMGA/rmc-sm/features/ERS436684/ERS436684\\_contigs/NA/NA/NA/NA/features.tsv.gz\\\\\n",
       "\t ERS436831 & ERS436831\\_contigs & NA & NA & NA & NA & /ebio/abt3\\_projects/databases\\_no-backup/DeepMAsED/version2/real\\_data\\_eval/UHGG/LLMGQC\\_r100/LLMGA/rmc-sm/features/ERS436831/ERS436831\\_contigs/NA/NA/NA/NA/features.tsv.gz\\\\\n",
       "\\end{tabular}\n"
      ],
      "text/markdown": [
       "\n",
       "A tidytable: 100 × 7\n",
       "\n",
       "| richness &lt;chr&gt; | abundance_distribution &lt;chr&gt; | rep &lt;lgl&gt; | read_length &lt;lgl&gt; | read_depth &lt;lgl&gt; | assembler &lt;lgl&gt; | feature_file &lt;chr&gt; |\n",
       "|---|---|---|---|---|---|---|\n",
       "| ERS473032 | ERS473032_contigs | NA | NA | NA | NA | /ebio/abt3_projects/databases_no-backup/DeepMAsED/version2/real_data_eval/UHGG/LLMGQC_r100/LLMGA/rmc-sm/features/ERS473032/ERS473032_contigs/NA/NA/NA/NA/features.tsv.gz |\n",
       "| ERS473044 | ERS473044_contigs | NA | NA | NA | NA | /ebio/abt3_projects/databases_no-backup/DeepMAsED/version2/real_data_eval/UHGG/LLMGQC_r100/LLMGA/rmc-sm/features/ERS473044/ERS473044_contigs/NA/NA/NA/NA/features.tsv.gz |\n",
       "| ⋮ | ⋮ | ⋮ | ⋮ | ⋮ | ⋮ | ⋮ |\n",
       "| ERS436684 | ERS436684_contigs | NA | NA | NA | NA | /ebio/abt3_projects/databases_no-backup/DeepMAsED/version2/real_data_eval/UHGG/LLMGQC_r100/LLMGA/rmc-sm/features/ERS436684/ERS436684_contigs/NA/NA/NA/NA/features.tsv.gz |\n",
       "| ERS436831 | ERS436831_contigs | NA | NA | NA | NA | /ebio/abt3_projects/databases_no-backup/DeepMAsED/version2/real_data_eval/UHGG/LLMGQC_r100/LLMGA/rmc-sm/features/ERS436831/ERS436831_contigs/NA/NA/NA/NA/features.tsv.gz |\n",
       "\n"
      ],
      "text/plain": [
       "    richness  abundance_distribution rep read_length read_depth assembler\n",
       "1   ERS473032 ERS473032_contigs      NA  NA          NA         NA       \n",
       "2   ERS473044 ERS473044_contigs      NA  NA          NA         NA       \n",
       "⋮   ⋮         ⋮                      ⋮   ⋮           ⋮          ⋮        \n",
       "99  ERS436684 ERS436684_contigs      NA  NA          NA         NA       \n",
       "100 ERS436831 ERS436831_contigs      NA  NA          NA         NA       \n",
       "    feature_file                                                                                                                                                            \n",
       "1   /ebio/abt3_projects/databases_no-backup/DeepMAsED/version2/real_data_eval/UHGG/LLMGQC_r100/LLMGA/rmc-sm/features/ERS473032/ERS473032_contigs/NA/NA/NA/NA/features.tsv.gz\n",
       "2   /ebio/abt3_projects/databases_no-backup/DeepMAsED/version2/real_data_eval/UHGG/LLMGQC_r100/LLMGA/rmc-sm/features/ERS473044/ERS473044_contigs/NA/NA/NA/NA/features.tsv.gz\n",
       "⋮   ⋮                                                                                                                                                                       \n",
       "99  /ebio/abt3_projects/databases_no-backup/DeepMAsED/version2/real_data_eval/UHGG/LLMGQC_r100/LLMGA/rmc-sm/features/ERS436684/ERS436684_contigs/NA/NA/NA/NA/features.tsv.gz\n",
       "100 /ebio/abt3_projects/databases_no-backup/DeepMAsED/version2/real_data_eval/UHGG/LLMGQC_r100/LLMGA/rmc-sm/features/ERS436831/ERS436831_contigs/NA/NA/NA/NA/features.tsv.gz"
      ]
     },
     "metadata": {},
     "output_type": "display_data"
    }
   ],
   "source": [
    "D = dirname(uhgg_r100_file)\n",
    "uhgg_r100 = Fread(uhgg_r100_file) %>%\n",
    "    select.(-MGSIM_reads_params) %>%\n",
    "    mutate.(feature_file = paste(D, feature_file, sep='/'))\n",
    "uhgg_r100"
   ]
  },
  {
   "cell_type": "code",
   "execution_count": 15,
   "metadata": {
    "ExecuteTime": {
     "end_time": "2022-02-15T19:38:39.950196Z",
     "start_time": "2022-02-15T19:38:39.849Z"
    }
   },
   "outputs": [
    {
     "data": {
      "text/html": [
       "<table class=\"dataframe\">\n",
       "<caption>A tidytable: 30 × 7</caption>\n",
       "<thead>\n",
       "\t<tr><th scope=col>richness</th><th scope=col>abundance_distribution</th><th scope=col>rep</th><th scope=col>read_length</th><th scope=col>read_depth</th><th scope=col>assembler</th><th scope=col>feature_file</th></tr>\n",
       "\t<tr><th scope=col>&lt;chr&gt;</th><th scope=col>&lt;chr&gt;</th><th scope=col>&lt;lgl&gt;</th><th scope=col>&lt;lgl&gt;</th><th scope=col>&lt;lgl&gt;</th><th scope=col>&lt;lgl&gt;</th><th scope=col>&lt;chr&gt;</th></tr>\n",
       "</thead>\n",
       "<tbody>\n",
       "\t<tr><td>AM867</td><td>AM867</td><td>NA</td><td>NA</td><td>NA</td><td>NA</td><td>/ebio/abt3_projects/databases_no-backup/DeepMAsED/version2/real_data_eval/anx/n30r1/features/AM867/AM867/NA/NA/NA/NA/features.tsv.gz</td></tr>\n",
       "\t<tr><td>AP913</td><td>AP913</td><td>NA</td><td>NA</td><td>NA</td><td>NA</td><td>/ebio/abt3_projects/databases_no-backup/DeepMAsED/version2/real_data_eval/anx/n30r1/features/AP913/AP913/NA/NA/NA/NA/features.tsv.gz</td></tr>\n",
       "\t<tr><td>⋮</td><td>⋮</td><td>⋮</td><td>⋮</td><td>⋮</td><td>⋮</td><td>⋮</td></tr>\n",
       "\t<tr><td>AV055</td><td>AV055</td><td>NA</td><td>NA</td><td>NA</td><td>NA</td><td>/ebio/abt3_projects/databases_no-backup/DeepMAsED/version2/real_data_eval/anx/n30r1/features/AV055/AV055/NA/NA/NA/NA/features.tsv.gz</td></tr>\n",
       "\t<tr><td>AY550</td><td>AY550</td><td>NA</td><td>NA</td><td>NA</td><td>NA</td><td>/ebio/abt3_projects/databases_no-backup/DeepMAsED/version2/real_data_eval/anx/n30r1/features/AY550/AY550/NA/NA/NA/NA/features.tsv.gz</td></tr>\n",
       "</tbody>\n",
       "</table>\n"
      ],
      "text/latex": [
       "A tidytable: 30 × 7\n",
       "\\begin{tabular}{lllllll}\n",
       " richness & abundance\\_distribution & rep & read\\_length & read\\_depth & assembler & feature\\_file\\\\\n",
       " <chr> & <chr> & <lgl> & <lgl> & <lgl> & <lgl> & <chr>\\\\\n",
       "\\hline\n",
       "\t AM867 & AM867 & NA & NA & NA & NA & /ebio/abt3\\_projects/databases\\_no-backup/DeepMAsED/version2/real\\_data\\_eval/anx/n30r1/features/AM867/AM867/NA/NA/NA/NA/features.tsv.gz\\\\\n",
       "\t AP913 & AP913 & NA & NA & NA & NA & /ebio/abt3\\_projects/databases\\_no-backup/DeepMAsED/version2/real\\_data\\_eval/anx/n30r1/features/AP913/AP913/NA/NA/NA/NA/features.tsv.gz\\\\\n",
       "\t ⋮ & ⋮ & ⋮ & ⋮ & ⋮ & ⋮ & ⋮\\\\\n",
       "\t AV055 & AV055 & NA & NA & NA & NA & /ebio/abt3\\_projects/databases\\_no-backup/DeepMAsED/version2/real\\_data\\_eval/anx/n30r1/features/AV055/AV055/NA/NA/NA/NA/features.tsv.gz\\\\\n",
       "\t AY550 & AY550 & NA & NA & NA & NA & /ebio/abt3\\_projects/databases\\_no-backup/DeepMAsED/version2/real\\_data\\_eval/anx/n30r1/features/AY550/AY550/NA/NA/NA/NA/features.tsv.gz\\\\\n",
       "\\end{tabular}\n"
      ],
      "text/markdown": [
       "\n",
       "A tidytable: 30 × 7\n",
       "\n",
       "| richness &lt;chr&gt; | abundance_distribution &lt;chr&gt; | rep &lt;lgl&gt; | read_length &lt;lgl&gt; | read_depth &lt;lgl&gt; | assembler &lt;lgl&gt; | feature_file &lt;chr&gt; |\n",
       "|---|---|---|---|---|---|---|\n",
       "| AM867 | AM867 | NA | NA | NA | NA | /ebio/abt3_projects/databases_no-backup/DeepMAsED/version2/real_data_eval/anx/n30r1/features/AM867/AM867/NA/NA/NA/NA/features.tsv.gz |\n",
       "| AP913 | AP913 | NA | NA | NA | NA | /ebio/abt3_projects/databases_no-backup/DeepMAsED/version2/real_data_eval/anx/n30r1/features/AP913/AP913/NA/NA/NA/NA/features.tsv.gz |\n",
       "| ⋮ | ⋮ | ⋮ | ⋮ | ⋮ | ⋮ | ⋮ |\n",
       "| AV055 | AV055 | NA | NA | NA | NA | /ebio/abt3_projects/databases_no-backup/DeepMAsED/version2/real_data_eval/anx/n30r1/features/AV055/AV055/NA/NA/NA/NA/features.tsv.gz |\n",
       "| AY550 | AY550 | NA | NA | NA | NA | /ebio/abt3_projects/databases_no-backup/DeepMAsED/version2/real_data_eval/anx/n30r1/features/AY550/AY550/NA/NA/NA/NA/features.tsv.gz |\n",
       "\n"
      ],
      "text/plain": [
       "   richness abundance_distribution rep read_length read_depth assembler\n",
       "1  AM867    AM867                  NA  NA          NA         NA       \n",
       "2  AP913    AP913                  NA  NA          NA         NA       \n",
       "⋮  ⋮        ⋮                      ⋮   ⋮           ⋮          ⋮        \n",
       "29 AV055    AV055                  NA  NA          NA         NA       \n",
       "30 AY550    AY550                  NA  NA          NA         NA       \n",
       "   feature_file                                                                                                                        \n",
       "1  /ebio/abt3_projects/databases_no-backup/DeepMAsED/version2/real_data_eval/anx/n30r1/features/AM867/AM867/NA/NA/NA/NA/features.tsv.gz\n",
       "2  /ebio/abt3_projects/databases_no-backup/DeepMAsED/version2/real_data_eval/anx/n30r1/features/AP913/AP913/NA/NA/NA/NA/features.tsv.gz\n",
       "⋮  ⋮                                                                                                                                   \n",
       "29 /ebio/abt3_projects/databases_no-backup/DeepMAsED/version2/real_data_eval/anx/n30r1/features/AV055/AV055/NA/NA/NA/NA/features.tsv.gz\n",
       "30 /ebio/abt3_projects/databases_no-backup/DeepMAsED/version2/real_data_eval/anx/n30r1/features/AY550/AY550/NA/NA/NA/NA/features.tsv.gz"
      ]
     },
     "metadata": {},
     "output_type": "display_data"
    }
   ],
   "source": [
    "D = dirname(anx_n30r1_file)\n",
    "anx_n30r1 = Fread(anx_n30r1_file) %>%\n",
    "    select.(-MGSIM_reads_params) %>%\n",
    "    mutate.(feature_file = paste(D, feature_file, sep='/'))\n",
    "anx_n30r1"
   ]
  },
  {
   "cell_type": "code",
   "execution_count": 16,
   "metadata": {
    "ExecuteTime": {
     "end_time": "2022-02-15T19:38:41.831499Z",
     "start_time": "2022-02-15T19:38:41.723Z"
    }
   },
   "outputs": [
    {
     "data": {
      "text/html": [
       "<table class=\"dataframe\">\n",
       "<caption>A tidytable: 30 × 7</caption>\n",
       "<thead>\n",
       "\t<tr><th scope=col>richness</th><th scope=col>abundance_distribution</th><th scope=col>rep</th><th scope=col>read_length</th><th scope=col>read_depth</th><th scope=col>assembler</th><th scope=col>feature_file</th></tr>\n",
       "\t<tr><th scope=col>&lt;chr&gt;</th><th scope=col>&lt;chr&gt;</th><th scope=col>&lt;lgl&gt;</th><th scope=col>&lt;lgl&gt;</th><th scope=col>&lt;lgl&gt;</th><th scope=col>&lt;lgl&gt;</th><th scope=col>&lt;chr&gt;</th></tr>\n",
       "</thead>\n",
       "<tbody>\n",
       "\t<tr><td>X101_Horse  </td><td>X101_Horse  </td><td>NA</td><td>NA</td><td>NA</td><td>NA</td><td>/ebio/abt3_projects/databases_no-backup/DeepMAsED/version2/real_data_eval/animal-gut/n30r1/features/X101_Horse/X101_Horse/NA/NA/NA/NA/features.tsv.gz    </td></tr>\n",
       "\t<tr><td>X110_Noctule</td><td>X110_Noctule</td><td>NA</td><td>NA</td><td>NA</td><td>NA</td><td>/ebio/abt3_projects/databases_no-backup/DeepMAsED/version2/real_data_eval/animal-gut/n30r1/features/X110_Noctule/X110_Noctule/NA/NA/NA/NA/features.tsv.gz</td></tr>\n",
       "\t<tr><td>⋮</td><td>⋮</td><td>⋮</td><td>⋮</td><td>⋮</td><td>⋮</td><td>⋮</td></tr>\n",
       "\t<tr><td>X393_European_Rabbit</td><td>X393_European_Rabbit</td><td>NA</td><td>NA</td><td>NA</td><td>NA</td><td>/ebio/abt3_projects/databases_no-backup/DeepMAsED/version2/real_data_eval/animal-gut/n30r1/features/X393_European_Rabbit/X393_European_Rabbit/NA/NA/NA/NA/features.tsv.gz</td></tr>\n",
       "\t<tr><td>X430_Giraffe        </td><td>X430_Giraffe        </td><td>NA</td><td>NA</td><td>NA</td><td>NA</td><td>/ebio/abt3_projects/databases_no-backup/DeepMAsED/version2/real_data_eval/animal-gut/n30r1/features/X430_Giraffe/X430_Giraffe/NA/NA/NA/NA/features.tsv.gz                </td></tr>\n",
       "</tbody>\n",
       "</table>\n"
      ],
      "text/latex": [
       "A tidytable: 30 × 7\n",
       "\\begin{tabular}{lllllll}\n",
       " richness & abundance\\_distribution & rep & read\\_length & read\\_depth & assembler & feature\\_file\\\\\n",
       " <chr> & <chr> & <lgl> & <lgl> & <lgl> & <lgl> & <chr>\\\\\n",
       "\\hline\n",
       "\t X101\\_Horse   & X101\\_Horse   & NA & NA & NA & NA & /ebio/abt3\\_projects/databases\\_no-backup/DeepMAsED/version2/real\\_data\\_eval/animal-gut/n30r1/features/X101\\_Horse/X101\\_Horse/NA/NA/NA/NA/features.tsv.gz    \\\\\n",
       "\t X110\\_Noctule & X110\\_Noctule & NA & NA & NA & NA & /ebio/abt3\\_projects/databases\\_no-backup/DeepMAsED/version2/real\\_data\\_eval/animal-gut/n30r1/features/X110\\_Noctule/X110\\_Noctule/NA/NA/NA/NA/features.tsv.gz\\\\\n",
       "\t ⋮ & ⋮ & ⋮ & ⋮ & ⋮ & ⋮ & ⋮\\\\\n",
       "\t X393\\_European\\_Rabbit & X393\\_European\\_Rabbit & NA & NA & NA & NA & /ebio/abt3\\_projects/databases\\_no-backup/DeepMAsED/version2/real\\_data\\_eval/animal-gut/n30r1/features/X393\\_European\\_Rabbit/X393\\_European\\_Rabbit/NA/NA/NA/NA/features.tsv.gz\\\\\n",
       "\t X430\\_Giraffe         & X430\\_Giraffe         & NA & NA & NA & NA & /ebio/abt3\\_projects/databases\\_no-backup/DeepMAsED/version2/real\\_data\\_eval/animal-gut/n30r1/features/X430\\_Giraffe/X430\\_Giraffe/NA/NA/NA/NA/features.tsv.gz                \\\\\n",
       "\\end{tabular}\n"
      ],
      "text/markdown": [
       "\n",
       "A tidytable: 30 × 7\n",
       "\n",
       "| richness &lt;chr&gt; | abundance_distribution &lt;chr&gt; | rep &lt;lgl&gt; | read_length &lt;lgl&gt; | read_depth &lt;lgl&gt; | assembler &lt;lgl&gt; | feature_file &lt;chr&gt; |\n",
       "|---|---|---|---|---|---|---|\n",
       "| X101_Horse   | X101_Horse   | NA | NA | NA | NA | /ebio/abt3_projects/databases_no-backup/DeepMAsED/version2/real_data_eval/animal-gut/n30r1/features/X101_Horse/X101_Horse/NA/NA/NA/NA/features.tsv.gz     |\n",
       "| X110_Noctule | X110_Noctule | NA | NA | NA | NA | /ebio/abt3_projects/databases_no-backup/DeepMAsED/version2/real_data_eval/animal-gut/n30r1/features/X110_Noctule/X110_Noctule/NA/NA/NA/NA/features.tsv.gz |\n",
       "| ⋮ | ⋮ | ⋮ | ⋮ | ⋮ | ⋮ | ⋮ |\n",
       "| X393_European_Rabbit | X393_European_Rabbit | NA | NA | NA | NA | /ebio/abt3_projects/databases_no-backup/DeepMAsED/version2/real_data_eval/animal-gut/n30r1/features/X393_European_Rabbit/X393_European_Rabbit/NA/NA/NA/NA/features.tsv.gz |\n",
       "| X430_Giraffe         | X430_Giraffe         | NA | NA | NA | NA | /ebio/abt3_projects/databases_no-backup/DeepMAsED/version2/real_data_eval/animal-gut/n30r1/features/X430_Giraffe/X430_Giraffe/NA/NA/NA/NA/features.tsv.gz                 |\n",
       "\n"
      ],
      "text/plain": [
       "   richness             abundance_distribution rep read_length read_depth\n",
       "1  X101_Horse           X101_Horse             NA  NA          NA        \n",
       "2  X110_Noctule         X110_Noctule           NA  NA          NA        \n",
       "⋮  ⋮                    ⋮                      ⋮   ⋮           ⋮         \n",
       "29 X393_European_Rabbit X393_European_Rabbit   NA  NA          NA        \n",
       "30 X430_Giraffe         X430_Giraffe           NA  NA          NA        \n",
       "   assembler\n",
       "1  NA       \n",
       "2  NA       \n",
       "⋮  ⋮        \n",
       "29 NA       \n",
       "30 NA       \n",
       "   feature_file                                                                                                                                                             \n",
       "1  /ebio/abt3_projects/databases_no-backup/DeepMAsED/version2/real_data_eval/animal-gut/n30r1/features/X101_Horse/X101_Horse/NA/NA/NA/NA/features.tsv.gz                    \n",
       "2  /ebio/abt3_projects/databases_no-backup/DeepMAsED/version2/real_data_eval/animal-gut/n30r1/features/X110_Noctule/X110_Noctule/NA/NA/NA/NA/features.tsv.gz                \n",
       "⋮  ⋮                                                                                                                                                                        \n",
       "29 /ebio/abt3_projects/databases_no-backup/DeepMAsED/version2/real_data_eval/animal-gut/n30r1/features/X393_European_Rabbit/X393_European_Rabbit/NA/NA/NA/NA/features.tsv.gz\n",
       "30 /ebio/abt3_projects/databases_no-backup/DeepMAsED/version2/real_data_eval/animal-gut/n30r1/features/X430_Giraffe/X430_Giraffe/NA/NA/NA/NA/features.tsv.gz                "
      ]
     },
     "metadata": {},
     "output_type": "display_data"
    }
   ],
   "source": [
    "D = dirname(animal_n30r1_file)\n",
    "animal_n30r1 = Fread(animal_n30r1_file) %>%\n",
    "    select.(-MGSIM_reads_params) %>%\n",
    "    mutate.(feature_file = paste(D, feature_file, sep='/'))\n",
    "animal_n30r1"
   ]
  },
  {
   "cell_type": "markdown",
   "metadata": {},
   "source": [
    "# Insert size info"
   ]
  },
  {
   "cell_type": "code",
   "execution_count": 17,
   "metadata": {
    "ExecuteTime": {
     "end_time": "2022-02-15T19:38:47.824093Z",
     "start_time": "2022-02-15T19:38:47.743Z"
    }
   },
   "outputs": [],
   "source": [
    "# reading & summarizing feature file\n",
    "read_feat = function(x){\n",
    "    dt = Fread(x$feature_file) %>%\n",
    "        select.(mean_insert_size_Match, stdev_insert_size_Match) %>%\n",
    "        summarize.(mean_insert_size_Match = mean(mean_insert_size_Match, na.rm=TRUE),\n",
    "                   stdev_insert_size_Match = mean(stdev_insert_size_Match, na.rm=TRUE))\n",
    "    dt$Sample = x$richness\n",
    "    return(dt)\n",
    "}"
   ]
  },
  {
   "cell_type": "markdown",
   "metadata": {},
   "source": [
    "### uhgg_r100"
   ]
  },
  {
   "cell_type": "code",
   "execution_count": 18,
   "metadata": {
    "ExecuteTime": {
     "end_time": "2022-02-15T20:53:02.812509Z",
     "start_time": "2022-02-15T19:39:57.662Z"
    }
   },
   "outputs": [
    {
     "name": "stderr",
     "output_type": "stream",
     "text": [
      "Starting 12 cores ...\n",
      "\n",
      "Running 100 calculations (0 objs/0 Mb common; 1 calls/chunk) ...\n",
      "\n",
      "\n",
      "[--------------------------------------------------]   1% (12/12 wrk) eta:  3h\n",
      "\n",
      "[>-------------------------------------------------]   2% (12/12 wrk) eta:  1h\n",
      "\n",
      "[=>------------------------------------------------]   3% (12/12 wrk) eta:  2h\n",
      "\n",
      "[=>------------------------------------------------]   4% (12/12 wrk) eta:  3h\n",
      "\n",
      "[=>------------------------------------------------]   5% (12/12 wrk) eta:  2h\n",
      "\n",
      "[==>-----------------------------------------------]   6% (12/12 wrk) eta:  2h\n",
      "\n",
      "[===>----------------------------------------------]   7% (12/12 wrk) eta:  2h\n",
      "\n",
      "[===>----------------------------------------------]   8% (12/12 wrk) eta:  2h\n",
      "\n",
      "[===>----------------------------------------------]   9% (12/12 wrk) eta:  2h\n",
      "\n",
      "[====>---------------------------------------------]  10% (12/12 wrk) eta:  2h\n",
      "\n",
      "[=====>--------------------------------------------]  11% (12/12 wrk) eta:  2h\n",
      "\n",
      "[=====>--------------------------------------------]  12% (12/12 wrk) eta:  2h\n",
      "\n",
      "[=====>--------------------------------------------]  13% (12/12 wrk) eta:  1h\n",
      "\n",
      "[======>-------------------------------------------]  14% (12/12 wrk) eta:  1h\n",
      "\n",
      "[=======>------------------------------------------]  15% (12/12 wrk) eta:  1h\n",
      "\n",
      "[=======>------------------------------------------]  16% (12/12 wrk) eta:  1h\n",
      "\n",
      "[=======>------------------------------------------]  17% (12/12 wrk) eta:  1h\n",
      "\n",
      "[========>-----------------------------------------]  18% (12/12 wrk) eta:  1h\n",
      "\n",
      "[=========>----------------------------------------]  19% (12/12 wrk) eta:  1h\n",
      "\n",
      "[=========>----------------------------------------]  20% (12/12 wrk) eta:  1h\n",
      "\n",
      "[=========>----------------------------------------]  21% (12/12 wrk) eta:  1h\n",
      "\n",
      "[==========>---------------------------------------]  22% (12/12 wrk) eta:  1h\n",
      "\n",
      "[===========>--------------------------------------]  23% (12/12 wrk) eta:  1h\n",
      "\n",
      "[===========>--------------------------------------]  24% (12/12 wrk) eta:  1h\n",
      "\n",
      "[===========>--------------------------------------]  25% (12/12 wrk) eta:  1h\n",
      "\n",
      "[============>-------------------------------------]  26% (12/12 wrk) eta:  1h\n",
      "\n",
      "[=============>------------------------------------]  27% (12/12 wrk) eta:  1h\n",
      "\n",
      "[=============>------------------------------------]  28% (12/12 wrk) eta:  1h\n",
      "\n",
      "[=============>------------------------------------]  29% (12/12 wrk) eta:  1h\n",
      "\n",
      "[==============>-----------------------------------]  30% (12/12 wrk) eta:  1h\n",
      "\n",
      "[===============>----------------------------------]  31% (12/12 wrk) eta:  1h\n",
      "\n",
      "[===============>----------------------------------]  32% (12/12 wrk) eta:  1h\n",
      "\n",
      "[===============>----------------------------------]  33% (12/12 wrk) eta:  1h\n",
      "\n",
      "[================>---------------------------------]  34% (12/12 wrk) eta:  1h\n",
      "\n",
      "[=================>--------------------------------]  35% (12/12 wrk) eta:  1h\n",
      "\n",
      "[=================>--------------------------------]  36% (12/12 wrk) eta:  1h\n",
      "\n",
      "[=================>--------------------------------]  37% (12/12 wrk) eta:  1h\n",
      "\n",
      "[==================>-------------------------------]  38% (12/12 wrk) eta:  1h\n",
      "\n",
      "[===================>------------------------------]  39% (12/12 wrk) eta:  1h\n",
      "\n",
      "[===================>------------------------------]  40% (12/12 wrk) eta:  1h\n",
      "\n",
      "[===================>------------------------------]  41% (12/12 wrk) eta:  1h\n",
      "\n",
      "[====================>-----------------------------]  42% (12/12 wrk) eta:  1h\n",
      "\n",
      "[=====================>----------------------------]  43% (12/12 wrk) eta: 49m\n",
      "\n",
      "[=====================>----------------------------]  44% (12/12 wrk) eta: 49m\n",
      "\n",
      "[=====================>----------------------------]  45% (12/12 wrk) eta: 48m\n",
      "\n",
      "[======================>---------------------------]  46% (12/12 wrk) eta: 47m\n",
      "\n",
      "[=======================>--------------------------]  47% (12/12 wrk) eta: 46m\n",
      "\n",
      "[=======================>--------------------------]  48% (12/12 wrk) eta: 46m\n",
      "\n",
      "[=======================>--------------------------]  49% (12/12 wrk) eta: 44m\n",
      "\n",
      "[========================>-------------------------]  50% (12/12 wrk) eta: 43m\n",
      "\n",
      "[=========================>------------------------]  51% (12/12 wrk) eta: 42m\n",
      "\n",
      "[=========================>------------------------]  52% (12/12 wrk) eta: 41m\n",
      "\n",
      "[=========================>------------------------]  53% (12/12 wrk) eta: 40m\n",
      "\n",
      "[==========================>-----------------------]  54% (12/12 wrk) eta: 39m\n",
      "\n",
      "[===========================>----------------------]  55% (12/12 wrk) eta: 38m\n",
      "\n",
      "[===========================>----------------------]  56% (12/12 wrk) eta: 37m\n",
      "\n",
      "[===========================>----------------------]  57% (12/12 wrk) eta: 35m\n",
      "\n",
      "[============================>---------------------]  58% (12/12 wrk) eta: 34m\n",
      "\n",
      "[=============================>--------------------]  59% (12/12 wrk) eta: 33m\n",
      "\n",
      "[=============================>--------------------]  60% (12/12 wrk) eta: 32m\n",
      "\n",
      "[=============================>--------------------]  61% (12/12 wrk) eta: 30m\n",
      "\n",
      "[==============================>-------------------]  62% (12/12 wrk) eta: 29m\n",
      "\n",
      "[===============================>------------------]  63% (12/12 wrk) eta: 29m\n",
      "\n",
      "[===============================>------------------]  64% (12/12 wrk) eta: 28m\n",
      "\n",
      "[===============================>------------------]  65% (12/12 wrk) eta: 27m\n",
      "\n",
      "[================================>-----------------]  66% (12/12 wrk) eta: 26m\n",
      "\n",
      "[=================================>----------------]  67% (12/12 wrk) eta: 25m\n",
      "\n",
      "[=================================>----------------]  68% (12/12 wrk) eta: 24m\n",
      "\n",
      "[=================================>----------------]  69% (12/12 wrk) eta: 23m\n",
      "\n",
      "[==================================>---------------]  70% (12/12 wrk) eta: 22m\n",
      "\n",
      "[===================================>--------------]  71% (12/12 wrk) eta: 21m\n",
      "\n",
      "[===================================>--------------]  72% (12/12 wrk) eta: 20m\n",
      "\n",
      "[===================================>--------------]  73% (12/12 wrk) eta: 19m\n",
      "\n",
      "[====================================>-------------]  74% (12/12 wrk) eta: 19m\n",
      "\n",
      "[=====================================>------------]  75% (12/12 wrk) eta: 18m\n",
      "\n",
      "[=====================================>------------]  76% (12/12 wrk) eta: 18m\n",
      "\n",
      "[=====================================>------------]  77% (12/12 wrk) eta: 17m\n",
      "\n",
      "[======================================>-----------]  78% (12/12 wrk) eta: 16m\n",
      "\n",
      "[=======================================>----------]  79% (12/12 wrk) eta: 15m\n",
      "\n",
      "[=======================================>----------]  80% (12/12 wrk) eta: 15m\n",
      "\n",
      "[=======================================>----------]  81% (12/12 wrk) eta: 14m\n",
      "\n",
      "[========================================>---------]  82% (12/12 wrk) eta: 14m\n",
      "\n",
      "[=========================================>--------]  83% (12/12 wrk) eta: 13m\n",
      "\n",
      "[=========================================>--------]  84% (12/12 wrk) eta: 12m\n",
      "\n",
      "[=========================================>--------]  85% (12/12 wrk) eta: 12m\n",
      "\n",
      "[==========================================>-------]  86% (12/12 wrk) eta: 11m\n",
      "\n",
      "[===========================================>------]  87% (12/12 wrk) eta: 10m\n",
      "\n",
      "[===========================================>------]  88% (12/12 wrk) eta:  9m\n",
      "\n",
      "[===========================================>------]  89% (12/12 wrk) eta:  8m\n",
      "\n",
      "[============================================>-----]  90% (11/11 wrk) eta:  8m\n",
      "\n",
      "[=============================================>----]  91% (10/10 wrk) eta:  7m\n",
      "\n",
      "[===============================================>----]  92% (9/9 wrk) eta:  6m\n",
      "\n",
      "[===============================================>----]  93% (8/8 wrk) eta:  5m\n",
      "\n",
      "[================================================>---]  94% (7/7 wrk) eta:  4m\n",
      "\n",
      "[================================================>---]  95% (6/6 wrk) eta:  4m\n",
      "\n",
      "[=================================================>--]  96% (5/5 wrk) eta:  3m\n",
      "\n",
      "[=================================================>--]  97% (4/4 wrk) eta:  2m\n",
      "\n",
      "[==================================================>-]  98% (3/3 wrk) eta:  1m\n",
      "\n",
      "[==================================================>-]  99% (2/2 wrk) eta: 44s\n",
      "\n",
      "[====================================================] 100% (1/1 wrk) eta:  0s\n",
      "                                                                              \n",
      "\n",
      "Master: [4384.9s 0.0% CPU]; Worker: [avg 48.7% CPU, max 78320.3 Mb]\n",
      "\n"
     ]
    },
    {
     "name": "stderr",
     "output_type": "stream",
     "text": [
      "Warning message in summarize_result(job_result, n_errors, n_warnings, cond_msgs, :\n",
      "“1 warnings occurred in processing\n",
      "(#1) cannot remove file '/ebio/abt3_scratch/nyoungblut/R_tmp/Y', reason 'No such file or directory'”\n"
     ]
    },
    {
     "data": {
      "text/html": [
       "<table class=\"dataframe\">\n",
       "<caption>A tidytable: 100 × 4</caption>\n",
       "<thead>\n",
       "\t<tr><th scope=col>mean_insert_size_Match</th><th scope=col>stdev_insert_size_Match</th><th scope=col>Sample</th><th scope=col>dataset</th></tr>\n",
       "\t<tr><th scope=col>&lt;dbl&gt;</th><th scope=col>&lt;dbl&gt;</th><th scope=col>&lt;chr&gt;</th><th scope=col>&lt;chr&gt;</th></tr>\n",
       "</thead>\n",
       "<tbody>\n",
       "\t<tr><td>305.1573</td><td>36.69200</td><td>ERS473032</td><td>UHGG_n30r1</td></tr>\n",
       "\t<tr><td>317.2531</td><td>26.89817</td><td>ERS473044</td><td>UHGG_n30r1</td></tr>\n",
       "\t<tr><td>⋮</td><td>⋮</td><td>⋮</td><td>⋮</td></tr>\n",
       "\t<tr><td>173.4259</td><td>36.93933</td><td>ERS436684</td><td>UHGG_n30r1</td></tr>\n",
       "\t<tr><td>313.3988</td><td>86.31882</td><td>ERS436831</td><td>UHGG_n30r1</td></tr>\n",
       "</tbody>\n",
       "</table>\n"
      ],
      "text/latex": [
       "A tidytable: 100 × 4\n",
       "\\begin{tabular}{llll}\n",
       " mean\\_insert\\_size\\_Match & stdev\\_insert\\_size\\_Match & Sample & dataset\\\\\n",
       " <dbl> & <dbl> & <chr> & <chr>\\\\\n",
       "\\hline\n",
       "\t 305.1573 & 36.69200 & ERS473032 & UHGG\\_n30r1\\\\\n",
       "\t 317.2531 & 26.89817 & ERS473044 & UHGG\\_n30r1\\\\\n",
       "\t ⋮ & ⋮ & ⋮ & ⋮\\\\\n",
       "\t 173.4259 & 36.93933 & ERS436684 & UHGG\\_n30r1\\\\\n",
       "\t 313.3988 & 86.31882 & ERS436831 & UHGG\\_n30r1\\\\\n",
       "\\end{tabular}\n"
      ],
      "text/markdown": [
       "\n",
       "A tidytable: 100 × 4\n",
       "\n",
       "| mean_insert_size_Match &lt;dbl&gt; | stdev_insert_size_Match &lt;dbl&gt; | Sample &lt;chr&gt; | dataset &lt;chr&gt; |\n",
       "|---|---|---|---|\n",
       "| 305.1573 | 36.69200 | ERS473032 | UHGG_n30r1 |\n",
       "| 317.2531 | 26.89817 | ERS473044 | UHGG_n30r1 |\n",
       "| ⋮ | ⋮ | ⋮ | ⋮ |\n",
       "| 173.4259 | 36.93933 | ERS436684 | UHGG_n30r1 |\n",
       "| 313.3988 | 86.31882 | ERS436831 | UHGG_n30r1 |\n",
       "\n"
      ],
      "text/plain": [
       "    mean_insert_size_Match stdev_insert_size_Match Sample    dataset   \n",
       "1   305.1573               36.69200                ERS473032 UHGG_n30r1\n",
       "2   317.2531               26.89817                ERS473044 UHGG_n30r1\n",
       "⋮   ⋮                      ⋮                       ⋮         ⋮         \n",
       "99  173.4259               36.93933                ERS436684 UHGG_n30r1\n",
       "100 313.3988               86.31882                ERS436831 UHGG_n30r1"
      ]
     },
     "metadata": {},
     "output_type": "display_data"
    }
   ],
   "source": [
    "# processing files \n",
    "uhgg_r100_iSize = uhgg_r100 %>%\n",
    "    group_split.(richness) %>%\n",
    "    #head(n=2) %>%\n",
    "    Q(read_feat, x=., n_jobs=12) %>%\n",
    "    rbindlist(use.names=TRUE) %>%\n",
    "    mutate.(dataset = 'UHGG_n30r1')\n",
    "uhgg_r100_iSize"
   ]
  },
  {
   "cell_type": "code",
   "execution_count": 19,
   "metadata": {
    "ExecuteTime": {
     "end_time": "2022-02-15T20:53:02.848997Z",
     "start_time": "2022-02-15T19:39:59.256Z"
    }
   },
   "outputs": [
    {
     "data": {
      "text/html": [
       "<table class=\"dataframe\">\n",
       "<caption>A matrix: 1 × 8 of type dbl</caption>\n",
       "<thead>\n",
       "\t<tr><th></th><th scope=col>Min.</th><th scope=col>1st Qu.</th><th scope=col>Median</th><th scope=col>Mean</th><th scope=col>3rd Qu.</th><th scope=col>Max.</th><th scope=col>sd</th><th scope=col>sd_err_of_mean</th></tr>\n",
       "</thead>\n",
       "<tbody>\n",
       "\t<tr><th scope=row>mean_insert_size_Match</th><td>149.5533</td><td>215.5104</td><td>289.0241</td><td>266.2755</td><td>313.7303</td><td>416.8507</td><td>60.099</td><td>24.535</td></tr>\n",
       "</tbody>\n",
       "</table>\n"
      ],
      "text/latex": [
       "A matrix: 1 × 8 of type dbl\n",
       "\\begin{tabular}{r|llllllll}\n",
       "  & Min. & 1st Qu. & Median & Mean & 3rd Qu. & Max. & sd & sd\\_err\\_of\\_mean\\\\\n",
       "\\hline\n",
       "\tmean\\_insert\\_size\\_Match & 149.5533 & 215.5104 & 289.0241 & 266.2755 & 313.7303 & 416.8507 & 60.099 & 24.535\\\\\n",
       "\\end{tabular}\n"
      ],
      "text/markdown": [
       "\n",
       "A matrix: 1 × 8 of type dbl\n",
       "\n",
       "| <!--/--> | Min. | 1st Qu. | Median | Mean | 3rd Qu. | Max. | sd | sd_err_of_mean |\n",
       "|---|---|---|---|---|---|---|---|---|\n",
       "| mean_insert_size_Match | 149.5533 | 215.5104 | 289.0241 | 266.2755 | 313.7303 | 416.8507 | 60.099 | 24.535 |\n",
       "\n"
      ],
      "text/plain": [
       "                       Min.     1st Qu.  Median   Mean     3rd Qu.  Max.    \n",
       "mean_insert_size_Match 149.5533 215.5104 289.0241 266.2755 313.7303 416.8507\n",
       "                       sd     sd_err_of_mean\n",
       "mean_insert_size_Match 60.099 24.535        "
      ]
     },
     "metadata": {},
     "output_type": "display_data"
    },
    {
     "data": {
      "text/html": [
       "<table class=\"dataframe\">\n",
       "<caption>A matrix: 1 × 8 of type dbl</caption>\n",
       "<thead>\n",
       "\t<tr><th></th><th scope=col>Min.</th><th scope=col>1st Qu.</th><th scope=col>Median</th><th scope=col>Mean</th><th scope=col>3rd Qu.</th><th scope=col>Max.</th><th scope=col>sd</th><th scope=col>sd_err_of_mean</th></tr>\n",
       "</thead>\n",
       "<tbody>\n",
       "\t<tr><th scope=row>stdev_insert_size_Match</th><td>19.49326</td><td>42.67352</td><td>71.94733</td><td>71.64136</td><td>86.01668</td><td>189.6443</td><td>34.279</td><td>13.994</td></tr>\n",
       "</tbody>\n",
       "</table>\n"
      ],
      "text/latex": [
       "A matrix: 1 × 8 of type dbl\n",
       "\\begin{tabular}{r|llllllll}\n",
       "  & Min. & 1st Qu. & Median & Mean & 3rd Qu. & Max. & sd & sd\\_err\\_of\\_mean\\\\\n",
       "\\hline\n",
       "\tstdev\\_insert\\_size\\_Match & 19.49326 & 42.67352 & 71.94733 & 71.64136 & 86.01668 & 189.6443 & 34.279 & 13.994\\\\\n",
       "\\end{tabular}\n"
      ],
      "text/markdown": [
       "\n",
       "A matrix: 1 × 8 of type dbl\n",
       "\n",
       "| <!--/--> | Min. | 1st Qu. | Median | Mean | 3rd Qu. | Max. | sd | sd_err_of_mean |\n",
       "|---|---|---|---|---|---|---|---|---|\n",
       "| stdev_insert_size_Match | 19.49326 | 42.67352 | 71.94733 | 71.64136 | 86.01668 | 189.6443 | 34.279 | 13.994 |\n",
       "\n"
      ],
      "text/plain": [
       "                        Min.     1st Qu.  Median   Mean     3rd Qu.  Max.    \n",
       "stdev_insert_size_Match 19.49326 42.67352 71.94733 71.64136 86.01668 189.6443\n",
       "                        sd     sd_err_of_mean\n",
       "stdev_insert_size_Match 34.279 13.994        "
      ]
     },
     "metadata": {},
     "output_type": "display_data"
    }
   ],
   "source": [
    "# summarizing the distributions\n",
    "summary_x(uhgg_r100_iSize$mean_insert_size_Match)\n",
    "summary_x(uhgg_r100_iSize$stdev_insert_size_Match)"
   ]
  },
  {
   "cell_type": "markdown",
   "metadata": {},
   "source": [
    "### anx_n30r1"
   ]
  },
  {
   "cell_type": "code",
   "execution_count": 20,
   "metadata": {
    "ExecuteTime": {
     "end_time": "2022-02-15T21:03:36.447055Z",
     "start_time": "2022-02-15T19:40:01.978Z"
    }
   },
   "outputs": [
    {
     "name": "stderr",
     "output_type": "stream",
     "text": [
      "Starting 12 cores ...\n",
      "\n",
      "Running 30 calculations (0 objs/0 Mb common; 1 calls/chunk) ...\n",
      "\n",
      "\n",
      "[=>------------------------------------------------]   3% (12/12 wrk) eta:  1h\n",
      "\n",
      "[==>-----------------------------------------------]   7% (12/12 wrk) eta: 44m\n",
      "\n",
      "[====>---------------------------------------------]  10% (12/12 wrk) eta: 28m\n",
      "\n",
      "[======>-------------------------------------------]  13% (12/12 wrk) eta: 21m\n",
      "\n",
      "[=======>------------------------------------------]  17% (12/12 wrk) eta: 19m\n",
      "\n",
      "[=========>----------------------------------------]  20% (12/12 wrk) eta: 16m\n",
      "\n",
      "[===========>--------------------------------------]  23% (12/12 wrk) eta: 13m\n",
      "\n",
      "[============>-------------------------------------]  27% (12/12 wrk) eta: 12m\n",
      "\n",
      "[==============>-----------------------------------]  30% (12/12 wrk) eta: 11m\n",
      "\n",
      "[================>---------------------------------]  33% (12/12 wrk) eta: 10m\n",
      "\n",
      "[=================>--------------------------------]  37% (12/12 wrk) eta:  9m\n",
      "\n",
      "[===================>------------------------------]  40% (12/12 wrk) eta:  8m\n",
      "\n",
      "[=====================>----------------------------]  43% (12/12 wrk) eta:  7m\n",
      "\n",
      "[======================>---------------------------]  47% (12/12 wrk) eta:  7m\n",
      "\n",
      "[========================>-------------------------]  50% (12/12 wrk) eta:  6m\n",
      "\n",
      "[==========================>-----------------------]  53% (12/12 wrk) eta:  6m\n",
      "\n",
      "[===========================>----------------------]  57% (12/12 wrk) eta:  5m\n",
      "\n",
      "[=============================>--------------------]  60% (12/12 wrk) eta:  5m\n",
      "\n",
      "[===============================>------------------]  63% (12/12 wrk) eta:  4m\n",
      "\n",
      "[================================>-----------------]  67% (11/11 wrk) eta:  4m\n",
      "\n",
      "[==================================>---------------]  70% (10/10 wrk) eta:  3m\n",
      "\n",
      "[=====================================>--------------]  73% (9/9 wrk) eta:  3m\n",
      "\n",
      "[=======================================>------------]  77% (8/8 wrk) eta:  3m\n",
      "\n",
      "[=========================================>----------]  80% (7/7 wrk) eta:  2m\n",
      "\n",
      "[==========================================>---------]  83% (6/6 wrk) eta:  2m\n",
      "\n",
      "[============================================>-------]  87% (5/5 wrk) eta:  1m\n",
      "\n",
      "[==============================================>-----]  90% (4/4 wrk) eta:  1m\n",
      "\n",
      "[================================================>---]  93% (3/3 wrk) eta: 38s\n",
      "\n",
      "[=================================================>--]  97% (2/2 wrk) eta: 19s\n",
      "\n",
      "[====================================================] 100% (1/1 wrk) eta:  0s\n",
      "                                                                              \n",
      "\n",
      "Master: [633.4s 0.1% CPU]; Worker: [avg 52.6% CPU, max 26343.2 Mb]\n",
      "\n"
     ]
    },
    {
     "data": {
      "text/html": [
       "<table class=\"dataframe\">\n",
       "<caption>A tidytable: 30 × 4</caption>\n",
       "<thead>\n",
       "\t<tr><th scope=col>mean_insert_size_Match</th><th scope=col>stdev_insert_size_Match</th><th scope=col>Sample</th><th scope=col>dataset</th></tr>\n",
       "\t<tr><th scope=col>&lt;dbl&gt;</th><th scope=col>&lt;dbl&gt;</th><th scope=col>&lt;chr&gt;</th><th scope=col>&lt;chr&gt;</th></tr>\n",
       "</thead>\n",
       "<tbody>\n",
       "\t<tr><td>282.8254</td><td>72.52966</td><td>AM867</td><td>ANX_n30r1</td></tr>\n",
       "\t<tr><td>254.2639</td><td>67.04563</td><td>AP913</td><td>ANX_n30r1</td></tr>\n",
       "\t<tr><td>⋮</td><td>⋮</td><td>⋮</td><td>⋮</td></tr>\n",
       "\t<tr><td>251.3695</td><td>66.27874</td><td>AV055</td><td>ANX_n30r1</td></tr>\n",
       "\t<tr><td>262.9639</td><td>65.67125</td><td>AY550</td><td>ANX_n30r1</td></tr>\n",
       "</tbody>\n",
       "</table>\n"
      ],
      "text/latex": [
       "A tidytable: 30 × 4\n",
       "\\begin{tabular}{llll}\n",
       " mean\\_insert\\_size\\_Match & stdev\\_insert\\_size\\_Match & Sample & dataset\\\\\n",
       " <dbl> & <dbl> & <chr> & <chr>\\\\\n",
       "\\hline\n",
       "\t 282.8254 & 72.52966 & AM867 & ANX\\_n30r1\\\\\n",
       "\t 254.2639 & 67.04563 & AP913 & ANX\\_n30r1\\\\\n",
       "\t ⋮ & ⋮ & ⋮ & ⋮\\\\\n",
       "\t 251.3695 & 66.27874 & AV055 & ANX\\_n30r1\\\\\n",
       "\t 262.9639 & 65.67125 & AY550 & ANX\\_n30r1\\\\\n",
       "\\end{tabular}\n"
      ],
      "text/markdown": [
       "\n",
       "A tidytable: 30 × 4\n",
       "\n",
       "| mean_insert_size_Match &lt;dbl&gt; | stdev_insert_size_Match &lt;dbl&gt; | Sample &lt;chr&gt; | dataset &lt;chr&gt; |\n",
       "|---|---|---|---|\n",
       "| 282.8254 | 72.52966 | AM867 | ANX_n30r1 |\n",
       "| 254.2639 | 67.04563 | AP913 | ANX_n30r1 |\n",
       "| ⋮ | ⋮ | ⋮ | ⋮ |\n",
       "| 251.3695 | 66.27874 | AV055 | ANX_n30r1 |\n",
       "| 262.9639 | 65.67125 | AY550 | ANX_n30r1 |\n",
       "\n"
      ],
      "text/plain": [
       "   mean_insert_size_Match stdev_insert_size_Match Sample dataset  \n",
       "1  282.8254               72.52966                AM867  ANX_n30r1\n",
       "2  254.2639               67.04563                AP913  ANX_n30r1\n",
       "⋮  ⋮                      ⋮                       ⋮      ⋮        \n",
       "29 251.3695               66.27874                AV055  ANX_n30r1\n",
       "30 262.9639               65.67125                AY550  ANX_n30r1"
      ]
     },
     "metadata": {},
     "output_type": "display_data"
    }
   ],
   "source": [
    "# processing files \n",
    "anx_n30r1_iSize = anx_n30r1 %>%\n",
    "    group_split.(richness) %>%\n",
    "    Q(read_feat, x=., n_jobs=12) %>%\n",
    "    rbindlist(use.names=TRUE) %>%\n",
    "    mutate.(dataset = 'ANX_n30r1')\n",
    "anx_n30r1_iSize"
   ]
  },
  {
   "cell_type": "code",
   "execution_count": 21,
   "metadata": {
    "ExecuteTime": {
     "end_time": "2022-02-15T21:03:36.477692Z",
     "start_time": "2022-02-15T19:40:07.426Z"
    }
   },
   "outputs": [
    {
     "data": {
      "text/html": [
       "<table class=\"dataframe\">\n",
       "<caption>A matrix: 1 × 8 of type dbl</caption>\n",
       "<thead>\n",
       "\t<tr><th></th><th scope=col>Min.</th><th scope=col>1st Qu.</th><th scope=col>Median</th><th scope=col>Mean</th><th scope=col>3rd Qu.</th><th scope=col>Max.</th><th scope=col>sd</th><th scope=col>sd_err_of_mean</th></tr>\n",
       "</thead>\n",
       "<tbody>\n",
       "\t<tr><th scope=row>mean_insert_size_Match</th><td>251.3695</td><td>277.1726</td><td>283.5952</td><td>279.6719</td><td>286.1638</td><td>291.742</td><td>10.941</td><td>4.467</td></tr>\n",
       "</tbody>\n",
       "</table>\n"
      ],
      "text/latex": [
       "A matrix: 1 × 8 of type dbl\n",
       "\\begin{tabular}{r|llllllll}\n",
       "  & Min. & 1st Qu. & Median & Mean & 3rd Qu. & Max. & sd & sd\\_err\\_of\\_mean\\\\\n",
       "\\hline\n",
       "\tmean\\_insert\\_size\\_Match & 251.3695 & 277.1726 & 283.5952 & 279.6719 & 286.1638 & 291.742 & 10.941 & 4.467\\\\\n",
       "\\end{tabular}\n"
      ],
      "text/markdown": [
       "\n",
       "A matrix: 1 × 8 of type dbl\n",
       "\n",
       "| <!--/--> | Min. | 1st Qu. | Median | Mean | 3rd Qu. | Max. | sd | sd_err_of_mean |\n",
       "|---|---|---|---|---|---|---|---|---|\n",
       "| mean_insert_size_Match | 251.3695 | 277.1726 | 283.5952 | 279.6719 | 286.1638 | 291.742 | 10.941 | 4.467 |\n",
       "\n"
      ],
      "text/plain": [
       "                       Min.     1st Qu.  Median   Mean     3rd Qu.  Max.   \n",
       "mean_insert_size_Match 251.3695 277.1726 283.5952 279.6719 286.1638 291.742\n",
       "                       sd     sd_err_of_mean\n",
       "mean_insert_size_Match 10.941 4.467         "
      ]
     },
     "metadata": {},
     "output_type": "display_data"
    },
    {
     "data": {
      "text/html": [
       "<table class=\"dataframe\">\n",
       "<caption>A matrix: 1 × 8 of type dbl</caption>\n",
       "<thead>\n",
       "\t<tr><th></th><th scope=col>Min.</th><th scope=col>1st Qu.</th><th scope=col>Median</th><th scope=col>Mean</th><th scope=col>3rd Qu.</th><th scope=col>Max.</th><th scope=col>sd</th><th scope=col>sd_err_of_mean</th></tr>\n",
       "</thead>\n",
       "<tbody>\n",
       "\t<tr><th scope=row>stdev_insert_size_Match</th><td>65.67125</td><td>72.32994</td><td>73.11435</td><td>72.6462</td><td>74.27291</td><td>76.05848</td><td>2.573</td><td>1.05</td></tr>\n",
       "</tbody>\n",
       "</table>\n"
      ],
      "text/latex": [
       "A matrix: 1 × 8 of type dbl\n",
       "\\begin{tabular}{r|llllllll}\n",
       "  & Min. & 1st Qu. & Median & Mean & 3rd Qu. & Max. & sd & sd\\_err\\_of\\_mean\\\\\n",
       "\\hline\n",
       "\tstdev\\_insert\\_size\\_Match & 65.67125 & 72.32994 & 73.11435 & 72.6462 & 74.27291 & 76.05848 & 2.573 & 1.05\\\\\n",
       "\\end{tabular}\n"
      ],
      "text/markdown": [
       "\n",
       "A matrix: 1 × 8 of type dbl\n",
       "\n",
       "| <!--/--> | Min. | 1st Qu. | Median | Mean | 3rd Qu. | Max. | sd | sd_err_of_mean |\n",
       "|---|---|---|---|---|---|---|---|---|\n",
       "| stdev_insert_size_Match | 65.67125 | 72.32994 | 73.11435 | 72.6462 | 74.27291 | 76.05848 | 2.573 | 1.05 |\n",
       "\n"
      ],
      "text/plain": [
       "                        Min.     1st Qu.  Median   Mean    3rd Qu.  Max.    \n",
       "stdev_insert_size_Match 65.67125 72.32994 73.11435 72.6462 74.27291 76.05848\n",
       "                        sd    sd_err_of_mean\n",
       "stdev_insert_size_Match 2.573 1.05          "
      ]
     },
     "metadata": {},
     "output_type": "display_data"
    }
   ],
   "source": [
    "# summarizing the distributions\n",
    "summary_x(anx_n30r1_iSize$mean_insert_size_Match)\n",
    "summary_x(anx_n30r1_iSize$stdev_insert_size_Match)"
   ]
  },
  {
   "cell_type": "markdown",
   "metadata": {},
   "source": [
    "### animal_n30r1"
   ]
  },
  {
   "cell_type": "code",
   "execution_count": 22,
   "metadata": {
    "ExecuteTime": {
     "end_time": "2022-02-15T21:06:04.865788Z",
     "start_time": "2022-02-15T19:40:18.677Z"
    }
   },
   "outputs": [
    {
     "name": "stderr",
     "output_type": "stream",
     "text": [
      "Starting 12 cores ...\n",
      "\n",
      "Running 30 calculations (0 objs/0 Mb common; 1 calls/chunk) ...\n",
      "\n",
      "\n",
      "[=>------------------------------------------------]   3% (12/12 wrk) eta: 16s\n",
      "\n",
      "[==>-----------------------------------------------]   7% (12/12 wrk) eta:  9s\n",
      "\n",
      "[====>---------------------------------------------]  10% (12/12 wrk) eta: 20s\n",
      "\n",
      "[======>-------------------------------------------]  13% (12/12 wrk) eta: 37s\n",
      "\n",
      "[=======>------------------------------------------]  17% (12/12 wrk) eta:  1m\n",
      "\n",
      "[=========>----------------------------------------]  20% (12/12 wrk) eta:  1m\n",
      "\n",
      "[===========>--------------------------------------]  23% (12/12 wrk) eta:  1m\n",
      "\n",
      "[============>-------------------------------------]  27% (12/12 wrk) eta:  1m\n",
      "\n",
      "[==============>-----------------------------------]  30% (12/12 wrk) eta:  1m\n",
      "\n",
      "[================>---------------------------------]  33% (12/12 wrk) eta:  1m\n",
      "\n",
      "[=================>--------------------------------]  37% (12/12 wrk) eta:  1m\n",
      "\n",
      "[===================>------------------------------]  40% (12/12 wrk) eta:  1m\n",
      "\n",
      "[=====================>----------------------------]  43% (12/12 wrk) eta:  1m\n",
      "\n",
      "[======================>---------------------------]  47% (12/12 wrk) eta:  1m\n",
      "\n",
      "[========================>-------------------------]  50% (12/12 wrk) eta: 48s\n",
      "\n",
      "[==========================>-----------------------]  53% (12/12 wrk) eta: 42s\n",
      "\n",
      "[===========================>----------------------]  57% (12/12 wrk) eta: 38s\n",
      "\n",
      "[=============================>--------------------]  60% (12/12 wrk) eta: 33s\n",
      "\n",
      "[===============================>------------------]  63% (12/12 wrk) eta: 30s\n",
      "\n",
      "[================================>-----------------]  67% (11/11 wrk) eta: 37s\n",
      "\n",
      "[==================================>---------------]  70% (10/10 wrk) eta: 33s\n",
      "\n",
      "[=====================================>--------------]  73% (9/9 wrk) eta: 28s\n",
      "\n",
      "[=======================================>------------]  77% (8/8 wrk) eta: 26s\n",
      "\n",
      "[=========================================>----------]  80% (7/7 wrk) eta: 22s\n",
      "\n",
      "[==========================================>---------]  83% (6/6 wrk) eta: 18s\n",
      "\n",
      "[============================================>-------]  87% (6/6 wrk) eta: 14s\n",
      "\n",
      "[==============================================>-----]  90% (4/4 wrk) eta: 12s\n",
      "\n",
      "[================================================>---]  93% (3/3 wrk) eta:  8s\n",
      "\n",
      "[=================================================>--]  97% (2/2 wrk) eta:  4s\n",
      "\n",
      "[====================================================] 100% (1/1 wrk) eta:  0s\n",
      "                                                                              \n",
      "\n",
      "Master: [148.2s 0.3% CPU]; Worker: [avg 59.9% CPU, max 13275.8 Mb]\n",
      "\n"
     ]
    },
    {
     "data": {
      "text/html": [
       "<table class=\"dataframe\">\n",
       "<caption>A tidytable: 30 × 4</caption>\n",
       "<thead>\n",
       "\t<tr><th scope=col>mean_insert_size_Match</th><th scope=col>stdev_insert_size_Match</th><th scope=col>Sample</th><th scope=col>dataset</th></tr>\n",
       "\t<tr><th scope=col>&lt;dbl&gt;</th><th scope=col>&lt;dbl&gt;</th><th scope=col>&lt;chr&gt;</th><th scope=col>&lt;chr&gt;</th></tr>\n",
       "</thead>\n",
       "<tbody>\n",
       "\t<tr><td>236.7553</td><td>57.68482</td><td>X101_Horse  </td><td>Animal_n30r1</td></tr>\n",
       "\t<tr><td>236.9176</td><td>79.32910</td><td>X110_Noctule</td><td>Animal_n30r1</td></tr>\n",
       "\t<tr><td>⋮</td><td>⋮</td><td>⋮</td><td>⋮</td></tr>\n",
       "\t<tr><td>198.9311</td><td>49.57269</td><td>X393_European_Rabbit</td><td>Animal_n30r1</td></tr>\n",
       "\t<tr><td>200.6399</td><td>46.84019</td><td>X430_Giraffe        </td><td>Animal_n30r1</td></tr>\n",
       "</tbody>\n",
       "</table>\n"
      ],
      "text/latex": [
       "A tidytable: 30 × 4\n",
       "\\begin{tabular}{llll}\n",
       " mean\\_insert\\_size\\_Match & stdev\\_insert\\_size\\_Match & Sample & dataset\\\\\n",
       " <dbl> & <dbl> & <chr> & <chr>\\\\\n",
       "\\hline\n",
       "\t 236.7553 & 57.68482 & X101\\_Horse   & Animal\\_n30r1\\\\\n",
       "\t 236.9176 & 79.32910 & X110\\_Noctule & Animal\\_n30r1\\\\\n",
       "\t ⋮ & ⋮ & ⋮ & ⋮\\\\\n",
       "\t 198.9311 & 49.57269 & X393\\_European\\_Rabbit & Animal\\_n30r1\\\\\n",
       "\t 200.6399 & 46.84019 & X430\\_Giraffe         & Animal\\_n30r1\\\\\n",
       "\\end{tabular}\n"
      ],
      "text/markdown": [
       "\n",
       "A tidytable: 30 × 4\n",
       "\n",
       "| mean_insert_size_Match &lt;dbl&gt; | stdev_insert_size_Match &lt;dbl&gt; | Sample &lt;chr&gt; | dataset &lt;chr&gt; |\n",
       "|---|---|---|---|\n",
       "| 236.7553 | 57.68482 | X101_Horse   | Animal_n30r1 |\n",
       "| 236.9176 | 79.32910 | X110_Noctule | Animal_n30r1 |\n",
       "| ⋮ | ⋮ | ⋮ | ⋮ |\n",
       "| 198.9311 | 49.57269 | X393_European_Rabbit | Animal_n30r1 |\n",
       "| 200.6399 | 46.84019 | X430_Giraffe         | Animal_n30r1 |\n",
       "\n"
      ],
      "text/plain": [
       "   mean_insert_size_Match stdev_insert_size_Match Sample              \n",
       "1  236.7553               57.68482                X101_Horse          \n",
       "2  236.9176               79.32910                X110_Noctule        \n",
       "⋮  ⋮                      ⋮                       ⋮                   \n",
       "29 198.9311               49.57269                X393_European_Rabbit\n",
       "30 200.6399               46.84019                X430_Giraffe        \n",
       "   dataset     \n",
       "1  Animal_n30r1\n",
       "2  Animal_n30r1\n",
       "⋮  ⋮           \n",
       "29 Animal_n30r1\n",
       "30 Animal_n30r1"
      ]
     },
     "metadata": {},
     "output_type": "display_data"
    }
   ],
   "source": [
    "# processing files \n",
    "animal_n30r1_iSize = animal_n30r1 %>%\n",
    "    group_split.(richness) %>%\n",
    "    Q(read_feat, x=., n_jobs=12) %>%\n",
    "    rbindlist(use.names=TRUE) %>%\n",
    "    mutate.(dataset = 'Animal_n30r1')\n",
    "animal_n30r1_iSize"
   ]
  },
  {
   "cell_type": "code",
   "execution_count": 23,
   "metadata": {
    "ExecuteTime": {
     "end_time": "2022-02-15T21:06:04.899470Z",
     "start_time": "2022-02-15T19:40:19.659Z"
    }
   },
   "outputs": [
    {
     "data": {
      "text/html": [
       "<table class=\"dataframe\">\n",
       "<caption>A matrix: 1 × 8 of type dbl</caption>\n",
       "<thead>\n",
       "\t<tr><th></th><th scope=col>Min.</th><th scope=col>1st Qu.</th><th scope=col>Median</th><th scope=col>Mean</th><th scope=col>3rd Qu.</th><th scope=col>Max.</th><th scope=col>sd</th><th scope=col>sd_err_of_mean</th></tr>\n",
       "</thead>\n",
       "<tbody>\n",
       "\t<tr><th scope=row>mean_insert_size_Match</th><td>198.9311</td><td>223.3204</td><td>230.97</td><td>232.276</td><td>237.0305</td><td>270.4313</td><td>18.514</td><td>7.559</td></tr>\n",
       "</tbody>\n",
       "</table>\n"
      ],
      "text/latex": [
       "A matrix: 1 × 8 of type dbl\n",
       "\\begin{tabular}{r|llllllll}\n",
       "  & Min. & 1st Qu. & Median & Mean & 3rd Qu. & Max. & sd & sd\\_err\\_of\\_mean\\\\\n",
       "\\hline\n",
       "\tmean\\_insert\\_size\\_Match & 198.9311 & 223.3204 & 230.97 & 232.276 & 237.0305 & 270.4313 & 18.514 & 7.559\\\\\n",
       "\\end{tabular}\n"
      ],
      "text/markdown": [
       "\n",
       "A matrix: 1 × 8 of type dbl\n",
       "\n",
       "| <!--/--> | Min. | 1st Qu. | Median | Mean | 3rd Qu. | Max. | sd | sd_err_of_mean |\n",
       "|---|---|---|---|---|---|---|---|---|\n",
       "| mean_insert_size_Match | 198.9311 | 223.3204 | 230.97 | 232.276 | 237.0305 | 270.4313 | 18.514 | 7.559 |\n",
       "\n"
      ],
      "text/plain": [
       "                       Min.     1st Qu.  Median Mean    3rd Qu.  Max.    \n",
       "mean_insert_size_Match 198.9311 223.3204 230.97 232.276 237.0305 270.4313\n",
       "                       sd     sd_err_of_mean\n",
       "mean_insert_size_Match 18.514 7.559         "
      ]
     },
     "metadata": {},
     "output_type": "display_data"
    },
    {
     "data": {
      "text/html": [
       "<table class=\"dataframe\">\n",
       "<caption>A matrix: 1 × 8 of type dbl</caption>\n",
       "<thead>\n",
       "\t<tr><th></th><th scope=col>Min.</th><th scope=col>1st Qu.</th><th scope=col>Median</th><th scope=col>Mean</th><th scope=col>3rd Qu.</th><th scope=col>Max.</th><th scope=col>sd</th><th scope=col>sd_err_of_mean</th></tr>\n",
       "</thead>\n",
       "<tbody>\n",
       "\t<tr><th scope=row>stdev_insert_size_Match</th><td>46.84019</td><td>54.06433</td><td>59.36317</td><td>61.54109</td><td>68.58182</td><td>86.71912</td><td>10.317</td><td>4.212</td></tr>\n",
       "</tbody>\n",
       "</table>\n"
      ],
      "text/latex": [
       "A matrix: 1 × 8 of type dbl\n",
       "\\begin{tabular}{r|llllllll}\n",
       "  & Min. & 1st Qu. & Median & Mean & 3rd Qu. & Max. & sd & sd\\_err\\_of\\_mean\\\\\n",
       "\\hline\n",
       "\tstdev\\_insert\\_size\\_Match & 46.84019 & 54.06433 & 59.36317 & 61.54109 & 68.58182 & 86.71912 & 10.317 & 4.212\\\\\n",
       "\\end{tabular}\n"
      ],
      "text/markdown": [
       "\n",
       "A matrix: 1 × 8 of type dbl\n",
       "\n",
       "| <!--/--> | Min. | 1st Qu. | Median | Mean | 3rd Qu. | Max. | sd | sd_err_of_mean |\n",
       "|---|---|---|---|---|---|---|---|---|\n",
       "| stdev_insert_size_Match | 46.84019 | 54.06433 | 59.36317 | 61.54109 | 68.58182 | 86.71912 | 10.317 | 4.212 |\n",
       "\n"
      ],
      "text/plain": [
       "                        Min.     1st Qu.  Median   Mean     3rd Qu.  Max.    \n",
       "stdev_insert_size_Match 46.84019 54.06433 59.36317 61.54109 68.58182 86.71912\n",
       "                        sd     sd_err_of_mean\n",
       "stdev_insert_size_Match 10.317 4.212         "
      ]
     },
     "metadata": {},
     "output_type": "display_data"
    }
   ],
   "source": [
    "# summarizing the distributions\n",
    "summary_x(animal_n30r1_iSize$mean_insert_size_Match)\n",
    "summary_x(animal_n30r1_iSize$stdev_insert_size_Match)"
   ]
  },
  {
   "cell_type": "code",
   "execution_count": 25,
   "metadata": {
    "ExecuteTime": {
     "end_time": "2022-02-15T21:06:06.090209Z",
     "start_time": "2022-02-15T19:40:36.683Z"
    }
   },
   "outputs": [
    {
     "name": "stderr",
     "output_type": "stream",
     "text": [
      "Sending email to: nyoungblut@tuebingen.mpg.de\n",
      "\n"
     ]
    }
   ],
   "source": [
    "send_email('http://127.0.0.1:9704/notebooks/version2/deepmased/notebooks/06_version2/02_real_dataset_eval/05_insert_sizes.ipynb')"
   ]
  },
  {
   "cell_type": "markdown",
   "metadata": {},
   "source": [
    "# sessionInfo"
   ]
  },
  {
   "cell_type": "code",
   "execution_count": 24,
   "metadata": {
    "ExecuteTime": {
     "end_time": "2022-02-15T21:06:05.041113Z",
     "start_time": "2022-02-15T19:40:28.129Z"
    }
   },
   "outputs": [
    {
     "data": {
      "text/plain": [
       "R version 4.1.1 (2021-08-10)\n",
       "Platform: x86_64-conda-linux-gnu (64-bit)\n",
       "Running under: Ubuntu 18.04.6 LTS\n",
       "\n",
       "Matrix products: default\n",
       "BLAS/LAPACK: /tmp/global2/nyoungblut/code/general/conda_envs/general-tidyverse/lib/libopenblasp-r0.3.18.so\n",
       "\n",
       "locale:\n",
       " [1] LC_CTYPE=en_US.UTF-8       LC_NUMERIC=C              \n",
       " [3] LC_TIME=en_US.UTF-8        LC_COLLATE=en_US.UTF-8    \n",
       " [5] LC_MONETARY=en_US.UTF-8    LC_MESSAGES=en_US.UTF-8   \n",
       " [7] LC_PAPER=en_US.UTF-8       LC_NAME=C                 \n",
       " [9] LC_ADDRESS=C               LC_TELEPHONE=C            \n",
       "[11] LC_MEASUREMENT=en_US.UTF-8 LC_IDENTIFICATION=C       \n",
       "\n",
       "attached base packages:\n",
       "[1] stats     graphics  grDevices utils     datasets  methods   base     \n",
       "\n",
       "other attached packages:\n",
       "[1] clustermq_0.8.95.2 LeyLabRMisc_0.2.1  tidytable_0.6.6    data.table_1.14.2 \n",
       "[5] ggplot2_3.3.5      tidyr_1.1.4        dplyr_1.0.7       \n",
       "\n",
       "loaded via a namespace (and not attached):\n",
       " [1] Rcpp_1.0.7        plyr_1.8.6        pillar_1.6.4      compiler_4.1.1   \n",
       " [5] prettyunits_1.1.1 progress_1.2.2    base64enc_0.1-3   tools_4.1.1      \n",
       " [9] digest_0.6.29     uuid_1.0-3        jsonlite_1.7.2    evaluate_0.14    \n",
       "[13] lifecycle_1.0.1   tibble_3.1.6      gtable_0.3.0      pkgconfig_2.0.3  \n",
       "[17] rlang_0.4.12      IRdisplay_1.1     parallel_4.1.1    IRkernel_1.3     \n",
       "[21] fastmap_1.1.0     repr_1.1.4        withr_2.4.3       hms_1.1.1        \n",
       "[25] generics_0.1.1    vctrs_0.3.8       grid_4.1.1        tidyselect_1.1.1 \n",
       "[29] glue_1.6.0        R6_2.5.1          fansi_1.0.0       pbdZMQ_0.3-6     \n",
       "[33] purrr_0.3.4       magrittr_2.0.1    codetools_0.2-18  scales_1.1.1     \n",
       "[37] ellipsis_0.3.2    htmltools_0.5.2   colorspace_2.0-2  utf8_1.2.2       \n",
       "[41] munsell_0.5.0     crayon_1.4.2     "
      ]
     },
     "metadata": {},
     "output_type": "display_data"
    }
   ],
   "source": [
    "sessionInfo()"
   ]
  }
 ],
 "metadata": {
  "kernelspec": {
   "display_name": "R [conda env:general-tidyverse]",
   "language": "R",
   "name": "conda-env-general-tidyverse-r"
  },
  "language_info": {
   "codemirror_mode": "r",
   "file_extension": ".r",
   "mimetype": "text/x-r-source",
   "name": "R",
   "pygments_lexer": "r",
   "version": "4.1.1"
  },
  "notify_time": "30",
  "toc": {
   "base_numbering": 1,
   "nav_menu": {},
   "number_sections": true,
   "sideBar": true,
   "skip_h1_title": false,
   "title_cell": "Table of Contents",
   "title_sidebar": "Contents",
   "toc_cell": true,
   "toc_position": {},
   "toc_section_display": true,
   "toc_window_display": true
  }
 },
 "nbformat": 4,
 "nbformat_minor": 4
}
