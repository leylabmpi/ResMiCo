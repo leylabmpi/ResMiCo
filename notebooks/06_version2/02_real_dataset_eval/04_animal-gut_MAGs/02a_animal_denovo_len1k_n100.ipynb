{
 "cells": [
  {
   "cell_type": "markdown",
   "metadata": {
    "toc": true
   },
   "source": [
    "<h1>Table of Contents<span class=\"tocSkip\"></span></h1>\n",
    "<div class=\"toc\"><ul class=\"toc-item\"><li><span><a href=\"#Goal\" data-toc-modified-id=\"Goal-1\"><span class=\"toc-item-num\">1&nbsp;&nbsp;</span>Goal</a></span></li><li><span><a href=\"#Var\" data-toc-modified-id=\"Var-2\"><span class=\"toc-item-num\">2&nbsp;&nbsp;</span>Var</a></span></li><li><span><a href=\"#Init\" data-toc-modified-id=\"Init-3\"><span class=\"toc-item-num\">3&nbsp;&nbsp;</span>Init</a></span></li><li><span><a href=\"#Load\" data-toc-modified-id=\"Load-4\"><span class=\"toc-item-num\">4&nbsp;&nbsp;</span>Load</a></span><ul class=\"toc-item\"><li><ul class=\"toc-item\"><li><span><a href=\"#Checks\" data-toc-modified-id=\"Checks-4.0.1\"><span class=\"toc-item-num\">4.0.1&nbsp;&nbsp;</span>Checks</a></span></li></ul></li></ul></li><li><span><a href=\"#n100\" data-toc-modified-id=\"n100-5\"><span class=\"toc-item-num\">5&nbsp;&nbsp;</span>n100</a></span><ul class=\"toc-item\"><li><span><a href=\"#LLCOMP\" data-toc-modified-id=\"LLCOMP-5.1\"><span class=\"toc-item-num\">5.1&nbsp;&nbsp;</span>LLCOMP</a></span><ul class=\"toc-item\"><li><span><a href=\"#Config\" data-toc-modified-id=\"Config-5.1.1\"><span class=\"toc-item-num\">5.1.1&nbsp;&nbsp;</span>Config</a></span></li><li><span><a href=\"#Run\" data-toc-modified-id=\"Run-5.1.2\"><span class=\"toc-item-num\">5.1.2&nbsp;&nbsp;</span>Run</a></span></li></ul></li><li><span><a href=\"#Summary\" data-toc-modified-id=\"Summary-5.2\"><span class=\"toc-item-num\">5.2&nbsp;&nbsp;</span>Summary</a></span></li><li><span><a href=\"#LLMGA\" data-toc-modified-id=\"LLMGA-5.3\"><span class=\"toc-item-num\">5.3&nbsp;&nbsp;</span>LLMGA</a></span><ul class=\"toc-item\"><li><span><a href=\"#Config\" data-toc-modified-id=\"Config-5.3.1\"><span class=\"toc-item-num\">5.3.1&nbsp;&nbsp;</span>Config</a></span></li><li><span><a href=\"#Run\" data-toc-modified-id=\"Run-5.3.2\"><span class=\"toc-item-num\">5.3.2&nbsp;&nbsp;</span>Run</a></span></li></ul></li><li><span><a href=\"#Summary\" data-toc-modified-id=\"Summary-5.4\"><span class=\"toc-item-num\">5.4&nbsp;&nbsp;</span>Summary</a></span></li><li><span><a href=\"#ResMiCo-SM\" data-toc-modified-id=\"ResMiCo-SM-5.5\"><span class=\"toc-item-num\">5.5&nbsp;&nbsp;</span>ResMiCo-SM</a></span><ul class=\"toc-item\"><li><span><a href=\"#Config\" data-toc-modified-id=\"Config-5.5.1\"><span class=\"toc-item-num\">5.5.1&nbsp;&nbsp;</span>Config</a></span></li><li><span><a href=\"#Run\" data-toc-modified-id=\"Run-5.5.2\"><span class=\"toc-item-num\">5.5.2&nbsp;&nbsp;</span>Run</a></span></li></ul></li></ul></li><li><span><a href=\"#--WAITING--\" data-toc-modified-id=\"--WAITING---6\"><span class=\"toc-item-num\">6&nbsp;&nbsp;</span>--WAITING--</a></span></li><li><span><a href=\"#sessionInfo\" data-toc-modified-id=\"sessionInfo-7\"><span class=\"toc-item-num\">7&nbsp;&nbsp;</span>sessionInfo</a></span></li></ul></div>"
   ]
  },
  {
   "cell_type": "markdown",
   "metadata": {},
   "source": [
    "# Goal\n",
    "\n",
    "* Re-do de-novo assemblies, but use a contig length cutoff of 1000 bp\n",
    "* This will match the simulations that we've used\n",
    "* No. of samples: 100"
   ]
  },
  {
   "cell_type": "markdown",
   "metadata": {},
   "source": [
    "# Var"
   ]
  },
  {
   "cell_type": "code",
   "execution_count": 8,
   "metadata": {
    "ExecuteTime": {
     "end_time": "2022-04-30T12:32:53.233674Z",
     "start_time": "2022-04-30T12:32:50.823Z"
    }
   },
   "outputs": [],
   "source": [
    "work_dir = '/ebio/abt3_projects/databases_no-backup/DeepMAsED/version2/real_data_eval/animal-gut/len1k/n100r1/'\n",
    "\n",
    "# existing data\n",
    "asmbl_dir = '/ebio/abt3_projects/databases_no-backup/animal_gut_metagenomes/wOutVertebrata/MG_assembly_mam/LLMGA/'\n",
    "read_dir = '/ebio/abt3_projects/Georg_animal_feces/data/metagenome/HiSeqRuns126-133-0138/wOutVertebrata/LLMGQC/final/'\n",
    "\n",
    "# samples already processed\n",
    "samps_n30_file = '/ebio/abt3_scratch/nyoungblut/animal_gut/HiSeqRuns126-133-0138/n30/llcomp/samples_spring.tsv'\n",
    "\n",
    "# params\n",
    "threads = 8\n"
   ]
  },
  {
   "cell_type": "markdown",
   "metadata": {},
   "source": [
    "# Init"
   ]
  },
  {
   "cell_type": "code",
   "execution_count": 20,
   "metadata": {
    "ExecuteTime": {
     "end_time": "2022-04-30T12:34:36.276750Z",
     "start_time": "2022-04-30T12:34:33.853Z"
    }
   },
   "outputs": [],
   "source": [
    "library(dplyr)\n",
    "library(tidyr)\n",
    "library(ggplot2)\n",
    "library(data.table)\n",
    "library(tidytable)\n",
    "library(LeyLabRMisc)\n",
    "Init(threads=threads)"
   ]
  },
  {
   "cell_type": "markdown",
   "metadata": {},
   "source": [
    "# Load"
   ]
  },
  {
   "cell_type": "code",
   "execution_count": 21,
   "metadata": {
    "ExecuteTime": {
     "end_time": "2022-04-30T12:34:36.464339Z",
     "start_time": "2022-04-30T12:34:34.071Z"
    }
   },
   "outputs": [],
   "source": [
    "# parsing out sample from file path\n",
    "get_sample = function(x){\n",
    "    x %>% strsplit('/') %>% unlist %>% .[11]\n",
    "}"
   ]
  },
  {
   "cell_type": "code",
   "execution_count": 22,
   "metadata": {
    "ExecuteTime": {
     "end_time": "2022-04-30T12:34:37.239153Z",
     "start_time": "2022-04-30T12:34:34.179Z"
    }
   },
   "outputs": [
    {
     "data": {
      "text/html": [
       "<table class=\"dataframe\">\n",
       "<caption>A data.frame: 179 × 2</caption>\n",
       "<thead>\n",
       "\t<tr><th></th><th scope=col>Sample</th><th scope=col>Fasta</th></tr>\n",
       "\t<tr><th></th><th scope=col>&lt;chr&gt;</th><th scope=col>&lt;chr&gt;</th></tr>\n",
       "</thead>\n",
       "<tbody>\n",
       "\t<tr><th scope=row>/ebio/abt3_projects/databases_no-backup/animal_gut_metagenomes/wOutVertebrata/MG_assembly_mam/LLMGA//final_contigs/F42_Fallow_Deer/contigs.fna</th><td>F42_Fallow_Deer</td><td>/ebio/abt3_projects/databases_no-backup/animal_gut_metagenomes/wOutVertebrata/MG_assembly_mam/LLMGA//final_contigs/F42_Fallow_Deer/contigs.fna</td></tr>\n",
       "\t<tr><th scope=row>/ebio/abt3_projects/databases_no-backup/animal_gut_metagenomes/wOutVertebrata/MG_assembly_mam/LLMGA//final_contigs/F44_Fallow_Deer/contigs.fna</th><td>F44_Fallow_Deer</td><td>/ebio/abt3_projects/databases_no-backup/animal_gut_metagenomes/wOutVertebrata/MG_assembly_mam/LLMGA//final_contigs/F44_Fallow_Deer/contigs.fna</td></tr>\n",
       "\t<tr><th scope=row>⋮</th><td>⋮</td><td>⋮</td></tr>\n",
       "\t<tr><th scope=row>/ebio/abt3_projects/databases_no-backup/animal_gut_metagenomes/wOutVertebrata/MG_assembly_mam/LLMGA//final_contigs/X96_European_Hare/contigs.fna</th><td>X96_European_Hare        </td><td>/ebio/abt3_projects/databases_no-backup/animal_gut_metagenomes/wOutVertebrata/MG_assembly_mam/LLMGA//final_contigs/X96_European_Hare/contigs.fna        </td></tr>\n",
       "\t<tr><th scope=row>/ebio/abt3_projects/databases_no-backup/animal_gut_metagenomes/wOutVertebrata/MG_assembly_mam/LLMGA//final_contigs/X98_Eurasian_Red_Squirrel/contigs.fna</th><td>X98_Eurasian_Red_Squirrel</td><td>/ebio/abt3_projects/databases_no-backup/animal_gut_metagenomes/wOutVertebrata/MG_assembly_mam/LLMGA//final_contigs/X98_Eurasian_Red_Squirrel/contigs.fna</td></tr>\n",
       "</tbody>\n",
       "</table>\n"
      ],
      "text/latex": [
       "A data.frame: 179 × 2\n",
       "\\begin{tabular}{r|ll}\n",
       "  & Sample & Fasta\\\\\n",
       "  & <chr> & <chr>\\\\\n",
       "\\hline\n",
       "\t/ebio/abt3\\_projects/databases\\_no-backup/animal\\_gut\\_metagenomes/wOutVertebrata/MG\\_assembly\\_mam/LLMGA//final\\_contigs/F42\\_Fallow\\_Deer/contigs.fna & F42\\_Fallow\\_Deer & /ebio/abt3\\_projects/databases\\_no-backup/animal\\_gut\\_metagenomes/wOutVertebrata/MG\\_assembly\\_mam/LLMGA//final\\_contigs/F42\\_Fallow\\_Deer/contigs.fna\\\\\n",
       "\t/ebio/abt3\\_projects/databases\\_no-backup/animal\\_gut\\_metagenomes/wOutVertebrata/MG\\_assembly\\_mam/LLMGA//final\\_contigs/F44\\_Fallow\\_Deer/contigs.fna & F44\\_Fallow\\_Deer & /ebio/abt3\\_projects/databases\\_no-backup/animal\\_gut\\_metagenomes/wOutVertebrata/MG\\_assembly\\_mam/LLMGA//final\\_contigs/F44\\_Fallow\\_Deer/contigs.fna\\\\\n",
       "\t⋮ & ⋮ & ⋮\\\\\n",
       "\t/ebio/abt3\\_projects/databases\\_no-backup/animal\\_gut\\_metagenomes/wOutVertebrata/MG\\_assembly\\_mam/LLMGA//final\\_contigs/X96\\_European\\_Hare/contigs.fna & X96\\_European\\_Hare         & /ebio/abt3\\_projects/databases\\_no-backup/animal\\_gut\\_metagenomes/wOutVertebrata/MG\\_assembly\\_mam/LLMGA//final\\_contigs/X96\\_European\\_Hare/contigs.fna        \\\\\n",
       "\t/ebio/abt3\\_projects/databases\\_no-backup/animal\\_gut\\_metagenomes/wOutVertebrata/MG\\_assembly\\_mam/LLMGA//final\\_contigs/X98\\_Eurasian\\_Red\\_Squirrel/contigs.fna & X98\\_Eurasian\\_Red\\_Squirrel & /ebio/abt3\\_projects/databases\\_no-backup/animal\\_gut\\_metagenomes/wOutVertebrata/MG\\_assembly\\_mam/LLMGA//final\\_contigs/X98\\_Eurasian\\_Red\\_Squirrel/contigs.fna\\\\\n",
       "\\end{tabular}\n"
      ],
      "text/markdown": [
       "\n",
       "A data.frame: 179 × 2\n",
       "\n",
       "| <!--/--> | Sample &lt;chr&gt; | Fasta &lt;chr&gt; |\n",
       "|---|---|---|\n",
       "| /ebio/abt3_projects/databases_no-backup/animal_gut_metagenomes/wOutVertebrata/MG_assembly_mam/LLMGA//final_contigs/F42_Fallow_Deer/contigs.fna | F42_Fallow_Deer | /ebio/abt3_projects/databases_no-backup/animal_gut_metagenomes/wOutVertebrata/MG_assembly_mam/LLMGA//final_contigs/F42_Fallow_Deer/contigs.fna |\n",
       "| /ebio/abt3_projects/databases_no-backup/animal_gut_metagenomes/wOutVertebrata/MG_assembly_mam/LLMGA//final_contigs/F44_Fallow_Deer/contigs.fna | F44_Fallow_Deer | /ebio/abt3_projects/databases_no-backup/animal_gut_metagenomes/wOutVertebrata/MG_assembly_mam/LLMGA//final_contigs/F44_Fallow_Deer/contigs.fna |\n",
       "| ⋮ | ⋮ | ⋮ |\n",
       "| /ebio/abt3_projects/databases_no-backup/animal_gut_metagenomes/wOutVertebrata/MG_assembly_mam/LLMGA//final_contigs/X96_European_Hare/contigs.fna | X96_European_Hare         | /ebio/abt3_projects/databases_no-backup/animal_gut_metagenomes/wOutVertebrata/MG_assembly_mam/LLMGA//final_contigs/X96_European_Hare/contigs.fna         |\n",
       "| /ebio/abt3_projects/databases_no-backup/animal_gut_metagenomes/wOutVertebrata/MG_assembly_mam/LLMGA//final_contigs/X98_Eurasian_Red_Squirrel/contigs.fna | X98_Eurasian_Red_Squirrel | /ebio/abt3_projects/databases_no-backup/animal_gut_metagenomes/wOutVertebrata/MG_assembly_mam/LLMGA//final_contigs/X98_Eurasian_Red_Squirrel/contigs.fna |\n",
       "\n"
      ],
      "text/plain": [
       "                                                                                                                                                         Sample                   \n",
       "/ebio/abt3_projects/databases_no-backup/animal_gut_metagenomes/wOutVertebrata/MG_assembly_mam/LLMGA//final_contigs/F42_Fallow_Deer/contigs.fna           F42_Fallow_Deer          \n",
       "/ebio/abt3_projects/databases_no-backup/animal_gut_metagenomes/wOutVertebrata/MG_assembly_mam/LLMGA//final_contigs/F44_Fallow_Deer/contigs.fna           F44_Fallow_Deer          \n",
       "⋮                                                                                                                                                        ⋮                        \n",
       "/ebio/abt3_projects/databases_no-backup/animal_gut_metagenomes/wOutVertebrata/MG_assembly_mam/LLMGA//final_contigs/X96_European_Hare/contigs.fna         X96_European_Hare        \n",
       "/ebio/abt3_projects/databases_no-backup/animal_gut_metagenomes/wOutVertebrata/MG_assembly_mam/LLMGA//final_contigs/X98_Eurasian_Red_Squirrel/contigs.fna X98_Eurasian_Red_Squirrel\n",
       "                                                                                                                                                         Fasta                                                                                                                                                   \n",
       "/ebio/abt3_projects/databases_no-backup/animal_gut_metagenomes/wOutVertebrata/MG_assembly_mam/LLMGA//final_contigs/F42_Fallow_Deer/contigs.fna           /ebio/abt3_projects/databases_no-backup/animal_gut_metagenomes/wOutVertebrata/MG_assembly_mam/LLMGA//final_contigs/F42_Fallow_Deer/contigs.fna          \n",
       "/ebio/abt3_projects/databases_no-backup/animal_gut_metagenomes/wOutVertebrata/MG_assembly_mam/LLMGA//final_contigs/F44_Fallow_Deer/contigs.fna           /ebio/abt3_projects/databases_no-backup/animal_gut_metagenomes/wOutVertebrata/MG_assembly_mam/LLMGA//final_contigs/F44_Fallow_Deer/contigs.fna          \n",
       "⋮                                                                                                                                                        ⋮                                                                                                                                                       \n",
       "/ebio/abt3_projects/databases_no-backup/animal_gut_metagenomes/wOutVertebrata/MG_assembly_mam/LLMGA//final_contigs/X96_European_Hare/contigs.fna         /ebio/abt3_projects/databases_no-backup/animal_gut_metagenomes/wOutVertebrata/MG_assembly_mam/LLMGA//final_contigs/X96_European_Hare/contigs.fna        \n",
       "/ebio/abt3_projects/databases_no-backup/animal_gut_metagenomes/wOutVertebrata/MG_assembly_mam/LLMGA//final_contigs/X98_Eurasian_Red_Squirrel/contigs.fna /ebio/abt3_projects/databases_no-backup/animal_gut_metagenomes/wOutVertebrata/MG_assembly_mam/LLMGA//final_contigs/X98_Eurasian_Red_Squirrel/contigs.fna"
      ]
     },
     "metadata": {},
     "output_type": "display_data"
    }
   ],
   "source": [
    "# MAGs\n",
    "contigs = list_files(file.path(asmbl_dir, 'final_contigs'), 'contigs.fna')\n",
    "contigs = data.frame(\n",
    "    Sample = sapply(contigs, get_sample),\n",
    "    Fasta = contigs\n",
    ")\n",
    "contigs"
   ]
  },
  {
   "cell_type": "code",
   "execution_count": 23,
   "metadata": {
    "ExecuteTime": {
     "end_time": "2022-04-30T12:34:37.278894Z",
     "start_time": "2022-04-30T12:34:34.315Z"
    }
   },
   "outputs": [
    {
     "data": {
      "text/html": [
       "<table class=\"dataframe\">\n",
       "<caption>A data.table: 324 × 4</caption>\n",
       "<thead>\n",
       "\t<tr><th scope=col>Sample</th><th scope=col>Reads</th><th scope=col>Paired</th><th scope=col>Notes</th></tr>\n",
       "\t<tr><th scope=col>&lt;chr&gt;</th><th scope=col>&lt;chr&gt;</th><th scope=col>&lt;lgl&gt;</th><th scope=col>&lt;lgl&gt;</th></tr>\n",
       "</thead>\n",
       "<tbody>\n",
       "\t<tr><td>X101_Horse      </td><td>/ebio/abt3_projects/Georg_animal_feces/data/metagenome/HiSeqRuns126-133-0138/wOutVertebrata/LLMGQC/final/X101_Horse/R1-R2_final.spring      </td><td>TRUE</td><td>NA</td></tr>\n",
       "\t<tr><td>X107_House_Mouse</td><td>/ebio/abt3_projects/Georg_animal_feces/data/metagenome/HiSeqRuns126-133-0138/wOutVertebrata/LLMGQC/final/X107_House_Mouse/R1-R2_final.spring</td><td>TRUE</td><td>NA</td></tr>\n",
       "\t<tr><td>⋮</td><td>⋮</td><td>⋮</td><td>⋮</td></tr>\n",
       "\t<tr><td>X92_Lesser_White_toothed_Shrew</td><td>/ebio/abt3_projects/Georg_animal_feces/data/metagenome/HiSeqRuns126-133-0138/wOutVertebrata/LLMGQC/final/X92_Lesser_White_toothed_Shrew/R1-R2_final.spring</td><td>TRUE</td><td>NA</td></tr>\n",
       "\t<tr><td>X93_Red_Sheep                 </td><td>/ebio/abt3_projects/Georg_animal_feces/data/metagenome/HiSeqRuns126-133-0138/wOutVertebrata/LLMGQC/final/X93_Red_Sheep/R1-R2_final.spring                 </td><td>TRUE</td><td>NA</td></tr>\n",
       "</tbody>\n",
       "</table>\n"
      ],
      "text/latex": [
       "A data.table: 324 × 4\n",
       "\\begin{tabular}{llll}\n",
       " Sample & Reads & Paired & Notes\\\\\n",
       " <chr> & <chr> & <lgl> & <lgl>\\\\\n",
       "\\hline\n",
       "\t X101\\_Horse       & /ebio/abt3\\_projects/Georg\\_animal\\_feces/data/metagenome/HiSeqRuns126-133-0138/wOutVertebrata/LLMGQC/final/X101\\_Horse/R1-R2\\_final.spring       & TRUE & NA\\\\\n",
       "\t X107\\_House\\_Mouse & /ebio/abt3\\_projects/Georg\\_animal\\_feces/data/metagenome/HiSeqRuns126-133-0138/wOutVertebrata/LLMGQC/final/X107\\_House\\_Mouse/R1-R2\\_final.spring & TRUE & NA\\\\\n",
       "\t ⋮ & ⋮ & ⋮ & ⋮\\\\\n",
       "\t X92\\_Lesser\\_White\\_toothed\\_Shrew & /ebio/abt3\\_projects/Georg\\_animal\\_feces/data/metagenome/HiSeqRuns126-133-0138/wOutVertebrata/LLMGQC/final/X92\\_Lesser\\_White\\_toothed\\_Shrew/R1-R2\\_final.spring & TRUE & NA\\\\\n",
       "\t X93\\_Red\\_Sheep                  & /ebio/abt3\\_projects/Georg\\_animal\\_feces/data/metagenome/HiSeqRuns126-133-0138/wOutVertebrata/LLMGQC/final/X93\\_Red\\_Sheep/R1-R2\\_final.spring                  & TRUE & NA\\\\\n",
       "\\end{tabular}\n"
      ],
      "text/markdown": [
       "\n",
       "A data.table: 324 × 4\n",
       "\n",
       "| Sample &lt;chr&gt; | Reads &lt;chr&gt; | Paired &lt;lgl&gt; | Notes &lt;lgl&gt; |\n",
       "|---|---|---|---|\n",
       "| X101_Horse       | /ebio/abt3_projects/Georg_animal_feces/data/metagenome/HiSeqRuns126-133-0138/wOutVertebrata/LLMGQC/final/X101_Horse/R1-R2_final.spring       | TRUE | NA |\n",
       "| X107_House_Mouse | /ebio/abt3_projects/Georg_animal_feces/data/metagenome/HiSeqRuns126-133-0138/wOutVertebrata/LLMGQC/final/X107_House_Mouse/R1-R2_final.spring | TRUE | NA |\n",
       "| ⋮ | ⋮ | ⋮ | ⋮ |\n",
       "| X92_Lesser_White_toothed_Shrew | /ebio/abt3_projects/Georg_animal_feces/data/metagenome/HiSeqRuns126-133-0138/wOutVertebrata/LLMGQC/final/X92_Lesser_White_toothed_Shrew/R1-R2_final.spring | TRUE | NA |\n",
       "| X93_Red_Sheep                  | /ebio/abt3_projects/Georg_animal_feces/data/metagenome/HiSeqRuns126-133-0138/wOutVertebrata/LLMGQC/final/X93_Red_Sheep/R1-R2_final.spring                  | TRUE | NA |\n",
       "\n"
      ],
      "text/plain": [
       "    Sample                        \n",
       "1   X101_Horse                    \n",
       "2   X107_House_Mouse              \n",
       "⋮   ⋮                             \n",
       "323 X92_Lesser_White_toothed_Shrew\n",
       "324 X93_Red_Sheep                 \n",
       "    Reads                                                                                                                                                     \n",
       "1   /ebio/abt3_projects/Georg_animal_feces/data/metagenome/HiSeqRuns126-133-0138/wOutVertebrata/LLMGQC/final/X101_Horse/R1-R2_final.spring                    \n",
       "2   /ebio/abt3_projects/Georg_animal_feces/data/metagenome/HiSeqRuns126-133-0138/wOutVertebrata/LLMGQC/final/X107_House_Mouse/R1-R2_final.spring              \n",
       "⋮   ⋮                                                                                                                                                         \n",
       "323 /ebio/abt3_projects/Georg_animal_feces/data/metagenome/HiSeqRuns126-133-0138/wOutVertebrata/LLMGQC/final/X92_Lesser_White_toothed_Shrew/R1-R2_final.spring\n",
       "324 /ebio/abt3_projects/Georg_animal_feces/data/metagenome/HiSeqRuns126-133-0138/wOutVertebrata/LLMGQC/final/X93_Red_Sheep/R1-R2_final.spring                 \n",
       "    Paired Notes\n",
       "1   TRUE   NA   \n",
       "2   TRUE   NA   \n",
       "⋮   ⋮      ⋮    \n",
       "323 TRUE   NA   \n",
       "324 TRUE   NA   "
      ]
     },
     "metadata": {},
     "output_type": "display_data"
    }
   ],
   "source": [
    "# reads\n",
    "F = file.path(read_dir, 'samples_spring.txt')\n",
    "reads = Fread(F)\n",
    "reads"
   ]
  },
  {
   "cell_type": "code",
   "execution_count": 24,
   "metadata": {
    "ExecuteTime": {
     "end_time": "2022-04-30T12:34:37.318344Z",
     "start_time": "2022-04-30T12:34:34.436Z"
    }
   },
   "outputs": [
    {
     "data": {
      "text/html": [
       "<table class=\"dataframe\">\n",
       "<caption>A data.table: 30 × 4</caption>\n",
       "<thead>\n",
       "\t<tr><th scope=col>Sample</th><th scope=col>Reads</th><th scope=col>Paired</th><th scope=col>Notes</th></tr>\n",
       "\t<tr><th scope=col>&lt;chr&gt;</th><th scope=col>&lt;chr&gt;</th><th scope=col>&lt;lgl&gt;</th><th scope=col>&lt;lgl&gt;</th></tr>\n",
       "</thead>\n",
       "<tbody>\n",
       "\t<tr><td>X411_Leopard       </td><td>/ebio/abt3_projects/Georg_animal_feces/data/metagenome/HiSeqRuns126-133-0138/wOutVertebrata/LLMGQC/final/X411_Leopard/R1-R2_final.spring       </td><td>TRUE</td><td>NA</td></tr>\n",
       "\t<tr><td>X43_European_Badger</td><td>/ebio/abt3_projects/Georg_animal_feces/data/metagenome/HiSeqRuns126-133-0138/wOutVertebrata/LLMGQC/final/X43_European_Badger/R1-R2_final.spring</td><td>TRUE</td><td>NA</td></tr>\n",
       "\t<tr><td>⋮</td><td>⋮</td><td>⋮</td><td>⋮</td></tr>\n",
       "\t<tr><td>X424_Quagga             </td><td>/ebio/abt3_projects/Georg_animal_feces/data/metagenome/HiSeqRuns126-133-0138/wOutVertebrata/LLMGQC/final/X424_Quagga/R1-R2_final.spring             </td><td>TRUE</td><td>NA</td></tr>\n",
       "\t<tr><td>X361_fail_Common_Opossum</td><td>/ebio/abt3_projects/Georg_animal_feces/data/metagenome/HiSeqRuns126-133-0138/wOutVertebrata/LLMGQC/final/X361_fail_Common_Opossum/R1-R2_final.spring</td><td>TRUE</td><td>NA</td></tr>\n",
       "</tbody>\n",
       "</table>\n"
      ],
      "text/latex": [
       "A data.table: 30 × 4\n",
       "\\begin{tabular}{llll}\n",
       " Sample & Reads & Paired & Notes\\\\\n",
       " <chr> & <chr> & <lgl> & <lgl>\\\\\n",
       "\\hline\n",
       "\t X411\\_Leopard        & /ebio/abt3\\_projects/Georg\\_animal\\_feces/data/metagenome/HiSeqRuns126-133-0138/wOutVertebrata/LLMGQC/final/X411\\_Leopard/R1-R2\\_final.spring        & TRUE & NA\\\\\n",
       "\t X43\\_European\\_Badger & /ebio/abt3\\_projects/Georg\\_animal\\_feces/data/metagenome/HiSeqRuns126-133-0138/wOutVertebrata/LLMGQC/final/X43\\_European\\_Badger/R1-R2\\_final.spring & TRUE & NA\\\\\n",
       "\t ⋮ & ⋮ & ⋮ & ⋮\\\\\n",
       "\t X424\\_Quagga              & /ebio/abt3\\_projects/Georg\\_animal\\_feces/data/metagenome/HiSeqRuns126-133-0138/wOutVertebrata/LLMGQC/final/X424\\_Quagga/R1-R2\\_final.spring              & TRUE & NA\\\\\n",
       "\t X361\\_fail\\_Common\\_Opossum & /ebio/abt3\\_projects/Georg\\_animal\\_feces/data/metagenome/HiSeqRuns126-133-0138/wOutVertebrata/LLMGQC/final/X361\\_fail\\_Common\\_Opossum/R1-R2\\_final.spring & TRUE & NA\\\\\n",
       "\\end{tabular}\n"
      ],
      "text/markdown": [
       "\n",
       "A data.table: 30 × 4\n",
       "\n",
       "| Sample &lt;chr&gt; | Reads &lt;chr&gt; | Paired &lt;lgl&gt; | Notes &lt;lgl&gt; |\n",
       "|---|---|---|---|\n",
       "| X411_Leopard        | /ebio/abt3_projects/Georg_animal_feces/data/metagenome/HiSeqRuns126-133-0138/wOutVertebrata/LLMGQC/final/X411_Leopard/R1-R2_final.spring        | TRUE | NA |\n",
       "| X43_European_Badger | /ebio/abt3_projects/Georg_animal_feces/data/metagenome/HiSeqRuns126-133-0138/wOutVertebrata/LLMGQC/final/X43_European_Badger/R1-R2_final.spring | TRUE | NA |\n",
       "| ⋮ | ⋮ | ⋮ | ⋮ |\n",
       "| X424_Quagga              | /ebio/abt3_projects/Georg_animal_feces/data/metagenome/HiSeqRuns126-133-0138/wOutVertebrata/LLMGQC/final/X424_Quagga/R1-R2_final.spring              | TRUE | NA |\n",
       "| X361_fail_Common_Opossum | /ebio/abt3_projects/Georg_animal_feces/data/metagenome/HiSeqRuns126-133-0138/wOutVertebrata/LLMGQC/final/X361_fail_Common_Opossum/R1-R2_final.spring | TRUE | NA |\n",
       "\n"
      ],
      "text/plain": [
       "   Sample                  \n",
       "1  X411_Leopard            \n",
       "2  X43_European_Badger     \n",
       "⋮  ⋮                       \n",
       "29 X424_Quagga             \n",
       "30 X361_fail_Common_Opossum\n",
       "   Reads                                                                                                                                               \n",
       "1  /ebio/abt3_projects/Georg_animal_feces/data/metagenome/HiSeqRuns126-133-0138/wOutVertebrata/LLMGQC/final/X411_Leopard/R1-R2_final.spring            \n",
       "2  /ebio/abt3_projects/Georg_animal_feces/data/metagenome/HiSeqRuns126-133-0138/wOutVertebrata/LLMGQC/final/X43_European_Badger/R1-R2_final.spring     \n",
       "⋮  ⋮                                                                                                                                                   \n",
       "29 /ebio/abt3_projects/Georg_animal_feces/data/metagenome/HiSeqRuns126-133-0138/wOutVertebrata/LLMGQC/final/X424_Quagga/R1-R2_final.spring             \n",
       "30 /ebio/abt3_projects/Georg_animal_feces/data/metagenome/HiSeqRuns126-133-0138/wOutVertebrata/LLMGQC/final/X361_fail_Common_Opossum/R1-R2_final.spring\n",
       "   Paired Notes\n",
       "1  TRUE   NA   \n",
       "2  TRUE   NA   \n",
       "⋮  ⋮      ⋮    \n",
       "29 TRUE   NA   \n",
       "30 TRUE   NA   "
      ]
     },
     "metadata": {},
     "output_type": "display_data"
    }
   ],
   "source": [
    "# already processed samples\n",
    "samps_n30 = Fread(samps_n30_file)\n",
    "samps_n30"
   ]
  },
  {
   "cell_type": "markdown",
   "metadata": {},
   "source": [
    "### Checks"
   ]
  },
  {
   "cell_type": "code",
   "execution_count": 25,
   "metadata": {
    "ExecuteTime": {
     "end_time": "2022-04-30T12:34:39.383772Z",
     "start_time": "2022-04-30T12:34:36.975Z"
    }
   },
   "outputs": [
    {
     "name": "stdout",
     "output_type": "stream",
     "text": [
      "intersect(x,y): 176 \n",
      "setdiff(x,y): 3 \n",
      "setdiff(y,x): 148 \n",
      "union(x,y): 327 \n"
     ]
    }
   ],
   "source": [
    "overlap(contigs$Sample, reads$Sample)"
   ]
  },
  {
   "cell_type": "code",
   "execution_count": 26,
   "metadata": {
    "ExecuteTime": {
     "end_time": "2022-04-30T12:34:40.114370Z",
     "start_time": "2022-04-30T12:34:37.711Z"
    }
   },
   "outputs": [
    {
     "name": "stdout",
     "output_type": "stream",
     "text": [
      "intersect(x,y): 30 \n",
      "setdiff(x,y): 0 \n",
      "setdiff(y,x): 149 \n",
      "union(x,y): 179 \n",
      "---\n",
      "intersect(x,y): 176 \n",
      "setdiff(x,y): 148 \n",
      "setdiff(y,x): 3 \n",
      "union(x,y): 327 \n"
     ]
    }
   ],
   "source": [
    "overlap(samps_n30$Sample, contigs$Sample)\n",
    "cat('---\\n')\n",
    "overlap(reads$Sample, contigs$Sample)"
   ]
  },
  {
   "cell_type": "code",
   "execution_count": 27,
   "metadata": {
    "ExecuteTime": {
     "end_time": "2022-04-30T12:34:41.005959Z",
     "start_time": "2022-04-30T12:34:38.578Z"
    }
   },
   "outputs": [
    {
     "data": {
      "text/html": [
       "<table class=\"dataframe\">\n",
       "<caption>A tidytable: 146 × 4</caption>\n",
       "<thead>\n",
       "\t<tr><th scope=col>Sample</th><th scope=col>Reads</th><th scope=col>Paired</th><th scope=col>Notes</th></tr>\n",
       "\t<tr><th scope=col>&lt;chr&gt;</th><th scope=col>&lt;chr&gt;</th><th scope=col>&lt;lgl&gt;</th><th scope=col>&lt;lgl&gt;</th></tr>\n",
       "</thead>\n",
       "<tbody>\n",
       "\t<tr><td>X101_Horse      </td><td>/ebio/abt3_projects/Georg_animal_feces/data/metagenome/HiSeqRuns126-133-0138/wOutVertebrata/LLMGQC/final/X101_Horse/R1-R2_final.spring      </td><td>TRUE</td><td>NA</td></tr>\n",
       "\t<tr><td>X107_House_Mouse</td><td>/ebio/abt3_projects/Georg_animal_feces/data/metagenome/HiSeqRuns126-133-0138/wOutVertebrata/LLMGQC/final/X107_House_Mouse/R1-R2_final.spring</td><td>TRUE</td><td>NA</td></tr>\n",
       "\t<tr><td>⋮</td><td>⋮</td><td>⋮</td><td>⋮</td></tr>\n",
       "\t<tr><td>X402_fail_Blue_Wildebeest     </td><td>/ebio/abt3_projects/Georg_animal_feces/data/metagenome/HiSeqRuns126-133-0138/wOutVertebrata/LLMGQC/final/X402_fail_Blue_Wildebeest/R1-R2_final.spring     </td><td>TRUE</td><td>NA</td></tr>\n",
       "\t<tr><td>X92_Lesser_White_toothed_Shrew</td><td>/ebio/abt3_projects/Georg_animal_feces/data/metagenome/HiSeqRuns126-133-0138/wOutVertebrata/LLMGQC/final/X92_Lesser_White_toothed_Shrew/R1-R2_final.spring</td><td>TRUE</td><td>NA</td></tr>\n",
       "</tbody>\n",
       "</table>\n"
      ],
      "text/latex": [
       "A tidytable: 146 × 4\n",
       "\\begin{tabular}{llll}\n",
       " Sample & Reads & Paired & Notes\\\\\n",
       " <chr> & <chr> & <lgl> & <lgl>\\\\\n",
       "\\hline\n",
       "\t X101\\_Horse       & /ebio/abt3\\_projects/Georg\\_animal\\_feces/data/metagenome/HiSeqRuns126-133-0138/wOutVertebrata/LLMGQC/final/X101\\_Horse/R1-R2\\_final.spring       & TRUE & NA\\\\\n",
       "\t X107\\_House\\_Mouse & /ebio/abt3\\_projects/Georg\\_animal\\_feces/data/metagenome/HiSeqRuns126-133-0138/wOutVertebrata/LLMGQC/final/X107\\_House\\_Mouse/R1-R2\\_final.spring & TRUE & NA\\\\\n",
       "\t ⋮ & ⋮ & ⋮ & ⋮\\\\\n",
       "\t X402\\_fail\\_Blue\\_Wildebeest      & /ebio/abt3\\_projects/Georg\\_animal\\_feces/data/metagenome/HiSeqRuns126-133-0138/wOutVertebrata/LLMGQC/final/X402\\_fail\\_Blue\\_Wildebeest/R1-R2\\_final.spring      & TRUE & NA\\\\\n",
       "\t X92\\_Lesser\\_White\\_toothed\\_Shrew & /ebio/abt3\\_projects/Georg\\_animal\\_feces/data/metagenome/HiSeqRuns126-133-0138/wOutVertebrata/LLMGQC/final/X92\\_Lesser\\_White\\_toothed\\_Shrew/R1-R2\\_final.spring & TRUE & NA\\\\\n",
       "\\end{tabular}\n"
      ],
      "text/markdown": [
       "\n",
       "A tidytable: 146 × 4\n",
       "\n",
       "| Sample &lt;chr&gt; | Reads &lt;chr&gt; | Paired &lt;lgl&gt; | Notes &lt;lgl&gt; |\n",
       "|---|---|---|---|\n",
       "| X101_Horse       | /ebio/abt3_projects/Georg_animal_feces/data/metagenome/HiSeqRuns126-133-0138/wOutVertebrata/LLMGQC/final/X101_Horse/R1-R2_final.spring       | TRUE | NA |\n",
       "| X107_House_Mouse | /ebio/abt3_projects/Georg_animal_feces/data/metagenome/HiSeqRuns126-133-0138/wOutVertebrata/LLMGQC/final/X107_House_Mouse/R1-R2_final.spring | TRUE | NA |\n",
       "| ⋮ | ⋮ | ⋮ | ⋮ |\n",
       "| X402_fail_Blue_Wildebeest      | /ebio/abt3_projects/Georg_animal_feces/data/metagenome/HiSeqRuns126-133-0138/wOutVertebrata/LLMGQC/final/X402_fail_Blue_Wildebeest/R1-R2_final.spring      | TRUE | NA |\n",
       "| X92_Lesser_White_toothed_Shrew | /ebio/abt3_projects/Georg_animal_feces/data/metagenome/HiSeqRuns126-133-0138/wOutVertebrata/LLMGQC/final/X92_Lesser_White_toothed_Shrew/R1-R2_final.spring | TRUE | NA |\n",
       "\n"
      ],
      "text/plain": [
       "    Sample                        \n",
       "1   X101_Horse                    \n",
       "2   X107_House_Mouse              \n",
       "⋮   ⋮                             \n",
       "145 X402_fail_Blue_Wildebeest     \n",
       "146 X92_Lesser_White_toothed_Shrew\n",
       "    Reads                                                                                                                                                     \n",
       "1   /ebio/abt3_projects/Georg_animal_feces/data/metagenome/HiSeqRuns126-133-0138/wOutVertebrata/LLMGQC/final/X101_Horse/R1-R2_final.spring                    \n",
       "2   /ebio/abt3_projects/Georg_animal_feces/data/metagenome/HiSeqRuns126-133-0138/wOutVertebrata/LLMGQC/final/X107_House_Mouse/R1-R2_final.spring              \n",
       "⋮   ⋮                                                                                                                                                         \n",
       "145 /ebio/abt3_projects/Georg_animal_feces/data/metagenome/HiSeqRuns126-133-0138/wOutVertebrata/LLMGQC/final/X402_fail_Blue_Wildebeest/R1-R2_final.spring     \n",
       "146 /ebio/abt3_projects/Georg_animal_feces/data/metagenome/HiSeqRuns126-133-0138/wOutVertebrata/LLMGQC/final/X92_Lesser_White_toothed_Shrew/R1-R2_final.spring\n",
       "    Paired Notes\n",
       "1   TRUE   NA   \n",
       "2   TRUE   NA   \n",
       "⋮   ⋮      ⋮    \n",
       "145 TRUE   NA   \n",
       "146 TRUE   NA   "
      ]
     },
     "metadata": {},
     "output_type": "display_data"
    }
   ],
   "source": [
    "# filtering reads\n",
    "reads = reads %>%\n",
    "    semi_join.(contigs, c('Sample')) %>%\n",
    "    anti_join.(samps_n30, c('Sample'))\n",
    "reads"
   ]
  },
  {
   "cell_type": "markdown",
   "metadata": {},
   "source": [
    "# n100"
   ]
  },
  {
   "cell_type": "code",
   "execution_count": 28,
   "metadata": {
    "ExecuteTime": {
     "end_time": "2022-04-30T12:34:49.475932Z",
     "start_time": "2022-04-30T12:34:47.034Z"
    }
   },
   "outputs": [
    {
     "data": {
      "text/html": [
       "<table class=\"dataframe\">\n",
       "<caption>A tidytable: 100 × 4</caption>\n",
       "<thead>\n",
       "\t<tr><th scope=col>Sample</th><th scope=col>Reads</th><th scope=col>Paired</th><th scope=col>Notes</th></tr>\n",
       "\t<tr><th scope=col>&lt;chr&gt;</th><th scope=col>&lt;chr&gt;</th><th scope=col>&lt;lgl&gt;</th><th scope=col>&lt;lgl&gt;</th></tr>\n",
       "</thead>\n",
       "<tbody>\n",
       "\t<tr><td>X261_fail_Common_Pipistrelle</td><td>/ebio/abt3_projects/Georg_animal_feces/data/metagenome/HiSeqRuns126-133-0138/wOutVertebrata/LLMGQC/final/X261_fail_Common_Pipistrelle/R1-R2_final.spring</td><td>TRUE</td><td>NA</td></tr>\n",
       "\t<tr><td>X239_Delacours_Langur       </td><td>/ebio/abt3_projects/Georg_animal_feces/data/metagenome/HiSeqRuns126-133-0138/wOutVertebrata/LLMGQC/final/X239_Delacours_Langur/R1-R2_final.spring       </td><td>TRUE</td><td>NA</td></tr>\n",
       "\t<tr><td>⋮</td><td>⋮</td><td>⋮</td><td>⋮</td></tr>\n",
       "\t<tr><td>X76_European_Polecat          </td><td>/ebio/abt3_projects/Georg_animal_feces/data/metagenome/HiSeqRuns126-133-0138/wOutVertebrata/LLMGQC/final/X76_European_Polecat/R1-R2_final.spring          </td><td>TRUE</td><td>NA</td></tr>\n",
       "\t<tr><td>X248_Yellow_necked_Field_Mouse</td><td>/ebio/abt3_projects/Georg_animal_feces/data/metagenome/HiSeqRuns126-133-0138/wOutVertebrata/LLMGQC/final/X248_Yellow_necked_Field_Mouse/R1-R2_final.spring</td><td>TRUE</td><td>NA</td></tr>\n",
       "</tbody>\n",
       "</table>\n"
      ],
      "text/latex": [
       "A tidytable: 100 × 4\n",
       "\\begin{tabular}{llll}\n",
       " Sample & Reads & Paired & Notes\\\\\n",
       " <chr> & <chr> & <lgl> & <lgl>\\\\\n",
       "\\hline\n",
       "\t X261\\_fail\\_Common\\_Pipistrelle & /ebio/abt3\\_projects/Georg\\_animal\\_feces/data/metagenome/HiSeqRuns126-133-0138/wOutVertebrata/LLMGQC/final/X261\\_fail\\_Common\\_Pipistrelle/R1-R2\\_final.spring & TRUE & NA\\\\\n",
       "\t X239\\_Delacours\\_Langur        & /ebio/abt3\\_projects/Georg\\_animal\\_feces/data/metagenome/HiSeqRuns126-133-0138/wOutVertebrata/LLMGQC/final/X239\\_Delacours\\_Langur/R1-R2\\_final.spring        & TRUE & NA\\\\\n",
       "\t ⋮ & ⋮ & ⋮ & ⋮\\\\\n",
       "\t X76\\_European\\_Polecat           & /ebio/abt3\\_projects/Georg\\_animal\\_feces/data/metagenome/HiSeqRuns126-133-0138/wOutVertebrata/LLMGQC/final/X76\\_European\\_Polecat/R1-R2\\_final.spring           & TRUE & NA\\\\\n",
       "\t X248\\_Yellow\\_necked\\_Field\\_Mouse & /ebio/abt3\\_projects/Georg\\_animal\\_feces/data/metagenome/HiSeqRuns126-133-0138/wOutVertebrata/LLMGQC/final/X248\\_Yellow\\_necked\\_Field\\_Mouse/R1-R2\\_final.spring & TRUE & NA\\\\\n",
       "\\end{tabular}\n"
      ],
      "text/markdown": [
       "\n",
       "A tidytable: 100 × 4\n",
       "\n",
       "| Sample &lt;chr&gt; | Reads &lt;chr&gt; | Paired &lt;lgl&gt; | Notes &lt;lgl&gt; |\n",
       "|---|---|---|---|\n",
       "| X261_fail_Common_Pipistrelle | /ebio/abt3_projects/Georg_animal_feces/data/metagenome/HiSeqRuns126-133-0138/wOutVertebrata/LLMGQC/final/X261_fail_Common_Pipistrelle/R1-R2_final.spring | TRUE | NA |\n",
       "| X239_Delacours_Langur        | /ebio/abt3_projects/Georg_animal_feces/data/metagenome/HiSeqRuns126-133-0138/wOutVertebrata/LLMGQC/final/X239_Delacours_Langur/R1-R2_final.spring        | TRUE | NA |\n",
       "| ⋮ | ⋮ | ⋮ | ⋮ |\n",
       "| X76_European_Polecat           | /ebio/abt3_projects/Georg_animal_feces/data/metagenome/HiSeqRuns126-133-0138/wOutVertebrata/LLMGQC/final/X76_European_Polecat/R1-R2_final.spring           | TRUE | NA |\n",
       "| X248_Yellow_necked_Field_Mouse | /ebio/abt3_projects/Georg_animal_feces/data/metagenome/HiSeqRuns126-133-0138/wOutVertebrata/LLMGQC/final/X248_Yellow_necked_Field_Mouse/R1-R2_final.spring | TRUE | NA |\n",
       "\n"
      ],
      "text/plain": [
       "    Sample                        \n",
       "1   X261_fail_Common_Pipistrelle  \n",
       "2   X239_Delacours_Langur         \n",
       "⋮   ⋮                             \n",
       "99  X76_European_Polecat          \n",
       "100 X248_Yellow_necked_Field_Mouse\n",
       "    Reads                                                                                                                                                     \n",
       "1   /ebio/abt3_projects/Georg_animal_feces/data/metagenome/HiSeqRuns126-133-0138/wOutVertebrata/LLMGQC/final/X261_fail_Common_Pipistrelle/R1-R2_final.spring  \n",
       "2   /ebio/abt3_projects/Georg_animal_feces/data/metagenome/HiSeqRuns126-133-0138/wOutVertebrata/LLMGQC/final/X239_Delacours_Langur/R1-R2_final.spring         \n",
       "⋮   ⋮                                                                                                                                                         \n",
       "99  /ebio/abt3_projects/Georg_animal_feces/data/metagenome/HiSeqRuns126-133-0138/wOutVertebrata/LLMGQC/final/X76_European_Polecat/R1-R2_final.spring          \n",
       "100 /ebio/abt3_projects/Georg_animal_feces/data/metagenome/HiSeqRuns126-133-0138/wOutVertebrata/LLMGQC/final/X248_Yellow_necked_Field_Mouse/R1-R2_final.spring\n",
       "    Paired Notes\n",
       "1   TRUE   NA   \n",
       "2   TRUE   NA   \n",
       "⋮   ⋮      ⋮    \n",
       "99  TRUE   NA   \n",
       "100 TRUE   NA   "
      ]
     },
     "metadata": {},
     "output_type": "display_data"
    }
   ],
   "source": [
    "reads_f = reads %>%\n",
    "    slice_sample.(n=100)\n",
    "reads_f"
   ]
  },
  {
   "cell_type": "code",
   "execution_count": 29,
   "metadata": {
    "ExecuteTime": {
     "end_time": "2022-04-30T12:35:17.868967Z",
     "start_time": "2022-04-30T12:35:15.452Z"
    }
   },
   "outputs": [
    {
     "name": "stdout",
     "output_type": "stream",
     "text": [
      "Created directory: /ebio/abt3_scratch/nyoungblut/animal_gut/HiSeqRuns126-133-0138/n100/ \n",
      "Created directory: /ebio/abt3_scratch/nyoungblut/animal_gut/HiSeqRuns126-133-0138/n100//llcomp \n"
     ]
    }
   ],
   "source": [
    "D = '/ebio/abt3_scratch/nyoungblut/animal_gut/HiSeqRuns126-133-0138/n100/'\n",
    "make_dir(D)\n",
    "D = file.path(D, 'llcomp')\n",
    "make_dir(D)"
   ]
  },
  {
   "cell_type": "code",
   "execution_count": 30,
   "metadata": {
    "ExecuteTime": {
     "end_time": "2022-04-30T12:35:23.618512Z",
     "start_time": "2022-04-30T12:35:21.212Z"
    }
   },
   "outputs": [
    {
     "name": "stdout",
     "output_type": "stream",
     "text": [
      "File written: /ebio/abt3_scratch/nyoungblut/animal_gut/HiSeqRuns126-133-0138/n100//llcomp/samples_spring.tsv \n"
     ]
    }
   ],
   "source": [
    "# writing table\n",
    "F = file.path(D, 'samples_spring.tsv')\n",
    "write_table(reads_f, F)"
   ]
  },
  {
   "cell_type": "markdown",
   "metadata": {},
   "source": [
    "## LLCOMP"
   ]
  },
  {
   "cell_type": "markdown",
   "metadata": {},
   "source": [
    "### Config"
   ]
  },
  {
   "cell_type": "code",
   "execution_count": 32,
   "metadata": {
    "ExecuteTime": {
     "end_time": "2022-04-30T12:37:20.729599Z",
     "start_time": "2022-04-30T12:37:18.313Z"
    }
   },
   "outputs": [
    {
     "name": "stdout",
     "output_type": "stream",
     "text": [
      "# Input table with sample <-> read_file information\n",
      "samples_file: /ebio/abt3_scratch/nyoungblut/animal_gut/HiSeqRuns126-133-0138/n100/llcomp/samples_spring.tsv\n",
      "\n",
      "# Output location (can be the same as input)\n",
      "output_dir: /ebio/abt3_scratch/nyoungblut/animal_gut/HiSeqRuns126-133-0138/n100/llcomp/\n",
      "\n",
      "# temporary file directory (your username will be added automatically)\n",
      "tmp_dir: /ebio/abt3_scratch/\n",
      "\n",
      "# If input are *.spring, are they paired-end reads (or single)?\n",
      "spring_files_paired: True\n",
      "\n",
      "# Remove input read files?\n",
      "rm_input_reads: False\n",
      "\n",
      "# ionice for reducing I/O loads (use \"-c 2\" for normal usage)\n",
      "ionice: -c 3\n",
      "\n",
      "# pipeline params\n",
      "pipeline:\n",
      "  snakemake_folder: ./\n",
      "  script_folder: ./bin/scripts/\n",
      "  name: LLCOMP"
     ]
    }
   ],
   "source": [
    "F = file.path(D, 'config.yaml')\n",
    "cat_file(F)"
   ]
  },
  {
   "cell_type": "markdown",
   "metadata": {},
   "source": [
    "### Run"
   ]
  },
  {
   "cell_type": "markdown",
   "metadata": {},
   "source": [
    "```\n",
    "(snakemake) rick: /tmp/global2/nyoungblut/code/dev/ll_pipelines/llcomp\n",
    "$ screen -L -S llcomp-animal ./snakemake_sge.sh /ebio/abt3_scratch/nyoungblut/animal_gut/HiSeqRuns126-133-0138/n100/llcomp/config.yaml 30 -F\n",
    "```"
   ]
  },
  {
   "cell_type": "markdown",
   "metadata": {},
   "source": [
    "## Summary"
   ]
  },
  {
   "cell_type": "code",
   "execution_count": 33,
   "metadata": {
    "ExecuteTime": {
     "end_time": "2022-04-30T13:10:59.208603Z",
     "start_time": "2022-04-30T13:10:56.787Z"
    }
   },
   "outputs": [
    {
     "data": {
      "text/html": [
       "<table class=\"dataframe\">\n",
       "<caption>A data.table: 100 × 5</caption>\n",
       "<thead>\n",
       "\t<tr><th scope=col>Sample</th><th scope=col>Read1</th><th scope=col>Read2</th><th scope=col>Paired</th><th scope=col>Notes</th></tr>\n",
       "\t<tr><th scope=col>&lt;chr&gt;</th><th scope=col>&lt;chr&gt;</th><th scope=col>&lt;chr&gt;</th><th scope=col>&lt;lgl&gt;</th><th scope=col>&lt;lgl&gt;</th></tr>\n",
       "</thead>\n",
       "<tbody>\n",
       "\t<tr><td>X261_fail_Common_Pipistrelle</td><td>/ebio/abt3_scratch/nyoungblut/animal_gut/HiSeqRuns126-133-0138/n100/llcomp/X261_fail_Common_Pipistrelle/R1_final.fq.gz</td><td>/ebio/abt3_scratch/nyoungblut/animal_gut/HiSeqRuns126-133-0138/n100/llcomp/X261_fail_Common_Pipistrelle/R2_final.fq.gz</td><td>TRUE</td><td>NA</td></tr>\n",
       "\t<tr><td>X239_Delacours_Langur       </td><td>/ebio/abt3_scratch/nyoungblut/animal_gut/HiSeqRuns126-133-0138/n100/llcomp/X239_Delacours_Langur/R1_final.fq.gz       </td><td>/ebio/abt3_scratch/nyoungblut/animal_gut/HiSeqRuns126-133-0138/n100/llcomp/X239_Delacours_Langur/R2_final.fq.gz       </td><td>TRUE</td><td>NA</td></tr>\n",
       "\t<tr><td>⋮</td><td>⋮</td><td>⋮</td><td>⋮</td><td>⋮</td></tr>\n",
       "\t<tr><td>X76_European_Polecat          </td><td>/ebio/abt3_scratch/nyoungblut/animal_gut/HiSeqRuns126-133-0138/n100/llcomp/X76_European_Polecat/R1_final.fq.gz          </td><td>/ebio/abt3_scratch/nyoungblut/animal_gut/HiSeqRuns126-133-0138/n100/llcomp/X76_European_Polecat/R2_final.fq.gz          </td><td>TRUE</td><td>NA</td></tr>\n",
       "\t<tr><td>X248_Yellow_necked_Field_Mouse</td><td>/ebio/abt3_scratch/nyoungblut/animal_gut/HiSeqRuns126-133-0138/n100/llcomp/X248_Yellow_necked_Field_Mouse/R1_final.fq.gz</td><td>/ebio/abt3_scratch/nyoungblut/animal_gut/HiSeqRuns126-133-0138/n100/llcomp/X248_Yellow_necked_Field_Mouse/R2_final.fq.gz</td><td>TRUE</td><td>NA</td></tr>\n",
       "</tbody>\n",
       "</table>\n"
      ],
      "text/latex": [
       "A data.table: 100 × 5\n",
       "\\begin{tabular}{lllll}\n",
       " Sample & Read1 & Read2 & Paired & Notes\\\\\n",
       " <chr> & <chr> & <chr> & <lgl> & <lgl>\\\\\n",
       "\\hline\n",
       "\t X261\\_fail\\_Common\\_Pipistrelle & /ebio/abt3\\_scratch/nyoungblut/animal\\_gut/HiSeqRuns126-133-0138/n100/llcomp/X261\\_fail\\_Common\\_Pipistrelle/R1\\_final.fq.gz & /ebio/abt3\\_scratch/nyoungblut/animal\\_gut/HiSeqRuns126-133-0138/n100/llcomp/X261\\_fail\\_Common\\_Pipistrelle/R2\\_final.fq.gz & TRUE & NA\\\\\n",
       "\t X239\\_Delacours\\_Langur        & /ebio/abt3\\_scratch/nyoungblut/animal\\_gut/HiSeqRuns126-133-0138/n100/llcomp/X239\\_Delacours\\_Langur/R1\\_final.fq.gz        & /ebio/abt3\\_scratch/nyoungblut/animal\\_gut/HiSeqRuns126-133-0138/n100/llcomp/X239\\_Delacours\\_Langur/R2\\_final.fq.gz        & TRUE & NA\\\\\n",
       "\t ⋮ & ⋮ & ⋮ & ⋮ & ⋮\\\\\n",
       "\t X76\\_European\\_Polecat           & /ebio/abt3\\_scratch/nyoungblut/animal\\_gut/HiSeqRuns126-133-0138/n100/llcomp/X76\\_European\\_Polecat/R1\\_final.fq.gz           & /ebio/abt3\\_scratch/nyoungblut/animal\\_gut/HiSeqRuns126-133-0138/n100/llcomp/X76\\_European\\_Polecat/R2\\_final.fq.gz           & TRUE & NA\\\\\n",
       "\t X248\\_Yellow\\_necked\\_Field\\_Mouse & /ebio/abt3\\_scratch/nyoungblut/animal\\_gut/HiSeqRuns126-133-0138/n100/llcomp/X248\\_Yellow\\_necked\\_Field\\_Mouse/R1\\_final.fq.gz & /ebio/abt3\\_scratch/nyoungblut/animal\\_gut/HiSeqRuns126-133-0138/n100/llcomp/X248\\_Yellow\\_necked\\_Field\\_Mouse/R2\\_final.fq.gz & TRUE & NA\\\\\n",
       "\\end{tabular}\n"
      ],
      "text/markdown": [
       "\n",
       "A data.table: 100 × 5\n",
       "\n",
       "| Sample &lt;chr&gt; | Read1 &lt;chr&gt; | Read2 &lt;chr&gt; | Paired &lt;lgl&gt; | Notes &lt;lgl&gt; |\n",
       "|---|---|---|---|---|\n",
       "| X261_fail_Common_Pipistrelle | /ebio/abt3_scratch/nyoungblut/animal_gut/HiSeqRuns126-133-0138/n100/llcomp/X261_fail_Common_Pipistrelle/R1_final.fq.gz | /ebio/abt3_scratch/nyoungblut/animal_gut/HiSeqRuns126-133-0138/n100/llcomp/X261_fail_Common_Pipistrelle/R2_final.fq.gz | TRUE | NA |\n",
       "| X239_Delacours_Langur        | /ebio/abt3_scratch/nyoungblut/animal_gut/HiSeqRuns126-133-0138/n100/llcomp/X239_Delacours_Langur/R1_final.fq.gz        | /ebio/abt3_scratch/nyoungblut/animal_gut/HiSeqRuns126-133-0138/n100/llcomp/X239_Delacours_Langur/R2_final.fq.gz        | TRUE | NA |\n",
       "| ⋮ | ⋮ | ⋮ | ⋮ | ⋮ |\n",
       "| X76_European_Polecat           | /ebio/abt3_scratch/nyoungblut/animal_gut/HiSeqRuns126-133-0138/n100/llcomp/X76_European_Polecat/R1_final.fq.gz           | /ebio/abt3_scratch/nyoungblut/animal_gut/HiSeqRuns126-133-0138/n100/llcomp/X76_European_Polecat/R2_final.fq.gz           | TRUE | NA |\n",
       "| X248_Yellow_necked_Field_Mouse | /ebio/abt3_scratch/nyoungblut/animal_gut/HiSeqRuns126-133-0138/n100/llcomp/X248_Yellow_necked_Field_Mouse/R1_final.fq.gz | /ebio/abt3_scratch/nyoungblut/animal_gut/HiSeqRuns126-133-0138/n100/llcomp/X248_Yellow_necked_Field_Mouse/R2_final.fq.gz | TRUE | NA |\n",
       "\n"
      ],
      "text/plain": [
       "    Sample                        \n",
       "1   X261_fail_Common_Pipistrelle  \n",
       "2   X239_Delacours_Langur         \n",
       "⋮   ⋮                             \n",
       "99  X76_European_Polecat          \n",
       "100 X248_Yellow_necked_Field_Mouse\n",
       "    Read1                                                                                                                   \n",
       "1   /ebio/abt3_scratch/nyoungblut/animal_gut/HiSeqRuns126-133-0138/n100/llcomp/X261_fail_Common_Pipistrelle/R1_final.fq.gz  \n",
       "2   /ebio/abt3_scratch/nyoungblut/animal_gut/HiSeqRuns126-133-0138/n100/llcomp/X239_Delacours_Langur/R1_final.fq.gz         \n",
       "⋮   ⋮                                                                                                                       \n",
       "99  /ebio/abt3_scratch/nyoungblut/animal_gut/HiSeqRuns126-133-0138/n100/llcomp/X76_European_Polecat/R1_final.fq.gz          \n",
       "100 /ebio/abt3_scratch/nyoungblut/animal_gut/HiSeqRuns126-133-0138/n100/llcomp/X248_Yellow_necked_Field_Mouse/R1_final.fq.gz\n",
       "    Read2                                                                                                                   \n",
       "1   /ebio/abt3_scratch/nyoungblut/animal_gut/HiSeqRuns126-133-0138/n100/llcomp/X261_fail_Common_Pipistrelle/R2_final.fq.gz  \n",
       "2   /ebio/abt3_scratch/nyoungblut/animal_gut/HiSeqRuns126-133-0138/n100/llcomp/X239_Delacours_Langur/R2_final.fq.gz         \n",
       "⋮   ⋮                                                                                                                       \n",
       "99  /ebio/abt3_scratch/nyoungblut/animal_gut/HiSeqRuns126-133-0138/n100/llcomp/X76_European_Polecat/R2_final.fq.gz          \n",
       "100 /ebio/abt3_scratch/nyoungblut/animal_gut/HiSeqRuns126-133-0138/n100/llcomp/X248_Yellow_necked_Field_Mouse/R2_final.fq.gz\n",
       "    Paired Notes\n",
       "1   TRUE   NA   \n",
       "2   TRUE   NA   \n",
       "⋮   ⋮      ⋮    \n",
       "99  TRUE   NA   \n",
       "100 TRUE   NA   "
      ]
     },
     "metadata": {},
     "output_type": "display_data"
    }
   ],
   "source": [
    "F = file.path(D, 'samples.txt')\n",
    "samps_n100 = Fread(F)\n",
    "samps_n100"
   ]
  },
  {
   "cell_type": "markdown",
   "metadata": {},
   "source": [
    "## LLMGA\n",
    "\n",
    "* 1000 bp contig length cutoff"
   ]
  },
  {
   "cell_type": "code",
   "execution_count": 34,
   "metadata": {
    "ExecuteTime": {
     "end_time": "2022-04-30T13:11:19.292185Z",
     "start_time": "2022-04-30T13:11:16.880Z"
    }
   },
   "outputs": [
    {
     "name": "stdout",
     "output_type": "stream",
     "text": [
      "Created directory: /ebio/abt3_scratch/nyoungblut/animal_gut/HiSeqRuns126-133-0138/n100/llmga \n"
     ]
    }
   ],
   "source": [
    "D = file.path(dirname(D), 'llmga')\n",
    "make_dir(D)"
   ]
  },
  {
   "cell_type": "markdown",
   "metadata": {},
   "source": [
    "### Config"
   ]
  },
  {
   "cell_type": "code",
   "execution_count": 35,
   "metadata": {
    "ExecuteTime": {
     "end_time": "2022-04-30T13:12:58.132834Z",
     "start_time": "2022-04-30T13:12:55.727Z"
    }
   },
   "outputs": [
    {
     "name": "stdout",
     "output_type": "stream",
     "text": [
      "#-- I/O --#\n",
      "# table with sample --> read_file information\n",
      "samples_file: /ebio/abt3_scratch/nyoungblut/animal_gut/HiSeqRuns126-133-0138/n100/llcomp/samples.txt\n",
      "\n",
      "# output location\n",
      "output_dir: /ebio/abt3_scratch/nyoungblut/animal_gut/HiSeqRuns126-133-0138/n100/llmga/\n",
      "\n",
      "# temporary file directory (your username will be added automatically)\n",
      "tmp_dir: /ebio/abt3_scratch/\n",
      "\n",
      "#-- reference genomes for metacompass --#\n",
      "metacompass_ref: /ebio/abt3_projects/Anxiety_Twins_Metagenomes/data/metagenome/TUKMZ-BGI250/llmga-find-refs/references/drep/dereplicated_genomes.fna\n",
      "\n",
      "#-- master control --#\n",
      "# which major parts of the pipline to run \n",
      "run_assembly: True\n",
      "run_binning: False\n",
      "run_other_assembly: False\n",
      "\n",
      "#-- software parameters --#\n",
      "# Notes:\n",
      "## see \"Notes on the `config.yaml` file\" in the README\n",
      "params:\n",
      "  # raw reads\n",
      "  ionice: -c 3\n",
      "  reads:\n",
      "    subsample: 40000000\n",
      "    fastqc: \"\"  \n",
      "  # metacompass (per-sample ref-based assembly); skipped if using graphbin2\n",
      "  metacompass:\n",
      "    buildcontig: Skip #--pickref breadth --mincov 3 -l 1000 -n T -b F -u F\n",
      "    pilon: \"\"\n",
      "  # denovo per-sample assembly (unmapped if metacompass used, else all reads)\n",
      "  denovo_assembly:\n",
      "    metaspades: -k auto --only-assembler\n",
      "    megahit: Skip #--min-count 3 --min-contig-len 500 --presets meta-sensitive\n",
      "  # combined, final contigs\n",
      "  final_contigs:\n",
      "    derep_contigs: minidentity=100 minscaf=1000 minoverlappercent=95\n",
      "    contig_rename: \"\"\n",
      "    min_contig_len: 1000            # min contig length retained\n",
      "    metaquast: Skip #--max-ref-number 0   # job run on rick to use internet if `--max-ref-number` > 0\n",
      "  # contig binning\n",
      "  binning:\n",
      "    subsample: 5000000       # how many reads per sample to use for dif-cov binning?\n",
      "    # mapping\n",
      "    map:\n",
      "      num_map_samples: 40    # how many samples to use for dif-cov. binning ('all' = all samples)\n",
      "      minimap2:\n",
      "        index: -k 15 -w 10 -I 12G\n",
      "        map: -N 5 -F 800\n",
      "      samtools_view: -q 0 -F 3584                 # -q = MAPQ cutoff\n",
      "      bam_to_depth: --percentIdentity 97\n",
      "      keep_bam: False                       # keep all BAM files?\n",
      "    # binning\n",
      "    binners:\n",
      "      maxbin2:\n",
      "        Low: -min_contig_length 1500 -markerset 40 -prob_threshold 0.6\n",
      "        Med: -min_contig_length 1500 -markerset 40 -prob_threshold 0.7\n",
      "        High: -min_contig_length 1500 -markerset 40 -prob_threshold 0.8\n",
      "      metabat2:\n",
      "        Low: --minContig 1500 --minCV 0.5 --minCVSum 0.5 --maxP 92\n",
      "             --maxEdges 150 --seed 8394\n",
      "        Med: --minContig 1500 --minCV 0.5 --minCVSum 0.5 --maxP 94\n",
      "             --maxEdges 325 --seed 8394\n",
      "        High: --minContig 1500 --minCV 0.5 --minCVSum 0.5 --maxP 97\n",
      "              --maxEdges 500 --seed 8394\n",
      "        LowNoCov: --minContig 1500 --minCV 0.5 --minCVSum 0.5 --maxP 92\n",
      "                  --maxEdges 150 --seed 8394 NOCOV\n",
      "        MedNoCov: --minContig 1500 --minCV 0.5 --minCVSum 0.5 --maxP 94\n",
      "                  --maxEdges 325 --seed 8394 NOCOV\n",
      "        HighNoCov: --minContig 1500 --minCV 0.5 --minCVSum 0.5 --maxP 97\n",
      "                   --maxEdges 500 --seed 8394 NOCOV\n",
      "      vamb:\n",
      "        Low: -c 10000 -m 1500 -l 24 -n 384 384\n",
      "        Med: -c 10000 -m 1500 -l 32 -n 512 512\n",
      "        High: -c 10000 -m 1500 -l 40 -n 768 768\n",
      "    # selecting final bins (MAGs)\n",
      "    select:\n",
      "      das_tool: --search_engine diamond\n",
      "      genome_table: \"\"\n",
      "  # denovo assembly of other genetic components\n",
      "  denovo_other_assembly:\n",
      "    min_contig_len: 1000\n",
      "    metaplasmidspades: -k auto --only-assembler\n",
      "    metabiosyntheticspades: -k auto --only-assembler\n",
      "  \n",
      "#-- snakemake pipeline --#\n",
      "pipeline:\n",
      "  snakemake_folder: ./\n",
      "  script_folder: bin/scripts/\n",
      "  random_number_seed: 83421\n",
      "  name: LLMGA\n"
     ]
    }
   ],
   "source": [
    "F = file.path(D, 'config.yaml')\n",
    "cat_file(F)"
   ]
  },
  {
   "cell_type": "markdown",
   "metadata": {},
   "source": [
    "### Run"
   ]
  },
  {
   "cell_type": "markdown",
   "metadata": {},
   "source": [
    "```\n",
    "(snakemake) rick: /tmp/global2/nyoungblut/code/dev/ll_pipelines/llmga\n",
    "$ screen -L -S llmga-animal ./snakemake_sge.sh /ebio/abt3_scratch/nyoungblut/animal_gut/HiSeqRuns126-133-0138/n100/llmga/config.yaml 30 -F\n",
    "```"
   ]
  },
  {
   "cell_type": "markdown",
   "metadata": {},
   "source": [
    "## Summary"
   ]
  },
  {
   "cell_type": "code",
   "execution_count": 36,
   "metadata": {
    "ExecuteTime": {
     "end_time": "2022-05-01T04:16:44.560584Z",
     "start_time": "2022-05-01T04:16:44.424Z"
    }
   },
   "outputs": [
    {
     "data": {
      "text/html": [
       "<table class=\"dataframe\">\n",
       "<caption>A data.table: 100 × 16</caption>\n",
       "<thead>\n",
       "\t<tr><th scope=col>Sample</th><th scope=col>file</th><th scope=col>format</th><th scope=col>type</th><th scope=col>num_seqs</th><th scope=col>sum_len</th><th scope=col>min_len</th><th scope=col>avg_len</th><th scope=col>max_len</th><th scope=col>Q1</th><th scope=col>Q2</th><th scope=col>Q3</th><th scope=col>sum_gap</th><th scope=col>N50</th><th scope=col>Q20...</th><th scope=col>Q30...</th></tr>\n",
       "\t<tr><th scope=col>&lt;chr&gt;</th><th scope=col>&lt;chr&gt;</th><th scope=col>&lt;chr&gt;</th><th scope=col>&lt;chr&gt;</th><th scope=col>&lt;int&gt;</th><th scope=col>&lt;int&gt;</th><th scope=col>&lt;int&gt;</th><th scope=col>&lt;dbl&gt;</th><th scope=col>&lt;int&gt;</th><th scope=col>&lt;dbl&gt;</th><th scope=col>&lt;dbl&gt;</th><th scope=col>&lt;dbl&gt;</th><th scope=col>&lt;int&gt;</th><th scope=col>&lt;int&gt;</th><th scope=col>&lt;dbl&gt;</th><th scope=col>&lt;dbl&gt;</th></tr>\n",
       "</thead>\n",
       "<tbody>\n",
       "\t<tr><td>X261_fail_Common_Pipistrelle</td><td>/ebio/abt3_scratch/nyoungblut/LLMGA_122597181487/all_contigs/X261_fail_Common_Pipistrelle/contigs_final.fasta</td><td>FASTA</td><td>DNA</td><td>  114</td><td>  187872</td><td>1001</td><td>1648.0</td><td> 15962</td><td>1080</td><td>1232</td><td>1558</td><td>0</td><td>1484</td><td>0</td><td>0</td></tr>\n",
       "\t<tr><td>X239_Delacours_Langur       </td><td>/ebio/abt3_scratch/nyoungblut/LLMGA_122597181487/all_contigs/X239_Delacours_Langur/contigs_final.fasta       </td><td>FASTA</td><td>DNA</td><td>12155</td><td>24265695</td><td>1000</td><td>1996.4</td><td>149450</td><td>1183</td><td>1480</td><td>2072</td><td>0</td><td>2007</td><td>0</td><td>0</td></tr>\n",
       "\t<tr><td>⋮</td><td>⋮</td><td>⋮</td><td>⋮</td><td>⋮</td><td>⋮</td><td>⋮</td><td>⋮</td><td>⋮</td><td>⋮</td><td>⋮</td><td>⋮</td><td>⋮</td><td>⋮</td><td>⋮</td><td>⋮</td></tr>\n",
       "\t<tr><td>X76_European_Polecat          </td><td>/ebio/abt3_scratch/nyoungblut/LLMGA_122597181487/all_contigs/X76_European_Polecat/contigs_final.fasta          </td><td>FASTA</td><td>DNA</td><td> 621</td><td>1031759</td><td>1000</td><td>1661.4</td><td>25728</td><td>1119</td><td>1316</td><td>1745</td><td>0</td><td>1587</td><td>0</td><td>0</td></tr>\n",
       "\t<tr><td>X248_Yellow_necked_Field_Mouse</td><td>/ebio/abt3_scratch/nyoungblut/LLMGA_122597181487/all_contigs/X248_Yellow_necked_Field_Mouse/contigs_final.fasta</td><td>FASTA</td><td>DNA</td><td>3218</td><td>5112623</td><td>1000</td><td>1588.8</td><td>20795</td><td>1101</td><td>1270</td><td>1652</td><td>0</td><td>1484</td><td>0</td><td>0</td></tr>\n",
       "</tbody>\n",
       "</table>\n"
      ],
      "text/latex": [
       "A data.table: 100 × 16\n",
       "\\begin{tabular}{llllllllllllllll}\n",
       " Sample & file & format & type & num\\_seqs & sum\\_len & min\\_len & avg\\_len & max\\_len & Q1 & Q2 & Q3 & sum\\_gap & N50 & Q20... & Q30...\\\\\n",
       " <chr> & <chr> & <chr> & <chr> & <int> & <int> & <int> & <dbl> & <int> & <dbl> & <dbl> & <dbl> & <int> & <int> & <dbl> & <dbl>\\\\\n",
       "\\hline\n",
       "\t X261\\_fail\\_Common\\_Pipistrelle & /ebio/abt3\\_scratch/nyoungblut/LLMGA\\_122597181487/all\\_contigs/X261\\_fail\\_Common\\_Pipistrelle/contigs\\_final.fasta & FASTA & DNA &   114 &   187872 & 1001 & 1648.0 &  15962 & 1080 & 1232 & 1558 & 0 & 1484 & 0 & 0\\\\\n",
       "\t X239\\_Delacours\\_Langur        & /ebio/abt3\\_scratch/nyoungblut/LLMGA\\_122597181487/all\\_contigs/X239\\_Delacours\\_Langur/contigs\\_final.fasta        & FASTA & DNA & 12155 & 24265695 & 1000 & 1996.4 & 149450 & 1183 & 1480 & 2072 & 0 & 2007 & 0 & 0\\\\\n",
       "\t ⋮ & ⋮ & ⋮ & ⋮ & ⋮ & ⋮ & ⋮ & ⋮ & ⋮ & ⋮ & ⋮ & ⋮ & ⋮ & ⋮ & ⋮ & ⋮\\\\\n",
       "\t X76\\_European\\_Polecat           & /ebio/abt3\\_scratch/nyoungblut/LLMGA\\_122597181487/all\\_contigs/X76\\_European\\_Polecat/contigs\\_final.fasta           & FASTA & DNA &  621 & 1031759 & 1000 & 1661.4 & 25728 & 1119 & 1316 & 1745 & 0 & 1587 & 0 & 0\\\\\n",
       "\t X248\\_Yellow\\_necked\\_Field\\_Mouse & /ebio/abt3\\_scratch/nyoungblut/LLMGA\\_122597181487/all\\_contigs/X248\\_Yellow\\_necked\\_Field\\_Mouse/contigs\\_final.fasta & FASTA & DNA & 3218 & 5112623 & 1000 & 1588.8 & 20795 & 1101 & 1270 & 1652 & 0 & 1484 & 0 & 0\\\\\n",
       "\\end{tabular}\n"
      ],
      "text/markdown": [
       "\n",
       "A data.table: 100 × 16\n",
       "\n",
       "| Sample &lt;chr&gt; | file &lt;chr&gt; | format &lt;chr&gt; | type &lt;chr&gt; | num_seqs &lt;int&gt; | sum_len &lt;int&gt; | min_len &lt;int&gt; | avg_len &lt;dbl&gt; | max_len &lt;int&gt; | Q1 &lt;dbl&gt; | Q2 &lt;dbl&gt; | Q3 &lt;dbl&gt; | sum_gap &lt;int&gt; | N50 &lt;int&gt; | Q20... &lt;dbl&gt; | Q30... &lt;dbl&gt; |\n",
       "|---|---|---|---|---|---|---|---|---|---|---|---|---|---|---|---|\n",
       "| X261_fail_Common_Pipistrelle | /ebio/abt3_scratch/nyoungblut/LLMGA_122597181487/all_contigs/X261_fail_Common_Pipistrelle/contigs_final.fasta | FASTA | DNA |   114 |   187872 | 1001 | 1648.0 |  15962 | 1080 | 1232 | 1558 | 0 | 1484 | 0 | 0 |\n",
       "| X239_Delacours_Langur        | /ebio/abt3_scratch/nyoungblut/LLMGA_122597181487/all_contigs/X239_Delacours_Langur/contigs_final.fasta        | FASTA | DNA | 12155 | 24265695 | 1000 | 1996.4 | 149450 | 1183 | 1480 | 2072 | 0 | 2007 | 0 | 0 |\n",
       "| ⋮ | ⋮ | ⋮ | ⋮ | ⋮ | ⋮ | ⋮ | ⋮ | ⋮ | ⋮ | ⋮ | ⋮ | ⋮ | ⋮ | ⋮ | ⋮ |\n",
       "| X76_European_Polecat           | /ebio/abt3_scratch/nyoungblut/LLMGA_122597181487/all_contigs/X76_European_Polecat/contigs_final.fasta           | FASTA | DNA |  621 | 1031759 | 1000 | 1661.4 | 25728 | 1119 | 1316 | 1745 | 0 | 1587 | 0 | 0 |\n",
       "| X248_Yellow_necked_Field_Mouse | /ebio/abt3_scratch/nyoungblut/LLMGA_122597181487/all_contigs/X248_Yellow_necked_Field_Mouse/contigs_final.fasta | FASTA | DNA | 3218 | 5112623 | 1000 | 1588.8 | 20795 | 1101 | 1270 | 1652 | 0 | 1484 | 0 | 0 |\n",
       "\n"
      ],
      "text/plain": [
       "    Sample                        \n",
       "1   X261_fail_Common_Pipistrelle  \n",
       "2   X239_Delacours_Langur         \n",
       "⋮   ⋮                             \n",
       "99  X76_European_Polecat          \n",
       "100 X248_Yellow_necked_Field_Mouse\n",
       "    file                                                                                                           \n",
       "1   /ebio/abt3_scratch/nyoungblut/LLMGA_122597181487/all_contigs/X261_fail_Common_Pipistrelle/contigs_final.fasta  \n",
       "2   /ebio/abt3_scratch/nyoungblut/LLMGA_122597181487/all_contigs/X239_Delacours_Langur/contigs_final.fasta         \n",
       "⋮   ⋮                                                                                                              \n",
       "99  /ebio/abt3_scratch/nyoungblut/LLMGA_122597181487/all_contigs/X76_European_Polecat/contigs_final.fasta          \n",
       "100 /ebio/abt3_scratch/nyoungblut/LLMGA_122597181487/all_contigs/X248_Yellow_necked_Field_Mouse/contigs_final.fasta\n",
       "    format type num_seqs sum_len  min_len avg_len max_len Q1   Q2   Q3  \n",
       "1   FASTA  DNA    114      187872 1001    1648.0   15962  1080 1232 1558\n",
       "2   FASTA  DNA  12155    24265695 1000    1996.4  149450  1183 1480 2072\n",
       "⋮   ⋮      ⋮    ⋮        ⋮        ⋮       ⋮       ⋮       ⋮    ⋮    ⋮   \n",
       "99  FASTA  DNA   621     1031759  1000    1661.4  25728   1119 1316 1745\n",
       "100 FASTA  DNA  3218     5112623  1000    1588.8  20795   1101 1270 1652\n",
       "    sum_gap N50  Q20... Q30...\n",
       "1   0       1484 0      0     \n",
       "2   0       2007 0      0     \n",
       "⋮   ⋮       ⋮    ⋮      ⋮     \n",
       "99  0       1587 0      0     \n",
       "100 0       1484 0      0     "
      ]
     },
     "metadata": {},
     "output_type": "display_data"
    }
   ],
   "source": [
    "F = file.path(D, 'final_contigs', 'contig_stats.tsv')\n",
    "stats = Fread(F)\n",
    "stats"
   ]
  },
  {
   "cell_type": "code",
   "execution_count": 37,
   "metadata": {
    "ExecuteTime": {
     "end_time": "2022-05-01T04:16:46.113455Z",
     "start_time": "2022-05-01T04:16:46.030Z"
    }
   },
   "outputs": [
    {
     "data": {
      "text/html": [
       "<table class=\"dataframe\">\n",
       "<caption>A matrix: 1 × 8 of type dbl</caption>\n",
       "<thead>\n",
       "\t<tr><th></th><th scope=col>Min.</th><th scope=col>1st Qu.</th><th scope=col>Median</th><th scope=col>Mean</th><th scope=col>3rd Qu.</th><th scope=col>Max.</th><th scope=col>sd</th><th scope=col>sd_err_of_mean</th></tr>\n",
       "</thead>\n",
       "<tbody>\n",
       "\t<tr><th scope=row>num_seqs</th><td>61</td><td>2698</td><td>7273</td><td>9245.77</td><td>12860.25</td><td>51754</td><td>8891.07</td><td>3629.764</td></tr>\n",
       "</tbody>\n",
       "</table>\n"
      ],
      "text/latex": [
       "A matrix: 1 × 8 of type dbl\n",
       "\\begin{tabular}{r|llllllll}\n",
       "  & Min. & 1st Qu. & Median & Mean & 3rd Qu. & Max. & sd & sd\\_err\\_of\\_mean\\\\\n",
       "\\hline\n",
       "\tnum\\_seqs & 61 & 2698 & 7273 & 9245.77 & 12860.25 & 51754 & 8891.07 & 3629.764\\\\\n",
       "\\end{tabular}\n"
      ],
      "text/markdown": [
       "\n",
       "A matrix: 1 × 8 of type dbl\n",
       "\n",
       "| <!--/--> | Min. | 1st Qu. | Median | Mean | 3rd Qu. | Max. | sd | sd_err_of_mean |\n",
       "|---|---|---|---|---|---|---|---|---|\n",
       "| num_seqs | 61 | 2698 | 7273 | 9245.77 | 12860.25 | 51754 | 8891.07 | 3629.764 |\n",
       "\n"
      ],
      "text/plain": [
       "         Min. 1st Qu. Median Mean    3rd Qu.  Max.  sd      sd_err_of_mean\n",
       "num_seqs 61   2698    7273   9245.77 12860.25 51754 8891.07 3629.764      "
      ]
     },
     "metadata": {},
     "output_type": "display_data"
    },
    {
     "data": {
      "text/html": [
       "<table class=\"dataframe\">\n",
       "<caption>A matrix: 1 × 8 of type dbl</caption>\n",
       "<thead>\n",
       "\t<tr><th></th><th scope=col>Min.</th><th scope=col>1st Qu.</th><th scope=col>Median</th><th scope=col>Mean</th><th scope=col>3rd Qu.</th><th scope=col>Max.</th><th scope=col>sd</th><th scope=col>sd_err_of_mean</th></tr>\n",
       "</thead>\n",
       "<tbody>\n",
       "\t<tr><th scope=row>min_len</th><td>1000</td><td>1000</td><td>1000</td><td>1000.23</td><td>1000</td><td>1007</td><td>0.973</td><td>0.397</td></tr>\n",
       "</tbody>\n",
       "</table>\n"
      ],
      "text/latex": [
       "A matrix: 1 × 8 of type dbl\n",
       "\\begin{tabular}{r|llllllll}\n",
       "  & Min. & 1st Qu. & Median & Mean & 3rd Qu. & Max. & sd & sd\\_err\\_of\\_mean\\\\\n",
       "\\hline\n",
       "\tmin\\_len & 1000 & 1000 & 1000 & 1000.23 & 1000 & 1007 & 0.973 & 0.397\\\\\n",
       "\\end{tabular}\n"
      ],
      "text/markdown": [
       "\n",
       "A matrix: 1 × 8 of type dbl\n",
       "\n",
       "| <!--/--> | Min. | 1st Qu. | Median | Mean | 3rd Qu. | Max. | sd | sd_err_of_mean |\n",
       "|---|---|---|---|---|---|---|---|---|\n",
       "| min_len | 1000 | 1000 | 1000 | 1000.23 | 1000 | 1007 | 0.973 | 0.397 |\n",
       "\n"
      ],
      "text/plain": [
       "        Min. 1st Qu. Median Mean    3rd Qu. Max. sd    sd_err_of_mean\n",
       "min_len 1000 1000    1000   1000.23 1000    1007 0.973 0.397         "
      ]
     },
     "metadata": {},
     "output_type": "display_data"
    },
    {
     "data": {
      "text/html": [
       "<table class=\"dataframe\">\n",
       "<caption>A matrix: 1 × 8 of type dbl</caption>\n",
       "<thead>\n",
       "\t<tr><th></th><th scope=col>Min.</th><th scope=col>1st Qu.</th><th scope=col>Median</th><th scope=col>Mean</th><th scope=col>3rd Qu.</th><th scope=col>Max.</th><th scope=col>sd</th><th scope=col>sd_err_of_mean</th></tr>\n",
       "</thead>\n",
       "<tbody>\n",
       "\t<tr><th scope=row>avg_len</th><td>1263.4</td><td>1715.425</td><td>2000.1</td><td>2582.584</td><td>2359.1</td><td>32500.4</td><td>3311.022</td><td>1351.719</td></tr>\n",
       "</tbody>\n",
       "</table>\n"
      ],
      "text/latex": [
       "A matrix: 1 × 8 of type dbl\n",
       "\\begin{tabular}{r|llllllll}\n",
       "  & Min. & 1st Qu. & Median & Mean & 3rd Qu. & Max. & sd & sd\\_err\\_of\\_mean\\\\\n",
       "\\hline\n",
       "\tavg\\_len & 1263.4 & 1715.425 & 2000.1 & 2582.584 & 2359.1 & 32500.4 & 3311.022 & 1351.719\\\\\n",
       "\\end{tabular}\n"
      ],
      "text/markdown": [
       "\n",
       "A matrix: 1 × 8 of type dbl\n",
       "\n",
       "| <!--/--> | Min. | 1st Qu. | Median | Mean | 3rd Qu. | Max. | sd | sd_err_of_mean |\n",
       "|---|---|---|---|---|---|---|---|---|\n",
       "| avg_len | 1263.4 | 1715.425 | 2000.1 | 2582.584 | 2359.1 | 32500.4 | 3311.022 | 1351.719 |\n",
       "\n"
      ],
      "text/plain": [
       "        Min.   1st Qu.  Median Mean     3rd Qu. Max.    sd       sd_err_of_mean\n",
       "avg_len 1263.4 1715.425 2000.1 2582.584 2359.1  32500.4 3311.022 1351.719      "
      ]
     },
     "metadata": {},
     "output_type": "display_data"
    }
   ],
   "source": [
    "summary_x(stats$num_seqs)\n",
    "summary_x(stats$min_len)\n",
    "summary_x(stats$avg_len)"
   ]
  },
  {
   "cell_type": "code",
   "execution_count": 42,
   "metadata": {
    "ExecuteTime": {
     "end_time": "2022-05-01T04:17:09.370257Z",
     "start_time": "2022-05-01T04:17:09.281Z"
    }
   },
   "outputs": [
    {
     "data": {
      "text/html": [
       "<table class=\"dataframe\">\n",
       "<caption>A data.table: 100 × 2</caption>\n",
       "<thead>\n",
       "\t<tr><th scope=col>Sample</th><th scope=col>Fasta</th></tr>\n",
       "\t<tr><th scope=col>&lt;chr&gt;</th><th scope=col>&lt;chr&gt;</th></tr>\n",
       "</thead>\n",
       "<tbody>\n",
       "\t<tr><td>X261_fail_Common_Pipistrelle</td><td>/ebio/abt3_scratch/nyoungblut/animal_gut/HiSeqRuns126-133-0138/n100/llmga/final_contigs/X261_fail_Common_Pipistrelle/contigs.fna.gz</td></tr>\n",
       "\t<tr><td>X239_Delacours_Langur       </td><td>/ebio/abt3_scratch/nyoungblut/animal_gut/HiSeqRuns126-133-0138/n100/llmga/final_contigs/X239_Delacours_Langur/contigs.fna.gz       </td></tr>\n",
       "\t<tr><td>⋮</td><td>⋮</td></tr>\n",
       "\t<tr><td>X76_European_Polecat          </td><td>/ebio/abt3_scratch/nyoungblut/animal_gut/HiSeqRuns126-133-0138/n100/llmga/final_contigs/X76_European_Polecat/contigs.fna.gz          </td></tr>\n",
       "\t<tr><td>X248_Yellow_necked_Field_Mouse</td><td>/ebio/abt3_scratch/nyoungblut/animal_gut/HiSeqRuns126-133-0138/n100/llmga/final_contigs/X248_Yellow_necked_Field_Mouse/contigs.fna.gz</td></tr>\n",
       "</tbody>\n",
       "</table>\n"
      ],
      "text/latex": [
       "A data.table: 100 × 2\n",
       "\\begin{tabular}{ll}\n",
       " Sample & Fasta\\\\\n",
       " <chr> & <chr>\\\\\n",
       "\\hline\n",
       "\t X261\\_fail\\_Common\\_Pipistrelle & /ebio/abt3\\_scratch/nyoungblut/animal\\_gut/HiSeqRuns126-133-0138/n100/llmga/final\\_contigs/X261\\_fail\\_Common\\_Pipistrelle/contigs.fna.gz\\\\\n",
       "\t X239\\_Delacours\\_Langur        & /ebio/abt3\\_scratch/nyoungblut/animal\\_gut/HiSeqRuns126-133-0138/n100/llmga/final\\_contigs/X239\\_Delacours\\_Langur/contigs.fna.gz       \\\\\n",
       "\t ⋮ & ⋮\\\\\n",
       "\t X76\\_European\\_Polecat           & /ebio/abt3\\_scratch/nyoungblut/animal\\_gut/HiSeqRuns126-133-0138/n100/llmga/final\\_contigs/X76\\_European\\_Polecat/contigs.fna.gz          \\\\\n",
       "\t X248\\_Yellow\\_necked\\_Field\\_Mouse & /ebio/abt3\\_scratch/nyoungblut/animal\\_gut/HiSeqRuns126-133-0138/n100/llmga/final\\_contigs/X248\\_Yellow\\_necked\\_Field\\_Mouse/contigs.fna.gz\\\\\n",
       "\\end{tabular}\n"
      ],
      "text/markdown": [
       "\n",
       "A data.table: 100 × 2\n",
       "\n",
       "| Sample &lt;chr&gt; | Fasta &lt;chr&gt; |\n",
       "|---|---|\n",
       "| X261_fail_Common_Pipistrelle | /ebio/abt3_scratch/nyoungblut/animal_gut/HiSeqRuns126-133-0138/n100/llmga/final_contigs/X261_fail_Common_Pipistrelle/contigs.fna.gz |\n",
       "| X239_Delacours_Langur        | /ebio/abt3_scratch/nyoungblut/animal_gut/HiSeqRuns126-133-0138/n100/llmga/final_contigs/X239_Delacours_Langur/contigs.fna.gz        |\n",
       "| ⋮ | ⋮ |\n",
       "| X76_European_Polecat           | /ebio/abt3_scratch/nyoungblut/animal_gut/HiSeqRuns126-133-0138/n100/llmga/final_contigs/X76_European_Polecat/contigs.fna.gz           |\n",
       "| X248_Yellow_necked_Field_Mouse | /ebio/abt3_scratch/nyoungblut/animal_gut/HiSeqRuns126-133-0138/n100/llmga/final_contigs/X248_Yellow_necked_Field_Mouse/contigs.fna.gz |\n",
       "\n"
      ],
      "text/plain": [
       "    Sample                        \n",
       "1   X261_fail_Common_Pipistrelle  \n",
       "2   X239_Delacours_Langur         \n",
       "⋮   ⋮                             \n",
       "99  X76_European_Polecat          \n",
       "100 X248_Yellow_necked_Field_Mouse\n",
       "    Fasta                                                                                                                                \n",
       "1   /ebio/abt3_scratch/nyoungblut/animal_gut/HiSeqRuns126-133-0138/n100/llmga/final_contigs/X261_fail_Common_Pipistrelle/contigs.fna.gz  \n",
       "2   /ebio/abt3_scratch/nyoungblut/animal_gut/HiSeqRuns126-133-0138/n100/llmga/final_contigs/X239_Delacours_Langur/contigs.fna.gz         \n",
       "⋮   ⋮                                                                                                                                    \n",
       "99  /ebio/abt3_scratch/nyoungblut/animal_gut/HiSeqRuns126-133-0138/n100/llmga/final_contigs/X76_European_Polecat/contigs.fna.gz          \n",
       "100 /ebio/abt3_scratch/nyoungblut/animal_gut/HiSeqRuns126-133-0138/n100/llmga/final_contigs/X248_Yellow_necked_Field_Mouse/contigs.fna.gz"
      ]
     },
     "metadata": {},
     "output_type": "display_data"
    }
   ],
   "source": [
    "# contig fasta\n",
    "F = file.path(D, 'final_contigs', 'contig_data.tsv')\n",
    "contigs = Fread(F)\n",
    "contigs"
   ]
  },
  {
   "cell_type": "code",
   "execution_count": 43,
   "metadata": {
    "ExecuteTime": {
     "end_time": "2022-05-01T04:17:10.081875Z",
     "start_time": "2022-05-01T04:17:09.996Z"
    }
   },
   "outputs": [
    {
     "name": "stdout",
     "output_type": "stream",
     "text": [
      "intersect(x,y): 100 \n",
      "setdiff(x,y): 0 \n",
      "setdiff(y,x): 0 \n",
      "union(x,y): 100 \n"
     ]
    },
    {
     "data": {
      "text/html": [
       "<table class=\"dataframe\">\n",
       "<caption>A tidytable: 100 × 7</caption>\n",
       "<thead>\n",
       "\t<tr><th scope=col>Sample</th><th scope=col>Fasta</th><th scope=col>Read1</th><th scope=col>Read2</th><th scope=col>Paired</th><th scope=col>Notes</th><th scope=col>Taxon</th></tr>\n",
       "\t<tr><th scope=col>&lt;chr&gt;</th><th scope=col>&lt;chr&gt;</th><th scope=col>&lt;chr&gt;</th><th scope=col>&lt;chr&gt;</th><th scope=col>&lt;lgl&gt;</th><th scope=col>&lt;lgl&gt;</th><th scope=col>&lt;chr&gt;</th></tr>\n",
       "</thead>\n",
       "<tbody>\n",
       "\t<tr><td>X261_fail_Common_Pipistrelle</td><td>/ebio/abt3_scratch/nyoungblut/animal_gut/HiSeqRuns126-133-0138/n100/llmga/final_contigs/X261_fail_Common_Pipistrelle/contigs.fna.gz</td><td>/ebio/abt3_scratch/nyoungblut/animal_gut/HiSeqRuns126-133-0138/n100/llcomp/X261_fail_Common_Pipistrelle/R1_final.fq.gz</td><td>/ebio/abt3_scratch/nyoungblut/animal_gut/HiSeqRuns126-133-0138/n100/llcomp/X261_fail_Common_Pipistrelle/R2_final.fq.gz</td><td>TRUE</td><td>NA</td><td>X261_fail_Common_Pipistrelle</td></tr>\n",
       "\t<tr><td>X239_Delacours_Langur       </td><td>/ebio/abt3_scratch/nyoungblut/animal_gut/HiSeqRuns126-133-0138/n100/llmga/final_contigs/X239_Delacours_Langur/contigs.fna.gz       </td><td>/ebio/abt3_scratch/nyoungblut/animal_gut/HiSeqRuns126-133-0138/n100/llcomp/X239_Delacours_Langur/R1_final.fq.gz       </td><td>/ebio/abt3_scratch/nyoungblut/animal_gut/HiSeqRuns126-133-0138/n100/llcomp/X239_Delacours_Langur/R2_final.fq.gz       </td><td>TRUE</td><td>NA</td><td>X239_Delacours_Langur       </td></tr>\n",
       "\t<tr><td>⋮</td><td>⋮</td><td>⋮</td><td>⋮</td><td>⋮</td><td>⋮</td><td>⋮</td></tr>\n",
       "\t<tr><td>X76_European_Polecat          </td><td>/ebio/abt3_scratch/nyoungblut/animal_gut/HiSeqRuns126-133-0138/n100/llmga/final_contigs/X76_European_Polecat/contigs.fna.gz          </td><td>/ebio/abt3_scratch/nyoungblut/animal_gut/HiSeqRuns126-133-0138/n100/llcomp/X76_European_Polecat/R1_final.fq.gz          </td><td>/ebio/abt3_scratch/nyoungblut/animal_gut/HiSeqRuns126-133-0138/n100/llcomp/X76_European_Polecat/R2_final.fq.gz          </td><td>TRUE</td><td>NA</td><td>X76_European_Polecat          </td></tr>\n",
       "\t<tr><td>X248_Yellow_necked_Field_Mouse</td><td>/ebio/abt3_scratch/nyoungblut/animal_gut/HiSeqRuns126-133-0138/n100/llmga/final_contigs/X248_Yellow_necked_Field_Mouse/contigs.fna.gz</td><td>/ebio/abt3_scratch/nyoungblut/animal_gut/HiSeqRuns126-133-0138/n100/llcomp/X248_Yellow_necked_Field_Mouse/R1_final.fq.gz</td><td>/ebio/abt3_scratch/nyoungblut/animal_gut/HiSeqRuns126-133-0138/n100/llcomp/X248_Yellow_necked_Field_Mouse/R2_final.fq.gz</td><td>TRUE</td><td>NA</td><td>X248_Yellow_necked_Field_Mouse</td></tr>\n",
       "</tbody>\n",
       "</table>\n"
      ],
      "text/latex": [
       "A tidytable: 100 × 7\n",
       "\\begin{tabular}{lllllll}\n",
       " Sample & Fasta & Read1 & Read2 & Paired & Notes & Taxon\\\\\n",
       " <chr> & <chr> & <chr> & <chr> & <lgl> & <lgl> & <chr>\\\\\n",
       "\\hline\n",
       "\t X261\\_fail\\_Common\\_Pipistrelle & /ebio/abt3\\_scratch/nyoungblut/animal\\_gut/HiSeqRuns126-133-0138/n100/llmga/final\\_contigs/X261\\_fail\\_Common\\_Pipistrelle/contigs.fna.gz & /ebio/abt3\\_scratch/nyoungblut/animal\\_gut/HiSeqRuns126-133-0138/n100/llcomp/X261\\_fail\\_Common\\_Pipistrelle/R1\\_final.fq.gz & /ebio/abt3\\_scratch/nyoungblut/animal\\_gut/HiSeqRuns126-133-0138/n100/llcomp/X261\\_fail\\_Common\\_Pipistrelle/R2\\_final.fq.gz & TRUE & NA & X261\\_fail\\_Common\\_Pipistrelle\\\\\n",
       "\t X239\\_Delacours\\_Langur        & /ebio/abt3\\_scratch/nyoungblut/animal\\_gut/HiSeqRuns126-133-0138/n100/llmga/final\\_contigs/X239\\_Delacours\\_Langur/contigs.fna.gz        & /ebio/abt3\\_scratch/nyoungblut/animal\\_gut/HiSeqRuns126-133-0138/n100/llcomp/X239\\_Delacours\\_Langur/R1\\_final.fq.gz        & /ebio/abt3\\_scratch/nyoungblut/animal\\_gut/HiSeqRuns126-133-0138/n100/llcomp/X239\\_Delacours\\_Langur/R2\\_final.fq.gz        & TRUE & NA & X239\\_Delacours\\_Langur       \\\\\n",
       "\t ⋮ & ⋮ & ⋮ & ⋮ & ⋮ & ⋮ & ⋮\\\\\n",
       "\t X76\\_European\\_Polecat           & /ebio/abt3\\_scratch/nyoungblut/animal\\_gut/HiSeqRuns126-133-0138/n100/llmga/final\\_contigs/X76\\_European\\_Polecat/contigs.fna.gz           & /ebio/abt3\\_scratch/nyoungblut/animal\\_gut/HiSeqRuns126-133-0138/n100/llcomp/X76\\_European\\_Polecat/R1\\_final.fq.gz           & /ebio/abt3\\_scratch/nyoungblut/animal\\_gut/HiSeqRuns126-133-0138/n100/llcomp/X76\\_European\\_Polecat/R2\\_final.fq.gz           & TRUE & NA & X76\\_European\\_Polecat          \\\\\n",
       "\t X248\\_Yellow\\_necked\\_Field\\_Mouse & /ebio/abt3\\_scratch/nyoungblut/animal\\_gut/HiSeqRuns126-133-0138/n100/llmga/final\\_contigs/X248\\_Yellow\\_necked\\_Field\\_Mouse/contigs.fna.gz & /ebio/abt3\\_scratch/nyoungblut/animal\\_gut/HiSeqRuns126-133-0138/n100/llcomp/X248\\_Yellow\\_necked\\_Field\\_Mouse/R1\\_final.fq.gz & /ebio/abt3\\_scratch/nyoungblut/animal\\_gut/HiSeqRuns126-133-0138/n100/llcomp/X248\\_Yellow\\_necked\\_Field\\_Mouse/R2\\_final.fq.gz & TRUE & NA & X248\\_Yellow\\_necked\\_Field\\_Mouse\\\\\n",
       "\\end{tabular}\n"
      ],
      "text/markdown": [
       "\n",
       "A tidytable: 100 × 7\n",
       "\n",
       "| Sample &lt;chr&gt; | Fasta &lt;chr&gt; | Read1 &lt;chr&gt; | Read2 &lt;chr&gt; | Paired &lt;lgl&gt; | Notes &lt;lgl&gt; | Taxon &lt;chr&gt; |\n",
       "|---|---|---|---|---|---|---|\n",
       "| X261_fail_Common_Pipistrelle | /ebio/abt3_scratch/nyoungblut/animal_gut/HiSeqRuns126-133-0138/n100/llmga/final_contigs/X261_fail_Common_Pipistrelle/contigs.fna.gz | /ebio/abt3_scratch/nyoungblut/animal_gut/HiSeqRuns126-133-0138/n100/llcomp/X261_fail_Common_Pipistrelle/R1_final.fq.gz | /ebio/abt3_scratch/nyoungblut/animal_gut/HiSeqRuns126-133-0138/n100/llcomp/X261_fail_Common_Pipistrelle/R2_final.fq.gz | TRUE | NA | X261_fail_Common_Pipistrelle |\n",
       "| X239_Delacours_Langur        | /ebio/abt3_scratch/nyoungblut/animal_gut/HiSeqRuns126-133-0138/n100/llmga/final_contigs/X239_Delacours_Langur/contigs.fna.gz        | /ebio/abt3_scratch/nyoungblut/animal_gut/HiSeqRuns126-133-0138/n100/llcomp/X239_Delacours_Langur/R1_final.fq.gz        | /ebio/abt3_scratch/nyoungblut/animal_gut/HiSeqRuns126-133-0138/n100/llcomp/X239_Delacours_Langur/R2_final.fq.gz        | TRUE | NA | X239_Delacours_Langur        |\n",
       "| ⋮ | ⋮ | ⋮ | ⋮ | ⋮ | ⋮ | ⋮ |\n",
       "| X76_European_Polecat           | /ebio/abt3_scratch/nyoungblut/animal_gut/HiSeqRuns126-133-0138/n100/llmga/final_contigs/X76_European_Polecat/contigs.fna.gz           | /ebio/abt3_scratch/nyoungblut/animal_gut/HiSeqRuns126-133-0138/n100/llcomp/X76_European_Polecat/R1_final.fq.gz           | /ebio/abt3_scratch/nyoungblut/animal_gut/HiSeqRuns126-133-0138/n100/llcomp/X76_European_Polecat/R2_final.fq.gz           | TRUE | NA | X76_European_Polecat           |\n",
       "| X248_Yellow_necked_Field_Mouse | /ebio/abt3_scratch/nyoungblut/animal_gut/HiSeqRuns126-133-0138/n100/llmga/final_contigs/X248_Yellow_necked_Field_Mouse/contigs.fna.gz | /ebio/abt3_scratch/nyoungblut/animal_gut/HiSeqRuns126-133-0138/n100/llcomp/X248_Yellow_necked_Field_Mouse/R1_final.fq.gz | /ebio/abt3_scratch/nyoungblut/animal_gut/HiSeqRuns126-133-0138/n100/llcomp/X248_Yellow_necked_Field_Mouse/R2_final.fq.gz | TRUE | NA | X248_Yellow_necked_Field_Mouse |\n",
       "\n"
      ],
      "text/plain": [
       "    Sample                        \n",
       "1   X261_fail_Common_Pipistrelle  \n",
       "2   X239_Delacours_Langur         \n",
       "⋮   ⋮                             \n",
       "99  X76_European_Polecat          \n",
       "100 X248_Yellow_necked_Field_Mouse\n",
       "    Fasta                                                                                                                                \n",
       "1   /ebio/abt3_scratch/nyoungblut/animal_gut/HiSeqRuns126-133-0138/n100/llmga/final_contigs/X261_fail_Common_Pipistrelle/contigs.fna.gz  \n",
       "2   /ebio/abt3_scratch/nyoungblut/animal_gut/HiSeqRuns126-133-0138/n100/llmga/final_contigs/X239_Delacours_Langur/contigs.fna.gz         \n",
       "⋮   ⋮                                                                                                                                    \n",
       "99  /ebio/abt3_scratch/nyoungblut/animal_gut/HiSeqRuns126-133-0138/n100/llmga/final_contigs/X76_European_Polecat/contigs.fna.gz          \n",
       "100 /ebio/abt3_scratch/nyoungblut/animal_gut/HiSeqRuns126-133-0138/n100/llmga/final_contigs/X248_Yellow_necked_Field_Mouse/contigs.fna.gz\n",
       "    Read1                                                                                                                   \n",
       "1   /ebio/abt3_scratch/nyoungblut/animal_gut/HiSeqRuns126-133-0138/n100/llcomp/X261_fail_Common_Pipistrelle/R1_final.fq.gz  \n",
       "2   /ebio/abt3_scratch/nyoungblut/animal_gut/HiSeqRuns126-133-0138/n100/llcomp/X239_Delacours_Langur/R1_final.fq.gz         \n",
       "⋮   ⋮                                                                                                                       \n",
       "99  /ebio/abt3_scratch/nyoungblut/animal_gut/HiSeqRuns126-133-0138/n100/llcomp/X76_European_Polecat/R1_final.fq.gz          \n",
       "100 /ebio/abt3_scratch/nyoungblut/animal_gut/HiSeqRuns126-133-0138/n100/llcomp/X248_Yellow_necked_Field_Mouse/R1_final.fq.gz\n",
       "    Read2                                                                                                                   \n",
       "1   /ebio/abt3_scratch/nyoungblut/animal_gut/HiSeqRuns126-133-0138/n100/llcomp/X261_fail_Common_Pipistrelle/R2_final.fq.gz  \n",
       "2   /ebio/abt3_scratch/nyoungblut/animal_gut/HiSeqRuns126-133-0138/n100/llcomp/X239_Delacours_Langur/R2_final.fq.gz         \n",
       "⋮   ⋮                                                                                                                       \n",
       "99  /ebio/abt3_scratch/nyoungblut/animal_gut/HiSeqRuns126-133-0138/n100/llcomp/X76_European_Polecat/R2_final.fq.gz          \n",
       "100 /ebio/abt3_scratch/nyoungblut/animal_gut/HiSeqRuns126-133-0138/n100/llcomp/X248_Yellow_necked_Field_Mouse/R2_final.fq.gz\n",
       "    Paired Notes Taxon                         \n",
       "1   TRUE   NA    X261_fail_Common_Pipistrelle  \n",
       "2   TRUE   NA    X239_Delacours_Langur         \n",
       "⋮   ⋮      ⋮     ⋮                             \n",
       "99  TRUE   NA    X76_European_Polecat          \n",
       "100 TRUE   NA    X248_Yellow_necked_Field_Mouse"
      ]
     },
     "metadata": {},
     "output_type": "display_data"
    }
   ],
   "source": [
    "# contigs + reads\n",
    "overlap(contigs$Sample, samps_n100$Sample)\n",
    "contigs = contigs %>%\n",
    "    inner_join.(samps_n100, c('Sample')) %>%\n",
    "    mutate.(Taxon = Sample)\n",
    "contigs"
   ]
  },
  {
   "cell_type": "markdown",
   "metadata": {},
   "source": [
    "## ResMiCo-SM"
   ]
  },
  {
   "cell_type": "code",
   "execution_count": 44,
   "metadata": {
    "ExecuteTime": {
     "end_time": "2022-05-01T04:17:20.424724Z",
     "start_time": "2022-05-01T04:17:20.362Z"
    }
   },
   "outputs": [
    {
     "name": "stdout",
     "output_type": "stream",
     "text": [
      "Created directory: /ebio/abt3_scratch/nyoungblut/animal_gut/HiSeqRuns126-133-0138/n100/llmga/resmico-sm \n"
     ]
    }
   ],
   "source": [
    "D = file.path(D, 'resmico-sm')\n",
    "make_dir(D)"
   ]
  },
  {
   "cell_type": "code",
   "execution_count": 45,
   "metadata": {
    "ExecuteTime": {
     "end_time": "2022-05-01T04:17:21.041233Z",
     "start_time": "2022-05-01T04:17:20.965Z"
    }
   },
   "outputs": [
    {
     "name": "stdout",
     "output_type": "stream",
     "text": [
      "File written: /ebio/abt3_scratch/nyoungblut/animal_gut/HiSeqRuns126-133-0138/n100/llmga/resmico-sm/samples.tsv \n"
     ]
    }
   ],
   "source": [
    "F = file.path(D, 'samples.tsv')\n",
    "write_table(contigs, F)"
   ]
  },
  {
   "cell_type": "markdown",
   "metadata": {},
   "source": [
    "### Config"
   ]
  },
  {
   "cell_type": "code",
   "execution_count": 46,
   "metadata": {
    "ExecuteTime": {
     "end_time": "2022-05-01T04:25:06.637452Z",
     "start_time": "2022-05-01T04:25:06.553Z"
    }
   },
   "outputs": [
    {
     "name": "stdout",
     "output_type": "stream",
     "text": [
      "# Input table\n",
      "genomes_file: /ebio/abt3_scratch/nyoungblut/animal_gut/HiSeqRuns126-133-0138/n100/llmga/resmico-sm/samples.tsv \n",
      "\n",
      "# Output directory\n",
      "output_dir: /ebio/abt3_scratch/nyoungblut/animal_gut/HiSeqRuns126-133-0138/n100/llmga/resmico-sm/\n",
      "\n",
      "# Temporary output directory (/dev/shm/ for shared memory)\n",
      "#tmp_dir: /tmp/\n",
      "tmp_dir: /ebio/abt3_scratch/\n",
      "\n",
      "# Email for notifications (\"Skip\" to skip)\n",
      "email: nyoungblut@tuebingen.mpg.de\n",
      "\n",
      "# software parameters for data simulations\n",
      "## Use \"Skip\" to skip  steps. If no params for rule, use \"\"\n",
      "## `reps:` is the number of replicate simulations\n",
      "## If `keep_reads: True`, then simulated reads are kept\n",
      "params:\n",
      "  ionice: -c 3\n",
      "  # simulating metagenomes\n",
      "  MGSIM:\n",
      "    sim_reps: 1\n",
      "    community:\n",
      "      richness:\n",
      "        - 0.5\n",
      "        - 0.8\n",
      "      abundance_distribution:\n",
      "        - \"mean:10,sigma:1\"\n",
      "        - \"mean:10,sigma:2\"\n",
      "      random_seed: 8192\n",
      "      other_sim_params: --group-bias 0\n",
      "    reads: \n",
      "      length:\n",
      "        - 100\n",
      "        - 150\n",
      "      depth:\n",
      "        - 1000000\n",
      "        - 4000000\n",
      "      other_sim_params: --art-paired --art-mflen 270 --art-sdev 50 --rndSeed 8712\n",
      "                        --art-qprof1 data/art_error_profiles/HiSeq2500L150R1.txt\n",
      "                        --art-qprof2 data/art_error_profiles/HiSeq2500L150R2.txt\n",
      "      skewer: -n -l 70 -q 25 --format sanger\n",
      "      keep_reads: False\n",
      "  # coverage\n",
      "  nonpareil:\n",
      "    params: -T kmer\n",
      "    summary: 1e9   # this is target seq. depth\n",
      "  # assemblying metagenomes\n",
      "  assemblers:\n",
      "    metaspades: -k auto --only-assembler\n",
      "    megahit: --min-count 1 --min-contig-len 1000\n",
      "  # assembly filtering\n",
      "  contigs:\n",
      "    length_cutoff: 1000       # length in bp \n",
      "  # assessing assembly errors\n",
      "  asmbl_errors:\n",
      "    metaquast: --max-ref-number 0 --min-contig 1000 --min-identity 95 --extensive-mis-size 100\n",
      "               --no-html --no-plots --no-icarus --no-gc --no-snps --no-sv\n",
      "    keep_genomes: False\n",
      "  # mapping reads to contigs\n",
      "  map:\n",
      "    contig_frac:      \n",
      "      - 1\n",
      "    samtools: \"\"\n",
      "    bowtie2: \"\"\n",
      "    max_coverage: 20\n",
      "    keep_bam: True\n",
      "    keep_faidx: True\n",
      "    create_bigwig: False\n",
      "  # creating ResMiCo feature tables\n",
      "  feature_table:\n",
      "    make: --window 6\n",
      "  # state-of-the-art\n",
      "  SotA:\n",
      "    ALE: Skip\n",
      "    VALET: Skip\n",
      "    metaMIC:\n",
      "      extract: Skip #--mlen 1000\n",
      "      predict: --mlen 1000 --slen 500 -a MEGAHIT\n",
      "  # misc\n",
      "  real_contigs_simulated_reads: False\n",
      "\n",
      "# params just for creating feature tables for non-simulated data\n",
      "nonsim_params:\n",
      "  # max number of reads to use\n",
      "  subsample_reads: Skip #1000000\n",
      "\n",
      "# snakemake pipeline\n",
      "pipeline:\n",
      "  snakemake_folder: ./\n",
      "  script_folder: ./bin/scripts/\n",
      "  name: ResMiCo-SM"
     ]
    }
   ],
   "source": [
    "F = file.path(D, 'config.yaml')\n",
    "cat_file(F)"
   ]
  },
  {
   "cell_type": "markdown",
   "metadata": {},
   "source": [
    "### Run"
   ]
  },
  {
   "cell_type": "markdown",
   "metadata": {},
   "source": [
    "```\n",
    "(snakemake) rick: /ebio/abt3_projects/DeepMAsED/version2/deepmased/ResMiCo-SM\n",
    "$ screen -L -S rmc-sm-animal ./snakemake_sge.sh /ebio/abt3_scratch/nyoungblut/animal_gut/HiSeqRuns126-133-0138/n100/llmga/resmico-sm/config.yaml 30 -F\n",
    "```"
   ]
  },
  {
   "cell_type": "markdown",
   "metadata": {},
   "source": [
    "# sessionInfo"
   ]
  },
  {
   "cell_type": "code",
   "execution_count": 47,
   "metadata": {
    "ExecuteTime": {
     "end_time": "2022-05-01T04:25:16.033343Z",
     "start_time": "2022-05-01T04:25:15.843Z"
    }
   },
   "outputs": [
    {
     "data": {
      "text/plain": [
       "R version 4.1.1 (2021-08-10)\n",
       "Platform: x86_64-conda-linux-gnu (64-bit)\n",
       "Running under: Ubuntu 18.04.6 LTS\n",
       "\n",
       "Matrix products: default\n",
       "BLAS/LAPACK: /tmp/global2/nyoungblut/code/general/conda_envs/general-tidyverse/lib/libopenblasp-r0.3.18.so\n",
       "\n",
       "locale:\n",
       " [1] LC_CTYPE=en_US.UTF-8       LC_NUMERIC=C              \n",
       " [3] LC_TIME=en_US.UTF-8        LC_COLLATE=en_US.UTF-8    \n",
       " [5] LC_MONETARY=en_US.UTF-8    LC_MESSAGES=en_US.UTF-8   \n",
       " [7] LC_PAPER=en_US.UTF-8       LC_NAME=C                 \n",
       " [9] LC_ADDRESS=C               LC_TELEPHONE=C            \n",
       "[11] LC_MEASUREMENT=en_US.UTF-8 LC_IDENTIFICATION=C       \n",
       "\n",
       "attached base packages:\n",
       "[1] stats     graphics  grDevices utils     datasets  methods   base     \n",
       "\n",
       "other attached packages:\n",
       "[1] clustermq_0.8.95.2 LeyLabRMisc_0.2.1  tidytable_0.6.6    data.table_1.14.2 \n",
       "[5] ggplot2_3.3.5      tidyr_1.1.4        dplyr_1.0.7       \n",
       "\n",
       "loaded via a namespace (and not attached):\n",
       " [1] Rcpp_1.0.7       plyr_1.8.6       pillar_1.6.4     compiler_4.1.1  \n",
       " [5] base64enc_0.1-3  tools_4.1.1      digest_0.6.29    uuid_1.0-3      \n",
       " [9] jsonlite_1.7.2   evaluate_0.14    lifecycle_1.0.1  tibble_3.1.6    \n",
       "[13] gtable_0.3.0     pkgconfig_2.0.3  rlang_0.4.12     IRdisplay_1.1   \n",
       "[17] IRkernel_1.3     fastmap_1.1.0    repr_1.1.4       withr_2.4.3     \n",
       "[21] generics_0.1.1   vctrs_0.3.8      grid_4.1.1       tidyselect_1.1.1\n",
       "[25] glue_1.6.0       R6_2.5.1         fansi_1.0.0      pbdZMQ_0.3-6    \n",
       "[29] purrr_0.3.4      magrittr_2.0.1   codetools_0.2-18 scales_1.1.1    \n",
       "[33] ellipsis_0.3.2   htmltools_0.5.2  colorspace_2.0-2 utf8_1.2.2      \n",
       "[37] munsell_0.5.0    crayon_1.4.2    "
      ]
     },
     "metadata": {},
     "output_type": "display_data"
    }
   ],
   "source": [
    "sessionInfo()"
   ]
  }
 ],
 "metadata": {
  "kernelspec": {
   "display_name": "R [conda env:general-tidyverse]",
   "language": "R",
   "name": "conda-env-general-tidyverse-r"
  },
  "language_info": {
   "codemirror_mode": "r",
   "file_extension": ".r",
   "mimetype": "text/x-r-source",
   "name": "R",
   "pygments_lexer": "r",
   "version": "4.1.1"
  },
  "toc": {
   "base_numbering": 1,
   "nav_menu": {},
   "number_sections": true,
   "sideBar": true,
   "skip_h1_title": false,
   "title_cell": "Table of Contents",
   "title_sidebar": "Contents",
   "toc_cell": true,
   "toc_position": {
    "height": "calc(100% - 180px)",
    "left": "10px",
    "top": "150px",
    "width": "345.594px"
   },
   "toc_section_display": true,
   "toc_window_display": true
  }
 },
 "nbformat": 4,
 "nbformat_minor": 4
}
