{
 "cells": [
  {
   "cell_type": "markdown",
   "metadata": {
    "toc": true
   },
   "source": [
    "<h1>Table of Contents<span class=\"tocSkip\"></span></h1>\n",
    "<div class=\"toc\"><ul class=\"toc-item\"><li><span><a href=\"#Goal\" data-toc-modified-id=\"Goal-1\"><span class=\"toc-item-num\">1&nbsp;&nbsp;</span>Goal</a></span></li><li><span><a href=\"#Var\" data-toc-modified-id=\"Var-2\"><span class=\"toc-item-num\">2&nbsp;&nbsp;</span>Var</a></span></li><li><span><a href=\"#Init\" data-toc-modified-id=\"Init-3\"><span class=\"toc-item-num\">3&nbsp;&nbsp;</span>Init</a></span></li><li><span><a href=\"#Load\" data-toc-modified-id=\"Load-4\"><span class=\"toc-item-num\">4&nbsp;&nbsp;</span>Load</a></span><ul class=\"toc-item\"><li><ul class=\"toc-item\"><li><span><a href=\"#Checks\" data-toc-modified-id=\"Checks-4.0.1\"><span class=\"toc-item-num\">4.0.1&nbsp;&nbsp;</span>Checks</a></span></li></ul></li></ul></li><li><span><a href=\"#Uncompressing-reads\" data-toc-modified-id=\"Uncompressing-reads-5\"><span class=\"toc-item-num\">5&nbsp;&nbsp;</span>Uncompressing reads</a></span><ul class=\"toc-item\"><li><ul class=\"toc-item\"><li><span><a href=\"#Config\" data-toc-modified-id=\"Config-5.0.1\"><span class=\"toc-item-num\">5.0.1&nbsp;&nbsp;</span>Config</a></span></li><li><span><a href=\"#Run\" data-toc-modified-id=\"Run-5.0.2\"><span class=\"toc-item-num\">5.0.2&nbsp;&nbsp;</span>Run</a></span></li></ul></li><li><span><a href=\"#Summary\" data-toc-modified-id=\"Summary-5.1\"><span class=\"toc-item-num\">5.1&nbsp;&nbsp;</span>Summary</a></span></li></ul></li><li><span><a href=\"#Run1:-n30\" data-toc-modified-id=\"Run1:-n30-6\"><span class=\"toc-item-num\">6&nbsp;&nbsp;</span>Run1: n30</a></span><ul class=\"toc-item\"><li><span><a href=\"#ResMiCo\" data-toc-modified-id=\"ResMiCo-6.1\"><span class=\"toc-item-num\">6.1&nbsp;&nbsp;</span>ResMiCo</a></span><ul class=\"toc-item\"><li><span><a href=\"#Config\" data-toc-modified-id=\"Config-6.1.1\"><span class=\"toc-item-num\">6.1.1&nbsp;&nbsp;</span>Config</a></span></li><li><span><a href=\"#Run\" data-toc-modified-id=\"Run-6.1.2\"><span class=\"toc-item-num\">6.1.2&nbsp;&nbsp;</span>Run</a></span></li></ul></li></ul></li><li><span><a href=\"#sessionInfo\" data-toc-modified-id=\"sessionInfo-7\"><span class=\"toc-item-num\">7&nbsp;&nbsp;</span>sessionInfo</a></span></li></ul></div>"
   ]
  },
  {
   "cell_type": "markdown",
   "metadata": {},
   "source": [
    "# Goal\n",
    "\n",
    "* process some of the Youngblut et al., 2020 animal gut MAGs"
   ]
  },
  {
   "cell_type": "markdown",
   "metadata": {},
   "source": [
    "# Var"
   ]
  },
  {
   "cell_type": "code",
   "execution_count": 1,
   "metadata": {
    "ExecuteTime": {
     "end_time": "2022-03-26T16:27:18.557463Z",
     "start_time": "2022-03-26T16:27:18.308Z"
    }
   },
   "outputs": [],
   "source": [
    "work_dir = '/ebio/abt3_projects/databases_no-backup/DeepMAsED/version2/real_data_eval/animal-gut/'\n",
    "\n",
    "asmbl_dir = '/ebio/abt3_projects/databases_no-backup/animal_gut_metagenomes/wOutVertebrata/MG_assembly_mam/LLMGA/'\n",
    "read_dir = '/ebio/abt3_projects/Georg_animal_feces/data/metagenome/HiSeqRuns126-133-0138/wOutVertebrata/LLMGQC/final/'\n",
    "\n",
    "# params\n",
    "threads = 4"
   ]
  },
  {
   "cell_type": "markdown",
   "metadata": {},
   "source": [
    "# Init"
   ]
  },
  {
   "cell_type": "code",
   "execution_count": 4,
   "metadata": {
    "ExecuteTime": {
     "end_time": "2022-03-26T16:27:22.578892Z",
     "start_time": "2022-03-26T16:27:22.443Z"
    }
   },
   "outputs": [],
   "source": [
    "library(dplyr)\n",
    "library(tidyr)\n",
    "library(ggplot2)\n",
    "library(data.table)\n",
    "library(tidytable)\n",
    "library(clustermq)\n",
    "library(LeyLabRMisc)\n",
    "Init()"
   ]
  },
  {
   "cell_type": "code",
   "execution_count": 5,
   "metadata": {
    "ExecuteTime": {
     "end_time": "2022-03-26T16:27:23.129819Z",
     "start_time": "2022-03-26T16:27:22.995Z"
    }
   },
   "outputs": [
    {
     "name": "stdout",
     "output_type": "stream",
     "text": [
      "Directory already exists: /ebio/abt3_projects/databases_no-backup/DeepMAsED/version2/real_data_eval/animal-gut/ \n"
     ]
    }
   ],
   "source": [
    "make_dir(work_dir)\n",
    "set.seed(922)"
   ]
  },
  {
   "cell_type": "markdown",
   "metadata": {},
   "source": [
    "# Load"
   ]
  },
  {
   "cell_type": "code",
   "execution_count": 6,
   "metadata": {
    "ExecuteTime": {
     "end_time": "2022-03-26T16:27:24.908193Z",
     "start_time": "2022-03-26T16:27:24.775Z"
    }
   },
   "outputs": [],
   "source": [
    "# parsing out sample from file path\n",
    "get_sample = function(x){\n",
    "    x %>% strsplit('/') %>% unlist %>% .[11]\n",
    "}"
   ]
  },
  {
   "cell_type": "code",
   "execution_count": 7,
   "metadata": {
    "ExecuteTime": {
     "end_time": "2022-03-26T16:27:26.409978Z",
     "start_time": "2022-03-26T16:27:25.973Z"
    }
   },
   "outputs": [
    {
     "data": {
      "text/html": [
       "<table class=\"dataframe\">\n",
       "<caption>A data.frame: 179 × 2</caption>\n",
       "<thead>\n",
       "\t<tr><th></th><th scope=col>Sample</th><th scope=col>Fasta</th></tr>\n",
       "\t<tr><th></th><th scope=col>&lt;chr&gt;</th><th scope=col>&lt;chr&gt;</th></tr>\n",
       "</thead>\n",
       "<tbody>\n",
       "\t<tr><th scope=row>/ebio/abt3_projects/databases_no-backup/animal_gut_metagenomes/wOutVertebrata/MG_assembly_mam/LLMGA//final_contigs/F42_Fallow_Deer/contigs.fna</th><td>F42_Fallow_Deer</td><td>/ebio/abt3_projects/databases_no-backup/animal_gut_metagenomes/wOutVertebrata/MG_assembly_mam/LLMGA//final_contigs/F42_Fallow_Deer/contigs.fna</td></tr>\n",
       "\t<tr><th scope=row>/ebio/abt3_projects/databases_no-backup/animal_gut_metagenomes/wOutVertebrata/MG_assembly_mam/LLMGA//final_contigs/F44_Fallow_Deer/contigs.fna</th><td>F44_Fallow_Deer</td><td>/ebio/abt3_projects/databases_no-backup/animal_gut_metagenomes/wOutVertebrata/MG_assembly_mam/LLMGA//final_contigs/F44_Fallow_Deer/contigs.fna</td></tr>\n",
       "\t<tr><th scope=row>⋮</th><td>⋮</td><td>⋮</td></tr>\n",
       "\t<tr><th scope=row>/ebio/abt3_projects/databases_no-backup/animal_gut_metagenomes/wOutVertebrata/MG_assembly_mam/LLMGA//final_contigs/X96_European_Hare/contigs.fna</th><td>X96_European_Hare        </td><td>/ebio/abt3_projects/databases_no-backup/animal_gut_metagenomes/wOutVertebrata/MG_assembly_mam/LLMGA//final_contigs/X96_European_Hare/contigs.fna        </td></tr>\n",
       "\t<tr><th scope=row>/ebio/abt3_projects/databases_no-backup/animal_gut_metagenomes/wOutVertebrata/MG_assembly_mam/LLMGA//final_contigs/X98_Eurasian_Red_Squirrel/contigs.fna</th><td>X98_Eurasian_Red_Squirrel</td><td>/ebio/abt3_projects/databases_no-backup/animal_gut_metagenomes/wOutVertebrata/MG_assembly_mam/LLMGA//final_contigs/X98_Eurasian_Red_Squirrel/contigs.fna</td></tr>\n",
       "</tbody>\n",
       "</table>\n"
      ],
      "text/latex": [
       "A data.frame: 179 × 2\n",
       "\\begin{tabular}{r|ll}\n",
       "  & Sample & Fasta\\\\\n",
       "  & <chr> & <chr>\\\\\n",
       "\\hline\n",
       "\t/ebio/abt3\\_projects/databases\\_no-backup/animal\\_gut\\_metagenomes/wOutVertebrata/MG\\_assembly\\_mam/LLMGA//final\\_contigs/F42\\_Fallow\\_Deer/contigs.fna & F42\\_Fallow\\_Deer & /ebio/abt3\\_projects/databases\\_no-backup/animal\\_gut\\_metagenomes/wOutVertebrata/MG\\_assembly\\_mam/LLMGA//final\\_contigs/F42\\_Fallow\\_Deer/contigs.fna\\\\\n",
       "\t/ebio/abt3\\_projects/databases\\_no-backup/animal\\_gut\\_metagenomes/wOutVertebrata/MG\\_assembly\\_mam/LLMGA//final\\_contigs/F44\\_Fallow\\_Deer/contigs.fna & F44\\_Fallow\\_Deer & /ebio/abt3\\_projects/databases\\_no-backup/animal\\_gut\\_metagenomes/wOutVertebrata/MG\\_assembly\\_mam/LLMGA//final\\_contigs/F44\\_Fallow\\_Deer/contigs.fna\\\\\n",
       "\t⋮ & ⋮ & ⋮\\\\\n",
       "\t/ebio/abt3\\_projects/databases\\_no-backup/animal\\_gut\\_metagenomes/wOutVertebrata/MG\\_assembly\\_mam/LLMGA//final\\_contigs/X96\\_European\\_Hare/contigs.fna & X96\\_European\\_Hare         & /ebio/abt3\\_projects/databases\\_no-backup/animal\\_gut\\_metagenomes/wOutVertebrata/MG\\_assembly\\_mam/LLMGA//final\\_contigs/X96\\_European\\_Hare/contigs.fna        \\\\\n",
       "\t/ebio/abt3\\_projects/databases\\_no-backup/animal\\_gut\\_metagenomes/wOutVertebrata/MG\\_assembly\\_mam/LLMGA//final\\_contigs/X98\\_Eurasian\\_Red\\_Squirrel/contigs.fna & X98\\_Eurasian\\_Red\\_Squirrel & /ebio/abt3\\_projects/databases\\_no-backup/animal\\_gut\\_metagenomes/wOutVertebrata/MG\\_assembly\\_mam/LLMGA//final\\_contigs/X98\\_Eurasian\\_Red\\_Squirrel/contigs.fna\\\\\n",
       "\\end{tabular}\n"
      ],
      "text/markdown": [
       "\n",
       "A data.frame: 179 × 2\n",
       "\n",
       "| <!--/--> | Sample &lt;chr&gt; | Fasta &lt;chr&gt; |\n",
       "|---|---|---|\n",
       "| /ebio/abt3_projects/databases_no-backup/animal_gut_metagenomes/wOutVertebrata/MG_assembly_mam/LLMGA//final_contigs/F42_Fallow_Deer/contigs.fna | F42_Fallow_Deer | /ebio/abt3_projects/databases_no-backup/animal_gut_metagenomes/wOutVertebrata/MG_assembly_mam/LLMGA//final_contigs/F42_Fallow_Deer/contigs.fna |\n",
       "| /ebio/abt3_projects/databases_no-backup/animal_gut_metagenomes/wOutVertebrata/MG_assembly_mam/LLMGA//final_contigs/F44_Fallow_Deer/contigs.fna | F44_Fallow_Deer | /ebio/abt3_projects/databases_no-backup/animal_gut_metagenomes/wOutVertebrata/MG_assembly_mam/LLMGA//final_contigs/F44_Fallow_Deer/contigs.fna |\n",
       "| ⋮ | ⋮ | ⋮ |\n",
       "| /ebio/abt3_projects/databases_no-backup/animal_gut_metagenomes/wOutVertebrata/MG_assembly_mam/LLMGA//final_contigs/X96_European_Hare/contigs.fna | X96_European_Hare         | /ebio/abt3_projects/databases_no-backup/animal_gut_metagenomes/wOutVertebrata/MG_assembly_mam/LLMGA//final_contigs/X96_European_Hare/contigs.fna         |\n",
       "| /ebio/abt3_projects/databases_no-backup/animal_gut_metagenomes/wOutVertebrata/MG_assembly_mam/LLMGA//final_contigs/X98_Eurasian_Red_Squirrel/contigs.fna | X98_Eurasian_Red_Squirrel | /ebio/abt3_projects/databases_no-backup/animal_gut_metagenomes/wOutVertebrata/MG_assembly_mam/LLMGA//final_contigs/X98_Eurasian_Red_Squirrel/contigs.fna |\n",
       "\n"
      ],
      "text/plain": [
       "                                                                                                                                                         Sample                   \n",
       "/ebio/abt3_projects/databases_no-backup/animal_gut_metagenomes/wOutVertebrata/MG_assembly_mam/LLMGA//final_contigs/F42_Fallow_Deer/contigs.fna           F42_Fallow_Deer          \n",
       "/ebio/abt3_projects/databases_no-backup/animal_gut_metagenomes/wOutVertebrata/MG_assembly_mam/LLMGA//final_contigs/F44_Fallow_Deer/contigs.fna           F44_Fallow_Deer          \n",
       "⋮                                                                                                                                                        ⋮                        \n",
       "/ebio/abt3_projects/databases_no-backup/animal_gut_metagenomes/wOutVertebrata/MG_assembly_mam/LLMGA//final_contigs/X96_European_Hare/contigs.fna         X96_European_Hare        \n",
       "/ebio/abt3_projects/databases_no-backup/animal_gut_metagenomes/wOutVertebrata/MG_assembly_mam/LLMGA//final_contigs/X98_Eurasian_Red_Squirrel/contigs.fna X98_Eurasian_Red_Squirrel\n",
       "                                                                                                                                                         Fasta                                                                                                                                                   \n",
       "/ebio/abt3_projects/databases_no-backup/animal_gut_metagenomes/wOutVertebrata/MG_assembly_mam/LLMGA//final_contigs/F42_Fallow_Deer/contigs.fna           /ebio/abt3_projects/databases_no-backup/animal_gut_metagenomes/wOutVertebrata/MG_assembly_mam/LLMGA//final_contigs/F42_Fallow_Deer/contigs.fna          \n",
       "/ebio/abt3_projects/databases_no-backup/animal_gut_metagenomes/wOutVertebrata/MG_assembly_mam/LLMGA//final_contigs/F44_Fallow_Deer/contigs.fna           /ebio/abt3_projects/databases_no-backup/animal_gut_metagenomes/wOutVertebrata/MG_assembly_mam/LLMGA//final_contigs/F44_Fallow_Deer/contigs.fna          \n",
       "⋮                                                                                                                                                        ⋮                                                                                                                                                       \n",
       "/ebio/abt3_projects/databases_no-backup/animal_gut_metagenomes/wOutVertebrata/MG_assembly_mam/LLMGA//final_contigs/X96_European_Hare/contigs.fna         /ebio/abt3_projects/databases_no-backup/animal_gut_metagenomes/wOutVertebrata/MG_assembly_mam/LLMGA//final_contigs/X96_European_Hare/contigs.fna        \n",
       "/ebio/abt3_projects/databases_no-backup/animal_gut_metagenomes/wOutVertebrata/MG_assembly_mam/LLMGA//final_contigs/X98_Eurasian_Red_Squirrel/contigs.fna /ebio/abt3_projects/databases_no-backup/animal_gut_metagenomes/wOutVertebrata/MG_assembly_mam/LLMGA//final_contigs/X98_Eurasian_Red_Squirrel/contigs.fna"
      ]
     },
     "metadata": {},
     "output_type": "display_data"
    }
   ],
   "source": [
    "# MAGs\n",
    "contigs = list_files(file.path(asmbl_dir, 'final_contigs'), 'contigs.fna')\n",
    "contigs = data.frame(\n",
    "    Sample = sapply(contigs, get_sample),\n",
    "    Fasta = contigs\n",
    ")\n",
    "contigs"
   ]
  },
  {
   "cell_type": "code",
   "execution_count": 8,
   "metadata": {
    "ExecuteTime": {
     "end_time": "2022-03-26T16:27:28.682394Z",
     "start_time": "2022-03-26T16:27:28.492Z"
    }
   },
   "outputs": [
    {
     "data": {
      "text/html": [
       "<table class=\"dataframe\">\n",
       "<caption>A data.table: 324 × 4</caption>\n",
       "<thead>\n",
       "\t<tr><th scope=col>Sample</th><th scope=col>Reads</th><th scope=col>Paired</th><th scope=col>Notes</th></tr>\n",
       "\t<tr><th scope=col>&lt;chr&gt;</th><th scope=col>&lt;chr&gt;</th><th scope=col>&lt;lgl&gt;</th><th scope=col>&lt;lgl&gt;</th></tr>\n",
       "</thead>\n",
       "<tbody>\n",
       "\t<tr><td>X101_Horse      </td><td>/ebio/abt3_projects/Georg_animal_feces/data/metagenome/HiSeqRuns126-133-0138/wOutVertebrata/LLMGQC/final/X101_Horse/R1-R2_final.spring      </td><td>TRUE</td><td>NA</td></tr>\n",
       "\t<tr><td>X107_House_Mouse</td><td>/ebio/abt3_projects/Georg_animal_feces/data/metagenome/HiSeqRuns126-133-0138/wOutVertebrata/LLMGQC/final/X107_House_Mouse/R1-R2_final.spring</td><td>TRUE</td><td>NA</td></tr>\n",
       "\t<tr><td>⋮</td><td>⋮</td><td>⋮</td><td>⋮</td></tr>\n",
       "\t<tr><td>X92_Lesser_White_toothed_Shrew</td><td>/ebio/abt3_projects/Georg_animal_feces/data/metagenome/HiSeqRuns126-133-0138/wOutVertebrata/LLMGQC/final/X92_Lesser_White_toothed_Shrew/R1-R2_final.spring</td><td>TRUE</td><td>NA</td></tr>\n",
       "\t<tr><td>X93_Red_Sheep                 </td><td>/ebio/abt3_projects/Georg_animal_feces/data/metagenome/HiSeqRuns126-133-0138/wOutVertebrata/LLMGQC/final/X93_Red_Sheep/R1-R2_final.spring                 </td><td>TRUE</td><td>NA</td></tr>\n",
       "</tbody>\n",
       "</table>\n"
      ],
      "text/latex": [
       "A data.table: 324 × 4\n",
       "\\begin{tabular}{llll}\n",
       " Sample & Reads & Paired & Notes\\\\\n",
       " <chr> & <chr> & <lgl> & <lgl>\\\\\n",
       "\\hline\n",
       "\t X101\\_Horse       & /ebio/abt3\\_projects/Georg\\_animal\\_feces/data/metagenome/HiSeqRuns126-133-0138/wOutVertebrata/LLMGQC/final/X101\\_Horse/R1-R2\\_final.spring       & TRUE & NA\\\\\n",
       "\t X107\\_House\\_Mouse & /ebio/abt3\\_projects/Georg\\_animal\\_feces/data/metagenome/HiSeqRuns126-133-0138/wOutVertebrata/LLMGQC/final/X107\\_House\\_Mouse/R1-R2\\_final.spring & TRUE & NA\\\\\n",
       "\t ⋮ & ⋮ & ⋮ & ⋮\\\\\n",
       "\t X92\\_Lesser\\_White\\_toothed\\_Shrew & /ebio/abt3\\_projects/Georg\\_animal\\_feces/data/metagenome/HiSeqRuns126-133-0138/wOutVertebrata/LLMGQC/final/X92\\_Lesser\\_White\\_toothed\\_Shrew/R1-R2\\_final.spring & TRUE & NA\\\\\n",
       "\t X93\\_Red\\_Sheep                  & /ebio/abt3\\_projects/Georg\\_animal\\_feces/data/metagenome/HiSeqRuns126-133-0138/wOutVertebrata/LLMGQC/final/X93\\_Red\\_Sheep/R1-R2\\_final.spring                  & TRUE & NA\\\\\n",
       "\\end{tabular}\n"
      ],
      "text/markdown": [
       "\n",
       "A data.table: 324 × 4\n",
       "\n",
       "| Sample &lt;chr&gt; | Reads &lt;chr&gt; | Paired &lt;lgl&gt; | Notes &lt;lgl&gt; |\n",
       "|---|---|---|---|\n",
       "| X101_Horse       | /ebio/abt3_projects/Georg_animal_feces/data/metagenome/HiSeqRuns126-133-0138/wOutVertebrata/LLMGQC/final/X101_Horse/R1-R2_final.spring       | TRUE | NA |\n",
       "| X107_House_Mouse | /ebio/abt3_projects/Georg_animal_feces/data/metagenome/HiSeqRuns126-133-0138/wOutVertebrata/LLMGQC/final/X107_House_Mouse/R1-R2_final.spring | TRUE | NA |\n",
       "| ⋮ | ⋮ | ⋮ | ⋮ |\n",
       "| X92_Lesser_White_toothed_Shrew | /ebio/abt3_projects/Georg_animal_feces/data/metagenome/HiSeqRuns126-133-0138/wOutVertebrata/LLMGQC/final/X92_Lesser_White_toothed_Shrew/R1-R2_final.spring | TRUE | NA |\n",
       "| X93_Red_Sheep                  | /ebio/abt3_projects/Georg_animal_feces/data/metagenome/HiSeqRuns126-133-0138/wOutVertebrata/LLMGQC/final/X93_Red_Sheep/R1-R2_final.spring                  | TRUE | NA |\n",
       "\n"
      ],
      "text/plain": [
       "    Sample                        \n",
       "1   X101_Horse                    \n",
       "2   X107_House_Mouse              \n",
       "⋮   ⋮                             \n",
       "323 X92_Lesser_White_toothed_Shrew\n",
       "324 X93_Red_Sheep                 \n",
       "    Reads                                                                                                                                                     \n",
       "1   /ebio/abt3_projects/Georg_animal_feces/data/metagenome/HiSeqRuns126-133-0138/wOutVertebrata/LLMGQC/final/X101_Horse/R1-R2_final.spring                    \n",
       "2   /ebio/abt3_projects/Georg_animal_feces/data/metagenome/HiSeqRuns126-133-0138/wOutVertebrata/LLMGQC/final/X107_House_Mouse/R1-R2_final.spring              \n",
       "⋮   ⋮                                                                                                                                                         \n",
       "323 /ebio/abt3_projects/Georg_animal_feces/data/metagenome/HiSeqRuns126-133-0138/wOutVertebrata/LLMGQC/final/X92_Lesser_White_toothed_Shrew/R1-R2_final.spring\n",
       "324 /ebio/abt3_projects/Georg_animal_feces/data/metagenome/HiSeqRuns126-133-0138/wOutVertebrata/LLMGQC/final/X93_Red_Sheep/R1-R2_final.spring                 \n",
       "    Paired Notes\n",
       "1   TRUE   NA   \n",
       "2   TRUE   NA   \n",
       "⋮   ⋮      ⋮    \n",
       "323 TRUE   NA   \n",
       "324 TRUE   NA   "
      ]
     },
     "metadata": {},
     "output_type": "display_data"
    }
   ],
   "source": [
    "# reads\n",
    "F = file.path(read_dir, 'samples_spring.txt')\n",
    "reads = Fread(F)\n",
    "reads"
   ]
  },
  {
   "cell_type": "markdown",
   "metadata": {},
   "source": [
    "### Checks"
   ]
  },
  {
   "cell_type": "code",
   "execution_count": 9,
   "metadata": {
    "ExecuteTime": {
     "end_time": "2022-03-26T16:27:30.372554Z",
     "start_time": "2022-03-26T16:27:30.242Z"
    }
   },
   "outputs": [
    {
     "name": "stdout",
     "output_type": "stream",
     "text": [
      "intersect(x,y): 176 \n",
      "setdiff(x,y): 3 \n",
      "setdiff(y,x): 148 \n",
      "union(x,y): 327 \n"
     ]
    }
   ],
   "source": [
    "overlap(contigs$Sample, reads$Sample)"
   ]
  },
  {
   "cell_type": "code",
   "execution_count": 10,
   "metadata": {
    "ExecuteTime": {
     "end_time": "2022-03-26T16:27:33.694191Z",
     "start_time": "2022-03-26T16:27:33.242Z"
    }
   },
   "outputs": [
    {
     "data": {
      "text/html": [
       "<table class=\"dataframe\">\n",
       "<caption>A tidytable: 176 × 4</caption>\n",
       "<thead>\n",
       "\t<tr><th scope=col>Sample</th><th scope=col>Reads</th><th scope=col>Paired</th><th scope=col>Notes</th></tr>\n",
       "\t<tr><th scope=col>&lt;chr&gt;</th><th scope=col>&lt;chr&gt;</th><th scope=col>&lt;lgl&gt;</th><th scope=col>&lt;lgl&gt;</th></tr>\n",
       "</thead>\n",
       "<tbody>\n",
       "\t<tr><td>X101_Horse      </td><td>/ebio/abt3_projects/Georg_animal_feces/data/metagenome/HiSeqRuns126-133-0138/wOutVertebrata/LLMGQC/final/X101_Horse/R1-R2_final.spring      </td><td>TRUE</td><td>NA</td></tr>\n",
       "\t<tr><td>X107_House_Mouse</td><td>/ebio/abt3_projects/Georg_animal_feces/data/metagenome/HiSeqRuns126-133-0138/wOutVertebrata/LLMGQC/final/X107_House_Mouse/R1-R2_final.spring</td><td>TRUE</td><td>NA</td></tr>\n",
       "\t<tr><td>⋮</td><td>⋮</td><td>⋮</td><td>⋮</td></tr>\n",
       "\t<tr><td>X430_Giraffe                  </td><td>/ebio/abt3_projects/Georg_animal_feces/data/metagenome/HiSeqRuns126-133-0138/wOutVertebrata/LLMGQC/final/X430_Giraffe/R1-R2_final.spring                  </td><td>TRUE</td><td>NA</td></tr>\n",
       "\t<tr><td>X92_Lesser_White_toothed_Shrew</td><td>/ebio/abt3_projects/Georg_animal_feces/data/metagenome/HiSeqRuns126-133-0138/wOutVertebrata/LLMGQC/final/X92_Lesser_White_toothed_Shrew/R1-R2_final.spring</td><td>TRUE</td><td>NA</td></tr>\n",
       "</tbody>\n",
       "</table>\n"
      ],
      "text/latex": [
       "A tidytable: 176 × 4\n",
       "\\begin{tabular}{llll}\n",
       " Sample & Reads & Paired & Notes\\\\\n",
       " <chr> & <chr> & <lgl> & <lgl>\\\\\n",
       "\\hline\n",
       "\t X101\\_Horse       & /ebio/abt3\\_projects/Georg\\_animal\\_feces/data/metagenome/HiSeqRuns126-133-0138/wOutVertebrata/LLMGQC/final/X101\\_Horse/R1-R2\\_final.spring       & TRUE & NA\\\\\n",
       "\t X107\\_House\\_Mouse & /ebio/abt3\\_projects/Georg\\_animal\\_feces/data/metagenome/HiSeqRuns126-133-0138/wOutVertebrata/LLMGQC/final/X107\\_House\\_Mouse/R1-R2\\_final.spring & TRUE & NA\\\\\n",
       "\t ⋮ & ⋮ & ⋮ & ⋮\\\\\n",
       "\t X430\\_Giraffe                   & /ebio/abt3\\_projects/Georg\\_animal\\_feces/data/metagenome/HiSeqRuns126-133-0138/wOutVertebrata/LLMGQC/final/X430\\_Giraffe/R1-R2\\_final.spring                   & TRUE & NA\\\\\n",
       "\t X92\\_Lesser\\_White\\_toothed\\_Shrew & /ebio/abt3\\_projects/Georg\\_animal\\_feces/data/metagenome/HiSeqRuns126-133-0138/wOutVertebrata/LLMGQC/final/X92\\_Lesser\\_White\\_toothed\\_Shrew/R1-R2\\_final.spring & TRUE & NA\\\\\n",
       "\\end{tabular}\n"
      ],
      "text/markdown": [
       "\n",
       "A tidytable: 176 × 4\n",
       "\n",
       "| Sample &lt;chr&gt; | Reads &lt;chr&gt; | Paired &lt;lgl&gt; | Notes &lt;lgl&gt; |\n",
       "|---|---|---|---|\n",
       "| X101_Horse       | /ebio/abt3_projects/Georg_animal_feces/data/metagenome/HiSeqRuns126-133-0138/wOutVertebrata/LLMGQC/final/X101_Horse/R1-R2_final.spring       | TRUE | NA |\n",
       "| X107_House_Mouse | /ebio/abt3_projects/Georg_animal_feces/data/metagenome/HiSeqRuns126-133-0138/wOutVertebrata/LLMGQC/final/X107_House_Mouse/R1-R2_final.spring | TRUE | NA |\n",
       "| ⋮ | ⋮ | ⋮ | ⋮ |\n",
       "| X430_Giraffe                   | /ebio/abt3_projects/Georg_animal_feces/data/metagenome/HiSeqRuns126-133-0138/wOutVertebrata/LLMGQC/final/X430_Giraffe/R1-R2_final.spring                   | TRUE | NA |\n",
       "| X92_Lesser_White_toothed_Shrew | /ebio/abt3_projects/Georg_animal_feces/data/metagenome/HiSeqRuns126-133-0138/wOutVertebrata/LLMGQC/final/X92_Lesser_White_toothed_Shrew/R1-R2_final.spring | TRUE | NA |\n",
       "\n"
      ],
      "text/plain": [
       "    Sample                        \n",
       "1   X101_Horse                    \n",
       "2   X107_House_Mouse              \n",
       "⋮   ⋮                             \n",
       "175 X430_Giraffe                  \n",
       "176 X92_Lesser_White_toothed_Shrew\n",
       "    Reads                                                                                                                                                     \n",
       "1   /ebio/abt3_projects/Georg_animal_feces/data/metagenome/HiSeqRuns126-133-0138/wOutVertebrata/LLMGQC/final/X101_Horse/R1-R2_final.spring                    \n",
       "2   /ebio/abt3_projects/Georg_animal_feces/data/metagenome/HiSeqRuns126-133-0138/wOutVertebrata/LLMGQC/final/X107_House_Mouse/R1-R2_final.spring              \n",
       "⋮   ⋮                                                                                                                                                         \n",
       "175 /ebio/abt3_projects/Georg_animal_feces/data/metagenome/HiSeqRuns126-133-0138/wOutVertebrata/LLMGQC/final/X430_Giraffe/R1-R2_final.spring                  \n",
       "176 /ebio/abt3_projects/Georg_animal_feces/data/metagenome/HiSeqRuns126-133-0138/wOutVertebrata/LLMGQC/final/X92_Lesser_White_toothed_Shrew/R1-R2_final.spring\n",
       "    Paired Notes\n",
       "1   TRUE   NA   \n",
       "2   TRUE   NA   \n",
       "⋮   ⋮      ⋮    \n",
       "175 TRUE   NA   \n",
       "176 TRUE   NA   "
      ]
     },
     "metadata": {},
     "output_type": "display_data"
    }
   ],
   "source": [
    "# filtering reads\n",
    "reads = reads %>%\n",
    "    semi_join.(contigs, c('Sample'))\n",
    "reads"
   ]
  },
  {
   "cell_type": "code",
   "execution_count": 12,
   "metadata": {
    "ExecuteTime": {
     "end_time": "2022-03-26T16:28:13.934081Z",
     "start_time": "2022-03-26T16:28:13.777Z"
    }
   },
   "outputs": [
    {
     "data": {
      "text/html": [
       "<table class=\"dataframe\">\n",
       "<caption>A tidytable: 30 × 4</caption>\n",
       "<thead>\n",
       "\t<tr><th scope=col>Sample</th><th scope=col>Reads</th><th scope=col>Paired</th><th scope=col>Notes</th></tr>\n",
       "\t<tr><th scope=col>&lt;chr&gt;</th><th scope=col>&lt;chr&gt;</th><th scope=col>&lt;lgl&gt;</th><th scope=col>&lt;lgl&gt;</th></tr>\n",
       "</thead>\n",
       "<tbody>\n",
       "\t<tr><td>X101_Horse  </td><td>/ebio/abt3_projects/Georg_animal_feces/data/metagenome/HiSeqRuns126-133-0138/wOutVertebrata/LLMGQC/final/X101_Horse/R1-R2_final.spring  </td><td>TRUE</td><td>NA</td></tr>\n",
       "\t<tr><td>X110_Noctule</td><td>/ebio/abt3_projects/Georg_animal_feces/data/metagenome/HiSeqRuns126-133-0138/wOutVertebrata/LLMGQC/final/X110_Noctule/R1-R2_final.spring</td><td>TRUE</td><td>NA</td></tr>\n",
       "\t<tr><td>⋮</td><td>⋮</td><td>⋮</td><td>⋮</td></tr>\n",
       "\t<tr><td>X393_European_Rabbit</td><td>/ebio/abt3_projects/Georg_animal_feces/data/metagenome/HiSeqRuns126-133-0138/wOutVertebrata/LLMGQC/final/X393_European_Rabbit/R1-R2_final.spring</td><td>TRUE</td><td>NA</td></tr>\n",
       "\t<tr><td>X430_Giraffe        </td><td>/ebio/abt3_projects/Georg_animal_feces/data/metagenome/HiSeqRuns126-133-0138/wOutVertebrata/LLMGQC/final/X430_Giraffe/R1-R2_final.spring        </td><td>TRUE</td><td>NA</td></tr>\n",
       "</tbody>\n",
       "</table>\n"
      ],
      "text/latex": [
       "A tidytable: 30 × 4\n",
       "\\begin{tabular}{llll}\n",
       " Sample & Reads & Paired & Notes\\\\\n",
       " <chr> & <chr> & <lgl> & <lgl>\\\\\n",
       "\\hline\n",
       "\t X101\\_Horse   & /ebio/abt3\\_projects/Georg\\_animal\\_feces/data/metagenome/HiSeqRuns126-133-0138/wOutVertebrata/LLMGQC/final/X101\\_Horse/R1-R2\\_final.spring   & TRUE & NA\\\\\n",
       "\t X110\\_Noctule & /ebio/abt3\\_projects/Georg\\_animal\\_feces/data/metagenome/HiSeqRuns126-133-0138/wOutVertebrata/LLMGQC/final/X110\\_Noctule/R1-R2\\_final.spring & TRUE & NA\\\\\n",
       "\t ⋮ & ⋮ & ⋮ & ⋮\\\\\n",
       "\t X393\\_European\\_Rabbit & /ebio/abt3\\_projects/Georg\\_animal\\_feces/data/metagenome/HiSeqRuns126-133-0138/wOutVertebrata/LLMGQC/final/X393\\_European\\_Rabbit/R1-R2\\_final.spring & TRUE & NA\\\\\n",
       "\t X430\\_Giraffe         & /ebio/abt3\\_projects/Georg\\_animal\\_feces/data/metagenome/HiSeqRuns126-133-0138/wOutVertebrata/LLMGQC/final/X430\\_Giraffe/R1-R2\\_final.spring         & TRUE & NA\\\\\n",
       "\\end{tabular}\n"
      ],
      "text/markdown": [
       "\n",
       "A tidytable: 30 × 4\n",
       "\n",
       "| Sample &lt;chr&gt; | Reads &lt;chr&gt; | Paired &lt;lgl&gt; | Notes &lt;lgl&gt; |\n",
       "|---|---|---|---|\n",
       "| X101_Horse   | /ebio/abt3_projects/Georg_animal_feces/data/metagenome/HiSeqRuns126-133-0138/wOutVertebrata/LLMGQC/final/X101_Horse/R1-R2_final.spring   | TRUE | NA |\n",
       "| X110_Noctule | /ebio/abt3_projects/Georg_animal_feces/data/metagenome/HiSeqRuns126-133-0138/wOutVertebrata/LLMGQC/final/X110_Noctule/R1-R2_final.spring | TRUE | NA |\n",
       "| ⋮ | ⋮ | ⋮ | ⋮ |\n",
       "| X393_European_Rabbit | /ebio/abt3_projects/Georg_animal_feces/data/metagenome/HiSeqRuns126-133-0138/wOutVertebrata/LLMGQC/final/X393_European_Rabbit/R1-R2_final.spring | TRUE | NA |\n",
       "| X430_Giraffe         | /ebio/abt3_projects/Georg_animal_feces/data/metagenome/HiSeqRuns126-133-0138/wOutVertebrata/LLMGQC/final/X430_Giraffe/R1-R2_final.spring         | TRUE | NA |\n",
       "\n"
      ],
      "text/plain": [
       "   Sample              \n",
       "1  X101_Horse          \n",
       "2  X110_Noctule        \n",
       "⋮  ⋮                   \n",
       "29 X393_European_Rabbit\n",
       "30 X430_Giraffe        \n",
       "   Reads                                                                                                                                           \n",
       "1  /ebio/abt3_projects/Georg_animal_feces/data/metagenome/HiSeqRuns126-133-0138/wOutVertebrata/LLMGQC/final/X101_Horse/R1-R2_final.spring          \n",
       "2  /ebio/abt3_projects/Georg_animal_feces/data/metagenome/HiSeqRuns126-133-0138/wOutVertebrata/LLMGQC/final/X110_Noctule/R1-R2_final.spring        \n",
       "⋮  ⋮                                                                                                                                               \n",
       "29 /ebio/abt3_projects/Georg_animal_feces/data/metagenome/HiSeqRuns126-133-0138/wOutVertebrata/LLMGQC/final/X393_European_Rabbit/R1-R2_final.spring\n",
       "30 /ebio/abt3_projects/Georg_animal_feces/data/metagenome/HiSeqRuns126-133-0138/wOutVertebrata/LLMGQC/final/X430_Giraffe/R1-R2_final.spring        \n",
       "   Paired Notes\n",
       "1  TRUE   NA   \n",
       "2  TRUE   NA   \n",
       "⋮  ⋮      ⋮    \n",
       "29 TRUE   NA   \n",
       "30 TRUE   NA   "
      ]
     },
     "metadata": {},
     "output_type": "display_data"
    }
   ],
   "source": [
    "# filtering to target samples\n",
    "samps_n30r1 = c(\n",
    "\"X101_Horse\",\n",
    "\"X110_Noctule\",\n",
    "\"X120_Alpine_Shrew\",\n",
    "\"X124_Golden_Jackal\",\n",
    "\"X130_Alpine_Ibex\",\n",
    "\"X133_Domestic_Goat\",\n",
    "\"X153_Bank_Vole\",\n",
    "\"X155_Long_tailed_Field_Mouse\",\n",
    "\"X16_Fat_Dormouse\",\n",
    "\"X22_European_Rabbit\",\n",
    "\"X234_Beech_Marten\",\n",
    "\"X235_Pygmy_Slow_Loris\",\n",
    "\"X285_Short_beaked_Echidna\",\n",
    "\"X287_Common_Brushtail\",\n",
    "\"X340_Western_Lowland_Gorilla\",\n",
    "\"X355_Hoffmanns_Two_toed_Sloth\",\n",
    "\"X356_Northern_Tamandua\",\n",
    "\"X362_Gray_Four_eyed_Opossum\",\n",
    "\"X371_Linnaeus_Two_toed_Sloth\",\n",
    "\"X375_European_Pine_Marten\",\n",
    "\"X395_Przewalski_horse\",\n",
    "\"X40_Bactrian_Camel\",\n",
    "\"X414_Vervet_Monkey\",\n",
    "\"X42_Goitered_Gazelle\",\n",
    "\"X74_Steppe_Polecat\",\n",
    "\"X80_European_Otter\",\n",
    "\"X81_Wolf\",\n",
    "\"X87_Garden_Dormouse\",\n",
    "\"X393_European_Rabbit\",\n",
    "\"X430_Giraffe\")\n",
    "\n",
    "reads = reads %>%\n",
    "    filter.(Sample %in% samps_n30r1)\n",
    "reads"
   ]
  },
  {
   "cell_type": "code",
   "execution_count": 13,
   "metadata": {
    "ExecuteTime": {
     "end_time": "2022-03-26T16:29:00.125502Z",
     "start_time": "2022-03-26T16:28:59.978Z"
    }
   },
   "outputs": [
    {
     "name": "stdout",
     "output_type": "stream",
     "text": [
      "Directory already exists: /ebio/abt3_scratch/nyoungblut/animal_gut/HiSeqRuns126-133-0138/n30/ \n",
      "File written: /ebio/abt3_scratch/nyoungblut/animal_gut/HiSeqRuns126-133-0138/n30//samples_spring.tsv \n"
     ]
    }
   ],
   "source": [
    "# writing table\n",
    "D = '/ebio/abt3_scratch/nyoungblut/animal_gut/HiSeqRuns126-133-0138/n30/'\n",
    "make_dir(D)\n",
    "F = file.path(D, 'samples_spring.tsv')\n",
    "write_table(reads, F)"
   ]
  },
  {
   "cell_type": "markdown",
   "metadata": {},
   "source": [
    "# Uncompressing reads\n",
    "\n",
    "* LLCOMP pipeline"
   ]
  },
  {
   "cell_type": "markdown",
   "metadata": {},
   "source": [
    "### Config"
   ]
  },
  {
   "cell_type": "code",
   "execution_count": 14,
   "metadata": {
    "ExecuteTime": {
     "end_time": "2022-03-26T16:29:11.100648Z",
     "start_time": "2022-03-26T16:29:10.947Z"
    }
   },
   "outputs": [
    {
     "name": "stdout",
     "output_type": "stream",
     "text": [
      "# Input table with sample <-> read_file information\n",
      "samples_file: /ebio/abt3_scratch/nyoungblut/animal_gut/HiSeqRuns126-133-0138/n30/llcomp/samples_spring.tsv\n",
      "\n",
      "# Output location (can be the same as input)\n",
      "output_dir: /ebio/abt3_scratch/nyoungblut/animal_gut/HiSeqRuns126-133-0138/n30/llcomp/\n",
      "\n",
      "# temporary file directory (your username will be added automatically)\n",
      "tmp_dir: /ebio/abt3_scratch/\n",
      "\n",
      "# If input are *.spring, are they paired-end reads (or single)?\n",
      "spring_files_paired: True\n",
      "\n",
      "# Remove input read files?\n",
      "rm_input_reads: False\n",
      "\n",
      "# ionice for reducing I/O loads (use \"-c 2\" for normal usage)\n",
      "ionice: -c 3\n",
      "\n",
      "# pipeline params\n",
      "pipeline:\n",
      "  snakemake_folder: ./\n",
      "  script_folder: ./bin/scripts/\n",
      "  name: LLCOMP"
     ]
    }
   ],
   "source": [
    "F = file.path('/ebio/abt3_scratch/nyoungblut/animal_gut/HiSeqRuns126-133-0138/n30/llcomp/config.yaml')\n",
    "cat_file(F)"
   ]
  },
  {
   "cell_type": "markdown",
   "metadata": {},
   "source": [
    "### Run"
   ]
  },
  {
   "cell_type": "markdown",
   "metadata": {},
   "source": [
    "```\n",
    "(snakemake) @ rick:/tmp/global2/nyoungblut/code/dev/ll_pipelines/llcomp\n",
    "$ screen -L -S llcomp-ga ./snakemake_sge.sh /ebio/abt3_scratch/nyoungblut/animal_gut/HiSeqRuns126-133-0138/n30/llcomp/config.yaml 30 -F\n",
    "```"
   ]
  },
  {
   "cell_type": "markdown",
   "metadata": {},
   "source": [
    "## Summary"
   ]
  },
  {
   "cell_type": "code",
   "execution_count": 15,
   "metadata": {
    "ExecuteTime": {
     "end_time": "2022-03-26T16:29:30.355828Z",
     "start_time": "2022-03-26T16:29:30.197Z"
    }
   },
   "outputs": [
    {
     "data": {
      "text/html": [
       "<table class=\"dataframe\">\n",
       "<caption>A data.table: 30 × 5</caption>\n",
       "<thead>\n",
       "\t<tr><th scope=col>Sample</th><th scope=col>Read1</th><th scope=col>Read2</th><th scope=col>Paired</th><th scope=col>Notes</th></tr>\n",
       "\t<tr><th scope=col>&lt;chr&gt;</th><th scope=col>&lt;chr&gt;</th><th scope=col>&lt;chr&gt;</th><th scope=col>&lt;lgl&gt;</th><th scope=col>&lt;lgl&gt;</th></tr>\n",
       "</thead>\n",
       "<tbody>\n",
       "\t<tr><td>X411_Leopard       </td><td>/ebio/abt3_scratch/nyoungblut/animal_gut/HiSeqRuns126-133-0138/n30/llcomp/X411_Leopard/R1_final.fq.gz       </td><td>/ebio/abt3_scratch/nyoungblut/animal_gut/HiSeqRuns126-133-0138/n30/llcomp/X411_Leopard/R2_final.fq.gz       </td><td>TRUE</td><td>NA</td></tr>\n",
       "\t<tr><td>X43_European_Badger</td><td>/ebio/abt3_scratch/nyoungblut/animal_gut/HiSeqRuns126-133-0138/n30/llcomp/X43_European_Badger/R1_final.fq.gz</td><td>/ebio/abt3_scratch/nyoungblut/animal_gut/HiSeqRuns126-133-0138/n30/llcomp/X43_European_Badger/R2_final.fq.gz</td><td>TRUE</td><td>NA</td></tr>\n",
       "\t<tr><td>⋮</td><td>⋮</td><td>⋮</td><td>⋮</td><td>⋮</td></tr>\n",
       "\t<tr><td>X424_Quagga             </td><td>/ebio/abt3_scratch/nyoungblut/animal_gut/HiSeqRuns126-133-0138/n30/llcomp/X424_Quagga/R1_final.fq.gz             </td><td>/ebio/abt3_scratch/nyoungblut/animal_gut/HiSeqRuns126-133-0138/n30/llcomp/X424_Quagga/R2_final.fq.gz             </td><td>TRUE</td><td>NA</td></tr>\n",
       "\t<tr><td>X361_fail_Common_Opossum</td><td>/ebio/abt3_scratch/nyoungblut/animal_gut/HiSeqRuns126-133-0138/n30/llcomp/X361_fail_Common_Opossum/R1_final.fq.gz</td><td>/ebio/abt3_scratch/nyoungblut/animal_gut/HiSeqRuns126-133-0138/n30/llcomp/X361_fail_Common_Opossum/R2_final.fq.gz</td><td>TRUE</td><td>NA</td></tr>\n",
       "</tbody>\n",
       "</table>\n"
      ],
      "text/latex": [
       "A data.table: 30 × 5\n",
       "\\begin{tabular}{lllll}\n",
       " Sample & Read1 & Read2 & Paired & Notes\\\\\n",
       " <chr> & <chr> & <chr> & <lgl> & <lgl>\\\\\n",
       "\\hline\n",
       "\t X411\\_Leopard        & /ebio/abt3\\_scratch/nyoungblut/animal\\_gut/HiSeqRuns126-133-0138/n30/llcomp/X411\\_Leopard/R1\\_final.fq.gz        & /ebio/abt3\\_scratch/nyoungblut/animal\\_gut/HiSeqRuns126-133-0138/n30/llcomp/X411\\_Leopard/R2\\_final.fq.gz        & TRUE & NA\\\\\n",
       "\t X43\\_European\\_Badger & /ebio/abt3\\_scratch/nyoungblut/animal\\_gut/HiSeqRuns126-133-0138/n30/llcomp/X43\\_European\\_Badger/R1\\_final.fq.gz & /ebio/abt3\\_scratch/nyoungblut/animal\\_gut/HiSeqRuns126-133-0138/n30/llcomp/X43\\_European\\_Badger/R2\\_final.fq.gz & TRUE & NA\\\\\n",
       "\t ⋮ & ⋮ & ⋮ & ⋮ & ⋮\\\\\n",
       "\t X424\\_Quagga              & /ebio/abt3\\_scratch/nyoungblut/animal\\_gut/HiSeqRuns126-133-0138/n30/llcomp/X424\\_Quagga/R1\\_final.fq.gz              & /ebio/abt3\\_scratch/nyoungblut/animal\\_gut/HiSeqRuns126-133-0138/n30/llcomp/X424\\_Quagga/R2\\_final.fq.gz              & TRUE & NA\\\\\n",
       "\t X361\\_fail\\_Common\\_Opossum & /ebio/abt3\\_scratch/nyoungblut/animal\\_gut/HiSeqRuns126-133-0138/n30/llcomp/X361\\_fail\\_Common\\_Opossum/R1\\_final.fq.gz & /ebio/abt3\\_scratch/nyoungblut/animal\\_gut/HiSeqRuns126-133-0138/n30/llcomp/X361\\_fail\\_Common\\_Opossum/R2\\_final.fq.gz & TRUE & NA\\\\\n",
       "\\end{tabular}\n"
      ],
      "text/markdown": [
       "\n",
       "A data.table: 30 × 5\n",
       "\n",
       "| Sample &lt;chr&gt; | Read1 &lt;chr&gt; | Read2 &lt;chr&gt; | Paired &lt;lgl&gt; | Notes &lt;lgl&gt; |\n",
       "|---|---|---|---|---|\n",
       "| X411_Leopard        | /ebio/abt3_scratch/nyoungblut/animal_gut/HiSeqRuns126-133-0138/n30/llcomp/X411_Leopard/R1_final.fq.gz        | /ebio/abt3_scratch/nyoungblut/animal_gut/HiSeqRuns126-133-0138/n30/llcomp/X411_Leopard/R2_final.fq.gz        | TRUE | NA |\n",
       "| X43_European_Badger | /ebio/abt3_scratch/nyoungblut/animal_gut/HiSeqRuns126-133-0138/n30/llcomp/X43_European_Badger/R1_final.fq.gz | /ebio/abt3_scratch/nyoungblut/animal_gut/HiSeqRuns126-133-0138/n30/llcomp/X43_European_Badger/R2_final.fq.gz | TRUE | NA |\n",
       "| ⋮ | ⋮ | ⋮ | ⋮ | ⋮ |\n",
       "| X424_Quagga              | /ebio/abt3_scratch/nyoungblut/animal_gut/HiSeqRuns126-133-0138/n30/llcomp/X424_Quagga/R1_final.fq.gz              | /ebio/abt3_scratch/nyoungblut/animal_gut/HiSeqRuns126-133-0138/n30/llcomp/X424_Quagga/R2_final.fq.gz              | TRUE | NA |\n",
       "| X361_fail_Common_Opossum | /ebio/abt3_scratch/nyoungblut/animal_gut/HiSeqRuns126-133-0138/n30/llcomp/X361_fail_Common_Opossum/R1_final.fq.gz | /ebio/abt3_scratch/nyoungblut/animal_gut/HiSeqRuns126-133-0138/n30/llcomp/X361_fail_Common_Opossum/R2_final.fq.gz | TRUE | NA |\n",
       "\n"
      ],
      "text/plain": [
       "   Sample                  \n",
       "1  X411_Leopard            \n",
       "2  X43_European_Badger     \n",
       "⋮  ⋮                       \n",
       "29 X424_Quagga             \n",
       "30 X361_fail_Common_Opossum\n",
       "   Read1                                                                                                            \n",
       "1  /ebio/abt3_scratch/nyoungblut/animal_gut/HiSeqRuns126-133-0138/n30/llcomp/X411_Leopard/R1_final.fq.gz            \n",
       "2  /ebio/abt3_scratch/nyoungblut/animal_gut/HiSeqRuns126-133-0138/n30/llcomp/X43_European_Badger/R1_final.fq.gz     \n",
       "⋮  ⋮                                                                                                                \n",
       "29 /ebio/abt3_scratch/nyoungblut/animal_gut/HiSeqRuns126-133-0138/n30/llcomp/X424_Quagga/R1_final.fq.gz             \n",
       "30 /ebio/abt3_scratch/nyoungblut/animal_gut/HiSeqRuns126-133-0138/n30/llcomp/X361_fail_Common_Opossum/R1_final.fq.gz\n",
       "   Read2                                                                                                            \n",
       "1  /ebio/abt3_scratch/nyoungblut/animal_gut/HiSeqRuns126-133-0138/n30/llcomp/X411_Leopard/R2_final.fq.gz            \n",
       "2  /ebio/abt3_scratch/nyoungblut/animal_gut/HiSeqRuns126-133-0138/n30/llcomp/X43_European_Badger/R2_final.fq.gz     \n",
       "⋮  ⋮                                                                                                                \n",
       "29 /ebio/abt3_scratch/nyoungblut/animal_gut/HiSeqRuns126-133-0138/n30/llcomp/X424_Quagga/R2_final.fq.gz             \n",
       "30 /ebio/abt3_scratch/nyoungblut/animal_gut/HiSeqRuns126-133-0138/n30/llcomp/X361_fail_Common_Opossum/R2_final.fq.gz\n",
       "   Paired Notes\n",
       "1  TRUE   NA   \n",
       "2  TRUE   NA   \n",
       "⋮  ⋮      ⋮    \n",
       "29 TRUE   NA   \n",
       "30 TRUE   NA   "
      ]
     },
     "metadata": {},
     "output_type": "display_data"
    }
   ],
   "source": [
    "samples = '/ebio/abt3_scratch/nyoungblut/animal_gut/HiSeqRuns126-133-0138/n30/llcomp/samples.txt'\n",
    "samps = Fread(samples)\n",
    "samps"
   ]
  },
  {
   "cell_type": "code",
   "execution_count": 16,
   "metadata": {
    "ExecuteTime": {
     "end_time": "2022-03-26T16:29:33.344151Z",
     "start_time": "2022-03-26T16:29:33.170Z"
    }
   },
   "outputs": [
    {
     "name": "stdout",
     "output_type": "stream",
     "text": [
      "intersect(x,y): 30 \n",
      "setdiff(x,y): 149 \n",
      "setdiff(y,x): 0 \n",
      "union(x,y): 179 \n"
     ]
    },
    {
     "data": {
      "text/html": [
       "<table class=\"dataframe\">\n",
       "<caption>A tidytable: 30 × 5</caption>\n",
       "<thead>\n",
       "\t<tr><th scope=col>Taxon</th><th scope=col>Fasta</th><th scope=col>Sample</th><th scope=col>Read1</th><th scope=col>Read2</th></tr>\n",
       "\t<tr><th scope=col>&lt;chr&gt;</th><th scope=col>&lt;chr&gt;</th><th scope=col>&lt;chr&gt;</th><th scope=col>&lt;chr&gt;</th><th scope=col>&lt;chr&gt;</th></tr>\n",
       "</thead>\n",
       "<tbody>\n",
       "\t<tr><td>X411_Leopard       </td><td>/ebio/abt3_projects/databases_no-backup/animal_gut_metagenomes/wOutVertebrata/MG_assembly_mam/LLMGA//final_contigs/X411_Leopard/contigs.fna       </td><td>X411_Leopard       </td><td>/ebio/abt3_scratch/nyoungblut/animal_gut/HiSeqRuns126-133-0138/n30/llcomp/X411_Leopard/R1_final.fq.gz       </td><td>/ebio/abt3_scratch/nyoungblut/animal_gut/HiSeqRuns126-133-0138/n30/llcomp/X411_Leopard/R2_final.fq.gz       </td></tr>\n",
       "\t<tr><td>X43_European_Badger</td><td>/ebio/abt3_projects/databases_no-backup/animal_gut_metagenomes/wOutVertebrata/MG_assembly_mam/LLMGA//final_contigs/X43_European_Badger/contigs.fna</td><td>X43_European_Badger</td><td>/ebio/abt3_scratch/nyoungblut/animal_gut/HiSeqRuns126-133-0138/n30/llcomp/X43_European_Badger/R1_final.fq.gz</td><td>/ebio/abt3_scratch/nyoungblut/animal_gut/HiSeqRuns126-133-0138/n30/llcomp/X43_European_Badger/R2_final.fq.gz</td></tr>\n",
       "\t<tr><td>⋮</td><td>⋮</td><td>⋮</td><td>⋮</td><td>⋮</td></tr>\n",
       "\t<tr><td>X424_Quagga             </td><td>/ebio/abt3_projects/databases_no-backup/animal_gut_metagenomes/wOutVertebrata/MG_assembly_mam/LLMGA//final_contigs/X424_Quagga/contigs.fna             </td><td>X424_Quagga             </td><td>/ebio/abt3_scratch/nyoungblut/animal_gut/HiSeqRuns126-133-0138/n30/llcomp/X424_Quagga/R1_final.fq.gz             </td><td>/ebio/abt3_scratch/nyoungblut/animal_gut/HiSeqRuns126-133-0138/n30/llcomp/X424_Quagga/R2_final.fq.gz             </td></tr>\n",
       "\t<tr><td>X361_fail_Common_Opossum</td><td>/ebio/abt3_projects/databases_no-backup/animal_gut_metagenomes/wOutVertebrata/MG_assembly_mam/LLMGA//final_contigs/X361_fail_Common_Opossum/contigs.fna</td><td>X361_fail_Common_Opossum</td><td>/ebio/abt3_scratch/nyoungblut/animal_gut/HiSeqRuns126-133-0138/n30/llcomp/X361_fail_Common_Opossum/R1_final.fq.gz</td><td>/ebio/abt3_scratch/nyoungblut/animal_gut/HiSeqRuns126-133-0138/n30/llcomp/X361_fail_Common_Opossum/R2_final.fq.gz</td></tr>\n",
       "</tbody>\n",
       "</table>\n"
      ],
      "text/latex": [
       "A tidytable: 30 × 5\n",
       "\\begin{tabular}{lllll}\n",
       " Taxon & Fasta & Sample & Read1 & Read2\\\\\n",
       " <chr> & <chr> & <chr> & <chr> & <chr>\\\\\n",
       "\\hline\n",
       "\t X411\\_Leopard        & /ebio/abt3\\_projects/databases\\_no-backup/animal\\_gut\\_metagenomes/wOutVertebrata/MG\\_assembly\\_mam/LLMGA//final\\_contigs/X411\\_Leopard/contigs.fna        & X411\\_Leopard        & /ebio/abt3\\_scratch/nyoungblut/animal\\_gut/HiSeqRuns126-133-0138/n30/llcomp/X411\\_Leopard/R1\\_final.fq.gz        & /ebio/abt3\\_scratch/nyoungblut/animal\\_gut/HiSeqRuns126-133-0138/n30/llcomp/X411\\_Leopard/R2\\_final.fq.gz       \\\\\n",
       "\t X43\\_European\\_Badger & /ebio/abt3\\_projects/databases\\_no-backup/animal\\_gut\\_metagenomes/wOutVertebrata/MG\\_assembly\\_mam/LLMGA//final\\_contigs/X43\\_European\\_Badger/contigs.fna & X43\\_European\\_Badger & /ebio/abt3\\_scratch/nyoungblut/animal\\_gut/HiSeqRuns126-133-0138/n30/llcomp/X43\\_European\\_Badger/R1\\_final.fq.gz & /ebio/abt3\\_scratch/nyoungblut/animal\\_gut/HiSeqRuns126-133-0138/n30/llcomp/X43\\_European\\_Badger/R2\\_final.fq.gz\\\\\n",
       "\t ⋮ & ⋮ & ⋮ & ⋮ & ⋮\\\\\n",
       "\t X424\\_Quagga              & /ebio/abt3\\_projects/databases\\_no-backup/animal\\_gut\\_metagenomes/wOutVertebrata/MG\\_assembly\\_mam/LLMGA//final\\_contigs/X424\\_Quagga/contigs.fna              & X424\\_Quagga              & /ebio/abt3\\_scratch/nyoungblut/animal\\_gut/HiSeqRuns126-133-0138/n30/llcomp/X424\\_Quagga/R1\\_final.fq.gz              & /ebio/abt3\\_scratch/nyoungblut/animal\\_gut/HiSeqRuns126-133-0138/n30/llcomp/X424\\_Quagga/R2\\_final.fq.gz             \\\\\n",
       "\t X361\\_fail\\_Common\\_Opossum & /ebio/abt3\\_projects/databases\\_no-backup/animal\\_gut\\_metagenomes/wOutVertebrata/MG\\_assembly\\_mam/LLMGA//final\\_contigs/X361\\_fail\\_Common\\_Opossum/contigs.fna & X361\\_fail\\_Common\\_Opossum & /ebio/abt3\\_scratch/nyoungblut/animal\\_gut/HiSeqRuns126-133-0138/n30/llcomp/X361\\_fail\\_Common\\_Opossum/R1\\_final.fq.gz & /ebio/abt3\\_scratch/nyoungblut/animal\\_gut/HiSeqRuns126-133-0138/n30/llcomp/X361\\_fail\\_Common\\_Opossum/R2\\_final.fq.gz\\\\\n",
       "\\end{tabular}\n"
      ],
      "text/markdown": [
       "\n",
       "A tidytable: 30 × 5\n",
       "\n",
       "| Taxon &lt;chr&gt; | Fasta &lt;chr&gt; | Sample &lt;chr&gt; | Read1 &lt;chr&gt; | Read2 &lt;chr&gt; |\n",
       "|---|---|---|---|---|\n",
       "| X411_Leopard        | /ebio/abt3_projects/databases_no-backup/animal_gut_metagenomes/wOutVertebrata/MG_assembly_mam/LLMGA//final_contigs/X411_Leopard/contigs.fna        | X411_Leopard        | /ebio/abt3_scratch/nyoungblut/animal_gut/HiSeqRuns126-133-0138/n30/llcomp/X411_Leopard/R1_final.fq.gz        | /ebio/abt3_scratch/nyoungblut/animal_gut/HiSeqRuns126-133-0138/n30/llcomp/X411_Leopard/R2_final.fq.gz        |\n",
       "| X43_European_Badger | /ebio/abt3_projects/databases_no-backup/animal_gut_metagenomes/wOutVertebrata/MG_assembly_mam/LLMGA//final_contigs/X43_European_Badger/contigs.fna | X43_European_Badger | /ebio/abt3_scratch/nyoungblut/animal_gut/HiSeqRuns126-133-0138/n30/llcomp/X43_European_Badger/R1_final.fq.gz | /ebio/abt3_scratch/nyoungblut/animal_gut/HiSeqRuns126-133-0138/n30/llcomp/X43_European_Badger/R2_final.fq.gz |\n",
       "| ⋮ | ⋮ | ⋮ | ⋮ | ⋮ |\n",
       "| X424_Quagga              | /ebio/abt3_projects/databases_no-backup/animal_gut_metagenomes/wOutVertebrata/MG_assembly_mam/LLMGA//final_contigs/X424_Quagga/contigs.fna              | X424_Quagga              | /ebio/abt3_scratch/nyoungblut/animal_gut/HiSeqRuns126-133-0138/n30/llcomp/X424_Quagga/R1_final.fq.gz              | /ebio/abt3_scratch/nyoungblut/animal_gut/HiSeqRuns126-133-0138/n30/llcomp/X424_Quagga/R2_final.fq.gz              |\n",
       "| X361_fail_Common_Opossum | /ebio/abt3_projects/databases_no-backup/animal_gut_metagenomes/wOutVertebrata/MG_assembly_mam/LLMGA//final_contigs/X361_fail_Common_Opossum/contigs.fna | X361_fail_Common_Opossum | /ebio/abt3_scratch/nyoungblut/animal_gut/HiSeqRuns126-133-0138/n30/llcomp/X361_fail_Common_Opossum/R1_final.fq.gz | /ebio/abt3_scratch/nyoungblut/animal_gut/HiSeqRuns126-133-0138/n30/llcomp/X361_fail_Common_Opossum/R2_final.fq.gz |\n",
       "\n"
      ],
      "text/plain": [
       "   Taxon                   \n",
       "1  X411_Leopard            \n",
       "2  X43_European_Badger     \n",
       "⋮  ⋮                       \n",
       "29 X424_Quagga             \n",
       "30 X361_fail_Common_Opossum\n",
       "   Fasta                                                                                                                                                  \n",
       "1  /ebio/abt3_projects/databases_no-backup/animal_gut_metagenomes/wOutVertebrata/MG_assembly_mam/LLMGA//final_contigs/X411_Leopard/contigs.fna            \n",
       "2  /ebio/abt3_projects/databases_no-backup/animal_gut_metagenomes/wOutVertebrata/MG_assembly_mam/LLMGA//final_contigs/X43_European_Badger/contigs.fna     \n",
       "⋮  ⋮                                                                                                                                                      \n",
       "29 /ebio/abt3_projects/databases_no-backup/animal_gut_metagenomes/wOutVertebrata/MG_assembly_mam/LLMGA//final_contigs/X424_Quagga/contigs.fna             \n",
       "30 /ebio/abt3_projects/databases_no-backup/animal_gut_metagenomes/wOutVertebrata/MG_assembly_mam/LLMGA//final_contigs/X361_fail_Common_Opossum/contigs.fna\n",
       "   Sample                  \n",
       "1  X411_Leopard            \n",
       "2  X43_European_Badger     \n",
       "⋮  ⋮                       \n",
       "29 X424_Quagga             \n",
       "30 X361_fail_Common_Opossum\n",
       "   Read1                                                                                                            \n",
       "1  /ebio/abt3_scratch/nyoungblut/animal_gut/HiSeqRuns126-133-0138/n30/llcomp/X411_Leopard/R1_final.fq.gz            \n",
       "2  /ebio/abt3_scratch/nyoungblut/animal_gut/HiSeqRuns126-133-0138/n30/llcomp/X43_European_Badger/R1_final.fq.gz     \n",
       "⋮  ⋮                                                                                                                \n",
       "29 /ebio/abt3_scratch/nyoungblut/animal_gut/HiSeqRuns126-133-0138/n30/llcomp/X424_Quagga/R1_final.fq.gz             \n",
       "30 /ebio/abt3_scratch/nyoungblut/animal_gut/HiSeqRuns126-133-0138/n30/llcomp/X361_fail_Common_Opossum/R1_final.fq.gz\n",
       "   Read2                                                                                                            \n",
       "1  /ebio/abt3_scratch/nyoungblut/animal_gut/HiSeqRuns126-133-0138/n30/llcomp/X411_Leopard/R2_final.fq.gz            \n",
       "2  /ebio/abt3_scratch/nyoungblut/animal_gut/HiSeqRuns126-133-0138/n30/llcomp/X43_European_Badger/R2_final.fq.gz     \n",
       "⋮  ⋮                                                                                                                \n",
       "29 /ebio/abt3_scratch/nyoungblut/animal_gut/HiSeqRuns126-133-0138/n30/llcomp/X424_Quagga/R2_final.fq.gz             \n",
       "30 /ebio/abt3_scratch/nyoungblut/animal_gut/HiSeqRuns126-133-0138/n30/llcomp/X361_fail_Common_Opossum/R2_final.fq.gz"
      ]
     },
     "metadata": {},
     "output_type": "display_data"
    }
   ],
   "source": [
    "overlap(contigs$Sample, samps$Sample)\n",
    "contigs_j = contigs %>%\n",
    "    inner_join.(samps, c('Sample')) %>%\n",
    "    mutate.(Taxon = Sample) %>%\n",
    "    select.(Taxon, Fasta, Sample, Read1, Read2)\n",
    "contigs_j"
   ]
  },
  {
   "cell_type": "markdown",
   "metadata": {},
   "source": [
    "# Run1: n30"
   ]
  },
  {
   "cell_type": "code",
   "execution_count": 20,
   "metadata": {
    "ExecuteTime": {
     "end_time": "2022-03-26T16:32:03.101891Z",
     "start_time": "2022-03-26T16:32:02.965Z"
    }
   },
   "outputs": [
    {
     "name": "stdout",
     "output_type": "stream",
     "text": [
      "Directory already exists: /ebio/abt3_projects/databases_no-backup/DeepMAsED/version2/real_data_eval/animal-gut//len1k/n30r1 \n"
     ]
    }
   ],
   "source": [
    "work_dir1 = file.path(work_dir, 'len1k', 'n30r1')\n",
    "make_dir(work_dir1)"
   ]
  },
  {
   "cell_type": "code",
   "execution_count": 21,
   "metadata": {
    "ExecuteTime": {
     "end_time": "2022-03-26T16:32:03.381327Z",
     "start_time": "2022-03-26T16:32:03.240Z"
    }
   },
   "outputs": [
    {
     "name": "stdout",
     "output_type": "stream",
     "text": [
      "File written: /ebio/abt3_projects/databases_no-backup/DeepMAsED/version2/real_data_eval/animal-gut//len1k/n30r1/samples.tsv \n"
     ]
    }
   ],
   "source": [
    "# writing table\n",
    "F = file.path(work_dir1, 'samples.tsv')\n",
    "contigs_j %>% write_table(F)"
   ]
  },
  {
   "cell_type": "markdown",
   "metadata": {},
   "source": [
    "## ResMiCo"
   ]
  },
  {
   "cell_type": "markdown",
   "metadata": {},
   "source": [
    "### Config"
   ]
  },
  {
   "cell_type": "code",
   "execution_count": 44,
   "metadata": {
    "ExecuteTime": {
     "end_time": "2022-02-12T12:35:05.491940Z",
     "start_time": "2022-02-12T12:35:05.458Z"
    }
   },
   "outputs": [
    {
     "name": "stdout",
     "output_type": "stream",
     "text": [
      "# Input table\n",
      "## Table of genomes\n",
      "genomes_file: /ebio/abt3_projects/databases_no-backup/DeepMAsED/version2/real_data_eval/animal-gut/n30r1/samples.tsv\n",
      "\n",
      "# Output directory\n",
      "output_dir: /ebio/abt3_projects/databases_no-backup/DeepMAsED/version2/real_data_eval/animal-gut/n30r1/\n",
      "\n",
      "# Temporary output directory (/dev/shm/ for shared memory)\n",
      "tmp_dir: /ebio/abt3_scratch/\n",
      "\n",
      "# Email for notifications (\"Skip\" to skip)\n",
      "email: nyoungblut@tuebingen.mpg.de\n",
      "\n",
      "# software parameters for data simulations\n",
      "## Use \"Skip\" to skip  steps. If no params for rule, use \"\"\n",
      "## `reps:` is the number of replicate simulations\n",
      "## If `keep_reads: True`, then simulated reads are kept\n",
      "params:\n",
      "  ionice: -c 3\n",
      "  # simulating metagenomes\n",
      "  MGSIM:\n",
      "#    genome_download: \"\"\n",
      "    sim_reps: 1\n",
      "    community:\n",
      "      richness:\n",
      "        - 0.5\n",
      "        - 0.8\n",
      "      abundance_distribution:\n",
      "        - \"mean:10,sigma:1\"\n",
      "        - \"mean:10,sigma:2\"\n",
      "      random_seed: 8192\n",
      "      other_sim_params: --group-bias 0\n",
      "    reads: \n",
      "      length:\n",
      "        - 100\n",
      "      depth:\n",
      "        - 1000000\n",
      "      other_sim_params: --art-paired --art-mflen 270 --art-sdev 50 --rndSeed 8712\n",
      "                        --art-qprof1 data/art_error_profiles/HiSeq2500L150R1.txt\n",
      "                        --art-qprof2 data/art_error_profiles/HiSeq2500L150R2.txt\n",
      "      skewer: -n -l 70 -q 25 --format sanger\n",
      "      keep_reads: False\n",
      "  # coverage\n",
      "  nonpareil:\n",
      "    params: -T kmer\n",
      "    summary: 1e9   # this is target seq. depth\n",
      "  # assemblying metagenomes\n",
      "  assemblers:\n",
      "    metaspades: -k auto --only-assembler\n",
      "    megahit: --min-count 1 --min-contig-len 1000\n",
      "  # assembly filtering\n",
      "  contigs:\n",
      "    length_cutoff: 1000       # length in bp \n",
      "  # assessing assembly errors\n",
      "  asmbl_errors:\n",
      "    metaquast: --max-ref-number 0 --min-contig 1000 --min-identity 95 --extensive-mis-size 100\n",
      "               --no-html --no-plots --no-icarus --no-gc --no-snps --no-sv\n",
      "    keep_genomes: False\n",
      "  # mapping reads to contigs\n",
      "  map:\n",
      "    samtools: \"\"\n",
      "    bowtie2: \"\"\n",
      "    max_coverage: 20\n",
      "    keep_bam: True\n",
      "    keep_faidx: True\n",
      "    create_bigwig: False\n",
      "  # creating ResMiCo feature tables\n",
      "  feature_table:\n",
      "    make: --window 6\n",
      "  # state-of-the-art\n",
      "  SotA:\n",
      "    ALE: Skip # \"\"\n",
      "    VALET: Skip # \"\"\n",
      "    metaMIC:\n",
      "      extract: Skip #--mlen 1000\n",
      "      predict: --mlen 1000 --slen 500 -a MEGAHIT\n",
      "\n",
      "# params just for creating feature tables for non-simulated data\n",
      "nonsim_params:\n",
      "  # max number of reads to use\n",
      "  subsample_reads: Skip #1000000\n",
      "\n",
      "# snakemake pipeline\n",
      "pipeline:\n",
      "  snakemake_folder: ./\n",
      "  script_folder: ./bin/scripts/\n",
      "  name: ResMiCo-SM"
     ]
    }
   ],
   "source": [
    "F = file.path(work_dir1, 'config.yaml')\n",
    "cat_file(F)"
   ]
  },
  {
   "cell_type": "markdown",
   "metadata": {},
   "source": [
    "### Run"
   ]
  },
  {
   "cell_type": "markdown",
   "metadata": {},
   "source": [
    "```\n",
    "(snakemake) @ rick:/ebio/abt3_projects/DeepMAsED/version2/deepmased/ResMiCo-SM\n",
    "screen -L -S rmc-animal ./snakemake_sge.sh /ebio/abt3_projects/databases_no-backup/DeepMAsED/version2/real_data_eval/animal-gut/n30r1/config.yaml 30 -F\n",
    "```"
   ]
  },
  {
   "cell_type": "markdown",
   "metadata": {},
   "source": [
    "# sessionInfo"
   ]
  },
  {
   "cell_type": "code",
   "execution_count": 46,
   "metadata": {
    "ExecuteTime": {
     "end_time": "2022-02-15T18:55:21.354556Z",
     "start_time": "2022-02-15T18:55:21.181Z"
    }
   },
   "outputs": [
    {
     "data": {
      "text/plain": [
       "R version 4.1.1 (2021-08-10)\n",
       "Platform: x86_64-conda-linux-gnu (64-bit)\n",
       "Running under: Ubuntu 18.04.6 LTS\n",
       "\n",
       "Matrix products: default\n",
       "BLAS/LAPACK: /tmp/global2/nyoungblut/code/general/conda_envs/general-tidyverse/lib/libopenblasp-r0.3.18.so\n",
       "\n",
       "locale:\n",
       " [1] LC_CTYPE=en_US.UTF-8       LC_NUMERIC=C              \n",
       " [3] LC_TIME=en_US.UTF-8        LC_COLLATE=en_US.UTF-8    \n",
       " [5] LC_MONETARY=en_US.UTF-8    LC_MESSAGES=en_US.UTF-8   \n",
       " [7] LC_PAPER=en_US.UTF-8       LC_NAME=C                 \n",
       " [9] LC_ADDRESS=C               LC_TELEPHONE=C            \n",
       "[11] LC_MEASUREMENT=en_US.UTF-8 LC_IDENTIFICATION=C       \n",
       "\n",
       "attached base packages:\n",
       "[1] stats     graphics  grDevices utils     datasets  methods   base     \n",
       "\n",
       "other attached packages:\n",
       "[1] LeyLabRMisc_0.2.1  clustermq_0.8.95.2 tidytable_0.6.6    data.table_1.14.2 \n",
       "[5] ggplot2_3.3.5      tidyr_1.1.4        dplyr_1.0.7       \n",
       "\n",
       "loaded via a namespace (and not attached):\n",
       " [1] Rcpp_1.0.7       plyr_1.8.6       pillar_1.6.4     compiler_4.1.1  \n",
       " [5] base64enc_0.1-3  tools_4.1.1      digest_0.6.29    uuid_1.0-3      \n",
       " [9] jsonlite_1.7.2   evaluate_0.14    lifecycle_1.0.1  tibble_3.1.6    \n",
       "[13] gtable_0.3.0     pkgconfig_2.0.3  rlang_0.4.12     IRdisplay_1.1   \n",
       "[17] IRkernel_1.3     fastmap_1.1.0    repr_1.1.4       withr_2.4.3     \n",
       "[21] generics_0.1.1   vctrs_0.3.8      grid_4.1.1       tidyselect_1.1.1\n",
       "[25] glue_1.6.0       R6_2.5.1         fansi_1.0.0      pbdZMQ_0.3-6    \n",
       "[29] purrr_0.3.4      magrittr_2.0.1   codetools_0.2-18 scales_1.1.1    \n",
       "[33] ellipsis_0.3.2   htmltools_0.5.2  colorspace_2.0-2 utf8_1.2.2      \n",
       "[37] munsell_0.5.0    crayon_1.4.2    "
      ]
     },
     "metadata": {},
     "output_type": "display_data"
    }
   ],
   "source": [
    "sessionInfo()"
   ]
  }
 ],
 "metadata": {
  "kernelspec": {
   "display_name": "R [conda env:general-tidyverse]",
   "language": "R",
   "name": "conda-env-general-tidyverse-r"
  },
  "language_info": {
   "codemirror_mode": "r",
   "file_extension": ".r",
   "mimetype": "text/x-r-source",
   "name": "R",
   "pygments_lexer": "r",
   "version": "4.1.1"
  },
  "notify_time": "30",
  "toc": {
   "base_numbering": 1,
   "nav_menu": {},
   "number_sections": true,
   "sideBar": true,
   "skip_h1_title": false,
   "title_cell": "Table of Contents",
   "title_sidebar": "Contents",
   "toc_cell": true,
   "toc_position": {},
   "toc_section_display": true,
   "toc_window_display": true
  }
 },
 "nbformat": 4,
 "nbformat_minor": 4
}
