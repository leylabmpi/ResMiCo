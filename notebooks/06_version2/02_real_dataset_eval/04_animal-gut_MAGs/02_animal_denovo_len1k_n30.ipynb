{
 "cells": [
  {
   "cell_type": "markdown",
   "metadata": {
    "toc": true
   },
   "source": [
    "<h1>Table of Contents<span class=\"tocSkip\"></span></h1>\n",
    "<div class=\"toc\"><ul class=\"toc-item\"><li><span><a href=\"#Goal\" data-toc-modified-id=\"Goal-1\"><span class=\"toc-item-num\">1&nbsp;&nbsp;</span>Goal</a></span></li><li><span><a href=\"#Var\" data-toc-modified-id=\"Var-2\"><span class=\"toc-item-num\">2&nbsp;&nbsp;</span>Var</a></span></li><li><span><a href=\"#Init\" data-toc-modified-id=\"Init-3\"><span class=\"toc-item-num\">3&nbsp;&nbsp;</span>Init</a></span></li><li><span><a href=\"#Load\" data-toc-modified-id=\"Load-4\"><span class=\"toc-item-num\">4&nbsp;&nbsp;</span>Load</a></span><ul class=\"toc-item\"><li><ul class=\"toc-item\"><li><span><a href=\"#Checks\" data-toc-modified-id=\"Checks-4.0.1\"><span class=\"toc-item-num\">4.0.1&nbsp;&nbsp;</span>Checks</a></span></li></ul></li></ul></li><li><span><a href=\"#n30\" data-toc-modified-id=\"n30-5\"><span class=\"toc-item-num\">5&nbsp;&nbsp;</span>n30</a></span><ul class=\"toc-item\"><li><span><a href=\"#LLCOMP\" data-toc-modified-id=\"LLCOMP-5.1\"><span class=\"toc-item-num\">5.1&nbsp;&nbsp;</span>LLCOMP</a></span><ul class=\"toc-item\"><li><span><a href=\"#Config\" data-toc-modified-id=\"Config-5.1.1\"><span class=\"toc-item-num\">5.1.1&nbsp;&nbsp;</span>Config</a></span></li><li><span><a href=\"#Run\" data-toc-modified-id=\"Run-5.1.2\"><span class=\"toc-item-num\">5.1.2&nbsp;&nbsp;</span>Run</a></span></li></ul></li><li><span><a href=\"#Summary\" data-toc-modified-id=\"Summary-5.2\"><span class=\"toc-item-num\">5.2&nbsp;&nbsp;</span>Summary</a></span></li><li><span><a href=\"#LLMGA\" data-toc-modified-id=\"LLMGA-5.3\"><span class=\"toc-item-num\">5.3&nbsp;&nbsp;</span>LLMGA</a></span><ul class=\"toc-item\"><li><span><a href=\"#Config\" data-toc-modified-id=\"Config-5.3.1\"><span class=\"toc-item-num\">5.3.1&nbsp;&nbsp;</span>Config</a></span></li><li><span><a href=\"#Run\" data-toc-modified-id=\"Run-5.3.2\"><span class=\"toc-item-num\">5.3.2&nbsp;&nbsp;</span>Run</a></span></li></ul></li><li><span><a href=\"#Summary\" data-toc-modified-id=\"Summary-5.4\"><span class=\"toc-item-num\">5.4&nbsp;&nbsp;</span>Summary</a></span></li><li><span><a href=\"#ResMiCo-SM\" data-toc-modified-id=\"ResMiCo-SM-5.5\"><span class=\"toc-item-num\">5.5&nbsp;&nbsp;</span>ResMiCo-SM</a></span><ul class=\"toc-item\"><li><span><a href=\"#Config\" data-toc-modified-id=\"Config-5.5.1\"><span class=\"toc-item-num\">5.5.1&nbsp;&nbsp;</span>Config</a></span></li><li><span><a href=\"#Run\" data-toc-modified-id=\"Run-5.5.2\"><span class=\"toc-item-num\">5.5.2&nbsp;&nbsp;</span>Run</a></span></li></ul></li><li><span><a href=\"#ResMiCo-SM:-variable-length\" data-toc-modified-id=\"ResMiCo-SM:-variable-length-5.6\"><span class=\"toc-item-num\">5.6&nbsp;&nbsp;</span>ResMiCo-SM: variable length</a></span><ul class=\"toc-item\"><li><span><a href=\"#Config\" data-toc-modified-id=\"Config-5.6.1\"><span class=\"toc-item-num\">5.6.1&nbsp;&nbsp;</span>Config</a></span></li><li><span><a href=\"#Run\" data-toc-modified-id=\"Run-5.6.2\"><span class=\"toc-item-num\">5.6.2&nbsp;&nbsp;</span>Run</a></span></li></ul></li></ul></li><li><span><a href=\"#sessionInfo\" data-toc-modified-id=\"sessionInfo-6\"><span class=\"toc-item-num\">6&nbsp;&nbsp;</span>sessionInfo</a></span></li></ul></div>"
   ]
  },
  {
   "cell_type": "markdown",
   "metadata": {},
   "source": [
    "# Goal\n",
    "\n",
    "* Re-do de-novo assemblies, but use a contig length cutoff of 1000 bp\n",
    "* This will match the simulations that we've used"
   ]
  },
  {
   "cell_type": "markdown",
   "metadata": {},
   "source": [
    "# Var"
   ]
  },
  {
   "cell_type": "code",
   "execution_count": 8,
   "metadata": {
    "ExecuteTime": {
     "end_time": "2022-03-26T16:35:49.998228Z",
     "start_time": "2022-03-26T16:35:48.716Z"
    }
   },
   "outputs": [],
   "source": [
    "work_dir = '/ebio/abt3_projects/databases_no-backup/DeepMAsED/version2/real_data_eval/animal-gut/len1k/n30r1/'\n",
    "\n",
    "# existing data\n",
    "asmbl_dir = '/ebio/abt3_projects/databases_no-backup/animal_gut_metagenomes/wOutVertebrata/MG_assembly_mam/LLMGA/'\n",
    "read_dir = '/ebio/abt3_projects/Georg_animal_feces/data/metagenome/HiSeqRuns126-133-0138/wOutVertebrata/LLMGQC/final/'\n"
   ]
  },
  {
   "cell_type": "markdown",
   "metadata": {},
   "source": [
    "# Init"
   ]
  },
  {
   "cell_type": "code",
   "execution_count": 11,
   "metadata": {
    "ExecuteTime": {
     "end_time": "2022-03-26T16:35:59.545427Z",
     "start_time": "2022-03-26T16:35:59.398Z"
    }
   },
   "outputs": [],
   "source": [
    "library(dplyr)\n",
    "library(tidyr)\n",
    "library(ggplot2)\n",
    "library(data.table)\n",
    "library(tidytable)\n",
    "library(LeyLabRMisc)\n",
    "Init()"
   ]
  },
  {
   "cell_type": "markdown",
   "metadata": {},
   "source": [
    "# Load"
   ]
  },
  {
   "cell_type": "code",
   "execution_count": 40,
   "metadata": {
    "ExecuteTime": {
     "end_time": "2022-02-26T12:42:21.593353Z",
     "start_time": "2022-02-26T12:42:21.437Z"
    }
   },
   "outputs": [],
   "source": [
    "# parsing out sample from file path\n",
    "get_sample = function(x){\n",
    "    x %>% strsplit('/') %>% unlist %>% .[11]\n",
    "}"
   ]
  },
  {
   "cell_type": "code",
   "execution_count": 41,
   "metadata": {
    "ExecuteTime": {
     "end_time": "2022-02-26T12:42:22.532595Z",
     "start_time": "2022-02-26T12:42:21.541Z"
    }
   },
   "outputs": [
    {
     "data": {
      "text/html": [
       "<table class=\"dataframe\">\n",
       "<caption>A data.frame: 179 × 2</caption>\n",
       "<thead>\n",
       "\t<tr><th></th><th scope=col>Sample</th><th scope=col>Fasta</th></tr>\n",
       "\t<tr><th></th><th scope=col>&lt;chr&gt;</th><th scope=col>&lt;chr&gt;</th></tr>\n",
       "</thead>\n",
       "<tbody>\n",
       "\t<tr><th scope=row>/ebio/abt3_projects/databases_no-backup/animal_gut_metagenomes/wOutVertebrata/MG_assembly_mam/LLMGA//final_contigs/F42_Fallow_Deer/contigs.fna</th><td>F42_Fallow_Deer</td><td>/ebio/abt3_projects/databases_no-backup/animal_gut_metagenomes/wOutVertebrata/MG_assembly_mam/LLMGA//final_contigs/F42_Fallow_Deer/contigs.fna</td></tr>\n",
       "\t<tr><th scope=row>/ebio/abt3_projects/databases_no-backup/animal_gut_metagenomes/wOutVertebrata/MG_assembly_mam/LLMGA//final_contigs/F44_Fallow_Deer/contigs.fna</th><td>F44_Fallow_Deer</td><td>/ebio/abt3_projects/databases_no-backup/animal_gut_metagenomes/wOutVertebrata/MG_assembly_mam/LLMGA//final_contigs/F44_Fallow_Deer/contigs.fna</td></tr>\n",
       "\t<tr><th scope=row>⋮</th><td>⋮</td><td>⋮</td></tr>\n",
       "\t<tr><th scope=row>/ebio/abt3_projects/databases_no-backup/animal_gut_metagenomes/wOutVertebrata/MG_assembly_mam/LLMGA//final_contigs/X96_European_Hare/contigs.fna</th><td>X96_European_Hare        </td><td>/ebio/abt3_projects/databases_no-backup/animal_gut_metagenomes/wOutVertebrata/MG_assembly_mam/LLMGA//final_contigs/X96_European_Hare/contigs.fna        </td></tr>\n",
       "\t<tr><th scope=row>/ebio/abt3_projects/databases_no-backup/animal_gut_metagenomes/wOutVertebrata/MG_assembly_mam/LLMGA//final_contigs/X98_Eurasian_Red_Squirrel/contigs.fna</th><td>X98_Eurasian_Red_Squirrel</td><td>/ebio/abt3_projects/databases_no-backup/animal_gut_metagenomes/wOutVertebrata/MG_assembly_mam/LLMGA//final_contigs/X98_Eurasian_Red_Squirrel/contigs.fna</td></tr>\n",
       "</tbody>\n",
       "</table>\n"
      ],
      "text/latex": [
       "A data.frame: 179 × 2\n",
       "\\begin{tabular}{r|ll}\n",
       "  & Sample & Fasta\\\\\n",
       "  & <chr> & <chr>\\\\\n",
       "\\hline\n",
       "\t/ebio/abt3\\_projects/databases\\_no-backup/animal\\_gut\\_metagenomes/wOutVertebrata/MG\\_assembly\\_mam/LLMGA//final\\_contigs/F42\\_Fallow\\_Deer/contigs.fna & F42\\_Fallow\\_Deer & /ebio/abt3\\_projects/databases\\_no-backup/animal\\_gut\\_metagenomes/wOutVertebrata/MG\\_assembly\\_mam/LLMGA//final\\_contigs/F42\\_Fallow\\_Deer/contigs.fna\\\\\n",
       "\t/ebio/abt3\\_projects/databases\\_no-backup/animal\\_gut\\_metagenomes/wOutVertebrata/MG\\_assembly\\_mam/LLMGA//final\\_contigs/F44\\_Fallow\\_Deer/contigs.fna & F44\\_Fallow\\_Deer & /ebio/abt3\\_projects/databases\\_no-backup/animal\\_gut\\_metagenomes/wOutVertebrata/MG\\_assembly\\_mam/LLMGA//final\\_contigs/F44\\_Fallow\\_Deer/contigs.fna\\\\\n",
       "\t⋮ & ⋮ & ⋮\\\\\n",
       "\t/ebio/abt3\\_projects/databases\\_no-backup/animal\\_gut\\_metagenomes/wOutVertebrata/MG\\_assembly\\_mam/LLMGA//final\\_contigs/X96\\_European\\_Hare/contigs.fna & X96\\_European\\_Hare         & /ebio/abt3\\_projects/databases\\_no-backup/animal\\_gut\\_metagenomes/wOutVertebrata/MG\\_assembly\\_mam/LLMGA//final\\_contigs/X96\\_European\\_Hare/contigs.fna        \\\\\n",
       "\t/ebio/abt3\\_projects/databases\\_no-backup/animal\\_gut\\_metagenomes/wOutVertebrata/MG\\_assembly\\_mam/LLMGA//final\\_contigs/X98\\_Eurasian\\_Red\\_Squirrel/contigs.fna & X98\\_Eurasian\\_Red\\_Squirrel & /ebio/abt3\\_projects/databases\\_no-backup/animal\\_gut\\_metagenomes/wOutVertebrata/MG\\_assembly\\_mam/LLMGA//final\\_contigs/X98\\_Eurasian\\_Red\\_Squirrel/contigs.fna\\\\\n",
       "\\end{tabular}\n"
      ],
      "text/markdown": [
       "\n",
       "A data.frame: 179 × 2\n",
       "\n",
       "| <!--/--> | Sample &lt;chr&gt; | Fasta &lt;chr&gt; |\n",
       "|---|---|---|\n",
       "| /ebio/abt3_projects/databases_no-backup/animal_gut_metagenomes/wOutVertebrata/MG_assembly_mam/LLMGA//final_contigs/F42_Fallow_Deer/contigs.fna | F42_Fallow_Deer | /ebio/abt3_projects/databases_no-backup/animal_gut_metagenomes/wOutVertebrata/MG_assembly_mam/LLMGA//final_contigs/F42_Fallow_Deer/contigs.fna |\n",
       "| /ebio/abt3_projects/databases_no-backup/animal_gut_metagenomes/wOutVertebrata/MG_assembly_mam/LLMGA//final_contigs/F44_Fallow_Deer/contigs.fna | F44_Fallow_Deer | /ebio/abt3_projects/databases_no-backup/animal_gut_metagenomes/wOutVertebrata/MG_assembly_mam/LLMGA//final_contigs/F44_Fallow_Deer/contigs.fna |\n",
       "| ⋮ | ⋮ | ⋮ |\n",
       "| /ebio/abt3_projects/databases_no-backup/animal_gut_metagenomes/wOutVertebrata/MG_assembly_mam/LLMGA//final_contigs/X96_European_Hare/contigs.fna | X96_European_Hare         | /ebio/abt3_projects/databases_no-backup/animal_gut_metagenomes/wOutVertebrata/MG_assembly_mam/LLMGA//final_contigs/X96_European_Hare/contigs.fna         |\n",
       "| /ebio/abt3_projects/databases_no-backup/animal_gut_metagenomes/wOutVertebrata/MG_assembly_mam/LLMGA//final_contigs/X98_Eurasian_Red_Squirrel/contigs.fna | X98_Eurasian_Red_Squirrel | /ebio/abt3_projects/databases_no-backup/animal_gut_metagenomes/wOutVertebrata/MG_assembly_mam/LLMGA//final_contigs/X98_Eurasian_Red_Squirrel/contigs.fna |\n",
       "\n"
      ],
      "text/plain": [
       "                                                                                                                                                         Sample                   \n",
       "/ebio/abt3_projects/databases_no-backup/animal_gut_metagenomes/wOutVertebrata/MG_assembly_mam/LLMGA//final_contigs/F42_Fallow_Deer/contigs.fna           F42_Fallow_Deer          \n",
       "/ebio/abt3_projects/databases_no-backup/animal_gut_metagenomes/wOutVertebrata/MG_assembly_mam/LLMGA//final_contigs/F44_Fallow_Deer/contigs.fna           F44_Fallow_Deer          \n",
       "⋮                                                                                                                                                        ⋮                        \n",
       "/ebio/abt3_projects/databases_no-backup/animal_gut_metagenomes/wOutVertebrata/MG_assembly_mam/LLMGA//final_contigs/X96_European_Hare/contigs.fna         X96_European_Hare        \n",
       "/ebio/abt3_projects/databases_no-backup/animal_gut_metagenomes/wOutVertebrata/MG_assembly_mam/LLMGA//final_contigs/X98_Eurasian_Red_Squirrel/contigs.fna X98_Eurasian_Red_Squirrel\n",
       "                                                                                                                                                         Fasta                                                                                                                                                   \n",
       "/ebio/abt3_projects/databases_no-backup/animal_gut_metagenomes/wOutVertebrata/MG_assembly_mam/LLMGA//final_contigs/F42_Fallow_Deer/contigs.fna           /ebio/abt3_projects/databases_no-backup/animal_gut_metagenomes/wOutVertebrata/MG_assembly_mam/LLMGA//final_contigs/F42_Fallow_Deer/contigs.fna          \n",
       "/ebio/abt3_projects/databases_no-backup/animal_gut_metagenomes/wOutVertebrata/MG_assembly_mam/LLMGA//final_contigs/F44_Fallow_Deer/contigs.fna           /ebio/abt3_projects/databases_no-backup/animal_gut_metagenomes/wOutVertebrata/MG_assembly_mam/LLMGA//final_contigs/F44_Fallow_Deer/contigs.fna          \n",
       "⋮                                                                                                                                                        ⋮                                                                                                                                                       \n",
       "/ebio/abt3_projects/databases_no-backup/animal_gut_metagenomes/wOutVertebrata/MG_assembly_mam/LLMGA//final_contigs/X96_European_Hare/contigs.fna         /ebio/abt3_projects/databases_no-backup/animal_gut_metagenomes/wOutVertebrata/MG_assembly_mam/LLMGA//final_contigs/X96_European_Hare/contigs.fna        \n",
       "/ebio/abt3_projects/databases_no-backup/animal_gut_metagenomes/wOutVertebrata/MG_assembly_mam/LLMGA//final_contigs/X98_Eurasian_Red_Squirrel/contigs.fna /ebio/abt3_projects/databases_no-backup/animal_gut_metagenomes/wOutVertebrata/MG_assembly_mam/LLMGA//final_contigs/X98_Eurasian_Red_Squirrel/contigs.fna"
      ]
     },
     "metadata": {},
     "output_type": "display_data"
    }
   ],
   "source": [
    "# MAGs\n",
    "contigs = list_files(file.path(asmbl_dir, 'final_contigs'), 'contigs.fna')\n",
    "contigs = data.frame(\n",
    "    Sample = sapply(contigs, get_sample),\n",
    "    Fasta = contigs\n",
    ")\n",
    "contigs"
   ]
  },
  {
   "cell_type": "code",
   "execution_count": 42,
   "metadata": {
    "ExecuteTime": {
     "end_time": "2022-02-26T12:42:22.621755Z",
     "start_time": "2022-02-26T12:42:22.425Z"
    }
   },
   "outputs": [
    {
     "data": {
      "text/html": [
       "<table class=\"dataframe\">\n",
       "<caption>A data.table: 324 × 4</caption>\n",
       "<thead>\n",
       "\t<tr><th scope=col>Sample</th><th scope=col>Reads</th><th scope=col>Paired</th><th scope=col>Notes</th></tr>\n",
       "\t<tr><th scope=col>&lt;chr&gt;</th><th scope=col>&lt;chr&gt;</th><th scope=col>&lt;lgl&gt;</th><th scope=col>&lt;lgl&gt;</th></tr>\n",
       "</thead>\n",
       "<tbody>\n",
       "\t<tr><td>X101_Horse      </td><td>/ebio/abt3_projects/Georg_animal_feces/data/metagenome/HiSeqRuns126-133-0138/wOutVertebrata/LLMGQC/final/X101_Horse/R1-R2_final.spring      </td><td>TRUE</td><td>NA</td></tr>\n",
       "\t<tr><td>X107_House_Mouse</td><td>/ebio/abt3_projects/Georg_animal_feces/data/metagenome/HiSeqRuns126-133-0138/wOutVertebrata/LLMGQC/final/X107_House_Mouse/R1-R2_final.spring</td><td>TRUE</td><td>NA</td></tr>\n",
       "\t<tr><td>⋮</td><td>⋮</td><td>⋮</td><td>⋮</td></tr>\n",
       "\t<tr><td>X92_Lesser_White_toothed_Shrew</td><td>/ebio/abt3_projects/Georg_animal_feces/data/metagenome/HiSeqRuns126-133-0138/wOutVertebrata/LLMGQC/final/X92_Lesser_White_toothed_Shrew/R1-R2_final.spring</td><td>TRUE</td><td>NA</td></tr>\n",
       "\t<tr><td>X93_Red_Sheep                 </td><td>/ebio/abt3_projects/Georg_animal_feces/data/metagenome/HiSeqRuns126-133-0138/wOutVertebrata/LLMGQC/final/X93_Red_Sheep/R1-R2_final.spring                 </td><td>TRUE</td><td>NA</td></tr>\n",
       "</tbody>\n",
       "</table>\n"
      ],
      "text/latex": [
       "A data.table: 324 × 4\n",
       "\\begin{tabular}{llll}\n",
       " Sample & Reads & Paired & Notes\\\\\n",
       " <chr> & <chr> & <lgl> & <lgl>\\\\\n",
       "\\hline\n",
       "\t X101\\_Horse       & /ebio/abt3\\_projects/Georg\\_animal\\_feces/data/metagenome/HiSeqRuns126-133-0138/wOutVertebrata/LLMGQC/final/X101\\_Horse/R1-R2\\_final.spring       & TRUE & NA\\\\\n",
       "\t X107\\_House\\_Mouse & /ebio/abt3\\_projects/Georg\\_animal\\_feces/data/metagenome/HiSeqRuns126-133-0138/wOutVertebrata/LLMGQC/final/X107\\_House\\_Mouse/R1-R2\\_final.spring & TRUE & NA\\\\\n",
       "\t ⋮ & ⋮ & ⋮ & ⋮\\\\\n",
       "\t X92\\_Lesser\\_White\\_toothed\\_Shrew & /ebio/abt3\\_projects/Georg\\_animal\\_feces/data/metagenome/HiSeqRuns126-133-0138/wOutVertebrata/LLMGQC/final/X92\\_Lesser\\_White\\_toothed\\_Shrew/R1-R2\\_final.spring & TRUE & NA\\\\\n",
       "\t X93\\_Red\\_Sheep                  & /ebio/abt3\\_projects/Georg\\_animal\\_feces/data/metagenome/HiSeqRuns126-133-0138/wOutVertebrata/LLMGQC/final/X93\\_Red\\_Sheep/R1-R2\\_final.spring                  & TRUE & NA\\\\\n",
       "\\end{tabular}\n"
      ],
      "text/markdown": [
       "\n",
       "A data.table: 324 × 4\n",
       "\n",
       "| Sample &lt;chr&gt; | Reads &lt;chr&gt; | Paired &lt;lgl&gt; | Notes &lt;lgl&gt; |\n",
       "|---|---|---|---|\n",
       "| X101_Horse       | /ebio/abt3_projects/Georg_animal_feces/data/metagenome/HiSeqRuns126-133-0138/wOutVertebrata/LLMGQC/final/X101_Horse/R1-R2_final.spring       | TRUE | NA |\n",
       "| X107_House_Mouse | /ebio/abt3_projects/Georg_animal_feces/data/metagenome/HiSeqRuns126-133-0138/wOutVertebrata/LLMGQC/final/X107_House_Mouse/R1-R2_final.spring | TRUE | NA |\n",
       "| ⋮ | ⋮ | ⋮ | ⋮ |\n",
       "| X92_Lesser_White_toothed_Shrew | /ebio/abt3_projects/Georg_animal_feces/data/metagenome/HiSeqRuns126-133-0138/wOutVertebrata/LLMGQC/final/X92_Lesser_White_toothed_Shrew/R1-R2_final.spring | TRUE | NA |\n",
       "| X93_Red_Sheep                  | /ebio/abt3_projects/Georg_animal_feces/data/metagenome/HiSeqRuns126-133-0138/wOutVertebrata/LLMGQC/final/X93_Red_Sheep/R1-R2_final.spring                  | TRUE | NA |\n",
       "\n"
      ],
      "text/plain": [
       "    Sample                        \n",
       "1   X101_Horse                    \n",
       "2   X107_House_Mouse              \n",
       "⋮   ⋮                             \n",
       "323 X92_Lesser_White_toothed_Shrew\n",
       "324 X93_Red_Sheep                 \n",
       "    Reads                                                                                                                                                     \n",
       "1   /ebio/abt3_projects/Georg_animal_feces/data/metagenome/HiSeqRuns126-133-0138/wOutVertebrata/LLMGQC/final/X101_Horse/R1-R2_final.spring                    \n",
       "2   /ebio/abt3_projects/Georg_animal_feces/data/metagenome/HiSeqRuns126-133-0138/wOutVertebrata/LLMGQC/final/X107_House_Mouse/R1-R2_final.spring              \n",
       "⋮   ⋮                                                                                                                                                         \n",
       "323 /ebio/abt3_projects/Georg_animal_feces/data/metagenome/HiSeqRuns126-133-0138/wOutVertebrata/LLMGQC/final/X92_Lesser_White_toothed_Shrew/R1-R2_final.spring\n",
       "324 /ebio/abt3_projects/Georg_animal_feces/data/metagenome/HiSeqRuns126-133-0138/wOutVertebrata/LLMGQC/final/X93_Red_Sheep/R1-R2_final.spring                 \n",
       "    Paired Notes\n",
       "1   TRUE   NA   \n",
       "2   TRUE   NA   \n",
       "⋮   ⋮      ⋮    \n",
       "323 TRUE   NA   \n",
       "324 TRUE   NA   "
      ]
     },
     "metadata": {},
     "output_type": "display_data"
    }
   ],
   "source": [
    "# reads\n",
    "F = file.path(read_dir, 'samples_spring.txt')\n",
    "reads = Fread(F)\n",
    "reads"
   ]
  },
  {
   "cell_type": "markdown",
   "metadata": {},
   "source": [
    "### Checks"
   ]
  },
  {
   "cell_type": "code",
   "execution_count": 43,
   "metadata": {
    "ExecuteTime": {
     "end_time": "2022-02-26T12:42:24.118789Z",
     "start_time": "2022-02-26T12:42:23.951Z"
    }
   },
   "outputs": [
    {
     "name": "stdout",
     "output_type": "stream",
     "text": [
      "intersect(x,y): 176 \n",
      "setdiff(x,y): 3 \n",
      "setdiff(y,x): 148 \n",
      "union(x,y): 327 \n"
     ]
    }
   ],
   "source": [
    "overlap(contigs$Sample, reads$Sample)"
   ]
  },
  {
   "cell_type": "code",
   "execution_count": 44,
   "metadata": {
    "ExecuteTime": {
     "end_time": "2022-02-26T12:42:24.236173Z",
     "start_time": "2022-02-26T12:42:24.061Z"
    }
   },
   "outputs": [
    {
     "data": {
      "text/html": [
       "<table class=\"dataframe\">\n",
       "<caption>A tidytable: 176 × 4</caption>\n",
       "<thead>\n",
       "\t<tr><th scope=col>Sample</th><th scope=col>Reads</th><th scope=col>Paired</th><th scope=col>Notes</th></tr>\n",
       "\t<tr><th scope=col>&lt;chr&gt;</th><th scope=col>&lt;chr&gt;</th><th scope=col>&lt;lgl&gt;</th><th scope=col>&lt;lgl&gt;</th></tr>\n",
       "</thead>\n",
       "<tbody>\n",
       "\t<tr><td>X101_Horse      </td><td>/ebio/abt3_projects/Georg_animal_feces/data/metagenome/HiSeqRuns126-133-0138/wOutVertebrata/LLMGQC/final/X101_Horse/R1-R2_final.spring      </td><td>TRUE</td><td>NA</td></tr>\n",
       "\t<tr><td>X107_House_Mouse</td><td>/ebio/abt3_projects/Georg_animal_feces/data/metagenome/HiSeqRuns126-133-0138/wOutVertebrata/LLMGQC/final/X107_House_Mouse/R1-R2_final.spring</td><td>TRUE</td><td>NA</td></tr>\n",
       "\t<tr><td>⋮</td><td>⋮</td><td>⋮</td><td>⋮</td></tr>\n",
       "\t<tr><td>X430_Giraffe                  </td><td>/ebio/abt3_projects/Georg_animal_feces/data/metagenome/HiSeqRuns126-133-0138/wOutVertebrata/LLMGQC/final/X430_Giraffe/R1-R2_final.spring                  </td><td>TRUE</td><td>NA</td></tr>\n",
       "\t<tr><td>X92_Lesser_White_toothed_Shrew</td><td>/ebio/abt3_projects/Georg_animal_feces/data/metagenome/HiSeqRuns126-133-0138/wOutVertebrata/LLMGQC/final/X92_Lesser_White_toothed_Shrew/R1-R2_final.spring</td><td>TRUE</td><td>NA</td></tr>\n",
       "</tbody>\n",
       "</table>\n"
      ],
      "text/latex": [
       "A tidytable: 176 × 4\n",
       "\\begin{tabular}{llll}\n",
       " Sample & Reads & Paired & Notes\\\\\n",
       " <chr> & <chr> & <lgl> & <lgl>\\\\\n",
       "\\hline\n",
       "\t X101\\_Horse       & /ebio/abt3\\_projects/Georg\\_animal\\_feces/data/metagenome/HiSeqRuns126-133-0138/wOutVertebrata/LLMGQC/final/X101\\_Horse/R1-R2\\_final.spring       & TRUE & NA\\\\\n",
       "\t X107\\_House\\_Mouse & /ebio/abt3\\_projects/Georg\\_animal\\_feces/data/metagenome/HiSeqRuns126-133-0138/wOutVertebrata/LLMGQC/final/X107\\_House\\_Mouse/R1-R2\\_final.spring & TRUE & NA\\\\\n",
       "\t ⋮ & ⋮ & ⋮ & ⋮\\\\\n",
       "\t X430\\_Giraffe                   & /ebio/abt3\\_projects/Georg\\_animal\\_feces/data/metagenome/HiSeqRuns126-133-0138/wOutVertebrata/LLMGQC/final/X430\\_Giraffe/R1-R2\\_final.spring                   & TRUE & NA\\\\\n",
       "\t X92\\_Lesser\\_White\\_toothed\\_Shrew & /ebio/abt3\\_projects/Georg\\_animal\\_feces/data/metagenome/HiSeqRuns126-133-0138/wOutVertebrata/LLMGQC/final/X92\\_Lesser\\_White\\_toothed\\_Shrew/R1-R2\\_final.spring & TRUE & NA\\\\\n",
       "\\end{tabular}\n"
      ],
      "text/markdown": [
       "\n",
       "A tidytable: 176 × 4\n",
       "\n",
       "| Sample &lt;chr&gt; | Reads &lt;chr&gt; | Paired &lt;lgl&gt; | Notes &lt;lgl&gt; |\n",
       "|---|---|---|---|\n",
       "| X101_Horse       | /ebio/abt3_projects/Georg_animal_feces/data/metagenome/HiSeqRuns126-133-0138/wOutVertebrata/LLMGQC/final/X101_Horse/R1-R2_final.spring       | TRUE | NA |\n",
       "| X107_House_Mouse | /ebio/abt3_projects/Georg_animal_feces/data/metagenome/HiSeqRuns126-133-0138/wOutVertebrata/LLMGQC/final/X107_House_Mouse/R1-R2_final.spring | TRUE | NA |\n",
       "| ⋮ | ⋮ | ⋮ | ⋮ |\n",
       "| X430_Giraffe                   | /ebio/abt3_projects/Georg_animal_feces/data/metagenome/HiSeqRuns126-133-0138/wOutVertebrata/LLMGQC/final/X430_Giraffe/R1-R2_final.spring                   | TRUE | NA |\n",
       "| X92_Lesser_White_toothed_Shrew | /ebio/abt3_projects/Georg_animal_feces/data/metagenome/HiSeqRuns126-133-0138/wOutVertebrata/LLMGQC/final/X92_Lesser_White_toothed_Shrew/R1-R2_final.spring | TRUE | NA |\n",
       "\n"
      ],
      "text/plain": [
       "    Sample                        \n",
       "1   X101_Horse                    \n",
       "2   X107_House_Mouse              \n",
       "⋮   ⋮                             \n",
       "175 X430_Giraffe                  \n",
       "176 X92_Lesser_White_toothed_Shrew\n",
       "    Reads                                                                                                                                                     \n",
       "1   /ebio/abt3_projects/Georg_animal_feces/data/metagenome/HiSeqRuns126-133-0138/wOutVertebrata/LLMGQC/final/X101_Horse/R1-R2_final.spring                    \n",
       "2   /ebio/abt3_projects/Georg_animal_feces/data/metagenome/HiSeqRuns126-133-0138/wOutVertebrata/LLMGQC/final/X107_House_Mouse/R1-R2_final.spring              \n",
       "⋮   ⋮                                                                                                                                                         \n",
       "175 /ebio/abt3_projects/Georg_animal_feces/data/metagenome/HiSeqRuns126-133-0138/wOutVertebrata/LLMGQC/final/X430_Giraffe/R1-R2_final.spring                  \n",
       "176 /ebio/abt3_projects/Georg_animal_feces/data/metagenome/HiSeqRuns126-133-0138/wOutVertebrata/LLMGQC/final/X92_Lesser_White_toothed_Shrew/R1-R2_final.spring\n",
       "    Paired Notes\n",
       "1   TRUE   NA   \n",
       "2   TRUE   NA   \n",
       "⋮   ⋮      ⋮    \n",
       "175 TRUE   NA   \n",
       "176 TRUE   NA   "
      ]
     },
     "metadata": {},
     "output_type": "display_data"
    }
   ],
   "source": [
    "# filtering reads\n",
    "reads = reads %>%\n",
    "    semi_join.(contigs, c('Sample'))\n",
    "reads"
   ]
  },
  {
   "cell_type": "markdown",
   "metadata": {},
   "source": [
    "# n30"
   ]
  },
  {
   "cell_type": "code",
   "execution_count": 14,
   "metadata": {
    "ExecuteTime": {
     "end_time": "2022-02-25T08:41:44.812916Z",
     "start_time": "2022-02-25T08:41:44.770Z"
    }
   },
   "outputs": [
    {
     "data": {
      "text/html": [
       "<table class=\"dataframe\">\n",
       "<caption>A tidytable: 30 × 4</caption>\n",
       "<thead>\n",
       "\t<tr><th scope=col>Sample</th><th scope=col>Reads</th><th scope=col>Paired</th><th scope=col>Notes</th></tr>\n",
       "\t<tr><th scope=col>&lt;chr&gt;</th><th scope=col>&lt;chr&gt;</th><th scope=col>&lt;lgl&gt;</th><th scope=col>&lt;lgl&gt;</th></tr>\n",
       "</thead>\n",
       "<tbody>\n",
       "\t<tr><td>X411_Leopard       </td><td>/ebio/abt3_projects/Georg_animal_feces/data/metagenome/HiSeqRuns126-133-0138/wOutVertebrata/LLMGQC/final/X411_Leopard/R1-R2_final.spring       </td><td>TRUE</td><td>NA</td></tr>\n",
       "\t<tr><td>X43_European_Badger</td><td>/ebio/abt3_projects/Georg_animal_feces/data/metagenome/HiSeqRuns126-133-0138/wOutVertebrata/LLMGQC/final/X43_European_Badger/R1-R2_final.spring</td><td>TRUE</td><td>NA</td></tr>\n",
       "\t<tr><td>⋮</td><td>⋮</td><td>⋮</td><td>⋮</td></tr>\n",
       "\t<tr><td>X424_Quagga             </td><td>/ebio/abt3_projects/Georg_animal_feces/data/metagenome/HiSeqRuns126-133-0138/wOutVertebrata/LLMGQC/final/X424_Quagga/R1-R2_final.spring             </td><td>TRUE</td><td>NA</td></tr>\n",
       "\t<tr><td>X361_fail_Common_Opossum</td><td>/ebio/abt3_projects/Georg_animal_feces/data/metagenome/HiSeqRuns126-133-0138/wOutVertebrata/LLMGQC/final/X361_fail_Common_Opossum/R1-R2_final.spring</td><td>TRUE</td><td>NA</td></tr>\n",
       "</tbody>\n",
       "</table>\n"
      ],
      "text/latex": [
       "A tidytable: 30 × 4\n",
       "\\begin{tabular}{llll}\n",
       " Sample & Reads & Paired & Notes\\\\\n",
       " <chr> & <chr> & <lgl> & <lgl>\\\\\n",
       "\\hline\n",
       "\t X411\\_Leopard        & /ebio/abt3\\_projects/Georg\\_animal\\_feces/data/metagenome/HiSeqRuns126-133-0138/wOutVertebrata/LLMGQC/final/X411\\_Leopard/R1-R2\\_final.spring        & TRUE & NA\\\\\n",
       "\t X43\\_European\\_Badger & /ebio/abt3\\_projects/Georg\\_animal\\_feces/data/metagenome/HiSeqRuns126-133-0138/wOutVertebrata/LLMGQC/final/X43\\_European\\_Badger/R1-R2\\_final.spring & TRUE & NA\\\\\n",
       "\t ⋮ & ⋮ & ⋮ & ⋮\\\\\n",
       "\t X424\\_Quagga              & /ebio/abt3\\_projects/Georg\\_animal\\_feces/data/metagenome/HiSeqRuns126-133-0138/wOutVertebrata/LLMGQC/final/X424\\_Quagga/R1-R2\\_final.spring              & TRUE & NA\\\\\n",
       "\t X361\\_fail\\_Common\\_Opossum & /ebio/abt3\\_projects/Georg\\_animal\\_feces/data/metagenome/HiSeqRuns126-133-0138/wOutVertebrata/LLMGQC/final/X361\\_fail\\_Common\\_Opossum/R1-R2\\_final.spring & TRUE & NA\\\\\n",
       "\\end{tabular}\n"
      ],
      "text/markdown": [
       "\n",
       "A tidytable: 30 × 4\n",
       "\n",
       "| Sample &lt;chr&gt; | Reads &lt;chr&gt; | Paired &lt;lgl&gt; | Notes &lt;lgl&gt; |\n",
       "|---|---|---|---|\n",
       "| X411_Leopard        | /ebio/abt3_projects/Georg_animal_feces/data/metagenome/HiSeqRuns126-133-0138/wOutVertebrata/LLMGQC/final/X411_Leopard/R1-R2_final.spring        | TRUE | NA |\n",
       "| X43_European_Badger | /ebio/abt3_projects/Georg_animal_feces/data/metagenome/HiSeqRuns126-133-0138/wOutVertebrata/LLMGQC/final/X43_European_Badger/R1-R2_final.spring | TRUE | NA |\n",
       "| ⋮ | ⋮ | ⋮ | ⋮ |\n",
       "| X424_Quagga              | /ebio/abt3_projects/Georg_animal_feces/data/metagenome/HiSeqRuns126-133-0138/wOutVertebrata/LLMGQC/final/X424_Quagga/R1-R2_final.spring              | TRUE | NA |\n",
       "| X361_fail_Common_Opossum | /ebio/abt3_projects/Georg_animal_feces/data/metagenome/HiSeqRuns126-133-0138/wOutVertebrata/LLMGQC/final/X361_fail_Common_Opossum/R1-R2_final.spring | TRUE | NA |\n",
       "\n"
      ],
      "text/plain": [
       "   Sample                  \n",
       "1  X411_Leopard            \n",
       "2  X43_European_Badger     \n",
       "⋮  ⋮                       \n",
       "29 X424_Quagga             \n",
       "30 X361_fail_Common_Opossum\n",
       "   Reads                                                                                                                                               \n",
       "1  /ebio/abt3_projects/Georg_animal_feces/data/metagenome/HiSeqRuns126-133-0138/wOutVertebrata/LLMGQC/final/X411_Leopard/R1-R2_final.spring            \n",
       "2  /ebio/abt3_projects/Georg_animal_feces/data/metagenome/HiSeqRuns126-133-0138/wOutVertebrata/LLMGQC/final/X43_European_Badger/R1-R2_final.spring     \n",
       "⋮  ⋮                                                                                                                                                   \n",
       "29 /ebio/abt3_projects/Georg_animal_feces/data/metagenome/HiSeqRuns126-133-0138/wOutVertebrata/LLMGQC/final/X424_Quagga/R1-R2_final.spring             \n",
       "30 /ebio/abt3_projects/Georg_animal_feces/data/metagenome/HiSeqRuns126-133-0138/wOutVertebrata/LLMGQC/final/X361_fail_Common_Opossum/R1-R2_final.spring\n",
       "   Paired Notes\n",
       "1  TRUE   NA   \n",
       "2  TRUE   NA   \n",
       "⋮  ⋮      ⋮    \n",
       "29 TRUE   NA   \n",
       "30 TRUE   NA   "
      ]
     },
     "metadata": {},
     "output_type": "display_data"
    }
   ],
   "source": [
    "reads_f = reads %>%\n",
    "    slice_sample.(n=30)\n",
    "reads_f"
   ]
  },
  {
   "cell_type": "code",
   "execution_count": 45,
   "metadata": {
    "ExecuteTime": {
     "end_time": "2022-02-26T12:42:32.047324Z",
     "start_time": "2022-02-26T12:42:31.878Z"
    }
   },
   "outputs": [
    {
     "name": "stdout",
     "output_type": "stream",
     "text": [
      "Directory already exists: /ebio/abt3_scratch/nyoungblut/animal_gut/HiSeqRuns126-133-0138/n30/llcomp/ \n"
     ]
    }
   ],
   "source": [
    "D = '/ebio/abt3_scratch/nyoungblut/animal_gut/HiSeqRuns126-133-0138/n30/llcomp/'\n",
    "make_dir(D)"
   ]
  },
  {
   "cell_type": "code",
   "execution_count": 20,
   "metadata": {
    "ExecuteTime": {
     "end_time": "2022-02-25T08:53:52.919388Z",
     "start_time": "2022-02-25T08:53:52.878Z"
    }
   },
   "outputs": [
    {
     "name": "stdout",
     "output_type": "stream",
     "text": [
      "Directory already exists: /ebio/abt3_scratch/nyoungblut/animal_gut/HiSeqRuns126-133-0138/n30/llcomp/ \n",
      "File written: /ebio/abt3_scratch/nyoungblut/animal_gut/HiSeqRuns126-133-0138/n30/llcomp//samples_spring.tsv \n"
     ]
    }
   ],
   "source": [
    "# writing table\n",
    "F = file.path(D, 'samples_spring.tsv')\n",
    "write_table(reads_f, F)"
   ]
  },
  {
   "cell_type": "markdown",
   "metadata": {},
   "source": [
    "## LLCOMP"
   ]
  },
  {
   "cell_type": "markdown",
   "metadata": {},
   "source": [
    "### Config"
   ]
  },
  {
   "cell_type": "code",
   "execution_count": 19,
   "metadata": {
    "ExecuteTime": {
     "end_time": "2022-02-25T08:42:53.602205Z",
     "start_time": "2022-02-25T08:42:53.560Z"
    }
   },
   "outputs": [
    {
     "name": "stdout",
     "output_type": "stream",
     "text": [
      "# Input table with sample <-> read_file information\n",
      "samples_file: /ebio/abt3_scratch/nyoungblut/animal_gut/HiSeqRuns126-133-0138/n30/samples_spring.tsv\n",
      "\n",
      "# Output location (can be the same as input)\n",
      "output_dir: /ebio/abt3_scratch/nyoungblut/animal_gut/HiSeqRuns126-133-0138/n30/\n",
      "\n",
      "# temporary file directory (your username will be added automatically)\n",
      "tmp_dir: /ebio/abt3_scratch/\n",
      "\n",
      "# If input are *.spring, are they paired-end reads (or single)?\n",
      "spring_files_paired: True\n",
      "\n",
      "# Remove input read files?\n",
      "rm_input_reads: False\n",
      "\n",
      "# ionice for reducing I/O loads (use \"-c 2\" for normal usage)\n",
      "ionice: -c 3\n",
      "\n",
      "# pipeline params\n",
      "pipeline:\n",
      "  snakemake_folder: ./\n",
      "  script_folder: ./bin/scripts/\n",
      "  name: LLCOMP"
     ]
    }
   ],
   "source": [
    "F = file.path(D, 'config.yaml')\n",
    "cat_file(F)"
   ]
  },
  {
   "cell_type": "markdown",
   "metadata": {},
   "source": [
    "### Run"
   ]
  },
  {
   "cell_type": "markdown",
   "metadata": {},
   "source": [
    "```\n",
    "(snakemake) @ rick:/tmp/global2/nyoungblut/code/dev/ll_pipelines/llcomp\n",
    "$ screen -L -S llcomp ./snakemake_sge.sh /ebio/abt3_scratch/nyoungblut/animal_gut/HiSeqRuns126-133-0138/n30/llcomp/config.yaml 30 -F\n",
    "```"
   ]
  },
  {
   "cell_type": "markdown",
   "metadata": {},
   "source": [
    "## Summary"
   ]
  },
  {
   "cell_type": "code",
   "execution_count": 22,
   "metadata": {
    "ExecuteTime": {
     "end_time": "2022-02-25T08:54:13.088128Z",
     "start_time": "2022-02-25T08:54:13.039Z"
    }
   },
   "outputs": [
    {
     "data": {
      "text/html": [
       "<table class=\"dataframe\">\n",
       "<caption>A data.table: 30 × 5</caption>\n",
       "<thead>\n",
       "\t<tr><th scope=col>Sample</th><th scope=col>Read1</th><th scope=col>Read2</th><th scope=col>Paired</th><th scope=col>Notes</th></tr>\n",
       "\t<tr><th scope=col>&lt;chr&gt;</th><th scope=col>&lt;chr&gt;</th><th scope=col>&lt;chr&gt;</th><th scope=col>&lt;lgl&gt;</th><th scope=col>&lt;lgl&gt;</th></tr>\n",
       "</thead>\n",
       "<tbody>\n",
       "\t<tr><td>X411_Leopard       </td><td>/ebio/abt3_scratch/nyoungblut/animal_gut/HiSeqRuns126-133-0138/n30/llcomp/X411_Leopard/R1_final.fq.gz       </td><td>/ebio/abt3_scratch/nyoungblut/animal_gut/HiSeqRuns126-133-0138/n30/llcomp/X411_Leopard/R2_final.fq.gz       </td><td>TRUE</td><td>NA</td></tr>\n",
       "\t<tr><td>X43_European_Badger</td><td>/ebio/abt3_scratch/nyoungblut/animal_gut/HiSeqRuns126-133-0138/n30/llcomp/X43_European_Badger/R1_final.fq.gz</td><td>/ebio/abt3_scratch/nyoungblut/animal_gut/HiSeqRuns126-133-0138/n30/llcomp/X43_European_Badger/R2_final.fq.gz</td><td>TRUE</td><td>NA</td></tr>\n",
       "\t<tr><td>⋮</td><td>⋮</td><td>⋮</td><td>⋮</td><td>⋮</td></tr>\n",
       "\t<tr><td>X424_Quagga             </td><td>/ebio/abt3_scratch/nyoungblut/animal_gut/HiSeqRuns126-133-0138/n30/llcomp/X424_Quagga/R1_final.fq.gz             </td><td>/ebio/abt3_scratch/nyoungblut/animal_gut/HiSeqRuns126-133-0138/n30/llcomp/X424_Quagga/R2_final.fq.gz             </td><td>TRUE</td><td>NA</td></tr>\n",
       "\t<tr><td>X361_fail_Common_Opossum</td><td>/ebio/abt3_scratch/nyoungblut/animal_gut/HiSeqRuns126-133-0138/n30/llcomp/X361_fail_Common_Opossum/R1_final.fq.gz</td><td>/ebio/abt3_scratch/nyoungblut/animal_gut/HiSeqRuns126-133-0138/n30/llcomp/X361_fail_Common_Opossum/R2_final.fq.gz</td><td>TRUE</td><td>NA</td></tr>\n",
       "</tbody>\n",
       "</table>\n"
      ],
      "text/latex": [
       "A data.table: 30 × 5\n",
       "\\begin{tabular}{lllll}\n",
       " Sample & Read1 & Read2 & Paired & Notes\\\\\n",
       " <chr> & <chr> & <chr> & <lgl> & <lgl>\\\\\n",
       "\\hline\n",
       "\t X411\\_Leopard        & /ebio/abt3\\_scratch/nyoungblut/animal\\_gut/HiSeqRuns126-133-0138/n30/llcomp/X411\\_Leopard/R1\\_final.fq.gz        & /ebio/abt3\\_scratch/nyoungblut/animal\\_gut/HiSeqRuns126-133-0138/n30/llcomp/X411\\_Leopard/R2\\_final.fq.gz        & TRUE & NA\\\\\n",
       "\t X43\\_European\\_Badger & /ebio/abt3\\_scratch/nyoungblut/animal\\_gut/HiSeqRuns126-133-0138/n30/llcomp/X43\\_European\\_Badger/R1\\_final.fq.gz & /ebio/abt3\\_scratch/nyoungblut/animal\\_gut/HiSeqRuns126-133-0138/n30/llcomp/X43\\_European\\_Badger/R2\\_final.fq.gz & TRUE & NA\\\\\n",
       "\t ⋮ & ⋮ & ⋮ & ⋮ & ⋮\\\\\n",
       "\t X424\\_Quagga              & /ebio/abt3\\_scratch/nyoungblut/animal\\_gut/HiSeqRuns126-133-0138/n30/llcomp/X424\\_Quagga/R1\\_final.fq.gz              & /ebio/abt3\\_scratch/nyoungblut/animal\\_gut/HiSeqRuns126-133-0138/n30/llcomp/X424\\_Quagga/R2\\_final.fq.gz              & TRUE & NA\\\\\n",
       "\t X361\\_fail\\_Common\\_Opossum & /ebio/abt3\\_scratch/nyoungblut/animal\\_gut/HiSeqRuns126-133-0138/n30/llcomp/X361\\_fail\\_Common\\_Opossum/R1\\_final.fq.gz & /ebio/abt3\\_scratch/nyoungblut/animal\\_gut/HiSeqRuns126-133-0138/n30/llcomp/X361\\_fail\\_Common\\_Opossum/R2\\_final.fq.gz & TRUE & NA\\\\\n",
       "\\end{tabular}\n"
      ],
      "text/markdown": [
       "\n",
       "A data.table: 30 × 5\n",
       "\n",
       "| Sample &lt;chr&gt; | Read1 &lt;chr&gt; | Read2 &lt;chr&gt; | Paired &lt;lgl&gt; | Notes &lt;lgl&gt; |\n",
       "|---|---|---|---|---|\n",
       "| X411_Leopard        | /ebio/abt3_scratch/nyoungblut/animal_gut/HiSeqRuns126-133-0138/n30/llcomp/X411_Leopard/R1_final.fq.gz        | /ebio/abt3_scratch/nyoungblut/animal_gut/HiSeqRuns126-133-0138/n30/llcomp/X411_Leopard/R2_final.fq.gz        | TRUE | NA |\n",
       "| X43_European_Badger | /ebio/abt3_scratch/nyoungblut/animal_gut/HiSeqRuns126-133-0138/n30/llcomp/X43_European_Badger/R1_final.fq.gz | /ebio/abt3_scratch/nyoungblut/animal_gut/HiSeqRuns126-133-0138/n30/llcomp/X43_European_Badger/R2_final.fq.gz | TRUE | NA |\n",
       "| ⋮ | ⋮ | ⋮ | ⋮ | ⋮ |\n",
       "| X424_Quagga              | /ebio/abt3_scratch/nyoungblut/animal_gut/HiSeqRuns126-133-0138/n30/llcomp/X424_Quagga/R1_final.fq.gz              | /ebio/abt3_scratch/nyoungblut/animal_gut/HiSeqRuns126-133-0138/n30/llcomp/X424_Quagga/R2_final.fq.gz              | TRUE | NA |\n",
       "| X361_fail_Common_Opossum | /ebio/abt3_scratch/nyoungblut/animal_gut/HiSeqRuns126-133-0138/n30/llcomp/X361_fail_Common_Opossum/R1_final.fq.gz | /ebio/abt3_scratch/nyoungblut/animal_gut/HiSeqRuns126-133-0138/n30/llcomp/X361_fail_Common_Opossum/R2_final.fq.gz | TRUE | NA |\n",
       "\n"
      ],
      "text/plain": [
       "   Sample                  \n",
       "1  X411_Leopard            \n",
       "2  X43_European_Badger     \n",
       "⋮  ⋮                       \n",
       "29 X424_Quagga             \n",
       "30 X361_fail_Common_Opossum\n",
       "   Read1                                                                                                            \n",
       "1  /ebio/abt3_scratch/nyoungblut/animal_gut/HiSeqRuns126-133-0138/n30/llcomp/X411_Leopard/R1_final.fq.gz            \n",
       "2  /ebio/abt3_scratch/nyoungblut/animal_gut/HiSeqRuns126-133-0138/n30/llcomp/X43_European_Badger/R1_final.fq.gz     \n",
       "⋮  ⋮                                                                                                                \n",
       "29 /ebio/abt3_scratch/nyoungblut/animal_gut/HiSeqRuns126-133-0138/n30/llcomp/X424_Quagga/R1_final.fq.gz             \n",
       "30 /ebio/abt3_scratch/nyoungblut/animal_gut/HiSeqRuns126-133-0138/n30/llcomp/X361_fail_Common_Opossum/R1_final.fq.gz\n",
       "   Read2                                                                                                            \n",
       "1  /ebio/abt3_scratch/nyoungblut/animal_gut/HiSeqRuns126-133-0138/n30/llcomp/X411_Leopard/R2_final.fq.gz            \n",
       "2  /ebio/abt3_scratch/nyoungblut/animal_gut/HiSeqRuns126-133-0138/n30/llcomp/X43_European_Badger/R2_final.fq.gz     \n",
       "⋮  ⋮                                                                                                                \n",
       "29 /ebio/abt3_scratch/nyoungblut/animal_gut/HiSeqRuns126-133-0138/n30/llcomp/X424_Quagga/R2_final.fq.gz             \n",
       "30 /ebio/abt3_scratch/nyoungblut/animal_gut/HiSeqRuns126-133-0138/n30/llcomp/X361_fail_Common_Opossum/R2_final.fq.gz\n",
       "   Paired Notes\n",
       "1  TRUE   NA   \n",
       "2  TRUE   NA   \n",
       "⋮  ⋮      ⋮    \n",
       "29 TRUE   NA   \n",
       "30 TRUE   NA   "
      ]
     },
     "metadata": {},
     "output_type": "display_data"
    }
   ],
   "source": [
    "F = file.path(D, 'samples.txt')\n",
    "samps_n30 = Fread(F)\n",
    "samps_n30"
   ]
  },
  {
   "cell_type": "markdown",
   "metadata": {},
   "source": [
    "## LLMGA\n",
    "\n",
    "* 1000 bp contig length cutoff"
   ]
  },
  {
   "cell_type": "code",
   "execution_count": 46,
   "metadata": {
    "ExecuteTime": {
     "end_time": "2022-02-26T12:42:36.900205Z",
     "start_time": "2022-02-26T12:42:36.732Z"
    }
   },
   "outputs": [
    {
     "name": "stdout",
     "output_type": "stream",
     "text": [
      "Directory already exists: /ebio/abt3_scratch/nyoungblut/animal_gut/HiSeqRuns126-133-0138/n30/llmga \n"
     ]
    }
   ],
   "source": [
    "D = file.path(dirname(D), 'llmga')\n",
    "make_dir(D)"
   ]
  },
  {
   "cell_type": "markdown",
   "metadata": {},
   "source": [
    "### Config"
   ]
  },
  {
   "cell_type": "code",
   "execution_count": 24,
   "metadata": {
    "ExecuteTime": {
     "end_time": "2022-02-25T08:57:11.278759Z",
     "start_time": "2022-02-25T08:57:11.242Z"
    }
   },
   "outputs": [
    {
     "name": "stdout",
     "output_type": "stream",
     "text": [
      "#-- I/O --#\n",
      "# table with sample --> read_file information\n",
      "samples_file: /ebio/abt3_scratch/nyoungblut/animal_gut/HiSeqRuns126-133-0138/n30/llcomp/samples.txt\n",
      "\n",
      "# output location\n",
      "output_dir: /ebio/abt3_scratch/nyoungblut/animal_gut/HiSeqRuns126-133-0138/n30/llmga/\n",
      "\n",
      "# temporary file directory (your username will be added automatically)\n",
      "tmp_dir: /ebio/abt3_scratch/\n",
      "\n",
      "#-- reference genomes for metacompass --#\n",
      "metacompass_ref: /ebio/abt3_projects/Anxiety_Twins_Metagenomes/data/metagenome/TUKMZ-BGI250/llmga-find-refs/references/drep/dereplicated_genomes.fna\n",
      "\n",
      "#-- master control --#\n",
      "# which major parts of the pipline to run \n",
      "run_assembly: True\n",
      "run_binning: False\n",
      "run_other_assembly: False\n",
      "\n",
      "#-- software parameters --#\n",
      "# Notes:\n",
      "## see \"Notes on the `config.yaml` file\" in the README\n",
      "params:\n",
      "  # raw reads\n",
      "  ionice: -c 3\n",
      "  reads:\n",
      "    subsample: 40000000\n",
      "    fastqc: \"\"  \n",
      "  # metacompass (per-sample ref-based assembly); skipped if using graphbin2\n",
      "  metacompass:\n",
      "    buildcontig: Skip #--pickref breadth --mincov 3 -l 1000 -n T -b F -u F\n",
      "    pilon: \"\"\n",
      "  # denovo per-sample assembly (unmapped if metacompass used, else all reads)\n",
      "  denovo_assembly:\n",
      "    metaspades: -k auto --only-assembler\n",
      "    megahit: Skip #--min-count 3 --min-contig-len 500 --presets meta-sensitive\n",
      "  # combined, final contigs\n",
      "  final_contigs:\n",
      "    derep_contigs: minidentity=100 minscaf=1000 minoverlappercent=95\n",
      "    contig_rename: \"\"\n",
      "    min_contig_len: 1000            # min contig length retained\n",
      "    metaquast: Skip #--max-ref-number 0   # job run on rick to use internet if `--max-ref-number` > 0\n",
      "  # contig binning\n",
      "  binning:\n",
      "    subsample: 5000000       # how many reads per sample to use for dif-cov binning?\n",
      "    # mapping\n",
      "    map:\n",
      "      num_map_samples: 40    # how many samples to use for dif-cov. binning ('all' = all samples)\n",
      "      minimap2:\n",
      "        index: -k 15 -w 10 -I 12G\n",
      "        map: -N 5 -F 800\n",
      "      samtools_view: -q 0 -F 3584                 # -q = MAPQ cutoff\n",
      "      bam_to_depth: --percentIdentity 97\n",
      "      keep_bam: False                       # keep all BAM files?\n",
      "    # binning\n",
      "    binners:\n",
      "      maxbin2:\n",
      "        Low: -min_contig_length 1500 -markerset 40 -prob_threshold 0.6\n",
      "        Med: -min_contig_length 1500 -markerset 40 -prob_threshold 0.7\n",
      "        High: -min_contig_length 1500 -markerset 40 -prob_threshold 0.8\n",
      "      metabat2:\n",
      "        Low: --minContig 1500 --minCV 0.5 --minCVSum 0.5 --maxP 92\n",
      "             --maxEdges 150 --seed 8394\n",
      "        Med: --minContig 1500 --minCV 0.5 --minCVSum 0.5 --maxP 94\n",
      "             --maxEdges 325 --seed 8394\n",
      "        High: --minContig 1500 --minCV 0.5 --minCVSum 0.5 --maxP 97\n",
      "              --maxEdges 500 --seed 8394\n",
      "        LowNoCov: --minContig 1500 --minCV 0.5 --minCVSum 0.5 --maxP 92\n",
      "                  --maxEdges 150 --seed 8394 NOCOV\n",
      "        MedNoCov: --minContig 1500 --minCV 0.5 --minCVSum 0.5 --maxP 94\n",
      "                  --maxEdges 325 --seed 8394 NOCOV\n",
      "        HighNoCov: --minContig 1500 --minCV 0.5 --minCVSum 0.5 --maxP 97\n",
      "                   --maxEdges 500 --seed 8394 NOCOV\n",
      "      vamb:\n",
      "        Low: -c 10000 -m 1500 -l 24 -n 384 384\n",
      "        Med: -c 10000 -m 1500 -l 32 -n 512 512\n",
      "        High: -c 10000 -m 1500 -l 40 -n 768 768\n",
      "    # selecting final bins (MAGs)\n",
      "    select:\n",
      "      das_tool: --search_engine diamond\n",
      "      genome_table: \"\"\n",
      "  # denovo assembly of other genetic components\n",
      "  denovo_other_assembly:\n",
      "    min_contig_len: 1000\n",
      "    metaplasmidspades: -k auto --only-assembler\n",
      "    metabiosyntheticspades: -k auto --only-assembler\n",
      "  \n",
      "#-- snakemake pipeline --#\n",
      "pipeline:\n",
      "  snakemake_folder: ./\n",
      "  script_folder: bin/scripts/\n",
      "  random_number_seed: 83421\n",
      "  name: LLMGA\n"
     ]
    }
   ],
   "source": [
    "F = file.path(D, 'config.yaml')\n",
    "cat_file(F)"
   ]
  },
  {
   "cell_type": "markdown",
   "metadata": {},
   "source": [
    "### Run"
   ]
  },
  {
   "cell_type": "markdown",
   "metadata": {},
   "source": [
    "```\n",
    "(snakemake) @ rick:/tmp/global2/nyoungblut/code/dev/ll_pipelines/llmga\n",
    "$ screen -L -S llmga-animal ./snakemake_sge.sh /ebio/abt3_scratch/nyoungblut/animal_gut/HiSeqRuns126-133-0138/n30/llmga/config.yaml 30 -F\n",
    "```"
   ]
  },
  {
   "cell_type": "markdown",
   "metadata": {},
   "source": [
    "## Summary"
   ]
  },
  {
   "cell_type": "code",
   "execution_count": 47,
   "metadata": {
    "ExecuteTime": {
     "end_time": "2022-02-26T12:42:41.056554Z",
     "start_time": "2022-02-26T12:42:40.865Z"
    }
   },
   "outputs": [
    {
     "data": {
      "text/html": [
       "<table class=\"dataframe\">\n",
       "<caption>A data.table: 30 × 16</caption>\n",
       "<thead>\n",
       "\t<tr><th scope=col>Sample</th><th scope=col>file</th><th scope=col>format</th><th scope=col>type</th><th scope=col>num_seqs</th><th scope=col>sum_len</th><th scope=col>min_len</th><th scope=col>avg_len</th><th scope=col>max_len</th><th scope=col>Q1</th><th scope=col>Q2</th><th scope=col>Q3</th><th scope=col>sum_gap</th><th scope=col>N50</th><th scope=col>Q20...</th><th scope=col>Q30...</th></tr>\n",
       "\t<tr><th scope=col>&lt;chr&gt;</th><th scope=col>&lt;chr&gt;</th><th scope=col>&lt;chr&gt;</th><th scope=col>&lt;chr&gt;</th><th scope=col>&lt;int&gt;</th><th scope=col>&lt;int&gt;</th><th scope=col>&lt;int&gt;</th><th scope=col>&lt;dbl&gt;</th><th scope=col>&lt;int&gt;</th><th scope=col>&lt;dbl&gt;</th><th scope=col>&lt;dbl&gt;</th><th scope=col>&lt;dbl&gt;</th><th scope=col>&lt;int&gt;</th><th scope=col>&lt;int&gt;</th><th scope=col>&lt;dbl&gt;</th><th scope=col>&lt;dbl&gt;</th></tr>\n",
       "</thead>\n",
       "<tbody>\n",
       "\t<tr><td>X411_Leopard       </td><td>/ebio/abt3_scratch/nyoungblut/LLMGA_122597181487/all_contigs/X411_Leopard/contigs_final.fasta       </td><td>FASTA</td><td>DNA</td><td> 9608</td><td>25580565</td><td>1000</td><td>2662.4</td><td>218243</td><td>1216.5</td><td>1623.5</td><td>2546.5</td><td>0</td><td>3217</td><td>0</td><td>0</td></tr>\n",
       "\t<tr><td>X43_European_Badger</td><td>/ebio/abt3_scratch/nyoungblut/LLMGA_122597181487/all_contigs/X43_European_Badger/contigs_final.fasta</td><td>FASTA</td><td>DNA</td><td>18113</td><td>35715402</td><td>1000</td><td>1971.8</td><td>130717</td><td>1159.0</td><td>1423.0</td><td>2035.0</td><td>0</td><td>1992</td><td>0</td><td>0</td></tr>\n",
       "\t<tr><td>⋮</td><td>⋮</td><td>⋮</td><td>⋮</td><td>⋮</td><td>⋮</td><td>⋮</td><td>⋮</td><td>⋮</td><td>⋮</td><td>⋮</td><td>⋮</td><td>⋮</td><td>⋮</td><td>⋮</td><td>⋮</td></tr>\n",
       "\t<tr><td>X424_Quagga             </td><td>/ebio/abt3_scratch/nyoungblut/LLMGA_122597181487/all_contigs/X424_Quagga/contigs_final.fasta             </td><td>FASTA</td><td>DNA</td><td>21349</td><td>38084131</td><td>1000</td><td>1783.9</td><td>95831</td><td>1140</td><td>1372</td><td>1865</td><td>0</td><td>1738</td><td>0</td><td>0</td></tr>\n",
       "\t<tr><td>X361_fail_Common_Opossum</td><td>/ebio/abt3_scratch/nyoungblut/LLMGA_122597181487/all_contigs/X361_fail_Common_Opossum/contigs_final.fasta</td><td>FASTA</td><td>DNA</td><td>10943</td><td>21443825</td><td>1000</td><td>1959.6</td><td>72676</td><td>1167</td><td>1429</td><td>1985</td><td>0</td><td>1938</td><td>0</td><td>0</td></tr>\n",
       "</tbody>\n",
       "</table>\n"
      ],
      "text/latex": [
       "A data.table: 30 × 16\n",
       "\\begin{tabular}{llllllllllllllll}\n",
       " Sample & file & format & type & num\\_seqs & sum\\_len & min\\_len & avg\\_len & max\\_len & Q1 & Q2 & Q3 & sum\\_gap & N50 & Q20... & Q30...\\\\\n",
       " <chr> & <chr> & <chr> & <chr> & <int> & <int> & <int> & <dbl> & <int> & <dbl> & <dbl> & <dbl> & <int> & <int> & <dbl> & <dbl>\\\\\n",
       "\\hline\n",
       "\t X411\\_Leopard        & /ebio/abt3\\_scratch/nyoungblut/LLMGA\\_122597181487/all\\_contigs/X411\\_Leopard/contigs\\_final.fasta        & FASTA & DNA &  9608 & 25580565 & 1000 & 2662.4 & 218243 & 1216.5 & 1623.5 & 2546.5 & 0 & 3217 & 0 & 0\\\\\n",
       "\t X43\\_European\\_Badger & /ebio/abt3\\_scratch/nyoungblut/LLMGA\\_122597181487/all\\_contigs/X43\\_European\\_Badger/contigs\\_final.fasta & FASTA & DNA & 18113 & 35715402 & 1000 & 1971.8 & 130717 & 1159.0 & 1423.0 & 2035.0 & 0 & 1992 & 0 & 0\\\\\n",
       "\t ⋮ & ⋮ & ⋮ & ⋮ & ⋮ & ⋮ & ⋮ & ⋮ & ⋮ & ⋮ & ⋮ & ⋮ & ⋮ & ⋮ & ⋮ & ⋮\\\\\n",
       "\t X424\\_Quagga              & /ebio/abt3\\_scratch/nyoungblut/LLMGA\\_122597181487/all\\_contigs/X424\\_Quagga/contigs\\_final.fasta              & FASTA & DNA & 21349 & 38084131 & 1000 & 1783.9 & 95831 & 1140 & 1372 & 1865 & 0 & 1738 & 0 & 0\\\\\n",
       "\t X361\\_fail\\_Common\\_Opossum & /ebio/abt3\\_scratch/nyoungblut/LLMGA\\_122597181487/all\\_contigs/X361\\_fail\\_Common\\_Opossum/contigs\\_final.fasta & FASTA & DNA & 10943 & 21443825 & 1000 & 1959.6 & 72676 & 1167 & 1429 & 1985 & 0 & 1938 & 0 & 0\\\\\n",
       "\\end{tabular}\n"
      ],
      "text/markdown": [
       "\n",
       "A data.table: 30 × 16\n",
       "\n",
       "| Sample &lt;chr&gt; | file &lt;chr&gt; | format &lt;chr&gt; | type &lt;chr&gt; | num_seqs &lt;int&gt; | sum_len &lt;int&gt; | min_len &lt;int&gt; | avg_len &lt;dbl&gt; | max_len &lt;int&gt; | Q1 &lt;dbl&gt; | Q2 &lt;dbl&gt; | Q3 &lt;dbl&gt; | sum_gap &lt;int&gt; | N50 &lt;int&gt; | Q20... &lt;dbl&gt; | Q30... &lt;dbl&gt; |\n",
       "|---|---|---|---|---|---|---|---|---|---|---|---|---|---|---|---|\n",
       "| X411_Leopard        | /ebio/abt3_scratch/nyoungblut/LLMGA_122597181487/all_contigs/X411_Leopard/contigs_final.fasta        | FASTA | DNA |  9608 | 25580565 | 1000 | 2662.4 | 218243 | 1216.5 | 1623.5 | 2546.5 | 0 | 3217 | 0 | 0 |\n",
       "| X43_European_Badger | /ebio/abt3_scratch/nyoungblut/LLMGA_122597181487/all_contigs/X43_European_Badger/contigs_final.fasta | FASTA | DNA | 18113 | 35715402 | 1000 | 1971.8 | 130717 | 1159.0 | 1423.0 | 2035.0 | 0 | 1992 | 0 | 0 |\n",
       "| ⋮ | ⋮ | ⋮ | ⋮ | ⋮ | ⋮ | ⋮ | ⋮ | ⋮ | ⋮ | ⋮ | ⋮ | ⋮ | ⋮ | ⋮ | ⋮ |\n",
       "| X424_Quagga              | /ebio/abt3_scratch/nyoungblut/LLMGA_122597181487/all_contigs/X424_Quagga/contigs_final.fasta              | FASTA | DNA | 21349 | 38084131 | 1000 | 1783.9 | 95831 | 1140 | 1372 | 1865 | 0 | 1738 | 0 | 0 |\n",
       "| X361_fail_Common_Opossum | /ebio/abt3_scratch/nyoungblut/LLMGA_122597181487/all_contigs/X361_fail_Common_Opossum/contigs_final.fasta | FASTA | DNA | 10943 | 21443825 | 1000 | 1959.6 | 72676 | 1167 | 1429 | 1985 | 0 | 1938 | 0 | 0 |\n",
       "\n"
      ],
      "text/plain": [
       "   Sample                  \n",
       "1  X411_Leopard            \n",
       "2  X43_European_Badger     \n",
       "⋮  ⋮                       \n",
       "29 X424_Quagga             \n",
       "30 X361_fail_Common_Opossum\n",
       "   file                                                                                                     \n",
       "1  /ebio/abt3_scratch/nyoungblut/LLMGA_122597181487/all_contigs/X411_Leopard/contigs_final.fasta            \n",
       "2  /ebio/abt3_scratch/nyoungblut/LLMGA_122597181487/all_contigs/X43_European_Badger/contigs_final.fasta     \n",
       "⋮  ⋮                                                                                                        \n",
       "29 /ebio/abt3_scratch/nyoungblut/LLMGA_122597181487/all_contigs/X424_Quagga/contigs_final.fasta             \n",
       "30 /ebio/abt3_scratch/nyoungblut/LLMGA_122597181487/all_contigs/X361_fail_Common_Opossum/contigs_final.fasta\n",
       "   format type num_seqs sum_len  min_len avg_len max_len Q1     Q2     Q3    \n",
       "1  FASTA  DNA   9608    25580565 1000    2662.4  218243  1216.5 1623.5 2546.5\n",
       "2  FASTA  DNA  18113    35715402 1000    1971.8  130717  1159.0 1423.0 2035.0\n",
       "⋮  ⋮      ⋮    ⋮        ⋮        ⋮       ⋮       ⋮       ⋮      ⋮      ⋮     \n",
       "29 FASTA  DNA  21349    38084131 1000    1783.9  95831   1140   1372   1865  \n",
       "30 FASTA  DNA  10943    21443825 1000    1959.6  72676   1167   1429   1985  \n",
       "   sum_gap N50  Q20... Q30...\n",
       "1  0       3217 0      0     \n",
       "2  0       1992 0      0     \n",
       "⋮  ⋮       ⋮    ⋮      ⋮     \n",
       "29 0       1738 0      0     \n",
       "30 0       1938 0      0     "
      ]
     },
     "metadata": {},
     "output_type": "display_data"
    }
   ],
   "source": [
    "F = file.path(D, 'final_contigs', 'contig_stats.tsv')\n",
    "stats = Fread(F)\n",
    "stats"
   ]
  },
  {
   "cell_type": "code",
   "execution_count": 48,
   "metadata": {
    "ExecuteTime": {
     "end_time": "2022-02-26T12:42:41.508076Z",
     "start_time": "2022-02-26T12:42:41.314Z"
    }
   },
   "outputs": [
    {
     "data": {
      "text/html": [
       "<table class=\"dataframe\">\n",
       "<caption>A matrix: 1 × 8 of type dbl</caption>\n",
       "<thead>\n",
       "\t<tr><th></th><th scope=col>Min.</th><th scope=col>1st Qu.</th><th scope=col>Median</th><th scope=col>Mean</th><th scope=col>3rd Qu.</th><th scope=col>Max.</th><th scope=col>sd</th><th scope=col>sd_err_of_mean</th></tr>\n",
       "</thead>\n",
       "<tbody>\n",
       "\t<tr><th scope=row>num_seqs</th><td>207</td><td>3107.75</td><td>7410.5</td><td>9893.933</td><td>11059.25</td><td>42438</td><td>9803.766</td><td>4002.371</td></tr>\n",
       "</tbody>\n",
       "</table>\n"
      ],
      "text/latex": [
       "A matrix: 1 × 8 of type dbl\n",
       "\\begin{tabular}{r|llllllll}\n",
       "  & Min. & 1st Qu. & Median & Mean & 3rd Qu. & Max. & sd & sd\\_err\\_of\\_mean\\\\\n",
       "\\hline\n",
       "\tnum\\_seqs & 207 & 3107.75 & 7410.5 & 9893.933 & 11059.25 & 42438 & 9803.766 & 4002.371\\\\\n",
       "\\end{tabular}\n"
      ],
      "text/markdown": [
       "\n",
       "A matrix: 1 × 8 of type dbl\n",
       "\n",
       "| <!--/--> | Min. | 1st Qu. | Median | Mean | 3rd Qu. | Max. | sd | sd_err_of_mean |\n",
       "|---|---|---|---|---|---|---|---|---|\n",
       "| num_seqs | 207 | 3107.75 | 7410.5 | 9893.933 | 11059.25 | 42438 | 9803.766 | 4002.371 |\n",
       "\n"
      ],
      "text/plain": [
       "         Min. 1st Qu. Median Mean     3rd Qu.  Max.  sd       sd_err_of_mean\n",
       "num_seqs 207  3107.75 7410.5 9893.933 11059.25 42438 9803.766 4002.371      "
      ]
     },
     "metadata": {},
     "output_type": "display_data"
    },
    {
     "data": {
      "text/html": [
       "<table class=\"dataframe\">\n",
       "<caption>A matrix: 1 × 8 of type dbl</caption>\n",
       "<thead>\n",
       "\t<tr><th></th><th scope=col>Min.</th><th scope=col>1st Qu.</th><th scope=col>Median</th><th scope=col>Mean</th><th scope=col>3rd Qu.</th><th scope=col>Max.</th><th scope=col>sd</th><th scope=col>sd_err_of_mean</th></tr>\n",
       "</thead>\n",
       "<tbody>\n",
       "\t<tr><th scope=row>min_len</th><td>1000</td><td>1000</td><td>1000</td><td>1000</td><td>1000</td><td>1000</td><td>0</td><td>0</td></tr>\n",
       "</tbody>\n",
       "</table>\n"
      ],
      "text/latex": [
       "A matrix: 1 × 8 of type dbl\n",
       "\\begin{tabular}{r|llllllll}\n",
       "  & Min. & 1st Qu. & Median & Mean & 3rd Qu. & Max. & sd & sd\\_err\\_of\\_mean\\\\\n",
       "\\hline\n",
       "\tmin\\_len & 1000 & 1000 & 1000 & 1000 & 1000 & 1000 & 0 & 0\\\\\n",
       "\\end{tabular}\n"
      ],
      "text/markdown": [
       "\n",
       "A matrix: 1 × 8 of type dbl\n",
       "\n",
       "| <!--/--> | Min. | 1st Qu. | Median | Mean | 3rd Qu. | Max. | sd | sd_err_of_mean |\n",
       "|---|---|---|---|---|---|---|---|---|\n",
       "| min_len | 1000 | 1000 | 1000 | 1000 | 1000 | 1000 | 0 | 0 |\n",
       "\n"
      ],
      "text/plain": [
       "        Min. 1st Qu. Median Mean 3rd Qu. Max. sd sd_err_of_mean\n",
       "min_len 1000 1000    1000   1000 1000    1000 0  0             "
      ]
     },
     "metadata": {},
     "output_type": "display_data"
    },
    {
     "data": {
      "text/html": [
       "<table class=\"dataframe\">\n",
       "<caption>A matrix: 1 × 8 of type dbl</caption>\n",
       "<thead>\n",
       "\t<tr><th></th><th scope=col>Min.</th><th scope=col>1st Qu.</th><th scope=col>Median</th><th scope=col>Mean</th><th scope=col>3rd Qu.</th><th scope=col>Max.</th><th scope=col>sd</th><th scope=col>sd_err_of_mean</th></tr>\n",
       "</thead>\n",
       "<tbody>\n",
       "\t<tr><th scope=row>avg_len</th><td>1418.7</td><td>1729.75</td><td>1979.1</td><td>2140.487</td><td>2442.6</td><td>3907.6</td><td>558.034</td><td>227.816</td></tr>\n",
       "</tbody>\n",
       "</table>\n"
      ],
      "text/latex": [
       "A matrix: 1 × 8 of type dbl\n",
       "\\begin{tabular}{r|llllllll}\n",
       "  & Min. & 1st Qu. & Median & Mean & 3rd Qu. & Max. & sd & sd\\_err\\_of\\_mean\\\\\n",
       "\\hline\n",
       "\tavg\\_len & 1418.7 & 1729.75 & 1979.1 & 2140.487 & 2442.6 & 3907.6 & 558.034 & 227.816\\\\\n",
       "\\end{tabular}\n"
      ],
      "text/markdown": [
       "\n",
       "A matrix: 1 × 8 of type dbl\n",
       "\n",
       "| <!--/--> | Min. | 1st Qu. | Median | Mean | 3rd Qu. | Max. | sd | sd_err_of_mean |\n",
       "|---|---|---|---|---|---|---|---|---|\n",
       "| avg_len | 1418.7 | 1729.75 | 1979.1 | 2140.487 | 2442.6 | 3907.6 | 558.034 | 227.816 |\n",
       "\n"
      ],
      "text/plain": [
       "        Min.   1st Qu. Median Mean     3rd Qu. Max.   sd      sd_err_of_mean\n",
       "avg_len 1418.7 1729.75 1979.1 2140.487 2442.6  3907.6 558.034 227.816       "
      ]
     },
     "metadata": {},
     "output_type": "display_data"
    }
   ],
   "source": [
    "summary_x(stats$num_seqs)\n",
    "summary_x(stats$min_len)\n",
    "summary_x(stats$avg_len)"
   ]
  },
  {
   "cell_type": "code",
   "execution_count": 49,
   "metadata": {
    "ExecuteTime": {
     "end_time": "2022-02-26T12:42:42.489415Z",
     "start_time": "2022-02-26T12:42:42.289Z"
    }
   },
   "outputs": [
    {
     "data": {
      "text/html": [
       "<table class=\"dataframe\">\n",
       "<caption>A data.table: 30 × 2</caption>\n",
       "<thead>\n",
       "\t<tr><th scope=col>Sample</th><th scope=col>Fasta</th></tr>\n",
       "\t<tr><th scope=col>&lt;chr&gt;</th><th scope=col>&lt;chr&gt;</th></tr>\n",
       "</thead>\n",
       "<tbody>\n",
       "\t<tr><td>X411_Leopard       </td><td>/ebio/abt3_scratch/nyoungblut/animal_gut/HiSeqRuns126-133-0138/n30/llmga/final_contigs/X411_Leopard/contigs.fna.gz       </td></tr>\n",
       "\t<tr><td>X43_European_Badger</td><td>/ebio/abt3_scratch/nyoungblut/animal_gut/HiSeqRuns126-133-0138/n30/llmga/final_contigs/X43_European_Badger/contigs.fna.gz</td></tr>\n",
       "\t<tr><td>⋮</td><td>⋮</td></tr>\n",
       "\t<tr><td>X424_Quagga             </td><td>/ebio/abt3_scratch/nyoungblut/animal_gut/HiSeqRuns126-133-0138/n30/llmga/final_contigs/X424_Quagga/contigs.fna.gz             </td></tr>\n",
       "\t<tr><td>X361_fail_Common_Opossum</td><td>/ebio/abt3_scratch/nyoungblut/animal_gut/HiSeqRuns126-133-0138/n30/llmga/final_contigs/X361_fail_Common_Opossum/contigs.fna.gz</td></tr>\n",
       "</tbody>\n",
       "</table>\n"
      ],
      "text/latex": [
       "A data.table: 30 × 2\n",
       "\\begin{tabular}{ll}\n",
       " Sample & Fasta\\\\\n",
       " <chr> & <chr>\\\\\n",
       "\\hline\n",
       "\t X411\\_Leopard        & /ebio/abt3\\_scratch/nyoungblut/animal\\_gut/HiSeqRuns126-133-0138/n30/llmga/final\\_contigs/X411\\_Leopard/contigs.fna.gz       \\\\\n",
       "\t X43\\_European\\_Badger & /ebio/abt3\\_scratch/nyoungblut/animal\\_gut/HiSeqRuns126-133-0138/n30/llmga/final\\_contigs/X43\\_European\\_Badger/contigs.fna.gz\\\\\n",
       "\t ⋮ & ⋮\\\\\n",
       "\t X424\\_Quagga              & /ebio/abt3\\_scratch/nyoungblut/animal\\_gut/HiSeqRuns126-133-0138/n30/llmga/final\\_contigs/X424\\_Quagga/contigs.fna.gz             \\\\\n",
       "\t X361\\_fail\\_Common\\_Opossum & /ebio/abt3\\_scratch/nyoungblut/animal\\_gut/HiSeqRuns126-133-0138/n30/llmga/final\\_contigs/X361\\_fail\\_Common\\_Opossum/contigs.fna.gz\\\\\n",
       "\\end{tabular}\n"
      ],
      "text/markdown": [
       "\n",
       "A data.table: 30 × 2\n",
       "\n",
       "| Sample &lt;chr&gt; | Fasta &lt;chr&gt; |\n",
       "|---|---|\n",
       "| X411_Leopard        | /ebio/abt3_scratch/nyoungblut/animal_gut/HiSeqRuns126-133-0138/n30/llmga/final_contigs/X411_Leopard/contigs.fna.gz        |\n",
       "| X43_European_Badger | /ebio/abt3_scratch/nyoungblut/animal_gut/HiSeqRuns126-133-0138/n30/llmga/final_contigs/X43_European_Badger/contigs.fna.gz |\n",
       "| ⋮ | ⋮ |\n",
       "| X424_Quagga              | /ebio/abt3_scratch/nyoungblut/animal_gut/HiSeqRuns126-133-0138/n30/llmga/final_contigs/X424_Quagga/contigs.fna.gz              |\n",
       "| X361_fail_Common_Opossum | /ebio/abt3_scratch/nyoungblut/animal_gut/HiSeqRuns126-133-0138/n30/llmga/final_contigs/X361_fail_Common_Opossum/contigs.fna.gz |\n",
       "\n"
      ],
      "text/plain": [
       "   Sample                  \n",
       "1  X411_Leopard            \n",
       "2  X43_European_Badger     \n",
       "⋮  ⋮                       \n",
       "29 X424_Quagga             \n",
       "30 X361_fail_Common_Opossum\n",
       "   Fasta                                                                                                                         \n",
       "1  /ebio/abt3_scratch/nyoungblut/animal_gut/HiSeqRuns126-133-0138/n30/llmga/final_contigs/X411_Leopard/contigs.fna.gz            \n",
       "2  /ebio/abt3_scratch/nyoungblut/animal_gut/HiSeqRuns126-133-0138/n30/llmga/final_contigs/X43_European_Badger/contigs.fna.gz     \n",
       "⋮  ⋮                                                                                                                             \n",
       "29 /ebio/abt3_scratch/nyoungblut/animal_gut/HiSeqRuns126-133-0138/n30/llmga/final_contigs/X424_Quagga/contigs.fna.gz             \n",
       "30 /ebio/abt3_scratch/nyoungblut/animal_gut/HiSeqRuns126-133-0138/n30/llmga/final_contigs/X361_fail_Common_Opossum/contigs.fna.gz"
      ]
     },
     "metadata": {},
     "output_type": "display_data"
    }
   ],
   "source": [
    "# contig fasta\n",
    "F = file.path(D, 'final_contigs', 'contig_data.tsv')\n",
    "contigs = Fread(F)\n",
    "contigs"
   ]
  },
  {
   "cell_type": "code",
   "execution_count": 50,
   "metadata": {
    "ExecuteTime": {
     "end_time": "2022-02-26T12:42:43.548125Z",
     "start_time": "2022-02-26T12:42:43.359Z"
    }
   },
   "outputs": [
    {
     "name": "stdout",
     "output_type": "stream",
     "text": [
      "intersect(x,y): 30 \n",
      "setdiff(x,y): 0 \n",
      "setdiff(y,x): 0 \n",
      "union(x,y): 30 \n"
     ]
    },
    {
     "data": {
      "text/html": [
       "<table class=\"dataframe\">\n",
       "<caption>A tidytable: 30 × 7</caption>\n",
       "<thead>\n",
       "\t<tr><th scope=col>Sample</th><th scope=col>Fasta</th><th scope=col>Read1</th><th scope=col>Read2</th><th scope=col>Paired</th><th scope=col>Notes</th><th scope=col>Taxon</th></tr>\n",
       "\t<tr><th scope=col>&lt;chr&gt;</th><th scope=col>&lt;chr&gt;</th><th scope=col>&lt;chr&gt;</th><th scope=col>&lt;chr&gt;</th><th scope=col>&lt;lgl&gt;</th><th scope=col>&lt;lgl&gt;</th><th scope=col>&lt;chr&gt;</th></tr>\n",
       "</thead>\n",
       "<tbody>\n",
       "\t<tr><td>X411_Leopard       </td><td>/ebio/abt3_scratch/nyoungblut/animal_gut/HiSeqRuns126-133-0138/n30/llmga/final_contigs/X411_Leopard/contigs.fna.gz       </td><td>/ebio/abt3_scratch/nyoungblut/animal_gut/HiSeqRuns126-133-0138/n30/llcomp/X411_Leopard/R1_final.fq.gz       </td><td>/ebio/abt3_scratch/nyoungblut/animal_gut/HiSeqRuns126-133-0138/n30/llcomp/X411_Leopard/R2_final.fq.gz       </td><td>TRUE</td><td>NA</td><td>X411_Leopard       </td></tr>\n",
       "\t<tr><td>X43_European_Badger</td><td>/ebio/abt3_scratch/nyoungblut/animal_gut/HiSeqRuns126-133-0138/n30/llmga/final_contigs/X43_European_Badger/contigs.fna.gz</td><td>/ebio/abt3_scratch/nyoungblut/animal_gut/HiSeqRuns126-133-0138/n30/llcomp/X43_European_Badger/R1_final.fq.gz</td><td>/ebio/abt3_scratch/nyoungblut/animal_gut/HiSeqRuns126-133-0138/n30/llcomp/X43_European_Badger/R2_final.fq.gz</td><td>TRUE</td><td>NA</td><td>X43_European_Badger</td></tr>\n",
       "\t<tr><td>⋮</td><td>⋮</td><td>⋮</td><td>⋮</td><td>⋮</td><td>⋮</td><td>⋮</td></tr>\n",
       "\t<tr><td>X424_Quagga             </td><td>/ebio/abt3_scratch/nyoungblut/animal_gut/HiSeqRuns126-133-0138/n30/llmga/final_contigs/X424_Quagga/contigs.fna.gz             </td><td>/ebio/abt3_scratch/nyoungblut/animal_gut/HiSeqRuns126-133-0138/n30/llcomp/X424_Quagga/R1_final.fq.gz             </td><td>/ebio/abt3_scratch/nyoungblut/animal_gut/HiSeqRuns126-133-0138/n30/llcomp/X424_Quagga/R2_final.fq.gz             </td><td>TRUE</td><td>NA</td><td>X424_Quagga             </td></tr>\n",
       "\t<tr><td>X361_fail_Common_Opossum</td><td>/ebio/abt3_scratch/nyoungblut/animal_gut/HiSeqRuns126-133-0138/n30/llmga/final_contigs/X361_fail_Common_Opossum/contigs.fna.gz</td><td>/ebio/abt3_scratch/nyoungblut/animal_gut/HiSeqRuns126-133-0138/n30/llcomp/X361_fail_Common_Opossum/R1_final.fq.gz</td><td>/ebio/abt3_scratch/nyoungblut/animal_gut/HiSeqRuns126-133-0138/n30/llcomp/X361_fail_Common_Opossum/R2_final.fq.gz</td><td>TRUE</td><td>NA</td><td>X361_fail_Common_Opossum</td></tr>\n",
       "</tbody>\n",
       "</table>\n"
      ],
      "text/latex": [
       "A tidytable: 30 × 7\n",
       "\\begin{tabular}{lllllll}\n",
       " Sample & Fasta & Read1 & Read2 & Paired & Notes & Taxon\\\\\n",
       " <chr> & <chr> & <chr> & <chr> & <lgl> & <lgl> & <chr>\\\\\n",
       "\\hline\n",
       "\t X411\\_Leopard        & /ebio/abt3\\_scratch/nyoungblut/animal\\_gut/HiSeqRuns126-133-0138/n30/llmga/final\\_contigs/X411\\_Leopard/contigs.fna.gz        & /ebio/abt3\\_scratch/nyoungblut/animal\\_gut/HiSeqRuns126-133-0138/n30/llcomp/X411\\_Leopard/R1\\_final.fq.gz        & /ebio/abt3\\_scratch/nyoungblut/animal\\_gut/HiSeqRuns126-133-0138/n30/llcomp/X411\\_Leopard/R2\\_final.fq.gz        & TRUE & NA & X411\\_Leopard       \\\\\n",
       "\t X43\\_European\\_Badger & /ebio/abt3\\_scratch/nyoungblut/animal\\_gut/HiSeqRuns126-133-0138/n30/llmga/final\\_contigs/X43\\_European\\_Badger/contigs.fna.gz & /ebio/abt3\\_scratch/nyoungblut/animal\\_gut/HiSeqRuns126-133-0138/n30/llcomp/X43\\_European\\_Badger/R1\\_final.fq.gz & /ebio/abt3\\_scratch/nyoungblut/animal\\_gut/HiSeqRuns126-133-0138/n30/llcomp/X43\\_European\\_Badger/R2\\_final.fq.gz & TRUE & NA & X43\\_European\\_Badger\\\\\n",
       "\t ⋮ & ⋮ & ⋮ & ⋮ & ⋮ & ⋮ & ⋮\\\\\n",
       "\t X424\\_Quagga              & /ebio/abt3\\_scratch/nyoungblut/animal\\_gut/HiSeqRuns126-133-0138/n30/llmga/final\\_contigs/X424\\_Quagga/contigs.fna.gz              & /ebio/abt3\\_scratch/nyoungblut/animal\\_gut/HiSeqRuns126-133-0138/n30/llcomp/X424\\_Quagga/R1\\_final.fq.gz              & /ebio/abt3\\_scratch/nyoungblut/animal\\_gut/HiSeqRuns126-133-0138/n30/llcomp/X424\\_Quagga/R2\\_final.fq.gz              & TRUE & NA & X424\\_Quagga             \\\\\n",
       "\t X361\\_fail\\_Common\\_Opossum & /ebio/abt3\\_scratch/nyoungblut/animal\\_gut/HiSeqRuns126-133-0138/n30/llmga/final\\_contigs/X361\\_fail\\_Common\\_Opossum/contigs.fna.gz & /ebio/abt3\\_scratch/nyoungblut/animal\\_gut/HiSeqRuns126-133-0138/n30/llcomp/X361\\_fail\\_Common\\_Opossum/R1\\_final.fq.gz & /ebio/abt3\\_scratch/nyoungblut/animal\\_gut/HiSeqRuns126-133-0138/n30/llcomp/X361\\_fail\\_Common\\_Opossum/R2\\_final.fq.gz & TRUE & NA & X361\\_fail\\_Common\\_Opossum\\\\\n",
       "\\end{tabular}\n"
      ],
      "text/markdown": [
       "\n",
       "A tidytable: 30 × 7\n",
       "\n",
       "| Sample &lt;chr&gt; | Fasta &lt;chr&gt; | Read1 &lt;chr&gt; | Read2 &lt;chr&gt; | Paired &lt;lgl&gt; | Notes &lt;lgl&gt; | Taxon &lt;chr&gt; |\n",
       "|---|---|---|---|---|---|---|\n",
       "| X411_Leopard        | /ebio/abt3_scratch/nyoungblut/animal_gut/HiSeqRuns126-133-0138/n30/llmga/final_contigs/X411_Leopard/contigs.fna.gz        | /ebio/abt3_scratch/nyoungblut/animal_gut/HiSeqRuns126-133-0138/n30/llcomp/X411_Leopard/R1_final.fq.gz        | /ebio/abt3_scratch/nyoungblut/animal_gut/HiSeqRuns126-133-0138/n30/llcomp/X411_Leopard/R2_final.fq.gz        | TRUE | NA | X411_Leopard        |\n",
       "| X43_European_Badger | /ebio/abt3_scratch/nyoungblut/animal_gut/HiSeqRuns126-133-0138/n30/llmga/final_contigs/X43_European_Badger/contigs.fna.gz | /ebio/abt3_scratch/nyoungblut/animal_gut/HiSeqRuns126-133-0138/n30/llcomp/X43_European_Badger/R1_final.fq.gz | /ebio/abt3_scratch/nyoungblut/animal_gut/HiSeqRuns126-133-0138/n30/llcomp/X43_European_Badger/R2_final.fq.gz | TRUE | NA | X43_European_Badger |\n",
       "| ⋮ | ⋮ | ⋮ | ⋮ | ⋮ | ⋮ | ⋮ |\n",
       "| X424_Quagga              | /ebio/abt3_scratch/nyoungblut/animal_gut/HiSeqRuns126-133-0138/n30/llmga/final_contigs/X424_Quagga/contigs.fna.gz              | /ebio/abt3_scratch/nyoungblut/animal_gut/HiSeqRuns126-133-0138/n30/llcomp/X424_Quagga/R1_final.fq.gz              | /ebio/abt3_scratch/nyoungblut/animal_gut/HiSeqRuns126-133-0138/n30/llcomp/X424_Quagga/R2_final.fq.gz              | TRUE | NA | X424_Quagga              |\n",
       "| X361_fail_Common_Opossum | /ebio/abt3_scratch/nyoungblut/animal_gut/HiSeqRuns126-133-0138/n30/llmga/final_contigs/X361_fail_Common_Opossum/contigs.fna.gz | /ebio/abt3_scratch/nyoungblut/animal_gut/HiSeqRuns126-133-0138/n30/llcomp/X361_fail_Common_Opossum/R1_final.fq.gz | /ebio/abt3_scratch/nyoungblut/animal_gut/HiSeqRuns126-133-0138/n30/llcomp/X361_fail_Common_Opossum/R2_final.fq.gz | TRUE | NA | X361_fail_Common_Opossum |\n",
       "\n"
      ],
      "text/plain": [
       "   Sample                  \n",
       "1  X411_Leopard            \n",
       "2  X43_European_Badger     \n",
       "⋮  ⋮                       \n",
       "29 X424_Quagga             \n",
       "30 X361_fail_Common_Opossum\n",
       "   Fasta                                                                                                                         \n",
       "1  /ebio/abt3_scratch/nyoungblut/animal_gut/HiSeqRuns126-133-0138/n30/llmga/final_contigs/X411_Leopard/contigs.fna.gz            \n",
       "2  /ebio/abt3_scratch/nyoungblut/animal_gut/HiSeqRuns126-133-0138/n30/llmga/final_contigs/X43_European_Badger/contigs.fna.gz     \n",
       "⋮  ⋮                                                                                                                             \n",
       "29 /ebio/abt3_scratch/nyoungblut/animal_gut/HiSeqRuns126-133-0138/n30/llmga/final_contigs/X424_Quagga/contigs.fna.gz             \n",
       "30 /ebio/abt3_scratch/nyoungblut/animal_gut/HiSeqRuns126-133-0138/n30/llmga/final_contigs/X361_fail_Common_Opossum/contigs.fna.gz\n",
       "   Read1                                                                                                            \n",
       "1  /ebio/abt3_scratch/nyoungblut/animal_gut/HiSeqRuns126-133-0138/n30/llcomp/X411_Leopard/R1_final.fq.gz            \n",
       "2  /ebio/abt3_scratch/nyoungblut/animal_gut/HiSeqRuns126-133-0138/n30/llcomp/X43_European_Badger/R1_final.fq.gz     \n",
       "⋮  ⋮                                                                                                                \n",
       "29 /ebio/abt3_scratch/nyoungblut/animal_gut/HiSeqRuns126-133-0138/n30/llcomp/X424_Quagga/R1_final.fq.gz             \n",
       "30 /ebio/abt3_scratch/nyoungblut/animal_gut/HiSeqRuns126-133-0138/n30/llcomp/X361_fail_Common_Opossum/R1_final.fq.gz\n",
       "   Read2                                                                                                            \n",
       "1  /ebio/abt3_scratch/nyoungblut/animal_gut/HiSeqRuns126-133-0138/n30/llcomp/X411_Leopard/R2_final.fq.gz            \n",
       "2  /ebio/abt3_scratch/nyoungblut/animal_gut/HiSeqRuns126-133-0138/n30/llcomp/X43_European_Badger/R2_final.fq.gz     \n",
       "⋮  ⋮                                                                                                                \n",
       "29 /ebio/abt3_scratch/nyoungblut/animal_gut/HiSeqRuns126-133-0138/n30/llcomp/X424_Quagga/R2_final.fq.gz             \n",
       "30 /ebio/abt3_scratch/nyoungblut/animal_gut/HiSeqRuns126-133-0138/n30/llcomp/X361_fail_Common_Opossum/R2_final.fq.gz\n",
       "   Paired Notes Taxon                   \n",
       "1  TRUE   NA    X411_Leopard            \n",
       "2  TRUE   NA    X43_European_Badger     \n",
       "⋮  ⋮      ⋮     ⋮                       \n",
       "29 TRUE   NA    X424_Quagga             \n",
       "30 TRUE   NA    X361_fail_Common_Opossum"
      ]
     },
     "metadata": {},
     "output_type": "display_data"
    }
   ],
   "source": [
    "# contigs + reads\n",
    "overlap(contigs$Sample, samps_n30$Sample)\n",
    "contigs = contigs %>%\n",
    "    inner_join.(samps_n30, c('Sample')) %>%\n",
    "    mutate.(Taxon = Sample)\n",
    "contigs"
   ]
  },
  {
   "cell_type": "markdown",
   "metadata": {},
   "source": [
    "## ResMiCo-SM"
   ]
  },
  {
   "cell_type": "code",
   "execution_count": 51,
   "metadata": {
    "ExecuteTime": {
     "end_time": "2022-02-26T12:42:47.225591Z",
     "start_time": "2022-02-26T12:42:47.058Z"
    }
   },
   "outputs": [
    {
     "name": "stdout",
     "output_type": "stream",
     "text": [
      "Directory already exists: /ebio/abt3_scratch/nyoungblut/animal_gut/HiSeqRuns126-133-0138/n30/llmga/resmico-sm \n"
     ]
    }
   ],
   "source": [
    "D = file.path(D, 'resmico-sm')\n",
    "make_dir(D)"
   ]
  },
  {
   "cell_type": "code",
   "execution_count": 52,
   "metadata": {
    "ExecuteTime": {
     "end_time": "2022-02-26T12:42:47.380059Z",
     "start_time": "2022-02-26T12:42:47.214Z"
    }
   },
   "outputs": [
    {
     "name": "stdout",
     "output_type": "stream",
     "text": [
      "File written: /ebio/abt3_scratch/nyoungblut/animal_gut/HiSeqRuns126-133-0138/n30/llmga/resmico-sm/samples.tsv \n"
     ]
    }
   ],
   "source": [
    "F = file.path(D, 'samples.tsv')\n",
    "write_table(contigs, F)"
   ]
  },
  {
   "cell_type": "markdown",
   "metadata": {},
   "source": [
    "### Config"
   ]
  },
  {
   "cell_type": "code",
   "execution_count": 54,
   "metadata": {
    "ExecuteTime": {
     "end_time": "2022-02-26T12:44:14.362681Z",
     "start_time": "2022-02-26T12:44:14.171Z"
    }
   },
   "outputs": [
    {
     "name": "stdout",
     "output_type": "stream",
     "text": [
      "# Input table\n",
      "genomes_file: /ebio/abt3_scratch/nyoungblut/animal_gut/HiSeqRuns126-133-0138/n30/llmga/resmico-sm/samples.tsv \n",
      "\n",
      "# Output directory\n",
      "output_dir: /ebio/abt3_scratch/nyoungblut/animal_gut/HiSeqRuns126-133-0138/n30/llmga/resmico-sm/\n",
      "\n",
      "# Temporary output directory (/dev/shm/ for shared memory)\n",
      "#tmp_dir: /tmp/\n",
      "tmp_dir: /ebio/abt3_scratch/\n",
      "\n",
      "# Email for notifications (\"Skip\" to skip)\n",
      "email: nyoungblut@tuebingen.mpg.de\n",
      "\n",
      "# software parameters for data simulations\n",
      "## Use \"Skip\" to skip  steps. If no params for rule, use \"\"\n",
      "## `reps:` is the number of replicate simulations\n",
      "## If `keep_reads: True`, then simulated reads are kept\n",
      "params:\n",
      "  ionice: -c 3\n",
      "  # simulating metagenomes\n",
      "  MGSIM:\n",
      "    sim_reps: 1\n",
      "    community:\n",
      "      richness:\n",
      "        - 0.5\n",
      "        - 0.8\n",
      "      abundance_distribution:\n",
      "        - \"mean:10,sigma:1\"\n",
      "        - \"mean:10,sigma:2\"\n",
      "      random_seed: 8192\n",
      "      other_sim_params: --group-bias 0\n",
      "    reads: \n",
      "      length:\n",
      "        - 100\n",
      "        - 150\n",
      "      depth:\n",
      "        - 1000000\n",
      "        - 4000000\n",
      "      other_sim_params: --art-paired --art-mflen 270 --art-sdev 50 --rndSeed 8712\n",
      "                        --art-qprof1 data/art_error_profiles/HiSeq2500L150R1.txt\n",
      "                        --art-qprof2 data/art_error_profiles/HiSeq2500L150R2.txt\n",
      "      skewer: -n -l 70 -q 25 --format sanger\n",
      "      keep_reads: False\n",
      "  # coverage\n",
      "  nonpareil:\n",
      "    params: -T kmer\n",
      "    summary: 1e9   # this is target seq. depth\n",
      "  # assemblying metagenomes\n",
      "  assemblers:\n",
      "    metaspades: -k auto --only-assembler\n",
      "    megahit: --min-count 1 --min-contig-len 1000\n",
      "  # assembly filtering\n",
      "  contigs:\n",
      "    length_cutoff: 1000       # length in bp \n",
      "  # assessing assembly errors\n",
      "  asmbl_errors:\n",
      "    metaquast: --max-ref-number 0 --min-contig 1000 --min-identity 95 --extensive-mis-size 100\n",
      "               --no-html --no-plots --no-icarus --no-gc --no-snps --no-sv\n",
      "    keep_genomes: False\n",
      "  # mapping reads to contigs\n",
      "  map:\n",
      "    contig_frac:      \n",
      "      - 1\n",
      "    samtools: \"\"\n",
      "    bowtie2: \"\"\n",
      "    max_coverage: 20\n",
      "    keep_bam: True\n",
      "    keep_faidx: True\n",
      "    create_bigwig: False\n",
      "  # creating ResMiCo feature tables\n",
      "  feature_table:\n",
      "    make: --window 6\n",
      "  # state-of-the-art\n",
      "  SotA:\n",
      "    ALE: \"\"\n",
      "    VALET: Skip\n",
      "    metaMIC:\n",
      "      extract: --mlen 1000\n",
      "      predict: --mlen 1000 --slen 500 -a MEGAHIT\n",
      "  # misc\n",
      "  real_contigs_simulated_reads: False\n",
      "\n",
      "# params just for creating feature tables for non-simulated data\n",
      "nonsim_params:\n",
      "  # max number of reads to use\n",
      "  subsample_reads: Skip #1000000\n",
      "\n",
      "# snakemake pipeline\n",
      "pipeline:\n",
      "  snakemake_folder: ./\n",
      "  script_folder: ./bin/scripts/\n",
      "  name: ResMiCo-SM"
     ]
    }
   ],
   "source": [
    "F = file.path(D, 'config.yaml')\n",
    "cat_file(F)"
   ]
  },
  {
   "cell_type": "markdown",
   "metadata": {},
   "source": [
    "### Run"
   ]
  },
  {
   "cell_type": "markdown",
   "metadata": {},
   "source": [
    "```\n",
    "(snakemake) @ rick:/ebio/abt3_projects/DeepMAsED/version2/deepmased/ResMiCo-SM\n",
    "$ screen -L -S rmc-sm-animal ./snakemake_sge.sh /ebio/abt3_scratch/nyoungblut/animal_gut/HiSeqRuns126-133-0138/n30/llmga/resmico-sm/config.yaml 30 -F\n",
    "```"
   ]
  },
  {
   "cell_type": "markdown",
   "metadata": {},
   "source": [
    "## ResMiCo-SM: variable length"
   ]
  },
  {
   "cell_type": "code",
   "execution_count": 12,
   "metadata": {
    "ExecuteTime": {
     "end_time": "2022-03-26T16:36:06.969629Z",
     "start_time": "2022-03-26T16:36:06.836Z"
    }
   },
   "outputs": [
    {
     "name": "stdout",
     "output_type": "stream",
     "text": [
      "Directory already exists: /ebio/abt3_projects/databases_no-backup/DeepMAsED/version2/real_data_eval/animal-gut/len1k/n30r1//var_contig-frac \n"
     ]
    }
   ],
   "source": [
    "work_dir1 = file.path(work_dir, 'var_contig-frac')\n",
    "make_dir(work_dir1)"
   ]
  },
  {
   "cell_type": "markdown",
   "metadata": {},
   "source": [
    "### Config"
   ]
  },
  {
   "cell_type": "code",
   "execution_count": 13,
   "metadata": {
    "ExecuteTime": {
     "end_time": "2022-03-26T16:36:17.266633Z",
     "start_time": "2022-03-26T16:36:17.124Z"
    }
   },
   "outputs": [
    {
     "name": "stdout",
     "output_type": "stream",
     "text": [
      "# Input table\n",
      "## Table of genomes\n",
      "genomes_file: /ebio/abt3_projects/databases_no-backup/DeepMAsED/version2/real_data_eval/animal-gut/len1k/n30r1/samples.tsv\n",
      "\n",
      "# Output directory\n",
      "output_dir: /ebio/abt3_projects/databases_no-backup/DeepMAsED/version2/real_data_eval/animal-gut/len1k/n30r1/var_contig-frac/\n",
      "\n",
      "# Temporary output directory (/dev/shm/ for shared memory)\n",
      "tmp_dir: /ebio/abt3_scratch/nyoungblut/\n",
      "\n",
      "# Email for notifications (\"Skip\" to skip)\n",
      "email: nyoungblut@tuebingen.mpg.de\n",
      "\n",
      "# software parameters for data simulations\n",
      "## Use \"Skip\" to skip  steps. If no params for rule, use \"\"\n",
      "## `reps:` is the number of replicate simulations\n",
      "## If `keep_reads: True`, then simulated reads are kept\n",
      "params:\n",
      "  ionice: -c 3\n",
      "  # simulating metagenomes\n",
      "  MGSIM:\n",
      "#    genome_download: \"\"\n",
      "    sim_reps: 1\n",
      "    community:\n",
      "      richness:\n",
      "        - 0.5\n",
      "        - 0.8\n",
      "      abundance_distribution:\n",
      "        - \"mean:10,sigma:1\"\n",
      "        - \"mean:10,sigma:2\"\n",
      "      random_seed: 8192\n",
      "      other_sim_params: --group-bias 0\n",
      "    reads: \n",
      "      length:\n",
      "        - 100\n",
      "      depth:\n",
      "        - 1000000\n",
      "      other_sim_params: --art-paired --art-mflen 270 --art-sdev 50 --rndSeed 8712\n",
      "                        --art-qprof1 data/art_error_profiles/HiSeq2500L150R1.txt\n",
      "                        --art-qprof2 data/art_error_profiles/HiSeq2500L150R2.txt\n",
      "      skewer: -n -l 70 -q 25 --format sanger\n",
      "      keep_reads: False\n",
      "  # coverage\n",
      "  nonpareil:\n",
      "    params: -T kmer\n",
      "    summary: 1e9   # this is target seq. depth\n",
      "  # assemblying metagenomes\n",
      "  assemblers:\n",
      "    metaspades: -k auto --only-assembler\n",
      "    megahit: --min-count 1 --min-contig-len 1000\n",
      "  # assembly filtering\n",
      "  contigs:\n",
      "    length_cutoff: 1000       # length in bp \n",
      "  # assessing assembly errors\n",
      "  asmbl_errors:\n",
      "    metaquast: --max-ref-number 0 --min-contig 1000 --min-identity 95 --extensive-mis-size 100\n",
      "               --no-html --no-plots --no-icarus --no-gc --no-snps --no-sv\n",
      "    keep_genomes: False\n",
      "  # mapping reads to contigs\n",
      "  map:\n",
      "    contig_frac:\n",
      "      - 1000\n",
      "      - 1500\n",
      "      - 2000\n",
      "      - 3000\n",
      "      - 5000\n",
      "      - 10000\n",
      "    samtools: \"\"\n",
      "    bowtie2: \"\"\n",
      "    max_coverage: 20\n",
      "    keep_bam: True\n",
      "    keep_faidx: True\n",
      "    create_bigwig: False\n",
      "  # creating ResMiCo feature tables\n",
      "  feature_table:\n",
      "    make: --window 6\n",
      "  # state-of-the-art\n",
      "  SotA:\n",
      "    ALE: Skip # \"\"\n",
      "    VALET: Skip # \"\"\n",
      "    metaMIC:\n",
      "      extract: Skip #--mlen 1000\n",
      "      predict: --mlen 1000 --slen 500 -a MEGAHIT\n",
      "  # misc\n",
      "  real_contigs_simulated_reads: False\n",
      "\n",
      "# params just for creating feature tables for non-simulated data\n",
      "nonsim_params:\n",
      "  # max number of reads to use\n",
      "  subsample_reads: Skip #1000000\n",
      "\n",
      "# snakemake pipeline\n",
      "pipeline:\n",
      "  snakemake_folder: ./\n",
      "  script_folder: ./bin/scripts/\n",
      "  name: ResMiCo-SM"
     ]
    }
   ],
   "source": [
    "F = file.path(work_dir1, 'config.yaml')\n",
    "cat_file(F)"
   ]
  },
  {
   "cell_type": "markdown",
   "metadata": {},
   "source": [
    "### Run"
   ]
  },
  {
   "cell_type": "markdown",
   "metadata": {},
   "source": [
    "```\n",
    "(snakemake) @ rick:/ebio/abt3_projects/DeepMAsED/version2/deepmased/ResMiCo-SM\n",
    "screen -L -S rmc-animal ./snakemake_sge.sh /ebio/abt3_projects/databases_no-backup/DeepMAsED/version2/real_data_eval/animal-gut/len1k/n30r1/var_contig-frac/config.yaml 40 -F\n",
    "```"
   ]
  },
  {
   "cell_type": "markdown",
   "metadata": {},
   "source": [
    "# sessionInfo"
   ]
  },
  {
   "cell_type": "code",
   "execution_count": 55,
   "metadata": {
    "ExecuteTime": {
     "end_time": "2022-02-27T19:11:17.512696Z",
     "start_time": "2022-02-27T19:11:17.223Z"
    }
   },
   "outputs": [
    {
     "data": {
      "text/plain": [
       "R version 4.1.1 (2021-08-10)\n",
       "Platform: x86_64-conda-linux-gnu (64-bit)\n",
       "Running under: Ubuntu 18.04.6 LTS\n",
       "\n",
       "Matrix products: default\n",
       "BLAS/LAPACK: /tmp/global2/nyoungblut/code/general/conda_envs/general-tidyverse/lib/libopenblasp-r0.3.18.so\n",
       "\n",
       "locale:\n",
       " [1] LC_CTYPE=en_US.UTF-8       LC_NUMERIC=C              \n",
       " [3] LC_TIME=en_US.UTF-8        LC_COLLATE=en_US.UTF-8    \n",
       " [5] LC_MONETARY=en_US.UTF-8    LC_MESSAGES=en_US.UTF-8   \n",
       " [7] LC_PAPER=en_US.UTF-8       LC_NAME=C                 \n",
       " [9] LC_ADDRESS=C               LC_TELEPHONE=C            \n",
       "[11] LC_MEASUREMENT=en_US.UTF-8 LC_IDENTIFICATION=C       \n",
       "\n",
       "attached base packages:\n",
       "[1] stats     graphics  grDevices utils     datasets  methods   base     \n",
       "\n",
       "other attached packages:\n",
       "[1] clustermq_0.8.95.2 LeyLabRMisc_0.2.1  tidytable_0.6.6    data.table_1.14.2 \n",
       "[5] ggplot2_3.3.5      tidyr_1.1.4        dplyr_1.0.7       \n",
       "\n",
       "loaded via a namespace (and not attached):\n",
       " [1] Rcpp_1.0.7       plyr_1.8.6       pillar_1.6.4     compiler_4.1.1  \n",
       " [5] base64enc_0.1-3  tools_4.1.1      digest_0.6.29    uuid_1.0-3      \n",
       " [9] jsonlite_1.7.2   evaluate_0.14    lifecycle_1.0.1  tibble_3.1.6    \n",
       "[13] gtable_0.3.0     pkgconfig_2.0.3  rlang_0.4.12     IRdisplay_1.1   \n",
       "[17] IRkernel_1.3     fastmap_1.1.0    repr_1.1.4       withr_2.4.3     \n",
       "[21] generics_0.1.1   vctrs_0.3.8      grid_4.1.1       tidyselect_1.1.1\n",
       "[25] glue_1.6.0       R6_2.5.1         fansi_1.0.0      pbdZMQ_0.3-6    \n",
       "[29] purrr_0.3.4      magrittr_2.0.1   codetools_0.2-18 scales_1.1.1    \n",
       "[33] ellipsis_0.3.2   htmltools_0.5.2  colorspace_2.0-2 utf8_1.2.2      \n",
       "[37] munsell_0.5.0    crayon_1.4.2    "
      ]
     },
     "metadata": {},
     "output_type": "display_data"
    }
   ],
   "source": [
    "sessionInfo()"
   ]
  }
 ],
 "metadata": {
  "kernelspec": {
   "display_name": "R [conda env:general-tidyverse]",
   "language": "R",
   "name": "conda-env-general-tidyverse-r"
  },
  "language_info": {
   "codemirror_mode": "r",
   "file_extension": ".r",
   "mimetype": "text/x-r-source",
   "name": "R",
   "pygments_lexer": "r",
   "version": "4.1.1"
  },
  "toc": {
   "base_numbering": 1,
   "nav_menu": {},
   "number_sections": true,
   "sideBar": true,
   "skip_h1_title": false,
   "title_cell": "Table of Contents",
   "title_sidebar": "Contents",
   "toc_cell": true,
   "toc_position": {
    "height": "calc(100% - 180px)",
    "left": "10px",
    "top": "150px",
    "width": "345.594px"
   },
   "toc_section_display": true,
   "toc_window_display": true
  }
 },
 "nbformat": 4,
 "nbformat_minor": 4
}
