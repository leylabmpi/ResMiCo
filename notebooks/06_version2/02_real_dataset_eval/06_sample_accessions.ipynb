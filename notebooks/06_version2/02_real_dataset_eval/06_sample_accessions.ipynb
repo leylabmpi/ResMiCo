{
 "cells": [
  {
   "cell_type": "markdown",
   "metadata": {
    "toc": true
   },
   "source": [
    "<h1>Table of Contents<span class=\"tocSkip\"></span></h1>\n",
    "<div class=\"toc\"><ul class=\"toc-item\"><li><span><a href=\"#Goal\" data-toc-modified-id=\"Goal-1\"><span class=\"toc-item-num\">1&nbsp;&nbsp;</span>Goal</a></span></li><li><span><a href=\"#Var\" data-toc-modified-id=\"Var-2\"><span class=\"toc-item-num\">2&nbsp;&nbsp;</span>Var</a></span></li><li><span><a href=\"#Init\" data-toc-modified-id=\"Init-3\"><span class=\"toc-item-num\">3&nbsp;&nbsp;</span>Init</a></span></li><li><span><a href=\"#Load\" data-toc-modified-id=\"Load-4\"><span class=\"toc-item-num\">4&nbsp;&nbsp;</span>Load</a></span></li><li><span><a href=\"#Formatting\" data-toc-modified-id=\"Formatting-5\"><span class=\"toc-item-num\">5&nbsp;&nbsp;</span>Formatting</a></span><ul class=\"toc-item\"><li><span><a href=\"#animal-gut\" data-toc-modified-id=\"animal-gut-5.1\"><span class=\"toc-item-num\">5.1&nbsp;&nbsp;</span>animal-gut</a></span></li><li><span><a href=\"#TUK\" data-toc-modified-id=\"TUK-5.2\"><span class=\"toc-item-num\">5.2&nbsp;&nbsp;</span>TUK</a></span></li></ul></li><li><span><a href=\"#Merging\" data-toc-modified-id=\"Merging-6\"><span class=\"toc-item-num\">6&nbsp;&nbsp;</span>Merging</a></span><ul class=\"toc-item\"><li><ul class=\"toc-item\"><li><span><a href=\"#Writing-final-table\" data-toc-modified-id=\"Writing-final-table-6.0.1\"><span class=\"toc-item-num\">6.0.1&nbsp;&nbsp;</span>Writing final table</a></span></li></ul></li></ul></li><li><span><a href=\"#sessionInfo\" data-toc-modified-id=\"sessionInfo-7\"><span class=\"toc-item-num\">7&nbsp;&nbsp;</span>sessionInfo</a></span></li></ul></div>"
   ]
  },
  {
   "cell_type": "markdown",
   "metadata": {},
   "source": [
    "# Goal\n",
    "\n",
    "* Get sample accessions for real datasets used in this study\n",
    "* https://docs.google.com/spreadsheets/d/1O6EHD8SVCd7yaZlUCJPj4okBRPdJJrYW6AtFJeUnXCs/edit#gid=0"
   ]
  },
  {
   "cell_type": "markdown",
   "metadata": {},
   "source": [
    "# Var"
   ]
  },
  {
   "cell_type": "code",
   "execution_count": 100,
   "metadata": {
    "ExecuteTime": {
     "end_time": "2022-05-04T14:22:20.595376Z",
     "start_time": "2022-05-04T14:22:20.069Z"
    }
   },
   "outputs": [],
   "source": [
    "work_dir = '/ebio/abt3_projects/databases_no-backup/DeepMAsED/version2/real_data_eval/accessions/'\n",
    "\n",
    "samples_file = file.path(work_dir, 'samples.tsv')\n",
    "\n",
    "animal_gut_file = '/ebio/abt3_projects/Georg_animal_feces/data/metagenome/HiSeqRuns126-133-0138/ENA_upload/ENA_accessions.tsv'\n",
    "tuk_file = '/ebio/abt3_projects/TwinsUK/vadinCA11/ENA_accessions.tsv'\n",
    "\n",
    "# params\n",
    "threads = 8"
   ]
  },
  {
   "cell_type": "markdown",
   "metadata": {},
   "source": [
    "# Init"
   ]
  },
  {
   "cell_type": "code",
   "execution_count": 101,
   "metadata": {
    "ExecuteTime": {
     "end_time": "2022-05-04T14:22:20.854060Z",
     "start_time": "2022-05-04T14:22:20.333Z"
    }
   },
   "outputs": [],
   "source": [
    "library(dplyr)\n",
    "library(tidyr)\n",
    "library(ggplot2)\n",
    "library(data.table)\n",
    "library(tidytable)\n",
    "library(LeyLabRMisc)\n",
    "Init(threads=threads)"
   ]
  },
  {
   "cell_type": "code",
   "execution_count": 102,
   "metadata": {
    "ExecuteTime": {
     "end_time": "2022-05-04T14:22:20.977323Z",
     "start_time": "2022-05-04T14:22:20.458Z"
    }
   },
   "outputs": [
    {
     "name": "stdout",
     "output_type": "stream",
     "text": [
      "Directory already exists: /ebio/abt3_projects/databases_no-backup/DeepMAsED/version2/real_data_eval/accessions/ \n"
     ]
    }
   ],
   "source": [
    "clustermq_setup(scheduler = 'multicore')\n",
    "make_dir(work_dir)"
   ]
  },
  {
   "cell_type": "markdown",
   "metadata": {},
   "source": [
    "# Load"
   ]
  },
  {
   "cell_type": "code",
   "execution_count": 103,
   "metadata": {
    "ExecuteTime": {
     "end_time": "2022-05-04T14:22:21.256660Z",
     "start_time": "2022-05-04T14:22:20.718Z"
    }
   },
   "outputs": [
    {
     "data": {
      "text/html": [
       "<table class=\"dataframe\">\n",
       "<caption>A tidytable: 172 × 5</caption>\n",
       "<thead>\n",
       "\t<tr><th scope=col>Dataset</th><th scope=col>Study.identifier</th><th scope=col>Misassembly.rate</th><th scope=col>Sample.accession</th><th scope=col>Study.accession</th></tr>\n",
       "\t<tr><th scope=col>&lt;chr&gt;</th><th scope=col>&lt;chr&gt;</th><th scope=col>&lt;dbl&gt;</th><th scope=col>&lt;chr&gt;</th><th scope=col>&lt;chr&gt;</th></tr>\n",
       "</thead>\n",
       "<tbody>\n",
       "\t<tr><td>UHGG</td><td>ERS1015611</td><td>0.026</td><td>ERS1015611</td><td>ERP013562</td></tr>\n",
       "\t<tr><td>UHGG</td><td>ERS1016020</td><td>0.032</td><td>ERS1016020</td><td>ERP013563</td></tr>\n",
       "\t<tr><td>⋮</td><td>⋮</td><td>⋮</td><td>⋮</td><td>⋮</td></tr>\n",
       "\t<tr><td>Animal-gut</td><td>X13_Wolf           </td><td>0.016</td><td></td><td>PRJEB38078</td></tr>\n",
       "\t<tr><td>Animal-gut</td><td>X87_Garden_Dormouse</td><td>0.016</td><td></td><td>PRJEB38078</td></tr>\n",
       "</tbody>\n",
       "</table>\n"
      ],
      "text/latex": [
       "A tidytable: 172 × 5\n",
       "\\begin{tabular}{lllll}\n",
       " Dataset & Study.identifier & Misassembly.rate & Sample.accession & Study.accession\\\\\n",
       " <chr> & <chr> & <dbl> & <chr> & <chr>\\\\\n",
       "\\hline\n",
       "\t UHGG & ERS1015611 & 0.026 & ERS1015611 & ERP013562\\\\\n",
       "\t UHGG & ERS1016020 & 0.032 & ERS1016020 & ERP013563\\\\\n",
       "\t ⋮ & ⋮ & ⋮ & ⋮ & ⋮\\\\\n",
       "\t Animal-gut & X13\\_Wolf            & 0.016 &  & PRJEB38078\\\\\n",
       "\t Animal-gut & X87\\_Garden\\_Dormouse & 0.016 &  & PRJEB38078\\\\\n",
       "\\end{tabular}\n"
      ],
      "text/markdown": [
       "\n",
       "A tidytable: 172 × 5\n",
       "\n",
       "| Dataset &lt;chr&gt; | Study.identifier &lt;chr&gt; | Misassembly.rate &lt;dbl&gt; | Sample.accession &lt;chr&gt; | Study.accession &lt;chr&gt; |\n",
       "|---|---|---|---|---|\n",
       "| UHGG | ERS1015611 | 0.026 | ERS1015611 | ERP013562 |\n",
       "| UHGG | ERS1016020 | 0.032 | ERS1016020 | ERP013563 |\n",
       "| ⋮ | ⋮ | ⋮ | ⋮ | ⋮ |\n",
       "| Animal-gut | X13_Wolf            | 0.016 | <!----> | PRJEB38078 |\n",
       "| Animal-gut | X87_Garden_Dormouse | 0.016 | <!----> | PRJEB38078 |\n",
       "\n"
      ],
      "text/plain": [
       "    Dataset    Study.identifier    Misassembly.rate Sample.accession\n",
       "1   UHGG       ERS1015611          0.026            ERS1015611      \n",
       "2   UHGG       ERS1016020          0.032            ERS1016020      \n",
       "⋮   ⋮          ⋮                   ⋮                ⋮               \n",
       "171 Animal-gut X13_Wolf            0.016                            \n",
       "172 Animal-gut X87_Garden_Dormouse 0.016                            \n",
       "    Study.accession\n",
       "1   ERP013562      \n",
       "2   ERP013563      \n",
       "⋮   ⋮              \n",
       "171 PRJEB38078     \n",
       "172 PRJEB38078     "
      ]
     },
     "metadata": {},
     "output_type": "display_data"
    }
   ],
   "source": [
    "samples = Fread(samples_file) %>%\n",
    "    rename.(Study.identifier = Study_identifier....to.delete,\n",
    "            Misassembly.rate = Misassembly_rate)\n",
    "samples"
   ]
  },
  {
   "cell_type": "code",
   "execution_count": 104,
   "metadata": {
    "ExecuteTime": {
     "end_time": "2022-05-04T14:22:22.138649Z",
     "start_time": "2022-05-04T14:22:21.600Z"
    }
   },
   "outputs": [
    {
     "data": {
      "text/html": [
       "<table class=\"dataframe\">\n",
       "<caption>A data.table: 289 × 4</caption>\n",
       "<thead>\n",
       "\t<tr><th scope=col>Type</th><th scope=col>Accession</th><th scope=col>Accession2</th><th scope=col>Unique.Name</th></tr>\n",
       "\t<tr><th scope=col>&lt;chr&gt;</th><th scope=col>&lt;chr&gt;</th><th scope=col>&lt;chr&gt;</th><th scope=col>&lt;chr&gt;</th></tr>\n",
       "</thead>\n",
       "<tbody>\n",
       "\t<tr><td>Sample</td><td>ERS4537005</td><td>SAMEA6809356</td><td>X101_Horse</td></tr>\n",
       "\t<tr><td>Sample</td><td>ERS4537006</td><td>SAMEA6809357</td><td>X102_Kulan</td></tr>\n",
       "\t<tr><td>⋮</td><td>⋮</td><td>⋮</td><td>⋮</td></tr>\n",
       "\t<tr><td>Sample</td><td>ERS4537292</td><td>SAMEA6809643</td><td>XF44_Fallow_Deer </td></tr>\n",
       "\t<tr><td>Sample</td><td>ERS4537293</td><td>SAMEA6809644</td><td>XF90_Domestic_Dog</td></tr>\n",
       "</tbody>\n",
       "</table>\n"
      ],
      "text/latex": [
       "A data.table: 289 × 4\n",
       "\\begin{tabular}{llll}\n",
       " Type & Accession & Accession2 & Unique.Name\\\\\n",
       " <chr> & <chr> & <chr> & <chr>\\\\\n",
       "\\hline\n",
       "\t Sample & ERS4537005 & SAMEA6809356 & X101\\_Horse\\\\\n",
       "\t Sample & ERS4537006 & SAMEA6809357 & X102\\_Kulan\\\\\n",
       "\t ⋮ & ⋮ & ⋮ & ⋮\\\\\n",
       "\t Sample & ERS4537292 & SAMEA6809643 & XF44\\_Fallow\\_Deer \\\\\n",
       "\t Sample & ERS4537293 & SAMEA6809644 & XF90\\_Domestic\\_Dog\\\\\n",
       "\\end{tabular}\n"
      ],
      "text/markdown": [
       "\n",
       "A data.table: 289 × 4\n",
       "\n",
       "| Type &lt;chr&gt; | Accession &lt;chr&gt; | Accession2 &lt;chr&gt; | Unique.Name &lt;chr&gt; |\n",
       "|---|---|---|---|\n",
       "| Sample | ERS4537005 | SAMEA6809356 | X101_Horse |\n",
       "| Sample | ERS4537006 | SAMEA6809357 | X102_Kulan |\n",
       "| ⋮ | ⋮ | ⋮ | ⋮ |\n",
       "| Sample | ERS4537292 | SAMEA6809643 | XF44_Fallow_Deer  |\n",
       "| Sample | ERS4537293 | SAMEA6809644 | XF90_Domestic_Dog |\n",
       "\n"
      ],
      "text/plain": [
       "    Type   Accession  Accession2   Unique.Name      \n",
       "1   Sample ERS4537005 SAMEA6809356 X101_Horse       \n",
       "2   Sample ERS4537006 SAMEA6809357 X102_Kulan       \n",
       "⋮   ⋮      ⋮          ⋮            ⋮                \n",
       "288 Sample ERS4537292 SAMEA6809643 XF44_Fallow_Deer \n",
       "289 Sample ERS4537293 SAMEA6809644 XF90_Domestic_Dog"
      ]
     },
     "metadata": {},
     "output_type": "display_data"
    }
   ],
   "source": [
    "animal_gut = Fread(animal_gut_file)\n",
    "animal_gut"
   ]
  },
  {
   "cell_type": "code",
   "execution_count": 105,
   "metadata": {
    "ExecuteTime": {
     "end_time": "2022-05-04T14:22:23.140874Z",
     "start_time": "2022-05-04T14:22:22.608Z"
    }
   },
   "outputs": [
    {
     "data": {
      "text/html": [
       "<table class=\"dataframe\">\n",
       "<caption>A data.table: 130 × 4</caption>\n",
       "<thead>\n",
       "\t<tr><th scope=col>Accession</th><th scope=col>SampleID_ENA</th><th scope=col>SampleID_TUK.original</th><th scope=col>SampleID_TUK</th></tr>\n",
       "\t<tr><th scope=col>&lt;chr&gt;</th><th scope=col>&lt;chr&gt;</th><th scope=col>&lt;chr&gt;</th><th scope=col>&lt;int&gt;</th></tr>\n",
       "</thead>\n",
       "<tbody>\n",
       "\t<tr><td>ERS5053140</td><td>VadinCA11_2_1171_p10__G12__209_42</td><td>1171</td><td>1002424</td></tr>\n",
       "\t<tr><td>ERS5053139</td><td>VadinCA11_39_4632_S4_p2__D4_     </td><td>4632</td><td>1002874</td></tr>\n",
       "\t<tr><td>⋮</td><td>⋮</td><td>⋮</td><td>⋮</td></tr>\n",
       "\t<tr><td>ERS5053012</td><td>VadinCA11_130_mock </td><td>mock </td><td>NA</td></tr>\n",
       "\t<tr><td>ERS5053011</td><td>VadinCA11_129_water</td><td>water</td><td>NA</td></tr>\n",
       "</tbody>\n",
       "</table>\n"
      ],
      "text/latex": [
       "A data.table: 130 × 4\n",
       "\\begin{tabular}{llll}\n",
       " Accession & SampleID\\_ENA & SampleID\\_TUK.original & SampleID\\_TUK\\\\\n",
       " <chr> & <chr> & <chr> & <int>\\\\\n",
       "\\hline\n",
       "\t ERS5053140 & VadinCA11\\_2\\_1171\\_p10\\_\\_G12\\_\\_209\\_42 & 1171 & 1002424\\\\\n",
       "\t ERS5053139 & VadinCA11\\_39\\_4632\\_S4\\_p2\\_\\_D4\\_      & 4632 & 1002874\\\\\n",
       "\t ⋮ & ⋮ & ⋮ & ⋮\\\\\n",
       "\t ERS5053012 & VadinCA11\\_130\\_mock  & mock  & NA\\\\\n",
       "\t ERS5053011 & VadinCA11\\_129\\_water & water & NA\\\\\n",
       "\\end{tabular}\n"
      ],
      "text/markdown": [
       "\n",
       "A data.table: 130 × 4\n",
       "\n",
       "| Accession &lt;chr&gt; | SampleID_ENA &lt;chr&gt; | SampleID_TUK.original &lt;chr&gt; | SampleID_TUK &lt;int&gt; |\n",
       "|---|---|---|---|\n",
       "| ERS5053140 | VadinCA11_2_1171_p10__G12__209_42 | 1171 | 1002424 |\n",
       "| ERS5053139 | VadinCA11_39_4632_S4_p2__D4_      | 4632 | 1002874 |\n",
       "| ⋮ | ⋮ | ⋮ | ⋮ |\n",
       "| ERS5053012 | VadinCA11_130_mock  | mock  | NA |\n",
       "| ERS5053011 | VadinCA11_129_water | water | NA |\n",
       "\n"
      ],
      "text/plain": [
       "    Accession  SampleID_ENA                      SampleID_TUK.original\n",
       "1   ERS5053140 VadinCA11_2_1171_p10__G12__209_42 1171                 \n",
       "2   ERS5053139 VadinCA11_39_4632_S4_p2__D4_      4632                 \n",
       "⋮   ⋮          ⋮                                 ⋮                    \n",
       "129 ERS5053012 VadinCA11_130_mock                mock                 \n",
       "130 ERS5053011 VadinCA11_129_water               water                \n",
       "    SampleID_TUK\n",
       "1   1002424     \n",
       "2   1002874     \n",
       "⋮   ⋮           \n",
       "129 NA          \n",
       "130 NA          "
      ]
     },
     "metadata": {},
     "output_type": "display_data"
    }
   ],
   "source": [
    "tuk = Fread(tuk_file)\n",
    "tuk"
   ]
  },
  {
   "cell_type": "markdown",
   "metadata": {},
   "source": [
    "# Formatting"
   ]
  },
  {
   "cell_type": "markdown",
   "metadata": {},
   "source": [
    "## animal-gut"
   ]
  },
  {
   "cell_type": "code",
   "execution_count": 113,
   "metadata": {
    "ExecuteTime": {
     "end_time": "2022-05-04T14:23:13.724413Z",
     "start_time": "2022-05-04T14:23:13.198Z"
    }
   },
   "outputs": [
    {
     "name": "stdout",
     "output_type": "stream",
     "text": [
      "intersect(x,y): 30 \n",
      "setdiff(x,y): 0 \n",
      "setdiff(y,x): 259 \n",
      "union(x,y): 289 \n"
     ]
    }
   ],
   "source": [
    "samples_ag = samples %>%\n",
    "    filter.(Dataset == 'Animal-gut')\n",
    "overlap(samples_ag$Study.identifier, animal_gut$Unique.Name)"
   ]
  },
  {
   "cell_type": "code",
   "execution_count": 107,
   "metadata": {
    "ExecuteTime": {
     "end_time": "2022-05-04T14:22:25.816995Z",
     "start_time": "2022-05-04T14:22:25.282Z"
    }
   },
   "outputs": [
    {
     "data": {
      "text/html": [
       "<table class=\"dataframe\">\n",
       "<caption>A tidytable: 30 × 6</caption>\n",
       "<thead>\n",
       "\t<tr><th scope=col>Dataset</th><th scope=col>Study.identifier</th><th scope=col>Misassembly.rate</th><th scope=col>Sample.accession</th><th scope=col>Study.accession</th><th scope=col>Accession</th></tr>\n",
       "\t<tr><th scope=col>&lt;chr&gt;</th><th scope=col>&lt;chr&gt;</th><th scope=col>&lt;dbl&gt;</th><th scope=col>&lt;chr&gt;</th><th scope=col>&lt;chr&gt;</th><th scope=col>&lt;chr&gt;</th></tr>\n",
       "</thead>\n",
       "<tbody>\n",
       "\t<tr><td>Animal-gut</td><td>X109_Red_Fox               </td><td>0.030</td><td></td><td>PRJEB38078</td><td>ERS4537011</td></tr>\n",
       "\t<tr><td>Animal-gut</td><td>X111_West_European_Hedgehog</td><td>0.028</td><td></td><td>PRJEB38078</td><td>ERS4537014</td></tr>\n",
       "\t<tr><td>⋮</td><td>⋮</td><td>⋮</td><td>⋮</td><td>⋮</td><td>⋮</td></tr>\n",
       "\t<tr><td>Animal-gut</td><td>X89_Fat_Dormouse </td><td>0.052</td><td></td><td>PRJEB38078</td><td>ERS4537273</td></tr>\n",
       "\t<tr><td>Animal-gut</td><td>X96_European_Hare</td><td>0.024</td><td></td><td>PRJEB38078</td><td>ERS4537280</td></tr>\n",
       "</tbody>\n",
       "</table>\n"
      ],
      "text/latex": [
       "A tidytable: 30 × 6\n",
       "\\begin{tabular}{llllll}\n",
       " Dataset & Study.identifier & Misassembly.rate & Sample.accession & Study.accession & Accession\\\\\n",
       " <chr> & <chr> & <dbl> & <chr> & <chr> & <chr>\\\\\n",
       "\\hline\n",
       "\t Animal-gut & X109\\_Red\\_Fox                & 0.030 &  & PRJEB38078 & ERS4537011\\\\\n",
       "\t Animal-gut & X111\\_West\\_European\\_Hedgehog & 0.028 &  & PRJEB38078 & ERS4537014\\\\\n",
       "\t ⋮ & ⋮ & ⋮ & ⋮ & ⋮ & ⋮\\\\\n",
       "\t Animal-gut & X89\\_Fat\\_Dormouse  & 0.052 &  & PRJEB38078 & ERS4537273\\\\\n",
       "\t Animal-gut & X96\\_European\\_Hare & 0.024 &  & PRJEB38078 & ERS4537280\\\\\n",
       "\\end{tabular}\n"
      ],
      "text/markdown": [
       "\n",
       "A tidytable: 30 × 6\n",
       "\n",
       "| Dataset &lt;chr&gt; | Study.identifier &lt;chr&gt; | Misassembly.rate &lt;dbl&gt; | Sample.accession &lt;chr&gt; | Study.accession &lt;chr&gt; | Accession &lt;chr&gt; |\n",
       "|---|---|---|---|---|---|\n",
       "| Animal-gut | X109_Red_Fox                | 0.030 | <!----> | PRJEB38078 | ERS4537011 |\n",
       "| Animal-gut | X111_West_European_Hedgehog | 0.028 | <!----> | PRJEB38078 | ERS4537014 |\n",
       "| ⋮ | ⋮ | ⋮ | ⋮ | ⋮ | ⋮ |\n",
       "| Animal-gut | X89_Fat_Dormouse  | 0.052 | <!----> | PRJEB38078 | ERS4537273 |\n",
       "| Animal-gut | X96_European_Hare | 0.024 | <!----> | PRJEB38078 | ERS4537280 |\n",
       "\n"
      ],
      "text/plain": [
       "   Dataset    Study.identifier            Misassembly.rate Sample.accession\n",
       "1  Animal-gut X109_Red_Fox                0.030                            \n",
       "2  Animal-gut X111_West_European_Hedgehog 0.028                            \n",
       "⋮  ⋮          ⋮                           ⋮                ⋮               \n",
       "29 Animal-gut X89_Fat_Dormouse            0.052                            \n",
       "30 Animal-gut X96_European_Hare           0.024                            \n",
       "   Study.accession Accession \n",
       "1  PRJEB38078      ERS4537011\n",
       "2  PRJEB38078      ERS4537014\n",
       "⋮  ⋮               ⋮         \n",
       "29 PRJEB38078      ERS4537273\n",
       "30 PRJEB38078      ERS4537280"
      ]
     },
     "metadata": {},
     "output_type": "display_data"
    }
   ],
   "source": [
    "samples_ag = samples_ag %>%\n",
    "    inner_join.(animal_gut %>% select.(Unique.Name, Accession), \n",
    "                c('Study.identifier' = 'Unique.Name'))\n",
    "samples_ag"
   ]
  },
  {
   "cell_type": "markdown",
   "metadata": {},
   "source": [
    "## TUK"
   ]
  },
  {
   "cell_type": "code",
   "execution_count": 108,
   "metadata": {
    "ExecuteTime": {
     "end_time": "2022-05-04T14:22:27.705963Z",
     "start_time": "2022-05-04T14:22:27.180Z"
    }
   },
   "outputs": [
    {
     "name": "stdout",
     "output_type": "stream",
     "text": [
      "intersect(x,y): 98 \n",
      "setdiff(x,y): 0 \n",
      "setdiff(y,x): 32 \n",
      "union(x,y): 130 \n"
     ]
    }
   ],
   "source": [
    "samples_tuk = samples %>%\n",
    "    filter.(Dataset == 'TwinsUK')\n",
    "overlap(samples_tuk$Study.identifier, tuk$SampleID_TUK.original)"
   ]
  },
  {
   "cell_type": "code",
   "execution_count": 109,
   "metadata": {
    "ExecuteTime": {
     "end_time": "2022-05-04T14:22:28.716747Z",
     "start_time": "2022-05-04T14:22:28.186Z"
    }
   },
   "outputs": [
    {
     "data": {
      "text/html": [
       "<table class=\"dataframe\">\n",
       "<caption>A tidytable: 98 × 6</caption>\n",
       "<thead>\n",
       "\t<tr><th scope=col>Dataset</th><th scope=col>Study.identifier</th><th scope=col>Misassembly.rate</th><th scope=col>Sample.accession</th><th scope=col>Study.accession</th><th scope=col>Accession</th></tr>\n",
       "\t<tr><th scope=col>&lt;chr&gt;</th><th scope=col>&lt;chr&gt;</th><th scope=col>&lt;dbl&gt;</th><th scope=col>&lt;chr&gt;</th><th scope=col>&lt;chr&gt;</th><th scope=col>&lt;chr&gt;</th></tr>\n",
       "</thead>\n",
       "<tbody>\n",
       "\t<tr><td>TwinsUK</td><td>8571</td><td>0.023</td><td>ERS5053138</td><td>PRJEB40256</td><td>ERS5053138</td></tr>\n",
       "\t<tr><td>TwinsUK</td><td>9311</td><td>0.028</td><td>ERS5053137</td><td>PRJEB40256</td><td>ERS5053137</td></tr>\n",
       "\t<tr><td>⋮</td><td>⋮</td><td>⋮</td><td>⋮</td><td>⋮</td><td>⋮</td></tr>\n",
       "\t<tr><td>TwinsUK</td><td>1020132</td><td>0.025</td><td>ERS5053015</td><td>PRJEB40256</td><td>ERS5053015</td></tr>\n",
       "\t<tr><td>TwinsUK</td><td>1020174</td><td>0.038</td><td>ERS5053013</td><td>PRJEB40256</td><td>ERS5053013</td></tr>\n",
       "</tbody>\n",
       "</table>\n"
      ],
      "text/latex": [
       "A tidytable: 98 × 6\n",
       "\\begin{tabular}{llllll}\n",
       " Dataset & Study.identifier & Misassembly.rate & Sample.accession & Study.accession & Accession\\\\\n",
       " <chr> & <chr> & <dbl> & <chr> & <chr> & <chr>\\\\\n",
       "\\hline\n",
       "\t TwinsUK & 8571 & 0.023 & ERS5053138 & PRJEB40256 & ERS5053138\\\\\n",
       "\t TwinsUK & 9311 & 0.028 & ERS5053137 & PRJEB40256 & ERS5053137\\\\\n",
       "\t ⋮ & ⋮ & ⋮ & ⋮ & ⋮ & ⋮\\\\\n",
       "\t TwinsUK & 1020132 & 0.025 & ERS5053015 & PRJEB40256 & ERS5053015\\\\\n",
       "\t TwinsUK & 1020174 & 0.038 & ERS5053013 & PRJEB40256 & ERS5053013\\\\\n",
       "\\end{tabular}\n"
      ],
      "text/markdown": [
       "\n",
       "A tidytable: 98 × 6\n",
       "\n",
       "| Dataset &lt;chr&gt; | Study.identifier &lt;chr&gt; | Misassembly.rate &lt;dbl&gt; | Sample.accession &lt;chr&gt; | Study.accession &lt;chr&gt; | Accession &lt;chr&gt; |\n",
       "|---|---|---|---|---|---|\n",
       "| TwinsUK | 8571 | 0.023 | ERS5053138 | PRJEB40256 | ERS5053138 |\n",
       "| TwinsUK | 9311 | 0.028 | ERS5053137 | PRJEB40256 | ERS5053137 |\n",
       "| ⋮ | ⋮ | ⋮ | ⋮ | ⋮ | ⋮ |\n",
       "| TwinsUK | 1020132 | 0.025 | ERS5053015 | PRJEB40256 | ERS5053015 |\n",
       "| TwinsUK | 1020174 | 0.038 | ERS5053013 | PRJEB40256 | ERS5053013 |\n",
       "\n"
      ],
      "text/plain": [
       "   Dataset Study.identifier Misassembly.rate Sample.accession Study.accession\n",
       "1  TwinsUK 8571             0.023            ERS5053138       PRJEB40256     \n",
       "2  TwinsUK 9311             0.028            ERS5053137       PRJEB40256     \n",
       "⋮  ⋮       ⋮                ⋮                ⋮                ⋮              \n",
       "97 TwinsUK 1020132          0.025            ERS5053015       PRJEB40256     \n",
       "98 TwinsUK 1020174          0.038            ERS5053013       PRJEB40256     \n",
       "   Accession \n",
       "1  ERS5053138\n",
       "2  ERS5053137\n",
       "⋮  ⋮         \n",
       "97 ERS5053015\n",
       "98 ERS5053013"
      ]
     },
     "metadata": {},
     "output_type": "display_data"
    }
   ],
   "source": [
    "samples_tuk = samples_tuk %>%\n",
    "    inner_join.(tuk %>% select.(SampleID_TUK.original, Accession), \n",
    "                c('Study.identifier' = 'SampleID_TUK.original'))\n",
    "samples_tuk"
   ]
  },
  {
   "cell_type": "markdown",
   "metadata": {},
   "source": [
    "# Merging"
   ]
  },
  {
   "cell_type": "code",
   "execution_count": 110,
   "metadata": {
    "ExecuteTime": {
     "end_time": "2022-05-04T14:22:31.082627Z",
     "start_time": "2022-05-04T14:22:30.540Z"
    }
   },
   "outputs": [
    {
     "data": {
      "text/html": [
       "<table class=\"dataframe\">\n",
       "<caption>A tidytable: 44 × 6</caption>\n",
       "<thead>\n",
       "\t<tr><th scope=col>Dataset</th><th scope=col>Study.identifier</th><th scope=col>Misassembly.rate</th><th scope=col>Sample.accession</th><th scope=col>Study.accession</th><th scope=col>Accession</th></tr>\n",
       "\t<tr><th scope=col>&lt;chr&gt;</th><th scope=col>&lt;chr&gt;</th><th scope=col>&lt;dbl&gt;</th><th scope=col>&lt;chr&gt;</th><th scope=col>&lt;chr&gt;</th><th scope=col>&lt;chr&gt;</th></tr>\n",
       "</thead>\n",
       "<tbody>\n",
       "\t<tr><td>UHGG</td><td>ERS1015611</td><td>0.026</td><td>ERS1015611</td><td>ERP013562</td><td>ERS1015611</td></tr>\n",
       "\t<tr><td>UHGG</td><td>ERS1016020</td><td>0.032</td><td>ERS1016020</td><td>ERP013563</td><td>ERS1016020</td></tr>\n",
       "\t<tr><td>⋮</td><td>⋮</td><td>⋮</td><td>⋮</td><td>⋮</td><td>⋮</td></tr>\n",
       "\t<tr><td>UHGG</td><td>ERS537345</td><td>0.20</td><td>ERS537345</td><td>ERP006678</td><td>ERS537345</td></tr>\n",
       "\t<tr><td>UHGG</td><td>ERS473376</td><td>0.23</td><td>ERS473376</td><td>ERP005989</td><td>ERS473376</td></tr>\n",
       "</tbody>\n",
       "</table>\n"
      ],
      "text/latex": [
       "A tidytable: 44 × 6\n",
       "\\begin{tabular}{llllll}\n",
       " Dataset & Study.identifier & Misassembly.rate & Sample.accession & Study.accession & Accession\\\\\n",
       " <chr> & <chr> & <dbl> & <chr> & <chr> & <chr>\\\\\n",
       "\\hline\n",
       "\t UHGG & ERS1015611 & 0.026 & ERS1015611 & ERP013562 & ERS1015611\\\\\n",
       "\t UHGG & ERS1016020 & 0.032 & ERS1016020 & ERP013563 & ERS1016020\\\\\n",
       "\t ⋮ & ⋮ & ⋮ & ⋮ & ⋮ & ⋮\\\\\n",
       "\t UHGG & ERS537345 & 0.20 & ERS537345 & ERP006678 & ERS537345\\\\\n",
       "\t UHGG & ERS473376 & 0.23 & ERS473376 & ERP005989 & ERS473376\\\\\n",
       "\\end{tabular}\n"
      ],
      "text/markdown": [
       "\n",
       "A tidytable: 44 × 6\n",
       "\n",
       "| Dataset &lt;chr&gt; | Study.identifier &lt;chr&gt; | Misassembly.rate &lt;dbl&gt; | Sample.accession &lt;chr&gt; | Study.accession &lt;chr&gt; | Accession &lt;chr&gt; |\n",
       "|---|---|---|---|---|---|\n",
       "| UHGG | ERS1015611 | 0.026 | ERS1015611 | ERP013562 | ERS1015611 |\n",
       "| UHGG | ERS1016020 | 0.032 | ERS1016020 | ERP013563 | ERS1016020 |\n",
       "| ⋮ | ⋮ | ⋮ | ⋮ | ⋮ | ⋮ |\n",
       "| UHGG | ERS537345 | 0.20 | ERS537345 | ERP006678 | ERS537345 |\n",
       "| UHGG | ERS473376 | 0.23 | ERS473376 | ERP005989 | ERS473376 |\n",
       "\n"
      ],
      "text/plain": [
       "   Dataset Study.identifier Misassembly.rate Sample.accession Study.accession\n",
       "1  UHGG    ERS1015611       0.026            ERS1015611       ERP013562      \n",
       "2  UHGG    ERS1016020       0.032            ERS1016020       ERP013563      \n",
       "⋮  ⋮       ⋮                ⋮                ⋮                ⋮              \n",
       "43 UHGG    ERS537345        0.20             ERS537345        ERP006678      \n",
       "44 UHGG    ERS473376        0.23             ERS473376        ERP005989      \n",
       "   Accession \n",
       "1  ERS1015611\n",
       "2  ERS1016020\n",
       "⋮  ⋮         \n",
       "43 ERS537345 \n",
       "44 ERS473376 "
      ]
     },
     "metadata": {},
     "output_type": "display_data"
    }
   ],
   "source": [
    "samples_uhgg = samples %>%\n",
    "    filter.(Dataset == 'UHGG') %>%\n",
    "    mutate.(Accession = Study.identifier) \n",
    "samples_uhgg"
   ]
  },
  {
   "cell_type": "code",
   "execution_count": 111,
   "metadata": {
    "ExecuteTime": {
     "end_time": "2022-05-04T14:22:33.201145Z",
     "start_time": "2022-05-04T14:22:32.670Z"
    }
   },
   "outputs": [
    {
     "data": {
      "text/html": [
       "<table class=\"dataframe\">\n",
       "<caption>A data.table: 172 × 6</caption>\n",
       "<thead>\n",
       "\t<tr><th scope=col>Dataset</th><th scope=col>Study.identifier</th><th scope=col>Misassembly.rate</th><th scope=col>Sample.accession</th><th scope=col>Study.accession</th><th scope=col>Accession</th></tr>\n",
       "\t<tr><th scope=col>&lt;chr&gt;</th><th scope=col>&lt;chr&gt;</th><th scope=col>&lt;dbl&gt;</th><th scope=col>&lt;chr&gt;</th><th scope=col>&lt;chr&gt;</th><th scope=col>&lt;chr&gt;</th></tr>\n",
       "</thead>\n",
       "<tbody>\n",
       "\t<tr><td>UHGG</td><td>ERS1015611</td><td>0.026</td><td>ERS1015611</td><td>ERP013562</td><td>ERS1015611</td></tr>\n",
       "\t<tr><td>UHGG</td><td>ERS1016020</td><td>0.032</td><td>ERS1016020</td><td>ERP013563</td><td>ERS1016020</td></tr>\n",
       "\t<tr><td>⋮</td><td>⋮</td><td>⋮</td><td>⋮</td><td>⋮</td><td>⋮</td></tr>\n",
       "\t<tr><td>Animal-gut</td><td>X89_Fat_Dormouse </td><td>0.052</td><td></td><td>PRJEB38078</td><td>ERS4537273</td></tr>\n",
       "\t<tr><td>Animal-gut</td><td>X96_European_Hare</td><td>0.024</td><td></td><td>PRJEB38078</td><td>ERS4537280</td></tr>\n",
       "</tbody>\n",
       "</table>\n"
      ],
      "text/latex": [
       "A data.table: 172 × 6\n",
       "\\begin{tabular}{llllll}\n",
       " Dataset & Study.identifier & Misassembly.rate & Sample.accession & Study.accession & Accession\\\\\n",
       " <chr> & <chr> & <dbl> & <chr> & <chr> & <chr>\\\\\n",
       "\\hline\n",
       "\t UHGG & ERS1015611 & 0.026 & ERS1015611 & ERP013562 & ERS1015611\\\\\n",
       "\t UHGG & ERS1016020 & 0.032 & ERS1016020 & ERP013563 & ERS1016020\\\\\n",
       "\t ⋮ & ⋮ & ⋮ & ⋮ & ⋮ & ⋮\\\\\n",
       "\t Animal-gut & X89\\_Fat\\_Dormouse  & 0.052 &  & PRJEB38078 & ERS4537273\\\\\n",
       "\t Animal-gut & X96\\_European\\_Hare & 0.024 &  & PRJEB38078 & ERS4537280\\\\\n",
       "\\end{tabular}\n"
      ],
      "text/markdown": [
       "\n",
       "A data.table: 172 × 6\n",
       "\n",
       "| Dataset &lt;chr&gt; | Study.identifier &lt;chr&gt; | Misassembly.rate &lt;dbl&gt; | Sample.accession &lt;chr&gt; | Study.accession &lt;chr&gt; | Accession &lt;chr&gt; |\n",
       "|---|---|---|---|---|---|\n",
       "| UHGG | ERS1015611 | 0.026 | ERS1015611 | ERP013562 | ERS1015611 |\n",
       "| UHGG | ERS1016020 | 0.032 | ERS1016020 | ERP013563 | ERS1016020 |\n",
       "| ⋮ | ⋮ | ⋮ | ⋮ | ⋮ | ⋮ |\n",
       "| Animal-gut | X89_Fat_Dormouse  | 0.052 | <!----> | PRJEB38078 | ERS4537273 |\n",
       "| Animal-gut | X96_European_Hare | 0.024 | <!----> | PRJEB38078 | ERS4537280 |\n",
       "\n"
      ],
      "text/plain": [
       "    Dataset    Study.identifier  Misassembly.rate Sample.accession\n",
       "1   UHGG       ERS1015611        0.026            ERS1015611      \n",
       "2   UHGG       ERS1016020        0.032            ERS1016020      \n",
       "⋮   ⋮          ⋮                 ⋮                ⋮               \n",
       "171 Animal-gut X89_Fat_Dormouse  0.052                            \n",
       "172 Animal-gut X96_European_Hare 0.024                            \n",
       "    Study.accession Accession \n",
       "1   ERP013562       ERS1015611\n",
       "2   ERP013563       ERS1016020\n",
       "⋮   ⋮               ⋮         \n",
       "171 PRJEB38078      ERS4537273\n",
       "172 PRJEB38078      ERS4537280"
      ]
     },
     "metadata": {},
     "output_type": "display_data"
    }
   ],
   "source": [
    "accs = rbindlist(list(\n",
    "    samples_uhgg, samples_tuk, samples_ag\n",
    "))\n",
    "accs"
   ]
  },
  {
   "cell_type": "markdown",
   "metadata": {},
   "source": [
    "### Writing final table"
   ]
  },
  {
   "cell_type": "code",
   "execution_count": 112,
   "metadata": {
    "ExecuteTime": {
     "end_time": "2022-05-04T14:22:39.963924Z",
     "start_time": "2022-05-04T14:22:39.440Z"
    }
   },
   "outputs": [
    {
     "name": "stdout",
     "output_type": "stream",
     "text": [
      "File written: /ebio/abt3_projects/databases_no-backup/DeepMAsED/version2/real_data_eval/accessions//accessions.tsv \n"
     ]
    }
   ],
   "source": [
    "# writing final table\n",
    "F = file.path(work_dir, 'accessions.tsv')\n",
    "write_table(accs, F)"
   ]
  },
  {
   "cell_type": "markdown",
   "metadata": {},
   "source": [
    "# sessionInfo"
   ]
  },
  {
   "cell_type": "code",
   "execution_count": 68,
   "metadata": {
    "ExecuteTime": {
     "end_time": "2022-04-30T05:07:21.370467Z",
     "start_time": "2022-04-30T05:07:21.158Z"
    }
   },
   "outputs": [
    {
     "data": {
      "text/plain": [
       "R version 4.1.1 (2021-08-10)\n",
       "Platform: x86_64-conda-linux-gnu (64-bit)\n",
       "Running under: Ubuntu 18.04.6 LTS\n",
       "\n",
       "Matrix products: default\n",
       "BLAS/LAPACK: /tmp/global2/nyoungblut/code/general/conda_envs/general-tidyverse/lib/libopenblasp-r0.3.18.so\n",
       "\n",
       "locale:\n",
       " [1] LC_CTYPE=en_US.UTF-8       LC_NUMERIC=C              \n",
       " [3] LC_TIME=en_US.UTF-8        LC_COLLATE=en_US.UTF-8    \n",
       " [5] LC_MONETARY=en_US.UTF-8    LC_MESSAGES=en_US.UTF-8   \n",
       " [7] LC_PAPER=en_US.UTF-8       LC_NAME=C                 \n",
       " [9] LC_ADDRESS=C               LC_TELEPHONE=C            \n",
       "[11] LC_MEASUREMENT=en_US.UTF-8 LC_IDENTIFICATION=C       \n",
       "\n",
       "attached base packages:\n",
       "[1] stats     graphics  grDevices utils     datasets  methods   base     \n",
       "\n",
       "other attached packages:\n",
       "[1] clustermq_0.8.95.2 LeyLabRMisc_0.2.1  tidytable_0.6.6    data.table_1.14.2 \n",
       "[5] ggplot2_3.3.5      tidyr_1.1.4        dplyr_1.0.7       \n",
       "\n",
       "loaded via a namespace (and not attached):\n",
       " [1] Rcpp_1.0.7       plyr_1.8.6       pillar_1.6.4     compiler_4.1.1  \n",
       " [5] base64enc_0.1-3  tools_4.1.1      digest_0.6.29    uuid_1.0-3      \n",
       " [9] jsonlite_1.7.2   evaluate_0.14    lifecycle_1.0.1  tibble_3.1.6    \n",
       "[13] gtable_0.3.0     pkgconfig_2.0.3  rlang_0.4.12     IRdisplay_1.1   \n",
       "[17] IRkernel_1.3     fastmap_1.1.0    repr_1.1.4       withr_2.4.3     \n",
       "[21] generics_0.1.1   vctrs_0.3.8      grid_4.1.1       tidyselect_1.1.1\n",
       "[25] glue_1.6.0       R6_2.5.1         fansi_1.0.0      pbdZMQ_0.3-6    \n",
       "[29] purrr_0.3.4      magrittr_2.0.1   codetools_0.2-18 scales_1.1.1    \n",
       "[33] ellipsis_0.3.2   htmltools_0.5.2  colorspace_2.0-2 utf8_1.2.2      \n",
       "[37] munsell_0.5.0    crayon_1.4.2    "
      ]
     },
     "metadata": {},
     "output_type": "display_data"
    }
   ],
   "source": [
    "sessionInfo()"
   ]
  }
 ],
 "metadata": {
  "kernelspec": {
   "display_name": "R [conda env:general-tidyverse]",
   "language": "R",
   "name": "conda-env-general-tidyverse-r"
  },
  "language_info": {
   "codemirror_mode": "r",
   "file_extension": ".r",
   "mimetype": "text/x-r-source",
   "name": "R",
   "pygments_lexer": "r",
   "version": "4.1.1"
  },
  "notify_time": "30",
  "toc": {
   "base_numbering": 1,
   "nav_menu": {},
   "number_sections": true,
   "sideBar": true,
   "skip_h1_title": false,
   "title_cell": "Table of Contents",
   "title_sidebar": "Contents",
   "toc_cell": true,
   "toc_position": {},
   "toc_section_display": true,
   "toc_window_display": true
  }
 },
 "nbformat": 4,
 "nbformat_minor": 4
}
