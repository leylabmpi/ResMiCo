{
 "cells": [
  {
   "cell_type": "markdown",
   "metadata": {
    "toc": true
   },
   "source": [
    "<h1>Table of Contents<span class=\"tocSkip\"></span></h1>\n",
    "<div class=\"toc\"><ul class=\"toc-item\"><li><span><a href=\"#Goal\" data-toc-modified-id=\"Goal-1\"><span class=\"toc-item-num\">1&nbsp;&nbsp;</span>Goal</a></span></li><li><span><a href=\"#Var\" data-toc-modified-id=\"Var-2\"><span class=\"toc-item-num\">2&nbsp;&nbsp;</span>Var</a></span></li><li><span><a href=\"#Init\" data-toc-modified-id=\"Init-3\"><span class=\"toc-item-num\">3&nbsp;&nbsp;</span>Init</a></span></li><li><span><a href=\"#Load\" data-toc-modified-id=\"Load-4\"><span class=\"toc-item-num\">4&nbsp;&nbsp;</span>Load</a></span></li><li><span><a href=\"#Run1:-n30\" data-toc-modified-id=\"Run1:-n30-5\"><span class=\"toc-item-num\">5&nbsp;&nbsp;</span>Run1: n30</a></span><ul class=\"toc-item\"><li><span><a href=\"#ResMiCo-SM\" data-toc-modified-id=\"ResMiCo-SM-5.1\"><span class=\"toc-item-num\">5.1&nbsp;&nbsp;</span>ResMiCo-SM</a></span><ul class=\"toc-item\"><li><span><a href=\"#Config\" data-toc-modified-id=\"Config-5.1.1\"><span class=\"toc-item-num\">5.1.1&nbsp;&nbsp;</span>Config</a></span></li><li><span><a href=\"#Run\" data-toc-modified-id=\"Run-5.1.2\"><span class=\"toc-item-num\">5.1.2&nbsp;&nbsp;</span>Run</a></span></li></ul></li></ul></li><li><span><a href=\"#--TODO--\" data-toc-modified-id=\"--TODO---6\"><span class=\"toc-item-num\">6&nbsp;&nbsp;</span>--TODO--</a></span></li></ul></div>"
   ]
  },
  {
   "cell_type": "markdown",
   "metadata": {},
   "source": [
    "# Goal\n",
    "\n",
    "* Process Korean dataset contigs with ResMiCo-SM"
   ]
  },
  {
   "cell_type": "markdown",
   "metadata": {},
   "source": [
    "# Var"
   ]
  },
  {
   "cell_type": "code",
   "execution_count": 15,
   "metadata": {
    "ExecuteTime": {
     "end_time": "2022-02-05T12:47:21.322496Z",
     "start_time": "2022-02-05T12:47:21.242Z"
    }
   },
   "outputs": [],
   "source": [
    "work_dir = '/ebio/abt3_projects/databases_no-backup/DeepMAsED/version2/real_data_eval/hubif/'\n",
    "\n",
    "asmbl_dir = '/ebio/abt3_projects/HUBIF_metagenomics/data/pipelines/llmga_denovo/cophyverttrans/koreans/llmga_denovo_output/'\n",
    "read_dir = '/ebio/abt3_projects/HUBIF_metagenomics/data/metagenomes/cophylogeny/supplementary_metagenomes/Korean_data/llmgqc_output/Korea_output/'\n",
    "\n",
    "# params\n",
    "threads = 4"
   ]
  },
  {
   "cell_type": "markdown",
   "metadata": {},
   "source": [
    "# Init"
   ]
  },
  {
   "cell_type": "code",
   "execution_count": 3,
   "metadata": {
    "ExecuteTime": {
     "end_time": "2022-02-05T12:45:21.269497Z",
     "start_time": "2022-02-05T12:45:21.178Z"
    }
   },
   "outputs": [],
   "source": [
    "library(dplyr)\n",
    "library(tidyr)\n",
    "library(ggplot2)\n",
    "library(data.table)\n",
    "library(tidytable)\n",
    "library(clustermq)\n",
    "library(LeyLabRMisc)\n",
    "Init()"
   ]
  },
  {
   "cell_type": "markdown",
   "metadata": {},
   "source": [
    "# Load"
   ]
  },
  {
   "cell_type": "code",
   "execution_count": 19,
   "metadata": {
    "ExecuteTime": {
     "end_time": "2022-02-05T12:47:52.338990Z",
     "start_time": "2022-02-05T12:47:52.117Z"
    }
   },
   "outputs": [
    {
     "data": {
      "text/html": [
       "<table class=\"dataframe\">\n",
       "<caption>A data.table: 96 × 2</caption>\n",
       "<thead>\n",
       "\t<tr><th scope=col>Sample</th><th scope=col>Fasta</th></tr>\n",
       "\t<tr><th scope=col>&lt;chr&gt;</th><th scope=col>&lt;chr&gt;</th></tr>\n",
       "</thead>\n",
       "<tbody>\n",
       "\t<tr><td>NegKorean1_plate1_A01</td><td>/ebio/abt3_projects/HUBIF_metagenomics/data/pipelines/llmga_denovo/cophyverttrans/koreans/llmga_denovo_output//denovo/NegKorean1_plate1_A01/contigs.fna.gz</td></tr>\n",
       "\t<tr><td>NegKorean2_plate1_D06</td><td>/ebio/abt3_projects/HUBIF_metagenomics/data/pipelines/llmga_denovo/cophyverttrans/koreans/llmga_denovo_output//denovo/NegKorean2_plate1_D06/contigs.fna.gz</td></tr>\n",
       "\t<tr><td>⋮</td><td>⋮</td></tr>\n",
       "\t<tr><td>S921_plate1_A08</td><td>/ebio/abt3_projects/HUBIF_metagenomics/data/pipelines/llmga_denovo/cophyverttrans/koreans/llmga_denovo_output//denovo/S921_plate1_A08/contigs.fna.gz</td></tr>\n",
       "\t<tr><td>S970_plate1_C02</td><td>/ebio/abt3_projects/HUBIF_metagenomics/data/pipelines/llmga_denovo/cophyverttrans/koreans/llmga_denovo_output//denovo/S970_plate1_C02/contigs.fna.gz</td></tr>\n",
       "</tbody>\n",
       "</table>\n"
      ],
      "text/latex": [
       "A data.table: 96 × 2\n",
       "\\begin{tabular}{ll}\n",
       " Sample & Fasta\\\\\n",
       " <chr> & <chr>\\\\\n",
       "\\hline\n",
       "\t NegKorean1\\_plate1\\_A01 & /ebio/abt3\\_projects/HUBIF\\_metagenomics/data/pipelines/llmga\\_denovo/cophyverttrans/koreans/llmga\\_denovo\\_output//denovo/NegKorean1\\_plate1\\_A01/contigs.fna.gz\\\\\n",
       "\t NegKorean2\\_plate1\\_D06 & /ebio/abt3\\_projects/HUBIF\\_metagenomics/data/pipelines/llmga\\_denovo/cophyverttrans/koreans/llmga\\_denovo\\_output//denovo/NegKorean2\\_plate1\\_D06/contigs.fna.gz\\\\\n",
       "\t ⋮ & ⋮\\\\\n",
       "\t S921\\_plate1\\_A08 & /ebio/abt3\\_projects/HUBIF\\_metagenomics/data/pipelines/llmga\\_denovo/cophyverttrans/koreans/llmga\\_denovo\\_output//denovo/S921\\_plate1\\_A08/contigs.fna.gz\\\\\n",
       "\t S970\\_plate1\\_C02 & /ebio/abt3\\_projects/HUBIF\\_metagenomics/data/pipelines/llmga\\_denovo/cophyverttrans/koreans/llmga\\_denovo\\_output//denovo/S970\\_plate1\\_C02/contigs.fna.gz\\\\\n",
       "\\end{tabular}\n"
      ],
      "text/markdown": [
       "\n",
       "A data.table: 96 × 2\n",
       "\n",
       "| Sample &lt;chr&gt; | Fasta &lt;chr&gt; |\n",
       "|---|---|\n",
       "| NegKorean1_plate1_A01 | /ebio/abt3_projects/HUBIF_metagenomics/data/pipelines/llmga_denovo/cophyverttrans/koreans/llmga_denovo_output//denovo/NegKorean1_plate1_A01/contigs.fna.gz |\n",
       "| NegKorean2_plate1_D06 | /ebio/abt3_projects/HUBIF_metagenomics/data/pipelines/llmga_denovo/cophyverttrans/koreans/llmga_denovo_output//denovo/NegKorean2_plate1_D06/contigs.fna.gz |\n",
       "| ⋮ | ⋮ |\n",
       "| S921_plate1_A08 | /ebio/abt3_projects/HUBIF_metagenomics/data/pipelines/llmga_denovo/cophyverttrans/koreans/llmga_denovo_output//denovo/S921_plate1_A08/contigs.fna.gz |\n",
       "| S970_plate1_C02 | /ebio/abt3_projects/HUBIF_metagenomics/data/pipelines/llmga_denovo/cophyverttrans/koreans/llmga_denovo_output//denovo/S970_plate1_C02/contigs.fna.gz |\n",
       "\n"
      ],
      "text/plain": [
       "   Sample               \n",
       "1  NegKorean1_plate1_A01\n",
       "2  NegKorean2_plate1_D06\n",
       "⋮  ⋮                    \n",
       "95 S921_plate1_A08      \n",
       "96 S970_plate1_C02      \n",
       "   Fasta                                                                                                                                                     \n",
       "1  /ebio/abt3_projects/HUBIF_metagenomics/data/pipelines/llmga_denovo/cophyverttrans/koreans/llmga_denovo_output//denovo/NegKorean1_plate1_A01/contigs.fna.gz\n",
       "2  /ebio/abt3_projects/HUBIF_metagenomics/data/pipelines/llmga_denovo/cophyverttrans/koreans/llmga_denovo_output//denovo/NegKorean2_plate1_D06/contigs.fna.gz\n",
       "⋮  ⋮                                                                                                                                                         \n",
       "95 /ebio/abt3_projects/HUBIF_metagenomics/data/pipelines/llmga_denovo/cophyverttrans/koreans/llmga_denovo_output//denovo/S921_plate1_A08/contigs.fna.gz      \n",
       "96 /ebio/abt3_projects/HUBIF_metagenomics/data/pipelines/llmga_denovo/cophyverttrans/koreans/llmga_denovo_output//denovo/S970_plate1_C02/contigs.fna.gz      "
      ]
     },
     "metadata": {},
     "output_type": "display_data"
    }
   ],
   "source": [
    "# contigs\n",
    "get_sample = function(x){\n",
    "    strsplit(x, '/') %>% unlist %>% .[13]\n",
    "}\n",
    "\n",
    "D = file.path(asmbl_dir, 'denovo')\n",
    "contig_files = list_files(D, 'contigs.fna.gz')\n",
    "contig_files = data.frame(\n",
    "    Sample = sapply(contig_files, get_sample),\n",
    "    Fasta = contig_files\n",
    ") %>% as.data.table\n",
    "contig_files"
   ]
  },
  {
   "cell_type": "code",
   "execution_count": 16,
   "metadata": {
    "ExecuteTime": {
     "end_time": "2022-02-05T12:47:23.521898Z",
     "start_time": "2022-02-05T12:47:23.413Z"
    }
   },
   "outputs": [
    {
     "data": {
      "text/html": [
       "<table class=\"dataframe\">\n",
       "<caption>A data.table: 96 × 4</caption>\n",
       "<thead>\n",
       "\t<tr><th scope=col>Sample</th><th scope=col>Read1</th><th scope=col>Read2</th><th scope=col>Notes</th></tr>\n",
       "\t<tr><th scope=col>&lt;chr&gt;</th><th scope=col>&lt;chr&gt;</th><th scope=col>&lt;chr&gt;</th><th scope=col>&lt;lgl&gt;</th></tr>\n",
       "</thead>\n",
       "<tbody>\n",
       "\t<tr><td>NegKorean3_plate1_H12</td><td>/ebio/abt3_projects/HUBIF_metagenomics/data/metagenomes/cophylogeny/supplementary_metagenomes/Korean_data/llmgqc_output/Korea_output/final/NegKorean3_plate1_H12/R1_final.fq.gz</td><td>/ebio/abt3_projects/HUBIF_metagenomics/data/metagenomes/cophylogeny/supplementary_metagenomes/Korean_data/llmgqc_output/Korea_output/final/NegKorean3_plate1_H12/R2_final.fq.gz</td><td>NA</td></tr>\n",
       "\t<tr><td>S2309_plate1_G12     </td><td>/ebio/abt3_projects/HUBIF_metagenomics/data/metagenomes/cophylogeny/supplementary_metagenomes/Korean_data/llmgqc_output/Korea_output/final/S2309_plate1_G12/R1_final.fq.gz     </td><td>/ebio/abt3_projects/HUBIF_metagenomics/data/metagenomes/cophylogeny/supplementary_metagenomes/Korean_data/llmgqc_output/Korea_output/final/S2309_plate1_G12/R2_final.fq.gz     </td><td>NA</td></tr>\n",
       "\t<tr><td>⋮</td><td>⋮</td><td>⋮</td><td>⋮</td></tr>\n",
       "\t<tr><td>S1252_plate1_B01     </td><td>/ebio/abt3_projects/HUBIF_metagenomics/data/metagenomes/cophylogeny/supplementary_metagenomes/Korean_data/llmgqc_output/Korea_output/final/S1252_plate1_B01/R1_final.fq.gz     </td><td>/ebio/abt3_projects/HUBIF_metagenomics/data/metagenomes/cophylogeny/supplementary_metagenomes/Korean_data/llmgqc_output/Korea_output/final/S1252_plate1_B01/R2_final.fq.gz     </td><td>NA</td></tr>\n",
       "\t<tr><td>NegKorean1_plate1_A01</td><td>/ebio/abt3_projects/HUBIF_metagenomics/data/metagenomes/cophylogeny/supplementary_metagenomes/Korean_data/llmgqc_output/Korea_output/final/NegKorean1_plate1_A01/R1_final.fq.gz</td><td>/ebio/abt3_projects/HUBIF_metagenomics/data/metagenomes/cophylogeny/supplementary_metagenomes/Korean_data/llmgqc_output/Korea_output/final/NegKorean1_plate1_A01/R2_final.fq.gz</td><td>NA</td></tr>\n",
       "</tbody>\n",
       "</table>\n"
      ],
      "text/latex": [
       "A data.table: 96 × 4\n",
       "\\begin{tabular}{llll}\n",
       " Sample & Read1 & Read2 & Notes\\\\\n",
       " <chr> & <chr> & <chr> & <lgl>\\\\\n",
       "\\hline\n",
       "\t NegKorean3\\_plate1\\_H12 & /ebio/abt3\\_projects/HUBIF\\_metagenomics/data/metagenomes/cophylogeny/supplementary\\_metagenomes/Korean\\_data/llmgqc\\_output/Korea\\_output/final/NegKorean3\\_plate1\\_H12/R1\\_final.fq.gz & /ebio/abt3\\_projects/HUBIF\\_metagenomics/data/metagenomes/cophylogeny/supplementary\\_metagenomes/Korean\\_data/llmgqc\\_output/Korea\\_output/final/NegKorean3\\_plate1\\_H12/R2\\_final.fq.gz & NA\\\\\n",
       "\t S2309\\_plate1\\_G12      & /ebio/abt3\\_projects/HUBIF\\_metagenomics/data/metagenomes/cophylogeny/supplementary\\_metagenomes/Korean\\_data/llmgqc\\_output/Korea\\_output/final/S2309\\_plate1\\_G12/R1\\_final.fq.gz      & /ebio/abt3\\_projects/HUBIF\\_metagenomics/data/metagenomes/cophylogeny/supplementary\\_metagenomes/Korean\\_data/llmgqc\\_output/Korea\\_output/final/S2309\\_plate1\\_G12/R2\\_final.fq.gz      & NA\\\\\n",
       "\t ⋮ & ⋮ & ⋮ & ⋮\\\\\n",
       "\t S1252\\_plate1\\_B01      & /ebio/abt3\\_projects/HUBIF\\_metagenomics/data/metagenomes/cophylogeny/supplementary\\_metagenomes/Korean\\_data/llmgqc\\_output/Korea\\_output/final/S1252\\_plate1\\_B01/R1\\_final.fq.gz      & /ebio/abt3\\_projects/HUBIF\\_metagenomics/data/metagenomes/cophylogeny/supplementary\\_metagenomes/Korean\\_data/llmgqc\\_output/Korea\\_output/final/S1252\\_plate1\\_B01/R2\\_final.fq.gz      & NA\\\\\n",
       "\t NegKorean1\\_plate1\\_A01 & /ebio/abt3\\_projects/HUBIF\\_metagenomics/data/metagenomes/cophylogeny/supplementary\\_metagenomes/Korean\\_data/llmgqc\\_output/Korea\\_output/final/NegKorean1\\_plate1\\_A01/R1\\_final.fq.gz & /ebio/abt3\\_projects/HUBIF\\_metagenomics/data/metagenomes/cophylogeny/supplementary\\_metagenomes/Korean\\_data/llmgqc\\_output/Korea\\_output/final/NegKorean1\\_plate1\\_A01/R2\\_final.fq.gz & NA\\\\\n",
       "\\end{tabular}\n"
      ],
      "text/markdown": [
       "\n",
       "A data.table: 96 × 4\n",
       "\n",
       "| Sample &lt;chr&gt; | Read1 &lt;chr&gt; | Read2 &lt;chr&gt; | Notes &lt;lgl&gt; |\n",
       "|---|---|---|---|\n",
       "| NegKorean3_plate1_H12 | /ebio/abt3_projects/HUBIF_metagenomics/data/metagenomes/cophylogeny/supplementary_metagenomes/Korean_data/llmgqc_output/Korea_output/final/NegKorean3_plate1_H12/R1_final.fq.gz | /ebio/abt3_projects/HUBIF_metagenomics/data/metagenomes/cophylogeny/supplementary_metagenomes/Korean_data/llmgqc_output/Korea_output/final/NegKorean3_plate1_H12/R2_final.fq.gz | NA |\n",
       "| S2309_plate1_G12      | /ebio/abt3_projects/HUBIF_metagenomics/data/metagenomes/cophylogeny/supplementary_metagenomes/Korean_data/llmgqc_output/Korea_output/final/S2309_plate1_G12/R1_final.fq.gz      | /ebio/abt3_projects/HUBIF_metagenomics/data/metagenomes/cophylogeny/supplementary_metagenomes/Korean_data/llmgqc_output/Korea_output/final/S2309_plate1_G12/R2_final.fq.gz      | NA |\n",
       "| ⋮ | ⋮ | ⋮ | ⋮ |\n",
       "| S1252_plate1_B01      | /ebio/abt3_projects/HUBIF_metagenomics/data/metagenomes/cophylogeny/supplementary_metagenomes/Korean_data/llmgqc_output/Korea_output/final/S1252_plate1_B01/R1_final.fq.gz      | /ebio/abt3_projects/HUBIF_metagenomics/data/metagenomes/cophylogeny/supplementary_metagenomes/Korean_data/llmgqc_output/Korea_output/final/S1252_plate1_B01/R2_final.fq.gz      | NA |\n",
       "| NegKorean1_plate1_A01 | /ebio/abt3_projects/HUBIF_metagenomics/data/metagenomes/cophylogeny/supplementary_metagenomes/Korean_data/llmgqc_output/Korea_output/final/NegKorean1_plate1_A01/R1_final.fq.gz | /ebio/abt3_projects/HUBIF_metagenomics/data/metagenomes/cophylogeny/supplementary_metagenomes/Korean_data/llmgqc_output/Korea_output/final/NegKorean1_plate1_A01/R2_final.fq.gz | NA |\n",
       "\n"
      ],
      "text/plain": [
       "   Sample               \n",
       "1  NegKorean3_plate1_H12\n",
       "2  S2309_plate1_G12     \n",
       "⋮  ⋮                    \n",
       "95 S1252_plate1_B01     \n",
       "96 NegKorean1_plate1_A01\n",
       "   Read1                                                                                                                                                                          \n",
       "1  /ebio/abt3_projects/HUBIF_metagenomics/data/metagenomes/cophylogeny/supplementary_metagenomes/Korean_data/llmgqc_output/Korea_output/final/NegKorean3_plate1_H12/R1_final.fq.gz\n",
       "2  /ebio/abt3_projects/HUBIF_metagenomics/data/metagenomes/cophylogeny/supplementary_metagenomes/Korean_data/llmgqc_output/Korea_output/final/S2309_plate1_G12/R1_final.fq.gz     \n",
       "⋮  ⋮                                                                                                                                                                              \n",
       "95 /ebio/abt3_projects/HUBIF_metagenomics/data/metagenomes/cophylogeny/supplementary_metagenomes/Korean_data/llmgqc_output/Korea_output/final/S1252_plate1_B01/R1_final.fq.gz     \n",
       "96 /ebio/abt3_projects/HUBIF_metagenomics/data/metagenomes/cophylogeny/supplementary_metagenomes/Korean_data/llmgqc_output/Korea_output/final/NegKorean1_plate1_A01/R1_final.fq.gz\n",
       "   Read2                                                                                                                                                                          \n",
       "1  /ebio/abt3_projects/HUBIF_metagenomics/data/metagenomes/cophylogeny/supplementary_metagenomes/Korean_data/llmgqc_output/Korea_output/final/NegKorean3_plate1_H12/R2_final.fq.gz\n",
       "2  /ebio/abt3_projects/HUBIF_metagenomics/data/metagenomes/cophylogeny/supplementary_metagenomes/Korean_data/llmgqc_output/Korea_output/final/S2309_plate1_G12/R2_final.fq.gz     \n",
       "⋮  ⋮                                                                                                                                                                              \n",
       "95 /ebio/abt3_projects/HUBIF_metagenomics/data/metagenomes/cophylogeny/supplementary_metagenomes/Korean_data/llmgqc_output/Korea_output/final/S1252_plate1_B01/R2_final.fq.gz     \n",
       "96 /ebio/abt3_projects/HUBIF_metagenomics/data/metagenomes/cophylogeny/supplementary_metagenomes/Korean_data/llmgqc_output/Korea_output/final/NegKorean1_plate1_A01/R2_final.fq.gz\n",
       "   Notes\n",
       "1  NA   \n",
       "2  NA   \n",
       "⋮  ⋮    \n",
       "95 NA   \n",
       "96 NA   "
      ]
     },
     "metadata": {},
     "output_type": "display_data"
    }
   ],
   "source": [
    "# read files\n",
    "F = file.path(read_dir, 'final', 'samples.txt')\n",
    "read_files = Fread(F)\n",
    "read_files"
   ]
  },
  {
   "cell_type": "code",
   "execution_count": 22,
   "metadata": {
    "ExecuteTime": {
     "end_time": "2022-02-05T12:48:04.789724Z",
     "start_time": "2022-02-05T12:48:04.670Z"
    }
   },
   "outputs": [
    {
     "name": "stdout",
     "output_type": "stream",
     "text": [
      "intersect(x,y): 96 \n",
      "setdiff(x,y): 0 \n",
      "setdiff(y,x): 0 \n",
      "union(x,y): 96 \n"
     ]
    },
    {
     "data": {
      "text/html": [
       "<table class=\"dataframe\">\n",
       "<caption>A tidytable: 96 × 5</caption>\n",
       "<thead>\n",
       "\t<tr><th scope=col>Taxon</th><th scope=col>Fasta</th><th scope=col>Sample</th><th scope=col>Read1</th><th scope=col>Read2</th></tr>\n",
       "\t<tr><th scope=col>&lt;chr&gt;</th><th scope=col>&lt;chr&gt;</th><th scope=col>&lt;chr&gt;</th><th scope=col>&lt;chr&gt;</th><th scope=col>&lt;chr&gt;</th></tr>\n",
       "</thead>\n",
       "<tbody>\n",
       "\t<tr><td>NegKorean3_plate1_H12</td><td>/ebio/abt3_projects/HUBIF_metagenomics/data/pipelines/llmga_denovo/cophyverttrans/koreans/llmga_denovo_output/denovo/NegKorean3_plate1_H12/contigs.fna.gz</td><td>NegKorean3_plate1_H12</td><td>/ebio/abt3_projects/HUBIF_metagenomics/data/metagenomes/cophylogeny/supplementary_metagenomes/Korean_data/llmgqc_output/Korea_output/final/NegKorean3_plate1_H12/R1_final.fq.gz</td><td>/ebio/abt3_projects/HUBIF_metagenomics/data/metagenomes/cophylogeny/supplementary_metagenomes/Korean_data/llmgqc_output/Korea_output/final/NegKorean3_plate1_H12/R2_final.fq.gz</td></tr>\n",
       "\t<tr><td>S2309_plate1_G12     </td><td>/ebio/abt3_projects/HUBIF_metagenomics/data/pipelines/llmga_denovo/cophyverttrans/koreans/llmga_denovo_output/denovo/S2309_plate1_G12/contigs.fna.gz     </td><td>S2309_plate1_G12     </td><td>/ebio/abt3_projects/HUBIF_metagenomics/data/metagenomes/cophylogeny/supplementary_metagenomes/Korean_data/llmgqc_output/Korea_output/final/S2309_plate1_G12/R1_final.fq.gz     </td><td>/ebio/abt3_projects/HUBIF_metagenomics/data/metagenomes/cophylogeny/supplementary_metagenomes/Korean_data/llmgqc_output/Korea_output/final/S2309_plate1_G12/R2_final.fq.gz     </td></tr>\n",
       "\t<tr><td>⋮</td><td>⋮</td><td>⋮</td><td>⋮</td><td>⋮</td></tr>\n",
       "\t<tr><td>S1252_plate1_B01     </td><td>/ebio/abt3_projects/HUBIF_metagenomics/data/pipelines/llmga_denovo/cophyverttrans/koreans/llmga_denovo_output/denovo/S1252_plate1_B01/contigs.fna.gz     </td><td>S1252_plate1_B01     </td><td>/ebio/abt3_projects/HUBIF_metagenomics/data/metagenomes/cophylogeny/supplementary_metagenomes/Korean_data/llmgqc_output/Korea_output/final/S1252_plate1_B01/R1_final.fq.gz     </td><td>/ebio/abt3_projects/HUBIF_metagenomics/data/metagenomes/cophylogeny/supplementary_metagenomes/Korean_data/llmgqc_output/Korea_output/final/S1252_plate1_B01/R2_final.fq.gz     </td></tr>\n",
       "\t<tr><td>NegKorean1_plate1_A01</td><td>/ebio/abt3_projects/HUBIF_metagenomics/data/pipelines/llmga_denovo/cophyverttrans/koreans/llmga_denovo_output/denovo/NegKorean1_plate1_A01/contigs.fna.gz</td><td>NegKorean1_plate1_A01</td><td>/ebio/abt3_projects/HUBIF_metagenomics/data/metagenomes/cophylogeny/supplementary_metagenomes/Korean_data/llmgqc_output/Korea_output/final/NegKorean1_plate1_A01/R1_final.fq.gz</td><td>/ebio/abt3_projects/HUBIF_metagenomics/data/metagenomes/cophylogeny/supplementary_metagenomes/Korean_data/llmgqc_output/Korea_output/final/NegKorean1_plate1_A01/R2_final.fq.gz</td></tr>\n",
       "</tbody>\n",
       "</table>\n"
      ],
      "text/latex": [
       "A tidytable: 96 × 5\n",
       "\\begin{tabular}{lllll}\n",
       " Taxon & Fasta & Sample & Read1 & Read2\\\\\n",
       " <chr> & <chr> & <chr> & <chr> & <chr>\\\\\n",
       "\\hline\n",
       "\t NegKorean3\\_plate1\\_H12 & /ebio/abt3\\_projects/HUBIF\\_metagenomics/data/pipelines/llmga\\_denovo/cophyverttrans/koreans/llmga\\_denovo\\_output/denovo/NegKorean3\\_plate1\\_H12/contigs.fna.gz & NegKorean3\\_plate1\\_H12 & /ebio/abt3\\_projects/HUBIF\\_metagenomics/data/metagenomes/cophylogeny/supplementary\\_metagenomes/Korean\\_data/llmgqc\\_output/Korea\\_output/final/NegKorean3\\_plate1\\_H12/R1\\_final.fq.gz & /ebio/abt3\\_projects/HUBIF\\_metagenomics/data/metagenomes/cophylogeny/supplementary\\_metagenomes/Korean\\_data/llmgqc\\_output/Korea\\_output/final/NegKorean3\\_plate1\\_H12/R2\\_final.fq.gz\\\\\n",
       "\t S2309\\_plate1\\_G12      & /ebio/abt3\\_projects/HUBIF\\_metagenomics/data/pipelines/llmga\\_denovo/cophyverttrans/koreans/llmga\\_denovo\\_output/denovo/S2309\\_plate1\\_G12/contigs.fna.gz      & S2309\\_plate1\\_G12      & /ebio/abt3\\_projects/HUBIF\\_metagenomics/data/metagenomes/cophylogeny/supplementary\\_metagenomes/Korean\\_data/llmgqc\\_output/Korea\\_output/final/S2309\\_plate1\\_G12/R1\\_final.fq.gz      & /ebio/abt3\\_projects/HUBIF\\_metagenomics/data/metagenomes/cophylogeny/supplementary\\_metagenomes/Korean\\_data/llmgqc\\_output/Korea\\_output/final/S2309\\_plate1\\_G12/R2\\_final.fq.gz     \\\\\n",
       "\t ⋮ & ⋮ & ⋮ & ⋮ & ⋮\\\\\n",
       "\t S1252\\_plate1\\_B01      & /ebio/abt3\\_projects/HUBIF\\_metagenomics/data/pipelines/llmga\\_denovo/cophyverttrans/koreans/llmga\\_denovo\\_output/denovo/S1252\\_plate1\\_B01/contigs.fna.gz      & S1252\\_plate1\\_B01      & /ebio/abt3\\_projects/HUBIF\\_metagenomics/data/metagenomes/cophylogeny/supplementary\\_metagenomes/Korean\\_data/llmgqc\\_output/Korea\\_output/final/S1252\\_plate1\\_B01/R1\\_final.fq.gz      & /ebio/abt3\\_projects/HUBIF\\_metagenomics/data/metagenomes/cophylogeny/supplementary\\_metagenomes/Korean\\_data/llmgqc\\_output/Korea\\_output/final/S1252\\_plate1\\_B01/R2\\_final.fq.gz     \\\\\n",
       "\t NegKorean1\\_plate1\\_A01 & /ebio/abt3\\_projects/HUBIF\\_metagenomics/data/pipelines/llmga\\_denovo/cophyverttrans/koreans/llmga\\_denovo\\_output/denovo/NegKorean1\\_plate1\\_A01/contigs.fna.gz & NegKorean1\\_plate1\\_A01 & /ebio/abt3\\_projects/HUBIF\\_metagenomics/data/metagenomes/cophylogeny/supplementary\\_metagenomes/Korean\\_data/llmgqc\\_output/Korea\\_output/final/NegKorean1\\_plate1\\_A01/R1\\_final.fq.gz & /ebio/abt3\\_projects/HUBIF\\_metagenomics/data/metagenomes/cophylogeny/supplementary\\_metagenomes/Korean\\_data/llmgqc\\_output/Korea\\_output/final/NegKorean1\\_plate1\\_A01/R2\\_final.fq.gz\\\\\n",
       "\\end{tabular}\n"
      ],
      "text/markdown": [
       "\n",
       "A tidytable: 96 × 5\n",
       "\n",
       "| Taxon &lt;chr&gt; | Fasta &lt;chr&gt; | Sample &lt;chr&gt; | Read1 &lt;chr&gt; | Read2 &lt;chr&gt; |\n",
       "|---|---|---|---|---|\n",
       "| NegKorean3_plate1_H12 | /ebio/abt3_projects/HUBIF_metagenomics/data/pipelines/llmga_denovo/cophyverttrans/koreans/llmga_denovo_output/denovo/NegKorean3_plate1_H12/contigs.fna.gz | NegKorean3_plate1_H12 | /ebio/abt3_projects/HUBIF_metagenomics/data/metagenomes/cophylogeny/supplementary_metagenomes/Korean_data/llmgqc_output/Korea_output/final/NegKorean3_plate1_H12/R1_final.fq.gz | /ebio/abt3_projects/HUBIF_metagenomics/data/metagenomes/cophylogeny/supplementary_metagenomes/Korean_data/llmgqc_output/Korea_output/final/NegKorean3_plate1_H12/R2_final.fq.gz |\n",
       "| S2309_plate1_G12      | /ebio/abt3_projects/HUBIF_metagenomics/data/pipelines/llmga_denovo/cophyverttrans/koreans/llmga_denovo_output/denovo/S2309_plate1_G12/contigs.fna.gz      | S2309_plate1_G12      | /ebio/abt3_projects/HUBIF_metagenomics/data/metagenomes/cophylogeny/supplementary_metagenomes/Korean_data/llmgqc_output/Korea_output/final/S2309_plate1_G12/R1_final.fq.gz      | /ebio/abt3_projects/HUBIF_metagenomics/data/metagenomes/cophylogeny/supplementary_metagenomes/Korean_data/llmgqc_output/Korea_output/final/S2309_plate1_G12/R2_final.fq.gz      |\n",
       "| ⋮ | ⋮ | ⋮ | ⋮ | ⋮ |\n",
       "| S1252_plate1_B01      | /ebio/abt3_projects/HUBIF_metagenomics/data/pipelines/llmga_denovo/cophyverttrans/koreans/llmga_denovo_output/denovo/S1252_plate1_B01/contigs.fna.gz      | S1252_plate1_B01      | /ebio/abt3_projects/HUBIF_metagenomics/data/metagenomes/cophylogeny/supplementary_metagenomes/Korean_data/llmgqc_output/Korea_output/final/S1252_plate1_B01/R1_final.fq.gz      | /ebio/abt3_projects/HUBIF_metagenomics/data/metagenomes/cophylogeny/supplementary_metagenomes/Korean_data/llmgqc_output/Korea_output/final/S1252_plate1_B01/R2_final.fq.gz      |\n",
       "| NegKorean1_plate1_A01 | /ebio/abt3_projects/HUBIF_metagenomics/data/pipelines/llmga_denovo/cophyverttrans/koreans/llmga_denovo_output/denovo/NegKorean1_plate1_A01/contigs.fna.gz | NegKorean1_plate1_A01 | /ebio/abt3_projects/HUBIF_metagenomics/data/metagenomes/cophylogeny/supplementary_metagenomes/Korean_data/llmgqc_output/Korea_output/final/NegKorean1_plate1_A01/R1_final.fq.gz | /ebio/abt3_projects/HUBIF_metagenomics/data/metagenomes/cophylogeny/supplementary_metagenomes/Korean_data/llmgqc_output/Korea_output/final/NegKorean1_plate1_A01/R2_final.fq.gz |\n",
       "\n"
      ],
      "text/plain": [
       "   Taxon                \n",
       "1  NegKorean3_plate1_H12\n",
       "2  S2309_plate1_G12     \n",
       "⋮  ⋮                    \n",
       "95 S1252_plate1_B01     \n",
       "96 NegKorean1_plate1_A01\n",
       "   Fasta                                                                                                                                                    \n",
       "1  /ebio/abt3_projects/HUBIF_metagenomics/data/pipelines/llmga_denovo/cophyverttrans/koreans/llmga_denovo_output/denovo/NegKorean3_plate1_H12/contigs.fna.gz\n",
       "2  /ebio/abt3_projects/HUBIF_metagenomics/data/pipelines/llmga_denovo/cophyverttrans/koreans/llmga_denovo_output/denovo/S2309_plate1_G12/contigs.fna.gz     \n",
       "⋮  ⋮                                                                                                                                                        \n",
       "95 /ebio/abt3_projects/HUBIF_metagenomics/data/pipelines/llmga_denovo/cophyverttrans/koreans/llmga_denovo_output/denovo/S1252_plate1_B01/contigs.fna.gz     \n",
       "96 /ebio/abt3_projects/HUBIF_metagenomics/data/pipelines/llmga_denovo/cophyverttrans/koreans/llmga_denovo_output/denovo/NegKorean1_plate1_A01/contigs.fna.gz\n",
       "   Sample               \n",
       "1  NegKorean3_plate1_H12\n",
       "2  S2309_plate1_G12     \n",
       "⋮  ⋮                    \n",
       "95 S1252_plate1_B01     \n",
       "96 NegKorean1_plate1_A01\n",
       "   Read1                                                                                                                                                                          \n",
       "1  /ebio/abt3_projects/HUBIF_metagenomics/data/metagenomes/cophylogeny/supplementary_metagenomes/Korean_data/llmgqc_output/Korea_output/final/NegKorean3_plate1_H12/R1_final.fq.gz\n",
       "2  /ebio/abt3_projects/HUBIF_metagenomics/data/metagenomes/cophylogeny/supplementary_metagenomes/Korean_data/llmgqc_output/Korea_output/final/S2309_plate1_G12/R1_final.fq.gz     \n",
       "⋮  ⋮                                                                                                                                                                              \n",
       "95 /ebio/abt3_projects/HUBIF_metagenomics/data/metagenomes/cophylogeny/supplementary_metagenomes/Korean_data/llmgqc_output/Korea_output/final/S1252_plate1_B01/R1_final.fq.gz     \n",
       "96 /ebio/abt3_projects/HUBIF_metagenomics/data/metagenomes/cophylogeny/supplementary_metagenomes/Korean_data/llmgqc_output/Korea_output/final/NegKorean1_plate1_A01/R1_final.fq.gz\n",
       "   Read2                                                                                                                                                                          \n",
       "1  /ebio/abt3_projects/HUBIF_metagenomics/data/metagenomes/cophylogeny/supplementary_metagenomes/Korean_data/llmgqc_output/Korea_output/final/NegKorean3_plate1_H12/R2_final.fq.gz\n",
       "2  /ebio/abt3_projects/HUBIF_metagenomics/data/metagenomes/cophylogeny/supplementary_metagenomes/Korean_data/llmgqc_output/Korea_output/final/S2309_plate1_G12/R2_final.fq.gz     \n",
       "⋮  ⋮                                                                                                                                                                              \n",
       "95 /ebio/abt3_projects/HUBIF_metagenomics/data/metagenomes/cophylogeny/supplementary_metagenomes/Korean_data/llmgqc_output/Korea_output/final/S1252_plate1_B01/R2_final.fq.gz     \n",
       "96 /ebio/abt3_projects/HUBIF_metagenomics/data/metagenomes/cophylogeny/supplementary_metagenomes/Korean_data/llmgqc_output/Korea_output/final/NegKorean1_plate1_A01/R2_final.fq.gz"
      ]
     },
     "metadata": {},
     "output_type": "display_data"
    }
   ],
   "source": [
    "# joining\n",
    "overlap(contig_files$Sample, read_files$Sample)\n",
    "samps = contig_files %>%\n",
    "    inner_join.(read_files, c('Sample')) %>%\n",
    "    mutate.(Taxon = Sample) %>%\n",
    "    select.(Taxon, Fasta, Sample, Read1, Read2) %>%\n",
    "    mutate.(Fasta = gsub('/+', '/', Fasta),\n",
    "            Read1 = gsub('/+', '/', Read1),\n",
    "            Read2 = gsub('/+', '/', Read2))\n",
    "samps"
   ]
  },
  {
   "cell_type": "markdown",
   "metadata": {},
   "source": [
    "# Run1: n30"
   ]
  },
  {
   "cell_type": "code",
   "execution_count": 23,
   "metadata": {
    "ExecuteTime": {
     "end_time": "2022-02-05T12:48:34.783416Z",
     "start_time": "2022-02-05T12:48:34.684Z"
    }
   },
   "outputs": [
    {
     "name": "stdout",
     "output_type": "stream",
     "text": [
      "Created directory: /ebio/abt3_projects/databases_no-backup/DeepMAsED/version2/real_data_eval/hubif//n30r1 \n"
     ]
    }
   ],
   "source": [
    "work_dir1 = file.path(work_dir, 'n30r1')\n",
    "make_dir(work_dir1)"
   ]
  },
  {
   "cell_type": "code",
   "execution_count": 24,
   "metadata": {
    "ExecuteTime": {
     "end_time": "2022-02-05T12:48:56.622601Z",
     "start_time": "2022-02-05T12:48:56.523Z"
    }
   },
   "outputs": [
    {
     "name": "stdout",
     "output_type": "stream",
     "text": [
      "File written: /ebio/abt3_projects/databases_no-backup/DeepMAsED/version2/real_data_eval/hubif//n30r1/samples.tsv \n"
     ]
    }
   ],
   "source": [
    "# writing table\n",
    "F = file.path(work_dir1, 'samples.tsv')\n",
    "samps_n30r1 = samps %>%\n",
    "    mutate.(X = sample(1:nrow(.), nrow(.))) %>%\n",
    "    filter.(X <= 30) \n",
    "samps_n30r1 %>% write_table(F)"
   ]
  },
  {
   "cell_type": "markdown",
   "metadata": {},
   "source": [
    "## ResMiCo-SM"
   ]
  },
  {
   "cell_type": "markdown",
   "metadata": {},
   "source": [
    "### Config"
   ]
  },
  {
   "cell_type": "code",
   "execution_count": null,
   "metadata": {},
   "outputs": [],
   "source": [
    "F = file.path(work_dir1, 'config.yaml')\n",
    "cat_file(F)"
   ]
  },
  {
   "cell_type": "markdown",
   "metadata": {},
   "source": [
    "### Run"
   ]
  },
  {
   "cell_type": "markdown",
   "metadata": {},
   "source": [
    "```\n",
    "(snakemake) @ rick:/ebio/abt3_projects/DeepMAsED/version2/deepmased/ResMiCo-SM\n",
    "$ screen -L -S rmc-sm-anx ./snakemake_sge.sh /ebio/abt3_projects/databases_no-backup/DeepMAsED/version2/real_data_eval/hubif/n30r1/config.yaml 30 -F\n",
    "```"
   ]
  },
  {
   "cell_type": "markdown",
   "metadata": {},
   "source": [
    "# --TODO--"
   ]
  }
 ],
 "metadata": {
  "kernelspec": {
   "display_name": "R [conda env:general-tidyverse]",
   "language": "R",
   "name": "conda-env-general-tidyverse-r"
  },
  "language_info": {
   "codemirror_mode": "r",
   "file_extension": ".r",
   "mimetype": "text/x-r-source",
   "name": "R",
   "pygments_lexer": "r",
   "version": "4.1.1"
  },
  "notify_time": "30",
  "toc": {
   "base_numbering": 1,
   "nav_menu": {},
   "number_sections": true,
   "sideBar": true,
   "skip_h1_title": false,
   "title_cell": "Table of Contents",
   "title_sidebar": "Contents",
   "toc_cell": true,
   "toc_position": {},
   "toc_section_display": true,
   "toc_window_display": true
  }
 },
 "nbformat": 4,
 "nbformat_minor": 4
}
