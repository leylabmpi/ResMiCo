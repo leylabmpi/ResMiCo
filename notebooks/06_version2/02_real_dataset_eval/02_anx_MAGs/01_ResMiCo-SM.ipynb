{
 "cells": [
  {
   "cell_type": "markdown",
   "metadata": {
    "toc": true
   },
   "source": [
    "<h1>Table of Contents<span class=\"tocSkip\"></span></h1>\n",
    "<div class=\"toc\"><ul class=\"toc-item\"><li><span><a href=\"#Goal\" data-toc-modified-id=\"Goal-1\"><span class=\"toc-item-num\">1&nbsp;&nbsp;</span>Goal</a></span></li><li><span><a href=\"#Var\" data-toc-modified-id=\"Var-2\"><span class=\"toc-item-num\">2&nbsp;&nbsp;</span>Var</a></span></li><li><span><a href=\"#Init\" data-toc-modified-id=\"Init-3\"><span class=\"toc-item-num\">3&nbsp;&nbsp;</span>Init</a></span></li><li><span><a href=\"#Load\" data-toc-modified-id=\"Load-4\"><span class=\"toc-item-num\">4&nbsp;&nbsp;</span>Load</a></span></li><li><span><a href=\"#Run1:-n30\" data-toc-modified-id=\"Run1:-n30-5\"><span class=\"toc-item-num\">5&nbsp;&nbsp;</span>Run1: n30</a></span><ul class=\"toc-item\"><li><span><a href=\"#ResMiCo-SM\" data-toc-modified-id=\"ResMiCo-SM-5.1\"><span class=\"toc-item-num\">5.1&nbsp;&nbsp;</span>ResMiCo-SM</a></span><ul class=\"toc-item\"><li><span><a href=\"#Config\" data-toc-modified-id=\"Config-5.1.1\"><span class=\"toc-item-num\">5.1.1&nbsp;&nbsp;</span>Config</a></span></li><li><span><a href=\"#Run\" data-toc-modified-id=\"Run-5.1.2\"><span class=\"toc-item-num\">5.1.2&nbsp;&nbsp;</span>Run</a></span></li><li><span><a href=\"#Summary\" data-toc-modified-id=\"Summary-5.1.3\"><span class=\"toc-item-num\">5.1.3&nbsp;&nbsp;</span>Summary</a></span></li></ul></li></ul></li><li><span><a href=\"#Run2:-n30\" data-toc-modified-id=\"Run2:-n30-6\"><span class=\"toc-item-num\">6&nbsp;&nbsp;</span>Run2: n30</a></span><ul class=\"toc-item\"><li><span><a href=\"#ResMiCo-SM\" data-toc-modified-id=\"ResMiCo-SM-6.1\"><span class=\"toc-item-num\">6.1&nbsp;&nbsp;</span>ResMiCo-SM</a></span><ul class=\"toc-item\"><li><span><a href=\"#Config\" data-toc-modified-id=\"Config-6.1.1\"><span class=\"toc-item-num\">6.1.1&nbsp;&nbsp;</span>Config</a></span></li><li><span><a href=\"#Run\" data-toc-modified-id=\"Run-6.1.2\"><span class=\"toc-item-num\">6.1.2&nbsp;&nbsp;</span>Run</a></span></li></ul></li></ul></li><li><span><a href=\"#--WAITING--\" data-toc-modified-id=\"--WAITING---7\"><span class=\"toc-item-num\">7&nbsp;&nbsp;</span>--WAITING--</a></span></li><li><span><a href=\"#sessionInfo\" data-toc-modified-id=\"sessionInfo-8\"><span class=\"toc-item-num\">8&nbsp;&nbsp;</span>sessionInfo</a></span></li></ul></div>"
   ]
  },
  {
   "cell_type": "markdown",
   "metadata": {},
   "source": [
    "# Goal\n",
    "\n",
    "* Create ResMiCo feature tables for the anx MAGs"
   ]
  },
  {
   "cell_type": "markdown",
   "metadata": {},
   "source": [
    "# Var"
   ]
  },
  {
   "cell_type": "code",
   "execution_count": 1,
   "metadata": {
    "ExecuteTime": {
     "end_time": "2022-02-04T08:12:20.733685Z",
     "start_time": "2022-02-04T08:12:20.665Z"
    }
   },
   "outputs": [],
   "source": [
    "work_dir = '/ebio/abt3_projects/databases_no-backup/DeepMAsED/version2/real_data_eval/anx/'\n",
    "\n",
    "asmbl_dir = '/ebio/abt3_projects/Anxiety_Twins_Metagenomes/data/metagenome/Tulsa1000/LLMGA_v0.12/HiSeq_R160-163-169/'\n",
    "read_dir = '/ebio/abt3_projects/Anxiety_Twins_Metagenomes/data/metagenome/Tulsa1000/LLMGQC/HiSeq_R160-163-169/'\n",
    "\n",
    "# params\n",
    "threads = 4"
   ]
  },
  {
   "cell_type": "markdown",
   "metadata": {},
   "source": [
    "# Init"
   ]
  },
  {
   "cell_type": "code",
   "execution_count": 22,
   "metadata": {
    "ExecuteTime": {
     "end_time": "2022-02-05T12:45:24.015798Z",
     "start_time": "2022-02-05T12:45:23.846Z"
    }
   },
   "outputs": [],
   "source": [
    "library(dplyr)\n",
    "library(tidyr)\n",
    "library(ggplot2)\n",
    "library(data.table)\n",
    "library(tidytable)\n",
    "library(clustermq)\n",
    "library(LeyLabRMisc)"
   ]
  },
  {
   "cell_type": "code",
   "execution_count": 3,
   "metadata": {
    "ExecuteTime": {
     "end_time": "2022-02-04T08:12:21.491966Z",
     "start_time": "2022-02-04T08:12:20.668Z"
    }
   },
   "outputs": [
    {
     "name": "stdout",
     "output_type": "stream",
     "text": [
      "Directory already exists: /ebio/abt3_projects/databases_no-backup/DeepMAsED/version2/real_data_eval/anx/ \n"
     ]
    }
   ],
   "source": [
    "clustermq_setup(scheduler = c(\"multicore\"))\n",
    "df.dims()\n",
    "setDTthreads(threads)\n",
    "make_dir(work_dir)\n",
    "set.seed(9382)"
   ]
  },
  {
   "cell_type": "markdown",
   "metadata": {},
   "source": [
    "# Load"
   ]
  },
  {
   "cell_type": "code",
   "execution_count": 4,
   "metadata": {
    "ExecuteTime": {
     "end_time": "2022-02-04T08:12:22.400112Z",
     "start_time": "2022-02-04T08:12:20.669Z"
    }
   },
   "outputs": [
    {
     "data": {
      "text/html": [
       "<table class=\"dataframe\">\n",
       "<caption>A data.table: 272 × 2</caption>\n",
       "<thead>\n",
       "\t<tr><th scope=col>Sample</th><th scope=col>Fasta</th></tr>\n",
       "\t<tr><th scope=col>&lt;chr&gt;</th><th scope=col>&lt;chr&gt;</th></tr>\n",
       "</thead>\n",
       "<tbody>\n",
       "\t<tr><td>AA115</td><td>/ebio/abt3_projects/Anxiety_Twins_Metagenomes/data/metagenome/Tulsa1000/LLMGA_v0.12/HiSeq_R160-163-169//final_contigs/AA115/contigs.fna.gz</td></tr>\n",
       "\t<tr><td>AA620</td><td>/ebio/abt3_projects/Anxiety_Twins_Metagenomes/data/metagenome/Tulsa1000/LLMGA_v0.12/HiSeq_R160-163-169//final_contigs/AA620/contigs.fna.gz</td></tr>\n",
       "\t<tr><td>⋮</td><td>⋮</td></tr>\n",
       "\t<tr><td>BB094</td><td>/ebio/abt3_projects/Anxiety_Twins_Metagenomes/data/metagenome/Tulsa1000/LLMGA_v0.12/HiSeq_R160-163-169//final_contigs/BB094/contigs.fna.gz</td></tr>\n",
       "\t<tr><td>BB280</td><td>/ebio/abt3_projects/Anxiety_Twins_Metagenomes/data/metagenome/Tulsa1000/LLMGA_v0.12/HiSeq_R160-163-169//final_contigs/BB280/contigs.fna.gz</td></tr>\n",
       "</tbody>\n",
       "</table>\n"
      ],
      "text/latex": [
       "A data.table: 272 × 2\n",
       "\\begin{tabular}{ll}\n",
       " Sample & Fasta\\\\\n",
       " <chr> & <chr>\\\\\n",
       "\\hline\n",
       "\t AA115 & /ebio/abt3\\_projects/Anxiety\\_Twins\\_Metagenomes/data/metagenome/Tulsa1000/LLMGA\\_v0.12/HiSeq\\_R160-163-169//final\\_contigs/AA115/contigs.fna.gz\\\\\n",
       "\t AA620 & /ebio/abt3\\_projects/Anxiety\\_Twins\\_Metagenomes/data/metagenome/Tulsa1000/LLMGA\\_v0.12/HiSeq\\_R160-163-169//final\\_contigs/AA620/contigs.fna.gz\\\\\n",
       "\t ⋮ & ⋮\\\\\n",
       "\t BB094 & /ebio/abt3\\_projects/Anxiety\\_Twins\\_Metagenomes/data/metagenome/Tulsa1000/LLMGA\\_v0.12/HiSeq\\_R160-163-169//final\\_contigs/BB094/contigs.fna.gz\\\\\n",
       "\t BB280 & /ebio/abt3\\_projects/Anxiety\\_Twins\\_Metagenomes/data/metagenome/Tulsa1000/LLMGA\\_v0.12/HiSeq\\_R160-163-169//final\\_contigs/BB280/contigs.fna.gz\\\\\n",
       "\\end{tabular}\n"
      ],
      "text/markdown": [
       "\n",
       "A data.table: 272 × 2\n",
       "\n",
       "| Sample &lt;chr&gt; | Fasta &lt;chr&gt; |\n",
       "|---|---|\n",
       "| AA115 | /ebio/abt3_projects/Anxiety_Twins_Metagenomes/data/metagenome/Tulsa1000/LLMGA_v0.12/HiSeq_R160-163-169//final_contigs/AA115/contigs.fna.gz |\n",
       "| AA620 | /ebio/abt3_projects/Anxiety_Twins_Metagenomes/data/metagenome/Tulsa1000/LLMGA_v0.12/HiSeq_R160-163-169//final_contigs/AA620/contigs.fna.gz |\n",
       "| ⋮ | ⋮ |\n",
       "| BB094 | /ebio/abt3_projects/Anxiety_Twins_Metagenomes/data/metagenome/Tulsa1000/LLMGA_v0.12/HiSeq_R160-163-169//final_contigs/BB094/contigs.fna.gz |\n",
       "| BB280 | /ebio/abt3_projects/Anxiety_Twins_Metagenomes/data/metagenome/Tulsa1000/LLMGA_v0.12/HiSeq_R160-163-169//final_contigs/BB280/contigs.fna.gz |\n",
       "\n"
      ],
      "text/plain": [
       "    Sample\n",
       "1   AA115 \n",
       "2   AA620 \n",
       "⋮   ⋮     \n",
       "271 BB094 \n",
       "272 BB280 \n",
       "    Fasta                                                                                                                                     \n",
       "1   /ebio/abt3_projects/Anxiety_Twins_Metagenomes/data/metagenome/Tulsa1000/LLMGA_v0.12/HiSeq_R160-163-169//final_contigs/AA115/contigs.fna.gz\n",
       "2   /ebio/abt3_projects/Anxiety_Twins_Metagenomes/data/metagenome/Tulsa1000/LLMGA_v0.12/HiSeq_R160-163-169//final_contigs/AA620/contigs.fna.gz\n",
       "⋮   ⋮                                                                                                                                         \n",
       "271 /ebio/abt3_projects/Anxiety_Twins_Metagenomes/data/metagenome/Tulsa1000/LLMGA_v0.12/HiSeq_R160-163-169//final_contigs/BB094/contigs.fna.gz\n",
       "272 /ebio/abt3_projects/Anxiety_Twins_Metagenomes/data/metagenome/Tulsa1000/LLMGA_v0.12/HiSeq_R160-163-169//final_contigs/BB280/contigs.fna.gz"
      ]
     },
     "metadata": {},
     "output_type": "display_data"
    }
   ],
   "source": [
    "# contigs\n",
    "get_sample = function(x){\n",
    "    strsplit(x, '/') %>% unlist %>% .[12]\n",
    "}\n",
    "\n",
    "D = file.path(asmbl_dir, 'final_contigs')\n",
    "contig_files = list_files(D, 'contigs.fna.gz')\n",
    "contig_files = data.frame(\n",
    "    Sample = sapply(contig_files, get_sample),\n",
    "    Fasta = contig_files\n",
    ") %>% as.data.table\n",
    "contig_files"
   ]
  },
  {
   "cell_type": "code",
   "execution_count": 5,
   "metadata": {
    "ExecuteTime": {
     "end_time": "2022-02-04T08:12:22.443096Z",
     "start_time": "2022-02-04T08:12:20.671Z"
    }
   },
   "outputs": [
    {
     "data": {
      "text/html": [
       "<table class=\"dataframe\">\n",
       "<caption>A data.table: 272 × 6</caption>\n",
       "<thead>\n",
       "\t<tr><th scope=col>Sample</th><th scope=col>Read1</th><th scope=col>Read2</th><th scope=col>Notes</th><th scope=col>nonpareil_cov</th><th scope=col>Total.Sequences</th></tr>\n",
       "\t<tr><th scope=col>&lt;chr&gt;</th><th scope=col>&lt;chr&gt;</th><th scope=col>&lt;chr&gt;</th><th scope=col>&lt;lgl&gt;</th><th scope=col>&lt;dbl&gt;</th><th scope=col>&lt;int&gt;</th></tr>\n",
       "</thead>\n",
       "<tbody>\n",
       "\t<tr><td>AA115</td><td>/ebio/abt3_projects/Anxiety_Twins_Metagenomes/data/metagenome/Tulsa1000/LLMGQC/HiSeq_R160-163-169/final/AA115/R1_final.fq.gz</td><td>/ebio/abt3_projects/Anxiety_Twins_Metagenomes/data/metagenome/Tulsa1000/LLMGQC/HiSeq_R160-163-169/final/AA115/R2_final.fq.gz</td><td>NA</td><td>0.9479487</td><td>6241925</td></tr>\n",
       "\t<tr><td>AC747</td><td>/ebio/abt3_projects/Anxiety_Twins_Metagenomes/data/metagenome/Tulsa1000/LLMGQC/HiSeq_R160-163-169/final/AC747/R1_final.fq.gz</td><td>/ebio/abt3_projects/Anxiety_Twins_Metagenomes/data/metagenome/Tulsa1000/LLMGQC/HiSeq_R160-163-169/final/AC747/R2_final.fq.gz</td><td>NA</td><td>0.9156309</td><td>3185175</td></tr>\n",
       "\t<tr><td>⋮</td><td>⋮</td><td>⋮</td><td>⋮</td><td>⋮</td><td>⋮</td></tr>\n",
       "\t<tr><td>BB094</td><td>/ebio/abt3_projects/Anxiety_Twins_Metagenomes/data/metagenome/Tulsa1000/LLMGQC/HiSeq_R160-163-169/final/BB094/R1_final.fq.gz</td><td>/ebio/abt3_projects/Anxiety_Twins_Metagenomes/data/metagenome/Tulsa1000/LLMGQC/HiSeq_R160-163-169/final/BB094/R2_final.fq.gz</td><td>NA</td><td>0.9485918</td><td>11580686</td></tr>\n",
       "\t<tr><td>BB280</td><td>/ebio/abt3_projects/Anxiety_Twins_Metagenomes/data/metagenome/Tulsa1000/LLMGQC/HiSeq_R160-163-169/final/BB280/R1_final.fq.gz</td><td>/ebio/abt3_projects/Anxiety_Twins_Metagenomes/data/metagenome/Tulsa1000/LLMGQC/HiSeq_R160-163-169/final/BB280/R2_final.fq.gz</td><td>NA</td><td>0.8956735</td><td>12989387</td></tr>\n",
       "</tbody>\n",
       "</table>\n"
      ],
      "text/latex": [
       "A data.table: 272 × 6\n",
       "\\begin{tabular}{llllll}\n",
       " Sample & Read1 & Read2 & Notes & nonpareil\\_cov & Total.Sequences\\\\\n",
       " <chr> & <chr> & <chr> & <lgl> & <dbl> & <int>\\\\\n",
       "\\hline\n",
       "\t AA115 & /ebio/abt3\\_projects/Anxiety\\_Twins\\_Metagenomes/data/metagenome/Tulsa1000/LLMGQC/HiSeq\\_R160-163-169/final/AA115/R1\\_final.fq.gz & /ebio/abt3\\_projects/Anxiety\\_Twins\\_Metagenomes/data/metagenome/Tulsa1000/LLMGQC/HiSeq\\_R160-163-169/final/AA115/R2\\_final.fq.gz & NA & 0.9479487 & 6241925\\\\\n",
       "\t AC747 & /ebio/abt3\\_projects/Anxiety\\_Twins\\_Metagenomes/data/metagenome/Tulsa1000/LLMGQC/HiSeq\\_R160-163-169/final/AC747/R1\\_final.fq.gz & /ebio/abt3\\_projects/Anxiety\\_Twins\\_Metagenomes/data/metagenome/Tulsa1000/LLMGQC/HiSeq\\_R160-163-169/final/AC747/R2\\_final.fq.gz & NA & 0.9156309 & 3185175\\\\\n",
       "\t ⋮ & ⋮ & ⋮ & ⋮ & ⋮ & ⋮\\\\\n",
       "\t BB094 & /ebio/abt3\\_projects/Anxiety\\_Twins\\_Metagenomes/data/metagenome/Tulsa1000/LLMGQC/HiSeq\\_R160-163-169/final/BB094/R1\\_final.fq.gz & /ebio/abt3\\_projects/Anxiety\\_Twins\\_Metagenomes/data/metagenome/Tulsa1000/LLMGQC/HiSeq\\_R160-163-169/final/BB094/R2\\_final.fq.gz & NA & 0.9485918 & 11580686\\\\\n",
       "\t BB280 & /ebio/abt3\\_projects/Anxiety\\_Twins\\_Metagenomes/data/metagenome/Tulsa1000/LLMGQC/HiSeq\\_R160-163-169/final/BB280/R1\\_final.fq.gz & /ebio/abt3\\_projects/Anxiety\\_Twins\\_Metagenomes/data/metagenome/Tulsa1000/LLMGQC/HiSeq\\_R160-163-169/final/BB280/R2\\_final.fq.gz & NA & 0.8956735 & 12989387\\\\\n",
       "\\end{tabular}\n"
      ],
      "text/markdown": [
       "\n",
       "A data.table: 272 × 6\n",
       "\n",
       "| Sample &lt;chr&gt; | Read1 &lt;chr&gt; | Read2 &lt;chr&gt; | Notes &lt;lgl&gt; | nonpareil_cov &lt;dbl&gt; | Total.Sequences &lt;int&gt; |\n",
       "|---|---|---|---|---|---|\n",
       "| AA115 | /ebio/abt3_projects/Anxiety_Twins_Metagenomes/data/metagenome/Tulsa1000/LLMGQC/HiSeq_R160-163-169/final/AA115/R1_final.fq.gz | /ebio/abt3_projects/Anxiety_Twins_Metagenomes/data/metagenome/Tulsa1000/LLMGQC/HiSeq_R160-163-169/final/AA115/R2_final.fq.gz | NA | 0.9479487 | 6241925 |\n",
       "| AC747 | /ebio/abt3_projects/Anxiety_Twins_Metagenomes/data/metagenome/Tulsa1000/LLMGQC/HiSeq_R160-163-169/final/AC747/R1_final.fq.gz | /ebio/abt3_projects/Anxiety_Twins_Metagenomes/data/metagenome/Tulsa1000/LLMGQC/HiSeq_R160-163-169/final/AC747/R2_final.fq.gz | NA | 0.9156309 | 3185175 |\n",
       "| ⋮ | ⋮ | ⋮ | ⋮ | ⋮ | ⋮ |\n",
       "| BB094 | /ebio/abt3_projects/Anxiety_Twins_Metagenomes/data/metagenome/Tulsa1000/LLMGQC/HiSeq_R160-163-169/final/BB094/R1_final.fq.gz | /ebio/abt3_projects/Anxiety_Twins_Metagenomes/data/metagenome/Tulsa1000/LLMGQC/HiSeq_R160-163-169/final/BB094/R2_final.fq.gz | NA | 0.9485918 | 11580686 |\n",
       "| BB280 | /ebio/abt3_projects/Anxiety_Twins_Metagenomes/data/metagenome/Tulsa1000/LLMGQC/HiSeq_R160-163-169/final/BB280/R1_final.fq.gz | /ebio/abt3_projects/Anxiety_Twins_Metagenomes/data/metagenome/Tulsa1000/LLMGQC/HiSeq_R160-163-169/final/BB280/R2_final.fq.gz | NA | 0.8956735 | 12989387 |\n",
       "\n"
      ],
      "text/plain": [
       "    Sample\n",
       "1   AA115 \n",
       "2   AC747 \n",
       "⋮   ⋮     \n",
       "271 BB094 \n",
       "272 BB280 \n",
       "    Read1                                                                                                                       \n",
       "1   /ebio/abt3_projects/Anxiety_Twins_Metagenomes/data/metagenome/Tulsa1000/LLMGQC/HiSeq_R160-163-169/final/AA115/R1_final.fq.gz\n",
       "2   /ebio/abt3_projects/Anxiety_Twins_Metagenomes/data/metagenome/Tulsa1000/LLMGQC/HiSeq_R160-163-169/final/AC747/R1_final.fq.gz\n",
       "⋮   ⋮                                                                                                                           \n",
       "271 /ebio/abt3_projects/Anxiety_Twins_Metagenomes/data/metagenome/Tulsa1000/LLMGQC/HiSeq_R160-163-169/final/BB094/R1_final.fq.gz\n",
       "272 /ebio/abt3_projects/Anxiety_Twins_Metagenomes/data/metagenome/Tulsa1000/LLMGQC/HiSeq_R160-163-169/final/BB280/R1_final.fq.gz\n",
       "    Read2                                                                                                                       \n",
       "1   /ebio/abt3_projects/Anxiety_Twins_Metagenomes/data/metagenome/Tulsa1000/LLMGQC/HiSeq_R160-163-169/final/AA115/R2_final.fq.gz\n",
       "2   /ebio/abt3_projects/Anxiety_Twins_Metagenomes/data/metagenome/Tulsa1000/LLMGQC/HiSeq_R160-163-169/final/AC747/R2_final.fq.gz\n",
       "⋮   ⋮                                                                                                                           \n",
       "271 /ebio/abt3_projects/Anxiety_Twins_Metagenomes/data/metagenome/Tulsa1000/LLMGQC/HiSeq_R160-163-169/final/BB094/R2_final.fq.gz\n",
       "272 /ebio/abt3_projects/Anxiety_Twins_Metagenomes/data/metagenome/Tulsa1000/LLMGQC/HiSeq_R160-163-169/final/BB280/R2_final.fq.gz\n",
       "    Notes nonpareil_cov Total.Sequences\n",
       "1   NA    0.9479487     6241925        \n",
       "2   NA    0.9156309     3185175        \n",
       "⋮   ⋮     ⋮             ⋮              \n",
       "271 NA    0.9485918     11580686       \n",
       "272 NA    0.8956735     12989387       "
      ]
     },
     "metadata": {},
     "output_type": "display_data"
    }
   ],
   "source": [
    "F = file.path(read_dir, 'final', 'samples_gt1p5m.txt')\n",
    "read_files = Fread(F)\n",
    "read_files"
   ]
  },
  {
   "cell_type": "code",
   "execution_count": 6,
   "metadata": {
    "ExecuteTime": {
     "end_time": "2022-02-04T08:12:22.519538Z",
     "start_time": "2022-02-04T08:12:20.672Z"
    }
   },
   "outputs": [
    {
     "name": "stdout",
     "output_type": "stream",
     "text": [
      "intersect(x,y): 272 \n",
      "setdiff(x,y): 0 \n",
      "setdiff(y,x): 0 \n",
      "union(x,y): 272 \n"
     ]
    },
    {
     "data": {
      "text/html": [
       "<table class=\"dataframe\">\n",
       "<caption>A tidytable: 272 × 6</caption>\n",
       "<thead>\n",
       "\t<tr><th scope=col>Taxon</th><th scope=col>Fasta</th><th scope=col>Sample</th><th scope=col>Read1</th><th scope=col>Read2</th><th scope=col>Total.Sequences</th></tr>\n",
       "\t<tr><th scope=col>&lt;chr&gt;</th><th scope=col>&lt;chr&gt;</th><th scope=col>&lt;chr&gt;</th><th scope=col>&lt;chr&gt;</th><th scope=col>&lt;chr&gt;</th><th scope=col>&lt;int&gt;</th></tr>\n",
       "</thead>\n",
       "<tbody>\n",
       "\t<tr><td>AA115</td><td>/ebio/abt3_projects/Anxiety_Twins_Metagenomes/data/metagenome/Tulsa1000/LLMGA_v0.12/HiSeq_R160-163-169/final_contigs/AA115/contigs.fna.gz</td><td>AA115</td><td>/ebio/abt3_projects/Anxiety_Twins_Metagenomes/data/metagenome/Tulsa1000/LLMGQC/HiSeq_R160-163-169/final/AA115/R1_final.fq.gz</td><td>/ebio/abt3_projects/Anxiety_Twins_Metagenomes/data/metagenome/Tulsa1000/LLMGQC/HiSeq_R160-163-169/final/AA115/R2_final.fq.gz</td><td>6241925</td></tr>\n",
       "\t<tr><td>AC747</td><td>/ebio/abt3_projects/Anxiety_Twins_Metagenomes/data/metagenome/Tulsa1000/LLMGA_v0.12/HiSeq_R160-163-169/final_contigs/AC747/contigs.fna.gz</td><td>AC747</td><td>/ebio/abt3_projects/Anxiety_Twins_Metagenomes/data/metagenome/Tulsa1000/LLMGQC/HiSeq_R160-163-169/final/AC747/R1_final.fq.gz</td><td>/ebio/abt3_projects/Anxiety_Twins_Metagenomes/data/metagenome/Tulsa1000/LLMGQC/HiSeq_R160-163-169/final/AC747/R2_final.fq.gz</td><td>3185175</td></tr>\n",
       "\t<tr><td>⋮</td><td>⋮</td><td>⋮</td><td>⋮</td><td>⋮</td><td>⋮</td></tr>\n",
       "\t<tr><td>BB094</td><td>/ebio/abt3_projects/Anxiety_Twins_Metagenomes/data/metagenome/Tulsa1000/LLMGA_v0.12/HiSeq_R160-163-169/final_contigs/BB094/contigs.fna.gz</td><td>BB094</td><td>/ebio/abt3_projects/Anxiety_Twins_Metagenomes/data/metagenome/Tulsa1000/LLMGQC/HiSeq_R160-163-169/final/BB094/R1_final.fq.gz</td><td>/ebio/abt3_projects/Anxiety_Twins_Metagenomes/data/metagenome/Tulsa1000/LLMGQC/HiSeq_R160-163-169/final/BB094/R2_final.fq.gz</td><td>11580686</td></tr>\n",
       "\t<tr><td>BB280</td><td>/ebio/abt3_projects/Anxiety_Twins_Metagenomes/data/metagenome/Tulsa1000/LLMGA_v0.12/HiSeq_R160-163-169/final_contigs/BB280/contigs.fna.gz</td><td>BB280</td><td>/ebio/abt3_projects/Anxiety_Twins_Metagenomes/data/metagenome/Tulsa1000/LLMGQC/HiSeq_R160-163-169/final/BB280/R1_final.fq.gz</td><td>/ebio/abt3_projects/Anxiety_Twins_Metagenomes/data/metagenome/Tulsa1000/LLMGQC/HiSeq_R160-163-169/final/BB280/R2_final.fq.gz</td><td>12989387</td></tr>\n",
       "</tbody>\n",
       "</table>\n"
      ],
      "text/latex": [
       "A tidytable: 272 × 6\n",
       "\\begin{tabular}{llllll}\n",
       " Taxon & Fasta & Sample & Read1 & Read2 & Total.Sequences\\\\\n",
       " <chr> & <chr> & <chr> & <chr> & <chr> & <int>\\\\\n",
       "\\hline\n",
       "\t AA115 & /ebio/abt3\\_projects/Anxiety\\_Twins\\_Metagenomes/data/metagenome/Tulsa1000/LLMGA\\_v0.12/HiSeq\\_R160-163-169/final\\_contigs/AA115/contigs.fna.gz & AA115 & /ebio/abt3\\_projects/Anxiety\\_Twins\\_Metagenomes/data/metagenome/Tulsa1000/LLMGQC/HiSeq\\_R160-163-169/final/AA115/R1\\_final.fq.gz & /ebio/abt3\\_projects/Anxiety\\_Twins\\_Metagenomes/data/metagenome/Tulsa1000/LLMGQC/HiSeq\\_R160-163-169/final/AA115/R2\\_final.fq.gz & 6241925\\\\\n",
       "\t AC747 & /ebio/abt3\\_projects/Anxiety\\_Twins\\_Metagenomes/data/metagenome/Tulsa1000/LLMGA\\_v0.12/HiSeq\\_R160-163-169/final\\_contigs/AC747/contigs.fna.gz & AC747 & /ebio/abt3\\_projects/Anxiety\\_Twins\\_Metagenomes/data/metagenome/Tulsa1000/LLMGQC/HiSeq\\_R160-163-169/final/AC747/R1\\_final.fq.gz & /ebio/abt3\\_projects/Anxiety\\_Twins\\_Metagenomes/data/metagenome/Tulsa1000/LLMGQC/HiSeq\\_R160-163-169/final/AC747/R2\\_final.fq.gz & 3185175\\\\\n",
       "\t ⋮ & ⋮ & ⋮ & ⋮ & ⋮ & ⋮\\\\\n",
       "\t BB094 & /ebio/abt3\\_projects/Anxiety\\_Twins\\_Metagenomes/data/metagenome/Tulsa1000/LLMGA\\_v0.12/HiSeq\\_R160-163-169/final\\_contigs/BB094/contigs.fna.gz & BB094 & /ebio/abt3\\_projects/Anxiety\\_Twins\\_Metagenomes/data/metagenome/Tulsa1000/LLMGQC/HiSeq\\_R160-163-169/final/BB094/R1\\_final.fq.gz & /ebio/abt3\\_projects/Anxiety\\_Twins\\_Metagenomes/data/metagenome/Tulsa1000/LLMGQC/HiSeq\\_R160-163-169/final/BB094/R2\\_final.fq.gz & 11580686\\\\\n",
       "\t BB280 & /ebio/abt3\\_projects/Anxiety\\_Twins\\_Metagenomes/data/metagenome/Tulsa1000/LLMGA\\_v0.12/HiSeq\\_R160-163-169/final\\_contigs/BB280/contigs.fna.gz & BB280 & /ebio/abt3\\_projects/Anxiety\\_Twins\\_Metagenomes/data/metagenome/Tulsa1000/LLMGQC/HiSeq\\_R160-163-169/final/BB280/R1\\_final.fq.gz & /ebio/abt3\\_projects/Anxiety\\_Twins\\_Metagenomes/data/metagenome/Tulsa1000/LLMGQC/HiSeq\\_R160-163-169/final/BB280/R2\\_final.fq.gz & 12989387\\\\\n",
       "\\end{tabular}\n"
      ],
      "text/markdown": [
       "\n",
       "A tidytable: 272 × 6\n",
       "\n",
       "| Taxon &lt;chr&gt; | Fasta &lt;chr&gt; | Sample &lt;chr&gt; | Read1 &lt;chr&gt; | Read2 &lt;chr&gt; | Total.Sequences &lt;int&gt; |\n",
       "|---|---|---|---|---|---|\n",
       "| AA115 | /ebio/abt3_projects/Anxiety_Twins_Metagenomes/data/metagenome/Tulsa1000/LLMGA_v0.12/HiSeq_R160-163-169/final_contigs/AA115/contigs.fna.gz | AA115 | /ebio/abt3_projects/Anxiety_Twins_Metagenomes/data/metagenome/Tulsa1000/LLMGQC/HiSeq_R160-163-169/final/AA115/R1_final.fq.gz | /ebio/abt3_projects/Anxiety_Twins_Metagenomes/data/metagenome/Tulsa1000/LLMGQC/HiSeq_R160-163-169/final/AA115/R2_final.fq.gz | 6241925 |\n",
       "| AC747 | /ebio/abt3_projects/Anxiety_Twins_Metagenomes/data/metagenome/Tulsa1000/LLMGA_v0.12/HiSeq_R160-163-169/final_contigs/AC747/contigs.fna.gz | AC747 | /ebio/abt3_projects/Anxiety_Twins_Metagenomes/data/metagenome/Tulsa1000/LLMGQC/HiSeq_R160-163-169/final/AC747/R1_final.fq.gz | /ebio/abt3_projects/Anxiety_Twins_Metagenomes/data/metagenome/Tulsa1000/LLMGQC/HiSeq_R160-163-169/final/AC747/R2_final.fq.gz | 3185175 |\n",
       "| ⋮ | ⋮ | ⋮ | ⋮ | ⋮ | ⋮ |\n",
       "| BB094 | /ebio/abt3_projects/Anxiety_Twins_Metagenomes/data/metagenome/Tulsa1000/LLMGA_v0.12/HiSeq_R160-163-169/final_contigs/BB094/contigs.fna.gz | BB094 | /ebio/abt3_projects/Anxiety_Twins_Metagenomes/data/metagenome/Tulsa1000/LLMGQC/HiSeq_R160-163-169/final/BB094/R1_final.fq.gz | /ebio/abt3_projects/Anxiety_Twins_Metagenomes/data/metagenome/Tulsa1000/LLMGQC/HiSeq_R160-163-169/final/BB094/R2_final.fq.gz | 11580686 |\n",
       "| BB280 | /ebio/abt3_projects/Anxiety_Twins_Metagenomes/data/metagenome/Tulsa1000/LLMGA_v0.12/HiSeq_R160-163-169/final_contigs/BB280/contigs.fna.gz | BB280 | /ebio/abt3_projects/Anxiety_Twins_Metagenomes/data/metagenome/Tulsa1000/LLMGQC/HiSeq_R160-163-169/final/BB280/R1_final.fq.gz | /ebio/abt3_projects/Anxiety_Twins_Metagenomes/data/metagenome/Tulsa1000/LLMGQC/HiSeq_R160-163-169/final/BB280/R2_final.fq.gz | 12989387 |\n",
       "\n"
      ],
      "text/plain": [
       "    Taxon\n",
       "1   AA115\n",
       "2   AC747\n",
       "⋮   ⋮    \n",
       "271 BB094\n",
       "272 BB280\n",
       "    Fasta                                                                                                                                    \n",
       "1   /ebio/abt3_projects/Anxiety_Twins_Metagenomes/data/metagenome/Tulsa1000/LLMGA_v0.12/HiSeq_R160-163-169/final_contigs/AA115/contigs.fna.gz\n",
       "2   /ebio/abt3_projects/Anxiety_Twins_Metagenomes/data/metagenome/Tulsa1000/LLMGA_v0.12/HiSeq_R160-163-169/final_contigs/AC747/contigs.fna.gz\n",
       "⋮   ⋮                                                                                                                                        \n",
       "271 /ebio/abt3_projects/Anxiety_Twins_Metagenomes/data/metagenome/Tulsa1000/LLMGA_v0.12/HiSeq_R160-163-169/final_contigs/BB094/contigs.fna.gz\n",
       "272 /ebio/abt3_projects/Anxiety_Twins_Metagenomes/data/metagenome/Tulsa1000/LLMGA_v0.12/HiSeq_R160-163-169/final_contigs/BB280/contigs.fna.gz\n",
       "    Sample\n",
       "1   AA115 \n",
       "2   AC747 \n",
       "⋮   ⋮     \n",
       "271 BB094 \n",
       "272 BB280 \n",
       "    Read1                                                                                                                       \n",
       "1   /ebio/abt3_projects/Anxiety_Twins_Metagenomes/data/metagenome/Tulsa1000/LLMGQC/HiSeq_R160-163-169/final/AA115/R1_final.fq.gz\n",
       "2   /ebio/abt3_projects/Anxiety_Twins_Metagenomes/data/metagenome/Tulsa1000/LLMGQC/HiSeq_R160-163-169/final/AC747/R1_final.fq.gz\n",
       "⋮   ⋮                                                                                                                           \n",
       "271 /ebio/abt3_projects/Anxiety_Twins_Metagenomes/data/metagenome/Tulsa1000/LLMGQC/HiSeq_R160-163-169/final/BB094/R1_final.fq.gz\n",
       "272 /ebio/abt3_projects/Anxiety_Twins_Metagenomes/data/metagenome/Tulsa1000/LLMGQC/HiSeq_R160-163-169/final/BB280/R1_final.fq.gz\n",
       "    Read2                                                                                                                       \n",
       "1   /ebio/abt3_projects/Anxiety_Twins_Metagenomes/data/metagenome/Tulsa1000/LLMGQC/HiSeq_R160-163-169/final/AA115/R2_final.fq.gz\n",
       "2   /ebio/abt3_projects/Anxiety_Twins_Metagenomes/data/metagenome/Tulsa1000/LLMGQC/HiSeq_R160-163-169/final/AC747/R2_final.fq.gz\n",
       "⋮   ⋮                                                                                                                           \n",
       "271 /ebio/abt3_projects/Anxiety_Twins_Metagenomes/data/metagenome/Tulsa1000/LLMGQC/HiSeq_R160-163-169/final/BB094/R2_final.fq.gz\n",
       "272 /ebio/abt3_projects/Anxiety_Twins_Metagenomes/data/metagenome/Tulsa1000/LLMGQC/HiSeq_R160-163-169/final/BB280/R2_final.fq.gz\n",
       "    Total.Sequences\n",
       "1   6241925        \n",
       "2   3185175        \n",
       "⋮   ⋮              \n",
       "271 11580686       \n",
       "272 12989387       "
      ]
     },
     "metadata": {},
     "output_type": "display_data"
    }
   ],
   "source": [
    "overlap(contig_files$Sample, read_files$Sample)\n",
    "samps = contig_files %>%\n",
    "    inner_join.(read_files, c('Sample')) %>%\n",
    "    mutate.(Taxon = Sample) %>%\n",
    "    select.(Taxon, Fasta, Sample, Read1, Read2, Total.Sequences) %>%\n",
    "    mutate.(Fasta = gsub('/+', '/', Fasta),\n",
    "            Read1 = gsub('/+', '/', Read1),\n",
    "            Read2 = gsub('/+', '/', Read2))\n",
    "samps"
   ]
  },
  {
   "cell_type": "markdown",
   "metadata": {},
   "source": [
    "# Run1: n30\n",
    "\n",
    "* using 30 MAGs"
   ]
  },
  {
   "cell_type": "code",
   "execution_count": 16,
   "metadata": {
    "ExecuteTime": {
     "end_time": "2022-02-04T08:16:07.854931Z",
     "start_time": "2022-02-04T08:16:07.823Z"
    }
   },
   "outputs": [
    {
     "name": "stdout",
     "output_type": "stream",
     "text": [
      "Directory already exists: /ebio/abt3_projects/databases_no-backup/DeepMAsED/version2/real_data_eval/anx//n30r1 \n"
     ]
    }
   ],
   "source": [
    "work_dir1 = file.path(work_dir, 'n30r1')\n",
    "make_dir(work_dir1)"
   ]
  },
  {
   "cell_type": "code",
   "execution_count": 8,
   "metadata": {
    "ExecuteTime": {
     "end_time": "2022-02-04T08:12:22.574468Z",
     "start_time": "2022-02-04T08:12:20.674Z"
    }
   },
   "outputs": [
    {
     "name": "stdout",
     "output_type": "stream",
     "text": [
      "File written: /ebio/abt3_projects/databases_no-backup/DeepMAsED/version2/real_data_eval/anx//n30r1/samples.tsv \n"
     ]
    }
   ],
   "source": [
    "# writing table\n",
    "F = file.path(work_dir1, 'samples.tsv')\n",
    "samps_n30r1 = samps %>%\n",
    "    mutate.(X = sample(1:nrow(.), nrow(.))) %>%\n",
    "    filter.(X <= 30) \n",
    "samps_n30r1 %>% write_table(F)"
   ]
  },
  {
   "cell_type": "markdown",
   "metadata": {},
   "source": [
    "## ResMiCo-SM"
   ]
  },
  {
   "cell_type": "markdown",
   "metadata": {},
   "source": [
    "### Config"
   ]
  },
  {
   "cell_type": "code",
   "execution_count": 17,
   "metadata": {
    "ExecuteTime": {
     "end_time": "2022-02-04T08:16:09.364043Z",
     "start_time": "2022-02-04T08:16:09.314Z"
    }
   },
   "outputs": [
    {
     "name": "stdout",
     "output_type": "stream",
     "text": [
      "# Input table\n",
      "## Table of genomes\n",
      "genomes_file: /ebio/abt3_projects/databases_no-backup/DeepMAsED/version2/real_data_eval/anx/n30r1/samples.tsv\n",
      "\n",
      "# Output directory\n",
      "output_dir: /ebio/abt3_projects/databases_no-backup/DeepMAsED/version2/real_data_eval/anx/n30r1/\n",
      "\n",
      "# Temporary output directory (/dev/shm/ for shared memory)\n",
      "#tmp_dir: /tmp/\n",
      "tmp_dir: /ebio/abt3_scratch/\n",
      "\n",
      "# Email for notifications (\"Skip\" to skip)\n",
      "email: nyoungblut@tuebingen.mpg.de\n",
      "\n",
      "# software parameters for data simulations\n",
      "## Use \"Skip\" to skip  steps. If no params for rule, use \"\"\n",
      "## `reps:` is the number of replicate simulations\n",
      "## If `keep_reads: True`, then simulated reads are kept\n",
      "params:\n",
      "  ionice: -c 3\n",
      "  # simulating metagenomes\n",
      "  MGSIM:\n",
      "#    genome_download: \"\"\n",
      "    sim_reps: 1\n",
      "    community:\n",
      "      richness:\n",
      "        - 0.5\n",
      "        - 0.8\n",
      "      abundance_distribution:\n",
      "        - \"mean:10,sigma:1\"\n",
      "        - \"mean:10,sigma:2\"\n",
      "      random_seed: 8192\n",
      "      other_sim_params: --group-bias 0\n",
      "    reads: \n",
      "      length:\n",
      "        - 100\n",
      "      depth:\n",
      "        - 1000000\n",
      "      other_sim_params: --art-paired --art-mflen 270 --art-sdev 50 --rndSeed 8712\n",
      "                        --art-qprof1 data/art_error_profiles/HiSeq2500L150R1.txt\n",
      "                        --art-qprof2 data/art_error_profiles/HiSeq2500L150R2.txt\n",
      "      skewer: -n -l 70 -q 25 --format sanger\n",
      "      keep_reads: False\n",
      "  # coverage\n",
      "  nonpareil:\n",
      "    params: -T kmer\n",
      "    summary: 1e9   # this is target seq. depth\n",
      "  # assemblying metagenomes\n",
      "  assemblers:\n",
      "    metaspades: -k auto --only-assembler\n",
      "    megahit: --min-count 1 --min-contig-len 1000\n",
      "  # assembly filtering\n",
      "  contigs:\n",
      "    length_cutoff: 1000       # length in bp \n",
      "  # assessing assembly errors\n",
      "  asmbl_errors:\n",
      "    metaquast: --max-ref-number 0 --min-contig 1000 --min-identity 95 --extensive-mis-size 100\n",
      "               --no-html --no-plots --no-icarus --no-gc --no-snps --no-sv\n",
      "    keep_genomes: False\n",
      "  # mapping reads to contigs\n",
      "  map:\n",
      "    samtools: \"\"\n",
      "    bowtie2: \"\"\n",
      "    max_coverage: 20\n",
      "    keep_bam: False\n",
      "  # creating ResMiCo feature tables\n",
      "  feature_table:\n",
      "    make: --window 6\n",
      "  # state-of-the-art\n",
      "  SotA:\n",
      "    ALE: \"\"\n",
      "    VALET: Skip #\"\"  \n",
      "    metaMIC:\n",
      "      extract: --mlen 1000\n",
      "      predict: --mlen 1000 --slen 500 -a MEGAHIT\n",
      "\n",
      "# params just for creating feature tables for non-simulated data\n",
      "nonsim_params:\n",
      "  # max number of reads to use\n",
      "  subsample_reads: Skip #1000000\n",
      "\n",
      "# snakemake pipeline\n",
      "pipeline:\n",
      "  snakemake_folder: ./\n",
      "  script_folder: ./bin/scripts/\n",
      "  name: ResMiCo-SM"
     ]
    }
   ],
   "source": [
    "F = file.path(work_dir1, 'config.yaml')\n",
    "cat_file(F)"
   ]
  },
  {
   "cell_type": "markdown",
   "metadata": {},
   "source": [
    "### Run"
   ]
  },
  {
   "cell_type": "markdown",
   "metadata": {},
   "source": [
    "```\n",
    "(snakemake) @ rick:/ebio/abt3_projects/DeepMAsED/version2/deepmased/ResMiCo-SM\n",
    "$ screen -L -S rmc-sm-anx ./snakemake_sge.sh /ebio/abt3_projects/databases_no-backup/DeepMAsED/version2/real_data_eval/anx/n30r1/config.yaml 30 -F\n",
    "```"
   ]
  },
  {
   "cell_type": "markdown",
   "metadata": {},
   "source": [
    "### Summary"
   ]
  },
  {
   "cell_type": "code",
   "execution_count": 10,
   "metadata": {
    "ExecuteTime": {
     "end_time": "2022-02-04T08:12:22.646299Z",
     "start_time": "2022-02-04T08:12:20.677Z"
    }
   },
   "outputs": [
    {
     "data": {
      "text/html": [
       "<table class=\"dataframe\">\n",
       "<caption>A data.table: 30 × 3</caption>\n",
       "<thead>\n",
       "\t<tr><th scope=col>genome</th><th scope=col>sample</th><th scope=col>feature_file</th></tr>\n",
       "\t<tr><th scope=col>&lt;chr&gt;</th><th scope=col>&lt;chr&gt;</th><th scope=col>&lt;chr&gt;</th></tr>\n",
       "</thead>\n",
       "<tbody>\n",
       "\t<tr><td>AC747</td><td>AC747</td><td>/ebio/abt3_projects/databases_no-backup/DeepMAsED/version2/real_data_eval/anx/map/AC747/AC747/features.tsv.gz</td></tr>\n",
       "\t<tr><td>AN860</td><td>AN860</td><td>/ebio/abt3_projects/databases_no-backup/DeepMAsED/version2/real_data_eval/anx/map/AN860/AN860/features.tsv.gz</td></tr>\n",
       "\t<tr><td>⋮</td><td>⋮</td><td>⋮</td></tr>\n",
       "\t<tr><td>AT778</td><td>AT778</td><td>/ebio/abt3_projects/databases_no-backup/DeepMAsED/version2/real_data_eval/anx/map/AT778/AT778/features.tsv.gz</td></tr>\n",
       "\t<tr><td>AO032</td><td>AO032</td><td>/ebio/abt3_projects/databases_no-backup/DeepMAsED/version2/real_data_eval/anx/map/AO032/AO032/features.tsv.gz</td></tr>\n",
       "</tbody>\n",
       "</table>\n"
      ],
      "text/latex": [
       "A data.table: 30 × 3\n",
       "\\begin{tabular}{lll}\n",
       " genome & sample & feature\\_file\\\\\n",
       " <chr> & <chr> & <chr>\\\\\n",
       "\\hline\n",
       "\t AC747 & AC747 & /ebio/abt3\\_projects/databases\\_no-backup/DeepMAsED/version2/real\\_data\\_eval/anx/map/AC747/AC747/features.tsv.gz\\\\\n",
       "\t AN860 & AN860 & /ebio/abt3\\_projects/databases\\_no-backup/DeepMAsED/version2/real\\_data\\_eval/anx/map/AN860/AN860/features.tsv.gz\\\\\n",
       "\t ⋮ & ⋮ & ⋮\\\\\n",
       "\t AT778 & AT778 & /ebio/abt3\\_projects/databases\\_no-backup/DeepMAsED/version2/real\\_data\\_eval/anx/map/AT778/AT778/features.tsv.gz\\\\\n",
       "\t AO032 & AO032 & /ebio/abt3\\_projects/databases\\_no-backup/DeepMAsED/version2/real\\_data\\_eval/anx/map/AO032/AO032/features.tsv.gz\\\\\n",
       "\\end{tabular}\n"
      ],
      "text/markdown": [
       "\n",
       "A data.table: 30 × 3\n",
       "\n",
       "| genome &lt;chr&gt; | sample &lt;chr&gt; | feature_file &lt;chr&gt; |\n",
       "|---|---|---|\n",
       "| AC747 | AC747 | /ebio/abt3_projects/databases_no-backup/DeepMAsED/version2/real_data_eval/anx/map/AC747/AC747/features.tsv.gz |\n",
       "| AN860 | AN860 | /ebio/abt3_projects/databases_no-backup/DeepMAsED/version2/real_data_eval/anx/map/AN860/AN860/features.tsv.gz |\n",
       "| ⋮ | ⋮ | ⋮ |\n",
       "| AT778 | AT778 | /ebio/abt3_projects/databases_no-backup/DeepMAsED/version2/real_data_eval/anx/map/AT778/AT778/features.tsv.gz |\n",
       "| AO032 | AO032 | /ebio/abt3_projects/databases_no-backup/DeepMAsED/version2/real_data_eval/anx/map/AO032/AO032/features.tsv.gz |\n",
       "\n"
      ],
      "text/plain": [
       "   genome sample\n",
       "1  AC747  AC747 \n",
       "2  AN860  AN860 \n",
       "⋮  ⋮      ⋮     \n",
       "29 AT778  AT778 \n",
       "30 AO032  AO032 \n",
       "   feature_file                                                                                                 \n",
       "1  /ebio/abt3_projects/databases_no-backup/DeepMAsED/version2/real_data_eval/anx/map/AC747/AC747/features.tsv.gz\n",
       "2  /ebio/abt3_projects/databases_no-backup/DeepMAsED/version2/real_data_eval/anx/map/AN860/AN860/features.tsv.gz\n",
       "⋮  ⋮                                                                                                            \n",
       "29 /ebio/abt3_projects/databases_no-backup/DeepMAsED/version2/real_data_eval/anx/map/AT778/AT778/features.tsv.gz\n",
       "30 /ebio/abt3_projects/databases_no-backup/DeepMAsED/version2/real_data_eval/anx/map/AO032/AO032/features.tsv.gz"
      ]
     },
     "metadata": {},
     "output_type": "display_data"
    }
   ],
   "source": [
    "F = file.path(work_dir1, 'map', 'feature_files.tsv')\n",
    "Fread(F)"
   ]
  },
  {
   "cell_type": "markdown",
   "metadata": {},
   "source": [
    "# Run2: n30"
   ]
  },
  {
   "cell_type": "code",
   "execution_count": 18,
   "metadata": {
    "ExecuteTime": {
     "end_time": "2022-02-04T08:16:16.688910Z",
     "start_time": "2022-02-04T08:16:16.655Z"
    }
   },
   "outputs": [
    {
     "name": "stdout",
     "output_type": "stream",
     "text": [
      "Directory already exists: /ebio/abt3_projects/databases_no-backup/DeepMAsED/version2/real_data_eval/anx//n30r2 \n"
     ]
    }
   ],
   "source": [
    "work_dir1 = file.path(work_dir, 'n30r2')\n",
    "make_dir(work_dir1)"
   ]
  },
  {
   "cell_type": "code",
   "execution_count": 12,
   "metadata": {
    "ExecuteTime": {
     "end_time": "2022-02-04T08:12:22.706396Z",
     "start_time": "2022-02-04T08:12:20.679Z"
    }
   },
   "outputs": [
    {
     "name": "stdout",
     "output_type": "stream",
     "text": [
      "File written: /ebio/abt3_projects/databases_no-backup/DeepMAsED/version2/real_data_eval/anx//n30r2/samples.tsv \n"
     ]
    }
   ],
   "source": [
    "# writing table\n",
    "F = file.path(work_dir1, 'samples.tsv')\n",
    "samps_n30r2 = samps %>%\n",
    "    anti_join.(samps_n30r1, c('Taxon')) %>%\n",
    "    mutate.(X = sample(1:nrow(.), nrow(.))) %>%\n",
    "    filter.(X <= 30) \n",
    "samps_n30r2 %>% write_table(F)"
   ]
  },
  {
   "cell_type": "markdown",
   "metadata": {},
   "source": [
    "## ResMiCo-SM"
   ]
  },
  {
   "cell_type": "markdown",
   "metadata": {},
   "source": [
    "### Config"
   ]
  },
  {
   "cell_type": "code",
   "execution_count": 19,
   "metadata": {
    "ExecuteTime": {
     "end_time": "2022-02-04T08:16:23.656712Z",
     "start_time": "2022-02-04T08:16:23.614Z"
    }
   },
   "outputs": [
    {
     "name": "stdout",
     "output_type": "stream",
     "text": [
      "# Input table\n",
      "## Table of genomes\n",
      "genomes_file: /ebio/abt3_projects/databases_no-backup/DeepMAsED/version2/real_data_eval/anx/n30r2/samples.tsv\n",
      "\n",
      "# Output directory\n",
      "output_dir: /ebio/abt3_projects/databases_no-backup/DeepMAsED/version2/real_data_eval/anx/n30r2/\n",
      "\n",
      "# Temporary output directory (/dev/shm/ for shared memory)\n",
      "#tmp_dir: /tmp/\n",
      "tmp_dir: /ebio/abt3_scratch/\n",
      "\n",
      "# Email for notifications (\"Skip\" to skip)\n",
      "email: nyoungblut@tuebingen.mpg.de\n",
      "\n",
      "# software parameters for data simulations\n",
      "## Use \"Skip\" to skip  steps. If no params for rule, use \"\"\n",
      "## `reps:` is the number of replicate simulations\n",
      "## If `keep_reads: True`, then simulated reads are kept\n",
      "params:\n",
      "  ionice: -c 3\n",
      "  # simulating metagenomes\n",
      "  MGSIM:\n",
      "#    genome_download: \"\"\n",
      "    sim_reps: 1\n",
      "    community:\n",
      "      richness:\n",
      "        - 0.5\n",
      "        - 0.8\n",
      "      abundance_distribution:\n",
      "        - \"mean:10,sigma:1\"\n",
      "        - \"mean:10,sigma:2\"\n",
      "      random_seed: 8192\n",
      "      other_sim_params: --group-bias 0\n",
      "    reads: \n",
      "      length:\n",
      "        - 100\n",
      "      depth:\n",
      "        - 1000000\n",
      "      other_sim_params: --art-paired --art-mflen 270 --art-sdev 50 --rndSeed 8712\n",
      "                        --art-qprof1 data/art_error_profiles/HiSeq2500L150R1.txt\n",
      "                        --art-qprof2 data/art_error_profiles/HiSeq2500L150R2.txt\n",
      "      skewer: -n -l 70 -q 25 --format sanger\n",
      "      keep_reads: False\n",
      "  # coverage\n",
      "  nonpareil:\n",
      "    params: -T kmer\n",
      "    summary: 1e9   # this is target seq. depth\n",
      "  # assemblying metagenomes\n",
      "  assemblers:\n",
      "    metaspades: -k auto --only-assembler\n",
      "    megahit: --min-count 1 --min-contig-len 1000\n",
      "  # assembly filtering\n",
      "  contigs:\n",
      "    length_cutoff: 1000       # length in bp \n",
      "  # assessing assembly errors\n",
      "  asmbl_errors:\n",
      "    metaquast: --max-ref-number 0 --min-contig 1000 --min-identity 95 --extensive-mis-size 100\n",
      "               --no-html --no-plots --no-icarus --no-gc --no-snps --no-sv\n",
      "    keep_genomes: False\n",
      "  # mapping reads to contigs\n",
      "  map:\n",
      "    samtools: \"\"\n",
      "    bowtie2: \"\"\n",
      "    max_coverage: 20\n",
      "    keep_bam: False\n",
      "  # creating ResMiCo feature tables\n",
      "  feature_table:\n",
      "    make: --window 6\n",
      "  # state-of-the-art\n",
      "  SotA:\n",
      "    ALE: \"\"\n",
      "    VALET: Skip #\"\"  \n",
      "    metaMIC:\n",
      "      extract: --mlen 1000\n",
      "      predict: --mlen 1000 --slen 500 -a MEGAHIT\n",
      "\n",
      "# params just for creating feature tables for non-simulated data\n",
      "nonsim_params:\n",
      "  # max number of reads to use\n",
      "  subsample_reads: Skip #1000000\n",
      "\n",
      "# snakemake pipeline\n",
      "pipeline:\n",
      "  snakemake_folder: ./\n",
      "  script_folder: ./bin/scripts/\n",
      "  name: ResMiCo-SM"
     ]
    }
   ],
   "source": [
    "F = file.path(work_dir1, 'config.yaml')\n",
    "cat_file(F)"
   ]
  },
  {
   "cell_type": "markdown",
   "metadata": {},
   "source": [
    "### Run"
   ]
  },
  {
   "cell_type": "markdown",
   "metadata": {},
   "source": [
    "```\n",
    "(snakemake) @ rick:/ebio/abt3_projects/DeepMAsED/version2/deepmased/ResMiCo-SM\n",
    "$ screen -L -S rmc-sm-anx ./snakemake_sge.sh /ebio/abt3_projects/databases_no-backup/DeepMAsED/version2/real_data_eval/anx/n30r2/config.yaml 30 -F\n",
    "```"
   ]
  },
  {
   "cell_type": "markdown",
   "metadata": {},
   "source": [
    "# sessionInfo"
   ]
  },
  {
   "cell_type": "code",
   "execution_count": 13,
   "metadata": {
    "ExecuteTime": {
     "end_time": "2022-02-04T08:12:22.789140Z",
     "start_time": "2022-02-04T08:12:20.681Z"
    }
   },
   "outputs": [
    {
     "data": {
      "text/plain": [
       "R version 4.1.0 (2021-05-18)\n",
       "Platform: x86_64-conda-linux-gnu (64-bit)\n",
       "Running under: Ubuntu 18.04.6 LTS\n",
       "\n",
       "Matrix products: default\n",
       "BLAS/LAPACK: /ebio/abt3_projects/DeepMAsED/envs/tidyverse/lib/libopenblasp-r0.3.15.so\n",
       "\n",
       "locale:\n",
       " [1] LC_CTYPE=en_US.UTF-8       LC_NUMERIC=C              \n",
       " [3] LC_TIME=en_US.UTF-8        LC_COLLATE=en_US.UTF-8    \n",
       " [5] LC_MONETARY=en_US.UTF-8    LC_MESSAGES=en_US.UTF-8   \n",
       " [7] LC_PAPER=en_US.UTF-8       LC_NAME=C                 \n",
       " [9] LC_ADDRESS=C               LC_TELEPHONE=C            \n",
       "[11] LC_MEASUREMENT=en_US.UTF-8 LC_IDENTIFICATION=C       \n",
       "\n",
       "attached base packages:\n",
       "[1] stats     graphics  grDevices utils     datasets  methods   base     \n",
       "\n",
       "other attached packages:\n",
       "[1] LeyLabRMisc_0.1.9  clustermq_0.8.95.1 tidytable_0.6.3    data.table_1.14.0 \n",
       "[5] ggplot2_3.3.5      tidyr_1.1.3        dplyr_1.0.7       \n",
       "\n",
       "loaded via a namespace (and not attached):\n",
       " [1] Rcpp_1.0.7        pillar_1.6.1      compiler_4.1.0    base64enc_0.1-3  \n",
       " [5] tools_4.1.0       digest_0.6.27     uuid_0.1-4        jsonlite_1.7.2   \n",
       " [9] evaluate_0.14     lifecycle_1.0.0   tibble_3.1.2      gtable_0.3.0     \n",
       "[13] pkgconfig_2.0.3   rlang_0.4.11      IRdisplay_1.0     IRkernel_1.2     \n",
       "[17] repr_1.1.3        withr_2.4.2       generics_0.1.0    vctrs_0.3.8      \n",
       "[21] grid_4.1.0        tidyselect_1.1.1  glue_1.4.2        R6_2.5.0         \n",
       "[25] fansi_0.4.2       pbdZMQ_0.3-5      purrr_0.3.4       magrittr_2.0.1   \n",
       "[29] codetools_0.2-18  scales_1.1.1      ellipsis_0.3.2    htmltools_0.5.1.1\n",
       "[33] colorspace_2.0-2  utf8_1.2.1        munsell_0.5.0     crayon_1.4.1     "
      ]
     },
     "metadata": {},
     "output_type": "display_data"
    }
   ],
   "source": [
    "sessionInfo()"
   ]
  }
 ],
 "metadata": {
  "kernelspec": {
   "display_name": "R [conda env:DeepMAsED-tidyverse]",
   "language": "R",
   "name": "conda-env-DeepMAsED-tidyverse-r"
  },
  "language_info": {
   "codemirror_mode": "r",
   "file_extension": ".r",
   "mimetype": "text/x-r-source",
   "name": "R",
   "pygments_lexer": "r",
   "version": "4.1.0"
  },
  "notify_time": "30",
  "toc": {
   "base_numbering": 1,
   "nav_menu": {},
   "number_sections": true,
   "sideBar": true,
   "skip_h1_title": false,
   "title_cell": "Table of Contents",
   "title_sidebar": "Contents",
   "toc_cell": true,
   "toc_position": {
    "height": "calc(100% - 180px)",
    "left": "10px",
    "top": "150px",
    "width": "345.594px"
   },
   "toc_section_display": true,
   "toc_window_display": true
  }
 },
 "nbformat": 4,
 "nbformat_minor": 4
}
