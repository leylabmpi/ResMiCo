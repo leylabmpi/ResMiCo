{
 "cells": [
  {
   "cell_type": "markdown",
   "metadata": {
    "toc": true
   },
   "source": [
    "<h1>Table of Contents<span class=\"tocSkip\"></span></h1>\n",
    "<div class=\"toc\"><ul class=\"toc-item\"><li><span><a href=\"#Goal\" data-toc-modified-id=\"Goal-1\"><span class=\"toc-item-num\">1&nbsp;&nbsp;</span>Goal</a></span></li><li><span><a href=\"#Var\" data-toc-modified-id=\"Var-2\"><span class=\"toc-item-num\">2&nbsp;&nbsp;</span>Var</a></span></li><li><span><a href=\"#Init\" data-toc-modified-id=\"Init-3\"><span class=\"toc-item-num\">3&nbsp;&nbsp;</span>Init</a></span></li><li><span><a href=\"#Dataset-summary\" data-toc-modified-id=\"Dataset-summary-4\"><span class=\"toc-item-num\">4&nbsp;&nbsp;</span>Dataset summary</a></span><ul class=\"toc-item\"><li><span><a href=\"#Comm.-abund.-dist\" data-toc-modified-id=\"Comm.-abund.-dist-4.1\"><span class=\"toc-item-num\">4.1&nbsp;&nbsp;</span>Comm. abund. dist</a></span></li></ul></li><li><span><a href=\"#LLMGP\" data-toc-modified-id=\"LLMGP-5\"><span class=\"toc-item-num\">5&nbsp;&nbsp;</span>LLMGP</a></span><ul class=\"toc-item\"><li><ul class=\"toc-item\"><li><span><a href=\"#Config\" data-toc-modified-id=\"Config-5.0.1\"><span class=\"toc-item-num\">5.0.1&nbsp;&nbsp;</span>Config</a></span></li><li><span><a href=\"#Run\" data-toc-modified-id=\"Run-5.0.2\"><span class=\"toc-item-num\">5.0.2&nbsp;&nbsp;</span>Run</a></span></li></ul></li><li><span><a href=\"#Summary\" data-toc-modified-id=\"Summary-5.1\"><span class=\"toc-item-num\">5.1&nbsp;&nbsp;</span>Summary</a></span></li></ul></li><li><span><a href=\"#LLG\" data-toc-modified-id=\"LLG-6\"><span class=\"toc-item-num\">6&nbsp;&nbsp;</span>LLG</a></span><ul class=\"toc-item\"><li><ul class=\"toc-item\"><li><span><a href=\"#Config\" data-toc-modified-id=\"Config-6.0.1\"><span class=\"toc-item-num\">6.0.1&nbsp;&nbsp;</span>Config</a></span></li><li><span><a href=\"#Run\" data-toc-modified-id=\"Run-6.0.2\"><span class=\"toc-item-num\">6.0.2&nbsp;&nbsp;</span>Run</a></span></li></ul></li><li><span><a href=\"#Summary\" data-toc-modified-id=\"Summary-6.1\"><span class=\"toc-item-num\">6.1&nbsp;&nbsp;</span>Summary</a></span><ul class=\"toc-item\"><li><span><a href=\"#CheckM\" data-toc-modified-id=\"CheckM-6.1.1\"><span class=\"toc-item-num\">6.1.1&nbsp;&nbsp;</span>CheckM</a></span></li><li><span><a href=\"#GTDB-Tk\" data-toc-modified-id=\"GTDB-Tk-6.1.2\"><span class=\"toc-item-num\">6.1.2&nbsp;&nbsp;</span>GTDB-Tk</a></span><ul class=\"toc-item\"><li><span><a href=\"#genomes-per-species-for--n9k_train\" data-toc-modified-id=\"genomes-per-species-for--n9k_train-6.1.2.1\"><span class=\"toc-item-num\">6.1.2.1&nbsp;&nbsp;</span>genomes-per-species for  <code>n9k_train</code></a></span></li></ul></li><li><span><a href=\"#FastANI\" data-toc-modified-id=\"FastANI-6.1.3\"><span class=\"toc-item-num\">6.1.3&nbsp;&nbsp;</span>FastANI</a></span></li></ul></li></ul></li><li><span><a href=\"#ResMiCo-SM\" data-toc-modified-id=\"ResMiCo-SM-7\"><span class=\"toc-item-num\">7&nbsp;&nbsp;</span>ResMiCo-SM</a></span><ul class=\"toc-item\"><li><ul class=\"toc-item\"><li><span><a href=\"#deinterleave-reads\" data-toc-modified-id=\"deinterleave-reads-7.0.1\"><span class=\"toc-item-num\">7.0.1&nbsp;&nbsp;</span>deinterleave reads</a></span></li><li><span><a href=\"#Config\" data-toc-modified-id=\"Config-7.0.2\"><span class=\"toc-item-num\">7.0.2&nbsp;&nbsp;</span>Config</a></span></li><li><span><a href=\"#Run\" data-toc-modified-id=\"Run-7.0.3\"><span class=\"toc-item-num\">7.0.3&nbsp;&nbsp;</span>Run</a></span></li></ul></li><li><span><a href=\"#Summary\" data-toc-modified-id=\"Summary-7.1\"><span class=\"toc-item-num\">7.1&nbsp;&nbsp;</span>Summary</a></span><ul class=\"toc-item\"><li><span><a href=\"#MetaQUAST-results\" data-toc-modified-id=\"MetaQUAST-results-7.1.1\"><span class=\"toc-item-num\">7.1.1&nbsp;&nbsp;</span>MetaQUAST results</a></span></li><li><span><a href=\"#ResMiCo-features\" data-toc-modified-id=\"ResMiCo-features-7.1.2\"><span class=\"toc-item-num\">7.1.2&nbsp;&nbsp;</span>ResMiCo features</a></span></li><li><span><a href=\"#metaMIC\" data-toc-modified-id=\"metaMIC-7.1.3\"><span class=\"toc-item-num\">7.1.3&nbsp;&nbsp;</span>metaMIC</a></span><ul class=\"toc-item\"><li><span><a href=\"#True-misassemblies\" data-toc-modified-id=\"True-misassemblies-7.1.3.1\"><span class=\"toc-item-num\">7.1.3.1&nbsp;&nbsp;</span>True misassemblies</a></span></li><li><span><a href=\"#metaMIC-contig-scores\" data-toc-modified-id=\"metaMIC-contig-scores-7.1.3.2\"><span class=\"toc-item-num\">7.1.3.2&nbsp;&nbsp;</span>metaMIC contig scores</a></span></li><li><span><a href=\"#AUCPR\" data-toc-modified-id=\"AUCPR-7.1.3.3\"><span class=\"toc-item-num\">7.1.3.3&nbsp;&nbsp;</span>AUCPR</a></span></li></ul></li><li><span><a href=\"#ALE\" data-toc-modified-id=\"ALE-7.1.4\"><span class=\"toc-item-num\">7.1.4&nbsp;&nbsp;</span>ALE</a></span></li></ul></li></ul></li><li><span><a href=\"#sessionInfo\" data-toc-modified-id=\"sessionInfo-8\"><span class=\"toc-item-num\">8&nbsp;&nbsp;</span>sessionInfo</a></span></li></ul></div>"
   ]
  },
  {
   "cell_type": "markdown",
   "metadata": {},
   "source": [
    "# Goal\n",
    "\n",
    "* ResMiCo-SM on CAMI2 HMP-gut dataset\n",
    "  * Using CAMI reference genomes\n",
    "  * Using CAMI reads\n",
    "  * Creating new assemblies via ResMiCo-SM"
   ]
  },
  {
   "cell_type": "markdown",
   "metadata": {},
   "source": [
    "# Var"
   ]
  },
  {
   "cell_type": "code",
   "execution_count": 9,
   "metadata": {
    "ExecuteTime": {
     "end_time": "2021-10-26T18:32:36.974628Z",
     "start_time": "2021-10-26T18:32:36.934Z"
    }
   },
   "outputs": [],
   "source": [
    "work_dir = '/ebio/abt3_projects/databases_no-backup/CAMI/CAMI2_HMP-gut/short_read/'\n",
    "tmp_dir = '/ebio/abt3_scratch/nyoungblut/CAMI/CAMI2_HMP-gut/'\n",
    "\n",
    "# params\n",
    "threads = 4"
   ]
  },
  {
   "cell_type": "markdown",
   "metadata": {},
   "source": [
    "# Init"
   ]
  },
  {
   "cell_type": "code",
   "execution_count": 10,
   "metadata": {
    "ExecuteTime": {
     "end_time": "2021-10-26T18:32:37.216193Z",
     "start_time": "2021-10-26T18:32:37.161Z"
    }
   },
   "outputs": [],
   "source": [
    "library(dplyr)\n",
    "library(tidyr)\n",
    "library(ggplot2)\n",
    "library(data.table)\n",
    "library(tidytable)\n",
    "library(LeyLabRMisc)"
   ]
  },
  {
   "cell_type": "code",
   "execution_count": 11,
   "metadata": {
    "ExecuteTime": {
     "end_time": "2021-10-26T18:32:37.376196Z",
     "start_time": "2021-10-26T18:32:37.311Z"
    }
   },
   "outputs": [],
   "source": [
    "library(PRROC)"
   ]
  },
  {
   "cell_type": "code",
   "execution_count": 12,
   "metadata": {
    "ExecuteTime": {
     "end_time": "2021-10-26T18:32:37.482312Z",
     "start_time": "2021-10-26T18:32:37.445Z"
    }
   },
   "outputs": [],
   "source": [
    "df.dims()\n",
    "setDTthreads(threads)"
   ]
  },
  {
   "cell_type": "markdown",
   "metadata": {},
   "source": [
    "# Dataset summary"
   ]
  },
  {
   "cell_type": "markdown",
   "metadata": {},
   "source": [
    "## Comm. abund. dist\n",
    "\n",
    "* How does the CAMI community abundance distribution look relative to the ResMiCo-SM simulations?"
   ]
  },
  {
   "cell_type": "code",
   "execution_count": 13,
   "metadata": {
    "ExecuteTime": {
     "end_time": "2021-10-26T18:32:39.071905Z",
     "start_time": "2021-10-26T18:32:38.786Z"
    }
   },
   "outputs": [
    {
     "data": {
      "text/html": [
       "<table class=\"dataframe\">\n",
       "<caption>A tidytable: 10570 × 4</caption>\n",
       "<thead>\n",
       "\t<tr><th scope=col>OTU</th><th scope=col>Abundance</th><th scope=col>OTU_rank</th><th scope=col>Sample</th></tr>\n",
       "\t<tr><th scope=col>&lt;chr&gt;</th><th scope=col>&lt;dbl&gt;</th><th scope=col>&lt;int&gt;</th><th scope=col>&lt;chr&gt;</th></tr>\n",
       "</thead>\n",
       "<tbody>\n",
       "\t<tr><td>OTU_97.45322.0</td><td>0</td><td>70</td><td>0</td></tr>\n",
       "\t<tr><td>OTU_97.8273.1 </td><td>0</td><td>71</td><td>0</td></tr>\n",
       "\t<tr><td>⋮</td><td>⋮</td><td>⋮</td><td>⋮</td></tr>\n",
       "\t<tr><td>OTU_97.23623.0</td><td>0</td><td>1056</td><td>9</td></tr>\n",
       "\t<tr><td>OTU_97.13074.0</td><td>0</td><td>1057</td><td>9</td></tr>\n",
       "</tbody>\n",
       "</table>\n"
      ],
      "text/latex": [
       "A tidytable: 10570 × 4\n",
       "\\begin{tabular}{llll}\n",
       " OTU & Abundance & OTU\\_rank & Sample\\\\\n",
       " <chr> & <dbl> & <int> & <chr>\\\\\n",
       "\\hline\n",
       "\t OTU\\_97.45322.0 & 0 & 70 & 0\\\\\n",
       "\t OTU\\_97.8273.1  & 0 & 71 & 0\\\\\n",
       "\t ⋮ & ⋮ & ⋮ & ⋮\\\\\n",
       "\t OTU\\_97.23623.0 & 0 & 1056 & 9\\\\\n",
       "\t OTU\\_97.13074.0 & 0 & 1057 & 9\\\\\n",
       "\\end{tabular}\n"
      ],
      "text/markdown": [
       "\n",
       "A tidytable: 10570 × 4\n",
       "\n",
       "| OTU &lt;chr&gt; | Abundance &lt;dbl&gt; | OTU_rank &lt;int&gt; | Sample &lt;chr&gt; |\n",
       "|---|---|---|---|\n",
       "| OTU_97.45322.0 | 0 | 70 | 0 |\n",
       "| OTU_97.8273.1  | 0 | 71 | 0 |\n",
       "| ⋮ | ⋮ | ⋮ | ⋮ |\n",
       "| OTU_97.23623.0 | 0 | 1056 | 9 |\n",
       "| OTU_97.13074.0 | 0 | 1057 | 9 |\n",
       "\n"
      ],
      "text/plain": [
       "      OTU            Abundance OTU_rank Sample\n",
       "1     OTU_97.45322.0 0         70       0     \n",
       "2     OTU_97.8273.1  0         71       0     \n",
       "⋮     ⋮              ⋮         ⋮        ⋮     \n",
       "10569 OTU_97.23623.0 0         1056     9     \n",
       "10570 OTU_97.13074.0 0         1057     9     "
      ]
     },
     "metadata": {},
     "output_type": "display_data"
    }
   ],
   "source": [
    "F = list.files(work_dir, 'abund.+.tsv', full.names=TRUE)\n",
    "read_table = function(F){\n",
    "    df = Fread(F) %>%\n",
    "        mutate(OTU_rank = row_number(-V2)) \n",
    "    df$Sample = gsub('abundance([0-9]+).+', '\\\\1', basename(F))\n",
    "    return(df)\n",
    "}\n",
    "\n",
    "comm = F %>%\n",
    "    lapply(read_table) %>%\n",
    "    rbindlist(use.names=TRUE) %>%\n",
    "    rename.('OTU' = V1,\n",
    "            'Abundance' = V2)\n",
    "comm"
   ]
  },
  {
   "cell_type": "code",
   "execution_count": 14,
   "metadata": {
    "ExecuteTime": {
     "end_time": "2021-10-26T18:32:39.158592Z",
     "start_time": "2021-10-26T18:32:38.909Z"
    }
   },
   "outputs": [
    {
     "data": {
      "text/html": [
       "<table class=\"dataframe\">\n",
       "<caption>A matrix: 1 × 8 of type dbl</caption>\n",
       "<thead>\n",
       "\t<tr><th></th><th scope=col>Min.</th><th scope=col>1st Qu.</th><th scope=col>Median</th><th scope=col>Mean</th><th scope=col>3rd Qu.</th><th scope=col>Max.</th><th scope=col>sd</th><th scope=col>sd_err_of_mean</th></tr>\n",
       "</thead>\n",
       "<tbody>\n",
       "\t<tr><th scope=row>Abundance</th><td>0</td><td>0</td><td>0</td><td>0.2385998</td><td>0</td><td>134.6208</td><td>54.939</td><td>22.429</td></tr>\n",
       "</tbody>\n",
       "</table>\n"
      ],
      "text/latex": [
       "A matrix: 1 × 8 of type dbl\n",
       "\\begin{tabular}{r|llllllll}\n",
       "  & Min. & 1st Qu. & Median & Mean & 3rd Qu. & Max. & sd & sd\\_err\\_of\\_mean\\\\\n",
       "\\hline\n",
       "\tAbundance & 0 & 0 & 0 & 0.2385998 & 0 & 134.6208 & 54.939 & 22.429\\\\\n",
       "\\end{tabular}\n"
      ],
      "text/markdown": [
       "\n",
       "A matrix: 1 × 8 of type dbl\n",
       "\n",
       "| <!--/--> | Min. | 1st Qu. | Median | Mean | 3rd Qu. | Max. | sd | sd_err_of_mean |\n",
       "|---|---|---|---|---|---|---|---|---|\n",
       "| Abundance | 0 | 0 | 0 | 0.2385998 | 0 | 134.6208 | 54.939 | 22.429 |\n",
       "\n"
      ],
      "text/plain": [
       "          Min. 1st Qu. Median Mean      3rd Qu. Max.     sd     sd_err_of_mean\n",
       "Abundance 0    0       0      0.2385998 0       134.6208 54.939 22.429        "
      ]
     },
     "metadata": {},
     "output_type": "display_data"
    },
    {
     "data": {
      "text/html": [
       "<table class=\"dataframe\">\n",
       "<caption>A matrix: 1 × 8 of type dbl</caption>\n",
       "<thead>\n",
       "\t<tr><th></th><th scope=col>Min.</th><th scope=col>1st Qu.</th><th scope=col>Median</th><th scope=col>Mean</th><th scope=col>3rd Qu.</th><th scope=col>Max.</th><th scope=col>sd</th><th scope=col>sd_err_of_mean</th></tr>\n",
       "</thead>\n",
       "<tbody>\n",
       "\t<tr><th scope=row>OTU_rank</th><td>1</td><td>265</td><td>529</td><td>529</td><td>793</td><td>1057</td><td>373.352</td><td>152.42</td></tr>\n",
       "</tbody>\n",
       "</table>\n"
      ],
      "text/latex": [
       "A matrix: 1 × 8 of type dbl\n",
       "\\begin{tabular}{r|llllllll}\n",
       "  & Min. & 1st Qu. & Median & Mean & 3rd Qu. & Max. & sd & sd\\_err\\_of\\_mean\\\\\n",
       "\\hline\n",
       "\tOTU\\_rank & 1 & 265 & 529 & 529 & 793 & 1057 & 373.352 & 152.42\\\\\n",
       "\\end{tabular}\n"
      ],
      "text/markdown": [
       "\n",
       "A matrix: 1 × 8 of type dbl\n",
       "\n",
       "| <!--/--> | Min. | 1st Qu. | Median | Mean | 3rd Qu. | Max. | sd | sd_err_of_mean |\n",
       "|---|---|---|---|---|---|---|---|---|\n",
       "| OTU_rank | 1 | 265 | 529 | 529 | 793 | 1057 | 373.352 | 152.42 |\n",
       "\n"
      ],
      "text/plain": [
       "         Min. 1st Qu. Median Mean 3rd Qu. Max. sd      sd_err_of_mean\n",
       "OTU_rank 1    265     529    529  793     1057 373.352 152.42        "
      ]
     },
     "metadata": {},
     "output_type": "display_data"
    }
   ],
   "source": [
    "# abundance distribution\n",
    "summary_x(comm$Abundance)\n",
    "summary_x(comm$OTU_rank)"
   ]
  },
  {
   "cell_type": "code",
   "execution_count": 17,
   "metadata": {
    "ExecuteTime": {
     "end_time": "2021-10-26T18:32:54.996176Z",
     "start_time": "2021-10-26T18:32:54.859Z"
    },
    "scrolled": true
   },
   "outputs": [
    {
     "data": {
      "text/html": [
       "<table class=\"dataframe\">\n",
       "<caption>A tidytable: 240 × 3</caption>\n",
       "<thead>\n",
       "\t<tr><th scope=col>Abundance_null</th><th scope=col>OTU</th><th scope=col>dataset</th></tr>\n",
       "\t<tr><th scope=col>&lt;dbl&gt;</th><th scope=col>&lt;int&gt;</th><th scope=col>&lt;chr&gt;</th></tr>\n",
       "</thead>\n",
       "<tbody>\n",
       "\t<tr><td>0.004237781</td><td>80</td><td>mean=10,sd=2</td></tr>\n",
       "\t<tr><td>0.005185965</td><td>79</td><td>mean=10,sd=2</td></tr>\n",
       "\t<tr><td>⋮</td><td>⋮</td><td>⋮</td></tr>\n",
       "\t<tr><td>18.34302</td><td>2</td><td>mean=10,sd=2</td></tr>\n",
       "\t<tr><td>31.79878</td><td>1</td><td>mean=10,sd=2</td></tr>\n",
       "</tbody>\n",
       "</table>\n"
      ],
      "text/latex": [
       "A tidytable: 240 × 3\n",
       "\\begin{tabular}{lll}\n",
       " Abundance\\_null & OTU & dataset\\\\\n",
       " <dbl> & <int> & <chr>\\\\\n",
       "\\hline\n",
       "\t 0.004237781 & 80 & mean=10,sd=2\\\\\n",
       "\t 0.005185965 & 79 & mean=10,sd=2\\\\\n",
       "\t ⋮ & ⋮ & ⋮\\\\\n",
       "\t 18.34302 & 2 & mean=10,sd=2\\\\\n",
       "\t 31.79878 & 1 & mean=10,sd=2\\\\\n",
       "\\end{tabular}\n"
      ],
      "text/markdown": [
       "\n",
       "A tidytable: 240 × 3\n",
       "\n",
       "| Abundance_null &lt;dbl&gt; | OTU &lt;int&gt; | dataset &lt;chr&gt; |\n",
       "|---|---|---|\n",
       "| 0.004237781 | 80 | mean=10,sd=2 |\n",
       "| 0.005185965 | 79 | mean=10,sd=2 |\n",
       "| ⋮ | ⋮ | ⋮ |\n",
       "| 18.34302 | 2 | mean=10,sd=2 |\n",
       "| 31.79878 | 1 | mean=10,sd=2 |\n",
       "\n"
      ],
      "text/plain": [
       "    Abundance_null OTU dataset     \n",
       "1   0.004237781    80  mean=10,sd=2\n",
       "2   0.005185965    79  mean=10,sd=2\n",
       "⋮   ⋮              ⋮   ⋮           \n",
       "239 18.34302       2   mean=10,sd=2\n",
       "240 31.79878       1   mean=10,sd=2"
      ]
     },
     "metadata": {},
     "output_type": "display_data"
    }
   ],
   "source": [
    "# null\n",
    "n_taxa = 80\n",
    "df0 = data.frame(Abundance_null = rlnorm(n_taxa, meanlog=2, sdlog=0.5)) %>%\n",
    "    mutate(OTU = row_number(-Abundance_null)) %>%\n",
    "    mutate.(Abundance_null = Abundance_null / sum(Abundance_null) * 100,\n",
    "            dataset = 'mean=10,sd=0.5')\n",
    "df1 = data.frame(Abundance_null = rlnorm(n_taxa, meanlog=2, sdlog=1)) %>%\n",
    "    mutate(OTU = row_number(-Abundance_null)) %>%\n",
    "    mutate.(Abundance_null = Abundance_null / sum(Abundance_null) * 100,\n",
    "            dataset = 'mean=10,sd=1')\n",
    "df2 = data.frame(Abundance_null = rlnorm(n_taxa, meanlog=2, sdlog=2)) %>%\n",
    "    mutate(OTU = row_number(-Abundance_null)) %>%\n",
    "    mutate.(Abundance_null = Abundance_null / sum(Abundance_null) * 100,\n",
    "            dataset = 'mean=10,sd=2')\n",
    "df = rbindlist(list(df0, df1, df2), use.names=TRUE)\n",
    "df %>% arrange.(Abundance_null)"
   ]
  },
  {
   "cell_type": "code",
   "execution_count": 18,
   "metadata": {
    "ExecuteTime": {
     "end_time": "2021-10-26T18:32:56.387270Z",
     "start_time": "2021-10-26T18:32:55.006Z"
    }
   },
   "outputs": [
    {
     "name": "stdout",
     "output_type": "stream",
     "text": [
      "No. of unique OTUs: 268 \n"
     ]
    },
    {
     "name": "stderr",
     "output_type": "stream",
     "text": [
      "Warning message:\n",
      "“Transformation introduced infinite values in continuous y-axis”\n"
     ]
    },
    {
     "data": {
      "image/png": "[encoded data removed]",
      "text/plain": [
       "plot without title"
      ]
     },
     "metadata": {
      "image/png": {
       "height": 500,
       "width": 800
      }
     },
     "output_type": "display_data"
    }
   ],
   "source": [
    "# plotting\n",
    " comm %>%\n",
    "    summarize.(sum_abund = sum(Abundance),\n",
    "            .by=c(OTU)) %>%\n",
    "    filter.(sum_abund > 0) %>%\n",
    "    .$OTU %>% unique_n('OTUs')\n",
    "\n",
    "p = comm %>%\n",
    "    mutate.(OTU = OTU_rank) %>%\n",
    "    mutate.(sum_abund = sum(Abundance),\n",
    "            .by=c(OTU)) %>%\n",
    "    filter.(sum_abund > 0) %>%\n",
    "    mutate.(Sample = Sample %>% reorder(Sample %>% as.Num)) %>%\n",
    "    inner_join.(df, c('OTU'='OTU')) %>%\n",
    "    ggplot(aes(OTU, Abundance)) +\n",
    "    geom_line(aes(y=Abundance_null, color=dataset), size=0.5) +\n",
    "    geom_point(size=0.5) +\n",
    "    scale_color_discrete('Lognorm params') +\n",
    "    scale_y_log10() +\n",
    "    labs(y='% abundance') +\n",
    "    facet_wrap(~ Sample) +\n",
    "    theme_bw() +\n",
    "    theme(\n",
    "        panel.grid = element_blank()\n",
    "    )\n",
    "p.dims(8,5)\n",
    "plot(p)"
   ]
  },
  {
   "cell_type": "markdown",
   "metadata": {},
   "source": [
    "# LLMGP\n",
    "\n",
    "* checking abundance distributions of the reads"
   ]
  },
  {
   "cell_type": "markdown",
   "metadata": {},
   "source": [
    "### Config"
   ]
  },
  {
   "cell_type": "code",
   "execution_count": 19,
   "metadata": {
    "ExecuteTime": {
     "end_time": "2021-10-27T07:42:19.728368Z",
     "start_time": "2021-10-27T07:42:19.521Z"
    }
   },
   "outputs": [
    {
     "name": "stdout",
     "output_type": "stream",
     "text": [
      "# DESCRIPTION:\n",
      "## This is an example of running the pipeline with a custom humann2 db.\n",
      "## This config is set up to just use the custom nucleotide db, but the protein db could be used also (or instead)\n",
      "\n",
      "#-- I/O --#\n",
      "# table with sample --> read_file information\n",
      "samples_file: /ebio/abt3_scratch/nyoungblut/CAMI/CAMI2_HMP-gut/samples.tsv\n",
      "\n",
      "# output location\n",
      "output_dir:  /ebio/abt3_projects/databases_no-backup/DeepMAsED/version2/CAMI/CAMI2_HMP-gut/short_read/LLMGP/\n",
      "\n",
      "# temporary file directory (your username will be added automatically)\n",
      "tmp_dir: /ebio/abt3_scratch/\n",
      "\n",
      "# read file path\n",
      "# use \"None\" if full file path is included in the samples_file\n",
      "read_file_path: None\n",
      "\n",
      "#-- DB --#\n",
      "# NOTE: the humann & kraken databases were built from the GTDB\n",
      "## humann3\n",
      "humann3_dbs:\n",
      "  metaphlan3_mpa_db: /ebio/abt3_projects/databases_no-backup/metaphlan3/201901/mpa_v30_CHOCOPhlAn_201901_marker_info.txt\n",
      "  nuc_db: /ebio/abt3_projects/databases_no-backup/GTDB/release202/Struo2/humann3/uniref50/genome_reps_filt_annot.fna.gz\n",
      "  prot_db: /ebio/abt3_projects/databases_no-backup/GTDB/release202/Struo2/humann3/uniref50/protein_database/uniref50_201901.dmnd\n",
      "  utility_mapping_db: /ebio/abt3_projects/databases_no-backup/humann3/201901/utility_mapping/README.md\n",
      "  genefamily_annotation_db: /ebio/abt3_projects/databases_no-backup/humann3/201901/utility_mapping/map_uniref50_name.txt.gz\n",
      "## kraken/bracken (db selected automatically based on read length)\n",
      "kraken_dbs:\n",
      "  hash: /ebio/abt3_projects/databases_no-backup/GTDB/release202/Struo2/kraken2/hash.k2d\n",
      "  opts: /ebio/abt3_projects/databases_no-backup/GTDB/release202/Struo2/kraken2/opts.k2d\n",
      "  taxo: /ebio/abt3_projects/databases_no-backup/GTDB/release202/Struo2/kraken2/taxo.k2d\n",
      "  taxdump: /ebio/abt3_projects/databases_no-backup/GTDB/release202/taxdump/names.dmp\n",
      "  tree: /ebio/abt3_projects/databases_no-backup/GTDB/release202/Struo2/phylogeny/kraken.nwk \n",
      "bracken_dbs:\n",
      "  150: /ebio/abt3_projects/databases_no-backup/GTDB/release202/Struo2/kraken2/database150mers.kmer_distrib\n",
      "  100: /ebio/abt3_projects/databases_no-backup/GTDB/release202/Struo2/kraken2/database100mers.kmer_distrib\n",
      "genome_content_dbs:\n",
      "  cog: /ebio/abt3_projects/databases_no-backup/GTDB/release202/Struo2/genome_content/uniref90_cog-categories.tsv\n",
      "  pfam: /ebio/abt3_projects/databases_no-backup/GTDB/release202/Struo2/genome_content/uniref90_pfam-categories.tsv\n",
      "  traitar: /ebio/abt3_projects/databases_no-backup/GTDB/release202/Struo2/genome_content/traitar_majority-votes.tsv\n",
      "# EukDetect\n",
      "eukdetect_dbs:\n",
      "  bt2: /ebio/abt3_projects/databases_no-backup/EukDetect/eukdetect_database_v1/all_buscos_v4.fna\n",
      "  taxid: /ebio/abt3_projects/databases_no-backup/EukDetect/eukdetect_database_v1/busco_taxid_link.txt\n",
      "  markers: /ebio/abt3_projects/databases_no-backup/EukDetect/eukdetect_database_v1/specific_and_inherited_markers_per_taxid.txt\n",
      "  sqlite: /ebio/abt3_projects/databases_no-backup/EukDetect/eukdetect_database_v1/taxa.sqlite\n",
      "# raspir\n",
      "raspir_dbs:\n",
      "  fasta: /ebio/abt3_projects/databases_no-backup/raspir/bacteria-archaea/complete_bac-arc_201910_3.fasta.gz\n",
      "\n",
      "#-- subsample --#\n",
      "# subsampling input reads \n",
      "## \"Skip\" skips subsampling; otherwise set the number of reads to subsample\n",
      "subsample_depth: 5000000\n",
      "subsample_seed: 18938\n",
      "\n",
      "#-- include read2 (if paired-end) --#\n",
      "# combine R1 & R2 or just use R1?\n",
      "include_read2: True\n",
      "\n",
      "#-- humann3 groupings --#\n",
      "# always have at least the \"*_default\" grouping\n",
      "humann_regroup:\n",
      "  - uniref50_default\n",
      "  - uniref50_go\n",
      "  - uniref50_ko\n",
      "  - uniref50_eggnog\n",
      "  - uniref50_pfam\n",
      "  - uniref50_level4ec\n",
      "  - uniref50_rxn\n",
      "\n",
      "#-- master control --#\n",
      "# high-level control of major pipeline steps\n",
      "run_humann3: Skip #True\n",
      "run_kraken2_bracken: True\n",
      "run_simka: Skip #True\n",
      "run_hulk: Skip #True\n",
      "run_raspir: Skip #True\n",
      "run_eukdetect: Skip #True\n",
      "\n",
      "#-- software parameters --#\n",
      "# Use \"Skip\" to skip particular steps\n",
      "params:\n",
      "  ionice: -c 3  \n",
      "  # humann3\n",
      "  metaphlan3: -t rel_ab\n",
      "  humann3:\n",
      "    run: --gap-fill on --bypass-nucleotide-index --search-mode uniref50 --memory-use maximum --remove-temp-output\n",
      "    diamond: --mid-sensitive --query-cover 80 --id 50 --max-target-seqs 1 --block-size 4 --index-chunks 2 \n",
      "    diamond_evalue: 0.001\n",
      "    reduce_taxonomic_profile: --function max --sort-by level\n",
      "    renorm_table: --units relab\n",
      "    diversity:\n",
      "      pathway_coverage_cutoff: 0.8  # pathways w/ < coverage changed to 0\n",
      "      rarefy_depths:           # multiple rarefying depths allowed\n",
      "        - Skip\n",
      "        - 100000\n",
      "        - 500000\n",
      "      rarefy_params: flexible\n",
      "      alpha_metrics:\n",
      "        - shannon\n",
      "        - pielou_e\n",
      "      beta_metrics:\n",
      "        - braycurtis\n",
      "        - jaccard\n",
      "  # kraken/bracken\n",
      "  krk_brk:\n",
      "    kraken: \"\"\n",
      "    bracken: -t 10 -l S        # species level (S); `-r` parameter set automatically\n",
      "    diversity:\n",
      "      rarefy_depths:           # multiple rarefying depths allowed\n",
      "        - Skip\n",
      "        - 50000\n",
      "      rarefy_params: --p-no-with-replacement\n",
      "      alpha_metrics:\n",
      "        - shannon\n",
      "        - pielou_e\n",
      "      alpha_phylo_metrics:\n",
      "        - faith_pd\n",
      "      beta_metrics:\n",
      "        - braycurtis\n",
      "        - jaccard\n",
      "      beta_phylo_metrics:\n",
      "        - weighted_unifrac    \n",
      "        - unweighted_unifrac\n",
      "      ecophylogenetic: \"\"\n",
      "      functional: Skip\n",
      "      hill:\n",
      "        taxa: --hill-number 0 1 2\n",
      "        phylogeny: --hill-number 0 1 2\n",
      "        function: --hill-number 0 1 2\n",
      "  # simka \n",
      "  simka:\n",
      "    run: -kmer-size 31 -abundance-min 2 -simple-dist -max-reads 1000000\n",
      "    vis: -width 8 -height 8 -pca -heatmap\n",
      "  # hulk\n",
      "  hulk:\n",
      "    histosketch: -k 21 -m 2\n",
      "    distance: \n",
      "      - jaccard\n",
      "      - braycurtis\n",
      "  # raspir\n",
      "  raspir:\n",
      "    run: \"\"\n",
      "  # EukDetect\n",
      "  eukdetect:\n",
      "    min_read_len: 80\n",
      "\n",
      "#-- snakemake pipeline --#\n",
      "pipeline:\n",
      "  snakemake_folder: ./\n",
      "  script_folder: ./bin/scripts/\n",
      "  name: LLMGP"
     ]
    }
   ],
   "source": [
    "F = file.path(work_dir, 'LLMGP', 'config_custom-db_r202.yaml')\n",
    "cat_file(F)"
   ]
  },
  {
   "cell_type": "markdown",
   "metadata": {},
   "source": [
    "### Run"
   ]
  },
  {
   "cell_type": "markdown",
   "metadata": {},
   "source": [
    "```\n",
    "(snakemake) @ rick:/ebio/abt3_projects/software/dev/ll_pipelines/llmgp\n",
    "$ screen -L -S llmgp-cami-gut ./snakemake_sge.sh /ebio/abt3_projects/databases_no-backup/DeepMAsED/version2/CAMI/CAMI2_HMP-gut/short_read/LLMGP/config_custom-db_r202.yaml 20 -F\n",
    "```"
   ]
  },
  {
   "cell_type": "markdown",
   "metadata": {},
   "source": [
    "## Summary"
   ]
  },
  {
   "cell_type": "code",
   "execution_count": 21,
   "metadata": {
    "ExecuteTime": {
     "end_time": "2021-10-27T08:59:33.154987Z",
     "start_time": "2021-10-27T08:59:32.858Z"
    }
   },
   "outputs": [
    {
     "data": {
      "text/html": [
       "<table class=\"dataframe\">\n",
       "<caption>A tidytable: 55290 × 12</caption>\n",
       "<thead>\n",
       "\t<tr><th scope=col>name</th><th scope=col>taxonomy_id</th><th scope=col>taxonomy_lvl</th><th scope=col>Domain</th><th scope=col>Phylum</th><th scope=col>Class</th><th scope=col>Order</th><th scope=col>Family</th><th scope=col>Genus</th><th scope=col>Species</th><th scope=col>Sample</th><th scope=col>Abundance</th></tr>\n",
       "\t<tr><th scope=col>&lt;chr&gt;</th><th scope=col>&lt;int&gt;</th><th scope=col>&lt;chr&gt;</th><th scope=col>&lt;chr&gt;</th><th scope=col>&lt;chr&gt;</th><th scope=col>&lt;chr&gt;</th><th scope=col>&lt;chr&gt;</th><th scope=col>&lt;chr&gt;</th><th scope=col>&lt;chr&gt;</th><th scope=col>&lt;chr&gt;</th><th scope=col>&lt;chr&gt;</th><th scope=col>&lt;dbl&gt;</th></tr>\n",
       "</thead>\n",
       "<tbody>\n",
       "\t<tr><td>s__Lachnoclostridium sp003526525</td><td>282324</td><td>S</td><td>Bacteria</td><td>Firmicutes_A</td><td>Clostridia </td><td>Lachnospirales</td><td>Lachnospiraceae</td><td>Lachnoclostridium</td><td>Lachnoclostridium sp003526525</td><td>X2017_12_04_18_45_54_sample_0</td><td>0e+00</td></tr>\n",
       "\t<tr><td>s__Prevotella salivae           </td><td>230347</td><td>S</td><td>Bacteria</td><td>Bacteroidota</td><td>Bacteroidia</td><td>Bacteroidales </td><td>Bacteroidaceae </td><td>Prevotella       </td><td>Prevotella salivae           </td><td>X2017_12_04_18_45_54_sample_0</td><td>1e-05</td></tr>\n",
       "\t<tr><td>⋮</td><td>⋮</td><td>⋮</td><td>⋮</td><td>⋮</td><td>⋮</td><td>⋮</td><td>⋮</td><td>⋮</td><td>⋮</td><td>⋮</td><td>⋮</td></tr>\n",
       "\t<tr><td>s__Mixta calida       </td><td>175005</td><td>S</td><td>Bacteria</td><td>Proteobacteria</td><td>Gammaproteobacteria</td><td>Enterobacterales</td><td>Enterobacteriaceae</td><td>Mixta  </td><td>Mixta calida       </td><td>X2017_12_04_18_45_54_sample_12</td><td>0</td></tr>\n",
       "\t<tr><td>s__Fortiea sp000316575</td><td>319859</td><td>S</td><td>Bacteria</td><td>Cyanobacteria </td><td>Cyanobacteriia     </td><td>Cyanobacteriales</td><td>Nostocaceae       </td><td>Fortiea</td><td>Fortiea sp000316575</td><td>X2017_12_04_18_45_54_sample_12</td><td>0</td></tr>\n",
       "</tbody>\n",
       "</table>\n"
      ],
      "text/latex": [
       "A tidytable: 55290 × 12\n",
       "\\begin{tabular}{llllllllllll}\n",
       " name & taxonomy\\_id & taxonomy\\_lvl & Domain & Phylum & Class & Order & Family & Genus & Species & Sample & Abundance\\\\\n",
       " <chr> & <int> & <chr> & <chr> & <chr> & <chr> & <chr> & <chr> & <chr> & <chr> & <chr> & <dbl>\\\\\n",
       "\\hline\n",
       "\t s\\_\\_Lachnoclostridium sp003526525 & 282324 & S & Bacteria & Firmicutes\\_A & Clostridia  & Lachnospirales & Lachnospiraceae & Lachnoclostridium & Lachnoclostridium sp003526525 & X2017\\_12\\_04\\_18\\_45\\_54\\_sample\\_0 & 0e+00\\\\\n",
       "\t s\\_\\_Prevotella salivae            & 230347 & S & Bacteria & Bacteroidota & Bacteroidia & Bacteroidales  & Bacteroidaceae  & Prevotella        & Prevotella salivae            & X2017\\_12\\_04\\_18\\_45\\_54\\_sample\\_0 & 1e-05\\\\\n",
       "\t ⋮ & ⋮ & ⋮ & ⋮ & ⋮ & ⋮ & ⋮ & ⋮ & ⋮ & ⋮ & ⋮ & ⋮\\\\\n",
       "\t s\\_\\_Mixta calida        & 175005 & S & Bacteria & Proteobacteria & Gammaproteobacteria & Enterobacterales & Enterobacteriaceae & Mixta   & Mixta calida        & X2017\\_12\\_04\\_18\\_45\\_54\\_sample\\_12 & 0\\\\\n",
       "\t s\\_\\_Fortiea sp000316575 & 319859 & S & Bacteria & Cyanobacteria  & Cyanobacteriia      & Cyanobacteriales & Nostocaceae        & Fortiea & Fortiea sp000316575 & X2017\\_12\\_04\\_18\\_45\\_54\\_sample\\_12 & 0\\\\\n",
       "\\end{tabular}\n"
      ],
      "text/markdown": [
       "\n",
       "A tidytable: 55290 × 12\n",
       "\n",
       "| name &lt;chr&gt; | taxonomy_id &lt;int&gt; | taxonomy_lvl &lt;chr&gt; | Domain &lt;chr&gt; | Phylum &lt;chr&gt; | Class &lt;chr&gt; | Order &lt;chr&gt; | Family &lt;chr&gt; | Genus &lt;chr&gt; | Species &lt;chr&gt; | Sample &lt;chr&gt; | Abundance &lt;dbl&gt; |\n",
       "|---|---|---|---|---|---|---|---|---|---|---|---|\n",
       "| s__Lachnoclostridium sp003526525 | 282324 | S | Bacteria | Firmicutes_A | Clostridia  | Lachnospirales | Lachnospiraceae | Lachnoclostridium | Lachnoclostridium sp003526525 | X2017_12_04_18_45_54_sample_0 | 0e+00 |\n",
       "| s__Prevotella salivae            | 230347 | S | Bacteria | Bacteroidota | Bacteroidia | Bacteroidales  | Bacteroidaceae  | Prevotella        | Prevotella salivae            | X2017_12_04_18_45_54_sample_0 | 1e-05 |\n",
       "| ⋮ | ⋮ | ⋮ | ⋮ | ⋮ | ⋮ | ⋮ | ⋮ | ⋮ | ⋮ | ⋮ | ⋮ |\n",
       "| s__Mixta calida        | 175005 | S | Bacteria | Proteobacteria | Gammaproteobacteria | Enterobacterales | Enterobacteriaceae | Mixta   | Mixta calida        | X2017_12_04_18_45_54_sample_12 | 0 |\n",
       "| s__Fortiea sp000316575 | 319859 | S | Bacteria | Cyanobacteria  | Cyanobacteriia      | Cyanobacteriales | Nostocaceae        | Fortiea | Fortiea sp000316575 | X2017_12_04_18_45_54_sample_12 | 0 |\n",
       "\n"
      ],
      "text/plain": [
       "      name                             taxonomy_id taxonomy_lvl Domain  \n",
       "1     s__Lachnoclostridium sp003526525 282324      S            Bacteria\n",
       "2     s__Prevotella salivae            230347      S            Bacteria\n",
       "⋮     ⋮                                ⋮           ⋮            ⋮       \n",
       "55289 s__Mixta calida                  175005      S            Bacteria\n",
       "55290 s__Fortiea sp000316575           319859      S            Bacteria\n",
       "      Phylum         Class               Order            Family            \n",
       "1     Firmicutes_A   Clostridia          Lachnospirales   Lachnospiraceae   \n",
       "2     Bacteroidota   Bacteroidia         Bacteroidales    Bacteroidaceae    \n",
       "⋮     ⋮              ⋮                   ⋮                ⋮                 \n",
       "55289 Proteobacteria Gammaproteobacteria Enterobacterales Enterobacteriaceae\n",
       "55290 Cyanobacteria  Cyanobacteriia      Cyanobacteriales Nostocaceae       \n",
       "      Genus             Species                      \n",
       "1     Lachnoclostridium Lachnoclostridium sp003526525\n",
       "2     Prevotella        Prevotella salivae           \n",
       "⋮     ⋮                 ⋮                            \n",
       "55289 Mixta             Mixta calida                 \n",
       "55290 Fortiea           Fortiea sp000316575          \n",
       "      Sample                         Abundance\n",
       "1     X2017_12_04_18_45_54_sample_0  0e+00    \n",
       "2     X2017_12_04_18_45_54_sample_0  1e-05    \n",
       "⋮     ⋮                              ⋮        \n",
       "55289 X2017_12_04_18_45_54_sample_12 0        \n",
       "55290 X2017_12_04_18_45_54_sample_12 0        "
      ]
     },
     "metadata": {},
     "output_type": "display_data"
    }
   ],
   "source": [
    "D = '/ebio/abt3_projects/databases_no-backup/DeepMAsED/version2/CAMI/CAMI2_HMP-gut/short_read/LLMGP/'\n",
    "F = file.path(D, 'kraken', 'all-combined-bracken.tsv')\n",
    "brk = read_bracken(F)\n",
    "brk"
   ]
  },
  {
   "cell_type": "code",
   "execution_count": 37,
   "metadata": {
    "ExecuteTime": {
     "end_time": "2021-10-27T09:04:26.086716Z",
     "start_time": "2021-10-27T09:04:23.907Z"
    }
   },
   "outputs": [
    {
     "data": {
      "image/png": "[encoded data removed]",
      "text/plain": [
       "plot without title"
      ]
     },
     "metadata": {
      "image/png": {
       "height": 500,
       "width": 800
      }
     },
     "output_type": "display_data"
    }
   ],
   "source": [
    "# plotting\n",
    "p = brk %>%\n",
    "    filter.(Abundance > 0) %>%\n",
    "    mutate.(Abundance = Abundance * 100) %>%\n",
    "    mutate.(Rank = min_rank(-Abundance),\n",
    "            .by=c(Sample)) %>%\n",
    "    mutate.(Sample = gsub('.+_', '', Sample)) %>%\n",
    "    ggplot(aes(Rank, Abundance)) +\n",
    "    geom_point(size=0.2) +\n",
    "    scale_y_log10() +\n",
    "    labs(y='Abundance (%)') +\n",
    "    facet_wrap(~ Sample) +\n",
    "    theme_bw()\n",
    "p.dims(8,5)\n",
    "plot(p)"
   ]
  },
  {
   "cell_type": "code",
   "execution_count": 38,
   "metadata": {
    "ExecuteTime": {
     "end_time": "2021-10-27T17:28:57.109089Z",
     "start_time": "2021-10-27T17:28:57.018Z"
    }
   },
   "outputs": [
    {
     "data": {
      "text/html": [
       "<table class=\"dataframe\">\n",
       "<caption>A tidytable: 10 × 7</caption>\n",
       "<thead>\n",
       "\t<tr><th scope=col>Phylum</th><th scope=col>Class</th><th scope=col>Order</th><th scope=col>Family</th><th scope=col>Genus</th><th scope=col>Species</th><th scope=col>Abundance</th></tr>\n",
       "\t<tr><th scope=col>&lt;chr&gt;</th><th scope=col>&lt;chr&gt;</th><th scope=col>&lt;chr&gt;</th><th scope=col>&lt;chr&gt;</th><th scope=col>&lt;chr&gt;</th><th scope=col>&lt;chr&gt;</th><th scope=col>&lt;dbl&gt;</th></tr>\n",
       "</thead>\n",
       "<tbody>\n",
       "\t<tr><td>Proteobacteria</td><td>Gammaproteobacteria</td><td>Burkholderiales     </td><td>Burkholderiaceae</td><td>Bordetella       </td><td>Bordetella pertussis          </td><td>0.162911</td></tr>\n",
       "\t<tr><td>Firmicutes_A  </td><td>Clostridia         </td><td>Acetivibrionales    </td><td>DSM-8532        </td><td>Thermoclostridium</td><td>Thermoclostridium stercorarium</td><td>0.079077</td></tr>\n",
       "\t<tr><td>Firmicutes_A  </td><td>Clostridia         </td><td>Lachnospirales      </td><td>Lachnospiraceae </td><td>Roseburia        </td><td>Roseburia hominis             </td><td>0.055488</td></tr>\n",
       "\t<tr><td>Firmicutes_A  </td><td>Clostridia         </td><td>Clostridiales       </td><td>Clostridiaceae  </td><td>Clostridium      </td><td>Clostridium butyricum         </td><td>0.052746</td></tr>\n",
       "\t<tr><td>Proteobacteria</td><td>Gammaproteobacteria</td><td>Burkholderiales     </td><td>Burkholderiaceae</td><td>Bordetella_A     </td><td>Bordetella_A petrii           </td><td>0.052202</td></tr>\n",
       "\t<tr><td>Firmicutes_A  </td><td>Clostridia         </td><td>Clostridiales       </td><td>Clostridiaceae  </td><td>Clostridium_I    </td><td>Clostridium_I pasteurianum    </td><td>0.051801</td></tr>\n",
       "\t<tr><td>Firmicutes_A  </td><td>Clostridia         </td><td>Clostridiales       </td><td>Clostridiaceae  </td><td>Clostridium_F    </td><td>Clostridium_F botulinum       </td><td>0.034448</td></tr>\n",
       "\t<tr><td>Firmicutes_A  </td><td>Clostridia         </td><td>Peptostreptococcales</td><td>Natronincolaceae</td><td>Clostridium_W    </td><td>Clostridium_W aceticum        </td><td>0.027715</td></tr>\n",
       "\t<tr><td>Firmicutes_A  </td><td>Clostridia         </td><td>Clostridiales       </td><td>Clostridiaceae  </td><td>Clostridium_AM   </td><td>Clostridium_AM scatologenes   </td><td>0.025507</td></tr>\n",
       "\t<tr><td>Firmicutes_A  </td><td>Clostridia         </td><td>Clostridiales       </td><td>Clostridiaceae  </td><td>Clostridium      </td><td>Clostridium botulinum_A       </td><td>0.024912</td></tr>\n",
       "</tbody>\n",
       "</table>\n"
      ],
      "text/latex": [
       "A tidytable: 10 × 7\n",
       "\\begin{tabular}{lllllll}\n",
       " Phylum & Class & Order & Family & Genus & Species & Abundance\\\\\n",
       " <chr> & <chr> & <chr> & <chr> & <chr> & <chr> & <dbl>\\\\\n",
       "\\hline\n",
       "\t Proteobacteria & Gammaproteobacteria & Burkholderiales      & Burkholderiaceae & Bordetella        & Bordetella pertussis           & 0.162911\\\\\n",
       "\t Firmicutes\\_A   & Clostridia          & Acetivibrionales     & DSM-8532         & Thermoclostridium & Thermoclostridium stercorarium & 0.079077\\\\\n",
       "\t Firmicutes\\_A   & Clostridia          & Lachnospirales       & Lachnospiraceae  & Roseburia         & Roseburia hominis              & 0.055488\\\\\n",
       "\t Firmicutes\\_A   & Clostridia          & Clostridiales        & Clostridiaceae   & Clostridium       & Clostridium butyricum          & 0.052746\\\\\n",
       "\t Proteobacteria & Gammaproteobacteria & Burkholderiales      & Burkholderiaceae & Bordetella\\_A      & Bordetella\\_A petrii            & 0.052202\\\\\n",
       "\t Firmicutes\\_A   & Clostridia          & Clostridiales        & Clostridiaceae   & Clostridium\\_I     & Clostridium\\_I pasteurianum     & 0.051801\\\\\n",
       "\t Firmicutes\\_A   & Clostridia          & Clostridiales        & Clostridiaceae   & Clostridium\\_F     & Clostridium\\_F botulinum        & 0.034448\\\\\n",
       "\t Firmicutes\\_A   & Clostridia          & Peptostreptococcales & Natronincolaceae & Clostridium\\_W     & Clostridium\\_W aceticum         & 0.027715\\\\\n",
       "\t Firmicutes\\_A   & Clostridia          & Clostridiales        & Clostridiaceae   & Clostridium\\_AM    & Clostridium\\_AM scatologenes    & 0.025507\\\\\n",
       "\t Firmicutes\\_A   & Clostridia          & Clostridiales        & Clostridiaceae   & Clostridium       & Clostridium botulinum\\_A        & 0.024912\\\\\n",
       "\\end{tabular}\n"
      ],
      "text/markdown": [
       "\n",
       "A tidytable: 10 × 7\n",
       "\n",
       "| Phylum &lt;chr&gt; | Class &lt;chr&gt; | Order &lt;chr&gt; | Family &lt;chr&gt; | Genus &lt;chr&gt; | Species &lt;chr&gt; | Abundance &lt;dbl&gt; |\n",
       "|---|---|---|---|---|---|---|\n",
       "| Proteobacteria | Gammaproteobacteria | Burkholderiales      | Burkholderiaceae | Bordetella        | Bordetella pertussis           | 0.162911 |\n",
       "| Firmicutes_A   | Clostridia          | Acetivibrionales     | DSM-8532         | Thermoclostridium | Thermoclostridium stercorarium | 0.079077 |\n",
       "| Firmicutes_A   | Clostridia          | Lachnospirales       | Lachnospiraceae  | Roseburia         | Roseburia hominis              | 0.055488 |\n",
       "| Firmicutes_A   | Clostridia          | Clostridiales        | Clostridiaceae   | Clostridium       | Clostridium butyricum          | 0.052746 |\n",
       "| Proteobacteria | Gammaproteobacteria | Burkholderiales      | Burkholderiaceae | Bordetella_A      | Bordetella_A petrii            | 0.052202 |\n",
       "| Firmicutes_A   | Clostridia          | Clostridiales        | Clostridiaceae   | Clostridium_I     | Clostridium_I pasteurianum     | 0.051801 |\n",
       "| Firmicutes_A   | Clostridia          | Clostridiales        | Clostridiaceae   | Clostridium_F     | Clostridium_F botulinum        | 0.034448 |\n",
       "| Firmicutes_A   | Clostridia          | Peptostreptococcales | Natronincolaceae | Clostridium_W     | Clostridium_W aceticum         | 0.027715 |\n",
       "| Firmicutes_A   | Clostridia          | Clostridiales        | Clostridiaceae   | Clostridium_AM    | Clostridium_AM scatologenes    | 0.025507 |\n",
       "| Firmicutes_A   | Clostridia          | Clostridiales        | Clostridiaceae   | Clostridium       | Clostridium botulinum_A        | 0.024912 |\n",
       "\n"
      ],
      "text/plain": [
       "   Phylum         Class               Order                Family          \n",
       "1  Proteobacteria Gammaproteobacteria Burkholderiales      Burkholderiaceae\n",
       "2  Firmicutes_A   Clostridia          Acetivibrionales     DSM-8532        \n",
       "3  Firmicutes_A   Clostridia          Lachnospirales       Lachnospiraceae \n",
       "4  Firmicutes_A   Clostridia          Clostridiales        Clostridiaceae  \n",
       "5  Proteobacteria Gammaproteobacteria Burkholderiales      Burkholderiaceae\n",
       "6  Firmicutes_A   Clostridia          Clostridiales        Clostridiaceae  \n",
       "7  Firmicutes_A   Clostridia          Clostridiales        Clostridiaceae  \n",
       "8  Firmicutes_A   Clostridia          Peptostreptococcales Natronincolaceae\n",
       "9  Firmicutes_A   Clostridia          Clostridiales        Clostridiaceae  \n",
       "10 Firmicutes_A   Clostridia          Clostridiales        Clostridiaceae  \n",
       "   Genus             Species                        Abundance\n",
       "1  Bordetella        Bordetella pertussis           0.162911 \n",
       "2  Thermoclostridium Thermoclostridium stercorarium 0.079077 \n",
       "3  Roseburia         Roseburia hominis              0.055488 \n",
       "4  Clostridium       Clostridium butyricum          0.052746 \n",
       "5  Bordetella_A      Bordetella_A petrii            0.052202 \n",
       "6  Clostridium_I     Clostridium_I pasteurianum     0.051801 \n",
       "7  Clostridium_F     Clostridium_F botulinum        0.034448 \n",
       "8  Clostridium_W     Clostridium_W aceticum         0.027715 \n",
       "9  Clostridium_AM    Clostridium_AM scatologenes    0.025507 \n",
       "10 Clostridium       Clostridium botulinum_A        0.024912 "
      ]
     },
     "metadata": {},
     "output_type": "display_data"
    }
   ],
   "source": [
    "# most abundant\n",
    "df.dims(10)\n",
    "brk %>%\n",
    "    summarize.(Abundance = mean(Abundance),\n",
    "               .by=c(Phylum, Class, Order, Family, Genus, Species)) %>%\n",
    "    arrange.(-Abundance) %>%\n",
    "    slice_head.(n=10)"
   ]
  },
  {
   "cell_type": "markdown",
   "metadata": {},
   "source": [
    "# LLG\n",
    "\n",
    "Getting stats on `CAMI2_HMP-gut` reference genomes"
   ]
  },
  {
   "cell_type": "markdown",
   "metadata": {},
   "source": [
    "### Config"
   ]
  },
  {
   "cell_type": "code",
   "execution_count": 132,
   "metadata": {
    "ExecuteTime": {
     "end_time": "2021-08-13T06:54:59.998148Z",
     "start_time": "2021-08-13T06:54:59.900Z"
    }
   },
   "outputs": [
    {
     "name": "stdout",
     "output_type": "stream",
     "text": [
      "# table with genome --> fasta_file information\n",
      "samples_file: /ebio/abt3_projects/databases_no-backup/CAMI/CAMI2_HMP-gut/short_read/LLG/genomes.tsv\n",
      "\n",
      "# output location\n",
      "output_dir: /ebio/abt3_projects/databases_no-backup/CAMI/CAMI2_HMP-gut/short_read/LLG/\n",
      "\n",
      "# temporary file directory (your username will be added automatically)\n",
      "tmp_dir: /ebio/abt3_scratch/\n",
      "\n",
      "# batch processing of genomes for certain steps\n",
      "## increase to better parallelize\n",
      "batches: 20\n",
      "\n",
      "# Domain of genomes ('Archaea' or 'Bacteria)\n",
      "## Use \"Skip\" if provided as a \"Domain\" column in the genome table\n",
      "Domain: Bacteria\n",
      "\n",
      "# Just run certain major pipeline steps?\n",
      "run_pipeline_steps:\n",
      "  assembly_assessment: True\n",
      "  dereplication: FTrue\n",
      "  taxonomy: True\n",
      "  ANI: True\n",
      "  rRNA: FTrue\n",
      "  annotation: True\n",
      "  genome_phylogeny: True\n",
      "  phenotype: FTrue\n",
      "  BGC: FTrue\n",
      "  AMR_virulence: FTrue\n",
      "  plasmids: FTrue\n",
      "  CRISPR: FTrue\n",
      "\n",
      "# software parameters\n",
      "# Use \"Skip\" to skip any of these steps. If no params for rule, use \"\"\n",
      "# dRep MAGs are not further analyzed, but you can de-rep & then use the de-rep genome table as input.\n",
      "params:\n",
      "  ionice: -c 3\n",
      "  # assembly assessment\n",
      "  seqkit: \"\"\n",
      "  quast: \"\"\n",
      "  multiqc_on_quast: \"\" \n",
      "  checkm: \"\"\n",
      "  # de-replication (unskipped CheckM or genomeInfo file recommended)\n",
      "  drep:\n",
      "    algorithm: auto\n",
      "    params: -comp 50 -con 5 -sa 0.95\n",
      "    genomeInfo: Skip # e.g., tests/output_bac9/checkM/genomeInfo.csv\n",
      "  # taxonomy\n",
      "  sourmash:\n",
      "    compute: Skip #--scaled 10000 -k 31\n",
      "    gather: -k 31\n",
      "  gtdbtk:\n",
      "    classify_wf: --min_perc_aa 10\n",
      "  minimap2:\n",
      "    index: Skip #-k 15\n",
      "    run: -x sr -N 5\n",
      "    taxonomy: --min-coverage 0.5\n",
      "    keep_bam: True\n",
      "  # genome pairwise ANI  \n",
      "  fastani: --fragLen 3000 --minFraction 0.2 -k 16\n",
      "  dashing: Skip #-k 31 --full-tsv\n",
      "  comparem_aai: Skip #--evalue 0.001\n",
      "  # rRNA (16S alignment & phylogeny)\n",
      "  rRNA:\n",
      "    barrnap: --lencutoff 0.8\n",
      "    vsearch_per_genome_drep: --id 0.95\n",
      "    qiime2_fasttree: \"\"\n",
      "    qiime2_iqtree: --p-alrt 1000 --p-abayes --p-lbp 1000 \n",
      "                   --p-substitution-model 'GTR+I+G'\n",
      "  # gene annotation\n",
      "  gene_call:\n",
      "    prokka: Skip \n",
      "    multiqc_on_prokka: \"\"\n",
      "    prodigal: \"\"\n",
      "  eggnog_mapper:\n",
      "    map: Skip \n",
      "    annot: Skip \n",
      "  # genome phylogeny (requires annotation)\n",
      "  phylophlan:\n",
      "    config: --map_dna diamond --db_aa diamond --map_aa diamond\n",
      "            --msa mafft --trim trimal --tree1 fasttree --tree2 raxml\n",
      "    accuracy: --auto \n",
      "    other_params: --diversity high --min_num_markers 50\n",
      "  # phenotype (requires annotation)\n",
      "  traitar: \"\"\n",
      "  # biosynthetic gene clusters (BGCs)\n",
      "  antismash: --cb-knownclusters --cb-subclusters --asf  \n",
      "  DeepBGC: --score 0.5 --classifier-score 0.5\n",
      "  bigscape: --cutoffs 0.3 --mibig\n",
      "  # antimicrobial resistance (AMR) & virulence \n",
      "  abricate: --minid 75 --mincov 80\n",
      "  RGI: --alignment_tool BLAST\n",
      "  pathofact_virulence: -E 1e-10\n",
      "  pathofact_toxin: -T 40\n",
      "  # plasmids\n",
      "  platon: --mode accuracy\n",
      "  plasflow: --threshold 0.7\n",
      "  # CRISPRs\n",
      "  cctyper: --prodigal meta\n",
      "  \n",
      "# databases\n",
      "databases:\n",
      "  checkM_data: /ebio/abt3_projects/databases_no-backup/checkM/\n",
      "  sourmash: /ebio/abt3_projects/databases_no-backup/sourmash/genbank-k31.sbt.json\n",
      "  sourmash_lca: /ebio/abt3_projects/databases_no-backup/sourmash/genbank-k31.lca.json.gz\n",
      "  gtdbtk: /ebio/abt3_projects/databases_no-backup/GTDB/release95/gtdbtk/db_info.md\n",
      "  minimap2: /ebio/abt3_projects/databases_no-backup/minimap2/GTDBr95_refGenomes.fna.gz\n",
      "  phylophlan: /ebio/abt3_projects/databases_no-backup/phylophlan/PhyloPhlan/phylophlan.faa.bz2\n",
      "  eggnog: /ebio/abt3_projects/databases_no-backup/Eggnog/v2/eggnog.db\n",
      "  eggnog_diamond: /ebio/abt3_projects/databases_no-backup/Eggnog/v2/eggnog_proteins.dmnd\n",
      "  antismash: /ebio/abt3_projects/databases_no-backup/antismash/v5/  \n",
      "  deepbgc: /ebio/abt3_projects/databases_no-backup/DeepBGC/\n",
      "  bigscape: /ebio/abt3_projects/databases_no-backup/BiGSCAPE/2021-04-03/Pfam-A.hmm\n",
      "  traitar: /ebio/abt3_projects/databases_no-backup/pfam/traitar/\n",
      "  platon: /ebio/abt3_projects/databases_no-backup/platon/2021-04/README.md\n",
      "  taxdump: \n",
      "    names: /ebio/abt3_projects/databases_no-backup/GTDB/release95/taxdump/names.dmp\n",
      "    nodes: /ebio/abt3_projects/databases_no-backup/GTDB/release95/taxdump/nodes.dmp\n",
      "  abricate:\n",
      "    ncbi: /ebio/abt3_projects/databases_no-backup/abricate/ncbi/sequences\n",
      "    card: /ebio/abt3_projects/databases_no-backup/abricate/card/sequences\n",
      "    resfinder: /ebio/abt3_projects/databases_no-backup/abricate/resfinder/sequences\n",
      "    argannot: /ebio/abt3_projects/databases_no-backup/abricate/argannot/sequences\n",
      "    bacmet2: /ebio/abt3_projects/databases_no-backup/abricate/bacmet2/sequences\n",
      "    vfdb: /ebio/abt3_projects/databases_no-backup/abricate/vfdb/sequences\n",
      "    megares: /ebio/abt3_projects/databases_no-backup/abricate/megares/sequences\n",
      "    plasmidfinder: /ebio/abt3_projects/databases_no-backup/abricate/plasmidfinder/sequences\n",
      "  RGI:\n",
      "    card:\n",
      "      json: /ebio/abt3_projects/databases_no-backup/CARD/v3.0.9/card.json\n",
      "      fasta: /ebio/abt3_projects/databases_no-backup/CARD/v3.0.9/card_database_v3.0.9.fasta\n",
      "  pathofact:\n",
      "    vir_hmm: /ebio/abt3_projects/databases_no-backup/PathoFact/v1.0/virulence/Virulence_factor.hmm\n",
      "    pos_dom: /ebio/abt3_projects/databases_no-backup/PathoFact/v1.0/models_and_domains/positive_domains.tsv\n",
      "    neg_dom: /ebio/abt3_projects/databases_no-backup/PathoFact/v1.0/models_and_domains/negative_domains.tsv\n",
      "    shared_dom: /ebio/abt3_projects/databases_no-backup/PathoFact/v1.0/models_and_domains/shared_domains.tsv\n",
      "    model: /ebio/abt3_projects/databases_no-backup/PathoFact/v1.0/virulence/Virulence_factor_model.sav\n",
      "    toxin_hmm: /ebio/abt3_projects/databases_no-backup/PathoFact/v1.0/toxins/combined_Toxin.hmm\n",
      "    toxin_names: /ebio/abt3_projects/databases_no-backup/PathoFact/v1.0/toxins/library_HMM_Toxins.tsv\n",
      "    \n",
      "# snakemake pipeline\n",
      "pipeline:\n",
      "  snakemake_folder: ./\n",
      "  script_folder: ./bin/scripts/\n",
      "  use_shared_mem: True\n",
      "  name: LLG"
     ]
    }
   ],
   "source": [
    "F = file.path(work_dir, 'LLG', 'config.yaml')\n",
    "cat_file(F)"
   ]
  },
  {
   "cell_type": "markdown",
   "metadata": {},
   "source": [
    "### Run"
   ]
  },
  {
   "cell_type": "markdown",
   "metadata": {},
   "source": [
    "```\n",
    "(snakemake) @ rick:/ebio/abt3_projects/software/dev/ll_pipelines/llg\n",
    "screen -L -S llg-cami ./snakemake_sge.sh /ebio/abt3_projects/databases_no-backup/CAMI/CAMI2_HMP-gut/short_read/LLG/config.yaml 30 -F\n",
    "```"
   ]
  },
  {
   "cell_type": "markdown",
   "metadata": {},
   "source": [
    "## Summary"
   ]
  },
  {
   "cell_type": "markdown",
   "metadata": {},
   "source": [
    "### CheckM"
   ]
  },
  {
   "cell_type": "code",
   "execution_count": 136,
   "metadata": {
    "ExecuteTime": {
     "end_time": "2021-08-13T07:04:45.125933Z",
     "start_time": "2021-08-13T07:04:45.060Z"
    }
   },
   "outputs": [
    {
     "data": {
      "text/html": [
       "<table class=\"dataframe\">\n",
       "<caption>A data.table: 1057 × 33</caption>\n",
       "<thead>\n",
       "\t<tr><th scope=col>Bin.Id</th><th scope=col>Marker.lineage</th><th scope=col>X..genomes</th><th scope=col>X..markers</th><th scope=col>X..marker.sets</th><th scope=col>Completeness</th><th scope=col>Contamination</th><th scope=col>Strain.heterogeneity</th><th scope=col>Genome.size..bp.</th><th scope=col>X..ambiguous.bases</th><th scope=col>⋯</th><th scope=col>X0</th><th scope=col>X1</th><th scope=col>X2</th><th scope=col>X3</th><th scope=col>X4</th><th scope=col>X5.</th><th scope=col>assembly.Id</th><th scope=col>assembler.Id</th><th scope=col>taxon.Id</th><th scope=col>File</th></tr>\n",
       "\t<tr><th scope=col>&lt;chr&gt;</th><th scope=col>&lt;chr&gt;</th><th scope=col>&lt;int&gt;</th><th scope=col>&lt;int&gt;</th><th scope=col>&lt;int&gt;</th><th scope=col>&lt;dbl&gt;</th><th scope=col>&lt;dbl&gt;</th><th scope=col>&lt;dbl&gt;</th><th scope=col>&lt;int&gt;</th><th scope=col>&lt;int&gt;</th><th scope=col>⋯</th><th scope=col>&lt;int&gt;</th><th scope=col>&lt;int&gt;</th><th scope=col>&lt;int&gt;</th><th scope=col>&lt;int&gt;</th><th scope=col>&lt;int&gt;</th><th scope=col>&lt;int&gt;</th><th scope=col>&lt;chr&gt;</th><th scope=col>&lt;chr&gt;</th><th scope=col>&lt;lgl&gt;</th><th scope=col>&lt;chr&gt;</th></tr>\n",
       "</thead>\n",
       "<tbody>\n",
       "\t<tr><td>GCA_000007465_2_ASM746v2 </td><td>o__Lactobacillales (UID544) </td><td>293</td><td>471</td><td>267</td><td>100.00</td><td>0.00</td><td>0</td><td>2032925</td><td>0</td><td>⋯</td><td>0</td><td>471</td><td>0</td><td>0</td><td>0</td><td>0</td><td>|ebio|abt3_projects|databases_no-backup|CAMI|CAMI2_HMP-gut|short_read|LLG|checkM|1|checkm|markers_qa_summary.tsv.1</td><td>markers_qa_summary.tsv.1</td><td>NA</td><td>/ebio/abt3_projects/databases_no-backup/CAMI/CAMI2_HMP-gut/short_read/LLG/checkM/1/checkm/markers_qa_summary.tsv.1</td></tr>\n",
       "\t<tr><td>GCA_000011785_1_ASM1178v1</td><td>f__Pasteurellaceae (UID4932)</td><td> 83</td><td>762</td><td>437</td><td> 99.89</td><td>0.46</td><td>0</td><td>2012878</td><td>0</td><td>⋯</td><td>1</td><td>759</td><td>2</td><td>0</td><td>0</td><td>0</td><td>|ebio|abt3_projects|databases_no-backup|CAMI|CAMI2_HMP-gut|short_read|LLG|checkM|1|checkm|markers_qa_summary.tsv.2</td><td>markers_qa_summary.tsv.2</td><td>NA</td><td>/ebio/abt3_projects/databases_no-backup/CAMI/CAMI2_HMP-gut/short_read/LLG/checkM/1/checkm/markers_qa_summary.tsv.2</td></tr>\n",
       "\t<tr><td>⋮</td><td>⋮</td><td>⋮</td><td>⋮</td><td>⋮</td><td>⋮</td><td>⋮</td><td>⋮</td><td>⋮</td><td>⋮</td><td>⋱</td><td>⋮</td><td>⋮</td><td>⋮</td><td>⋮</td><td>⋮</td><td>⋮</td><td>⋮</td><td>⋮</td><td>⋮</td><td>⋮</td></tr>\n",
       "\t<tr><td>GCA_001936415_1_ASM193641v1</td><td>o__Lactobacillales (UID544) </td><td>293</td><td>475</td><td>267</td><td>100.00</td><td>0</td><td>0</td><td>2094030</td><td>0</td><td>⋯</td><td>0</td><td>475</td><td>0</td><td>0</td><td>0</td><td>0</td><td>|ebio|abt3_projects|databases_no-backup|CAMI|CAMI2_HMP-gut|short_read|LLG|checkM|20|checkm|markers_qa_summary.tsv.51</td><td>markers_qa_summary.tsv.51</td><td>NA</td><td>/ebio/abt3_projects/databases_no-backup/CAMI/CAMI2_HMP-gut/short_read/LLG/checkM/20/checkm/markers_qa_summary.tsv.51</td></tr>\n",
       "\t<tr><td>GCA_900078695_1_H044680328 </td><td>o__Burkholderiales (UID4000)</td><td>193</td><td>427</td><td>214</td><td> 98.91</td><td>0</td><td>0</td><td>4485537</td><td>0</td><td>⋯</td><td>3</td><td>424</td><td>0</td><td>0</td><td>0</td><td>0</td><td>|ebio|abt3_projects|databases_no-backup|CAMI|CAMI2_HMP-gut|short_read|LLG|checkM|20|checkm|markers_qa_summary.tsv.52</td><td>markers_qa_summary.tsv.52</td><td>NA</td><td>/ebio/abt3_projects/databases_no-backup/CAMI/CAMI2_HMP-gut/short_read/LLG/checkM/20/checkm/markers_qa_summary.tsv.52</td></tr>\n",
       "</tbody>\n",
       "</table>\n"
      ],
      "text/latex": [
       "A data.table: 1057 × 33\n",
       "\\begin{tabular}{lllllllllllllllllllll}\n",
       " Bin.Id & Marker.lineage & X..genomes & X..markers & X..marker.sets & Completeness & Contamination & Strain.heterogeneity & Genome.size..bp. & X..ambiguous.bases & ⋯ & X0 & X1 & X2 & X3 & X4 & X5. & assembly.Id & assembler.Id & taxon.Id & File\\\\\n",
       " <chr> & <chr> & <int> & <int> & <int> & <dbl> & <dbl> & <dbl> & <int> & <int> & ⋯ & <int> & <int> & <int> & <int> & <int> & <int> & <chr> & <chr> & <lgl> & <chr>\\\\\n",
       "\\hline\n",
       "\t GCA\\_000007465\\_2\\_ASM746v2  & o\\_\\_Lactobacillales (UID544)  & 293 & 471 & 267 & 100.00 & 0.00 & 0 & 2032925 & 0 & ⋯ & 0 & 471 & 0 & 0 & 0 & 0 & \\textbar{}ebio\\textbar{}abt3\\_projects\\textbar{}databases\\_no-backup\\textbar{}CAMI\\textbar{}CAMI2\\_HMP-gut\\textbar{}short\\_read\\textbar{}LLG\\textbar{}checkM\\textbar{}1\\textbar{}checkm\\textbar{}markers\\_qa\\_summary.tsv.1 & markers\\_qa\\_summary.tsv.1 & NA & /ebio/abt3\\_projects/databases\\_no-backup/CAMI/CAMI2\\_HMP-gut/short\\_read/LLG/checkM/1/checkm/markers\\_qa\\_summary.tsv.1\\\\\n",
       "\t GCA\\_000011785\\_1\\_ASM1178v1 & f\\_\\_Pasteurellaceae (UID4932) &  83 & 762 & 437 &  99.89 & 0.46 & 0 & 2012878 & 0 & ⋯ & 1 & 759 & 2 & 0 & 0 & 0 & \\textbar{}ebio\\textbar{}abt3\\_projects\\textbar{}databases\\_no-backup\\textbar{}CAMI\\textbar{}CAMI2\\_HMP-gut\\textbar{}short\\_read\\textbar{}LLG\\textbar{}checkM\\textbar{}1\\textbar{}checkm\\textbar{}markers\\_qa\\_summary.tsv.2 & markers\\_qa\\_summary.tsv.2 & NA & /ebio/abt3\\_projects/databases\\_no-backup/CAMI/CAMI2\\_HMP-gut/short\\_read/LLG/checkM/1/checkm/markers\\_qa\\_summary.tsv.2\\\\\n",
       "\t ⋮ & ⋮ & ⋮ & ⋮ & ⋮ & ⋮ & ⋮ & ⋮ & ⋮ & ⋮ & ⋱ & ⋮ & ⋮ & ⋮ & ⋮ & ⋮ & ⋮ & ⋮ & ⋮ & ⋮ & ⋮\\\\\n",
       "\t GCA\\_001936415\\_1\\_ASM193641v1 & o\\_\\_Lactobacillales (UID544)  & 293 & 475 & 267 & 100.00 & 0 & 0 & 2094030 & 0 & ⋯ & 0 & 475 & 0 & 0 & 0 & 0 & \\textbar{}ebio\\textbar{}abt3\\_projects\\textbar{}databases\\_no-backup\\textbar{}CAMI\\textbar{}CAMI2\\_HMP-gut\\textbar{}short\\_read\\textbar{}LLG\\textbar{}checkM\\textbar{}20\\textbar{}checkm\\textbar{}markers\\_qa\\_summary.tsv.51 & markers\\_qa\\_summary.tsv.51 & NA & /ebio/abt3\\_projects/databases\\_no-backup/CAMI/CAMI2\\_HMP-gut/short\\_read/LLG/checkM/20/checkm/markers\\_qa\\_summary.tsv.51\\\\\n",
       "\t GCA\\_900078695\\_1\\_H044680328  & o\\_\\_Burkholderiales (UID4000) & 193 & 427 & 214 &  98.91 & 0 & 0 & 4485537 & 0 & ⋯ & 3 & 424 & 0 & 0 & 0 & 0 & \\textbar{}ebio\\textbar{}abt3\\_projects\\textbar{}databases\\_no-backup\\textbar{}CAMI\\textbar{}CAMI2\\_HMP-gut\\textbar{}short\\_read\\textbar{}LLG\\textbar{}checkM\\textbar{}20\\textbar{}checkm\\textbar{}markers\\_qa\\_summary.tsv.52 & markers\\_qa\\_summary.tsv.52 & NA & /ebio/abt3\\_projects/databases\\_no-backup/CAMI/CAMI2\\_HMP-gut/short\\_read/LLG/checkM/20/checkm/markers\\_qa\\_summary.tsv.52\\\\\n",
       "\\end{tabular}\n"
      ],
      "text/markdown": [
       "\n",
       "A data.table: 1057 × 33\n",
       "\n",
       "| Bin.Id &lt;chr&gt; | Marker.lineage &lt;chr&gt; | X..genomes &lt;int&gt; | X..markers &lt;int&gt; | X..marker.sets &lt;int&gt; | Completeness &lt;dbl&gt; | Contamination &lt;dbl&gt; | Strain.heterogeneity &lt;dbl&gt; | Genome.size..bp. &lt;int&gt; | X..ambiguous.bases &lt;int&gt; | ⋯ ⋯ | X0 &lt;int&gt; | X1 &lt;int&gt; | X2 &lt;int&gt; | X3 &lt;int&gt; | X4 &lt;int&gt; | X5. &lt;int&gt; | assembly.Id &lt;chr&gt; | assembler.Id &lt;chr&gt; | taxon.Id &lt;lgl&gt; | File &lt;chr&gt; |\n",
       "|---|---|---|---|---|---|---|---|---|---|---|---|---|---|---|---|---|---|---|---|---|\n",
       "| GCA_000007465_2_ASM746v2  | o__Lactobacillales (UID544)  | 293 | 471 | 267 | 100.00 | 0.00 | 0 | 2032925 | 0 | ⋯ | 0 | 471 | 0 | 0 | 0 | 0 | |ebio|abt3_projects|databases_no-backup|CAMI|CAMI2_HMP-gut|short_read|LLG|checkM|1|checkm|markers_qa_summary.tsv.1 | markers_qa_summary.tsv.1 | NA | /ebio/abt3_projects/databases_no-backup/CAMI/CAMI2_HMP-gut/short_read/LLG/checkM/1/checkm/markers_qa_summary.tsv.1 |\n",
       "| GCA_000011785_1_ASM1178v1 | f__Pasteurellaceae (UID4932) |  83 | 762 | 437 |  99.89 | 0.46 | 0 | 2012878 | 0 | ⋯ | 1 | 759 | 2 | 0 | 0 | 0 | |ebio|abt3_projects|databases_no-backup|CAMI|CAMI2_HMP-gut|short_read|LLG|checkM|1|checkm|markers_qa_summary.tsv.2 | markers_qa_summary.tsv.2 | NA | /ebio/abt3_projects/databases_no-backup/CAMI/CAMI2_HMP-gut/short_read/LLG/checkM/1/checkm/markers_qa_summary.tsv.2 |\n",
       "| ⋮ | ⋮ | ⋮ | ⋮ | ⋮ | ⋮ | ⋮ | ⋮ | ⋮ | ⋮ | ⋱ | ⋮ | ⋮ | ⋮ | ⋮ | ⋮ | ⋮ | ⋮ | ⋮ | ⋮ | ⋮ |\n",
       "| GCA_001936415_1_ASM193641v1 | o__Lactobacillales (UID544)  | 293 | 475 | 267 | 100.00 | 0 | 0 | 2094030 | 0 | ⋯ | 0 | 475 | 0 | 0 | 0 | 0 | |ebio|abt3_projects|databases_no-backup|CAMI|CAMI2_HMP-gut|short_read|LLG|checkM|20|checkm|markers_qa_summary.tsv.51 | markers_qa_summary.tsv.51 | NA | /ebio/abt3_projects/databases_no-backup/CAMI/CAMI2_HMP-gut/short_read/LLG/checkM/20/checkm/markers_qa_summary.tsv.51 |\n",
       "| GCA_900078695_1_H044680328  | o__Burkholderiales (UID4000) | 193 | 427 | 214 |  98.91 | 0 | 0 | 4485537 | 0 | ⋯ | 3 | 424 | 0 | 0 | 0 | 0 | |ebio|abt3_projects|databases_no-backup|CAMI|CAMI2_HMP-gut|short_read|LLG|checkM|20|checkm|markers_qa_summary.tsv.52 | markers_qa_summary.tsv.52 | NA | /ebio/abt3_projects/databases_no-backup/CAMI/CAMI2_HMP-gut/short_read/LLG/checkM/20/checkm/markers_qa_summary.tsv.52 |\n",
       "\n"
      ],
      "text/plain": [
       "     Bin.Id                      Marker.lineage               X..genomes\n",
       "1    GCA_000007465_2_ASM746v2    o__Lactobacillales (UID544)  293       \n",
       "2    GCA_000011785_1_ASM1178v1   f__Pasteurellaceae (UID4932)  83       \n",
       "⋮    ⋮                           ⋮                            ⋮         \n",
       "1056 GCA_001936415_1_ASM193641v1 o__Lactobacillales (UID544)  293       \n",
       "1057 GCA_900078695_1_H044680328  o__Burkholderiales (UID4000) 193       \n",
       "     X..markers X..marker.sets Completeness Contamination Strain.heterogeneity\n",
       "1    471        267            100.00       0.00          0                   \n",
       "2    762        437             99.89       0.46          0                   \n",
       "⋮    ⋮          ⋮              ⋮            ⋮             ⋮                   \n",
       "1056 475        267            100.00       0             0                   \n",
       "1057 427        214             98.91       0             0                   \n",
       "     Genome.size..bp. X..ambiguous.bases ⋯ X0 X1  X2 X3 X4 X5.\n",
       "1    2032925          0                  ⋯ 0  471 0  0  0  0  \n",
       "2    2012878          0                  ⋯ 1  759 2  0  0  0  \n",
       "⋮    ⋮                ⋮                  ⋱ ⋮  ⋮   ⋮  ⋮  ⋮  ⋮  \n",
       "1056 2094030          0                  ⋯ 0  475 0  0  0  0  \n",
       "1057 4485537          0                  ⋯ 3  424 0  0  0  0  \n",
       "     assembly.Id                                                                                                         \n",
       "1    |ebio|abt3_projects|databases_no-backup|CAMI|CAMI2_HMP-gut|short_read|LLG|checkM|1|checkm|markers_qa_summary.tsv.1  \n",
       "2    |ebio|abt3_projects|databases_no-backup|CAMI|CAMI2_HMP-gut|short_read|LLG|checkM|1|checkm|markers_qa_summary.tsv.2  \n",
       "⋮    ⋮                                                                                                                   \n",
       "1056 |ebio|abt3_projects|databases_no-backup|CAMI|CAMI2_HMP-gut|short_read|LLG|checkM|20|checkm|markers_qa_summary.tsv.51\n",
       "1057 |ebio|abt3_projects|databases_no-backup|CAMI|CAMI2_HMP-gut|short_read|LLG|checkM|20|checkm|markers_qa_summary.tsv.52\n",
       "     assembler.Id              taxon.Id\n",
       "1    markers_qa_summary.tsv.1  NA      \n",
       "2    markers_qa_summary.tsv.2  NA      \n",
       "⋮    ⋮                         ⋮       \n",
       "1056 markers_qa_summary.tsv.51 NA      \n",
       "1057 markers_qa_summary.tsv.52 NA      \n",
       "     File                                                                                                                \n",
       "1    /ebio/abt3_projects/databases_no-backup/CAMI/CAMI2_HMP-gut/short_read/LLG/checkM/1/checkm/markers_qa_summary.tsv.1  \n",
       "2    /ebio/abt3_projects/databases_no-backup/CAMI/CAMI2_HMP-gut/short_read/LLG/checkM/1/checkm/markers_qa_summary.tsv.2  \n",
       "⋮    ⋮                                                                                                                   \n",
       "1056 /ebio/abt3_projects/databases_no-backup/CAMI/CAMI2_HMP-gut/short_read/LLG/checkM/20/checkm/markers_qa_summary.tsv.51\n",
       "1057 /ebio/abt3_projects/databases_no-backup/CAMI/CAMI2_HMP-gut/short_read/LLG/checkM/20/checkm/markers_qa_summary.tsv.52"
      ]
     },
     "metadata": {},
     "output_type": "display_data"
    }
   ],
   "source": [
    "# checkm table load\n",
    "F = file.path(work_dir, 'LLG', 'checkM', 'checkm_qa_summary.tsv')\n",
    "checkm = Fread(F)\n",
    "checkm"
   ]
  },
  {
   "cell_type": "code",
   "execution_count": 137,
   "metadata": {
    "ExecuteTime": {
     "end_time": "2021-08-13T07:04:59.382078Z",
     "start_time": "2021-08-13T07:04:59.336Z"
    }
   },
   "outputs": [
    {
     "data": {
      "text/html": [
       "<table class=\"dataframe\">\n",
       "<caption>A matrix: 1 × 8 of type dbl</caption>\n",
       "<thead>\n",
       "\t<tr><th></th><th scope=col>Min.</th><th scope=col>1st Qu.</th><th scope=col>Median</th><th scope=col>Mean</th><th scope=col>3rd Qu.</th><th scope=col>Max.</th><th scope=col>sd</th><th scope=col>sd_err_of_mean</th></tr>\n",
       "</thead>\n",
       "<tbody>\n",
       "\t<tr><th scope=row>Completeness</th><td>81.03</td><td>99.34</td><td>99.67</td><td>99.49248</td><td>100</td><td>100</td><td>7.627</td><td>3.114</td></tr>\n",
       "</tbody>\n",
       "</table>\n"
      ],
      "text/latex": [
       "A matrix: 1 × 8 of type dbl\n",
       "\\begin{tabular}{r|llllllll}\n",
       "  & Min. & 1st Qu. & Median & Mean & 3rd Qu. & Max. & sd & sd\\_err\\_of\\_mean\\\\\n",
       "\\hline\n",
       "\tCompleteness & 81.03 & 99.34 & 99.67 & 99.49248 & 100 & 100 & 7.627 & 3.114\\\\\n",
       "\\end{tabular}\n"
      ],
      "text/markdown": [
       "\n",
       "A matrix: 1 × 8 of type dbl\n",
       "\n",
       "| <!--/--> | Min. | 1st Qu. | Median | Mean | 3rd Qu. | Max. | sd | sd_err_of_mean |\n",
       "|---|---|---|---|---|---|---|---|---|\n",
       "| Completeness | 81.03 | 99.34 | 99.67 | 99.49248 | 100 | 100 | 7.627 | 3.114 |\n",
       "\n"
      ],
      "text/plain": [
       "             Min.  1st Qu. Median Mean     3rd Qu. Max. sd    sd_err_of_mean\n",
       "Completeness 81.03 99.34   99.67  99.49248 100     100  7.627 3.114         "
      ]
     },
     "metadata": {},
     "output_type": "display_data"
    },
    {
     "data": {
      "text/html": [
       "<table class=\"dataframe\">\n",
       "<caption>A matrix: 1 × 8 of type dbl</caption>\n",
       "<thead>\n",
       "\t<tr><th></th><th scope=col>Min.</th><th scope=col>1st Qu.</th><th scope=col>Median</th><th scope=col>Mean</th><th scope=col>3rd Qu.</th><th scope=col>Max.</th><th scope=col>sd</th><th scope=col>sd_err_of_mean</th></tr>\n",
       "</thead>\n",
       "<tbody>\n",
       "\t<tr><th scope=row>Contamination</th><td>0</td><td>0</td><td>0.15</td><td>0.3524882</td><td>0.38</td><td>9.6</td><td>3.851</td><td>1.572</td></tr>\n",
       "</tbody>\n",
       "</table>\n"
      ],
      "text/latex": [
       "A matrix: 1 × 8 of type dbl\n",
       "\\begin{tabular}{r|llllllll}\n",
       "  & Min. & 1st Qu. & Median & Mean & 3rd Qu. & Max. & sd & sd\\_err\\_of\\_mean\\\\\n",
       "\\hline\n",
       "\tContamination & 0 & 0 & 0.15 & 0.3524882 & 0.38 & 9.6 & 3.851 & 1.572\\\\\n",
       "\\end{tabular}\n"
      ],
      "text/markdown": [
       "\n",
       "A matrix: 1 × 8 of type dbl\n",
       "\n",
       "| <!--/--> | Min. | 1st Qu. | Median | Mean | 3rd Qu. | Max. | sd | sd_err_of_mean |\n",
       "|---|---|---|---|---|---|---|---|---|\n",
       "| Contamination | 0 | 0 | 0.15 | 0.3524882 | 0.38 | 9.6 | 3.851 | 1.572 |\n",
       "\n"
      ],
      "text/plain": [
       "              Min. 1st Qu. Median Mean      3rd Qu. Max. sd    sd_err_of_mean\n",
       "Contamination 0    0       0.15   0.3524882 0.38    9.6  3.851 1.572         "
      ]
     },
     "metadata": {},
     "output_type": "display_data"
    }
   ],
   "source": [
    "# summary\n",
    "summary_x(checkm$Completeness)\n",
    "summary_x(checkm$Contamination)"
   ]
  },
  {
   "cell_type": "markdown",
   "metadata": {},
   "source": [
    "### GTDB-Tk"
   ]
  },
  {
   "cell_type": "code",
   "execution_count": 149,
   "metadata": {
    "ExecuteTime": {
     "end_time": "2021-08-13T08:44:01.030263Z",
     "start_time": "2021-08-13T08:44:00.948Z"
    }
   },
   "outputs": [
    {
     "data": {
      "text/html": [
       "<table class=\"dataframe\">\n",
       "<caption>A tidytable: 1057 × 8</caption>\n",
       "<thead>\n",
       "\t<tr><th scope=col>user_genome</th><th scope=col>Domain</th><th scope=col>Phylum</th><th scope=col>Class</th><th scope=col>Order</th><th scope=col>Family</th><th scope=col>Genus</th><th scope=col>Species</th></tr>\n",
       "\t<tr><th scope=col>&lt;chr&gt;</th><th scope=col>&lt;chr&gt;</th><th scope=col>&lt;chr&gt;</th><th scope=col>&lt;chr&gt;</th><th scope=col>&lt;chr&gt;</th><th scope=col>&lt;chr&gt;</th><th scope=col>&lt;chr&gt;</th><th scope=col>&lt;chr&gt;</th></tr>\n",
       "</thead>\n",
       "<tbody>\n",
       "\t<tr><td>GCA_000007585_1_ASM758v1</td><td>Bacteria</td><td>Bacteroidota</td><td>Bacteroidia</td><td>Bacteroidales</td><td>Porphyromonadaceae</td><td>Porphyromonas</td><td>Porphyromonas gingivalis    </td></tr>\n",
       "\t<tr><td>GCA_000008765_1_ASM876v1</td><td>Bacteria</td><td>Firmicutes_A</td><td>Clostridia </td><td>Clostridiales</td><td>Clostridiaceae    </td><td>Clostridium_S</td><td>Clostridium_S acetobutylicum</td></tr>\n",
       "\t<tr><td>⋮</td><td>⋮</td><td>⋮</td><td>⋮</td><td>⋮</td><td>⋮</td><td>⋮</td><td>⋮</td></tr>\n",
       "\t<tr><td>GCA_001867045_1_ASM186704v1</td><td>Bacteria</td><td>Actinobacteriota</td><td>Actinomycetia</td><td>Mycobacteriales</td><td>Mycobacteriaceae</td><td>Corynebacterium</td><td>Corynebacterium pseudotuberculosis</td></tr>\n",
       "\t<tr><td>GCA_001936415_1_ASM193641v1</td><td>Bacteria</td><td>Firmicutes      </td><td>Bacilli      </td><td>Lactobacillales</td><td>Streptococcaceae</td><td>Streptococcus  </td><td>Streptococcus suis                </td></tr>\n",
       "</tbody>\n",
       "</table>\n"
      ],
      "text/latex": [
       "A tidytable: 1057 × 8\n",
       "\\begin{tabular}{llllllll}\n",
       " user\\_genome & Domain & Phylum & Class & Order & Family & Genus & Species\\\\\n",
       " <chr> & <chr> & <chr> & <chr> & <chr> & <chr> & <chr> & <chr>\\\\\n",
       "\\hline\n",
       "\t GCA\\_000007585\\_1\\_ASM758v1 & Bacteria & Bacteroidota & Bacteroidia & Bacteroidales & Porphyromonadaceae & Porphyromonas & Porphyromonas gingivalis    \\\\\n",
       "\t GCA\\_000008765\\_1\\_ASM876v1 & Bacteria & Firmicutes\\_A & Clostridia  & Clostridiales & Clostridiaceae     & Clostridium\\_S & Clostridium\\_S acetobutylicum\\\\\n",
       "\t ⋮ & ⋮ & ⋮ & ⋮ & ⋮ & ⋮ & ⋮ & ⋮\\\\\n",
       "\t GCA\\_001867045\\_1\\_ASM186704v1 & Bacteria & Actinobacteriota & Actinomycetia & Mycobacteriales & Mycobacteriaceae & Corynebacterium & Corynebacterium pseudotuberculosis\\\\\n",
       "\t GCA\\_001936415\\_1\\_ASM193641v1 & Bacteria & Firmicutes       & Bacilli       & Lactobacillales & Streptococcaceae & Streptococcus   & Streptococcus suis                \\\\\n",
       "\\end{tabular}\n"
      ],
      "text/markdown": [
       "\n",
       "A tidytable: 1057 × 8\n",
       "\n",
       "| user_genome &lt;chr&gt; | Domain &lt;chr&gt; | Phylum &lt;chr&gt; | Class &lt;chr&gt; | Order &lt;chr&gt; | Family &lt;chr&gt; | Genus &lt;chr&gt; | Species &lt;chr&gt; |\n",
       "|---|---|---|---|---|---|---|---|\n",
       "| GCA_000007585_1_ASM758v1 | Bacteria | Bacteroidota | Bacteroidia | Bacteroidales | Porphyromonadaceae | Porphyromonas | Porphyromonas gingivalis     |\n",
       "| GCA_000008765_1_ASM876v1 | Bacteria | Firmicutes_A | Clostridia  | Clostridiales | Clostridiaceae     | Clostridium_S | Clostridium_S acetobutylicum |\n",
       "| ⋮ | ⋮ | ⋮ | ⋮ | ⋮ | ⋮ | ⋮ | ⋮ |\n",
       "| GCA_001867045_1_ASM186704v1 | Bacteria | Actinobacteriota | Actinomycetia | Mycobacteriales | Mycobacteriaceae | Corynebacterium | Corynebacterium pseudotuberculosis |\n",
       "| GCA_001936415_1_ASM193641v1 | Bacteria | Firmicutes       | Bacilli       | Lactobacillales | Streptococcaceae | Streptococcus   | Streptococcus suis                 |\n",
       "\n"
      ],
      "text/plain": [
       "     user_genome                 Domain   Phylum           Class        \n",
       "1    GCA_000007585_1_ASM758v1    Bacteria Bacteroidota     Bacteroidia  \n",
       "2    GCA_000008765_1_ASM876v1    Bacteria Firmicutes_A     Clostridia   \n",
       "⋮    ⋮                           ⋮        ⋮                ⋮            \n",
       "1056 GCA_001867045_1_ASM186704v1 Bacteria Actinobacteriota Actinomycetia\n",
       "1057 GCA_001936415_1_ASM193641v1 Bacteria Firmicutes       Bacilli      \n",
       "     Order           Family             Genus          \n",
       "1    Bacteroidales   Porphyromonadaceae Porphyromonas  \n",
       "2    Clostridiales   Clostridiaceae     Clostridium_S  \n",
       "⋮    ⋮               ⋮                  ⋮              \n",
       "1056 Mycobacteriales Mycobacteriaceae   Corynebacterium\n",
       "1057 Lactobacillales Streptococcaceae   Streptococcus  \n",
       "     Species                           \n",
       "1    Porphyromonas gingivalis          \n",
       "2    Clostridium_S acetobutylicum      \n",
       "⋮    ⋮                                 \n",
       "1056 Corynebacterium pseudotuberculosis\n",
       "1057 Streptococcus suis                "
      ]
     },
     "metadata": {},
     "output_type": "display_data"
    }
   ],
   "source": [
    "# gtdbtk table load\n",
    "F = file.path(work_dir, 'LLG', 'gtdbtk', 'gtdbtk_summary.tsv')\n",
    "tax = Fread(F) %>%\n",
    "    select.(user_genome, classification) %>%\n",
    "    mutate.(classification = gsub(';[pcofgs]__', ';', classification)) %>%\n",
    "    separate.(classification, taxonomy_levels(), sep=';') %>%\n",
    "    mutate.(Domain = gsub('^d__', '', Domain))\n",
    "tax"
   ]
  },
  {
   "cell_type": "code",
   "execution_count": 152,
   "metadata": {
    "ExecuteTime": {
     "end_time": "2021-08-13T08:45:56.819032Z",
     "start_time": "2021-08-13T08:45:56.402Z"
    }
   },
   "outputs": [
    {
     "data": {
      "text/html": [
       "<table class=\"dataframe\">\n",
       "<caption>A matrix: 1 × 8 of type dbl</caption>\n",
       "<thead>\n",
       "\t<tr><th></th><th scope=col>Min.</th><th scope=col>1st Qu.</th><th scope=col>Median</th><th scope=col>Mean</th><th scope=col>3rd Qu.</th><th scope=col>Max.</th><th scope=col>sd</th><th scope=col>sd_err_of_mean</th></tr>\n",
       "</thead>\n",
       "<tbody>\n",
       "\t<tr><th scope=row>n</th><td>1</td><td>1</td><td>1</td><td>2.669192</td><td>2</td><td>72</td><td>28.776</td><td>11.748</td></tr>\n",
       "</tbody>\n",
       "</table>\n"
      ],
      "text/latex": [
       "A matrix: 1 × 8 of type dbl\n",
       "\\begin{tabular}{r|llllllll}\n",
       "  & Min. & 1st Qu. & Median & Mean & 3rd Qu. & Max. & sd & sd\\_err\\_of\\_mean\\\\\n",
       "\\hline\n",
       "\tn & 1 & 1 & 1 & 2.669192 & 2 & 72 & 28.776 & 11.748\\\\\n",
       "\\end{tabular}\n"
      ],
      "text/markdown": [
       "\n",
       "A matrix: 1 × 8 of type dbl\n",
       "\n",
       "| <!--/--> | Min. | 1st Qu. | Median | Mean | 3rd Qu. | Max. | sd | sd_err_of_mean |\n",
       "|---|---|---|---|---|---|---|---|---|\n",
       "| n | 1 | 1 | 1 | 2.669192 | 2 | 72 | 28.776 | 11.748 |\n",
       "\n"
      ],
      "text/plain": [
       "  Min. 1st Qu. Median Mean     3rd Qu. Max. sd     sd_err_of_mean\n",
       "n 1    1       1      2.669192 2       72   28.776 11.748        "
      ]
     },
     "metadata": {},
     "output_type": "display_data"
    },
    {
     "data": {
      "image/png": "[encoded data removed]",
      "text/plain": [
       "plot without title"
      ]
     },
     "metadata": {
      "image/png": {
       "height": 220,
       "width": 400
      }
     },
     "output_type": "display_data"
    }
   ],
   "source": [
    "tax_s = tax %>%\n",
    "    summarize.(n = n.(),\n",
    "               .by=c(Phylum, Class, Order, Family, Genus, Species)) \n",
    "summary_x(tax_s$n)\n",
    "p = tax_s %>%\n",
    "    ggplot(aes(n)) +\n",
    "    geom_histogram(bins=30) +\n",
    "    labs(x='No. of genomes in the species', y='No. of species') +\n",
    "    theme_bw()\n",
    "p.dims(4,2.2)\n",
    "plot(p)"
   ]
  },
  {
   "cell_type": "markdown",
   "metadata": {},
   "source": [
    "#### genomes-per-species for  `n9k_train`"
   ]
  },
  {
   "cell_type": "code",
   "execution_count": 158,
   "metadata": {
    "ExecuteTime": {
     "end_time": "2021-08-13T08:50:25.591521Z",
     "start_time": "2021-08-13T08:50:25.182Z"
    }
   },
   "outputs": [],
   "source": [
    "F = '/ebio/abt3_projects/databases_no-backup/DeepMAsED/version2/ref_genomes/GTDBr89/metadata_quality.tsv'\n",
    "df1 = Fread(F, quote=\"\") %>%\n",
    "    select.(accession, Domain, Phylum, Class, Order, Family, Genus, Species)\n",
    "F = '/ebio/abt3_projects/databases_no-backup/DeepMAsED/version2/ref_genomes/GTDBr89/metadata_n9000-rand_train.tsv'\n",
    "df2 = Fread(F)"
   ]
  },
  {
   "cell_type": "code",
   "execution_count": 163,
   "metadata": {
    "ExecuteTime": {
     "end_time": "2021-08-13T08:51:19.391960Z",
     "start_time": "2021-08-13T08:51:18.941Z"
    }
   },
   "outputs": [
    {
     "name": "stdout",
     "output_type": "stream",
     "text": [
      "intersect(x,y): 9000 \n",
      "setdiff(x,y): 0 \n",
      "setdiff(y,x): 10479 \n",
      "union(x,y): 19479 \n"
     ]
    },
    {
     "data": {
      "text/html": [
       "<table class=\"dataframe\">\n",
       "<caption>A tidytable: 9000 × 8</caption>\n",
       "<thead>\n",
       "\t<tr><th scope=col>accession</th><th scope=col>Domain</th><th scope=col>Phylum</th><th scope=col>Class</th><th scope=col>Order</th><th scope=col>Family</th><th scope=col>Genus</th><th scope=col>Species</th></tr>\n",
       "\t<tr><th scope=col>&lt;chr&gt;</th><th scope=col>&lt;chr&gt;</th><th scope=col>&lt;chr&gt;</th><th scope=col>&lt;chr&gt;</th><th scope=col>&lt;chr&gt;</th><th scope=col>&lt;chr&gt;</th><th scope=col>&lt;chr&gt;</th><th scope=col>&lt;chr&gt;</th></tr>\n",
       "</thead>\n",
       "<tbody>\n",
       "\t<tr><td>RS_GCF_000812185.1</td><td>d__Archaea</td><td>p__Crenarchaeota</td><td>c__Nitrososphaeria</td><td>o__Nitrososphaerales</td><td>f__Nitrosopumilaceae</td><td>g__Nitrosopelagicus</td><td>s__Nitrosopelagicus brevis </td></tr>\n",
       "\t<tr><td>RS_GCF_000299395.1</td><td>d__Archaea</td><td>p__Crenarchaeota</td><td>c__Nitrososphaeria</td><td>o__Nitrososphaerales</td><td>f__Nitrosopumilaceae</td><td>g__Nitrosopumilus  </td><td>s__Nitrosopumilus sediminis</td></tr>\n",
       "\t<tr><td>⋮</td><td>⋮</td><td>⋮</td><td>⋮</td><td>⋮</td><td>⋮</td><td>⋮</td><td>⋮</td></tr>\n",
       "\t<tr><td>RS_GCF_001618265.1</td><td>d__Bacteria</td><td>p__Verrucomicrobiota_A</td><td>c__Chlamydiia</td><td>o__Parachlamydiales</td><td>f__Waddliaceae</td><td>g__Waddlia</td><td>s__Waddlia chondrophila</td></tr>\n",
       "\t<tr><td>RS_GCF_000092785.1</td><td>d__Bacteria</td><td>p__Verrucomicrobiota_A</td><td>c__Chlamydiia</td><td>o__Parachlamydiales</td><td>f__Waddliaceae</td><td>g__Waddlia</td><td>s__Waddlia chondrophila</td></tr>\n",
       "</tbody>\n",
       "</table>\n"
      ],
      "text/latex": [
       "A tidytable: 9000 × 8\n",
       "\\begin{tabular}{llllllll}\n",
       " accession & Domain & Phylum & Class & Order & Family & Genus & Species\\\\\n",
       " <chr> & <chr> & <chr> & <chr> & <chr> & <chr> & <chr> & <chr>\\\\\n",
       "\\hline\n",
       "\t RS\\_GCF\\_000812185.1 & d\\_\\_Archaea & p\\_\\_Crenarchaeota & c\\_\\_Nitrososphaeria & o\\_\\_Nitrososphaerales & f\\_\\_Nitrosopumilaceae & g\\_\\_Nitrosopelagicus & s\\_\\_Nitrosopelagicus brevis \\\\\n",
       "\t RS\\_GCF\\_000299395.1 & d\\_\\_Archaea & p\\_\\_Crenarchaeota & c\\_\\_Nitrososphaeria & o\\_\\_Nitrososphaerales & f\\_\\_Nitrosopumilaceae & g\\_\\_Nitrosopumilus   & s\\_\\_Nitrosopumilus sediminis\\\\\n",
       "\t ⋮ & ⋮ & ⋮ & ⋮ & ⋮ & ⋮ & ⋮ & ⋮\\\\\n",
       "\t RS\\_GCF\\_001618265.1 & d\\_\\_Bacteria & p\\_\\_Verrucomicrobiota\\_A & c\\_\\_Chlamydiia & o\\_\\_Parachlamydiales & f\\_\\_Waddliaceae & g\\_\\_Waddlia & s\\_\\_Waddlia chondrophila\\\\\n",
       "\t RS\\_GCF\\_000092785.1 & d\\_\\_Bacteria & p\\_\\_Verrucomicrobiota\\_A & c\\_\\_Chlamydiia & o\\_\\_Parachlamydiales & f\\_\\_Waddliaceae & g\\_\\_Waddlia & s\\_\\_Waddlia chondrophila\\\\\n",
       "\\end{tabular}\n"
      ],
      "text/markdown": [
       "\n",
       "A tidytable: 9000 × 8\n",
       "\n",
       "| accession &lt;chr&gt; | Domain &lt;chr&gt; | Phylum &lt;chr&gt; | Class &lt;chr&gt; | Order &lt;chr&gt; | Family &lt;chr&gt; | Genus &lt;chr&gt; | Species &lt;chr&gt; |\n",
       "|---|---|---|---|---|---|---|---|\n",
       "| RS_GCF_000812185.1 | d__Archaea | p__Crenarchaeota | c__Nitrososphaeria | o__Nitrososphaerales | f__Nitrosopumilaceae | g__Nitrosopelagicus | s__Nitrosopelagicus brevis  |\n",
       "| RS_GCF_000299395.1 | d__Archaea | p__Crenarchaeota | c__Nitrososphaeria | o__Nitrososphaerales | f__Nitrosopumilaceae | g__Nitrosopumilus   | s__Nitrosopumilus sediminis |\n",
       "| ⋮ | ⋮ | ⋮ | ⋮ | ⋮ | ⋮ | ⋮ | ⋮ |\n",
       "| RS_GCF_001618265.1 | d__Bacteria | p__Verrucomicrobiota_A | c__Chlamydiia | o__Parachlamydiales | f__Waddliaceae | g__Waddlia | s__Waddlia chondrophila |\n",
       "| RS_GCF_000092785.1 | d__Bacteria | p__Verrucomicrobiota_A | c__Chlamydiia | o__Parachlamydiales | f__Waddliaceae | g__Waddlia | s__Waddlia chondrophila |\n",
       "\n"
      ],
      "text/plain": [
       "     accession          Domain      Phylum                 Class             \n",
       "1    RS_GCF_000812185.1 d__Archaea  p__Crenarchaeota       c__Nitrososphaeria\n",
       "2    RS_GCF_000299395.1 d__Archaea  p__Crenarchaeota       c__Nitrososphaeria\n",
       "⋮    ⋮                  ⋮           ⋮                      ⋮                 \n",
       "8999 RS_GCF_001618265.1 d__Bacteria p__Verrucomicrobiota_A c__Chlamydiia     \n",
       "9000 RS_GCF_000092785.1 d__Bacteria p__Verrucomicrobiota_A c__Chlamydiia     \n",
       "     Order                Family               Genus              \n",
       "1    o__Nitrososphaerales f__Nitrosopumilaceae g__Nitrosopelagicus\n",
       "2    o__Nitrososphaerales f__Nitrosopumilaceae g__Nitrosopumilus  \n",
       "⋮    ⋮                    ⋮                    ⋮                  \n",
       "8999 o__Parachlamydiales  f__Waddliaceae       g__Waddlia         \n",
       "9000 o__Parachlamydiales  f__Waddliaceae       g__Waddlia         \n",
       "     Species                    \n",
       "1    s__Nitrosopelagicus brevis \n",
       "2    s__Nitrosopumilus sediminis\n",
       "⋮    ⋮                          \n",
       "8999 s__Waddlia chondrophila    \n",
       "9000 s__Waddlia chondrophila    "
      ]
     },
     "metadata": {},
     "output_type": "display_data"
    }
   ],
   "source": [
    "overlap(df2$Taxon, df1$accession)\n",
    "df1 = df1 %>%\n",
    "    semi_join.(df2, c('accession'='Taxon'))\n",
    "df1"
   ]
  },
  {
   "cell_type": "code",
   "execution_count": 164,
   "metadata": {
    "ExecuteTime": {
     "end_time": "2021-08-13T08:51:40.073306Z",
     "start_time": "2021-08-13T08:51:39.524Z"
    }
   },
   "outputs": [
    {
     "data": {
      "text/html": [
       "<table class=\"dataframe\">\n",
       "<caption>A matrix: 1 × 8 of type dbl</caption>\n",
       "<thead>\n",
       "\t<tr><th></th><th scope=col>Min.</th><th scope=col>1st Qu.</th><th scope=col>Median</th><th scope=col>Mean</th><th scope=col>3rd Qu.</th><th scope=col>Max.</th><th scope=col>sd</th><th scope=col>sd_err_of_mean</th></tr>\n",
       "</thead>\n",
       "<tbody>\n",
       "\t<tr><th scope=row>n</th><td>1</td><td>1</td><td>1</td><td>1.484414</td><td>2</td><td>8</td><td>2.765</td><td>1.129</td></tr>\n",
       "</tbody>\n",
       "</table>\n"
      ],
      "text/latex": [
       "A matrix: 1 × 8 of type dbl\n",
       "\\begin{tabular}{r|llllllll}\n",
       "  & Min. & 1st Qu. & Median & Mean & 3rd Qu. & Max. & sd & sd\\_err\\_of\\_mean\\\\\n",
       "\\hline\n",
       "\tn & 1 & 1 & 1 & 1.484414 & 2 & 8 & 2.765 & 1.129\\\\\n",
       "\\end{tabular}\n"
      ],
      "text/markdown": [
       "\n",
       "A matrix: 1 × 8 of type dbl\n",
       "\n",
       "| <!--/--> | Min. | 1st Qu. | Median | Mean | 3rd Qu. | Max. | sd | sd_err_of_mean |\n",
       "|---|---|---|---|---|---|---|---|---|\n",
       "| n | 1 | 1 | 1 | 1.484414 | 2 | 8 | 2.765 | 1.129 |\n",
       "\n"
      ],
      "text/plain": [
       "  Min. 1st Qu. Median Mean     3rd Qu. Max. sd    sd_err_of_mean\n",
       "n 1    1       1      1.484414 2       8    2.765 1.129         "
      ]
     },
     "metadata": {},
     "output_type": "display_data"
    },
    {
     "data": {
      "image/png": "[encoded data removed]",
      "text/plain": [
       "plot without title"
      ]
     },
     "metadata": {
      "image/png": {
       "height": 220,
       "width": 400
      }
     },
     "output_type": "display_data"
    }
   ],
   "source": [
    "df1_s = df1 %>%\n",
    "    summarize.(n = n.(),\n",
    "               .by=c(Phylum, Class, Order, Family, Genus, Species)) \n",
    "summary_x(df1_s$n)\n",
    "p = df1_s %>%\n",
    "    ggplot(aes(n)) +\n",
    "    geom_histogram(bins=30) +\n",
    "    labs(x='No. of genomes in the species', y='No. of species') +\n",
    "    theme_bw()\n",
    "p.dims(4,2.2)\n",
    "plot(p)"
   ]
  },
  {
   "cell_type": "markdown",
   "metadata": {},
   "source": [
    "### FastANI"
   ]
  },
  {
   "cell_type": "code",
   "execution_count": 139,
   "metadata": {
    "ExecuteTime": {
     "end_time": "2021-08-13T07:07:31.449955Z",
     "start_time": "2021-08-13T07:07:31.257Z"
    }
   },
   "outputs": [
    {
     "data": {
      "text/html": [
       "<table class=\"dataframe\">\n",
       "<caption>A data.table: 52257 × 5</caption>\n",
       "<thead>\n",
       "\t<tr><th scope=col>V1</th><th scope=col>V2</th><th scope=col>V3</th><th scope=col>V4</th><th scope=col>V5</th></tr>\n",
       "\t<tr><th scope=col>&lt;chr&gt;</th><th scope=col>&lt;chr&gt;</th><th scope=col>&lt;dbl&gt;</th><th scope=col>&lt;int&gt;</th><th scope=col>&lt;int&gt;</th></tr>\n",
       "</thead>\n",
       "<tbody>\n",
       "\t<tr><td>GCA_001013565_1_BPD420</td><td>GCA_001013565_1_BPD420     </td><td>100.000</td><td>1366</td><td>1368</td></tr>\n",
       "\t<tr><td>GCA_001013565_1_BPD420</td><td>GCA_001307585_1_ASM130758v1</td><td> 99.996</td><td>1363</td><td>1368</td></tr>\n",
       "\t<tr><td>⋮</td><td>⋮</td><td>⋮</td><td>⋮</td><td>⋮</td></tr>\n",
       "\t<tr><td>GCA_000014845_1_ASM1484v1</td><td>GCA_001278905_1_ASM127890v1</td><td>81.1576</td><td>731</td><td>1832</td></tr>\n",
       "\t<tr><td>GCA_000014845_1_ASM1484v1</td><td>GCA_001611055_1_ASM161105v1</td><td>81.0682</td><td>758</td><td>1832</td></tr>\n",
       "</tbody>\n",
       "</table>\n"
      ],
      "text/latex": [
       "A data.table: 52257 × 5\n",
       "\\begin{tabular}{lllll}\n",
       " V1 & V2 & V3 & V4 & V5\\\\\n",
       " <chr> & <chr> & <dbl> & <int> & <int>\\\\\n",
       "\\hline\n",
       "\t GCA\\_001013565\\_1\\_BPD420 & GCA\\_001013565\\_1\\_BPD420      & 100.000 & 1366 & 1368\\\\\n",
       "\t GCA\\_001013565\\_1\\_BPD420 & GCA\\_001307585\\_1\\_ASM130758v1 &  99.996 & 1363 & 1368\\\\\n",
       "\t ⋮ & ⋮ & ⋮ & ⋮ & ⋮\\\\\n",
       "\t GCA\\_000014845\\_1\\_ASM1484v1 & GCA\\_001278905\\_1\\_ASM127890v1 & 81.1576 & 731 & 1832\\\\\n",
       "\t GCA\\_000014845\\_1\\_ASM1484v1 & GCA\\_001611055\\_1\\_ASM161105v1 & 81.0682 & 758 & 1832\\\\\n",
       "\\end{tabular}\n"
      ],
      "text/markdown": [
       "\n",
       "A data.table: 52257 × 5\n",
       "\n",
       "| V1 &lt;chr&gt; | V2 &lt;chr&gt; | V3 &lt;dbl&gt; | V4 &lt;int&gt; | V5 &lt;int&gt; |\n",
       "|---|---|---|---|---|\n",
       "| GCA_001013565_1_BPD420 | GCA_001013565_1_BPD420      | 100.000 | 1366 | 1368 |\n",
       "| GCA_001013565_1_BPD420 | GCA_001307585_1_ASM130758v1 |  99.996 | 1363 | 1368 |\n",
       "| ⋮ | ⋮ | ⋮ | ⋮ | ⋮ |\n",
       "| GCA_000014845_1_ASM1484v1 | GCA_001278905_1_ASM127890v1 | 81.1576 | 731 | 1832 |\n",
       "| GCA_000014845_1_ASM1484v1 | GCA_001611055_1_ASM161105v1 | 81.0682 | 758 | 1832 |\n",
       "\n"
      ],
      "text/plain": [
       "      V1                        V2                          V3      V4   V5  \n",
       "1     GCA_001013565_1_BPD420    GCA_001013565_1_BPD420      100.000 1366 1368\n",
       "2     GCA_001013565_1_BPD420    GCA_001307585_1_ASM130758v1  99.996 1363 1368\n",
       "⋮     ⋮                         ⋮                           ⋮       ⋮    ⋮   \n",
       "52256 GCA_000014845_1_ASM1484v1 GCA_001278905_1_ASM127890v1 81.1576 731  1832\n",
       "52257 GCA_000014845_1_ASM1484v1 GCA_001611055_1_ASM161105v1 81.0682 758  1832"
      ]
     },
     "metadata": {},
     "output_type": "display_data"
    }
   ],
   "source": [
    "# ani table load\n",
    "F = file.path(work_dir, 'LLG', 'ani', 'fastANI', 'ANI.tsv.gz')\n",
    "ani = Fread(F, header=FALSE)\n",
    "ani"
   ]
  },
  {
   "cell_type": "code",
   "execution_count": 143,
   "metadata": {
    "ExecuteTime": {
     "end_time": "2021-08-13T07:09:05.157184Z",
     "start_time": "2021-08-13T07:09:04.866Z"
    }
   },
   "outputs": [
    {
     "data": {
      "text/html": [
       "<table class=\"dataframe\">\n",
       "<caption>A matrix: 1 × 8 of type dbl</caption>\n",
       "<thead>\n",
       "\t<tr><th></th><th scope=col>Min.</th><th scope=col>1st Qu.</th><th scope=col>Median</th><th scope=col>Mean</th><th scope=col>3rd Qu.</th><th scope=col>Max.</th><th scope=col>sd</th><th scope=col>sd_err_of_mean</th></tr>\n",
       "</thead>\n",
       "<tbody>\n",
       "\t<tr><th scope=row>V3</th><td>75.851</td><td>79.4808</td><td>86.177</td><td>88.73578</td><td>98.399</td><td>100</td><td>9.758</td><td>3.984</td></tr>\n",
       "</tbody>\n",
       "</table>\n"
      ],
      "text/latex": [
       "A matrix: 1 × 8 of type dbl\n",
       "\\begin{tabular}{r|llllllll}\n",
       "  & Min. & 1st Qu. & Median & Mean & 3rd Qu. & Max. & sd & sd\\_err\\_of\\_mean\\\\\n",
       "\\hline\n",
       "\tV3 & 75.851 & 79.4808 & 86.177 & 88.73578 & 98.399 & 100 & 9.758 & 3.984\\\\\n",
       "\\end{tabular}\n"
      ],
      "text/markdown": [
       "\n",
       "A matrix: 1 × 8 of type dbl\n",
       "\n",
       "| <!--/--> | Min. | 1st Qu. | Median | Mean | 3rd Qu. | Max. | sd | sd_err_of_mean |\n",
       "|---|---|---|---|---|---|---|---|---|\n",
       "| V3 | 75.851 | 79.4808 | 86.177 | 88.73578 | 98.399 | 100 | 9.758 | 3.984 |\n",
       "\n"
      ],
      "text/plain": [
       "   Min.   1st Qu. Median Mean     3rd Qu. Max. sd    sd_err_of_mean\n",
       "V3 75.851 79.4808 86.177 88.73578 98.399  100  9.758 3.984         "
      ]
     },
     "metadata": {},
     "output_type": "display_data"
    },
    {
     "data": {
      "image/png": "[encoded data removed]",
      "text/plain": [
       "plot without title"
      ]
     },
     "metadata": {
      "image/png": {
       "height": 280,
       "width": 500
      }
     },
     "output_type": "display_data"
    }
   ],
   "source": [
    "summary_x(ani$V3)\n",
    "p = ani %>%\n",
    "    ggplot(aes(V3)) +\n",
    "    geom_histogram(bins=50) +\n",
    "    labs(x='ANI', y='No. of comparisons\\nbetween genomes') +\n",
    "    theme_bw()\n",
    "p.dims(5,2.8)\n",
    "plot(p)"
   ]
  },
  {
   "cell_type": "markdown",
   "metadata": {},
   "source": [
    "# ResMiCo-SM"
   ]
  },
  {
   "cell_type": "markdown",
   "metadata": {},
   "source": [
    "### deinterleave reads"
   ]
  },
  {
   "cell_type": "code",
   "execution_count": 277,
   "metadata": {
    "ExecuteTime": {
     "end_time": "2021-09-02T18:43:45.395613Z",
     "start_time": "2021-09-02T18:37:46.463Z"
    }
   },
   "outputs": [
    {
     "data": {
      "text/html": [
       "<ol>\n",
       "\t<li>NULL</li>\n",
       "\t<li>NULL</li>\n",
       "\t<li>NULL</li>\n",
       "\t<li>NULL</li>\n",
       "\t<li>NULL</li>\n",
       "\t<li>NULL</li>\n",
       "\t<li>NULL</li>\n",
       "\t<li>NULL</li>\n",
       "\t<li>NULL</li>\n",
       "\t<li>NULL</li>\n",
       "</ol>\n"
      ],
      "text/latex": [
       "\\begin{enumerate}\n",
       "\\item NULL\n",
       "\\item NULL\n",
       "\\item NULL\n",
       "\\item NULL\n",
       "\\item NULL\n",
       "\\item NULL\n",
       "\\item NULL\n",
       "\\item NULL\n",
       "\\item NULL\n",
       "\\item NULL\n",
       "\\end{enumerate}\n"
      ],
      "text/markdown": [
       "1. NULL\n",
       "2. NULL\n",
       "3. NULL\n",
       "4. NULL\n",
       "5. NULL\n",
       "6. NULL\n",
       "7. NULL\n",
       "8. NULL\n",
       "9. NULL\n",
       "10. NULL\n",
       "\n",
       "\n"
      ],
      "text/plain": [
       "[[1]]\n",
       "NULL\n",
       "\n",
       "[[2]]\n",
       "NULL\n",
       "\n",
       "[[3]]\n",
       "NULL\n",
       "\n",
       "[[4]]\n",
       "NULL\n",
       "\n",
       "[[5]]\n",
       "NULL\n",
       "\n",
       "[[6]]\n",
       "NULL\n",
       "\n",
       "[[7]]\n",
       "NULL\n",
       "\n",
       "[[8]]\n",
       "NULL\n",
       "\n",
       "[[9]]\n",
       "NULL\n",
       "\n",
       "[[10]]\n",
       "NULL\n"
      ]
     },
     "metadata": {},
     "output_type": "display_data"
    }
   ],
   "source": [
    "#' calling python script for de-int\n",
    "deint_reads = function(infile, exe, outdir){\n",
    "    out_prefix = dirname(dirname(infile))\n",
    "    out_prefix = file.path(outdir, basename(out_prefix))\n",
    "    cmd = paste(exe, infile, out_prefix, sep=' ')\n",
    "    bash_job(cmd)\n",
    "}\n",
    "\n",
    "# processing \n",
    "outdir = '/ebio/abt3_scratch/nyoungblut/CAMI/CAMI2_HMP-gut/'\n",
    "doParallel::registerDoParallel(12)\n",
    "read_files %>%\n",
    "    plyr::llply(deint_reads, exe=exe, outdir=outdir, .parallel=TRUE)"
   ]
  },
  {
   "cell_type": "markdown",
   "metadata": {},
   "source": [
    "### Config"
   ]
  },
  {
   "cell_type": "code",
   "execution_count": 341,
   "metadata": {
    "ExecuteTime": {
     "end_time": "2021-10-26T18:11:57.716917Z",
     "start_time": "2021-10-26T18:11:56.966Z"
    }
   },
   "outputs": [
    {
     "name": "stdout",
     "output_type": "stream",
     "text": [
      "# Input table\n",
      "genomes_file: /ebio/abt3_projects/databases_no-backup/CAMI/CAMI2_HMP-gut/short_read/genomes.tsv\n",
      "reads_file: /ebio/abt3_scratch/nyoungblut/CAMI/CAMI2_HMP-gut/samples.tsv\n",
      "\n",
      "# Output directory\n",
      "output_dir: /ebio/abt3_projects/databases_no-backup/CAMI/CAMI2_HMP-gut/short_read/ResMiCo-SM/\n",
      "\n",
      "# Temporary output directory (/dev/shm/ for shared memory)\n",
      "tmp_dir: /ebio/abt3_scratch/\n",
      "\n",
      "# Email for notifications (\"Skip\" to skip)\n",
      "email: nyoungblut@tuebingen.mpg.de\n",
      "\n",
      "# software parameters for data simulations\n",
      "## Use \"Skip\" to skip  steps. If no params for rule, use \"\"\n",
      "## `reps:` is the number of replicate simulations\n",
      "## If `keep_reads: True`, then simulated reads are kept\n",
      "params:\n",
      "  ionice: -c 3\n",
      "  # simulating metagenomes\n",
      "  MGSIM:\n",
      "    genome_download: \"\"\n",
      "    sim_reps: 3\n",
      "    community:\n",
      "      richness:\n",
      "        - 0.8        \n",
      "      abundance_distribution:\n",
      "        - \"mean:10,sigma:2\"\n",
      "      random_seed: 8192\n",
      "      other_sim_params: --group-bias 0\n",
      "    reads: \n",
      "      length:\n",
      "        - 100\n",
      "        - 150\n",
      "      depth:\n",
      "        - 1000000\n",
      "      other_sim_params: --art-paired --art-mflen 270 --art-sdev 50 --rndSeed 8712\n",
      "      skewer: -n -l 70 -q 25\n",
      "      keep_reads: True # False\n",
      "  # coverage\n",
      "  nonpareil:\n",
      "    params: -T kmer\n",
      "    summary: 1e9   # this is target seq. depth\n",
      "  # assemblying metagenomes\n",
      "  assemblers:\n",
      "    metaspades: -k auto --only-assembler\n",
      "    megahit: --min-count 1 --min-contig-len 1000\n",
      "  # assembly filtering\n",
      "  contigs:\n",
      "    length_cutoff: 1000       # length in bp \n",
      "  # assessing assembly errors\n",
      "  asmbl_errors:\n",
      "    metaquast: --max-ref-number 0 --min-contig 1000 --min-identity 95 --extensive-mis-size 100\n",
      "               --no-html --no-plots --no-icarus --no-gc --no-snps --no-sv\n",
      "    keep_genomes: False\n",
      "  # mapping reads to contigs\n",
      "  map:\n",
      "    samtools: \"\"\n",
      "    bowtie2: \"\"\n",
      "    max_coverage: 20\n",
      "    keep_bam: False\n",
      "  # creating ResMiCo feature tables\n",
      "  feature_table:\n",
      "    make: --window 6\n",
      "  # state-of-the-art\n",
      "  SotA:\n",
      "    ALE: \"\"\n",
      "    VALET: Skip\n",
      "    metaMIC:\n",
      "      extract: --mlen 1000\n",
      "      predict: --mlen 1000 --slen 500 -a MEGAHIT\n",
      "\n",
      "# params just for creating feature tables for non-simulated data\n",
      "nonsim_params:\n",
      "  # max number of reads to use\n",
      "  subsample_reads: 5000000\n",
      "  # read quality filtering\n",
      "  skewer: -n -l 70 -q 25\n",
      "  # max per-contig coverage\n",
      "  max_coverage: 20\n",
      "  # keep bam files?\n",
      "  keep_bam: True\n",
      "  # feature tables\n",
      "  make_features: --window 6\n",
      "\n",
      "# snakemake pipeline\n",
      "pipeline:\n",
      "  snakemake_folder: ./\n",
      "  script_folder: ./bin/scripts/\n",
      "  name: ResMiCo-SM"
     ]
    }
   ],
   "source": [
    "F = file.path(work_dir, 'ResMiCo-SM', 'config.yaml')\n",
    "cat_file(F)"
   ]
  },
  {
   "cell_type": "markdown",
   "metadata": {},
   "source": [
    "### Run"
   ]
  },
  {
   "cell_type": "markdown",
   "metadata": {},
   "source": [
    "```\n",
    "(snakemake) @ rick:/ebio/abt3_projects/DeepMAsED/version2/deepmased/ResMiCo-SM\n",
    "$ screen -L -S rmc-sm-cami ./snakemake_sge.sh /ebio/abt3_projects/databases_no-backup/CAMI/CAMI2_HMP-gut/short_read/ResMiCo-SM/config.yaml 50 --notemp -F\n",
    "```"
   ]
  },
  {
   "cell_type": "markdown",
   "metadata": {},
   "source": [
    "## Summary"
   ]
  },
  {
   "cell_type": "markdown",
   "metadata": {},
   "source": [
    "### MetaQUAST results"
   ]
  },
  {
   "cell_type": "code",
   "execution_count": 39,
   "metadata": {
    "ExecuteTime": {
     "end_time": "2021-10-27T18:22:48.972802Z",
     "start_time": "2021-10-27T18:22:48.822Z"
    }
   },
   "outputs": [
    {
     "data": {
      "text/html": [
       "20"
      ],
      "text/latex": [
       "20"
      ],
      "text/markdown": [
       "20"
      ],
      "text/plain": [
       "[1] 20"
      ]
     },
     "metadata": {},
     "output_type": "display_data"
    },
    {
     "data": {
      "text/html": [
       "<style>\n",
       ".list-inline {list-style: none; margin:0; padding: 0}\n",
       ".list-inline>li {display: inline-block}\n",
       ".list-inline>li:not(:last-child)::after {content: \"\\00b7\"; padding: 0 .5ex}\n",
       "</style>\n",
       "<ol class=list-inline><li>'/ebio/abt3_projects/databases_no-backup/CAMI/CAMI2_HMP-gut/short_read//ResMiCo-SM/true_errors/2017.12.04_18.45.54_sample_0/NA/NA/NA/NA/megahit/combined_reference/report.tsv'</li><li>'/ebio/abt3_projects/databases_no-backup/CAMI/CAMI2_HMP-gut/short_read//ResMiCo-SM/true_errors/2017.12.04_18.45.54_sample_0/NA/NA/NA/NA/metaspades/combined_reference/report.tsv'</li><li>'/ebio/abt3_projects/databases_no-backup/CAMI/CAMI2_HMP-gut/short_read//ResMiCo-SM/true_errors/2017.12.04_18.45.54_sample_1/NA/NA/NA/NA/megahit/combined_reference/report.tsv'</li></ol>\n"
      ],
      "text/latex": [
       "\\begin{enumerate*}\n",
       "\\item '/ebio/abt3\\_projects/databases\\_no-backup/CAMI/CAMI2\\_HMP-gut/short\\_read//ResMiCo-SM/true\\_errors/2017.12.04\\_18.45.54\\_sample\\_0/NA/NA/NA/NA/megahit/combined\\_reference/report.tsv'\n",
       "\\item '/ebio/abt3\\_projects/databases\\_no-backup/CAMI/CAMI2\\_HMP-gut/short\\_read//ResMiCo-SM/true\\_errors/2017.12.04\\_18.45.54\\_sample\\_0/NA/NA/NA/NA/metaspades/combined\\_reference/report.tsv'\n",
       "\\item '/ebio/abt3\\_projects/databases\\_no-backup/CAMI/CAMI2\\_HMP-gut/short\\_read//ResMiCo-SM/true\\_errors/2017.12.04\\_18.45.54\\_sample\\_1/NA/NA/NA/NA/megahit/combined\\_reference/report.tsv'\n",
       "\\end{enumerate*}\n"
      ],
      "text/markdown": [
       "1. '/ebio/abt3_projects/databases_no-backup/CAMI/CAMI2_HMP-gut/short_read//ResMiCo-SM/true_errors/2017.12.04_18.45.54_sample_0/NA/NA/NA/NA/megahit/combined_reference/report.tsv'\n",
       "2. '/ebio/abt3_projects/databases_no-backup/CAMI/CAMI2_HMP-gut/short_read//ResMiCo-SM/true_errors/2017.12.04_18.45.54_sample_0/NA/NA/NA/NA/metaspades/combined_reference/report.tsv'\n",
       "3. '/ebio/abt3_projects/databases_no-backup/CAMI/CAMI2_HMP-gut/short_read//ResMiCo-SM/true_errors/2017.12.04_18.45.54_sample_1/NA/NA/NA/NA/megahit/combined_reference/report.tsv'\n",
       "\n",
       "\n"
      ],
      "text/plain": [
       "[1] \"/ebio/abt3_projects/databases_no-backup/CAMI/CAMI2_HMP-gut/short_read//ResMiCo-SM/true_errors/2017.12.04_18.45.54_sample_0/NA/NA/NA/NA/megahit/combined_reference/report.tsv\"   \n",
       "[2] \"/ebio/abt3_projects/databases_no-backup/CAMI/CAMI2_HMP-gut/short_read//ResMiCo-SM/true_errors/2017.12.04_18.45.54_sample_0/NA/NA/NA/NA/metaspades/combined_reference/report.tsv\"\n",
       "[3] \"/ebio/abt3_projects/databases_no-backup/CAMI/CAMI2_HMP-gut/short_read//ResMiCo-SM/true_errors/2017.12.04_18.45.54_sample_1/NA/NA/NA/NA/megahit/combined_reference/report.tsv\"   "
      ]
     },
     "metadata": {},
     "output_type": "display_data"
    }
   ],
   "source": [
    "D = file.path(work_dir, 'ResMiCo-SM', 'true_errors')\n",
    "F = list_files(D, 'report.tsv')\n",
    "F = F[grepl('combined_reference/report.tsv$', F)]\n",
    "F %>% length\n",
    "F %>% head(n=3)"
   ]
  },
  {
   "cell_type": "code",
   "execution_count": 41,
   "metadata": {
    "ExecuteTime": {
     "end_time": "2021-10-27T18:23:00.243600Z",
     "start_time": "2021-10-27T18:23:00.111Z"
    }
   },
   "outputs": [
    {
     "data": {
      "text/html": [
       "<table class=\"dataframe\">\n",
       "<caption>A data.table: 800 × 4</caption>\n",
       "<thead>\n",
       "\t<tr><th scope=col>Assembly</th><th scope=col>contigs_filtered</th><th scope=col>assembler</th><th scope=col>sample</th></tr>\n",
       "\t<tr><th scope=col>&lt;chr&gt;</th><th scope=col>&lt;chr&gt;</th><th scope=col>&lt;chr&gt;</th><th scope=col>&lt;chr&gt;</th></tr>\n",
       "</thead>\n",
       "<tbody>\n",
       "\t<tr><td><span style=white-space:pre-wrap># contigs (&gt;= 0 bp)    </span></td><td>17995</td><td>megahit</td><td>2017.12.04_18.45.54_sample_0</td></tr>\n",
       "\t<tr><td># contigs (&gt;= 1000 bp) </td><td>17995</td><td>megahit</td><td>2017.12.04_18.45.54_sample_0</td></tr>\n",
       "\t<tr><td># contigs (&gt;= 5000 bp) </td><td>1218 </td><td>megahit</td><td>2017.12.04_18.45.54_sample_0</td></tr>\n",
       "\t<tr><td># contigs (&gt;= 10000 bp)</td><td><span style=white-space:pre-wrap>653  </span></td><td>megahit</td><td>2017.12.04_18.45.54_sample_0</td></tr>\n",
       "\t<tr><td># contigs (&gt;= 25000 bp)</td><td><span style=white-space:pre-wrap>323  </span></td><td>megahit</td><td>2017.12.04_18.45.54_sample_0</td></tr>\n",
       "\t<tr><td>⋮</td><td>⋮</td><td>⋮</td><td>⋮</td></tr>\n",
       "\t<tr><td>Total aligned length</td><td>75740312</td><td>metaspades</td><td>2017.12.04_18.45.54_sample_9</td></tr>\n",
       "\t<tr><td>NA50                </td><td>5593    </td><td>metaspades</td><td>2017.12.04_18.45.54_sample_9</td></tr>\n",
       "\t<tr><td>NA75                </td><td>1688    </td><td>metaspades</td><td>2017.12.04_18.45.54_sample_9</td></tr>\n",
       "\t<tr><td>LA50                </td><td>1547    </td><td>metaspades</td><td>2017.12.04_18.45.54_sample_9</td></tr>\n",
       "\t<tr><td>LA75                </td><td>8632    </td><td>metaspades</td><td>2017.12.04_18.45.54_sample_9</td></tr>\n",
       "</tbody>\n",
       "</table>\n"
      ],
      "text/latex": [
       "A data.table: 800 × 4\n",
       "\\begin{tabular}{llll}\n",
       " Assembly & contigs\\_filtered & assembler & sample\\\\\n",
       " <chr> & <chr> & <chr> & <chr>\\\\\n",
       "\\hline\n",
       "\t \\# contigs (>= 0 bp)     & 17995 & megahit & 2017.12.04\\_18.45.54\\_sample\\_0\\\\\n",
       "\t \\# contigs (>= 1000 bp)  & 17995 & megahit & 2017.12.04\\_18.45.54\\_sample\\_0\\\\\n",
       "\t \\# contigs (>= 5000 bp)  & 1218  & megahit & 2017.12.04\\_18.45.54\\_sample\\_0\\\\\n",
       "\t \\# contigs (>= 10000 bp) & 653   & megahit & 2017.12.04\\_18.45.54\\_sample\\_0\\\\\n",
       "\t \\# contigs (>= 25000 bp) & 323   & megahit & 2017.12.04\\_18.45.54\\_sample\\_0\\\\\n",
       "\t ⋮ & ⋮ & ⋮ & ⋮\\\\\n",
       "\t Total aligned length & 75740312 & metaspades & 2017.12.04\\_18.45.54\\_sample\\_9\\\\\n",
       "\t NA50                 & 5593     & metaspades & 2017.12.04\\_18.45.54\\_sample\\_9\\\\\n",
       "\t NA75                 & 1688     & metaspades & 2017.12.04\\_18.45.54\\_sample\\_9\\\\\n",
       "\t LA50                 & 1547     & metaspades & 2017.12.04\\_18.45.54\\_sample\\_9\\\\\n",
       "\t LA75                 & 8632     & metaspades & 2017.12.04\\_18.45.54\\_sample\\_9\\\\\n",
       "\\end{tabular}\n"
      ],
      "text/markdown": [
       "\n",
       "A data.table: 800 × 4\n",
       "\n",
       "| Assembly &lt;chr&gt; | contigs_filtered &lt;chr&gt; | assembler &lt;chr&gt; | sample &lt;chr&gt; |\n",
       "|---|---|---|---|\n",
       "| # contigs (&gt;= 0 bp)     | 17995 | megahit | 2017.12.04_18.45.54_sample_0 |\n",
       "| # contigs (&gt;= 1000 bp)  | 17995 | megahit | 2017.12.04_18.45.54_sample_0 |\n",
       "| # contigs (&gt;= 5000 bp)  | 1218  | megahit | 2017.12.04_18.45.54_sample_0 |\n",
       "| # contigs (&gt;= 10000 bp) | 653   | megahit | 2017.12.04_18.45.54_sample_0 |\n",
       "| # contigs (&gt;= 25000 bp) | 323   | megahit | 2017.12.04_18.45.54_sample_0 |\n",
       "| ⋮ | ⋮ | ⋮ | ⋮ |\n",
       "| Total aligned length | 75740312 | metaspades | 2017.12.04_18.45.54_sample_9 |\n",
       "| NA50                 | 5593     | metaspades | 2017.12.04_18.45.54_sample_9 |\n",
       "| NA75                 | 1688     | metaspades | 2017.12.04_18.45.54_sample_9 |\n",
       "| LA50                 | 1547     | metaspades | 2017.12.04_18.45.54_sample_9 |\n",
       "| LA75                 | 8632     | metaspades | 2017.12.04_18.45.54_sample_9 |\n",
       "\n"
      ],
      "text/plain": [
       "    Assembly                contigs_filtered assembler \n",
       "1   # contigs (>= 0 bp)     17995            megahit   \n",
       "2   # contigs (>= 1000 bp)  17995            megahit   \n",
       "3   # contigs (>= 5000 bp)  1218             megahit   \n",
       "4   # contigs (>= 10000 bp) 653              megahit   \n",
       "5   # contigs (>= 25000 bp) 323              megahit   \n",
       "⋮   ⋮                       ⋮                ⋮         \n",
       "796 Total aligned length    75740312         metaspades\n",
       "797 NA50                    5593             metaspades\n",
       "798 NA75                    1688             metaspades\n",
       "799 LA50                    1547             metaspades\n",
       "800 LA75                    8632             metaspades\n",
       "    sample                      \n",
       "1   2017.12.04_18.45.54_sample_0\n",
       "2   2017.12.04_18.45.54_sample_0\n",
       "3   2017.12.04_18.45.54_sample_0\n",
       "4   2017.12.04_18.45.54_sample_0\n",
       "5   2017.12.04_18.45.54_sample_0\n",
       "⋮   ⋮                           \n",
       "796 2017.12.04_18.45.54_sample_9\n",
       "797 2017.12.04_18.45.54_sample_9\n",
       "798 2017.12.04_18.45.54_sample_9\n",
       "799 2017.12.04_18.45.54_sample_9\n",
       "800 2017.12.04_18.45.54_sample_9"
      ]
     },
     "metadata": {},
     "output_type": "display_data"
    }
   ],
   "source": [
    "# reading\n",
    "read_mq = function(F){\n",
    "    df = Fread(F)\n",
    "    x = unlist(strsplit(F, '/'))\n",
    "    df$assembler = x[length(x)-2]\n",
    "    df$sample = x[length(x)-7]\n",
    "    return(df)\n",
    "}\n",
    "\n",
    "mq_rpt = F %>%\n",
    "    #head(n=1) %>%\n",
    "    lapply(read_mq) %>%\n",
    "    rbindlist(use.names=TRUE)\n",
    "mq_rpt"
   ]
  },
  {
   "cell_type": "code",
   "execution_count": 42,
   "metadata": {
    "ExecuteTime": {
     "end_time": "2021-10-27T18:23:00.916624Z",
     "start_time": "2021-10-27T18:23:00.645Z"
    }
   },
   "outputs": [
    {
     "data": {
      "image/png": "[encoded data removed]",
      "text/plain": [
       "plot without title"
      ]
     },
     "metadata": {
      "image/png": {
       "height": 250,
       "width": 400
      }
     },
     "output_type": "display_data"
    }
   ],
   "source": [
    "# summary\n",
    "to_keep = c('# contigs', '# misassembled contigs')\n",
    "p = mq_rpt %>%\n",
    "    filter.(Assembly %in% to_keep) %>%\n",
    "    mutate.(contigs_filtered = as.Num(contigs_filtered)) %>%\n",
    "    mutate.(Assembly = gsub('# ', 'num_', Assembly),\n",
    "            Assembly = gsub(' ', '_', Assembly)) %>%\n",
    "    pivot_wider.(names_from=Assembly, values_from=contigs_filtered) %>%\n",
    "    ggplot(aes(num_contigs, num_misassembled_contigs)) +\n",
    "    geom_point() +\n",
    "    theme_bw()\n",
    "p.dims(4,2.5)\n",
    "plot(p)"
   ]
  },
  {
   "cell_type": "code",
   "execution_count": 43,
   "metadata": {
    "ExecuteTime": {
     "end_time": "2021-10-27T18:23:06.937543Z",
     "start_time": "2021-10-27T18:23:06.852Z"
    }
   },
   "outputs": [
    {
     "data": {
      "text/html": [
       "<table class=\"dataframe\">\n",
       "<caption>A tidytable: 140 × 4</caption>\n",
       "<thead>\n",
       "\t<tr><th scope=col>Assembly</th><th scope=col>contigs_filtered</th><th scope=col>assembler</th><th scope=col>sample</th></tr>\n",
       "\t<tr><th scope=col>&lt;chr&gt;</th><th scope=col>&lt;dbl&gt;</th><th scope=col>&lt;chr&gt;</th><th scope=col>&lt;chr&gt;</th></tr>\n",
       "</thead>\n",
       "<tbody>\n",
       "\t<tr><td>num_contigs             </td><td>17995</td><td>megahit</td><td>2017.12.04_18.45.54_sample_0</td></tr>\n",
       "\t<tr><td>num_misassemblies       </td><td>  331</td><td>megahit</td><td>2017.12.04_18.45.54_sample_0</td></tr>\n",
       "\t<tr><td>num_misassembled_contigs</td><td>  309</td><td>megahit</td><td>2017.12.04_18.45.54_sample_0</td></tr>\n",
       "\t<tr><td>num_local_misassemblies </td><td>    9</td><td>megahit</td><td>2017.12.04_18.45.54_sample_0</td></tr>\n",
       "\t<tr><td>num_Ns_per_100_kbp      </td><td>    0</td><td>megahit</td><td>2017.12.04_18.45.54_sample_0</td></tr>\n",
       "\t<tr><td>⋮</td><td>⋮</td><td>⋮</td><td>⋮</td></tr>\n",
       "\t<tr><td>num_misassembled_contigs  </td><td>168.00</td><td>metaspades</td><td>2017.12.04_18.45.54_sample_9</td></tr>\n",
       "\t<tr><td>num_local_misassemblies   </td><td>  3.00</td><td>metaspades</td><td>2017.12.04_18.45.54_sample_9</td></tr>\n",
       "\t<tr><td>num_Ns_per_100_kbp        </td><td>  0.00</td><td>metaspades</td><td>2017.12.04_18.45.54_sample_9</td></tr>\n",
       "\t<tr><td>num_mismatches_per_100_kbp</td><td>367.09</td><td>metaspades</td><td>2017.12.04_18.45.54_sample_9</td></tr>\n",
       "\t<tr><td>num_indels_per_100_kbp    </td><td>  3.38</td><td>metaspades</td><td>2017.12.04_18.45.54_sample_9</td></tr>\n",
       "</tbody>\n",
       "</table>\n"
      ],
      "text/latex": [
       "A tidytable: 140 × 4\n",
       "\\begin{tabular}{llll}\n",
       " Assembly & contigs\\_filtered & assembler & sample\\\\\n",
       " <chr> & <dbl> & <chr> & <chr>\\\\\n",
       "\\hline\n",
       "\t num\\_contigs              & 17995 & megahit & 2017.12.04\\_18.45.54\\_sample\\_0\\\\\n",
       "\t num\\_misassemblies        &   331 & megahit & 2017.12.04\\_18.45.54\\_sample\\_0\\\\\n",
       "\t num\\_misassembled\\_contigs &   309 & megahit & 2017.12.04\\_18.45.54\\_sample\\_0\\\\\n",
       "\t num\\_local\\_misassemblies  &     9 & megahit & 2017.12.04\\_18.45.54\\_sample\\_0\\\\\n",
       "\t num\\_Ns\\_per\\_100\\_kbp       &     0 & megahit & 2017.12.04\\_18.45.54\\_sample\\_0\\\\\n",
       "\t ⋮ & ⋮ & ⋮ & ⋮\\\\\n",
       "\t num\\_misassembled\\_contigs   & 168.00 & metaspades & 2017.12.04\\_18.45.54\\_sample\\_9\\\\\n",
       "\t num\\_local\\_misassemblies    &   3.00 & metaspades & 2017.12.04\\_18.45.54\\_sample\\_9\\\\\n",
       "\t num\\_Ns\\_per\\_100\\_kbp         &   0.00 & metaspades & 2017.12.04\\_18.45.54\\_sample\\_9\\\\\n",
       "\t num\\_mismatches\\_per\\_100\\_kbp & 367.09 & metaspades & 2017.12.04\\_18.45.54\\_sample\\_9\\\\\n",
       "\t num\\_indels\\_per\\_100\\_kbp     &   3.38 & metaspades & 2017.12.04\\_18.45.54\\_sample\\_9\\\\\n",
       "\\end{tabular}\n"
      ],
      "text/markdown": [
       "\n",
       "A tidytable: 140 × 4\n",
       "\n",
       "| Assembly &lt;chr&gt; | contigs_filtered &lt;dbl&gt; | assembler &lt;chr&gt; | sample &lt;chr&gt; |\n",
       "|---|---|---|---|\n",
       "| num_contigs              | 17995 | megahit | 2017.12.04_18.45.54_sample_0 |\n",
       "| num_misassemblies        |   331 | megahit | 2017.12.04_18.45.54_sample_0 |\n",
       "| num_misassembled_contigs |   309 | megahit | 2017.12.04_18.45.54_sample_0 |\n",
       "| num_local_misassemblies  |     9 | megahit | 2017.12.04_18.45.54_sample_0 |\n",
       "| num_Ns_per_100_kbp       |     0 | megahit | 2017.12.04_18.45.54_sample_0 |\n",
       "| ⋮ | ⋮ | ⋮ | ⋮ |\n",
       "| num_misassembled_contigs   | 168.00 | metaspades | 2017.12.04_18.45.54_sample_9 |\n",
       "| num_local_misassemblies    |   3.00 | metaspades | 2017.12.04_18.45.54_sample_9 |\n",
       "| num_Ns_per_100_kbp         |   0.00 | metaspades | 2017.12.04_18.45.54_sample_9 |\n",
       "| num_mismatches_per_100_kbp | 367.09 | metaspades | 2017.12.04_18.45.54_sample_9 |\n",
       "| num_indels_per_100_kbp     |   3.38 | metaspades | 2017.12.04_18.45.54_sample_9 |\n",
       "\n"
      ],
      "text/plain": [
       "    Assembly                   contigs_filtered assembler \n",
       "1   num_contigs                17995            megahit   \n",
       "2   num_misassemblies            331            megahit   \n",
       "3   num_misassembled_contigs     309            megahit   \n",
       "4   num_local_misassemblies        9            megahit   \n",
       "5   num_Ns_per_100_kbp             0            megahit   \n",
       "⋮   ⋮                          ⋮                ⋮         \n",
       "136 num_misassembled_contigs   168.00           metaspades\n",
       "137 num_local_misassemblies      3.00           metaspades\n",
       "138 num_Ns_per_100_kbp           0.00           metaspades\n",
       "139 num_mismatches_per_100_kbp 367.09           metaspades\n",
       "140 num_indels_per_100_kbp       3.38           metaspades\n",
       "    sample                      \n",
       "1   2017.12.04_18.45.54_sample_0\n",
       "2   2017.12.04_18.45.54_sample_0\n",
       "3   2017.12.04_18.45.54_sample_0\n",
       "4   2017.12.04_18.45.54_sample_0\n",
       "5   2017.12.04_18.45.54_sample_0\n",
       "⋮   ⋮                           \n",
       "136 2017.12.04_18.45.54_sample_9\n",
       "137 2017.12.04_18.45.54_sample_9\n",
       "138 2017.12.04_18.45.54_sample_9\n",
       "139 2017.12.04_18.45.54_sample_9\n",
       "140 2017.12.04_18.45.54_sample_9"
      ]
     },
     "metadata": {},
     "output_type": "display_data"
    }
   ],
   "source": [
    "# filtering\n",
    "to_keep = c('# contigs', '# misassemblies', '# misassembled contigs',\n",
    "            '# local misassemblies', '# N\\'s per 100 kbp',\n",
    "            '# mismatches per 100 kbp', '# indels per 100 kbp')\n",
    "mq_rpt_f = mq_rpt %>%\n",
    "    filter.(Assembly %in% to_keep) %>%\n",
    "    mutate.(Assembly = gsub('^# ', 'num_', Assembly),\n",
    "            Assembly = gsub(' ', '_', Assembly),\n",
    "            Assembly = gsub(\"'\", '', Assembly)) %>%\n",
    "    mutate.(contigs_filtered = as.Num(contigs_filtered)) \n",
    "mq_rpt_f"
   ]
  },
  {
   "cell_type": "code",
   "execution_count": 44,
   "metadata": {
    "ExecuteTime": {
     "end_time": "2021-10-27T18:23:09.686522Z",
     "start_time": "2021-10-27T18:23:08.261Z"
    }
   },
   "outputs": [
    {
     "data": {
      "image/png": "[encoded data removed]",
      "text/plain": [
       "plot without title"
      ]
     },
     "metadata": {
      "image/png": {
       "height": 400,
       "width": 700
      }
     },
     "output_type": "display_data"
    }
   ],
   "source": [
    "# plotting\n",
    "p = mq_rpt_f %>%\n",
    "    ggplot(aes(assembler, contigs_filtered)) +\n",
    "    geom_boxplot() +\n",
    "    facet_wrap(~ Assembly, scales='free_y') +\n",
    "    theme_bw()\n",
    "p.dims(7,4)\n",
    "plot(p)"
   ]
  },
  {
   "cell_type": "markdown",
   "metadata": {},
   "source": [
    "### ResMiCo features"
   ]
  },
  {
   "cell_type": "code",
   "execution_count": 45,
   "metadata": {
    "ExecuteTime": {
     "end_time": "2021-10-27T18:23:26.032250Z",
     "start_time": "2021-10-27T18:23:25.933Z"
    }
   },
   "outputs": [
    {
     "data": {
      "text/html": [
       "20"
      ],
      "text/latex": [
       "20"
      ],
      "text/markdown": [
       "20"
      ],
      "text/plain": [
       "[1] 20"
      ]
     },
     "metadata": {},
     "output_type": "display_data"
    },
    {
     "data": {
      "text/html": [
       "<style>\n",
       ".list-inline {list-style: none; margin:0; padding: 0}\n",
       ".list-inline>li {display: inline-block}\n",
       ".list-inline>li:not(:last-child)::after {content: \"\\00b7\"; padding: 0 .5ex}\n",
       "</style>\n",
       "<ol class=list-inline><li>'/ebio/abt3_projects/databases_no-backup/CAMI/CAMI2_HMP-gut/short_read//ResMiCo-SM/features/2017.12.04_18.45.54_sample_0/NA/NA/NA/NA/megahit/features.tsv.gz'</li><li>'/ebio/abt3_projects/databases_no-backup/CAMI/CAMI2_HMP-gut/short_read//ResMiCo-SM/features/2017.12.04_18.45.54_sample_0/NA/NA/NA/NA/metaspades/features.tsv.gz'</li><li>'/ebio/abt3_projects/databases_no-backup/CAMI/CAMI2_HMP-gut/short_read//ResMiCo-SM/features/2017.12.04_18.45.54_sample_1/NA/NA/NA/NA/megahit/features.tsv.gz'</li></ol>\n"
      ],
      "text/latex": [
       "\\begin{enumerate*}\n",
       "\\item '/ebio/abt3\\_projects/databases\\_no-backup/CAMI/CAMI2\\_HMP-gut/short\\_read//ResMiCo-SM/features/2017.12.04\\_18.45.54\\_sample\\_0/NA/NA/NA/NA/megahit/features.tsv.gz'\n",
       "\\item '/ebio/abt3\\_projects/databases\\_no-backup/CAMI/CAMI2\\_HMP-gut/short\\_read//ResMiCo-SM/features/2017.12.04\\_18.45.54\\_sample\\_0/NA/NA/NA/NA/metaspades/features.tsv.gz'\n",
       "\\item '/ebio/abt3\\_projects/databases\\_no-backup/CAMI/CAMI2\\_HMP-gut/short\\_read//ResMiCo-SM/features/2017.12.04\\_18.45.54\\_sample\\_1/NA/NA/NA/NA/megahit/features.tsv.gz'\n",
       "\\end{enumerate*}\n"
      ],
      "text/markdown": [
       "1. '/ebio/abt3_projects/databases_no-backup/CAMI/CAMI2_HMP-gut/short_read//ResMiCo-SM/features/2017.12.04_18.45.54_sample_0/NA/NA/NA/NA/megahit/features.tsv.gz'\n",
       "2. '/ebio/abt3_projects/databases_no-backup/CAMI/CAMI2_HMP-gut/short_read//ResMiCo-SM/features/2017.12.04_18.45.54_sample_0/NA/NA/NA/NA/metaspades/features.tsv.gz'\n",
       "3. '/ebio/abt3_projects/databases_no-backup/CAMI/CAMI2_HMP-gut/short_read//ResMiCo-SM/features/2017.12.04_18.45.54_sample_1/NA/NA/NA/NA/megahit/features.tsv.gz'\n",
       "\n",
       "\n"
      ],
      "text/plain": [
       "[1] \"/ebio/abt3_projects/databases_no-backup/CAMI/CAMI2_HMP-gut/short_read//ResMiCo-SM/features/2017.12.04_18.45.54_sample_0/NA/NA/NA/NA/megahit/features.tsv.gz\"   \n",
       "[2] \"/ebio/abt3_projects/databases_no-backup/CAMI/CAMI2_HMP-gut/short_read//ResMiCo-SM/features/2017.12.04_18.45.54_sample_0/NA/NA/NA/NA/metaspades/features.tsv.gz\"\n",
       "[3] \"/ebio/abt3_projects/databases_no-backup/CAMI/CAMI2_HMP-gut/short_read//ResMiCo-SM/features/2017.12.04_18.45.54_sample_1/NA/NA/NA/NA/megahit/features.tsv.gz\"   "
      ]
     },
     "metadata": {},
     "output_type": "display_data"
    }
   ],
   "source": [
    "# listing files\n",
    "P = file.path(work_dir, 'ResMiCo-SM', 'features')\n",
    "feat_files = list_files(P, 'features.tsv.gz')\n",
    "feat_files %>% length\n",
    "feat_files %>% head(n=3)"
   ]
  },
  {
   "cell_type": "code",
   "execution_count": 46,
   "metadata": {
    "ExecuteTime": {
     "end_time": "2021-10-27T18:45:48.474876Z",
     "start_time": "2021-10-27T18:23:27.814Z"
    }
   },
   "outputs": [
    {
     "data": {
      "text/html": [
       "<table class=\"dataframe\">\n",
       "<caption>A data.table: 436461 × 16</caption>\n",
       "<thead>\n",
       "\t<tr><th scope=col>assembler</th><th scope=col>contig</th><th scope=col>coverage</th><th scope=col>num_SNPs</th><th scope=col>min_insert_size_Match</th><th scope=col>mean_insert_size_Match</th><th scope=col>mean_mapq_Match</th><th scope=col>num_proper_Match</th><th scope=col>num_orphans_Match</th><th scope=col>num_discordant_Match</th><th scope=col>num_proper_SNP</th><th scope=col>mean_al_score_Match</th><th scope=col>seq_window_entropy</th><th scope=col>seq_window_perc_gc</th><th scope=col>Extensive_misassembly</th><th scope=col>sample</th></tr>\n",
       "\t<tr><th scope=col>&lt;chr&gt;</th><th scope=col>&lt;chr&gt;</th><th scope=col>&lt;dbl&gt;</th><th scope=col>&lt;dbl&gt;</th><th scope=col>&lt;dbl&gt;</th><th scope=col>&lt;dbl&gt;</th><th scope=col>&lt;dbl&gt;</th><th scope=col>&lt;dbl&gt;</th><th scope=col>&lt;dbl&gt;</th><th scope=col>&lt;dbl&gt;</th><th scope=col>&lt;dbl&gt;</th><th scope=col>&lt;dbl&gt;</th><th scope=col>&lt;dbl&gt;</th><th scope=col>&lt;dbl&gt;</th><th scope=col>&lt;dbl&gt;</th><th scope=col>&lt;chr&gt;</th></tr>\n",
       "</thead>\n",
       "<tbody>\n",
       "\t<tr><td>megahit</td><td>k141_20246</td><td>15.052105</td><td>0.04003533</td><td>215.5097</td><td>268.6793</td><td>40.83807</td><td>14.298793</td><td>0.0000000</td><td>0.2128349</td><td>0.5325287</td><td>-12.63571</td><td>1.397484</td><td>0.2760933</td><td>0</td><td>2017.12.04_18.45.54_sample_0</td></tr>\n",
       "\t<tr><td>megahit</td><td>k141_17   </td><td>14.642857</td><td>0.12202381</td><td>167.6302</td><td>255.3244</td><td>39.01129</td><td>13.551786</td><td>0.2392857</td><td>0.2583333</td><td>0.5553571</td><td>-17.19459</td><td>1.429589</td><td>0.2909905</td><td>0</td><td>2017.12.04_18.45.54_sample_0</td></tr>\n",
       "\t<tr><td>megahit</td><td>k141_10256</td><td> 5.909794</td><td>0.06701031</td><td>216.7637</td><td>264.0799</td><td>36.75375</td><td> 5.439863</td><td>0.2534364</td><td>0.0000000</td><td>0.2121993</td><td>-17.74954</td><td>1.447828</td><td>0.3081589</td><td>0</td><td>2017.12.04_18.45.54_sample_0</td></tr>\n",
       "\t<tr><td>megahit</td><td>k141_40276</td><td>14.930233</td><td>0.05395349</td><td>179.8830</td><td>257.6943</td><td>13.39486</td><td>13.960930</td><td>0.0000000</td><td>0.4027907</td><td>0.5506977</td><td>-13.15913</td><td>1.430370</td><td>0.3024781</td><td>0</td><td>2017.12.04_18.45.54_sample_0</td></tr>\n",
       "\t<tr><td>megahit</td><td>k141_50810</td><td>14.199357</td><td>0.26286174</td><td>156.3913</td><td>246.3048</td><td>31.37585</td><td>12.770900</td><td>0.6913183</td><td>0.0000000</td><td>0.7049839</td><td>-25.99006</td><td>1.544532</td><td>0.6542323</td><td>0</td><td>2017.12.04_18.45.54_sample_0</td></tr>\n",
       "\t<tr><td>⋮</td><td>⋮</td><td>⋮</td><td>⋮</td><td>⋮</td><td>⋮</td><td>⋮</td><td>⋮</td><td>⋮</td><td>⋮</td><td>⋮</td><td>⋮</td><td>⋮</td><td>⋮</td><td>⋮</td><td>⋮</td></tr>\n",
       "\t<tr><td>metaspades</td><td>NODE_2955_length_3455_cov_2.803529 </td><td>12.93777</td><td>0.03125904</td><td>200.2622</td><td>255.2486</td><td>41.73765</td><td>12.22258</td><td>0.2112880</td><td>0.04138929</td><td>0.4547033</td><td>-11.33885</td><td>1.408638</td><td>0.3188654</td><td>0</td><td>2017.12.04_18.45.54_sample_9</td></tr>\n",
       "\t<tr><td>metaspades</td><td>NODE_2956_length_3453_cov_35.489406</td><td>19.94758</td><td>0.15030408</td><td>177.8566</td><td>250.9607</td><td>38.77601</td><td>18.24182</td><td>0.8520127</td><td>0.03562120</td><td>0.7819288</td><td>-17.16403</td><td>1.436209</td><td>0.3227657</td><td>0</td><td>2017.12.04_18.45.54_sample_9</td></tr>\n",
       "\t<tr><td>metaspades</td><td>NODE_2957_length_3453_cov_4.959094 </td><td>19.98060</td><td>0.08803939</td><td>190.0802</td><td>255.6447</td><td>39.92235</td><td>18.39299</td><td>0.2945265</td><td>0.54126846</td><td>0.7211121</td><td>-13.70294</td><td>1.567439</td><td>0.5761654</td><td>0</td><td>2017.12.04_18.45.54_sample_9</td></tr>\n",
       "\t<tr><td>metaspades</td><td>NODE_2958_length_3452_cov_6.186341 </td><td>19.97567</td><td>0.04316338</td><td>200.7626</td><td>261.9563</td><td>40.96823</td><td>19.04751</td><td>0.0000000</td><td>0.20133256</td><td>0.7137891</td><td>-13.20444</td><td>1.413935</td><td>0.3528563</td><td>0</td><td>2017.12.04_18.45.54_sample_9</td></tr>\n",
       "\t<tr><td>metaspades</td><td>NODE_2959_length_3452_cov_4.206653 </td><td>19.98407</td><td>0.06402086</td><td>195.8430</td><td>265.4934</td><td>40.55333</td><td>18.98349</td><td>0.1712051</td><td>0.08487833</td><td>0.7398610</td><td>-14.19987</td><td>1.418184</td><td>0.2978975</td><td>0</td><td>2017.12.04_18.45.54_sample_9</td></tr>\n",
       "</tbody>\n",
       "</table>\n"
      ],
      "text/latex": [
       "A data.table: 436461 × 16\n",
       "\\begin{tabular}{llllllllllllllll}\n",
       " assembler & contig & coverage & num\\_SNPs & min\\_insert\\_size\\_Match & mean\\_insert\\_size\\_Match & mean\\_mapq\\_Match & num\\_proper\\_Match & num\\_orphans\\_Match & num\\_discordant\\_Match & num\\_proper\\_SNP & mean\\_al\\_score\\_Match & seq\\_window\\_entropy & seq\\_window\\_perc\\_gc & Extensive\\_misassembly & sample\\\\\n",
       " <chr> & <chr> & <dbl> & <dbl> & <dbl> & <dbl> & <dbl> & <dbl> & <dbl> & <dbl> & <dbl> & <dbl> & <dbl> & <dbl> & <dbl> & <chr>\\\\\n",
       "\\hline\n",
       "\t megahit & k141\\_20246 & 15.052105 & 0.04003533 & 215.5097 & 268.6793 & 40.83807 & 14.298793 & 0.0000000 & 0.2128349 & 0.5325287 & -12.63571 & 1.397484 & 0.2760933 & 0 & 2017.12.04\\_18.45.54\\_sample\\_0\\\\\n",
       "\t megahit & k141\\_17    & 14.642857 & 0.12202381 & 167.6302 & 255.3244 & 39.01129 & 13.551786 & 0.2392857 & 0.2583333 & 0.5553571 & -17.19459 & 1.429589 & 0.2909905 & 0 & 2017.12.04\\_18.45.54\\_sample\\_0\\\\\n",
       "\t megahit & k141\\_10256 &  5.909794 & 0.06701031 & 216.7637 & 264.0799 & 36.75375 &  5.439863 & 0.2534364 & 0.0000000 & 0.2121993 & -17.74954 & 1.447828 & 0.3081589 & 0 & 2017.12.04\\_18.45.54\\_sample\\_0\\\\\n",
       "\t megahit & k141\\_40276 & 14.930233 & 0.05395349 & 179.8830 & 257.6943 & 13.39486 & 13.960930 & 0.0000000 & 0.4027907 & 0.5506977 & -13.15913 & 1.430370 & 0.3024781 & 0 & 2017.12.04\\_18.45.54\\_sample\\_0\\\\\n",
       "\t megahit & k141\\_50810 & 14.199357 & 0.26286174 & 156.3913 & 246.3048 & 31.37585 & 12.770900 & 0.6913183 & 0.0000000 & 0.7049839 & -25.99006 & 1.544532 & 0.6542323 & 0 & 2017.12.04\\_18.45.54\\_sample\\_0\\\\\n",
       "\t ⋮ & ⋮ & ⋮ & ⋮ & ⋮ & ⋮ & ⋮ & ⋮ & ⋮ & ⋮ & ⋮ & ⋮ & ⋮ & ⋮ & ⋮ & ⋮\\\\\n",
       "\t metaspades & NODE\\_2955\\_length\\_3455\\_cov\\_2.803529  & 12.93777 & 0.03125904 & 200.2622 & 255.2486 & 41.73765 & 12.22258 & 0.2112880 & 0.04138929 & 0.4547033 & -11.33885 & 1.408638 & 0.3188654 & 0 & 2017.12.04\\_18.45.54\\_sample\\_9\\\\\n",
       "\t metaspades & NODE\\_2956\\_length\\_3453\\_cov\\_35.489406 & 19.94758 & 0.15030408 & 177.8566 & 250.9607 & 38.77601 & 18.24182 & 0.8520127 & 0.03562120 & 0.7819288 & -17.16403 & 1.436209 & 0.3227657 & 0 & 2017.12.04\\_18.45.54\\_sample\\_9\\\\\n",
       "\t metaspades & NODE\\_2957\\_length\\_3453\\_cov\\_4.959094  & 19.98060 & 0.08803939 & 190.0802 & 255.6447 & 39.92235 & 18.39299 & 0.2945265 & 0.54126846 & 0.7211121 & -13.70294 & 1.567439 & 0.5761654 & 0 & 2017.12.04\\_18.45.54\\_sample\\_9\\\\\n",
       "\t metaspades & NODE\\_2958\\_length\\_3452\\_cov\\_6.186341  & 19.97567 & 0.04316338 & 200.7626 & 261.9563 & 40.96823 & 19.04751 & 0.0000000 & 0.20133256 & 0.7137891 & -13.20444 & 1.413935 & 0.3528563 & 0 & 2017.12.04\\_18.45.54\\_sample\\_9\\\\\n",
       "\t metaspades & NODE\\_2959\\_length\\_3452\\_cov\\_4.206653  & 19.98407 & 0.06402086 & 195.8430 & 265.4934 & 40.55333 & 18.98349 & 0.1712051 & 0.08487833 & 0.7398610 & -14.19987 & 1.418184 & 0.2978975 & 0 & 2017.12.04\\_18.45.54\\_sample\\_9\\\\\n",
       "\\end{tabular}\n"
      ],
      "text/markdown": [
       "\n",
       "A data.table: 436461 × 16\n",
       "\n",
       "| assembler &lt;chr&gt; | contig &lt;chr&gt; | coverage &lt;dbl&gt; | num_SNPs &lt;dbl&gt; | min_insert_size_Match &lt;dbl&gt; | mean_insert_size_Match &lt;dbl&gt; | mean_mapq_Match &lt;dbl&gt; | num_proper_Match &lt;dbl&gt; | num_orphans_Match &lt;dbl&gt; | num_discordant_Match &lt;dbl&gt; | num_proper_SNP &lt;dbl&gt; | mean_al_score_Match &lt;dbl&gt; | seq_window_entropy &lt;dbl&gt; | seq_window_perc_gc &lt;dbl&gt; | Extensive_misassembly &lt;dbl&gt; | sample &lt;chr&gt; |\n",
       "|---|---|---|---|---|---|---|---|---|---|---|---|---|---|---|---|\n",
       "| megahit | k141_20246 | 15.052105 | 0.04003533 | 215.5097 | 268.6793 | 40.83807 | 14.298793 | 0.0000000 | 0.2128349 | 0.5325287 | -12.63571 | 1.397484 | 0.2760933 | 0 | 2017.12.04_18.45.54_sample_0 |\n",
       "| megahit | k141_17    | 14.642857 | 0.12202381 | 167.6302 | 255.3244 | 39.01129 | 13.551786 | 0.2392857 | 0.2583333 | 0.5553571 | -17.19459 | 1.429589 | 0.2909905 | 0 | 2017.12.04_18.45.54_sample_0 |\n",
       "| megahit | k141_10256 |  5.909794 | 0.06701031 | 216.7637 | 264.0799 | 36.75375 |  5.439863 | 0.2534364 | 0.0000000 | 0.2121993 | -17.74954 | 1.447828 | 0.3081589 | 0 | 2017.12.04_18.45.54_sample_0 |\n",
       "| megahit | k141_40276 | 14.930233 | 0.05395349 | 179.8830 | 257.6943 | 13.39486 | 13.960930 | 0.0000000 | 0.4027907 | 0.5506977 | -13.15913 | 1.430370 | 0.3024781 | 0 | 2017.12.04_18.45.54_sample_0 |\n",
       "| megahit | k141_50810 | 14.199357 | 0.26286174 | 156.3913 | 246.3048 | 31.37585 | 12.770900 | 0.6913183 | 0.0000000 | 0.7049839 | -25.99006 | 1.544532 | 0.6542323 | 0 | 2017.12.04_18.45.54_sample_0 |\n",
       "| ⋮ | ⋮ | ⋮ | ⋮ | ⋮ | ⋮ | ⋮ | ⋮ | ⋮ | ⋮ | ⋮ | ⋮ | ⋮ | ⋮ | ⋮ | ⋮ |\n",
       "| metaspades | NODE_2955_length_3455_cov_2.803529  | 12.93777 | 0.03125904 | 200.2622 | 255.2486 | 41.73765 | 12.22258 | 0.2112880 | 0.04138929 | 0.4547033 | -11.33885 | 1.408638 | 0.3188654 | 0 | 2017.12.04_18.45.54_sample_9 |\n",
       "| metaspades | NODE_2956_length_3453_cov_35.489406 | 19.94758 | 0.15030408 | 177.8566 | 250.9607 | 38.77601 | 18.24182 | 0.8520127 | 0.03562120 | 0.7819288 | -17.16403 | 1.436209 | 0.3227657 | 0 | 2017.12.04_18.45.54_sample_9 |\n",
       "| metaspades | NODE_2957_length_3453_cov_4.959094  | 19.98060 | 0.08803939 | 190.0802 | 255.6447 | 39.92235 | 18.39299 | 0.2945265 | 0.54126846 | 0.7211121 | -13.70294 | 1.567439 | 0.5761654 | 0 | 2017.12.04_18.45.54_sample_9 |\n",
       "| metaspades | NODE_2958_length_3452_cov_6.186341  | 19.97567 | 0.04316338 | 200.7626 | 261.9563 | 40.96823 | 19.04751 | 0.0000000 | 0.20133256 | 0.7137891 | -13.20444 | 1.413935 | 0.3528563 | 0 | 2017.12.04_18.45.54_sample_9 |\n",
       "| metaspades | NODE_2959_length_3452_cov_4.206653  | 19.98407 | 0.06402086 | 195.8430 | 265.4934 | 40.55333 | 18.98349 | 0.1712051 | 0.08487833 | 0.7398610 | -14.19987 | 1.418184 | 0.2978975 | 0 | 2017.12.04_18.45.54_sample_9 |\n",
       "\n"
      ],
      "text/plain": [
       "       assembler  contig                              coverage  num_SNPs  \n",
       "1      megahit    k141_20246                          15.052105 0.04003533\n",
       "2      megahit    k141_17                             14.642857 0.12202381\n",
       "3      megahit    k141_10256                           5.909794 0.06701031\n",
       "4      megahit    k141_40276                          14.930233 0.05395349\n",
       "5      megahit    k141_50810                          14.199357 0.26286174\n",
       "⋮      ⋮          ⋮                                   ⋮         ⋮         \n",
       "436457 metaspades NODE_2955_length_3455_cov_2.803529  12.93777  0.03125904\n",
       "436458 metaspades NODE_2956_length_3453_cov_35.489406 19.94758  0.15030408\n",
       "436459 metaspades NODE_2957_length_3453_cov_4.959094  19.98060  0.08803939\n",
       "436460 metaspades NODE_2958_length_3452_cov_6.186341  19.97567  0.04316338\n",
       "436461 metaspades NODE_2959_length_3452_cov_4.206653  19.98407  0.06402086\n",
       "       min_insert_size_Match mean_insert_size_Match mean_mapq_Match\n",
       "1      215.5097              268.6793               40.83807       \n",
       "2      167.6302              255.3244               39.01129       \n",
       "3      216.7637              264.0799               36.75375       \n",
       "4      179.8830              257.6943               13.39486       \n",
       "5      156.3913              246.3048               31.37585       \n",
       "⋮      ⋮                     ⋮                      ⋮              \n",
       "436457 200.2622              255.2486               41.73765       \n",
       "436458 177.8566              250.9607               38.77601       \n",
       "436459 190.0802              255.6447               39.92235       \n",
       "436460 200.7626              261.9563               40.96823       \n",
       "436461 195.8430              265.4934               40.55333       \n",
       "       num_proper_Match num_orphans_Match num_discordant_Match num_proper_SNP\n",
       "1      14.298793        0.0000000         0.2128349            0.5325287     \n",
       "2      13.551786        0.2392857         0.2583333            0.5553571     \n",
       "3       5.439863        0.2534364         0.0000000            0.2121993     \n",
       "4      13.960930        0.0000000         0.4027907            0.5506977     \n",
       "5      12.770900        0.6913183         0.0000000            0.7049839     \n",
       "⋮      ⋮                ⋮                 ⋮                    ⋮             \n",
       "436457 12.22258         0.2112880         0.04138929           0.4547033     \n",
       "436458 18.24182         0.8520127         0.03562120           0.7819288     \n",
       "436459 18.39299         0.2945265         0.54126846           0.7211121     \n",
       "436460 19.04751         0.0000000         0.20133256           0.7137891     \n",
       "436461 18.98349         0.1712051         0.08487833           0.7398610     \n",
       "       mean_al_score_Match seq_window_entropy seq_window_perc_gc\n",
       "1      -12.63571           1.397484           0.2760933         \n",
       "2      -17.19459           1.429589           0.2909905         \n",
       "3      -17.74954           1.447828           0.3081589         \n",
       "4      -13.15913           1.430370           0.3024781         \n",
       "5      -25.99006           1.544532           0.6542323         \n",
       "⋮      ⋮                   ⋮                  ⋮                 \n",
       "436457 -11.33885           1.408638           0.3188654         \n",
       "436458 -17.16403           1.436209           0.3227657         \n",
       "436459 -13.70294           1.567439           0.5761654         \n",
       "436460 -13.20444           1.413935           0.3528563         \n",
       "436461 -14.19987           1.418184           0.2978975         \n",
       "       Extensive_misassembly sample                      \n",
       "1      0                     2017.12.04_18.45.54_sample_0\n",
       "2      0                     2017.12.04_18.45.54_sample_0\n",
       "3      0                     2017.12.04_18.45.54_sample_0\n",
       "4      0                     2017.12.04_18.45.54_sample_0\n",
       "5      0                     2017.12.04_18.45.54_sample_0\n",
       "⋮      ⋮                     ⋮                           \n",
       "436457 0                     2017.12.04_18.45.54_sample_9\n",
       "436458 0                     2017.12.04_18.45.54_sample_9\n",
       "436459 0                     2017.12.04_18.45.54_sample_9\n",
       "436460 0                     2017.12.04_18.45.54_sample_9\n",
       "436461 0                     2017.12.04_18.45.54_sample_9"
      ]
     },
     "metadata": {},
     "output_type": "display_data"
    }
   ],
   "source": [
    "# reading\n",
    "read_feat = function(F){\n",
    "    df = Fread(F) %>%\n",
    "        select.(assembler, contig, \n",
    "                coverage, num_SNPs, min_insert_size_Match, mean_insert_size_Match, mean_mapq_Match, \n",
    "                num_proper_Match, num_orphans_Match, num_discordant_Match, num_proper_SNP, \n",
    "                mean_al_score_Match, seq_window_entropy, seq_window_perc_gc, Extensive_misassembly) %>%\n",
    "        summarize.(coverage = mean(coverage, na.rm=TRUE),\n",
    "                   num_SNPs = mean(num_SNPs, na.rm=TRUE),\n",
    "                   min_insert_size_Match = mean(min_insert_size_Match, na.rm=TRUE),\n",
    "                   mean_insert_size_Match = mean(mean_insert_size_Match, na.rm=TRUE),\n",
    "                   mean_mapq_Match = mean(mean_mapq_Match, na.rm=TRUE),\n",
    "                   num_proper_Match = mean(num_proper_Match, na.rm=TRUE),\n",
    "                   num_orphans_Match = mean(num_orphans_Match, na.rm=TRUE),\n",
    "                   num_discordant_Match = mean(num_discordant_Match, na.rm=TRUE),\n",
    "                   num_proper_SNP = mean(num_proper_SNP, na.rm=TRUE),\n",
    "                   mean_al_score_Match = mean(mean_al_score_Match, na.rm=TRUE),\n",
    "                   seq_window_entropy = mean(seq_window_entropy, na.rm=TRUE),\n",
    "                   seq_window_perc_gc = mean(seq_window_perc_gc, na.rm=TRUE),\n",
    "                   Extensive_misassembly = mean(Extensive_misassembly, na.rm=TRUE),\n",
    "                   .by=c(assembler, contig))\n",
    "    x = unlist(strsplit(F, '/'))\n",
    "    df$sample = x[length(x)-6]\n",
    "    return(df)\n",
    "}\n",
    "doParallel::registerDoParallel(6)\n",
    "feats = feat_files %>%\n",
    "    #head(n=2) %>%\n",
    "    plyr::llply(read_feat, .parallel=TRUE) %>%\n",
    "    rbindlist(use.names=TRUE) \n",
    "feats"
   ]
  },
  {
   "cell_type": "code",
   "execution_count": 47,
   "metadata": {
    "ExecuteTime": {
     "end_time": "2021-10-27T18:45:48.997471Z",
     "start_time": "2021-10-27T18:23:36.790Z"
    }
   },
   "outputs": [
    {
     "name": "stdout",
     "output_type": "stream",
     "text": [
      "File written: /ebio/abt3_projects/databases_no-backup/CAMI/CAMI2_HMP-gut/short_read//ResMiCo-SM/features/features_per-contig.tsv \n"
     ]
    }
   ],
   "source": [
    "# writing table\n",
    "D = file.path(work_dir, 'ResMiCo-SM', 'features')\n",
    "F = file.path(D, 'features_per-contig.tsv')\n",
    "write_table(feats, F)"
   ]
  },
  {
   "cell_type": "code",
   "execution_count": 305,
   "metadata": {
    "ExecuteTime": {
     "end_time": "2021-09-05T17:11:45.609990Z",
     "start_time": "2021-09-05T16:56:33.639Z"
    }
   },
   "outputs": [],
   "source": [
    "# read table\n",
    "# D = file.path(work_dir, 'ResMiCo-SM', 'features')\n",
    "# F = file.path(D, 'features_per-contig.tsv')\n",
    "# feats = Fread(F)\n",
    "# feats"
   ]
  },
  {
   "cell_type": "code",
   "execution_count": 48,
   "metadata": {
    "ExecuteTime": {
     "end_time": "2021-10-27T18:45:49.166590Z",
     "start_time": "2021-10-27T18:23:40.184Z"
    }
   },
   "outputs": [
    {
     "data": {
      "text/html": [
       "<table class=\"dataframe\">\n",
       "<caption>A matrix: 1 × 8 of type dbl</caption>\n",
       "<thead>\n",
       "\t<tr><th></th><th scope=col>Min.</th><th scope=col>1st Qu.</th><th scope=col>Median</th><th scope=col>Mean</th><th scope=col>3rd Qu.</th><th scope=col>Max.</th><th scope=col>sd</th><th scope=col>sd_err_of_mean</th></tr>\n",
       "</thead>\n",
       "<tbody>\n",
       "\t<tr><th scope=row>coverage</th><td>1.787488</td><td>8.709544</td><td>11.4568</td><td>12.62141</td><td>17.79532</td><td>20.78953</td><td>6.729</td><td>2.747</td></tr>\n",
       "</tbody>\n",
       "</table>\n"
      ],
      "text/latex": [
       "A matrix: 1 × 8 of type dbl\n",
       "\\begin{tabular}{r|llllllll}\n",
       "  & Min. & 1st Qu. & Median & Mean & 3rd Qu. & Max. & sd & sd\\_err\\_of\\_mean\\\\\n",
       "\\hline\n",
       "\tcoverage & 1.787488 & 8.709544 & 11.4568 & 12.62141 & 17.79532 & 20.78953 & 6.729 & 2.747\\\\\n",
       "\\end{tabular}\n"
      ],
      "text/markdown": [
       "\n",
       "A matrix: 1 × 8 of type dbl\n",
       "\n",
       "| <!--/--> | Min. | 1st Qu. | Median | Mean | 3rd Qu. | Max. | sd | sd_err_of_mean |\n",
       "|---|---|---|---|---|---|---|---|---|\n",
       "| coverage | 1.787488 | 8.709544 | 11.4568 | 12.62141 | 17.79532 | 20.78953 | 6.729 | 2.747 |\n",
       "\n"
      ],
      "text/plain": [
       "         Min.     1st Qu.  Median  Mean     3rd Qu.  Max.     sd   \n",
       "coverage 1.787488 8.709544 11.4568 12.62141 17.79532 20.78953 6.729\n",
       "         sd_err_of_mean\n",
       "coverage 2.747         "
      ]
     },
     "metadata": {},
     "output_type": "display_data"
    },
    {
     "data": {
      "text/html": [
       "<strong>95%:</strong> 19.9900573613767"
      ],
      "text/latex": [
       "\\textbf{95\\textbackslash{}\\%:} 19.9900573613767"
      ],
      "text/markdown": [
       "**95%:** 19.9900573613767"
      ],
      "text/plain": [
       "     95% \n",
       "19.99006 "
      ]
     },
     "metadata": {},
     "output_type": "display_data"
    }
   ],
   "source": [
    "# per-contig coverage distribution\n",
    "summary_x(feats$coverage)\n",
    "quantile(feats$coverage, 0.95)"
   ]
  },
  {
   "cell_type": "code",
   "execution_count": 49,
   "metadata": {
    "ExecuteTime": {
     "end_time": "2021-10-27T18:45:49.280981Z",
     "start_time": "2021-10-27T18:23:40.654Z"
    }
   },
   "outputs": [
    {
     "data": {
      "text/html": [
       "<table class=\"dataframe\">\n",
       "<caption>A matrix: 1 × 8 of type dbl</caption>\n",
       "<thead>\n",
       "\t<tr><th></th><th scope=col>Min.</th><th scope=col>1st Qu.</th><th scope=col>Median</th><th scope=col>Mean</th><th scope=col>3rd Qu.</th><th scope=col>Max.</th><th scope=col>sd</th><th scope=col>sd_err_of_mean</th></tr>\n",
       "</thead>\n",
       "<tbody>\n",
       "\t<tr><th scope=row>num_SNPs</th><td>0.0009737098</td><td>0.04387991</td><td>0.06480275</td><td>0.08489368</td><td>0.09450172</td><td>1.458824</td><td>0.573</td><td>0.234</td></tr>\n",
       "</tbody>\n",
       "</table>\n"
      ],
      "text/latex": [
       "A matrix: 1 × 8 of type dbl\n",
       "\\begin{tabular}{r|llllllll}\n",
       "  & Min. & 1st Qu. & Median & Mean & 3rd Qu. & Max. & sd & sd\\_err\\_of\\_mean\\\\\n",
       "\\hline\n",
       "\tnum\\_SNPs & 0.0009737098 & 0.04387991 & 0.06480275 & 0.08489368 & 0.09450172 & 1.458824 & 0.573 & 0.234\\\\\n",
       "\\end{tabular}\n"
      ],
      "text/markdown": [
       "\n",
       "A matrix: 1 × 8 of type dbl\n",
       "\n",
       "| <!--/--> | Min. | 1st Qu. | Median | Mean | 3rd Qu. | Max. | sd | sd_err_of_mean |\n",
       "|---|---|---|---|---|---|---|---|---|\n",
       "| num_SNPs | 0.0009737098 | 0.04387991 | 0.06480275 | 0.08489368 | 0.09450172 | 1.458824 | 0.573 | 0.234 |\n",
       "\n"
      ],
      "text/plain": [
       "         Min.         1st Qu.    Median     Mean       3rd Qu.    Max.    \n",
       "num_SNPs 0.0009737098 0.04387991 0.06480275 0.08489368 0.09450172 1.458824\n",
       "         sd    sd_err_of_mean\n",
       "num_SNPs 0.573 0.234         "
      ]
     },
     "metadata": {},
     "output_type": "display_data"
    }
   ],
   "source": [
    "# SNPs\n",
    "summary_x(feats$num_SNPs)"
   ]
  },
  {
   "cell_type": "code",
   "execution_count": 50,
   "metadata": {
    "ExecuteTime": {
     "end_time": "2021-10-27T18:45:49.554867Z",
     "start_time": "2021-10-27T18:23:41.630Z"
    }
   },
   "outputs": [
    {
     "data": {
      "text/html": [
       "<table class=\"dataframe\">\n",
       "<caption>A matrix: 1 × 8 of type dbl</caption>\n",
       "<thead>\n",
       "\t<tr><th></th><th scope=col>Min.</th><th scope=col>1st Qu.</th><th scope=col>Median</th><th scope=col>Mean</th><th scope=col>3rd Qu.</th><th scope=col>Max.</th><th scope=col>sd</th><th scope=col>sd_err_of_mean</th></tr>\n",
       "</thead>\n",
       "<tbody>\n",
       "\t<tr><th scope=row>min_insert_size_Match</th><td>0.8484362</td><td>152.4253</td><td>176.189</td><td>174.2468</td><td>199.0247</td><td>362.8572</td><td>115.471</td><td>47.141</td></tr>\n",
       "</tbody>\n",
       "</table>\n"
      ],
      "text/latex": [
       "A matrix: 1 × 8 of type dbl\n",
       "\\begin{tabular}{r|llllllll}\n",
       "  & Min. & 1st Qu. & Median & Mean & 3rd Qu. & Max. & sd & sd\\_err\\_of\\_mean\\\\\n",
       "\\hline\n",
       "\tmin\\_insert\\_size\\_Match & 0.8484362 & 152.4253 & 176.189 & 174.2468 & 199.0247 & 362.8572 & 115.471 & 47.141\\\\\n",
       "\\end{tabular}\n"
      ],
      "text/markdown": [
       "\n",
       "A matrix: 1 × 8 of type dbl\n",
       "\n",
       "| <!--/--> | Min. | 1st Qu. | Median | Mean | 3rd Qu. | Max. | sd | sd_err_of_mean |\n",
       "|---|---|---|---|---|---|---|---|---|\n",
       "| min_insert_size_Match | 0.8484362 | 152.4253 | 176.189 | 174.2468 | 199.0247 | 362.8572 | 115.471 | 47.141 |\n",
       "\n"
      ],
      "text/plain": [
       "                      Min.      1st Qu.  Median  Mean     3rd Qu.  Max.    \n",
       "min_insert_size_Match 0.8484362 152.4253 176.189 174.2468 199.0247 362.8572\n",
       "                      sd      sd_err_of_mean\n",
       "min_insert_size_Match 115.471 47.141        "
      ]
     },
     "metadata": {},
     "output_type": "display_data"
    },
    {
     "data": {
      "text/html": [
       "<table class=\"dataframe\">\n",
       "<caption>A matrix: 1 × 8 of type dbl</caption>\n",
       "<thead>\n",
       "\t<tr><th></th><th scope=col>Min.</th><th scope=col>1st Qu.</th><th scope=col>Median</th><th scope=col>Mean</th><th scope=col>3rd Qu.</th><th scope=col>Max.</th><th scope=col>sd</th><th scope=col>sd_err_of_mean</th></tr>\n",
       "</thead>\n",
       "<tbody>\n",
       "\t<tr><th scope=row>mean_insert_size_Match</th><td>119.59</td><td>236.0475</td><td>248.8368</td><td>246.5929</td><td>259.6207</td><td>511.9444</td><td>129.163</td><td>52.731</td></tr>\n",
       "</tbody>\n",
       "</table>\n"
      ],
      "text/latex": [
       "A matrix: 1 × 8 of type dbl\n",
       "\\begin{tabular}{r|llllllll}\n",
       "  & Min. & 1st Qu. & Median & Mean & 3rd Qu. & Max. & sd & sd\\_err\\_of\\_mean\\\\\n",
       "\\hline\n",
       "\tmean\\_insert\\_size\\_Match & 119.59 & 236.0475 & 248.8368 & 246.5929 & 259.6207 & 511.9444 & 129.163 & 52.731\\\\\n",
       "\\end{tabular}\n"
      ],
      "text/markdown": [
       "\n",
       "A matrix: 1 × 8 of type dbl\n",
       "\n",
       "| <!--/--> | Min. | 1st Qu. | Median | Mean | 3rd Qu. | Max. | sd | sd_err_of_mean |\n",
       "|---|---|---|---|---|---|---|---|---|\n",
       "| mean_insert_size_Match | 119.59 | 236.0475 | 248.8368 | 246.5929 | 259.6207 | 511.9444 | 129.163 | 52.731 |\n",
       "\n"
      ],
      "text/plain": [
       "                       Min.   1st Qu.  Median   Mean     3rd Qu.  Max.    \n",
       "mean_insert_size_Match 119.59 236.0475 248.8368 246.5929 259.6207 511.9444\n",
       "                       sd      sd_err_of_mean\n",
       "mean_insert_size_Match 129.163 52.731        "
      ]
     },
     "metadata": {},
     "output_type": "display_data"
    }
   ],
   "source": [
    "# insert sizes\n",
    "summary_x(feats$min_insert_size_Match)\n",
    "summary_x(feats$mean_insert_size_Match)"
   ]
  },
  {
   "cell_type": "code",
   "execution_count": 51,
   "metadata": {
    "ExecuteTime": {
     "end_time": "2021-10-27T18:45:49.670912Z",
     "start_time": "2021-10-27T18:23:42.054Z"
    }
   },
   "outputs": [
    {
     "data": {
      "text/html": [
       "<table class=\"dataframe\">\n",
       "<caption>A matrix: 1 × 8 of type dbl</caption>\n",
       "<thead>\n",
       "\t<tr><th></th><th scope=col>Min.</th><th scope=col>1st Qu.</th><th scope=col>Median</th><th scope=col>Mean</th><th scope=col>3rd Qu.</th><th scope=col>Max.</th><th scope=col>sd</th><th scope=col>sd_err_of_mean</th></tr>\n",
       "</thead>\n",
       "<tbody>\n",
       "\t<tr><th scope=row>mean_mapq_Match</th><td>0.7180691</td><td>37.69086</td><td>39.68748</td><td>38.40531</td><td>40.84288</td><td>42</td><td>16.002</td><td>6.533</td></tr>\n",
       "</tbody>\n",
       "</table>\n"
      ],
      "text/latex": [
       "A matrix: 1 × 8 of type dbl\n",
       "\\begin{tabular}{r|llllllll}\n",
       "  & Min. & 1st Qu. & Median & Mean & 3rd Qu. & Max. & sd & sd\\_err\\_of\\_mean\\\\\n",
       "\\hline\n",
       "\tmean\\_mapq\\_Match & 0.7180691 & 37.69086 & 39.68748 & 38.40531 & 40.84288 & 42 & 16.002 & 6.533\\\\\n",
       "\\end{tabular}\n"
      ],
      "text/markdown": [
       "\n",
       "A matrix: 1 × 8 of type dbl\n",
       "\n",
       "| <!--/--> | Min. | 1st Qu. | Median | Mean | 3rd Qu. | Max. | sd | sd_err_of_mean |\n",
       "|---|---|---|---|---|---|---|---|---|\n",
       "| mean_mapq_Match | 0.7180691 | 37.69086 | 39.68748 | 38.40531 | 40.84288 | 42 | 16.002 | 6.533 |\n",
       "\n"
      ],
      "text/plain": [
       "                Min.      1st Qu.  Median   Mean     3rd Qu.  Max. sd    \n",
       "mean_mapq_Match 0.7180691 37.69086 39.68748 38.40531 40.84288 42   16.002\n",
       "                sd_err_of_mean\n",
       "mean_mapq_Match 6.533         "
      ]
     },
     "metadata": {},
     "output_type": "display_data"
    }
   ],
   "source": [
    "# mapq\n",
    "summary_x(feats$mean_mapq_Match)"
   ]
  },
  {
   "cell_type": "code",
   "execution_count": 52,
   "metadata": {
    "ExecuteTime": {
     "end_time": "2021-10-27T18:45:49.867589Z",
     "start_time": "2021-10-27T18:23:42.718Z"
    }
   },
   "outputs": [
    {
     "data": {
      "text/html": [
       "<table class=\"dataframe\">\n",
       "<caption>A matrix: 1 × 8 of type dbl</caption>\n",
       "<thead>\n",
       "\t<tr><th></th><th scope=col>Min.</th><th scope=col>1st Qu.</th><th scope=col>Median</th><th scope=col>Mean</th><th scope=col>3rd Qu.</th><th scope=col>Max.</th><th scope=col>sd</th><th scope=col>sd_err_of_mean</th></tr>\n",
       "</thead>\n",
       "<tbody>\n",
       "\t<tr><th scope=row>num_proper_Match</th><td>0.782491</td><td>7.785</td><td>10.36275</td><td>11.51696</td><td>16.27661</td><td>19.32658</td><td>6.52</td><td>2.662</td></tr>\n",
       "</tbody>\n",
       "</table>\n"
      ],
      "text/latex": [
       "A matrix: 1 × 8 of type dbl\n",
       "\\begin{tabular}{r|llllllll}\n",
       "  & Min. & 1st Qu. & Median & Mean & 3rd Qu. & Max. & sd & sd\\_err\\_of\\_mean\\\\\n",
       "\\hline\n",
       "\tnum\\_proper\\_Match & 0.782491 & 7.785 & 10.36275 & 11.51696 & 16.27661 & 19.32658 & 6.52 & 2.662\\\\\n",
       "\\end{tabular}\n"
      ],
      "text/markdown": [
       "\n",
       "A matrix: 1 × 8 of type dbl\n",
       "\n",
       "| <!--/--> | Min. | 1st Qu. | Median | Mean | 3rd Qu. | Max. | sd | sd_err_of_mean |\n",
       "|---|---|---|---|---|---|---|---|---|\n",
       "| num_proper_Match | 0.782491 | 7.785 | 10.36275 | 11.51696 | 16.27661 | 19.32658 | 6.52 | 2.662 |\n",
       "\n"
      ],
      "text/plain": [
       "                 Min.     1st Qu. Median   Mean     3rd Qu.  Max.     sd  \n",
       "num_proper_Match 0.782491 7.785   10.36275 11.51696 16.27661 19.32658 6.52\n",
       "                 sd_err_of_mean\n",
       "num_proper_Match 2.662         "
      ]
     },
     "metadata": {},
     "output_type": "display_data"
    },
    {
     "data": {
      "text/html": [
       "<table class=\"dataframe\">\n",
       "<caption>A matrix: 1 × 8 of type dbl</caption>\n",
       "<thead>\n",
       "\t<tr><th></th><th scope=col>Min.</th><th scope=col>1st Qu.</th><th scope=col>Median</th><th scope=col>Mean</th><th scope=col>3rd Qu.</th><th scope=col>Max.</th><th scope=col>sd</th><th scope=col>sd_err_of_mean</th></tr>\n",
       "</thead>\n",
       "<tbody>\n",
       "\t<tr><th scope=row>num_proper_SNP</th><td>0.02978339</td><td>0.3282051</td><td>0.4329268</td><td>0.4766578</td><td>0.645575</td><td>1.87524</td><td>0.643</td><td>0.262</td></tr>\n",
       "</tbody>\n",
       "</table>\n"
      ],
      "text/latex": [
       "A matrix: 1 × 8 of type dbl\n",
       "\\begin{tabular}{r|llllllll}\n",
       "  & Min. & 1st Qu. & Median & Mean & 3rd Qu. & Max. & sd & sd\\_err\\_of\\_mean\\\\\n",
       "\\hline\n",
       "\tnum\\_proper\\_SNP & 0.02978339 & 0.3282051 & 0.4329268 & 0.4766578 & 0.645575 & 1.87524 & 0.643 & 0.262\\\\\n",
       "\\end{tabular}\n"
      ],
      "text/markdown": [
       "\n",
       "A matrix: 1 × 8 of type dbl\n",
       "\n",
       "| <!--/--> | Min. | 1st Qu. | Median | Mean | 3rd Qu. | Max. | sd | sd_err_of_mean |\n",
       "|---|---|---|---|---|---|---|---|---|\n",
       "| num_proper_SNP | 0.02978339 | 0.3282051 | 0.4329268 | 0.4766578 | 0.645575 | 1.87524 | 0.643 | 0.262 |\n",
       "\n"
      ],
      "text/plain": [
       "               Min.       1st Qu.   Median    Mean      3rd Qu.  Max.    sd   \n",
       "num_proper_SNP 0.02978339 0.3282051 0.4329268 0.4766578 0.645575 1.87524 0.643\n",
       "               sd_err_of_mean\n",
       "num_proper_SNP 0.262         "
      ]
     },
     "metadata": {},
     "output_type": "display_data"
    }
   ],
   "source": [
    "# proper\n",
    "summary_x(feats$num_proper_Match)\n",
    "summary_x(feats$num_proper_SNP)"
   ]
  },
  {
   "cell_type": "code",
   "execution_count": 53,
   "metadata": {
    "ExecuteTime": {
     "end_time": "2021-10-27T18:45:50.053122Z",
     "start_time": "2021-10-27T18:23:43.774Z"
    }
   },
   "outputs": [
    {
     "data": {
      "text/html": [
       "<table class=\"dataframe\">\n",
       "<caption>A matrix: 1 × 8 of type dbl</caption>\n",
       "<thead>\n",
       "\t<tr><th></th><th scope=col>Min.</th><th scope=col>1st Qu.</th><th scope=col>Median</th><th scope=col>Mean</th><th scope=col>3rd Qu.</th><th scope=col>Max.</th><th scope=col>sd</th><th scope=col>sd_err_of_mean</th></tr>\n",
       "</thead>\n",
       "<tbody>\n",
       "\t<tr><th scope=row>num_orphans_Match</th><td>0</td><td>0.123362</td><td>0.3425549</td><td>0.4326412</td><td>0.6172208</td><td>13.55352</td><td>5.414</td><td>2.21</td></tr>\n",
       "</tbody>\n",
       "</table>\n"
      ],
      "text/latex": [
       "A matrix: 1 × 8 of type dbl\n",
       "\\begin{tabular}{r|llllllll}\n",
       "  & Min. & 1st Qu. & Median & Mean & 3rd Qu. & Max. & sd & sd\\_err\\_of\\_mean\\\\\n",
       "\\hline\n",
       "\tnum\\_orphans\\_Match & 0 & 0.123362 & 0.3425549 & 0.4326412 & 0.6172208 & 13.55352 & 5.414 & 2.21\\\\\n",
       "\\end{tabular}\n"
      ],
      "text/markdown": [
       "\n",
       "A matrix: 1 × 8 of type dbl\n",
       "\n",
       "| <!--/--> | Min. | 1st Qu. | Median | Mean | 3rd Qu. | Max. | sd | sd_err_of_mean |\n",
       "|---|---|---|---|---|---|---|---|---|\n",
       "| num_orphans_Match | 0 | 0.123362 | 0.3425549 | 0.4326412 | 0.6172208 | 13.55352 | 5.414 | 2.21 |\n",
       "\n"
      ],
      "text/plain": [
       "                  Min. 1st Qu.  Median    Mean      3rd Qu.   Max.     sd   \n",
       "num_orphans_Match 0    0.123362 0.3425549 0.4326412 0.6172208 13.55352 5.414\n",
       "                  sd_err_of_mean\n",
       "num_orphans_Match 2.21          "
      ]
     },
     "metadata": {},
     "output_type": "display_data"
    }
   ],
   "source": [
    "# orphans\n",
    "summary_x(feats$num_orphans_Match)"
   ]
  },
  {
   "cell_type": "code",
   "execution_count": 54,
   "metadata": {
    "ExecuteTime": {
     "end_time": "2021-10-27T18:45:50.152284Z",
     "start_time": "2021-10-27T18:23:43.982Z"
    }
   },
   "outputs": [
    {
     "data": {
      "text/html": [
       "<table class=\"dataframe\">\n",
       "<caption>A matrix: 1 × 8 of type dbl</caption>\n",
       "<thead>\n",
       "\t<tr><th></th><th scope=col>Min.</th><th scope=col>1st Qu.</th><th scope=col>Median</th><th scope=col>Mean</th><th scope=col>3rd Qu.</th><th scope=col>Max.</th><th scope=col>sd</th><th scope=col>sd_err_of_mean</th></tr>\n",
       "</thead>\n",
       "<tbody>\n",
       "\t<tr><th scope=row>num_discordant_Match</th><td>0</td><td>0</td><td>0</td><td>0.167962</td><td>0.2357815</td><td>12.60496</td><td>5.114</td><td>2.088</td></tr>\n",
       "</tbody>\n",
       "</table>\n"
      ],
      "text/latex": [
       "A matrix: 1 × 8 of type dbl\n",
       "\\begin{tabular}{r|llllllll}\n",
       "  & Min. & 1st Qu. & Median & Mean & 3rd Qu. & Max. & sd & sd\\_err\\_of\\_mean\\\\\n",
       "\\hline\n",
       "\tnum\\_discordant\\_Match & 0 & 0 & 0 & 0.167962 & 0.2357815 & 12.60496 & 5.114 & 2.088\\\\\n",
       "\\end{tabular}\n"
      ],
      "text/markdown": [
       "\n",
       "A matrix: 1 × 8 of type dbl\n",
       "\n",
       "| <!--/--> | Min. | 1st Qu. | Median | Mean | 3rd Qu. | Max. | sd | sd_err_of_mean |\n",
       "|---|---|---|---|---|---|---|---|---|\n",
       "| num_discordant_Match | 0 | 0 | 0 | 0.167962 | 0.2357815 | 12.60496 | 5.114 | 2.088 |\n",
       "\n"
      ],
      "text/plain": [
       "                     Min. 1st Qu. Median Mean     3rd Qu.   Max.     sd   \n",
       "num_discordant_Match 0    0       0      0.167962 0.2357815 12.60496 5.114\n",
       "                     sd_err_of_mean\n",
       "num_discordant_Match 2.088         "
      ]
     },
     "metadata": {},
     "output_type": "display_data"
    }
   ],
   "source": [
    "# discordant\n",
    "summary_x(feats$num_discordant_Match)"
   ]
  },
  {
   "cell_type": "code",
   "execution_count": 55,
   "metadata": {
    "ExecuteTime": {
     "end_time": "2021-10-27T18:45:50.260176Z",
     "start_time": "2021-10-27T18:23:44.382Z"
    }
   },
   "outputs": [
    {
     "data": {
      "text/html": [
       "<table class=\"dataframe\">\n",
       "<caption>A matrix: 1 × 8 of type dbl</caption>\n",
       "<thead>\n",
       "\t<tr><th></th><th scope=col>Min.</th><th scope=col>1st Qu.</th><th scope=col>Median</th><th scope=col>Mean</th><th scope=col>3rd Qu.</th><th scope=col>Max.</th><th scope=col>sd</th><th scope=col>sd_err_of_mean</th></tr>\n",
       "</thead>\n",
       "<tbody>\n",
       "\t<tr><th scope=row>seq_window_entropy</th><td>1.16027</td><td>1.408372</td><td>1.475577</td><td>1.463263</td><td>1.518089</td><td>1.707179</td><td>0.177</td><td>0.072</td></tr>\n",
       "</tbody>\n",
       "</table>\n"
      ],
      "text/latex": [
       "A matrix: 1 × 8 of type dbl\n",
       "\\begin{tabular}{r|llllllll}\n",
       "  & Min. & 1st Qu. & Median & Mean & 3rd Qu. & Max. & sd & sd\\_err\\_of\\_mean\\\\\n",
       "\\hline\n",
       "\tseq\\_window\\_entropy & 1.16027 & 1.408372 & 1.475577 & 1.463263 & 1.518089 & 1.707179 & 0.177 & 0.072\\\\\n",
       "\\end{tabular}\n"
      ],
      "text/markdown": [
       "\n",
       "A matrix: 1 × 8 of type dbl\n",
       "\n",
       "| <!--/--> | Min. | 1st Qu. | Median | Mean | 3rd Qu. | Max. | sd | sd_err_of_mean |\n",
       "|---|---|---|---|---|---|---|---|---|\n",
       "| seq_window_entropy | 1.16027 | 1.408372 | 1.475577 | 1.463263 | 1.518089 | 1.707179 | 0.177 | 0.072 |\n",
       "\n"
      ],
      "text/plain": [
       "                   Min.    1st Qu.  Median   Mean     3rd Qu.  Max.     sd   \n",
       "seq_window_entropy 1.16027 1.408372 1.475577 1.463263 1.518089 1.707179 0.177\n",
       "                   sd_err_of_mean\n",
       "seq_window_entropy 0.072         "
      ]
     },
     "metadata": {},
     "output_type": "display_data"
    }
   ],
   "source": [
    "# entropy\n",
    "summary_x(feats$seq_window_entropy)"
   ]
  },
  {
   "cell_type": "code",
   "execution_count": 56,
   "metadata": {
    "ExecuteTime": {
     "end_time": "2021-10-27T18:45:50.441315Z",
     "start_time": "2021-10-27T18:23:44.566Z"
    }
   },
   "outputs": [
    {
     "data": {
      "text/html": [
       "<table class=\"dataframe\">\n",
       "<caption>A matrix: 1 × 8 of type dbl</caption>\n",
       "<thead>\n",
       "\t<tr><th></th><th scope=col>Min.</th><th scope=col>1st Qu.</th><th scope=col>Median</th><th scope=col>Mean</th><th scope=col>3rd Qu.</th><th scope=col>Max.</th><th scope=col>sd</th><th scope=col>sd_err_of_mean</th></tr>\n",
       "</thead>\n",
       "<tbody>\n",
       "\t<tr><th scope=row>seq_window_perc_gc</th><td>0.1331371</td><td>0.2986118</td><td>0.3862833</td><td>0.4150097</td><td>0.5036547</td><td>0.800812</td><td>0.224</td><td>0.091</td></tr>\n",
       "</tbody>\n",
       "</table>\n"
      ],
      "text/latex": [
       "A matrix: 1 × 8 of type dbl\n",
       "\\begin{tabular}{r|llllllll}\n",
       "  & Min. & 1st Qu. & Median & Mean & 3rd Qu. & Max. & sd & sd\\_err\\_of\\_mean\\\\\n",
       "\\hline\n",
       "\tseq\\_window\\_perc\\_gc & 0.1331371 & 0.2986118 & 0.3862833 & 0.4150097 & 0.5036547 & 0.800812 & 0.224 & 0.091\\\\\n",
       "\\end{tabular}\n"
      ],
      "text/markdown": [
       "\n",
       "A matrix: 1 × 8 of type dbl\n",
       "\n",
       "| <!--/--> | Min. | 1st Qu. | Median | Mean | 3rd Qu. | Max. | sd | sd_err_of_mean |\n",
       "|---|---|---|---|---|---|---|---|---|\n",
       "| seq_window_perc_gc | 0.1331371 | 0.2986118 | 0.3862833 | 0.4150097 | 0.5036547 | 0.800812 | 0.224 | 0.091 |\n",
       "\n"
      ],
      "text/plain": [
       "                   Min.      1st Qu.   Median    Mean      3rd Qu.   Max.    \n",
       "seq_window_perc_gc 0.1331371 0.2986118 0.3862833 0.4150097 0.5036547 0.800812\n",
       "                   sd    sd_err_of_mean\n",
       "seq_window_perc_gc 0.224 0.091         "
      ]
     },
     "metadata": {},
     "output_type": "display_data"
    }
   ],
   "source": [
    "# GC\n",
    "summary_x(feats$seq_window_perc_gc)"
   ]
  },
  {
   "cell_type": "code",
   "execution_count": 57,
   "metadata": {
    "ExecuteTime": {
     "end_time": "2021-10-27T18:45:51.092656Z",
     "start_time": "2021-10-27T18:23:44.757Z"
    }
   },
   "outputs": [
    {
     "data": {
      "text/plain": [
       "\n",
       "     0      1 \n",
       "431195   5266 "
      ]
     },
     "metadata": {},
     "output_type": "display_data"
    }
   ],
   "source": [
    "# misassemblies\n",
    "table(feats$Extensive_misassembly)"
   ]
  },
  {
   "cell_type": "code",
   "execution_count": 58,
   "metadata": {
    "ExecuteTime": {
     "end_time": "2021-10-27T18:45:52.222248Z",
     "start_time": "2021-10-27T18:23:45.198Z"
    }
   },
   "outputs": [
    {
     "name": "stderr",
     "output_type": "stream",
     "text": [
      "Sending email to: nyoungblut@tuebingen.mpg.de\n",
      "\n"
     ]
    }
   ],
   "source": [
    "send_email('http://127.0.0.1:9704/notebooks/deepmased/notebooks/06_version2/01_simulation_datasets/04_CAMI/01_CAMI2_HMP-gut.ipynb')"
   ]
  },
  {
   "cell_type": "markdown",
   "metadata": {},
   "source": [
    "### metaMIC"
   ]
  },
  {
   "cell_type": "markdown",
   "metadata": {},
   "source": [
    "#### True misassemblies"
   ]
  },
  {
   "cell_type": "code",
   "execution_count": 60,
   "metadata": {
    "ExecuteTime": {
     "end_time": "2021-10-27T18:47:41.269534Z",
     "start_time": "2021-10-27T18:47:41.163Z"
    }
   },
   "outputs": [
    {
     "data": {
      "text/html": [
       "20"
      ],
      "text/latex": [
       "20"
      ],
      "text/markdown": [
       "20"
      ],
      "text/plain": [
       "[1] 20"
      ]
     },
     "metadata": {},
     "output_type": "display_data"
    },
    {
     "data": {
      "text/html": [
       "<style>\n",
       ".list-inline {list-style: none; margin:0; padding: 0}\n",
       ".list-inline>li {display: inline-block}\n",
       ".list-inline>li:not(:last-child)::after {content: \"\\00b7\"; padding: 0 .5ex}\n",
       "</style>\n",
       "<ol class=list-inline><li>'/ebio/abt3_projects/databases_no-backup/CAMI/CAMI2_HMP-gut/short_read//ResMiCo-SM/features/2017.12.04_18.45.54_sample_0/NA/NA/NA/NA/megahit/features.tsv.gz'</li><li>'/ebio/abt3_projects/databases_no-backup/CAMI/CAMI2_HMP-gut/short_read//ResMiCo-SM/features/2017.12.04_18.45.54_sample_0/NA/NA/NA/NA/metaspades/features.tsv.gz'</li><li>'/ebio/abt3_projects/databases_no-backup/CAMI/CAMI2_HMP-gut/short_read//ResMiCo-SM/features/2017.12.04_18.45.54_sample_1/NA/NA/NA/NA/megahit/features.tsv.gz'</li></ol>\n"
      ],
      "text/latex": [
       "\\begin{enumerate*}\n",
       "\\item '/ebio/abt3\\_projects/databases\\_no-backup/CAMI/CAMI2\\_HMP-gut/short\\_read//ResMiCo-SM/features/2017.12.04\\_18.45.54\\_sample\\_0/NA/NA/NA/NA/megahit/features.tsv.gz'\n",
       "\\item '/ebio/abt3\\_projects/databases\\_no-backup/CAMI/CAMI2\\_HMP-gut/short\\_read//ResMiCo-SM/features/2017.12.04\\_18.45.54\\_sample\\_0/NA/NA/NA/NA/metaspades/features.tsv.gz'\n",
       "\\item '/ebio/abt3\\_projects/databases\\_no-backup/CAMI/CAMI2\\_HMP-gut/short\\_read//ResMiCo-SM/features/2017.12.04\\_18.45.54\\_sample\\_1/NA/NA/NA/NA/megahit/features.tsv.gz'\n",
       "\\end{enumerate*}\n"
      ],
      "text/markdown": [
       "1. '/ebio/abt3_projects/databases_no-backup/CAMI/CAMI2_HMP-gut/short_read//ResMiCo-SM/features/2017.12.04_18.45.54_sample_0/NA/NA/NA/NA/megahit/features.tsv.gz'\n",
       "2. '/ebio/abt3_projects/databases_no-backup/CAMI/CAMI2_HMP-gut/short_read//ResMiCo-SM/features/2017.12.04_18.45.54_sample_0/NA/NA/NA/NA/metaspades/features.tsv.gz'\n",
       "3. '/ebio/abt3_projects/databases_no-backup/CAMI/CAMI2_HMP-gut/short_read//ResMiCo-SM/features/2017.12.04_18.45.54_sample_1/NA/NA/NA/NA/megahit/features.tsv.gz'\n",
       "\n",
       "\n"
      ],
      "text/plain": [
       "[1] \"/ebio/abt3_projects/databases_no-backup/CAMI/CAMI2_HMP-gut/short_read//ResMiCo-SM/features/2017.12.04_18.45.54_sample_0/NA/NA/NA/NA/megahit/features.tsv.gz\"   \n",
       "[2] \"/ebio/abt3_projects/databases_no-backup/CAMI/CAMI2_HMP-gut/short_read//ResMiCo-SM/features/2017.12.04_18.45.54_sample_0/NA/NA/NA/NA/metaspades/features.tsv.gz\"\n",
       "[3] \"/ebio/abt3_projects/databases_no-backup/CAMI/CAMI2_HMP-gut/short_read//ResMiCo-SM/features/2017.12.04_18.45.54_sample_1/NA/NA/NA/NA/megahit/features.tsv.gz\"   "
      ]
     },
     "metadata": {},
     "output_type": "display_data"
    }
   ],
   "source": [
    "# listing files\n",
    "P = file.path(work_dir, 'ResMiCo-SM', 'features')\n",
    "feat_files = list_files(P, 'features.tsv.gz')\n",
    "feat_files %>% length\n",
    "feat_files %>% head(n=3)"
   ]
  },
  {
   "cell_type": "code",
   "execution_count": 61,
   "metadata": {
    "ExecuteTime": {
     "end_time": "2021-10-27T19:17:44.314139Z",
     "start_time": "2021-10-27T18:47:42.706Z"
    }
   },
   "outputs": [
    {
     "data": {
      "text/html": [
       "<table class=\"dataframe\">\n",
       "<caption>A data.table: 436461 × 4</caption>\n",
       "<thead>\n",
       "\t<tr><th scope=col>assembler</th><th scope=col>contig</th><th scope=col>Extensive_misassembly</th><th scope=col>sample</th></tr>\n",
       "\t<tr><th scope=col>&lt;chr&gt;</th><th scope=col>&lt;chr&gt;</th><th scope=col>&lt;int&gt;</th><th scope=col>&lt;chr&gt;</th></tr>\n",
       "</thead>\n",
       "<tbody>\n",
       "\t<tr><td>megahit</td><td>k141_20246</td><td>0</td><td>2017.12.04_18.45.54_sample_0</td></tr>\n",
       "\t<tr><td>megahit</td><td>k141_17   </td><td>0</td><td>2017.12.04_18.45.54_sample_0</td></tr>\n",
       "\t<tr><td>megahit</td><td>k141_10256</td><td>0</td><td>2017.12.04_18.45.54_sample_0</td></tr>\n",
       "\t<tr><td>megahit</td><td>k141_40276</td><td>0</td><td>2017.12.04_18.45.54_sample_0</td></tr>\n",
       "\t<tr><td>megahit</td><td>k141_50810</td><td>0</td><td>2017.12.04_18.45.54_sample_0</td></tr>\n",
       "\t<tr><td>⋮</td><td>⋮</td><td>⋮</td><td>⋮</td></tr>\n",
       "\t<tr><td>metaspades</td><td>NODE_2955_length_3455_cov_2.803529 </td><td>0</td><td>2017.12.04_18.45.54_sample_9</td></tr>\n",
       "\t<tr><td>metaspades</td><td>NODE_2956_length_3453_cov_35.489406</td><td>0</td><td>2017.12.04_18.45.54_sample_9</td></tr>\n",
       "\t<tr><td>metaspades</td><td>NODE_2957_length_3453_cov_4.959094 </td><td>0</td><td>2017.12.04_18.45.54_sample_9</td></tr>\n",
       "\t<tr><td>metaspades</td><td>NODE_2958_length_3452_cov_6.186341 </td><td>0</td><td>2017.12.04_18.45.54_sample_9</td></tr>\n",
       "\t<tr><td>metaspades</td><td>NODE_2959_length_3452_cov_4.206653 </td><td>0</td><td>2017.12.04_18.45.54_sample_9</td></tr>\n",
       "</tbody>\n",
       "</table>\n"
      ],
      "text/latex": [
       "A data.table: 436461 × 4\n",
       "\\begin{tabular}{llll}\n",
       " assembler & contig & Extensive\\_misassembly & sample\\\\\n",
       " <chr> & <chr> & <int> & <chr>\\\\\n",
       "\\hline\n",
       "\t megahit & k141\\_20246 & 0 & 2017.12.04\\_18.45.54\\_sample\\_0\\\\\n",
       "\t megahit & k141\\_17    & 0 & 2017.12.04\\_18.45.54\\_sample\\_0\\\\\n",
       "\t megahit & k141\\_10256 & 0 & 2017.12.04\\_18.45.54\\_sample\\_0\\\\\n",
       "\t megahit & k141\\_40276 & 0 & 2017.12.04\\_18.45.54\\_sample\\_0\\\\\n",
       "\t megahit & k141\\_50810 & 0 & 2017.12.04\\_18.45.54\\_sample\\_0\\\\\n",
       "\t ⋮ & ⋮ & ⋮ & ⋮\\\\\n",
       "\t metaspades & NODE\\_2955\\_length\\_3455\\_cov\\_2.803529  & 0 & 2017.12.04\\_18.45.54\\_sample\\_9\\\\\n",
       "\t metaspades & NODE\\_2956\\_length\\_3453\\_cov\\_35.489406 & 0 & 2017.12.04\\_18.45.54\\_sample\\_9\\\\\n",
       "\t metaspades & NODE\\_2957\\_length\\_3453\\_cov\\_4.959094  & 0 & 2017.12.04\\_18.45.54\\_sample\\_9\\\\\n",
       "\t metaspades & NODE\\_2958\\_length\\_3452\\_cov\\_6.186341  & 0 & 2017.12.04\\_18.45.54\\_sample\\_9\\\\\n",
       "\t metaspades & NODE\\_2959\\_length\\_3452\\_cov\\_4.206653  & 0 & 2017.12.04\\_18.45.54\\_sample\\_9\\\\\n",
       "\\end{tabular}\n"
      ],
      "text/markdown": [
       "\n",
       "A data.table: 436461 × 4\n",
       "\n",
       "| assembler &lt;chr&gt; | contig &lt;chr&gt; | Extensive_misassembly &lt;int&gt; | sample &lt;chr&gt; |\n",
       "|---|---|---|---|\n",
       "| megahit | k141_20246 | 0 | 2017.12.04_18.45.54_sample_0 |\n",
       "| megahit | k141_17    | 0 | 2017.12.04_18.45.54_sample_0 |\n",
       "| megahit | k141_10256 | 0 | 2017.12.04_18.45.54_sample_0 |\n",
       "| megahit | k141_40276 | 0 | 2017.12.04_18.45.54_sample_0 |\n",
       "| megahit | k141_50810 | 0 | 2017.12.04_18.45.54_sample_0 |\n",
       "| ⋮ | ⋮ | ⋮ | ⋮ |\n",
       "| metaspades | NODE_2955_length_3455_cov_2.803529  | 0 | 2017.12.04_18.45.54_sample_9 |\n",
       "| metaspades | NODE_2956_length_3453_cov_35.489406 | 0 | 2017.12.04_18.45.54_sample_9 |\n",
       "| metaspades | NODE_2957_length_3453_cov_4.959094  | 0 | 2017.12.04_18.45.54_sample_9 |\n",
       "| metaspades | NODE_2958_length_3452_cov_6.186341  | 0 | 2017.12.04_18.45.54_sample_9 |\n",
       "| metaspades | NODE_2959_length_3452_cov_4.206653  | 0 | 2017.12.04_18.45.54_sample_9 |\n",
       "\n"
      ],
      "text/plain": [
       "       assembler  contig                              Extensive_misassembly\n",
       "1      megahit    k141_20246                          0                    \n",
       "2      megahit    k141_17                             0                    \n",
       "3      megahit    k141_10256                          0                    \n",
       "4      megahit    k141_40276                          0                    \n",
       "5      megahit    k141_50810                          0                    \n",
       "⋮      ⋮          ⋮                                   ⋮                    \n",
       "436457 metaspades NODE_2955_length_3455_cov_2.803529  0                    \n",
       "436458 metaspades NODE_2956_length_3453_cov_35.489406 0                    \n",
       "436459 metaspades NODE_2957_length_3453_cov_4.959094  0                    \n",
       "436460 metaspades NODE_2958_length_3452_cov_6.186341  0                    \n",
       "436461 metaspades NODE_2959_length_3452_cov_4.206653  0                    \n",
       "       sample                      \n",
       "1      2017.12.04_18.45.54_sample_0\n",
       "2      2017.12.04_18.45.54_sample_0\n",
       "3      2017.12.04_18.45.54_sample_0\n",
       "4      2017.12.04_18.45.54_sample_0\n",
       "5      2017.12.04_18.45.54_sample_0\n",
       "⋮      ⋮                           \n",
       "436457 2017.12.04_18.45.54_sample_9\n",
       "436458 2017.12.04_18.45.54_sample_9\n",
       "436459 2017.12.04_18.45.54_sample_9\n",
       "436460 2017.12.04_18.45.54_sample_9\n",
       "436461 2017.12.04_18.45.54_sample_9"
      ]
     },
     "metadata": {},
     "output_type": "display_data"
    }
   ],
   "source": [
    "# reading\n",
    "read_feat_mis = function(F){\n",
    "    df = Fread(F) %>%\n",
    "        select.(assembler, contig, Extensive_misassembly) %>%\n",
    "        summarize.(Extensive_misassembly = first(Extensive_misassembly),\n",
    "                   .by=c(assembler, contig))\n",
    "    x = unlist(strsplit(F, '/'))\n",
    "    df$sample = x[length(x)-6]\n",
    "    return(df)\n",
    "}\n",
    "doParallel::registerDoParallel(6)\n",
    "true_mis = feat_files %>%\n",
    "    plyr::llply(read_feat_mis, .parallel=TRUE) %>%\n",
    "    rbindlist(use.names=TRUE) \n",
    "true_mis"
   ]
  },
  {
   "cell_type": "markdown",
   "metadata": {},
   "source": [
    "#### metaMIC contig scores\n",
    "\n",
    "misassembly classification cutoff:\n",
    "\n",
    "* MEGAHIT = 0.8\n",
    "* IDBA_UD = 0.5\n",
    "* other assemblers = `quantile(metaMIC_contig_score, 0.95))`"
   ]
  },
  {
   "cell_type": "code",
   "execution_count": 62,
   "metadata": {
    "ExecuteTime": {
     "end_time": "2021-10-27T19:17:44.422219Z",
     "start_time": "2021-10-27T18:47:49.169Z"
    }
   },
   "outputs": [
    {
     "data": {
      "text/html": [
       "20"
      ],
      "text/latex": [
       "20"
      ],
      "text/markdown": [
       "20"
      ],
      "text/plain": [
       "[1] 20"
      ]
     },
     "metadata": {},
     "output_type": "display_data"
    },
    {
     "data": {
      "text/html": [
       "<style>\n",
       ".list-inline {list-style: none; margin:0; padding: 0}\n",
       ".list-inline>li {display: inline-block}\n",
       ".list-inline>li:not(:last-child)::after {content: \"\\00b7\"; padding: 0 .5ex}\n",
       "</style>\n",
       "<ol class=list-inline><li>'/ebio/abt3_projects/databases_no-backup/CAMI/CAMI2_HMP-gut/short_read//ResMiCo-SM/metaMIC/2017.12.04_18.45.54_sample_0/NA/NA/NA/NA/megahit/metaMIC/metaMIC_contig_score.txt.gz'</li><li>'/ebio/abt3_projects/databases_no-backup/CAMI/CAMI2_HMP-gut/short_read//ResMiCo-SM/metaMIC/2017.12.04_18.45.54_sample_0/NA/NA/NA/NA/metaspades/metaMIC/metaMIC_contig_score.txt.gz'</li><li>'/ebio/abt3_projects/databases_no-backup/CAMI/CAMI2_HMP-gut/short_read//ResMiCo-SM/metaMIC/2017.12.04_18.45.54_sample_1/NA/NA/NA/NA/megahit/metaMIC/metaMIC_contig_score.txt.gz'</li></ol>\n"
      ],
      "text/latex": [
       "\\begin{enumerate*}\n",
       "\\item '/ebio/abt3\\_projects/databases\\_no-backup/CAMI/CAMI2\\_HMP-gut/short\\_read//ResMiCo-SM/metaMIC/2017.12.04\\_18.45.54\\_sample\\_0/NA/NA/NA/NA/megahit/metaMIC/metaMIC\\_contig\\_score.txt.gz'\n",
       "\\item '/ebio/abt3\\_projects/databases\\_no-backup/CAMI/CAMI2\\_HMP-gut/short\\_read//ResMiCo-SM/metaMIC/2017.12.04\\_18.45.54\\_sample\\_0/NA/NA/NA/NA/metaspades/metaMIC/metaMIC\\_contig\\_score.txt.gz'\n",
       "\\item '/ebio/abt3\\_projects/databases\\_no-backup/CAMI/CAMI2\\_HMP-gut/short\\_read//ResMiCo-SM/metaMIC/2017.12.04\\_18.45.54\\_sample\\_1/NA/NA/NA/NA/megahit/metaMIC/metaMIC\\_contig\\_score.txt.gz'\n",
       "\\end{enumerate*}\n"
      ],
      "text/markdown": [
       "1. '/ebio/abt3_projects/databases_no-backup/CAMI/CAMI2_HMP-gut/short_read//ResMiCo-SM/metaMIC/2017.12.04_18.45.54_sample_0/NA/NA/NA/NA/megahit/metaMIC/metaMIC_contig_score.txt.gz'\n",
       "2. '/ebio/abt3_projects/databases_no-backup/CAMI/CAMI2_HMP-gut/short_read//ResMiCo-SM/metaMIC/2017.12.04_18.45.54_sample_0/NA/NA/NA/NA/metaspades/metaMIC/metaMIC_contig_score.txt.gz'\n",
       "3. '/ebio/abt3_projects/databases_no-backup/CAMI/CAMI2_HMP-gut/short_read//ResMiCo-SM/metaMIC/2017.12.04_18.45.54_sample_1/NA/NA/NA/NA/megahit/metaMIC/metaMIC_contig_score.txt.gz'\n",
       "\n",
       "\n"
      ],
      "text/plain": [
       "[1] \"/ebio/abt3_projects/databases_no-backup/CAMI/CAMI2_HMP-gut/short_read//ResMiCo-SM/metaMIC/2017.12.04_18.45.54_sample_0/NA/NA/NA/NA/megahit/metaMIC/metaMIC_contig_score.txt.gz\"   \n",
       "[2] \"/ebio/abt3_projects/databases_no-backup/CAMI/CAMI2_HMP-gut/short_read//ResMiCo-SM/metaMIC/2017.12.04_18.45.54_sample_0/NA/NA/NA/NA/metaspades/metaMIC/metaMIC_contig_score.txt.gz\"\n",
       "[3] \"/ebio/abt3_projects/databases_no-backup/CAMI/CAMI2_HMP-gut/short_read//ResMiCo-SM/metaMIC/2017.12.04_18.45.54_sample_1/NA/NA/NA/NA/megahit/metaMIC/metaMIC_contig_score.txt.gz\"   "
      ]
     },
     "metadata": {},
     "output_type": "display_data"
    }
   ],
   "source": [
    "# listing files\n",
    "P = file.path(work_dir, 'ResMiCo-SM', 'metaMIC')\n",
    "files = list_files(P, 'metaMIC_contig_score.txt.gz')\n",
    "files %>% length\n",
    "files %>% head(n=3)"
   ]
  },
  {
   "cell_type": "code",
   "execution_count": 63,
   "metadata": {
    "ExecuteTime": {
     "end_time": "2021-10-27T19:17:50.127299Z",
     "start_time": "2021-10-27T18:47:49.960Z"
    }
   },
   "outputs": [
    {
     "data": {
      "text/html": [
       "<table class=\"dataframe\">\n",
       "<caption>A data.table: 411276 × 5</caption>\n",
       "<thead>\n",
       "\t<tr><th scope=col>contig</th><th scope=col>metaMIC_contig_score</th><th scope=col>length</th><th scope=col>sample</th><th scope=col>assembler</th></tr>\n",
       "\t<tr><th scope=col>&lt;chr&gt;</th><th scope=col>&lt;dbl&gt;</th><th scope=col>&lt;dbl&gt;</th><th scope=col>&lt;chr&gt;</th><th scope=col>&lt;chr&gt;</th></tr>\n",
       "</thead>\n",
       "<tbody>\n",
       "\t<tr><td>k141_10002</td><td>0.51670</td><td> 1808</td><td>2017.12.04_18.45.54_sample_0</td><td>megahit</td></tr>\n",
       "\t<tr><td>k141_10004</td><td>0.19075</td><td> 2451</td><td>2017.12.04_18.45.54_sample_0</td><td>megahit</td></tr>\n",
       "\t<tr><td>k141_1001 </td><td>0.20990</td><td> 1539</td><td>2017.12.04_18.45.54_sample_0</td><td>megahit</td></tr>\n",
       "\t<tr><td>k141_10013</td><td>0.25700</td><td> 1130</td><td>2017.12.04_18.45.54_sample_0</td><td>megahit</td></tr>\n",
       "\t<tr><td>k141_10015</td><td>0.38055</td><td>87030</td><td>2017.12.04_18.45.54_sample_0</td><td>megahit</td></tr>\n",
       "\t<tr><td>⋮</td><td>⋮</td><td>⋮</td><td>⋮</td><td>⋮</td></tr>\n",
       "\t<tr><td>NODE_9998_length_1562_cov_3.940279</td><td>0.34890</td><td>  1562</td><td>2017.12.04_18.45.54_sample_9</td><td>metaspades</td></tr>\n",
       "\t<tr><td>NODE_9999_length_1562_cov_3.857996</td><td>0.23590</td><td>  1562</td><td>2017.12.04_18.45.54_sample_9</td><td>metaspades</td></tr>\n",
       "\t<tr><td>NODE_999_length_8051_cov_6.272261 </td><td>0.23075</td><td>  8051</td><td>2017.12.04_18.45.54_sample_9</td><td>metaspades</td></tr>\n",
       "\t<tr><td>NODE_99_length_72941_cov_20.897580</td><td>0.44960</td><td> 72941</td><td>2017.12.04_18.45.54_sample_9</td><td>metaspades</td></tr>\n",
       "\t<tr><td>NODE_9_length_310917_cov_27.051335</td><td>0.43240</td><td>310917</td><td>2017.12.04_18.45.54_sample_9</td><td>metaspades</td></tr>\n",
       "</tbody>\n",
       "</table>\n"
      ],
      "text/latex": [
       "A data.table: 411276 × 5\n",
       "\\begin{tabular}{lllll}\n",
       " contig & metaMIC\\_contig\\_score & length & sample & assembler\\\\\n",
       " <chr> & <dbl> & <dbl> & <chr> & <chr>\\\\\n",
       "\\hline\n",
       "\t k141\\_10002 & 0.51670 &  1808 & 2017.12.04\\_18.45.54\\_sample\\_0 & megahit\\\\\n",
       "\t k141\\_10004 & 0.19075 &  2451 & 2017.12.04\\_18.45.54\\_sample\\_0 & megahit\\\\\n",
       "\t k141\\_1001  & 0.20990 &  1539 & 2017.12.04\\_18.45.54\\_sample\\_0 & megahit\\\\\n",
       "\t k141\\_10013 & 0.25700 &  1130 & 2017.12.04\\_18.45.54\\_sample\\_0 & megahit\\\\\n",
       "\t k141\\_10015 & 0.38055 & 87030 & 2017.12.04\\_18.45.54\\_sample\\_0 & megahit\\\\\n",
       "\t ⋮ & ⋮ & ⋮ & ⋮ & ⋮\\\\\n",
       "\t NODE\\_9998\\_length\\_1562\\_cov\\_3.940279 & 0.34890 &   1562 & 2017.12.04\\_18.45.54\\_sample\\_9 & metaspades\\\\\n",
       "\t NODE\\_9999\\_length\\_1562\\_cov\\_3.857996 & 0.23590 &   1562 & 2017.12.04\\_18.45.54\\_sample\\_9 & metaspades\\\\\n",
       "\t NODE\\_999\\_length\\_8051\\_cov\\_6.272261  & 0.23075 &   8051 & 2017.12.04\\_18.45.54\\_sample\\_9 & metaspades\\\\\n",
       "\t NODE\\_99\\_length\\_72941\\_cov\\_20.897580 & 0.44960 &  72941 & 2017.12.04\\_18.45.54\\_sample\\_9 & metaspades\\\\\n",
       "\t NODE\\_9\\_length\\_310917\\_cov\\_27.051335 & 0.43240 & 310917 & 2017.12.04\\_18.45.54\\_sample\\_9 & metaspades\\\\\n",
       "\\end{tabular}\n"
      ],
      "text/markdown": [
       "\n",
       "A data.table: 411276 × 5\n",
       "\n",
       "| contig &lt;chr&gt; | metaMIC_contig_score &lt;dbl&gt; | length &lt;dbl&gt; | sample &lt;chr&gt; | assembler &lt;chr&gt; |\n",
       "|---|---|---|---|---|\n",
       "| k141_10002 | 0.51670 |  1808 | 2017.12.04_18.45.54_sample_0 | megahit |\n",
       "| k141_10004 | 0.19075 |  2451 | 2017.12.04_18.45.54_sample_0 | megahit |\n",
       "| k141_1001  | 0.20990 |  1539 | 2017.12.04_18.45.54_sample_0 | megahit |\n",
       "| k141_10013 | 0.25700 |  1130 | 2017.12.04_18.45.54_sample_0 | megahit |\n",
       "| k141_10015 | 0.38055 | 87030 | 2017.12.04_18.45.54_sample_0 | megahit |\n",
       "| ⋮ | ⋮ | ⋮ | ⋮ | ⋮ |\n",
       "| NODE_9998_length_1562_cov_3.940279 | 0.34890 |   1562 | 2017.12.04_18.45.54_sample_9 | metaspades |\n",
       "| NODE_9999_length_1562_cov_3.857996 | 0.23590 |   1562 | 2017.12.04_18.45.54_sample_9 | metaspades |\n",
       "| NODE_999_length_8051_cov_6.272261  | 0.23075 |   8051 | 2017.12.04_18.45.54_sample_9 | metaspades |\n",
       "| NODE_99_length_72941_cov_20.897580 | 0.44960 |  72941 | 2017.12.04_18.45.54_sample_9 | metaspades |\n",
       "| NODE_9_length_310917_cov_27.051335 | 0.43240 | 310917 | 2017.12.04_18.45.54_sample_9 | metaspades |\n",
       "\n"
      ],
      "text/plain": [
       "       contig                             metaMIC_contig_score length\n",
       "1      k141_10002                         0.51670               1808 \n",
       "2      k141_10004                         0.19075               2451 \n",
       "3      k141_1001                          0.20990               1539 \n",
       "4      k141_10013                         0.25700               1130 \n",
       "5      k141_10015                         0.38055              87030 \n",
       "⋮      ⋮                                  ⋮                    ⋮     \n",
       "411272 NODE_9998_length_1562_cov_3.940279 0.34890                1562\n",
       "411273 NODE_9999_length_1562_cov_3.857996 0.23590                1562\n",
       "411274 NODE_999_length_8051_cov_6.272261  0.23075                8051\n",
       "411275 NODE_99_length_72941_cov_20.897580 0.44960               72941\n",
       "411276 NODE_9_length_310917_cov_27.051335 0.43240              310917\n",
       "       sample                       assembler \n",
       "1      2017.12.04_18.45.54_sample_0 megahit   \n",
       "2      2017.12.04_18.45.54_sample_0 megahit   \n",
       "3      2017.12.04_18.45.54_sample_0 megahit   \n",
       "4      2017.12.04_18.45.54_sample_0 megahit   \n",
       "5      2017.12.04_18.45.54_sample_0 megahit   \n",
       "⋮      ⋮                            ⋮         \n",
       "411272 2017.12.04_18.45.54_sample_9 metaspades\n",
       "411273 2017.12.04_18.45.54_sample_9 metaspades\n",
       "411274 2017.12.04_18.45.54_sample_9 metaspades\n",
       "411275 2017.12.04_18.45.54_sample_9 metaspades\n",
       "411276 2017.12.04_18.45.54_sample_9 metaspades"
      ]
     },
     "metadata": {},
     "output_type": "display_data"
    }
   ],
   "source": [
    "# reading\n",
    "read_table = function(F){\n",
    "    df = Fread(F) \n",
    "    x = unlist(strsplit(F, '/'))\n",
    "    df$sample = x[length(x)-7]\n",
    "    df$assembler = x[length(x)-2]\n",
    "    return(df)\n",
    "}\n",
    "mMIC = files %>%\n",
    "    plyr::llply(read_table, .parallel=FALSE) %>%\n",
    "    rbindlist(use.names=TRUE) \n",
    "mMIC"
   ]
  },
  {
   "cell_type": "code",
   "execution_count": 64,
   "metadata": {
    "ExecuteTime": {
     "end_time": "2021-10-27T19:17:52.095893Z",
     "start_time": "2021-10-27T18:47:51.211Z"
    }
   },
   "outputs": [
    {
     "name": "stdout",
     "output_type": "stream",
     "text": [
      "intersect(x,y): 280163 \n",
      "setdiff(x,y): 0 \n",
      "setdiff(y,x): 5955 \n",
      "union(x,y): 286118 \n"
     ]
    },
    {
     "data": {
      "text/html": [
       "<table class=\"dataframe\">\n",
       "<caption>A tidytable: 411276 × 6</caption>\n",
       "<thead>\n",
       "\t<tr><th scope=col>contig</th><th scope=col>metaMIC_contig_score</th><th scope=col>length</th><th scope=col>sample</th><th scope=col>assembler</th><th scope=col>Extensive_misassembly</th></tr>\n",
       "\t<tr><th scope=col>&lt;chr&gt;</th><th scope=col>&lt;dbl&gt;</th><th scope=col>&lt;dbl&gt;</th><th scope=col>&lt;chr&gt;</th><th scope=col>&lt;chr&gt;</th><th scope=col>&lt;int&gt;</th></tr>\n",
       "</thead>\n",
       "<tbody>\n",
       "\t<tr><td>k141_20246</td><td>0.24390</td><td>3397</td><td>2017.12.04_18.45.54_sample_0</td><td>megahit</td><td>0</td></tr>\n",
       "\t<tr><td>k141_17   </td><td>0.37790</td><td>1680</td><td>2017.12.04_18.45.54_sample_0</td><td>megahit</td><td>0</td></tr>\n",
       "\t<tr><td>k141_40276</td><td>0.26110</td><td>1075</td><td>2017.12.04_18.45.54_sample_0</td><td>megahit</td><td>0</td></tr>\n",
       "\t<tr><td>k141_50810</td><td>0.44460</td><td>1244</td><td>2017.12.04_18.45.54_sample_0</td><td>megahit</td><td>0</td></tr>\n",
       "\t<tr><td>k141_60992</td><td>0.54285</td><td>1148</td><td>2017.12.04_18.45.54_sample_0</td><td>megahit</td><td>0</td></tr>\n",
       "\t<tr><td>⋮</td><td>⋮</td><td>⋮</td><td>⋮</td><td>⋮</td><td>⋮</td></tr>\n",
       "\t<tr><td>NODE_2955_length_3455_cov_2.803529 </td><td>0.33730</td><td>3455</td><td>2017.12.04_18.45.54_sample_9</td><td>metaspades</td><td>0</td></tr>\n",
       "\t<tr><td>NODE_2956_length_3453_cov_35.489406</td><td>0.26805</td><td>3453</td><td>2017.12.04_18.45.54_sample_9</td><td>metaspades</td><td>0</td></tr>\n",
       "\t<tr><td>NODE_2957_length_3453_cov_4.959094 </td><td>0.41590</td><td>3453</td><td>2017.12.04_18.45.54_sample_9</td><td>metaspades</td><td>0</td></tr>\n",
       "\t<tr><td>NODE_2958_length_3452_cov_6.186341 </td><td>0.28470</td><td>3452</td><td>2017.12.04_18.45.54_sample_9</td><td>metaspades</td><td>0</td></tr>\n",
       "\t<tr><td>NODE_2959_length_3452_cov_4.206653 </td><td>0.27215</td><td>3452</td><td>2017.12.04_18.45.54_sample_9</td><td>metaspades</td><td>0</td></tr>\n",
       "</tbody>\n",
       "</table>\n"
      ],
      "text/latex": [
       "A tidytable: 411276 × 6\n",
       "\\begin{tabular}{llllll}\n",
       " contig & metaMIC\\_contig\\_score & length & sample & assembler & Extensive\\_misassembly\\\\\n",
       " <chr> & <dbl> & <dbl> & <chr> & <chr> & <int>\\\\\n",
       "\\hline\n",
       "\t k141\\_20246 & 0.24390 & 3397 & 2017.12.04\\_18.45.54\\_sample\\_0 & megahit & 0\\\\\n",
       "\t k141\\_17    & 0.37790 & 1680 & 2017.12.04\\_18.45.54\\_sample\\_0 & megahit & 0\\\\\n",
       "\t k141\\_40276 & 0.26110 & 1075 & 2017.12.04\\_18.45.54\\_sample\\_0 & megahit & 0\\\\\n",
       "\t k141\\_50810 & 0.44460 & 1244 & 2017.12.04\\_18.45.54\\_sample\\_0 & megahit & 0\\\\\n",
       "\t k141\\_60992 & 0.54285 & 1148 & 2017.12.04\\_18.45.54\\_sample\\_0 & megahit & 0\\\\\n",
       "\t ⋮ & ⋮ & ⋮ & ⋮ & ⋮ & ⋮\\\\\n",
       "\t NODE\\_2955\\_length\\_3455\\_cov\\_2.803529  & 0.33730 & 3455 & 2017.12.04\\_18.45.54\\_sample\\_9 & metaspades & 0\\\\\n",
       "\t NODE\\_2956\\_length\\_3453\\_cov\\_35.489406 & 0.26805 & 3453 & 2017.12.04\\_18.45.54\\_sample\\_9 & metaspades & 0\\\\\n",
       "\t NODE\\_2957\\_length\\_3453\\_cov\\_4.959094  & 0.41590 & 3453 & 2017.12.04\\_18.45.54\\_sample\\_9 & metaspades & 0\\\\\n",
       "\t NODE\\_2958\\_length\\_3452\\_cov\\_6.186341  & 0.28470 & 3452 & 2017.12.04\\_18.45.54\\_sample\\_9 & metaspades & 0\\\\\n",
       "\t NODE\\_2959\\_length\\_3452\\_cov\\_4.206653  & 0.27215 & 3452 & 2017.12.04\\_18.45.54\\_sample\\_9 & metaspades & 0\\\\\n",
       "\\end{tabular}\n"
      ],
      "text/markdown": [
       "\n",
       "A tidytable: 411276 × 6\n",
       "\n",
       "| contig &lt;chr&gt; | metaMIC_contig_score &lt;dbl&gt; | length &lt;dbl&gt; | sample &lt;chr&gt; | assembler &lt;chr&gt; | Extensive_misassembly &lt;int&gt; |\n",
       "|---|---|---|---|---|---|\n",
       "| k141_20246 | 0.24390 | 3397 | 2017.12.04_18.45.54_sample_0 | megahit | 0 |\n",
       "| k141_17    | 0.37790 | 1680 | 2017.12.04_18.45.54_sample_0 | megahit | 0 |\n",
       "| k141_40276 | 0.26110 | 1075 | 2017.12.04_18.45.54_sample_0 | megahit | 0 |\n",
       "| k141_50810 | 0.44460 | 1244 | 2017.12.04_18.45.54_sample_0 | megahit | 0 |\n",
       "| k141_60992 | 0.54285 | 1148 | 2017.12.04_18.45.54_sample_0 | megahit | 0 |\n",
       "| ⋮ | ⋮ | ⋮ | ⋮ | ⋮ | ⋮ |\n",
       "| NODE_2955_length_3455_cov_2.803529  | 0.33730 | 3455 | 2017.12.04_18.45.54_sample_9 | metaspades | 0 |\n",
       "| NODE_2956_length_3453_cov_35.489406 | 0.26805 | 3453 | 2017.12.04_18.45.54_sample_9 | metaspades | 0 |\n",
       "| NODE_2957_length_3453_cov_4.959094  | 0.41590 | 3453 | 2017.12.04_18.45.54_sample_9 | metaspades | 0 |\n",
       "| NODE_2958_length_3452_cov_6.186341  | 0.28470 | 3452 | 2017.12.04_18.45.54_sample_9 | metaspades | 0 |\n",
       "| NODE_2959_length_3452_cov_4.206653  | 0.27215 | 3452 | 2017.12.04_18.45.54_sample_9 | metaspades | 0 |\n",
       "\n"
      ],
      "text/plain": [
       "       contig                              metaMIC_contig_score length\n",
       "1      k141_20246                          0.24390              3397  \n",
       "2      k141_17                             0.37790              1680  \n",
       "3      k141_40276                          0.26110              1075  \n",
       "4      k141_50810                          0.44460              1244  \n",
       "5      k141_60992                          0.54285              1148  \n",
       "⋮      ⋮                                   ⋮                    ⋮     \n",
       "411272 NODE_2955_length_3455_cov_2.803529  0.33730              3455  \n",
       "411273 NODE_2956_length_3453_cov_35.489406 0.26805              3453  \n",
       "411274 NODE_2957_length_3453_cov_4.959094  0.41590              3453  \n",
       "411275 NODE_2958_length_3452_cov_6.186341  0.28470              3452  \n",
       "411276 NODE_2959_length_3452_cov_4.206653  0.27215              3452  \n",
       "       sample                       assembler  Extensive_misassembly\n",
       "1      2017.12.04_18.45.54_sample_0 megahit    0                    \n",
       "2      2017.12.04_18.45.54_sample_0 megahit    0                    \n",
       "3      2017.12.04_18.45.54_sample_0 megahit    0                    \n",
       "4      2017.12.04_18.45.54_sample_0 megahit    0                    \n",
       "5      2017.12.04_18.45.54_sample_0 megahit    0                    \n",
       "⋮      ⋮                            ⋮          ⋮                    \n",
       "411272 2017.12.04_18.45.54_sample_9 metaspades 0                    \n",
       "411273 2017.12.04_18.45.54_sample_9 metaspades 0                    \n",
       "411274 2017.12.04_18.45.54_sample_9 metaspades 0                    \n",
       "411275 2017.12.04_18.45.54_sample_9 metaspades 0                    \n",
       "411276 2017.12.04_18.45.54_sample_9 metaspades 0                    "
      ]
     },
     "metadata": {},
     "output_type": "display_data"
    }
   ],
   "source": [
    "# joining\n",
    "overlap(mMIC$contig, true_mis$contig)\n",
    "mMIC = mMIC %>%\n",
    "    inner_join.(true_mis, c('sample', 'assembler', 'contig')) %>%\n",
    "    mutate.(metaMIC_contig_score = ifelse(is.na(metaMIC_contig_score), 0, metaMIC_contig_score))\n",
    "mMIC"
   ]
  },
  {
   "cell_type": "code",
   "execution_count": 65,
   "metadata": {
    "ExecuteTime": {
     "end_time": "2021-10-27T19:17:52.140516Z",
     "start_time": "2021-10-27T18:47:51.920Z"
    }
   },
   "outputs": [
    {
     "name": "stdout",
     "output_type": "stream",
     "text": [
      "metaspades cutoff: 0.5424025 \n"
     ]
    }
   ],
   "source": [
    "# contig cutoff\n",
    "ms_cutoff = mMIC %>%\n",
    "    filter.(assembler == 'metaspades') %>%\n",
    "    .$metaMIC_contig_score %>% quantile(0.95)\n",
    "cat('metaspades cutoff:', ms_cutoff, '\\n')"
   ]
  },
  {
   "cell_type": "code",
   "execution_count": 66,
   "metadata": {
    "ExecuteTime": {
     "end_time": "2021-10-27T19:17:52.322354Z",
     "start_time": "2021-10-27T18:47:53.672Z"
    }
   },
   "outputs": [
    {
     "data": {
      "text/html": [
       "<table class=\"dataframe\">\n",
       "<caption>A tidytable: 20 × 6</caption>\n",
       "<thead>\n",
       "\t<tr><th scope=col>sample</th><th scope=col>assembler</th><th scope=col>TP</th><th scope=col>TN</th><th scope=col>FP</th><th scope=col>FN</th></tr>\n",
       "\t<tr><th scope=col>&lt;chr&gt;</th><th scope=col>&lt;chr&gt;</th><th scope=col>&lt;int&gt;</th><th scope=col>&lt;int&gt;</th><th scope=col>&lt;int&gt;</th><th scope=col>&lt;int&gt;</th></tr>\n",
       "</thead>\n",
       "<tbody>\n",
       "\t<tr><td>2017.12.04_18.45.54_sample_0 </td><td>megahit   </td><td> 0</td><td>14691</td><td>  0</td><td>273</td></tr>\n",
       "\t<tr><td>2017.12.04_18.45.54_sample_0 </td><td>metaspades</td><td>41</td><td>10500</td><td>494</td><td> 57</td></tr>\n",
       "\t<tr><td>2017.12.04_18.45.54_sample_1 </td><td>megahit   </td><td> 0</td><td>24655</td><td>  0</td><td>444</td></tr>\n",
       "\t<tr><td>2017.12.04_18.45.54_sample_1 </td><td>metaspades</td><td>61</td><td>15380</td><td>813</td><td> 79</td></tr>\n",
       "\t<tr><td>2017.12.04_18.45.54_sample_10</td><td>megahit   </td><td> 0</td><td>39786</td><td>  0</td><td>583</td></tr>\n",
       "\t<tr><td>⋮</td><td>⋮</td><td>⋮</td><td>⋮</td><td>⋮</td><td>⋮</td></tr>\n",
       "\t<tr><td>2017.12.04_18.45.54_sample_4</td><td>metaspades</td><td>34</td><td>19367</td><td> 858</td><td> 76</td></tr>\n",
       "\t<tr><td>2017.12.04_18.45.54_sample_5</td><td>megahit   </td><td> 0</td><td>10955</td><td>   0</td><td>194</td></tr>\n",
       "\t<tr><td>2017.12.04_18.45.54_sample_5</td><td>metaspades</td><td>16</td><td> 8417</td><td> 402</td><td> 34</td></tr>\n",
       "\t<tr><td>2017.12.04_18.45.54_sample_9</td><td>megahit   </td><td> 0</td><td>32640</td><td>   0</td><td>487</td></tr>\n",
       "\t<tr><td>2017.12.04_18.45.54_sample_9</td><td>metaspades</td><td>58</td><td>22164</td><td>1187</td><td>107</td></tr>\n",
       "</tbody>\n",
       "</table>\n"
      ],
      "text/latex": [
       "A tidytable: 20 × 6\n",
       "\\begin{tabular}{llllll}\n",
       " sample & assembler & TP & TN & FP & FN\\\\\n",
       " <chr> & <chr> & <int> & <int> & <int> & <int>\\\\\n",
       "\\hline\n",
       "\t 2017.12.04\\_18.45.54\\_sample\\_0  & megahit    &  0 & 14691 &   0 & 273\\\\\n",
       "\t 2017.12.04\\_18.45.54\\_sample\\_0  & metaspades & 41 & 10500 & 494 &  57\\\\\n",
       "\t 2017.12.04\\_18.45.54\\_sample\\_1  & megahit    &  0 & 24655 &   0 & 444\\\\\n",
       "\t 2017.12.04\\_18.45.54\\_sample\\_1  & metaspades & 61 & 15380 & 813 &  79\\\\\n",
       "\t 2017.12.04\\_18.45.54\\_sample\\_10 & megahit    &  0 & 39786 &   0 & 583\\\\\n",
       "\t ⋮ & ⋮ & ⋮ & ⋮ & ⋮ & ⋮\\\\\n",
       "\t 2017.12.04\\_18.45.54\\_sample\\_4 & metaspades & 34 & 19367 &  858 &  76\\\\\n",
       "\t 2017.12.04\\_18.45.54\\_sample\\_5 & megahit    &  0 & 10955 &    0 & 194\\\\\n",
       "\t 2017.12.04\\_18.45.54\\_sample\\_5 & metaspades & 16 &  8417 &  402 &  34\\\\\n",
       "\t 2017.12.04\\_18.45.54\\_sample\\_9 & megahit    &  0 & 32640 &    0 & 487\\\\\n",
       "\t 2017.12.04\\_18.45.54\\_sample\\_9 & metaspades & 58 & 22164 & 1187 & 107\\\\\n",
       "\\end{tabular}\n"
      ],
      "text/markdown": [
       "\n",
       "A tidytable: 20 × 6\n",
       "\n",
       "| sample &lt;chr&gt; | assembler &lt;chr&gt; | TP &lt;int&gt; | TN &lt;int&gt; | FP &lt;int&gt; | FN &lt;int&gt; |\n",
       "|---|---|---|---|---|---|\n",
       "| 2017.12.04_18.45.54_sample_0  | megahit    |  0 | 14691 |   0 | 273 |\n",
       "| 2017.12.04_18.45.54_sample_0  | metaspades | 41 | 10500 | 494 |  57 |\n",
       "| 2017.12.04_18.45.54_sample_1  | megahit    |  0 | 24655 |   0 | 444 |\n",
       "| 2017.12.04_18.45.54_sample_1  | metaspades | 61 | 15380 | 813 |  79 |\n",
       "| 2017.12.04_18.45.54_sample_10 | megahit    |  0 | 39786 |   0 | 583 |\n",
       "| ⋮ | ⋮ | ⋮ | ⋮ | ⋮ | ⋮ |\n",
       "| 2017.12.04_18.45.54_sample_4 | metaspades | 34 | 19367 |  858 |  76 |\n",
       "| 2017.12.04_18.45.54_sample_5 | megahit    |  0 | 10955 |    0 | 194 |\n",
       "| 2017.12.04_18.45.54_sample_5 | metaspades | 16 |  8417 |  402 |  34 |\n",
       "| 2017.12.04_18.45.54_sample_9 | megahit    |  0 | 32640 |    0 | 487 |\n",
       "| 2017.12.04_18.45.54_sample_9 | metaspades | 58 | 22164 | 1187 | 107 |\n",
       "\n"
      ],
      "text/plain": [
       "   sample                        assembler  TP TN    FP   FN \n",
       "1  2017.12.04_18.45.54_sample_0  megahit     0 14691   0  273\n",
       "2  2017.12.04_18.45.54_sample_0  metaspades 41 10500 494   57\n",
       "3  2017.12.04_18.45.54_sample_1  megahit     0 24655   0  444\n",
       "4  2017.12.04_18.45.54_sample_1  metaspades 61 15380 813   79\n",
       "5  2017.12.04_18.45.54_sample_10 megahit     0 39786   0  583\n",
       "⋮  ⋮                             ⋮          ⋮  ⋮     ⋮    ⋮  \n",
       "16 2017.12.04_18.45.54_sample_4  metaspades 34 19367  858  76\n",
       "17 2017.12.04_18.45.54_sample_5  megahit     0 10955    0 194\n",
       "18 2017.12.04_18.45.54_sample_5  metaspades 16  8417  402  34\n",
       "19 2017.12.04_18.45.54_sample_9  megahit     0 32640    0 487\n",
       "20 2017.12.04_18.45.54_sample_9  metaspades 58 22164 1187 107"
      ]
     },
     "metadata": {},
     "output_type": "display_data"
    }
   ],
   "source": [
    "# formatting\n",
    "mMIC_s = mMIC %>%\n",
    "    mutate.(prediction = ifelse(assembler == 'megahit', \n",
    "                                 metaMIC_contig_score >= 0.8,\n",
    "                                 metaMIC_contig_score >= ms_cutoff)) %>%\n",
    "    mutate.(prediction = ifelse(prediction == TRUE, 1, 0)) %>%\n",
    "    mutate.(TP = prediction == 1 & Extensive_misassembly == 1,\n",
    "            TN = prediction == 0 & Extensive_misassembly == 0,\n",
    "            FP = prediction == 1 & Extensive_misassembly == 0,\n",
    "            FN = prediction == 0 & Extensive_misassembly == 1) %>%\n",
    "    summarize.(TP = sum(TP),\n",
    "               TN = sum(TN),\n",
    "               FP = sum(FP),\n",
    "               FN = sum(FN),\n",
    "               .by=c(sample, assembler)) \n",
    "mMIC_s"
   ]
  },
  {
   "cell_type": "code",
   "execution_count": 67,
   "metadata": {
    "ExecuteTime": {
     "end_time": "2021-10-27T19:17:53.377198Z",
     "start_time": "2021-10-27T18:47:54.713Z"
    }
   },
   "outputs": [
    {
     "data": {
      "image/png": "[encoded data removed]",
      "text/plain": [
       "plot without title"
      ]
     },
     "metadata": {
      "image/png": {
       "height": 300,
       "width": 500
      }
     },
     "output_type": "display_data"
    }
   ],
   "source": [
    "# plotting\n",
    "p = mMIC_s %>%\n",
    "    pivot_longer.(cols=c(-sample, -assembler)) %>%\n",
    "    ggplot(aes(assembler, value)) +\n",
    "    geom_boxplot() +\n",
    "    facet_wrap(~ name, scales='free_y') +\n",
    "    theme_bw()\n",
    "p.dims(5,3)\n",
    "plot(p)"
   ]
  },
  {
   "cell_type": "code",
   "execution_count": 68,
   "metadata": {
    "ExecuteTime": {
     "end_time": "2021-10-27T19:17:53.422732Z",
     "start_time": "2021-10-27T18:47:55.346Z"
    }
   },
   "outputs": [
    {
     "data": {
      "text/html": [
       "<table class=\"dataframe\">\n",
       "<caption>A tidytable: 20 × 3</caption>\n",
       "<thead>\n",
       "\t<tr><th scope=col>sample</th><th scope=col>assembler</th><th scope=col>accuracy</th></tr>\n",
       "\t<tr><th scope=col>&lt;chr&gt;</th><th scope=col>&lt;chr&gt;</th><th scope=col>&lt;dbl&gt;</th></tr>\n",
       "</thead>\n",
       "<tbody>\n",
       "\t<tr><td>2017.12.04_18.45.54_sample_0 </td><td>megahit   </td><td>0.9817562</td></tr>\n",
       "\t<tr><td>2017.12.04_18.45.54_sample_0 </td><td>metaspades</td><td>0.9503246</td></tr>\n",
       "\t<tr><td>2017.12.04_18.45.54_sample_1 </td><td>megahit   </td><td>0.9823101</td></tr>\n",
       "\t<tr><td>2017.12.04_18.45.54_sample_1 </td><td>metaspades</td><td>0.9453866</td></tr>\n",
       "\t<tr><td>2017.12.04_18.45.54_sample_10</td><td>megahit   </td><td>0.9855582</td></tr>\n",
       "\t<tr><td>⋮</td><td>⋮</td><td>⋮</td></tr>\n",
       "\t<tr><td>2017.12.04_18.45.54_sample_4</td><td>metaspades</td><td>0.9540693</td></tr>\n",
       "\t<tr><td>2017.12.04_18.45.54_sample_5</td><td>megahit   </td><td>0.9825993</td></tr>\n",
       "\t<tr><td>2017.12.04_18.45.54_sample_5</td><td>metaspades</td><td>0.9508400</td></tr>\n",
       "\t<tr><td>2017.12.04_18.45.54_sample_9</td><td>megahit   </td><td>0.9852990</td></tr>\n",
       "\t<tr><td>2017.12.04_18.45.54_sample_9</td><td>metaspades</td><td>0.9449736</td></tr>\n",
       "</tbody>\n",
       "</table>\n"
      ],
      "text/latex": [
       "A tidytable: 20 × 3\n",
       "\\begin{tabular}{lll}\n",
       " sample & assembler & accuracy\\\\\n",
       " <chr> & <chr> & <dbl>\\\\\n",
       "\\hline\n",
       "\t 2017.12.04\\_18.45.54\\_sample\\_0  & megahit    & 0.9817562\\\\\n",
       "\t 2017.12.04\\_18.45.54\\_sample\\_0  & metaspades & 0.9503246\\\\\n",
       "\t 2017.12.04\\_18.45.54\\_sample\\_1  & megahit    & 0.9823101\\\\\n",
       "\t 2017.12.04\\_18.45.54\\_sample\\_1  & metaspades & 0.9453866\\\\\n",
       "\t 2017.12.04\\_18.45.54\\_sample\\_10 & megahit    & 0.9855582\\\\\n",
       "\t ⋮ & ⋮ & ⋮\\\\\n",
       "\t 2017.12.04\\_18.45.54\\_sample\\_4 & metaspades & 0.9540693\\\\\n",
       "\t 2017.12.04\\_18.45.54\\_sample\\_5 & megahit    & 0.9825993\\\\\n",
       "\t 2017.12.04\\_18.45.54\\_sample\\_5 & metaspades & 0.9508400\\\\\n",
       "\t 2017.12.04\\_18.45.54\\_sample\\_9 & megahit    & 0.9852990\\\\\n",
       "\t 2017.12.04\\_18.45.54\\_sample\\_9 & metaspades & 0.9449736\\\\\n",
       "\\end{tabular}\n"
      ],
      "text/markdown": [
       "\n",
       "A tidytable: 20 × 3\n",
       "\n",
       "| sample &lt;chr&gt; | assembler &lt;chr&gt; | accuracy &lt;dbl&gt; |\n",
       "|---|---|---|\n",
       "| 2017.12.04_18.45.54_sample_0  | megahit    | 0.9817562 |\n",
       "| 2017.12.04_18.45.54_sample_0  | metaspades | 0.9503246 |\n",
       "| 2017.12.04_18.45.54_sample_1  | megahit    | 0.9823101 |\n",
       "| 2017.12.04_18.45.54_sample_1  | metaspades | 0.9453866 |\n",
       "| 2017.12.04_18.45.54_sample_10 | megahit    | 0.9855582 |\n",
       "| ⋮ | ⋮ | ⋮ |\n",
       "| 2017.12.04_18.45.54_sample_4 | metaspades | 0.9540693 |\n",
       "| 2017.12.04_18.45.54_sample_5 | megahit    | 0.9825993 |\n",
       "| 2017.12.04_18.45.54_sample_5 | metaspades | 0.9508400 |\n",
       "| 2017.12.04_18.45.54_sample_9 | megahit    | 0.9852990 |\n",
       "| 2017.12.04_18.45.54_sample_9 | metaspades | 0.9449736 |\n",
       "\n"
      ],
      "text/plain": [
       "   sample                        assembler  accuracy \n",
       "1  2017.12.04_18.45.54_sample_0  megahit    0.9817562\n",
       "2  2017.12.04_18.45.54_sample_0  metaspades 0.9503246\n",
       "3  2017.12.04_18.45.54_sample_1  megahit    0.9823101\n",
       "4  2017.12.04_18.45.54_sample_1  metaspades 0.9453866\n",
       "5  2017.12.04_18.45.54_sample_10 megahit    0.9855582\n",
       "⋮  ⋮                             ⋮          ⋮        \n",
       "16 2017.12.04_18.45.54_sample_4  metaspades 0.9540693\n",
       "17 2017.12.04_18.45.54_sample_5  megahit    0.9825993\n",
       "18 2017.12.04_18.45.54_sample_5  metaspades 0.9508400\n",
       "19 2017.12.04_18.45.54_sample_9  megahit    0.9852990\n",
       "20 2017.12.04_18.45.54_sample_9  metaspades 0.9449736"
      ]
     },
     "metadata": {},
     "output_type": "display_data"
    }
   ],
   "source": [
    "# accuracy\n",
    "mMIC_ss = mMIC_s %>%\n",
    "    summarize.(accuracy = (TP + TN) / (TP + TN + FP + FN),\n",
    "               .by=c(sample, assembler))\n",
    "mMIC_ss"
   ]
  },
  {
   "cell_type": "code",
   "execution_count": 69,
   "metadata": {
    "ExecuteTime": {
     "end_time": "2021-10-27T19:17:53.721005Z",
     "start_time": "2021-10-27T18:47:56.209Z"
    }
   },
   "outputs": [
    {
     "data": {
      "image/png": "[encoded data removed]",
      "text/plain": [
       "plot without title"
      ]
     },
     "metadata": {
      "image/png": {
       "height": 230,
       "width": 300
      }
     },
     "output_type": "display_data"
    }
   ],
   "source": [
    "# calculations\n",
    "p = mMIC_ss %>%\n",
    "    ggplot(aes(assembler, accuracy)) +\n",
    "    geom_boxplot() +\n",
    "    theme_bw()\n",
    "p.dims(3,2.3)\n",
    "plot(p)"
   ]
  },
  {
   "cell_type": "markdown",
   "metadata": {},
   "source": [
    "#### AUCPR"
   ]
  },
  {
   "cell_type": "code",
   "execution_count": 70,
   "metadata": {
    "ExecuteTime": {
     "end_time": "2021-10-27T19:17:54.567825Z",
     "start_time": "2021-10-27T18:47:57.985Z"
    }
   },
   "outputs": [
    {
     "data": {
      "image/png": "[encoded data removed]",
      "text/plain": [
       "plot without title"
      ]
     },
     "metadata": {
      "image/png": {
       "height": 220,
       "width": 300
      }
     },
     "output_type": "display_data"
    }
   ],
   "source": [
    "p = mMIC %>%\n",
    "    mutate.(Extensive_misassembly = Extensive_misassembly == 1) %>%\n",
    "    ggplot(aes(Extensive_misassembly, metaMIC_contig_score)) +\n",
    "    geom_boxplot() +\n",
    "    theme_bw()\n",
    "p.dims(3,2.2)\n",
    "plot(p)"
   ]
  },
  {
   "cell_type": "code",
   "execution_count": 71,
   "metadata": {
    "ExecuteTime": {
     "end_time": "2021-10-27T19:17:54.811925Z",
     "start_time": "2021-10-27T18:47:59.369Z"
    }
   },
   "outputs": [
    {
     "data": {
      "text/plain": [
       "\n",
       "  Precision-recall curve\n",
       "\n",
       "    Area under curve (Integral):\n",
       "     0.1031058 \n",
       "\n",
       "    Area under curve (Davis & Goadrich):\n",
       "     0.1031044 \n",
       "\n",
       "    Curve for scores from  0.01385  to  0.792 \n",
       "    ( can be plotted with plot(x) )\n"
      ]
     },
     "metadata": {},
     "output_type": "display_data"
    }
   ],
   "source": [
    "# calculating AUCPR\n",
    "fg = mMIC %>%\n",
    "    filter.(Extensive_misassembly == 1,\n",
    "            assembler == 'megahit') %>%\n",
    "    .$metaMIC_contig_score\n",
    "bg = mMIC %>%\n",
    "    filter.(Extensive_misassembly == 0,\n",
    "            assembler == 'megahit') %>%\n",
    "    .$metaMIC_contig_score\n",
    "pr = pr.curve(scores.class0 = fg, scores.class1 = bg, curve=TRUE)\n",
    "pr"
   ]
  },
  {
   "cell_type": "code",
   "execution_count": 72,
   "metadata": {
    "ExecuteTime": {
     "end_time": "2021-10-27T19:17:55.401114Z",
     "start_time": "2021-10-27T18:48:00.034Z"
    }
   },
   "outputs": [
    {
     "data": {
      "image/png": "[encoded data removed]",
      "text/plain": [
       "Plot with title “PR curve\n",
       "AUC = 0.1031058”"
      ]
     },
     "metadata": {
      "image/png": {
       "height": 400,
       "width": 600
      }
     },
     "output_type": "display_data"
    }
   ],
   "source": [
    "# pr curve\n",
    "p.dims(6,4)\n",
    "plot(pr)"
   ]
  },
  {
   "cell_type": "code",
   "execution_count": 73,
   "metadata": {
    "ExecuteTime": {
     "end_time": "2021-10-27T19:17:55.581113Z",
     "start_time": "2021-10-27T18:48:00.727Z"
    }
   },
   "outputs": [
    {
     "data": {
      "text/plain": [
       "\n",
       "  Precision-recall curve\n",
       "\n",
       "    Area under curve (Integral):\n",
       "     0.04136949 \n",
       "\n",
       "    Area under curve (Davis & Goadrich):\n",
       "     0.04134973 \n",
       "\n",
       "    Curve for scores from  0.01225  to  0.7387 \n",
       "    ( can be plotted with plot(x) )\n"
      ]
     },
     "metadata": {},
     "output_type": "display_data"
    }
   ],
   "source": [
    "# calculating AUCPR\n",
    "fg = mMIC %>%\n",
    "    filter.(Extensive_misassembly == 1,\n",
    "            assembler == 'metaspades') %>%\n",
    "    .$metaMIC_contig_score\n",
    "bg = mMIC %>%\n",
    "    filter.(Extensive_misassembly == 0,\n",
    "            assembler == 'metaspades') %>%\n",
    "    .$metaMIC_contig_score\n",
    "pr = pr.curve(scores.class0 = fg, scores.class1 = bg, curve=TRUE)\n",
    "pr"
   ]
  },
  {
   "cell_type": "code",
   "execution_count": 74,
   "metadata": {
    "ExecuteTime": {
     "end_time": "2021-10-27T19:17:56.062715Z",
     "start_time": "2021-10-27T18:48:01.490Z"
    }
   },
   "outputs": [
    {
     "data": {
      "image/png": "[encoded data removed]",
      "text/plain": [
       "Plot with title “PR curve\n",
       "AUC = 0.04136949”"
      ]
     },
     "metadata": {
      "image/png": {
       "height": 400,
       "width": 600
      }
     },
     "output_type": "display_data"
    }
   ],
   "source": [
    "# pr curve\n",
    "p.dims(6,4)\n",
    "plot(pr)"
   ]
  },
  {
   "cell_type": "markdown",
   "metadata": {},
   "source": [
    "### ALE"
   ]
  },
  {
   "cell_type": "code",
   "execution_count": 75,
   "metadata": {
    "ExecuteTime": {
     "end_time": "2021-10-27T19:17:56.080273Z",
     "start_time": "2021-10-27T18:48:15.370Z"
    }
   },
   "outputs": [],
   "source": [
    "# P = file.path(work_dir, 'ResMiCo-SM', 'ALE')\n",
    "# files = list_files(P, 'ALE_results.txt.gz')\n",
    "# files %>% length\n",
    "# files %>% head(n=3)"
   ]
  },
  {
   "cell_type": "code",
   "execution_count": 76,
   "metadata": {
    "ExecuteTime": {
     "end_time": "2021-10-27T19:17:56.098448Z",
     "start_time": "2021-10-27T18:48:15.977Z"
    }
   },
   "outputs": [],
   "source": [
    "# read_table = function(F){\n",
    "#     cmd = paste('gunzip -c', F, '| egrep -v \"^#\" | head -n 100', sep=' ')\n",
    "#     df = Fread(cmd=cmd, sep=' ') \n",
    "#     colnames(df) = c('contig', 'position', 'depth', \n",
    "#                      'ln_depthLike', 'ln_placeLike', \n",
    "#                      'ln_insertLike', 'ln_kmerLike')\n",
    "#     x = unlist(strsplit(F, '/'))\n",
    "#     df$sample = x[length(x)-7]\n",
    "#     df$assembler = x[length(x)-2]\n",
    "#     return(df)\n",
    "# }\n",
    "# ALE = files %>%\n",
    "#     head(n=1) %>%\n",
    "#     plyr::llply(read_table, .parallel=FALSE) %>%\n",
    "#     rbindlist(use.names=TRUE) \n",
    "# ALE"
   ]
  },
  {
   "cell_type": "markdown",
   "metadata": {},
   "source": [
    "# sessionInfo"
   ]
  },
  {
   "cell_type": "code",
   "execution_count": 77,
   "metadata": {
    "ExecuteTime": {
     "end_time": "2021-10-27T19:17:56.194270Z",
     "start_time": "2021-10-27T18:48:30.551Z"
    }
   },
   "outputs": [
    {
     "data": {
      "text/plain": [
       "R version 4.1.0 (2021-05-18)\n",
       "Platform: x86_64-conda-linux-gnu (64-bit)\n",
       "Running under: Ubuntu 18.04.6 LTS\n",
       "\n",
       "Matrix products: default\n",
       "BLAS/LAPACK: /ebio/abt3_projects/DeepMAsED/envs/tidyverse/lib/libopenblasp-r0.3.15.so\n",
       "\n",
       "locale:\n",
       " [1] LC_CTYPE=en_US.UTF-8       LC_NUMERIC=C              \n",
       " [3] LC_TIME=en_US.UTF-8        LC_COLLATE=en_US.UTF-8    \n",
       " [5] LC_MONETARY=en_US.UTF-8    LC_MESSAGES=en_US.UTF-8   \n",
       " [7] LC_PAPER=en_US.UTF-8       LC_NAME=C                 \n",
       " [9] LC_ADDRESS=C               LC_TELEPHONE=C            \n",
       "[11] LC_MEASUREMENT=en_US.UTF-8 LC_IDENTIFICATION=C       \n",
       "\n",
       "attached base packages:\n",
       "[1] stats     graphics  grDevices utils     datasets  methods   base     \n",
       "\n",
       "other attached packages:\n",
       "[1] PRROC_1.3.1       LeyLabRMisc_0.1.9 tidytable_0.6.3   data.table_1.14.0\n",
       "[5] ggplot2_3.3.5     tidyr_1.1.3       dplyr_1.0.7      \n",
       "\n",
       "loaded via a namespace (and not attached):\n",
       " [1] Rcpp_1.0.7        plyr_1.8.6        pillar_1.6.1      compiler_4.1.0   \n",
       " [5] R.methodsS3_1.8.1 R.utils_2.10.1    iterators_1.0.13  base64enc_0.1-3  \n",
       " [9] tools_4.1.0       digest_0.6.27     uuid_0.1-4        jsonlite_1.7.2   \n",
       "[13] evaluate_0.14     lifecycle_1.0.0   tibble_3.1.2      gtable_0.3.0     \n",
       "[17] pkgconfig_2.0.3   rlang_0.4.11      foreach_1.5.1     IRdisplay_1.0    \n",
       "[21] parallel_4.1.0    IRkernel_1.2      repr_1.1.3        withr_2.4.2      \n",
       "[25] generics_0.1.0    vctrs_0.3.8       grid_4.1.0        tidyselect_1.1.1 \n",
       "[29] glue_1.4.2        R6_2.5.0          fansi_0.4.2       pbdZMQ_0.3-5     \n",
       "[33] farver_2.1.0      purrr_0.3.4       magrittr_2.0.1    codetools_0.2-18 \n",
       "[37] scales_1.1.1      ellipsis_0.3.2    htmltools_0.5.1.1 colorspace_2.0-2 \n",
       "[41] labeling_0.4.2    utf8_1.2.1        doParallel_1.0.16 munsell_0.5.0    \n",
       "[45] crayon_1.4.1      R.oo_1.24.0      "
      ]
     },
     "metadata": {},
     "output_type": "display_data"
    }
   ],
   "source": [
    "sessionInfo()"
   ]
  }
 ],
 "metadata": {
  "kernelspec": {
   "display_name": "R [conda env:DeepMAsED-tidyverse]",
   "language": "R",
   "name": "conda-env-DeepMAsED-tidyverse-r"
  },
  "language_info": {
   "codemirror_mode": "r",
   "file_extension": ".r",
   "mimetype": "text/x-r-source",
   "name": "R",
   "pygments_lexer": "r",
   "version": "4.1.0"
  },
  "notify_time": "30",
  "toc": {
   "base_numbering": 1,
   "nav_menu": {},
   "number_sections": true,
   "sideBar": true,
   "skip_h1_title": false,
   "title_cell": "Table of Contents",
   "title_sidebar": "Contents",
   "toc_cell": true,
   "toc_position": {
    "height": "calc(100% - 180px)",
    "left": "10px",
    "top": "150px",
    "width": "256px"
   },
   "toc_section_display": true,
   "toc_window_display": true
  }
 },
 "nbformat": 4,
 "nbformat_minor": 5
}
