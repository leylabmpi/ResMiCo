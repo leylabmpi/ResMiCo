{
 "cells": [
  {
   "cell_type": "markdown",
   "metadata": {
    "toc": true
   },
   "source": [
    "<h1>Table of Contents<span class=\"tocSkip\"></span></h1>\n",
    "<div class=\"toc\"><ul class=\"toc-item\"><li><span><a href=\"#Goal\" data-toc-modified-id=\"Goal-1\"><span class=\"toc-item-num\">1&nbsp;&nbsp;</span>Goal</a></span></li><li><span><a href=\"#Var\" data-toc-modified-id=\"Var-2\"><span class=\"toc-item-num\">2&nbsp;&nbsp;</span>Var</a></span></li><li><span><a href=\"#Init\" data-toc-modified-id=\"Init-3\"><span class=\"toc-item-num\">3&nbsp;&nbsp;</span>Init</a></span></li><li><span><a href=\"#LLMGPS:-map-reads-to-contigs\" data-toc-modified-id=\"LLMGPS:-map-reads-to-contigs-4\"><span class=\"toc-item-num\">4&nbsp;&nbsp;</span>LLMGPS: map reads to contigs</a></span><ul class=\"toc-item\"><li><ul class=\"toc-item\"><li><span><a href=\"#config\" data-toc-modified-id=\"config-4.0.1\"><span class=\"toc-item-num\">4.0.1&nbsp;&nbsp;</span>config</a></span></li><li><span><a href=\"#Run\" data-toc-modified-id=\"Run-4.0.2\"><span class=\"toc-item-num\">4.0.2&nbsp;&nbsp;</span>Run</a></span></li></ul></li><li><span><a href=\"#Summary\" data-toc-modified-id=\"Summary-4.1\"><span class=\"toc-item-num\">4.1&nbsp;&nbsp;</span>Summary</a></span></li></ul></li><li><span><a href=\"#Sandbox\" data-toc-modified-id=\"Sandbox-5\"><span class=\"toc-item-num\">5&nbsp;&nbsp;</span>Sandbox</a></span></li><li><span><a href=\"#sessionInfo\" data-toc-modified-id=\"sessionInfo-6\"><span class=\"toc-item-num\">6&nbsp;&nbsp;</span>sessionInfo</a></span></li></ul></div>"
   ]
  },
  {
   "cell_type": "markdown",
   "metadata": {},
   "source": [
    "# Goal\n",
    "\n",
    "* Check that the contigs actually match the reads provided via the CAMI2 repo"
   ]
  },
  {
   "cell_type": "markdown",
   "metadata": {},
   "source": [
    "# Var"
   ]
  },
  {
   "cell_type": "code",
   "execution_count": 1,
   "metadata": {
    "ExecuteTime": {
     "end_time": "2022-03-18T09:52:47.653647Z",
     "start_time": "2022-03-18T09:52:47.591Z"
    }
   },
   "outputs": [],
   "source": [
    "work_dir = '/ebio/abt3_projects/databases_no-backup/CAMI/CAMI2_HMP-gut/short_read/LLMGPS/'"
   ]
  },
  {
   "cell_type": "markdown",
   "metadata": {},
   "source": [
    "# Init"
   ]
  },
  {
   "cell_type": "code",
   "execution_count": 14,
   "metadata": {
    "ExecuteTime": {
     "end_time": "2022-03-18T13:21:46.802419Z",
     "start_time": "2022-03-18T13:21:46.745Z"
    }
   },
   "outputs": [],
   "source": [
    "library(dplyr)\n",
    "library(tidyr)\n",
    "library(ggplot2)\n",
    "library(data.table)\n",
    "library(tidytable)\n",
    "library(LeyLabRMisc)\n",
    "Init(threads = 8)"
   ]
  },
  {
   "cell_type": "markdown",
   "metadata": {},
   "source": [
    "# LLMGPS: map reads to contigs\n",
    "\n",
    "* Mapping reads to contigs to make sure that contigs were derived from those reads\n",
    "  * All contigs should have reads mapped (coverage >= ~1X at each position)"
   ]
  },
  {
   "cell_type": "markdown",
   "metadata": {},
   "source": [
    "### config"
   ]
  },
  {
   "cell_type": "code",
   "execution_count": 5,
   "metadata": {
    "ExecuteTime": {
     "end_time": "2022-03-18T09:54:31.972857Z",
     "start_time": "2022-03-18T09:54:31.903Z"
    }
   },
   "outputs": [
    {
     "name": "stdout",
     "output_type": "stream",
     "text": [
      "#-- I/O --#\n",
      "# table with sample --> read_file information\n",
      "samples_file: /ebio/abt3_projects/databases_no-backup/CAMI/CAMI2_HMP-gut/short_read/LLMGPS/samples.tsv\n",
      "\n",
      "# table of reference genomes; not needed for all analyses (see README.md)\n",
      "genomes_db: /ebio/abt3_projects/databases_no-backup/CAMI/CAMI2_HMP-gut/short_read/LLMGPS/contigs_n1.tsv\n",
      "genomes_cols:  \n",
      "  taxon_col: 'taxon'\n",
      "  fasta_col: 'fasta'\n",
      "  accession_col: 'accession'\n",
      "  taxid_col: 'taxid'  \n",
      "\n",
      "# output location\n",
      "output_dir: /ebio/abt3_projects/databases_no-backup/CAMI/CAMI2_HMP-gut/short_read/LLMGPS/\n",
      "\n",
      "# temporary file directory (your username will be added automatically)\n",
      "tmp_dir: /ebio/abt3_scratch/\n",
      "\n",
      "# read file path\n",
      "# use \"None\" if full file path is included in the samples_file\n",
      "read_file_path: None\n",
      "\n",
      "#-- clades to analyze with strainphlan --#\n",
      "clades:\n",
      " - s__Faecalibacterium_prausnitzii\n",
      " - s__Bacteroides_vulgatus\n",
      " - s__Methanobrevibacter_smithii\n",
      "\n",
      "#-- subsample --#\n",
      "# subsampling input reads \n",
      "## Use \"Skip\" to skips subsampling; otherwise set the number of reads to subsample\n",
      "subsample_depth: Skip     # reads will be subsampled to this depth (eg., 1000000)\n",
      "subsample_seed: 21068\n",
      "\n",
      "#-- master control --#\n",
      "# which main steps of the pipeline to run?\n",
      "run_phlan_tools: False\n",
      "run_ref_genome_SNPs: True\n",
      "run_ref_genome_abund: False\n",
      "run_ref_genome_PTR: False\n",
      "\n",
      "#-- Software Parameters --#\n",
      "# Use \"Skip\" to skip parts of the pipeline (eg., `demic: Skip`)\n",
      "# See the README for descriptions on very important parameters\n",
      "params:\n",
      "  use_prefetch: False\n",
      "  remote: just_single=False\n",
      "  check_taxIDs: \"\"\n",
      "  ionice: -c 3\n",
      "  # *phlan tools\n",
      "  metaphlan3: --tax_lev a --min_cu_len 2000\n",
      "  strainphlan3:\n",
      "    phylophlan_config: --map_dna diamond --db_aa diamond --map_aa diamond\n",
      "                       --msa mafft --trim trimal --tree1 raxml\n",
      "    tree1: -p 1989 -m GTRCAT\n",
      "    samples2markers: --breadth_threshold 80\n",
      "    strainphlan: --phylophlan_mode fast --marker_in_n_samples 80\n",
      "                 --sample_with_n_markers 20\n",
      "  panphlan:\n",
      "    map: --min_read_length 70 \n",
      "    profile: --min_coverage 2 --add_ref\n",
      "  # ref-genome SNPs\n",
      "  instrain:\n",
      "    bowtie2: Skip #\"\"\n",
      "    prodigal: \"\"\n",
      "    profile: --min_cov 5 --min_freq 0.05 --min_genome_coverage 0.1\n",
      "             --min_read_ani 0.95 --database_mode --skip_plot_generation\n",
      "    compare: --min_cov 5 --min_freq 0.05 --ani_threshold 0.99999 --database_mode\n",
      "    genomeWide: \"\"\n",
      "  midas:\n",
      "    species: Skip #\"\"\n",
      "    genes: Skip #\"\"\n",
      "    snps: Skip #\"\"\n",
      "    merge:\n",
      "      species: --sample_depth 1\n",
      "      genes: --sample_depth 1 --min_copy 0.35\n",
      "      snps: --sample_depth 5 --fract_cov 0.4 --site_depth 1 --min_samples 1      \n",
      "  gt_pro: Skip #\"\"\n",
      "  bowtie2:\n",
      "    use_db: True\n",
      "    map: --sensitive\n",
      "    depth: -a\n",
      "    keep_bam: False\n",
      "  # ref-genome abund. est.\n",
      "  krakenuniq:\n",
      "    build: --kmer-len 31 --minimizer-len 15\n",
      "    map: --hll-precision 12\n",
      "  strainpro:\n",
      "    map: -n 3\n",
      "  # ref-genome PTR est.\n",
      "  demic:\n",
      "    bowtie2: \"\"\n",
      "    samtools: \"\"\n",
      "    demic: --mapq_cutoff 5\n",
      "  coptr:\n",
      "    index: \"\"\n",
      "    map: \"\"\n",
      "    extract: \"\"\n",
      "    estimate: --min-reads 5000 --min-cov 0.75 --min-samples 5\n",
      "  # --depreciated--\n",
      "  strainphlan2:\n",
      "    keep_metaphlan2_output: False\n",
      "    metaphlan2: --tax_lev a --min_cu_len 2000\n",
      "    samples2markers: --min_read_len 90 --min_base_quality 20 --min_read_depth 0\n",
      "    clades: \"\"\n",
      "    strainphlan: Skip #--relaxed_parameters\n",
      "\n",
      "#-- Databases --#\n",
      "databases:\n",
      "  # metaphlan marker databse\n",
      "  metaphlan2: /ebio/abt3_projects/databases_no-backup/metaphlan2/mpa_v20_m200/\n",
      "  metaphlan3: /ebio/abt3_projects/databases_no-backup/metaphlan3/201901/mpa_v30_CHOCOPhlAn_201901.pkl\n",
      "  # panphlan pan-genome database(s)\n",
      "  ## see ./data/panphlan3_species.txt\n",
      "  ### or https://www.dropbox.com/sh/3dxl2vupk20ezui/AAANG5ekdllj6UhjBgm-NNcBa?dl=0\n",
      "  panphlan:\n",
      "    - Eubacterium_rectale\n",
      "    - Bacteroides_vulgatus  \n",
      "  # gt-pro\n",
      "  gt_pro: /ebio/abt3_projects/databases_no-backup/gt-pro/20190723_881species_optimized_db_snps.bin\n",
      "  gt_pro_var: /ebio/abt3_projects/databases_no-backup/gt-pro/variants_main.covered.hq.snp_dict.tsv\n",
      "  gt_pro_tax: /ebio/abt3_projects/databases_no-backup/gt-pro/species_taxonomy_ext.tsv\n",
      "  # midas\n",
      "  midas: /ebio/abt3_projects/databases_no-backup/MIDAS/midas_db_v1.2/README.txt\n",
      "  # bowtie2 database directory\n",
      "  bowtie2: /ebio/abt3_projects/databases_no-backup/Homo_sapiens/GRCh38.p13/\n",
      "  # taxdump for KrakenUniq & StrainPro\n",
      "  ### GTDB version\n",
      "  taxdump:\n",
      "    names: /ebio/abt3_projects/databases_no-backup/GTDB/release95/taxdump/names.dmp\n",
      "    nodes: /ebio/abt3_projects/databases_no-backup/GTDB/release95/taxdump/nodes.dmp\n",
      "  ### NCBI version (instead of GTDB)\n",
      "  #taxdump:\n",
      "  #  names: /ebio/abt3_projects/databases_no-backup/NCBI_taxonomy/200128/names.dmp\n",
      "  #  nodes: /ebio/abt3_projects/databases_no-backup/NCBI_taxonomy/200128/nodes.dmp\n",
      "\n",
      "#-- snakemake pipeline --#\n",
      "pipeline:\n",
      "  snakemake_folder: ./\n",
      "  script_folder: ./bin/scripts/\n",
      "  export_conda: True\n",
      "  skip_raw: False  # only use if snakemake is mistakenly trying to start from the beginning\n",
      "  name: LLMGPS"
     ]
    }
   ],
   "source": [
    "F = file.path(work_dir, 'config.yaml')\n",
    "cat_file(F)"
   ]
  },
  {
   "cell_type": "markdown",
   "metadata": {},
   "source": [
    "### Run"
   ]
  },
  {
   "cell_type": "markdown",
   "metadata": {},
   "source": [
    "```\n",
    "(snakemake) rick: /tmp/global2/nyoungblut/code/dev/ll_pipelines/llmgps\n",
    "$ screen -L -S llmgps-test ./snakemake_sge.sh /ebio/abt3_projects/databases_no-backup/CAMI/CAMI2_HMP-gut/short_read/LLMGPS/config.yaml 30 \n",
    "```"
   ]
  },
  {
   "cell_type": "markdown",
   "metadata": {},
   "source": [
    "## Summary"
   ]
  },
  {
   "cell_type": "code",
   "execution_count": 34,
   "metadata": {
    "ExecuteTime": {
     "end_time": "2022-03-19T05:32:10.360250Z",
     "start_time": "2022-03-19T05:32:10.158Z"
    }
   },
   "outputs": [
    {
     "data": {
      "text/html": [
       "100"
      ],
      "text/latex": [
       "100"
      ],
      "text/markdown": [
       "100"
      ],
      "text/plain": [
       "[1] 100"
      ]
     },
     "metadata": {},
     "output_type": "display_data"
    },
    {
     "data": {
      "text/html": [
       "<style>\n",
       ".list-inline {list-style: none; margin:0; padding: 0}\n",
       ".list-inline>li {display: inline-block}\n",
       ".list-inline>li:not(:last-child)::after {content: \"\\00b7\"; padding: 0 .5ex}\n",
       "</style>\n",
       "<ol class=list-inline><li>'/ebio/abt3_projects/databases_no-backup/CAMI/CAMI2_HMP-gut/short_read/LLMGPS//bowtie2/depth/2017_12_04_18_45_54_sample_0/2017_12_04_18_45_54_sample_0.tsv.gz'</li><li>'/ebio/abt3_projects/databases_no-backup/CAMI/CAMI2_HMP-gut/short_read/LLMGPS//bowtie2/depth/2017_12_04_18_45_54_sample_0/2017_12_04_18_45_54_sample_1.tsv.gz'</li><li>'/ebio/abt3_projects/databases_no-backup/CAMI/CAMI2_HMP-gut/short_read/LLMGPS//bowtie2/depth/2017_12_04_18_45_54_sample_0/2017_12_04_18_45_54_sample_10.tsv.gz'</li></ol>\n"
      ],
      "text/latex": [
       "\\begin{enumerate*}\n",
       "\\item '/ebio/abt3\\_projects/databases\\_no-backup/CAMI/CAMI2\\_HMP-gut/short\\_read/LLMGPS//bowtie2/depth/2017\\_12\\_04\\_18\\_45\\_54\\_sample\\_0/2017\\_12\\_04\\_18\\_45\\_54\\_sample\\_0.tsv.gz'\n",
       "\\item '/ebio/abt3\\_projects/databases\\_no-backup/CAMI/CAMI2\\_HMP-gut/short\\_read/LLMGPS//bowtie2/depth/2017\\_12\\_04\\_18\\_45\\_54\\_sample\\_0/2017\\_12\\_04\\_18\\_45\\_54\\_sample\\_1.tsv.gz'\n",
       "\\item '/ebio/abt3\\_projects/databases\\_no-backup/CAMI/CAMI2\\_HMP-gut/short\\_read/LLMGPS//bowtie2/depth/2017\\_12\\_04\\_18\\_45\\_54\\_sample\\_0/2017\\_12\\_04\\_18\\_45\\_54\\_sample\\_10.tsv.gz'\n",
       "\\end{enumerate*}\n"
      ],
      "text/markdown": [
       "1. '/ebio/abt3_projects/databases_no-backup/CAMI/CAMI2_HMP-gut/short_read/LLMGPS//bowtie2/depth/2017_12_04_18_45_54_sample_0/2017_12_04_18_45_54_sample_0.tsv.gz'\n",
       "2. '/ebio/abt3_projects/databases_no-backup/CAMI/CAMI2_HMP-gut/short_read/LLMGPS//bowtie2/depth/2017_12_04_18_45_54_sample_0/2017_12_04_18_45_54_sample_1.tsv.gz'\n",
       "3. '/ebio/abt3_projects/databases_no-backup/CAMI/CAMI2_HMP-gut/short_read/LLMGPS//bowtie2/depth/2017_12_04_18_45_54_sample_0/2017_12_04_18_45_54_sample_10.tsv.gz'\n",
       "\n",
       "\n"
      ],
      "text/plain": [
       "[1] \"/ebio/abt3_projects/databases_no-backup/CAMI/CAMI2_HMP-gut/short_read/LLMGPS//bowtie2/depth/2017_12_04_18_45_54_sample_0/2017_12_04_18_45_54_sample_0.tsv.gz\" \n",
       "[2] \"/ebio/abt3_projects/databases_no-backup/CAMI/CAMI2_HMP-gut/short_read/LLMGPS//bowtie2/depth/2017_12_04_18_45_54_sample_0/2017_12_04_18_45_54_sample_1.tsv.gz\" \n",
       "[3] \"/ebio/abt3_projects/databases_no-backup/CAMI/CAMI2_HMP-gut/short_read/LLMGPS//bowtie2/depth/2017_12_04_18_45_54_sample_0/2017_12_04_18_45_54_sample_10.tsv.gz\""
      ]
     },
     "metadata": {},
     "output_type": "display_data"
    }
   ],
   "source": [
    "# finding all individual depth files\n",
    "D = file.path(work_dir, 'bowtie2', 'depth')\n",
    "depth_files = list_files(D, '*.tsv.gz')\n",
    "depth_files %>% length\n",
    "depth_files %>% head(n=3)"
   ]
  },
  {
   "cell_type": "code",
   "execution_count": null,
   "metadata": {
    "ExecuteTime": {
     "start_time": "2022-03-19T05:32:11.147Z"
    }
   },
   "outputs": [
    {
     "name": "stderr",
     "output_type": "stream",
     "text": [
      "Reading file: /ebio/abt3_projects/databases_no-backup/CAMI/CAMI2_HMP-gut/short_read/LLMGPS//bowtie2/depth/2017_12_04_18_45_54_sample_0/2017_12_04_18_45_54_sample_0.tsv.gz\n",
      "\n",
      "Reading file: /ebio/abt3_projects/databases_no-backup/CAMI/CAMI2_HMP-gut/short_read/LLMGPS//bowtie2/depth/2017_12_04_18_45_54_sample_0/2017_12_04_18_45_54_sample_1.tsv.gz\n",
      "\n",
      "Reading file: /ebio/abt3_projects/databases_no-backup/CAMI/CAMI2_HMP-gut/short_read/LLMGPS//bowtie2/depth/2017_12_04_18_45_54_sample_0/2017_12_04_18_45_54_sample_10.tsv.gz\n",
      "\n",
      "Reading file: /ebio/abt3_projects/databases_no-backup/CAMI/CAMI2_HMP-gut/short_read/LLMGPS//bowtie2/depth/2017_12_04_18_45_54_sample_0/2017_12_04_18_45_54_sample_11.tsv.gz\n",
      "\n",
      "Reading file: /ebio/abt3_projects/databases_no-backup/CAMI/CAMI2_HMP-gut/short_read/LLMGPS//bowtie2/depth/2017_12_04_18_45_54_sample_0/2017_12_04_18_45_54_sample_12.tsv.gz\n",
      "\n",
      "Reading file: /ebio/abt3_projects/databases_no-backup/CAMI/CAMI2_HMP-gut/short_read/LLMGPS//bowtie2/depth/2017_12_04_18_45_54_sample_0/2017_12_04_18_45_54_sample_2.tsv.gz\n",
      "\n",
      "Reading file: /ebio/abt3_projects/databases_no-backup/CAMI/CAMI2_HMP-gut/short_read/LLMGPS//bowtie2/depth/2017_12_04_18_45_54_sample_0/2017_12_04_18_45_54_sample_3.tsv.gz\n",
      "\n",
      "Reading file: /ebio/abt3_projects/databases_no-backup/CAMI/CAMI2_HMP-gut/short_read/LLMGPS//bowtie2/depth/2017_12_04_18_45_54_sample_0/2017_12_04_18_45_54_sample_4.tsv.gz\n",
      "\n",
      "Reading file: /ebio/abt3_projects/databases_no-backup/CAMI/CAMI2_HMP-gut/short_read/LLMGPS//bowtie2/depth/2017_12_04_18_45_54_sample_0/2017_12_04_18_45_54_sample_5.tsv.gz\n",
      "\n",
      "Reading file: /ebio/abt3_projects/databases_no-backup/CAMI/CAMI2_HMP-gut/short_read/LLMGPS//bowtie2/depth/2017_12_04_18_45_54_sample_0/2017_12_04_18_45_54_sample_9.tsv.gz\n",
      "\n",
      "Reading file: /ebio/abt3_projects/databases_no-backup/CAMI/CAMI2_HMP-gut/short_read/LLMGPS//bowtie2/depth/2017_12_04_18_45_54_sample_1/2017_12_04_18_45_54_sample_0.tsv.gz\n",
      "\n",
      "Reading file: /ebio/abt3_projects/databases_no-backup/CAMI/CAMI2_HMP-gut/short_read/LLMGPS//bowtie2/depth/2017_12_04_18_45_54_sample_1/2017_12_04_18_45_54_sample_1.tsv.gz\n",
      "\n",
      "Reading file: /ebio/abt3_projects/databases_no-backup/CAMI/CAMI2_HMP-gut/short_read/LLMGPS//bowtie2/depth/2017_12_04_18_45_54_sample_1/2017_12_04_18_45_54_sample_10.tsv.gz\n",
      "\n",
      "Reading file: /ebio/abt3_projects/databases_no-backup/CAMI/CAMI2_HMP-gut/short_read/LLMGPS//bowtie2/depth/2017_12_04_18_45_54_sample_1/2017_12_04_18_45_54_sample_11.tsv.gz\n",
      "\n",
      "Reading file: /ebio/abt3_projects/databases_no-backup/CAMI/CAMI2_HMP-gut/short_read/LLMGPS//bowtie2/depth/2017_12_04_18_45_54_sample_1/2017_12_04_18_45_54_sample_12.tsv.gz\n",
      "\n",
      "Reading file: /ebio/abt3_projects/databases_no-backup/CAMI/CAMI2_HMP-gut/short_read/LLMGPS//bowtie2/depth/2017_12_04_18_45_54_sample_1/2017_12_04_18_45_54_sample_2.tsv.gz\n",
      "\n",
      "Reading file: /ebio/abt3_projects/databases_no-backup/CAMI/CAMI2_HMP-gut/short_read/LLMGPS//bowtie2/depth/2017_12_04_18_45_54_sample_1/2017_12_04_18_45_54_sample_3.tsv.gz\n",
      "\n",
      "Reading file: /ebio/abt3_projects/databases_no-backup/CAMI/CAMI2_HMP-gut/short_read/LLMGPS//bowtie2/depth/2017_12_04_18_45_54_sample_1/2017_12_04_18_45_54_sample_4.tsv.gz\n",
      "\n",
      "Reading file: /ebio/abt3_projects/databases_no-backup/CAMI/CAMI2_HMP-gut/short_read/LLMGPS//bowtie2/depth/2017_12_04_18_45_54_sample_1/2017_12_04_18_45_54_sample_5.tsv.gz\n",
      "\n",
      "Reading file: /ebio/abt3_projects/databases_no-backup/CAMI/CAMI2_HMP-gut/short_read/LLMGPS//bowtie2/depth/2017_12_04_18_45_54_sample_1/2017_12_04_18_45_54_sample_9.tsv.gz\n",
      "\n",
      "Reading file: /ebio/abt3_projects/databases_no-backup/CAMI/CAMI2_HMP-gut/short_read/LLMGPS//bowtie2/depth/2017_12_04_18_45_54_sample_10/2017_12_04_18_45_54_sample_0.tsv.gz\n",
      "\n",
      "Reading file: /ebio/abt3_projects/databases_no-backup/CAMI/CAMI2_HMP-gut/short_read/LLMGPS//bowtie2/depth/2017_12_04_18_45_54_sample_10/2017_12_04_18_45_54_sample_1.tsv.gz\n",
      "\n",
      "Reading file: /ebio/abt3_projects/databases_no-backup/CAMI/CAMI2_HMP-gut/short_read/LLMGPS//bowtie2/depth/2017_12_04_18_45_54_sample_10/2017_12_04_18_45_54_sample_10.tsv.gz\n",
      "\n",
      "Reading file: /ebio/abt3_projects/databases_no-backup/CAMI/CAMI2_HMP-gut/short_read/LLMGPS//bowtie2/depth/2017_12_04_18_45_54_sample_10/2017_12_04_18_45_54_sample_11.tsv.gz\n",
      "\n",
      "Reading file: /ebio/abt3_projects/databases_no-backup/CAMI/CAMI2_HMP-gut/short_read/LLMGPS//bowtie2/depth/2017_12_04_18_45_54_sample_10/2017_12_04_18_45_54_sample_12.tsv.gz\n",
      "\n",
      "Reading file: /ebio/abt3_projects/databases_no-backup/CAMI/CAMI2_HMP-gut/short_read/LLMGPS//bowtie2/depth/2017_12_04_18_45_54_sample_10/2017_12_04_18_45_54_sample_2.tsv.gz\n",
      "\n"
     ]
    }
   ],
   "source": [
    "# loading files\n",
    "read_depth = function(F){\n",
    "    message('Reading file: ', F)\n",
    "    dt = Fread(F, header=FALSE) %>%\n",
    "        summarize.(n_pos = n.(),\n",
    "                   mean_depth = mean(V3),\n",
    "                   sd_depth = sd(V3),\n",
    "                   num_zero = sum(V3 == 0),\n",
    "                   .by = c(V1)) %>%\n",
    "        mutate.(stderr_depth = sd_depth / sqrt(n_pos),\n",
    "                frac_zero = num_zero / n_pos,\n",
    "                V1 = gsub('.+__', '', V1)) %>%\n",
    "        rename.('contig' = V1)\n",
    "    dt$target = F %>% dirname %>% basename %>% gsub('.+_sample', 'sample', .)\n",
    "    dt$query = F %>% basename %>% gsub('.+_(sample_[0-9]+)\\\\.tsv\\\\.gz', '\\\\1', .)\n",
    "    return(dt)\n",
    "}\n",
    "\n",
    "depths = depth_files %>%\n",
    "    lapply(read_depth) %>%\n",
    "    rbindlist(use.names=TRUE)\n",
    "depths"
   ]
  },
  {
   "cell_type": "code",
   "execution_count": 40,
   "metadata": {
    "ExecuteTime": {
     "end_time": "2022-03-26T13:45:56.673394Z",
     "start_time": "2022-03-26T13:45:55.288Z"
    }
   },
   "outputs": [
    {
     "data": {
      "text/html": [
       "<table class=\"dataframe\">\n",
       "<caption>A matrix: 1 × 8 of type dbl</caption>\n",
       "<thead>\n",
       "\t<tr><th></th><th scope=col>Min.</th><th scope=col>1st Qu.</th><th scope=col>Median</th><th scope=col>Mean</th><th scope=col>3rd Qu.</th><th scope=col>Max.</th><th scope=col>sd</th><th scope=col>sd_err_of_mean</th></tr>\n",
       "</thead>\n",
       "<tbody>\n",
       "\t<tr><th scope=row>mean_depth</th><td>2.678702e-05</td><td>1.083032</td><td>2.567568</td><td>6.261953</td><td>6.875</td><td>430.472</td><td>10.728</td><td>4.38</td></tr>\n",
       "</tbody>\n",
       "</table>\n"
      ],
      "text/latex": [
       "A matrix: 1 × 8 of type dbl\n",
       "\\begin{tabular}{r|llllllll}\n",
       "  & Min. & 1st Qu. & Median & Mean & 3rd Qu. & Max. & sd & sd\\_err\\_of\\_mean\\\\\n",
       "\\hline\n",
       "\tmean\\_depth & 2.678702e-05 & 1.083032 & 2.567568 & 6.261953 & 6.875 & 430.472 & 10.728 & 4.38\\\\\n",
       "\\end{tabular}\n"
      ],
      "text/markdown": [
       "\n",
       "A matrix: 1 × 8 of type dbl\n",
       "\n",
       "| <!--/--> | Min. | 1st Qu. | Median | Mean | 3rd Qu. | Max. | sd | sd_err_of_mean |\n",
       "|---|---|---|---|---|---|---|---|---|\n",
       "| mean_depth | 2.678702e-05 | 1.083032 | 2.567568 | 6.261953 | 6.875 | 430.472 | 10.728 | 4.38 |\n",
       "\n"
      ],
      "text/plain": [
       "           Min.         1st Qu.  Median   Mean     3rd Qu. Max.    sd    \n",
       "mean_depth 2.678702e-05 1.083032 2.567568 6.261953 6.875   430.472 10.728\n",
       "           sd_err_of_mean\n",
       "mean_depth 4.38          "
      ]
     },
     "metadata": {},
     "output_type": "display_data"
    },
    {
     "data": {
      "text/html": [
       "<table class=\"dataframe\">\n",
       "<caption>A matrix: 1 × 8 of type dbl</caption>\n",
       "<thead>\n",
       "\t<tr><th></th><th scope=col>Min.</th><th scope=col>1st Qu.</th><th scope=col>Median</th><th scope=col>Mean</th><th scope=col>3rd Qu.</th><th scope=col>Max.</th><th scope=col>sd</th><th scope=col>sd_err_of_mean</th></tr>\n",
       "</thead>\n",
       "<tbody>\n",
       "\t<tr><th scope=row>sd_depth</th><td>0</td><td>0.8704879</td><td>1.700486</td><td>3.125295</td><td>3.679246</td><td>251.3945</td><td>4.2</td><td>1.714</td></tr>\n",
       "</tbody>\n",
       "</table>\n"
      ],
      "text/latex": [
       "A matrix: 1 × 8 of type dbl\n",
       "\\begin{tabular}{r|llllllll}\n",
       "  & Min. & 1st Qu. & Median & Mean & 3rd Qu. & Max. & sd & sd\\_err\\_of\\_mean\\\\\n",
       "\\hline\n",
       "\tsd\\_depth & 0 & 0.8704879 & 1.700486 & 3.125295 & 3.679246 & 251.3945 & 4.2 & 1.714\\\\\n",
       "\\end{tabular}\n"
      ],
      "text/markdown": [
       "\n",
       "A matrix: 1 × 8 of type dbl\n",
       "\n",
       "| <!--/--> | Min. | 1st Qu. | Median | Mean | 3rd Qu. | Max. | sd | sd_err_of_mean |\n",
       "|---|---|---|---|---|---|---|---|---|\n",
       "| sd_depth | 0 | 0.8704879 | 1.700486 | 3.125295 | 3.679246 | 251.3945 | 4.2 | 1.714 |\n",
       "\n"
      ],
      "text/plain": [
       "         Min. 1st Qu.   Median   Mean     3rd Qu.  Max.     sd  sd_err_of_mean\n",
       "sd_depth 0    0.8704879 1.700486 3.125295 3.679246 251.3945 4.2 1.714         "
      ]
     },
     "metadata": {},
     "output_type": "display_data"
    },
    {
     "data": {
      "text/html": [
       "<table class=\"dataframe\">\n",
       "<caption>A matrix: 1 × 8 of type dbl</caption>\n",
       "<thead>\n",
       "\t<tr><th></th><th scope=col>Min.</th><th scope=col>1st Qu.</th><th scope=col>Median</th><th scope=col>Mean</th><th scope=col>3rd Qu.</th><th scope=col>Max.</th><th scope=col>sd</th><th scope=col>sd_err_of_mean</th></tr>\n",
       "</thead>\n",
       "<tbody>\n",
       "\t<tr><th scope=row>stderr_depth</th><td>0</td><td>0.03008536</td><td>0.05626396</td><td>0.1170904</td><td>0.1276386</td><td>14.28793</td><td>0.178</td><td>0.073</td></tr>\n",
       "</tbody>\n",
       "</table>\n"
      ],
      "text/latex": [
       "A matrix: 1 × 8 of type dbl\n",
       "\\begin{tabular}{r|llllllll}\n",
       "  & Min. & 1st Qu. & Median & Mean & 3rd Qu. & Max. & sd & sd\\_err\\_of\\_mean\\\\\n",
       "\\hline\n",
       "\tstderr\\_depth & 0 & 0.03008536 & 0.05626396 & 0.1170904 & 0.1276386 & 14.28793 & 0.178 & 0.073\\\\\n",
       "\\end{tabular}\n"
      ],
      "text/markdown": [
       "\n",
       "A matrix: 1 × 8 of type dbl\n",
       "\n",
       "| <!--/--> | Min. | 1st Qu. | Median | Mean | 3rd Qu. | Max. | sd | sd_err_of_mean |\n",
       "|---|---|---|---|---|---|---|---|---|\n",
       "| stderr_depth | 0 | 0.03008536 | 0.05626396 | 0.1170904 | 0.1276386 | 14.28793 | 0.178 | 0.073 |\n",
       "\n"
      ],
      "text/plain": [
       "             Min. 1st Qu.    Median     Mean      3rd Qu.   Max.     sd   \n",
       "stderr_depth 0    0.03008536 0.05626396 0.1170904 0.1276386 14.28793 0.178\n",
       "             sd_err_of_mean\n",
       "stderr_depth 0.073         "
      ]
     },
     "metadata": {},
     "output_type": "display_data"
    },
    {
     "data": {
      "text/html": [
       "<table class=\"dataframe\">\n",
       "<caption>A matrix: 1 × 8 of type dbl</caption>\n",
       "<thead>\n",
       "\t<tr><th></th><th scope=col>Min.</th><th scope=col>1st Qu.</th><th scope=col>Median</th><th scope=col>Mean</th><th scope=col>3rd Qu.</th><th scope=col>Max.</th><th scope=col>sd</th><th scope=col>sd_err_of_mean</th></tr>\n",
       "</thead>\n",
       "<tbody>\n",
       "\t<tr><th scope=row>frac_zero</th><td>0</td><td>0.01807229</td><td>0.110984</td><td>0.2062181</td><td>0.3386621</td><td>0.9999732</td><td>0.235</td><td>0.096</td></tr>\n",
       "</tbody>\n",
       "</table>\n"
      ],
      "text/latex": [
       "A matrix: 1 × 8 of type dbl\n",
       "\\begin{tabular}{r|llllllll}\n",
       "  & Min. & 1st Qu. & Median & Mean & 3rd Qu. & Max. & sd & sd\\_err\\_of\\_mean\\\\\n",
       "\\hline\n",
       "\tfrac\\_zero & 0 & 0.01807229 & 0.110984 & 0.2062181 & 0.3386621 & 0.9999732 & 0.235 & 0.096\\\\\n",
       "\\end{tabular}\n"
      ],
      "text/markdown": [
       "\n",
       "A matrix: 1 × 8 of type dbl\n",
       "\n",
       "| <!--/--> | Min. | 1st Qu. | Median | Mean | 3rd Qu. | Max. | sd | sd_err_of_mean |\n",
       "|---|---|---|---|---|---|---|---|---|\n",
       "| frac_zero | 0 | 0.01807229 | 0.110984 | 0.2062181 | 0.3386621 | 0.9999732 | 0.235 | 0.096 |\n",
       "\n"
      ],
      "text/plain": [
       "          Min. 1st Qu.    Median   Mean      3rd Qu.   Max.      sd   \n",
       "frac_zero 0    0.01807229 0.110984 0.2062181 0.3386621 0.9999732 0.235\n",
       "          sd_err_of_mean\n",
       "frac_zero 0.096         "
      ]
     },
     "metadata": {},
     "output_type": "display_data"
    }
   ],
   "source": [
    "# contig coverage\n",
    "summary_x(depths$mean_depth)\n",
    "summary_x(depths$sd_depth)\n",
    "summary_x(depths$stderr_depth)\n",
    "summary_x(depths$frac_zero)"
   ]
  },
  {
   "cell_type": "code",
   "execution_count": 43,
   "metadata": {
    "ExecuteTime": {
     "end_time": "2022-03-26T13:46:35.842825Z",
     "start_time": "2022-03-26T13:46:34.433Z"
    }
   },
   "outputs": [
    {
     "data": {
      "text/html": [
       "2391515"
      ],
      "text/latex": [
       "2391515"
      ],
      "text/markdown": [
       "2391515"
      ],
      "text/plain": [
       "[1] 2391515"
      ]
     },
     "metadata": {},
     "output_type": "display_data"
    },
    {
     "data": {
      "text/html": [
       "<table class=\"dataframe\">\n",
       "<caption>A tidytable: 43555 × 1</caption>\n",
       "<thead>\n",
       "\t<tr><th scope=col>contig</th></tr>\n",
       "\t<tr><th scope=col>&lt;chr&gt;</th></tr>\n",
       "</thead>\n",
       "<tbody>\n",
       "\t<tr><td>CONTIG3 </td></tr>\n",
       "\t<tr><td>CONTIG11</td></tr>\n",
       "\t<tr><td>⋮</td></tr>\n",
       "\t<tr><td>CONTIG14348</td></tr>\n",
       "\t<tr><td>CONTIG14380</td></tr>\n",
       "</tbody>\n",
       "</table>\n"
      ],
      "text/latex": [
       "A tidytable: 43555 × 1\n",
       "\\begin{tabular}{l}\n",
       " contig\\\\\n",
       " <chr>\\\\\n",
       "\\hline\n",
       "\t CONTIG3 \\\\\n",
       "\t CONTIG11\\\\\n",
       "\t ⋮\\\\\n",
       "\t CONTIG14348\\\\\n",
       "\t CONTIG14380\\\\\n",
       "\\end{tabular}\n"
      ],
      "text/markdown": [
       "\n",
       "A tidytable: 43555 × 1\n",
       "\n",
       "| contig &lt;chr&gt; |\n",
       "|---|\n",
       "| CONTIG3  |\n",
       "| CONTIG11 |\n",
       "| ⋮ |\n",
       "| CONTIG14348 |\n",
       "| CONTIG14380 |\n",
       "\n"
      ],
      "text/plain": [
       "      contig     \n",
       "1     CONTIG3    \n",
       "2     CONTIG11   \n",
       "⋮     ⋮          \n",
       "43554 CONTIG14348\n",
       "43555 CONTIG14380"
      ]
     },
     "metadata": {},
     "output_type": "display_data"
    }
   ],
   "source": [
    "# contigs lacking mapped reads\n",
    "depths %>%\n",
    "    mutate.(query = gsub('\\\\.tsv.gz', '', query)) %>%\n",
    "    filter.(target == query) %>%\n",
    "    filter.(frac_zero > 0.25) %>%\n",
    "    distinct.(contig)"
   ]
  },
  {
   "cell_type": "code",
   "execution_count": 48,
   "metadata": {
    "ExecuteTime": {
     "end_time": "2022-03-26T13:49:14.391852Z",
     "start_time": "2022-03-26T13:49:12.672Z"
    }
   },
   "outputs": [
    {
     "data": {
      "image/png": "[encoded data removed]",
      "text/plain": [
       "plot without title"
      ]
     },
     "metadata": {
      "image/png": {
       "height": 300,
       "width": 500
      }
     },
     "output_type": "display_data"
    }
   ],
   "source": [
    "# contigs lacking mapped reads\n",
    "p = depths %>%\n",
    "    mutate.(query = gsub('\\\\.tsv.gz', '', query)) %>%\n",
    "    filter.(target == query) %>%\n",
    "    mutate.(frac_zero = frac_zero * 100) %>%\n",
    "    ggplot(aes(frac_zero)) +\n",
    "    geom_histogram(bins=30) +\n",
    "    labs(x='% of length lacking coverage',\n",
    "         y='No. of contigs') +\n",
    "    theme_bw()\n",
    "p.dims(5,3)\n",
    "plot(p)"
   ]
  },
  {
   "cell_type": "code",
   "execution_count": 53,
   "metadata": {
    "ExecuteTime": {
     "end_time": "2022-03-26T13:51:14.296801Z",
     "start_time": "2022-03-26T13:51:10.970Z"
    }
   },
   "outputs": [
    {
     "data": {
      "image/png": "[encoded data removed]",
      "text/plain": [
       "plot without title"
      ]
     },
     "metadata": {
      "image/png": {
       "height": 400,
       "width": 500
      }
     },
     "output_type": "display_data"
    }
   ],
   "source": [
    "# plotting\n",
    "p = depths %>%\n",
    "    mutate.(query = gsub('\\\\.tsv.gz', '', query),\n",
    "            query = gsub('.+_sample', 'sample', query)) %>%\n",
    "    summarize.(frac_zero = mean(frac_zero),\n",
    "               .by = c(target, query)) %>%\n",
    "    ggplot(aes(query, target, size=frac_zero)) +\n",
    "    geom_abline(alpha=0.3) +\n",
    "    geom_point() +\n",
    "    theme_bw() +\n",
    "    theme(\n",
    "        axis.text.x = element_text(angle=45, hjust=1)\n",
    "    )\n",
    "p.dims(5,3.5)\n",
    "plot(p)"
   ]
  },
  {
   "cell_type": "code",
   "execution_count": 75,
   "metadata": {
    "ExecuteTime": {
     "end_time": "2022-03-26T14:02:45.420774Z",
     "start_time": "2022-03-26T14:02:41.981Z"
    }
   },
   "outputs": [
    {
     "data": {
      "image/png": "[encoded data removed]",
      "text/plain": [
       "plot without title"
      ]
     },
     "metadata": {
      "image/png": {
       "height": 350,
       "width": 500
      }
     },
     "output_type": "display_data"
    }
   ],
   "source": [
    " # plotting\n",
    "p = depths %>%\n",
    "    mutate.(query = gsub('\\\\.tsv.gz', '', query),\n",
    "            query = gsub('.+_sample', 'sample', query)) %>%\n",
    "    summarize.(mean_depth = mean(mean_depth),\n",
    "               .by = c(target, query)) %>%\n",
    "    ggplot(aes(query, target, size=mean_depth)) +\n",
    "    geom_abline(alpha=0.3) +\n",
    "    geom_point() +\n",
    "    theme_bw() +\n",
    "    theme(\n",
    "        axis.text.x = element_text(angle=45, hjust=1)\n",
    "    )\n",
    "p.dims(5,3.5)\n",
    "plot(p)"
   ]
  },
  {
   "cell_type": "code",
   "execution_count": 67,
   "metadata": {
    "ExecuteTime": {
     "end_time": "2022-03-26T13:58:12.278186Z",
     "start_time": "2022-03-26T13:58:09.196Z"
    }
   },
   "outputs": [
    {
     "data": {
      "text/html": [
       "<table class=\"dataframe\">\n",
       "<caption>A tidytable: 20 × 6</caption>\n",
       "<thead>\n",
       "\t<tr><th scope=col>target</th><th scope=col>query</th><th scope=col>frac_zero</th><th scope=col>mean_depth</th><th scope=col>rankA</th><th scope=col>rankB</th></tr>\n",
       "\t<tr><th scope=col>&lt;chr&gt;</th><th scope=col>&lt;chr&gt;</th><th scope=col>&lt;dbl&gt;</th><th scope=col>&lt;dbl&gt;</th><th scope=col>&lt;int&gt;</th><th scope=col>&lt;int&gt;</th></tr>\n",
       "</thead>\n",
       "<tbody>\n",
       "\t<tr><td>sample_1 </td><td>sample_12</td><td>0.08434782</td><td>10.556575</td><td> 1</td><td>1</td></tr>\n",
       "\t<tr><td>sample_11</td><td>sample_9 </td><td>0.11668057</td><td>11.102862</td><td> 2</td><td>1</td></tr>\n",
       "\t<tr><td>sample_4 </td><td>sample_5 </td><td>0.14992391</td><td>25.966816</td><td> 2</td><td>1</td></tr>\n",
       "\t<tr><td>sample_5 </td><td>sample_12</td><td>0.01755560</td><td>10.046824</td><td> 2</td><td>1</td></tr>\n",
       "\t<tr><td>sample_9 </td><td>sample_12</td><td>0.08978945</td><td>10.554240</td><td> 2</td><td>1</td></tr>\n",
       "\t<tr><td>sample_0 </td><td>sample_2 </td><td>0.11844730</td><td> 6.204527</td><td> 4</td><td>1</td></tr>\n",
       "\t<tr><td>sample_10</td><td>sample_5 </td><td>0.24980520</td><td> 4.532734</td><td> 5</td><td>1</td></tr>\n",
       "\t<tr><td>sample_3 </td><td>sample_12</td><td>0.10702675</td><td> 8.132961</td><td> 5</td><td>1</td></tr>\n",
       "\t<tr><td>sample_12</td><td>sample_12</td><td>0.17798861</td><td> 2.586347</td><td> 6</td><td>1</td></tr>\n",
       "\t<tr><td>sample_2 </td><td>sample_2 </td><td>0.15905771</td><td> 4.164577</td><td>10</td><td>1</td></tr>\n",
       "\t<tr><td>sample_5 </td><td>sample_4 </td><td>0.09690100</td><td>12.750959</td><td> 1</td><td>2</td></tr>\n",
       "\t<tr><td>sample_3 </td><td>sample_4 </td><td>0.11090230</td><td> 9.905432</td><td> 2</td><td>2</td></tr>\n",
       "\t<tr><td>sample_4 </td><td>sample_0 </td><td>0.18683070</td><td>20.622685</td><td> 3</td><td>2</td></tr>\n",
       "\t<tr><td>sample_12</td><td>sample_9 </td><td>0.26574776</td><td> 3.376582</td><td> 5</td><td>2</td></tr>\n",
       "\t<tr><td>sample_11</td><td>sample_10</td><td>0.15547444</td><td> 6.388902</td><td> 6</td><td>2</td></tr>\n",
       "\t<tr><td>sample_2 </td><td>sample_0 </td><td>0.17442405</td><td> 7.360042</td><td> 7</td><td>2</td></tr>\n",
       "\t<tr><td>sample_9 </td><td>sample_9 </td><td>0.19075928</td><td> 3.568219</td><td> 7</td><td>2</td></tr>\n",
       "\t<tr><td>sample_0 </td><td>sample_0 </td><td>0.13867733</td><td> 3.937914</td><td> 9</td><td>2</td></tr>\n",
       "\t<tr><td>sample_1 </td><td>sample_1 </td><td>0.16363558</td><td> 2.728731</td><td>10</td><td>2</td></tr>\n",
       "\t<tr><td>sample_10</td><td>sample_10</td><td>0.25011674</td><td> 1.683843</td><td>10</td><td>2</td></tr>\n",
       "</tbody>\n",
       "</table>\n"
      ],
      "text/latex": [
       "A tidytable: 20 × 6\n",
       "\\begin{tabular}{llllll}\n",
       " target & query & frac\\_zero & mean\\_depth & rankA & rankB\\\\\n",
       " <chr> & <chr> & <dbl> & <dbl> & <int> & <int>\\\\\n",
       "\\hline\n",
       "\t sample\\_1  & sample\\_12 & 0.08434782 & 10.556575 &  1 & 1\\\\\n",
       "\t sample\\_11 & sample\\_9  & 0.11668057 & 11.102862 &  2 & 1\\\\\n",
       "\t sample\\_4  & sample\\_5  & 0.14992391 & 25.966816 &  2 & 1\\\\\n",
       "\t sample\\_5  & sample\\_12 & 0.01755560 & 10.046824 &  2 & 1\\\\\n",
       "\t sample\\_9  & sample\\_12 & 0.08978945 & 10.554240 &  2 & 1\\\\\n",
       "\t sample\\_0  & sample\\_2  & 0.11844730 &  6.204527 &  4 & 1\\\\\n",
       "\t sample\\_10 & sample\\_5  & 0.24980520 &  4.532734 &  5 & 1\\\\\n",
       "\t sample\\_3  & sample\\_12 & 0.10702675 &  8.132961 &  5 & 1\\\\\n",
       "\t sample\\_12 & sample\\_12 & 0.17798861 &  2.586347 &  6 & 1\\\\\n",
       "\t sample\\_2  & sample\\_2  & 0.15905771 &  4.164577 & 10 & 1\\\\\n",
       "\t sample\\_5  & sample\\_4  & 0.09690100 & 12.750959 &  1 & 2\\\\\n",
       "\t sample\\_3  & sample\\_4  & 0.11090230 &  9.905432 &  2 & 2\\\\\n",
       "\t sample\\_4  & sample\\_0  & 0.18683070 & 20.622685 &  3 & 2\\\\\n",
       "\t sample\\_12 & sample\\_9  & 0.26574776 &  3.376582 &  5 & 2\\\\\n",
       "\t sample\\_11 & sample\\_10 & 0.15547444 &  6.388902 &  6 & 2\\\\\n",
       "\t sample\\_2  & sample\\_0  & 0.17442405 &  7.360042 &  7 & 2\\\\\n",
       "\t sample\\_9  & sample\\_9  & 0.19075928 &  3.568219 &  7 & 2\\\\\n",
       "\t sample\\_0  & sample\\_0  & 0.13867733 &  3.937914 &  9 & 2\\\\\n",
       "\t sample\\_1  & sample\\_1  & 0.16363558 &  2.728731 & 10 & 2\\\\\n",
       "\t sample\\_10 & sample\\_10 & 0.25011674 &  1.683843 & 10 & 2\\\\\n",
       "\\end{tabular}\n"
      ],
      "text/markdown": [
       "\n",
       "A tidytable: 20 × 6\n",
       "\n",
       "| target &lt;chr&gt; | query &lt;chr&gt; | frac_zero &lt;dbl&gt; | mean_depth &lt;dbl&gt; | rankA &lt;int&gt; | rankB &lt;int&gt; |\n",
       "|---|---|---|---|---|---|\n",
       "| sample_1  | sample_12 | 0.08434782 | 10.556575 |  1 | 1 |\n",
       "| sample_11 | sample_9  | 0.11668057 | 11.102862 |  2 | 1 |\n",
       "| sample_4  | sample_5  | 0.14992391 | 25.966816 |  2 | 1 |\n",
       "| sample_5  | sample_12 | 0.01755560 | 10.046824 |  2 | 1 |\n",
       "| sample_9  | sample_12 | 0.08978945 | 10.554240 |  2 | 1 |\n",
       "| sample_0  | sample_2  | 0.11844730 |  6.204527 |  4 | 1 |\n",
       "| sample_10 | sample_5  | 0.24980520 |  4.532734 |  5 | 1 |\n",
       "| sample_3  | sample_12 | 0.10702675 |  8.132961 |  5 | 1 |\n",
       "| sample_12 | sample_12 | 0.17798861 |  2.586347 |  6 | 1 |\n",
       "| sample_2  | sample_2  | 0.15905771 |  4.164577 | 10 | 1 |\n",
       "| sample_5  | sample_4  | 0.09690100 | 12.750959 |  1 | 2 |\n",
       "| sample_3  | sample_4  | 0.11090230 |  9.905432 |  2 | 2 |\n",
       "| sample_4  | sample_0  | 0.18683070 | 20.622685 |  3 | 2 |\n",
       "| sample_12 | sample_9  | 0.26574776 |  3.376582 |  5 | 2 |\n",
       "| sample_11 | sample_10 | 0.15547444 |  6.388902 |  6 | 2 |\n",
       "| sample_2  | sample_0  | 0.17442405 |  7.360042 |  7 | 2 |\n",
       "| sample_9  | sample_9  | 0.19075928 |  3.568219 |  7 | 2 |\n",
       "| sample_0  | sample_0  | 0.13867733 |  3.937914 |  9 | 2 |\n",
       "| sample_1  | sample_1  | 0.16363558 |  2.728731 | 10 | 2 |\n",
       "| sample_10 | sample_10 | 0.25011674 |  1.683843 | 10 | 2 |\n",
       "\n"
      ],
      "text/plain": [
       "   target    query     frac_zero  mean_depth rankA rankB\n",
       "1  sample_1  sample_12 0.08434782 10.556575   1    1    \n",
       "2  sample_11 sample_9  0.11668057 11.102862   2    1    \n",
       "3  sample_4  sample_5  0.14992391 25.966816   2    1    \n",
       "4  sample_5  sample_12 0.01755560 10.046824   2    1    \n",
       "5  sample_9  sample_12 0.08978945 10.554240   2    1    \n",
       "6  sample_0  sample_2  0.11844730  6.204527   4    1    \n",
       "7  sample_10 sample_5  0.24980520  4.532734   5    1    \n",
       "8  sample_3  sample_12 0.10702675  8.132961   5    1    \n",
       "9  sample_12 sample_12 0.17798861  2.586347   6    1    \n",
       "10 sample_2  sample_2  0.15905771  4.164577  10    1    \n",
       "11 sample_5  sample_4  0.09690100 12.750959   1    2    \n",
       "12 sample_3  sample_4  0.11090230  9.905432   2    2    \n",
       "13 sample_4  sample_0  0.18683070 20.622685   3    2    \n",
       "14 sample_12 sample_9  0.26574776  3.376582   5    2    \n",
       "15 sample_11 sample_10 0.15547444  6.388902   6    2    \n",
       "16 sample_2  sample_0  0.17442405  7.360042   7    2    \n",
       "17 sample_9  sample_9  0.19075928  3.568219   7    2    \n",
       "18 sample_0  sample_0  0.13867733  3.937914   9    2    \n",
       "19 sample_1  sample_1  0.16363558  2.728731  10    2    \n",
       "20 sample_10 sample_10 0.25011674  1.683843  10    2    "
      ]
     },
     "metadata": {},
     "output_type": "display_data"
    }
   ],
   "source": [
    "# for each target, which query has highest mean depth\n",
    "df.dims(20)\n",
    "depths %>%\n",
    "    mutate.(query = gsub('\\\\.tsv.gz', '', query),\n",
    "            query = gsub('.+_sample', 'sample', query)) %>%\n",
    "    summarize.(frac_zero = mean(frac_zero),\n",
    "               mean_depth = mean(mean_depth),\n",
    "               .by = c(target, query)) %>%\n",
    "    mutate.(rankA = dense_rank(-mean_depth),\n",
    "            rankB = dense_rank(frac_zero),\n",
    "            .by = c(target)) %>%\n",
    "    arrange.(rankB, rankA) %>%\n",
    "    slice_head.(n=20)"
   ]
  },
  {
   "cell_type": "code",
   "execution_count": null,
   "metadata": {
    "ExecuteTime": {
     "start_time": "2022-03-19T05:32:14.501Z"
    }
   },
   "outputs": [],
   "source": [
    "send_email('http://127.0.0.1:9704/notebooks/version2/deepmased/notebooks/06_version2/01_simulation_datasets/04_CAMI/02b_CAMI2_HMP-gut_contig-check.ipynb')"
   ]
  },
  {
   "cell_type": "markdown",
   "metadata": {},
   "source": [
    "# sessionInfo"
   ]
  },
  {
   "cell_type": "code",
   "execution_count": 54,
   "metadata": {
    "ExecuteTime": {
     "end_time": "2022-03-26T13:51:57.973154Z",
     "start_time": "2022-03-26T13:51:57.001Z"
    }
   },
   "outputs": [
    {
     "data": {
      "text/plain": [
       "R version 4.1.1 (2021-08-10)\n",
       "Platform: x86_64-conda-linux-gnu (64-bit)\n",
       "Running under: Ubuntu 18.04.6 LTS\n",
       "\n",
       "Matrix products: default\n",
       "BLAS/LAPACK: /tmp/global2/nyoungblut/code/general/conda_envs/general-tidyverse/lib/libopenblasp-r0.3.18.so\n",
       "\n",
       "locale:\n",
       " [1] LC_CTYPE=en_US.UTF-8       LC_NUMERIC=C              \n",
       " [3] LC_TIME=en_US.UTF-8        LC_COLLATE=en_US.UTF-8    \n",
       " [5] LC_MONETARY=en_US.UTF-8    LC_MESSAGES=en_US.UTF-8   \n",
       " [7] LC_PAPER=en_US.UTF-8       LC_NAME=C                 \n",
       " [9] LC_ADDRESS=C               LC_TELEPHONE=C            \n",
       "[11] LC_MEASUREMENT=en_US.UTF-8 LC_IDENTIFICATION=C       \n",
       "\n",
       "attached base packages:\n",
       "[1] stats     graphics  grDevices utils     datasets  methods   base     \n",
       "\n",
       "other attached packages:\n",
       "[1] clustermq_0.8.95.2 LeyLabRMisc_0.2.1  tidytable_0.6.6    data.table_1.14.2 \n",
       "[5] ggplot2_3.3.5      tidyr_1.1.4        dplyr_1.0.7       \n",
       "\n",
       "loaded via a namespace (and not attached):\n",
       " [1] Rcpp_1.0.7        plyr_1.8.6        pillar_1.6.4      compiler_4.1.1   \n",
       " [5] R.methodsS3_1.8.1 R.utils_2.11.0    base64enc_0.1-3   tools_4.1.1      \n",
       " [9] digest_0.6.29     uuid_1.0-3        jsonlite_1.7.2    evaluate_0.14    \n",
       "[13] lifecycle_1.0.1   tibble_3.1.6      gtable_0.3.0      pkgconfig_2.0.3  \n",
       "[17] rlang_0.4.12      IRdisplay_1.1     IRkernel_1.3      fastmap_1.1.0    \n",
       "[21] repr_1.1.4        withr_2.4.3       generics_0.1.1    vctrs_0.3.8      \n",
       "[25] grid_4.1.1        tidyselect_1.1.1  glue_1.6.0        R6_2.5.1         \n",
       "[29] fansi_1.0.0       pbdZMQ_0.3-6      farver_2.1.0      purrr_0.3.4      \n",
       "[33] magrittr_2.0.1    codetools_0.2-18  scales_1.1.1      ellipsis_0.3.2   \n",
       "[37] htmltools_0.5.2   colorspace_2.0-2  labeling_0.4.2    utf8_1.2.2       \n",
       "[41] munsell_0.5.0     crayon_1.4.2      R.oo_1.24.0      "
      ]
     },
     "metadata": {},
     "output_type": "display_data"
    }
   ],
   "source": [
    "sessionInfo()"
   ]
  }
 ],
 "metadata": {
  "kernelspec": {
   "display_name": "R [conda env:general-tidyverse]",
   "language": "R",
   "name": "conda-env-general-tidyverse-r"
  },
  "language_info": {
   "codemirror_mode": "r",
   "file_extension": ".r",
   "mimetype": "text/x-r-source",
   "name": "R",
   "pygments_lexer": "r",
   "version": "4.1.1"
  },
  "toc": {
   "base_numbering": 1,
   "nav_menu": {},
   "number_sections": true,
   "sideBar": true,
   "skip_h1_title": false,
   "title_cell": "Table of Contents",
   "title_sidebar": "Contents",
   "toc_cell": true,
   "toc_position": {},
   "toc_section_display": true,
   "toc_window_display": true
  }
 },
 "nbformat": 4,
 "nbformat_minor": 4
}
