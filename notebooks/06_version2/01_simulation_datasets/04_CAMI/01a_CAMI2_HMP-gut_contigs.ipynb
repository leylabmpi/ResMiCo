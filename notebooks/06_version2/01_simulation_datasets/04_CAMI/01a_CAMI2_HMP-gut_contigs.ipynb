{
 "cells": [
  {
   "cell_type": "markdown",
   "metadata": {
    "toc": true
   },
   "source": [
    "<h1>Table of Contents<span class=\"tocSkip\"></span></h1>\n",
    "<div class=\"toc\"><ul class=\"toc-item\"><li><span><a href=\"#Goal\" data-toc-modified-id=\"Goal-1\"><span class=\"toc-item-num\">1&nbsp;&nbsp;</span>Goal</a></span></li><li><span><a href=\"#Var\" data-toc-modified-id=\"Var-2\"><span class=\"toc-item-num\">2&nbsp;&nbsp;</span>Var</a></span></li><li><span><a href=\"#Init\" data-toc-modified-id=\"Init-3\"><span class=\"toc-item-num\">3&nbsp;&nbsp;</span>Init</a></span></li><li><span><a href=\"#ResMiCo-sm\" data-toc-modified-id=\"ResMiCo-sm-4\"><span class=\"toc-item-num\">4&nbsp;&nbsp;</span>ResMiCo-sm</a></span><ul class=\"toc-item\"><li><ul class=\"toc-item\"><li><span><a href=\"#Config\" data-toc-modified-id=\"Config-4.0.1\"><span class=\"toc-item-num\">4.0.1&nbsp;&nbsp;</span>Config</a></span></li><li><span><a href=\"#Run\" data-toc-modified-id=\"Run-4.0.2\"><span class=\"toc-item-num\">4.0.2&nbsp;&nbsp;</span>Run</a></span></li></ul></li></ul></li><li><span><a href=\"#metaquast\" data-toc-modified-id=\"metaquast-5\"><span class=\"toc-item-num\">5&nbsp;&nbsp;</span>metaquast</a></span></li><li><span><a href=\"#minimap2\" data-toc-modified-id=\"minimap2-6\"><span class=\"toc-item-num\">6&nbsp;&nbsp;</span>minimap2</a></span><ul class=\"toc-item\"><li><ul class=\"toc-item\"><li><span><a href=\"#Convert-to-tsv\" data-toc-modified-id=\"Convert-to-tsv-6.0.1\"><span class=\"toc-item-num\">6.0.1&nbsp;&nbsp;</span>Convert to tsv</a></span></li><li><span><a href=\"#Loading-hits\" data-toc-modified-id=\"Loading-hits-6.0.2\"><span class=\"toc-item-num\">6.0.2&nbsp;&nbsp;</span>Loading hits</a></span></li></ul></li></ul></li><li><span><a href=\"#sessionInfo\" data-toc-modified-id=\"sessionInfo-7\"><span class=\"toc-item-num\">7&nbsp;&nbsp;</span>sessionInfo</a></span></li></ul></div>"
   ]
  },
  {
   "cell_type": "markdown",
   "metadata": {},
   "source": [
    "# Goal\n",
    "\n",
    "* ResMiCo-sm on CAMI contigs"
   ]
  },
  {
   "cell_type": "markdown",
   "metadata": {},
   "source": [
    "# Var"
   ]
  },
  {
   "cell_type": "code",
   "execution_count": null,
   "metadata": {
    "ExecuteTime": {
     "end_time": "2022-02-18T14:15:01.438942Z",
     "start_time": "2022-02-18T13:55:58.701Z"
    }
   },
   "outputs": [],
   "source": [
    "work_dir = '/ebio/abt3_projects/databases_no-backup/CAMI/CAMI2_HMP-gut/short_read/ResMiCo-SM_cami-contigs/'\n",
    "\n"
   ]
  },
  {
   "cell_type": "markdown",
   "metadata": {},
   "source": [
    "# Init"
   ]
  },
  {
   "cell_type": "code",
   "execution_count": 4,
   "metadata": {
    "ExecuteTime": {
     "end_time": "2022-02-18T13:18:43.255896Z",
     "start_time": "2022-02-18T13:18:43.175Z"
    }
   },
   "outputs": [],
   "source": [
    "library(dplyr)\n",
    "library(tidyr)\n",
    "library(ggplot2)\n",
    "library(data.table)\n",
    "library(tidytable)\n",
    "library(LeyLabRMisc)\n",
    "Init()"
   ]
  },
  {
   "cell_type": "code",
   "execution_count": 28,
   "metadata": {
    "ExecuteTime": {
     "end_time": "2022-02-18T13:44:50.576155Z",
     "start_time": "2022-02-18T13:44:50.494Z"
    }
   },
   "outputs": [],
   "source": [
    "clustermq_setup()"
   ]
  },
  {
   "cell_type": "markdown",
   "metadata": {},
   "source": [
    "# ResMiCo-sm"
   ]
  },
  {
   "cell_type": "markdown",
   "metadata": {},
   "source": [
    "### Config"
   ]
  },
  {
   "cell_type": "code",
   "execution_count": 6,
   "metadata": {
    "ExecuteTime": {
     "end_time": "2022-02-18T13:20:37.760414Z",
     "start_time": "2022-02-18T13:20:37.672Z"
    }
   },
   "outputs": [
    {
     "name": "stdout",
     "output_type": "stream",
     "text": [
      "# Input table\n",
      "## Table of genomes\n",
      "genomes_file: /ebio/abt3_projects/databases_no-backup/CAMI/CAMI2_HMP-gut/short_read/ResMiCo-SM_cami-contigs/samples.tsv\n",
      "\n",
      "# Output directory\n",
      "output_dir: /ebio/abt3_projects/databases_no-backup/CAMI/CAMI2_HMP-gut/short_read/ResMiCo-SM_cami-contigs/\n",
      "\n",
      "# Temporary output directory (/dev/shm/ for shared memory)\n",
      "#tmp_dir: /tmp/\n",
      "tmp_dir: /ebio/abt3_scratch/\n",
      "\n",
      "# Email for notifications (\"Skip\" to skip)\n",
      "email: nyoungblut@tuebingen.mpg.de\n",
      "\n",
      "# software parameters for data simulations\n",
      "## Use \"Skip\" to skip  steps. If no params for rule, use \"\"\n",
      "## `reps:` is the number of replicate simulations\n",
      "## If `keep_reads: True`, then simulated reads are kept\n",
      "params:\n",
      "  ionice: -c 3\n",
      "  # simulating metagenomes\n",
      "  MGSIM:\n",
      "#    genome_download: \"\"\n",
      "    sim_reps: 1\n",
      "    community:\n",
      "      richness:\n",
      "        - 0.5\n",
      "        - 0.8\n",
      "      abundance_distribution:\n",
      "        - \"mean:10,sigma:1\"\n",
      "        - \"mean:10,sigma:2\"\n",
      "      random_seed: 8192\n",
      "      other_sim_params: --group-bias 0\n",
      "    reads: \n",
      "      length:\n",
      "        - 100\n",
      "      depth:\n",
      "        - 1000000\n",
      "      other_sim_params: --art-paired --art-mflen 270 --art-sdev 50 --rndSeed 8712\n",
      "                        --art-qprof1 data/art_error_profiles/HiSeq2500L150R1.txt\n",
      "                        --art-qprof2 data/art_error_profiles/HiSeq2500L150R2.txt\n",
      "      skewer: -n -l 70 -q 25 --format sanger\n",
      "      keep_reads: False\n",
      "  # coverage\n",
      "  nonpareil:\n",
      "    params: -T kmer\n",
      "    summary: 1e9   # this is target seq. depth\n",
      "  # assemblying metagenomes\n",
      "  assemblers:\n",
      "    metaspades: -k auto --only-assembler\n",
      "    megahit: --min-count 1 --min-contig-len 1000\n",
      "  # assembly filtering\n",
      "  contigs:\n",
      "    length_cutoff: 1000       # length in bp \n",
      "  # assessing assembly errors\n",
      "  asmbl_errors:\n",
      "    metaquast: --max-ref-number 0 --min-contig 1000 --min-identity 95 --extensive-mis-size 100\n",
      "               --no-html --no-plots --no-icarus --no-gc --no-snps --no-sv\n",
      "    keep_genomes: False\n",
      "  # mapping reads to contigs\n",
      "  map:\n",
      "    samtools: \"\"\n",
      "    bowtie2: \"\"\n",
      "    max_coverage: 20\n",
      "    keep_bam: True\n",
      "    keep_faidx: True\n",
      "    create_bigwig: False\n",
      "  # creating ResMiCo feature tables\n",
      "  feature_table:\n",
      "    make: --window 6\n",
      "  # state-of-the-art\n",
      "  SotA:\n",
      "    ALE: \"\"\n",
      "    VALET: Skip # \"\"\n",
      "    metaMIC:\n",
      "      extract: --mlen 1000\n",
      "      predict: --mlen 1000 --slen 500 -a MEGAHIT\n",
      "\n",
      "# params just for creating feature tables for non-simulated data\n",
      "nonsim_params:\n",
      "  # max number of reads to use\n",
      "  subsample_reads: Skip #1000000\n",
      "\n",
      "# snakemake pipeline\n",
      "pipeline:\n",
      "  snakemake_folder: ./\n",
      "  script_folder: ./bin/scripts/\n",
      "  name: ResMiCo-SM"
     ]
    }
   ],
   "source": [
    "F = file.path(work_dir, 'config.yaml')\n",
    "cat_file(F)"
   ]
  },
  {
   "cell_type": "markdown",
   "metadata": {},
   "source": [
    "### Run"
   ]
  },
  {
   "cell_type": "markdown",
   "metadata": {},
   "source": [
    "```\n",
    "(snakemake) @ rick:/ebio/abt3_projects/DeepMAsED/version2/deepmased/ResMiCo-SM\n",
    "screen -L -S ./snakemake_sge.sh /ebio/abt3_projects/databases_no-backup/CAMI/CAMI2_HMP-gut/short_read/ResMiCo-SM_cami-contigs/config.yaml 30 -F\n",
    "```"
   ]
  },
  {
   "cell_type": "markdown",
   "metadata": {},
   "source": [
    "# metaquast\n",
    "\n",
    "* running metaQUAST 'manually' due to non-standard workflow: \"real\" contigs + references\n",
    "* method\n",
    "  * combine ref genomes\n",
    "  * metaquast\n",
    "    * cami contigs, ref genomes, reads"
   ]
  },
  {
   "cell_type": "code",
   "execution_count": 39,
   "metadata": {
    "ExecuteTime": {
     "end_time": "2022-02-18T14:49:13.699024Z",
     "start_time": "2022-02-18T14:49:13.474Z"
    }
   },
   "outputs": [],
   "source": [
    "# var\n",
    "base_dir = '/ebio/abt3_projects/databases_no-backup/CAMI/CAMI2_HMP-gut/short_read/'\n",
    "\n",
    "ref_genomes_table = file.path(base_dir, 'genomes.tsv')\n",
    "\n",
    "mq_dir = file.path(base_dir, 'metaquast')\n",
    "contigs_file = file.path(mq_dir, 'samples.tsv')\n",
    "\n",
    "ref_genomes_dir = file.path(base_dir, 'genomes')\n",
    "\n",
    "exe_file = '/ebio/abt3_projects/DeepMAsED/version2/deepmased/ResMiCo-SM/bin/scripts/metaquast_short.py'\n",
    "\n",
    "# created conda env for work\n",
    "## mamba create -p conda_env/metaquast bioconda::quast=5.0.2 r-renv r-glue r-clustermq\n",
    "conda_env = file.path(mq_dir, 'conda_env', 'metaquast')"
   ]
  },
  {
   "cell_type": "code",
   "execution_count": 40,
   "metadata": {
    "ExecuteTime": {
     "end_time": "2022-02-18T14:49:13.817526Z",
     "start_time": "2022-02-18T14:49:13.584Z"
    }
   },
   "outputs": [
    {
     "data": {
      "text/html": [
       "<table class=\"dataframe\">\n",
       "<caption>A data.table: 10 × 5</caption>\n",
       "<thead>\n",
       "\t<tr><th scope=col>Taxon</th><th scope=col>Fasta</th><th scope=col>Sample</th><th scope=col>Read1</th><th scope=col>Read2</th></tr>\n",
       "\t<tr><th scope=col>&lt;chr&gt;</th><th scope=col>&lt;chr&gt;</th><th scope=col>&lt;chr&gt;</th><th scope=col>&lt;chr&gt;</th><th scope=col>&lt;chr&gt;</th></tr>\n",
       "</thead>\n",
       "<tbody>\n",
       "\t<tr><td>2017.12.04_18.45.54_sample_0</td><td>/ebio/abt3_projects/databases_no-backup/CAMI/CAMI2_HMP-gut/short_read/2017.12.04_18.45.54_sample_0/contigs/anonymous_gsa.fasta.gz</td><td>2017.12.04_18.45.54_sample_0</td><td>/ebio/abt3_scratch/nyoungblut/CAMI/CAMI2_HMP-gut/2017.12.04_18.45.54_sample_0_R1.fq</td><td>/ebio/abt3_scratch/nyoungblut/CAMI/CAMI2_HMP-gut/2017.12.04_18.45.54_sample_0_R2.fq</td></tr>\n",
       "\t<tr><td>2017.12.04_18.45.54_sample_1</td><td>/ebio/abt3_projects/databases_no-backup/CAMI/CAMI2_HMP-gut/short_read/2017.12.04_18.45.54_sample_1/contigs/anonymous_gsa.fasta.gz</td><td>2017.12.04_18.45.54_sample_1</td><td>/ebio/abt3_scratch/nyoungblut/CAMI/CAMI2_HMP-gut/2017.12.04_18.45.54_sample_1_R1.fq</td><td>/ebio/abt3_scratch/nyoungblut/CAMI/CAMI2_HMP-gut/2017.12.04_18.45.54_sample_1_R2.fq</td></tr>\n",
       "\t<tr><td>⋮</td><td>⋮</td><td>⋮</td><td>⋮</td><td>⋮</td></tr>\n",
       "\t<tr><td>2017.12.04_18.45.54_sample_5</td><td>/ebio/abt3_projects/databases_no-backup/CAMI/CAMI2_HMP-gut/short_read/2017.12.04_18.45.54_sample_5/contigs/anonymous_gsa.fasta.gz</td><td>2017.12.04_18.45.54_sample_5</td><td>/ebio/abt3_scratch/nyoungblut/CAMI/CAMI2_HMP-gut/2017.12.04_18.45.54_sample_5_R1.fq</td><td>/ebio/abt3_scratch/nyoungblut/CAMI/CAMI2_HMP-gut/2017.12.04_18.45.54_sample_5_R2.fq</td></tr>\n",
       "\t<tr><td>2017.12.04_18.45.54_sample_9</td><td>/ebio/abt3_projects/databases_no-backup/CAMI/CAMI2_HMP-gut/short_read/2017.12.04_18.45.54_sample_9/contigs/anonymous_gsa.fasta.gz</td><td>2017.12.04_18.45.54_sample_9</td><td>/ebio/abt3_scratch/nyoungblut/CAMI/CAMI2_HMP-gut/2017.12.04_18.45.54_sample_9_R1.fq</td><td>/ebio/abt3_scratch/nyoungblut/CAMI/CAMI2_HMP-gut/2017.12.04_18.45.54_sample_9_R2.fq</td></tr>\n",
       "</tbody>\n",
       "</table>\n"
      ],
      "text/latex": [
       "A data.table: 10 × 5\n",
       "\\begin{tabular}{lllll}\n",
       " Taxon & Fasta & Sample & Read1 & Read2\\\\\n",
       " <chr> & <chr> & <chr> & <chr> & <chr>\\\\\n",
       "\\hline\n",
       "\t 2017.12.04\\_18.45.54\\_sample\\_0 & /ebio/abt3\\_projects/databases\\_no-backup/CAMI/CAMI2\\_HMP-gut/short\\_read/2017.12.04\\_18.45.54\\_sample\\_0/contigs/anonymous\\_gsa.fasta.gz & 2017.12.04\\_18.45.54\\_sample\\_0 & /ebio/abt3\\_scratch/nyoungblut/CAMI/CAMI2\\_HMP-gut/2017.12.04\\_18.45.54\\_sample\\_0\\_R1.fq & /ebio/abt3\\_scratch/nyoungblut/CAMI/CAMI2\\_HMP-gut/2017.12.04\\_18.45.54\\_sample\\_0\\_R2.fq\\\\\n",
       "\t 2017.12.04\\_18.45.54\\_sample\\_1 & /ebio/abt3\\_projects/databases\\_no-backup/CAMI/CAMI2\\_HMP-gut/short\\_read/2017.12.04\\_18.45.54\\_sample\\_1/contigs/anonymous\\_gsa.fasta.gz & 2017.12.04\\_18.45.54\\_sample\\_1 & /ebio/abt3\\_scratch/nyoungblut/CAMI/CAMI2\\_HMP-gut/2017.12.04\\_18.45.54\\_sample\\_1\\_R1.fq & /ebio/abt3\\_scratch/nyoungblut/CAMI/CAMI2\\_HMP-gut/2017.12.04\\_18.45.54\\_sample\\_1\\_R2.fq\\\\\n",
       "\t ⋮ & ⋮ & ⋮ & ⋮ & ⋮\\\\\n",
       "\t 2017.12.04\\_18.45.54\\_sample\\_5 & /ebio/abt3\\_projects/databases\\_no-backup/CAMI/CAMI2\\_HMP-gut/short\\_read/2017.12.04\\_18.45.54\\_sample\\_5/contigs/anonymous\\_gsa.fasta.gz & 2017.12.04\\_18.45.54\\_sample\\_5 & /ebio/abt3\\_scratch/nyoungblut/CAMI/CAMI2\\_HMP-gut/2017.12.04\\_18.45.54\\_sample\\_5\\_R1.fq & /ebio/abt3\\_scratch/nyoungblut/CAMI/CAMI2\\_HMP-gut/2017.12.04\\_18.45.54\\_sample\\_5\\_R2.fq\\\\\n",
       "\t 2017.12.04\\_18.45.54\\_sample\\_9 & /ebio/abt3\\_projects/databases\\_no-backup/CAMI/CAMI2\\_HMP-gut/short\\_read/2017.12.04\\_18.45.54\\_sample\\_9/contigs/anonymous\\_gsa.fasta.gz & 2017.12.04\\_18.45.54\\_sample\\_9 & /ebio/abt3\\_scratch/nyoungblut/CAMI/CAMI2\\_HMP-gut/2017.12.04\\_18.45.54\\_sample\\_9\\_R1.fq & /ebio/abt3\\_scratch/nyoungblut/CAMI/CAMI2\\_HMP-gut/2017.12.04\\_18.45.54\\_sample\\_9\\_R2.fq\\\\\n",
       "\\end{tabular}\n"
      ],
      "text/markdown": [
       "\n",
       "A data.table: 10 × 5\n",
       "\n",
       "| Taxon &lt;chr&gt; | Fasta &lt;chr&gt; | Sample &lt;chr&gt; | Read1 &lt;chr&gt; | Read2 &lt;chr&gt; |\n",
       "|---|---|---|---|---|\n",
       "| 2017.12.04_18.45.54_sample_0 | /ebio/abt3_projects/databases_no-backup/CAMI/CAMI2_HMP-gut/short_read/2017.12.04_18.45.54_sample_0/contigs/anonymous_gsa.fasta.gz | 2017.12.04_18.45.54_sample_0 | /ebio/abt3_scratch/nyoungblut/CAMI/CAMI2_HMP-gut/2017.12.04_18.45.54_sample_0_R1.fq | /ebio/abt3_scratch/nyoungblut/CAMI/CAMI2_HMP-gut/2017.12.04_18.45.54_sample_0_R2.fq |\n",
       "| 2017.12.04_18.45.54_sample_1 | /ebio/abt3_projects/databases_no-backup/CAMI/CAMI2_HMP-gut/short_read/2017.12.04_18.45.54_sample_1/contigs/anonymous_gsa.fasta.gz | 2017.12.04_18.45.54_sample_1 | /ebio/abt3_scratch/nyoungblut/CAMI/CAMI2_HMP-gut/2017.12.04_18.45.54_sample_1_R1.fq | /ebio/abt3_scratch/nyoungblut/CAMI/CAMI2_HMP-gut/2017.12.04_18.45.54_sample_1_R2.fq |\n",
       "| ⋮ | ⋮ | ⋮ | ⋮ | ⋮ |\n",
       "| 2017.12.04_18.45.54_sample_5 | /ebio/abt3_projects/databases_no-backup/CAMI/CAMI2_HMP-gut/short_read/2017.12.04_18.45.54_sample_5/contigs/anonymous_gsa.fasta.gz | 2017.12.04_18.45.54_sample_5 | /ebio/abt3_scratch/nyoungblut/CAMI/CAMI2_HMP-gut/2017.12.04_18.45.54_sample_5_R1.fq | /ebio/abt3_scratch/nyoungblut/CAMI/CAMI2_HMP-gut/2017.12.04_18.45.54_sample_5_R2.fq |\n",
       "| 2017.12.04_18.45.54_sample_9 | /ebio/abt3_projects/databases_no-backup/CAMI/CAMI2_HMP-gut/short_read/2017.12.04_18.45.54_sample_9/contigs/anonymous_gsa.fasta.gz | 2017.12.04_18.45.54_sample_9 | /ebio/abt3_scratch/nyoungblut/CAMI/CAMI2_HMP-gut/2017.12.04_18.45.54_sample_9_R1.fq | /ebio/abt3_scratch/nyoungblut/CAMI/CAMI2_HMP-gut/2017.12.04_18.45.54_sample_9_R2.fq |\n",
       "\n"
      ],
      "text/plain": [
       "   Taxon                       \n",
       "1  2017.12.04_18.45.54_sample_0\n",
       "2  2017.12.04_18.45.54_sample_1\n",
       "⋮  ⋮                           \n",
       "9  2017.12.04_18.45.54_sample_5\n",
       "10 2017.12.04_18.45.54_sample_9\n",
       "   Fasta                                                                                                                            \n",
       "1  /ebio/abt3_projects/databases_no-backup/CAMI/CAMI2_HMP-gut/short_read/2017.12.04_18.45.54_sample_0/contigs/anonymous_gsa.fasta.gz\n",
       "2  /ebio/abt3_projects/databases_no-backup/CAMI/CAMI2_HMP-gut/short_read/2017.12.04_18.45.54_sample_1/contigs/anonymous_gsa.fasta.gz\n",
       "⋮  ⋮                                                                                                                                \n",
       "9  /ebio/abt3_projects/databases_no-backup/CAMI/CAMI2_HMP-gut/short_read/2017.12.04_18.45.54_sample_5/contigs/anonymous_gsa.fasta.gz\n",
       "10 /ebio/abt3_projects/databases_no-backup/CAMI/CAMI2_HMP-gut/short_read/2017.12.04_18.45.54_sample_9/contigs/anonymous_gsa.fasta.gz\n",
       "   Sample                      \n",
       "1  2017.12.04_18.45.54_sample_0\n",
       "2  2017.12.04_18.45.54_sample_1\n",
       "⋮  ⋮                           \n",
       "9  2017.12.04_18.45.54_sample_5\n",
       "10 2017.12.04_18.45.54_sample_9\n",
       "   Read1                                                                              \n",
       "1  /ebio/abt3_scratch/nyoungblut/CAMI/CAMI2_HMP-gut/2017.12.04_18.45.54_sample_0_R1.fq\n",
       "2  /ebio/abt3_scratch/nyoungblut/CAMI/CAMI2_HMP-gut/2017.12.04_18.45.54_sample_1_R1.fq\n",
       "⋮  ⋮                                                                                  \n",
       "9  /ebio/abt3_scratch/nyoungblut/CAMI/CAMI2_HMP-gut/2017.12.04_18.45.54_sample_5_R1.fq\n",
       "10 /ebio/abt3_scratch/nyoungblut/CAMI/CAMI2_HMP-gut/2017.12.04_18.45.54_sample_9_R1.fq\n",
       "   Read2                                                                              \n",
       "1  /ebio/abt3_scratch/nyoungblut/CAMI/CAMI2_HMP-gut/2017.12.04_18.45.54_sample_0_R2.fq\n",
       "2  /ebio/abt3_scratch/nyoungblut/CAMI/CAMI2_HMP-gut/2017.12.04_18.45.54_sample_1_R2.fq\n",
       "⋮  ⋮                                                                                  \n",
       "9  /ebio/abt3_scratch/nyoungblut/CAMI/CAMI2_HMP-gut/2017.12.04_18.45.54_sample_5_R2.fq\n",
       "10 /ebio/abt3_scratch/nyoungblut/CAMI/CAMI2_HMP-gut/2017.12.04_18.45.54_sample_9_R2.fq"
      ]
     },
     "metadata": {},
     "output_type": "display_data"
    }
   ],
   "source": [
    "# Table of CAMI contigs + associated data\n",
    "contigs = Fread(contigs_file)\n",
    "contigs"
   ]
  },
  {
   "cell_type": "code",
   "execution_count": 61,
   "metadata": {
    "ExecuteTime": {
     "end_time": "2022-02-19T15:19:52.054649Z",
     "start_time": "2022-02-19T15:19:51.983Z"
    }
   },
   "outputs": [],
   "source": [
    "bash_job = function (cmd, conda_env = NULL, stdout = TRUE, stderr = TRUE, \n",
    "                 print_output = TRUE, return_output = FALSE, log_file = NULL, \n",
    "                 verbose = TRUE, wait = TRUE){\n",
    "    for (x in c(stderr, stdout)) {\n",
    "        if (is.character(stderr)) {\n",
    "            dir.create(dirname(x), recursive = TRUE, showWarnings = FALSE)\n",
    "        }\n",
    "    }\n",
    "    if (!is.null(conda_env)) {\n",
    "        CMD = sprintf(\". ~/.bashrc && conda activate %s &&\", \n",
    "            conda_env)\n",
    "    }\n",
    "    else {\n",
    "        CMD = \"\"\n",
    "    }\n",
    "    CMD = sprintf(\"%s %s\", CMD, cmd)\n",
    "    CMD = sprintf(\"-c \\\"%s\\\"\", CMD)\n",
    "    if (verbose == TRUE) {\n",
    "        message(sprintf(\"bash %s\", CMD))\n",
    "    }\n",
    "    ret = system2(\"bash\", CMD, stdout = stdout, stderr = stderr, \n",
    "        wait = TRUE)\n",
    "    if (print_output == TRUE) {\n",
    "        cat(paste(ret, collapse = \"\\n\"))\n",
    "    }\n",
    "    if (return_output == TRUE) {\n",
    "        return(ret)\n",
    "    }\n",
    "    return(invisible())\n",
    "}"
   ]
  },
  {
   "cell_type": "code",
   "execution_count": 41,
   "metadata": {
    "ExecuteTime": {
     "end_time": "2022-02-18T15:32:29.597137Z",
     "start_time": "2022-02-18T14:49:13.696Z"
    }
   },
   "outputs": [
    {
     "name": "stderr",
     "output_type": "stream",
     "text": [
      "Setting logfile dir: /ebio/abt3_scratch//nyoungblut/clustermq/7d48b5d8-e6de-4379-baf0-a181fceb4746\n",
      "\n",
      "Submitting 10 worker jobs (ID: cmq6386) ...\n",
      "\n",
      "Running 10 calculations (0 objs/0 Mb common; 1 calls/chunk) ...\n",
      "\n",
      "Warning message in qsys$receive_data(timeout = timeout):\n",
      "“\n",
      "Version mismatch: master has 0.8.95.2, worker 0.8.95.1”\n",
      "\n",
      "[---------------------------------------------------]   0% (1/10 wrk) eta:  ?s\n",
      "\n",
      "[---------------------------------------------------]   0% (2/10 wrk) eta:  ?s\n",
      "\n",
      "[---------------------------------------------------]   0% (3/10 wrk) eta:  ?s\n",
      "\n",
      "[---------------------------------------------------]   0% (4/10 wrk) eta:  ?s\n",
      "\n",
      "[---------------------------------------------------]   0% (5/10 wrk) eta:  ?s\n",
      "\n",
      "[---------------------------------------------------]   0% (6/10 wrk) eta:  ?s\n",
      "\n",
      "[---------------------------------------------------]   0% (7/10 wrk) eta:  ?s\n",
      "\n",
      "[---------------------------------------------------]   0% (8/10 wrk) eta:  ?s\n",
      "\n",
      "[---------------------------------------------------]   0% (9/10 wrk) eta:  ?s\n",
      "\n",
      "[--------------------------------------------------]   0% (10/10 wrk) eta:  ?s\n",
      "\n",
      "[====>---------------------------------------------]  10% (10/10 wrk) eta:  4h\n",
      "\n",
      "[=========>------------------------------------------]  20% (9/9 wrk) eta:  2h\n",
      "\n",
      "[===============>------------------------------------]  30% (8/8 wrk) eta:  1h\n",
      "\n",
      "[====================>-------------------------------]  40% (7/7 wrk) eta:  1h\n",
      "\n",
      "[=========================>--------------------------]  50% (6/6 wrk) eta: 34m\n",
      "\n",
      "[==============================>---------------------]  60% (5/5 wrk) eta: 23m\n",
      "\n",
      "[===================================>----------------]  70% (4/4 wrk) eta: 15m\n",
      "\n",
      "[=========================================>----------]  80% (3/3 wrk) eta:  9m\n",
      "\n",
      "[==============================================>-----]  90% (2/2 wrk) eta:  4m\n",
      "\n",
      "[====================================================] 100% (1/1 wrk) eta:  0s\n",
      "                                                                              \n",
      "\n",
      "Master: [2595.5s 0.0% CPU]; Worker: [avg 0.0% CPU, max 249.5 Mb]\n",
      "\n"
     ]
    },
    {
     "data": {
      "text/html": [
       "<ol>\n",
       "\t<li>NULL</li>\n",
       "\t<li>NULL</li>\n",
       "\t<li>NULL</li>\n",
       "\t<li>NULL</li>\n",
       "\t<li>NULL</li>\n",
       "\t<li>NULL</li>\n",
       "\t<li>NULL</li>\n",
       "\t<li>NULL</li>\n",
       "\t<li>NULL</li>\n",
       "\t<li>NULL</li>\n",
       "</ol>\n"
      ],
      "text/latex": [
       "\\begin{enumerate}\n",
       "\\item NULL\n",
       "\\item NULL\n",
       "\\item NULL\n",
       "\\item NULL\n",
       "\\item NULL\n",
       "\\item NULL\n",
       "\\item NULL\n",
       "\\item NULL\n",
       "\\item NULL\n",
       "\\item NULL\n",
       "\\end{enumerate}\n"
      ],
      "text/markdown": [
       "1. NULL\n",
       "2. NULL\n",
       "3. NULL\n",
       "4. NULL\n",
       "5. NULL\n",
       "6. NULL\n",
       "7. NULL\n",
       "8. NULL\n",
       "9. NULL\n",
       "10. NULL\n",
       "\n",
       "\n"
      ],
      "text/plain": [
       "[[1]]\n",
       "NULL\n",
       "\n",
       "[[2]]\n",
       "NULL\n",
       "\n",
       "[[3]]\n",
       "NULL\n",
       "\n",
       "[[4]]\n",
       "NULL\n",
       "\n",
       "[[5]]\n",
       "NULL\n",
       "\n",
       "[[6]]\n",
       "NULL\n",
       "\n",
       "[[7]]\n",
       "NULL\n",
       "\n",
       "[[8]]\n",
       "NULL\n",
       "\n",
       "[[9]]\n",
       "NULL\n",
       "\n",
       "[[10]]\n",
       "NULL\n"
      ]
     },
     "metadata": {},
     "output_type": "display_data"
    }
   ],
   "source": [
    "#' run metaquast on samples\n",
    "run_mq = function(x, exe_file, ref_dir, out_dir, conda_env){\n",
    "    cmd = '{exe} -t 8 --max-ref-number 0 --min-contig 1000 \\\n",
    "    --min-identity 95 --extensive-mis-size 100 \\\n",
    "    --no-html --no-plots --no-icarus --no-gc --no-snps --no-sv \\\n",
    "    --max-ref-number 0 --no-gzip -o {out_dir} -r {ref_dir} {contigs}'\n",
    "    cmd = gsub('\\n', ' ', cmd)\n",
    "    out_dir = file.path(out_dir, x$Taxon)\n",
    "    cmd = glue::glue(cmd, exe=exe_file, out_dir=out_dir, ref_dir=ref_dir, contigs=x$Fasta)\n",
    "    bash_job(cmd, conda_env = conda_env)\n",
    "}\n",
    "\n",
    "tmpl = list(job_time = '24:00:00', job_mem = '4G', cores = 8, log_file = clustermq_logfile())  \n",
    "contigs %>%\n",
    "    group_split.(Taxon) %>%\n",
    "    Q(run_mq, x=., exe_file=exe_file, ref_dir=ref_genomes_dir, out_dir=mq_dir, \n",
    "      conda_env=quast_conda_env, n_jobs=10, job_size=1, template=tmpl, \n",
    "      pkgs=c('glue'), export=list(bash_job=bash_job))"
   ]
  },
  {
   "cell_type": "code",
   "execution_count": 42,
   "metadata": {
    "ExecuteTime": {
     "end_time": "2022-02-18T15:32:30.650850Z",
     "start_time": "2022-02-18T14:49:21.849Z"
    }
   },
   "outputs": [
    {
     "name": "stderr",
     "output_type": "stream",
     "text": [
      "Sending email to: nyoungblut@tuebingen.mpg.de\n",
      "\n"
     ]
    }
   ],
   "source": [
    "send_email('http://127.0.0.1:9704/notebooks/version2/deepmased/notebooks/06_version2/01_simulation_datasets/04_CAMI/01a_CAMI2_HMP-gut_contigs.ipynb')"
   ]
  },
  {
   "cell_type": "markdown",
   "metadata": {},
   "source": [
    "# minimap2\n",
    "\n",
    "* Find similar contigs for the CAMI2-provided contigs versus the de-novo contigs generated with the reads"
   ]
  },
  {
   "cell_type": "code",
   "execution_count": 62,
   "metadata": {
    "ExecuteTime": {
     "end_time": "2022-02-19T15:20:16.816295Z",
     "start_time": "2022-02-19T15:20:16.745Z"
    }
   },
   "outputs": [],
   "source": [
    "denovo_contigs_file = '/ebio/abt3_projects/databases_no-backup/CAMI/CAMI2_HMP-gut/short_read/ResMiCo-SM/assembly/contigs.tsv'\n"
   ]
  },
  {
   "cell_type": "code",
   "execution_count": 63,
   "metadata": {
    "ExecuteTime": {
     "end_time": "2022-02-19T15:20:16.985646Z",
     "start_time": "2022-02-19T15:20:16.894Z"
    }
   },
   "outputs": [
    {
     "data": {
      "text/html": [
       "<table class=\"dataframe\">\n",
       "<caption>A data.table: 20 × 2</caption>\n",
       "<thead>\n",
       "\t<tr><th scope=col>Sample</th><th scope=col>Fasta</th></tr>\n",
       "\t<tr><th scope=col>&lt;chr&gt;</th><th scope=col>&lt;chr&gt;</th></tr>\n",
       "</thead>\n",
       "<tbody>\n",
       "\t<tr><td>2017.12.04_18.45.54_sample_2</td><td>/ebio/abt3_projects/databases_no-backup/CAMI/CAMI2_HMP-gut/short_read/ResMiCo-SM/assembly/2017.12.04_18.45.54_sample_2/NA/NA/NA/NA/megahit/contigs_filtered.fasta.gz   </td></tr>\n",
       "\t<tr><td>2017.12.04_18.45.54_sample_2</td><td>/ebio/abt3_projects/databases_no-backup/CAMI/CAMI2_HMP-gut/short_read/ResMiCo-SM/assembly/2017.12.04_18.45.54_sample_2/NA/NA/NA/NA/metaspades/contigs_filtered.fasta.gz</td></tr>\n",
       "\t<tr><td>⋮</td><td>⋮</td></tr>\n",
       "\t<tr><td>2017.12.04_18.45.54_sample_10</td><td>/ebio/abt3_projects/databases_no-backup/CAMI/CAMI2_HMP-gut/short_read/ResMiCo-SM/assembly/2017.12.04_18.45.54_sample_10/NA/NA/NA/NA/metaspades/contigs_filtered.fasta.gz</td></tr>\n",
       "\t<tr><td>2017.12.04_18.45.54_sample_10</td><td>/ebio/abt3_projects/databases_no-backup/CAMI/CAMI2_HMP-gut/short_read/ResMiCo-SM/assembly/2017.12.04_18.45.54_sample_10/NA/NA/NA/NA/megahit/contigs_filtered.fasta.gz   </td></tr>\n",
       "</tbody>\n",
       "</table>\n"
      ],
      "text/latex": [
       "A data.table: 20 × 2\n",
       "\\begin{tabular}{ll}\n",
       " Sample & Fasta\\\\\n",
       " <chr> & <chr>\\\\\n",
       "\\hline\n",
       "\t 2017.12.04\\_18.45.54\\_sample\\_2 & /ebio/abt3\\_projects/databases\\_no-backup/CAMI/CAMI2\\_HMP-gut/short\\_read/ResMiCo-SM/assembly/2017.12.04\\_18.45.54\\_sample\\_2/NA/NA/NA/NA/megahit/contigs\\_filtered.fasta.gz   \\\\\n",
       "\t 2017.12.04\\_18.45.54\\_sample\\_2 & /ebio/abt3\\_projects/databases\\_no-backup/CAMI/CAMI2\\_HMP-gut/short\\_read/ResMiCo-SM/assembly/2017.12.04\\_18.45.54\\_sample\\_2/NA/NA/NA/NA/metaspades/contigs\\_filtered.fasta.gz\\\\\n",
       "\t ⋮ & ⋮\\\\\n",
       "\t 2017.12.04\\_18.45.54\\_sample\\_10 & /ebio/abt3\\_projects/databases\\_no-backup/CAMI/CAMI2\\_HMP-gut/short\\_read/ResMiCo-SM/assembly/2017.12.04\\_18.45.54\\_sample\\_10/NA/NA/NA/NA/metaspades/contigs\\_filtered.fasta.gz\\\\\n",
       "\t 2017.12.04\\_18.45.54\\_sample\\_10 & /ebio/abt3\\_projects/databases\\_no-backup/CAMI/CAMI2\\_HMP-gut/short\\_read/ResMiCo-SM/assembly/2017.12.04\\_18.45.54\\_sample\\_10/NA/NA/NA/NA/megahit/contigs\\_filtered.fasta.gz   \\\\\n",
       "\\end{tabular}\n"
      ],
      "text/markdown": [
       "\n",
       "A data.table: 20 × 2\n",
       "\n",
       "| Sample &lt;chr&gt; | Fasta &lt;chr&gt; |\n",
       "|---|---|\n",
       "| 2017.12.04_18.45.54_sample_2 | /ebio/abt3_projects/databases_no-backup/CAMI/CAMI2_HMP-gut/short_read/ResMiCo-SM/assembly/2017.12.04_18.45.54_sample_2/NA/NA/NA/NA/megahit/contigs_filtered.fasta.gz    |\n",
       "| 2017.12.04_18.45.54_sample_2 | /ebio/abt3_projects/databases_no-backup/CAMI/CAMI2_HMP-gut/short_read/ResMiCo-SM/assembly/2017.12.04_18.45.54_sample_2/NA/NA/NA/NA/metaspades/contigs_filtered.fasta.gz |\n",
       "| ⋮ | ⋮ |\n",
       "| 2017.12.04_18.45.54_sample_10 | /ebio/abt3_projects/databases_no-backup/CAMI/CAMI2_HMP-gut/short_read/ResMiCo-SM/assembly/2017.12.04_18.45.54_sample_10/NA/NA/NA/NA/metaspades/contigs_filtered.fasta.gz |\n",
       "| 2017.12.04_18.45.54_sample_10 | /ebio/abt3_projects/databases_no-backup/CAMI/CAMI2_HMP-gut/short_read/ResMiCo-SM/assembly/2017.12.04_18.45.54_sample_10/NA/NA/NA/NA/megahit/contigs_filtered.fasta.gz    |\n",
       "\n"
      ],
      "text/plain": [
       "   Sample                       \n",
       "1  2017.12.04_18.45.54_sample_2 \n",
       "2  2017.12.04_18.45.54_sample_2 \n",
       "⋮  ⋮                            \n",
       "19 2017.12.04_18.45.54_sample_10\n",
       "20 2017.12.04_18.45.54_sample_10\n",
       "   Fasta                                                                                                                                                                   \n",
       "1  /ebio/abt3_projects/databases_no-backup/CAMI/CAMI2_HMP-gut/short_read/ResMiCo-SM/assembly/2017.12.04_18.45.54_sample_2/NA/NA/NA/NA/megahit/contigs_filtered.fasta.gz    \n",
       "2  /ebio/abt3_projects/databases_no-backup/CAMI/CAMI2_HMP-gut/short_read/ResMiCo-SM/assembly/2017.12.04_18.45.54_sample_2/NA/NA/NA/NA/metaspades/contigs_filtered.fasta.gz \n",
       "⋮  ⋮                                                                                                                                                                       \n",
       "19 /ebio/abt3_projects/databases_no-backup/CAMI/CAMI2_HMP-gut/short_read/ResMiCo-SM/assembly/2017.12.04_18.45.54_sample_10/NA/NA/NA/NA/metaspades/contigs_filtered.fasta.gz\n",
       "20 /ebio/abt3_projects/databases_no-backup/CAMI/CAMI2_HMP-gut/short_read/ResMiCo-SM/assembly/2017.12.04_18.45.54_sample_10/NA/NA/NA/NA/megahit/contigs_filtered.fasta.gz   "
      ]
     },
     "metadata": {},
     "output_type": "display_data"
    }
   ],
   "source": [
    "denovo_contigs = Fread(denovo_contig_file)\n",
    "denovo_contigs"
   ]
  },
  {
   "cell_type": "code",
   "execution_count": 71,
   "metadata": {
    "ExecuteTime": {
     "end_time": "2022-02-19T15:27:12.740025Z",
     "start_time": "2022-02-19T15:27:12.645Z"
    }
   },
   "outputs": [
    {
     "name": "stdout",
     "output_type": "stream",
     "text": [
      "intersect(x,y): 10 \n",
      "setdiff(x,y): 0 \n",
      "setdiff(y,x): 0 \n",
      "union(x,y): 10 \n"
     ]
    },
    {
     "data": {
      "text/html": [
       "<table class=\"dataframe\">\n",
       "<caption>A tidytable: 20 × 4</caption>\n",
       "<thead>\n",
       "\t<tr><th scope=col>Sample</th><th scope=col>provided_contigs</th><th scope=col>denovo_contigs</th><th scope=col>Assembler</th></tr>\n",
       "\t<tr><th scope=col>&lt;chr&gt;</th><th scope=col>&lt;chr&gt;</th><th scope=col>&lt;chr&gt;</th><th scope=col>&lt;chr&gt;</th></tr>\n",
       "</thead>\n",
       "<tbody>\n",
       "\t<tr><td>2017.12.04_18.45.54_sample_2</td><td>/ebio/abt3_projects/databases_no-backup/CAMI/CAMI2_HMP-gut/short_read/2017.12.04_18.45.54_sample_2/contigs/anonymous_gsa.fasta.gz</td><td>/ebio/abt3_projects/databases_no-backup/CAMI/CAMI2_HMP-gut/short_read/ResMiCo-SM/assembly/2017.12.04_18.45.54_sample_2/NA/NA/NA/NA/megahit/contigs_filtered.fasta.gz   </td><td>megahit   </td></tr>\n",
       "\t<tr><td>2017.12.04_18.45.54_sample_2</td><td>/ebio/abt3_projects/databases_no-backup/CAMI/CAMI2_HMP-gut/short_read/2017.12.04_18.45.54_sample_2/contigs/anonymous_gsa.fasta.gz</td><td>/ebio/abt3_projects/databases_no-backup/CAMI/CAMI2_HMP-gut/short_read/ResMiCo-SM/assembly/2017.12.04_18.45.54_sample_2/NA/NA/NA/NA/metaspades/contigs_filtered.fasta.gz</td><td>metaspades</td></tr>\n",
       "\t<tr><td>⋮</td><td>⋮</td><td>⋮</td><td>⋮</td></tr>\n",
       "\t<tr><td>2017.12.04_18.45.54_sample_10</td><td>/ebio/abt3_projects/databases_no-backup/CAMI/CAMI2_HMP-gut/short_read/2017.12.04_18.45.54_sample_10/contigs/anonymous_gsa.fasta.gz</td><td>/ebio/abt3_projects/databases_no-backup/CAMI/CAMI2_HMP-gut/short_read/ResMiCo-SM/assembly/2017.12.04_18.45.54_sample_10/NA/NA/NA/NA/metaspades/contigs_filtered.fasta.gz</td><td>metaspades</td></tr>\n",
       "\t<tr><td>2017.12.04_18.45.54_sample_10</td><td>/ebio/abt3_projects/databases_no-backup/CAMI/CAMI2_HMP-gut/short_read/2017.12.04_18.45.54_sample_10/contigs/anonymous_gsa.fasta.gz</td><td>/ebio/abt3_projects/databases_no-backup/CAMI/CAMI2_HMP-gut/short_read/ResMiCo-SM/assembly/2017.12.04_18.45.54_sample_10/NA/NA/NA/NA/megahit/contigs_filtered.fasta.gz   </td><td>megahit   </td></tr>\n",
       "</tbody>\n",
       "</table>\n"
      ],
      "text/latex": [
       "A tidytable: 20 × 4\n",
       "\\begin{tabular}{llll}\n",
       " Sample & provided\\_contigs & denovo\\_contigs & Assembler\\\\\n",
       " <chr> & <chr> & <chr> & <chr>\\\\\n",
       "\\hline\n",
       "\t 2017.12.04\\_18.45.54\\_sample\\_2 & /ebio/abt3\\_projects/databases\\_no-backup/CAMI/CAMI2\\_HMP-gut/short\\_read/2017.12.04\\_18.45.54\\_sample\\_2/contigs/anonymous\\_gsa.fasta.gz & /ebio/abt3\\_projects/databases\\_no-backup/CAMI/CAMI2\\_HMP-gut/short\\_read/ResMiCo-SM/assembly/2017.12.04\\_18.45.54\\_sample\\_2/NA/NA/NA/NA/megahit/contigs\\_filtered.fasta.gz    & megahit   \\\\\n",
       "\t 2017.12.04\\_18.45.54\\_sample\\_2 & /ebio/abt3\\_projects/databases\\_no-backup/CAMI/CAMI2\\_HMP-gut/short\\_read/2017.12.04\\_18.45.54\\_sample\\_2/contigs/anonymous\\_gsa.fasta.gz & /ebio/abt3\\_projects/databases\\_no-backup/CAMI/CAMI2\\_HMP-gut/short\\_read/ResMiCo-SM/assembly/2017.12.04\\_18.45.54\\_sample\\_2/NA/NA/NA/NA/metaspades/contigs\\_filtered.fasta.gz & metaspades\\\\\n",
       "\t ⋮ & ⋮ & ⋮ & ⋮\\\\\n",
       "\t 2017.12.04\\_18.45.54\\_sample\\_10 & /ebio/abt3\\_projects/databases\\_no-backup/CAMI/CAMI2\\_HMP-gut/short\\_read/2017.12.04\\_18.45.54\\_sample\\_10/contigs/anonymous\\_gsa.fasta.gz & /ebio/abt3\\_projects/databases\\_no-backup/CAMI/CAMI2\\_HMP-gut/short\\_read/ResMiCo-SM/assembly/2017.12.04\\_18.45.54\\_sample\\_10/NA/NA/NA/NA/metaspades/contigs\\_filtered.fasta.gz & metaspades\\\\\n",
       "\t 2017.12.04\\_18.45.54\\_sample\\_10 & /ebio/abt3\\_projects/databases\\_no-backup/CAMI/CAMI2\\_HMP-gut/short\\_read/2017.12.04\\_18.45.54\\_sample\\_10/contigs/anonymous\\_gsa.fasta.gz & /ebio/abt3\\_projects/databases\\_no-backup/CAMI/CAMI2\\_HMP-gut/short\\_read/ResMiCo-SM/assembly/2017.12.04\\_18.45.54\\_sample\\_10/NA/NA/NA/NA/megahit/contigs\\_filtered.fasta.gz    & megahit   \\\\\n",
       "\\end{tabular}\n"
      ],
      "text/markdown": [
       "\n",
       "A tidytable: 20 × 4\n",
       "\n",
       "| Sample &lt;chr&gt; | provided_contigs &lt;chr&gt; | denovo_contigs &lt;chr&gt; | Assembler &lt;chr&gt; |\n",
       "|---|---|---|---|\n",
       "| 2017.12.04_18.45.54_sample_2 | /ebio/abt3_projects/databases_no-backup/CAMI/CAMI2_HMP-gut/short_read/2017.12.04_18.45.54_sample_2/contigs/anonymous_gsa.fasta.gz | /ebio/abt3_projects/databases_no-backup/CAMI/CAMI2_HMP-gut/short_read/ResMiCo-SM/assembly/2017.12.04_18.45.54_sample_2/NA/NA/NA/NA/megahit/contigs_filtered.fasta.gz    | megahit    |\n",
       "| 2017.12.04_18.45.54_sample_2 | /ebio/abt3_projects/databases_no-backup/CAMI/CAMI2_HMP-gut/short_read/2017.12.04_18.45.54_sample_2/contigs/anonymous_gsa.fasta.gz | /ebio/abt3_projects/databases_no-backup/CAMI/CAMI2_HMP-gut/short_read/ResMiCo-SM/assembly/2017.12.04_18.45.54_sample_2/NA/NA/NA/NA/metaspades/contigs_filtered.fasta.gz | metaspades |\n",
       "| ⋮ | ⋮ | ⋮ | ⋮ |\n",
       "| 2017.12.04_18.45.54_sample_10 | /ebio/abt3_projects/databases_no-backup/CAMI/CAMI2_HMP-gut/short_read/2017.12.04_18.45.54_sample_10/contigs/anonymous_gsa.fasta.gz | /ebio/abt3_projects/databases_no-backup/CAMI/CAMI2_HMP-gut/short_read/ResMiCo-SM/assembly/2017.12.04_18.45.54_sample_10/NA/NA/NA/NA/metaspades/contigs_filtered.fasta.gz | metaspades |\n",
       "| 2017.12.04_18.45.54_sample_10 | /ebio/abt3_projects/databases_no-backup/CAMI/CAMI2_HMP-gut/short_read/2017.12.04_18.45.54_sample_10/contigs/anonymous_gsa.fasta.gz | /ebio/abt3_projects/databases_no-backup/CAMI/CAMI2_HMP-gut/short_read/ResMiCo-SM/assembly/2017.12.04_18.45.54_sample_10/NA/NA/NA/NA/megahit/contigs_filtered.fasta.gz    | megahit    |\n",
       "\n"
      ],
      "text/plain": [
       "   Sample                       \n",
       "1  2017.12.04_18.45.54_sample_2 \n",
       "2  2017.12.04_18.45.54_sample_2 \n",
       "⋮  ⋮                            \n",
       "19 2017.12.04_18.45.54_sample_10\n",
       "20 2017.12.04_18.45.54_sample_10\n",
       "   provided_contigs                                                                                                                  \n",
       "1  /ebio/abt3_projects/databases_no-backup/CAMI/CAMI2_HMP-gut/short_read/2017.12.04_18.45.54_sample_2/contigs/anonymous_gsa.fasta.gz \n",
       "2  /ebio/abt3_projects/databases_no-backup/CAMI/CAMI2_HMP-gut/short_read/2017.12.04_18.45.54_sample_2/contigs/anonymous_gsa.fasta.gz \n",
       "⋮  ⋮                                                                                                                                 \n",
       "19 /ebio/abt3_projects/databases_no-backup/CAMI/CAMI2_HMP-gut/short_read/2017.12.04_18.45.54_sample_10/contigs/anonymous_gsa.fasta.gz\n",
       "20 /ebio/abt3_projects/databases_no-backup/CAMI/CAMI2_HMP-gut/short_read/2017.12.04_18.45.54_sample_10/contigs/anonymous_gsa.fasta.gz\n",
       "   denovo_contigs                                                                                                                                                          \n",
       "1  /ebio/abt3_projects/databases_no-backup/CAMI/CAMI2_HMP-gut/short_read/ResMiCo-SM/assembly/2017.12.04_18.45.54_sample_2/NA/NA/NA/NA/megahit/contigs_filtered.fasta.gz    \n",
       "2  /ebio/abt3_projects/databases_no-backup/CAMI/CAMI2_HMP-gut/short_read/ResMiCo-SM/assembly/2017.12.04_18.45.54_sample_2/NA/NA/NA/NA/metaspades/contigs_filtered.fasta.gz \n",
       "⋮  ⋮                                                                                                                                                                       \n",
       "19 /ebio/abt3_projects/databases_no-backup/CAMI/CAMI2_HMP-gut/short_read/ResMiCo-SM/assembly/2017.12.04_18.45.54_sample_10/NA/NA/NA/NA/metaspades/contigs_filtered.fasta.gz\n",
       "20 /ebio/abt3_projects/databases_no-backup/CAMI/CAMI2_HMP-gut/short_read/ResMiCo-SM/assembly/2017.12.04_18.45.54_sample_10/NA/NA/NA/NA/megahit/contigs_filtered.fasta.gz   \n",
       "   Assembler \n",
       "1  megahit   \n",
       "2  metaspades\n",
       "⋮  ⋮         \n",
       "19 metaspades\n",
       "20 megahit   "
      ]
     },
     "metadata": {},
     "output_type": "display_data"
    }
   ],
   "source": [
    "# checking overlap\n",
    "overlap(denovo_contigs$Sample, contigs$Sample)\n",
    "contigs_j = contigs %>%\n",
    "    rename.('provided_contigs' = Fasta) %>%\n",
    "    inner_join.(denovo_contigs %>% \n",
    "                    rename.('denovo_contigs' = Fasta), \n",
    "                c('Sample')) %>%\n",
    "    select.(Sample, provided_contigs, denovo_contigs) %>%\n",
    "    mutate.(Assembler = gsub('.+/NA/(megahit|metaspades)/.+', '\\\\1', denovo_contigs))\n",
    "contigs_j"
   ]
  },
  {
   "cell_type": "code",
   "execution_count": 76,
   "metadata": {
    "ExecuteTime": {
     "end_time": "2022-02-19T15:33:17.960480Z",
     "start_time": "2022-02-19T15:32:41.907Z"
    },
    "scrolled": true
   },
   "outputs": [
    {
     "name": "stderr",
     "output_type": "stream",
     "text": [
      "Setting logfile dir: /ebio/abt3_scratch//nyoungblut/clustermq/cef05831-cc1b-4b78-a84b-7d3e740225a3\n",
      "\n",
      "Submitting 20 worker jobs (ID: cmq9424) ...\n",
      "\n",
      "Running 20 calculations (1 objs/0 Mb common; 1 calls/chunk) ...\n",
      "\n",
      "Warning message in qsys$receive_data(timeout = timeout):\n",
      "“\n",
      "Version mismatch: master has 0.8.95.2, worker 0.8.95.1”\n",
      "\n",
      "[---------------------------------------------------]   0% (1/20 wrk) eta:  ?s\n",
      "\n",
      "[---------------------------------------------------]   0% (2/20 wrk) eta:  ?s\n",
      "\n",
      "[---------------------------------------------------]   0% (3/20 wrk) eta:  ?s\n",
      "\n",
      "[---------------------------------------------------]   0% (4/20 wrk) eta:  ?s\n",
      "\n",
      "[---------------------------------------------------]   0% (5/20 wrk) eta:  ?s\n",
      "\n",
      "[---------------------------------------------------]   0% (6/20 wrk) eta:  ?s\n",
      "\n",
      "[---------------------------------------------------]   0% (7/20 wrk) eta:  ?s\n",
      "\n",
      "[---------------------------------------------------]   0% (8/20 wrk) eta:  ?s\n",
      "\n",
      "[---------------------------------------------------]   0% (9/20 wrk) eta:  ?s\n",
      "\n",
      "[--------------------------------------------------]   0% (10/20 wrk) eta:  ?s\n",
      "\n",
      "[--------------------------------------------------]   0% (11/20 wrk) eta:  ?s\n",
      "\n",
      "[--------------------------------------------------]   0% (12/20 wrk) eta:  ?s\n",
      "\n",
      "[--------------------------------------------------]   0% (13/20 wrk) eta:  ?s\n",
      "\n",
      "[--------------------------------------------------]   0% (14/20 wrk) eta:  ?s\n",
      "\n",
      "[--------------------------------------------------]   0% (15/20 wrk) eta:  ?s\n",
      "\n",
      "[--------------------------------------------------]   0% (16/20 wrk) eta:  ?s\n",
      "\n",
      "[--------------------------------------------------]   0% (17/20 wrk) eta:  ?s\n",
      "\n",
      "[--------------------------------------------------]   0% (18/20 wrk) eta:  ?s\n",
      "\n",
      "[--------------------------------------------------]   0% (19/20 wrk) eta:  ?s\n",
      "\n",
      "[--------------------------------------------------]   0% (20/20 wrk) eta:  ?s\n",
      "\n",
      "[=>------------------------------------------------]   5% (20/20 wrk) eta:  9m\n",
      "\n",
      "[====>---------------------------------------------]  10% (19/19 wrk) eta:  4m\n",
      "\n",
      "[=======>------------------------------------------]  15% (18/18 wrk) eta:  3m\n",
      "\n",
      "[=========>----------------------------------------]  20% (18/18 wrk) eta:  2m\n",
      "\n",
      "[===========>--------------------------------------]  25% (16/16 wrk) eta:  1m\n",
      "\n",
      "[==============>-----------------------------------]  30% (15/15 wrk) eta:  1m\n",
      "\n",
      "[=================>--------------------------------]  35% (14/14 wrk) eta:  1m\n",
      "\n",
      "[===================>------------------------------]  40% (13/13 wrk) eta: 44s\n",
      "\n",
      "[=====================>----------------------------]  45% (12/12 wrk) eta: 37s\n",
      "\n",
      "[========================>-------------------------]  50% (11/11 wrk) eta: 31s\n",
      "\n",
      "[===========================>----------------------]  55% (10/10 wrk) eta: 26s\n",
      "\n",
      "[==============================>---------------------]  60% (9/9 wrk) eta: 21s\n",
      "\n",
      "[=================================>------------------]  65% (8/8 wrk) eta: 18s\n",
      "\n",
      "[===================================>----------------]  70% (7/7 wrk) eta: 14s\n",
      "\n",
      "[======================================>-------------]  75% (6/6 wrk) eta: 11s\n",
      "\n",
      "[=========================================>----------]  80% (5/5 wrk) eta:  8s\n",
      "\n",
      "[===========================================>--------]  85% (4/4 wrk) eta:  6s\n",
      "\n",
      "[==============================================>-----]  90% (3/3 wrk) eta:  4s\n",
      "\n",
      "[================================================>---]  95% (2/2 wrk) eta:  2s\n",
      "\n",
      "[====================================================] 100% (2/2 wrk) eta:  0s\n",
      "                                                                              \n",
      "\n",
      "Master: [35.7s 1.2% CPU]; Worker: [avg 0.9% CPU, max 249.5 Mb]\n",
      "\n"
     ]
    },
    {
     "data": {
      "text/html": [
       "<ol>\n",
       "\t<li>NULL</li>\n",
       "\t<li>NULL</li>\n",
       "\t<li>NULL</li>\n",
       "\t<li>NULL</li>\n",
       "\t<li>NULL</li>\n",
       "\t<li>NULL</li>\n",
       "\t<li>NULL</li>\n",
       "\t<li>NULL</li>\n",
       "\t<li>NULL</li>\n",
       "\t<li>NULL</li>\n",
       "\t<li>NULL</li>\n",
       "\t<li>NULL</li>\n",
       "\t<li>NULL</li>\n",
       "\t<li>NULL</li>\n",
       "\t<li>NULL</li>\n",
       "\t<li>NULL</li>\n",
       "\t<li>NULL</li>\n",
       "\t<li>NULL</li>\n",
       "\t<li>NULL</li>\n",
       "\t<li>NULL</li>\n",
       "</ol>\n"
      ],
      "text/latex": [
       "\\begin{enumerate}\n",
       "\\item NULL\n",
       "\\item NULL\n",
       "\\item NULL\n",
       "\\item NULL\n",
       "\\item NULL\n",
       "\\item NULL\n",
       "\\item NULL\n",
       "\\item NULL\n",
       "\\item NULL\n",
       "\\item NULL\n",
       "\\item NULL\n",
       "\\item NULL\n",
       "\\item NULL\n",
       "\\item NULL\n",
       "\\item NULL\n",
       "\\item NULL\n",
       "\\item NULL\n",
       "\\item NULL\n",
       "\\item NULL\n",
       "\\item NULL\n",
       "\\end{enumerate}\n"
      ],
      "text/markdown": [
       "1. NULL\n",
       "2. NULL\n",
       "3. NULL\n",
       "4. NULL\n",
       "5. NULL\n",
       "6. NULL\n",
       "7. NULL\n",
       "8. NULL\n",
       "9. NULL\n",
       "10. NULL\n",
       "11. NULL\n",
       "12. NULL\n",
       "13. NULL\n",
       "14. NULL\n",
       "15. NULL\n",
       "16. NULL\n",
       "17. NULL\n",
       "18. NULL\n",
       "19. NULL\n",
       "20. NULL\n",
       "\n",
       "\n"
      ],
      "text/plain": [
       "[[1]]\n",
       "NULL\n",
       "\n",
       "[[2]]\n",
       "NULL\n",
       "\n",
       "[[3]]\n",
       "NULL\n",
       "\n",
       "[[4]]\n",
       "NULL\n",
       "\n",
       "[[5]]\n",
       "NULL\n",
       "\n",
       "[[6]]\n",
       "NULL\n",
       "\n",
       "[[7]]\n",
       "NULL\n",
       "\n",
       "[[8]]\n",
       "NULL\n",
       "\n",
       "[[9]]\n",
       "NULL\n",
       "\n",
       "[[10]]\n",
       "NULL\n",
       "\n",
       "[[11]]\n",
       "NULL\n",
       "\n",
       "[[12]]\n",
       "NULL\n",
       "\n",
       "[[13]]\n",
       "NULL\n",
       "\n",
       "[[14]]\n",
       "NULL\n",
       "\n",
       "[[15]]\n",
       "NULL\n",
       "\n",
       "[[16]]\n",
       "NULL\n",
       "\n",
       "[[17]]\n",
       "NULL\n",
       "\n",
       "[[18]]\n",
       "NULL\n",
       "\n",
       "[[19]]\n",
       "NULL\n",
       "\n",
       "[[20]]\n",
       "NULL\n"
      ]
     },
     "metadata": {},
     "output_type": "display_data"
    }
   ],
   "source": [
    "#' run metaquast on samples\n",
    "run_minimap = function(x, out_dir, conda_env){\n",
    "    D = file.path(out_dir, x$Sample, x$Assembler)\n",
    "    if(! dir.exists(D)){\n",
    "        dir.create(D, recursive = TRUE)\n",
    "    }\n",
    "    out_paf = file.path(D, 'hits.paf')\n",
    "    cmd = 'minimap2 -t 8 -k 18 -x asm5 {ref} {query} > {out_paf}'\n",
    "    cmd = glue::glue(cmd, ref=x$provided_contigs, query=x$denovo_contigs, out_sam=out_sam)\n",
    "    bash_job(cmd, conda_env = conda_env)\n",
    "}\n",
    "out_dir = file.path(work_dir, 'minimap2')\n",
    "tmpl = list(job_time = '00:59:00', job_mem = '5G', cores = 8, log_file = clustermq_logfile())  \n",
    "contigs_j %>%\n",
    "    group_split.(Sample, Assembler) %>%\n",
    "    Q(run_minimap, x=., out_dir=out_dir,\n",
    "      conda_env=quast_conda_env, n_jobs=20, job_size=1, template=tmpl, \n",
    "      pkgs=c('glue'), export = list('bash_job' = bash_job))"
   ]
  },
  {
   "cell_type": "markdown",
   "metadata": {
    "ExecuteTime": {
     "end_time": "2022-02-19T15:41:24.473101Z",
     "start_time": "2022-02-19T15:41:24.411Z"
    }
   },
   "source": [
    "### Convert to tsv"
   ]
  },
  {
   "cell_type": "code",
   "execution_count": 95,
   "metadata": {
    "ExecuteTime": {
     "end_time": "2022-02-19T15:54:31.587570Z",
     "start_time": "2022-02-19T15:54:31.519Z"
    }
   },
   "outputs": [],
   "source": [
    "conda_env = '/ebio/abt3_projects/databases_no-backup/CAMI/CAMI2_HMP-gut/short_read/metaquast/conda_env/metaquast'"
   ]
  },
  {
   "cell_type": "code",
   "execution_count": 96,
   "metadata": {
    "ExecuteTime": {
     "end_time": "2022-02-19T15:55:04.448791Z",
     "start_time": "2022-02-19T15:54:31.658Z"
    },
    "scrolled": true
   },
   "outputs": [
    {
     "name": "stderr",
     "output_type": "stream",
     "text": [
      "Setting logfile dir: /ebio/abt3_scratch//nyoungblut/clustermq/b618a5df-0719-4c06-8997-d3fd33d89175\n",
      "\n",
      "Submitting 20 worker jobs (ID: cmq7363) ...\n",
      "\n",
      "Running 20 calculations (1 objs/0 Mb common; 1 calls/chunk) ...\n",
      "\n",
      "Warning message in qsys$receive_data(timeout = timeout):\n",
      "“\n",
      "Version mismatch: master has 0.8.95.2, worker 0.8.95.1”\n",
      "\n",
      "[---------------------------------------------------]   0% (1/20 wrk) eta:  ?s\n",
      "\n",
      "[---------------------------------------------------]   0% (2/20 wrk) eta:  ?s\n",
      "\n",
      "[---------------------------------------------------]   0% (3/20 wrk) eta:  ?s\n",
      "\n",
      "[---------------------------------------------------]   0% (4/20 wrk) eta:  ?s\n",
      "\n",
      "[---------------------------------------------------]   0% (5/20 wrk) eta:  ?s\n",
      "\n",
      "[---------------------------------------------------]   0% (6/20 wrk) eta:  ?s\n",
      "\n",
      "[---------------------------------------------------]   0% (7/20 wrk) eta:  ?s\n",
      "\n",
      "[---------------------------------------------------]   0% (8/20 wrk) eta:  ?s\n",
      "\n",
      "[---------------------------------------------------]   0% (9/20 wrk) eta:  ?s\n",
      "\n",
      "[--------------------------------------------------]   0% (10/20 wrk) eta:  ?s\n",
      "\n",
      "[--------------------------------------------------]   0% (11/20 wrk) eta:  ?s\n",
      "\n",
      "[--------------------------------------------------]   0% (12/20 wrk) eta:  ?s\n",
      "\n",
      "[--------------------------------------------------]   0% (13/20 wrk) eta:  ?s\n",
      "\n",
      "[--------------------------------------------------]   0% (14/20 wrk) eta:  ?s\n",
      "\n",
      "[--------------------------------------------------]   0% (15/20 wrk) eta:  ?s\n",
      "\n",
      "[--------------------------------------------------]   0% (16/20 wrk) eta:  ?s\n",
      "\n",
      "[--------------------------------------------------]   0% (17/20 wrk) eta:  ?s\n",
      "\n",
      "[--------------------------------------------------]   0% (18/20 wrk) eta:  ?s\n",
      "\n",
      "[--------------------------------------------------]   0% (19/20 wrk) eta:  ?s\n",
      "\n",
      "[--------------------------------------------------]   0% (20/20 wrk) eta:  ?s\n",
      "\n",
      "[=>------------------------------------------------]   5% (20/20 wrk) eta:  9m\n",
      "\n",
      "[====>---------------------------------------------]  10% (19/19 wrk) eta:  4m\n",
      "\n",
      "[=======>------------------------------------------]  15% (19/19 wrk) eta:  3m\n",
      "\n",
      "[=========>----------------------------------------]  20% (17/17 wrk) eta:  2m\n",
      "\n",
      "[===========>--------------------------------------]  25% (17/17 wrk) eta:  2m\n",
      "\n",
      "[==============>-----------------------------------]  30% (15/15 wrk) eta:  1m\n",
      "\n",
      "[=================>--------------------------------]  35% (14/14 wrk) eta:  1m\n",
      "\n",
      "[===================>------------------------------]  40% (13/13 wrk) eta: 46s\n",
      "\n",
      "[=====================>----------------------------]  45% (13/13 wrk) eta: 38s\n",
      "\n",
      "[========================>-------------------------]  50% (11/11 wrk) eta: 31s\n",
      "\n",
      "[===========================>----------------------]  55% (10/10 wrk) eta: 25s\n",
      "\n",
      "[=============================>--------------------]  60% (10/10 wrk) eta: 21s\n",
      "\n",
      "[=================================>------------------]  65% (8/8 wrk) eta: 17s\n",
      "\n",
      "[===================================>----------------]  70% (7/7 wrk) eta: 13s\n",
      "\n",
      "[======================================>-------------]  75% (7/7 wrk) eta: 10s\n",
      "\n",
      "[=========================================>----------]  80% (5/5 wrk) eta:  8s\n",
      "\n",
      "[===========================================>--------]  85% (4/4 wrk) eta:  6s\n",
      "\n",
      "[==============================================>-----]  90% (3/3 wrk) eta:  4s\n",
      "\n",
      "[================================================>---]  95% (2/2 wrk) eta:  2s\n",
      "\n",
      "[====================================================] 100% (1/1 wrk) eta:  0s\n",
      "                                                                              \n",
      "\n",
      "Master: [32.5s 1.3% CPU]; Worker: [avg 1.1% CPU, max 249.5 Mb]\n",
      "\n"
     ]
    },
    {
     "data": {
      "text/html": [
       "<ol>\n",
       "\t<li>NULL</li>\n",
       "\t<li>NULL</li>\n",
       "\t<li>NULL</li>\n",
       "\t<li>NULL</li>\n",
       "\t<li>NULL</li>\n",
       "\t<li>NULL</li>\n",
       "\t<li>NULL</li>\n",
       "\t<li>NULL</li>\n",
       "\t<li>NULL</li>\n",
       "\t<li>NULL</li>\n",
       "\t<li>NULL</li>\n",
       "\t<li>NULL</li>\n",
       "\t<li>NULL</li>\n",
       "\t<li>NULL</li>\n",
       "\t<li>NULL</li>\n",
       "\t<li>NULL</li>\n",
       "\t<li>NULL</li>\n",
       "\t<li>NULL</li>\n",
       "\t<li>NULL</li>\n",
       "\t<li>NULL</li>\n",
       "</ol>\n"
      ],
      "text/latex": [
       "\\begin{enumerate}\n",
       "\\item NULL\n",
       "\\item NULL\n",
       "\\item NULL\n",
       "\\item NULL\n",
       "\\item NULL\n",
       "\\item NULL\n",
       "\\item NULL\n",
       "\\item NULL\n",
       "\\item NULL\n",
       "\\item NULL\n",
       "\\item NULL\n",
       "\\item NULL\n",
       "\\item NULL\n",
       "\\item NULL\n",
       "\\item NULL\n",
       "\\item NULL\n",
       "\\item NULL\n",
       "\\item NULL\n",
       "\\item NULL\n",
       "\\item NULL\n",
       "\\end{enumerate}\n"
      ],
      "text/markdown": [
       "1. NULL\n",
       "2. NULL\n",
       "3. NULL\n",
       "4. NULL\n",
       "5. NULL\n",
       "6. NULL\n",
       "7. NULL\n",
       "8. NULL\n",
       "9. NULL\n",
       "10. NULL\n",
       "11. NULL\n",
       "12. NULL\n",
       "13. NULL\n",
       "14. NULL\n",
       "15. NULL\n",
       "16. NULL\n",
       "17. NULL\n",
       "18. NULL\n",
       "19. NULL\n",
       "20. NULL\n",
       "\n",
       "\n"
      ],
      "text/plain": [
       "[[1]]\n",
       "NULL\n",
       "\n",
       "[[2]]\n",
       "NULL\n",
       "\n",
       "[[3]]\n",
       "NULL\n",
       "\n",
       "[[4]]\n",
       "NULL\n",
       "\n",
       "[[5]]\n",
       "NULL\n",
       "\n",
       "[[6]]\n",
       "NULL\n",
       "\n",
       "[[7]]\n",
       "NULL\n",
       "\n",
       "[[8]]\n",
       "NULL\n",
       "\n",
       "[[9]]\n",
       "NULL\n",
       "\n",
       "[[10]]\n",
       "NULL\n",
       "\n",
       "[[11]]\n",
       "NULL\n",
       "\n",
       "[[12]]\n",
       "NULL\n",
       "\n",
       "[[13]]\n",
       "NULL\n",
       "\n",
       "[[14]]\n",
       "NULL\n",
       "\n",
       "[[15]]\n",
       "NULL\n",
       "\n",
       "[[16]]\n",
       "NULL\n",
       "\n",
       "[[17]]\n",
       "NULL\n",
       "\n",
       "[[18]]\n",
       "NULL\n",
       "\n",
       "[[19]]\n",
       "NULL\n",
       "\n",
       "[[20]]\n",
       "NULL\n"
      ]
     },
     "metadata": {},
     "output_type": "display_data"
    }
   ],
   "source": [
    "#' run metaquast on samples\n",
    "run_paf2tsv = function(x, out_dir, exe, conda_env){\n",
    "    D = file.path(out_dir, x$Sample, x$Assembler)\n",
    "    in_paf = file.path(D, 'hits.paf')\n",
    "    out_tsv = file.path(D, 'hits.tsv')\n",
    "    cmd = '{exe} {in_paf} > {out_tsv}'\n",
    "    cmd = glue::glue(cmd, exe=exe, in_paf=in_paf, out_tsv=out_tsv)\n",
    "    bash_job(cmd, conda_env = conda_env)\n",
    "}\n",
    "out_dir = file.path(work_dir, 'minimap2')\n",
    "exe = file.path(out_dir, 'paf2tsv.py')\n",
    "tmpl = list(job_time = '00:59:00', job_mem = '7G', cores = 1, log_file = clustermq_logfile())  \n",
    "contigs_j %>%\n",
    "    group_split.(Sample, Assembler) %>%\n",
    "    Q(run_paf2tsv, x=., out_dir=out_dir, exe=exe,\n",
    "      conda_env=conda_env, n_jobs=20, job_size=1, template=tmpl, \n",
    "      pkgs=c('glue'), export = list('bash_job' = bash_job))"
   ]
  },
  {
   "cell_type": "markdown",
   "metadata": {},
   "source": [
    "### Loading hits"
   ]
  },
  {
   "cell_type": "code",
   "execution_count": 119,
   "metadata": {
    "ExecuteTime": {
     "end_time": "2022-02-22T13:02:58.555894Z",
     "start_time": "2022-02-22T13:02:58.476Z"
    }
   },
   "outputs": [
    {
     "data": {
      "text/html": [
       "20"
      ],
      "text/latex": [
       "20"
      ],
      "text/markdown": [
       "20"
      ],
      "text/plain": [
       "[1] 20"
      ]
     },
     "metadata": {},
     "output_type": "display_data"
    },
    {
     "data": {
      "text/html": [
       "<style>\n",
       ".list-inline {list-style: none; margin:0; padding: 0}\n",
       ".list-inline>li {display: inline-block}\n",
       ".list-inline>li:not(:last-child)::after {content: \"\\00b7\"; padding: 0 .5ex}\n",
       "</style>\n",
       "<ol class=list-inline><li>'/ebio/abt3_projects/databases_no-backup/CAMI/CAMI2_HMP-gut/short_read/ResMiCo-SM_cami-contigs//minimap2/2017.12.04_18.45.54_sample_0/megahit/hits.tsv'</li><li>'/ebio/abt3_projects/databases_no-backup/CAMI/CAMI2_HMP-gut/short_read/ResMiCo-SM_cami-contigs//minimap2/2017.12.04_18.45.54_sample_0/metaspades/hits.tsv'</li><li>'/ebio/abt3_projects/databases_no-backup/CAMI/CAMI2_HMP-gut/short_read/ResMiCo-SM_cami-contigs//minimap2/2017.12.04_18.45.54_sample_1/megahit/hits.tsv'</li></ol>\n"
      ],
      "text/latex": [
       "\\begin{enumerate*}\n",
       "\\item '/ebio/abt3\\_projects/databases\\_no-backup/CAMI/CAMI2\\_HMP-gut/short\\_read/ResMiCo-SM\\_cami-contigs//minimap2/2017.12.04\\_18.45.54\\_sample\\_0/megahit/hits.tsv'\n",
       "\\item '/ebio/abt3\\_projects/databases\\_no-backup/CAMI/CAMI2\\_HMP-gut/short\\_read/ResMiCo-SM\\_cami-contigs//minimap2/2017.12.04\\_18.45.54\\_sample\\_0/metaspades/hits.tsv'\n",
       "\\item '/ebio/abt3\\_projects/databases\\_no-backup/CAMI/CAMI2\\_HMP-gut/short\\_read/ResMiCo-SM\\_cami-contigs//minimap2/2017.12.04\\_18.45.54\\_sample\\_1/megahit/hits.tsv'\n",
       "\\end{enumerate*}\n"
      ],
      "text/markdown": [
       "1. '/ebio/abt3_projects/databases_no-backup/CAMI/CAMI2_HMP-gut/short_read/ResMiCo-SM_cami-contigs//minimap2/2017.12.04_18.45.54_sample_0/megahit/hits.tsv'\n",
       "2. '/ebio/abt3_projects/databases_no-backup/CAMI/CAMI2_HMP-gut/short_read/ResMiCo-SM_cami-contigs//minimap2/2017.12.04_18.45.54_sample_0/metaspades/hits.tsv'\n",
       "3. '/ebio/abt3_projects/databases_no-backup/CAMI/CAMI2_HMP-gut/short_read/ResMiCo-SM_cami-contigs//minimap2/2017.12.04_18.45.54_sample_1/megahit/hits.tsv'\n",
       "\n",
       "\n"
      ],
      "text/plain": [
       "[1] \"/ebio/abt3_projects/databases_no-backup/CAMI/CAMI2_HMP-gut/short_read/ResMiCo-SM_cami-contigs//minimap2/2017.12.04_18.45.54_sample_0/megahit/hits.tsv\"   \n",
       "[2] \"/ebio/abt3_projects/databases_no-backup/CAMI/CAMI2_HMP-gut/short_read/ResMiCo-SM_cami-contigs//minimap2/2017.12.04_18.45.54_sample_0/metaspades/hits.tsv\"\n",
       "[3] \"/ebio/abt3_projects/databases_no-backup/CAMI/CAMI2_HMP-gut/short_read/ResMiCo-SM_cami-contigs//minimap2/2017.12.04_18.45.54_sample_1/megahit/hits.tsv\"   "
      ]
     },
     "metadata": {},
     "output_type": "display_data"
    }
   ],
   "source": [
    "base_dir = file.path(work_dir, 'minimap2')\n",
    "hit_files = list_files(base_dir, 'hits.tsv')\n",
    "hit_files %>% length\n",
    "hit_files %>% head(n=3)"
   ]
  },
  {
   "cell_type": "code",
   "execution_count": 120,
   "metadata": {
    "ExecuteTime": {
     "end_time": "2022-02-22T13:03:00.258185Z",
     "start_time": "2022-02-22T13:02:59.443Z"
    }
   },
   "outputs": [
    {
     "data": {
      "text/html": [
       "<table class=\"dataframe\">\n",
       "<caption>A data.table: 444427 × 6</caption>\n",
       "<thead>\n",
       "\t<tr><th scope=col>query_name</th><th scope=col>target_name</th><th scope=col>query_coverage</th><th scope=col>target_coverage</th><th scope=col>seq_id</th><th scope=col>sample</th></tr>\n",
       "\t<tr><th scope=col>&lt;chr&gt;</th><th scope=col>&lt;chr&gt;</th><th scope=col>&lt;dbl&gt;</th><th scope=col>&lt;dbl&gt;</th><th scope=col>&lt;dbl&gt;</th><th scope=col>&lt;chr&gt;</th></tr>\n",
       "</thead>\n",
       "<tbody>\n",
       "\t<tr><td>k141_17</td><td>S0C12831</td><td>0.9404762</td><td>0.0005045236</td><td>0.9088608</td><td>2017.12.04_18.45.54_sample_0</td></tr>\n",
       "\t<tr><td>k141_19</td><td>S0C51621</td><td>0.9250624</td><td>0.0033958296</td><td>0.8145815</td><td>2017.12.04_18.45.54_sample_0</td></tr>\n",
       "\t<tr><td>⋮</td><td>⋮</td><td>⋮</td><td>⋮</td><td>⋮</td><td>⋮</td></tr>\n",
       "\t<tr><td>NODE_23666_length_1000_cov_1.320635</td><td>S9C13303</td><td>0.949</td><td>0.2398888</td><td>0.8398314</td><td>2017.12.04_18.45.54_sample_9</td></tr>\n",
       "\t<tr><td>NODE_23667_length_1000_cov_1.278307</td><td>S9C6844 </td><td>0.975</td><td>0.4831516</td><td>0.8379487</td><td>2017.12.04_18.45.54_sample_9</td></tr>\n",
       "</tbody>\n",
       "</table>\n"
      ],
      "text/latex": [
       "A data.table: 444427 × 6\n",
       "\\begin{tabular}{llllll}\n",
       " query\\_name & target\\_name & query\\_coverage & target\\_coverage & seq\\_id & sample\\\\\n",
       " <chr> & <chr> & <dbl> & <dbl> & <dbl> & <chr>\\\\\n",
       "\\hline\n",
       "\t k141\\_17 & S0C12831 & 0.9404762 & 0.0005045236 & 0.9088608 & 2017.12.04\\_18.45.54\\_sample\\_0\\\\\n",
       "\t k141\\_19 & S0C51621 & 0.9250624 & 0.0033958296 & 0.8145815 & 2017.12.04\\_18.45.54\\_sample\\_0\\\\\n",
       "\t ⋮ & ⋮ & ⋮ & ⋮ & ⋮ & ⋮\\\\\n",
       "\t NODE\\_23666\\_length\\_1000\\_cov\\_1.320635 & S9C13303 & 0.949 & 0.2398888 & 0.8398314 & 2017.12.04\\_18.45.54\\_sample\\_9\\\\\n",
       "\t NODE\\_23667\\_length\\_1000\\_cov\\_1.278307 & S9C6844  & 0.975 & 0.4831516 & 0.8379487 & 2017.12.04\\_18.45.54\\_sample\\_9\\\\\n",
       "\\end{tabular}\n"
      ],
      "text/markdown": [
       "\n",
       "A data.table: 444427 × 6\n",
       "\n",
       "| query_name &lt;chr&gt; | target_name &lt;chr&gt; | query_coverage &lt;dbl&gt; | target_coverage &lt;dbl&gt; | seq_id &lt;dbl&gt; | sample &lt;chr&gt; |\n",
       "|---|---|---|---|---|---|\n",
       "| k141_17 | S0C12831 | 0.9404762 | 0.0005045236 | 0.9088608 | 2017.12.04_18.45.54_sample_0 |\n",
       "| k141_19 | S0C51621 | 0.9250624 | 0.0033958296 | 0.8145815 | 2017.12.04_18.45.54_sample_0 |\n",
       "| ⋮ | ⋮ | ⋮ | ⋮ | ⋮ | ⋮ |\n",
       "| NODE_23666_length_1000_cov_1.320635 | S9C13303 | 0.949 | 0.2398888 | 0.8398314 | 2017.12.04_18.45.54_sample_9 |\n",
       "| NODE_23667_length_1000_cov_1.278307 | S9C6844  | 0.975 | 0.4831516 | 0.8379487 | 2017.12.04_18.45.54_sample_9 |\n",
       "\n"
      ],
      "text/plain": [
       "       query_name                          target_name query_coverage\n",
       "1      k141_17                             S0C12831    0.9404762     \n",
       "2      k141_19                             S0C51621    0.9250624     \n",
       "⋮      ⋮                                   ⋮           ⋮             \n",
       "444426 NODE_23666_length_1000_cov_1.320635 S9C13303    0.949         \n",
       "444427 NODE_23667_length_1000_cov_1.278307 S9C6844     0.975         \n",
       "       target_coverage seq_id    sample                      \n",
       "1      0.0005045236    0.9088608 2017.12.04_18.45.54_sample_0\n",
       "2      0.0033958296    0.8145815 2017.12.04_18.45.54_sample_0\n",
       "⋮      ⋮               ⋮         ⋮                           \n",
       "444426 0.2398888       0.8398314 2017.12.04_18.45.54_sample_9\n",
       "444427 0.4831516       0.8379487 2017.12.04_18.45.54_sample_9"
      ]
     },
     "metadata": {},
     "output_type": "display_data"
    }
   ],
   "source": [
    "# loading hits\n",
    "read_hits = function(F){\n",
    "    sample = gsub('.+/minimap2/', '', F)\n",
    "    sample = gsub('/.+', '', sample)\n",
    "    dt = Fread(F)\n",
    "    dt$sample = sample\n",
    "    return(dt)\n",
    "}\n",
    "\n",
    "hits = hit_files %>%\n",
    "    lapply(read_hits) %>%\n",
    "    rbindlist(use.names=TRUE)\n",
    "hits"
   ]
  },
  {
   "cell_type": "code",
   "execution_count": 121,
   "metadata": {
    "ExecuteTime": {
     "end_time": "2022-02-22T13:03:00.581503Z",
     "start_time": "2022-02-22T13:03:00.528Z"
    }
   },
   "outputs": [
    {
     "name": "stdout",
     "output_type": "stream",
     "text": [
      "No. of unique queries: 286107 \n",
      "No. of unique targets: 35566 \n"
     ]
    }
   ],
   "source": [
    "hits$query_name %>% unique_n('queries')\n",
    "hits$target_name %>% unique_n('targets')"
   ]
  },
  {
   "cell_type": "code",
   "execution_count": 122,
   "metadata": {
    "ExecuteTime": {
     "end_time": "2022-02-22T13:03:01.811647Z",
     "start_time": "2022-02-22T13:03:01.748Z"
    }
   },
   "outputs": [
    {
     "data": {
      "text/html": [
       "<table class=\"dataframe\">\n",
       "<caption>A tidytable: 25 × 6</caption>\n",
       "<thead>\n",
       "\t<tr><th scope=col>query_name</th><th scope=col>target_name</th><th scope=col>query_coverage</th><th scope=col>target_coverage</th><th scope=col>seq_id</th><th scope=col>sample</th></tr>\n",
       "\t<tr><th scope=col>&lt;chr&gt;</th><th scope=col>&lt;chr&gt;</th><th scope=col>&lt;dbl&gt;</th><th scope=col>&lt;dbl&gt;</th><th scope=col>&lt;dbl&gt;</th><th scope=col>&lt;chr&gt;</th></tr>\n",
       "</thead>\n",
       "<tbody>\n",
       "\t<tr><td>k141_31037                        </td><td>S0C67912</td><td>0.9997810</td><td>0.9997810</td><td>0.9938668</td><td>2017.12.04_18.45.54_sample_0</td></tr>\n",
       "\t<tr><td>NODE_124_length_68478_cov_9.339374</td><td>S0C67912</td><td>0.9997663</td><td>0.9995182</td><td>0.9948146</td><td>2017.12.04_18.45.54_sample_0</td></tr>\n",
       "\t<tr><td>⋮</td><td>⋮</td><td>⋮</td><td>⋮</td><td>⋮</td><td>⋮</td></tr>\n",
       "\t<tr><td>NODE_789_length_9948_cov_18.842313</td><td>S9C1442</td><td>0.9976880</td><td>0.9976880</td><td>0.9943577</td><td>2017.12.04_18.45.54_sample_9</td></tr>\n",
       "\t<tr><td>NODE_996_length_8057_cov_17.292677</td><td>S9C6488</td><td>0.9991312</td><td>0.9991312</td><td>0.9954037</td><td>2017.12.04_18.45.54_sample_9</td></tr>\n",
       "</tbody>\n",
       "</table>\n"
      ],
      "text/latex": [
       "A tidytable: 25 × 6\n",
       "\\begin{tabular}{llllll}\n",
       " query\\_name & target\\_name & query\\_coverage & target\\_coverage & seq\\_id & sample\\\\\n",
       " <chr> & <chr> & <dbl> & <dbl> & <dbl> & <chr>\\\\\n",
       "\\hline\n",
       "\t k141\\_31037                         & S0C67912 & 0.9997810 & 0.9997810 & 0.9938668 & 2017.12.04\\_18.45.54\\_sample\\_0\\\\\n",
       "\t NODE\\_124\\_length\\_68478\\_cov\\_9.339374 & S0C67912 & 0.9997663 & 0.9995182 & 0.9948146 & 2017.12.04\\_18.45.54\\_sample\\_0\\\\\n",
       "\t ⋮ & ⋮ & ⋮ & ⋮ & ⋮ & ⋮\\\\\n",
       "\t NODE\\_789\\_length\\_9948\\_cov\\_18.842313 & S9C1442 & 0.9976880 & 0.9976880 & 0.9943577 & 2017.12.04\\_18.45.54\\_sample\\_9\\\\\n",
       "\t NODE\\_996\\_length\\_8057\\_cov\\_17.292677 & S9C6488 & 0.9991312 & 0.9991312 & 0.9954037 & 2017.12.04\\_18.45.54\\_sample\\_9\\\\\n",
       "\\end{tabular}\n"
      ],
      "text/markdown": [
       "\n",
       "A tidytable: 25 × 6\n",
       "\n",
       "| query_name &lt;chr&gt; | target_name &lt;chr&gt; | query_coverage &lt;dbl&gt; | target_coverage &lt;dbl&gt; | seq_id &lt;dbl&gt; | sample &lt;chr&gt; |\n",
       "|---|---|---|---|---|---|\n",
       "| k141_31037                         | S0C67912 | 0.9997810 | 0.9997810 | 0.9938668 | 2017.12.04_18.45.54_sample_0 |\n",
       "| NODE_124_length_68478_cov_9.339374 | S0C67912 | 0.9997663 | 0.9995182 | 0.9948146 | 2017.12.04_18.45.54_sample_0 |\n",
       "| ⋮ | ⋮ | ⋮ | ⋮ | ⋮ | ⋮ |\n",
       "| NODE_789_length_9948_cov_18.842313 | S9C1442 | 0.9976880 | 0.9976880 | 0.9943577 | 2017.12.04_18.45.54_sample_9 |\n",
       "| NODE_996_length_8057_cov_17.292677 | S9C6488 | 0.9991312 | 0.9991312 | 0.9954037 | 2017.12.04_18.45.54_sample_9 |\n",
       "\n"
      ],
      "text/plain": [
       "   query_name                         target_name query_coverage\n",
       "1  k141_31037                         S0C67912    0.9997810     \n",
       "2  NODE_124_length_68478_cov_9.339374 S0C67912    0.9997663     \n",
       "⋮  ⋮                                  ⋮           ⋮             \n",
       "24 NODE_789_length_9948_cov_18.842313 S9C1442     0.9976880     \n",
       "25 NODE_996_length_8057_cov_17.292677 S9C6488     0.9991312     \n",
       "   target_coverage seq_id    sample                      \n",
       "1  0.9997810       0.9938668 2017.12.04_18.45.54_sample_0\n",
       "2  0.9995182       0.9948146 2017.12.04_18.45.54_sample_0\n",
       "⋮  ⋮               ⋮         ⋮                           \n",
       "24 0.9976880       0.9943577 2017.12.04_18.45.54_sample_9\n",
       "25 0.9991312       0.9954037 2017.12.04_18.45.54_sample_9"
      ]
     },
     "metadata": {},
     "output_type": "display_data"
    }
   ],
   "source": [
    "# duplicates\n",
    "dup_contigs = hits %>%\n",
    "    filter.(seq_id >= 0.99,  query_coverage >= 0.95, target_coverage >= 0.95)\n",
    "dup_contigs"
   ]
  },
  {
   "cell_type": "code",
   "execution_count": 125,
   "metadata": {
    "ExecuteTime": {
     "end_time": "2022-02-22T13:04:43.035755Z",
     "start_time": "2022-02-22T13:04:42.994Z"
    }
   },
   "outputs": [
    {
     "data": {
      "text/html": [
       "<table class=\"dataframe\">\n",
       "<caption>A tidytable: 25 × 6</caption>\n",
       "<thead>\n",
       "\t<tr><th scope=col>query_name</th><th scope=col>target_name</th><th scope=col>query_coverage</th><th scope=col>target_coverage</th><th scope=col>seq_id</th><th scope=col>sample</th></tr>\n",
       "\t<tr><th scope=col>&lt;chr&gt;</th><th scope=col>&lt;chr&gt;</th><th scope=col>&lt;dbl&gt;</th><th scope=col>&lt;dbl&gt;</th><th scope=col>&lt;dbl&gt;</th><th scope=col>&lt;chr&gt;</th></tr>\n",
       "</thead>\n",
       "<tbody>\n",
       "\t<tr><td>k141_31037                          </td><td>S0C67912</td><td>0.9997810</td><td>0.9997810</td><td>0.9938668</td><td>2017.12.04_18.45.54_sample_0 </td></tr>\n",
       "\t<tr><td>NODE_124_length_68478_cov_9.339374  </td><td>S0C67912</td><td>0.9997663</td><td>0.9995182</td><td>0.9948146</td><td>2017.12.04_18.45.54_sample_0 </td></tr>\n",
       "\t<tr><td>NODE_227_length_35816_cov_106.334051</td><td>S0C18644</td><td>0.9979339</td><td>0.9551577</td><td>0.9926977</td><td>2017.12.04_18.45.54_sample_0 </td></tr>\n",
       "\t<tr><td>k141_22355                          </td><td>S1C21631</td><td>0.9997081</td><td>0.9997081</td><td>0.9952407</td><td>2017.12.04_18.45.54_sample_1 </td></tr>\n",
       "\t<tr><td>k141_82026                          </td><td>S1C57230</td><td>0.9996064</td><td>0.9994551</td><td>0.9950324</td><td>2017.12.04_18.45.54_sample_1 </td></tr>\n",
       "\t<tr><td>NODE_93_length_68517_cov_23.007683  </td><td>S1C21631</td><td>0.9997081</td><td>0.9997081</td><td>0.9952407</td><td>2017.12.04_18.45.54_sample_1 </td></tr>\n",
       "\t<tr><td>k141_19273                          </td><td>S10C4782</td><td>0.9990072</td><td>0.9990072</td><td>0.9954037</td><td>2017.12.04_18.45.54_sample_10</td></tr>\n",
       "\t<tr><td>NODE_1091_length_8058_cov_12.889666 </td><td>S10C4782</td><td>0.9990072</td><td>0.9990072</td><td>0.9954037</td><td>2017.12.04_18.45.54_sample_10</td></tr>\n",
       "\t<tr><td>k141_19646                          </td><td>S11C2462</td><td>0.9999632</td><td>0.9997974</td><td>0.9943256</td><td>2017.12.04_18.45.54_sample_11</td></tr>\n",
       "\t<tr><td>NODE_131_length_54284_cov_14.538015 </td><td>S11C2462</td><td>0.9998526</td><td>0.9997421</td><td>0.9943253</td><td>2017.12.04_18.45.54_sample_11</td></tr>\n",
       "\t<tr><td>k141_56374                          </td><td>S12C8354</td><td>0.9981610</td><td>0.9968167</td><td>0.9947184</td><td>2017.12.04_18.45.54_sample_12</td></tr>\n",
       "\t<tr><td>NODE_590_length_16324_cov_16.340648 </td><td>S12C8354</td><td>0.9978559</td><td>0.9971840</td><td>0.9947204</td><td>2017.12.04_18.45.54_sample_12</td></tr>\n",
       "\t<tr><td>NODE_146_length_54294_cov_19.456111 </td><td>S2C40280</td><td>0.9999079</td><td>0.9997974</td><td>0.9943267</td><td>2017.12.04_18.45.54_sample_2 </td></tr>\n",
       "\t<tr><td>k141_58399                          </td><td>S3C23592</td><td>0.9995034</td><td>0.9995034</td><td>0.9954037</td><td>2017.12.04_18.45.54_sample_3 </td></tr>\n",
       "\t<tr><td>NODE_1370_length_8053_cov_10.219430 </td><td>S3C23592</td><td>0.9996275</td><td>0.9995034</td><td>0.9954037</td><td>2017.12.04_18.45.54_sample_3 </td></tr>\n",
       "\t<tr><td>k141_9352                           </td><td>S5C48   </td><td>0.9998751</td><td>0.9947813</td><td>0.9937547</td><td>2017.12.04_18.45.54_sample_5 </td></tr>\n",
       "\t<tr><td>k141_22438                          </td><td>S5C7365 </td><td>0.9999747</td><td>0.9999663</td><td>0.9949741</td><td>2017.12.04_18.45.54_sample_5 </td></tr>\n",
       "\t<tr><td>k141_23275                          </td><td>S5C1584 </td><td>0.9991799</td><td>0.9991799</td><td>0.9955680</td><td>2017.12.04_18.45.54_sample_5 </td></tr>\n",
       "\t<tr><td>NODE_62_length_118589_cov_24.736843 </td><td>S5C7365 </td><td>0.9999663</td><td>0.9999663</td><td>0.9949741</td><td>2017.12.04_18.45.54_sample_5 </td></tr>\n",
       "\t<tr><td>NODE_633_length_12194_cov_37.717275 </td><td>S5C1584 </td><td>0.9991799</td><td>0.9991799</td><td>0.9955680</td><td>2017.12.04_18.45.54_sample_5 </td></tr>\n",
       "\t<tr><td>NODE_905_length_8048_cov_7.929313   </td><td>S5C48   </td><td>0.9947813</td><td>0.9947813</td><td>0.9935049</td><td>2017.12.04_18.45.54_sample_5 </td></tr>\n",
       "\t<tr><td>k141_29704                          </td><td>S9C6488 </td><td>0.9991312</td><td>0.9991312</td><td>0.9925466</td><td>2017.12.04_18.45.54_sample_9 </td></tr>\n",
       "\t<tr><td>k141_58862                          </td><td>S9C1442 </td><td>0.9964792</td><td>0.9957780</td><td>0.9944478</td><td>2017.12.04_18.45.54_sample_9 </td></tr>\n",
       "\t<tr><td>NODE_789_length_9948_cov_18.842313  </td><td>S9C1442 </td><td>0.9976880</td><td>0.9976880</td><td>0.9943577</td><td>2017.12.04_18.45.54_sample_9 </td></tr>\n",
       "\t<tr><td>NODE_996_length_8057_cov_17.292677  </td><td>S9C6488 </td><td>0.9991312</td><td>0.9991312</td><td>0.9954037</td><td>2017.12.04_18.45.54_sample_9 </td></tr>\n",
       "</tbody>\n",
       "</table>\n"
      ],
      "text/latex": [
       "A tidytable: 25 × 6\n",
       "\\begin{tabular}{llllll}\n",
       " query\\_name & target\\_name & query\\_coverage & target\\_coverage & seq\\_id & sample\\\\\n",
       " <chr> & <chr> & <dbl> & <dbl> & <dbl> & <chr>\\\\\n",
       "\\hline\n",
       "\t k141\\_31037                           & S0C67912 & 0.9997810 & 0.9997810 & 0.9938668 & 2017.12.04\\_18.45.54\\_sample\\_0 \\\\\n",
       "\t NODE\\_124\\_length\\_68478\\_cov\\_9.339374   & S0C67912 & 0.9997663 & 0.9995182 & 0.9948146 & 2017.12.04\\_18.45.54\\_sample\\_0 \\\\\n",
       "\t NODE\\_227\\_length\\_35816\\_cov\\_106.334051 & S0C18644 & 0.9979339 & 0.9551577 & 0.9926977 & 2017.12.04\\_18.45.54\\_sample\\_0 \\\\\n",
       "\t k141\\_22355                           & S1C21631 & 0.9997081 & 0.9997081 & 0.9952407 & 2017.12.04\\_18.45.54\\_sample\\_1 \\\\\n",
       "\t k141\\_82026                           & S1C57230 & 0.9996064 & 0.9994551 & 0.9950324 & 2017.12.04\\_18.45.54\\_sample\\_1 \\\\\n",
       "\t NODE\\_93\\_length\\_68517\\_cov\\_23.007683   & S1C21631 & 0.9997081 & 0.9997081 & 0.9952407 & 2017.12.04\\_18.45.54\\_sample\\_1 \\\\\n",
       "\t k141\\_19273                           & S10C4782 & 0.9990072 & 0.9990072 & 0.9954037 & 2017.12.04\\_18.45.54\\_sample\\_10\\\\\n",
       "\t NODE\\_1091\\_length\\_8058\\_cov\\_12.889666  & S10C4782 & 0.9990072 & 0.9990072 & 0.9954037 & 2017.12.04\\_18.45.54\\_sample\\_10\\\\\n",
       "\t k141\\_19646                           & S11C2462 & 0.9999632 & 0.9997974 & 0.9943256 & 2017.12.04\\_18.45.54\\_sample\\_11\\\\\n",
       "\t NODE\\_131\\_length\\_54284\\_cov\\_14.538015  & S11C2462 & 0.9998526 & 0.9997421 & 0.9943253 & 2017.12.04\\_18.45.54\\_sample\\_11\\\\\n",
       "\t k141\\_56374                           & S12C8354 & 0.9981610 & 0.9968167 & 0.9947184 & 2017.12.04\\_18.45.54\\_sample\\_12\\\\\n",
       "\t NODE\\_590\\_length\\_16324\\_cov\\_16.340648  & S12C8354 & 0.9978559 & 0.9971840 & 0.9947204 & 2017.12.04\\_18.45.54\\_sample\\_12\\\\\n",
       "\t NODE\\_146\\_length\\_54294\\_cov\\_19.456111  & S2C40280 & 0.9999079 & 0.9997974 & 0.9943267 & 2017.12.04\\_18.45.54\\_sample\\_2 \\\\\n",
       "\t k141\\_58399                           & S3C23592 & 0.9995034 & 0.9995034 & 0.9954037 & 2017.12.04\\_18.45.54\\_sample\\_3 \\\\\n",
       "\t NODE\\_1370\\_length\\_8053\\_cov\\_10.219430  & S3C23592 & 0.9996275 & 0.9995034 & 0.9954037 & 2017.12.04\\_18.45.54\\_sample\\_3 \\\\\n",
       "\t k141\\_9352                            & S5C48    & 0.9998751 & 0.9947813 & 0.9937547 & 2017.12.04\\_18.45.54\\_sample\\_5 \\\\\n",
       "\t k141\\_22438                           & S5C7365  & 0.9999747 & 0.9999663 & 0.9949741 & 2017.12.04\\_18.45.54\\_sample\\_5 \\\\\n",
       "\t k141\\_23275                           & S5C1584  & 0.9991799 & 0.9991799 & 0.9955680 & 2017.12.04\\_18.45.54\\_sample\\_5 \\\\\n",
       "\t NODE\\_62\\_length\\_118589\\_cov\\_24.736843  & S5C7365  & 0.9999663 & 0.9999663 & 0.9949741 & 2017.12.04\\_18.45.54\\_sample\\_5 \\\\\n",
       "\t NODE\\_633\\_length\\_12194\\_cov\\_37.717275  & S5C1584  & 0.9991799 & 0.9991799 & 0.9955680 & 2017.12.04\\_18.45.54\\_sample\\_5 \\\\\n",
       "\t NODE\\_905\\_length\\_8048\\_cov\\_7.929313    & S5C48    & 0.9947813 & 0.9947813 & 0.9935049 & 2017.12.04\\_18.45.54\\_sample\\_5 \\\\\n",
       "\t k141\\_29704                           & S9C6488  & 0.9991312 & 0.9991312 & 0.9925466 & 2017.12.04\\_18.45.54\\_sample\\_9 \\\\\n",
       "\t k141\\_58862                           & S9C1442  & 0.9964792 & 0.9957780 & 0.9944478 & 2017.12.04\\_18.45.54\\_sample\\_9 \\\\\n",
       "\t NODE\\_789\\_length\\_9948\\_cov\\_18.842313   & S9C1442  & 0.9976880 & 0.9976880 & 0.9943577 & 2017.12.04\\_18.45.54\\_sample\\_9 \\\\\n",
       "\t NODE\\_996\\_length\\_8057\\_cov\\_17.292677   & S9C6488  & 0.9991312 & 0.9991312 & 0.9954037 & 2017.12.04\\_18.45.54\\_sample\\_9 \\\\\n",
       "\\end{tabular}\n"
      ],
      "text/markdown": [
       "\n",
       "A tidytable: 25 × 6\n",
       "\n",
       "| query_name &lt;chr&gt; | target_name &lt;chr&gt; | query_coverage &lt;dbl&gt; | target_coverage &lt;dbl&gt; | seq_id &lt;dbl&gt; | sample &lt;chr&gt; |\n",
       "|---|---|---|---|---|---|\n",
       "| k141_31037                           | S0C67912 | 0.9997810 | 0.9997810 | 0.9938668 | 2017.12.04_18.45.54_sample_0  |\n",
       "| NODE_124_length_68478_cov_9.339374   | S0C67912 | 0.9997663 | 0.9995182 | 0.9948146 | 2017.12.04_18.45.54_sample_0  |\n",
       "| NODE_227_length_35816_cov_106.334051 | S0C18644 | 0.9979339 | 0.9551577 | 0.9926977 | 2017.12.04_18.45.54_sample_0  |\n",
       "| k141_22355                           | S1C21631 | 0.9997081 | 0.9997081 | 0.9952407 | 2017.12.04_18.45.54_sample_1  |\n",
       "| k141_82026                           | S1C57230 | 0.9996064 | 0.9994551 | 0.9950324 | 2017.12.04_18.45.54_sample_1  |\n",
       "| NODE_93_length_68517_cov_23.007683   | S1C21631 | 0.9997081 | 0.9997081 | 0.9952407 | 2017.12.04_18.45.54_sample_1  |\n",
       "| k141_19273                           | S10C4782 | 0.9990072 | 0.9990072 | 0.9954037 | 2017.12.04_18.45.54_sample_10 |\n",
       "| NODE_1091_length_8058_cov_12.889666  | S10C4782 | 0.9990072 | 0.9990072 | 0.9954037 | 2017.12.04_18.45.54_sample_10 |\n",
       "| k141_19646                           | S11C2462 | 0.9999632 | 0.9997974 | 0.9943256 | 2017.12.04_18.45.54_sample_11 |\n",
       "| NODE_131_length_54284_cov_14.538015  | S11C2462 | 0.9998526 | 0.9997421 | 0.9943253 | 2017.12.04_18.45.54_sample_11 |\n",
       "| k141_56374                           | S12C8354 | 0.9981610 | 0.9968167 | 0.9947184 | 2017.12.04_18.45.54_sample_12 |\n",
       "| NODE_590_length_16324_cov_16.340648  | S12C8354 | 0.9978559 | 0.9971840 | 0.9947204 | 2017.12.04_18.45.54_sample_12 |\n",
       "| NODE_146_length_54294_cov_19.456111  | S2C40280 | 0.9999079 | 0.9997974 | 0.9943267 | 2017.12.04_18.45.54_sample_2  |\n",
       "| k141_58399                           | S3C23592 | 0.9995034 | 0.9995034 | 0.9954037 | 2017.12.04_18.45.54_sample_3  |\n",
       "| NODE_1370_length_8053_cov_10.219430  | S3C23592 | 0.9996275 | 0.9995034 | 0.9954037 | 2017.12.04_18.45.54_sample_3  |\n",
       "| k141_9352                            | S5C48    | 0.9998751 | 0.9947813 | 0.9937547 | 2017.12.04_18.45.54_sample_5  |\n",
       "| k141_22438                           | S5C7365  | 0.9999747 | 0.9999663 | 0.9949741 | 2017.12.04_18.45.54_sample_5  |\n",
       "| k141_23275                           | S5C1584  | 0.9991799 | 0.9991799 | 0.9955680 | 2017.12.04_18.45.54_sample_5  |\n",
       "| NODE_62_length_118589_cov_24.736843  | S5C7365  | 0.9999663 | 0.9999663 | 0.9949741 | 2017.12.04_18.45.54_sample_5  |\n",
       "| NODE_633_length_12194_cov_37.717275  | S5C1584  | 0.9991799 | 0.9991799 | 0.9955680 | 2017.12.04_18.45.54_sample_5  |\n",
       "| NODE_905_length_8048_cov_7.929313    | S5C48    | 0.9947813 | 0.9947813 | 0.9935049 | 2017.12.04_18.45.54_sample_5  |\n",
       "| k141_29704                           | S9C6488  | 0.9991312 | 0.9991312 | 0.9925466 | 2017.12.04_18.45.54_sample_9  |\n",
       "| k141_58862                           | S9C1442  | 0.9964792 | 0.9957780 | 0.9944478 | 2017.12.04_18.45.54_sample_9  |\n",
       "| NODE_789_length_9948_cov_18.842313   | S9C1442  | 0.9976880 | 0.9976880 | 0.9943577 | 2017.12.04_18.45.54_sample_9  |\n",
       "| NODE_996_length_8057_cov_17.292677   | S9C6488  | 0.9991312 | 0.9991312 | 0.9954037 | 2017.12.04_18.45.54_sample_9  |\n",
       "\n"
      ],
      "text/plain": [
       "   query_name                           target_name query_coverage\n",
       "1  k141_31037                           S0C67912    0.9997810     \n",
       "2  NODE_124_length_68478_cov_9.339374   S0C67912    0.9997663     \n",
       "3  NODE_227_length_35816_cov_106.334051 S0C18644    0.9979339     \n",
       "4  k141_22355                           S1C21631    0.9997081     \n",
       "5  k141_82026                           S1C57230    0.9996064     \n",
       "6  NODE_93_length_68517_cov_23.007683   S1C21631    0.9997081     \n",
       "7  k141_19273                           S10C4782    0.9990072     \n",
       "8  NODE_1091_length_8058_cov_12.889666  S10C4782    0.9990072     \n",
       "9  k141_19646                           S11C2462    0.9999632     \n",
       "10 NODE_131_length_54284_cov_14.538015  S11C2462    0.9998526     \n",
       "11 k141_56374                           S12C8354    0.9981610     \n",
       "12 NODE_590_length_16324_cov_16.340648  S12C8354    0.9978559     \n",
       "13 NODE_146_length_54294_cov_19.456111  S2C40280    0.9999079     \n",
       "14 k141_58399                           S3C23592    0.9995034     \n",
       "15 NODE_1370_length_8053_cov_10.219430  S3C23592    0.9996275     \n",
       "16 k141_9352                            S5C48       0.9998751     \n",
       "17 k141_22438                           S5C7365     0.9999747     \n",
       "18 k141_23275                           S5C1584     0.9991799     \n",
       "19 NODE_62_length_118589_cov_24.736843  S5C7365     0.9999663     \n",
       "20 NODE_633_length_12194_cov_37.717275  S5C1584     0.9991799     \n",
       "21 NODE_905_length_8048_cov_7.929313    S5C48       0.9947813     \n",
       "22 k141_29704                           S9C6488     0.9991312     \n",
       "23 k141_58862                           S9C1442     0.9964792     \n",
       "24 NODE_789_length_9948_cov_18.842313   S9C1442     0.9976880     \n",
       "25 NODE_996_length_8057_cov_17.292677   S9C6488     0.9991312     \n",
       "   target_coverage seq_id    sample                       \n",
       "1  0.9997810       0.9938668 2017.12.04_18.45.54_sample_0 \n",
       "2  0.9995182       0.9948146 2017.12.04_18.45.54_sample_0 \n",
       "3  0.9551577       0.9926977 2017.12.04_18.45.54_sample_0 \n",
       "4  0.9997081       0.9952407 2017.12.04_18.45.54_sample_1 \n",
       "5  0.9994551       0.9950324 2017.12.04_18.45.54_sample_1 \n",
       "6  0.9997081       0.9952407 2017.12.04_18.45.54_sample_1 \n",
       "7  0.9990072       0.9954037 2017.12.04_18.45.54_sample_10\n",
       "8  0.9990072       0.9954037 2017.12.04_18.45.54_sample_10\n",
       "9  0.9997974       0.9943256 2017.12.04_18.45.54_sample_11\n",
       "10 0.9997421       0.9943253 2017.12.04_18.45.54_sample_11\n",
       "11 0.9968167       0.9947184 2017.12.04_18.45.54_sample_12\n",
       "12 0.9971840       0.9947204 2017.12.04_18.45.54_sample_12\n",
       "13 0.9997974       0.9943267 2017.12.04_18.45.54_sample_2 \n",
       "14 0.9995034       0.9954037 2017.12.04_18.45.54_sample_3 \n",
       "15 0.9995034       0.9954037 2017.12.04_18.45.54_sample_3 \n",
       "16 0.9947813       0.9937547 2017.12.04_18.45.54_sample_5 \n",
       "17 0.9999663       0.9949741 2017.12.04_18.45.54_sample_5 \n",
       "18 0.9991799       0.9955680 2017.12.04_18.45.54_sample_5 \n",
       "19 0.9999663       0.9949741 2017.12.04_18.45.54_sample_5 \n",
       "20 0.9991799       0.9955680 2017.12.04_18.45.54_sample_5 \n",
       "21 0.9947813       0.9935049 2017.12.04_18.45.54_sample_5 \n",
       "22 0.9991312       0.9925466 2017.12.04_18.45.54_sample_9 \n",
       "23 0.9957780       0.9944478 2017.12.04_18.45.54_sample_9 \n",
       "24 0.9976880       0.9943577 2017.12.04_18.45.54_sample_9 \n",
       "25 0.9991312       0.9954037 2017.12.04_18.45.54_sample_9 "
      ]
     },
     "metadata": {},
     "output_type": "display_data"
    }
   ],
   "source": [
    "# listing all contigs\n",
    "df.dims(30)\n",
    "dup_contigs\n",
    "df.dims()"
   ]
  },
  {
   "cell_type": "code",
   "execution_count": 126,
   "metadata": {
    "ExecuteTime": {
     "end_time": "2022-02-22T13:04:49.718613Z",
     "start_time": "2022-02-22T13:04:49.702Z"
    }
   },
   "outputs": [
    {
     "name": "stdout",
     "output_type": "stream",
     "text": [
      "File written: /ebio/abt3_projects/databases_no-backup/CAMI/CAMI2_HMP-gut/short_read/ResMiCo-SM_cami-contigs//dup_contigs.tsv \n"
     ]
    }
   ],
   "source": [
    "# writing table\n",
    "F = file.path(work_dir, 'dup_contigs.tsv')\n",
    "write_table(dup_contigs, F)"
   ]
  },
  {
   "cell_type": "code",
   "execution_count": 118,
   "metadata": {
    "ExecuteTime": {
     "end_time": "2022-02-20T19:34:23.655767Z",
     "start_time": "2022-02-20T19:34:23.454Z"
    }
   },
   "outputs": [
    {
     "data": {
      "text/html": [
       "<table class=\"dataframe\">\n",
       "<caption>A matrix: 1 × 8 of type dbl</caption>\n",
       "<thead>\n",
       "\t<tr><th></th><th scope=col>Min.</th><th scope=col>1st Qu.</th><th scope=col>Median</th><th scope=col>Mean</th><th scope=col>3rd Qu.</th><th scope=col>Max.</th><th scope=col>sd</th><th scope=col>sd_err_of_mean</th></tr>\n",
       "</thead>\n",
       "<tbody>\n",
       "\t<tr><th scope=row>contigs per sample</th><td>6</td><td>11.25</td><td>12.5</td><td>19.7</td><td>29</td><td>46</td><td>13.35</td><td>5.45</td></tr>\n",
       "</tbody>\n",
       "</table>\n"
      ],
      "text/latex": [
       "A matrix: 1 × 8 of type dbl\n",
       "\\begin{tabular}{r|llllllll}\n",
       "  & Min. & 1st Qu. & Median & Mean & 3rd Qu. & Max. & sd & sd\\_err\\_of\\_mean\\\\\n",
       "\\hline\n",
       "\tcontigs per sample & 6 & 11.25 & 12.5 & 19.7 & 29 & 46 & 13.35 & 5.45\\\\\n",
       "\\end{tabular}\n"
      ],
      "text/markdown": [
       "\n",
       "A matrix: 1 × 8 of type dbl\n",
       "\n",
       "| <!--/--> | Min. | 1st Qu. | Median | Mean | 3rd Qu. | Max. | sd | sd_err_of_mean |\n",
       "|---|---|---|---|---|---|---|---|---|\n",
       "| contigs per sample | 6 | 11.25 | 12.5 | 19.7 | 29 | 46 | 13.35 | 5.45 |\n",
       "\n"
      ],
      "text/plain": [
       "                   Min. 1st Qu. Median Mean 3rd Qu. Max. sd    sd_err_of_mean\n",
       "contigs per sample 6    11.25   12.5   19.7 29      46   13.35 5.45          "
      ]
     },
     "metadata": {},
     "output_type": "display_data"
    },
    {
     "data": {
      "text/html": [
       "<table class=\"dataframe\">\n",
       "<caption>A tidytable: 197 × 6</caption>\n",
       "<thead>\n",
       "\t<tr><th scope=col>query_name</th><th scope=col>target_name</th><th scope=col>query_coverage</th><th scope=col>target_coverage</th><th scope=col>seq_id</th><th scope=col>sample</th></tr>\n",
       "\t<tr><th scope=col>&lt;chr&gt;</th><th scope=col>&lt;chr&gt;</th><th scope=col>&lt;dbl&gt;</th><th scope=col>&lt;dbl&gt;</th><th scope=col>&lt;dbl&gt;</th><th scope=col>&lt;chr&gt;</th></tr>\n",
       "</thead>\n",
       "<tbody>\n",
       "\t<tr><td>k141_15804</td><td>S0C28727</td><td>0.9743447</td><td>0.5233281</td><td>0.9834001</td><td>2017.12.04_18.45.54_sample_0</td></tr>\n",
       "\t<tr><td>k141_18211</td><td>S0C53064</td><td>0.7812736</td><td>0.6138734</td><td>0.9892289</td><td>2017.12.04_18.45.54_sample_0</td></tr>\n",
       "\t<tr><td>⋮</td><td>⋮</td><td>⋮</td><td>⋮</td><td>⋮</td><td>⋮</td></tr>\n",
       "\t<tr><td>NODE_789_length_9948_cov_18.842313</td><td>S9C1442</td><td>0.9976880</td><td>0.9976880</td><td>0.9943577</td><td>2017.12.04_18.45.54_sample_9</td></tr>\n",
       "\t<tr><td>NODE_996_length_8057_cov_17.292677</td><td>S9C6488</td><td>0.9991312</td><td>0.9991312</td><td>0.9954037</td><td>2017.12.04_18.45.54_sample_9</td></tr>\n",
       "</tbody>\n",
       "</table>\n"
      ],
      "text/latex": [
       "A tidytable: 197 × 6\n",
       "\\begin{tabular}{llllll}\n",
       " query\\_name & target\\_name & query\\_coverage & target\\_coverage & seq\\_id & sample\\\\\n",
       " <chr> & <chr> & <dbl> & <dbl> & <dbl> & <chr>\\\\\n",
       "\\hline\n",
       "\t k141\\_15804 & S0C28727 & 0.9743447 & 0.5233281 & 0.9834001 & 2017.12.04\\_18.45.54\\_sample\\_0\\\\\n",
       "\t k141\\_18211 & S0C53064 & 0.7812736 & 0.6138734 & 0.9892289 & 2017.12.04\\_18.45.54\\_sample\\_0\\\\\n",
       "\t ⋮ & ⋮ & ⋮ & ⋮ & ⋮ & ⋮\\\\\n",
       "\t NODE\\_789\\_length\\_9948\\_cov\\_18.842313 & S9C1442 & 0.9976880 & 0.9976880 & 0.9943577 & 2017.12.04\\_18.45.54\\_sample\\_9\\\\\n",
       "\t NODE\\_996\\_length\\_8057\\_cov\\_17.292677 & S9C6488 & 0.9991312 & 0.9991312 & 0.9954037 & 2017.12.04\\_18.45.54\\_sample\\_9\\\\\n",
       "\\end{tabular}\n"
      ],
      "text/markdown": [
       "\n",
       "A tidytable: 197 × 6\n",
       "\n",
       "| query_name &lt;chr&gt; | target_name &lt;chr&gt; | query_coverage &lt;dbl&gt; | target_coverage &lt;dbl&gt; | seq_id &lt;dbl&gt; | sample &lt;chr&gt; |\n",
       "|---|---|---|---|---|---|\n",
       "| k141_15804 | S0C28727 | 0.9743447 | 0.5233281 | 0.9834001 | 2017.12.04_18.45.54_sample_0 |\n",
       "| k141_18211 | S0C53064 | 0.7812736 | 0.6138734 | 0.9892289 | 2017.12.04_18.45.54_sample_0 |\n",
       "| ⋮ | ⋮ | ⋮ | ⋮ | ⋮ | ⋮ |\n",
       "| NODE_789_length_9948_cov_18.842313 | S9C1442 | 0.9976880 | 0.9976880 | 0.9943577 | 2017.12.04_18.45.54_sample_9 |\n",
       "| NODE_996_length_8057_cov_17.292677 | S9C6488 | 0.9991312 | 0.9991312 | 0.9954037 | 2017.12.04_18.45.54_sample_9 |\n",
       "\n"
      ],
      "text/plain": [
       "    query_name                         target_name query_coverage\n",
       "1   k141_15804                         S0C28727    0.9743447     \n",
       "2   k141_18211                         S0C53064    0.7812736     \n",
       "⋮   ⋮                                  ⋮           ⋮             \n",
       "196 NODE_789_length_9948_cov_18.842313 S9C1442     0.9976880     \n",
       "197 NODE_996_length_8057_cov_17.292677 S9C6488     0.9991312     \n",
       "    target_coverage seq_id    sample                      \n",
       "1   0.5233281       0.9834001 2017.12.04_18.45.54_sample_0\n",
       "2   0.6138734       0.9892289 2017.12.04_18.45.54_sample_0\n",
       "⋮   ⋮               ⋮         ⋮                           \n",
       "196 0.9976880       0.9943577 2017.12.04_18.45.54_sample_9\n",
       "197 0.9991312       0.9954037 2017.12.04_18.45.54_sample_9"
      ]
     },
     "metadata": {},
     "output_type": "display_data"
    }
   ],
   "source": [
    "# duplicates (less stringent)\n",
    "dup_contigs = hits %>%\n",
    "    filter.(seq_id >= 0.98,  query_coverage >= 0.5, target_coverage >= 0.5)\n",
    "dup_contigs %>%\n",
    "    summarize.(n = n.(), .by=c(sample)) %>%\n",
    "    .$n %>% summary_x('contigs per sample')\n",
    "dup_contigs"
   ]
  },
  {
   "cell_type": "markdown",
   "metadata": {},
   "source": [
    "# sessionInfo"
   ]
  },
  {
   "cell_type": "code",
   "execution_count": 89,
   "metadata": {
    "ExecuteTime": {
     "end_time": "2022-02-19T15:51:20.283352Z",
     "start_time": "2022-02-19T15:51:17.914Z"
    }
   },
   "outputs": [
    {
     "data": {
      "text/plain": [
       "R version 4.1.1 (2021-08-10)\n",
       "Platform: x86_64-conda-linux-gnu (64-bit)\n",
       "Running under: Ubuntu 18.04.6 LTS\n",
       "\n",
       "Matrix products: default\n",
       "BLAS/LAPACK: /tmp/global2/nyoungblut/code/general/conda_envs/general-tidyverse/lib/libopenblasp-r0.3.18.so\n",
       "\n",
       "locale:\n",
       " [1] LC_CTYPE=en_US.UTF-8       LC_NUMERIC=C              \n",
       " [3] LC_TIME=en_US.UTF-8        LC_COLLATE=en_US.UTF-8    \n",
       " [5] LC_MONETARY=en_US.UTF-8    LC_MESSAGES=en_US.UTF-8   \n",
       " [7] LC_PAPER=en_US.UTF-8       LC_NAME=C                 \n",
       " [9] LC_ADDRESS=C               LC_TELEPHONE=C            \n",
       "[11] LC_MEASUREMENT=en_US.UTF-8 LC_IDENTIFICATION=C       \n",
       "\n",
       "attached base packages:\n",
       "[1] stats     graphics  grDevices utils     datasets  methods   base     \n",
       "\n",
       "other attached packages:\n",
       "[1] clustermq_0.8.95.2 LeyLabRMisc_0.2.1  tidytable_0.6.6    data.table_1.14.2 \n",
       "[5] ggplot2_3.3.5      tidyr_1.1.4        dplyr_1.0.7       \n",
       "\n",
       "loaded via a namespace (and not attached):\n",
       " [1] Rcpp_1.0.7        plyr_1.8.6        pillar_1.6.4      compiler_4.1.1   \n",
       " [5] prettyunits_1.1.1 progress_1.2.2    base64enc_0.1-3   tools_4.1.1      \n",
       " [9] digest_0.6.29     uuid_1.0-3        jsonlite_1.7.2    evaluate_0.14    \n",
       "[13] lifecycle_1.0.1   tibble_3.1.6      gtable_0.3.0      pkgconfig_2.0.3  \n",
       "[17] rlang_0.4.12      cli_3.1.0         IRdisplay_1.1     IRkernel_1.3     \n",
       "[21] fastmap_1.1.0     repr_1.1.4        withr_2.4.3       hms_1.1.1        \n",
       "[25] generics_0.1.1    vctrs_0.3.8       grid_4.1.1        tidyselect_1.1.1 \n",
       "[29] glue_1.6.0        R6_2.5.1          fansi_1.0.0       pbdZMQ_0.3-6     \n",
       "[33] purrr_0.3.4       magrittr_2.0.1    codetools_0.2-18  scales_1.1.1     \n",
       "[37] ellipsis_0.3.2    htmltools_0.5.2   colorspace_2.0-2  utf8_1.2.2       \n",
       "[41] munsell_0.5.0     crayon_1.4.2     "
      ]
     },
     "metadata": {},
     "output_type": "display_data"
    }
   ],
   "source": [
    "sessionInfo()"
   ]
  }
 ],
 "metadata": {
  "kernelspec": {
   "display_name": "R [conda env:general-tidyverse]",
   "language": "R",
   "name": "conda-env-general-tidyverse-r"
  },
  "language_info": {
   "codemirror_mode": "r",
   "file_extension": ".r",
   "mimetype": "text/x-r-source",
   "name": "R",
   "pygments_lexer": "r",
   "version": "4.1.1"
  },
  "notify_time": "30",
  "toc": {
   "base_numbering": 1,
   "nav_menu": {},
   "number_sections": true,
   "sideBar": true,
   "skip_h1_title": false,
   "title_cell": "Table of Contents",
   "title_sidebar": "Contents",
   "toc_cell": true,
   "toc_position": {},
   "toc_section_display": true,
   "toc_window_display": true
  }
 },
 "nbformat": 4,
 "nbformat_minor": 4
}
