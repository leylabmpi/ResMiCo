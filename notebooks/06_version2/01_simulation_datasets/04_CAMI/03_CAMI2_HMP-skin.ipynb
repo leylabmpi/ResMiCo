{
 "cells": [
  {
   "cell_type": "markdown",
   "id": "9b76661e",
   "metadata": {
    "toc": true
   },
   "source": [
    "<h1>Table of Contents<span class=\"tocSkip\"></span></h1>\n",
    "<div class=\"toc\"><ul class=\"toc-item\"><li><span><a href=\"#Goal\" data-toc-modified-id=\"Goal-1\"><span class=\"toc-item-num\">1&nbsp;&nbsp;</span>Goal</a></span></li><li><span><a href=\"#Var\" data-toc-modified-id=\"Var-2\"><span class=\"toc-item-num\">2&nbsp;&nbsp;</span>Var</a></span></li><li><span><a href=\"#Init\" data-toc-modified-id=\"Init-3\"><span class=\"toc-item-num\">3&nbsp;&nbsp;</span>Init</a></span></li><li><span><a href=\"#Dataset-summary\" data-toc-modified-id=\"Dataset-summary-4\"><span class=\"toc-item-num\">4&nbsp;&nbsp;</span>Dataset summary</a></span><ul class=\"toc-item\"><li><span><a href=\"#Comm.-abund.-dist\" data-toc-modified-id=\"Comm.-abund.-dist-4.1\"><span class=\"toc-item-num\">4.1&nbsp;&nbsp;</span>Comm. abund. dist</a></span></li></ul></li><li><span><a href=\"#LLMGP\" data-toc-modified-id=\"LLMGP-5\"><span class=\"toc-item-num\">5&nbsp;&nbsp;</span>LLMGP</a></span><ul class=\"toc-item\"><li><ul class=\"toc-item\"><li><span><a href=\"#Config\" data-toc-modified-id=\"Config-5.0.1\"><span class=\"toc-item-num\">5.0.1&nbsp;&nbsp;</span>Config</a></span></li><li><span><a href=\"#Run\" data-toc-modified-id=\"Run-5.0.2\"><span class=\"toc-item-num\">5.0.2&nbsp;&nbsp;</span>Run</a></span></li></ul></li><li><span><a href=\"#Summary\" data-toc-modified-id=\"Summary-5.1\"><span class=\"toc-item-num\">5.1&nbsp;&nbsp;</span>Summary</a></span></li></ul></li><li><span><a href=\"#LLG\" data-toc-modified-id=\"LLG-6\"><span class=\"toc-item-num\">6&nbsp;&nbsp;</span>LLG</a></span><ul class=\"toc-item\"><li><ul class=\"toc-item\"><li><span><a href=\"#Config\" data-toc-modified-id=\"Config-6.0.1\"><span class=\"toc-item-num\">6.0.1&nbsp;&nbsp;</span>Config</a></span></li><li><span><a href=\"#Run\" data-toc-modified-id=\"Run-6.0.2\"><span class=\"toc-item-num\">6.0.2&nbsp;&nbsp;</span>Run</a></span></li></ul></li><li><span><a href=\"#Summary\" data-toc-modified-id=\"Summary-6.1\"><span class=\"toc-item-num\">6.1&nbsp;&nbsp;</span>Summary</a></span><ul class=\"toc-item\"><li><span><a href=\"#CheckM\" data-toc-modified-id=\"CheckM-6.1.1\"><span class=\"toc-item-num\">6.1.1&nbsp;&nbsp;</span>CheckM</a></span></li><li><span><a href=\"#GTDBTK\" data-toc-modified-id=\"GTDBTK-6.1.2\"><span class=\"toc-item-num\">6.1.2&nbsp;&nbsp;</span>GTDBTK</a></span></li></ul></li></ul></li><li><span><a href=\"#ResMiCo-SM\" data-toc-modified-id=\"ResMiCo-SM-7\"><span class=\"toc-item-num\">7&nbsp;&nbsp;</span>ResMiCo-SM</a></span><ul class=\"toc-item\"><li><ul class=\"toc-item\"><li><span><a href=\"#Config\" data-toc-modified-id=\"Config-7.0.1\"><span class=\"toc-item-num\">7.0.1&nbsp;&nbsp;</span>Config</a></span></li><li><span><a href=\"#Run\" data-toc-modified-id=\"Run-7.0.2\"><span class=\"toc-item-num\">7.0.2&nbsp;&nbsp;</span>Run</a></span></li></ul></li><li><span><a href=\"#Summary\" data-toc-modified-id=\"Summary-7.1\"><span class=\"toc-item-num\">7.1&nbsp;&nbsp;</span>Summary</a></span><ul class=\"toc-item\"><li><span><a href=\"#MetaQUAST-results\" data-toc-modified-id=\"MetaQUAST-results-7.1.1\"><span class=\"toc-item-num\">7.1.1&nbsp;&nbsp;</span>MetaQUAST results</a></span></li><li><span><a href=\"#ResMiCo-features\" data-toc-modified-id=\"ResMiCo-features-7.1.2\"><span class=\"toc-item-num\">7.1.2&nbsp;&nbsp;</span>ResMiCo features</a></span></li><li><span><a href=\"#metaMIC\" data-toc-modified-id=\"metaMIC-7.1.3\"><span class=\"toc-item-num\">7.1.3&nbsp;&nbsp;</span>metaMIC</a></span><ul class=\"toc-item\"><li><span><a href=\"#True-misassemblies\" data-toc-modified-id=\"True-misassemblies-7.1.3.1\"><span class=\"toc-item-num\">7.1.3.1&nbsp;&nbsp;</span>True misassemblies</a></span></li><li><span><a href=\"#metaMIC-contig-scores\" data-toc-modified-id=\"metaMIC-contig-scores-7.1.3.2\"><span class=\"toc-item-num\">7.1.3.2&nbsp;&nbsp;</span>metaMIC contig scores</a></span></li><li><span><a href=\"#AUCPR\" data-toc-modified-id=\"AUCPR-7.1.3.3\"><span class=\"toc-item-num\">7.1.3.3&nbsp;&nbsp;</span>AUCPR</a></span></li></ul></li></ul></li></ul></li><li><span><a href=\"#sessionInfo\" data-toc-modified-id=\"sessionInfo-8\"><span class=\"toc-item-num\">8&nbsp;&nbsp;</span>sessionInfo</a></span></li></ul></div>"
   ]
  },
  {
   "cell_type": "markdown",
   "id": "9207940c",
   "metadata": {},
   "source": [
    "# Goal\n",
    "\n",
    "* ResMiCo-SM on CAMI2 HMP-oral dataset\n",
    "  * Using CAMI reference genomes\n",
    "  * Using CAMI reads\n",
    "  * Creating new assemblies via ResMiCo-SM"
   ]
  },
  {
   "cell_type": "markdown",
   "id": "4adf14b1",
   "metadata": {},
   "source": [
    "# Var"
   ]
  },
  {
   "cell_type": "code",
   "execution_count": 5,
   "id": "310e1d58",
   "metadata": {
    "ExecuteTime": {
     "end_time": "2021-10-28T08:28:08.236073Z",
     "start_time": "2021-10-28T08:28:08.209Z"
    }
   },
   "outputs": [],
   "source": [
    "work_dir = '/ebio/abt3_projects/databases_no-backup/CAMI/CAMI2_HMP-skin/short_read/'\n",
    "tmp_dir = '/ebio/abt3_scratch/nyoungblut/CAMI/CAMI2_HMP-skin/'\n",
    "\n",
    "# params\n",
    "threads = 4"
   ]
  },
  {
   "cell_type": "markdown",
   "id": "a5cff9d5",
   "metadata": {},
   "source": [
    "# Init"
   ]
  },
  {
   "cell_type": "code",
   "execution_count": 6,
   "id": "623b04e2",
   "metadata": {
    "ExecuteTime": {
     "end_time": "2021-10-28T08:28:08.465296Z",
     "start_time": "2021-10-28T08:28:08.431Z"
    }
   },
   "outputs": [],
   "source": [
    "library(dplyr)\n",
    "library(tidyr)\n",
    "library(ggplot2)\n",
    "library(data.table)\n",
    "library(tidytable)\n",
    "library(LeyLabRMisc)"
   ]
  },
  {
   "cell_type": "code",
   "execution_count": 7,
   "id": "b31be201",
   "metadata": {
    "ExecuteTime": {
     "end_time": "2021-10-28T08:28:08.581295Z",
     "start_time": "2021-10-28T08:28:08.558Z"
    }
   },
   "outputs": [],
   "source": [
    "library(PRROC)"
   ]
  },
  {
   "cell_type": "code",
   "execution_count": 8,
   "id": "16be16ea",
   "metadata": {
    "ExecuteTime": {
     "end_time": "2021-10-28T08:28:09.511169Z",
     "start_time": "2021-10-28T08:28:09.480Z"
    }
   },
   "outputs": [],
   "source": [
    "df.dims()\n",
    "setDTthreads(threads)"
   ]
  },
  {
   "cell_type": "markdown",
   "id": "0f8abc27",
   "metadata": {},
   "source": [
    "# Dataset summary"
   ]
  },
  {
   "cell_type": "markdown",
   "id": "b1f2ebb9",
   "metadata": {},
   "source": [
    "## Comm. abund. dist\n",
    "\n",
    "* How does the CAMI community abundance distribution look relative to the ResMiCo-SM simulations?"
   ]
  },
  {
   "cell_type": "code",
   "execution_count": 9,
   "id": "6d0ff0d9",
   "metadata": {
    "ExecuteTime": {
     "end_time": "2021-10-28T08:28:11.030561Z",
     "start_time": "2021-10-28T08:28:10.720Z"
    }
   },
   "outputs": [
    {
     "data": {
      "text/html": [
       "<table class=\"dataframe\">\n",
       "<caption>A tidytable: 13940 × 4</caption>\n",
       "<thead>\n",
       "\t<tr><th scope=col>OTU</th><th scope=col>Abundance</th><th scope=col>OTU_rank</th><th scope=col>Sample</th></tr>\n",
       "\t<tr><th scope=col>&lt;chr&gt;</th><th scope=col>&lt;dbl&gt;</th><th scope=col>&lt;int&gt;</th><th scope=col>&lt;chr&gt;</th></tr>\n",
       "</thead>\n",
       "<tbody>\n",
       "\t<tr><td>OTU_97.34268.0</td><td>0</td><td>91</td><td>1</td></tr>\n",
       "\t<tr><td>OTU_97.2666.0 </td><td>0</td><td>92</td><td>1</td></tr>\n",
       "\t<tr><td>⋮</td><td>⋮</td><td>⋮</td><td>⋮</td></tr>\n",
       "\t<tr><td>OTU_97.35249.1</td><td>0.1237235</td><td>  22</td><td>28</td></tr>\n",
       "\t<tr><td>OTU_97.37770.0</td><td>0.0000000</td><td>1394</td><td>28</td></tr>\n",
       "</tbody>\n",
       "</table>\n"
      ],
      "text/latex": [
       "A tidytable: 13940 × 4\n",
       "\\begin{tabular}{llll}\n",
       " OTU & Abundance & OTU\\_rank & Sample\\\\\n",
       " <chr> & <dbl> & <int> & <chr>\\\\\n",
       "\\hline\n",
       "\t OTU\\_97.34268.0 & 0 & 91 & 1\\\\\n",
       "\t OTU\\_97.2666.0  & 0 & 92 & 1\\\\\n",
       "\t ⋮ & ⋮ & ⋮ & ⋮\\\\\n",
       "\t OTU\\_97.35249.1 & 0.1237235 &   22 & 28\\\\\n",
       "\t OTU\\_97.37770.0 & 0.0000000 & 1394 & 28\\\\\n",
       "\\end{tabular}\n"
      ],
      "text/markdown": [
       "\n",
       "A tidytable: 13940 × 4\n",
       "\n",
       "| OTU &lt;chr&gt; | Abundance &lt;dbl&gt; | OTU_rank &lt;int&gt; | Sample &lt;chr&gt; |\n",
       "|---|---|---|---|\n",
       "| OTU_97.34268.0 | 0 | 91 | 1 |\n",
       "| OTU_97.2666.0  | 0 | 92 | 1 |\n",
       "| ⋮ | ⋮ | ⋮ | ⋮ |\n",
       "| OTU_97.35249.1 | 0.1237235 |   22 | 28 |\n",
       "| OTU_97.37770.0 | 0.0000000 | 1394 | 28 |\n",
       "\n"
      ],
      "text/plain": [
       "      OTU            Abundance OTU_rank Sample\n",
       "1     OTU_97.34268.0 0         91       1     \n",
       "2     OTU_97.2666.0  0         92       1     \n",
       "⋮     ⋮              ⋮         ⋮        ⋮     \n",
       "13939 OTU_97.35249.1 0.1237235   22     28    \n",
       "13940 OTU_97.37770.0 0.0000000 1394     28    "
      ]
     },
     "metadata": {},
     "output_type": "display_data"
    }
   ],
   "source": [
    "F = list.files(work_dir, 'abund.+.tsv', full.names=TRUE)\n",
    "read_table = function(F){\n",
    "    df = Fread(F) %>%\n",
    "        mutate(OTU_rank = row_number(-V2)) \n",
    "    df$Sample = gsub('abundance([0-9]+).+', '\\\\1', basename(F))\n",
    "    return(df)\n",
    "}\n",
    "\n",
    "comm = F %>%\n",
    "    lapply(read_table) %>%\n",
    "    rbindlist(use.names=TRUE) %>%\n",
    "    rename.('OTU' = V1,\n",
    "            'Abundance' = V2)\n",
    "comm"
   ]
  },
  {
   "cell_type": "code",
   "execution_count": 10,
   "id": "abeefeeb",
   "metadata": {
    "ExecuteTime": {
     "end_time": "2021-10-28T08:28:13.790189Z",
     "start_time": "2021-10-28T08:28:13.743Z"
    }
   },
   "outputs": [
    {
     "data": {
      "text/html": [
       "<table class=\"dataframe\">\n",
       "<caption>A matrix: 1 × 8 of type dbl</caption>\n",
       "<thead>\n",
       "\t<tr><th></th><th scope=col>Min.</th><th scope=col>1st Qu.</th><th scope=col>Median</th><th scope=col>Mean</th><th scope=col>3rd Qu.</th><th scope=col>Max.</th><th scope=col>sd</th><th scope=col>sd_err_of_mean</th></tr>\n",
       "</thead>\n",
       "<tbody>\n",
       "\t<tr><th scope=row>Abundance</th><td>0</td><td>0</td><td>0</td><td>0.3971306</td><td>0</td><td>876</td><td>357.593</td><td>145.987</td></tr>\n",
       "</tbody>\n",
       "</table>\n"
      ],
      "text/latex": [
       "A matrix: 1 × 8 of type dbl\n",
       "\\begin{tabular}{r|llllllll}\n",
       "  & Min. & 1st Qu. & Median & Mean & 3rd Qu. & Max. & sd & sd\\_err\\_of\\_mean\\\\\n",
       "\\hline\n",
       "\tAbundance & 0 & 0 & 0 & 0.3971306 & 0 & 876 & 357.593 & 145.987\\\\\n",
       "\\end{tabular}\n"
      ],
      "text/markdown": [
       "\n",
       "A matrix: 1 × 8 of type dbl\n",
       "\n",
       "| <!--/--> | Min. | 1st Qu. | Median | Mean | 3rd Qu. | Max. | sd | sd_err_of_mean |\n",
       "|---|---|---|---|---|---|---|---|---|\n",
       "| Abundance | 0 | 0 | 0 | 0.3971306 | 0 | 876 | 357.593 | 145.987 |\n",
       "\n"
      ],
      "text/plain": [
       "          Min. 1st Qu. Median Mean      3rd Qu. Max. sd      sd_err_of_mean\n",
       "Abundance 0    0       0      0.3971306 0       876  357.593 145.987       "
      ]
     },
     "metadata": {},
     "output_type": "display_data"
    },
    {
     "data": {
      "text/html": [
       "<table class=\"dataframe\">\n",
       "<caption>A matrix: 1 × 8 of type dbl</caption>\n",
       "<thead>\n",
       "\t<tr><th></th><th scope=col>Min.</th><th scope=col>1st Qu.</th><th scope=col>Median</th><th scope=col>Mean</th><th scope=col>3rd Qu.</th><th scope=col>Max.</th><th scope=col>sd</th><th scope=col>sd_err_of_mean</th></tr>\n",
       "</thead>\n",
       "<tbody>\n",
       "\t<tr><th scope=row>OTU_rank</th><td>1</td><td>349</td><td>697.5</td><td>697.5</td><td>1046</td><td>1394</td><td>492.571</td><td>201.091</td></tr>\n",
       "</tbody>\n",
       "</table>\n"
      ],
      "text/latex": [
       "A matrix: 1 × 8 of type dbl\n",
       "\\begin{tabular}{r|llllllll}\n",
       "  & Min. & 1st Qu. & Median & Mean & 3rd Qu. & Max. & sd & sd\\_err\\_of\\_mean\\\\\n",
       "\\hline\n",
       "\tOTU\\_rank & 1 & 349 & 697.5 & 697.5 & 1046 & 1394 & 492.571 & 201.091\\\\\n",
       "\\end{tabular}\n"
      ],
      "text/markdown": [
       "\n",
       "A matrix: 1 × 8 of type dbl\n",
       "\n",
       "| <!--/--> | Min. | 1st Qu. | Median | Mean | 3rd Qu. | Max. | sd | sd_err_of_mean |\n",
       "|---|---|---|---|---|---|---|---|---|\n",
       "| OTU_rank | 1 | 349 | 697.5 | 697.5 | 1046 | 1394 | 492.571 | 201.091 |\n",
       "\n"
      ],
      "text/plain": [
       "         Min. 1st Qu. Median Mean  3rd Qu. Max. sd      sd_err_of_mean\n",
       "OTU_rank 1    349     697.5  697.5 1046    1394 492.571 201.091       "
      ]
     },
     "metadata": {},
     "output_type": "display_data"
    }
   ],
   "source": [
    "# abundance distribution\n",
    "summary_x(comm$Abundance)\n",
    "summary_x(comm$OTU_rank)"
   ]
  },
  {
   "cell_type": "code",
   "execution_count": 11,
   "id": "c666b004",
   "metadata": {
    "ExecuteTime": {
     "end_time": "2021-10-28T08:28:15.098089Z",
     "start_time": "2021-10-28T08:28:14.992Z"
    }
   },
   "outputs": [
    {
     "data": {
      "text/html": [
       "<table class=\"dataframe\">\n",
       "<caption>A tidytable: 300 × 3</caption>\n",
       "<thead>\n",
       "\t<tr><th scope=col>Abundance_null</th><th scope=col>OTU</th><th scope=col>dataset</th></tr>\n",
       "\t<tr><th scope=col>&lt;dbl&gt;</th><th scope=col>&lt;int&gt;</th><th scope=col>&lt;chr&gt;</th></tr>\n",
       "</thead>\n",
       "<tbody>\n",
       "\t<tr><td>0.003413886</td><td>100</td><td>mean=10,sd=2</td></tr>\n",
       "\t<tr><td>0.008265832</td><td> 99</td><td>mean=10,sd=2</td></tr>\n",
       "\t<tr><td>⋮</td><td>⋮</td><td>⋮</td></tr>\n",
       "\t<tr><td>10.69191</td><td>2</td><td>mean=10,sd=2</td></tr>\n",
       "\t<tr><td>21.04525</td><td>1</td><td>mean=10,sd=2</td></tr>\n",
       "</tbody>\n",
       "</table>\n"
      ],
      "text/latex": [
       "A tidytable: 300 × 3\n",
       "\\begin{tabular}{lll}\n",
       " Abundance\\_null & OTU & dataset\\\\\n",
       " <dbl> & <int> & <chr>\\\\\n",
       "\\hline\n",
       "\t 0.003413886 & 100 & mean=10,sd=2\\\\\n",
       "\t 0.008265832 &  99 & mean=10,sd=2\\\\\n",
       "\t ⋮ & ⋮ & ⋮\\\\\n",
       "\t 10.69191 & 2 & mean=10,sd=2\\\\\n",
       "\t 21.04525 & 1 & mean=10,sd=2\\\\\n",
       "\\end{tabular}\n"
      ],
      "text/markdown": [
       "\n",
       "A tidytable: 300 × 3\n",
       "\n",
       "| Abundance_null &lt;dbl&gt; | OTU &lt;int&gt; | dataset &lt;chr&gt; |\n",
       "|---|---|---|\n",
       "| 0.003413886 | 100 | mean=10,sd=2 |\n",
       "| 0.008265832 |  99 | mean=10,sd=2 |\n",
       "| ⋮ | ⋮ | ⋮ |\n",
       "| 10.69191 | 2 | mean=10,sd=2 |\n",
       "| 21.04525 | 1 | mean=10,sd=2 |\n",
       "\n"
      ],
      "text/plain": [
       "    Abundance_null OTU dataset     \n",
       "1   0.003413886    100 mean=10,sd=2\n",
       "2   0.008265832     99 mean=10,sd=2\n",
       "⋮   ⋮              ⋮   ⋮           \n",
       "299 10.69191       2   mean=10,sd=2\n",
       "300 21.04525       1   mean=10,sd=2"
      ]
     },
     "metadata": {},
     "output_type": "display_data"
    }
   ],
   "source": [
    "# null\n",
    "n_taxa = 100\n",
    "df0 = data.frame(Abundance_null = rlnorm(n_taxa, meanlog=2, sdlog=0.5)) %>%\n",
    "    mutate(OTU = row_number(-Abundance_null)) %>%\n",
    "    mutate.(Abundance_null = Abundance_null / sum(Abundance_null) * 100,\n",
    "            dataset = 'mean=10,sd=0.5')\n",
    "df1 = data.frame(Abundance_null = rlnorm(n_taxa, meanlog=2, sdlog=1)) %>%\n",
    "    mutate(OTU = row_number(-Abundance_null)) %>%\n",
    "    mutate.(Abundance_null = Abundance_null / sum(Abundance_null) * 100,\n",
    "            dataset = 'mean=10,sd=1')\n",
    "df2 = data.frame(Abundance_null = rlnorm(n_taxa, meanlog=2, sdlog=2)) %>%\n",
    "    mutate(OTU = row_number(-Abundance_null)) %>%\n",
    "    mutate.(Abundance_null = Abundance_null / sum(Abundance_null) * 100,\n",
    "            dataset = 'mean=10,sd=2')\n",
    "df = rbindlist(list(df0, df1, df2), use.names=TRUE)\n",
    "df %>% arrange.(Abundance_null)"
   ]
  },
  {
   "cell_type": "code",
   "execution_count": 12,
   "id": "fc5c77a7",
   "metadata": {
    "ExecuteTime": {
     "end_time": "2021-10-28T08:28:18.034402Z",
     "start_time": "2021-10-28T08:28:16.159Z"
    }
   },
   "outputs": [
    {
     "name": "stdout",
     "output_type": "stream",
     "text": [
      "No. of unique OTUs: 610 \n"
     ]
    },
    {
     "name": "stderr",
     "output_type": "stream",
     "text": [
      "Warning message:\n",
      "“Transformation introduced infinite values in continuous y-axis”\n"
     ]
    },
    {
     "data": {
      "image/png": "[encoded data removed]",
      "text/plain": [
       "plot without title"
      ]
     },
     "metadata": {
      "image/png": {
       "height": 500,
       "width": 800
      }
     },
     "output_type": "display_data"
    }
   ],
   "source": [
    "# plotting\n",
    " comm %>%\n",
    "    summarize.(sum_abund = sum(Abundance),\n",
    "            .by=c(OTU)) %>%\n",
    "    filter.(sum_abund > 0) %>%\n",
    "    .$OTU %>% unique_n('OTUs')\n",
    "\n",
    "p = comm %>%\n",
    "    mutate.(OTU = OTU_rank) %>%\n",
    "    mutate.(sum_abund = sum(Abundance),\n",
    "            .by=c(OTU)) %>%\n",
    "    filter.(sum_abund > 0) %>%\n",
    "    mutate.(Sample = Sample %>% reorder(Sample %>% as.Num)) %>%\n",
    "    inner_join.(df, c('OTU'='OTU')) %>%\n",
    "    ggplot(aes(OTU, Abundance)) +\n",
    "    geom_line(aes(y=Abundance_null, color=dataset), size=0.5) +\n",
    "    geom_point(size=0.5) +\n",
    "    scale_color_discrete('Lognorm params') +\n",
    "    scale_y_log10() +\n",
    "    labs(y='% abundance') +\n",
    "    facet_wrap(~ Sample) +\n",
    "    theme_bw() +\n",
    "    theme(\n",
    "        panel.grid = element_blank()\n",
    "    )\n",
    "p.dims(8,5)\n",
    "plot(p)"
   ]
  },
  {
   "cell_type": "markdown",
   "id": "a70a1c28",
   "metadata": {},
   "source": [
    "# LLMGP\n",
    "\n",
    "* Checking abundance distributions of the reads"
   ]
  },
  {
   "cell_type": "markdown",
   "id": "827cbf9c",
   "metadata": {},
   "source": [
    "### Config"
   ]
  },
  {
   "cell_type": "code",
   "execution_count": 13,
   "id": "06999552",
   "metadata": {
    "ExecuteTime": {
     "end_time": "2021-10-28T08:30:37.821668Z",
     "start_time": "2021-10-28T08:30:37.774Z"
    }
   },
   "outputs": [
    {
     "name": "stdout",
     "output_type": "stream",
     "text": [
      "# DESCRIPTION:\n",
      "## This is an example of running the pipeline with a custom humann2 db.\n",
      "## This config is set up to just use the custom nucleotide db, but the protein db could be used also (or instead)\n",
      "\n",
      "#-- I/O --#\n",
      "# table with sample --> read_file information\n",
      "samples_file: /ebio/abt3_scratch/nyoungblut/CAMI/CAMI2_HMP-skin/samples.tsv\n",
      "\n",
      "# output location\n",
      "output_dir:  /ebio/abt3_projects/databases_no-backup/DeepMAsED/version2/CAMI/CAMI2_HMP-skin/short_read/LLMGP/\n",
      "\n",
      "# temporary file directory (your username will be added automatically)\n",
      "tmp_dir: /ebio/abt3_scratch/\n",
      "\n",
      "# read file path\n",
      "# use \"None\" if full file path is included in the samples_file\n",
      "read_file_path: None\n",
      "\n",
      "#-- DB --#\n",
      "# NOTE: the humann & kraken databases were built from the GTDB\n",
      "## humann3\n",
      "humann3_dbs:\n",
      "  metaphlan3_mpa_db: /ebio/abt3_projects/databases_no-backup/metaphlan3/201901/mpa_v30_CHOCOPhlAn_201901_marker_info.txt\n",
      "  nuc_db: /ebio/abt3_projects/databases_no-backup/GTDB/release202/Struo2/humann3/uniref50/genome_reps_filt_annot.fna.gz\n",
      "  prot_db: /ebio/abt3_projects/databases_no-backup/GTDB/release202/Struo2/humann3/uniref50/protein_database/uniref50_201901.dmnd\n",
      "  utility_mapping_db: /ebio/abt3_projects/databases_no-backup/humann3/201901/utility_mapping/README.md\n",
      "  genefamily_annotation_db: /ebio/abt3_projects/databases_no-backup/humann3/201901/utility_mapping/map_uniref50_name.txt.gz\n",
      "## kraken/bracken (db selected automatically based on read length)\n",
      "kraken_dbs:\n",
      "  hash: /ebio/abt3_projects/databases_no-backup/GTDB/release202/Struo2/kraken2/hash.k2d\n",
      "  opts: /ebio/abt3_projects/databases_no-backup/GTDB/release202/Struo2/kraken2/opts.k2d\n",
      "  taxo: /ebio/abt3_projects/databases_no-backup/GTDB/release202/Struo2/kraken2/taxo.k2d\n",
      "  taxdump: /ebio/abt3_projects/databases_no-backup/GTDB/release202/taxdump/names.dmp\n",
      "  tree: /ebio/abt3_projects/databases_no-backup/GTDB/release202/Struo2/phylogeny/kraken.nwk \n",
      "bracken_dbs:\n",
      "  150: /ebio/abt3_projects/databases_no-backup/GTDB/release202/Struo2/kraken2/database150mers.kmer_distrib\n",
      "  100: /ebio/abt3_projects/databases_no-backup/GTDB/release202/Struo2/kraken2/database100mers.kmer_distrib\n",
      "genome_content_dbs:\n",
      "  cog: /ebio/abt3_projects/databases_no-backup/GTDB/release202/Struo2/genome_content/uniref90_cog-categories.tsv\n",
      "  pfam: /ebio/abt3_projects/databases_no-backup/GTDB/release202/Struo2/genome_content/uniref90_pfam-categories.tsv\n",
      "  traitar: /ebio/abt3_projects/databases_no-backup/GTDB/release202/Struo2/genome_content/traitar_majority-votes.tsv\n",
      "# EukDetect\n",
      "eukdetect_dbs:\n",
      "  bt2: /ebio/abt3_projects/databases_no-backup/EukDetect/eukdetect_database_v1/all_buscos_v4.fna\n",
      "  taxid: /ebio/abt3_projects/databases_no-backup/EukDetect/eukdetect_database_v1/busco_taxid_link.txt\n",
      "  markers: /ebio/abt3_projects/databases_no-backup/EukDetect/eukdetect_database_v1/specific_and_inherited_markers_per_taxid.txt\n",
      "  sqlite: /ebio/abt3_projects/databases_no-backup/EukDetect/eukdetect_database_v1/taxa.sqlite\n",
      "# raspir\n",
      "raspir_dbs:\n",
      "  fasta: /ebio/abt3_projects/databases_no-backup/raspir/bacteria-archaea/complete_bac-arc_201910_3.fasta.gz\n",
      "\n",
      "#-- subsample --#\n",
      "# subsampling input reads \n",
      "## \"Skip\" skips subsampling; otherwise set the number of reads to subsample\n",
      "subsample_depth: 5000000\n",
      "subsample_seed: 18938\n",
      "\n",
      "#-- include read2 (if paired-end) --#\n",
      "# combine R1 & R2 or just use R1?\n",
      "include_read2: True\n",
      "\n",
      "#-- humann3 groupings --#\n",
      "# always have at least the \"*_default\" grouping\n",
      "humann_regroup:\n",
      "  - uniref50_default\n",
      "  - uniref50_go\n",
      "  - uniref50_ko\n",
      "  - uniref50_eggnog\n",
      "  - uniref50_pfam\n",
      "  - uniref50_level4ec\n",
      "  - uniref50_rxn\n",
      "\n",
      "#-- master control --#\n",
      "# high-level control of major pipeline steps\n",
      "run_humann3: Skip #True\n",
      "run_kraken2_bracken: True\n",
      "run_simka: Skip #True\n",
      "run_hulk: Skip #True\n",
      "run_raspir: Skip #True\n",
      "run_eukdetect: Skip #True\n",
      "\n",
      "#-- software parameters --#\n",
      "# Use \"Skip\" to skip particular steps\n",
      "params:\n",
      "  ionice: -c 3  \n",
      "  # humann3\n",
      "  metaphlan3: -t rel_ab\n",
      "  humann3:\n",
      "    run: --gap-fill on --bypass-nucleotide-index --search-mode uniref50 --memory-use maximum --remove-temp-output\n",
      "    diamond: --mid-sensitive --query-cover 80 --id 50 --max-target-seqs 1 --block-size 4 --index-chunks 2 \n",
      "    diamond_evalue: 0.001\n",
      "    reduce_taxonomic_profile: --function max --sort-by level\n",
      "    renorm_table: --units relab\n",
      "    diversity:\n",
      "      pathway_coverage_cutoff: 0.8  # pathways w/ < coverage changed to 0\n",
      "      rarefy_depths:           # multiple rarefying depths allowed\n",
      "        - Skip\n",
      "        - 100000\n",
      "        - 500000\n",
      "      rarefy_params: flexible\n",
      "      alpha_metrics:\n",
      "        - shannon\n",
      "        - pielou_e\n",
      "      beta_metrics:\n",
      "        - braycurtis\n",
      "        - jaccard\n",
      "  # kraken/bracken\n",
      "  krk_brk:\n",
      "    kraken: \"\"\n",
      "    bracken: -t 10 -l S        # species level (S); `-r` parameter set automatically\n",
      "    diversity:\n",
      "      rarefy_depths:           # multiple rarefying depths allowed\n",
      "        - Skip\n",
      "        - 50000\n",
      "      rarefy_params: --p-no-with-replacement\n",
      "      alpha_metrics:\n",
      "        - shannon\n",
      "        - pielou_e\n",
      "      alpha_phylo_metrics:\n",
      "        - faith_pd\n",
      "      beta_metrics:\n",
      "        - braycurtis\n",
      "        - jaccard\n",
      "      beta_phylo_metrics:\n",
      "        - weighted_unifrac    \n",
      "        - unweighted_unifrac\n",
      "      ecophylogenetic: \"\"\n",
      "      functional: Skip\n",
      "      hill:\n",
      "        taxa: --hill-number 0 1 2\n",
      "        phylogeny: --hill-number 0 1 2\n",
      "        function: --hill-number 0 1 2\n",
      "  # simka \n",
      "  simka:\n",
      "    run: -kmer-size 31 -abundance-min 2 -simple-dist -max-reads 1000000\n",
      "    vis: -width 8 -height 8 -pca -heatmap\n",
      "  # hulk\n",
      "  hulk:\n",
      "    histosketch: -k 21 -m 2\n",
      "    distance: \n",
      "      - jaccard\n",
      "      - braycurtis\n",
      "  # raspir\n",
      "  raspir:\n",
      "    run: \"\"\n",
      "  # EukDetect\n",
      "  eukdetect:\n",
      "    min_read_len: 80\n",
      "\n",
      "#-- snakemake pipeline --#\n",
      "pipeline:\n",
      "  snakemake_folder: ./\n",
      "  script_folder: ./bin/scripts/\n",
      "  name: LLMGP"
     ]
    }
   ],
   "source": [
    "F = file.path(work_dir, 'LLMGP', 'config_custom-db_r202.yaml')\n",
    "cat_file(F)"
   ]
  },
  {
   "cell_type": "markdown",
   "id": "d68f7707",
   "metadata": {},
   "source": [
    "### Run"
   ]
  },
  {
   "cell_type": "markdown",
   "id": "99366ed2",
   "metadata": {},
   "source": [
    "```\n",
    "(snakemake) @ rick:/ebio/abt3_projects/software/dev/ll_pipelines/llmgp\n",
    "$ screen -L -S llmgp-cami-skin ./snakemake_sge.sh /ebio/abt3_projects/databases_no-backup/DeepMAsED/version2/CAMI/CAMI2_HMP-skin/short_read/LLMGP/config_custom-db_r202.yaml 20 -F\n",
    "```"
   ]
  },
  {
   "cell_type": "markdown",
   "id": "10d5529d",
   "metadata": {},
   "source": [
    "## Summary"
   ]
  },
  {
   "cell_type": "code",
   "execution_count": 14,
   "id": "464e95cc",
   "metadata": {
    "ExecuteTime": {
     "end_time": "2021-10-28T10:32:16.770927Z",
     "start_time": "2021-10-28T10:32:16.479Z"
    }
   },
   "outputs": [
    {
     "data": {
      "text/html": [
       "<table class=\"dataframe\">\n",
       "<caption>A tidytable: 46730 × 12</caption>\n",
       "<thead>\n",
       "\t<tr><th scope=col>name</th><th scope=col>taxonomy_id</th><th scope=col>taxonomy_lvl</th><th scope=col>Domain</th><th scope=col>Phylum</th><th scope=col>Class</th><th scope=col>Order</th><th scope=col>Family</th><th scope=col>Genus</th><th scope=col>Species</th><th scope=col>Sample</th><th scope=col>Abundance</th></tr>\n",
       "\t<tr><th scope=col>&lt;chr&gt;</th><th scope=col>&lt;int&gt;</th><th scope=col>&lt;chr&gt;</th><th scope=col>&lt;chr&gt;</th><th scope=col>&lt;chr&gt;</th><th scope=col>&lt;chr&gt;</th><th scope=col>&lt;chr&gt;</th><th scope=col>&lt;chr&gt;</th><th scope=col>&lt;chr&gt;</th><th scope=col>&lt;chr&gt;</th><th scope=col>&lt;chr&gt;</th><th scope=col>&lt;dbl&gt;</th></tr>\n",
       "</thead>\n",
       "<tbody>\n",
       "\t<tr><td>s__Epulopiscium_B sp002007295   </td><td>268279</td><td>S</td><td>Bacteria</td><td>Firmicutes_A</td><td>Clostridia</td><td>Lachnospirales</td><td>Cellulosilyticaceae</td><td>Epulopiscium_B   </td><td>Epulopiscium_B sp002007295   </td><td>X2017_12_04_18_56_22_sample_19</td><td>0</td></tr>\n",
       "\t<tr><td>s__Lachnoclostridium sp003526525</td><td>282324</td><td>S</td><td>Bacteria</td><td>Firmicutes_A</td><td>Clostridia</td><td>Lachnospirales</td><td>Lachnospiraceae    </td><td>Lachnoclostridium</td><td>Lachnoclostridium sp003526525</td><td>X2017_12_04_18_56_22_sample_19</td><td>0</td></tr>\n",
       "\t<tr><td>⋮</td><td>⋮</td><td>⋮</td><td>⋮</td><td>⋮</td><td>⋮</td><td>⋮</td><td>⋮</td><td>⋮</td><td>⋮</td><td>⋮</td><td>⋮</td></tr>\n",
       "\t<tr><td>s__Streptomyces sp001514305</td><td>265552</td><td>S</td><td>Bacteria</td><td>Actinobacteriota</td><td>Actinomycetia</td><td>Streptomycetales</td><td>Streptomycetaceae</td><td>Streptomyces</td><td>Streptomyces sp001514305</td><td>X2017_12_04_18_56_22_sample_16</td><td>0</td></tr>\n",
       "\t<tr><td>s__Bacillus_A tropicus     </td><td>149106</td><td>S</td><td>Bacteria</td><td>Firmicutes      </td><td>Bacilli      </td><td>Bacillales      </td><td>Bacillaceae_G    </td><td>Bacillus_A  </td><td>Bacillus_A tropicus     </td><td>X2017_12_04_18_56_22_sample_16</td><td>0</td></tr>\n",
       "</tbody>\n",
       "</table>\n"
      ],
      "text/latex": [
       "A tidytable: 46730 × 12\n",
       "\\begin{tabular}{llllllllllll}\n",
       " name & taxonomy\\_id & taxonomy\\_lvl & Domain & Phylum & Class & Order & Family & Genus & Species & Sample & Abundance\\\\\n",
       " <chr> & <int> & <chr> & <chr> & <chr> & <chr> & <chr> & <chr> & <chr> & <chr> & <chr> & <dbl>\\\\\n",
       "\\hline\n",
       "\t s\\_\\_Epulopiscium\\_B sp002007295    & 268279 & S & Bacteria & Firmicutes\\_A & Clostridia & Lachnospirales & Cellulosilyticaceae & Epulopiscium\\_B    & Epulopiscium\\_B sp002007295    & X2017\\_12\\_04\\_18\\_56\\_22\\_sample\\_19 & 0\\\\\n",
       "\t s\\_\\_Lachnoclostridium sp003526525 & 282324 & S & Bacteria & Firmicutes\\_A & Clostridia & Lachnospirales & Lachnospiraceae     & Lachnoclostridium & Lachnoclostridium sp003526525 & X2017\\_12\\_04\\_18\\_56\\_22\\_sample\\_19 & 0\\\\\n",
       "\t ⋮ & ⋮ & ⋮ & ⋮ & ⋮ & ⋮ & ⋮ & ⋮ & ⋮ & ⋮ & ⋮ & ⋮\\\\\n",
       "\t s\\_\\_Streptomyces sp001514305 & 265552 & S & Bacteria & Actinobacteriota & Actinomycetia & Streptomycetales & Streptomycetaceae & Streptomyces & Streptomyces sp001514305 & X2017\\_12\\_04\\_18\\_56\\_22\\_sample\\_16 & 0\\\\\n",
       "\t s\\_\\_Bacillus\\_A tropicus      & 149106 & S & Bacteria & Firmicutes       & Bacilli       & Bacillales       & Bacillaceae\\_G     & Bacillus\\_A   & Bacillus\\_A tropicus      & X2017\\_12\\_04\\_18\\_56\\_22\\_sample\\_16 & 0\\\\\n",
       "\\end{tabular}\n"
      ],
      "text/markdown": [
       "\n",
       "A tidytable: 46730 × 12\n",
       "\n",
       "| name &lt;chr&gt; | taxonomy_id &lt;int&gt; | taxonomy_lvl &lt;chr&gt; | Domain &lt;chr&gt; | Phylum &lt;chr&gt; | Class &lt;chr&gt; | Order &lt;chr&gt; | Family &lt;chr&gt; | Genus &lt;chr&gt; | Species &lt;chr&gt; | Sample &lt;chr&gt; | Abundance &lt;dbl&gt; |\n",
       "|---|---|---|---|---|---|---|---|---|---|---|---|\n",
       "| s__Epulopiscium_B sp002007295    | 268279 | S | Bacteria | Firmicutes_A | Clostridia | Lachnospirales | Cellulosilyticaceae | Epulopiscium_B    | Epulopiscium_B sp002007295    | X2017_12_04_18_56_22_sample_19 | 0 |\n",
       "| s__Lachnoclostridium sp003526525 | 282324 | S | Bacteria | Firmicutes_A | Clostridia | Lachnospirales | Lachnospiraceae     | Lachnoclostridium | Lachnoclostridium sp003526525 | X2017_12_04_18_56_22_sample_19 | 0 |\n",
       "| ⋮ | ⋮ | ⋮ | ⋮ | ⋮ | ⋮ | ⋮ | ⋮ | ⋮ | ⋮ | ⋮ | ⋮ |\n",
       "| s__Streptomyces sp001514305 | 265552 | S | Bacteria | Actinobacteriota | Actinomycetia | Streptomycetales | Streptomycetaceae | Streptomyces | Streptomyces sp001514305 | X2017_12_04_18_56_22_sample_16 | 0 |\n",
       "| s__Bacillus_A tropicus      | 149106 | S | Bacteria | Firmicutes       | Bacilli       | Bacillales       | Bacillaceae_G     | Bacillus_A   | Bacillus_A tropicus      | X2017_12_04_18_56_22_sample_16 | 0 |\n",
       "\n"
      ],
      "text/plain": [
       "      name                             taxonomy_id taxonomy_lvl Domain  \n",
       "1     s__Epulopiscium_B sp002007295    268279      S            Bacteria\n",
       "2     s__Lachnoclostridium sp003526525 282324      S            Bacteria\n",
       "⋮     ⋮                                ⋮           ⋮            ⋮       \n",
       "46729 s__Streptomyces sp001514305      265552      S            Bacteria\n",
       "46730 s__Bacillus_A tropicus           149106      S            Bacteria\n",
       "      Phylum           Class         Order            Family             \n",
       "1     Firmicutes_A     Clostridia    Lachnospirales   Cellulosilyticaceae\n",
       "2     Firmicutes_A     Clostridia    Lachnospirales   Lachnospiraceae    \n",
       "⋮     ⋮                ⋮             ⋮                ⋮                  \n",
       "46729 Actinobacteriota Actinomycetia Streptomycetales Streptomycetaceae  \n",
       "46730 Firmicutes       Bacilli       Bacillales       Bacillaceae_G      \n",
       "      Genus             Species                      \n",
       "1     Epulopiscium_B    Epulopiscium_B sp002007295   \n",
       "2     Lachnoclostridium Lachnoclostridium sp003526525\n",
       "⋮     ⋮                 ⋮                            \n",
       "46729 Streptomyces      Streptomyces sp001514305     \n",
       "46730 Bacillus_A        Bacillus_A tropicus          \n",
       "      Sample                         Abundance\n",
       "1     X2017_12_04_18_56_22_sample_19 0        \n",
       "2     X2017_12_04_18_56_22_sample_19 0        \n",
       "⋮     ⋮                              ⋮        \n",
       "46729 X2017_12_04_18_56_22_sample_16 0        \n",
       "46730 X2017_12_04_18_56_22_sample_16 0        "
      ]
     },
     "metadata": {},
     "output_type": "display_data"
    }
   ],
   "source": [
    "D = '/ebio/abt3_projects/databases_no-backup/DeepMAsED/version2/CAMI/CAMI2_HMP-skin/short_read/LLMGP/'\n",
    "F = file.path(D, 'kraken', 'all-combined-bracken.tsv')\n",
    "brk = read_bracken(F)\n",
    "brk"
   ]
  },
  {
   "cell_type": "code",
   "execution_count": 15,
   "id": "63a3f2af",
   "metadata": {
    "ExecuteTime": {
     "end_time": "2021-10-28T10:32:19.026803Z",
     "start_time": "2021-10-28T10:32:17.917Z"
    }
   },
   "outputs": [
    {
     "data": {
      "image/png": "[encoded data removed]",
      "text/plain": [
       "plot without title"
      ]
     },
     "metadata": {
      "image/png": {
       "height": 500,
       "width": 800
      }
     },
     "output_type": "display_data"
    }
   ],
   "source": [
    "# plotting\n",
    "p = brk %>%\n",
    "    filter.(Abundance > 0) %>%\n",
    "    mutate.(Abundance = Abundance * 100) %>%\n",
    "    mutate.(Rank = min_rank(-Abundance),\n",
    "            .by=c(Sample)) %>%\n",
    "    mutate.(Sample = gsub('.+_', '', Sample)) %>%\n",
    "    ggplot(aes(Rank, Abundance)) +\n",
    "    geom_point(size=0.2) +\n",
    "    scale_y_log10() +\n",
    "    labs(y='Abundance (%)') +\n",
    "    facet_wrap(~ Sample) +\n",
    "    theme_bw()\n",
    "p.dims(8,5)\n",
    "plot(p)"
   ]
  },
  {
   "cell_type": "code",
   "execution_count": 17,
   "id": "e47a6548",
   "metadata": {
    "ExecuteTime": {
     "end_time": "2021-10-28T10:33:12.108094Z",
     "start_time": "2021-10-28T10:33:12.040Z"
    }
   },
   "outputs": [
    {
     "data": {
      "text/html": [
       "<table class=\"dataframe\">\n",
       "<caption>A tidytable: 15 × 7</caption>\n",
       "<thead>\n",
       "\t<tr><th scope=col>Phylum</th><th scope=col>Class</th><th scope=col>Order</th><th scope=col>Family</th><th scope=col>Genus</th><th scope=col>Species</th><th scope=col>Abundance</th></tr>\n",
       "\t<tr><th scope=col>&lt;chr&gt;</th><th scope=col>&lt;chr&gt;</th><th scope=col>&lt;chr&gt;</th><th scope=col>&lt;chr&gt;</th><th scope=col>&lt;chr&gt;</th><th scope=col>&lt;chr&gt;</th><th scope=col>&lt;dbl&gt;</th></tr>\n",
       "</thead>\n",
       "<tbody>\n",
       "\t<tr><td>Firmicutes      </td><td>Bacilli            </td><td>Staphylococcales   </td><td>Staphylococcaceae   </td><td>Staphylococcus   </td><td>Staphylococcus aureus           </td><td>0.478200</td></tr>\n",
       "\t<tr><td>Actinobacteriota</td><td>Actinomycetia      </td><td>Propionibacteriales</td><td>Propionibacteriaceae</td><td>Propionibacterium</td><td>Propionibacterium freudenreichii</td><td>0.062416</td></tr>\n",
       "\t<tr><td>Firmicutes      </td><td>Bacilli            </td><td>Staphylococcales   </td><td>Staphylococcaceae   </td><td>Staphylococcus   </td><td>Staphylococcus lugdunensis      </td><td>0.044374</td></tr>\n",
       "\t<tr><td>Proteobacteria  </td><td>Gammaproteobacteria</td><td>Burkholderiales    </td><td>Neisseriaceae       </td><td>Neisseria        </td><td>Neisseria meningitidis          </td><td>0.028056</td></tr>\n",
       "\t<tr><td>Firmicutes      </td><td>Bacilli            </td><td>Staphylococcales   </td><td>Staphylococcaceae   </td><td>Staphylococcus   </td><td>Staphylococcus warneri          </td><td>0.023332</td></tr>\n",
       "\t<tr><td>Firmicutes_A    </td><td>Clostridia         </td><td>Tissierellales     </td><td>Peptoniphilaceae    </td><td>Finegoldia       </td><td>Finegoldia magna_H              </td><td>0.019346</td></tr>\n",
       "\t<tr><td>Actinobacteriota</td><td>Actinomycetia      </td><td>Mycobacteriales    </td><td>Mycobacteriaceae    </td><td>Corynebacterium  </td><td>Corynebacterium glutamicum      </td><td>0.017744</td></tr>\n",
       "\t<tr><td>Firmicutes      </td><td>Bacilli            </td><td>Staphylococcales   </td><td>Staphylococcaceae   </td><td>Staphylococcus   </td><td>Staphylococcus argenteus        </td><td>0.015225</td></tr>\n",
       "\t<tr><td>Firmicutes      </td><td>Bacilli            </td><td>Staphylococcales   </td><td>Staphylococcaceae   </td><td>Staphylococcus   </td><td>Staphylococcus schweitzeri      </td><td>0.013645</td></tr>\n",
       "\t<tr><td>Firmicutes      </td><td>Bacilli            </td><td>Lactobacillales    </td><td>Streptococcaceae    </td><td>Streptococcus    </td><td>Streptococcus pneumoniae        </td><td>0.010661</td></tr>\n",
       "\t<tr><td>Firmicutes      </td><td>Bacilli            </td><td>Staphylococcales   </td><td>Staphylococcaceae   </td><td>Staphylococcus   </td><td>Staphylococcus epidermidis      </td><td>0.010160</td></tr>\n",
       "\t<tr><td>Firmicutes      </td><td>Bacilli            </td><td>Staphylococcales   </td><td>Staphylococcaceae   </td><td>Staphylococcus   </td><td>Staphylococcus coagulans        </td><td>0.009422</td></tr>\n",
       "\t<tr><td>Firmicutes      </td><td>Bacilli            </td><td>Lactobacillales    </td><td>Streptococcaceae    </td><td>Streptococcus    </td><td>Streptococcus pyogenes          </td><td>0.008073</td></tr>\n",
       "\t<tr><td>Actinobacteriota</td><td>Actinomycetia      </td><td>Propionibacteriales</td><td>Nocardioidaceae     </td><td>Nocardioides     </td><td>Nocardioides simplex            </td><td>0.008048</td></tr>\n",
       "\t<tr><td>Bacteroidota    </td><td>Bacteroidia        </td><td>Bacteroidales      </td><td>Bacteroidaceae      </td><td>Phocaeicola      </td><td>Phocaeicola dorei               </td><td>0.007289</td></tr>\n",
       "</tbody>\n",
       "</table>\n"
      ],
      "text/latex": [
       "A tidytable: 15 × 7\n",
       "\\begin{tabular}{lllllll}\n",
       " Phylum & Class & Order & Family & Genus & Species & Abundance\\\\\n",
       " <chr> & <chr> & <chr> & <chr> & <chr> & <chr> & <dbl>\\\\\n",
       "\\hline\n",
       "\t Firmicutes       & Bacilli             & Staphylococcales    & Staphylococcaceae    & Staphylococcus    & Staphylococcus aureus            & 0.478200\\\\\n",
       "\t Actinobacteriota & Actinomycetia       & Propionibacteriales & Propionibacteriaceae & Propionibacterium & Propionibacterium freudenreichii & 0.062416\\\\\n",
       "\t Firmicutes       & Bacilli             & Staphylococcales    & Staphylococcaceae    & Staphylococcus    & Staphylococcus lugdunensis       & 0.044374\\\\\n",
       "\t Proteobacteria   & Gammaproteobacteria & Burkholderiales     & Neisseriaceae        & Neisseria         & Neisseria meningitidis           & 0.028056\\\\\n",
       "\t Firmicutes       & Bacilli             & Staphylococcales    & Staphylococcaceae    & Staphylococcus    & Staphylococcus warneri           & 0.023332\\\\\n",
       "\t Firmicutes\\_A     & Clostridia          & Tissierellales      & Peptoniphilaceae     & Finegoldia        & Finegoldia magna\\_H               & 0.019346\\\\\n",
       "\t Actinobacteriota & Actinomycetia       & Mycobacteriales     & Mycobacteriaceae     & Corynebacterium   & Corynebacterium glutamicum       & 0.017744\\\\\n",
       "\t Firmicutes       & Bacilli             & Staphylococcales    & Staphylococcaceae    & Staphylococcus    & Staphylococcus argenteus         & 0.015225\\\\\n",
       "\t Firmicutes       & Bacilli             & Staphylococcales    & Staphylococcaceae    & Staphylococcus    & Staphylococcus schweitzeri       & 0.013645\\\\\n",
       "\t Firmicutes       & Bacilli             & Lactobacillales     & Streptococcaceae     & Streptococcus     & Streptococcus pneumoniae         & 0.010661\\\\\n",
       "\t Firmicutes       & Bacilli             & Staphylococcales    & Staphylococcaceae    & Staphylococcus    & Staphylococcus epidermidis       & 0.010160\\\\\n",
       "\t Firmicutes       & Bacilli             & Staphylococcales    & Staphylococcaceae    & Staphylococcus    & Staphylococcus coagulans         & 0.009422\\\\\n",
       "\t Firmicutes       & Bacilli             & Lactobacillales     & Streptococcaceae     & Streptococcus     & Streptococcus pyogenes           & 0.008073\\\\\n",
       "\t Actinobacteriota & Actinomycetia       & Propionibacteriales & Nocardioidaceae      & Nocardioides      & Nocardioides simplex             & 0.008048\\\\\n",
       "\t Bacteroidota     & Bacteroidia         & Bacteroidales       & Bacteroidaceae       & Phocaeicola       & Phocaeicola dorei                & 0.007289\\\\\n",
       "\\end{tabular}\n"
      ],
      "text/markdown": [
       "\n",
       "A tidytable: 15 × 7\n",
       "\n",
       "| Phylum &lt;chr&gt; | Class &lt;chr&gt; | Order &lt;chr&gt; | Family &lt;chr&gt; | Genus &lt;chr&gt; | Species &lt;chr&gt; | Abundance &lt;dbl&gt; |\n",
       "|---|---|---|---|---|---|---|\n",
       "| Firmicutes       | Bacilli             | Staphylococcales    | Staphylococcaceae    | Staphylococcus    | Staphylococcus aureus            | 0.478200 |\n",
       "| Actinobacteriota | Actinomycetia       | Propionibacteriales | Propionibacteriaceae | Propionibacterium | Propionibacterium freudenreichii | 0.062416 |\n",
       "| Firmicutes       | Bacilli             | Staphylococcales    | Staphylococcaceae    | Staphylococcus    | Staphylococcus lugdunensis       | 0.044374 |\n",
       "| Proteobacteria   | Gammaproteobacteria | Burkholderiales     | Neisseriaceae        | Neisseria         | Neisseria meningitidis           | 0.028056 |\n",
       "| Firmicutes       | Bacilli             | Staphylococcales    | Staphylococcaceae    | Staphylococcus    | Staphylococcus warneri           | 0.023332 |\n",
       "| Firmicutes_A     | Clostridia          | Tissierellales      | Peptoniphilaceae     | Finegoldia        | Finegoldia magna_H               | 0.019346 |\n",
       "| Actinobacteriota | Actinomycetia       | Mycobacteriales     | Mycobacteriaceae     | Corynebacterium   | Corynebacterium glutamicum       | 0.017744 |\n",
       "| Firmicutes       | Bacilli             | Staphylococcales    | Staphylococcaceae    | Staphylococcus    | Staphylococcus argenteus         | 0.015225 |\n",
       "| Firmicutes       | Bacilli             | Staphylococcales    | Staphylococcaceae    | Staphylococcus    | Staphylococcus schweitzeri       | 0.013645 |\n",
       "| Firmicutes       | Bacilli             | Lactobacillales     | Streptococcaceae     | Streptococcus     | Streptococcus pneumoniae         | 0.010661 |\n",
       "| Firmicutes       | Bacilli             | Staphylococcales    | Staphylococcaceae    | Staphylococcus    | Staphylococcus epidermidis       | 0.010160 |\n",
       "| Firmicutes       | Bacilli             | Staphylococcales    | Staphylococcaceae    | Staphylococcus    | Staphylococcus coagulans         | 0.009422 |\n",
       "| Firmicutes       | Bacilli             | Lactobacillales     | Streptococcaceae     | Streptococcus     | Streptococcus pyogenes           | 0.008073 |\n",
       "| Actinobacteriota | Actinomycetia       | Propionibacteriales | Nocardioidaceae      | Nocardioides      | Nocardioides simplex             | 0.008048 |\n",
       "| Bacteroidota     | Bacteroidia         | Bacteroidales       | Bacteroidaceae       | Phocaeicola       | Phocaeicola dorei                | 0.007289 |\n",
       "\n"
      ],
      "text/plain": [
       "   Phylum           Class               Order              \n",
       "1  Firmicutes       Bacilli             Staphylococcales   \n",
       "2  Actinobacteriota Actinomycetia       Propionibacteriales\n",
       "3  Firmicutes       Bacilli             Staphylococcales   \n",
       "4  Proteobacteria   Gammaproteobacteria Burkholderiales    \n",
       "5  Firmicutes       Bacilli             Staphylococcales   \n",
       "6  Firmicutes_A     Clostridia          Tissierellales     \n",
       "7  Actinobacteriota Actinomycetia       Mycobacteriales    \n",
       "8  Firmicutes       Bacilli             Staphylococcales   \n",
       "9  Firmicutes       Bacilli             Staphylococcales   \n",
       "10 Firmicutes       Bacilli             Lactobacillales    \n",
       "11 Firmicutes       Bacilli             Staphylococcales   \n",
       "12 Firmicutes       Bacilli             Staphylococcales   \n",
       "13 Firmicutes       Bacilli             Lactobacillales    \n",
       "14 Actinobacteriota Actinomycetia       Propionibacteriales\n",
       "15 Bacteroidota     Bacteroidia         Bacteroidales      \n",
       "   Family               Genus             Species                         \n",
       "1  Staphylococcaceae    Staphylococcus    Staphylococcus aureus           \n",
       "2  Propionibacteriaceae Propionibacterium Propionibacterium freudenreichii\n",
       "3  Staphylococcaceae    Staphylococcus    Staphylococcus lugdunensis      \n",
       "4  Neisseriaceae        Neisseria         Neisseria meningitidis          \n",
       "5  Staphylococcaceae    Staphylococcus    Staphylococcus warneri          \n",
       "6  Peptoniphilaceae     Finegoldia        Finegoldia magna_H              \n",
       "7  Mycobacteriaceae     Corynebacterium   Corynebacterium glutamicum      \n",
       "8  Staphylococcaceae    Staphylococcus    Staphylococcus argenteus        \n",
       "9  Staphylococcaceae    Staphylococcus    Staphylococcus schweitzeri      \n",
       "10 Streptococcaceae     Streptococcus     Streptococcus pneumoniae        \n",
       "11 Staphylococcaceae    Staphylococcus    Staphylococcus epidermidis      \n",
       "12 Staphylococcaceae    Staphylococcus    Staphylococcus coagulans        \n",
       "13 Streptococcaceae     Streptococcus     Streptococcus pyogenes          \n",
       "14 Nocardioidaceae      Nocardioides      Nocardioides simplex            \n",
       "15 Bacteroidaceae       Phocaeicola       Phocaeicola dorei               \n",
       "   Abundance\n",
       "1  0.478200 \n",
       "2  0.062416 \n",
       "3  0.044374 \n",
       "4  0.028056 \n",
       "5  0.023332 \n",
       "6  0.019346 \n",
       "7  0.017744 \n",
       "8  0.015225 \n",
       "9  0.013645 \n",
       "10 0.010661 \n",
       "11 0.010160 \n",
       "12 0.009422 \n",
       "13 0.008073 \n",
       "14 0.008048 \n",
       "15 0.007289 "
      ]
     },
     "metadata": {},
     "output_type": "display_data"
    }
   ],
   "source": [
    "# most abundant\n",
    "df.dims(15)\n",
    "brk %>%\n",
    "    summarize.(Abundance = mean(Abundance),\n",
    "               .by=c(Phylum, Class, Order, Family, Genus, Species)) %>%\n",
    "    arrange.(-Abundance) %>%\n",
    "    slice_head.(n=15)"
   ]
  },
  {
   "cell_type": "markdown",
   "id": "5dcdffed",
   "metadata": {},
   "source": [
    "# LLG\n",
    "\n",
    "Getting stats on `CAMI2_HMP-oral` reference genomes"
   ]
  },
  {
   "cell_type": "markdown",
   "id": "a3ad1de3",
   "metadata": {},
   "source": [
    "### Config"
   ]
  },
  {
   "cell_type": "code",
   "execution_count": null,
   "id": "452d2789",
   "metadata": {
    "ExecuteTime": {
     "end_time": "2021-10-26T18:46:10.228549Z",
     "start_time": "2021-10-26T18:46:10.134Z"
    }
   },
   "outputs": [],
   "source": [
    "F = file.path(work_dir, 'LLG', 'config.yaml')\n",
    "cat_file(F)"
   ]
  },
  {
   "cell_type": "markdown",
   "id": "4313034d",
   "metadata": {},
   "source": [
    "### Run"
   ]
  },
  {
   "cell_type": "markdown",
   "id": "af1ccf91",
   "metadata": {},
   "source": [
    "```\n",
    "(snakemake) @ rick:/ebio/abt3_projects/software/dev/ll_pipelines/llg\n",
    "$ screen -L -S llg-cami-oral ./snakemake_sge.sh /ebio/abt3_projects/databases_no-backup/CAMI/CAMI2_HMP-oral/short_read/LLG/config.yaml 30 -F\n",
    "```"
   ]
  },
  {
   "cell_type": "markdown",
   "id": "f7470b60",
   "metadata": {},
   "source": [
    "## Summary"
   ]
  },
  {
   "cell_type": "markdown",
   "id": "bb00c9c3",
   "metadata": {},
   "source": [
    "### CheckM"
   ]
  },
  {
   "cell_type": "code",
   "execution_count": 18,
   "id": "36012240",
   "metadata": {
    "ExecuteTime": {
     "end_time": "2021-10-29T12:04:36.811385Z",
     "start_time": "2021-10-29T12:04:36.285Z"
    }
   },
   "outputs": [
    {
     "data": {
      "text/html": [
       "<table class=\"dataframe\">\n",
       "<caption>A data.table: 1394 × 33</caption>\n",
       "<thead>\n",
       "\t<tr><th scope=col>Bin.Id</th><th scope=col>Marker.lineage</th><th scope=col>X..genomes</th><th scope=col>X..markers</th><th scope=col>X..marker.sets</th><th scope=col>Completeness</th><th scope=col>Contamination</th><th scope=col>Strain.heterogeneity</th><th scope=col>Genome.size..bp.</th><th scope=col>X..ambiguous.bases</th><th scope=col>⋯</th><th scope=col>X0</th><th scope=col>X1</th><th scope=col>X2</th><th scope=col>X3</th><th scope=col>X4</th><th scope=col>X5.</th><th scope=col>assembly.Id</th><th scope=col>assembler.Id</th><th scope=col>taxon.Id</th><th scope=col>File</th></tr>\n",
       "\t<tr><th scope=col>&lt;chr&gt;</th><th scope=col>&lt;chr&gt;</th><th scope=col>&lt;int&gt;</th><th scope=col>&lt;int&gt;</th><th scope=col>&lt;int&gt;</th><th scope=col>&lt;dbl&gt;</th><th scope=col>&lt;dbl&gt;</th><th scope=col>&lt;dbl&gt;</th><th scope=col>&lt;int&gt;</th><th scope=col>&lt;int&gt;</th><th scope=col>⋯</th><th scope=col>&lt;int&gt;</th><th scope=col>&lt;int&gt;</th><th scope=col>&lt;int&gt;</th><th scope=col>&lt;int&gt;</th><th scope=col>&lt;int&gt;</th><th scope=col>&lt;int&gt;</th><th scope=col>&lt;chr&gt;</th><th scope=col>&lt;chr&gt;</th><th scope=col>&lt;lgl&gt;</th><th scope=col>&lt;chr&gt;</th></tr>\n",
       "</thead>\n",
       "<tbody>\n",
       "\t<tr><td>GCA_000006625_1_ASM662v1 </td><td>f__Mycoplasmataceae (UID2466)   </td><td> 36</td><td>295</td><td>140</td><td> 99.05</td><td>0.00</td><td> 0</td><td> 751719</td><td>0</td><td>⋯</td><td>2</td><td>293</td><td>0</td><td>0</td><td>0</td><td>0</td><td>|ebio|abt3_projects|databases_no-backup|CAMI|CAMI2_HMP-skin|short_read|LLG|checkm|1|checkm|markers_qa_summary.tsv.1</td><td>markers_qa_summary.tsv.1</td><td>NA</td><td>/ebio/abt3_projects/databases_no-backup/CAMI/CAMI2_HMP-skin/short_read/LLG/checkm/1/checkm/markers_qa_summary.tsv.1</td></tr>\n",
       "\t<tr><td>GCA_000010145_1_ASM1014v1</td><td>o__Lactobacillales (UID355)     </td><td>490</td><td>334</td><td>183</td><td> 99.18</td><td>0.82</td><td>50</td><td>2098685</td><td>0</td><td>⋯</td><td>2</td><td>330</td><td>2</td><td>0</td><td>0</td><td>0</td><td>|ebio|abt3_projects|databases_no-backup|CAMI|CAMI2_HMP-skin|short_read|LLG|checkm|1|checkm|markers_qa_summary.tsv.2</td><td>markers_qa_summary.tsv.2</td><td>NA</td><td>/ebio/abt3_projects/databases_no-backup/CAMI/CAMI2_HMP-skin/short_read/LLG/checkm/1/checkm/markers_qa_summary.tsv.2</td></tr>\n",
       "\t<tr><td>GCA_000011665_1_ASM1166v1</td><td>g__Streptococcus (UID722)       </td><td> 30</td><td>676</td><td>182</td><td> 99.85</td><td>0.08</td><td> 0</td><td>1899877</td><td>0</td><td>⋯</td><td>2</td><td>673</td><td>1</td><td>0</td><td>0</td><td>0</td><td>|ebio|abt3_projects|databases_no-backup|CAMI|CAMI2_HMP-skin|short_read|LLG|checkm|1|checkm|markers_qa_summary.tsv.3</td><td>markers_qa_summary.tsv.3</td><td>NA</td><td>/ebio/abt3_projects/databases_no-backup/CAMI/CAMI2_HMP-skin/short_read/LLG/checkm/1/checkm/markers_qa_summary.tsv.3</td></tr>\n",
       "\t<tr><td>GCA_000014305_1_ASM1430v1</td><td>o__Lactobacillales (UID544)     </td><td>293</td><td>475</td><td>267</td><td> 97.38</td><td>0.00</td><td> 0</td><td>2096309</td><td>0</td><td>⋯</td><td>8</td><td>467</td><td>0</td><td>0</td><td>0</td><td>0</td><td>|ebio|abt3_projects|databases_no-backup|CAMI|CAMI2_HMP-skin|short_read|LLG|checkm|1|checkm|markers_qa_summary.tsv.4</td><td>markers_qa_summary.tsv.4</td><td>NA</td><td>/ebio/abt3_projects/databases_no-backup/CAMI/CAMI2_HMP-skin/short_read/LLG/checkm/1/checkm/markers_qa_summary.tsv.4</td></tr>\n",
       "\t<tr><td>GCA_000016685_1_ASM1668v1</td><td>f__Pasteurellaceae (UID4932)    </td><td> 83</td><td>767</td><td>440</td><td> 99.89</td><td>0.00</td><td> 0</td><td>2242062</td><td>4</td><td>⋯</td><td>1</td><td>766</td><td>0</td><td>0</td><td>0</td><td>0</td><td>|ebio|abt3_projects|databases_no-backup|CAMI|CAMI2_HMP-skin|short_read|LLG|checkm|1|checkm|markers_qa_summary.tsv.5</td><td>markers_qa_summary.tsv.5</td><td>NA</td><td>/ebio/abt3_projects/databases_no-backup/CAMI/CAMI2_HMP-skin/short_read/LLG/checkm/1/checkm/markers_qa_summary.tsv.5</td></tr>\n",
       "\t<tr><td>GCA_000017265_1_ASM1726v1</td><td>c__Alphaproteobacteria (UID3422)</td><td> 26</td><td>529</td><td>308</td><td>100.00</td><td>0.00</td><td> 0</td><td>4379231</td><td>0</td><td>⋯</td><td>0</td><td>529</td><td>0</td><td>0</td><td>0</td><td>0</td><td>|ebio|abt3_projects|databases_no-backup|CAMI|CAMI2_HMP-skin|short_read|LLG|checkm|1|checkm|markers_qa_summary.tsv.6</td><td>markers_qa_summary.tsv.6</td><td>NA</td><td>/ebio/abt3_projects/databases_no-backup/CAMI/CAMI2_HMP-skin/short_read/LLG/checkm/1/checkm/markers_qa_summary.tsv.6</td></tr>\n",
       "\t<tr><td>GCA_000023145_1_ASM2314v1</td><td>o__Actinomycetales (UID1809)    </td><td>267</td><td>400</td><td>222</td><td> 97.86</td><td>0.00</td><td> 0</td><td>2446804</td><td>0</td><td>⋯</td><td>8</td><td>392</td><td>0</td><td>0</td><td>0</td><td>0</td><td>|ebio|abt3_projects|databases_no-backup|CAMI|CAMI2_HMP-skin|short_read|LLG|checkm|1|checkm|markers_qa_summary.tsv.7</td><td>markers_qa_summary.tsv.7</td><td>NA</td><td>/ebio/abt3_projects/databases_no-backup/CAMI/CAMI2_HMP-skin/short_read/LLG/checkm/1/checkm/markers_qa_summary.tsv.7</td></tr>\n",
       "\t<tr><td>GCA_000025345_1_ASM2534v1</td><td>o__Actinomycetales (UID1802)    </td><td>274</td><td>383</td><td>212</td><td> 99.37</td><td>1.64</td><td> 0</td><td>5322497</td><td>0</td><td>⋯</td><td>2</td><td>375</td><td>6</td><td>0</td><td>0</td><td>0</td><td>|ebio|abt3_projects|databases_no-backup|CAMI|CAMI2_HMP-skin|short_read|LLG|checkm|1|checkm|markers_qa_summary.tsv.8</td><td>markers_qa_summary.tsv.8</td><td>NA</td><td>/ebio/abt3_projects/databases_no-backup/CAMI/CAMI2_HMP-skin/short_read/LLG/checkm/1/checkm/markers_qa_summary.tsv.8</td></tr>\n",
       "\t<tr><td>⋮</td><td>⋮</td><td>⋮</td><td>⋮</td><td>⋮</td><td>⋮</td><td>⋮</td><td>⋮</td><td>⋮</td><td>⋮</td><td>⋱</td><td>⋮</td><td>⋮</td><td>⋮</td><td>⋮</td><td>⋮</td><td>⋮</td><td>⋮</td><td>⋮</td><td>⋮</td><td>⋮</td></tr>\n",
       "\t<tr><td>GCA_001721925_1_ASM172192v1</td><td>g__Lactobacillus (UID436)      </td><td> 31</td><td> 586</td><td>184</td><td> 99.35</td><td>0.00</td><td> 0</td><td>2934954</td><td>0</td><td>⋯</td><td>3</td><td> 583</td><td>0</td><td>0</td><td>0</td><td>0</td><td>|ebio|abt3_projects|databases_no-backup|CAMI|CAMI2_HMP-skin|short_read|LLG|checkm|20|checkm|markers_qa_summary.tsv.63</td><td>markers_qa_summary.tsv.63</td><td>NA</td><td>/ebio/abt3_projects/databases_no-backup/CAMI/CAMI2_HMP-skin/short_read/LLG/checkm/20/checkm/markers_qa_summary.tsv.63</td></tr>\n",
       "\t<tr><td>GCA_001806425_1_ASM180642v1</td><td>g__Acinetobacter (UID4685)     </td><td> 42</td><td>1193</td><td>254</td><td> 99.74</td><td>0.61</td><td> 0</td><td>4038601</td><td>0</td><td>⋯</td><td>6</td><td>1184</td><td>3</td><td>0</td><td>0</td><td>0</td><td>|ebio|abt3_projects|databases_no-backup|CAMI|CAMI2_HMP-skin|short_read|LLG|checkm|20|checkm|markers_qa_summary.tsv.64</td><td>markers_qa_summary.tsv.64</td><td>NA</td><td>/ebio/abt3_projects/databases_no-backup/CAMI/CAMI2_HMP-skin/short_read/LLG/checkm/20/checkm/markers_qa_summary.tsv.64</td></tr>\n",
       "\t<tr><td>GCA_001879565_1_ASM187956v1</td><td>f__Burkholderiaceae (UID4003)  </td><td> 91</td><td> 596</td><td>218</td><td> 99.94</td><td>0.00</td><td> 0</td><td>5762975</td><td>0</td><td>⋯</td><td>1</td><td> 595</td><td>0</td><td>0</td><td>0</td><td>0</td><td>|ebio|abt3_projects|databases_no-backup|CAMI|CAMI2_HMP-skin|short_read|LLG|checkm|20|checkm|markers_qa_summary.tsv.65</td><td>markers_qa_summary.tsv.65</td><td>NA</td><td>/ebio/abt3_projects/databases_no-backup/CAMI/CAMI2_HMP-skin/short_read/LLG/checkm/20/checkm/markers_qa_summary.tsv.65</td></tr>\n",
       "\t<tr><td>GCA_001889125_1_ASM188912v1</td><td>o__Actinomycetales (UID1663)   </td><td>488</td><td> 309</td><td>185</td><td> 99.28</td><td>0.00</td><td> 0</td><td>3401189</td><td>0</td><td>⋯</td><td>2</td><td> 307</td><td>0</td><td>0</td><td>0</td><td>0</td><td>|ebio|abt3_projects|databases_no-backup|CAMI|CAMI2_HMP-skin|short_read|LLG|checkm|20|checkm|markers_qa_summary.tsv.66</td><td>markers_qa_summary.tsv.66</td><td>NA</td><td>/ebio/abt3_projects/databases_no-backup/CAMI/CAMI2_HMP-skin/short_read/LLG/checkm/20/checkm/markers_qa_summary.tsv.66</td></tr>\n",
       "\t<tr><td>GCA_001908675_1_ASM190867v1</td><td>f__Enterobacteriaceae (UID5121)</td><td>138</td><td>1162</td><td>336</td><td>100.00</td><td>0.93</td><td> 0</td><td>5921376</td><td>0</td><td>⋯</td><td>0</td><td>1153</td><td>9</td><td>0</td><td>0</td><td>0</td><td>|ebio|abt3_projects|databases_no-backup|CAMI|CAMI2_HMP-skin|short_read|LLG|checkm|20|checkm|markers_qa_summary.tsv.67</td><td>markers_qa_summary.tsv.67</td><td>NA</td><td>/ebio/abt3_projects/databases_no-backup/CAMI/CAMI2_HMP-skin/short_read/LLG/checkm/20/checkm/markers_qa_summary.tsv.67</td></tr>\n",
       "\t<tr><td>GCA_001941785_1_ASM194178v1</td><td>o__Lactobacillales (UID355)    </td><td>490</td><td> 334</td><td>183</td><td> 99.18</td><td>0.82</td><td>50</td><td>2272328</td><td>0</td><td>⋯</td><td>2</td><td> 330</td><td>2</td><td>0</td><td>0</td><td>0</td><td>|ebio|abt3_projects|databases_no-backup|CAMI|CAMI2_HMP-skin|short_read|LLG|checkm|20|checkm|markers_qa_summary.tsv.68</td><td>markers_qa_summary.tsv.68</td><td>NA</td><td>/ebio/abt3_projects/databases_no-backup/CAMI/CAMI2_HMP-skin/short_read/LLG/checkm/20/checkm/markers_qa_summary.tsv.68</td></tr>\n",
       "\t<tr><td>GCA_001971605_1_ASM197160v1</td><td>o__Sphingomonadales (UID3310)  </td><td> 26</td><td> 569</td><td>293</td><td> 99.59</td><td>1.45</td><td> 0</td><td>3938206</td><td>0</td><td>⋯</td><td>2</td><td> 561</td><td>6</td><td>0</td><td>0</td><td>0</td><td>|ebio|abt3_projects|databases_no-backup|CAMI|CAMI2_HMP-skin|short_read|LLG|checkm|20|checkm|markers_qa_summary.tsv.69</td><td>markers_qa_summary.tsv.69</td><td>NA</td><td>/ebio/abt3_projects/databases_no-backup/CAMI/CAMI2_HMP-skin/short_read/LLG/checkm/20/checkm/markers_qa_summary.tsv.69</td></tr>\n",
       "</tbody>\n",
       "</table>\n"
      ],
      "text/latex": [
       "A data.table: 1394 × 33\n",
       "\\begin{tabular}{lllllllllllllllllllll}\n",
       " Bin.Id & Marker.lineage & X..genomes & X..markers & X..marker.sets & Completeness & Contamination & Strain.heterogeneity & Genome.size..bp. & X..ambiguous.bases & ⋯ & X0 & X1 & X2 & X3 & X4 & X5. & assembly.Id & assembler.Id & taxon.Id & File\\\\\n",
       " <chr> & <chr> & <int> & <int> & <int> & <dbl> & <dbl> & <dbl> & <int> & <int> & ⋯ & <int> & <int> & <int> & <int> & <int> & <int> & <chr> & <chr> & <lgl> & <chr>\\\\\n",
       "\\hline\n",
       "\t GCA\\_000006625\\_1\\_ASM662v1  & f\\_\\_Mycoplasmataceae (UID2466)    &  36 & 295 & 140 &  99.05 & 0.00 &  0 &  751719 & 0 & ⋯ & 2 & 293 & 0 & 0 & 0 & 0 & \\textbar{}ebio\\textbar{}abt3\\_projects\\textbar{}databases\\_no-backup\\textbar{}CAMI\\textbar{}CAMI2\\_HMP-skin\\textbar{}short\\_read\\textbar{}LLG\\textbar{}checkm\\textbar{}1\\textbar{}checkm\\textbar{}markers\\_qa\\_summary.tsv.1 & markers\\_qa\\_summary.tsv.1 & NA & /ebio/abt3\\_projects/databases\\_no-backup/CAMI/CAMI2\\_HMP-skin/short\\_read/LLG/checkm/1/checkm/markers\\_qa\\_summary.tsv.1\\\\\n",
       "\t GCA\\_000010145\\_1\\_ASM1014v1 & o\\_\\_Lactobacillales (UID355)      & 490 & 334 & 183 &  99.18 & 0.82 & 50 & 2098685 & 0 & ⋯ & 2 & 330 & 2 & 0 & 0 & 0 & \\textbar{}ebio\\textbar{}abt3\\_projects\\textbar{}databases\\_no-backup\\textbar{}CAMI\\textbar{}CAMI2\\_HMP-skin\\textbar{}short\\_read\\textbar{}LLG\\textbar{}checkm\\textbar{}1\\textbar{}checkm\\textbar{}markers\\_qa\\_summary.tsv.2 & markers\\_qa\\_summary.tsv.2 & NA & /ebio/abt3\\_projects/databases\\_no-backup/CAMI/CAMI2\\_HMP-skin/short\\_read/LLG/checkm/1/checkm/markers\\_qa\\_summary.tsv.2\\\\\n",
       "\t GCA\\_000011665\\_1\\_ASM1166v1 & g\\_\\_Streptococcus (UID722)        &  30 & 676 & 182 &  99.85 & 0.08 &  0 & 1899877 & 0 & ⋯ & 2 & 673 & 1 & 0 & 0 & 0 & \\textbar{}ebio\\textbar{}abt3\\_projects\\textbar{}databases\\_no-backup\\textbar{}CAMI\\textbar{}CAMI2\\_HMP-skin\\textbar{}short\\_read\\textbar{}LLG\\textbar{}checkm\\textbar{}1\\textbar{}checkm\\textbar{}markers\\_qa\\_summary.tsv.3 & markers\\_qa\\_summary.tsv.3 & NA & /ebio/abt3\\_projects/databases\\_no-backup/CAMI/CAMI2\\_HMP-skin/short\\_read/LLG/checkm/1/checkm/markers\\_qa\\_summary.tsv.3\\\\\n",
       "\t GCA\\_000014305\\_1\\_ASM1430v1 & o\\_\\_Lactobacillales (UID544)      & 293 & 475 & 267 &  97.38 & 0.00 &  0 & 2096309 & 0 & ⋯ & 8 & 467 & 0 & 0 & 0 & 0 & \\textbar{}ebio\\textbar{}abt3\\_projects\\textbar{}databases\\_no-backup\\textbar{}CAMI\\textbar{}CAMI2\\_HMP-skin\\textbar{}short\\_read\\textbar{}LLG\\textbar{}checkm\\textbar{}1\\textbar{}checkm\\textbar{}markers\\_qa\\_summary.tsv.4 & markers\\_qa\\_summary.tsv.4 & NA & /ebio/abt3\\_projects/databases\\_no-backup/CAMI/CAMI2\\_HMP-skin/short\\_read/LLG/checkm/1/checkm/markers\\_qa\\_summary.tsv.4\\\\\n",
       "\t GCA\\_000016685\\_1\\_ASM1668v1 & f\\_\\_Pasteurellaceae (UID4932)     &  83 & 767 & 440 &  99.89 & 0.00 &  0 & 2242062 & 4 & ⋯ & 1 & 766 & 0 & 0 & 0 & 0 & \\textbar{}ebio\\textbar{}abt3\\_projects\\textbar{}databases\\_no-backup\\textbar{}CAMI\\textbar{}CAMI2\\_HMP-skin\\textbar{}short\\_read\\textbar{}LLG\\textbar{}checkm\\textbar{}1\\textbar{}checkm\\textbar{}markers\\_qa\\_summary.tsv.5 & markers\\_qa\\_summary.tsv.5 & NA & /ebio/abt3\\_projects/databases\\_no-backup/CAMI/CAMI2\\_HMP-skin/short\\_read/LLG/checkm/1/checkm/markers\\_qa\\_summary.tsv.5\\\\\n",
       "\t GCA\\_000017265\\_1\\_ASM1726v1 & c\\_\\_Alphaproteobacteria (UID3422) &  26 & 529 & 308 & 100.00 & 0.00 &  0 & 4379231 & 0 & ⋯ & 0 & 529 & 0 & 0 & 0 & 0 & \\textbar{}ebio\\textbar{}abt3\\_projects\\textbar{}databases\\_no-backup\\textbar{}CAMI\\textbar{}CAMI2\\_HMP-skin\\textbar{}short\\_read\\textbar{}LLG\\textbar{}checkm\\textbar{}1\\textbar{}checkm\\textbar{}markers\\_qa\\_summary.tsv.6 & markers\\_qa\\_summary.tsv.6 & NA & /ebio/abt3\\_projects/databases\\_no-backup/CAMI/CAMI2\\_HMP-skin/short\\_read/LLG/checkm/1/checkm/markers\\_qa\\_summary.tsv.6\\\\\n",
       "\t GCA\\_000023145\\_1\\_ASM2314v1 & o\\_\\_Actinomycetales (UID1809)     & 267 & 400 & 222 &  97.86 & 0.00 &  0 & 2446804 & 0 & ⋯ & 8 & 392 & 0 & 0 & 0 & 0 & \\textbar{}ebio\\textbar{}abt3\\_projects\\textbar{}databases\\_no-backup\\textbar{}CAMI\\textbar{}CAMI2\\_HMP-skin\\textbar{}short\\_read\\textbar{}LLG\\textbar{}checkm\\textbar{}1\\textbar{}checkm\\textbar{}markers\\_qa\\_summary.tsv.7 & markers\\_qa\\_summary.tsv.7 & NA & /ebio/abt3\\_projects/databases\\_no-backup/CAMI/CAMI2\\_HMP-skin/short\\_read/LLG/checkm/1/checkm/markers\\_qa\\_summary.tsv.7\\\\\n",
       "\t GCA\\_000025345\\_1\\_ASM2534v1 & o\\_\\_Actinomycetales (UID1802)     & 274 & 383 & 212 &  99.37 & 1.64 &  0 & 5322497 & 0 & ⋯ & 2 & 375 & 6 & 0 & 0 & 0 & \\textbar{}ebio\\textbar{}abt3\\_projects\\textbar{}databases\\_no-backup\\textbar{}CAMI\\textbar{}CAMI2\\_HMP-skin\\textbar{}short\\_read\\textbar{}LLG\\textbar{}checkm\\textbar{}1\\textbar{}checkm\\textbar{}markers\\_qa\\_summary.tsv.8 & markers\\_qa\\_summary.tsv.8 & NA & /ebio/abt3\\_projects/databases\\_no-backup/CAMI/CAMI2\\_HMP-skin/short\\_read/LLG/checkm/1/checkm/markers\\_qa\\_summary.tsv.8\\\\\n",
       "\t ⋮ & ⋮ & ⋮ & ⋮ & ⋮ & ⋮ & ⋮ & ⋮ & ⋮ & ⋮ & ⋱ & ⋮ & ⋮ & ⋮ & ⋮ & ⋮ & ⋮ & ⋮ & ⋮ & ⋮ & ⋮\\\\\n",
       "\t GCA\\_001721925\\_1\\_ASM172192v1 & g\\_\\_Lactobacillus (UID436)       &  31 &  586 & 184 &  99.35 & 0.00 &  0 & 2934954 & 0 & ⋯ & 3 &  583 & 0 & 0 & 0 & 0 & \\textbar{}ebio\\textbar{}abt3\\_projects\\textbar{}databases\\_no-backup\\textbar{}CAMI\\textbar{}CAMI2\\_HMP-skin\\textbar{}short\\_read\\textbar{}LLG\\textbar{}checkm\\textbar{}20\\textbar{}checkm\\textbar{}markers\\_qa\\_summary.tsv.63 & markers\\_qa\\_summary.tsv.63 & NA & /ebio/abt3\\_projects/databases\\_no-backup/CAMI/CAMI2\\_HMP-skin/short\\_read/LLG/checkm/20/checkm/markers\\_qa\\_summary.tsv.63\\\\\n",
       "\t GCA\\_001806425\\_1\\_ASM180642v1 & g\\_\\_Acinetobacter (UID4685)      &  42 & 1193 & 254 &  99.74 & 0.61 &  0 & 4038601 & 0 & ⋯ & 6 & 1184 & 3 & 0 & 0 & 0 & \\textbar{}ebio\\textbar{}abt3\\_projects\\textbar{}databases\\_no-backup\\textbar{}CAMI\\textbar{}CAMI2\\_HMP-skin\\textbar{}short\\_read\\textbar{}LLG\\textbar{}checkm\\textbar{}20\\textbar{}checkm\\textbar{}markers\\_qa\\_summary.tsv.64 & markers\\_qa\\_summary.tsv.64 & NA & /ebio/abt3\\_projects/databases\\_no-backup/CAMI/CAMI2\\_HMP-skin/short\\_read/LLG/checkm/20/checkm/markers\\_qa\\_summary.tsv.64\\\\\n",
       "\t GCA\\_001879565\\_1\\_ASM187956v1 & f\\_\\_Burkholderiaceae (UID4003)   &  91 &  596 & 218 &  99.94 & 0.00 &  0 & 5762975 & 0 & ⋯ & 1 &  595 & 0 & 0 & 0 & 0 & \\textbar{}ebio\\textbar{}abt3\\_projects\\textbar{}databases\\_no-backup\\textbar{}CAMI\\textbar{}CAMI2\\_HMP-skin\\textbar{}short\\_read\\textbar{}LLG\\textbar{}checkm\\textbar{}20\\textbar{}checkm\\textbar{}markers\\_qa\\_summary.tsv.65 & markers\\_qa\\_summary.tsv.65 & NA & /ebio/abt3\\_projects/databases\\_no-backup/CAMI/CAMI2\\_HMP-skin/short\\_read/LLG/checkm/20/checkm/markers\\_qa\\_summary.tsv.65\\\\\n",
       "\t GCA\\_001889125\\_1\\_ASM188912v1 & o\\_\\_Actinomycetales (UID1663)    & 488 &  309 & 185 &  99.28 & 0.00 &  0 & 3401189 & 0 & ⋯ & 2 &  307 & 0 & 0 & 0 & 0 & \\textbar{}ebio\\textbar{}abt3\\_projects\\textbar{}databases\\_no-backup\\textbar{}CAMI\\textbar{}CAMI2\\_HMP-skin\\textbar{}short\\_read\\textbar{}LLG\\textbar{}checkm\\textbar{}20\\textbar{}checkm\\textbar{}markers\\_qa\\_summary.tsv.66 & markers\\_qa\\_summary.tsv.66 & NA & /ebio/abt3\\_projects/databases\\_no-backup/CAMI/CAMI2\\_HMP-skin/short\\_read/LLG/checkm/20/checkm/markers\\_qa\\_summary.tsv.66\\\\\n",
       "\t GCA\\_001908675\\_1\\_ASM190867v1 & f\\_\\_Enterobacteriaceae (UID5121) & 138 & 1162 & 336 & 100.00 & 0.93 &  0 & 5921376 & 0 & ⋯ & 0 & 1153 & 9 & 0 & 0 & 0 & \\textbar{}ebio\\textbar{}abt3\\_projects\\textbar{}databases\\_no-backup\\textbar{}CAMI\\textbar{}CAMI2\\_HMP-skin\\textbar{}short\\_read\\textbar{}LLG\\textbar{}checkm\\textbar{}20\\textbar{}checkm\\textbar{}markers\\_qa\\_summary.tsv.67 & markers\\_qa\\_summary.tsv.67 & NA & /ebio/abt3\\_projects/databases\\_no-backup/CAMI/CAMI2\\_HMP-skin/short\\_read/LLG/checkm/20/checkm/markers\\_qa\\_summary.tsv.67\\\\\n",
       "\t GCA\\_001941785\\_1\\_ASM194178v1 & o\\_\\_Lactobacillales (UID355)     & 490 &  334 & 183 &  99.18 & 0.82 & 50 & 2272328 & 0 & ⋯ & 2 &  330 & 2 & 0 & 0 & 0 & \\textbar{}ebio\\textbar{}abt3\\_projects\\textbar{}databases\\_no-backup\\textbar{}CAMI\\textbar{}CAMI2\\_HMP-skin\\textbar{}short\\_read\\textbar{}LLG\\textbar{}checkm\\textbar{}20\\textbar{}checkm\\textbar{}markers\\_qa\\_summary.tsv.68 & markers\\_qa\\_summary.tsv.68 & NA & /ebio/abt3\\_projects/databases\\_no-backup/CAMI/CAMI2\\_HMP-skin/short\\_read/LLG/checkm/20/checkm/markers\\_qa\\_summary.tsv.68\\\\\n",
       "\t GCA\\_001971605\\_1\\_ASM197160v1 & o\\_\\_Sphingomonadales (UID3310)   &  26 &  569 & 293 &  99.59 & 1.45 &  0 & 3938206 & 0 & ⋯ & 2 &  561 & 6 & 0 & 0 & 0 & \\textbar{}ebio\\textbar{}abt3\\_projects\\textbar{}databases\\_no-backup\\textbar{}CAMI\\textbar{}CAMI2\\_HMP-skin\\textbar{}short\\_read\\textbar{}LLG\\textbar{}checkm\\textbar{}20\\textbar{}checkm\\textbar{}markers\\_qa\\_summary.tsv.69 & markers\\_qa\\_summary.tsv.69 & NA & /ebio/abt3\\_projects/databases\\_no-backup/CAMI/CAMI2\\_HMP-skin/short\\_read/LLG/checkm/20/checkm/markers\\_qa\\_summary.tsv.69\\\\\n",
       "\\end{tabular}\n"
      ],
      "text/markdown": [
       "\n",
       "A data.table: 1394 × 33\n",
       "\n",
       "| Bin.Id &lt;chr&gt; | Marker.lineage &lt;chr&gt; | X..genomes &lt;int&gt; | X..markers &lt;int&gt; | X..marker.sets &lt;int&gt; | Completeness &lt;dbl&gt; | Contamination &lt;dbl&gt; | Strain.heterogeneity &lt;dbl&gt; | Genome.size..bp. &lt;int&gt; | X..ambiguous.bases &lt;int&gt; | ⋯ ⋯ | X0 &lt;int&gt; | X1 &lt;int&gt; | X2 &lt;int&gt; | X3 &lt;int&gt; | X4 &lt;int&gt; | X5. &lt;int&gt; | assembly.Id &lt;chr&gt; | assembler.Id &lt;chr&gt; | taxon.Id &lt;lgl&gt; | File &lt;chr&gt; |\n",
       "|---|---|---|---|---|---|---|---|---|---|---|---|---|---|---|---|---|---|---|---|---|\n",
       "| GCA_000006625_1_ASM662v1  | f__Mycoplasmataceae (UID2466)    |  36 | 295 | 140 |  99.05 | 0.00 |  0 |  751719 | 0 | ⋯ | 2 | 293 | 0 | 0 | 0 | 0 | |ebio|abt3_projects|databases_no-backup|CAMI|CAMI2_HMP-skin|short_read|LLG|checkm|1|checkm|markers_qa_summary.tsv.1 | markers_qa_summary.tsv.1 | NA | /ebio/abt3_projects/databases_no-backup/CAMI/CAMI2_HMP-skin/short_read/LLG/checkm/1/checkm/markers_qa_summary.tsv.1 |\n",
       "| GCA_000010145_1_ASM1014v1 | o__Lactobacillales (UID355)      | 490 | 334 | 183 |  99.18 | 0.82 | 50 | 2098685 | 0 | ⋯ | 2 | 330 | 2 | 0 | 0 | 0 | |ebio|abt3_projects|databases_no-backup|CAMI|CAMI2_HMP-skin|short_read|LLG|checkm|1|checkm|markers_qa_summary.tsv.2 | markers_qa_summary.tsv.2 | NA | /ebio/abt3_projects/databases_no-backup/CAMI/CAMI2_HMP-skin/short_read/LLG/checkm/1/checkm/markers_qa_summary.tsv.2 |\n",
       "| GCA_000011665_1_ASM1166v1 | g__Streptococcus (UID722)        |  30 | 676 | 182 |  99.85 | 0.08 |  0 | 1899877 | 0 | ⋯ | 2 | 673 | 1 | 0 | 0 | 0 | |ebio|abt3_projects|databases_no-backup|CAMI|CAMI2_HMP-skin|short_read|LLG|checkm|1|checkm|markers_qa_summary.tsv.3 | markers_qa_summary.tsv.3 | NA | /ebio/abt3_projects/databases_no-backup/CAMI/CAMI2_HMP-skin/short_read/LLG/checkm/1/checkm/markers_qa_summary.tsv.3 |\n",
       "| GCA_000014305_1_ASM1430v1 | o__Lactobacillales (UID544)      | 293 | 475 | 267 |  97.38 | 0.00 |  0 | 2096309 | 0 | ⋯ | 8 | 467 | 0 | 0 | 0 | 0 | |ebio|abt3_projects|databases_no-backup|CAMI|CAMI2_HMP-skin|short_read|LLG|checkm|1|checkm|markers_qa_summary.tsv.4 | markers_qa_summary.tsv.4 | NA | /ebio/abt3_projects/databases_no-backup/CAMI/CAMI2_HMP-skin/short_read/LLG/checkm/1/checkm/markers_qa_summary.tsv.4 |\n",
       "| GCA_000016685_1_ASM1668v1 | f__Pasteurellaceae (UID4932)     |  83 | 767 | 440 |  99.89 | 0.00 |  0 | 2242062 | 4 | ⋯ | 1 | 766 | 0 | 0 | 0 | 0 | |ebio|abt3_projects|databases_no-backup|CAMI|CAMI2_HMP-skin|short_read|LLG|checkm|1|checkm|markers_qa_summary.tsv.5 | markers_qa_summary.tsv.5 | NA | /ebio/abt3_projects/databases_no-backup/CAMI/CAMI2_HMP-skin/short_read/LLG/checkm/1/checkm/markers_qa_summary.tsv.5 |\n",
       "| GCA_000017265_1_ASM1726v1 | c__Alphaproteobacteria (UID3422) |  26 | 529 | 308 | 100.00 | 0.00 |  0 | 4379231 | 0 | ⋯ | 0 | 529 | 0 | 0 | 0 | 0 | |ebio|abt3_projects|databases_no-backup|CAMI|CAMI2_HMP-skin|short_read|LLG|checkm|1|checkm|markers_qa_summary.tsv.6 | markers_qa_summary.tsv.6 | NA | /ebio/abt3_projects/databases_no-backup/CAMI/CAMI2_HMP-skin/short_read/LLG/checkm/1/checkm/markers_qa_summary.tsv.6 |\n",
       "| GCA_000023145_1_ASM2314v1 | o__Actinomycetales (UID1809)     | 267 | 400 | 222 |  97.86 | 0.00 |  0 | 2446804 | 0 | ⋯ | 8 | 392 | 0 | 0 | 0 | 0 | |ebio|abt3_projects|databases_no-backup|CAMI|CAMI2_HMP-skin|short_read|LLG|checkm|1|checkm|markers_qa_summary.tsv.7 | markers_qa_summary.tsv.7 | NA | /ebio/abt3_projects/databases_no-backup/CAMI/CAMI2_HMP-skin/short_read/LLG/checkm/1/checkm/markers_qa_summary.tsv.7 |\n",
       "| GCA_000025345_1_ASM2534v1 | o__Actinomycetales (UID1802)     | 274 | 383 | 212 |  99.37 | 1.64 |  0 | 5322497 | 0 | ⋯ | 2 | 375 | 6 | 0 | 0 | 0 | |ebio|abt3_projects|databases_no-backup|CAMI|CAMI2_HMP-skin|short_read|LLG|checkm|1|checkm|markers_qa_summary.tsv.8 | markers_qa_summary.tsv.8 | NA | /ebio/abt3_projects/databases_no-backup/CAMI/CAMI2_HMP-skin/short_read/LLG/checkm/1/checkm/markers_qa_summary.tsv.8 |\n",
       "| ⋮ | ⋮ | ⋮ | ⋮ | ⋮ | ⋮ | ⋮ | ⋮ | ⋮ | ⋮ | ⋱ | ⋮ | ⋮ | ⋮ | ⋮ | ⋮ | ⋮ | ⋮ | ⋮ | ⋮ | ⋮ |\n",
       "| GCA_001721925_1_ASM172192v1 | g__Lactobacillus (UID436)       |  31 |  586 | 184 |  99.35 | 0.00 |  0 | 2934954 | 0 | ⋯ | 3 |  583 | 0 | 0 | 0 | 0 | |ebio|abt3_projects|databases_no-backup|CAMI|CAMI2_HMP-skin|short_read|LLG|checkm|20|checkm|markers_qa_summary.tsv.63 | markers_qa_summary.tsv.63 | NA | /ebio/abt3_projects/databases_no-backup/CAMI/CAMI2_HMP-skin/short_read/LLG/checkm/20/checkm/markers_qa_summary.tsv.63 |\n",
       "| GCA_001806425_1_ASM180642v1 | g__Acinetobacter (UID4685)      |  42 | 1193 | 254 |  99.74 | 0.61 |  0 | 4038601 | 0 | ⋯ | 6 | 1184 | 3 | 0 | 0 | 0 | |ebio|abt3_projects|databases_no-backup|CAMI|CAMI2_HMP-skin|short_read|LLG|checkm|20|checkm|markers_qa_summary.tsv.64 | markers_qa_summary.tsv.64 | NA | /ebio/abt3_projects/databases_no-backup/CAMI/CAMI2_HMP-skin/short_read/LLG/checkm/20/checkm/markers_qa_summary.tsv.64 |\n",
       "| GCA_001879565_1_ASM187956v1 | f__Burkholderiaceae (UID4003)   |  91 |  596 | 218 |  99.94 | 0.00 |  0 | 5762975 | 0 | ⋯ | 1 |  595 | 0 | 0 | 0 | 0 | |ebio|abt3_projects|databases_no-backup|CAMI|CAMI2_HMP-skin|short_read|LLG|checkm|20|checkm|markers_qa_summary.tsv.65 | markers_qa_summary.tsv.65 | NA | /ebio/abt3_projects/databases_no-backup/CAMI/CAMI2_HMP-skin/short_read/LLG/checkm/20/checkm/markers_qa_summary.tsv.65 |\n",
       "| GCA_001889125_1_ASM188912v1 | o__Actinomycetales (UID1663)    | 488 |  309 | 185 |  99.28 | 0.00 |  0 | 3401189 | 0 | ⋯ | 2 |  307 | 0 | 0 | 0 | 0 | |ebio|abt3_projects|databases_no-backup|CAMI|CAMI2_HMP-skin|short_read|LLG|checkm|20|checkm|markers_qa_summary.tsv.66 | markers_qa_summary.tsv.66 | NA | /ebio/abt3_projects/databases_no-backup/CAMI/CAMI2_HMP-skin/short_read/LLG/checkm/20/checkm/markers_qa_summary.tsv.66 |\n",
       "| GCA_001908675_1_ASM190867v1 | f__Enterobacteriaceae (UID5121) | 138 | 1162 | 336 | 100.00 | 0.93 |  0 | 5921376 | 0 | ⋯ | 0 | 1153 | 9 | 0 | 0 | 0 | |ebio|abt3_projects|databases_no-backup|CAMI|CAMI2_HMP-skin|short_read|LLG|checkm|20|checkm|markers_qa_summary.tsv.67 | markers_qa_summary.tsv.67 | NA | /ebio/abt3_projects/databases_no-backup/CAMI/CAMI2_HMP-skin/short_read/LLG/checkm/20/checkm/markers_qa_summary.tsv.67 |\n",
       "| GCA_001941785_1_ASM194178v1 | o__Lactobacillales (UID355)     | 490 |  334 | 183 |  99.18 | 0.82 | 50 | 2272328 | 0 | ⋯ | 2 |  330 | 2 | 0 | 0 | 0 | |ebio|abt3_projects|databases_no-backup|CAMI|CAMI2_HMP-skin|short_read|LLG|checkm|20|checkm|markers_qa_summary.tsv.68 | markers_qa_summary.tsv.68 | NA | /ebio/abt3_projects/databases_no-backup/CAMI/CAMI2_HMP-skin/short_read/LLG/checkm/20/checkm/markers_qa_summary.tsv.68 |\n",
       "| GCA_001971605_1_ASM197160v1 | o__Sphingomonadales (UID3310)   |  26 |  569 | 293 |  99.59 | 1.45 |  0 | 3938206 | 0 | ⋯ | 2 |  561 | 6 | 0 | 0 | 0 | |ebio|abt3_projects|databases_no-backup|CAMI|CAMI2_HMP-skin|short_read|LLG|checkm|20|checkm|markers_qa_summary.tsv.69 | markers_qa_summary.tsv.69 | NA | /ebio/abt3_projects/databases_no-backup/CAMI/CAMI2_HMP-skin/short_read/LLG/checkm/20/checkm/markers_qa_summary.tsv.69 |\n",
       "\n"
      ],
      "text/plain": [
       "     Bin.Id                      Marker.lineage                   X..genomes\n",
       "1    GCA_000006625_1_ASM662v1    f__Mycoplasmataceae (UID2466)     36       \n",
       "2    GCA_000010145_1_ASM1014v1   o__Lactobacillales (UID355)      490       \n",
       "3    GCA_000011665_1_ASM1166v1   g__Streptococcus (UID722)         30       \n",
       "4    GCA_000014305_1_ASM1430v1   o__Lactobacillales (UID544)      293       \n",
       "5    GCA_000016685_1_ASM1668v1   f__Pasteurellaceae (UID4932)      83       \n",
       "6    GCA_000017265_1_ASM1726v1   c__Alphaproteobacteria (UID3422)  26       \n",
       "7    GCA_000023145_1_ASM2314v1   o__Actinomycetales (UID1809)     267       \n",
       "8    GCA_000025345_1_ASM2534v1   o__Actinomycetales (UID1802)     274       \n",
       "⋮    ⋮                           ⋮                                ⋮         \n",
       "1388 GCA_001721925_1_ASM172192v1 g__Lactobacillus (UID436)         31       \n",
       "1389 GCA_001806425_1_ASM180642v1 g__Acinetobacter (UID4685)        42       \n",
       "1390 GCA_001879565_1_ASM187956v1 f__Burkholderiaceae (UID4003)     91       \n",
       "1391 GCA_001889125_1_ASM188912v1 o__Actinomycetales (UID1663)     488       \n",
       "1392 GCA_001908675_1_ASM190867v1 f__Enterobacteriaceae (UID5121)  138       \n",
       "1393 GCA_001941785_1_ASM194178v1 o__Lactobacillales (UID355)      490       \n",
       "1394 GCA_001971605_1_ASM197160v1 o__Sphingomonadales (UID3310)     26       \n",
       "     X..markers X..marker.sets Completeness Contamination Strain.heterogeneity\n",
       "1    295        140             99.05       0.00           0                  \n",
       "2    334        183             99.18       0.82          50                  \n",
       "3    676        182             99.85       0.08           0                  \n",
       "4    475        267             97.38       0.00           0                  \n",
       "5    767        440             99.89       0.00           0                  \n",
       "6    529        308            100.00       0.00           0                  \n",
       "7    400        222             97.86       0.00           0                  \n",
       "8    383        212             99.37       1.64           0                  \n",
       "⋮    ⋮          ⋮              ⋮            ⋮             ⋮                   \n",
       "1388  586       184             99.35       0.00           0                  \n",
       "1389 1193       254             99.74       0.61           0                  \n",
       "1390  596       218             99.94       0.00           0                  \n",
       "1391  309       185             99.28       0.00           0                  \n",
       "1392 1162       336            100.00       0.93           0                  \n",
       "1393  334       183             99.18       0.82          50                  \n",
       "1394  569       293             99.59       1.45           0                  \n",
       "     Genome.size..bp. X..ambiguous.bases ⋯ X0 X1   X2 X3 X4 X5.\n",
       "1     751719          0                  ⋯ 2  293  0  0  0  0  \n",
       "2    2098685          0                  ⋯ 2  330  2  0  0  0  \n",
       "3    1899877          0                  ⋯ 2  673  1  0  0  0  \n",
       "4    2096309          0                  ⋯ 8  467  0  0  0  0  \n",
       "5    2242062          4                  ⋯ 1  766  0  0  0  0  \n",
       "6    4379231          0                  ⋯ 0  529  0  0  0  0  \n",
       "7    2446804          0                  ⋯ 8  392  0  0  0  0  \n",
       "8    5322497          0                  ⋯ 2  375  6  0  0  0  \n",
       "⋮    ⋮                ⋮                  ⋱ ⋮  ⋮    ⋮  ⋮  ⋮  ⋮  \n",
       "1388 2934954          0                  ⋯ 3   583 0  0  0  0  \n",
       "1389 4038601          0                  ⋯ 6  1184 3  0  0  0  \n",
       "1390 5762975          0                  ⋯ 1   595 0  0  0  0  \n",
       "1391 3401189          0                  ⋯ 2   307 0  0  0  0  \n",
       "1392 5921376          0                  ⋯ 0  1153 9  0  0  0  \n",
       "1393 2272328          0                  ⋯ 2   330 2  0  0  0  \n",
       "1394 3938206          0                  ⋯ 2   561 6  0  0  0  \n",
       "     assembly.Id                                                                                                          \n",
       "1    |ebio|abt3_projects|databases_no-backup|CAMI|CAMI2_HMP-skin|short_read|LLG|checkm|1|checkm|markers_qa_summary.tsv.1  \n",
       "2    |ebio|abt3_projects|databases_no-backup|CAMI|CAMI2_HMP-skin|short_read|LLG|checkm|1|checkm|markers_qa_summary.tsv.2  \n",
       "3    |ebio|abt3_projects|databases_no-backup|CAMI|CAMI2_HMP-skin|short_read|LLG|checkm|1|checkm|markers_qa_summary.tsv.3  \n",
       "4    |ebio|abt3_projects|databases_no-backup|CAMI|CAMI2_HMP-skin|short_read|LLG|checkm|1|checkm|markers_qa_summary.tsv.4  \n",
       "5    |ebio|abt3_projects|databases_no-backup|CAMI|CAMI2_HMP-skin|short_read|LLG|checkm|1|checkm|markers_qa_summary.tsv.5  \n",
       "6    |ebio|abt3_projects|databases_no-backup|CAMI|CAMI2_HMP-skin|short_read|LLG|checkm|1|checkm|markers_qa_summary.tsv.6  \n",
       "7    |ebio|abt3_projects|databases_no-backup|CAMI|CAMI2_HMP-skin|short_read|LLG|checkm|1|checkm|markers_qa_summary.tsv.7  \n",
       "8    |ebio|abt3_projects|databases_no-backup|CAMI|CAMI2_HMP-skin|short_read|LLG|checkm|1|checkm|markers_qa_summary.tsv.8  \n",
       "⋮    ⋮                                                                                                                    \n",
       "1388 |ebio|abt3_projects|databases_no-backup|CAMI|CAMI2_HMP-skin|short_read|LLG|checkm|20|checkm|markers_qa_summary.tsv.63\n",
       "1389 |ebio|abt3_projects|databases_no-backup|CAMI|CAMI2_HMP-skin|short_read|LLG|checkm|20|checkm|markers_qa_summary.tsv.64\n",
       "1390 |ebio|abt3_projects|databases_no-backup|CAMI|CAMI2_HMP-skin|short_read|LLG|checkm|20|checkm|markers_qa_summary.tsv.65\n",
       "1391 |ebio|abt3_projects|databases_no-backup|CAMI|CAMI2_HMP-skin|short_read|LLG|checkm|20|checkm|markers_qa_summary.tsv.66\n",
       "1392 |ebio|abt3_projects|databases_no-backup|CAMI|CAMI2_HMP-skin|short_read|LLG|checkm|20|checkm|markers_qa_summary.tsv.67\n",
       "1393 |ebio|abt3_projects|databases_no-backup|CAMI|CAMI2_HMP-skin|short_read|LLG|checkm|20|checkm|markers_qa_summary.tsv.68\n",
       "1394 |ebio|abt3_projects|databases_no-backup|CAMI|CAMI2_HMP-skin|short_read|LLG|checkm|20|checkm|markers_qa_summary.tsv.69\n",
       "     assembler.Id              taxon.Id\n",
       "1    markers_qa_summary.tsv.1  NA      \n",
       "2    markers_qa_summary.tsv.2  NA      \n",
       "3    markers_qa_summary.tsv.3  NA      \n",
       "4    markers_qa_summary.tsv.4  NA      \n",
       "5    markers_qa_summary.tsv.5  NA      \n",
       "6    markers_qa_summary.tsv.6  NA      \n",
       "7    markers_qa_summary.tsv.7  NA      \n",
       "8    markers_qa_summary.tsv.8  NA      \n",
       "⋮    ⋮                         ⋮       \n",
       "1388 markers_qa_summary.tsv.63 NA      \n",
       "1389 markers_qa_summary.tsv.64 NA      \n",
       "1390 markers_qa_summary.tsv.65 NA      \n",
       "1391 markers_qa_summary.tsv.66 NA      \n",
       "1392 markers_qa_summary.tsv.67 NA      \n",
       "1393 markers_qa_summary.tsv.68 NA      \n",
       "1394 markers_qa_summary.tsv.69 NA      \n",
       "     File                                                                                                                 \n",
       "1    /ebio/abt3_projects/databases_no-backup/CAMI/CAMI2_HMP-skin/short_read/LLG/checkm/1/checkm/markers_qa_summary.tsv.1  \n",
       "2    /ebio/abt3_projects/databases_no-backup/CAMI/CAMI2_HMP-skin/short_read/LLG/checkm/1/checkm/markers_qa_summary.tsv.2  \n",
       "3    /ebio/abt3_projects/databases_no-backup/CAMI/CAMI2_HMP-skin/short_read/LLG/checkm/1/checkm/markers_qa_summary.tsv.3  \n",
       "4    /ebio/abt3_projects/databases_no-backup/CAMI/CAMI2_HMP-skin/short_read/LLG/checkm/1/checkm/markers_qa_summary.tsv.4  \n",
       "5    /ebio/abt3_projects/databases_no-backup/CAMI/CAMI2_HMP-skin/short_read/LLG/checkm/1/checkm/markers_qa_summary.tsv.5  \n",
       "6    /ebio/abt3_projects/databases_no-backup/CAMI/CAMI2_HMP-skin/short_read/LLG/checkm/1/checkm/markers_qa_summary.tsv.6  \n",
       "7    /ebio/abt3_projects/databases_no-backup/CAMI/CAMI2_HMP-skin/short_read/LLG/checkm/1/checkm/markers_qa_summary.tsv.7  \n",
       "8    /ebio/abt3_projects/databases_no-backup/CAMI/CAMI2_HMP-skin/short_read/LLG/checkm/1/checkm/markers_qa_summary.tsv.8  \n",
       "⋮    ⋮                                                                                                                    \n",
       "1388 /ebio/abt3_projects/databases_no-backup/CAMI/CAMI2_HMP-skin/short_read/LLG/checkm/20/checkm/markers_qa_summary.tsv.63\n",
       "1389 /ebio/abt3_projects/databases_no-backup/CAMI/CAMI2_HMP-skin/short_read/LLG/checkm/20/checkm/markers_qa_summary.tsv.64\n",
       "1390 /ebio/abt3_projects/databases_no-backup/CAMI/CAMI2_HMP-skin/short_read/LLG/checkm/20/checkm/markers_qa_summary.tsv.65\n",
       "1391 /ebio/abt3_projects/databases_no-backup/CAMI/CAMI2_HMP-skin/short_read/LLG/checkm/20/checkm/markers_qa_summary.tsv.66\n",
       "1392 /ebio/abt3_projects/databases_no-backup/CAMI/CAMI2_HMP-skin/short_read/LLG/checkm/20/checkm/markers_qa_summary.tsv.67\n",
       "1393 /ebio/abt3_projects/databases_no-backup/CAMI/CAMI2_HMP-skin/short_read/LLG/checkm/20/checkm/markers_qa_summary.tsv.68\n",
       "1394 /ebio/abt3_projects/databases_no-backup/CAMI/CAMI2_HMP-skin/short_read/LLG/checkm/20/checkm/markers_qa_summary.tsv.69"
      ]
     },
     "metadata": {},
     "output_type": "display_data"
    }
   ],
   "source": [
    "# checkm table load\n",
    "F = file.path(work_dir, 'LLG', 'checkm', 'checkm_qa_summary.tsv')\n",
    "checkm = Fread(F)\n",
    "checkm"
   ]
  },
  {
   "cell_type": "code",
   "execution_count": 19,
   "id": "78677006",
   "metadata": {
    "ExecuteTime": {
     "end_time": "2021-10-29T12:04:37.179173Z",
     "start_time": "2021-10-29T12:04:37.076Z"
    }
   },
   "outputs": [
    {
     "data": {
      "text/html": [
       "<table class=\"dataframe\">\n",
       "<caption>A matrix: 1 × 8 of type dbl</caption>\n",
       "<thead>\n",
       "\t<tr><th></th><th scope=col>Min.</th><th scope=col>1st Qu.</th><th scope=col>Median</th><th scope=col>Mean</th><th scope=col>3rd Qu.</th><th scope=col>Max.</th><th scope=col>sd</th><th scope=col>sd_err_of_mean</th></tr>\n",
       "</thead>\n",
       "<tbody>\n",
       "\t<tr><th scope=row>Completeness</th><td>79.13</td><td>99.34</td><td>99.545</td><td>99.4181</td><td>99.85</td><td>100</td><td>8.373</td><td>3.418</td></tr>\n",
       "</tbody>\n",
       "</table>\n"
      ],
      "text/latex": [
       "A matrix: 1 × 8 of type dbl\n",
       "\\begin{tabular}{r|llllllll}\n",
       "  & Min. & 1st Qu. & Median & Mean & 3rd Qu. & Max. & sd & sd\\_err\\_of\\_mean\\\\\n",
       "\\hline\n",
       "\tCompleteness & 79.13 & 99.34 & 99.545 & 99.4181 & 99.85 & 100 & 8.373 & 3.418\\\\\n",
       "\\end{tabular}\n"
      ],
      "text/markdown": [
       "\n",
       "A matrix: 1 × 8 of type dbl\n",
       "\n",
       "| <!--/--> | Min. | 1st Qu. | Median | Mean | 3rd Qu. | Max. | sd | sd_err_of_mean |\n",
       "|---|---|---|---|---|---|---|---|---|\n",
       "| Completeness | 79.13 | 99.34 | 99.545 | 99.4181 | 99.85 | 100 | 8.373 | 3.418 |\n",
       "\n"
      ],
      "text/plain": [
       "             Min.  1st Qu. Median Mean    3rd Qu. Max. sd    sd_err_of_mean\n",
       "Completeness 79.13 99.34   99.545 99.4181 99.85   100  8.373 3.418         "
      ]
     },
     "metadata": {},
     "output_type": "display_data"
    },
    {
     "data": {
      "text/html": [
       "<table class=\"dataframe\">\n",
       "<caption>A matrix: 1 × 8 of type dbl</caption>\n",
       "<thead>\n",
       "\t<tr><th></th><th scope=col>Min.</th><th scope=col>1st Qu.</th><th scope=col>Median</th><th scope=col>Mean</th><th scope=col>3rd Qu.</th><th scope=col>Max.</th><th scope=col>sd</th><th scope=col>sd_err_of_mean</th></tr>\n",
       "</thead>\n",
       "<tbody>\n",
       "\t<tr><th scope=row>Contamination</th><td>0</td><td>0</td><td>0.12</td><td>0.4405882</td><td>0.46</td><td>43.26</td><td>17.579</td><td>7.176</td></tr>\n",
       "</tbody>\n",
       "</table>\n"
      ],
      "text/latex": [
       "A matrix: 1 × 8 of type dbl\n",
       "\\begin{tabular}{r|llllllll}\n",
       "  & Min. & 1st Qu. & Median & Mean & 3rd Qu. & Max. & sd & sd\\_err\\_of\\_mean\\\\\n",
       "\\hline\n",
       "\tContamination & 0 & 0 & 0.12 & 0.4405882 & 0.46 & 43.26 & 17.579 & 7.176\\\\\n",
       "\\end{tabular}\n"
      ],
      "text/markdown": [
       "\n",
       "A matrix: 1 × 8 of type dbl\n",
       "\n",
       "| <!--/--> | Min. | 1st Qu. | Median | Mean | 3rd Qu. | Max. | sd | sd_err_of_mean |\n",
       "|---|---|---|---|---|---|---|---|---|\n",
       "| Contamination | 0 | 0 | 0.12 | 0.4405882 | 0.46 | 43.26 | 17.579 | 7.176 |\n",
       "\n"
      ],
      "text/plain": [
       "              Min. 1st Qu. Median Mean      3rd Qu. Max.  sd     sd_err_of_mean\n",
       "Contamination 0    0       0.12   0.4405882 0.46    43.26 17.579 7.176         "
      ]
     },
     "metadata": {},
     "output_type": "display_data"
    }
   ],
   "source": [
    "# summary\n",
    "summary_x(checkm$Completeness)\n",
    "summary_x(checkm$Contamination)"
   ]
  },
  {
   "cell_type": "markdown",
   "id": "61f981a2",
   "metadata": {},
   "source": [
    "### GTDBTK"
   ]
  },
  {
   "cell_type": "code",
   "execution_count": 20,
   "id": "babc58fb",
   "metadata": {
    "ExecuteTime": {
     "end_time": "2021-10-29T12:04:39.539808Z",
     "start_time": "2021-10-29T12:04:39.261Z"
    }
   },
   "outputs": [
    {
     "data": {
      "text/html": [
       "<table class=\"dataframe\">\n",
       "<caption>A tidytable: 1394 × 8</caption>\n",
       "<thead>\n",
       "\t<tr><th scope=col>user_genome</th><th scope=col>Domain</th><th scope=col>Phylum</th><th scope=col>Class</th><th scope=col>Order</th><th scope=col>Family</th><th scope=col>Genus</th><th scope=col>Species</th></tr>\n",
       "\t<tr><th scope=col>&lt;chr&gt;</th><th scope=col>&lt;chr&gt;</th><th scope=col>&lt;chr&gt;</th><th scope=col>&lt;chr&gt;</th><th scope=col>&lt;chr&gt;</th><th scope=col>&lt;chr&gt;</th><th scope=col>&lt;chr&gt;</th><th scope=col>&lt;chr&gt;</th></tr>\n",
       "</thead>\n",
       "<tbody>\n",
       "\t<tr><td>GCA_000006625_1_ASM662v1 </td><td>Bacteria</td><td>Firmicutes      </td><td>Bacilli            </td><td>Mycoplasmatales </td><td>Mycoplasmoidaceae  </td><td>Ureaplasma         </td><td>Ureaplasma parvum             </td></tr>\n",
       "\t<tr><td>GCA_000010145_1_ASM1014v1</td><td>Bacteria</td><td>Firmicutes      </td><td>Bacilli            </td><td>Lactobacillales </td><td>Lactobacillaceae   </td><td>Limosilactobacillus</td><td>Limosilactobacillus fermentum </td></tr>\n",
       "\t<tr><td>GCA_000011665_1_ASM1166v1</td><td>Bacteria</td><td>Firmicutes      </td><td>Bacilli            </td><td>Lactobacillales </td><td>Streptococcaceae   </td><td>Streptococcus      </td><td>Streptococcus pyogenes        </td></tr>\n",
       "\t<tr><td>GCA_000014305_1_ASM1430v1</td><td>Bacteria</td><td>Firmicutes      </td><td>Bacilli            </td><td>Lactobacillales </td><td>Streptococcaceae   </td><td>Streptococcus      </td><td>Streptococcus suis            </td></tr>\n",
       "\t<tr><td>GCA_000016685_1_ASM1668v1</td><td>Bacteria</td><td>Proteobacteria  </td><td>Gammaproteobacteria</td><td>Enterobacterales</td><td>Pasteurellaceae    </td><td>Actinobacillus     </td><td>Actinobacillus lignieresii    </td></tr>\n",
       "\t<tr><td>GCA_000017265_1_ASM1726v1</td><td>Bacteria</td><td>Proteobacteria  </td><td>Alphaproteobacteria</td><td>Caulobacterales </td><td>Caulobacteraceae   </td><td>Phenylobacterium   </td><td>Phenylobacterium zucineum     </td></tr>\n",
       "\t<tr><td>GCA_000023145_1_ASM2314v1</td><td>Bacteria</td><td>Actinobacteriota</td><td>Actinomycetia      </td><td>Mycobacteriales </td><td>Mycobacteriaceae   </td><td>Corynebacterium    </td><td>Corynebacterium kroppenstedtii</td></tr>\n",
       "\t<tr><td>GCA_000025345_1_ASM2534v1</td><td>Bacteria</td><td>Actinobacteriota</td><td>Actinomycetia      </td><td>Mycobacteriales </td><td>Geodermatophilaceae</td><td>Geodermatophilus   </td><td>Geodermatophilus obscurus     </td></tr>\n",
       "\t<tr><td>⋮</td><td>⋮</td><td>⋮</td><td>⋮</td><td>⋮</td><td>⋮</td><td>⋮</td><td>⋮</td></tr>\n",
       "\t<tr><td>GCA_001721925_1_ASM172192v1</td><td>Bacteria</td><td>Firmicutes      </td><td>Bacilli            </td><td>Lactobacillales </td><td>Lactobacillaceae  </td><td>Lacticaseibacillus </td><td>Lacticaseibacillus rhamnosus </td></tr>\n",
       "\t<tr><td>GCA_001806425_1_ASM180642v1</td><td>Bacteria</td><td>Proteobacteria  </td><td>Gammaproteobacteria</td><td>Pseudomonadales </td><td>Moraxellaceae     </td><td>Acinetobacter      </td><td>Acinetobacter baumannii      </td></tr>\n",
       "\t<tr><td>GCA_001879565_1_ASM187956v1</td><td>Bacteria</td><td>Proteobacteria  </td><td>Gammaproteobacteria</td><td>Burkholderiales </td><td>Burkholderiaceae  </td><td>Ralstonia          </td><td>Ralstonia pseudosolanacearum </td></tr>\n",
       "\t<tr><td>GCA_001889125_1_ASM188912v1</td><td>Bacteria</td><td>Actinobacteriota</td><td>Actinomycetia      </td><td>Actinomycetales </td><td>Dermatophilaceae  </td><td>Janibacter         </td><td>Janibacter indicus           </td></tr>\n",
       "\t<tr><td>GCA_001908675_1_ASM190867v1</td><td>Bacteria</td><td>Proteobacteria  </td><td>Gammaproteobacteria</td><td>Enterobacterales</td><td>Enterobacteriaceae</td><td>Klebsiella         </td><td>Klebsiella pneumoniae        </td></tr>\n",
       "\t<tr><td>GCA_001941785_1_ASM194178v1</td><td>Bacteria</td><td>Firmicutes      </td><td>Bacilli            </td><td>Lactobacillales </td><td>Lactobacillaceae  </td><td>Limosilactobacillus</td><td>Limosilactobacillus fermentum</td></tr>\n",
       "\t<tr><td>GCA_001971605_1_ASM197160v1</td><td>Bacteria</td><td>Proteobacteria  </td><td>Alphaproteobacteria</td><td>Sphingomonadales</td><td>Sphingomonadaceae </td><td>Sphingomonas       </td><td>Sphingomonas sp001971605     </td></tr>\n",
       "</tbody>\n",
       "</table>\n"
      ],
      "text/latex": [
       "A tidytable: 1394 × 8\n",
       "\\begin{tabular}{llllllll}\n",
       " user\\_genome & Domain & Phylum & Class & Order & Family & Genus & Species\\\\\n",
       " <chr> & <chr> & <chr> & <chr> & <chr> & <chr> & <chr> & <chr>\\\\\n",
       "\\hline\n",
       "\t GCA\\_000006625\\_1\\_ASM662v1  & Bacteria & Firmicutes       & Bacilli             & Mycoplasmatales  & Mycoplasmoidaceae   & Ureaplasma          & Ureaplasma parvum             \\\\\n",
       "\t GCA\\_000010145\\_1\\_ASM1014v1 & Bacteria & Firmicutes       & Bacilli             & Lactobacillales  & Lactobacillaceae    & Limosilactobacillus & Limosilactobacillus fermentum \\\\\n",
       "\t GCA\\_000011665\\_1\\_ASM1166v1 & Bacteria & Firmicutes       & Bacilli             & Lactobacillales  & Streptococcaceae    & Streptococcus       & Streptococcus pyogenes        \\\\\n",
       "\t GCA\\_000014305\\_1\\_ASM1430v1 & Bacteria & Firmicutes       & Bacilli             & Lactobacillales  & Streptococcaceae    & Streptococcus       & Streptococcus suis            \\\\\n",
       "\t GCA\\_000016685\\_1\\_ASM1668v1 & Bacteria & Proteobacteria   & Gammaproteobacteria & Enterobacterales & Pasteurellaceae     & Actinobacillus      & Actinobacillus lignieresii    \\\\\n",
       "\t GCA\\_000017265\\_1\\_ASM1726v1 & Bacteria & Proteobacteria   & Alphaproteobacteria & Caulobacterales  & Caulobacteraceae    & Phenylobacterium    & Phenylobacterium zucineum     \\\\\n",
       "\t GCA\\_000023145\\_1\\_ASM2314v1 & Bacteria & Actinobacteriota & Actinomycetia       & Mycobacteriales  & Mycobacteriaceae    & Corynebacterium     & Corynebacterium kroppenstedtii\\\\\n",
       "\t GCA\\_000025345\\_1\\_ASM2534v1 & Bacteria & Actinobacteriota & Actinomycetia       & Mycobacteriales  & Geodermatophilaceae & Geodermatophilus    & Geodermatophilus obscurus     \\\\\n",
       "\t ⋮ & ⋮ & ⋮ & ⋮ & ⋮ & ⋮ & ⋮ & ⋮\\\\\n",
       "\t GCA\\_001721925\\_1\\_ASM172192v1 & Bacteria & Firmicutes       & Bacilli             & Lactobacillales  & Lactobacillaceae   & Lacticaseibacillus  & Lacticaseibacillus rhamnosus \\\\\n",
       "\t GCA\\_001806425\\_1\\_ASM180642v1 & Bacteria & Proteobacteria   & Gammaproteobacteria & Pseudomonadales  & Moraxellaceae      & Acinetobacter       & Acinetobacter baumannii      \\\\\n",
       "\t GCA\\_001879565\\_1\\_ASM187956v1 & Bacteria & Proteobacteria   & Gammaproteobacteria & Burkholderiales  & Burkholderiaceae   & Ralstonia           & Ralstonia pseudosolanacearum \\\\\n",
       "\t GCA\\_001889125\\_1\\_ASM188912v1 & Bacteria & Actinobacteriota & Actinomycetia       & Actinomycetales  & Dermatophilaceae   & Janibacter          & Janibacter indicus           \\\\\n",
       "\t GCA\\_001908675\\_1\\_ASM190867v1 & Bacteria & Proteobacteria   & Gammaproteobacteria & Enterobacterales & Enterobacteriaceae & Klebsiella          & Klebsiella pneumoniae        \\\\\n",
       "\t GCA\\_001941785\\_1\\_ASM194178v1 & Bacteria & Firmicutes       & Bacilli             & Lactobacillales  & Lactobacillaceae   & Limosilactobacillus & Limosilactobacillus fermentum\\\\\n",
       "\t GCA\\_001971605\\_1\\_ASM197160v1 & Bacteria & Proteobacteria   & Alphaproteobacteria & Sphingomonadales & Sphingomonadaceae  & Sphingomonas        & Sphingomonas sp001971605     \\\\\n",
       "\\end{tabular}\n"
      ],
      "text/markdown": [
       "\n",
       "A tidytable: 1394 × 8\n",
       "\n",
       "| user_genome &lt;chr&gt; | Domain &lt;chr&gt; | Phylum &lt;chr&gt; | Class &lt;chr&gt; | Order &lt;chr&gt; | Family &lt;chr&gt; | Genus &lt;chr&gt; | Species &lt;chr&gt; |\n",
       "|---|---|---|---|---|---|---|---|\n",
       "| GCA_000006625_1_ASM662v1  | Bacteria | Firmicutes       | Bacilli             | Mycoplasmatales  | Mycoplasmoidaceae   | Ureaplasma          | Ureaplasma parvum              |\n",
       "| GCA_000010145_1_ASM1014v1 | Bacteria | Firmicutes       | Bacilli             | Lactobacillales  | Lactobacillaceae    | Limosilactobacillus | Limosilactobacillus fermentum  |\n",
       "| GCA_000011665_1_ASM1166v1 | Bacteria | Firmicutes       | Bacilli             | Lactobacillales  | Streptococcaceae    | Streptococcus       | Streptococcus pyogenes         |\n",
       "| GCA_000014305_1_ASM1430v1 | Bacteria | Firmicutes       | Bacilli             | Lactobacillales  | Streptococcaceae    | Streptococcus       | Streptococcus suis             |\n",
       "| GCA_000016685_1_ASM1668v1 | Bacteria | Proteobacteria   | Gammaproteobacteria | Enterobacterales | Pasteurellaceae     | Actinobacillus      | Actinobacillus lignieresii     |\n",
       "| GCA_000017265_1_ASM1726v1 | Bacteria | Proteobacteria   | Alphaproteobacteria | Caulobacterales  | Caulobacteraceae    | Phenylobacterium    | Phenylobacterium zucineum      |\n",
       "| GCA_000023145_1_ASM2314v1 | Bacteria | Actinobacteriota | Actinomycetia       | Mycobacteriales  | Mycobacteriaceae    | Corynebacterium     | Corynebacterium kroppenstedtii |\n",
       "| GCA_000025345_1_ASM2534v1 | Bacteria | Actinobacteriota | Actinomycetia       | Mycobacteriales  | Geodermatophilaceae | Geodermatophilus    | Geodermatophilus obscurus      |\n",
       "| ⋮ | ⋮ | ⋮ | ⋮ | ⋮ | ⋮ | ⋮ | ⋮ |\n",
       "| GCA_001721925_1_ASM172192v1 | Bacteria | Firmicutes       | Bacilli             | Lactobacillales  | Lactobacillaceae   | Lacticaseibacillus  | Lacticaseibacillus rhamnosus  |\n",
       "| GCA_001806425_1_ASM180642v1 | Bacteria | Proteobacteria   | Gammaproteobacteria | Pseudomonadales  | Moraxellaceae      | Acinetobacter       | Acinetobacter baumannii       |\n",
       "| GCA_001879565_1_ASM187956v1 | Bacteria | Proteobacteria   | Gammaproteobacteria | Burkholderiales  | Burkholderiaceae   | Ralstonia           | Ralstonia pseudosolanacearum  |\n",
       "| GCA_001889125_1_ASM188912v1 | Bacteria | Actinobacteriota | Actinomycetia       | Actinomycetales  | Dermatophilaceae   | Janibacter          | Janibacter indicus            |\n",
       "| GCA_001908675_1_ASM190867v1 | Bacteria | Proteobacteria   | Gammaproteobacteria | Enterobacterales | Enterobacteriaceae | Klebsiella          | Klebsiella pneumoniae         |\n",
       "| GCA_001941785_1_ASM194178v1 | Bacteria | Firmicutes       | Bacilli             | Lactobacillales  | Lactobacillaceae   | Limosilactobacillus | Limosilactobacillus fermentum |\n",
       "| GCA_001971605_1_ASM197160v1 | Bacteria | Proteobacteria   | Alphaproteobacteria | Sphingomonadales | Sphingomonadaceae  | Sphingomonas        | Sphingomonas sp001971605      |\n",
       "\n"
      ],
      "text/plain": [
       "     user_genome                 Domain   Phylum           Class              \n",
       "1    GCA_000006625_1_ASM662v1    Bacteria Firmicutes       Bacilli            \n",
       "2    GCA_000010145_1_ASM1014v1   Bacteria Firmicutes       Bacilli            \n",
       "3    GCA_000011665_1_ASM1166v1   Bacteria Firmicutes       Bacilli            \n",
       "4    GCA_000014305_1_ASM1430v1   Bacteria Firmicutes       Bacilli            \n",
       "5    GCA_000016685_1_ASM1668v1   Bacteria Proteobacteria   Gammaproteobacteria\n",
       "6    GCA_000017265_1_ASM1726v1   Bacteria Proteobacteria   Alphaproteobacteria\n",
       "7    GCA_000023145_1_ASM2314v1   Bacteria Actinobacteriota Actinomycetia      \n",
       "8    GCA_000025345_1_ASM2534v1   Bacteria Actinobacteriota Actinomycetia      \n",
       "⋮    ⋮                           ⋮        ⋮                ⋮                  \n",
       "1388 GCA_001721925_1_ASM172192v1 Bacteria Firmicutes       Bacilli            \n",
       "1389 GCA_001806425_1_ASM180642v1 Bacteria Proteobacteria   Gammaproteobacteria\n",
       "1390 GCA_001879565_1_ASM187956v1 Bacteria Proteobacteria   Gammaproteobacteria\n",
       "1391 GCA_001889125_1_ASM188912v1 Bacteria Actinobacteriota Actinomycetia      \n",
       "1392 GCA_001908675_1_ASM190867v1 Bacteria Proteobacteria   Gammaproteobacteria\n",
       "1393 GCA_001941785_1_ASM194178v1 Bacteria Firmicutes       Bacilli            \n",
       "1394 GCA_001971605_1_ASM197160v1 Bacteria Proteobacteria   Alphaproteobacteria\n",
       "     Order            Family              Genus              \n",
       "1    Mycoplasmatales  Mycoplasmoidaceae   Ureaplasma         \n",
       "2    Lactobacillales  Lactobacillaceae    Limosilactobacillus\n",
       "3    Lactobacillales  Streptococcaceae    Streptococcus      \n",
       "4    Lactobacillales  Streptococcaceae    Streptococcus      \n",
       "5    Enterobacterales Pasteurellaceae     Actinobacillus     \n",
       "6    Caulobacterales  Caulobacteraceae    Phenylobacterium   \n",
       "7    Mycobacteriales  Mycobacteriaceae    Corynebacterium    \n",
       "8    Mycobacteriales  Geodermatophilaceae Geodermatophilus   \n",
       "⋮    ⋮                ⋮                   ⋮                  \n",
       "1388 Lactobacillales  Lactobacillaceae    Lacticaseibacillus \n",
       "1389 Pseudomonadales  Moraxellaceae       Acinetobacter      \n",
       "1390 Burkholderiales  Burkholderiaceae    Ralstonia          \n",
       "1391 Actinomycetales  Dermatophilaceae    Janibacter         \n",
       "1392 Enterobacterales Enterobacteriaceae  Klebsiella         \n",
       "1393 Lactobacillales  Lactobacillaceae    Limosilactobacillus\n",
       "1394 Sphingomonadales Sphingomonadaceae   Sphingomonas       \n",
       "     Species                       \n",
       "1    Ureaplasma parvum             \n",
       "2    Limosilactobacillus fermentum \n",
       "3    Streptococcus pyogenes        \n",
       "4    Streptococcus suis            \n",
       "5    Actinobacillus lignieresii    \n",
       "6    Phenylobacterium zucineum     \n",
       "7    Corynebacterium kroppenstedtii\n",
       "8    Geodermatophilus obscurus     \n",
       "⋮    ⋮                             \n",
       "1388 Lacticaseibacillus rhamnosus  \n",
       "1389 Acinetobacter baumannii       \n",
       "1390 Ralstonia pseudosolanacearum  \n",
       "1391 Janibacter indicus            \n",
       "1392 Klebsiella pneumoniae         \n",
       "1393 Limosilactobacillus fermentum \n",
       "1394 Sphingomonas sp001971605      "
      ]
     },
     "metadata": {},
     "output_type": "display_data"
    }
   ],
   "source": [
    "# gtdbtk table load\n",
    "F = file.path(work_dir, 'LLG', 'gtdbtk', 'gtdbtk_summary.tsv')\n",
    "tax = Fread(F) %>%\n",
    "    select.(user_genome, classification) %>%\n",
    "    mutate.(classification = gsub(';[pcofgs]__', ';', classification)) %>%\n",
    "    separate.(classification, taxonomy_levels(), sep=';') %>%\n",
    "    mutate.(Domain = gsub('^d__', '', Domain))\n",
    "tax"
   ]
  },
  {
   "cell_type": "code",
   "execution_count": 21,
   "id": "d8736ae3",
   "metadata": {
    "ExecuteTime": {
     "end_time": "2021-10-29T12:04:45.239833Z",
     "start_time": "2021-10-29T12:04:44.438Z"
    }
   },
   "outputs": [
    {
     "data": {
      "text/html": [
       "<table class=\"dataframe\">\n",
       "<caption>A matrix: 1 × 8 of type dbl</caption>\n",
       "<thead>\n",
       "\t<tr><th></th><th scope=col>Min.</th><th scope=col>1st Qu.</th><th scope=col>Median</th><th scope=col>Mean</th><th scope=col>3rd Qu.</th><th scope=col>Max.</th><th scope=col>sd</th><th scope=col>sd_err_of_mean</th></tr>\n",
       "</thead>\n",
       "<tbody>\n",
       "\t<tr><th scope=row>n</th><td>1</td><td>1</td><td>1</td><td>2.595903</td><td>2</td><td>133</td><td>53.681</td><td>21.915</td></tr>\n",
       "</tbody>\n",
       "</table>\n"
      ],
      "text/latex": [
       "A matrix: 1 × 8 of type dbl\n",
       "\\begin{tabular}{r|llllllll}\n",
       "  & Min. & 1st Qu. & Median & Mean & 3rd Qu. & Max. & sd & sd\\_err\\_of\\_mean\\\\\n",
       "\\hline\n",
       "\tn & 1 & 1 & 1 & 2.595903 & 2 & 133 & 53.681 & 21.915\\\\\n",
       "\\end{tabular}\n"
      ],
      "text/markdown": [
       "\n",
       "A matrix: 1 × 8 of type dbl\n",
       "\n",
       "| <!--/--> | Min. | 1st Qu. | Median | Mean | 3rd Qu. | Max. | sd | sd_err_of_mean |\n",
       "|---|---|---|---|---|---|---|---|---|\n",
       "| n | 1 | 1 | 1 | 2.595903 | 2 | 133 | 53.681 | 21.915 |\n",
       "\n"
      ],
      "text/plain": [
       "  Min. 1st Qu. Median Mean     3rd Qu. Max. sd     sd_err_of_mean\n",
       "n 1    1       1      2.595903 2       133  53.681 21.915        "
      ]
     },
     "metadata": {},
     "output_type": "display_data"
    },
    {
     "data": {
      "image/png": "[encoded data removed]",
      "text/plain": [
       "plot without title"
      ]
     },
     "metadata": {
      "image/png": {
       "height": 220,
       "width": 400
      }
     },
     "output_type": "display_data"
    }
   ],
   "source": [
    "tax_s = tax %>%\n",
    "    summarize.(n = n.(),\n",
    "               .by=c(Phylum, Class, Order, Family, Genus, Species)) \n",
    "summary_x(tax_s$n)\n",
    "p = tax_s %>%\n",
    "    ggplot(aes(n)) +\n",
    "    geom_histogram(bins=30) +\n",
    "    labs(x='No. of genomes in the species', y='No. of species') +\n",
    "    theme_bw()\n",
    "p.dims(4,2.2)\n",
    "plot(p)"
   ]
  },
  {
   "cell_type": "markdown",
   "id": "62bee490",
   "metadata": {},
   "source": [
    "# ResMiCo-SM"
   ]
  },
  {
   "cell_type": "markdown",
   "id": "dcd60887",
   "metadata": {},
   "source": [
    "### Config"
   ]
  },
  {
   "cell_type": "code",
   "execution_count": 22,
   "id": "2db4da3a",
   "metadata": {
    "ExecuteTime": {
     "end_time": "2021-10-31T05:21:58.538982Z",
     "start_time": "2021-10-31T05:21:58.133Z"
    }
   },
   "outputs": [
    {
     "name": "stdout",
     "output_type": "stream",
     "text": [
      "# Input table\n",
      "genomes_file: /ebio/abt3_projects/databases_no-backup/CAMI/CAMI2_HMP-skin/short_read/genomes.tsv\n",
      "reads_file: /ebio/abt3_scratch/nyoungblut/CAMI/CAMI2_HMP-skin/samples.tsv\n",
      "\n",
      "# Output directory\n",
      "output_dir: /ebio/abt3_projects/databases_no-backup/CAMI/CAMI2_HMP-skin/short_read/ResMiCo-SM/\n",
      "\n",
      "# Temporary output directory (/dev/shm/ for shared memory)\n",
      "tmp_dir: /ebio/abt3_scratch/\n",
      "\n",
      "# Email for notifications (\"Skip\" to skip)\n",
      "email: nyoungblut@tuebingen.mpg.de\n",
      "\n",
      "# software parameters for data simulations\n",
      "## Use \"Skip\" to skip  steps. If no params for rule, use \"\"\n",
      "## `reps:` is the number of replicate simulations\n",
      "## If `keep_reads: True`, then simulated reads are kept\n",
      "params:\n",
      "  ionice: -c 3\n",
      "  # simulating metagenomes\n",
      "  MGSIM:\n",
      "    genome_download: \"\"\n",
      "    sim_reps: 3\n",
      "    community:\n",
      "      richness:\n",
      "        - 0.8        \n",
      "      abundance_distribution:\n",
      "        - \"mean:10,sigma:2\"\n",
      "      random_seed: 8192\n",
      "      other_sim_params: --group-bias 0\n",
      "    reads: \n",
      "      length:\n",
      "        - 100\n",
      "        - 150\n",
      "      depth:\n",
      "        - 1000000\n",
      "      other_sim_params: --art-paired --art-mflen 270 --art-sdev 50 --rndSeed 8712\n",
      "      skewer: -n -l 70 -q 25\n",
      "      keep_reads: True # False\n",
      "  # coverage\n",
      "  nonpareil:\n",
      "    params: -T kmer\n",
      "    summary: 1e9   # this is target seq. depth\n",
      "  # assemblying metagenomes\n",
      "  assemblers:\n",
      "    metaspades: -k auto --only-assembler\n",
      "    megahit: --min-count 1 --min-contig-len 1000\n",
      "  # assembly filtering\n",
      "  contigs:\n",
      "    length_cutoff: 1000       # length in bp \n",
      "  # assessing assembly errors\n",
      "  asmbl_errors:\n",
      "    metaquast: --max-ref-number 0 --min-contig 1000 --min-identity 95 --extensive-mis-size 100\n",
      "               --no-html --no-plots --no-icarus --no-gc --no-snps --no-sv\n",
      "    keep_genomes: False\n",
      "  # mapping reads to contigs\n",
      "  map:\n",
      "    samtools: \"\"\n",
      "    bowtie2: \"\"\n",
      "    max_coverage: 20\n",
      "    keep_bam: False\n",
      "  # creating ResMiCo feature tables\n",
      "  feature_table:\n",
      "    make: --window 6\n",
      "  # state-of-the-art\n",
      "  SotA:\n",
      "    ALE: \"\"\n",
      "    VALET: Skip\n",
      "    metaMIC:\n",
      "      extract: --mlen 1000\n",
      "      predict: --mlen 1000 --slen 500 -a MEGAHIT\n",
      "\n",
      "# params just for creating feature tables for non-simulated data\n",
      "nonsim_params:\n",
      "  # max number of reads to use\n",
      "  subsample_reads: 5000000\n",
      "  # read quality filtering\n",
      "  skewer: -n -l 70 -q 25\n",
      "  # max per-contig coverage\n",
      "  max_coverage: 20\n",
      "  # keep bam files?\n",
      "  keep_bam: True\n",
      "  # feature tables\n",
      "  make_features: --window 6\n",
      "\n",
      "# snakemake pipeline\n",
      "pipeline:\n",
      "  snakemake_folder: ./\n",
      "  script_folder: ./bin/scripts/\n",
      "  name: ResMiCo-SM"
     ]
    }
   ],
   "source": [
    "F = file.path(work_dir, 'ResMiCo-SM', 'config.yaml')\n",
    "cat_file(F)"
   ]
  },
  {
   "cell_type": "markdown",
   "id": "40aaf402",
   "metadata": {},
   "source": [
    "### Run"
   ]
  },
  {
   "cell_type": "markdown",
   "id": "ae51c6dc",
   "metadata": {},
   "source": [
    "```\n",
    "(snakemake) @ rick:/ebio/abt3_projects/DeepMAsED/version2/deepmased/ResMiCo-SM\n",
    "$ screen -L -S rmc-sm-cami ./snakemake_sge.sh /ebio/abt3_projects/databases_no-backup/CAMI/CAMI2_HMP-skin/short_read/ResMiCo-SM/config.yaml 30 -F\n",
    "```"
   ]
  },
  {
   "cell_type": "markdown",
   "id": "ac2f40b1",
   "metadata": {},
   "source": [
    "## Summary"
   ]
  },
  {
   "cell_type": "markdown",
   "id": "6b94217f",
   "metadata": {},
   "source": [
    "### MetaQUAST results"
   ]
  },
  {
   "cell_type": "code",
   "execution_count": 23,
   "id": "72fc8ba6",
   "metadata": {
    "ExecuteTime": {
     "end_time": "2021-11-01T07:17:00.314946Z",
     "start_time": "2021-11-01T07:16:59.008Z"
    }
   },
   "outputs": [
    {
     "data": {
      "text/html": [
       "20"
      ],
      "text/latex": [
       "20"
      ],
      "text/markdown": [
       "20"
      ],
      "text/plain": [
       "[1] 20"
      ]
     },
     "metadata": {},
     "output_type": "display_data"
    },
    {
     "data": {
      "text/html": [
       "<style>\n",
       ".list-inline {list-style: none; margin:0; padding: 0}\n",
       ".list-inline>li {display: inline-block}\n",
       ".list-inline>li:not(:last-child)::after {content: \"\\00b7\"; padding: 0 .5ex}\n",
       "</style>\n",
       "<ol class=list-inline><li>'/ebio/abt3_projects/databases_no-backup/CAMI/CAMI2_HMP-skin/short_read//ResMiCo-SM/true_errors/2017.12.04_18.56.22_sample_1/NA/NA/NA/NA/megahit/combined_reference/report.tsv'</li><li>'/ebio/abt3_projects/databases_no-backup/CAMI/CAMI2_HMP-skin/short_read//ResMiCo-SM/true_errors/2017.12.04_18.56.22_sample_1/NA/NA/NA/NA/metaspades/combined_reference/report.tsv'</li><li>'/ebio/abt3_projects/databases_no-backup/CAMI/CAMI2_HMP-skin/short_read//ResMiCo-SM/true_errors/2017.12.04_18.56.22_sample_13/NA/NA/NA/NA/megahit/combined_reference/report.tsv'</li></ol>\n"
      ],
      "text/latex": [
       "\\begin{enumerate*}\n",
       "\\item '/ebio/abt3\\_projects/databases\\_no-backup/CAMI/CAMI2\\_HMP-skin/short\\_read//ResMiCo-SM/true\\_errors/2017.12.04\\_18.56.22\\_sample\\_1/NA/NA/NA/NA/megahit/combined\\_reference/report.tsv'\n",
       "\\item '/ebio/abt3\\_projects/databases\\_no-backup/CAMI/CAMI2\\_HMP-skin/short\\_read//ResMiCo-SM/true\\_errors/2017.12.04\\_18.56.22\\_sample\\_1/NA/NA/NA/NA/metaspades/combined\\_reference/report.tsv'\n",
       "\\item '/ebio/abt3\\_projects/databases\\_no-backup/CAMI/CAMI2\\_HMP-skin/short\\_read//ResMiCo-SM/true\\_errors/2017.12.04\\_18.56.22\\_sample\\_13/NA/NA/NA/NA/megahit/combined\\_reference/report.tsv'\n",
       "\\end{enumerate*}\n"
      ],
      "text/markdown": [
       "1. '/ebio/abt3_projects/databases_no-backup/CAMI/CAMI2_HMP-skin/short_read//ResMiCo-SM/true_errors/2017.12.04_18.56.22_sample_1/NA/NA/NA/NA/megahit/combined_reference/report.tsv'\n",
       "2. '/ebio/abt3_projects/databases_no-backup/CAMI/CAMI2_HMP-skin/short_read//ResMiCo-SM/true_errors/2017.12.04_18.56.22_sample_1/NA/NA/NA/NA/metaspades/combined_reference/report.tsv'\n",
       "3. '/ebio/abt3_projects/databases_no-backup/CAMI/CAMI2_HMP-skin/short_read//ResMiCo-SM/true_errors/2017.12.04_18.56.22_sample_13/NA/NA/NA/NA/megahit/combined_reference/report.tsv'\n",
       "\n",
       "\n"
      ],
      "text/plain": [
       "[1] \"/ebio/abt3_projects/databases_no-backup/CAMI/CAMI2_HMP-skin/short_read//ResMiCo-SM/true_errors/2017.12.04_18.56.22_sample_1/NA/NA/NA/NA/megahit/combined_reference/report.tsv\"   \n",
       "[2] \"/ebio/abt3_projects/databases_no-backup/CAMI/CAMI2_HMP-skin/short_read//ResMiCo-SM/true_errors/2017.12.04_18.56.22_sample_1/NA/NA/NA/NA/metaspades/combined_reference/report.tsv\"\n",
       "[3] \"/ebio/abt3_projects/databases_no-backup/CAMI/CAMI2_HMP-skin/short_read//ResMiCo-SM/true_errors/2017.12.04_18.56.22_sample_13/NA/NA/NA/NA/megahit/combined_reference/report.tsv\"  "
      ]
     },
     "metadata": {},
     "output_type": "display_data"
    }
   ],
   "source": [
    "D = file.path(work_dir, 'ResMiCo-SM', 'true_errors')\n",
    "F = list_files(D, 'report.tsv')\n",
    "F = F[grepl('combined_reference/report.tsv$', F)]\n",
    "F %>% length\n",
    "F %>% head(n=3)"
   ]
  },
  {
   "cell_type": "code",
   "execution_count": 24,
   "id": "0ab70b2c",
   "metadata": {
    "ExecuteTime": {
     "end_time": "2021-11-01T07:17:07.055110Z",
     "start_time": "2021-11-01T07:17:05.569Z"
    }
   },
   "outputs": [
    {
     "data": {
      "text/html": [
       "<table class=\"dataframe\">\n",
       "<caption>A data.table: 800 × 4</caption>\n",
       "<thead>\n",
       "\t<tr><th scope=col>Assembly</th><th scope=col>contigs_filtered</th><th scope=col>assembler</th><th scope=col>sample</th></tr>\n",
       "\t<tr><th scope=col>&lt;chr&gt;</th><th scope=col>&lt;chr&gt;</th><th scope=col>&lt;chr&gt;</th><th scope=col>&lt;chr&gt;</th></tr>\n",
       "</thead>\n",
       "<tbody>\n",
       "\t<tr><td><span style=white-space:pre-wrap># contigs (&gt;= 0 bp)      </span></td><td><span style=white-space:pre-wrap>20784   </span></td><td>megahit</td><td>2017.12.04_18.56.22_sample_1</td></tr>\n",
       "\t<tr><td><span style=white-space:pre-wrap># contigs (&gt;= 1000 bp)   </span></td><td><span style=white-space:pre-wrap>20784   </span></td><td>megahit</td><td>2017.12.04_18.56.22_sample_1</td></tr>\n",
       "\t<tr><td><span style=white-space:pre-wrap># contigs (&gt;= 5000 bp)   </span></td><td><span style=white-space:pre-wrap>518     </span></td><td>megahit</td><td>2017.12.04_18.56.22_sample_1</td></tr>\n",
       "\t<tr><td><span style=white-space:pre-wrap># contigs (&gt;= 10000 bp)  </span></td><td><span style=white-space:pre-wrap>228     </span></td><td>megahit</td><td>2017.12.04_18.56.22_sample_1</td></tr>\n",
       "\t<tr><td><span style=white-space:pre-wrap># contigs (&gt;= 25000 bp)  </span></td><td><span style=white-space:pre-wrap>117     </span></td><td>megahit</td><td>2017.12.04_18.56.22_sample_1</td></tr>\n",
       "\t<tr><td><span style=white-space:pre-wrap># contigs (&gt;= 50000 bp)  </span></td><td><span style=white-space:pre-wrap>66      </span></td><td>megahit</td><td>2017.12.04_18.56.22_sample_1</td></tr>\n",
       "\t<tr><td><span style=white-space:pre-wrap>Total length (&gt;= 0 bp)   </span></td><td>42514253</td><td>megahit</td><td>2017.12.04_18.56.22_sample_1</td></tr>\n",
       "\t<tr><td>Total length (&gt;= 1000 bp)</td><td>42514253</td><td>megahit</td><td>2017.12.04_18.56.22_sample_1</td></tr>\n",
       "\t<tr><td>⋮</td><td>⋮</td><td>⋮</td><td>⋮</td></tr>\n",
       "\t<tr><td># indels per 100 kbp</td><td>13.59   </td><td>metaspades</td><td>2017.12.04_18.56.22_sample_28</td></tr>\n",
       "\t<tr><td>Largest alignment   </td><td>1029520 </td><td>metaspades</td><td>2017.12.04_18.56.22_sample_28</td></tr>\n",
       "\t<tr><td>Total aligned length</td><td>35952191</td><td>metaspades</td><td>2017.12.04_18.56.22_sample_28</td></tr>\n",
       "\t<tr><td>NA50                </td><td>69727   </td><td>metaspades</td><td>2017.12.04_18.56.22_sample_28</td></tr>\n",
       "\t<tr><td>NA75                </td><td>23490   </td><td>metaspades</td><td>2017.12.04_18.56.22_sample_28</td></tr>\n",
       "\t<tr><td>LA50                </td><td>99      </td><td>metaspades</td><td>2017.12.04_18.56.22_sample_28</td></tr>\n",
       "\t<tr><td>LA75                </td><td>333     </td><td>metaspades</td><td>2017.12.04_18.56.22_sample_28</td></tr>\n",
       "</tbody>\n",
       "</table>\n"
      ],
      "text/latex": [
       "A data.table: 800 × 4\n",
       "\\begin{tabular}{llll}\n",
       " Assembly & contigs\\_filtered & assembler & sample\\\\\n",
       " <chr> & <chr> & <chr> & <chr>\\\\\n",
       "\\hline\n",
       "\t \\# contigs (>= 0 bp)       & 20784    & megahit & 2017.12.04\\_18.56.22\\_sample\\_1\\\\\n",
       "\t \\# contigs (>= 1000 bp)    & 20784    & megahit & 2017.12.04\\_18.56.22\\_sample\\_1\\\\\n",
       "\t \\# contigs (>= 5000 bp)    & 518      & megahit & 2017.12.04\\_18.56.22\\_sample\\_1\\\\\n",
       "\t \\# contigs (>= 10000 bp)   & 228      & megahit & 2017.12.04\\_18.56.22\\_sample\\_1\\\\\n",
       "\t \\# contigs (>= 25000 bp)   & 117      & megahit & 2017.12.04\\_18.56.22\\_sample\\_1\\\\\n",
       "\t \\# contigs (>= 50000 bp)   & 66       & megahit & 2017.12.04\\_18.56.22\\_sample\\_1\\\\\n",
       "\t Total length (>= 0 bp)    & 42514253 & megahit & 2017.12.04\\_18.56.22\\_sample\\_1\\\\\n",
       "\t Total length (>= 1000 bp) & 42514253 & megahit & 2017.12.04\\_18.56.22\\_sample\\_1\\\\\n",
       "\t ⋮ & ⋮ & ⋮ & ⋮\\\\\n",
       "\t \\# indels per 100 kbp & 13.59    & metaspades & 2017.12.04\\_18.56.22\\_sample\\_28\\\\\n",
       "\t Largest alignment    & 1029520  & metaspades & 2017.12.04\\_18.56.22\\_sample\\_28\\\\\n",
       "\t Total aligned length & 35952191 & metaspades & 2017.12.04\\_18.56.22\\_sample\\_28\\\\\n",
       "\t NA50                 & 69727    & metaspades & 2017.12.04\\_18.56.22\\_sample\\_28\\\\\n",
       "\t NA75                 & 23490    & metaspades & 2017.12.04\\_18.56.22\\_sample\\_28\\\\\n",
       "\t LA50                 & 99       & metaspades & 2017.12.04\\_18.56.22\\_sample\\_28\\\\\n",
       "\t LA75                 & 333      & metaspades & 2017.12.04\\_18.56.22\\_sample\\_28\\\\\n",
       "\\end{tabular}\n"
      ],
      "text/markdown": [
       "\n",
       "A data.table: 800 × 4\n",
       "\n",
       "| Assembly &lt;chr&gt; | contigs_filtered &lt;chr&gt; | assembler &lt;chr&gt; | sample &lt;chr&gt; |\n",
       "|---|---|---|---|\n",
       "| # contigs (&gt;= 0 bp)       | 20784    | megahit | 2017.12.04_18.56.22_sample_1 |\n",
       "| # contigs (&gt;= 1000 bp)    | 20784    | megahit | 2017.12.04_18.56.22_sample_1 |\n",
       "| # contigs (&gt;= 5000 bp)    | 518      | megahit | 2017.12.04_18.56.22_sample_1 |\n",
       "| # contigs (&gt;= 10000 bp)   | 228      | megahit | 2017.12.04_18.56.22_sample_1 |\n",
       "| # contigs (&gt;= 25000 bp)   | 117      | megahit | 2017.12.04_18.56.22_sample_1 |\n",
       "| # contigs (&gt;= 50000 bp)   | 66       | megahit | 2017.12.04_18.56.22_sample_1 |\n",
       "| Total length (&gt;= 0 bp)    | 42514253 | megahit | 2017.12.04_18.56.22_sample_1 |\n",
       "| Total length (&gt;= 1000 bp) | 42514253 | megahit | 2017.12.04_18.56.22_sample_1 |\n",
       "| ⋮ | ⋮ | ⋮ | ⋮ |\n",
       "| # indels per 100 kbp | 13.59    | metaspades | 2017.12.04_18.56.22_sample_28 |\n",
       "| Largest alignment    | 1029520  | metaspades | 2017.12.04_18.56.22_sample_28 |\n",
       "| Total aligned length | 35952191 | metaspades | 2017.12.04_18.56.22_sample_28 |\n",
       "| NA50                 | 69727    | metaspades | 2017.12.04_18.56.22_sample_28 |\n",
       "| NA75                 | 23490    | metaspades | 2017.12.04_18.56.22_sample_28 |\n",
       "| LA50                 | 99       | metaspades | 2017.12.04_18.56.22_sample_28 |\n",
       "| LA75                 | 333      | metaspades | 2017.12.04_18.56.22_sample_28 |\n",
       "\n"
      ],
      "text/plain": [
       "    Assembly                  contigs_filtered assembler \n",
       "1   # contigs (>= 0 bp)       20784            megahit   \n",
       "2   # contigs (>= 1000 bp)    20784            megahit   \n",
       "3   # contigs (>= 5000 bp)    518              megahit   \n",
       "4   # contigs (>= 10000 bp)   228              megahit   \n",
       "5   # contigs (>= 25000 bp)   117              megahit   \n",
       "6   # contigs (>= 50000 bp)   66               megahit   \n",
       "7   Total length (>= 0 bp)    42514253         megahit   \n",
       "8   Total length (>= 1000 bp) 42514253         megahit   \n",
       "⋮   ⋮                         ⋮                ⋮         \n",
       "794 # indels per 100 kbp      13.59            metaspades\n",
       "795 Largest alignment         1029520          metaspades\n",
       "796 Total aligned length      35952191         metaspades\n",
       "797 NA50                      69727            metaspades\n",
       "798 NA75                      23490            metaspades\n",
       "799 LA50                      99               metaspades\n",
       "800 LA75                      333              metaspades\n",
       "    sample                       \n",
       "1   2017.12.04_18.56.22_sample_1 \n",
       "2   2017.12.04_18.56.22_sample_1 \n",
       "3   2017.12.04_18.56.22_sample_1 \n",
       "4   2017.12.04_18.56.22_sample_1 \n",
       "5   2017.12.04_18.56.22_sample_1 \n",
       "6   2017.12.04_18.56.22_sample_1 \n",
       "7   2017.12.04_18.56.22_sample_1 \n",
       "8   2017.12.04_18.56.22_sample_1 \n",
       "⋮   ⋮                            \n",
       "794 2017.12.04_18.56.22_sample_28\n",
       "795 2017.12.04_18.56.22_sample_28\n",
       "796 2017.12.04_18.56.22_sample_28\n",
       "797 2017.12.04_18.56.22_sample_28\n",
       "798 2017.12.04_18.56.22_sample_28\n",
       "799 2017.12.04_18.56.22_sample_28\n",
       "800 2017.12.04_18.56.22_sample_28"
      ]
     },
     "metadata": {},
     "output_type": "display_data"
    }
   ],
   "source": [
    "# reading\n",
    "read_mq = function(F){\n",
    "    df = Fread(F)\n",
    "    x = unlist(strsplit(F, '/'))\n",
    "    df$assembler = x[length(x)-2]\n",
    "    df$sample = x[length(x)-7]\n",
    "    return(df)\n",
    "}\n",
    "\n",
    "mq_rpt = F %>%\n",
    "    #head(n=1) %>%\n",
    "    lapply(read_mq) %>%\n",
    "    rbindlist(use.names=TRUE)\n",
    "mq_rpt"
   ]
  },
  {
   "cell_type": "code",
   "execution_count": 25,
   "id": "b3b717b9",
   "metadata": {
    "ExecuteTime": {
     "end_time": "2021-11-01T07:17:11.273363Z",
     "start_time": "2021-11-01T07:17:09.832Z"
    }
   },
   "outputs": [
    {
     "data": {
      "image/png": "[encoded data removed]",
      "text/plain": [
       "plot without title"
      ]
     },
     "metadata": {
      "image/png": {
       "height": 250,
       "width": 400
      }
     },
     "output_type": "display_data"
    }
   ],
   "source": [
    "# summary\n",
    "to_keep = c('# contigs', '# misassembled contigs')\n",
    "p = mq_rpt %>%\n",
    "    filter.(Assembly %in% to_keep) %>%\n",
    "    mutate.(contigs_filtered = as.Num(contigs_filtered)) %>%\n",
    "    mutate.(Assembly = gsub('# ', 'num_', Assembly),\n",
    "            Assembly = gsub(' ', '_', Assembly)) %>%\n",
    "    pivot_wider.(names_from=Assembly, values_from=contigs_filtered) %>%\n",
    "    ggplot(aes(num_contigs, num_misassembled_contigs)) +\n",
    "    geom_point() +\n",
    "    theme_bw()\n",
    "p.dims(4,2.5)\n",
    "plot(p)"
   ]
  },
  {
   "cell_type": "code",
   "execution_count": 26,
   "id": "f6f7de89",
   "metadata": {
    "ExecuteTime": {
     "end_time": "2021-11-01T07:17:15.487824Z",
     "start_time": "2021-11-01T07:17:14.232Z"
    }
   },
   "outputs": [
    {
     "data": {
      "text/html": [
       "<table class=\"dataframe\">\n",
       "<caption>A tidytable: 140 × 4</caption>\n",
       "<thead>\n",
       "\t<tr><th scope=col>Assembly</th><th scope=col>contigs_filtered</th><th scope=col>assembler</th><th scope=col>sample</th></tr>\n",
       "\t<tr><th scope=col>&lt;chr&gt;</th><th scope=col>&lt;dbl&gt;</th><th scope=col>&lt;chr&gt;</th><th scope=col>&lt;chr&gt;</th></tr>\n",
       "</thead>\n",
       "<tbody>\n",
       "\t<tr><td>num_contigs               </td><td>20784.00</td><td>megahit   </td><td>2017.12.04_18.56.22_sample_1</td></tr>\n",
       "\t<tr><td>num_misassemblies         </td><td>  497.00</td><td>megahit   </td><td>2017.12.04_18.56.22_sample_1</td></tr>\n",
       "\t<tr><td>num_misassembled_contigs  </td><td>  476.00</td><td>megahit   </td><td>2017.12.04_18.56.22_sample_1</td></tr>\n",
       "\t<tr><td>num_local_misassemblies   </td><td>    3.00</td><td>megahit   </td><td>2017.12.04_18.56.22_sample_1</td></tr>\n",
       "\t<tr><td>num_Ns_per_100_kbp        </td><td>    0.00</td><td>megahit   </td><td>2017.12.04_18.56.22_sample_1</td></tr>\n",
       "\t<tr><td>num_mismatches_per_100_kbp</td><td>  989.99</td><td>megahit   </td><td>2017.12.04_18.56.22_sample_1</td></tr>\n",
       "\t<tr><td>num_indels_per_100_kbp    </td><td>   20.73</td><td>megahit   </td><td>2017.12.04_18.56.22_sample_1</td></tr>\n",
       "\t<tr><td>num_contigs               </td><td> 7646.00</td><td>metaspades</td><td>2017.12.04_18.56.22_sample_1</td></tr>\n",
       "\t<tr><td>⋮</td><td>⋮</td><td>⋮</td><td>⋮</td></tr>\n",
       "\t<tr><td>num_contigs               </td><td>1734.00</td><td>metaspades</td><td>2017.12.04_18.56.22_sample_28</td></tr>\n",
       "\t<tr><td>num_misassemblies         </td><td>  10.00</td><td>metaspades</td><td>2017.12.04_18.56.22_sample_28</td></tr>\n",
       "\t<tr><td>num_misassembled_contigs  </td><td>   9.00</td><td>metaspades</td><td>2017.12.04_18.56.22_sample_28</td></tr>\n",
       "\t<tr><td>num_local_misassemblies   </td><td>   0.00</td><td>metaspades</td><td>2017.12.04_18.56.22_sample_28</td></tr>\n",
       "\t<tr><td>num_Ns_per_100_kbp        </td><td>   0.00</td><td>metaspades</td><td>2017.12.04_18.56.22_sample_28</td></tr>\n",
       "\t<tr><td>num_mismatches_per_100_kbp</td><td> 343.96</td><td>metaspades</td><td>2017.12.04_18.56.22_sample_28</td></tr>\n",
       "\t<tr><td>num_indels_per_100_kbp    </td><td>  13.59</td><td>metaspades</td><td>2017.12.04_18.56.22_sample_28</td></tr>\n",
       "</tbody>\n",
       "</table>\n"
      ],
      "text/latex": [
       "A tidytable: 140 × 4\n",
       "\\begin{tabular}{llll}\n",
       " Assembly & contigs\\_filtered & assembler & sample\\\\\n",
       " <chr> & <dbl> & <chr> & <chr>\\\\\n",
       "\\hline\n",
       "\t num\\_contigs                & 20784.00 & megahit    & 2017.12.04\\_18.56.22\\_sample\\_1\\\\\n",
       "\t num\\_misassemblies          &   497.00 & megahit    & 2017.12.04\\_18.56.22\\_sample\\_1\\\\\n",
       "\t num\\_misassembled\\_contigs   &   476.00 & megahit    & 2017.12.04\\_18.56.22\\_sample\\_1\\\\\n",
       "\t num\\_local\\_misassemblies    &     3.00 & megahit    & 2017.12.04\\_18.56.22\\_sample\\_1\\\\\n",
       "\t num\\_Ns\\_per\\_100\\_kbp         &     0.00 & megahit    & 2017.12.04\\_18.56.22\\_sample\\_1\\\\\n",
       "\t num\\_mismatches\\_per\\_100\\_kbp &   989.99 & megahit    & 2017.12.04\\_18.56.22\\_sample\\_1\\\\\n",
       "\t num\\_indels\\_per\\_100\\_kbp     &    20.73 & megahit    & 2017.12.04\\_18.56.22\\_sample\\_1\\\\\n",
       "\t num\\_contigs                &  7646.00 & metaspades & 2017.12.04\\_18.56.22\\_sample\\_1\\\\\n",
       "\t ⋮ & ⋮ & ⋮ & ⋮\\\\\n",
       "\t num\\_contigs                & 1734.00 & metaspades & 2017.12.04\\_18.56.22\\_sample\\_28\\\\\n",
       "\t num\\_misassemblies          &   10.00 & metaspades & 2017.12.04\\_18.56.22\\_sample\\_28\\\\\n",
       "\t num\\_misassembled\\_contigs   &    9.00 & metaspades & 2017.12.04\\_18.56.22\\_sample\\_28\\\\\n",
       "\t num\\_local\\_misassemblies    &    0.00 & metaspades & 2017.12.04\\_18.56.22\\_sample\\_28\\\\\n",
       "\t num\\_Ns\\_per\\_100\\_kbp         &    0.00 & metaspades & 2017.12.04\\_18.56.22\\_sample\\_28\\\\\n",
       "\t num\\_mismatches\\_per\\_100\\_kbp &  343.96 & metaspades & 2017.12.04\\_18.56.22\\_sample\\_28\\\\\n",
       "\t num\\_indels\\_per\\_100\\_kbp     &   13.59 & metaspades & 2017.12.04\\_18.56.22\\_sample\\_28\\\\\n",
       "\\end{tabular}\n"
      ],
      "text/markdown": [
       "\n",
       "A tidytable: 140 × 4\n",
       "\n",
       "| Assembly &lt;chr&gt; | contigs_filtered &lt;dbl&gt; | assembler &lt;chr&gt; | sample &lt;chr&gt; |\n",
       "|---|---|---|---|\n",
       "| num_contigs                | 20784.00 | megahit    | 2017.12.04_18.56.22_sample_1 |\n",
       "| num_misassemblies          |   497.00 | megahit    | 2017.12.04_18.56.22_sample_1 |\n",
       "| num_misassembled_contigs   |   476.00 | megahit    | 2017.12.04_18.56.22_sample_1 |\n",
       "| num_local_misassemblies    |     3.00 | megahit    | 2017.12.04_18.56.22_sample_1 |\n",
       "| num_Ns_per_100_kbp         |     0.00 | megahit    | 2017.12.04_18.56.22_sample_1 |\n",
       "| num_mismatches_per_100_kbp |   989.99 | megahit    | 2017.12.04_18.56.22_sample_1 |\n",
       "| num_indels_per_100_kbp     |    20.73 | megahit    | 2017.12.04_18.56.22_sample_1 |\n",
       "| num_contigs                |  7646.00 | metaspades | 2017.12.04_18.56.22_sample_1 |\n",
       "| ⋮ | ⋮ | ⋮ | ⋮ |\n",
       "| num_contigs                | 1734.00 | metaspades | 2017.12.04_18.56.22_sample_28 |\n",
       "| num_misassemblies          |   10.00 | metaspades | 2017.12.04_18.56.22_sample_28 |\n",
       "| num_misassembled_contigs   |    9.00 | metaspades | 2017.12.04_18.56.22_sample_28 |\n",
       "| num_local_misassemblies    |    0.00 | metaspades | 2017.12.04_18.56.22_sample_28 |\n",
       "| num_Ns_per_100_kbp         |    0.00 | metaspades | 2017.12.04_18.56.22_sample_28 |\n",
       "| num_mismatches_per_100_kbp |  343.96 | metaspades | 2017.12.04_18.56.22_sample_28 |\n",
       "| num_indels_per_100_kbp     |   13.59 | metaspades | 2017.12.04_18.56.22_sample_28 |\n",
       "\n"
      ],
      "text/plain": [
       "    Assembly                   contigs_filtered assembler \n",
       "1   num_contigs                20784.00         megahit   \n",
       "2   num_misassemblies            497.00         megahit   \n",
       "3   num_misassembled_contigs     476.00         megahit   \n",
       "4   num_local_misassemblies        3.00         megahit   \n",
       "5   num_Ns_per_100_kbp             0.00         megahit   \n",
       "6   num_mismatches_per_100_kbp   989.99         megahit   \n",
       "7   num_indels_per_100_kbp        20.73         megahit   \n",
       "8   num_contigs                 7646.00         metaspades\n",
       "⋮   ⋮                          ⋮                ⋮         \n",
       "134 num_contigs                1734.00          metaspades\n",
       "135 num_misassemblies            10.00          metaspades\n",
       "136 num_misassembled_contigs      9.00          metaspades\n",
       "137 num_local_misassemblies       0.00          metaspades\n",
       "138 num_Ns_per_100_kbp            0.00          metaspades\n",
       "139 num_mismatches_per_100_kbp  343.96          metaspades\n",
       "140 num_indels_per_100_kbp       13.59          metaspades\n",
       "    sample                       \n",
       "1   2017.12.04_18.56.22_sample_1 \n",
       "2   2017.12.04_18.56.22_sample_1 \n",
       "3   2017.12.04_18.56.22_sample_1 \n",
       "4   2017.12.04_18.56.22_sample_1 \n",
       "5   2017.12.04_18.56.22_sample_1 \n",
       "6   2017.12.04_18.56.22_sample_1 \n",
       "7   2017.12.04_18.56.22_sample_1 \n",
       "8   2017.12.04_18.56.22_sample_1 \n",
       "⋮   ⋮                            \n",
       "134 2017.12.04_18.56.22_sample_28\n",
       "135 2017.12.04_18.56.22_sample_28\n",
       "136 2017.12.04_18.56.22_sample_28\n",
       "137 2017.12.04_18.56.22_sample_28\n",
       "138 2017.12.04_18.56.22_sample_28\n",
       "139 2017.12.04_18.56.22_sample_28\n",
       "140 2017.12.04_18.56.22_sample_28"
      ]
     },
     "metadata": {},
     "output_type": "display_data"
    }
   ],
   "source": [
    "# filtering\n",
    "to_keep = c('# contigs', '# misassemblies', '# misassembled contigs',\n",
    "            '# local misassemblies', '# N\\'s per 100 kbp',\n",
    "            '# mismatches per 100 kbp', '# indels per 100 kbp')\n",
    "mq_rpt_f = mq_rpt %>%\n",
    "    filter.(Assembly %in% to_keep) %>%\n",
    "    mutate.(Assembly = gsub('^# ', 'num_', Assembly),\n",
    "            Assembly = gsub(' ', '_', Assembly),\n",
    "            Assembly = gsub(\"'\", '', Assembly)) %>%\n",
    "    mutate.(contigs_filtered = as.Num(contigs_filtered)) \n",
    "mq_rpt_f"
   ]
  },
  {
   "cell_type": "code",
   "execution_count": 27,
   "id": "0491e394",
   "metadata": {
    "ExecuteTime": {
     "end_time": "2021-11-01T07:17:21.009884Z",
     "start_time": "2021-11-01T07:17:18.851Z"
    }
   },
   "outputs": [
    {
     "data": {
      "image/png": "[encoded data removed]",
      "text/plain": [
       "plot without title"
      ]
     },
     "metadata": {
      "image/png": {
       "height": 400,
       "width": 700
      }
     },
     "output_type": "display_data"
    }
   ],
   "source": [
    "# plotting\n",
    "p = mq_rpt_f %>%\n",
    "    ggplot(aes(assembler, contigs_filtered)) +\n",
    "    geom_boxplot() +\n",
    "    facet_wrap(~ Assembly, scales='free_y') +\n",
    "    theme_bw()\n",
    "p.dims(7,4)\n",
    "plot(p)"
   ]
  },
  {
   "cell_type": "markdown",
   "id": "b435714a",
   "metadata": {},
   "source": [
    "### ResMiCo features"
   ]
  },
  {
   "cell_type": "code",
   "execution_count": 28,
   "id": "e67f52a8",
   "metadata": {
    "ExecuteTime": {
     "end_time": "2021-11-01T07:17:35.689032Z",
     "start_time": "2021-11-01T07:17:34.441Z"
    }
   },
   "outputs": [
    {
     "data": {
      "text/html": [
       "20"
      ],
      "text/latex": [
       "20"
      ],
      "text/markdown": [
       "20"
      ],
      "text/plain": [
       "[1] 20"
      ]
     },
     "metadata": {},
     "output_type": "display_data"
    },
    {
     "data": {
      "text/html": [
       "<style>\n",
       ".list-inline {list-style: none; margin:0; padding: 0}\n",
       ".list-inline>li {display: inline-block}\n",
       ".list-inline>li:not(:last-child)::after {content: \"\\00b7\"; padding: 0 .5ex}\n",
       "</style>\n",
       "<ol class=list-inline><li>'/ebio/abt3_projects/databases_no-backup/CAMI/CAMI2_HMP-skin/short_read//ResMiCo-SM/features/2017.12.04_18.56.22_sample_1/NA/NA/NA/NA/megahit/features.tsv.gz'</li><li>'/ebio/abt3_projects/databases_no-backup/CAMI/CAMI2_HMP-skin/short_read//ResMiCo-SM/features/2017.12.04_18.56.22_sample_1/NA/NA/NA/NA/metaspades/features.tsv.gz'</li><li>'/ebio/abt3_projects/databases_no-backup/CAMI/CAMI2_HMP-skin/short_read//ResMiCo-SM/features/2017.12.04_18.56.22_sample_13/NA/NA/NA/NA/megahit/features.tsv.gz'</li></ol>\n"
      ],
      "text/latex": [
       "\\begin{enumerate*}\n",
       "\\item '/ebio/abt3\\_projects/databases\\_no-backup/CAMI/CAMI2\\_HMP-skin/short\\_read//ResMiCo-SM/features/2017.12.04\\_18.56.22\\_sample\\_1/NA/NA/NA/NA/megahit/features.tsv.gz'\n",
       "\\item '/ebio/abt3\\_projects/databases\\_no-backup/CAMI/CAMI2\\_HMP-skin/short\\_read//ResMiCo-SM/features/2017.12.04\\_18.56.22\\_sample\\_1/NA/NA/NA/NA/metaspades/features.tsv.gz'\n",
       "\\item '/ebio/abt3\\_projects/databases\\_no-backup/CAMI/CAMI2\\_HMP-skin/short\\_read//ResMiCo-SM/features/2017.12.04\\_18.56.22\\_sample\\_13/NA/NA/NA/NA/megahit/features.tsv.gz'\n",
       "\\end{enumerate*}\n"
      ],
      "text/markdown": [
       "1. '/ebio/abt3_projects/databases_no-backup/CAMI/CAMI2_HMP-skin/short_read//ResMiCo-SM/features/2017.12.04_18.56.22_sample_1/NA/NA/NA/NA/megahit/features.tsv.gz'\n",
       "2. '/ebio/abt3_projects/databases_no-backup/CAMI/CAMI2_HMP-skin/short_read//ResMiCo-SM/features/2017.12.04_18.56.22_sample_1/NA/NA/NA/NA/metaspades/features.tsv.gz'\n",
       "3. '/ebio/abt3_projects/databases_no-backup/CAMI/CAMI2_HMP-skin/short_read//ResMiCo-SM/features/2017.12.04_18.56.22_sample_13/NA/NA/NA/NA/megahit/features.tsv.gz'\n",
       "\n",
       "\n"
      ],
      "text/plain": [
       "[1] \"/ebio/abt3_projects/databases_no-backup/CAMI/CAMI2_HMP-skin/short_read//ResMiCo-SM/features/2017.12.04_18.56.22_sample_1/NA/NA/NA/NA/megahit/features.tsv.gz\"   \n",
       "[2] \"/ebio/abt3_projects/databases_no-backup/CAMI/CAMI2_HMP-skin/short_read//ResMiCo-SM/features/2017.12.04_18.56.22_sample_1/NA/NA/NA/NA/metaspades/features.tsv.gz\"\n",
       "[3] \"/ebio/abt3_projects/databases_no-backup/CAMI/CAMI2_HMP-skin/short_read//ResMiCo-SM/features/2017.12.04_18.56.22_sample_13/NA/NA/NA/NA/megahit/features.tsv.gz\"  "
      ]
     },
     "metadata": {},
     "output_type": "display_data"
    }
   ],
   "source": [
    "# listing files\n",
    "P = file.path(work_dir, 'ResMiCo-SM', 'features')\n",
    "feat_files = list_files(P, 'features.tsv.gz')\n",
    "feat_files %>% length\n",
    "feat_files %>% head(n=3)"
   ]
  },
  {
   "cell_type": "code",
   "execution_count": 29,
   "id": "182fa8d9",
   "metadata": {
    "ExecuteTime": {
     "end_time": "2021-11-01T07:25:15.731286Z",
     "start_time": "2021-11-01T07:17:38.850Z"
    }
   },
   "outputs": [
    {
     "data": {
      "text/html": [
       "<table class=\"dataframe\">\n",
       "<caption>A data.table: 323396 × 16</caption>\n",
       "<thead>\n",
       "\t<tr><th scope=col>assembler</th><th scope=col>contig</th><th scope=col>coverage</th><th scope=col>num_SNPs</th><th scope=col>min_insert_size_Match</th><th scope=col>mean_insert_size_Match</th><th scope=col>mean_mapq_Match</th><th scope=col>num_proper_Match</th><th scope=col>num_orphans_Match</th><th scope=col>num_discordant_Match</th><th scope=col>num_proper_SNP</th><th scope=col>mean_al_score_Match</th><th scope=col>seq_window_entropy</th><th scope=col>seq_window_perc_gc</th><th scope=col>Extensive_misassembly</th><th scope=col>sample</th></tr>\n",
       "\t<tr><th scope=col>&lt;chr&gt;</th><th scope=col>&lt;chr&gt;</th><th scope=col>&lt;dbl&gt;</th><th scope=col>&lt;dbl&gt;</th><th scope=col>&lt;dbl&gt;</th><th scope=col>&lt;dbl&gt;</th><th scope=col>&lt;dbl&gt;</th><th scope=col>&lt;dbl&gt;</th><th scope=col>&lt;dbl&gt;</th><th scope=col>&lt;dbl&gt;</th><th scope=col>&lt;dbl&gt;</th><th scope=col>&lt;dbl&gt;</th><th scope=col>&lt;dbl&gt;</th><th scope=col>&lt;dbl&gt;</th><th scope=col>&lt;dbl&gt;</th><th scope=col>&lt;chr&gt;</th></tr>\n",
       "</thead>\n",
       "<tbody>\n",
       "\t<tr><td>megahit</td><td>k141_84434 </td><td> 4.718361</td><td>0.04535479</td><td>203.0929</td><td>256.4318</td><td>39.66947</td><td> 4.212143</td><td>0.31602048</td><td>0.00000000</td><td>0.1770300</td><td>-14.81367</td><td>1.539857</td><td>0.4496511</td><td>0</td><td>2017.12.04_18.56.22_sample_1</td></tr>\n",
       "\t<tr><td>megahit</td><td>k141_37    </td><td>10.834249</td><td>0.09340659</td><td>119.5528</td><td>201.9668</td><td>39.20462</td><td> 8.704212</td><td>1.04304029</td><td>0.65018315</td><td>0.3617216</td><td>-18.58893</td><td>1.561223</td><td>0.3899075</td><td>0</td><td>2017.12.04_18.56.22_sample_1</td></tr>\n",
       "\t<tr><td>megahit</td><td>k141_117456</td><td>10.804080</td><td>0.16413662</td><td>197.0460</td><td>261.9074</td><td>35.08561</td><td> 9.868596</td><td>0.40322581</td><td>0.00000000</td><td>0.5085389</td><td>-22.84230</td><td>1.490599</td><td>0.3954744</td><td>0</td><td>2017.12.04_18.56.22_sample_1</td></tr>\n",
       "\t<tr><td>megahit</td><td>k141_33593 </td><td> 4.033865</td><td>0.05976096</td><td>210.6364</td><td>243.5820</td><td>38.76166</td><td> 3.717131</td><td>0.14342629</td><td>0.00000000</td><td>0.1673307</td><td>-17.82640</td><td>1.504849</td><td>0.3829801</td><td>0</td><td>2017.12.04_18.56.22_sample_1</td></tr>\n",
       "\t<tr><td>megahit</td><td>k141_67185 </td><td>19.580420</td><td>0.05439005</td><td>216.7554</td><td>266.7360</td><td>41.31002</td><td>18.812743</td><td>0.00000000</td><td>0.05497280</td><td>0.7094017</td><td>-12.33317</td><td>1.345598</td><td>0.2358260</td><td>0</td><td>2017.12.04_18.56.22_sample_1</td></tr>\n",
       "\t<tr><td>megahit</td><td>k141_100725</td><td> 5.082569</td><td>0.05963303</td><td>175.0890</td><td>236.7571</td><td>38.23917</td><td> 4.489908</td><td>0.38990826</td><td>0.00000000</td><td>0.1889908</td><td>-17.69235</td><td>1.505273</td><td>0.3599128</td><td>0</td><td>2017.12.04_18.56.22_sample_1</td></tr>\n",
       "\t<tr><td>megahit</td><td>k141_16828 </td><td> 5.826957</td><td>0.06945262</td><td>164.8181</td><td>250.9123</td><td>38.76360</td><td> 5.218364</td><td>0.16480283</td><td>0.17010006</td><td>0.2554444</td><td>-18.14361</td><td>1.456988</td><td>0.4261536</td><td>0</td><td>2017.12.04_18.56.22_sample_1</td></tr>\n",
       "\t<tr><td>megahit</td><td>k141_50499 </td><td>19.991755</td><td>0.04064511</td><td>214.8655</td><td>267.0749</td><td>40.95048</td><td>19.210385</td><td>0.01019744</td><td>0.05134881</td><td>0.7162797</td><td>-11.88292</td><td>1.496777</td><td>0.3572561</td><td>0</td><td>2017.12.04_18.56.22_sample_1</td></tr>\n",
       "\t<tr><td>⋮</td><td>⋮</td><td>⋮</td><td>⋮</td><td>⋮</td><td>⋮</td><td>⋮</td><td>⋮</td><td>⋮</td><td>⋮</td><td>⋮</td><td>⋮</td><td>⋮</td><td>⋮</td><td>⋮</td><td>⋮</td></tr>\n",
       "\t<tr><td>metaspades</td><td>NODE_211_length_36415_cov_15.075440 </td><td>19.99440</td><td>0.02490732</td><td>216.5561</td><td>267.9322</td><td>41.70225</td><td>19.13313</td><td>0.080049430</td><td>0.06807634</td><td>0.7038583</td><td>-11.09230</td><td>1.489820</td><td>0.3817471</td><td>0</td><td>2017.12.04_18.56.22_sample_28</td></tr>\n",
       "\t<tr><td>metaspades</td><td>NODE_212_length_36170_cov_14.977987 </td><td>19.99580</td><td>0.01412773</td><td>220.1992</td><td>269.7000</td><td>41.65063</td><td>19.27946</td><td>0.004064142</td><td>0.01985071</td><td>0.6914570</td><td>-10.62596</td><td>1.466444</td><td>0.3287620</td><td>0</td><td>2017.12.04_18.56.22_sample_28</td></tr>\n",
       "\t<tr><td>metaspades</td><td>NODE_213_length_36093_cov_14.558855 </td><td>19.99676</td><td>0.01360375</td><td>218.1788</td><td>268.2503</td><td>41.90945</td><td>19.25914</td><td>0.023633392</td><td>0.01216302</td><td>0.7008561</td><td>-10.72173</td><td>1.487253</td><td>0.3831767</td><td>0</td><td>2017.12.04_18.56.22_sample_28</td></tr>\n",
       "\t<tr><td>metaspades</td><td>NODE_214_length_36072_cov_31.360080 </td><td>19.99678</td><td>0.06132180</td><td>217.5332</td><td>267.9003</td><td>41.17328</td><td>19.19935</td><td>0.039947882</td><td>0.01125527</td><td>0.7439565</td><td>-12.51090</td><td>1.504513</td><td>0.3967831</td><td>0</td><td>2017.12.04_18.56.22_sample_28</td></tr>\n",
       "\t<tr><td>metaspades</td><td>NODE_215_length_36033_cov_15.035327 </td><td>19.99603</td><td>0.01581883</td><td>217.7723</td><td>268.0283</td><td>41.85938</td><td>19.17737</td><td>0.058529681</td><td>0.06643910</td><td>0.6873699</td><td>-10.68158</td><td>1.463579</td><td>0.3253187</td><td>0</td><td>2017.12.04_18.56.22_sample_28</td></tr>\n",
       "\t<tr><td>metaspades</td><td>NODE_216_length_35691_cov_15.302503 </td><td>19.99252</td><td>0.01866017</td><td>217.2748</td><td>267.5815</td><td>41.74037</td><td>19.17052</td><td>0.077750693</td><td>0.04499734</td><td>0.6914348</td><td>-10.86199</td><td>1.443574</td><td>0.3124739</td><td>0</td><td>2017.12.04_18.56.22_sample_28</td></tr>\n",
       "\t<tr><td>metaspades</td><td>NODE_217_length_35483_cov_221.190330</td><td>19.99924</td><td>0.06735620</td><td>213.0420</td><td>268.0188</td><td>40.65881</td><td>19.18626</td><td>0.040554632</td><td>0.01986867</td><td>0.7502466</td><td>-12.86695</td><td>1.457183</td><td>0.3183948</td><td>0</td><td>2017.12.04_18.56.22_sample_28</td></tr>\n",
       "</tbody>\n",
       "</table>\n"
      ],
      "text/latex": [
       "A data.table: 323396 × 16\n",
       "\\begin{tabular}{llllllllllllllll}\n",
       " assembler & contig & coverage & num\\_SNPs & min\\_insert\\_size\\_Match & mean\\_insert\\_size\\_Match & mean\\_mapq\\_Match & num\\_proper\\_Match & num\\_orphans\\_Match & num\\_discordant\\_Match & num\\_proper\\_SNP & mean\\_al\\_score\\_Match & seq\\_window\\_entropy & seq\\_window\\_perc\\_gc & Extensive\\_misassembly & sample\\\\\n",
       " <chr> & <chr> & <dbl> & <dbl> & <dbl> & <dbl> & <dbl> & <dbl> & <dbl> & <dbl> & <dbl> & <dbl> & <dbl> & <dbl> & <dbl> & <chr>\\\\\n",
       "\\hline\n",
       "\t megahit & k141\\_84434  &  4.718361 & 0.04535479 & 203.0929 & 256.4318 & 39.66947 &  4.212143 & 0.31602048 & 0.00000000 & 0.1770300 & -14.81367 & 1.539857 & 0.4496511 & 0 & 2017.12.04\\_18.56.22\\_sample\\_1\\\\\n",
       "\t megahit & k141\\_37     & 10.834249 & 0.09340659 & 119.5528 & 201.9668 & 39.20462 &  8.704212 & 1.04304029 & 0.65018315 & 0.3617216 & -18.58893 & 1.561223 & 0.3899075 & 0 & 2017.12.04\\_18.56.22\\_sample\\_1\\\\\n",
       "\t megahit & k141\\_117456 & 10.804080 & 0.16413662 & 197.0460 & 261.9074 & 35.08561 &  9.868596 & 0.40322581 & 0.00000000 & 0.5085389 & -22.84230 & 1.490599 & 0.3954744 & 0 & 2017.12.04\\_18.56.22\\_sample\\_1\\\\\n",
       "\t megahit & k141\\_33593  &  4.033865 & 0.05976096 & 210.6364 & 243.5820 & 38.76166 &  3.717131 & 0.14342629 & 0.00000000 & 0.1673307 & -17.82640 & 1.504849 & 0.3829801 & 0 & 2017.12.04\\_18.56.22\\_sample\\_1\\\\\n",
       "\t megahit & k141\\_67185  & 19.580420 & 0.05439005 & 216.7554 & 266.7360 & 41.31002 & 18.812743 & 0.00000000 & 0.05497280 & 0.7094017 & -12.33317 & 1.345598 & 0.2358260 & 0 & 2017.12.04\\_18.56.22\\_sample\\_1\\\\\n",
       "\t megahit & k141\\_100725 &  5.082569 & 0.05963303 & 175.0890 & 236.7571 & 38.23917 &  4.489908 & 0.38990826 & 0.00000000 & 0.1889908 & -17.69235 & 1.505273 & 0.3599128 & 0 & 2017.12.04\\_18.56.22\\_sample\\_1\\\\\n",
       "\t megahit & k141\\_16828  &  5.826957 & 0.06945262 & 164.8181 & 250.9123 & 38.76360 &  5.218364 & 0.16480283 & 0.17010006 & 0.2554444 & -18.14361 & 1.456988 & 0.4261536 & 0 & 2017.12.04\\_18.56.22\\_sample\\_1\\\\\n",
       "\t megahit & k141\\_50499  & 19.991755 & 0.04064511 & 214.8655 & 267.0749 & 40.95048 & 19.210385 & 0.01019744 & 0.05134881 & 0.7162797 & -11.88292 & 1.496777 & 0.3572561 & 0 & 2017.12.04\\_18.56.22\\_sample\\_1\\\\\n",
       "\t ⋮ & ⋮ & ⋮ & ⋮ & ⋮ & ⋮ & ⋮ & ⋮ & ⋮ & ⋮ & ⋮ & ⋮ & ⋮ & ⋮ & ⋮ & ⋮\\\\\n",
       "\t metaspades & NODE\\_211\\_length\\_36415\\_cov\\_15.075440  & 19.99440 & 0.02490732 & 216.5561 & 267.9322 & 41.70225 & 19.13313 & 0.080049430 & 0.06807634 & 0.7038583 & -11.09230 & 1.489820 & 0.3817471 & 0 & 2017.12.04\\_18.56.22\\_sample\\_28\\\\\n",
       "\t metaspades & NODE\\_212\\_length\\_36170\\_cov\\_14.977987  & 19.99580 & 0.01412773 & 220.1992 & 269.7000 & 41.65063 & 19.27946 & 0.004064142 & 0.01985071 & 0.6914570 & -10.62596 & 1.466444 & 0.3287620 & 0 & 2017.12.04\\_18.56.22\\_sample\\_28\\\\\n",
       "\t metaspades & NODE\\_213\\_length\\_36093\\_cov\\_14.558855  & 19.99676 & 0.01360375 & 218.1788 & 268.2503 & 41.90945 & 19.25914 & 0.023633392 & 0.01216302 & 0.7008561 & -10.72173 & 1.487253 & 0.3831767 & 0 & 2017.12.04\\_18.56.22\\_sample\\_28\\\\\n",
       "\t metaspades & NODE\\_214\\_length\\_36072\\_cov\\_31.360080  & 19.99678 & 0.06132180 & 217.5332 & 267.9003 & 41.17328 & 19.19935 & 0.039947882 & 0.01125527 & 0.7439565 & -12.51090 & 1.504513 & 0.3967831 & 0 & 2017.12.04\\_18.56.22\\_sample\\_28\\\\\n",
       "\t metaspades & NODE\\_215\\_length\\_36033\\_cov\\_15.035327  & 19.99603 & 0.01581883 & 217.7723 & 268.0283 & 41.85938 & 19.17737 & 0.058529681 & 0.06643910 & 0.6873699 & -10.68158 & 1.463579 & 0.3253187 & 0 & 2017.12.04\\_18.56.22\\_sample\\_28\\\\\n",
       "\t metaspades & NODE\\_216\\_length\\_35691\\_cov\\_15.302503  & 19.99252 & 0.01866017 & 217.2748 & 267.5815 & 41.74037 & 19.17052 & 0.077750693 & 0.04499734 & 0.6914348 & -10.86199 & 1.443574 & 0.3124739 & 0 & 2017.12.04\\_18.56.22\\_sample\\_28\\\\\n",
       "\t metaspades & NODE\\_217\\_length\\_35483\\_cov\\_221.190330 & 19.99924 & 0.06735620 & 213.0420 & 268.0188 & 40.65881 & 19.18626 & 0.040554632 & 0.01986867 & 0.7502466 & -12.86695 & 1.457183 & 0.3183948 & 0 & 2017.12.04\\_18.56.22\\_sample\\_28\\\\\n",
       "\\end{tabular}\n"
      ],
      "text/markdown": [
       "\n",
       "A data.table: 323396 × 16\n",
       "\n",
       "| assembler &lt;chr&gt; | contig &lt;chr&gt; | coverage &lt;dbl&gt; | num_SNPs &lt;dbl&gt; | min_insert_size_Match &lt;dbl&gt; | mean_insert_size_Match &lt;dbl&gt; | mean_mapq_Match &lt;dbl&gt; | num_proper_Match &lt;dbl&gt; | num_orphans_Match &lt;dbl&gt; | num_discordant_Match &lt;dbl&gt; | num_proper_SNP &lt;dbl&gt; | mean_al_score_Match &lt;dbl&gt; | seq_window_entropy &lt;dbl&gt; | seq_window_perc_gc &lt;dbl&gt; | Extensive_misassembly &lt;dbl&gt; | sample &lt;chr&gt; |\n",
       "|---|---|---|---|---|---|---|---|---|---|---|---|---|---|---|---|\n",
       "| megahit | k141_84434  |  4.718361 | 0.04535479 | 203.0929 | 256.4318 | 39.66947 |  4.212143 | 0.31602048 | 0.00000000 | 0.1770300 | -14.81367 | 1.539857 | 0.4496511 | 0 | 2017.12.04_18.56.22_sample_1 |\n",
       "| megahit | k141_37     | 10.834249 | 0.09340659 | 119.5528 | 201.9668 | 39.20462 |  8.704212 | 1.04304029 | 0.65018315 | 0.3617216 | -18.58893 | 1.561223 | 0.3899075 | 0 | 2017.12.04_18.56.22_sample_1 |\n",
       "| megahit | k141_117456 | 10.804080 | 0.16413662 | 197.0460 | 261.9074 | 35.08561 |  9.868596 | 0.40322581 | 0.00000000 | 0.5085389 | -22.84230 | 1.490599 | 0.3954744 | 0 | 2017.12.04_18.56.22_sample_1 |\n",
       "| megahit | k141_33593  |  4.033865 | 0.05976096 | 210.6364 | 243.5820 | 38.76166 |  3.717131 | 0.14342629 | 0.00000000 | 0.1673307 | -17.82640 | 1.504849 | 0.3829801 | 0 | 2017.12.04_18.56.22_sample_1 |\n",
       "| megahit | k141_67185  | 19.580420 | 0.05439005 | 216.7554 | 266.7360 | 41.31002 | 18.812743 | 0.00000000 | 0.05497280 | 0.7094017 | -12.33317 | 1.345598 | 0.2358260 | 0 | 2017.12.04_18.56.22_sample_1 |\n",
       "| megahit | k141_100725 |  5.082569 | 0.05963303 | 175.0890 | 236.7571 | 38.23917 |  4.489908 | 0.38990826 | 0.00000000 | 0.1889908 | -17.69235 | 1.505273 | 0.3599128 | 0 | 2017.12.04_18.56.22_sample_1 |\n",
       "| megahit | k141_16828  |  5.826957 | 0.06945262 | 164.8181 | 250.9123 | 38.76360 |  5.218364 | 0.16480283 | 0.17010006 | 0.2554444 | -18.14361 | 1.456988 | 0.4261536 | 0 | 2017.12.04_18.56.22_sample_1 |\n",
       "| megahit | k141_50499  | 19.991755 | 0.04064511 | 214.8655 | 267.0749 | 40.95048 | 19.210385 | 0.01019744 | 0.05134881 | 0.7162797 | -11.88292 | 1.496777 | 0.3572561 | 0 | 2017.12.04_18.56.22_sample_1 |\n",
       "| ⋮ | ⋮ | ⋮ | ⋮ | ⋮ | ⋮ | ⋮ | ⋮ | ⋮ | ⋮ | ⋮ | ⋮ | ⋮ | ⋮ | ⋮ | ⋮ |\n",
       "| metaspades | NODE_211_length_36415_cov_15.075440  | 19.99440 | 0.02490732 | 216.5561 | 267.9322 | 41.70225 | 19.13313 | 0.080049430 | 0.06807634 | 0.7038583 | -11.09230 | 1.489820 | 0.3817471 | 0 | 2017.12.04_18.56.22_sample_28 |\n",
       "| metaspades | NODE_212_length_36170_cov_14.977987  | 19.99580 | 0.01412773 | 220.1992 | 269.7000 | 41.65063 | 19.27946 | 0.004064142 | 0.01985071 | 0.6914570 | -10.62596 | 1.466444 | 0.3287620 | 0 | 2017.12.04_18.56.22_sample_28 |\n",
       "| metaspades | NODE_213_length_36093_cov_14.558855  | 19.99676 | 0.01360375 | 218.1788 | 268.2503 | 41.90945 | 19.25914 | 0.023633392 | 0.01216302 | 0.7008561 | -10.72173 | 1.487253 | 0.3831767 | 0 | 2017.12.04_18.56.22_sample_28 |\n",
       "| metaspades | NODE_214_length_36072_cov_31.360080  | 19.99678 | 0.06132180 | 217.5332 | 267.9003 | 41.17328 | 19.19935 | 0.039947882 | 0.01125527 | 0.7439565 | -12.51090 | 1.504513 | 0.3967831 | 0 | 2017.12.04_18.56.22_sample_28 |\n",
       "| metaspades | NODE_215_length_36033_cov_15.035327  | 19.99603 | 0.01581883 | 217.7723 | 268.0283 | 41.85938 | 19.17737 | 0.058529681 | 0.06643910 | 0.6873699 | -10.68158 | 1.463579 | 0.3253187 | 0 | 2017.12.04_18.56.22_sample_28 |\n",
       "| metaspades | NODE_216_length_35691_cov_15.302503  | 19.99252 | 0.01866017 | 217.2748 | 267.5815 | 41.74037 | 19.17052 | 0.077750693 | 0.04499734 | 0.6914348 | -10.86199 | 1.443574 | 0.3124739 | 0 | 2017.12.04_18.56.22_sample_28 |\n",
       "| metaspades | NODE_217_length_35483_cov_221.190330 | 19.99924 | 0.06735620 | 213.0420 | 268.0188 | 40.65881 | 19.18626 | 0.040554632 | 0.01986867 | 0.7502466 | -12.86695 | 1.457183 | 0.3183948 | 0 | 2017.12.04_18.56.22_sample_28 |\n",
       "\n"
      ],
      "text/plain": [
       "       assembler  contig                               coverage  num_SNPs  \n",
       "1      megahit    k141_84434                            4.718361 0.04535479\n",
       "2      megahit    k141_37                              10.834249 0.09340659\n",
       "3      megahit    k141_117456                          10.804080 0.16413662\n",
       "4      megahit    k141_33593                            4.033865 0.05976096\n",
       "5      megahit    k141_67185                           19.580420 0.05439005\n",
       "6      megahit    k141_100725                           5.082569 0.05963303\n",
       "7      megahit    k141_16828                            5.826957 0.06945262\n",
       "8      megahit    k141_50499                           19.991755 0.04064511\n",
       "⋮      ⋮          ⋮                                    ⋮         ⋮         \n",
       "323390 metaspades NODE_211_length_36415_cov_15.075440  19.99440  0.02490732\n",
       "323391 metaspades NODE_212_length_36170_cov_14.977987  19.99580  0.01412773\n",
       "323392 metaspades NODE_213_length_36093_cov_14.558855  19.99676  0.01360375\n",
       "323393 metaspades NODE_214_length_36072_cov_31.360080  19.99678  0.06132180\n",
       "323394 metaspades NODE_215_length_36033_cov_15.035327  19.99603  0.01581883\n",
       "323395 metaspades NODE_216_length_35691_cov_15.302503  19.99252  0.01866017\n",
       "323396 metaspades NODE_217_length_35483_cov_221.190330 19.99924  0.06735620\n",
       "       min_insert_size_Match mean_insert_size_Match mean_mapq_Match\n",
       "1      203.0929              256.4318               39.66947       \n",
       "2      119.5528              201.9668               39.20462       \n",
       "3      197.0460              261.9074               35.08561       \n",
       "4      210.6364              243.5820               38.76166       \n",
       "5      216.7554              266.7360               41.31002       \n",
       "6      175.0890              236.7571               38.23917       \n",
       "7      164.8181              250.9123               38.76360       \n",
       "8      214.8655              267.0749               40.95048       \n",
       "⋮      ⋮                     ⋮                      ⋮              \n",
       "323390 216.5561              267.9322               41.70225       \n",
       "323391 220.1992              269.7000               41.65063       \n",
       "323392 218.1788              268.2503               41.90945       \n",
       "323393 217.5332              267.9003               41.17328       \n",
       "323394 217.7723              268.0283               41.85938       \n",
       "323395 217.2748              267.5815               41.74037       \n",
       "323396 213.0420              268.0188               40.65881       \n",
       "       num_proper_Match num_orphans_Match num_discordant_Match num_proper_SNP\n",
       "1       4.212143        0.31602048        0.00000000           0.1770300     \n",
       "2       8.704212        1.04304029        0.65018315           0.3617216     \n",
       "3       9.868596        0.40322581        0.00000000           0.5085389     \n",
       "4       3.717131        0.14342629        0.00000000           0.1673307     \n",
       "5      18.812743        0.00000000        0.05497280           0.7094017     \n",
       "6       4.489908        0.38990826        0.00000000           0.1889908     \n",
       "7       5.218364        0.16480283        0.17010006           0.2554444     \n",
       "8      19.210385        0.01019744        0.05134881           0.7162797     \n",
       "⋮      ⋮                ⋮                 ⋮                    ⋮             \n",
       "323390 19.13313         0.080049430       0.06807634           0.7038583     \n",
       "323391 19.27946         0.004064142       0.01985071           0.6914570     \n",
       "323392 19.25914         0.023633392       0.01216302           0.7008561     \n",
       "323393 19.19935         0.039947882       0.01125527           0.7439565     \n",
       "323394 19.17737         0.058529681       0.06643910           0.6873699     \n",
       "323395 19.17052         0.077750693       0.04499734           0.6914348     \n",
       "323396 19.18626         0.040554632       0.01986867           0.7502466     \n",
       "       mean_al_score_Match seq_window_entropy seq_window_perc_gc\n",
       "1      -14.81367           1.539857           0.4496511         \n",
       "2      -18.58893           1.561223           0.3899075         \n",
       "3      -22.84230           1.490599           0.3954744         \n",
       "4      -17.82640           1.504849           0.3829801         \n",
       "5      -12.33317           1.345598           0.2358260         \n",
       "6      -17.69235           1.505273           0.3599128         \n",
       "7      -18.14361           1.456988           0.4261536         \n",
       "8      -11.88292           1.496777           0.3572561         \n",
       "⋮      ⋮                   ⋮                  ⋮                 \n",
       "323390 -11.09230           1.489820           0.3817471         \n",
       "323391 -10.62596           1.466444           0.3287620         \n",
       "323392 -10.72173           1.487253           0.3831767         \n",
       "323393 -12.51090           1.504513           0.3967831         \n",
       "323394 -10.68158           1.463579           0.3253187         \n",
       "323395 -10.86199           1.443574           0.3124739         \n",
       "323396 -12.86695           1.457183           0.3183948         \n",
       "       Extensive_misassembly sample                       \n",
       "1      0                     2017.12.04_18.56.22_sample_1 \n",
       "2      0                     2017.12.04_18.56.22_sample_1 \n",
       "3      0                     2017.12.04_18.56.22_sample_1 \n",
       "4      0                     2017.12.04_18.56.22_sample_1 \n",
       "5      0                     2017.12.04_18.56.22_sample_1 \n",
       "6      0                     2017.12.04_18.56.22_sample_1 \n",
       "7      0                     2017.12.04_18.56.22_sample_1 \n",
       "8      0                     2017.12.04_18.56.22_sample_1 \n",
       "⋮      ⋮                     ⋮                            \n",
       "323390 0                     2017.12.04_18.56.22_sample_28\n",
       "323391 0                     2017.12.04_18.56.22_sample_28\n",
       "323392 0                     2017.12.04_18.56.22_sample_28\n",
       "323393 0                     2017.12.04_18.56.22_sample_28\n",
       "323394 0                     2017.12.04_18.56.22_sample_28\n",
       "323395 0                     2017.12.04_18.56.22_sample_28\n",
       "323396 0                     2017.12.04_18.56.22_sample_28"
      ]
     },
     "metadata": {},
     "output_type": "display_data"
    }
   ],
   "source": [
    "# reading\n",
    "read_feat = function(F){\n",
    "    df = Fread(F) %>%\n",
    "        select.(assembler, contig, \n",
    "                coverage, num_SNPs, min_insert_size_Match, mean_insert_size_Match, mean_mapq_Match, \n",
    "                num_proper_Match, num_orphans_Match, num_discordant_Match, num_proper_SNP, \n",
    "                mean_al_score_Match, seq_window_entropy, seq_window_perc_gc, Extensive_misassembly) %>%\n",
    "        summarize.(coverage = mean(coverage, na.rm=TRUE),\n",
    "                   num_SNPs = mean(num_SNPs, na.rm=TRUE),\n",
    "                   min_insert_size_Match = mean(min_insert_size_Match, na.rm=TRUE),\n",
    "                   mean_insert_size_Match = mean(mean_insert_size_Match, na.rm=TRUE),\n",
    "                   mean_mapq_Match = mean(mean_mapq_Match, na.rm=TRUE),\n",
    "                   num_proper_Match = mean(num_proper_Match, na.rm=TRUE),\n",
    "                   num_orphans_Match = mean(num_orphans_Match, na.rm=TRUE),\n",
    "                   num_discordant_Match = mean(num_discordant_Match, na.rm=TRUE),\n",
    "                   num_proper_SNP = mean(num_proper_SNP, na.rm=TRUE),\n",
    "                   mean_al_score_Match = mean(mean_al_score_Match, na.rm=TRUE),\n",
    "                   seq_window_entropy = mean(seq_window_entropy, na.rm=TRUE),\n",
    "                   seq_window_perc_gc = mean(seq_window_perc_gc, na.rm=TRUE),\n",
    "                   Extensive_misassembly = mean(Extensive_misassembly, na.rm=TRUE),\n",
    "                   .by=c(assembler, contig))\n",
    "    x = unlist(strsplit(F, '/'))\n",
    "    df$sample = x[length(x)-6]\n",
    "    return(df)\n",
    "}\n",
    "doParallel::registerDoParallel(6)\n",
    "feats = feat_files %>%\n",
    "    #head(n=2) %>%\n",
    "    plyr::llply(read_feat, .parallel=TRUE) %>%\n",
    "    rbindlist(use.names=TRUE) \n",
    "feats"
   ]
  },
  {
   "cell_type": "code",
   "execution_count": 30,
   "id": "ccf991e7",
   "metadata": {
    "ExecuteTime": {
     "end_time": "2021-11-01T07:25:15.753473Z",
     "start_time": "2021-11-01T07:17:44.241Z"
    }
   },
   "outputs": [
    {
     "data": {
      "text/html": [
       "'/ebio/abt3_projects/databases_no-backup/CAMI/CAMI2_HMP-skin/short_read//ResMiCo-SM/features/features_per-contig.tsv'"
      ],
      "text/latex": [
       "'/ebio/abt3\\_projects/databases\\_no-backup/CAMI/CAMI2\\_HMP-skin/short\\_read//ResMiCo-SM/features/features\\_per-contig.tsv'"
      ],
      "text/markdown": [
       "'/ebio/abt3_projects/databases_no-backup/CAMI/CAMI2_HMP-skin/short_read//ResMiCo-SM/features/features_per-contig.tsv'"
      ],
      "text/plain": [
       "[1] \"/ebio/abt3_projects/databases_no-backup/CAMI/CAMI2_HMP-skin/short_read//ResMiCo-SM/features/features_per-contig.tsv\""
      ]
     },
     "metadata": {},
     "output_type": "display_data"
    }
   ],
   "source": [
    "# writing table: file name\n",
    "D = file.path(work_dir, 'ResMiCo-SM', 'features')\n",
    "F = file.path(D, 'features_per-contig.tsv')\n",
    "F"
   ]
  },
  {
   "cell_type": "code",
   "execution_count": 31,
   "id": "21dc5e52",
   "metadata": {
    "ExecuteTime": {
     "end_time": "2021-11-01T07:25:16.032659Z",
     "start_time": "2021-11-01T07:17:49.193Z"
    }
   },
   "outputs": [
    {
     "name": "stdout",
     "output_type": "stream",
     "text": [
      "File written: /ebio/abt3_projects/databases_no-backup/CAMI/CAMI2_HMP-skin/short_read//ResMiCo-SM/features/features_per-contig.tsv \n"
     ]
    }
   ],
   "source": [
    "# writing table: writing\n",
    "write_table(feats, F)"
   ]
  },
  {
   "cell_type": "code",
   "execution_count": 32,
   "id": "b875bacf",
   "metadata": {
    "ExecuteTime": {
     "end_time": "2021-11-01T07:25:16.619548Z",
     "start_time": "2021-11-01T07:17:53.018Z"
    }
   },
   "outputs": [
    {
     "data": {
      "text/html": [
       "<table class=\"dataframe\">\n",
       "<caption>A data.table: 323396 × 16</caption>\n",
       "<thead>\n",
       "\t<tr><th scope=col>assembler</th><th scope=col>contig</th><th scope=col>coverage</th><th scope=col>num_SNPs</th><th scope=col>min_insert_size_Match</th><th scope=col>mean_insert_size_Match</th><th scope=col>mean_mapq_Match</th><th scope=col>num_proper_Match</th><th scope=col>num_orphans_Match</th><th scope=col>num_discordant_Match</th><th scope=col>num_proper_SNP</th><th scope=col>mean_al_score_Match</th><th scope=col>seq_window_entropy</th><th scope=col>seq_window_perc_gc</th><th scope=col>Extensive_misassembly</th><th scope=col>sample</th></tr>\n",
       "\t<tr><th scope=col>&lt;chr&gt;</th><th scope=col>&lt;chr&gt;</th><th scope=col>&lt;dbl&gt;</th><th scope=col>&lt;dbl&gt;</th><th scope=col>&lt;dbl&gt;</th><th scope=col>&lt;dbl&gt;</th><th scope=col>&lt;dbl&gt;</th><th scope=col>&lt;dbl&gt;</th><th scope=col>&lt;dbl&gt;</th><th scope=col>&lt;dbl&gt;</th><th scope=col>&lt;dbl&gt;</th><th scope=col>&lt;dbl&gt;</th><th scope=col>&lt;dbl&gt;</th><th scope=col>&lt;dbl&gt;</th><th scope=col>&lt;int&gt;</th><th scope=col>&lt;chr&gt;</th></tr>\n",
       "</thead>\n",
       "<tbody>\n",
       "\t<tr><td>megahit</td><td>k141_84434 </td><td> 4.718361</td><td>0.04535479</td><td>203.0929</td><td>256.4318</td><td>39.66947</td><td> 4.212143</td><td>0.31602048</td><td>0.00000000</td><td>0.1770300</td><td>-14.81367</td><td>1.539857</td><td>0.4496511</td><td>0</td><td>2017.12.04_18.56.22_sample_1</td></tr>\n",
       "\t<tr><td>megahit</td><td>k141_37    </td><td>10.834249</td><td>0.09340659</td><td>119.5528</td><td>201.9668</td><td>39.20462</td><td> 8.704212</td><td>1.04304029</td><td>0.65018315</td><td>0.3617216</td><td>-18.58893</td><td>1.561223</td><td>0.3899075</td><td>0</td><td>2017.12.04_18.56.22_sample_1</td></tr>\n",
       "\t<tr><td>megahit</td><td>k141_117456</td><td>10.804080</td><td>0.16413662</td><td>197.0460</td><td>261.9074</td><td>35.08561</td><td> 9.868596</td><td>0.40322581</td><td>0.00000000</td><td>0.5085389</td><td>-22.84230</td><td>1.490599</td><td>0.3954744</td><td>0</td><td>2017.12.04_18.56.22_sample_1</td></tr>\n",
       "\t<tr><td>megahit</td><td>k141_33593 </td><td> 4.033865</td><td>0.05976096</td><td>210.6364</td><td>243.5820</td><td>38.76166</td><td> 3.717131</td><td>0.14342629</td><td>0.00000000</td><td>0.1673307</td><td>-17.82640</td><td>1.504849</td><td>0.3829801</td><td>0</td><td>2017.12.04_18.56.22_sample_1</td></tr>\n",
       "\t<tr><td>megahit</td><td>k141_67185 </td><td>19.580420</td><td>0.05439005</td><td>216.7554</td><td>266.7360</td><td>41.31002</td><td>18.812743</td><td>0.00000000</td><td>0.05497280</td><td>0.7094017</td><td>-12.33317</td><td>1.345598</td><td>0.2358260</td><td>0</td><td>2017.12.04_18.56.22_sample_1</td></tr>\n",
       "\t<tr><td>megahit</td><td>k141_100725</td><td> 5.082569</td><td>0.05963303</td><td>175.0890</td><td>236.7571</td><td>38.23917</td><td> 4.489908</td><td>0.38990826</td><td>0.00000000</td><td>0.1889908</td><td>-17.69235</td><td>1.505273</td><td>0.3599128</td><td>0</td><td>2017.12.04_18.56.22_sample_1</td></tr>\n",
       "\t<tr><td>megahit</td><td>k141_16828 </td><td> 5.826957</td><td>0.06945262</td><td>164.8181</td><td>250.9123</td><td>38.76360</td><td> 5.218364</td><td>0.16480283</td><td>0.17010006</td><td>0.2554444</td><td>-18.14361</td><td>1.456988</td><td>0.4261536</td><td>0</td><td>2017.12.04_18.56.22_sample_1</td></tr>\n",
       "\t<tr><td>megahit</td><td>k141_50499 </td><td>19.991755</td><td>0.04064511</td><td>214.8655</td><td>267.0749</td><td>40.95048</td><td>19.210385</td><td>0.01019744</td><td>0.05134881</td><td>0.7162797</td><td>-11.88292</td><td>1.496777</td><td>0.3572561</td><td>0</td><td>2017.12.04_18.56.22_sample_1</td></tr>\n",
       "\t<tr><td>⋮</td><td>⋮</td><td>⋮</td><td>⋮</td><td>⋮</td><td>⋮</td><td>⋮</td><td>⋮</td><td>⋮</td><td>⋮</td><td>⋮</td><td>⋮</td><td>⋮</td><td>⋮</td><td>⋮</td><td>⋮</td></tr>\n",
       "\t<tr><td>metaspades</td><td>NODE_211_length_36415_cov_15.075440 </td><td>19.99440</td><td>0.02490732</td><td>216.5561</td><td>267.9322</td><td>41.70225</td><td>19.13313</td><td>0.080049430</td><td>0.06807634</td><td>0.7038583</td><td>-11.09230</td><td>1.489820</td><td>0.3817471</td><td>0</td><td>2017.12.04_18.56.22_sample_28</td></tr>\n",
       "\t<tr><td>metaspades</td><td>NODE_212_length_36170_cov_14.977987 </td><td>19.99580</td><td>0.01412773</td><td>220.1992</td><td>269.7000</td><td>41.65063</td><td>19.27946</td><td>0.004064142</td><td>0.01985071</td><td>0.6914570</td><td>-10.62596</td><td>1.466444</td><td>0.3287620</td><td>0</td><td>2017.12.04_18.56.22_sample_28</td></tr>\n",
       "\t<tr><td>metaspades</td><td>NODE_213_length_36093_cov_14.558855 </td><td>19.99676</td><td>0.01360375</td><td>218.1788</td><td>268.2503</td><td>41.90945</td><td>19.25914</td><td>0.023633392</td><td>0.01216302</td><td>0.7008561</td><td>-10.72173</td><td>1.487253</td><td>0.3831767</td><td>0</td><td>2017.12.04_18.56.22_sample_28</td></tr>\n",
       "\t<tr><td>metaspades</td><td>NODE_214_length_36072_cov_31.360080 </td><td>19.99678</td><td>0.06132180</td><td>217.5332</td><td>267.9003</td><td>41.17328</td><td>19.19935</td><td>0.039947882</td><td>0.01125527</td><td>0.7439565</td><td>-12.51090</td><td>1.504513</td><td>0.3967831</td><td>0</td><td>2017.12.04_18.56.22_sample_28</td></tr>\n",
       "\t<tr><td>metaspades</td><td>NODE_215_length_36033_cov_15.035327 </td><td>19.99603</td><td>0.01581883</td><td>217.7723</td><td>268.0283</td><td>41.85938</td><td>19.17737</td><td>0.058529681</td><td>0.06643910</td><td>0.6873699</td><td>-10.68158</td><td>1.463579</td><td>0.3253187</td><td>0</td><td>2017.12.04_18.56.22_sample_28</td></tr>\n",
       "\t<tr><td>metaspades</td><td>NODE_216_length_35691_cov_15.302503 </td><td>19.99252</td><td>0.01866017</td><td>217.2748</td><td>267.5815</td><td>41.74037</td><td>19.17052</td><td>0.077750693</td><td>0.04499734</td><td>0.6914348</td><td>-10.86199</td><td>1.443574</td><td>0.3124739</td><td>0</td><td>2017.12.04_18.56.22_sample_28</td></tr>\n",
       "\t<tr><td>metaspades</td><td>NODE_217_length_35483_cov_221.190330</td><td>19.99924</td><td>0.06735620</td><td>213.0420</td><td>268.0188</td><td>40.65881</td><td>19.18626</td><td>0.040554632</td><td>0.01986867</td><td>0.7502466</td><td>-12.86695</td><td>1.457183</td><td>0.3183948</td><td>0</td><td>2017.12.04_18.56.22_sample_28</td></tr>\n",
       "</tbody>\n",
       "</table>\n"
      ],
      "text/latex": [
       "A data.table: 323396 × 16\n",
       "\\begin{tabular}{llllllllllllllll}\n",
       " assembler & contig & coverage & num\\_SNPs & min\\_insert\\_size\\_Match & mean\\_insert\\_size\\_Match & mean\\_mapq\\_Match & num\\_proper\\_Match & num\\_orphans\\_Match & num\\_discordant\\_Match & num\\_proper\\_SNP & mean\\_al\\_score\\_Match & seq\\_window\\_entropy & seq\\_window\\_perc\\_gc & Extensive\\_misassembly & sample\\\\\n",
       " <chr> & <chr> & <dbl> & <dbl> & <dbl> & <dbl> & <dbl> & <dbl> & <dbl> & <dbl> & <dbl> & <dbl> & <dbl> & <dbl> & <int> & <chr>\\\\\n",
       "\\hline\n",
       "\t megahit & k141\\_84434  &  4.718361 & 0.04535479 & 203.0929 & 256.4318 & 39.66947 &  4.212143 & 0.31602048 & 0.00000000 & 0.1770300 & -14.81367 & 1.539857 & 0.4496511 & 0 & 2017.12.04\\_18.56.22\\_sample\\_1\\\\\n",
       "\t megahit & k141\\_37     & 10.834249 & 0.09340659 & 119.5528 & 201.9668 & 39.20462 &  8.704212 & 1.04304029 & 0.65018315 & 0.3617216 & -18.58893 & 1.561223 & 0.3899075 & 0 & 2017.12.04\\_18.56.22\\_sample\\_1\\\\\n",
       "\t megahit & k141\\_117456 & 10.804080 & 0.16413662 & 197.0460 & 261.9074 & 35.08561 &  9.868596 & 0.40322581 & 0.00000000 & 0.5085389 & -22.84230 & 1.490599 & 0.3954744 & 0 & 2017.12.04\\_18.56.22\\_sample\\_1\\\\\n",
       "\t megahit & k141\\_33593  &  4.033865 & 0.05976096 & 210.6364 & 243.5820 & 38.76166 &  3.717131 & 0.14342629 & 0.00000000 & 0.1673307 & -17.82640 & 1.504849 & 0.3829801 & 0 & 2017.12.04\\_18.56.22\\_sample\\_1\\\\\n",
       "\t megahit & k141\\_67185  & 19.580420 & 0.05439005 & 216.7554 & 266.7360 & 41.31002 & 18.812743 & 0.00000000 & 0.05497280 & 0.7094017 & -12.33317 & 1.345598 & 0.2358260 & 0 & 2017.12.04\\_18.56.22\\_sample\\_1\\\\\n",
       "\t megahit & k141\\_100725 &  5.082569 & 0.05963303 & 175.0890 & 236.7571 & 38.23917 &  4.489908 & 0.38990826 & 0.00000000 & 0.1889908 & -17.69235 & 1.505273 & 0.3599128 & 0 & 2017.12.04\\_18.56.22\\_sample\\_1\\\\\n",
       "\t megahit & k141\\_16828  &  5.826957 & 0.06945262 & 164.8181 & 250.9123 & 38.76360 &  5.218364 & 0.16480283 & 0.17010006 & 0.2554444 & -18.14361 & 1.456988 & 0.4261536 & 0 & 2017.12.04\\_18.56.22\\_sample\\_1\\\\\n",
       "\t megahit & k141\\_50499  & 19.991755 & 0.04064511 & 214.8655 & 267.0749 & 40.95048 & 19.210385 & 0.01019744 & 0.05134881 & 0.7162797 & -11.88292 & 1.496777 & 0.3572561 & 0 & 2017.12.04\\_18.56.22\\_sample\\_1\\\\\n",
       "\t ⋮ & ⋮ & ⋮ & ⋮ & ⋮ & ⋮ & ⋮ & ⋮ & ⋮ & ⋮ & ⋮ & ⋮ & ⋮ & ⋮ & ⋮ & ⋮\\\\\n",
       "\t metaspades & NODE\\_211\\_length\\_36415\\_cov\\_15.075440  & 19.99440 & 0.02490732 & 216.5561 & 267.9322 & 41.70225 & 19.13313 & 0.080049430 & 0.06807634 & 0.7038583 & -11.09230 & 1.489820 & 0.3817471 & 0 & 2017.12.04\\_18.56.22\\_sample\\_28\\\\\n",
       "\t metaspades & NODE\\_212\\_length\\_36170\\_cov\\_14.977987  & 19.99580 & 0.01412773 & 220.1992 & 269.7000 & 41.65063 & 19.27946 & 0.004064142 & 0.01985071 & 0.6914570 & -10.62596 & 1.466444 & 0.3287620 & 0 & 2017.12.04\\_18.56.22\\_sample\\_28\\\\\n",
       "\t metaspades & NODE\\_213\\_length\\_36093\\_cov\\_14.558855  & 19.99676 & 0.01360375 & 218.1788 & 268.2503 & 41.90945 & 19.25914 & 0.023633392 & 0.01216302 & 0.7008561 & -10.72173 & 1.487253 & 0.3831767 & 0 & 2017.12.04\\_18.56.22\\_sample\\_28\\\\\n",
       "\t metaspades & NODE\\_214\\_length\\_36072\\_cov\\_31.360080  & 19.99678 & 0.06132180 & 217.5332 & 267.9003 & 41.17328 & 19.19935 & 0.039947882 & 0.01125527 & 0.7439565 & -12.51090 & 1.504513 & 0.3967831 & 0 & 2017.12.04\\_18.56.22\\_sample\\_28\\\\\n",
       "\t metaspades & NODE\\_215\\_length\\_36033\\_cov\\_15.035327  & 19.99603 & 0.01581883 & 217.7723 & 268.0283 & 41.85938 & 19.17737 & 0.058529681 & 0.06643910 & 0.6873699 & -10.68158 & 1.463579 & 0.3253187 & 0 & 2017.12.04\\_18.56.22\\_sample\\_28\\\\\n",
       "\t metaspades & NODE\\_216\\_length\\_35691\\_cov\\_15.302503  & 19.99252 & 0.01866017 & 217.2748 & 267.5815 & 41.74037 & 19.17052 & 0.077750693 & 0.04499734 & 0.6914348 & -10.86199 & 1.443574 & 0.3124739 & 0 & 2017.12.04\\_18.56.22\\_sample\\_28\\\\\n",
       "\t metaspades & NODE\\_217\\_length\\_35483\\_cov\\_221.190330 & 19.99924 & 0.06735620 & 213.0420 & 268.0188 & 40.65881 & 19.18626 & 0.040554632 & 0.01986867 & 0.7502466 & -12.86695 & 1.457183 & 0.3183948 & 0 & 2017.12.04\\_18.56.22\\_sample\\_28\\\\\n",
       "\\end{tabular}\n"
      ],
      "text/markdown": [
       "\n",
       "A data.table: 323396 × 16\n",
       "\n",
       "| assembler &lt;chr&gt; | contig &lt;chr&gt; | coverage &lt;dbl&gt; | num_SNPs &lt;dbl&gt; | min_insert_size_Match &lt;dbl&gt; | mean_insert_size_Match &lt;dbl&gt; | mean_mapq_Match &lt;dbl&gt; | num_proper_Match &lt;dbl&gt; | num_orphans_Match &lt;dbl&gt; | num_discordant_Match &lt;dbl&gt; | num_proper_SNP &lt;dbl&gt; | mean_al_score_Match &lt;dbl&gt; | seq_window_entropy &lt;dbl&gt; | seq_window_perc_gc &lt;dbl&gt; | Extensive_misassembly &lt;int&gt; | sample &lt;chr&gt; |\n",
       "|---|---|---|---|---|---|---|---|---|---|---|---|---|---|---|---|\n",
       "| megahit | k141_84434  |  4.718361 | 0.04535479 | 203.0929 | 256.4318 | 39.66947 |  4.212143 | 0.31602048 | 0.00000000 | 0.1770300 | -14.81367 | 1.539857 | 0.4496511 | 0 | 2017.12.04_18.56.22_sample_1 |\n",
       "| megahit | k141_37     | 10.834249 | 0.09340659 | 119.5528 | 201.9668 | 39.20462 |  8.704212 | 1.04304029 | 0.65018315 | 0.3617216 | -18.58893 | 1.561223 | 0.3899075 | 0 | 2017.12.04_18.56.22_sample_1 |\n",
       "| megahit | k141_117456 | 10.804080 | 0.16413662 | 197.0460 | 261.9074 | 35.08561 |  9.868596 | 0.40322581 | 0.00000000 | 0.5085389 | -22.84230 | 1.490599 | 0.3954744 | 0 | 2017.12.04_18.56.22_sample_1 |\n",
       "| megahit | k141_33593  |  4.033865 | 0.05976096 | 210.6364 | 243.5820 | 38.76166 |  3.717131 | 0.14342629 | 0.00000000 | 0.1673307 | -17.82640 | 1.504849 | 0.3829801 | 0 | 2017.12.04_18.56.22_sample_1 |\n",
       "| megahit | k141_67185  | 19.580420 | 0.05439005 | 216.7554 | 266.7360 | 41.31002 | 18.812743 | 0.00000000 | 0.05497280 | 0.7094017 | -12.33317 | 1.345598 | 0.2358260 | 0 | 2017.12.04_18.56.22_sample_1 |\n",
       "| megahit | k141_100725 |  5.082569 | 0.05963303 | 175.0890 | 236.7571 | 38.23917 |  4.489908 | 0.38990826 | 0.00000000 | 0.1889908 | -17.69235 | 1.505273 | 0.3599128 | 0 | 2017.12.04_18.56.22_sample_1 |\n",
       "| megahit | k141_16828  |  5.826957 | 0.06945262 | 164.8181 | 250.9123 | 38.76360 |  5.218364 | 0.16480283 | 0.17010006 | 0.2554444 | -18.14361 | 1.456988 | 0.4261536 | 0 | 2017.12.04_18.56.22_sample_1 |\n",
       "| megahit | k141_50499  | 19.991755 | 0.04064511 | 214.8655 | 267.0749 | 40.95048 | 19.210385 | 0.01019744 | 0.05134881 | 0.7162797 | -11.88292 | 1.496777 | 0.3572561 | 0 | 2017.12.04_18.56.22_sample_1 |\n",
       "| ⋮ | ⋮ | ⋮ | ⋮ | ⋮ | ⋮ | ⋮ | ⋮ | ⋮ | ⋮ | ⋮ | ⋮ | ⋮ | ⋮ | ⋮ | ⋮ |\n",
       "| metaspades | NODE_211_length_36415_cov_15.075440  | 19.99440 | 0.02490732 | 216.5561 | 267.9322 | 41.70225 | 19.13313 | 0.080049430 | 0.06807634 | 0.7038583 | -11.09230 | 1.489820 | 0.3817471 | 0 | 2017.12.04_18.56.22_sample_28 |\n",
       "| metaspades | NODE_212_length_36170_cov_14.977987  | 19.99580 | 0.01412773 | 220.1992 | 269.7000 | 41.65063 | 19.27946 | 0.004064142 | 0.01985071 | 0.6914570 | -10.62596 | 1.466444 | 0.3287620 | 0 | 2017.12.04_18.56.22_sample_28 |\n",
       "| metaspades | NODE_213_length_36093_cov_14.558855  | 19.99676 | 0.01360375 | 218.1788 | 268.2503 | 41.90945 | 19.25914 | 0.023633392 | 0.01216302 | 0.7008561 | -10.72173 | 1.487253 | 0.3831767 | 0 | 2017.12.04_18.56.22_sample_28 |\n",
       "| metaspades | NODE_214_length_36072_cov_31.360080  | 19.99678 | 0.06132180 | 217.5332 | 267.9003 | 41.17328 | 19.19935 | 0.039947882 | 0.01125527 | 0.7439565 | -12.51090 | 1.504513 | 0.3967831 | 0 | 2017.12.04_18.56.22_sample_28 |\n",
       "| metaspades | NODE_215_length_36033_cov_15.035327  | 19.99603 | 0.01581883 | 217.7723 | 268.0283 | 41.85938 | 19.17737 | 0.058529681 | 0.06643910 | 0.6873699 | -10.68158 | 1.463579 | 0.3253187 | 0 | 2017.12.04_18.56.22_sample_28 |\n",
       "| metaspades | NODE_216_length_35691_cov_15.302503  | 19.99252 | 0.01866017 | 217.2748 | 267.5815 | 41.74037 | 19.17052 | 0.077750693 | 0.04499734 | 0.6914348 | -10.86199 | 1.443574 | 0.3124739 | 0 | 2017.12.04_18.56.22_sample_28 |\n",
       "| metaspades | NODE_217_length_35483_cov_221.190330 | 19.99924 | 0.06735620 | 213.0420 | 268.0188 | 40.65881 | 19.18626 | 0.040554632 | 0.01986867 | 0.7502466 | -12.86695 | 1.457183 | 0.3183948 | 0 | 2017.12.04_18.56.22_sample_28 |\n",
       "\n"
      ],
      "text/plain": [
       "       assembler  contig                               coverage  num_SNPs  \n",
       "1      megahit    k141_84434                            4.718361 0.04535479\n",
       "2      megahit    k141_37                              10.834249 0.09340659\n",
       "3      megahit    k141_117456                          10.804080 0.16413662\n",
       "4      megahit    k141_33593                            4.033865 0.05976096\n",
       "5      megahit    k141_67185                           19.580420 0.05439005\n",
       "6      megahit    k141_100725                           5.082569 0.05963303\n",
       "7      megahit    k141_16828                            5.826957 0.06945262\n",
       "8      megahit    k141_50499                           19.991755 0.04064511\n",
       "⋮      ⋮          ⋮                                    ⋮         ⋮         \n",
       "323390 metaspades NODE_211_length_36415_cov_15.075440  19.99440  0.02490732\n",
       "323391 metaspades NODE_212_length_36170_cov_14.977987  19.99580  0.01412773\n",
       "323392 metaspades NODE_213_length_36093_cov_14.558855  19.99676  0.01360375\n",
       "323393 metaspades NODE_214_length_36072_cov_31.360080  19.99678  0.06132180\n",
       "323394 metaspades NODE_215_length_36033_cov_15.035327  19.99603  0.01581883\n",
       "323395 metaspades NODE_216_length_35691_cov_15.302503  19.99252  0.01866017\n",
       "323396 metaspades NODE_217_length_35483_cov_221.190330 19.99924  0.06735620\n",
       "       min_insert_size_Match mean_insert_size_Match mean_mapq_Match\n",
       "1      203.0929              256.4318               39.66947       \n",
       "2      119.5528              201.9668               39.20462       \n",
       "3      197.0460              261.9074               35.08561       \n",
       "4      210.6364              243.5820               38.76166       \n",
       "5      216.7554              266.7360               41.31002       \n",
       "6      175.0890              236.7571               38.23917       \n",
       "7      164.8181              250.9123               38.76360       \n",
       "8      214.8655              267.0749               40.95048       \n",
       "⋮      ⋮                     ⋮                      ⋮              \n",
       "323390 216.5561              267.9322               41.70225       \n",
       "323391 220.1992              269.7000               41.65063       \n",
       "323392 218.1788              268.2503               41.90945       \n",
       "323393 217.5332              267.9003               41.17328       \n",
       "323394 217.7723              268.0283               41.85938       \n",
       "323395 217.2748              267.5815               41.74037       \n",
       "323396 213.0420              268.0188               40.65881       \n",
       "       num_proper_Match num_orphans_Match num_discordant_Match num_proper_SNP\n",
       "1       4.212143        0.31602048        0.00000000           0.1770300     \n",
       "2       8.704212        1.04304029        0.65018315           0.3617216     \n",
       "3       9.868596        0.40322581        0.00000000           0.5085389     \n",
       "4       3.717131        0.14342629        0.00000000           0.1673307     \n",
       "5      18.812743        0.00000000        0.05497280           0.7094017     \n",
       "6       4.489908        0.38990826        0.00000000           0.1889908     \n",
       "7       5.218364        0.16480283        0.17010006           0.2554444     \n",
       "8      19.210385        0.01019744        0.05134881           0.7162797     \n",
       "⋮      ⋮                ⋮                 ⋮                    ⋮             \n",
       "323390 19.13313         0.080049430       0.06807634           0.7038583     \n",
       "323391 19.27946         0.004064142       0.01985071           0.6914570     \n",
       "323392 19.25914         0.023633392       0.01216302           0.7008561     \n",
       "323393 19.19935         0.039947882       0.01125527           0.7439565     \n",
       "323394 19.17737         0.058529681       0.06643910           0.6873699     \n",
       "323395 19.17052         0.077750693       0.04499734           0.6914348     \n",
       "323396 19.18626         0.040554632       0.01986867           0.7502466     \n",
       "       mean_al_score_Match seq_window_entropy seq_window_perc_gc\n",
       "1      -14.81367           1.539857           0.4496511         \n",
       "2      -18.58893           1.561223           0.3899075         \n",
       "3      -22.84230           1.490599           0.3954744         \n",
       "4      -17.82640           1.504849           0.3829801         \n",
       "5      -12.33317           1.345598           0.2358260         \n",
       "6      -17.69235           1.505273           0.3599128         \n",
       "7      -18.14361           1.456988           0.4261536         \n",
       "8      -11.88292           1.496777           0.3572561         \n",
       "⋮      ⋮                   ⋮                  ⋮                 \n",
       "323390 -11.09230           1.489820           0.3817471         \n",
       "323391 -10.62596           1.466444           0.3287620         \n",
       "323392 -10.72173           1.487253           0.3831767         \n",
       "323393 -12.51090           1.504513           0.3967831         \n",
       "323394 -10.68158           1.463579           0.3253187         \n",
       "323395 -10.86199           1.443574           0.3124739         \n",
       "323396 -12.86695           1.457183           0.3183948         \n",
       "       Extensive_misassembly sample                       \n",
       "1      0                     2017.12.04_18.56.22_sample_1 \n",
       "2      0                     2017.12.04_18.56.22_sample_1 \n",
       "3      0                     2017.12.04_18.56.22_sample_1 \n",
       "4      0                     2017.12.04_18.56.22_sample_1 \n",
       "5      0                     2017.12.04_18.56.22_sample_1 \n",
       "6      0                     2017.12.04_18.56.22_sample_1 \n",
       "7      0                     2017.12.04_18.56.22_sample_1 \n",
       "8      0                     2017.12.04_18.56.22_sample_1 \n",
       "⋮      ⋮                     ⋮                            \n",
       "323390 0                     2017.12.04_18.56.22_sample_28\n",
       "323391 0                     2017.12.04_18.56.22_sample_28\n",
       "323392 0                     2017.12.04_18.56.22_sample_28\n",
       "323393 0                     2017.12.04_18.56.22_sample_28\n",
       "323394 0                     2017.12.04_18.56.22_sample_28\n",
       "323395 0                     2017.12.04_18.56.22_sample_28\n",
       "323396 0                     2017.12.04_18.56.22_sample_28"
      ]
     },
     "metadata": {},
     "output_type": "display_data"
    }
   ],
   "source": [
    "# writing table: re-load\n",
    "feats = Fread(F)\n",
    "feats"
   ]
  },
  {
   "cell_type": "code",
   "execution_count": 49,
   "id": "7b2291ca",
   "metadata": {
    "ExecuteTime": {
     "end_time": "2021-11-01T09:52:27.890193Z",
     "start_time": "2021-11-01T09:52:27.740Z"
    }
   },
   "outputs": [
    {
     "data": {
      "text/html": [
       "<table class=\"dataframe\">\n",
       "<caption>A matrix: 1 × 8 of type dbl</caption>\n",
       "<thead>\n",
       "\t<tr><th></th><th scope=col>Min.</th><th scope=col>1st Qu.</th><th scope=col>Median</th><th scope=col>Mean</th><th scope=col>3rd Qu.</th><th scope=col>Max.</th><th scope=col>sd</th><th scope=col>sd_err_of_mean</th></tr>\n",
       "</thead>\n",
       "<tbody>\n",
       "\t<tr><th scope=row>coverage</th><td>0.2918288</td><td>7.574358</td><td>11.14553</td><td>11.80027</td><td>15.93588</td><td>20.30973</td><td>6.898</td><td>2.816</td></tr>\n",
       "</tbody>\n",
       "</table>\n"
      ],
      "text/latex": [
       "A matrix: 1 × 8 of type dbl\n",
       "\\begin{tabular}{r|llllllll}\n",
       "  & Min. & 1st Qu. & Median & Mean & 3rd Qu. & Max. & sd & sd\\_err\\_of\\_mean\\\\\n",
       "\\hline\n",
       "\tcoverage & 0.2918288 & 7.574358 & 11.14553 & 11.80027 & 15.93588 & 20.30973 & 6.898 & 2.816\\\\\n",
       "\\end{tabular}\n"
      ],
      "text/markdown": [
       "\n",
       "A matrix: 1 × 8 of type dbl\n",
       "\n",
       "| <!--/--> | Min. | 1st Qu. | Median | Mean | 3rd Qu. | Max. | sd | sd_err_of_mean |\n",
       "|---|---|---|---|---|---|---|---|---|\n",
       "| coverage | 0.2918288 | 7.574358 | 11.14553 | 11.80027 | 15.93588 | 20.30973 | 6.898 | 2.816 |\n",
       "\n"
      ],
      "text/plain": [
       "         Min.      1st Qu.  Median   Mean     3rd Qu.  Max.     sd   \n",
       "coverage 0.2918288 7.574358 11.14553 11.80027 15.93588 20.30973 6.898\n",
       "         sd_err_of_mean\n",
       "coverage 2.816         "
      ]
     },
     "metadata": {},
     "output_type": "display_data"
    },
    {
     "data": {
      "text/html": [
       "<strong>95%:</strong> 19.9843646945644"
      ],
      "text/latex": [
       "\\textbf{95\\textbackslash{}\\%:} 19.9843646945644"
      ],
      "text/markdown": [
       "**95%:** 19.9843646945644"
      ],
      "text/plain": [
       "     95% \n",
       "19.98436 "
      ]
     },
     "metadata": {},
     "output_type": "display_data"
    }
   ],
   "source": [
    "# per-contig coverage distribution\n",
    "summary_x(feats$coverage)\n",
    "quantile(feats$coverage, 0.95)"
   ]
  },
  {
   "cell_type": "code",
   "execution_count": 50,
   "id": "b162c566",
   "metadata": {
    "ExecuteTime": {
     "end_time": "2021-11-01T09:52:28.868134Z",
     "start_time": "2021-11-01T09:52:28.792Z"
    }
   },
   "outputs": [
    {
     "data": {
      "text/html": [
       "<table class=\"dataframe\">\n",
       "<caption>A matrix: 1 × 8 of type dbl</caption>\n",
       "<thead>\n",
       "\t<tr><th></th><th scope=col>Min.</th><th scope=col>1st Qu.</th><th scope=col>Median</th><th scope=col>Mean</th><th scope=col>3rd Qu.</th><th scope=col>Max.</th><th scope=col>sd</th><th scope=col>sd_err_of_mean</th></tr>\n",
       "</thead>\n",
       "<tbody>\n",
       "\t<tr><th scope=row>num_SNPs</th><td>0.0009727626</td><td>0.04765013</td><td>0.07031566</td><td>0.09749027</td><td>0.1076808</td><td>1.708075</td><td>0.672</td><td>0.274</td></tr>\n",
       "</tbody>\n",
       "</table>\n"
      ],
      "text/latex": [
       "A matrix: 1 × 8 of type dbl\n",
       "\\begin{tabular}{r|llllllll}\n",
       "  & Min. & 1st Qu. & Median & Mean & 3rd Qu. & Max. & sd & sd\\_err\\_of\\_mean\\\\\n",
       "\\hline\n",
       "\tnum\\_SNPs & 0.0009727626 & 0.04765013 & 0.07031566 & 0.09749027 & 0.1076808 & 1.708075 & 0.672 & 0.274\\\\\n",
       "\\end{tabular}\n"
      ],
      "text/markdown": [
       "\n",
       "A matrix: 1 × 8 of type dbl\n",
       "\n",
       "| <!--/--> | Min. | 1st Qu. | Median | Mean | 3rd Qu. | Max. | sd | sd_err_of_mean |\n",
       "|---|---|---|---|---|---|---|---|---|\n",
       "| num_SNPs | 0.0009727626 | 0.04765013 | 0.07031566 | 0.09749027 | 0.1076808 | 1.708075 | 0.672 | 0.274 |\n",
       "\n"
      ],
      "text/plain": [
       "         Min.         1st Qu.    Median     Mean       3rd Qu.   Max.     sd   \n",
       "num_SNPs 0.0009727626 0.04765013 0.07031566 0.09749027 0.1076808 1.708075 0.672\n",
       "         sd_err_of_mean\n",
       "num_SNPs 0.274         "
      ]
     },
     "metadata": {},
     "output_type": "display_data"
    }
   ],
   "source": [
    "# SNPs\n",
    "summary_x(feats$num_SNPs)"
   ]
  },
  {
   "cell_type": "code",
   "execution_count": 51,
   "id": "a219c555",
   "metadata": {
    "ExecuteTime": {
     "end_time": "2021-11-01T09:52:29.054850Z",
     "start_time": "2021-11-01T09:52:28.925Z"
    }
   },
   "outputs": [
    {
     "data": {
      "text/html": [
       "<table class=\"dataframe\">\n",
       "<caption>A matrix: 1 × 8 of type dbl</caption>\n",
       "<thead>\n",
       "\t<tr><th></th><th scope=col>Min.</th><th scope=col>1st Qu.</th><th scope=col>Median</th><th scope=col>Mean</th><th scope=col>3rd Qu.</th><th scope=col>Max.</th><th scope=col>sd</th><th scope=col>sd_err_of_mean</th></tr>\n",
       "</thead>\n",
       "<tbody>\n",
       "\t<tr><th scope=row>min_insert_size_Match</th><td>0.5080722</td><td>149.1527</td><td>173.0298</td><td>170.7455</td><td>196.19</td><td>302.634</td><td>97.284</td><td>39.716</td></tr>\n",
       "</tbody>\n",
       "</table>\n"
      ],
      "text/latex": [
       "A matrix: 1 × 8 of type dbl\n",
       "\\begin{tabular}{r|llllllll}\n",
       "  & Min. & 1st Qu. & Median & Mean & 3rd Qu. & Max. & sd & sd\\_err\\_of\\_mean\\\\\n",
       "\\hline\n",
       "\tmin\\_insert\\_size\\_Match & 0.5080722 & 149.1527 & 173.0298 & 170.7455 & 196.19 & 302.634 & 97.284 & 39.716\\\\\n",
       "\\end{tabular}\n"
      ],
      "text/markdown": [
       "\n",
       "A matrix: 1 × 8 of type dbl\n",
       "\n",
       "| <!--/--> | Min. | 1st Qu. | Median | Mean | 3rd Qu. | Max. | sd | sd_err_of_mean |\n",
       "|---|---|---|---|---|---|---|---|---|\n",
       "| min_insert_size_Match | 0.5080722 | 149.1527 | 173.0298 | 170.7455 | 196.19 | 302.634 | 97.284 | 39.716 |\n",
       "\n"
      ],
      "text/plain": [
       "                      Min.      1st Qu.  Median   Mean     3rd Qu. Max.   \n",
       "min_insert_size_Match 0.5080722 149.1527 173.0298 170.7455 196.19  302.634\n",
       "                      sd     sd_err_of_mean\n",
       "min_insert_size_Match 97.284 39.716        "
      ]
     },
     "metadata": {},
     "output_type": "display_data"
    },
    {
     "data": {
      "text/html": [
       "<table class=\"dataframe\">\n",
       "<caption>A matrix: 1 × 8 of type dbl</caption>\n",
       "<thead>\n",
       "\t<tr><th></th><th scope=col>Min.</th><th scope=col>1st Qu.</th><th scope=col>Median</th><th scope=col>Mean</th><th scope=col>3rd Qu.</th><th scope=col>Max.</th><th scope=col>sd</th><th scope=col>sd_err_of_mean</th></tr>\n",
       "</thead>\n",
       "<tbody>\n",
       "\t<tr><th scope=row>mean_insert_size_Match</th><td>110.6031</td><td>233.8193</td><td>246.6985</td><td>244.5454</td><td>257.658</td><td>499.8909</td><td>127.114</td><td>51.894</td></tr>\n",
       "</tbody>\n",
       "</table>\n"
      ],
      "text/latex": [
       "A matrix: 1 × 8 of type dbl\n",
       "\\begin{tabular}{r|llllllll}\n",
       "  & Min. & 1st Qu. & Median & Mean & 3rd Qu. & Max. & sd & sd\\_err\\_of\\_mean\\\\\n",
       "\\hline\n",
       "\tmean\\_insert\\_size\\_Match & 110.6031 & 233.8193 & 246.6985 & 244.5454 & 257.658 & 499.8909 & 127.114 & 51.894\\\\\n",
       "\\end{tabular}\n"
      ],
      "text/markdown": [
       "\n",
       "A matrix: 1 × 8 of type dbl\n",
       "\n",
       "| <!--/--> | Min. | 1st Qu. | Median | Mean | 3rd Qu. | Max. | sd | sd_err_of_mean |\n",
       "|---|---|---|---|---|---|---|---|---|\n",
       "| mean_insert_size_Match | 110.6031 | 233.8193 | 246.6985 | 244.5454 | 257.658 | 499.8909 | 127.114 | 51.894 |\n",
       "\n"
      ],
      "text/plain": [
       "                       Min.     1st Qu.  Median   Mean     3rd Qu. Max.    \n",
       "mean_insert_size_Match 110.6031 233.8193 246.6985 244.5454 257.658 499.8909\n",
       "                       sd      sd_err_of_mean\n",
       "mean_insert_size_Match 127.114 51.894        "
      ]
     },
     "metadata": {},
     "output_type": "display_data"
    }
   ],
   "source": [
    "# insert sizes\n",
    "summary_x(feats$min_insert_size_Match)\n",
    "summary_x(feats$mean_insert_size_Match)"
   ]
  },
  {
   "cell_type": "code",
   "execution_count": 52,
   "id": "b4c1b9b3",
   "metadata": {
    "ExecuteTime": {
     "end_time": "2021-11-01T09:52:29.130219Z",
     "start_time": "2021-11-01T09:52:29.026Z"
    }
   },
   "outputs": [
    {
     "data": {
      "text/html": [
       "<table class=\"dataframe\">\n",
       "<caption>A matrix: 1 × 8 of type dbl</caption>\n",
       "<thead>\n",
       "\t<tr><th></th><th scope=col>Min.</th><th scope=col>1st Qu.</th><th scope=col>Median</th><th scope=col>Mean</th><th scope=col>3rd Qu.</th><th scope=col>Max.</th><th scope=col>sd</th><th scope=col>sd_err_of_mean</th></tr>\n",
       "</thead>\n",
       "<tbody>\n",
       "\t<tr><th scope=row>mean_mapq_Match</th><td>0.8358582</td><td>37.12735</td><td>39.30369</td><td>37.9975</td><td>40.57343</td><td>42</td><td>15.841</td><td>6.467</td></tr>\n",
       "</tbody>\n",
       "</table>\n"
      ],
      "text/latex": [
       "A matrix: 1 × 8 of type dbl\n",
       "\\begin{tabular}{r|llllllll}\n",
       "  & Min. & 1st Qu. & Median & Mean & 3rd Qu. & Max. & sd & sd\\_err\\_of\\_mean\\\\\n",
       "\\hline\n",
       "\tmean\\_mapq\\_Match & 0.8358582 & 37.12735 & 39.30369 & 37.9975 & 40.57343 & 42 & 15.841 & 6.467\\\\\n",
       "\\end{tabular}\n"
      ],
      "text/markdown": [
       "\n",
       "A matrix: 1 × 8 of type dbl\n",
       "\n",
       "| <!--/--> | Min. | 1st Qu. | Median | Mean | 3rd Qu. | Max. | sd | sd_err_of_mean |\n",
       "|---|---|---|---|---|---|---|---|---|\n",
       "| mean_mapq_Match | 0.8358582 | 37.12735 | 39.30369 | 37.9975 | 40.57343 | 42 | 15.841 | 6.467 |\n",
       "\n"
      ],
      "text/plain": [
       "                Min.      1st Qu.  Median   Mean    3rd Qu.  Max. sd    \n",
       "mean_mapq_Match 0.8358582 37.12735 39.30369 37.9975 40.57343 42   15.841\n",
       "                sd_err_of_mean\n",
       "mean_mapq_Match 6.467         "
      ]
     },
     "metadata": {},
     "output_type": "display_data"
    }
   ],
   "source": [
    "# mapq\n",
    "summary_x(feats$mean_mapq_Match)"
   ]
  },
  {
   "cell_type": "code",
   "execution_count": 53,
   "id": "0c9e8778",
   "metadata": {
    "ExecuteTime": {
     "end_time": "2021-11-01T09:52:29.289787Z",
     "start_time": "2021-11-01T09:52:29.160Z"
    }
   },
   "outputs": [
    {
     "data": {
      "text/html": [
       "<table class=\"dataframe\">\n",
       "<caption>A matrix: 1 × 8 of type dbl</caption>\n",
       "<thead>\n",
       "\t<tr><th></th><th scope=col>Min.</th><th scope=col>1st Qu.</th><th scope=col>Median</th><th scope=col>Mean</th><th scope=col>3rd Qu.</th><th scope=col>Max.</th><th scope=col>sd</th><th scope=col>sd_err_of_mean</th></tr>\n",
       "</thead>\n",
       "<tbody>\n",
       "\t<tr><th scope=row>num_proper_Match</th><td>0.2840467</td><td>6.740772</td><td>10.02191</td><td>10.66349</td><td>14.41389</td><td>19.32313</td><td>6.504</td><td>2.655</td></tr>\n",
       "</tbody>\n",
       "</table>\n"
      ],
      "text/latex": [
       "A matrix: 1 × 8 of type dbl\n",
       "\\begin{tabular}{r|llllllll}\n",
       "  & Min. & 1st Qu. & Median & Mean & 3rd Qu. & Max. & sd & sd\\_err\\_of\\_mean\\\\\n",
       "\\hline\n",
       "\tnum\\_proper\\_Match & 0.2840467 & 6.740772 & 10.02191 & 10.66349 & 14.41389 & 19.32313 & 6.504 & 2.655\\\\\n",
       "\\end{tabular}\n"
      ],
      "text/markdown": [
       "\n",
       "A matrix: 1 × 8 of type dbl\n",
       "\n",
       "| <!--/--> | Min. | 1st Qu. | Median | Mean | 3rd Qu. | Max. | sd | sd_err_of_mean |\n",
       "|---|---|---|---|---|---|---|---|---|\n",
       "| num_proper_Match | 0.2840467 | 6.740772 | 10.02191 | 10.66349 | 14.41389 | 19.32313 | 6.504 | 2.655 |\n",
       "\n"
      ],
      "text/plain": [
       "                 Min.      1st Qu.  Median   Mean     3rd Qu.  Max.     sd   \n",
       "num_proper_Match 0.2840467 6.740772 10.02191 10.66349 14.41389 19.32313 6.504\n",
       "                 sd_err_of_mean\n",
       "num_proper_Match 2.655         "
      ]
     },
     "metadata": {},
     "output_type": "display_data"
    },
    {
     "data": {
      "text/html": [
       "<table class=\"dataframe\">\n",
       "<caption>A matrix: 1 × 8 of type dbl</caption>\n",
       "<thead>\n",
       "\t<tr><th></th><th scope=col>Min.</th><th scope=col>1st Qu.</th><th scope=col>Median</th><th scope=col>Mean</th><th scope=col>3rd Qu.</th><th scope=col>Max.</th><th scope=col>sd</th><th scope=col>sd_err_of_mean</th></tr>\n",
       "</thead>\n",
       "<tbody>\n",
       "\t<tr><th scope=row>num_proper_SNP</th><td>0.002941176</td><td>0.2904841</td><td>0.4201681</td><td>0.455844</td><td>0.6059822</td><td>2.016236</td><td>0.708</td><td>0.289</td></tr>\n",
       "</tbody>\n",
       "</table>\n"
      ],
      "text/latex": [
       "A matrix: 1 × 8 of type dbl\n",
       "\\begin{tabular}{r|llllllll}\n",
       "  & Min. & 1st Qu. & Median & Mean & 3rd Qu. & Max. & sd & sd\\_err\\_of\\_mean\\\\\n",
       "\\hline\n",
       "\tnum\\_proper\\_SNP & 0.002941176 & 0.2904841 & 0.4201681 & 0.455844 & 0.6059822 & 2.016236 & 0.708 & 0.289\\\\\n",
       "\\end{tabular}\n"
      ],
      "text/markdown": [
       "\n",
       "A matrix: 1 × 8 of type dbl\n",
       "\n",
       "| <!--/--> | Min. | 1st Qu. | Median | Mean | 3rd Qu. | Max. | sd | sd_err_of_mean |\n",
       "|---|---|---|---|---|---|---|---|---|\n",
       "| num_proper_SNP | 0.002941176 | 0.2904841 | 0.4201681 | 0.455844 | 0.6059822 | 2.016236 | 0.708 | 0.289 |\n",
       "\n"
      ],
      "text/plain": [
       "               Min.        1st Qu.   Median    Mean     3rd Qu.   Max.    \n",
       "num_proper_SNP 0.002941176 0.2904841 0.4201681 0.455844 0.6059822 2.016236\n",
       "               sd    sd_err_of_mean\n",
       "num_proper_SNP 0.708 0.289         "
      ]
     },
     "metadata": {},
     "output_type": "display_data"
    }
   ],
   "source": [
    "# proper\n",
    "summary_x(feats$num_proper_Match)\n",
    "summary_x(feats$num_proper_SNP)"
   ]
  },
  {
   "cell_type": "code",
   "execution_count": 54,
   "id": "e308efca",
   "metadata": {
    "ExecuteTime": {
     "end_time": "2021-11-01T09:52:29.409302Z",
     "start_time": "2021-11-01T09:52:29.282Z"
    }
   },
   "outputs": [
    {
     "data": {
      "text/html": [
       "<table class=\"dataframe\">\n",
       "<caption>A matrix: 1 × 8 of type dbl</caption>\n",
       "<thead>\n",
       "\t<tr><th></th><th scope=col>Min.</th><th scope=col>1st Qu.</th><th scope=col>Median</th><th scope=col>Mean</th><th scope=col>3rd Qu.</th><th scope=col>Max.</th><th scope=col>sd</th><th scope=col>sd_err_of_mean</th></tr>\n",
       "</thead>\n",
       "<tbody>\n",
       "\t<tr><th scope=row>num_orphans_Match</th><td>0</td><td>0.166568</td><td>0.3798246</td><td>0.4881762</td><td>0.6617354</td><td>15.24863</td><td>6.091</td><td>2.487</td></tr>\n",
       "</tbody>\n",
       "</table>\n"
      ],
      "text/latex": [
       "A matrix: 1 × 8 of type dbl\n",
       "\\begin{tabular}{r|llllllll}\n",
       "  & Min. & 1st Qu. & Median & Mean & 3rd Qu. & Max. & sd & sd\\_err\\_of\\_mean\\\\\n",
       "\\hline\n",
       "\tnum\\_orphans\\_Match & 0 & 0.166568 & 0.3798246 & 0.4881762 & 0.6617354 & 15.24863 & 6.091 & 2.487\\\\\n",
       "\\end{tabular}\n"
      ],
      "text/markdown": [
       "\n",
       "A matrix: 1 × 8 of type dbl\n",
       "\n",
       "| <!--/--> | Min. | 1st Qu. | Median | Mean | 3rd Qu. | Max. | sd | sd_err_of_mean |\n",
       "|---|---|---|---|---|---|---|---|---|\n",
       "| num_orphans_Match | 0 | 0.166568 | 0.3798246 | 0.4881762 | 0.6617354 | 15.24863 | 6.091 | 2.487 |\n",
       "\n"
      ],
      "text/plain": [
       "                  Min. 1st Qu.  Median    Mean      3rd Qu.   Max.     sd   \n",
       "num_orphans_Match 0    0.166568 0.3798246 0.4881762 0.6617354 15.24863 6.091\n",
       "                  sd_err_of_mean\n",
       "num_orphans_Match 2.487         "
      ]
     },
     "metadata": {},
     "output_type": "display_data"
    }
   ],
   "source": [
    "# orphans\n",
    "summary_x(feats$num_orphans_Match)"
   ]
  },
  {
   "cell_type": "code",
   "execution_count": 55,
   "id": "ee57d726",
   "metadata": {
    "ExecuteTime": {
     "end_time": "2021-11-01T09:52:30.237177Z",
     "start_time": "2021-11-01T09:52:30.163Z"
    }
   },
   "outputs": [
    {
     "data": {
      "text/html": [
       "<table class=\"dataframe\">\n",
       "<caption>A matrix: 1 × 8 of type dbl</caption>\n",
       "<thead>\n",
       "\t<tr><th></th><th scope=col>Min.</th><th scope=col>1st Qu.</th><th scope=col>Median</th><th scope=col>Mean</th><th scope=col>3rd Qu.</th><th scope=col>Max.</th><th scope=col>sd</th><th scope=col>sd_err_of_mean</th></tr>\n",
       "</thead>\n",
       "<tbody>\n",
       "\t<tr><th scope=row>num_discordant_Match</th><td>0</td><td>0</td><td>0</td><td>0.1610808</td><td>0.2143954</td><td>9.749534</td><td>3.951</td><td>1.613</td></tr>\n",
       "</tbody>\n",
       "</table>\n"
      ],
      "text/latex": [
       "A matrix: 1 × 8 of type dbl\n",
       "\\begin{tabular}{r|llllllll}\n",
       "  & Min. & 1st Qu. & Median & Mean & 3rd Qu. & Max. & sd & sd\\_err\\_of\\_mean\\\\\n",
       "\\hline\n",
       "\tnum\\_discordant\\_Match & 0 & 0 & 0 & 0.1610808 & 0.2143954 & 9.749534 & 3.951 & 1.613\\\\\n",
       "\\end{tabular}\n"
      ],
      "text/markdown": [
       "\n",
       "A matrix: 1 × 8 of type dbl\n",
       "\n",
       "| <!--/--> | Min. | 1st Qu. | Median | Mean | 3rd Qu. | Max. | sd | sd_err_of_mean |\n",
       "|---|---|---|---|---|---|---|---|---|\n",
       "| num_discordant_Match | 0 | 0 | 0 | 0.1610808 | 0.2143954 | 9.749534 | 3.951 | 1.613 |\n",
       "\n"
      ],
      "text/plain": [
       "                     Min. 1st Qu. Median Mean      3rd Qu.   Max.     sd   \n",
       "num_discordant_Match 0    0       0      0.1610808 0.2143954 9.749534 3.951\n",
       "                     sd_err_of_mean\n",
       "num_discordant_Match 1.613         "
      ]
     },
     "metadata": {},
     "output_type": "display_data"
    }
   ],
   "source": [
    "# discordant\n",
    "summary_x(feats$num_discordant_Match)"
   ]
  },
  {
   "cell_type": "code",
   "execution_count": 56,
   "id": "34820d98",
   "metadata": {
    "ExecuteTime": {
     "end_time": "2021-11-01T09:52:30.391831Z",
     "start_time": "2021-11-01T09:52:30.288Z"
    }
   },
   "outputs": [
    {
     "data": {
      "text/html": [
       "<table class=\"dataframe\">\n",
       "<caption>A matrix: 1 × 8 of type dbl</caption>\n",
       "<thead>\n",
       "\t<tr><th></th><th scope=col>Min.</th><th scope=col>1st Qu.</th><th scope=col>Median</th><th scope=col>Mean</th><th scope=col>3rd Qu.</th><th scope=col>Max.</th><th scope=col>sd</th><th scope=col>sd_err_of_mean</th></tr>\n",
       "</thead>\n",
       "<tbody>\n",
       "\t<tr><th scope=row>seq_window_entropy</th><td>1.17963</td><td>1.467543</td><td>1.501215</td><td>1.4957</td><td>1.530549</td><td>1.805268</td><td>0.199</td><td>0.081</td></tr>\n",
       "</tbody>\n",
       "</table>\n"
      ],
      "text/latex": [
       "A matrix: 1 × 8 of type dbl\n",
       "\\begin{tabular}{r|llllllll}\n",
       "  & Min. & 1st Qu. & Median & Mean & 3rd Qu. & Max. & sd & sd\\_err\\_of\\_mean\\\\\n",
       "\\hline\n",
       "\tseq\\_window\\_entropy & 1.17963 & 1.467543 & 1.501215 & 1.4957 & 1.530549 & 1.805268 & 0.199 & 0.081\\\\\n",
       "\\end{tabular}\n"
      ],
      "text/markdown": [
       "\n",
       "A matrix: 1 × 8 of type dbl\n",
       "\n",
       "| <!--/--> | Min. | 1st Qu. | Median | Mean | 3rd Qu. | Max. | sd | sd_err_of_mean |\n",
       "|---|---|---|---|---|---|---|---|---|\n",
       "| seq_window_entropy | 1.17963 | 1.467543 | 1.501215 | 1.4957 | 1.530549 | 1.805268 | 0.199 | 0.081 |\n",
       "\n"
      ],
      "text/plain": [
       "                   Min.    1st Qu.  Median   Mean   3rd Qu.  Max.     sd   \n",
       "seq_window_entropy 1.17963 1.467543 1.501215 1.4957 1.530549 1.805268 0.199\n",
       "                   sd_err_of_mean\n",
       "seq_window_entropy 0.081         "
      ]
     },
     "metadata": {},
     "output_type": "display_data"
    }
   ],
   "source": [
    "# entropy\n",
    "summary_x(feats$seq_window_entropy)"
   ]
  },
  {
   "cell_type": "code",
   "execution_count": 57,
   "id": "037a30ae",
   "metadata": {
    "ExecuteTime": {
     "end_time": "2021-11-01T09:52:30.565761Z",
     "start_time": "2021-11-01T09:52:30.494Z"
    }
   },
   "outputs": [
    {
     "data": {
      "text/html": [
       "<table class=\"dataframe\">\n",
       "<caption>A matrix: 1 × 8 of type dbl</caption>\n",
       "<thead>\n",
       "\t<tr><th></th><th scope=col>Min.</th><th scope=col>1st Qu.</th><th scope=col>Median</th><th scope=col>Mean</th><th scope=col>3rd Qu.</th><th scope=col>Max.</th><th scope=col>sd</th><th scope=col>sd_err_of_mean</th></tr>\n",
       "</thead>\n",
       "<tbody>\n",
       "\t<tr><th scope=row>seq_window_perc_gc</th><td>0.1742319</td><td>0.3568939</td><td>0.4166616</td><td>0.4602801</td><td>0.5695761</td><td>0.8296931</td><td>0.22</td><td>0.09</td></tr>\n",
       "</tbody>\n",
       "</table>\n"
      ],
      "text/latex": [
       "A matrix: 1 × 8 of type dbl\n",
       "\\begin{tabular}{r|llllllll}\n",
       "  & Min. & 1st Qu. & Median & Mean & 3rd Qu. & Max. & sd & sd\\_err\\_of\\_mean\\\\\n",
       "\\hline\n",
       "\tseq\\_window\\_perc\\_gc & 0.1742319 & 0.3568939 & 0.4166616 & 0.4602801 & 0.5695761 & 0.8296931 & 0.22 & 0.09\\\\\n",
       "\\end{tabular}\n"
      ],
      "text/markdown": [
       "\n",
       "A matrix: 1 × 8 of type dbl\n",
       "\n",
       "| <!--/--> | Min. | 1st Qu. | Median | Mean | 3rd Qu. | Max. | sd | sd_err_of_mean |\n",
       "|---|---|---|---|---|---|---|---|---|\n",
       "| seq_window_perc_gc | 0.1742319 | 0.3568939 | 0.4166616 | 0.4602801 | 0.5695761 | 0.8296931 | 0.22 | 0.09 |\n",
       "\n"
      ],
      "text/plain": [
       "                   Min.      1st Qu.   Median    Mean      3rd Qu.   Max.     \n",
       "seq_window_perc_gc 0.1742319 0.3568939 0.4166616 0.4602801 0.5695761 0.8296931\n",
       "                   sd   sd_err_of_mean\n",
       "seq_window_perc_gc 0.22 0.09          "
      ]
     },
     "metadata": {},
     "output_type": "display_data"
    }
   ],
   "source": [
    "# GC\n",
    "summary_x(feats$seq_window_perc_gc)"
   ]
  },
  {
   "cell_type": "code",
   "execution_count": 58,
   "id": "25ddda72",
   "metadata": {
    "ExecuteTime": {
     "end_time": "2021-11-01T09:52:31.675975Z",
     "start_time": "2021-11-01T09:52:31.618Z"
    }
   },
   "outputs": [
    {
     "data": {
      "text/plain": [
       "\n",
       "     0      1 \n",
       "317810   5586 "
      ]
     },
     "metadata": {},
     "output_type": "display_data"
    }
   ],
   "source": [
    "# misassemblies\n",
    "table(feats$Extensive_misassembly)"
   ]
  },
  {
   "cell_type": "code",
   "execution_count": null,
   "id": "9425cf4f",
   "metadata": {},
   "outputs": [],
   "source": [
    "send_email('http://127.0.0.1:9704/notebooks/deepmased/notebooks/06_version2/01_simulation_datasets/04_CAMI/03_CAMI2_HMP-skin.ipynb')"
   ]
  },
  {
   "cell_type": "markdown",
   "id": "07c33b8d",
   "metadata": {},
   "source": [
    "### metaMIC"
   ]
  },
  {
   "cell_type": "markdown",
   "id": "0c24d7e4",
   "metadata": {},
   "source": [
    "#### True misassemblies"
   ]
  },
  {
   "cell_type": "code",
   "execution_count": 33,
   "id": "c6f39fa1",
   "metadata": {
    "ExecuteTime": {
     "end_time": "2021-11-01T07:37:32.849762Z",
     "start_time": "2021-11-01T07:37:32.777Z"
    }
   },
   "outputs": [
    {
     "data": {
      "text/html": [
       "20"
      ],
      "text/latex": [
       "20"
      ],
      "text/markdown": [
       "20"
      ],
      "text/plain": [
       "[1] 20"
      ]
     },
     "metadata": {},
     "output_type": "display_data"
    },
    {
     "data": {
      "text/html": [
       "<style>\n",
       ".list-inline {list-style: none; margin:0; padding: 0}\n",
       ".list-inline>li {display: inline-block}\n",
       ".list-inline>li:not(:last-child)::after {content: \"\\00b7\"; padding: 0 .5ex}\n",
       "</style>\n",
       "<ol class=list-inline><li>'/ebio/abt3_projects/databases_no-backup/CAMI/CAMI2_HMP-skin/short_read//ResMiCo-SM/features/2017.12.04_18.56.22_sample_1/NA/NA/NA/NA/megahit/features.tsv.gz'</li><li>'/ebio/abt3_projects/databases_no-backup/CAMI/CAMI2_HMP-skin/short_read//ResMiCo-SM/features/2017.12.04_18.56.22_sample_1/NA/NA/NA/NA/metaspades/features.tsv.gz'</li><li>'/ebio/abt3_projects/databases_no-backup/CAMI/CAMI2_HMP-skin/short_read//ResMiCo-SM/features/2017.12.04_18.56.22_sample_13/NA/NA/NA/NA/megahit/features.tsv.gz'</li></ol>\n"
      ],
      "text/latex": [
       "\\begin{enumerate*}\n",
       "\\item '/ebio/abt3\\_projects/databases\\_no-backup/CAMI/CAMI2\\_HMP-skin/short\\_read//ResMiCo-SM/features/2017.12.04\\_18.56.22\\_sample\\_1/NA/NA/NA/NA/megahit/features.tsv.gz'\n",
       "\\item '/ebio/abt3\\_projects/databases\\_no-backup/CAMI/CAMI2\\_HMP-skin/short\\_read//ResMiCo-SM/features/2017.12.04\\_18.56.22\\_sample\\_1/NA/NA/NA/NA/metaspades/features.tsv.gz'\n",
       "\\item '/ebio/abt3\\_projects/databases\\_no-backup/CAMI/CAMI2\\_HMP-skin/short\\_read//ResMiCo-SM/features/2017.12.04\\_18.56.22\\_sample\\_13/NA/NA/NA/NA/megahit/features.tsv.gz'\n",
       "\\end{enumerate*}\n"
      ],
      "text/markdown": [
       "1. '/ebio/abt3_projects/databases_no-backup/CAMI/CAMI2_HMP-skin/short_read//ResMiCo-SM/features/2017.12.04_18.56.22_sample_1/NA/NA/NA/NA/megahit/features.tsv.gz'\n",
       "2. '/ebio/abt3_projects/databases_no-backup/CAMI/CAMI2_HMP-skin/short_read//ResMiCo-SM/features/2017.12.04_18.56.22_sample_1/NA/NA/NA/NA/metaspades/features.tsv.gz'\n",
       "3. '/ebio/abt3_projects/databases_no-backup/CAMI/CAMI2_HMP-skin/short_read//ResMiCo-SM/features/2017.12.04_18.56.22_sample_13/NA/NA/NA/NA/megahit/features.tsv.gz'\n",
       "\n",
       "\n"
      ],
      "text/plain": [
       "[1] \"/ebio/abt3_projects/databases_no-backup/CAMI/CAMI2_HMP-skin/short_read//ResMiCo-SM/features/2017.12.04_18.56.22_sample_1/NA/NA/NA/NA/megahit/features.tsv.gz\"   \n",
       "[2] \"/ebio/abt3_projects/databases_no-backup/CAMI/CAMI2_HMP-skin/short_read//ResMiCo-SM/features/2017.12.04_18.56.22_sample_1/NA/NA/NA/NA/metaspades/features.tsv.gz\"\n",
       "[3] \"/ebio/abt3_projects/databases_no-backup/CAMI/CAMI2_HMP-skin/short_read//ResMiCo-SM/features/2017.12.04_18.56.22_sample_13/NA/NA/NA/NA/megahit/features.tsv.gz\"  "
      ]
     },
     "metadata": {},
     "output_type": "display_data"
    }
   ],
   "source": [
    "# listing files\n",
    "P = file.path(work_dir, 'ResMiCo-SM', 'features')\n",
    "feat_files = list_files(P, 'features.tsv.gz')\n",
    "feat_files %>% length\n",
    "feat_files %>% head(n=3)"
   ]
  },
  {
   "cell_type": "code",
   "execution_count": 34,
   "id": "2889c6dd",
   "metadata": {
    "ExecuteTime": {
     "end_time": "2021-11-01T07:46:11.101416Z",
     "start_time": "2021-11-01T07:37:37.264Z"
    }
   },
   "outputs": [
    {
     "data": {
      "text/html": [
       "<table class=\"dataframe\">\n",
       "<caption>A data.table: 323396 × 4</caption>\n",
       "<thead>\n",
       "\t<tr><th scope=col>assembler</th><th scope=col>contig</th><th scope=col>Extensive_misassembly</th><th scope=col>sample</th></tr>\n",
       "\t<tr><th scope=col>&lt;chr&gt;</th><th scope=col>&lt;chr&gt;</th><th scope=col>&lt;int&gt;</th><th scope=col>&lt;chr&gt;</th></tr>\n",
       "</thead>\n",
       "<tbody>\n",
       "\t<tr><td>megahit</td><td>k141_84434 </td><td>0</td><td>2017.12.04_18.56.22_sample_1</td></tr>\n",
       "\t<tr><td>megahit</td><td>k141_37    </td><td>0</td><td>2017.12.04_18.56.22_sample_1</td></tr>\n",
       "\t<tr><td>megahit</td><td>k141_117456</td><td>0</td><td>2017.12.04_18.56.22_sample_1</td></tr>\n",
       "\t<tr><td>megahit</td><td>k141_33593 </td><td>0</td><td>2017.12.04_18.56.22_sample_1</td></tr>\n",
       "\t<tr><td>megahit</td><td>k141_67185 </td><td>0</td><td>2017.12.04_18.56.22_sample_1</td></tr>\n",
       "\t<tr><td>megahit</td><td>k141_100725</td><td>0</td><td>2017.12.04_18.56.22_sample_1</td></tr>\n",
       "\t<tr><td>megahit</td><td>k141_16828 </td><td>0</td><td>2017.12.04_18.56.22_sample_1</td></tr>\n",
       "\t<tr><td>megahit</td><td>k141_50499 </td><td>0</td><td>2017.12.04_18.56.22_sample_1</td></tr>\n",
       "\t<tr><td>⋮</td><td>⋮</td><td>⋮</td><td>⋮</td></tr>\n",
       "\t<tr><td>metaspades</td><td>NODE_211_length_36415_cov_15.075440 </td><td>0</td><td>2017.12.04_18.56.22_sample_28</td></tr>\n",
       "\t<tr><td>metaspades</td><td>NODE_212_length_36170_cov_14.977987 </td><td>0</td><td>2017.12.04_18.56.22_sample_28</td></tr>\n",
       "\t<tr><td>metaspades</td><td>NODE_213_length_36093_cov_14.558855 </td><td>0</td><td>2017.12.04_18.56.22_sample_28</td></tr>\n",
       "\t<tr><td>metaspades</td><td>NODE_214_length_36072_cov_31.360080 </td><td>0</td><td>2017.12.04_18.56.22_sample_28</td></tr>\n",
       "\t<tr><td>metaspades</td><td>NODE_215_length_36033_cov_15.035327 </td><td>0</td><td>2017.12.04_18.56.22_sample_28</td></tr>\n",
       "\t<tr><td>metaspades</td><td>NODE_216_length_35691_cov_15.302503 </td><td>0</td><td>2017.12.04_18.56.22_sample_28</td></tr>\n",
       "\t<tr><td>metaspades</td><td>NODE_217_length_35483_cov_221.190330</td><td>0</td><td>2017.12.04_18.56.22_sample_28</td></tr>\n",
       "</tbody>\n",
       "</table>\n"
      ],
      "text/latex": [
       "A data.table: 323396 × 4\n",
       "\\begin{tabular}{llll}\n",
       " assembler & contig & Extensive\\_misassembly & sample\\\\\n",
       " <chr> & <chr> & <int> & <chr>\\\\\n",
       "\\hline\n",
       "\t megahit & k141\\_84434  & 0 & 2017.12.04\\_18.56.22\\_sample\\_1\\\\\n",
       "\t megahit & k141\\_37     & 0 & 2017.12.04\\_18.56.22\\_sample\\_1\\\\\n",
       "\t megahit & k141\\_117456 & 0 & 2017.12.04\\_18.56.22\\_sample\\_1\\\\\n",
       "\t megahit & k141\\_33593  & 0 & 2017.12.04\\_18.56.22\\_sample\\_1\\\\\n",
       "\t megahit & k141\\_67185  & 0 & 2017.12.04\\_18.56.22\\_sample\\_1\\\\\n",
       "\t megahit & k141\\_100725 & 0 & 2017.12.04\\_18.56.22\\_sample\\_1\\\\\n",
       "\t megahit & k141\\_16828  & 0 & 2017.12.04\\_18.56.22\\_sample\\_1\\\\\n",
       "\t megahit & k141\\_50499  & 0 & 2017.12.04\\_18.56.22\\_sample\\_1\\\\\n",
       "\t ⋮ & ⋮ & ⋮ & ⋮\\\\\n",
       "\t metaspades & NODE\\_211\\_length\\_36415\\_cov\\_15.075440  & 0 & 2017.12.04\\_18.56.22\\_sample\\_28\\\\\n",
       "\t metaspades & NODE\\_212\\_length\\_36170\\_cov\\_14.977987  & 0 & 2017.12.04\\_18.56.22\\_sample\\_28\\\\\n",
       "\t metaspades & NODE\\_213\\_length\\_36093\\_cov\\_14.558855  & 0 & 2017.12.04\\_18.56.22\\_sample\\_28\\\\\n",
       "\t metaspades & NODE\\_214\\_length\\_36072\\_cov\\_31.360080  & 0 & 2017.12.04\\_18.56.22\\_sample\\_28\\\\\n",
       "\t metaspades & NODE\\_215\\_length\\_36033\\_cov\\_15.035327  & 0 & 2017.12.04\\_18.56.22\\_sample\\_28\\\\\n",
       "\t metaspades & NODE\\_216\\_length\\_35691\\_cov\\_15.302503  & 0 & 2017.12.04\\_18.56.22\\_sample\\_28\\\\\n",
       "\t metaspades & NODE\\_217\\_length\\_35483\\_cov\\_221.190330 & 0 & 2017.12.04\\_18.56.22\\_sample\\_28\\\\\n",
       "\\end{tabular}\n"
      ],
      "text/markdown": [
       "\n",
       "A data.table: 323396 × 4\n",
       "\n",
       "| assembler &lt;chr&gt; | contig &lt;chr&gt; | Extensive_misassembly &lt;int&gt; | sample &lt;chr&gt; |\n",
       "|---|---|---|---|\n",
       "| megahit | k141_84434  | 0 | 2017.12.04_18.56.22_sample_1 |\n",
       "| megahit | k141_37     | 0 | 2017.12.04_18.56.22_sample_1 |\n",
       "| megahit | k141_117456 | 0 | 2017.12.04_18.56.22_sample_1 |\n",
       "| megahit | k141_33593  | 0 | 2017.12.04_18.56.22_sample_1 |\n",
       "| megahit | k141_67185  | 0 | 2017.12.04_18.56.22_sample_1 |\n",
       "| megahit | k141_100725 | 0 | 2017.12.04_18.56.22_sample_1 |\n",
       "| megahit | k141_16828  | 0 | 2017.12.04_18.56.22_sample_1 |\n",
       "| megahit | k141_50499  | 0 | 2017.12.04_18.56.22_sample_1 |\n",
       "| ⋮ | ⋮ | ⋮ | ⋮ |\n",
       "| metaspades | NODE_211_length_36415_cov_15.075440  | 0 | 2017.12.04_18.56.22_sample_28 |\n",
       "| metaspades | NODE_212_length_36170_cov_14.977987  | 0 | 2017.12.04_18.56.22_sample_28 |\n",
       "| metaspades | NODE_213_length_36093_cov_14.558855  | 0 | 2017.12.04_18.56.22_sample_28 |\n",
       "| metaspades | NODE_214_length_36072_cov_31.360080  | 0 | 2017.12.04_18.56.22_sample_28 |\n",
       "| metaspades | NODE_215_length_36033_cov_15.035327  | 0 | 2017.12.04_18.56.22_sample_28 |\n",
       "| metaspades | NODE_216_length_35691_cov_15.302503  | 0 | 2017.12.04_18.56.22_sample_28 |\n",
       "| metaspades | NODE_217_length_35483_cov_221.190330 | 0 | 2017.12.04_18.56.22_sample_28 |\n",
       "\n"
      ],
      "text/plain": [
       "       assembler  contig                               Extensive_misassembly\n",
       "1      megahit    k141_84434                           0                    \n",
       "2      megahit    k141_37                              0                    \n",
       "3      megahit    k141_117456                          0                    \n",
       "4      megahit    k141_33593                           0                    \n",
       "5      megahit    k141_67185                           0                    \n",
       "6      megahit    k141_100725                          0                    \n",
       "7      megahit    k141_16828                           0                    \n",
       "8      megahit    k141_50499                           0                    \n",
       "⋮      ⋮          ⋮                                    ⋮                    \n",
       "323390 metaspades NODE_211_length_36415_cov_15.075440  0                    \n",
       "323391 metaspades NODE_212_length_36170_cov_14.977987  0                    \n",
       "323392 metaspades NODE_213_length_36093_cov_14.558855  0                    \n",
       "323393 metaspades NODE_214_length_36072_cov_31.360080  0                    \n",
       "323394 metaspades NODE_215_length_36033_cov_15.035327  0                    \n",
       "323395 metaspades NODE_216_length_35691_cov_15.302503  0                    \n",
       "323396 metaspades NODE_217_length_35483_cov_221.190330 0                    \n",
       "       sample                       \n",
       "1      2017.12.04_18.56.22_sample_1 \n",
       "2      2017.12.04_18.56.22_sample_1 \n",
       "3      2017.12.04_18.56.22_sample_1 \n",
       "4      2017.12.04_18.56.22_sample_1 \n",
       "5      2017.12.04_18.56.22_sample_1 \n",
       "6      2017.12.04_18.56.22_sample_1 \n",
       "7      2017.12.04_18.56.22_sample_1 \n",
       "8      2017.12.04_18.56.22_sample_1 \n",
       "⋮      ⋮                            \n",
       "323390 2017.12.04_18.56.22_sample_28\n",
       "323391 2017.12.04_18.56.22_sample_28\n",
       "323392 2017.12.04_18.56.22_sample_28\n",
       "323393 2017.12.04_18.56.22_sample_28\n",
       "323394 2017.12.04_18.56.22_sample_28\n",
       "323395 2017.12.04_18.56.22_sample_28\n",
       "323396 2017.12.04_18.56.22_sample_28"
      ]
     },
     "metadata": {},
     "output_type": "display_data"
    }
   ],
   "source": [
    "# reading\n",
    "read_feat_mis = function(F){\n",
    "    df = Fread(F) %>%\n",
    "        select.(assembler, contig, Extensive_misassembly) %>%\n",
    "        summarize.(Extensive_misassembly = first(Extensive_misassembly),\n",
    "                   .by=c(assembler, contig))\n",
    "    x = unlist(strsplit(F, '/'))\n",
    "    df$sample = x[length(x)-6]\n",
    "    return(df)\n",
    "}\n",
    "doParallel::registerDoParallel(6)\n",
    "true_mis = feat_files %>%\n",
    "    plyr::llply(read_feat_mis, .parallel=TRUE) %>%\n",
    "    rbindlist(use.names=TRUE) \n",
    "true_mis"
   ]
  },
  {
   "cell_type": "markdown",
   "id": "a0094408",
   "metadata": {},
   "source": [
    "#### metaMIC contig scores\n",
    "\n",
    "misassembly classification cutoff:\n",
    "\n",
    "* MEGAHIT = 0.8\n",
    "* IDBA_UD = 0.5\n",
    "* other assemblers = `quantile(metaMIC_contig_score, 0.95))`"
   ]
  },
  {
   "cell_type": "code",
   "execution_count": 35,
   "id": "c1516c68",
   "metadata": {
    "ExecuteTime": {
     "end_time": "2021-11-01T07:46:11.190063Z",
     "start_time": "2021-11-01T07:38:01.232Z"
    }
   },
   "outputs": [
    {
     "data": {
      "text/html": [
       "20"
      ],
      "text/latex": [
       "20"
      ],
      "text/markdown": [
       "20"
      ],
      "text/plain": [
       "[1] 20"
      ]
     },
     "metadata": {},
     "output_type": "display_data"
    },
    {
     "data": {
      "text/html": [
       "<style>\n",
       ".list-inline {list-style: none; margin:0; padding: 0}\n",
       ".list-inline>li {display: inline-block}\n",
       ".list-inline>li:not(:last-child)::after {content: \"\\00b7\"; padding: 0 .5ex}\n",
       "</style>\n",
       "<ol class=list-inline><li>'/ebio/abt3_projects/databases_no-backup/CAMI/CAMI2_HMP-skin/short_read//ResMiCo-SM/metaMIC/2017.12.04_18.56.22_sample_1/NA/NA/NA/NA/megahit/metaMIC/metaMIC_contig_score.txt.gz'</li><li>'/ebio/abt3_projects/databases_no-backup/CAMI/CAMI2_HMP-skin/short_read//ResMiCo-SM/metaMIC/2017.12.04_18.56.22_sample_1/NA/NA/NA/NA/metaspades/metaMIC/metaMIC_contig_score.txt.gz'</li><li>'/ebio/abt3_projects/databases_no-backup/CAMI/CAMI2_HMP-skin/short_read//ResMiCo-SM/metaMIC/2017.12.04_18.56.22_sample_13/NA/NA/NA/NA/megahit/metaMIC/metaMIC_contig_score.txt.gz'</li></ol>\n"
      ],
      "text/latex": [
       "\\begin{enumerate*}\n",
       "\\item '/ebio/abt3\\_projects/databases\\_no-backup/CAMI/CAMI2\\_HMP-skin/short\\_read//ResMiCo-SM/metaMIC/2017.12.04\\_18.56.22\\_sample\\_1/NA/NA/NA/NA/megahit/metaMIC/metaMIC\\_contig\\_score.txt.gz'\n",
       "\\item '/ebio/abt3\\_projects/databases\\_no-backup/CAMI/CAMI2\\_HMP-skin/short\\_read//ResMiCo-SM/metaMIC/2017.12.04\\_18.56.22\\_sample\\_1/NA/NA/NA/NA/metaspades/metaMIC/metaMIC\\_contig\\_score.txt.gz'\n",
       "\\item '/ebio/abt3\\_projects/databases\\_no-backup/CAMI/CAMI2\\_HMP-skin/short\\_read//ResMiCo-SM/metaMIC/2017.12.04\\_18.56.22\\_sample\\_13/NA/NA/NA/NA/megahit/metaMIC/metaMIC\\_contig\\_score.txt.gz'\n",
       "\\end{enumerate*}\n"
      ],
      "text/markdown": [
       "1. '/ebio/abt3_projects/databases_no-backup/CAMI/CAMI2_HMP-skin/short_read//ResMiCo-SM/metaMIC/2017.12.04_18.56.22_sample_1/NA/NA/NA/NA/megahit/metaMIC/metaMIC_contig_score.txt.gz'\n",
       "2. '/ebio/abt3_projects/databases_no-backup/CAMI/CAMI2_HMP-skin/short_read//ResMiCo-SM/metaMIC/2017.12.04_18.56.22_sample_1/NA/NA/NA/NA/metaspades/metaMIC/metaMIC_contig_score.txt.gz'\n",
       "3. '/ebio/abt3_projects/databases_no-backup/CAMI/CAMI2_HMP-skin/short_read//ResMiCo-SM/metaMIC/2017.12.04_18.56.22_sample_13/NA/NA/NA/NA/megahit/metaMIC/metaMIC_contig_score.txt.gz'\n",
       "\n",
       "\n"
      ],
      "text/plain": [
       "[1] \"/ebio/abt3_projects/databases_no-backup/CAMI/CAMI2_HMP-skin/short_read//ResMiCo-SM/metaMIC/2017.12.04_18.56.22_sample_1/NA/NA/NA/NA/megahit/metaMIC/metaMIC_contig_score.txt.gz\"   \n",
       "[2] \"/ebio/abt3_projects/databases_no-backup/CAMI/CAMI2_HMP-skin/short_read//ResMiCo-SM/metaMIC/2017.12.04_18.56.22_sample_1/NA/NA/NA/NA/metaspades/metaMIC/metaMIC_contig_score.txt.gz\"\n",
       "[3] \"/ebio/abt3_projects/databases_no-backup/CAMI/CAMI2_HMP-skin/short_read//ResMiCo-SM/metaMIC/2017.12.04_18.56.22_sample_13/NA/NA/NA/NA/megahit/metaMIC/metaMIC_contig_score.txt.gz\"  "
      ]
     },
     "metadata": {},
     "output_type": "display_data"
    }
   ],
   "source": [
    "# listing files\n",
    "P = file.path(work_dir, 'ResMiCo-SM', 'metaMIC')\n",
    "files = list_files(P, 'metaMIC_contig_score.txt.gz')\n",
    "files %>% length\n",
    "files %>% head(n=3)"
   ]
  },
  {
   "cell_type": "code",
   "execution_count": 36,
   "id": "e796f6df",
   "metadata": {
    "ExecuteTime": {
     "end_time": "2021-11-01T07:46:13.798237Z",
     "start_time": "2021-11-01T07:38:06.781Z"
    }
   },
   "outputs": [
    {
     "data": {
      "text/html": [
       "<table class=\"dataframe\">\n",
       "<caption>A data.table: 283605 × 5</caption>\n",
       "<thead>\n",
       "\t<tr><th scope=col>contig</th><th scope=col>metaMIC_contig_score</th><th scope=col>length</th><th scope=col>sample</th><th scope=col>assembler</th></tr>\n",
       "\t<tr><th scope=col>&lt;chr&gt;</th><th scope=col>&lt;dbl&gt;</th><th scope=col>&lt;dbl&gt;</th><th scope=col>&lt;chr&gt;</th><th scope=col>&lt;chr&gt;</th></tr>\n",
       "</thead>\n",
       "<tbody>\n",
       "\t<tr><td>k141_100009</td><td>0.46805</td><td>1256</td><td>2017.12.04_18.56.22_sample_1</td><td>megahit</td></tr>\n",
       "\t<tr><td>k141_100017</td><td>0.55765</td><td>1168</td><td>2017.12.04_18.56.22_sample_1</td><td>megahit</td></tr>\n",
       "\t<tr><td>k141_100052</td><td>0.26655</td><td>1998</td><td>2017.12.04_18.56.22_sample_1</td><td>megahit</td></tr>\n",
       "\t<tr><td>k141_100058</td><td>0.29765</td><td>1165</td><td>2017.12.04_18.56.22_sample_1</td><td>megahit</td></tr>\n",
       "\t<tr><td>k141_10006 </td><td>0.32210</td><td>1419</td><td>2017.12.04_18.56.22_sample_1</td><td>megahit</td></tr>\n",
       "\t<tr><td>k141_100060</td><td>0.16005</td><td>1486</td><td>2017.12.04_18.56.22_sample_1</td><td>megahit</td></tr>\n",
       "\t<tr><td>k141_100062</td><td>0.17990</td><td>1645</td><td>2017.12.04_18.56.22_sample_1</td><td>megahit</td></tr>\n",
       "\t<tr><td>k141_100073</td><td>0.23105</td><td>1051</td><td>2017.12.04_18.56.22_sample_1</td><td>megahit</td></tr>\n",
       "\t<tr><td>⋮</td><td>⋮</td><td>⋮</td><td>⋮</td><td>⋮</td></tr>\n",
       "\t<tr><td>NODE_995_length_4093_cov_17.431154</td><td>0.28730</td><td>  4093</td><td>2017.12.04_18.56.22_sample_28</td><td>metaspades</td></tr>\n",
       "\t<tr><td>NODE_996_length_4068_cov_31.965113</td><td>0.35605</td><td>  4068</td><td>2017.12.04_18.56.22_sample_28</td><td>metaspades</td></tr>\n",
       "\t<tr><td>NODE_997_length_4043_cov_14.869860</td><td>0.27265</td><td>  4043</td><td>2017.12.04_18.56.22_sample_28</td><td>metaspades</td></tr>\n",
       "\t<tr><td>NODE_998_length_4037_cov_15.266951</td><td>0.41885</td><td>  4037</td><td>2017.12.04_18.56.22_sample_28</td><td>metaspades</td></tr>\n",
       "\t<tr><td>NODE_999_length_4017_cov_21.752145</td><td>0.38730</td><td>  4017</td><td>2017.12.04_18.56.22_sample_28</td><td>metaspades</td></tr>\n",
       "\t<tr><td>NODE_99_length_69847_cov_19.401823</td><td>0.25460</td><td> 69847</td><td>2017.12.04_18.56.22_sample_28</td><td>metaspades</td></tr>\n",
       "\t<tr><td>NODE_9_length_420708_cov_15.034273</td><td>0.35780</td><td>420708</td><td>2017.12.04_18.56.22_sample_28</td><td>metaspades</td></tr>\n",
       "</tbody>\n",
       "</table>\n"
      ],
      "text/latex": [
       "A data.table: 283605 × 5\n",
       "\\begin{tabular}{lllll}\n",
       " contig & metaMIC\\_contig\\_score & length & sample & assembler\\\\\n",
       " <chr> & <dbl> & <dbl> & <chr> & <chr>\\\\\n",
       "\\hline\n",
       "\t k141\\_100009 & 0.46805 & 1256 & 2017.12.04\\_18.56.22\\_sample\\_1 & megahit\\\\\n",
       "\t k141\\_100017 & 0.55765 & 1168 & 2017.12.04\\_18.56.22\\_sample\\_1 & megahit\\\\\n",
       "\t k141\\_100052 & 0.26655 & 1998 & 2017.12.04\\_18.56.22\\_sample\\_1 & megahit\\\\\n",
       "\t k141\\_100058 & 0.29765 & 1165 & 2017.12.04\\_18.56.22\\_sample\\_1 & megahit\\\\\n",
       "\t k141\\_10006  & 0.32210 & 1419 & 2017.12.04\\_18.56.22\\_sample\\_1 & megahit\\\\\n",
       "\t k141\\_100060 & 0.16005 & 1486 & 2017.12.04\\_18.56.22\\_sample\\_1 & megahit\\\\\n",
       "\t k141\\_100062 & 0.17990 & 1645 & 2017.12.04\\_18.56.22\\_sample\\_1 & megahit\\\\\n",
       "\t k141\\_100073 & 0.23105 & 1051 & 2017.12.04\\_18.56.22\\_sample\\_1 & megahit\\\\\n",
       "\t ⋮ & ⋮ & ⋮ & ⋮ & ⋮\\\\\n",
       "\t NODE\\_995\\_length\\_4093\\_cov\\_17.431154 & 0.28730 &   4093 & 2017.12.04\\_18.56.22\\_sample\\_28 & metaspades\\\\\n",
       "\t NODE\\_996\\_length\\_4068\\_cov\\_31.965113 & 0.35605 &   4068 & 2017.12.04\\_18.56.22\\_sample\\_28 & metaspades\\\\\n",
       "\t NODE\\_997\\_length\\_4043\\_cov\\_14.869860 & 0.27265 &   4043 & 2017.12.04\\_18.56.22\\_sample\\_28 & metaspades\\\\\n",
       "\t NODE\\_998\\_length\\_4037\\_cov\\_15.266951 & 0.41885 &   4037 & 2017.12.04\\_18.56.22\\_sample\\_28 & metaspades\\\\\n",
       "\t NODE\\_999\\_length\\_4017\\_cov\\_21.752145 & 0.38730 &   4017 & 2017.12.04\\_18.56.22\\_sample\\_28 & metaspades\\\\\n",
       "\t NODE\\_99\\_length\\_69847\\_cov\\_19.401823 & 0.25460 &  69847 & 2017.12.04\\_18.56.22\\_sample\\_28 & metaspades\\\\\n",
       "\t NODE\\_9\\_length\\_420708\\_cov\\_15.034273 & 0.35780 & 420708 & 2017.12.04\\_18.56.22\\_sample\\_28 & metaspades\\\\\n",
       "\\end{tabular}\n"
      ],
      "text/markdown": [
       "\n",
       "A data.table: 283605 × 5\n",
       "\n",
       "| contig &lt;chr&gt; | metaMIC_contig_score &lt;dbl&gt; | length &lt;dbl&gt; | sample &lt;chr&gt; | assembler &lt;chr&gt; |\n",
       "|---|---|---|---|---|\n",
       "| k141_100009 | 0.46805 | 1256 | 2017.12.04_18.56.22_sample_1 | megahit |\n",
       "| k141_100017 | 0.55765 | 1168 | 2017.12.04_18.56.22_sample_1 | megahit |\n",
       "| k141_100052 | 0.26655 | 1998 | 2017.12.04_18.56.22_sample_1 | megahit |\n",
       "| k141_100058 | 0.29765 | 1165 | 2017.12.04_18.56.22_sample_1 | megahit |\n",
       "| k141_10006  | 0.32210 | 1419 | 2017.12.04_18.56.22_sample_1 | megahit |\n",
       "| k141_100060 | 0.16005 | 1486 | 2017.12.04_18.56.22_sample_1 | megahit |\n",
       "| k141_100062 | 0.17990 | 1645 | 2017.12.04_18.56.22_sample_1 | megahit |\n",
       "| k141_100073 | 0.23105 | 1051 | 2017.12.04_18.56.22_sample_1 | megahit |\n",
       "| ⋮ | ⋮ | ⋮ | ⋮ | ⋮ |\n",
       "| NODE_995_length_4093_cov_17.431154 | 0.28730 |   4093 | 2017.12.04_18.56.22_sample_28 | metaspades |\n",
       "| NODE_996_length_4068_cov_31.965113 | 0.35605 |   4068 | 2017.12.04_18.56.22_sample_28 | metaspades |\n",
       "| NODE_997_length_4043_cov_14.869860 | 0.27265 |   4043 | 2017.12.04_18.56.22_sample_28 | metaspades |\n",
       "| NODE_998_length_4037_cov_15.266951 | 0.41885 |   4037 | 2017.12.04_18.56.22_sample_28 | metaspades |\n",
       "| NODE_999_length_4017_cov_21.752145 | 0.38730 |   4017 | 2017.12.04_18.56.22_sample_28 | metaspades |\n",
       "| NODE_99_length_69847_cov_19.401823 | 0.25460 |  69847 | 2017.12.04_18.56.22_sample_28 | metaspades |\n",
       "| NODE_9_length_420708_cov_15.034273 | 0.35780 | 420708 | 2017.12.04_18.56.22_sample_28 | metaspades |\n",
       "\n"
      ],
      "text/plain": [
       "       contig                             metaMIC_contig_score length\n",
       "1      k141_100009                        0.46805              1256  \n",
       "2      k141_100017                        0.55765              1168  \n",
       "3      k141_100052                        0.26655              1998  \n",
       "4      k141_100058                        0.29765              1165  \n",
       "5      k141_10006                         0.32210              1419  \n",
       "6      k141_100060                        0.16005              1486  \n",
       "7      k141_100062                        0.17990              1645  \n",
       "8      k141_100073                        0.23105              1051  \n",
       "⋮      ⋮                                  ⋮                    ⋮     \n",
       "283599 NODE_995_length_4093_cov_17.431154 0.28730                4093\n",
       "283600 NODE_996_length_4068_cov_31.965113 0.35605                4068\n",
       "283601 NODE_997_length_4043_cov_14.869860 0.27265                4043\n",
       "283602 NODE_998_length_4037_cov_15.266951 0.41885                4037\n",
       "283603 NODE_999_length_4017_cov_21.752145 0.38730                4017\n",
       "283604 NODE_99_length_69847_cov_19.401823 0.25460               69847\n",
       "283605 NODE_9_length_420708_cov_15.034273 0.35780              420708\n",
       "       sample                        assembler \n",
       "1      2017.12.04_18.56.22_sample_1  megahit   \n",
       "2      2017.12.04_18.56.22_sample_1  megahit   \n",
       "3      2017.12.04_18.56.22_sample_1  megahit   \n",
       "4      2017.12.04_18.56.22_sample_1  megahit   \n",
       "5      2017.12.04_18.56.22_sample_1  megahit   \n",
       "6      2017.12.04_18.56.22_sample_1  megahit   \n",
       "7      2017.12.04_18.56.22_sample_1  megahit   \n",
       "8      2017.12.04_18.56.22_sample_1  megahit   \n",
       "⋮      ⋮                             ⋮         \n",
       "283599 2017.12.04_18.56.22_sample_28 metaspades\n",
       "283600 2017.12.04_18.56.22_sample_28 metaspades\n",
       "283601 2017.12.04_18.56.22_sample_28 metaspades\n",
       "283602 2017.12.04_18.56.22_sample_28 metaspades\n",
       "283603 2017.12.04_18.56.22_sample_28 metaspades\n",
       "283604 2017.12.04_18.56.22_sample_28 metaspades\n",
       "283605 2017.12.04_18.56.22_sample_28 metaspades"
      ]
     },
     "metadata": {},
     "output_type": "display_data"
    }
   ],
   "source": [
    "# reading\n",
    "read_table = function(F){\n",
    "    df = Fread(F) \n",
    "    x = unlist(strsplit(F, '/'))\n",
    "    df$sample = x[length(x)-7]\n",
    "    df$assembler = x[length(x)-2]\n",
    "    return(df)\n",
    "}\n",
    "mMIC = files %>%\n",
    "    plyr::llply(read_table, .parallel=FALSE) %>%\n",
    "    rbindlist(use.names=TRUE) \n",
    "mMIC"
   ]
  },
  {
   "cell_type": "code",
   "execution_count": 37,
   "id": "577524da",
   "metadata": {
    "ExecuteTime": {
     "end_time": "2021-11-01T07:46:15.484115Z",
     "start_time": "2021-11-01T07:38:11.103Z"
    }
   },
   "outputs": [
    {
     "name": "stdout",
     "output_type": "stream",
     "text": [
      "intersect(x,y): 225406 \n",
      "setdiff(x,y): 0 \n",
      "setdiff(y,x): 20094 \n",
      "union(x,y): 245500 \n"
     ]
    },
    {
     "data": {
      "text/html": [
       "<table class=\"dataframe\">\n",
       "<caption>A tidytable: 283605 × 6</caption>\n",
       "<thead>\n",
       "\t<tr><th scope=col>contig</th><th scope=col>metaMIC_contig_score</th><th scope=col>length</th><th scope=col>sample</th><th scope=col>assembler</th><th scope=col>Extensive_misassembly</th></tr>\n",
       "\t<tr><th scope=col>&lt;chr&gt;</th><th scope=col>&lt;dbl&gt;</th><th scope=col>&lt;dbl&gt;</th><th scope=col>&lt;chr&gt;</th><th scope=col>&lt;chr&gt;</th><th scope=col>&lt;int&gt;</th></tr>\n",
       "</thead>\n",
       "<tbody>\n",
       "\t<tr><td>k141_37    </td><td>0.26105</td><td> 1092</td><td>2017.12.04_18.56.22_sample_1</td><td>megahit</td><td>0</td></tr>\n",
       "\t<tr><td>k141_117456</td><td>0.30195</td><td> 2108</td><td>2017.12.04_18.56.22_sample_1</td><td>megahit</td><td>0</td></tr>\n",
       "\t<tr><td>k141_67185 </td><td>0.20005</td><td> 5148</td><td>2017.12.04_18.56.22_sample_1</td><td>megahit</td><td>0</td></tr>\n",
       "\t<tr><td>k141_16828 </td><td>0.55865</td><td> 1699</td><td>2017.12.04_18.56.22_sample_1</td><td>megahit</td><td>0</td></tr>\n",
       "\t<tr><td>k141_50499 </td><td>0.22525</td><td>13827</td><td>2017.12.04_18.56.22_sample_1</td><td>megahit</td><td>0</td></tr>\n",
       "\t<tr><td>k141_117510</td><td>0.55445</td><td> 1538</td><td>2017.12.04_18.56.22_sample_1</td><td>megahit</td><td>0</td></tr>\n",
       "\t<tr><td>k141_67193 </td><td>0.19695</td><td> 1426</td><td>2017.12.04_18.56.22_sample_1</td><td>megahit</td><td>0</td></tr>\n",
       "\t<tr><td>k141_16837 </td><td>0.24415</td><td> 1243</td><td>2017.12.04_18.56.22_sample_1</td><td>megahit</td><td>0</td></tr>\n",
       "\t<tr><td>⋮</td><td>⋮</td><td>⋮</td><td>⋮</td><td>⋮</td><td>⋮</td></tr>\n",
       "\t<tr><td>NODE_211_length_36415_cov_15.075440 </td><td>0.43185</td><td>36415</td><td>2017.12.04_18.56.22_sample_28</td><td>metaspades</td><td>0</td></tr>\n",
       "\t<tr><td>NODE_212_length_36170_cov_14.977987 </td><td>0.25420</td><td>36170</td><td>2017.12.04_18.56.22_sample_28</td><td>metaspades</td><td>0</td></tr>\n",
       "\t<tr><td>NODE_213_length_36093_cov_14.558855 </td><td>0.18385</td><td>36093</td><td>2017.12.04_18.56.22_sample_28</td><td>metaspades</td><td>0</td></tr>\n",
       "\t<tr><td>NODE_214_length_36072_cov_31.360080 </td><td>0.24520</td><td>36072</td><td>2017.12.04_18.56.22_sample_28</td><td>metaspades</td><td>0</td></tr>\n",
       "\t<tr><td>NODE_215_length_36033_cov_15.035327 </td><td>0.44130</td><td>36033</td><td>2017.12.04_18.56.22_sample_28</td><td>metaspades</td><td>0</td></tr>\n",
       "\t<tr><td>NODE_216_length_35691_cov_15.302503 </td><td>0.32915</td><td>35691</td><td>2017.12.04_18.56.22_sample_28</td><td>metaspades</td><td>0</td></tr>\n",
       "\t<tr><td>NODE_217_length_35483_cov_221.190330</td><td>0.38185</td><td>35483</td><td>2017.12.04_18.56.22_sample_28</td><td>metaspades</td><td>0</td></tr>\n",
       "</tbody>\n",
       "</table>\n"
      ],
      "text/latex": [
       "A tidytable: 283605 × 6\n",
       "\\begin{tabular}{llllll}\n",
       " contig & metaMIC\\_contig\\_score & length & sample & assembler & Extensive\\_misassembly\\\\\n",
       " <chr> & <dbl> & <dbl> & <chr> & <chr> & <int>\\\\\n",
       "\\hline\n",
       "\t k141\\_37     & 0.26105 &  1092 & 2017.12.04\\_18.56.22\\_sample\\_1 & megahit & 0\\\\\n",
       "\t k141\\_117456 & 0.30195 &  2108 & 2017.12.04\\_18.56.22\\_sample\\_1 & megahit & 0\\\\\n",
       "\t k141\\_67185  & 0.20005 &  5148 & 2017.12.04\\_18.56.22\\_sample\\_1 & megahit & 0\\\\\n",
       "\t k141\\_16828  & 0.55865 &  1699 & 2017.12.04\\_18.56.22\\_sample\\_1 & megahit & 0\\\\\n",
       "\t k141\\_50499  & 0.22525 & 13827 & 2017.12.04\\_18.56.22\\_sample\\_1 & megahit & 0\\\\\n",
       "\t k141\\_117510 & 0.55445 &  1538 & 2017.12.04\\_18.56.22\\_sample\\_1 & megahit & 0\\\\\n",
       "\t k141\\_67193  & 0.19695 &  1426 & 2017.12.04\\_18.56.22\\_sample\\_1 & megahit & 0\\\\\n",
       "\t k141\\_16837  & 0.24415 &  1243 & 2017.12.04\\_18.56.22\\_sample\\_1 & megahit & 0\\\\\n",
       "\t ⋮ & ⋮ & ⋮ & ⋮ & ⋮ & ⋮\\\\\n",
       "\t NODE\\_211\\_length\\_36415\\_cov\\_15.075440  & 0.43185 & 36415 & 2017.12.04\\_18.56.22\\_sample\\_28 & metaspades & 0\\\\\n",
       "\t NODE\\_212\\_length\\_36170\\_cov\\_14.977987  & 0.25420 & 36170 & 2017.12.04\\_18.56.22\\_sample\\_28 & metaspades & 0\\\\\n",
       "\t NODE\\_213\\_length\\_36093\\_cov\\_14.558855  & 0.18385 & 36093 & 2017.12.04\\_18.56.22\\_sample\\_28 & metaspades & 0\\\\\n",
       "\t NODE\\_214\\_length\\_36072\\_cov\\_31.360080  & 0.24520 & 36072 & 2017.12.04\\_18.56.22\\_sample\\_28 & metaspades & 0\\\\\n",
       "\t NODE\\_215\\_length\\_36033\\_cov\\_15.035327  & 0.44130 & 36033 & 2017.12.04\\_18.56.22\\_sample\\_28 & metaspades & 0\\\\\n",
       "\t NODE\\_216\\_length\\_35691\\_cov\\_15.302503  & 0.32915 & 35691 & 2017.12.04\\_18.56.22\\_sample\\_28 & metaspades & 0\\\\\n",
       "\t NODE\\_217\\_length\\_35483\\_cov\\_221.190330 & 0.38185 & 35483 & 2017.12.04\\_18.56.22\\_sample\\_28 & metaspades & 0\\\\\n",
       "\\end{tabular}\n"
      ],
      "text/markdown": [
       "\n",
       "A tidytable: 283605 × 6\n",
       "\n",
       "| contig &lt;chr&gt; | metaMIC_contig_score &lt;dbl&gt; | length &lt;dbl&gt; | sample &lt;chr&gt; | assembler &lt;chr&gt; | Extensive_misassembly &lt;int&gt; |\n",
       "|---|---|---|---|---|---|\n",
       "| k141_37     | 0.26105 |  1092 | 2017.12.04_18.56.22_sample_1 | megahit | 0 |\n",
       "| k141_117456 | 0.30195 |  2108 | 2017.12.04_18.56.22_sample_1 | megahit | 0 |\n",
       "| k141_67185  | 0.20005 |  5148 | 2017.12.04_18.56.22_sample_1 | megahit | 0 |\n",
       "| k141_16828  | 0.55865 |  1699 | 2017.12.04_18.56.22_sample_1 | megahit | 0 |\n",
       "| k141_50499  | 0.22525 | 13827 | 2017.12.04_18.56.22_sample_1 | megahit | 0 |\n",
       "| k141_117510 | 0.55445 |  1538 | 2017.12.04_18.56.22_sample_1 | megahit | 0 |\n",
       "| k141_67193  | 0.19695 |  1426 | 2017.12.04_18.56.22_sample_1 | megahit | 0 |\n",
       "| k141_16837  | 0.24415 |  1243 | 2017.12.04_18.56.22_sample_1 | megahit | 0 |\n",
       "| ⋮ | ⋮ | ⋮ | ⋮ | ⋮ | ⋮ |\n",
       "| NODE_211_length_36415_cov_15.075440  | 0.43185 | 36415 | 2017.12.04_18.56.22_sample_28 | metaspades | 0 |\n",
       "| NODE_212_length_36170_cov_14.977987  | 0.25420 | 36170 | 2017.12.04_18.56.22_sample_28 | metaspades | 0 |\n",
       "| NODE_213_length_36093_cov_14.558855  | 0.18385 | 36093 | 2017.12.04_18.56.22_sample_28 | metaspades | 0 |\n",
       "| NODE_214_length_36072_cov_31.360080  | 0.24520 | 36072 | 2017.12.04_18.56.22_sample_28 | metaspades | 0 |\n",
       "| NODE_215_length_36033_cov_15.035327  | 0.44130 | 36033 | 2017.12.04_18.56.22_sample_28 | metaspades | 0 |\n",
       "| NODE_216_length_35691_cov_15.302503  | 0.32915 | 35691 | 2017.12.04_18.56.22_sample_28 | metaspades | 0 |\n",
       "| NODE_217_length_35483_cov_221.190330 | 0.38185 | 35483 | 2017.12.04_18.56.22_sample_28 | metaspades | 0 |\n",
       "\n"
      ],
      "text/plain": [
       "       contig                               metaMIC_contig_score length\n",
       "1      k141_37                              0.26105               1092 \n",
       "2      k141_117456                          0.30195               2108 \n",
       "3      k141_67185                           0.20005               5148 \n",
       "4      k141_16828                           0.55865               1699 \n",
       "5      k141_50499                           0.22525              13827 \n",
       "6      k141_117510                          0.55445               1538 \n",
       "7      k141_67193                           0.19695               1426 \n",
       "8      k141_16837                           0.24415               1243 \n",
       "⋮      ⋮                                    ⋮                    ⋮     \n",
       "283599 NODE_211_length_36415_cov_15.075440  0.43185              36415 \n",
       "283600 NODE_212_length_36170_cov_14.977987  0.25420              36170 \n",
       "283601 NODE_213_length_36093_cov_14.558855  0.18385              36093 \n",
       "283602 NODE_214_length_36072_cov_31.360080  0.24520              36072 \n",
       "283603 NODE_215_length_36033_cov_15.035327  0.44130              36033 \n",
       "283604 NODE_216_length_35691_cov_15.302503  0.32915              35691 \n",
       "283605 NODE_217_length_35483_cov_221.190330 0.38185              35483 \n",
       "       sample                        assembler  Extensive_misassembly\n",
       "1      2017.12.04_18.56.22_sample_1  megahit    0                    \n",
       "2      2017.12.04_18.56.22_sample_1  megahit    0                    \n",
       "3      2017.12.04_18.56.22_sample_1  megahit    0                    \n",
       "4      2017.12.04_18.56.22_sample_1  megahit    0                    \n",
       "5      2017.12.04_18.56.22_sample_1  megahit    0                    \n",
       "6      2017.12.04_18.56.22_sample_1  megahit    0                    \n",
       "7      2017.12.04_18.56.22_sample_1  megahit    0                    \n",
       "8      2017.12.04_18.56.22_sample_1  megahit    0                    \n",
       "⋮      ⋮                             ⋮          ⋮                    \n",
       "283599 2017.12.04_18.56.22_sample_28 metaspades 0                    \n",
       "283600 2017.12.04_18.56.22_sample_28 metaspades 0                    \n",
       "283601 2017.12.04_18.56.22_sample_28 metaspades 0                    \n",
       "283602 2017.12.04_18.56.22_sample_28 metaspades 0                    \n",
       "283603 2017.12.04_18.56.22_sample_28 metaspades 0                    \n",
       "283604 2017.12.04_18.56.22_sample_28 metaspades 0                    \n",
       "283605 2017.12.04_18.56.22_sample_28 metaspades 0                    "
      ]
     },
     "metadata": {},
     "output_type": "display_data"
    }
   ],
   "source": [
    "# joining\n",
    "overlap(mMIC$contig, true_mis$contig)\n",
    "mMIC = mMIC %>%\n",
    "    inner_join.(true_mis, c('sample', 'assembler', 'contig')) %>%\n",
    "    mutate.(metaMIC_contig_score = ifelse(is.na(metaMIC_contig_score), 0, metaMIC_contig_score))\n",
    "mMIC"
   ]
  },
  {
   "cell_type": "code",
   "execution_count": 38,
   "id": "f132baa2",
   "metadata": {
    "ExecuteTime": {
     "end_time": "2021-11-01T07:46:15.529150Z",
     "start_time": "2021-11-01T07:38:15.631Z"
    }
   },
   "outputs": [
    {
     "name": "stdout",
     "output_type": "stream",
     "text": [
      "metaspades cutoff: 0.5413875 \n"
     ]
    }
   ],
   "source": [
    "# contig cutoff\n",
    "ms_cutoff = mMIC %>%\n",
    "    filter.(assembler == 'metaspades') %>%\n",
    "    .$metaMIC_contig_score %>% quantile(0.95)\n",
    "cat('metaspades cutoff:', ms_cutoff, '\\n')"
   ]
  },
  {
   "cell_type": "code",
   "execution_count": 39,
   "id": "257e73a3",
   "metadata": {
    "ExecuteTime": {
     "end_time": "2021-11-01T07:46:15.652660Z",
     "start_time": "2021-11-01T07:38:19.408Z"
    }
   },
   "outputs": [
    {
     "data": {
      "text/html": [
       "<table class=\"dataframe\">\n",
       "<caption>A tidytable: 20 × 6</caption>\n",
       "<thead>\n",
       "\t<tr><th scope=col>sample</th><th scope=col>assembler</th><th scope=col>TP</th><th scope=col>TN</th><th scope=col>FP</th><th scope=col>FN</th></tr>\n",
       "\t<tr><th scope=col>&lt;chr&gt;</th><th scope=col>&lt;chr&gt;</th><th scope=col>&lt;int&gt;</th><th scope=col>&lt;int&gt;</th><th scope=col>&lt;int&gt;</th><th scope=col>&lt;int&gt;</th></tr>\n",
       "</thead>\n",
       "<tbody>\n",
       "\t<tr><td>2017.12.04_18.56.22_sample_1 </td><td>megahit   </td><td> 0</td><td>13342</td><td>  0</td><td>297</td></tr>\n",
       "\t<tr><td>2017.12.04_18.56.22_sample_1 </td><td>metaspades</td><td>41</td><td> 6443</td><td>435</td><td> 73</td></tr>\n",
       "\t<tr><td>2017.12.04_18.56.22_sample_13</td><td>megahit   </td><td> 0</td><td> 5091</td><td>  0</td><td>225</td></tr>\n",
       "\t<tr><td>2017.12.04_18.56.22_sample_13</td><td>metaspades</td><td>14</td><td> 2981</td><td>138</td><td> 13</td></tr>\n",
       "\t<tr><td>2017.12.04_18.56.22_sample_14</td><td>megahit   </td><td> 0</td><td>26332</td><td>  0</td><td>322</td></tr>\n",
       "\t<tr><td>2017.12.04_18.56.22_sample_14</td><td>metaspades</td><td>21</td><td>22055</td><td>964</td><td> 68</td></tr>\n",
       "\t<tr><td>2017.12.04_18.56.22_sample_15</td><td>megahit   </td><td> 0</td><td> 6130</td><td>  0</td><td>153</td></tr>\n",
       "\t<tr><td>2017.12.04_18.56.22_sample_15</td><td>metaspades</td><td>13</td><td> 3930</td><td>200</td><td> 25</td></tr>\n",
       "\t<tr><td>⋮</td><td>⋮</td><td>⋮</td><td>⋮</td><td>⋮</td><td>⋮</td></tr>\n",
       "\t<tr><td>2017.12.04_18.56.22_sample_18</td><td>metaspades</td><td> 26</td><td>11154</td><td> 639</td><td>  55</td></tr>\n",
       "\t<tr><td>2017.12.04_18.56.22_sample_19</td><td>megahit   </td><td>  0</td><td>39377</td><td>   0</td><td>1184</td></tr>\n",
       "\t<tr><td>2017.12.04_18.56.22_sample_19</td><td>metaspades</td><td>125</td><td>22870</td><td>1258</td><td> 256</td></tr>\n",
       "\t<tr><td>2017.12.04_18.56.22_sample_20</td><td>megahit   </td><td>  0</td><td>27780</td><td>   0</td><td> 505</td></tr>\n",
       "\t<tr><td>2017.12.04_18.56.22_sample_20</td><td>metaspades</td><td> 68</td><td>17435</td><td> 798</td><td> 130</td></tr>\n",
       "\t<tr><td>2017.12.04_18.56.22_sample_28</td><td>megahit   </td><td>  0</td><td> 2248</td><td>   0</td><td>  78</td></tr>\n",
       "\t<tr><td>2017.12.04_18.56.22_sample_28</td><td>metaspades</td><td>  5</td><td> 1660</td><td>  57</td><td>   4</td></tr>\n",
       "</tbody>\n",
       "</table>\n"
      ],
      "text/latex": [
       "A tidytable: 20 × 6\n",
       "\\begin{tabular}{llllll}\n",
       " sample & assembler & TP & TN & FP & FN\\\\\n",
       " <chr> & <chr> & <int> & <int> & <int> & <int>\\\\\n",
       "\\hline\n",
       "\t 2017.12.04\\_18.56.22\\_sample\\_1  & megahit    &  0 & 13342 &   0 & 297\\\\\n",
       "\t 2017.12.04\\_18.56.22\\_sample\\_1  & metaspades & 41 &  6443 & 435 &  73\\\\\n",
       "\t 2017.12.04\\_18.56.22\\_sample\\_13 & megahit    &  0 &  5091 &   0 & 225\\\\\n",
       "\t 2017.12.04\\_18.56.22\\_sample\\_13 & metaspades & 14 &  2981 & 138 &  13\\\\\n",
       "\t 2017.12.04\\_18.56.22\\_sample\\_14 & megahit    &  0 & 26332 &   0 & 322\\\\\n",
       "\t 2017.12.04\\_18.56.22\\_sample\\_14 & metaspades & 21 & 22055 & 964 &  68\\\\\n",
       "\t 2017.12.04\\_18.56.22\\_sample\\_15 & megahit    &  0 &  6130 &   0 & 153\\\\\n",
       "\t 2017.12.04\\_18.56.22\\_sample\\_15 & metaspades & 13 &  3930 & 200 &  25\\\\\n",
       "\t ⋮ & ⋮ & ⋮ & ⋮ & ⋮ & ⋮\\\\\n",
       "\t 2017.12.04\\_18.56.22\\_sample\\_18 & metaspades &  26 & 11154 &  639 &   55\\\\\n",
       "\t 2017.12.04\\_18.56.22\\_sample\\_19 & megahit    &   0 & 39377 &    0 & 1184\\\\\n",
       "\t 2017.12.04\\_18.56.22\\_sample\\_19 & metaspades & 125 & 22870 & 1258 &  256\\\\\n",
       "\t 2017.12.04\\_18.56.22\\_sample\\_20 & megahit    &   0 & 27780 &    0 &  505\\\\\n",
       "\t 2017.12.04\\_18.56.22\\_sample\\_20 & metaspades &  68 & 17435 &  798 &  130\\\\\n",
       "\t 2017.12.04\\_18.56.22\\_sample\\_28 & megahit    &   0 &  2248 &    0 &   78\\\\\n",
       "\t 2017.12.04\\_18.56.22\\_sample\\_28 & metaspades &   5 &  1660 &   57 &    4\\\\\n",
       "\\end{tabular}\n"
      ],
      "text/markdown": [
       "\n",
       "A tidytable: 20 × 6\n",
       "\n",
       "| sample &lt;chr&gt; | assembler &lt;chr&gt; | TP &lt;int&gt; | TN &lt;int&gt; | FP &lt;int&gt; | FN &lt;int&gt; |\n",
       "|---|---|---|---|---|---|\n",
       "| 2017.12.04_18.56.22_sample_1  | megahit    |  0 | 13342 |   0 | 297 |\n",
       "| 2017.12.04_18.56.22_sample_1  | metaspades | 41 |  6443 | 435 |  73 |\n",
       "| 2017.12.04_18.56.22_sample_13 | megahit    |  0 |  5091 |   0 | 225 |\n",
       "| 2017.12.04_18.56.22_sample_13 | metaspades | 14 |  2981 | 138 |  13 |\n",
       "| 2017.12.04_18.56.22_sample_14 | megahit    |  0 | 26332 |   0 | 322 |\n",
       "| 2017.12.04_18.56.22_sample_14 | metaspades | 21 | 22055 | 964 |  68 |\n",
       "| 2017.12.04_18.56.22_sample_15 | megahit    |  0 |  6130 |   0 | 153 |\n",
       "| 2017.12.04_18.56.22_sample_15 | metaspades | 13 |  3930 | 200 |  25 |\n",
       "| ⋮ | ⋮ | ⋮ | ⋮ | ⋮ | ⋮ |\n",
       "| 2017.12.04_18.56.22_sample_18 | metaspades |  26 | 11154 |  639 |   55 |\n",
       "| 2017.12.04_18.56.22_sample_19 | megahit    |   0 | 39377 |    0 | 1184 |\n",
       "| 2017.12.04_18.56.22_sample_19 | metaspades | 125 | 22870 | 1258 |  256 |\n",
       "| 2017.12.04_18.56.22_sample_20 | megahit    |   0 | 27780 |    0 |  505 |\n",
       "| 2017.12.04_18.56.22_sample_20 | metaspades |  68 | 17435 |  798 |  130 |\n",
       "| 2017.12.04_18.56.22_sample_28 | megahit    |   0 |  2248 |    0 |   78 |\n",
       "| 2017.12.04_18.56.22_sample_28 | metaspades |   5 |  1660 |   57 |    4 |\n",
       "\n"
      ],
      "text/plain": [
       "   sample                        assembler  TP  TN    FP   FN  \n",
       "1  2017.12.04_18.56.22_sample_1  megahit     0  13342   0  297 \n",
       "2  2017.12.04_18.56.22_sample_1  metaspades 41   6443 435   73 \n",
       "3  2017.12.04_18.56.22_sample_13 megahit     0   5091   0  225 \n",
       "4  2017.12.04_18.56.22_sample_13 metaspades 14   2981 138   13 \n",
       "5  2017.12.04_18.56.22_sample_14 megahit     0  26332   0  322 \n",
       "6  2017.12.04_18.56.22_sample_14 metaspades 21  22055 964   68 \n",
       "7  2017.12.04_18.56.22_sample_15 megahit     0   6130   0  153 \n",
       "8  2017.12.04_18.56.22_sample_15 metaspades 13   3930 200   25 \n",
       "⋮  ⋮                             ⋮          ⋮   ⋮     ⋮    ⋮   \n",
       "14 2017.12.04_18.56.22_sample_18 metaspades  26 11154  639   55\n",
       "15 2017.12.04_18.56.22_sample_19 megahit      0 39377    0 1184\n",
       "16 2017.12.04_18.56.22_sample_19 metaspades 125 22870 1258  256\n",
       "17 2017.12.04_18.56.22_sample_20 megahit      0 27780    0  505\n",
       "18 2017.12.04_18.56.22_sample_20 metaspades  68 17435  798  130\n",
       "19 2017.12.04_18.56.22_sample_28 megahit      0  2248    0   78\n",
       "20 2017.12.04_18.56.22_sample_28 metaspades   5  1660   57    4"
      ]
     },
     "metadata": {},
     "output_type": "display_data"
    }
   ],
   "source": [
    "# formatting\n",
    "mMIC_s = mMIC %>%\n",
    "    mutate.(prediction = ifelse(assembler == 'megahit', \n",
    "                                 metaMIC_contig_score >= 0.8,\n",
    "                                 metaMIC_contig_score >= ms_cutoff)) %>%\n",
    "    mutate.(prediction = ifelse(prediction == TRUE, 1, 0)) %>%\n",
    "    mutate.(TP = prediction == 1 & Extensive_misassembly == 1,\n",
    "            TN = prediction == 0 & Extensive_misassembly == 0,\n",
    "            FP = prediction == 1 & Extensive_misassembly == 0,\n",
    "            FN = prediction == 0 & Extensive_misassembly == 1) %>%\n",
    "    summarize.(TP = sum(TP),\n",
    "               TN = sum(TN),\n",
    "               FP = sum(FP),\n",
    "               FN = sum(FN),\n",
    "               .by=c(sample, assembler)) \n",
    "mMIC_s"
   ]
  },
  {
   "cell_type": "code",
   "execution_count": 40,
   "id": "eb49f374",
   "metadata": {
    "ExecuteTime": {
     "end_time": "2021-11-01T07:46:16.530646Z",
     "start_time": "2021-11-01T07:38:23.431Z"
    }
   },
   "outputs": [
    {
     "data": {
      "image/png": "[encoded data removed]",
      "text/plain": [
       "plot without title"
      ]
     },
     "metadata": {
      "image/png": {
       "height": 300,
       "width": 500
      }
     },
     "output_type": "display_data"
    }
   ],
   "source": [
    "# plotting\n",
    "p = mMIC_s %>%\n",
    "    pivot_longer.(cols=c(-sample, -assembler)) %>%\n",
    "    ggplot(aes(assembler, value)) +\n",
    "    geom_boxplot() +\n",
    "    facet_wrap(~ name, scales='free_y') +\n",
    "    theme_bw()\n",
    "p.dims(5,3)\n",
    "plot(p)"
   ]
  },
  {
   "cell_type": "code",
   "execution_count": 41,
   "id": "30dd09d6",
   "metadata": {
    "ExecuteTime": {
     "end_time": "2021-11-01T07:46:16.581668Z",
     "start_time": "2021-11-01T07:38:27.079Z"
    }
   },
   "outputs": [
    {
     "data": {
      "text/html": [
       "<table class=\"dataframe\">\n",
       "<caption>A tidytable: 20 × 3</caption>\n",
       "<thead>\n",
       "\t<tr><th scope=col>sample</th><th scope=col>assembler</th><th scope=col>accuracy</th></tr>\n",
       "\t<tr><th scope=col>&lt;chr&gt;</th><th scope=col>&lt;chr&gt;</th><th scope=col>&lt;dbl&gt;</th></tr>\n",
       "</thead>\n",
       "<tbody>\n",
       "\t<tr><td>2017.12.04_18.56.22_sample_1 </td><td>megahit   </td><td>0.9782242</td></tr>\n",
       "\t<tr><td>2017.12.04_18.56.22_sample_1 </td><td>metaspades</td><td>0.9273455</td></tr>\n",
       "\t<tr><td>2017.12.04_18.56.22_sample_13</td><td>megahit   </td><td>0.9576749</td></tr>\n",
       "\t<tr><td>2017.12.04_18.56.22_sample_13</td><td>metaspades</td><td>0.9520025</td></tr>\n",
       "\t<tr><td>2017.12.04_18.56.22_sample_14</td><td>megahit   </td><td>0.9879193</td></tr>\n",
       "\t<tr><td>2017.12.04_18.56.22_sample_14</td><td>metaspades</td><td>0.9553401</td></tr>\n",
       "\t<tr><td>2017.12.04_18.56.22_sample_15</td><td>megahit   </td><td>0.9756486</td></tr>\n",
       "\t<tr><td>2017.12.04_18.56.22_sample_15</td><td>metaspades</td><td>0.9460173</td></tr>\n",
       "\t<tr><td>⋮</td><td>⋮</td><td>⋮</td></tr>\n",
       "\t<tr><td>2017.12.04_18.56.22_sample_18</td><td>metaspades</td><td>0.9415530</td></tr>\n",
       "\t<tr><td>2017.12.04_18.56.22_sample_19</td><td>megahit   </td><td>0.9708094</td></tr>\n",
       "\t<tr><td>2017.12.04_18.56.22_sample_19</td><td>metaspades</td><td>0.9382268</td></tr>\n",
       "\t<tr><td>2017.12.04_18.56.22_sample_20</td><td>megahit   </td><td>0.9821460</td></tr>\n",
       "\t<tr><td>2017.12.04_18.56.22_sample_20</td><td>metaspades</td><td>0.9496500</td></tr>\n",
       "\t<tr><td>2017.12.04_18.56.22_sample_28</td><td>megahit   </td><td>0.9664660</td></tr>\n",
       "\t<tr><td>2017.12.04_18.56.22_sample_28</td><td>metaspades</td><td>0.9646582</td></tr>\n",
       "</tbody>\n",
       "</table>\n"
      ],
      "text/latex": [
       "A tidytable: 20 × 3\n",
       "\\begin{tabular}{lll}\n",
       " sample & assembler & accuracy\\\\\n",
       " <chr> & <chr> & <dbl>\\\\\n",
       "\\hline\n",
       "\t 2017.12.04\\_18.56.22\\_sample\\_1  & megahit    & 0.9782242\\\\\n",
       "\t 2017.12.04\\_18.56.22\\_sample\\_1  & metaspades & 0.9273455\\\\\n",
       "\t 2017.12.04\\_18.56.22\\_sample\\_13 & megahit    & 0.9576749\\\\\n",
       "\t 2017.12.04\\_18.56.22\\_sample\\_13 & metaspades & 0.9520025\\\\\n",
       "\t 2017.12.04\\_18.56.22\\_sample\\_14 & megahit    & 0.9879193\\\\\n",
       "\t 2017.12.04\\_18.56.22\\_sample\\_14 & metaspades & 0.9553401\\\\\n",
       "\t 2017.12.04\\_18.56.22\\_sample\\_15 & megahit    & 0.9756486\\\\\n",
       "\t 2017.12.04\\_18.56.22\\_sample\\_15 & metaspades & 0.9460173\\\\\n",
       "\t ⋮ & ⋮ & ⋮\\\\\n",
       "\t 2017.12.04\\_18.56.22\\_sample\\_18 & metaspades & 0.9415530\\\\\n",
       "\t 2017.12.04\\_18.56.22\\_sample\\_19 & megahit    & 0.9708094\\\\\n",
       "\t 2017.12.04\\_18.56.22\\_sample\\_19 & metaspades & 0.9382268\\\\\n",
       "\t 2017.12.04\\_18.56.22\\_sample\\_20 & megahit    & 0.9821460\\\\\n",
       "\t 2017.12.04\\_18.56.22\\_sample\\_20 & metaspades & 0.9496500\\\\\n",
       "\t 2017.12.04\\_18.56.22\\_sample\\_28 & megahit    & 0.9664660\\\\\n",
       "\t 2017.12.04\\_18.56.22\\_sample\\_28 & metaspades & 0.9646582\\\\\n",
       "\\end{tabular}\n"
      ],
      "text/markdown": [
       "\n",
       "A tidytable: 20 × 3\n",
       "\n",
       "| sample &lt;chr&gt; | assembler &lt;chr&gt; | accuracy &lt;dbl&gt; |\n",
       "|---|---|---|\n",
       "| 2017.12.04_18.56.22_sample_1  | megahit    | 0.9782242 |\n",
       "| 2017.12.04_18.56.22_sample_1  | metaspades | 0.9273455 |\n",
       "| 2017.12.04_18.56.22_sample_13 | megahit    | 0.9576749 |\n",
       "| 2017.12.04_18.56.22_sample_13 | metaspades | 0.9520025 |\n",
       "| 2017.12.04_18.56.22_sample_14 | megahit    | 0.9879193 |\n",
       "| 2017.12.04_18.56.22_sample_14 | metaspades | 0.9553401 |\n",
       "| 2017.12.04_18.56.22_sample_15 | megahit    | 0.9756486 |\n",
       "| 2017.12.04_18.56.22_sample_15 | metaspades | 0.9460173 |\n",
       "| ⋮ | ⋮ | ⋮ |\n",
       "| 2017.12.04_18.56.22_sample_18 | metaspades | 0.9415530 |\n",
       "| 2017.12.04_18.56.22_sample_19 | megahit    | 0.9708094 |\n",
       "| 2017.12.04_18.56.22_sample_19 | metaspades | 0.9382268 |\n",
       "| 2017.12.04_18.56.22_sample_20 | megahit    | 0.9821460 |\n",
       "| 2017.12.04_18.56.22_sample_20 | metaspades | 0.9496500 |\n",
       "| 2017.12.04_18.56.22_sample_28 | megahit    | 0.9664660 |\n",
       "| 2017.12.04_18.56.22_sample_28 | metaspades | 0.9646582 |\n",
       "\n"
      ],
      "text/plain": [
       "   sample                        assembler  accuracy \n",
       "1  2017.12.04_18.56.22_sample_1  megahit    0.9782242\n",
       "2  2017.12.04_18.56.22_sample_1  metaspades 0.9273455\n",
       "3  2017.12.04_18.56.22_sample_13 megahit    0.9576749\n",
       "4  2017.12.04_18.56.22_sample_13 metaspades 0.9520025\n",
       "5  2017.12.04_18.56.22_sample_14 megahit    0.9879193\n",
       "6  2017.12.04_18.56.22_sample_14 metaspades 0.9553401\n",
       "7  2017.12.04_18.56.22_sample_15 megahit    0.9756486\n",
       "8  2017.12.04_18.56.22_sample_15 metaspades 0.9460173\n",
       "⋮  ⋮                             ⋮          ⋮        \n",
       "14 2017.12.04_18.56.22_sample_18 metaspades 0.9415530\n",
       "15 2017.12.04_18.56.22_sample_19 megahit    0.9708094\n",
       "16 2017.12.04_18.56.22_sample_19 metaspades 0.9382268\n",
       "17 2017.12.04_18.56.22_sample_20 megahit    0.9821460\n",
       "18 2017.12.04_18.56.22_sample_20 metaspades 0.9496500\n",
       "19 2017.12.04_18.56.22_sample_28 megahit    0.9664660\n",
       "20 2017.12.04_18.56.22_sample_28 metaspades 0.9646582"
      ]
     },
     "metadata": {},
     "output_type": "display_data"
    }
   ],
   "source": [
    "# accuracy\n",
    "mMIC_ss = mMIC_s %>%\n",
    "    summarize.(accuracy = (TP + TN) / (TP + TN + FP + FN),\n",
    "               .by=c(sample, assembler))\n",
    "mMIC_ss"
   ]
  },
  {
   "cell_type": "code",
   "execution_count": 42,
   "id": "bf2205d7",
   "metadata": {
    "ExecuteTime": {
     "end_time": "2021-11-01T07:46:16.851602Z",
     "start_time": "2021-11-01T07:38:35.511Z"
    }
   },
   "outputs": [
    {
     "data": {
      "image/png": "[encoded data removed]",
      "text/plain": [
       "plot without title"
      ]
     },
     "metadata": {
      "image/png": {
       "height": 230,
       "width": 300
      }
     },
     "output_type": "display_data"
    }
   ],
   "source": [
    "# calculations\n",
    "p = mMIC_ss %>%\n",
    "    ggplot(aes(assembler, accuracy)) +\n",
    "    geom_boxplot() +\n",
    "    theme_bw()\n",
    "p.dims(3,2.3)\n",
    "plot(p)"
   ]
  },
  {
   "cell_type": "markdown",
   "id": "d606fcf0",
   "metadata": {},
   "source": [
    "#### AUCPR"
   ]
  },
  {
   "cell_type": "code",
   "execution_count": 43,
   "id": "903f970a",
   "metadata": {
    "ExecuteTime": {
     "end_time": "2021-11-01T07:46:17.558961Z",
     "start_time": "2021-11-01T07:38:45.749Z"
    }
   },
   "outputs": [
    {
     "data": {
      "image/png": "[encoded data removed]",
      "text/plain": [
       "plot without title"
      ]
     },
     "metadata": {
      "image/png": {
       "height": 220,
       "width": 300
      }
     },
     "output_type": "display_data"
    }
   ],
   "source": [
    "# plotting\n",
    "p = mMIC %>%\n",
    "    mutate.(Extensive_misassembly = Extensive_misassembly == 1) %>%\n",
    "    ggplot(aes(Extensive_misassembly, metaMIC_contig_score)) +\n",
    "    geom_boxplot() +\n",
    "    theme_bw()\n",
    "p.dims(3,2.2)\n",
    "plot(p)"
   ]
  },
  {
   "cell_type": "code",
   "execution_count": 44,
   "id": "72184dd1",
   "metadata": {
    "ExecuteTime": {
     "end_time": "2021-11-01T07:46:17.801671Z",
     "start_time": "2021-11-01T07:38:49.207Z"
    }
   },
   "outputs": [
    {
     "data": {
      "text/plain": [
       "\n",
       "  Precision-recall curve\n",
       "\n",
       "    Area under curve (Integral):\n",
       "     0.1242148 \n",
       "\n",
       "    Area under curve (Davis & Goadrich):\n",
       "     0.1242138 \n",
       "\n",
       "    Curve for scores from  0.01565  to  0.75615 \n",
       "    ( can be plotted with plot(x) )\n"
      ]
     },
     "metadata": {},
     "output_type": "display_data"
    }
   ],
   "source": [
    "# calculating AUCPR\n",
    "fg = mMIC %>%\n",
    "    filter.(Extensive_misassembly == 1,\n",
    "            assembler == 'megahit') %>%\n",
    "    .$metaMIC_contig_score\n",
    "bg = mMIC %>%\n",
    "    filter.(Extensive_misassembly == 0,\n",
    "            assembler == 'megahit') %>%\n",
    "    .$metaMIC_contig_score\n",
    "pr = pr.curve(scores.class0 = fg, scores.class1 = bg, curve=TRUE)\n",
    "pr"
   ]
  },
  {
   "cell_type": "code",
   "execution_count": 45,
   "id": "494cee53",
   "metadata": {
    "ExecuteTime": {
     "end_time": "2021-11-01T07:46:18.707583Z",
     "start_time": "2021-11-01T07:38:53.048Z"
    }
   },
   "outputs": [
    {
     "data": {
      "image/png": "[encoded data removed]",
      "text/plain": [
       "Plot with title “PR curve\n",
       "AUC = 0.1242148”"
      ]
     },
     "metadata": {
      "image/png": {
       "height": 400,
       "width": 600
      }
     },
     "output_type": "display_data"
    }
   ],
   "source": [
    "# pr curve\n",
    "p.dims(6,4)\n",
    "plot(pr)"
   ]
  },
  {
   "cell_type": "code",
   "execution_count": 46,
   "id": "e39915bb",
   "metadata": {
    "ExecuteTime": {
     "end_time": "2021-11-01T07:46:18.810700Z",
     "start_time": "2021-11-01T07:38:57.295Z"
    }
   },
   "outputs": [
    {
     "data": {
      "text/plain": [
       "\n",
       "  Precision-recall curve\n",
       "\n",
       "    Area under curve (Integral):\n",
       "     0.06024302 \n",
       "\n",
       "    Area under curve (Davis & Goadrich):\n",
       "     0.06021564 \n",
       "\n",
       "    Curve for scores from  0.01265  to  0.72795 \n",
       "    ( can be plotted with plot(x) )\n"
      ]
     },
     "metadata": {},
     "output_type": "display_data"
    }
   ],
   "source": [
    "# calculating AUCPR\n",
    "fg = mMIC %>%\n",
    "    filter.(Extensive_misassembly == 1,\n",
    "            assembler == 'metaspades') %>%\n",
    "    .$metaMIC_contig_score\n",
    "bg = mMIC %>%\n",
    "    filter.(Extensive_misassembly == 0,\n",
    "            assembler == 'metaspades') %>%\n",
    "    .$metaMIC_contig_score\n",
    "pr = pr.curve(scores.class0 = fg, scores.class1 = bg, curve=TRUE)\n",
    "pr"
   ]
  },
  {
   "cell_type": "code",
   "execution_count": 47,
   "id": "295d723c",
   "metadata": {
    "ExecuteTime": {
     "end_time": "2021-11-01T07:46:19.252232Z",
     "start_time": "2021-11-01T07:39:02.383Z"
    }
   },
   "outputs": [
    {
     "data": {
      "image/png": "[encoded data removed]",
      "text/plain": [
       "Plot with title “PR curve\n",
       "AUC = 0.06024302”"
      ]
     },
     "metadata": {
      "image/png": {
       "height": 400,
       "width": 600
      }
     },
     "output_type": "display_data"
    }
   ],
   "source": [
    "# pr curve\n",
    "p.dims(6,4)\n",
    "plot(pr)"
   ]
  },
  {
   "cell_type": "markdown",
   "id": "bd284a11",
   "metadata": {},
   "source": [
    "# sessionInfo"
   ]
  },
  {
   "cell_type": "code",
   "execution_count": 48,
   "id": "f9bc3c21",
   "metadata": {
    "ExecuteTime": {
     "end_time": "2021-11-01T07:46:19.780792Z",
     "start_time": "2021-11-01T07:39:13.653Z"
    }
   },
   "outputs": [
    {
     "data": {
      "text/plain": [
       "R version 4.1.0 (2021-05-18)\n",
       "Platform: x86_64-conda-linux-gnu (64-bit)\n",
       "Running under: Ubuntu 18.04.6 LTS\n",
       "\n",
       "Matrix products: default\n",
       "BLAS/LAPACK: /ebio/abt3_projects/DeepMAsED/envs/tidyverse/lib/libopenblasp-r0.3.15.so\n",
       "\n",
       "locale:\n",
       " [1] LC_CTYPE=en_US.UTF-8       LC_NUMERIC=C              \n",
       " [3] LC_TIME=en_US.UTF-8        LC_COLLATE=en_US.UTF-8    \n",
       " [5] LC_MONETARY=en_US.UTF-8    LC_MESSAGES=en_US.UTF-8   \n",
       " [7] LC_PAPER=en_US.UTF-8       LC_NAME=C                 \n",
       " [9] LC_ADDRESS=C               LC_TELEPHONE=C            \n",
       "[11] LC_MEASUREMENT=en_US.UTF-8 LC_IDENTIFICATION=C       \n",
       "\n",
       "attached base packages:\n",
       "[1] stats     graphics  grDevices utils     datasets  methods   base     \n",
       "\n",
       "other attached packages:\n",
       "[1] PRROC_1.3.1       LeyLabRMisc_0.1.9 tidytable_0.6.3   data.table_1.14.0\n",
       "[5] ggplot2_3.3.5     tidyr_1.1.3       dplyr_1.0.7      \n",
       "\n",
       "loaded via a namespace (and not attached):\n",
       " [1] Rcpp_1.0.7        plyr_1.8.6        pillar_1.6.1      compiler_4.1.0   \n",
       " [5] R.methodsS3_1.8.1 R.utils_2.10.1    iterators_1.0.13  base64enc_0.1-3  \n",
       " [9] tools_4.1.0       digest_0.6.27     uuid_0.1-4        jsonlite_1.7.2   \n",
       "[13] evaluate_0.14     lifecycle_1.0.0   tibble_3.1.2      gtable_0.3.0     \n",
       "[17] pkgconfig_2.0.3   rlang_0.4.11      foreach_1.5.1     IRdisplay_1.0    \n",
       "[21] parallel_4.1.0    IRkernel_1.2      repr_1.1.3        withr_2.4.2      \n",
       "[25] generics_0.1.0    vctrs_0.3.8       grid_4.1.0        tidyselect_1.1.1 \n",
       "[29] glue_1.4.2        R6_2.5.0          fansi_0.4.2       pbdZMQ_0.3-5     \n",
       "[33] farver_2.1.0      purrr_0.3.4       magrittr_2.0.1    codetools_0.2-18 \n",
       "[37] scales_1.1.1      ellipsis_0.3.2    htmltools_0.5.1.1 colorspace_2.0-2 \n",
       "[41] labeling_0.4.2    utf8_1.2.1        doParallel_1.0.16 munsell_0.5.0    \n",
       "[45] crayon_1.4.1      R.oo_1.24.0      "
      ]
     },
     "metadata": {},
     "output_type": "display_data"
    }
   ],
   "source": [
    "sessionInfo()"
   ]
  }
 ],
 "metadata": {
  "kernelspec": {
   "display_name": "R [conda env:DeepMAsED-tidyverse]",
   "language": "R",
   "name": "conda-env-DeepMAsED-tidyverse-r"
  },
  "language_info": {
   "codemirror_mode": "r",
   "file_extension": ".r",
   "mimetype": "text/x-r-source",
   "name": "R",
   "pygments_lexer": "r",
   "version": "4.1.0"
  },
  "notify_time": "30",
  "toc": {
   "base_numbering": 1,
   "nav_menu": {},
   "number_sections": true,
   "sideBar": true,
   "skip_h1_title": false,
   "title_cell": "Table of Contents",
   "title_sidebar": "Contents",
   "toc_cell": true,
   "toc_position": {},
   "toc_section_display": true,
   "toc_window_display": true
  }
 },
 "nbformat": 4,
 "nbformat_minor": 5
}
