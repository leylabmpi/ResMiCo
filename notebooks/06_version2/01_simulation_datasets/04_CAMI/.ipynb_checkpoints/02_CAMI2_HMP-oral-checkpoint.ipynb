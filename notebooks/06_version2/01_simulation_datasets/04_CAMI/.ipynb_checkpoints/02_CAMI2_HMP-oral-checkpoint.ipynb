{
 "cells": [
  {
   "cell_type": "markdown",
   "id": "5daed055",
   "metadata": {
    "toc": true
   },
   "source": [
    "<h1>Table of Contents<span class=\"tocSkip\"></span></h1>\n",
    "<div class=\"toc\"><ul class=\"toc-item\"><li><span><a href=\"#Goal\" data-toc-modified-id=\"Goal-1\"><span class=\"toc-item-num\">1&nbsp;&nbsp;</span>Goal</a></span></li><li><span><a href=\"#Var\" data-toc-modified-id=\"Var-2\"><span class=\"toc-item-num\">2&nbsp;&nbsp;</span>Var</a></span></li><li><span><a href=\"#Init\" data-toc-modified-id=\"Init-3\"><span class=\"toc-item-num\">3&nbsp;&nbsp;</span>Init</a></span></li><li><span><a href=\"#Dataset-summary\" data-toc-modified-id=\"Dataset-summary-4\"><span class=\"toc-item-num\">4&nbsp;&nbsp;</span>Dataset summary</a></span><ul class=\"toc-item\"><li><span><a href=\"#Comm.-abund.-dist\" data-toc-modified-id=\"Comm.-abund.-dist-4.1\"><span class=\"toc-item-num\">4.1&nbsp;&nbsp;</span>Comm. abund. dist</a></span></li></ul></li><li><span><a href=\"#LLMGP\" data-toc-modified-id=\"LLMGP-5\"><span class=\"toc-item-num\">5&nbsp;&nbsp;</span>LLMGP</a></span><ul class=\"toc-item\"><li><ul class=\"toc-item\"><li><span><a href=\"#Config\" data-toc-modified-id=\"Config-5.0.1\"><span class=\"toc-item-num\">5.0.1&nbsp;&nbsp;</span>Config</a></span></li><li><span><a href=\"#Run\" data-toc-modified-id=\"Run-5.0.2\"><span class=\"toc-item-num\">5.0.2&nbsp;&nbsp;</span>Run</a></span></li></ul></li><li><span><a href=\"#Summary\" data-toc-modified-id=\"Summary-5.1\"><span class=\"toc-item-num\">5.1&nbsp;&nbsp;</span>Summary</a></span></li></ul></li><li><span><a href=\"#LLG\" data-toc-modified-id=\"LLG-6\"><span class=\"toc-item-num\">6&nbsp;&nbsp;</span>LLG</a></span><ul class=\"toc-item\"><li><ul class=\"toc-item\"><li><span><a href=\"#Config\" data-toc-modified-id=\"Config-6.0.1\"><span class=\"toc-item-num\">6.0.1&nbsp;&nbsp;</span>Config</a></span></li><li><span><a href=\"#Run\" data-toc-modified-id=\"Run-6.0.2\"><span class=\"toc-item-num\">6.0.2&nbsp;&nbsp;</span>Run</a></span></li></ul></li><li><span><a href=\"#Summary\" data-toc-modified-id=\"Summary-6.1\"><span class=\"toc-item-num\">6.1&nbsp;&nbsp;</span>Summary</a></span><ul class=\"toc-item\"><li><span><a href=\"#CheckM\" data-toc-modified-id=\"CheckM-6.1.1\"><span class=\"toc-item-num\">6.1.1&nbsp;&nbsp;</span>CheckM</a></span></li><li><span><a href=\"#GTDBTK\" data-toc-modified-id=\"GTDBTK-6.1.2\"><span class=\"toc-item-num\">6.1.2&nbsp;&nbsp;</span>GTDBTK</a></span></li></ul></li></ul></li><li><span><a href=\"#ResMiCo-SM\" data-toc-modified-id=\"ResMiCo-SM-7\"><span class=\"toc-item-num\">7&nbsp;&nbsp;</span>ResMiCo-SM</a></span><ul class=\"toc-item\"><li><ul class=\"toc-item\"><li><span><a href=\"#Config\" data-toc-modified-id=\"Config-7.0.1\"><span class=\"toc-item-num\">7.0.1&nbsp;&nbsp;</span>Config</a></span></li><li><span><a href=\"#Run\" data-toc-modified-id=\"Run-7.0.2\"><span class=\"toc-item-num\">7.0.2&nbsp;&nbsp;</span>Run</a></span></li></ul></li><li><span><a href=\"#Summary\" data-toc-modified-id=\"Summary-7.1\"><span class=\"toc-item-num\">7.1&nbsp;&nbsp;</span>Summary</a></span><ul class=\"toc-item\"><li><span><a href=\"#MetaQUAST-results\" data-toc-modified-id=\"MetaQUAST-results-7.1.1\"><span class=\"toc-item-num\">7.1.1&nbsp;&nbsp;</span>MetaQUAST results</a></span></li><li><span><a href=\"#ResMiCo-features\" data-toc-modified-id=\"ResMiCo-features-7.1.2\"><span class=\"toc-item-num\">7.1.2&nbsp;&nbsp;</span>ResMiCo features</a></span></li><li><span><a href=\"#metaMIC\" data-toc-modified-id=\"metaMIC-7.1.3\"><span class=\"toc-item-num\">7.1.3&nbsp;&nbsp;</span>metaMIC</a></span><ul class=\"toc-item\"><li><span><a href=\"#True-misassemblies\" data-toc-modified-id=\"True-misassemblies-7.1.3.1\"><span class=\"toc-item-num\">7.1.3.1&nbsp;&nbsp;</span>True misassemblies</a></span></li><li><span><a href=\"#metaMIC-contig-scores\" data-toc-modified-id=\"metaMIC-contig-scores-7.1.3.2\"><span class=\"toc-item-num\">7.1.3.2&nbsp;&nbsp;</span>metaMIC contig scores</a></span></li><li><span><a href=\"#AUCPR\" data-toc-modified-id=\"AUCPR-7.1.3.3\"><span class=\"toc-item-num\">7.1.3.3&nbsp;&nbsp;</span>AUCPR</a></span></li></ul></li></ul></li></ul></li><li><span><a href=\"#sessionInfo\" data-toc-modified-id=\"sessionInfo-8\"><span class=\"toc-item-num\">8&nbsp;&nbsp;</span>sessionInfo</a></span></li></ul></div>"
   ]
  },
  {
   "cell_type": "markdown",
   "id": "4cb2a2d0",
   "metadata": {},
   "source": [
    "# Goal\n",
    "\n",
    "* ResMiCo-SM on CAMI2 HMP-oral dataset\n",
    "  * Using CAMI reference genomes\n",
    "  * Using CAMI reads\n",
    "  * Creating new assemblies via ResMiCo-SM"
   ]
  },
  {
   "cell_type": "markdown",
   "id": "32523586",
   "metadata": {},
   "source": [
    "# Var"
   ]
  },
  {
   "cell_type": "code",
   "execution_count": 1,
   "id": "3f995b83",
   "metadata": {
    "ExecuteTime": {
     "end_time": "2021-10-26T18:27:28.112723Z",
     "start_time": "2021-10-26T18:27:28.022Z"
    }
   },
   "outputs": [],
   "source": [
    "work_dir = '/ebio/abt3_projects/databases_no-backup/CAMI/CAMI2_HMP-oral/short_read/'\n",
    "tmp_dir = '/ebio/abt3_scratch/nyoungblut/CAMI/CAMI2_HMP-oral/'\n",
    "\n",
    "# params\n",
    "threads = 4"
   ]
  },
  {
   "cell_type": "markdown",
   "id": "45dc7241",
   "metadata": {},
   "source": [
    "# Init"
   ]
  },
  {
   "cell_type": "code",
   "execution_count": 3,
   "id": "d69c9c8a",
   "metadata": {
    "ExecuteTime": {
     "end_time": "2021-10-26T18:28:07.187822Z",
     "start_time": "2021-10-26T18:28:07.138Z"
    }
   },
   "outputs": [],
   "source": [
    "library(dplyr)\n",
    "library(tidyr)\n",
    "library(ggplot2)\n",
    "library(data.table)\n",
    "library(tidytable)\n",
    "library(LeyLabRMisc)"
   ]
  },
  {
   "cell_type": "code",
   "execution_count": 4,
   "id": "fe3a96af",
   "metadata": {
    "ExecuteTime": {
     "end_time": "2021-10-26T18:28:08.524470Z",
     "start_time": "2021-10-26T18:28:08.457Z"
    }
   },
   "outputs": [],
   "source": [
    "library(PRROC)"
   ]
  },
  {
   "cell_type": "code",
   "execution_count": 6,
   "id": "6cf702ed",
   "metadata": {
    "ExecuteTime": {
     "end_time": "2021-10-26T18:28:13.973539Z",
     "start_time": "2021-10-26T18:28:13.930Z"
    }
   },
   "outputs": [],
   "source": [
    "df.dims()\n",
    "setDTthreads(threads)"
   ]
  },
  {
   "cell_type": "markdown",
   "id": "8ac4aeae",
   "metadata": {},
   "source": [
    "# Dataset summary"
   ]
  },
  {
   "cell_type": "markdown",
   "id": "57ffb860",
   "metadata": {},
   "source": [
    "## Comm. abund. dist\n",
    "\n",
    "* How does the CAMI community abundance distribution look relative to the ResMiCo-SM simulations?"
   ]
  },
  {
   "cell_type": "code",
   "execution_count": 7,
   "id": "2838c137",
   "metadata": {
    "ExecuteTime": {
     "end_time": "2021-10-26T18:28:57.869621Z",
     "start_time": "2021-10-26T18:28:57.440Z"
    }
   },
   "outputs": [
    {
     "data": {
      "text/html": [
       "<table class=\"dataframe\">\n",
       "<caption>A tidytable: 10570 × 4</caption>\n",
       "<thead>\n",
       "\t<tr><th scope=col>OTU</th><th scope=col>Abundance</th><th scope=col>OTU_rank</th><th scope=col>Sample</th></tr>\n",
       "\t<tr><th scope=col>&lt;chr&gt;</th><th scope=col>&lt;dbl&gt;</th><th scope=col>&lt;int&gt;</th><th scope=col>&lt;chr&gt;</th></tr>\n",
       "</thead>\n",
       "<tbody>\n",
       "\t<tr><td>OTU_97.45322.0</td><td>0</td><td>165</td><td>13</td></tr>\n",
       "\t<tr><td>OTU_97.8273.1 </td><td>0</td><td>166</td><td>13</td></tr>\n",
       "\t<tr><td>⋮</td><td>⋮</td><td>⋮</td><td>⋮</td></tr>\n",
       "\t<tr><td>OTU_97.23623.0</td><td>0</td><td>1056</td><td>8</td></tr>\n",
       "\t<tr><td>OTU_97.13074.0</td><td>0</td><td>1057</td><td>8</td></tr>\n",
       "</tbody>\n",
       "</table>\n"
      ],
      "text/latex": [
       "A tidytable: 10570 × 4\n",
       "\\begin{tabular}{llll}\n",
       " OTU & Abundance & OTU\\_rank & Sample\\\\\n",
       " <chr> & <dbl> & <int> & <chr>\\\\\n",
       "\\hline\n",
       "\t OTU\\_97.45322.0 & 0 & 165 & 13\\\\\n",
       "\t OTU\\_97.8273.1  & 0 & 166 & 13\\\\\n",
       "\t ⋮ & ⋮ & ⋮ & ⋮\\\\\n",
       "\t OTU\\_97.23623.0 & 0 & 1056 & 8\\\\\n",
       "\t OTU\\_97.13074.0 & 0 & 1057 & 8\\\\\n",
       "\\end{tabular}\n"
      ],
      "text/markdown": [
       "\n",
       "A tidytable: 10570 × 4\n",
       "\n",
       "| OTU &lt;chr&gt; | Abundance &lt;dbl&gt; | OTU_rank &lt;int&gt; | Sample &lt;chr&gt; |\n",
       "|---|---|---|---|\n",
       "| OTU_97.45322.0 | 0 | 165 | 13 |\n",
       "| OTU_97.8273.1  | 0 | 166 | 13 |\n",
       "| ⋮ | ⋮ | ⋮ | ⋮ |\n",
       "| OTU_97.23623.0 | 0 | 1056 | 8 |\n",
       "| OTU_97.13074.0 | 0 | 1057 | 8 |\n",
       "\n"
      ],
      "text/plain": [
       "      OTU            Abundance OTU_rank Sample\n",
       "1     OTU_97.45322.0 0         165      13    \n",
       "2     OTU_97.8273.1  0         166      13    \n",
       "⋮     ⋮              ⋮         ⋮        ⋮     \n",
       "10569 OTU_97.23623.0 0         1056     8     \n",
       "10570 OTU_97.13074.0 0         1057     8     "
      ]
     },
     "metadata": {},
     "output_type": "display_data"
    }
   ],
   "source": [
    "F = list.files(work_dir, 'abund.+.tsv', full.names=TRUE)\n",
    "read_table = function(F){\n",
    "    df = Fread(F) %>%\n",
    "        mutate(OTU_rank = row_number(-V2)) \n",
    "    df$Sample = gsub('abundance([0-9]+).+', '\\\\1', basename(F))\n",
    "    return(df)\n",
    "}\n",
    "\n",
    "comm = F %>%\n",
    "    lapply(read_table) %>%\n",
    "    rbindlist(use.names=TRUE) %>%\n",
    "    rename.('OTU' = V1,\n",
    "            'Abundance' = V2)\n",
    "comm"
   ]
  },
  {
   "cell_type": "code",
   "execution_count": 8,
   "id": "0ac4b58b",
   "metadata": {
    "ExecuteTime": {
     "end_time": "2021-10-26T18:29:03.599843Z",
     "start_time": "2021-10-26T18:29:03.520Z"
    }
   },
   "outputs": [
    {
     "data": {
      "text/html": [
       "<table class=\"dataframe\">\n",
       "<caption>A matrix: 1 × 8 of type dbl</caption>\n",
       "<thead>\n",
       "\t<tr><th></th><th scope=col>Min.</th><th scope=col>1st Qu.</th><th scope=col>Median</th><th scope=col>Mean</th><th scope=col>3rd Qu.</th><th scope=col>Max.</th><th scope=col>sd</th><th scope=col>sd_err_of_mean</th></tr>\n",
       "</thead>\n",
       "<tbody>\n",
       "\t<tr><th scope=row>Abundance</th><td>0</td><td>0</td><td>0</td><td>0.8173132</td><td>0</td><td>445</td><td>181.604</td><td>74.14</td></tr>\n",
       "</tbody>\n",
       "</table>\n"
      ],
      "text/latex": [
       "A matrix: 1 × 8 of type dbl\n",
       "\\begin{tabular}{r|llllllll}\n",
       "  & Min. & 1st Qu. & Median & Mean & 3rd Qu. & Max. & sd & sd\\_err\\_of\\_mean\\\\\n",
       "\\hline\n",
       "\tAbundance & 0 & 0 & 0 & 0.8173132 & 0 & 445 & 181.604 & 74.14\\\\\n",
       "\\end{tabular}\n"
      ],
      "text/markdown": [
       "\n",
       "A matrix: 1 × 8 of type dbl\n",
       "\n",
       "| <!--/--> | Min. | 1st Qu. | Median | Mean | 3rd Qu. | Max. | sd | sd_err_of_mean |\n",
       "|---|---|---|---|---|---|---|---|---|\n",
       "| Abundance | 0 | 0 | 0 | 0.8173132 | 0 | 445 | 181.604 | 74.14 |\n",
       "\n"
      ],
      "text/plain": [
       "          Min. 1st Qu. Median Mean      3rd Qu. Max. sd      sd_err_of_mean\n",
       "Abundance 0    0       0      0.8173132 0       445  181.604 74.14         "
      ]
     },
     "metadata": {},
     "output_type": "display_data"
    },
    {
     "data": {
      "text/html": [
       "<table class=\"dataframe\">\n",
       "<caption>A matrix: 1 × 8 of type dbl</caption>\n",
       "<thead>\n",
       "\t<tr><th></th><th scope=col>Min.</th><th scope=col>1st Qu.</th><th scope=col>Median</th><th scope=col>Mean</th><th scope=col>3rd Qu.</th><th scope=col>Max.</th><th scope=col>sd</th><th scope=col>sd_err_of_mean</th></tr>\n",
       "</thead>\n",
       "<tbody>\n",
       "\t<tr><th scope=row>OTU_rank</th><td>1</td><td>265</td><td>529</td><td>529</td><td>793</td><td>1057</td><td>373.352</td><td>152.42</td></tr>\n",
       "</tbody>\n",
       "</table>\n"
      ],
      "text/latex": [
       "A matrix: 1 × 8 of type dbl\n",
       "\\begin{tabular}{r|llllllll}\n",
       "  & Min. & 1st Qu. & Median & Mean & 3rd Qu. & Max. & sd & sd\\_err\\_of\\_mean\\\\\n",
       "\\hline\n",
       "\tOTU\\_rank & 1 & 265 & 529 & 529 & 793 & 1057 & 373.352 & 152.42\\\\\n",
       "\\end{tabular}\n"
      ],
      "text/markdown": [
       "\n",
       "A matrix: 1 × 8 of type dbl\n",
       "\n",
       "| <!--/--> | Min. | 1st Qu. | Median | Mean | 3rd Qu. | Max. | sd | sd_err_of_mean |\n",
       "|---|---|---|---|---|---|---|---|---|\n",
       "| OTU_rank | 1 | 265 | 529 | 529 | 793 | 1057 | 373.352 | 152.42 |\n",
       "\n"
      ],
      "text/plain": [
       "         Min. 1st Qu. Median Mean 3rd Qu. Max. sd      sd_err_of_mean\n",
       "OTU_rank 1    265     529    529  793     1057 373.352 152.42        "
      ]
     },
     "metadata": {},
     "output_type": "display_data"
    }
   ],
   "source": [
    "# abundance distribution\n",
    "summary_x(comm$Abundance)\n",
    "summary_x(comm$OTU_rank)"
   ]
  },
  {
   "cell_type": "code",
   "execution_count": 23,
   "id": "b11ebe3b",
   "metadata": {
    "ExecuteTime": {
     "end_time": "2021-10-26T18:32:30.702195Z",
     "start_time": "2021-10-26T18:32:30.600Z"
    }
   },
   "outputs": [
    {
     "data": {
      "text/html": [
       "<table class=\"dataframe\">\n",
       "<caption>A tidytable: 300 × 3</caption>\n",
       "<thead>\n",
       "\t<tr><th scope=col>Abundance_null</th><th scope=col>OTU</th><th scope=col>dataset</th></tr>\n",
       "\t<tr><th scope=col>&lt;dbl&gt;</th><th scope=col>&lt;int&gt;</th><th scope=col>&lt;chr&gt;</th></tr>\n",
       "</thead>\n",
       "<tbody>\n",
       "\t<tr><td>0.0002772364</td><td>100</td><td>mean=10,sd=2</td></tr>\n",
       "\t<tr><td>0.0003451482</td><td> 99</td><td>mean=10,sd=2</td></tr>\n",
       "\t<tr><td>⋮</td><td>⋮</td><td>⋮</td></tr>\n",
       "\t<tr><td>12.79412</td><td>2</td><td>mean=10,sd=2</td></tr>\n",
       "\t<tr><td>17.21779</td><td>1</td><td>mean=10,sd=2</td></tr>\n",
       "</tbody>\n",
       "</table>\n"
      ],
      "text/latex": [
       "A tidytable: 300 × 3\n",
       "\\begin{tabular}{lll}\n",
       " Abundance\\_null & OTU & dataset\\\\\n",
       " <dbl> & <int> & <chr>\\\\\n",
       "\\hline\n",
       "\t 0.0002772364 & 100 & mean=10,sd=2\\\\\n",
       "\t 0.0003451482 &  99 & mean=10,sd=2\\\\\n",
       "\t ⋮ & ⋮ & ⋮\\\\\n",
       "\t 12.79412 & 2 & mean=10,sd=2\\\\\n",
       "\t 17.21779 & 1 & mean=10,sd=2\\\\\n",
       "\\end{tabular}\n"
      ],
      "text/markdown": [
       "\n",
       "A tidytable: 300 × 3\n",
       "\n",
       "| Abundance_null &lt;dbl&gt; | OTU &lt;int&gt; | dataset &lt;chr&gt; |\n",
       "|---|---|---|\n",
       "| 0.0002772364 | 100 | mean=10,sd=2 |\n",
       "| 0.0003451482 |  99 | mean=10,sd=2 |\n",
       "| ⋮ | ⋮ | ⋮ |\n",
       "| 12.79412 | 2 | mean=10,sd=2 |\n",
       "| 17.21779 | 1 | mean=10,sd=2 |\n",
       "\n"
      ],
      "text/plain": [
       "    Abundance_null OTU dataset     \n",
       "1   0.0002772364   100 mean=10,sd=2\n",
       "2   0.0003451482    99 mean=10,sd=2\n",
       "⋮   ⋮              ⋮   ⋮           \n",
       "299 12.79412       2   mean=10,sd=2\n",
       "300 17.21779       1   mean=10,sd=2"
      ]
     },
     "metadata": {},
     "output_type": "display_data"
    }
   ],
   "source": [
    "# null\n",
    "n_taxa = 100\n",
    "df0 = data.frame(Abundance_null = rlnorm(n_taxa, meanlog=2, sdlog=0.5)) %>%\n",
    "    mutate(OTU = row_number(-Abundance_null)) %>%\n",
    "    mutate.(Abundance_null = Abundance_null / sum(Abundance_null) * 100,\n",
    "            dataset = 'mean=10,sd=0.5')\n",
    "df1 = data.frame(Abundance_null = rlnorm(n_taxa, meanlog=2, sdlog=1)) %>%\n",
    "    mutate(OTU = row_number(-Abundance_null)) %>%\n",
    "    mutate.(Abundance_null = Abundance_null / sum(Abundance_null) * 100,\n",
    "            dataset = 'mean=10,sd=1')\n",
    "df2 = data.frame(Abundance_null = rlnorm(n_taxa, meanlog=2, sdlog=2)) %>%\n",
    "    mutate(OTU = row_number(-Abundance_null)) %>%\n",
    "    mutate.(Abundance_null = Abundance_null / sum(Abundance_null) * 100,\n",
    "            dataset = 'mean=10,sd=2')\n",
    "df = rbindlist(list(df0, df1, df2), use.names=TRUE)\n",
    "df %>% arrange.(Abundance_null)"
   ]
  },
  {
   "cell_type": "code",
   "execution_count": 24,
   "id": "56d14dce",
   "metadata": {
    "ExecuteTime": {
     "end_time": "2021-10-26T18:32:33.443716Z",
     "start_time": "2021-10-26T18:32:31.687Z"
    }
   },
   "outputs": [
    {
     "name": "stdout",
     "output_type": "stream",
     "text": [
      "No. of unique OTUs: 799 \n"
     ]
    },
    {
     "name": "stderr",
     "output_type": "stream",
     "text": [
      "Warning message:\n",
      "“Transformation introduced infinite values in continuous y-axis”\n"
     ]
    },
    {
     "data": {
      "image/png": "[encoded data removed]",
      "text/plain": [
       "plot without title"
      ]
     },
     "metadata": {
      "image/png": {
       "height": 500,
       "width": 800
      }
     },
     "output_type": "display_data"
    }
   ],
   "source": [
    "# plotting\n",
    " comm %>%\n",
    "    summarize.(sum_abund = sum(Abundance),\n",
    "            .by=c(OTU)) %>%\n",
    "    filter.(sum_abund > 0) %>%\n",
    "    .$OTU %>% unique_n('OTUs')\n",
    "\n",
    "p = comm %>%\n",
    "    mutate.(OTU = OTU_rank) %>%\n",
    "    mutate.(sum_abund = sum(Abundance),\n",
    "            .by=c(OTU)) %>%\n",
    "    filter.(sum_abund > 0) %>%\n",
    "    mutate.(Sample = Sample %>% reorder(Sample %>% as.Num)) %>%\n",
    "    inner_join.(df, c('OTU'='OTU')) %>%\n",
    "    ggplot(aes(OTU, Abundance)) +\n",
    "    geom_line(aes(y=Abundance_null, color=dataset), size=0.5) +\n",
    "    geom_point(size=0.5) +\n",
    "    scale_color_discrete('Lognorm params') +\n",
    "    scale_y_log10() +\n",
    "    labs(y='% abundance') +\n",
    "    facet_wrap(~ Sample) +\n",
    "    theme_bw() +\n",
    "    theme(\n",
    "        panel.grid = element_blank()\n",
    "    )\n",
    "p.dims(8,5)\n",
    "plot(p)"
   ]
  },
  {
   "cell_type": "markdown",
   "id": "3ac86728",
   "metadata": {},
   "source": [
    "# LLMGP\n",
    "\n",
    "* Checking abundance distributions of the reads"
   ]
  },
  {
   "cell_type": "markdown",
   "id": "88f907b2",
   "metadata": {},
   "source": [
    "### Config"
   ]
  },
  {
   "cell_type": "code",
   "execution_count": 33,
   "id": "67532815",
   "metadata": {
    "ExecuteTime": {
     "end_time": "2021-10-27T13:18:56.572819Z",
     "start_time": "2021-10-27T13:18:56.519Z"
    }
   },
   "outputs": [
    {
     "name": "stdout",
     "output_type": "stream",
     "text": [
      "# DESCRIPTION:\n",
      "## This is an example of running the pipeline with a custom humann2 db.\n",
      "## This config is set up to just use the custom nucleotide db, but the protein db could be used also (or instead)\n",
      "\n",
      "#-- I/O --#\n",
      "# table with sample --> read_file information\n",
      "samples_file: /ebio/abt3_scratch/nyoungblut/CAMI/CAMI2_HMP-oral/samples.tsv\n",
      "\n",
      "# output location\n",
      "output_dir:  /ebio/abt3_projects/databases_no-backup/DeepMAsED/version2/CAMI/CAMI2_HMP-oral/short_read/LLMGP/\n",
      "\n",
      "# temporary file directory (your username will be added automatically)\n",
      "tmp_dir: /ebio/abt3_scratch/\n",
      "\n",
      "# read file path\n",
      "# use \"None\" if full file path is included in the samples_file\n",
      "read_file_path: None\n",
      "\n",
      "#-- DB --#\n",
      "# NOTE: the humann & kraken databases were built from the GTDB\n",
      "## humann3\n",
      "humann3_dbs:\n",
      "  metaphlan3_mpa_db: /ebio/abt3_projects/databases_no-backup/metaphlan3/201901/mpa_v30_CHOCOPhlAn_201901_marker_info.txt\n",
      "  nuc_db: /ebio/abt3_projects/databases_no-backup/GTDB/release202/Struo2/humann3/uniref50/genome_reps_filt_annot.fna.gz\n",
      "  prot_db: /ebio/abt3_projects/databases_no-backup/GTDB/release202/Struo2/humann3/uniref50/protein_database/uniref50_201901.dmnd\n",
      "  utility_mapping_db: /ebio/abt3_projects/databases_no-backup/humann3/201901/utility_mapping/README.md\n",
      "  genefamily_annotation_db: /ebio/abt3_projects/databases_no-backup/humann3/201901/utility_mapping/map_uniref50_name.txt.gz\n",
      "## kraken/bracken (db selected automatically based on read length)\n",
      "kraken_dbs:\n",
      "  hash: /ebio/abt3_projects/databases_no-backup/GTDB/release202/Struo2/kraken2/hash.k2d\n",
      "  opts: /ebio/abt3_projects/databases_no-backup/GTDB/release202/Struo2/kraken2/opts.k2d\n",
      "  taxo: /ebio/abt3_projects/databases_no-backup/GTDB/release202/Struo2/kraken2/taxo.k2d\n",
      "  taxdump: /ebio/abt3_projects/databases_no-backup/GTDB/release202/taxdump/names.dmp\n",
      "  tree: /ebio/abt3_projects/databases_no-backup/GTDB/release202/Struo2/phylogeny/kraken.nwk \n",
      "bracken_dbs:\n",
      "  150: /ebio/abt3_projects/databases_no-backup/GTDB/release202/Struo2/kraken2/database150mers.kmer_distrib\n",
      "  100: /ebio/abt3_projects/databases_no-backup/GTDB/release202/Struo2/kraken2/database100mers.kmer_distrib\n",
      "genome_content_dbs:\n",
      "  cog: /ebio/abt3_projects/databases_no-backup/GTDB/release202/Struo2/genome_content/uniref90_cog-categories.tsv\n",
      "  pfam: /ebio/abt3_projects/databases_no-backup/GTDB/release202/Struo2/genome_content/uniref90_pfam-categories.tsv\n",
      "  traitar: /ebio/abt3_projects/databases_no-backup/GTDB/release202/Struo2/genome_content/traitar_majority-votes.tsv\n",
      "# EukDetect\n",
      "eukdetect_dbs:\n",
      "  bt2: /ebio/abt3_projects/databases_no-backup/EukDetect/eukdetect_database_v1/all_buscos_v4.fna\n",
      "  taxid: /ebio/abt3_projects/databases_no-backup/EukDetect/eukdetect_database_v1/busco_taxid_link.txt\n",
      "  markers: /ebio/abt3_projects/databases_no-backup/EukDetect/eukdetect_database_v1/specific_and_inherited_markers_per_taxid.txt\n",
      "  sqlite: /ebio/abt3_projects/databases_no-backup/EukDetect/eukdetect_database_v1/taxa.sqlite\n",
      "# raspir\n",
      "raspir_dbs:\n",
      "  fasta: /ebio/abt3_projects/databases_no-backup/raspir/bacteria-archaea/complete_bac-arc_201910_3.fasta.gz\n",
      "\n",
      "#-- subsample --#\n",
      "# subsampling input reads \n",
      "## \"Skip\" skips subsampling; otherwise set the number of reads to subsample\n",
      "subsample_depth: 5000000\n",
      "subsample_seed: 18938\n",
      "\n",
      "#-- include read2 (if paired-end) --#\n",
      "# combine R1 & R2 or just use R1?\n",
      "include_read2: True\n",
      "\n",
      "#-- humann3 groupings --#\n",
      "# always have at least the \"*_default\" grouping\n",
      "humann_regroup:\n",
      "  - uniref50_default\n",
      "  - uniref50_go\n",
      "  - uniref50_ko\n",
      "  - uniref50_eggnog\n",
      "  - uniref50_pfam\n",
      "  - uniref50_level4ec\n",
      "  - uniref50_rxn\n",
      "\n",
      "#-- master control --#\n",
      "# high-level control of major pipeline steps\n",
      "run_humann3: Skip #True\n",
      "run_kraken2_bracken: True\n",
      "run_simka: Skip #True\n",
      "run_hulk: Skip #True\n",
      "run_raspir: Skip #True\n",
      "run_eukdetect: Skip #True\n",
      "\n",
      "#-- software parameters --#\n",
      "# Use \"Skip\" to skip particular steps\n",
      "params:\n",
      "  ionice: -c 3  \n",
      "  # humann3\n",
      "  metaphlan3: -t rel_ab\n",
      "  humann3:\n",
      "    run: --gap-fill on --bypass-nucleotide-index --search-mode uniref50 --memory-use maximum --remove-temp-output\n",
      "    diamond: --mid-sensitive --query-cover 80 --id 50 --max-target-seqs 1 --block-size 4 --index-chunks 2 \n",
      "    diamond_evalue: 0.001\n",
      "    reduce_taxonomic_profile: --function max --sort-by level\n",
      "    renorm_table: --units relab\n",
      "    diversity:\n",
      "      pathway_coverage_cutoff: 0.8  # pathways w/ < coverage changed to 0\n",
      "      rarefy_depths:           # multiple rarefying depths allowed\n",
      "        - Skip\n",
      "        - 100000\n",
      "        - 500000\n",
      "      rarefy_params: flexible\n",
      "      alpha_metrics:\n",
      "        - shannon\n",
      "        - pielou_e\n",
      "      beta_metrics:\n",
      "        - braycurtis\n",
      "        - jaccard\n",
      "  # kraken/bracken\n",
      "  krk_brk:\n",
      "    kraken: \"\"\n",
      "    bracken: -t 10 -l S        # species level (S); `-r` parameter set automatically\n",
      "    diversity:\n",
      "      rarefy_depths:           # multiple rarefying depths allowed\n",
      "        - Skip\n",
      "        - 50000\n",
      "      rarefy_params: --p-no-with-replacement\n",
      "      alpha_metrics:\n",
      "        - shannon\n",
      "        - pielou_e\n",
      "      alpha_phylo_metrics:\n",
      "        - faith_pd\n",
      "      beta_metrics:\n",
      "        - braycurtis\n",
      "        - jaccard\n",
      "      beta_phylo_metrics:\n",
      "        - weighted_unifrac    \n",
      "        - unweighted_unifrac\n",
      "      ecophylogenetic: \"\"\n",
      "      functional: Skip\n",
      "      hill:\n",
      "        taxa: --hill-number 0 1 2\n",
      "        phylogeny: --hill-number 0 1 2\n",
      "        function: --hill-number 0 1 2\n",
      "  # simka \n",
      "  simka:\n",
      "    run: -kmer-size 31 -abundance-min 2 -simple-dist -max-reads 1000000\n",
      "    vis: -width 8 -height 8 -pca -heatmap\n",
      "  # hulk\n",
      "  hulk:\n",
      "    histosketch: -k 21 -m 2\n",
      "    distance: \n",
      "      - jaccard\n",
      "      - braycurtis\n",
      "  # raspir\n",
      "  raspir:\n",
      "    run: \"\"\n",
      "  # EukDetect\n",
      "  eukdetect:\n",
      "    min_read_len: 80\n",
      "\n",
      "#-- snakemake pipeline --#\n",
      "pipeline:\n",
      "  snakemake_folder: ./\n",
      "  script_folder: ./bin/scripts/\n",
      "  name: LLMGP"
     ]
    }
   ],
   "source": [
    "F = file.path(work_dir, 'LLMGP', 'config_custom-db_r202.yaml')\n",
    "cat_file(F)"
   ]
  },
  {
   "cell_type": "markdown",
   "id": "e190f817",
   "metadata": {},
   "source": [
    "### Run"
   ]
  },
  {
   "cell_type": "markdown",
   "id": "153cc077",
   "metadata": {},
   "source": [
    "```\n",
    "(snakemake) @ rick:/ebio/abt3_projects/software/dev/ll_pipelines/llmgp\n",
    "$ screen -L -S llmgp-cami-oral ./snakemake_sge.sh /ebio/abt3_projects/databases_no-backup/DeepMAsED/version2/CAMI/CAMI2_HMP-oral/short_read/LLMGP/config_custom-db_r202.yaml 20 -F\n",
    "```"
   ]
  },
  {
   "cell_type": "markdown",
   "id": "7e0e3c2d",
   "metadata": {},
   "source": [
    "## Summary"
   ]
  },
  {
   "cell_type": "code",
   "execution_count": 34,
   "id": "fbf57b2d",
   "metadata": {
    "ExecuteTime": {
     "end_time": "2021-10-27T17:26:44.924691Z",
     "start_time": "2021-10-27T17:26:44.718Z"
    }
   },
   "outputs": [
    {
     "data": {
      "text/html": [
       "<table class=\"dataframe\">\n",
       "<caption>A tidytable: 34130 × 12</caption>\n",
       "<thead>\n",
       "\t<tr><th scope=col>name</th><th scope=col>taxonomy_id</th><th scope=col>taxonomy_lvl</th><th scope=col>Domain</th><th scope=col>Phylum</th><th scope=col>Class</th><th scope=col>Order</th><th scope=col>Family</th><th scope=col>Genus</th><th scope=col>Species</th><th scope=col>Sample</th><th scope=col>Abundance</th></tr>\n",
       "\t<tr><th scope=col>&lt;chr&gt;</th><th scope=col>&lt;int&gt;</th><th scope=col>&lt;chr&gt;</th><th scope=col>&lt;chr&gt;</th><th scope=col>&lt;chr&gt;</th><th scope=col>&lt;chr&gt;</th><th scope=col>&lt;chr&gt;</th><th scope=col>&lt;chr&gt;</th><th scope=col>&lt;chr&gt;</th><th scope=col>&lt;chr&gt;</th><th scope=col>&lt;chr&gt;</th><th scope=col>&lt;dbl&gt;</th></tr>\n",
       "</thead>\n",
       "<tbody>\n",
       "\t<tr><td>s__Epulopiscium_B sp002007295</td><td>268279</td><td>S</td><td>Bacteria</td><td>Firmicutes_A    </td><td>Clostridia     </td><td>Lachnospirales   </td><td>Cellulosilyticaceae</td><td>Epulopiscium_B </td><td>Epulopiscium_B sp002007295</td><td>X2017_12_04_18_45_54_sample_13</td><td>0</td></tr>\n",
       "\t<tr><td>s__Campylobacter_B sputorum_B</td><td>250999</td><td>S</td><td>Bacteria</td><td>Campylobacterota</td><td>Campylobacteria</td><td>Campylobacterales</td><td>Campylobacteraceae </td><td>Campylobacter_B</td><td>Campylobacter_B sputorum_B</td><td>X2017_12_04_18_45_54_sample_13</td><td>0</td></tr>\n",
       "\t<tr><td>⋮</td><td>⋮</td><td>⋮</td><td>⋮</td><td>⋮</td><td>⋮</td><td>⋮</td><td>⋮</td><td>⋮</td><td>⋮</td><td>⋮</td><td>⋮</td></tr>\n",
       "\t<tr><td>s__DSWB01 sp011368175 </td><td>305454</td><td>S</td><td>Bacteria</td><td>UBP15     </td><td>UBA6099</td><td>UBA6099   </td><td>DSWB01       </td><td>DSWB01    </td><td>DSWB01 sp011368175 </td><td>X2017_12_04_18_45_54_sample_8</td><td>0</td></tr>\n",
       "\t<tr><td>s__Bacillus_A tropicus</td><td>149106</td><td>S</td><td>Bacteria</td><td>Firmicutes</td><td>Bacilli</td><td>Bacillales</td><td>Bacillaceae_G</td><td>Bacillus_A</td><td>Bacillus_A tropicus</td><td>X2017_12_04_18_45_54_sample_8</td><td>0</td></tr>\n",
       "</tbody>\n",
       "</table>\n"
      ],
      "text/latex": [
       "A tidytable: 34130 × 12\n",
       "\\begin{tabular}{llllllllllll}\n",
       " name & taxonomy\\_id & taxonomy\\_lvl & Domain & Phylum & Class & Order & Family & Genus & Species & Sample & Abundance\\\\\n",
       " <chr> & <int> & <chr> & <chr> & <chr> & <chr> & <chr> & <chr> & <chr> & <chr> & <chr> & <dbl>\\\\\n",
       "\\hline\n",
       "\t s\\_\\_Epulopiscium\\_B sp002007295 & 268279 & S & Bacteria & Firmicutes\\_A     & Clostridia      & Lachnospirales    & Cellulosilyticaceae & Epulopiscium\\_B  & Epulopiscium\\_B sp002007295 & X2017\\_12\\_04\\_18\\_45\\_54\\_sample\\_13 & 0\\\\\n",
       "\t s\\_\\_Campylobacter\\_B sputorum\\_B & 250999 & S & Bacteria & Campylobacterota & Campylobacteria & Campylobacterales & Campylobacteraceae  & Campylobacter\\_B & Campylobacter\\_B sputorum\\_B & X2017\\_12\\_04\\_18\\_45\\_54\\_sample\\_13 & 0\\\\\n",
       "\t ⋮ & ⋮ & ⋮ & ⋮ & ⋮ & ⋮ & ⋮ & ⋮ & ⋮ & ⋮ & ⋮ & ⋮\\\\\n",
       "\t s\\_\\_DSWB01 sp011368175  & 305454 & S & Bacteria & UBP15      & UBA6099 & UBA6099    & DSWB01        & DSWB01     & DSWB01 sp011368175  & X2017\\_12\\_04\\_18\\_45\\_54\\_sample\\_8 & 0\\\\\n",
       "\t s\\_\\_Bacillus\\_A tropicus & 149106 & S & Bacteria & Firmicutes & Bacilli & Bacillales & Bacillaceae\\_G & Bacillus\\_A & Bacillus\\_A tropicus & X2017\\_12\\_04\\_18\\_45\\_54\\_sample\\_8 & 0\\\\\n",
       "\\end{tabular}\n"
      ],
      "text/markdown": [
       "\n",
       "A tidytable: 34130 × 12\n",
       "\n",
       "| name &lt;chr&gt; | taxonomy_id &lt;int&gt; | taxonomy_lvl &lt;chr&gt; | Domain &lt;chr&gt; | Phylum &lt;chr&gt; | Class &lt;chr&gt; | Order &lt;chr&gt; | Family &lt;chr&gt; | Genus &lt;chr&gt; | Species &lt;chr&gt; | Sample &lt;chr&gt; | Abundance &lt;dbl&gt; |\n",
       "|---|---|---|---|---|---|---|---|---|---|---|---|\n",
       "| s__Epulopiscium_B sp002007295 | 268279 | S | Bacteria | Firmicutes_A     | Clostridia      | Lachnospirales    | Cellulosilyticaceae | Epulopiscium_B  | Epulopiscium_B sp002007295 | X2017_12_04_18_45_54_sample_13 | 0 |\n",
       "| s__Campylobacter_B sputorum_B | 250999 | S | Bacteria | Campylobacterota | Campylobacteria | Campylobacterales | Campylobacteraceae  | Campylobacter_B | Campylobacter_B sputorum_B | X2017_12_04_18_45_54_sample_13 | 0 |\n",
       "| ⋮ | ⋮ | ⋮ | ⋮ | ⋮ | ⋮ | ⋮ | ⋮ | ⋮ | ⋮ | ⋮ | ⋮ |\n",
       "| s__DSWB01 sp011368175  | 305454 | S | Bacteria | UBP15      | UBA6099 | UBA6099    | DSWB01        | DSWB01     | DSWB01 sp011368175  | X2017_12_04_18_45_54_sample_8 | 0 |\n",
       "| s__Bacillus_A tropicus | 149106 | S | Bacteria | Firmicutes | Bacilli | Bacillales | Bacillaceae_G | Bacillus_A | Bacillus_A tropicus | X2017_12_04_18_45_54_sample_8 | 0 |\n",
       "\n"
      ],
      "text/plain": [
       "      name                          taxonomy_id taxonomy_lvl Domain  \n",
       "1     s__Epulopiscium_B sp002007295 268279      S            Bacteria\n",
       "2     s__Campylobacter_B sputorum_B 250999      S            Bacteria\n",
       "⋮     ⋮                             ⋮           ⋮            ⋮       \n",
       "34129 s__DSWB01 sp011368175         305454      S            Bacteria\n",
       "34130 s__Bacillus_A tropicus        149106      S            Bacteria\n",
       "      Phylum           Class           Order             Family             \n",
       "1     Firmicutes_A     Clostridia      Lachnospirales    Cellulosilyticaceae\n",
       "2     Campylobacterota Campylobacteria Campylobacterales Campylobacteraceae \n",
       "⋮     ⋮                ⋮               ⋮                 ⋮                  \n",
       "34129 UBP15            UBA6099         UBA6099           DSWB01             \n",
       "34130 Firmicutes       Bacilli         Bacillales        Bacillaceae_G      \n",
       "      Genus           Species                    Sample                        \n",
       "1     Epulopiscium_B  Epulopiscium_B sp002007295 X2017_12_04_18_45_54_sample_13\n",
       "2     Campylobacter_B Campylobacter_B sputorum_B X2017_12_04_18_45_54_sample_13\n",
       "⋮     ⋮               ⋮                          ⋮                             \n",
       "34129 DSWB01          DSWB01 sp011368175         X2017_12_04_18_45_54_sample_8 \n",
       "34130 Bacillus_A      Bacillus_A tropicus        X2017_12_04_18_45_54_sample_8 \n",
       "      Abundance\n",
       "1     0        \n",
       "2     0        \n",
       "⋮     ⋮        \n",
       "34129 0        \n",
       "34130 0        "
      ]
     },
     "metadata": {},
     "output_type": "display_data"
    }
   ],
   "source": [
    "D = '/ebio/abt3_projects/databases_no-backup/DeepMAsED/version2/CAMI/CAMI2_HMP-oral/short_read/LLMGP/'\n",
    "F = file.path(D, 'kraken', 'all-combined-bracken.tsv')\n",
    "brk = read_bracken(F)\n",
    "brk"
   ]
  },
  {
   "cell_type": "code",
   "execution_count": 37,
   "id": "3d89878f",
   "metadata": {
    "ExecuteTime": {
     "end_time": "2021-10-27T17:27:30.372203Z",
     "start_time": "2021-10-27T17:27:29.252Z"
    }
   },
   "outputs": [
    {
     "data": {
      "image/png": "[encoded data removed]",
      "text/plain": [
       "plot without title"
      ]
     },
     "metadata": {
      "image/png": {
       "height": 500,
       "width": 800
      }
     },
     "output_type": "display_data"
    }
   ],
   "source": [
    "# plotting\n",
    "p = brk %>%\n",
    "    filter.(Abundance > 0) %>%\n",
    "    mutate.(Abundance = Abundance * 100) %>%\n",
    "    mutate.(Rank = min_rank(-Abundance),\n",
    "            .by=c(Sample)) %>%\n",
    "    mutate.(Sample = gsub('.+_', '', Sample)) %>%\n",
    "    ggplot(aes(Rank, Abundance)) +\n",
    "    geom_point(size=0.2) +\n",
    "    scale_y_log10() +\n",
    "    labs(y='Abundance (%)') +\n",
    "    facet_wrap(~ Sample) +\n",
    "    theme_bw()\n",
    "p.dims(8,5)\n",
    "plot(p)"
   ]
  },
  {
   "cell_type": "code",
   "execution_count": 40,
   "id": "b8d07aab",
   "metadata": {
    "ExecuteTime": {
     "end_time": "2021-10-27T17:28:51.872352Z",
     "start_time": "2021-10-27T17:28:51.793Z"
    }
   },
   "outputs": [
    {
     "data": {
      "text/html": [
       "<table class=\"dataframe\">\n",
       "<caption>A tidytable: 10 × 7</caption>\n",
       "<thead>\n",
       "\t<tr><th scope=col>Phylum</th><th scope=col>Class</th><th scope=col>Order</th><th scope=col>Family</th><th scope=col>Genus</th><th scope=col>Species</th><th scope=col>Abundance</th></tr>\n",
       "\t<tr><th scope=col>&lt;chr&gt;</th><th scope=col>&lt;chr&gt;</th><th scope=col>&lt;chr&gt;</th><th scope=col>&lt;chr&gt;</th><th scope=col>&lt;chr&gt;</th><th scope=col>&lt;chr&gt;</th><th scope=col>&lt;dbl&gt;</th></tr>\n",
       "</thead>\n",
       "<tbody>\n",
       "\t<tr><td>Firmicutes      </td><td>Bacilli            </td><td>Lactobacillales  </td><td>Streptococcaceae  </td><td>Streptococcus  </td><td>Streptococcus suis      </td><td>0.240897</td></tr>\n",
       "\t<tr><td>Firmicutes      </td><td>Bacilli            </td><td>Lactobacillales  </td><td>Aerococcaceae     </td><td>Jeotgalibaca   </td><td>Jeotgalibaca arthritidis</td><td>0.083763</td></tr>\n",
       "\t<tr><td>Proteobacteria  </td><td>Gammaproteobacteria</td><td>Burkholderiales  </td><td>Neisseriaceae     </td><td>Neisseria      </td><td>Neisseria meningitidis  </td><td>0.051548</td></tr>\n",
       "\t<tr><td>Campylobacterota</td><td>Campylobacteria    </td><td>Campylobacterales</td><td>Campylobacteraceae</td><td>Campylobacter_D</td><td>Campylobacter_D jejuni  </td><td>0.049469</td></tr>\n",
       "\t<tr><td>Proteobacteria  </td><td>Gammaproteobacteria</td><td>Enterobacterales </td><td>Pasteurellaceae   </td><td>Haemophilus_B  </td><td>Haemophilus_B ducreyi   </td><td>0.043720</td></tr>\n",
       "\t<tr><td>Firmicutes      </td><td>Bacilli            </td><td>Lactobacillales  </td><td>Streptococcaceae  </td><td>Streptococcus  </td><td>Streptococcus pyogenes  </td><td>0.039211</td></tr>\n",
       "\t<tr><td>Firmicutes      </td><td>Bacilli            </td><td>Lactobacillales  </td><td>Streptococcaceae  </td><td>Streptococcus  </td><td>Streptococcus agalactiae</td><td>0.024552</td></tr>\n",
       "\t<tr><td>Firmicutes      </td><td>Bacilli            </td><td>Lactobacillales  </td><td>Streptococcaceae  </td><td>Streptococcus  </td><td>Streptococcus mitis_Q   </td><td>0.024101</td></tr>\n",
       "\t<tr><td>Proteobacteria  </td><td>Gammaproteobacteria</td><td>Burkholderiales  </td><td>Burkholderiaceae  </td><td>Burkholderia   </td><td>Burkholderia mallei     </td><td>0.020823</td></tr>\n",
       "\t<tr><td>Firmicutes      </td><td>Bacilli            </td><td>Lactobacillales  </td><td>Streptococcaceae  </td><td>Streptococcus  </td><td>Streptococcus parauberis</td><td>0.013553</td></tr>\n",
       "</tbody>\n",
       "</table>\n"
      ],
      "text/latex": [
       "A tidytable: 10 × 7\n",
       "\\begin{tabular}{lllllll}\n",
       " Phylum & Class & Order & Family & Genus & Species & Abundance\\\\\n",
       " <chr> & <chr> & <chr> & <chr> & <chr> & <chr> & <dbl>\\\\\n",
       "\\hline\n",
       "\t Firmicutes       & Bacilli             & Lactobacillales   & Streptococcaceae   & Streptococcus   & Streptococcus suis       & 0.240897\\\\\n",
       "\t Firmicutes       & Bacilli             & Lactobacillales   & Aerococcaceae      & Jeotgalibaca    & Jeotgalibaca arthritidis & 0.083763\\\\\n",
       "\t Proteobacteria   & Gammaproteobacteria & Burkholderiales   & Neisseriaceae      & Neisseria       & Neisseria meningitidis   & 0.051548\\\\\n",
       "\t Campylobacterota & Campylobacteria     & Campylobacterales & Campylobacteraceae & Campylobacter\\_D & Campylobacter\\_D jejuni   & 0.049469\\\\\n",
       "\t Proteobacteria   & Gammaproteobacteria & Enterobacterales  & Pasteurellaceae    & Haemophilus\\_B   & Haemophilus\\_B ducreyi    & 0.043720\\\\\n",
       "\t Firmicutes       & Bacilli             & Lactobacillales   & Streptococcaceae   & Streptococcus   & Streptococcus pyogenes   & 0.039211\\\\\n",
       "\t Firmicutes       & Bacilli             & Lactobacillales   & Streptococcaceae   & Streptococcus   & Streptococcus agalactiae & 0.024552\\\\\n",
       "\t Firmicutes       & Bacilli             & Lactobacillales   & Streptococcaceae   & Streptococcus   & Streptococcus mitis\\_Q    & 0.024101\\\\\n",
       "\t Proteobacteria   & Gammaproteobacteria & Burkholderiales   & Burkholderiaceae   & Burkholderia    & Burkholderia mallei      & 0.020823\\\\\n",
       "\t Firmicutes       & Bacilli             & Lactobacillales   & Streptococcaceae   & Streptococcus   & Streptococcus parauberis & 0.013553\\\\\n",
       "\\end{tabular}\n"
      ],
      "text/markdown": [
       "\n",
       "A tidytable: 10 × 7\n",
       "\n",
       "| Phylum &lt;chr&gt; | Class &lt;chr&gt; | Order &lt;chr&gt; | Family &lt;chr&gt; | Genus &lt;chr&gt; | Species &lt;chr&gt; | Abundance &lt;dbl&gt; |\n",
       "|---|---|---|---|---|---|---|\n",
       "| Firmicutes       | Bacilli             | Lactobacillales   | Streptococcaceae   | Streptococcus   | Streptococcus suis       | 0.240897 |\n",
       "| Firmicutes       | Bacilli             | Lactobacillales   | Aerococcaceae      | Jeotgalibaca    | Jeotgalibaca arthritidis | 0.083763 |\n",
       "| Proteobacteria   | Gammaproteobacteria | Burkholderiales   | Neisseriaceae      | Neisseria       | Neisseria meningitidis   | 0.051548 |\n",
       "| Campylobacterota | Campylobacteria     | Campylobacterales | Campylobacteraceae | Campylobacter_D | Campylobacter_D jejuni   | 0.049469 |\n",
       "| Proteobacteria   | Gammaproteobacteria | Enterobacterales  | Pasteurellaceae    | Haemophilus_B   | Haemophilus_B ducreyi    | 0.043720 |\n",
       "| Firmicutes       | Bacilli             | Lactobacillales   | Streptococcaceae   | Streptococcus   | Streptococcus pyogenes   | 0.039211 |\n",
       "| Firmicutes       | Bacilli             | Lactobacillales   | Streptococcaceae   | Streptococcus   | Streptococcus agalactiae | 0.024552 |\n",
       "| Firmicutes       | Bacilli             | Lactobacillales   | Streptococcaceae   | Streptococcus   | Streptococcus mitis_Q    | 0.024101 |\n",
       "| Proteobacteria   | Gammaproteobacteria | Burkholderiales   | Burkholderiaceae   | Burkholderia    | Burkholderia mallei      | 0.020823 |\n",
       "| Firmicutes       | Bacilli             | Lactobacillales   | Streptococcaceae   | Streptococcus   | Streptococcus parauberis | 0.013553 |\n",
       "\n"
      ],
      "text/plain": [
       "   Phylum           Class               Order             Family            \n",
       "1  Firmicutes       Bacilli             Lactobacillales   Streptococcaceae  \n",
       "2  Firmicutes       Bacilli             Lactobacillales   Aerococcaceae     \n",
       "3  Proteobacteria   Gammaproteobacteria Burkholderiales   Neisseriaceae     \n",
       "4  Campylobacterota Campylobacteria     Campylobacterales Campylobacteraceae\n",
       "5  Proteobacteria   Gammaproteobacteria Enterobacterales  Pasteurellaceae   \n",
       "6  Firmicutes       Bacilli             Lactobacillales   Streptococcaceae  \n",
       "7  Firmicutes       Bacilli             Lactobacillales   Streptococcaceae  \n",
       "8  Firmicutes       Bacilli             Lactobacillales   Streptococcaceae  \n",
       "9  Proteobacteria   Gammaproteobacteria Burkholderiales   Burkholderiaceae  \n",
       "10 Firmicutes       Bacilli             Lactobacillales   Streptococcaceae  \n",
       "   Genus           Species                  Abundance\n",
       "1  Streptococcus   Streptococcus suis       0.240897 \n",
       "2  Jeotgalibaca    Jeotgalibaca arthritidis 0.083763 \n",
       "3  Neisseria       Neisseria meningitidis   0.051548 \n",
       "4  Campylobacter_D Campylobacter_D jejuni   0.049469 \n",
       "5  Haemophilus_B   Haemophilus_B ducreyi    0.043720 \n",
       "6  Streptococcus   Streptococcus pyogenes   0.039211 \n",
       "7  Streptococcus   Streptococcus agalactiae 0.024552 \n",
       "8  Streptococcus   Streptococcus mitis_Q    0.024101 \n",
       "9  Burkholderia    Burkholderia mallei      0.020823 \n",
       "10 Streptococcus   Streptococcus parauberis 0.013553 "
      ]
     },
     "metadata": {},
     "output_type": "display_data"
    }
   ],
   "source": [
    "# most abundant\n",
    "df.dims(10)\n",
    "brk %>%\n",
    "    summarize.(Abundance = mean(Abundance),\n",
    "               .by=c(Phylum, Class, Order, Family, Genus, Species)) %>%\n",
    "    arrange.(-Abundance) %>%\n",
    "    slice_head.(n=10)"
   ]
  },
  {
   "cell_type": "markdown",
   "id": "ebbfb839",
   "metadata": {},
   "source": [
    "# LLG\n",
    "\n",
    "Getting stats on `CAMI2_HMP-oral` reference genomes"
   ]
  },
  {
   "cell_type": "markdown",
   "id": "7c0fd960",
   "metadata": {},
   "source": [
    "### Config"
   ]
  },
  {
   "cell_type": "code",
   "execution_count": 26,
   "id": "2e0e04ce",
   "metadata": {
    "ExecuteTime": {
     "end_time": "2021-10-26T18:46:10.228549Z",
     "start_time": "2021-10-26T18:46:10.134Z"
    }
   },
   "outputs": [
    {
     "name": "stdout",
     "output_type": "stream",
     "text": [
      "# table with genome --> fasta_file information\n",
      "samples_file: /ebio/abt3_projects/databases_no-backup/CAMI/CAMI2_HMP-oral/short_read/genomes.tsv\n",
      "\n",
      "# output location\n",
      "output_dir: /ebio/abt3_projects/databases_no-backup/CAMI/CAMI2_HMP-oral/short_read/LLG/\n",
      "\n",
      "# temporary file directory (your username will be added automatically)\n",
      "tmp_dir: /ebio/abt3_scratch/\n",
      "\n",
      "# batch processing of genomes for certain steps\n",
      "## increase to better parallelize\n",
      "batches: 20\n",
      "\n",
      "# Domain of genomes ('Archaea' or 'Bacteria)\n",
      "## Use \"Skip\" if provided as a \"Domain\" column in the genome table\n",
      "Domain: Bacteria\n",
      "\n",
      "# Just run certain major pipeline steps?\n",
      "run_pipeline_steps:\n",
      "  assembly_assessment: True\n",
      "  dereplication: FTrue\n",
      "  taxonomy: True\n",
      "  ANI: True\n",
      "  rRNA: FTrue\n",
      "  annotation: True\n",
      "  genome_phylogeny: True\n",
      "  phenotype: FTrue\n",
      "  BGC: FTrue\n",
      "  AMR_virulence: FTrue\n",
      "  plasmids: FTrue\n",
      "  HGT: FTrue  \n",
      "  CRISPR: FTrue\n",
      "\n",
      "# software parameters\n",
      "# Use \"Skip\" to skip any of these steps. If no params for rule, use \"\"\n",
      "# dRep MAGs are not further analyzed, but you can de-rep & then use the de-rep genome table as input.\n",
      "params:\n",
      "  ionice: -c 3\n",
      "  # assembly assessment\n",
      "  seqkit: \"\"\n",
      "  quast: \"\"\n",
      "  multiqc_on_quast: \"\" \n",
      "  checkm: \"\"\n",
      "  # de-replication (unskipped CheckM or genomeInfo file recommended)\n",
      "  drep:\n",
      "    algorithm: auto\n",
      "    params: -comp 50 -con 5 -sa 0.95\n",
      "    genomeInfo: Skip # e.g., tests/output_bac9/checkM/genomeInfo.csv\n",
      "  # taxonomy\n",
      "  sourmash:\n",
      "    compute: Skip #--scaled 10000 -k 31\n",
      "    gather: -k 31\n",
      "  gtdbtk:\n",
      "    classify_wf: --min_perc_aa 10\n",
      "  minimap2:\n",
      "    index: Skip #-k 15\n",
      "    run: -x sr -N 5\n",
      "    taxonomy: --min-coverage 0.5\n",
      "    keep_bam: True\n",
      "  # genome pairwise ANI  \n",
      "  fastani: --fragLen 3000 --minFraction 0.2 -k 16\n",
      "  dashing: Skip #-k 31 --full-tsv\n",
      "  comparem_aai: Skip #--evalue 0.001\n",
      "  # rRNA (16S alignment & phylogeny)\n",
      "  rRNA:\n",
      "    barrnap: --lencutoff 0.8\n",
      "    vsearch_per_genome_drep: --id 0.95\n",
      "    qiime2_fasttree: \"\"\n",
      "    qiime2_iqtree: --p-alrt 1000 --p-abayes --p-lbp 1000 \n",
      "                   --p-substitution-model 'GTR+I+G'\n",
      "  # gene annotation\n",
      "  gene_call:\n",
      "    prokka: Skip \n",
      "    multiqc_on_prokka: \"\"\n",
      "    prodigal: \"\"\n",
      "  eggnog_mapper:\n",
      "    map: Skip \n",
      "    annot: Skip \n",
      "  # genome phylogeny (requires annotation)\n",
      "  phylophlan:\n",
      "    config: --map_dna diamond --db_aa diamond --map_aa diamond\n",
      "            --msa mafft --trim trimal --tree1 fasttree --tree2 raxml\n",
      "    accuracy: --auto \n",
      "    other_params: --diversity high --min_num_markers 50\n",
      "  # phenotype (requires annotation)\n",
      "  traitar: \"\"\n",
      "  # biosynthetic gene clusters (BGCs)\n",
      "  antismash: --cb-knownclusters --cb-subclusters --asf  \n",
      "  DeepBGC: --score 0.5 --classifier-score 0.5\n",
      "  bigscape: --cutoffs 0.3 --mibig\n",
      "  # antimicrobial resistance (AMR) & virulence \n",
      "  abricate: --minid 75 --mincov 80\n",
      "  RGI: --alignment_tool BLAST\n",
      "  pathofact_virulence: -E 1e-10\n",
      "  pathofact_toxin: -T 40\n",
      "  # plasmids\n",
      "  platon: --mode accuracy\n",
      "  plasflow: --threshold 0.7\n",
      "  mob_suite:\n",
      "    typer: --multi\n",
      "    recon: \"\"\n",
      "  # HGT\n",
      "  metachip: -r pcofg    \n",
      "  # CRISPRs\n",
      "  cctyper: --prodigal meta\n",
      "  \n",
      "# databases\n",
      "databases:\n",
      "  checkM_data: /ebio/abt3_projects/databases_no-backup/checkM/\n",
      "  sourmash: /ebio/abt3_projects/databases_no-backup/sourmash/genbank-k31.sbt.json\n",
      "  sourmash_lca: /ebio/abt3_projects/databases_no-backup/sourmash/genbank-k31.lca.json.gz\n",
      "  gtdbtk: /ebio/abt3_projects/databases_no-backup/GTDB/release95/gtdbtk/db_info.md\n",
      "  minimap2: /ebio/abt3_projects/databases_no-backup/minimap2/GTDBr95_refGenomes.fna.gz\n",
      "  phylophlan: /ebio/abt3_projects/databases_no-backup/phylophlan/PhyloPhlan/phylophlan.faa.bz2\n",
      "  eggnog: /ebio/abt3_projects/databases_no-backup/Eggnog/v2/eggnog.db\n",
      "  eggnog_diamond: /ebio/abt3_projects/databases_no-backup/Eggnog/v2/eggnog_proteins.dmnd\n",
      "  antismash: /ebio/abt3_projects/databases_no-backup/antismash/v5/  \n",
      "  deepbgc: /ebio/abt3_projects/databases_no-backup/DeepBGC/\n",
      "  bigscape: /ebio/abt3_projects/databases_no-backup/BiGSCAPE/2021-04-03/Pfam-A.hmm\n",
      "  traitar: /ebio/abt3_projects/databases_no-backup/pfam/traitar/\n",
      "  platon: /ebio/abt3_projects/databases_no-backup/platon/2021-04/README.md\n",
      "  taxdump: \n",
      "    names: /ebio/abt3_projects/databases_no-backup/GTDB/release95/taxdump/names.dmp\n",
      "    nodes: /ebio/abt3_projects/databases_no-backup/GTDB/release95/taxdump/nodes.dmp\n",
      "  abricate:\n",
      "    ncbi: /ebio/abt3_projects/databases_no-backup/abricate/ncbi/sequences\n",
      "    card: /ebio/abt3_projects/databases_no-backup/abricate/card/sequences\n",
      "    resfinder: /ebio/abt3_projects/databases_no-backup/abricate/resfinder/sequences\n",
      "    argannot: /ebio/abt3_projects/databases_no-backup/abricate/argannot/sequences\n",
      "    bacmet2: /ebio/abt3_projects/databases_no-backup/abricate/bacmet2/sequences\n",
      "    vfdb: /ebio/abt3_projects/databases_no-backup/abricate/vfdb/sequences\n",
      "    megares: /ebio/abt3_projects/databases_no-backup/abricate/megares/sequences\n",
      "    plasmidfinder: /ebio/abt3_projects/databases_no-backup/abricate/plasmidfinder/sequences\n",
      "  RGI:\n",
      "    card:\n",
      "      json: /ebio/abt3_projects/databases_no-backup/CARD/v3.0.9/card.json\n",
      "      fasta: /ebio/abt3_projects/databases_no-backup/CARD/v3.0.9/card_database_v3.0.9.fasta\n",
      "  pathofact:\n",
      "    vir_hmm: /ebio/abt3_projects/databases_no-backup/PathoFact/v1.0/virulence/Virulence_factor.hmm\n",
      "    pos_dom: /ebio/abt3_projects/databases_no-backup/PathoFact/v1.0/models_and_domains/positive_domains.tsv\n",
      "    neg_dom: /ebio/abt3_projects/databases_no-backup/PathoFact/v1.0/models_and_domains/negative_domains.tsv\n",
      "    shared_dom: /ebio/abt3_projects/databases_no-backup/PathoFact/v1.0/models_and_domains/shared_domains.tsv\n",
      "    model: /ebio/abt3_projects/databases_no-backup/PathoFact/v1.0/virulence/Virulence_factor_model.sav\n",
      "    toxin_hmm: /ebio/abt3_projects/databases_no-backup/PathoFact/v1.0/toxins/combined_Toxin.hmm\n",
      "    toxin_names: /ebio/abt3_projects/databases_no-backup/PathoFact/v1.0/toxins/library_HMM_Toxins.tsv\n",
      "  mob_suite: /ebio/abt3_projects/databases_no-backup/mob_suite/v3.0.3/README.md\n",
      "\n",
      "# snakemake pipeline\n",
      "pipeline:\n",
      "  snakemake_folder: ./\n",
      "  script_folder: ./bin/scripts/\n",
      "  use_shared_mem: True\n",
      "  name: LLG"
     ]
    }
   ],
   "source": [
    "F = file.path(work_dir, 'LLG', 'config.yaml')\n",
    "cat_file(F)"
   ]
  },
  {
   "cell_type": "markdown",
   "id": "b2724aae",
   "metadata": {},
   "source": [
    "### Run"
   ]
  },
  {
   "cell_type": "markdown",
   "id": "f71078ac",
   "metadata": {},
   "source": [
    "```\n",
    "(snakemake) @ rick:/ebio/abt3_projects/software/dev/ll_pipelines/llg\n",
    "$ screen -L -S llg-cami-oral ./snakemake_sge.sh /ebio/abt3_projects/databases_no-backup/CAMI/CAMI2_HMP-oral/short_read/LLG/config.yaml 30 -F\n",
    "```"
   ]
  },
  {
   "cell_type": "markdown",
   "id": "489d8116",
   "metadata": {},
   "source": [
    "## Summary"
   ]
  },
  {
   "cell_type": "markdown",
   "id": "68889f04",
   "metadata": {},
   "source": [
    "### CheckM"
   ]
  },
  {
   "cell_type": "code",
   "execution_count": 29,
   "id": "4e1d977a",
   "metadata": {
    "ExecuteTime": {
     "end_time": "2021-10-27T07:29:06.336764Z",
     "start_time": "2021-10-27T07:29:06.233Z"
    }
   },
   "outputs": [
    {
     "data": {
      "text/html": [
       "<table class=\"dataframe\">\n",
       "<caption>A data.table: 1057 × 33</caption>\n",
       "<thead>\n",
       "\t<tr><th scope=col>Bin.Id</th><th scope=col>Marker.lineage</th><th scope=col>X..genomes</th><th scope=col>X..markers</th><th scope=col>X..marker.sets</th><th scope=col>Completeness</th><th scope=col>Contamination</th><th scope=col>Strain.heterogeneity</th><th scope=col>Genome.size..bp.</th><th scope=col>X..ambiguous.bases</th><th scope=col>⋯</th><th scope=col>X0</th><th scope=col>X1</th><th scope=col>X2</th><th scope=col>X3</th><th scope=col>X4</th><th scope=col>X5.</th><th scope=col>assembly.Id</th><th scope=col>assembler.Id</th><th scope=col>taxon.Id</th><th scope=col>File</th></tr>\n",
       "\t<tr><th scope=col>&lt;chr&gt;</th><th scope=col>&lt;chr&gt;</th><th scope=col>&lt;int&gt;</th><th scope=col>&lt;int&gt;</th><th scope=col>&lt;int&gt;</th><th scope=col>&lt;dbl&gt;</th><th scope=col>&lt;dbl&gt;</th><th scope=col>&lt;dbl&gt;</th><th scope=col>&lt;int&gt;</th><th scope=col>&lt;int&gt;</th><th scope=col>⋯</th><th scope=col>&lt;int&gt;</th><th scope=col>&lt;int&gt;</th><th scope=col>&lt;int&gt;</th><th scope=col>&lt;int&gt;</th><th scope=col>&lt;int&gt;</th><th scope=col>&lt;int&gt;</th><th scope=col>&lt;chr&gt;</th><th scope=col>&lt;chr&gt;</th><th scope=col>&lt;lgl&gt;</th><th scope=col>&lt;chr&gt;</th></tr>\n",
       "</thead>\n",
       "<tbody>\n",
       "\t<tr><td>GCA_000008605_1_ASM860v1 </td><td>f__Spirochaetaceae (UID2512)</td><td>56</td><td>235</td><td>124</td><td>100.00</td><td>0.00</td><td>0</td><td>1138011</td><td>1</td><td>⋯</td><td>0</td><td>235</td><td> 0</td><td>0</td><td>0</td><td>0</td><td>|ebio|abt3_projects|databases_no-backup|CAMI|CAMI2_HMP-oral|short_read|LLG|checkm|1|checkm|markers_qa_summary.tsv.1</td><td>markers_qa_summary.tsv.1</td><td>NA</td><td>/ebio/abt3_projects/databases_no-backup/CAMI/CAMI2_HMP-oral/short_read/LLG/checkm/1/checkm/markers_qa_summary.tsv.1</td></tr>\n",
       "\t<tr><td>GCA_000010045_1_ASM1004v1</td><td>c__Clostridia (UID1085)     </td><td>35</td><td>420</td><td>196</td><td> 98.98</td><td>4.08</td><td>0</td><td>5727534</td><td>0</td><td>⋯</td><td>2</td><td>405</td><td>12</td><td>1</td><td>0</td><td>0</td><td>|ebio|abt3_projects|databases_no-backup|CAMI|CAMI2_HMP-oral|short_read|LLG|checkm|1|checkm|markers_qa_summary.tsv.2</td><td>markers_qa_summary.tsv.2</td><td>NA</td><td>/ebio/abt3_projects/databases_no-backup/CAMI/CAMI2_HMP-oral/short_read/LLG/checkm/1/checkm/markers_qa_summary.tsv.2</td></tr>\n",
       "\t<tr><td>⋮</td><td>⋮</td><td>⋮</td><td>⋮</td><td>⋮</td><td>⋮</td><td>⋮</td><td>⋮</td><td>⋮</td><td>⋮</td><td>⋱</td><td>⋮</td><td>⋮</td><td>⋮</td><td>⋮</td><td>⋮</td><td>⋮</td><td>⋮</td><td>⋮</td><td>⋮</td><td>⋮</td></tr>\n",
       "\t<tr><td>GCA_001900195_1_ASM190019v1</td><td>o__Pseudomonadales (UID4488)</td><td>185</td><td>813</td><td>308</td><td>99.59</td><td>0.11</td><td>0</td><td>6213026</td><td>0</td><td>⋯</td><td>2</td><td>810</td><td>1</td><td>0</td><td>0</td><td>0</td><td>|ebio|abt3_projects|databases_no-backup|CAMI|CAMI2_HMP-oral|short_read|LLG|checkm|20|checkm|markers_qa_summary.tsv.51</td><td>markers_qa_summary.tsv.51</td><td>NA</td><td>/ebio/abt3_projects/databases_no-backup/CAMI/CAMI2_HMP-oral/short_read/LLG/checkm/20/checkm/markers_qa_summary.tsv.51</td></tr>\n",
       "\t<tr><td>GCA_001971745_1_ASM197174v1</td><td>s__algicola (UID2846)       </td><td> 47</td><td>571</td><td>303</td><td>99.67</td><td>0.00</td><td>0</td><td>3192399</td><td>0</td><td>⋯</td><td>1</td><td>570</td><td>0</td><td>0</td><td>0</td><td>0</td><td>|ebio|abt3_projects|databases_no-backup|CAMI|CAMI2_HMP-oral|short_read|LLG|checkm|20|checkm|markers_qa_summary.tsv.52</td><td>markers_qa_summary.tsv.52</td><td>NA</td><td>/ebio/abt3_projects/databases_no-backup/CAMI/CAMI2_HMP-oral/short_read/LLG/checkm/20/checkm/markers_qa_summary.tsv.52</td></tr>\n",
       "</tbody>\n",
       "</table>\n"
      ],
      "text/latex": [
       "A data.table: 1057 × 33\n",
       "\\begin{tabular}{lllllllllllllllllllll}\n",
       " Bin.Id & Marker.lineage & X..genomes & X..markers & X..marker.sets & Completeness & Contamination & Strain.heterogeneity & Genome.size..bp. & X..ambiguous.bases & ⋯ & X0 & X1 & X2 & X3 & X4 & X5. & assembly.Id & assembler.Id & taxon.Id & File\\\\\n",
       " <chr> & <chr> & <int> & <int> & <int> & <dbl> & <dbl> & <dbl> & <int> & <int> & ⋯ & <int> & <int> & <int> & <int> & <int> & <int> & <chr> & <chr> & <lgl> & <chr>\\\\\n",
       "\\hline\n",
       "\t GCA\\_000008605\\_1\\_ASM860v1  & f\\_\\_Spirochaetaceae (UID2512) & 56 & 235 & 124 & 100.00 & 0.00 & 0 & 1138011 & 1 & ⋯ & 0 & 235 &  0 & 0 & 0 & 0 & \\textbar{}ebio\\textbar{}abt3\\_projects\\textbar{}databases\\_no-backup\\textbar{}CAMI\\textbar{}CAMI2\\_HMP-oral\\textbar{}short\\_read\\textbar{}LLG\\textbar{}checkm\\textbar{}1\\textbar{}checkm\\textbar{}markers\\_qa\\_summary.tsv.1 & markers\\_qa\\_summary.tsv.1 & NA & /ebio/abt3\\_projects/databases\\_no-backup/CAMI/CAMI2\\_HMP-oral/short\\_read/LLG/checkm/1/checkm/markers\\_qa\\_summary.tsv.1\\\\\n",
       "\t GCA\\_000010045\\_1\\_ASM1004v1 & c\\_\\_Clostridia (UID1085)      & 35 & 420 & 196 &  98.98 & 4.08 & 0 & 5727534 & 0 & ⋯ & 2 & 405 & 12 & 1 & 0 & 0 & \\textbar{}ebio\\textbar{}abt3\\_projects\\textbar{}databases\\_no-backup\\textbar{}CAMI\\textbar{}CAMI2\\_HMP-oral\\textbar{}short\\_read\\textbar{}LLG\\textbar{}checkm\\textbar{}1\\textbar{}checkm\\textbar{}markers\\_qa\\_summary.tsv.2 & markers\\_qa\\_summary.tsv.2 & NA & /ebio/abt3\\_projects/databases\\_no-backup/CAMI/CAMI2\\_HMP-oral/short\\_read/LLG/checkm/1/checkm/markers\\_qa\\_summary.tsv.2\\\\\n",
       "\t ⋮ & ⋮ & ⋮ & ⋮ & ⋮ & ⋮ & ⋮ & ⋮ & ⋮ & ⋮ & ⋱ & ⋮ & ⋮ & ⋮ & ⋮ & ⋮ & ⋮ & ⋮ & ⋮ & ⋮ & ⋮\\\\\n",
       "\t GCA\\_001900195\\_1\\_ASM190019v1 & o\\_\\_Pseudomonadales (UID4488) & 185 & 813 & 308 & 99.59 & 0.11 & 0 & 6213026 & 0 & ⋯ & 2 & 810 & 1 & 0 & 0 & 0 & \\textbar{}ebio\\textbar{}abt3\\_projects\\textbar{}databases\\_no-backup\\textbar{}CAMI\\textbar{}CAMI2\\_HMP-oral\\textbar{}short\\_read\\textbar{}LLG\\textbar{}checkm\\textbar{}20\\textbar{}checkm\\textbar{}markers\\_qa\\_summary.tsv.51 & markers\\_qa\\_summary.tsv.51 & NA & /ebio/abt3\\_projects/databases\\_no-backup/CAMI/CAMI2\\_HMP-oral/short\\_read/LLG/checkm/20/checkm/markers\\_qa\\_summary.tsv.51\\\\\n",
       "\t GCA\\_001971745\\_1\\_ASM197174v1 & s\\_\\_algicola (UID2846)        &  47 & 571 & 303 & 99.67 & 0.00 & 0 & 3192399 & 0 & ⋯ & 1 & 570 & 0 & 0 & 0 & 0 & \\textbar{}ebio\\textbar{}abt3\\_projects\\textbar{}databases\\_no-backup\\textbar{}CAMI\\textbar{}CAMI2\\_HMP-oral\\textbar{}short\\_read\\textbar{}LLG\\textbar{}checkm\\textbar{}20\\textbar{}checkm\\textbar{}markers\\_qa\\_summary.tsv.52 & markers\\_qa\\_summary.tsv.52 & NA & /ebio/abt3\\_projects/databases\\_no-backup/CAMI/CAMI2\\_HMP-oral/short\\_read/LLG/checkm/20/checkm/markers\\_qa\\_summary.tsv.52\\\\\n",
       "\\end{tabular}\n"
      ],
      "text/markdown": [
       "\n",
       "A data.table: 1057 × 33\n",
       "\n",
       "| Bin.Id &lt;chr&gt; | Marker.lineage &lt;chr&gt; | X..genomes &lt;int&gt; | X..markers &lt;int&gt; | X..marker.sets &lt;int&gt; | Completeness &lt;dbl&gt; | Contamination &lt;dbl&gt; | Strain.heterogeneity &lt;dbl&gt; | Genome.size..bp. &lt;int&gt; | X..ambiguous.bases &lt;int&gt; | ⋯ ⋯ | X0 &lt;int&gt; | X1 &lt;int&gt; | X2 &lt;int&gt; | X3 &lt;int&gt; | X4 &lt;int&gt; | X5. &lt;int&gt; | assembly.Id &lt;chr&gt; | assembler.Id &lt;chr&gt; | taxon.Id &lt;lgl&gt; | File &lt;chr&gt; |\n",
       "|---|---|---|---|---|---|---|---|---|---|---|---|---|---|---|---|---|---|---|---|---|\n",
       "| GCA_000008605_1_ASM860v1  | f__Spirochaetaceae (UID2512) | 56 | 235 | 124 | 100.00 | 0.00 | 0 | 1138011 | 1 | ⋯ | 0 | 235 |  0 | 0 | 0 | 0 | |ebio|abt3_projects|databases_no-backup|CAMI|CAMI2_HMP-oral|short_read|LLG|checkm|1|checkm|markers_qa_summary.tsv.1 | markers_qa_summary.tsv.1 | NA | /ebio/abt3_projects/databases_no-backup/CAMI/CAMI2_HMP-oral/short_read/LLG/checkm/1/checkm/markers_qa_summary.tsv.1 |\n",
       "| GCA_000010045_1_ASM1004v1 | c__Clostridia (UID1085)      | 35 | 420 | 196 |  98.98 | 4.08 | 0 | 5727534 | 0 | ⋯ | 2 | 405 | 12 | 1 | 0 | 0 | |ebio|abt3_projects|databases_no-backup|CAMI|CAMI2_HMP-oral|short_read|LLG|checkm|1|checkm|markers_qa_summary.tsv.2 | markers_qa_summary.tsv.2 | NA | /ebio/abt3_projects/databases_no-backup/CAMI/CAMI2_HMP-oral/short_read/LLG/checkm/1/checkm/markers_qa_summary.tsv.2 |\n",
       "| ⋮ | ⋮ | ⋮ | ⋮ | ⋮ | ⋮ | ⋮ | ⋮ | ⋮ | ⋮ | ⋱ | ⋮ | ⋮ | ⋮ | ⋮ | ⋮ | ⋮ | ⋮ | ⋮ | ⋮ | ⋮ |\n",
       "| GCA_001900195_1_ASM190019v1 | o__Pseudomonadales (UID4488) | 185 | 813 | 308 | 99.59 | 0.11 | 0 | 6213026 | 0 | ⋯ | 2 | 810 | 1 | 0 | 0 | 0 | |ebio|abt3_projects|databases_no-backup|CAMI|CAMI2_HMP-oral|short_read|LLG|checkm|20|checkm|markers_qa_summary.tsv.51 | markers_qa_summary.tsv.51 | NA | /ebio/abt3_projects/databases_no-backup/CAMI/CAMI2_HMP-oral/short_read/LLG/checkm/20/checkm/markers_qa_summary.tsv.51 |\n",
       "| GCA_001971745_1_ASM197174v1 | s__algicola (UID2846)        |  47 | 571 | 303 | 99.67 | 0.00 | 0 | 3192399 | 0 | ⋯ | 1 | 570 | 0 | 0 | 0 | 0 | |ebio|abt3_projects|databases_no-backup|CAMI|CAMI2_HMP-oral|short_read|LLG|checkm|20|checkm|markers_qa_summary.tsv.52 | markers_qa_summary.tsv.52 | NA | /ebio/abt3_projects/databases_no-backup/CAMI/CAMI2_HMP-oral/short_read/LLG/checkm/20/checkm/markers_qa_summary.tsv.52 |\n",
       "\n"
      ],
      "text/plain": [
       "     Bin.Id                      Marker.lineage               X..genomes\n",
       "1    GCA_000008605_1_ASM860v1    f__Spirochaetaceae (UID2512) 56        \n",
       "2    GCA_000010045_1_ASM1004v1   c__Clostridia (UID1085)      35        \n",
       "⋮    ⋮                           ⋮                            ⋮         \n",
       "1056 GCA_001900195_1_ASM190019v1 o__Pseudomonadales (UID4488) 185       \n",
       "1057 GCA_001971745_1_ASM197174v1 s__algicola (UID2846)         47       \n",
       "     X..markers X..marker.sets Completeness Contamination Strain.heterogeneity\n",
       "1    235        124            100.00       0.00          0                   \n",
       "2    420        196             98.98       4.08          0                   \n",
       "⋮    ⋮          ⋮              ⋮            ⋮             ⋮                   \n",
       "1056 813        308            99.59        0.11          0                   \n",
       "1057 571        303            99.67        0.00          0                   \n",
       "     Genome.size..bp. X..ambiguous.bases ⋯ X0 X1  X2 X3 X4 X5.\n",
       "1    1138011          1                  ⋯ 0  235  0 0  0  0  \n",
       "2    5727534          0                  ⋯ 2  405 12 1  0  0  \n",
       "⋮    ⋮                ⋮                  ⋱ ⋮  ⋮   ⋮  ⋮  ⋮  ⋮  \n",
       "1056 6213026          0                  ⋯ 2  810 1  0  0  0  \n",
       "1057 3192399          0                  ⋯ 1  570 0  0  0  0  \n",
       "     assembly.Id                                                                                                          \n",
       "1    |ebio|abt3_projects|databases_no-backup|CAMI|CAMI2_HMP-oral|short_read|LLG|checkm|1|checkm|markers_qa_summary.tsv.1  \n",
       "2    |ebio|abt3_projects|databases_no-backup|CAMI|CAMI2_HMP-oral|short_read|LLG|checkm|1|checkm|markers_qa_summary.tsv.2  \n",
       "⋮    ⋮                                                                                                                    \n",
       "1056 |ebio|abt3_projects|databases_no-backup|CAMI|CAMI2_HMP-oral|short_read|LLG|checkm|20|checkm|markers_qa_summary.tsv.51\n",
       "1057 |ebio|abt3_projects|databases_no-backup|CAMI|CAMI2_HMP-oral|short_read|LLG|checkm|20|checkm|markers_qa_summary.tsv.52\n",
       "     assembler.Id              taxon.Id\n",
       "1    markers_qa_summary.tsv.1  NA      \n",
       "2    markers_qa_summary.tsv.2  NA      \n",
       "⋮    ⋮                         ⋮       \n",
       "1056 markers_qa_summary.tsv.51 NA      \n",
       "1057 markers_qa_summary.tsv.52 NA      \n",
       "     File                                                                                                                 \n",
       "1    /ebio/abt3_projects/databases_no-backup/CAMI/CAMI2_HMP-oral/short_read/LLG/checkm/1/checkm/markers_qa_summary.tsv.1  \n",
       "2    /ebio/abt3_projects/databases_no-backup/CAMI/CAMI2_HMP-oral/short_read/LLG/checkm/1/checkm/markers_qa_summary.tsv.2  \n",
       "⋮    ⋮                                                                                                                    \n",
       "1056 /ebio/abt3_projects/databases_no-backup/CAMI/CAMI2_HMP-oral/short_read/LLG/checkm/20/checkm/markers_qa_summary.tsv.51\n",
       "1057 /ebio/abt3_projects/databases_no-backup/CAMI/CAMI2_HMP-oral/short_read/LLG/checkm/20/checkm/markers_qa_summary.tsv.52"
      ]
     },
     "metadata": {},
     "output_type": "display_data"
    }
   ],
   "source": [
    "# checkm table load\n",
    "F = file.path(work_dir, 'LLG', 'checkm', 'checkm_qa_summary.tsv')\n",
    "checkm = Fread(F)\n",
    "checkm"
   ]
  },
  {
   "cell_type": "code",
   "execution_count": 30,
   "id": "efe8c6ff",
   "metadata": {
    "ExecuteTime": {
     "end_time": "2021-10-27T07:29:14.358536Z",
     "start_time": "2021-10-27T07:29:14.303Z"
    }
   },
   "outputs": [
    {
     "data": {
      "text/html": [
       "<table class=\"dataframe\">\n",
       "<caption>A matrix: 1 × 8 of type dbl</caption>\n",
       "<thead>\n",
       "\t<tr><th></th><th scope=col>Min.</th><th scope=col>1st Qu.</th><th scope=col>Median</th><th scope=col>Mean</th><th scope=col>3rd Qu.</th><th scope=col>Max.</th><th scope=col>sd</th><th scope=col>sd_err_of_mean</th></tr>\n",
       "</thead>\n",
       "<tbody>\n",
       "\t<tr><th scope=row>Completeness</th><td>81.03</td><td>99.34</td><td>99.67</td><td>99.49248</td><td>100</td><td>100</td><td>7.627</td><td>3.114</td></tr>\n",
       "</tbody>\n",
       "</table>\n"
      ],
      "text/latex": [
       "A matrix: 1 × 8 of type dbl\n",
       "\\begin{tabular}{r|llllllll}\n",
       "  & Min. & 1st Qu. & Median & Mean & 3rd Qu. & Max. & sd & sd\\_err\\_of\\_mean\\\\\n",
       "\\hline\n",
       "\tCompleteness & 81.03 & 99.34 & 99.67 & 99.49248 & 100 & 100 & 7.627 & 3.114\\\\\n",
       "\\end{tabular}\n"
      ],
      "text/markdown": [
       "\n",
       "A matrix: 1 × 8 of type dbl\n",
       "\n",
       "| <!--/--> | Min. | 1st Qu. | Median | Mean | 3rd Qu. | Max. | sd | sd_err_of_mean |\n",
       "|---|---|---|---|---|---|---|---|---|\n",
       "| Completeness | 81.03 | 99.34 | 99.67 | 99.49248 | 100 | 100 | 7.627 | 3.114 |\n",
       "\n"
      ],
      "text/plain": [
       "             Min.  1st Qu. Median Mean     3rd Qu. Max. sd    sd_err_of_mean\n",
       "Completeness 81.03 99.34   99.67  99.49248 100     100  7.627 3.114         "
      ]
     },
     "metadata": {},
     "output_type": "display_data"
    },
    {
     "data": {
      "text/html": [
       "<table class=\"dataframe\">\n",
       "<caption>A matrix: 1 × 8 of type dbl</caption>\n",
       "<thead>\n",
       "\t<tr><th></th><th scope=col>Min.</th><th scope=col>1st Qu.</th><th scope=col>Median</th><th scope=col>Mean</th><th scope=col>3rd Qu.</th><th scope=col>Max.</th><th scope=col>sd</th><th scope=col>sd_err_of_mean</th></tr>\n",
       "</thead>\n",
       "<tbody>\n",
       "\t<tr><th scope=row>Contamination</th><td>0</td><td>0</td><td>0.15</td><td>0.3524882</td><td>0.38</td><td>9.6</td><td>3.851</td><td>1.572</td></tr>\n",
       "</tbody>\n",
       "</table>\n"
      ],
      "text/latex": [
       "A matrix: 1 × 8 of type dbl\n",
       "\\begin{tabular}{r|llllllll}\n",
       "  & Min. & 1st Qu. & Median & Mean & 3rd Qu. & Max. & sd & sd\\_err\\_of\\_mean\\\\\n",
       "\\hline\n",
       "\tContamination & 0 & 0 & 0.15 & 0.3524882 & 0.38 & 9.6 & 3.851 & 1.572\\\\\n",
       "\\end{tabular}\n"
      ],
      "text/markdown": [
       "\n",
       "A matrix: 1 × 8 of type dbl\n",
       "\n",
       "| <!--/--> | Min. | 1st Qu. | Median | Mean | 3rd Qu. | Max. | sd | sd_err_of_mean |\n",
       "|---|---|---|---|---|---|---|---|---|\n",
       "| Contamination | 0 | 0 | 0.15 | 0.3524882 | 0.38 | 9.6 | 3.851 | 1.572 |\n",
       "\n"
      ],
      "text/plain": [
       "              Min. 1st Qu. Median Mean      3rd Qu. Max. sd    sd_err_of_mean\n",
       "Contamination 0    0       0.15   0.3524882 0.38    9.6  3.851 1.572         "
      ]
     },
     "metadata": {},
     "output_type": "display_data"
    }
   ],
   "source": [
    "# summary\n",
    "summary_x(checkm$Completeness)\n",
    "summary_x(checkm$Contamination)"
   ]
  },
  {
   "cell_type": "markdown",
   "id": "9a761f7c",
   "metadata": {},
   "source": [
    "### GTDBTK"
   ]
  },
  {
   "cell_type": "code",
   "execution_count": 31,
   "id": "036f96ab",
   "metadata": {
    "ExecuteTime": {
     "end_time": "2021-10-27T13:14:21.010950Z",
     "start_time": "2021-10-27T13:14:20.885Z"
    }
   },
   "outputs": [
    {
     "data": {
      "text/html": [
       "<table class=\"dataframe\">\n",
       "<caption>A tidytable: 1057 × 8</caption>\n",
       "<thead>\n",
       "\t<tr><th scope=col>user_genome</th><th scope=col>Domain</th><th scope=col>Phylum</th><th scope=col>Class</th><th scope=col>Order</th><th scope=col>Family</th><th scope=col>Genus</th><th scope=col>Species</th></tr>\n",
       "\t<tr><th scope=col>&lt;chr&gt;</th><th scope=col>&lt;chr&gt;</th><th scope=col>&lt;chr&gt;</th><th scope=col>&lt;chr&gt;</th><th scope=col>&lt;chr&gt;</th><th scope=col>&lt;chr&gt;</th><th scope=col>&lt;chr&gt;</th><th scope=col>&lt;chr&gt;</th></tr>\n",
       "</thead>\n",
       "<tbody>\n",
       "\t<tr><td>GCA_000008605_1_ASM860v1 </td><td>Bacteria</td><td>Spirochaetota</td><td>Spirochaetia      </td><td>Treponematales      </td><td>Treponemataceae      </td><td>Treponema         </td><td>Treponema pallidum          </td></tr>\n",
       "\t<tr><td>GCA_000010045_1_ASM1004v1</td><td>Bacteria</td><td>Firmicutes_B </td><td>Desulfitobacteriia</td><td>Desulfitobacteriales</td><td>Desulfitobacteriaceae</td><td>Desulfitobacterium</td><td>Desulfitobacterium hafniense</td></tr>\n",
       "\t<tr><td>⋮</td><td>⋮</td><td>⋮</td><td>⋮</td><td>⋮</td><td>⋮</td><td>⋮</td><td>⋮</td></tr>\n",
       "\t<tr><td>GCA_001900195_1_ASM190019v1</td><td>Bacteria</td><td>Proteobacteria</td><td>Gammaproteobacteria</td><td>Pseudomonadales </td><td>Pseudomonadaceae </td><td>Pseudomonas</td><td>Pseudomonas aeruginosa</td></tr>\n",
       "\t<tr><td>GCA_001971745_1_ASM197174v1</td><td>Bacteria</td><td>Bacteroidota  </td><td>Bacteroidia        </td><td>Flavobacteriales</td><td>Flavobacteriaceae</td><td>Lacinutrix </td><td>Lacinutrix venerupis  </td></tr>\n",
       "</tbody>\n",
       "</table>\n"
      ],
      "text/latex": [
       "A tidytable: 1057 × 8\n",
       "\\begin{tabular}{llllllll}\n",
       " user\\_genome & Domain & Phylum & Class & Order & Family & Genus & Species\\\\\n",
       " <chr> & <chr> & <chr> & <chr> & <chr> & <chr> & <chr> & <chr>\\\\\n",
       "\\hline\n",
       "\t GCA\\_000008605\\_1\\_ASM860v1  & Bacteria & Spirochaetota & Spirochaetia       & Treponematales       & Treponemataceae       & Treponema          & Treponema pallidum          \\\\\n",
       "\t GCA\\_000010045\\_1\\_ASM1004v1 & Bacteria & Firmicutes\\_B  & Desulfitobacteriia & Desulfitobacteriales & Desulfitobacteriaceae & Desulfitobacterium & Desulfitobacterium hafniense\\\\\n",
       "\t ⋮ & ⋮ & ⋮ & ⋮ & ⋮ & ⋮ & ⋮ & ⋮\\\\\n",
       "\t GCA\\_001900195\\_1\\_ASM190019v1 & Bacteria & Proteobacteria & Gammaproteobacteria & Pseudomonadales  & Pseudomonadaceae  & Pseudomonas & Pseudomonas aeruginosa\\\\\n",
       "\t GCA\\_001971745\\_1\\_ASM197174v1 & Bacteria & Bacteroidota   & Bacteroidia         & Flavobacteriales & Flavobacteriaceae & Lacinutrix  & Lacinutrix venerupis  \\\\\n",
       "\\end{tabular}\n"
      ],
      "text/markdown": [
       "\n",
       "A tidytable: 1057 × 8\n",
       "\n",
       "| user_genome &lt;chr&gt; | Domain &lt;chr&gt; | Phylum &lt;chr&gt; | Class &lt;chr&gt; | Order &lt;chr&gt; | Family &lt;chr&gt; | Genus &lt;chr&gt; | Species &lt;chr&gt; |\n",
       "|---|---|---|---|---|---|---|---|\n",
       "| GCA_000008605_1_ASM860v1  | Bacteria | Spirochaetota | Spirochaetia       | Treponematales       | Treponemataceae       | Treponema          | Treponema pallidum           |\n",
       "| GCA_000010045_1_ASM1004v1 | Bacteria | Firmicutes_B  | Desulfitobacteriia | Desulfitobacteriales | Desulfitobacteriaceae | Desulfitobacterium | Desulfitobacterium hafniense |\n",
       "| ⋮ | ⋮ | ⋮ | ⋮ | ⋮ | ⋮ | ⋮ | ⋮ |\n",
       "| GCA_001900195_1_ASM190019v1 | Bacteria | Proteobacteria | Gammaproteobacteria | Pseudomonadales  | Pseudomonadaceae  | Pseudomonas | Pseudomonas aeruginosa |\n",
       "| GCA_001971745_1_ASM197174v1 | Bacteria | Bacteroidota   | Bacteroidia         | Flavobacteriales | Flavobacteriaceae | Lacinutrix  | Lacinutrix venerupis   |\n",
       "\n"
      ],
      "text/plain": [
       "     user_genome                 Domain   Phylum         Class              \n",
       "1    GCA_000008605_1_ASM860v1    Bacteria Spirochaetota  Spirochaetia       \n",
       "2    GCA_000010045_1_ASM1004v1   Bacteria Firmicutes_B   Desulfitobacteriia \n",
       "⋮    ⋮                           ⋮        ⋮              ⋮                  \n",
       "1056 GCA_001900195_1_ASM190019v1 Bacteria Proteobacteria Gammaproteobacteria\n",
       "1057 GCA_001971745_1_ASM197174v1 Bacteria Bacteroidota   Bacteroidia        \n",
       "     Order                Family                Genus             \n",
       "1    Treponematales       Treponemataceae       Treponema         \n",
       "2    Desulfitobacteriales Desulfitobacteriaceae Desulfitobacterium\n",
       "⋮    ⋮                    ⋮                     ⋮                 \n",
       "1056 Pseudomonadales      Pseudomonadaceae      Pseudomonas       \n",
       "1057 Flavobacteriales     Flavobacteriaceae     Lacinutrix        \n",
       "     Species                     \n",
       "1    Treponema pallidum          \n",
       "2    Desulfitobacterium hafniense\n",
       "⋮    ⋮                           \n",
       "1056 Pseudomonas aeruginosa      \n",
       "1057 Lacinutrix venerupis        "
      ]
     },
     "metadata": {},
     "output_type": "display_data"
    }
   ],
   "source": [
    "# gtdbtk table load\n",
    "F = file.path(work_dir, 'LLG', 'gtdbtk', 'gtdbtk_summary.tsv')\n",
    "tax = Fread(F) %>%\n",
    "    select.(user_genome, classification) %>%\n",
    "    mutate.(classification = gsub(';[pcofgs]__', ';', classification)) %>%\n",
    "    separate.(classification, taxonomy_levels(), sep=';') %>%\n",
    "    mutate.(Domain = gsub('^d__', '', Domain))\n",
    "tax"
   ]
  },
  {
   "cell_type": "code",
   "execution_count": 32,
   "id": "c601b3e3",
   "metadata": {
    "ExecuteTime": {
     "end_time": "2021-10-27T13:14:28.535410Z",
     "start_time": "2021-10-27T13:14:28.237Z"
    }
   },
   "outputs": [
    {
     "data": {
      "text/html": [
       "<table class=\"dataframe\">\n",
       "<caption>A matrix: 1 × 8 of type dbl</caption>\n",
       "<thead>\n",
       "\t<tr><th></th><th scope=col>Min.</th><th scope=col>1st Qu.</th><th scope=col>Median</th><th scope=col>Mean</th><th scope=col>3rd Qu.</th><th scope=col>Max.</th><th scope=col>sd</th><th scope=col>sd_err_of_mean</th></tr>\n",
       "</thead>\n",
       "<tbody>\n",
       "\t<tr><th scope=row>n</th><td>1</td><td>1</td><td>1</td><td>2.669192</td><td>2</td><td>72</td><td>28.776</td><td>11.748</td></tr>\n",
       "</tbody>\n",
       "</table>\n"
      ],
      "text/latex": [
       "A matrix: 1 × 8 of type dbl\n",
       "\\begin{tabular}{r|llllllll}\n",
       "  & Min. & 1st Qu. & Median & Mean & 3rd Qu. & Max. & sd & sd\\_err\\_of\\_mean\\\\\n",
       "\\hline\n",
       "\tn & 1 & 1 & 1 & 2.669192 & 2 & 72 & 28.776 & 11.748\\\\\n",
       "\\end{tabular}\n"
      ],
      "text/markdown": [
       "\n",
       "A matrix: 1 × 8 of type dbl\n",
       "\n",
       "| <!--/--> | Min. | 1st Qu. | Median | Mean | 3rd Qu. | Max. | sd | sd_err_of_mean |\n",
       "|---|---|---|---|---|---|---|---|---|\n",
       "| n | 1 | 1 | 1 | 2.669192 | 2 | 72 | 28.776 | 11.748 |\n",
       "\n"
      ],
      "text/plain": [
       "  Min. 1st Qu. Median Mean     3rd Qu. Max. sd     sd_err_of_mean\n",
       "n 1    1       1      2.669192 2       72   28.776 11.748        "
      ]
     },
     "metadata": {},
     "output_type": "display_data"
    },
    {
     "data": {
      "image/png": "[encoded data removed]",
      "text/plain": [
       "plot without title"
      ]
     },
     "metadata": {
      "image/png": {
       "height": 220,
       "width": 400
      }
     },
     "output_type": "display_data"
    }
   ],
   "source": [
    "tax_s = tax %>%\n",
    "    summarize.(n = n.(),\n",
    "               .by=c(Phylum, Class, Order, Family, Genus, Species)) \n",
    "summary_x(tax_s$n)\n",
    "p = tax_s %>%\n",
    "    ggplot(aes(n)) +\n",
    "    geom_histogram(bins=30) +\n",
    "    labs(x='No. of genomes in the species', y='No. of species') +\n",
    "    theme_bw()\n",
    "p.dims(4,2.2)\n",
    "plot(p)"
   ]
  },
  {
   "cell_type": "markdown",
   "id": "307f7a7c",
   "metadata": {},
   "source": [
    "# ResMiCo-SM"
   ]
  },
  {
   "cell_type": "markdown",
   "id": "08d44507",
   "metadata": {},
   "source": [
    "### Config"
   ]
  },
  {
   "cell_type": "code",
   "execution_count": 41,
   "id": "06222834",
   "metadata": {
    "ExecuteTime": {
     "end_time": "2021-10-27T18:22:09.599632Z",
     "start_time": "2021-10-27T18:22:09.541Z"
    }
   },
   "outputs": [
    {
     "name": "stdout",
     "output_type": "stream",
     "text": [
      "# Input table\n",
      "genomes_file: /ebio/abt3_projects/databases_no-backup/CAMI/CAMI2_HMP-oral/short_read/genomes.tsv\n",
      "reads_file: /ebio/abt3_scratch/nyoungblut/CAMI/CAMI2_HMP-oral/samples.tsv\n",
      "\n",
      "# Output directory\n",
      "output_dir: /ebio/abt3_projects/databases_no-backup/CAMI/CAMI2_HMP-oral/short_read/ResMiCo-SM/\n",
      "\n",
      "# Temporary output directory (/dev/shm/ for shared memory)\n",
      "tmp_dir: /ebio/abt3_scratch/\n",
      "\n",
      "# Email for notifications (\"Skip\" to skip)\n",
      "email: nyoungblut@tuebingen.mpg.de\n",
      "\n",
      "# software parameters for data simulations\n",
      "## Use \"Skip\" to skip  steps. If no params for rule, use \"\"\n",
      "## `reps:` is the number of replicate simulations\n",
      "## If `keep_reads: True`, then simulated reads are kept\n",
      "params:\n",
      "  ionice: -c 3\n",
      "  # simulating metagenomes\n",
      "  MGSIM:\n",
      "    genome_download: \"\"\n",
      "    sim_reps: 3\n",
      "    community:\n",
      "      richness:\n",
      "        - 0.8        \n",
      "      abundance_distribution:\n",
      "        - \"mean:10,sigma:2\"\n",
      "      random_seed: 8192\n",
      "      other_sim_params: --group-bias 0\n",
      "    reads: \n",
      "      length:\n",
      "        - 100\n",
      "        - 150\n",
      "      depth:\n",
      "        - 1000000\n",
      "      other_sim_params: --art-paired --art-mflen 270 --art-sdev 50 --rndSeed 8712\n",
      "      skewer: -n -l 70 -q 25\n",
      "      keep_reads: True # False\n",
      "  # coverage\n",
      "  nonpareil:\n",
      "    params: -T kmer\n",
      "    summary: 1e9   # this is target seq. depth\n",
      "  # assemblying metagenomes\n",
      "  assemblers:\n",
      "    metaspades: -k auto --only-assembler\n",
      "    megahit: --min-count 1 --min-contig-len 1000\n",
      "  # assembly filtering\n",
      "  contigs:\n",
      "    length_cutoff: 1000       # length in bp \n",
      "  # assessing assembly errors\n",
      "  asmbl_errors:\n",
      "    metaquast: --max-ref-number 0 --min-contig 1000 --min-identity 95 --extensive-mis-size 100\n",
      "               --no-html --no-plots --no-icarus --no-gc --no-snps --no-sv\n",
      "    keep_genomes: False\n",
      "  # mapping reads to contigs\n",
      "  map:\n",
      "    samtools: \"\"\n",
      "    bowtie2: \"\"\n",
      "    max_coverage: 20\n",
      "    keep_bam: False\n",
      "  # creating ResMiCo feature tables\n",
      "  feature_table:\n",
      "    make: --window 6\n",
      "  # state-of-the-art\n",
      "  SotA:\n",
      "    ALE: \"\"\n",
      "    VALET: Skip\n",
      "    metaMIC:\n",
      "      extract: --mlen 1000\n",
      "      predict: --mlen 1000 --slen 500 -a MEGAHIT\n",
      "\n",
      "# params just for creating feature tables for non-simulated data\n",
      "nonsim_params:\n",
      "  # max number of reads to use\n",
      "  subsample_reads: 5000000\n",
      "  # read quality filtering\n",
      "  skewer: -n -l 70 -q 25\n",
      "  # max per-contig coverage\n",
      "  max_coverage: 20\n",
      "  # keep bam files?\n",
      "  keep_bam: True\n",
      "  # feature tables\n",
      "  make_features: --window 6\n",
      "\n",
      "# snakemake pipeline\n",
      "pipeline:\n",
      "  snakemake_folder: ./\n",
      "  script_folder: ./bin/scripts/\n",
      "  name: ResMiCo-SM"
     ]
    }
   ],
   "source": [
    "F = file.path(work_dir, 'ResMiCo-SM', 'config.yaml')\n",
    "cat_file(F)"
   ]
  },
  {
   "cell_type": "markdown",
   "id": "bca522db",
   "metadata": {},
   "source": [
    "### Run"
   ]
  },
  {
   "cell_type": "markdown",
   "id": "ced24765",
   "metadata": {},
   "source": [
    "```\n",
    "(snakemake) @ rick:/ebio/abt3_projects/DeepMAsED/version2/deepmased/ResMiCo-SM\n",
    "$ screen -L -S rmc-sm-cami ./snakemake_sge.sh /ebio/abt3_projects/databases_no-backup/CAMI/CAMI2_HMP-oral/short_read/ResMiCo-SM/config.yaml 30 --notemp -F\n",
    "```"
   ]
  },
  {
   "cell_type": "markdown",
   "id": "db99e07b",
   "metadata": {},
   "source": [
    "## Summary"
   ]
  },
  {
   "cell_type": "markdown",
   "id": "37d1c650",
   "metadata": {},
   "source": [
    "### MetaQUAST results"
   ]
  },
  {
   "cell_type": "code",
   "execution_count": 42,
   "id": "53f610e8",
   "metadata": {
    "ExecuteTime": {
     "end_time": "2021-10-31T05:23:31.200746Z",
     "start_time": "2021-10-31T05:23:30.512Z"
    }
   },
   "outputs": [
    {
     "data": {
      "text/html": [
       "20"
      ],
      "text/latex": [
       "20"
      ],
      "text/markdown": [
       "20"
      ],
      "text/plain": [
       "[1] 20"
      ]
     },
     "metadata": {},
     "output_type": "display_data"
    },
    {
     "data": {
      "text/html": [
       "<style>\n",
       ".list-inline {list-style: none; margin:0; padding: 0}\n",
       ".list-inline>li {display: inline-block}\n",
       ".list-inline>li:not(:last-child)::after {content: \"\\00b7\"; padding: 0 .5ex}\n",
       "</style>\n",
       "<ol class=list-inline><li>'/ebio/abt3_projects/databases_no-backup/CAMI/CAMI2_HMP-oral/short_read//ResMiCo-SM/true_errors/2017.12.04_18.45.54_sample_13/NA/NA/NA/NA/megahit/combined_reference/report.tsv'</li><li>'/ebio/abt3_projects/databases_no-backup/CAMI/CAMI2_HMP-oral/short_read//ResMiCo-SM/true_errors/2017.12.04_18.45.54_sample_13/NA/NA/NA/NA/metaspades/combined_reference/report.tsv'</li><li>'/ebio/abt3_projects/databases_no-backup/CAMI/CAMI2_HMP-oral/short_read//ResMiCo-SM/true_errors/2017.12.04_18.45.54_sample_14/NA/NA/NA/NA/megahit/combined_reference/report.tsv'</li></ol>\n"
      ],
      "text/latex": [
       "\\begin{enumerate*}\n",
       "\\item '/ebio/abt3\\_projects/databases\\_no-backup/CAMI/CAMI2\\_HMP-oral/short\\_read//ResMiCo-SM/true\\_errors/2017.12.04\\_18.45.54\\_sample\\_13/NA/NA/NA/NA/megahit/combined\\_reference/report.tsv'\n",
       "\\item '/ebio/abt3\\_projects/databases\\_no-backup/CAMI/CAMI2\\_HMP-oral/short\\_read//ResMiCo-SM/true\\_errors/2017.12.04\\_18.45.54\\_sample\\_13/NA/NA/NA/NA/metaspades/combined\\_reference/report.tsv'\n",
       "\\item '/ebio/abt3\\_projects/databases\\_no-backup/CAMI/CAMI2\\_HMP-oral/short\\_read//ResMiCo-SM/true\\_errors/2017.12.04\\_18.45.54\\_sample\\_14/NA/NA/NA/NA/megahit/combined\\_reference/report.tsv'\n",
       "\\end{enumerate*}\n"
      ],
      "text/markdown": [
       "1. '/ebio/abt3_projects/databases_no-backup/CAMI/CAMI2_HMP-oral/short_read//ResMiCo-SM/true_errors/2017.12.04_18.45.54_sample_13/NA/NA/NA/NA/megahit/combined_reference/report.tsv'\n",
       "2. '/ebio/abt3_projects/databases_no-backup/CAMI/CAMI2_HMP-oral/short_read//ResMiCo-SM/true_errors/2017.12.04_18.45.54_sample_13/NA/NA/NA/NA/metaspades/combined_reference/report.tsv'\n",
       "3. '/ebio/abt3_projects/databases_no-backup/CAMI/CAMI2_HMP-oral/short_read//ResMiCo-SM/true_errors/2017.12.04_18.45.54_sample_14/NA/NA/NA/NA/megahit/combined_reference/report.tsv'\n",
       "\n",
       "\n"
      ],
      "text/plain": [
       "[1] \"/ebio/abt3_projects/databases_no-backup/CAMI/CAMI2_HMP-oral/short_read//ResMiCo-SM/true_errors/2017.12.04_18.45.54_sample_13/NA/NA/NA/NA/megahit/combined_reference/report.tsv\"   \n",
       "[2] \"/ebio/abt3_projects/databases_no-backup/CAMI/CAMI2_HMP-oral/short_read//ResMiCo-SM/true_errors/2017.12.04_18.45.54_sample_13/NA/NA/NA/NA/metaspades/combined_reference/report.tsv\"\n",
       "[3] \"/ebio/abt3_projects/databases_no-backup/CAMI/CAMI2_HMP-oral/short_read//ResMiCo-SM/true_errors/2017.12.04_18.45.54_sample_14/NA/NA/NA/NA/megahit/combined_reference/report.tsv\"   "
      ]
     },
     "metadata": {},
     "output_type": "display_data"
    }
   ],
   "source": [
    "D = file.path(work_dir, 'ResMiCo-SM', 'true_errors')\n",
    "F = list_files(D, 'report.tsv')\n",
    "F = F[grepl('combined_reference/report.tsv$', F)]\n",
    "F %>% length\n",
    "F %>% head(n=3)"
   ]
  },
  {
   "cell_type": "code",
   "execution_count": 43,
   "id": "3baee0be",
   "metadata": {
    "ExecuteTime": {
     "end_time": "2021-10-31T05:23:38.281989Z",
     "start_time": "2021-10-31T05:23:37.924Z"
    }
   },
   "outputs": [
    {
     "data": {
      "text/html": [
       "<table class=\"dataframe\">\n",
       "<caption>A data.table: 800 × 4</caption>\n",
       "<thead>\n",
       "\t<tr><th scope=col>Assembly</th><th scope=col>contigs_filtered</th><th scope=col>assembler</th><th scope=col>sample</th></tr>\n",
       "\t<tr><th scope=col>&lt;chr&gt;</th><th scope=col>&lt;chr&gt;</th><th scope=col>&lt;chr&gt;</th><th scope=col>&lt;chr&gt;</th></tr>\n",
       "</thead>\n",
       "<tbody>\n",
       "\t<tr><td><span style=white-space:pre-wrap># contigs (&gt;= 0 bp)    </span></td><td>25295</td><td>megahit</td><td>2017.12.04_18.45.54_sample_13</td></tr>\n",
       "\t<tr><td># contigs (&gt;= 1000 bp) </td><td>25295</td><td>megahit</td><td>2017.12.04_18.45.54_sample_13</td></tr>\n",
       "\t<tr><td># contigs (&gt;= 5000 bp) </td><td>1539 </td><td>megahit</td><td>2017.12.04_18.45.54_sample_13</td></tr>\n",
       "\t<tr><td># contigs (&gt;= 10000 bp)</td><td><span style=white-space:pre-wrap>524  </span></td><td>megahit</td><td>2017.12.04_18.45.54_sample_13</td></tr>\n",
       "\t<tr><td># contigs (&gt;= 25000 bp)</td><td><span style=white-space:pre-wrap>176  </span></td><td>megahit</td><td>2017.12.04_18.45.54_sample_13</td></tr>\n",
       "\t<tr><td>⋮</td><td>⋮</td><td>⋮</td><td>⋮</td></tr>\n",
       "\t<tr><td>Total aligned length</td><td>31746195</td><td>metaspades</td><td>2017.12.04_18.45.54_sample_8</td></tr>\n",
       "\t<tr><td>NA50                </td><td>6101    </td><td>metaspades</td><td>2017.12.04_18.45.54_sample_8</td></tr>\n",
       "\t<tr><td>NA75                </td><td>1799    </td><td>metaspades</td><td>2017.12.04_18.45.54_sample_8</td></tr>\n",
       "\t<tr><td>LA50                </td><td>713     </td><td>metaspades</td><td>2017.12.04_18.45.54_sample_8</td></tr>\n",
       "\t<tr><td>LA75                </td><td>3465    </td><td>metaspades</td><td>2017.12.04_18.45.54_sample_8</td></tr>\n",
       "</tbody>\n",
       "</table>\n"
      ],
      "text/latex": [
       "A data.table: 800 × 4\n",
       "\\begin{tabular}{llll}\n",
       " Assembly & contigs\\_filtered & assembler & sample\\\\\n",
       " <chr> & <chr> & <chr> & <chr>\\\\\n",
       "\\hline\n",
       "\t \\# contigs (>= 0 bp)     & 25295 & megahit & 2017.12.04\\_18.45.54\\_sample\\_13\\\\\n",
       "\t \\# contigs (>= 1000 bp)  & 25295 & megahit & 2017.12.04\\_18.45.54\\_sample\\_13\\\\\n",
       "\t \\# contigs (>= 5000 bp)  & 1539  & megahit & 2017.12.04\\_18.45.54\\_sample\\_13\\\\\n",
       "\t \\# contigs (>= 10000 bp) & 524   & megahit & 2017.12.04\\_18.45.54\\_sample\\_13\\\\\n",
       "\t \\# contigs (>= 25000 bp) & 176   & megahit & 2017.12.04\\_18.45.54\\_sample\\_13\\\\\n",
       "\t ⋮ & ⋮ & ⋮ & ⋮\\\\\n",
       "\t Total aligned length & 31746195 & metaspades & 2017.12.04\\_18.45.54\\_sample\\_8\\\\\n",
       "\t NA50                 & 6101     & metaspades & 2017.12.04\\_18.45.54\\_sample\\_8\\\\\n",
       "\t NA75                 & 1799     & metaspades & 2017.12.04\\_18.45.54\\_sample\\_8\\\\\n",
       "\t LA50                 & 713      & metaspades & 2017.12.04\\_18.45.54\\_sample\\_8\\\\\n",
       "\t LA75                 & 3465     & metaspades & 2017.12.04\\_18.45.54\\_sample\\_8\\\\\n",
       "\\end{tabular}\n"
      ],
      "text/markdown": [
       "\n",
       "A data.table: 800 × 4\n",
       "\n",
       "| Assembly &lt;chr&gt; | contigs_filtered &lt;chr&gt; | assembler &lt;chr&gt; | sample &lt;chr&gt; |\n",
       "|---|---|---|---|\n",
       "| # contigs (&gt;= 0 bp)     | 25295 | megahit | 2017.12.04_18.45.54_sample_13 |\n",
       "| # contigs (&gt;= 1000 bp)  | 25295 | megahit | 2017.12.04_18.45.54_sample_13 |\n",
       "| # contigs (&gt;= 5000 bp)  | 1539  | megahit | 2017.12.04_18.45.54_sample_13 |\n",
       "| # contigs (&gt;= 10000 bp) | 524   | megahit | 2017.12.04_18.45.54_sample_13 |\n",
       "| # contigs (&gt;= 25000 bp) | 176   | megahit | 2017.12.04_18.45.54_sample_13 |\n",
       "| ⋮ | ⋮ | ⋮ | ⋮ |\n",
       "| Total aligned length | 31746195 | metaspades | 2017.12.04_18.45.54_sample_8 |\n",
       "| NA50                 | 6101     | metaspades | 2017.12.04_18.45.54_sample_8 |\n",
       "| NA75                 | 1799     | metaspades | 2017.12.04_18.45.54_sample_8 |\n",
       "| LA50                 | 713      | metaspades | 2017.12.04_18.45.54_sample_8 |\n",
       "| LA75                 | 3465     | metaspades | 2017.12.04_18.45.54_sample_8 |\n",
       "\n"
      ],
      "text/plain": [
       "    Assembly                contigs_filtered assembler \n",
       "1   # contigs (>= 0 bp)     25295            megahit   \n",
       "2   # contigs (>= 1000 bp)  25295            megahit   \n",
       "3   # contigs (>= 5000 bp)  1539             megahit   \n",
       "4   # contigs (>= 10000 bp) 524              megahit   \n",
       "5   # contigs (>= 25000 bp) 176              megahit   \n",
       "⋮   ⋮                       ⋮                ⋮         \n",
       "796 Total aligned length    31746195         metaspades\n",
       "797 NA50                    6101             metaspades\n",
       "798 NA75                    1799             metaspades\n",
       "799 LA50                    713              metaspades\n",
       "800 LA75                    3465             metaspades\n",
       "    sample                       \n",
       "1   2017.12.04_18.45.54_sample_13\n",
       "2   2017.12.04_18.45.54_sample_13\n",
       "3   2017.12.04_18.45.54_sample_13\n",
       "4   2017.12.04_18.45.54_sample_13\n",
       "5   2017.12.04_18.45.54_sample_13\n",
       "⋮   ⋮                            \n",
       "796 2017.12.04_18.45.54_sample_8 \n",
       "797 2017.12.04_18.45.54_sample_8 \n",
       "798 2017.12.04_18.45.54_sample_8 \n",
       "799 2017.12.04_18.45.54_sample_8 \n",
       "800 2017.12.04_18.45.54_sample_8 "
      ]
     },
     "metadata": {},
     "output_type": "display_data"
    }
   ],
   "source": [
    "# reading\n",
    "read_mq = function(F){\n",
    "    df = Fread(F)\n",
    "    x = unlist(strsplit(F, '/'))\n",
    "    df$assembler = x[length(x)-2]\n",
    "    df$sample = x[length(x)-7]\n",
    "    return(df)\n",
    "}\n",
    "\n",
    "mq_rpt = F %>%\n",
    "    #head(n=1) %>%\n",
    "    lapply(read_mq) %>%\n",
    "    rbindlist(use.names=TRUE)\n",
    "mq_rpt"
   ]
  },
  {
   "cell_type": "code",
   "execution_count": 44,
   "id": "9218a3f0",
   "metadata": {
    "ExecuteTime": {
     "end_time": "2021-10-31T05:23:49.171071Z",
     "start_time": "2021-10-31T05:23:48.620Z"
    }
   },
   "outputs": [
    {
     "data": {
      "image/png": "[encoded data removed]",
      "text/plain": [
       "plot without title"
      ]
     },
     "metadata": {
      "image/png": {
       "height": 250,
       "width": 400
      }
     },
     "output_type": "display_data"
    }
   ],
   "source": [
    "# summary\n",
    "to_keep = c('# contigs', '# misassembled contigs')\n",
    "p = mq_rpt %>%\n",
    "    filter.(Assembly %in% to_keep) %>%\n",
    "    mutate.(contigs_filtered = as.Num(contigs_filtered)) %>%\n",
    "    mutate.(Assembly = gsub('# ', 'num_', Assembly),\n",
    "            Assembly = gsub(' ', '_', Assembly)) %>%\n",
    "    pivot_wider.(names_from=Assembly, values_from=contigs_filtered) %>%\n",
    "    ggplot(aes(num_contigs, num_misassembled_contigs)) +\n",
    "    geom_point() +\n",
    "    theme_bw()\n",
    "p.dims(4,2.5)\n",
    "plot(p)"
   ]
  },
  {
   "cell_type": "code",
   "execution_count": 45,
   "id": "4b794def",
   "metadata": {
    "ExecuteTime": {
     "end_time": "2021-10-31T05:23:58.649917Z",
     "start_time": "2021-10-31T05:23:58.589Z"
    }
   },
   "outputs": [
    {
     "data": {
      "text/html": [
       "<table class=\"dataframe\">\n",
       "<caption>A tidytable: 140 × 4</caption>\n",
       "<thead>\n",
       "\t<tr><th scope=col>Assembly</th><th scope=col>contigs_filtered</th><th scope=col>assembler</th><th scope=col>sample</th></tr>\n",
       "\t<tr><th scope=col>&lt;chr&gt;</th><th scope=col>&lt;dbl&gt;</th><th scope=col>&lt;chr&gt;</th><th scope=col>&lt;chr&gt;</th></tr>\n",
       "</thead>\n",
       "<tbody>\n",
       "\t<tr><td>num_contigs             </td><td>25295</td><td>megahit</td><td>2017.12.04_18.45.54_sample_13</td></tr>\n",
       "\t<tr><td>num_misassemblies       </td><td>  551</td><td>megahit</td><td>2017.12.04_18.45.54_sample_13</td></tr>\n",
       "\t<tr><td>num_misassembled_contigs</td><td>  535</td><td>megahit</td><td>2017.12.04_18.45.54_sample_13</td></tr>\n",
       "\t<tr><td>num_local_misassemblies </td><td>    7</td><td>megahit</td><td>2017.12.04_18.45.54_sample_13</td></tr>\n",
       "\t<tr><td>num_Ns_per_100_kbp      </td><td>    0</td><td>megahit</td><td>2017.12.04_18.45.54_sample_13</td></tr>\n",
       "\t<tr><td>⋮</td><td>⋮</td><td>⋮</td><td>⋮</td></tr>\n",
       "\t<tr><td>num_misassembled_contigs  </td><td>123.00</td><td>metaspades</td><td>2017.12.04_18.45.54_sample_8</td></tr>\n",
       "\t<tr><td>num_local_misassemblies   </td><td>  1.00</td><td>metaspades</td><td>2017.12.04_18.45.54_sample_8</td></tr>\n",
       "\t<tr><td>num_Ns_per_100_kbp        </td><td>  0.00</td><td>metaspades</td><td>2017.12.04_18.45.54_sample_8</td></tr>\n",
       "\t<tr><td>num_mismatches_per_100_kbp</td><td>669.18</td><td>metaspades</td><td>2017.12.04_18.45.54_sample_8</td></tr>\n",
       "\t<tr><td>num_indels_per_100_kbp    </td><td> 17.73</td><td>metaspades</td><td>2017.12.04_18.45.54_sample_8</td></tr>\n",
       "</tbody>\n",
       "</table>\n"
      ],
      "text/latex": [
       "A tidytable: 140 × 4\n",
       "\\begin{tabular}{llll}\n",
       " Assembly & contigs\\_filtered & assembler & sample\\\\\n",
       " <chr> & <dbl> & <chr> & <chr>\\\\\n",
       "\\hline\n",
       "\t num\\_contigs              & 25295 & megahit & 2017.12.04\\_18.45.54\\_sample\\_13\\\\\n",
       "\t num\\_misassemblies        &   551 & megahit & 2017.12.04\\_18.45.54\\_sample\\_13\\\\\n",
       "\t num\\_misassembled\\_contigs &   535 & megahit & 2017.12.04\\_18.45.54\\_sample\\_13\\\\\n",
       "\t num\\_local\\_misassemblies  &     7 & megahit & 2017.12.04\\_18.45.54\\_sample\\_13\\\\\n",
       "\t num\\_Ns\\_per\\_100\\_kbp       &     0 & megahit & 2017.12.04\\_18.45.54\\_sample\\_13\\\\\n",
       "\t ⋮ & ⋮ & ⋮ & ⋮\\\\\n",
       "\t num\\_misassembled\\_contigs   & 123.00 & metaspades & 2017.12.04\\_18.45.54\\_sample\\_8\\\\\n",
       "\t num\\_local\\_misassemblies    &   1.00 & metaspades & 2017.12.04\\_18.45.54\\_sample\\_8\\\\\n",
       "\t num\\_Ns\\_per\\_100\\_kbp         &   0.00 & metaspades & 2017.12.04\\_18.45.54\\_sample\\_8\\\\\n",
       "\t num\\_mismatches\\_per\\_100\\_kbp & 669.18 & metaspades & 2017.12.04\\_18.45.54\\_sample\\_8\\\\\n",
       "\t num\\_indels\\_per\\_100\\_kbp     &  17.73 & metaspades & 2017.12.04\\_18.45.54\\_sample\\_8\\\\\n",
       "\\end{tabular}\n"
      ],
      "text/markdown": [
       "\n",
       "A tidytable: 140 × 4\n",
       "\n",
       "| Assembly &lt;chr&gt; | contigs_filtered &lt;dbl&gt; | assembler &lt;chr&gt; | sample &lt;chr&gt; |\n",
       "|---|---|---|---|\n",
       "| num_contigs              | 25295 | megahit | 2017.12.04_18.45.54_sample_13 |\n",
       "| num_misassemblies        |   551 | megahit | 2017.12.04_18.45.54_sample_13 |\n",
       "| num_misassembled_contigs |   535 | megahit | 2017.12.04_18.45.54_sample_13 |\n",
       "| num_local_misassemblies  |     7 | megahit | 2017.12.04_18.45.54_sample_13 |\n",
       "| num_Ns_per_100_kbp       |     0 | megahit | 2017.12.04_18.45.54_sample_13 |\n",
       "| ⋮ | ⋮ | ⋮ | ⋮ |\n",
       "| num_misassembled_contigs   | 123.00 | metaspades | 2017.12.04_18.45.54_sample_8 |\n",
       "| num_local_misassemblies    |   1.00 | metaspades | 2017.12.04_18.45.54_sample_8 |\n",
       "| num_Ns_per_100_kbp         |   0.00 | metaspades | 2017.12.04_18.45.54_sample_8 |\n",
       "| num_mismatches_per_100_kbp | 669.18 | metaspades | 2017.12.04_18.45.54_sample_8 |\n",
       "| num_indels_per_100_kbp     |  17.73 | metaspades | 2017.12.04_18.45.54_sample_8 |\n",
       "\n"
      ],
      "text/plain": [
       "    Assembly                   contigs_filtered assembler \n",
       "1   num_contigs                25295            megahit   \n",
       "2   num_misassemblies            551            megahit   \n",
       "3   num_misassembled_contigs     535            megahit   \n",
       "4   num_local_misassemblies        7            megahit   \n",
       "5   num_Ns_per_100_kbp             0            megahit   \n",
       "⋮   ⋮                          ⋮                ⋮         \n",
       "136 num_misassembled_contigs   123.00           metaspades\n",
       "137 num_local_misassemblies      1.00           metaspades\n",
       "138 num_Ns_per_100_kbp           0.00           metaspades\n",
       "139 num_mismatches_per_100_kbp 669.18           metaspades\n",
       "140 num_indels_per_100_kbp      17.73           metaspades\n",
       "    sample                       \n",
       "1   2017.12.04_18.45.54_sample_13\n",
       "2   2017.12.04_18.45.54_sample_13\n",
       "3   2017.12.04_18.45.54_sample_13\n",
       "4   2017.12.04_18.45.54_sample_13\n",
       "5   2017.12.04_18.45.54_sample_13\n",
       "⋮   ⋮                            \n",
       "136 2017.12.04_18.45.54_sample_8 \n",
       "137 2017.12.04_18.45.54_sample_8 \n",
       "138 2017.12.04_18.45.54_sample_8 \n",
       "139 2017.12.04_18.45.54_sample_8 \n",
       "140 2017.12.04_18.45.54_sample_8 "
      ]
     },
     "metadata": {},
     "output_type": "display_data"
    }
   ],
   "source": [
    "# filtering\n",
    "to_keep = c('# contigs', '# misassemblies', '# misassembled contigs',\n",
    "            '# local misassemblies', '# N\\'s per 100 kbp',\n",
    "            '# mismatches per 100 kbp', '# indels per 100 kbp')\n",
    "mq_rpt_f = mq_rpt %>%\n",
    "    filter.(Assembly %in% to_keep) %>%\n",
    "    mutate.(Assembly = gsub('^# ', 'num_', Assembly),\n",
    "            Assembly = gsub(' ', '_', Assembly),\n",
    "            Assembly = gsub(\"'\", '', Assembly)) %>%\n",
    "    mutate.(contigs_filtered = as.Num(contigs_filtered)) \n",
    "mq_rpt_f"
   ]
  },
  {
   "cell_type": "code",
   "execution_count": 46,
   "id": "27d05e3a",
   "metadata": {
    "ExecuteTime": {
     "end_time": "2021-10-31T05:24:09.898990Z",
     "start_time": "2021-10-31T05:24:08.634Z"
    }
   },
   "outputs": [
    {
     "data": {
      "image/png": "[encoded data removed]",
      "text/plain": [
       "plot without title"
      ]
     },
     "metadata": {
      "image/png": {
       "height": 400,
       "width": 700
      }
     },
     "output_type": "display_data"
    }
   ],
   "source": [
    "# plotting\n",
    "p = mq_rpt_f %>%\n",
    "    ggplot(aes(assembler, contigs_filtered)) +\n",
    "    geom_boxplot() +\n",
    "    facet_wrap(~ Assembly, scales='free_y') +\n",
    "    theme_bw()\n",
    "p.dims(7,4)\n",
    "plot(p)"
   ]
  },
  {
   "cell_type": "markdown",
   "id": "4554073a",
   "metadata": {},
   "source": [
    "### ResMiCo features"
   ]
  },
  {
   "cell_type": "code",
   "execution_count": 48,
   "id": "01286a8a",
   "metadata": {
    "ExecuteTime": {
     "end_time": "2021-10-31T05:24:40.894560Z",
     "start_time": "2021-10-31T05:24:40.791Z"
    }
   },
   "outputs": [
    {
     "data": {
      "text/html": [
       "20"
      ],
      "text/latex": [
       "20"
      ],
      "text/markdown": [
       "20"
      ],
      "text/plain": [
       "[1] 20"
      ]
     },
     "metadata": {},
     "output_type": "display_data"
    },
    {
     "data": {
      "text/html": [
       "<style>\n",
       ".list-inline {list-style: none; margin:0; padding: 0}\n",
       ".list-inline>li {display: inline-block}\n",
       ".list-inline>li:not(:last-child)::after {content: \"\\00b7\"; padding: 0 .5ex}\n",
       "</style>\n",
       "<ol class=list-inline><li>'/ebio/abt3_projects/databases_no-backup/CAMI/CAMI2_HMP-oral/short_read//ResMiCo-SM/features/2017.12.04_18.45.54_sample_13/NA/NA/NA/NA/megahit/features.tsv.gz'</li><li>'/ebio/abt3_projects/databases_no-backup/CAMI/CAMI2_HMP-oral/short_read//ResMiCo-SM/features/2017.12.04_18.45.54_sample_13/NA/NA/NA/NA/metaspades/features.tsv.gz'</li><li>'/ebio/abt3_projects/databases_no-backup/CAMI/CAMI2_HMP-oral/short_read//ResMiCo-SM/features/2017.12.04_18.45.54_sample_14/NA/NA/NA/NA/megahit/features.tsv.gz'</li></ol>\n"
      ],
      "text/latex": [
       "\\begin{enumerate*}\n",
       "\\item '/ebio/abt3\\_projects/databases\\_no-backup/CAMI/CAMI2\\_HMP-oral/short\\_read//ResMiCo-SM/features/2017.12.04\\_18.45.54\\_sample\\_13/NA/NA/NA/NA/megahit/features.tsv.gz'\n",
       "\\item '/ebio/abt3\\_projects/databases\\_no-backup/CAMI/CAMI2\\_HMP-oral/short\\_read//ResMiCo-SM/features/2017.12.04\\_18.45.54\\_sample\\_13/NA/NA/NA/NA/metaspades/features.tsv.gz'\n",
       "\\item '/ebio/abt3\\_projects/databases\\_no-backup/CAMI/CAMI2\\_HMP-oral/short\\_read//ResMiCo-SM/features/2017.12.04\\_18.45.54\\_sample\\_14/NA/NA/NA/NA/megahit/features.tsv.gz'\n",
       "\\end{enumerate*}\n"
      ],
      "text/markdown": [
       "1. '/ebio/abt3_projects/databases_no-backup/CAMI/CAMI2_HMP-oral/short_read//ResMiCo-SM/features/2017.12.04_18.45.54_sample_13/NA/NA/NA/NA/megahit/features.tsv.gz'\n",
       "2. '/ebio/abt3_projects/databases_no-backup/CAMI/CAMI2_HMP-oral/short_read//ResMiCo-SM/features/2017.12.04_18.45.54_sample_13/NA/NA/NA/NA/metaspades/features.tsv.gz'\n",
       "3. '/ebio/abt3_projects/databases_no-backup/CAMI/CAMI2_HMP-oral/short_read//ResMiCo-SM/features/2017.12.04_18.45.54_sample_14/NA/NA/NA/NA/megahit/features.tsv.gz'\n",
       "\n",
       "\n"
      ],
      "text/plain": [
       "[1] \"/ebio/abt3_projects/databases_no-backup/CAMI/CAMI2_HMP-oral/short_read//ResMiCo-SM/features/2017.12.04_18.45.54_sample_13/NA/NA/NA/NA/megahit/features.tsv.gz\"   \n",
       "[2] \"/ebio/abt3_projects/databases_no-backup/CAMI/CAMI2_HMP-oral/short_read//ResMiCo-SM/features/2017.12.04_18.45.54_sample_13/NA/NA/NA/NA/metaspades/features.tsv.gz\"\n",
       "[3] \"/ebio/abt3_projects/databases_no-backup/CAMI/CAMI2_HMP-oral/short_read//ResMiCo-SM/features/2017.12.04_18.45.54_sample_14/NA/NA/NA/NA/megahit/features.tsv.gz\"   "
      ]
     },
     "metadata": {},
     "output_type": "display_data"
    }
   ],
   "source": [
    "# listing files\n",
    "P = file.path(work_dir, 'ResMiCo-SM', 'features')\n",
    "feat_files = list_files(P, 'features.tsv.gz')\n",
    "feat_files %>% length\n",
    "feat_files %>% head(n=3)"
   ]
  },
  {
   "cell_type": "code",
   "execution_count": 49,
   "id": "7a457738",
   "metadata": {
    "ExecuteTime": {
     "end_time": "2021-10-31T05:42:35.158289Z",
     "start_time": "2021-10-31T05:24:53.492Z"
    }
   },
   "outputs": [
    {
     "data": {
      "text/html": [
       "<table class=\"dataframe\">\n",
       "<caption>A data.table: 410076 × 16</caption>\n",
       "<thead>\n",
       "\t<tr><th scope=col>assembler</th><th scope=col>contig</th><th scope=col>coverage</th><th scope=col>num_SNPs</th><th scope=col>min_insert_size_Match</th><th scope=col>mean_insert_size_Match</th><th scope=col>mean_mapq_Match</th><th scope=col>num_proper_Match</th><th scope=col>num_orphans_Match</th><th scope=col>num_discordant_Match</th><th scope=col>num_proper_SNP</th><th scope=col>mean_al_score_Match</th><th scope=col>seq_window_entropy</th><th scope=col>seq_window_perc_gc</th><th scope=col>Extensive_misassembly</th><th scope=col>sample</th></tr>\n",
       "\t<tr><th scope=col>&lt;chr&gt;</th><th scope=col>&lt;chr&gt;</th><th scope=col>&lt;dbl&gt;</th><th scope=col>&lt;dbl&gt;</th><th scope=col>&lt;dbl&gt;</th><th scope=col>&lt;dbl&gt;</th><th scope=col>&lt;dbl&gt;</th><th scope=col>&lt;dbl&gt;</th><th scope=col>&lt;dbl&gt;</th><th scope=col>&lt;dbl&gt;</th><th scope=col>&lt;dbl&gt;</th><th scope=col>&lt;dbl&gt;</th><th scope=col>&lt;dbl&gt;</th><th scope=col>&lt;dbl&gt;</th><th scope=col>&lt;dbl&gt;</th><th scope=col>&lt;chr&gt;</th></tr>\n",
       "</thead>\n",
       "<tbody>\n",
       "\t<tr><td>megahit</td><td>k141_17    </td><td>14.401141</td><td>0.05703422</td><td>207.0447</td><td>269.6010</td><td>41.81975</td><td>13.740494</td><td>0.0000000</td><td>0.1425856</td><td>0.5180608</td><td>-13.46244</td><td>1.538011</td><td>0.3890817</td><td>0</td><td>2017.12.04_18.45.54_sample_13</td></tr>\n",
       "\t<tr><td>megahit</td><td>k141_106211</td><td>14.797419</td><td>0.08967742</td><td>150.4690</td><td>235.2357</td><td>38.96612</td><td>13.003871</td><td>0.8316129</td><td>0.3645161</td><td>0.5406452</td><td>-15.78556</td><td>1.550373</td><td>0.3998729</td><td>0</td><td>2017.12.04_18.45.54_sample_13</td></tr>\n",
       "\t<tr><td>megahit</td><td>k141_15023 </td><td>12.760103</td><td>0.07996561</td><td>198.5666</td><td>257.1543</td><td>40.54206</td><td>11.845228</td><td>0.3766122</td><td>0.0000000</td><td>0.5313844</td><td>-17.04003</td><td>1.458201</td><td>0.3734531</td><td>0</td><td>2017.12.04_18.45.54_sample_13</td></tr>\n",
       "\t<tr><td>megahit</td><td>k141_29928 </td><td> 7.268722</td><td>0.06607930</td><td>134.2793</td><td>217.8971</td><td>40.78254</td><td> 6.332159</td><td>0.6422907</td><td>0.0000000</td><td>0.2757709</td><td>-15.82124</td><td>1.481168</td><td>0.4428987</td><td>0</td><td>2017.12.04_18.45.54_sample_13</td></tr>\n",
       "\t<tr><td>megahit</td><td>k141_59938 </td><td>19.886051</td><td>0.27210216</td><td>228.0060</td><td>272.6945</td><td>11.04853</td><td>18.951866</td><td>0.0000000</td><td>0.0000000</td><td>0.9341847</td><td>-20.49685</td><td>1.476487</td><td>0.3688360</td><td>0</td><td>2017.12.04_18.45.54_sample_13</td></tr>\n",
       "\t<tr><td>⋮</td><td>⋮</td><td>⋮</td><td>⋮</td><td>⋮</td><td>⋮</td><td>⋮</td><td>⋮</td><td>⋮</td><td>⋮</td><td>⋮</td><td>⋮</td><td>⋮</td><td>⋮</td><td>⋮</td><td>⋮</td></tr>\n",
       "\t<tr><td>metaspades</td><td>NODE_1199_length_3906_cov_5.780317  </td><td>19.96288</td><td>0.10266257</td><td>190.2834</td><td>253.0409</td><td>40.82264</td><td>17.77752</td><td>0.70327701</td><td>0.6981567</td><td>0.6523297</td><td>-12.89388</td><td>1.469517</td><td>0.3493687</td><td>0</td><td>2017.12.04_18.45.54_sample_8</td></tr>\n",
       "\t<tr><td>metaspades</td><td>NODE_1200_length_3905_cov_4.466753  </td><td>19.97311</td><td>0.03482714</td><td>185.6947</td><td>252.0159</td><td>41.63358</td><td>18.55851</td><td>0.03354673</td><td>0.6691421</td><td>0.6847631</td><td>-11.79481</td><td>1.435121</td><td>0.3178896</td><td>0</td><td>2017.12.04_18.45.54_sample_8</td></tr>\n",
       "\t<tr><td>metaspades</td><td>NODE_1201_length_3904_cov_118.879709</td><td>19.96260</td><td>0.17059426</td><td>189.5696</td><td>261.2253</td><td>39.31906</td><td>18.75231</td><td>0.24795082</td><td>0.1075820</td><td>0.8319672</td><td>-17.40247</td><td>1.495569</td><td>0.3559098</td><td>0</td><td>2017.12.04_18.45.54_sample_8</td></tr>\n",
       "\t<tr><td>metaspades</td><td>NODE_1202_length_3901_cov_2.709568  </td><td>12.65060</td><td>0.03691361</td><td>214.9328</td><td>260.3106</td><td>41.53419</td><td>12.06486</td><td>0.11202256</td><td>0.0000000</td><td>0.4703922</td><td>-12.51115</td><td>1.458172</td><td>0.3386270</td><td>0</td><td>2017.12.04_18.45.54_sample_8</td></tr>\n",
       "\t<tr><td>metaspades</td><td>NODE_1203_length_3900_cov_4.338622  </td><td>19.95821</td><td>0.07102564</td><td>201.4792</td><td>260.1360</td><td>41.20320</td><td>18.96821</td><td>0.07410256</td><td>0.1805128</td><td>0.7215385</td><td>-13.61051</td><td>1.482936</td><td>0.3844215</td><td>0</td><td>2017.12.04_18.45.54_sample_8</td></tr>\n",
       "</tbody>\n",
       "</table>\n"
      ],
      "text/latex": [
       "A data.table: 410076 × 16\n",
       "\\begin{tabular}{llllllllllllllll}\n",
       " assembler & contig & coverage & num\\_SNPs & min\\_insert\\_size\\_Match & mean\\_insert\\_size\\_Match & mean\\_mapq\\_Match & num\\_proper\\_Match & num\\_orphans\\_Match & num\\_discordant\\_Match & num\\_proper\\_SNP & mean\\_al\\_score\\_Match & seq\\_window\\_entropy & seq\\_window\\_perc\\_gc & Extensive\\_misassembly & sample\\\\\n",
       " <chr> & <chr> & <dbl> & <dbl> & <dbl> & <dbl> & <dbl> & <dbl> & <dbl> & <dbl> & <dbl> & <dbl> & <dbl> & <dbl> & <dbl> & <chr>\\\\\n",
       "\\hline\n",
       "\t megahit & k141\\_17     & 14.401141 & 0.05703422 & 207.0447 & 269.6010 & 41.81975 & 13.740494 & 0.0000000 & 0.1425856 & 0.5180608 & -13.46244 & 1.538011 & 0.3890817 & 0 & 2017.12.04\\_18.45.54\\_sample\\_13\\\\\n",
       "\t megahit & k141\\_106211 & 14.797419 & 0.08967742 & 150.4690 & 235.2357 & 38.96612 & 13.003871 & 0.8316129 & 0.3645161 & 0.5406452 & -15.78556 & 1.550373 & 0.3998729 & 0 & 2017.12.04\\_18.45.54\\_sample\\_13\\\\\n",
       "\t megahit & k141\\_15023  & 12.760103 & 0.07996561 & 198.5666 & 257.1543 & 40.54206 & 11.845228 & 0.3766122 & 0.0000000 & 0.5313844 & -17.04003 & 1.458201 & 0.3734531 & 0 & 2017.12.04\\_18.45.54\\_sample\\_13\\\\\n",
       "\t megahit & k141\\_29928  &  7.268722 & 0.06607930 & 134.2793 & 217.8971 & 40.78254 &  6.332159 & 0.6422907 & 0.0000000 & 0.2757709 & -15.82124 & 1.481168 & 0.4428987 & 0 & 2017.12.04\\_18.45.54\\_sample\\_13\\\\\n",
       "\t megahit & k141\\_59938  & 19.886051 & 0.27210216 & 228.0060 & 272.6945 & 11.04853 & 18.951866 & 0.0000000 & 0.0000000 & 0.9341847 & -20.49685 & 1.476487 & 0.3688360 & 0 & 2017.12.04\\_18.45.54\\_sample\\_13\\\\\n",
       "\t ⋮ & ⋮ & ⋮ & ⋮ & ⋮ & ⋮ & ⋮ & ⋮ & ⋮ & ⋮ & ⋮ & ⋮ & ⋮ & ⋮ & ⋮ & ⋮\\\\\n",
       "\t metaspades & NODE\\_1199\\_length\\_3906\\_cov\\_5.780317   & 19.96288 & 0.10266257 & 190.2834 & 253.0409 & 40.82264 & 17.77752 & 0.70327701 & 0.6981567 & 0.6523297 & -12.89388 & 1.469517 & 0.3493687 & 0 & 2017.12.04\\_18.45.54\\_sample\\_8\\\\\n",
       "\t metaspades & NODE\\_1200\\_length\\_3905\\_cov\\_4.466753   & 19.97311 & 0.03482714 & 185.6947 & 252.0159 & 41.63358 & 18.55851 & 0.03354673 & 0.6691421 & 0.6847631 & -11.79481 & 1.435121 & 0.3178896 & 0 & 2017.12.04\\_18.45.54\\_sample\\_8\\\\\n",
       "\t metaspades & NODE\\_1201\\_length\\_3904\\_cov\\_118.879709 & 19.96260 & 0.17059426 & 189.5696 & 261.2253 & 39.31906 & 18.75231 & 0.24795082 & 0.1075820 & 0.8319672 & -17.40247 & 1.495569 & 0.3559098 & 0 & 2017.12.04\\_18.45.54\\_sample\\_8\\\\\n",
       "\t metaspades & NODE\\_1202\\_length\\_3901\\_cov\\_2.709568   & 12.65060 & 0.03691361 & 214.9328 & 260.3106 & 41.53419 & 12.06486 & 0.11202256 & 0.0000000 & 0.4703922 & -12.51115 & 1.458172 & 0.3386270 & 0 & 2017.12.04\\_18.45.54\\_sample\\_8\\\\\n",
       "\t metaspades & NODE\\_1203\\_length\\_3900\\_cov\\_4.338622   & 19.95821 & 0.07102564 & 201.4792 & 260.1360 & 41.20320 & 18.96821 & 0.07410256 & 0.1805128 & 0.7215385 & -13.61051 & 1.482936 & 0.3844215 & 0 & 2017.12.04\\_18.45.54\\_sample\\_8\\\\\n",
       "\\end{tabular}\n"
      ],
      "text/markdown": [
       "\n",
       "A data.table: 410076 × 16\n",
       "\n",
       "| assembler &lt;chr&gt; | contig &lt;chr&gt; | coverage &lt;dbl&gt; | num_SNPs &lt;dbl&gt; | min_insert_size_Match &lt;dbl&gt; | mean_insert_size_Match &lt;dbl&gt; | mean_mapq_Match &lt;dbl&gt; | num_proper_Match &lt;dbl&gt; | num_orphans_Match &lt;dbl&gt; | num_discordant_Match &lt;dbl&gt; | num_proper_SNP &lt;dbl&gt; | mean_al_score_Match &lt;dbl&gt; | seq_window_entropy &lt;dbl&gt; | seq_window_perc_gc &lt;dbl&gt; | Extensive_misassembly &lt;dbl&gt; | sample &lt;chr&gt; |\n",
       "|---|---|---|---|---|---|---|---|---|---|---|---|---|---|---|---|\n",
       "| megahit | k141_17     | 14.401141 | 0.05703422 | 207.0447 | 269.6010 | 41.81975 | 13.740494 | 0.0000000 | 0.1425856 | 0.5180608 | -13.46244 | 1.538011 | 0.3890817 | 0 | 2017.12.04_18.45.54_sample_13 |\n",
       "| megahit | k141_106211 | 14.797419 | 0.08967742 | 150.4690 | 235.2357 | 38.96612 | 13.003871 | 0.8316129 | 0.3645161 | 0.5406452 | -15.78556 | 1.550373 | 0.3998729 | 0 | 2017.12.04_18.45.54_sample_13 |\n",
       "| megahit | k141_15023  | 12.760103 | 0.07996561 | 198.5666 | 257.1543 | 40.54206 | 11.845228 | 0.3766122 | 0.0000000 | 0.5313844 | -17.04003 | 1.458201 | 0.3734531 | 0 | 2017.12.04_18.45.54_sample_13 |\n",
       "| megahit | k141_29928  |  7.268722 | 0.06607930 | 134.2793 | 217.8971 | 40.78254 |  6.332159 | 0.6422907 | 0.0000000 | 0.2757709 | -15.82124 | 1.481168 | 0.4428987 | 0 | 2017.12.04_18.45.54_sample_13 |\n",
       "| megahit | k141_59938  | 19.886051 | 0.27210216 | 228.0060 | 272.6945 | 11.04853 | 18.951866 | 0.0000000 | 0.0000000 | 0.9341847 | -20.49685 | 1.476487 | 0.3688360 | 0 | 2017.12.04_18.45.54_sample_13 |\n",
       "| ⋮ | ⋮ | ⋮ | ⋮ | ⋮ | ⋮ | ⋮ | ⋮ | ⋮ | ⋮ | ⋮ | ⋮ | ⋮ | ⋮ | ⋮ | ⋮ |\n",
       "| metaspades | NODE_1199_length_3906_cov_5.780317   | 19.96288 | 0.10266257 | 190.2834 | 253.0409 | 40.82264 | 17.77752 | 0.70327701 | 0.6981567 | 0.6523297 | -12.89388 | 1.469517 | 0.3493687 | 0 | 2017.12.04_18.45.54_sample_8 |\n",
       "| metaspades | NODE_1200_length_3905_cov_4.466753   | 19.97311 | 0.03482714 | 185.6947 | 252.0159 | 41.63358 | 18.55851 | 0.03354673 | 0.6691421 | 0.6847631 | -11.79481 | 1.435121 | 0.3178896 | 0 | 2017.12.04_18.45.54_sample_8 |\n",
       "| metaspades | NODE_1201_length_3904_cov_118.879709 | 19.96260 | 0.17059426 | 189.5696 | 261.2253 | 39.31906 | 18.75231 | 0.24795082 | 0.1075820 | 0.8319672 | -17.40247 | 1.495569 | 0.3559098 | 0 | 2017.12.04_18.45.54_sample_8 |\n",
       "| metaspades | NODE_1202_length_3901_cov_2.709568   | 12.65060 | 0.03691361 | 214.9328 | 260.3106 | 41.53419 | 12.06486 | 0.11202256 | 0.0000000 | 0.4703922 | -12.51115 | 1.458172 | 0.3386270 | 0 | 2017.12.04_18.45.54_sample_8 |\n",
       "| metaspades | NODE_1203_length_3900_cov_4.338622   | 19.95821 | 0.07102564 | 201.4792 | 260.1360 | 41.20320 | 18.96821 | 0.07410256 | 0.1805128 | 0.7215385 | -13.61051 | 1.482936 | 0.3844215 | 0 | 2017.12.04_18.45.54_sample_8 |\n",
       "\n"
      ],
      "text/plain": [
       "       assembler  contig                               coverage  num_SNPs  \n",
       "1      megahit    k141_17                              14.401141 0.05703422\n",
       "2      megahit    k141_106211                          14.797419 0.08967742\n",
       "3      megahit    k141_15023                           12.760103 0.07996561\n",
       "4      megahit    k141_29928                            7.268722 0.06607930\n",
       "5      megahit    k141_59938                           19.886051 0.27210216\n",
       "⋮      ⋮          ⋮                                    ⋮         ⋮         \n",
       "410072 metaspades NODE_1199_length_3906_cov_5.780317   19.96288  0.10266257\n",
       "410073 metaspades NODE_1200_length_3905_cov_4.466753   19.97311  0.03482714\n",
       "410074 metaspades NODE_1201_length_3904_cov_118.879709 19.96260  0.17059426\n",
       "410075 metaspades NODE_1202_length_3901_cov_2.709568   12.65060  0.03691361\n",
       "410076 metaspades NODE_1203_length_3900_cov_4.338622   19.95821  0.07102564\n",
       "       min_insert_size_Match mean_insert_size_Match mean_mapq_Match\n",
       "1      207.0447              269.6010               41.81975       \n",
       "2      150.4690              235.2357               38.96612       \n",
       "3      198.5666              257.1543               40.54206       \n",
       "4      134.2793              217.8971               40.78254       \n",
       "5      228.0060              272.6945               11.04853       \n",
       "⋮      ⋮                     ⋮                      ⋮              \n",
       "410072 190.2834              253.0409               40.82264       \n",
       "410073 185.6947              252.0159               41.63358       \n",
       "410074 189.5696              261.2253               39.31906       \n",
       "410075 214.9328              260.3106               41.53419       \n",
       "410076 201.4792              260.1360               41.20320       \n",
       "       num_proper_Match num_orphans_Match num_discordant_Match num_proper_SNP\n",
       "1      13.740494        0.0000000         0.1425856            0.5180608     \n",
       "2      13.003871        0.8316129         0.3645161            0.5406452     \n",
       "3      11.845228        0.3766122         0.0000000            0.5313844     \n",
       "4       6.332159        0.6422907         0.0000000            0.2757709     \n",
       "5      18.951866        0.0000000         0.0000000            0.9341847     \n",
       "⋮      ⋮                ⋮                 ⋮                    ⋮             \n",
       "410072 17.77752         0.70327701        0.6981567            0.6523297     \n",
       "410073 18.55851         0.03354673        0.6691421            0.6847631     \n",
       "410074 18.75231         0.24795082        0.1075820            0.8319672     \n",
       "410075 12.06486         0.11202256        0.0000000            0.4703922     \n",
       "410076 18.96821         0.07410256        0.1805128            0.7215385     \n",
       "       mean_al_score_Match seq_window_entropy seq_window_perc_gc\n",
       "1      -13.46244           1.538011           0.3890817         \n",
       "2      -15.78556           1.550373           0.3998729         \n",
       "3      -17.04003           1.458201           0.3734531         \n",
       "4      -15.82124           1.481168           0.4428987         \n",
       "5      -20.49685           1.476487           0.3688360         \n",
       "⋮      ⋮                   ⋮                  ⋮                 \n",
       "410072 -12.89388           1.469517           0.3493687         \n",
       "410073 -11.79481           1.435121           0.3178896         \n",
       "410074 -17.40247           1.495569           0.3559098         \n",
       "410075 -12.51115           1.458172           0.3386270         \n",
       "410076 -13.61051           1.482936           0.3844215         \n",
       "       Extensive_misassembly sample                       \n",
       "1      0                     2017.12.04_18.45.54_sample_13\n",
       "2      0                     2017.12.04_18.45.54_sample_13\n",
       "3      0                     2017.12.04_18.45.54_sample_13\n",
       "4      0                     2017.12.04_18.45.54_sample_13\n",
       "5      0                     2017.12.04_18.45.54_sample_13\n",
       "⋮      ⋮                     ⋮                            \n",
       "410072 0                     2017.12.04_18.45.54_sample_8 \n",
       "410073 0                     2017.12.04_18.45.54_sample_8 \n",
       "410074 0                     2017.12.04_18.45.54_sample_8 \n",
       "410075 0                     2017.12.04_18.45.54_sample_8 \n",
       "410076 0                     2017.12.04_18.45.54_sample_8 "
      ]
     },
     "metadata": {},
     "output_type": "display_data"
    }
   ],
   "source": [
    "# reading\n",
    "read_feat = function(F){\n",
    "    df = Fread(F) %>%\n",
    "        select.(assembler, contig, \n",
    "                coverage, num_SNPs, min_insert_size_Match, mean_insert_size_Match, mean_mapq_Match, \n",
    "                num_proper_Match, num_orphans_Match, num_discordant_Match, num_proper_SNP, \n",
    "                mean_al_score_Match, seq_window_entropy, seq_window_perc_gc, Extensive_misassembly) %>%\n",
    "        summarize.(coverage = mean(coverage, na.rm=TRUE),\n",
    "                   num_SNPs = mean(num_SNPs, na.rm=TRUE),\n",
    "                   min_insert_size_Match = mean(min_insert_size_Match, na.rm=TRUE),\n",
    "                   mean_insert_size_Match = mean(mean_insert_size_Match, na.rm=TRUE),\n",
    "                   mean_mapq_Match = mean(mean_mapq_Match, na.rm=TRUE),\n",
    "                   num_proper_Match = mean(num_proper_Match, na.rm=TRUE),\n",
    "                   num_orphans_Match = mean(num_orphans_Match, na.rm=TRUE),\n",
    "                   num_discordant_Match = mean(num_discordant_Match, na.rm=TRUE),\n",
    "                   num_proper_SNP = mean(num_proper_SNP, na.rm=TRUE),\n",
    "                   mean_al_score_Match = mean(mean_al_score_Match, na.rm=TRUE),\n",
    "                   seq_window_entropy = mean(seq_window_entropy, na.rm=TRUE),\n",
    "                   seq_window_perc_gc = mean(seq_window_perc_gc, na.rm=TRUE),\n",
    "                   Extensive_misassembly = mean(Extensive_misassembly, na.rm=TRUE),\n",
    "                   .by=c(assembler, contig))\n",
    "    x = unlist(strsplit(F, '/'))\n",
    "    df$sample = x[length(x)-6]\n",
    "    return(df)\n",
    "}\n",
    "doParallel::registerDoParallel(6)\n",
    "feats = feat_files %>%\n",
    "    #head(n=2) %>%\n",
    "    plyr::llply(read_feat, .parallel=TRUE) %>%\n",
    "    rbindlist(use.names=TRUE) \n",
    "feats"
   ]
  },
  {
   "cell_type": "code",
   "execution_count": 50,
   "id": "c9abea4b",
   "metadata": {
    "ExecuteTime": {
     "end_time": "2021-10-31T05:42:35.181524Z",
     "start_time": "2021-10-31T05:25:17.497Z"
    }
   },
   "outputs": [
    {
     "data": {
      "text/html": [
       "'/ebio/abt3_projects/databases_no-backup/CAMI/CAMI2_HMP-oral/short_read//ResMiCo-SM/features/features_per-contig.tsv'"
      ],
      "text/latex": [
       "'/ebio/abt3\\_projects/databases\\_no-backup/CAMI/CAMI2\\_HMP-oral/short\\_read//ResMiCo-SM/features/features\\_per-contig.tsv'"
      ],
      "text/markdown": [
       "'/ebio/abt3_projects/databases_no-backup/CAMI/CAMI2_HMP-oral/short_read//ResMiCo-SM/features/features_per-contig.tsv'"
      ],
      "text/plain": [
       "[1] \"/ebio/abt3_projects/databases_no-backup/CAMI/CAMI2_HMP-oral/short_read//ResMiCo-SM/features/features_per-contig.tsv\""
      ]
     },
     "metadata": {},
     "output_type": "display_data"
    }
   ],
   "source": [
    "# writing table: file name\n",
    "D = file.path(work_dir, 'ResMiCo-SM', 'features')\n",
    "F = file.path(D, 'features_per-contig.tsv')\n",
    "F"
   ]
  },
  {
   "cell_type": "code",
   "execution_count": 51,
   "id": "4f59189b",
   "metadata": {
    "ExecuteTime": {
     "end_time": "2021-10-31T05:42:35.546558Z",
     "start_time": "2021-10-31T05:25:17.617Z"
    }
   },
   "outputs": [
    {
     "name": "stdout",
     "output_type": "stream",
     "text": [
      "File written: /ebio/abt3_projects/databases_no-backup/CAMI/CAMI2_HMP-oral/short_read//ResMiCo-SM/features/features_per-contig.tsv \n"
     ]
    }
   ],
   "source": [
    "# writing table: writing\n",
    "write_table(feats, F)"
   ]
  },
  {
   "cell_type": "code",
   "execution_count": 52,
   "id": "aad9b415",
   "metadata": {
    "ExecuteTime": {
     "end_time": "2021-10-31T05:42:36.232998Z",
     "start_time": "2021-10-31T05:25:29.403Z"
    }
   },
   "outputs": [
    {
     "data": {
      "text/html": [
       "<table class=\"dataframe\">\n",
       "<caption>A data.table: 410076 × 16</caption>\n",
       "<thead>\n",
       "\t<tr><th scope=col>assembler</th><th scope=col>contig</th><th scope=col>coverage</th><th scope=col>num_SNPs</th><th scope=col>min_insert_size_Match</th><th scope=col>mean_insert_size_Match</th><th scope=col>mean_mapq_Match</th><th scope=col>num_proper_Match</th><th scope=col>num_orphans_Match</th><th scope=col>num_discordant_Match</th><th scope=col>num_proper_SNP</th><th scope=col>mean_al_score_Match</th><th scope=col>seq_window_entropy</th><th scope=col>seq_window_perc_gc</th><th scope=col>Extensive_misassembly</th><th scope=col>sample</th></tr>\n",
       "\t<tr><th scope=col>&lt;chr&gt;</th><th scope=col>&lt;chr&gt;</th><th scope=col>&lt;dbl&gt;</th><th scope=col>&lt;dbl&gt;</th><th scope=col>&lt;dbl&gt;</th><th scope=col>&lt;dbl&gt;</th><th scope=col>&lt;dbl&gt;</th><th scope=col>&lt;dbl&gt;</th><th scope=col>&lt;dbl&gt;</th><th scope=col>&lt;dbl&gt;</th><th scope=col>&lt;dbl&gt;</th><th scope=col>&lt;dbl&gt;</th><th scope=col>&lt;dbl&gt;</th><th scope=col>&lt;dbl&gt;</th><th scope=col>&lt;int&gt;</th><th scope=col>&lt;chr&gt;</th></tr>\n",
       "</thead>\n",
       "<tbody>\n",
       "\t<tr><td>megahit</td><td>k141_17    </td><td>14.401141</td><td>0.05703422</td><td>207.0447</td><td>269.6010</td><td>41.81975</td><td>13.740494</td><td>0.0000000</td><td>0.1425856</td><td>0.5180608</td><td>-13.46244</td><td>1.538011</td><td>0.3890817</td><td>0</td><td>2017.12.04_18.45.54_sample_13</td></tr>\n",
       "\t<tr><td>megahit</td><td>k141_106211</td><td>14.797419</td><td>0.08967742</td><td>150.4690</td><td>235.2357</td><td>38.96612</td><td>13.003871</td><td>0.8316129</td><td>0.3645161</td><td>0.5406452</td><td>-15.78556</td><td>1.550373</td><td>0.3998729</td><td>0</td><td>2017.12.04_18.45.54_sample_13</td></tr>\n",
       "\t<tr><td>megahit</td><td>k141_15023 </td><td>12.760103</td><td>0.07996561</td><td>198.5666</td><td>257.1543</td><td>40.54206</td><td>11.845228</td><td>0.3766122</td><td>0.0000000</td><td>0.5313844</td><td>-17.04003</td><td>1.458201</td><td>0.3734531</td><td>0</td><td>2017.12.04_18.45.54_sample_13</td></tr>\n",
       "\t<tr><td>megahit</td><td>k141_29928 </td><td> 7.268722</td><td>0.06607930</td><td>134.2793</td><td>217.8971</td><td>40.78254</td><td> 6.332159</td><td>0.6422907</td><td>0.0000000</td><td>0.2757709</td><td>-15.82124</td><td>1.481168</td><td>0.4428987</td><td>0</td><td>2017.12.04_18.45.54_sample_13</td></tr>\n",
       "\t<tr><td>megahit</td><td>k141_59938 </td><td>19.886051</td><td>0.27210216</td><td>228.0060</td><td>272.6945</td><td>11.04853</td><td>18.951866</td><td>0.0000000</td><td>0.0000000</td><td>0.9341847</td><td>-20.49685</td><td>1.476487</td><td>0.3688360</td><td>0</td><td>2017.12.04_18.45.54_sample_13</td></tr>\n",
       "\t<tr><td>⋮</td><td>⋮</td><td>⋮</td><td>⋮</td><td>⋮</td><td>⋮</td><td>⋮</td><td>⋮</td><td>⋮</td><td>⋮</td><td>⋮</td><td>⋮</td><td>⋮</td><td>⋮</td><td>⋮</td><td>⋮</td></tr>\n",
       "\t<tr><td>metaspades</td><td>NODE_1199_length_3906_cov_5.780317  </td><td>19.96288</td><td>0.10266257</td><td>190.2834</td><td>253.0409</td><td>40.82264</td><td>17.77752</td><td>0.70327701</td><td>0.6981567</td><td>0.6523297</td><td>-12.89388</td><td>1.469517</td><td>0.3493687</td><td>0</td><td>2017.12.04_18.45.54_sample_8</td></tr>\n",
       "\t<tr><td>metaspades</td><td>NODE_1200_length_3905_cov_4.466753  </td><td>19.97311</td><td>0.03482714</td><td>185.6947</td><td>252.0159</td><td>41.63358</td><td>18.55851</td><td>0.03354673</td><td>0.6691421</td><td>0.6847631</td><td>-11.79481</td><td>1.435121</td><td>0.3178896</td><td>0</td><td>2017.12.04_18.45.54_sample_8</td></tr>\n",
       "\t<tr><td>metaspades</td><td>NODE_1201_length_3904_cov_118.879709</td><td>19.96260</td><td>0.17059426</td><td>189.5696</td><td>261.2253</td><td>39.31906</td><td>18.75231</td><td>0.24795082</td><td>0.1075820</td><td>0.8319672</td><td>-17.40247</td><td>1.495569</td><td>0.3559098</td><td>0</td><td>2017.12.04_18.45.54_sample_8</td></tr>\n",
       "\t<tr><td>metaspades</td><td>NODE_1202_length_3901_cov_2.709568  </td><td>12.65060</td><td>0.03691361</td><td>214.9328</td><td>260.3106</td><td>41.53419</td><td>12.06486</td><td>0.11202256</td><td>0.0000000</td><td>0.4703922</td><td>-12.51115</td><td>1.458172</td><td>0.3386270</td><td>0</td><td>2017.12.04_18.45.54_sample_8</td></tr>\n",
       "\t<tr><td>metaspades</td><td>NODE_1203_length_3900_cov_4.338622  </td><td>19.95821</td><td>0.07102564</td><td>201.4792</td><td>260.1360</td><td>41.20320</td><td>18.96821</td><td>0.07410256</td><td>0.1805128</td><td>0.7215385</td><td>-13.61051</td><td>1.482936</td><td>0.3844215</td><td>0</td><td>2017.12.04_18.45.54_sample_8</td></tr>\n",
       "</tbody>\n",
       "</table>\n"
      ],
      "text/latex": [
       "A data.table: 410076 × 16\n",
       "\\begin{tabular}{llllllllllllllll}\n",
       " assembler & contig & coverage & num\\_SNPs & min\\_insert\\_size\\_Match & mean\\_insert\\_size\\_Match & mean\\_mapq\\_Match & num\\_proper\\_Match & num\\_orphans\\_Match & num\\_discordant\\_Match & num\\_proper\\_SNP & mean\\_al\\_score\\_Match & seq\\_window\\_entropy & seq\\_window\\_perc\\_gc & Extensive\\_misassembly & sample\\\\\n",
       " <chr> & <chr> & <dbl> & <dbl> & <dbl> & <dbl> & <dbl> & <dbl> & <dbl> & <dbl> & <dbl> & <dbl> & <dbl> & <dbl> & <int> & <chr>\\\\\n",
       "\\hline\n",
       "\t megahit & k141\\_17     & 14.401141 & 0.05703422 & 207.0447 & 269.6010 & 41.81975 & 13.740494 & 0.0000000 & 0.1425856 & 0.5180608 & -13.46244 & 1.538011 & 0.3890817 & 0 & 2017.12.04\\_18.45.54\\_sample\\_13\\\\\n",
       "\t megahit & k141\\_106211 & 14.797419 & 0.08967742 & 150.4690 & 235.2357 & 38.96612 & 13.003871 & 0.8316129 & 0.3645161 & 0.5406452 & -15.78556 & 1.550373 & 0.3998729 & 0 & 2017.12.04\\_18.45.54\\_sample\\_13\\\\\n",
       "\t megahit & k141\\_15023  & 12.760103 & 0.07996561 & 198.5666 & 257.1543 & 40.54206 & 11.845228 & 0.3766122 & 0.0000000 & 0.5313844 & -17.04003 & 1.458201 & 0.3734531 & 0 & 2017.12.04\\_18.45.54\\_sample\\_13\\\\\n",
       "\t megahit & k141\\_29928  &  7.268722 & 0.06607930 & 134.2793 & 217.8971 & 40.78254 &  6.332159 & 0.6422907 & 0.0000000 & 0.2757709 & -15.82124 & 1.481168 & 0.4428987 & 0 & 2017.12.04\\_18.45.54\\_sample\\_13\\\\\n",
       "\t megahit & k141\\_59938  & 19.886051 & 0.27210216 & 228.0060 & 272.6945 & 11.04853 & 18.951866 & 0.0000000 & 0.0000000 & 0.9341847 & -20.49685 & 1.476487 & 0.3688360 & 0 & 2017.12.04\\_18.45.54\\_sample\\_13\\\\\n",
       "\t ⋮ & ⋮ & ⋮ & ⋮ & ⋮ & ⋮ & ⋮ & ⋮ & ⋮ & ⋮ & ⋮ & ⋮ & ⋮ & ⋮ & ⋮ & ⋮\\\\\n",
       "\t metaspades & NODE\\_1199\\_length\\_3906\\_cov\\_5.780317   & 19.96288 & 0.10266257 & 190.2834 & 253.0409 & 40.82264 & 17.77752 & 0.70327701 & 0.6981567 & 0.6523297 & -12.89388 & 1.469517 & 0.3493687 & 0 & 2017.12.04\\_18.45.54\\_sample\\_8\\\\\n",
       "\t metaspades & NODE\\_1200\\_length\\_3905\\_cov\\_4.466753   & 19.97311 & 0.03482714 & 185.6947 & 252.0159 & 41.63358 & 18.55851 & 0.03354673 & 0.6691421 & 0.6847631 & -11.79481 & 1.435121 & 0.3178896 & 0 & 2017.12.04\\_18.45.54\\_sample\\_8\\\\\n",
       "\t metaspades & NODE\\_1201\\_length\\_3904\\_cov\\_118.879709 & 19.96260 & 0.17059426 & 189.5696 & 261.2253 & 39.31906 & 18.75231 & 0.24795082 & 0.1075820 & 0.8319672 & -17.40247 & 1.495569 & 0.3559098 & 0 & 2017.12.04\\_18.45.54\\_sample\\_8\\\\\n",
       "\t metaspades & NODE\\_1202\\_length\\_3901\\_cov\\_2.709568   & 12.65060 & 0.03691361 & 214.9328 & 260.3106 & 41.53419 & 12.06486 & 0.11202256 & 0.0000000 & 0.4703922 & -12.51115 & 1.458172 & 0.3386270 & 0 & 2017.12.04\\_18.45.54\\_sample\\_8\\\\\n",
       "\t metaspades & NODE\\_1203\\_length\\_3900\\_cov\\_4.338622   & 19.95821 & 0.07102564 & 201.4792 & 260.1360 & 41.20320 & 18.96821 & 0.07410256 & 0.1805128 & 0.7215385 & -13.61051 & 1.482936 & 0.3844215 & 0 & 2017.12.04\\_18.45.54\\_sample\\_8\\\\\n",
       "\\end{tabular}\n"
      ],
      "text/markdown": [
       "\n",
       "A data.table: 410076 × 16\n",
       "\n",
       "| assembler &lt;chr&gt; | contig &lt;chr&gt; | coverage &lt;dbl&gt; | num_SNPs &lt;dbl&gt; | min_insert_size_Match &lt;dbl&gt; | mean_insert_size_Match &lt;dbl&gt; | mean_mapq_Match &lt;dbl&gt; | num_proper_Match &lt;dbl&gt; | num_orphans_Match &lt;dbl&gt; | num_discordant_Match &lt;dbl&gt; | num_proper_SNP &lt;dbl&gt; | mean_al_score_Match &lt;dbl&gt; | seq_window_entropy &lt;dbl&gt; | seq_window_perc_gc &lt;dbl&gt; | Extensive_misassembly &lt;int&gt; | sample &lt;chr&gt; |\n",
       "|---|---|---|---|---|---|---|---|---|---|---|---|---|---|---|---|\n",
       "| megahit | k141_17     | 14.401141 | 0.05703422 | 207.0447 | 269.6010 | 41.81975 | 13.740494 | 0.0000000 | 0.1425856 | 0.5180608 | -13.46244 | 1.538011 | 0.3890817 | 0 | 2017.12.04_18.45.54_sample_13 |\n",
       "| megahit | k141_106211 | 14.797419 | 0.08967742 | 150.4690 | 235.2357 | 38.96612 | 13.003871 | 0.8316129 | 0.3645161 | 0.5406452 | -15.78556 | 1.550373 | 0.3998729 | 0 | 2017.12.04_18.45.54_sample_13 |\n",
       "| megahit | k141_15023  | 12.760103 | 0.07996561 | 198.5666 | 257.1543 | 40.54206 | 11.845228 | 0.3766122 | 0.0000000 | 0.5313844 | -17.04003 | 1.458201 | 0.3734531 | 0 | 2017.12.04_18.45.54_sample_13 |\n",
       "| megahit | k141_29928  |  7.268722 | 0.06607930 | 134.2793 | 217.8971 | 40.78254 |  6.332159 | 0.6422907 | 0.0000000 | 0.2757709 | -15.82124 | 1.481168 | 0.4428987 | 0 | 2017.12.04_18.45.54_sample_13 |\n",
       "| megahit | k141_59938  | 19.886051 | 0.27210216 | 228.0060 | 272.6945 | 11.04853 | 18.951866 | 0.0000000 | 0.0000000 | 0.9341847 | -20.49685 | 1.476487 | 0.3688360 | 0 | 2017.12.04_18.45.54_sample_13 |\n",
       "| ⋮ | ⋮ | ⋮ | ⋮ | ⋮ | ⋮ | ⋮ | ⋮ | ⋮ | ⋮ | ⋮ | ⋮ | ⋮ | ⋮ | ⋮ | ⋮ |\n",
       "| metaspades | NODE_1199_length_3906_cov_5.780317   | 19.96288 | 0.10266257 | 190.2834 | 253.0409 | 40.82264 | 17.77752 | 0.70327701 | 0.6981567 | 0.6523297 | -12.89388 | 1.469517 | 0.3493687 | 0 | 2017.12.04_18.45.54_sample_8 |\n",
       "| metaspades | NODE_1200_length_3905_cov_4.466753   | 19.97311 | 0.03482714 | 185.6947 | 252.0159 | 41.63358 | 18.55851 | 0.03354673 | 0.6691421 | 0.6847631 | -11.79481 | 1.435121 | 0.3178896 | 0 | 2017.12.04_18.45.54_sample_8 |\n",
       "| metaspades | NODE_1201_length_3904_cov_118.879709 | 19.96260 | 0.17059426 | 189.5696 | 261.2253 | 39.31906 | 18.75231 | 0.24795082 | 0.1075820 | 0.8319672 | -17.40247 | 1.495569 | 0.3559098 | 0 | 2017.12.04_18.45.54_sample_8 |\n",
       "| metaspades | NODE_1202_length_3901_cov_2.709568   | 12.65060 | 0.03691361 | 214.9328 | 260.3106 | 41.53419 | 12.06486 | 0.11202256 | 0.0000000 | 0.4703922 | -12.51115 | 1.458172 | 0.3386270 | 0 | 2017.12.04_18.45.54_sample_8 |\n",
       "| metaspades | NODE_1203_length_3900_cov_4.338622   | 19.95821 | 0.07102564 | 201.4792 | 260.1360 | 41.20320 | 18.96821 | 0.07410256 | 0.1805128 | 0.7215385 | -13.61051 | 1.482936 | 0.3844215 | 0 | 2017.12.04_18.45.54_sample_8 |\n",
       "\n"
      ],
      "text/plain": [
       "       assembler  contig                               coverage  num_SNPs  \n",
       "1      megahit    k141_17                              14.401141 0.05703422\n",
       "2      megahit    k141_106211                          14.797419 0.08967742\n",
       "3      megahit    k141_15023                           12.760103 0.07996561\n",
       "4      megahit    k141_29928                            7.268722 0.06607930\n",
       "5      megahit    k141_59938                           19.886051 0.27210216\n",
       "⋮      ⋮          ⋮                                    ⋮         ⋮         \n",
       "410072 metaspades NODE_1199_length_3906_cov_5.780317   19.96288  0.10266257\n",
       "410073 metaspades NODE_1200_length_3905_cov_4.466753   19.97311  0.03482714\n",
       "410074 metaspades NODE_1201_length_3904_cov_118.879709 19.96260  0.17059426\n",
       "410075 metaspades NODE_1202_length_3901_cov_2.709568   12.65060  0.03691361\n",
       "410076 metaspades NODE_1203_length_3900_cov_4.338622   19.95821  0.07102564\n",
       "       min_insert_size_Match mean_insert_size_Match mean_mapq_Match\n",
       "1      207.0447              269.6010               41.81975       \n",
       "2      150.4690              235.2357               38.96612       \n",
       "3      198.5666              257.1543               40.54206       \n",
       "4      134.2793              217.8971               40.78254       \n",
       "5      228.0060              272.6945               11.04853       \n",
       "⋮      ⋮                     ⋮                      ⋮              \n",
       "410072 190.2834              253.0409               40.82264       \n",
       "410073 185.6947              252.0159               41.63358       \n",
       "410074 189.5696              261.2253               39.31906       \n",
       "410075 214.9328              260.3106               41.53419       \n",
       "410076 201.4792              260.1360               41.20320       \n",
       "       num_proper_Match num_orphans_Match num_discordant_Match num_proper_SNP\n",
       "1      13.740494        0.0000000         0.1425856            0.5180608     \n",
       "2      13.003871        0.8316129         0.3645161            0.5406452     \n",
       "3      11.845228        0.3766122         0.0000000            0.5313844     \n",
       "4       6.332159        0.6422907         0.0000000            0.2757709     \n",
       "5      18.951866        0.0000000         0.0000000            0.9341847     \n",
       "⋮      ⋮                ⋮                 ⋮                    ⋮             \n",
       "410072 17.77752         0.70327701        0.6981567            0.6523297     \n",
       "410073 18.55851         0.03354673        0.6691421            0.6847631     \n",
       "410074 18.75231         0.24795082        0.1075820            0.8319672     \n",
       "410075 12.06486         0.11202256        0.0000000            0.4703922     \n",
       "410076 18.96821         0.07410256        0.1805128            0.7215385     \n",
       "       mean_al_score_Match seq_window_entropy seq_window_perc_gc\n",
       "1      -13.46244           1.538011           0.3890817         \n",
       "2      -15.78556           1.550373           0.3998729         \n",
       "3      -17.04003           1.458201           0.3734531         \n",
       "4      -15.82124           1.481168           0.4428987         \n",
       "5      -20.49685           1.476487           0.3688360         \n",
       "⋮      ⋮                   ⋮                  ⋮                 \n",
       "410072 -12.89388           1.469517           0.3493687         \n",
       "410073 -11.79481           1.435121           0.3178896         \n",
       "410074 -17.40247           1.495569           0.3559098         \n",
       "410075 -12.51115           1.458172           0.3386270         \n",
       "410076 -13.61051           1.482936           0.3844215         \n",
       "       Extensive_misassembly sample                       \n",
       "1      0                     2017.12.04_18.45.54_sample_13\n",
       "2      0                     2017.12.04_18.45.54_sample_13\n",
       "3      0                     2017.12.04_18.45.54_sample_13\n",
       "4      0                     2017.12.04_18.45.54_sample_13\n",
       "5      0                     2017.12.04_18.45.54_sample_13\n",
       "⋮      ⋮                     ⋮                            \n",
       "410072 0                     2017.12.04_18.45.54_sample_8 \n",
       "410073 0                     2017.12.04_18.45.54_sample_8 \n",
       "410074 0                     2017.12.04_18.45.54_sample_8 \n",
       "410075 0                     2017.12.04_18.45.54_sample_8 \n",
       "410076 0                     2017.12.04_18.45.54_sample_8 "
      ]
     },
     "metadata": {},
     "output_type": "display_data"
    }
   ],
   "source": [
    "# writing table: re-load\n",
    "feats = Fread(F)\n",
    "feats"
   ]
  },
  {
   "cell_type": "code",
   "execution_count": 56,
   "id": "ef2f2abd",
   "metadata": {
    "ExecuteTime": {
     "end_time": "2021-10-31T05:44:14.795399Z",
     "start_time": "2021-10-31T05:44:14.642Z"
    }
   },
   "outputs": [
    {
     "data": {
      "text/html": [
       "<table class=\"dataframe\">\n",
       "<caption>A matrix: 1 × 8 of type dbl</caption>\n",
       "<thead>\n",
       "\t<tr><th></th><th scope=col>Min.</th><th scope=col>1st Qu.</th><th scope=col>Median</th><th scope=col>Mean</th><th scope=col>3rd Qu.</th><th scope=col>Max.</th><th scope=col>sd</th><th scope=col>sd_err_of_mean</th></tr>\n",
       "</thead>\n",
       "<tbody>\n",
       "\t<tr><th scope=row>coverage</th><td>1.413761</td><td>7.834443</td><td>12.45419</td><td>12.87575</td><td>19.51998</td><td>20.19306</td><td>7.116</td><td>2.905</td></tr>\n",
       "</tbody>\n",
       "</table>\n"
      ],
      "text/latex": [
       "A matrix: 1 × 8 of type dbl\n",
       "\\begin{tabular}{r|llllllll}\n",
       "  & Min. & 1st Qu. & Median & Mean & 3rd Qu. & Max. & sd & sd\\_err\\_of\\_mean\\\\\n",
       "\\hline\n",
       "\tcoverage & 1.413761 & 7.834443 & 12.45419 & 12.87575 & 19.51998 & 20.19306 & 7.116 & 2.905\\\\\n",
       "\\end{tabular}\n"
      ],
      "text/markdown": [
       "\n",
       "A matrix: 1 × 8 of type dbl\n",
       "\n",
       "| <!--/--> | Min. | 1st Qu. | Median | Mean | 3rd Qu. | Max. | sd | sd_err_of_mean |\n",
       "|---|---|---|---|---|---|---|---|---|\n",
       "| coverage | 1.413761 | 7.834443 | 12.45419 | 12.87575 | 19.51998 | 20.19306 | 7.116 | 2.905 |\n",
       "\n"
      ],
      "text/plain": [
       "         Min.     1st Qu.  Median   Mean     3rd Qu.  Max.     sd   \n",
       "coverage 1.413761 7.834443 12.45419 12.87575 19.51998 20.19306 7.116\n",
       "         sd_err_of_mean\n",
       "coverage 2.905         "
      ]
     },
     "metadata": {},
     "output_type": "display_data"
    },
    {
     "data": {
      "text/html": [
       "<strong>95%:</strong> 19.9891931720475"
      ],
      "text/latex": [
       "\\textbf{95\\textbackslash{}\\%:} 19.9891931720475"
      ],
      "text/markdown": [
       "**95%:** 19.9891931720475"
      ],
      "text/plain": [
       "     95% \n",
       "19.98919 "
      ]
     },
     "metadata": {},
     "output_type": "display_data"
    }
   ],
   "source": [
    "# per-contig coverage distribution\n",
    "summary_x(feats$coverage)\n",
    "quantile(feats$coverage, 0.95)"
   ]
  },
  {
   "cell_type": "code",
   "execution_count": 57,
   "id": "3ea289a1",
   "metadata": {
    "ExecuteTime": {
     "end_time": "2021-10-31T05:44:15.254315Z",
     "start_time": "2021-10-31T05:44:15.145Z"
    }
   },
   "outputs": [
    {
     "data": {
      "text/html": [
       "<table class=\"dataframe\">\n",
       "<caption>A matrix: 1 × 8 of type dbl</caption>\n",
       "<thead>\n",
       "\t<tr><th></th><th scope=col>Min.</th><th scope=col>1st Qu.</th><th scope=col>Median</th><th scope=col>Mean</th><th scope=col>3rd Qu.</th><th scope=col>Max.</th><th scope=col>sd</th><th scope=col>sd_err_of_mean</th></tr>\n",
       "</thead>\n",
       "<tbody>\n",
       "\t<tr><th scope=row>num_SNPs</th><td>0.002606429</td><td>0.05066079</td><td>0.07606391</td><td>0.1057069</td><td>0.1228231</td><td>1.555997</td><td>0.607</td><td>0.248</td></tr>\n",
       "</tbody>\n",
       "</table>\n"
      ],
      "text/latex": [
       "A matrix: 1 × 8 of type dbl\n",
       "\\begin{tabular}{r|llllllll}\n",
       "  & Min. & 1st Qu. & Median & Mean & 3rd Qu. & Max. & sd & sd\\_err\\_of\\_mean\\\\\n",
       "\\hline\n",
       "\tnum\\_SNPs & 0.002606429 & 0.05066079 & 0.07606391 & 0.1057069 & 0.1228231 & 1.555997 & 0.607 & 0.248\\\\\n",
       "\\end{tabular}\n"
      ],
      "text/markdown": [
       "\n",
       "A matrix: 1 × 8 of type dbl\n",
       "\n",
       "| <!--/--> | Min. | 1st Qu. | Median | Mean | 3rd Qu. | Max. | sd | sd_err_of_mean |\n",
       "|---|---|---|---|---|---|---|---|---|\n",
       "| num_SNPs | 0.002606429 | 0.05066079 | 0.07606391 | 0.1057069 | 0.1228231 | 1.555997 | 0.607 | 0.248 |\n",
       "\n"
      ],
      "text/plain": [
       "         Min.        1st Qu.    Median     Mean      3rd Qu.   Max.     sd   \n",
       "num_SNPs 0.002606429 0.05066079 0.07606391 0.1057069 0.1228231 1.555997 0.607\n",
       "         sd_err_of_mean\n",
       "num_SNPs 0.248         "
      ]
     },
     "metadata": {},
     "output_type": "display_data"
    }
   ],
   "source": [
    "# SNPs\n",
    "summary_x(feats$num_SNPs)"
   ]
  },
  {
   "cell_type": "code",
   "execution_count": 58,
   "id": "00d38746",
   "metadata": {
    "ExecuteTime": {
     "end_time": "2021-10-31T05:44:15.561276Z",
     "start_time": "2021-10-31T05:44:15.362Z"
    }
   },
   "outputs": [
    {
     "data": {
      "text/html": [
       "<table class=\"dataframe\">\n",
       "<caption>A matrix: 1 × 8 of type dbl</caption>\n",
       "<thead>\n",
       "\t<tr><th></th><th scope=col>Min.</th><th scope=col>1st Qu.</th><th scope=col>Median</th><th scope=col>Mean</th><th scope=col>3rd Qu.</th><th scope=col>Max.</th><th scope=col>sd</th><th scope=col>sd_err_of_mean</th></tr>\n",
       "</thead>\n",
       "<tbody>\n",
       "\t<tr><th scope=row>min_insert_size_Match</th><td>0.3584906</td><td>148.6968</td><td>173.3459</td><td>170.3161</td><td>196.45</td><td>349.5068</td><td>111.452</td><td>45.5</td></tr>\n",
       "</tbody>\n",
       "</table>\n"
      ],
      "text/latex": [
       "A matrix: 1 × 8 of type dbl\n",
       "\\begin{tabular}{r|llllllll}\n",
       "  & Min. & 1st Qu. & Median & Mean & 3rd Qu. & Max. & sd & sd\\_err\\_of\\_mean\\\\\n",
       "\\hline\n",
       "\tmin\\_insert\\_size\\_Match & 0.3584906 & 148.6968 & 173.3459 & 170.3161 & 196.45 & 349.5068 & 111.452 & 45.5\\\\\n",
       "\\end{tabular}\n"
      ],
      "text/markdown": [
       "\n",
       "A matrix: 1 × 8 of type dbl\n",
       "\n",
       "| <!--/--> | Min. | 1st Qu. | Median | Mean | 3rd Qu. | Max. | sd | sd_err_of_mean |\n",
       "|---|---|---|---|---|---|---|---|---|\n",
       "| min_insert_size_Match | 0.3584906 | 148.6968 | 173.3459 | 170.3161 | 196.45 | 349.5068 | 111.452 | 45.5 |\n",
       "\n"
      ],
      "text/plain": [
       "                      Min.      1st Qu.  Median   Mean     3rd Qu. Max.    \n",
       "min_insert_size_Match 0.3584906 148.6968 173.3459 170.3161 196.45  349.5068\n",
       "                      sd      sd_err_of_mean\n",
       "min_insert_size_Match 111.452 45.5          "
      ]
     },
     "metadata": {},
     "output_type": "display_data"
    },
    {
     "data": {
      "text/html": [
       "<table class=\"dataframe\">\n",
       "<caption>A matrix: 1 × 8 of type dbl</caption>\n",
       "<thead>\n",
       "\t<tr><th></th><th scope=col>Min.</th><th scope=col>1st Qu.</th><th scope=col>Median</th><th scope=col>Mean</th><th scope=col>3rd Qu.</th><th scope=col>Max.</th><th scope=col>sd</th><th scope=col>sd_err_of_mean</th></tr>\n",
       "</thead>\n",
       "<tbody>\n",
       "\t<tr><th scope=row>mean_insert_size_Match</th><td>110.3039</td><td>235.2436</td><td>248.2734</td><td>245.8146</td><td>259.0605</td><td>477.2396</td><td>118.754</td><td>48.481</td></tr>\n",
       "</tbody>\n",
       "</table>\n"
      ],
      "text/latex": [
       "A matrix: 1 × 8 of type dbl\n",
       "\\begin{tabular}{r|llllllll}\n",
       "  & Min. & 1st Qu. & Median & Mean & 3rd Qu. & Max. & sd & sd\\_err\\_of\\_mean\\\\\n",
       "\\hline\n",
       "\tmean\\_insert\\_size\\_Match & 110.3039 & 235.2436 & 248.2734 & 245.8146 & 259.0605 & 477.2396 & 118.754 & 48.481\\\\\n",
       "\\end{tabular}\n"
      ],
      "text/markdown": [
       "\n",
       "A matrix: 1 × 8 of type dbl\n",
       "\n",
       "| <!--/--> | Min. | 1st Qu. | Median | Mean | 3rd Qu. | Max. | sd | sd_err_of_mean |\n",
       "|---|---|---|---|---|---|---|---|---|\n",
       "| mean_insert_size_Match | 110.3039 | 235.2436 | 248.2734 | 245.8146 | 259.0605 | 477.2396 | 118.754 | 48.481 |\n",
       "\n"
      ],
      "text/plain": [
       "                       Min.     1st Qu.  Median   Mean     3rd Qu.  Max.    \n",
       "mean_insert_size_Match 110.3039 235.2436 248.2734 245.8146 259.0605 477.2396\n",
       "                       sd      sd_err_of_mean\n",
       "mean_insert_size_Match 118.754 48.481        "
      ]
     },
     "metadata": {},
     "output_type": "display_data"
    }
   ],
   "source": [
    "# insert sizes\n",
    "summary_x(feats$min_insert_size_Match)\n",
    "summary_x(feats$mean_insert_size_Match)"
   ]
  },
  {
   "cell_type": "code",
   "execution_count": 59,
   "id": "fc6422a7",
   "metadata": {
    "ExecuteTime": {
     "end_time": "2021-10-31T05:44:15.645609Z",
     "start_time": "2021-10-31T05:44:15.534Z"
    }
   },
   "outputs": [
    {
     "data": {
      "text/html": [
       "<table class=\"dataframe\">\n",
       "<caption>A matrix: 1 × 8 of type dbl</caption>\n",
       "<thead>\n",
       "\t<tr><th></th><th scope=col>Min.</th><th scope=col>1st Qu.</th><th scope=col>Median</th><th scope=col>Mean</th><th scope=col>3rd Qu.</th><th scope=col>Max.</th><th scope=col>sd</th><th scope=col>sd_err_of_mean</th></tr>\n",
       "</thead>\n",
       "<tbody>\n",
       "\t<tr><th scope=row>mean_mapq_Match</th><td>0.7396854</td><td>36.55923</td><td>39.07218</td><td>37.5078</td><td>40.47937</td><td>42</td><td>15.793</td><td>6.447</td></tr>\n",
       "</tbody>\n",
       "</table>\n"
      ],
      "text/latex": [
       "A matrix: 1 × 8 of type dbl\n",
       "\\begin{tabular}{r|llllllll}\n",
       "  & Min. & 1st Qu. & Median & Mean & 3rd Qu. & Max. & sd & sd\\_err\\_of\\_mean\\\\\n",
       "\\hline\n",
       "\tmean\\_mapq\\_Match & 0.7396854 & 36.55923 & 39.07218 & 37.5078 & 40.47937 & 42 & 15.793 & 6.447\\\\\n",
       "\\end{tabular}\n"
      ],
      "text/markdown": [
       "\n",
       "A matrix: 1 × 8 of type dbl\n",
       "\n",
       "| <!--/--> | Min. | 1st Qu. | Median | Mean | 3rd Qu. | Max. | sd | sd_err_of_mean |\n",
       "|---|---|---|---|---|---|---|---|---|\n",
       "| mean_mapq_Match | 0.7396854 | 36.55923 | 39.07218 | 37.5078 | 40.47937 | 42 | 15.793 | 6.447 |\n",
       "\n"
      ],
      "text/plain": [
       "                Min.      1st Qu.  Median   Mean    3rd Qu.  Max. sd    \n",
       "mean_mapq_Match 0.7396854 36.55923 39.07218 37.5078 40.47937 42   15.793\n",
       "                sd_err_of_mean\n",
       "mean_mapq_Match 6.447         "
      ]
     },
     "metadata": {},
     "output_type": "display_data"
    }
   ],
   "source": [
    "# mapq\n",
    "summary_x(feats$mean_mapq_Match)"
   ]
  },
  {
   "cell_type": "code",
   "execution_count": 60,
   "id": "796a9ae1",
   "metadata": {
    "ExecuteTime": {
     "end_time": "2021-10-31T05:44:15.887421Z",
     "start_time": "2021-10-31T05:44:15.673Z"
    }
   },
   "outputs": [
    {
     "data": {
      "text/html": [
       "<table class=\"dataframe\">\n",
       "<caption>A matrix: 1 × 8 of type dbl</caption>\n",
       "<thead>\n",
       "\t<tr><th></th><th scope=col>Min.</th><th scope=col>1st Qu.</th><th scope=col>Median</th><th scope=col>Mean</th><th scope=col>3rd Qu.</th><th scope=col>Max.</th><th scope=col>sd</th><th scope=col>sd_err_of_mean</th></tr>\n",
       "</thead>\n",
       "<tbody>\n",
       "\t<tr><th scope=row>num_proper_Match</th><td>0.6520947</td><td>6.980156</td><td>11.22291</td><td>11.66991</td><td>16.97182</td><td>19.3086</td><td>6.758</td><td>2.759</td></tr>\n",
       "</tbody>\n",
       "</table>\n"
      ],
      "text/latex": [
       "A matrix: 1 × 8 of type dbl\n",
       "\\begin{tabular}{r|llllllll}\n",
       "  & Min. & 1st Qu. & Median & Mean & 3rd Qu. & Max. & sd & sd\\_err\\_of\\_mean\\\\\n",
       "\\hline\n",
       "\tnum\\_proper\\_Match & 0.6520947 & 6.980156 & 11.22291 & 11.66991 & 16.97182 & 19.3086 & 6.758 & 2.759\\\\\n",
       "\\end{tabular}\n"
      ],
      "text/markdown": [
       "\n",
       "A matrix: 1 × 8 of type dbl\n",
       "\n",
       "| <!--/--> | Min. | 1st Qu. | Median | Mean | 3rd Qu. | Max. | sd | sd_err_of_mean |\n",
       "|---|---|---|---|---|---|---|---|---|\n",
       "| num_proper_Match | 0.6520947 | 6.980156 | 11.22291 | 11.66991 | 16.97182 | 19.3086 | 6.758 | 2.759 |\n",
       "\n"
      ],
      "text/plain": [
       "                 Min.      1st Qu.  Median   Mean     3rd Qu.  Max.    sd   \n",
       "num_proper_Match 0.6520947 6.980156 11.22291 11.66991 16.97182 19.3086 6.758\n",
       "                 sd_err_of_mean\n",
       "num_proper_Match 2.759         "
      ]
     },
     "metadata": {},
     "output_type": "display_data"
    },
    {
     "data": {
      "text/html": [
       "<table class=\"dataframe\">\n",
       "<caption>A matrix: 1 × 8 of type dbl</caption>\n",
       "<thead>\n",
       "\t<tr><th></th><th scope=col>Min.</th><th scope=col>1st Qu.</th><th scope=col>Median</th><th scope=col>Mean</th><th scope=col>3rd Qu.</th><th scope=col>Max.</th><th scope=col>sd</th><th scope=col>sd_err_of_mean</th></tr>\n",
       "</thead>\n",
       "<tbody>\n",
       "\t<tr><th scope=row>num_proper_SNP</th><td>0.02857143</td><td>0.3039804</td><td>0.4738646</td><td>0.499885</td><td>0.6918602</td><td>2.031496</td><td>0.702</td><td>0.287</td></tr>\n",
       "</tbody>\n",
       "</table>\n"
      ],
      "text/latex": [
       "A matrix: 1 × 8 of type dbl\n",
       "\\begin{tabular}{r|llllllll}\n",
       "  & Min. & 1st Qu. & Median & Mean & 3rd Qu. & Max. & sd & sd\\_err\\_of\\_mean\\\\\n",
       "\\hline\n",
       "\tnum\\_proper\\_SNP & 0.02857143 & 0.3039804 & 0.4738646 & 0.499885 & 0.6918602 & 2.031496 & 0.702 & 0.287\\\\\n",
       "\\end{tabular}\n"
      ],
      "text/markdown": [
       "\n",
       "A matrix: 1 × 8 of type dbl\n",
       "\n",
       "| <!--/--> | Min. | 1st Qu. | Median | Mean | 3rd Qu. | Max. | sd | sd_err_of_mean |\n",
       "|---|---|---|---|---|---|---|---|---|\n",
       "| num_proper_SNP | 0.02857143 | 0.3039804 | 0.4738646 | 0.499885 | 0.6918602 | 2.031496 | 0.702 | 0.287 |\n",
       "\n"
      ],
      "text/plain": [
       "               Min.       1st Qu.   Median    Mean     3rd Qu.   Max.     sd   \n",
       "num_proper_SNP 0.02857143 0.3039804 0.4738646 0.499885 0.6918602 2.031496 0.702\n",
       "               sd_err_of_mean\n",
       "num_proper_SNP 0.287         "
      ]
     },
     "metadata": {},
     "output_type": "display_data"
    }
   ],
   "source": [
    "# proper\n",
    "summary_x(feats$num_proper_Match)\n",
    "summary_x(feats$num_proper_SNP)"
   ]
  },
  {
   "cell_type": "code",
   "execution_count": 61,
   "id": "f9d08de5",
   "metadata": {
    "ExecuteTime": {
     "end_time": "2021-10-31T05:44:15.970127Z",
     "start_time": "2021-10-31T05:44:15.837Z"
    }
   },
   "outputs": [
    {
     "data": {
      "text/html": [
       "<table class=\"dataframe\">\n",
       "<caption>A matrix: 1 × 8 of type dbl</caption>\n",
       "<thead>\n",
       "\t<tr><th></th><th scope=col>Min.</th><th scope=col>1st Qu.</th><th scope=col>Median</th><th scope=col>Mean</th><th scope=col>3rd Qu.</th><th scope=col>Max.</th><th scope=col>sd</th><th scope=col>sd_err_of_mean</th></tr>\n",
       "</thead>\n",
       "<tbody>\n",
       "\t<tr><th scope=row>num_orphans_Match</th><td>0</td><td>0.1458231</td><td>0.3709409</td><td>0.4874277</td><td>0.6651383</td><td>16.9663</td><td>6.794</td><td>2.774</td></tr>\n",
       "</tbody>\n",
       "</table>\n"
      ],
      "text/latex": [
       "A matrix: 1 × 8 of type dbl\n",
       "\\begin{tabular}{r|llllllll}\n",
       "  & Min. & 1st Qu. & Median & Mean & 3rd Qu. & Max. & sd & sd\\_err\\_of\\_mean\\\\\n",
       "\\hline\n",
       "\tnum\\_orphans\\_Match & 0 & 0.1458231 & 0.3709409 & 0.4874277 & 0.6651383 & 16.9663 & 6.794 & 2.774\\\\\n",
       "\\end{tabular}\n"
      ],
      "text/markdown": [
       "\n",
       "A matrix: 1 × 8 of type dbl\n",
       "\n",
       "| <!--/--> | Min. | 1st Qu. | Median | Mean | 3rd Qu. | Max. | sd | sd_err_of_mean |\n",
       "|---|---|---|---|---|---|---|---|---|\n",
       "| num_orphans_Match | 0 | 0.1458231 | 0.3709409 | 0.4874277 | 0.6651383 | 16.9663 | 6.794 | 2.774 |\n",
       "\n"
      ],
      "text/plain": [
       "                  Min. 1st Qu.   Median    Mean      3rd Qu.   Max.    sd   \n",
       "num_orphans_Match 0    0.1458231 0.3709409 0.4874277 0.6651383 16.9663 6.794\n",
       "                  sd_err_of_mean\n",
       "num_orphans_Match 2.774         "
      ]
     },
     "metadata": {},
     "output_type": "display_data"
    }
   ],
   "source": [
    "# orphans\n",
    "summary_x(feats$num_orphans_Match)"
   ]
  },
  {
   "cell_type": "code",
   "execution_count": 62,
   "id": "9164c1ce",
   "metadata": {
    "ExecuteTime": {
     "end_time": "2021-10-31T05:44:16.165682Z",
     "start_time": "2021-10-31T05:44:16.029Z"
    }
   },
   "outputs": [
    {
     "data": {
      "text/html": [
       "<table class=\"dataframe\">\n",
       "<caption>A matrix: 1 × 8 of type dbl</caption>\n",
       "<thead>\n",
       "\t<tr><th></th><th scope=col>Min.</th><th scope=col>1st Qu.</th><th scope=col>Median</th><th scope=col>Mean</th><th scope=col>3rd Qu.</th><th scope=col>Max.</th><th scope=col>sd</th><th scope=col>sd_err_of_mean</th></tr>\n",
       "</thead>\n",
       "<tbody>\n",
       "\t<tr><th scope=row>num_discordant_Match</th><td>0</td><td>0</td><td>0</td><td>0.1845461</td><td>0.2524668</td><td>12.90046</td><td>5.232</td><td>2.136</td></tr>\n",
       "</tbody>\n",
       "</table>\n"
      ],
      "text/latex": [
       "A matrix: 1 × 8 of type dbl\n",
       "\\begin{tabular}{r|llllllll}\n",
       "  & Min. & 1st Qu. & Median & Mean & 3rd Qu. & Max. & sd & sd\\_err\\_of\\_mean\\\\\n",
       "\\hline\n",
       "\tnum\\_discordant\\_Match & 0 & 0 & 0 & 0.1845461 & 0.2524668 & 12.90046 & 5.232 & 2.136\\\\\n",
       "\\end{tabular}\n"
      ],
      "text/markdown": [
       "\n",
       "A matrix: 1 × 8 of type dbl\n",
       "\n",
       "| <!--/--> | Min. | 1st Qu. | Median | Mean | 3rd Qu. | Max. | sd | sd_err_of_mean |\n",
       "|---|---|---|---|---|---|---|---|---|\n",
       "| num_discordant_Match | 0 | 0 | 0 | 0.1845461 | 0.2524668 | 12.90046 | 5.232 | 2.136 |\n",
       "\n"
      ],
      "text/plain": [
       "                     Min. 1st Qu. Median Mean      3rd Qu.   Max.     sd   \n",
       "num_discordant_Match 0    0       0      0.1845461 0.2524668 12.90046 5.232\n",
       "                     sd_err_of_mean\n",
       "num_discordant_Match 2.136         "
      ]
     },
     "metadata": {},
     "output_type": "display_data"
    }
   ],
   "source": [
    "# discordant\n",
    "summary_x(feats$num_discordant_Match)"
   ]
  },
  {
   "cell_type": "code",
   "execution_count": 63,
   "id": "aa8481a8",
   "metadata": {
    "ExecuteTime": {
     "end_time": "2021-10-31T05:44:16.740805Z",
     "start_time": "2021-10-31T05:44:16.648Z"
    }
   },
   "outputs": [
    {
     "data": {
      "text/html": [
       "<table class=\"dataframe\">\n",
       "<caption>A matrix: 1 × 8 of type dbl</caption>\n",
       "<thead>\n",
       "\t<tr><th></th><th scope=col>Min.</th><th scope=col>1st Qu.</th><th scope=col>Median</th><th scope=col>Mean</th><th scope=col>3rd Qu.</th><th scope=col>Max.</th><th scope=col>sd</th><th scope=col>sd_err_of_mean</th></tr>\n",
       "</thead>\n",
       "<tbody>\n",
       "\t<tr><th scope=row>seq_window_entropy</th><td>1.166761</td><td>1.446113</td><td>1.486801</td><td>1.479013</td><td>1.518607</td><td>1.774396</td><td>0.194</td><td>0.079</td></tr>\n",
       "</tbody>\n",
       "</table>\n"
      ],
      "text/latex": [
       "A matrix: 1 × 8 of type dbl\n",
       "\\begin{tabular}{r|llllllll}\n",
       "  & Min. & 1st Qu. & Median & Mean & 3rd Qu. & Max. & sd & sd\\_err\\_of\\_mean\\\\\n",
       "\\hline\n",
       "\tseq\\_window\\_entropy & 1.166761 & 1.446113 & 1.486801 & 1.479013 & 1.518607 & 1.774396 & 0.194 & 0.079\\\\\n",
       "\\end{tabular}\n"
      ],
      "text/markdown": [
       "\n",
       "A matrix: 1 × 8 of type dbl\n",
       "\n",
       "| <!--/--> | Min. | 1st Qu. | Median | Mean | 3rd Qu. | Max. | sd | sd_err_of_mean |\n",
       "|---|---|---|---|---|---|---|---|---|\n",
       "| seq_window_entropy | 1.166761 | 1.446113 | 1.486801 | 1.479013 | 1.518607 | 1.774396 | 0.194 | 0.079 |\n",
       "\n"
      ],
      "text/plain": [
       "                   Min.     1st Qu.  Median   Mean     3rd Qu.  Max.     sd   \n",
       "seq_window_entropy 1.166761 1.446113 1.486801 1.479013 1.518607 1.774396 0.194\n",
       "                   sd_err_of_mean\n",
       "seq_window_entropy 0.079         "
      ]
     },
     "metadata": {},
     "output_type": "display_data"
    }
   ],
   "source": [
    "# entropy\n",
    "summary_x(feats$seq_window_entropy)"
   ]
  },
  {
   "cell_type": "code",
   "execution_count": 64,
   "id": "3520606e",
   "metadata": {
    "ExecuteTime": {
     "end_time": "2021-10-31T05:44:17.248010Z",
     "start_time": "2021-10-31T05:44:17.130Z"
    }
   },
   "outputs": [
    {
     "data": {
      "text/html": [
       "<table class=\"dataframe\">\n",
       "<caption>A matrix: 1 × 8 of type dbl</caption>\n",
       "<thead>\n",
       "\t<tr><th></th><th scope=col>Min.</th><th scope=col>1st Qu.</th><th scope=col>Median</th><th scope=col>Mean</th><th scope=col>3rd Qu.</th><th scope=col>Max.</th><th scope=col>sd</th><th scope=col>sd_err_of_mean</th></tr>\n",
       "</thead>\n",
       "<tbody>\n",
       "\t<tr><th scope=row>seq_window_perc_gc</th><td>0.1574141</td><td>0.3459871</td><td>0.3921803</td><td>0.4251471</td><td>0.4745365</td><td>0.8278492</td><td>0.22</td><td>0.09</td></tr>\n",
       "</tbody>\n",
       "</table>\n"
      ],
      "text/latex": [
       "A matrix: 1 × 8 of type dbl\n",
       "\\begin{tabular}{r|llllllll}\n",
       "  & Min. & 1st Qu. & Median & Mean & 3rd Qu. & Max. & sd & sd\\_err\\_of\\_mean\\\\\n",
       "\\hline\n",
       "\tseq\\_window\\_perc\\_gc & 0.1574141 & 0.3459871 & 0.3921803 & 0.4251471 & 0.4745365 & 0.8278492 & 0.22 & 0.09\\\\\n",
       "\\end{tabular}\n"
      ],
      "text/markdown": [
       "\n",
       "A matrix: 1 × 8 of type dbl\n",
       "\n",
       "| <!--/--> | Min. | 1st Qu. | Median | Mean | 3rd Qu. | Max. | sd | sd_err_of_mean |\n",
       "|---|---|---|---|---|---|---|---|---|\n",
       "| seq_window_perc_gc | 0.1574141 | 0.3459871 | 0.3921803 | 0.4251471 | 0.4745365 | 0.8278492 | 0.22 | 0.09 |\n",
       "\n"
      ],
      "text/plain": [
       "                   Min.      1st Qu.   Median    Mean      3rd Qu.   Max.     \n",
       "seq_window_perc_gc 0.1574141 0.3459871 0.3921803 0.4251471 0.4745365 0.8278492\n",
       "                   sd   sd_err_of_mean\n",
       "seq_window_perc_gc 0.22 0.09          "
      ]
     },
     "metadata": {},
     "output_type": "display_data"
    }
   ],
   "source": [
    "# GC\n",
    "summary_x(feats$seq_window_perc_gc)"
   ]
  },
  {
   "cell_type": "code",
   "execution_count": 65,
   "id": "0fa526e8",
   "metadata": {
    "ExecuteTime": {
     "end_time": "2021-10-31T05:44:18.101216Z",
     "start_time": "2021-10-31T05:44:17.987Z"
    }
   },
   "outputs": [
    {
     "data": {
      "text/plain": [
       "\n",
       "     0      1 \n",
       "402912   7164 "
      ]
     },
     "metadata": {},
     "output_type": "display_data"
    }
   ],
   "source": [
    "# misassemblies\n",
    "table(feats$Extensive_misassembly)"
   ]
  },
  {
   "cell_type": "code",
   "execution_count": 53,
   "id": "88aae7a2",
   "metadata": {
    "ExecuteTime": {
     "end_time": "2021-10-31T05:42:37.286699Z",
     "start_time": "2021-10-31T05:26:14.698Z"
    }
   },
   "outputs": [
    {
     "name": "stderr",
     "output_type": "stream",
     "text": [
      "Sending email to: nyoungblut@tuebingen.mpg.de\n",
      "\n"
     ]
    }
   ],
   "source": [
    "send_email('http://127.0.0.1:9704/notebooks/deepmased/notebooks/06_version2/01_simulation_datasets/04_CAMI/02_CAMI2_HMP-oral.ipynb')"
   ]
  },
  {
   "cell_type": "markdown",
   "id": "714a89c9",
   "metadata": {},
   "source": [
    "### metaMIC"
   ]
  },
  {
   "cell_type": "markdown",
   "id": "c61e4ac2",
   "metadata": {
    "ExecuteTime": {
     "end_time": "2021-10-31T05:42:37.305187Z",
     "start_time": "2021-10-31T05:26:26.041Z"
    }
   },
   "source": [
    "#### True misassemblies"
   ]
  },
  {
   "cell_type": "code",
   "execution_count": 67,
   "id": "9d754dc8",
   "metadata": {
    "ExecuteTime": {
     "end_time": "2021-10-31T05:44:50.130459Z",
     "start_time": "2021-10-31T05:44:50.010Z"
    }
   },
   "outputs": [
    {
     "data": {
      "text/html": [
       "20"
      ],
      "text/latex": [
       "20"
      ],
      "text/markdown": [
       "20"
      ],
      "text/plain": [
       "[1] 20"
      ]
     },
     "metadata": {},
     "output_type": "display_data"
    },
    {
     "data": {
      "text/html": [
       "<style>\n",
       ".list-inline {list-style: none; margin:0; padding: 0}\n",
       ".list-inline>li {display: inline-block}\n",
       ".list-inline>li:not(:last-child)::after {content: \"\\00b7\"; padding: 0 .5ex}\n",
       "</style>\n",
       "<ol class=list-inline><li>'/ebio/abt3_projects/databases_no-backup/CAMI/CAMI2_HMP-oral/short_read//ResMiCo-SM/features/2017.12.04_18.45.54_sample_13/NA/NA/NA/NA/megahit/features.tsv.gz'</li><li>'/ebio/abt3_projects/databases_no-backup/CAMI/CAMI2_HMP-oral/short_read//ResMiCo-SM/features/2017.12.04_18.45.54_sample_13/NA/NA/NA/NA/metaspades/features.tsv.gz'</li><li>'/ebio/abt3_projects/databases_no-backup/CAMI/CAMI2_HMP-oral/short_read//ResMiCo-SM/features/2017.12.04_18.45.54_sample_14/NA/NA/NA/NA/megahit/features.tsv.gz'</li></ol>\n"
      ],
      "text/latex": [
       "\\begin{enumerate*}\n",
       "\\item '/ebio/abt3\\_projects/databases\\_no-backup/CAMI/CAMI2\\_HMP-oral/short\\_read//ResMiCo-SM/features/2017.12.04\\_18.45.54\\_sample\\_13/NA/NA/NA/NA/megahit/features.tsv.gz'\n",
       "\\item '/ebio/abt3\\_projects/databases\\_no-backup/CAMI/CAMI2\\_HMP-oral/short\\_read//ResMiCo-SM/features/2017.12.04\\_18.45.54\\_sample\\_13/NA/NA/NA/NA/metaspades/features.tsv.gz'\n",
       "\\item '/ebio/abt3\\_projects/databases\\_no-backup/CAMI/CAMI2\\_HMP-oral/short\\_read//ResMiCo-SM/features/2017.12.04\\_18.45.54\\_sample\\_14/NA/NA/NA/NA/megahit/features.tsv.gz'\n",
       "\\end{enumerate*}\n"
      ],
      "text/markdown": [
       "1. '/ebio/abt3_projects/databases_no-backup/CAMI/CAMI2_HMP-oral/short_read//ResMiCo-SM/features/2017.12.04_18.45.54_sample_13/NA/NA/NA/NA/megahit/features.tsv.gz'\n",
       "2. '/ebio/abt3_projects/databases_no-backup/CAMI/CAMI2_HMP-oral/short_read//ResMiCo-SM/features/2017.12.04_18.45.54_sample_13/NA/NA/NA/NA/metaspades/features.tsv.gz'\n",
       "3. '/ebio/abt3_projects/databases_no-backup/CAMI/CAMI2_HMP-oral/short_read//ResMiCo-SM/features/2017.12.04_18.45.54_sample_14/NA/NA/NA/NA/megahit/features.tsv.gz'\n",
       "\n",
       "\n"
      ],
      "text/plain": [
       "[1] \"/ebio/abt3_projects/databases_no-backup/CAMI/CAMI2_HMP-oral/short_read//ResMiCo-SM/features/2017.12.04_18.45.54_sample_13/NA/NA/NA/NA/megahit/features.tsv.gz\"   \n",
       "[2] \"/ebio/abt3_projects/databases_no-backup/CAMI/CAMI2_HMP-oral/short_read//ResMiCo-SM/features/2017.12.04_18.45.54_sample_13/NA/NA/NA/NA/metaspades/features.tsv.gz\"\n",
       "[3] \"/ebio/abt3_projects/databases_no-backup/CAMI/CAMI2_HMP-oral/short_read//ResMiCo-SM/features/2017.12.04_18.45.54_sample_14/NA/NA/NA/NA/megahit/features.tsv.gz\"   "
      ]
     },
     "metadata": {},
     "output_type": "display_data"
    }
   ],
   "source": [
    "# listing files\n",
    "P = file.path(work_dir, 'ResMiCo-SM', 'features')\n",
    "feat_files = list_files(P, 'features.tsv.gz')\n",
    "feat_files %>% length\n",
    "feat_files %>% head(n=3)"
   ]
  },
  {
   "cell_type": "code",
   "execution_count": 68,
   "id": "e17d3937",
   "metadata": {
    "ExecuteTime": {
     "end_time": "2021-10-31T06:00:20.617103Z",
     "start_time": "2021-10-31T05:44:51.176Z"
    }
   },
   "outputs": [
    {
     "data": {
      "text/html": [
       "<table class=\"dataframe\">\n",
       "<caption>A data.table: 410076 × 4</caption>\n",
       "<thead>\n",
       "\t<tr><th scope=col>assembler</th><th scope=col>contig</th><th scope=col>Extensive_misassembly</th><th scope=col>sample</th></tr>\n",
       "\t<tr><th scope=col>&lt;chr&gt;</th><th scope=col>&lt;chr&gt;</th><th scope=col>&lt;int&gt;</th><th scope=col>&lt;chr&gt;</th></tr>\n",
       "</thead>\n",
       "<tbody>\n",
       "\t<tr><td>megahit</td><td>k141_17    </td><td>0</td><td>2017.12.04_18.45.54_sample_13</td></tr>\n",
       "\t<tr><td>megahit</td><td>k141_106211</td><td>0</td><td>2017.12.04_18.45.54_sample_13</td></tr>\n",
       "\t<tr><td>megahit</td><td>k141_15023 </td><td>0</td><td>2017.12.04_18.45.54_sample_13</td></tr>\n",
       "\t<tr><td>megahit</td><td>k141_29928 </td><td>0</td><td>2017.12.04_18.45.54_sample_13</td></tr>\n",
       "\t<tr><td>megahit</td><td>k141_59938 </td><td>0</td><td>2017.12.04_18.45.54_sample_13</td></tr>\n",
       "\t<tr><td>⋮</td><td>⋮</td><td>⋮</td><td>⋮</td></tr>\n",
       "\t<tr><td>metaspades</td><td>NODE_1199_length_3906_cov_5.780317  </td><td>0</td><td>2017.12.04_18.45.54_sample_8</td></tr>\n",
       "\t<tr><td>metaspades</td><td>NODE_1200_length_3905_cov_4.466753  </td><td>0</td><td>2017.12.04_18.45.54_sample_8</td></tr>\n",
       "\t<tr><td>metaspades</td><td>NODE_1201_length_3904_cov_118.879709</td><td>0</td><td>2017.12.04_18.45.54_sample_8</td></tr>\n",
       "\t<tr><td>metaspades</td><td>NODE_1202_length_3901_cov_2.709568  </td><td>0</td><td>2017.12.04_18.45.54_sample_8</td></tr>\n",
       "\t<tr><td>metaspades</td><td>NODE_1203_length_3900_cov_4.338622  </td><td>0</td><td>2017.12.04_18.45.54_sample_8</td></tr>\n",
       "</tbody>\n",
       "</table>\n"
      ],
      "text/latex": [
       "A data.table: 410076 × 4\n",
       "\\begin{tabular}{llll}\n",
       " assembler & contig & Extensive\\_misassembly & sample\\\\\n",
       " <chr> & <chr> & <int> & <chr>\\\\\n",
       "\\hline\n",
       "\t megahit & k141\\_17     & 0 & 2017.12.04\\_18.45.54\\_sample\\_13\\\\\n",
       "\t megahit & k141\\_106211 & 0 & 2017.12.04\\_18.45.54\\_sample\\_13\\\\\n",
       "\t megahit & k141\\_15023  & 0 & 2017.12.04\\_18.45.54\\_sample\\_13\\\\\n",
       "\t megahit & k141\\_29928  & 0 & 2017.12.04\\_18.45.54\\_sample\\_13\\\\\n",
       "\t megahit & k141\\_59938  & 0 & 2017.12.04\\_18.45.54\\_sample\\_13\\\\\n",
       "\t ⋮ & ⋮ & ⋮ & ⋮\\\\\n",
       "\t metaspades & NODE\\_1199\\_length\\_3906\\_cov\\_5.780317   & 0 & 2017.12.04\\_18.45.54\\_sample\\_8\\\\\n",
       "\t metaspades & NODE\\_1200\\_length\\_3905\\_cov\\_4.466753   & 0 & 2017.12.04\\_18.45.54\\_sample\\_8\\\\\n",
       "\t metaspades & NODE\\_1201\\_length\\_3904\\_cov\\_118.879709 & 0 & 2017.12.04\\_18.45.54\\_sample\\_8\\\\\n",
       "\t metaspades & NODE\\_1202\\_length\\_3901\\_cov\\_2.709568   & 0 & 2017.12.04\\_18.45.54\\_sample\\_8\\\\\n",
       "\t metaspades & NODE\\_1203\\_length\\_3900\\_cov\\_4.338622   & 0 & 2017.12.04\\_18.45.54\\_sample\\_8\\\\\n",
       "\\end{tabular}\n"
      ],
      "text/markdown": [
       "\n",
       "A data.table: 410076 × 4\n",
       "\n",
       "| assembler &lt;chr&gt; | contig &lt;chr&gt; | Extensive_misassembly &lt;int&gt; | sample &lt;chr&gt; |\n",
       "|---|---|---|---|\n",
       "| megahit | k141_17     | 0 | 2017.12.04_18.45.54_sample_13 |\n",
       "| megahit | k141_106211 | 0 | 2017.12.04_18.45.54_sample_13 |\n",
       "| megahit | k141_15023  | 0 | 2017.12.04_18.45.54_sample_13 |\n",
       "| megahit | k141_29928  | 0 | 2017.12.04_18.45.54_sample_13 |\n",
       "| megahit | k141_59938  | 0 | 2017.12.04_18.45.54_sample_13 |\n",
       "| ⋮ | ⋮ | ⋮ | ⋮ |\n",
       "| metaspades | NODE_1199_length_3906_cov_5.780317   | 0 | 2017.12.04_18.45.54_sample_8 |\n",
       "| metaspades | NODE_1200_length_3905_cov_4.466753   | 0 | 2017.12.04_18.45.54_sample_8 |\n",
       "| metaspades | NODE_1201_length_3904_cov_118.879709 | 0 | 2017.12.04_18.45.54_sample_8 |\n",
       "| metaspades | NODE_1202_length_3901_cov_2.709568   | 0 | 2017.12.04_18.45.54_sample_8 |\n",
       "| metaspades | NODE_1203_length_3900_cov_4.338622   | 0 | 2017.12.04_18.45.54_sample_8 |\n",
       "\n"
      ],
      "text/plain": [
       "       assembler  contig                               Extensive_misassembly\n",
       "1      megahit    k141_17                              0                    \n",
       "2      megahit    k141_106211                          0                    \n",
       "3      megahit    k141_15023                           0                    \n",
       "4      megahit    k141_29928                           0                    \n",
       "5      megahit    k141_59938                           0                    \n",
       "⋮      ⋮          ⋮                                    ⋮                    \n",
       "410072 metaspades NODE_1199_length_3906_cov_5.780317   0                    \n",
       "410073 metaspades NODE_1200_length_3905_cov_4.466753   0                    \n",
       "410074 metaspades NODE_1201_length_3904_cov_118.879709 0                    \n",
       "410075 metaspades NODE_1202_length_3901_cov_2.709568   0                    \n",
       "410076 metaspades NODE_1203_length_3900_cov_4.338622   0                    \n",
       "       sample                       \n",
       "1      2017.12.04_18.45.54_sample_13\n",
       "2      2017.12.04_18.45.54_sample_13\n",
       "3      2017.12.04_18.45.54_sample_13\n",
       "4      2017.12.04_18.45.54_sample_13\n",
       "5      2017.12.04_18.45.54_sample_13\n",
       "⋮      ⋮                            \n",
       "410072 2017.12.04_18.45.54_sample_8 \n",
       "410073 2017.12.04_18.45.54_sample_8 \n",
       "410074 2017.12.04_18.45.54_sample_8 \n",
       "410075 2017.12.04_18.45.54_sample_8 \n",
       "410076 2017.12.04_18.45.54_sample_8 "
      ]
     },
     "metadata": {},
     "output_type": "display_data"
    }
   ],
   "source": [
    "# reading\n",
    "read_feat_mis = function(F){\n",
    "    df = Fread(F) %>%\n",
    "        select.(assembler, contig, Extensive_misassembly) %>%\n",
    "        summarize.(Extensive_misassembly = first(Extensive_misassembly),\n",
    "                   .by=c(assembler, contig))\n",
    "    x = unlist(strsplit(F, '/'))\n",
    "    df$sample = x[length(x)-6]\n",
    "    return(df)\n",
    "}\n",
    "doParallel::registerDoParallel(6)\n",
    "true_mis = feat_files %>%\n",
    "    plyr::llply(read_feat_mis, .parallel=TRUE) %>%\n",
    "    rbindlist(use.names=TRUE) \n",
    "true_mis"
   ]
  },
  {
   "cell_type": "markdown",
   "id": "b78e77b7",
   "metadata": {},
   "source": [
    "#### metaMIC contig scores\n",
    "\n",
    "misassembly classification cutoff:\n",
    "\n",
    "* MEGAHIT = 0.8\n",
    "* IDBA_UD = 0.5\n",
    "* other assemblers = `quantile(metaMIC_contig_score, 0.95))`"
   ]
  },
  {
   "cell_type": "code",
   "execution_count": 69,
   "id": "90c6ba34",
   "metadata": {
    "ExecuteTime": {
     "end_time": "2021-10-31T06:00:20.820314Z",
     "start_time": "2021-10-31T05:44:56.937Z"
    }
   },
   "outputs": [
    {
     "data": {
      "text/html": [
       "20"
      ],
      "text/latex": [
       "20"
      ],
      "text/markdown": [
       "20"
      ],
      "text/plain": [
       "[1] 20"
      ]
     },
     "metadata": {},
     "output_type": "display_data"
    },
    {
     "data": {
      "text/html": [
       "<style>\n",
       ".list-inline {list-style: none; margin:0; padding: 0}\n",
       ".list-inline>li {display: inline-block}\n",
       ".list-inline>li:not(:last-child)::after {content: \"\\00b7\"; padding: 0 .5ex}\n",
       "</style>\n",
       "<ol class=list-inline><li>'/ebio/abt3_projects/databases_no-backup/CAMI/CAMI2_HMP-oral/short_read//ResMiCo-SM/metaMIC/2017.12.04_18.45.54_sample_13/NA/NA/NA/NA/megahit/metaMIC/metaMIC_contig_score.txt.gz'</li><li>'/ebio/abt3_projects/databases_no-backup/CAMI/CAMI2_HMP-oral/short_read//ResMiCo-SM/metaMIC/2017.12.04_18.45.54_sample_13/NA/NA/NA/NA/metaspades/metaMIC/metaMIC_contig_score.txt.gz'</li><li>'/ebio/abt3_projects/databases_no-backup/CAMI/CAMI2_HMP-oral/short_read//ResMiCo-SM/metaMIC/2017.12.04_18.45.54_sample_14/NA/NA/NA/NA/megahit/metaMIC/metaMIC_contig_score.txt.gz'</li></ol>\n"
      ],
      "text/latex": [
       "\\begin{enumerate*}\n",
       "\\item '/ebio/abt3\\_projects/databases\\_no-backup/CAMI/CAMI2\\_HMP-oral/short\\_read//ResMiCo-SM/metaMIC/2017.12.04\\_18.45.54\\_sample\\_13/NA/NA/NA/NA/megahit/metaMIC/metaMIC\\_contig\\_score.txt.gz'\n",
       "\\item '/ebio/abt3\\_projects/databases\\_no-backup/CAMI/CAMI2\\_HMP-oral/short\\_read//ResMiCo-SM/metaMIC/2017.12.04\\_18.45.54\\_sample\\_13/NA/NA/NA/NA/metaspades/metaMIC/metaMIC\\_contig\\_score.txt.gz'\n",
       "\\item '/ebio/abt3\\_projects/databases\\_no-backup/CAMI/CAMI2\\_HMP-oral/short\\_read//ResMiCo-SM/metaMIC/2017.12.04\\_18.45.54\\_sample\\_14/NA/NA/NA/NA/megahit/metaMIC/metaMIC\\_contig\\_score.txt.gz'\n",
       "\\end{enumerate*}\n"
      ],
      "text/markdown": [
       "1. '/ebio/abt3_projects/databases_no-backup/CAMI/CAMI2_HMP-oral/short_read//ResMiCo-SM/metaMIC/2017.12.04_18.45.54_sample_13/NA/NA/NA/NA/megahit/metaMIC/metaMIC_contig_score.txt.gz'\n",
       "2. '/ebio/abt3_projects/databases_no-backup/CAMI/CAMI2_HMP-oral/short_read//ResMiCo-SM/metaMIC/2017.12.04_18.45.54_sample_13/NA/NA/NA/NA/metaspades/metaMIC/metaMIC_contig_score.txt.gz'\n",
       "3. '/ebio/abt3_projects/databases_no-backup/CAMI/CAMI2_HMP-oral/short_read//ResMiCo-SM/metaMIC/2017.12.04_18.45.54_sample_14/NA/NA/NA/NA/megahit/metaMIC/metaMIC_contig_score.txt.gz'\n",
       "\n",
       "\n"
      ],
      "text/plain": [
       "[1] \"/ebio/abt3_projects/databases_no-backup/CAMI/CAMI2_HMP-oral/short_read//ResMiCo-SM/metaMIC/2017.12.04_18.45.54_sample_13/NA/NA/NA/NA/megahit/metaMIC/metaMIC_contig_score.txt.gz\"   \n",
       "[2] \"/ebio/abt3_projects/databases_no-backup/CAMI/CAMI2_HMP-oral/short_read//ResMiCo-SM/metaMIC/2017.12.04_18.45.54_sample_13/NA/NA/NA/NA/metaspades/metaMIC/metaMIC_contig_score.txt.gz\"\n",
       "[3] \"/ebio/abt3_projects/databases_no-backup/CAMI/CAMI2_HMP-oral/short_read//ResMiCo-SM/metaMIC/2017.12.04_18.45.54_sample_14/NA/NA/NA/NA/megahit/metaMIC/metaMIC_contig_score.txt.gz\"   "
      ]
     },
     "metadata": {},
     "output_type": "display_data"
    }
   ],
   "source": [
    "# listing files\n",
    "P = file.path(work_dir, 'ResMiCo-SM', 'metaMIC')\n",
    "files = list_files(P, 'metaMIC_contig_score.txt.gz')\n",
    "files %>% length\n",
    "files %>% head(n=3)"
   ]
  },
  {
   "cell_type": "code",
   "execution_count": 70,
   "id": "e64e397d",
   "metadata": {
    "ExecuteTime": {
     "end_time": "2021-10-31T06:00:24.284472Z",
     "start_time": "2021-10-31T05:44:57.096Z"
    }
   },
   "outputs": [
    {
     "data": {
      "text/html": [
       "<table class=\"dataframe\">\n",
       "<caption>A data.table: 370779 × 5</caption>\n",
       "<thead>\n",
       "\t<tr><th scope=col>contig</th><th scope=col>metaMIC_contig_score</th><th scope=col>length</th><th scope=col>sample</th><th scope=col>assembler</th></tr>\n",
       "\t<tr><th scope=col>&lt;chr&gt;</th><th scope=col>&lt;dbl&gt;</th><th scope=col>&lt;dbl&gt;</th><th scope=col>&lt;chr&gt;</th><th scope=col>&lt;chr&gt;</th></tr>\n",
       "</thead>\n",
       "<tbody>\n",
       "\t<tr><td>k141_100007</td><td>0.40405</td><td>4893</td><td>2017.12.04_18.45.54_sample_13</td><td>megahit</td></tr>\n",
       "\t<tr><td>k141_100009</td><td>0.32710</td><td>1035</td><td>2017.12.04_18.45.54_sample_13</td><td>megahit</td></tr>\n",
       "\t<tr><td>k141_100011</td><td>0.50095</td><td>1433</td><td>2017.12.04_18.45.54_sample_13</td><td>megahit</td></tr>\n",
       "\t<tr><td>k141_100031</td><td>0.30050</td><td>1722</td><td>2017.12.04_18.45.54_sample_13</td><td>megahit</td></tr>\n",
       "\t<tr><td>k141_100035</td><td>0.28480</td><td>1164</td><td>2017.12.04_18.45.54_sample_13</td><td>megahit</td></tr>\n",
       "\t<tr><td>⋮</td><td>⋮</td><td>⋮</td><td>⋮</td><td>⋮</td></tr>\n",
       "\t<tr><td>NODE_997_length_4483_cov_4.018519  </td><td>0.20570</td><td>  4483</td><td>2017.12.04_18.45.54_sample_8</td><td>metaspades</td></tr>\n",
       "\t<tr><td>NODE_998_length_4478_cov_17.681212 </td><td>0.29410</td><td>  4478</td><td>2017.12.04_18.45.54_sample_8</td><td>metaspades</td></tr>\n",
       "\t<tr><td>NODE_999_length_4470_cov_112.375991</td><td>0.37930</td><td>  4470</td><td>2017.12.04_18.45.54_sample_8</td><td>metaspades</td></tr>\n",
       "\t<tr><td>NODE_99_length_38743_cov_10.858845 </td><td>0.42785</td><td> 38743</td><td>2017.12.04_18.45.54_sample_8</td><td>metaspades</td></tr>\n",
       "\t<tr><td>NODE_9_length_118123_cov_94.567249 </td><td>0.42250</td><td>118123</td><td>2017.12.04_18.45.54_sample_8</td><td>metaspades</td></tr>\n",
       "</tbody>\n",
       "</table>\n"
      ],
      "text/latex": [
       "A data.table: 370779 × 5\n",
       "\\begin{tabular}{lllll}\n",
       " contig & metaMIC\\_contig\\_score & length & sample & assembler\\\\\n",
       " <chr> & <dbl> & <dbl> & <chr> & <chr>\\\\\n",
       "\\hline\n",
       "\t k141\\_100007 & 0.40405 & 4893 & 2017.12.04\\_18.45.54\\_sample\\_13 & megahit\\\\\n",
       "\t k141\\_100009 & 0.32710 & 1035 & 2017.12.04\\_18.45.54\\_sample\\_13 & megahit\\\\\n",
       "\t k141\\_100011 & 0.50095 & 1433 & 2017.12.04\\_18.45.54\\_sample\\_13 & megahit\\\\\n",
       "\t k141\\_100031 & 0.30050 & 1722 & 2017.12.04\\_18.45.54\\_sample\\_13 & megahit\\\\\n",
       "\t k141\\_100035 & 0.28480 & 1164 & 2017.12.04\\_18.45.54\\_sample\\_13 & megahit\\\\\n",
       "\t ⋮ & ⋮ & ⋮ & ⋮ & ⋮\\\\\n",
       "\t NODE\\_997\\_length\\_4483\\_cov\\_4.018519   & 0.20570 &   4483 & 2017.12.04\\_18.45.54\\_sample\\_8 & metaspades\\\\\n",
       "\t NODE\\_998\\_length\\_4478\\_cov\\_17.681212  & 0.29410 &   4478 & 2017.12.04\\_18.45.54\\_sample\\_8 & metaspades\\\\\n",
       "\t NODE\\_999\\_length\\_4470\\_cov\\_112.375991 & 0.37930 &   4470 & 2017.12.04\\_18.45.54\\_sample\\_8 & metaspades\\\\\n",
       "\t NODE\\_99\\_length\\_38743\\_cov\\_10.858845  & 0.42785 &  38743 & 2017.12.04\\_18.45.54\\_sample\\_8 & metaspades\\\\\n",
       "\t NODE\\_9\\_length\\_118123\\_cov\\_94.567249  & 0.42250 & 118123 & 2017.12.04\\_18.45.54\\_sample\\_8 & metaspades\\\\\n",
       "\\end{tabular}\n"
      ],
      "text/markdown": [
       "\n",
       "A data.table: 370779 × 5\n",
       "\n",
       "| contig &lt;chr&gt; | metaMIC_contig_score &lt;dbl&gt; | length &lt;dbl&gt; | sample &lt;chr&gt; | assembler &lt;chr&gt; |\n",
       "|---|---|---|---|---|\n",
       "| k141_100007 | 0.40405 | 4893 | 2017.12.04_18.45.54_sample_13 | megahit |\n",
       "| k141_100009 | 0.32710 | 1035 | 2017.12.04_18.45.54_sample_13 | megahit |\n",
       "| k141_100011 | 0.50095 | 1433 | 2017.12.04_18.45.54_sample_13 | megahit |\n",
       "| k141_100031 | 0.30050 | 1722 | 2017.12.04_18.45.54_sample_13 | megahit |\n",
       "| k141_100035 | 0.28480 | 1164 | 2017.12.04_18.45.54_sample_13 | megahit |\n",
       "| ⋮ | ⋮ | ⋮ | ⋮ | ⋮ |\n",
       "| NODE_997_length_4483_cov_4.018519   | 0.20570 |   4483 | 2017.12.04_18.45.54_sample_8 | metaspades |\n",
       "| NODE_998_length_4478_cov_17.681212  | 0.29410 |   4478 | 2017.12.04_18.45.54_sample_8 | metaspades |\n",
       "| NODE_999_length_4470_cov_112.375991 | 0.37930 |   4470 | 2017.12.04_18.45.54_sample_8 | metaspades |\n",
       "| NODE_99_length_38743_cov_10.858845  | 0.42785 |  38743 | 2017.12.04_18.45.54_sample_8 | metaspades |\n",
       "| NODE_9_length_118123_cov_94.567249  | 0.42250 | 118123 | 2017.12.04_18.45.54_sample_8 | metaspades |\n",
       "\n"
      ],
      "text/plain": [
       "       contig                              metaMIC_contig_score length\n",
       "1      k141_100007                         0.40405              4893  \n",
       "2      k141_100009                         0.32710              1035  \n",
       "3      k141_100011                         0.50095              1433  \n",
       "4      k141_100031                         0.30050              1722  \n",
       "5      k141_100035                         0.28480              1164  \n",
       "⋮      ⋮                                   ⋮                    ⋮     \n",
       "370775 NODE_997_length_4483_cov_4.018519   0.20570                4483\n",
       "370776 NODE_998_length_4478_cov_17.681212  0.29410                4478\n",
       "370777 NODE_999_length_4470_cov_112.375991 0.37930                4470\n",
       "370778 NODE_99_length_38743_cov_10.858845  0.42785               38743\n",
       "370779 NODE_9_length_118123_cov_94.567249  0.42250              118123\n",
       "       sample                        assembler \n",
       "1      2017.12.04_18.45.54_sample_13 megahit   \n",
       "2      2017.12.04_18.45.54_sample_13 megahit   \n",
       "3      2017.12.04_18.45.54_sample_13 megahit   \n",
       "4      2017.12.04_18.45.54_sample_13 megahit   \n",
       "5      2017.12.04_18.45.54_sample_13 megahit   \n",
       "⋮      ⋮                             ⋮         \n",
       "370775 2017.12.04_18.45.54_sample_8  metaspades\n",
       "370776 2017.12.04_18.45.54_sample_8  metaspades\n",
       "370777 2017.12.04_18.45.54_sample_8  metaspades\n",
       "370778 2017.12.04_18.45.54_sample_8  metaspades\n",
       "370779 2017.12.04_18.45.54_sample_8  metaspades"
      ]
     },
     "metadata": {},
     "output_type": "display_data"
    }
   ],
   "source": [
    "# reading\n",
    "read_table = function(F){\n",
    "    df = Fread(F) \n",
    "    x = unlist(strsplit(F, '/'))\n",
    "    df$sample = x[length(x)-7]\n",
    "    df$assembler = x[length(x)-2]\n",
    "    return(df)\n",
    "}\n",
    "mMIC = files %>%\n",
    "    plyr::llply(read_table, .parallel=FALSE) %>%\n",
    "    rbindlist(use.names=TRUE) \n",
    "mMIC"
   ]
  },
  {
   "cell_type": "code",
   "execution_count": 71,
   "id": "5d5c3368",
   "metadata": {
    "ExecuteTime": {
     "end_time": "2021-10-31T06:00:26.044627Z",
     "start_time": "2021-10-31T05:44:59.528Z"
    }
   },
   "outputs": [
    {
     "name": "stdout",
     "output_type": "stream",
     "text": [
      "intersect(x,y): 265062 \n",
      "setdiff(x,y): 0 \n",
      "setdiff(y,x): 11198 \n",
      "union(x,y): 276260 \n"
     ]
    },
    {
     "data": {
      "text/html": [
       "<table class=\"dataframe\">\n",
       "<caption>A tidytable: 370779 × 6</caption>\n",
       "<thead>\n",
       "\t<tr><th scope=col>contig</th><th scope=col>metaMIC_contig_score</th><th scope=col>length</th><th scope=col>sample</th><th scope=col>assembler</th><th scope=col>Extensive_misassembly</th></tr>\n",
       "\t<tr><th scope=col>&lt;chr&gt;</th><th scope=col>&lt;dbl&gt;</th><th scope=col>&lt;dbl&gt;</th><th scope=col>&lt;chr&gt;</th><th scope=col>&lt;chr&gt;</th><th scope=col>&lt;int&gt;</th></tr>\n",
       "</thead>\n",
       "<tbody>\n",
       "\t<tr><td>k141_17    </td><td>0.24855</td><td>1052</td><td>2017.12.04_18.45.54_sample_13</td><td>megahit</td><td>0</td></tr>\n",
       "\t<tr><td>k141_106211</td><td>0.47630</td><td>1550</td><td>2017.12.04_18.45.54_sample_13</td><td>megahit</td><td>0</td></tr>\n",
       "\t<tr><td>k141_15023 </td><td>0.24205</td><td>1163</td><td>2017.12.04_18.45.54_sample_13</td><td>megahit</td><td>0</td></tr>\n",
       "\t<tr><td>k141_29928 </td><td>0.23215</td><td>1135</td><td>2017.12.04_18.45.54_sample_13</td><td>megahit</td><td>0</td></tr>\n",
       "\t<tr><td>k141_59938 </td><td>0.23005</td><td>1018</td><td>2017.12.04_18.45.54_sample_13</td><td>megahit</td><td>0</td></tr>\n",
       "\t<tr><td>⋮</td><td>⋮</td><td>⋮</td><td>⋮</td><td>⋮</td><td>⋮</td></tr>\n",
       "\t<tr><td>NODE_1199_length_3906_cov_5.780317  </td><td>0.52210</td><td>3906</td><td>2017.12.04_18.45.54_sample_8</td><td>metaspades</td><td>0</td></tr>\n",
       "\t<tr><td>NODE_1200_length_3905_cov_4.466753  </td><td>0.55535</td><td>3905</td><td>2017.12.04_18.45.54_sample_8</td><td>metaspades</td><td>0</td></tr>\n",
       "\t<tr><td>NODE_1201_length_3904_cov_118.879709</td><td>0.33670</td><td>3904</td><td>2017.12.04_18.45.54_sample_8</td><td>metaspades</td><td>0</td></tr>\n",
       "\t<tr><td>NODE_1202_length_3901_cov_2.709568  </td><td>0.29300</td><td>3901</td><td>2017.12.04_18.45.54_sample_8</td><td>metaspades</td><td>0</td></tr>\n",
       "\t<tr><td>NODE_1203_length_3900_cov_4.338622  </td><td>0.19645</td><td>3900</td><td>2017.12.04_18.45.54_sample_8</td><td>metaspades</td><td>0</td></tr>\n",
       "</tbody>\n",
       "</table>\n"
      ],
      "text/latex": [
       "A tidytable: 370779 × 6\n",
       "\\begin{tabular}{llllll}\n",
       " contig & metaMIC\\_contig\\_score & length & sample & assembler & Extensive\\_misassembly\\\\\n",
       " <chr> & <dbl> & <dbl> & <chr> & <chr> & <int>\\\\\n",
       "\\hline\n",
       "\t k141\\_17     & 0.24855 & 1052 & 2017.12.04\\_18.45.54\\_sample\\_13 & megahit & 0\\\\\n",
       "\t k141\\_106211 & 0.47630 & 1550 & 2017.12.04\\_18.45.54\\_sample\\_13 & megahit & 0\\\\\n",
       "\t k141\\_15023  & 0.24205 & 1163 & 2017.12.04\\_18.45.54\\_sample\\_13 & megahit & 0\\\\\n",
       "\t k141\\_29928  & 0.23215 & 1135 & 2017.12.04\\_18.45.54\\_sample\\_13 & megahit & 0\\\\\n",
       "\t k141\\_59938  & 0.23005 & 1018 & 2017.12.04\\_18.45.54\\_sample\\_13 & megahit & 0\\\\\n",
       "\t ⋮ & ⋮ & ⋮ & ⋮ & ⋮ & ⋮\\\\\n",
       "\t NODE\\_1199\\_length\\_3906\\_cov\\_5.780317   & 0.52210 & 3906 & 2017.12.04\\_18.45.54\\_sample\\_8 & metaspades & 0\\\\\n",
       "\t NODE\\_1200\\_length\\_3905\\_cov\\_4.466753   & 0.55535 & 3905 & 2017.12.04\\_18.45.54\\_sample\\_8 & metaspades & 0\\\\\n",
       "\t NODE\\_1201\\_length\\_3904\\_cov\\_118.879709 & 0.33670 & 3904 & 2017.12.04\\_18.45.54\\_sample\\_8 & metaspades & 0\\\\\n",
       "\t NODE\\_1202\\_length\\_3901\\_cov\\_2.709568   & 0.29300 & 3901 & 2017.12.04\\_18.45.54\\_sample\\_8 & metaspades & 0\\\\\n",
       "\t NODE\\_1203\\_length\\_3900\\_cov\\_4.338622   & 0.19645 & 3900 & 2017.12.04\\_18.45.54\\_sample\\_8 & metaspades & 0\\\\\n",
       "\\end{tabular}\n"
      ],
      "text/markdown": [
       "\n",
       "A tidytable: 370779 × 6\n",
       "\n",
       "| contig &lt;chr&gt; | metaMIC_contig_score &lt;dbl&gt; | length &lt;dbl&gt; | sample &lt;chr&gt; | assembler &lt;chr&gt; | Extensive_misassembly &lt;int&gt; |\n",
       "|---|---|---|---|---|---|\n",
       "| k141_17     | 0.24855 | 1052 | 2017.12.04_18.45.54_sample_13 | megahit | 0 |\n",
       "| k141_106211 | 0.47630 | 1550 | 2017.12.04_18.45.54_sample_13 | megahit | 0 |\n",
       "| k141_15023  | 0.24205 | 1163 | 2017.12.04_18.45.54_sample_13 | megahit | 0 |\n",
       "| k141_29928  | 0.23215 | 1135 | 2017.12.04_18.45.54_sample_13 | megahit | 0 |\n",
       "| k141_59938  | 0.23005 | 1018 | 2017.12.04_18.45.54_sample_13 | megahit | 0 |\n",
       "| ⋮ | ⋮ | ⋮ | ⋮ | ⋮ | ⋮ |\n",
       "| NODE_1199_length_3906_cov_5.780317   | 0.52210 | 3906 | 2017.12.04_18.45.54_sample_8 | metaspades | 0 |\n",
       "| NODE_1200_length_3905_cov_4.466753   | 0.55535 | 3905 | 2017.12.04_18.45.54_sample_8 | metaspades | 0 |\n",
       "| NODE_1201_length_3904_cov_118.879709 | 0.33670 | 3904 | 2017.12.04_18.45.54_sample_8 | metaspades | 0 |\n",
       "| NODE_1202_length_3901_cov_2.709568   | 0.29300 | 3901 | 2017.12.04_18.45.54_sample_8 | metaspades | 0 |\n",
       "| NODE_1203_length_3900_cov_4.338622   | 0.19645 | 3900 | 2017.12.04_18.45.54_sample_8 | metaspades | 0 |\n",
       "\n"
      ],
      "text/plain": [
       "       contig                               metaMIC_contig_score length\n",
       "1      k141_17                              0.24855              1052  \n",
       "2      k141_106211                          0.47630              1550  \n",
       "3      k141_15023                           0.24205              1163  \n",
       "4      k141_29928                           0.23215              1135  \n",
       "5      k141_59938                           0.23005              1018  \n",
       "⋮      ⋮                                    ⋮                    ⋮     \n",
       "370775 NODE_1199_length_3906_cov_5.780317   0.52210              3906  \n",
       "370776 NODE_1200_length_3905_cov_4.466753   0.55535              3905  \n",
       "370777 NODE_1201_length_3904_cov_118.879709 0.33670              3904  \n",
       "370778 NODE_1202_length_3901_cov_2.709568   0.29300              3901  \n",
       "370779 NODE_1203_length_3900_cov_4.338622   0.19645              3900  \n",
       "       sample                        assembler  Extensive_misassembly\n",
       "1      2017.12.04_18.45.54_sample_13 megahit    0                    \n",
       "2      2017.12.04_18.45.54_sample_13 megahit    0                    \n",
       "3      2017.12.04_18.45.54_sample_13 megahit    0                    \n",
       "4      2017.12.04_18.45.54_sample_13 megahit    0                    \n",
       "5      2017.12.04_18.45.54_sample_13 megahit    0                    \n",
       "⋮      ⋮                             ⋮          ⋮                    \n",
       "370775 2017.12.04_18.45.54_sample_8  metaspades 0                    \n",
       "370776 2017.12.04_18.45.54_sample_8  metaspades 0                    \n",
       "370777 2017.12.04_18.45.54_sample_8  metaspades 0                    \n",
       "370778 2017.12.04_18.45.54_sample_8  metaspades 0                    \n",
       "370779 2017.12.04_18.45.54_sample_8  metaspades 0                    "
      ]
     },
     "metadata": {},
     "output_type": "display_data"
    }
   ],
   "source": [
    "# joining\n",
    "overlap(mMIC$contig, true_mis$contig)\n",
    "mMIC = mMIC %>%\n",
    "    inner_join.(true_mis, c('sample', 'assembler', 'contig')) %>%\n",
    "    mutate.(metaMIC_contig_score = ifelse(is.na(metaMIC_contig_score), 0, metaMIC_contig_score))\n",
    "mMIC"
   ]
  },
  {
   "cell_type": "code",
   "execution_count": 72,
   "id": "829957ab",
   "metadata": {
    "ExecuteTime": {
     "end_time": "2021-10-31T06:00:26.115013Z",
     "start_time": "2021-10-31T05:44:59.696Z"
    }
   },
   "outputs": [
    {
     "name": "stdout",
     "output_type": "stream",
     "text": [
      "metaspades cutoff: 0.5414 \n"
     ]
    }
   ],
   "source": [
    "# contig cutoff\n",
    "ms_cutoff = mMIC %>%\n",
    "    filter.(assembler == 'metaspades') %>%\n",
    "    .$metaMIC_contig_score %>% quantile(0.95)\n",
    "cat('metaspades cutoff:', ms_cutoff, '\\n')"
   ]
  },
  {
   "cell_type": "code",
   "execution_count": 73,
   "id": "4f5cbeb7",
   "metadata": {
    "ExecuteTime": {
     "end_time": "2021-10-31T06:00:26.320886Z",
     "start_time": "2021-10-31T05:44:59.832Z"
    }
   },
   "outputs": [
    {
     "data": {
      "text/html": [
       "<table class=\"dataframe\">\n",
       "<caption>A tidytable: 20 × 6</caption>\n",
       "<thead>\n",
       "\t<tr><th scope=col>sample</th><th scope=col>assembler</th><th scope=col>TP</th><th scope=col>TN</th><th scope=col>FP</th><th scope=col>FN</th></tr>\n",
       "\t<tr><th scope=col>&lt;chr&gt;</th><th scope=col>&lt;chr&gt;</th><th scope=col>&lt;int&gt;</th><th scope=col>&lt;int&gt;</th><th scope=col>&lt;int&gt;</th><th scope=col>&lt;int&gt;</th></tr>\n",
       "</thead>\n",
       "<tbody>\n",
       "\t<tr><td>2017.12.04_18.45.54_sample_13</td><td>megahit   </td><td> 0</td><td>21672</td><td>  0</td><td>438</td></tr>\n",
       "\t<tr><td>2017.12.04_18.45.54_sample_13</td><td>metaspades</td><td>38</td><td>15231</td><td>754</td><td> 84</td></tr>\n",
       "\t<tr><td>2017.12.04_18.45.54_sample_14</td><td>megahit   </td><td> 0</td><td>15768</td><td>  0</td><td>335</td></tr>\n",
       "\t<tr><td>2017.12.04_18.45.54_sample_14</td><td>metaspades</td><td>38</td><td>10146</td><td>530</td><td> 50</td></tr>\n",
       "\t<tr><td>2017.12.04_18.45.54_sample_15</td><td>megahit   </td><td> 0</td><td>21833</td><td>  0</td><td>453</td></tr>\n",
       "\t<tr><td>⋮</td><td>⋮</td><td>⋮</td><td>⋮</td><td>⋮</td><td>⋮</td></tr>\n",
       "\t<tr><td>2017.12.04_18.45.54_sample_6</td><td>metaspades</td><td>49</td><td>13824</td><td>741</td><td> 68</td></tr>\n",
       "\t<tr><td>2017.12.04_18.45.54_sample_7</td><td>megahit   </td><td> 0</td><td>13274</td><td>  0</td><td>330</td></tr>\n",
       "\t<tr><td>2017.12.04_18.45.54_sample_7</td><td>metaspades</td><td>23</td><td> 9172</td><td>417</td><td> 50</td></tr>\n",
       "\t<tr><td>2017.12.04_18.45.54_sample_8</td><td>megahit   </td><td> 0</td><td>13950</td><td>  0</td><td>428</td></tr>\n",
       "\t<tr><td>2017.12.04_18.45.54_sample_8</td><td>metaspades</td><td>47</td><td> 8832</td><td>491</td><td> 65</td></tr>\n",
       "</tbody>\n",
       "</table>\n"
      ],
      "text/latex": [
       "A tidytable: 20 × 6\n",
       "\\begin{tabular}{llllll}\n",
       " sample & assembler & TP & TN & FP & FN\\\\\n",
       " <chr> & <chr> & <int> & <int> & <int> & <int>\\\\\n",
       "\\hline\n",
       "\t 2017.12.04\\_18.45.54\\_sample\\_13 & megahit    &  0 & 21672 &   0 & 438\\\\\n",
       "\t 2017.12.04\\_18.45.54\\_sample\\_13 & metaspades & 38 & 15231 & 754 &  84\\\\\n",
       "\t 2017.12.04\\_18.45.54\\_sample\\_14 & megahit    &  0 & 15768 &   0 & 335\\\\\n",
       "\t 2017.12.04\\_18.45.54\\_sample\\_14 & metaspades & 38 & 10146 & 530 &  50\\\\\n",
       "\t 2017.12.04\\_18.45.54\\_sample\\_15 & megahit    &  0 & 21833 &   0 & 453\\\\\n",
       "\t ⋮ & ⋮ & ⋮ & ⋮ & ⋮ & ⋮\\\\\n",
       "\t 2017.12.04\\_18.45.54\\_sample\\_6 & metaspades & 49 & 13824 & 741 &  68\\\\\n",
       "\t 2017.12.04\\_18.45.54\\_sample\\_7 & megahit    &  0 & 13274 &   0 & 330\\\\\n",
       "\t 2017.12.04\\_18.45.54\\_sample\\_7 & metaspades & 23 &  9172 & 417 &  50\\\\\n",
       "\t 2017.12.04\\_18.45.54\\_sample\\_8 & megahit    &  0 & 13950 &   0 & 428\\\\\n",
       "\t 2017.12.04\\_18.45.54\\_sample\\_8 & metaspades & 47 &  8832 & 491 &  65\\\\\n",
       "\\end{tabular}\n"
      ],
      "text/markdown": [
       "\n",
       "A tidytable: 20 × 6\n",
       "\n",
       "| sample &lt;chr&gt; | assembler &lt;chr&gt; | TP &lt;int&gt; | TN &lt;int&gt; | FP &lt;int&gt; | FN &lt;int&gt; |\n",
       "|---|---|---|---|---|---|\n",
       "| 2017.12.04_18.45.54_sample_13 | megahit    |  0 | 21672 |   0 | 438 |\n",
       "| 2017.12.04_18.45.54_sample_13 | metaspades | 38 | 15231 | 754 |  84 |\n",
       "| 2017.12.04_18.45.54_sample_14 | megahit    |  0 | 15768 |   0 | 335 |\n",
       "| 2017.12.04_18.45.54_sample_14 | metaspades | 38 | 10146 | 530 |  50 |\n",
       "| 2017.12.04_18.45.54_sample_15 | megahit    |  0 | 21833 |   0 | 453 |\n",
       "| ⋮ | ⋮ | ⋮ | ⋮ | ⋮ | ⋮ |\n",
       "| 2017.12.04_18.45.54_sample_6 | metaspades | 49 | 13824 | 741 |  68 |\n",
       "| 2017.12.04_18.45.54_sample_7 | megahit    |  0 | 13274 |   0 | 330 |\n",
       "| 2017.12.04_18.45.54_sample_7 | metaspades | 23 |  9172 | 417 |  50 |\n",
       "| 2017.12.04_18.45.54_sample_8 | megahit    |  0 | 13950 |   0 | 428 |\n",
       "| 2017.12.04_18.45.54_sample_8 | metaspades | 47 |  8832 | 491 |  65 |\n",
       "\n"
      ],
      "text/plain": [
       "   sample                        assembler  TP TN    FP  FN \n",
       "1  2017.12.04_18.45.54_sample_13 megahit     0 21672   0 438\n",
       "2  2017.12.04_18.45.54_sample_13 metaspades 38 15231 754  84\n",
       "3  2017.12.04_18.45.54_sample_14 megahit     0 15768   0 335\n",
       "4  2017.12.04_18.45.54_sample_14 metaspades 38 10146 530  50\n",
       "5  2017.12.04_18.45.54_sample_15 megahit     0 21833   0 453\n",
       "⋮  ⋮                             ⋮          ⋮  ⋮     ⋮   ⋮  \n",
       "16 2017.12.04_18.45.54_sample_6  metaspades 49 13824 741  68\n",
       "17 2017.12.04_18.45.54_sample_7  megahit     0 13274   0 330\n",
       "18 2017.12.04_18.45.54_sample_7  metaspades 23  9172 417  50\n",
       "19 2017.12.04_18.45.54_sample_8  megahit     0 13950   0 428\n",
       "20 2017.12.04_18.45.54_sample_8  metaspades 47  8832 491  65"
      ]
     },
     "metadata": {},
     "output_type": "display_data"
    }
   ],
   "source": [
    "# formatting\n",
    "mMIC_s = mMIC %>%\n",
    "    mutate.(prediction = ifelse(assembler == 'megahit', \n",
    "                                 metaMIC_contig_score >= 0.8,\n",
    "                                 metaMIC_contig_score >= ms_cutoff)) %>%\n",
    "    mutate.(prediction = ifelse(prediction == TRUE, 1, 0)) %>%\n",
    "    mutate.(TP = prediction == 1 & Extensive_misassembly == 1,\n",
    "            TN = prediction == 0 & Extensive_misassembly == 0,\n",
    "            FP = prediction == 1 & Extensive_misassembly == 0,\n",
    "            FN = prediction == 0 & Extensive_misassembly == 1) %>%\n",
    "    summarize.(TP = sum(TP),\n",
    "               TN = sum(TN),\n",
    "               FP = sum(FP),\n",
    "               FN = sum(FN),\n",
    "               .by=c(sample, assembler)) \n",
    "mMIC_s"
   ]
  },
  {
   "cell_type": "code",
   "execution_count": 74,
   "id": "87d6d962",
   "metadata": {
    "ExecuteTime": {
     "end_time": "2021-10-31T06:00:27.226424Z",
     "start_time": "2021-10-31T05:45:01.184Z"
    }
   },
   "outputs": [
    {
     "data": {
      "image/png": "[encoded data removed]",
      "text/plain": [
       "plot without title"
      ]
     },
     "metadata": {
      "image/png": {
       "height": 300,
       "width": 500
      }
     },
     "output_type": "display_data"
    }
   ],
   "source": [
    "# plotting\n",
    "p = mMIC_s %>%\n",
    "    pivot_longer.(cols=c(-sample, -assembler)) %>%\n",
    "    ggplot(aes(assembler, value)) +\n",
    "    geom_boxplot() +\n",
    "    facet_wrap(~ name, scales='free_y') +\n",
    "    theme_bw()\n",
    "p.dims(5,3)\n",
    "plot(p)"
   ]
  },
  {
   "cell_type": "code",
   "execution_count": 75,
   "id": "aefcee9e",
   "metadata": {
    "ExecuteTime": {
     "end_time": "2021-10-31T06:00:27.275391Z",
     "start_time": "2021-10-31T05:45:01.440Z"
    }
   },
   "outputs": [
    {
     "data": {
      "text/html": [
       "<table class=\"dataframe\">\n",
       "<caption>A tidytable: 20 × 3</caption>\n",
       "<thead>\n",
       "\t<tr><th scope=col>sample</th><th scope=col>assembler</th><th scope=col>accuracy</th></tr>\n",
       "\t<tr><th scope=col>&lt;chr&gt;</th><th scope=col>&lt;chr&gt;</th><th scope=col>&lt;dbl&gt;</th></tr>\n",
       "</thead>\n",
       "<tbody>\n",
       "\t<tr><td>2017.12.04_18.45.54_sample_13</td><td>megahit   </td><td>0.9801900</td></tr>\n",
       "\t<tr><td>2017.12.04_18.45.54_sample_13</td><td>metaspades</td><td>0.9479729</td></tr>\n",
       "\t<tr><td>2017.12.04_18.45.54_sample_14</td><td>megahit   </td><td>0.9791964</td></tr>\n",
       "\t<tr><td>2017.12.04_18.45.54_sample_14</td><td>metaspades</td><td>0.9461167</td></tr>\n",
       "\t<tr><td>2017.12.04_18.45.54_sample_15</td><td>megahit   </td><td>0.9796733</td></tr>\n",
       "\t<tr><td>⋮</td><td>⋮</td><td>⋮</td></tr>\n",
       "\t<tr><td>2017.12.04_18.45.54_sample_6</td><td>metaspades</td><td>0.9448985</td></tr>\n",
       "\t<tr><td>2017.12.04_18.45.54_sample_7</td><td>megahit   </td><td>0.9757424</td></tr>\n",
       "\t<tr><td>2017.12.04_18.45.54_sample_7</td><td>metaspades</td><td>0.9516663</td></tr>\n",
       "\t<tr><td>2017.12.04_18.45.54_sample_8</td><td>megahit   </td><td>0.9702323</td></tr>\n",
       "\t<tr><td>2017.12.04_18.45.54_sample_8</td><td>metaspades</td><td>0.9410705</td></tr>\n",
       "</tbody>\n",
       "</table>\n"
      ],
      "text/latex": [
       "A tidytable: 20 × 3\n",
       "\\begin{tabular}{lll}\n",
       " sample & assembler & accuracy\\\\\n",
       " <chr> & <chr> & <dbl>\\\\\n",
       "\\hline\n",
       "\t 2017.12.04\\_18.45.54\\_sample\\_13 & megahit    & 0.9801900\\\\\n",
       "\t 2017.12.04\\_18.45.54\\_sample\\_13 & metaspades & 0.9479729\\\\\n",
       "\t 2017.12.04\\_18.45.54\\_sample\\_14 & megahit    & 0.9791964\\\\\n",
       "\t 2017.12.04\\_18.45.54\\_sample\\_14 & metaspades & 0.9461167\\\\\n",
       "\t 2017.12.04\\_18.45.54\\_sample\\_15 & megahit    & 0.9796733\\\\\n",
       "\t ⋮ & ⋮ & ⋮\\\\\n",
       "\t 2017.12.04\\_18.45.54\\_sample\\_6 & metaspades & 0.9448985\\\\\n",
       "\t 2017.12.04\\_18.45.54\\_sample\\_7 & megahit    & 0.9757424\\\\\n",
       "\t 2017.12.04\\_18.45.54\\_sample\\_7 & metaspades & 0.9516663\\\\\n",
       "\t 2017.12.04\\_18.45.54\\_sample\\_8 & megahit    & 0.9702323\\\\\n",
       "\t 2017.12.04\\_18.45.54\\_sample\\_8 & metaspades & 0.9410705\\\\\n",
       "\\end{tabular}\n"
      ],
      "text/markdown": [
       "\n",
       "A tidytable: 20 × 3\n",
       "\n",
       "| sample &lt;chr&gt; | assembler &lt;chr&gt; | accuracy &lt;dbl&gt; |\n",
       "|---|---|---|\n",
       "| 2017.12.04_18.45.54_sample_13 | megahit    | 0.9801900 |\n",
       "| 2017.12.04_18.45.54_sample_13 | metaspades | 0.9479729 |\n",
       "| 2017.12.04_18.45.54_sample_14 | megahit    | 0.9791964 |\n",
       "| 2017.12.04_18.45.54_sample_14 | metaspades | 0.9461167 |\n",
       "| 2017.12.04_18.45.54_sample_15 | megahit    | 0.9796733 |\n",
       "| ⋮ | ⋮ | ⋮ |\n",
       "| 2017.12.04_18.45.54_sample_6 | metaspades | 0.9448985 |\n",
       "| 2017.12.04_18.45.54_sample_7 | megahit    | 0.9757424 |\n",
       "| 2017.12.04_18.45.54_sample_7 | metaspades | 0.9516663 |\n",
       "| 2017.12.04_18.45.54_sample_8 | megahit    | 0.9702323 |\n",
       "| 2017.12.04_18.45.54_sample_8 | metaspades | 0.9410705 |\n",
       "\n"
      ],
      "text/plain": [
       "   sample                        assembler  accuracy \n",
       "1  2017.12.04_18.45.54_sample_13 megahit    0.9801900\n",
       "2  2017.12.04_18.45.54_sample_13 metaspades 0.9479729\n",
       "3  2017.12.04_18.45.54_sample_14 megahit    0.9791964\n",
       "4  2017.12.04_18.45.54_sample_14 metaspades 0.9461167\n",
       "5  2017.12.04_18.45.54_sample_15 megahit    0.9796733\n",
       "⋮  ⋮                             ⋮          ⋮        \n",
       "16 2017.12.04_18.45.54_sample_6  metaspades 0.9448985\n",
       "17 2017.12.04_18.45.54_sample_7  megahit    0.9757424\n",
       "18 2017.12.04_18.45.54_sample_7  metaspades 0.9516663\n",
       "19 2017.12.04_18.45.54_sample_8  megahit    0.9702323\n",
       "20 2017.12.04_18.45.54_sample_8  metaspades 0.9410705"
      ]
     },
     "metadata": {},
     "output_type": "display_data"
    }
   ],
   "source": [
    "# accuracy\n",
    "mMIC_ss = mMIC_s %>%\n",
    "    summarize.(accuracy = (TP + TN) / (TP + TN + FP + FN),\n",
    "               .by=c(sample, assembler))\n",
    "mMIC_ss"
   ]
  },
  {
   "cell_type": "code",
   "execution_count": 83,
   "id": "c563c13e",
   "metadata": {
    "ExecuteTime": {
     "end_time": "2021-11-01T07:38:31.050157Z",
     "start_time": "2021-11-01T07:38:30.674Z"
    }
   },
   "outputs": [
    {
     "data": {
      "image/png": "[encoded data removed]",
      "text/plain": [
       "plot without title"
      ]
     },
     "metadata": {
      "image/png": {
       "height": 230,
       "width": 300
      }
     },
     "output_type": "display_data"
    }
   ],
   "source": [
    "# calculations\n",
    "p = mMIC_ss %>%\n",
    "    ggplot(aes(assembler, accuracy)) +\n",
    "    geom_boxplot() +\n",
    "    theme_bw()\n",
    "p.dims(3,2.3)\n",
    "plot(p)"
   ]
  },
  {
   "cell_type": "markdown",
   "id": "f4400129",
   "metadata": {},
   "source": [
    "#### AUCPR"
   ]
  },
  {
   "cell_type": "code",
   "execution_count": 77,
   "id": "507036ef",
   "metadata": {
    "ExecuteTime": {
     "end_time": "2021-10-31T06:00:28.915796Z",
     "start_time": "2021-10-31T05:45:02.848Z"
    }
   },
   "outputs": [
    {
     "data": {
      "image/png": "[encoded data removed]",
      "text/plain": [
       "plot without title"
      ]
     },
     "metadata": {
      "image/png": {
       "height": 220,
       "width": 300
      }
     },
     "output_type": "display_data"
    }
   ],
   "source": [
    "# plotting\n",
    "p = mMIC %>%\n",
    "    mutate.(Extensive_misassembly = Extensive_misassembly == 1) %>%\n",
    "    ggplot(aes(Extensive_misassembly, metaMIC_contig_score)) +\n",
    "    geom_boxplot() +\n",
    "    theme_bw()\n",
    "p.dims(3,2.2)\n",
    "plot(p)"
   ]
  },
  {
   "cell_type": "code",
   "execution_count": 78,
   "id": "0ab9bee2",
   "metadata": {
    "ExecuteTime": {
     "end_time": "2021-10-31T06:00:29.227336Z",
     "start_time": "2021-10-31T05:45:02.986Z"
    }
   },
   "outputs": [
    {
     "data": {
      "text/plain": [
       "\n",
       "  Precision-recall curve\n",
       "\n",
       "    Area under curve (Integral):\n",
       "     0.1102139 \n",
       "\n",
       "    Area under curve (Davis & Goadrich):\n",
       "     0.1102071 \n",
       "\n",
       "    Curve for scores from  0.01485  to  0.7668 \n",
       "    ( can be plotted with plot(x) )\n"
      ]
     },
     "metadata": {},
     "output_type": "display_data"
    }
   ],
   "source": [
    "# calculating AUCPR\n",
    "fg = mMIC %>%\n",
    "    filter.(Extensive_misassembly == 1,\n",
    "            assembler == 'megahit') %>%\n",
    "    .$metaMIC_contig_score\n",
    "bg = mMIC %>%\n",
    "    filter.(Extensive_misassembly == 0,\n",
    "            assembler == 'megahit') %>%\n",
    "    .$metaMIC_contig_score\n",
    "pr = pr.curve(scores.class0 = fg, scores.class1 = bg, curve=TRUE)\n",
    "pr"
   ]
  },
  {
   "cell_type": "code",
   "execution_count": 79,
   "id": "b5613533",
   "metadata": {
    "ExecuteTime": {
     "end_time": "2021-10-31T06:00:30.147982Z",
     "start_time": "2021-10-31T05:45:03.112Z"
    }
   },
   "outputs": [
    {
     "data": {
      "image/png": "[encoded data removed]",
      "text/plain": [
       "Plot with title “PR curve\n",
       "AUC = 0.1102139”"
      ]
     },
     "metadata": {
      "image/png": {
       "height": 400,
       "width": 600
      }
     },
     "output_type": "display_data"
    }
   ],
   "source": [
    "# pr curve\n",
    "p.dims(6,4)\n",
    "plot(pr)"
   ]
  },
  {
   "cell_type": "code",
   "execution_count": 80,
   "id": "61ca9210",
   "metadata": {
    "ExecuteTime": {
     "end_time": "2021-10-31T06:00:30.289731Z",
     "start_time": "2021-10-31T05:45:03.240Z"
    }
   },
   "outputs": [
    {
     "data": {
      "text/plain": [
       "\n",
       "  Precision-recall curve\n",
       "\n",
       "    Area under curve (Integral):\n",
       "     0.05841531 \n",
       "\n",
       "    Area under curve (Davis & Goadrich):\n",
       "     0.05840409 \n",
       "\n",
       "    Curve for scores from  0.01225  to  0.73865 \n",
       "    ( can be plotted with plot(x) )\n"
      ]
     },
     "metadata": {},
     "output_type": "display_data"
    }
   ],
   "source": [
    "# calculating AUCPR\n",
    "fg = mMIC %>%\n",
    "    filter.(Extensive_misassembly == 1,\n",
    "            assembler == 'metaspades') %>%\n",
    "    .$metaMIC_contig_score\n",
    "bg = mMIC %>%\n",
    "    filter.(Extensive_misassembly == 0,\n",
    "            assembler == 'metaspades') %>%\n",
    "    .$metaMIC_contig_score\n",
    "pr = pr.curve(scores.class0 = fg, scores.class1 = bg, curve=TRUE)\n",
    "pr"
   ]
  },
  {
   "cell_type": "code",
   "execution_count": 81,
   "id": "118184d4",
   "metadata": {
    "ExecuteTime": {
     "end_time": "2021-10-31T06:00:30.883387Z",
     "start_time": "2021-10-31T05:45:03.376Z"
    }
   },
   "outputs": [
    {
     "data": {
      "image/png": "[encoded data removed]",
      "text/plain": [
       "Plot with title “PR curve\n",
       "AUC = 0.05841531”"
      ]
     },
     "metadata": {
      "image/png": {
       "height": 400,
       "width": 600
      }
     },
     "output_type": "display_data"
    }
   ],
   "source": [
    "# pr curve\n",
    "p.dims(6,4)\n",
    "plot(pr)"
   ]
  },
  {
   "cell_type": "markdown",
   "id": "95b18c07",
   "metadata": {},
   "source": [
    "# sessionInfo"
   ]
  },
  {
   "cell_type": "code",
   "execution_count": 82,
   "id": "528dcaa6",
   "metadata": {
    "ExecuteTime": {
     "end_time": "2021-10-31T06:00:31.108651Z",
     "start_time": "2021-10-31T05:45:04.400Z"
    }
   },
   "outputs": [
    {
     "data": {
      "text/plain": [
       "R version 4.1.0 (2021-05-18)\n",
       "Platform: x86_64-conda-linux-gnu (64-bit)\n",
       "Running under: Ubuntu 18.04.6 LTS\n",
       "\n",
       "Matrix products: default\n",
       "BLAS/LAPACK: /ebio/abt3_projects/DeepMAsED/envs/tidyverse/lib/libopenblasp-r0.3.15.so\n",
       "\n",
       "locale:\n",
       " [1] LC_CTYPE=en_US.UTF-8       LC_NUMERIC=C              \n",
       " [3] LC_TIME=en_US.UTF-8        LC_COLLATE=en_US.UTF-8    \n",
       " [5] LC_MONETARY=en_US.UTF-8    LC_MESSAGES=en_US.UTF-8   \n",
       " [7] LC_PAPER=en_US.UTF-8       LC_NAME=C                 \n",
       " [9] LC_ADDRESS=C               LC_TELEPHONE=C            \n",
       "[11] LC_MEASUREMENT=en_US.UTF-8 LC_IDENTIFICATION=C       \n",
       "\n",
       "attached base packages:\n",
       "[1] stats     graphics  grDevices utils     datasets  methods   base     \n",
       "\n",
       "other attached packages:\n",
       "[1] PRROC_1.3.1       LeyLabRMisc_0.1.9 tidytable_0.6.3   data.table_1.14.0\n",
       "[5] ggplot2_3.3.5     tidyr_1.1.3       dplyr_1.0.7      \n",
       "\n",
       "loaded via a namespace (and not attached):\n",
       " [1] Rcpp_1.0.7        plyr_1.8.6        pillar_1.6.1      compiler_4.1.0   \n",
       " [5] R.methodsS3_1.8.1 R.utils_2.10.1    iterators_1.0.13  base64enc_0.1-3  \n",
       " [9] tools_4.1.0       digest_0.6.27     uuid_0.1-4        jsonlite_1.7.2   \n",
       "[13] evaluate_0.14     lifecycle_1.0.0   tibble_3.1.2      gtable_0.3.0     \n",
       "[17] pkgconfig_2.0.3   rlang_0.4.11      foreach_1.5.1     IRdisplay_1.0    \n",
       "[21] parallel_4.1.0    IRkernel_1.2      repr_1.1.3        withr_2.4.2      \n",
       "[25] generics_0.1.0    vctrs_0.3.8       grid_4.1.0        tidyselect_1.1.1 \n",
       "[29] glue_1.4.2        R6_2.5.0          fansi_0.4.2       pbdZMQ_0.3-5     \n",
       "[33] farver_2.1.0      purrr_0.3.4       magrittr_2.0.1    codetools_0.2-18 \n",
       "[37] scales_1.1.1      ellipsis_0.3.2    htmltools_0.5.1.1 colorspace_2.0-2 \n",
       "[41] labeling_0.4.2    utf8_1.2.1        doParallel_1.0.16 munsell_0.5.0    \n",
       "[45] crayon_1.4.1      R.oo_1.24.0      "
      ]
     },
     "metadata": {},
     "output_type": "display_data"
    }
   ],
   "source": [
    "sessionInfo()"
   ]
  },
  {
   "cell_type": "code",
   "execution_count": null,
   "id": "dc42a12a",
   "metadata": {},
   "outputs": [],
   "source": []
  }
 ],
 "metadata": {
  "kernelspec": {
   "display_name": "R [conda env:DeepMAsED-tidyverse]",
   "language": "R",
   "name": "conda-env-DeepMAsED-tidyverse-r"
  },
  "language_info": {
   "codemirror_mode": "r",
   "file_extension": ".r",
   "mimetype": "text/x-r-source",
   "name": "R",
   "pygments_lexer": "r",
   "version": "4.1.0"
  },
  "notify_time": "30",
  "toc": {
   "base_numbering": 1,
   "nav_menu": {},
   "number_sections": true,
   "sideBar": true,
   "skip_h1_title": false,
   "title_cell": "Table of Contents",
   "title_sidebar": "Contents",
   "toc_cell": true,
   "toc_position": {},
   "toc_section_display": true,
   "toc_window_display": true
  }
 },
 "nbformat": 4,
 "nbformat_minor": 5
}
