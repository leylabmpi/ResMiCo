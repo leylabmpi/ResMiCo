{
 "cells": [
  {
   "cell_type": "markdown",
   "id": "c0869152",
   "metadata": {
    "toc": true
   },
   "source": [
    "<h1>Table of Contents<span class=\"tocSkip\"></span></h1>\n",
    "<div class=\"toc\"><ul class=\"toc-item\"><li><span><a href=\"#Goal\" data-toc-modified-id=\"Goal-1\"><span class=\"toc-item-num\">1&nbsp;&nbsp;</span>Goal</a></span></li><li><span><a href=\"#Var\" data-toc-modified-id=\"Var-2\"><span class=\"toc-item-num\">2&nbsp;&nbsp;</span>Var</a></span></li><li><span><a href=\"#Init\" data-toc-modified-id=\"Init-3\"><span class=\"toc-item-num\">3&nbsp;&nbsp;</span>Init</a></span></li><li><span><a href=\"#LLG\" data-toc-modified-id=\"LLG-4\"><span class=\"toc-item-num\">4&nbsp;&nbsp;</span>LLG</a></span><ul class=\"toc-item\"><li><ul class=\"toc-item\"><li><span><a href=\"#Config\" data-toc-modified-id=\"Config-4.0.1\"><span class=\"toc-item-num\">4.0.1&nbsp;&nbsp;</span>Config</a></span></li><li><span><a href=\"#Run\" data-toc-modified-id=\"Run-4.0.2\"><span class=\"toc-item-num\">4.0.2&nbsp;&nbsp;</span>Run</a></span></li></ul></li><li><span><a href=\"#Summary\" data-toc-modified-id=\"Summary-4.1\"><span class=\"toc-item-num\">4.1&nbsp;&nbsp;</span>Summary</a></span><ul class=\"toc-item\"><li><span><a href=\"#CheckM\" data-toc-modified-id=\"CheckM-4.1.1\"><span class=\"toc-item-num\">4.1.1&nbsp;&nbsp;</span>CheckM</a></span></li><li><span><a href=\"#GTDB-Tk\" data-toc-modified-id=\"GTDB-Tk-4.1.2\"><span class=\"toc-item-num\">4.1.2&nbsp;&nbsp;</span>GTDB-Tk</a></span><ul class=\"toc-item\"><li><span><a href=\"#genomes-per-species-for--n9k_train\" data-toc-modified-id=\"genomes-per-species-for--n9k_train-4.1.2.1\"><span class=\"toc-item-num\">4.1.2.1&nbsp;&nbsp;</span>genomes-per-species for  <code>n9k_train</code></a></span></li></ul></li><li><span><a href=\"#FastANI\" data-toc-modified-id=\"FastANI-4.1.3\"><span class=\"toc-item-num\">4.1.3&nbsp;&nbsp;</span>FastANI</a></span></li></ul></li></ul></li><li><span><a href=\"#ResMiCo-SM\" data-toc-modified-id=\"ResMiCo-SM-5\"><span class=\"toc-item-num\">5&nbsp;&nbsp;</span>ResMiCo-SM</a></span><ul class=\"toc-item\"><li><ul class=\"toc-item\"><li><span><a href=\"#Config\" data-toc-modified-id=\"Config-5.0.1\"><span class=\"toc-item-num\">5.0.1&nbsp;&nbsp;</span>Config</a></span></li><li><span><a href=\"#Run\" data-toc-modified-id=\"Run-5.0.2\"><span class=\"toc-item-num\">5.0.2&nbsp;&nbsp;</span>Run</a></span></li></ul></li><li><span><a href=\"#Summary\" data-toc-modified-id=\"Summary-5.1\"><span class=\"toc-item-num\">5.1&nbsp;&nbsp;</span>Summary</a></span><ul class=\"toc-item\"><li><span><a href=\"#MetaQUAST-results\" data-toc-modified-id=\"MetaQUAST-results-5.1.1\"><span class=\"toc-item-num\">5.1.1&nbsp;&nbsp;</span>MetaQUAST results</a></span><ul class=\"toc-item\"><li><span><a href=\"#Compared-to-GTDBr89_n9k_train\" data-toc-modified-id=\"Compared-to-GTDBr89_n9k_train-5.1.1.1\"><span class=\"toc-item-num\">5.1.1.1&nbsp;&nbsp;</span>Compared to GTDBr89_n9k_train</a></span></li><li><span><a href=\"#Compared-to-DM_n1000_r30\" data-toc-modified-id=\"Compared-to-DM_n1000_r30-5.1.1.2\"><span class=\"toc-item-num\">5.1.1.2&nbsp;&nbsp;</span>Compared to DM_n1000_r30</a></span></li></ul></li><li><span><a href=\"#ResMiCo-features\" data-toc-modified-id=\"ResMiCo-features-5.1.2\"><span class=\"toc-item-num\">5.1.2&nbsp;&nbsp;</span>ResMiCo features</a></span></li><li><span><a href=\"#metaMIC\" data-toc-modified-id=\"metaMIC-5.1.3\"><span class=\"toc-item-num\">5.1.3&nbsp;&nbsp;</span>metaMIC</a></span><ul class=\"toc-item\"><li><span><a href=\"#True-misassemblies\" data-toc-modified-id=\"True-misassemblies-5.1.3.1\"><span class=\"toc-item-num\">5.1.3.1&nbsp;&nbsp;</span>True misassemblies</a></span></li><li><span><a href=\"#metaMIC-contig-scores\" data-toc-modified-id=\"metaMIC-contig-scores-5.1.3.2\"><span class=\"toc-item-num\">5.1.3.2&nbsp;&nbsp;</span>metaMIC contig scores</a></span></li><li><span><a href=\"#AUCPR\" data-toc-modified-id=\"AUCPR-5.1.3.3\"><span class=\"toc-item-num\">5.1.3.3&nbsp;&nbsp;</span>AUCPR</a></span></li></ul></li><li><span><a href=\"#ALE\" data-toc-modified-id=\"ALE-5.1.4\"><span class=\"toc-item-num\">5.1.4&nbsp;&nbsp;</span>ALE</a></span></li></ul></li><li><span><a href=\"#Comparing-CAMI2-dataset-to-DM-and-RMC-training-dataset\" data-toc-modified-id=\"Comparing-CAMI2-dataset-to-DM-and-RMC-training-dataset-5.2\"><span class=\"toc-item-num\">5.2&nbsp;&nbsp;</span>Comparing CAMI2 dataset to DM and RMC training dataset</a></span><ul class=\"toc-item\"><li><span><a href=\"#GTDBr89_n9k_train\" data-toc-modified-id=\"GTDBr89_n9k_train-5.2.1\"><span class=\"toc-item-num\">5.2.1&nbsp;&nbsp;</span>GTDBr89_n9k_train</a></span></li><li><span><a href=\"#DM_n1000_r30\" data-toc-modified-id=\"DM_n1000_r30-5.2.2\"><span class=\"toc-item-num\">5.2.2&nbsp;&nbsp;</span>DM_n1000_r30</a></span></li><li><span><a href=\"#Compare\" data-toc-modified-id=\"Compare-5.2.3\"><span class=\"toc-item-num\">5.2.3&nbsp;&nbsp;</span>Compare</a></span></li></ul></li></ul></li><li><span><a href=\"#sessionInfo\" data-toc-modified-id=\"sessionInfo-6\"><span class=\"toc-item-num\">6&nbsp;&nbsp;</span>sessionInfo</a></span></li></ul></div>"
   ]
  },
  {
   "cell_type": "markdown",
   "id": "417ac094",
   "metadata": {},
   "source": [
    "# Goal\n",
    "\n",
    "* ResMiCo-SM on CAM2 HMP-gut dataset\n",
    "  * Using CAMI reference genomes\n",
    "  * Using CAMI reads\n",
    "  * Creating new assemblies via ResMiCo-SM"
   ]
  },
  {
   "cell_type": "markdown",
   "id": "a06b2b8b",
   "metadata": {},
   "source": [
    "# Var"
   ]
  },
  {
   "cell_type": "code",
   "execution_count": 5,
   "id": "00dcf8f0",
   "metadata": {
    "ExecuteTime": {
     "end_time": "2021-08-12T06:39:15.578985Z",
     "start_time": "2021-08-12T06:39:15.533Z"
    }
   },
   "outputs": [],
   "source": [
    "work_dir = '/ebio/abt3_projects/databases_no-backup/CAMI/CAMI2_HMP-gut/short_read/'\n",
    "tmp_dir = '/ebio/abt3_scratch/nyoungblut/CAMI/CAMI2_HMP-gut/'\n",
    "\n",
    "# params\n",
    "threads = 4"
   ]
  },
  {
   "cell_type": "markdown",
   "id": "057170da",
   "metadata": {},
   "source": [
    "# Init"
   ]
  },
  {
   "cell_type": "code",
   "execution_count": 6,
   "id": "f4de9dbf",
   "metadata": {
    "ExecuteTime": {
     "end_time": "2021-08-12T06:39:15.828307Z",
     "start_time": "2021-08-12T06:39:15.781Z"
    }
   },
   "outputs": [],
   "source": [
    "library(dplyr)\n",
    "library(tidyr)\n",
    "library(ggplot2)\n",
    "library(data.table)\n",
    "library(tidytable)\n",
    "library(LeyLabRMisc)"
   ]
  },
  {
   "cell_type": "code",
   "execution_count": 7,
   "id": "7efcdd99",
   "metadata": {
    "ExecuteTime": {
     "end_time": "2021-08-12T06:39:15.939020Z",
     "start_time": "2021-08-12T06:39:15.895Z"
    }
   },
   "outputs": [],
   "source": [
    "library(PRROC)"
   ]
  },
  {
   "cell_type": "code",
   "execution_count": 8,
   "id": "4c858b7d",
   "metadata": {
    "ExecuteTime": {
     "end_time": "2021-08-12T06:39:16.064100Z",
     "start_time": "2021-08-12T06:39:16.026Z"
    }
   },
   "outputs": [],
   "source": [
    "df.dims()\n",
    "setDTthreads(4)"
   ]
  },
  {
   "cell_type": "markdown",
   "id": "ab7135e2",
   "metadata": {},
   "source": [
    "# LLG\n",
    "\n",
    "Getting stats on `CAMI2_HMP-gut` reference genomes"
   ]
  },
  {
   "cell_type": "markdown",
   "id": "255647bc",
   "metadata": {},
   "source": [
    "### Config"
   ]
  },
  {
   "cell_type": "code",
   "execution_count": 132,
   "id": "c387ee78",
   "metadata": {
    "ExecuteTime": {
     "end_time": "2021-08-13T06:54:59.998148Z",
     "start_time": "2021-08-13T06:54:59.900Z"
    }
   },
   "outputs": [
    {
     "name": "stdout",
     "output_type": "stream",
     "text": [
      "# table with genome --> fasta_file information\n",
      "samples_file: /ebio/abt3_projects/databases_no-backup/CAMI/CAMI2_HMP-gut/short_read/LLG/genomes.tsv\n",
      "\n",
      "# output location\n",
      "output_dir: /ebio/abt3_projects/databases_no-backup/CAMI/CAMI2_HMP-gut/short_read/LLG/\n",
      "\n",
      "# temporary file directory (your username will be added automatically)\n",
      "tmp_dir: /ebio/abt3_scratch/\n",
      "\n",
      "# batch processing of genomes for certain steps\n",
      "## increase to better parallelize\n",
      "batches: 20\n",
      "\n",
      "# Domain of genomes ('Archaea' or 'Bacteria)\n",
      "## Use \"Skip\" if provided as a \"Domain\" column in the genome table\n",
      "Domain: Bacteria\n",
      "\n",
      "# Just run certain major pipeline steps?\n",
      "run_pipeline_steps:\n",
      "  assembly_assessment: True\n",
      "  dereplication: FTrue\n",
      "  taxonomy: True\n",
      "  ANI: True\n",
      "  rRNA: FTrue\n",
      "  annotation: True\n",
      "  genome_phylogeny: True\n",
      "  phenotype: FTrue\n",
      "  BGC: FTrue\n",
      "  AMR_virulence: FTrue\n",
      "  plasmids: FTrue\n",
      "  CRISPR: FTrue\n",
      "\n",
      "# software parameters\n",
      "# Use \"Skip\" to skip any of these steps. If no params for rule, use \"\"\n",
      "# dRep MAGs are not further analyzed, but you can de-rep & then use the de-rep genome table as input.\n",
      "params:\n",
      "  ionice: -c 3\n",
      "  # assembly assessment\n",
      "  seqkit: \"\"\n",
      "  quast: \"\"\n",
      "  multiqc_on_quast: \"\" \n",
      "  checkm: \"\"\n",
      "  # de-replication (unskipped CheckM or genomeInfo file recommended)\n",
      "  drep:\n",
      "    algorithm: auto\n",
      "    params: -comp 50 -con 5 -sa 0.95\n",
      "    genomeInfo: Skip # e.g., tests/output_bac9/checkM/genomeInfo.csv\n",
      "  # taxonomy\n",
      "  sourmash:\n",
      "    compute: Skip #--scaled 10000 -k 31\n",
      "    gather: -k 31\n",
      "  gtdbtk:\n",
      "    classify_wf: --min_perc_aa 10\n",
      "  minimap2:\n",
      "    index: Skip #-k 15\n",
      "    run: -x sr -N 5\n",
      "    taxonomy: --min-coverage 0.5\n",
      "    keep_bam: True\n",
      "  # genome pairwise ANI  \n",
      "  fastani: --fragLen 3000 --minFraction 0.2 -k 16\n",
      "  dashing: Skip #-k 31 --full-tsv\n",
      "  comparem_aai: Skip #--evalue 0.001\n",
      "  # rRNA (16S alignment & phylogeny)\n",
      "  rRNA:\n",
      "    barrnap: --lencutoff 0.8\n",
      "    vsearch_per_genome_drep: --id 0.95\n",
      "    qiime2_fasttree: \"\"\n",
      "    qiime2_iqtree: --p-alrt 1000 --p-abayes --p-lbp 1000 \n",
      "                   --p-substitution-model 'GTR+I+G'\n",
      "  # gene annotation\n",
      "  gene_call:\n",
      "    prokka: Skip \n",
      "    multiqc_on_prokka: \"\"\n",
      "    prodigal: \"\"\n",
      "  eggnog_mapper:\n",
      "    map: Skip \n",
      "    annot: Skip \n",
      "  # genome phylogeny (requires annotation)\n",
      "  phylophlan:\n",
      "    config: --map_dna diamond --db_aa diamond --map_aa diamond\n",
      "            --msa mafft --trim trimal --tree1 fasttree --tree2 raxml\n",
      "    accuracy: --auto \n",
      "    other_params: --diversity high --min_num_markers 50\n",
      "  # phenotype (requires annotation)\n",
      "  traitar: \"\"\n",
      "  # biosynthetic gene clusters (BGCs)\n",
      "  antismash: --cb-knownclusters --cb-subclusters --asf  \n",
      "  DeepBGC: --score 0.5 --classifier-score 0.5\n",
      "  bigscape: --cutoffs 0.3 --mibig\n",
      "  # antimicrobial resistance (AMR) & virulence \n",
      "  abricate: --minid 75 --mincov 80\n",
      "  RGI: --alignment_tool BLAST\n",
      "  pathofact_virulence: -E 1e-10\n",
      "  pathofact_toxin: -T 40\n",
      "  # plasmids\n",
      "  platon: --mode accuracy\n",
      "  plasflow: --threshold 0.7\n",
      "  # CRISPRs\n",
      "  cctyper: --prodigal meta\n",
      "  \n",
      "# databases\n",
      "databases:\n",
      "  checkM_data: /ebio/abt3_projects/databases_no-backup/checkM/\n",
      "  sourmash: /ebio/abt3_projects/databases_no-backup/sourmash/genbank-k31.sbt.json\n",
      "  sourmash_lca: /ebio/abt3_projects/databases_no-backup/sourmash/genbank-k31.lca.json.gz\n",
      "  gtdbtk: /ebio/abt3_projects/databases_no-backup/GTDB/release95/gtdbtk/db_info.md\n",
      "  minimap2: /ebio/abt3_projects/databases_no-backup/minimap2/GTDBr95_refGenomes.fna.gz\n",
      "  phylophlan: /ebio/abt3_projects/databases_no-backup/phylophlan/PhyloPhlan/phylophlan.faa.bz2\n",
      "  eggnog: /ebio/abt3_projects/databases_no-backup/Eggnog/v2/eggnog.db\n",
      "  eggnog_diamond: /ebio/abt3_projects/databases_no-backup/Eggnog/v2/eggnog_proteins.dmnd\n",
      "  antismash: /ebio/abt3_projects/databases_no-backup/antismash/v5/  \n",
      "  deepbgc: /ebio/abt3_projects/databases_no-backup/DeepBGC/\n",
      "  bigscape: /ebio/abt3_projects/databases_no-backup/BiGSCAPE/2021-04-03/Pfam-A.hmm\n",
      "  traitar: /ebio/abt3_projects/databases_no-backup/pfam/traitar/\n",
      "  platon: /ebio/abt3_projects/databases_no-backup/platon/2021-04/README.md\n",
      "  taxdump: \n",
      "    names: /ebio/abt3_projects/databases_no-backup/GTDB/release95/taxdump/names.dmp\n",
      "    nodes: /ebio/abt3_projects/databases_no-backup/GTDB/release95/taxdump/nodes.dmp\n",
      "  abricate:\n",
      "    ncbi: /ebio/abt3_projects/databases_no-backup/abricate/ncbi/sequences\n",
      "    card: /ebio/abt3_projects/databases_no-backup/abricate/card/sequences\n",
      "    resfinder: /ebio/abt3_projects/databases_no-backup/abricate/resfinder/sequences\n",
      "    argannot: /ebio/abt3_projects/databases_no-backup/abricate/argannot/sequences\n",
      "    bacmet2: /ebio/abt3_projects/databases_no-backup/abricate/bacmet2/sequences\n",
      "    vfdb: /ebio/abt3_projects/databases_no-backup/abricate/vfdb/sequences\n",
      "    megares: /ebio/abt3_projects/databases_no-backup/abricate/megares/sequences\n",
      "    plasmidfinder: /ebio/abt3_projects/databases_no-backup/abricate/plasmidfinder/sequences\n",
      "  RGI:\n",
      "    card:\n",
      "      json: /ebio/abt3_projects/databases_no-backup/CARD/v3.0.9/card.json\n",
      "      fasta: /ebio/abt3_projects/databases_no-backup/CARD/v3.0.9/card_database_v3.0.9.fasta\n",
      "  pathofact:\n",
      "    vir_hmm: /ebio/abt3_projects/databases_no-backup/PathoFact/v1.0/virulence/Virulence_factor.hmm\n",
      "    pos_dom: /ebio/abt3_projects/databases_no-backup/PathoFact/v1.0/models_and_domains/positive_domains.tsv\n",
      "    neg_dom: /ebio/abt3_projects/databases_no-backup/PathoFact/v1.0/models_and_domains/negative_domains.tsv\n",
      "    shared_dom: /ebio/abt3_projects/databases_no-backup/PathoFact/v1.0/models_and_domains/shared_domains.tsv\n",
      "    model: /ebio/abt3_projects/databases_no-backup/PathoFact/v1.0/virulence/Virulence_factor_model.sav\n",
      "    toxin_hmm: /ebio/abt3_projects/databases_no-backup/PathoFact/v1.0/toxins/combined_Toxin.hmm\n",
      "    toxin_names: /ebio/abt3_projects/databases_no-backup/PathoFact/v1.0/toxins/library_HMM_Toxins.tsv\n",
      "    \n",
      "# snakemake pipeline\n",
      "pipeline:\n",
      "  snakemake_folder: ./\n",
      "  script_folder: ./bin/scripts/\n",
      "  use_shared_mem: True\n",
      "  name: LLG"
     ]
    }
   ],
   "source": [
    "F = file.path(work_dir, 'LLG', 'config.yaml')\n",
    "cat_file(F)"
   ]
  },
  {
   "cell_type": "markdown",
   "id": "f5bc22b1",
   "metadata": {},
   "source": [
    "### Run"
   ]
  },
  {
   "cell_type": "markdown",
   "id": "29bd9ef4",
   "metadata": {},
   "source": [
    "```\n",
    "(snakemake) @ rick:/ebio/abt3_projects/software/dev/ll_pipelines/llg\n",
    "screen -L -S llg-cami ./snakemake_sge.sh /ebio/abt3_projects/databases_no-backup/CAMI/CAMI2_HMP-gut/short_read/LLG/config.yaml 30 -F\n",
    "```"
   ]
  },
  {
   "cell_type": "markdown",
   "id": "62f626e8",
   "metadata": {},
   "source": [
    "## Summary"
   ]
  },
  {
   "cell_type": "markdown",
   "id": "22d6af01",
   "metadata": {},
   "source": [
    "### CheckM"
   ]
  },
  {
   "cell_type": "code",
   "execution_count": 136,
   "id": "969f8ba2",
   "metadata": {
    "ExecuteTime": {
     "end_time": "2021-08-13T07:04:45.125933Z",
     "start_time": "2021-08-13T07:04:45.060Z"
    }
   },
   "outputs": [
    {
     "data": {
      "text/html": [
       "<table class=\"dataframe\">\n",
       "<caption>A data.table: 1057 × 33</caption>\n",
       "<thead>\n",
       "\t<tr><th scope=col>Bin.Id</th><th scope=col>Marker.lineage</th><th scope=col>X..genomes</th><th scope=col>X..markers</th><th scope=col>X..marker.sets</th><th scope=col>Completeness</th><th scope=col>Contamination</th><th scope=col>Strain.heterogeneity</th><th scope=col>Genome.size..bp.</th><th scope=col>X..ambiguous.bases</th><th scope=col>⋯</th><th scope=col>X0</th><th scope=col>X1</th><th scope=col>X2</th><th scope=col>X3</th><th scope=col>X4</th><th scope=col>X5.</th><th scope=col>assembly.Id</th><th scope=col>assembler.Id</th><th scope=col>taxon.Id</th><th scope=col>File</th></tr>\n",
       "\t<tr><th scope=col>&lt;chr&gt;</th><th scope=col>&lt;chr&gt;</th><th scope=col>&lt;int&gt;</th><th scope=col>&lt;int&gt;</th><th scope=col>&lt;int&gt;</th><th scope=col>&lt;dbl&gt;</th><th scope=col>&lt;dbl&gt;</th><th scope=col>&lt;dbl&gt;</th><th scope=col>&lt;int&gt;</th><th scope=col>&lt;int&gt;</th><th scope=col>⋯</th><th scope=col>&lt;int&gt;</th><th scope=col>&lt;int&gt;</th><th scope=col>&lt;int&gt;</th><th scope=col>&lt;int&gt;</th><th scope=col>&lt;int&gt;</th><th scope=col>&lt;int&gt;</th><th scope=col>&lt;chr&gt;</th><th scope=col>&lt;chr&gt;</th><th scope=col>&lt;lgl&gt;</th><th scope=col>&lt;chr&gt;</th></tr>\n",
       "</thead>\n",
       "<tbody>\n",
       "\t<tr><td>GCA_000007465_2_ASM746v2 </td><td>o__Lactobacillales (UID544) </td><td>293</td><td>471</td><td>267</td><td>100.00</td><td>0.00</td><td>0</td><td>2032925</td><td>0</td><td>⋯</td><td>0</td><td>471</td><td>0</td><td>0</td><td>0</td><td>0</td><td>|ebio|abt3_projects|databases_no-backup|CAMI|CAMI2_HMP-gut|short_read|LLG|checkM|1|checkm|markers_qa_summary.tsv.1</td><td>markers_qa_summary.tsv.1</td><td>NA</td><td>/ebio/abt3_projects/databases_no-backup/CAMI/CAMI2_HMP-gut/short_read/LLG/checkM/1/checkm/markers_qa_summary.tsv.1</td></tr>\n",
       "\t<tr><td>GCA_000011785_1_ASM1178v1</td><td>f__Pasteurellaceae (UID4932)</td><td> 83</td><td>762</td><td>437</td><td> 99.89</td><td>0.46</td><td>0</td><td>2012878</td><td>0</td><td>⋯</td><td>1</td><td>759</td><td>2</td><td>0</td><td>0</td><td>0</td><td>|ebio|abt3_projects|databases_no-backup|CAMI|CAMI2_HMP-gut|short_read|LLG|checkM|1|checkm|markers_qa_summary.tsv.2</td><td>markers_qa_summary.tsv.2</td><td>NA</td><td>/ebio/abt3_projects/databases_no-backup/CAMI/CAMI2_HMP-gut/short_read/LLG/checkM/1/checkm/markers_qa_summary.tsv.2</td></tr>\n",
       "\t<tr><td>⋮</td><td>⋮</td><td>⋮</td><td>⋮</td><td>⋮</td><td>⋮</td><td>⋮</td><td>⋮</td><td>⋮</td><td>⋮</td><td>⋱</td><td>⋮</td><td>⋮</td><td>⋮</td><td>⋮</td><td>⋮</td><td>⋮</td><td>⋮</td><td>⋮</td><td>⋮</td><td>⋮</td></tr>\n",
       "\t<tr><td>GCA_001936415_1_ASM193641v1</td><td>o__Lactobacillales (UID544) </td><td>293</td><td>475</td><td>267</td><td>100.00</td><td>0</td><td>0</td><td>2094030</td><td>0</td><td>⋯</td><td>0</td><td>475</td><td>0</td><td>0</td><td>0</td><td>0</td><td>|ebio|abt3_projects|databases_no-backup|CAMI|CAMI2_HMP-gut|short_read|LLG|checkM|20|checkm|markers_qa_summary.tsv.51</td><td>markers_qa_summary.tsv.51</td><td>NA</td><td>/ebio/abt3_projects/databases_no-backup/CAMI/CAMI2_HMP-gut/short_read/LLG/checkM/20/checkm/markers_qa_summary.tsv.51</td></tr>\n",
       "\t<tr><td>GCA_900078695_1_H044680328 </td><td>o__Burkholderiales (UID4000)</td><td>193</td><td>427</td><td>214</td><td> 98.91</td><td>0</td><td>0</td><td>4485537</td><td>0</td><td>⋯</td><td>3</td><td>424</td><td>0</td><td>0</td><td>0</td><td>0</td><td>|ebio|abt3_projects|databases_no-backup|CAMI|CAMI2_HMP-gut|short_read|LLG|checkM|20|checkm|markers_qa_summary.tsv.52</td><td>markers_qa_summary.tsv.52</td><td>NA</td><td>/ebio/abt3_projects/databases_no-backup/CAMI/CAMI2_HMP-gut/short_read/LLG/checkM/20/checkm/markers_qa_summary.tsv.52</td></tr>\n",
       "</tbody>\n",
       "</table>\n"
      ],
      "text/latex": [
       "A data.table: 1057 × 33\n",
       "\\begin{tabular}{lllllllllllllllllllll}\n",
       " Bin.Id & Marker.lineage & X..genomes & X..markers & X..marker.sets & Completeness & Contamination & Strain.heterogeneity & Genome.size..bp. & X..ambiguous.bases & ⋯ & X0 & X1 & X2 & X3 & X4 & X5. & assembly.Id & assembler.Id & taxon.Id & File\\\\\n",
       " <chr> & <chr> & <int> & <int> & <int> & <dbl> & <dbl> & <dbl> & <int> & <int> & ⋯ & <int> & <int> & <int> & <int> & <int> & <int> & <chr> & <chr> & <lgl> & <chr>\\\\\n",
       "\\hline\n",
       "\t GCA\\_000007465\\_2\\_ASM746v2  & o\\_\\_Lactobacillales (UID544)  & 293 & 471 & 267 & 100.00 & 0.00 & 0 & 2032925 & 0 & ⋯ & 0 & 471 & 0 & 0 & 0 & 0 & \\textbar{}ebio\\textbar{}abt3\\_projects\\textbar{}databases\\_no-backup\\textbar{}CAMI\\textbar{}CAMI2\\_HMP-gut\\textbar{}short\\_read\\textbar{}LLG\\textbar{}checkM\\textbar{}1\\textbar{}checkm\\textbar{}markers\\_qa\\_summary.tsv.1 & markers\\_qa\\_summary.tsv.1 & NA & /ebio/abt3\\_projects/databases\\_no-backup/CAMI/CAMI2\\_HMP-gut/short\\_read/LLG/checkM/1/checkm/markers\\_qa\\_summary.tsv.1\\\\\n",
       "\t GCA\\_000011785\\_1\\_ASM1178v1 & f\\_\\_Pasteurellaceae (UID4932) &  83 & 762 & 437 &  99.89 & 0.46 & 0 & 2012878 & 0 & ⋯ & 1 & 759 & 2 & 0 & 0 & 0 & \\textbar{}ebio\\textbar{}abt3\\_projects\\textbar{}databases\\_no-backup\\textbar{}CAMI\\textbar{}CAMI2\\_HMP-gut\\textbar{}short\\_read\\textbar{}LLG\\textbar{}checkM\\textbar{}1\\textbar{}checkm\\textbar{}markers\\_qa\\_summary.tsv.2 & markers\\_qa\\_summary.tsv.2 & NA & /ebio/abt3\\_projects/databases\\_no-backup/CAMI/CAMI2\\_HMP-gut/short\\_read/LLG/checkM/1/checkm/markers\\_qa\\_summary.tsv.2\\\\\n",
       "\t ⋮ & ⋮ & ⋮ & ⋮ & ⋮ & ⋮ & ⋮ & ⋮ & ⋮ & ⋮ & ⋱ & ⋮ & ⋮ & ⋮ & ⋮ & ⋮ & ⋮ & ⋮ & ⋮ & ⋮ & ⋮\\\\\n",
       "\t GCA\\_001936415\\_1\\_ASM193641v1 & o\\_\\_Lactobacillales (UID544)  & 293 & 475 & 267 & 100.00 & 0 & 0 & 2094030 & 0 & ⋯ & 0 & 475 & 0 & 0 & 0 & 0 & \\textbar{}ebio\\textbar{}abt3\\_projects\\textbar{}databases\\_no-backup\\textbar{}CAMI\\textbar{}CAMI2\\_HMP-gut\\textbar{}short\\_read\\textbar{}LLG\\textbar{}checkM\\textbar{}20\\textbar{}checkm\\textbar{}markers\\_qa\\_summary.tsv.51 & markers\\_qa\\_summary.tsv.51 & NA & /ebio/abt3\\_projects/databases\\_no-backup/CAMI/CAMI2\\_HMP-gut/short\\_read/LLG/checkM/20/checkm/markers\\_qa\\_summary.tsv.51\\\\\n",
       "\t GCA\\_900078695\\_1\\_H044680328  & o\\_\\_Burkholderiales (UID4000) & 193 & 427 & 214 &  98.91 & 0 & 0 & 4485537 & 0 & ⋯ & 3 & 424 & 0 & 0 & 0 & 0 & \\textbar{}ebio\\textbar{}abt3\\_projects\\textbar{}databases\\_no-backup\\textbar{}CAMI\\textbar{}CAMI2\\_HMP-gut\\textbar{}short\\_read\\textbar{}LLG\\textbar{}checkM\\textbar{}20\\textbar{}checkm\\textbar{}markers\\_qa\\_summary.tsv.52 & markers\\_qa\\_summary.tsv.52 & NA & /ebio/abt3\\_projects/databases\\_no-backup/CAMI/CAMI2\\_HMP-gut/short\\_read/LLG/checkM/20/checkm/markers\\_qa\\_summary.tsv.52\\\\\n",
       "\\end{tabular}\n"
      ],
      "text/markdown": [
       "\n",
       "A data.table: 1057 × 33\n",
       "\n",
       "| Bin.Id &lt;chr&gt; | Marker.lineage &lt;chr&gt; | X..genomes &lt;int&gt; | X..markers &lt;int&gt; | X..marker.sets &lt;int&gt; | Completeness &lt;dbl&gt; | Contamination &lt;dbl&gt; | Strain.heterogeneity &lt;dbl&gt; | Genome.size..bp. &lt;int&gt; | X..ambiguous.bases &lt;int&gt; | ⋯ ⋯ | X0 &lt;int&gt; | X1 &lt;int&gt; | X2 &lt;int&gt; | X3 &lt;int&gt; | X4 &lt;int&gt; | X5. &lt;int&gt; | assembly.Id &lt;chr&gt; | assembler.Id &lt;chr&gt; | taxon.Id &lt;lgl&gt; | File &lt;chr&gt; |\n",
       "|---|---|---|---|---|---|---|---|---|---|---|---|---|---|---|---|---|---|---|---|---|\n",
       "| GCA_000007465_2_ASM746v2  | o__Lactobacillales (UID544)  | 293 | 471 | 267 | 100.00 | 0.00 | 0 | 2032925 | 0 | ⋯ | 0 | 471 | 0 | 0 | 0 | 0 | |ebio|abt3_projects|databases_no-backup|CAMI|CAMI2_HMP-gut|short_read|LLG|checkM|1|checkm|markers_qa_summary.tsv.1 | markers_qa_summary.tsv.1 | NA | /ebio/abt3_projects/databases_no-backup/CAMI/CAMI2_HMP-gut/short_read/LLG/checkM/1/checkm/markers_qa_summary.tsv.1 |\n",
       "| GCA_000011785_1_ASM1178v1 | f__Pasteurellaceae (UID4932) |  83 | 762 | 437 |  99.89 | 0.46 | 0 | 2012878 | 0 | ⋯ | 1 | 759 | 2 | 0 | 0 | 0 | |ebio|abt3_projects|databases_no-backup|CAMI|CAMI2_HMP-gut|short_read|LLG|checkM|1|checkm|markers_qa_summary.tsv.2 | markers_qa_summary.tsv.2 | NA | /ebio/abt3_projects/databases_no-backup/CAMI/CAMI2_HMP-gut/short_read/LLG/checkM/1/checkm/markers_qa_summary.tsv.2 |\n",
       "| ⋮ | ⋮ | ⋮ | ⋮ | ⋮ | ⋮ | ⋮ | ⋮ | ⋮ | ⋮ | ⋱ | ⋮ | ⋮ | ⋮ | ⋮ | ⋮ | ⋮ | ⋮ | ⋮ | ⋮ | ⋮ |\n",
       "| GCA_001936415_1_ASM193641v1 | o__Lactobacillales (UID544)  | 293 | 475 | 267 | 100.00 | 0 | 0 | 2094030 | 0 | ⋯ | 0 | 475 | 0 | 0 | 0 | 0 | |ebio|abt3_projects|databases_no-backup|CAMI|CAMI2_HMP-gut|short_read|LLG|checkM|20|checkm|markers_qa_summary.tsv.51 | markers_qa_summary.tsv.51 | NA | /ebio/abt3_projects/databases_no-backup/CAMI/CAMI2_HMP-gut/short_read/LLG/checkM/20/checkm/markers_qa_summary.tsv.51 |\n",
       "| GCA_900078695_1_H044680328  | o__Burkholderiales (UID4000) | 193 | 427 | 214 |  98.91 | 0 | 0 | 4485537 | 0 | ⋯ | 3 | 424 | 0 | 0 | 0 | 0 | |ebio|abt3_projects|databases_no-backup|CAMI|CAMI2_HMP-gut|short_read|LLG|checkM|20|checkm|markers_qa_summary.tsv.52 | markers_qa_summary.tsv.52 | NA | /ebio/abt3_projects/databases_no-backup/CAMI/CAMI2_HMP-gut/short_read/LLG/checkM/20/checkm/markers_qa_summary.tsv.52 |\n",
       "\n"
      ],
      "text/plain": [
       "     Bin.Id                      Marker.lineage               X..genomes\n",
       "1    GCA_000007465_2_ASM746v2    o__Lactobacillales (UID544)  293       \n",
       "2    GCA_000011785_1_ASM1178v1   f__Pasteurellaceae (UID4932)  83       \n",
       "⋮    ⋮                           ⋮                            ⋮         \n",
       "1056 GCA_001936415_1_ASM193641v1 o__Lactobacillales (UID544)  293       \n",
       "1057 GCA_900078695_1_H044680328  o__Burkholderiales (UID4000) 193       \n",
       "     X..markers X..marker.sets Completeness Contamination Strain.heterogeneity\n",
       "1    471        267            100.00       0.00          0                   \n",
       "2    762        437             99.89       0.46          0                   \n",
       "⋮    ⋮          ⋮              ⋮            ⋮             ⋮                   \n",
       "1056 475        267            100.00       0             0                   \n",
       "1057 427        214             98.91       0             0                   \n",
       "     Genome.size..bp. X..ambiguous.bases ⋯ X0 X1  X2 X3 X4 X5.\n",
       "1    2032925          0                  ⋯ 0  471 0  0  0  0  \n",
       "2    2012878          0                  ⋯ 1  759 2  0  0  0  \n",
       "⋮    ⋮                ⋮                  ⋱ ⋮  ⋮   ⋮  ⋮  ⋮  ⋮  \n",
       "1056 2094030          0                  ⋯ 0  475 0  0  0  0  \n",
       "1057 4485537          0                  ⋯ 3  424 0  0  0  0  \n",
       "     assembly.Id                                                                                                         \n",
       "1    |ebio|abt3_projects|databases_no-backup|CAMI|CAMI2_HMP-gut|short_read|LLG|checkM|1|checkm|markers_qa_summary.tsv.1  \n",
       "2    |ebio|abt3_projects|databases_no-backup|CAMI|CAMI2_HMP-gut|short_read|LLG|checkM|1|checkm|markers_qa_summary.tsv.2  \n",
       "⋮    ⋮                                                                                                                   \n",
       "1056 |ebio|abt3_projects|databases_no-backup|CAMI|CAMI2_HMP-gut|short_read|LLG|checkM|20|checkm|markers_qa_summary.tsv.51\n",
       "1057 |ebio|abt3_projects|databases_no-backup|CAMI|CAMI2_HMP-gut|short_read|LLG|checkM|20|checkm|markers_qa_summary.tsv.52\n",
       "     assembler.Id              taxon.Id\n",
       "1    markers_qa_summary.tsv.1  NA      \n",
       "2    markers_qa_summary.tsv.2  NA      \n",
       "⋮    ⋮                         ⋮       \n",
       "1056 markers_qa_summary.tsv.51 NA      \n",
       "1057 markers_qa_summary.tsv.52 NA      \n",
       "     File                                                                                                                \n",
       "1    /ebio/abt3_projects/databases_no-backup/CAMI/CAMI2_HMP-gut/short_read/LLG/checkM/1/checkm/markers_qa_summary.tsv.1  \n",
       "2    /ebio/abt3_projects/databases_no-backup/CAMI/CAMI2_HMP-gut/short_read/LLG/checkM/1/checkm/markers_qa_summary.tsv.2  \n",
       "⋮    ⋮                                                                                                                   \n",
       "1056 /ebio/abt3_projects/databases_no-backup/CAMI/CAMI2_HMP-gut/short_read/LLG/checkM/20/checkm/markers_qa_summary.tsv.51\n",
       "1057 /ebio/abt3_projects/databases_no-backup/CAMI/CAMI2_HMP-gut/short_read/LLG/checkM/20/checkm/markers_qa_summary.tsv.52"
      ]
     },
     "metadata": {},
     "output_type": "display_data"
    }
   ],
   "source": [
    "# checkm table load\n",
    "F = file.path(work_dir, 'LLG', 'checkM', 'checkm_qa_summary.tsv')\n",
    "checkm = Fread(F)\n",
    "checkm"
   ]
  },
  {
   "cell_type": "code",
   "execution_count": 137,
   "id": "9c7378b1",
   "metadata": {
    "ExecuteTime": {
     "end_time": "2021-08-13T07:04:59.382078Z",
     "start_time": "2021-08-13T07:04:59.336Z"
    }
   },
   "outputs": [
    {
     "data": {
      "text/html": [
       "<table class=\"dataframe\">\n",
       "<caption>A matrix: 1 × 8 of type dbl</caption>\n",
       "<thead>\n",
       "\t<tr><th></th><th scope=col>Min.</th><th scope=col>1st Qu.</th><th scope=col>Median</th><th scope=col>Mean</th><th scope=col>3rd Qu.</th><th scope=col>Max.</th><th scope=col>sd</th><th scope=col>sd_err_of_mean</th></tr>\n",
       "</thead>\n",
       "<tbody>\n",
       "\t<tr><th scope=row>Completeness</th><td>81.03</td><td>99.34</td><td>99.67</td><td>99.49248</td><td>100</td><td>100</td><td>7.627</td><td>3.114</td></tr>\n",
       "</tbody>\n",
       "</table>\n"
      ],
      "text/latex": [
       "A matrix: 1 × 8 of type dbl\n",
       "\\begin{tabular}{r|llllllll}\n",
       "  & Min. & 1st Qu. & Median & Mean & 3rd Qu. & Max. & sd & sd\\_err\\_of\\_mean\\\\\n",
       "\\hline\n",
       "\tCompleteness & 81.03 & 99.34 & 99.67 & 99.49248 & 100 & 100 & 7.627 & 3.114\\\\\n",
       "\\end{tabular}\n"
      ],
      "text/markdown": [
       "\n",
       "A matrix: 1 × 8 of type dbl\n",
       "\n",
       "| <!--/--> | Min. | 1st Qu. | Median | Mean | 3rd Qu. | Max. | sd | sd_err_of_mean |\n",
       "|---|---|---|---|---|---|---|---|---|\n",
       "| Completeness | 81.03 | 99.34 | 99.67 | 99.49248 | 100 | 100 | 7.627 | 3.114 |\n",
       "\n"
      ],
      "text/plain": [
       "             Min.  1st Qu. Median Mean     3rd Qu. Max. sd    sd_err_of_mean\n",
       "Completeness 81.03 99.34   99.67  99.49248 100     100  7.627 3.114         "
      ]
     },
     "metadata": {},
     "output_type": "display_data"
    },
    {
     "data": {
      "text/html": [
       "<table class=\"dataframe\">\n",
       "<caption>A matrix: 1 × 8 of type dbl</caption>\n",
       "<thead>\n",
       "\t<tr><th></th><th scope=col>Min.</th><th scope=col>1st Qu.</th><th scope=col>Median</th><th scope=col>Mean</th><th scope=col>3rd Qu.</th><th scope=col>Max.</th><th scope=col>sd</th><th scope=col>sd_err_of_mean</th></tr>\n",
       "</thead>\n",
       "<tbody>\n",
       "\t<tr><th scope=row>Contamination</th><td>0</td><td>0</td><td>0.15</td><td>0.3524882</td><td>0.38</td><td>9.6</td><td>3.851</td><td>1.572</td></tr>\n",
       "</tbody>\n",
       "</table>\n"
      ],
      "text/latex": [
       "A matrix: 1 × 8 of type dbl\n",
       "\\begin{tabular}{r|llllllll}\n",
       "  & Min. & 1st Qu. & Median & Mean & 3rd Qu. & Max. & sd & sd\\_err\\_of\\_mean\\\\\n",
       "\\hline\n",
       "\tContamination & 0 & 0 & 0.15 & 0.3524882 & 0.38 & 9.6 & 3.851 & 1.572\\\\\n",
       "\\end{tabular}\n"
      ],
      "text/markdown": [
       "\n",
       "A matrix: 1 × 8 of type dbl\n",
       "\n",
       "| <!--/--> | Min. | 1st Qu. | Median | Mean | 3rd Qu. | Max. | sd | sd_err_of_mean |\n",
       "|---|---|---|---|---|---|---|---|---|\n",
       "| Contamination | 0 | 0 | 0.15 | 0.3524882 | 0.38 | 9.6 | 3.851 | 1.572 |\n",
       "\n"
      ],
      "text/plain": [
       "              Min. 1st Qu. Median Mean      3rd Qu. Max. sd    sd_err_of_mean\n",
       "Contamination 0    0       0.15   0.3524882 0.38    9.6  3.851 1.572         "
      ]
     },
     "metadata": {},
     "output_type": "display_data"
    }
   ],
   "source": [
    "# summary\n",
    "summary_x(checkm$Completeness)\n",
    "summary_x(checkm$Contamination)"
   ]
  },
  {
   "cell_type": "markdown",
   "id": "5022bbc7",
   "metadata": {},
   "source": [
    "### GTDB-Tk"
   ]
  },
  {
   "cell_type": "code",
   "execution_count": 149,
   "id": "9419ccd5",
   "metadata": {
    "ExecuteTime": {
     "end_time": "2021-08-13T08:44:01.030263Z",
     "start_time": "2021-08-13T08:44:00.948Z"
    }
   },
   "outputs": [
    {
     "data": {
      "text/html": [
       "<table class=\"dataframe\">\n",
       "<caption>A tidytable: 1057 × 8</caption>\n",
       "<thead>\n",
       "\t<tr><th scope=col>user_genome</th><th scope=col>Domain</th><th scope=col>Phylum</th><th scope=col>Class</th><th scope=col>Order</th><th scope=col>Family</th><th scope=col>Genus</th><th scope=col>Species</th></tr>\n",
       "\t<tr><th scope=col>&lt;chr&gt;</th><th scope=col>&lt;chr&gt;</th><th scope=col>&lt;chr&gt;</th><th scope=col>&lt;chr&gt;</th><th scope=col>&lt;chr&gt;</th><th scope=col>&lt;chr&gt;</th><th scope=col>&lt;chr&gt;</th><th scope=col>&lt;chr&gt;</th></tr>\n",
       "</thead>\n",
       "<tbody>\n",
       "\t<tr><td>GCA_000007585_1_ASM758v1</td><td>Bacteria</td><td>Bacteroidota</td><td>Bacteroidia</td><td>Bacteroidales</td><td>Porphyromonadaceae</td><td>Porphyromonas</td><td>Porphyromonas gingivalis    </td></tr>\n",
       "\t<tr><td>GCA_000008765_1_ASM876v1</td><td>Bacteria</td><td>Firmicutes_A</td><td>Clostridia </td><td>Clostridiales</td><td>Clostridiaceae    </td><td>Clostridium_S</td><td>Clostridium_S acetobutylicum</td></tr>\n",
       "\t<tr><td>⋮</td><td>⋮</td><td>⋮</td><td>⋮</td><td>⋮</td><td>⋮</td><td>⋮</td><td>⋮</td></tr>\n",
       "\t<tr><td>GCA_001867045_1_ASM186704v1</td><td>Bacteria</td><td>Actinobacteriota</td><td>Actinomycetia</td><td>Mycobacteriales</td><td>Mycobacteriaceae</td><td>Corynebacterium</td><td>Corynebacterium pseudotuberculosis</td></tr>\n",
       "\t<tr><td>GCA_001936415_1_ASM193641v1</td><td>Bacteria</td><td>Firmicutes      </td><td>Bacilli      </td><td>Lactobacillales</td><td>Streptococcaceae</td><td>Streptococcus  </td><td>Streptococcus suis                </td></tr>\n",
       "</tbody>\n",
       "</table>\n"
      ],
      "text/latex": [
       "A tidytable: 1057 × 8\n",
       "\\begin{tabular}{llllllll}\n",
       " user\\_genome & Domain & Phylum & Class & Order & Family & Genus & Species\\\\\n",
       " <chr> & <chr> & <chr> & <chr> & <chr> & <chr> & <chr> & <chr>\\\\\n",
       "\\hline\n",
       "\t GCA\\_000007585\\_1\\_ASM758v1 & Bacteria & Bacteroidota & Bacteroidia & Bacteroidales & Porphyromonadaceae & Porphyromonas & Porphyromonas gingivalis    \\\\\n",
       "\t GCA\\_000008765\\_1\\_ASM876v1 & Bacteria & Firmicutes\\_A & Clostridia  & Clostridiales & Clostridiaceae     & Clostridium\\_S & Clostridium\\_S acetobutylicum\\\\\n",
       "\t ⋮ & ⋮ & ⋮ & ⋮ & ⋮ & ⋮ & ⋮ & ⋮\\\\\n",
       "\t GCA\\_001867045\\_1\\_ASM186704v1 & Bacteria & Actinobacteriota & Actinomycetia & Mycobacteriales & Mycobacteriaceae & Corynebacterium & Corynebacterium pseudotuberculosis\\\\\n",
       "\t GCA\\_001936415\\_1\\_ASM193641v1 & Bacteria & Firmicutes       & Bacilli       & Lactobacillales & Streptococcaceae & Streptococcus   & Streptococcus suis                \\\\\n",
       "\\end{tabular}\n"
      ],
      "text/markdown": [
       "\n",
       "A tidytable: 1057 × 8\n",
       "\n",
       "| user_genome &lt;chr&gt; | Domain &lt;chr&gt; | Phylum &lt;chr&gt; | Class &lt;chr&gt; | Order &lt;chr&gt; | Family &lt;chr&gt; | Genus &lt;chr&gt; | Species &lt;chr&gt; |\n",
       "|---|---|---|---|---|---|---|---|\n",
       "| GCA_000007585_1_ASM758v1 | Bacteria | Bacteroidota | Bacteroidia | Bacteroidales | Porphyromonadaceae | Porphyromonas | Porphyromonas gingivalis     |\n",
       "| GCA_000008765_1_ASM876v1 | Bacteria | Firmicutes_A | Clostridia  | Clostridiales | Clostridiaceae     | Clostridium_S | Clostridium_S acetobutylicum |\n",
       "| ⋮ | ⋮ | ⋮ | ⋮ | ⋮ | ⋮ | ⋮ | ⋮ |\n",
       "| GCA_001867045_1_ASM186704v1 | Bacteria | Actinobacteriota | Actinomycetia | Mycobacteriales | Mycobacteriaceae | Corynebacterium | Corynebacterium pseudotuberculosis |\n",
       "| GCA_001936415_1_ASM193641v1 | Bacteria | Firmicutes       | Bacilli       | Lactobacillales | Streptococcaceae | Streptococcus   | Streptococcus suis                 |\n",
       "\n"
      ],
      "text/plain": [
       "     user_genome                 Domain   Phylum           Class        \n",
       "1    GCA_000007585_1_ASM758v1    Bacteria Bacteroidota     Bacteroidia  \n",
       "2    GCA_000008765_1_ASM876v1    Bacteria Firmicutes_A     Clostridia   \n",
       "⋮    ⋮                           ⋮        ⋮                ⋮            \n",
       "1056 GCA_001867045_1_ASM186704v1 Bacteria Actinobacteriota Actinomycetia\n",
       "1057 GCA_001936415_1_ASM193641v1 Bacteria Firmicutes       Bacilli      \n",
       "     Order           Family             Genus          \n",
       "1    Bacteroidales   Porphyromonadaceae Porphyromonas  \n",
       "2    Clostridiales   Clostridiaceae     Clostridium_S  \n",
       "⋮    ⋮               ⋮                  ⋮              \n",
       "1056 Mycobacteriales Mycobacteriaceae   Corynebacterium\n",
       "1057 Lactobacillales Streptococcaceae   Streptococcus  \n",
       "     Species                           \n",
       "1    Porphyromonas gingivalis          \n",
       "2    Clostridium_S acetobutylicum      \n",
       "⋮    ⋮                                 \n",
       "1056 Corynebacterium pseudotuberculosis\n",
       "1057 Streptococcus suis                "
      ]
     },
     "metadata": {},
     "output_type": "display_data"
    }
   ],
   "source": [
    "# gtdbtk table load\n",
    "F = file.path(work_dir, 'LLG', 'gtdbtk', 'gtdbtk_summary.tsv')\n",
    "tax = Fread(F) %>%\n",
    "    select.(user_genome, classification) %>%\n",
    "    mutate.(classification = gsub(';[pcofgs]__', ';', classification)) %>%\n",
    "    separate.(classification, taxonomy_levels(), sep=';') %>%\n",
    "    mutate.(Domain = gsub('^d__', '', Domain))\n",
    "tax"
   ]
  },
  {
   "cell_type": "code",
   "execution_count": 152,
   "id": "fd3f3d03",
   "metadata": {
    "ExecuteTime": {
     "end_time": "2021-08-13T08:45:56.819032Z",
     "start_time": "2021-08-13T08:45:56.402Z"
    }
   },
   "outputs": [
    {
     "data": {
      "text/html": [
       "<table class=\"dataframe\">\n",
       "<caption>A matrix: 1 × 8 of type dbl</caption>\n",
       "<thead>\n",
       "\t<tr><th></th><th scope=col>Min.</th><th scope=col>1st Qu.</th><th scope=col>Median</th><th scope=col>Mean</th><th scope=col>3rd Qu.</th><th scope=col>Max.</th><th scope=col>sd</th><th scope=col>sd_err_of_mean</th></tr>\n",
       "</thead>\n",
       "<tbody>\n",
       "\t<tr><th scope=row>n</th><td>1</td><td>1</td><td>1</td><td>2.669192</td><td>2</td><td>72</td><td>28.776</td><td>11.748</td></tr>\n",
       "</tbody>\n",
       "</table>\n"
      ],
      "text/latex": [
       "A matrix: 1 × 8 of type dbl\n",
       "\\begin{tabular}{r|llllllll}\n",
       "  & Min. & 1st Qu. & Median & Mean & 3rd Qu. & Max. & sd & sd\\_err\\_of\\_mean\\\\\n",
       "\\hline\n",
       "\tn & 1 & 1 & 1 & 2.669192 & 2 & 72 & 28.776 & 11.748\\\\\n",
       "\\end{tabular}\n"
      ],
      "text/markdown": [
       "\n",
       "A matrix: 1 × 8 of type dbl\n",
       "\n",
       "| <!--/--> | Min. | 1st Qu. | Median | Mean | 3rd Qu. | Max. | sd | sd_err_of_mean |\n",
       "|---|---|---|---|---|---|---|---|---|\n",
       "| n | 1 | 1 | 1 | 2.669192 | 2 | 72 | 28.776 | 11.748 |\n",
       "\n"
      ],
      "text/plain": [
       "  Min. 1st Qu. Median Mean     3rd Qu. Max. sd     sd_err_of_mean\n",
       "n 1    1       1      2.669192 2       72   28.776 11.748        "
      ]
     },
     "metadata": {},
     "output_type": "display_data"
    },
    {
     "data": {
      "image/png": "[encoded data removed]",
      "text/plain": [
       "plot without title"
      ]
     },
     "metadata": {
      "image/png": {
       "height": 220,
       "width": 400
      }
     },
     "output_type": "display_data"
    }
   ],
   "source": [
    "tax_s = tax %>%\n",
    "    summarize.(n = n.(),\n",
    "               .by=c(Phylum, Class, Order, Family, Genus, Species)) \n",
    "summary_x(tax_s$n)\n",
    "p = tax_s %>%\n",
    "    ggplot(aes(n)) +\n",
    "    geom_histogram(bins=30) +\n",
    "    labs(x='No. of genomes in the species', y='No. of species') +\n",
    "    theme_bw()\n",
    "p.dims(4,2.2)\n",
    "plot(p)"
   ]
  },
  {
   "cell_type": "markdown",
   "id": "999b35c2",
   "metadata": {},
   "source": [
    "#### genomes-per-species for  `n9k_train`"
   ]
  },
  {
   "cell_type": "code",
   "execution_count": 158,
   "id": "efe8b848",
   "metadata": {
    "ExecuteTime": {
     "end_time": "2021-08-13T08:50:25.591521Z",
     "start_time": "2021-08-13T08:50:25.182Z"
    }
   },
   "outputs": [],
   "source": [
    "F = '/ebio/abt3_projects/databases_no-backup/DeepMAsED/version2/ref_genomes/GTDBr89/metadata_quality.tsv'\n",
    "df1 = Fread(F, quote=\"\") %>%\n",
    "    select.(accession, Domain, Phylum, Class, Order, Family, Genus, Species)\n",
    "F = '/ebio/abt3_projects/databases_no-backup/DeepMAsED/version2/ref_genomes/GTDBr89/metadata_n9000-rand_train.tsv'\n",
    "df2 = Fread(F)"
   ]
  },
  {
   "cell_type": "code",
   "execution_count": 163,
   "id": "925201a2",
   "metadata": {
    "ExecuteTime": {
     "end_time": "2021-08-13T08:51:19.391960Z",
     "start_time": "2021-08-13T08:51:18.941Z"
    }
   },
   "outputs": [
    {
     "name": "stdout",
     "output_type": "stream",
     "text": [
      "intersect(x,y): 9000 \n",
      "setdiff(x,y): 0 \n",
      "setdiff(y,x): 10479 \n",
      "union(x,y): 19479 \n"
     ]
    },
    {
     "data": {
      "text/html": [
       "<table class=\"dataframe\">\n",
       "<caption>A tidytable: 9000 × 8</caption>\n",
       "<thead>\n",
       "\t<tr><th scope=col>accession</th><th scope=col>Domain</th><th scope=col>Phylum</th><th scope=col>Class</th><th scope=col>Order</th><th scope=col>Family</th><th scope=col>Genus</th><th scope=col>Species</th></tr>\n",
       "\t<tr><th scope=col>&lt;chr&gt;</th><th scope=col>&lt;chr&gt;</th><th scope=col>&lt;chr&gt;</th><th scope=col>&lt;chr&gt;</th><th scope=col>&lt;chr&gt;</th><th scope=col>&lt;chr&gt;</th><th scope=col>&lt;chr&gt;</th><th scope=col>&lt;chr&gt;</th></tr>\n",
       "</thead>\n",
       "<tbody>\n",
       "\t<tr><td>RS_GCF_000812185.1</td><td>d__Archaea</td><td>p__Crenarchaeota</td><td>c__Nitrososphaeria</td><td>o__Nitrososphaerales</td><td>f__Nitrosopumilaceae</td><td>g__Nitrosopelagicus</td><td>s__Nitrosopelagicus brevis </td></tr>\n",
       "\t<tr><td>RS_GCF_000299395.1</td><td>d__Archaea</td><td>p__Crenarchaeota</td><td>c__Nitrososphaeria</td><td>o__Nitrososphaerales</td><td>f__Nitrosopumilaceae</td><td>g__Nitrosopumilus  </td><td>s__Nitrosopumilus sediminis</td></tr>\n",
       "\t<tr><td>⋮</td><td>⋮</td><td>⋮</td><td>⋮</td><td>⋮</td><td>⋮</td><td>⋮</td><td>⋮</td></tr>\n",
       "\t<tr><td>RS_GCF_001618265.1</td><td>d__Bacteria</td><td>p__Verrucomicrobiota_A</td><td>c__Chlamydiia</td><td>o__Parachlamydiales</td><td>f__Waddliaceae</td><td>g__Waddlia</td><td>s__Waddlia chondrophila</td></tr>\n",
       "\t<tr><td>RS_GCF_000092785.1</td><td>d__Bacteria</td><td>p__Verrucomicrobiota_A</td><td>c__Chlamydiia</td><td>o__Parachlamydiales</td><td>f__Waddliaceae</td><td>g__Waddlia</td><td>s__Waddlia chondrophila</td></tr>\n",
       "</tbody>\n",
       "</table>\n"
      ],
      "text/latex": [
       "A tidytable: 9000 × 8\n",
       "\\begin{tabular}{llllllll}\n",
       " accession & Domain & Phylum & Class & Order & Family & Genus & Species\\\\\n",
       " <chr> & <chr> & <chr> & <chr> & <chr> & <chr> & <chr> & <chr>\\\\\n",
       "\\hline\n",
       "\t RS\\_GCF\\_000812185.1 & d\\_\\_Archaea & p\\_\\_Crenarchaeota & c\\_\\_Nitrososphaeria & o\\_\\_Nitrososphaerales & f\\_\\_Nitrosopumilaceae & g\\_\\_Nitrosopelagicus & s\\_\\_Nitrosopelagicus brevis \\\\\n",
       "\t RS\\_GCF\\_000299395.1 & d\\_\\_Archaea & p\\_\\_Crenarchaeota & c\\_\\_Nitrososphaeria & o\\_\\_Nitrososphaerales & f\\_\\_Nitrosopumilaceae & g\\_\\_Nitrosopumilus   & s\\_\\_Nitrosopumilus sediminis\\\\\n",
       "\t ⋮ & ⋮ & ⋮ & ⋮ & ⋮ & ⋮ & ⋮ & ⋮\\\\\n",
       "\t RS\\_GCF\\_001618265.1 & d\\_\\_Bacteria & p\\_\\_Verrucomicrobiota\\_A & c\\_\\_Chlamydiia & o\\_\\_Parachlamydiales & f\\_\\_Waddliaceae & g\\_\\_Waddlia & s\\_\\_Waddlia chondrophila\\\\\n",
       "\t RS\\_GCF\\_000092785.1 & d\\_\\_Bacteria & p\\_\\_Verrucomicrobiota\\_A & c\\_\\_Chlamydiia & o\\_\\_Parachlamydiales & f\\_\\_Waddliaceae & g\\_\\_Waddlia & s\\_\\_Waddlia chondrophila\\\\\n",
       "\\end{tabular}\n"
      ],
      "text/markdown": [
       "\n",
       "A tidytable: 9000 × 8\n",
       "\n",
       "| accession &lt;chr&gt; | Domain &lt;chr&gt; | Phylum &lt;chr&gt; | Class &lt;chr&gt; | Order &lt;chr&gt; | Family &lt;chr&gt; | Genus &lt;chr&gt; | Species &lt;chr&gt; |\n",
       "|---|---|---|---|---|---|---|---|\n",
       "| RS_GCF_000812185.1 | d__Archaea | p__Crenarchaeota | c__Nitrososphaeria | o__Nitrososphaerales | f__Nitrosopumilaceae | g__Nitrosopelagicus | s__Nitrosopelagicus brevis  |\n",
       "| RS_GCF_000299395.1 | d__Archaea | p__Crenarchaeota | c__Nitrososphaeria | o__Nitrososphaerales | f__Nitrosopumilaceae | g__Nitrosopumilus   | s__Nitrosopumilus sediminis |\n",
       "| ⋮ | ⋮ | ⋮ | ⋮ | ⋮ | ⋮ | ⋮ | ⋮ |\n",
       "| RS_GCF_001618265.1 | d__Bacteria | p__Verrucomicrobiota_A | c__Chlamydiia | o__Parachlamydiales | f__Waddliaceae | g__Waddlia | s__Waddlia chondrophila |\n",
       "| RS_GCF_000092785.1 | d__Bacteria | p__Verrucomicrobiota_A | c__Chlamydiia | o__Parachlamydiales | f__Waddliaceae | g__Waddlia | s__Waddlia chondrophila |\n",
       "\n"
      ],
      "text/plain": [
       "     accession          Domain      Phylum                 Class             \n",
       "1    RS_GCF_000812185.1 d__Archaea  p__Crenarchaeota       c__Nitrososphaeria\n",
       "2    RS_GCF_000299395.1 d__Archaea  p__Crenarchaeota       c__Nitrososphaeria\n",
       "⋮    ⋮                  ⋮           ⋮                      ⋮                 \n",
       "8999 RS_GCF_001618265.1 d__Bacteria p__Verrucomicrobiota_A c__Chlamydiia     \n",
       "9000 RS_GCF_000092785.1 d__Bacteria p__Verrucomicrobiota_A c__Chlamydiia     \n",
       "     Order                Family               Genus              \n",
       "1    o__Nitrososphaerales f__Nitrosopumilaceae g__Nitrosopelagicus\n",
       "2    o__Nitrososphaerales f__Nitrosopumilaceae g__Nitrosopumilus  \n",
       "⋮    ⋮                    ⋮                    ⋮                  \n",
       "8999 o__Parachlamydiales  f__Waddliaceae       g__Waddlia         \n",
       "9000 o__Parachlamydiales  f__Waddliaceae       g__Waddlia         \n",
       "     Species                    \n",
       "1    s__Nitrosopelagicus brevis \n",
       "2    s__Nitrosopumilus sediminis\n",
       "⋮    ⋮                          \n",
       "8999 s__Waddlia chondrophila    \n",
       "9000 s__Waddlia chondrophila    "
      ]
     },
     "metadata": {},
     "output_type": "display_data"
    }
   ],
   "source": [
    "overlap(df2$Taxon, df1$accession)\n",
    "df1 = df1 %>%\n",
    "    semi_join.(df2, c('accession'='Taxon'))\n",
    "df1"
   ]
  },
  {
   "cell_type": "code",
   "execution_count": 164,
   "id": "3f478172",
   "metadata": {
    "ExecuteTime": {
     "end_time": "2021-08-13T08:51:40.073306Z",
     "start_time": "2021-08-13T08:51:39.524Z"
    }
   },
   "outputs": [
    {
     "data": {
      "text/html": [
       "<table class=\"dataframe\">\n",
       "<caption>A matrix: 1 × 8 of type dbl</caption>\n",
       "<thead>\n",
       "\t<tr><th></th><th scope=col>Min.</th><th scope=col>1st Qu.</th><th scope=col>Median</th><th scope=col>Mean</th><th scope=col>3rd Qu.</th><th scope=col>Max.</th><th scope=col>sd</th><th scope=col>sd_err_of_mean</th></tr>\n",
       "</thead>\n",
       "<tbody>\n",
       "\t<tr><th scope=row>n</th><td>1</td><td>1</td><td>1</td><td>1.484414</td><td>2</td><td>8</td><td>2.765</td><td>1.129</td></tr>\n",
       "</tbody>\n",
       "</table>\n"
      ],
      "text/latex": [
       "A matrix: 1 × 8 of type dbl\n",
       "\\begin{tabular}{r|llllllll}\n",
       "  & Min. & 1st Qu. & Median & Mean & 3rd Qu. & Max. & sd & sd\\_err\\_of\\_mean\\\\\n",
       "\\hline\n",
       "\tn & 1 & 1 & 1 & 1.484414 & 2 & 8 & 2.765 & 1.129\\\\\n",
       "\\end{tabular}\n"
      ],
      "text/markdown": [
       "\n",
       "A matrix: 1 × 8 of type dbl\n",
       "\n",
       "| <!--/--> | Min. | 1st Qu. | Median | Mean | 3rd Qu. | Max. | sd | sd_err_of_mean |\n",
       "|---|---|---|---|---|---|---|---|---|\n",
       "| n | 1 | 1 | 1 | 1.484414 | 2 | 8 | 2.765 | 1.129 |\n",
       "\n"
      ],
      "text/plain": [
       "  Min. 1st Qu. Median Mean     3rd Qu. Max. sd    sd_err_of_mean\n",
       "n 1    1       1      1.484414 2       8    2.765 1.129         "
      ]
     },
     "metadata": {},
     "output_type": "display_data"
    },
    {
     "data": {
      "image/png": "[encoded data removed]",
      "text/plain": [
       "plot without title"
      ]
     },
     "metadata": {
      "image/png": {
       "height": 220,
       "width": 400
      }
     },
     "output_type": "display_data"
    }
   ],
   "source": [
    "df1_s = df1 %>%\n",
    "    summarize.(n = n.(),\n",
    "               .by=c(Phylum, Class, Order, Family, Genus, Species)) \n",
    "summary_x(df1_s$n)\n",
    "p = df1_s %>%\n",
    "    ggplot(aes(n)) +\n",
    "    geom_histogram(bins=30) +\n",
    "    labs(x='No. of genomes in the species', y='No. of species') +\n",
    "    theme_bw()\n",
    "p.dims(4,2.2)\n",
    "plot(p)"
   ]
  },
  {
   "cell_type": "markdown",
   "id": "51d8722a",
   "metadata": {},
   "source": [
    "### FastANI"
   ]
  },
  {
   "cell_type": "code",
   "execution_count": 139,
   "id": "37608d23",
   "metadata": {
    "ExecuteTime": {
     "end_time": "2021-08-13T07:07:31.449955Z",
     "start_time": "2021-08-13T07:07:31.257Z"
    }
   },
   "outputs": [
    {
     "data": {
      "text/html": [
       "<table class=\"dataframe\">\n",
       "<caption>A data.table: 52257 × 5</caption>\n",
       "<thead>\n",
       "\t<tr><th scope=col>V1</th><th scope=col>V2</th><th scope=col>V3</th><th scope=col>V4</th><th scope=col>V5</th></tr>\n",
       "\t<tr><th scope=col>&lt;chr&gt;</th><th scope=col>&lt;chr&gt;</th><th scope=col>&lt;dbl&gt;</th><th scope=col>&lt;int&gt;</th><th scope=col>&lt;int&gt;</th></tr>\n",
       "</thead>\n",
       "<tbody>\n",
       "\t<tr><td>GCA_001013565_1_BPD420</td><td>GCA_001013565_1_BPD420     </td><td>100.000</td><td>1366</td><td>1368</td></tr>\n",
       "\t<tr><td>GCA_001013565_1_BPD420</td><td>GCA_001307585_1_ASM130758v1</td><td> 99.996</td><td>1363</td><td>1368</td></tr>\n",
       "\t<tr><td>⋮</td><td>⋮</td><td>⋮</td><td>⋮</td><td>⋮</td></tr>\n",
       "\t<tr><td>GCA_000014845_1_ASM1484v1</td><td>GCA_001278905_1_ASM127890v1</td><td>81.1576</td><td>731</td><td>1832</td></tr>\n",
       "\t<tr><td>GCA_000014845_1_ASM1484v1</td><td>GCA_001611055_1_ASM161105v1</td><td>81.0682</td><td>758</td><td>1832</td></tr>\n",
       "</tbody>\n",
       "</table>\n"
      ],
      "text/latex": [
       "A data.table: 52257 × 5\n",
       "\\begin{tabular}{lllll}\n",
       " V1 & V2 & V3 & V4 & V5\\\\\n",
       " <chr> & <chr> & <dbl> & <int> & <int>\\\\\n",
       "\\hline\n",
       "\t GCA\\_001013565\\_1\\_BPD420 & GCA\\_001013565\\_1\\_BPD420      & 100.000 & 1366 & 1368\\\\\n",
       "\t GCA\\_001013565\\_1\\_BPD420 & GCA\\_001307585\\_1\\_ASM130758v1 &  99.996 & 1363 & 1368\\\\\n",
       "\t ⋮ & ⋮ & ⋮ & ⋮ & ⋮\\\\\n",
       "\t GCA\\_000014845\\_1\\_ASM1484v1 & GCA\\_001278905\\_1\\_ASM127890v1 & 81.1576 & 731 & 1832\\\\\n",
       "\t GCA\\_000014845\\_1\\_ASM1484v1 & GCA\\_001611055\\_1\\_ASM161105v1 & 81.0682 & 758 & 1832\\\\\n",
       "\\end{tabular}\n"
      ],
      "text/markdown": [
       "\n",
       "A data.table: 52257 × 5\n",
       "\n",
       "| V1 &lt;chr&gt; | V2 &lt;chr&gt; | V3 &lt;dbl&gt; | V4 &lt;int&gt; | V5 &lt;int&gt; |\n",
       "|---|---|---|---|---|\n",
       "| GCA_001013565_1_BPD420 | GCA_001013565_1_BPD420      | 100.000 | 1366 | 1368 |\n",
       "| GCA_001013565_1_BPD420 | GCA_001307585_1_ASM130758v1 |  99.996 | 1363 | 1368 |\n",
       "| ⋮ | ⋮ | ⋮ | ⋮ | ⋮ |\n",
       "| GCA_000014845_1_ASM1484v1 | GCA_001278905_1_ASM127890v1 | 81.1576 | 731 | 1832 |\n",
       "| GCA_000014845_1_ASM1484v1 | GCA_001611055_1_ASM161105v1 | 81.0682 | 758 | 1832 |\n",
       "\n"
      ],
      "text/plain": [
       "      V1                        V2                          V3      V4   V5  \n",
       "1     GCA_001013565_1_BPD420    GCA_001013565_1_BPD420      100.000 1366 1368\n",
       "2     GCA_001013565_1_BPD420    GCA_001307585_1_ASM130758v1  99.996 1363 1368\n",
       "⋮     ⋮                         ⋮                           ⋮       ⋮    ⋮   \n",
       "52256 GCA_000014845_1_ASM1484v1 GCA_001278905_1_ASM127890v1 81.1576 731  1832\n",
       "52257 GCA_000014845_1_ASM1484v1 GCA_001611055_1_ASM161105v1 81.0682 758  1832"
      ]
     },
     "metadata": {},
     "output_type": "display_data"
    }
   ],
   "source": [
    "# ani table load\n",
    "F = file.path(work_dir, 'LLG', 'ani', 'fastANI', 'ANI.tsv.gz')\n",
    "ani = Fread(F, header=FALSE)\n",
    "ani"
   ]
  },
  {
   "cell_type": "code",
   "execution_count": 143,
   "id": "f84961ff",
   "metadata": {
    "ExecuteTime": {
     "end_time": "2021-08-13T07:09:05.157184Z",
     "start_time": "2021-08-13T07:09:04.866Z"
    }
   },
   "outputs": [
    {
     "data": {
      "text/html": [
       "<table class=\"dataframe\">\n",
       "<caption>A matrix: 1 × 8 of type dbl</caption>\n",
       "<thead>\n",
       "\t<tr><th></th><th scope=col>Min.</th><th scope=col>1st Qu.</th><th scope=col>Median</th><th scope=col>Mean</th><th scope=col>3rd Qu.</th><th scope=col>Max.</th><th scope=col>sd</th><th scope=col>sd_err_of_mean</th></tr>\n",
       "</thead>\n",
       "<tbody>\n",
       "\t<tr><th scope=row>V3</th><td>75.851</td><td>79.4808</td><td>86.177</td><td>88.73578</td><td>98.399</td><td>100</td><td>9.758</td><td>3.984</td></tr>\n",
       "</tbody>\n",
       "</table>\n"
      ],
      "text/latex": [
       "A matrix: 1 × 8 of type dbl\n",
       "\\begin{tabular}{r|llllllll}\n",
       "  & Min. & 1st Qu. & Median & Mean & 3rd Qu. & Max. & sd & sd\\_err\\_of\\_mean\\\\\n",
       "\\hline\n",
       "\tV3 & 75.851 & 79.4808 & 86.177 & 88.73578 & 98.399 & 100 & 9.758 & 3.984\\\\\n",
       "\\end{tabular}\n"
      ],
      "text/markdown": [
       "\n",
       "A matrix: 1 × 8 of type dbl\n",
       "\n",
       "| <!--/--> | Min. | 1st Qu. | Median | Mean | 3rd Qu. | Max. | sd | sd_err_of_mean |\n",
       "|---|---|---|---|---|---|---|---|---|\n",
       "| V3 | 75.851 | 79.4808 | 86.177 | 88.73578 | 98.399 | 100 | 9.758 | 3.984 |\n",
       "\n"
      ],
      "text/plain": [
       "   Min.   1st Qu. Median Mean     3rd Qu. Max. sd    sd_err_of_mean\n",
       "V3 75.851 79.4808 86.177 88.73578 98.399  100  9.758 3.984         "
      ]
     },
     "metadata": {},
     "output_type": "display_data"
    },
    {
     "data": {
      "image/png": "[encoded data removed]",
      "text/plain": [
       "plot without title"
      ]
     },
     "metadata": {
      "image/png": {
       "height": 280,
       "width": 500
      }
     },
     "output_type": "display_data"
    }
   ],
   "source": [
    "summary_x(ani$V3)\n",
    "p = ani %>%\n",
    "    ggplot(aes(V3)) +\n",
    "    geom_histogram(bins=50) +\n",
    "    labs(x='ANI', y='No. of comparisons\\nbetween genomes') +\n",
    "    theme_bw()\n",
    "p.dims(5,2.8)\n",
    "plot(p)"
   ]
  },
  {
   "cell_type": "code",
   "execution_count": null,
   "id": "6d6494e8",
   "metadata": {},
   "outputs": [],
   "source": []
  },
  {
   "cell_type": "markdown",
   "id": "6b40a6b8",
   "metadata": {},
   "source": [
    "# ResMiCo-SM"
   ]
  },
  {
   "cell_type": "markdown",
   "id": "41ac79ca",
   "metadata": {},
   "source": [
    "### Config"
   ]
  },
  {
   "cell_type": "code",
   "execution_count": 8,
   "id": "666bcdd5",
   "metadata": {
    "ExecuteTime": {
     "end_time": "2021-08-12T06:35:21.558372Z",
     "start_time": "2021-08-12T06:35:21.501Z"
    }
   },
   "outputs": [
    {
     "name": "stdout",
     "output_type": "stream",
     "text": [
      "# Input table\n",
      "genomes_file: /ebio/abt3_projects/databases_no-backup/CAMI/CAMI2_HMP-gut/short_read/genomes.tsv\n",
      "reads_file: /ebio/abt3_scratch/nyoungblut/CAMI/CAMI2_HMP-gut/samples.tsv\n",
      "\n",
      "# Output directory\n",
      "output_dir: /ebio/abt3_projects/databases_no-backup/CAMI/CAMI2_HMP-gut/short_read/ResMiCo-SM/\n",
      "\n",
      "# Temporary output directory (/dev/shm/ for shared memory)\n",
      "#tmp_dir: /tmp/\n",
      "tmp_dir: /ebio/abt3_scratch/\n",
      "\n",
      "# Email for notifications (\"Skip\" to skip)\n",
      "email: nyoungblut@tuebingen.mpg.de\n",
      "\n",
      "# software parameters for data simulations\n",
      "## Use \"Skip\" to skip  steps. If no params for rule, use \"\"\n",
      "## `reps:` is the number of replicate simulations\n",
      "## If `keep_reads: True`, then simulated reads are kept\n",
      "params:\n",
      "  ionice: -c 3\n",
      "  # simulating metagenomes\n",
      "  MGSIM:\n",
      "    genome_download: \"\"\n",
      "    sim_reps: 3\n",
      "    community:\n",
      "      richness:\n",
      "        - 0.8        \n",
      "      abundance_distribution:\n",
      "        - \"mean:10,sigma:2\"\n",
      "      other_sim_params: --rnd-seed 8712\n",
      "    reads: \n",
      "      length:\n",
      "        - 100\n",
      "        - 150\n",
      "      depth:\n",
      "        - 1000000\n",
      "      other_sim_params: --art-paired --art-mflen 270 --art-sdev 50 --rndSeed 8712\n",
      "      skewer: -n -l 70 -q 25\n",
      "      keep_reads: False\n",
      "  # coverage\n",
      "  nonpareil:\n",
      "    params: -T kmer\n",
      "    summary: 1e9   # this is target seq. depth\n",
      "  # assemblying metagenomes\n",
      "  assemblers:\n",
      "    metaspades: -k auto --only-assembler\n",
      "    megahit: --min-count 1 --min-contig-len 1000\n",
      "  # assembly filtering\n",
      "  contigs:\n",
      "    length_cutoff: 1000       # length in bp \n",
      "  # assessing assembly errors\n",
      "  asmbl_errors:\n",
      "    metaquast: --max-ref-number 0 --min-contig 1000 --min-identity 95 --extensive-mis-size 100\n",
      "               --no-html --no-plots --no-icarus --no-gc --no-snps --no-sv\n",
      "  # mapping reads to contigs\n",
      "  map:\n",
      "    samtools: \"\"\n",
      "    bowtie2: \"\"\n",
      "    max_coverage: 20\n",
      "    keep_bam: False\n",
      "  # creating ResMiCo feature tables\n",
      "  feature_table:\n",
      "    make: --window 6\n",
      "  # state-of-the-art\n",
      "  SotA:\n",
      "    ALE: \"\"\n",
      "    VALET: \"\"  \n",
      "    metaMIC:\n",
      "      extract: --mlen 1000\n",
      "      predict: --mlen 1000 --slen 500 -a MEGAHIT\n",
      "\n",
      "# params just for creating feature tables for non-simulated data\n",
      "nonsim_params:\n",
      "  # max number of reads to use\n",
      "  subsample_reads: 5000000\n",
      "  # read quality filtering\n",
      "  skewer: -n -l 70 -q 25\n",
      "  # max per-contig coverage\n",
      "  max_coverage: 20\n",
      "  # keep bam files?\n",
      "  keep_bam: True\n",
      "  # feature tables\n",
      "  make_features: --window 6\n",
      "\n",
      "# snakemake pipeline\n",
      "pipeline:\n",
      "  snakemake_folder: ./\n",
      "  script_folder: ./bin/scripts/\n",
      "  name: ResMiCo-SM"
     ]
    }
   ],
   "source": [
    "F = file.path(work_dir, 'ResMiCo-SM', 'config.yaml')\n",
    "cat_file(F)"
   ]
  },
  {
   "cell_type": "markdown",
   "id": "47a78c14",
   "metadata": {},
   "source": [
    "### Run"
   ]
  },
  {
   "cell_type": "markdown",
   "id": "7bf60ddb",
   "metadata": {},
   "source": [
    "```\n",
    "(snakemake) @ rick:/ebio/abt3_projects/DeepMAsED/version2/deepmased/ResMiCo-SM\n",
    "$ screen -L -S rmc-sm-cami ./snakemake_sge.sh /ebio/abt3_projects/databases_no-backup/CAMI/CAMI2_HMP-gut/short_read/ResMiCo-SM/config.yaml 30 --notemp\n",
    "```"
   ]
  },
  {
   "cell_type": "markdown",
   "id": "790cc567",
   "metadata": {},
   "source": [
    "## Summary"
   ]
  },
  {
   "cell_type": "markdown",
   "id": "58019700",
   "metadata": {},
   "source": [
    "### MetaQUAST results"
   ]
  },
  {
   "cell_type": "code",
   "execution_count": 68,
   "id": "6f14c5db",
   "metadata": {
    "ExecuteTime": {
     "end_time": "2021-08-12T15:12:55.122421Z",
     "start_time": "2021-08-12T15:12:55.031Z"
    }
   },
   "outputs": [
    {
     "data": {
      "text/html": [
       "20"
      ],
      "text/latex": [
       "20"
      ],
      "text/markdown": [
       "20"
      ],
      "text/plain": [
       "[1] 20"
      ]
     },
     "metadata": {},
     "output_type": "display_data"
    },
    {
     "data": {
      "text/html": [
       "<style>\n",
       ".list-inline {list-style: none; margin:0; padding: 0}\n",
       ".list-inline>li {display: inline-block}\n",
       ".list-inline>li:not(:last-child)::after {content: \"\\00b7\"; padding: 0 .5ex}\n",
       "</style>\n",
       "<ol class=list-inline><li>'/ebio/abt3_projects/databases_no-backup/CAMI/CAMI2_HMP-gut/short_read//ResMiCo-SM/true_errors/2017.12.04_18.45.54_sample_0/NA/NA/NA/NA/megahit/combined_reference/report.tsv'</li><li>'/ebio/abt3_projects/databases_no-backup/CAMI/CAMI2_HMP-gut/short_read//ResMiCo-SM/true_errors/2017.12.04_18.45.54_sample_0/NA/NA/NA/NA/metaspades/combined_reference/report.tsv'</li><li>'/ebio/abt3_projects/databases_no-backup/CAMI/CAMI2_HMP-gut/short_read//ResMiCo-SM/true_errors/2017.12.04_18.45.54_sample_1/NA/NA/NA/NA/megahit/combined_reference/report.tsv'</li></ol>\n"
      ],
      "text/latex": [
       "\\begin{enumerate*}\n",
       "\\item '/ebio/abt3\\_projects/databases\\_no-backup/CAMI/CAMI2\\_HMP-gut/short\\_read//ResMiCo-SM/true\\_errors/2017.12.04\\_18.45.54\\_sample\\_0/NA/NA/NA/NA/megahit/combined\\_reference/report.tsv'\n",
       "\\item '/ebio/abt3\\_projects/databases\\_no-backup/CAMI/CAMI2\\_HMP-gut/short\\_read//ResMiCo-SM/true\\_errors/2017.12.04\\_18.45.54\\_sample\\_0/NA/NA/NA/NA/metaspades/combined\\_reference/report.tsv'\n",
       "\\item '/ebio/abt3\\_projects/databases\\_no-backup/CAMI/CAMI2\\_HMP-gut/short\\_read//ResMiCo-SM/true\\_errors/2017.12.04\\_18.45.54\\_sample\\_1/NA/NA/NA/NA/megahit/combined\\_reference/report.tsv'\n",
       "\\end{enumerate*}\n"
      ],
      "text/markdown": [
       "1. '/ebio/abt3_projects/databases_no-backup/CAMI/CAMI2_HMP-gut/short_read//ResMiCo-SM/true_errors/2017.12.04_18.45.54_sample_0/NA/NA/NA/NA/megahit/combined_reference/report.tsv'\n",
       "2. '/ebio/abt3_projects/databases_no-backup/CAMI/CAMI2_HMP-gut/short_read//ResMiCo-SM/true_errors/2017.12.04_18.45.54_sample_0/NA/NA/NA/NA/metaspades/combined_reference/report.tsv'\n",
       "3. '/ebio/abt3_projects/databases_no-backup/CAMI/CAMI2_HMP-gut/short_read//ResMiCo-SM/true_errors/2017.12.04_18.45.54_sample_1/NA/NA/NA/NA/megahit/combined_reference/report.tsv'\n",
       "\n",
       "\n"
      ],
      "text/plain": [
       "[1] \"/ebio/abt3_projects/databases_no-backup/CAMI/CAMI2_HMP-gut/short_read//ResMiCo-SM/true_errors/2017.12.04_18.45.54_sample_0/NA/NA/NA/NA/megahit/combined_reference/report.tsv\"   \n",
       "[2] \"/ebio/abt3_projects/databases_no-backup/CAMI/CAMI2_HMP-gut/short_read//ResMiCo-SM/true_errors/2017.12.04_18.45.54_sample_0/NA/NA/NA/NA/metaspades/combined_reference/report.tsv\"\n",
       "[3] \"/ebio/abt3_projects/databases_no-backup/CAMI/CAMI2_HMP-gut/short_read//ResMiCo-SM/true_errors/2017.12.04_18.45.54_sample_1/NA/NA/NA/NA/megahit/combined_reference/report.tsv\"   "
      ]
     },
     "metadata": {},
     "output_type": "display_data"
    }
   ],
   "source": [
    "D = file.path(work_dir, 'ResMiCo-SM', 'true_errors')\n",
    "F = list_files(D, 'report.tsv')\n",
    "F = F[grepl('combined_reference/report.tsv$', F)]\n",
    "F %>% length\n",
    "F %>% head(n=3)"
   ]
  },
  {
   "cell_type": "code",
   "execution_count": 70,
   "id": "466af782",
   "metadata": {
    "ExecuteTime": {
     "end_time": "2021-08-12T15:13:28.123780Z",
     "start_time": "2021-08-12T15:13:28.054Z"
    }
   },
   "outputs": [
    {
     "data": {
      "text/html": [
       "<table class=\"dataframe\">\n",
       "<caption>A data.table: 1020 × 4</caption>\n",
       "<thead>\n",
       "\t<tr><th scope=col>Assembly</th><th scope=col>contigs_filtered</th><th scope=col>assembler</th><th scope=col>sample</th></tr>\n",
       "\t<tr><th scope=col>&lt;chr&gt;</th><th scope=col>&lt;chr&gt;</th><th scope=col>&lt;chr&gt;</th><th scope=col>&lt;chr&gt;</th></tr>\n",
       "</thead>\n",
       "<tbody>\n",
       "\t<tr><td><span style=white-space:pre-wrap># contigs (&gt;= 0 bp)   </span></td><td>18163</td><td>megahit</td><td>2017.12.04_18.45.54_sample_0</td></tr>\n",
       "\t<tr><td># contigs (&gt;= 1000 bp)</td><td>18163</td><td>megahit</td><td>2017.12.04_18.45.54_sample_0</td></tr>\n",
       "\t<tr><td>⋮</td><td>⋮</td><td>⋮</td><td>⋮</td></tr>\n",
       "\t<tr><td>LA50</td><td>1547</td><td>metaspades</td><td>2017.12.04_18.45.54_sample_9</td></tr>\n",
       "\t<tr><td>LA75</td><td>8632</td><td>metaspades</td><td>2017.12.04_18.45.54_sample_9</td></tr>\n",
       "</tbody>\n",
       "</table>\n"
      ],
      "text/latex": [
       "A data.table: 1020 × 4\n",
       "\\begin{tabular}{llll}\n",
       " Assembly & contigs\\_filtered & assembler & sample\\\\\n",
       " <chr> & <chr> & <chr> & <chr>\\\\\n",
       "\\hline\n",
       "\t \\# contigs (>= 0 bp)    & 18163 & megahit & 2017.12.04\\_18.45.54\\_sample\\_0\\\\\n",
       "\t \\# contigs (>= 1000 bp) & 18163 & megahit & 2017.12.04\\_18.45.54\\_sample\\_0\\\\\n",
       "\t ⋮ & ⋮ & ⋮ & ⋮\\\\\n",
       "\t LA50 & 1547 & metaspades & 2017.12.04\\_18.45.54\\_sample\\_9\\\\\n",
       "\t LA75 & 8632 & metaspades & 2017.12.04\\_18.45.54\\_sample\\_9\\\\\n",
       "\\end{tabular}\n"
      ],
      "text/markdown": [
       "\n",
       "A data.table: 1020 × 4\n",
       "\n",
       "| Assembly &lt;chr&gt; | contigs_filtered &lt;chr&gt; | assembler &lt;chr&gt; | sample &lt;chr&gt; |\n",
       "|---|---|---|---|\n",
       "| # contigs (&gt;= 0 bp)    | 18163 | megahit | 2017.12.04_18.45.54_sample_0 |\n",
       "| # contigs (&gt;= 1000 bp) | 18163 | megahit | 2017.12.04_18.45.54_sample_0 |\n",
       "| ⋮ | ⋮ | ⋮ | ⋮ |\n",
       "| LA50 | 1547 | metaspades | 2017.12.04_18.45.54_sample_9 |\n",
       "| LA75 | 8632 | metaspades | 2017.12.04_18.45.54_sample_9 |\n",
       "\n"
      ],
      "text/plain": [
       "     Assembly               contigs_filtered assembler \n",
       "1    # contigs (>= 0 bp)    18163            megahit   \n",
       "2    # contigs (>= 1000 bp) 18163            megahit   \n",
       "⋮    ⋮                      ⋮                ⋮         \n",
       "1019 LA50                   1547             metaspades\n",
       "1020 LA75                   8632             metaspades\n",
       "     sample                      \n",
       "1    2017.12.04_18.45.54_sample_0\n",
       "2    2017.12.04_18.45.54_sample_0\n",
       "⋮    ⋮                           \n",
       "1019 2017.12.04_18.45.54_sample_9\n",
       "1020 2017.12.04_18.45.54_sample_9"
      ]
     },
     "metadata": {},
     "output_type": "display_data"
    }
   ],
   "source": [
    "read_mq = function(F){\n",
    "    df = Fread(F)\n",
    "    x = unlist(strsplit(F, '/'))\n",
    "    df$assembler = x[length(x)-2]\n",
    "    df$sample = x[length(x)-7]\n",
    "    return(df)\n",
    "}\n",
    "\n",
    "mq_rpt = F %>%\n",
    "    #head(n=1) %>%\n",
    "    lapply(read_mq) %>%\n",
    "    rbindlist(use.names=TRUE)\n",
    "mq_rpt"
   ]
  },
  {
   "cell_type": "code",
   "execution_count": 88,
   "id": "f6200f50",
   "metadata": {
    "ExecuteTime": {
     "end_time": "2021-08-12T17:08:39.659692Z",
     "start_time": "2021-08-12T17:08:39.428Z"
    }
   },
   "outputs": [
    {
     "data": {
      "image/png": "[encoded data removed]",
      "text/plain": [
       "plot without title"
      ]
     },
     "metadata": {
      "image/png": {
       "height": 250,
       "width": 400
      }
     },
     "output_type": "display_data"
    }
   ],
   "source": [
    "# summary\n",
    "to_keep = c('# contigs', '# misassembled contigs')\n",
    "p = mq_rpt %>%\n",
    "    filter.(Assembly %in% to_keep) %>%\n",
    "    mutate.(contigs_filtered = as.Num(contigs_filtered)) %>%\n",
    "    mutate.(Assembly = gsub('# ', 'num_', Assembly),\n",
    "            Assembly = gsub(' ', '_', Assembly)) %>%\n",
    "    pivot_wider.(names_from=Assembly, values_from=contigs_filtered) %>%\n",
    "    ggplot(aes(num_contigs, num_misassembled_contigs)) +\n",
    "    geom_point() +\n",
    "    theme_bw()\n",
    "p.dims(4,2.5)\n",
    "plot(p)"
   ]
  },
  {
   "cell_type": "code",
   "execution_count": 84,
   "id": "9a6595e9",
   "metadata": {
    "ExecuteTime": {
     "end_time": "2021-08-12T17:07:07.185701Z",
     "start_time": "2021-08-12T17:07:06.923Z"
    }
   },
   "outputs": [
    {
     "data": {
      "text/html": [
       "<table class=\"dataframe\">\n",
       "<caption>A tidytable: 140 × 4</caption>\n",
       "<thead>\n",
       "\t<tr><th scope=col>Assembly</th><th scope=col>contigs_filtered</th><th scope=col>assembler</th><th scope=col>sample</th></tr>\n",
       "\t<tr><th scope=col>&lt;chr&gt;</th><th scope=col>&lt;dbl&gt;</th><th scope=col>&lt;chr&gt;</th><th scope=col>&lt;chr&gt;</th></tr>\n",
       "</thead>\n",
       "<tbody>\n",
       "\t<tr><td>num_contigs      </td><td>18163</td><td>megahit</td><td>2017.12.04_18.45.54_sample_0</td></tr>\n",
       "\t<tr><td>num_misassemblies</td><td>  383</td><td>megahit</td><td>2017.12.04_18.45.54_sample_0</td></tr>\n",
       "\t<tr><td>⋮</td><td>⋮</td><td>⋮</td><td>⋮</td></tr>\n",
       "\t<tr><td>num_mismatches_per_100_kbp</td><td>369.16</td><td>metaspades</td><td>2017.12.04_18.45.54_sample_9</td></tr>\n",
       "\t<tr><td>num_indels_per_100_kbp    </td><td>  3.41</td><td>metaspades</td><td>2017.12.04_18.45.54_sample_9</td></tr>\n",
       "</tbody>\n",
       "</table>\n"
      ],
      "text/latex": [
       "A tidytable: 140 × 4\n",
       "\\begin{tabular}{llll}\n",
       " Assembly & contigs\\_filtered & assembler & sample\\\\\n",
       " <chr> & <dbl> & <chr> & <chr>\\\\\n",
       "\\hline\n",
       "\t num\\_contigs       & 18163 & megahit & 2017.12.04\\_18.45.54\\_sample\\_0\\\\\n",
       "\t num\\_misassemblies &   383 & megahit & 2017.12.04\\_18.45.54\\_sample\\_0\\\\\n",
       "\t ⋮ & ⋮ & ⋮ & ⋮\\\\\n",
       "\t num\\_mismatches\\_per\\_100\\_kbp & 369.16 & metaspades & 2017.12.04\\_18.45.54\\_sample\\_9\\\\\n",
       "\t num\\_indels\\_per\\_100\\_kbp     &   3.41 & metaspades & 2017.12.04\\_18.45.54\\_sample\\_9\\\\\n",
       "\\end{tabular}\n"
      ],
      "text/markdown": [
       "\n",
       "A tidytable: 140 × 4\n",
       "\n",
       "| Assembly &lt;chr&gt; | contigs_filtered &lt;dbl&gt; | assembler &lt;chr&gt; | sample &lt;chr&gt; |\n",
       "|---|---|---|---|\n",
       "| num_contigs       | 18163 | megahit | 2017.12.04_18.45.54_sample_0 |\n",
       "| num_misassemblies |   383 | megahit | 2017.12.04_18.45.54_sample_0 |\n",
       "| ⋮ | ⋮ | ⋮ | ⋮ |\n",
       "| num_mismatches_per_100_kbp | 369.16 | metaspades | 2017.12.04_18.45.54_sample_9 |\n",
       "| num_indels_per_100_kbp     |   3.41 | metaspades | 2017.12.04_18.45.54_sample_9 |\n",
       "\n"
      ],
      "text/plain": [
       "    Assembly                   contigs_filtered assembler \n",
       "1   num_contigs                18163            megahit   \n",
       "2   num_misassemblies            383            megahit   \n",
       "⋮   ⋮                          ⋮                ⋮         \n",
       "139 num_mismatches_per_100_kbp 369.16           metaspades\n",
       "140 num_indels_per_100_kbp       3.41           metaspades\n",
       "    sample                      \n",
       "1   2017.12.04_18.45.54_sample_0\n",
       "2   2017.12.04_18.45.54_sample_0\n",
       "⋮   ⋮                           \n",
       "139 2017.12.04_18.45.54_sample_9\n",
       "140 2017.12.04_18.45.54_sample_9"
      ]
     },
     "metadata": {},
     "output_type": "display_data"
    }
   ],
   "source": [
    "to_keep = c('# contigs', '# misassemblies', '# misassembled contigs',\n",
    "            '# local misassemblies', '# N\\'s per 100 kbp',\n",
    "            '# mismatches per 100 kbp', '# indels per 100 kbp')\n",
    "mq_rpt_f = mq_rpt %>%\n",
    "    filter.(Assembly %in% to_keep) %>%\n",
    "    mutate.(Assembly = gsub('^# ', 'num_', Assembly),\n",
    "            Assembly = gsub(' ', '_', Assembly),\n",
    "            Assembly = gsub(\"'\", '', Assembly)) %>%\n",
    "    mutate.(contigs_filtered = as.Num(contigs_filtered)) \n",
    "mq_rpt_f"
   ]
  },
  {
   "cell_type": "code",
   "execution_count": 87,
   "id": "26bc6d88",
   "metadata": {
    "ExecuteTime": {
     "end_time": "2021-08-12T17:08:00.023352Z",
     "start_time": "2021-08-12T17:07:58.651Z"
    }
   },
   "outputs": [
    {
     "data": {
      "image/png": "[encoded data removed]",
      "text/plain": [
       "plot without title"
      ]
     },
     "metadata": {
      "image/png": {
       "height": 400,
       "width": 700
      }
     },
     "output_type": "display_data"
    }
   ],
   "source": [
    "p = mq_rpt_f %>%\n",
    "    ggplot(aes(assembler, contigs_filtered)) +\n",
    "    geom_boxplot() +\n",
    "    facet_wrap(~ Assembly, scales='free_y') +\n",
    "    theme_bw()\n",
    "p.dims(7,4)\n",
    "plot(p)"
   ]
  },
  {
   "cell_type": "markdown",
   "id": "c0630c14",
   "metadata": {},
   "source": [
    "#### Compared to GTDBr89_n9k_train"
   ]
  },
  {
   "cell_type": "code",
   "execution_count": 89,
   "id": "f68da555",
   "metadata": {
    "ExecuteTime": {
     "end_time": "2021-08-12T17:09:21.509381Z",
     "start_time": "2021-08-12T17:09:18.131Z"
    }
   },
   "outputs": [
    {
     "data": {
      "text/html": [
       "285"
      ],
      "text/latex": [
       "285"
      ],
      "text/markdown": [
       "285"
      ],
      "text/plain": [
       "[1] 285"
      ]
     },
     "metadata": {},
     "output_type": "display_data"
    },
    {
     "data": {
      "text/html": [
       "<style>\n",
       ".list-inline {list-style: none; margin:0; padding: 0}\n",
       ".list-inline>li {display: inline-block}\n",
       ".list-inline>li:not(:last-child)::after {content: \"\\00b7\"; padding: 0 .5ex}\n",
       "</style>\n",
       "<ol class=list-inline><li>'/ebio/abt3_projects/databases_no-backup/DeepMAsED/version2/resmico-sm/GTDBr89_n9k_train/true_errors/0.005555/mean-10-sigma-1/1/100/2000000/megahit/combined_reference/report.tsv'</li><li>'/ebio/abt3_projects/databases_no-backup/DeepMAsED/version2/resmico-sm/GTDBr89_n9k_train/true_errors/0.005555/mean-10-sigma-1/1/100/2000000/metaspades/combined_reference/report.tsv'</li><li>'/ebio/abt3_projects/databases_no-backup/DeepMAsED/version2/resmico-sm/GTDBr89_n9k_train/true_errors/0.005555/mean-10-sigma-1/1/100/500000/megahit/combined_reference/report.tsv'</li></ol>\n"
      ],
      "text/latex": [
       "\\begin{enumerate*}\n",
       "\\item '/ebio/abt3\\_projects/databases\\_no-backup/DeepMAsED/version2/resmico-sm/GTDBr89\\_n9k\\_train/true\\_errors/0.005555/mean-10-sigma-1/1/100/2000000/megahit/combined\\_reference/report.tsv'\n",
       "\\item '/ebio/abt3\\_projects/databases\\_no-backup/DeepMAsED/version2/resmico-sm/GTDBr89\\_n9k\\_train/true\\_errors/0.005555/mean-10-sigma-1/1/100/2000000/metaspades/combined\\_reference/report.tsv'\n",
       "\\item '/ebio/abt3\\_projects/databases\\_no-backup/DeepMAsED/version2/resmico-sm/GTDBr89\\_n9k\\_train/true\\_errors/0.005555/mean-10-sigma-1/1/100/500000/megahit/combined\\_reference/report.tsv'\n",
       "\\end{enumerate*}\n"
      ],
      "text/markdown": [
       "1. '/ebio/abt3_projects/databases_no-backup/DeepMAsED/version2/resmico-sm/GTDBr89_n9k_train/true_errors/0.005555/mean-10-sigma-1/1/100/2000000/megahit/combined_reference/report.tsv'\n",
       "2. '/ebio/abt3_projects/databases_no-backup/DeepMAsED/version2/resmico-sm/GTDBr89_n9k_train/true_errors/0.005555/mean-10-sigma-1/1/100/2000000/metaspades/combined_reference/report.tsv'\n",
       "3. '/ebio/abt3_projects/databases_no-backup/DeepMAsED/version2/resmico-sm/GTDBr89_n9k_train/true_errors/0.005555/mean-10-sigma-1/1/100/500000/megahit/combined_reference/report.tsv'\n",
       "\n",
       "\n"
      ],
      "text/plain": [
       "[1] \"/ebio/abt3_projects/databases_no-backup/DeepMAsED/version2/resmico-sm/GTDBr89_n9k_train/true_errors/0.005555/mean-10-sigma-1/1/100/2000000/megahit/combined_reference/report.tsv\"   \n",
       "[2] \"/ebio/abt3_projects/databases_no-backup/DeepMAsED/version2/resmico-sm/GTDBr89_n9k_train/true_errors/0.005555/mean-10-sigma-1/1/100/2000000/metaspades/combined_reference/report.tsv\"\n",
       "[3] \"/ebio/abt3_projects/databases_no-backup/DeepMAsED/version2/resmico-sm/GTDBr89_n9k_train/true_errors/0.005555/mean-10-sigma-1/1/100/500000/megahit/combined_reference/report.tsv\"    "
      ]
     },
     "metadata": {},
     "output_type": "display_data"
    }
   ],
   "source": [
    "D = '/ebio/abt3_projects/databases_no-backup/DeepMAsED/version2/resmico-sm/GTDBr89_n9k_train'\n",
    "D = file.path(D, 'true_errors')\n",
    "F = list_files(D, 'report.tsv')\n",
    "F = F[grepl('combined_reference/report.tsv$', F)]\n",
    "F %>% length\n",
    "F %>% head(n=3)"
   ]
  },
  {
   "cell_type": "code",
   "execution_count": 102,
   "id": "ca7bf0d6",
   "metadata": {
    "ExecuteTime": {
     "end_time": "2021-08-12T17:15:27.114821Z",
     "start_time": "2021-08-12T17:15:21.246Z"
    }
   },
   "outputs": [
    {
     "data": {
      "text/html": [
       "<table class=\"dataframe\">\n",
       "<caption>A tidytable: 14535 × 9</caption>\n",
       "<thead>\n",
       "\t<tr><th scope=col>Assembly</th><th scope=col>contigs_filtered</th><th scope=col>assembler</th><th scope=col>seq_depth</th><th scope=col>read_length</th><th scope=col>sim_rep</th><th scope=col>abund_dist</th><th scope=col>richness</th><th scope=col>dataset</th></tr>\n",
       "\t<tr><th scope=col>&lt;chr&gt;</th><th scope=col>&lt;chr&gt;</th><th scope=col>&lt;chr&gt;</th><th scope=col>&lt;chr&gt;</th><th scope=col>&lt;chr&gt;</th><th scope=col>&lt;chr&gt;</th><th scope=col>&lt;chr&gt;</th><th scope=col>&lt;chr&gt;</th><th scope=col>&lt;chr&gt;</th></tr>\n",
       "</thead>\n",
       "<tbody>\n",
       "\t<tr><td><span style=white-space:pre-wrap># contigs (&gt;= 0 bp)   </span></td><td>7161</td><td>megahit</td><td>2000000</td><td>100</td><td>1</td><td>mean-10-sigma-1</td><td>0.005555</td><td>GTDBr89_n9k_train</td></tr>\n",
       "\t<tr><td># contigs (&gt;= 1000 bp)</td><td>7161</td><td>megahit</td><td>2000000</td><td>100</td><td>1</td><td>mean-10-sigma-1</td><td>0.005555</td><td>GTDBr89_n9k_train</td></tr>\n",
       "\t<tr><td>⋮</td><td>⋮</td><td>⋮</td><td>⋮</td><td>⋮</td><td>⋮</td><td>⋮</td><td>⋮</td><td>⋮</td></tr>\n",
       "\t<tr><td>LA50</td><td>12291</td><td>metaspades</td><td>8000000</td><td>150</td><td>3</td><td>mean-10-sigma-2</td><td>0.555555</td><td>GTDBr89_n9k_train</td></tr>\n",
       "\t<tr><td>LA75</td><td>30350</td><td>metaspades</td><td>8000000</td><td>150</td><td>3</td><td>mean-10-sigma-2</td><td>0.555555</td><td>GTDBr89_n9k_train</td></tr>\n",
       "</tbody>\n",
       "</table>\n"
      ],
      "text/latex": [
       "A tidytable: 14535 × 9\n",
       "\\begin{tabular}{lllllllll}\n",
       " Assembly & contigs\\_filtered & assembler & seq\\_depth & read\\_length & sim\\_rep & abund\\_dist & richness & dataset\\\\\n",
       " <chr> & <chr> & <chr> & <chr> & <chr> & <chr> & <chr> & <chr> & <chr>\\\\\n",
       "\\hline\n",
       "\t \\# contigs (>= 0 bp)    & 7161 & megahit & 2000000 & 100 & 1 & mean-10-sigma-1 & 0.005555 & GTDBr89\\_n9k\\_train\\\\\n",
       "\t \\# contigs (>= 1000 bp) & 7161 & megahit & 2000000 & 100 & 1 & mean-10-sigma-1 & 0.005555 & GTDBr89\\_n9k\\_train\\\\\n",
       "\t ⋮ & ⋮ & ⋮ & ⋮ & ⋮ & ⋮ & ⋮ & ⋮ & ⋮\\\\\n",
       "\t LA50 & 12291 & metaspades & 8000000 & 150 & 3 & mean-10-sigma-2 & 0.555555 & GTDBr89\\_n9k\\_train\\\\\n",
       "\t LA75 & 30350 & metaspades & 8000000 & 150 & 3 & mean-10-sigma-2 & 0.555555 & GTDBr89\\_n9k\\_train\\\\\n",
       "\\end{tabular}\n"
      ],
      "text/markdown": [
       "\n",
       "A tidytable: 14535 × 9\n",
       "\n",
       "| Assembly &lt;chr&gt; | contigs_filtered &lt;chr&gt; | assembler &lt;chr&gt; | seq_depth &lt;chr&gt; | read_length &lt;chr&gt; | sim_rep &lt;chr&gt; | abund_dist &lt;chr&gt; | richness &lt;chr&gt; | dataset &lt;chr&gt; |\n",
       "|---|---|---|---|---|---|---|---|---|\n",
       "| # contigs (&gt;= 0 bp)    | 7161 | megahit | 2000000 | 100 | 1 | mean-10-sigma-1 | 0.005555 | GTDBr89_n9k_train |\n",
       "| # contigs (&gt;= 1000 bp) | 7161 | megahit | 2000000 | 100 | 1 | mean-10-sigma-1 | 0.005555 | GTDBr89_n9k_train |\n",
       "| ⋮ | ⋮ | ⋮ | ⋮ | ⋮ | ⋮ | ⋮ | ⋮ | ⋮ |\n",
       "| LA50 | 12291 | metaspades | 8000000 | 150 | 3 | mean-10-sigma-2 | 0.555555 | GTDBr89_n9k_train |\n",
       "| LA75 | 30350 | metaspades | 8000000 | 150 | 3 | mean-10-sigma-2 | 0.555555 | GTDBr89_n9k_train |\n",
       "\n"
      ],
      "text/plain": [
       "      Assembly               contigs_filtered assembler  seq_depth read_length\n",
       "1     # contigs (>= 0 bp)    7161             megahit    2000000   100        \n",
       "2     # contigs (>= 1000 bp) 7161             megahit    2000000   100        \n",
       "⋮     ⋮                      ⋮                ⋮          ⋮         ⋮          \n",
       "14534 LA50                   12291            metaspades 8000000   150        \n",
       "14535 LA75                   30350            metaspades 8000000   150        \n",
       "      sim_rep abund_dist      richness dataset          \n",
       "1     1       mean-10-sigma-1 0.005555 GTDBr89_n9k_train\n",
       "2     1       mean-10-sigma-1 0.005555 GTDBr89_n9k_train\n",
       "⋮     ⋮       ⋮               ⋮        ⋮                \n",
       "14534 3       mean-10-sigma-2 0.555555 GTDBr89_n9k_train\n",
       "14535 3       mean-10-sigma-2 0.555555 GTDBr89_n9k_train"
      ]
     },
     "metadata": {},
     "output_type": "display_data"
    }
   ],
   "source": [
    "# reading tables\n",
    "read_mq = function(F){\n",
    "    df = Fread(F)\n",
    "    x = unlist(strsplit(F, '/'))\n",
    "    df$assembler = x[length(x)-2]\n",
    "    df$seq_depth = x[length(x)-3]\n",
    "    df$read_length = x[length(x)-4]\n",
    "    df$sim_rep = x[length(x)-5]\n",
    "    df$abund_dist = x[length(x)-6]\n",
    "    df$richness = x[length(x)-7]\n",
    "    return(df)\n",
    "}\n",
    "\n",
    "mq_rpt_n9k = F %>%\n",
    "    #head(n=1) %>%\n",
    "    lapply(read_mq) %>%\n",
    "    rbindlist(use.names=TRUE) %>%\n",
    "    mutate.(dataset = 'GTDBr89_n9k_train')\n",
    "mq_rpt_n9k"
   ]
  },
  {
   "cell_type": "code",
   "execution_count": 103,
   "id": "1c8a00a6",
   "metadata": {
    "ExecuteTime": {
     "end_time": "2021-08-12T17:15:29.014684Z",
     "start_time": "2021-08-12T17:15:28.926Z"
    }
   },
   "outputs": [
    {
     "data": {
      "text/html": [
       "<table class=\"dataframe\">\n",
       "<caption>A data.table: 15555 × 10</caption>\n",
       "<thead>\n",
       "\t<tr><th scope=col>Assembly</th><th scope=col>contigs_filtered</th><th scope=col>assembler</th><th scope=col>sample</th><th scope=col>seq_depth</th><th scope=col>read_length</th><th scope=col>sim_rep</th><th scope=col>abund_dist</th><th scope=col>richness</th><th scope=col>dataset</th></tr>\n",
       "\t<tr><th scope=col>&lt;chr&gt;</th><th scope=col>&lt;chr&gt;</th><th scope=col>&lt;chr&gt;</th><th scope=col>&lt;chr&gt;</th><th scope=col>&lt;chr&gt;</th><th scope=col>&lt;chr&gt;</th><th scope=col>&lt;chr&gt;</th><th scope=col>&lt;chr&gt;</th><th scope=col>&lt;chr&gt;</th><th scope=col>&lt;chr&gt;</th></tr>\n",
       "</thead>\n",
       "<tbody>\n",
       "\t<tr><td><span style=white-space:pre-wrap># contigs (&gt;= 0 bp)   </span></td><td>18163</td><td>megahit</td><td>2017.12.04_18.45.54_sample_0</td><td>NA</td><td>NA</td><td>NA</td><td>NA</td><td>NA</td><td>CAMI2_HMP-gut</td></tr>\n",
       "\t<tr><td># contigs (&gt;= 1000 bp)</td><td>18163</td><td>megahit</td><td>2017.12.04_18.45.54_sample_0</td><td>NA</td><td>NA</td><td>NA</td><td>NA</td><td>NA</td><td>CAMI2_HMP-gut</td></tr>\n",
       "\t<tr><td>⋮</td><td>⋮</td><td>⋮</td><td>⋮</td><td>⋮</td><td>⋮</td><td>⋮</td><td>⋮</td><td>⋮</td><td>⋮</td></tr>\n",
       "\t<tr><td>LA50</td><td>12291</td><td>metaspades</td><td>NA</td><td>8000000</td><td>150</td><td>3</td><td>mean-10-sigma-2</td><td>0.555555</td><td>GTDBr89_n9k_train</td></tr>\n",
       "\t<tr><td>LA75</td><td>30350</td><td>metaspades</td><td>NA</td><td>8000000</td><td>150</td><td>3</td><td>mean-10-sigma-2</td><td>0.555555</td><td>GTDBr89_n9k_train</td></tr>\n",
       "</tbody>\n",
       "</table>\n"
      ],
      "text/latex": [
       "A data.table: 15555 × 10\n",
       "\\begin{tabular}{llllllllll}\n",
       " Assembly & contigs\\_filtered & assembler & sample & seq\\_depth & read\\_length & sim\\_rep & abund\\_dist & richness & dataset\\\\\n",
       " <chr> & <chr> & <chr> & <chr> & <chr> & <chr> & <chr> & <chr> & <chr> & <chr>\\\\\n",
       "\\hline\n",
       "\t \\# contigs (>= 0 bp)    & 18163 & megahit & 2017.12.04\\_18.45.54\\_sample\\_0 & NA & NA & NA & NA & NA & CAMI2\\_HMP-gut\\\\\n",
       "\t \\# contigs (>= 1000 bp) & 18163 & megahit & 2017.12.04\\_18.45.54\\_sample\\_0 & NA & NA & NA & NA & NA & CAMI2\\_HMP-gut\\\\\n",
       "\t ⋮ & ⋮ & ⋮ & ⋮ & ⋮ & ⋮ & ⋮ & ⋮ & ⋮ & ⋮\\\\\n",
       "\t LA50 & 12291 & metaspades & NA & 8000000 & 150 & 3 & mean-10-sigma-2 & 0.555555 & GTDBr89\\_n9k\\_train\\\\\n",
       "\t LA75 & 30350 & metaspades & NA & 8000000 & 150 & 3 & mean-10-sigma-2 & 0.555555 & GTDBr89\\_n9k\\_train\\\\\n",
       "\\end{tabular}\n"
      ],
      "text/markdown": [
       "\n",
       "A data.table: 15555 × 10\n",
       "\n",
       "| Assembly &lt;chr&gt; | contigs_filtered &lt;chr&gt; | assembler &lt;chr&gt; | sample &lt;chr&gt; | seq_depth &lt;chr&gt; | read_length &lt;chr&gt; | sim_rep &lt;chr&gt; | abund_dist &lt;chr&gt; | richness &lt;chr&gt; | dataset &lt;chr&gt; |\n",
       "|---|---|---|---|---|---|---|---|---|---|\n",
       "| # contigs (&gt;= 0 bp)    | 18163 | megahit | 2017.12.04_18.45.54_sample_0 | NA | NA | NA | NA | NA | CAMI2_HMP-gut |\n",
       "| # contigs (&gt;= 1000 bp) | 18163 | megahit | 2017.12.04_18.45.54_sample_0 | NA | NA | NA | NA | NA | CAMI2_HMP-gut |\n",
       "| ⋮ | ⋮ | ⋮ | ⋮ | ⋮ | ⋮ | ⋮ | ⋮ | ⋮ | ⋮ |\n",
       "| LA50 | 12291 | metaspades | NA | 8000000 | 150 | 3 | mean-10-sigma-2 | 0.555555 | GTDBr89_n9k_train |\n",
       "| LA75 | 30350 | metaspades | NA | 8000000 | 150 | 3 | mean-10-sigma-2 | 0.555555 | GTDBr89_n9k_train |\n",
       "\n"
      ],
      "text/plain": [
       "      Assembly               contigs_filtered assembler \n",
       "1     # contigs (>= 0 bp)    18163            megahit   \n",
       "2     # contigs (>= 1000 bp) 18163            megahit   \n",
       "⋮     ⋮                      ⋮                ⋮         \n",
       "15554 LA50                   12291            metaspades\n",
       "15555 LA75                   30350            metaspades\n",
       "      sample                       seq_depth read_length sim_rep\n",
       "1     2017.12.04_18.45.54_sample_0 NA        NA          NA     \n",
       "2     2017.12.04_18.45.54_sample_0 NA        NA          NA     \n",
       "⋮     ⋮                            ⋮         ⋮           ⋮      \n",
       "15554 NA                           8000000   150         3      \n",
       "15555 NA                           8000000   150         3      \n",
       "      abund_dist      richness dataset          \n",
       "1     NA              NA       CAMI2_HMP-gut    \n",
       "2     NA              NA       CAMI2_HMP-gut    \n",
       "⋮     ⋮               ⋮        ⋮                \n",
       "15554 mean-10-sigma-2 0.555555 GTDBr89_n9k_train\n",
       "15555 mean-10-sigma-2 0.555555 GTDBr89_n9k_train"
      ]
     },
     "metadata": {},
     "output_type": "display_data"
    }
   ],
   "source": [
    "# merging\n",
    "mq_rpt_j = rbindlist(list(\n",
    "    mq_rpt %>% \n",
    "        mutate.(seq_depth = NA, read_length = NA, sim_rep = NA, abund_dist = NA, richness = NA,\n",
    "                dataset = 'CAMI2_HMP-gut'),\n",
    "    mq_rpt_n9k %>% \n",
    "        mutate.(sample = NA)), use.names=TRUE)\n",
    "mq_rpt_j"
   ]
  },
  {
   "cell_type": "code",
   "execution_count": 104,
   "id": "3c9cc71e",
   "metadata": {
    "ExecuteTime": {
     "end_time": "2021-08-12T17:15:33.533009Z",
     "start_time": "2021-08-12T17:15:33.439Z"
    }
   },
   "outputs": [
    {
     "data": {
      "text/html": [
       "<table class=\"dataframe\">\n",
       "<caption>A tidytable: 2135 × 10</caption>\n",
       "<thead>\n",
       "\t<tr><th scope=col>Assembly</th><th scope=col>contigs_filtered</th><th scope=col>assembler</th><th scope=col>sample</th><th scope=col>seq_depth</th><th scope=col>read_length</th><th scope=col>sim_rep</th><th scope=col>abund_dist</th><th scope=col>richness</th><th scope=col>dataset</th></tr>\n",
       "\t<tr><th scope=col>&lt;chr&gt;</th><th scope=col>&lt;dbl&gt;</th><th scope=col>&lt;chr&gt;</th><th scope=col>&lt;chr&gt;</th><th scope=col>&lt;chr&gt;</th><th scope=col>&lt;chr&gt;</th><th scope=col>&lt;chr&gt;</th><th scope=col>&lt;chr&gt;</th><th scope=col>&lt;chr&gt;</th><th scope=col>&lt;chr&gt;</th></tr>\n",
       "</thead>\n",
       "<tbody>\n",
       "\t<tr><td>num_contigs      </td><td>18163</td><td>megahit</td><td>2017.12.04_18.45.54_sample_0</td><td>NA</td><td>NA</td><td>NA</td><td>NA</td><td>NA</td><td>CAMI2_HMP-gut</td></tr>\n",
       "\t<tr><td>num_misassemblies</td><td>  383</td><td>megahit</td><td>2017.12.04_18.45.54_sample_0</td><td>NA</td><td>NA</td><td>NA</td><td>NA</td><td>NA</td><td>CAMI2_HMP-gut</td></tr>\n",
       "\t<tr><td>⋮</td><td>⋮</td><td>⋮</td><td>⋮</td><td>⋮</td><td>⋮</td><td>⋮</td><td>⋮</td><td>⋮</td><td>⋮</td></tr>\n",
       "\t<tr><td>num_mismatches_per_100_kbp</td><td>396.30</td><td>metaspades</td><td>NA</td><td>8000000</td><td>150</td><td>3</td><td>mean-10-sigma-2</td><td>0.555555</td><td>GTDBr89_n9k_train</td></tr>\n",
       "\t<tr><td>num_indels_per_100_kbp    </td><td>  9.13</td><td>metaspades</td><td>NA</td><td>8000000</td><td>150</td><td>3</td><td>mean-10-sigma-2</td><td>0.555555</td><td>GTDBr89_n9k_train</td></tr>\n",
       "</tbody>\n",
       "</table>\n"
      ],
      "text/latex": [
       "A tidytable: 2135 × 10\n",
       "\\begin{tabular}{llllllllll}\n",
       " Assembly & contigs\\_filtered & assembler & sample & seq\\_depth & read\\_length & sim\\_rep & abund\\_dist & richness & dataset\\\\\n",
       " <chr> & <dbl> & <chr> & <chr> & <chr> & <chr> & <chr> & <chr> & <chr> & <chr>\\\\\n",
       "\\hline\n",
       "\t num\\_contigs       & 18163 & megahit & 2017.12.04\\_18.45.54\\_sample\\_0 & NA & NA & NA & NA & NA & CAMI2\\_HMP-gut\\\\\n",
       "\t num\\_misassemblies &   383 & megahit & 2017.12.04\\_18.45.54\\_sample\\_0 & NA & NA & NA & NA & NA & CAMI2\\_HMP-gut\\\\\n",
       "\t ⋮ & ⋮ & ⋮ & ⋮ & ⋮ & ⋮ & ⋮ & ⋮ & ⋮ & ⋮\\\\\n",
       "\t num\\_mismatches\\_per\\_100\\_kbp & 396.30 & metaspades & NA & 8000000 & 150 & 3 & mean-10-sigma-2 & 0.555555 & GTDBr89\\_n9k\\_train\\\\\n",
       "\t num\\_indels\\_per\\_100\\_kbp     &   9.13 & metaspades & NA & 8000000 & 150 & 3 & mean-10-sigma-2 & 0.555555 & GTDBr89\\_n9k\\_train\\\\\n",
       "\\end{tabular}\n"
      ],
      "text/markdown": [
       "\n",
       "A tidytable: 2135 × 10\n",
       "\n",
       "| Assembly &lt;chr&gt; | contigs_filtered &lt;dbl&gt; | assembler &lt;chr&gt; | sample &lt;chr&gt; | seq_depth &lt;chr&gt; | read_length &lt;chr&gt; | sim_rep &lt;chr&gt; | abund_dist &lt;chr&gt; | richness &lt;chr&gt; | dataset &lt;chr&gt; |\n",
       "|---|---|---|---|---|---|---|---|---|---|\n",
       "| num_contigs       | 18163 | megahit | 2017.12.04_18.45.54_sample_0 | NA | NA | NA | NA | NA | CAMI2_HMP-gut |\n",
       "| num_misassemblies |   383 | megahit | 2017.12.04_18.45.54_sample_0 | NA | NA | NA | NA | NA | CAMI2_HMP-gut |\n",
       "| ⋮ | ⋮ | ⋮ | ⋮ | ⋮ | ⋮ | ⋮ | ⋮ | ⋮ | ⋮ |\n",
       "| num_mismatches_per_100_kbp | 396.30 | metaspades | NA | 8000000 | 150 | 3 | mean-10-sigma-2 | 0.555555 | GTDBr89_n9k_train |\n",
       "| num_indels_per_100_kbp     |   9.13 | metaspades | NA | 8000000 | 150 | 3 | mean-10-sigma-2 | 0.555555 | GTDBr89_n9k_train |\n",
       "\n"
      ],
      "text/plain": [
       "     Assembly                   contigs_filtered assembler \n",
       "1    num_contigs                18163            megahit   \n",
       "2    num_misassemblies            383            megahit   \n",
       "⋮    ⋮                          ⋮                ⋮         \n",
       "2134 num_mismatches_per_100_kbp 396.30           metaspades\n",
       "2135 num_indels_per_100_kbp       9.13           metaspades\n",
       "     sample                       seq_depth read_length sim_rep abund_dist     \n",
       "1    2017.12.04_18.45.54_sample_0 NA        NA          NA      NA             \n",
       "2    2017.12.04_18.45.54_sample_0 NA        NA          NA      NA             \n",
       "⋮    ⋮                            ⋮         ⋮           ⋮       ⋮              \n",
       "2134 NA                           8000000   150         3       mean-10-sigma-2\n",
       "2135 NA                           8000000   150         3       mean-10-sigma-2\n",
       "     richness dataset          \n",
       "1    NA       CAMI2_HMP-gut    \n",
       "2    NA       CAMI2_HMP-gut    \n",
       "⋮    ⋮        ⋮                \n",
       "2134 0.555555 GTDBr89_n9k_train\n",
       "2135 0.555555 GTDBr89_n9k_train"
      ]
     },
     "metadata": {},
     "output_type": "display_data"
    }
   ],
   "source": [
    "# filtering\n",
    "to_keep = c('# contigs', '# misassemblies', '# misassembled contigs',\n",
    "            '# local misassemblies', '# N\\'s per 100 kbp',\n",
    "            '# mismatches per 100 kbp', '# indels per 100 kbp')\n",
    "mq_rpt_jf = mq_rpt_j %>%\n",
    "    filter.(Assembly %in% to_keep) %>%\n",
    "    mutate.(Assembly = gsub('^# ', 'num_', Assembly),\n",
    "            Assembly = gsub(' ', '_', Assembly),\n",
    "            Assembly = gsub(\"'\", '', Assembly)) %>%\n",
    "    mutate.(contigs_filtered = as.Num(contigs_filtered)) \n",
    "mq_rpt_jf"
   ]
  },
  {
   "cell_type": "code",
   "execution_count": 106,
   "id": "bf3d4208",
   "metadata": {
    "ExecuteTime": {
     "end_time": "2021-08-12T17:15:45.893804Z",
     "start_time": "2021-08-12T17:15:43.787Z"
    }
   },
   "outputs": [
    {
     "data": {
      "image/png": "[encoded data removed]",
      "text/plain": [
       "plot without title"
      ]
     },
     "metadata": {
      "image/png": {
       "height": 400,
       "width": 900
      }
     },
     "output_type": "display_data"
    }
   ],
   "source": [
    "# plotting\n",
    "p = mq_rpt_jf %>%\n",
    "    ggplot(aes(assembler, contigs_filtered, color=dataset)) +\n",
    "    geom_boxplot() +\n",
    "    facet_wrap(~ Assembly, scales='free_y') +\n",
    "    theme_bw()\n",
    "p.dims(9,4)\n",
    "plot(p)"
   ]
  },
  {
   "cell_type": "markdown",
   "id": "f225e0f7",
   "metadata": {},
   "source": [
    "#### Compared to DM_n1000_r30"
   ]
  },
  {
   "cell_type": "code",
   "execution_count": 122,
   "id": "e9dd5d6c",
   "metadata": {
    "ExecuteTime": {
     "end_time": "2021-08-13T06:53:32.174800Z",
     "start_time": "2021-08-13T06:52:04.776Z"
    }
   },
   "outputs": [
    {
     "data": {
      "text/html": [
       "60"
      ],
      "text/latex": [
       "60"
      ],
      "text/markdown": [
       "60"
      ],
      "text/plain": [
       "[1] 60"
      ]
     },
     "metadata": {},
     "output_type": "display_data"
    },
    {
     "data": {
      "text/html": [
       "<style>\n",
       ".list-inline {list-style: none; margin:0; padding: 0}\n",
       ".list-inline>li {display: inline-block}\n",
       ".list-inline>li:not(:last-child)::after {content: \"\\00b7\"; padding: 0 .5ex}\n",
       "</style>\n",
       "<ol class=list-inline><li>'/ebio/abt3_projects/databases_no-backup/DeepMAsED/train_runs/n1000_r30/true_errors/1/megahit/combined_reference/report.tsv'</li><li>'/ebio/abt3_projects/databases_no-backup/DeepMAsED/train_runs/n1000_r30/true_errors/1/metaspades/combined_reference/report.tsv'</li><li>'/ebio/abt3_projects/databases_no-backup/DeepMAsED/train_runs/n1000_r30/true_errors/10/megahit/combined_reference/report.tsv'</li></ol>\n"
      ],
      "text/latex": [
       "\\begin{enumerate*}\n",
       "\\item '/ebio/abt3\\_projects/databases\\_no-backup/DeepMAsED/train\\_runs/n1000\\_r30/true\\_errors/1/megahit/combined\\_reference/report.tsv'\n",
       "\\item '/ebio/abt3\\_projects/databases\\_no-backup/DeepMAsED/train\\_runs/n1000\\_r30/true\\_errors/1/metaspades/combined\\_reference/report.tsv'\n",
       "\\item '/ebio/abt3\\_projects/databases\\_no-backup/DeepMAsED/train\\_runs/n1000\\_r30/true\\_errors/10/megahit/combined\\_reference/report.tsv'\n",
       "\\end{enumerate*}\n"
      ],
      "text/markdown": [
       "1. '/ebio/abt3_projects/databases_no-backup/DeepMAsED/train_runs/n1000_r30/true_errors/1/megahit/combined_reference/report.tsv'\n",
       "2. '/ebio/abt3_projects/databases_no-backup/DeepMAsED/train_runs/n1000_r30/true_errors/1/metaspades/combined_reference/report.tsv'\n",
       "3. '/ebio/abt3_projects/databases_no-backup/DeepMAsED/train_runs/n1000_r30/true_errors/10/megahit/combined_reference/report.tsv'\n",
       "\n",
       "\n"
      ],
      "text/plain": [
       "[1] \"/ebio/abt3_projects/databases_no-backup/DeepMAsED/train_runs/n1000_r30/true_errors/1/megahit/combined_reference/report.tsv\"   \n",
       "[2] \"/ebio/abt3_projects/databases_no-backup/DeepMAsED/train_runs/n1000_r30/true_errors/1/metaspades/combined_reference/report.tsv\"\n",
       "[3] \"/ebio/abt3_projects/databases_no-backup/DeepMAsED/train_runs/n1000_r30/true_errors/10/megahit/combined_reference/report.tsv\"  "
      ]
     },
     "metadata": {},
     "output_type": "display_data"
    }
   ],
   "source": [
    "D = '/ebio/abt3_projects/databases_no-backup/DeepMAsED/train_runs/n1000_r30'\n",
    "D = file.path(D, 'true_errors')\n",
    "F = list_files(D, 'report.tsv')\n",
    "F = F[grepl('combined_reference/report.tsv$', F)]\n",
    "F %>% length\n",
    "F %>% head(n=3)"
   ]
  },
  {
   "cell_type": "code",
   "execution_count": 127,
   "id": "dd9ce053",
   "metadata": {
    "ExecuteTime": {
     "end_time": "2021-08-13T06:53:41.619333Z",
     "start_time": "2021-08-13T06:53:41.471Z"
    }
   },
   "outputs": [
    {
     "data": {
      "text/html": [
       "<table class=\"dataframe\">\n",
       "<caption>A tidytable: 3120 × 5</caption>\n",
       "<thead>\n",
       "\t<tr><th scope=col>Assembly</th><th scope=col>contigs_filtered</th><th scope=col>assembler</th><th scope=col>sim_rep</th><th scope=col>dataset</th></tr>\n",
       "\t<tr><th scope=col>&lt;chr&gt;</th><th scope=col>&lt;chr&gt;</th><th scope=col>&lt;chr&gt;</th><th scope=col>&lt;chr&gt;</th><th scope=col>&lt;chr&gt;</th></tr>\n",
       "</thead>\n",
       "<tbody>\n",
       "\t<tr><td><span style=white-space:pre-wrap># contigs (&gt;= 0 bp)   </span></td><td>9098</td><td>megahit</td><td>1</td><td>GTDBr89_n1k_train</td></tr>\n",
       "\t<tr><td># contigs (&gt;= 1000 bp)</td><td>9098</td><td>megahit</td><td>1</td><td>GTDBr89_n1k_train</td></tr>\n",
       "\t<tr><td>⋮</td><td>⋮</td><td>⋮</td><td>⋮</td><td>⋮</td></tr>\n",
       "\t<tr><td>LA50</td><td>2041</td><td>metaspades</td><td>9</td><td>GTDBr89_n1k_train</td></tr>\n",
       "\t<tr><td>LA75</td><td>4386</td><td>metaspades</td><td>9</td><td>GTDBr89_n1k_train</td></tr>\n",
       "</tbody>\n",
       "</table>\n"
      ],
      "text/latex": [
       "A tidytable: 3120 × 5\n",
       "\\begin{tabular}{lllll}\n",
       " Assembly & contigs\\_filtered & assembler & sim\\_rep & dataset\\\\\n",
       " <chr> & <chr> & <chr> & <chr> & <chr>\\\\\n",
       "\\hline\n",
       "\t \\# contigs (>= 0 bp)    & 9098 & megahit & 1 & GTDBr89\\_n1k\\_train\\\\\n",
       "\t \\# contigs (>= 1000 bp) & 9098 & megahit & 1 & GTDBr89\\_n1k\\_train\\\\\n",
       "\t ⋮ & ⋮ & ⋮ & ⋮ & ⋮\\\\\n",
       "\t LA50 & 2041 & metaspades & 9 & GTDBr89\\_n1k\\_train\\\\\n",
       "\t LA75 & 4386 & metaspades & 9 & GTDBr89\\_n1k\\_train\\\\\n",
       "\\end{tabular}\n"
      ],
      "text/markdown": [
       "\n",
       "A tidytable: 3120 × 5\n",
       "\n",
       "| Assembly &lt;chr&gt; | contigs_filtered &lt;chr&gt; | assembler &lt;chr&gt; | sim_rep &lt;chr&gt; | dataset &lt;chr&gt; |\n",
       "|---|---|---|---|---|\n",
       "| # contigs (&gt;= 0 bp)    | 9098 | megahit | 1 | GTDBr89_n1k_train |\n",
       "| # contigs (&gt;= 1000 bp) | 9098 | megahit | 1 | GTDBr89_n1k_train |\n",
       "| ⋮ | ⋮ | ⋮ | ⋮ | ⋮ |\n",
       "| LA50 | 2041 | metaspades | 9 | GTDBr89_n1k_train |\n",
       "| LA75 | 4386 | metaspades | 9 | GTDBr89_n1k_train |\n",
       "\n"
      ],
      "text/plain": [
       "     Assembly               contigs_filtered assembler  sim_rep\n",
       "1    # contigs (>= 0 bp)    9098             megahit    1      \n",
       "2    # contigs (>= 1000 bp) 9098             megahit    1      \n",
       "⋮    ⋮                      ⋮                ⋮          ⋮      \n",
       "3119 LA50                   2041             metaspades 9      \n",
       "3120 LA75                   4386             metaspades 9      \n",
       "     dataset          \n",
       "1    GTDBr89_n1k_train\n",
       "2    GTDBr89_n1k_train\n",
       "⋮    ⋮                \n",
       "3119 GTDBr89_n1k_train\n",
       "3120 GTDBr89_n1k_train"
      ]
     },
     "metadata": {},
     "output_type": "display_data"
    }
   ],
   "source": [
    "read_mq = function(F){\n",
    "    df = Fread(F)\n",
    "    x = unlist(strsplit(F, '/'))\n",
    "    df$assembler = x[length(x)-2]\n",
    "    df$sim_rep = x[length(x)-3]\n",
    "    return(df)\n",
    "}\n",
    "\n",
    "mq_rpt_n1k = F %>%\n",
    "    #head(n=1) %>%\n",
    "    lapply(read_mq) %>%\n",
    "    rbindlist(use.names=TRUE) %>%\n",
    "    mutate.(dataset = 'GTDBr89_n1k_train')\n",
    "mq_rpt_n1k"
   ]
  },
  {
   "cell_type": "code",
   "execution_count": 128,
   "id": "e1034d37",
   "metadata": {
    "ExecuteTime": {
     "end_time": "2021-08-13T06:53:42.103634Z",
     "start_time": "2021-08-13T06:53:42.053Z"
    }
   },
   "outputs": [
    {
     "data": {
      "text/html": [
       "<table class=\"dataframe\">\n",
       "<caption>A data.table: 18675 × 10</caption>\n",
       "<thead>\n",
       "\t<tr><th scope=col>Assembly</th><th scope=col>contigs_filtered</th><th scope=col>assembler</th><th scope=col>sample</th><th scope=col>seq_depth</th><th scope=col>read_length</th><th scope=col>sim_rep</th><th scope=col>abund_dist</th><th scope=col>richness</th><th scope=col>dataset</th></tr>\n",
       "\t<tr><th scope=col>&lt;chr&gt;</th><th scope=col>&lt;chr&gt;</th><th scope=col>&lt;chr&gt;</th><th scope=col>&lt;chr&gt;</th><th scope=col>&lt;chr&gt;</th><th scope=col>&lt;chr&gt;</th><th scope=col>&lt;chr&gt;</th><th scope=col>&lt;chr&gt;</th><th scope=col>&lt;chr&gt;</th><th scope=col>&lt;chr&gt;</th></tr>\n",
       "</thead>\n",
       "<tbody>\n",
       "\t<tr><td><span style=white-space:pre-wrap># contigs (&gt;= 0 bp)   </span></td><td>18163</td><td>megahit</td><td>2017.12.04_18.45.54_sample_0</td><td>NA</td><td>NA</td><td>NA</td><td>NA</td><td>NA</td><td>CAMI2_HMP-gut</td></tr>\n",
       "\t<tr><td># contigs (&gt;= 1000 bp)</td><td>18163</td><td>megahit</td><td>2017.12.04_18.45.54_sample_0</td><td>NA</td><td>NA</td><td>NA</td><td>NA</td><td>NA</td><td>CAMI2_HMP-gut</td></tr>\n",
       "\t<tr><td>⋮</td><td>⋮</td><td>⋮</td><td>⋮</td><td>⋮</td><td>⋮</td><td>⋮</td><td>⋮</td><td>⋮</td><td>⋮</td></tr>\n",
       "\t<tr><td>LA50</td><td>2041</td><td>metaspades</td><td>NA</td><td>NA</td><td>NA</td><td>9</td><td>NA</td><td>NA</td><td>GTDBr89_n1k_train</td></tr>\n",
       "\t<tr><td>LA75</td><td>4386</td><td>metaspades</td><td>NA</td><td>NA</td><td>NA</td><td>9</td><td>NA</td><td>NA</td><td>GTDBr89_n1k_train</td></tr>\n",
       "</tbody>\n",
       "</table>\n"
      ],
      "text/latex": [
       "A data.table: 18675 × 10\n",
       "\\begin{tabular}{llllllllll}\n",
       " Assembly & contigs\\_filtered & assembler & sample & seq\\_depth & read\\_length & sim\\_rep & abund\\_dist & richness & dataset\\\\\n",
       " <chr> & <chr> & <chr> & <chr> & <chr> & <chr> & <chr> & <chr> & <chr> & <chr>\\\\\n",
       "\\hline\n",
       "\t \\# contigs (>= 0 bp)    & 18163 & megahit & 2017.12.04\\_18.45.54\\_sample\\_0 & NA & NA & NA & NA & NA & CAMI2\\_HMP-gut\\\\\n",
       "\t \\# contigs (>= 1000 bp) & 18163 & megahit & 2017.12.04\\_18.45.54\\_sample\\_0 & NA & NA & NA & NA & NA & CAMI2\\_HMP-gut\\\\\n",
       "\t ⋮ & ⋮ & ⋮ & ⋮ & ⋮ & ⋮ & ⋮ & ⋮ & ⋮ & ⋮\\\\\n",
       "\t LA50 & 2041 & metaspades & NA & NA & NA & 9 & NA & NA & GTDBr89\\_n1k\\_train\\\\\n",
       "\t LA75 & 4386 & metaspades & NA & NA & NA & 9 & NA & NA & GTDBr89\\_n1k\\_train\\\\\n",
       "\\end{tabular}\n"
      ],
      "text/markdown": [
       "\n",
       "A data.table: 18675 × 10\n",
       "\n",
       "| Assembly &lt;chr&gt; | contigs_filtered &lt;chr&gt; | assembler &lt;chr&gt; | sample &lt;chr&gt; | seq_depth &lt;chr&gt; | read_length &lt;chr&gt; | sim_rep &lt;chr&gt; | abund_dist &lt;chr&gt; | richness &lt;chr&gt; | dataset &lt;chr&gt; |\n",
       "|---|---|---|---|---|---|---|---|---|---|\n",
       "| # contigs (&gt;= 0 bp)    | 18163 | megahit | 2017.12.04_18.45.54_sample_0 | NA | NA | NA | NA | NA | CAMI2_HMP-gut |\n",
       "| # contigs (&gt;= 1000 bp) | 18163 | megahit | 2017.12.04_18.45.54_sample_0 | NA | NA | NA | NA | NA | CAMI2_HMP-gut |\n",
       "| ⋮ | ⋮ | ⋮ | ⋮ | ⋮ | ⋮ | ⋮ | ⋮ | ⋮ | ⋮ |\n",
       "| LA50 | 2041 | metaspades | NA | NA | NA | 9 | NA | NA | GTDBr89_n1k_train |\n",
       "| LA75 | 4386 | metaspades | NA | NA | NA | 9 | NA | NA | GTDBr89_n1k_train |\n",
       "\n"
      ],
      "text/plain": [
       "      Assembly               contigs_filtered assembler \n",
       "1     # contigs (>= 0 bp)    18163            megahit   \n",
       "2     # contigs (>= 1000 bp) 18163            megahit   \n",
       "⋮     ⋮                      ⋮                ⋮         \n",
       "18674 LA50                   2041             metaspades\n",
       "18675 LA75                   4386             metaspades\n",
       "      sample                       seq_depth read_length sim_rep abund_dist\n",
       "1     2017.12.04_18.45.54_sample_0 NA        NA          NA      NA        \n",
       "2     2017.12.04_18.45.54_sample_0 NA        NA          NA      NA        \n",
       "⋮     ⋮                            ⋮         ⋮           ⋮       ⋮         \n",
       "18674 NA                           NA        NA          9       NA        \n",
       "18675 NA                           NA        NA          9       NA        \n",
       "      richness dataset          \n",
       "1     NA       CAMI2_HMP-gut    \n",
       "2     NA       CAMI2_HMP-gut    \n",
       "⋮     ⋮        ⋮                \n",
       "18674 NA       GTDBr89_n1k_train\n",
       "18675 NA       GTDBr89_n1k_train"
      ]
     },
     "metadata": {},
     "output_type": "display_data"
    }
   ],
   "source": [
    "# merging\n",
    "mq_rpt_jj = rbindlist(list(\n",
    "    mq_rpt_j,\n",
    "    mq_rpt_n1k %>% \n",
    "        mutate.(sample = NA, seq_depth = NA, read_length = NA, \n",
    "                abund_dist = NA, richness = NA,)\n",
    "    ), use.names=TRUE)\n",
    "mq_rpt_jj"
   ]
  },
  {
   "cell_type": "code",
   "execution_count": 129,
   "id": "32deaef9",
   "metadata": {
    "ExecuteTime": {
     "end_time": "2021-08-13T06:53:42.896904Z",
     "start_time": "2021-08-13T06:53:42.636Z"
    }
   },
   "outputs": [
    {
     "data": {
      "text/html": [
       "<table class=\"dataframe\">\n",
       "<caption>A tidytable: 2555 × 10</caption>\n",
       "<thead>\n",
       "\t<tr><th scope=col>Assembly</th><th scope=col>contigs_filtered</th><th scope=col>assembler</th><th scope=col>sample</th><th scope=col>seq_depth</th><th scope=col>read_length</th><th scope=col>sim_rep</th><th scope=col>abund_dist</th><th scope=col>richness</th><th scope=col>dataset</th></tr>\n",
       "\t<tr><th scope=col>&lt;chr&gt;</th><th scope=col>&lt;dbl&gt;</th><th scope=col>&lt;chr&gt;</th><th scope=col>&lt;chr&gt;</th><th scope=col>&lt;chr&gt;</th><th scope=col>&lt;chr&gt;</th><th scope=col>&lt;chr&gt;</th><th scope=col>&lt;chr&gt;</th><th scope=col>&lt;chr&gt;</th><th scope=col>&lt;chr&gt;</th></tr>\n",
       "</thead>\n",
       "<tbody>\n",
       "\t<tr><td>num_contigs      </td><td>18163</td><td>megahit</td><td>2017.12.04_18.45.54_sample_0</td><td>NA</td><td>NA</td><td>NA</td><td>NA</td><td>NA</td><td>CAMI2_HMP-gut</td></tr>\n",
       "\t<tr><td>num_misassemblies</td><td>  383</td><td>megahit</td><td>2017.12.04_18.45.54_sample_0</td><td>NA</td><td>NA</td><td>NA</td><td>NA</td><td>NA</td><td>CAMI2_HMP-gut</td></tr>\n",
       "\t<tr><td>⋮</td><td>⋮</td><td>⋮</td><td>⋮</td><td>⋮</td><td>⋮</td><td>⋮</td><td>⋮</td><td>⋮</td><td>⋮</td></tr>\n",
       "\t<tr><td>num_mismatches_per_100_kbp</td><td>94.67</td><td>metaspades</td><td>NA</td><td>NA</td><td>NA</td><td>9</td><td>NA</td><td>NA</td><td>GTDBr89_n1k_train</td></tr>\n",
       "\t<tr><td>num_indels_per_100_kbp    </td><td> 2.58</td><td>metaspades</td><td>NA</td><td>NA</td><td>NA</td><td>9</td><td>NA</td><td>NA</td><td>GTDBr89_n1k_train</td></tr>\n",
       "</tbody>\n",
       "</table>\n"
      ],
      "text/latex": [
       "A tidytable: 2555 × 10\n",
       "\\begin{tabular}{llllllllll}\n",
       " Assembly & contigs\\_filtered & assembler & sample & seq\\_depth & read\\_length & sim\\_rep & abund\\_dist & richness & dataset\\\\\n",
       " <chr> & <dbl> & <chr> & <chr> & <chr> & <chr> & <chr> & <chr> & <chr> & <chr>\\\\\n",
       "\\hline\n",
       "\t num\\_contigs       & 18163 & megahit & 2017.12.04\\_18.45.54\\_sample\\_0 & NA & NA & NA & NA & NA & CAMI2\\_HMP-gut\\\\\n",
       "\t num\\_misassemblies &   383 & megahit & 2017.12.04\\_18.45.54\\_sample\\_0 & NA & NA & NA & NA & NA & CAMI2\\_HMP-gut\\\\\n",
       "\t ⋮ & ⋮ & ⋮ & ⋮ & ⋮ & ⋮ & ⋮ & ⋮ & ⋮ & ⋮\\\\\n",
       "\t num\\_mismatches\\_per\\_100\\_kbp & 94.67 & metaspades & NA & NA & NA & 9 & NA & NA & GTDBr89\\_n1k\\_train\\\\\n",
       "\t num\\_indels\\_per\\_100\\_kbp     &  2.58 & metaspades & NA & NA & NA & 9 & NA & NA & GTDBr89\\_n1k\\_train\\\\\n",
       "\\end{tabular}\n"
      ],
      "text/markdown": [
       "\n",
       "A tidytable: 2555 × 10\n",
       "\n",
       "| Assembly &lt;chr&gt; | contigs_filtered &lt;dbl&gt; | assembler &lt;chr&gt; | sample &lt;chr&gt; | seq_depth &lt;chr&gt; | read_length &lt;chr&gt; | sim_rep &lt;chr&gt; | abund_dist &lt;chr&gt; | richness &lt;chr&gt; | dataset &lt;chr&gt; |\n",
       "|---|---|---|---|---|---|---|---|---|---|\n",
       "| num_contigs       | 18163 | megahit | 2017.12.04_18.45.54_sample_0 | NA | NA | NA | NA | NA | CAMI2_HMP-gut |\n",
       "| num_misassemblies |   383 | megahit | 2017.12.04_18.45.54_sample_0 | NA | NA | NA | NA | NA | CAMI2_HMP-gut |\n",
       "| ⋮ | ⋮ | ⋮ | ⋮ | ⋮ | ⋮ | ⋮ | ⋮ | ⋮ | ⋮ |\n",
       "| num_mismatches_per_100_kbp | 94.67 | metaspades | NA | NA | NA | 9 | NA | NA | GTDBr89_n1k_train |\n",
       "| num_indels_per_100_kbp     |  2.58 | metaspades | NA | NA | NA | 9 | NA | NA | GTDBr89_n1k_train |\n",
       "\n"
      ],
      "text/plain": [
       "     Assembly                   contigs_filtered assembler \n",
       "1    num_contigs                18163            megahit   \n",
       "2    num_misassemblies            383            megahit   \n",
       "⋮    ⋮                          ⋮                ⋮         \n",
       "2554 num_mismatches_per_100_kbp 94.67            metaspades\n",
       "2555 num_indels_per_100_kbp      2.58            metaspades\n",
       "     sample                       seq_depth read_length sim_rep abund_dist\n",
       "1    2017.12.04_18.45.54_sample_0 NA        NA          NA      NA        \n",
       "2    2017.12.04_18.45.54_sample_0 NA        NA          NA      NA        \n",
       "⋮    ⋮                            ⋮         ⋮           ⋮       ⋮         \n",
       "2554 NA                           NA        NA          9       NA        \n",
       "2555 NA                           NA        NA          9       NA        \n",
       "     richness dataset          \n",
       "1    NA       CAMI2_HMP-gut    \n",
       "2    NA       CAMI2_HMP-gut    \n",
       "⋮    ⋮        ⋮                \n",
       "2554 NA       GTDBr89_n1k_train\n",
       "2555 NA       GTDBr89_n1k_train"
      ]
     },
     "metadata": {},
     "output_type": "display_data"
    }
   ],
   "source": [
    "# filtering\n",
    "to_keep = c('# contigs', '# misassemblies', '# misassembled contigs',\n",
    "            '# local misassemblies', '# N\\'s per 100 kbp',\n",
    "            '# mismatches per 100 kbp', '# indels per 100 kbp')\n",
    "mq_rpt_jjf = mq_rpt_jj %>%\n",
    "    filter.(Assembly %in% to_keep) %>%\n",
    "    mutate.(Assembly = gsub('^# ', 'num_', Assembly),\n",
    "            Assembly = gsub(' ', '_', Assembly),\n",
    "            Assembly = gsub(\"'\", '', Assembly)) %>%\n",
    "    mutate.(contigs_filtered = as.Num(contigs_filtered)) \n",
    "mq_rpt_jjf"
   ]
  },
  {
   "cell_type": "code",
   "execution_count": 130,
   "id": "2af42835",
   "metadata": {
    "ExecuteTime": {
     "end_time": "2021-08-13T06:53:45.660469Z",
     "start_time": "2021-08-13T06:53:43.370Z"
    }
   },
   "outputs": [
    {
     "data": {
      "image/png": "[encoded data removed]",
      "text/plain": [
       "plot without title"
      ]
     },
     "metadata": {
      "image/png": {
       "height": 400,
       "width": 900
      }
     },
     "output_type": "display_data"
    }
   ],
   "source": [
    "# plotting\n",
    "p = mq_rpt_jjf %>%\n",
    "    ggplot(aes(assembler, contigs_filtered, color=dataset)) +\n",
    "    geom_boxplot() +\n",
    "    facet_wrap(~ Assembly, scales='free_y') +\n",
    "    theme_bw()\n",
    "p.dims(9,4)\n",
    "plot(p)"
   ]
  },
  {
   "cell_type": "markdown",
   "id": "ccbae1b4",
   "metadata": {},
   "source": [
    "### ResMiCo features"
   ]
  },
  {
   "cell_type": "code",
   "execution_count": 105,
   "id": "a9c573fb",
   "metadata": {
    "ExecuteTime": {
     "end_time": "2021-08-11T17:09:11.028889Z",
     "start_time": "2021-08-11T17:09:10.949Z"
    }
   },
   "outputs": [
    {
     "data": {
      "text/html": [
       "20"
      ],
      "text/latex": [
       "20"
      ],
      "text/markdown": [
       "20"
      ],
      "text/plain": [
       "[1] 20"
      ]
     },
     "metadata": {},
     "output_type": "display_data"
    },
    {
     "data": {
      "text/html": [
       "<style>\n",
       ".list-inline {list-style: none; margin:0; padding: 0}\n",
       ".list-inline>li {display: inline-block}\n",
       ".list-inline>li:not(:last-child)::after {content: \"\\00b7\"; padding: 0 .5ex}\n",
       "</style>\n",
       "<ol class=list-inline><li>'/ebio/abt3_projects/databases_no-backup/CAMI/CAMI2_HMP-gut/short_read//ResMiCo-SM/features/2017.12.04_18.45.54_sample_0/NA/NA/NA/NA/megahit/features.tsv.gz'</li><li>'/ebio/abt3_projects/databases_no-backup/CAMI/CAMI2_HMP-gut/short_read//ResMiCo-SM/features/2017.12.04_18.45.54_sample_0/NA/NA/NA/NA/metaspades/features.tsv.gz'</li><li>'/ebio/abt3_projects/databases_no-backup/CAMI/CAMI2_HMP-gut/short_read//ResMiCo-SM/features/2017.12.04_18.45.54_sample_1/NA/NA/NA/NA/megahit/features.tsv.gz'</li></ol>\n"
      ],
      "text/latex": [
       "\\begin{enumerate*}\n",
       "\\item '/ebio/abt3\\_projects/databases\\_no-backup/CAMI/CAMI2\\_HMP-gut/short\\_read//ResMiCo-SM/features/2017.12.04\\_18.45.54\\_sample\\_0/NA/NA/NA/NA/megahit/features.tsv.gz'\n",
       "\\item '/ebio/abt3\\_projects/databases\\_no-backup/CAMI/CAMI2\\_HMP-gut/short\\_read//ResMiCo-SM/features/2017.12.04\\_18.45.54\\_sample\\_0/NA/NA/NA/NA/metaspades/features.tsv.gz'\n",
       "\\item '/ebio/abt3\\_projects/databases\\_no-backup/CAMI/CAMI2\\_HMP-gut/short\\_read//ResMiCo-SM/features/2017.12.04\\_18.45.54\\_sample\\_1/NA/NA/NA/NA/megahit/features.tsv.gz'\n",
       "\\end{enumerate*}\n"
      ],
      "text/markdown": [
       "1. '/ebio/abt3_projects/databases_no-backup/CAMI/CAMI2_HMP-gut/short_read//ResMiCo-SM/features/2017.12.04_18.45.54_sample_0/NA/NA/NA/NA/megahit/features.tsv.gz'\n",
       "2. '/ebio/abt3_projects/databases_no-backup/CAMI/CAMI2_HMP-gut/short_read//ResMiCo-SM/features/2017.12.04_18.45.54_sample_0/NA/NA/NA/NA/metaspades/features.tsv.gz'\n",
       "3. '/ebio/abt3_projects/databases_no-backup/CAMI/CAMI2_HMP-gut/short_read//ResMiCo-SM/features/2017.12.04_18.45.54_sample_1/NA/NA/NA/NA/megahit/features.tsv.gz'\n",
       "\n",
       "\n"
      ],
      "text/plain": [
       "[1] \"/ebio/abt3_projects/databases_no-backup/CAMI/CAMI2_HMP-gut/short_read//ResMiCo-SM/features/2017.12.04_18.45.54_sample_0/NA/NA/NA/NA/megahit/features.tsv.gz\"   \n",
       "[2] \"/ebio/abt3_projects/databases_no-backup/CAMI/CAMI2_HMP-gut/short_read//ResMiCo-SM/features/2017.12.04_18.45.54_sample_0/NA/NA/NA/NA/metaspades/features.tsv.gz\"\n",
       "[3] \"/ebio/abt3_projects/databases_no-backup/CAMI/CAMI2_HMP-gut/short_read//ResMiCo-SM/features/2017.12.04_18.45.54_sample_1/NA/NA/NA/NA/megahit/features.tsv.gz\"   "
      ]
     },
     "metadata": {},
     "output_type": "display_data"
    }
   ],
   "source": [
    "P = file.path(work_dir, 'ResMiCo-SM', 'features')\n",
    "feat_files = list_files(P, 'features.tsv.gz')\n",
    "feat_files %>% length\n",
    "feat_files %>% head(n=3)"
   ]
  },
  {
   "cell_type": "code",
   "execution_count": 26,
   "id": "fcca7908",
   "metadata": {
    "ExecuteTime": {
     "end_time": "2021-08-12T07:25:09.544162Z",
     "start_time": "2021-08-12T07:25:09.492Z"
    }
   },
   "outputs": [],
   "source": [
    "read_feat = function(F){\n",
    "    df = Fread(F) %>%\n",
    "        select.(assembler, contig, \n",
    "                coverage, num_SNPs, min_insert_size_Match, mean_insert_size_Match, mean_mapq_Match, \n",
    "                num_proper_Match, num_orphans_Match, num_discordant_Match, num_proper_SNP, \n",
    "                seq_window_entropy, seq_window_perc_gc, Extensive_misassembly) %>%\n",
    "        summarize.(coverage = mean(coverage, na.rm=TRUE),\n",
    "                   num_SNPs = mean(num_SNPs, na.rm=TRUE),\n",
    "                   min_insert_size_Match = mean(min_insert_size_Match, na.rm=TRUE),\n",
    "                   mean_insert_size_Match = mean(mean_insert_size_Match, na.rm=TRUE),\n",
    "                   mean_mapq_Match = mean(mean_mapq_Match, na.rm=TRUE),\n",
    "                   num_proper_Match = mean(num_proper_Match, na.rm=TRUE),\n",
    "                   num_orphans_Match = mean(num_orphans_Match, na.rm=TRUE),\n",
    "                   num_discordant_Match = mean(num_discordant_Match, na.rm=TRUE),\n",
    "                   num_proper_SNP = mean(num_proper_SNP, na.rm=TRUE),\n",
    "                   seq_window_entropy = mean(seq_window_entropy, na.rm=TRUE),\n",
    "                   seq_window_perc_gc = mean(seq_window_perc_gc, na.rm=TRUE),\n",
    "                   Extensive_misassembly = mean(Extensive_misassembly, na.rm=TRUE),\n",
    "                   .by=c(assembler, contig))\n",
    "    x = unlist(strsplit(F, '/'))\n",
    "    df$sample = x[length(x)-6]\n",
    "    return(df)\n",
    "}\n",
    "doParallel::registerDoParallel(6)\n",
    "feats = feat_files %>%\n",
    "    #head(n=2) %>%\n",
    "    plyr::llply(read_feat, .parallel=TRUE) %>%\n",
    "    rbindlist(use.names=TRUE) \n",
    "feats"
   ]
  },
  {
   "cell_type": "code",
   "execution_count": 120,
   "id": "2fd18cc1",
   "metadata": {
    "ExecuteTime": {
     "end_time": "2021-08-11T17:25:41.073370Z",
     "start_time": "2021-08-11T17:25:40.641Z"
    }
   },
   "outputs": [
    {
     "name": "stdout",
     "output_type": "stream",
     "text": [
      "File written: /ebio/abt3_projects/databases_no-backup/CAMI/CAMI2_HMP-gut/short_read//ResMiCo-SM/features/features_per-contig.tsv \n"
     ]
    }
   ],
   "source": [
    "# writing table\n",
    "D = file.path(work_dir, 'ResMiCo-SM', 'features')\n",
    "F = file.path(D, 'features_per-contig.tsv')\n",
    "write_table(feats, F)"
   ]
  },
  {
   "cell_type": "code",
   "execution_count": 9,
   "id": "82cc7b71",
   "metadata": {
    "ExecuteTime": {
     "end_time": "2021-08-12T06:39:28.295498Z",
     "start_time": "2021-08-12T06:39:27.449Z"
    }
   },
   "outputs": [
    {
     "data": {
      "text/html": [
       "<table class=\"dataframe\">\n",
       "<caption>A data.table: 436500 × 15</caption>\n",
       "<thead>\n",
       "\t<tr><th scope=col>assembler</th><th scope=col>contig</th><th scope=col>coverage</th><th scope=col>num_SNPs</th><th scope=col>min_insert_size_Match</th><th scope=col>mean_insert_size_Match</th><th scope=col>mean_mapq_Match</th><th scope=col>num_proper_Match</th><th scope=col>num_orphans_Match</th><th scope=col>num_discordant_Match</th><th scope=col>num_proper_SNP</th><th scope=col>seq_window_entropy</th><th scope=col>seq_window_perc_gc</th><th scope=col>Extensive_misassembly</th><th scope=col>sample</th></tr>\n",
       "\t<tr><th scope=col>&lt;chr&gt;</th><th scope=col>&lt;chr&gt;</th><th scope=col>&lt;dbl&gt;</th><th scope=col>&lt;dbl&gt;</th><th scope=col>&lt;dbl&gt;</th><th scope=col>&lt;dbl&gt;</th><th scope=col>&lt;dbl&gt;</th><th scope=col>&lt;dbl&gt;</th><th scope=col>&lt;dbl&gt;</th><th scope=col>&lt;dbl&gt;</th><th scope=col>&lt;dbl&gt;</th><th scope=col>&lt;dbl&gt;</th><th scope=col>&lt;dbl&gt;</th><th scope=col>&lt;int&gt;</th><th scope=col>&lt;chr&gt;</th></tr>\n",
       "</thead>\n",
       "<tbody>\n",
       "\t<tr><td>megahit</td><td>k141_19855</td><td>6.984805</td><td>0.03988604</td><td>155.9174</td><td>223.9038</td><td>41.41394</td><td>6.876543</td><td>0.4197531</td><td>0</td><td>0.2459639</td><td>1.529578</td><td>0.4746714</td><td>0</td><td>2017.12.04_18.45.54_sample_0</td></tr>\n",
       "\t<tr><td>megahit</td><td>k141_29760</td><td>5.134021</td><td>0.09621993</td><td>164.9785</td><td>240.9708</td><td>32.42235</td><td>4.662371</td><td>0.6099656</td><td>0</td><td>0.2345361</td><td>1.526988</td><td>0.4914089</td><td>0</td><td>2017.12.04_18.45.54_sample_0</td></tr>\n",
       "\t<tr><td>⋮</td><td>⋮</td><td>⋮</td><td>⋮</td><td>⋮</td><td>⋮</td><td>⋮</td><td>⋮</td><td>⋮</td><td>⋮</td><td>⋮</td><td>⋮</td><td>⋮</td><td>⋮</td><td>⋮</td></tr>\n",
       "\t<tr><td>metaspades</td><td>NODE_2958_length_3452_cov_6.186341</td><td>18.46900</td><td>0.04316338</td><td>200.7626</td><td>261.9563</td><td>40.96823</td><td>19.04751</td><td>0.0000000</td><td>0.21436848</td><td>0.7137891</td><td>1.413935</td><td>0.3528563</td><td>0</td><td>2017.12.04_18.45.54_sample_9</td></tr>\n",
       "\t<tr><td>metaspades</td><td>NODE_2959_length_3452_cov_4.206653</td><td>18.47798</td><td>0.06402086</td><td>195.8430</td><td>265.4934</td><td>40.55333</td><td>18.98349</td><td>0.1712051</td><td>0.08690614</td><td>0.7398610</td><td>1.418184</td><td>0.2978975</td><td>0</td><td>2017.12.04_18.45.54_sample_9</td></tr>\n",
       "</tbody>\n",
       "</table>\n"
      ],
      "text/latex": [
       "A data.table: 436500 × 15\n",
       "\\begin{tabular}{lllllllllllllll}\n",
       " assembler & contig & coverage & num\\_SNPs & min\\_insert\\_size\\_Match & mean\\_insert\\_size\\_Match & mean\\_mapq\\_Match & num\\_proper\\_Match & num\\_orphans\\_Match & num\\_discordant\\_Match & num\\_proper\\_SNP & seq\\_window\\_entropy & seq\\_window\\_perc\\_gc & Extensive\\_misassembly & sample\\\\\n",
       " <chr> & <chr> & <dbl> & <dbl> & <dbl> & <dbl> & <dbl> & <dbl> & <dbl> & <dbl> & <dbl> & <dbl> & <dbl> & <int> & <chr>\\\\\n",
       "\\hline\n",
       "\t megahit & k141\\_19855 & 6.984805 & 0.03988604 & 155.9174 & 223.9038 & 41.41394 & 6.876543 & 0.4197531 & 0 & 0.2459639 & 1.529578 & 0.4746714 & 0 & 2017.12.04\\_18.45.54\\_sample\\_0\\\\\n",
       "\t megahit & k141\\_29760 & 5.134021 & 0.09621993 & 164.9785 & 240.9708 & 32.42235 & 4.662371 & 0.6099656 & 0 & 0.2345361 & 1.526988 & 0.4914089 & 0 & 2017.12.04\\_18.45.54\\_sample\\_0\\\\\n",
       "\t ⋮ & ⋮ & ⋮ & ⋮ & ⋮ & ⋮ & ⋮ & ⋮ & ⋮ & ⋮ & ⋮ & ⋮ & ⋮ & ⋮ & ⋮\\\\\n",
       "\t metaspades & NODE\\_2958\\_length\\_3452\\_cov\\_6.186341 & 18.46900 & 0.04316338 & 200.7626 & 261.9563 & 40.96823 & 19.04751 & 0.0000000 & 0.21436848 & 0.7137891 & 1.413935 & 0.3528563 & 0 & 2017.12.04\\_18.45.54\\_sample\\_9\\\\\n",
       "\t metaspades & NODE\\_2959\\_length\\_3452\\_cov\\_4.206653 & 18.47798 & 0.06402086 & 195.8430 & 265.4934 & 40.55333 & 18.98349 & 0.1712051 & 0.08690614 & 0.7398610 & 1.418184 & 0.2978975 & 0 & 2017.12.04\\_18.45.54\\_sample\\_9\\\\\n",
       "\\end{tabular}\n"
      ],
      "text/markdown": [
       "\n",
       "A data.table: 436500 × 15\n",
       "\n",
       "| assembler &lt;chr&gt; | contig &lt;chr&gt; | coverage &lt;dbl&gt; | num_SNPs &lt;dbl&gt; | min_insert_size_Match &lt;dbl&gt; | mean_insert_size_Match &lt;dbl&gt; | mean_mapq_Match &lt;dbl&gt; | num_proper_Match &lt;dbl&gt; | num_orphans_Match &lt;dbl&gt; | num_discordant_Match &lt;dbl&gt; | num_proper_SNP &lt;dbl&gt; | seq_window_entropy &lt;dbl&gt; | seq_window_perc_gc &lt;dbl&gt; | Extensive_misassembly &lt;int&gt; | sample &lt;chr&gt; |\n",
       "|---|---|---|---|---|---|---|---|---|---|---|---|---|---|---|\n",
       "| megahit | k141_19855 | 6.984805 | 0.03988604 | 155.9174 | 223.9038 | 41.41394 | 6.876543 | 0.4197531 | 0 | 0.2459639 | 1.529578 | 0.4746714 | 0 | 2017.12.04_18.45.54_sample_0 |\n",
       "| megahit | k141_29760 | 5.134021 | 0.09621993 | 164.9785 | 240.9708 | 32.42235 | 4.662371 | 0.6099656 | 0 | 0.2345361 | 1.526988 | 0.4914089 | 0 | 2017.12.04_18.45.54_sample_0 |\n",
       "| ⋮ | ⋮ | ⋮ | ⋮ | ⋮ | ⋮ | ⋮ | ⋮ | ⋮ | ⋮ | ⋮ | ⋮ | ⋮ | ⋮ | ⋮ |\n",
       "| metaspades | NODE_2958_length_3452_cov_6.186341 | 18.46900 | 0.04316338 | 200.7626 | 261.9563 | 40.96823 | 19.04751 | 0.0000000 | 0.21436848 | 0.7137891 | 1.413935 | 0.3528563 | 0 | 2017.12.04_18.45.54_sample_9 |\n",
       "| metaspades | NODE_2959_length_3452_cov_4.206653 | 18.47798 | 0.06402086 | 195.8430 | 265.4934 | 40.55333 | 18.98349 | 0.1712051 | 0.08690614 | 0.7398610 | 1.418184 | 0.2978975 | 0 | 2017.12.04_18.45.54_sample_9 |\n",
       "\n"
      ],
      "text/plain": [
       "       assembler  contig                             coverage num_SNPs  \n",
       "1      megahit    k141_19855                         6.984805 0.03988604\n",
       "2      megahit    k141_29760                         5.134021 0.09621993\n",
       "⋮      ⋮          ⋮                                  ⋮        ⋮         \n",
       "436499 metaspades NODE_2958_length_3452_cov_6.186341 18.46900 0.04316338\n",
       "436500 metaspades NODE_2959_length_3452_cov_4.206653 18.47798 0.06402086\n",
       "       min_insert_size_Match mean_insert_size_Match mean_mapq_Match\n",
       "1      155.9174              223.9038               41.41394       \n",
       "2      164.9785              240.9708               32.42235       \n",
       "⋮      ⋮                     ⋮                      ⋮              \n",
       "436499 200.7626              261.9563               40.96823       \n",
       "436500 195.8430              265.4934               40.55333       \n",
       "       num_proper_Match num_orphans_Match num_discordant_Match num_proper_SNP\n",
       "1      6.876543         0.4197531         0                    0.2459639     \n",
       "2      4.662371         0.6099656         0                    0.2345361     \n",
       "⋮      ⋮                ⋮                 ⋮                    ⋮             \n",
       "436499 19.04751         0.0000000         0.21436848           0.7137891     \n",
       "436500 18.98349         0.1712051         0.08690614           0.7398610     \n",
       "       seq_window_entropy seq_window_perc_gc Extensive_misassembly\n",
       "1      1.529578           0.4746714          0                    \n",
       "2      1.526988           0.4914089          0                    \n",
       "⋮      ⋮                  ⋮                  ⋮                    \n",
       "436499 1.413935           0.3528563          0                    \n",
       "436500 1.418184           0.2978975          0                    \n",
       "       sample                      \n",
       "1      2017.12.04_18.45.54_sample_0\n",
       "2      2017.12.04_18.45.54_sample_0\n",
       "⋮      ⋮                           \n",
       "436499 2017.12.04_18.45.54_sample_9\n",
       "436500 2017.12.04_18.45.54_sample_9"
      ]
     },
     "metadata": {},
     "output_type": "display_data"
    }
   ],
   "source": [
    "# read table\n",
    "# D = file.path(work_dir, 'ResMiCo-SM', 'features')\n",
    "# F = file.path(D, 'features_per-contig.tsv')\n",
    "# feats = Fread(F)\n",
    "# feats"
   ]
  },
  {
   "cell_type": "code",
   "execution_count": 108,
   "id": "a97f729f",
   "metadata": {
    "ExecuteTime": {
     "end_time": "2021-08-11T17:20:38.488540Z",
     "start_time": "2021-08-11T17:09:34.870Z"
    }
   },
   "outputs": [
    {
     "data": {
      "text/html": [
       "<table class=\"dataframe\">\n",
       "<caption>A matrix: 1 × 8 of type dbl</caption>\n",
       "<thead>\n",
       "\t<tr><th></th><th scope=col>Min.</th><th scope=col>1st Qu.</th><th scope=col>Median</th><th scope=col>Mean</th><th scope=col>3rd Qu.</th><th scope=col>Max.</th><th scope=col>sd</th><th scope=col>sd_err_of_mean</th></tr>\n",
       "</thead>\n",
       "<tbody>\n",
       "\t<tr><th scope=row>coverage</th><td>1.648461</td><td>8.065347</td><td>10.60224</td><td>11.67869</td><td>16.45892</td><td>18.72453</td><td>6.098</td><td>2.489</td></tr>\n",
       "</tbody>\n",
       "</table>\n"
      ],
      "text/latex": [
       "A matrix: 1 × 8 of type dbl\n",
       "\\begin{tabular}{r|llllllll}\n",
       "  & Min. & 1st Qu. & Median & Mean & 3rd Qu. & Max. & sd & sd\\_err\\_of\\_mean\\\\\n",
       "\\hline\n",
       "\tcoverage & 1.648461 & 8.065347 & 10.60224 & 11.67869 & 16.45892 & 18.72453 & 6.098 & 2.489\\\\\n",
       "\\end{tabular}\n"
      ],
      "text/markdown": [
       "\n",
       "A matrix: 1 × 8 of type dbl\n",
       "\n",
       "| <!--/--> | Min. | 1st Qu. | Median | Mean | 3rd Qu. | Max. | sd | sd_err_of_mean |\n",
       "|---|---|---|---|---|---|---|---|---|\n",
       "| coverage | 1.648461 | 8.065347 | 10.60224 | 11.67869 | 16.45892 | 18.72453 | 6.098 | 2.489 |\n",
       "\n"
      ],
      "text/plain": [
       "         Min.     1st Qu.  Median   Mean     3rd Qu.  Max.     sd   \n",
       "coverage 1.648461 8.065347 10.60224 11.67869 16.45892 18.72453 6.098\n",
       "         sd_err_of_mean\n",
       "coverage 2.489         "
      ]
     },
     "metadata": {},
     "output_type": "display_data"
    },
    {
     "data": {
      "text/html": [
       "<strong>95%:</strong> 18.4982415211968"
      ],
      "text/latex": [
       "\\textbf{95\\textbackslash{}\\%:} 18.4982415211968"
      ],
      "text/markdown": [
       "**95%:** 18.4982415211968"
      ],
      "text/plain": [
       "     95% \n",
       "18.49824 "
      ]
     },
     "metadata": {},
     "output_type": "display_data"
    }
   ],
   "source": [
    "# per-contig coverage distribution\n",
    "summary_x(feats$coverage)\n",
    "quantile(feats$coverage, 0.95)"
   ]
  },
  {
   "cell_type": "code",
   "execution_count": 109,
   "id": "330fb903",
   "metadata": {
    "ExecuteTime": {
     "end_time": "2021-08-11T17:20:38.562996Z",
     "start_time": "2021-08-11T17:10:01.644Z"
    }
   },
   "outputs": [
    {
     "data": {
      "text/html": [
       "<table class=\"dataframe\">\n",
       "<caption>A matrix: 1 × 8 of type dbl</caption>\n",
       "<thead>\n",
       "\t<tr><th></th><th scope=col>Min.</th><th scope=col>1st Qu.</th><th scope=col>Median</th><th scope=col>Mean</th><th scope=col>3rd Qu.</th><th scope=col>Max.</th><th scope=col>sd</th><th scope=col>sd_err_of_mean</th></tr>\n",
       "</thead>\n",
       "<tbody>\n",
       "\t<tr><th scope=row>num_SNPs</th><td>0.0009737098</td><td>0.04395604</td><td>0.06481481</td><td>0.08493616</td><td>0.0944531</td><td>1.729476</td><td>0.683</td><td>0.279</td></tr>\n",
       "</tbody>\n",
       "</table>\n"
      ],
      "text/latex": [
       "A matrix: 1 × 8 of type dbl\n",
       "\\begin{tabular}{r|llllllll}\n",
       "  & Min. & 1st Qu. & Median & Mean & 3rd Qu. & Max. & sd & sd\\_err\\_of\\_mean\\\\\n",
       "\\hline\n",
       "\tnum\\_SNPs & 0.0009737098 & 0.04395604 & 0.06481481 & 0.08493616 & 0.0944531 & 1.729476 & 0.683 & 0.279\\\\\n",
       "\\end{tabular}\n"
      ],
      "text/markdown": [
       "\n",
       "A matrix: 1 × 8 of type dbl\n",
       "\n",
       "| <!--/--> | Min. | 1st Qu. | Median | Mean | 3rd Qu. | Max. | sd | sd_err_of_mean |\n",
       "|---|---|---|---|---|---|---|---|---|\n",
       "| num_SNPs | 0.0009737098 | 0.04395604 | 0.06481481 | 0.08493616 | 0.0944531 | 1.729476 | 0.683 | 0.279 |\n",
       "\n"
      ],
      "text/plain": [
       "         Min.         1st Qu.    Median     Mean       3rd Qu.   Max.     sd   \n",
       "num_SNPs 0.0009737098 0.04395604 0.06481481 0.08493616 0.0944531 1.729476 0.683\n",
       "         sd_err_of_mean\n",
       "num_SNPs 0.279         "
      ]
     },
     "metadata": {},
     "output_type": "display_data"
    }
   ],
   "source": [
    "# SNPs\n",
    "summary_x(feats$num_SNPs)"
   ]
  },
  {
   "cell_type": "code",
   "execution_count": 110,
   "id": "5a95b383",
   "metadata": {
    "ExecuteTime": {
     "end_time": "2021-08-11T17:20:38.714531Z",
     "start_time": "2021-08-11T17:10:05.493Z"
    }
   },
   "outputs": [
    {
     "data": {
      "text/html": [
       "<table class=\"dataframe\">\n",
       "<caption>A matrix: 1 × 8 of type dbl</caption>\n",
       "<thead>\n",
       "\t<tr><th></th><th scope=col>Min.</th><th scope=col>1st Qu.</th><th scope=col>Median</th><th scope=col>Mean</th><th scope=col>3rd Qu.</th><th scope=col>Max.</th><th scope=col>sd</th><th scope=col>sd_err_of_mean</th></tr>\n",
       "</thead>\n",
       "<tbody>\n",
       "\t<tr><th scope=row>min_insert_size_Match</th><td>0.6932271</td><td>152.4824</td><td>176.199</td><td>174.2956</td><td>199.1475</td><td>362.8572</td><td>115.52</td><td>47.161</td></tr>\n",
       "</tbody>\n",
       "</table>\n"
      ],
      "text/latex": [
       "A matrix: 1 × 8 of type dbl\n",
       "\\begin{tabular}{r|llllllll}\n",
       "  & Min. & 1st Qu. & Median & Mean & 3rd Qu. & Max. & sd & sd\\_err\\_of\\_mean\\\\\n",
       "\\hline\n",
       "\tmin\\_insert\\_size\\_Match & 0.6932271 & 152.4824 & 176.199 & 174.2956 & 199.1475 & 362.8572 & 115.52 & 47.161\\\\\n",
       "\\end{tabular}\n"
      ],
      "text/markdown": [
       "\n",
       "A matrix: 1 × 8 of type dbl\n",
       "\n",
       "| <!--/--> | Min. | 1st Qu. | Median | Mean | 3rd Qu. | Max. | sd | sd_err_of_mean |\n",
       "|---|---|---|---|---|---|---|---|---|\n",
       "| min_insert_size_Match | 0.6932271 | 152.4824 | 176.199 | 174.2956 | 199.1475 | 362.8572 | 115.52 | 47.161 |\n",
       "\n"
      ],
      "text/plain": [
       "                      Min.      1st Qu.  Median  Mean     3rd Qu.  Max.    \n",
       "min_insert_size_Match 0.6932271 152.4824 176.199 174.2956 199.1475 362.8572\n",
       "                      sd     sd_err_of_mean\n",
       "min_insert_size_Match 115.52 47.161        "
      ]
     },
     "metadata": {},
     "output_type": "display_data"
    },
    {
     "data": {
      "text/html": [
       "<table class=\"dataframe\">\n",
       "<caption>A matrix: 1 × 8 of type dbl</caption>\n",
       "<thead>\n",
       "\t<tr><th></th><th scope=col>Min.</th><th scope=col>1st Qu.</th><th scope=col>Median</th><th scope=col>Mean</th><th scope=col>3rd Qu.</th><th scope=col>Max.</th><th scope=col>sd</th><th scope=col>sd_err_of_mean</th></tr>\n",
       "</thead>\n",
       "<tbody>\n",
       "\t<tr><th scope=row>mean_insert_size_Match</th><td>119.59</td><td>236.0273</td><td>248.8363</td><td>246.6157</td><td>259.6661</td><td>511.9444</td><td>129.162</td><td>52.73</td></tr>\n",
       "</tbody>\n",
       "</table>\n"
      ],
      "text/latex": [
       "A matrix: 1 × 8 of type dbl\n",
       "\\begin{tabular}{r|llllllll}\n",
       "  & Min. & 1st Qu. & Median & Mean & 3rd Qu. & Max. & sd & sd\\_err\\_of\\_mean\\\\\n",
       "\\hline\n",
       "\tmean\\_insert\\_size\\_Match & 119.59 & 236.0273 & 248.8363 & 246.6157 & 259.6661 & 511.9444 & 129.162 & 52.73\\\\\n",
       "\\end{tabular}\n"
      ],
      "text/markdown": [
       "\n",
       "A matrix: 1 × 8 of type dbl\n",
       "\n",
       "| <!--/--> | Min. | 1st Qu. | Median | Mean | 3rd Qu. | Max. | sd | sd_err_of_mean |\n",
       "|---|---|---|---|---|---|---|---|---|\n",
       "| mean_insert_size_Match | 119.59 | 236.0273 | 248.8363 | 246.6157 | 259.6661 | 511.9444 | 129.162 | 52.73 |\n",
       "\n"
      ],
      "text/plain": [
       "                       Min.   1st Qu.  Median   Mean     3rd Qu.  Max.    \n",
       "mean_insert_size_Match 119.59 236.0273 248.8363 246.6157 259.6661 511.9444\n",
       "                       sd      sd_err_of_mean\n",
       "mean_insert_size_Match 129.162 52.73         "
      ]
     },
     "metadata": {},
     "output_type": "display_data"
    }
   ],
   "source": [
    "# insert sizes\n",
    "summary_x(feats$min_insert_size_Match)\n",
    "summary_x(feats$mean_insert_size_Match)"
   ]
  },
  {
   "cell_type": "code",
   "execution_count": 111,
   "id": "19ad9cd2",
   "metadata": {
    "ExecuteTime": {
     "end_time": "2021-08-11T17:20:38.828084Z",
     "start_time": "2021-08-11T17:10:07.350Z"
    }
   },
   "outputs": [
    {
     "data": {
      "text/html": [
       "<table class=\"dataframe\">\n",
       "<caption>A matrix: 1 × 8 of type dbl</caption>\n",
       "<thead>\n",
       "\t<tr><th></th><th scope=col>Min.</th><th scope=col>1st Qu.</th><th scope=col>Median</th><th scope=col>Mean</th><th scope=col>3rd Qu.</th><th scope=col>Max.</th><th scope=col>sd</th><th scope=col>sd_err_of_mean</th></tr>\n",
       "</thead>\n",
       "<tbody>\n",
       "\t<tr><th scope=row>mean_mapq_Match</th><td>0.7180691</td><td>37.69625</td><td>39.68819</td><td>38.4077</td><td>40.84406</td><td>42</td><td>16.002</td><td>6.533</td></tr>\n",
       "</tbody>\n",
       "</table>\n"
      ],
      "text/latex": [
       "A matrix: 1 × 8 of type dbl\n",
       "\\begin{tabular}{r|llllllll}\n",
       "  & Min. & 1st Qu. & Median & Mean & 3rd Qu. & Max. & sd & sd\\_err\\_of\\_mean\\\\\n",
       "\\hline\n",
       "\tmean\\_mapq\\_Match & 0.7180691 & 37.69625 & 39.68819 & 38.4077 & 40.84406 & 42 & 16.002 & 6.533\\\\\n",
       "\\end{tabular}\n"
      ],
      "text/markdown": [
       "\n",
       "A matrix: 1 × 8 of type dbl\n",
       "\n",
       "| <!--/--> | Min. | 1st Qu. | Median | Mean | 3rd Qu. | Max. | sd | sd_err_of_mean |\n",
       "|---|---|---|---|---|---|---|---|---|\n",
       "| mean_mapq_Match | 0.7180691 | 37.69625 | 39.68819 | 38.4077 | 40.84406 | 42 | 16.002 | 6.533 |\n",
       "\n"
      ],
      "text/plain": [
       "                Min.      1st Qu.  Median   Mean    3rd Qu.  Max. sd    \n",
       "mean_mapq_Match 0.7180691 37.69625 39.68819 38.4077 40.84406 42   16.002\n",
       "                sd_err_of_mean\n",
       "mean_mapq_Match 6.533         "
      ]
     },
     "metadata": {},
     "output_type": "display_data"
    }
   ],
   "source": [
    "# mapq\n",
    "summary_x(feats$mean_mapq_Match)"
   ]
  },
  {
   "cell_type": "code",
   "execution_count": 112,
   "id": "957cbb06",
   "metadata": {
    "ExecuteTime": {
     "end_time": "2021-08-11T17:20:38.959159Z",
     "start_time": "2021-08-11T17:10:11.813Z"
    }
   },
   "outputs": [
    {
     "data": {
      "text/html": [
       "<table class=\"dataframe\">\n",
       "<caption>A matrix: 1 × 8 of type dbl</caption>\n",
       "<thead>\n",
       "\t<tr><th></th><th scope=col>Min.</th><th scope=col>1st Qu.</th><th scope=col>Median</th><th scope=col>Mean</th><th scope=col>3rd Qu.</th><th scope=col>Max.</th><th scope=col>sd</th><th scope=col>sd_err_of_mean</th></tr>\n",
       "</thead>\n",
       "<tbody>\n",
       "\t<tr><th scope=row>num_proper_Match</th><td>1.398256</td><td>7.787316</td><td>10.35581</td><td>11.51414</td><td>16.26049</td><td>19.33031</td><td>6.328</td><td>2.583</td></tr>\n",
       "</tbody>\n",
       "</table>\n"
      ],
      "text/latex": [
       "A matrix: 1 × 8 of type dbl\n",
       "\\begin{tabular}{r|llllllll}\n",
       "  & Min. & 1st Qu. & Median & Mean & 3rd Qu. & Max. & sd & sd\\_err\\_of\\_mean\\\\\n",
       "\\hline\n",
       "\tnum\\_proper\\_Match & 1.398256 & 7.787316 & 10.35581 & 11.51414 & 16.26049 & 19.33031 & 6.328 & 2.583\\\\\n",
       "\\end{tabular}\n"
      ],
      "text/markdown": [
       "\n",
       "A matrix: 1 × 8 of type dbl\n",
       "\n",
       "| <!--/--> | Min. | 1st Qu. | Median | Mean | 3rd Qu. | Max. | sd | sd_err_of_mean |\n",
       "|---|---|---|---|---|---|---|---|---|\n",
       "| num_proper_Match | 1.398256 | 7.787316 | 10.35581 | 11.51414 | 16.26049 | 19.33031 | 6.328 | 2.583 |\n",
       "\n"
      ],
      "text/plain": [
       "                 Min.     1st Qu.  Median   Mean     3rd Qu.  Max.     sd   \n",
       "num_proper_Match 1.398256 7.787316 10.35581 11.51414 16.26049 19.33031 6.328\n",
       "                 sd_err_of_mean\n",
       "num_proper_Match 2.583         "
      ]
     },
     "metadata": {},
     "output_type": "display_data"
    },
    {
     "data": {
      "text/html": [
       "<table class=\"dataframe\">\n",
       "<caption>A matrix: 1 × 8 of type dbl</caption>\n",
       "<thead>\n",
       "\t<tr><th></th><th scope=col>Min.</th><th scope=col>1st Qu.</th><th scope=col>Median</th><th scope=col>Mean</th><th scope=col>3rd Qu.</th><th scope=col>Max.</th><th scope=col>sd</th><th scope=col>sd_err_of_mean</th></tr>\n",
       "</thead>\n",
       "<tbody>\n",
       "\t<tr><th scope=row>num_proper_SNP</th><td>0.03152709</td><td>0.3280314</td><td>0.4327748</td><td>0.4766051</td><td>0.6450954</td><td>2.153245</td><td>0.751</td><td>0.307</td></tr>\n",
       "</tbody>\n",
       "</table>\n"
      ],
      "text/latex": [
       "A matrix: 1 × 8 of type dbl\n",
       "\\begin{tabular}{r|llllllll}\n",
       "  & Min. & 1st Qu. & Median & Mean & 3rd Qu. & Max. & sd & sd\\_err\\_of\\_mean\\\\\n",
       "\\hline\n",
       "\tnum\\_proper\\_SNP & 0.03152709 & 0.3280314 & 0.4327748 & 0.4766051 & 0.6450954 & 2.153245 & 0.751 & 0.307\\\\\n",
       "\\end{tabular}\n"
      ],
      "text/markdown": [
       "\n",
       "A matrix: 1 × 8 of type dbl\n",
       "\n",
       "| <!--/--> | Min. | 1st Qu. | Median | Mean | 3rd Qu. | Max. | sd | sd_err_of_mean |\n",
       "|---|---|---|---|---|---|---|---|---|\n",
       "| num_proper_SNP | 0.03152709 | 0.3280314 | 0.4327748 | 0.4766051 | 0.6450954 | 2.153245 | 0.751 | 0.307 |\n",
       "\n"
      ],
      "text/plain": [
       "               Min.       1st Qu.   Median    Mean      3rd Qu.   Max.    \n",
       "num_proper_SNP 0.03152709 0.3280314 0.4327748 0.4766051 0.6450954 2.153245\n",
       "               sd    sd_err_of_mean\n",
       "num_proper_SNP 0.751 0.307         "
      ]
     },
     "metadata": {},
     "output_type": "display_data"
    }
   ],
   "source": [
    "# proper\n",
    "summary_x(feats$num_proper_Match)\n",
    "summary_x(feats$num_proper_SNP)"
   ]
  },
  {
   "cell_type": "code",
   "execution_count": 113,
   "id": "f14337ec",
   "metadata": {
    "ExecuteTime": {
     "end_time": "2021-08-11T17:20:39.035010Z",
     "start_time": "2021-08-11T17:10:13.788Z"
    }
   },
   "outputs": [
    {
     "data": {
      "text/html": [
       "<table class=\"dataframe\">\n",
       "<caption>A matrix: 1 × 8 of type dbl</caption>\n",
       "<thead>\n",
       "\t<tr><th></th><th scope=col>Min.</th><th scope=col>1st Qu.</th><th scope=col>Median</th><th scope=col>Mean</th><th scope=col>3rd Qu.</th><th scope=col>Max.</th><th scope=col>sd</th><th scope=col>sd_err_of_mean</th></tr>\n",
       "</thead>\n",
       "<tbody>\n",
       "\t<tr><th scope=row>num_orphans_Match</th><td>0</td><td>0.1230517</td><td>0.3422292</td><td>0.4321489</td><td>0.617241</td><td>15.06075</td><td>6.029</td><td>2.461</td></tr>\n",
       "</tbody>\n",
       "</table>\n"
      ],
      "text/latex": [
       "A matrix: 1 × 8 of type dbl\n",
       "\\begin{tabular}{r|llllllll}\n",
       "  & Min. & 1st Qu. & Median & Mean & 3rd Qu. & Max. & sd & sd\\_err\\_of\\_mean\\\\\n",
       "\\hline\n",
       "\tnum\\_orphans\\_Match & 0 & 0.1230517 & 0.3422292 & 0.4321489 & 0.617241 & 15.06075 & 6.029 & 2.461\\\\\n",
       "\\end{tabular}\n"
      ],
      "text/markdown": [
       "\n",
       "A matrix: 1 × 8 of type dbl\n",
       "\n",
       "| <!--/--> | Min. | 1st Qu. | Median | Mean | 3rd Qu. | Max. | sd | sd_err_of_mean |\n",
       "|---|---|---|---|---|---|---|---|---|\n",
       "| num_orphans_Match | 0 | 0.1230517 | 0.3422292 | 0.4321489 | 0.617241 | 15.06075 | 6.029 | 2.461 |\n",
       "\n"
      ],
      "text/plain": [
       "                  Min. 1st Qu.   Median    Mean      3rd Qu.  Max.     sd   \n",
       "num_orphans_Match 0    0.1230517 0.3422292 0.4321489 0.617241 15.06075 6.029\n",
       "                  sd_err_of_mean\n",
       "num_orphans_Match 2.461         "
      ]
     },
     "metadata": {},
     "output_type": "display_data"
    }
   ],
   "source": [
    "# orphans\n",
    "summary_x(feats$num_orphans_Match)"
   ]
  },
  {
   "cell_type": "code",
   "execution_count": 114,
   "id": "1ef88054",
   "metadata": {
    "ExecuteTime": {
     "end_time": "2021-08-11T17:20:39.135100Z",
     "start_time": "2021-08-11T17:10:15.733Z"
    }
   },
   "outputs": [
    {
     "data": {
      "text/html": [
       "<table class=\"dataframe\">\n",
       "<caption>A matrix: 1 × 8 of type dbl</caption>\n",
       "<thead>\n",
       "\t<tr><th></th><th scope=col>Min.</th><th scope=col>1st Qu.</th><th scope=col>Median</th><th scope=col>Mean</th><th scope=col>3rd Qu.</th><th scope=col>Max.</th><th scope=col>sd</th><th scope=col>sd_err_of_mean</th></tr>\n",
       "</thead>\n",
       "<tbody>\n",
       "\t<tr><th scope=row>num_discordant_Match</th><td>0</td><td>0</td><td>0</td><td>0.175737</td><td>0.2466787</td><td>14.51919</td><td>5.894</td><td>2.406</td></tr>\n",
       "</tbody>\n",
       "</table>\n"
      ],
      "text/latex": [
       "A matrix: 1 × 8 of type dbl\n",
       "\\begin{tabular}{r|llllllll}\n",
       "  & Min. & 1st Qu. & Median & Mean & 3rd Qu. & Max. & sd & sd\\_err\\_of\\_mean\\\\\n",
       "\\hline\n",
       "\tnum\\_discordant\\_Match & 0 & 0 & 0 & 0.175737 & 0.2466787 & 14.51919 & 5.894 & 2.406\\\\\n",
       "\\end{tabular}\n"
      ],
      "text/markdown": [
       "\n",
       "A matrix: 1 × 8 of type dbl\n",
       "\n",
       "| <!--/--> | Min. | 1st Qu. | Median | Mean | 3rd Qu. | Max. | sd | sd_err_of_mean |\n",
       "|---|---|---|---|---|---|---|---|---|\n",
       "| num_discordant_Match | 0 | 0 | 0 | 0.175737 | 0.2466787 | 14.51919 | 5.894 | 2.406 |\n",
       "\n"
      ],
      "text/plain": [
       "                     Min. 1st Qu. Median Mean     3rd Qu.   Max.     sd   \n",
       "num_discordant_Match 0    0       0      0.175737 0.2466787 14.51919 5.894\n",
       "                     sd_err_of_mean\n",
       "num_discordant_Match 2.406         "
      ]
     },
     "metadata": {},
     "output_type": "display_data"
    }
   ],
   "source": [
    "# discordant\n",
    "summary_x(feats$num_discordant_Match)"
   ]
  },
  {
   "cell_type": "code",
   "execution_count": 115,
   "id": "da4a9756",
   "metadata": {
    "ExecuteTime": {
     "end_time": "2021-08-11T17:20:39.199046Z",
     "start_time": "2021-08-11T17:10:17.652Z"
    }
   },
   "outputs": [
    {
     "data": {
      "text/html": [
       "<table class=\"dataframe\">\n",
       "<caption>A matrix: 1 × 8 of type dbl</caption>\n",
       "<thead>\n",
       "\t<tr><th></th><th scope=col>Min.</th><th scope=col>1st Qu.</th><th scope=col>Median</th><th scope=col>Mean</th><th scope=col>3rd Qu.</th><th scope=col>Max.</th><th scope=col>sd</th><th scope=col>sd_err_of_mean</th></tr>\n",
       "</thead>\n",
       "<tbody>\n",
       "\t<tr><th scope=row>seq_window_entropy</th><td>1.16027</td><td>1.408625</td><td>1.475823</td><td>1.463432</td><td>1.518287</td><td>1.713301</td><td>0.179</td><td>0.073</td></tr>\n",
       "</tbody>\n",
       "</table>\n"
      ],
      "text/latex": [
       "A matrix: 1 × 8 of type dbl\n",
       "\\begin{tabular}{r|llllllll}\n",
       "  & Min. & 1st Qu. & Median & Mean & 3rd Qu. & Max. & sd & sd\\_err\\_of\\_mean\\\\\n",
       "\\hline\n",
       "\tseq\\_window\\_entropy & 1.16027 & 1.408625 & 1.475823 & 1.463432 & 1.518287 & 1.713301 & 0.179 & 0.073\\\\\n",
       "\\end{tabular}\n"
      ],
      "text/markdown": [
       "\n",
       "A matrix: 1 × 8 of type dbl\n",
       "\n",
       "| <!--/--> | Min. | 1st Qu. | Median | Mean | 3rd Qu. | Max. | sd | sd_err_of_mean |\n",
       "|---|---|---|---|---|---|---|---|---|\n",
       "| seq_window_entropy | 1.16027 | 1.408625 | 1.475823 | 1.463432 | 1.518287 | 1.713301 | 0.179 | 0.073 |\n",
       "\n"
      ],
      "text/plain": [
       "                   Min.    1st Qu.  Median   Mean     3rd Qu.  Max.     sd   \n",
       "seq_window_entropy 1.16027 1.408625 1.475823 1.463432 1.518287 1.713301 0.179\n",
       "                   sd_err_of_mean\n",
       "seq_window_entropy 0.073         "
      ]
     },
     "metadata": {},
     "output_type": "display_data"
    }
   ],
   "source": [
    "# entropy\n",
    "summary_x(feats$seq_window_entropy)"
   ]
  },
  {
   "cell_type": "code",
   "execution_count": 116,
   "id": "80c0e1bb",
   "metadata": {
    "ExecuteTime": {
     "end_time": "2021-08-11T17:20:39.265532Z",
     "start_time": "2021-08-11T17:10:20.316Z"
    }
   },
   "outputs": [
    {
     "data": {
      "text/html": [
       "<table class=\"dataframe\">\n",
       "<caption>A matrix: 1 × 8 of type dbl</caption>\n",
       "<thead>\n",
       "\t<tr><th></th><th scope=col>Min.</th><th scope=col>1st Qu.</th><th scope=col>Median</th><th scope=col>Mean</th><th scope=col>3rd Qu.</th><th scope=col>Max.</th><th scope=col>sd</th><th scope=col>sd_err_of_mean</th></tr>\n",
       "</thead>\n",
       "<tbody>\n",
       "\t<tr><th scope=row>seq_window_perc_gc</th><td>0.1331371</td><td>0.2987526</td><td>0.3867615</td><td>0.4152307</td><td>0.5039535</td><td>0.800812</td><td>0.224</td><td>0.091</td></tr>\n",
       "</tbody>\n",
       "</table>\n"
      ],
      "text/latex": [
       "A matrix: 1 × 8 of type dbl\n",
       "\\begin{tabular}{r|llllllll}\n",
       "  & Min. & 1st Qu. & Median & Mean & 3rd Qu. & Max. & sd & sd\\_err\\_of\\_mean\\\\\n",
       "\\hline\n",
       "\tseq\\_window\\_perc\\_gc & 0.1331371 & 0.2987526 & 0.3867615 & 0.4152307 & 0.5039535 & 0.800812 & 0.224 & 0.091\\\\\n",
       "\\end{tabular}\n"
      ],
      "text/markdown": [
       "\n",
       "A matrix: 1 × 8 of type dbl\n",
       "\n",
       "| <!--/--> | Min. | 1st Qu. | Median | Mean | 3rd Qu. | Max. | sd | sd_err_of_mean |\n",
       "|---|---|---|---|---|---|---|---|---|\n",
       "| seq_window_perc_gc | 0.1331371 | 0.2987526 | 0.3867615 | 0.4152307 | 0.5039535 | 0.800812 | 0.224 | 0.091 |\n",
       "\n"
      ],
      "text/plain": [
       "                   Min.      1st Qu.   Median    Mean      3rd Qu.   Max.    \n",
       "seq_window_perc_gc 0.1331371 0.2987526 0.3867615 0.4152307 0.5039535 0.800812\n",
       "                   sd    sd_err_of_mean\n",
       "seq_window_perc_gc 0.224 0.091         "
      ]
     },
     "metadata": {},
     "output_type": "display_data"
    }
   ],
   "source": [
    "# GC\n",
    "summary_x(feats$seq_window_perc_gc)"
   ]
  },
  {
   "cell_type": "code",
   "execution_count": 117,
   "id": "abdec94b",
   "metadata": {
    "ExecuteTime": {
     "end_time": "2021-08-11T17:20:39.602192Z",
     "start_time": "2021-08-11T17:10:22.851Z"
    }
   },
   "outputs": [
    {
     "data": {
      "text/plain": [
       "\n",
       "     0      1 \n",
       "430901   5599 "
      ]
     },
     "metadata": {},
     "output_type": "display_data"
    }
   ],
   "source": [
    "# misassemblies\n",
    "table(feats$Extensive_misassembly)"
   ]
  },
  {
   "cell_type": "code",
   "execution_count": 118,
   "id": "775e8a47",
   "metadata": {
    "ExecuteTime": {
     "end_time": "2021-08-11T17:20:40.656027Z",
     "start_time": "2021-08-11T17:10:36.929Z"
    }
   },
   "outputs": [
    {
     "name": "stderr",
     "output_type": "stream",
     "text": [
      "Sending email to: nyoungblut@tuebingen.mpg.de\n",
      "\n"
     ]
    }
   ],
   "source": [
    "send_email('http://127.0.0.1:9704/notebooks/deepmased/notebooks/06_version2/01_simulation_datasets/04_CAMI/01_CAMI2_HMP-gut.ipynb')"
   ]
  },
  {
   "cell_type": "markdown",
   "id": "49800ac4",
   "metadata": {},
   "source": [
    "### metaMIC"
   ]
  },
  {
   "cell_type": "markdown",
   "id": "fd8b5b20",
   "metadata": {},
   "source": [
    "#### True misassemblies"
   ]
  },
  {
   "cell_type": "code",
   "execution_count": 137,
   "id": "b2a5541f",
   "metadata": {
    "ExecuteTime": {
     "end_time": "2021-08-11T19:27:14.124554Z",
     "start_time": "2021-08-11T19:27:14.051Z"
    }
   },
   "outputs": [
    {
     "data": {
      "text/html": [
       "20"
      ],
      "text/latex": [
       "20"
      ],
      "text/markdown": [
       "20"
      ],
      "text/plain": [
       "[1] 20"
      ]
     },
     "metadata": {},
     "output_type": "display_data"
    },
    {
     "data": {
      "text/html": [
       "<style>\n",
       ".list-inline {list-style: none; margin:0; padding: 0}\n",
       ".list-inline>li {display: inline-block}\n",
       ".list-inline>li:not(:last-child)::after {content: \"\\00b7\"; padding: 0 .5ex}\n",
       "</style>\n",
       "<ol class=list-inline><li>'/ebio/abt3_projects/databases_no-backup/CAMI/CAMI2_HMP-gut/short_read//ResMiCo-SM/features/2017.12.04_18.45.54_sample_0/NA/NA/NA/NA/megahit/features.tsv.gz'</li><li>'/ebio/abt3_projects/databases_no-backup/CAMI/CAMI2_HMP-gut/short_read//ResMiCo-SM/features/2017.12.04_18.45.54_sample_0/NA/NA/NA/NA/metaspades/features.tsv.gz'</li><li>'/ebio/abt3_projects/databases_no-backup/CAMI/CAMI2_HMP-gut/short_read//ResMiCo-SM/features/2017.12.04_18.45.54_sample_1/NA/NA/NA/NA/megahit/features.tsv.gz'</li></ol>\n"
      ],
      "text/latex": [
       "\\begin{enumerate*}\n",
       "\\item '/ebio/abt3\\_projects/databases\\_no-backup/CAMI/CAMI2\\_HMP-gut/short\\_read//ResMiCo-SM/features/2017.12.04\\_18.45.54\\_sample\\_0/NA/NA/NA/NA/megahit/features.tsv.gz'\n",
       "\\item '/ebio/abt3\\_projects/databases\\_no-backup/CAMI/CAMI2\\_HMP-gut/short\\_read//ResMiCo-SM/features/2017.12.04\\_18.45.54\\_sample\\_0/NA/NA/NA/NA/metaspades/features.tsv.gz'\n",
       "\\item '/ebio/abt3\\_projects/databases\\_no-backup/CAMI/CAMI2\\_HMP-gut/short\\_read//ResMiCo-SM/features/2017.12.04\\_18.45.54\\_sample\\_1/NA/NA/NA/NA/megahit/features.tsv.gz'\n",
       "\\end{enumerate*}\n"
      ],
      "text/markdown": [
       "1. '/ebio/abt3_projects/databases_no-backup/CAMI/CAMI2_HMP-gut/short_read//ResMiCo-SM/features/2017.12.04_18.45.54_sample_0/NA/NA/NA/NA/megahit/features.tsv.gz'\n",
       "2. '/ebio/abt3_projects/databases_no-backup/CAMI/CAMI2_HMP-gut/short_read//ResMiCo-SM/features/2017.12.04_18.45.54_sample_0/NA/NA/NA/NA/metaspades/features.tsv.gz'\n",
       "3. '/ebio/abt3_projects/databases_no-backup/CAMI/CAMI2_HMP-gut/short_read//ResMiCo-SM/features/2017.12.04_18.45.54_sample_1/NA/NA/NA/NA/megahit/features.tsv.gz'\n",
       "\n",
       "\n"
      ],
      "text/plain": [
       "[1] \"/ebio/abt3_projects/databases_no-backup/CAMI/CAMI2_HMP-gut/short_read//ResMiCo-SM/features/2017.12.04_18.45.54_sample_0/NA/NA/NA/NA/megahit/features.tsv.gz\"   \n",
       "[2] \"/ebio/abt3_projects/databases_no-backup/CAMI/CAMI2_HMP-gut/short_read//ResMiCo-SM/features/2017.12.04_18.45.54_sample_0/NA/NA/NA/NA/metaspades/features.tsv.gz\"\n",
       "[3] \"/ebio/abt3_projects/databases_no-backup/CAMI/CAMI2_HMP-gut/short_read//ResMiCo-SM/features/2017.12.04_18.45.54_sample_1/NA/NA/NA/NA/megahit/features.tsv.gz\"   "
      ]
     },
     "metadata": {},
     "output_type": "display_data"
    }
   ],
   "source": [
    "P = file.path(work_dir, 'ResMiCo-SM', 'features')\n",
    "feat_files = list_files(P, 'features.tsv.gz')\n",
    "feat_files %>% length\n",
    "feat_files %>% head(n=3)"
   ]
  },
  {
   "cell_type": "code",
   "execution_count": 138,
   "id": "9c043138",
   "metadata": {
    "ExecuteTime": {
     "end_time": "2021-08-11T19:37:07.919692Z",
     "start_time": "2021-08-11T19:27:14.228Z"
    }
   },
   "outputs": [
    {
     "data": {
      "text/html": [
       "<table class=\"dataframe\">\n",
       "<caption>A data.table: 436500 × 4</caption>\n",
       "<thead>\n",
       "\t<tr><th scope=col>assembler</th><th scope=col>contig</th><th scope=col>Extensive_misassembly</th><th scope=col>sample</th></tr>\n",
       "\t<tr><th scope=col>&lt;chr&gt;</th><th scope=col>&lt;chr&gt;</th><th scope=col>&lt;int&gt;</th><th scope=col>&lt;chr&gt;</th></tr>\n",
       "</thead>\n",
       "<tbody>\n",
       "\t<tr><td>megahit</td><td>k141_19855</td><td>0</td><td>2017.12.04_18.45.54_sample_0</td></tr>\n",
       "\t<tr><td>megahit</td><td>k141_29760</td><td>0</td><td>2017.12.04_18.45.54_sample_0</td></tr>\n",
       "\t<tr><td>⋮</td><td>⋮</td><td>⋮</td><td>⋮</td></tr>\n",
       "\t<tr><td>metaspades</td><td>NODE_2958_length_3452_cov_6.186341</td><td>0</td><td>2017.12.04_18.45.54_sample_9</td></tr>\n",
       "\t<tr><td>metaspades</td><td>NODE_2959_length_3452_cov_4.206653</td><td>0</td><td>2017.12.04_18.45.54_sample_9</td></tr>\n",
       "</tbody>\n",
       "</table>\n"
      ],
      "text/latex": [
       "A data.table: 436500 × 4\n",
       "\\begin{tabular}{llll}\n",
       " assembler & contig & Extensive\\_misassembly & sample\\\\\n",
       " <chr> & <chr> & <int> & <chr>\\\\\n",
       "\\hline\n",
       "\t megahit & k141\\_19855 & 0 & 2017.12.04\\_18.45.54\\_sample\\_0\\\\\n",
       "\t megahit & k141\\_29760 & 0 & 2017.12.04\\_18.45.54\\_sample\\_0\\\\\n",
       "\t ⋮ & ⋮ & ⋮ & ⋮\\\\\n",
       "\t metaspades & NODE\\_2958\\_length\\_3452\\_cov\\_6.186341 & 0 & 2017.12.04\\_18.45.54\\_sample\\_9\\\\\n",
       "\t metaspades & NODE\\_2959\\_length\\_3452\\_cov\\_4.206653 & 0 & 2017.12.04\\_18.45.54\\_sample\\_9\\\\\n",
       "\\end{tabular}\n"
      ],
      "text/markdown": [
       "\n",
       "A data.table: 436500 × 4\n",
       "\n",
       "| assembler &lt;chr&gt; | contig &lt;chr&gt; | Extensive_misassembly &lt;int&gt; | sample &lt;chr&gt; |\n",
       "|---|---|---|---|\n",
       "| megahit | k141_19855 | 0 | 2017.12.04_18.45.54_sample_0 |\n",
       "| megahit | k141_29760 | 0 | 2017.12.04_18.45.54_sample_0 |\n",
       "| ⋮ | ⋮ | ⋮ | ⋮ |\n",
       "| metaspades | NODE_2958_length_3452_cov_6.186341 | 0 | 2017.12.04_18.45.54_sample_9 |\n",
       "| metaspades | NODE_2959_length_3452_cov_4.206653 | 0 | 2017.12.04_18.45.54_sample_9 |\n",
       "\n"
      ],
      "text/plain": [
       "       assembler  contig                             Extensive_misassembly\n",
       "1      megahit    k141_19855                         0                    \n",
       "2      megahit    k141_29760                         0                    \n",
       "⋮      ⋮          ⋮                                  ⋮                    \n",
       "436499 metaspades NODE_2958_length_3452_cov_6.186341 0                    \n",
       "436500 metaspades NODE_2959_length_3452_cov_4.206653 0                    \n",
       "       sample                      \n",
       "1      2017.12.04_18.45.54_sample_0\n",
       "2      2017.12.04_18.45.54_sample_0\n",
       "⋮      ⋮                           \n",
       "436499 2017.12.04_18.45.54_sample_9\n",
       "436500 2017.12.04_18.45.54_sample_9"
      ]
     },
     "metadata": {},
     "output_type": "display_data"
    }
   ],
   "source": [
    "read_feat_mis = function(F){\n",
    "    df = Fread(F) %>%\n",
    "        select.(assembler, contig, Extensive_misassembly) %>%\n",
    "        summarize.(Extensive_misassembly = first(Extensive_misassembly),\n",
    "                   .by=c(assembler, contig))\n",
    "    x = unlist(strsplit(F, '/'))\n",
    "    df$sample = x[length(x)-6]\n",
    "    return(df)\n",
    "}\n",
    "doParallel::registerDoParallel(6)\n",
    "true_mis = feat_files %>%\n",
    "    plyr::llply(read_feat_mis, .parallel=TRUE) %>%\n",
    "    rbindlist(use.names=TRUE) \n",
    "true_mis"
   ]
  },
  {
   "cell_type": "markdown",
   "id": "5b13f3cd",
   "metadata": {},
   "source": [
    "#### metaMIC contig scores\n",
    "\n",
    "misassembly classification cutoff:\n",
    "\n",
    "* MEGAHIT = 0.8\n",
    "* IDBA_UD = 0.5\n",
    "* other assemblers = `quantile(metaMIC_contig_score, 0.95))`"
   ]
  },
  {
   "cell_type": "code",
   "execution_count": 139,
   "id": "13616923",
   "metadata": {
    "ExecuteTime": {
     "end_time": "2021-08-11T19:37:08.019954Z",
     "start_time": "2021-08-11T19:27:16.489Z"
    }
   },
   "outputs": [
    {
     "data": {
      "text/html": [
       "20"
      ],
      "text/latex": [
       "20"
      ],
      "text/markdown": [
       "20"
      ],
      "text/plain": [
       "[1] 20"
      ]
     },
     "metadata": {},
     "output_type": "display_data"
    },
    {
     "data": {
      "text/html": [
       "<style>\n",
       ".list-inline {list-style: none; margin:0; padding: 0}\n",
       ".list-inline>li {display: inline-block}\n",
       ".list-inline>li:not(:last-child)::after {content: \"\\00b7\"; padding: 0 .5ex}\n",
       "</style>\n",
       "<ol class=list-inline><li>'/ebio/abt3_projects/databases_no-backup/CAMI/CAMI2_HMP-gut/short_read//ResMiCo-SM/metaMIC/2017.12.04_18.45.54_sample_0/NA/NA/NA/NA/megahit/metaMIC/metaMIC_contig_score.txt.gz'</li><li>'/ebio/abt3_projects/databases_no-backup/CAMI/CAMI2_HMP-gut/short_read//ResMiCo-SM/metaMIC/2017.12.04_18.45.54_sample_0/NA/NA/NA/NA/metaspades/metaMIC/metaMIC_contig_score.txt.gz'</li><li>'/ebio/abt3_projects/databases_no-backup/CAMI/CAMI2_HMP-gut/short_read//ResMiCo-SM/metaMIC/2017.12.04_18.45.54_sample_1/NA/NA/NA/NA/megahit/metaMIC/metaMIC_contig_score.txt.gz'</li></ol>\n"
      ],
      "text/latex": [
       "\\begin{enumerate*}\n",
       "\\item '/ebio/abt3\\_projects/databases\\_no-backup/CAMI/CAMI2\\_HMP-gut/short\\_read//ResMiCo-SM/metaMIC/2017.12.04\\_18.45.54\\_sample\\_0/NA/NA/NA/NA/megahit/metaMIC/metaMIC\\_contig\\_score.txt.gz'\n",
       "\\item '/ebio/abt3\\_projects/databases\\_no-backup/CAMI/CAMI2\\_HMP-gut/short\\_read//ResMiCo-SM/metaMIC/2017.12.04\\_18.45.54\\_sample\\_0/NA/NA/NA/NA/metaspades/metaMIC/metaMIC\\_contig\\_score.txt.gz'\n",
       "\\item '/ebio/abt3\\_projects/databases\\_no-backup/CAMI/CAMI2\\_HMP-gut/short\\_read//ResMiCo-SM/metaMIC/2017.12.04\\_18.45.54\\_sample\\_1/NA/NA/NA/NA/megahit/metaMIC/metaMIC\\_contig\\_score.txt.gz'\n",
       "\\end{enumerate*}\n"
      ],
      "text/markdown": [
       "1. '/ebio/abt3_projects/databases_no-backup/CAMI/CAMI2_HMP-gut/short_read//ResMiCo-SM/metaMIC/2017.12.04_18.45.54_sample_0/NA/NA/NA/NA/megahit/metaMIC/metaMIC_contig_score.txt.gz'\n",
       "2. '/ebio/abt3_projects/databases_no-backup/CAMI/CAMI2_HMP-gut/short_read//ResMiCo-SM/metaMIC/2017.12.04_18.45.54_sample_0/NA/NA/NA/NA/metaspades/metaMIC/metaMIC_contig_score.txt.gz'\n",
       "3. '/ebio/abt3_projects/databases_no-backup/CAMI/CAMI2_HMP-gut/short_read//ResMiCo-SM/metaMIC/2017.12.04_18.45.54_sample_1/NA/NA/NA/NA/megahit/metaMIC/metaMIC_contig_score.txt.gz'\n",
       "\n",
       "\n"
      ],
      "text/plain": [
       "[1] \"/ebio/abt3_projects/databases_no-backup/CAMI/CAMI2_HMP-gut/short_read//ResMiCo-SM/metaMIC/2017.12.04_18.45.54_sample_0/NA/NA/NA/NA/megahit/metaMIC/metaMIC_contig_score.txt.gz\"   \n",
       "[2] \"/ebio/abt3_projects/databases_no-backup/CAMI/CAMI2_HMP-gut/short_read//ResMiCo-SM/metaMIC/2017.12.04_18.45.54_sample_0/NA/NA/NA/NA/metaspades/metaMIC/metaMIC_contig_score.txt.gz\"\n",
       "[3] \"/ebio/abt3_projects/databases_no-backup/CAMI/CAMI2_HMP-gut/short_read//ResMiCo-SM/metaMIC/2017.12.04_18.45.54_sample_1/NA/NA/NA/NA/megahit/metaMIC/metaMIC_contig_score.txt.gz\"   "
      ]
     },
     "metadata": {},
     "output_type": "display_data"
    }
   ],
   "source": [
    "P = file.path(work_dir, 'ResMiCo-SM', 'metaMIC')\n",
    "files = list_files(P, 'metaMIC_contig_score.txt.gz')\n",
    "files %>% length\n",
    "files %>% head(n=3)"
   ]
  },
  {
   "cell_type": "code",
   "execution_count": 140,
   "id": "1e50f2df",
   "metadata": {
    "ExecuteTime": {
     "end_time": "2021-08-11T19:37:10.900433Z",
     "start_time": "2021-08-11T19:27:16.645Z"
    }
   },
   "outputs": [
    {
     "data": {
      "text/html": [
       "<table class=\"dataframe\">\n",
       "<caption>A data.table: 411240 × 5</caption>\n",
       "<thead>\n",
       "\t<tr><th scope=col>contig</th><th scope=col>metaMIC_contig_score</th><th scope=col>length</th><th scope=col>sample</th><th scope=col>assembler</th></tr>\n",
       "\t<tr><th scope=col>&lt;chr&gt;</th><th scope=col>&lt;dbl&gt;</th><th scope=col>&lt;dbl&gt;</th><th scope=col>&lt;chr&gt;</th><th scope=col>&lt;chr&gt;</th></tr>\n",
       "</thead>\n",
       "<tbody>\n",
       "\t<tr><td>k141_1000 </td><td>0.27085</td><td>2063</td><td>2017.12.04_18.45.54_sample_0</td><td>megahit</td></tr>\n",
       "\t<tr><td>k141_10004</td><td>0.34295</td><td>1134</td><td>2017.12.04_18.45.54_sample_0</td><td>megahit</td></tr>\n",
       "\t<tr><td>⋮</td><td>⋮</td><td>⋮</td><td>⋮</td><td>⋮</td></tr>\n",
       "\t<tr><td>NODE_99_length_72941_cov_20.897580</td><td>0.4496</td><td> 72941</td><td>2017.12.04_18.45.54_sample_9</td><td>metaspades</td></tr>\n",
       "\t<tr><td>NODE_9_length_310917_cov_27.051335</td><td>0.4324</td><td>310917</td><td>2017.12.04_18.45.54_sample_9</td><td>metaspades</td></tr>\n",
       "</tbody>\n",
       "</table>\n"
      ],
      "text/latex": [
       "A data.table: 411240 × 5\n",
       "\\begin{tabular}{lllll}\n",
       " contig & metaMIC\\_contig\\_score & length & sample & assembler\\\\\n",
       " <chr> & <dbl> & <dbl> & <chr> & <chr>\\\\\n",
       "\\hline\n",
       "\t k141\\_1000  & 0.27085 & 2063 & 2017.12.04\\_18.45.54\\_sample\\_0 & megahit\\\\\n",
       "\t k141\\_10004 & 0.34295 & 1134 & 2017.12.04\\_18.45.54\\_sample\\_0 & megahit\\\\\n",
       "\t ⋮ & ⋮ & ⋮ & ⋮ & ⋮\\\\\n",
       "\t NODE\\_99\\_length\\_72941\\_cov\\_20.897580 & 0.4496 &  72941 & 2017.12.04\\_18.45.54\\_sample\\_9 & metaspades\\\\\n",
       "\t NODE\\_9\\_length\\_310917\\_cov\\_27.051335 & 0.4324 & 310917 & 2017.12.04\\_18.45.54\\_sample\\_9 & metaspades\\\\\n",
       "\\end{tabular}\n"
      ],
      "text/markdown": [
       "\n",
       "A data.table: 411240 × 5\n",
       "\n",
       "| contig &lt;chr&gt; | metaMIC_contig_score &lt;dbl&gt; | length &lt;dbl&gt; | sample &lt;chr&gt; | assembler &lt;chr&gt; |\n",
       "|---|---|---|---|---|\n",
       "| k141_1000  | 0.27085 | 2063 | 2017.12.04_18.45.54_sample_0 | megahit |\n",
       "| k141_10004 | 0.34295 | 1134 | 2017.12.04_18.45.54_sample_0 | megahit |\n",
       "| ⋮ | ⋮ | ⋮ | ⋮ | ⋮ |\n",
       "| NODE_99_length_72941_cov_20.897580 | 0.4496 |  72941 | 2017.12.04_18.45.54_sample_9 | metaspades |\n",
       "| NODE_9_length_310917_cov_27.051335 | 0.4324 | 310917 | 2017.12.04_18.45.54_sample_9 | metaspades |\n",
       "\n"
      ],
      "text/plain": [
       "       contig                             metaMIC_contig_score length\n",
       "1      k141_1000                          0.27085              2063  \n",
       "2      k141_10004                         0.34295              1134  \n",
       "⋮      ⋮                                  ⋮                    ⋮     \n",
       "411239 NODE_99_length_72941_cov_20.897580 0.4496                72941\n",
       "411240 NODE_9_length_310917_cov_27.051335 0.4324               310917\n",
       "       sample                       assembler \n",
       "1      2017.12.04_18.45.54_sample_0 megahit   \n",
       "2      2017.12.04_18.45.54_sample_0 megahit   \n",
       "⋮      ⋮                            ⋮         \n",
       "411239 2017.12.04_18.45.54_sample_9 metaspades\n",
       "411240 2017.12.04_18.45.54_sample_9 metaspades"
      ]
     },
     "metadata": {},
     "output_type": "display_data"
    }
   ],
   "source": [
    "read_table = function(F){\n",
    "    df = Fread(F) \n",
    "    x = unlist(strsplit(F, '/'))\n",
    "    df$sample = x[length(x)-7]\n",
    "    df$assembler = x[length(x)-2]\n",
    "    return(df)\n",
    "}\n",
    "mMIC = files %>%\n",
    "    plyr::llply(read_table, .parallel=FALSE) %>%\n",
    "    rbindlist(use.names=TRUE) \n",
    "mMIC"
   ]
  },
  {
   "cell_type": "code",
   "execution_count": 141,
   "id": "6423cc91",
   "metadata": {
    "ExecuteTime": {
     "end_time": "2021-08-11T19:37:11.938902Z",
     "start_time": "2021-08-11T19:27:17.892Z"
    }
   },
   "outputs": [
    {
     "name": "stdout",
     "output_type": "stream",
     "text": [
      "intersect(x,y): 280287 \n",
      "setdiff(x,y): 0 \n",
      "setdiff(y,x): 6004 \n",
      "union(x,y): 286291 \n"
     ]
    },
    {
     "data": {
      "text/html": [
       "<table class=\"dataframe\">\n",
       "<caption>A tidytable: 411240 × 6</caption>\n",
       "<thead>\n",
       "\t<tr><th scope=col>contig</th><th scope=col>metaMIC_contig_score</th><th scope=col>length</th><th scope=col>sample</th><th scope=col>assembler</th><th scope=col>Extensive_misassembly</th></tr>\n",
       "\t<tr><th scope=col>&lt;chr&gt;</th><th scope=col>&lt;dbl&gt;</th><th scope=col>&lt;dbl&gt;</th><th scope=col>&lt;chr&gt;</th><th scope=col>&lt;chr&gt;</th><th scope=col>&lt;int&gt;</th></tr>\n",
       "</thead>\n",
       "<tbody>\n",
       "\t<tr><td>k141_19855</td><td>0.13525</td><td>1053</td><td>2017.12.04_18.45.54_sample_0</td><td>megahit</td><td>0</td></tr>\n",
       "\t<tr><td>k141_14   </td><td>0.25745</td><td>1566</td><td>2017.12.04_18.45.54_sample_0</td><td>megahit</td><td>0</td></tr>\n",
       "\t<tr><td>⋮</td><td>⋮</td><td>⋮</td><td>⋮</td><td>⋮</td><td>⋮</td></tr>\n",
       "\t<tr><td>NODE_2958_length_3452_cov_6.186341</td><td>0.28470</td><td>3452</td><td>2017.12.04_18.45.54_sample_9</td><td>metaspades</td><td>0</td></tr>\n",
       "\t<tr><td>NODE_2959_length_3452_cov_4.206653</td><td>0.27215</td><td>3452</td><td>2017.12.04_18.45.54_sample_9</td><td>metaspades</td><td>0</td></tr>\n",
       "</tbody>\n",
       "</table>\n"
      ],
      "text/latex": [
       "A tidytable: 411240 × 6\n",
       "\\begin{tabular}{llllll}\n",
       " contig & metaMIC\\_contig\\_score & length & sample & assembler & Extensive\\_misassembly\\\\\n",
       " <chr> & <dbl> & <dbl> & <chr> & <chr> & <int>\\\\\n",
       "\\hline\n",
       "\t k141\\_19855 & 0.13525 & 1053 & 2017.12.04\\_18.45.54\\_sample\\_0 & megahit & 0\\\\\n",
       "\t k141\\_14    & 0.25745 & 1566 & 2017.12.04\\_18.45.54\\_sample\\_0 & megahit & 0\\\\\n",
       "\t ⋮ & ⋮ & ⋮ & ⋮ & ⋮ & ⋮\\\\\n",
       "\t NODE\\_2958\\_length\\_3452\\_cov\\_6.186341 & 0.28470 & 3452 & 2017.12.04\\_18.45.54\\_sample\\_9 & metaspades & 0\\\\\n",
       "\t NODE\\_2959\\_length\\_3452\\_cov\\_4.206653 & 0.27215 & 3452 & 2017.12.04\\_18.45.54\\_sample\\_9 & metaspades & 0\\\\\n",
       "\\end{tabular}\n"
      ],
      "text/markdown": [
       "\n",
       "A tidytable: 411240 × 6\n",
       "\n",
       "| contig &lt;chr&gt; | metaMIC_contig_score &lt;dbl&gt; | length &lt;dbl&gt; | sample &lt;chr&gt; | assembler &lt;chr&gt; | Extensive_misassembly &lt;int&gt; |\n",
       "|---|---|---|---|---|---|\n",
       "| k141_19855 | 0.13525 | 1053 | 2017.12.04_18.45.54_sample_0 | megahit | 0 |\n",
       "| k141_14    | 0.25745 | 1566 | 2017.12.04_18.45.54_sample_0 | megahit | 0 |\n",
       "| ⋮ | ⋮ | ⋮ | ⋮ | ⋮ | ⋮ |\n",
       "| NODE_2958_length_3452_cov_6.186341 | 0.28470 | 3452 | 2017.12.04_18.45.54_sample_9 | metaspades | 0 |\n",
       "| NODE_2959_length_3452_cov_4.206653 | 0.27215 | 3452 | 2017.12.04_18.45.54_sample_9 | metaspades | 0 |\n",
       "\n"
      ],
      "text/plain": [
       "       contig                             metaMIC_contig_score length\n",
       "1      k141_19855                         0.13525              1053  \n",
       "2      k141_14                            0.25745              1566  \n",
       "⋮      ⋮                                  ⋮                    ⋮     \n",
       "411239 NODE_2958_length_3452_cov_6.186341 0.28470              3452  \n",
       "411240 NODE_2959_length_3452_cov_4.206653 0.27215              3452  \n",
       "       sample                       assembler  Extensive_misassembly\n",
       "1      2017.12.04_18.45.54_sample_0 megahit    0                    \n",
       "2      2017.12.04_18.45.54_sample_0 megahit    0                    \n",
       "⋮      ⋮                            ⋮          ⋮                    \n",
       "411239 2017.12.04_18.45.54_sample_9 metaspades 0                    \n",
       "411240 2017.12.04_18.45.54_sample_9 metaspades 0                    "
      ]
     },
     "metadata": {},
     "output_type": "display_data"
    }
   ],
   "source": [
    "overlap(mMIC$contig, true_mis$contig)\n",
    "mMIC = mMIC %>%\n",
    "    inner_join.(true_mis, c('sample', 'assembler', 'contig')) %>%\n",
    "    mutate.(metaMIC_contig_score = ifelse(is.na(metaMIC_contig_score), 0, metaMIC_contig_score))\n",
    "mMIC"
   ]
  },
  {
   "cell_type": "code",
   "execution_count": 142,
   "id": "257faf75",
   "metadata": {
    "ExecuteTime": {
     "end_time": "2021-08-11T19:37:11.982914Z",
     "start_time": "2021-08-11T19:27:18.658Z"
    }
   },
   "outputs": [
    {
     "name": "stdout",
     "output_type": "stream",
     "text": [
      "metaspades cutoff: 0.54245 \n"
     ]
    }
   ],
   "source": [
    "# contig cutoff\n",
    "ms_cutoff = mMIC %>%\n",
    "    filter.(assembler == 'metaspades') %>%\n",
    "    .$metaMIC_contig_score %>% quantile(0.95)\n",
    "cat('metaspades cutoff:', ms_cutoff, '\\n')"
   ]
  },
  {
   "cell_type": "code",
   "execution_count": 143,
   "id": "fd872bfa",
   "metadata": {
    "ExecuteTime": {
     "end_time": "2021-08-11T19:37:12.160868Z",
     "start_time": "2021-08-11T19:27:19.868Z"
    }
   },
   "outputs": [
    {
     "data": {
      "text/html": [
       "<table class=\"dataframe\">\n",
       "<caption>A tidytable: 20 × 6</caption>\n",
       "<thead>\n",
       "\t<tr><th scope=col>sample</th><th scope=col>assembler</th><th scope=col>TP</th><th scope=col>TN</th><th scope=col>FP</th><th scope=col>FN</th></tr>\n",
       "\t<tr><th scope=col>&lt;chr&gt;</th><th scope=col>&lt;chr&gt;</th><th scope=col>&lt;int&gt;</th><th scope=col>&lt;int&gt;</th><th scope=col>&lt;int&gt;</th><th scope=col>&lt;int&gt;</th></tr>\n",
       "</thead>\n",
       "<tbody>\n",
       "\t<tr><td>2017.12.04_18.45.54_sample_0</td><td>megahit   </td><td> 0</td><td>14788</td><td>  0</td><td>314</td></tr>\n",
       "\t<tr><td>2017.12.04_18.45.54_sample_0</td><td>metaspades</td><td>42</td><td>10495</td><td>493</td><td> 62</td></tr>\n",
       "\t<tr><td>⋮</td><td>⋮</td><td>⋮</td><td>⋮</td><td>⋮</td><td>⋮</td></tr>\n",
       "\t<tr><td>2017.12.04_18.45.54_sample_9</td><td>megahit   </td><td> 0</td><td>32667</td><td>   0</td><td>531</td></tr>\n",
       "\t<tr><td>2017.12.04_18.45.54_sample_9</td><td>metaspades</td><td>58</td><td>22162</td><td>1187</td><td>109</td></tr>\n",
       "</tbody>\n",
       "</table>\n"
      ],
      "text/latex": [
       "A tidytable: 20 × 6\n",
       "\\begin{tabular}{llllll}\n",
       " sample & assembler & TP & TN & FP & FN\\\\\n",
       " <chr> & <chr> & <int> & <int> & <int> & <int>\\\\\n",
       "\\hline\n",
       "\t 2017.12.04\\_18.45.54\\_sample\\_0 & megahit    &  0 & 14788 &   0 & 314\\\\\n",
       "\t 2017.12.04\\_18.45.54\\_sample\\_0 & metaspades & 42 & 10495 & 493 &  62\\\\\n",
       "\t ⋮ & ⋮ & ⋮ & ⋮ & ⋮ & ⋮\\\\\n",
       "\t 2017.12.04\\_18.45.54\\_sample\\_9 & megahit    &  0 & 32667 &    0 & 531\\\\\n",
       "\t 2017.12.04\\_18.45.54\\_sample\\_9 & metaspades & 58 & 22162 & 1187 & 109\\\\\n",
       "\\end{tabular}\n"
      ],
      "text/markdown": [
       "\n",
       "A tidytable: 20 × 6\n",
       "\n",
       "| sample &lt;chr&gt; | assembler &lt;chr&gt; | TP &lt;int&gt; | TN &lt;int&gt; | FP &lt;int&gt; | FN &lt;int&gt; |\n",
       "|---|---|---|---|---|---|\n",
       "| 2017.12.04_18.45.54_sample_0 | megahit    |  0 | 14788 |   0 | 314 |\n",
       "| 2017.12.04_18.45.54_sample_0 | metaspades | 42 | 10495 | 493 |  62 |\n",
       "| ⋮ | ⋮ | ⋮ | ⋮ | ⋮ | ⋮ |\n",
       "| 2017.12.04_18.45.54_sample_9 | megahit    |  0 | 32667 |    0 | 531 |\n",
       "| 2017.12.04_18.45.54_sample_9 | metaspades | 58 | 22162 | 1187 | 109 |\n",
       "\n"
      ],
      "text/plain": [
       "   sample                       assembler  TP TN    FP   FN \n",
       "1  2017.12.04_18.45.54_sample_0 megahit     0 14788   0  314\n",
       "2  2017.12.04_18.45.54_sample_0 metaspades 42 10495 493   62\n",
       "⋮  ⋮                            ⋮          ⋮  ⋮     ⋮    ⋮  \n",
       "19 2017.12.04_18.45.54_sample_9 megahit     0 32667    0 531\n",
       "20 2017.12.04_18.45.54_sample_9 metaspades 58 22162 1187 109"
      ]
     },
     "metadata": {},
     "output_type": "display_data"
    }
   ],
   "source": [
    "mMIC_s = mMIC %>%\n",
    "    mutate.(prediction = ifelse(assembler == 'megahit', \n",
    "                                 metaMIC_contig_score >= 0.8,\n",
    "                                 metaMIC_contig_score >= ms_cutoff)) %>%\n",
    "    mutate.(prediction = ifelse(prediction == TRUE, 1, 0)) %>%\n",
    "    mutate.(TP = prediction == 1 & Extensive_misassembly == 1,\n",
    "            TN = prediction == 0 & Extensive_misassembly == 0,\n",
    "            FP = prediction == 1 & Extensive_misassembly == 0,\n",
    "            FN = prediction == 0 & Extensive_misassembly == 1) %>%\n",
    "    summarize.(TP = sum(TP),\n",
    "               TN = sum(TN),\n",
    "               FP = sum(FP),\n",
    "               FN = sum(FN),\n",
    "               .by=c(sample, assembler)) \n",
    "mMIC_s"
   ]
  },
  {
   "cell_type": "code",
   "execution_count": 144,
   "id": "e3305237",
   "metadata": {
    "ExecuteTime": {
     "end_time": "2021-08-11T19:37:12.681200Z",
     "start_time": "2021-08-11T19:27:20.458Z"
    }
   },
   "outputs": [
    {
     "data": {
      "image/png": "[encoded data removed]",
      "text/plain": [
       "plot without title"
      ]
     },
     "metadata": {
      "image/png": {
       "height": 300,
       "width": 500
      }
     },
     "output_type": "display_data"
    }
   ],
   "source": [
    "# plotting\n",
    "p = mMIC_s %>%\n",
    "    pivot_longer.(cols=c(-sample, -assembler)) %>%\n",
    "    ggplot(aes(assembler, value)) +\n",
    "    geom_boxplot() +\n",
    "    facet_wrap(~ name, scales='free_y') +\n",
    "    theme_bw()\n",
    "p.dims(5,3)\n",
    "plot(p)"
   ]
  },
  {
   "cell_type": "code",
   "execution_count": 145,
   "id": "f0e1db24",
   "metadata": {
    "ExecuteTime": {
     "end_time": "2021-08-11T19:37:12.721290Z",
     "start_time": "2021-08-11T19:27:20.970Z"
    }
   },
   "outputs": [
    {
     "data": {
      "text/html": [
       "<table class=\"dataframe\">\n",
       "<caption>A tidytable: 20 × 3</caption>\n",
       "<thead>\n",
       "\t<tr><th scope=col>sample</th><th scope=col>assembler</th><th scope=col>accuracy</th></tr>\n",
       "\t<tr><th scope=col>&lt;chr&gt;</th><th scope=col>&lt;chr&gt;</th><th scope=col>&lt;dbl&gt;</th></tr>\n",
       "</thead>\n",
       "<tbody>\n",
       "\t<tr><td>2017.12.04_18.45.54_sample_0</td><td>megahit   </td><td>0.9792081</td></tr>\n",
       "\t<tr><td>2017.12.04_18.45.54_sample_0</td><td>metaspades</td><td>0.9499639</td></tr>\n",
       "\t<tr><td>⋮</td><td>⋮</td><td>⋮</td></tr>\n",
       "\t<tr><td>2017.12.04_18.45.54_sample_9</td><td>megahit   </td><td>0.9840051</td></tr>\n",
       "\t<tr><td>2017.12.04_18.45.54_sample_9</td><td>metaspades</td><td>0.9448886</td></tr>\n",
       "</tbody>\n",
       "</table>\n"
      ],
      "text/latex": [
       "A tidytable: 20 × 3\n",
       "\\begin{tabular}{lll}\n",
       " sample & assembler & accuracy\\\\\n",
       " <chr> & <chr> & <dbl>\\\\\n",
       "\\hline\n",
       "\t 2017.12.04\\_18.45.54\\_sample\\_0 & megahit    & 0.9792081\\\\\n",
       "\t 2017.12.04\\_18.45.54\\_sample\\_0 & metaspades & 0.9499639\\\\\n",
       "\t ⋮ & ⋮ & ⋮\\\\\n",
       "\t 2017.12.04\\_18.45.54\\_sample\\_9 & megahit    & 0.9840051\\\\\n",
       "\t 2017.12.04\\_18.45.54\\_sample\\_9 & metaspades & 0.9448886\\\\\n",
       "\\end{tabular}\n"
      ],
      "text/markdown": [
       "\n",
       "A tidytable: 20 × 3\n",
       "\n",
       "| sample &lt;chr&gt; | assembler &lt;chr&gt; | accuracy &lt;dbl&gt; |\n",
       "|---|---|---|\n",
       "| 2017.12.04_18.45.54_sample_0 | megahit    | 0.9792081 |\n",
       "| 2017.12.04_18.45.54_sample_0 | metaspades | 0.9499639 |\n",
       "| ⋮ | ⋮ | ⋮ |\n",
       "| 2017.12.04_18.45.54_sample_9 | megahit    | 0.9840051 |\n",
       "| 2017.12.04_18.45.54_sample_9 | metaspades | 0.9448886 |\n",
       "\n"
      ],
      "text/plain": [
       "   sample                       assembler  accuracy \n",
       "1  2017.12.04_18.45.54_sample_0 megahit    0.9792081\n",
       "2  2017.12.04_18.45.54_sample_0 metaspades 0.9499639\n",
       "⋮  ⋮                            ⋮          ⋮        \n",
       "19 2017.12.04_18.45.54_sample_9 megahit    0.9840051\n",
       "20 2017.12.04_18.45.54_sample_9 metaspades 0.9448886"
      ]
     },
     "metadata": {},
     "output_type": "display_data"
    }
   ],
   "source": [
    "# accuracy\n",
    "mMIC_ss = mMIC_s %>%\n",
    "    summarize.(accuracy = (TP + TN) / (TP + TN + FP + FN),\n",
    "               .by=c(sample, assembler))\n",
    "mMIC_ss"
   ]
  },
  {
   "cell_type": "code",
   "execution_count": 146,
   "id": "e8e793bc",
   "metadata": {
    "ExecuteTime": {
     "end_time": "2021-08-11T19:37:12.975342Z",
     "start_time": "2021-08-11T19:27:21.586Z"
    }
   },
   "outputs": [
    {
     "data": {
      "image/png": "[encoded data removed]",
      "text/plain": [
       "plot without title"
      ]
     },
     "metadata": {
      "image/png": {
       "height": 230,
       "width": 300
      }
     },
     "output_type": "display_data"
    }
   ],
   "source": [
    "# calculations\n",
    "p = mMIC_ss %>%\n",
    "    ggplot(aes(assembler, accuracy)) +\n",
    "    geom_boxplot() +\n",
    "    theme_bw()\n",
    "p.dims(3,2.3)\n",
    "plot(p)"
   ]
  },
  {
   "cell_type": "markdown",
   "id": "d853fd4c",
   "metadata": {},
   "source": [
    "#### AUCPR"
   ]
  },
  {
   "cell_type": "code",
   "execution_count": 147,
   "id": "82fc0667",
   "metadata": {
    "ExecuteTime": {
     "end_time": "2021-08-11T19:37:13.574126Z",
     "start_time": "2021-08-11T19:27:22.569Z"
    }
   },
   "outputs": [
    {
     "data": {
      "image/png": "[encoded data removed]",
      "text/plain": [
       "plot without title"
      ]
     },
     "metadata": {
      "image/png": {
       "height": 220,
       "width": 300
      }
     },
     "output_type": "display_data"
    }
   ],
   "source": [
    "p = mMIC %>%\n",
    "    mutate.(Extensive_misassembly = Extensive_misassembly == 1) %>%\n",
    "    ggplot(aes(Extensive_misassembly, metaMIC_contig_score)) +\n",
    "    geom_boxplot() +\n",
    "    theme_bw()\n",
    "p.dims(3,2.2)\n",
    "plot(p)"
   ]
  },
  {
   "cell_type": "code",
   "execution_count": 148,
   "id": "eb3bdf6c",
   "metadata": {
    "ExecuteTime": {
     "end_time": "2021-08-11T19:37:13.750025Z",
     "start_time": "2021-08-11T19:27:22.747Z"
    }
   },
   "outputs": [
    {
     "data": {
      "text/plain": [
       "\n",
       "  Precision-recall curve\n",
       "\n",
       "    Area under curve (Integral):\n",
       "     0.09983698 \n",
       "\n",
       "    Area under curve (Davis & Goadrich):\n",
       "     0.09983521 \n",
       "\n",
       "    Curve for scores from  0.0127  to  0.78375 \n",
       "    ( can be plotted with plot(x) )\n"
      ]
     },
     "metadata": {},
     "output_type": "display_data"
    }
   ],
   "source": [
    "fg = mMIC %>%\n",
    "    filter.(Extensive_misassembly == 1,\n",
    "            assembler == 'megahit') %>%\n",
    "    .$metaMIC_contig_score\n",
    "bg = mMIC %>%\n",
    "    filter.(Extensive_misassembly == 0,\n",
    "            assembler == 'megahit') %>%\n",
    "    .$metaMIC_contig_score\n",
    "pr = pr.curve(scores.class0 = fg, scores.class1 = bg, curve=TRUE)\n",
    "pr"
   ]
  },
  {
   "cell_type": "code",
   "execution_count": 149,
   "id": "887fff7e",
   "metadata": {
    "ExecuteTime": {
     "end_time": "2021-08-11T19:37:14.211846Z",
     "start_time": "2021-08-11T19:27:23.236Z"
    }
   },
   "outputs": [
    {
     "data": {
      "image/png": "[encoded data removed]",
      "text/plain": [
       "Plot with title “PR curve\n",
       "AUC = 0.09983698”"
      ]
     },
     "metadata": {
      "image/png": {
       "height": 400,
       "width": 600
      }
     },
     "output_type": "display_data"
    }
   ],
   "source": [
    "# pr curve\n",
    "p.dims(6,4)\n",
    "plot(pr)"
   ]
  },
  {
   "cell_type": "code",
   "execution_count": 150,
   "id": "b86be1b5",
   "metadata": {
    "ExecuteTime": {
     "end_time": "2021-08-11T19:37:14.391291Z",
     "start_time": "2021-08-11T19:27:23.666Z"
    }
   },
   "outputs": [
    {
     "data": {
      "text/plain": [
       "\n",
       "  Precision-recall curve\n",
       "\n",
       "    Area under curve (Integral):\n",
       "     0.04093489 \n",
       "\n",
       "    Area under curve (Davis & Goadrich):\n",
       "     0.04091601 \n",
       "\n",
       "    Curve for scores from  0.01225  to  0.7387 \n",
       "    ( can be plotted with plot(x) )\n"
      ]
     },
     "metadata": {},
     "output_type": "display_data"
    }
   ],
   "source": [
    "fg = mMIC %>%\n",
    "    filter.(Extensive_misassembly == 1,\n",
    "            assembler == 'metaspades') %>%\n",
    "    .$metaMIC_contig_score\n",
    "bg = mMIC %>%\n",
    "    filter.(Extensive_misassembly == 0,\n",
    "            assembler == 'metaspades') %>%\n",
    "    .$metaMIC_contig_score\n",
    "pr = pr.curve(scores.class0 = fg, scores.class1 = bg, curve=TRUE)\n",
    "pr"
   ]
  },
  {
   "cell_type": "code",
   "execution_count": 151,
   "id": "b04844c5",
   "metadata": {
    "ExecuteTime": {
     "end_time": "2021-08-11T19:37:14.827244Z",
     "start_time": "2021-08-11T19:27:24.258Z"
    }
   },
   "outputs": [
    {
     "data": {
      "image/png": "[encoded data removed]",
      "text/plain": [
       "Plot with title “PR curve\n",
       "AUC = 0.04093489”"
      ]
     },
     "metadata": {
      "image/png": {
       "height": 400,
       "width": 600
      }
     },
     "output_type": "display_data"
    }
   ],
   "source": [
    "# pr curve\n",
    "p.dims(6,4)\n",
    "plot(pr)"
   ]
  },
  {
   "cell_type": "markdown",
   "id": "1cf3c393",
   "metadata": {},
   "source": [
    "### ALE"
   ]
  },
  {
   "cell_type": "code",
   "execution_count": 81,
   "id": "d9b4c30a",
   "metadata": {
    "ExecuteTime": {
     "end_time": "2021-08-10T14:45:52.238114Z",
     "start_time": "2021-08-10T14:45:52.171Z"
    }
   },
   "outputs": [
    {
     "data": {
      "text/html": [
       "20"
      ],
      "text/latex": [
       "20"
      ],
      "text/markdown": [
       "20"
      ],
      "text/plain": [
       "[1] 20"
      ]
     },
     "metadata": {},
     "output_type": "display_data"
    },
    {
     "data": {
      "text/html": [
       "<style>\n",
       ".list-inline {list-style: none; margin:0; padding: 0}\n",
       ".list-inline>li {display: inline-block}\n",
       ".list-inline>li:not(:last-child)::after {content: \"\\00b7\"; padding: 0 .5ex}\n",
       "</style>\n",
       "<ol class=list-inline><li>'/ebio/abt3_projects/databases_no-backup/CAMI/CAMI2_HMP-gut/short_read//ResMiCo-SM/ALE/2017.12.04_18.45.54_sample_0/NA/NA/NA/NA/megahit/ALE_results.txt.gz'</li><li>'/ebio/abt3_projects/databases_no-backup/CAMI/CAMI2_HMP-gut/short_read//ResMiCo-SM/ALE/2017.12.04_18.45.54_sample_0/NA/NA/NA/NA/metaspades/ALE_results.txt.gz'</li><li>'/ebio/abt3_projects/databases_no-backup/CAMI/CAMI2_HMP-gut/short_read//ResMiCo-SM/ALE/2017.12.04_18.45.54_sample_1/NA/NA/NA/NA/megahit/ALE_results.txt.gz'</li></ol>\n"
      ],
      "text/latex": [
       "\\begin{enumerate*}\n",
       "\\item '/ebio/abt3\\_projects/databases\\_no-backup/CAMI/CAMI2\\_HMP-gut/short\\_read//ResMiCo-SM/ALE/2017.12.04\\_18.45.54\\_sample\\_0/NA/NA/NA/NA/megahit/ALE\\_results.txt.gz'\n",
       "\\item '/ebio/abt3\\_projects/databases\\_no-backup/CAMI/CAMI2\\_HMP-gut/short\\_read//ResMiCo-SM/ALE/2017.12.04\\_18.45.54\\_sample\\_0/NA/NA/NA/NA/metaspades/ALE\\_results.txt.gz'\n",
       "\\item '/ebio/abt3\\_projects/databases\\_no-backup/CAMI/CAMI2\\_HMP-gut/short\\_read//ResMiCo-SM/ALE/2017.12.04\\_18.45.54\\_sample\\_1/NA/NA/NA/NA/megahit/ALE\\_results.txt.gz'\n",
       "\\end{enumerate*}\n"
      ],
      "text/markdown": [
       "1. '/ebio/abt3_projects/databases_no-backup/CAMI/CAMI2_HMP-gut/short_read//ResMiCo-SM/ALE/2017.12.04_18.45.54_sample_0/NA/NA/NA/NA/megahit/ALE_results.txt.gz'\n",
       "2. '/ebio/abt3_projects/databases_no-backup/CAMI/CAMI2_HMP-gut/short_read//ResMiCo-SM/ALE/2017.12.04_18.45.54_sample_0/NA/NA/NA/NA/metaspades/ALE_results.txt.gz'\n",
       "3. '/ebio/abt3_projects/databases_no-backup/CAMI/CAMI2_HMP-gut/short_read//ResMiCo-SM/ALE/2017.12.04_18.45.54_sample_1/NA/NA/NA/NA/megahit/ALE_results.txt.gz'\n",
       "\n",
       "\n"
      ],
      "text/plain": [
       "[1] \"/ebio/abt3_projects/databases_no-backup/CAMI/CAMI2_HMP-gut/short_read//ResMiCo-SM/ALE/2017.12.04_18.45.54_sample_0/NA/NA/NA/NA/megahit/ALE_results.txt.gz\"   \n",
       "[2] \"/ebio/abt3_projects/databases_no-backup/CAMI/CAMI2_HMP-gut/short_read//ResMiCo-SM/ALE/2017.12.04_18.45.54_sample_0/NA/NA/NA/NA/metaspades/ALE_results.txt.gz\"\n",
       "[3] \"/ebio/abt3_projects/databases_no-backup/CAMI/CAMI2_HMP-gut/short_read//ResMiCo-SM/ALE/2017.12.04_18.45.54_sample_1/NA/NA/NA/NA/megahit/ALE_results.txt.gz\"   "
      ]
     },
     "metadata": {},
     "output_type": "display_data"
    }
   ],
   "source": [
    "P = file.path(work_dir, 'ResMiCo-SM', 'ALE')\n",
    "files = list_files(P, 'ALE_results.txt.gz')\n",
    "files %>% length\n",
    "files %>% head(n=3)"
   ]
  },
  {
   "cell_type": "code",
   "execution_count": 88,
   "id": "c760bf24",
   "metadata": {
    "ExecuteTime": {
     "end_time": "2021-08-10T14:47:28.696196Z",
     "start_time": "2021-08-10T14:47:28.585Z"
    }
   },
   "outputs": [
    {
     "data": {
      "text/html": [
       "<table class=\"dataframe\">\n",
       "<caption>A data.table: 100 × 9</caption>\n",
       "<thead>\n",
       "\t<tr><th scope=col>contig</th><th scope=col>position</th><th scope=col>depth</th><th scope=col>ln_depthLike</th><th scope=col>ln_placeLike</th><th scope=col>ln_insertLike</th><th scope=col>ln_kmerLike</th><th scope=col>sample</th><th scope=col>assembler</th></tr>\n",
       "\t<tr><th scope=col>&lt;int&gt;</th><th scope=col>&lt;int&gt;</th><th scope=col>&lt;dbl&gt;</th><th scope=col>&lt;dbl&gt;</th><th scope=col>&lt;dbl&gt;</th><th scope=col>&lt;dbl&gt;</th><th scope=col>&lt;dbl&gt;</th><th scope=col>&lt;chr&gt;</th><th scope=col>&lt;chr&gt;</th></tr>\n",
       "</thead>\n",
       "<tbody>\n",
       "\t<tr><td>0</td><td>0</td><td>1</td><td>-2.601</td><td>-0.020</td><td>0.271</td><td>-0.117</td><td>ALE</td><td>NA</td></tr>\n",
       "\t<tr><td>0</td><td>1</td><td>1</td><td>-2.601</td><td>-0.017</td><td>0.271</td><td>-0.143</td><td>ALE</td><td>NA</td></tr>\n",
       "\t<tr><td>⋮</td><td>⋮</td><td>⋮</td><td>⋮</td><td>⋮</td><td>⋮</td><td>⋮</td><td>⋮</td><td>⋮</td></tr>\n",
       "\t<tr><td>0</td><td>98</td><td>8</td><td>0.343</td><td>-0.58</td><td>-2.945</td><td>-0.159</td><td>ALE</td><td>NA</td></tr>\n",
       "\t<tr><td>0</td><td>99</td><td>8</td><td>0.343</td><td>-0.58</td><td>-2.945</td><td>-0.168</td><td>ALE</td><td>NA</td></tr>\n",
       "</tbody>\n",
       "</table>\n"
      ],
      "text/latex": [
       "A data.table: 100 × 9\n",
       "\\begin{tabular}{lllllllll}\n",
       " contig & position & depth & ln\\_depthLike & ln\\_placeLike & ln\\_insertLike & ln\\_kmerLike & sample & assembler\\\\\n",
       " <int> & <int> & <dbl> & <dbl> & <dbl> & <dbl> & <dbl> & <chr> & <chr>\\\\\n",
       "\\hline\n",
       "\t 0 & 0 & 1 & -2.601 & -0.020 & 0.271 & -0.117 & ALE & NA\\\\\n",
       "\t 0 & 1 & 1 & -2.601 & -0.017 & 0.271 & -0.143 & ALE & NA\\\\\n",
       "\t ⋮ & ⋮ & ⋮ & ⋮ & ⋮ & ⋮ & ⋮ & ⋮ & ⋮\\\\\n",
       "\t 0 & 98 & 8 & 0.343 & -0.58 & -2.945 & -0.159 & ALE & NA\\\\\n",
       "\t 0 & 99 & 8 & 0.343 & -0.58 & -2.945 & -0.168 & ALE & NA\\\\\n",
       "\\end{tabular}\n"
      ],
      "text/markdown": [
       "\n",
       "A data.table: 100 × 9\n",
       "\n",
       "| contig &lt;int&gt; | position &lt;int&gt; | depth &lt;dbl&gt; | ln_depthLike &lt;dbl&gt; | ln_placeLike &lt;dbl&gt; | ln_insertLike &lt;dbl&gt; | ln_kmerLike &lt;dbl&gt; | sample &lt;chr&gt; | assembler &lt;chr&gt; |\n",
       "|---|---|---|---|---|---|---|---|---|\n",
       "| 0 | 0 | 1 | -2.601 | -0.020 | 0.271 | -0.117 | ALE | NA |\n",
       "| 0 | 1 | 1 | -2.601 | -0.017 | 0.271 | -0.143 | ALE | NA |\n",
       "| ⋮ | ⋮ | ⋮ | ⋮ | ⋮ | ⋮ | ⋮ | ⋮ | ⋮ |\n",
       "| 0 | 98 | 8 | 0.343 | -0.58 | -2.945 | -0.159 | ALE | NA |\n",
       "| 0 | 99 | 8 | 0.343 | -0.58 | -2.945 | -0.168 | ALE | NA |\n",
       "\n"
      ],
      "text/plain": [
       "    contig position depth ln_depthLike ln_placeLike ln_insertLike ln_kmerLike\n",
       "1   0      0        1     -2.601       -0.020       0.271         -0.117     \n",
       "2   0      1        1     -2.601       -0.017       0.271         -0.143     \n",
       "⋮   ⋮      ⋮        ⋮     ⋮            ⋮            ⋮             ⋮          \n",
       "99  0      98       8     0.343        -0.58        -2.945        -0.159     \n",
       "100 0      99       8     0.343        -0.58        -2.945        -0.168     \n",
       "    sample assembler\n",
       "1   ALE    NA       \n",
       "2   ALE    NA       \n",
       "⋮   ⋮      ⋮        \n",
       "99  ALE    NA       \n",
       "100 ALE    NA       "
      ]
     },
     "metadata": {},
     "output_type": "display_data"
    }
   ],
   "source": [
    "read_table = function(F){\n",
    "    cmd = paste('gunzip -c', F, '| egrep -v \"^#\" | head -n 100', sep=' ')\n",
    "    df = Fread(cmd=cmd, sep=' ') \n",
    "    colnames(df) = c('contig', 'position', 'depth', \n",
    "                     'ln_depthLike', 'ln_placeLike', \n",
    "                     'ln_insertLike', 'ln_kmerLike')\n",
    "    x = unlist(strsplit(F, '/'))\n",
    "    df$sample = x[length(x)-7]\n",
    "    df$assembler = x[length(x)-2]\n",
    "    return(df)\n",
    "}\n",
    "ALE = files %>%\n",
    "    head(n=1) %>%\n",
    "    plyr::llply(read_table, .parallel=FALSE) %>%\n",
    "    rbindlist(use.names=TRUE) \n",
    "ALE"
   ]
  },
  {
   "cell_type": "markdown",
   "id": "3e8a7a42",
   "metadata": {},
   "source": [
    "## Comparing CAMI2 dataset to DM and RMC training dataset"
   ]
  },
  {
   "cell_type": "markdown",
   "id": "a924773c",
   "metadata": {},
   "source": [
    "### GTDBr89_n9k_train\n",
    "\n",
    "* Training dataset used for ResMiCo"
   ]
  },
  {
   "cell_type": "code",
   "execution_count": 27,
   "id": "44edcdc7",
   "metadata": {
    "ExecuteTime": {
     "end_time": "2021-08-12T07:25:18.636816Z",
     "start_time": "2021-08-12T07:25:18.340Z"
    }
   },
   "outputs": [
    {
     "data": {
      "text/html": [
       "288"
      ],
      "text/latex": [
       "288"
      ],
      "text/markdown": [
       "288"
      ],
      "text/plain": [
       "[1] 288"
      ]
     },
     "metadata": {},
     "output_type": "display_data"
    },
    {
     "data": {
      "text/html": [
       "<style>\n",
       ".list-inline {list-style: none; margin:0; padding: 0}\n",
       ".list-inline>li {display: inline-block}\n",
       ".list-inline>li:not(:last-child)::after {content: \"\\00b7\"; padding: 0 .5ex}\n",
       "</style>\n",
       "<ol class=list-inline><li>'/ebio/abt3_projects/databases_no-backup/DeepMAsED/version2/resmico-sm/GTDBr89_n9k_train/features/0.005555/mean-10-sigma-1/1/100/2000000/megahit/features.tsv.gz'</li><li>'/ebio/abt3_projects/databases_no-backup/DeepMAsED/version2/resmico-sm/GTDBr89_n9k_train/features/0.005555/mean-10-sigma-1/1/100/2000000/metaspades/features.tsv.gz'</li><li>'/ebio/abt3_projects/databases_no-backup/DeepMAsED/version2/resmico-sm/GTDBr89_n9k_train/features/0.005555/mean-10-sigma-1/1/100/500000/megahit/features.tsv.gz'</li></ol>\n"
      ],
      "text/latex": [
       "\\begin{enumerate*}\n",
       "\\item '/ebio/abt3\\_projects/databases\\_no-backup/DeepMAsED/version2/resmico-sm/GTDBr89\\_n9k\\_train/features/0.005555/mean-10-sigma-1/1/100/2000000/megahit/features.tsv.gz'\n",
       "\\item '/ebio/abt3\\_projects/databases\\_no-backup/DeepMAsED/version2/resmico-sm/GTDBr89\\_n9k\\_train/features/0.005555/mean-10-sigma-1/1/100/2000000/metaspades/features.tsv.gz'\n",
       "\\item '/ebio/abt3\\_projects/databases\\_no-backup/DeepMAsED/version2/resmico-sm/GTDBr89\\_n9k\\_train/features/0.005555/mean-10-sigma-1/1/100/500000/megahit/features.tsv.gz'\n",
       "\\end{enumerate*}\n"
      ],
      "text/markdown": [
       "1. '/ebio/abt3_projects/databases_no-backup/DeepMAsED/version2/resmico-sm/GTDBr89_n9k_train/features/0.005555/mean-10-sigma-1/1/100/2000000/megahit/features.tsv.gz'\n",
       "2. '/ebio/abt3_projects/databases_no-backup/DeepMAsED/version2/resmico-sm/GTDBr89_n9k_train/features/0.005555/mean-10-sigma-1/1/100/2000000/metaspades/features.tsv.gz'\n",
       "3. '/ebio/abt3_projects/databases_no-backup/DeepMAsED/version2/resmico-sm/GTDBr89_n9k_train/features/0.005555/mean-10-sigma-1/1/100/500000/megahit/features.tsv.gz'\n",
       "\n",
       "\n"
      ],
      "text/plain": [
       "[1] \"/ebio/abt3_projects/databases_no-backup/DeepMAsED/version2/resmico-sm/GTDBr89_n9k_train/features/0.005555/mean-10-sigma-1/1/100/2000000/megahit/features.tsv.gz\"   \n",
       "[2] \"/ebio/abt3_projects/databases_no-backup/DeepMAsED/version2/resmico-sm/GTDBr89_n9k_train/features/0.005555/mean-10-sigma-1/1/100/2000000/metaspades/features.tsv.gz\"\n",
       "[3] \"/ebio/abt3_projects/databases_no-backup/DeepMAsED/version2/resmico-sm/GTDBr89_n9k_train/features/0.005555/mean-10-sigma-1/1/100/500000/megahit/features.tsv.gz\"    "
      ]
     },
     "metadata": {},
     "output_type": "display_data"
    }
   ],
   "source": [
    "D = '/ebio/abt3_projects/databases_no-backup/DeepMAsED/version2/resmico-sm/GTDBr89_n9k_train'\n",
    "D = file.path(D, 'features')\n",
    "feat_files = list_files(D, 'features.tsv.gz')\n",
    "feat_files %>% length\n",
    "feat_files %>% head(n=3)"
   ]
  },
  {
   "cell_type": "code",
   "execution_count": 28,
   "id": "037fde0d",
   "metadata": {
    "ExecuteTime": {
     "end_time": "2021-08-12T07:25:19.576532Z",
     "start_time": "2021-08-12T07:25:19.498Z"
    }
   },
   "outputs": [
    {
     "name": "stdout",
     "output_type": "stream",
     "text": [
      "File size too small: /ebio/abt3_projects/databases_no-backup/DeepMAsED/version2/resmico-sm/GTDBr89_n9k_train/features/0.555555/mean-10-sigma-1/1/100/500000/metaspades/features.tsv.gz \n",
      "File size too small: /ebio/abt3_projects/databases_no-backup/DeepMAsED/version2/resmico-sm/GTDBr89_n9k_train/features/0.555555/mean-10-sigma-1/2/100/500000/metaspades/features.tsv.gz \n",
      "File size too small: /ebio/abt3_projects/databases_no-backup/DeepMAsED/version2/resmico-sm/GTDBr89_n9k_train/features/0.555555/mean-10-sigma-1/3/100/500000/metaspades/features.tsv.gz \n"
     ]
    },
    {
     "data": {
      "text/html": [
       "285"
      ],
      "text/latex": [
       "285"
      ],
      "text/markdown": [
       "285"
      ],
      "text/plain": [
       "[1] 285"
      ]
     },
     "metadata": {},
     "output_type": "display_data"
    }
   ],
   "source": [
    "# filtering empty files\n",
    "L = list()\n",
    "for(F in feat_files){\n",
    "    if(file.size(F) >= 1e3){\n",
    "        L[[F]] = F\n",
    "    } else {\n",
    "        cat('File size too small:', F, '\\n')\n",
    "    }\n",
    "}\n",
    "feat_files = L\n",
    "feat_files %>% length"
   ]
  },
  {
   "cell_type": "code",
   "execution_count": 29,
   "id": "b20d9ce1",
   "metadata": {
    "ExecuteTime": {
     "end_time": "2021-08-12T08:35:19.940345Z",
     "start_time": "2021-08-12T07:25:23.883Z"
    }
   },
   "outputs": [
    {
     "data": {
      "text/html": [
       "<table class=\"dataframe\">\n",
       "<caption>A data.table: 3187442 × 15</caption>\n",
       "<thead>\n",
       "\t<tr><th scope=col>assembler</th><th scope=col>contig</th><th scope=col>coverage</th><th scope=col>num_SNPs</th><th scope=col>min_insert_size_Match</th><th scope=col>mean_insert_size_Match</th><th scope=col>mean_mapq_Match</th><th scope=col>num_proper_Match</th><th scope=col>num_orphans_Match</th><th scope=col>num_discordant_Match</th><th scope=col>num_proper_SNP</th><th scope=col>seq_window_entropy</th><th scope=col>seq_window_perc_gc</th><th scope=col>Extensive_misassembly</th><th scope=col>sample</th></tr>\n",
       "\t<tr><th scope=col>&lt;chr&gt;</th><th scope=col>&lt;chr&gt;</th><th scope=col>&lt;dbl&gt;</th><th scope=col>&lt;dbl&gt;</th><th scope=col>&lt;dbl&gt;</th><th scope=col>&lt;dbl&gt;</th><th scope=col>&lt;dbl&gt;</th><th scope=col>&lt;dbl&gt;</th><th scope=col>&lt;dbl&gt;</th><th scope=col>&lt;dbl&gt;</th><th scope=col>&lt;dbl&gt;</th><th scope=col>&lt;dbl&gt;</th><th scope=col>&lt;dbl&gt;</th><th scope=col>&lt;dbl&gt;</th><th scope=col>&lt;chr&gt;</th></tr>\n",
       "</thead>\n",
       "<tbody>\n",
       "\t<tr><td>megahit</td><td>k119_13284</td><td>2.977885</td><td>0.003846154</td><td>229.7442</td><td>268.5023</td><td>42</td><td>2.878846</td><td>0.09519231</td><td>0.0000000</td><td>0.003846154</td><td>1.598175</td><td>0.6415596</td><td>0</td><td>0.005555</td></tr>\n",
       "\t<tr><td>megahit</td><td>k119_22   </td><td>5.015003</td><td>0.008277289</td><td>192.3533</td><td>262.5513</td><td>42</td><td>4.748060</td><td>0.05173306</td><td>0.2069322</td><td>0.008277289</td><td>1.486838</td><td>0.4251428</td><td>0</td><td>0.005555</td></tr>\n",
       "\t<tr><td>⋮</td><td>⋮</td><td>⋮</td><td>⋮</td><td>⋮</td><td>⋮</td><td>⋮</td><td>⋮</td><td>⋮</td><td>⋮</td><td>⋮</td><td>⋮</td><td>⋮</td><td>⋮</td><td>⋮</td></tr>\n",
       "\t<tr><td>metaspades</td><td>NODE_6857_length_2630_cov_2.959612</td><td>5.049049</td><td>0.014448669</td><td>195.9144</td><td>248.2176</td><td>41.4613</td><td>4.996198</td><td>0.00000000</td><td>0.05703422</td><td>0.019391635</td><td>1.464027</td><td>0.3719901</td><td>0</td><td>0.555555</td></tr>\n",
       "\t<tr><td>metaspades</td><td>NODE_6858_length_2630_cov_2.241553</td><td>3.798099</td><td>0.003422053</td><td>228.4475</td><td>263.8258</td><td>42.0000</td><td>3.754373</td><td>0.05703422</td><td>0.00000000</td><td>0.006844106</td><td>1.542252</td><td>0.5636080</td><td>0</td><td>0.555555</td></tr>\n",
       "</tbody>\n",
       "</table>\n"
      ],
      "text/latex": [
       "A data.table: 3187442 × 15\n",
       "\\begin{tabular}{lllllllllllllll}\n",
       " assembler & contig & coverage & num\\_SNPs & min\\_insert\\_size\\_Match & mean\\_insert\\_size\\_Match & mean\\_mapq\\_Match & num\\_proper\\_Match & num\\_orphans\\_Match & num\\_discordant\\_Match & num\\_proper\\_SNP & seq\\_window\\_entropy & seq\\_window\\_perc\\_gc & Extensive\\_misassembly & sample\\\\\n",
       " <chr> & <chr> & <dbl> & <dbl> & <dbl> & <dbl> & <dbl> & <dbl> & <dbl> & <dbl> & <dbl> & <dbl> & <dbl> & <dbl> & <chr>\\\\\n",
       "\\hline\n",
       "\t megahit & k119\\_13284 & 2.977885 & 0.003846154 & 229.7442 & 268.5023 & 42 & 2.878846 & 0.09519231 & 0.0000000 & 0.003846154 & 1.598175 & 0.6415596 & 0 & 0.005555\\\\\n",
       "\t megahit & k119\\_22    & 5.015003 & 0.008277289 & 192.3533 & 262.5513 & 42 & 4.748060 & 0.05173306 & 0.2069322 & 0.008277289 & 1.486838 & 0.4251428 & 0 & 0.005555\\\\\n",
       "\t ⋮ & ⋮ & ⋮ & ⋮ & ⋮ & ⋮ & ⋮ & ⋮ & ⋮ & ⋮ & ⋮ & ⋮ & ⋮ & ⋮ & ⋮\\\\\n",
       "\t metaspades & NODE\\_6857\\_length\\_2630\\_cov\\_2.959612 & 5.049049 & 0.014448669 & 195.9144 & 248.2176 & 41.4613 & 4.996198 & 0.00000000 & 0.05703422 & 0.019391635 & 1.464027 & 0.3719901 & 0 & 0.555555\\\\\n",
       "\t metaspades & NODE\\_6858\\_length\\_2630\\_cov\\_2.241553 & 3.798099 & 0.003422053 & 228.4475 & 263.8258 & 42.0000 & 3.754373 & 0.05703422 & 0.00000000 & 0.006844106 & 1.542252 & 0.5636080 & 0 & 0.555555\\\\\n",
       "\\end{tabular}\n"
      ],
      "text/markdown": [
       "\n",
       "A data.table: 3187442 × 15\n",
       "\n",
       "| assembler &lt;chr&gt; | contig &lt;chr&gt; | coverage &lt;dbl&gt; | num_SNPs &lt;dbl&gt; | min_insert_size_Match &lt;dbl&gt; | mean_insert_size_Match &lt;dbl&gt; | mean_mapq_Match &lt;dbl&gt; | num_proper_Match &lt;dbl&gt; | num_orphans_Match &lt;dbl&gt; | num_discordant_Match &lt;dbl&gt; | num_proper_SNP &lt;dbl&gt; | seq_window_entropy &lt;dbl&gt; | seq_window_perc_gc &lt;dbl&gt; | Extensive_misassembly &lt;dbl&gt; | sample &lt;chr&gt; |\n",
       "|---|---|---|---|---|---|---|---|---|---|---|---|---|---|---|\n",
       "| megahit | k119_13284 | 2.977885 | 0.003846154 | 229.7442 | 268.5023 | 42 | 2.878846 | 0.09519231 | 0.0000000 | 0.003846154 | 1.598175 | 0.6415596 | 0 | 0.005555 |\n",
       "| megahit | k119_22    | 5.015003 | 0.008277289 | 192.3533 | 262.5513 | 42 | 4.748060 | 0.05173306 | 0.2069322 | 0.008277289 | 1.486838 | 0.4251428 | 0 | 0.005555 |\n",
       "| ⋮ | ⋮ | ⋮ | ⋮ | ⋮ | ⋮ | ⋮ | ⋮ | ⋮ | ⋮ | ⋮ | ⋮ | ⋮ | ⋮ | ⋮ |\n",
       "| metaspades | NODE_6857_length_2630_cov_2.959612 | 5.049049 | 0.014448669 | 195.9144 | 248.2176 | 41.4613 | 4.996198 | 0.00000000 | 0.05703422 | 0.019391635 | 1.464027 | 0.3719901 | 0 | 0.555555 |\n",
       "| metaspades | NODE_6858_length_2630_cov_2.241553 | 3.798099 | 0.003422053 | 228.4475 | 263.8258 | 42.0000 | 3.754373 | 0.05703422 | 0.00000000 | 0.006844106 | 1.542252 | 0.5636080 | 0 | 0.555555 |\n",
       "\n"
      ],
      "text/plain": [
       "        assembler  contig                             coverage num_SNPs   \n",
       "1       megahit    k119_13284                         2.977885 0.003846154\n",
       "2       megahit    k119_22                            5.015003 0.008277289\n",
       "⋮       ⋮          ⋮                                  ⋮        ⋮          \n",
       "3187441 metaspades NODE_6857_length_2630_cov_2.959612 5.049049 0.014448669\n",
       "3187442 metaspades NODE_6858_length_2630_cov_2.241553 3.798099 0.003422053\n",
       "        min_insert_size_Match mean_insert_size_Match mean_mapq_Match\n",
       "1       229.7442              268.5023               42             \n",
       "2       192.3533              262.5513               42             \n",
       "⋮       ⋮                     ⋮                      ⋮              \n",
       "3187441 195.9144              248.2176               41.4613        \n",
       "3187442 228.4475              263.8258               42.0000        \n",
       "        num_proper_Match num_orphans_Match num_discordant_Match num_proper_SNP\n",
       "1       2.878846         0.09519231        0.0000000            0.003846154   \n",
       "2       4.748060         0.05173306        0.2069322            0.008277289   \n",
       "⋮       ⋮                ⋮                 ⋮                    ⋮             \n",
       "3187441 4.996198         0.00000000        0.05703422           0.019391635   \n",
       "3187442 3.754373         0.05703422        0.00000000           0.006844106   \n",
       "        seq_window_entropy seq_window_perc_gc Extensive_misassembly sample  \n",
       "1       1.598175           0.6415596          0                     0.005555\n",
       "2       1.486838           0.4251428          0                     0.005555\n",
       "⋮       ⋮                  ⋮                  ⋮                     ⋮       \n",
       "3187441 1.464027           0.3719901          0                     0.555555\n",
       "3187442 1.542252           0.5636080          0                     0.555555"
      ]
     },
     "metadata": {},
     "output_type": "display_data"
    }
   ],
   "source": [
    "# reading feature tables\n",
    "doParallel::registerDoParallel(12)\n",
    "feats_rmc = feat_files %>%\n",
    "    plyr::llply(read_feat, .parallel=TRUE) %>%\n",
    "    rbindlist(use.names=TRUE) \n",
    "feats_rmc"
   ]
  },
  {
   "cell_type": "code",
   "execution_count": 30,
   "id": "4d617470",
   "metadata": {
    "ExecuteTime": {
     "end_time": "2021-08-12T08:35:22.140578Z",
     "start_time": "2021-08-12T07:25:32.251Z"
    }
   },
   "outputs": [
    {
     "name": "stdout",
     "output_type": "stream",
     "text": [
      "File written: /ebio/abt3_projects/databases_no-backup/DeepMAsED/version2/resmico-sm/GTDBr89_n9k_train/features/features_per-contig.tsv \n"
     ]
    }
   ],
   "source": [
    "# writing table\n",
    "F = file.path(D, 'features_per-contig.tsv')\n",
    "write_table(feats_rmc, F)"
   ]
  },
  {
   "cell_type": "code",
   "execution_count": 31,
   "id": "394549d6",
   "metadata": {
    "ExecuteTime": {
     "end_time": "2021-08-12T08:35:25.246962Z",
     "start_time": "2021-08-12T07:25:41.031Z"
    }
   },
   "outputs": [
    {
     "data": {
      "text/html": [
       "<table class=\"dataframe\">\n",
       "<caption>A data.table: 3187442 × 15</caption>\n",
       "<thead>\n",
       "\t<tr><th scope=col>assembler</th><th scope=col>contig</th><th scope=col>coverage</th><th scope=col>num_SNPs</th><th scope=col>min_insert_size_Match</th><th scope=col>mean_insert_size_Match</th><th scope=col>mean_mapq_Match</th><th scope=col>num_proper_Match</th><th scope=col>num_orphans_Match</th><th scope=col>num_discordant_Match</th><th scope=col>num_proper_SNP</th><th scope=col>seq_window_entropy</th><th scope=col>seq_window_perc_gc</th><th scope=col>Extensive_misassembly</th><th scope=col>sample</th></tr>\n",
       "\t<tr><th scope=col>&lt;chr&gt;</th><th scope=col>&lt;chr&gt;</th><th scope=col>&lt;dbl&gt;</th><th scope=col>&lt;dbl&gt;</th><th scope=col>&lt;dbl&gt;</th><th scope=col>&lt;dbl&gt;</th><th scope=col>&lt;dbl&gt;</th><th scope=col>&lt;dbl&gt;</th><th scope=col>&lt;dbl&gt;</th><th scope=col>&lt;dbl&gt;</th><th scope=col>&lt;dbl&gt;</th><th scope=col>&lt;dbl&gt;</th><th scope=col>&lt;dbl&gt;</th><th scope=col>&lt;int&gt;</th><th scope=col>&lt;dbl&gt;</th></tr>\n",
       "</thead>\n",
       "<tbody>\n",
       "\t<tr><td>megahit</td><td>k119_13284</td><td>2.977885</td><td>0.003846154</td><td>229.7442</td><td>268.5023</td><td>42</td><td>2.878846</td><td>0.09519231</td><td>0.0000000</td><td>0.003846154</td><td>1.598175</td><td>0.6415596</td><td>0</td><td>0.005555</td></tr>\n",
       "\t<tr><td>megahit</td><td>k119_22   </td><td>5.015003</td><td>0.008277289</td><td>192.3533</td><td>262.5513</td><td>42</td><td>4.748060</td><td>0.05173306</td><td>0.2069322</td><td>0.008277289</td><td>1.486838</td><td>0.4251428</td><td>0</td><td>0.005555</td></tr>\n",
       "\t<tr><td>⋮</td><td>⋮</td><td>⋮</td><td>⋮</td><td>⋮</td><td>⋮</td><td>⋮</td><td>⋮</td><td>⋮</td><td>⋮</td><td>⋮</td><td>⋮</td><td>⋮</td><td>⋮</td><td>⋮</td></tr>\n",
       "\t<tr><td>metaspades</td><td>NODE_6857_length_2630_cov_2.959612</td><td>5.049049</td><td>0.014448669</td><td>195.9144</td><td>248.2176</td><td>41.4613</td><td>4.996198</td><td>0.00000000</td><td>0.05703422</td><td>0.019391635</td><td>1.464027</td><td>0.3719901</td><td>0</td><td>0.555555</td></tr>\n",
       "\t<tr><td>metaspades</td><td>NODE_6858_length_2630_cov_2.241553</td><td>3.798099</td><td>0.003422053</td><td>228.4475</td><td>263.8258</td><td>42.0000</td><td>3.754373</td><td>0.05703422</td><td>0.00000000</td><td>0.006844106</td><td>1.542252</td><td>0.5636080</td><td>0</td><td>0.555555</td></tr>\n",
       "</tbody>\n",
       "</table>\n"
      ],
      "text/latex": [
       "A data.table: 3187442 × 15\n",
       "\\begin{tabular}{lllllllllllllll}\n",
       " assembler & contig & coverage & num\\_SNPs & min\\_insert\\_size\\_Match & mean\\_insert\\_size\\_Match & mean\\_mapq\\_Match & num\\_proper\\_Match & num\\_orphans\\_Match & num\\_discordant\\_Match & num\\_proper\\_SNP & seq\\_window\\_entropy & seq\\_window\\_perc\\_gc & Extensive\\_misassembly & sample\\\\\n",
       " <chr> & <chr> & <dbl> & <dbl> & <dbl> & <dbl> & <dbl> & <dbl> & <dbl> & <dbl> & <dbl> & <dbl> & <dbl> & <int> & <dbl>\\\\\n",
       "\\hline\n",
       "\t megahit & k119\\_13284 & 2.977885 & 0.003846154 & 229.7442 & 268.5023 & 42 & 2.878846 & 0.09519231 & 0.0000000 & 0.003846154 & 1.598175 & 0.6415596 & 0 & 0.005555\\\\\n",
       "\t megahit & k119\\_22    & 5.015003 & 0.008277289 & 192.3533 & 262.5513 & 42 & 4.748060 & 0.05173306 & 0.2069322 & 0.008277289 & 1.486838 & 0.4251428 & 0 & 0.005555\\\\\n",
       "\t ⋮ & ⋮ & ⋮ & ⋮ & ⋮ & ⋮ & ⋮ & ⋮ & ⋮ & ⋮ & ⋮ & ⋮ & ⋮ & ⋮ & ⋮\\\\\n",
       "\t metaspades & NODE\\_6857\\_length\\_2630\\_cov\\_2.959612 & 5.049049 & 0.014448669 & 195.9144 & 248.2176 & 41.4613 & 4.996198 & 0.00000000 & 0.05703422 & 0.019391635 & 1.464027 & 0.3719901 & 0 & 0.555555\\\\\n",
       "\t metaspades & NODE\\_6858\\_length\\_2630\\_cov\\_2.241553 & 3.798099 & 0.003422053 & 228.4475 & 263.8258 & 42.0000 & 3.754373 & 0.05703422 & 0.00000000 & 0.006844106 & 1.542252 & 0.5636080 & 0 & 0.555555\\\\\n",
       "\\end{tabular}\n"
      ],
      "text/markdown": [
       "\n",
       "A data.table: 3187442 × 15\n",
       "\n",
       "| assembler &lt;chr&gt; | contig &lt;chr&gt; | coverage &lt;dbl&gt; | num_SNPs &lt;dbl&gt; | min_insert_size_Match &lt;dbl&gt; | mean_insert_size_Match &lt;dbl&gt; | mean_mapq_Match &lt;dbl&gt; | num_proper_Match &lt;dbl&gt; | num_orphans_Match &lt;dbl&gt; | num_discordant_Match &lt;dbl&gt; | num_proper_SNP &lt;dbl&gt; | seq_window_entropy &lt;dbl&gt; | seq_window_perc_gc &lt;dbl&gt; | Extensive_misassembly &lt;int&gt; | sample &lt;dbl&gt; |\n",
       "|---|---|---|---|---|---|---|---|---|---|---|---|---|---|---|\n",
       "| megahit | k119_13284 | 2.977885 | 0.003846154 | 229.7442 | 268.5023 | 42 | 2.878846 | 0.09519231 | 0.0000000 | 0.003846154 | 1.598175 | 0.6415596 | 0 | 0.005555 |\n",
       "| megahit | k119_22    | 5.015003 | 0.008277289 | 192.3533 | 262.5513 | 42 | 4.748060 | 0.05173306 | 0.2069322 | 0.008277289 | 1.486838 | 0.4251428 | 0 | 0.005555 |\n",
       "| ⋮ | ⋮ | ⋮ | ⋮ | ⋮ | ⋮ | ⋮ | ⋮ | ⋮ | ⋮ | ⋮ | ⋮ | ⋮ | ⋮ | ⋮ |\n",
       "| metaspades | NODE_6857_length_2630_cov_2.959612 | 5.049049 | 0.014448669 | 195.9144 | 248.2176 | 41.4613 | 4.996198 | 0.00000000 | 0.05703422 | 0.019391635 | 1.464027 | 0.3719901 | 0 | 0.555555 |\n",
       "| metaspades | NODE_6858_length_2630_cov_2.241553 | 3.798099 | 0.003422053 | 228.4475 | 263.8258 | 42.0000 | 3.754373 | 0.05703422 | 0.00000000 | 0.006844106 | 1.542252 | 0.5636080 | 0 | 0.555555 |\n",
       "\n"
      ],
      "text/plain": [
       "        assembler  contig                             coverage num_SNPs   \n",
       "1       megahit    k119_13284                         2.977885 0.003846154\n",
       "2       megahit    k119_22                            5.015003 0.008277289\n",
       "⋮       ⋮          ⋮                                  ⋮        ⋮          \n",
       "3187441 metaspades NODE_6857_length_2630_cov_2.959612 5.049049 0.014448669\n",
       "3187442 metaspades NODE_6858_length_2630_cov_2.241553 3.798099 0.003422053\n",
       "        min_insert_size_Match mean_insert_size_Match mean_mapq_Match\n",
       "1       229.7442              268.5023               42             \n",
       "2       192.3533              262.5513               42             \n",
       "⋮       ⋮                     ⋮                      ⋮              \n",
       "3187441 195.9144              248.2176               41.4613        \n",
       "3187442 228.4475              263.8258               42.0000        \n",
       "        num_proper_Match num_orphans_Match num_discordant_Match num_proper_SNP\n",
       "1       2.878846         0.09519231        0.0000000            0.003846154   \n",
       "2       4.748060         0.05173306        0.2069322            0.008277289   \n",
       "⋮       ⋮                ⋮                 ⋮                    ⋮             \n",
       "3187441 4.996198         0.00000000        0.05703422           0.019391635   \n",
       "3187442 3.754373         0.05703422        0.00000000           0.006844106   \n",
       "        seq_window_entropy seq_window_perc_gc Extensive_misassembly sample  \n",
       "1       1.598175           0.6415596          0                     0.005555\n",
       "2       1.486838           0.4251428          0                     0.005555\n",
       "⋮       ⋮                  ⋮                  ⋮                     ⋮       \n",
       "3187441 1.464027           0.3719901          0                     0.555555\n",
       "3187442 1.542252           0.5636080          0                     0.555555"
      ]
     },
     "metadata": {},
     "output_type": "display_data"
    }
   ],
   "source": [
    "# reading table\n",
    "D = '/ebio/abt3_projects/databases_no-backup/DeepMAsED/version2/resmico-sm/GTDBr89_n9k_train'\n",
    "D = file.path(D, 'features')\n",
    "F = file.path(D, 'features_per-contig.tsv')\n",
    "feats_rmc = Fread(F)\n",
    "feats_rmc"
   ]
  },
  {
   "cell_type": "code",
   "execution_count": 32,
   "id": "5141fa2d",
   "metadata": {
    "ExecuteTime": {
     "end_time": "2021-08-12T08:35:26.335846Z",
     "start_time": "2021-08-12T07:25:42.522Z"
    }
   },
   "outputs": [
    {
     "name": "stderr",
     "output_type": "stream",
     "text": [
      "Sending email to: nyoungblut@tuebingen.mpg.de\n",
      "\n"
     ]
    }
   ],
   "source": [
    "send_email('http://127.0.0.1:9704/notebooks/deepmased/notebooks/06_version2/01_simulation_datasets/04_CAMI/01_CAMI2_HMP-gut.ipynb#Summary')"
   ]
  },
  {
   "cell_type": "markdown",
   "id": "c34259be",
   "metadata": {},
   "source": [
    "### DM_n1000_r30\n",
    "\n",
    "* Used to train DeepMAsED"
   ]
  },
  {
   "cell_type": "code",
   "execution_count": 17,
   "id": "1aa58beb",
   "metadata": {
    "ExecuteTime": {
     "end_time": "2021-08-12T06:42:02.023464Z",
     "start_time": "2021-08-12T06:42:01.968Z"
    }
   },
   "outputs": [],
   "source": [
    "read_dm_feat = function(F){\n",
    "    #cmd = paste(c('gunzip -c', F, '| head -n 100'), collapse=' ')\n",
    "    df = Fread(F) %>%\n",
    "        select.(assembler, \n",
    "                contig, \n",
    "                coverage, \n",
    "                num_SNPs, \n",
    "                num_discordant, \n",
    "                num_secondary,\n",
    "                chimeric, \n",
    "                Extensive_misassembly) %>%\n",
    "        summarize.(coverage = mean(coverage, na.rm=TRUE),\n",
    "                   num_SNPs = mean(num_SNPs, na.rm=TRUE),\n",
    "                   num_discordant = mean(num_discordant, na.rm=TRUE),\n",
    "                   num_secondary = mean(num_secondary, na.rm=TRUE),\n",
    "                   chimeric = mean(chimeric, na.rm=TRUE),\n",
    "                   Extensive_misassembly = first(Extensive_misassembly),\n",
    "                   .by=c(assembler, contig))\n",
    "    x = unlist(strsplit(F, '/'))\n",
    "    df$sample = x[length(x)-6]\n",
    "    return(df)\n",
    "}"
   ]
  },
  {
   "cell_type": "code",
   "execution_count": 18,
   "id": "c715d9e8",
   "metadata": {
    "ExecuteTime": {
     "end_time": "2021-08-12T06:42:02.563844Z",
     "start_time": "2021-08-12T06:42:02.446Z"
    }
   },
   "outputs": [
    {
     "data": {
      "text/html": [
       "60"
      ],
      "text/latex": [
       "60"
      ],
      "text/markdown": [
       "60"
      ],
      "text/plain": [
       "[1] 60"
      ]
     },
     "metadata": {},
     "output_type": "display_data"
    },
    {
     "data": {
      "text/html": [
       "<style>\n",
       ".list-inline {list-style: none; margin:0; padding: 0}\n",
       ".list-inline>li {display: inline-block}\n",
       ".list-inline>li:not(:last-child)::after {content: \"\\00b7\"; padding: 0 .5ex}\n",
       "</style>\n",
       "<ol class=list-inline><li>'/ebio/abt3_projects/databases_no-backup/DeepMAsED/train_runs/n1000_r30/map/1/megahit/features.tsv.gz'</li><li>'/ebio/abt3_projects/databases_no-backup/DeepMAsED/train_runs/n1000_r30/map/1/metaspades/features.tsv.gz'</li><li>'/ebio/abt3_projects/databases_no-backup/DeepMAsED/train_runs/n1000_r30/map/10/megahit/features.tsv.gz'</li></ol>\n"
      ],
      "text/latex": [
       "\\begin{enumerate*}\n",
       "\\item '/ebio/abt3\\_projects/databases\\_no-backup/DeepMAsED/train\\_runs/n1000\\_r30/map/1/megahit/features.tsv.gz'\n",
       "\\item '/ebio/abt3\\_projects/databases\\_no-backup/DeepMAsED/train\\_runs/n1000\\_r30/map/1/metaspades/features.tsv.gz'\n",
       "\\item '/ebio/abt3\\_projects/databases\\_no-backup/DeepMAsED/train\\_runs/n1000\\_r30/map/10/megahit/features.tsv.gz'\n",
       "\\end{enumerate*}\n"
      ],
      "text/markdown": [
       "1. '/ebio/abt3_projects/databases_no-backup/DeepMAsED/train_runs/n1000_r30/map/1/megahit/features.tsv.gz'\n",
       "2. '/ebio/abt3_projects/databases_no-backup/DeepMAsED/train_runs/n1000_r30/map/1/metaspades/features.tsv.gz'\n",
       "3. '/ebio/abt3_projects/databases_no-backup/DeepMAsED/train_runs/n1000_r30/map/10/megahit/features.tsv.gz'\n",
       "\n",
       "\n"
      ],
      "text/plain": [
       "[1] \"/ebio/abt3_projects/databases_no-backup/DeepMAsED/train_runs/n1000_r30/map/1/megahit/features.tsv.gz\"   \n",
       "[2] \"/ebio/abt3_projects/databases_no-backup/DeepMAsED/train_runs/n1000_r30/map/1/metaspades/features.tsv.gz\"\n",
       "[3] \"/ebio/abt3_projects/databases_no-backup/DeepMAsED/train_runs/n1000_r30/map/10/megahit/features.tsv.gz\"  "
      ]
     },
     "metadata": {},
     "output_type": "display_data"
    }
   ],
   "source": [
    "D = '/ebio/abt3_projects/databases_no-backup/DeepMAsED/train_runs/n1000_r30'\n",
    "D = file.path(D, 'map')\n",
    "feat_files = list_files(D, 'features.tsv.gz')\n",
    "feat_files %>% length\n",
    "feat_files %>% head(n=3)"
   ]
  },
  {
   "cell_type": "code",
   "execution_count": 20,
   "id": "8a53e0e6",
   "metadata": {
    "ExecuteTime": {
     "end_time": "2021-08-12T06:45:51.182824Z",
     "start_time": "2021-08-12T06:42:27.806Z"
    }
   },
   "outputs": [
    {
     "data": {
      "text/html": [
       "<table class=\"dataframe\">\n",
       "<caption>A data.table: 406739 × 9</caption>\n",
       "<thead>\n",
       "\t<tr><th scope=col>assembler</th><th scope=col>contig</th><th scope=col>coverage</th><th scope=col>num_SNPs</th><th scope=col>num_discordant</th><th scope=col>num_secondary</th><th scope=col>chimeric</th><th scope=col>Extensive_misassembly</th><th scope=col>sample</th></tr>\n",
       "\t<tr><th scope=col>&lt;chr&gt;</th><th scope=col>&lt;chr&gt;</th><th scope=col>&lt;dbl&gt;</th><th scope=col>&lt;dbl&gt;</th><th scope=col>&lt;dbl&gt;</th><th scope=col>&lt;dbl&gt;</th><th scope=col>&lt;dbl&gt;</th><th scope=col>&lt;chr&gt;</th><th scope=col>&lt;chr&gt;</th></tr>\n",
       "</thead>\n",
       "<tbody>\n",
       "\t<tr><td>megahit</td><td>k141_10004</td><td>2.309278</td><td>0.0008591065</td><td>0</td><td>0</td><td>0</td><td></td><td>DeepMAsED</td></tr>\n",
       "\t<tr><td>megahit</td><td>k141_10007</td><td>2.820189</td><td>0.0055205047</td><td>0</td><td>0</td><td>0</td><td></td><td>DeepMAsED</td></tr>\n",
       "\t<tr><td>⋮</td><td>⋮</td><td>⋮</td><td>⋮</td><td>⋮</td><td>⋮</td><td>⋮</td><td>⋮</td><td>⋮</td></tr>\n",
       "\t<tr><td>metaspades</td><td>NODE_99_length_6434_cov_2.650572</td><td> 4.496892</td><td>0.004041032</td><td>0</td><td>0</td><td>0</td><td></td><td>DeepMAsED</td></tr>\n",
       "\t<tr><td>metaspades</td><td>NODE_9_length_52581_cov_6.898983</td><td>11.599970</td><td>0.009071718</td><td>0</td><td>0</td><td>0</td><td></td><td>DeepMAsED</td></tr>\n",
       "</tbody>\n",
       "</table>\n"
      ],
      "text/latex": [
       "A data.table: 406739 × 9\n",
       "\\begin{tabular}{lllllllll}\n",
       " assembler & contig & coverage & num\\_SNPs & num\\_discordant & num\\_secondary & chimeric & Extensive\\_misassembly & sample\\\\\n",
       " <chr> & <chr> & <dbl> & <dbl> & <dbl> & <dbl> & <dbl> & <chr> & <chr>\\\\\n",
       "\\hline\n",
       "\t megahit & k141\\_10004 & 2.309278 & 0.0008591065 & 0 & 0 & 0 &  & DeepMAsED\\\\\n",
       "\t megahit & k141\\_10007 & 2.820189 & 0.0055205047 & 0 & 0 & 0 &  & DeepMAsED\\\\\n",
       "\t ⋮ & ⋮ & ⋮ & ⋮ & ⋮ & ⋮ & ⋮ & ⋮ & ⋮\\\\\n",
       "\t metaspades & NODE\\_99\\_length\\_6434\\_cov\\_2.650572 &  4.496892 & 0.004041032 & 0 & 0 & 0 &  & DeepMAsED\\\\\n",
       "\t metaspades & NODE\\_9\\_length\\_52581\\_cov\\_6.898983 & 11.599970 & 0.009071718 & 0 & 0 & 0 &  & DeepMAsED\\\\\n",
       "\\end{tabular}\n"
      ],
      "text/markdown": [
       "\n",
       "A data.table: 406739 × 9\n",
       "\n",
       "| assembler &lt;chr&gt; | contig &lt;chr&gt; | coverage &lt;dbl&gt; | num_SNPs &lt;dbl&gt; | num_discordant &lt;dbl&gt; | num_secondary &lt;dbl&gt; | chimeric &lt;dbl&gt; | Extensive_misassembly &lt;chr&gt; | sample &lt;chr&gt; |\n",
       "|---|---|---|---|---|---|---|---|---|\n",
       "| megahit | k141_10004 | 2.309278 | 0.0008591065 | 0 | 0 | 0 | <!----> | DeepMAsED |\n",
       "| megahit | k141_10007 | 2.820189 | 0.0055205047 | 0 | 0 | 0 | <!----> | DeepMAsED |\n",
       "| ⋮ | ⋮ | ⋮ | ⋮ | ⋮ | ⋮ | ⋮ | ⋮ | ⋮ |\n",
       "| metaspades | NODE_99_length_6434_cov_2.650572 |  4.496892 | 0.004041032 | 0 | 0 | 0 | <!----> | DeepMAsED |\n",
       "| metaspades | NODE_9_length_52581_cov_6.898983 | 11.599970 | 0.009071718 | 0 | 0 | 0 | <!----> | DeepMAsED |\n",
       "\n"
      ],
      "text/plain": [
       "       assembler  contig                           coverage  num_SNPs    \n",
       "1      megahit    k141_10004                       2.309278  0.0008591065\n",
       "2      megahit    k141_10007                       2.820189  0.0055205047\n",
       "⋮      ⋮          ⋮                                ⋮         ⋮           \n",
       "406738 metaspades NODE_99_length_6434_cov_2.650572  4.496892 0.004041032 \n",
       "406739 metaspades NODE_9_length_52581_cov_6.898983 11.599970 0.009071718 \n",
       "       num_discordant num_secondary chimeric Extensive_misassembly sample   \n",
       "1      0              0             0                              DeepMAsED\n",
       "2      0              0             0                              DeepMAsED\n",
       "⋮      ⋮              ⋮             ⋮        ⋮                     ⋮        \n",
       "406738 0              0             0                              DeepMAsED\n",
       "406739 0              0             0                              DeepMAsED"
      ]
     },
     "metadata": {},
     "output_type": "display_data"
    }
   ],
   "source": [
    "# reading in feature tables\n",
    "doParallel::registerDoParallel(12)\n",
    "feats_dm = feat_files %>%\n",
    "    #head(n=1) %>%\n",
    "    plyr::llply(read_dm_feat, .parallel=TRUE) %>%\n",
    "    rbindlist(use.names=TRUE) \n",
    "feats_dm"
   ]
  },
  {
   "cell_type": "code",
   "execution_count": 22,
   "id": "c5f8b1a8",
   "metadata": {
    "ExecuteTime": {
     "end_time": "2021-08-12T07:22:38.111195Z",
     "start_time": "2021-08-12T07:22:37.892Z"
    }
   },
   "outputs": [
    {
     "name": "stdout",
     "output_type": "stream",
     "text": [
      "File written: /ebio/abt3_projects/databases_no-backup/DeepMAsED/train_runs/n1000_r30/map/features_per-contig.tsv \n"
     ]
    }
   ],
   "source": [
    "# writing table\n",
    "D = '/ebio/abt3_projects/databases_no-backup/DeepMAsED/train_runs/n1000_r30'\n",
    "D = file.path(D, 'map')\n",
    "F = file.path(D, 'features_per-contig.tsv')\n",
    "write_table(feats_dm, F)"
   ]
  },
  {
   "cell_type": "markdown",
   "id": "b8b45ada",
   "metadata": {},
   "source": [
    "### Compare"
   ]
  },
  {
   "cell_type": "code",
   "execution_count": 33,
   "id": "adac9be1",
   "metadata": {
    "ExecuteTime": {
     "end_time": "2021-08-12T08:40:10.082446Z",
     "start_time": "2021-08-12T08:40:09.366Z"
    }
   },
   "outputs": [
    {
     "data": {
      "text/html": [
       "<table class=\"dataframe\">\n",
       "<caption>A matrix: 1 × 8 of type dbl</caption>\n",
       "<thead>\n",
       "\t<tr><th></th><th scope=col>Min.</th><th scope=col>1st Qu.</th><th scope=col>Median</th><th scope=col>Mean</th><th scope=col>3rd Qu.</th><th scope=col>Max.</th><th scope=col>sd</th><th scope=col>sd_err_of_mean</th></tr>\n",
       "</thead>\n",
       "<tbody>\n",
       "\t<tr><th scope=row>coverage</th><td>1.648461</td><td>8.065347</td><td>10.60224</td><td>11.67869</td><td>16.45892</td><td>18.72453</td><td>6.098</td><td>2.489</td></tr>\n",
       "</tbody>\n",
       "</table>\n"
      ],
      "text/latex": [
       "A matrix: 1 × 8 of type dbl\n",
       "\\begin{tabular}{r|llllllll}\n",
       "  & Min. & 1st Qu. & Median & Mean & 3rd Qu. & Max. & sd & sd\\_err\\_of\\_mean\\\\\n",
       "\\hline\n",
       "\tcoverage & 1.648461 & 8.065347 & 10.60224 & 11.67869 & 16.45892 & 18.72453 & 6.098 & 2.489\\\\\n",
       "\\end{tabular}\n"
      ],
      "text/markdown": [
       "\n",
       "A matrix: 1 × 8 of type dbl\n",
       "\n",
       "| <!--/--> | Min. | 1st Qu. | Median | Mean | 3rd Qu. | Max. | sd | sd_err_of_mean |\n",
       "|---|---|---|---|---|---|---|---|---|\n",
       "| coverage | 1.648461 | 8.065347 | 10.60224 | 11.67869 | 16.45892 | 18.72453 | 6.098 | 2.489 |\n",
       "\n"
      ],
      "text/plain": [
       "         Min.     1st Qu.  Median   Mean     3rd Qu.  Max.     sd   \n",
       "coverage 1.648461 8.065347 10.60224 11.67869 16.45892 18.72453 6.098\n",
       "         sd_err_of_mean\n",
       "coverage 2.489         "
      ]
     },
     "metadata": {},
     "output_type": "display_data"
    },
    {
     "data": {
      "text/html": [
       "<table class=\"dataframe\">\n",
       "<caption>A matrix: 1 × 8 of type dbl</caption>\n",
       "<thead>\n",
       "\t<tr><th></th><th scope=col>Min.</th><th scope=col>1st Qu.</th><th scope=col>Median</th><th scope=col>Mean</th><th scope=col>3rd Qu.</th><th scope=col>Max.</th><th scope=col>sd</th><th scope=col>sd_err_of_mean</th></tr>\n",
       "</thead>\n",
       "<tbody>\n",
       "\t<tr><th scope=row>coverage</th><td>1.002935</td><td>3.185874</td><td>3.95477</td><td>4.4629</td><td>5.006528</td><td>19.99885</td><td>6.87</td><td>2.805</td></tr>\n",
       "</tbody>\n",
       "</table>\n"
      ],
      "text/latex": [
       "A matrix: 1 × 8 of type dbl\n",
       "\\begin{tabular}{r|llllllll}\n",
       "  & Min. & 1st Qu. & Median & Mean & 3rd Qu. & Max. & sd & sd\\_err\\_of\\_mean\\\\\n",
       "\\hline\n",
       "\tcoverage & 1.002935 & 3.185874 & 3.95477 & 4.4629 & 5.006528 & 19.99885 & 6.87 & 2.805\\\\\n",
       "\\end{tabular}\n"
      ],
      "text/markdown": [
       "\n",
       "A matrix: 1 × 8 of type dbl\n",
       "\n",
       "| <!--/--> | Min. | 1st Qu. | Median | Mean | 3rd Qu. | Max. | sd | sd_err_of_mean |\n",
       "|---|---|---|---|---|---|---|---|---|\n",
       "| coverage | 1.002935 | 3.185874 | 3.95477 | 4.4629 | 5.006528 | 19.99885 | 6.87 | 2.805 |\n",
       "\n"
      ],
      "text/plain": [
       "         Min.     1st Qu.  Median  Mean   3rd Qu.  Max.     sd   sd_err_of_mean\n",
       "coverage 1.002935 3.185874 3.95477 4.4629 5.006528 19.99885 6.87 2.805         "
      ]
     },
     "metadata": {},
     "output_type": "display_data"
    },
    {
     "data": {
      "text/html": [
       "<table class=\"dataframe\">\n",
       "<caption>A matrix: 1 × 8 of type dbl</caption>\n",
       "<thead>\n",
       "\t<tr><th></th><th scope=col>Min.</th><th scope=col>1st Qu.</th><th scope=col>Median</th><th scope=col>Mean</th><th scope=col>3rd Qu.</th><th scope=col>Max.</th><th scope=col>sd</th><th scope=col>sd_err_of_mean</th></tr>\n",
       "</thead>\n",
       "<tbody>\n",
       "\t<tr><th scope=row>coverage</th><td>1.246244</td><td>2.610669</td><td>3.231343</td><td>3.519678</td><td>4.072594</td><td>249.1359</td><td>100.515</td><td>41.035</td></tr>\n",
       "</tbody>\n",
       "</table>\n"
      ],
      "text/latex": [
       "A matrix: 1 × 8 of type dbl\n",
       "\\begin{tabular}{r|llllllll}\n",
       "  & Min. & 1st Qu. & Median & Mean & 3rd Qu. & Max. & sd & sd\\_err\\_of\\_mean\\\\\n",
       "\\hline\n",
       "\tcoverage & 1.246244 & 2.610669 & 3.231343 & 3.519678 & 4.072594 & 249.1359 & 100.515 & 41.035\\\\\n",
       "\\end{tabular}\n"
      ],
      "text/markdown": [
       "\n",
       "A matrix: 1 × 8 of type dbl\n",
       "\n",
       "| <!--/--> | Min. | 1st Qu. | Median | Mean | 3rd Qu. | Max. | sd | sd_err_of_mean |\n",
       "|---|---|---|---|---|---|---|---|---|\n",
       "| coverage | 1.246244 | 2.610669 | 3.231343 | 3.519678 | 4.072594 | 249.1359 | 100.515 | 41.035 |\n",
       "\n"
      ],
      "text/plain": [
       "         Min.     1st Qu.  Median   Mean     3rd Qu.  Max.     sd     \n",
       "coverage 1.246244 2.610669 3.231343 3.519678 4.072594 249.1359 100.515\n",
       "         sd_err_of_mean\n",
       "coverage 41.035        "
      ]
     },
     "metadata": {},
     "output_type": "display_data"
    }
   ],
   "source": [
    "# CAMI-gut\n",
    "summary_x(feats$coverage)\n",
    "# ResMiCo training\n",
    "summary_x(feats_rmc$coverage)\n",
    "# DeepMAsED training\n",
    "summary_x(feats_dm$coverage)"
   ]
  },
  {
   "cell_type": "code",
   "execution_count": 34,
   "id": "98252709",
   "metadata": {
    "ExecuteTime": {
     "end_time": "2021-08-12T08:41:20.563281Z",
     "start_time": "2021-08-12T08:41:20.125Z"
    }
   },
   "outputs": [
    {
     "data": {
      "text/html": [
       "<table class=\"dataframe\">\n",
       "<caption>A matrix: 1 × 8 of type dbl</caption>\n",
       "<thead>\n",
       "\t<tr><th></th><th scope=col>Min.</th><th scope=col>1st Qu.</th><th scope=col>Median</th><th scope=col>Mean</th><th scope=col>3rd Qu.</th><th scope=col>Max.</th><th scope=col>sd</th><th scope=col>sd_err_of_mean</th></tr>\n",
       "</thead>\n",
       "<tbody>\n",
       "\t<tr><th scope=row>num_SNPs</th><td>0.0009737098</td><td>0.04395604</td><td>0.06481481</td><td>0.08493616</td><td>0.0944531</td><td>1.729476</td><td>0.683</td><td>0.279</td></tr>\n",
       "</tbody>\n",
       "</table>\n"
      ],
      "text/latex": [
       "A matrix: 1 × 8 of type dbl\n",
       "\\begin{tabular}{r|llllllll}\n",
       "  & Min. & 1st Qu. & Median & Mean & 3rd Qu. & Max. & sd & sd\\_err\\_of\\_mean\\\\\n",
       "\\hline\n",
       "\tnum\\_SNPs & 0.0009737098 & 0.04395604 & 0.06481481 & 0.08493616 & 0.0944531 & 1.729476 & 0.683 & 0.279\\\\\n",
       "\\end{tabular}\n"
      ],
      "text/markdown": [
       "\n",
       "A matrix: 1 × 8 of type dbl\n",
       "\n",
       "| <!--/--> | Min. | 1st Qu. | Median | Mean | 3rd Qu. | Max. | sd | sd_err_of_mean |\n",
       "|---|---|---|---|---|---|---|---|---|\n",
       "| num_SNPs | 0.0009737098 | 0.04395604 | 0.06481481 | 0.08493616 | 0.0944531 | 1.729476 | 0.683 | 0.279 |\n",
       "\n"
      ],
      "text/plain": [
       "         Min.         1st Qu.    Median     Mean       3rd Qu.   Max.     sd   \n",
       "num_SNPs 0.0009737098 0.04395604 0.06481481 0.08493616 0.0944531 1.729476 0.683\n",
       "         sd_err_of_mean\n",
       "num_SNPs 0.279         "
      ]
     },
     "metadata": {},
     "output_type": "display_data"
    },
    {
     "data": {
      "text/html": [
       "<table class=\"dataframe\">\n",
       "<caption>A matrix: 1 × 8 of type dbl</caption>\n",
       "<thead>\n",
       "\t<tr><th></th><th scope=col>Min.</th><th scope=col>1st Qu.</th><th scope=col>Median</th><th scope=col>Mean</th><th scope=col>3rd Qu.</th><th scope=col>Max.</th><th scope=col>sd</th><th scope=col>sd_err_of_mean</th></tr>\n",
       "</thead>\n",
       "<tbody>\n",
       "\t<tr><th scope=row>num_SNPs</th><td>0</td><td>0.003745318</td><td>0.00635497</td><td>0.02091153</td><td>0.01273262</td><td>1.611185</td><td>0.654</td><td>0.267</td></tr>\n",
       "</tbody>\n",
       "</table>\n"
      ],
      "text/latex": [
       "A matrix: 1 × 8 of type dbl\n",
       "\\begin{tabular}{r|llllllll}\n",
       "  & Min. & 1st Qu. & Median & Mean & 3rd Qu. & Max. & sd & sd\\_err\\_of\\_mean\\\\\n",
       "\\hline\n",
       "\tnum\\_SNPs & 0 & 0.003745318 & 0.00635497 & 0.02091153 & 0.01273262 & 1.611185 & 0.654 & 0.267\\\\\n",
       "\\end{tabular}\n"
      ],
      "text/markdown": [
       "\n",
       "A matrix: 1 × 8 of type dbl\n",
       "\n",
       "| <!--/--> | Min. | 1st Qu. | Median | Mean | 3rd Qu. | Max. | sd | sd_err_of_mean |\n",
       "|---|---|---|---|---|---|---|---|---|\n",
       "| num_SNPs | 0 | 0.003745318 | 0.00635497 | 0.02091153 | 0.01273262 | 1.611185 | 0.654 | 0.267 |\n",
       "\n"
      ],
      "text/plain": [
       "         Min. 1st Qu.     Median     Mean       3rd Qu.    Max.     sd   \n",
       "num_SNPs 0    0.003745318 0.00635497 0.02091153 0.01273262 1.611185 0.654\n",
       "         sd_err_of_mean\n",
       "num_SNPs 0.267         "
      ]
     },
     "metadata": {},
     "output_type": "display_data"
    },
    {
     "data": {
      "text/html": [
       "<table class=\"dataframe\">\n",
       "<caption>A matrix: 1 × 8 of type dbl</caption>\n",
       "<thead>\n",
       "\t<tr><th></th><th scope=col>Min.</th><th scope=col>1st Qu.</th><th scope=col>Median</th><th scope=col>Mean</th><th scope=col>3rd Qu.</th><th scope=col>Max.</th><th scope=col>sd</th><th scope=col>sd_err_of_mean</th></tr>\n",
       "</thead>\n",
       "<tbody>\n",
       "\t<tr><th scope=row>num_SNPs</th><td>0</td><td>0.002203857</td><td>0.003617945</td><td>0.005745877</td><td>0.005381166</td><td>3.315322</td><td>1.352</td><td>0.552</td></tr>\n",
       "</tbody>\n",
       "</table>\n"
      ],
      "text/latex": [
       "A matrix: 1 × 8 of type dbl\n",
       "\\begin{tabular}{r|llllllll}\n",
       "  & Min. & 1st Qu. & Median & Mean & 3rd Qu. & Max. & sd & sd\\_err\\_of\\_mean\\\\\n",
       "\\hline\n",
       "\tnum\\_SNPs & 0 & 0.002203857 & 0.003617945 & 0.005745877 & 0.005381166 & 3.315322 & 1.352 & 0.552\\\\\n",
       "\\end{tabular}\n"
      ],
      "text/markdown": [
       "\n",
       "A matrix: 1 × 8 of type dbl\n",
       "\n",
       "| <!--/--> | Min. | 1st Qu. | Median | Mean | 3rd Qu. | Max. | sd | sd_err_of_mean |\n",
       "|---|---|---|---|---|---|---|---|---|\n",
       "| num_SNPs | 0 | 0.002203857 | 0.003617945 | 0.005745877 | 0.005381166 | 3.315322 | 1.352 | 0.552 |\n",
       "\n"
      ],
      "text/plain": [
       "         Min. 1st Qu.     Median      Mean        3rd Qu.     Max.     sd   \n",
       "num_SNPs 0    0.002203857 0.003617945 0.005745877 0.005381166 3.315322 1.352\n",
       "         sd_err_of_mean\n",
       "num_SNPs 0.552         "
      ]
     },
     "metadata": {},
     "output_type": "display_data"
    }
   ],
   "source": [
    "# CAMI-gut\n",
    "summary_x(feats$num_SNPs)\n",
    "# ResMiCo training\n",
    "summary_x(feats_rmc$num_SNPs)\n",
    "# DeepMAsED training\n",
    "summary_x(feats_dm$num_SNPs)"
   ]
  },
  {
   "cell_type": "code",
   "execution_count": 38,
   "id": "dea73a84",
   "metadata": {
    "ExecuteTime": {
     "end_time": "2021-08-12T08:42:26.896720Z",
     "start_time": "2021-08-12T08:42:26.252Z"
    }
   },
   "outputs": [
    {
     "data": {
      "text/html": [
       "<table class=\"dataframe\">\n",
       "<caption>A matrix: 1 × 8 of type dbl</caption>\n",
       "<thead>\n",
       "\t<tr><th></th><th scope=col>Min.</th><th scope=col>1st Qu.</th><th scope=col>Median</th><th scope=col>Mean</th><th scope=col>3rd Qu.</th><th scope=col>Max.</th><th scope=col>sd</th><th scope=col>sd_err_of_mean</th></tr>\n",
       "</thead>\n",
       "<tbody>\n",
       "\t<tr><th scope=row>num_discordant_Match</th><td>0</td><td>0</td><td>0</td><td>0.175737</td><td>0.2466787</td><td>14.51919</td><td>5.894</td><td>2.406</td></tr>\n",
       "</tbody>\n",
       "</table>\n"
      ],
      "text/latex": [
       "A matrix: 1 × 8 of type dbl\n",
       "\\begin{tabular}{r|llllllll}\n",
       "  & Min. & 1st Qu. & Median & Mean & 3rd Qu. & Max. & sd & sd\\_err\\_of\\_mean\\\\\n",
       "\\hline\n",
       "\tnum\\_discordant\\_Match & 0 & 0 & 0 & 0.175737 & 0.2466787 & 14.51919 & 5.894 & 2.406\\\\\n",
       "\\end{tabular}\n"
      ],
      "text/markdown": [
       "\n",
       "A matrix: 1 × 8 of type dbl\n",
       "\n",
       "| <!--/--> | Min. | 1st Qu. | Median | Mean | 3rd Qu. | Max. | sd | sd_err_of_mean |\n",
       "|---|---|---|---|---|---|---|---|---|\n",
       "| num_discordant_Match | 0 | 0 | 0 | 0.175737 | 0.2466787 | 14.51919 | 5.894 | 2.406 |\n",
       "\n"
      ],
      "text/plain": [
       "                     Min. 1st Qu. Median Mean     3rd Qu.   Max.     sd   \n",
       "num_discordant_Match 0    0       0      0.175737 0.2466787 14.51919 5.894\n",
       "                     sd_err_of_mean\n",
       "num_discordant_Match 2.406         "
      ]
     },
     "metadata": {},
     "output_type": "display_data"
    },
    {
     "data": {
      "text/html": [
       "<table class=\"dataframe\">\n",
       "<caption>A matrix: 1 × 8 of type dbl</caption>\n",
       "<thead>\n",
       "\t<tr><th></th><th scope=col>Min.</th><th scope=col>1st Qu.</th><th scope=col>Median</th><th scope=col>Mean</th><th scope=col>3rd Qu.</th><th scope=col>Max.</th><th scope=col>sd</th><th scope=col>sd_err_of_mean</th></tr>\n",
       "</thead>\n",
       "<tbody>\n",
       "\t<tr><th scope=row>num_discordant_Match</th><td>0</td><td>0</td><td>0</td><td>0.04326046</td><td>0.03025719</td><td>10.34765</td><td>4.218</td><td>1.722</td></tr>\n",
       "</tbody>\n",
       "</table>\n"
      ],
      "text/latex": [
       "A matrix: 1 × 8 of type dbl\n",
       "\\begin{tabular}{r|llllllll}\n",
       "  & Min. & 1st Qu. & Median & Mean & 3rd Qu. & Max. & sd & sd\\_err\\_of\\_mean\\\\\n",
       "\\hline\n",
       "\tnum\\_discordant\\_Match & 0 & 0 & 0 & 0.04326046 & 0.03025719 & 10.34765 & 4.218 & 1.722\\\\\n",
       "\\end{tabular}\n"
      ],
      "text/markdown": [
       "\n",
       "A matrix: 1 × 8 of type dbl\n",
       "\n",
       "| <!--/--> | Min. | 1st Qu. | Median | Mean | 3rd Qu. | Max. | sd | sd_err_of_mean |\n",
       "|---|---|---|---|---|---|---|---|---|\n",
       "| num_discordant_Match | 0 | 0 | 0 | 0.04326046 | 0.03025719 | 10.34765 | 4.218 | 1.722 |\n",
       "\n"
      ],
      "text/plain": [
       "                     Min. 1st Qu. Median Mean       3rd Qu.    Max.     sd   \n",
       "num_discordant_Match 0    0       0      0.04326046 0.03025719 10.34765 4.218\n",
       "                     sd_err_of_mean\n",
       "num_discordant_Match 1.722         "
      ]
     },
     "metadata": {},
     "output_type": "display_data"
    },
    {
     "data": {
      "text/html": [
       "<table class=\"dataframe\">\n",
       "<caption>A matrix: 1 × 8 of type dbl</caption>\n",
       "<thead>\n",
       "\t<tr><th></th><th scope=col>Min.</th><th scope=col>1st Qu.</th><th scope=col>Median</th><th scope=col>Mean</th><th scope=col>3rd Qu.</th><th scope=col>Max.</th><th scope=col>sd</th><th scope=col>sd_err_of_mean</th></tr>\n",
       "</thead>\n",
       "<tbody>\n",
       "\t<tr><th scope=row>num_discordant</th><td>0</td><td>0</td><td>0</td><td>0.003713145</td><td>0</td><td>9.548483</td><td>3.898</td><td>1.591</td></tr>\n",
       "</tbody>\n",
       "</table>\n"
      ],
      "text/latex": [
       "A matrix: 1 × 8 of type dbl\n",
       "\\begin{tabular}{r|llllllll}\n",
       "  & Min. & 1st Qu. & Median & Mean & 3rd Qu. & Max. & sd & sd\\_err\\_of\\_mean\\\\\n",
       "\\hline\n",
       "\tnum\\_discordant & 0 & 0 & 0 & 0.003713145 & 0 & 9.548483 & 3.898 & 1.591\\\\\n",
       "\\end{tabular}\n"
      ],
      "text/markdown": [
       "\n",
       "A matrix: 1 × 8 of type dbl\n",
       "\n",
       "| <!--/--> | Min. | 1st Qu. | Median | Mean | 3rd Qu. | Max. | sd | sd_err_of_mean |\n",
       "|---|---|---|---|---|---|---|---|---|\n",
       "| num_discordant | 0 | 0 | 0 | 0.003713145 | 0 | 9.548483 | 3.898 | 1.591 |\n",
       "\n"
      ],
      "text/plain": [
       "               Min. 1st Qu. Median Mean        3rd Qu. Max.     sd   \n",
       "num_discordant 0    0       0      0.003713145 0       9.548483 3.898\n",
       "               sd_err_of_mean\n",
       "num_discordant 1.591         "
      ]
     },
     "metadata": {},
     "output_type": "display_data"
    }
   ],
   "source": [
    "# CAMI-gut\n",
    "summary_x(feats$num_discordant_Match)\n",
    "# ResMiCo training\n",
    "summary_x(feats_rmc$num_discordant_Match)\n",
    "# DeepMAsED training\n",
    "summary_x(feats_dm$num_discordant)"
   ]
  },
  {
   "cell_type": "code",
   "execution_count": 58,
   "id": "a83d9052",
   "metadata": {
    "ExecuteTime": {
     "end_time": "2021-08-12T08:46:21.495130Z",
     "start_time": "2021-08-12T08:46:21.292Z"
    }
   },
   "outputs": [
    {
     "data": {
      "text/html": [
       "<table class=\"dataframe\">\n",
       "<caption>A matrix: 1 × 8 of type dbl</caption>\n",
       "<thead>\n",
       "\t<tr><th></th><th scope=col>Min.</th><th scope=col>1st Qu.</th><th scope=col>Median</th><th scope=col>Mean</th><th scope=col>3rd Qu.</th><th scope=col>Max.</th><th scope=col>sd</th><th scope=col>sd_err_of_mean</th></tr>\n",
       "</thead>\n",
       "<tbody>\n",
       "\t<tr><th scope=row>Extensive_misassembly</th><td>0</td><td>0</td><td>0</td><td>0.01282703</td><td>0</td><td>1</td><td>0.407</td><td>0.166</td></tr>\n",
       "</tbody>\n",
       "</table>\n"
      ],
      "text/latex": [
       "A matrix: 1 × 8 of type dbl\n",
       "\\begin{tabular}{r|llllllll}\n",
       "  & Min. & 1st Qu. & Median & Mean & 3rd Qu. & Max. & sd & sd\\_err\\_of\\_mean\\\\\n",
       "\\hline\n",
       "\tExtensive\\_misassembly & 0 & 0 & 0 & 0.01282703 & 0 & 1 & 0.407 & 0.166\\\\\n",
       "\\end{tabular}\n"
      ],
      "text/markdown": [
       "\n",
       "A matrix: 1 × 8 of type dbl\n",
       "\n",
       "| <!--/--> | Min. | 1st Qu. | Median | Mean | 3rd Qu. | Max. | sd | sd_err_of_mean |\n",
       "|---|---|---|---|---|---|---|---|---|\n",
       "| Extensive_misassembly | 0 | 0 | 0 | 0.01282703 | 0 | 1 | 0.407 | 0.166 |\n",
       "\n"
      ],
      "text/plain": [
       "                      Min. 1st Qu. Median Mean       3rd Qu. Max. sd   \n",
       "Extensive_misassembly 0    0       0      0.01282703 0       1    0.407\n",
       "                      sd_err_of_mean\n",
       "Extensive_misassembly 0.166         "
      ]
     },
     "metadata": {},
     "output_type": "display_data"
    },
    {
     "data": {
      "text/html": [
       "<table class=\"dataframe\">\n",
       "<caption>A matrix: 1 × 8 of type dbl</caption>\n",
       "<thead>\n",
       "\t<tr><th></th><th scope=col>Min.</th><th scope=col>1st Qu.</th><th scope=col>Median</th><th scope=col>Mean</th><th scope=col>3rd Qu.</th><th scope=col>Max.</th><th scope=col>sd</th><th scope=col>sd_err_of_mean</th></tr>\n",
       "</thead>\n",
       "<tbody>\n",
       "\t<tr><th scope=row>Extensive_misassembly</th><td>0</td><td>0</td><td>0</td><td>0.04897971</td><td>0</td><td>1</td><td>0.405</td><td>0.165</td></tr>\n",
       "</tbody>\n",
       "</table>\n"
      ],
      "text/latex": [
       "A matrix: 1 × 8 of type dbl\n",
       "\\begin{tabular}{r|llllllll}\n",
       "  & Min. & 1st Qu. & Median & Mean & 3rd Qu. & Max. & sd & sd\\_err\\_of\\_mean\\\\\n",
       "\\hline\n",
       "\tExtensive\\_misassembly & 0 & 0 & 0 & 0.04897971 & 0 & 1 & 0.405 & 0.165\\\\\n",
       "\\end{tabular}\n"
      ],
      "text/markdown": [
       "\n",
       "A matrix: 1 × 8 of type dbl\n",
       "\n",
       "| <!--/--> | Min. | 1st Qu. | Median | Mean | 3rd Qu. | Max. | sd | sd_err_of_mean |\n",
       "|---|---|---|---|---|---|---|---|---|\n",
       "| Extensive_misassembly | 0 | 0 | 0 | 0.04897971 | 0 | 1 | 0.405 | 0.165 |\n",
       "\n"
      ],
      "text/plain": [
       "                      Min. 1st Qu. Median Mean       3rd Qu. Max. sd   \n",
       "Extensive_misassembly 0    0       0      0.04897971 0       1    0.405\n",
       "                      sd_err_of_mean\n",
       "Extensive_misassembly 0.165         "
      ]
     },
     "metadata": {},
     "output_type": "display_data"
    },
    {
     "data": {
      "text/html": [
       "<table class=\"dataframe\">\n",
       "<caption>A matrix: 1 × 8 of type dbl</caption>\n",
       "<thead>\n",
       "\t<tr><th></th><th scope=col>Min.</th><th scope=col>1st Qu.</th><th scope=col>Median</th><th scope=col>Mean</th><th scope=col>3rd Qu.</th><th scope=col>Max.</th><th scope=col>sd</th><th scope=col>sd_err_of_mean</th></tr>\n",
       "</thead>\n",
       "<tbody>\n",
       "\t<tr><th scope=row>Extensive_misassembly</th><td>0</td><td>0</td><td>0</td><td>0.03301134</td><td>0</td><td>1</td><td>0.406</td><td>0.166</td></tr>\n",
       "</tbody>\n",
       "</table>\n"
      ],
      "text/latex": [
       "A matrix: 1 × 8 of type dbl\n",
       "\\begin{tabular}{r|llllllll}\n",
       "  & Min. & 1st Qu. & Median & Mean & 3rd Qu. & Max. & sd & sd\\_err\\_of\\_mean\\\\\n",
       "\\hline\n",
       "\tExtensive\\_misassembly & 0 & 0 & 0 & 0.03301134 & 0 & 1 & 0.406 & 0.166\\\\\n",
       "\\end{tabular}\n"
      ],
      "text/markdown": [
       "\n",
       "A matrix: 1 × 8 of type dbl\n",
       "\n",
       "| <!--/--> | Min. | 1st Qu. | Median | Mean | 3rd Qu. | Max. | sd | sd_err_of_mean |\n",
       "|---|---|---|---|---|---|---|---|---|\n",
       "| Extensive_misassembly | 0 | 0 | 0 | 0.03301134 | 0 | 1 | 0.406 | 0.166 |\n",
       "\n"
      ],
      "text/plain": [
       "                      Min. 1st Qu. Median Mean       3rd Qu. Max. sd   \n",
       "Extensive_misassembly 0    0       0      0.03301134 0       1    0.406\n",
       "                      sd_err_of_mean\n",
       "Extensive_misassembly 0.166         "
      ]
     },
     "metadata": {},
     "output_type": "display_data"
    }
   ],
   "source": [
    "# CAMI-gut\n",
    "summary_x(feats$Extensive_misassembly)\n",
    "# ResMiCo training\n",
    "summary_x(feats_rmc$Extensive_misassembly)\n",
    "# DeepMAsED training\n",
    "feats_dm %>% \n",
    "   mutate.(Extensive_misassembly = ifelse(Extensive_misassembly == '', 0, 1)) %>%\n",
    "   .$Extensive_misassembly %>% summary_x('Extensive_misassembly')"
   ]
  },
  {
   "cell_type": "markdown",
   "id": "b10f4f1b",
   "metadata": {},
   "source": [
    "# sessionInfo"
   ]
  },
  {
   "cell_type": "code",
   "execution_count": 25,
   "id": "5d9f2714",
   "metadata": {
    "ExecuteTime": {
     "end_time": "2021-08-09T17:11:53.121050Z",
     "start_time": "2021-08-09T17:11:11.092Z"
    }
   },
   "outputs": [
    {
     "data": {
      "text/plain": [
       "R version 4.1.0 (2021-05-18)\n",
       "Platform: x86_64-conda-linux-gnu (64-bit)\n",
       "Running under: Ubuntu 18.04.5 LTS\n",
       "\n",
       "Matrix products: default\n",
       "BLAS/LAPACK: /ebio/abt3_projects/Anxiety_Twins_Metagenomes/envs/tidyverse2/lib/libopenblasp-r0.3.12.so\n",
       "\n",
       "locale:\n",
       " [1] LC_CTYPE=en_US.UTF-8       LC_NUMERIC=C              \n",
       " [3] LC_TIME=en_US.UTF-8        LC_COLLATE=en_US.UTF-8    \n",
       " [5] LC_MONETARY=en_US.UTF-8    LC_MESSAGES=en_US.UTF-8   \n",
       " [7] LC_PAPER=en_US.UTF-8       LC_NAME=C                 \n",
       " [9] LC_ADDRESS=C               LC_TELEPHONE=C            \n",
       "[11] LC_MEASUREMENT=en_US.UTF-8 LC_IDENTIFICATION=C       \n",
       "\n",
       "attached base packages:\n",
       "[1] stats     graphics  grDevices utils     datasets  methods   base     \n",
       "\n",
       "other attached packages:\n",
       "[1] LeyLabRMisc_0.1.9 tidytable_0.6.3   data.table_1.14.0 ggplot2_3.3.5    \n",
       "[5] tidyr_1.1.3       dplyr_1.0.7      \n",
       "\n",
       "loaded via a namespace (and not attached):\n",
       " [1] Rcpp_1.0.7        plyr_1.8.6        pillar_1.6.1      compiler_4.1.0   \n",
       " [5] iterators_1.0.13  base64enc_0.1-3   tools_4.1.0       digest_0.6.27    \n",
       " [9] uuid_0.1-4        jsonlite_1.7.2    evaluate_0.14     lifecycle_1.0.0  \n",
       "[13] tibble_3.1.2      gtable_0.3.0      pkgconfig_2.0.3   rlang_0.4.11     \n",
       "[17] foreach_1.5.1     IRdisplay_1.0     parallel_4.1.0    IRkernel_1.2     \n",
       "[21] repr_1.1.3        withr_2.4.2       generics_0.1.0    vctrs_0.3.8      \n",
       "[25] grid_4.1.0        tidyselect_1.1.1  glue_1.4.2        R6_2.5.0         \n",
       "[29] fansi_0.4.2       pbdZMQ_0.3-5      purrr_0.3.4       magrittr_2.0.1   \n",
       "[33] codetools_0.2-18  scales_1.1.1      ellipsis_0.3.2    htmltools_0.5.1.1\n",
       "[37] colorspace_2.0-2  utf8_1.2.1        munsell_0.5.0     doParallel_1.0.16\n",
       "[41] crayon_1.4.1     "
      ]
     },
     "metadata": {},
     "output_type": "display_data"
    }
   ],
   "source": [
    "sessionInfo()"
   ]
  }
 ],
 "metadata": {
  "kernelspec": {
   "display_name": "R [conda env:Anxiety_Twins_Metagenomes-tidyverse2]",
   "language": "R",
   "name": "conda-env-Anxiety_Twins_Metagenomes-tidyverse2-r"
  },
  "language_info": {
   "codemirror_mode": "r",
   "file_extension": ".r",
   "mimetype": "text/x-r-source",
   "name": "R",
   "pygments_lexer": "r",
   "version": "4.1.0"
  },
  "notify_time": "30",
  "toc": {
   "base_numbering": 1,
   "nav_menu": {},
   "number_sections": true,
   "sideBar": true,
   "skip_h1_title": false,
   "title_cell": "Table of Contents",
   "title_sidebar": "Contents",
   "toc_cell": true,
   "toc_position": {
    "height": "calc(100% - 180px)",
    "left": "10px",
    "top": "150px",
    "width": "256px"
   },
   "toc_section_display": true,
   "toc_window_display": true
  }
 },
 "nbformat": 4,
 "nbformat_minor": 5
}
