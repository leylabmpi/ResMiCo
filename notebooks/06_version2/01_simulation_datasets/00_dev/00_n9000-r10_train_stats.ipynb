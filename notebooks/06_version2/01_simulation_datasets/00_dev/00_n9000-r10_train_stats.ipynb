{
 "cells": [
  {
   "cell_type": "markdown",
   "id": "c699f5d9",
   "metadata": {
    "toc": true
   },
   "source": [
    "<h1>Table of Contents<span class=\"tocSkip\"></span></h1>\n",
    "<div class=\"toc\"><ul class=\"toc-item\"><li><span><a href=\"#Var\" data-toc-modified-id=\"Var-1\"><span class=\"toc-item-num\">1&nbsp;&nbsp;</span>Var</a></span></li><li><span><a href=\"#Init\" data-toc-modified-id=\"Init-2\"><span class=\"toc-item-num\">2&nbsp;&nbsp;</span>Init</a></span></li><li><span><a href=\"#Load\" data-toc-modified-id=\"Load-3\"><span class=\"toc-item-num\">3&nbsp;&nbsp;</span>Load</a></span></li><li><span><a href=\"#sessionInfo\" data-toc-modified-id=\"sessionInfo-4\"><span class=\"toc-item-num\">4&nbsp;&nbsp;</span>sessionInfo</a></span></li></ul></div>"
   ]
  },
  {
   "cell_type": "markdown",
   "id": "64ed6909",
   "metadata": {},
   "source": [
    "# Var"
   ]
  },
  {
   "cell_type": "code",
   "execution_count": 3,
   "id": "f3080e16",
   "metadata": {
    "ExecuteTime": {
     "end_time": "2021-07-25T04:47:03.802652Z",
     "start_time": "2021-07-25T04:47:03.760Z"
    }
   },
   "outputs": [],
   "source": [
    "work_dir = '/ebio/abt3_projects/databases_no-backup/DeepMAsED/version2/deepmased-sm/n9000-rand_r10/train/'\n"
   ]
  },
  {
   "cell_type": "markdown",
   "id": "acc08404",
   "metadata": {},
   "source": [
    "# Init"
   ]
  },
  {
   "cell_type": "code",
   "execution_count": 4,
   "id": "0d0d67fe",
   "metadata": {
    "ExecuteTime": {
     "end_time": "2021-07-25T04:47:04.125151Z",
     "start_time": "2021-07-25T04:47:04.071Z"
    }
   },
   "outputs": [],
   "source": [
    "library(dplyr)\n",
    "library(tidyr)\n",
    "library(ggplot2)\n",
    "library(data.table)\n",
    "library(tidytable)\n",
    "library(LeyLabRMisc)"
   ]
  },
  {
   "cell_type": "code",
   "execution_count": 5,
   "id": "1b06c72c",
   "metadata": {
    "ExecuteTime": {
     "end_time": "2021-07-25T04:47:04.237066Z",
     "start_time": "2021-07-25T04:47:04.198Z"
    }
   },
   "outputs": [],
   "source": [
    "df.dims()\n",
    "setDTthreads(4)"
   ]
  },
  {
   "cell_type": "markdown",
   "id": "c0fcef03",
   "metadata": {},
   "source": [
    "# Load"
   ]
  },
  {
   "cell_type": "code",
   "execution_count": 6,
   "id": "4e124739",
   "metadata": {
    "ExecuteTime": {
     "end_time": "2021-07-25T04:47:08.045280Z",
     "start_time": "2021-07-25T04:47:07.849Z"
    }
   },
   "outputs": [
    {
     "data": {
      "text/html": [
       "<table class=\"dataframe\">\n",
       "<caption>A tidytable: 320 × 6</caption>\n",
       "<thead>\n",
       "\t<tr><th scope=col>richness</th><th scope=col>rep</th><th scope=col>read_depth</th><th scope=col>assembler</th><th scope=col>feature_file</th><th scope=col>MGSIM_reads_params</th></tr>\n",
       "\t<tr><th scope=col>&lt;dbl&gt;</th><th scope=col>&lt;int&gt;</th><th scope=col>&lt;int&gt;</th><th scope=col>&lt;chr&gt;</th><th scope=col>&lt;chr&gt;</th><th scope=col>&lt;chr&gt;</th></tr>\n",
       "</thead>\n",
       "<tbody>\n",
       "\t<tr><td>0.055555</td><td>1</td><td>500000</td><td>metaspades</td><td>/ebio/abt3_projects/databases_no-backup/DeepMAsED/version2/deepmased-sm/n9000-rand_r10/train/features//0.055555/1/500000/metaspades/features.tsv.gz</td><td>--art-paired --art-mflen 250 --art-sdev 10</td></tr>\n",
       "\t<tr><td>0.055555</td><td>1</td><td>500000</td><td>megahit   </td><td>/ebio/abt3_projects/databases_no-backup/DeepMAsED/version2/deepmased-sm/n9000-rand_r10/train/features//0.055555/1/500000/megahit/features.tsv.gz   </td><td>--art-paired --art-mflen 250 --art-sdev 10</td></tr>\n",
       "\t<tr><td>⋮</td><td>⋮</td><td>⋮</td><td>⋮</td><td>⋮</td><td>⋮</td></tr>\n",
       "\t<tr><td>0.333333</td><td>10</td><td>4000000</td><td>metaspades</td><td>/ebio/abt3_projects/databases_no-backup/DeepMAsED/version2/deepmased-sm/n9000-rand_r10/train/features//0.333333/10/4000000/metaspades/features.tsv.gz</td><td>--art-paired --art-mflen 250 --art-sdev 10</td></tr>\n",
       "\t<tr><td>0.333333</td><td>10</td><td>4000000</td><td>megahit   </td><td>/ebio/abt3_projects/databases_no-backup/DeepMAsED/version2/deepmased-sm/n9000-rand_r10/train/features//0.333333/10/4000000/megahit/features.tsv.gz   </td><td>--art-paired --art-mflen 250 --art-sdev 10</td></tr>\n",
       "</tbody>\n",
       "</table>\n"
      ],
      "text/latex": [
       "A tidytable: 320 × 6\n",
       "\\begin{tabular}{llllll}\n",
       " richness & rep & read\\_depth & assembler & feature\\_file & MGSIM\\_reads\\_params\\\\\n",
       " <dbl> & <int> & <int> & <chr> & <chr> & <chr>\\\\\n",
       "\\hline\n",
       "\t 0.055555 & 1 & 500000 & metaspades & /ebio/abt3\\_projects/databases\\_no-backup/DeepMAsED/version2/deepmased-sm/n9000-rand\\_r10/train/features//0.055555/1/500000/metaspades/features.tsv.gz & --art-paired --art-mflen 250 --art-sdev 10\\\\\n",
       "\t 0.055555 & 1 & 500000 & megahit    & /ebio/abt3\\_projects/databases\\_no-backup/DeepMAsED/version2/deepmased-sm/n9000-rand\\_r10/train/features//0.055555/1/500000/megahit/features.tsv.gz    & --art-paired --art-mflen 250 --art-sdev 10\\\\\n",
       "\t ⋮ & ⋮ & ⋮ & ⋮ & ⋮ & ⋮\\\\\n",
       "\t 0.333333 & 10 & 4000000 & metaspades & /ebio/abt3\\_projects/databases\\_no-backup/DeepMAsED/version2/deepmased-sm/n9000-rand\\_r10/train/features//0.333333/10/4000000/metaspades/features.tsv.gz & --art-paired --art-mflen 250 --art-sdev 10\\\\\n",
       "\t 0.333333 & 10 & 4000000 & megahit    & /ebio/abt3\\_projects/databases\\_no-backup/DeepMAsED/version2/deepmased-sm/n9000-rand\\_r10/train/features//0.333333/10/4000000/megahit/features.tsv.gz    & --art-paired --art-mflen 250 --art-sdev 10\\\\\n",
       "\\end{tabular}\n"
      ],
      "text/markdown": [
       "\n",
       "A tidytable: 320 × 6\n",
       "\n",
       "| richness &lt;dbl&gt; | rep &lt;int&gt; | read_depth &lt;int&gt; | assembler &lt;chr&gt; | feature_file &lt;chr&gt; | MGSIM_reads_params &lt;chr&gt; |\n",
       "|---|---|---|---|---|---|\n",
       "| 0.055555 | 1 | 500000 | metaspades | /ebio/abt3_projects/databases_no-backup/DeepMAsED/version2/deepmased-sm/n9000-rand_r10/train/features//0.055555/1/500000/metaspades/features.tsv.gz | --art-paired --art-mflen 250 --art-sdev 10 |\n",
       "| 0.055555 | 1 | 500000 | megahit    | /ebio/abt3_projects/databases_no-backup/DeepMAsED/version2/deepmased-sm/n9000-rand_r10/train/features//0.055555/1/500000/megahit/features.tsv.gz    | --art-paired --art-mflen 250 --art-sdev 10 |\n",
       "| ⋮ | ⋮ | ⋮ | ⋮ | ⋮ | ⋮ |\n",
       "| 0.333333 | 10 | 4000000 | metaspades | /ebio/abt3_projects/databases_no-backup/DeepMAsED/version2/deepmased-sm/n9000-rand_r10/train/features//0.333333/10/4000000/metaspades/features.tsv.gz | --art-paired --art-mflen 250 --art-sdev 10 |\n",
       "| 0.333333 | 10 | 4000000 | megahit    | /ebio/abt3_projects/databases_no-backup/DeepMAsED/version2/deepmased-sm/n9000-rand_r10/train/features//0.333333/10/4000000/megahit/features.tsv.gz    | --art-paired --art-mflen 250 --art-sdev 10 |\n",
       "\n"
      ],
      "text/plain": [
       "    richness rep read_depth assembler \n",
       "1   0.055555 1   500000     metaspades\n",
       "2   0.055555 1   500000     megahit   \n",
       "⋮   ⋮        ⋮   ⋮          ⋮         \n",
       "319 0.333333 10  4000000    metaspades\n",
       "320 0.333333 10  4000000    megahit   \n",
       "    feature_file                                                                                                                                         \n",
       "1   /ebio/abt3_projects/databases_no-backup/DeepMAsED/version2/deepmased-sm/n9000-rand_r10/train/features//0.055555/1/500000/metaspades/features.tsv.gz  \n",
       "2   /ebio/abt3_projects/databases_no-backup/DeepMAsED/version2/deepmased-sm/n9000-rand_r10/train/features//0.055555/1/500000/megahit/features.tsv.gz     \n",
       "⋮   ⋮                                                                                                                                                    \n",
       "319 /ebio/abt3_projects/databases_no-backup/DeepMAsED/version2/deepmased-sm/n9000-rand_r10/train/features//0.333333/10/4000000/metaspades/features.tsv.gz\n",
       "320 /ebio/abt3_projects/databases_no-backup/DeepMAsED/version2/deepmased-sm/n9000-rand_r10/train/features//0.333333/10/4000000/megahit/features.tsv.gz   \n",
       "    MGSIM_reads_params                        \n",
       "1   --art-paired --art-mflen 250 --art-sdev 10\n",
       "2   --art-paired --art-mflen 250 --art-sdev 10\n",
       "⋮   ⋮                                         \n",
       "319 --art-paired --art-mflen 250 --art-sdev 10\n",
       "320 --art-paired --art-mflen 250 --art-sdev 10"
      ]
     },
     "metadata": {},
     "output_type": "display_data"
    }
   ],
   "source": [
    "D = '/ebio/abt3_projects/databases_no-backup/DeepMAsED/version2/deepmased-sm/n9000-rand_r10/train/features/'\n",
    "F = file.path(D, 'feature_files.tsv')\n",
    "files = Fread(F) %>%\n",
    "    mutate.(feature_file = file.path(D, feature_file))\n",
    "files"
   ]
  },
  {
   "cell_type": "code",
   "execution_count": 12,
   "id": "d7c27772",
   "metadata": {
    "ExecuteTime": {
     "end_time": "2021-07-25T06:00:38.929529Z",
     "start_time": "2021-07-25T04:48:59.382Z"
    }
   },
   "outputs": [
    {
     "data": {
      "text/html": [
       "<table class=\"dataframe\">\n",
       "<caption>A data.table: 4059585 × 7</caption>\n",
       "<thead>\n",
       "\t<tr><th scope=col>contig</th><th scope=col>coverage</th><th scope=col>num_SNPs</th><th scope=col>mean_insert_size_Match</th><th scope=col>sd_insert_size_Match</th><th scope=col>mean_insert_size_SNP</th><th scope=col>sd_insert_size_SNP</th></tr>\n",
       "\t<tr><th scope=col>&lt;chr&gt;</th><th scope=col>&lt;dbl&gt;</th><th scope=col>&lt;dbl&gt;</th><th scope=col>&lt;dbl&gt;</th><th scope=col>&lt;dbl&gt;</th><th scope=col>&lt;dbl&gt;</th><th scope=col>&lt;dbl&gt;</th></tr>\n",
       "</thead>\n",
       "<tbody>\n",
       "\t<tr><td>NODE_1169_length_1013_cov_2.305846</td><td>4</td><td>0</td><td>253.30</td><td>6.181070</td><td>252</td><td>8.485281</td></tr>\n",
       "\t<tr><td>NODE_890_length_1158_cov_1.858568 </td><td>3</td><td>0</td><td>249.85</td><td>4.270082</td><td>256</td><td>6.898067</td></tr>\n",
       "\t<tr><td>⋮</td><td>⋮</td><td>⋮</td><td>⋮</td><td>⋮</td><td>⋮</td><td>⋮</td></tr>\n",
       "\t<tr><td>k141_14989</td><td>2</td><td>0</td><td>246</td><td> 4.45962</td><td>248</td><td>4.242641</td></tr>\n",
       "\t<tr><td>k141_87444</td><td>5</td><td>0</td><td>250</td><td>34.57184</td><td>243</td><td>2.566718</td></tr>\n",
       "</tbody>\n",
       "</table>\n"
      ],
      "text/latex": [
       "A data.table: 4059585 × 7\n",
       "\\begin{tabular}{lllllll}\n",
       " contig & coverage & num\\_SNPs & mean\\_insert\\_size\\_Match & sd\\_insert\\_size\\_Match & mean\\_insert\\_size\\_SNP & sd\\_insert\\_size\\_SNP\\\\\n",
       " <chr> & <dbl> & <dbl> & <dbl> & <dbl> & <dbl> & <dbl>\\\\\n",
       "\\hline\n",
       "\t NODE\\_1169\\_length\\_1013\\_cov\\_2.305846 & 4 & 0 & 253.30 & 6.181070 & 252 & 8.485281\\\\\n",
       "\t NODE\\_890\\_length\\_1158\\_cov\\_1.858568  & 3 & 0 & 249.85 & 4.270082 & 256 & 6.898067\\\\\n",
       "\t ⋮ & ⋮ & ⋮ & ⋮ & ⋮ & ⋮ & ⋮\\\\\n",
       "\t k141\\_14989 & 2 & 0 & 246 &  4.45962 & 248 & 4.242641\\\\\n",
       "\t k141\\_87444 & 5 & 0 & 250 & 34.57184 & 243 & 2.566718\\\\\n",
       "\\end{tabular}\n"
      ],
      "text/markdown": [
       "\n",
       "A data.table: 4059585 × 7\n",
       "\n",
       "| contig &lt;chr&gt; | coverage &lt;dbl&gt; | num_SNPs &lt;dbl&gt; | mean_insert_size_Match &lt;dbl&gt; | sd_insert_size_Match &lt;dbl&gt; | mean_insert_size_SNP &lt;dbl&gt; | sd_insert_size_SNP &lt;dbl&gt; |\n",
       "|---|---|---|---|---|---|---|\n",
       "| NODE_1169_length_1013_cov_2.305846 | 4 | 0 | 253.30 | 6.181070 | 252 | 8.485281 |\n",
       "| NODE_890_length_1158_cov_1.858568  | 3 | 0 | 249.85 | 4.270082 | 256 | 6.898067 |\n",
       "| ⋮ | ⋮ | ⋮ | ⋮ | ⋮ | ⋮ | ⋮ |\n",
       "| k141_14989 | 2 | 0 | 246 |  4.45962 | 248 | 4.242641 |\n",
       "| k141_87444 | 5 | 0 | 250 | 34.57184 | 243 | 2.566718 |\n",
       "\n"
      ],
      "text/plain": [
       "        contig                             coverage num_SNPs\n",
       "1       NODE_1169_length_1013_cov_2.305846 4        0       \n",
       "2       NODE_890_length_1158_cov_1.858568  3        0       \n",
       "⋮       ⋮                                  ⋮        ⋮       \n",
       "4059584 k141_14989                         2        0       \n",
       "4059585 k141_87444                         5        0       \n",
       "        mean_insert_size_Match sd_insert_size_Match mean_insert_size_SNP\n",
       "1       253.30                 6.181070             252                 \n",
       "2       249.85                 4.270082             256                 \n",
       "⋮       ⋮                      ⋮                    ⋮                   \n",
       "4059584 246                     4.45962             248                 \n",
       "4059585 250                    34.57184             243                 \n",
       "        sd_insert_size_SNP\n",
       "1       8.485281          \n",
       "2       6.898067          \n",
       "⋮       ⋮                 \n",
       "4059584 4.242641          \n",
       "4059585 2.566718          "
      ]
     },
     "metadata": {},
     "output_type": "display_data"
    }
   ],
   "source": [
    "read_feat = function(F){\n",
    "    Fread(F) %>%\n",
    "        select.(contig, coverage, num_SNPs, mean_insert_size_Match, mean_insert_size_SNP) %>%\n",
    "        summarize.(coverage = median(coverage, na.rm=TRUE),\n",
    "                   num_SNPs = median(num_SNPs, na.rm=TRUE),\n",
    "                   mean_insert_size_Match = median(mean_insert_size_Match, na.rm=TRUE),\n",
    "                   sd_insert_size_Match = sd(mean_insert_size_Match, na.rm=TRUE),\n",
    "                   mean_insert_size_SNP = median(mean_insert_size_SNP, na.rm=TRUE),\n",
    "                   sd_insert_size_SNP = sd(mean_insert_size_SNP, na.rm=TRUE),\n",
    "                   .by=c(contig))\n",
    "}\n",
    "doParallel::registerDoParallel(8)\n",
    "df = files$feature_file %>%\n",
    "    plyr::llply(read_feat, .parallel=TRUE) %>%\n",
    "    rbindlist(use.names=TRUE) \n",
    "df"
   ]
  },
  {
   "cell_type": "code",
   "execution_count": 13,
   "id": "e7aaefa6",
   "metadata": {
    "ExecuteTime": {
     "end_time": "2021-07-25T06:00:41.047024Z",
     "start_time": "2021-07-25T04:49:00.613Z"
    }
   },
   "outputs": [
    {
     "data": {
      "text/html": [
       "<table class=\"dataframe\">\n",
       "<caption>A matrix: 1 × 8 of type dbl</caption>\n",
       "<thead>\n",
       "\t<tr><th></th><th scope=col>Min.</th><th scope=col>1st Qu.</th><th scope=col>Median</th><th scope=col>Mean</th><th scope=col>3rd Qu.</th><th scope=col>Max.</th><th scope=col>sd</th><th scope=col>sd_err_of_mean</th></tr>\n",
       "</thead>\n",
       "<tbody>\n",
       "\t<tr><th scope=row>coverage</th><td>1</td><td>2</td><td>3</td><td>3.577674</td><td>4</td><td>1553</td><td>632.902</td><td>258.381</td></tr>\n",
       "</tbody>\n",
       "</table>\n"
      ],
      "text/latex": [
       "A matrix: 1 × 8 of type dbl\n",
       "\\begin{tabular}{r|llllllll}\n",
       "  & Min. & 1st Qu. & Median & Mean & 3rd Qu. & Max. & sd & sd\\_err\\_of\\_mean\\\\\n",
       "\\hline\n",
       "\tcoverage & 1 & 2 & 3 & 3.577674 & 4 & 1553 & 632.902 & 258.381\\\\\n",
       "\\end{tabular}\n"
      ],
      "text/markdown": [
       "\n",
       "A matrix: 1 × 8 of type dbl\n",
       "\n",
       "| <!--/--> | Min. | 1st Qu. | Median | Mean | 3rd Qu. | Max. | sd | sd_err_of_mean |\n",
       "|---|---|---|---|---|---|---|---|---|\n",
       "| coverage | 1 | 2 | 3 | 3.577674 | 4 | 1553 | 632.902 | 258.381 |\n",
       "\n"
      ],
      "text/plain": [
       "         Min. 1st Qu. Median Mean     3rd Qu. Max. sd      sd_err_of_mean\n",
       "coverage 1    2       3      3.577674 4       1553 632.902 258.381       "
      ]
     },
     "metadata": {},
     "output_type": "display_data"
    },
    {
     "data": {
      "text/html": [
       "<strong>95%:</strong> 6"
      ],
      "text/latex": [
       "\\textbf{95\\textbackslash{}\\%:} 6"
      ],
      "text/markdown": [
       "**95%:** 6"
      ],
      "text/plain": [
       "95% \n",
       "  6 "
      ]
     },
     "metadata": {},
     "output_type": "display_data"
    }
   ],
   "source": [
    "# per-contig coverage distribution\n",
    "summary_x(df$coverage)\n",
    "quantile(df$coverage, 0.95)"
   ]
  },
  {
   "cell_type": "code",
   "execution_count": 14,
   "id": "6a0ee04e",
   "metadata": {
    "ExecuteTime": {
     "end_time": "2021-07-25T06:00:42.503397Z",
     "start_time": "2021-07-25T04:49:45.772Z"
    }
   },
   "outputs": [
    {
     "data": {
      "text/html": [
       "<table class=\"dataframe\">\n",
       "<caption>A matrix: 1 × 8 of type dbl</caption>\n",
       "<thead>\n",
       "\t<tr><th></th><th scope=col>Min.</th><th scope=col>1st Qu.</th><th scope=col>Median</th><th scope=col>Mean</th><th scope=col>3rd Qu.</th><th scope=col>Max.</th><th scope=col>sd</th><th scope=col>sd_err_of_mean</th></tr>\n",
       "</thead>\n",
       "<tbody>\n",
       "\t<tr><th scope=row>mean_insert_size_Match</th><td>89.1</td><td>247.8</td><td>249.5</td><td>249.4019</td><td>251.25</td><td>288.6</td><td>70.44</td><td>28.757</td></tr>\n",
       "</tbody>\n",
       "</table>\n"
      ],
      "text/latex": [
       "A matrix: 1 × 8 of type dbl\n",
       "\\begin{tabular}{r|llllllll}\n",
       "  & Min. & 1st Qu. & Median & Mean & 3rd Qu. & Max. & sd & sd\\_err\\_of\\_mean\\\\\n",
       "\\hline\n",
       "\tmean\\_insert\\_size\\_Match & 89.1 & 247.8 & 249.5 & 249.4019 & 251.25 & 288.6 & 70.44 & 28.757\\\\\n",
       "\\end{tabular}\n"
      ],
      "text/markdown": [
       "\n",
       "A matrix: 1 × 8 of type dbl\n",
       "\n",
       "| <!--/--> | Min. | 1st Qu. | Median | Mean | 3rd Qu. | Max. | sd | sd_err_of_mean |\n",
       "|---|---|---|---|---|---|---|---|---|\n",
       "| mean_insert_size_Match | 89.1 | 247.8 | 249.5 | 249.4019 | 251.25 | 288.6 | 70.44 | 28.757 |\n",
       "\n"
      ],
      "text/plain": [
       "                       Min. 1st Qu. Median Mean     3rd Qu. Max.  sd   \n",
       "mean_insert_size_Match 89.1 247.8   249.5  249.4019 251.25  288.6 70.44\n",
       "                       sd_err_of_mean\n",
       "mean_insert_size_Match 28.757        "
      ]
     },
     "metadata": {},
     "output_type": "display_data"
    },
    {
     "data": {
      "text/html": [
       "<table class=\"dataframe\">\n",
       "<caption>A matrix: 1 × 9 of type dbl</caption>\n",
       "<thead>\n",
       "\t<tr><th></th><th scope=col>Min.</th><th scope=col>1st Qu.</th><th scope=col>Median</th><th scope=col>Mean</th><th scope=col>3rd Qu.</th><th scope=col>Max.</th><th scope=col>NA's</th><th scope=col>sd</th><th scope=col>sd_err_of_mean</th></tr>\n",
       "</thead>\n",
       "<tbody>\n",
       "\t<tr><th scope=row>mean_insert_size_SNP</th><td>136</td><td>246</td><td>250</td><td>249.7776</td><td>254</td><td>496</td><td>195315</td><td>73719.42</td><td>27863.32</td></tr>\n",
       "</tbody>\n",
       "</table>\n"
      ],
      "text/latex": [
       "A matrix: 1 × 9 of type dbl\n",
       "\\begin{tabular}{r|lllllllll}\n",
       "  & Min. & 1st Qu. & Median & Mean & 3rd Qu. & Max. & NA's & sd & sd\\_err\\_of\\_mean\\\\\n",
       "\\hline\n",
       "\tmean\\_insert\\_size\\_SNP & 136 & 246 & 250 & 249.7776 & 254 & 496 & 195315 & 73719.42 & 27863.32\\\\\n",
       "\\end{tabular}\n"
      ],
      "text/markdown": [
       "\n",
       "A matrix: 1 × 9 of type dbl\n",
       "\n",
       "| <!--/--> | Min. | 1st Qu. | Median | Mean | 3rd Qu. | Max. | NA's | sd | sd_err_of_mean |\n",
       "|---|---|---|---|---|---|---|---|---|---|\n",
       "| mean_insert_size_SNP | 136 | 246 | 250 | 249.7776 | 254 | 496 | 195315 | 73719.42 | 27863.32 |\n",
       "\n"
      ],
      "text/plain": [
       "                     Min. 1st Qu. Median Mean     3rd Qu. Max. NA's   sd      \n",
       "mean_insert_size_SNP 136  246     250    249.7776 254     496  195315 73719.42\n",
       "                     sd_err_of_mean\n",
       "mean_insert_size_SNP 27863.32      "
      ]
     },
     "metadata": {},
     "output_type": "display_data"
    }
   ],
   "source": [
    "# insert sizes\n",
    "summary_x(df$mean_insert_size_Match)\n",
    "summary_x(df$mean_insert_size_SNP)"
   ]
  },
  {
   "cell_type": "code",
   "execution_count": 15,
   "id": "b7bd2a4e",
   "metadata": {
    "ExecuteTime": {
     "end_time": "2021-07-25T06:00:43.907869Z",
     "start_time": "2021-07-25T04:49:45.941Z"
    }
   },
   "outputs": [
    {
     "data": {
      "text/html": [
       "<table class=\"dataframe\">\n",
       "<caption>A matrix: 1 × 8 of type dbl</caption>\n",
       "<thead>\n",
       "\t<tr><th></th><th scope=col>Min.</th><th scope=col>1st Qu.</th><th scope=col>Median</th><th scope=col>Mean</th><th scope=col>3rd Qu.</th><th scope=col>Max.</th><th scope=col>sd</th><th scope=col>sd_err_of_mean</th></tr>\n",
       "</thead>\n",
       "<tbody>\n",
       "\t<tr><th scope=row>sd_insert_size_Match</th><td>0.6343207</td><td>5.218077</td><td>6.69007</td><td>13.62339</td><td>10.24393</td><td>3489.589</td><td>1421.653</td><td>580.387</td></tr>\n",
       "</tbody>\n",
       "</table>\n"
      ],
      "text/latex": [
       "A matrix: 1 × 8 of type dbl\n",
       "\\begin{tabular}{r|llllllll}\n",
       "  & Min. & 1st Qu. & Median & Mean & 3rd Qu. & Max. & sd & sd\\_err\\_of\\_mean\\\\\n",
       "\\hline\n",
       "\tsd\\_insert\\_size\\_Match & 0.6343207 & 5.218077 & 6.69007 & 13.62339 & 10.24393 & 3489.589 & 1421.653 & 580.387\\\\\n",
       "\\end{tabular}\n"
      ],
      "text/markdown": [
       "\n",
       "A matrix: 1 × 8 of type dbl\n",
       "\n",
       "| <!--/--> | Min. | 1st Qu. | Median | Mean | 3rd Qu. | Max. | sd | sd_err_of_mean |\n",
       "|---|---|---|---|---|---|---|---|---|\n",
       "| sd_insert_size_Match | 0.6343207 | 5.218077 | 6.69007 | 13.62339 | 10.24393 | 3489.589 | 1421.653 | 580.387 |\n",
       "\n"
      ],
      "text/plain": [
       "                     Min.      1st Qu.  Median  Mean     3rd Qu.  Max.    \n",
       "sd_insert_size_Match 0.6343207 5.218077 6.69007 13.62339 10.24393 3489.589\n",
       "                     sd       sd_err_of_mean\n",
       "sd_insert_size_Match 1421.653 580.387       "
      ]
     },
     "metadata": {},
     "output_type": "display_data"
    },
    {
     "data": {
      "text/html": [
       "<table class=\"dataframe\">\n",
       "<caption>A matrix: 1 × 9 of type dbl</caption>\n",
       "<thead>\n",
       "\t<tr><th></th><th scope=col>Min.</th><th scope=col>1st Qu.</th><th scope=col>Median</th><th scope=col>Mean</th><th scope=col>3rd Qu.</th><th scope=col>Max.</th><th scope=col>NA's</th><th scope=col>sd</th><th scope=col>sd_err_of_mean</th></tr>\n",
       "</thead>\n",
       "<tbody>\n",
       "\t<tr><th scope=row>sd_insert_size_SNP</th><td>0</td><td>5.152375</td><td>7.931162</td><td>8.0811</td><td>10.53722</td><td>141.5307</td><td>634824</td><td>239930</td><td>90685.02</td></tr>\n",
       "</tbody>\n",
       "</table>\n"
      ],
      "text/latex": [
       "A matrix: 1 × 9 of type dbl\n",
       "\\begin{tabular}{r|lllllllll}\n",
       "  & Min. & 1st Qu. & Median & Mean & 3rd Qu. & Max. & NA's & sd & sd\\_err\\_of\\_mean\\\\\n",
       "\\hline\n",
       "\tsd\\_insert\\_size\\_SNP & 0 & 5.152375 & 7.931162 & 8.0811 & 10.53722 & 141.5307 & 634824 & 239930 & 90685.02\\\\\n",
       "\\end{tabular}\n"
      ],
      "text/markdown": [
       "\n",
       "A matrix: 1 × 9 of type dbl\n",
       "\n",
       "| <!--/--> | Min. | 1st Qu. | Median | Mean | 3rd Qu. | Max. | NA's | sd | sd_err_of_mean |\n",
       "|---|---|---|---|---|---|---|---|---|---|\n",
       "| sd_insert_size_SNP | 0 | 5.152375 | 7.931162 | 8.0811 | 10.53722 | 141.5307 | 634824 | 239930 | 90685.02 |\n",
       "\n"
      ],
      "text/plain": [
       "                   Min. 1st Qu.  Median   Mean   3rd Qu.  Max.     NA's  \n",
       "sd_insert_size_SNP 0    5.152375 7.931162 8.0811 10.53722 141.5307 634824\n",
       "                   sd     sd_err_of_mean\n",
       "sd_insert_size_SNP 239930 90685.02      "
      ]
     },
     "metadata": {},
     "output_type": "display_data"
    }
   ],
   "source": [
    "# match/SNP\n",
    "summary_x(df$sd_insert_size_Match)\n",
    "summary_x(df$sd_insert_size_SNP)"
   ]
  },
  {
   "cell_type": "code",
   "execution_count": 16,
   "id": "3cc0a666",
   "metadata": {
    "ExecuteTime": {
     "end_time": "2021-07-25T06:00:44.485591Z",
     "start_time": "2021-07-25T04:49:46.428Z"
    }
   },
   "outputs": [
    {
     "data": {
      "text/html": [
       "<table class=\"dataframe\">\n",
       "<caption>A matrix: 1 × 8 of type dbl</caption>\n",
       "<thead>\n",
       "\t<tr><th></th><th scope=col>Min.</th><th scope=col>1st Qu.</th><th scope=col>Median</th><th scope=col>Mean</th><th scope=col>3rd Qu.</th><th scope=col>Max.</th><th scope=col>sd</th><th scope=col>sd_err_of_mean</th></tr>\n",
       "</thead>\n",
       "<tbody>\n",
       "\t<tr><th scope=row>num_SNPs</th><td>0</td><td>0</td><td>0</td><td>2.463306e-06</td><td>0</td><td>1</td><td>0.408</td><td>0.167</td></tr>\n",
       "</tbody>\n",
       "</table>\n"
      ],
      "text/latex": [
       "A matrix: 1 × 8 of type dbl\n",
       "\\begin{tabular}{r|llllllll}\n",
       "  & Min. & 1st Qu. & Median & Mean & 3rd Qu. & Max. & sd & sd\\_err\\_of\\_mean\\\\\n",
       "\\hline\n",
       "\tnum\\_SNPs & 0 & 0 & 0 & 2.463306e-06 & 0 & 1 & 0.408 & 0.167\\\\\n",
       "\\end{tabular}\n"
      ],
      "text/markdown": [
       "\n",
       "A matrix: 1 × 8 of type dbl\n",
       "\n",
       "| <!--/--> | Min. | 1st Qu. | Median | Mean | 3rd Qu. | Max. | sd | sd_err_of_mean |\n",
       "|---|---|---|---|---|---|---|---|---|\n",
       "| num_SNPs | 0 | 0 | 0 | 2.463306e-06 | 0 | 1 | 0.408 | 0.167 |\n",
       "\n"
      ],
      "text/plain": [
       "         Min. 1st Qu. Median Mean         3rd Qu. Max. sd    sd_err_of_mean\n",
       "num_SNPs 0    0       0      2.463306e-06 0       1    0.408 0.167         "
      ]
     },
     "metadata": {},
     "output_type": "display_data"
    }
   ],
   "source": [
    "# SNPs\n",
    "summary_x(df$num_SNPs)"
   ]
  },
  {
   "cell_type": "code",
   "execution_count": 17,
   "id": "96bb2dd1",
   "metadata": {
    "ExecuteTime": {
     "end_time": "2021-07-25T06:00:45.557238Z",
     "start_time": "2021-07-25T04:49:58.732Z"
    }
   },
   "outputs": [
    {
     "name": "stderr",
     "output_type": "stream",
     "text": [
      "Sending email to: nyoungblut@tuebingen.mpg.de\n",
      "\n"
     ]
    }
   ],
   "source": [
    "send_email('http://127.0.0.1:9704/notebooks/deepmased/notebooks/06_version2/01_simulation_datasets/00_dev/00_n9000-r10_train_stats.ipynb')"
   ]
  },
  {
   "cell_type": "markdown",
   "id": "48b73e77",
   "metadata": {},
   "source": [
    "# sessionInfo"
   ]
  },
  {
   "cell_type": "code",
   "execution_count": 19,
   "id": "2668d3b6",
   "metadata": {
    "ExecuteTime": {
     "end_time": "2021-07-20T06:40:25.576461Z",
     "start_time": "2021-07-20T06:40:24.910Z"
    }
   },
   "outputs": [
    {
     "data": {
      "text/plain": [
       "R version 4.1.0 (2021-05-18)\n",
       "Platform: x86_64-conda-linux-gnu (64-bit)\n",
       "Running under: Ubuntu 18.04.5 LTS\n",
       "\n",
       "Matrix products: default\n",
       "BLAS/LAPACK: /ebio/abt3_projects/Anxiety_Twins_Metagenomes/envs/tidyverse2/lib/libopenblasp-r0.3.12.so\n",
       "\n",
       "locale:\n",
       " [1] LC_CTYPE=en_US.UTF-8       LC_NUMERIC=C              \n",
       " [3] LC_TIME=en_US.UTF-8        LC_COLLATE=en_US.UTF-8    \n",
       " [5] LC_MONETARY=en_US.UTF-8    LC_MESSAGES=en_US.UTF-8   \n",
       " [7] LC_PAPER=en_US.UTF-8       LC_NAME=C                 \n",
       " [9] LC_ADDRESS=C               LC_TELEPHONE=C            \n",
       "[11] LC_MEASUREMENT=en_US.UTF-8 LC_IDENTIFICATION=C       \n",
       "\n",
       "attached base packages:\n",
       "[1] stats     graphics  grDevices utils     datasets  methods   base     \n",
       "\n",
       "other attached packages:\n",
       "[1] LeyLabRMisc_0.1.9 tidytable_0.6.3   data.table_1.14.0 ggplot2_3.3.5    \n",
       "[5] tidyr_1.1.3       dplyr_1.0.7      \n",
       "\n",
       "loaded via a namespace (and not attached):\n",
       " [1] Rcpp_1.0.7        plyr_1.8.6        pillar_1.6.1      compiler_4.1.0   \n",
       " [5] iterators_1.0.13  R.methodsS3_1.8.1 R.utils_2.10.1    base64enc_0.1-3  \n",
       " [9] tools_4.1.0       digest_0.6.27     uuid_0.1-4        jsonlite_1.7.2   \n",
       "[13] evaluate_0.14     lifecycle_1.0.0   tibble_3.1.2      gtable_0.3.0     \n",
       "[17] pkgconfig_2.0.3   rlang_0.4.11      foreach_1.5.1     IRdisplay_1.0    \n",
       "[21] cli_3.0.0         parallel_4.1.0    IRkernel_1.2      repr_1.1.3       \n",
       "[25] withr_2.4.2       generics_0.1.0    vctrs_0.3.8       grid_4.1.0       \n",
       "[29] tidyselect_1.1.1  glue_1.4.2        R6_2.5.0          fansi_0.4.2      \n",
       "[33] pbdZMQ_0.3-5      purrr_0.3.4       magrittr_2.0.1    codetools_0.2-18 \n",
       "[37] scales_1.1.1      ellipsis_0.3.2    htmltools_0.5.1.1 colorspace_2.0-2 \n",
       "[41] utf8_1.2.1        doParallel_1.0.16 munsell_0.5.0     crayon_1.4.1     \n",
       "[45] R.oo_1.24.0      "
      ]
     },
     "metadata": {},
     "output_type": "display_data"
    }
   ],
   "source": [
    "sessionInfo()"
   ]
  },
  {
   "cell_type": "code",
   "execution_count": null,
   "id": "52875bac",
   "metadata": {},
   "outputs": [],
   "source": []
  }
 ],
 "metadata": {
  "kernelspec": {
   "display_name": "R [conda env:Anxiety_Twins_Metagenomes-tidyverse2]",
   "language": "R",
   "name": "conda-env-Anxiety_Twins_Metagenomes-tidyverse2-r"
  },
  "language_info": {
   "codemirror_mode": "r",
   "file_extension": ".r",
   "mimetype": "text/x-r-source",
   "name": "R",
   "pygments_lexer": "r",
   "version": "4.1.0"
  },
  "notify_time": "30",
  "toc": {
   "base_numbering": 1,
   "nav_menu": {},
   "number_sections": true,
   "sideBar": true,
   "skip_h1_title": false,
   "title_cell": "Table of Contents",
   "title_sidebar": "Contents",
   "toc_cell": true,
   "toc_position": {},
   "toc_section_display": true,
   "toc_window_display": true
  }
 },
 "nbformat": 4,
 "nbformat_minor": 5
}
