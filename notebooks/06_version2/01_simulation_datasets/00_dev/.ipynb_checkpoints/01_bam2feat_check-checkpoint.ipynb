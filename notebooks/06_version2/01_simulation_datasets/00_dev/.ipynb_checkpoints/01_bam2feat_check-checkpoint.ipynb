{
 "cells": [
  {
   "cell_type": "markdown",
   "id": "1d689f27",
   "metadata": {
    "toc": true
   },
   "source": [
    "<h1>Table of Contents<span class=\"tocSkip\"></span></h1>\n",
    "<div class=\"toc\"><ul class=\"toc-item\"><li><span><a href=\"#Goal\" data-toc-modified-id=\"Goal-1\"><span class=\"toc-item-num\">1&nbsp;&nbsp;</span>Goal</a></span></li><li><span><a href=\"#Var\" data-toc-modified-id=\"Var-2\"><span class=\"toc-item-num\">2&nbsp;&nbsp;</span>Var</a></span></li><li><span><a href=\"#Init\" data-toc-modified-id=\"Init-3\"><span class=\"toc-item-num\">3&nbsp;&nbsp;</span>Init</a></span></li><li><span><a href=\"#Load\" data-toc-modified-id=\"Load-4\"><span class=\"toc-item-num\">4&nbsp;&nbsp;</span>Load</a></span><ul class=\"toc-item\"><li><span><a href=\"#bam2feat.py\" data-toc-modified-id=\"bam2feat.py-4.1\"><span class=\"toc-item-num\">4.1&nbsp;&nbsp;</span>bam2feat.py</a></span></li><li><span><a href=\"#bam2feat\" data-toc-modified-id=\"bam2feat-4.2\"><span class=\"toc-item-num\">4.2&nbsp;&nbsp;</span>bam2feat</a></span></li></ul></li><li><span><a href=\"#Compare\" data-toc-modified-id=\"Compare-5\"><span class=\"toc-item-num\">5&nbsp;&nbsp;</span>Compare</a></span><ul class=\"toc-item\"><li><span><a href=\"#Check-that-dataset-matches\" data-toc-modified-id=\"Check-that-dataset-matches-5.1\"><span class=\"toc-item-num\">5.1&nbsp;&nbsp;</span>Check that dataset matches</a></span></li><li><span><a href=\"#Features\" data-toc-modified-id=\"Features-5.2\"><span class=\"toc-item-num\">5.2&nbsp;&nbsp;</span>Features</a></span><ul class=\"toc-item\"><li><span><a href=\"#ref-bases\" data-toc-modified-id=\"ref-bases-5.2.1\"><span class=\"toc-item-num\">5.2.1&nbsp;&nbsp;</span>ref bases</a></span></li><li><span><a href=\"#coverage/SNPs\" data-toc-modified-id=\"coverage/SNPs-5.2.2\"><span class=\"toc-item-num\">5.2.2&nbsp;&nbsp;</span>coverage/SNPs</a></span></li><li><span><a href=\"#Match-features\" data-toc-modified-id=\"Match-features-5.2.3\"><span class=\"toc-item-num\">5.2.3&nbsp;&nbsp;</span>Match features</a></span></li><li><span><a href=\"#SNP-features\" data-toc-modified-id=\"SNP-features-5.2.4\"><span class=\"toc-item-num\">5.2.4&nbsp;&nbsp;</span>SNP features</a></span></li><li><span><a href=\"#G+C-&amp;-entropy\" data-toc-modified-id=\"G+C-&amp;-entropy-5.2.5\"><span class=\"toc-item-num\">5.2.5&nbsp;&nbsp;</span>G+C &amp; entropy</a></span></li></ul></li></ul></li><li><span><a href=\"#sessionInfo\" data-toc-modified-id=\"sessionInfo-6\"><span class=\"toc-item-num\">6&nbsp;&nbsp;</span>sessionInfo</a></span></li></ul></div>"
   ]
  },
  {
   "cell_type": "markdown",
   "id": "1ec59b9e",
   "metadata": {},
   "source": [
    "# Goal\n",
    "\n",
    "* Check that `bam2feat` works as `bam2feat.py`\n",
    "  * `bam2feat` is a much faster implementation of `bam2feat.py`"
   ]
  },
  {
   "cell_type": "markdown",
   "id": "6df10afb",
   "metadata": {},
   "source": [
    "# Var"
   ]
  },
  {
   "cell_type": "code",
   "execution_count": 60,
   "id": "4cbdb2c8",
   "metadata": {
    "ExecuteTime": {
     "end_time": "2021-07-15T07:45:18.984556Z",
     "start_time": "2021-07-15T07:45:18.958Z"
    }
   },
   "outputs": [],
   "source": [
    "work_dir = '/ebio/abt3_projects/DeepMAsED/version2/deepmased/DeepMAsED-SM/tests/output_n10/'\n",
    "\n",
    "threads = 8"
   ]
  },
  {
   "cell_type": "markdown",
   "id": "dfabd775",
   "metadata": {},
   "source": [
    "# Init"
   ]
  },
  {
   "cell_type": "code",
   "execution_count": 51,
   "id": "4dd7d670",
   "metadata": {
    "ExecuteTime": {
     "end_time": "2021-07-15T07:43:35.592985Z",
     "start_time": "2021-07-15T07:43:35.562Z"
    }
   },
   "outputs": [],
   "source": [
    "library(dplyr)\n",
    "library(tidyr)\n",
    "library(ggplot2)\n",
    "library(data.table)\n",
    "library(tidytable)\n",
    "library(LeyLabRMisc)"
   ]
  },
  {
   "cell_type": "code",
   "execution_count": 52,
   "id": "dea178bc",
   "metadata": {
    "ExecuteTime": {
     "end_time": "2021-07-15T07:43:35.704227Z",
     "start_time": "2021-07-15T07:43:35.679Z"
    }
   },
   "outputs": [],
   "source": [
    "df.dims()\n",
    "data.table::setDTthreads(threads)"
   ]
  },
  {
   "cell_type": "markdown",
   "id": "ef4c5c76",
   "metadata": {},
   "source": [
    "# Load"
   ]
  },
  {
   "cell_type": "markdown",
   "id": "52a2b1b3",
   "metadata": {},
   "source": [
    "## bam2feat.py"
   ]
  },
  {
   "cell_type": "code",
   "execution_count": 98,
   "id": "2b39b74d",
   "metadata": {
    "ExecuteTime": {
     "end_time": "2021-07-15T08:06:29.511675Z",
     "start_time": "2021-07-15T08:06:29.457Z"
    }
   },
   "outputs": [
    {
     "data": {
      "text/html": [
       "<table class=\"dataframe\">\n",
       "<caption>A data.table: 6 × 6</caption>\n",
       "<thead>\n",
       "\t<tr><th scope=col>richness</th><th scope=col>rep</th><th scope=col>read_depth</th><th scope=col>assembler</th><th scope=col>feature_file</th><th scope=col>MGSIM_reads_params</th></tr>\n",
       "\t<tr><th scope=col>&lt;dbl&gt;</th><th scope=col>&lt;int&gt;</th><th scope=col>&lt;int&gt;</th><th scope=col>&lt;chr&gt;</th><th scope=col>&lt;chr&gt;</th><th scope=col>&lt;chr&gt;</th></tr>\n",
       "</thead>\n",
       "<tbody>\n",
       "\t<tr><td>0.8</td><td>1</td><td>1000000</td><td>metaspades</td><td>0.8/1/1000000/metaspades/features.tsv.gz</td><td>--art-paired --art-mflen 250 --art-sdev 10 --rndSeed 8712</td></tr>\n",
       "\t<tr><td>0.8</td><td>1</td><td>1000000</td><td>megahit   </td><td>0.8/1/1000000/megahit/features.tsv.gz   </td><td>--art-paired --art-mflen 250 --art-sdev 10 --rndSeed 8712</td></tr>\n",
       "\t<tr><td>⋮</td><td>⋮</td><td>⋮</td><td>⋮</td><td>⋮</td><td>⋮</td></tr>\n",
       "\t<tr><td>0.8</td><td>3</td><td>1000000</td><td>metaspades</td><td>0.8/3/1000000/metaspades/features.tsv.gz</td><td>--art-paired --art-mflen 250 --art-sdev 10 --rndSeed 8712</td></tr>\n",
       "\t<tr><td>0.8</td><td>3</td><td>1000000</td><td>megahit   </td><td>0.8/3/1000000/megahit/features.tsv.gz   </td><td>--art-paired --art-mflen 250 --art-sdev 10 --rndSeed 8712</td></tr>\n",
       "</tbody>\n",
       "</table>\n"
      ],
      "text/latex": [
       "A data.table: 6 × 6\n",
       "\\begin{tabular}{llllll}\n",
       " richness & rep & read\\_depth & assembler & feature\\_file & MGSIM\\_reads\\_params\\\\\n",
       " <dbl> & <int> & <int> & <chr> & <chr> & <chr>\\\\\n",
       "\\hline\n",
       "\t 0.8 & 1 & 1000000 & metaspades & 0.8/1/1000000/metaspades/features.tsv.gz & --art-paired --art-mflen 250 --art-sdev 10 --rndSeed 8712\\\\\n",
       "\t 0.8 & 1 & 1000000 & megahit    & 0.8/1/1000000/megahit/features.tsv.gz    & --art-paired --art-mflen 250 --art-sdev 10 --rndSeed 8712\\\\\n",
       "\t ⋮ & ⋮ & ⋮ & ⋮ & ⋮ & ⋮\\\\\n",
       "\t 0.8 & 3 & 1000000 & metaspades & 0.8/3/1000000/metaspades/features.tsv.gz & --art-paired --art-mflen 250 --art-sdev 10 --rndSeed 8712\\\\\n",
       "\t 0.8 & 3 & 1000000 & megahit    & 0.8/3/1000000/megahit/features.tsv.gz    & --art-paired --art-mflen 250 --art-sdev 10 --rndSeed 8712\\\\\n",
       "\\end{tabular}\n"
      ],
      "text/markdown": [
       "\n",
       "A data.table: 6 × 6\n",
       "\n",
       "| richness &lt;dbl&gt; | rep &lt;int&gt; | read_depth &lt;int&gt; | assembler &lt;chr&gt; | feature_file &lt;chr&gt; | MGSIM_reads_params &lt;chr&gt; |\n",
       "|---|---|---|---|---|---|\n",
       "| 0.8 | 1 | 1000000 | metaspades | 0.8/1/1000000/metaspades/features.tsv.gz | --art-paired --art-mflen 250 --art-sdev 10 --rndSeed 8712 |\n",
       "| 0.8 | 1 | 1000000 | megahit    | 0.8/1/1000000/megahit/features.tsv.gz    | --art-paired --art-mflen 250 --art-sdev 10 --rndSeed 8712 |\n",
       "| ⋮ | ⋮ | ⋮ | ⋮ | ⋮ | ⋮ |\n",
       "| 0.8 | 3 | 1000000 | metaspades | 0.8/3/1000000/metaspades/features.tsv.gz | --art-paired --art-mflen 250 --art-sdev 10 --rndSeed 8712 |\n",
       "| 0.8 | 3 | 1000000 | megahit    | 0.8/3/1000000/megahit/features.tsv.gz    | --art-paired --art-mflen 250 --art-sdev 10 --rndSeed 8712 |\n",
       "\n"
      ],
      "text/plain": [
       "  richness rep read_depth assembler  feature_file                            \n",
       "1 0.8      1   1000000    metaspades 0.8/1/1000000/metaspades/features.tsv.gz\n",
       "2 0.8      1   1000000    megahit    0.8/1/1000000/megahit/features.tsv.gz   \n",
       "⋮ ⋮        ⋮   ⋮          ⋮          ⋮                                       \n",
       "5 0.8      3   1000000    metaspades 0.8/3/1000000/metaspades/features.tsv.gz\n",
       "6 0.8      3   1000000    megahit    0.8/3/1000000/megahit/features.tsv.gz   \n",
       "  MGSIM_reads_params                                       \n",
       "1 --art-paired --art-mflen 250 --art-sdev 10 --rndSeed 8712\n",
       "2 --art-paired --art-mflen 250 --art-sdev 10 --rndSeed 8712\n",
       "⋮ ⋮                                                        \n",
       "5 --art-paired --art-mflen 250 --art-sdev 10 --rndSeed 8712\n",
       "6 --art-paired --art-mflen 250 --art-sdev 10 --rndSeed 8712"
      ]
     },
     "metadata": {},
     "output_type": "display_data"
    }
   ],
   "source": [
    "# bam2feat.py tables\n",
    "D = file.path(work_dir, 'features_bam2feat.py')\n",
    "F = file.path(D, 'feature_files.tsv')\n",
    "files = Fread(F) \n",
    "files"
   ]
  },
  {
   "cell_type": "code",
   "execution_count": 99,
   "id": "a9c9c5ad",
   "metadata": {
    "ExecuteTime": {
     "end_time": "2021-07-15T08:09:56.257467Z",
     "start_time": "2021-07-15T08:06:29.587Z"
    }
   },
   "outputs": [
    {
     "data": {
      "text/html": [
       "<table class=\"dataframe\">\n",
       "<caption>A data.table: 77504453 × 46</caption>\n",
       "<thead>\n",
       "\t<tr><th scope=col>assembler</th><th scope=col>contig</th><th scope=col>position</th><th scope=col>ref_base</th><th scope=col>num_query_A</th><th scope=col>num_query_C</th><th scope=col>num_query_G</th><th scope=col>num_query_T</th><th scope=col>num_SNPs</th><th scope=col>coverage</th><th scope=col>⋯</th><th scope=col>num_supplementary_SNP</th><th scope=col>num_secondary_SNP</th><th scope=col>num_discordant_SNP</th><th scope=col>seq_window_entropy</th><th scope=col>seq_window_perc_gc</th><th scope=col>Extensive_misassembly</th><th scope=col>Extensive_misassembly_by_pos</th><th scope=col>richness</th><th scope=col>rep</th><th scope=col>read_depth</th></tr>\n",
       "\t<tr><th scope=col>&lt;chr&gt;</th><th scope=col>&lt;chr&gt;</th><th scope=col>&lt;int&gt;</th><th scope=col>&lt;chr&gt;</th><th scope=col>&lt;int&gt;</th><th scope=col>&lt;int&gt;</th><th scope=col>&lt;int&gt;</th><th scope=col>&lt;int&gt;</th><th scope=col>&lt;int&gt;</th><th scope=col>&lt;int&gt;</th><th scope=col>⋯</th><th scope=col>&lt;int&gt;</th><th scope=col>&lt;int&gt;</th><th scope=col>&lt;int&gt;</th><th scope=col>&lt;dbl&gt;</th><th scope=col>&lt;dbl&gt;</th><th scope=col>&lt;int&gt;</th><th scope=col>&lt;chr&gt;</th><th scope=col>&lt;chr&gt;</th><th scope=col>&lt;chr&gt;</th><th scope=col>&lt;chr&gt;</th></tr>\n",
       "</thead>\n",
       "<tbody>\n",
       "\t<tr><td>metaspades</td><td>NODE_2285_length_1048_cov_2.182276</td><td>0</td><td>C</td><td>0</td><td>1</td><td>0</td><td>0</td><td>0</td><td>1</td><td>⋯</td><td>0</td><td>0</td><td>0</td><td>1.459</td><td>0.833</td><td>0</td><td>None</td><td>0.8</td><td>1</td><td>1000000</td></tr>\n",
       "\t<tr><td>metaspades</td><td>NODE_2285_length_1048_cov_2.182276</td><td>1</td><td>T</td><td>0</td><td>0</td><td>0</td><td>1</td><td>0</td><td>1</td><td>⋯</td><td>0</td><td>0</td><td>0</td><td>1.918</td><td>0.667</td><td>0</td><td>None</td><td>0.8</td><td>1</td><td>1000000</td></tr>\n",
       "\t<tr><td>⋮</td><td>⋮</td><td>⋮</td><td>⋮</td><td>⋮</td><td>⋮</td><td>⋮</td><td>⋮</td><td>⋮</td><td>⋮</td><td>⋱</td><td>⋮</td><td>⋮</td><td>⋮</td><td>⋮</td><td>⋮</td><td>⋮</td><td>⋮</td><td>⋮</td><td>⋮</td><td>⋮</td></tr>\n",
       "\t<tr><td>megahit</td><td>k141_11031</td><td>1145</td><td>C</td><td>0</td><td>1</td><td>0</td><td>0</td><td>0</td><td>1</td><td>⋯</td><td>0</td><td>0</td><td>0</td><td>1.459</td><td>0.667</td><td>0</td><td>None</td><td>0.8</td><td>3</td><td>1000000</td></tr>\n",
       "\t<tr><td>megahit</td><td>k141_11031</td><td>1146</td><td>A</td><td>1</td><td>0</td><td>0</td><td>0</td><td>0</td><td>1</td><td>⋯</td><td>0</td><td>0</td><td>0</td><td>1.918</td><td>0.500</td><td>0</td><td>None</td><td>0.8</td><td>3</td><td>1000000</td></tr>\n",
       "</tbody>\n",
       "</table>\n"
      ],
      "text/latex": [
       "A data.table: 77504453 × 46\n",
       "\\begin{tabular}{lllllllllllllllllllll}\n",
       " assembler & contig & position & ref\\_base & num\\_query\\_A & num\\_query\\_C & num\\_query\\_G & num\\_query\\_T & num\\_SNPs & coverage & ⋯ & num\\_supplementary\\_SNP & num\\_secondary\\_SNP & num\\_discordant\\_SNP & seq\\_window\\_entropy & seq\\_window\\_perc\\_gc & Extensive\\_misassembly & Extensive\\_misassembly\\_by\\_pos & richness & rep & read\\_depth\\\\\n",
       " <chr> & <chr> & <int> & <chr> & <int> & <int> & <int> & <int> & <int> & <int> & ⋯ & <int> & <int> & <int> & <dbl> & <dbl> & <int> & <chr> & <chr> & <chr> & <chr>\\\\\n",
       "\\hline\n",
       "\t metaspades & NODE\\_2285\\_length\\_1048\\_cov\\_2.182276 & 0 & C & 0 & 1 & 0 & 0 & 0 & 1 & ⋯ & 0 & 0 & 0 & 1.459 & 0.833 & 0 & None & 0.8 & 1 & 1000000\\\\\n",
       "\t metaspades & NODE\\_2285\\_length\\_1048\\_cov\\_2.182276 & 1 & T & 0 & 0 & 0 & 1 & 0 & 1 & ⋯ & 0 & 0 & 0 & 1.918 & 0.667 & 0 & None & 0.8 & 1 & 1000000\\\\\n",
       "\t ⋮ & ⋮ & ⋮ & ⋮ & ⋮ & ⋮ & ⋮ & ⋮ & ⋮ & ⋮ & ⋱ & ⋮ & ⋮ & ⋮ & ⋮ & ⋮ & ⋮ & ⋮ & ⋮ & ⋮ & ⋮\\\\\n",
       "\t megahit & k141\\_11031 & 1145 & C & 0 & 1 & 0 & 0 & 0 & 1 & ⋯ & 0 & 0 & 0 & 1.459 & 0.667 & 0 & None & 0.8 & 3 & 1000000\\\\\n",
       "\t megahit & k141\\_11031 & 1146 & A & 1 & 0 & 0 & 0 & 0 & 1 & ⋯ & 0 & 0 & 0 & 1.918 & 0.500 & 0 & None & 0.8 & 3 & 1000000\\\\\n",
       "\\end{tabular}\n"
      ],
      "text/markdown": [
       "\n",
       "A data.table: 77504453 × 46\n",
       "\n",
       "| assembler &lt;chr&gt; | contig &lt;chr&gt; | position &lt;int&gt; | ref_base &lt;chr&gt; | num_query_A &lt;int&gt; | num_query_C &lt;int&gt; | num_query_G &lt;int&gt; | num_query_T &lt;int&gt; | num_SNPs &lt;int&gt; | coverage &lt;int&gt; | ⋯ ⋯ | num_supplementary_SNP &lt;int&gt; | num_secondary_SNP &lt;int&gt; | num_discordant_SNP &lt;int&gt; | seq_window_entropy &lt;dbl&gt; | seq_window_perc_gc &lt;dbl&gt; | Extensive_misassembly &lt;int&gt; | Extensive_misassembly_by_pos &lt;chr&gt; | richness &lt;chr&gt; | rep &lt;chr&gt; | read_depth &lt;chr&gt; |\n",
       "|---|---|---|---|---|---|---|---|---|---|---|---|---|---|---|---|---|---|---|---|---|\n",
       "| metaspades | NODE_2285_length_1048_cov_2.182276 | 0 | C | 0 | 1 | 0 | 0 | 0 | 1 | ⋯ | 0 | 0 | 0 | 1.459 | 0.833 | 0 | None | 0.8 | 1 | 1000000 |\n",
       "| metaspades | NODE_2285_length_1048_cov_2.182276 | 1 | T | 0 | 0 | 0 | 1 | 0 | 1 | ⋯ | 0 | 0 | 0 | 1.918 | 0.667 | 0 | None | 0.8 | 1 | 1000000 |\n",
       "| ⋮ | ⋮ | ⋮ | ⋮ | ⋮ | ⋮ | ⋮ | ⋮ | ⋮ | ⋮ | ⋱ | ⋮ | ⋮ | ⋮ | ⋮ | ⋮ | ⋮ | ⋮ | ⋮ | ⋮ | ⋮ |\n",
       "| megahit | k141_11031 | 1145 | C | 0 | 1 | 0 | 0 | 0 | 1 | ⋯ | 0 | 0 | 0 | 1.459 | 0.667 | 0 | None | 0.8 | 3 | 1000000 |\n",
       "| megahit | k141_11031 | 1146 | A | 1 | 0 | 0 | 0 | 0 | 1 | ⋯ | 0 | 0 | 0 | 1.918 | 0.500 | 0 | None | 0.8 | 3 | 1000000 |\n",
       "\n"
      ],
      "text/plain": [
       "         assembler  contig                             position ref_base\n",
       "1        metaspades NODE_2285_length_1048_cov_2.182276 0        C       \n",
       "2        metaspades NODE_2285_length_1048_cov_2.182276 1        T       \n",
       "⋮        ⋮          ⋮                                  ⋮        ⋮       \n",
       "77504452 megahit    k141_11031                         1145     C       \n",
       "77504453 megahit    k141_11031                         1146     A       \n",
       "         num_query_A num_query_C num_query_G num_query_T num_SNPs coverage ⋯\n",
       "1        0           1           0           0           0        1        ⋯\n",
       "2        0           0           0           1           0        1        ⋯\n",
       "⋮        ⋮           ⋮           ⋮           ⋮           ⋮        ⋮        ⋱\n",
       "77504452 0           1           0           0           0        1        ⋯\n",
       "77504453 1           0           0           0           0        1        ⋯\n",
       "         num_supplementary_SNP num_secondary_SNP num_discordant_SNP\n",
       "1        0                     0                 0                 \n",
       "2        0                     0                 0                 \n",
       "⋮        ⋮                     ⋮                 ⋮                 \n",
       "77504452 0                     0                 0                 \n",
       "77504453 0                     0                 0                 \n",
       "         seq_window_entropy seq_window_perc_gc Extensive_misassembly\n",
       "1        1.459              0.833              0                    \n",
       "2        1.918              0.667              0                    \n",
       "⋮        ⋮                  ⋮                  ⋮                    \n",
       "77504452 1.459              0.667              0                    \n",
       "77504453 1.918              0.500              0                    \n",
       "         Extensive_misassembly_by_pos richness rep read_depth\n",
       "1        None                         0.8      1   1000000   \n",
       "2        None                         0.8      1   1000000   \n",
       "⋮        ⋮                            ⋮        ⋮   ⋮         \n",
       "77504452 None                         0.8      3   1000000   \n",
       "77504453 None                         0.8      3   1000000   "
      ]
     },
     "metadata": {},
     "output_type": "display_data"
    }
   ],
   "source": [
    "read_feat = function(x, D){\n",
    "    df = Fread(file.path(D, x['feature_file']))\n",
    "    df$richness = x['richness']\n",
    "    df$rep = x['rep']\n",
    "    df$read_depth = x['read_depth']\n",
    "    df$assembler = x['assembler']\n",
    "    return(df)\n",
    "}\n",
    "\n",
    "# loading feature tables\n",
    "bam2feat_py = files %>%\n",
    "    apply(1, read_feat, D=file.path(work_dir, 'features_bam2feat.py')) %>%\n",
    "    rbindlist(use.names=TRUE)\n",
    "bam2feat_py"
   ]
  },
  {
   "cell_type": "markdown",
   "id": "030a7ec3",
   "metadata": {},
   "source": [
    "## bam2feat"
   ]
  },
  {
   "cell_type": "code",
   "execution_count": 254,
   "id": "a499e405",
   "metadata": {
    "ExecuteTime": {
     "end_time": "2021-07-16T13:56:45.835108Z",
     "start_time": "2021-07-16T13:56:45.351Z"
    }
   },
   "outputs": [
    {
     "data": {
      "text/html": [
       "<table class=\"dataframe\">\n",
       "<caption>A data.table: 6 × 6</caption>\n",
       "<thead>\n",
       "\t<tr><th scope=col>richness</th><th scope=col>rep</th><th scope=col>read_depth</th><th scope=col>assembler</th><th scope=col>feature_file</th><th scope=col>MGSIM_reads_params</th></tr>\n",
       "\t<tr><th scope=col>&lt;dbl&gt;</th><th scope=col>&lt;int&gt;</th><th scope=col>&lt;int&gt;</th><th scope=col>&lt;chr&gt;</th><th scope=col>&lt;chr&gt;</th><th scope=col>&lt;chr&gt;</th></tr>\n",
       "</thead>\n",
       "<tbody>\n",
       "\t<tr><td>0.8</td><td>1</td><td>1000000</td><td>metaspades</td><td>0.8/1/1000000/metaspades/features.tsv.gz</td><td>--art-paired --art-mflen 250 --art-sdev 10 --rndSeed 8712</td></tr>\n",
       "\t<tr><td>0.8</td><td>1</td><td>1000000</td><td>megahit   </td><td>0.8/1/1000000/megahit/features.tsv.gz   </td><td>--art-paired --art-mflen 250 --art-sdev 10 --rndSeed 8712</td></tr>\n",
       "\t<tr><td>⋮</td><td>⋮</td><td>⋮</td><td>⋮</td><td>⋮</td><td>⋮</td></tr>\n",
       "\t<tr><td>0.8</td><td>3</td><td>1000000</td><td>metaspades</td><td>0.8/3/1000000/metaspades/features.tsv.gz</td><td>--art-paired --art-mflen 250 --art-sdev 10 --rndSeed 8712</td></tr>\n",
       "\t<tr><td>0.8</td><td>3</td><td>1000000</td><td>megahit   </td><td>0.8/3/1000000/megahit/features.tsv.gz   </td><td>--art-paired --art-mflen 250 --art-sdev 10 --rndSeed 8712</td></tr>\n",
       "</tbody>\n",
       "</table>\n"
      ],
      "text/latex": [
       "A data.table: 6 × 6\n",
       "\\begin{tabular}{llllll}\n",
       " richness & rep & read\\_depth & assembler & feature\\_file & MGSIM\\_reads\\_params\\\\\n",
       " <dbl> & <int> & <int> & <chr> & <chr> & <chr>\\\\\n",
       "\\hline\n",
       "\t 0.8 & 1 & 1000000 & metaspades & 0.8/1/1000000/metaspades/features.tsv.gz & --art-paired --art-mflen 250 --art-sdev 10 --rndSeed 8712\\\\\n",
       "\t 0.8 & 1 & 1000000 & megahit    & 0.8/1/1000000/megahit/features.tsv.gz    & --art-paired --art-mflen 250 --art-sdev 10 --rndSeed 8712\\\\\n",
       "\t ⋮ & ⋮ & ⋮ & ⋮ & ⋮ & ⋮\\\\\n",
       "\t 0.8 & 3 & 1000000 & metaspades & 0.8/3/1000000/metaspades/features.tsv.gz & --art-paired --art-mflen 250 --art-sdev 10 --rndSeed 8712\\\\\n",
       "\t 0.8 & 3 & 1000000 & megahit    & 0.8/3/1000000/megahit/features.tsv.gz    & --art-paired --art-mflen 250 --art-sdev 10 --rndSeed 8712\\\\\n",
       "\\end{tabular}\n"
      ],
      "text/markdown": [
       "\n",
       "A data.table: 6 × 6\n",
       "\n",
       "| richness &lt;dbl&gt; | rep &lt;int&gt; | read_depth &lt;int&gt; | assembler &lt;chr&gt; | feature_file &lt;chr&gt; | MGSIM_reads_params &lt;chr&gt; |\n",
       "|---|---|---|---|---|---|\n",
       "| 0.8 | 1 | 1000000 | metaspades | 0.8/1/1000000/metaspades/features.tsv.gz | --art-paired --art-mflen 250 --art-sdev 10 --rndSeed 8712 |\n",
       "| 0.8 | 1 | 1000000 | megahit    | 0.8/1/1000000/megahit/features.tsv.gz    | --art-paired --art-mflen 250 --art-sdev 10 --rndSeed 8712 |\n",
       "| ⋮ | ⋮ | ⋮ | ⋮ | ⋮ | ⋮ |\n",
       "| 0.8 | 3 | 1000000 | metaspades | 0.8/3/1000000/metaspades/features.tsv.gz | --art-paired --art-mflen 250 --art-sdev 10 --rndSeed 8712 |\n",
       "| 0.8 | 3 | 1000000 | megahit    | 0.8/3/1000000/megahit/features.tsv.gz    | --art-paired --art-mflen 250 --art-sdev 10 --rndSeed 8712 |\n",
       "\n"
      ],
      "text/plain": [
       "  richness rep read_depth assembler  feature_file                            \n",
       "1 0.8      1   1000000    metaspades 0.8/1/1000000/metaspades/features.tsv.gz\n",
       "2 0.8      1   1000000    megahit    0.8/1/1000000/megahit/features.tsv.gz   \n",
       "⋮ ⋮        ⋮   ⋮          ⋮          ⋮                                       \n",
       "5 0.8      3   1000000    metaspades 0.8/3/1000000/metaspades/features.tsv.gz\n",
       "6 0.8      3   1000000    megahit    0.8/3/1000000/megahit/features.tsv.gz   \n",
       "  MGSIM_reads_params                                       \n",
       "1 --art-paired --art-mflen 250 --art-sdev 10 --rndSeed 8712\n",
       "2 --art-paired --art-mflen 250 --art-sdev 10 --rndSeed 8712\n",
       "⋮ ⋮                                                        \n",
       "5 --art-paired --art-mflen 250 --art-sdev 10 --rndSeed 8712\n",
       "6 --art-paired --art-mflen 250 --art-sdev 10 --rndSeed 8712"
      ]
     },
     "metadata": {},
     "output_type": "display_data"
    }
   ],
   "source": [
    "# bam2feat tables\n",
    "D = file.path(work_dir, 'features_bam2feat')\n",
    "F = file.path(D, 'feature_files.tsv')\n",
    "files = Fread(F) \n",
    "files"
   ]
  },
  {
   "cell_type": "code",
   "execution_count": 255,
   "id": "e345cd54",
   "metadata": {
    "ExecuteTime": {
     "end_time": "2021-07-16T13:59:49.168526Z",
     "start_time": "2021-07-16T13:56:45.782Z"
    }
   },
   "outputs": [
    {
     "data": {
      "text/html": [
       "<table class=\"dataframe\">\n",
       "<caption>A data.table: 77504453 × 46</caption>\n",
       "<thead>\n",
       "\t<tr><th scope=col>assembler</th><th scope=col>contig</th><th scope=col>position</th><th scope=col>ref_base</th><th scope=col>num_query_A</th><th scope=col>num_query_C</th><th scope=col>num_query_G</th><th scope=col>num_query_T</th><th scope=col>num_SNPs</th><th scope=col>coverage</th><th scope=col>⋯</th><th scope=col>num_supplementary_SNP</th><th scope=col>num_secondary_SNP</th><th scope=col>num_discordant_SNP</th><th scope=col>seq_window_entropy</th><th scope=col>seq_window_perc_gc</th><th scope=col>Extensive_misassembly</th><th scope=col>Extensive_misassembly_by_pos</th><th scope=col>richness</th><th scope=col>rep</th><th scope=col>read_depth</th></tr>\n",
       "\t<tr><th scope=col>&lt;chr&gt;</th><th scope=col>&lt;chr&gt;</th><th scope=col>&lt;int&gt;</th><th scope=col>&lt;chr&gt;</th><th scope=col>&lt;int&gt;</th><th scope=col>&lt;int&gt;</th><th scope=col>&lt;int&gt;</th><th scope=col>&lt;int&gt;</th><th scope=col>&lt;int&gt;</th><th scope=col>&lt;int&gt;</th><th scope=col>⋯</th><th scope=col>&lt;int&gt;</th><th scope=col>&lt;int&gt;</th><th scope=col>&lt;int&gt;</th><th scope=col>&lt;dbl&gt;</th><th scope=col>&lt;dbl&gt;</th><th scope=col>&lt;int&gt;</th><th scope=col>&lt;chr&gt;</th><th scope=col>&lt;chr&gt;</th><th scope=col>&lt;chr&gt;</th><th scope=col>&lt;chr&gt;</th></tr>\n",
       "</thead>\n",
       "<tbody>\n",
       "\t<tr><td>metaspades</td><td>NODE_1293_length_1332_cov_1.445576</td><td>0</td><td>C</td><td>0</td><td>1</td><td>0</td><td>0</td><td>0</td><td>1</td><td>⋯</td><td>0</td><td>0</td><td>0</td><td>1.46</td><td>0.667</td><td>0</td><td>None</td><td>0.8</td><td>1</td><td>1000000</td></tr>\n",
       "\t<tr><td>metaspades</td><td>NODE_1293_length_1332_cov_1.445576</td><td>1</td><td>A</td><td>1</td><td>0</td><td>0</td><td>0</td><td>0</td><td>1</td><td>⋯</td><td>0</td><td>0</td><td>0</td><td>1.00</td><td>0.500</td><td>0</td><td>None</td><td>0.8</td><td>1</td><td>1000000</td></tr>\n",
       "\t<tr><td>⋮</td><td>⋮</td><td>⋮</td><td>⋮</td><td>⋮</td><td>⋮</td><td>⋮</td><td>⋮</td><td>⋮</td><td>⋮</td><td>⋱</td><td>⋮</td><td>⋮</td><td>⋮</td><td>⋮</td><td>⋮</td><td>⋮</td><td>⋮</td><td>⋮</td><td>⋮</td><td>⋮</td></tr>\n",
       "\t<tr><td>megahit</td><td>k141_12451</td><td>1127</td><td>A</td><td>1</td><td>0</td><td>0</td><td>0</td><td>0</td><td>1</td><td>⋯</td><td>0</td><td>0</td><td>0</td><td>1.46</td><td>0.667</td><td>0</td><td>None</td><td>0.8</td><td>3</td><td>1000000</td></tr>\n",
       "\t<tr><td>megahit</td><td>k141_12451</td><td>1128</td><td>C</td><td>0</td><td>1</td><td>0</td><td>0</td><td>0</td><td>1</td><td>⋯</td><td>0</td><td>0</td><td>0</td><td>1.46</td><td>0.667</td><td>0</td><td>None</td><td>0.8</td><td>3</td><td>1000000</td></tr>\n",
       "</tbody>\n",
       "</table>\n"
      ],
      "text/latex": [
       "A data.table: 77504453 × 46\n",
       "\\begin{tabular}{lllllllllllllllllllll}\n",
       " assembler & contig & position & ref\\_base & num\\_query\\_A & num\\_query\\_C & num\\_query\\_G & num\\_query\\_T & num\\_SNPs & coverage & ⋯ & num\\_supplementary\\_SNP & num\\_secondary\\_SNP & num\\_discordant\\_SNP & seq\\_window\\_entropy & seq\\_window\\_perc\\_gc & Extensive\\_misassembly & Extensive\\_misassembly\\_by\\_pos & richness & rep & read\\_depth\\\\\n",
       " <chr> & <chr> & <int> & <chr> & <int> & <int> & <int> & <int> & <int> & <int> & ⋯ & <int> & <int> & <int> & <dbl> & <dbl> & <int> & <chr> & <chr> & <chr> & <chr>\\\\\n",
       "\\hline\n",
       "\t metaspades & NODE\\_1293\\_length\\_1332\\_cov\\_1.445576 & 0 & C & 0 & 1 & 0 & 0 & 0 & 1 & ⋯ & 0 & 0 & 0 & 1.46 & 0.667 & 0 & None & 0.8 & 1 & 1000000\\\\\n",
       "\t metaspades & NODE\\_1293\\_length\\_1332\\_cov\\_1.445576 & 1 & A & 1 & 0 & 0 & 0 & 0 & 1 & ⋯ & 0 & 0 & 0 & 1.00 & 0.500 & 0 & None & 0.8 & 1 & 1000000\\\\\n",
       "\t ⋮ & ⋮ & ⋮ & ⋮ & ⋮ & ⋮ & ⋮ & ⋮ & ⋮ & ⋮ & ⋱ & ⋮ & ⋮ & ⋮ & ⋮ & ⋮ & ⋮ & ⋮ & ⋮ & ⋮ & ⋮\\\\\n",
       "\t megahit & k141\\_12451 & 1127 & A & 1 & 0 & 0 & 0 & 0 & 1 & ⋯ & 0 & 0 & 0 & 1.46 & 0.667 & 0 & None & 0.8 & 3 & 1000000\\\\\n",
       "\t megahit & k141\\_12451 & 1128 & C & 0 & 1 & 0 & 0 & 0 & 1 & ⋯ & 0 & 0 & 0 & 1.46 & 0.667 & 0 & None & 0.8 & 3 & 1000000\\\\\n",
       "\\end{tabular}\n"
      ],
      "text/markdown": [
       "\n",
       "A data.table: 77504453 × 46\n",
       "\n",
       "| assembler &lt;chr&gt; | contig &lt;chr&gt; | position &lt;int&gt; | ref_base &lt;chr&gt; | num_query_A &lt;int&gt; | num_query_C &lt;int&gt; | num_query_G &lt;int&gt; | num_query_T &lt;int&gt; | num_SNPs &lt;int&gt; | coverage &lt;int&gt; | ⋯ ⋯ | num_supplementary_SNP &lt;int&gt; | num_secondary_SNP &lt;int&gt; | num_discordant_SNP &lt;int&gt; | seq_window_entropy &lt;dbl&gt; | seq_window_perc_gc &lt;dbl&gt; | Extensive_misassembly &lt;int&gt; | Extensive_misassembly_by_pos &lt;chr&gt; | richness &lt;chr&gt; | rep &lt;chr&gt; | read_depth &lt;chr&gt; |\n",
       "|---|---|---|---|---|---|---|---|---|---|---|---|---|---|---|---|---|---|---|---|---|\n",
       "| metaspades | NODE_1293_length_1332_cov_1.445576 | 0 | C | 0 | 1 | 0 | 0 | 0 | 1 | ⋯ | 0 | 0 | 0 | 1.46 | 0.667 | 0 | None | 0.8 | 1 | 1000000 |\n",
       "| metaspades | NODE_1293_length_1332_cov_1.445576 | 1 | A | 1 | 0 | 0 | 0 | 0 | 1 | ⋯ | 0 | 0 | 0 | 1.00 | 0.500 | 0 | None | 0.8 | 1 | 1000000 |\n",
       "| ⋮ | ⋮ | ⋮ | ⋮ | ⋮ | ⋮ | ⋮ | ⋮ | ⋮ | ⋮ | ⋱ | ⋮ | ⋮ | ⋮ | ⋮ | ⋮ | ⋮ | ⋮ | ⋮ | ⋮ | ⋮ |\n",
       "| megahit | k141_12451 | 1127 | A | 1 | 0 | 0 | 0 | 0 | 1 | ⋯ | 0 | 0 | 0 | 1.46 | 0.667 | 0 | None | 0.8 | 3 | 1000000 |\n",
       "| megahit | k141_12451 | 1128 | C | 0 | 1 | 0 | 0 | 0 | 1 | ⋯ | 0 | 0 | 0 | 1.46 | 0.667 | 0 | None | 0.8 | 3 | 1000000 |\n",
       "\n"
      ],
      "text/plain": [
       "         assembler  contig                             position ref_base\n",
       "1        metaspades NODE_1293_length_1332_cov_1.445576 0        C       \n",
       "2        metaspades NODE_1293_length_1332_cov_1.445576 1        A       \n",
       "⋮        ⋮          ⋮                                  ⋮        ⋮       \n",
       "77504452 megahit    k141_12451                         1127     A       \n",
       "77504453 megahit    k141_12451                         1128     C       \n",
       "         num_query_A num_query_C num_query_G num_query_T num_SNPs coverage ⋯\n",
       "1        0           1           0           0           0        1        ⋯\n",
       "2        1           0           0           0           0        1        ⋯\n",
       "⋮        ⋮           ⋮           ⋮           ⋮           ⋮        ⋮        ⋱\n",
       "77504452 1           0           0           0           0        1        ⋯\n",
       "77504453 0           1           0           0           0        1        ⋯\n",
       "         num_supplementary_SNP num_secondary_SNP num_discordant_SNP\n",
       "1        0                     0                 0                 \n",
       "2        0                     0                 0                 \n",
       "⋮        ⋮                     ⋮                 ⋮                 \n",
       "77504452 0                     0                 0                 \n",
       "77504453 0                     0                 0                 \n",
       "         seq_window_entropy seq_window_perc_gc Extensive_misassembly\n",
       "1        1.46               0.667              0                    \n",
       "2        1.00               0.500              0                    \n",
       "⋮        ⋮                  ⋮                  ⋮                    \n",
       "77504452 1.46               0.667              0                    \n",
       "77504453 1.46               0.667              0                    \n",
       "         Extensive_misassembly_by_pos richness rep read_depth\n",
       "1        None                         0.8      1   1000000   \n",
       "2        None                         0.8      1   1000000   \n",
       "⋮        ⋮                            ⋮        ⋮   ⋮         \n",
       "77504452 None                         0.8      3   1000000   \n",
       "77504453 None                         0.8      3   1000000   "
      ]
     },
     "metadata": {},
     "output_type": "display_data"
    }
   ],
   "source": [
    "# loading feature tables\n",
    "bam2feat = files %>%\n",
    "    apply(1, read_feat, D=file.path(work_dir, 'features_bam2feat')) %>%\n",
    "    rbindlist(use.names=TRUE)\n",
    "bam2feat"
   ]
  },
  {
   "cell_type": "markdown",
   "id": "58983d85",
   "metadata": {},
   "source": [
    "# Compare"
   ]
  },
  {
   "cell_type": "markdown",
   "id": "674c8902",
   "metadata": {},
   "source": [
    "## Check that dataset matches"
   ]
  },
  {
   "cell_type": "code",
   "execution_count": 256,
   "id": "3fef06dd",
   "metadata": {
    "ExecuteTime": {
     "end_time": "2021-07-16T13:59:53.533166Z",
     "start_time": "2021-07-16T13:56:47.590Z"
    }
   },
   "outputs": [
    {
     "name": "stdout",
     "output_type": "stream",
     "text": [
      "No. of unique assemblers: 2 \n",
      "No. of unique assemblers: 2 \n"
     ]
    }
   ],
   "source": [
    "bam2feat_py$assembler %>% unique_n('assemblers')\n",
    "bam2feat$assembler %>% unique_n('assemblers')"
   ]
  },
  {
   "cell_type": "code",
   "execution_count": 257,
   "id": "033b8848",
   "metadata": {
    "ExecuteTime": {
     "end_time": "2021-07-16T13:59:58.075942Z",
     "start_time": "2021-07-16T13:56:47.703Z"
    }
   },
   "outputs": [
    {
     "name": "stdout",
     "output_type": "stream",
     "text": [
      "No. of unique contigs: 8961 \n",
      "No. of unique contigs: 8961 \n"
     ]
    }
   ],
   "source": [
    "bam2feat_py$contig %>% unique_n('contigs')\n",
    "bam2feat$contig %>% unique_n('contigs')"
   ]
  },
  {
   "cell_type": "code",
   "execution_count": 258,
   "id": "2e783893",
   "metadata": {
    "ExecuteTime": {
     "end_time": "2021-07-16T13:59:58.649890Z",
     "start_time": "2021-07-16T13:56:47.823Z"
    }
   },
   "outputs": [
    {
     "data": {
      "text/html": [
       "<table class=\"dataframe\">\n",
       "<caption>A tidytable: 6 × 4</caption>\n",
       "<thead>\n",
       "\t<tr><th scope=col>assembler</th><th scope=col>richness</th><th scope=col>rep</th><th scope=col>read_depth</th></tr>\n",
       "\t<tr><th scope=col>&lt;chr&gt;</th><th scope=col>&lt;chr&gt;</th><th scope=col>&lt;chr&gt;</th><th scope=col>&lt;chr&gt;</th></tr>\n",
       "</thead>\n",
       "<tbody>\n",
       "\t<tr><td>metaspades</td><td>0.8</td><td>1</td><td>1000000</td></tr>\n",
       "\t<tr><td>megahit   </td><td>0.8</td><td>1</td><td>1000000</td></tr>\n",
       "\t<tr><td>⋮</td><td>⋮</td><td>⋮</td><td>⋮</td></tr>\n",
       "\t<tr><td>metaspades</td><td>0.8</td><td>3</td><td>1000000</td></tr>\n",
       "\t<tr><td>megahit   </td><td>0.8</td><td>3</td><td>1000000</td></tr>\n",
       "</tbody>\n",
       "</table>\n"
      ],
      "text/latex": [
       "A tidytable: 6 × 4\n",
       "\\begin{tabular}{llll}\n",
       " assembler & richness & rep & read\\_depth\\\\\n",
       " <chr> & <chr> & <chr> & <chr>\\\\\n",
       "\\hline\n",
       "\t metaspades & 0.8 & 1 & 1000000\\\\\n",
       "\t megahit    & 0.8 & 1 & 1000000\\\\\n",
       "\t ⋮ & ⋮ & ⋮ & ⋮\\\\\n",
       "\t metaspades & 0.8 & 3 & 1000000\\\\\n",
       "\t megahit    & 0.8 & 3 & 1000000\\\\\n",
       "\\end{tabular}\n"
      ],
      "text/markdown": [
       "\n",
       "A tidytable: 6 × 4\n",
       "\n",
       "| assembler &lt;chr&gt; | richness &lt;chr&gt; | rep &lt;chr&gt; | read_depth &lt;chr&gt; |\n",
       "|---|---|---|---|\n",
       "| metaspades | 0.8 | 1 | 1000000 |\n",
       "| megahit    | 0.8 | 1 | 1000000 |\n",
       "| ⋮ | ⋮ | ⋮ | ⋮ |\n",
       "| metaspades | 0.8 | 3 | 1000000 |\n",
       "| megahit    | 0.8 | 3 | 1000000 |\n",
       "\n"
      ],
      "text/plain": [
       "  assembler  richness rep read_depth\n",
       "1 metaspades 0.8      1   1000000   \n",
       "2 megahit    0.8      1   1000000   \n",
       "⋮ ⋮          ⋮        ⋮   ⋮         \n",
       "5 metaspades 0.8      3   1000000   \n",
       "6 megahit    0.8      3   1000000   "
      ]
     },
     "metadata": {},
     "output_type": "display_data"
    }
   ],
   "source": [
    "bam2feat_py %>%\n",
    "    distinct.(assembler, richness, rep, read_depth)"
   ]
  },
  {
   "cell_type": "code",
   "execution_count": 259,
   "id": "ce98ca62",
   "metadata": {
    "ExecuteTime": {
     "end_time": "2021-07-16T13:59:59.186159Z",
     "start_time": "2021-07-16T13:56:47.935Z"
    }
   },
   "outputs": [
    {
     "data": {
      "text/html": [
       "<table class=\"dataframe\">\n",
       "<caption>A tidytable: 6 × 4</caption>\n",
       "<thead>\n",
       "\t<tr><th scope=col>assembler</th><th scope=col>richness</th><th scope=col>rep</th><th scope=col>read_depth</th></tr>\n",
       "\t<tr><th scope=col>&lt;chr&gt;</th><th scope=col>&lt;chr&gt;</th><th scope=col>&lt;chr&gt;</th><th scope=col>&lt;chr&gt;</th></tr>\n",
       "</thead>\n",
       "<tbody>\n",
       "\t<tr><td>metaspades</td><td>0.8</td><td>1</td><td>1000000</td></tr>\n",
       "\t<tr><td>megahit   </td><td>0.8</td><td>1</td><td>1000000</td></tr>\n",
       "\t<tr><td>⋮</td><td>⋮</td><td>⋮</td><td>⋮</td></tr>\n",
       "\t<tr><td>metaspades</td><td>0.8</td><td>3</td><td>1000000</td></tr>\n",
       "\t<tr><td>megahit   </td><td>0.8</td><td>3</td><td>1000000</td></tr>\n",
       "</tbody>\n",
       "</table>\n"
      ],
      "text/latex": [
       "A tidytable: 6 × 4\n",
       "\\begin{tabular}{llll}\n",
       " assembler & richness & rep & read\\_depth\\\\\n",
       " <chr> & <chr> & <chr> & <chr>\\\\\n",
       "\\hline\n",
       "\t metaspades & 0.8 & 1 & 1000000\\\\\n",
       "\t megahit    & 0.8 & 1 & 1000000\\\\\n",
       "\t ⋮ & ⋮ & ⋮ & ⋮\\\\\n",
       "\t metaspades & 0.8 & 3 & 1000000\\\\\n",
       "\t megahit    & 0.8 & 3 & 1000000\\\\\n",
       "\\end{tabular}\n"
      ],
      "text/markdown": [
       "\n",
       "A tidytable: 6 × 4\n",
       "\n",
       "| assembler &lt;chr&gt; | richness &lt;chr&gt; | rep &lt;chr&gt; | read_depth &lt;chr&gt; |\n",
       "|---|---|---|---|\n",
       "| metaspades | 0.8 | 1 | 1000000 |\n",
       "| megahit    | 0.8 | 1 | 1000000 |\n",
       "| ⋮ | ⋮ | ⋮ | ⋮ |\n",
       "| metaspades | 0.8 | 3 | 1000000 |\n",
       "| megahit    | 0.8 | 3 | 1000000 |\n",
       "\n"
      ],
      "text/plain": [
       "  assembler  richness rep read_depth\n",
       "1 metaspades 0.8      1   1000000   \n",
       "2 megahit    0.8      1   1000000   \n",
       "⋮ ⋮          ⋮        ⋮   ⋮         \n",
       "5 metaspades 0.8      3   1000000   \n",
       "6 megahit    0.8      3   1000000   "
      ]
     },
     "metadata": {},
     "output_type": "display_data"
    }
   ],
   "source": [
    "bam2feat %>%\n",
    "    distinct.(assembler, richness, rep, read_depth)"
   ]
  },
  {
   "cell_type": "code",
   "execution_count": 260,
   "id": "828f8655",
   "metadata": {
    "ExecuteTime": {
     "end_time": "2021-07-16T14:00:12.339908Z",
     "start_time": "2021-07-16T13:56:48.078Z"
    }
   },
   "outputs": [
    {
     "data": {
      "text/html": [
       "<table class=\"dataframe\">\n",
       "<caption>A matrix: 1 × 8 of type dbl</caption>\n",
       "<thead>\n",
       "\t<tr><th></th><th scope=col>Min.</th><th scope=col>1st Qu.</th><th scope=col>Median</th><th scope=col>Mean</th><th scope=col>3rd Qu.</th><th scope=col>Max.</th><th scope=col>sd</th><th scope=col>sd_err_of_mean</th></tr>\n",
       "</thead>\n",
       "<tbody>\n",
       "\t<tr><th scope=row>position</th><td>0</td><td>1324</td><td>21399</td><td>83485.4</td><td>96588</td><td>869434</td><td>340899.2</td><td>139171.5</td></tr>\n",
       "</tbody>\n",
       "</table>\n"
      ],
      "text/latex": [
       "A matrix: 1 × 8 of type dbl\n",
       "\\begin{tabular}{r|llllllll}\n",
       "  & Min. & 1st Qu. & Median & Mean & 3rd Qu. & Max. & sd & sd\\_err\\_of\\_mean\\\\\n",
       "\\hline\n",
       "\tposition & 0 & 1324 & 21399 & 83485.4 & 96588 & 869434 & 340899.2 & 139171.5\\\\\n",
       "\\end{tabular}\n"
      ],
      "text/markdown": [
       "\n",
       "A matrix: 1 × 8 of type dbl\n",
       "\n",
       "| <!--/--> | Min. | 1st Qu. | Median | Mean | 3rd Qu. | Max. | sd | sd_err_of_mean |\n",
       "|---|---|---|---|---|---|---|---|---|\n",
       "| position | 0 | 1324 | 21399 | 83485.4 | 96588 | 869434 | 340899.2 | 139171.5 |\n",
       "\n"
      ],
      "text/plain": [
       "         Min. 1st Qu. Median Mean    3rd Qu. Max.   sd       sd_err_of_mean\n",
       "position 0    1324    21399  83485.4 96588   869434 340899.2 139171.5      "
      ]
     },
     "metadata": {},
     "output_type": "display_data"
    },
    {
     "data": {
      "text/html": [
       "<table class=\"dataframe\">\n",
       "<caption>A matrix: 1 × 8 of type dbl</caption>\n",
       "<thead>\n",
       "\t<tr><th></th><th scope=col>Min.</th><th scope=col>1st Qu.</th><th scope=col>Median</th><th scope=col>Mean</th><th scope=col>3rd Qu.</th><th scope=col>Max.</th><th scope=col>sd</th><th scope=col>sd_err_of_mean</th></tr>\n",
       "</thead>\n",
       "<tbody>\n",
       "\t<tr><th scope=row>position</th><td>0</td><td>1324</td><td>21399</td><td>83485.4</td><td>96588</td><td>869434</td><td>340899.2</td><td>139171.5</td></tr>\n",
       "</tbody>\n",
       "</table>\n"
      ],
      "text/latex": [
       "A matrix: 1 × 8 of type dbl\n",
       "\\begin{tabular}{r|llllllll}\n",
       "  & Min. & 1st Qu. & Median & Mean & 3rd Qu. & Max. & sd & sd\\_err\\_of\\_mean\\\\\n",
       "\\hline\n",
       "\tposition & 0 & 1324 & 21399 & 83485.4 & 96588 & 869434 & 340899.2 & 139171.5\\\\\n",
       "\\end{tabular}\n"
      ],
      "text/markdown": [
       "\n",
       "A matrix: 1 × 8 of type dbl\n",
       "\n",
       "| <!--/--> | Min. | 1st Qu. | Median | Mean | 3rd Qu. | Max. | sd | sd_err_of_mean |\n",
       "|---|---|---|---|---|---|---|---|---|\n",
       "| position | 0 | 1324 | 21399 | 83485.4 | 96588 | 869434 | 340899.2 | 139171.5 |\n",
       "\n"
      ],
      "text/plain": [
       "         Min. 1st Qu. Median Mean    3rd Qu. Max.   sd       sd_err_of_mean\n",
       "position 0    1324    21399  83485.4 96588   869434 340899.2 139171.5      "
      ]
     },
     "metadata": {},
     "output_type": "display_data"
    }
   ],
   "source": [
    "summary_x(bam2feat_py$position)\n",
    "summary_x(bam2feat$position)"
   ]
  },
  {
   "cell_type": "markdown",
   "id": "aa4a3091",
   "metadata": {},
   "source": [
    "## Features"
   ]
  },
  {
   "cell_type": "markdown",
   "id": "63adf011",
   "metadata": {},
   "source": [
    "### ref bases"
   ]
  },
  {
   "cell_type": "code",
   "execution_count": 261,
   "id": "908fdb78",
   "metadata": {
    "ExecuteTime": {
     "end_time": "2021-07-16T14:00:26.368486Z",
     "start_time": "2021-07-16T13:56:48.471Z"
    }
   },
   "outputs": [
    {
     "data": {
      "text/plain": [
       ".\n",
       "       A        C        G        T \n",
       "15553310 23135094 23218748 15597301 "
      ]
     },
     "metadata": {},
     "output_type": "display_data"
    },
    {
     "data": {
      "text/plain": [
       ".\n",
       "       A        C        G        T \n",
       "15553310 23135094 23218748 15597301 "
      ]
     },
     "metadata": {},
     "output_type": "display_data"
    }
   ],
   "source": [
    "bam2feat_py$ref_base %>% table\n",
    "bam2feat$ref_base %>% table"
   ]
  },
  {
   "cell_type": "code",
   "execution_count": 262,
   "id": "f3f366b3",
   "metadata": {
    "ExecuteTime": {
     "end_time": "2021-07-16T14:00:32.975543Z",
     "start_time": "2021-07-16T13:56:48.607Z"
    }
   },
   "outputs": [
    {
     "data": {
      "text/html": [
       "<table class=\"dataframe\">\n",
       "<caption>A matrix: 1 × 8 of type dbl</caption>\n",
       "<thead>\n",
       "\t<tr><th></th><th scope=col>Min.</th><th scope=col>1st Qu.</th><th scope=col>Median</th><th scope=col>Mean</th><th scope=col>3rd Qu.</th><th scope=col>Max.</th><th scope=col>sd</th><th scope=col>sd_err_of_mean</th></tr>\n",
       "</thead>\n",
       "<tbody>\n",
       "\t<tr><th scope=row>num_query_A</th><td>0</td><td>0</td><td>0</td><td>5.365662</td><td>0</td><td>503</td><td>204.922</td><td>83.659</td></tr>\n",
       "</tbody>\n",
       "</table>\n"
      ],
      "text/latex": [
       "A matrix: 1 × 8 of type dbl\n",
       "\\begin{tabular}{r|llllllll}\n",
       "  & Min. & 1st Qu. & Median & Mean & 3rd Qu. & Max. & sd & sd\\_err\\_of\\_mean\\\\\n",
       "\\hline\n",
       "\tnum\\_query\\_A & 0 & 0 & 0 & 5.365662 & 0 & 503 & 204.922 & 83.659\\\\\n",
       "\\end{tabular}\n"
      ],
      "text/markdown": [
       "\n",
       "A matrix: 1 × 8 of type dbl\n",
       "\n",
       "| <!--/--> | Min. | 1st Qu. | Median | Mean | 3rd Qu. | Max. | sd | sd_err_of_mean |\n",
       "|---|---|---|---|---|---|---|---|---|\n",
       "| num_query_A | 0 | 0 | 0 | 5.365662 | 0 | 503 | 204.922 | 83.659 |\n",
       "\n"
      ],
      "text/plain": [
       "            Min. 1st Qu. Median Mean     3rd Qu. Max. sd      sd_err_of_mean\n",
       "num_query_A 0    0       0      5.365662 0       503  204.922 83.659        "
      ]
     },
     "metadata": {},
     "output_type": "display_data"
    },
    {
     "data": {
      "text/html": [
       "<table class=\"dataframe\">\n",
       "<caption>A matrix: 1 × 8 of type dbl</caption>\n",
       "<thead>\n",
       "\t<tr><th></th><th scope=col>Min.</th><th scope=col>1st Qu.</th><th scope=col>Median</th><th scope=col>Mean</th><th scope=col>3rd Qu.</th><th scope=col>Max.</th><th scope=col>sd</th><th scope=col>sd_err_of_mean</th></tr>\n",
       "</thead>\n",
       "<tbody>\n",
       "\t<tr><th scope=row>num_query_A</th><td>0</td><td>0</td><td>0</td><td>5.365662</td><td>0</td><td>503</td><td>204.922</td><td>83.659</td></tr>\n",
       "</tbody>\n",
       "</table>\n"
      ],
      "text/latex": [
       "A matrix: 1 × 8 of type dbl\n",
       "\\begin{tabular}{r|llllllll}\n",
       "  & Min. & 1st Qu. & Median & Mean & 3rd Qu. & Max. & sd & sd\\_err\\_of\\_mean\\\\\n",
       "\\hline\n",
       "\tnum\\_query\\_A & 0 & 0 & 0 & 5.365662 & 0 & 503 & 204.922 & 83.659\\\\\n",
       "\\end{tabular}\n"
      ],
      "text/markdown": [
       "\n",
       "A matrix: 1 × 8 of type dbl\n",
       "\n",
       "| <!--/--> | Min. | 1st Qu. | Median | Mean | 3rd Qu. | Max. | sd | sd_err_of_mean |\n",
       "|---|---|---|---|---|---|---|---|---|\n",
       "| num_query_A | 0 | 0 | 0 | 5.365662 | 0 | 503 | 204.922 | 83.659 |\n",
       "\n"
      ],
      "text/plain": [
       "            Min. 1st Qu. Median Mean     3rd Qu. Max. sd      sd_err_of_mean\n",
       "num_query_A 0    0       0      5.365662 0       503  204.922 83.659        "
      ]
     },
     "metadata": {},
     "output_type": "display_data"
    }
   ],
   "source": [
    "summary_x(bam2feat_py$num_query_A)\n",
    "summary_x(bam2feat$num_query_A)"
   ]
  },
  {
   "cell_type": "code",
   "execution_count": 263,
   "id": "efa16a47",
   "metadata": {
    "ExecuteTime": {
     "end_time": "2021-07-16T14:00:40.672541Z",
     "start_time": "2021-07-16T13:56:48.743Z"
    }
   },
   "outputs": [
    {
     "data": {
      "text/html": [
       "<table class=\"dataframe\">\n",
       "<caption>A matrix: 1 × 8 of type dbl</caption>\n",
       "<thead>\n",
       "\t<tr><th></th><th scope=col>Min.</th><th scope=col>1st Qu.</th><th scope=col>Median</th><th scope=col>Mean</th><th scope=col>3rd Qu.</th><th scope=col>Max.</th><th scope=col>sd</th><th scope=col>sd_err_of_mean</th></tr>\n",
       "</thead>\n",
       "<tbody>\n",
       "\t<tr><th scope=row>num_query_C</th><td>0</td><td>0</td><td>0</td><td>5.064511</td><td>3</td><td>509</td><td>207.15</td><td>84.569</td></tr>\n",
       "</tbody>\n",
       "</table>\n"
      ],
      "text/latex": [
       "A matrix: 1 × 8 of type dbl\n",
       "\\begin{tabular}{r|llllllll}\n",
       "  & Min. & 1st Qu. & Median & Mean & 3rd Qu. & Max. & sd & sd\\_err\\_of\\_mean\\\\\n",
       "\\hline\n",
       "\tnum\\_query\\_C & 0 & 0 & 0 & 5.064511 & 3 & 509 & 207.15 & 84.569\\\\\n",
       "\\end{tabular}\n"
      ],
      "text/markdown": [
       "\n",
       "A matrix: 1 × 8 of type dbl\n",
       "\n",
       "| <!--/--> | Min. | 1st Qu. | Median | Mean | 3rd Qu. | Max. | sd | sd_err_of_mean |\n",
       "|---|---|---|---|---|---|---|---|---|\n",
       "| num_query_C | 0 | 0 | 0 | 5.064511 | 3 | 509 | 207.15 | 84.569 |\n",
       "\n"
      ],
      "text/plain": [
       "            Min. 1st Qu. Median Mean     3rd Qu. Max. sd     sd_err_of_mean\n",
       "num_query_C 0    0       0      5.064511 3       509  207.15 84.569        "
      ]
     },
     "metadata": {},
     "output_type": "display_data"
    },
    {
     "data": {
      "text/html": [
       "<table class=\"dataframe\">\n",
       "<caption>A matrix: 1 × 8 of type dbl</caption>\n",
       "<thead>\n",
       "\t<tr><th></th><th scope=col>Min.</th><th scope=col>1st Qu.</th><th scope=col>Median</th><th scope=col>Mean</th><th scope=col>3rd Qu.</th><th scope=col>Max.</th><th scope=col>sd</th><th scope=col>sd_err_of_mean</th></tr>\n",
       "</thead>\n",
       "<tbody>\n",
       "\t<tr><th scope=row>num_query_C</th><td>0</td><td>0</td><td>0</td><td>5.064511</td><td>3</td><td>509</td><td>207.15</td><td>84.569</td></tr>\n",
       "</tbody>\n",
       "</table>\n"
      ],
      "text/latex": [
       "A matrix: 1 × 8 of type dbl\n",
       "\\begin{tabular}{r|llllllll}\n",
       "  & Min. & 1st Qu. & Median & Mean & 3rd Qu. & Max. & sd & sd\\_err\\_of\\_mean\\\\\n",
       "\\hline\n",
       "\tnum\\_query\\_C & 0 & 0 & 0 & 5.064511 & 3 & 509 & 207.15 & 84.569\\\\\n",
       "\\end{tabular}\n"
      ],
      "text/markdown": [
       "\n",
       "A matrix: 1 × 8 of type dbl\n",
       "\n",
       "| <!--/--> | Min. | 1st Qu. | Median | Mean | 3rd Qu. | Max. | sd | sd_err_of_mean |\n",
       "|---|---|---|---|---|---|---|---|---|\n",
       "| num_query_C | 0 | 0 | 0 | 5.064511 | 3 | 509 | 207.15 | 84.569 |\n",
       "\n"
      ],
      "text/plain": [
       "            Min. 1st Qu. Median Mean     3rd Qu. Max. sd     sd_err_of_mean\n",
       "num_query_C 0    0       0      5.064511 3       509  207.15 84.569        "
      ]
     },
     "metadata": {},
     "output_type": "display_data"
    }
   ],
   "source": [
    "summary_x(bam2feat_py$num_query_C)\n",
    "summary_x(bam2feat$num_query_C)"
   ]
  },
  {
   "cell_type": "code",
   "execution_count": 264,
   "id": "73a14fbe",
   "metadata": {
    "ExecuteTime": {
     "end_time": "2021-07-16T14:00:50.246810Z",
     "start_time": "2021-07-16T13:56:48.895Z"
    }
   },
   "outputs": [
    {
     "data": {
      "text/html": [
       "<table class=\"dataframe\">\n",
       "<caption>A matrix: 1 × 8 of type dbl</caption>\n",
       "<thead>\n",
       "\t<tr><th></th><th scope=col>Min.</th><th scope=col>1st Qu.</th><th scope=col>Median</th><th scope=col>Mean</th><th scope=col>3rd Qu.</th><th scope=col>Max.</th><th scope=col>sd</th><th scope=col>sd_err_of_mean</th></tr>\n",
       "</thead>\n",
       "<tbody>\n",
       "\t<tr><th scope=row>num_query_G</th><td>0</td><td>0</td><td>0</td><td>5.132087</td><td>3</td><td>504</td><td>205.104</td><td>83.733</td></tr>\n",
       "</tbody>\n",
       "</table>\n"
      ],
      "text/latex": [
       "A matrix: 1 × 8 of type dbl\n",
       "\\begin{tabular}{r|llllllll}\n",
       "  & Min. & 1st Qu. & Median & Mean & 3rd Qu. & Max. & sd & sd\\_err\\_of\\_mean\\\\\n",
       "\\hline\n",
       "\tnum\\_query\\_G & 0 & 0 & 0 & 5.132087 & 3 & 504 & 205.104 & 83.733\\\\\n",
       "\\end{tabular}\n"
      ],
      "text/markdown": [
       "\n",
       "A matrix: 1 × 8 of type dbl\n",
       "\n",
       "| <!--/--> | Min. | 1st Qu. | Median | Mean | 3rd Qu. | Max. | sd | sd_err_of_mean |\n",
       "|---|---|---|---|---|---|---|---|---|\n",
       "| num_query_G | 0 | 0 | 0 | 5.132087 | 3 | 504 | 205.104 | 83.733 |\n",
       "\n"
      ],
      "text/plain": [
       "            Min. 1st Qu. Median Mean     3rd Qu. Max. sd      sd_err_of_mean\n",
       "num_query_G 0    0       0      5.132087 3       504  205.104 83.733        "
      ]
     },
     "metadata": {},
     "output_type": "display_data"
    },
    {
     "data": {
      "text/html": [
       "<table class=\"dataframe\">\n",
       "<caption>A matrix: 1 × 8 of type dbl</caption>\n",
       "<thead>\n",
       "\t<tr><th></th><th scope=col>Min.</th><th scope=col>1st Qu.</th><th scope=col>Median</th><th scope=col>Mean</th><th scope=col>3rd Qu.</th><th scope=col>Max.</th><th scope=col>sd</th><th scope=col>sd_err_of_mean</th></tr>\n",
       "</thead>\n",
       "<tbody>\n",
       "\t<tr><th scope=row>num_query_G</th><td>0</td><td>0</td><td>0</td><td>5.132087</td><td>3</td><td>504</td><td>205.104</td><td>83.733</td></tr>\n",
       "</tbody>\n",
       "</table>\n"
      ],
      "text/latex": [
       "A matrix: 1 × 8 of type dbl\n",
       "\\begin{tabular}{r|llllllll}\n",
       "  & Min. & 1st Qu. & Median & Mean & 3rd Qu. & Max. & sd & sd\\_err\\_of\\_mean\\\\\n",
       "\\hline\n",
       "\tnum\\_query\\_G & 0 & 0 & 0 & 5.132087 & 3 & 504 & 205.104 & 83.733\\\\\n",
       "\\end{tabular}\n"
      ],
      "text/markdown": [
       "\n",
       "A matrix: 1 × 8 of type dbl\n",
       "\n",
       "| <!--/--> | Min. | 1st Qu. | Median | Mean | 3rd Qu. | Max. | sd | sd_err_of_mean |\n",
       "|---|---|---|---|---|---|---|---|---|\n",
       "| num_query_G | 0 | 0 | 0 | 5.132087 | 3 | 504 | 205.104 | 83.733 |\n",
       "\n"
      ],
      "text/plain": [
       "            Min. 1st Qu. Median Mean     3rd Qu. Max. sd      sd_err_of_mean\n",
       "num_query_G 0    0       0      5.132087 3       504  205.104 83.733        "
      ]
     },
     "metadata": {},
     "output_type": "display_data"
    }
   ],
   "source": [
    "summary_x(bam2feat_py$num_query_G)\n",
    "summary_x(bam2feat$num_query_G)"
   ]
  },
  {
   "cell_type": "code",
   "execution_count": 265,
   "id": "717d9bd9",
   "metadata": {
    "ExecuteTime": {
     "end_time": "2021-07-16T14:00:55.860983Z",
     "start_time": "2021-07-16T13:56:49.022Z"
    }
   },
   "outputs": [
    {
     "data": {
      "text/html": [
       "<table class=\"dataframe\">\n",
       "<caption>A matrix: 1 × 8 of type dbl</caption>\n",
       "<thead>\n",
       "\t<tr><th></th><th scope=col>Min.</th><th scope=col>1st Qu.</th><th scope=col>Median</th><th scope=col>Mean</th><th scope=col>3rd Qu.</th><th scope=col>Max.</th><th scope=col>sd</th><th scope=col>sd_err_of_mean</th></tr>\n",
       "</thead>\n",
       "<tbody>\n",
       "\t<tr><th scope=row>num_query_T</th><td>0</td><td>0</td><td>0</td><td>5.382127</td><td>0</td><td>503</td><td>204.921</td><td>83.659</td></tr>\n",
       "</tbody>\n",
       "</table>\n"
      ],
      "text/latex": [
       "A matrix: 1 × 8 of type dbl\n",
       "\\begin{tabular}{r|llllllll}\n",
       "  & Min. & 1st Qu. & Median & Mean & 3rd Qu. & Max. & sd & sd\\_err\\_of\\_mean\\\\\n",
       "\\hline\n",
       "\tnum\\_query\\_T & 0 & 0 & 0 & 5.382127 & 0 & 503 & 204.921 & 83.659\\\\\n",
       "\\end{tabular}\n"
      ],
      "text/markdown": [
       "\n",
       "A matrix: 1 × 8 of type dbl\n",
       "\n",
       "| <!--/--> | Min. | 1st Qu. | Median | Mean | 3rd Qu. | Max. | sd | sd_err_of_mean |\n",
       "|---|---|---|---|---|---|---|---|---|\n",
       "| num_query_T | 0 | 0 | 0 | 5.382127 | 0 | 503 | 204.921 | 83.659 |\n",
       "\n"
      ],
      "text/plain": [
       "            Min. 1st Qu. Median Mean     3rd Qu. Max. sd      sd_err_of_mean\n",
       "num_query_T 0    0       0      5.382127 0       503  204.921 83.659        "
      ]
     },
     "metadata": {},
     "output_type": "display_data"
    },
    {
     "data": {
      "text/html": [
       "<table class=\"dataframe\">\n",
       "<caption>A matrix: 1 × 8 of type dbl</caption>\n",
       "<thead>\n",
       "\t<tr><th></th><th scope=col>Min.</th><th scope=col>1st Qu.</th><th scope=col>Median</th><th scope=col>Mean</th><th scope=col>3rd Qu.</th><th scope=col>Max.</th><th scope=col>sd</th><th scope=col>sd_err_of_mean</th></tr>\n",
       "</thead>\n",
       "<tbody>\n",
       "\t<tr><th scope=row>num_query_T</th><td>0</td><td>0</td><td>0</td><td>5.382127</td><td>0</td><td>503</td><td>204.921</td><td>83.659</td></tr>\n",
       "</tbody>\n",
       "</table>\n"
      ],
      "text/latex": [
       "A matrix: 1 × 8 of type dbl\n",
       "\\begin{tabular}{r|llllllll}\n",
       "  & Min. & 1st Qu. & Median & Mean & 3rd Qu. & Max. & sd & sd\\_err\\_of\\_mean\\\\\n",
       "\\hline\n",
       "\tnum\\_query\\_T & 0 & 0 & 0 & 5.382127 & 0 & 503 & 204.921 & 83.659\\\\\n",
       "\\end{tabular}\n"
      ],
      "text/markdown": [
       "\n",
       "A matrix: 1 × 8 of type dbl\n",
       "\n",
       "| <!--/--> | Min. | 1st Qu. | Median | Mean | 3rd Qu. | Max. | sd | sd_err_of_mean |\n",
       "|---|---|---|---|---|---|---|---|---|\n",
       "| num_query_T | 0 | 0 | 0 | 5.382127 | 0 | 503 | 204.921 | 83.659 |\n",
       "\n"
      ],
      "text/plain": [
       "            Min. 1st Qu. Median Mean     3rd Qu. Max. sd      sd_err_of_mean\n",
       "num_query_T 0    0       0      5.382127 0       503  204.921 83.659        "
      ]
     },
     "metadata": {},
     "output_type": "display_data"
    }
   ],
   "source": [
    "summary_x(bam2feat_py$num_query_T)\n",
    "summary_x(bam2feat$num_query_T)"
   ]
  },
  {
   "cell_type": "markdown",
   "id": "4b1e47f4",
   "metadata": {},
   "source": [
    "### coverage/SNPs"
   ]
  },
  {
   "cell_type": "code",
   "execution_count": 266,
   "id": "8f8a3f32",
   "metadata": {
    "ExecuteTime": {
     "end_time": "2021-07-16T14:01:01.534640Z",
     "start_time": "2021-07-16T13:56:49.297Z"
    }
   },
   "outputs": [
    {
     "data": {
      "text/html": [
       "<table class=\"dataframe\">\n",
       "<caption>A matrix: 1 × 8 of type dbl</caption>\n",
       "<thead>\n",
       "\t<tr><th></th><th scope=col>Min.</th><th scope=col>1st Qu.</th><th scope=col>Median</th><th scope=col>Mean</th><th scope=col>3rd Qu.</th><th scope=col>Max.</th><th scope=col>sd</th><th scope=col>sd_err_of_mean</th></tr>\n",
       "</thead>\n",
       "<tbody>\n",
       "\t<tr><th scope=row>coverage</th><td>0</td><td>5</td><td>12</td><td>20.94439</td><td>42</td><td>509</td><td>201.813</td><td>82.39</td></tr>\n",
       "</tbody>\n",
       "</table>\n"
      ],
      "text/latex": [
       "A matrix: 1 × 8 of type dbl\n",
       "\\begin{tabular}{r|llllllll}\n",
       "  & Min. & 1st Qu. & Median & Mean & 3rd Qu. & Max. & sd & sd\\_err\\_of\\_mean\\\\\n",
       "\\hline\n",
       "\tcoverage & 0 & 5 & 12 & 20.94439 & 42 & 509 & 201.813 & 82.39\\\\\n",
       "\\end{tabular}\n"
      ],
      "text/markdown": [
       "\n",
       "A matrix: 1 × 8 of type dbl\n",
       "\n",
       "| <!--/--> | Min. | 1st Qu. | Median | Mean | 3rd Qu. | Max. | sd | sd_err_of_mean |\n",
       "|---|---|---|---|---|---|---|---|---|\n",
       "| coverage | 0 | 5 | 12 | 20.94439 | 42 | 509 | 201.813 | 82.39 |\n",
       "\n"
      ],
      "text/plain": [
       "         Min. 1st Qu. Median Mean     3rd Qu. Max. sd      sd_err_of_mean\n",
       "coverage 0    5       12     20.94439 42      509  201.813 82.39         "
      ]
     },
     "metadata": {},
     "output_type": "display_data"
    },
    {
     "data": {
      "text/html": [
       "<table class=\"dataframe\">\n",
       "<caption>A matrix: 1 × 8 of type dbl</caption>\n",
       "<thead>\n",
       "\t<tr><th></th><th scope=col>Min.</th><th scope=col>1st Qu.</th><th scope=col>Median</th><th scope=col>Mean</th><th scope=col>3rd Qu.</th><th scope=col>Max.</th><th scope=col>sd</th><th scope=col>sd_err_of_mean</th></tr>\n",
       "</thead>\n",
       "<tbody>\n",
       "\t<tr><th scope=row>coverage</th><td>0</td><td>5</td><td>12</td><td>20.94439</td><td>42</td><td>509</td><td>201.813</td><td>82.39</td></tr>\n",
       "</tbody>\n",
       "</table>\n"
      ],
      "text/latex": [
       "A matrix: 1 × 8 of type dbl\n",
       "\\begin{tabular}{r|llllllll}\n",
       "  & Min. & 1st Qu. & Median & Mean & 3rd Qu. & Max. & sd & sd\\_err\\_of\\_mean\\\\\n",
       "\\hline\n",
       "\tcoverage & 0 & 5 & 12 & 20.94439 & 42 & 509 & 201.813 & 82.39\\\\\n",
       "\\end{tabular}\n"
      ],
      "text/markdown": [
       "\n",
       "A matrix: 1 × 8 of type dbl\n",
       "\n",
       "| <!--/--> | Min. | 1st Qu. | Median | Mean | 3rd Qu. | Max. | sd | sd_err_of_mean |\n",
       "|---|---|---|---|---|---|---|---|---|\n",
       "| coverage | 0 | 5 | 12 | 20.94439 | 42 | 509 | 201.813 | 82.39 |\n",
       "\n"
      ],
      "text/plain": [
       "         Min. 1st Qu. Median Mean     3rd Qu. Max. sd      sd_err_of_mean\n",
       "coverage 0    5       12     20.94439 42      509  201.813 82.39         "
      ]
     },
     "metadata": {},
     "output_type": "display_data"
    }
   ],
   "source": [
    "summary_x(bam2feat_py$coverage)\n",
    "summary_x(bam2feat$coverage)"
   ]
  },
  {
   "cell_type": "code",
   "execution_count": 267,
   "id": "9972b31c",
   "metadata": {
    "ExecuteTime": {
     "end_time": "2021-07-16T14:01:07.960758Z",
     "start_time": "2021-07-16T13:56:49.431Z"
    }
   },
   "outputs": [
    {
     "data": {
      "text/html": [
       "<table class=\"dataframe\">\n",
       "<caption>A matrix: 1 × 8 of type dbl</caption>\n",
       "<thead>\n",
       "\t<tr><th></th><th scope=col>Min.</th><th scope=col>1st Qu.</th><th scope=col>Median</th><th scope=col>Mean</th><th scope=col>3rd Qu.</th><th scope=col>Max.</th><th scope=col>sd</th><th scope=col>sd_err_of_mean</th></tr>\n",
       "</thead>\n",
       "<tbody>\n",
       "\t<tr><th scope=row>num_SNPs</th><td>0</td><td>0</td><td>0</td><td>0.01837612</td><td>0</td><td>324</td><td>132.271</td><td>53.999</td></tr>\n",
       "</tbody>\n",
       "</table>\n"
      ],
      "text/latex": [
       "A matrix: 1 × 8 of type dbl\n",
       "\\begin{tabular}{r|llllllll}\n",
       "  & Min. & 1st Qu. & Median & Mean & 3rd Qu. & Max. & sd & sd\\_err\\_of\\_mean\\\\\n",
       "\\hline\n",
       "\tnum\\_SNPs & 0 & 0 & 0 & 0.01837612 & 0 & 324 & 132.271 & 53.999\\\\\n",
       "\\end{tabular}\n"
      ],
      "text/markdown": [
       "\n",
       "A matrix: 1 × 8 of type dbl\n",
       "\n",
       "| <!--/--> | Min. | 1st Qu. | Median | Mean | 3rd Qu. | Max. | sd | sd_err_of_mean |\n",
       "|---|---|---|---|---|---|---|---|---|\n",
       "| num_SNPs | 0 | 0 | 0 | 0.01837612 | 0 | 324 | 132.271 | 53.999 |\n",
       "\n"
      ],
      "text/plain": [
       "         Min. 1st Qu. Median Mean       3rd Qu. Max. sd      sd_err_of_mean\n",
       "num_SNPs 0    0       0      0.01837612 0       324  132.271 53.999        "
      ]
     },
     "metadata": {},
     "output_type": "display_data"
    },
    {
     "data": {
      "text/html": [
       "<table class=\"dataframe\">\n",
       "<caption>A matrix: 1 × 8 of type dbl</caption>\n",
       "<thead>\n",
       "\t<tr><th></th><th scope=col>Min.</th><th scope=col>1st Qu.</th><th scope=col>Median</th><th scope=col>Mean</th><th scope=col>3rd Qu.</th><th scope=col>Max.</th><th scope=col>sd</th><th scope=col>sd_err_of_mean</th></tr>\n",
       "</thead>\n",
       "<tbody>\n",
       "\t<tr><th scope=row>num_SNPs</th><td>0</td><td>0</td><td>0</td><td>0.01837612</td><td>0</td><td>324</td><td>132.271</td><td>53.999</td></tr>\n",
       "</tbody>\n",
       "</table>\n"
      ],
      "text/latex": [
       "A matrix: 1 × 8 of type dbl\n",
       "\\begin{tabular}{r|llllllll}\n",
       "  & Min. & 1st Qu. & Median & Mean & 3rd Qu. & Max. & sd & sd\\_err\\_of\\_mean\\\\\n",
       "\\hline\n",
       "\tnum\\_SNPs & 0 & 0 & 0 & 0.01837612 & 0 & 324 & 132.271 & 53.999\\\\\n",
       "\\end{tabular}\n"
      ],
      "text/markdown": [
       "\n",
       "A matrix: 1 × 8 of type dbl\n",
       "\n",
       "| <!--/--> | Min. | 1st Qu. | Median | Mean | 3rd Qu. | Max. | sd | sd_err_of_mean |\n",
       "|---|---|---|---|---|---|---|---|---|\n",
       "| num_SNPs | 0 | 0 | 0 | 0.01837612 | 0 | 324 | 132.271 | 53.999 |\n",
       "\n"
      ],
      "text/plain": [
       "         Min. 1st Qu. Median Mean       3rd Qu. Max. sd      sd_err_of_mean\n",
       "num_SNPs 0    0       0      0.01837612 0       324  132.271 53.999        "
      ]
     },
     "metadata": {},
     "output_type": "display_data"
    }
   ],
   "source": [
    "summary_x(bam2feat_py$num_SNPs)\n",
    "summary_x(bam2feat$num_SNPs)"
   ]
  },
  {
   "cell_type": "code",
   "execution_count": 268,
   "id": "aea3d6b4",
   "metadata": {
    "ExecuteTime": {
     "end_time": "2021-07-16T14:01:14.275820Z",
     "start_time": "2021-07-16T13:56:49.567Z"
    }
   },
   "outputs": [
    {
     "data": {
      "text/html": [
       "<table class=\"dataframe\">\n",
       "<caption>A matrix: 1 × 8 of type dbl</caption>\n",
       "<thead>\n",
       "\t<tr><th></th><th scope=col>Min.</th><th scope=col>1st Qu.</th><th scope=col>Median</th><th scope=col>Mean</th><th scope=col>3rd Qu.</th><th scope=col>Max.</th><th scope=col>sd</th><th scope=col>sd_err_of_mean</th></tr>\n",
       "</thead>\n",
       "<tbody>\n",
       "\t<tr><th scope=row>num_discordant</th><td>0</td><td>0</td><td>0</td><td>0.01239023</td><td>0</td><td>124</td><td>50.622</td><td>20.666</td></tr>\n",
       "</tbody>\n",
       "</table>\n"
      ],
      "text/latex": [
       "A matrix: 1 × 8 of type dbl\n",
       "\\begin{tabular}{r|llllllll}\n",
       "  & Min. & 1st Qu. & Median & Mean & 3rd Qu. & Max. & sd & sd\\_err\\_of\\_mean\\\\\n",
       "\\hline\n",
       "\tnum\\_discordant & 0 & 0 & 0 & 0.01239023 & 0 & 124 & 50.622 & 20.666\\\\\n",
       "\\end{tabular}\n"
      ],
      "text/markdown": [
       "\n",
       "A matrix: 1 × 8 of type dbl\n",
       "\n",
       "| <!--/--> | Min. | 1st Qu. | Median | Mean | 3rd Qu. | Max. | sd | sd_err_of_mean |\n",
       "|---|---|---|---|---|---|---|---|---|\n",
       "| num_discordant | 0 | 0 | 0 | 0.01239023 | 0 | 124 | 50.622 | 20.666 |\n",
       "\n"
      ],
      "text/plain": [
       "               Min. 1st Qu. Median Mean       3rd Qu. Max. sd    \n",
       "num_discordant 0    0       0      0.01239023 0       124  50.622\n",
       "               sd_err_of_mean\n",
       "num_discordant 20.666        "
      ]
     },
     "metadata": {},
     "output_type": "display_data"
    },
    {
     "data": {
      "text/html": [
       "<table class=\"dataframe\">\n",
       "<caption>A matrix: 1 × 8 of type dbl</caption>\n",
       "<thead>\n",
       "\t<tr><th></th><th scope=col>Min.</th><th scope=col>1st Qu.</th><th scope=col>Median</th><th scope=col>Mean</th><th scope=col>3rd Qu.</th><th scope=col>Max.</th><th scope=col>sd</th><th scope=col>sd_err_of_mean</th></tr>\n",
       "</thead>\n",
       "<tbody>\n",
       "\t<tr><th scope=row>num_discordant</th><td>0</td><td>0</td><td>0</td><td>0.01239023</td><td>0</td><td>124</td><td>50.622</td><td>20.666</td></tr>\n",
       "</tbody>\n",
       "</table>\n"
      ],
      "text/latex": [
       "A matrix: 1 × 8 of type dbl\n",
       "\\begin{tabular}{r|llllllll}\n",
       "  & Min. & 1st Qu. & Median & Mean & 3rd Qu. & Max. & sd & sd\\_err\\_of\\_mean\\\\\n",
       "\\hline\n",
       "\tnum\\_discordant & 0 & 0 & 0 & 0.01239023 & 0 & 124 & 50.622 & 20.666\\\\\n",
       "\\end{tabular}\n"
      ],
      "text/markdown": [
       "\n",
       "A matrix: 1 × 8 of type dbl\n",
       "\n",
       "| <!--/--> | Min. | 1st Qu. | Median | Mean | 3rd Qu. | Max. | sd | sd_err_of_mean |\n",
       "|---|---|---|---|---|---|---|---|---|\n",
       "| num_discordant | 0 | 0 | 0 | 0.01239023 | 0 | 124 | 50.622 | 20.666 |\n",
       "\n"
      ],
      "text/plain": [
       "               Min. 1st Qu. Median Mean       3rd Qu. Max. sd    \n",
       "num_discordant 0    0       0      0.01239023 0       124  50.622\n",
       "               sd_err_of_mean\n",
       "num_discordant 20.666        "
      ]
     },
     "metadata": {},
     "output_type": "display_data"
    }
   ],
   "source": [
    "summary_x(bam2feat_py$num_discordant)\n",
    "summary_x(bam2feat$num_discordant)"
   ]
  },
  {
   "cell_type": "markdown",
   "id": "052dde9f",
   "metadata": {},
   "source": [
    "### Match features"
   ]
  },
  {
   "cell_type": "code",
   "execution_count": 269,
   "id": "7b28e310",
   "metadata": {
    "ExecuteTime": {
     "end_time": "2021-07-16T14:01:21.114393Z",
     "start_time": "2021-07-16T13:56:49.851Z"
    }
   },
   "outputs": [
    {
     "data": {
      "text/html": [
       "<table class=\"dataframe\">\n",
       "<caption>A matrix: 1 × 9 of type dbl</caption>\n",
       "<thead>\n",
       "\t<tr><th></th><th scope=col>Min.</th><th scope=col>1st Qu.</th><th scope=col>Median</th><th scope=col>Mean</th><th scope=col>3rd Qu.</th><th scope=col>Max.</th><th scope=col>NA's</th><th scope=col>sd</th><th scope=col>sd_err_of_mean</th></tr>\n",
       "</thead>\n",
       "<tbody>\n",
       "\t<tr><th scope=row>min_insert_size_Match</th><td>0</td><td>229</td><td>234</td><td>233.9986</td><td>241</td><td>1452</td><td>29472</td><td>10999.25</td><td>4157.324</td></tr>\n",
       "</tbody>\n",
       "</table>\n"
      ],
      "text/latex": [
       "A matrix: 1 × 9 of type dbl\n",
       "\\begin{tabular}{r|lllllllll}\n",
       "  & Min. & 1st Qu. & Median & Mean & 3rd Qu. & Max. & NA's & sd & sd\\_err\\_of\\_mean\\\\\n",
       "\\hline\n",
       "\tmin\\_insert\\_size\\_Match & 0 & 229 & 234 & 233.9986 & 241 & 1452 & 29472 & 10999.25 & 4157.324\\\\\n",
       "\\end{tabular}\n"
      ],
      "text/markdown": [
       "\n",
       "A matrix: 1 × 9 of type dbl\n",
       "\n",
       "| <!--/--> | Min. | 1st Qu. | Median | Mean | 3rd Qu. | Max. | NA's | sd | sd_err_of_mean |\n",
       "|---|---|---|---|---|---|---|---|---|---|\n",
       "| min_insert_size_Match | 0 | 229 | 234 | 233.9986 | 241 | 1452 | 29472 | 10999.25 | 4157.324 |\n",
       "\n"
      ],
      "text/plain": [
       "                      Min. 1st Qu. Median Mean     3rd Qu. Max. NA's  sd      \n",
       "min_insert_size_Match 0    229     234    233.9986 241     1452 29472 10999.25\n",
       "                      sd_err_of_mean\n",
       "min_insert_size_Match 4157.324      "
      ]
     },
     "metadata": {},
     "output_type": "display_data"
    },
    {
     "data": {
      "text/html": [
       "<table class=\"dataframe\">\n",
       "<caption>A matrix: 1 × 9 of type dbl</caption>\n",
       "<thead>\n",
       "\t<tr><th></th><th scope=col>Min.</th><th scope=col>1st Qu.</th><th scope=col>Median</th><th scope=col>Mean</th><th scope=col>3rd Qu.</th><th scope=col>Max.</th><th scope=col>NA's</th><th scope=col>sd</th><th scope=col>sd_err_of_mean</th></tr>\n",
       "</thead>\n",
       "<tbody>\n",
       "\t<tr><th scope=row>min_insert_size_Match</th><td>0</td><td>229</td><td>234</td><td>234.0283</td><td>241</td><td>1455</td><td>25948</td><td>9668.6</td><td>3654.387</td></tr>\n",
       "</tbody>\n",
       "</table>\n"
      ],
      "text/latex": [
       "A matrix: 1 × 9 of type dbl\n",
       "\\begin{tabular}{r|lllllllll}\n",
       "  & Min. & 1st Qu. & Median & Mean & 3rd Qu. & Max. & NA's & sd & sd\\_err\\_of\\_mean\\\\\n",
       "\\hline\n",
       "\tmin\\_insert\\_size\\_Match & 0 & 229 & 234 & 234.0283 & 241 & 1455 & 25948 & 9668.6 & 3654.387\\\\\n",
       "\\end{tabular}\n"
      ],
      "text/markdown": [
       "\n",
       "A matrix: 1 × 9 of type dbl\n",
       "\n",
       "| <!--/--> | Min. | 1st Qu. | Median | Mean | 3rd Qu. | Max. | NA's | sd | sd_err_of_mean |\n",
       "|---|---|---|---|---|---|---|---|---|---|\n",
       "| min_insert_size_Match | 0 | 229 | 234 | 234.0283 | 241 | 1455 | 25948 | 9668.6 | 3654.387 |\n",
       "\n"
      ],
      "text/plain": [
       "                      Min. 1st Qu. Median Mean     3rd Qu. Max. NA's  sd    \n",
       "min_insert_size_Match 0    229     234    234.0283 241     1455 25948 9668.6\n",
       "                      sd_err_of_mean\n",
       "min_insert_size_Match 3654.387      "
      ]
     },
     "metadata": {},
     "output_type": "display_data"
    }
   ],
   "source": [
    "summary_x(bam2feat_py$min_insert_size_Match)\n",
    "summary_x(bam2feat$min_insert_size_Match)"
   ]
  },
  {
   "cell_type": "code",
   "execution_count": 270,
   "id": "52f6da52",
   "metadata": {
    "ExecuteTime": {
     "end_time": "2021-07-16T14:01:35.904108Z",
     "start_time": "2021-07-16T13:56:49.990Z"
    }
   },
   "outputs": [
    {
     "data": {
      "text/html": [
       "<table class=\"dataframe\">\n",
       "<caption>A matrix: 1 × 9 of type dbl</caption>\n",
       "<thead>\n",
       "\t<tr><th></th><th scope=col>Min.</th><th scope=col>1st Qu.</th><th scope=col>Median</th><th scope=col>Mean</th><th scope=col>3rd Qu.</th><th scope=col>Max.</th><th scope=col>NA's</th><th scope=col>sd</th><th scope=col>sd_err_of_mean</th></tr>\n",
       "</thead>\n",
       "<tbody>\n",
       "\t<tr><th scope=row>mean_insert_size_Match</th><td>0</td><td>247.5</td><td>249.5</td><td>249.0814</td><td>251.7</td><td>1462.3</td><td>29472</td><td>10994.85</td><td>4155.663</td></tr>\n",
       "</tbody>\n",
       "</table>\n"
      ],
      "text/latex": [
       "A matrix: 1 × 9 of type dbl\n",
       "\\begin{tabular}{r|lllllllll}\n",
       "  & Min. & 1st Qu. & Median & Mean & 3rd Qu. & Max. & NA's & sd & sd\\_err\\_of\\_mean\\\\\n",
       "\\hline\n",
       "\tmean\\_insert\\_size\\_Match & 0 & 247.5 & 249.5 & 249.0814 & 251.7 & 1462.3 & 29472 & 10994.85 & 4155.663\\\\\n",
       "\\end{tabular}\n"
      ],
      "text/markdown": [
       "\n",
       "A matrix: 1 × 9 of type dbl\n",
       "\n",
       "| <!--/--> | Min. | 1st Qu. | Median | Mean | 3rd Qu. | Max. | NA's | sd | sd_err_of_mean |\n",
       "|---|---|---|---|---|---|---|---|---|---|\n",
       "| mean_insert_size_Match | 0 | 247.5 | 249.5 | 249.0814 | 251.7 | 1462.3 | 29472 | 10994.85 | 4155.663 |\n",
       "\n"
      ],
      "text/plain": [
       "                       Min. 1st Qu. Median Mean     3rd Qu. Max.   NA's \n",
       "mean_insert_size_Match 0    247.5   249.5  249.0814 251.7   1462.3 29472\n",
       "                       sd       sd_err_of_mean\n",
       "mean_insert_size_Match 10994.85 4155.663      "
      ]
     },
     "metadata": {},
     "output_type": "display_data"
    },
    {
     "data": {
      "text/html": [
       "<table class=\"dataframe\">\n",
       "<caption>A matrix: 1 × 9 of type dbl</caption>\n",
       "<thead>\n",
       "\t<tr><th></th><th scope=col>Min.</th><th scope=col>1st Qu.</th><th scope=col>Median</th><th scope=col>Mean</th><th scope=col>3rd Qu.</th><th scope=col>Max.</th><th scope=col>NA's</th><th scope=col>sd</th><th scope=col>sd_err_of_mean</th></tr>\n",
       "</thead>\n",
       "<tbody>\n",
       "\t<tr><th scope=row>mean_insert_size_Match</th><td>0</td><td>247.46</td><td>249.54</td><td>249.0884</td><td>251.67</td><td>1462.33</td><td>25948</td><td>9664.346</td><td>3652.779</td></tr>\n",
       "</tbody>\n",
       "</table>\n"
      ],
      "text/latex": [
       "A matrix: 1 × 9 of type dbl\n",
       "\\begin{tabular}{r|lllllllll}\n",
       "  & Min. & 1st Qu. & Median & Mean & 3rd Qu. & Max. & NA's & sd & sd\\_err\\_of\\_mean\\\\\n",
       "\\hline\n",
       "\tmean\\_insert\\_size\\_Match & 0 & 247.46 & 249.54 & 249.0884 & 251.67 & 1462.33 & 25948 & 9664.346 & 3652.779\\\\\n",
       "\\end{tabular}\n"
      ],
      "text/markdown": [
       "\n",
       "A matrix: 1 × 9 of type dbl\n",
       "\n",
       "| <!--/--> | Min. | 1st Qu. | Median | Mean | 3rd Qu. | Max. | NA's | sd | sd_err_of_mean |\n",
       "|---|---|---|---|---|---|---|---|---|---|\n",
       "| mean_insert_size_Match | 0 | 247.46 | 249.54 | 249.0884 | 251.67 | 1462.33 | 25948 | 9664.346 | 3652.779 |\n",
       "\n"
      ],
      "text/plain": [
       "                       Min. 1st Qu. Median Mean     3rd Qu. Max.    NA's \n",
       "mean_insert_size_Match 0    247.46  249.54 249.0884 251.67  1462.33 25948\n",
       "                       sd       sd_err_of_mean\n",
       "mean_insert_size_Match 9664.346 3652.779      "
      ]
     },
     "metadata": {},
     "output_type": "display_data"
    }
   ],
   "source": [
    "summary_x(bam2feat_py$mean_insert_size_Match)\n",
    "summary_x(bam2feat$mean_insert_size_Match)"
   ]
  },
  {
   "cell_type": "code",
   "execution_count": 271,
   "id": "68d04d57",
   "metadata": {
    "ExecuteTime": {
     "end_time": "2021-07-16T14:01:53.446235Z",
     "start_time": "2021-07-16T13:56:50.118Z"
    }
   },
   "outputs": [
    {
     "data": {
      "text/html": [
       "<table class=\"dataframe\">\n",
       "<caption>A matrix: 1 × 9 of type dbl</caption>\n",
       "<thead>\n",
       "\t<tr><th></th><th scope=col>Min.</th><th scope=col>1st Qu.</th><th scope=col>Median</th><th scope=col>Mean</th><th scope=col>3rd Qu.</th><th scope=col>Max.</th><th scope=col>NA's</th><th scope=col>sd</th><th scope=col>sd_err_of_mean</th></tr>\n",
       "</thead>\n",
       "<tbody>\n",
       "\t<tr><th scope=row>stdev_insert_size_Match</th><td>0</td><td>7.8</td><td>9.5</td><td>9.760843</td><td>10.9</td><td>848.5</td><td>3542562</td><td>1338907</td><td>506059.2</td></tr>\n",
       "</tbody>\n",
       "</table>\n"
      ],
      "text/latex": [
       "A matrix: 1 × 9 of type dbl\n",
       "\\begin{tabular}{r|lllllllll}\n",
       "  & Min. & 1st Qu. & Median & Mean & 3rd Qu. & Max. & NA's & sd & sd\\_err\\_of\\_mean\\\\\n",
       "\\hline\n",
       "\tstdev\\_insert\\_size\\_Match & 0 & 7.8 & 9.5 & 9.760843 & 10.9 & 848.5 & 3542562 & 1338907 & 506059.2\\\\\n",
       "\\end{tabular}\n"
      ],
      "text/markdown": [
       "\n",
       "A matrix: 1 × 9 of type dbl\n",
       "\n",
       "| <!--/--> | Min. | 1st Qu. | Median | Mean | 3rd Qu. | Max. | NA's | sd | sd_err_of_mean |\n",
       "|---|---|---|---|---|---|---|---|---|---|\n",
       "| stdev_insert_size_Match | 0 | 7.8 | 9.5 | 9.760843 | 10.9 | 848.5 | 3542562 | 1338907 | 506059.2 |\n",
       "\n"
      ],
      "text/plain": [
       "                        Min. 1st Qu. Median Mean     3rd Qu. Max.  NA's   \n",
       "stdev_insert_size_Match 0    7.8     9.5    9.760843 10.9    848.5 3542562\n",
       "                        sd      sd_err_of_mean\n",
       "stdev_insert_size_Match 1338907 506059.2      "
      ]
     },
     "metadata": {},
     "output_type": "display_data"
    },
    {
     "data": {
      "text/html": [
       "<table class=\"dataframe\">\n",
       "<caption>A matrix: 1 × 9 of type dbl</caption>\n",
       "<thead>\n",
       "\t<tr><th></th><th scope=col>Min.</th><th scope=col>1st Qu.</th><th scope=col>Median</th><th scope=col>Mean</th><th scope=col>3rd Qu.</th><th scope=col>Max.</th><th scope=col>NA's</th><th scope=col>sd</th><th scope=col>sd_err_of_mean</th></tr>\n",
       "</thead>\n",
       "<tbody>\n",
       "\t<tr><th scope=row>stdev_insert_size_Match</th><td>0</td><td>7.79</td><td>9.47</td><td>9.74721</td><td>10.87</td><td>851.36</td><td>3549782</td><td>1341636</td><td>507090.6</td></tr>\n",
       "</tbody>\n",
       "</table>\n"
      ],
      "text/latex": [
       "A matrix: 1 × 9 of type dbl\n",
       "\\begin{tabular}{r|lllllllll}\n",
       "  & Min. & 1st Qu. & Median & Mean & 3rd Qu. & Max. & NA's & sd & sd\\_err\\_of\\_mean\\\\\n",
       "\\hline\n",
       "\tstdev\\_insert\\_size\\_Match & 0 & 7.79 & 9.47 & 9.74721 & 10.87 & 851.36 & 3549782 & 1341636 & 507090.6\\\\\n",
       "\\end{tabular}\n"
      ],
      "text/markdown": [
       "\n",
       "A matrix: 1 × 9 of type dbl\n",
       "\n",
       "| <!--/--> | Min. | 1st Qu. | Median | Mean | 3rd Qu. | Max. | NA's | sd | sd_err_of_mean |\n",
       "|---|---|---|---|---|---|---|---|---|---|\n",
       "| stdev_insert_size_Match | 0 | 7.79 | 9.47 | 9.74721 | 10.87 | 851.36 | 3549782 | 1341636 | 507090.6 |\n",
       "\n"
      ],
      "text/plain": [
       "                        Min. 1st Qu. Median Mean    3rd Qu. Max.   NA's   \n",
       "stdev_insert_size_Match 0    7.79    9.47   9.74721 10.87   851.36 3549782\n",
       "                        sd      sd_err_of_mean\n",
       "stdev_insert_size_Match 1341636 507090.6      "
      ]
     },
     "metadata": {},
     "output_type": "display_data"
    }
   ],
   "source": [
    "summary_x(bam2feat_py$stdev_insert_size_Match)\n",
    "summary_x(bam2feat$stdev_insert_size_Match)"
   ]
  },
  {
   "cell_type": "code",
   "execution_count": 272,
   "id": "8cb24428",
   "metadata": {
    "ExecuteTime": {
     "end_time": "2021-07-16T14:01:59.999095Z",
     "start_time": "2021-07-16T13:56:50.254Z"
    }
   },
   "outputs": [
    {
     "data": {
      "text/html": [
       "<table class=\"dataframe\">\n",
       "<caption>A matrix: 1 × 9 of type dbl</caption>\n",
       "<thead>\n",
       "\t<tr><th></th><th scope=col>Min.</th><th scope=col>1st Qu.</th><th scope=col>Median</th><th scope=col>Mean</th><th scope=col>3rd Qu.</th><th scope=col>Max.</th><th scope=col>NA's</th><th scope=col>sd</th><th scope=col>sd_err_of_mean</th></tr>\n",
       "</thead>\n",
       "<tbody>\n",
       "\t<tr><th scope=row>max_insert_size_Match</th><td>0</td><td>259</td><td>265</td><td>264.2961</td><td>271</td><td>1475</td><td>29472</td><td>10990.24</td><td>4153.919</td></tr>\n",
       "</tbody>\n",
       "</table>\n"
      ],
      "text/latex": [
       "A matrix: 1 × 9 of type dbl\n",
       "\\begin{tabular}{r|lllllllll}\n",
       "  & Min. & 1st Qu. & Median & Mean & 3rd Qu. & Max. & NA's & sd & sd\\_err\\_of\\_mean\\\\\n",
       "\\hline\n",
       "\tmax\\_insert\\_size\\_Match & 0 & 259 & 265 & 264.2961 & 271 & 1475 & 29472 & 10990.24 & 4153.919\\\\\n",
       "\\end{tabular}\n"
      ],
      "text/markdown": [
       "\n",
       "A matrix: 1 × 9 of type dbl\n",
       "\n",
       "| <!--/--> | Min. | 1st Qu. | Median | Mean | 3rd Qu. | Max. | NA's | sd | sd_err_of_mean |\n",
       "|---|---|---|---|---|---|---|---|---|---|\n",
       "| max_insert_size_Match | 0 | 259 | 265 | 264.2961 | 271 | 1475 | 29472 | 10990.24 | 4153.919 |\n",
       "\n"
      ],
      "text/plain": [
       "                      Min. 1st Qu. Median Mean     3rd Qu. Max. NA's  sd      \n",
       "max_insert_size_Match 0    259     265    264.2961 271     1475 29472 10990.24\n",
       "                      sd_err_of_mean\n",
       "max_insert_size_Match 4153.919      "
      ]
     },
     "metadata": {},
     "output_type": "display_data"
    },
    {
     "data": {
      "text/html": [
       "<table class=\"dataframe\">\n",
       "<caption>A matrix: 1 × 9 of type dbl</caption>\n",
       "<thead>\n",
       "\t<tr><th></th><th scope=col>Min.</th><th scope=col>1st Qu.</th><th scope=col>Median</th><th scope=col>Mean</th><th scope=col>3rd Qu.</th><th scope=col>Max.</th><th scope=col>NA's</th><th scope=col>sd</th><th scope=col>sd_err_of_mean</th></tr>\n",
       "</thead>\n",
       "<tbody>\n",
       "\t<tr><th scope=row>max_insert_size_Match</th><td>0</td><td>259</td><td>265</td><td>264.2904</td><td>271</td><td>1475</td><td>25948</td><td>9659.739</td><td>3651.038</td></tr>\n",
       "</tbody>\n",
       "</table>\n"
      ],
      "text/latex": [
       "A matrix: 1 × 9 of type dbl\n",
       "\\begin{tabular}{r|lllllllll}\n",
       "  & Min. & 1st Qu. & Median & Mean & 3rd Qu. & Max. & NA's & sd & sd\\_err\\_of\\_mean\\\\\n",
       "\\hline\n",
       "\tmax\\_insert\\_size\\_Match & 0 & 259 & 265 & 264.2904 & 271 & 1475 & 25948 & 9659.739 & 3651.038\\\\\n",
       "\\end{tabular}\n"
      ],
      "text/markdown": [
       "\n",
       "A matrix: 1 × 9 of type dbl\n",
       "\n",
       "| <!--/--> | Min. | 1st Qu. | Median | Mean | 3rd Qu. | Max. | NA's | sd | sd_err_of_mean |\n",
       "|---|---|---|---|---|---|---|---|---|---|\n",
       "| max_insert_size_Match | 0 | 259 | 265 | 264.2904 | 271 | 1475 | 25948 | 9659.739 | 3651.038 |\n",
       "\n"
      ],
      "text/plain": [
       "                      Min. 1st Qu. Median Mean     3rd Qu. Max. NA's  sd      \n",
       "max_insert_size_Match 0    259     265    264.2904 271     1475 25948 9659.739\n",
       "                      sd_err_of_mean\n",
       "max_insert_size_Match 3651.038      "
      ]
     },
     "metadata": {},
     "output_type": "display_data"
    }
   ],
   "source": [
    "summary_x(bam2feat_py$max_insert_size_Match)\n",
    "summary_x(bam2feat$max_insert_size_Match)"
   ]
  },
  {
   "cell_type": "code",
   "execution_count": 273,
   "id": "a5b6dc05",
   "metadata": {
    "ExecuteTime": {
     "end_time": "2021-07-16T14:02:07.828149Z",
     "start_time": "2021-07-16T13:56:50.383Z"
    }
   },
   "outputs": [
    {
     "data": {
      "text/html": [
       "<table class=\"dataframe\">\n",
       "<caption>A matrix: 1 × 8 of type dbl</caption>\n",
       "<thead>\n",
       "\t<tr><th></th><th scope=col>Min.</th><th scope=col>1st Qu.</th><th scope=col>Median</th><th scope=col>Mean</th><th scope=col>3rd Qu.</th><th scope=col>Max.</th><th scope=col>sd</th><th scope=col>sd_err_of_mean</th></tr>\n",
       "</thead>\n",
       "<tbody>\n",
       "\t<tr><th scope=row>num_orphans_Match</th><td>0</td><td>0</td><td>0</td><td>0.01310425</td><td>0</td><td>61</td><td>24.902</td><td>10.166</td></tr>\n",
       "</tbody>\n",
       "</table>\n"
      ],
      "text/latex": [
       "A matrix: 1 × 8 of type dbl\n",
       "\\begin{tabular}{r|llllllll}\n",
       "  & Min. & 1st Qu. & Median & Mean & 3rd Qu. & Max. & sd & sd\\_err\\_of\\_mean\\\\\n",
       "\\hline\n",
       "\tnum\\_orphans\\_Match & 0 & 0 & 0 & 0.01310425 & 0 & 61 & 24.902 & 10.166\\\\\n",
       "\\end{tabular}\n"
      ],
      "text/markdown": [
       "\n",
       "A matrix: 1 × 8 of type dbl\n",
       "\n",
       "| <!--/--> | Min. | 1st Qu. | Median | Mean | 3rd Qu. | Max. | sd | sd_err_of_mean |\n",
       "|---|---|---|---|---|---|---|---|---|\n",
       "| num_orphans_Match | 0 | 0 | 0 | 0.01310425 | 0 | 61 | 24.902 | 10.166 |\n",
       "\n"
      ],
      "text/plain": [
       "                  Min. 1st Qu. Median Mean       3rd Qu. Max. sd    \n",
       "num_orphans_Match 0    0       0      0.01310425 0       61   24.902\n",
       "                  sd_err_of_mean\n",
       "num_orphans_Match 10.166        "
      ]
     },
     "metadata": {},
     "output_type": "display_data"
    },
    {
     "data": {
      "text/html": [
       "<table class=\"dataframe\">\n",
       "<caption>A matrix: 1 × 8 of type dbl</caption>\n",
       "<thead>\n",
       "\t<tr><th></th><th scope=col>Min.</th><th scope=col>1st Qu.</th><th scope=col>Median</th><th scope=col>Mean</th><th scope=col>3rd Qu.</th><th scope=col>Max.</th><th scope=col>sd</th><th scope=col>sd_err_of_mean</th></tr>\n",
       "</thead>\n",
       "<tbody>\n",
       "\t<tr><th scope=row>num_orphans_Match</th><td>0</td><td>0</td><td>0</td><td>0.01286824</td><td>0</td><td>61</td><td>24.902</td><td>10.166</td></tr>\n",
       "</tbody>\n",
       "</table>\n"
      ],
      "text/latex": [
       "A matrix: 1 × 8 of type dbl\n",
       "\\begin{tabular}{r|llllllll}\n",
       "  & Min. & 1st Qu. & Median & Mean & 3rd Qu. & Max. & sd & sd\\_err\\_of\\_mean\\\\\n",
       "\\hline\n",
       "\tnum\\_orphans\\_Match & 0 & 0 & 0 & 0.01286824 & 0 & 61 & 24.902 & 10.166\\\\\n",
       "\\end{tabular}\n"
      ],
      "text/markdown": [
       "\n",
       "A matrix: 1 × 8 of type dbl\n",
       "\n",
       "| <!--/--> | Min. | 1st Qu. | Median | Mean | 3rd Qu. | Max. | sd | sd_err_of_mean |\n",
       "|---|---|---|---|---|---|---|---|---|\n",
       "| num_orphans_Match | 0 | 0 | 0 | 0.01286824 | 0 | 61 | 24.902 | 10.166 |\n",
       "\n"
      ],
      "text/plain": [
       "                  Min. 1st Qu. Median Mean       3rd Qu. Max. sd    \n",
       "num_orphans_Match 0    0       0      0.01286824 0       61   24.902\n",
       "                  sd_err_of_mean\n",
       "num_orphans_Match 10.166        "
      ]
     },
     "metadata": {},
     "output_type": "display_data"
    }
   ],
   "source": [
    "summary_x(bam2feat_py$num_orphans_Match)\n",
    "summary_x(bam2feat$num_orphans_Match)"
   ]
  },
  {
   "cell_type": "code",
   "execution_count": 274,
   "id": "5cc95a81",
   "metadata": {
    "ExecuteTime": {
     "end_time": "2021-07-16T14:02:12.843847Z",
     "start_time": "2021-07-16T13:56:50.520Z"
    }
   },
   "outputs": [
    {
     "data": {
      "text/html": [
       "<table class=\"dataframe\">\n",
       "<caption>A matrix: 1 × 9 of type dbl</caption>\n",
       "<thead>\n",
       "\t<tr><th></th><th scope=col>Min.</th><th scope=col>1st Qu.</th><th scope=col>Median</th><th scope=col>Mean</th><th scope=col>3rd Qu.</th><th scope=col>Max.</th><th scope=col>NA's</th><th scope=col>sd</th><th scope=col>sd_err_of_mean</th></tr>\n",
       "</thead>\n",
       "<tbody>\n",
       "\t<tr><th scope=row>min_mapq_Match</th><td>0</td><td>42</td><td>42</td><td>41.82092</td><td>42</td><td>42</td><td>29472</td><td>11126.16</td><td>4205.294</td></tr>\n",
       "</tbody>\n",
       "</table>\n"
      ],
      "text/latex": [
       "A matrix: 1 × 9 of type dbl\n",
       "\\begin{tabular}{r|lllllllll}\n",
       "  & Min. & 1st Qu. & Median & Mean & 3rd Qu. & Max. & NA's & sd & sd\\_err\\_of\\_mean\\\\\n",
       "\\hline\n",
       "\tmin\\_mapq\\_Match & 0 & 42 & 42 & 41.82092 & 42 & 42 & 29472 & 11126.16 & 4205.294\\\\\n",
       "\\end{tabular}\n"
      ],
      "text/markdown": [
       "\n",
       "A matrix: 1 × 9 of type dbl\n",
       "\n",
       "| <!--/--> | Min. | 1st Qu. | Median | Mean | 3rd Qu. | Max. | NA's | sd | sd_err_of_mean |\n",
       "|---|---|---|---|---|---|---|---|---|---|\n",
       "| min_mapq_Match | 0 | 42 | 42 | 41.82092 | 42 | 42 | 29472 | 11126.16 | 4205.294 |\n",
       "\n"
      ],
      "text/plain": [
       "               Min. 1st Qu. Median Mean     3rd Qu. Max. NA's  sd      \n",
       "min_mapq_Match 0    42      42     41.82092 42      42   29472 11126.16\n",
       "               sd_err_of_mean\n",
       "min_mapq_Match 4205.294      "
      ]
     },
     "metadata": {},
     "output_type": "display_data"
    },
    {
     "data": {
      "text/html": [
       "<table class=\"dataframe\">\n",
       "<caption>A matrix: 1 × 9 of type dbl</caption>\n",
       "<thead>\n",
       "\t<tr><th></th><th scope=col>Min.</th><th scope=col>1st Qu.</th><th scope=col>Median</th><th scope=col>Mean</th><th scope=col>3rd Qu.</th><th scope=col>Max.</th><th scope=col>NA's</th><th scope=col>sd</th><th scope=col>sd_err_of_mean</th></tr>\n",
       "</thead>\n",
       "<tbody>\n",
       "\t<tr><th scope=row>min_mapq_Match</th><td>0</td><td>42</td><td>42</td><td>41.82467</td><td>42</td><td>42</td><td>25948</td><td>9794.217</td><td>3701.866</td></tr>\n",
       "</tbody>\n",
       "</table>\n"
      ],
      "text/latex": [
       "A matrix: 1 × 9 of type dbl\n",
       "\\begin{tabular}{r|lllllllll}\n",
       "  & Min. & 1st Qu. & Median & Mean & 3rd Qu. & Max. & NA's & sd & sd\\_err\\_of\\_mean\\\\\n",
       "\\hline\n",
       "\tmin\\_mapq\\_Match & 0 & 42 & 42 & 41.82467 & 42 & 42 & 25948 & 9794.217 & 3701.866\\\\\n",
       "\\end{tabular}\n"
      ],
      "text/markdown": [
       "\n",
       "A matrix: 1 × 9 of type dbl\n",
       "\n",
       "| <!--/--> | Min. | 1st Qu. | Median | Mean | 3rd Qu. | Max. | NA's | sd | sd_err_of_mean |\n",
       "|---|---|---|---|---|---|---|---|---|---|\n",
       "| min_mapq_Match | 0 | 42 | 42 | 41.82467 | 42 | 42 | 25948 | 9794.217 | 3701.866 |\n",
       "\n"
      ],
      "text/plain": [
       "               Min. 1st Qu. Median Mean     3rd Qu. Max. NA's  sd      \n",
       "min_mapq_Match 0    42      42     41.82467 42      42   25948 9794.217\n",
       "               sd_err_of_mean\n",
       "min_mapq_Match 3701.866      "
      ]
     },
     "metadata": {},
     "output_type": "display_data"
    }
   ],
   "source": [
    "summary_x(bam2feat_py$min_mapq_Match)\n",
    "summary_x(bam2feat$min_mapq_Match)"
   ]
  },
  {
   "cell_type": "code",
   "execution_count": 275,
   "id": "efe589fe",
   "metadata": {
    "ExecuteTime": {
     "end_time": "2021-07-16T14:02:26.852654Z",
     "start_time": "2021-07-16T13:56:50.662Z"
    }
   },
   "outputs": [
    {
     "data": {
      "text/html": [
       "<table class=\"dataframe\">\n",
       "<caption>A matrix: 1 × 9 of type dbl</caption>\n",
       "<thead>\n",
       "\t<tr><th></th><th scope=col>Min.</th><th scope=col>1st Qu.</th><th scope=col>Median</th><th scope=col>Mean</th><th scope=col>3rd Qu.</th><th scope=col>Max.</th><th scope=col>NA's</th><th scope=col>sd</th><th scope=col>sd_err_of_mean</th></tr>\n",
       "</thead>\n",
       "<tbody>\n",
       "\t<tr><th scope=row>mean_mapq_Match</th><td>0</td><td>42</td><td>42</td><td>41.94439</td><td>42</td><td>42</td><td>29472</td><td>11126.16</td><td>4205.291</td></tr>\n",
       "</tbody>\n",
       "</table>\n"
      ],
      "text/latex": [
       "A matrix: 1 × 9 of type dbl\n",
       "\\begin{tabular}{r|lllllllll}\n",
       "  & Min. & 1st Qu. & Median & Mean & 3rd Qu. & Max. & NA's & sd & sd\\_err\\_of\\_mean\\\\\n",
       "\\hline\n",
       "\tmean\\_mapq\\_Match & 0 & 42 & 42 & 41.94439 & 42 & 42 & 29472 & 11126.16 & 4205.291\\\\\n",
       "\\end{tabular}\n"
      ],
      "text/markdown": [
       "\n",
       "A matrix: 1 × 9 of type dbl\n",
       "\n",
       "| <!--/--> | Min. | 1st Qu. | Median | Mean | 3rd Qu. | Max. | NA's | sd | sd_err_of_mean |\n",
       "|---|---|---|---|---|---|---|---|---|---|\n",
       "| mean_mapq_Match | 0 | 42 | 42 | 41.94439 | 42 | 42 | 29472 | 11126.16 | 4205.291 |\n",
       "\n"
      ],
      "text/plain": [
       "                Min. 1st Qu. Median Mean     3rd Qu. Max. NA's  sd      \n",
       "mean_mapq_Match 0    42      42     41.94439 42      42   29472 11126.16\n",
       "                sd_err_of_mean\n",
       "mean_mapq_Match 4205.291      "
      ]
     },
     "metadata": {},
     "output_type": "display_data"
    },
    {
     "data": {
      "text/html": [
       "<table class=\"dataframe\">\n",
       "<caption>A matrix: 1 × 9 of type dbl</caption>\n",
       "<thead>\n",
       "\t<tr><th></th><th scope=col>Min.</th><th scope=col>1st Qu.</th><th scope=col>Median</th><th scope=col>Mean</th><th scope=col>3rd Qu.</th><th scope=col>Max.</th><th scope=col>NA's</th><th scope=col>sd</th><th scope=col>sd_err_of_mean</th></tr>\n",
       "</thead>\n",
       "<tbody>\n",
       "\t<tr><th scope=row>mean_mapq_Match</th><td>0</td><td>42</td><td>42</td><td>41.94527</td><td>42</td><td>42</td><td>25948</td><td>9794.209</td><td>3701.863</td></tr>\n",
       "</tbody>\n",
       "</table>\n"
      ],
      "text/latex": [
       "A matrix: 1 × 9 of type dbl\n",
       "\\begin{tabular}{r|lllllllll}\n",
       "  & Min. & 1st Qu. & Median & Mean & 3rd Qu. & Max. & NA's & sd & sd\\_err\\_of\\_mean\\\\\n",
       "\\hline\n",
       "\tmean\\_mapq\\_Match & 0 & 42 & 42 & 41.94527 & 42 & 42 & 25948 & 9794.209 & 3701.863\\\\\n",
       "\\end{tabular}\n"
      ],
      "text/markdown": [
       "\n",
       "A matrix: 1 × 9 of type dbl\n",
       "\n",
       "| <!--/--> | Min. | 1st Qu. | Median | Mean | 3rd Qu. | Max. | NA's | sd | sd_err_of_mean |\n",
       "|---|---|---|---|---|---|---|---|---|---|\n",
       "| mean_mapq_Match | 0 | 42 | 42 | 41.94527 | 42 | 42 | 25948 | 9794.209 | 3701.863 |\n",
       "\n"
      ],
      "text/plain": [
       "                Min. 1st Qu. Median Mean     3rd Qu. Max. NA's  sd      \n",
       "mean_mapq_Match 0    42      42     41.94527 42      42   25948 9794.209\n",
       "                sd_err_of_mean\n",
       "mean_mapq_Match 3701.863      "
      ]
     },
     "metadata": {},
     "output_type": "display_data"
    }
   ],
   "source": [
    "summary_x(bam2feat_py$mean_mapq_Match)\n",
    "summary_x(bam2feat$mean_mapq_Match)"
   ]
  },
  {
   "cell_type": "code",
   "execution_count": 276,
   "id": "14e3d38c",
   "metadata": {
    "ExecuteTime": {
     "end_time": "2021-07-16T14:02:41.246902Z",
     "start_time": "2021-07-16T13:56:50.797Z"
    }
   },
   "outputs": [
    {
     "data": {
      "text/html": [
       "<table class=\"dataframe\">\n",
       "<caption>A matrix: 1 × 9 of type dbl</caption>\n",
       "<thead>\n",
       "\t<tr><th></th><th scope=col>Min.</th><th scope=col>1st Qu.</th><th scope=col>Median</th><th scope=col>Mean</th><th scope=col>3rd Qu.</th><th scope=col>Max.</th><th scope=col>NA's</th><th scope=col>sd</th><th scope=col>sd_err_of_mean</th></tr>\n",
       "</thead>\n",
       "<tbody>\n",
       "\t<tr><th scope=row>stdev_mapq_Match</th><td>0</td><td>0</td><td>0</td><td>0.06636904</td><td>0</td><td>29.7</td><td>3542562</td><td>1338961</td><td>506079.6</td></tr>\n",
       "</tbody>\n",
       "</table>\n"
      ],
      "text/latex": [
       "A matrix: 1 × 9 of type dbl\n",
       "\\begin{tabular}{r|lllllllll}\n",
       "  & Min. & 1st Qu. & Median & Mean & 3rd Qu. & Max. & NA's & sd & sd\\_err\\_of\\_mean\\\\\n",
       "\\hline\n",
       "\tstdev\\_mapq\\_Match & 0 & 0 & 0 & 0.06636904 & 0 & 29.7 & 3542562 & 1338961 & 506079.6\\\\\n",
       "\\end{tabular}\n"
      ],
      "text/markdown": [
       "\n",
       "A matrix: 1 × 9 of type dbl\n",
       "\n",
       "| <!--/--> | Min. | 1st Qu. | Median | Mean | 3rd Qu. | Max. | NA's | sd | sd_err_of_mean |\n",
       "|---|---|---|---|---|---|---|---|---|---|\n",
       "| stdev_mapq_Match | 0 | 0 | 0 | 0.06636904 | 0 | 29.7 | 3542562 | 1338961 | 506079.6 |\n",
       "\n"
      ],
      "text/plain": [
       "                 Min. 1st Qu. Median Mean       3rd Qu. Max. NA's    sd     \n",
       "stdev_mapq_Match 0    0       0      0.06636904 0       29.7 3542562 1338961\n",
       "                 sd_err_of_mean\n",
       "stdev_mapq_Match 506079.6      "
      ]
     },
     "metadata": {},
     "output_type": "display_data"
    },
    {
     "data": {
      "text/html": [
       "<table class=\"dataframe\">\n",
       "<caption>A matrix: 1 × 9 of type dbl</caption>\n",
       "<thead>\n",
       "\t<tr><th></th><th scope=col>Min.</th><th scope=col>1st Qu.</th><th scope=col>Median</th><th scope=col>Mean</th><th scope=col>3rd Qu.</th><th scope=col>Max.</th><th scope=col>NA's</th><th scope=col>sd</th><th scope=col>sd_err_of_mean</th></tr>\n",
       "</thead>\n",
       "<tbody>\n",
       "\t<tr><th scope=row>stdev_mapq_Match</th><td>0</td><td>0</td><td>0</td><td>0.06485061</td><td>0</td><td>29.7</td><td>3549782</td><td>1341690</td><td>507111</td></tr>\n",
       "</tbody>\n",
       "</table>\n"
      ],
      "text/latex": [
       "A matrix: 1 × 9 of type dbl\n",
       "\\begin{tabular}{r|lllllllll}\n",
       "  & Min. & 1st Qu. & Median & Mean & 3rd Qu. & Max. & NA's & sd & sd\\_err\\_of\\_mean\\\\\n",
       "\\hline\n",
       "\tstdev\\_mapq\\_Match & 0 & 0 & 0 & 0.06485061 & 0 & 29.7 & 3549782 & 1341690 & 507111\\\\\n",
       "\\end{tabular}\n"
      ],
      "text/markdown": [
       "\n",
       "A matrix: 1 × 9 of type dbl\n",
       "\n",
       "| <!--/--> | Min. | 1st Qu. | Median | Mean | 3rd Qu. | Max. | NA's | sd | sd_err_of_mean |\n",
       "|---|---|---|---|---|---|---|---|---|---|\n",
       "| stdev_mapq_Match | 0 | 0 | 0 | 0.06485061 | 0 | 29.7 | 3549782 | 1341690 | 507111 |\n",
       "\n"
      ],
      "text/plain": [
       "                 Min. 1st Qu. Median Mean       3rd Qu. Max. NA's    sd     \n",
       "stdev_mapq_Match 0    0       0      0.06485061 0       29.7 3549782 1341690\n",
       "                 sd_err_of_mean\n",
       "stdev_mapq_Match 507111        "
      ]
     },
     "metadata": {},
     "output_type": "display_data"
    }
   ],
   "source": [
    "summary_x(bam2feat_py$stdev_mapq_Match)\n",
    "summary_x(bam2feat$stdev_mapq_Match)"
   ]
  },
  {
   "cell_type": "code",
   "execution_count": 277,
   "id": "8582d0bb",
   "metadata": {
    "ExecuteTime": {
     "end_time": "2021-07-16T14:02:47.699433Z",
     "start_time": "2021-07-16T13:56:50.934Z"
    }
   },
   "outputs": [
    {
     "data": {
      "text/html": [
       "<table class=\"dataframe\">\n",
       "<caption>A matrix: 1 × 9 of type dbl</caption>\n",
       "<thead>\n",
       "\t<tr><th></th><th scope=col>Min.</th><th scope=col>1st Qu.</th><th scope=col>Median</th><th scope=col>Mean</th><th scope=col>3rd Qu.</th><th scope=col>Max.</th><th scope=col>NA's</th><th scope=col>sd</th><th scope=col>sd_err_of_mean</th></tr>\n",
       "</thead>\n",
       "<tbody>\n",
       "\t<tr><th scope=row>max_mapq_Match</th><td>0</td><td>42</td><td>42</td><td>41.98932</td><td>42</td><td>42</td><td>29472</td><td>11126.15</td><td>4205.29</td></tr>\n",
       "</tbody>\n",
       "</table>\n"
      ],
      "text/latex": [
       "A matrix: 1 × 9 of type dbl\n",
       "\\begin{tabular}{r|lllllllll}\n",
       "  & Min. & 1st Qu. & Median & Mean & 3rd Qu. & Max. & NA's & sd & sd\\_err\\_of\\_mean\\\\\n",
       "\\hline\n",
       "\tmax\\_mapq\\_Match & 0 & 42 & 42 & 41.98932 & 42 & 42 & 29472 & 11126.15 & 4205.29\\\\\n",
       "\\end{tabular}\n"
      ],
      "text/markdown": [
       "\n",
       "A matrix: 1 × 9 of type dbl\n",
       "\n",
       "| <!--/--> | Min. | 1st Qu. | Median | Mean | 3rd Qu. | Max. | NA's | sd | sd_err_of_mean |\n",
       "|---|---|---|---|---|---|---|---|---|---|\n",
       "| max_mapq_Match | 0 | 42 | 42 | 41.98932 | 42 | 42 | 29472 | 11126.15 | 4205.29 |\n",
       "\n"
      ],
      "text/plain": [
       "               Min. 1st Qu. Median Mean     3rd Qu. Max. NA's  sd      \n",
       "max_mapq_Match 0    42      42     41.98932 42      42   29472 11126.15\n",
       "               sd_err_of_mean\n",
       "max_mapq_Match 4205.29       "
      ]
     },
     "metadata": {},
     "output_type": "display_data"
    },
    {
     "data": {
      "text/html": [
       "<table class=\"dataframe\">\n",
       "<caption>A matrix: 1 × 9 of type dbl</caption>\n",
       "<thead>\n",
       "\t<tr><th></th><th scope=col>Min.</th><th scope=col>1st Qu.</th><th scope=col>Median</th><th scope=col>Mean</th><th scope=col>3rd Qu.</th><th scope=col>Max.</th><th scope=col>NA's</th><th scope=col>sd</th><th scope=col>sd_err_of_mean</th></tr>\n",
       "</thead>\n",
       "<tbody>\n",
       "\t<tr><th scope=row>max_mapq_Match</th><td>0</td><td>42</td><td>42</td><td>41.98935</td><td>42</td><td>42</td><td>25948</td><td>9794.207</td><td>3701.862</td></tr>\n",
       "</tbody>\n",
       "</table>\n"
      ],
      "text/latex": [
       "A matrix: 1 × 9 of type dbl\n",
       "\\begin{tabular}{r|lllllllll}\n",
       "  & Min. & 1st Qu. & Median & Mean & 3rd Qu. & Max. & NA's & sd & sd\\_err\\_of\\_mean\\\\\n",
       "\\hline\n",
       "\tmax\\_mapq\\_Match & 0 & 42 & 42 & 41.98935 & 42 & 42 & 25948 & 9794.207 & 3701.862\\\\\n",
       "\\end{tabular}\n"
      ],
      "text/markdown": [
       "\n",
       "A matrix: 1 × 9 of type dbl\n",
       "\n",
       "| <!--/--> | Min. | 1st Qu. | Median | Mean | 3rd Qu. | Max. | NA's | sd | sd_err_of_mean |\n",
       "|---|---|---|---|---|---|---|---|---|---|\n",
       "| max_mapq_Match | 0 | 42 | 42 | 41.98935 | 42 | 42 | 25948 | 9794.207 | 3701.862 |\n",
       "\n"
      ],
      "text/plain": [
       "               Min. 1st Qu. Median Mean     3rd Qu. Max. NA's  sd      \n",
       "max_mapq_Match 0    42      42     41.98935 42      42   25948 9794.207\n",
       "               sd_err_of_mean\n",
       "max_mapq_Match 3701.862      "
      ]
     },
     "metadata": {},
     "output_type": "display_data"
    }
   ],
   "source": [
    "summary_x(bam2feat_py$max_mapq_Match)\n",
    "summary_x(bam2feat$max_mapq_Match)"
   ]
  },
  {
   "cell_type": "code",
   "execution_count": 278,
   "id": "e119bb62",
   "metadata": {
    "ExecuteTime": {
     "end_time": "2021-07-16T14:02:54.066678Z",
     "start_time": "2021-07-16T13:56:51.078Z"
    }
   },
   "outputs": [
    {
     "data": {
      "text/html": [
       "<table class=\"dataframe\">\n",
       "<caption>A matrix: 1 × 8 of type dbl</caption>\n",
       "<thead>\n",
       "\t<tr><th></th><th scope=col>Min.</th><th scope=col>1st Qu.</th><th scope=col>Median</th><th scope=col>Mean</th><th scope=col>3rd Qu.</th><th scope=col>Max.</th><th scope=col>sd</th><th scope=col>sd_err_of_mean</th></tr>\n",
       "</thead>\n",
       "<tbody>\n",
       "\t<tr><th scope=row>num_proper_Match</th><td>0</td><td>5</td><td>12</td><td>21.0269</td><td>42</td><td>456</td><td>180.235</td><td>73.581</td></tr>\n",
       "</tbody>\n",
       "</table>\n"
      ],
      "text/latex": [
       "A matrix: 1 × 8 of type dbl\n",
       "\\begin{tabular}{r|llllllll}\n",
       "  & Min. & 1st Qu. & Median & Mean & 3rd Qu. & Max. & sd & sd\\_err\\_of\\_mean\\\\\n",
       "\\hline\n",
       "\tnum\\_proper\\_Match & 0 & 5 & 12 & 21.0269 & 42 & 456 & 180.235 & 73.581\\\\\n",
       "\\end{tabular}\n"
      ],
      "text/markdown": [
       "\n",
       "A matrix: 1 × 8 of type dbl\n",
       "\n",
       "| <!--/--> | Min. | 1st Qu. | Median | Mean | 3rd Qu. | Max. | sd | sd_err_of_mean |\n",
       "|---|---|---|---|---|---|---|---|---|\n",
       "| num_proper_Match | 0 | 5 | 12 | 21.0269 | 42 | 456 | 180.235 | 73.581 |\n",
       "\n"
      ],
      "text/plain": [
       "                 Min. 1st Qu. Median Mean    3rd Qu. Max. sd     \n",
       "num_proper_Match 0    5       12     21.0269 42      456  180.235\n",
       "                 sd_err_of_mean\n",
       "num_proper_Match 73.581        "
      ]
     },
     "metadata": {},
     "output_type": "display_data"
    },
    {
     "data": {
      "text/html": [
       "<table class=\"dataframe\">\n",
       "<caption>A matrix: 1 × 8 of type dbl</caption>\n",
       "<thead>\n",
       "\t<tr><th></th><th scope=col>Min.</th><th scope=col>1st Qu.</th><th scope=col>Median</th><th scope=col>Mean</th><th scope=col>3rd Qu.</th><th scope=col>Max.</th><th scope=col>sd</th><th scope=col>sd_err_of_mean</th></tr>\n",
       "</thead>\n",
       "<tbody>\n",
       "\t<tr><th scope=row>num_proper_Match</th><td>0</td><td>5</td><td>12</td><td>20.99802</td><td>42</td><td>455</td><td>179.831</td><td>73.416</td></tr>\n",
       "</tbody>\n",
       "</table>\n"
      ],
      "text/latex": [
       "A matrix: 1 × 8 of type dbl\n",
       "\\begin{tabular}{r|llllllll}\n",
       "  & Min. & 1st Qu. & Median & Mean & 3rd Qu. & Max. & sd & sd\\_err\\_of\\_mean\\\\\n",
       "\\hline\n",
       "\tnum\\_proper\\_Match & 0 & 5 & 12 & 20.99802 & 42 & 455 & 179.831 & 73.416\\\\\n",
       "\\end{tabular}\n"
      ],
      "text/markdown": [
       "\n",
       "A matrix: 1 × 8 of type dbl\n",
       "\n",
       "| <!--/--> | Min. | 1st Qu. | Median | Mean | 3rd Qu. | Max. | sd | sd_err_of_mean |\n",
       "|---|---|---|---|---|---|---|---|---|\n",
       "| num_proper_Match | 0 | 5 | 12 | 20.99802 | 42 | 455 | 179.831 | 73.416 |\n",
       "\n"
      ],
      "text/plain": [
       "                 Min. 1st Qu. Median Mean     3rd Qu. Max. sd     \n",
       "num_proper_Match 0    5       12     20.99802 42      455  179.831\n",
       "                 sd_err_of_mean\n",
       "num_proper_Match 73.416        "
      ]
     },
     "metadata": {},
     "output_type": "display_data"
    }
   ],
   "source": [
    "summary_x(bam2feat_py$num_proper_Match)\n",
    "summary_x(bam2feat$num_proper_Match)"
   ]
  },
  {
   "cell_type": "code",
   "execution_count": 279,
   "id": "f1ddc096",
   "metadata": {
    "ExecuteTime": {
     "end_time": "2021-07-16T14:02:59.197998Z",
     "start_time": "2021-07-16T13:56:51.214Z"
    }
   },
   "outputs": [
    {
     "data": {
      "text/html": [
       "<table class=\"dataframe\">\n",
       "<caption>A matrix: 1 × 8 of type dbl</caption>\n",
       "<thead>\n",
       "\t<tr><th></th><th scope=col>Min.</th><th scope=col>1st Qu.</th><th scope=col>Median</th><th scope=col>Mean</th><th scope=col>3rd Qu.</th><th scope=col>Max.</th><th scope=col>sd</th><th scope=col>sd_err_of_mean</th></tr>\n",
       "</thead>\n",
       "<tbody>\n",
       "\t<tr><th scope=row>num_diff_strand_Match</th><td>0</td><td>0</td><td>0</td><td>0</td><td>0</td><td>0</td><td>0</td><td>0</td></tr>\n",
       "</tbody>\n",
       "</table>\n"
      ],
      "text/latex": [
       "A matrix: 1 × 8 of type dbl\n",
       "\\begin{tabular}{r|llllllll}\n",
       "  & Min. & 1st Qu. & Median & Mean & 3rd Qu. & Max. & sd & sd\\_err\\_of\\_mean\\\\\n",
       "\\hline\n",
       "\tnum\\_diff\\_strand\\_Match & 0 & 0 & 0 & 0 & 0 & 0 & 0 & 0\\\\\n",
       "\\end{tabular}\n"
      ],
      "text/markdown": [
       "\n",
       "A matrix: 1 × 8 of type dbl\n",
       "\n",
       "| <!--/--> | Min. | 1st Qu. | Median | Mean | 3rd Qu. | Max. | sd | sd_err_of_mean |\n",
       "|---|---|---|---|---|---|---|---|---|\n",
       "| num_diff_strand_Match | 0 | 0 | 0 | 0 | 0 | 0 | 0 | 0 |\n",
       "\n"
      ],
      "text/plain": [
       "                      Min. 1st Qu. Median Mean 3rd Qu. Max. sd sd_err_of_mean\n",
       "num_diff_strand_Match 0    0       0      0    0       0    0  0             "
      ]
     },
     "metadata": {},
     "output_type": "display_data"
    },
    {
     "data": {
      "text/html": [
       "<table class=\"dataframe\">\n",
       "<caption>A matrix: 1 × 8 of type dbl</caption>\n",
       "<thead>\n",
       "\t<tr><th></th><th scope=col>Min.</th><th scope=col>1st Qu.</th><th scope=col>Median</th><th scope=col>Mean</th><th scope=col>3rd Qu.</th><th scope=col>Max.</th><th scope=col>sd</th><th scope=col>sd_err_of_mean</th></tr>\n",
       "</thead>\n",
       "<tbody>\n",
       "\t<tr><th scope=row>num_diff_strand_Match</th><td>0</td><td>0</td><td>0</td><td>0</td><td>0</td><td>0</td><td>0</td><td>0</td></tr>\n",
       "</tbody>\n",
       "</table>\n"
      ],
      "text/latex": [
       "A matrix: 1 × 8 of type dbl\n",
       "\\begin{tabular}{r|llllllll}\n",
       "  & Min. & 1st Qu. & Median & Mean & 3rd Qu. & Max. & sd & sd\\_err\\_of\\_mean\\\\\n",
       "\\hline\n",
       "\tnum\\_diff\\_strand\\_Match & 0 & 0 & 0 & 0 & 0 & 0 & 0 & 0\\\\\n",
       "\\end{tabular}\n"
      ],
      "text/markdown": [
       "\n",
       "A matrix: 1 × 8 of type dbl\n",
       "\n",
       "| <!--/--> | Min. | 1st Qu. | Median | Mean | 3rd Qu. | Max. | sd | sd_err_of_mean |\n",
       "|---|---|---|---|---|---|---|---|---|\n",
       "| num_diff_strand_Match | 0 | 0 | 0 | 0 | 0 | 0 | 0 | 0 |\n",
       "\n"
      ],
      "text/plain": [
       "                      Min. 1st Qu. Median Mean 3rd Qu. Max. sd sd_err_of_mean\n",
       "num_diff_strand_Match 0    0       0      0    0       0    0  0             "
      ]
     },
     "metadata": {},
     "output_type": "display_data"
    }
   ],
   "source": [
    "summary_x(bam2feat_py$num_diff_strand_Match)\n",
    "summary_x(bam2feat$num_diff_strand_Match)"
   ]
  },
  {
   "cell_type": "code",
   "execution_count": 280,
   "id": "602c3edb",
   "metadata": {
    "ExecuteTime": {
     "end_time": "2021-07-16T14:03:05.581717Z",
     "start_time": "2021-07-16T13:56:51.348Z"
    }
   },
   "outputs": [
    {
     "data": {
      "text/html": [
       "<table class=\"dataframe\">\n",
       "<caption>A matrix: 1 × 8 of type dbl</caption>\n",
       "<thead>\n",
       "\t<tr><th></th><th scope=col>Min.</th><th scope=col>1st Qu.</th><th scope=col>Median</th><th scope=col>Mean</th><th scope=col>3rd Qu.</th><th scope=col>Max.</th><th scope=col>sd</th><th scope=col>sd_err_of_mean</th></tr>\n",
       "</thead>\n",
       "<tbody>\n",
       "\t<tr><th scope=row>num_orphans_Match</th><td>0</td><td>0</td><td>0</td><td>0.01310425</td><td>0</td><td>61</td><td>24.902</td><td>10.166</td></tr>\n",
       "</tbody>\n",
       "</table>\n"
      ],
      "text/latex": [
       "A matrix: 1 × 8 of type dbl\n",
       "\\begin{tabular}{r|llllllll}\n",
       "  & Min. & 1st Qu. & Median & Mean & 3rd Qu. & Max. & sd & sd\\_err\\_of\\_mean\\\\\n",
       "\\hline\n",
       "\tnum\\_orphans\\_Match & 0 & 0 & 0 & 0.01310425 & 0 & 61 & 24.902 & 10.166\\\\\n",
       "\\end{tabular}\n"
      ],
      "text/markdown": [
       "\n",
       "A matrix: 1 × 8 of type dbl\n",
       "\n",
       "| <!--/--> | Min. | 1st Qu. | Median | Mean | 3rd Qu. | Max. | sd | sd_err_of_mean |\n",
       "|---|---|---|---|---|---|---|---|---|\n",
       "| num_orphans_Match | 0 | 0 | 0 | 0.01310425 | 0 | 61 | 24.902 | 10.166 |\n",
       "\n"
      ],
      "text/plain": [
       "                  Min. 1st Qu. Median Mean       3rd Qu. Max. sd    \n",
       "num_orphans_Match 0    0       0      0.01310425 0       61   24.902\n",
       "                  sd_err_of_mean\n",
       "num_orphans_Match 10.166        "
      ]
     },
     "metadata": {},
     "output_type": "display_data"
    },
    {
     "data": {
      "text/html": [
       "<table class=\"dataframe\">\n",
       "<caption>A matrix: 1 × 8 of type dbl</caption>\n",
       "<thead>\n",
       "\t<tr><th></th><th scope=col>Min.</th><th scope=col>1st Qu.</th><th scope=col>Median</th><th scope=col>Mean</th><th scope=col>3rd Qu.</th><th scope=col>Max.</th><th scope=col>sd</th><th scope=col>sd_err_of_mean</th></tr>\n",
       "</thead>\n",
       "<tbody>\n",
       "\t<tr><th scope=row>num_orphans_Match</th><td>0</td><td>0</td><td>0</td><td>0.01286824</td><td>0</td><td>61</td><td>24.902</td><td>10.166</td></tr>\n",
       "</tbody>\n",
       "</table>\n"
      ],
      "text/latex": [
       "A matrix: 1 × 8 of type dbl\n",
       "\\begin{tabular}{r|llllllll}\n",
       "  & Min. & 1st Qu. & Median & Mean & 3rd Qu. & Max. & sd & sd\\_err\\_of\\_mean\\\\\n",
       "\\hline\n",
       "\tnum\\_orphans\\_Match & 0 & 0 & 0 & 0.01286824 & 0 & 61 & 24.902 & 10.166\\\\\n",
       "\\end{tabular}\n"
      ],
      "text/markdown": [
       "\n",
       "A matrix: 1 × 8 of type dbl\n",
       "\n",
       "| <!--/--> | Min. | 1st Qu. | Median | Mean | 3rd Qu. | Max. | sd | sd_err_of_mean |\n",
       "|---|---|---|---|---|---|---|---|---|\n",
       "| num_orphans_Match | 0 | 0 | 0 | 0.01286824 | 0 | 61 | 24.902 | 10.166 |\n",
       "\n"
      ],
      "text/plain": [
       "                  Min. 1st Qu. Median Mean       3rd Qu. Max. sd    \n",
       "num_orphans_Match 0    0       0      0.01286824 0       61   24.902\n",
       "                  sd_err_of_mean\n",
       "num_orphans_Match 10.166        "
      ]
     },
     "metadata": {},
     "output_type": "display_data"
    }
   ],
   "source": [
    "summary_x(bam2feat_py$num_orphans_Match)\n",
    "summary_x(bam2feat$num_orphans_Match)"
   ]
  },
  {
   "cell_type": "code",
   "execution_count": 281,
   "id": "0f7c6439",
   "metadata": {
    "ExecuteTime": {
     "end_time": "2021-07-16T14:03:11.709078Z",
     "start_time": "2021-07-16T13:56:51.485Z"
    }
   },
   "outputs": [
    {
     "data": {
      "text/html": [
       "<table class=\"dataframe\">\n",
       "<caption>A matrix: 1 × 8 of type dbl</caption>\n",
       "<thead>\n",
       "\t<tr><th></th><th scope=col>Min.</th><th scope=col>1st Qu.</th><th scope=col>Median</th><th scope=col>Mean</th><th scope=col>3rd Qu.</th><th scope=col>Max.</th><th scope=col>sd</th><th scope=col>sd_err_of_mean</th></tr>\n",
       "</thead>\n",
       "<tbody>\n",
       "\t<tr><th scope=row>num_supplementary_Match</th><td>0</td><td>0</td><td>0</td><td>0</td><td>0</td><td>0</td><td>0</td><td>0</td></tr>\n",
       "</tbody>\n",
       "</table>\n"
      ],
      "text/latex": [
       "A matrix: 1 × 8 of type dbl\n",
       "\\begin{tabular}{r|llllllll}\n",
       "  & Min. & 1st Qu. & Median & Mean & 3rd Qu. & Max. & sd & sd\\_err\\_of\\_mean\\\\\n",
       "\\hline\n",
       "\tnum\\_supplementary\\_Match & 0 & 0 & 0 & 0 & 0 & 0 & 0 & 0\\\\\n",
       "\\end{tabular}\n"
      ],
      "text/markdown": [
       "\n",
       "A matrix: 1 × 8 of type dbl\n",
       "\n",
       "| <!--/--> | Min. | 1st Qu. | Median | Mean | 3rd Qu. | Max. | sd | sd_err_of_mean |\n",
       "|---|---|---|---|---|---|---|---|---|\n",
       "| num_supplementary_Match | 0 | 0 | 0 | 0 | 0 | 0 | 0 | 0 |\n",
       "\n"
      ],
      "text/plain": [
       "                        Min. 1st Qu. Median Mean 3rd Qu. Max. sd sd_err_of_mean\n",
       "num_supplementary_Match 0    0       0      0    0       0    0  0             "
      ]
     },
     "metadata": {},
     "output_type": "display_data"
    },
    {
     "data": {
      "text/html": [
       "<table class=\"dataframe\">\n",
       "<caption>A matrix: 1 × 8 of type dbl</caption>\n",
       "<thead>\n",
       "\t<tr><th></th><th scope=col>Min.</th><th scope=col>1st Qu.</th><th scope=col>Median</th><th scope=col>Mean</th><th scope=col>3rd Qu.</th><th scope=col>Max.</th><th scope=col>sd</th><th scope=col>sd_err_of_mean</th></tr>\n",
       "</thead>\n",
       "<tbody>\n",
       "\t<tr><th scope=row>num_supplementary_Match</th><td>0</td><td>0</td><td>0</td><td>0</td><td>0</td><td>0</td><td>0</td><td>0</td></tr>\n",
       "</tbody>\n",
       "</table>\n"
      ],
      "text/latex": [
       "A matrix: 1 × 8 of type dbl\n",
       "\\begin{tabular}{r|llllllll}\n",
       "  & Min. & 1st Qu. & Median & Mean & 3rd Qu. & Max. & sd & sd\\_err\\_of\\_mean\\\\\n",
       "\\hline\n",
       "\tnum\\_supplementary\\_Match & 0 & 0 & 0 & 0 & 0 & 0 & 0 & 0\\\\\n",
       "\\end{tabular}\n"
      ],
      "text/markdown": [
       "\n",
       "A matrix: 1 × 8 of type dbl\n",
       "\n",
       "| <!--/--> | Min. | 1st Qu. | Median | Mean | 3rd Qu. | Max. | sd | sd_err_of_mean |\n",
       "|---|---|---|---|---|---|---|---|---|\n",
       "| num_supplementary_Match | 0 | 0 | 0 | 0 | 0 | 0 | 0 | 0 |\n",
       "\n"
      ],
      "text/plain": [
       "                        Min. 1st Qu. Median Mean 3rd Qu. Max. sd sd_err_of_mean\n",
       "num_supplementary_Match 0    0       0      0    0       0    0  0             "
      ]
     },
     "metadata": {},
     "output_type": "display_data"
    }
   ],
   "source": [
    "summary_x(bam2feat_py$num_supplementary_Match)\n",
    "summary_x(bam2feat$num_supplementary_Match)"
   ]
  },
  {
   "cell_type": "code",
   "execution_count": 282,
   "id": "58bc2203",
   "metadata": {
    "ExecuteTime": {
     "end_time": "2021-07-16T14:03:19.257800Z",
     "start_time": "2021-07-16T13:56:51.630Z"
    }
   },
   "outputs": [
    {
     "data": {
      "text/html": [
       "<table class=\"dataframe\">\n",
       "<caption>A matrix: 1 × 8 of type dbl</caption>\n",
       "<thead>\n",
       "\t<tr><th></th><th scope=col>Min.</th><th scope=col>1st Qu.</th><th scope=col>Median</th><th scope=col>Mean</th><th scope=col>3rd Qu.</th><th scope=col>Max.</th><th scope=col>sd</th><th scope=col>sd_err_of_mean</th></tr>\n",
       "</thead>\n",
       "<tbody>\n",
       "\t<tr><th scope=row>num_secondary_Match</th><td>0</td><td>0</td><td>0</td><td>0</td><td>0</td><td>0</td><td>0</td><td>0</td></tr>\n",
       "</tbody>\n",
       "</table>\n"
      ],
      "text/latex": [
       "A matrix: 1 × 8 of type dbl\n",
       "\\begin{tabular}{r|llllllll}\n",
       "  & Min. & 1st Qu. & Median & Mean & 3rd Qu. & Max. & sd & sd\\_err\\_of\\_mean\\\\\n",
       "\\hline\n",
       "\tnum\\_secondary\\_Match & 0 & 0 & 0 & 0 & 0 & 0 & 0 & 0\\\\\n",
       "\\end{tabular}\n"
      ],
      "text/markdown": [
       "\n",
       "A matrix: 1 × 8 of type dbl\n",
       "\n",
       "| <!--/--> | Min. | 1st Qu. | Median | Mean | 3rd Qu. | Max. | sd | sd_err_of_mean |\n",
       "|---|---|---|---|---|---|---|---|---|\n",
       "| num_secondary_Match | 0 | 0 | 0 | 0 | 0 | 0 | 0 | 0 |\n",
       "\n"
      ],
      "text/plain": [
       "                    Min. 1st Qu. Median Mean 3rd Qu. Max. sd sd_err_of_mean\n",
       "num_secondary_Match 0    0       0      0    0       0    0  0             "
      ]
     },
     "metadata": {},
     "output_type": "display_data"
    },
    {
     "data": {
      "text/html": [
       "<table class=\"dataframe\">\n",
       "<caption>A matrix: 1 × 8 of type dbl</caption>\n",
       "<thead>\n",
       "\t<tr><th></th><th scope=col>Min.</th><th scope=col>1st Qu.</th><th scope=col>Median</th><th scope=col>Mean</th><th scope=col>3rd Qu.</th><th scope=col>Max.</th><th scope=col>sd</th><th scope=col>sd_err_of_mean</th></tr>\n",
       "</thead>\n",
       "<tbody>\n",
       "\t<tr><th scope=row>num_secondary_Match</th><td>0</td><td>0</td><td>0</td><td>0</td><td>0</td><td>0</td><td>0</td><td>0</td></tr>\n",
       "</tbody>\n",
       "</table>\n"
      ],
      "text/latex": [
       "A matrix: 1 × 8 of type dbl\n",
       "\\begin{tabular}{r|llllllll}\n",
       "  & Min. & 1st Qu. & Median & Mean & 3rd Qu. & Max. & sd & sd\\_err\\_of\\_mean\\\\\n",
       "\\hline\n",
       "\tnum\\_secondary\\_Match & 0 & 0 & 0 & 0 & 0 & 0 & 0 & 0\\\\\n",
       "\\end{tabular}\n"
      ],
      "text/markdown": [
       "\n",
       "A matrix: 1 × 8 of type dbl\n",
       "\n",
       "| <!--/--> | Min. | 1st Qu. | Median | Mean | 3rd Qu. | Max. | sd | sd_err_of_mean |\n",
       "|---|---|---|---|---|---|---|---|---|\n",
       "| num_secondary_Match | 0 | 0 | 0 | 0 | 0 | 0 | 0 | 0 |\n",
       "\n"
      ],
      "text/plain": [
       "                    Min. 1st Qu. Median Mean 3rd Qu. Max. sd sd_err_of_mean\n",
       "num_secondary_Match 0    0       0      0    0       0    0  0             "
      ]
     },
     "metadata": {},
     "output_type": "display_data"
    }
   ],
   "source": [
    "summary_x(bam2feat_py$num_secondary_Match)\n",
    "summary_x(bam2feat$num_secondary_Match)"
   ]
  },
  {
   "cell_type": "code",
   "execution_count": 283,
   "id": "29fb24fe",
   "metadata": {
    "ExecuteTime": {
     "end_time": "2021-07-16T14:03:24.228466Z",
     "start_time": "2021-07-16T13:56:51.782Z"
    }
   },
   "outputs": [
    {
     "data": {
      "text/html": [
       "<table class=\"dataframe\">\n",
       "<caption>A matrix: 1 × 8 of type dbl</caption>\n",
       "<thead>\n",
       "\t<tr><th></th><th scope=col>Min.</th><th scope=col>1st Qu.</th><th scope=col>Median</th><th scope=col>Mean</th><th scope=col>3rd Qu.</th><th scope=col>Max.</th><th scope=col>sd</th><th scope=col>sd_err_of_mean</th></tr>\n",
       "</thead>\n",
       "<tbody>\n",
       "\t<tr><th scope=row>num_discordant_Match</th><td>0</td><td>0</td><td>0</td><td>0.01239023</td><td>0</td><td>124</td><td>50.622</td><td>20.666</td></tr>\n",
       "</tbody>\n",
       "</table>\n"
      ],
      "text/latex": [
       "A matrix: 1 × 8 of type dbl\n",
       "\\begin{tabular}{r|llllllll}\n",
       "  & Min. & 1st Qu. & Median & Mean & 3rd Qu. & Max. & sd & sd\\_err\\_of\\_mean\\\\\n",
       "\\hline\n",
       "\tnum\\_discordant\\_Match & 0 & 0 & 0 & 0.01239023 & 0 & 124 & 50.622 & 20.666\\\\\n",
       "\\end{tabular}\n"
      ],
      "text/markdown": [
       "\n",
       "A matrix: 1 × 8 of type dbl\n",
       "\n",
       "| <!--/--> | Min. | 1st Qu. | Median | Mean | 3rd Qu. | Max. | sd | sd_err_of_mean |\n",
       "|---|---|---|---|---|---|---|---|---|\n",
       "| num_discordant_Match | 0 | 0 | 0 | 0.01239023 | 0 | 124 | 50.622 | 20.666 |\n",
       "\n"
      ],
      "text/plain": [
       "                     Min. 1st Qu. Median Mean       3rd Qu. Max. sd    \n",
       "num_discordant_Match 0    0       0      0.01239023 0       124  50.622\n",
       "                     sd_err_of_mean\n",
       "num_discordant_Match 20.666        "
      ]
     },
     "metadata": {},
     "output_type": "display_data"
    },
    {
     "data": {
      "text/html": [
       "<table class=\"dataframe\">\n",
       "<caption>A matrix: 1 × 8 of type dbl</caption>\n",
       "<thead>\n",
       "\t<tr><th></th><th scope=col>Min.</th><th scope=col>1st Qu.</th><th scope=col>Median</th><th scope=col>Mean</th><th scope=col>3rd Qu.</th><th scope=col>Max.</th><th scope=col>sd</th><th scope=col>sd_err_of_mean</th></tr>\n",
       "</thead>\n",
       "<tbody>\n",
       "\t<tr><th scope=row>num_discordant_Match</th><td>0</td><td>0</td><td>0</td><td>0.01222759</td><td>0</td><td>124</td><td>50.622</td><td>20.666</td></tr>\n",
       "</tbody>\n",
       "</table>\n"
      ],
      "text/latex": [
       "A matrix: 1 × 8 of type dbl\n",
       "\\begin{tabular}{r|llllllll}\n",
       "  & Min. & 1st Qu. & Median & Mean & 3rd Qu. & Max. & sd & sd\\_err\\_of\\_mean\\\\\n",
       "\\hline\n",
       "\tnum\\_discordant\\_Match & 0 & 0 & 0 & 0.01222759 & 0 & 124 & 50.622 & 20.666\\\\\n",
       "\\end{tabular}\n"
      ],
      "text/markdown": [
       "\n",
       "A matrix: 1 × 8 of type dbl\n",
       "\n",
       "| <!--/--> | Min. | 1st Qu. | Median | Mean | 3rd Qu. | Max. | sd | sd_err_of_mean |\n",
       "|---|---|---|---|---|---|---|---|---|\n",
       "| num_discordant_Match | 0 | 0 | 0 | 0.01222759 | 0 | 124 | 50.622 | 20.666 |\n",
       "\n"
      ],
      "text/plain": [
       "                     Min. 1st Qu. Median Mean       3rd Qu. Max. sd    \n",
       "num_discordant_Match 0    0       0      0.01222759 0       124  50.622\n",
       "                     sd_err_of_mean\n",
       "num_discordant_Match 20.666        "
      ]
     },
     "metadata": {},
     "output_type": "display_data"
    }
   ],
   "source": [
    "summary_x(bam2feat_py$num_discordant_Match)\n",
    "summary_x(bam2feat$num_discordant_Match)"
   ]
  },
  {
   "cell_type": "markdown",
   "id": "10a56e84",
   "metadata": {},
   "source": [
    "### SNP features"
   ]
  },
  {
   "cell_type": "code",
   "execution_count": 284,
   "id": "cb713e33",
   "metadata": {
    "ExecuteTime": {
     "end_time": "2021-07-16T14:03:25.848903Z",
     "start_time": "2021-07-16T13:56:52.062Z"
    }
   },
   "outputs": [
    {
     "data": {
      "text/html": [
       "<table class=\"dataframe\">\n",
       "<caption>A matrix: 1 × 9 of type dbl</caption>\n",
       "<thead>\n",
       "\t<tr><th></th><th scope=col>Min.</th><th scope=col>1st Qu.</th><th scope=col>Median</th><th scope=col>Mean</th><th scope=col>3rd Qu.</th><th scope=col>Max.</th><th scope=col>NA's</th><th scope=col>sd</th><th scope=col>sd_err_of_mean</th></tr>\n",
       "</thead>\n",
       "<tbody>\n",
       "\t<tr><th scope=row>min_insert_size_SNP</th><td>137</td><td>244</td><td>250</td><td>250.1943</td><td>257</td><td>379</td><td>76630936</td><td>28963676</td><td>10947240</td></tr>\n",
       "</tbody>\n",
       "</table>\n"
      ],
      "text/latex": [
       "A matrix: 1 × 9 of type dbl\n",
       "\\begin{tabular}{r|lllllllll}\n",
       "  & Min. & 1st Qu. & Median & Mean & 3rd Qu. & Max. & NA's & sd & sd\\_err\\_of\\_mean\\\\\n",
       "\\hline\n",
       "\tmin\\_insert\\_size\\_SNP & 137 & 244 & 250 & 250.1943 & 257 & 379 & 76630936 & 28963676 & 10947240\\\\\n",
       "\\end{tabular}\n"
      ],
      "text/markdown": [
       "\n",
       "A matrix: 1 × 9 of type dbl\n",
       "\n",
       "| <!--/--> | Min. | 1st Qu. | Median | Mean | 3rd Qu. | Max. | NA's | sd | sd_err_of_mean |\n",
       "|---|---|---|---|---|---|---|---|---|---|\n",
       "| min_insert_size_SNP | 137 | 244 | 250 | 250.1943 | 257 | 379 | 76630936 | 28963676 | 10947240 |\n",
       "\n"
      ],
      "text/plain": [
       "                    Min. 1st Qu. Median Mean     3rd Qu. Max. NA's     sd      \n",
       "min_insert_size_SNP 137  244     250    250.1943 257     379  76630936 28963676\n",
       "                    sd_err_of_mean\n",
       "min_insert_size_SNP 10947240      "
      ]
     },
     "metadata": {},
     "output_type": "display_data"
    },
    {
     "data": {
      "text/html": [
       "<table class=\"dataframe\">\n",
       "<caption>A matrix: 1 × 9 of type dbl</caption>\n",
       "<thead>\n",
       "\t<tr><th></th><th scope=col>Min.</th><th scope=col>1st Qu.</th><th scope=col>Median</th><th scope=col>Mean</th><th scope=col>3rd Qu.</th><th scope=col>Max.</th><th scope=col>NA's</th><th scope=col>sd</th><th scope=col>sd_err_of_mean</th></tr>\n",
       "</thead>\n",
       "<tbody>\n",
       "\t<tr><th scope=row>min_insert_size_SNP</th><td>0</td><td>242</td><td>249</td><td>248.076</td><td>256</td><td>1472</td><td>74432834</td><td>28132811</td><td>10633203</td></tr>\n",
       "</tbody>\n",
       "</table>\n"
      ],
      "text/latex": [
       "A matrix: 1 × 9 of type dbl\n",
       "\\begin{tabular}{r|lllllllll}\n",
       "  & Min. & 1st Qu. & Median & Mean & 3rd Qu. & Max. & NA's & sd & sd\\_err\\_of\\_mean\\\\\n",
       "\\hline\n",
       "\tmin\\_insert\\_size\\_SNP & 0 & 242 & 249 & 248.076 & 256 & 1472 & 74432834 & 28132811 & 10633203\\\\\n",
       "\\end{tabular}\n"
      ],
      "text/markdown": [
       "\n",
       "A matrix: 1 × 9 of type dbl\n",
       "\n",
       "| <!--/--> | Min. | 1st Qu. | Median | Mean | 3rd Qu. | Max. | NA's | sd | sd_err_of_mean |\n",
       "|---|---|---|---|---|---|---|---|---|---|\n",
       "| min_insert_size_SNP | 0 | 242 | 249 | 248.076 | 256 | 1472 | 74432834 | 28132811 | 10633203 |\n",
       "\n"
      ],
      "text/plain": [
       "                    Min. 1st Qu. Median Mean    3rd Qu. Max. NA's     sd      \n",
       "min_insert_size_SNP 0    242     249    248.076 256     1472 74432834 28132811\n",
       "                    sd_err_of_mean\n",
       "min_insert_size_SNP 10633203      "
      ]
     },
     "metadata": {},
     "output_type": "display_data"
    }
   ],
   "source": [
    "summary_x(bam2feat_py$min_insert_size_SNP)\n",
    "summary_x(bam2feat$min_insert_size_SNP)"
   ]
  },
  {
   "cell_type": "code",
   "execution_count": 285,
   "id": "54158915",
   "metadata": {
    "ExecuteTime": {
     "end_time": "2021-07-16T14:03:28.092229Z",
     "start_time": "2021-07-16T13:56:52.206Z"
    }
   },
   "outputs": [
    {
     "data": {
      "text/html": [
       "<table class=\"dataframe\">\n",
       "<caption>A matrix: 1 × 9 of type dbl</caption>\n",
       "<thead>\n",
       "\t<tr><th></th><th scope=col>Min.</th><th scope=col>1st Qu.</th><th scope=col>Median</th><th scope=col>Mean</th><th scope=col>3rd Qu.</th><th scope=col>Max.</th><th scope=col>NA's</th><th scope=col>sd</th><th scope=col>sd_err_of_mean</th></tr>\n",
       "</thead>\n",
       "<tbody>\n",
       "\t<tr><th scope=row>mean_insert_size_SNP</th><td>137</td><td>244</td><td>250</td><td>250.393</td><td>257</td><td>379</td><td>76630936</td><td>28963676</td><td>10947240</td></tr>\n",
       "</tbody>\n",
       "</table>\n"
      ],
      "text/latex": [
       "A matrix: 1 × 9 of type dbl\n",
       "\\begin{tabular}{r|lllllllll}\n",
       "  & Min. & 1st Qu. & Median & Mean & 3rd Qu. & Max. & NA's & sd & sd\\_err\\_of\\_mean\\\\\n",
       "\\hline\n",
       "\tmean\\_insert\\_size\\_SNP & 137 & 244 & 250 & 250.393 & 257 & 379 & 76630936 & 28963676 & 10947240\\\\\n",
       "\\end{tabular}\n"
      ],
      "text/markdown": [
       "\n",
       "A matrix: 1 × 9 of type dbl\n",
       "\n",
       "| <!--/--> | Min. | 1st Qu. | Median | Mean | 3rd Qu. | Max. | NA's | sd | sd_err_of_mean |\n",
       "|---|---|---|---|---|---|---|---|---|---|\n",
       "| mean_insert_size_SNP | 137 | 244 | 250 | 250.393 | 257 | 379 | 76630936 | 28963676 | 10947240 |\n",
       "\n"
      ],
      "text/plain": [
       "                     Min. 1st Qu. Median Mean    3rd Qu. Max. NA's     sd      \n",
       "mean_insert_size_SNP 137  244     250    250.393 257     379  76630936 28963676\n",
       "                     sd_err_of_mean\n",
       "mean_insert_size_SNP 10947240      "
      ]
     },
     "metadata": {},
     "output_type": "display_data"
    },
    {
     "data": {
      "text/html": [
       "<table class=\"dataframe\">\n",
       "<caption>A matrix: 1 × 9 of type dbl</caption>\n",
       "<thead>\n",
       "\t<tr><th></th><th scope=col>Min.</th><th scope=col>1st Qu.</th><th scope=col>Median</th><th scope=col>Mean</th><th scope=col>3rd Qu.</th><th scope=col>Max.</th><th scope=col>NA's</th><th scope=col>sd</th><th scope=col>sd_err_of_mean</th></tr>\n",
       "</thead>\n",
       "<tbody>\n",
       "\t<tr><th scope=row>mean_insert_size_SNP</th><td>0</td><td>243</td><td>249</td><td>248.5082</td><td>256</td><td>1472</td><td>74432834</td><td>28132811</td><td>10633203</td></tr>\n",
       "</tbody>\n",
       "</table>\n"
      ],
      "text/latex": [
       "A matrix: 1 × 9 of type dbl\n",
       "\\begin{tabular}{r|lllllllll}\n",
       "  & Min. & 1st Qu. & Median & Mean & 3rd Qu. & Max. & NA's & sd & sd\\_err\\_of\\_mean\\\\\n",
       "\\hline\n",
       "\tmean\\_insert\\_size\\_SNP & 0 & 243 & 249 & 248.5082 & 256 & 1472 & 74432834 & 28132811 & 10633203\\\\\n",
       "\\end{tabular}\n"
      ],
      "text/markdown": [
       "\n",
       "A matrix: 1 × 9 of type dbl\n",
       "\n",
       "| <!--/--> | Min. | 1st Qu. | Median | Mean | 3rd Qu. | Max. | NA's | sd | sd_err_of_mean |\n",
       "|---|---|---|---|---|---|---|---|---|---|\n",
       "| mean_insert_size_SNP | 0 | 243 | 249 | 248.5082 | 256 | 1472 | 74432834 | 28132811 | 10633203 |\n",
       "\n"
      ],
      "text/plain": [
       "                     Min. 1st Qu. Median Mean     3rd Qu. Max. NA's    \n",
       "mean_insert_size_SNP 0    243     249    248.5082 256     1472 74432834\n",
       "                     sd       sd_err_of_mean\n",
       "mean_insert_size_SNP 28132811 10633203      "
      ]
     },
     "metadata": {},
     "output_type": "display_data"
    }
   ],
   "source": [
    "summary_x(bam2feat_py$mean_insert_size_SNP)\n",
    "summary_x(bam2feat$mean_insert_size_SNP)"
   ]
  },
  {
   "cell_type": "code",
   "execution_count": 286,
   "id": "a77dc83a",
   "metadata": {
    "ExecuteTime": {
     "end_time": "2021-07-16T14:03:29.937933Z",
     "start_time": "2021-07-16T13:56:52.462Z"
    }
   },
   "outputs": [
    {
     "data": {
      "text/html": [
       "<table class=\"dataframe\">\n",
       "<caption>A matrix: 1 × 9 of type dbl</caption>\n",
       "<thead>\n",
       "\t<tr><th></th><th scope=col>Min.</th><th scope=col>1st Qu.</th><th scope=col>Median</th><th scope=col>Mean</th><th scope=col>3rd Qu.</th><th scope=col>Max.</th><th scope=col>NA's</th><th scope=col>sd</th><th scope=col>sd_err_of_mean</th></tr>\n",
       "</thead>\n",
       "<tbody>\n",
       "\t<tr><th scope=row>stdev_insert_size_SNP</th><td>0</td><td>0</td><td>0</td><td>2.270828</td><td>0.7</td><td>98.3</td><td>77421064</td><td>29262405</td><td>11060150</td></tr>\n",
       "</tbody>\n",
       "</table>\n"
      ],
      "text/latex": [
       "A matrix: 1 × 9 of type dbl\n",
       "\\begin{tabular}{r|lllllllll}\n",
       "  & Min. & 1st Qu. & Median & Mean & 3rd Qu. & Max. & NA's & sd & sd\\_err\\_of\\_mean\\\\\n",
       "\\hline\n",
       "\tstdev\\_insert\\_size\\_SNP & 0 & 0 & 0 & 2.270828 & 0.7 & 98.3 & 77421064 & 29262405 & 11060150\\\\\n",
       "\\end{tabular}\n"
      ],
      "text/markdown": [
       "\n",
       "A matrix: 1 × 9 of type dbl\n",
       "\n",
       "| <!--/--> | Min. | 1st Qu. | Median | Mean | 3rd Qu. | Max. | NA's | sd | sd_err_of_mean |\n",
       "|---|---|---|---|---|---|---|---|---|---|\n",
       "| stdev_insert_size_SNP | 0 | 0 | 0 | 2.270828 | 0.7 | 98.3 | 77421064 | 29262405 | 11060150 |\n",
       "\n"
      ],
      "text/plain": [
       "                      Min. 1st Qu. Median Mean     3rd Qu. Max. NA's    \n",
       "stdev_insert_size_SNP 0    0       0      2.270828 0.7     98.3 77421064\n",
       "                      sd       sd_err_of_mean\n",
       "stdev_insert_size_SNP 29262405 11060150      "
      ]
     },
     "metadata": {},
     "output_type": "display_data"
    },
    {
     "data": {
      "text/html": [
       "<table class=\"dataframe\">\n",
       "<caption>A matrix: 1 × 9 of type dbl</caption>\n",
       "<thead>\n",
       "\t<tr><th></th><th scope=col>Min.</th><th scope=col>1st Qu.</th><th scope=col>Median</th><th scope=col>Mean</th><th scope=col>3rd Qu.</th><th scope=col>Max.</th><th scope=col>NA's</th><th scope=col>sd</th><th scope=col>sd_err_of_mean</th></tr>\n",
       "</thead>\n",
       "<tbody>\n",
       "\t<tr><th scope=row>stdev_insert_size_SNP</th><td>0</td><td>2.83</td><td>7.07</td><td>11.61604</td><td>12.02</td><td>853.48</td><td>77368569</td><td>29242515</td><td>11052632</td></tr>\n",
       "</tbody>\n",
       "</table>\n"
      ],
      "text/latex": [
       "A matrix: 1 × 9 of type dbl\n",
       "\\begin{tabular}{r|lllllllll}\n",
       "  & Min. & 1st Qu. & Median & Mean & 3rd Qu. & Max. & NA's & sd & sd\\_err\\_of\\_mean\\\\\n",
       "\\hline\n",
       "\tstdev\\_insert\\_size\\_SNP & 0 & 2.83 & 7.07 & 11.61604 & 12.02 & 853.48 & 77368569 & 29242515 & 11052632\\\\\n",
       "\\end{tabular}\n"
      ],
      "text/markdown": [
       "\n",
       "A matrix: 1 × 9 of type dbl\n",
       "\n",
       "| <!--/--> | Min. | 1st Qu. | Median | Mean | 3rd Qu. | Max. | NA's | sd | sd_err_of_mean |\n",
       "|---|---|---|---|---|---|---|---|---|---|\n",
       "| stdev_insert_size_SNP | 0 | 2.83 | 7.07 | 11.61604 | 12.02 | 853.48 | 77368569 | 29242515 | 11052632 |\n",
       "\n"
      ],
      "text/plain": [
       "                      Min. 1st Qu. Median Mean     3rd Qu. Max.   NA's    \n",
       "stdev_insert_size_SNP 0    2.83    7.07   11.61604 12.02   853.48 77368569\n",
       "                      sd       sd_err_of_mean\n",
       "stdev_insert_size_SNP 29242515 11052632      "
      ]
     },
     "metadata": {},
     "output_type": "display_data"
    }
   ],
   "source": [
    "summary_x(bam2feat_py$stdev_insert_size_SNP)\n",
    "summary_x(bam2feat$stdev_insert_size_SNP)"
   ]
  },
  {
   "cell_type": "code",
   "execution_count": 287,
   "id": "926c1b33",
   "metadata": {
    "ExecuteTime": {
     "end_time": "2021-07-16T14:03:31.833444Z",
     "start_time": "2021-07-16T13:56:52.588Z"
    }
   },
   "outputs": [
    {
     "data": {
      "text/html": [
       "<table class=\"dataframe\">\n",
       "<caption>A matrix: 1 × 9 of type dbl</caption>\n",
       "<thead>\n",
       "\t<tr><th></th><th scope=col>Min.</th><th scope=col>1st Qu.</th><th scope=col>Median</th><th scope=col>Mean</th><th scope=col>3rd Qu.</th><th scope=col>Max.</th><th scope=col>NA's</th><th scope=col>sd</th><th scope=col>sd_err_of_mean</th></tr>\n",
       "</thead>\n",
       "<tbody>\n",
       "\t<tr><th scope=row>max_insert_size_SNP</th><td>137</td><td>244</td><td>251</td><td>250.5992</td><td>257</td><td>379</td><td>76630936</td><td>28963676</td><td>10947240</td></tr>\n",
       "</tbody>\n",
       "</table>\n"
      ],
      "text/latex": [
       "A matrix: 1 × 9 of type dbl\n",
       "\\begin{tabular}{r|lllllllll}\n",
       "  & Min. & 1st Qu. & Median & Mean & 3rd Qu. & Max. & NA's & sd & sd\\_err\\_of\\_mean\\\\\n",
       "\\hline\n",
       "\tmax\\_insert\\_size\\_SNP & 137 & 244 & 251 & 250.5992 & 257 & 379 & 76630936 & 28963676 & 10947240\\\\\n",
       "\\end{tabular}\n"
      ],
      "text/markdown": [
       "\n",
       "A matrix: 1 × 9 of type dbl\n",
       "\n",
       "| <!--/--> | Min. | 1st Qu. | Median | Mean | 3rd Qu. | Max. | NA's | sd | sd_err_of_mean |\n",
       "|---|---|---|---|---|---|---|---|---|---|\n",
       "| max_insert_size_SNP | 137 | 244 | 251 | 250.5992 | 257 | 379 | 76630936 | 28963676 | 10947240 |\n",
       "\n"
      ],
      "text/plain": [
       "                    Min. 1st Qu. Median Mean     3rd Qu. Max. NA's     sd      \n",
       "max_insert_size_SNP 137  244     251    250.5992 257     379  76630936 28963676\n",
       "                    sd_err_of_mean\n",
       "max_insert_size_SNP 10947240      "
      ]
     },
     "metadata": {},
     "output_type": "display_data"
    },
    {
     "data": {
      "text/html": [
       "<table class=\"dataframe\">\n",
       "<caption>A matrix: 1 × 9 of type dbl</caption>\n",
       "<thead>\n",
       "\t<tr><th></th><th scope=col>Min.</th><th scope=col>1st Qu.</th><th scope=col>Median</th><th scope=col>Mean</th><th scope=col>3rd Qu.</th><th scope=col>Max.</th><th scope=col>NA's</th><th scope=col>sd</th><th scope=col>sd_err_of_mean</th></tr>\n",
       "</thead>\n",
       "<tbody>\n",
       "\t<tr><th scope=row>max_insert_size_SNP</th><td>0</td><td>243</td><td>250</td><td>248.9145</td><td>256</td><td>1472</td><td>74432834</td><td>28132811</td><td>10633203</td></tr>\n",
       "</tbody>\n",
       "</table>\n"
      ],
      "text/latex": [
       "A matrix: 1 × 9 of type dbl\n",
       "\\begin{tabular}{r|lllllllll}\n",
       "  & Min. & 1st Qu. & Median & Mean & 3rd Qu. & Max. & NA's & sd & sd\\_err\\_of\\_mean\\\\\n",
       "\\hline\n",
       "\tmax\\_insert\\_size\\_SNP & 0 & 243 & 250 & 248.9145 & 256 & 1472 & 74432834 & 28132811 & 10633203\\\\\n",
       "\\end{tabular}\n"
      ],
      "text/markdown": [
       "\n",
       "A matrix: 1 × 9 of type dbl\n",
       "\n",
       "| <!--/--> | Min. | 1st Qu. | Median | Mean | 3rd Qu. | Max. | NA's | sd | sd_err_of_mean |\n",
       "|---|---|---|---|---|---|---|---|---|---|\n",
       "| max_insert_size_SNP | 0 | 243 | 250 | 248.9145 | 256 | 1472 | 74432834 | 28132811 | 10633203 |\n",
       "\n"
      ],
      "text/plain": [
       "                    Min. 1st Qu. Median Mean     3rd Qu. Max. NA's     sd      \n",
       "max_insert_size_SNP 0    243     250    248.9145 256     1472 74432834 28132811\n",
       "                    sd_err_of_mean\n",
       "max_insert_size_SNP 10633203      "
      ]
     },
     "metadata": {},
     "output_type": "display_data"
    }
   ],
   "source": [
    "summary_x(bam2feat_py$max_insert_size_SNP)\n",
    "summary_x(bam2feat$max_insert_size_SNP)"
   ]
  },
  {
   "cell_type": "code",
   "execution_count": 288,
   "id": "c4c04793",
   "metadata": {
    "ExecuteTime": {
     "end_time": "2021-07-16T14:03:33.432386Z",
     "start_time": "2021-07-16T13:56:52.718Z"
    }
   },
   "outputs": [
    {
     "data": {
      "text/html": [
       "<table class=\"dataframe\">\n",
       "<caption>A matrix: 1 × 9 of type dbl</caption>\n",
       "<thead>\n",
       "\t<tr><th></th><th scope=col>Min.</th><th scope=col>1st Qu.</th><th scope=col>Median</th><th scope=col>Mean</th><th scope=col>3rd Qu.</th><th scope=col>Max.</th><th scope=col>NA's</th><th scope=col>sd</th><th scope=col>sd_err_of_mean</th></tr>\n",
       "</thead>\n",
       "<tbody>\n",
       "\t<tr><th scope=row>min_mapq_SNP</th><td>0</td><td>42</td><td>42</td><td>41.4993</td><td>42</td><td>42</td><td>76630936</td><td>28963758</td><td>10947272</td></tr>\n",
       "</tbody>\n",
       "</table>\n"
      ],
      "text/latex": [
       "A matrix: 1 × 9 of type dbl\n",
       "\\begin{tabular}{r|lllllllll}\n",
       "  & Min. & 1st Qu. & Median & Mean & 3rd Qu. & Max. & NA's & sd & sd\\_err\\_of\\_mean\\\\\n",
       "\\hline\n",
       "\tmin\\_mapq\\_SNP & 0 & 42 & 42 & 41.4993 & 42 & 42 & 76630936 & 28963758 & 10947272\\\\\n",
       "\\end{tabular}\n"
      ],
      "text/markdown": [
       "\n",
       "A matrix: 1 × 9 of type dbl\n",
       "\n",
       "| <!--/--> | Min. | 1st Qu. | Median | Mean | 3rd Qu. | Max. | NA's | sd | sd_err_of_mean |\n",
       "|---|---|---|---|---|---|---|---|---|---|\n",
       "| min_mapq_SNP | 0 | 42 | 42 | 41.4993 | 42 | 42 | 76630936 | 28963758 | 10947272 |\n",
       "\n"
      ],
      "text/plain": [
       "             Min. 1st Qu. Median Mean    3rd Qu. Max. NA's     sd      \n",
       "min_mapq_SNP 0    42      42     41.4993 42      42   76630936 28963758\n",
       "             sd_err_of_mean\n",
       "min_mapq_SNP 10947272      "
      ]
     },
     "metadata": {},
     "output_type": "display_data"
    },
    {
     "data": {
      "text/html": [
       "<table class=\"dataframe\">\n",
       "<caption>A matrix: 1 × 9 of type dbl</caption>\n",
       "<thead>\n",
       "\t<tr><th></th><th scope=col>Min.</th><th scope=col>1st Qu.</th><th scope=col>Median</th><th scope=col>Mean</th><th scope=col>3rd Qu.</th><th scope=col>Max.</th><th scope=col>NA's</th><th scope=col>sd</th><th scope=col>sd_err_of_mean</th></tr>\n",
       "</thead>\n",
       "<tbody>\n",
       "\t<tr><th scope=row>min_mapq_SNP</th><td>0</td><td>42</td><td>42</td><td>41.71447</td><td>42</td><td>42</td><td>74432834</td><td>28132954</td><td>10633257</td></tr>\n",
       "</tbody>\n",
       "</table>\n"
      ],
      "text/latex": [
       "A matrix: 1 × 9 of type dbl\n",
       "\\begin{tabular}{r|lllllllll}\n",
       "  & Min. & 1st Qu. & Median & Mean & 3rd Qu. & Max. & NA's & sd & sd\\_err\\_of\\_mean\\\\\n",
       "\\hline\n",
       "\tmin\\_mapq\\_SNP & 0 & 42 & 42 & 41.71447 & 42 & 42 & 74432834 & 28132954 & 10633257\\\\\n",
       "\\end{tabular}\n"
      ],
      "text/markdown": [
       "\n",
       "A matrix: 1 × 9 of type dbl\n",
       "\n",
       "| <!--/--> | Min. | 1st Qu. | Median | Mean | 3rd Qu. | Max. | NA's | sd | sd_err_of_mean |\n",
       "|---|---|---|---|---|---|---|---|---|---|\n",
       "| min_mapq_SNP | 0 | 42 | 42 | 41.71447 | 42 | 42 | 74432834 | 28132954 | 10633257 |\n",
       "\n"
      ],
      "text/plain": [
       "             Min. 1st Qu. Median Mean     3rd Qu. Max. NA's     sd      \n",
       "min_mapq_SNP 0    42      42     41.71447 42      42   74432834 28132954\n",
       "             sd_err_of_mean\n",
       "min_mapq_SNP 10633257      "
      ]
     },
     "metadata": {},
     "output_type": "display_data"
    }
   ],
   "source": [
    "summary_x(bam2feat_py$min_mapq_SNP)\n",
    "summary_x(bam2feat$min_mapq_SNP)"
   ]
  },
  {
   "cell_type": "code",
   "execution_count": 289,
   "id": "60a01593",
   "metadata": {
    "ExecuteTime": {
     "end_time": "2021-07-16T14:03:35.547468Z",
     "start_time": "2021-07-16T13:56:52.852Z"
    }
   },
   "outputs": [
    {
     "data": {
      "text/html": [
       "<table class=\"dataframe\">\n",
       "<caption>A matrix: 1 × 9 of type dbl</caption>\n",
       "<thead>\n",
       "\t<tr><th></th><th scope=col>Min.</th><th scope=col>1st Qu.</th><th scope=col>Median</th><th scope=col>Mean</th><th scope=col>3rd Qu.</th><th scope=col>Max.</th><th scope=col>NA's</th><th scope=col>sd</th><th scope=col>sd_err_of_mean</th></tr>\n",
       "</thead>\n",
       "<tbody>\n",
       "\t<tr><th scope=row>mean_mapq_SNP</th><td>0</td><td>42</td><td>42</td><td>41.53934</td><td>42</td><td>42</td><td>76630936</td><td>28963758</td><td>10947272</td></tr>\n",
       "</tbody>\n",
       "</table>\n"
      ],
      "text/latex": [
       "A matrix: 1 × 9 of type dbl\n",
       "\\begin{tabular}{r|lllllllll}\n",
       "  & Min. & 1st Qu. & Median & Mean & 3rd Qu. & Max. & NA's & sd & sd\\_err\\_of\\_mean\\\\\n",
       "\\hline\n",
       "\tmean\\_mapq\\_SNP & 0 & 42 & 42 & 41.53934 & 42 & 42 & 76630936 & 28963758 & 10947272\\\\\n",
       "\\end{tabular}\n"
      ],
      "text/markdown": [
       "\n",
       "A matrix: 1 × 9 of type dbl\n",
       "\n",
       "| <!--/--> | Min. | 1st Qu. | Median | Mean | 3rd Qu. | Max. | NA's | sd | sd_err_of_mean |\n",
       "|---|---|---|---|---|---|---|---|---|---|\n",
       "| mean_mapq_SNP | 0 | 42 | 42 | 41.53934 | 42 | 42 | 76630936 | 28963758 | 10947272 |\n",
       "\n"
      ],
      "text/plain": [
       "              Min. 1st Qu. Median Mean     3rd Qu. Max. NA's     sd      \n",
       "mean_mapq_SNP 0    42      42     41.53934 42      42   76630936 28963758\n",
       "              sd_err_of_mean\n",
       "mean_mapq_SNP 10947272      "
      ]
     },
     "metadata": {},
     "output_type": "display_data"
    },
    {
     "data": {
      "text/html": [
       "<table class=\"dataframe\">\n",
       "<caption>A matrix: 1 × 9 of type dbl</caption>\n",
       "<thead>\n",
       "\t<tr><th></th><th scope=col>Min.</th><th scope=col>1st Qu.</th><th scope=col>Median</th><th scope=col>Mean</th><th scope=col>3rd Qu.</th><th scope=col>Max.</th><th scope=col>NA's</th><th scope=col>sd</th><th scope=col>sd_err_of_mean</th></tr>\n",
       "</thead>\n",
       "<tbody>\n",
       "\t<tr><th scope=row>mean_mapq_SNP</th><td>0</td><td>42</td><td>42</td><td>41.73612</td><td>42</td><td>42</td><td>74432834</td><td>28132954</td><td>10633257</td></tr>\n",
       "</tbody>\n",
       "</table>\n"
      ],
      "text/latex": [
       "A matrix: 1 × 9 of type dbl\n",
       "\\begin{tabular}{r|lllllllll}\n",
       "  & Min. & 1st Qu. & Median & Mean & 3rd Qu. & Max. & NA's & sd & sd\\_err\\_of\\_mean\\\\\n",
       "\\hline\n",
       "\tmean\\_mapq\\_SNP & 0 & 42 & 42 & 41.73612 & 42 & 42 & 74432834 & 28132954 & 10633257\\\\\n",
       "\\end{tabular}\n"
      ],
      "text/markdown": [
       "\n",
       "A matrix: 1 × 9 of type dbl\n",
       "\n",
       "| <!--/--> | Min. | 1st Qu. | Median | Mean | 3rd Qu. | Max. | NA's | sd | sd_err_of_mean |\n",
       "|---|---|---|---|---|---|---|---|---|---|\n",
       "| mean_mapq_SNP | 0 | 42 | 42 | 41.73612 | 42 | 42 | 74432834 | 28132954 | 10633257 |\n",
       "\n"
      ],
      "text/plain": [
       "              Min. 1st Qu. Median Mean     3rd Qu. Max. NA's     sd      \n",
       "mean_mapq_SNP 0    42      42     41.73612 42      42   74432834 28132954\n",
       "              sd_err_of_mean\n",
       "mean_mapq_SNP 10633257      "
      ]
     },
     "metadata": {},
     "output_type": "display_data"
    }
   ],
   "source": [
    "summary_x(bam2feat_py$mean_mapq_SNP)\n",
    "summary_x(bam2feat$mean_mapq_SNP)"
   ]
  },
  {
   "cell_type": "code",
   "execution_count": 290,
   "id": "fb7ba8b5",
   "metadata": {
    "ExecuteTime": {
     "end_time": "2021-07-16T14:03:37.255073Z",
     "start_time": "2021-07-16T13:56:53.022Z"
    }
   },
   "outputs": [
    {
     "data": {
      "text/html": [
       "<table class=\"dataframe\">\n",
       "<caption>A matrix: 1 × 9 of type dbl</caption>\n",
       "<thead>\n",
       "\t<tr><th></th><th scope=col>Min.</th><th scope=col>1st Qu.</th><th scope=col>Median</th><th scope=col>Mean</th><th scope=col>3rd Qu.</th><th scope=col>Max.</th><th scope=col>NA's</th><th scope=col>sd</th><th scope=col>sd_err_of_mean</th></tr>\n",
       "</thead>\n",
       "<tbody>\n",
       "\t<tr><th scope=row>stdev_mapq_SNP</th><td>0</td><td>0</td><td>0</td><td>0.434989</td><td>0</td><td>29.7</td><td>77421064</td><td>29262410</td><td>11060151</td></tr>\n",
       "</tbody>\n",
       "</table>\n"
      ],
      "text/latex": [
       "A matrix: 1 × 9 of type dbl\n",
       "\\begin{tabular}{r|lllllllll}\n",
       "  & Min. & 1st Qu. & Median & Mean & 3rd Qu. & Max. & NA's & sd & sd\\_err\\_of\\_mean\\\\\n",
       "\\hline\n",
       "\tstdev\\_mapq\\_SNP & 0 & 0 & 0 & 0.434989 & 0 & 29.7 & 77421064 & 29262410 & 11060151\\\\\n",
       "\\end{tabular}\n"
      ],
      "text/markdown": [
       "\n",
       "A matrix: 1 × 9 of type dbl\n",
       "\n",
       "| <!--/--> | Min. | 1st Qu. | Median | Mean | 3rd Qu. | Max. | NA's | sd | sd_err_of_mean |\n",
       "|---|---|---|---|---|---|---|---|---|---|\n",
       "| stdev_mapq_SNP | 0 | 0 | 0 | 0.434989 | 0 | 29.7 | 77421064 | 29262410 | 11060151 |\n",
       "\n"
      ],
      "text/plain": [
       "               Min. 1st Qu. Median Mean     3rd Qu. Max. NA's     sd      \n",
       "stdev_mapq_SNP 0    0       0      0.434989 0       29.7 77421064 29262410\n",
       "               sd_err_of_mean\n",
       "stdev_mapq_SNP 11060151      "
      ]
     },
     "metadata": {},
     "output_type": "display_data"
    },
    {
     "data": {
      "text/html": [
       "<table class=\"dataframe\">\n",
       "<caption>A matrix: 1 × 9 of type dbl</caption>\n",
       "<thead>\n",
       "\t<tr><th></th><th scope=col>Min.</th><th scope=col>1st Qu.</th><th scope=col>Median</th><th scope=col>Mean</th><th scope=col>3rd Qu.</th><th scope=col>Max.</th><th scope=col>NA's</th><th scope=col>sd</th><th scope=col>sd_err_of_mean</th></tr>\n",
       "</thead>\n",
       "<tbody>\n",
       "\t<tr><th scope=row>stdev_mapq_SNP</th><td>0</td><td>0</td><td>0</td><td>0.5322473</td><td>0</td><td>29.7</td><td>77368569</td><td>29242569</td><td>11052652</td></tr>\n",
       "</tbody>\n",
       "</table>\n"
      ],
      "text/latex": [
       "A matrix: 1 × 9 of type dbl\n",
       "\\begin{tabular}{r|lllllllll}\n",
       "  & Min. & 1st Qu. & Median & Mean & 3rd Qu. & Max. & NA's & sd & sd\\_err\\_of\\_mean\\\\\n",
       "\\hline\n",
       "\tstdev\\_mapq\\_SNP & 0 & 0 & 0 & 0.5322473 & 0 & 29.7 & 77368569 & 29242569 & 11052652\\\\\n",
       "\\end{tabular}\n"
      ],
      "text/markdown": [
       "\n",
       "A matrix: 1 × 9 of type dbl\n",
       "\n",
       "| <!--/--> | Min. | 1st Qu. | Median | Mean | 3rd Qu. | Max. | NA's | sd | sd_err_of_mean |\n",
       "|---|---|---|---|---|---|---|---|---|---|\n",
       "| stdev_mapq_SNP | 0 | 0 | 0 | 0.5322473 | 0 | 29.7 | 77368569 | 29242569 | 11052652 |\n",
       "\n"
      ],
      "text/plain": [
       "               Min. 1st Qu. Median Mean      3rd Qu. Max. NA's     sd      \n",
       "stdev_mapq_SNP 0    0       0      0.5322473 0       29.7 77368569 29242569\n",
       "               sd_err_of_mean\n",
       "stdev_mapq_SNP 11052652      "
      ]
     },
     "metadata": {},
     "output_type": "display_data"
    }
   ],
   "source": [
    "summary_x(bam2feat_py$stdev_mapq_SNP)\n",
    "summary_x(bam2feat$stdev_mapq_SNP)"
   ]
  },
  {
   "cell_type": "code",
   "execution_count": 291,
   "id": "0b103092",
   "metadata": {
    "ExecuteTime": {
     "end_time": "2021-07-16T14:03:39.129544Z",
     "start_time": "2021-07-16T13:56:53.214Z"
    }
   },
   "outputs": [
    {
     "data": {
      "text/html": [
       "<table class=\"dataframe\">\n",
       "<caption>A matrix: 1 × 9 of type dbl</caption>\n",
       "<thead>\n",
       "\t<tr><th></th><th scope=col>Min.</th><th scope=col>1st Qu.</th><th scope=col>Median</th><th scope=col>Mean</th><th scope=col>3rd Qu.</th><th scope=col>Max.</th><th scope=col>NA's</th><th scope=col>sd</th><th scope=col>sd_err_of_mean</th></tr>\n",
       "</thead>\n",
       "<tbody>\n",
       "\t<tr><th scope=row>max_mapq_SNP</th><td>0</td><td>42</td><td>42</td><td>41.58706</td><td>42</td><td>42</td><td>76630936</td><td>28963758</td><td>10947272</td></tr>\n",
       "</tbody>\n",
       "</table>\n"
      ],
      "text/latex": [
       "A matrix: 1 × 9 of type dbl\n",
       "\\begin{tabular}{r|lllllllll}\n",
       "  & Min. & 1st Qu. & Median & Mean & 3rd Qu. & Max. & NA's & sd & sd\\_err\\_of\\_mean\\\\\n",
       "\\hline\n",
       "\tmax\\_mapq\\_SNP & 0 & 42 & 42 & 41.58706 & 42 & 42 & 76630936 & 28963758 & 10947272\\\\\n",
       "\\end{tabular}\n"
      ],
      "text/markdown": [
       "\n",
       "A matrix: 1 × 9 of type dbl\n",
       "\n",
       "| <!--/--> | Min. | 1st Qu. | Median | Mean | 3rd Qu. | Max. | NA's | sd | sd_err_of_mean |\n",
       "|---|---|---|---|---|---|---|---|---|---|\n",
       "| max_mapq_SNP | 0 | 42 | 42 | 41.58706 | 42 | 42 | 76630936 | 28963758 | 10947272 |\n",
       "\n"
      ],
      "text/plain": [
       "             Min. 1st Qu. Median Mean     3rd Qu. Max. NA's     sd      \n",
       "max_mapq_SNP 0    42      42     41.58706 42      42   76630936 28963758\n",
       "             sd_err_of_mean\n",
       "max_mapq_SNP 10947272      "
      ]
     },
     "metadata": {},
     "output_type": "display_data"
    },
    {
     "data": {
      "text/html": [
       "<table class=\"dataframe\">\n",
       "<caption>A matrix: 1 × 9 of type dbl</caption>\n",
       "<thead>\n",
       "\t<tr><th></th><th scope=col>Min.</th><th scope=col>1st Qu.</th><th scope=col>Median</th><th scope=col>Mean</th><th scope=col>3rd Qu.</th><th scope=col>Max.</th><th scope=col>NA's</th><th scope=col>sd</th><th scope=col>sd_err_of_mean</th></tr>\n",
       "</thead>\n",
       "<tbody>\n",
       "\t<tr><th scope=row>max_mapq_SNP</th><td>0</td><td>42</td><td>42</td><td>41.762</td><td>42</td><td>42</td><td>74432834</td><td>28132954</td><td>10633257</td></tr>\n",
       "</tbody>\n",
       "</table>\n"
      ],
      "text/latex": [
       "A matrix: 1 × 9 of type dbl\n",
       "\\begin{tabular}{r|lllllllll}\n",
       "  & Min. & 1st Qu. & Median & Mean & 3rd Qu. & Max. & NA's & sd & sd\\_err\\_of\\_mean\\\\\n",
       "\\hline\n",
       "\tmax\\_mapq\\_SNP & 0 & 42 & 42 & 41.762 & 42 & 42 & 74432834 & 28132954 & 10633257\\\\\n",
       "\\end{tabular}\n"
      ],
      "text/markdown": [
       "\n",
       "A matrix: 1 × 9 of type dbl\n",
       "\n",
       "| <!--/--> | Min. | 1st Qu. | Median | Mean | 3rd Qu. | Max. | NA's | sd | sd_err_of_mean |\n",
       "|---|---|---|---|---|---|---|---|---|---|\n",
       "| max_mapq_SNP | 0 | 42 | 42 | 41.762 | 42 | 42 | 74432834 | 28132954 | 10633257 |\n",
       "\n"
      ],
      "text/plain": [
       "             Min. 1st Qu. Median Mean   3rd Qu. Max. NA's     sd      \n",
       "max_mapq_SNP 0    42      42     41.762 42      42   74432834 28132954\n",
       "             sd_err_of_mean\n",
       "max_mapq_SNP 10633257      "
      ]
     },
     "metadata": {},
     "output_type": "display_data"
    }
   ],
   "source": [
    "summary_x(bam2feat_py$max_mapq_SNP)\n",
    "summary_x(bam2feat$max_mapq_SNP)"
   ]
  },
  {
   "cell_type": "code",
   "execution_count": 292,
   "id": "4f9b21ff",
   "metadata": {
    "ExecuteTime": {
     "end_time": "2021-07-16T14:03:44.247844Z",
     "start_time": "2021-07-16T13:56:53.350Z"
    }
   },
   "outputs": [
    {
     "data": {
      "text/html": [
       "<table class=\"dataframe\">\n",
       "<caption>A matrix: 1 × 8 of type dbl</caption>\n",
       "<thead>\n",
       "\t<tr><th></th><th scope=col>Min.</th><th scope=col>1st Qu.</th><th scope=col>Median</th><th scope=col>Mean</th><th scope=col>3rd Qu.</th><th scope=col>Max.</th><th scope=col>sd</th><th scope=col>sd_err_of_mean</th></tr>\n",
       "</thead>\n",
       "<tbody>\n",
       "\t<tr><th scope=row>num_proper_SNP</th><td>0</td><td>0</td><td>0</td><td>0.01312896</td><td>0</td><td>303</td><td>123.698</td><td>50.5</td></tr>\n",
       "</tbody>\n",
       "</table>\n"
      ],
      "text/latex": [
       "A matrix: 1 × 8 of type dbl\n",
       "\\begin{tabular}{r|llllllll}\n",
       "  & Min. & 1st Qu. & Median & Mean & 3rd Qu. & Max. & sd & sd\\_err\\_of\\_mean\\\\\n",
       "\\hline\n",
       "\tnum\\_proper\\_SNP & 0 & 0 & 0 & 0.01312896 & 0 & 303 & 123.698 & 50.5\\\\\n",
       "\\end{tabular}\n"
      ],
      "text/markdown": [
       "\n",
       "A matrix: 1 × 8 of type dbl\n",
       "\n",
       "| <!--/--> | Min. | 1st Qu. | Median | Mean | 3rd Qu. | Max. | sd | sd_err_of_mean |\n",
       "|---|---|---|---|---|---|---|---|---|\n",
       "| num_proper_SNP | 0 | 0 | 0 | 0.01312896 | 0 | 303 | 123.698 | 50.5 |\n",
       "\n"
      ],
      "text/plain": [
       "               Min. 1st Qu. Median Mean       3rd Qu. Max. sd     \n",
       "num_proper_SNP 0    0       0      0.01312896 0       303  123.698\n",
       "               sd_err_of_mean\n",
       "num_proper_SNP 50.5          "
      ]
     },
     "metadata": {},
     "output_type": "display_data"
    },
    {
     "data": {
      "text/html": [
       "<table class=\"dataframe\">\n",
       "<caption>A matrix: 1 × 8 of type dbl</caption>\n",
       "<thead>\n",
       "\t<tr><th></th><th scope=col>Min.</th><th scope=col>1st Qu.</th><th scope=col>Median</th><th scope=col>Mean</th><th scope=col>3rd Qu.</th><th scope=col>Max.</th><th scope=col>sd</th><th scope=col>sd_err_of_mean</th></tr>\n",
       "</thead>\n",
       "<tbody>\n",
       "\t<tr><th scope=row>num_proper_SNP</th><td>0</td><td>0</td><td>0</td><td>0.04201319</td><td>0</td><td>303</td><td>123.696</td><td>50.499</td></tr>\n",
       "</tbody>\n",
       "</table>\n"
      ],
      "text/latex": [
       "A matrix: 1 × 8 of type dbl\n",
       "\\begin{tabular}{r|llllllll}\n",
       "  & Min. & 1st Qu. & Median & Mean & 3rd Qu. & Max. & sd & sd\\_err\\_of\\_mean\\\\\n",
       "\\hline\n",
       "\tnum\\_proper\\_SNP & 0 & 0 & 0 & 0.04201319 & 0 & 303 & 123.696 & 50.499\\\\\n",
       "\\end{tabular}\n"
      ],
      "text/markdown": [
       "\n",
       "A matrix: 1 × 8 of type dbl\n",
       "\n",
       "| <!--/--> | Min. | 1st Qu. | Median | Mean | 3rd Qu. | Max. | sd | sd_err_of_mean |\n",
       "|---|---|---|---|---|---|---|---|---|\n",
       "| num_proper_SNP | 0 | 0 | 0 | 0.04201319 | 0 | 303 | 123.696 | 50.499 |\n",
       "\n"
      ],
      "text/plain": [
       "               Min. 1st Qu. Median Mean       3rd Qu. Max. sd     \n",
       "num_proper_SNP 0    0       0      0.04201319 0       303  123.696\n",
       "               sd_err_of_mean\n",
       "num_proper_SNP 50.499        "
      ]
     },
     "metadata": {},
     "output_type": "display_data"
    }
   ],
   "source": [
    "summary_x(bam2feat_py$num_proper_SNP)\n",
    "summary_x(bam2feat$num_proper_SNP)"
   ]
  },
  {
   "cell_type": "code",
   "execution_count": 293,
   "id": "3d4909f4",
   "metadata": {
    "ExecuteTime": {
     "end_time": "2021-07-16T14:03:49.222353Z",
     "start_time": "2021-07-16T13:56:53.478Z"
    }
   },
   "outputs": [
    {
     "data": {
      "text/html": [
       "<table class=\"dataframe\">\n",
       "<caption>A matrix: 1 × 8 of type dbl</caption>\n",
       "<thead>\n",
       "\t<tr><th></th><th scope=col>Min.</th><th scope=col>1st Qu.</th><th scope=col>Median</th><th scope=col>Mean</th><th scope=col>3rd Qu.</th><th scope=col>Max.</th><th scope=col>sd</th><th scope=col>sd_err_of_mean</th></tr>\n",
       "</thead>\n",
       "<tbody>\n",
       "\t<tr><th scope=row>num_diff_strand_SNP</th><td>0</td><td>0</td><td>0</td><td>0</td><td>0</td><td>0</td><td>0</td><td>0</td></tr>\n",
       "</tbody>\n",
       "</table>\n"
      ],
      "text/latex": [
       "A matrix: 1 × 8 of type dbl\n",
       "\\begin{tabular}{r|llllllll}\n",
       "  & Min. & 1st Qu. & Median & Mean & 3rd Qu. & Max. & sd & sd\\_err\\_of\\_mean\\\\\n",
       "\\hline\n",
       "\tnum\\_diff\\_strand\\_SNP & 0 & 0 & 0 & 0 & 0 & 0 & 0 & 0\\\\\n",
       "\\end{tabular}\n"
      ],
      "text/markdown": [
       "\n",
       "A matrix: 1 × 8 of type dbl\n",
       "\n",
       "| <!--/--> | Min. | 1st Qu. | Median | Mean | 3rd Qu. | Max. | sd | sd_err_of_mean |\n",
       "|---|---|---|---|---|---|---|---|---|\n",
       "| num_diff_strand_SNP | 0 | 0 | 0 | 0 | 0 | 0 | 0 | 0 |\n",
       "\n"
      ],
      "text/plain": [
       "                    Min. 1st Qu. Median Mean 3rd Qu. Max. sd sd_err_of_mean\n",
       "num_diff_strand_SNP 0    0       0      0    0       0    0  0             "
      ]
     },
     "metadata": {},
     "output_type": "display_data"
    },
    {
     "data": {
      "text/html": [
       "<table class=\"dataframe\">\n",
       "<caption>A matrix: 1 × 8 of type dbl</caption>\n",
       "<thead>\n",
       "\t<tr><th></th><th scope=col>Min.</th><th scope=col>1st Qu.</th><th scope=col>Median</th><th scope=col>Mean</th><th scope=col>3rd Qu.</th><th scope=col>Max.</th><th scope=col>sd</th><th scope=col>sd_err_of_mean</th></tr>\n",
       "</thead>\n",
       "<tbody>\n",
       "\t<tr><th scope=row>num_diff_strand_SNP</th><td>0</td><td>0</td><td>0</td><td>0</td><td>0</td><td>0</td><td>0</td><td>0</td></tr>\n",
       "</tbody>\n",
       "</table>\n"
      ],
      "text/latex": [
       "A matrix: 1 × 8 of type dbl\n",
       "\\begin{tabular}{r|llllllll}\n",
       "  & Min. & 1st Qu. & Median & Mean & 3rd Qu. & Max. & sd & sd\\_err\\_of\\_mean\\\\\n",
       "\\hline\n",
       "\tnum\\_diff\\_strand\\_SNP & 0 & 0 & 0 & 0 & 0 & 0 & 0 & 0\\\\\n",
       "\\end{tabular}\n"
      ],
      "text/markdown": [
       "\n",
       "A matrix: 1 × 8 of type dbl\n",
       "\n",
       "| <!--/--> | Min. | 1st Qu. | Median | Mean | 3rd Qu. | Max. | sd | sd_err_of_mean |\n",
       "|---|---|---|---|---|---|---|---|---|\n",
       "| num_diff_strand_SNP | 0 | 0 | 0 | 0 | 0 | 0 | 0 | 0 |\n",
       "\n"
      ],
      "text/plain": [
       "                    Min. 1st Qu. Median Mean 3rd Qu. Max. sd sd_err_of_mean\n",
       "num_diff_strand_SNP 0    0       0      0    0       0    0  0             "
      ]
     },
     "metadata": {},
     "output_type": "display_data"
    }
   ],
   "source": [
    "summary_x(bam2feat_py$num_diff_strand_SNP)\n",
    "summary_x(bam2feat$num_diff_strand_SNP)"
   ]
  },
  {
   "cell_type": "code",
   "execution_count": 294,
   "id": "a8dc9171",
   "metadata": {
    "ExecuteTime": {
     "end_time": "2021-07-16T14:03:55.369094Z",
     "start_time": "2021-07-16T13:56:53.638Z"
    }
   },
   "outputs": [
    {
     "data": {
      "text/html": [
       "<table class=\"dataframe\">\n",
       "<caption>A matrix: 1 × 8 of type dbl</caption>\n",
       "<thead>\n",
       "\t<tr><th></th><th scope=col>Min.</th><th scope=col>1st Qu.</th><th scope=col>Median</th><th scope=col>Mean</th><th scope=col>3rd Qu.</th><th scope=col>Max.</th><th scope=col>sd</th><th scope=col>sd_err_of_mean</th></tr>\n",
       "</thead>\n",
       "<tbody>\n",
       "\t<tr><th scope=row>num_orphans_SNP</th><td>0</td><td>0</td><td>0</td><td>0</td><td>0</td><td>0</td><td>0</td><td>0</td></tr>\n",
       "</tbody>\n",
       "</table>\n"
      ],
      "text/latex": [
       "A matrix: 1 × 8 of type dbl\n",
       "\\begin{tabular}{r|llllllll}\n",
       "  & Min. & 1st Qu. & Median & Mean & 3rd Qu. & Max. & sd & sd\\_err\\_of\\_mean\\\\\n",
       "\\hline\n",
       "\tnum\\_orphans\\_SNP & 0 & 0 & 0 & 0 & 0 & 0 & 0 & 0\\\\\n",
       "\\end{tabular}\n"
      ],
      "text/markdown": [
       "\n",
       "A matrix: 1 × 8 of type dbl\n",
       "\n",
       "| <!--/--> | Min. | 1st Qu. | Median | Mean | 3rd Qu. | Max. | sd | sd_err_of_mean |\n",
       "|---|---|---|---|---|---|---|---|---|\n",
       "| num_orphans_SNP | 0 | 0 | 0 | 0 | 0 | 0 | 0 | 0 |\n",
       "\n"
      ],
      "text/plain": [
       "                Min. 1st Qu. Median Mean 3rd Qu. Max. sd sd_err_of_mean\n",
       "num_orphans_SNP 0    0       0      0    0       0    0  0             "
      ]
     },
     "metadata": {},
     "output_type": "display_data"
    },
    {
     "data": {
      "text/html": [
       "<table class=\"dataframe\">\n",
       "<caption>A matrix: 1 × 8 of type dbl</caption>\n",
       "<thead>\n",
       "\t<tr><th></th><th scope=col>Min.</th><th scope=col>1st Qu.</th><th scope=col>Median</th><th scope=col>Mean</th><th scope=col>3rd Qu.</th><th scope=col>Max.</th><th scope=col>sd</th><th scope=col>sd_err_of_mean</th></tr>\n",
       "</thead>\n",
       "<tbody>\n",
       "\t<tr><th scope=row>num_orphans_SNP</th><td>0</td><td>0</td><td>0</td><td>0.0002360122</td><td>0</td><td>33</td><td>13.472</td><td>5.5</td></tr>\n",
       "</tbody>\n",
       "</table>\n"
      ],
      "text/latex": [
       "A matrix: 1 × 8 of type dbl\n",
       "\\begin{tabular}{r|llllllll}\n",
       "  & Min. & 1st Qu. & Median & Mean & 3rd Qu. & Max. & sd & sd\\_err\\_of\\_mean\\\\\n",
       "\\hline\n",
       "\tnum\\_orphans\\_SNP & 0 & 0 & 0 & 0.0002360122 & 0 & 33 & 13.472 & 5.5\\\\\n",
       "\\end{tabular}\n"
      ],
      "text/markdown": [
       "\n",
       "A matrix: 1 × 8 of type dbl\n",
       "\n",
       "| <!--/--> | Min. | 1st Qu. | Median | Mean | 3rd Qu. | Max. | sd | sd_err_of_mean |\n",
       "|---|---|---|---|---|---|---|---|---|\n",
       "| num_orphans_SNP | 0 | 0 | 0 | 0.0002360122 | 0 | 33 | 13.472 | 5.5 |\n",
       "\n"
      ],
      "text/plain": [
       "                Min. 1st Qu. Median Mean         3rd Qu. Max. sd    \n",
       "num_orphans_SNP 0    0       0      0.0002360122 0       33   13.472\n",
       "                sd_err_of_mean\n",
       "num_orphans_SNP 5.5           "
      ]
     },
     "metadata": {},
     "output_type": "display_data"
    }
   ],
   "source": [
    "summary_x(bam2feat_py$num_orphans_SNP)\n",
    "summary_x(bam2feat$num_orphans_SNP)"
   ]
  },
  {
   "cell_type": "code",
   "execution_count": 295,
   "id": "d3984bf2",
   "metadata": {
    "ExecuteTime": {
     "end_time": "2021-07-16T14:04:01.514055Z",
     "start_time": "2021-07-16T13:56:53.902Z"
    }
   },
   "outputs": [
    {
     "data": {
      "text/html": [
       "<table class=\"dataframe\">\n",
       "<caption>A matrix: 1 × 8 of type dbl</caption>\n",
       "<thead>\n",
       "\t<tr><th></th><th scope=col>Min.</th><th scope=col>1st Qu.</th><th scope=col>Median</th><th scope=col>Mean</th><th scope=col>3rd Qu.</th><th scope=col>Max.</th><th scope=col>sd</th><th scope=col>sd_err_of_mean</th></tr>\n",
       "</thead>\n",
       "<tbody>\n",
       "\t<tr><th scope=row>num_supplementary_SNP</th><td>0</td><td>0</td><td>0</td><td>0</td><td>0</td><td>0</td><td>0</td><td>0</td></tr>\n",
       "</tbody>\n",
       "</table>\n"
      ],
      "text/latex": [
       "A matrix: 1 × 8 of type dbl\n",
       "\\begin{tabular}{r|llllllll}\n",
       "  & Min. & 1st Qu. & Median & Mean & 3rd Qu. & Max. & sd & sd\\_err\\_of\\_mean\\\\\n",
       "\\hline\n",
       "\tnum\\_supplementary\\_SNP & 0 & 0 & 0 & 0 & 0 & 0 & 0 & 0\\\\\n",
       "\\end{tabular}\n"
      ],
      "text/markdown": [
       "\n",
       "A matrix: 1 × 8 of type dbl\n",
       "\n",
       "| <!--/--> | Min. | 1st Qu. | Median | Mean | 3rd Qu. | Max. | sd | sd_err_of_mean |\n",
       "|---|---|---|---|---|---|---|---|---|\n",
       "| num_supplementary_SNP | 0 | 0 | 0 | 0 | 0 | 0 | 0 | 0 |\n",
       "\n"
      ],
      "text/plain": [
       "                      Min. 1st Qu. Median Mean 3rd Qu. Max. sd sd_err_of_mean\n",
       "num_supplementary_SNP 0    0       0      0    0       0    0  0             "
      ]
     },
     "metadata": {},
     "output_type": "display_data"
    },
    {
     "data": {
      "text/html": [
       "<table class=\"dataframe\">\n",
       "<caption>A matrix: 1 × 8 of type dbl</caption>\n",
       "<thead>\n",
       "\t<tr><th></th><th scope=col>Min.</th><th scope=col>1st Qu.</th><th scope=col>Median</th><th scope=col>Mean</th><th scope=col>3rd Qu.</th><th scope=col>Max.</th><th scope=col>sd</th><th scope=col>sd_err_of_mean</th></tr>\n",
       "</thead>\n",
       "<tbody>\n",
       "\t<tr><th scope=row>num_supplementary_SNP</th><td>0</td><td>0</td><td>0</td><td>0</td><td>0</td><td>0</td><td>0</td><td>0</td></tr>\n",
       "</tbody>\n",
       "</table>\n"
      ],
      "text/latex": [
       "A matrix: 1 × 8 of type dbl\n",
       "\\begin{tabular}{r|llllllll}\n",
       "  & Min. & 1st Qu. & Median & Mean & 3rd Qu. & Max. & sd & sd\\_err\\_of\\_mean\\\\\n",
       "\\hline\n",
       "\tnum\\_supplementary\\_SNP & 0 & 0 & 0 & 0 & 0 & 0 & 0 & 0\\\\\n",
       "\\end{tabular}\n"
      ],
      "text/markdown": [
       "\n",
       "A matrix: 1 × 8 of type dbl\n",
       "\n",
       "| <!--/--> | Min. | 1st Qu. | Median | Mean | 3rd Qu. | Max. | sd | sd_err_of_mean |\n",
       "|---|---|---|---|---|---|---|---|---|\n",
       "| num_supplementary_SNP | 0 | 0 | 0 | 0 | 0 | 0 | 0 | 0 |\n",
       "\n"
      ],
      "text/plain": [
       "                      Min. 1st Qu. Median Mean 3rd Qu. Max. sd sd_err_of_mean\n",
       "num_supplementary_SNP 0    0       0      0    0       0    0  0             "
      ]
     },
     "metadata": {},
     "output_type": "display_data"
    }
   ],
   "source": [
    "summary_x(bam2feat_py$num_supplementary_SNP)\n",
    "summary_x(bam2feat$num_supplementary_SNP)"
   ]
  },
  {
   "cell_type": "code",
   "execution_count": 296,
   "id": "d9a5fac1",
   "metadata": {
    "ExecuteTime": {
     "end_time": "2021-07-16T14:04:07.330165Z",
     "start_time": "2021-07-16T13:56:54.038Z"
    }
   },
   "outputs": [
    {
     "data": {
      "text/html": [
       "<table class=\"dataframe\">\n",
       "<caption>A matrix: 1 × 8 of type dbl</caption>\n",
       "<thead>\n",
       "\t<tr><th></th><th scope=col>Min.</th><th scope=col>1st Qu.</th><th scope=col>Median</th><th scope=col>Mean</th><th scope=col>3rd Qu.</th><th scope=col>Max.</th><th scope=col>sd</th><th scope=col>sd_err_of_mean</th></tr>\n",
       "</thead>\n",
       "<tbody>\n",
       "\t<tr><th scope=row>num_secondary_SNP</th><td>0</td><td>0</td><td>0</td><td>0</td><td>0</td><td>0</td><td>0</td><td>0</td></tr>\n",
       "</tbody>\n",
       "</table>\n"
      ],
      "text/latex": [
       "A matrix: 1 × 8 of type dbl\n",
       "\\begin{tabular}{r|llllllll}\n",
       "  & Min. & 1st Qu. & Median & Mean & 3rd Qu. & Max. & sd & sd\\_err\\_of\\_mean\\\\\n",
       "\\hline\n",
       "\tnum\\_secondary\\_SNP & 0 & 0 & 0 & 0 & 0 & 0 & 0 & 0\\\\\n",
       "\\end{tabular}\n"
      ],
      "text/markdown": [
       "\n",
       "A matrix: 1 × 8 of type dbl\n",
       "\n",
       "| <!--/--> | Min. | 1st Qu. | Median | Mean | 3rd Qu. | Max. | sd | sd_err_of_mean |\n",
       "|---|---|---|---|---|---|---|---|---|\n",
       "| num_secondary_SNP | 0 | 0 | 0 | 0 | 0 | 0 | 0 | 0 |\n",
       "\n"
      ],
      "text/plain": [
       "                  Min. 1st Qu. Median Mean 3rd Qu. Max. sd sd_err_of_mean\n",
       "num_secondary_SNP 0    0       0      0    0       0    0  0             "
      ]
     },
     "metadata": {},
     "output_type": "display_data"
    },
    {
     "data": {
      "text/html": [
       "<table class=\"dataframe\">\n",
       "<caption>A matrix: 1 × 8 of type dbl</caption>\n",
       "<thead>\n",
       "\t<tr><th></th><th scope=col>Min.</th><th scope=col>1st Qu.</th><th scope=col>Median</th><th scope=col>Mean</th><th scope=col>3rd Qu.</th><th scope=col>Max.</th><th scope=col>sd</th><th scope=col>sd_err_of_mean</th></tr>\n",
       "</thead>\n",
       "<tbody>\n",
       "\t<tr><th scope=row>num_secondary_SNP</th><td>0</td><td>0</td><td>0</td><td>0</td><td>0</td><td>0</td><td>0</td><td>0</td></tr>\n",
       "</tbody>\n",
       "</table>\n"
      ],
      "text/latex": [
       "A matrix: 1 × 8 of type dbl\n",
       "\\begin{tabular}{r|llllllll}\n",
       "  & Min. & 1st Qu. & Median & Mean & 3rd Qu. & Max. & sd & sd\\_err\\_of\\_mean\\\\\n",
       "\\hline\n",
       "\tnum\\_secondary\\_SNP & 0 & 0 & 0 & 0 & 0 & 0 & 0 & 0\\\\\n",
       "\\end{tabular}\n"
      ],
      "text/markdown": [
       "\n",
       "A matrix: 1 × 8 of type dbl\n",
       "\n",
       "| <!--/--> | Min. | 1st Qu. | Median | Mean | 3rd Qu. | Max. | sd | sd_err_of_mean |\n",
       "|---|---|---|---|---|---|---|---|---|\n",
       "| num_secondary_SNP | 0 | 0 | 0 | 0 | 0 | 0 | 0 | 0 |\n",
       "\n"
      ],
      "text/plain": [
       "                  Min. 1st Qu. Median Mean 3rd Qu. Max. sd sd_err_of_mean\n",
       "num_secondary_SNP 0    0       0      0    0       0    0  0             "
      ]
     },
     "metadata": {},
     "output_type": "display_data"
    }
   ],
   "source": [
    "summary_x(bam2feat_py$num_secondary_SNP)\n",
    "summary_x(bam2feat$num_secondary_SNP)"
   ]
  },
  {
   "cell_type": "code",
   "execution_count": 297,
   "id": "2ede1ff1",
   "metadata": {
    "ExecuteTime": {
     "end_time": "2021-07-16T14:04:12.597113Z",
     "start_time": "2021-07-16T13:56:54.166Z"
    }
   },
   "outputs": [
    {
     "data": {
      "text/html": [
       "<table class=\"dataframe\">\n",
       "<caption>A matrix: 1 × 8 of type dbl</caption>\n",
       "<thead>\n",
       "\t<tr><th></th><th scope=col>Min.</th><th scope=col>1st Qu.</th><th scope=col>Median</th><th scope=col>Mean</th><th scope=col>3rd Qu.</th><th scope=col>Max.</th><th scope=col>sd</th><th scope=col>sd_err_of_mean</th></tr>\n",
       "</thead>\n",
       "<tbody>\n",
       "\t<tr><th scope=row>num_discordant_SNP</th><td>0</td><td>0</td><td>0</td><td>0</td><td>0</td><td>0</td><td>0</td><td>0</td></tr>\n",
       "</tbody>\n",
       "</table>\n"
      ],
      "text/latex": [
       "A matrix: 1 × 8 of type dbl\n",
       "\\begin{tabular}{r|llllllll}\n",
       "  & Min. & 1st Qu. & Median & Mean & 3rd Qu. & Max. & sd & sd\\_err\\_of\\_mean\\\\\n",
       "\\hline\n",
       "\tnum\\_discordant\\_SNP & 0 & 0 & 0 & 0 & 0 & 0 & 0 & 0\\\\\n",
       "\\end{tabular}\n"
      ],
      "text/markdown": [
       "\n",
       "A matrix: 1 × 8 of type dbl\n",
       "\n",
       "| <!--/--> | Min. | 1st Qu. | Median | Mean | 3rd Qu. | Max. | sd | sd_err_of_mean |\n",
       "|---|---|---|---|---|---|---|---|---|\n",
       "| num_discordant_SNP | 0 | 0 | 0 | 0 | 0 | 0 | 0 | 0 |\n",
       "\n"
      ],
      "text/plain": [
       "                   Min. 1st Qu. Median Mean 3rd Qu. Max. sd sd_err_of_mean\n",
       "num_discordant_SNP 0    0       0      0    0       0    0  0             "
      ]
     },
     "metadata": {},
     "output_type": "display_data"
    },
    {
     "data": {
      "text/html": [
       "<table class=\"dataframe\">\n",
       "<caption>A matrix: 1 × 8 of type dbl</caption>\n",
       "<thead>\n",
       "\t<tr><th></th><th scope=col>Min.</th><th scope=col>1st Qu.</th><th scope=col>Median</th><th scope=col>Mean</th><th scope=col>3rd Qu.</th><th scope=col>Max.</th><th scope=col>sd</th><th scope=col>sd_err_of_mean</th></tr>\n",
       "</thead>\n",
       "<tbody>\n",
       "\t<tr><th scope=row>num_discordant_SNP</th><td>0</td><td>0</td><td>0</td><td>0.0001626358</td><td>0</td><td>52</td><td>21.229</td><td>8.667</td></tr>\n",
       "</tbody>\n",
       "</table>\n"
      ],
      "text/latex": [
       "A matrix: 1 × 8 of type dbl\n",
       "\\begin{tabular}{r|llllllll}\n",
       "  & Min. & 1st Qu. & Median & Mean & 3rd Qu. & Max. & sd & sd\\_err\\_of\\_mean\\\\\n",
       "\\hline\n",
       "\tnum\\_discordant\\_SNP & 0 & 0 & 0 & 0.0001626358 & 0 & 52 & 21.229 & 8.667\\\\\n",
       "\\end{tabular}\n"
      ],
      "text/markdown": [
       "\n",
       "A matrix: 1 × 8 of type dbl\n",
       "\n",
       "| <!--/--> | Min. | 1st Qu. | Median | Mean | 3rd Qu. | Max. | sd | sd_err_of_mean |\n",
       "|---|---|---|---|---|---|---|---|---|\n",
       "| num_discordant_SNP | 0 | 0 | 0 | 0.0001626358 | 0 | 52 | 21.229 | 8.667 |\n",
       "\n"
      ],
      "text/plain": [
       "                   Min. 1st Qu. Median Mean         3rd Qu. Max. sd    \n",
       "num_discordant_SNP 0    0       0      0.0001626358 0       52   21.229\n",
       "                   sd_err_of_mean\n",
       "num_discordant_SNP 8.667         "
      ]
     },
     "metadata": {},
     "output_type": "display_data"
    }
   ],
   "source": [
    "summary_x(bam2feat_py$num_discordant_SNP)\n",
    "summary_x(bam2feat$num_discordant_SNP)"
   ]
  },
  {
   "cell_type": "markdown",
   "id": "fc147b8f",
   "metadata": {},
   "source": [
    "### G+C & entropy"
   ]
  },
  {
   "cell_type": "code",
   "execution_count": 298,
   "id": "804fd186",
   "metadata": {
    "ExecuteTime": {
     "end_time": "2021-07-16T14:04:28.437300Z",
     "start_time": "2021-07-16T13:56:54.422Z"
    }
   },
   "outputs": [
    {
     "data": {
      "text/html": [
       "<table class=\"dataframe\">\n",
       "<caption>A matrix: 1 × 8 of type dbl</caption>\n",
       "<thead>\n",
       "\t<tr><th></th><th scope=col>Min.</th><th scope=col>1st Qu.</th><th scope=col>Median</th><th scope=col>Mean</th><th scope=col>3rd Qu.</th><th scope=col>Max.</th><th scope=col>sd</th><th scope=col>sd_err_of_mean</th></tr>\n",
       "</thead>\n",
       "<tbody>\n",
       "\t<tr><th scope=row>seq_window_entropy</th><td>0</td><td>1.459</td><td>1.459</td><td>1.49393</td><td>1.792</td><td>1.918</td><td>0.691</td><td>0.282</td></tr>\n",
       "</tbody>\n",
       "</table>\n"
      ],
      "text/latex": [
       "A matrix: 1 × 8 of type dbl\n",
       "\\begin{tabular}{r|llllllll}\n",
       "  & Min. & 1st Qu. & Median & Mean & 3rd Qu. & Max. & sd & sd\\_err\\_of\\_mean\\\\\n",
       "\\hline\n",
       "\tseq\\_window\\_entropy & 0 & 1.459 & 1.459 & 1.49393 & 1.792 & 1.918 & 0.691 & 0.282\\\\\n",
       "\\end{tabular}\n"
      ],
      "text/markdown": [
       "\n",
       "A matrix: 1 × 8 of type dbl\n",
       "\n",
       "| <!--/--> | Min. | 1st Qu. | Median | Mean | 3rd Qu. | Max. | sd | sd_err_of_mean |\n",
       "|---|---|---|---|---|---|---|---|---|\n",
       "| seq_window_entropy | 0 | 1.459 | 1.459 | 1.49393 | 1.792 | 1.918 | 0.691 | 0.282 |\n",
       "\n"
      ],
      "text/plain": [
       "                   Min. 1st Qu. Median Mean    3rd Qu. Max.  sd   \n",
       "seq_window_entropy 0    1.459   1.459  1.49393 1.792   1.918 0.691\n",
       "                   sd_err_of_mean\n",
       "seq_window_entropy 0.282         "
      ]
     },
     "metadata": {},
     "output_type": "display_data"
    },
    {
     "data": {
      "text/html": [
       "<table class=\"dataframe\">\n",
       "<caption>A matrix: 1 × 8 of type dbl</caption>\n",
       "<thead>\n",
       "\t<tr><th></th><th scope=col>Min.</th><th scope=col>1st Qu.</th><th scope=col>Median</th><th scope=col>Mean</th><th scope=col>3rd Qu.</th><th scope=col>Max.</th><th scope=col>sd</th><th scope=col>sd_err_of_mean</th></tr>\n",
       "</thead>\n",
       "<tbody>\n",
       "\t<tr><th scope=row>seq_window_entropy</th><td>0</td><td>1.46</td><td>1.46</td><td>1.493876</td><td>1.79</td><td>1.92</td><td>0.691</td><td>0.282</td></tr>\n",
       "</tbody>\n",
       "</table>\n"
      ],
      "text/latex": [
       "A matrix: 1 × 8 of type dbl\n",
       "\\begin{tabular}{r|llllllll}\n",
       "  & Min. & 1st Qu. & Median & Mean & 3rd Qu. & Max. & sd & sd\\_err\\_of\\_mean\\\\\n",
       "\\hline\n",
       "\tseq\\_window\\_entropy & 0 & 1.46 & 1.46 & 1.493876 & 1.79 & 1.92 & 0.691 & 0.282\\\\\n",
       "\\end{tabular}\n"
      ],
      "text/markdown": [
       "\n",
       "A matrix: 1 × 8 of type dbl\n",
       "\n",
       "| <!--/--> | Min. | 1st Qu. | Median | Mean | 3rd Qu. | Max. | sd | sd_err_of_mean |\n",
       "|---|---|---|---|---|---|---|---|---|\n",
       "| seq_window_entropy | 0 | 1.46 | 1.46 | 1.493876 | 1.79 | 1.92 | 0.691 | 0.282 |\n",
       "\n"
      ],
      "text/plain": [
       "                   Min. 1st Qu. Median Mean     3rd Qu. Max. sd   \n",
       "seq_window_entropy 0    1.46    1.46   1.493876 1.79    1.92 0.691\n",
       "                   sd_err_of_mean\n",
       "seq_window_entropy 0.282         "
      ]
     },
     "metadata": {},
     "output_type": "display_data"
    }
   ],
   "source": [
    "summary_x(bam2feat_py$seq_window_entropy)\n",
    "summary_x(bam2feat$seq_window_entropy)"
   ]
  },
  {
   "cell_type": "code",
   "execution_count": 299,
   "id": "4a2e88d5",
   "metadata": {
    "ExecuteTime": {
     "end_time": "2021-07-16T14:04:45.855243Z",
     "start_time": "2021-07-16T13:56:54.774Z"
    }
   },
   "outputs": [
    {
     "data": {
      "text/html": [
       "<table class=\"dataframe\">\n",
       "<caption>A matrix: 1 × 8 of type dbl</caption>\n",
       "<thead>\n",
       "\t<tr><th></th><th scope=col>Min.</th><th scope=col>1st Qu.</th><th scope=col>Median</th><th scope=col>Mean</th><th scope=col>3rd Qu.</th><th scope=col>Max.</th><th scope=col>sd</th><th scope=col>sd_err_of_mean</th></tr>\n",
       "</thead>\n",
       "<tbody>\n",
       "\t<tr><th scope=row>seq_window_perc_gc</th><td>0</td><td>0.5</td><td>0.667</td><td>0.598098</td><td>0.833</td><td>1</td><td>0.343</td><td>0.14</td></tr>\n",
       "</tbody>\n",
       "</table>\n"
      ],
      "text/latex": [
       "A matrix: 1 × 8 of type dbl\n",
       "\\begin{tabular}{r|llllllll}\n",
       "  & Min. & 1st Qu. & Median & Mean & 3rd Qu. & Max. & sd & sd\\_err\\_of\\_mean\\\\\n",
       "\\hline\n",
       "\tseq\\_window\\_perc\\_gc & 0 & 0.5 & 0.667 & 0.598098 & 0.833 & 1 & 0.343 & 0.14\\\\\n",
       "\\end{tabular}\n"
      ],
      "text/markdown": [
       "\n",
       "A matrix: 1 × 8 of type dbl\n",
       "\n",
       "| <!--/--> | Min. | 1st Qu. | Median | Mean | 3rd Qu. | Max. | sd | sd_err_of_mean |\n",
       "|---|---|---|---|---|---|---|---|---|\n",
       "| seq_window_perc_gc | 0 | 0.5 | 0.667 | 0.598098 | 0.833 | 1 | 0.343 | 0.14 |\n",
       "\n"
      ],
      "text/plain": [
       "                   Min. 1st Qu. Median Mean     3rd Qu. Max. sd   \n",
       "seq_window_perc_gc 0    0.5     0.667  0.598098 0.833   1    0.343\n",
       "                   sd_err_of_mean\n",
       "seq_window_perc_gc 0.14          "
      ]
     },
     "metadata": {},
     "output_type": "display_data"
    },
    {
     "data": {
      "text/html": [
       "<table class=\"dataframe\">\n",
       "<caption>A matrix: 1 × 8 of type dbl</caption>\n",
       "<thead>\n",
       "\t<tr><th></th><th scope=col>Min.</th><th scope=col>1st Qu.</th><th scope=col>Median</th><th scope=col>Mean</th><th scope=col>3rd Qu.</th><th scope=col>Max.</th><th scope=col>sd</th><th scope=col>sd_err_of_mean</th></tr>\n",
       "</thead>\n",
       "<tbody>\n",
       "\t<tr><th scope=row>seq_window_perc_gc</th><td>0</td><td>0.5</td><td>0.667</td><td>0.598098</td><td>0.833</td><td>1</td><td>0.343</td><td>0.14</td></tr>\n",
       "</tbody>\n",
       "</table>\n"
      ],
      "text/latex": [
       "A matrix: 1 × 8 of type dbl\n",
       "\\begin{tabular}{r|llllllll}\n",
       "  & Min. & 1st Qu. & Median & Mean & 3rd Qu. & Max. & sd & sd\\_err\\_of\\_mean\\\\\n",
       "\\hline\n",
       "\tseq\\_window\\_perc\\_gc & 0 & 0.5 & 0.667 & 0.598098 & 0.833 & 1 & 0.343 & 0.14\\\\\n",
       "\\end{tabular}\n"
      ],
      "text/markdown": [
       "\n",
       "A matrix: 1 × 8 of type dbl\n",
       "\n",
       "| <!--/--> | Min. | 1st Qu. | Median | Mean | 3rd Qu. | Max. | sd | sd_err_of_mean |\n",
       "|---|---|---|---|---|---|---|---|---|\n",
       "| seq_window_perc_gc | 0 | 0.5 | 0.667 | 0.598098 | 0.833 | 1 | 0.343 | 0.14 |\n",
       "\n"
      ],
      "text/plain": [
       "                   Min. 1st Qu. Median Mean     3rd Qu. Max. sd   \n",
       "seq_window_perc_gc 0    0.5     0.667  0.598098 0.833   1    0.343\n",
       "                   sd_err_of_mean\n",
       "seq_window_perc_gc 0.14          "
      ]
     },
     "metadata": {},
     "output_type": "display_data"
    }
   ],
   "source": [
    "summary_x(bam2feat_py$seq_window_perc_gc)\n",
    "summary_x(bam2feat$seq_window_perc_gc)"
   ]
  },
  {
   "cell_type": "markdown",
   "id": "053fe0a9",
   "metadata": {},
   "source": [
    "# sessionInfo"
   ]
  },
  {
   "cell_type": "code",
   "execution_count": 300,
   "id": "f86e1d77",
   "metadata": {
    "ExecuteTime": {
     "end_time": "2021-07-16T14:04:47.425576Z",
     "start_time": "2021-07-16T13:56:55.021Z"
    }
   },
   "outputs": [
    {
     "data": {
      "text/plain": [
       "R version 4.1.0 (2021-05-18)\n",
       "Platform: x86_64-conda-linux-gnu (64-bit)\n",
       "Running under: Ubuntu 18.04.5 LTS\n",
       "\n",
       "Matrix products: default\n",
       "BLAS/LAPACK: /ebio/abt3_projects/Anxiety_Twins_Metagenomes/envs/tidyverse2/lib/libopenblasp-r0.3.12.so\n",
       "\n",
       "locale:\n",
       " [1] LC_CTYPE=en_US.UTF-8       LC_NUMERIC=C              \n",
       " [3] LC_TIME=en_US.UTF-8        LC_COLLATE=en_US.UTF-8    \n",
       " [5] LC_MONETARY=en_US.UTF-8    LC_MESSAGES=en_US.UTF-8   \n",
       " [7] LC_PAPER=en_US.UTF-8       LC_NAME=C                 \n",
       " [9] LC_ADDRESS=C               LC_TELEPHONE=C            \n",
       "[11] LC_MEASUREMENT=en_US.UTF-8 LC_IDENTIFICATION=C       \n",
       "\n",
       "attached base packages:\n",
       "[1] stats     graphics  grDevices utils     datasets  methods   base     \n",
       "\n",
       "other attached packages:\n",
       "[1] LeyLabRMisc_0.1.9 tidytable_0.6.3   data.table_1.14.0 ggplot2_3.3.5    \n",
       "[5] tidyr_1.1.3       dplyr_1.0.7      \n",
       "\n",
       "loaded via a namespace (and not attached):\n",
       " [1] Rcpp_1.0.7        plyr_1.8.6        pillar_1.6.1      compiler_4.1.0   \n",
       " [5] iterators_1.0.13  R.methodsS3_1.8.1 R.utils_2.10.1    base64enc_0.1-3  \n",
       " [9] tools_4.1.0       digest_0.6.27     uuid_0.1-4        jsonlite_1.7.2   \n",
       "[13] evaluate_0.14     lifecycle_1.0.0   tibble_3.1.2      gtable_0.3.0     \n",
       "[17] pkgconfig_2.0.3   rlang_0.4.11      foreach_1.5.1     IRdisplay_1.0    \n",
       "[21] cli_3.0.0         parallel_4.1.0    IRkernel_1.2      repr_1.1.3       \n",
       "[25] withr_2.4.2       generics_0.1.0    vctrs_0.3.8       grid_4.1.0       \n",
       "[29] tidyselect_1.1.1  glue_1.4.2        R6_2.5.0          fansi_0.4.2      \n",
       "[33] pbdZMQ_0.3-5      purrr_0.3.4       magrittr_2.0.1    codetools_0.2-18 \n",
       "[37] scales_1.1.1      ellipsis_0.3.2    htmltools_0.5.1.1 colorspace_2.0-2 \n",
       "[41] utf8_1.2.1        doParallel_1.0.16 munsell_0.5.0     crayon_1.4.1     \n",
       "[45] R.oo_1.24.0      "
      ]
     },
     "metadata": {},
     "output_type": "display_data"
    }
   ],
   "source": [
    "sessionInfo()"
   ]
  }
 ],
 "metadata": {
  "kernelspec": {
   "display_name": "R [conda env:Anxiety_Twins_Metagenomes-tidyverse2]",
   "language": "R",
   "name": "conda-env-Anxiety_Twins_Metagenomes-tidyverse2-r"
  },
  "language_info": {
   "codemirror_mode": "r",
   "file_extension": ".r",
   "mimetype": "text/x-r-source",
   "name": "R",
   "pygments_lexer": "r",
   "version": "4.1.0"
  },
  "notify_time": "30",
  "toc": {
   "base_numbering": 1,
   "nav_menu": {},
   "number_sections": true,
   "sideBar": true,
   "skip_h1_title": false,
   "title_cell": "Table of Contents",
   "title_sidebar": "Contents",
   "toc_cell": true,
   "toc_position": {},
   "toc_section_display": true,
   "toc_window_display": true
  }
 },
 "nbformat": 4,
 "nbformat_minor": 5
}
