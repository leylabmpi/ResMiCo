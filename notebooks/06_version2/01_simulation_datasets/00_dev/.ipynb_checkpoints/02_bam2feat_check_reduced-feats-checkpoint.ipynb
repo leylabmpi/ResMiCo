{
 "cells": [
  {
   "cell_type": "markdown",
   "id": "dc124ee4",
   "metadata": {
    "toc": true
   },
   "source": [
    "<h1>Table of Contents<span class=\"tocSkip\"></span></h1>\n",
    "<div class=\"toc\"><ul class=\"toc-item\"><li><span><a href=\"#Goal\" data-toc-modified-id=\"Goal-1\"><span class=\"toc-item-num\">1&nbsp;&nbsp;</span>Goal</a></span></li><li><span><a href=\"#Var\" data-toc-modified-id=\"Var-2\"><span class=\"toc-item-num\">2&nbsp;&nbsp;</span>Var</a></span></li><li><span><a href=\"#Init\" data-toc-modified-id=\"Init-3\"><span class=\"toc-item-num\">3&nbsp;&nbsp;</span>Init</a></span></li><li><span><a href=\"#Load\" data-toc-modified-id=\"Load-4\"><span class=\"toc-item-num\">4&nbsp;&nbsp;</span>Load</a></span><ul class=\"toc-item\"><li><span><a href=\"#bam2feat_all\" data-toc-modified-id=\"bam2feat_all-4.1\"><span class=\"toc-item-num\">4.1&nbsp;&nbsp;</span>bam2feat_all</a></span></li><li><span><a href=\"#bam2feat_red\" data-toc-modified-id=\"bam2feat_red-4.2\"><span class=\"toc-item-num\">4.2&nbsp;&nbsp;</span>bam2feat_red</a></span></li></ul></li><li><span><a href=\"#Compare\" data-toc-modified-id=\"Compare-5\"><span class=\"toc-item-num\">5&nbsp;&nbsp;</span>Compare</a></span><ul class=\"toc-item\"><li><span><a href=\"#Check-that-dataset-matches\" data-toc-modified-id=\"Check-that-dataset-matches-5.1\"><span class=\"toc-item-num\">5.1&nbsp;&nbsp;</span>Check that dataset matches</a></span></li><li><span><a href=\"#Features\" data-toc-modified-id=\"Features-5.2\"><span class=\"toc-item-num\">5.2&nbsp;&nbsp;</span>Features</a></span><ul class=\"toc-item\"><li><span><a href=\"#ref-bases\" data-toc-modified-id=\"ref-bases-5.2.1\"><span class=\"toc-item-num\">5.2.1&nbsp;&nbsp;</span>ref bases</a></span></li><li><span><a href=\"#coverage/SNPs\" data-toc-modified-id=\"coverage/SNPs-5.2.2\"><span class=\"toc-item-num\">5.2.2&nbsp;&nbsp;</span>coverage/SNPs</a></span></li><li><span><a href=\"#Match-features\" data-toc-modified-id=\"Match-features-5.2.3\"><span class=\"toc-item-num\">5.2.3&nbsp;&nbsp;</span>Match features</a></span></li><li><span><a href=\"#SNP-features\" data-toc-modified-id=\"SNP-features-5.2.4\"><span class=\"toc-item-num\">5.2.4&nbsp;&nbsp;</span>SNP features</a></span></li><li><span><a href=\"#G+C-&amp;-entropy\" data-toc-modified-id=\"G+C-&amp;-entropy-5.2.5\"><span class=\"toc-item-num\">5.2.5&nbsp;&nbsp;</span>G+C &amp; entropy</a></span></li></ul></li></ul></li><li><span><a href=\"#sessionInfo\" data-toc-modified-id=\"sessionInfo-6\"><span class=\"toc-item-num\">6&nbsp;&nbsp;</span>sessionInfo</a></span></li></ul></div>"
   ]
  },
  {
   "cell_type": "markdown",
   "id": "20a3532c",
   "metadata": {},
   "source": [
    "# Goal\n",
    "\n",
    "* Check that `bam2feat` with reduced features generates the same output as the old `bam2feat`"
   ]
  },
  {
   "cell_type": "markdown",
   "id": "9b01df33",
   "metadata": {},
   "source": [
    "# Var"
   ]
  },
  {
   "cell_type": "code",
   "execution_count": 9,
   "id": "87274221",
   "metadata": {
    "ExecuteTime": {
     "end_time": "2021-07-23T07:11:54.362456Z",
     "start_time": "2021-07-23T07:11:54.335Z"
    }
   },
   "outputs": [],
   "source": [
    "work_dir = '/ebio/abt3_projects/DeepMAsED/version2/deepmased/ResMiCo-SM/tests/output_n10/'\n",
    "\n",
    "threads = 4"
   ]
  },
  {
   "cell_type": "markdown",
   "id": "8642a469",
   "metadata": {},
   "source": [
    "# Init"
   ]
  },
  {
   "cell_type": "code",
   "execution_count": 10,
   "id": "1ddd9fb4",
   "metadata": {
    "ExecuteTime": {
     "end_time": "2021-07-23T07:11:54.673214Z",
     "start_time": "2021-07-23T07:11:54.639Z"
    }
   },
   "outputs": [],
   "source": [
    "library(dplyr)\n",
    "library(tidyr)\n",
    "library(ggplot2)\n",
    "library(data.table)\n",
    "library(tidytable)\n",
    "library(LeyLabRMisc)"
   ]
  },
  {
   "cell_type": "code",
   "execution_count": 11,
   "id": "916f4430",
   "metadata": {
    "ExecuteTime": {
     "end_time": "2021-07-23T07:11:54.775286Z",
     "start_time": "2021-07-23T07:11:54.740Z"
    }
   },
   "outputs": [],
   "source": [
    "df.dims()\n",
    "setDTthreads(threads)"
   ]
  },
  {
   "cell_type": "markdown",
   "id": "1da83f34",
   "metadata": {},
   "source": [
    "# Load"
   ]
  },
  {
   "cell_type": "markdown",
   "id": "880d16bf",
   "metadata": {},
   "source": [
    "## bam2feat_all"
   ]
  },
  {
   "cell_type": "code",
   "execution_count": 12,
   "id": "e512cb00",
   "metadata": {
    "ExecuteTime": {
     "end_time": "2021-07-23T07:11:55.201834Z",
     "start_time": "2021-07-23T07:11:55.146Z"
    }
   },
   "outputs": [
    {
     "data": {
      "text/html": [
       "<table class=\"dataframe\">\n",
       "<caption>A data.table: 12 × 8</caption>\n",
       "<thead>\n",
       "\t<tr><th scope=col>richness</th><th scope=col>abundance_distribution</th><th scope=col>rep</th><th scope=col>read_length</th><th scope=col>read_depth</th><th scope=col>assembler</th><th scope=col>feature_file</th><th scope=col>MGSIM_reads_params</th></tr>\n",
       "\t<tr><th scope=col>&lt;dbl&gt;</th><th scope=col>&lt;chr&gt;</th><th scope=col>&lt;int&gt;</th><th scope=col>&lt;int&gt;</th><th scope=col>&lt;int&gt;</th><th scope=col>&lt;chr&gt;</th><th scope=col>&lt;chr&gt;</th><th scope=col>&lt;chr&gt;</th></tr>\n",
       "</thead>\n",
       "<tbody>\n",
       "\t<tr><td>0.8</td><td>mean-10-sigma-2</td><td>1</td><td>100</td><td>1000000</td><td>metaspades</td><td>0.8/mean-10-sigma-2/1/100/1000000/metaspades/features.tsv.gz</td><td>--art-paired --art-mflen 270 --art-sdev 50 --rndSeed 8712</td></tr>\n",
       "\t<tr><td>0.8</td><td>mean-10-sigma-2</td><td>1</td><td>100</td><td>1000000</td><td>megahit   </td><td>0.8/mean-10-sigma-2/1/100/1000000/megahit/features.tsv.gz   </td><td>--art-paired --art-mflen 270 --art-sdev 50 --rndSeed 8712</td></tr>\n",
       "\t<tr><td>⋮</td><td>⋮</td><td>⋮</td><td>⋮</td><td>⋮</td><td>⋮</td><td>⋮</td><td>⋮</td></tr>\n",
       "\t<tr><td>0.8</td><td>mean-10-sigma-2</td><td>3</td><td>150</td><td>1000000</td><td>metaspades</td><td>0.8/mean-10-sigma-2/3/150/1000000/metaspades/features.tsv.gz</td><td>--art-paired --art-mflen 270 --art-sdev 50 --rndSeed 8712</td></tr>\n",
       "\t<tr><td>0.8</td><td>mean-10-sigma-2</td><td>3</td><td>150</td><td>1000000</td><td>megahit   </td><td>0.8/mean-10-sigma-2/3/150/1000000/megahit/features.tsv.gz   </td><td>--art-paired --art-mflen 270 --art-sdev 50 --rndSeed 8712</td></tr>\n",
       "</tbody>\n",
       "</table>\n"
      ],
      "text/latex": [
       "A data.table: 12 × 8\n",
       "\\begin{tabular}{llllllll}\n",
       " richness & abundance\\_distribution & rep & read\\_length & read\\_depth & assembler & feature\\_file & MGSIM\\_reads\\_params\\\\\n",
       " <dbl> & <chr> & <int> & <int> & <int> & <chr> & <chr> & <chr>\\\\\n",
       "\\hline\n",
       "\t 0.8 & mean-10-sigma-2 & 1 & 100 & 1000000 & metaspades & 0.8/mean-10-sigma-2/1/100/1000000/metaspades/features.tsv.gz & --art-paired --art-mflen 270 --art-sdev 50 --rndSeed 8712\\\\\n",
       "\t 0.8 & mean-10-sigma-2 & 1 & 100 & 1000000 & megahit    & 0.8/mean-10-sigma-2/1/100/1000000/megahit/features.tsv.gz    & --art-paired --art-mflen 270 --art-sdev 50 --rndSeed 8712\\\\\n",
       "\t ⋮ & ⋮ & ⋮ & ⋮ & ⋮ & ⋮ & ⋮ & ⋮\\\\\n",
       "\t 0.8 & mean-10-sigma-2 & 3 & 150 & 1000000 & metaspades & 0.8/mean-10-sigma-2/3/150/1000000/metaspades/features.tsv.gz & --art-paired --art-mflen 270 --art-sdev 50 --rndSeed 8712\\\\\n",
       "\t 0.8 & mean-10-sigma-2 & 3 & 150 & 1000000 & megahit    & 0.8/mean-10-sigma-2/3/150/1000000/megahit/features.tsv.gz    & --art-paired --art-mflen 270 --art-sdev 50 --rndSeed 8712\\\\\n",
       "\\end{tabular}\n"
      ],
      "text/markdown": [
       "\n",
       "A data.table: 12 × 8\n",
       "\n",
       "| richness &lt;dbl&gt; | abundance_distribution &lt;chr&gt; | rep &lt;int&gt; | read_length &lt;int&gt; | read_depth &lt;int&gt; | assembler &lt;chr&gt; | feature_file &lt;chr&gt; | MGSIM_reads_params &lt;chr&gt; |\n",
       "|---|---|---|---|---|---|---|---|\n",
       "| 0.8 | mean-10-sigma-2 | 1 | 100 | 1000000 | metaspades | 0.8/mean-10-sigma-2/1/100/1000000/metaspades/features.tsv.gz | --art-paired --art-mflen 270 --art-sdev 50 --rndSeed 8712 |\n",
       "| 0.8 | mean-10-sigma-2 | 1 | 100 | 1000000 | megahit    | 0.8/mean-10-sigma-2/1/100/1000000/megahit/features.tsv.gz    | --art-paired --art-mflen 270 --art-sdev 50 --rndSeed 8712 |\n",
       "| ⋮ | ⋮ | ⋮ | ⋮ | ⋮ | ⋮ | ⋮ | ⋮ |\n",
       "| 0.8 | mean-10-sigma-2 | 3 | 150 | 1000000 | metaspades | 0.8/mean-10-sigma-2/3/150/1000000/metaspades/features.tsv.gz | --art-paired --art-mflen 270 --art-sdev 50 --rndSeed 8712 |\n",
       "| 0.8 | mean-10-sigma-2 | 3 | 150 | 1000000 | megahit    | 0.8/mean-10-sigma-2/3/150/1000000/megahit/features.tsv.gz    | --art-paired --art-mflen 270 --art-sdev 50 --rndSeed 8712 |\n",
       "\n"
      ],
      "text/plain": [
       "   richness abundance_distribution rep read_length read_depth assembler \n",
       "1  0.8      mean-10-sigma-2        1   100         1000000    metaspades\n",
       "2  0.8      mean-10-sigma-2        1   100         1000000    megahit   \n",
       "⋮  ⋮        ⋮                      ⋮   ⋮           ⋮          ⋮         \n",
       "11 0.8      mean-10-sigma-2        3   150         1000000    metaspades\n",
       "12 0.8      mean-10-sigma-2        3   150         1000000    megahit   \n",
       "   feature_file                                                \n",
       "1  0.8/mean-10-sigma-2/1/100/1000000/metaspades/features.tsv.gz\n",
       "2  0.8/mean-10-sigma-2/1/100/1000000/megahit/features.tsv.gz   \n",
       "⋮  ⋮                                                           \n",
       "11 0.8/mean-10-sigma-2/3/150/1000000/metaspades/features.tsv.gz\n",
       "12 0.8/mean-10-sigma-2/3/150/1000000/megahit/features.tsv.gz   \n",
       "   MGSIM_reads_params                                       \n",
       "1  --art-paired --art-mflen 270 --art-sdev 50 --rndSeed 8712\n",
       "2  --art-paired --art-mflen 270 --art-sdev 50 --rndSeed 8712\n",
       "⋮  ⋮                                                        \n",
       "11 --art-paired --art-mflen 270 --art-sdev 50 --rndSeed 8712\n",
       "12 --art-paired --art-mflen 270 --art-sdev 50 --rndSeed 8712"
      ]
     },
     "metadata": {},
     "output_type": "display_data"
    }
   ],
   "source": [
    "# bam2feat tables\n",
    "D = file.path(work_dir, 'features_bam2feat-all')\n",
    "F = file.path(D, 'feature_files.tsv')\n",
    "files = Fread(F) \n",
    "files"
   ]
  },
  {
   "cell_type": "code",
   "execution_count": 16,
   "id": "25ec6e1f",
   "metadata": {
    "ExecuteTime": {
     "end_time": "2021-07-23T07:21:44.978144Z",
     "start_time": "2021-07-23T07:14:34.333Z"
    }
   },
   "outputs": [
    {
     "data": {
      "text/html": [
       "<table class=\"dataframe\">\n",
       "<caption>A data.table: 129361321 × 48</caption>\n",
       "<thead>\n",
       "\t<tr><th scope=col>assembler</th><th scope=col>contig</th><th scope=col>position</th><th scope=col>ref_base</th><th scope=col>num_query_A</th><th scope=col>num_query_C</th><th scope=col>num_query_G</th><th scope=col>num_query_T</th><th scope=col>num_SNPs</th><th scope=col>coverage</th><th scope=col>⋯</th><th scope=col>num_discordant_SNP</th><th scope=col>seq_window_entropy</th><th scope=col>seq_window_perc_gc</th><th scope=col>Extensive_misassembly</th><th scope=col>Extensive_misassembly_by_pos</th><th scope=col>richness</th><th scope=col>abund_dist</th><th scope=col>rep</th><th scope=col>read_depth</th><th scope=col>read_length</th></tr>\n",
       "\t<tr><th scope=col>&lt;chr&gt;</th><th scope=col>&lt;chr&gt;</th><th scope=col>&lt;int&gt;</th><th scope=col>&lt;chr&gt;</th><th scope=col>&lt;int&gt;</th><th scope=col>&lt;int&gt;</th><th scope=col>&lt;int&gt;</th><th scope=col>&lt;int&gt;</th><th scope=col>&lt;int&gt;</th><th scope=col>&lt;int&gt;</th><th scope=col>⋯</th><th scope=col>&lt;int&gt;</th><th scope=col>&lt;dbl&gt;</th><th scope=col>&lt;dbl&gt;</th><th scope=col>&lt;int&gt;</th><th scope=col>&lt;chr&gt;</th><th scope=col>&lt;chr&gt;</th><th scope=col>&lt;chr&gt;</th><th scope=col>&lt;chr&gt;</th><th scope=col>&lt;chr&gt;</th><th scope=col>&lt;chr&gt;</th></tr>\n",
       "</thead>\n",
       "<tbody>\n",
       "\t<tr><td>metaspades</td><td>NODE_459_length_2487_cov_3.937911</td><td>0</td><td>A</td><td>1</td><td>0</td><td>0</td><td>0</td><td>0</td><td>1</td><td>⋯</td><td>0</td><td>1.92</td><td>0.5</td><td>0</td><td>None</td><td>0.8</td><td>mean-10-sigma-2</td><td>1</td><td>1000000</td><td>100</td></tr>\n",
       "\t<tr><td>metaspades</td><td>NODE_459_length_2487_cov_3.937911</td><td>1</td><td>G</td><td>0</td><td>0</td><td>1</td><td>0</td><td>0</td><td>1</td><td>⋯</td><td>0</td><td>1.92</td><td>0.5</td><td>0</td><td>None</td><td>0.8</td><td>mean-10-sigma-2</td><td>1</td><td>1000000</td><td>100</td></tr>\n",
       "\t<tr><td>⋮</td><td>⋮</td><td>⋮</td><td>⋮</td><td>⋮</td><td>⋮</td><td>⋮</td><td>⋮</td><td>⋮</td><td>⋮</td><td>⋱</td><td>⋮</td><td>⋮</td><td>⋮</td><td>⋮</td><td>⋮</td><td>⋮</td><td>⋮</td><td>⋮</td><td>⋮</td><td>⋮</td></tr>\n",
       "\t<tr><td>megahit</td><td>k141_11062</td><td>1177</td><td>C</td><td>0</td><td>1</td><td>0</td><td>0</td><td>0</td><td>1</td><td>⋯</td><td>0</td><td>1.46</td><td>0.667</td><td>0</td><td>None</td><td>0.8</td><td>mean-10-sigma-2</td><td>3</td><td>1000000</td><td>150</td></tr>\n",
       "\t<tr><td>megahit</td><td>k141_11062</td><td>1178</td><td>G</td><td>0</td><td>0</td><td>1</td><td>0</td><td>0</td><td>1</td><td>⋯</td><td>0</td><td>1.58</td><td>0.667</td><td>0</td><td>None</td><td>0.8</td><td>mean-10-sigma-2</td><td>3</td><td>1000000</td><td>150</td></tr>\n",
       "</tbody>\n",
       "</table>\n"
      ],
      "text/latex": [
       "A data.table: 129361321 × 48\n",
       "\\begin{tabular}{lllllllllllllllllllll}\n",
       " assembler & contig & position & ref\\_base & num\\_query\\_A & num\\_query\\_C & num\\_query\\_G & num\\_query\\_T & num\\_SNPs & coverage & ⋯ & num\\_discordant\\_SNP & seq\\_window\\_entropy & seq\\_window\\_perc\\_gc & Extensive\\_misassembly & Extensive\\_misassembly\\_by\\_pos & richness & abund\\_dist & rep & read\\_depth & read\\_length\\\\\n",
       " <chr> & <chr> & <int> & <chr> & <int> & <int> & <int> & <int> & <int> & <int> & ⋯ & <int> & <dbl> & <dbl> & <int> & <chr> & <chr> & <chr> & <chr> & <chr> & <chr>\\\\\n",
       "\\hline\n",
       "\t metaspades & NODE\\_459\\_length\\_2487\\_cov\\_3.937911 & 0 & A & 1 & 0 & 0 & 0 & 0 & 1 & ⋯ & 0 & 1.92 & 0.5 & 0 & None & 0.8 & mean-10-sigma-2 & 1 & 1000000 & 100\\\\\n",
       "\t metaspades & NODE\\_459\\_length\\_2487\\_cov\\_3.937911 & 1 & G & 0 & 0 & 1 & 0 & 0 & 1 & ⋯ & 0 & 1.92 & 0.5 & 0 & None & 0.8 & mean-10-sigma-2 & 1 & 1000000 & 100\\\\\n",
       "\t ⋮ & ⋮ & ⋮ & ⋮ & ⋮ & ⋮ & ⋮ & ⋮ & ⋮ & ⋮ & ⋱ & ⋮ & ⋮ & ⋮ & ⋮ & ⋮ & ⋮ & ⋮ & ⋮ & ⋮ & ⋮\\\\\n",
       "\t megahit & k141\\_11062 & 1177 & C & 0 & 1 & 0 & 0 & 0 & 1 & ⋯ & 0 & 1.46 & 0.667 & 0 & None & 0.8 & mean-10-sigma-2 & 3 & 1000000 & 150\\\\\n",
       "\t megahit & k141\\_11062 & 1178 & G & 0 & 0 & 1 & 0 & 0 & 1 & ⋯ & 0 & 1.58 & 0.667 & 0 & None & 0.8 & mean-10-sigma-2 & 3 & 1000000 & 150\\\\\n",
       "\\end{tabular}\n"
      ],
      "text/markdown": [
       "\n",
       "A data.table: 129361321 × 48\n",
       "\n",
       "| assembler &lt;chr&gt; | contig &lt;chr&gt; | position &lt;int&gt; | ref_base &lt;chr&gt; | num_query_A &lt;int&gt; | num_query_C &lt;int&gt; | num_query_G &lt;int&gt; | num_query_T &lt;int&gt; | num_SNPs &lt;int&gt; | coverage &lt;int&gt; | ⋯ ⋯ | num_discordant_SNP &lt;int&gt; | seq_window_entropy &lt;dbl&gt; | seq_window_perc_gc &lt;dbl&gt; | Extensive_misassembly &lt;int&gt; | Extensive_misassembly_by_pos &lt;chr&gt; | richness &lt;chr&gt; | abund_dist &lt;chr&gt; | rep &lt;chr&gt; | read_depth &lt;chr&gt; | read_length &lt;chr&gt; |\n",
       "|---|---|---|---|---|---|---|---|---|---|---|---|---|---|---|---|---|---|---|---|---|\n",
       "| metaspades | NODE_459_length_2487_cov_3.937911 | 0 | A | 1 | 0 | 0 | 0 | 0 | 1 | ⋯ | 0 | 1.92 | 0.5 | 0 | None | 0.8 | mean-10-sigma-2 | 1 | 1000000 | 100 |\n",
       "| metaspades | NODE_459_length_2487_cov_3.937911 | 1 | G | 0 | 0 | 1 | 0 | 0 | 1 | ⋯ | 0 | 1.92 | 0.5 | 0 | None | 0.8 | mean-10-sigma-2 | 1 | 1000000 | 100 |\n",
       "| ⋮ | ⋮ | ⋮ | ⋮ | ⋮ | ⋮ | ⋮ | ⋮ | ⋮ | ⋮ | ⋱ | ⋮ | ⋮ | ⋮ | ⋮ | ⋮ | ⋮ | ⋮ | ⋮ | ⋮ | ⋮ |\n",
       "| megahit | k141_11062 | 1177 | C | 0 | 1 | 0 | 0 | 0 | 1 | ⋯ | 0 | 1.46 | 0.667 | 0 | None | 0.8 | mean-10-sigma-2 | 3 | 1000000 | 150 |\n",
       "| megahit | k141_11062 | 1178 | G | 0 | 0 | 1 | 0 | 0 | 1 | ⋯ | 0 | 1.58 | 0.667 | 0 | None | 0.8 | mean-10-sigma-2 | 3 | 1000000 | 150 |\n",
       "\n"
      ],
      "text/plain": [
       "          assembler  contig                            position ref_base\n",
       "1         metaspades NODE_459_length_2487_cov_3.937911 0        A       \n",
       "2         metaspades NODE_459_length_2487_cov_3.937911 1        G       \n",
       "⋮         ⋮          ⋮                                 ⋮        ⋮       \n",
       "129361320 megahit    k141_11062                        1177     C       \n",
       "129361321 megahit    k141_11062                        1178     G       \n",
       "          num_query_A num_query_C num_query_G num_query_T num_SNPs coverage ⋯\n",
       "1         1           0           0           0           0        1        ⋯\n",
       "2         0           0           1           0           0        1        ⋯\n",
       "⋮         ⋮           ⋮           ⋮           ⋮           ⋮        ⋮        ⋱\n",
       "129361320 0           1           0           0           0        1        ⋯\n",
       "129361321 0           0           1           0           0        1        ⋯\n",
       "          num_discordant_SNP seq_window_entropy seq_window_perc_gc\n",
       "1         0                  1.92               0.5               \n",
       "2         0                  1.92               0.5               \n",
       "⋮         ⋮                  ⋮                  ⋮                 \n",
       "129361320 0                  1.46               0.667             \n",
       "129361321 0                  1.58               0.667             \n",
       "          Extensive_misassembly Extensive_misassembly_by_pos richness\n",
       "1         0                     None                         0.8     \n",
       "2         0                     None                         0.8     \n",
       "⋮         ⋮                     ⋮                            ⋮       \n",
       "129361320 0                     None                         0.8     \n",
       "129361321 0                     None                         0.8     \n",
       "          abund_dist      rep read_depth read_length\n",
       "1         mean-10-sigma-2 1   1000000    100        \n",
       "2         mean-10-sigma-2 1   1000000    100        \n",
       "⋮         ⋮               ⋮   ⋮          ⋮          \n",
       "129361320 mean-10-sigma-2 3   1000000    150        \n",
       "129361321 mean-10-sigma-2 3   1000000    150        "
      ]
     },
     "metadata": {},
     "output_type": "display_data"
    }
   ],
   "source": [
    "read_feat = function(x, D){\n",
    "    df = Fread(file.path(D, x['feature_file']))\n",
    "    df$richness = x['richness']\n",
    "    df$abund_dist = x['abundance_distribution']\n",
    "    df$rep = x['rep']\n",
    "    df$read_depth = x['read_depth']\n",
    "    df$read_length = x['read_length']\n",
    "    df$assembler = x['assembler']\n",
    "    return(df)\n",
    "}\n",
    "\n",
    "# loading feature tables\n",
    "bam2feat_all = files %>%\n",
    "    apply(1, read_feat, D=file.path(work_dir, 'features_bam2feat-all')) %>%\n",
    "    rbindlist(use.names=TRUE)\n",
    "bam2feat_all"
   ]
  },
  {
   "cell_type": "markdown",
   "id": "76be237b",
   "metadata": {},
   "source": [
    "## bam2feat_red"
   ]
  },
  {
   "cell_type": "code",
   "execution_count": 17,
   "id": "9bc35a65",
   "metadata": {
    "ExecuteTime": {
     "end_time": "2021-07-23T07:21:45.025629Z",
     "start_time": "2021-07-23T07:14:40.077Z"
    }
   },
   "outputs": [
    {
     "data": {
      "text/html": [
       "<table class=\"dataframe\">\n",
       "<caption>A data.table: 12 × 8</caption>\n",
       "<thead>\n",
       "\t<tr><th scope=col>richness</th><th scope=col>abundance_distribution</th><th scope=col>rep</th><th scope=col>read_length</th><th scope=col>read_depth</th><th scope=col>assembler</th><th scope=col>feature_file</th><th scope=col>MGSIM_reads_params</th></tr>\n",
       "\t<tr><th scope=col>&lt;dbl&gt;</th><th scope=col>&lt;chr&gt;</th><th scope=col>&lt;int&gt;</th><th scope=col>&lt;int&gt;</th><th scope=col>&lt;int&gt;</th><th scope=col>&lt;chr&gt;</th><th scope=col>&lt;chr&gt;</th><th scope=col>&lt;chr&gt;</th></tr>\n",
       "</thead>\n",
       "<tbody>\n",
       "\t<tr><td>0.8</td><td>mean-10-sigma-2</td><td>1</td><td>100</td><td>1000000</td><td>metaspades</td><td>0.8/mean-10-sigma-2/1/100/1000000/metaspades/features.tsv.gz</td><td>--art-paired --art-mflen 270 --art-sdev 50 --rndSeed 8712</td></tr>\n",
       "\t<tr><td>0.8</td><td>mean-10-sigma-2</td><td>1</td><td>100</td><td>1000000</td><td>megahit   </td><td>0.8/mean-10-sigma-2/1/100/1000000/megahit/features.tsv.gz   </td><td>--art-paired --art-mflen 270 --art-sdev 50 --rndSeed 8712</td></tr>\n",
       "\t<tr><td>⋮</td><td>⋮</td><td>⋮</td><td>⋮</td><td>⋮</td><td>⋮</td><td>⋮</td><td>⋮</td></tr>\n",
       "\t<tr><td>0.8</td><td>mean-10-sigma-2</td><td>3</td><td>150</td><td>1000000</td><td>metaspades</td><td>0.8/mean-10-sigma-2/3/150/1000000/metaspades/features.tsv.gz</td><td>--art-paired --art-mflen 270 --art-sdev 50 --rndSeed 8712</td></tr>\n",
       "\t<tr><td>0.8</td><td>mean-10-sigma-2</td><td>3</td><td>150</td><td>1000000</td><td>megahit   </td><td>0.8/mean-10-sigma-2/3/150/1000000/megahit/features.tsv.gz   </td><td>--art-paired --art-mflen 270 --art-sdev 50 --rndSeed 8712</td></tr>\n",
       "</tbody>\n",
       "</table>\n"
      ],
      "text/latex": [
       "A data.table: 12 × 8\n",
       "\\begin{tabular}{llllllll}\n",
       " richness & abundance\\_distribution & rep & read\\_length & read\\_depth & assembler & feature\\_file & MGSIM\\_reads\\_params\\\\\n",
       " <dbl> & <chr> & <int> & <int> & <int> & <chr> & <chr> & <chr>\\\\\n",
       "\\hline\n",
       "\t 0.8 & mean-10-sigma-2 & 1 & 100 & 1000000 & metaspades & 0.8/mean-10-sigma-2/1/100/1000000/metaspades/features.tsv.gz & --art-paired --art-mflen 270 --art-sdev 50 --rndSeed 8712\\\\\n",
       "\t 0.8 & mean-10-sigma-2 & 1 & 100 & 1000000 & megahit    & 0.8/mean-10-sigma-2/1/100/1000000/megahit/features.tsv.gz    & --art-paired --art-mflen 270 --art-sdev 50 --rndSeed 8712\\\\\n",
       "\t ⋮ & ⋮ & ⋮ & ⋮ & ⋮ & ⋮ & ⋮ & ⋮\\\\\n",
       "\t 0.8 & mean-10-sigma-2 & 3 & 150 & 1000000 & metaspades & 0.8/mean-10-sigma-2/3/150/1000000/metaspades/features.tsv.gz & --art-paired --art-mflen 270 --art-sdev 50 --rndSeed 8712\\\\\n",
       "\t 0.8 & mean-10-sigma-2 & 3 & 150 & 1000000 & megahit    & 0.8/mean-10-sigma-2/3/150/1000000/megahit/features.tsv.gz    & --art-paired --art-mflen 270 --art-sdev 50 --rndSeed 8712\\\\\n",
       "\\end{tabular}\n"
      ],
      "text/markdown": [
       "\n",
       "A data.table: 12 × 8\n",
       "\n",
       "| richness &lt;dbl&gt; | abundance_distribution &lt;chr&gt; | rep &lt;int&gt; | read_length &lt;int&gt; | read_depth &lt;int&gt; | assembler &lt;chr&gt; | feature_file &lt;chr&gt; | MGSIM_reads_params &lt;chr&gt; |\n",
       "|---|---|---|---|---|---|---|---|\n",
       "| 0.8 | mean-10-sigma-2 | 1 | 100 | 1000000 | metaspades | 0.8/mean-10-sigma-2/1/100/1000000/metaspades/features.tsv.gz | --art-paired --art-mflen 270 --art-sdev 50 --rndSeed 8712 |\n",
       "| 0.8 | mean-10-sigma-2 | 1 | 100 | 1000000 | megahit    | 0.8/mean-10-sigma-2/1/100/1000000/megahit/features.tsv.gz    | --art-paired --art-mflen 270 --art-sdev 50 --rndSeed 8712 |\n",
       "| ⋮ | ⋮ | ⋮ | ⋮ | ⋮ | ⋮ | ⋮ | ⋮ |\n",
       "| 0.8 | mean-10-sigma-2 | 3 | 150 | 1000000 | metaspades | 0.8/mean-10-sigma-2/3/150/1000000/metaspades/features.tsv.gz | --art-paired --art-mflen 270 --art-sdev 50 --rndSeed 8712 |\n",
       "| 0.8 | mean-10-sigma-2 | 3 | 150 | 1000000 | megahit    | 0.8/mean-10-sigma-2/3/150/1000000/megahit/features.tsv.gz    | --art-paired --art-mflen 270 --art-sdev 50 --rndSeed 8712 |\n",
       "\n"
      ],
      "text/plain": [
       "   richness abundance_distribution rep read_length read_depth assembler \n",
       "1  0.8      mean-10-sigma-2        1   100         1000000    metaspades\n",
       "2  0.8      mean-10-sigma-2        1   100         1000000    megahit   \n",
       "⋮  ⋮        ⋮                      ⋮   ⋮           ⋮          ⋮         \n",
       "11 0.8      mean-10-sigma-2        3   150         1000000    metaspades\n",
       "12 0.8      mean-10-sigma-2        3   150         1000000    megahit   \n",
       "   feature_file                                                \n",
       "1  0.8/mean-10-sigma-2/1/100/1000000/metaspades/features.tsv.gz\n",
       "2  0.8/mean-10-sigma-2/1/100/1000000/megahit/features.tsv.gz   \n",
       "⋮  ⋮                                                           \n",
       "11 0.8/mean-10-sigma-2/3/150/1000000/metaspades/features.tsv.gz\n",
       "12 0.8/mean-10-sigma-2/3/150/1000000/megahit/features.tsv.gz   \n",
       "   MGSIM_reads_params                                       \n",
       "1  --art-paired --art-mflen 270 --art-sdev 50 --rndSeed 8712\n",
       "2  --art-paired --art-mflen 270 --art-sdev 50 --rndSeed 8712\n",
       "⋮  ⋮                                                        \n",
       "11 --art-paired --art-mflen 270 --art-sdev 50 --rndSeed 8712\n",
       "12 --art-paired --art-mflen 270 --art-sdev 50 --rndSeed 8712"
      ]
     },
     "metadata": {},
     "output_type": "display_data"
    }
   ],
   "source": [
    "# bam2feat tables\n",
    "D = file.path(work_dir, 'features_bam2feat-all')\n",
    "F = file.path(D, 'feature_files.tsv')\n",
    "files = Fread(F) \n",
    "files"
   ]
  },
  {
   "cell_type": "code",
   "execution_count": 18,
   "id": "fd15f65e",
   "metadata": {
    "ExecuteTime": {
     "end_time": "2021-07-23T07:27:03.187915Z",
     "start_time": "2021-07-23T07:14:40.201Z"
    }
   },
   "outputs": [
    {
     "data": {
      "text/html": [
       "<table class=\"dataframe\">\n",
       "<caption>A data.table: 129361321 × 32</caption>\n",
       "<thead>\n",
       "\t<tr><th scope=col>assembler</th><th scope=col>contig</th><th scope=col>position</th><th scope=col>ref_base</th><th scope=col>num_query_A</th><th scope=col>num_query_C</th><th scope=col>num_query_G</th><th scope=col>num_query_T</th><th scope=col>num_SNPs</th><th scope=col>coverage</th><th scope=col>⋯</th><th scope=col>num_proper_SNP</th><th scope=col>seq_window_entropy</th><th scope=col>seq_window_perc_gc</th><th scope=col>Extensive_misassembly</th><th scope=col>Extensive_misassembly_by_pos</th><th scope=col>richness</th><th scope=col>abund_dist</th><th scope=col>rep</th><th scope=col>read_depth</th><th scope=col>read_length</th></tr>\n",
       "\t<tr><th scope=col>&lt;chr&gt;</th><th scope=col>&lt;chr&gt;</th><th scope=col>&lt;int&gt;</th><th scope=col>&lt;chr&gt;</th><th scope=col>&lt;int&gt;</th><th scope=col>&lt;int&gt;</th><th scope=col>&lt;int&gt;</th><th scope=col>&lt;int&gt;</th><th scope=col>&lt;int&gt;</th><th scope=col>&lt;int&gt;</th><th scope=col>⋯</th><th scope=col>&lt;int&gt;</th><th scope=col>&lt;dbl&gt;</th><th scope=col>&lt;dbl&gt;</th><th scope=col>&lt;int&gt;</th><th scope=col>&lt;chr&gt;</th><th scope=col>&lt;chr&gt;</th><th scope=col>&lt;chr&gt;</th><th scope=col>&lt;chr&gt;</th><th scope=col>&lt;chr&gt;</th><th scope=col>&lt;chr&gt;</th></tr>\n",
       "</thead>\n",
       "<tbody>\n",
       "\t<tr><td>metaspades</td><td>NODE_688_length_1439_cov_4.049133</td><td>0</td><td>G</td><td>0</td><td>0</td><td>1</td><td>0</td><td>0</td><td>1</td><td>⋯</td><td>0</td><td>1.92</td><td>0.333</td><td>0</td><td>None</td><td>0.8</td><td>mean-10-sigma-2</td><td>1</td><td>1000000</td><td>100</td></tr>\n",
       "\t<tr><td>metaspades</td><td>NODE_688_length_1439_cov_4.049133</td><td>1</td><td>A</td><td>1</td><td>0</td><td>0</td><td>0</td><td>0</td><td>1</td><td>⋯</td><td>0</td><td>1.46</td><td>0.167</td><td>0</td><td>None</td><td>0.8</td><td>mean-10-sigma-2</td><td>1</td><td>1000000</td><td>100</td></tr>\n",
       "\t<tr><td>⋮</td><td>⋮</td><td>⋮</td><td>⋮</td><td>⋮</td><td>⋮</td><td>⋮</td><td>⋮</td><td>⋮</td><td>⋮</td><td>⋱</td><td>⋮</td><td>⋮</td><td>⋮</td><td>⋮</td><td>⋮</td><td>⋮</td><td>⋮</td><td>⋮</td><td>⋮</td><td>⋮</td></tr>\n",
       "\t<tr><td>megahit</td><td>k141_11062</td><td>1177</td><td>C</td><td>0</td><td>1</td><td>0</td><td>0</td><td>0</td><td>1</td><td>⋯</td><td>0</td><td>1.46</td><td>0.667</td><td>0</td><td>None</td><td>0.8</td><td>mean-10-sigma-2</td><td>3</td><td>1000000</td><td>150</td></tr>\n",
       "\t<tr><td>megahit</td><td>k141_11062</td><td>1178</td><td>G</td><td>0</td><td>0</td><td>1</td><td>0</td><td>0</td><td>1</td><td>⋯</td><td>0</td><td>1.58</td><td>0.667</td><td>0</td><td>None</td><td>0.8</td><td>mean-10-sigma-2</td><td>3</td><td>1000000</td><td>150</td></tr>\n",
       "</tbody>\n",
       "</table>\n"
      ],
      "text/latex": [
       "A data.table: 129361321 × 32\n",
       "\\begin{tabular}{lllllllllllllllllllll}\n",
       " assembler & contig & position & ref\\_base & num\\_query\\_A & num\\_query\\_C & num\\_query\\_G & num\\_query\\_T & num\\_SNPs & coverage & ⋯ & num\\_proper\\_SNP & seq\\_window\\_entropy & seq\\_window\\_perc\\_gc & Extensive\\_misassembly & Extensive\\_misassembly\\_by\\_pos & richness & abund\\_dist & rep & read\\_depth & read\\_length\\\\\n",
       " <chr> & <chr> & <int> & <chr> & <int> & <int> & <int> & <int> & <int> & <int> & ⋯ & <int> & <dbl> & <dbl> & <int> & <chr> & <chr> & <chr> & <chr> & <chr> & <chr>\\\\\n",
       "\\hline\n",
       "\t metaspades & NODE\\_688\\_length\\_1439\\_cov\\_4.049133 & 0 & G & 0 & 0 & 1 & 0 & 0 & 1 & ⋯ & 0 & 1.92 & 0.333 & 0 & None & 0.8 & mean-10-sigma-2 & 1 & 1000000 & 100\\\\\n",
       "\t metaspades & NODE\\_688\\_length\\_1439\\_cov\\_4.049133 & 1 & A & 1 & 0 & 0 & 0 & 0 & 1 & ⋯ & 0 & 1.46 & 0.167 & 0 & None & 0.8 & mean-10-sigma-2 & 1 & 1000000 & 100\\\\\n",
       "\t ⋮ & ⋮ & ⋮ & ⋮ & ⋮ & ⋮ & ⋮ & ⋮ & ⋮ & ⋮ & ⋱ & ⋮ & ⋮ & ⋮ & ⋮ & ⋮ & ⋮ & ⋮ & ⋮ & ⋮ & ⋮\\\\\n",
       "\t megahit & k141\\_11062 & 1177 & C & 0 & 1 & 0 & 0 & 0 & 1 & ⋯ & 0 & 1.46 & 0.667 & 0 & None & 0.8 & mean-10-sigma-2 & 3 & 1000000 & 150\\\\\n",
       "\t megahit & k141\\_11062 & 1178 & G & 0 & 0 & 1 & 0 & 0 & 1 & ⋯ & 0 & 1.58 & 0.667 & 0 & None & 0.8 & mean-10-sigma-2 & 3 & 1000000 & 150\\\\\n",
       "\\end{tabular}\n"
      ],
      "text/markdown": [
       "\n",
       "A data.table: 129361321 × 32\n",
       "\n",
       "| assembler &lt;chr&gt; | contig &lt;chr&gt; | position &lt;int&gt; | ref_base &lt;chr&gt; | num_query_A &lt;int&gt; | num_query_C &lt;int&gt; | num_query_G &lt;int&gt; | num_query_T &lt;int&gt; | num_SNPs &lt;int&gt; | coverage &lt;int&gt; | ⋯ ⋯ | num_proper_SNP &lt;int&gt; | seq_window_entropy &lt;dbl&gt; | seq_window_perc_gc &lt;dbl&gt; | Extensive_misassembly &lt;int&gt; | Extensive_misassembly_by_pos &lt;chr&gt; | richness &lt;chr&gt; | abund_dist &lt;chr&gt; | rep &lt;chr&gt; | read_depth &lt;chr&gt; | read_length &lt;chr&gt; |\n",
       "|---|---|---|---|---|---|---|---|---|---|---|---|---|---|---|---|---|---|---|---|---|\n",
       "| metaspades | NODE_688_length_1439_cov_4.049133 | 0 | G | 0 | 0 | 1 | 0 | 0 | 1 | ⋯ | 0 | 1.92 | 0.333 | 0 | None | 0.8 | mean-10-sigma-2 | 1 | 1000000 | 100 |\n",
       "| metaspades | NODE_688_length_1439_cov_4.049133 | 1 | A | 1 | 0 | 0 | 0 | 0 | 1 | ⋯ | 0 | 1.46 | 0.167 | 0 | None | 0.8 | mean-10-sigma-2 | 1 | 1000000 | 100 |\n",
       "| ⋮ | ⋮ | ⋮ | ⋮ | ⋮ | ⋮ | ⋮ | ⋮ | ⋮ | ⋮ | ⋱ | ⋮ | ⋮ | ⋮ | ⋮ | ⋮ | ⋮ | ⋮ | ⋮ | ⋮ | ⋮ |\n",
       "| megahit | k141_11062 | 1177 | C | 0 | 1 | 0 | 0 | 0 | 1 | ⋯ | 0 | 1.46 | 0.667 | 0 | None | 0.8 | mean-10-sigma-2 | 3 | 1000000 | 150 |\n",
       "| megahit | k141_11062 | 1178 | G | 0 | 0 | 1 | 0 | 0 | 1 | ⋯ | 0 | 1.58 | 0.667 | 0 | None | 0.8 | mean-10-sigma-2 | 3 | 1000000 | 150 |\n",
       "\n"
      ],
      "text/plain": [
       "          assembler  contig                            position ref_base\n",
       "1         metaspades NODE_688_length_1439_cov_4.049133 0        G       \n",
       "2         metaspades NODE_688_length_1439_cov_4.049133 1        A       \n",
       "⋮         ⋮          ⋮                                 ⋮        ⋮       \n",
       "129361320 megahit    k141_11062                        1177     C       \n",
       "129361321 megahit    k141_11062                        1178     G       \n",
       "          num_query_A num_query_C num_query_G num_query_T num_SNPs coverage ⋯\n",
       "1         0           0           1           0           0        1        ⋯\n",
       "2         1           0           0           0           0        1        ⋯\n",
       "⋮         ⋮           ⋮           ⋮           ⋮           ⋮        ⋮        ⋱\n",
       "129361320 0           1           0           0           0        1        ⋯\n",
       "129361321 0           0           1           0           0        1        ⋯\n",
       "          num_proper_SNP seq_window_entropy seq_window_perc_gc\n",
       "1         0              1.92               0.333             \n",
       "2         0              1.46               0.167             \n",
       "⋮         ⋮              ⋮                  ⋮                 \n",
       "129361320 0              1.46               0.667             \n",
       "129361321 0              1.58               0.667             \n",
       "          Extensive_misassembly Extensive_misassembly_by_pos richness\n",
       "1         0                     None                         0.8     \n",
       "2         0                     None                         0.8     \n",
       "⋮         ⋮                     ⋮                            ⋮       \n",
       "129361320 0                     None                         0.8     \n",
       "129361321 0                     None                         0.8     \n",
       "          abund_dist      rep read_depth read_length\n",
       "1         mean-10-sigma-2 1   1000000    100        \n",
       "2         mean-10-sigma-2 1   1000000    100        \n",
       "⋮         ⋮               ⋮   ⋮          ⋮          \n",
       "129361320 mean-10-sigma-2 3   1000000    150        \n",
       "129361321 mean-10-sigma-2 3   1000000    150        "
      ]
     },
     "metadata": {},
     "output_type": "display_data"
    }
   ],
   "source": [
    "# loading feature tables\n",
    "bam2feat_red = files %>%\n",
    "    apply(1, read_feat, D=file.path(work_dir, 'features_bam2feat-reduced')) %>%\n",
    "    rbindlist(use.names=TRUE)\n",
    "bam2feat_red"
   ]
  },
  {
   "cell_type": "markdown",
   "id": "95d02234",
   "metadata": {},
   "source": [
    "# Compare"
   ]
  },
  {
   "cell_type": "markdown",
   "id": "93c2fdb7",
   "metadata": {},
   "source": [
    "## Check that dataset matches"
   ]
  },
  {
   "cell_type": "code",
   "execution_count": 19,
   "id": "dbe45b6e",
   "metadata": {
    "ExecuteTime": {
     "end_time": "2021-07-23T07:27:09.767536Z",
     "start_time": "2021-07-23T07:14:46.958Z"
    }
   },
   "outputs": [
    {
     "name": "stdout",
     "output_type": "stream",
     "text": [
      "No. of unique assemblers: 2 \n",
      "No. of unique assemblers: 2 \n"
     ]
    }
   ],
   "source": [
    "bam2feat_all$assembler %>% unique_n('assemblers')\n",
    "bam2feat_red$assembler %>% unique_n('assemblers')"
   ]
  },
  {
   "cell_type": "code",
   "execution_count": 20,
   "id": "99fddaac",
   "metadata": {
    "ExecuteTime": {
     "end_time": "2021-07-23T07:27:16.366668Z",
     "start_time": "2021-07-23T07:14:53.468Z"
    }
   },
   "outputs": [
    {
     "name": "stdout",
     "output_type": "stream",
     "text": [
      "No. of unique contigs: 11039 \n",
      "No. of unique contigs: 11039 \n"
     ]
    }
   ],
   "source": [
    "bam2feat_all$contig %>% unique_n('contigs')\n",
    "bam2feat_red$contig %>% unique_n('contigs')"
   ]
  },
  {
   "cell_type": "code",
   "execution_count": 21,
   "id": "d1d0ec9b",
   "metadata": {
    "ExecuteTime": {
     "end_time": "2021-07-23T07:27:18.083427Z",
     "start_time": "2021-07-23T07:14:56.780Z"
    }
   },
   "outputs": [
    {
     "data": {
      "text/html": [
       "<table class=\"dataframe\">\n",
       "<caption>A tidytable: 6 × 4</caption>\n",
       "<thead>\n",
       "\t<tr><th scope=col>assembler</th><th scope=col>richness</th><th scope=col>rep</th><th scope=col>read_depth</th></tr>\n",
       "\t<tr><th scope=col>&lt;chr&gt;</th><th scope=col>&lt;chr&gt;</th><th scope=col>&lt;chr&gt;</th><th scope=col>&lt;chr&gt;</th></tr>\n",
       "</thead>\n",
       "<tbody>\n",
       "\t<tr><td>metaspades</td><td>0.8</td><td>1</td><td>1000000</td></tr>\n",
       "\t<tr><td>megahit   </td><td>0.8</td><td>1</td><td>1000000</td></tr>\n",
       "\t<tr><td>⋮</td><td>⋮</td><td>⋮</td><td>⋮</td></tr>\n",
       "\t<tr><td>metaspades</td><td>0.8</td><td>3</td><td>1000000</td></tr>\n",
       "\t<tr><td>megahit   </td><td>0.8</td><td>3</td><td>1000000</td></tr>\n",
       "</tbody>\n",
       "</table>\n"
      ],
      "text/latex": [
       "A tidytable: 6 × 4\n",
       "\\begin{tabular}{llll}\n",
       " assembler & richness & rep & read\\_depth\\\\\n",
       " <chr> & <chr> & <chr> & <chr>\\\\\n",
       "\\hline\n",
       "\t metaspades & 0.8 & 1 & 1000000\\\\\n",
       "\t megahit    & 0.8 & 1 & 1000000\\\\\n",
       "\t ⋮ & ⋮ & ⋮ & ⋮\\\\\n",
       "\t metaspades & 0.8 & 3 & 1000000\\\\\n",
       "\t megahit    & 0.8 & 3 & 1000000\\\\\n",
       "\\end{tabular}\n"
      ],
      "text/markdown": [
       "\n",
       "A tidytable: 6 × 4\n",
       "\n",
       "| assembler &lt;chr&gt; | richness &lt;chr&gt; | rep &lt;chr&gt; | read_depth &lt;chr&gt; |\n",
       "|---|---|---|---|\n",
       "| metaspades | 0.8 | 1 | 1000000 |\n",
       "| megahit    | 0.8 | 1 | 1000000 |\n",
       "| ⋮ | ⋮ | ⋮ | ⋮ |\n",
       "| metaspades | 0.8 | 3 | 1000000 |\n",
       "| megahit    | 0.8 | 3 | 1000000 |\n",
       "\n"
      ],
      "text/plain": [
       "  assembler  richness rep read_depth\n",
       "1 metaspades 0.8      1   1000000   \n",
       "2 megahit    0.8      1   1000000   \n",
       "⋮ ⋮          ⋮        ⋮   ⋮         \n",
       "5 metaspades 0.8      3   1000000   \n",
       "6 megahit    0.8      3   1000000   "
      ]
     },
     "metadata": {},
     "output_type": "display_data"
    }
   ],
   "source": [
    "bam2feat_all %>%\n",
    "    distinct.(assembler, richness, rep, read_depth)"
   ]
  },
  {
   "cell_type": "code",
   "execution_count": 22,
   "id": "e1d9dc50",
   "metadata": {
    "ExecuteTime": {
     "end_time": "2021-07-23T07:27:19.821336Z",
     "start_time": "2021-07-23T07:15:01.740Z"
    }
   },
   "outputs": [
    {
     "data": {
      "text/html": [
       "<table class=\"dataframe\">\n",
       "<caption>A tidytable: 6 × 4</caption>\n",
       "<thead>\n",
       "\t<tr><th scope=col>assembler</th><th scope=col>richness</th><th scope=col>rep</th><th scope=col>read_depth</th></tr>\n",
       "\t<tr><th scope=col>&lt;chr&gt;</th><th scope=col>&lt;chr&gt;</th><th scope=col>&lt;chr&gt;</th><th scope=col>&lt;chr&gt;</th></tr>\n",
       "</thead>\n",
       "<tbody>\n",
       "\t<tr><td>metaspades</td><td>0.8</td><td>1</td><td>1000000</td></tr>\n",
       "\t<tr><td>megahit   </td><td>0.8</td><td>1</td><td>1000000</td></tr>\n",
       "\t<tr><td>⋮</td><td>⋮</td><td>⋮</td><td>⋮</td></tr>\n",
       "\t<tr><td>metaspades</td><td>0.8</td><td>3</td><td>1000000</td></tr>\n",
       "\t<tr><td>megahit   </td><td>0.8</td><td>3</td><td>1000000</td></tr>\n",
       "</tbody>\n",
       "</table>\n"
      ],
      "text/latex": [
       "A tidytable: 6 × 4\n",
       "\\begin{tabular}{llll}\n",
       " assembler & richness & rep & read\\_depth\\\\\n",
       " <chr> & <chr> & <chr> & <chr>\\\\\n",
       "\\hline\n",
       "\t metaspades & 0.8 & 1 & 1000000\\\\\n",
       "\t megahit    & 0.8 & 1 & 1000000\\\\\n",
       "\t ⋮ & ⋮ & ⋮ & ⋮\\\\\n",
       "\t metaspades & 0.8 & 3 & 1000000\\\\\n",
       "\t megahit    & 0.8 & 3 & 1000000\\\\\n",
       "\\end{tabular}\n"
      ],
      "text/markdown": [
       "\n",
       "A tidytable: 6 × 4\n",
       "\n",
       "| assembler &lt;chr&gt; | richness &lt;chr&gt; | rep &lt;chr&gt; | read_depth &lt;chr&gt; |\n",
       "|---|---|---|---|\n",
       "| metaspades | 0.8 | 1 | 1000000 |\n",
       "| megahit    | 0.8 | 1 | 1000000 |\n",
       "| ⋮ | ⋮ | ⋮ | ⋮ |\n",
       "| metaspades | 0.8 | 3 | 1000000 |\n",
       "| megahit    | 0.8 | 3 | 1000000 |\n",
       "\n"
      ],
      "text/plain": [
       "  assembler  richness rep read_depth\n",
       "1 metaspades 0.8      1   1000000   \n",
       "2 megahit    0.8      1   1000000   \n",
       "⋮ ⋮          ⋮        ⋮   ⋮         \n",
       "5 metaspades 0.8      3   1000000   \n",
       "6 megahit    0.8      3   1000000   "
      ]
     },
     "metadata": {},
     "output_type": "display_data"
    }
   ],
   "source": [
    "bam2feat_red %>%\n",
    "    distinct.(assembler, richness, rep, read_depth)"
   ]
  },
  {
   "cell_type": "code",
   "execution_count": 23,
   "id": "a1833d77",
   "metadata": {
    "ExecuteTime": {
     "end_time": "2021-07-23T07:27:31.566264Z",
     "start_time": "2021-07-23T07:15:06.697Z"
    }
   },
   "outputs": [
    {
     "data": {
      "text/html": [
       "<table class=\"dataframe\">\n",
       "<caption>A matrix: 1 × 8 of type dbl</caption>\n",
       "<thead>\n",
       "\t<tr><th></th><th scope=col>Min.</th><th scope=col>1st Qu.</th><th scope=col>Median</th><th scope=col>Mean</th><th scope=col>3rd Qu.</th><th scope=col>Max.</th><th scope=col>sd</th><th scope=col>sd_err_of_mean</th></tr>\n",
       "</thead>\n",
       "<tbody>\n",
       "\t<tr><th scope=row>position</th><td>0</td><td>2854</td><td>25547</td><td>71036.11</td><td>85963</td><td>786518</td><td>307983.7</td><td>125733.8</td></tr>\n",
       "</tbody>\n",
       "</table>\n"
      ],
      "text/latex": [
       "A matrix: 1 × 8 of type dbl\n",
       "\\begin{tabular}{r|llllllll}\n",
       "  & Min. & 1st Qu. & Median & Mean & 3rd Qu. & Max. & sd & sd\\_err\\_of\\_mean\\\\\n",
       "\\hline\n",
       "\tposition & 0 & 2854 & 25547 & 71036.11 & 85963 & 786518 & 307983.7 & 125733.8\\\\\n",
       "\\end{tabular}\n"
      ],
      "text/markdown": [
       "\n",
       "A matrix: 1 × 8 of type dbl\n",
       "\n",
       "| <!--/--> | Min. | 1st Qu. | Median | Mean | 3rd Qu. | Max. | sd | sd_err_of_mean |\n",
       "|---|---|---|---|---|---|---|---|---|\n",
       "| position | 0 | 2854 | 25547 | 71036.11 | 85963 | 786518 | 307983.7 | 125733.8 |\n",
       "\n"
      ],
      "text/plain": [
       "         Min. 1st Qu. Median Mean     3rd Qu. Max.   sd       sd_err_of_mean\n",
       "position 0    2854    25547  71036.11 85963   786518 307983.7 125733.8      "
      ]
     },
     "metadata": {},
     "output_type": "display_data"
    },
    {
     "data": {
      "text/html": [
       "<table class=\"dataframe\">\n",
       "<caption>A matrix: 1 × 8 of type dbl</caption>\n",
       "<thead>\n",
       "\t<tr><th></th><th scope=col>Min.</th><th scope=col>1st Qu.</th><th scope=col>Median</th><th scope=col>Mean</th><th scope=col>3rd Qu.</th><th scope=col>Max.</th><th scope=col>sd</th><th scope=col>sd_err_of_mean</th></tr>\n",
       "</thead>\n",
       "<tbody>\n",
       "\t<tr><th scope=row>position</th><td>0</td><td>2854</td><td>25547</td><td>71036.11</td><td>85963</td><td>786518</td><td>307983.7</td><td>125733.8</td></tr>\n",
       "</tbody>\n",
       "</table>\n"
      ],
      "text/latex": [
       "A matrix: 1 × 8 of type dbl\n",
       "\\begin{tabular}{r|llllllll}\n",
       "  & Min. & 1st Qu. & Median & Mean & 3rd Qu. & Max. & sd & sd\\_err\\_of\\_mean\\\\\n",
       "\\hline\n",
       "\tposition & 0 & 2854 & 25547 & 71036.11 & 85963 & 786518 & 307983.7 & 125733.8\\\\\n",
       "\\end{tabular}\n"
      ],
      "text/markdown": [
       "\n",
       "A matrix: 1 × 8 of type dbl\n",
       "\n",
       "| <!--/--> | Min. | 1st Qu. | Median | Mean | 3rd Qu. | Max. | sd | sd_err_of_mean |\n",
       "|---|---|---|---|---|---|---|---|---|\n",
       "| position | 0 | 2854 | 25547 | 71036.11 | 85963 | 786518 | 307983.7 | 125733.8 |\n",
       "\n"
      ],
      "text/plain": [
       "         Min. 1st Qu. Median Mean     3rd Qu. Max.   sd       sd_err_of_mean\n",
       "position 0    2854    25547  71036.11 85963   786518 307983.7 125733.8      "
      ]
     },
     "metadata": {},
     "output_type": "display_data"
    }
   ],
   "source": [
    "summary_x(bam2feat_all$position)\n",
    "summary_x(bam2feat_red$position)"
   ]
  },
  {
   "cell_type": "markdown",
   "id": "d5bbe993",
   "metadata": {},
   "source": [
    "## Features"
   ]
  },
  {
   "cell_type": "markdown",
   "id": "b02b7ed0",
   "metadata": {},
   "source": [
    "### ref bases"
   ]
  },
  {
   "cell_type": "code",
   "execution_count": 24,
   "id": "74e0dbff",
   "metadata": {
    "ExecuteTime": {
     "end_time": "2021-07-23T07:27:58.103846Z",
     "start_time": "2021-07-23T07:15:12.772Z"
    }
   },
   "outputs": [
    {
     "data": {
      "text/plain": [
       ".\n",
       "       A        C        G        T \n",
       "27031236 37468728 37726801 27134556 "
      ]
     },
     "metadata": {},
     "output_type": "display_data"
    },
    {
     "data": {
      "text/plain": [
       ".\n",
       "       A        C        G        T \n",
       "27031236 37468728 37726801 27134556 "
      ]
     },
     "metadata": {},
     "output_type": "display_data"
    }
   ],
   "source": [
    "bam2feat_all$ref_base %>% table\n",
    "bam2feat_red$ref_base %>% table"
   ]
  },
  {
   "cell_type": "code",
   "execution_count": 25,
   "id": "85c15c89",
   "metadata": {
    "ExecuteTime": {
     "end_time": "2021-07-23T07:28:09.101241Z",
     "start_time": "2021-07-23T07:15:18.148Z"
    }
   },
   "outputs": [
    {
     "data": {
      "text/html": [
       "<table class=\"dataframe\">\n",
       "<caption>A matrix: 1 × 8 of type dbl</caption>\n",
       "<thead>\n",
       "\t<tr><th></th><th scope=col>Min.</th><th scope=col>1st Qu.</th><th scope=col>Median</th><th scope=col>Mean</th><th scope=col>3rd Qu.</th><th scope=col>Max.</th><th scope=col>sd</th><th scope=col>sd_err_of_mean</th></tr>\n",
       "</thead>\n",
       "<tbody>\n",
       "\t<tr><th scope=row>num_query_A</th><td>0</td><td>0</td><td>0</td><td>2.970516</td><td>0</td><td>186</td><td>75.701</td><td>30.905</td></tr>\n",
       "</tbody>\n",
       "</table>\n"
      ],
      "text/latex": [
       "A matrix: 1 × 8 of type dbl\n",
       "\\begin{tabular}{r|llllllll}\n",
       "  & Min. & 1st Qu. & Median & Mean & 3rd Qu. & Max. & sd & sd\\_err\\_of\\_mean\\\\\n",
       "\\hline\n",
       "\tnum\\_query\\_A & 0 & 0 & 0 & 2.970516 & 0 & 186 & 75.701 & 30.905\\\\\n",
       "\\end{tabular}\n"
      ],
      "text/markdown": [
       "\n",
       "A matrix: 1 × 8 of type dbl\n",
       "\n",
       "| <!--/--> | Min. | 1st Qu. | Median | Mean | 3rd Qu. | Max. | sd | sd_err_of_mean |\n",
       "|---|---|---|---|---|---|---|---|---|\n",
       "| num_query_A | 0 | 0 | 0 | 2.970516 | 0 | 186 | 75.701 | 30.905 |\n",
       "\n"
      ],
      "text/plain": [
       "            Min. 1st Qu. Median Mean     3rd Qu. Max. sd     sd_err_of_mean\n",
       "num_query_A 0    0       0      2.970516 0       186  75.701 30.905        "
      ]
     },
     "metadata": {},
     "output_type": "display_data"
    },
    {
     "data": {
      "text/html": [
       "<table class=\"dataframe\">\n",
       "<caption>A matrix: 1 × 8 of type dbl</caption>\n",
       "<thead>\n",
       "\t<tr><th></th><th scope=col>Min.</th><th scope=col>1st Qu.</th><th scope=col>Median</th><th scope=col>Mean</th><th scope=col>3rd Qu.</th><th scope=col>Max.</th><th scope=col>sd</th><th scope=col>sd_err_of_mean</th></tr>\n",
       "</thead>\n",
       "<tbody>\n",
       "\t<tr><th scope=row>num_query_A</th><td>0</td><td>0</td><td>0</td><td>2.970516</td><td>0</td><td>186</td><td>75.701</td><td>30.905</td></tr>\n",
       "</tbody>\n",
       "</table>\n"
      ],
      "text/latex": [
       "A matrix: 1 × 8 of type dbl\n",
       "\\begin{tabular}{r|llllllll}\n",
       "  & Min. & 1st Qu. & Median & Mean & 3rd Qu. & Max. & sd & sd\\_err\\_of\\_mean\\\\\n",
       "\\hline\n",
       "\tnum\\_query\\_A & 0 & 0 & 0 & 2.970516 & 0 & 186 & 75.701 & 30.905\\\\\n",
       "\\end{tabular}\n"
      ],
      "text/markdown": [
       "\n",
       "A matrix: 1 × 8 of type dbl\n",
       "\n",
       "| <!--/--> | Min. | 1st Qu. | Median | Mean | 3rd Qu. | Max. | sd | sd_err_of_mean |\n",
       "|---|---|---|---|---|---|---|---|---|\n",
       "| num_query_A | 0 | 0 | 0 | 2.970516 | 0 | 186 | 75.701 | 30.905 |\n",
       "\n"
      ],
      "text/plain": [
       "            Min. 1st Qu. Median Mean     3rd Qu. Max. sd     sd_err_of_mean\n",
       "num_query_A 0    0       0      2.970516 0       186  75.701 30.905        "
      ]
     },
     "metadata": {},
     "output_type": "display_data"
    }
   ],
   "source": [
    "summary_x(bam2feat_all$num_query_A)\n",
    "summary_x(bam2feat_red$num_query_A)"
   ]
  },
  {
   "cell_type": "code",
   "execution_count": 26,
   "id": "f10d981f",
   "metadata": {
    "ExecuteTime": {
     "end_time": "2021-07-23T07:28:21.746510Z",
     "start_time": "2021-07-23T07:15:22.989Z"
    }
   },
   "outputs": [
    {
     "data": {
      "text/html": [
       "<table class=\"dataframe\">\n",
       "<caption>A matrix: 1 × 8 of type dbl</caption>\n",
       "<thead>\n",
       "\t<tr><th></th><th scope=col>Min.</th><th scope=col>1st Qu.</th><th scope=col>Median</th><th scope=col>Mean</th><th scope=col>3rd Qu.</th><th scope=col>Max.</th><th scope=col>sd</th><th scope=col>sd_err_of_mean</th></tr>\n",
       "</thead>\n",
       "<tbody>\n",
       "\t<tr><th scope=row>num_query_C</th><td>0</td><td>0</td><td>0</td><td>3.343388</td><td>4</td><td>185</td><td>74.948</td><td>30.597</td></tr>\n",
       "</tbody>\n",
       "</table>\n"
      ],
      "text/latex": [
       "A matrix: 1 × 8 of type dbl\n",
       "\\begin{tabular}{r|llllllll}\n",
       "  & Min. & 1st Qu. & Median & Mean & 3rd Qu. & Max. & sd & sd\\_err\\_of\\_mean\\\\\n",
       "\\hline\n",
       "\tnum\\_query\\_C & 0 & 0 & 0 & 3.343388 & 4 & 185 & 74.948 & 30.597\\\\\n",
       "\\end{tabular}\n"
      ],
      "text/markdown": [
       "\n",
       "A matrix: 1 × 8 of type dbl\n",
       "\n",
       "| <!--/--> | Min. | 1st Qu. | Median | Mean | 3rd Qu. | Max. | sd | sd_err_of_mean |\n",
       "|---|---|---|---|---|---|---|---|---|\n",
       "| num_query_C | 0 | 0 | 0 | 3.343388 | 4 | 185 | 74.948 | 30.597 |\n",
       "\n"
      ],
      "text/plain": [
       "            Min. 1st Qu. Median Mean     3rd Qu. Max. sd     sd_err_of_mean\n",
       "num_query_C 0    0       0      3.343388 4       185  74.948 30.597        "
      ]
     },
     "metadata": {},
     "output_type": "display_data"
    },
    {
     "data": {
      "text/html": [
       "<table class=\"dataframe\">\n",
       "<caption>A matrix: 1 × 8 of type dbl</caption>\n",
       "<thead>\n",
       "\t<tr><th></th><th scope=col>Min.</th><th scope=col>1st Qu.</th><th scope=col>Median</th><th scope=col>Mean</th><th scope=col>3rd Qu.</th><th scope=col>Max.</th><th scope=col>sd</th><th scope=col>sd_err_of_mean</th></tr>\n",
       "</thead>\n",
       "<tbody>\n",
       "\t<tr><th scope=row>num_query_C</th><td>0</td><td>0</td><td>0</td><td>3.343388</td><td>4</td><td>185</td><td>74.948</td><td>30.597</td></tr>\n",
       "</tbody>\n",
       "</table>\n"
      ],
      "text/latex": [
       "A matrix: 1 × 8 of type dbl\n",
       "\\begin{tabular}{r|llllllll}\n",
       "  & Min. & 1st Qu. & Median & Mean & 3rd Qu. & Max. & sd & sd\\_err\\_of\\_mean\\\\\n",
       "\\hline\n",
       "\tnum\\_query\\_C & 0 & 0 & 0 & 3.343388 & 4 & 185 & 74.948 & 30.597\\\\\n",
       "\\end{tabular}\n"
      ],
      "text/markdown": [
       "\n",
       "A matrix: 1 × 8 of type dbl\n",
       "\n",
       "| <!--/--> | Min. | 1st Qu. | Median | Mean | 3rd Qu. | Max. | sd | sd_err_of_mean |\n",
       "|---|---|---|---|---|---|---|---|---|\n",
       "| num_query_C | 0 | 0 | 0 | 3.343388 | 4 | 185 | 74.948 | 30.597 |\n",
       "\n"
      ],
      "text/plain": [
       "            Min. 1st Qu. Median Mean     3rd Qu. Max. sd     sd_err_of_mean\n",
       "num_query_C 0    0       0      3.343388 4       185  74.948 30.597        "
      ]
     },
     "metadata": {},
     "output_type": "display_data"
    }
   ],
   "source": [
    "summary_x(bam2feat_all$num_query_C)\n",
    "summary_x(bam2feat_red$num_query_C)"
   ]
  },
  {
   "cell_type": "code",
   "execution_count": 27,
   "id": "64fc119d",
   "metadata": {
    "ExecuteTime": {
     "end_time": "2021-07-23T07:28:33.443444Z",
     "start_time": "2021-07-23T07:15:27.859Z"
    }
   },
   "outputs": [
    {
     "data": {
      "text/html": [
       "<table class=\"dataframe\">\n",
       "<caption>A matrix: 1 × 8 of type dbl</caption>\n",
       "<thead>\n",
       "\t<tr><th></th><th scope=col>Min.</th><th scope=col>1st Qu.</th><th scope=col>Median</th><th scope=col>Mean</th><th scope=col>3rd Qu.</th><th scope=col>Max.</th><th scope=col>sd</th><th scope=col>sd_err_of_mean</th></tr>\n",
       "</thead>\n",
       "<tbody>\n",
       "\t<tr><th scope=row>num_query_G</th><td>0</td><td>0</td><td>0</td><td>3.379524</td><td>4</td><td>185</td><td>74.945</td><td>30.596</td></tr>\n",
       "</tbody>\n",
       "</table>\n"
      ],
      "text/latex": [
       "A matrix: 1 × 8 of type dbl\n",
       "\\begin{tabular}{r|llllllll}\n",
       "  & Min. & 1st Qu. & Median & Mean & 3rd Qu. & Max. & sd & sd\\_err\\_of\\_mean\\\\\n",
       "\\hline\n",
       "\tnum\\_query\\_G & 0 & 0 & 0 & 3.379524 & 4 & 185 & 74.945 & 30.596\\\\\n",
       "\\end{tabular}\n"
      ],
      "text/markdown": [
       "\n",
       "A matrix: 1 × 8 of type dbl\n",
       "\n",
       "| <!--/--> | Min. | 1st Qu. | Median | Mean | 3rd Qu. | Max. | sd | sd_err_of_mean |\n",
       "|---|---|---|---|---|---|---|---|---|\n",
       "| num_query_G | 0 | 0 | 0 | 3.379524 | 4 | 185 | 74.945 | 30.596 |\n",
       "\n"
      ],
      "text/plain": [
       "            Min. 1st Qu. Median Mean     3rd Qu. Max. sd     sd_err_of_mean\n",
       "num_query_G 0    0       0      3.379524 4       185  74.945 30.596        "
      ]
     },
     "metadata": {},
     "output_type": "display_data"
    },
    {
     "data": {
      "text/html": [
       "<table class=\"dataframe\">\n",
       "<caption>A matrix: 1 × 8 of type dbl</caption>\n",
       "<thead>\n",
       "\t<tr><th></th><th scope=col>Min.</th><th scope=col>1st Qu.</th><th scope=col>Median</th><th scope=col>Mean</th><th scope=col>3rd Qu.</th><th scope=col>Max.</th><th scope=col>sd</th><th scope=col>sd_err_of_mean</th></tr>\n",
       "</thead>\n",
       "<tbody>\n",
       "\t<tr><th scope=row>num_query_G</th><td>0</td><td>0</td><td>0</td><td>3.379524</td><td>4</td><td>185</td><td>74.945</td><td>30.596</td></tr>\n",
       "</tbody>\n",
       "</table>\n"
      ],
      "text/latex": [
       "A matrix: 1 × 8 of type dbl\n",
       "\\begin{tabular}{r|llllllll}\n",
       "  & Min. & 1st Qu. & Median & Mean & 3rd Qu. & Max. & sd & sd\\_err\\_of\\_mean\\\\\n",
       "\\hline\n",
       "\tnum\\_query\\_G & 0 & 0 & 0 & 3.379524 & 4 & 185 & 74.945 & 30.596\\\\\n",
       "\\end{tabular}\n"
      ],
      "text/markdown": [
       "\n",
       "A matrix: 1 × 8 of type dbl\n",
       "\n",
       "| <!--/--> | Min. | 1st Qu. | Median | Mean | 3rd Qu. | Max. | sd | sd_err_of_mean |\n",
       "|---|---|---|---|---|---|---|---|---|\n",
       "| num_query_G | 0 | 0 | 0 | 3.379524 | 4 | 185 | 74.945 | 30.596 |\n",
       "\n"
      ],
      "text/plain": [
       "            Min. 1st Qu. Median Mean     3rd Qu. Max. sd     sd_err_of_mean\n",
       "num_query_G 0    0       0      3.379524 4       185  74.945 30.596        "
      ]
     },
     "metadata": {},
     "output_type": "display_data"
    }
   ],
   "source": [
    "summary_x(bam2feat_all$num_query_G)\n",
    "summary_x(bam2feat_red$num_query_G)"
   ]
  },
  {
   "cell_type": "code",
   "execution_count": 28,
   "id": "a1f1a6fe",
   "metadata": {
    "ExecuteTime": {
     "end_time": "2021-07-23T07:28:45.442142Z",
     "start_time": "2021-07-23T07:15:34.178Z"
    }
   },
   "outputs": [
    {
     "data": {
      "text/html": [
       "<table class=\"dataframe\">\n",
       "<caption>A matrix: 1 × 8 of type dbl</caption>\n",
       "<thead>\n",
       "\t<tr><th></th><th scope=col>Min.</th><th scope=col>1st Qu.</th><th scope=col>Median</th><th scope=col>Mean</th><th scope=col>3rd Qu.</th><th scope=col>Max.</th><th scope=col>sd</th><th scope=col>sd_err_of_mean</th></tr>\n",
       "</thead>\n",
       "<tbody>\n",
       "\t<tr><th scope=row>num_query_T</th><td>0</td><td>0</td><td>0</td><td>2.989707</td><td>0</td><td>185</td><td>75.291</td><td>30.738</td></tr>\n",
       "</tbody>\n",
       "</table>\n"
      ],
      "text/latex": [
       "A matrix: 1 × 8 of type dbl\n",
       "\\begin{tabular}{r|llllllll}\n",
       "  & Min. & 1st Qu. & Median & Mean & 3rd Qu. & Max. & sd & sd\\_err\\_of\\_mean\\\\\n",
       "\\hline\n",
       "\tnum\\_query\\_T & 0 & 0 & 0 & 2.989707 & 0 & 185 & 75.291 & 30.738\\\\\n",
       "\\end{tabular}\n"
      ],
      "text/markdown": [
       "\n",
       "A matrix: 1 × 8 of type dbl\n",
       "\n",
       "| <!--/--> | Min. | 1st Qu. | Median | Mean | 3rd Qu. | Max. | sd | sd_err_of_mean |\n",
       "|---|---|---|---|---|---|---|---|---|\n",
       "| num_query_T | 0 | 0 | 0 | 2.989707 | 0 | 185 | 75.291 | 30.738 |\n",
       "\n"
      ],
      "text/plain": [
       "            Min. 1st Qu. Median Mean     3rd Qu. Max. sd     sd_err_of_mean\n",
       "num_query_T 0    0       0      2.989707 0       185  75.291 30.738        "
      ]
     },
     "metadata": {},
     "output_type": "display_data"
    },
    {
     "data": {
      "text/html": [
       "<table class=\"dataframe\">\n",
       "<caption>A matrix: 1 × 8 of type dbl</caption>\n",
       "<thead>\n",
       "\t<tr><th></th><th scope=col>Min.</th><th scope=col>1st Qu.</th><th scope=col>Median</th><th scope=col>Mean</th><th scope=col>3rd Qu.</th><th scope=col>Max.</th><th scope=col>sd</th><th scope=col>sd_err_of_mean</th></tr>\n",
       "</thead>\n",
       "<tbody>\n",
       "\t<tr><th scope=row>num_query_T</th><td>0</td><td>0</td><td>0</td><td>2.989707</td><td>0</td><td>185</td><td>75.291</td><td>30.738</td></tr>\n",
       "</tbody>\n",
       "</table>\n"
      ],
      "text/latex": [
       "A matrix: 1 × 8 of type dbl\n",
       "\\begin{tabular}{r|llllllll}\n",
       "  & Min. & 1st Qu. & Median & Mean & 3rd Qu. & Max. & sd & sd\\_err\\_of\\_mean\\\\\n",
       "\\hline\n",
       "\tnum\\_query\\_T & 0 & 0 & 0 & 2.989707 & 0 & 185 & 75.291 & 30.738\\\\\n",
       "\\end{tabular}\n"
      ],
      "text/markdown": [
       "\n",
       "A matrix: 1 × 8 of type dbl\n",
       "\n",
       "| <!--/--> | Min. | 1st Qu. | Median | Mean | 3rd Qu. | Max. | sd | sd_err_of_mean |\n",
       "|---|---|---|---|---|---|---|---|---|\n",
       "| num_query_T | 0 | 0 | 0 | 2.989707 | 0 | 185 | 75.291 | 30.738 |\n",
       "\n"
      ],
      "text/plain": [
       "            Min. 1st Qu. Median Mean     3rd Qu. Max. sd     sd_err_of_mean\n",
       "num_query_T 0    0       0      2.989707 0       185  75.291 30.738        "
      ]
     },
     "metadata": {},
     "output_type": "display_data"
    }
   ],
   "source": [
    "summary_x(bam2feat_all$num_query_T)\n",
    "summary_x(bam2feat_red$num_query_T)"
   ]
  },
  {
   "cell_type": "markdown",
   "id": "4786c0b3",
   "metadata": {},
   "source": [
    "### coverage/SNPs"
   ]
  },
  {
   "cell_type": "code",
   "execution_count": 29,
   "id": "5d3c8e61",
   "metadata": {
    "ExecuteTime": {
     "end_time": "2021-07-23T07:28:59.459869Z",
     "start_time": "2021-07-23T07:15:40.353Z"
    }
   },
   "outputs": [
    {
     "data": {
      "text/html": [
       "<table class=\"dataframe\">\n",
       "<caption>A matrix: 1 × 8 of type dbl</caption>\n",
       "<thead>\n",
       "\t<tr><th></th><th scope=col>Min.</th><th scope=col>1st Qu.</th><th scope=col>Median</th><th scope=col>Mean</th><th scope=col>3rd Qu.</th><th scope=col>Max.</th><th scope=col>sd</th><th scope=col>sd_err_of_mean</th></tr>\n",
       "</thead>\n",
       "<tbody>\n",
       "\t<tr><th scope=row>coverage</th><td>0</td><td>7</td><td>12</td><td>12.68314</td><td>18</td><td>186</td><td>72.133</td><td>29.448</td></tr>\n",
       "</tbody>\n",
       "</table>\n"
      ],
      "text/latex": [
       "A matrix: 1 × 8 of type dbl\n",
       "\\begin{tabular}{r|llllllll}\n",
       "  & Min. & 1st Qu. & Median & Mean & 3rd Qu. & Max. & sd & sd\\_err\\_of\\_mean\\\\\n",
       "\\hline\n",
       "\tcoverage & 0 & 7 & 12 & 12.68314 & 18 & 186 & 72.133 & 29.448\\\\\n",
       "\\end{tabular}\n"
      ],
      "text/markdown": [
       "\n",
       "A matrix: 1 × 8 of type dbl\n",
       "\n",
       "| <!--/--> | Min. | 1st Qu. | Median | Mean | 3rd Qu. | Max. | sd | sd_err_of_mean |\n",
       "|---|---|---|---|---|---|---|---|---|\n",
       "| coverage | 0 | 7 | 12 | 12.68314 | 18 | 186 | 72.133 | 29.448 |\n",
       "\n"
      ],
      "text/plain": [
       "         Min. 1st Qu. Median Mean     3rd Qu. Max. sd     sd_err_of_mean\n",
       "coverage 0    7       12     12.68314 18      186  72.133 29.448        "
      ]
     },
     "metadata": {},
     "output_type": "display_data"
    },
    {
     "data": {
      "text/html": [
       "<table class=\"dataframe\">\n",
       "<caption>A matrix: 1 × 8 of type dbl</caption>\n",
       "<thead>\n",
       "\t<tr><th></th><th scope=col>Min.</th><th scope=col>1st Qu.</th><th scope=col>Median</th><th scope=col>Mean</th><th scope=col>3rd Qu.</th><th scope=col>Max.</th><th scope=col>sd</th><th scope=col>sd_err_of_mean</th></tr>\n",
       "</thead>\n",
       "<tbody>\n",
       "\t<tr><th scope=row>coverage</th><td>0</td><td>7</td><td>12</td><td>12.68314</td><td>18</td><td>186</td><td>72.133</td><td>29.448</td></tr>\n",
       "</tbody>\n",
       "</table>\n"
      ],
      "text/latex": [
       "A matrix: 1 × 8 of type dbl\n",
       "\\begin{tabular}{r|llllllll}\n",
       "  & Min. & 1st Qu. & Median & Mean & 3rd Qu. & Max. & sd & sd\\_err\\_of\\_mean\\\\\n",
       "\\hline\n",
       "\tcoverage & 0 & 7 & 12 & 12.68314 & 18 & 186 & 72.133 & 29.448\\\\\n",
       "\\end{tabular}\n"
      ],
      "text/markdown": [
       "\n",
       "A matrix: 1 × 8 of type dbl\n",
       "\n",
       "| <!--/--> | Min. | 1st Qu. | Median | Mean | 3rd Qu. | Max. | sd | sd_err_of_mean |\n",
       "|---|---|---|---|---|---|---|---|---|\n",
       "| coverage | 0 | 7 | 12 | 12.68314 | 18 | 186 | 72.133 | 29.448 |\n",
       "\n"
      ],
      "text/plain": [
       "         Min. 1st Qu. Median Mean     3rd Qu. Max. sd     sd_err_of_mean\n",
       "coverage 0    7       12     12.68314 18      186  72.133 29.448        "
      ]
     },
     "metadata": {},
     "output_type": "display_data"
    }
   ],
   "source": [
    "summary_x(bam2feat_all$coverage)\n",
    "summary_x(bam2feat_red$coverage)"
   ]
  },
  {
   "cell_type": "code",
   "execution_count": 30,
   "id": "2e0e0eb9",
   "metadata": {
    "ExecuteTime": {
     "end_time": "2021-07-23T07:29:08.523281Z",
     "start_time": "2021-07-23T07:15:45.043Z"
    }
   },
   "outputs": [
    {
     "data": {
      "text/html": [
       "<table class=\"dataframe\">\n",
       "<caption>A matrix: 1 × 8 of type dbl</caption>\n",
       "<thead>\n",
       "\t<tr><th></th><th scope=col>Min.</th><th scope=col>1st Qu.</th><th scope=col>Median</th><th scope=col>Mean</th><th scope=col>3rd Qu.</th><th scope=col>Max.</th><th scope=col>sd</th><th scope=col>sd_err_of_mean</th></tr>\n",
       "</thead>\n",
       "<tbody>\n",
       "\t<tr><th scope=row>num_SNPs</th><td>0</td><td>0</td><td>0</td><td>0.01501756</td><td>0</td><td>58</td><td>23.677</td><td>9.666</td></tr>\n",
       "</tbody>\n",
       "</table>\n"
      ],
      "text/latex": [
       "A matrix: 1 × 8 of type dbl\n",
       "\\begin{tabular}{r|llllllll}\n",
       "  & Min. & 1st Qu. & Median & Mean & 3rd Qu. & Max. & sd & sd\\_err\\_of\\_mean\\\\\n",
       "\\hline\n",
       "\tnum\\_SNPs & 0 & 0 & 0 & 0.01501756 & 0 & 58 & 23.677 & 9.666\\\\\n",
       "\\end{tabular}\n"
      ],
      "text/markdown": [
       "\n",
       "A matrix: 1 × 8 of type dbl\n",
       "\n",
       "| <!--/--> | Min. | 1st Qu. | Median | Mean | 3rd Qu. | Max. | sd | sd_err_of_mean |\n",
       "|---|---|---|---|---|---|---|---|---|\n",
       "| num_SNPs | 0 | 0 | 0 | 0.01501756 | 0 | 58 | 23.677 | 9.666 |\n",
       "\n"
      ],
      "text/plain": [
       "         Min. 1st Qu. Median Mean       3rd Qu. Max. sd     sd_err_of_mean\n",
       "num_SNPs 0    0       0      0.01501756 0       58   23.677 9.666         "
      ]
     },
     "metadata": {},
     "output_type": "display_data"
    },
    {
     "data": {
      "text/html": [
       "<table class=\"dataframe\">\n",
       "<caption>A matrix: 1 × 8 of type dbl</caption>\n",
       "<thead>\n",
       "\t<tr><th></th><th scope=col>Min.</th><th scope=col>1st Qu.</th><th scope=col>Median</th><th scope=col>Mean</th><th scope=col>3rd Qu.</th><th scope=col>Max.</th><th scope=col>sd</th><th scope=col>sd_err_of_mean</th></tr>\n",
       "</thead>\n",
       "<tbody>\n",
       "\t<tr><th scope=row>num_SNPs</th><td>0</td><td>0</td><td>0</td><td>0.01501756</td><td>0</td><td>58</td><td>23.677</td><td>9.666</td></tr>\n",
       "</tbody>\n",
       "</table>\n"
      ],
      "text/latex": [
       "A matrix: 1 × 8 of type dbl\n",
       "\\begin{tabular}{r|llllllll}\n",
       "  & Min. & 1st Qu. & Median & Mean & 3rd Qu. & Max. & sd & sd\\_err\\_of\\_mean\\\\\n",
       "\\hline\n",
       "\tnum\\_SNPs & 0 & 0 & 0 & 0.01501756 & 0 & 58 & 23.677 & 9.666\\\\\n",
       "\\end{tabular}\n"
      ],
      "text/markdown": [
       "\n",
       "A matrix: 1 × 8 of type dbl\n",
       "\n",
       "| <!--/--> | Min. | 1st Qu. | Median | Mean | 3rd Qu. | Max. | sd | sd_err_of_mean |\n",
       "|---|---|---|---|---|---|---|---|---|\n",
       "| num_SNPs | 0 | 0 | 0 | 0.01501756 | 0 | 58 | 23.677 | 9.666 |\n",
       "\n"
      ],
      "text/plain": [
       "         Min. 1st Qu. Median Mean       3rd Qu. Max. sd     sd_err_of_mean\n",
       "num_SNPs 0    0       0      0.01501756 0       58   23.677 9.666         "
      ]
     },
     "metadata": {},
     "output_type": "display_data"
    }
   ],
   "source": [
    "summary_x(bam2feat_all$num_SNPs)\n",
    "summary_x(bam2feat_red$num_SNPs)"
   ]
  },
  {
   "cell_type": "code",
   "execution_count": 31,
   "id": "caf563f5",
   "metadata": {
    "ExecuteTime": {
     "end_time": "2021-07-23T07:29:18.519454Z",
     "start_time": "2021-07-23T07:15:49.779Z"
    }
   },
   "outputs": [
    {
     "data": {
      "text/html": [
       "<table class=\"dataframe\">\n",
       "<caption>A matrix: 1 × 8 of type dbl</caption>\n",
       "<thead>\n",
       "\t<tr><th></th><th scope=col>Min.</th><th scope=col>1st Qu.</th><th scope=col>Median</th><th scope=col>Mean</th><th scope=col>3rd Qu.</th><th scope=col>Max.</th><th scope=col>sd</th><th scope=col>sd_err_of_mean</th></tr>\n",
       "</thead>\n",
       "<tbody>\n",
       "\t<tr><th scope=row>num_discordant</th><td>0</td><td>0</td><td>0</td><td>0.02253995</td><td>0</td><td>82</td><td>33.475</td><td>13.666</td></tr>\n",
       "</tbody>\n",
       "</table>\n"
      ],
      "text/latex": [
       "A matrix: 1 × 8 of type dbl\n",
       "\\begin{tabular}{r|llllllll}\n",
       "  & Min. & 1st Qu. & Median & Mean & 3rd Qu. & Max. & sd & sd\\_err\\_of\\_mean\\\\\n",
       "\\hline\n",
       "\tnum\\_discordant & 0 & 0 & 0 & 0.02253995 & 0 & 82 & 33.475 & 13.666\\\\\n",
       "\\end{tabular}\n"
      ],
      "text/markdown": [
       "\n",
       "A matrix: 1 × 8 of type dbl\n",
       "\n",
       "| <!--/--> | Min. | 1st Qu. | Median | Mean | 3rd Qu. | Max. | sd | sd_err_of_mean |\n",
       "|---|---|---|---|---|---|---|---|---|\n",
       "| num_discordant | 0 | 0 | 0 | 0.02253995 | 0 | 82 | 33.475 | 13.666 |\n",
       "\n"
      ],
      "text/plain": [
       "               Min. 1st Qu. Median Mean       3rd Qu. Max. sd    \n",
       "num_discordant 0    0       0      0.02253995 0       82   33.475\n",
       "               sd_err_of_mean\n",
       "num_discordant 13.666        "
      ]
     },
     "metadata": {},
     "output_type": "display_data"
    },
    {
     "data": {
      "text/html": [
       "<table class=\"dataframe\">\n",
       "<caption>A matrix: 1 × 8 of type dbl</caption>\n",
       "<thead>\n",
       "\t<tr><th></th><th scope=col>Min.</th><th scope=col>1st Qu.</th><th scope=col>Median</th><th scope=col>Mean</th><th scope=col>3rd Qu.</th><th scope=col>Max.</th><th scope=col>sd</th><th scope=col>sd_err_of_mean</th></tr>\n",
       "</thead>\n",
       "<tbody>\n",
       "\t<tr><th scope=row>num_discordant</th><td>0</td><td>0</td><td>0</td><td>0.0449501</td><td>0</td><td>164</td><td>66.949</td><td>27.332</td></tr>\n",
       "</tbody>\n",
       "</table>\n"
      ],
      "text/latex": [
       "A matrix: 1 × 8 of type dbl\n",
       "\\begin{tabular}{r|llllllll}\n",
       "  & Min. & 1st Qu. & Median & Mean & 3rd Qu. & Max. & sd & sd\\_err\\_of\\_mean\\\\\n",
       "\\hline\n",
       "\tnum\\_discordant & 0 & 0 & 0 & 0.0449501 & 0 & 164 & 66.949 & 27.332\\\\\n",
       "\\end{tabular}\n"
      ],
      "text/markdown": [
       "\n",
       "A matrix: 1 × 8 of type dbl\n",
       "\n",
       "| <!--/--> | Min. | 1st Qu. | Median | Mean | 3rd Qu. | Max. | sd | sd_err_of_mean |\n",
       "|---|---|---|---|---|---|---|---|---|\n",
       "| num_discordant | 0 | 0 | 0 | 0.0449501 | 0 | 164 | 66.949 | 27.332 |\n",
       "\n"
      ],
      "text/plain": [
       "               Min. 1st Qu. Median Mean      3rd Qu. Max. sd     sd_err_of_mean\n",
       "num_discordant 0    0       0      0.0449501 0       164  66.949 27.332        "
      ]
     },
     "metadata": {},
     "output_type": "display_data"
    }
   ],
   "source": [
    "summary_x(bam2feat_all$num_discordant)\n",
    "summary_x(bam2feat_red$num_discordant)"
   ]
  },
  {
   "cell_type": "markdown",
   "id": "ab977e95",
   "metadata": {},
   "source": [
    "### Match features"
   ]
  },
  {
   "cell_type": "code",
   "execution_count": 32,
   "id": "d1b693b3",
   "metadata": {
    "ExecuteTime": {
     "end_time": "2021-07-23T07:29:29.404096Z",
     "start_time": "2021-07-23T07:15:59.347Z"
    }
   },
   "outputs": [
    {
     "data": {
      "text/html": [
       "<table class=\"dataframe\">\n",
       "<caption>A matrix: 1 × 9 of type dbl</caption>\n",
       "<thead>\n",
       "\t<tr><th></th><th scope=col>Min.</th><th scope=col>1st Qu.</th><th scope=col>Median</th><th scope=col>Mean</th><th scope=col>3rd Qu.</th><th scope=col>Max.</th><th scope=col>NA's</th><th scope=col>sd</th><th scope=col>sd_err_of_mean</th></tr>\n",
       "</thead>\n",
       "<tbody>\n",
       "\t<tr><th scope=row>min_insert_size_Match</th><td>0</td><td>177</td><td>198</td><td>196.9123</td><td>221</td><td>1431</td><td>43849</td><td>16440.28</td><td>6213.84</td></tr>\n",
       "</tbody>\n",
       "</table>\n"
      ],
      "text/latex": [
       "A matrix: 1 × 9 of type dbl\n",
       "\\begin{tabular}{r|lllllllll}\n",
       "  & Min. & 1st Qu. & Median & Mean & 3rd Qu. & Max. & NA's & sd & sd\\_err\\_of\\_mean\\\\\n",
       "\\hline\n",
       "\tmin\\_insert\\_size\\_Match & 0 & 177 & 198 & 196.9123 & 221 & 1431 & 43849 & 16440.28 & 6213.84\\\\\n",
       "\\end{tabular}\n"
      ],
      "text/markdown": [
       "\n",
       "A matrix: 1 × 9 of type dbl\n",
       "\n",
       "| <!--/--> | Min. | 1st Qu. | Median | Mean | 3rd Qu. | Max. | NA's | sd | sd_err_of_mean |\n",
       "|---|---|---|---|---|---|---|---|---|---|\n",
       "| min_insert_size_Match | 0 | 177 | 198 | 196.9123 | 221 | 1431 | 43849 | 16440.28 | 6213.84 |\n",
       "\n"
      ],
      "text/plain": [
       "                      Min. 1st Qu. Median Mean     3rd Qu. Max. NA's  sd      \n",
       "min_insert_size_Match 0    177     198    196.9123 221     1431 43849 16440.28\n",
       "                      sd_err_of_mean\n",
       "min_insert_size_Match 6213.84       "
      ]
     },
     "metadata": {},
     "output_type": "display_data"
    },
    {
     "data": {
      "text/html": [
       "<table class=\"dataframe\">\n",
       "<caption>A matrix: 1 × 9 of type dbl</caption>\n",
       "<thead>\n",
       "\t<tr><th></th><th scope=col>Min.</th><th scope=col>1st Qu.</th><th scope=col>Median</th><th scope=col>Mean</th><th scope=col>3rd Qu.</th><th scope=col>Max.</th><th scope=col>NA's</th><th scope=col>sd</th><th scope=col>sd_err_of_mean</th></tr>\n",
       "</thead>\n",
       "<tbody>\n",
       "\t<tr><th scope=row>min_insert_size_Match</th><td>0</td><td>177</td><td>198</td><td>196.9123</td><td>221</td><td>1431</td><td>43849</td><td>16440.28</td><td>6213.84</td></tr>\n",
       "</tbody>\n",
       "</table>\n"
      ],
      "text/latex": [
       "A matrix: 1 × 9 of type dbl\n",
       "\\begin{tabular}{r|lllllllll}\n",
       "  & Min. & 1st Qu. & Median & Mean & 3rd Qu. & Max. & NA's & sd & sd\\_err\\_of\\_mean\\\\\n",
       "\\hline\n",
       "\tmin\\_insert\\_size\\_Match & 0 & 177 & 198 & 196.9123 & 221 & 1431 & 43849 & 16440.28 & 6213.84\\\\\n",
       "\\end{tabular}\n"
      ],
      "text/markdown": [
       "\n",
       "A matrix: 1 × 9 of type dbl\n",
       "\n",
       "| <!--/--> | Min. | 1st Qu. | Median | Mean | 3rd Qu. | Max. | NA's | sd | sd_err_of_mean |\n",
       "|---|---|---|---|---|---|---|---|---|---|\n",
       "| min_insert_size_Match | 0 | 177 | 198 | 196.9123 | 221 | 1431 | 43849 | 16440.28 | 6213.84 |\n",
       "\n"
      ],
      "text/plain": [
       "                      Min. 1st Qu. Median Mean     3rd Qu. Max. NA's  sd      \n",
       "min_insert_size_Match 0    177     198    196.9123 221     1431 43849 16440.28\n",
       "                      sd_err_of_mean\n",
       "min_insert_size_Match 6213.84       "
      ]
     },
     "metadata": {},
     "output_type": "display_data"
    }
   ],
   "source": [
    "summary_x(bam2feat_all$min_insert_size_Match)\n",
    "summary_x(bam2feat_red$min_insert_size_Match)"
   ]
  },
  {
   "cell_type": "code",
   "execution_count": 33,
   "id": "76b9a6b9",
   "metadata": {
    "ExecuteTime": {
     "end_time": "2021-07-23T07:30:01.535392Z",
     "start_time": "2021-07-23T07:16:04.090Z"
    }
   },
   "outputs": [
    {
     "data": {
      "text/html": [
       "<table class=\"dataframe\">\n",
       "<caption>A matrix: 1 × 9 of type dbl</caption>\n",
       "<thead>\n",
       "\t<tr><th></th><th scope=col>Min.</th><th scope=col>1st Qu.</th><th scope=col>Median</th><th scope=col>Mean</th><th scope=col>3rd Qu.</th><th scope=col>Max.</th><th scope=col>NA's</th><th scope=col>sd</th><th scope=col>sd_err_of_mean</th></tr>\n",
       "</thead>\n",
       "<tbody>\n",
       "\t<tr><th scope=row>mean_insert_size_Match</th><td>0</td><td>259</td><td>270.04</td><td>267.5083</td><td>280.8</td><td>1431</td><td>43849</td><td>16421.9</td><td>6206.894</td></tr>\n",
       "</tbody>\n",
       "</table>\n"
      ],
      "text/latex": [
       "A matrix: 1 × 9 of type dbl\n",
       "\\begin{tabular}{r|lllllllll}\n",
       "  & Min. & 1st Qu. & Median & Mean & 3rd Qu. & Max. & NA's & sd & sd\\_err\\_of\\_mean\\\\\n",
       "\\hline\n",
       "\tmean\\_insert\\_size\\_Match & 0 & 259 & 270.04 & 267.5083 & 280.8 & 1431 & 43849 & 16421.9 & 6206.894\\\\\n",
       "\\end{tabular}\n"
      ],
      "text/markdown": [
       "\n",
       "A matrix: 1 × 9 of type dbl\n",
       "\n",
       "| <!--/--> | Min. | 1st Qu. | Median | Mean | 3rd Qu. | Max. | NA's | sd | sd_err_of_mean |\n",
       "|---|---|---|---|---|---|---|---|---|---|\n",
       "| mean_insert_size_Match | 0 | 259 | 270.04 | 267.5083 | 280.8 | 1431 | 43849 | 16421.9 | 6206.894 |\n",
       "\n"
      ],
      "text/plain": [
       "                       Min. 1st Qu. Median Mean     3rd Qu. Max. NA's  sd     \n",
       "mean_insert_size_Match 0    259     270.04 267.5083 280.8   1431 43849 16421.9\n",
       "                       sd_err_of_mean\n",
       "mean_insert_size_Match 6206.894      "
      ]
     },
     "metadata": {},
     "output_type": "display_data"
    },
    {
     "data": {
      "text/html": [
       "<table class=\"dataframe\">\n",
       "<caption>A matrix: 1 × 9 of type dbl</caption>\n",
       "<thead>\n",
       "\t<tr><th></th><th scope=col>Min.</th><th scope=col>1st Qu.</th><th scope=col>Median</th><th scope=col>Mean</th><th scope=col>3rd Qu.</th><th scope=col>Max.</th><th scope=col>NA's</th><th scope=col>sd</th><th scope=col>sd_err_of_mean</th></tr>\n",
       "</thead>\n",
       "<tbody>\n",
       "\t<tr><th scope=row>mean_insert_size_Match</th><td>0</td><td>259</td><td>270.04</td><td>267.5083</td><td>280.8</td><td>1431</td><td>43849</td><td>16421.9</td><td>6206.894</td></tr>\n",
       "</tbody>\n",
       "</table>\n"
      ],
      "text/latex": [
       "A matrix: 1 × 9 of type dbl\n",
       "\\begin{tabular}{r|lllllllll}\n",
       "  & Min. & 1st Qu. & Median & Mean & 3rd Qu. & Max. & NA's & sd & sd\\_err\\_of\\_mean\\\\\n",
       "\\hline\n",
       "\tmean\\_insert\\_size\\_Match & 0 & 259 & 270.04 & 267.5083 & 280.8 & 1431 & 43849 & 16421.9 & 6206.894\\\\\n",
       "\\end{tabular}\n"
      ],
      "text/markdown": [
       "\n",
       "A matrix: 1 × 9 of type dbl\n",
       "\n",
       "| <!--/--> | Min. | 1st Qu. | Median | Mean | 3rd Qu. | Max. | NA's | sd | sd_err_of_mean |\n",
       "|---|---|---|---|---|---|---|---|---|---|\n",
       "| mean_insert_size_Match | 0 | 259 | 270.04 | 267.5083 | 280.8 | 1431 | 43849 | 16421.9 | 6206.894 |\n",
       "\n"
      ],
      "text/plain": [
       "                       Min. 1st Qu. Median Mean     3rd Qu. Max. NA's  sd     \n",
       "mean_insert_size_Match 0    259     270.04 267.5083 280.8   1431 43849 16421.9\n",
       "                       sd_err_of_mean\n",
       "mean_insert_size_Match 6206.894      "
      ]
     },
     "metadata": {},
     "output_type": "display_data"
    }
   ],
   "source": [
    "summary_x(bam2feat_all$mean_insert_size_Match)\n",
    "summary_x(bam2feat_red$mean_insert_size_Match)"
   ]
  },
  {
   "cell_type": "code",
   "execution_count": 34,
   "id": "edc732df",
   "metadata": {
    "ExecuteTime": {
     "end_time": "2021-07-23T07:30:32.628819Z",
     "start_time": "2021-07-23T07:16:09.185Z"
    }
   },
   "outputs": [
    {
     "data": {
      "text/html": [
       "<table class=\"dataframe\">\n",
       "<caption>A matrix: 1 × 9 of type dbl</caption>\n",
       "<thead>\n",
       "\t<tr><th></th><th scope=col>Min.</th><th scope=col>1st Qu.</th><th scope=col>Median</th><th scope=col>Mean</th><th scope=col>3rd Qu.</th><th scope=col>Max.</th><th scope=col>NA's</th><th scope=col>sd</th><th scope=col>sd_err_of_mean</th></tr>\n",
       "</thead>\n",
       "<tbody>\n",
       "\t<tr><th scope=row>stdev_insert_size_Match</th><td>0</td><td>39.09</td><td>46.94</td><td>48.39053</td><td>54.77</td><td>1400.4</td><td>2568304</td><td>970627.7</td><td>366862.8</td></tr>\n",
       "</tbody>\n",
       "</table>\n"
      ],
      "text/latex": [
       "A matrix: 1 × 9 of type dbl\n",
       "\\begin{tabular}{r|lllllllll}\n",
       "  & Min. & 1st Qu. & Median & Mean & 3rd Qu. & Max. & NA's & sd & sd\\_err\\_of\\_mean\\\\\n",
       "\\hline\n",
       "\tstdev\\_insert\\_size\\_Match & 0 & 39.09 & 46.94 & 48.39053 & 54.77 & 1400.4 & 2568304 & 970627.7 & 366862.8\\\\\n",
       "\\end{tabular}\n"
      ],
      "text/markdown": [
       "\n",
       "A matrix: 1 × 9 of type dbl\n",
       "\n",
       "| <!--/--> | Min. | 1st Qu. | Median | Mean | 3rd Qu. | Max. | NA's | sd | sd_err_of_mean |\n",
       "|---|---|---|---|---|---|---|---|---|---|\n",
       "| stdev_insert_size_Match | 0 | 39.09 | 46.94 | 48.39053 | 54.77 | 1400.4 | 2568304 | 970627.7 | 366862.8 |\n",
       "\n"
      ],
      "text/plain": [
       "                        Min. 1st Qu. Median Mean     3rd Qu. Max.   NA's   \n",
       "stdev_insert_size_Match 0    39.09   46.94  48.39053 54.77   1400.4 2568304\n",
       "                        sd       sd_err_of_mean\n",
       "stdev_insert_size_Match 970627.7 366862.8      "
      ]
     },
     "metadata": {},
     "output_type": "display_data"
    },
    {
     "data": {
      "text/html": [
       "<table class=\"dataframe\">\n",
       "<caption>A matrix: 1 × 9 of type dbl</caption>\n",
       "<thead>\n",
       "\t<tr><th></th><th scope=col>Min.</th><th scope=col>1st Qu.</th><th scope=col>Median</th><th scope=col>Mean</th><th scope=col>3rd Qu.</th><th scope=col>Max.</th><th scope=col>NA's</th><th scope=col>sd</th><th scope=col>sd_err_of_mean</th></tr>\n",
       "</thead>\n",
       "<tbody>\n",
       "\t<tr><th scope=row>stdev_insert_size_Match</th><td>0</td><td>39.09</td><td>46.94</td><td>48.39053</td><td>54.77</td><td>1400.4</td><td>2568304</td><td>970627.7</td><td>366862.8</td></tr>\n",
       "</tbody>\n",
       "</table>\n"
      ],
      "text/latex": [
       "A matrix: 1 × 9 of type dbl\n",
       "\\begin{tabular}{r|lllllllll}\n",
       "  & Min. & 1st Qu. & Median & Mean & 3rd Qu. & Max. & NA's & sd & sd\\_err\\_of\\_mean\\\\\n",
       "\\hline\n",
       "\tstdev\\_insert\\_size\\_Match & 0 & 39.09 & 46.94 & 48.39053 & 54.77 & 1400.4 & 2568304 & 970627.7 & 366862.8\\\\\n",
       "\\end{tabular}\n"
      ],
      "text/markdown": [
       "\n",
       "A matrix: 1 × 9 of type dbl\n",
       "\n",
       "| <!--/--> | Min. | 1st Qu. | Median | Mean | 3rd Qu. | Max. | NA's | sd | sd_err_of_mean |\n",
       "|---|---|---|---|---|---|---|---|---|---|\n",
       "| stdev_insert_size_Match | 0 | 39.09 | 46.94 | 48.39053 | 54.77 | 1400.4 | 2568304 | 970627.7 | 366862.8 |\n",
       "\n"
      ],
      "text/plain": [
       "                        Min. 1st Qu. Median Mean     3rd Qu. Max.   NA's   \n",
       "stdev_insert_size_Match 0    39.09   46.94  48.39053 54.77   1400.4 2568304\n",
       "                        sd       sd_err_of_mean\n",
       "stdev_insert_size_Match 970627.7 366862.8      "
      ]
     },
     "metadata": {},
     "output_type": "display_data"
    }
   ],
   "source": [
    "summary_x(bam2feat_all$stdev_insert_size_Match)\n",
    "summary_x(bam2feat_red$stdev_insert_size_Match)"
   ]
  },
  {
   "cell_type": "code",
   "execution_count": 35,
   "id": "b8888f3b",
   "metadata": {
    "ExecuteTime": {
     "end_time": "2021-07-23T07:30:44.275090Z",
     "start_time": "2021-07-23T07:16:13.170Z"
    }
   },
   "outputs": [
    {
     "data": {
      "text/html": [
       "<table class=\"dataframe\">\n",
       "<caption>A matrix: 1 × 9 of type dbl</caption>\n",
       "<thead>\n",
       "\t<tr><th></th><th scope=col>Min.</th><th scope=col>1st Qu.</th><th scope=col>Median</th><th scope=col>Mean</th><th scope=col>3rd Qu.</th><th scope=col>Max.</th><th scope=col>NA's</th><th scope=col>sd</th><th scope=col>sd_err_of_mean</th></tr>\n",
       "</thead>\n",
       "<tbody>\n",
       "\t<tr><th scope=row>max_insert_size_Match</th><td>0</td><td>324</td><td>347</td><td>343.677</td><td>369</td><td>3026</td><td>43849</td><td>16328.25</td><td>6171.5</td></tr>\n",
       "</tbody>\n",
       "</table>\n"
      ],
      "text/latex": [
       "A matrix: 1 × 9 of type dbl\n",
       "\\begin{tabular}{r|lllllllll}\n",
       "  & Min. & 1st Qu. & Median & Mean & 3rd Qu. & Max. & NA's & sd & sd\\_err\\_of\\_mean\\\\\n",
       "\\hline\n",
       "\tmax\\_insert\\_size\\_Match & 0 & 324 & 347 & 343.677 & 369 & 3026 & 43849 & 16328.25 & 6171.5\\\\\n",
       "\\end{tabular}\n"
      ],
      "text/markdown": [
       "\n",
       "A matrix: 1 × 9 of type dbl\n",
       "\n",
       "| <!--/--> | Min. | 1st Qu. | Median | Mean | 3rd Qu. | Max. | NA's | sd | sd_err_of_mean |\n",
       "|---|---|---|---|---|---|---|---|---|---|\n",
       "| max_insert_size_Match | 0 | 324 | 347 | 343.677 | 369 | 3026 | 43849 | 16328.25 | 6171.5 |\n",
       "\n"
      ],
      "text/plain": [
       "                      Min. 1st Qu. Median Mean    3rd Qu. Max. NA's  sd      \n",
       "max_insert_size_Match 0    324     347    343.677 369     3026 43849 16328.25\n",
       "                      sd_err_of_mean\n",
       "max_insert_size_Match 6171.5        "
      ]
     },
     "metadata": {},
     "output_type": "display_data"
    },
    {
     "data": {
      "text/html": [
       "<table class=\"dataframe\">\n",
       "<caption>A matrix: 1 × 9 of type dbl</caption>\n",
       "<thead>\n",
       "\t<tr><th></th><th scope=col>Min.</th><th scope=col>1st Qu.</th><th scope=col>Median</th><th scope=col>Mean</th><th scope=col>3rd Qu.</th><th scope=col>Max.</th><th scope=col>NA's</th><th scope=col>sd</th><th scope=col>sd_err_of_mean</th></tr>\n",
       "</thead>\n",
       "<tbody>\n",
       "\t<tr><th scope=row>max_insert_size_Match</th><td>0</td><td>324</td><td>347</td><td>343.677</td><td>369</td><td>3026</td><td>43849</td><td>16328.25</td><td>6171.5</td></tr>\n",
       "</tbody>\n",
       "</table>\n"
      ],
      "text/latex": [
       "A matrix: 1 × 9 of type dbl\n",
       "\\begin{tabular}{r|lllllllll}\n",
       "  & Min. & 1st Qu. & Median & Mean & 3rd Qu. & Max. & NA's & sd & sd\\_err\\_of\\_mean\\\\\n",
       "\\hline\n",
       "\tmax\\_insert\\_size\\_Match & 0 & 324 & 347 & 343.677 & 369 & 3026 & 43849 & 16328.25 & 6171.5\\\\\n",
       "\\end{tabular}\n"
      ],
      "text/markdown": [
       "\n",
       "A matrix: 1 × 9 of type dbl\n",
       "\n",
       "| <!--/--> | Min. | 1st Qu. | Median | Mean | 3rd Qu. | Max. | NA's | sd | sd_err_of_mean |\n",
       "|---|---|---|---|---|---|---|---|---|---|\n",
       "| max_insert_size_Match | 0 | 324 | 347 | 343.677 | 369 | 3026 | 43849 | 16328.25 | 6171.5 |\n",
       "\n"
      ],
      "text/plain": [
       "                      Min. 1st Qu. Median Mean    3rd Qu. Max. NA's  sd      \n",
       "max_insert_size_Match 0    324     347    343.677 369     3026 43849 16328.25\n",
       "                      sd_err_of_mean\n",
       "max_insert_size_Match 6171.5        "
      ]
     },
     "metadata": {},
     "output_type": "display_data"
    }
   ],
   "source": [
    "summary_x(bam2feat_all$max_insert_size_Match)\n",
    "summary_x(bam2feat_red$max_insert_size_Match)"
   ]
  },
  {
   "cell_type": "code",
   "execution_count": 36,
   "id": "fed208b2",
   "metadata": {
    "ExecuteTime": {
     "end_time": "2021-07-23T07:30:53.157552Z",
     "start_time": "2021-07-23T07:16:17.490Z"
    }
   },
   "outputs": [
    {
     "data": {
      "text/html": [
       "<table class=\"dataframe\">\n",
       "<caption>A matrix: 1 × 8 of type dbl</caption>\n",
       "<thead>\n",
       "\t<tr><th></th><th scope=col>Min.</th><th scope=col>1st Qu.</th><th scope=col>Median</th><th scope=col>Mean</th><th scope=col>3rd Qu.</th><th scope=col>Max.</th><th scope=col>sd</th><th scope=col>sd_err_of_mean</th></tr>\n",
       "</thead>\n",
       "<tbody>\n",
       "\t<tr><th scope=row>num_orphans_Match</th><td>0</td><td>0</td><td>0</td><td>0.02239455</td><td>0</td><td>19</td><td>7.755</td><td>3.166</td></tr>\n",
       "</tbody>\n",
       "</table>\n"
      ],
      "text/latex": [
       "A matrix: 1 × 8 of type dbl\n",
       "\\begin{tabular}{r|llllllll}\n",
       "  & Min. & 1st Qu. & Median & Mean & 3rd Qu. & Max. & sd & sd\\_err\\_of\\_mean\\\\\n",
       "\\hline\n",
       "\tnum\\_orphans\\_Match & 0 & 0 & 0 & 0.02239455 & 0 & 19 & 7.755 & 3.166\\\\\n",
       "\\end{tabular}\n"
      ],
      "text/markdown": [
       "\n",
       "A matrix: 1 × 8 of type dbl\n",
       "\n",
       "| <!--/--> | Min. | 1st Qu. | Median | Mean | 3rd Qu. | Max. | sd | sd_err_of_mean |\n",
       "|---|---|---|---|---|---|---|---|---|\n",
       "| num_orphans_Match | 0 | 0 | 0 | 0.02239455 | 0 | 19 | 7.755 | 3.166 |\n",
       "\n"
      ],
      "text/plain": [
       "                  Min. 1st Qu. Median Mean       3rd Qu. Max. sd   \n",
       "num_orphans_Match 0    0       0      0.02239455 0       19   7.755\n",
       "                  sd_err_of_mean\n",
       "num_orphans_Match 3.166         "
      ]
     },
     "metadata": {},
     "output_type": "display_data"
    },
    {
     "data": {
      "text/html": [
       "<table class=\"dataframe\">\n",
       "<caption>A matrix: 1 × 8 of type dbl</caption>\n",
       "<thead>\n",
       "\t<tr><th></th><th scope=col>Min.</th><th scope=col>1st Qu.</th><th scope=col>Median</th><th scope=col>Mean</th><th scope=col>3rd Qu.</th><th scope=col>Max.</th><th scope=col>sd</th><th scope=col>sd_err_of_mean</th></tr>\n",
       "</thead>\n",
       "<tbody>\n",
       "\t<tr><th scope=row>num_orphans_Match</th><td>0</td><td>0</td><td>0</td><td>0.02239455</td><td>0</td><td>19</td><td>7.755</td><td>3.166</td></tr>\n",
       "</tbody>\n",
       "</table>\n"
      ],
      "text/latex": [
       "A matrix: 1 × 8 of type dbl\n",
       "\\begin{tabular}{r|llllllll}\n",
       "  & Min. & 1st Qu. & Median & Mean & 3rd Qu. & Max. & sd & sd\\_err\\_of\\_mean\\\\\n",
       "\\hline\n",
       "\tnum\\_orphans\\_Match & 0 & 0 & 0 & 0.02239455 & 0 & 19 & 7.755 & 3.166\\\\\n",
       "\\end{tabular}\n"
      ],
      "text/markdown": [
       "\n",
       "A matrix: 1 × 8 of type dbl\n",
       "\n",
       "| <!--/--> | Min. | 1st Qu. | Median | Mean | 3rd Qu. | Max. | sd | sd_err_of_mean |\n",
       "|---|---|---|---|---|---|---|---|---|\n",
       "| num_orphans_Match | 0 | 0 | 0 | 0.02239455 | 0 | 19 | 7.755 | 3.166 |\n",
       "\n"
      ],
      "text/plain": [
       "                  Min. 1st Qu. Median Mean       3rd Qu. Max. sd   \n",
       "num_orphans_Match 0    0       0      0.02239455 0       19   7.755\n",
       "                  sd_err_of_mean\n",
       "num_orphans_Match 3.166         "
      ]
     },
     "metadata": {},
     "output_type": "display_data"
    }
   ],
   "source": [
    "summary_x(bam2feat_all$num_orphans_Match)\n",
    "summary_x(bam2feat_red$num_orphans_Match)"
   ]
  },
  {
   "cell_type": "code",
   "execution_count": 37,
   "id": "b87b1925",
   "metadata": {
    "ExecuteTime": {
     "end_time": "2021-07-23T07:31:02.982948Z",
     "start_time": "2021-07-23T07:16:21.642Z"
    }
   },
   "outputs": [
    {
     "data": {
      "text/html": [
       "<table class=\"dataframe\">\n",
       "<caption>A matrix: 1 × 9 of type dbl</caption>\n",
       "<thead>\n",
       "\t<tr><th></th><th scope=col>Min.</th><th scope=col>1st Qu.</th><th scope=col>Median</th><th scope=col>Mean</th><th scope=col>3rd Qu.</th><th scope=col>Max.</th><th scope=col>NA's</th><th scope=col>sd</th><th scope=col>sd_err_of_mean</th></tr>\n",
       "</thead>\n",
       "<tbody>\n",
       "\t<tr><th scope=row>min_mapq_Match</th><td>0</td><td>42</td><td>42</td><td>41.8226</td><td>42</td><td>42</td><td>43849</td><td>16560.15</td><td>6259.15</td></tr>\n",
       "</tbody>\n",
       "</table>\n"
      ],
      "text/latex": [
       "A matrix: 1 × 9 of type dbl\n",
       "\\begin{tabular}{r|lllllllll}\n",
       "  & Min. & 1st Qu. & Median & Mean & 3rd Qu. & Max. & NA's & sd & sd\\_err\\_of\\_mean\\\\\n",
       "\\hline\n",
       "\tmin\\_mapq\\_Match & 0 & 42 & 42 & 41.8226 & 42 & 42 & 43849 & 16560.15 & 6259.15\\\\\n",
       "\\end{tabular}\n"
      ],
      "text/markdown": [
       "\n",
       "A matrix: 1 × 9 of type dbl\n",
       "\n",
       "| <!--/--> | Min. | 1st Qu. | Median | Mean | 3rd Qu. | Max. | NA's | sd | sd_err_of_mean |\n",
       "|---|---|---|---|---|---|---|---|---|---|\n",
       "| min_mapq_Match | 0 | 42 | 42 | 41.8226 | 42 | 42 | 43849 | 16560.15 | 6259.15 |\n",
       "\n"
      ],
      "text/plain": [
       "               Min. 1st Qu. Median Mean    3rd Qu. Max. NA's  sd      \n",
       "min_mapq_Match 0    42      42     41.8226 42      42   43849 16560.15\n",
       "               sd_err_of_mean\n",
       "min_mapq_Match 6259.15       "
      ]
     },
     "metadata": {},
     "output_type": "display_data"
    },
    {
     "data": {
      "text/html": [
       "<table class=\"dataframe\">\n",
       "<caption>A matrix: 1 × 9 of type dbl</caption>\n",
       "<thead>\n",
       "\t<tr><th></th><th scope=col>Min.</th><th scope=col>1st Qu.</th><th scope=col>Median</th><th scope=col>Mean</th><th scope=col>3rd Qu.</th><th scope=col>Max.</th><th scope=col>NA's</th><th scope=col>sd</th><th scope=col>sd_err_of_mean</th></tr>\n",
       "</thead>\n",
       "<tbody>\n",
       "\t<tr><th scope=row>min_mapq_Match</th><td>0</td><td>42</td><td>42</td><td>41.8226</td><td>42</td><td>42</td><td>43849</td><td>16560.15</td><td>6259.15</td></tr>\n",
       "</tbody>\n",
       "</table>\n"
      ],
      "text/latex": [
       "A matrix: 1 × 9 of type dbl\n",
       "\\begin{tabular}{r|lllllllll}\n",
       "  & Min. & 1st Qu. & Median & Mean & 3rd Qu. & Max. & NA's & sd & sd\\_err\\_of\\_mean\\\\\n",
       "\\hline\n",
       "\tmin\\_mapq\\_Match & 0 & 42 & 42 & 41.8226 & 42 & 42 & 43849 & 16560.15 & 6259.15\\\\\n",
       "\\end{tabular}\n"
      ],
      "text/markdown": [
       "\n",
       "A matrix: 1 × 9 of type dbl\n",
       "\n",
       "| <!--/--> | Min. | 1st Qu. | Median | Mean | 3rd Qu. | Max. | NA's | sd | sd_err_of_mean |\n",
       "|---|---|---|---|---|---|---|---|---|---|\n",
       "| min_mapq_Match | 0 | 42 | 42 | 41.8226 | 42 | 42 | 43849 | 16560.15 | 6259.15 |\n",
       "\n"
      ],
      "text/plain": [
       "               Min. 1st Qu. Median Mean    3rd Qu. Max. NA's  sd      \n",
       "min_mapq_Match 0    42      42     41.8226 42      42   43849 16560.15\n",
       "               sd_err_of_mean\n",
       "min_mapq_Match 6259.15       "
      ]
     },
     "metadata": {},
     "output_type": "display_data"
    }
   ],
   "source": [
    "summary_x(bam2feat_all$min_mapq_Match)\n",
    "summary_x(bam2feat_red$min_mapq_Match)"
   ]
  },
  {
   "cell_type": "code",
   "execution_count": 38,
   "id": "1bb6e0c0",
   "metadata": {
    "ExecuteTime": {
     "end_time": "2021-07-23T07:31:31.966651Z",
     "start_time": "2021-07-23T07:16:28.050Z"
    }
   },
   "outputs": [
    {
     "data": {
      "text/html": [
       "<table class=\"dataframe\">\n",
       "<caption>A matrix: 1 × 9 of type dbl</caption>\n",
       "<thead>\n",
       "\t<tr><th></th><th scope=col>Min.</th><th scope=col>1st Qu.</th><th scope=col>Median</th><th scope=col>Mean</th><th scope=col>3rd Qu.</th><th scope=col>Max.</th><th scope=col>NA's</th><th scope=col>sd</th><th scope=col>sd_err_of_mean</th></tr>\n",
       "</thead>\n",
       "<tbody>\n",
       "\t<tr><th scope=row>mean_mapq_Match</th><td>0</td><td>42</td><td>42</td><td>41.94913</td><td>42</td><td>42</td><td>43849</td><td>16560.15</td><td>6259.147</td></tr>\n",
       "</tbody>\n",
       "</table>\n"
      ],
      "text/latex": [
       "A matrix: 1 × 9 of type dbl\n",
       "\\begin{tabular}{r|lllllllll}\n",
       "  & Min. & 1st Qu. & Median & Mean & 3rd Qu. & Max. & NA's & sd & sd\\_err\\_of\\_mean\\\\\n",
       "\\hline\n",
       "\tmean\\_mapq\\_Match & 0 & 42 & 42 & 41.94913 & 42 & 42 & 43849 & 16560.15 & 6259.147\\\\\n",
       "\\end{tabular}\n"
      ],
      "text/markdown": [
       "\n",
       "A matrix: 1 × 9 of type dbl\n",
       "\n",
       "| <!--/--> | Min. | 1st Qu. | Median | Mean | 3rd Qu. | Max. | NA's | sd | sd_err_of_mean |\n",
       "|---|---|---|---|---|---|---|---|---|---|\n",
       "| mean_mapq_Match | 0 | 42 | 42 | 41.94913 | 42 | 42 | 43849 | 16560.15 | 6259.147 |\n",
       "\n"
      ],
      "text/plain": [
       "                Min. 1st Qu. Median Mean     3rd Qu. Max. NA's  sd      \n",
       "mean_mapq_Match 0    42      42     41.94913 42      42   43849 16560.15\n",
       "                sd_err_of_mean\n",
       "mean_mapq_Match 6259.147      "
      ]
     },
     "metadata": {},
     "output_type": "display_data"
    },
    {
     "data": {
      "text/html": [
       "<table class=\"dataframe\">\n",
       "<caption>A matrix: 1 × 9 of type dbl</caption>\n",
       "<thead>\n",
       "\t<tr><th></th><th scope=col>Min.</th><th scope=col>1st Qu.</th><th scope=col>Median</th><th scope=col>Mean</th><th scope=col>3rd Qu.</th><th scope=col>Max.</th><th scope=col>NA's</th><th scope=col>sd</th><th scope=col>sd_err_of_mean</th></tr>\n",
       "</thead>\n",
       "<tbody>\n",
       "\t<tr><th scope=row>mean_mapq_Match</th><td>0</td><td>42</td><td>42</td><td>41.94913</td><td>42</td><td>42</td><td>43849</td><td>16560.15</td><td>6259.147</td></tr>\n",
       "</tbody>\n",
       "</table>\n"
      ],
      "text/latex": [
       "A matrix: 1 × 9 of type dbl\n",
       "\\begin{tabular}{r|lllllllll}\n",
       "  & Min. & 1st Qu. & Median & Mean & 3rd Qu. & Max. & NA's & sd & sd\\_err\\_of\\_mean\\\\\n",
       "\\hline\n",
       "\tmean\\_mapq\\_Match & 0 & 42 & 42 & 41.94913 & 42 & 42 & 43849 & 16560.15 & 6259.147\\\\\n",
       "\\end{tabular}\n"
      ],
      "text/markdown": [
       "\n",
       "A matrix: 1 × 9 of type dbl\n",
       "\n",
       "| <!--/--> | Min. | 1st Qu. | Median | Mean | 3rd Qu. | Max. | NA's | sd | sd_err_of_mean |\n",
       "|---|---|---|---|---|---|---|---|---|---|\n",
       "| mean_mapq_Match | 0 | 42 | 42 | 41.94913 | 42 | 42 | 43849 | 16560.15 | 6259.147 |\n",
       "\n"
      ],
      "text/plain": [
       "                Min. 1st Qu. Median Mean     3rd Qu. Max. NA's  sd      \n",
       "mean_mapq_Match 0    42      42     41.94913 42      42   43849 16560.15\n",
       "                sd_err_of_mean\n",
       "mean_mapq_Match 6259.147      "
      ]
     },
     "metadata": {},
     "output_type": "display_data"
    }
   ],
   "source": [
    "summary_x(bam2feat_all$mean_mapq_Match)\n",
    "summary_x(bam2feat_red$mean_mapq_Match)"
   ]
  },
  {
   "cell_type": "code",
   "execution_count": 39,
   "id": "6188e3e8",
   "metadata": {
    "ExecuteTime": {
     "end_time": "2021-07-23T07:31:53.915071Z",
     "start_time": "2021-07-23T07:16:33.450Z"
    }
   },
   "outputs": [
    {
     "data": {
      "text/html": [
       "<table class=\"dataframe\">\n",
       "<caption>A matrix: 1 × 9 of type dbl</caption>\n",
       "<thead>\n",
       "\t<tr><th></th><th scope=col>Min.</th><th scope=col>1st Qu.</th><th scope=col>Median</th><th scope=col>Mean</th><th scope=col>3rd Qu.</th><th scope=col>Max.</th><th scope=col>NA's</th><th scope=col>sd</th><th scope=col>sd_err_of_mean</th></tr>\n",
       "</thead>\n",
       "<tbody>\n",
       "\t<tr><th scope=row>stdev_mapq_Match</th><td>0</td><td>0</td><td>0</td><td>0.06554684</td><td>0</td><td>29.7</td><td>2568304</td><td>970725.8</td><td>366899.9</td></tr>\n",
       "</tbody>\n",
       "</table>\n"
      ],
      "text/latex": [
       "A matrix: 1 × 9 of type dbl\n",
       "\\begin{tabular}{r|lllllllll}\n",
       "  & Min. & 1st Qu. & Median & Mean & 3rd Qu. & Max. & NA's & sd & sd\\_err\\_of\\_mean\\\\\n",
       "\\hline\n",
       "\tstdev\\_mapq\\_Match & 0 & 0 & 0 & 0.06554684 & 0 & 29.7 & 2568304 & 970725.8 & 366899.9\\\\\n",
       "\\end{tabular}\n"
      ],
      "text/markdown": [
       "\n",
       "A matrix: 1 × 9 of type dbl\n",
       "\n",
       "| <!--/--> | Min. | 1st Qu. | Median | Mean | 3rd Qu. | Max. | NA's | sd | sd_err_of_mean |\n",
       "|---|---|---|---|---|---|---|---|---|---|\n",
       "| stdev_mapq_Match | 0 | 0 | 0 | 0.06554684 | 0 | 29.7 | 2568304 | 970725.8 | 366899.9 |\n",
       "\n"
      ],
      "text/plain": [
       "                 Min. 1st Qu. Median Mean       3rd Qu. Max. NA's    sd      \n",
       "stdev_mapq_Match 0    0       0      0.06554684 0       29.7 2568304 970725.8\n",
       "                 sd_err_of_mean\n",
       "stdev_mapq_Match 366899.9      "
      ]
     },
     "metadata": {},
     "output_type": "display_data"
    },
    {
     "data": {
      "text/html": [
       "<table class=\"dataframe\">\n",
       "<caption>A matrix: 1 × 9 of type dbl</caption>\n",
       "<thead>\n",
       "\t<tr><th></th><th scope=col>Min.</th><th scope=col>1st Qu.</th><th scope=col>Median</th><th scope=col>Mean</th><th scope=col>3rd Qu.</th><th scope=col>Max.</th><th scope=col>NA's</th><th scope=col>sd</th><th scope=col>sd_err_of_mean</th></tr>\n",
       "</thead>\n",
       "<tbody>\n",
       "\t<tr><th scope=row>stdev_mapq_Match</th><td>0</td><td>0</td><td>0</td><td>0.06554684</td><td>0</td><td>29.7</td><td>2568304</td><td>970725.8</td><td>366899.9</td></tr>\n",
       "</tbody>\n",
       "</table>\n"
      ],
      "text/latex": [
       "A matrix: 1 × 9 of type dbl\n",
       "\\begin{tabular}{r|lllllllll}\n",
       "  & Min. & 1st Qu. & Median & Mean & 3rd Qu. & Max. & NA's & sd & sd\\_err\\_of\\_mean\\\\\n",
       "\\hline\n",
       "\tstdev\\_mapq\\_Match & 0 & 0 & 0 & 0.06554684 & 0 & 29.7 & 2568304 & 970725.8 & 366899.9\\\\\n",
       "\\end{tabular}\n"
      ],
      "text/markdown": [
       "\n",
       "A matrix: 1 × 9 of type dbl\n",
       "\n",
       "| <!--/--> | Min. | 1st Qu. | Median | Mean | 3rd Qu. | Max. | NA's | sd | sd_err_of_mean |\n",
       "|---|---|---|---|---|---|---|---|---|---|\n",
       "| stdev_mapq_Match | 0 | 0 | 0 | 0.06554684 | 0 | 29.7 | 2568304 | 970725.8 | 366899.9 |\n",
       "\n"
      ],
      "text/plain": [
       "                 Min. 1st Qu. Median Mean       3rd Qu. Max. NA's    sd      \n",
       "stdev_mapq_Match 0    0       0      0.06554684 0       29.7 2568304 970725.8\n",
       "                 sd_err_of_mean\n",
       "stdev_mapq_Match 366899.9      "
      ]
     },
     "metadata": {},
     "output_type": "display_data"
    }
   ],
   "source": [
    "summary_x(bam2feat_all$stdev_mapq_Match)\n",
    "summary_x(bam2feat_red$stdev_mapq_Match)"
   ]
  },
  {
   "cell_type": "code",
   "execution_count": 40,
   "id": "be2b7da7",
   "metadata": {
    "ExecuteTime": {
     "end_time": "2021-07-23T07:32:03.204833Z",
     "start_time": "2021-07-23T07:16:38.562Z"
    }
   },
   "outputs": [
    {
     "data": {
      "text/html": [
       "<table class=\"dataframe\">\n",
       "<caption>A matrix: 1 × 9 of type dbl</caption>\n",
       "<thead>\n",
       "\t<tr><th></th><th scope=col>Min.</th><th scope=col>1st Qu.</th><th scope=col>Median</th><th scope=col>Mean</th><th scope=col>3rd Qu.</th><th scope=col>Max.</th><th scope=col>NA's</th><th scope=col>sd</th><th scope=col>sd_err_of_mean</th></tr>\n",
       "</thead>\n",
       "<tbody>\n",
       "\t<tr><th scope=row>max_mapq_Match</th><td>0</td><td>42</td><td>42</td><td>41.99285</td><td>42</td><td>42</td><td>43849</td><td>16560.14</td><td>6259.146</td></tr>\n",
       "</tbody>\n",
       "</table>\n"
      ],
      "text/latex": [
       "A matrix: 1 × 9 of type dbl\n",
       "\\begin{tabular}{r|lllllllll}\n",
       "  & Min. & 1st Qu. & Median & Mean & 3rd Qu. & Max. & NA's & sd & sd\\_err\\_of\\_mean\\\\\n",
       "\\hline\n",
       "\tmax\\_mapq\\_Match & 0 & 42 & 42 & 41.99285 & 42 & 42 & 43849 & 16560.14 & 6259.146\\\\\n",
       "\\end{tabular}\n"
      ],
      "text/markdown": [
       "\n",
       "A matrix: 1 × 9 of type dbl\n",
       "\n",
       "| <!--/--> | Min. | 1st Qu. | Median | Mean | 3rd Qu. | Max. | NA's | sd | sd_err_of_mean |\n",
       "|---|---|---|---|---|---|---|---|---|---|\n",
       "| max_mapq_Match | 0 | 42 | 42 | 41.99285 | 42 | 42 | 43849 | 16560.14 | 6259.146 |\n",
       "\n"
      ],
      "text/plain": [
       "               Min. 1st Qu. Median Mean     3rd Qu. Max. NA's  sd      \n",
       "max_mapq_Match 0    42      42     41.99285 42      42   43849 16560.14\n",
       "               sd_err_of_mean\n",
       "max_mapq_Match 6259.146      "
      ]
     },
     "metadata": {},
     "output_type": "display_data"
    },
    {
     "data": {
      "text/html": [
       "<table class=\"dataframe\">\n",
       "<caption>A matrix: 1 × 9 of type dbl</caption>\n",
       "<thead>\n",
       "\t<tr><th></th><th scope=col>Min.</th><th scope=col>1st Qu.</th><th scope=col>Median</th><th scope=col>Mean</th><th scope=col>3rd Qu.</th><th scope=col>Max.</th><th scope=col>NA's</th><th scope=col>sd</th><th scope=col>sd_err_of_mean</th></tr>\n",
       "</thead>\n",
       "<tbody>\n",
       "\t<tr><th scope=row>max_mapq_Match</th><td>0</td><td>42</td><td>42</td><td>41.99285</td><td>42</td><td>42</td><td>43849</td><td>16560.14</td><td>6259.146</td></tr>\n",
       "</tbody>\n",
       "</table>\n"
      ],
      "text/latex": [
       "A matrix: 1 × 9 of type dbl\n",
       "\\begin{tabular}{r|lllllllll}\n",
       "  & Min. & 1st Qu. & Median & Mean & 3rd Qu. & Max. & NA's & sd & sd\\_err\\_of\\_mean\\\\\n",
       "\\hline\n",
       "\tmax\\_mapq\\_Match & 0 & 42 & 42 & 41.99285 & 42 & 42 & 43849 & 16560.14 & 6259.146\\\\\n",
       "\\end{tabular}\n"
      ],
      "text/markdown": [
       "\n",
       "A matrix: 1 × 9 of type dbl\n",
       "\n",
       "| <!--/--> | Min. | 1st Qu. | Median | Mean | 3rd Qu. | Max. | NA's | sd | sd_err_of_mean |\n",
       "|---|---|---|---|---|---|---|---|---|---|\n",
       "| max_mapq_Match | 0 | 42 | 42 | 41.99285 | 42 | 42 | 43849 | 16560.14 | 6259.146 |\n",
       "\n"
      ],
      "text/plain": [
       "               Min. 1st Qu. Median Mean     3rd Qu. Max. NA's  sd      \n",
       "max_mapq_Match 0    42      42     41.99285 42      42   43849 16560.14\n",
       "               sd_err_of_mean\n",
       "max_mapq_Match 6259.146      "
      ]
     },
     "metadata": {},
     "output_type": "display_data"
    }
   ],
   "source": [
    "summary_x(bam2feat_all$max_mapq_Match)\n",
    "summary_x(bam2feat_red$max_mapq_Match)"
   ]
  },
  {
   "cell_type": "code",
   "execution_count": 41,
   "id": "2bcbca95",
   "metadata": {
    "ExecuteTime": {
     "end_time": "2021-07-23T07:32:15.698170Z",
     "start_time": "2021-07-23T07:16:44.434Z"
    }
   },
   "outputs": [
    {
     "data": {
      "text/html": [
       "<table class=\"dataframe\">\n",
       "<caption>A matrix: 1 × 8 of type dbl</caption>\n",
       "<thead>\n",
       "\t<tr><th></th><th scope=col>Min.</th><th scope=col>1st Qu.</th><th scope=col>Median</th><th scope=col>Mean</th><th scope=col>3rd Qu.</th><th scope=col>Max.</th><th scope=col>sd</th><th scope=col>sd_err_of_mean</th></tr>\n",
       "</thead>\n",
       "<tbody>\n",
       "\t<tr><th scope=row>num_proper_Match</th><td>0</td><td>7</td><td>12</td><td>12.65633</td><td>18</td><td>186</td><td>72.135</td><td>29.449</td></tr>\n",
       "</tbody>\n",
       "</table>\n"
      ],
      "text/latex": [
       "A matrix: 1 × 8 of type dbl\n",
       "\\begin{tabular}{r|llllllll}\n",
       "  & Min. & 1st Qu. & Median & Mean & 3rd Qu. & Max. & sd & sd\\_err\\_of\\_mean\\\\\n",
       "\\hline\n",
       "\tnum\\_proper\\_Match & 0 & 7 & 12 & 12.65633 & 18 & 186 & 72.135 & 29.449\\\\\n",
       "\\end{tabular}\n"
      ],
      "text/markdown": [
       "\n",
       "A matrix: 1 × 8 of type dbl\n",
       "\n",
       "| <!--/--> | Min. | 1st Qu. | Median | Mean | 3rd Qu. | Max. | sd | sd_err_of_mean |\n",
       "|---|---|---|---|---|---|---|---|---|\n",
       "| num_proper_Match | 0 | 7 | 12 | 12.65633 | 18 | 186 | 72.135 | 29.449 |\n",
       "\n"
      ],
      "text/plain": [
       "                 Min. 1st Qu. Median Mean     3rd Qu. Max. sd    \n",
       "num_proper_Match 0    7       12     12.65633 18      186  72.135\n",
       "                 sd_err_of_mean\n",
       "num_proper_Match 29.449        "
      ]
     },
     "metadata": {},
     "output_type": "display_data"
    },
    {
     "data": {
      "text/html": [
       "<table class=\"dataframe\">\n",
       "<caption>A matrix: 1 × 8 of type dbl</caption>\n",
       "<thead>\n",
       "\t<tr><th></th><th scope=col>Min.</th><th scope=col>1st Qu.</th><th scope=col>Median</th><th scope=col>Mean</th><th scope=col>3rd Qu.</th><th scope=col>Max.</th><th scope=col>sd</th><th scope=col>sd_err_of_mean</th></tr>\n",
       "</thead>\n",
       "<tbody>\n",
       "\t<tr><th scope=row>num_proper_Match</th><td>0</td><td>7</td><td>12</td><td>12.65633</td><td>18</td><td>186</td><td>72.135</td><td>29.449</td></tr>\n",
       "</tbody>\n",
       "</table>\n"
      ],
      "text/latex": [
       "A matrix: 1 × 8 of type dbl\n",
       "\\begin{tabular}{r|llllllll}\n",
       "  & Min. & 1st Qu. & Median & Mean & 3rd Qu. & Max. & sd & sd\\_err\\_of\\_mean\\\\\n",
       "\\hline\n",
       "\tnum\\_proper\\_Match & 0 & 7 & 12 & 12.65633 & 18 & 186 & 72.135 & 29.449\\\\\n",
       "\\end{tabular}\n"
      ],
      "text/markdown": [
       "\n",
       "A matrix: 1 × 8 of type dbl\n",
       "\n",
       "| <!--/--> | Min. | 1st Qu. | Median | Mean | 3rd Qu. | Max. | sd | sd_err_of_mean |\n",
       "|---|---|---|---|---|---|---|---|---|\n",
       "| num_proper_Match | 0 | 7 | 12 | 12.65633 | 18 | 186 | 72.135 | 29.449 |\n",
       "\n"
      ],
      "text/plain": [
       "                 Min. 1st Qu. Median Mean     3rd Qu. Max. sd    \n",
       "num_proper_Match 0    7       12     12.65633 18      186  72.135\n",
       "                 sd_err_of_mean\n",
       "num_proper_Match 29.449        "
      ]
     },
     "metadata": {},
     "output_type": "display_data"
    }
   ],
   "source": [
    "summary_x(bam2feat_all$num_proper_Match)\n",
    "summary_x(bam2feat_red$num_proper_Match)"
   ]
  },
  {
   "cell_type": "code",
   "execution_count": 42,
   "id": "efd4a457",
   "metadata": {
    "ExecuteTime": {
     "end_time": "2021-07-23T07:32:19.988725Z",
     "start_time": "2021-07-23T07:16:48.985Z"
    }
   },
   "outputs": [
    {
     "data": {
      "text/html": [
       "<table class=\"dataframe\">\n",
       "<caption>A matrix: 1 × 8 of type dbl</caption>\n",
       "<thead>\n",
       "\t<tr><th></th><th scope=col>Min.</th><th scope=col>1st Qu.</th><th scope=col>Median</th><th scope=col>Mean</th><th scope=col>3rd Qu.</th><th scope=col>Max.</th><th scope=col>sd</th><th scope=col>sd_err_of_mean</th></tr>\n",
       "</thead>\n",
       "<tbody>\n",
       "\t<tr><th scope=row>num_diff_strand_Match</th><td>0</td><td>0</td><td>0</td><td>0</td><td>0</td><td>0</td><td>0</td><td>0</td></tr>\n",
       "</tbody>\n",
       "</table>\n"
      ],
      "text/latex": [
       "A matrix: 1 × 8 of type dbl\n",
       "\\begin{tabular}{r|llllllll}\n",
       "  & Min. & 1st Qu. & Median & Mean & 3rd Qu. & Max. & sd & sd\\_err\\_of\\_mean\\\\\n",
       "\\hline\n",
       "\tnum\\_diff\\_strand\\_Match & 0 & 0 & 0 & 0 & 0 & 0 & 0 & 0\\\\\n",
       "\\end{tabular}\n"
      ],
      "text/markdown": [
       "\n",
       "A matrix: 1 × 8 of type dbl\n",
       "\n",
       "| <!--/--> | Min. | 1st Qu. | Median | Mean | 3rd Qu. | Max. | sd | sd_err_of_mean |\n",
       "|---|---|---|---|---|---|---|---|---|\n",
       "| num_diff_strand_Match | 0 | 0 | 0 | 0 | 0 | 0 | 0 | 0 |\n",
       "\n"
      ],
      "text/plain": [
       "                      Min. 1st Qu. Median Mean 3rd Qu. Max. sd sd_err_of_mean\n",
       "num_diff_strand_Match 0    0       0      0    0       0    0  0             "
      ]
     },
     "metadata": {},
     "output_type": "display_data"
    },
    {
     "name": "stderr",
     "output_type": "stream",
     "text": [
      "Warning message in is.data.frame(x):\n",
      "“NAs introduced by coercion”\n"
     ]
    },
    {
     "data": {
      "text/html": [
       "<table class=\"dataframe\">\n",
       "<caption>A matrix: 1 × 5 of type chr</caption>\n",
       "<thead>\n",
       "\t<tr><th></th><th scope=col>Length</th><th scope=col>Class</th><th scope=col>Mode</th><th scope=col>sd</th><th scope=col>sd_err_of_mean</th></tr>\n",
       "</thead>\n",
       "<tbody>\n",
       "\t<tr><th scope=row>num_diff_strand_Match</th><td>0</td><td>NULL</td><td>NULL</td><td>NA</td><td>NA</td></tr>\n",
       "</tbody>\n",
       "</table>\n"
      ],
      "text/latex": [
       "A matrix: 1 × 5 of type chr\n",
       "\\begin{tabular}{r|lllll}\n",
       "  & Length & Class & Mode & sd & sd\\_err\\_of\\_mean\\\\\n",
       "\\hline\n",
       "\tnum\\_diff\\_strand\\_Match & 0 & NULL & NULL & NA & NA\\\\\n",
       "\\end{tabular}\n"
      ],
      "text/markdown": [
       "\n",
       "A matrix: 1 × 5 of type chr\n",
       "\n",
       "| <!--/--> | Length | Class | Mode | sd | sd_err_of_mean |\n",
       "|---|---|---|---|---|---|\n",
       "| num_diff_strand_Match | 0 | NULL | NULL | NA | NA |\n",
       "\n"
      ],
      "text/plain": [
       "                      Length Class Mode sd sd_err_of_mean\n",
       "num_diff_strand_Match 0      NULL  NULL NA NA            "
      ]
     },
     "metadata": {},
     "output_type": "display_data"
    }
   ],
   "source": [
    "summary_x(bam2feat_all$num_diff_strand_Match)\n",
    "summary_x(bam2feat_red$num_diff_strand_Match)"
   ]
  },
  {
   "cell_type": "code",
   "execution_count": 43,
   "id": "3083497a",
   "metadata": {
    "ExecuteTime": {
     "end_time": "2021-07-23T07:32:28.830392Z",
     "start_time": "2021-07-23T07:16:53.786Z"
    }
   },
   "outputs": [
    {
     "data": {
      "text/html": [
       "<table class=\"dataframe\">\n",
       "<caption>A matrix: 1 × 8 of type dbl</caption>\n",
       "<thead>\n",
       "\t<tr><th></th><th scope=col>Min.</th><th scope=col>1st Qu.</th><th scope=col>Median</th><th scope=col>Mean</th><th scope=col>3rd Qu.</th><th scope=col>Max.</th><th scope=col>sd</th><th scope=col>sd_err_of_mean</th></tr>\n",
       "</thead>\n",
       "<tbody>\n",
       "\t<tr><th scope=row>num_orphans_Match</th><td>0</td><td>0</td><td>0</td><td>0.02239455</td><td>0</td><td>19</td><td>7.755</td><td>3.166</td></tr>\n",
       "</tbody>\n",
       "</table>\n"
      ],
      "text/latex": [
       "A matrix: 1 × 8 of type dbl\n",
       "\\begin{tabular}{r|llllllll}\n",
       "  & Min. & 1st Qu. & Median & Mean & 3rd Qu. & Max. & sd & sd\\_err\\_of\\_mean\\\\\n",
       "\\hline\n",
       "\tnum\\_orphans\\_Match & 0 & 0 & 0 & 0.02239455 & 0 & 19 & 7.755 & 3.166\\\\\n",
       "\\end{tabular}\n"
      ],
      "text/markdown": [
       "\n",
       "A matrix: 1 × 8 of type dbl\n",
       "\n",
       "| <!--/--> | Min. | 1st Qu. | Median | Mean | 3rd Qu. | Max. | sd | sd_err_of_mean |\n",
       "|---|---|---|---|---|---|---|---|---|\n",
       "| num_orphans_Match | 0 | 0 | 0 | 0.02239455 | 0 | 19 | 7.755 | 3.166 |\n",
       "\n"
      ],
      "text/plain": [
       "                  Min. 1st Qu. Median Mean       3rd Qu. Max. sd   \n",
       "num_orphans_Match 0    0       0      0.02239455 0       19   7.755\n",
       "                  sd_err_of_mean\n",
       "num_orphans_Match 3.166         "
      ]
     },
     "metadata": {},
     "output_type": "display_data"
    },
    {
     "data": {
      "text/html": [
       "<table class=\"dataframe\">\n",
       "<caption>A matrix: 1 × 8 of type dbl</caption>\n",
       "<thead>\n",
       "\t<tr><th></th><th scope=col>Min.</th><th scope=col>1st Qu.</th><th scope=col>Median</th><th scope=col>Mean</th><th scope=col>3rd Qu.</th><th scope=col>Max.</th><th scope=col>sd</th><th scope=col>sd_err_of_mean</th></tr>\n",
       "</thead>\n",
       "<tbody>\n",
       "\t<tr><th scope=row>num_orphans_Match</th><td>0</td><td>0</td><td>0</td><td>0.02239455</td><td>0</td><td>19</td><td>7.755</td><td>3.166</td></tr>\n",
       "</tbody>\n",
       "</table>\n"
      ],
      "text/latex": [
       "A matrix: 1 × 8 of type dbl\n",
       "\\begin{tabular}{r|llllllll}\n",
       "  & Min. & 1st Qu. & Median & Mean & 3rd Qu. & Max. & sd & sd\\_err\\_of\\_mean\\\\\n",
       "\\hline\n",
       "\tnum\\_orphans\\_Match & 0 & 0 & 0 & 0.02239455 & 0 & 19 & 7.755 & 3.166\\\\\n",
       "\\end{tabular}\n"
      ],
      "text/markdown": [
       "\n",
       "A matrix: 1 × 8 of type dbl\n",
       "\n",
       "| <!--/--> | Min. | 1st Qu. | Median | Mean | 3rd Qu. | Max. | sd | sd_err_of_mean |\n",
       "|---|---|---|---|---|---|---|---|---|\n",
       "| num_orphans_Match | 0 | 0 | 0 | 0.02239455 | 0 | 19 | 7.755 | 3.166 |\n",
       "\n"
      ],
      "text/plain": [
       "                  Min. 1st Qu. Median Mean       3rd Qu. Max. sd   \n",
       "num_orphans_Match 0    0       0      0.02239455 0       19   7.755\n",
       "                  sd_err_of_mean\n",
       "num_orphans_Match 3.166         "
      ]
     },
     "metadata": {},
     "output_type": "display_data"
    }
   ],
   "source": [
    "summary_x(bam2feat_all$num_orphans_Match)\n",
    "summary_x(bam2feat_red$num_orphans_Match)"
   ]
  },
  {
   "cell_type": "code",
   "execution_count": 44,
   "id": "3e31553c",
   "metadata": {
    "ExecuteTime": {
     "end_time": "2021-07-23T07:32:33.020133Z",
     "start_time": "2021-07-23T07:16:59.890Z"
    }
   },
   "outputs": [
    {
     "data": {
      "text/html": [
       "<table class=\"dataframe\">\n",
       "<caption>A matrix: 1 × 8 of type dbl</caption>\n",
       "<thead>\n",
       "\t<tr><th></th><th scope=col>Min.</th><th scope=col>1st Qu.</th><th scope=col>Median</th><th scope=col>Mean</th><th scope=col>3rd Qu.</th><th scope=col>Max.</th><th scope=col>sd</th><th scope=col>sd_err_of_mean</th></tr>\n",
       "</thead>\n",
       "<tbody>\n",
       "\t<tr><th scope=row>num_supplementary_Match</th><td>0</td><td>0</td><td>0</td><td>0</td><td>0</td><td>0</td><td>0</td><td>0</td></tr>\n",
       "</tbody>\n",
       "</table>\n"
      ],
      "text/latex": [
       "A matrix: 1 × 8 of type dbl\n",
       "\\begin{tabular}{r|llllllll}\n",
       "  & Min. & 1st Qu. & Median & Mean & 3rd Qu. & Max. & sd & sd\\_err\\_of\\_mean\\\\\n",
       "\\hline\n",
       "\tnum\\_supplementary\\_Match & 0 & 0 & 0 & 0 & 0 & 0 & 0 & 0\\\\\n",
       "\\end{tabular}\n"
      ],
      "text/markdown": [
       "\n",
       "A matrix: 1 × 8 of type dbl\n",
       "\n",
       "| <!--/--> | Min. | 1st Qu. | Median | Mean | 3rd Qu. | Max. | sd | sd_err_of_mean |\n",
       "|---|---|---|---|---|---|---|---|---|\n",
       "| num_supplementary_Match | 0 | 0 | 0 | 0 | 0 | 0 | 0 | 0 |\n",
       "\n"
      ],
      "text/plain": [
       "                        Min. 1st Qu. Median Mean 3rd Qu. Max. sd sd_err_of_mean\n",
       "num_supplementary_Match 0    0       0      0    0       0    0  0             "
      ]
     },
     "metadata": {},
     "output_type": "display_data"
    },
    {
     "name": "stderr",
     "output_type": "stream",
     "text": [
      "Warning message in is.data.frame(x):\n",
      "“NAs introduced by coercion”\n"
     ]
    },
    {
     "data": {
      "text/html": [
       "<table class=\"dataframe\">\n",
       "<caption>A matrix: 1 × 5 of type chr</caption>\n",
       "<thead>\n",
       "\t<tr><th></th><th scope=col>Length</th><th scope=col>Class</th><th scope=col>Mode</th><th scope=col>sd</th><th scope=col>sd_err_of_mean</th></tr>\n",
       "</thead>\n",
       "<tbody>\n",
       "\t<tr><th scope=row>num_supplementary_Match</th><td>0</td><td>NULL</td><td>NULL</td><td>NA</td><td>NA</td></tr>\n",
       "</tbody>\n",
       "</table>\n"
      ],
      "text/latex": [
       "A matrix: 1 × 5 of type chr\n",
       "\\begin{tabular}{r|lllll}\n",
       "  & Length & Class & Mode & sd & sd\\_err\\_of\\_mean\\\\\n",
       "\\hline\n",
       "\tnum\\_supplementary\\_Match & 0 & NULL & NULL & NA & NA\\\\\n",
       "\\end{tabular}\n"
      ],
      "text/markdown": [
       "\n",
       "A matrix: 1 × 5 of type chr\n",
       "\n",
       "| <!--/--> | Length | Class | Mode | sd | sd_err_of_mean |\n",
       "|---|---|---|---|---|---|\n",
       "| num_supplementary_Match | 0 | NULL | NULL | NA | NA |\n",
       "\n"
      ],
      "text/plain": [
       "                        Length Class Mode sd sd_err_of_mean\n",
       "num_supplementary_Match 0      NULL  NULL NA NA            "
      ]
     },
     "metadata": {},
     "output_type": "display_data"
    }
   ],
   "source": [
    "summary_x(bam2feat_all$num_supplementary_Match)\n",
    "summary_x(bam2feat_red$num_supplementary_Match)"
   ]
  },
  {
   "cell_type": "code",
   "execution_count": 45,
   "id": "34ab5e59",
   "metadata": {
    "ExecuteTime": {
     "end_time": "2021-07-23T07:32:37.317061Z",
     "start_time": "2021-07-23T07:17:04.152Z"
    }
   },
   "outputs": [
    {
     "data": {
      "text/html": [
       "<table class=\"dataframe\">\n",
       "<caption>A matrix: 1 × 8 of type dbl</caption>\n",
       "<thead>\n",
       "\t<tr><th></th><th scope=col>Min.</th><th scope=col>1st Qu.</th><th scope=col>Median</th><th scope=col>Mean</th><th scope=col>3rd Qu.</th><th scope=col>Max.</th><th scope=col>sd</th><th scope=col>sd_err_of_mean</th></tr>\n",
       "</thead>\n",
       "<tbody>\n",
       "\t<tr><th scope=row>num_secondary_Match</th><td>0</td><td>0</td><td>0</td><td>0</td><td>0</td><td>0</td><td>0</td><td>0</td></tr>\n",
       "</tbody>\n",
       "</table>\n"
      ],
      "text/latex": [
       "A matrix: 1 × 8 of type dbl\n",
       "\\begin{tabular}{r|llllllll}\n",
       "  & Min. & 1st Qu. & Median & Mean & 3rd Qu. & Max. & sd & sd\\_err\\_of\\_mean\\\\\n",
       "\\hline\n",
       "\tnum\\_secondary\\_Match & 0 & 0 & 0 & 0 & 0 & 0 & 0 & 0\\\\\n",
       "\\end{tabular}\n"
      ],
      "text/markdown": [
       "\n",
       "A matrix: 1 × 8 of type dbl\n",
       "\n",
       "| <!--/--> | Min. | 1st Qu. | Median | Mean | 3rd Qu. | Max. | sd | sd_err_of_mean |\n",
       "|---|---|---|---|---|---|---|---|---|\n",
       "| num_secondary_Match | 0 | 0 | 0 | 0 | 0 | 0 | 0 | 0 |\n",
       "\n"
      ],
      "text/plain": [
       "                    Min. 1st Qu. Median Mean 3rd Qu. Max. sd sd_err_of_mean\n",
       "num_secondary_Match 0    0       0      0    0       0    0  0             "
      ]
     },
     "metadata": {},
     "output_type": "display_data"
    },
    {
     "name": "stderr",
     "output_type": "stream",
     "text": [
      "Warning message in is.data.frame(x):\n",
      "“NAs introduced by coercion”\n"
     ]
    },
    {
     "data": {
      "text/html": [
       "<table class=\"dataframe\">\n",
       "<caption>A matrix: 1 × 5 of type chr</caption>\n",
       "<thead>\n",
       "\t<tr><th></th><th scope=col>Length</th><th scope=col>Class</th><th scope=col>Mode</th><th scope=col>sd</th><th scope=col>sd_err_of_mean</th></tr>\n",
       "</thead>\n",
       "<tbody>\n",
       "\t<tr><th scope=row>num_secondary_Match</th><td>0</td><td>NULL</td><td>NULL</td><td>NA</td><td>NA</td></tr>\n",
       "</tbody>\n",
       "</table>\n"
      ],
      "text/latex": [
       "A matrix: 1 × 5 of type chr\n",
       "\\begin{tabular}{r|lllll}\n",
       "  & Length & Class & Mode & sd & sd\\_err\\_of\\_mean\\\\\n",
       "\\hline\n",
       "\tnum\\_secondary\\_Match & 0 & NULL & NULL & NA & NA\\\\\n",
       "\\end{tabular}\n"
      ],
      "text/markdown": [
       "\n",
       "A matrix: 1 × 5 of type chr\n",
       "\n",
       "| <!--/--> | Length | Class | Mode | sd | sd_err_of_mean |\n",
       "|---|---|---|---|---|---|\n",
       "| num_secondary_Match | 0 | NULL | NULL | NA | NA |\n",
       "\n"
      ],
      "text/plain": [
       "                    Length Class Mode sd sd_err_of_mean\n",
       "num_secondary_Match 0      NULL  NULL NA NA            "
      ]
     },
     "metadata": {},
     "output_type": "display_data"
    }
   ],
   "source": [
    "summary_x(bam2feat_all$num_secondary_Match)\n",
    "summary_x(bam2feat_red$num_secondary_Match)"
   ]
  },
  {
   "cell_type": "code",
   "execution_count": 46,
   "id": "35c8b471",
   "metadata": {
    "ExecuteTime": {
     "end_time": "2021-07-23T07:32:53.472368Z",
     "start_time": "2021-07-23T07:17:09.553Z"
    }
   },
   "outputs": [
    {
     "data": {
      "text/html": [
       "<table class=\"dataframe\">\n",
       "<caption>A matrix: 1 × 8 of type dbl</caption>\n",
       "<thead>\n",
       "\t<tr><th></th><th scope=col>Min.</th><th scope=col>1st Qu.</th><th scope=col>Median</th><th scope=col>Mean</th><th scope=col>3rd Qu.</th><th scope=col>Max.</th><th scope=col>sd</th><th scope=col>sd_err_of_mean</th></tr>\n",
       "</thead>\n",
       "<tbody>\n",
       "\t<tr><th scope=row>num_discordant_Match</th><td>0</td><td>0</td><td>0</td><td>0.02241015</td><td>0</td><td>82</td><td>33.475</td><td>13.666</td></tr>\n",
       "</tbody>\n",
       "</table>\n"
      ],
      "text/latex": [
       "A matrix: 1 × 8 of type dbl\n",
       "\\begin{tabular}{r|llllllll}\n",
       "  & Min. & 1st Qu. & Median & Mean & 3rd Qu. & Max. & sd & sd\\_err\\_of\\_mean\\\\\n",
       "\\hline\n",
       "\tnum\\_discordant\\_Match & 0 & 0 & 0 & 0.02241015 & 0 & 82 & 33.475 & 13.666\\\\\n",
       "\\end{tabular}\n"
      ],
      "text/markdown": [
       "\n",
       "A matrix: 1 × 8 of type dbl\n",
       "\n",
       "| <!--/--> | Min. | 1st Qu. | Median | Mean | 3rd Qu. | Max. | sd | sd_err_of_mean |\n",
       "|---|---|---|---|---|---|---|---|---|\n",
       "| num_discordant_Match | 0 | 0 | 0 | 0.02241015 | 0 | 82 | 33.475 | 13.666 |\n",
       "\n"
      ],
      "text/plain": [
       "                     Min. 1st Qu. Median Mean       3rd Qu. Max. sd    \n",
       "num_discordant_Match 0    0       0      0.02241015 0       82   33.475\n",
       "                     sd_err_of_mean\n",
       "num_discordant_Match 13.666        "
      ]
     },
     "metadata": {},
     "output_type": "display_data"
    },
    {
     "data": {
      "text/html": [
       "<table class=\"dataframe\">\n",
       "<caption>A matrix: 1 × 8 of type dbl</caption>\n",
       "<thead>\n",
       "\t<tr><th></th><th scope=col>Min.</th><th scope=col>1st Qu.</th><th scope=col>Median</th><th scope=col>Mean</th><th scope=col>3rd Qu.</th><th scope=col>Max.</th><th scope=col>sd</th><th scope=col>sd_err_of_mean</th></tr>\n",
       "</thead>\n",
       "<tbody>\n",
       "\t<tr><th scope=row>num_discordant_Match</th><td>0</td><td>0</td><td>0</td><td>0.0449501</td><td>0</td><td>164</td><td>66.949</td><td>27.332</td></tr>\n",
       "</tbody>\n",
       "</table>\n"
      ],
      "text/latex": [
       "A matrix: 1 × 8 of type dbl\n",
       "\\begin{tabular}{r|llllllll}\n",
       "  & Min. & 1st Qu. & Median & Mean & 3rd Qu. & Max. & sd & sd\\_err\\_of\\_mean\\\\\n",
       "\\hline\n",
       "\tnum\\_discordant\\_Match & 0 & 0 & 0 & 0.0449501 & 0 & 164 & 66.949 & 27.332\\\\\n",
       "\\end{tabular}\n"
      ],
      "text/markdown": [
       "\n",
       "A matrix: 1 × 8 of type dbl\n",
       "\n",
       "| <!--/--> | Min. | 1st Qu. | Median | Mean | 3rd Qu. | Max. | sd | sd_err_of_mean |\n",
       "|---|---|---|---|---|---|---|---|---|\n",
       "| num_discordant_Match | 0 | 0 | 0 | 0.0449501 | 0 | 164 | 66.949 | 27.332 |\n",
       "\n"
      ],
      "text/plain": [
       "                     Min. 1st Qu. Median Mean      3rd Qu. Max. sd    \n",
       "num_discordant_Match 0    0       0      0.0449501 0       164  66.949\n",
       "                     sd_err_of_mean\n",
       "num_discordant_Match 27.332        "
      ]
     },
     "metadata": {},
     "output_type": "display_data"
    }
   ],
   "source": [
    "summary_x(bam2feat_all$num_discordant_Match)\n",
    "summary_x(bam2feat_red$num_discordant_Match)"
   ]
  },
  {
   "cell_type": "markdown",
   "id": "7b8ff72e",
   "metadata": {},
   "source": [
    "### SNP features"
   ]
  },
  {
   "cell_type": "code",
   "execution_count": 47,
   "id": "b95f51a9",
   "metadata": {
    "ExecuteTime": {
     "end_time": "2021-07-23T07:32:54.851847Z",
     "start_time": "2021-07-23T07:17:28.793Z"
    }
   },
   "outputs": [
    {
     "data": {
      "text/html": [
       "<table class=\"dataframe\">\n",
       "<caption>A matrix: 1 × 9 of type dbl</caption>\n",
       "<thead>\n",
       "\t<tr><th></th><th scope=col>Min.</th><th scope=col>1st Qu.</th><th scope=col>Median</th><th scope=col>Mean</th><th scope=col>3rd Qu.</th><th scope=col>Max.</th><th scope=col>NA's</th><th scope=col>sd</th><th scope=col>sd_err_of_mean</th></tr>\n",
       "</thead>\n",
       "<tbody>\n",
       "\t<tr><th scope=row>min_insert_size_SNP</th><td>0</td><td>235</td><td>269</td><td>267.1698</td><td>302</td><td>2913</td><td>126446559</td><td>47792056</td><td>18063699</td></tr>\n",
       "</tbody>\n",
       "</table>\n"
      ],
      "text/latex": [
       "A matrix: 1 × 9 of type dbl\n",
       "\\begin{tabular}{r|lllllllll}\n",
       "  & Min. & 1st Qu. & Median & Mean & 3rd Qu. & Max. & NA's & sd & sd\\_err\\_of\\_mean\\\\\n",
       "\\hline\n",
       "\tmin\\_insert\\_size\\_SNP & 0 & 235 & 269 & 267.1698 & 302 & 2913 & 126446559 & 47792056 & 18063699\\\\\n",
       "\\end{tabular}\n"
      ],
      "text/markdown": [
       "\n",
       "A matrix: 1 × 9 of type dbl\n",
       "\n",
       "| <!--/--> | Min. | 1st Qu. | Median | Mean | 3rd Qu. | Max. | NA's | sd | sd_err_of_mean |\n",
       "|---|---|---|---|---|---|---|---|---|---|\n",
       "| min_insert_size_SNP | 0 | 235 | 269 | 267.1698 | 302 | 2913 | 126446559 | 47792056 | 18063699 |\n",
       "\n"
      ],
      "text/plain": [
       "                    Min. 1st Qu. Median Mean     3rd Qu. Max. NA's     \n",
       "min_insert_size_SNP 0    235     269    267.1698 302     2913 126446559\n",
       "                    sd       sd_err_of_mean\n",
       "min_insert_size_SNP 47792056 18063699      "
      ]
     },
     "metadata": {},
     "output_type": "display_data"
    },
    {
     "name": "stderr",
     "output_type": "stream",
     "text": [
      "Warning message in is.data.frame(x):\n",
      "“NAs introduced by coercion”\n"
     ]
    },
    {
     "data": {
      "text/html": [
       "<table class=\"dataframe\">\n",
       "<caption>A matrix: 1 × 5 of type chr</caption>\n",
       "<thead>\n",
       "\t<tr><th></th><th scope=col>Length</th><th scope=col>Class</th><th scope=col>Mode</th><th scope=col>sd</th><th scope=col>sd_err_of_mean</th></tr>\n",
       "</thead>\n",
       "<tbody>\n",
       "\t<tr><th scope=row>min_insert_size_SNP</th><td>0</td><td>NULL</td><td>NULL</td><td>NA</td><td>NA</td></tr>\n",
       "</tbody>\n",
       "</table>\n"
      ],
      "text/latex": [
       "A matrix: 1 × 5 of type chr\n",
       "\\begin{tabular}{r|lllll}\n",
       "  & Length & Class & Mode & sd & sd\\_err\\_of\\_mean\\\\\n",
       "\\hline\n",
       "\tmin\\_insert\\_size\\_SNP & 0 & NULL & NULL & NA & NA\\\\\n",
       "\\end{tabular}\n"
      ],
      "text/markdown": [
       "\n",
       "A matrix: 1 × 5 of type chr\n",
       "\n",
       "| <!--/--> | Length | Class | Mode | sd | sd_err_of_mean |\n",
       "|---|---|---|---|---|---|\n",
       "| min_insert_size_SNP | 0 | NULL | NULL | NA | NA |\n",
       "\n"
      ],
      "text/plain": [
       "                    Length Class Mode sd sd_err_of_mean\n",
       "min_insert_size_SNP 0      NULL  NULL NA NA            "
      ]
     },
     "metadata": {},
     "output_type": "display_data"
    }
   ],
   "source": [
    "summary_x(bam2feat_all$min_insert_size_SNP)\n",
    "summary_x(bam2feat_red$min_insert_size_SNP)"
   ]
  },
  {
   "cell_type": "code",
   "execution_count": 48,
   "id": "32a6ba13",
   "metadata": {
    "ExecuteTime": {
     "end_time": "2021-07-23T07:32:56.736371Z",
     "start_time": "2021-07-23T07:17:49.489Z"
    }
   },
   "outputs": [
    {
     "data": {
      "text/html": [
       "<table class=\"dataframe\">\n",
       "<caption>A matrix: 1 × 9 of type dbl</caption>\n",
       "<thead>\n",
       "\t<tr><th></th><th scope=col>Min.</th><th scope=col>1st Qu.</th><th scope=col>Median</th><th scope=col>Mean</th><th scope=col>3rd Qu.</th><th scope=col>Max.</th><th scope=col>NA's</th><th scope=col>sd</th><th scope=col>sd_err_of_mean</th></tr>\n",
       "</thead>\n",
       "<tbody>\n",
       "\t<tr><th scope=row>mean_insert_size_SNP</th><td>0</td><td>236</td><td>269</td><td>268.0054</td><td>303</td><td>2913</td><td>126446559</td><td>47792056</td><td>18063699</td></tr>\n",
       "</tbody>\n",
       "</table>\n"
      ],
      "text/latex": [
       "A matrix: 1 × 9 of type dbl\n",
       "\\begin{tabular}{r|lllllllll}\n",
       "  & Min. & 1st Qu. & Median & Mean & 3rd Qu. & Max. & NA's & sd & sd\\_err\\_of\\_mean\\\\\n",
       "\\hline\n",
       "\tmean\\_insert\\_size\\_SNP & 0 & 236 & 269 & 268.0054 & 303 & 2913 & 126446559 & 47792056 & 18063699\\\\\n",
       "\\end{tabular}\n"
      ],
      "text/markdown": [
       "\n",
       "A matrix: 1 × 9 of type dbl\n",
       "\n",
       "| <!--/--> | Min. | 1st Qu. | Median | Mean | 3rd Qu. | Max. | NA's | sd | sd_err_of_mean |\n",
       "|---|---|---|---|---|---|---|---|---|---|\n",
       "| mean_insert_size_SNP | 0 | 236 | 269 | 268.0054 | 303 | 2913 | 126446559 | 47792056 | 18063699 |\n",
       "\n"
      ],
      "text/plain": [
       "                     Min. 1st Qu. Median Mean     3rd Qu. Max. NA's     \n",
       "mean_insert_size_SNP 0    236     269    268.0054 303     2913 126446559\n",
       "                     sd       sd_err_of_mean\n",
       "mean_insert_size_SNP 47792056 18063699      "
      ]
     },
     "metadata": {},
     "output_type": "display_data"
    },
    {
     "name": "stderr",
     "output_type": "stream",
     "text": [
      "Warning message in is.data.frame(x):\n",
      "“NAs introduced by coercion”\n"
     ]
    },
    {
     "data": {
      "text/html": [
       "<table class=\"dataframe\">\n",
       "<caption>A matrix: 1 × 5 of type chr</caption>\n",
       "<thead>\n",
       "\t<tr><th></th><th scope=col>Length</th><th scope=col>Class</th><th scope=col>Mode</th><th scope=col>sd</th><th scope=col>sd_err_of_mean</th></tr>\n",
       "</thead>\n",
       "<tbody>\n",
       "\t<tr><th scope=row>mean_insert_size_SNP</th><td>0</td><td>NULL</td><td>NULL</td><td>NA</td><td>NA</td></tr>\n",
       "</tbody>\n",
       "</table>\n"
      ],
      "text/latex": [
       "A matrix: 1 × 5 of type chr\n",
       "\\begin{tabular}{r|lllll}\n",
       "  & Length & Class & Mode & sd & sd\\_err\\_of\\_mean\\\\\n",
       "\\hline\n",
       "\tmean\\_insert\\_size\\_SNP & 0 & NULL & NULL & NA & NA\\\\\n",
       "\\end{tabular}\n"
      ],
      "text/markdown": [
       "\n",
       "A matrix: 1 × 5 of type chr\n",
       "\n",
       "| <!--/--> | Length | Class | Mode | sd | sd_err_of_mean |\n",
       "|---|---|---|---|---|---|\n",
       "| mean_insert_size_SNP | 0 | NULL | NULL | NA | NA |\n",
       "\n"
      ],
      "text/plain": [
       "                     Length Class Mode sd sd_err_of_mean\n",
       "mean_insert_size_SNP 0      NULL  NULL NA NA            "
      ]
     },
     "metadata": {},
     "output_type": "display_data"
    }
   ],
   "source": [
    "summary_x(bam2feat_all$mean_insert_size_SNP)\n",
    "summary_x(bam2feat_red$mean_insert_size_SNP)"
   ]
  },
  {
   "cell_type": "code",
   "execution_count": 49,
   "id": "a4d54dc3",
   "metadata": {
    "ExecuteTime": {
     "end_time": "2021-07-23T07:32:58.179286Z",
     "start_time": "2021-07-23T07:17:53.922Z"
    }
   },
   "outputs": [
    {
     "data": {
      "text/html": [
       "<table class=\"dataframe\">\n",
       "<caption>A matrix: 1 × 9 of type dbl</caption>\n",
       "<thead>\n",
       "\t<tr><th></th><th scope=col>Min.</th><th scope=col>1st Qu.</th><th scope=col>Median</th><th scope=col>Mean</th><th scope=col>3rd Qu.</th><th scope=col>Max.</th><th scope=col>NA's</th><th scope=col>sd</th><th scope=col>sd_err_of_mean</th></tr>\n",
       "</thead>\n",
       "<tbody>\n",
       "\t<tr><th scope=row>stdev_insert_size_SNP</th><td>0</td><td>16.26</td><td>35.36</td><td>46.78797</td><td>61.88</td><td>1961.51</td><td>129297592</td><td>48869763</td><td>18471034</td></tr>\n",
       "</tbody>\n",
       "</table>\n"
      ],
      "text/latex": [
       "A matrix: 1 × 9 of type dbl\n",
       "\\begin{tabular}{r|lllllllll}\n",
       "  & Min. & 1st Qu. & Median & Mean & 3rd Qu. & Max. & NA's & sd & sd\\_err\\_of\\_mean\\\\\n",
       "\\hline\n",
       "\tstdev\\_insert\\_size\\_SNP & 0 & 16.26 & 35.36 & 46.78797 & 61.88 & 1961.51 & 129297592 & 48869763 & 18471034\\\\\n",
       "\\end{tabular}\n"
      ],
      "text/markdown": [
       "\n",
       "A matrix: 1 × 9 of type dbl\n",
       "\n",
       "| <!--/--> | Min. | 1st Qu. | Median | Mean | 3rd Qu. | Max. | NA's | sd | sd_err_of_mean |\n",
       "|---|---|---|---|---|---|---|---|---|---|\n",
       "| stdev_insert_size_SNP | 0 | 16.26 | 35.36 | 46.78797 | 61.88 | 1961.51 | 129297592 | 48869763 | 18471034 |\n",
       "\n"
      ],
      "text/plain": [
       "                      Min. 1st Qu. Median Mean     3rd Qu. Max.    NA's     \n",
       "stdev_insert_size_SNP 0    16.26   35.36  46.78797 61.88   1961.51 129297592\n",
       "                      sd       sd_err_of_mean\n",
       "stdev_insert_size_SNP 48869763 18471034      "
      ]
     },
     "metadata": {},
     "output_type": "display_data"
    },
    {
     "name": "stderr",
     "output_type": "stream",
     "text": [
      "Warning message in is.data.frame(x):\n",
      "“NAs introduced by coercion”\n"
     ]
    },
    {
     "data": {
      "text/html": [
       "<table class=\"dataframe\">\n",
       "<caption>A matrix: 1 × 5 of type chr</caption>\n",
       "<thead>\n",
       "\t<tr><th></th><th scope=col>Length</th><th scope=col>Class</th><th scope=col>Mode</th><th scope=col>sd</th><th scope=col>sd_err_of_mean</th></tr>\n",
       "</thead>\n",
       "<tbody>\n",
       "\t<tr><th scope=row>stdev_insert_size_SNP</th><td>0</td><td>NULL</td><td>NULL</td><td>NA</td><td>NA</td></tr>\n",
       "</tbody>\n",
       "</table>\n"
      ],
      "text/latex": [
       "A matrix: 1 × 5 of type chr\n",
       "\\begin{tabular}{r|lllll}\n",
       "  & Length & Class & Mode & sd & sd\\_err\\_of\\_mean\\\\\n",
       "\\hline\n",
       "\tstdev\\_insert\\_size\\_SNP & 0 & NULL & NULL & NA & NA\\\\\n",
       "\\end{tabular}\n"
      ],
      "text/markdown": [
       "\n",
       "A matrix: 1 × 5 of type chr\n",
       "\n",
       "| <!--/--> | Length | Class | Mode | sd | sd_err_of_mean |\n",
       "|---|---|---|---|---|---|\n",
       "| stdev_insert_size_SNP | 0 | NULL | NULL | NA | NA |\n",
       "\n"
      ],
      "text/plain": [
       "                      Length Class Mode sd sd_err_of_mean\n",
       "stdev_insert_size_SNP 0      NULL  NULL NA NA            "
      ]
     },
     "metadata": {},
     "output_type": "display_data"
    }
   ],
   "source": [
    "summary_x(bam2feat_all$stdev_insert_size_SNP)\n",
    "summary_x(bam2feat_red$stdev_insert_size_SNP)"
   ]
  },
  {
   "cell_type": "code",
   "execution_count": 50,
   "id": "978b88d8",
   "metadata": {
    "ExecuteTime": {
     "end_time": "2021-07-23T07:33:00.211846Z",
     "start_time": "2021-07-23T07:17:57.968Z"
    }
   },
   "outputs": [
    {
     "data": {
      "text/html": [
       "<table class=\"dataframe\">\n",
       "<caption>A matrix: 1 × 9 of type dbl</caption>\n",
       "<thead>\n",
       "\t<tr><th></th><th scope=col>Min.</th><th scope=col>1st Qu.</th><th scope=col>Median</th><th scope=col>Mean</th><th scope=col>3rd Qu.</th><th scope=col>Max.</th><th scope=col>NA's</th><th scope=col>sd</th><th scope=col>sd_err_of_mean</th></tr>\n",
       "</thead>\n",
       "<tbody>\n",
       "\t<tr><th scope=row>max_insert_size_SNP</th><td>0</td><td>236</td><td>270</td><td>268.8599</td><td>304</td><td>2981</td><td>126446559</td><td>47792051</td><td>18063697</td></tr>\n",
       "</tbody>\n",
       "</table>\n"
      ],
      "text/latex": [
       "A matrix: 1 × 9 of type dbl\n",
       "\\begin{tabular}{r|lllllllll}\n",
       "  & Min. & 1st Qu. & Median & Mean & 3rd Qu. & Max. & NA's & sd & sd\\_err\\_of\\_mean\\\\\n",
       "\\hline\n",
       "\tmax\\_insert\\_size\\_SNP & 0 & 236 & 270 & 268.8599 & 304 & 2981 & 126446559 & 47792051 & 18063697\\\\\n",
       "\\end{tabular}\n"
      ],
      "text/markdown": [
       "\n",
       "A matrix: 1 × 9 of type dbl\n",
       "\n",
       "| <!--/--> | Min. | 1st Qu. | Median | Mean | 3rd Qu. | Max. | NA's | sd | sd_err_of_mean |\n",
       "|---|---|---|---|---|---|---|---|---|---|\n",
       "| max_insert_size_SNP | 0 | 236 | 270 | 268.8599 | 304 | 2981 | 126446559 | 47792051 | 18063697 |\n",
       "\n"
      ],
      "text/plain": [
       "                    Min. 1st Qu. Median Mean     3rd Qu. Max. NA's     \n",
       "max_insert_size_SNP 0    236     270    268.8599 304     2981 126446559\n",
       "                    sd       sd_err_of_mean\n",
       "max_insert_size_SNP 47792051 18063697      "
      ]
     },
     "metadata": {},
     "output_type": "display_data"
    },
    {
     "name": "stderr",
     "output_type": "stream",
     "text": [
      "Warning message in is.data.frame(x):\n",
      "“NAs introduced by coercion”\n"
     ]
    },
    {
     "data": {
      "text/html": [
       "<table class=\"dataframe\">\n",
       "<caption>A matrix: 1 × 5 of type chr</caption>\n",
       "<thead>\n",
       "\t<tr><th></th><th scope=col>Length</th><th scope=col>Class</th><th scope=col>Mode</th><th scope=col>sd</th><th scope=col>sd_err_of_mean</th></tr>\n",
       "</thead>\n",
       "<tbody>\n",
       "\t<tr><th scope=row>max_insert_size_SNP</th><td>0</td><td>NULL</td><td>NULL</td><td>NA</td><td>NA</td></tr>\n",
       "</tbody>\n",
       "</table>\n"
      ],
      "text/latex": [
       "A matrix: 1 × 5 of type chr\n",
       "\\begin{tabular}{r|lllll}\n",
       "  & Length & Class & Mode & sd & sd\\_err\\_of\\_mean\\\\\n",
       "\\hline\n",
       "\tmax\\_insert\\_size\\_SNP & 0 & NULL & NULL & NA & NA\\\\\n",
       "\\end{tabular}\n"
      ],
      "text/markdown": [
       "\n",
       "A matrix: 1 × 5 of type chr\n",
       "\n",
       "| <!--/--> | Length | Class | Mode | sd | sd_err_of_mean |\n",
       "|---|---|---|---|---|---|\n",
       "| max_insert_size_SNP | 0 | NULL | NULL | NA | NA |\n",
       "\n"
      ],
      "text/plain": [
       "                    Length Class Mode sd sd_err_of_mean\n",
       "max_insert_size_SNP 0      NULL  NULL NA NA            "
      ]
     },
     "metadata": {},
     "output_type": "display_data"
    }
   ],
   "source": [
    "summary_x(bam2feat_all$max_insert_size_SNP)\n",
    "summary_x(bam2feat_red$max_insert_size_SNP)"
   ]
  },
  {
   "cell_type": "code",
   "execution_count": 51,
   "id": "56735ca5",
   "metadata": {
    "ExecuteTime": {
     "end_time": "2021-07-23T07:33:01.551291Z",
     "start_time": "2021-07-23T07:18:02.040Z"
    }
   },
   "outputs": [
    {
     "data": {
      "text/html": [
       "<table class=\"dataframe\">\n",
       "<caption>A matrix: 1 × 9 of type dbl</caption>\n",
       "<thead>\n",
       "\t<tr><th></th><th scope=col>Min.</th><th scope=col>1st Qu.</th><th scope=col>Median</th><th scope=col>Mean</th><th scope=col>3rd Qu.</th><th scope=col>Max.</th><th scope=col>NA's</th><th scope=col>sd</th><th scope=col>sd_err_of_mean</th></tr>\n",
       "</thead>\n",
       "<tbody>\n",
       "\t<tr><th scope=row>min_mapq_SNP</th><td>0</td><td>42</td><td>42</td><td>41.58282</td><td>42</td><td>42</td><td>126446559</td><td>47792294</td><td>18063789</td></tr>\n",
       "</tbody>\n",
       "</table>\n"
      ],
      "text/latex": [
       "A matrix: 1 × 9 of type dbl\n",
       "\\begin{tabular}{r|lllllllll}\n",
       "  & Min. & 1st Qu. & Median & Mean & 3rd Qu. & Max. & NA's & sd & sd\\_err\\_of\\_mean\\\\\n",
       "\\hline\n",
       "\tmin\\_mapq\\_SNP & 0 & 42 & 42 & 41.58282 & 42 & 42 & 126446559 & 47792294 & 18063789\\\\\n",
       "\\end{tabular}\n"
      ],
      "text/markdown": [
       "\n",
       "A matrix: 1 × 9 of type dbl\n",
       "\n",
       "| <!--/--> | Min. | 1st Qu. | Median | Mean | 3rd Qu. | Max. | NA's | sd | sd_err_of_mean |\n",
       "|---|---|---|---|---|---|---|---|---|---|\n",
       "| min_mapq_SNP | 0 | 42 | 42 | 41.58282 | 42 | 42 | 126446559 | 47792294 | 18063789 |\n",
       "\n"
      ],
      "text/plain": [
       "             Min. 1st Qu. Median Mean     3rd Qu. Max. NA's      sd      \n",
       "min_mapq_SNP 0    42      42     41.58282 42      42   126446559 47792294\n",
       "             sd_err_of_mean\n",
       "min_mapq_SNP 18063789      "
      ]
     },
     "metadata": {},
     "output_type": "display_data"
    },
    {
     "name": "stderr",
     "output_type": "stream",
     "text": [
      "Warning message in is.data.frame(x):\n",
      "“NAs introduced by coercion”\n"
     ]
    },
    {
     "data": {
      "text/html": [
       "<table class=\"dataframe\">\n",
       "<caption>A matrix: 1 × 5 of type chr</caption>\n",
       "<thead>\n",
       "\t<tr><th></th><th scope=col>Length</th><th scope=col>Class</th><th scope=col>Mode</th><th scope=col>sd</th><th scope=col>sd_err_of_mean</th></tr>\n",
       "</thead>\n",
       "<tbody>\n",
       "\t<tr><th scope=row>min_mapq_SNP</th><td>0</td><td>NULL</td><td>NULL</td><td>NA</td><td>NA</td></tr>\n",
       "</tbody>\n",
       "</table>\n"
      ],
      "text/latex": [
       "A matrix: 1 × 5 of type chr\n",
       "\\begin{tabular}{r|lllll}\n",
       "  & Length & Class & Mode & sd & sd\\_err\\_of\\_mean\\\\\n",
       "\\hline\n",
       "\tmin\\_mapq\\_SNP & 0 & NULL & NULL & NA & NA\\\\\n",
       "\\end{tabular}\n"
      ],
      "text/markdown": [
       "\n",
       "A matrix: 1 × 5 of type chr\n",
       "\n",
       "| <!--/--> | Length | Class | Mode | sd | sd_err_of_mean |\n",
       "|---|---|---|---|---|---|\n",
       "| min_mapq_SNP | 0 | NULL | NULL | NA | NA |\n",
       "\n"
      ],
      "text/plain": [
       "             Length Class Mode sd sd_err_of_mean\n",
       "min_mapq_SNP 0      NULL  NULL NA NA            "
      ]
     },
     "metadata": {},
     "output_type": "display_data"
    }
   ],
   "source": [
    "summary_x(bam2feat_all$min_mapq_SNP)\n",
    "summary_x(bam2feat_red$min_mapq_SNP)"
   ]
  },
  {
   "cell_type": "code",
   "execution_count": 52,
   "id": "6b3e1300",
   "metadata": {
    "ExecuteTime": {
     "end_time": "2021-07-23T07:33:03.369074Z",
     "start_time": "2021-07-23T07:18:06.280Z"
    }
   },
   "outputs": [
    {
     "data": {
      "text/html": [
       "<table class=\"dataframe\">\n",
       "<caption>A matrix: 1 × 9 of type dbl</caption>\n",
       "<thead>\n",
       "\t<tr><th></th><th scope=col>Min.</th><th scope=col>1st Qu.</th><th scope=col>Median</th><th scope=col>Mean</th><th scope=col>3rd Qu.</th><th scope=col>Max.</th><th scope=col>NA's</th><th scope=col>sd</th><th scope=col>sd_err_of_mean</th></tr>\n",
       "</thead>\n",
       "<tbody>\n",
       "\t<tr><th scope=row>mean_mapq_SNP</th><td>0</td><td>42</td><td>42</td><td>41.61028</td><td>42</td><td>42</td><td>126446559</td><td>47792294</td><td>18063789</td></tr>\n",
       "</tbody>\n",
       "</table>\n"
      ],
      "text/latex": [
       "A matrix: 1 × 9 of type dbl\n",
       "\\begin{tabular}{r|lllllllll}\n",
       "  & Min. & 1st Qu. & Median & Mean & 3rd Qu. & Max. & NA's & sd & sd\\_err\\_of\\_mean\\\\\n",
       "\\hline\n",
       "\tmean\\_mapq\\_SNP & 0 & 42 & 42 & 41.61028 & 42 & 42 & 126446559 & 47792294 & 18063789\\\\\n",
       "\\end{tabular}\n"
      ],
      "text/markdown": [
       "\n",
       "A matrix: 1 × 9 of type dbl\n",
       "\n",
       "| <!--/--> | Min. | 1st Qu. | Median | Mean | 3rd Qu. | Max. | NA's | sd | sd_err_of_mean |\n",
       "|---|---|---|---|---|---|---|---|---|---|\n",
       "| mean_mapq_SNP | 0 | 42 | 42 | 41.61028 | 42 | 42 | 126446559 | 47792294 | 18063789 |\n",
       "\n"
      ],
      "text/plain": [
       "              Min. 1st Qu. Median Mean     3rd Qu. Max. NA's      sd      \n",
       "mean_mapq_SNP 0    42      42     41.61028 42      42   126446559 47792294\n",
       "              sd_err_of_mean\n",
       "mean_mapq_SNP 18063789      "
      ]
     },
     "metadata": {},
     "output_type": "display_data"
    },
    {
     "name": "stderr",
     "output_type": "stream",
     "text": [
      "Warning message in is.data.frame(x):\n",
      "“NAs introduced by coercion”\n"
     ]
    },
    {
     "data": {
      "text/html": [
       "<table class=\"dataframe\">\n",
       "<caption>A matrix: 1 × 5 of type chr</caption>\n",
       "<thead>\n",
       "\t<tr><th></th><th scope=col>Length</th><th scope=col>Class</th><th scope=col>Mode</th><th scope=col>sd</th><th scope=col>sd_err_of_mean</th></tr>\n",
       "</thead>\n",
       "<tbody>\n",
       "\t<tr><th scope=row>mean_mapq_SNP</th><td>0</td><td>NULL</td><td>NULL</td><td>NA</td><td>NA</td></tr>\n",
       "</tbody>\n",
       "</table>\n"
      ],
      "text/latex": [
       "A matrix: 1 × 5 of type chr\n",
       "\\begin{tabular}{r|lllll}\n",
       "  & Length & Class & Mode & sd & sd\\_err\\_of\\_mean\\\\\n",
       "\\hline\n",
       "\tmean\\_mapq\\_SNP & 0 & NULL & NULL & NA & NA\\\\\n",
       "\\end{tabular}\n"
      ],
      "text/markdown": [
       "\n",
       "A matrix: 1 × 5 of type chr\n",
       "\n",
       "| <!--/--> | Length | Class | Mode | sd | sd_err_of_mean |\n",
       "|---|---|---|---|---|---|\n",
       "| mean_mapq_SNP | 0 | NULL | NULL | NA | NA |\n",
       "\n"
      ],
      "text/plain": [
       "              Length Class Mode sd sd_err_of_mean\n",
       "mean_mapq_SNP 0      NULL  NULL NA NA            "
      ]
     },
     "metadata": {},
     "output_type": "display_data"
    }
   ],
   "source": [
    "summary_x(bam2feat_all$mean_mapq_SNP)\n",
    "summary_x(bam2feat_red$mean_mapq_SNP)"
   ]
  },
  {
   "cell_type": "code",
   "execution_count": 53,
   "id": "9823a274",
   "metadata": {
    "ExecuteTime": {
     "end_time": "2021-07-23T07:33:04.825747Z",
     "start_time": "2021-07-23T07:18:10.584Z"
    }
   },
   "outputs": [
    {
     "data": {
      "text/html": [
       "<table class=\"dataframe\">\n",
       "<caption>A matrix: 1 × 9 of type dbl</caption>\n",
       "<thead>\n",
       "\t<tr><th></th><th scope=col>Min.</th><th scope=col>1st Qu.</th><th scope=col>Median</th><th scope=col>Mean</th><th scope=col>3rd Qu.</th><th scope=col>Max.</th><th scope=col>NA's</th><th scope=col>sd</th><th scope=col>sd_err_of_mean</th></tr>\n",
       "</thead>\n",
       "<tbody>\n",
       "\t<tr><th scope=row>stdev_mapq_SNP</th><td>0</td><td>0</td><td>0</td><td>1.366866</td><td>0</td><td>29.7</td><td>129297592</td><td>48869894</td><td>18471084</td></tr>\n",
       "</tbody>\n",
       "</table>\n"
      ],
      "text/latex": [
       "A matrix: 1 × 9 of type dbl\n",
       "\\begin{tabular}{r|lllllllll}\n",
       "  & Min. & 1st Qu. & Median & Mean & 3rd Qu. & Max. & NA's & sd & sd\\_err\\_of\\_mean\\\\\n",
       "\\hline\n",
       "\tstdev\\_mapq\\_SNP & 0 & 0 & 0 & 1.366866 & 0 & 29.7 & 129297592 & 48869894 & 18471084\\\\\n",
       "\\end{tabular}\n"
      ],
      "text/markdown": [
       "\n",
       "A matrix: 1 × 9 of type dbl\n",
       "\n",
       "| <!--/--> | Min. | 1st Qu. | Median | Mean | 3rd Qu. | Max. | NA's | sd | sd_err_of_mean |\n",
       "|---|---|---|---|---|---|---|---|---|---|\n",
       "| stdev_mapq_SNP | 0 | 0 | 0 | 1.366866 | 0 | 29.7 | 129297592 | 48869894 | 18471084 |\n",
       "\n"
      ],
      "text/plain": [
       "               Min. 1st Qu. Median Mean     3rd Qu. Max. NA's      sd      \n",
       "stdev_mapq_SNP 0    0       0      1.366866 0       29.7 129297592 48869894\n",
       "               sd_err_of_mean\n",
       "stdev_mapq_SNP 18471084      "
      ]
     },
     "metadata": {},
     "output_type": "display_data"
    },
    {
     "name": "stderr",
     "output_type": "stream",
     "text": [
      "Warning message in is.data.frame(x):\n",
      "“NAs introduced by coercion”\n"
     ]
    },
    {
     "data": {
      "text/html": [
       "<table class=\"dataframe\">\n",
       "<caption>A matrix: 1 × 5 of type chr</caption>\n",
       "<thead>\n",
       "\t<tr><th></th><th scope=col>Length</th><th scope=col>Class</th><th scope=col>Mode</th><th scope=col>sd</th><th scope=col>sd_err_of_mean</th></tr>\n",
       "</thead>\n",
       "<tbody>\n",
       "\t<tr><th scope=row>stdev_mapq_SNP</th><td>0</td><td>NULL</td><td>NULL</td><td>NA</td><td>NA</td></tr>\n",
       "</tbody>\n",
       "</table>\n"
      ],
      "text/latex": [
       "A matrix: 1 × 5 of type chr\n",
       "\\begin{tabular}{r|lllll}\n",
       "  & Length & Class & Mode & sd & sd\\_err\\_of\\_mean\\\\\n",
       "\\hline\n",
       "\tstdev\\_mapq\\_SNP & 0 & NULL & NULL & NA & NA\\\\\n",
       "\\end{tabular}\n"
      ],
      "text/markdown": [
       "\n",
       "A matrix: 1 × 5 of type chr\n",
       "\n",
       "| <!--/--> | Length | Class | Mode | sd | sd_err_of_mean |\n",
       "|---|---|---|---|---|---|\n",
       "| stdev_mapq_SNP | 0 | NULL | NULL | NA | NA |\n",
       "\n"
      ],
      "text/plain": [
       "               Length Class Mode sd sd_err_of_mean\n",
       "stdev_mapq_SNP 0      NULL  NULL NA NA            "
      ]
     },
     "metadata": {},
     "output_type": "display_data"
    }
   ],
   "source": [
    "summary_x(bam2feat_all$stdev_mapq_SNP)\n",
    "summary_x(bam2feat_red$stdev_mapq_SNP)"
   ]
  },
  {
   "cell_type": "code",
   "execution_count": 54,
   "id": "2fa95511",
   "metadata": {
    "ExecuteTime": {
     "end_time": "2021-07-23T07:33:06.444783Z",
     "start_time": "2021-07-23T07:18:14.400Z"
    }
   },
   "outputs": [
    {
     "data": {
      "text/html": [
       "<table class=\"dataframe\">\n",
       "<caption>A matrix: 1 × 9 of type dbl</caption>\n",
       "<thead>\n",
       "\t<tr><th></th><th scope=col>Min.</th><th scope=col>1st Qu.</th><th scope=col>Median</th><th scope=col>Mean</th><th scope=col>3rd Qu.</th><th scope=col>Max.</th><th scope=col>NA's</th><th scope=col>sd</th><th scope=col>sd_err_of_mean</th></tr>\n",
       "</thead>\n",
       "<tbody>\n",
       "\t<tr><th scope=row>max_mapq_SNP</th><td>0</td><td>42</td><td>42</td><td>41.64174</td><td>42</td><td>42</td><td>126446559</td><td>47792294</td><td>18063789</td></tr>\n",
       "</tbody>\n",
       "</table>\n"
      ],
      "text/latex": [
       "A matrix: 1 × 9 of type dbl\n",
       "\\begin{tabular}{r|lllllllll}\n",
       "  & Min. & 1st Qu. & Median & Mean & 3rd Qu. & Max. & NA's & sd & sd\\_err\\_of\\_mean\\\\\n",
       "\\hline\n",
       "\tmax\\_mapq\\_SNP & 0 & 42 & 42 & 41.64174 & 42 & 42 & 126446559 & 47792294 & 18063789\\\\\n",
       "\\end{tabular}\n"
      ],
      "text/markdown": [
       "\n",
       "A matrix: 1 × 9 of type dbl\n",
       "\n",
       "| <!--/--> | Min. | 1st Qu. | Median | Mean | 3rd Qu. | Max. | NA's | sd | sd_err_of_mean |\n",
       "|---|---|---|---|---|---|---|---|---|---|\n",
       "| max_mapq_SNP | 0 | 42 | 42 | 41.64174 | 42 | 42 | 126446559 | 47792294 | 18063789 |\n",
       "\n"
      ],
      "text/plain": [
       "             Min. 1st Qu. Median Mean     3rd Qu. Max. NA's      sd      \n",
       "max_mapq_SNP 0    42      42     41.64174 42      42   126446559 47792294\n",
       "             sd_err_of_mean\n",
       "max_mapq_SNP 18063789      "
      ]
     },
     "metadata": {},
     "output_type": "display_data"
    },
    {
     "name": "stderr",
     "output_type": "stream",
     "text": [
      "Warning message in is.data.frame(x):\n",
      "“NAs introduced by coercion”\n"
     ]
    },
    {
     "data": {
      "text/html": [
       "<table class=\"dataframe\">\n",
       "<caption>A matrix: 1 × 5 of type chr</caption>\n",
       "<thead>\n",
       "\t<tr><th></th><th scope=col>Length</th><th scope=col>Class</th><th scope=col>Mode</th><th scope=col>sd</th><th scope=col>sd_err_of_mean</th></tr>\n",
       "</thead>\n",
       "<tbody>\n",
       "\t<tr><th scope=row>max_mapq_SNP</th><td>0</td><td>NULL</td><td>NULL</td><td>NA</td><td>NA</td></tr>\n",
       "</tbody>\n",
       "</table>\n"
      ],
      "text/latex": [
       "A matrix: 1 × 5 of type chr\n",
       "\\begin{tabular}{r|lllll}\n",
       "  & Length & Class & Mode & sd & sd\\_err\\_of\\_mean\\\\\n",
       "\\hline\n",
       "\tmax\\_mapq\\_SNP & 0 & NULL & NULL & NA & NA\\\\\n",
       "\\end{tabular}\n"
      ],
      "text/markdown": [
       "\n",
       "A matrix: 1 × 5 of type chr\n",
       "\n",
       "| <!--/--> | Length | Class | Mode | sd | sd_err_of_mean |\n",
       "|---|---|---|---|---|---|\n",
       "| max_mapq_SNP | 0 | NULL | NULL | NA | NA |\n",
       "\n"
      ],
      "text/plain": [
       "             Length Class Mode sd sd_err_of_mean\n",
       "max_mapq_SNP 0      NULL  NULL NA NA            "
      ]
     },
     "metadata": {},
     "output_type": "display_data"
    }
   ],
   "source": [
    "summary_x(bam2feat_all$max_mapq_SNP)\n",
    "summary_x(bam2feat_red$max_mapq_SNP)"
   ]
  },
  {
   "cell_type": "code",
   "execution_count": 55,
   "id": "f31cb8fd",
   "metadata": {
    "ExecuteTime": {
     "end_time": "2021-07-23T07:33:15.686546Z",
     "start_time": "2021-07-23T07:18:20.641Z"
    }
   },
   "outputs": [
    {
     "data": {
      "text/html": [
       "<table class=\"dataframe\">\n",
       "<caption>A matrix: 1 × 8 of type dbl</caption>\n",
       "<thead>\n",
       "\t<tr><th></th><th scope=col>Min.</th><th scope=col>1st Qu.</th><th scope=col>Median</th><th scope=col>Mean</th><th scope=col>3rd Qu.</th><th scope=col>Max.</th><th scope=col>sd</th><th scope=col>sd_err_of_mean</th></tr>\n",
       "</thead>\n",
       "<tbody>\n",
       "\t<tr><th scope=row>num_proper_SNP</th><td>0</td><td>0</td><td>0</td><td>0.0230986</td><td>0</td><td>48</td><td>19.594</td><td>7.999</td></tr>\n",
       "</tbody>\n",
       "</table>\n"
      ],
      "text/latex": [
       "A matrix: 1 × 8 of type dbl\n",
       "\\begin{tabular}{r|llllllll}\n",
       "  & Min. & 1st Qu. & Median & Mean & 3rd Qu. & Max. & sd & sd\\_err\\_of\\_mean\\\\\n",
       "\\hline\n",
       "\tnum\\_proper\\_SNP & 0 & 0 & 0 & 0.0230986 & 0 & 48 & 19.594 & 7.999\\\\\n",
       "\\end{tabular}\n"
      ],
      "text/markdown": [
       "\n",
       "A matrix: 1 × 8 of type dbl\n",
       "\n",
       "| <!--/--> | Min. | 1st Qu. | Median | Mean | 3rd Qu. | Max. | sd | sd_err_of_mean |\n",
       "|---|---|---|---|---|---|---|---|---|\n",
       "| num_proper_SNP | 0 | 0 | 0 | 0.0230986 | 0 | 48 | 19.594 | 7.999 |\n",
       "\n"
      ],
      "text/plain": [
       "               Min. 1st Qu. Median Mean      3rd Qu. Max. sd     sd_err_of_mean\n",
       "num_proper_SNP 0    0       0      0.0230986 0       48   19.594 7.999         "
      ]
     },
     "metadata": {},
     "output_type": "display_data"
    },
    {
     "data": {
      "text/html": [
       "<table class=\"dataframe\">\n",
       "<caption>A matrix: 1 × 8 of type dbl</caption>\n",
       "<thead>\n",
       "\t<tr><th></th><th scope=col>Min.</th><th scope=col>1st Qu.</th><th scope=col>Median</th><th scope=col>Mean</th><th scope=col>3rd Qu.</th><th scope=col>Max.</th><th scope=col>sd</th><th scope=col>sd_err_of_mean</th></tr>\n",
       "</thead>\n",
       "<tbody>\n",
       "\t<tr><th scope=row>num_proper_SNP</th><td>0</td><td>0</td><td>0</td><td>0.0230986</td><td>0</td><td>48</td><td>19.594</td><td>7.999</td></tr>\n",
       "</tbody>\n",
       "</table>\n"
      ],
      "text/latex": [
       "A matrix: 1 × 8 of type dbl\n",
       "\\begin{tabular}{r|llllllll}\n",
       "  & Min. & 1st Qu. & Median & Mean & 3rd Qu. & Max. & sd & sd\\_err\\_of\\_mean\\\\\n",
       "\\hline\n",
       "\tnum\\_proper\\_SNP & 0 & 0 & 0 & 0.0230986 & 0 & 48 & 19.594 & 7.999\\\\\n",
       "\\end{tabular}\n"
      ],
      "text/markdown": [
       "\n",
       "A matrix: 1 × 8 of type dbl\n",
       "\n",
       "| <!--/--> | Min. | 1st Qu. | Median | Mean | 3rd Qu. | Max. | sd | sd_err_of_mean |\n",
       "|---|---|---|---|---|---|---|---|---|\n",
       "| num_proper_SNP | 0 | 0 | 0 | 0.0230986 | 0 | 48 | 19.594 | 7.999 |\n",
       "\n"
      ],
      "text/plain": [
       "               Min. 1st Qu. Median Mean      3rd Qu. Max. sd     sd_err_of_mean\n",
       "num_proper_SNP 0    0       0      0.0230986 0       48   19.594 7.999         "
      ]
     },
     "metadata": {},
     "output_type": "display_data"
    }
   ],
   "source": [
    "summary_x(bam2feat_all$num_proper_SNP)\n",
    "summary_x(bam2feat_red$num_proper_SNP)"
   ]
  },
  {
   "cell_type": "code",
   "execution_count": 56,
   "id": "99d238da",
   "metadata": {
    "ExecuteTime": {
     "end_time": "2021-07-23T07:33:19.949929Z",
     "start_time": "2021-07-23T07:18:24.799Z"
    }
   },
   "outputs": [
    {
     "data": {
      "text/html": [
       "<table class=\"dataframe\">\n",
       "<caption>A matrix: 1 × 8 of type dbl</caption>\n",
       "<thead>\n",
       "\t<tr><th></th><th scope=col>Min.</th><th scope=col>1st Qu.</th><th scope=col>Median</th><th scope=col>Mean</th><th scope=col>3rd Qu.</th><th scope=col>Max.</th><th scope=col>sd</th><th scope=col>sd_err_of_mean</th></tr>\n",
       "</thead>\n",
       "<tbody>\n",
       "\t<tr><th scope=row>num_diff_strand_SNP</th><td>0</td><td>0</td><td>0</td><td>0</td><td>0</td><td>0</td><td>0</td><td>0</td></tr>\n",
       "</tbody>\n",
       "</table>\n"
      ],
      "text/latex": [
       "A matrix: 1 × 8 of type dbl\n",
       "\\begin{tabular}{r|llllllll}\n",
       "  & Min. & 1st Qu. & Median & Mean & 3rd Qu. & Max. & sd & sd\\_err\\_of\\_mean\\\\\n",
       "\\hline\n",
       "\tnum\\_diff\\_strand\\_SNP & 0 & 0 & 0 & 0 & 0 & 0 & 0 & 0\\\\\n",
       "\\end{tabular}\n"
      ],
      "text/markdown": [
       "\n",
       "A matrix: 1 × 8 of type dbl\n",
       "\n",
       "| <!--/--> | Min. | 1st Qu. | Median | Mean | 3rd Qu. | Max. | sd | sd_err_of_mean |\n",
       "|---|---|---|---|---|---|---|---|---|\n",
       "| num_diff_strand_SNP | 0 | 0 | 0 | 0 | 0 | 0 | 0 | 0 |\n",
       "\n"
      ],
      "text/plain": [
       "                    Min. 1st Qu. Median Mean 3rd Qu. Max. sd sd_err_of_mean\n",
       "num_diff_strand_SNP 0    0       0      0    0       0    0  0             "
      ]
     },
     "metadata": {},
     "output_type": "display_data"
    },
    {
     "name": "stderr",
     "output_type": "stream",
     "text": [
      "Warning message in is.data.frame(x):\n",
      "“NAs introduced by coercion”\n"
     ]
    },
    {
     "data": {
      "text/html": [
       "<table class=\"dataframe\">\n",
       "<caption>A matrix: 1 × 5 of type chr</caption>\n",
       "<thead>\n",
       "\t<tr><th></th><th scope=col>Length</th><th scope=col>Class</th><th scope=col>Mode</th><th scope=col>sd</th><th scope=col>sd_err_of_mean</th></tr>\n",
       "</thead>\n",
       "<tbody>\n",
       "\t<tr><th scope=row>num_diff_strand_SNP</th><td>0</td><td>NULL</td><td>NULL</td><td>NA</td><td>NA</td></tr>\n",
       "</tbody>\n",
       "</table>\n"
      ],
      "text/latex": [
       "A matrix: 1 × 5 of type chr\n",
       "\\begin{tabular}{r|lllll}\n",
       "  & Length & Class & Mode & sd & sd\\_err\\_of\\_mean\\\\\n",
       "\\hline\n",
       "\tnum\\_diff\\_strand\\_SNP & 0 & NULL & NULL & NA & NA\\\\\n",
       "\\end{tabular}\n"
      ],
      "text/markdown": [
       "\n",
       "A matrix: 1 × 5 of type chr\n",
       "\n",
       "| <!--/--> | Length | Class | Mode | sd | sd_err_of_mean |\n",
       "|---|---|---|---|---|---|\n",
       "| num_diff_strand_SNP | 0 | NULL | NULL | NA | NA |\n",
       "\n"
      ],
      "text/plain": [
       "                    Length Class Mode sd sd_err_of_mean\n",
       "num_diff_strand_SNP 0      NULL  NULL NA NA            "
      ]
     },
     "metadata": {},
     "output_type": "display_data"
    }
   ],
   "source": [
    "summary_x(bam2feat_all$num_diff_strand_SNP)\n",
    "summary_x(bam2feat_red$num_diff_strand_SNP)"
   ]
  },
  {
   "cell_type": "code",
   "execution_count": 57,
   "id": "70b50dbb",
   "metadata": {
    "ExecuteTime": {
     "end_time": "2021-07-23T07:33:24.346771Z",
     "start_time": "2021-07-23T07:18:28.702Z"
    }
   },
   "outputs": [
    {
     "data": {
      "text/html": [
       "<table class=\"dataframe\">\n",
       "<caption>A matrix: 1 × 8 of type dbl</caption>\n",
       "<thead>\n",
       "\t<tr><th></th><th scope=col>Min.</th><th scope=col>1st Qu.</th><th scope=col>Median</th><th scope=col>Mean</th><th scope=col>3rd Qu.</th><th scope=col>Max.</th><th scope=col>sd</th><th scope=col>sd_err_of_mean</th></tr>\n",
       "</thead>\n",
       "<tbody>\n",
       "\t<tr><th scope=row>num_orphans_SNP</th><td>0</td><td>0</td><td>0</td><td>0.0001562909</td><td>0</td><td>17</td><td>6.94</td><td>2.833</td></tr>\n",
       "</tbody>\n",
       "</table>\n"
      ],
      "text/latex": [
       "A matrix: 1 × 8 of type dbl\n",
       "\\begin{tabular}{r|llllllll}\n",
       "  & Min. & 1st Qu. & Median & Mean & 3rd Qu. & Max. & sd & sd\\_err\\_of\\_mean\\\\\n",
       "\\hline\n",
       "\tnum\\_orphans\\_SNP & 0 & 0 & 0 & 0.0001562909 & 0 & 17 & 6.94 & 2.833\\\\\n",
       "\\end{tabular}\n"
      ],
      "text/markdown": [
       "\n",
       "A matrix: 1 × 8 of type dbl\n",
       "\n",
       "| <!--/--> | Min. | 1st Qu. | Median | Mean | 3rd Qu. | Max. | sd | sd_err_of_mean |\n",
       "|---|---|---|---|---|---|---|---|---|\n",
       "| num_orphans_SNP | 0 | 0 | 0 | 0.0001562909 | 0 | 17 | 6.94 | 2.833 |\n",
       "\n"
      ],
      "text/plain": [
       "                Min. 1st Qu. Median Mean         3rd Qu. Max. sd  \n",
       "num_orphans_SNP 0    0       0      0.0001562909 0       17   6.94\n",
       "                sd_err_of_mean\n",
       "num_orphans_SNP 2.833         "
      ]
     },
     "metadata": {},
     "output_type": "display_data"
    },
    {
     "name": "stderr",
     "output_type": "stream",
     "text": [
      "Warning message in is.data.frame(x):\n",
      "“NAs introduced by coercion”\n"
     ]
    },
    {
     "data": {
      "text/html": [
       "<table class=\"dataframe\">\n",
       "<caption>A matrix: 1 × 5 of type chr</caption>\n",
       "<thead>\n",
       "\t<tr><th></th><th scope=col>Length</th><th scope=col>Class</th><th scope=col>Mode</th><th scope=col>sd</th><th scope=col>sd_err_of_mean</th></tr>\n",
       "</thead>\n",
       "<tbody>\n",
       "\t<tr><th scope=row>num_orphans_SNP</th><td>0</td><td>NULL</td><td>NULL</td><td>NA</td><td>NA</td></tr>\n",
       "</tbody>\n",
       "</table>\n"
      ],
      "text/latex": [
       "A matrix: 1 × 5 of type chr\n",
       "\\begin{tabular}{r|lllll}\n",
       "  & Length & Class & Mode & sd & sd\\_err\\_of\\_mean\\\\\n",
       "\\hline\n",
       "\tnum\\_orphans\\_SNP & 0 & NULL & NULL & NA & NA\\\\\n",
       "\\end{tabular}\n"
      ],
      "text/markdown": [
       "\n",
       "A matrix: 1 × 5 of type chr\n",
       "\n",
       "| <!--/--> | Length | Class | Mode | sd | sd_err_of_mean |\n",
       "|---|---|---|---|---|---|\n",
       "| num_orphans_SNP | 0 | NULL | NULL | NA | NA |\n",
       "\n"
      ],
      "text/plain": [
       "                Length Class Mode sd sd_err_of_mean\n",
       "num_orphans_SNP 0      NULL  NULL NA NA            "
      ]
     },
     "metadata": {},
     "output_type": "display_data"
    }
   ],
   "source": [
    "summary_x(bam2feat_all$num_orphans_SNP)\n",
    "summary_x(bam2feat_red$num_orphans_SNP)"
   ]
  },
  {
   "cell_type": "code",
   "execution_count": 58,
   "id": "a3da950a",
   "metadata": {
    "ExecuteTime": {
     "end_time": "2021-07-23T07:33:28.545652Z",
     "start_time": "2021-07-23T07:18:32.832Z"
    }
   },
   "outputs": [
    {
     "data": {
      "text/html": [
       "<table class=\"dataframe\">\n",
       "<caption>A matrix: 1 × 8 of type dbl</caption>\n",
       "<thead>\n",
       "\t<tr><th></th><th scope=col>Min.</th><th scope=col>1st Qu.</th><th scope=col>Median</th><th scope=col>Mean</th><th scope=col>3rd Qu.</th><th scope=col>Max.</th><th scope=col>sd</th><th scope=col>sd_err_of_mean</th></tr>\n",
       "</thead>\n",
       "<tbody>\n",
       "\t<tr><th scope=row>num_supplementary_SNP</th><td>0</td><td>0</td><td>0</td><td>0</td><td>0</td><td>0</td><td>0</td><td>0</td></tr>\n",
       "</tbody>\n",
       "</table>\n"
      ],
      "text/latex": [
       "A matrix: 1 × 8 of type dbl\n",
       "\\begin{tabular}{r|llllllll}\n",
       "  & Min. & 1st Qu. & Median & Mean & 3rd Qu. & Max. & sd & sd\\_err\\_of\\_mean\\\\\n",
       "\\hline\n",
       "\tnum\\_supplementary\\_SNP & 0 & 0 & 0 & 0 & 0 & 0 & 0 & 0\\\\\n",
       "\\end{tabular}\n"
      ],
      "text/markdown": [
       "\n",
       "A matrix: 1 × 8 of type dbl\n",
       "\n",
       "| <!--/--> | Min. | 1st Qu. | Median | Mean | 3rd Qu. | Max. | sd | sd_err_of_mean |\n",
       "|---|---|---|---|---|---|---|---|---|\n",
       "| num_supplementary_SNP | 0 | 0 | 0 | 0 | 0 | 0 | 0 | 0 |\n",
       "\n"
      ],
      "text/plain": [
       "                      Min. 1st Qu. Median Mean 3rd Qu. Max. sd sd_err_of_mean\n",
       "num_supplementary_SNP 0    0       0      0    0       0    0  0             "
      ]
     },
     "metadata": {},
     "output_type": "display_data"
    },
    {
     "name": "stderr",
     "output_type": "stream",
     "text": [
      "Warning message in is.data.frame(x):\n",
      "“NAs introduced by coercion”\n"
     ]
    },
    {
     "data": {
      "text/html": [
       "<table class=\"dataframe\">\n",
       "<caption>A matrix: 1 × 5 of type chr</caption>\n",
       "<thead>\n",
       "\t<tr><th></th><th scope=col>Length</th><th scope=col>Class</th><th scope=col>Mode</th><th scope=col>sd</th><th scope=col>sd_err_of_mean</th></tr>\n",
       "</thead>\n",
       "<tbody>\n",
       "\t<tr><th scope=row>num_supplementary_SNP</th><td>0</td><td>NULL</td><td>NULL</td><td>NA</td><td>NA</td></tr>\n",
       "</tbody>\n",
       "</table>\n"
      ],
      "text/latex": [
       "A matrix: 1 × 5 of type chr\n",
       "\\begin{tabular}{r|lllll}\n",
       "  & Length & Class & Mode & sd & sd\\_err\\_of\\_mean\\\\\n",
       "\\hline\n",
       "\tnum\\_supplementary\\_SNP & 0 & NULL & NULL & NA & NA\\\\\n",
       "\\end{tabular}\n"
      ],
      "text/markdown": [
       "\n",
       "A matrix: 1 × 5 of type chr\n",
       "\n",
       "| <!--/--> | Length | Class | Mode | sd | sd_err_of_mean |\n",
       "|---|---|---|---|---|---|\n",
       "| num_supplementary_SNP | 0 | NULL | NULL | NA | NA |\n",
       "\n"
      ],
      "text/plain": [
       "                      Length Class Mode sd sd_err_of_mean\n",
       "num_supplementary_SNP 0      NULL  NULL NA NA            "
      ]
     },
     "metadata": {},
     "output_type": "display_data"
    }
   ],
   "source": [
    "summary_x(bam2feat_all$num_supplementary_SNP)\n",
    "summary_x(bam2feat_red$num_supplementary_SNP)"
   ]
  },
  {
   "cell_type": "code",
   "execution_count": 59,
   "id": "f1361111",
   "metadata": {
    "ExecuteTime": {
     "end_time": "2021-07-23T07:33:33.810084Z",
     "start_time": "2021-07-23T07:18:36.903Z"
    }
   },
   "outputs": [
    {
     "data": {
      "text/html": [
       "<table class=\"dataframe\">\n",
       "<caption>A matrix: 1 × 8 of type dbl</caption>\n",
       "<thead>\n",
       "\t<tr><th></th><th scope=col>Min.</th><th scope=col>1st Qu.</th><th scope=col>Median</th><th scope=col>Mean</th><th scope=col>3rd Qu.</th><th scope=col>Max.</th><th scope=col>sd</th><th scope=col>sd_err_of_mean</th></tr>\n",
       "</thead>\n",
       "<tbody>\n",
       "\t<tr><th scope=row>num_secondary_SNP</th><td>0</td><td>0</td><td>0</td><td>0</td><td>0</td><td>0</td><td>0</td><td>0</td></tr>\n",
       "</tbody>\n",
       "</table>\n"
      ],
      "text/latex": [
       "A matrix: 1 × 8 of type dbl\n",
       "\\begin{tabular}{r|llllllll}\n",
       "  & Min. & 1st Qu. & Median & Mean & 3rd Qu. & Max. & sd & sd\\_err\\_of\\_mean\\\\\n",
       "\\hline\n",
       "\tnum\\_secondary\\_SNP & 0 & 0 & 0 & 0 & 0 & 0 & 0 & 0\\\\\n",
       "\\end{tabular}\n"
      ],
      "text/markdown": [
       "\n",
       "A matrix: 1 × 8 of type dbl\n",
       "\n",
       "| <!--/--> | Min. | 1st Qu. | Median | Mean | 3rd Qu. | Max. | sd | sd_err_of_mean |\n",
       "|---|---|---|---|---|---|---|---|---|\n",
       "| num_secondary_SNP | 0 | 0 | 0 | 0 | 0 | 0 | 0 | 0 |\n",
       "\n"
      ],
      "text/plain": [
       "                  Min. 1st Qu. Median Mean 3rd Qu. Max. sd sd_err_of_mean\n",
       "num_secondary_SNP 0    0       0      0    0       0    0  0             "
      ]
     },
     "metadata": {},
     "output_type": "display_data"
    },
    {
     "name": "stderr",
     "output_type": "stream",
     "text": [
      "Warning message in is.data.frame(x):\n",
      "“NAs introduced by coercion”\n"
     ]
    },
    {
     "data": {
      "text/html": [
       "<table class=\"dataframe\">\n",
       "<caption>A matrix: 1 × 5 of type chr</caption>\n",
       "<thead>\n",
       "\t<tr><th></th><th scope=col>Length</th><th scope=col>Class</th><th scope=col>Mode</th><th scope=col>sd</th><th scope=col>sd_err_of_mean</th></tr>\n",
       "</thead>\n",
       "<tbody>\n",
       "\t<tr><th scope=row>num_secondary_SNP</th><td>0</td><td>NULL</td><td>NULL</td><td>NA</td><td>NA</td></tr>\n",
       "</tbody>\n",
       "</table>\n"
      ],
      "text/latex": [
       "A matrix: 1 × 5 of type chr\n",
       "\\begin{tabular}{r|lllll}\n",
       "  & Length & Class & Mode & sd & sd\\_err\\_of\\_mean\\\\\n",
       "\\hline\n",
       "\tnum\\_secondary\\_SNP & 0 & NULL & NULL & NA & NA\\\\\n",
       "\\end{tabular}\n"
      ],
      "text/markdown": [
       "\n",
       "A matrix: 1 × 5 of type chr\n",
       "\n",
       "| <!--/--> | Length | Class | Mode | sd | sd_err_of_mean |\n",
       "|---|---|---|---|---|---|\n",
       "| num_secondary_SNP | 0 | NULL | NULL | NA | NA |\n",
       "\n"
      ],
      "text/plain": [
       "                  Length Class Mode sd sd_err_of_mean\n",
       "num_secondary_SNP 0      NULL  NULL NA NA            "
      ]
     },
     "metadata": {},
     "output_type": "display_data"
    }
   ],
   "source": [
    "summary_x(bam2feat_all$num_secondary_SNP)\n",
    "summary_x(bam2feat_red$num_secondary_SNP)"
   ]
  },
  {
   "cell_type": "code",
   "execution_count": 60,
   "id": "54bef4fa",
   "metadata": {
    "ExecuteTime": {
     "end_time": "2021-07-23T07:33:38.248206Z",
     "start_time": "2021-07-23T07:18:40.871Z"
    }
   },
   "outputs": [
    {
     "data": {
      "text/html": [
       "<table class=\"dataframe\">\n",
       "<caption>A matrix: 1 × 8 of type dbl</caption>\n",
       "<thead>\n",
       "\t<tr><th></th><th scope=col>Min.</th><th scope=col>1st Qu.</th><th scope=col>Median</th><th scope=col>Mean</th><th scope=col>3rd Qu.</th><th scope=col>Max.</th><th scope=col>sd</th><th scope=col>sd_err_of_mean</th></tr>\n",
       "</thead>\n",
       "<tbody>\n",
       "\t<tr><th scope=row>num_discordant_SNP</th><td>0</td><td>0</td><td>0</td><td>0.000129807</td><td>0</td><td>34</td><td>13.88</td><td>5.667</td></tr>\n",
       "</tbody>\n",
       "</table>\n"
      ],
      "text/latex": [
       "A matrix: 1 × 8 of type dbl\n",
       "\\begin{tabular}{r|llllllll}\n",
       "  & Min. & 1st Qu. & Median & Mean & 3rd Qu. & Max. & sd & sd\\_err\\_of\\_mean\\\\\n",
       "\\hline\n",
       "\tnum\\_discordant\\_SNP & 0 & 0 & 0 & 0.000129807 & 0 & 34 & 13.88 & 5.667\\\\\n",
       "\\end{tabular}\n"
      ],
      "text/markdown": [
       "\n",
       "A matrix: 1 × 8 of type dbl\n",
       "\n",
       "| <!--/--> | Min. | 1st Qu. | Median | Mean | 3rd Qu. | Max. | sd | sd_err_of_mean |\n",
       "|---|---|---|---|---|---|---|---|---|\n",
       "| num_discordant_SNP | 0 | 0 | 0 | 0.000129807 | 0 | 34 | 13.88 | 5.667 |\n",
       "\n"
      ],
      "text/plain": [
       "                   Min. 1st Qu. Median Mean        3rd Qu. Max. sd   \n",
       "num_discordant_SNP 0    0       0      0.000129807 0       34   13.88\n",
       "                   sd_err_of_mean\n",
       "num_discordant_SNP 5.667         "
      ]
     },
     "metadata": {},
     "output_type": "display_data"
    },
    {
     "name": "stderr",
     "output_type": "stream",
     "text": [
      "Warning message in is.data.frame(x):\n",
      "“NAs introduced by coercion”\n"
     ]
    },
    {
     "data": {
      "text/html": [
       "<table class=\"dataframe\">\n",
       "<caption>A matrix: 1 × 5 of type chr</caption>\n",
       "<thead>\n",
       "\t<tr><th></th><th scope=col>Length</th><th scope=col>Class</th><th scope=col>Mode</th><th scope=col>sd</th><th scope=col>sd_err_of_mean</th></tr>\n",
       "</thead>\n",
       "<tbody>\n",
       "\t<tr><th scope=row>num_discordant_SNP</th><td>0</td><td>NULL</td><td>NULL</td><td>NA</td><td>NA</td></tr>\n",
       "</tbody>\n",
       "</table>\n"
      ],
      "text/latex": [
       "A matrix: 1 × 5 of type chr\n",
       "\\begin{tabular}{r|lllll}\n",
       "  & Length & Class & Mode & sd & sd\\_err\\_of\\_mean\\\\\n",
       "\\hline\n",
       "\tnum\\_discordant\\_SNP & 0 & NULL & NULL & NA & NA\\\\\n",
       "\\end{tabular}\n"
      ],
      "text/markdown": [
       "\n",
       "A matrix: 1 × 5 of type chr\n",
       "\n",
       "| <!--/--> | Length | Class | Mode | sd | sd_err_of_mean |\n",
       "|---|---|---|---|---|---|\n",
       "| num_discordant_SNP | 0 | NULL | NULL | NA | NA |\n",
       "\n"
      ],
      "text/plain": [
       "                   Length Class Mode sd sd_err_of_mean\n",
       "num_discordant_SNP 0      NULL  NULL NA NA            "
      ]
     },
     "metadata": {},
     "output_type": "display_data"
    }
   ],
   "source": [
    "summary_x(bam2feat_all$num_discordant_SNP)\n",
    "summary_x(bam2feat_red$num_discordant_SNP)"
   ]
  },
  {
   "cell_type": "markdown",
   "id": "10fe54db",
   "metadata": {},
   "source": [
    "### G+C & entropy"
   ]
  },
  {
   "cell_type": "code",
   "execution_count": 61,
   "id": "a5077b4f",
   "metadata": {
    "ExecuteTime": {
     "end_time": "2021-07-23T07:34:07.722679Z",
     "start_time": "2021-07-23T07:18:46.286Z"
    }
   },
   "outputs": [
    {
     "data": {
      "text/html": [
       "<table class=\"dataframe\">\n",
       "<caption>A matrix: 1 × 8 of type dbl</caption>\n",
       "<thead>\n",
       "\t<tr><th></th><th scope=col>Min.</th><th scope=col>1st Qu.</th><th scope=col>Median</th><th scope=col>Mean</th><th scope=col>3rd Qu.</th><th scope=col>Max.</th><th scope=col>sd</th><th scope=col>sd_err_of_mean</th></tr>\n",
       "</thead>\n",
       "<tbody>\n",
       "\t<tr><th scope=row>seq_window_entropy</th><td>0</td><td>1.46</td><td>1.46</td><td>1.494556</td><td>1.79</td><td>1.92</td><td>0.691</td><td>0.282</td></tr>\n",
       "</tbody>\n",
       "</table>\n"
      ],
      "text/latex": [
       "A matrix: 1 × 8 of type dbl\n",
       "\\begin{tabular}{r|llllllll}\n",
       "  & Min. & 1st Qu. & Median & Mean & 3rd Qu. & Max. & sd & sd\\_err\\_of\\_mean\\\\\n",
       "\\hline\n",
       "\tseq\\_window\\_entropy & 0 & 1.46 & 1.46 & 1.494556 & 1.79 & 1.92 & 0.691 & 0.282\\\\\n",
       "\\end{tabular}\n"
      ],
      "text/markdown": [
       "\n",
       "A matrix: 1 × 8 of type dbl\n",
       "\n",
       "| <!--/--> | Min. | 1st Qu. | Median | Mean | 3rd Qu. | Max. | sd | sd_err_of_mean |\n",
       "|---|---|---|---|---|---|---|---|---|\n",
       "| seq_window_entropy | 0 | 1.46 | 1.46 | 1.494556 | 1.79 | 1.92 | 0.691 | 0.282 |\n",
       "\n"
      ],
      "text/plain": [
       "                   Min. 1st Qu. Median Mean     3rd Qu. Max. sd   \n",
       "seq_window_entropy 0    1.46    1.46   1.494556 1.79    1.92 0.691\n",
       "                   sd_err_of_mean\n",
       "seq_window_entropy 0.282         "
      ]
     },
     "metadata": {},
     "output_type": "display_data"
    },
    {
     "data": {
      "text/html": [
       "<table class=\"dataframe\">\n",
       "<caption>A matrix: 1 × 8 of type dbl</caption>\n",
       "<thead>\n",
       "\t<tr><th></th><th scope=col>Min.</th><th scope=col>1st Qu.</th><th scope=col>Median</th><th scope=col>Mean</th><th scope=col>3rd Qu.</th><th scope=col>Max.</th><th scope=col>sd</th><th scope=col>sd_err_of_mean</th></tr>\n",
       "</thead>\n",
       "<tbody>\n",
       "\t<tr><th scope=row>seq_window_entropy</th><td>0</td><td>1.46</td><td>1.46</td><td>1.494556</td><td>1.79</td><td>1.92</td><td>0.691</td><td>0.282</td></tr>\n",
       "</tbody>\n",
       "</table>\n"
      ],
      "text/latex": [
       "A matrix: 1 × 8 of type dbl\n",
       "\\begin{tabular}{r|llllllll}\n",
       "  & Min. & 1st Qu. & Median & Mean & 3rd Qu. & Max. & sd & sd\\_err\\_of\\_mean\\\\\n",
       "\\hline\n",
       "\tseq\\_window\\_entropy & 0 & 1.46 & 1.46 & 1.494556 & 1.79 & 1.92 & 0.691 & 0.282\\\\\n",
       "\\end{tabular}\n"
      ],
      "text/markdown": [
       "\n",
       "A matrix: 1 × 8 of type dbl\n",
       "\n",
       "| <!--/--> | Min. | 1st Qu. | Median | Mean | 3rd Qu. | Max. | sd | sd_err_of_mean |\n",
       "|---|---|---|---|---|---|---|---|---|\n",
       "| seq_window_entropy | 0 | 1.46 | 1.46 | 1.494556 | 1.79 | 1.92 | 0.691 | 0.282 |\n",
       "\n"
      ],
      "text/plain": [
       "                   Min. 1st Qu. Median Mean     3rd Qu. Max. sd   \n",
       "seq_window_entropy 0    1.46    1.46   1.494556 1.79    1.92 0.691\n",
       "                   sd_err_of_mean\n",
       "seq_window_entropy 0.282         "
      ]
     },
     "metadata": {},
     "output_type": "display_data"
    }
   ],
   "source": [
    "summary_x(bam2feat_all$seq_window_entropy)\n",
    "summary_x(bam2feat_red$seq_window_entropy)"
   ]
  },
  {
   "cell_type": "code",
   "execution_count": 62,
   "id": "2f72a20c",
   "metadata": {
    "ExecuteTime": {
     "end_time": "2021-07-23T07:34:38.998068Z",
     "start_time": "2021-07-23T07:18:50.768Z"
    }
   },
   "outputs": [
    {
     "data": {
      "text/html": [
       "<table class=\"dataframe\">\n",
       "<caption>A matrix: 1 × 8 of type dbl</caption>\n",
       "<thead>\n",
       "\t<tr><th></th><th scope=col>Min.</th><th scope=col>1st Qu.</th><th scope=col>Median</th><th scope=col>Mean</th><th scope=col>3rd Qu.</th><th scope=col>Max.</th><th scope=col>sd</th><th scope=col>sd_err_of_mean</th></tr>\n",
       "</thead>\n",
       "<tbody>\n",
       "\t<tr><th scope=row>seq_window_perc_gc</th><td>0</td><td>0.5</td><td>0.667</td><td>0.5812968</td><td>0.833</td><td>1</td><td>0.343</td><td>0.14</td></tr>\n",
       "</tbody>\n",
       "</table>\n"
      ],
      "text/latex": [
       "A matrix: 1 × 8 of type dbl\n",
       "\\begin{tabular}{r|llllllll}\n",
       "  & Min. & 1st Qu. & Median & Mean & 3rd Qu. & Max. & sd & sd\\_err\\_of\\_mean\\\\\n",
       "\\hline\n",
       "\tseq\\_window\\_perc\\_gc & 0 & 0.5 & 0.667 & 0.5812968 & 0.833 & 1 & 0.343 & 0.14\\\\\n",
       "\\end{tabular}\n"
      ],
      "text/markdown": [
       "\n",
       "A matrix: 1 × 8 of type dbl\n",
       "\n",
       "| <!--/--> | Min. | 1st Qu. | Median | Mean | 3rd Qu. | Max. | sd | sd_err_of_mean |\n",
       "|---|---|---|---|---|---|---|---|---|\n",
       "| seq_window_perc_gc | 0 | 0.5 | 0.667 | 0.5812968 | 0.833 | 1 | 0.343 | 0.14 |\n",
       "\n"
      ],
      "text/plain": [
       "                   Min. 1st Qu. Median Mean      3rd Qu. Max. sd   \n",
       "seq_window_perc_gc 0    0.5     0.667  0.5812968 0.833   1    0.343\n",
       "                   sd_err_of_mean\n",
       "seq_window_perc_gc 0.14          "
      ]
     },
     "metadata": {},
     "output_type": "display_data"
    },
    {
     "data": {
      "text/html": [
       "<table class=\"dataframe\">\n",
       "<caption>A matrix: 1 × 8 of type dbl</caption>\n",
       "<thead>\n",
       "\t<tr><th></th><th scope=col>Min.</th><th scope=col>1st Qu.</th><th scope=col>Median</th><th scope=col>Mean</th><th scope=col>3rd Qu.</th><th scope=col>Max.</th><th scope=col>sd</th><th scope=col>sd_err_of_mean</th></tr>\n",
       "</thead>\n",
       "<tbody>\n",
       "\t<tr><th scope=row>seq_window_perc_gc</th><td>0</td><td>0.5</td><td>0.667</td><td>0.5812968</td><td>0.833</td><td>1</td><td>0.343</td><td>0.14</td></tr>\n",
       "</tbody>\n",
       "</table>\n"
      ],
      "text/latex": [
       "A matrix: 1 × 8 of type dbl\n",
       "\\begin{tabular}{r|llllllll}\n",
       "  & Min. & 1st Qu. & Median & Mean & 3rd Qu. & Max. & sd & sd\\_err\\_of\\_mean\\\\\n",
       "\\hline\n",
       "\tseq\\_window\\_perc\\_gc & 0 & 0.5 & 0.667 & 0.5812968 & 0.833 & 1 & 0.343 & 0.14\\\\\n",
       "\\end{tabular}\n"
      ],
      "text/markdown": [
       "\n",
       "A matrix: 1 × 8 of type dbl\n",
       "\n",
       "| <!--/--> | Min. | 1st Qu. | Median | Mean | 3rd Qu. | Max. | sd | sd_err_of_mean |\n",
       "|---|---|---|---|---|---|---|---|---|\n",
       "| seq_window_perc_gc | 0 | 0.5 | 0.667 | 0.5812968 | 0.833 | 1 | 0.343 | 0.14 |\n",
       "\n"
      ],
      "text/plain": [
       "                   Min. 1st Qu. Median Mean      3rd Qu. Max. sd   \n",
       "seq_window_perc_gc 0    0.5     0.667  0.5812968 0.833   1    0.343\n",
       "                   sd_err_of_mean\n",
       "seq_window_perc_gc 0.14          "
      ]
     },
     "metadata": {},
     "output_type": "display_data"
    }
   ],
   "source": [
    "summary_x(bam2feat_all$seq_window_perc_gc)\n",
    "summary_x(bam2feat_red$seq_window_perc_gc)"
   ]
  },
  {
   "cell_type": "markdown",
   "id": "2b31579b",
   "metadata": {},
   "source": [
    "# sessionInfo"
   ]
  },
  {
   "cell_type": "code",
   "execution_count": 63,
   "id": "8e4d7f63",
   "metadata": {
    "ExecuteTime": {
     "end_time": "2021-07-23T07:34:40.459432Z",
     "start_time": "2021-07-23T07:18:52.889Z"
    }
   },
   "outputs": [
    {
     "data": {
      "text/plain": [
       "R version 4.1.0 (2021-05-18)\n",
       "Platform: x86_64-conda-linux-gnu (64-bit)\n",
       "Running under: Ubuntu 18.04.5 LTS\n",
       "\n",
       "Matrix products: default\n",
       "BLAS/LAPACK: /ebio/abt3_projects/DeepMAsED/envs/tidyverse/lib/libopenblasp-r0.3.15.so\n",
       "\n",
       "locale:\n",
       " [1] LC_CTYPE=en_US.UTF-8       LC_NUMERIC=C              \n",
       " [3] LC_TIME=en_US.UTF-8        LC_COLLATE=en_US.UTF-8    \n",
       " [5] LC_MONETARY=en_US.UTF-8    LC_MESSAGES=en_US.UTF-8   \n",
       " [7] LC_PAPER=en_US.UTF-8       LC_NAME=C                 \n",
       " [9] LC_ADDRESS=C               LC_TELEPHONE=C            \n",
       "[11] LC_MEASUREMENT=en_US.UTF-8 LC_IDENTIFICATION=C       \n",
       "\n",
       "attached base packages:\n",
       "[1] stats     graphics  grDevices utils     datasets  methods   base     \n",
       "\n",
       "other attached packages:\n",
       "[1] LeyLabRMisc_0.1.9 tidytable_0.6.3   data.table_1.14.0 ggplot2_3.3.5    \n",
       "[5] tidyr_1.1.3       dplyr_1.0.7      \n",
       "\n",
       "loaded via a namespace (and not attached):\n",
       " [1] pillar_1.6.1      compiler_4.1.0    R.methodsS3_1.8.1 base64enc_0.1-3  \n",
       " [5] R.utils_2.10.1    tools_4.1.0       digest_0.6.27     uuid_0.1-4       \n",
       " [9] jsonlite_1.7.2    evaluate_0.14     lifecycle_1.0.0   tibble_3.1.2     \n",
       "[13] gtable_0.3.0      pkgconfig_2.0.3   rlang_0.4.11      IRdisplay_1.0    \n",
       "[17] IRkernel_1.2      repr_1.1.3        withr_2.4.2       generics_0.1.0   \n",
       "[21] vctrs_0.3.8       grid_4.1.0        tidyselect_1.1.1  glue_1.4.2       \n",
       "[25] R6_2.5.0          fansi_0.4.2       pbdZMQ_0.3-5      purrr_0.3.4      \n",
       "[29] magrittr_2.0.1    scales_1.1.1      ellipsis_0.3.2    htmltools_0.5.1.1\n",
       "[33] colorspace_2.0-2  utf8_1.2.1        munsell_0.5.0     crayon_1.4.1     \n",
       "[37] R.oo_1.24.0      "
      ]
     },
     "metadata": {},
     "output_type": "display_data"
    }
   ],
   "source": [
    "sessionInfo()"
   ]
  }
 ],
 "metadata": {
  "kernelspec": {
   "display_name": "R [conda env:DeepMAsED-tidyverse]",
   "language": "R",
   "name": "conda-env-DeepMAsED-tidyverse-r"
  },
  "language_info": {
   "codemirror_mode": "r",
   "file_extension": ".r",
   "mimetype": "text/x-r-source",
   "name": "R",
   "pygments_lexer": "r",
   "version": "4.1.0"
  },
  "notify_time": "30",
  "toc": {
   "base_numbering": 1,
   "nav_menu": {},
   "number_sections": true,
   "sideBar": true,
   "skip_h1_title": false,
   "title_cell": "Table of Contents",
   "title_sidebar": "Contents",
   "toc_cell": true,
   "toc_position": {},
   "toc_section_display": true,
   "toc_window_display": true
  }
 },
 "nbformat": 4,
 "nbformat_minor": 5
}
