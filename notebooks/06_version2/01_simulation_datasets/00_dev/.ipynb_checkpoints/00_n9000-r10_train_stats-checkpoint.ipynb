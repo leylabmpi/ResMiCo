{
 "cells": [
  {
   "cell_type": "markdown",
   "id": "39bd1d6c",
   "metadata": {
    "toc": true
   },
   "source": [
    "<h1>Table of Contents<span class=\"tocSkip\"></span></h1>\n",
    "<div class=\"toc\"><ul class=\"toc-item\"><li><span><a href=\"#Var\" data-toc-modified-id=\"Var-1\"><span class=\"toc-item-num\">1&nbsp;&nbsp;</span>Var</a></span></li><li><span><a href=\"#Init\" data-toc-modified-id=\"Init-2\"><span class=\"toc-item-num\">2&nbsp;&nbsp;</span>Init</a></span></li><li><span><a href=\"#Load\" data-toc-modified-id=\"Load-3\"><span class=\"toc-item-num\">3&nbsp;&nbsp;</span>Load</a></span></li><li><span><a href=\"#sessionInfo\" data-toc-modified-id=\"sessionInfo-4\"><span class=\"toc-item-num\">4&nbsp;&nbsp;</span>sessionInfo</a></span></li></ul></div>"
   ]
  },
  {
   "cell_type": "markdown",
   "id": "a9d05040",
   "metadata": {},
   "source": [
    "# Var"
   ]
  },
  {
   "cell_type": "code",
   "execution_count": 3,
   "id": "28cb1fa6",
   "metadata": {
    "ExecuteTime": {
     "end_time": "2021-07-25T04:47:03.802652Z",
     "start_time": "2021-07-25T04:47:03.760Z"
    }
   },
   "outputs": [],
   "source": [
    "work_dir = '/ebio/abt3_projects/databases_no-backup/DeepMAsED/version2/deepmased-sm/n9000-rand_r10/train/'\n"
   ]
  },
  {
   "cell_type": "markdown",
   "id": "42e723dd",
   "metadata": {},
   "source": [
    "# Init"
   ]
  },
  {
   "cell_type": "code",
   "execution_count": 4,
   "id": "079abd5f",
   "metadata": {
    "ExecuteTime": {
     "end_time": "2021-07-25T04:47:04.125151Z",
     "start_time": "2021-07-25T04:47:04.071Z"
    }
   },
   "outputs": [],
   "source": [
    "library(dplyr)\n",
    "library(tidyr)\n",
    "library(ggplot2)\n",
    "library(data.table)\n",
    "library(tidytable)\n",
    "library(LeyLabRMisc)"
   ]
  },
  {
   "cell_type": "code",
   "execution_count": 5,
   "id": "52036736",
   "metadata": {
    "ExecuteTime": {
     "end_time": "2021-07-25T04:47:04.237066Z",
     "start_time": "2021-07-25T04:47:04.198Z"
    }
   },
   "outputs": [],
   "source": [
    "df.dims()\n",
    "setDTthreads(4)"
   ]
  },
  {
   "cell_type": "markdown",
   "id": "78b4ced8",
   "metadata": {},
   "source": [
    "# Load"
   ]
  },
  {
   "cell_type": "code",
   "execution_count": 6,
   "id": "d75f783c",
   "metadata": {
    "ExecuteTime": {
     "end_time": "2021-07-25T04:47:08.045280Z",
     "start_time": "2021-07-25T04:47:07.849Z"
    }
   },
   "outputs": [
    {
     "data": {
      "text/html": [
       "<table class=\"dataframe\">\n",
       "<caption>A tidytable: 320 × 6</caption>\n",
       "<thead>\n",
       "\t<tr><th scope=col>richness</th><th scope=col>rep</th><th scope=col>read_depth</th><th scope=col>assembler</th><th scope=col>feature_file</th><th scope=col>MGSIM_reads_params</th></tr>\n",
       "\t<tr><th scope=col>&lt;dbl&gt;</th><th scope=col>&lt;int&gt;</th><th scope=col>&lt;int&gt;</th><th scope=col>&lt;chr&gt;</th><th scope=col>&lt;chr&gt;</th><th scope=col>&lt;chr&gt;</th></tr>\n",
       "</thead>\n",
       "<tbody>\n",
       "\t<tr><td>0.055555</td><td>1</td><td>500000</td><td>metaspades</td><td>/ebio/abt3_projects/databases_no-backup/DeepMAsED/version2/deepmased-sm/n9000-rand_r10/train/features//0.055555/1/500000/metaspades/features.tsv.gz</td><td>--art-paired --art-mflen 250 --art-sdev 10</td></tr>\n",
       "\t<tr><td>0.055555</td><td>1</td><td>500000</td><td>megahit   </td><td>/ebio/abt3_projects/databases_no-backup/DeepMAsED/version2/deepmased-sm/n9000-rand_r10/train/features//0.055555/1/500000/megahit/features.tsv.gz   </td><td>--art-paired --art-mflen 250 --art-sdev 10</td></tr>\n",
       "\t<tr><td>⋮</td><td>⋮</td><td>⋮</td><td>⋮</td><td>⋮</td><td>⋮</td></tr>\n",
       "\t<tr><td>0.333333</td><td>10</td><td>4000000</td><td>metaspades</td><td>/ebio/abt3_projects/databases_no-backup/DeepMAsED/version2/deepmased-sm/n9000-rand_r10/train/features//0.333333/10/4000000/metaspades/features.tsv.gz</td><td>--art-paired --art-mflen 250 --art-sdev 10</td></tr>\n",
       "\t<tr><td>0.333333</td><td>10</td><td>4000000</td><td>megahit   </td><td>/ebio/abt3_projects/databases_no-backup/DeepMAsED/version2/deepmased-sm/n9000-rand_r10/train/features//0.333333/10/4000000/megahit/features.tsv.gz   </td><td>--art-paired --art-mflen 250 --art-sdev 10</td></tr>\n",
       "</tbody>\n",
       "</table>\n"
      ],
      "text/latex": [
       "A tidytable: 320 × 6\n",
       "\\begin{tabular}{llllll}\n",
       " richness & rep & read\\_depth & assembler & feature\\_file & MGSIM\\_reads\\_params\\\\\n",
       " <dbl> & <int> & <int> & <chr> & <chr> & <chr>\\\\\n",
       "\\hline\n",
       "\t 0.055555 & 1 & 500000 & metaspades & /ebio/abt3\\_projects/databases\\_no-backup/DeepMAsED/version2/deepmased-sm/n9000-rand\\_r10/train/features//0.055555/1/500000/metaspades/features.tsv.gz & --art-paired --art-mflen 250 --art-sdev 10\\\\\n",
       "\t 0.055555 & 1 & 500000 & megahit    & /ebio/abt3\\_projects/databases\\_no-backup/DeepMAsED/version2/deepmased-sm/n9000-rand\\_r10/train/features//0.055555/1/500000/megahit/features.tsv.gz    & --art-paired --art-mflen 250 --art-sdev 10\\\\\n",
       "\t ⋮ & ⋮ & ⋮ & ⋮ & ⋮ & ⋮\\\\\n",
       "\t 0.333333 & 10 & 4000000 & metaspades & /ebio/abt3\\_projects/databases\\_no-backup/DeepMAsED/version2/deepmased-sm/n9000-rand\\_r10/train/features//0.333333/10/4000000/metaspades/features.tsv.gz & --art-paired --art-mflen 250 --art-sdev 10\\\\\n",
       "\t 0.333333 & 10 & 4000000 & megahit    & /ebio/abt3\\_projects/databases\\_no-backup/DeepMAsED/version2/deepmased-sm/n9000-rand\\_r10/train/features//0.333333/10/4000000/megahit/features.tsv.gz    & --art-paired --art-mflen 250 --art-sdev 10\\\\\n",
       "\\end{tabular}\n"
      ],
      "text/markdown": [
       "\n",
       "A tidytable: 320 × 6\n",
       "\n",
       "| richness &lt;dbl&gt; | rep &lt;int&gt; | read_depth &lt;int&gt; | assembler &lt;chr&gt; | feature_file &lt;chr&gt; | MGSIM_reads_params &lt;chr&gt; |\n",
       "|---|---|---|---|---|---|\n",
       "| 0.055555 | 1 | 500000 | metaspades | /ebio/abt3_projects/databases_no-backup/DeepMAsED/version2/deepmased-sm/n9000-rand_r10/train/features//0.055555/1/500000/metaspades/features.tsv.gz | --art-paired --art-mflen 250 --art-sdev 10 |\n",
       "| 0.055555 | 1 | 500000 | megahit    | /ebio/abt3_projects/databases_no-backup/DeepMAsED/version2/deepmased-sm/n9000-rand_r10/train/features//0.055555/1/500000/megahit/features.tsv.gz    | --art-paired --art-mflen 250 --art-sdev 10 |\n",
       "| ⋮ | ⋮ | ⋮ | ⋮ | ⋮ | ⋮ |\n",
       "| 0.333333 | 10 | 4000000 | metaspades | /ebio/abt3_projects/databases_no-backup/DeepMAsED/version2/deepmased-sm/n9000-rand_r10/train/features//0.333333/10/4000000/metaspades/features.tsv.gz | --art-paired --art-mflen 250 --art-sdev 10 |\n",
       "| 0.333333 | 10 | 4000000 | megahit    | /ebio/abt3_projects/databases_no-backup/DeepMAsED/version2/deepmased-sm/n9000-rand_r10/train/features//0.333333/10/4000000/megahit/features.tsv.gz    | --art-paired --art-mflen 250 --art-sdev 10 |\n",
       "\n"
      ],
      "text/plain": [
       "    richness rep read_depth assembler \n",
       "1   0.055555 1   500000     metaspades\n",
       "2   0.055555 1   500000     megahit   \n",
       "⋮   ⋮        ⋮   ⋮          ⋮         \n",
       "319 0.333333 10  4000000    metaspades\n",
       "320 0.333333 10  4000000    megahit   \n",
       "    feature_file                                                                                                                                         \n",
       "1   /ebio/abt3_projects/databases_no-backup/DeepMAsED/version2/deepmased-sm/n9000-rand_r10/train/features//0.055555/1/500000/metaspades/features.tsv.gz  \n",
       "2   /ebio/abt3_projects/databases_no-backup/DeepMAsED/version2/deepmased-sm/n9000-rand_r10/train/features//0.055555/1/500000/megahit/features.tsv.gz     \n",
       "⋮   ⋮                                                                                                                                                    \n",
       "319 /ebio/abt3_projects/databases_no-backup/DeepMAsED/version2/deepmased-sm/n9000-rand_r10/train/features//0.333333/10/4000000/metaspades/features.tsv.gz\n",
       "320 /ebio/abt3_projects/databases_no-backup/DeepMAsED/version2/deepmased-sm/n9000-rand_r10/train/features//0.333333/10/4000000/megahit/features.tsv.gz   \n",
       "    MGSIM_reads_params                        \n",
       "1   --art-paired --art-mflen 250 --art-sdev 10\n",
       "2   --art-paired --art-mflen 250 --art-sdev 10\n",
       "⋮   ⋮                                         \n",
       "319 --art-paired --art-mflen 250 --art-sdev 10\n",
       "320 --art-paired --art-mflen 250 --art-sdev 10"
      ]
     },
     "metadata": {},
     "output_type": "display_data"
    }
   ],
   "source": [
    "D = '/ebio/abt3_projects/databases_no-backup/DeepMAsED/version2/deepmased-sm/n9000-rand_r10/train/features/'\n",
    "F = file.path(D, 'feature_files.tsv')\n",
    "files = Fread(F) %>%\n",
    "    mutate.(feature_file = file.path(D, feature_file))\n",
    "files"
   ]
  },
  {
   "cell_type": "code",
   "execution_count": null,
   "id": "77d5cd69",
   "metadata": {
    "ExecuteTime": {
     "start_time": "2021-07-25T04:48:59.382Z"
    }
   },
   "outputs": [],
   "source": [
    "read_feat = function(F){\n",
    "    Fread(F) %>%\n",
    "        select.(contig, coverage, num_SNPs, mean_insert_size_Match, mean_insert_size_SNP) %>%\n",
    "        summarize.(coverage = median(coverage, na.rm=TRUE),\n",
    "                   num_SNPs = median(num_SNPs, na.rm=TRUE),\n",
    "                   mean_insert_size_Match = median(mean_insert_size_Match, na.rm=TRUE),\n",
    "                   sd_insert_size_Match = sd(mean_insert_size_Match, na.rm=TRUE),\n",
    "                   mean_insert_size_SNP = median(mean_insert_size_SNP, na.rm=TRUE),\n",
    "                   sd_insert_size_SNP = sd(mean_insert_size_SNP, na.rm=TRUE),\n",
    "                   .by=c(contig))\n",
    "}\n",
    "doParallel::registerDoParallel(8)\n",
    "df = files$feature_file %>%\n",
    "    plyr::llply(read_feat, .parallel=TRUE) %>%\n",
    "    rbindlist(use.names=TRUE) \n",
    "df"
   ]
  },
  {
   "cell_type": "code",
   "execution_count": null,
   "id": "a470cc5c",
   "metadata": {
    "ExecuteTime": {
     "start_time": "2021-07-25T04:49:00.613Z"
    }
   },
   "outputs": [],
   "source": [
    "# per-contig coverage distribution\n",
    "summary_x(df$coverage)\n",
    "quantile(df$coverage, 0.95)"
   ]
  },
  {
   "cell_type": "code",
   "execution_count": null,
   "id": "4a534b2e",
   "metadata": {
    "ExecuteTime": {
     "start_time": "2021-07-25T04:49:45.772Z"
    }
   },
   "outputs": [],
   "source": [
    "# insert sizes\n",
    "summary_x(df$mean_insert_size_Match)\n",
    "summary_x(df$mean_insert_size_SNP)"
   ]
  },
  {
   "cell_type": "code",
   "execution_count": null,
   "id": "1eb8cdb0",
   "metadata": {
    "ExecuteTime": {
     "start_time": "2021-07-25T04:49:45.941Z"
    }
   },
   "outputs": [],
   "source": [
    "# match/SNP\n",
    "summary_x(df$sd_insert_size_Match)\n",
    "summary_x(df$sd_insert_size_SNP)"
   ]
  },
  {
   "cell_type": "code",
   "execution_count": null,
   "id": "896ac437",
   "metadata": {
    "ExecuteTime": {
     "start_time": "2021-07-25T04:49:46.428Z"
    }
   },
   "outputs": [],
   "source": [
    "# SNPs\n",
    "summary_x(df$num_SNPs)"
   ]
  },
  {
   "cell_type": "code",
   "execution_count": null,
   "id": "011ea2a3",
   "metadata": {
    "ExecuteTime": {
     "start_time": "2021-07-25T04:49:58.732Z"
    }
   },
   "outputs": [],
   "source": [
    "send_email('http://127.0.0.1:9704/notebooks/deepmased/notebooks/06_version2/01_simulation_datasets/00_dev/00_n9000-r10_train_stats.ipynb')"
   ]
  },
  {
   "cell_type": "markdown",
   "id": "7ea7138a",
   "metadata": {},
   "source": [
    "# sessionInfo"
   ]
  },
  {
   "cell_type": "code",
   "execution_count": 19,
   "id": "6ca74871",
   "metadata": {
    "ExecuteTime": {
     "end_time": "2021-07-20T06:40:25.576461Z",
     "start_time": "2021-07-20T06:40:24.910Z"
    }
   },
   "outputs": [
    {
     "data": {
      "text/plain": [
       "R version 4.1.0 (2021-05-18)\n",
       "Platform: x86_64-conda-linux-gnu (64-bit)\n",
       "Running under: Ubuntu 18.04.5 LTS\n",
       "\n",
       "Matrix products: default\n",
       "BLAS/LAPACK: /ebio/abt3_projects/Anxiety_Twins_Metagenomes/envs/tidyverse2/lib/libopenblasp-r0.3.12.so\n",
       "\n",
       "locale:\n",
       " [1] LC_CTYPE=en_US.UTF-8       LC_NUMERIC=C              \n",
       " [3] LC_TIME=en_US.UTF-8        LC_COLLATE=en_US.UTF-8    \n",
       " [5] LC_MONETARY=en_US.UTF-8    LC_MESSAGES=en_US.UTF-8   \n",
       " [7] LC_PAPER=en_US.UTF-8       LC_NAME=C                 \n",
       " [9] LC_ADDRESS=C               LC_TELEPHONE=C            \n",
       "[11] LC_MEASUREMENT=en_US.UTF-8 LC_IDENTIFICATION=C       \n",
       "\n",
       "attached base packages:\n",
       "[1] stats     graphics  grDevices utils     datasets  methods   base     \n",
       "\n",
       "other attached packages:\n",
       "[1] LeyLabRMisc_0.1.9 tidytable_0.6.3   data.table_1.14.0 ggplot2_3.3.5    \n",
       "[5] tidyr_1.1.3       dplyr_1.0.7      \n",
       "\n",
       "loaded via a namespace (and not attached):\n",
       " [1] Rcpp_1.0.7        plyr_1.8.6        pillar_1.6.1      compiler_4.1.0   \n",
       " [5] iterators_1.0.13  R.methodsS3_1.8.1 R.utils_2.10.1    base64enc_0.1-3  \n",
       " [9] tools_4.1.0       digest_0.6.27     uuid_0.1-4        jsonlite_1.7.2   \n",
       "[13] evaluate_0.14     lifecycle_1.0.0   tibble_3.1.2      gtable_0.3.0     \n",
       "[17] pkgconfig_2.0.3   rlang_0.4.11      foreach_1.5.1     IRdisplay_1.0    \n",
       "[21] cli_3.0.0         parallel_4.1.0    IRkernel_1.2      repr_1.1.3       \n",
       "[25] withr_2.4.2       generics_0.1.0    vctrs_0.3.8       grid_4.1.0       \n",
       "[29] tidyselect_1.1.1  glue_1.4.2        R6_2.5.0          fansi_0.4.2      \n",
       "[33] pbdZMQ_0.3-5      purrr_0.3.4       magrittr_2.0.1    codetools_0.2-18 \n",
       "[37] scales_1.1.1      ellipsis_0.3.2    htmltools_0.5.1.1 colorspace_2.0-2 \n",
       "[41] utf8_1.2.1        doParallel_1.0.16 munsell_0.5.0     crayon_1.4.1     \n",
       "[45] R.oo_1.24.0      "
      ]
     },
     "metadata": {},
     "output_type": "display_data"
    }
   ],
   "source": [
    "sessionInfo()"
   ]
  },
  {
   "cell_type": "code",
   "execution_count": null,
   "id": "9b2400ed",
   "metadata": {},
   "outputs": [],
   "source": []
  }
 ],
 "metadata": {
  "kernelspec": {
   "display_name": "R [conda env:Anxiety_Twins_Metagenomes-tidyverse2]",
   "language": "R",
   "name": "conda-env-Anxiety_Twins_Metagenomes-tidyverse2-r"
  },
  "language_info": {
   "codemirror_mode": "r",
   "file_extension": ".r",
   "mimetype": "text/x-r-source",
   "name": "R",
   "pygments_lexer": "r",
   "version": "4.1.0"
  },
  "notify_time": "30",
  "toc": {
   "base_numbering": 1,
   "nav_menu": {},
   "number_sections": true,
   "sideBar": true,
   "skip_h1_title": false,
   "title_cell": "Table of Contents",
   "title_sidebar": "Contents",
   "toc_cell": true,
   "toc_position": {},
   "toc_section_display": true,
   "toc_window_display": true
  }
 },
 "nbformat": 4,
 "nbformat_minor": 5
}
