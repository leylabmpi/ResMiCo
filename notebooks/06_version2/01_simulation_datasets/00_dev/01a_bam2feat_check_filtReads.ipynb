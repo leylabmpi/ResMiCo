{
 "cells": [
  {
   "cell_type": "markdown",
   "id": "ea59251e",
   "metadata": {
    "toc": true
   },
   "source": [
    "<h1>Table of Contents<span class=\"tocSkip\"></span></h1>\n",
    "<div class=\"toc\"><ul class=\"toc-item\"><li><span><a href=\"#Goal\" data-toc-modified-id=\"Goal-1\"><span class=\"toc-item-num\">1&nbsp;&nbsp;</span>Goal</a></span></li><li><span><a href=\"#Var\" data-toc-modified-id=\"Var-2\"><span class=\"toc-item-num\">2&nbsp;&nbsp;</span>Var</a></span></li><li><span><a href=\"#Init\" data-toc-modified-id=\"Init-3\"><span class=\"toc-item-num\">3&nbsp;&nbsp;</span>Init</a></span></li><li><span><a href=\"#Load\" data-toc-modified-id=\"Load-4\"><span class=\"toc-item-num\">4&nbsp;&nbsp;</span>Load</a></span><ul class=\"toc-item\"><li><span><a href=\"#bam2feat.py\" data-toc-modified-id=\"bam2feat.py-4.1\"><span class=\"toc-item-num\">4.1&nbsp;&nbsp;</span>bam2feat.py</a></span></li><li><span><a href=\"#bam2feat\" data-toc-modified-id=\"bam2feat-4.2\"><span class=\"toc-item-num\">4.2&nbsp;&nbsp;</span>bam2feat</a></span></li></ul></li><li><span><a href=\"#Compare\" data-toc-modified-id=\"Compare-5\"><span class=\"toc-item-num\">5&nbsp;&nbsp;</span>Compare</a></span><ul class=\"toc-item\"><li><span><a href=\"#Check-that-dataset-matches\" data-toc-modified-id=\"Check-that-dataset-matches-5.1\"><span class=\"toc-item-num\">5.1&nbsp;&nbsp;</span>Check that dataset matches</a></span></li><li><span><a href=\"#Features\" data-toc-modified-id=\"Features-5.2\"><span class=\"toc-item-num\">5.2&nbsp;&nbsp;</span>Features</a></span><ul class=\"toc-item\"><li><span><a href=\"#ref-bases\" data-toc-modified-id=\"ref-bases-5.2.1\"><span class=\"toc-item-num\">5.2.1&nbsp;&nbsp;</span>ref bases</a></span></li><li><span><a href=\"#coverage/SNPs\" data-toc-modified-id=\"coverage/SNPs-5.2.2\"><span class=\"toc-item-num\">5.2.2&nbsp;&nbsp;</span>coverage/SNPs</a></span></li><li><span><a href=\"#Match-features\" data-toc-modified-id=\"Match-features-5.2.3\"><span class=\"toc-item-num\">5.2.3&nbsp;&nbsp;</span>Match features</a></span></li><li><span><a href=\"#SNP-features\" data-toc-modified-id=\"SNP-features-5.2.4\"><span class=\"toc-item-num\">5.2.4&nbsp;&nbsp;</span>SNP features</a></span></li><li><span><a href=\"#G+C-&amp;-entropy\" data-toc-modified-id=\"G+C-&amp;-entropy-5.2.5\"><span class=\"toc-item-num\">5.2.5&nbsp;&nbsp;</span>G+C &amp; entropy</a></span></li></ul></li></ul></li><li><span><a href=\"#sessionInfo\" data-toc-modified-id=\"sessionInfo-6\"><span class=\"toc-item-num\">6&nbsp;&nbsp;</span>sessionInfo</a></span></li></ul></div>"
   ]
  },
  {
   "cell_type": "markdown",
   "id": "6c83324d",
   "metadata": {},
   "source": [
    "# Goal\n",
    "\n",
    "* Check that `bam2feat` works as `bam2feat.py`\n",
    "  * `bam2feat` is a much faster implementation of `bam2feat.py`"
   ]
  },
  {
   "cell_type": "markdown",
   "id": "4676fb8a",
   "metadata": {},
   "source": [
    "# Var"
   ]
  },
  {
   "cell_type": "code",
   "execution_count": 1,
   "id": "f4190d6d",
   "metadata": {
    "ExecuteTime": {
     "end_time": "2021-07-17T13:02:10.778708Z",
     "start_time": "2021-07-17T13:02:10.068Z"
    }
   },
   "outputs": [],
   "source": [
    "work_dir = '/ebio/abt3_projects/DeepMAsED/version2/deepmased/DeepMAsED-SM/tests/output_n10/'\n",
    "\n",
    "threads = 8"
   ]
  },
  {
   "cell_type": "markdown",
   "id": "6d352c40",
   "metadata": {},
   "source": [
    "# Init"
   ]
  },
  {
   "cell_type": "code",
   "execution_count": 2,
   "id": "f1e89a29",
   "metadata": {
    "ExecuteTime": {
     "end_time": "2021-07-17T13:02:12.507699Z",
     "start_time": "2021-07-17T13:02:10.538Z"
    }
   },
   "outputs": [
    {
     "name": "stderr",
     "output_type": "stream",
     "text": [
      "\n",
      "Attaching package: ‘dplyr’\n",
      "\n",
      "\n",
      "The following objects are masked from ‘package:stats’:\n",
      "\n",
      "    filter, lag\n",
      "\n",
      "\n",
      "The following objects are masked from ‘package:base’:\n",
      "\n",
      "    intersect, setdiff, setequal, union\n",
      "\n",
      "\n",
      "\n",
      "Attaching package: ‘data.table’\n",
      "\n",
      "\n",
      "The following objects are masked from ‘package:dplyr’:\n",
      "\n",
      "    between, first, last\n",
      "\n",
      "\n",
      "\n",
      "Attaching package: ‘tidytable’\n",
      "\n",
      "\n",
      "The following object is masked from ‘package:stats’:\n",
      "\n",
      "    dt\n",
      "\n",
      "\n"
     ]
    }
   ],
   "source": [
    "library(dplyr)\n",
    "library(tidyr)\n",
    "library(ggplot2)\n",
    "library(data.table)\n",
    "library(tidytable)\n",
    "library(LeyLabRMisc)"
   ]
  },
  {
   "cell_type": "code",
   "execution_count": 3,
   "id": "1592850c",
   "metadata": {
    "ExecuteTime": {
     "end_time": "2021-07-17T13:02:12.557477Z",
     "start_time": "2021-07-17T13:02:10.655Z"
    }
   },
   "outputs": [],
   "source": [
    "df.dims()\n",
    "data.table::setDTthreads(threads)"
   ]
  },
  {
   "cell_type": "markdown",
   "id": "aadfa608",
   "metadata": {},
   "source": [
    "# Load"
   ]
  },
  {
   "cell_type": "markdown",
   "id": "9e1259e2",
   "metadata": {},
   "source": [
    "## bam2feat.py"
   ]
  },
  {
   "cell_type": "code",
   "execution_count": 4,
   "id": "3f5e66e9",
   "metadata": {
    "ExecuteTime": {
     "end_time": "2021-07-17T13:02:12.622117Z",
     "start_time": "2021-07-17T13:02:12.208Z"
    }
   },
   "outputs": [
    {
     "data": {
      "text/html": [
       "<table class=\"dataframe\">\n",
       "<caption>A data.table: 6 × 6</caption>\n",
       "<thead>\n",
       "\t<tr><th scope=col>richness</th><th scope=col>rep</th><th scope=col>read_depth</th><th scope=col>assembler</th><th scope=col>feature_file</th><th scope=col>MGSIM_reads_params</th></tr>\n",
       "\t<tr><th scope=col>&lt;dbl&gt;</th><th scope=col>&lt;int&gt;</th><th scope=col>&lt;int&gt;</th><th scope=col>&lt;chr&gt;</th><th scope=col>&lt;chr&gt;</th><th scope=col>&lt;chr&gt;</th></tr>\n",
       "</thead>\n",
       "<tbody>\n",
       "\t<tr><td>0.8</td><td>1</td><td>1000000</td><td>metaspades</td><td>0.8/1/1000000/metaspades/features.tsv.gz</td><td>--art-paired --art-mflen 250 --art-sdev 10 --rndSeed 8712</td></tr>\n",
       "\t<tr><td>0.8</td><td>1</td><td>1000000</td><td>megahit   </td><td>0.8/1/1000000/megahit/features.tsv.gz   </td><td>--art-paired --art-mflen 250 --art-sdev 10 --rndSeed 8712</td></tr>\n",
       "\t<tr><td>⋮</td><td>⋮</td><td>⋮</td><td>⋮</td><td>⋮</td><td>⋮</td></tr>\n",
       "\t<tr><td>0.8</td><td>3</td><td>1000000</td><td>metaspades</td><td>0.8/3/1000000/metaspades/features.tsv.gz</td><td>--art-paired --art-mflen 250 --art-sdev 10 --rndSeed 8712</td></tr>\n",
       "\t<tr><td>0.8</td><td>3</td><td>1000000</td><td>megahit   </td><td>0.8/3/1000000/megahit/features.tsv.gz   </td><td>--art-paired --art-mflen 250 --art-sdev 10 --rndSeed 8712</td></tr>\n",
       "</tbody>\n",
       "</table>\n"
      ],
      "text/latex": [
       "A data.table: 6 × 6\n",
       "\\begin{tabular}{llllll}\n",
       " richness & rep & read\\_depth & assembler & feature\\_file & MGSIM\\_reads\\_params\\\\\n",
       " <dbl> & <int> & <int> & <chr> & <chr> & <chr>\\\\\n",
       "\\hline\n",
       "\t 0.8 & 1 & 1000000 & metaspades & 0.8/1/1000000/metaspades/features.tsv.gz & --art-paired --art-mflen 250 --art-sdev 10 --rndSeed 8712\\\\\n",
       "\t 0.8 & 1 & 1000000 & megahit    & 0.8/1/1000000/megahit/features.tsv.gz    & --art-paired --art-mflen 250 --art-sdev 10 --rndSeed 8712\\\\\n",
       "\t ⋮ & ⋮ & ⋮ & ⋮ & ⋮ & ⋮\\\\\n",
       "\t 0.8 & 3 & 1000000 & metaspades & 0.8/3/1000000/metaspades/features.tsv.gz & --art-paired --art-mflen 250 --art-sdev 10 --rndSeed 8712\\\\\n",
       "\t 0.8 & 3 & 1000000 & megahit    & 0.8/3/1000000/megahit/features.tsv.gz    & --art-paired --art-mflen 250 --art-sdev 10 --rndSeed 8712\\\\\n",
       "\\end{tabular}\n"
      ],
      "text/markdown": [
       "\n",
       "A data.table: 6 × 6\n",
       "\n",
       "| richness &lt;dbl&gt; | rep &lt;int&gt; | read_depth &lt;int&gt; | assembler &lt;chr&gt; | feature_file &lt;chr&gt; | MGSIM_reads_params &lt;chr&gt; |\n",
       "|---|---|---|---|---|---|\n",
       "| 0.8 | 1 | 1000000 | metaspades | 0.8/1/1000000/metaspades/features.tsv.gz | --art-paired --art-mflen 250 --art-sdev 10 --rndSeed 8712 |\n",
       "| 0.8 | 1 | 1000000 | megahit    | 0.8/1/1000000/megahit/features.tsv.gz    | --art-paired --art-mflen 250 --art-sdev 10 --rndSeed 8712 |\n",
       "| ⋮ | ⋮ | ⋮ | ⋮ | ⋮ | ⋮ |\n",
       "| 0.8 | 3 | 1000000 | metaspades | 0.8/3/1000000/metaspades/features.tsv.gz | --art-paired --art-mflen 250 --art-sdev 10 --rndSeed 8712 |\n",
       "| 0.8 | 3 | 1000000 | megahit    | 0.8/3/1000000/megahit/features.tsv.gz    | --art-paired --art-mflen 250 --art-sdev 10 --rndSeed 8712 |\n",
       "\n"
      ],
      "text/plain": [
       "  richness rep read_depth assembler  feature_file                            \n",
       "1 0.8      1   1000000    metaspades 0.8/1/1000000/metaspades/features.tsv.gz\n",
       "2 0.8      1   1000000    megahit    0.8/1/1000000/megahit/features.tsv.gz   \n",
       "⋮ ⋮        ⋮   ⋮          ⋮          ⋮                                       \n",
       "5 0.8      3   1000000    metaspades 0.8/3/1000000/metaspades/features.tsv.gz\n",
       "6 0.8      3   1000000    megahit    0.8/3/1000000/megahit/features.tsv.gz   \n",
       "  MGSIM_reads_params                                       \n",
       "1 --art-paired --art-mflen 250 --art-sdev 10 --rndSeed 8712\n",
       "2 --art-paired --art-mflen 250 --art-sdev 10 --rndSeed 8712\n",
       "⋮ ⋮                                                        \n",
       "5 --art-paired --art-mflen 250 --art-sdev 10 --rndSeed 8712\n",
       "6 --art-paired --art-mflen 250 --art-sdev 10 --rndSeed 8712"
      ]
     },
     "metadata": {},
     "output_type": "display_data"
    }
   ],
   "source": [
    "# bam2feat.py tables\n",
    "D = file.path(work_dir, 'features_bam2feat.py')\n",
    "F = file.path(D, 'feature_files.tsv')\n",
    "files = Fread(F) \n",
    "files"
   ]
  },
  {
   "cell_type": "code",
   "execution_count": 5,
   "id": "28492b44",
   "metadata": {
    "ExecuteTime": {
     "end_time": "2021-07-17T13:05:49.259878Z",
     "start_time": "2021-07-17T13:02:12.682Z"
    }
   },
   "outputs": [
    {
     "data": {
      "text/html": [
       "<table class=\"dataframe\">\n",
       "<caption>A data.table: 77496489 × 46</caption>\n",
       "<thead>\n",
       "\t<tr><th scope=col>assembler</th><th scope=col>contig</th><th scope=col>position</th><th scope=col>ref_base</th><th scope=col>num_query_A</th><th scope=col>num_query_C</th><th scope=col>num_query_G</th><th scope=col>num_query_T</th><th scope=col>num_SNPs</th><th scope=col>coverage</th><th scope=col>⋯</th><th scope=col>num_supplementary_SNP</th><th scope=col>num_secondary_SNP</th><th scope=col>num_discordant_SNP</th><th scope=col>seq_window_entropy</th><th scope=col>seq_window_perc_gc</th><th scope=col>Extensive_misassembly</th><th scope=col>Extensive_misassembly_by_pos</th><th scope=col>richness</th><th scope=col>rep</th><th scope=col>read_depth</th></tr>\n",
       "\t<tr><th scope=col>&lt;chr&gt;</th><th scope=col>&lt;chr&gt;</th><th scope=col>&lt;int&gt;</th><th scope=col>&lt;chr&gt;</th><th scope=col>&lt;int&gt;</th><th scope=col>&lt;int&gt;</th><th scope=col>&lt;int&gt;</th><th scope=col>&lt;int&gt;</th><th scope=col>&lt;int&gt;</th><th scope=col>&lt;int&gt;</th><th scope=col>⋯</th><th scope=col>&lt;int&gt;</th><th scope=col>&lt;int&gt;</th><th scope=col>&lt;int&gt;</th><th scope=col>&lt;dbl&gt;</th><th scope=col>&lt;dbl&gt;</th><th scope=col>&lt;int&gt;</th><th scope=col>&lt;chr&gt;</th><th scope=col>&lt;chr&gt;</th><th scope=col>&lt;chr&gt;</th><th scope=col>&lt;chr&gt;</th></tr>\n",
       "</thead>\n",
       "<tbody>\n",
       "\t<tr><td>metaspades</td><td>NODE_2574_length_1001_cov_1.398520</td><td>0</td><td>C</td><td>0</td><td>1</td><td>0</td><td>0</td><td>0</td><td>1</td><td>⋯</td><td>0</td><td>0</td><td>0</td><td>1.918</td><td>0.5</td><td>0</td><td>None</td><td>0.8</td><td>1</td><td>1000000</td></tr>\n",
       "\t<tr><td>metaspades</td><td>NODE_2574_length_1001_cov_1.398520</td><td>1</td><td>T</td><td>0</td><td>0</td><td>0</td><td>1</td><td>0</td><td>1</td><td>⋯</td><td>0</td><td>0</td><td>0</td><td>1.918</td><td>0.5</td><td>0</td><td>None</td><td>0.8</td><td>1</td><td>1000000</td></tr>\n",
       "\t<tr><td>⋮</td><td>⋮</td><td>⋮</td><td>⋮</td><td>⋮</td><td>⋮</td><td>⋮</td><td>⋮</td><td>⋮</td><td>⋮</td><td>⋱</td><td>⋮</td><td>⋮</td><td>⋮</td><td>⋮</td><td>⋮</td><td>⋮</td><td>⋮</td><td>⋮</td><td>⋮</td><td>⋮</td></tr>\n",
       "\t<tr><td>megahit</td><td>k141_3569</td><td>1615</td><td>C</td><td>0</td><td>1</td><td>0</td><td>0</td><td>0</td><td>1</td><td>⋯</td><td>0</td><td>0</td><td>0</td><td>1.459</td><td>0.5</td><td>0</td><td>None</td><td>0.8</td><td>3</td><td>1000000</td></tr>\n",
       "\t<tr><td>megahit</td><td>k141_3569</td><td>1616</td><td>C</td><td>0</td><td>1</td><td>0</td><td>0</td><td>0</td><td>1</td><td>⋯</td><td>0</td><td>0</td><td>0</td><td>1.459</td><td>0.5</td><td>0</td><td>None</td><td>0.8</td><td>3</td><td>1000000</td></tr>\n",
       "</tbody>\n",
       "</table>\n"
      ],
      "text/latex": [
       "A data.table: 77496489 × 46\n",
       "\\begin{tabular}{lllllllllllllllllllll}\n",
       " assembler & contig & position & ref\\_base & num\\_query\\_A & num\\_query\\_C & num\\_query\\_G & num\\_query\\_T & num\\_SNPs & coverage & ⋯ & num\\_supplementary\\_SNP & num\\_secondary\\_SNP & num\\_discordant\\_SNP & seq\\_window\\_entropy & seq\\_window\\_perc\\_gc & Extensive\\_misassembly & Extensive\\_misassembly\\_by\\_pos & richness & rep & read\\_depth\\\\\n",
       " <chr> & <chr> & <int> & <chr> & <int> & <int> & <int> & <int> & <int> & <int> & ⋯ & <int> & <int> & <int> & <dbl> & <dbl> & <int> & <chr> & <chr> & <chr> & <chr>\\\\\n",
       "\\hline\n",
       "\t metaspades & NODE\\_2574\\_length\\_1001\\_cov\\_1.398520 & 0 & C & 0 & 1 & 0 & 0 & 0 & 1 & ⋯ & 0 & 0 & 0 & 1.918 & 0.5 & 0 & None & 0.8 & 1 & 1000000\\\\\n",
       "\t metaspades & NODE\\_2574\\_length\\_1001\\_cov\\_1.398520 & 1 & T & 0 & 0 & 0 & 1 & 0 & 1 & ⋯ & 0 & 0 & 0 & 1.918 & 0.5 & 0 & None & 0.8 & 1 & 1000000\\\\\n",
       "\t ⋮ & ⋮ & ⋮ & ⋮ & ⋮ & ⋮ & ⋮ & ⋮ & ⋮ & ⋮ & ⋱ & ⋮ & ⋮ & ⋮ & ⋮ & ⋮ & ⋮ & ⋮ & ⋮ & ⋮ & ⋮\\\\\n",
       "\t megahit & k141\\_3569 & 1615 & C & 0 & 1 & 0 & 0 & 0 & 1 & ⋯ & 0 & 0 & 0 & 1.459 & 0.5 & 0 & None & 0.8 & 3 & 1000000\\\\\n",
       "\t megahit & k141\\_3569 & 1616 & C & 0 & 1 & 0 & 0 & 0 & 1 & ⋯ & 0 & 0 & 0 & 1.459 & 0.5 & 0 & None & 0.8 & 3 & 1000000\\\\\n",
       "\\end{tabular}\n"
      ],
      "text/markdown": [
       "\n",
       "A data.table: 77496489 × 46\n",
       "\n",
       "| assembler &lt;chr&gt; | contig &lt;chr&gt; | position &lt;int&gt; | ref_base &lt;chr&gt; | num_query_A &lt;int&gt; | num_query_C &lt;int&gt; | num_query_G &lt;int&gt; | num_query_T &lt;int&gt; | num_SNPs &lt;int&gt; | coverage &lt;int&gt; | ⋯ ⋯ | num_supplementary_SNP &lt;int&gt; | num_secondary_SNP &lt;int&gt; | num_discordant_SNP &lt;int&gt; | seq_window_entropy &lt;dbl&gt; | seq_window_perc_gc &lt;dbl&gt; | Extensive_misassembly &lt;int&gt; | Extensive_misassembly_by_pos &lt;chr&gt; | richness &lt;chr&gt; | rep &lt;chr&gt; | read_depth &lt;chr&gt; |\n",
       "|---|---|---|---|---|---|---|---|---|---|---|---|---|---|---|---|---|---|---|---|---|\n",
       "| metaspades | NODE_2574_length_1001_cov_1.398520 | 0 | C | 0 | 1 | 0 | 0 | 0 | 1 | ⋯ | 0 | 0 | 0 | 1.918 | 0.5 | 0 | None | 0.8 | 1 | 1000000 |\n",
       "| metaspades | NODE_2574_length_1001_cov_1.398520 | 1 | T | 0 | 0 | 0 | 1 | 0 | 1 | ⋯ | 0 | 0 | 0 | 1.918 | 0.5 | 0 | None | 0.8 | 1 | 1000000 |\n",
       "| ⋮ | ⋮ | ⋮ | ⋮ | ⋮ | ⋮ | ⋮ | ⋮ | ⋮ | ⋮ | ⋱ | ⋮ | ⋮ | ⋮ | ⋮ | ⋮ | ⋮ | ⋮ | ⋮ | ⋮ | ⋮ |\n",
       "| megahit | k141_3569 | 1615 | C | 0 | 1 | 0 | 0 | 0 | 1 | ⋯ | 0 | 0 | 0 | 1.459 | 0.5 | 0 | None | 0.8 | 3 | 1000000 |\n",
       "| megahit | k141_3569 | 1616 | C | 0 | 1 | 0 | 0 | 0 | 1 | ⋯ | 0 | 0 | 0 | 1.459 | 0.5 | 0 | None | 0.8 | 3 | 1000000 |\n",
       "\n"
      ],
      "text/plain": [
       "         assembler  contig                             position ref_base\n",
       "1        metaspades NODE_2574_length_1001_cov_1.398520 0        C       \n",
       "2        metaspades NODE_2574_length_1001_cov_1.398520 1        T       \n",
       "⋮        ⋮          ⋮                                  ⋮        ⋮       \n",
       "77496488 megahit    k141_3569                          1615     C       \n",
       "77496489 megahit    k141_3569                          1616     C       \n",
       "         num_query_A num_query_C num_query_G num_query_T num_SNPs coverage ⋯\n",
       "1        0           1           0           0           0        1        ⋯\n",
       "2        0           0           0           1           0        1        ⋯\n",
       "⋮        ⋮           ⋮           ⋮           ⋮           ⋮        ⋮        ⋱\n",
       "77496488 0           1           0           0           0        1        ⋯\n",
       "77496489 0           1           0           0           0        1        ⋯\n",
       "         num_supplementary_SNP num_secondary_SNP num_discordant_SNP\n",
       "1        0                     0                 0                 \n",
       "2        0                     0                 0                 \n",
       "⋮        ⋮                     ⋮                 ⋮                 \n",
       "77496488 0                     0                 0                 \n",
       "77496489 0                     0                 0                 \n",
       "         seq_window_entropy seq_window_perc_gc Extensive_misassembly\n",
       "1        1.918              0.5                0                    \n",
       "2        1.918              0.5                0                    \n",
       "⋮        ⋮                  ⋮                  ⋮                    \n",
       "77496488 1.459              0.5                0                    \n",
       "77496489 1.459              0.5                0                    \n",
       "         Extensive_misassembly_by_pos richness rep read_depth\n",
       "1        None                         0.8      1   1000000   \n",
       "2        None                         0.8      1   1000000   \n",
       "⋮        ⋮                            ⋮        ⋮   ⋮         \n",
       "77496488 None                         0.8      3   1000000   \n",
       "77496489 None                         0.8      3   1000000   "
      ]
     },
     "metadata": {},
     "output_type": "display_data"
    }
   ],
   "source": [
    "read_feat = function(x, D){\n",
    "    df = Fread(file.path(D, x['feature_file']))\n",
    "    df$richness = x['richness']\n",
    "    df$rep = x['rep']\n",
    "    df$read_depth = x['read_depth']\n",
    "    df$assembler = x['assembler']\n",
    "    return(df)\n",
    "}\n",
    "\n",
    "# loading feature tables\n",
    "bam2feat_py = files %>%\n",
    "    apply(1, read_feat, D=file.path(work_dir, 'features_bam2feat.py')) %>%\n",
    "    rbindlist(use.names=TRUE)\n",
    "bam2feat_py"
   ]
  },
  {
   "cell_type": "markdown",
   "id": "80b4b7bd",
   "metadata": {},
   "source": [
    "## bam2feat"
   ]
  },
  {
   "cell_type": "code",
   "execution_count": 6,
   "id": "22a1d3ea",
   "metadata": {
    "ExecuteTime": {
     "end_time": "2021-07-17T13:05:49.299265Z",
     "start_time": "2021-07-17T13:02:14.648Z"
    }
   },
   "outputs": [
    {
     "data": {
      "text/html": [
       "<table class=\"dataframe\">\n",
       "<caption>A data.table: 6 × 6</caption>\n",
       "<thead>\n",
       "\t<tr><th scope=col>richness</th><th scope=col>rep</th><th scope=col>read_depth</th><th scope=col>assembler</th><th scope=col>feature_file</th><th scope=col>MGSIM_reads_params</th></tr>\n",
       "\t<tr><th scope=col>&lt;dbl&gt;</th><th scope=col>&lt;int&gt;</th><th scope=col>&lt;int&gt;</th><th scope=col>&lt;chr&gt;</th><th scope=col>&lt;chr&gt;</th><th scope=col>&lt;chr&gt;</th></tr>\n",
       "</thead>\n",
       "<tbody>\n",
       "\t<tr><td>0.8</td><td>1</td><td>1000000</td><td>metaspades</td><td>0.8/1/1000000/metaspades/features.tsv.gz</td><td>--art-paired --art-mflen 250 --art-sdev 10 --rndSeed 8712</td></tr>\n",
       "\t<tr><td>0.8</td><td>1</td><td>1000000</td><td>megahit   </td><td>0.8/1/1000000/megahit/features.tsv.gz   </td><td>--art-paired --art-mflen 250 --art-sdev 10 --rndSeed 8712</td></tr>\n",
       "\t<tr><td>⋮</td><td>⋮</td><td>⋮</td><td>⋮</td><td>⋮</td><td>⋮</td></tr>\n",
       "\t<tr><td>0.8</td><td>3</td><td>1000000</td><td>metaspades</td><td>0.8/3/1000000/metaspades/features.tsv.gz</td><td>--art-paired --art-mflen 250 --art-sdev 10 --rndSeed 8712</td></tr>\n",
       "\t<tr><td>0.8</td><td>3</td><td>1000000</td><td>megahit   </td><td>0.8/3/1000000/megahit/features.tsv.gz   </td><td>--art-paired --art-mflen 250 --art-sdev 10 --rndSeed 8712</td></tr>\n",
       "</tbody>\n",
       "</table>\n"
      ],
      "text/latex": [
       "A data.table: 6 × 6\n",
       "\\begin{tabular}{llllll}\n",
       " richness & rep & read\\_depth & assembler & feature\\_file & MGSIM\\_reads\\_params\\\\\n",
       " <dbl> & <int> & <int> & <chr> & <chr> & <chr>\\\\\n",
       "\\hline\n",
       "\t 0.8 & 1 & 1000000 & metaspades & 0.8/1/1000000/metaspades/features.tsv.gz & --art-paired --art-mflen 250 --art-sdev 10 --rndSeed 8712\\\\\n",
       "\t 0.8 & 1 & 1000000 & megahit    & 0.8/1/1000000/megahit/features.tsv.gz    & --art-paired --art-mflen 250 --art-sdev 10 --rndSeed 8712\\\\\n",
       "\t ⋮ & ⋮ & ⋮ & ⋮ & ⋮ & ⋮\\\\\n",
       "\t 0.8 & 3 & 1000000 & metaspades & 0.8/3/1000000/metaspades/features.tsv.gz & --art-paired --art-mflen 250 --art-sdev 10 --rndSeed 8712\\\\\n",
       "\t 0.8 & 3 & 1000000 & megahit    & 0.8/3/1000000/megahit/features.tsv.gz    & --art-paired --art-mflen 250 --art-sdev 10 --rndSeed 8712\\\\\n",
       "\\end{tabular}\n"
      ],
      "text/markdown": [
       "\n",
       "A data.table: 6 × 6\n",
       "\n",
       "| richness &lt;dbl&gt; | rep &lt;int&gt; | read_depth &lt;int&gt; | assembler &lt;chr&gt; | feature_file &lt;chr&gt; | MGSIM_reads_params &lt;chr&gt; |\n",
       "|---|---|---|---|---|---|\n",
       "| 0.8 | 1 | 1000000 | metaspades | 0.8/1/1000000/metaspades/features.tsv.gz | --art-paired --art-mflen 250 --art-sdev 10 --rndSeed 8712 |\n",
       "| 0.8 | 1 | 1000000 | megahit    | 0.8/1/1000000/megahit/features.tsv.gz    | --art-paired --art-mflen 250 --art-sdev 10 --rndSeed 8712 |\n",
       "| ⋮ | ⋮ | ⋮ | ⋮ | ⋮ | ⋮ |\n",
       "| 0.8 | 3 | 1000000 | metaspades | 0.8/3/1000000/metaspades/features.tsv.gz | --art-paired --art-mflen 250 --art-sdev 10 --rndSeed 8712 |\n",
       "| 0.8 | 3 | 1000000 | megahit    | 0.8/3/1000000/megahit/features.tsv.gz    | --art-paired --art-mflen 250 --art-sdev 10 --rndSeed 8712 |\n",
       "\n"
      ],
      "text/plain": [
       "  richness rep read_depth assembler  feature_file                            \n",
       "1 0.8      1   1000000    metaspades 0.8/1/1000000/metaspades/features.tsv.gz\n",
       "2 0.8      1   1000000    megahit    0.8/1/1000000/megahit/features.tsv.gz   \n",
       "⋮ ⋮        ⋮   ⋮          ⋮          ⋮                                       \n",
       "5 0.8      3   1000000    metaspades 0.8/3/1000000/metaspades/features.tsv.gz\n",
       "6 0.8      3   1000000    megahit    0.8/3/1000000/megahit/features.tsv.gz   \n",
       "  MGSIM_reads_params                                       \n",
       "1 --art-paired --art-mflen 250 --art-sdev 10 --rndSeed 8712\n",
       "2 --art-paired --art-mflen 250 --art-sdev 10 --rndSeed 8712\n",
       "⋮ ⋮                                                        \n",
       "5 --art-paired --art-mflen 250 --art-sdev 10 --rndSeed 8712\n",
       "6 --art-paired --art-mflen 250 --art-sdev 10 --rndSeed 8712"
      ]
     },
     "metadata": {},
     "output_type": "display_data"
    }
   ],
   "source": [
    "# bam2feat tables\n",
    "D = file.path(work_dir, 'features_bam2feat')\n",
    "F = file.path(D, 'feature_files.tsv')\n",
    "files = Fread(F) \n",
    "files"
   ]
  },
  {
   "cell_type": "code",
   "execution_count": 7,
   "id": "c341b59e",
   "metadata": {
    "ExecuteTime": {
     "end_time": "2021-07-17T13:09:03.086057Z",
     "start_time": "2021-07-17T13:02:14.775Z"
    }
   },
   "outputs": [
    {
     "data": {
      "text/html": [
       "<table class=\"dataframe\">\n",
       "<caption>A data.table: 77496489 × 46</caption>\n",
       "<thead>\n",
       "\t<tr><th scope=col>assembler</th><th scope=col>contig</th><th scope=col>position</th><th scope=col>ref_base</th><th scope=col>num_query_A</th><th scope=col>num_query_C</th><th scope=col>num_query_G</th><th scope=col>num_query_T</th><th scope=col>num_SNPs</th><th scope=col>coverage</th><th scope=col>⋯</th><th scope=col>num_supplementary_SNP</th><th scope=col>num_secondary_SNP</th><th scope=col>num_discordant_SNP</th><th scope=col>seq_window_entropy</th><th scope=col>seq_window_perc_gc</th><th scope=col>Extensive_misassembly</th><th scope=col>Extensive_misassembly_by_pos</th><th scope=col>richness</th><th scope=col>rep</th><th scope=col>read_depth</th></tr>\n",
       "\t<tr><th scope=col>&lt;chr&gt;</th><th scope=col>&lt;chr&gt;</th><th scope=col>&lt;int&gt;</th><th scope=col>&lt;chr&gt;</th><th scope=col>&lt;int&gt;</th><th scope=col>&lt;int&gt;</th><th scope=col>&lt;int&gt;</th><th scope=col>&lt;int&gt;</th><th scope=col>&lt;int&gt;</th><th scope=col>&lt;int&gt;</th><th scope=col>⋯</th><th scope=col>&lt;int&gt;</th><th scope=col>&lt;int&gt;</th><th scope=col>&lt;int&gt;</th><th scope=col>&lt;dbl&gt;</th><th scope=col>&lt;dbl&gt;</th><th scope=col>&lt;int&gt;</th><th scope=col>&lt;chr&gt;</th><th scope=col>&lt;chr&gt;</th><th scope=col>&lt;chr&gt;</th><th scope=col>&lt;chr&gt;</th></tr>\n",
       "</thead>\n",
       "<tbody>\n",
       "\t<tr><td>metaspades</td><td>NODE_1938_length_1127_cov_2.036381</td><td>0</td><td>A</td><td>1</td><td>0</td><td>0</td><td>0</td><td>0</td><td>1</td><td>⋯</td><td>0</td><td>0</td><td>0</td><td>1.250</td><td>0.833</td><td>0</td><td>None</td><td>0.8</td><td>1</td><td>1000000</td></tr>\n",
       "\t<tr><td>metaspades</td><td>NODE_1938_length_1127_cov_2.036381</td><td>1</td><td>C</td><td>0</td><td>1</td><td>0</td><td>0</td><td>0</td><td>1</td><td>⋯</td><td>0</td><td>0</td><td>0</td><td>0.918</td><td>1.000</td><td>0</td><td>None</td><td>0.8</td><td>1</td><td>1000000</td></tr>\n",
       "\t<tr><td>⋮</td><td>⋮</td><td>⋮</td><td>⋮</td><td>⋮</td><td>⋮</td><td>⋮</td><td>⋮</td><td>⋮</td><td>⋮</td><td>⋱</td><td>⋮</td><td>⋮</td><td>⋮</td><td>⋮</td><td>⋮</td><td>⋮</td><td>⋮</td><td>⋮</td><td>⋮</td><td>⋮</td></tr>\n",
       "\t<tr><td>megahit</td><td>k141_12451</td><td>1684</td><td>T</td><td>0</td><td>0</td><td>0</td><td>1</td><td>0</td><td>1</td><td>⋯</td><td>0</td><td>0</td><td>0</td><td>1.46</td><td>0.500</td><td>0</td><td>None</td><td>0.8</td><td>3</td><td>1000000</td></tr>\n",
       "\t<tr><td>megahit</td><td>k141_12451</td><td>1685</td><td>C</td><td>0</td><td>1</td><td>0</td><td>0</td><td>0</td><td>1</td><td>⋯</td><td>0</td><td>0</td><td>0</td><td>1.46</td><td>0.667</td><td>0</td><td>None</td><td>0.8</td><td>3</td><td>1000000</td></tr>\n",
       "</tbody>\n",
       "</table>\n"
      ],
      "text/latex": [
       "A data.table: 77496489 × 46\n",
       "\\begin{tabular}{lllllllllllllllllllll}\n",
       " assembler & contig & position & ref\\_base & num\\_query\\_A & num\\_query\\_C & num\\_query\\_G & num\\_query\\_T & num\\_SNPs & coverage & ⋯ & num\\_supplementary\\_SNP & num\\_secondary\\_SNP & num\\_discordant\\_SNP & seq\\_window\\_entropy & seq\\_window\\_perc\\_gc & Extensive\\_misassembly & Extensive\\_misassembly\\_by\\_pos & richness & rep & read\\_depth\\\\\n",
       " <chr> & <chr> & <int> & <chr> & <int> & <int> & <int> & <int> & <int> & <int> & ⋯ & <int> & <int> & <int> & <dbl> & <dbl> & <int> & <chr> & <chr> & <chr> & <chr>\\\\\n",
       "\\hline\n",
       "\t metaspades & NODE\\_1938\\_length\\_1127\\_cov\\_2.036381 & 0 & A & 1 & 0 & 0 & 0 & 0 & 1 & ⋯ & 0 & 0 & 0 & 1.250 & 0.833 & 0 & None & 0.8 & 1 & 1000000\\\\\n",
       "\t metaspades & NODE\\_1938\\_length\\_1127\\_cov\\_2.036381 & 1 & C & 0 & 1 & 0 & 0 & 0 & 1 & ⋯ & 0 & 0 & 0 & 0.918 & 1.000 & 0 & None & 0.8 & 1 & 1000000\\\\\n",
       "\t ⋮ & ⋮ & ⋮ & ⋮ & ⋮ & ⋮ & ⋮ & ⋮ & ⋮ & ⋮ & ⋱ & ⋮ & ⋮ & ⋮ & ⋮ & ⋮ & ⋮ & ⋮ & ⋮ & ⋮ & ⋮\\\\\n",
       "\t megahit & k141\\_12451 & 1684 & T & 0 & 0 & 0 & 1 & 0 & 1 & ⋯ & 0 & 0 & 0 & 1.46 & 0.500 & 0 & None & 0.8 & 3 & 1000000\\\\\n",
       "\t megahit & k141\\_12451 & 1685 & C & 0 & 1 & 0 & 0 & 0 & 1 & ⋯ & 0 & 0 & 0 & 1.46 & 0.667 & 0 & None & 0.8 & 3 & 1000000\\\\\n",
       "\\end{tabular}\n"
      ],
      "text/markdown": [
       "\n",
       "A data.table: 77496489 × 46\n",
       "\n",
       "| assembler &lt;chr&gt; | contig &lt;chr&gt; | position &lt;int&gt; | ref_base &lt;chr&gt; | num_query_A &lt;int&gt; | num_query_C &lt;int&gt; | num_query_G &lt;int&gt; | num_query_T &lt;int&gt; | num_SNPs &lt;int&gt; | coverage &lt;int&gt; | ⋯ ⋯ | num_supplementary_SNP &lt;int&gt; | num_secondary_SNP &lt;int&gt; | num_discordant_SNP &lt;int&gt; | seq_window_entropy &lt;dbl&gt; | seq_window_perc_gc &lt;dbl&gt; | Extensive_misassembly &lt;int&gt; | Extensive_misassembly_by_pos &lt;chr&gt; | richness &lt;chr&gt; | rep &lt;chr&gt; | read_depth &lt;chr&gt; |\n",
       "|---|---|---|---|---|---|---|---|---|---|---|---|---|---|---|---|---|---|---|---|---|\n",
       "| metaspades | NODE_1938_length_1127_cov_2.036381 | 0 | A | 1 | 0 | 0 | 0 | 0 | 1 | ⋯ | 0 | 0 | 0 | 1.250 | 0.833 | 0 | None | 0.8 | 1 | 1000000 |\n",
       "| metaspades | NODE_1938_length_1127_cov_2.036381 | 1 | C | 0 | 1 | 0 | 0 | 0 | 1 | ⋯ | 0 | 0 | 0 | 0.918 | 1.000 | 0 | None | 0.8 | 1 | 1000000 |\n",
       "| ⋮ | ⋮ | ⋮ | ⋮ | ⋮ | ⋮ | ⋮ | ⋮ | ⋮ | ⋮ | ⋱ | ⋮ | ⋮ | ⋮ | ⋮ | ⋮ | ⋮ | ⋮ | ⋮ | ⋮ | ⋮ |\n",
       "| megahit | k141_12451 | 1684 | T | 0 | 0 | 0 | 1 | 0 | 1 | ⋯ | 0 | 0 | 0 | 1.46 | 0.500 | 0 | None | 0.8 | 3 | 1000000 |\n",
       "| megahit | k141_12451 | 1685 | C | 0 | 1 | 0 | 0 | 0 | 1 | ⋯ | 0 | 0 | 0 | 1.46 | 0.667 | 0 | None | 0.8 | 3 | 1000000 |\n",
       "\n"
      ],
      "text/plain": [
       "         assembler  contig                             position ref_base\n",
       "1        metaspades NODE_1938_length_1127_cov_2.036381 0        A       \n",
       "2        metaspades NODE_1938_length_1127_cov_2.036381 1        C       \n",
       "⋮        ⋮          ⋮                                  ⋮        ⋮       \n",
       "77496488 megahit    k141_12451                         1684     T       \n",
       "77496489 megahit    k141_12451                         1685     C       \n",
       "         num_query_A num_query_C num_query_G num_query_T num_SNPs coverage ⋯\n",
       "1        1           0           0           0           0        1        ⋯\n",
       "2        0           1           0           0           0        1        ⋯\n",
       "⋮        ⋮           ⋮           ⋮           ⋮           ⋮        ⋮        ⋱\n",
       "77496488 0           0           0           1           0        1        ⋯\n",
       "77496489 0           1           0           0           0        1        ⋯\n",
       "         num_supplementary_SNP num_secondary_SNP num_discordant_SNP\n",
       "1        0                     0                 0                 \n",
       "2        0                     0                 0                 \n",
       "⋮        ⋮                     ⋮                 ⋮                 \n",
       "77496488 0                     0                 0                 \n",
       "77496489 0                     0                 0                 \n",
       "         seq_window_entropy seq_window_perc_gc Extensive_misassembly\n",
       "1        1.250              0.833              0                    \n",
       "2        0.918              1.000              0                    \n",
       "⋮        ⋮                  ⋮                  ⋮                    \n",
       "77496488 1.46               0.500              0                    \n",
       "77496489 1.46               0.667              0                    \n",
       "         Extensive_misassembly_by_pos richness rep read_depth\n",
       "1        None                         0.8      1   1000000   \n",
       "2        None                         0.8      1   1000000   \n",
       "⋮        ⋮                            ⋮        ⋮   ⋮         \n",
       "77496488 None                         0.8      3   1000000   \n",
       "77496489 None                         0.8      3   1000000   "
      ]
     },
     "metadata": {},
     "output_type": "display_data"
    }
   ],
   "source": [
    "# loading feature tables\n",
    "bam2feat = files %>%\n",
    "    apply(1, read_feat, D=file.path(work_dir, 'features_bam2feat')) %>%\n",
    "    rbindlist(use.names=TRUE)\n",
    "bam2feat"
   ]
  },
  {
   "cell_type": "markdown",
   "id": "906eca48",
   "metadata": {},
   "source": [
    "# Compare"
   ]
  },
  {
   "cell_type": "markdown",
   "id": "284f8e74",
   "metadata": {},
   "source": [
    "## Check that dataset matches"
   ]
  },
  {
   "cell_type": "code",
   "execution_count": 8,
   "id": "c70a282f",
   "metadata": {
    "ExecuteTime": {
     "end_time": "2021-07-17T13:09:07.538680Z",
     "start_time": "2021-07-17T13:02:16.440Z"
    }
   },
   "outputs": [
    {
     "name": "stdout",
     "output_type": "stream",
     "text": [
      "No. of unique assemblers: 2 \n",
      "No. of unique assemblers: 2 \n"
     ]
    }
   ],
   "source": [
    "bam2feat_py$assembler %>% unique_n('assemblers')\n",
    "bam2feat$assembler %>% unique_n('assemblers')"
   ]
  },
  {
   "cell_type": "code",
   "execution_count": 9,
   "id": "1d836b65",
   "metadata": {
    "ExecuteTime": {
     "end_time": "2021-07-17T13:09:11.954456Z",
     "start_time": "2021-07-17T13:02:16.575Z"
    }
   },
   "outputs": [
    {
     "name": "stdout",
     "output_type": "stream",
     "text": [
      "No. of unique contigs: 8955 \n",
      "No. of unique contigs: 8955 \n"
     ]
    }
   ],
   "source": [
    "bam2feat_py$contig %>% unique_n('contigs')\n",
    "bam2feat$contig %>% unique_n('contigs')"
   ]
  },
  {
   "cell_type": "code",
   "execution_count": 10,
   "id": "249c637f",
   "metadata": {
    "ExecuteTime": {
     "end_time": "2021-07-17T13:09:12.519774Z",
     "start_time": "2021-07-17T13:02:33.631Z"
    }
   },
   "outputs": [
    {
     "data": {
      "text/html": [
       "<table class=\"dataframe\">\n",
       "<caption>A tidytable: 6 × 4</caption>\n",
       "<thead>\n",
       "\t<tr><th scope=col>assembler</th><th scope=col>richness</th><th scope=col>rep</th><th scope=col>read_depth</th></tr>\n",
       "\t<tr><th scope=col>&lt;chr&gt;</th><th scope=col>&lt;chr&gt;</th><th scope=col>&lt;chr&gt;</th><th scope=col>&lt;chr&gt;</th></tr>\n",
       "</thead>\n",
       "<tbody>\n",
       "\t<tr><td>metaspades</td><td>0.8</td><td>1</td><td>1000000</td></tr>\n",
       "\t<tr><td>megahit   </td><td>0.8</td><td>1</td><td>1000000</td></tr>\n",
       "\t<tr><td>⋮</td><td>⋮</td><td>⋮</td><td>⋮</td></tr>\n",
       "\t<tr><td>metaspades</td><td>0.8</td><td>3</td><td>1000000</td></tr>\n",
       "\t<tr><td>megahit   </td><td>0.8</td><td>3</td><td>1000000</td></tr>\n",
       "</tbody>\n",
       "</table>\n"
      ],
      "text/latex": [
       "A tidytable: 6 × 4\n",
       "\\begin{tabular}{llll}\n",
       " assembler & richness & rep & read\\_depth\\\\\n",
       " <chr> & <chr> & <chr> & <chr>\\\\\n",
       "\\hline\n",
       "\t metaspades & 0.8 & 1 & 1000000\\\\\n",
       "\t megahit    & 0.8 & 1 & 1000000\\\\\n",
       "\t ⋮ & ⋮ & ⋮ & ⋮\\\\\n",
       "\t metaspades & 0.8 & 3 & 1000000\\\\\n",
       "\t megahit    & 0.8 & 3 & 1000000\\\\\n",
       "\\end{tabular}\n"
      ],
      "text/markdown": [
       "\n",
       "A tidytable: 6 × 4\n",
       "\n",
       "| assembler &lt;chr&gt; | richness &lt;chr&gt; | rep &lt;chr&gt; | read_depth &lt;chr&gt; |\n",
       "|---|---|---|---|\n",
       "| metaspades | 0.8 | 1 | 1000000 |\n",
       "| megahit    | 0.8 | 1 | 1000000 |\n",
       "| ⋮ | ⋮ | ⋮ | ⋮ |\n",
       "| metaspades | 0.8 | 3 | 1000000 |\n",
       "| megahit    | 0.8 | 3 | 1000000 |\n",
       "\n"
      ],
      "text/plain": [
       "  assembler  richness rep read_depth\n",
       "1 metaspades 0.8      1   1000000   \n",
       "2 megahit    0.8      1   1000000   \n",
       "⋮ ⋮          ⋮        ⋮   ⋮         \n",
       "5 metaspades 0.8      3   1000000   \n",
       "6 megahit    0.8      3   1000000   "
      ]
     },
     "metadata": {},
     "output_type": "display_data"
    }
   ],
   "source": [
    "bam2feat_py %>%\n",
    "    distinct.(assembler, richness, rep, read_depth)"
   ]
  },
  {
   "cell_type": "code",
   "execution_count": 11,
   "id": "bd7417b4",
   "metadata": {
    "ExecuteTime": {
     "end_time": "2021-07-17T13:09:13.065344Z",
     "start_time": "2021-07-17T13:02:33.798Z"
    }
   },
   "outputs": [
    {
     "data": {
      "text/html": [
       "<table class=\"dataframe\">\n",
       "<caption>A tidytable: 6 × 4</caption>\n",
       "<thead>\n",
       "\t<tr><th scope=col>assembler</th><th scope=col>richness</th><th scope=col>rep</th><th scope=col>read_depth</th></tr>\n",
       "\t<tr><th scope=col>&lt;chr&gt;</th><th scope=col>&lt;chr&gt;</th><th scope=col>&lt;chr&gt;</th><th scope=col>&lt;chr&gt;</th></tr>\n",
       "</thead>\n",
       "<tbody>\n",
       "\t<tr><td>metaspades</td><td>0.8</td><td>1</td><td>1000000</td></tr>\n",
       "\t<tr><td>megahit   </td><td>0.8</td><td>1</td><td>1000000</td></tr>\n",
       "\t<tr><td>⋮</td><td>⋮</td><td>⋮</td><td>⋮</td></tr>\n",
       "\t<tr><td>metaspades</td><td>0.8</td><td>3</td><td>1000000</td></tr>\n",
       "\t<tr><td>megahit   </td><td>0.8</td><td>3</td><td>1000000</td></tr>\n",
       "</tbody>\n",
       "</table>\n"
      ],
      "text/latex": [
       "A tidytable: 6 × 4\n",
       "\\begin{tabular}{llll}\n",
       " assembler & richness & rep & read\\_depth\\\\\n",
       " <chr> & <chr> & <chr> & <chr>\\\\\n",
       "\\hline\n",
       "\t metaspades & 0.8 & 1 & 1000000\\\\\n",
       "\t megahit    & 0.8 & 1 & 1000000\\\\\n",
       "\t ⋮ & ⋮ & ⋮ & ⋮\\\\\n",
       "\t metaspades & 0.8 & 3 & 1000000\\\\\n",
       "\t megahit    & 0.8 & 3 & 1000000\\\\\n",
       "\\end{tabular}\n"
      ],
      "text/markdown": [
       "\n",
       "A tidytable: 6 × 4\n",
       "\n",
       "| assembler &lt;chr&gt; | richness &lt;chr&gt; | rep &lt;chr&gt; | read_depth &lt;chr&gt; |\n",
       "|---|---|---|---|\n",
       "| metaspades | 0.8 | 1 | 1000000 |\n",
       "| megahit    | 0.8 | 1 | 1000000 |\n",
       "| ⋮ | ⋮ | ⋮ | ⋮ |\n",
       "| metaspades | 0.8 | 3 | 1000000 |\n",
       "| megahit    | 0.8 | 3 | 1000000 |\n",
       "\n"
      ],
      "text/plain": [
       "  assembler  richness rep read_depth\n",
       "1 metaspades 0.8      1   1000000   \n",
       "2 megahit    0.8      1   1000000   \n",
       "⋮ ⋮          ⋮        ⋮   ⋮         \n",
       "5 metaspades 0.8      3   1000000   \n",
       "6 megahit    0.8      3   1000000   "
      ]
     },
     "metadata": {},
     "output_type": "display_data"
    }
   ],
   "source": [
    "bam2feat %>%\n",
    "    distinct.(assembler, richness, rep, read_depth)"
   ]
  },
  {
   "cell_type": "code",
   "execution_count": 12,
   "id": "36e278f9",
   "metadata": {
    "ExecuteTime": {
     "end_time": "2021-07-17T13:09:19.698675Z",
     "start_time": "2021-07-17T13:02:33.950Z"
    }
   },
   "outputs": [
    {
     "data": {
      "text/html": [
       "<table class=\"dataframe\">\n",
       "<caption>A matrix: 1 × 8 of type dbl</caption>\n",
       "<thead>\n",
       "\t<tr><th></th><th scope=col>Min.</th><th scope=col>1st Qu.</th><th scope=col>Median</th><th scope=col>Mean</th><th scope=col>3rd Qu.</th><th scope=col>Max.</th><th scope=col>sd</th><th scope=col>sd_err_of_mean</th></tr>\n",
       "</thead>\n",
       "<tbody>\n",
       "\t<tr><th scope=row>position</th><td>0</td><td>1324</td><td>21314</td><td>83480.16</td><td>96603</td><td>869434</td><td>340906.6</td><td>139174.5</td></tr>\n",
       "</tbody>\n",
       "</table>\n"
      ],
      "text/latex": [
       "A matrix: 1 × 8 of type dbl\n",
       "\\begin{tabular}{r|llllllll}\n",
       "  & Min. & 1st Qu. & Median & Mean & 3rd Qu. & Max. & sd & sd\\_err\\_of\\_mean\\\\\n",
       "\\hline\n",
       "\tposition & 0 & 1324 & 21314 & 83480.16 & 96603 & 869434 & 340906.6 & 139174.5\\\\\n",
       "\\end{tabular}\n"
      ],
      "text/markdown": [
       "\n",
       "A matrix: 1 × 8 of type dbl\n",
       "\n",
       "| <!--/--> | Min. | 1st Qu. | Median | Mean | 3rd Qu. | Max. | sd | sd_err_of_mean |\n",
       "|---|---|---|---|---|---|---|---|---|\n",
       "| position | 0 | 1324 | 21314 | 83480.16 | 96603 | 869434 | 340906.6 | 139174.5 |\n",
       "\n"
      ],
      "text/plain": [
       "         Min. 1st Qu. Median Mean     3rd Qu. Max.   sd       sd_err_of_mean\n",
       "position 0    1324    21314  83480.16 96603   869434 340906.6 139174.5      "
      ]
     },
     "metadata": {},
     "output_type": "display_data"
    },
    {
     "data": {
      "text/html": [
       "<table class=\"dataframe\">\n",
       "<caption>A matrix: 1 × 8 of type dbl</caption>\n",
       "<thead>\n",
       "\t<tr><th></th><th scope=col>Min.</th><th scope=col>1st Qu.</th><th scope=col>Median</th><th scope=col>Mean</th><th scope=col>3rd Qu.</th><th scope=col>Max.</th><th scope=col>sd</th><th scope=col>sd_err_of_mean</th></tr>\n",
       "</thead>\n",
       "<tbody>\n",
       "\t<tr><th scope=row>position</th><td>0</td><td>1324</td><td>21314</td><td>83480.16</td><td>96603</td><td>869434</td><td>340906.6</td><td>139174.5</td></tr>\n",
       "</tbody>\n",
       "</table>\n"
      ],
      "text/latex": [
       "A matrix: 1 × 8 of type dbl\n",
       "\\begin{tabular}{r|llllllll}\n",
       "  & Min. & 1st Qu. & Median & Mean & 3rd Qu. & Max. & sd & sd\\_err\\_of\\_mean\\\\\n",
       "\\hline\n",
       "\tposition & 0 & 1324 & 21314 & 83480.16 & 96603 & 869434 & 340906.6 & 139174.5\\\\\n",
       "\\end{tabular}\n"
      ],
      "text/markdown": [
       "\n",
       "A matrix: 1 × 8 of type dbl\n",
       "\n",
       "| <!--/--> | Min. | 1st Qu. | Median | Mean | 3rd Qu. | Max. | sd | sd_err_of_mean |\n",
       "|---|---|---|---|---|---|---|---|---|\n",
       "| position | 0 | 1324 | 21314 | 83480.16 | 96603 | 869434 | 340906.6 | 139174.5 |\n",
       "\n"
      ],
      "text/plain": [
       "         Min. 1st Qu. Median Mean     3rd Qu. Max.   sd       sd_err_of_mean\n",
       "position 0    1324    21314  83480.16 96603   869434 340906.6 139174.5      "
      ]
     },
     "metadata": {},
     "output_type": "display_data"
    }
   ],
   "source": [
    "summary_x(bam2feat_py$position)\n",
    "summary_x(bam2feat$position)"
   ]
  },
  {
   "cell_type": "markdown",
   "id": "cd165120",
   "metadata": {},
   "source": [
    "## Features"
   ]
  },
  {
   "cell_type": "markdown",
   "id": "4972e84f",
   "metadata": {},
   "source": [
    "### ref bases"
   ]
  },
  {
   "cell_type": "code",
   "execution_count": 13,
   "id": "d85ab396",
   "metadata": {
    "ExecuteTime": {
     "end_time": "2021-07-17T13:09:34.839973Z",
     "start_time": "2021-07-17T13:02:34.360Z"
    }
   },
   "outputs": [
    {
     "data": {
      "text/plain": [
       ".\n",
       "       A        C        G        T \n",
       "15552392 23147449 23200957 15595691 "
      ]
     },
     "metadata": {},
     "output_type": "display_data"
    },
    {
     "data": {
      "text/plain": [
       ".\n",
       "       A        C        G        T \n",
       "15552392 23147449 23200957 15595691 "
      ]
     },
     "metadata": {},
     "output_type": "display_data"
    }
   ],
   "source": [
    "bam2feat_py$ref_base %>% table\n",
    "bam2feat$ref_base %>% table"
   ]
  },
  {
   "cell_type": "code",
   "execution_count": 14,
   "id": "ebf61578",
   "metadata": {
    "ExecuteTime": {
     "end_time": "2021-07-17T13:09:40.739191Z",
     "start_time": "2021-07-17T13:02:34.520Z"
    }
   },
   "outputs": [
    {
     "data": {
      "text/html": [
       "<table class=\"dataframe\">\n",
       "<caption>A matrix: 1 × 8 of type dbl</caption>\n",
       "<thead>\n",
       "\t<tr><th></th><th scope=col>Min.</th><th scope=col>1st Qu.</th><th scope=col>Median</th><th scope=col>Mean</th><th scope=col>3rd Qu.</th><th scope=col>Max.</th><th scope=col>sd</th><th scope=col>sd_err_of_mean</th></tr>\n",
       "</thead>\n",
       "<tbody>\n",
       "\t<tr><th scope=row>num_query_A</th><td>0</td><td>0</td><td>0</td><td>5.363889</td><td>0</td><td>503</td><td>204.922</td><td>83.659</td></tr>\n",
       "</tbody>\n",
       "</table>\n"
      ],
      "text/latex": [
       "A matrix: 1 × 8 of type dbl\n",
       "\\begin{tabular}{r|llllllll}\n",
       "  & Min. & 1st Qu. & Median & Mean & 3rd Qu. & Max. & sd & sd\\_err\\_of\\_mean\\\\\n",
       "\\hline\n",
       "\tnum\\_query\\_A & 0 & 0 & 0 & 5.363889 & 0 & 503 & 204.922 & 83.659\\\\\n",
       "\\end{tabular}\n"
      ],
      "text/markdown": [
       "\n",
       "A matrix: 1 × 8 of type dbl\n",
       "\n",
       "| <!--/--> | Min. | 1st Qu. | Median | Mean | 3rd Qu. | Max. | sd | sd_err_of_mean |\n",
       "|---|---|---|---|---|---|---|---|---|\n",
       "| num_query_A | 0 | 0 | 0 | 5.363889 | 0 | 503 | 204.922 | 83.659 |\n",
       "\n"
      ],
      "text/plain": [
       "            Min. 1st Qu. Median Mean     3rd Qu. Max. sd      sd_err_of_mean\n",
       "num_query_A 0    0       0      5.363889 0       503  204.922 83.659        "
      ]
     },
     "metadata": {},
     "output_type": "display_data"
    },
    {
     "data": {
      "text/html": [
       "<table class=\"dataframe\">\n",
       "<caption>A matrix: 1 × 8 of type dbl</caption>\n",
       "<thead>\n",
       "\t<tr><th></th><th scope=col>Min.</th><th scope=col>1st Qu.</th><th scope=col>Median</th><th scope=col>Mean</th><th scope=col>3rd Qu.</th><th scope=col>Max.</th><th scope=col>sd</th><th scope=col>sd_err_of_mean</th></tr>\n",
       "</thead>\n",
       "<tbody>\n",
       "\t<tr><th scope=row>num_query_A</th><td>0</td><td>0</td><td>0</td><td>5.363889</td><td>0</td><td>503</td><td>204.922</td><td>83.659</td></tr>\n",
       "</tbody>\n",
       "</table>\n"
      ],
      "text/latex": [
       "A matrix: 1 × 8 of type dbl\n",
       "\\begin{tabular}{r|llllllll}\n",
       "  & Min. & 1st Qu. & Median & Mean & 3rd Qu. & Max. & sd & sd\\_err\\_of\\_mean\\\\\n",
       "\\hline\n",
       "\tnum\\_query\\_A & 0 & 0 & 0 & 5.363889 & 0 & 503 & 204.922 & 83.659\\\\\n",
       "\\end{tabular}\n"
      ],
      "text/markdown": [
       "\n",
       "A matrix: 1 × 8 of type dbl\n",
       "\n",
       "| <!--/--> | Min. | 1st Qu. | Median | Mean | 3rd Qu. | Max. | sd | sd_err_of_mean |\n",
       "|---|---|---|---|---|---|---|---|---|\n",
       "| num_query_A | 0 | 0 | 0 | 5.363889 | 0 | 503 | 204.922 | 83.659 |\n",
       "\n"
      ],
      "text/plain": [
       "            Min. 1st Qu. Median Mean     3rd Qu. Max. sd      sd_err_of_mean\n",
       "num_query_A 0    0       0      5.363889 0       503  204.922 83.659        "
      ]
     },
     "metadata": {},
     "output_type": "display_data"
    }
   ],
   "source": [
    "summary_x(bam2feat_py$num_query_A)\n",
    "summary_x(bam2feat$num_query_A)"
   ]
  },
  {
   "cell_type": "code",
   "execution_count": 15,
   "id": "daae3306",
   "metadata": {
    "ExecuteTime": {
     "end_time": "2021-07-17T13:09:46.685522Z",
     "start_time": "2021-07-17T13:02:34.665Z"
    }
   },
   "outputs": [
    {
     "data": {
      "text/html": [
       "<table class=\"dataframe\">\n",
       "<caption>A matrix: 1 × 8 of type dbl</caption>\n",
       "<thead>\n",
       "\t<tr><th></th><th scope=col>Min.</th><th scope=col>1st Qu.</th><th scope=col>Median</th><th scope=col>Mean</th><th scope=col>3rd Qu.</th><th scope=col>Max.</th><th scope=col>sd</th><th scope=col>sd_err_of_mean</th></tr>\n",
       "</thead>\n",
       "<tbody>\n",
       "\t<tr><th scope=row>num_query_C</th><td>0</td><td>0</td><td>0</td><td>5.073467</td><td>3</td><td>509</td><td>207.15</td><td>84.568</td></tr>\n",
       "</tbody>\n",
       "</table>\n"
      ],
      "text/latex": [
       "A matrix: 1 × 8 of type dbl\n",
       "\\begin{tabular}{r|llllllll}\n",
       "  & Min. & 1st Qu. & Median & Mean & 3rd Qu. & Max. & sd & sd\\_err\\_of\\_mean\\\\\n",
       "\\hline\n",
       "\tnum\\_query\\_C & 0 & 0 & 0 & 5.073467 & 3 & 509 & 207.15 & 84.568\\\\\n",
       "\\end{tabular}\n"
      ],
      "text/markdown": [
       "\n",
       "A matrix: 1 × 8 of type dbl\n",
       "\n",
       "| <!--/--> | Min. | 1st Qu. | Median | Mean | 3rd Qu. | Max. | sd | sd_err_of_mean |\n",
       "|---|---|---|---|---|---|---|---|---|\n",
       "| num_query_C | 0 | 0 | 0 | 5.073467 | 3 | 509 | 207.15 | 84.568 |\n",
       "\n"
      ],
      "text/plain": [
       "            Min. 1st Qu. Median Mean     3rd Qu. Max. sd     sd_err_of_mean\n",
       "num_query_C 0    0       0      5.073467 3       509  207.15 84.568        "
      ]
     },
     "metadata": {},
     "output_type": "display_data"
    },
    {
     "data": {
      "text/html": [
       "<table class=\"dataframe\">\n",
       "<caption>A matrix: 1 × 8 of type dbl</caption>\n",
       "<thead>\n",
       "\t<tr><th></th><th scope=col>Min.</th><th scope=col>1st Qu.</th><th scope=col>Median</th><th scope=col>Mean</th><th scope=col>3rd Qu.</th><th scope=col>Max.</th><th scope=col>sd</th><th scope=col>sd_err_of_mean</th></tr>\n",
       "</thead>\n",
       "<tbody>\n",
       "\t<tr><th scope=row>num_query_C</th><td>0</td><td>0</td><td>0</td><td>5.073467</td><td>3</td><td>509</td><td>207.15</td><td>84.568</td></tr>\n",
       "</tbody>\n",
       "</table>\n"
      ],
      "text/latex": [
       "A matrix: 1 × 8 of type dbl\n",
       "\\begin{tabular}{r|llllllll}\n",
       "  & Min. & 1st Qu. & Median & Mean & 3rd Qu. & Max. & sd & sd\\_err\\_of\\_mean\\\\\n",
       "\\hline\n",
       "\tnum\\_query\\_C & 0 & 0 & 0 & 5.073467 & 3 & 509 & 207.15 & 84.568\\\\\n",
       "\\end{tabular}\n"
      ],
      "text/markdown": [
       "\n",
       "A matrix: 1 × 8 of type dbl\n",
       "\n",
       "| <!--/--> | Min. | 1st Qu. | Median | Mean | 3rd Qu. | Max. | sd | sd_err_of_mean |\n",
       "|---|---|---|---|---|---|---|---|---|\n",
       "| num_query_C | 0 | 0 | 0 | 5.073467 | 3 | 509 | 207.15 | 84.568 |\n",
       "\n"
      ],
      "text/plain": [
       "            Min. 1st Qu. Median Mean     3rd Qu. Max. sd     sd_err_of_mean\n",
       "num_query_C 0    0       0      5.073467 3       509  207.15 84.568        "
      ]
     },
     "metadata": {},
     "output_type": "display_data"
    }
   ],
   "source": [
    "summary_x(bam2feat_py$num_query_C)\n",
    "summary_x(bam2feat$num_query_C)"
   ]
  },
  {
   "cell_type": "code",
   "execution_count": 16,
   "id": "76cb9f4c",
   "metadata": {
    "ExecuteTime": {
     "end_time": "2021-07-17T13:09:53.755532Z",
     "start_time": "2021-07-17T13:02:34.808Z"
    }
   },
   "outputs": [
    {
     "data": {
      "text/html": [
       "<table class=\"dataframe\">\n",
       "<caption>A matrix: 1 × 8 of type dbl</caption>\n",
       "<thead>\n",
       "\t<tr><th></th><th scope=col>Min.</th><th scope=col>1st Qu.</th><th scope=col>Median</th><th scope=col>Mean</th><th scope=col>3rd Qu.</th><th scope=col>Max.</th><th scope=col>sd</th><th scope=col>sd_err_of_mean</th></tr>\n",
       "</thead>\n",
       "<tbody>\n",
       "\t<tr><th scope=row>num_query_G</th><td>0</td><td>0</td><td>0</td><td>5.119124</td><td>3</td><td>504</td><td>205.105</td><td>83.734</td></tr>\n",
       "</tbody>\n",
       "</table>\n"
      ],
      "text/latex": [
       "A matrix: 1 × 8 of type dbl\n",
       "\\begin{tabular}{r|llllllll}\n",
       "  & Min. & 1st Qu. & Median & Mean & 3rd Qu. & Max. & sd & sd\\_err\\_of\\_mean\\\\\n",
       "\\hline\n",
       "\tnum\\_query\\_G & 0 & 0 & 0 & 5.119124 & 3 & 504 & 205.105 & 83.734\\\\\n",
       "\\end{tabular}\n"
      ],
      "text/markdown": [
       "\n",
       "A matrix: 1 × 8 of type dbl\n",
       "\n",
       "| <!--/--> | Min. | 1st Qu. | Median | Mean | 3rd Qu. | Max. | sd | sd_err_of_mean |\n",
       "|---|---|---|---|---|---|---|---|---|\n",
       "| num_query_G | 0 | 0 | 0 | 5.119124 | 3 | 504 | 205.105 | 83.734 |\n",
       "\n"
      ],
      "text/plain": [
       "            Min. 1st Qu. Median Mean     3rd Qu. Max. sd      sd_err_of_mean\n",
       "num_query_G 0    0       0      5.119124 3       504  205.105 83.734        "
      ]
     },
     "metadata": {},
     "output_type": "display_data"
    },
    {
     "data": {
      "text/html": [
       "<table class=\"dataframe\">\n",
       "<caption>A matrix: 1 × 8 of type dbl</caption>\n",
       "<thead>\n",
       "\t<tr><th></th><th scope=col>Min.</th><th scope=col>1st Qu.</th><th scope=col>Median</th><th scope=col>Mean</th><th scope=col>3rd Qu.</th><th scope=col>Max.</th><th scope=col>sd</th><th scope=col>sd_err_of_mean</th></tr>\n",
       "</thead>\n",
       "<tbody>\n",
       "\t<tr><th scope=row>num_query_G</th><td>0</td><td>0</td><td>0</td><td>5.119124</td><td>3</td><td>504</td><td>205.105</td><td>83.734</td></tr>\n",
       "</tbody>\n",
       "</table>\n"
      ],
      "text/latex": [
       "A matrix: 1 × 8 of type dbl\n",
       "\\begin{tabular}{r|llllllll}\n",
       "  & Min. & 1st Qu. & Median & Mean & 3rd Qu. & Max. & sd & sd\\_err\\_of\\_mean\\\\\n",
       "\\hline\n",
       "\tnum\\_query\\_G & 0 & 0 & 0 & 5.119124 & 3 & 504 & 205.105 & 83.734\\\\\n",
       "\\end{tabular}\n"
      ],
      "text/markdown": [
       "\n",
       "A matrix: 1 × 8 of type dbl\n",
       "\n",
       "| <!--/--> | Min. | 1st Qu. | Median | Mean | 3rd Qu. | Max. | sd | sd_err_of_mean |\n",
       "|---|---|---|---|---|---|---|---|---|\n",
       "| num_query_G | 0 | 0 | 0 | 5.119124 | 3 | 504 | 205.105 | 83.734 |\n",
       "\n"
      ],
      "text/plain": [
       "            Min. 1st Qu. Median Mean     3rd Qu. Max. sd      sd_err_of_mean\n",
       "num_query_G 0    0       0      5.119124 3       504  205.105 83.734        "
      ]
     },
     "metadata": {},
     "output_type": "display_data"
    }
   ],
   "source": [
    "summary_x(bam2feat_py$num_query_G)\n",
    "summary_x(bam2feat$num_query_G)"
   ]
  },
  {
   "cell_type": "code",
   "execution_count": 17,
   "id": "a5c55539",
   "metadata": {
    "ExecuteTime": {
     "end_time": "2021-07-17T13:09:59.606365Z",
     "start_time": "2021-07-17T13:02:34.952Z"
    }
   },
   "outputs": [
    {
     "data": {
      "text/html": [
       "<table class=\"dataframe\">\n",
       "<caption>A matrix: 1 × 8 of type dbl</caption>\n",
       "<thead>\n",
       "\t<tr><th></th><th scope=col>Min.</th><th scope=col>1st Qu.</th><th scope=col>Median</th><th scope=col>Mean</th><th scope=col>3rd Qu.</th><th scope=col>Max.</th><th scope=col>sd</th><th scope=col>sd_err_of_mean</th></tr>\n",
       "</thead>\n",
       "<tbody>\n",
       "\t<tr><th scope=row>num_query_T</th><td>0</td><td>0</td><td>0</td><td>5.379804</td><td>0</td><td>503</td><td>204.921</td><td>83.659</td></tr>\n",
       "</tbody>\n",
       "</table>\n"
      ],
      "text/latex": [
       "A matrix: 1 × 8 of type dbl\n",
       "\\begin{tabular}{r|llllllll}\n",
       "  & Min. & 1st Qu. & Median & Mean & 3rd Qu. & Max. & sd & sd\\_err\\_of\\_mean\\\\\n",
       "\\hline\n",
       "\tnum\\_query\\_T & 0 & 0 & 0 & 5.379804 & 0 & 503 & 204.921 & 83.659\\\\\n",
       "\\end{tabular}\n"
      ],
      "text/markdown": [
       "\n",
       "A matrix: 1 × 8 of type dbl\n",
       "\n",
       "| <!--/--> | Min. | 1st Qu. | Median | Mean | 3rd Qu. | Max. | sd | sd_err_of_mean |\n",
       "|---|---|---|---|---|---|---|---|---|\n",
       "| num_query_T | 0 | 0 | 0 | 5.379804 | 0 | 503 | 204.921 | 83.659 |\n",
       "\n"
      ],
      "text/plain": [
       "            Min. 1st Qu. Median Mean     3rd Qu. Max. sd      sd_err_of_mean\n",
       "num_query_T 0    0       0      5.379804 0       503  204.921 83.659        "
      ]
     },
     "metadata": {},
     "output_type": "display_data"
    },
    {
     "data": {
      "text/html": [
       "<table class=\"dataframe\">\n",
       "<caption>A matrix: 1 × 8 of type dbl</caption>\n",
       "<thead>\n",
       "\t<tr><th></th><th scope=col>Min.</th><th scope=col>1st Qu.</th><th scope=col>Median</th><th scope=col>Mean</th><th scope=col>3rd Qu.</th><th scope=col>Max.</th><th scope=col>sd</th><th scope=col>sd_err_of_mean</th></tr>\n",
       "</thead>\n",
       "<tbody>\n",
       "\t<tr><th scope=row>num_query_T</th><td>0</td><td>0</td><td>0</td><td>5.379804</td><td>0</td><td>503</td><td>204.921</td><td>83.659</td></tr>\n",
       "</tbody>\n",
       "</table>\n"
      ],
      "text/latex": [
       "A matrix: 1 × 8 of type dbl\n",
       "\\begin{tabular}{r|llllllll}\n",
       "  & Min. & 1st Qu. & Median & Mean & 3rd Qu. & Max. & sd & sd\\_err\\_of\\_mean\\\\\n",
       "\\hline\n",
       "\tnum\\_query\\_T & 0 & 0 & 0 & 5.379804 & 0 & 503 & 204.921 & 83.659\\\\\n",
       "\\end{tabular}\n"
      ],
      "text/markdown": [
       "\n",
       "A matrix: 1 × 8 of type dbl\n",
       "\n",
       "| <!--/--> | Min. | 1st Qu. | Median | Mean | 3rd Qu. | Max. | sd | sd_err_of_mean |\n",
       "|---|---|---|---|---|---|---|---|---|\n",
       "| num_query_T | 0 | 0 | 0 | 5.379804 | 0 | 503 | 204.921 | 83.659 |\n",
       "\n"
      ],
      "text/plain": [
       "            Min. 1st Qu. Median Mean     3rd Qu. Max. sd      sd_err_of_mean\n",
       "num_query_T 0    0       0      5.379804 0       503  204.921 83.659        "
      ]
     },
     "metadata": {},
     "output_type": "display_data"
    }
   ],
   "source": [
    "summary_x(bam2feat_py$num_query_T)\n",
    "summary_x(bam2feat$num_query_T)"
   ]
  },
  {
   "cell_type": "markdown",
   "id": "6b8768fb",
   "metadata": {},
   "source": [
    "### coverage/SNPs"
   ]
  },
  {
   "cell_type": "code",
   "execution_count": 18,
   "id": "63089a6f",
   "metadata": {
    "ExecuteTime": {
     "end_time": "2021-07-17T13:10:04.761075Z",
     "start_time": "2021-07-17T13:02:35.238Z"
    }
   },
   "outputs": [
    {
     "data": {
      "text/html": [
       "<table class=\"dataframe\">\n",
       "<caption>A matrix: 1 × 8 of type dbl</caption>\n",
       "<thead>\n",
       "\t<tr><th></th><th scope=col>Min.</th><th scope=col>1st Qu.</th><th scope=col>Median</th><th scope=col>Mean</th><th scope=col>3rd Qu.</th><th scope=col>Max.</th><th scope=col>sd</th><th scope=col>sd_err_of_mean</th></tr>\n",
       "</thead>\n",
       "<tbody>\n",
       "\t<tr><th scope=row>coverage</th><td>0</td><td>5</td><td>12</td><td>20.93628</td><td>42</td><td>509</td><td>201.814</td><td>82.39</td></tr>\n",
       "</tbody>\n",
       "</table>\n"
      ],
      "text/latex": [
       "A matrix: 1 × 8 of type dbl\n",
       "\\begin{tabular}{r|llllllll}\n",
       "  & Min. & 1st Qu. & Median & Mean & 3rd Qu. & Max. & sd & sd\\_err\\_of\\_mean\\\\\n",
       "\\hline\n",
       "\tcoverage & 0 & 5 & 12 & 20.93628 & 42 & 509 & 201.814 & 82.39\\\\\n",
       "\\end{tabular}\n"
      ],
      "text/markdown": [
       "\n",
       "A matrix: 1 × 8 of type dbl\n",
       "\n",
       "| <!--/--> | Min. | 1st Qu. | Median | Mean | 3rd Qu. | Max. | sd | sd_err_of_mean |\n",
       "|---|---|---|---|---|---|---|---|---|\n",
       "| coverage | 0 | 5 | 12 | 20.93628 | 42 | 509 | 201.814 | 82.39 |\n",
       "\n"
      ],
      "text/plain": [
       "         Min. 1st Qu. Median Mean     3rd Qu. Max. sd      sd_err_of_mean\n",
       "coverage 0    5       12     20.93628 42      509  201.814 82.39         "
      ]
     },
     "metadata": {},
     "output_type": "display_data"
    },
    {
     "data": {
      "text/html": [
       "<table class=\"dataframe\">\n",
       "<caption>A matrix: 1 × 8 of type dbl</caption>\n",
       "<thead>\n",
       "\t<tr><th></th><th scope=col>Min.</th><th scope=col>1st Qu.</th><th scope=col>Median</th><th scope=col>Mean</th><th scope=col>3rd Qu.</th><th scope=col>Max.</th><th scope=col>sd</th><th scope=col>sd_err_of_mean</th></tr>\n",
       "</thead>\n",
       "<tbody>\n",
       "\t<tr><th scope=row>coverage</th><td>0</td><td>5</td><td>12</td><td>20.93628</td><td>42</td><td>509</td><td>201.814</td><td>82.39</td></tr>\n",
       "</tbody>\n",
       "</table>\n"
      ],
      "text/latex": [
       "A matrix: 1 × 8 of type dbl\n",
       "\\begin{tabular}{r|llllllll}\n",
       "  & Min. & 1st Qu. & Median & Mean & 3rd Qu. & Max. & sd & sd\\_err\\_of\\_mean\\\\\n",
       "\\hline\n",
       "\tcoverage & 0 & 5 & 12 & 20.93628 & 42 & 509 & 201.814 & 82.39\\\\\n",
       "\\end{tabular}\n"
      ],
      "text/markdown": [
       "\n",
       "A matrix: 1 × 8 of type dbl\n",
       "\n",
       "| <!--/--> | Min. | 1st Qu. | Median | Mean | 3rd Qu. | Max. | sd | sd_err_of_mean |\n",
       "|---|---|---|---|---|---|---|---|---|\n",
       "| coverage | 0 | 5 | 12 | 20.93628 | 42 | 509 | 201.814 | 82.39 |\n",
       "\n"
      ],
      "text/plain": [
       "         Min. 1st Qu. Median Mean     3rd Qu. Max. sd      sd_err_of_mean\n",
       "coverage 0    5       12     20.93628 42      509  201.814 82.39         "
      ]
     },
     "metadata": {},
     "output_type": "display_data"
    }
   ],
   "source": [
    "summary_x(bam2feat_py$coverage)\n",
    "summary_x(bam2feat$coverage)"
   ]
  },
  {
   "cell_type": "code",
   "execution_count": 19,
   "id": "06481f91",
   "metadata": {
    "ExecuteTime": {
     "end_time": "2021-07-17T13:10:11.045831Z",
     "start_time": "2021-07-17T13:02:35.544Z"
    }
   },
   "outputs": [
    {
     "data": {
      "text/html": [
       "<table class=\"dataframe\">\n",
       "<caption>A matrix: 1 × 8 of type dbl</caption>\n",
       "<thead>\n",
       "\t<tr><th></th><th scope=col>Min.</th><th scope=col>1st Qu.</th><th scope=col>Median</th><th scope=col>Mean</th><th scope=col>3rd Qu.</th><th scope=col>Max.</th><th scope=col>sd</th><th scope=col>sd_err_of_mean</th></tr>\n",
       "</thead>\n",
       "<tbody>\n",
       "\t<tr><th scope=row>num_SNPs</th><td>0</td><td>0</td><td>0</td><td>0.01823663</td><td>0</td><td>324</td><td>132.271</td><td>53.999</td></tr>\n",
       "</tbody>\n",
       "</table>\n"
      ],
      "text/latex": [
       "A matrix: 1 × 8 of type dbl\n",
       "\\begin{tabular}{r|llllllll}\n",
       "  & Min. & 1st Qu. & Median & Mean & 3rd Qu. & Max. & sd & sd\\_err\\_of\\_mean\\\\\n",
       "\\hline\n",
       "\tnum\\_SNPs & 0 & 0 & 0 & 0.01823663 & 0 & 324 & 132.271 & 53.999\\\\\n",
       "\\end{tabular}\n"
      ],
      "text/markdown": [
       "\n",
       "A matrix: 1 × 8 of type dbl\n",
       "\n",
       "| <!--/--> | Min. | 1st Qu. | Median | Mean | 3rd Qu. | Max. | sd | sd_err_of_mean |\n",
       "|---|---|---|---|---|---|---|---|---|\n",
       "| num_SNPs | 0 | 0 | 0 | 0.01823663 | 0 | 324 | 132.271 | 53.999 |\n",
       "\n"
      ],
      "text/plain": [
       "         Min. 1st Qu. Median Mean       3rd Qu. Max. sd      sd_err_of_mean\n",
       "num_SNPs 0    0       0      0.01823663 0       324  132.271 53.999        "
      ]
     },
     "metadata": {},
     "output_type": "display_data"
    },
    {
     "data": {
      "text/html": [
       "<table class=\"dataframe\">\n",
       "<caption>A matrix: 1 × 8 of type dbl</caption>\n",
       "<thead>\n",
       "\t<tr><th></th><th scope=col>Min.</th><th scope=col>1st Qu.</th><th scope=col>Median</th><th scope=col>Mean</th><th scope=col>3rd Qu.</th><th scope=col>Max.</th><th scope=col>sd</th><th scope=col>sd_err_of_mean</th></tr>\n",
       "</thead>\n",
       "<tbody>\n",
       "\t<tr><th scope=row>num_SNPs</th><td>0</td><td>0</td><td>0</td><td>0.01823663</td><td>0</td><td>324</td><td>132.271</td><td>53.999</td></tr>\n",
       "</tbody>\n",
       "</table>\n"
      ],
      "text/latex": [
       "A matrix: 1 × 8 of type dbl\n",
       "\\begin{tabular}{r|llllllll}\n",
       "  & Min. & 1st Qu. & Median & Mean & 3rd Qu. & Max. & sd & sd\\_err\\_of\\_mean\\\\\n",
       "\\hline\n",
       "\tnum\\_SNPs & 0 & 0 & 0 & 0.01823663 & 0 & 324 & 132.271 & 53.999\\\\\n",
       "\\end{tabular}\n"
      ],
      "text/markdown": [
       "\n",
       "A matrix: 1 × 8 of type dbl\n",
       "\n",
       "| <!--/--> | Min. | 1st Qu. | Median | Mean | 3rd Qu. | Max. | sd | sd_err_of_mean |\n",
       "|---|---|---|---|---|---|---|---|---|\n",
       "| num_SNPs | 0 | 0 | 0 | 0.01823663 | 0 | 324 | 132.271 | 53.999 |\n",
       "\n"
      ],
      "text/plain": [
       "         Min. 1st Qu. Median Mean       3rd Qu. Max. sd      sd_err_of_mean\n",
       "num_SNPs 0    0       0      0.01823663 0       324  132.271 53.999        "
      ]
     },
     "metadata": {},
     "output_type": "display_data"
    }
   ],
   "source": [
    "summary_x(bam2feat_py$num_SNPs)\n",
    "summary_x(bam2feat$num_SNPs)"
   ]
  },
  {
   "cell_type": "code",
   "execution_count": 20,
   "id": "379a42de",
   "metadata": {
    "ExecuteTime": {
     "end_time": "2021-07-17T13:10:17.847363Z",
     "start_time": "2021-07-17T13:02:35.688Z"
    }
   },
   "outputs": [
    {
     "data": {
      "text/html": [
       "<table class=\"dataframe\">\n",
       "<caption>A matrix: 1 × 8 of type dbl</caption>\n",
       "<thead>\n",
       "\t<tr><th></th><th scope=col>Min.</th><th scope=col>1st Qu.</th><th scope=col>Median</th><th scope=col>Mean</th><th scope=col>3rd Qu.</th><th scope=col>Max.</th><th scope=col>sd</th><th scope=col>sd_err_of_mean</th></tr>\n",
       "</thead>\n",
       "<tbody>\n",
       "\t<tr><th scope=row>num_discordant</th><td>0</td><td>0</td><td>0</td><td>0.01239075</td><td>0</td><td>125</td><td>51.03</td><td>20.833</td></tr>\n",
       "</tbody>\n",
       "</table>\n"
      ],
      "text/latex": [
       "A matrix: 1 × 8 of type dbl\n",
       "\\begin{tabular}{r|llllllll}\n",
       "  & Min. & 1st Qu. & Median & Mean & 3rd Qu. & Max. & sd & sd\\_err\\_of\\_mean\\\\\n",
       "\\hline\n",
       "\tnum\\_discordant & 0 & 0 & 0 & 0.01239075 & 0 & 125 & 51.03 & 20.833\\\\\n",
       "\\end{tabular}\n"
      ],
      "text/markdown": [
       "\n",
       "A matrix: 1 × 8 of type dbl\n",
       "\n",
       "| <!--/--> | Min. | 1st Qu. | Median | Mean | 3rd Qu. | Max. | sd | sd_err_of_mean |\n",
       "|---|---|---|---|---|---|---|---|---|\n",
       "| num_discordant | 0 | 0 | 0 | 0.01239075 | 0 | 125 | 51.03 | 20.833 |\n",
       "\n"
      ],
      "text/plain": [
       "               Min. 1st Qu. Median Mean       3rd Qu. Max. sd    sd_err_of_mean\n",
       "num_discordant 0    0       0      0.01239075 0       125  51.03 20.833        "
      ]
     },
     "metadata": {},
     "output_type": "display_data"
    },
    {
     "data": {
      "text/html": [
       "<table class=\"dataframe\">\n",
       "<caption>A matrix: 1 × 8 of type dbl</caption>\n",
       "<thead>\n",
       "\t<tr><th></th><th scope=col>Min.</th><th scope=col>1st Qu.</th><th scope=col>Median</th><th scope=col>Mean</th><th scope=col>3rd Qu.</th><th scope=col>Max.</th><th scope=col>sd</th><th scope=col>sd_err_of_mean</th></tr>\n",
       "</thead>\n",
       "<tbody>\n",
       "\t<tr><th scope=row>num_discordant</th><td>0</td><td>0</td><td>0</td><td>0.01239075</td><td>0</td><td>125</td><td>51.03</td><td>20.833</td></tr>\n",
       "</tbody>\n",
       "</table>\n"
      ],
      "text/latex": [
       "A matrix: 1 × 8 of type dbl\n",
       "\\begin{tabular}{r|llllllll}\n",
       "  & Min. & 1st Qu. & Median & Mean & 3rd Qu. & Max. & sd & sd\\_err\\_of\\_mean\\\\\n",
       "\\hline\n",
       "\tnum\\_discordant & 0 & 0 & 0 & 0.01239075 & 0 & 125 & 51.03 & 20.833\\\\\n",
       "\\end{tabular}\n"
      ],
      "text/markdown": [
       "\n",
       "A matrix: 1 × 8 of type dbl\n",
       "\n",
       "| <!--/--> | Min. | 1st Qu. | Median | Mean | 3rd Qu. | Max. | sd | sd_err_of_mean |\n",
       "|---|---|---|---|---|---|---|---|---|\n",
       "| num_discordant | 0 | 0 | 0 | 0.01239075 | 0 | 125 | 51.03 | 20.833 |\n",
       "\n"
      ],
      "text/plain": [
       "               Min. 1st Qu. Median Mean       3rd Qu. Max. sd    sd_err_of_mean\n",
       "num_discordant 0    0       0      0.01239075 0       125  51.03 20.833        "
      ]
     },
     "metadata": {},
     "output_type": "display_data"
    }
   ],
   "source": [
    "summary_x(bam2feat_py$num_discordant)\n",
    "summary_x(bam2feat$num_discordant)"
   ]
  },
  {
   "cell_type": "markdown",
   "id": "f8154ce7",
   "metadata": {},
   "source": [
    "### Match features"
   ]
  },
  {
   "cell_type": "code",
   "execution_count": 21,
   "id": "9f514d5a",
   "metadata": {
    "ExecuteTime": {
     "end_time": "2021-07-17T13:10:22.789714Z",
     "start_time": "2021-07-17T13:02:35.984Z"
    }
   },
   "outputs": [
    {
     "data": {
      "text/html": [
       "<table class=\"dataframe\">\n",
       "<caption>A matrix: 1 × 9 of type dbl</caption>\n",
       "<thead>\n",
       "\t<tr><th></th><th scope=col>Min.</th><th scope=col>1st Qu.</th><th scope=col>Median</th><th scope=col>Mean</th><th scope=col>3rd Qu.</th><th scope=col>Max.</th><th scope=col>NA's</th><th scope=col>sd</th><th scope=col>sd_err_of_mean</th></tr>\n",
       "</thead>\n",
       "<tbody>\n",
       "\t<tr><th scope=row>min_insert_size_Match</th><td>0</td><td>229</td><td>234</td><td>234.0048</td><td>241</td><td>1452</td><td>28739</td><td>10722.47</td><td>4052.711</td></tr>\n",
       "</tbody>\n",
       "</table>\n"
      ],
      "text/latex": [
       "A matrix: 1 × 9 of type dbl\n",
       "\\begin{tabular}{r|lllllllll}\n",
       "  & Min. & 1st Qu. & Median & Mean & 3rd Qu. & Max. & NA's & sd & sd\\_err\\_of\\_mean\\\\\n",
       "\\hline\n",
       "\tmin\\_insert\\_size\\_Match & 0 & 229 & 234 & 234.0048 & 241 & 1452 & 28739 & 10722.47 & 4052.711\\\\\n",
       "\\end{tabular}\n"
      ],
      "text/markdown": [
       "\n",
       "A matrix: 1 × 9 of type dbl\n",
       "\n",
       "| <!--/--> | Min. | 1st Qu. | Median | Mean | 3rd Qu. | Max. | NA's | sd | sd_err_of_mean |\n",
       "|---|---|---|---|---|---|---|---|---|---|\n",
       "| min_insert_size_Match | 0 | 229 | 234 | 234.0048 | 241 | 1452 | 28739 | 10722.47 | 4052.711 |\n",
       "\n"
      ],
      "text/plain": [
       "                      Min. 1st Qu. Median Mean     3rd Qu. Max. NA's  sd      \n",
       "min_insert_size_Match 0    229     234    234.0048 241     1452 28739 10722.47\n",
       "                      sd_err_of_mean\n",
       "min_insert_size_Match 4052.711      "
      ]
     },
     "metadata": {},
     "output_type": "display_data"
    },
    {
     "data": {
      "text/html": [
       "<table class=\"dataframe\">\n",
       "<caption>A matrix: 1 × 9 of type dbl</caption>\n",
       "<thead>\n",
       "\t<tr><th></th><th scope=col>Min.</th><th scope=col>1st Qu.</th><th scope=col>Median</th><th scope=col>Mean</th><th scope=col>3rd Qu.</th><th scope=col>Max.</th><th scope=col>NA's</th><th scope=col>sd</th><th scope=col>sd_err_of_mean</th></tr>\n",
       "</thead>\n",
       "<tbody>\n",
       "\t<tr><th scope=row>min_insert_size_Match</th><td>0</td><td>229</td><td>234</td><td>234.0274</td><td>241</td><td>1458</td><td>26048</td><td>9706.216</td><td>3668.605</td></tr>\n",
       "</tbody>\n",
       "</table>\n"
      ],
      "text/latex": [
       "A matrix: 1 × 9 of type dbl\n",
       "\\begin{tabular}{r|lllllllll}\n",
       "  & Min. & 1st Qu. & Median & Mean & 3rd Qu. & Max. & NA's & sd & sd\\_err\\_of\\_mean\\\\\n",
       "\\hline\n",
       "\tmin\\_insert\\_size\\_Match & 0 & 229 & 234 & 234.0274 & 241 & 1458 & 26048 & 9706.216 & 3668.605\\\\\n",
       "\\end{tabular}\n"
      ],
      "text/markdown": [
       "\n",
       "A matrix: 1 × 9 of type dbl\n",
       "\n",
       "| <!--/--> | Min. | 1st Qu. | Median | Mean | 3rd Qu. | Max. | NA's | sd | sd_err_of_mean |\n",
       "|---|---|---|---|---|---|---|---|---|---|\n",
       "| min_insert_size_Match | 0 | 229 | 234 | 234.0274 | 241 | 1458 | 26048 | 9706.216 | 3668.605 |\n",
       "\n"
      ],
      "text/plain": [
       "                      Min. 1st Qu. Median Mean     3rd Qu. Max. NA's  sd      \n",
       "min_insert_size_Match 0    229     234    234.0274 241     1458 26048 9706.216\n",
       "                      sd_err_of_mean\n",
       "min_insert_size_Match 3668.605      "
      ]
     },
     "metadata": {},
     "output_type": "display_data"
    }
   ],
   "source": [
    "summary_x(bam2feat_py$min_insert_size_Match)\n",
    "summary_x(bam2feat$min_insert_size_Match)"
   ]
  },
  {
   "cell_type": "code",
   "execution_count": 22,
   "id": "ff0817b2",
   "metadata": {
    "ExecuteTime": {
     "end_time": "2021-07-17T13:10:39.818530Z",
     "start_time": "2021-07-17T13:02:36.144Z"
    }
   },
   "outputs": [
    {
     "data": {
      "text/html": [
       "<table class=\"dataframe\">\n",
       "<caption>A matrix: 1 × 9 of type dbl</caption>\n",
       "<thead>\n",
       "\t<tr><th></th><th scope=col>Min.</th><th scope=col>1st Qu.</th><th scope=col>Median</th><th scope=col>Mean</th><th scope=col>3rd Qu.</th><th scope=col>Max.</th><th scope=col>NA's</th><th scope=col>sd</th><th scope=col>sd_err_of_mean</th></tr>\n",
       "</thead>\n",
       "<tbody>\n",
       "\t<tr><th scope=row>mean_insert_size_Match</th><td>0</td><td>247.5</td><td>249.5</td><td>249.0798</td><td>251.7</td><td>1453.5</td><td>28739</td><td>10718.49</td><td>4051.206</td></tr>\n",
       "</tbody>\n",
       "</table>\n"
      ],
      "text/latex": [
       "A matrix: 1 × 9 of type dbl\n",
       "\\begin{tabular}{r|lllllllll}\n",
       "  & Min. & 1st Qu. & Median & Mean & 3rd Qu. & Max. & NA's & sd & sd\\_err\\_of\\_mean\\\\\n",
       "\\hline\n",
       "\tmean\\_insert\\_size\\_Match & 0 & 247.5 & 249.5 & 249.0798 & 251.7 & 1453.5 & 28739 & 10718.49 & 4051.206\\\\\n",
       "\\end{tabular}\n"
      ],
      "text/markdown": [
       "\n",
       "A matrix: 1 × 9 of type dbl\n",
       "\n",
       "| <!--/--> | Min. | 1st Qu. | Median | Mean | 3rd Qu. | Max. | NA's | sd | sd_err_of_mean |\n",
       "|---|---|---|---|---|---|---|---|---|---|\n",
       "| mean_insert_size_Match | 0 | 247.5 | 249.5 | 249.0798 | 251.7 | 1453.5 | 28739 | 10718.49 | 4051.206 |\n",
       "\n"
      ],
      "text/plain": [
       "                       Min. 1st Qu. Median Mean     3rd Qu. Max.   NA's \n",
       "mean_insert_size_Match 0    247.5   249.5  249.0798 251.7   1453.5 28739\n",
       "                       sd       sd_err_of_mean\n",
       "mean_insert_size_Match 10718.49 4051.206      "
      ]
     },
     "metadata": {},
     "output_type": "display_data"
    },
    {
     "data": {
      "text/html": [
       "<table class=\"dataframe\">\n",
       "<caption>A matrix: 1 × 9 of type dbl</caption>\n",
       "<thead>\n",
       "\t<tr><th></th><th scope=col>Min.</th><th scope=col>1st Qu.</th><th scope=col>Median</th><th scope=col>Mean</th><th scope=col>3rd Qu.</th><th scope=col>Max.</th><th scope=col>NA's</th><th scope=col>sd</th><th scope=col>sd_err_of_mean</th></tr>\n",
       "</thead>\n",
       "<tbody>\n",
       "\t<tr><th scope=row>mean_insert_size_Match</th><td>0</td><td>247.46</td><td>249.54</td><td>249.0865</td><td>251.67</td><td>1458</td><td>26048</td><td>9702.291</td><td>3667.121</td></tr>\n",
       "</tbody>\n",
       "</table>\n"
      ],
      "text/latex": [
       "A matrix: 1 × 9 of type dbl\n",
       "\\begin{tabular}{r|lllllllll}\n",
       "  & Min. & 1st Qu. & Median & Mean & 3rd Qu. & Max. & NA's & sd & sd\\_err\\_of\\_mean\\\\\n",
       "\\hline\n",
       "\tmean\\_insert\\_size\\_Match & 0 & 247.46 & 249.54 & 249.0865 & 251.67 & 1458 & 26048 & 9702.291 & 3667.121\\\\\n",
       "\\end{tabular}\n"
      ],
      "text/markdown": [
       "\n",
       "A matrix: 1 × 9 of type dbl\n",
       "\n",
       "| <!--/--> | Min. | 1st Qu. | Median | Mean | 3rd Qu. | Max. | NA's | sd | sd_err_of_mean |\n",
       "|---|---|---|---|---|---|---|---|---|---|\n",
       "| mean_insert_size_Match | 0 | 247.46 | 249.54 | 249.0865 | 251.67 | 1458 | 26048 | 9702.291 | 3667.121 |\n",
       "\n"
      ],
      "text/plain": [
       "                       Min. 1st Qu. Median Mean     3rd Qu. Max. NA's  sd      \n",
       "mean_insert_size_Match 0    247.46  249.54 249.0865 251.67  1458 26048 9702.291\n",
       "                       sd_err_of_mean\n",
       "mean_insert_size_Match 3667.121      "
      ]
     },
     "metadata": {},
     "output_type": "display_data"
    }
   ],
   "source": [
    "summary_x(bam2feat_py$mean_insert_size_Match)\n",
    "summary_x(bam2feat$mean_insert_size_Match)"
   ]
  },
  {
   "cell_type": "code",
   "execution_count": 23,
   "id": "62a3dad4",
   "metadata": {
    "ExecuteTime": {
     "end_time": "2021-07-17T13:10:58.104966Z",
     "start_time": "2021-07-17T13:02:36.295Z"
    }
   },
   "outputs": [
    {
     "data": {
      "text/html": [
       "<table class=\"dataframe\">\n",
       "<caption>A matrix: 1 × 9 of type dbl</caption>\n",
       "<thead>\n",
       "\t<tr><th></th><th scope=col>Min.</th><th scope=col>1st Qu.</th><th scope=col>Median</th><th scope=col>Mean</th><th scope=col>3rd Qu.</th><th scope=col>Max.</th><th scope=col>NA's</th><th scope=col>sd</th><th scope=col>sd_err_of_mean</th></tr>\n",
       "</thead>\n",
       "<tbody>\n",
       "\t<tr><th scope=row>stdev_insert_size_Match</th><td>0</td><td>7.8</td><td>9.5</td><td>9.760158</td><td>10.9</td><td>848.5</td><td>3552204</td><td>1342551</td><td>507436.6</td></tr>\n",
       "</tbody>\n",
       "</table>\n"
      ],
      "text/latex": [
       "A matrix: 1 × 9 of type dbl\n",
       "\\begin{tabular}{r|lllllllll}\n",
       "  & Min. & 1st Qu. & Median & Mean & 3rd Qu. & Max. & NA's & sd & sd\\_err\\_of\\_mean\\\\\n",
       "\\hline\n",
       "\tstdev\\_insert\\_size\\_Match & 0 & 7.8 & 9.5 & 9.760158 & 10.9 & 848.5 & 3552204 & 1342551 & 507436.6\\\\\n",
       "\\end{tabular}\n"
      ],
      "text/markdown": [
       "\n",
       "A matrix: 1 × 9 of type dbl\n",
       "\n",
       "| <!--/--> | Min. | 1st Qu. | Median | Mean | 3rd Qu. | Max. | NA's | sd | sd_err_of_mean |\n",
       "|---|---|---|---|---|---|---|---|---|---|\n",
       "| stdev_insert_size_Match | 0 | 7.8 | 9.5 | 9.760158 | 10.9 | 848.5 | 3552204 | 1342551 | 507436.6 |\n",
       "\n"
      ],
      "text/plain": [
       "                        Min. 1st Qu. Median Mean     3rd Qu. Max.  NA's   \n",
       "stdev_insert_size_Match 0    7.8     9.5    9.760158 10.9    848.5 3552204\n",
       "                        sd      sd_err_of_mean\n",
       "stdev_insert_size_Match 1342551 507436.6      "
      ]
     },
     "metadata": {},
     "output_type": "display_data"
    },
    {
     "data": {
      "text/html": [
       "<table class=\"dataframe\">\n",
       "<caption>A matrix: 1 × 9 of type dbl</caption>\n",
       "<thead>\n",
       "\t<tr><th></th><th scope=col>Min.</th><th scope=col>1st Qu.</th><th scope=col>Median</th><th scope=col>Mean</th><th scope=col>3rd Qu.</th><th scope=col>Max.</th><th scope=col>NA's</th><th scope=col>sd</th><th scope=col>sd_err_of_mean</th></tr>\n",
       "</thead>\n",
       "<tbody>\n",
       "\t<tr><th scope=row>stdev_insert_size_Match</th><td>0</td><td>7.79</td><td>9.47</td><td>9.747371</td><td>10.87</td><td>851.36</td><td>3552130</td><td>1342523</td><td>507426</td></tr>\n",
       "</tbody>\n",
       "</table>\n"
      ],
      "text/latex": [
       "A matrix: 1 × 9 of type dbl\n",
       "\\begin{tabular}{r|lllllllll}\n",
       "  & Min. & 1st Qu. & Median & Mean & 3rd Qu. & Max. & NA's & sd & sd\\_err\\_of\\_mean\\\\\n",
       "\\hline\n",
       "\tstdev\\_insert\\_size\\_Match & 0 & 7.79 & 9.47 & 9.747371 & 10.87 & 851.36 & 3552130 & 1342523 & 507426\\\\\n",
       "\\end{tabular}\n"
      ],
      "text/markdown": [
       "\n",
       "A matrix: 1 × 9 of type dbl\n",
       "\n",
       "| <!--/--> | Min. | 1st Qu. | Median | Mean | 3rd Qu. | Max. | NA's | sd | sd_err_of_mean |\n",
       "|---|---|---|---|---|---|---|---|---|---|\n",
       "| stdev_insert_size_Match | 0 | 7.79 | 9.47 | 9.747371 | 10.87 | 851.36 | 3552130 | 1342523 | 507426 |\n",
       "\n"
      ],
      "text/plain": [
       "                        Min. 1st Qu. Median Mean     3rd Qu. Max.   NA's   \n",
       "stdev_insert_size_Match 0    7.79    9.47   9.747371 10.87   851.36 3552130\n",
       "                        sd      sd_err_of_mean\n",
       "stdev_insert_size_Match 1342523 507426        "
      ]
     },
     "metadata": {},
     "output_type": "display_data"
    }
   ],
   "source": [
    "summary_x(bam2feat_py$stdev_insert_size_Match)\n",
    "summary_x(bam2feat$stdev_insert_size_Match)"
   ]
  },
  {
   "cell_type": "code",
   "execution_count": 24,
   "id": "4984e9be",
   "metadata": {
    "ExecuteTime": {
     "end_time": "2021-07-17T13:11:04.403263Z",
     "start_time": "2021-07-17T13:02:36.448Z"
    }
   },
   "outputs": [
    {
     "data": {
      "text/html": [
       "<table class=\"dataframe\">\n",
       "<caption>A matrix: 1 × 9 of type dbl</caption>\n",
       "<thead>\n",
       "\t<tr><th></th><th scope=col>Min.</th><th scope=col>1st Qu.</th><th scope=col>Median</th><th scope=col>Mean</th><th scope=col>3rd Qu.</th><th scope=col>Max.</th><th scope=col>NA's</th><th scope=col>sd</th><th scope=col>sd_err_of_mean</th></tr>\n",
       "</thead>\n",
       "<tbody>\n",
       "\t<tr><th scope=row>max_insert_size_Match</th><td>0</td><td>259</td><td>265</td><td>264.2887</td><td>271</td><td>1472</td><td>28739</td><td>10713.6</td><td>4049.36</td></tr>\n",
       "</tbody>\n",
       "</table>\n"
      ],
      "text/latex": [
       "A matrix: 1 × 9 of type dbl\n",
       "\\begin{tabular}{r|lllllllll}\n",
       "  & Min. & 1st Qu. & Median & Mean & 3rd Qu. & Max. & NA's & sd & sd\\_err\\_of\\_mean\\\\\n",
       "\\hline\n",
       "\tmax\\_insert\\_size\\_Match & 0 & 259 & 265 & 264.2887 & 271 & 1472 & 28739 & 10713.6 & 4049.36\\\\\n",
       "\\end{tabular}\n"
      ],
      "text/markdown": [
       "\n",
       "A matrix: 1 × 9 of type dbl\n",
       "\n",
       "| <!--/--> | Min. | 1st Qu. | Median | Mean | 3rd Qu. | Max. | NA's | sd | sd_err_of_mean |\n",
       "|---|---|---|---|---|---|---|---|---|---|\n",
       "| max_insert_size_Match | 0 | 259 | 265 | 264.2887 | 271 | 1472 | 28739 | 10713.6 | 4049.36 |\n",
       "\n"
      ],
      "text/plain": [
       "                      Min. 1st Qu. Median Mean     3rd Qu. Max. NA's  sd     \n",
       "max_insert_size_Match 0    259     265    264.2887 271     1472 28739 10713.6\n",
       "                      sd_err_of_mean\n",
       "max_insert_size_Match 4049.36       "
      ]
     },
     "metadata": {},
     "output_type": "display_data"
    },
    {
     "data": {
      "text/html": [
       "<table class=\"dataframe\">\n",
       "<caption>A matrix: 1 × 9 of type dbl</caption>\n",
       "<thead>\n",
       "\t<tr><th></th><th scope=col>Min.</th><th scope=col>1st Qu.</th><th scope=col>Median</th><th scope=col>Mean</th><th scope=col>3rd Qu.</th><th scope=col>Max.</th><th scope=col>NA's</th><th scope=col>sd</th><th scope=col>sd_err_of_mean</th></tr>\n",
       "</thead>\n",
       "<tbody>\n",
       "\t<tr><th scope=row>max_insert_size_Match</th><td>0</td><td>259</td><td>265</td><td>264.2895</td><td>271</td><td>1472</td><td>26048</td><td>9697.624</td><td>3665.357</td></tr>\n",
       "</tbody>\n",
       "</table>\n"
      ],
      "text/latex": [
       "A matrix: 1 × 9 of type dbl\n",
       "\\begin{tabular}{r|lllllllll}\n",
       "  & Min. & 1st Qu. & Median & Mean & 3rd Qu. & Max. & NA's & sd & sd\\_err\\_of\\_mean\\\\\n",
       "\\hline\n",
       "\tmax\\_insert\\_size\\_Match & 0 & 259 & 265 & 264.2895 & 271 & 1472 & 26048 & 9697.624 & 3665.357\\\\\n",
       "\\end{tabular}\n"
      ],
      "text/markdown": [
       "\n",
       "A matrix: 1 × 9 of type dbl\n",
       "\n",
       "| <!--/--> | Min. | 1st Qu. | Median | Mean | 3rd Qu. | Max. | NA's | sd | sd_err_of_mean |\n",
       "|---|---|---|---|---|---|---|---|---|---|\n",
       "| max_insert_size_Match | 0 | 259 | 265 | 264.2895 | 271 | 1472 | 26048 | 9697.624 | 3665.357 |\n",
       "\n"
      ],
      "text/plain": [
       "                      Min. 1st Qu. Median Mean     3rd Qu. Max. NA's  sd      \n",
       "max_insert_size_Match 0    259     265    264.2895 271     1472 26048 9697.624\n",
       "                      sd_err_of_mean\n",
       "max_insert_size_Match 3665.357      "
      ]
     },
     "metadata": {},
     "output_type": "display_data"
    }
   ],
   "source": [
    "summary_x(bam2feat_py$max_insert_size_Match)\n",
    "summary_x(bam2feat$max_insert_size_Match)"
   ]
  },
  {
   "cell_type": "code",
   "execution_count": 25,
   "id": "c46c5bdf",
   "metadata": {
    "ExecuteTime": {
     "end_time": "2021-07-17T13:11:10.698446Z",
     "start_time": "2021-07-17T13:02:36.598Z"
    }
   },
   "outputs": [
    {
     "data": {
      "text/html": [
       "<table class=\"dataframe\">\n",
       "<caption>A matrix: 1 × 8 of type dbl</caption>\n",
       "<thead>\n",
       "\t<tr><th></th><th scope=col>Min.</th><th scope=col>1st Qu.</th><th scope=col>Median</th><th scope=col>Mean</th><th scope=col>3rd Qu.</th><th scope=col>Max.</th><th scope=col>sd</th><th scope=col>sd_err_of_mean</th></tr>\n",
       "</thead>\n",
       "<tbody>\n",
       "\t<tr><th scope=row>num_orphans_Match</th><td>0</td><td>0</td><td>0</td><td>0.0130876</td><td>0</td><td>61</td><td>24.902</td><td>10.166</td></tr>\n",
       "</tbody>\n",
       "</table>\n"
      ],
      "text/latex": [
       "A matrix: 1 × 8 of type dbl\n",
       "\\begin{tabular}{r|llllllll}\n",
       "  & Min. & 1st Qu. & Median & Mean & 3rd Qu. & Max. & sd & sd\\_err\\_of\\_mean\\\\\n",
       "\\hline\n",
       "\tnum\\_orphans\\_Match & 0 & 0 & 0 & 0.0130876 & 0 & 61 & 24.902 & 10.166\\\\\n",
       "\\end{tabular}\n"
      ],
      "text/markdown": [
       "\n",
       "A matrix: 1 × 8 of type dbl\n",
       "\n",
       "| <!--/--> | Min. | 1st Qu. | Median | Mean | 3rd Qu. | Max. | sd | sd_err_of_mean |\n",
       "|---|---|---|---|---|---|---|---|---|\n",
       "| num_orphans_Match | 0 | 0 | 0 | 0.0130876 | 0 | 61 | 24.902 | 10.166 |\n",
       "\n"
      ],
      "text/plain": [
       "                  Min. 1st Qu. Median Mean      3rd Qu. Max. sd    \n",
       "num_orphans_Match 0    0       0      0.0130876 0       61   24.902\n",
       "                  sd_err_of_mean\n",
       "num_orphans_Match 10.166        "
      ]
     },
     "metadata": {},
     "output_type": "display_data"
    },
    {
     "data": {
      "text/html": [
       "<table class=\"dataframe\">\n",
       "<caption>A matrix: 1 × 8 of type dbl</caption>\n",
       "<thead>\n",
       "\t<tr><th></th><th scope=col>Min.</th><th scope=col>1st Qu.</th><th scope=col>Median</th><th scope=col>Mean</th><th scope=col>3rd Qu.</th><th scope=col>Max.</th><th scope=col>sd</th><th scope=col>sd_err_of_mean</th></tr>\n",
       "</thead>\n",
       "<tbody>\n",
       "\t<tr><th scope=row>num_orphans_Match</th><td>0</td><td>0</td><td>0</td><td>0.01285231</td><td>0</td><td>61</td><td>24.902</td><td>10.166</td></tr>\n",
       "</tbody>\n",
       "</table>\n"
      ],
      "text/latex": [
       "A matrix: 1 × 8 of type dbl\n",
       "\\begin{tabular}{r|llllllll}\n",
       "  & Min. & 1st Qu. & Median & Mean & 3rd Qu. & Max. & sd & sd\\_err\\_of\\_mean\\\\\n",
       "\\hline\n",
       "\tnum\\_orphans\\_Match & 0 & 0 & 0 & 0.01285231 & 0 & 61 & 24.902 & 10.166\\\\\n",
       "\\end{tabular}\n"
      ],
      "text/markdown": [
       "\n",
       "A matrix: 1 × 8 of type dbl\n",
       "\n",
       "| <!--/--> | Min. | 1st Qu. | Median | Mean | 3rd Qu. | Max. | sd | sd_err_of_mean |\n",
       "|---|---|---|---|---|---|---|---|---|\n",
       "| num_orphans_Match | 0 | 0 | 0 | 0.01285231 | 0 | 61 | 24.902 | 10.166 |\n",
       "\n"
      ],
      "text/plain": [
       "                  Min. 1st Qu. Median Mean       3rd Qu. Max. sd    \n",
       "num_orphans_Match 0    0       0      0.01285231 0       61   24.902\n",
       "                  sd_err_of_mean\n",
       "num_orphans_Match 10.166        "
      ]
     },
     "metadata": {},
     "output_type": "display_data"
    }
   ],
   "source": [
    "summary_x(bam2feat_py$num_orphans_Match)\n",
    "summary_x(bam2feat$num_orphans_Match)"
   ]
  },
  {
   "cell_type": "code",
   "execution_count": 26,
   "id": "e283e63f",
   "metadata": {
    "ExecuteTime": {
     "end_time": "2021-07-17T13:11:15.711276Z",
     "start_time": "2021-07-17T13:02:36.760Z"
    }
   },
   "outputs": [
    {
     "data": {
      "text/html": [
       "<table class=\"dataframe\">\n",
       "<caption>A matrix: 1 × 9 of type dbl</caption>\n",
       "<thead>\n",
       "\t<tr><th></th><th scope=col>Min.</th><th scope=col>1st Qu.</th><th scope=col>Median</th><th scope=col>Mean</th><th scope=col>3rd Qu.</th><th scope=col>Max.</th><th scope=col>NA's</th><th scope=col>sd</th><th scope=col>sd_err_of_mean</th></tr>\n",
       "</thead>\n",
       "<tbody>\n",
       "\t<tr><th scope=row>min_mapq_Match</th><td>0</td><td>42</td><td>42</td><td>41.82014</td><td>42</td><td>42</td><td>28739</td><td>10849.11</td><td>4100.58</td></tr>\n",
       "</tbody>\n",
       "</table>\n"
      ],
      "text/latex": [
       "A matrix: 1 × 9 of type dbl\n",
       "\\begin{tabular}{r|lllllllll}\n",
       "  & Min. & 1st Qu. & Median & Mean & 3rd Qu. & Max. & NA's & sd & sd\\_err\\_of\\_mean\\\\\n",
       "\\hline\n",
       "\tmin\\_mapq\\_Match & 0 & 42 & 42 & 41.82014 & 42 & 42 & 28739 & 10849.11 & 4100.58\\\\\n",
       "\\end{tabular}\n"
      ],
      "text/markdown": [
       "\n",
       "A matrix: 1 × 9 of type dbl\n",
       "\n",
       "| <!--/--> | Min. | 1st Qu. | Median | Mean | 3rd Qu. | Max. | NA's | sd | sd_err_of_mean |\n",
       "|---|---|---|---|---|---|---|---|---|---|\n",
       "| min_mapq_Match | 0 | 42 | 42 | 41.82014 | 42 | 42 | 28739 | 10849.11 | 4100.58 |\n",
       "\n"
      ],
      "text/plain": [
       "               Min. 1st Qu. Median Mean     3rd Qu. Max. NA's  sd      \n",
       "min_mapq_Match 0    42      42     41.82014 42      42   28739 10849.11\n",
       "               sd_err_of_mean\n",
       "min_mapq_Match 4100.58       "
      ]
     },
     "metadata": {},
     "output_type": "display_data"
    },
    {
     "data": {
      "text/html": [
       "<table class=\"dataframe\">\n",
       "<caption>A matrix: 1 × 9 of type dbl</caption>\n",
       "<thead>\n",
       "\t<tr><th></th><th scope=col>Min.</th><th scope=col>1st Qu.</th><th scope=col>Median</th><th scope=col>Mean</th><th scope=col>3rd Qu.</th><th scope=col>Max.</th><th scope=col>NA's</th><th scope=col>sd</th><th scope=col>sd_err_of_mean</th></tr>\n",
       "</thead>\n",
       "<tbody>\n",
       "\t<tr><th scope=row>min_mapq_Match</th><td>0</td><td>42</td><td>42</td><td>41.82501</td><td>42</td><td>42</td><td>26048</td><td>9832.013</td><td>3716.152</td></tr>\n",
       "</tbody>\n",
       "</table>\n"
      ],
      "text/latex": [
       "A matrix: 1 × 9 of type dbl\n",
       "\\begin{tabular}{r|lllllllll}\n",
       "  & Min. & 1st Qu. & Median & Mean & 3rd Qu. & Max. & NA's & sd & sd\\_err\\_of\\_mean\\\\\n",
       "\\hline\n",
       "\tmin\\_mapq\\_Match & 0 & 42 & 42 & 41.82501 & 42 & 42 & 26048 & 9832.013 & 3716.152\\\\\n",
       "\\end{tabular}\n"
      ],
      "text/markdown": [
       "\n",
       "A matrix: 1 × 9 of type dbl\n",
       "\n",
       "| <!--/--> | Min. | 1st Qu. | Median | Mean | 3rd Qu. | Max. | NA's | sd | sd_err_of_mean |\n",
       "|---|---|---|---|---|---|---|---|---|---|\n",
       "| min_mapq_Match | 0 | 42 | 42 | 41.82501 | 42 | 42 | 26048 | 9832.013 | 3716.152 |\n",
       "\n"
      ],
      "text/plain": [
       "               Min. 1st Qu. Median Mean     3rd Qu. Max. NA's  sd      \n",
       "min_mapq_Match 0    42      42     41.82501 42      42   26048 9832.013\n",
       "               sd_err_of_mean\n",
       "min_mapq_Match 3716.152      "
      ]
     },
     "metadata": {},
     "output_type": "display_data"
    }
   ],
   "source": [
    "summary_x(bam2feat_py$min_mapq_Match)\n",
    "summary_x(bam2feat$min_mapq_Match)"
   ]
  },
  {
   "cell_type": "code",
   "execution_count": 27,
   "id": "9eca762f",
   "metadata": {
    "ExecuteTime": {
     "end_time": "2021-07-17T13:11:29.427287Z",
     "start_time": "2021-07-17T13:02:36.925Z"
    }
   },
   "outputs": [
    {
     "data": {
      "text/html": [
       "<table class=\"dataframe\">\n",
       "<caption>A matrix: 1 × 9 of type dbl</caption>\n",
       "<thead>\n",
       "\t<tr><th></th><th scope=col>Min.</th><th scope=col>1st Qu.</th><th scope=col>Median</th><th scope=col>Mean</th><th scope=col>3rd Qu.</th><th scope=col>Max.</th><th scope=col>NA's</th><th scope=col>sd</th><th scope=col>sd_err_of_mean</th></tr>\n",
       "</thead>\n",
       "<tbody>\n",
       "\t<tr><th scope=row>mean_mapq_Match</th><td>0</td><td>42</td><td>42</td><td>41.94408</td><td>42</td><td>42</td><td>28739</td><td>10849.11</td><td>4100.577</td></tr>\n",
       "</tbody>\n",
       "</table>\n"
      ],
      "text/latex": [
       "A matrix: 1 × 9 of type dbl\n",
       "\\begin{tabular}{r|lllllllll}\n",
       "  & Min. & 1st Qu. & Median & Mean & 3rd Qu. & Max. & NA's & sd & sd\\_err\\_of\\_mean\\\\\n",
       "\\hline\n",
       "\tmean\\_mapq\\_Match & 0 & 42 & 42 & 41.94408 & 42 & 42 & 28739 & 10849.11 & 4100.577\\\\\n",
       "\\end{tabular}\n"
      ],
      "text/markdown": [
       "\n",
       "A matrix: 1 × 9 of type dbl\n",
       "\n",
       "| <!--/--> | Min. | 1st Qu. | Median | Mean | 3rd Qu. | Max. | NA's | sd | sd_err_of_mean |\n",
       "|---|---|---|---|---|---|---|---|---|---|\n",
       "| mean_mapq_Match | 0 | 42 | 42 | 41.94408 | 42 | 42 | 28739 | 10849.11 | 4100.577 |\n",
       "\n"
      ],
      "text/plain": [
       "                Min. 1st Qu. Median Mean     3rd Qu. Max. NA's  sd      \n",
       "mean_mapq_Match 0    42      42     41.94408 42      42   28739 10849.11\n",
       "                sd_err_of_mean\n",
       "mean_mapq_Match 4100.577      "
      ]
     },
     "metadata": {},
     "output_type": "display_data"
    },
    {
     "data": {
      "text/html": [
       "<table class=\"dataframe\">\n",
       "<caption>A matrix: 1 × 9 of type dbl</caption>\n",
       "<thead>\n",
       "\t<tr><th></th><th scope=col>Min.</th><th scope=col>1st Qu.</th><th scope=col>Median</th><th scope=col>Mean</th><th scope=col>3rd Qu.</th><th scope=col>Max.</th><th scope=col>NA's</th><th scope=col>sd</th><th scope=col>sd_err_of_mean</th></tr>\n",
       "</thead>\n",
       "<tbody>\n",
       "\t<tr><th scope=row>mean_mapq_Match</th><td>0</td><td>42</td><td>42</td><td>41.94534</td><td>42</td><td>42</td><td>26048</td><td>9832.006</td><td>3716.149</td></tr>\n",
       "</tbody>\n",
       "</table>\n"
      ],
      "text/latex": [
       "A matrix: 1 × 9 of type dbl\n",
       "\\begin{tabular}{r|lllllllll}\n",
       "  & Min. & 1st Qu. & Median & Mean & 3rd Qu. & Max. & NA's & sd & sd\\_err\\_of\\_mean\\\\\n",
       "\\hline\n",
       "\tmean\\_mapq\\_Match & 0 & 42 & 42 & 41.94534 & 42 & 42 & 26048 & 9832.006 & 3716.149\\\\\n",
       "\\end{tabular}\n"
      ],
      "text/markdown": [
       "\n",
       "A matrix: 1 × 9 of type dbl\n",
       "\n",
       "| <!--/--> | Min. | 1st Qu. | Median | Mean | 3rd Qu. | Max. | NA's | sd | sd_err_of_mean |\n",
       "|---|---|---|---|---|---|---|---|---|---|\n",
       "| mean_mapq_Match | 0 | 42 | 42 | 41.94534 | 42 | 42 | 26048 | 9832.006 | 3716.149 |\n",
       "\n"
      ],
      "text/plain": [
       "                Min. 1st Qu. Median Mean     3rd Qu. Max. NA's  sd      \n",
       "mean_mapq_Match 0    42      42     41.94534 42      42   26048 9832.006\n",
       "                sd_err_of_mean\n",
       "mean_mapq_Match 3716.149      "
      ]
     },
     "metadata": {},
     "output_type": "display_data"
    }
   ],
   "source": [
    "summary_x(bam2feat_py$mean_mapq_Match)\n",
    "summary_x(bam2feat$mean_mapq_Match)"
   ]
  },
  {
   "cell_type": "code",
   "execution_count": 28,
   "id": "f00ff83f",
   "metadata": {
    "ExecuteTime": {
     "end_time": "2021-07-17T13:11:43.449206Z",
     "start_time": "2021-07-17T13:02:37.206Z"
    }
   },
   "outputs": [
    {
     "data": {
      "text/html": [
       "<table class=\"dataframe\">\n",
       "<caption>A matrix: 1 × 9 of type dbl</caption>\n",
       "<thead>\n",
       "\t<tr><th></th><th scope=col>Min.</th><th scope=col>1st Qu.</th><th scope=col>Median</th><th scope=col>Mean</th><th scope=col>3rd Qu.</th><th scope=col>Max.</th><th scope=col>NA's</th><th scope=col>sd</th><th scope=col>sd_err_of_mean</th></tr>\n",
       "</thead>\n",
       "<tbody>\n",
       "\t<tr><th scope=row>stdev_mapq_Match</th><td>0</td><td>0</td><td>0</td><td>0.06682801</td><td>0</td><td>29.7</td><td>3552204</td><td>1342605</td><td>507457</td></tr>\n",
       "</tbody>\n",
       "</table>\n"
      ],
      "text/latex": [
       "A matrix: 1 × 9 of type dbl\n",
       "\\begin{tabular}{r|lllllllll}\n",
       "  & Min. & 1st Qu. & Median & Mean & 3rd Qu. & Max. & NA's & sd & sd\\_err\\_of\\_mean\\\\\n",
       "\\hline\n",
       "\tstdev\\_mapq\\_Match & 0 & 0 & 0 & 0.06682801 & 0 & 29.7 & 3552204 & 1342605 & 507457\\\\\n",
       "\\end{tabular}\n"
      ],
      "text/markdown": [
       "\n",
       "A matrix: 1 × 9 of type dbl\n",
       "\n",
       "| <!--/--> | Min. | 1st Qu. | Median | Mean | 3rd Qu. | Max. | NA's | sd | sd_err_of_mean |\n",
       "|---|---|---|---|---|---|---|---|---|---|\n",
       "| stdev_mapq_Match | 0 | 0 | 0 | 0.06682801 | 0 | 29.7 | 3552204 | 1342605 | 507457 |\n",
       "\n"
      ],
      "text/plain": [
       "                 Min. 1st Qu. Median Mean       3rd Qu. Max. NA's    sd     \n",
       "stdev_mapq_Match 0    0       0      0.06682801 0       29.7 3552204 1342605\n",
       "                 sd_err_of_mean\n",
       "stdev_mapq_Match 507457        "
      ]
     },
     "metadata": {},
     "output_type": "display_data"
    },
    {
     "data": {
      "text/html": [
       "<table class=\"dataframe\">\n",
       "<caption>A matrix: 1 × 9 of type dbl</caption>\n",
       "<thead>\n",
       "\t<tr><th></th><th scope=col>Min.</th><th scope=col>1st Qu.</th><th scope=col>Median</th><th scope=col>Mean</th><th scope=col>3rd Qu.</th><th scope=col>Max.</th><th scope=col>NA's</th><th scope=col>sd</th><th scope=col>sd_err_of_mean</th></tr>\n",
       "</thead>\n",
       "<tbody>\n",
       "\t<tr><th scope=row>stdev_mapq_Match</th><td>0</td><td>0</td><td>0</td><td>0.06476244</td><td>0</td><td>29.7</td><td>3552130</td><td>1342577</td><td>507446.4</td></tr>\n",
       "</tbody>\n",
       "</table>\n"
      ],
      "text/latex": [
       "A matrix: 1 × 9 of type dbl\n",
       "\\begin{tabular}{r|lllllllll}\n",
       "  & Min. & 1st Qu. & Median & Mean & 3rd Qu. & Max. & NA's & sd & sd\\_err\\_of\\_mean\\\\\n",
       "\\hline\n",
       "\tstdev\\_mapq\\_Match & 0 & 0 & 0 & 0.06476244 & 0 & 29.7 & 3552130 & 1342577 & 507446.4\\\\\n",
       "\\end{tabular}\n"
      ],
      "text/markdown": [
       "\n",
       "A matrix: 1 × 9 of type dbl\n",
       "\n",
       "| <!--/--> | Min. | 1st Qu. | Median | Mean | 3rd Qu. | Max. | NA's | sd | sd_err_of_mean |\n",
       "|---|---|---|---|---|---|---|---|---|---|\n",
       "| stdev_mapq_Match | 0 | 0 | 0 | 0.06476244 | 0 | 29.7 | 3552130 | 1342577 | 507446.4 |\n",
       "\n"
      ],
      "text/plain": [
       "                 Min. 1st Qu. Median Mean       3rd Qu. Max. NA's    sd     \n",
       "stdev_mapq_Match 0    0       0      0.06476244 0       29.7 3552130 1342577\n",
       "                 sd_err_of_mean\n",
       "stdev_mapq_Match 507446.4      "
      ]
     },
     "metadata": {},
     "output_type": "display_data"
    }
   ],
   "source": [
    "summary_x(bam2feat_py$stdev_mapq_Match)\n",
    "summary_x(bam2feat$stdev_mapq_Match)"
   ]
  },
  {
   "cell_type": "code",
   "execution_count": 29,
   "id": "e6cd063c",
   "metadata": {
    "ExecuteTime": {
     "end_time": "2021-07-17T13:11:50.776679Z",
     "start_time": "2021-07-17T13:02:37.367Z"
    }
   },
   "outputs": [
    {
     "data": {
      "text/html": [
       "<table class=\"dataframe\">\n",
       "<caption>A matrix: 1 × 9 of type dbl</caption>\n",
       "<thead>\n",
       "\t<tr><th></th><th scope=col>Min.</th><th scope=col>1st Qu.</th><th scope=col>Median</th><th scope=col>Mean</th><th scope=col>3rd Qu.</th><th scope=col>Max.</th><th scope=col>NA's</th><th scope=col>sd</th><th scope=col>sd_err_of_mean</th></tr>\n",
       "</thead>\n",
       "<tbody>\n",
       "\t<tr><th scope=row>max_mapq_Match</th><td>0</td><td>42</td><td>42</td><td>41.98932</td><td>42</td><td>42</td><td>28739</td><td>10849.1</td><td>4100.576</td></tr>\n",
       "</tbody>\n",
       "</table>\n"
      ],
      "text/latex": [
       "A matrix: 1 × 9 of type dbl\n",
       "\\begin{tabular}{r|lllllllll}\n",
       "  & Min. & 1st Qu. & Median & Mean & 3rd Qu. & Max. & NA's & sd & sd\\_err\\_of\\_mean\\\\\n",
       "\\hline\n",
       "\tmax\\_mapq\\_Match & 0 & 42 & 42 & 41.98932 & 42 & 42 & 28739 & 10849.1 & 4100.576\\\\\n",
       "\\end{tabular}\n"
      ],
      "text/markdown": [
       "\n",
       "A matrix: 1 × 9 of type dbl\n",
       "\n",
       "| <!--/--> | Min. | 1st Qu. | Median | Mean | 3rd Qu. | Max. | NA's | sd | sd_err_of_mean |\n",
       "|---|---|---|---|---|---|---|---|---|---|\n",
       "| max_mapq_Match | 0 | 42 | 42 | 41.98932 | 42 | 42 | 28739 | 10849.1 | 4100.576 |\n",
       "\n"
      ],
      "text/plain": [
       "               Min. 1st Qu. Median Mean     3rd Qu. Max. NA's  sd     \n",
       "max_mapq_Match 0    42      42     41.98932 42      42   28739 10849.1\n",
       "               sd_err_of_mean\n",
       "max_mapq_Match 4100.576      "
      ]
     },
     "metadata": {},
     "output_type": "display_data"
    },
    {
     "data": {
      "text/html": [
       "<table class=\"dataframe\">\n",
       "<caption>A matrix: 1 × 9 of type dbl</caption>\n",
       "<thead>\n",
       "\t<tr><th></th><th scope=col>Min.</th><th scope=col>1st Qu.</th><th scope=col>Median</th><th scope=col>Mean</th><th scope=col>3rd Qu.</th><th scope=col>Max.</th><th scope=col>NA's</th><th scope=col>sd</th><th scope=col>sd_err_of_mean</th></tr>\n",
       "</thead>\n",
       "<tbody>\n",
       "\t<tr><th scope=row>max_mapq_Match</th><td>0</td><td>42</td><td>42</td><td>41.98937</td><td>42</td><td>42</td><td>26048</td><td>9832.003</td><td>3716.148</td></tr>\n",
       "</tbody>\n",
       "</table>\n"
      ],
      "text/latex": [
       "A matrix: 1 × 9 of type dbl\n",
       "\\begin{tabular}{r|lllllllll}\n",
       "  & Min. & 1st Qu. & Median & Mean & 3rd Qu. & Max. & NA's & sd & sd\\_err\\_of\\_mean\\\\\n",
       "\\hline\n",
       "\tmax\\_mapq\\_Match & 0 & 42 & 42 & 41.98937 & 42 & 42 & 26048 & 9832.003 & 3716.148\\\\\n",
       "\\end{tabular}\n"
      ],
      "text/markdown": [
       "\n",
       "A matrix: 1 × 9 of type dbl\n",
       "\n",
       "| <!--/--> | Min. | 1st Qu. | Median | Mean | 3rd Qu. | Max. | NA's | sd | sd_err_of_mean |\n",
       "|---|---|---|---|---|---|---|---|---|---|\n",
       "| max_mapq_Match | 0 | 42 | 42 | 41.98937 | 42 | 42 | 26048 | 9832.003 | 3716.148 |\n",
       "\n"
      ],
      "text/plain": [
       "               Min. 1st Qu. Median Mean     3rd Qu. Max. NA's  sd      \n",
       "max_mapq_Match 0    42      42     41.98937 42      42   26048 9832.003\n",
       "               sd_err_of_mean\n",
       "max_mapq_Match 3716.148      "
      ]
     },
     "metadata": {},
     "output_type": "display_data"
    }
   ],
   "source": [
    "summary_x(bam2feat_py$max_mapq_Match)\n",
    "summary_x(bam2feat$max_mapq_Match)"
   ]
  },
  {
   "cell_type": "code",
   "execution_count": 30,
   "id": "1ac2bd4e",
   "metadata": {
    "ExecuteTime": {
     "end_time": "2021-07-17T13:11:55.990277Z",
     "start_time": "2021-07-17T13:02:37.477Z"
    }
   },
   "outputs": [
    {
     "data": {
      "text/html": [
       "<table class=\"dataframe\">\n",
       "<caption>A matrix: 1 × 8 of type dbl</caption>\n",
       "<thead>\n",
       "\t<tr><th></th><th scope=col>Min.</th><th scope=col>1st Qu.</th><th scope=col>Median</th><th scope=col>Mean</th><th scope=col>3rd Qu.</th><th scope=col>Max.</th><th scope=col>sd</th><th scope=col>sd_err_of_mean</th></tr>\n",
       "</thead>\n",
       "<tbody>\n",
       "\t<tr><th scope=row>num_proper_Match</th><td>0</td><td>5</td><td>12</td><td>20.9903</td><td>42</td><td>455</td><td>179.831</td><td>73.416</td></tr>\n",
       "</tbody>\n",
       "</table>\n"
      ],
      "text/latex": [
       "A matrix: 1 × 8 of type dbl\n",
       "\\begin{tabular}{r|llllllll}\n",
       "  & Min. & 1st Qu. & Median & Mean & 3rd Qu. & Max. & sd & sd\\_err\\_of\\_mean\\\\\n",
       "\\hline\n",
       "\tnum\\_proper\\_Match & 0 & 5 & 12 & 20.9903 & 42 & 455 & 179.831 & 73.416\\\\\n",
       "\\end{tabular}\n"
      ],
      "text/markdown": [
       "\n",
       "A matrix: 1 × 8 of type dbl\n",
       "\n",
       "| <!--/--> | Min. | 1st Qu. | Median | Mean | 3rd Qu. | Max. | sd | sd_err_of_mean |\n",
       "|---|---|---|---|---|---|---|---|---|\n",
       "| num_proper_Match | 0 | 5 | 12 | 20.9903 | 42 | 455 | 179.831 | 73.416 |\n",
       "\n"
      ],
      "text/plain": [
       "                 Min. 1st Qu. Median Mean    3rd Qu. Max. sd     \n",
       "num_proper_Match 0    5       12     20.9903 42      455  179.831\n",
       "                 sd_err_of_mean\n",
       "num_proper_Match 73.416        "
      ]
     },
     "metadata": {},
     "output_type": "display_data"
    },
    {
     "data": {
      "text/html": [
       "<table class=\"dataframe\">\n",
       "<caption>A matrix: 1 × 8 of type dbl</caption>\n",
       "<thead>\n",
       "\t<tr><th></th><th scope=col>Min.</th><th scope=col>1st Qu.</th><th scope=col>Median</th><th scope=col>Mean</th><th scope=col>3rd Qu.</th><th scope=col>Max.</th><th scope=col>sd</th><th scope=col>sd_err_of_mean</th></tr>\n",
       "</thead>\n",
       "<tbody>\n",
       "\t<tr><th scope=row>num_proper_Match</th><td>0</td><td>5</td><td>12</td><td>20.99008</td><td>42</td><td>455</td><td>179.831</td><td>73.416</td></tr>\n",
       "</tbody>\n",
       "</table>\n"
      ],
      "text/latex": [
       "A matrix: 1 × 8 of type dbl\n",
       "\\begin{tabular}{r|llllllll}\n",
       "  & Min. & 1st Qu. & Median & Mean & 3rd Qu. & Max. & sd & sd\\_err\\_of\\_mean\\\\\n",
       "\\hline\n",
       "\tnum\\_proper\\_Match & 0 & 5 & 12 & 20.99008 & 42 & 455 & 179.831 & 73.416\\\\\n",
       "\\end{tabular}\n"
      ],
      "text/markdown": [
       "\n",
       "A matrix: 1 × 8 of type dbl\n",
       "\n",
       "| <!--/--> | Min. | 1st Qu. | Median | Mean | 3rd Qu. | Max. | sd | sd_err_of_mean |\n",
       "|---|---|---|---|---|---|---|---|---|\n",
       "| num_proper_Match | 0 | 5 | 12 | 20.99008 | 42 | 455 | 179.831 | 73.416 |\n",
       "\n"
      ],
      "text/plain": [
       "                 Min. 1st Qu. Median Mean     3rd Qu. Max. sd     \n",
       "num_proper_Match 0    5       12     20.99008 42      455  179.831\n",
       "                 sd_err_of_mean\n",
       "num_proper_Match 73.416        "
      ]
     },
     "metadata": {},
     "output_type": "display_data"
    }
   ],
   "source": [
    "summary_x(bam2feat_py$num_proper_Match)\n",
    "summary_x(bam2feat$num_proper_Match)"
   ]
  },
  {
   "cell_type": "code",
   "execution_count": 31,
   "id": "bcd257cc",
   "metadata": {
    "ExecuteTime": {
     "end_time": "2021-07-17T13:12:00.694817Z",
     "start_time": "2021-07-17T13:02:37.679Z"
    }
   },
   "outputs": [
    {
     "data": {
      "text/html": [
       "<table class=\"dataframe\">\n",
       "<caption>A matrix: 1 × 8 of type dbl</caption>\n",
       "<thead>\n",
       "\t<tr><th></th><th scope=col>Min.</th><th scope=col>1st Qu.</th><th scope=col>Median</th><th scope=col>Mean</th><th scope=col>3rd Qu.</th><th scope=col>Max.</th><th scope=col>sd</th><th scope=col>sd_err_of_mean</th></tr>\n",
       "</thead>\n",
       "<tbody>\n",
       "\t<tr><th scope=row>num_diff_strand_Match</th><td>0</td><td>0</td><td>0</td><td>0</td><td>0</td><td>0</td><td>0</td><td>0</td></tr>\n",
       "</tbody>\n",
       "</table>\n"
      ],
      "text/latex": [
       "A matrix: 1 × 8 of type dbl\n",
       "\\begin{tabular}{r|llllllll}\n",
       "  & Min. & 1st Qu. & Median & Mean & 3rd Qu. & Max. & sd & sd\\_err\\_of\\_mean\\\\\n",
       "\\hline\n",
       "\tnum\\_diff\\_strand\\_Match & 0 & 0 & 0 & 0 & 0 & 0 & 0 & 0\\\\\n",
       "\\end{tabular}\n"
      ],
      "text/markdown": [
       "\n",
       "A matrix: 1 × 8 of type dbl\n",
       "\n",
       "| <!--/--> | Min. | 1st Qu. | Median | Mean | 3rd Qu. | Max. | sd | sd_err_of_mean |\n",
       "|---|---|---|---|---|---|---|---|---|\n",
       "| num_diff_strand_Match | 0 | 0 | 0 | 0 | 0 | 0 | 0 | 0 |\n",
       "\n"
      ],
      "text/plain": [
       "                      Min. 1st Qu. Median Mean 3rd Qu. Max. sd sd_err_of_mean\n",
       "num_diff_strand_Match 0    0       0      0    0       0    0  0             "
      ]
     },
     "metadata": {},
     "output_type": "display_data"
    },
    {
     "data": {
      "text/html": [
       "<table class=\"dataframe\">\n",
       "<caption>A matrix: 1 × 8 of type dbl</caption>\n",
       "<thead>\n",
       "\t<tr><th></th><th scope=col>Min.</th><th scope=col>1st Qu.</th><th scope=col>Median</th><th scope=col>Mean</th><th scope=col>3rd Qu.</th><th scope=col>Max.</th><th scope=col>sd</th><th scope=col>sd_err_of_mean</th></tr>\n",
       "</thead>\n",
       "<tbody>\n",
       "\t<tr><th scope=row>num_diff_strand_Match</th><td>0</td><td>0</td><td>0</td><td>0</td><td>0</td><td>0</td><td>0</td><td>0</td></tr>\n",
       "</tbody>\n",
       "</table>\n"
      ],
      "text/latex": [
       "A matrix: 1 × 8 of type dbl\n",
       "\\begin{tabular}{r|llllllll}\n",
       "  & Min. & 1st Qu. & Median & Mean & 3rd Qu. & Max. & sd & sd\\_err\\_of\\_mean\\\\\n",
       "\\hline\n",
       "\tnum\\_diff\\_strand\\_Match & 0 & 0 & 0 & 0 & 0 & 0 & 0 & 0\\\\\n",
       "\\end{tabular}\n"
      ],
      "text/markdown": [
       "\n",
       "A matrix: 1 × 8 of type dbl\n",
       "\n",
       "| <!--/--> | Min. | 1st Qu. | Median | Mean | 3rd Qu. | Max. | sd | sd_err_of_mean |\n",
       "|---|---|---|---|---|---|---|---|---|\n",
       "| num_diff_strand_Match | 0 | 0 | 0 | 0 | 0 | 0 | 0 | 0 |\n",
       "\n"
      ],
      "text/plain": [
       "                      Min. 1st Qu. Median Mean 3rd Qu. Max. sd sd_err_of_mean\n",
       "num_diff_strand_Match 0    0       0      0    0       0    0  0             "
      ]
     },
     "metadata": {},
     "output_type": "display_data"
    }
   ],
   "source": [
    "summary_x(bam2feat_py$num_diff_strand_Match)\n",
    "summary_x(bam2feat$num_diff_strand_Match)"
   ]
  },
  {
   "cell_type": "code",
   "execution_count": 32,
   "id": "041a5771",
   "metadata": {
    "ExecuteTime": {
     "end_time": "2021-07-17T13:12:05.781810Z",
     "start_time": "2021-07-17T13:02:37.815Z"
    }
   },
   "outputs": [
    {
     "data": {
      "text/html": [
       "<table class=\"dataframe\">\n",
       "<caption>A matrix: 1 × 8 of type dbl</caption>\n",
       "<thead>\n",
       "\t<tr><th></th><th scope=col>Min.</th><th scope=col>1st Qu.</th><th scope=col>Median</th><th scope=col>Mean</th><th scope=col>3rd Qu.</th><th scope=col>Max.</th><th scope=col>sd</th><th scope=col>sd_err_of_mean</th></tr>\n",
       "</thead>\n",
       "<tbody>\n",
       "\t<tr><th scope=row>num_orphans_Match</th><td>0</td><td>0</td><td>0</td><td>0.0130876</td><td>0</td><td>61</td><td>24.902</td><td>10.166</td></tr>\n",
       "</tbody>\n",
       "</table>\n"
      ],
      "text/latex": [
       "A matrix: 1 × 8 of type dbl\n",
       "\\begin{tabular}{r|llllllll}\n",
       "  & Min. & 1st Qu. & Median & Mean & 3rd Qu. & Max. & sd & sd\\_err\\_of\\_mean\\\\\n",
       "\\hline\n",
       "\tnum\\_orphans\\_Match & 0 & 0 & 0 & 0.0130876 & 0 & 61 & 24.902 & 10.166\\\\\n",
       "\\end{tabular}\n"
      ],
      "text/markdown": [
       "\n",
       "A matrix: 1 × 8 of type dbl\n",
       "\n",
       "| <!--/--> | Min. | 1st Qu. | Median | Mean | 3rd Qu. | Max. | sd | sd_err_of_mean |\n",
       "|---|---|---|---|---|---|---|---|---|\n",
       "| num_orphans_Match | 0 | 0 | 0 | 0.0130876 | 0 | 61 | 24.902 | 10.166 |\n",
       "\n"
      ],
      "text/plain": [
       "                  Min. 1st Qu. Median Mean      3rd Qu. Max. sd    \n",
       "num_orphans_Match 0    0       0      0.0130876 0       61   24.902\n",
       "                  sd_err_of_mean\n",
       "num_orphans_Match 10.166        "
      ]
     },
     "metadata": {},
     "output_type": "display_data"
    },
    {
     "data": {
      "text/html": [
       "<table class=\"dataframe\">\n",
       "<caption>A matrix: 1 × 8 of type dbl</caption>\n",
       "<thead>\n",
       "\t<tr><th></th><th scope=col>Min.</th><th scope=col>1st Qu.</th><th scope=col>Median</th><th scope=col>Mean</th><th scope=col>3rd Qu.</th><th scope=col>Max.</th><th scope=col>sd</th><th scope=col>sd_err_of_mean</th></tr>\n",
       "</thead>\n",
       "<tbody>\n",
       "\t<tr><th scope=row>num_orphans_Match</th><td>0</td><td>0</td><td>0</td><td>0.01285231</td><td>0</td><td>61</td><td>24.902</td><td>10.166</td></tr>\n",
       "</tbody>\n",
       "</table>\n"
      ],
      "text/latex": [
       "A matrix: 1 × 8 of type dbl\n",
       "\\begin{tabular}{r|llllllll}\n",
       "  & Min. & 1st Qu. & Median & Mean & 3rd Qu. & Max. & sd & sd\\_err\\_of\\_mean\\\\\n",
       "\\hline\n",
       "\tnum\\_orphans\\_Match & 0 & 0 & 0 & 0.01285231 & 0 & 61 & 24.902 & 10.166\\\\\n",
       "\\end{tabular}\n"
      ],
      "text/markdown": [
       "\n",
       "A matrix: 1 × 8 of type dbl\n",
       "\n",
       "| <!--/--> | Min. | 1st Qu. | Median | Mean | 3rd Qu. | Max. | sd | sd_err_of_mean |\n",
       "|---|---|---|---|---|---|---|---|---|\n",
       "| num_orphans_Match | 0 | 0 | 0 | 0.01285231 | 0 | 61 | 24.902 | 10.166 |\n",
       "\n"
      ],
      "text/plain": [
       "                  Min. 1st Qu. Median Mean       3rd Qu. Max. sd    \n",
       "num_orphans_Match 0    0       0      0.01285231 0       61   24.902\n",
       "                  sd_err_of_mean\n",
       "num_orphans_Match 10.166        "
      ]
     },
     "metadata": {},
     "output_type": "display_data"
    }
   ],
   "source": [
    "summary_x(bam2feat_py$num_orphans_Match)\n",
    "summary_x(bam2feat$num_orphans_Match)"
   ]
  },
  {
   "cell_type": "code",
   "execution_count": 33,
   "id": "ccd21c9e",
   "metadata": {
    "ExecuteTime": {
     "end_time": "2021-07-17T13:12:11.854810Z",
     "start_time": "2021-07-17T13:02:37.975Z"
    }
   },
   "outputs": [
    {
     "data": {
      "text/html": [
       "<table class=\"dataframe\">\n",
       "<caption>A matrix: 1 × 8 of type dbl</caption>\n",
       "<thead>\n",
       "\t<tr><th></th><th scope=col>Min.</th><th scope=col>1st Qu.</th><th scope=col>Median</th><th scope=col>Mean</th><th scope=col>3rd Qu.</th><th scope=col>Max.</th><th scope=col>sd</th><th scope=col>sd_err_of_mean</th></tr>\n",
       "</thead>\n",
       "<tbody>\n",
       "\t<tr><th scope=row>num_supplementary_Match</th><td>0</td><td>0</td><td>0</td><td>0</td><td>0</td><td>0</td><td>0</td><td>0</td></tr>\n",
       "</tbody>\n",
       "</table>\n"
      ],
      "text/latex": [
       "A matrix: 1 × 8 of type dbl\n",
       "\\begin{tabular}{r|llllllll}\n",
       "  & Min. & 1st Qu. & Median & Mean & 3rd Qu. & Max. & sd & sd\\_err\\_of\\_mean\\\\\n",
       "\\hline\n",
       "\tnum\\_supplementary\\_Match & 0 & 0 & 0 & 0 & 0 & 0 & 0 & 0\\\\\n",
       "\\end{tabular}\n"
      ],
      "text/markdown": [
       "\n",
       "A matrix: 1 × 8 of type dbl\n",
       "\n",
       "| <!--/--> | Min. | 1st Qu. | Median | Mean | 3rd Qu. | Max. | sd | sd_err_of_mean |\n",
       "|---|---|---|---|---|---|---|---|---|\n",
       "| num_supplementary_Match | 0 | 0 | 0 | 0 | 0 | 0 | 0 | 0 |\n",
       "\n"
      ],
      "text/plain": [
       "                        Min. 1st Qu. Median Mean 3rd Qu. Max. sd sd_err_of_mean\n",
       "num_supplementary_Match 0    0       0      0    0       0    0  0             "
      ]
     },
     "metadata": {},
     "output_type": "display_data"
    },
    {
     "data": {
      "text/html": [
       "<table class=\"dataframe\">\n",
       "<caption>A matrix: 1 × 8 of type dbl</caption>\n",
       "<thead>\n",
       "\t<tr><th></th><th scope=col>Min.</th><th scope=col>1st Qu.</th><th scope=col>Median</th><th scope=col>Mean</th><th scope=col>3rd Qu.</th><th scope=col>Max.</th><th scope=col>sd</th><th scope=col>sd_err_of_mean</th></tr>\n",
       "</thead>\n",
       "<tbody>\n",
       "\t<tr><th scope=row>num_supplementary_Match</th><td>0</td><td>0</td><td>0</td><td>0</td><td>0</td><td>0</td><td>0</td><td>0</td></tr>\n",
       "</tbody>\n",
       "</table>\n"
      ],
      "text/latex": [
       "A matrix: 1 × 8 of type dbl\n",
       "\\begin{tabular}{r|llllllll}\n",
       "  & Min. & 1st Qu. & Median & Mean & 3rd Qu. & Max. & sd & sd\\_err\\_of\\_mean\\\\\n",
       "\\hline\n",
       "\tnum\\_supplementary\\_Match & 0 & 0 & 0 & 0 & 0 & 0 & 0 & 0\\\\\n",
       "\\end{tabular}\n"
      ],
      "text/markdown": [
       "\n",
       "A matrix: 1 × 8 of type dbl\n",
       "\n",
       "| <!--/--> | Min. | 1st Qu. | Median | Mean | 3rd Qu. | Max. | sd | sd_err_of_mean |\n",
       "|---|---|---|---|---|---|---|---|---|\n",
       "| num_supplementary_Match | 0 | 0 | 0 | 0 | 0 | 0 | 0 | 0 |\n",
       "\n"
      ],
      "text/plain": [
       "                        Min. 1st Qu. Median Mean 3rd Qu. Max. sd sd_err_of_mean\n",
       "num_supplementary_Match 0    0       0      0    0       0    0  0             "
      ]
     },
     "metadata": {},
     "output_type": "display_data"
    }
   ],
   "source": [
    "summary_x(bam2feat_py$num_supplementary_Match)\n",
    "summary_x(bam2feat$num_supplementary_Match)"
   ]
  },
  {
   "cell_type": "code",
   "execution_count": 34,
   "id": "f4639021",
   "metadata": {
    "ExecuteTime": {
     "end_time": "2021-07-17T13:12:17.425354Z",
     "start_time": "2021-07-17T13:02:38.136Z"
    }
   },
   "outputs": [
    {
     "data": {
      "text/html": [
       "<table class=\"dataframe\">\n",
       "<caption>A matrix: 1 × 8 of type dbl</caption>\n",
       "<thead>\n",
       "\t<tr><th></th><th scope=col>Min.</th><th scope=col>1st Qu.</th><th scope=col>Median</th><th scope=col>Mean</th><th scope=col>3rd Qu.</th><th scope=col>Max.</th><th scope=col>sd</th><th scope=col>sd_err_of_mean</th></tr>\n",
       "</thead>\n",
       "<tbody>\n",
       "\t<tr><th scope=row>num_secondary_Match</th><td>0</td><td>0</td><td>0</td><td>0</td><td>0</td><td>0</td><td>0</td><td>0</td></tr>\n",
       "</tbody>\n",
       "</table>\n"
      ],
      "text/latex": [
       "A matrix: 1 × 8 of type dbl\n",
       "\\begin{tabular}{r|llllllll}\n",
       "  & Min. & 1st Qu. & Median & Mean & 3rd Qu. & Max. & sd & sd\\_err\\_of\\_mean\\\\\n",
       "\\hline\n",
       "\tnum\\_secondary\\_Match & 0 & 0 & 0 & 0 & 0 & 0 & 0 & 0\\\\\n",
       "\\end{tabular}\n"
      ],
      "text/markdown": [
       "\n",
       "A matrix: 1 × 8 of type dbl\n",
       "\n",
       "| <!--/--> | Min. | 1st Qu. | Median | Mean | 3rd Qu. | Max. | sd | sd_err_of_mean |\n",
       "|---|---|---|---|---|---|---|---|---|\n",
       "| num_secondary_Match | 0 | 0 | 0 | 0 | 0 | 0 | 0 | 0 |\n",
       "\n"
      ],
      "text/plain": [
       "                    Min. 1st Qu. Median Mean 3rd Qu. Max. sd sd_err_of_mean\n",
       "num_secondary_Match 0    0       0      0    0       0    0  0             "
      ]
     },
     "metadata": {},
     "output_type": "display_data"
    },
    {
     "data": {
      "text/html": [
       "<table class=\"dataframe\">\n",
       "<caption>A matrix: 1 × 8 of type dbl</caption>\n",
       "<thead>\n",
       "\t<tr><th></th><th scope=col>Min.</th><th scope=col>1st Qu.</th><th scope=col>Median</th><th scope=col>Mean</th><th scope=col>3rd Qu.</th><th scope=col>Max.</th><th scope=col>sd</th><th scope=col>sd_err_of_mean</th></tr>\n",
       "</thead>\n",
       "<tbody>\n",
       "\t<tr><th scope=row>num_secondary_Match</th><td>0</td><td>0</td><td>0</td><td>0</td><td>0</td><td>0</td><td>0</td><td>0</td></tr>\n",
       "</tbody>\n",
       "</table>\n"
      ],
      "text/latex": [
       "A matrix: 1 × 8 of type dbl\n",
       "\\begin{tabular}{r|llllllll}\n",
       "  & Min. & 1st Qu. & Median & Mean & 3rd Qu. & Max. & sd & sd\\_err\\_of\\_mean\\\\\n",
       "\\hline\n",
       "\tnum\\_secondary\\_Match & 0 & 0 & 0 & 0 & 0 & 0 & 0 & 0\\\\\n",
       "\\end{tabular}\n"
      ],
      "text/markdown": [
       "\n",
       "A matrix: 1 × 8 of type dbl\n",
       "\n",
       "| <!--/--> | Min. | 1st Qu. | Median | Mean | 3rd Qu. | Max. | sd | sd_err_of_mean |\n",
       "|---|---|---|---|---|---|---|---|---|\n",
       "| num_secondary_Match | 0 | 0 | 0 | 0 | 0 | 0 | 0 | 0 |\n",
       "\n"
      ],
      "text/plain": [
       "                    Min. 1st Qu. Median Mean 3rd Qu. Max. sd sd_err_of_mean\n",
       "num_secondary_Match 0    0       0      0    0       0    0  0             "
      ]
     },
     "metadata": {},
     "output_type": "display_data"
    }
   ],
   "source": [
    "summary_x(bam2feat_py$num_secondary_Match)\n",
    "summary_x(bam2feat$num_secondary_Match)"
   ]
  },
  {
   "cell_type": "code",
   "execution_count": 35,
   "id": "6feede31",
   "metadata": {
    "ExecuteTime": {
     "end_time": "2021-07-17T13:12:22.323720Z",
     "start_time": "2021-07-17T13:02:38.312Z"
    }
   },
   "outputs": [
    {
     "data": {
      "text/html": [
       "<table class=\"dataframe\">\n",
       "<caption>A matrix: 1 × 8 of type dbl</caption>\n",
       "<thead>\n",
       "\t<tr><th></th><th scope=col>Min.</th><th scope=col>1st Qu.</th><th scope=col>Median</th><th scope=col>Mean</th><th scope=col>3rd Qu.</th><th scope=col>Max.</th><th scope=col>sd</th><th scope=col>sd_err_of_mean</th></tr>\n",
       "</thead>\n",
       "<tbody>\n",
       "\t<tr><th scope=row>num_discordant_Match</th><td>0</td><td>0</td><td>0</td><td>0.01239075</td><td>0</td><td>125</td><td>51.03</td><td>20.833</td></tr>\n",
       "</tbody>\n",
       "</table>\n"
      ],
      "text/latex": [
       "A matrix: 1 × 8 of type dbl\n",
       "\\begin{tabular}{r|llllllll}\n",
       "  & Min. & 1st Qu. & Median & Mean & 3rd Qu. & Max. & sd & sd\\_err\\_of\\_mean\\\\\n",
       "\\hline\n",
       "\tnum\\_discordant\\_Match & 0 & 0 & 0 & 0.01239075 & 0 & 125 & 51.03 & 20.833\\\\\n",
       "\\end{tabular}\n"
      ],
      "text/markdown": [
       "\n",
       "A matrix: 1 × 8 of type dbl\n",
       "\n",
       "| <!--/--> | Min. | 1st Qu. | Median | Mean | 3rd Qu. | Max. | sd | sd_err_of_mean |\n",
       "|---|---|---|---|---|---|---|---|---|\n",
       "| num_discordant_Match | 0 | 0 | 0 | 0.01239075 | 0 | 125 | 51.03 | 20.833 |\n",
       "\n"
      ],
      "text/plain": [
       "                     Min. 1st Qu. Median Mean       3rd Qu. Max. sd   \n",
       "num_discordant_Match 0    0       0      0.01239075 0       125  51.03\n",
       "                     sd_err_of_mean\n",
       "num_discordant_Match 20.833        "
      ]
     },
     "metadata": {},
     "output_type": "display_data"
    },
    {
     "data": {
      "text/html": [
       "<table class=\"dataframe\">\n",
       "<caption>A matrix: 1 × 8 of type dbl</caption>\n",
       "<thead>\n",
       "\t<tr><th></th><th scope=col>Min.</th><th scope=col>1st Qu.</th><th scope=col>Median</th><th scope=col>Mean</th><th scope=col>3rd Qu.</th><th scope=col>Max.</th><th scope=col>sd</th><th scope=col>sd_err_of_mean</th></tr>\n",
       "</thead>\n",
       "<tbody>\n",
       "\t<tr><th scope=row>num_discordant_Match</th><td>0</td><td>0</td><td>0</td><td>0.01222659</td><td>0</td><td>125</td><td>51.03</td><td>20.833</td></tr>\n",
       "</tbody>\n",
       "</table>\n"
      ],
      "text/latex": [
       "A matrix: 1 × 8 of type dbl\n",
       "\\begin{tabular}{r|llllllll}\n",
       "  & Min. & 1st Qu. & Median & Mean & 3rd Qu. & Max. & sd & sd\\_err\\_of\\_mean\\\\\n",
       "\\hline\n",
       "\tnum\\_discordant\\_Match & 0 & 0 & 0 & 0.01222659 & 0 & 125 & 51.03 & 20.833\\\\\n",
       "\\end{tabular}\n"
      ],
      "text/markdown": [
       "\n",
       "A matrix: 1 × 8 of type dbl\n",
       "\n",
       "| <!--/--> | Min. | 1st Qu. | Median | Mean | 3rd Qu. | Max. | sd | sd_err_of_mean |\n",
       "|---|---|---|---|---|---|---|---|---|\n",
       "| num_discordant_Match | 0 | 0 | 0 | 0.01222659 | 0 | 125 | 51.03 | 20.833 |\n",
       "\n"
      ],
      "text/plain": [
       "                     Min. 1st Qu. Median Mean       3rd Qu. Max. sd   \n",
       "num_discordant_Match 0    0       0      0.01222659 0       125  51.03\n",
       "                     sd_err_of_mean\n",
       "num_discordant_Match 20.833        "
      ]
     },
     "metadata": {},
     "output_type": "display_data"
    }
   ],
   "source": [
    "summary_x(bam2feat_py$num_discordant_Match)\n",
    "summary_x(bam2feat$num_discordant_Match)"
   ]
  },
  {
   "cell_type": "markdown",
   "id": "05370f71",
   "metadata": {},
   "source": [
    "### SNP features"
   ]
  },
  {
   "cell_type": "code",
   "execution_count": 36,
   "id": "d88077cc",
   "metadata": {
    "ExecuteTime": {
     "end_time": "2021-07-17T13:12:23.973914Z",
     "start_time": "2021-07-17T13:02:38.608Z"
    }
   },
   "outputs": [
    {
     "data": {
      "text/html": [
       "<table class=\"dataframe\">\n",
       "<caption>A matrix: 1 × 9 of type dbl</caption>\n",
       "<thead>\n",
       "\t<tr><th></th><th scope=col>Min.</th><th scope=col>1st Qu.</th><th scope=col>Median</th><th scope=col>Mean</th><th scope=col>3rd Qu.</th><th scope=col>Max.</th><th scope=col>NA's</th><th scope=col>sd</th><th scope=col>sd_err_of_mean</th></tr>\n",
       "</thead>\n",
       "<tbody>\n",
       "\t<tr><th scope=row>min_insert_size_SNP</th><td>136</td><td>243</td><td>250</td><td>249.6806</td><td>256</td><td>328</td><td>74945265</td><td>28326555</td><td>10706432</td></tr>\n",
       "</tbody>\n",
       "</table>\n"
      ],
      "text/latex": [
       "A matrix: 1 × 9 of type dbl\n",
       "\\begin{tabular}{r|lllllllll}\n",
       "  & Min. & 1st Qu. & Median & Mean & 3rd Qu. & Max. & NA's & sd & sd\\_err\\_of\\_mean\\\\\n",
       "\\hline\n",
       "\tmin\\_insert\\_size\\_SNP & 136 & 243 & 250 & 249.6806 & 256 & 328 & 74945265 & 28326555 & 10706432\\\\\n",
       "\\end{tabular}\n"
      ],
      "text/markdown": [
       "\n",
       "A matrix: 1 × 9 of type dbl\n",
       "\n",
       "| <!--/--> | Min. | 1st Qu. | Median | Mean | 3rd Qu. | Max. | NA's | sd | sd_err_of_mean |\n",
       "|---|---|---|---|---|---|---|---|---|---|\n",
       "| min_insert_size_SNP | 136 | 243 | 250 | 249.6806 | 256 | 328 | 74945265 | 28326555 | 10706432 |\n",
       "\n"
      ],
      "text/plain": [
       "                    Min. 1st Qu. Median Mean     3rd Qu. Max. NA's     sd      \n",
       "min_insert_size_SNP 136  243     250    249.6806 256     328  74945265 28326555\n",
       "                    sd_err_of_mean\n",
       "min_insert_size_SNP 10706432      "
      ]
     },
     "metadata": {},
     "output_type": "display_data"
    },
    {
     "data": {
      "text/html": [
       "<table class=\"dataframe\">\n",
       "<caption>A matrix: 1 × 9 of type dbl</caption>\n",
       "<thead>\n",
       "\t<tr><th></th><th scope=col>Min.</th><th scope=col>1st Qu.</th><th scope=col>Median</th><th scope=col>Mean</th><th scope=col>3rd Qu.</th><th scope=col>Max.</th><th scope=col>NA's</th><th scope=col>sd</th><th scope=col>sd_err_of_mean</th></tr>\n",
       "</thead>\n",
       "<tbody>\n",
       "\t<tr><th scope=row>min_insert_size_SNP</th><td>0</td><td>242</td><td>249</td><td>248.0784</td><td>256</td><td>1472</td><td>74435271</td><td>28133733</td><td>10633551</td></tr>\n",
       "</tbody>\n",
       "</table>\n"
      ],
      "text/latex": [
       "A matrix: 1 × 9 of type dbl\n",
       "\\begin{tabular}{r|lllllllll}\n",
       "  & Min. & 1st Qu. & Median & Mean & 3rd Qu. & Max. & NA's & sd & sd\\_err\\_of\\_mean\\\\\n",
       "\\hline\n",
       "\tmin\\_insert\\_size\\_SNP & 0 & 242 & 249 & 248.0784 & 256 & 1472 & 74435271 & 28133733 & 10633551\\\\\n",
       "\\end{tabular}\n"
      ],
      "text/markdown": [
       "\n",
       "A matrix: 1 × 9 of type dbl\n",
       "\n",
       "| <!--/--> | Min. | 1st Qu. | Median | Mean | 3rd Qu. | Max. | NA's | sd | sd_err_of_mean |\n",
       "|---|---|---|---|---|---|---|---|---|---|\n",
       "| min_insert_size_SNP | 0 | 242 | 249 | 248.0784 | 256 | 1472 | 74435271 | 28133733 | 10633551 |\n",
       "\n"
      ],
      "text/plain": [
       "                    Min. 1st Qu. Median Mean     3rd Qu. Max. NA's     sd      \n",
       "min_insert_size_SNP 0    242     249    248.0784 256     1472 74435271 28133733\n",
       "                    sd_err_of_mean\n",
       "min_insert_size_SNP 10633551      "
      ]
     },
     "metadata": {},
     "output_type": "display_data"
    }
   ],
   "source": [
    "summary_x(bam2feat_py$min_insert_size_SNP)\n",
    "summary_x(bam2feat$min_insert_size_SNP)"
   ]
  },
  {
   "cell_type": "code",
   "execution_count": 37,
   "id": "8a0899b7",
   "metadata": {
    "ExecuteTime": {
     "end_time": "2021-07-17T13:12:26.282436Z",
     "start_time": "2021-07-17T13:02:38.720Z"
    }
   },
   "outputs": [
    {
     "data": {
      "text/html": [
       "<table class=\"dataframe\">\n",
       "<caption>A matrix: 1 × 9 of type dbl</caption>\n",
       "<thead>\n",
       "\t<tr><th></th><th scope=col>Min.</th><th scope=col>1st Qu.</th><th scope=col>Median</th><th scope=col>Mean</th><th scope=col>3rd Qu.</th><th scope=col>Max.</th><th scope=col>NA's</th><th scope=col>sd</th><th scope=col>sd_err_of_mean</th></tr>\n",
       "</thead>\n",
       "<tbody>\n",
       "\t<tr><th scope=row>mean_insert_size_SNP</th><td>136</td><td>243</td><td>250</td><td>249.8978</td><td>257</td><td>328</td><td>74945265</td><td>28326555</td><td>10706432</td></tr>\n",
       "</tbody>\n",
       "</table>\n"
      ],
      "text/latex": [
       "A matrix: 1 × 9 of type dbl\n",
       "\\begin{tabular}{r|lllllllll}\n",
       "  & Min. & 1st Qu. & Median & Mean & 3rd Qu. & Max. & NA's & sd & sd\\_err\\_of\\_mean\\\\\n",
       "\\hline\n",
       "\tmean\\_insert\\_size\\_SNP & 136 & 243 & 250 & 249.8978 & 257 & 328 & 74945265 & 28326555 & 10706432\\\\\n",
       "\\end{tabular}\n"
      ],
      "text/markdown": [
       "\n",
       "A matrix: 1 × 9 of type dbl\n",
       "\n",
       "| <!--/--> | Min. | 1st Qu. | Median | Mean | 3rd Qu. | Max. | NA's | sd | sd_err_of_mean |\n",
       "|---|---|---|---|---|---|---|---|---|---|\n",
       "| mean_insert_size_SNP | 136 | 243 | 250 | 249.8978 | 257 | 328 | 74945265 | 28326555 | 10706432 |\n",
       "\n"
      ],
      "text/plain": [
       "                     Min. 1st Qu. Median Mean     3rd Qu. Max. NA's    \n",
       "mean_insert_size_SNP 136  243     250    249.8978 257     328  74945265\n",
       "                     sd       sd_err_of_mean\n",
       "mean_insert_size_SNP 28326555 10706432      "
      ]
     },
     "metadata": {},
     "output_type": "display_data"
    },
    {
     "data": {
      "text/html": [
       "<table class=\"dataframe\">\n",
       "<caption>A matrix: 1 × 9 of type dbl</caption>\n",
       "<thead>\n",
       "\t<tr><th></th><th scope=col>Min.</th><th scope=col>1st Qu.</th><th scope=col>Median</th><th scope=col>Mean</th><th scope=col>3rd Qu.</th><th scope=col>Max.</th><th scope=col>NA's</th><th scope=col>sd</th><th scope=col>sd_err_of_mean</th></tr>\n",
       "</thead>\n",
       "<tbody>\n",
       "\t<tr><th scope=row>mean_insert_size_SNP</th><td>0</td><td>243</td><td>249</td><td>248.5094</td><td>256</td><td>1472</td><td>74435271</td><td>28133732</td><td>10633551</td></tr>\n",
       "</tbody>\n",
       "</table>\n"
      ],
      "text/latex": [
       "A matrix: 1 × 9 of type dbl\n",
       "\\begin{tabular}{r|lllllllll}\n",
       "  & Min. & 1st Qu. & Median & Mean & 3rd Qu. & Max. & NA's & sd & sd\\_err\\_of\\_mean\\\\\n",
       "\\hline\n",
       "\tmean\\_insert\\_size\\_SNP & 0 & 243 & 249 & 248.5094 & 256 & 1472 & 74435271 & 28133732 & 10633551\\\\\n",
       "\\end{tabular}\n"
      ],
      "text/markdown": [
       "\n",
       "A matrix: 1 × 9 of type dbl\n",
       "\n",
       "| <!--/--> | Min. | 1st Qu. | Median | Mean | 3rd Qu. | Max. | NA's | sd | sd_err_of_mean |\n",
       "|---|---|---|---|---|---|---|---|---|---|\n",
       "| mean_insert_size_SNP | 0 | 243 | 249 | 248.5094 | 256 | 1472 | 74435271 | 28133732 | 10633551 |\n",
       "\n"
      ],
      "text/plain": [
       "                     Min. 1st Qu. Median Mean     3rd Qu. Max. NA's    \n",
       "mean_insert_size_SNP 0    243     249    248.5094 256     1472 74435271\n",
       "                     sd       sd_err_of_mean\n",
       "mean_insert_size_SNP 28133732 10633551      "
      ]
     },
     "metadata": {},
     "output_type": "display_data"
    }
   ],
   "source": [
    "summary_x(bam2feat_py$mean_insert_size_SNP)\n",
    "summary_x(bam2feat$mean_insert_size_SNP)"
   ]
  },
  {
   "cell_type": "code",
   "execution_count": 38,
   "id": "ad1e0bc0",
   "metadata": {
    "ExecuteTime": {
     "end_time": "2021-07-17T13:12:28.579695Z",
     "start_time": "2021-07-17T13:02:38.936Z"
    }
   },
   "outputs": [
    {
     "data": {
      "text/html": [
       "<table class=\"dataframe\">\n",
       "<caption>A matrix: 1 × 9 of type dbl</caption>\n",
       "<thead>\n",
       "\t<tr><th></th><th scope=col>Min.</th><th scope=col>1st Qu.</th><th scope=col>Median</th><th scope=col>Mean</th><th scope=col>3rd Qu.</th><th scope=col>Max.</th><th scope=col>NA's</th><th scope=col>sd</th><th scope=col>sd_err_of_mean</th></tr>\n",
       "</thead>\n",
       "<tbody>\n",
       "\t<tr><th scope=row>stdev_insert_size_SNP</th><td>0</td><td>0</td><td>0</td><td>1.185726</td><td>0</td><td>82.3</td><td>76899114</td><td>29065128</td><td>10985586</td></tr>\n",
       "</tbody>\n",
       "</table>\n"
      ],
      "text/latex": [
       "A matrix: 1 × 9 of type dbl\n",
       "\\begin{tabular}{r|lllllllll}\n",
       "  & Min. & 1st Qu. & Median & Mean & 3rd Qu. & Max. & NA's & sd & sd\\_err\\_of\\_mean\\\\\n",
       "\\hline\n",
       "\tstdev\\_insert\\_size\\_SNP & 0 & 0 & 0 & 1.185726 & 0 & 82.3 & 76899114 & 29065128 & 10985586\\\\\n",
       "\\end{tabular}\n"
      ],
      "text/markdown": [
       "\n",
       "A matrix: 1 × 9 of type dbl\n",
       "\n",
       "| <!--/--> | Min. | 1st Qu. | Median | Mean | 3rd Qu. | Max. | NA's | sd | sd_err_of_mean |\n",
       "|---|---|---|---|---|---|---|---|---|---|\n",
       "| stdev_insert_size_SNP | 0 | 0 | 0 | 1.185726 | 0 | 82.3 | 76899114 | 29065128 | 10985586 |\n",
       "\n"
      ],
      "text/plain": [
       "                      Min. 1st Qu. Median Mean     3rd Qu. Max. NA's    \n",
       "stdev_insert_size_SNP 0    0       0      1.185726 0       82.3 76899114\n",
       "                      sd       sd_err_of_mean\n",
       "stdev_insert_size_SNP 29065128 10985586      "
      ]
     },
     "metadata": {},
     "output_type": "display_data"
    },
    {
     "data": {
      "text/html": [
       "<table class=\"dataframe\">\n",
       "<caption>A matrix: 1 × 9 of type dbl</caption>\n",
       "<thead>\n",
       "\t<tr><th></th><th scope=col>Min.</th><th scope=col>1st Qu.</th><th scope=col>Median</th><th scope=col>Mean</th><th scope=col>3rd Qu.</th><th scope=col>Max.</th><th scope=col>NA's</th><th scope=col>sd</th><th scope=col>sd_err_of_mean</th></tr>\n",
       "</thead>\n",
       "<tbody>\n",
       "\t<tr><th scope=row>stdev_insert_size_SNP</th><td>0</td><td>2.83</td><td>7.07</td><td>11.62045</td><td>12.02</td><td>853.48</td><td>77361375</td><td>29239795</td><td>11051604</td></tr>\n",
       "</tbody>\n",
       "</table>\n"
      ],
      "text/latex": [
       "A matrix: 1 × 9 of type dbl\n",
       "\\begin{tabular}{r|lllllllll}\n",
       "  & Min. & 1st Qu. & Median & Mean & 3rd Qu. & Max. & NA's & sd & sd\\_err\\_of\\_mean\\\\\n",
       "\\hline\n",
       "\tstdev\\_insert\\_size\\_SNP & 0 & 2.83 & 7.07 & 11.62045 & 12.02 & 853.48 & 77361375 & 29239795 & 11051604\\\\\n",
       "\\end{tabular}\n"
      ],
      "text/markdown": [
       "\n",
       "A matrix: 1 × 9 of type dbl\n",
       "\n",
       "| <!--/--> | Min. | 1st Qu. | Median | Mean | 3rd Qu. | Max. | NA's | sd | sd_err_of_mean |\n",
       "|---|---|---|---|---|---|---|---|---|---|\n",
       "| stdev_insert_size_SNP | 0 | 2.83 | 7.07 | 11.62045 | 12.02 | 853.48 | 77361375 | 29239795 | 11051604 |\n",
       "\n"
      ],
      "text/plain": [
       "                      Min. 1st Qu. Median Mean     3rd Qu. Max.   NA's    \n",
       "stdev_insert_size_SNP 0    2.83    7.07   11.62045 12.02   853.48 77361375\n",
       "                      sd       sd_err_of_mean\n",
       "stdev_insert_size_SNP 29239795 11051604      "
      ]
     },
     "metadata": {},
     "output_type": "display_data"
    }
   ],
   "source": [
    "summary_x(bam2feat_py$stdev_insert_size_SNP)\n",
    "summary_x(bam2feat$stdev_insert_size_SNP)"
   ]
  },
  {
   "cell_type": "code",
   "execution_count": 39,
   "id": "ecfa6520",
   "metadata": {
    "ExecuteTime": {
     "end_time": "2021-07-17T13:12:30.238196Z",
     "start_time": "2021-07-17T13:02:39.087Z"
    }
   },
   "outputs": [
    {
     "data": {
      "text/html": [
       "<table class=\"dataframe\">\n",
       "<caption>A matrix: 1 × 9 of type dbl</caption>\n",
       "<thead>\n",
       "\t<tr><th></th><th scope=col>Min.</th><th scope=col>1st Qu.</th><th scope=col>Median</th><th scope=col>Mean</th><th scope=col>3rd Qu.</th><th scope=col>Max.</th><th scope=col>NA's</th><th scope=col>sd</th><th scope=col>sd_err_of_mean</th></tr>\n",
       "</thead>\n",
       "<tbody>\n",
       "\t<tr><th scope=row>max_insert_size_SNP</th><td>136</td><td>243</td><td>250</td><td>250.127</td><td>257</td><td>337</td><td>74945265</td><td>28326555</td><td>10706431</td></tr>\n",
       "</tbody>\n",
       "</table>\n"
      ],
      "text/latex": [
       "A matrix: 1 × 9 of type dbl\n",
       "\\begin{tabular}{r|lllllllll}\n",
       "  & Min. & 1st Qu. & Median & Mean & 3rd Qu. & Max. & NA's & sd & sd\\_err\\_of\\_mean\\\\\n",
       "\\hline\n",
       "\tmax\\_insert\\_size\\_SNP & 136 & 243 & 250 & 250.127 & 257 & 337 & 74945265 & 28326555 & 10706431\\\\\n",
       "\\end{tabular}\n"
      ],
      "text/markdown": [
       "\n",
       "A matrix: 1 × 9 of type dbl\n",
       "\n",
       "| <!--/--> | Min. | 1st Qu. | Median | Mean | 3rd Qu. | Max. | NA's | sd | sd_err_of_mean |\n",
       "|---|---|---|---|---|---|---|---|---|---|\n",
       "| max_insert_size_SNP | 136 | 243 | 250 | 250.127 | 257 | 337 | 74945265 | 28326555 | 10706431 |\n",
       "\n"
      ],
      "text/plain": [
       "                    Min. 1st Qu. Median Mean    3rd Qu. Max. NA's     sd      \n",
       "max_insert_size_SNP 136  243     250    250.127 257     337  74945265 28326555\n",
       "                    sd_err_of_mean\n",
       "max_insert_size_SNP 10706431      "
      ]
     },
     "metadata": {},
     "output_type": "display_data"
    },
    {
     "data": {
      "text/html": [
       "<table class=\"dataframe\">\n",
       "<caption>A matrix: 1 × 9 of type dbl</caption>\n",
       "<thead>\n",
       "\t<tr><th></th><th scope=col>Min.</th><th scope=col>1st Qu.</th><th scope=col>Median</th><th scope=col>Mean</th><th scope=col>3rd Qu.</th><th scope=col>Max.</th><th scope=col>NA's</th><th scope=col>sd</th><th scope=col>sd_err_of_mean</th></tr>\n",
       "</thead>\n",
       "<tbody>\n",
       "\t<tr><th scope=row>max_insert_size_SNP</th><td>0</td><td>243</td><td>250</td><td>248.9159</td><td>256</td><td>1472</td><td>74435271</td><td>28133732</td><td>10633551</td></tr>\n",
       "</tbody>\n",
       "</table>\n"
      ],
      "text/latex": [
       "A matrix: 1 × 9 of type dbl\n",
       "\\begin{tabular}{r|lllllllll}\n",
       "  & Min. & 1st Qu. & Median & Mean & 3rd Qu. & Max. & NA's & sd & sd\\_err\\_of\\_mean\\\\\n",
       "\\hline\n",
       "\tmax\\_insert\\_size\\_SNP & 0 & 243 & 250 & 248.9159 & 256 & 1472 & 74435271 & 28133732 & 10633551\\\\\n",
       "\\end{tabular}\n"
      ],
      "text/markdown": [
       "\n",
       "A matrix: 1 × 9 of type dbl\n",
       "\n",
       "| <!--/--> | Min. | 1st Qu. | Median | Mean | 3rd Qu. | Max. | NA's | sd | sd_err_of_mean |\n",
       "|---|---|---|---|---|---|---|---|---|---|\n",
       "| max_insert_size_SNP | 0 | 243 | 250 | 248.9159 | 256 | 1472 | 74435271 | 28133732 | 10633551 |\n",
       "\n"
      ],
      "text/plain": [
       "                    Min. 1st Qu. Median Mean     3rd Qu. Max. NA's     sd      \n",
       "max_insert_size_SNP 0    243     250    248.9159 256     1472 74435271 28133732\n",
       "                    sd_err_of_mean\n",
       "max_insert_size_SNP 10633551      "
      ]
     },
     "metadata": {},
     "output_type": "display_data"
    }
   ],
   "source": [
    "summary_x(bam2feat_py$max_insert_size_SNP)\n",
    "summary_x(bam2feat$max_insert_size_SNP)"
   ]
  },
  {
   "cell_type": "code",
   "execution_count": 40,
   "id": "db1d01be",
   "metadata": {
    "ExecuteTime": {
     "end_time": "2021-07-17T13:12:31.854616Z",
     "start_time": "2021-07-17T13:02:39.215Z"
    }
   },
   "outputs": [
    {
     "data": {
      "text/html": [
       "<table class=\"dataframe\">\n",
       "<caption>A matrix: 1 × 9 of type dbl</caption>\n",
       "<thead>\n",
       "\t<tr><th></th><th scope=col>Min.</th><th scope=col>1st Qu.</th><th scope=col>Median</th><th scope=col>Mean</th><th scope=col>3rd Qu.</th><th scope=col>Max.</th><th scope=col>NA's</th><th scope=col>sd</th><th scope=col>sd_err_of_mean</th></tr>\n",
       "</thead>\n",
       "<tbody>\n",
       "\t<tr><th scope=row>min_mapq_SNP</th><td>1</td><td>42</td><td>42</td><td>41.85953</td><td>42</td><td>42</td><td>74945265</td><td>28326634</td><td>10706461</td></tr>\n",
       "</tbody>\n",
       "</table>\n"
      ],
      "text/latex": [
       "A matrix: 1 × 9 of type dbl\n",
       "\\begin{tabular}{r|lllllllll}\n",
       "  & Min. & 1st Qu. & Median & Mean & 3rd Qu. & Max. & NA's & sd & sd\\_err\\_of\\_mean\\\\\n",
       "\\hline\n",
       "\tmin\\_mapq\\_SNP & 1 & 42 & 42 & 41.85953 & 42 & 42 & 74945265 & 28326634 & 10706461\\\\\n",
       "\\end{tabular}\n"
      ],
      "text/markdown": [
       "\n",
       "A matrix: 1 × 9 of type dbl\n",
       "\n",
       "| <!--/--> | Min. | 1st Qu. | Median | Mean | 3rd Qu. | Max. | NA's | sd | sd_err_of_mean |\n",
       "|---|---|---|---|---|---|---|---|---|---|\n",
       "| min_mapq_SNP | 1 | 42 | 42 | 41.85953 | 42 | 42 | 74945265 | 28326634 | 10706461 |\n",
       "\n"
      ],
      "text/plain": [
       "             Min. 1st Qu. Median Mean     3rd Qu. Max. NA's     sd      \n",
       "min_mapq_SNP 1    42      42     41.85953 42      42   74945265 28326634\n",
       "             sd_err_of_mean\n",
       "min_mapq_SNP 10706461      "
      ]
     },
     "metadata": {},
     "output_type": "display_data"
    },
    {
     "data": {
      "text/html": [
       "<table class=\"dataframe\">\n",
       "<caption>A matrix: 1 × 9 of type dbl</caption>\n",
       "<thead>\n",
       "\t<tr><th></th><th scope=col>Min.</th><th scope=col>1st Qu.</th><th scope=col>Median</th><th scope=col>Mean</th><th scope=col>3rd Qu.</th><th scope=col>Max.</th><th scope=col>NA's</th><th scope=col>sd</th><th scope=col>sd_err_of_mean</th></tr>\n",
       "</thead>\n",
       "<tbody>\n",
       "\t<tr><th scope=row>min_mapq_SNP</th><td>0</td><td>42</td><td>42</td><td>41.71466</td><td>42</td><td>42</td><td>74435271</td><td>28133875</td><td>10633605</td></tr>\n",
       "</tbody>\n",
       "</table>\n"
      ],
      "text/latex": [
       "A matrix: 1 × 9 of type dbl\n",
       "\\begin{tabular}{r|lllllllll}\n",
       "  & Min. & 1st Qu. & Median & Mean & 3rd Qu. & Max. & NA's & sd & sd\\_err\\_of\\_mean\\\\\n",
       "\\hline\n",
       "\tmin\\_mapq\\_SNP & 0 & 42 & 42 & 41.71466 & 42 & 42 & 74435271 & 28133875 & 10633605\\\\\n",
       "\\end{tabular}\n"
      ],
      "text/markdown": [
       "\n",
       "A matrix: 1 × 9 of type dbl\n",
       "\n",
       "| <!--/--> | Min. | 1st Qu. | Median | Mean | 3rd Qu. | Max. | NA's | sd | sd_err_of_mean |\n",
       "|---|---|---|---|---|---|---|---|---|---|\n",
       "| min_mapq_SNP | 0 | 42 | 42 | 41.71466 | 42 | 42 | 74435271 | 28133875 | 10633605 |\n",
       "\n"
      ],
      "text/plain": [
       "             Min. 1st Qu. Median Mean     3rd Qu. Max. NA's     sd      \n",
       "min_mapq_SNP 0    42      42     41.71466 42      42   74435271 28133875\n",
       "             sd_err_of_mean\n",
       "min_mapq_SNP 10633605      "
      ]
     },
     "metadata": {},
     "output_type": "display_data"
    }
   ],
   "source": [
    "summary_x(bam2feat_py$min_mapq_SNP)\n",
    "summary_x(bam2feat$min_mapq_SNP)"
   ]
  },
  {
   "cell_type": "code",
   "execution_count": 41,
   "id": "3cc70480",
   "metadata": {
    "ExecuteTime": {
     "end_time": "2021-07-17T13:12:34.093575Z",
     "start_time": "2021-07-17T13:02:39.399Z"
    }
   },
   "outputs": [
    {
     "data": {
      "text/html": [
       "<table class=\"dataframe\">\n",
       "<caption>A matrix: 1 × 9 of type dbl</caption>\n",
       "<thead>\n",
       "\t<tr><th></th><th scope=col>Min.</th><th scope=col>1st Qu.</th><th scope=col>Median</th><th scope=col>Mean</th><th scope=col>3rd Qu.</th><th scope=col>Max.</th><th scope=col>NA's</th><th scope=col>sd</th><th scope=col>sd_err_of_mean</th></tr>\n",
       "</thead>\n",
       "<tbody>\n",
       "\t<tr><th scope=row>mean_mapq_SNP</th><td>1</td><td>42</td><td>42</td><td>41.87337</td><td>42</td><td>42</td><td>74945265</td><td>28326634</td><td>10706461</td></tr>\n",
       "</tbody>\n",
       "</table>\n"
      ],
      "text/latex": [
       "A matrix: 1 × 9 of type dbl\n",
       "\\begin{tabular}{r|lllllllll}\n",
       "  & Min. & 1st Qu. & Median & Mean & 3rd Qu. & Max. & NA's & sd & sd\\_err\\_of\\_mean\\\\\n",
       "\\hline\n",
       "\tmean\\_mapq\\_SNP & 1 & 42 & 42 & 41.87337 & 42 & 42 & 74945265 & 28326634 & 10706461\\\\\n",
       "\\end{tabular}\n"
      ],
      "text/markdown": [
       "\n",
       "A matrix: 1 × 9 of type dbl\n",
       "\n",
       "| <!--/--> | Min. | 1st Qu. | Median | Mean | 3rd Qu. | Max. | NA's | sd | sd_err_of_mean |\n",
       "|---|---|---|---|---|---|---|---|---|---|\n",
       "| mean_mapq_SNP | 1 | 42 | 42 | 41.87337 | 42 | 42 | 74945265 | 28326634 | 10706461 |\n",
       "\n"
      ],
      "text/plain": [
       "              Min. 1st Qu. Median Mean     3rd Qu. Max. NA's     sd      \n",
       "mean_mapq_SNP 1    42      42     41.87337 42      42   74945265 28326634\n",
       "              sd_err_of_mean\n",
       "mean_mapq_SNP 10706461      "
      ]
     },
     "metadata": {},
     "output_type": "display_data"
    },
    {
     "data": {
      "text/html": [
       "<table class=\"dataframe\">\n",
       "<caption>A matrix: 1 × 9 of type dbl</caption>\n",
       "<thead>\n",
       "\t<tr><th></th><th scope=col>Min.</th><th scope=col>1st Qu.</th><th scope=col>Median</th><th scope=col>Mean</th><th scope=col>3rd Qu.</th><th scope=col>Max.</th><th scope=col>NA's</th><th scope=col>sd</th><th scope=col>sd_err_of_mean</th></tr>\n",
       "</thead>\n",
       "<tbody>\n",
       "\t<tr><th scope=row>mean_mapq_SNP</th><td>0</td><td>42</td><td>42</td><td>41.73628</td><td>42</td><td>42</td><td>74435271</td><td>28133875</td><td>10633605</td></tr>\n",
       "</tbody>\n",
       "</table>\n"
      ],
      "text/latex": [
       "A matrix: 1 × 9 of type dbl\n",
       "\\begin{tabular}{r|lllllllll}\n",
       "  & Min. & 1st Qu. & Median & Mean & 3rd Qu. & Max. & NA's & sd & sd\\_err\\_of\\_mean\\\\\n",
       "\\hline\n",
       "\tmean\\_mapq\\_SNP & 0 & 42 & 42 & 41.73628 & 42 & 42 & 74435271 & 28133875 & 10633605\\\\\n",
       "\\end{tabular}\n"
      ],
      "text/markdown": [
       "\n",
       "A matrix: 1 × 9 of type dbl\n",
       "\n",
       "| <!--/--> | Min. | 1st Qu. | Median | Mean | 3rd Qu. | Max. | NA's | sd | sd_err_of_mean |\n",
       "|---|---|---|---|---|---|---|---|---|---|\n",
       "| mean_mapq_SNP | 0 | 42 | 42 | 41.73628 | 42 | 42 | 74435271 | 28133875 | 10633605 |\n",
       "\n"
      ],
      "text/plain": [
       "              Min. 1st Qu. Median Mean     3rd Qu. Max. NA's     sd      \n",
       "mean_mapq_SNP 0    42      42     41.73628 42      42   74435271 28133875\n",
       "              sd_err_of_mean\n",
       "mean_mapq_SNP 10633605      "
      ]
     },
     "metadata": {},
     "output_type": "display_data"
    }
   ],
   "source": [
    "summary_x(bam2feat_py$mean_mapq_SNP)\n",
    "summary_x(bam2feat$mean_mapq_SNP)"
   ]
  },
  {
   "cell_type": "code",
   "execution_count": 42,
   "id": "f7831ca9",
   "metadata": {
    "ExecuteTime": {
     "end_time": "2021-07-17T13:12:35.774213Z",
     "start_time": "2021-07-17T13:02:39.504Z"
    }
   },
   "outputs": [
    {
     "data": {
      "text/html": [
       "<table class=\"dataframe\">\n",
       "<caption>A matrix: 1 × 9 of type dbl</caption>\n",
       "<thead>\n",
       "\t<tr><th></th><th scope=col>Min.</th><th scope=col>1st Qu.</th><th scope=col>Median</th><th scope=col>Mean</th><th scope=col>3rd Qu.</th><th scope=col>Max.</th><th scope=col>NA's</th><th scope=col>sd</th><th scope=col>sd_err_of_mean</th></tr>\n",
       "</thead>\n",
       "<tbody>\n",
       "\t<tr><th scope=row>stdev_mapq_SNP</th><td>0</td><td>0</td><td>0</td><td>0.06168604</td><td>0</td><td>29</td><td>76899114</td><td>29065131</td><td>10985587</td></tr>\n",
       "</tbody>\n",
       "</table>\n"
      ],
      "text/latex": [
       "A matrix: 1 × 9 of type dbl\n",
       "\\begin{tabular}{r|lllllllll}\n",
       "  & Min. & 1st Qu. & Median & Mean & 3rd Qu. & Max. & NA's & sd & sd\\_err\\_of\\_mean\\\\\n",
       "\\hline\n",
       "\tstdev\\_mapq\\_SNP & 0 & 0 & 0 & 0.06168604 & 0 & 29 & 76899114 & 29065131 & 10985587\\\\\n",
       "\\end{tabular}\n"
      ],
      "text/markdown": [
       "\n",
       "A matrix: 1 × 9 of type dbl\n",
       "\n",
       "| <!--/--> | Min. | 1st Qu. | Median | Mean | 3rd Qu. | Max. | NA's | sd | sd_err_of_mean |\n",
       "|---|---|---|---|---|---|---|---|---|---|\n",
       "| stdev_mapq_SNP | 0 | 0 | 0 | 0.06168604 | 0 | 29 | 76899114 | 29065131 | 10985587 |\n",
       "\n"
      ],
      "text/plain": [
       "               Min. 1st Qu. Median Mean       3rd Qu. Max. NA's     sd      \n",
       "stdev_mapq_SNP 0    0       0      0.06168604 0       29   76899114 29065131\n",
       "               sd_err_of_mean\n",
       "stdev_mapq_SNP 10985587      "
      ]
     },
     "metadata": {},
     "output_type": "display_data"
    },
    {
     "data": {
      "text/html": [
       "<table class=\"dataframe\">\n",
       "<caption>A matrix: 1 × 9 of type dbl</caption>\n",
       "<thead>\n",
       "\t<tr><th></th><th scope=col>Min.</th><th scope=col>1st Qu.</th><th scope=col>Median</th><th scope=col>Mean</th><th scope=col>3rd Qu.</th><th scope=col>Max.</th><th scope=col>NA's</th><th scope=col>sd</th><th scope=col>sd_err_of_mean</th></tr>\n",
       "</thead>\n",
       "<tbody>\n",
       "\t<tr><th scope=row>stdev_mapq_SNP</th><td>0</td><td>0</td><td>0</td><td>0.5307096</td><td>0</td><td>29.7</td><td>77361375</td><td>29239849</td><td>11051624</td></tr>\n",
       "</tbody>\n",
       "</table>\n"
      ],
      "text/latex": [
       "A matrix: 1 × 9 of type dbl\n",
       "\\begin{tabular}{r|lllllllll}\n",
       "  & Min. & 1st Qu. & Median & Mean & 3rd Qu. & Max. & NA's & sd & sd\\_err\\_of\\_mean\\\\\n",
       "\\hline\n",
       "\tstdev\\_mapq\\_SNP & 0 & 0 & 0 & 0.5307096 & 0 & 29.7 & 77361375 & 29239849 & 11051624\\\\\n",
       "\\end{tabular}\n"
      ],
      "text/markdown": [
       "\n",
       "A matrix: 1 × 9 of type dbl\n",
       "\n",
       "| <!--/--> | Min. | 1st Qu. | Median | Mean | 3rd Qu. | Max. | NA's | sd | sd_err_of_mean |\n",
       "|---|---|---|---|---|---|---|---|---|---|\n",
       "| stdev_mapq_SNP | 0 | 0 | 0 | 0.5307096 | 0 | 29.7 | 77361375 | 29239849 | 11051624 |\n",
       "\n"
      ],
      "text/plain": [
       "               Min. 1st Qu. Median Mean      3rd Qu. Max. NA's     sd      \n",
       "stdev_mapq_SNP 0    0       0      0.5307096 0       29.7 77361375 29239849\n",
       "               sd_err_of_mean\n",
       "stdev_mapq_SNP 11051624      "
      ]
     },
     "metadata": {},
     "output_type": "display_data"
    }
   ],
   "source": [
    "summary_x(bam2feat_py$stdev_mapq_SNP)\n",
    "summary_x(bam2feat$stdev_mapq_SNP)"
   ]
  },
  {
   "cell_type": "code",
   "execution_count": 43,
   "id": "bb9e4ff5",
   "metadata": {
    "ExecuteTime": {
     "end_time": "2021-07-17T13:12:38.306559Z",
     "start_time": "2021-07-17T13:02:39.751Z"
    }
   },
   "outputs": [
    {
     "data": {
      "text/html": [
       "<table class=\"dataframe\">\n",
       "<caption>A matrix: 1 × 9 of type dbl</caption>\n",
       "<thead>\n",
       "\t<tr><th></th><th scope=col>Min.</th><th scope=col>1st Qu.</th><th scope=col>Median</th><th scope=col>Mean</th><th scope=col>3rd Qu.</th><th scope=col>Max.</th><th scope=col>NA's</th><th scope=col>sd</th><th scope=col>sd_err_of_mean</th></tr>\n",
       "</thead>\n",
       "<tbody>\n",
       "\t<tr><th scope=row>max_mapq_SNP</th><td>1</td><td>42</td><td>42</td><td>41.88892</td><td>42</td><td>42</td><td>74945265</td><td>28326634</td><td>10706461</td></tr>\n",
       "</tbody>\n",
       "</table>\n"
      ],
      "text/latex": [
       "A matrix: 1 × 9 of type dbl\n",
       "\\begin{tabular}{r|lllllllll}\n",
       "  & Min. & 1st Qu. & Median & Mean & 3rd Qu. & Max. & NA's & sd & sd\\_err\\_of\\_mean\\\\\n",
       "\\hline\n",
       "\tmax\\_mapq\\_SNP & 1 & 42 & 42 & 41.88892 & 42 & 42 & 74945265 & 28326634 & 10706461\\\\\n",
       "\\end{tabular}\n"
      ],
      "text/markdown": [
       "\n",
       "A matrix: 1 × 9 of type dbl\n",
       "\n",
       "| <!--/--> | Min. | 1st Qu. | Median | Mean | 3rd Qu. | Max. | NA's | sd | sd_err_of_mean |\n",
       "|---|---|---|---|---|---|---|---|---|---|\n",
       "| max_mapq_SNP | 1 | 42 | 42 | 41.88892 | 42 | 42 | 74945265 | 28326634 | 10706461 |\n",
       "\n"
      ],
      "text/plain": [
       "             Min. 1st Qu. Median Mean     3rd Qu. Max. NA's     sd      \n",
       "max_mapq_SNP 1    42      42     41.88892 42      42   74945265 28326634\n",
       "             sd_err_of_mean\n",
       "max_mapq_SNP 10706461      "
      ]
     },
     "metadata": {},
     "output_type": "display_data"
    },
    {
     "data": {
      "text/html": [
       "<table class=\"dataframe\">\n",
       "<caption>A matrix: 1 × 9 of type dbl</caption>\n",
       "<thead>\n",
       "\t<tr><th></th><th scope=col>Min.</th><th scope=col>1st Qu.</th><th scope=col>Median</th><th scope=col>Mean</th><th scope=col>3rd Qu.</th><th scope=col>Max.</th><th scope=col>NA's</th><th scope=col>sd</th><th scope=col>sd_err_of_mean</th></tr>\n",
       "</thead>\n",
       "<tbody>\n",
       "\t<tr><th scope=row>max_mapq_SNP</th><td>0</td><td>42</td><td>42</td><td>41.76204</td><td>42</td><td>42</td><td>74435271</td><td>28133875</td><td>10633605</td></tr>\n",
       "</tbody>\n",
       "</table>\n"
      ],
      "text/latex": [
       "A matrix: 1 × 9 of type dbl\n",
       "\\begin{tabular}{r|lllllllll}\n",
       "  & Min. & 1st Qu. & Median & Mean & 3rd Qu. & Max. & NA's & sd & sd\\_err\\_of\\_mean\\\\\n",
       "\\hline\n",
       "\tmax\\_mapq\\_SNP & 0 & 42 & 42 & 41.76204 & 42 & 42 & 74435271 & 28133875 & 10633605\\\\\n",
       "\\end{tabular}\n"
      ],
      "text/markdown": [
       "\n",
       "A matrix: 1 × 9 of type dbl\n",
       "\n",
       "| <!--/--> | Min. | 1st Qu. | Median | Mean | 3rd Qu. | Max. | NA's | sd | sd_err_of_mean |\n",
       "|---|---|---|---|---|---|---|---|---|---|\n",
       "| max_mapq_SNP | 0 | 42 | 42 | 41.76204 | 42 | 42 | 74435271 | 28133875 | 10633605 |\n",
       "\n"
      ],
      "text/plain": [
       "             Min. 1st Qu. Median Mean     3rd Qu. Max. NA's     sd      \n",
       "max_mapq_SNP 0    42      42     41.76204 42      42   74435271 28133875\n",
       "             sd_err_of_mean\n",
       "max_mapq_SNP 10633605      "
      ]
     },
     "metadata": {},
     "output_type": "display_data"
    }
   ],
   "source": [
    "summary_x(bam2feat_py$max_mapq_SNP)\n",
    "summary_x(bam2feat$max_mapq_SNP)"
   ]
  },
  {
   "cell_type": "code",
   "execution_count": 44,
   "id": "6ff2cd41",
   "metadata": {
    "ExecuteTime": {
     "end_time": "2021-07-17T13:12:43.546181Z",
     "start_time": "2021-07-17T13:02:39.822Z"
    }
   },
   "outputs": [
    {
     "data": {
      "text/html": [
       "<table class=\"dataframe\">\n",
       "<caption>A matrix: 1 × 8 of type dbl</caption>\n",
       "<thead>\n",
       "\t<tr><th></th><th scope=col>Min.</th><th scope=col>1st Qu.</th><th scope=col>Median</th><th scope=col>Mean</th><th scope=col>3rd Qu.</th><th scope=col>Max.</th><th scope=col>sd</th><th scope=col>sd_err_of_mean</th></tr>\n",
       "</thead>\n",
       "<tbody>\n",
       "\t<tr><th scope=row>num_proper_SNP</th><td>0</td><td>0</td><td>0</td><td>0.04165136</td><td>0</td><td>286</td><td>116.756</td><td>47.665</td></tr>\n",
       "</tbody>\n",
       "</table>\n"
      ],
      "text/latex": [
       "A matrix: 1 × 8 of type dbl\n",
       "\\begin{tabular}{r|llllllll}\n",
       "  & Min. & 1st Qu. & Median & Mean & 3rd Qu. & Max. & sd & sd\\_err\\_of\\_mean\\\\\n",
       "\\hline\n",
       "\tnum\\_proper\\_SNP & 0 & 0 & 0 & 0.04165136 & 0 & 286 & 116.756 & 47.665\\\\\n",
       "\\end{tabular}\n"
      ],
      "text/markdown": [
       "\n",
       "A matrix: 1 × 8 of type dbl\n",
       "\n",
       "| <!--/--> | Min. | 1st Qu. | Median | Mean | 3rd Qu. | Max. | sd | sd_err_of_mean |\n",
       "|---|---|---|---|---|---|---|---|---|\n",
       "| num_proper_SNP | 0 | 0 | 0 | 0.04165136 | 0 | 286 | 116.756 | 47.665 |\n",
       "\n"
      ],
      "text/plain": [
       "               Min. 1st Qu. Median Mean       3rd Qu. Max. sd     \n",
       "num_proper_SNP 0    0       0      0.04165136 0       286  116.756\n",
       "               sd_err_of_mean\n",
       "num_proper_SNP 47.665        "
      ]
     },
     "metadata": {},
     "output_type": "display_data"
    },
    {
     "data": {
      "text/html": [
       "<table class=\"dataframe\">\n",
       "<caption>A matrix: 1 × 8 of type dbl</caption>\n",
       "<thead>\n",
       "\t<tr><th></th><th scope=col>Min.</th><th scope=col>1st Qu.</th><th scope=col>Median</th><th scope=col>Mean</th><th scope=col>3rd Qu.</th><th scope=col>Max.</th><th scope=col>sd</th><th scope=col>sd_err_of_mean</th></tr>\n",
       "</thead>\n",
       "<tbody>\n",
       "\t<tr><th scope=row>num_proper_SNP</th><td>0</td><td>0</td><td>0</td><td>0.0418745</td><td>0</td><td>302</td><td>123.288</td><td>50.332</td></tr>\n",
       "</tbody>\n",
       "</table>\n"
      ],
      "text/latex": [
       "A matrix: 1 × 8 of type dbl\n",
       "\\begin{tabular}{r|llllllll}\n",
       "  & Min. & 1st Qu. & Median & Mean & 3rd Qu. & Max. & sd & sd\\_err\\_of\\_mean\\\\\n",
       "\\hline\n",
       "\tnum\\_proper\\_SNP & 0 & 0 & 0 & 0.0418745 & 0 & 302 & 123.288 & 50.332\\\\\n",
       "\\end{tabular}\n"
      ],
      "text/markdown": [
       "\n",
       "A matrix: 1 × 8 of type dbl\n",
       "\n",
       "| <!--/--> | Min. | 1st Qu. | Median | Mean | 3rd Qu. | Max. | sd | sd_err_of_mean |\n",
       "|---|---|---|---|---|---|---|---|---|\n",
       "| num_proper_SNP | 0 | 0 | 0 | 0.0418745 | 0 | 302 | 123.288 | 50.332 |\n",
       "\n"
      ],
      "text/plain": [
       "               Min. 1st Qu. Median Mean      3rd Qu. Max. sd     \n",
       "num_proper_SNP 0    0       0      0.0418745 0       302  123.288\n",
       "               sd_err_of_mean\n",
       "num_proper_SNP 50.332        "
      ]
     },
     "metadata": {},
     "output_type": "display_data"
    }
   ],
   "source": [
    "summary_x(bam2feat_py$num_proper_SNP)\n",
    "summary_x(bam2feat$num_proper_SNP)"
   ]
  },
  {
   "cell_type": "code",
   "execution_count": 45,
   "id": "1cbecbd6",
   "metadata": {
    "ExecuteTime": {
     "end_time": "2021-07-17T13:12:48.244991Z",
     "start_time": "2021-07-17T13:02:40.039Z"
    }
   },
   "outputs": [
    {
     "data": {
      "text/html": [
       "<table class=\"dataframe\">\n",
       "<caption>A matrix: 1 × 8 of type dbl</caption>\n",
       "<thead>\n",
       "\t<tr><th></th><th scope=col>Min.</th><th scope=col>1st Qu.</th><th scope=col>Median</th><th scope=col>Mean</th><th scope=col>3rd Qu.</th><th scope=col>Max.</th><th scope=col>sd</th><th scope=col>sd_err_of_mean</th></tr>\n",
       "</thead>\n",
       "<tbody>\n",
       "\t<tr><th scope=row>num_diff_strand_SNP</th><td>0</td><td>0</td><td>0</td><td>0</td><td>0</td><td>0</td><td>0</td><td>0</td></tr>\n",
       "</tbody>\n",
       "</table>\n"
      ],
      "text/latex": [
       "A matrix: 1 × 8 of type dbl\n",
       "\\begin{tabular}{r|llllllll}\n",
       "  & Min. & 1st Qu. & Median & Mean & 3rd Qu. & Max. & sd & sd\\_err\\_of\\_mean\\\\\n",
       "\\hline\n",
       "\tnum\\_diff\\_strand\\_SNP & 0 & 0 & 0 & 0 & 0 & 0 & 0 & 0\\\\\n",
       "\\end{tabular}\n"
      ],
      "text/markdown": [
       "\n",
       "A matrix: 1 × 8 of type dbl\n",
       "\n",
       "| <!--/--> | Min. | 1st Qu. | Median | Mean | 3rd Qu. | Max. | sd | sd_err_of_mean |\n",
       "|---|---|---|---|---|---|---|---|---|\n",
       "| num_diff_strand_SNP | 0 | 0 | 0 | 0 | 0 | 0 | 0 | 0 |\n",
       "\n"
      ],
      "text/plain": [
       "                    Min. 1st Qu. Median Mean 3rd Qu. Max. sd sd_err_of_mean\n",
       "num_diff_strand_SNP 0    0       0      0    0       0    0  0             "
      ]
     },
     "metadata": {},
     "output_type": "display_data"
    },
    {
     "data": {
      "text/html": [
       "<table class=\"dataframe\">\n",
       "<caption>A matrix: 1 × 8 of type dbl</caption>\n",
       "<thead>\n",
       "\t<tr><th></th><th scope=col>Min.</th><th scope=col>1st Qu.</th><th scope=col>Median</th><th scope=col>Mean</th><th scope=col>3rd Qu.</th><th scope=col>Max.</th><th scope=col>sd</th><th scope=col>sd_err_of_mean</th></tr>\n",
       "</thead>\n",
       "<tbody>\n",
       "\t<tr><th scope=row>num_diff_strand_SNP</th><td>0</td><td>0</td><td>0</td><td>0</td><td>0</td><td>0</td><td>0</td><td>0</td></tr>\n",
       "</tbody>\n",
       "</table>\n"
      ],
      "text/latex": [
       "A matrix: 1 × 8 of type dbl\n",
       "\\begin{tabular}{r|llllllll}\n",
       "  & Min. & 1st Qu. & Median & Mean & 3rd Qu. & Max. & sd & sd\\_err\\_of\\_mean\\\\\n",
       "\\hline\n",
       "\tnum\\_diff\\_strand\\_SNP & 0 & 0 & 0 & 0 & 0 & 0 & 0 & 0\\\\\n",
       "\\end{tabular}\n"
      ],
      "text/markdown": [
       "\n",
       "A matrix: 1 × 8 of type dbl\n",
       "\n",
       "| <!--/--> | Min. | 1st Qu. | Median | Mean | 3rd Qu. | Max. | sd | sd_err_of_mean |\n",
       "|---|---|---|---|---|---|---|---|---|\n",
       "| num_diff_strand_SNP | 0 | 0 | 0 | 0 | 0 | 0 | 0 | 0 |\n",
       "\n"
      ],
      "text/plain": [
       "                    Min. 1st Qu. Median Mean 3rd Qu. Max. sd sd_err_of_mean\n",
       "num_diff_strand_SNP 0    0       0      0    0       0    0  0             "
      ]
     },
     "metadata": {},
     "output_type": "display_data"
    }
   ],
   "source": [
    "summary_x(bam2feat_py$num_diff_strand_SNP)\n",
    "summary_x(bam2feat$num_diff_strand_SNP)"
   ]
  },
  {
   "cell_type": "code",
   "execution_count": 46,
   "id": "7d126c8d",
   "metadata": {
    "ExecuteTime": {
     "end_time": "2021-07-17T13:12:53.647464Z",
     "start_time": "2021-07-17T13:02:40.199Z"
    }
   },
   "outputs": [
    {
     "data": {
      "text/html": [
       "<table class=\"dataframe\">\n",
       "<caption>A matrix: 1 × 8 of type dbl</caption>\n",
       "<thead>\n",
       "\t<tr><th></th><th scope=col>Min.</th><th scope=col>1st Qu.</th><th scope=col>Median</th><th scope=col>Mean</th><th scope=col>3rd Qu.</th><th scope=col>Max.</th><th scope=col>sd</th><th scope=col>sd_err_of_mean</th></tr>\n",
       "</thead>\n",
       "<tbody>\n",
       "\t<tr><th scope=row>num_orphans_SNP</th><td>0</td><td>0</td><td>0</td><td>0</td><td>0</td><td>0</td><td>0</td><td>0</td></tr>\n",
       "</tbody>\n",
       "</table>\n"
      ],
      "text/latex": [
       "A matrix: 1 × 8 of type dbl\n",
       "\\begin{tabular}{r|llllllll}\n",
       "  & Min. & 1st Qu. & Median & Mean & 3rd Qu. & Max. & sd & sd\\_err\\_of\\_mean\\\\\n",
       "\\hline\n",
       "\tnum\\_orphans\\_SNP & 0 & 0 & 0 & 0 & 0 & 0 & 0 & 0\\\\\n",
       "\\end{tabular}\n"
      ],
      "text/markdown": [
       "\n",
       "A matrix: 1 × 8 of type dbl\n",
       "\n",
       "| <!--/--> | Min. | 1st Qu. | Median | Mean | 3rd Qu. | Max. | sd | sd_err_of_mean |\n",
       "|---|---|---|---|---|---|---|---|---|\n",
       "| num_orphans_SNP | 0 | 0 | 0 | 0 | 0 | 0 | 0 | 0 |\n",
       "\n"
      ],
      "text/plain": [
       "                Min. 1st Qu. Median Mean 3rd Qu. Max. sd sd_err_of_mean\n",
       "num_orphans_SNP 0    0       0      0    0       0    0  0             "
      ]
     },
     "metadata": {},
     "output_type": "display_data"
    },
    {
     "data": {
      "text/html": [
       "<table class=\"dataframe\">\n",
       "<caption>A matrix: 1 × 8 of type dbl</caption>\n",
       "<thead>\n",
       "\t<tr><th></th><th scope=col>Min.</th><th scope=col>1st Qu.</th><th scope=col>Median</th><th scope=col>Mean</th><th scope=col>3rd Qu.</th><th scope=col>Max.</th><th scope=col>sd</th><th scope=col>sd_err_of_mean</th></tr>\n",
       "</thead>\n",
       "<tbody>\n",
       "\t<tr><th scope=row>num_orphans_SNP</th><td>0</td><td>0</td><td>0</td><td>0.0002352881</td><td>0</td><td>33</td><td>13.472</td><td>5.5</td></tr>\n",
       "</tbody>\n",
       "</table>\n"
      ],
      "text/latex": [
       "A matrix: 1 × 8 of type dbl\n",
       "\\begin{tabular}{r|llllllll}\n",
       "  & Min. & 1st Qu. & Median & Mean & 3rd Qu. & Max. & sd & sd\\_err\\_of\\_mean\\\\\n",
       "\\hline\n",
       "\tnum\\_orphans\\_SNP & 0 & 0 & 0 & 0.0002352881 & 0 & 33 & 13.472 & 5.5\\\\\n",
       "\\end{tabular}\n"
      ],
      "text/markdown": [
       "\n",
       "A matrix: 1 × 8 of type dbl\n",
       "\n",
       "| <!--/--> | Min. | 1st Qu. | Median | Mean | 3rd Qu. | Max. | sd | sd_err_of_mean |\n",
       "|---|---|---|---|---|---|---|---|---|\n",
       "| num_orphans_SNP | 0 | 0 | 0 | 0.0002352881 | 0 | 33 | 13.472 | 5.5 |\n",
       "\n"
      ],
      "text/plain": [
       "                Min. 1st Qu. Median Mean         3rd Qu. Max. sd    \n",
       "num_orphans_SNP 0    0       0      0.0002352881 0       33   13.472\n",
       "                sd_err_of_mean\n",
       "num_orphans_SNP 5.5           "
      ]
     },
     "metadata": {},
     "output_type": "display_data"
    }
   ],
   "source": [
    "summary_x(bam2feat_py$num_orphans_SNP)\n",
    "summary_x(bam2feat$num_orphans_SNP)"
   ]
  },
  {
   "cell_type": "code",
   "execution_count": 47,
   "id": "292d3c85",
   "metadata": {
    "ExecuteTime": {
     "end_time": "2021-07-17T13:13:00.439278Z",
     "start_time": "2021-07-17T13:02:40.383Z"
    }
   },
   "outputs": [
    {
     "data": {
      "text/html": [
       "<table class=\"dataframe\">\n",
       "<caption>A matrix: 1 × 8 of type dbl</caption>\n",
       "<thead>\n",
       "\t<tr><th></th><th scope=col>Min.</th><th scope=col>1st Qu.</th><th scope=col>Median</th><th scope=col>Mean</th><th scope=col>3rd Qu.</th><th scope=col>Max.</th><th scope=col>sd</th><th scope=col>sd_err_of_mean</th></tr>\n",
       "</thead>\n",
       "<tbody>\n",
       "\t<tr><th scope=row>num_supplementary_SNP</th><td>0</td><td>0</td><td>0</td><td>0</td><td>0</td><td>0</td><td>0</td><td>0</td></tr>\n",
       "</tbody>\n",
       "</table>\n"
      ],
      "text/latex": [
       "A matrix: 1 × 8 of type dbl\n",
       "\\begin{tabular}{r|llllllll}\n",
       "  & Min. & 1st Qu. & Median & Mean & 3rd Qu. & Max. & sd & sd\\_err\\_of\\_mean\\\\\n",
       "\\hline\n",
       "\tnum\\_supplementary\\_SNP & 0 & 0 & 0 & 0 & 0 & 0 & 0 & 0\\\\\n",
       "\\end{tabular}\n"
      ],
      "text/markdown": [
       "\n",
       "A matrix: 1 × 8 of type dbl\n",
       "\n",
       "| <!--/--> | Min. | 1st Qu. | Median | Mean | 3rd Qu. | Max. | sd | sd_err_of_mean |\n",
       "|---|---|---|---|---|---|---|---|---|\n",
       "| num_supplementary_SNP | 0 | 0 | 0 | 0 | 0 | 0 | 0 | 0 |\n",
       "\n"
      ],
      "text/plain": [
       "                      Min. 1st Qu. Median Mean 3rd Qu. Max. sd sd_err_of_mean\n",
       "num_supplementary_SNP 0    0       0      0    0       0    0  0             "
      ]
     },
     "metadata": {},
     "output_type": "display_data"
    },
    {
     "data": {
      "text/html": [
       "<table class=\"dataframe\">\n",
       "<caption>A matrix: 1 × 8 of type dbl</caption>\n",
       "<thead>\n",
       "\t<tr><th></th><th scope=col>Min.</th><th scope=col>1st Qu.</th><th scope=col>Median</th><th scope=col>Mean</th><th scope=col>3rd Qu.</th><th scope=col>Max.</th><th scope=col>sd</th><th scope=col>sd_err_of_mean</th></tr>\n",
       "</thead>\n",
       "<tbody>\n",
       "\t<tr><th scope=row>num_supplementary_SNP</th><td>0</td><td>0</td><td>0</td><td>0</td><td>0</td><td>0</td><td>0</td><td>0</td></tr>\n",
       "</tbody>\n",
       "</table>\n"
      ],
      "text/latex": [
       "A matrix: 1 × 8 of type dbl\n",
       "\\begin{tabular}{r|llllllll}\n",
       "  & Min. & 1st Qu. & Median & Mean & 3rd Qu. & Max. & sd & sd\\_err\\_of\\_mean\\\\\n",
       "\\hline\n",
       "\tnum\\_supplementary\\_SNP & 0 & 0 & 0 & 0 & 0 & 0 & 0 & 0\\\\\n",
       "\\end{tabular}\n"
      ],
      "text/markdown": [
       "\n",
       "A matrix: 1 × 8 of type dbl\n",
       "\n",
       "| <!--/--> | Min. | 1st Qu. | Median | Mean | 3rd Qu. | Max. | sd | sd_err_of_mean |\n",
       "|---|---|---|---|---|---|---|---|---|\n",
       "| num_supplementary_SNP | 0 | 0 | 0 | 0 | 0 | 0 | 0 | 0 |\n",
       "\n"
      ],
      "text/plain": [
       "                      Min. 1st Qu. Median Mean 3rd Qu. Max. sd sd_err_of_mean\n",
       "num_supplementary_SNP 0    0       0      0    0       0    0  0             "
      ]
     },
     "metadata": {},
     "output_type": "display_data"
    }
   ],
   "source": [
    "summary_x(bam2feat_py$num_supplementary_SNP)\n",
    "summary_x(bam2feat$num_supplementary_SNP)"
   ]
  },
  {
   "cell_type": "code",
   "execution_count": 48,
   "id": "4a67b9e2",
   "metadata": {
    "ExecuteTime": {
     "end_time": "2021-07-17T13:13:05.197587Z",
     "start_time": "2021-07-17T13:02:40.519Z"
    }
   },
   "outputs": [
    {
     "data": {
      "text/html": [
       "<table class=\"dataframe\">\n",
       "<caption>A matrix: 1 × 8 of type dbl</caption>\n",
       "<thead>\n",
       "\t<tr><th></th><th scope=col>Min.</th><th scope=col>1st Qu.</th><th scope=col>Median</th><th scope=col>Mean</th><th scope=col>3rd Qu.</th><th scope=col>Max.</th><th scope=col>sd</th><th scope=col>sd_err_of_mean</th></tr>\n",
       "</thead>\n",
       "<tbody>\n",
       "\t<tr><th scope=row>num_secondary_SNP</th><td>0</td><td>0</td><td>0</td><td>0</td><td>0</td><td>0</td><td>0</td><td>0</td></tr>\n",
       "</tbody>\n",
       "</table>\n"
      ],
      "text/latex": [
       "A matrix: 1 × 8 of type dbl\n",
       "\\begin{tabular}{r|llllllll}\n",
       "  & Min. & 1st Qu. & Median & Mean & 3rd Qu. & Max. & sd & sd\\_err\\_of\\_mean\\\\\n",
       "\\hline\n",
       "\tnum\\_secondary\\_SNP & 0 & 0 & 0 & 0 & 0 & 0 & 0 & 0\\\\\n",
       "\\end{tabular}\n"
      ],
      "text/markdown": [
       "\n",
       "A matrix: 1 × 8 of type dbl\n",
       "\n",
       "| <!--/--> | Min. | 1st Qu. | Median | Mean | 3rd Qu. | Max. | sd | sd_err_of_mean |\n",
       "|---|---|---|---|---|---|---|---|---|\n",
       "| num_secondary_SNP | 0 | 0 | 0 | 0 | 0 | 0 | 0 | 0 |\n",
       "\n"
      ],
      "text/plain": [
       "                  Min. 1st Qu. Median Mean 3rd Qu. Max. sd sd_err_of_mean\n",
       "num_secondary_SNP 0    0       0      0    0       0    0  0             "
      ]
     },
     "metadata": {},
     "output_type": "display_data"
    },
    {
     "data": {
      "text/html": [
       "<table class=\"dataframe\">\n",
       "<caption>A matrix: 1 × 8 of type dbl</caption>\n",
       "<thead>\n",
       "\t<tr><th></th><th scope=col>Min.</th><th scope=col>1st Qu.</th><th scope=col>Median</th><th scope=col>Mean</th><th scope=col>3rd Qu.</th><th scope=col>Max.</th><th scope=col>sd</th><th scope=col>sd_err_of_mean</th></tr>\n",
       "</thead>\n",
       "<tbody>\n",
       "\t<tr><th scope=row>num_secondary_SNP</th><td>0</td><td>0</td><td>0</td><td>0</td><td>0</td><td>0</td><td>0</td><td>0</td></tr>\n",
       "</tbody>\n",
       "</table>\n"
      ],
      "text/latex": [
       "A matrix: 1 × 8 of type dbl\n",
       "\\begin{tabular}{r|llllllll}\n",
       "  & Min. & 1st Qu. & Median & Mean & 3rd Qu. & Max. & sd & sd\\_err\\_of\\_mean\\\\\n",
       "\\hline\n",
       "\tnum\\_secondary\\_SNP & 0 & 0 & 0 & 0 & 0 & 0 & 0 & 0\\\\\n",
       "\\end{tabular}\n"
      ],
      "text/markdown": [
       "\n",
       "A matrix: 1 × 8 of type dbl\n",
       "\n",
       "| <!--/--> | Min. | 1st Qu. | Median | Mean | 3rd Qu. | Max. | sd | sd_err_of_mean |\n",
       "|---|---|---|---|---|---|---|---|---|\n",
       "| num_secondary_SNP | 0 | 0 | 0 | 0 | 0 | 0 | 0 | 0 |\n",
       "\n"
      ],
      "text/plain": [
       "                  Min. 1st Qu. Median Mean 3rd Qu. Max. sd sd_err_of_mean\n",
       "num_secondary_SNP 0    0       0      0    0       0    0  0             "
      ]
     },
     "metadata": {},
     "output_type": "display_data"
    }
   ],
   "source": [
    "summary_x(bam2feat_py$num_secondary_SNP)\n",
    "summary_x(bam2feat$num_secondary_SNP)"
   ]
  },
  {
   "cell_type": "code",
   "execution_count": 49,
   "id": "c6ca16b8",
   "metadata": {
    "ExecuteTime": {
     "end_time": "2021-07-17T13:13:09.986940Z",
     "start_time": "2021-07-17T13:02:40.671Z"
    }
   },
   "outputs": [
    {
     "data": {
      "text/html": [
       "<table class=\"dataframe\">\n",
       "<caption>A matrix: 1 × 8 of type dbl</caption>\n",
       "<thead>\n",
       "\t<tr><th></th><th scope=col>Min.</th><th scope=col>1st Qu.</th><th scope=col>Median</th><th scope=col>Mean</th><th scope=col>3rd Qu.</th><th scope=col>Max.</th><th scope=col>sd</th><th scope=col>sd_err_of_mean</th></tr>\n",
       "</thead>\n",
       "<tbody>\n",
       "\t<tr><th scope=row>num_discordant_SNP</th><td>0</td><td>0</td><td>0</td><td>0</td><td>0</td><td>0</td><td>0</td><td>0</td></tr>\n",
       "</tbody>\n",
       "</table>\n"
      ],
      "text/latex": [
       "A matrix: 1 × 8 of type dbl\n",
       "\\begin{tabular}{r|llllllll}\n",
       "  & Min. & 1st Qu. & Median & Mean & 3rd Qu. & Max. & sd & sd\\_err\\_of\\_mean\\\\\n",
       "\\hline\n",
       "\tnum\\_discordant\\_SNP & 0 & 0 & 0 & 0 & 0 & 0 & 0 & 0\\\\\n",
       "\\end{tabular}\n"
      ],
      "text/markdown": [
       "\n",
       "A matrix: 1 × 8 of type dbl\n",
       "\n",
       "| <!--/--> | Min. | 1st Qu. | Median | Mean | 3rd Qu. | Max. | sd | sd_err_of_mean |\n",
       "|---|---|---|---|---|---|---|---|---|\n",
       "| num_discordant_SNP | 0 | 0 | 0 | 0 | 0 | 0 | 0 | 0 |\n",
       "\n"
      ],
      "text/plain": [
       "                   Min. 1st Qu. Median Mean 3rd Qu. Max. sd sd_err_of_mean\n",
       "num_discordant_SNP 0    0       0      0    0       0    0  0             "
      ]
     },
     "metadata": {},
     "output_type": "display_data"
    },
    {
     "data": {
      "text/html": [
       "<table class=\"dataframe\">\n",
       "<caption>A matrix: 1 × 8 of type dbl</caption>\n",
       "<thead>\n",
       "\t<tr><th></th><th scope=col>Min.</th><th scope=col>1st Qu.</th><th scope=col>Median</th><th scope=col>Mean</th><th scope=col>3rd Qu.</th><th scope=col>Max.</th><th scope=col>sd</th><th scope=col>sd_err_of_mean</th></tr>\n",
       "</thead>\n",
       "<tbody>\n",
       "\t<tr><th scope=row>num_discordant_SNP</th><td>0</td><td>0</td><td>0</td><td>0.0001641623</td><td>0</td><td>52</td><td>21.229</td><td>8.667</td></tr>\n",
       "</tbody>\n",
       "</table>\n"
      ],
      "text/latex": [
       "A matrix: 1 × 8 of type dbl\n",
       "\\begin{tabular}{r|llllllll}\n",
       "  & Min. & 1st Qu. & Median & Mean & 3rd Qu. & Max. & sd & sd\\_err\\_of\\_mean\\\\\n",
       "\\hline\n",
       "\tnum\\_discordant\\_SNP & 0 & 0 & 0 & 0.0001641623 & 0 & 52 & 21.229 & 8.667\\\\\n",
       "\\end{tabular}\n"
      ],
      "text/markdown": [
       "\n",
       "A matrix: 1 × 8 of type dbl\n",
       "\n",
       "| <!--/--> | Min. | 1st Qu. | Median | Mean | 3rd Qu. | Max. | sd | sd_err_of_mean |\n",
       "|---|---|---|---|---|---|---|---|---|\n",
       "| num_discordant_SNP | 0 | 0 | 0 | 0.0001641623 | 0 | 52 | 21.229 | 8.667 |\n",
       "\n"
      ],
      "text/plain": [
       "                   Min. 1st Qu. Median Mean         3rd Qu. Max. sd    \n",
       "num_discordant_SNP 0    0       0      0.0001641623 0       52   21.229\n",
       "                   sd_err_of_mean\n",
       "num_discordant_SNP 8.667         "
      ]
     },
     "metadata": {},
     "output_type": "display_data"
    }
   ],
   "source": [
    "summary_x(bam2feat_py$num_discordant_SNP)\n",
    "summary_x(bam2feat$num_discordant_SNP)"
   ]
  },
  {
   "cell_type": "markdown",
   "id": "c0c2dabf",
   "metadata": {},
   "source": [
    "### G+C & entropy"
   ]
  },
  {
   "cell_type": "code",
   "execution_count": 50,
   "id": "bf5db2d8",
   "metadata": {
    "ExecuteTime": {
     "end_time": "2021-07-17T13:13:28.787337Z",
     "start_time": "2021-07-17T13:02:40.990Z"
    }
   },
   "outputs": [
    {
     "data": {
      "text/html": [
       "<table class=\"dataframe\">\n",
       "<caption>A matrix: 1 × 8 of type dbl</caption>\n",
       "<thead>\n",
       "\t<tr><th></th><th scope=col>Min.</th><th scope=col>1st Qu.</th><th scope=col>Median</th><th scope=col>Mean</th><th scope=col>3rd Qu.</th><th scope=col>Max.</th><th scope=col>sd</th><th scope=col>sd_err_of_mean</th></tr>\n",
       "</thead>\n",
       "<tbody>\n",
       "\t<tr><th scope=row>seq_window_entropy</th><td>0</td><td>1.459</td><td>1.459</td><td>1.493931</td><td>1.792</td><td>1.918</td><td>0.691</td><td>0.282</td></tr>\n",
       "</tbody>\n",
       "</table>\n"
      ],
      "text/latex": [
       "A matrix: 1 × 8 of type dbl\n",
       "\\begin{tabular}{r|llllllll}\n",
       "  & Min. & 1st Qu. & Median & Mean & 3rd Qu. & Max. & sd & sd\\_err\\_of\\_mean\\\\\n",
       "\\hline\n",
       "\tseq\\_window\\_entropy & 0 & 1.459 & 1.459 & 1.493931 & 1.792 & 1.918 & 0.691 & 0.282\\\\\n",
       "\\end{tabular}\n"
      ],
      "text/markdown": [
       "\n",
       "A matrix: 1 × 8 of type dbl\n",
       "\n",
       "| <!--/--> | Min. | 1st Qu. | Median | Mean | 3rd Qu. | Max. | sd | sd_err_of_mean |\n",
       "|---|---|---|---|---|---|---|---|---|\n",
       "| seq_window_entropy | 0 | 1.459 | 1.459 | 1.493931 | 1.792 | 1.918 | 0.691 | 0.282 |\n",
       "\n"
      ],
      "text/plain": [
       "                   Min. 1st Qu. Median Mean     3rd Qu. Max.  sd   \n",
       "seq_window_entropy 0    1.459   1.459  1.493931 1.792   1.918 0.691\n",
       "                   sd_err_of_mean\n",
       "seq_window_entropy 0.282         "
      ]
     },
     "metadata": {},
     "output_type": "display_data"
    },
    {
     "data": {
      "text/html": [
       "<table class=\"dataframe\">\n",
       "<caption>A matrix: 1 × 8 of type dbl</caption>\n",
       "<thead>\n",
       "\t<tr><th></th><th scope=col>Min.</th><th scope=col>1st Qu.</th><th scope=col>Median</th><th scope=col>Mean</th><th scope=col>3rd Qu.</th><th scope=col>Max.</th><th scope=col>sd</th><th scope=col>sd_err_of_mean</th></tr>\n",
       "</thead>\n",
       "<tbody>\n",
       "\t<tr><th scope=row>seq_window_entropy</th><td>0</td><td>1.46</td><td>1.46</td><td>1.493877</td><td>1.79</td><td>1.92</td><td>0.691</td><td>0.282</td></tr>\n",
       "</tbody>\n",
       "</table>\n"
      ],
      "text/latex": [
       "A matrix: 1 × 8 of type dbl\n",
       "\\begin{tabular}{r|llllllll}\n",
       "  & Min. & 1st Qu. & Median & Mean & 3rd Qu. & Max. & sd & sd\\_err\\_of\\_mean\\\\\n",
       "\\hline\n",
       "\tseq\\_window\\_entropy & 0 & 1.46 & 1.46 & 1.493877 & 1.79 & 1.92 & 0.691 & 0.282\\\\\n",
       "\\end{tabular}\n"
      ],
      "text/markdown": [
       "\n",
       "A matrix: 1 × 8 of type dbl\n",
       "\n",
       "| <!--/--> | Min. | 1st Qu. | Median | Mean | 3rd Qu. | Max. | sd | sd_err_of_mean |\n",
       "|---|---|---|---|---|---|---|---|---|\n",
       "| seq_window_entropy | 0 | 1.46 | 1.46 | 1.493877 | 1.79 | 1.92 | 0.691 | 0.282 |\n",
       "\n"
      ],
      "text/plain": [
       "                   Min. 1st Qu. Median Mean     3rd Qu. Max. sd   \n",
       "seq_window_entropy 0    1.46    1.46   1.493877 1.79    1.92 0.691\n",
       "                   sd_err_of_mean\n",
       "seq_window_entropy 0.282         "
      ]
     },
     "metadata": {},
     "output_type": "display_data"
    }
   ],
   "source": [
    "summary_x(bam2feat_py$seq_window_entropy)\n",
    "summary_x(bam2feat$seq_window_entropy)"
   ]
  },
  {
   "cell_type": "code",
   "execution_count": 51,
   "id": "1bbb49b5",
   "metadata": {
    "ExecuteTime": {
     "end_time": "2021-07-17T13:13:46.723102Z",
     "start_time": "2021-07-17T13:02:41.159Z"
    }
   },
   "outputs": [
    {
     "data": {
      "text/html": [
       "<table class=\"dataframe\">\n",
       "<caption>A matrix: 1 × 8 of type dbl</caption>\n",
       "<thead>\n",
       "\t<tr><th></th><th scope=col>Min.</th><th scope=col>1st Qu.</th><th scope=col>Median</th><th scope=col>Mean</th><th scope=col>3rd Qu.</th><th scope=col>Max.</th><th scope=col>sd</th><th scope=col>sd_err_of_mean</th></tr>\n",
       "</thead>\n",
       "<tbody>\n",
       "\t<tr><th scope=row>seq_window_perc_gc</th><td>0</td><td>0.5</td><td>0.667</td><td>0.5980895</td><td>0.833</td><td>1</td><td>0.343</td><td>0.14</td></tr>\n",
       "</tbody>\n",
       "</table>\n"
      ],
      "text/latex": [
       "A matrix: 1 × 8 of type dbl\n",
       "\\begin{tabular}{r|llllllll}\n",
       "  & Min. & 1st Qu. & Median & Mean & 3rd Qu. & Max. & sd & sd\\_err\\_of\\_mean\\\\\n",
       "\\hline\n",
       "\tseq\\_window\\_perc\\_gc & 0 & 0.5 & 0.667 & 0.5980895 & 0.833 & 1 & 0.343 & 0.14\\\\\n",
       "\\end{tabular}\n"
      ],
      "text/markdown": [
       "\n",
       "A matrix: 1 × 8 of type dbl\n",
       "\n",
       "| <!--/--> | Min. | 1st Qu. | Median | Mean | 3rd Qu. | Max. | sd | sd_err_of_mean |\n",
       "|---|---|---|---|---|---|---|---|---|\n",
       "| seq_window_perc_gc | 0 | 0.5 | 0.667 | 0.5980895 | 0.833 | 1 | 0.343 | 0.14 |\n",
       "\n"
      ],
      "text/plain": [
       "                   Min. 1st Qu. Median Mean      3rd Qu. Max. sd   \n",
       "seq_window_perc_gc 0    0.5     0.667  0.5980895 0.833   1    0.343\n",
       "                   sd_err_of_mean\n",
       "seq_window_perc_gc 0.14          "
      ]
     },
     "metadata": {},
     "output_type": "display_data"
    },
    {
     "data": {
      "text/html": [
       "<table class=\"dataframe\">\n",
       "<caption>A matrix: 1 × 8 of type dbl</caption>\n",
       "<thead>\n",
       "\t<tr><th></th><th scope=col>Min.</th><th scope=col>1st Qu.</th><th scope=col>Median</th><th scope=col>Mean</th><th scope=col>3rd Qu.</th><th scope=col>Max.</th><th scope=col>sd</th><th scope=col>sd_err_of_mean</th></tr>\n",
       "</thead>\n",
       "<tbody>\n",
       "\t<tr><th scope=row>seq_window_perc_gc</th><td>0</td><td>0.5</td><td>0.667</td><td>0.5980895</td><td>0.833</td><td>1</td><td>0.343</td><td>0.14</td></tr>\n",
       "</tbody>\n",
       "</table>\n"
      ],
      "text/latex": [
       "A matrix: 1 × 8 of type dbl\n",
       "\\begin{tabular}{r|llllllll}\n",
       "  & Min. & 1st Qu. & Median & Mean & 3rd Qu. & Max. & sd & sd\\_err\\_of\\_mean\\\\\n",
       "\\hline\n",
       "\tseq\\_window\\_perc\\_gc & 0 & 0.5 & 0.667 & 0.5980895 & 0.833 & 1 & 0.343 & 0.14\\\\\n",
       "\\end{tabular}\n"
      ],
      "text/markdown": [
       "\n",
       "A matrix: 1 × 8 of type dbl\n",
       "\n",
       "| <!--/--> | Min. | 1st Qu. | Median | Mean | 3rd Qu. | Max. | sd | sd_err_of_mean |\n",
       "|---|---|---|---|---|---|---|---|---|\n",
       "| seq_window_perc_gc | 0 | 0.5 | 0.667 | 0.5980895 | 0.833 | 1 | 0.343 | 0.14 |\n",
       "\n"
      ],
      "text/plain": [
       "                   Min. 1st Qu. Median Mean      3rd Qu. Max. sd   \n",
       "seq_window_perc_gc 0    0.5     0.667  0.5980895 0.833   1    0.343\n",
       "                   sd_err_of_mean\n",
       "seq_window_perc_gc 0.14          "
      ]
     },
     "metadata": {},
     "output_type": "display_data"
    }
   ],
   "source": [
    "summary_x(bam2feat_py$seq_window_perc_gc)\n",
    "summary_x(bam2feat$seq_window_perc_gc)"
   ]
  },
  {
   "cell_type": "markdown",
   "id": "72309a88",
   "metadata": {},
   "source": [
    "# sessionInfo"
   ]
  },
  {
   "cell_type": "code",
   "execution_count": 52,
   "id": "29050fcc",
   "metadata": {
    "ExecuteTime": {
     "end_time": "2021-07-17T13:13:47.767464Z",
     "start_time": "2021-07-17T13:02:42.106Z"
    }
   },
   "outputs": [
    {
     "data": {
      "text/plain": [
       "R version 4.1.0 (2021-05-18)\n",
       "Platform: x86_64-conda-linux-gnu (64-bit)\n",
       "Running under: Ubuntu 18.04.5 LTS\n",
       "\n",
       "Matrix products: default\n",
       "BLAS/LAPACK: /ebio/abt3_projects/Anxiety_Twins_Metagenomes/envs/tidyverse2/lib/libopenblasp-r0.3.12.so\n",
       "\n",
       "locale:\n",
       " [1] LC_CTYPE=en_US.UTF-8       LC_NUMERIC=C              \n",
       " [3] LC_TIME=en_US.UTF-8        LC_COLLATE=en_US.UTF-8    \n",
       " [5] LC_MONETARY=en_US.UTF-8    LC_MESSAGES=en_US.UTF-8   \n",
       " [7] LC_PAPER=en_US.UTF-8       LC_NAME=C                 \n",
       " [9] LC_ADDRESS=C               LC_TELEPHONE=C            \n",
       "[11] LC_MEASUREMENT=en_US.UTF-8 LC_IDENTIFICATION=C       \n",
       "\n",
       "attached base packages:\n",
       "[1] stats     graphics  grDevices utils     datasets  methods   base     \n",
       "\n",
       "other attached packages:\n",
       "[1] LeyLabRMisc_0.1.9 tidytable_0.6.3   data.table_1.14.0 ggplot2_3.3.5    \n",
       "[5] tidyr_1.1.3       dplyr_1.0.7      \n",
       "\n",
       "loaded via a namespace (and not attached):\n",
       " [1] pillar_1.6.1      compiler_4.1.0    R.methodsS3_1.8.1 base64enc_0.1-3  \n",
       " [5] R.utils_2.10.1    tools_4.1.0       digest_0.6.27     uuid_0.1-4       \n",
       " [9] jsonlite_1.7.2    evaluate_0.14     lifecycle_1.0.0   tibble_3.1.2     \n",
       "[13] gtable_0.3.0      pkgconfig_2.0.3   rlang_0.4.11      IRdisplay_1.0    \n",
       "[17] IRkernel_1.2      repr_1.1.3        withr_2.4.2       generics_0.1.0   \n",
       "[21] vctrs_0.3.8       grid_4.1.0        tidyselect_1.1.1  glue_1.4.2       \n",
       "[25] R6_2.5.0          fansi_0.4.2       pbdZMQ_0.3-5      purrr_0.3.4      \n",
       "[29] magrittr_2.0.1    scales_1.1.1      ellipsis_0.3.2    htmltools_0.5.1.1\n",
       "[33] colorspace_2.0-2  utf8_1.2.1        munsell_0.5.0     crayon_1.4.1     \n",
       "[37] R.oo_1.24.0      "
      ]
     },
     "metadata": {},
     "output_type": "display_data"
    }
   ],
   "source": [
    "sessionInfo()"
   ]
  }
 ],
 "metadata": {
  "kernelspec": {
   "display_name": "R [conda env:Anxiety_Twins_Metagenomes-tidyverse2]",
   "language": "R",
   "name": "conda-env-Anxiety_Twins_Metagenomes-tidyverse2-r"
  },
  "language_info": {
   "codemirror_mode": "r",
   "file_extension": ".r",
   "mimetype": "text/x-r-source",
   "name": "R",
   "pygments_lexer": "r",
   "version": "4.1.0"
  },
  "notify_time": "30",
  "toc": {
   "base_numbering": 1,
   "nav_menu": {},
   "number_sections": true,
   "sideBar": true,
   "skip_h1_title": false,
   "title_cell": "Table of Contents",
   "title_sidebar": "Contents",
   "toc_cell": true,
   "toc_position": {},
   "toc_section_display": true,
   "toc_window_display": true
  }
 },
 "nbformat": 4,
 "nbformat_minor": 5
}
