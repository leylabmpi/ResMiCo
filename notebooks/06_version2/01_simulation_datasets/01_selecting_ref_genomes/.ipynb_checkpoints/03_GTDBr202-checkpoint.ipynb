{
 "cells": [
  {
   "cell_type": "markdown",
   "id": "5dac0dd5",
   "metadata": {
    "toc": true
   },
   "source": [
    "<h1>Table of Contents<span class=\"tocSkip\"></span></h1>\n",
    "<div class=\"toc\"><ul class=\"toc-item\"><li><span><a href=\"#Goal\" data-toc-modified-id=\"Goal-1\"><span class=\"toc-item-num\">1&nbsp;&nbsp;</span>Goal</a></span></li><li><span><a href=\"#Var\" data-toc-modified-id=\"Var-2\"><span class=\"toc-item-num\">2&nbsp;&nbsp;</span>Var</a></span></li><li><span><a href=\"#Init\" data-toc-modified-id=\"Init-3\"><span class=\"toc-item-num\">3&nbsp;&nbsp;</span>Init</a></span></li><li><span><a href=\"#Load\" data-toc-modified-id=\"Load-4\"><span class=\"toc-item-num\">4&nbsp;&nbsp;</span>Load</a></span><ul class=\"toc-item\"><li><span><a href=\"#Metadata\" data-toc-modified-id=\"Metadata-4.1\"><span class=\"toc-item-num\">4.1&nbsp;&nbsp;</span>Metadata</a></span></li></ul></li><li><span><a href=\"#checkM\" data-toc-modified-id=\"checkM-5\"><span class=\"toc-item-num\">5&nbsp;&nbsp;</span>checkM</a></span></li><li><span><a href=\"#gtdb-tk\" data-toc-modified-id=\"gtdb-tk-6\"><span class=\"toc-item-num\">6&nbsp;&nbsp;</span>gtdb-tk</a></span></li><li><span><a href=\"#Filtering\" data-toc-modified-id=\"Filtering-7\"><span class=\"toc-item-num\">7&nbsp;&nbsp;</span>Filtering</a></span><ul class=\"toc-item\"><li><span><a href=\"#CheckM-quality\" data-toc-modified-id=\"CheckM-quality-7.1\"><span class=\"toc-item-num\">7.1&nbsp;&nbsp;</span>CheckM quality</a></span></li><li><span><a href=\"#MiMAG-quality\" data-toc-modified-id=\"MiMAG-quality-7.2\"><span class=\"toc-item-num\">7.2&nbsp;&nbsp;</span>MiMAG quality</a></span></li><li><span><a href=\"#ncb_genome_category\" data-toc-modified-id=\"ncb_genome_category-7.3\"><span class=\"toc-item-num\">7.3&nbsp;&nbsp;</span>ncb_genome_category</a></span></li><li><span><a href=\"#ncbi_genbank_assembly_accession\" data-toc-modified-id=\"ncbi_genbank_assembly_accession-7.4\"><span class=\"toc-item-num\">7.4&nbsp;&nbsp;</span>ncbi_genbank_assembly_accession</a></span></li><li><span><a href=\"#assembly-contiguitiy\" data-toc-modified-id=\"assembly-contiguitiy-7.5\"><span class=\"toc-item-num\">7.5&nbsp;&nbsp;</span>assembly contiguitiy</a></span></li></ul></li><li><span><a href=\"#Taxonomy\" data-toc-modified-id=\"Taxonomy-8\"><span class=\"toc-item-num\">8&nbsp;&nbsp;</span>Taxonomy</a></span></li><li><span><a href=\"#Subsampling-per-species\" data-toc-modified-id=\"Subsampling-per-species-9\"><span class=\"toc-item-num\">9&nbsp;&nbsp;</span>Subsampling per species</a></span></li><li><span><a href=\"#Selecting-train/test/validate-subsets\" data-toc-modified-id=\"Selecting-train/test/validate-subsets-10\"><span class=\"toc-item-num\">10&nbsp;&nbsp;</span>Selecting train/test/validate subsets</a></span><ul class=\"toc-item\"><li><span><a href=\"#Train/test\" data-toc-modified-id=\"Train/test-10.1\"><span class=\"toc-item-num\">10.1&nbsp;&nbsp;</span>Train/test</a></span><ul class=\"toc-item\"><li><span><a href=\"#Summary\" data-toc-modified-id=\"Summary-10.1.1\"><span class=\"toc-item-num\">10.1.1&nbsp;&nbsp;</span>Summary</a></span><ul class=\"toc-item\"><li><span><a href=\"#Writing-tables\" data-toc-modified-id=\"Writing-tables-10.1.1.1\"><span class=\"toc-item-num\">10.1.1.1&nbsp;&nbsp;</span>Writing tables</a></span></li></ul></li></ul></li><li><span><a href=\"#Taxonomy-unique-validation\" data-toc-modified-id=\"Taxonomy-unique-validation-10.2\"><span class=\"toc-item-num\">10.2&nbsp;&nbsp;</span>Taxonomy-unique validation</a></span><ul class=\"toc-item\"><li><span><a href=\"#Genus\" data-toc-modified-id=\"Genus-10.2.1\"><span class=\"toc-item-num\">10.2.1&nbsp;&nbsp;</span>Genus</a></span><ul class=\"toc-item\"><li><span><a href=\"#Writing-table\" data-toc-modified-id=\"Writing-table-10.2.1.1\"><span class=\"toc-item-num\">10.2.1.1&nbsp;&nbsp;</span>Writing table</a></span></li></ul></li><li><span><a href=\"#Family\" data-toc-modified-id=\"Family-10.2.2\"><span class=\"toc-item-num\">10.2.2&nbsp;&nbsp;</span>Family</a></span><ul class=\"toc-item\"><li><span><a href=\"#Writing-table\" data-toc-modified-id=\"Writing-table-10.2.2.1\"><span class=\"toc-item-num\">10.2.2.1&nbsp;&nbsp;</span>Writing table</a></span></li></ul></li></ul></li></ul></li><li><span><a href=\"#Downloading-all-genomes\" data-toc-modified-id=\"Downloading-all-genomes-11\"><span class=\"toc-item-num\">11&nbsp;&nbsp;</span>Downloading all genomes</a></span></li><li><span><a href=\"#--TODO--\" data-toc-modified-id=\"--TODO---12\"><span class=\"toc-item-num\">12&nbsp;&nbsp;</span>--TODO--</a></span></li></ul></div>"
   ]
  },
  {
   "cell_type": "markdown",
   "id": "97f8e7c3",
   "metadata": {},
   "source": [
    "# Goal\n",
    "\n",
    "* Selecting a new row of reference genomes from the most up-to-date GTDB release"
   ]
  },
  {
   "cell_type": "markdown",
   "id": "547f2918",
   "metadata": {},
   "source": [
    "# Var"
   ]
  },
  {
   "cell_type": "code",
   "execution_count": 1,
   "id": "bfe19a9f",
   "metadata": {
    "ExecuteTime": {
     "end_time": "2021-08-13T12:51:05.897516Z",
     "start_time": "2021-08-13T12:51:05.848Z"
    }
   },
   "outputs": [],
   "source": [
    "work_dir = '/ebio/abt3_projects/databases_no-backup/DeepMAsED/version2/ref_genomes/GTDBr202/'\n",
    "\n",
    "# GTDB base dir\n",
    "base_dir = '/ebio/abt3_projects/databases_no-backup/GTDB/release202/'\n",
    "arc_meta_file = file.path(base_dir, 'metadata', 'ar122_metadata_r202.tsv')\n",
    "bac_meta_file = file.path(base_dir, 'metadata', 'bac120_metadata_r202.tsv')\n",
    "\n",
    "# params\n",
    "threads = 4"
   ]
  },
  {
   "cell_type": "markdown",
   "id": "708cce7e",
   "metadata": {},
   "source": [
    "# Init"
   ]
  },
  {
   "cell_type": "code",
   "execution_count": 2,
   "id": "00db67aa",
   "metadata": {
    "ExecuteTime": {
     "end_time": "2021-08-13T12:51:06.476323Z",
     "start_time": "2021-08-13T12:51:05.851Z"
    }
   },
   "outputs": [
    {
     "name": "stderr",
     "output_type": "stream",
     "text": [
      "\n",
      "Attaching package: ‘dplyr’\n",
      "\n",
      "\n",
      "The following objects are masked from ‘package:stats’:\n",
      "\n",
      "    filter, lag\n",
      "\n",
      "\n",
      "The following objects are masked from ‘package:base’:\n",
      "\n",
      "    intersect, setdiff, setequal, union\n",
      "\n",
      "\n",
      "\n",
      "Attaching package: ‘data.table’\n",
      "\n",
      "\n",
      "The following objects are masked from ‘package:dplyr’:\n",
      "\n",
      "    between, first, last\n",
      "\n",
      "\n",
      "\n",
      "Attaching package: ‘tidytable’\n",
      "\n",
      "\n",
      "The following object is masked from ‘package:stats’:\n",
      "\n",
      "    dt\n",
      "\n",
      "\n"
     ]
    }
   ],
   "source": [
    "library(dplyr)\n",
    "library(tidyr)\n",
    "library(ggplot2)\n",
    "library(data.table)\n",
    "library(tidytable)\n",
    "library(LeyLabRMisc)"
   ]
  },
  {
   "cell_type": "code",
   "execution_count": 3,
   "id": "1b18eb94",
   "metadata": {
    "ExecuteTime": {
     "end_time": "2021-08-13T12:51:06.496097Z",
     "start_time": "2021-08-13T12:51:05.854Z"
    }
   },
   "outputs": [
    {
     "name": "stdout",
     "output_type": "stream",
     "text": [
      "Directory already exists: /ebio/abt3_projects/databases_no-backup/DeepMAsED/version2/ref_genomes/GTDBr202/ \n"
     ]
    }
   ],
   "source": [
    "df.dims()\n",
    "setDTthreads(threads)\n",
    "make_dir(work_dir)"
   ]
  },
  {
   "cell_type": "code",
   "execution_count": 4,
   "id": "c88db4dd",
   "metadata": {
    "ExecuteTime": {
     "end_time": "2021-08-13T12:51:06.509166Z",
     "start_time": "2021-08-13T12:51:05.857Z"
    }
   },
   "outputs": [],
   "source": [
    "set.seed(8192)"
   ]
  },
  {
   "cell_type": "markdown",
   "id": "b39c246a",
   "metadata": {},
   "source": [
    "# Load"
   ]
  },
  {
   "cell_type": "markdown",
   "id": "00bd65ba",
   "metadata": {},
   "source": [
    "## Metadata"
   ]
  },
  {
   "cell_type": "code",
   "execution_count": 5,
   "id": "d68db079",
   "metadata": {
    "ExecuteTime": {
     "end_time": "2021-08-13T12:51:18.818967Z",
     "start_time": "2021-08-13T12:51:05.862Z"
    }
   },
   "outputs": [
    {
     "data": {
      "text/html": [
       "<table class=\"dataframe\">\n",
       "<caption>A tidytable: 258406 × 17</caption>\n",
       "<thead>\n",
       "\t<tr><th scope=col>accession</th><th scope=col>checkm_completeness</th><th scope=col>checkm_contamination</th><th scope=col>mimag_high_quality</th><th scope=col>mimag_medium_quality</th><th scope=col>mimag_low_quality</th><th scope=col>ncbi_assembly_level</th><th scope=col>ncbi_genome_category</th><th scope=col>ncbi_genbank_assembly_accession</th><th scope=col>gtdb_taxonomy</th><th scope=col>mean_contig_length</th><th scope=col>contig_count</th><th scope=col>gc_count</th><th scope=col>gc_percentage</th><th scope=col>genome_size</th><th scope=col>n50_contigs</th><th scope=col>ssu_count</th></tr>\n",
       "\t<tr><th scope=col>&lt;chr&gt;</th><th scope=col>&lt;dbl&gt;</th><th scope=col>&lt;dbl&gt;</th><th scope=col>&lt;chr&gt;</th><th scope=col>&lt;chr&gt;</th><th scope=col>&lt;chr&gt;</th><th scope=col>&lt;chr&gt;</th><th scope=col>&lt;chr&gt;</th><th scope=col>&lt;chr&gt;</th><th scope=col>&lt;chr&gt;</th><th scope=col>&lt;int&gt;</th><th scope=col>&lt;int&gt;</th><th scope=col>&lt;int&gt;</th><th scope=col>&lt;dbl&gt;</th><th scope=col>&lt;int&gt;</th><th scope=col>&lt;int&gt;</th><th scope=col>&lt;int&gt;</th></tr>\n",
       "</thead>\n",
       "<tbody>\n",
       "\t<tr><td>GB_GCA_000200715.1</td><td> 99.03</td><td>0</td><td>t</td><td>f</td><td>f</td><td>Chromosome     </td><td>derived from environmental sample</td><td>GCA_000200715.1</td><td>d__Archaea;p__Thermoproteota;c__Nitrososphaeria;o__Nitrososphaerales;f__Nitrosopumilaceae;g__Cenarchaeum;s__Cenarchaeum symbiosum</td><td> 340809</td><td>6</td><td>1173335</td><td>57.37986</td><td>2045086</td><td>1281157</td><td>1</td></tr>\n",
       "\t<tr><td>GB_GCA_000247545.1</td><td>100.00</td><td>0</td><td>f</td><td>t</td><td>f</td><td>Complete Genome</td><td>none                             </td><td>GCA_000247545.1</td><td>d__Archaea;p__Thermoproteota;c__Thermoproteia;o__Thermoproteales;f__Thermoproteaceae;g__Pyrobaculum;s__Pyrobaculum oguniense     </td><td>1226460</td><td>2</td><td>1350357</td><td>55.05100</td><td>2452920</td><td>2436033</td><td>2</td></tr>\n",
       "\t<tr><td>⋮</td><td>⋮</td><td>⋮</td><td>⋮</td><td>⋮</td><td>⋮</td><td>⋮</td><td>⋮</td><td>⋮</td><td>⋮</td><td>⋮</td><td>⋮</td><td>⋮</td><td>⋮</td><td>⋮</td><td>⋮</td><td>⋮</td></tr>\n",
       "\t<tr><td>RS_GCF_903986495.1</td><td>99.45</td><td>0.13</td><td>f</td><td>t</td><td>f</td><td>Contig</td><td>none</td><td>GCA_903986495.1</td><td>d__Bacteria;p__Actinobacteriota;c__Actinomycetia;o__Mycobacteriales;f__Mycobacteriaceae;g__Corynebacterium;s__Corynebacterium diphtheriae</td><td>98137</td><td>25</td><td>1319199</td><td>53.76969</td><td>2453425</td><td>178692</td><td>2</td></tr>\n",
       "\t<tr><td>RS_GCF_903986995.1</td><td>99.72</td><td>0.60</td><td>f</td><td>t</td><td>f</td><td>Contig</td><td>none</td><td>GCA_903986995.1</td><td>d__Bacteria;p__Proteobacteria;c__Gammaproteobacteria;o__Enterobacterales;f__Vibrionaceae;g__Vibrio;s__Vibrio diabolicus                  </td><td>52797</td><td>98</td><td>2311337</td><td>44.67069</td><td>5174169</td><td>492004</td><td>8</td></tr>\n",
       "</tbody>\n",
       "</table>\n"
      ],
      "text/latex": [
       "A tidytable: 258406 × 17\n",
       "\\begin{tabular}{lllllllllllllllll}\n",
       " accession & checkm\\_completeness & checkm\\_contamination & mimag\\_high\\_quality & mimag\\_medium\\_quality & mimag\\_low\\_quality & ncbi\\_assembly\\_level & ncbi\\_genome\\_category & ncbi\\_genbank\\_assembly\\_accession & gtdb\\_taxonomy & mean\\_contig\\_length & contig\\_count & gc\\_count & gc\\_percentage & genome\\_size & n50\\_contigs & ssu\\_count\\\\\n",
       " <chr> & <dbl> & <dbl> & <chr> & <chr> & <chr> & <chr> & <chr> & <chr> & <chr> & <int> & <int> & <int> & <dbl> & <int> & <int> & <int>\\\\\n",
       "\\hline\n",
       "\t GB\\_GCA\\_000200715.1 &  99.03 & 0 & t & f & f & Chromosome      & derived from environmental sample & GCA\\_000200715.1 & d\\_\\_Archaea;p\\_\\_Thermoproteota;c\\_\\_Nitrososphaeria;o\\_\\_Nitrososphaerales;f\\_\\_Nitrosopumilaceae;g\\_\\_Cenarchaeum;s\\_\\_Cenarchaeum symbiosum &  340809 & 6 & 1173335 & 57.37986 & 2045086 & 1281157 & 1\\\\\n",
       "\t GB\\_GCA\\_000247545.1 & 100.00 & 0 & f & t & f & Complete Genome & none                              & GCA\\_000247545.1 & d\\_\\_Archaea;p\\_\\_Thermoproteota;c\\_\\_Thermoproteia;o\\_\\_Thermoproteales;f\\_\\_Thermoproteaceae;g\\_\\_Pyrobaculum;s\\_\\_Pyrobaculum oguniense      & 1226460 & 2 & 1350357 & 55.05100 & 2452920 & 2436033 & 2\\\\\n",
       "\t ⋮ & ⋮ & ⋮ & ⋮ & ⋮ & ⋮ & ⋮ & ⋮ & ⋮ & ⋮ & ⋮ & ⋮ & ⋮ & ⋮ & ⋮ & ⋮ & ⋮\\\\\n",
       "\t RS\\_GCF\\_903986495.1 & 99.45 & 0.13 & f & t & f & Contig & none & GCA\\_903986495.1 & d\\_\\_Bacteria;p\\_\\_Actinobacteriota;c\\_\\_Actinomycetia;o\\_\\_Mycobacteriales;f\\_\\_Mycobacteriaceae;g\\_\\_Corynebacterium;s\\_\\_Corynebacterium diphtheriae & 98137 & 25 & 1319199 & 53.76969 & 2453425 & 178692 & 2\\\\\n",
       "\t RS\\_GCF\\_903986995.1 & 99.72 & 0.60 & f & t & f & Contig & none & GCA\\_903986995.1 & d\\_\\_Bacteria;p\\_\\_Proteobacteria;c\\_\\_Gammaproteobacteria;o\\_\\_Enterobacterales;f\\_\\_Vibrionaceae;g\\_\\_Vibrio;s\\_\\_Vibrio diabolicus                   & 52797 & 98 & 2311337 & 44.67069 & 5174169 & 492004 & 8\\\\\n",
       "\\end{tabular}\n"
      ],
      "text/markdown": [
       "\n",
       "A tidytable: 258406 × 17\n",
       "\n",
       "| accession &lt;chr&gt; | checkm_completeness &lt;dbl&gt; | checkm_contamination &lt;dbl&gt; | mimag_high_quality &lt;chr&gt; | mimag_medium_quality &lt;chr&gt; | mimag_low_quality &lt;chr&gt; | ncbi_assembly_level &lt;chr&gt; | ncbi_genome_category &lt;chr&gt; | ncbi_genbank_assembly_accession &lt;chr&gt; | gtdb_taxonomy &lt;chr&gt; | mean_contig_length &lt;int&gt; | contig_count &lt;int&gt; | gc_count &lt;int&gt; | gc_percentage &lt;dbl&gt; | genome_size &lt;int&gt; | n50_contigs &lt;int&gt; | ssu_count &lt;int&gt; |\n",
       "|---|---|---|---|---|---|---|---|---|---|---|---|---|---|---|---|---|\n",
       "| GB_GCA_000200715.1 |  99.03 | 0 | t | f | f | Chromosome      | derived from environmental sample | GCA_000200715.1 | d__Archaea;p__Thermoproteota;c__Nitrososphaeria;o__Nitrososphaerales;f__Nitrosopumilaceae;g__Cenarchaeum;s__Cenarchaeum symbiosum |  340809 | 6 | 1173335 | 57.37986 | 2045086 | 1281157 | 1 |\n",
       "| GB_GCA_000247545.1 | 100.00 | 0 | f | t | f | Complete Genome | none                              | GCA_000247545.1 | d__Archaea;p__Thermoproteota;c__Thermoproteia;o__Thermoproteales;f__Thermoproteaceae;g__Pyrobaculum;s__Pyrobaculum oguniense      | 1226460 | 2 | 1350357 | 55.05100 | 2452920 | 2436033 | 2 |\n",
       "| ⋮ | ⋮ | ⋮ | ⋮ | ⋮ | ⋮ | ⋮ | ⋮ | ⋮ | ⋮ | ⋮ | ⋮ | ⋮ | ⋮ | ⋮ | ⋮ | ⋮ |\n",
       "| RS_GCF_903986495.1 | 99.45 | 0.13 | f | t | f | Contig | none | GCA_903986495.1 | d__Bacteria;p__Actinobacteriota;c__Actinomycetia;o__Mycobacteriales;f__Mycobacteriaceae;g__Corynebacterium;s__Corynebacterium diphtheriae | 98137 | 25 | 1319199 | 53.76969 | 2453425 | 178692 | 2 |\n",
       "| RS_GCF_903986995.1 | 99.72 | 0.60 | f | t | f | Contig | none | GCA_903986995.1 | d__Bacteria;p__Proteobacteria;c__Gammaproteobacteria;o__Enterobacterales;f__Vibrionaceae;g__Vibrio;s__Vibrio diabolicus                   | 52797 | 98 | 2311337 | 44.67069 | 5174169 | 492004 | 8 |\n",
       "\n"
      ],
      "text/plain": [
       "       accession          checkm_completeness checkm_contamination\n",
       "1      GB_GCA_000200715.1  99.03              0                   \n",
       "2      GB_GCA_000247545.1 100.00              0                   \n",
       "⋮      ⋮                  ⋮                   ⋮                   \n",
       "258405 RS_GCF_903986495.1 99.45               0.13                \n",
       "258406 RS_GCF_903986995.1 99.72               0.60                \n",
       "       mimag_high_quality mimag_medium_quality mimag_low_quality\n",
       "1      t                  f                    f                \n",
       "2      f                  t                    f                \n",
       "⋮      ⋮                  ⋮                    ⋮                \n",
       "258405 f                  t                    f                \n",
       "258406 f                  t                    f                \n",
       "       ncbi_assembly_level ncbi_genome_category             \n",
       "1      Chromosome          derived from environmental sample\n",
       "2      Complete Genome     none                             \n",
       "⋮      ⋮                   ⋮                                \n",
       "258405 Contig              none                             \n",
       "258406 Contig              none                             \n",
       "       ncbi_genbank_assembly_accession\n",
       "1      GCA_000200715.1                \n",
       "2      GCA_000247545.1                \n",
       "⋮      ⋮                              \n",
       "258405 GCA_903986495.1                \n",
       "258406 GCA_903986995.1                \n",
       "       gtdb_taxonomy                                                                                                                            \n",
       "1      d__Archaea;p__Thermoproteota;c__Nitrososphaeria;o__Nitrososphaerales;f__Nitrosopumilaceae;g__Cenarchaeum;s__Cenarchaeum symbiosum        \n",
       "2      d__Archaea;p__Thermoproteota;c__Thermoproteia;o__Thermoproteales;f__Thermoproteaceae;g__Pyrobaculum;s__Pyrobaculum oguniense             \n",
       "⋮      ⋮                                                                                                                                        \n",
       "258405 d__Bacteria;p__Actinobacteriota;c__Actinomycetia;o__Mycobacteriales;f__Mycobacteriaceae;g__Corynebacterium;s__Corynebacterium diphtheriae\n",
       "258406 d__Bacteria;p__Proteobacteria;c__Gammaproteobacteria;o__Enterobacterales;f__Vibrionaceae;g__Vibrio;s__Vibrio diabolicus                  \n",
       "       mean_contig_length contig_count gc_count gc_percentage genome_size\n",
       "1       340809            6            1173335  57.37986      2045086    \n",
       "2      1226460            2            1350357  55.05100      2452920    \n",
       "⋮      ⋮                  ⋮            ⋮        ⋮             ⋮          \n",
       "258405 98137              25           1319199  53.76969      2453425    \n",
       "258406 52797              98           2311337  44.67069      5174169    \n",
       "       n50_contigs ssu_count\n",
       "1      1281157     1        \n",
       "2      2436033     2        \n",
       "⋮      ⋮           ⋮        \n",
       "258405 178692      2        \n",
       "258406 492004      8        "
      ]
     },
     "metadata": {},
     "output_type": "display_data"
    }
   ],
   "source": [
    "# loading metadata\n",
    "meta = rbindlist(list(\n",
    "    Fread(arc_meta_file) %>% select.(-ncbi_date),\n",
    "    Fread(bac_meta_file) %>% select.(-ncbi_date)), use.names=TRUE) %>%\n",
    "    select.(accession, checkm_completeness, checkm_contamination,\n",
    "            mimag_high_quality, mimag_medium_quality, mimag_low_quality,\n",
    "            ncbi_assembly_level, ncbi_genome_category, ncbi_genbank_assembly_accession,\n",
    "            gtdb_taxonomy, mean_contig_length, contig_count, gc_count, gc_percentage, genome_size, \n",
    "            n50_contigs, ssu_count)\n",
    "meta"
   ]
  },
  {
   "cell_type": "code",
   "execution_count": 6,
   "id": "08ec77b0",
   "metadata": {
    "ExecuteTime": {
     "end_time": "2021-08-13T12:51:20.597375Z",
     "start_time": "2021-08-13T12:51:05.867Z"
    }
   },
   "outputs": [
    {
     "data": {
      "text/html": [
       "<table class=\"dataframe\">\n",
       "<caption>A tidytable: 258406 × 23</caption>\n",
       "<thead>\n",
       "\t<tr><th scope=col>accession</th><th scope=col>checkm_completeness</th><th scope=col>checkm_contamination</th><th scope=col>mimag_high_quality</th><th scope=col>mimag_medium_quality</th><th scope=col>mimag_low_quality</th><th scope=col>ncbi_assembly_level</th><th scope=col>ncbi_genome_category</th><th scope=col>ncbi_genbank_assembly_accession</th><th scope=col>mean_contig_length</th><th scope=col>⋯</th><th scope=col>genome_size</th><th scope=col>n50_contigs</th><th scope=col>ssu_count</th><th scope=col>Domain</th><th scope=col>Phylum</th><th scope=col>Class</th><th scope=col>Order</th><th scope=col>Family</th><th scope=col>Genus</th><th scope=col>Species</th></tr>\n",
       "\t<tr><th scope=col>&lt;chr&gt;</th><th scope=col>&lt;dbl&gt;</th><th scope=col>&lt;dbl&gt;</th><th scope=col>&lt;chr&gt;</th><th scope=col>&lt;chr&gt;</th><th scope=col>&lt;chr&gt;</th><th scope=col>&lt;chr&gt;</th><th scope=col>&lt;chr&gt;</th><th scope=col>&lt;chr&gt;</th><th scope=col>&lt;int&gt;</th><th scope=col>⋯</th><th scope=col>&lt;int&gt;</th><th scope=col>&lt;int&gt;</th><th scope=col>&lt;int&gt;</th><th scope=col>&lt;chr&gt;</th><th scope=col>&lt;chr&gt;</th><th scope=col>&lt;chr&gt;</th><th scope=col>&lt;chr&gt;</th><th scope=col>&lt;chr&gt;</th><th scope=col>&lt;chr&gt;</th><th scope=col>&lt;chr&gt;</th></tr>\n",
       "</thead>\n",
       "<tbody>\n",
       "\t<tr><td>GB_GCA_000200715.1</td><td> 99.03</td><td>0</td><td>t</td><td>f</td><td>f</td><td>Chromosome     </td><td>derived from environmental sample</td><td>GCA_000200715.1</td><td> 340809</td><td>⋯</td><td>2045086</td><td>1281157</td><td>1</td><td>Archaea</td><td>Thermoproteota</td><td>Nitrososphaeria</td><td>Nitrososphaerales</td><td>Nitrosopumilaceae</td><td>Cenarchaeum</td><td>Cenarchaeum symbiosum</td></tr>\n",
       "\t<tr><td>GB_GCA_000247545.1</td><td>100.00</td><td>0</td><td>f</td><td>t</td><td>f</td><td>Complete Genome</td><td>none                             </td><td>GCA_000247545.1</td><td>1226460</td><td>⋯</td><td>2452920</td><td>2436033</td><td>2</td><td>Archaea</td><td>Thermoproteota</td><td>Thermoproteia  </td><td>Thermoproteales  </td><td>Thermoproteaceae </td><td>Pyrobaculum</td><td>Pyrobaculum oguniense</td></tr>\n",
       "\t<tr><td>⋮</td><td>⋮</td><td>⋮</td><td>⋮</td><td>⋮</td><td>⋮</td><td>⋮</td><td>⋮</td><td>⋮</td><td>⋮</td><td>⋱</td><td>⋮</td><td>⋮</td><td>⋮</td><td>⋮</td><td>⋮</td><td>⋮</td><td>⋮</td><td>⋮</td><td>⋮</td><td>⋮</td></tr>\n",
       "\t<tr><td>RS_GCF_903986495.1</td><td>99.45</td><td>0.13</td><td>f</td><td>t</td><td>f</td><td>Contig</td><td>none</td><td>GCA_903986495.1</td><td>98137</td><td>⋯</td><td>2453425</td><td>178692</td><td>2</td><td>Bacteria</td><td>Actinobacteriota</td><td>Actinomycetia      </td><td>Mycobacteriales </td><td>Mycobacteriaceae</td><td>Corynebacterium</td><td>Corynebacterium diphtheriae</td></tr>\n",
       "\t<tr><td>RS_GCF_903986995.1</td><td>99.72</td><td>0.60</td><td>f</td><td>t</td><td>f</td><td>Contig</td><td>none</td><td>GCA_903986995.1</td><td>52797</td><td>⋯</td><td>5174169</td><td>492004</td><td>8</td><td>Bacteria</td><td>Proteobacteria  </td><td>Gammaproteobacteria</td><td>Enterobacterales</td><td>Vibrionaceae    </td><td>Vibrio         </td><td>Vibrio diabolicus          </td></tr>\n",
       "</tbody>\n",
       "</table>\n"
      ],
      "text/latex": [
       "A tidytable: 258406 × 23\n",
       "\\begin{tabular}{lllllllllllllllllllll}\n",
       " accession & checkm\\_completeness & checkm\\_contamination & mimag\\_high\\_quality & mimag\\_medium\\_quality & mimag\\_low\\_quality & ncbi\\_assembly\\_level & ncbi\\_genome\\_category & ncbi\\_genbank\\_assembly\\_accession & mean\\_contig\\_length & ⋯ & genome\\_size & n50\\_contigs & ssu\\_count & Domain & Phylum & Class & Order & Family & Genus & Species\\\\\n",
       " <chr> & <dbl> & <dbl> & <chr> & <chr> & <chr> & <chr> & <chr> & <chr> & <int> & ⋯ & <int> & <int> & <int> & <chr> & <chr> & <chr> & <chr> & <chr> & <chr> & <chr>\\\\\n",
       "\\hline\n",
       "\t GB\\_GCA\\_000200715.1 &  99.03 & 0 & t & f & f & Chromosome      & derived from environmental sample & GCA\\_000200715.1 &  340809 & ⋯ & 2045086 & 1281157 & 1 & Archaea & Thermoproteota & Nitrososphaeria & Nitrososphaerales & Nitrosopumilaceae & Cenarchaeum & Cenarchaeum symbiosum\\\\\n",
       "\t GB\\_GCA\\_000247545.1 & 100.00 & 0 & f & t & f & Complete Genome & none                              & GCA\\_000247545.1 & 1226460 & ⋯ & 2452920 & 2436033 & 2 & Archaea & Thermoproteota & Thermoproteia   & Thermoproteales   & Thermoproteaceae  & Pyrobaculum & Pyrobaculum oguniense\\\\\n",
       "\t ⋮ & ⋮ & ⋮ & ⋮ & ⋮ & ⋮ & ⋮ & ⋮ & ⋮ & ⋮ & ⋱ & ⋮ & ⋮ & ⋮ & ⋮ & ⋮ & ⋮ & ⋮ & ⋮ & ⋮ & ⋮\\\\\n",
       "\t RS\\_GCF\\_903986495.1 & 99.45 & 0.13 & f & t & f & Contig & none & GCA\\_903986495.1 & 98137 & ⋯ & 2453425 & 178692 & 2 & Bacteria & Actinobacteriota & Actinomycetia       & Mycobacteriales  & Mycobacteriaceae & Corynebacterium & Corynebacterium diphtheriae\\\\\n",
       "\t RS\\_GCF\\_903986995.1 & 99.72 & 0.60 & f & t & f & Contig & none & GCA\\_903986995.1 & 52797 & ⋯ & 5174169 & 492004 & 8 & Bacteria & Proteobacteria   & Gammaproteobacteria & Enterobacterales & Vibrionaceae     & Vibrio          & Vibrio diabolicus          \\\\\n",
       "\\end{tabular}\n"
      ],
      "text/markdown": [
       "\n",
       "A tidytable: 258406 × 23\n",
       "\n",
       "| accession &lt;chr&gt; | checkm_completeness &lt;dbl&gt; | checkm_contamination &lt;dbl&gt; | mimag_high_quality &lt;chr&gt; | mimag_medium_quality &lt;chr&gt; | mimag_low_quality &lt;chr&gt; | ncbi_assembly_level &lt;chr&gt; | ncbi_genome_category &lt;chr&gt; | ncbi_genbank_assembly_accession &lt;chr&gt; | mean_contig_length &lt;int&gt; | ⋯ ⋯ | genome_size &lt;int&gt; | n50_contigs &lt;int&gt; | ssu_count &lt;int&gt; | Domain &lt;chr&gt; | Phylum &lt;chr&gt; | Class &lt;chr&gt; | Order &lt;chr&gt; | Family &lt;chr&gt; | Genus &lt;chr&gt; | Species &lt;chr&gt; |\n",
       "|---|---|---|---|---|---|---|---|---|---|---|---|---|---|---|---|---|---|---|---|---|\n",
       "| GB_GCA_000200715.1 |  99.03 | 0 | t | f | f | Chromosome      | derived from environmental sample | GCA_000200715.1 |  340809 | ⋯ | 2045086 | 1281157 | 1 | Archaea | Thermoproteota | Nitrososphaeria | Nitrososphaerales | Nitrosopumilaceae | Cenarchaeum | Cenarchaeum symbiosum |\n",
       "| GB_GCA_000247545.1 | 100.00 | 0 | f | t | f | Complete Genome | none                              | GCA_000247545.1 | 1226460 | ⋯ | 2452920 | 2436033 | 2 | Archaea | Thermoproteota | Thermoproteia   | Thermoproteales   | Thermoproteaceae  | Pyrobaculum | Pyrobaculum oguniense |\n",
       "| ⋮ | ⋮ | ⋮ | ⋮ | ⋮ | ⋮ | ⋮ | ⋮ | ⋮ | ⋮ | ⋱ | ⋮ | ⋮ | ⋮ | ⋮ | ⋮ | ⋮ | ⋮ | ⋮ | ⋮ | ⋮ |\n",
       "| RS_GCF_903986495.1 | 99.45 | 0.13 | f | t | f | Contig | none | GCA_903986495.1 | 98137 | ⋯ | 2453425 | 178692 | 2 | Bacteria | Actinobacteriota | Actinomycetia       | Mycobacteriales  | Mycobacteriaceae | Corynebacterium | Corynebacterium diphtheriae |\n",
       "| RS_GCF_903986995.1 | 99.72 | 0.60 | f | t | f | Contig | none | GCA_903986995.1 | 52797 | ⋯ | 5174169 | 492004 | 8 | Bacteria | Proteobacteria   | Gammaproteobacteria | Enterobacterales | Vibrionaceae     | Vibrio          | Vibrio diabolicus           |\n",
       "\n"
      ],
      "text/plain": [
       "       accession          checkm_completeness checkm_contamination\n",
       "1      GB_GCA_000200715.1  99.03              0                   \n",
       "2      GB_GCA_000247545.1 100.00              0                   \n",
       "⋮      ⋮                  ⋮                   ⋮                   \n",
       "258405 RS_GCF_903986495.1 99.45               0.13                \n",
       "258406 RS_GCF_903986995.1 99.72               0.60                \n",
       "       mimag_high_quality mimag_medium_quality mimag_low_quality\n",
       "1      t                  f                    f                \n",
       "2      f                  t                    f                \n",
       "⋮      ⋮                  ⋮                    ⋮                \n",
       "258405 f                  t                    f                \n",
       "258406 f                  t                    f                \n",
       "       ncbi_assembly_level ncbi_genome_category             \n",
       "1      Chromosome          derived from environmental sample\n",
       "2      Complete Genome     none                             \n",
       "⋮      ⋮                   ⋮                                \n",
       "258405 Contig              none                             \n",
       "258406 Contig              none                             \n",
       "       ncbi_genbank_assembly_accession mean_contig_length ⋯ genome_size\n",
       "1      GCA_000200715.1                  340809            ⋯ 2045086    \n",
       "2      GCA_000247545.1                 1226460            ⋯ 2452920    \n",
       "⋮      ⋮                               ⋮                  ⋱ ⋮          \n",
       "258405 GCA_903986495.1                 98137              ⋯ 2453425    \n",
       "258406 GCA_903986995.1                 52797              ⋯ 5174169    \n",
       "       n50_contigs ssu_count Domain   Phylum           Class              \n",
       "1      1281157     1         Archaea  Thermoproteota   Nitrososphaeria    \n",
       "2      2436033     2         Archaea  Thermoproteota   Thermoproteia      \n",
       "⋮      ⋮           ⋮         ⋮        ⋮                ⋮                  \n",
       "258405 178692      2         Bacteria Actinobacteriota Actinomycetia      \n",
       "258406 492004      8         Bacteria Proteobacteria   Gammaproteobacteria\n",
       "       Order             Family            Genus          \n",
       "1      Nitrososphaerales Nitrosopumilaceae Cenarchaeum    \n",
       "2      Thermoproteales   Thermoproteaceae  Pyrobaculum    \n",
       "⋮      ⋮                 ⋮                 ⋮              \n",
       "258405 Mycobacteriales   Mycobacteriaceae  Corynebacterium\n",
       "258406 Enterobacterales  Vibrionaceae      Vibrio         \n",
       "       Species                    \n",
       "1      Cenarchaeum symbiosum      \n",
       "2      Pyrobaculum oguniense      \n",
       "⋮      ⋮                          \n",
       "258405 Corynebacterium diphtheriae\n",
       "258406 Vibrio diabolicus          "
      ]
     },
     "metadata": {},
     "output_type": "display_data"
    }
   ],
   "source": [
    "# GTDB taxonomy\n",
    "meta = meta %>%\n",
    "    mutate.(gtdb_taxonomy = gsub(';[pcofgs]__', ';', gtdb_taxonomy),\n",
    "            gtdb_taxonomy = gsub('^d__', '', gtdb_taxonomy)) %>%\n",
    "    separate.(gtdb_taxonomy, taxonomy_levels(), sep=';')\n",
    "meta"
   ]
  },
  {
   "cell_type": "markdown",
   "id": "7b757871",
   "metadata": {},
   "source": [
    "# checkM"
   ]
  },
  {
   "cell_type": "code",
   "execution_count": 7,
   "id": "fab80b99",
   "metadata": {
    "ExecuteTime": {
     "end_time": "2021-08-13T12:51:20.688576Z",
     "start_time": "2021-08-13T12:51:05.871Z"
    }
   },
   "outputs": [
    {
     "data": {
      "text/html": [
       "<table class=\"dataframe\">\n",
       "<caption>A matrix: 1 × 8 of type dbl</caption>\n",
       "<thead>\n",
       "\t<tr><th></th><th scope=col>Min.</th><th scope=col>1st Qu.</th><th scope=col>Median</th><th scope=col>Mean</th><th scope=col>3rd Qu.</th><th scope=col>Max.</th><th scope=col>sd</th><th scope=col>sd_err_of_mean</th></tr>\n",
       "</thead>\n",
       "<tbody>\n",
       "\t<tr><th scope=row>checkm_completeness</th><td>18.13</td><td>98.51</td><td>99.51</td><td>96.30877</td><td>99.94</td><td>100</td><td>32.984</td><td>13.466</td></tr>\n",
       "</tbody>\n",
       "</table>\n"
      ],
      "text/latex": [
       "A matrix: 1 × 8 of type dbl\n",
       "\\begin{tabular}{r|llllllll}\n",
       "  & Min. & 1st Qu. & Median & Mean & 3rd Qu. & Max. & sd & sd\\_err\\_of\\_mean\\\\\n",
       "\\hline\n",
       "\tcheckm\\_completeness & 18.13 & 98.51 & 99.51 & 96.30877 & 99.94 & 100 & 32.984 & 13.466\\\\\n",
       "\\end{tabular}\n"
      ],
      "text/markdown": [
       "\n",
       "A matrix: 1 × 8 of type dbl\n",
       "\n",
       "| <!--/--> | Min. | 1st Qu. | Median | Mean | 3rd Qu. | Max. | sd | sd_err_of_mean |\n",
       "|---|---|---|---|---|---|---|---|---|\n",
       "| checkm_completeness | 18.13 | 98.51 | 99.51 | 96.30877 | 99.94 | 100 | 32.984 | 13.466 |\n",
       "\n"
      ],
      "text/plain": [
       "                    Min.  1st Qu. Median Mean     3rd Qu. Max. sd    \n",
       "checkm_completeness 18.13 98.51   99.51  96.30877 99.94   100  32.984\n",
       "                    sd_err_of_mean\n",
       "checkm_completeness 13.466        "
      ]
     },
     "metadata": {},
     "output_type": "display_data"
    },
    {
     "data": {
      "text/html": [
       "<table class=\"dataframe\">\n",
       "<caption>A matrix: 1 × 8 of type dbl</caption>\n",
       "<thead>\n",
       "\t<tr><th></th><th scope=col>Min.</th><th scope=col>1st Qu.</th><th scope=col>Median</th><th scope=col>Mean</th><th scope=col>3rd Qu.</th><th scope=col>Max.</th><th scope=col>sd</th><th scope=col>sd_err_of_mean</th></tr>\n",
       "</thead>\n",
       "<tbody>\n",
       "\t<tr><th scope=row>checkm_contamination</th><td>0</td><td>0.06</td><td>0.33</td><td>0.7517892</td><td>0.89</td><td>46.77</td><td>18.931</td><td>7.729</td></tr>\n",
       "</tbody>\n",
       "</table>\n"
      ],
      "text/latex": [
       "A matrix: 1 × 8 of type dbl\n",
       "\\begin{tabular}{r|llllllll}\n",
       "  & Min. & 1st Qu. & Median & Mean & 3rd Qu. & Max. & sd & sd\\_err\\_of\\_mean\\\\\n",
       "\\hline\n",
       "\tcheckm\\_contamination & 0 & 0.06 & 0.33 & 0.7517892 & 0.89 & 46.77 & 18.931 & 7.729\\\\\n",
       "\\end{tabular}\n"
      ],
      "text/markdown": [
       "\n",
       "A matrix: 1 × 8 of type dbl\n",
       "\n",
       "| <!--/--> | Min. | 1st Qu. | Median | Mean | 3rd Qu. | Max. | sd | sd_err_of_mean |\n",
       "|---|---|---|---|---|---|---|---|---|\n",
       "| checkm_contamination | 0 | 0.06 | 0.33 | 0.7517892 | 0.89 | 46.77 | 18.931 | 7.729 |\n",
       "\n"
      ],
      "text/plain": [
       "                     Min. 1st Qu. Median Mean      3rd Qu. Max.  sd    \n",
       "checkm_contamination 0    0.06    0.33   0.7517892 0.89    46.77 18.931\n",
       "                     sd_err_of_mean\n",
       "checkm_contamination 7.729         "
      ]
     },
     "metadata": {},
     "output_type": "display_data"
    }
   ],
   "source": [
    "summary_x(meta$checkm_completeness)\n",
    "summary_x(meta$checkm_contamination)"
   ]
  },
  {
   "cell_type": "markdown",
   "id": "9368b0c7",
   "metadata": {},
   "source": [
    "# gtdb-tk"
   ]
  },
  {
   "cell_type": "code",
   "execution_count": 8,
   "id": "8927a7c2",
   "metadata": {
    "ExecuteTime": {
     "end_time": "2021-08-13T12:51:20.724494Z",
     "start_time": "2021-08-13T12:51:05.874Z"
    }
   },
   "outputs": [
    {
     "data": {
      "text/html": [
       "<table class=\"dataframe\">\n",
       "<caption>A matrix: 1 × 8 of type dbl</caption>\n",
       "<thead>\n",
       "\t<tr><th></th><th scope=col>Min.</th><th scope=col>1st Qu.</th><th scope=col>Median</th><th scope=col>Mean</th><th scope=col>3rd Qu.</th><th scope=col>Max.</th><th scope=col>sd</th><th scope=col>sd_err_of_mean</th></tr>\n",
       "</thead>\n",
       "<tbody>\n",
       "\t<tr><th scope=row>No. of genomes per Phylum</th><td>1</td><td>4</td><td>14</td><td>1529.03</td><td>85</td><td>120757</td><td>49169.19</td><td>20073.24</td></tr>\n",
       "</tbody>\n",
       "</table>\n"
      ],
      "text/latex": [
       "A matrix: 1 × 8 of type dbl\n",
       "\\begin{tabular}{r|llllllll}\n",
       "  & Min. & 1st Qu. & Median & Mean & 3rd Qu. & Max. & sd & sd\\_err\\_of\\_mean\\\\\n",
       "\\hline\n",
       "\tNo. of genomes per Phylum & 1 & 4 & 14 & 1529.03 & 85 & 120757 & 49169.19 & 20073.24\\\\\n",
       "\\end{tabular}\n"
      ],
      "text/markdown": [
       "\n",
       "A matrix: 1 × 8 of type dbl\n",
       "\n",
       "| <!--/--> | Min. | 1st Qu. | Median | Mean | 3rd Qu. | Max. | sd | sd_err_of_mean |\n",
       "|---|---|---|---|---|---|---|---|---|\n",
       "| No. of genomes per Phylum | 1 | 4 | 14 | 1529.03 | 85 | 120757 | 49169.19 | 20073.24 |\n",
       "\n"
      ],
      "text/plain": [
       "                          Min. 1st Qu. Median Mean    3rd Qu. Max.   sd      \n",
       "No. of genomes per Phylum 1    4       14     1529.03 85      120757 49169.19\n",
       "                          sd_err_of_mean\n",
       "No. of genomes per Phylum 20073.24      "
      ]
     },
     "metadata": {},
     "output_type": "display_data"
    }
   ],
   "source": [
    "# summary\n",
    "meta %>%\n",
    "    summarize.(n=n.(),\n",
    "               .by=c(Phylum)) %>%\n",
    "    summary_x('No. of genomes per Phylum', n)"
   ]
  },
  {
   "cell_type": "code",
   "execution_count": 9,
   "id": "72dcd85e",
   "metadata": {
    "ExecuteTime": {
     "end_time": "2021-08-13T12:51:20.819360Z",
     "start_time": "2021-08-13T12:51:05.877Z"
    }
   },
   "outputs": [
    {
     "data": {
      "text/html": [
       "<table class=\"dataframe\">\n",
       "<caption>A matrix: 1 × 8 of type dbl</caption>\n",
       "<thead>\n",
       "\t<tr><th></th><th scope=col>Min.</th><th scope=col>1st Qu.</th><th scope=col>Median</th><th scope=col>Mean</th><th scope=col>3rd Qu.</th><th scope=col>Max.</th><th scope=col>sd</th><th scope=col>sd_err_of_mean</th></tr>\n",
       "</thead>\n",
       "<tbody>\n",
       "\t<tr><th scope=row>No. of genomes per species</th><td>1</td><td>1</td><td>1</td><td>5.395373</td><td>2</td><td>14743</td><td>6017.956</td><td>2456.82</td></tr>\n",
       "</tbody>\n",
       "</table>\n"
      ],
      "text/latex": [
       "A matrix: 1 × 8 of type dbl\n",
       "\\begin{tabular}{r|llllllll}\n",
       "  & Min. & 1st Qu. & Median & Mean & 3rd Qu. & Max. & sd & sd\\_err\\_of\\_mean\\\\\n",
       "\\hline\n",
       "\tNo. of genomes per species & 1 & 1 & 1 & 5.395373 & 2 & 14743 & 6017.956 & 2456.82\\\\\n",
       "\\end{tabular}\n"
      ],
      "text/markdown": [
       "\n",
       "A matrix: 1 × 8 of type dbl\n",
       "\n",
       "| <!--/--> | Min. | 1st Qu. | Median | Mean | 3rd Qu. | Max. | sd | sd_err_of_mean |\n",
       "|---|---|---|---|---|---|---|---|---|\n",
       "| No. of genomes per species | 1 | 1 | 1 | 5.395373 | 2 | 14743 | 6017.956 | 2456.82 |\n",
       "\n"
      ],
      "text/plain": [
       "                           Min. 1st Qu. Median Mean     3rd Qu. Max.  sd      \n",
       "No. of genomes per species 1    1       1      5.395373 2       14743 6017.956\n",
       "                           sd_err_of_mean\n",
       "No. of genomes per species 2456.82       "
      ]
     },
     "metadata": {},
     "output_type": "display_data"
    }
   ],
   "source": [
    "# summary\n",
    "meta %>%\n",
    "    summarize.(n=n.(),\n",
    "               .by=c(Phylum, Class, Order, Family, Genus, Species)) %>%\n",
    "    summary_x('No. of genomes per species', n)"
   ]
  },
  {
   "cell_type": "markdown",
   "id": "fe91c927",
   "metadata": {},
   "source": [
    "# Filtering"
   ]
  },
  {
   "cell_type": "markdown",
   "id": "6404b813",
   "metadata": {},
   "source": [
    "## CheckM quality"
   ]
  },
  {
   "cell_type": "code",
   "execution_count": 10,
   "id": "e86380bd",
   "metadata": {
    "ExecuteTime": {
     "end_time": "2021-08-13T12:51:21.197526Z",
     "start_time": "2021-08-13T12:51:05.882Z"
    }
   },
   "outputs": [
    {
     "data": {
      "text/html": [
       "<table class=\"dataframe\">\n",
       "<caption>A tidytable: 224823 × 23</caption>\n",
       "<thead>\n",
       "\t<tr><th scope=col>accession</th><th scope=col>checkm_completeness</th><th scope=col>checkm_contamination</th><th scope=col>mimag_high_quality</th><th scope=col>mimag_medium_quality</th><th scope=col>mimag_low_quality</th><th scope=col>ncbi_assembly_level</th><th scope=col>ncbi_genome_category</th><th scope=col>ncbi_genbank_assembly_accession</th><th scope=col>mean_contig_length</th><th scope=col>⋯</th><th scope=col>genome_size</th><th scope=col>n50_contigs</th><th scope=col>ssu_count</th><th scope=col>Domain</th><th scope=col>Phylum</th><th scope=col>Class</th><th scope=col>Order</th><th scope=col>Family</th><th scope=col>Genus</th><th scope=col>Species</th></tr>\n",
       "\t<tr><th scope=col>&lt;chr&gt;</th><th scope=col>&lt;dbl&gt;</th><th scope=col>&lt;dbl&gt;</th><th scope=col>&lt;chr&gt;</th><th scope=col>&lt;chr&gt;</th><th scope=col>&lt;chr&gt;</th><th scope=col>&lt;chr&gt;</th><th scope=col>&lt;chr&gt;</th><th scope=col>&lt;chr&gt;</th><th scope=col>&lt;int&gt;</th><th scope=col>⋯</th><th scope=col>&lt;int&gt;</th><th scope=col>&lt;int&gt;</th><th scope=col>&lt;int&gt;</th><th scope=col>&lt;chr&gt;</th><th scope=col>&lt;chr&gt;</th><th scope=col>&lt;chr&gt;</th><th scope=col>&lt;chr&gt;</th><th scope=col>&lt;chr&gt;</th><th scope=col>&lt;chr&gt;</th><th scope=col>&lt;chr&gt;</th></tr>\n",
       "</thead>\n",
       "<tbody>\n",
       "\t<tr><td>GB_GCA_000200715.1</td><td> 99.03</td><td>0</td><td>t</td><td>f</td><td>f</td><td>Chromosome     </td><td>derived from environmental sample</td><td>GCA_000200715.1</td><td> 340809</td><td>⋯</td><td>2045086</td><td>1281157</td><td>1</td><td>Archaea</td><td>Thermoproteota</td><td>Nitrososphaeria</td><td>Nitrososphaerales</td><td>Nitrosopumilaceae</td><td>Cenarchaeum</td><td>Cenarchaeum symbiosum</td></tr>\n",
       "\t<tr><td>GB_GCA_000247545.1</td><td>100.00</td><td>0</td><td>f</td><td>t</td><td>f</td><td>Complete Genome</td><td>none                             </td><td>GCA_000247545.1</td><td>1226460</td><td>⋯</td><td>2452920</td><td>2436033</td><td>2</td><td>Archaea</td><td>Thermoproteota</td><td>Thermoproteia  </td><td>Thermoproteales  </td><td>Thermoproteaceae </td><td>Pyrobaculum</td><td>Pyrobaculum oguniense</td></tr>\n",
       "\t<tr><td>⋮</td><td>⋮</td><td>⋮</td><td>⋮</td><td>⋮</td><td>⋮</td><td>⋮</td><td>⋮</td><td>⋮</td><td>⋮</td><td>⋱</td><td>⋮</td><td>⋮</td><td>⋮</td><td>⋮</td><td>⋮</td><td>⋮</td><td>⋮</td><td>⋮</td><td>⋮</td><td>⋮</td></tr>\n",
       "\t<tr><td>RS_GCF_903986495.1</td><td>99.45</td><td>0.13</td><td>f</td><td>t</td><td>f</td><td>Contig</td><td>none</td><td>GCA_903986495.1</td><td>98137</td><td>⋯</td><td>2453425</td><td>178692</td><td>2</td><td>Bacteria</td><td>Actinobacteriota</td><td>Actinomycetia      </td><td>Mycobacteriales </td><td>Mycobacteriaceae</td><td>Corynebacterium</td><td>Corynebacterium diphtheriae</td></tr>\n",
       "\t<tr><td>RS_GCF_903986995.1</td><td>99.72</td><td>0.60</td><td>f</td><td>t</td><td>f</td><td>Contig</td><td>none</td><td>GCA_903986995.1</td><td>52797</td><td>⋯</td><td>5174169</td><td>492004</td><td>8</td><td>Bacteria</td><td>Proteobacteria  </td><td>Gammaproteobacteria</td><td>Enterobacterales</td><td>Vibrionaceae    </td><td>Vibrio         </td><td>Vibrio diabolicus          </td></tr>\n",
       "</tbody>\n",
       "</table>\n"
      ],
      "text/latex": [
       "A tidytable: 224823 × 23\n",
       "\\begin{tabular}{lllllllllllllllllllll}\n",
       " accession & checkm\\_completeness & checkm\\_contamination & mimag\\_high\\_quality & mimag\\_medium\\_quality & mimag\\_low\\_quality & ncbi\\_assembly\\_level & ncbi\\_genome\\_category & ncbi\\_genbank\\_assembly\\_accession & mean\\_contig\\_length & ⋯ & genome\\_size & n50\\_contigs & ssu\\_count & Domain & Phylum & Class & Order & Family & Genus & Species\\\\\n",
       " <chr> & <dbl> & <dbl> & <chr> & <chr> & <chr> & <chr> & <chr> & <chr> & <int> & ⋯ & <int> & <int> & <int> & <chr> & <chr> & <chr> & <chr> & <chr> & <chr> & <chr>\\\\\n",
       "\\hline\n",
       "\t GB\\_GCA\\_000200715.1 &  99.03 & 0 & t & f & f & Chromosome      & derived from environmental sample & GCA\\_000200715.1 &  340809 & ⋯ & 2045086 & 1281157 & 1 & Archaea & Thermoproteota & Nitrososphaeria & Nitrososphaerales & Nitrosopumilaceae & Cenarchaeum & Cenarchaeum symbiosum\\\\\n",
       "\t GB\\_GCA\\_000247545.1 & 100.00 & 0 & f & t & f & Complete Genome & none                              & GCA\\_000247545.1 & 1226460 & ⋯ & 2452920 & 2436033 & 2 & Archaea & Thermoproteota & Thermoproteia   & Thermoproteales   & Thermoproteaceae  & Pyrobaculum & Pyrobaculum oguniense\\\\\n",
       "\t ⋮ & ⋮ & ⋮ & ⋮ & ⋮ & ⋮ & ⋮ & ⋮ & ⋮ & ⋮ & ⋱ & ⋮ & ⋮ & ⋮ & ⋮ & ⋮ & ⋮ & ⋮ & ⋮ & ⋮ & ⋮\\\\\n",
       "\t RS\\_GCF\\_903986495.1 & 99.45 & 0.13 & f & t & f & Contig & none & GCA\\_903986495.1 & 98137 & ⋯ & 2453425 & 178692 & 2 & Bacteria & Actinobacteriota & Actinomycetia       & Mycobacteriales  & Mycobacteriaceae & Corynebacterium & Corynebacterium diphtheriae\\\\\n",
       "\t RS\\_GCF\\_903986995.1 & 99.72 & 0.60 & f & t & f & Contig & none & GCA\\_903986995.1 & 52797 & ⋯ & 5174169 & 492004 & 8 & Bacteria & Proteobacteria   & Gammaproteobacteria & Enterobacterales & Vibrionaceae     & Vibrio          & Vibrio diabolicus          \\\\\n",
       "\\end{tabular}\n"
      ],
      "text/markdown": [
       "\n",
       "A tidytable: 224823 × 23\n",
       "\n",
       "| accession &lt;chr&gt; | checkm_completeness &lt;dbl&gt; | checkm_contamination &lt;dbl&gt; | mimag_high_quality &lt;chr&gt; | mimag_medium_quality &lt;chr&gt; | mimag_low_quality &lt;chr&gt; | ncbi_assembly_level &lt;chr&gt; | ncbi_genome_category &lt;chr&gt; | ncbi_genbank_assembly_accession &lt;chr&gt; | mean_contig_length &lt;int&gt; | ⋯ ⋯ | genome_size &lt;int&gt; | n50_contigs &lt;int&gt; | ssu_count &lt;int&gt; | Domain &lt;chr&gt; | Phylum &lt;chr&gt; | Class &lt;chr&gt; | Order &lt;chr&gt; | Family &lt;chr&gt; | Genus &lt;chr&gt; | Species &lt;chr&gt; |\n",
       "|---|---|---|---|---|---|---|---|---|---|---|---|---|---|---|---|---|---|---|---|---|\n",
       "| GB_GCA_000200715.1 |  99.03 | 0 | t | f | f | Chromosome      | derived from environmental sample | GCA_000200715.1 |  340809 | ⋯ | 2045086 | 1281157 | 1 | Archaea | Thermoproteota | Nitrososphaeria | Nitrososphaerales | Nitrosopumilaceae | Cenarchaeum | Cenarchaeum symbiosum |\n",
       "| GB_GCA_000247545.1 | 100.00 | 0 | f | t | f | Complete Genome | none                              | GCA_000247545.1 | 1226460 | ⋯ | 2452920 | 2436033 | 2 | Archaea | Thermoproteota | Thermoproteia   | Thermoproteales   | Thermoproteaceae  | Pyrobaculum | Pyrobaculum oguniense |\n",
       "| ⋮ | ⋮ | ⋮ | ⋮ | ⋮ | ⋮ | ⋮ | ⋮ | ⋮ | ⋮ | ⋱ | ⋮ | ⋮ | ⋮ | ⋮ | ⋮ | ⋮ | ⋮ | ⋮ | ⋮ | ⋮ |\n",
       "| RS_GCF_903986495.1 | 99.45 | 0.13 | f | t | f | Contig | none | GCA_903986495.1 | 98137 | ⋯ | 2453425 | 178692 | 2 | Bacteria | Actinobacteriota | Actinomycetia       | Mycobacteriales  | Mycobacteriaceae | Corynebacterium | Corynebacterium diphtheriae |\n",
       "| RS_GCF_903986995.1 | 99.72 | 0.60 | f | t | f | Contig | none | GCA_903986995.1 | 52797 | ⋯ | 5174169 | 492004 | 8 | Bacteria | Proteobacteria   | Gammaproteobacteria | Enterobacterales | Vibrionaceae     | Vibrio          | Vibrio diabolicus           |\n",
       "\n"
      ],
      "text/plain": [
       "       accession          checkm_completeness checkm_contamination\n",
       "1      GB_GCA_000200715.1  99.03              0                   \n",
       "2      GB_GCA_000247545.1 100.00              0                   \n",
       "⋮      ⋮                  ⋮                   ⋮                   \n",
       "224822 RS_GCF_903986495.1 99.45               0.13                \n",
       "224823 RS_GCF_903986995.1 99.72               0.60                \n",
       "       mimag_high_quality mimag_medium_quality mimag_low_quality\n",
       "1      t                  f                    f                \n",
       "2      f                  t                    f                \n",
       "⋮      ⋮                  ⋮                    ⋮                \n",
       "224822 f                  t                    f                \n",
       "224823 f                  t                    f                \n",
       "       ncbi_assembly_level ncbi_genome_category             \n",
       "1      Chromosome          derived from environmental sample\n",
       "2      Complete Genome     none                             \n",
       "⋮      ⋮                   ⋮                                \n",
       "224822 Contig              none                             \n",
       "224823 Contig              none                             \n",
       "       ncbi_genbank_assembly_accession mean_contig_length ⋯ genome_size\n",
       "1      GCA_000200715.1                  340809            ⋯ 2045086    \n",
       "2      GCA_000247545.1                 1226460            ⋯ 2452920    \n",
       "⋮      ⋮                               ⋮                  ⋱ ⋮          \n",
       "224822 GCA_903986495.1                 98137              ⋯ 2453425    \n",
       "224823 GCA_903986995.1                 52797              ⋯ 5174169    \n",
       "       n50_contigs ssu_count Domain   Phylum           Class              \n",
       "1      1281157     1         Archaea  Thermoproteota   Nitrososphaeria    \n",
       "2      2436033     2         Archaea  Thermoproteota   Thermoproteia      \n",
       "⋮      ⋮           ⋮         ⋮        ⋮                ⋮                  \n",
       "224822 178692      2         Bacteria Actinobacteriota Actinomycetia      \n",
       "224823 492004      8         Bacteria Proteobacteria   Gammaproteobacteria\n",
       "       Order             Family            Genus          \n",
       "1      Nitrososphaerales Nitrosopumilaceae Cenarchaeum    \n",
       "2      Thermoproteales   Thermoproteaceae  Pyrobaculum    \n",
       "⋮      ⋮                 ⋮                 ⋮              \n",
       "224822 Mycobacteriales   Mycobacteriaceae  Corynebacterium\n",
       "224823 Enterobacterales  Vibrionaceae      Vibrio         \n",
       "       Species                    \n",
       "1      Cenarchaeum symbiosum      \n",
       "2      Pyrobaculum oguniense      \n",
       "⋮      ⋮                          \n",
       "224822 Corynebacterium diphtheriae\n",
       "224823 Vibrio diabolicus          "
      ]
     },
     "metadata": {},
     "output_type": "display_data"
    }
   ],
   "source": [
    "meta_f = meta %>%\n",
    "    filter.(checkm_completeness >= 90,\n",
    "            checkm_contamination < 5)\n",
    "meta_f "
   ]
  },
  {
   "cell_type": "markdown",
   "id": "13cbb050",
   "metadata": {},
   "source": [
    "## MiMAG quality"
   ]
  },
  {
   "cell_type": "code",
   "execution_count": 11,
   "id": "bafe1104",
   "metadata": {
    "ExecuteTime": {
     "end_time": "2021-08-13T12:51:21.257884Z",
     "start_time": "2021-08-13T12:51:05.885Z"
    }
   },
   "outputs": [
    {
     "data": {
      "text/plain": [
       ".\n",
       "     f      t \n",
       " 92935 131888 "
      ]
     },
     "metadata": {},
     "output_type": "display_data"
    },
    {
     "data": {
      "text/plain": [
       ".\n",
       "     f      t \n",
       "131888  92935 "
      ]
     },
     "metadata": {},
     "output_type": "display_data"
    },
    {
     "data": {
      "text/plain": [
       ".\n",
       "     f \n",
       "224823 "
      ]
     },
     "metadata": {},
     "output_type": "display_data"
    }
   ],
   "source": [
    "meta_f$mimag_high_quality %>% table\n",
    "meta_f$mimag_medium_quality %>% table\n",
    "meta_f$mimag_low_quality %>% table"
   ]
  },
  {
   "cell_type": "code",
   "execution_count": 12,
   "id": "f738c765",
   "metadata": {
    "ExecuteTime": {
     "end_time": "2021-08-13T12:51:21.331582Z",
     "start_time": "2021-08-13T12:51:05.890Z"
    }
   },
   "outputs": [
    {
     "data": {
      "text/html": [
       "<table class=\"dataframe\">\n",
       "<caption>A tidytable: 131888 × 23</caption>\n",
       "<thead>\n",
       "\t<tr><th scope=col>accession</th><th scope=col>checkm_completeness</th><th scope=col>checkm_contamination</th><th scope=col>mimag_high_quality</th><th scope=col>mimag_medium_quality</th><th scope=col>mimag_low_quality</th><th scope=col>ncbi_assembly_level</th><th scope=col>ncbi_genome_category</th><th scope=col>ncbi_genbank_assembly_accession</th><th scope=col>mean_contig_length</th><th scope=col>⋯</th><th scope=col>genome_size</th><th scope=col>n50_contigs</th><th scope=col>ssu_count</th><th scope=col>Domain</th><th scope=col>Phylum</th><th scope=col>Class</th><th scope=col>Order</th><th scope=col>Family</th><th scope=col>Genus</th><th scope=col>Species</th></tr>\n",
       "\t<tr><th scope=col>&lt;chr&gt;</th><th scope=col>&lt;dbl&gt;</th><th scope=col>&lt;dbl&gt;</th><th scope=col>&lt;chr&gt;</th><th scope=col>&lt;chr&gt;</th><th scope=col>&lt;chr&gt;</th><th scope=col>&lt;chr&gt;</th><th scope=col>&lt;chr&gt;</th><th scope=col>&lt;chr&gt;</th><th scope=col>&lt;int&gt;</th><th scope=col>⋯</th><th scope=col>&lt;int&gt;</th><th scope=col>&lt;int&gt;</th><th scope=col>&lt;int&gt;</th><th scope=col>&lt;chr&gt;</th><th scope=col>&lt;chr&gt;</th><th scope=col>&lt;chr&gt;</th><th scope=col>&lt;chr&gt;</th><th scope=col>&lt;chr&gt;</th><th scope=col>&lt;chr&gt;</th><th scope=col>&lt;chr&gt;</th></tr>\n",
       "</thead>\n",
       "<tbody>\n",
       "\t<tr><td>GB_GCA_000200715.1</td><td>99.03</td><td>0</td><td>t</td><td>f</td><td>f</td><td>Chromosome     </td><td>derived from environmental sample</td><td>GCA_000200715.1</td><td> 340809</td><td>⋯</td><td>2045086</td><td>1281157</td><td>1</td><td>Archaea</td><td>Thermoproteota</td><td>Nitrososphaeria</td><td>Nitrososphaerales</td><td>Nitrosopumilaceae </td><td>Cenarchaeum </td><td>Cenarchaeum symbiosum     </td></tr>\n",
       "\t<tr><td>GB_GCA_000306725.1</td><td>99.84</td><td>0</td><td>t</td><td>f</td><td>f</td><td>Complete Genome</td><td>none                             </td><td>GCA_000306725.1</td><td>3072769</td><td>⋯</td><td>3072769</td><td>3072769</td><td>3</td><td>Archaea</td><td>Halobacteriota</td><td>Methanosarcinia</td><td>Methanosarcinales</td><td>Methanosarcinaceae</td><td>Methanolobus</td><td>Methanolobus psychrophilus</td></tr>\n",
       "\t<tr><td>⋮</td><td>⋮</td><td>⋮</td><td>⋮</td><td>⋮</td><td>⋮</td><td>⋮</td><td>⋮</td><td>⋮</td><td>⋮</td><td>⋱</td><td>⋮</td><td>⋮</td><td>⋮</td><td>⋮</td><td>⋮</td><td>⋮</td><td>⋮</td><td>⋮</td><td>⋮</td><td>⋮</td></tr>\n",
       "\t<tr><td>RS_GCF_903971035.1</td><td>99.43</td><td>0.61</td><td>t</td><td>f</td><td>f</td><td>Contig</td><td>none</td><td>GCA_903971035.1</td><td>45625</td><td>⋯</td><td>5475026</td><td>408314</td><td>1</td><td>Bacteria</td><td>Firmicutes      </td><td>Bacilli      </td><td>Bacillales     </td><td>Bacillaceae_H   </td><td>Priestia       </td><td>Priestia aryabhattai       </td></tr>\n",
       "\t<tr><td>RS_GCF_903986115.1</td><td>99.45</td><td>0.00</td><td>t</td><td>f</td><td>f</td><td>Contig</td><td>none</td><td>GCA_903986115.1</td><td>52224</td><td>⋯</td><td>2402342</td><td>142020</td><td>1</td><td>Bacteria</td><td>Actinobacteriota</td><td>Actinomycetia</td><td>Mycobacteriales</td><td>Mycobacteriaceae</td><td>Corynebacterium</td><td>Corynebacterium diphtheriae</td></tr>\n",
       "</tbody>\n",
       "</table>\n"
      ],
      "text/latex": [
       "A tidytable: 131888 × 23\n",
       "\\begin{tabular}{lllllllllllllllllllll}\n",
       " accession & checkm\\_completeness & checkm\\_contamination & mimag\\_high\\_quality & mimag\\_medium\\_quality & mimag\\_low\\_quality & ncbi\\_assembly\\_level & ncbi\\_genome\\_category & ncbi\\_genbank\\_assembly\\_accession & mean\\_contig\\_length & ⋯ & genome\\_size & n50\\_contigs & ssu\\_count & Domain & Phylum & Class & Order & Family & Genus & Species\\\\\n",
       " <chr> & <dbl> & <dbl> & <chr> & <chr> & <chr> & <chr> & <chr> & <chr> & <int> & ⋯ & <int> & <int> & <int> & <chr> & <chr> & <chr> & <chr> & <chr> & <chr> & <chr>\\\\\n",
       "\\hline\n",
       "\t GB\\_GCA\\_000200715.1 & 99.03 & 0 & t & f & f & Chromosome      & derived from environmental sample & GCA\\_000200715.1 &  340809 & ⋯ & 2045086 & 1281157 & 1 & Archaea & Thermoproteota & Nitrososphaeria & Nitrososphaerales & Nitrosopumilaceae  & Cenarchaeum  & Cenarchaeum symbiosum     \\\\\n",
       "\t GB\\_GCA\\_000306725.1 & 99.84 & 0 & t & f & f & Complete Genome & none                              & GCA\\_000306725.1 & 3072769 & ⋯ & 3072769 & 3072769 & 3 & Archaea & Halobacteriota & Methanosarcinia & Methanosarcinales & Methanosarcinaceae & Methanolobus & Methanolobus psychrophilus\\\\\n",
       "\t ⋮ & ⋮ & ⋮ & ⋮ & ⋮ & ⋮ & ⋮ & ⋮ & ⋮ & ⋮ & ⋱ & ⋮ & ⋮ & ⋮ & ⋮ & ⋮ & ⋮ & ⋮ & ⋮ & ⋮ & ⋮\\\\\n",
       "\t RS\\_GCF\\_903971035.1 & 99.43 & 0.61 & t & f & f & Contig & none & GCA\\_903971035.1 & 45625 & ⋯ & 5475026 & 408314 & 1 & Bacteria & Firmicutes       & Bacilli       & Bacillales      & Bacillaceae\\_H    & Priestia        & Priestia aryabhattai       \\\\\n",
       "\t RS\\_GCF\\_903986115.1 & 99.45 & 0.00 & t & f & f & Contig & none & GCA\\_903986115.1 & 52224 & ⋯ & 2402342 & 142020 & 1 & Bacteria & Actinobacteriota & Actinomycetia & Mycobacteriales & Mycobacteriaceae & Corynebacterium & Corynebacterium diphtheriae\\\\\n",
       "\\end{tabular}\n"
      ],
      "text/markdown": [
       "\n",
       "A tidytable: 131888 × 23\n",
       "\n",
       "| accession &lt;chr&gt; | checkm_completeness &lt;dbl&gt; | checkm_contamination &lt;dbl&gt; | mimag_high_quality &lt;chr&gt; | mimag_medium_quality &lt;chr&gt; | mimag_low_quality &lt;chr&gt; | ncbi_assembly_level &lt;chr&gt; | ncbi_genome_category &lt;chr&gt; | ncbi_genbank_assembly_accession &lt;chr&gt; | mean_contig_length &lt;int&gt; | ⋯ ⋯ | genome_size &lt;int&gt; | n50_contigs &lt;int&gt; | ssu_count &lt;int&gt; | Domain &lt;chr&gt; | Phylum &lt;chr&gt; | Class &lt;chr&gt; | Order &lt;chr&gt; | Family &lt;chr&gt; | Genus &lt;chr&gt; | Species &lt;chr&gt; |\n",
       "|---|---|---|---|---|---|---|---|---|---|---|---|---|---|---|---|---|---|---|---|---|\n",
       "| GB_GCA_000200715.1 | 99.03 | 0 | t | f | f | Chromosome      | derived from environmental sample | GCA_000200715.1 |  340809 | ⋯ | 2045086 | 1281157 | 1 | Archaea | Thermoproteota | Nitrososphaeria | Nitrososphaerales | Nitrosopumilaceae  | Cenarchaeum  | Cenarchaeum symbiosum      |\n",
       "| GB_GCA_000306725.1 | 99.84 | 0 | t | f | f | Complete Genome | none                              | GCA_000306725.1 | 3072769 | ⋯ | 3072769 | 3072769 | 3 | Archaea | Halobacteriota | Methanosarcinia | Methanosarcinales | Methanosarcinaceae | Methanolobus | Methanolobus psychrophilus |\n",
       "| ⋮ | ⋮ | ⋮ | ⋮ | ⋮ | ⋮ | ⋮ | ⋮ | ⋮ | ⋮ | ⋱ | ⋮ | ⋮ | ⋮ | ⋮ | ⋮ | ⋮ | ⋮ | ⋮ | ⋮ | ⋮ |\n",
       "| RS_GCF_903971035.1 | 99.43 | 0.61 | t | f | f | Contig | none | GCA_903971035.1 | 45625 | ⋯ | 5475026 | 408314 | 1 | Bacteria | Firmicutes       | Bacilli       | Bacillales      | Bacillaceae_H    | Priestia        | Priestia aryabhattai        |\n",
       "| RS_GCF_903986115.1 | 99.45 | 0.00 | t | f | f | Contig | none | GCA_903986115.1 | 52224 | ⋯ | 2402342 | 142020 | 1 | Bacteria | Actinobacteriota | Actinomycetia | Mycobacteriales | Mycobacteriaceae | Corynebacterium | Corynebacterium diphtheriae |\n",
       "\n"
      ],
      "text/plain": [
       "       accession          checkm_completeness checkm_contamination\n",
       "1      GB_GCA_000200715.1 99.03               0                   \n",
       "2      GB_GCA_000306725.1 99.84               0                   \n",
       "⋮      ⋮                  ⋮                   ⋮                   \n",
       "131887 RS_GCF_903971035.1 99.43               0.61                \n",
       "131888 RS_GCF_903986115.1 99.45               0.00                \n",
       "       mimag_high_quality mimag_medium_quality mimag_low_quality\n",
       "1      t                  f                    f                \n",
       "2      t                  f                    f                \n",
       "⋮      ⋮                  ⋮                    ⋮                \n",
       "131887 t                  f                    f                \n",
       "131888 t                  f                    f                \n",
       "       ncbi_assembly_level ncbi_genome_category             \n",
       "1      Chromosome          derived from environmental sample\n",
       "2      Complete Genome     none                             \n",
       "⋮      ⋮                   ⋮                                \n",
       "131887 Contig              none                             \n",
       "131888 Contig              none                             \n",
       "       ncbi_genbank_assembly_accession mean_contig_length ⋯ genome_size\n",
       "1      GCA_000200715.1                  340809            ⋯ 2045086    \n",
       "2      GCA_000306725.1                 3072769            ⋯ 3072769    \n",
       "⋮      ⋮                               ⋮                  ⋱ ⋮          \n",
       "131887 GCA_903971035.1                 45625              ⋯ 5475026    \n",
       "131888 GCA_903986115.1                 52224              ⋯ 2402342    \n",
       "       n50_contigs ssu_count Domain   Phylum           Class          \n",
       "1      1281157     1         Archaea  Thermoproteota   Nitrososphaeria\n",
       "2      3072769     3         Archaea  Halobacteriota   Methanosarcinia\n",
       "⋮      ⋮           ⋮         ⋮        ⋮                ⋮              \n",
       "131887 408314      1         Bacteria Firmicutes       Bacilli        \n",
       "131888 142020      1         Bacteria Actinobacteriota Actinomycetia  \n",
       "       Order             Family             Genus          \n",
       "1      Nitrososphaerales Nitrosopumilaceae  Cenarchaeum    \n",
       "2      Methanosarcinales Methanosarcinaceae Methanolobus   \n",
       "⋮      ⋮                 ⋮                  ⋮              \n",
       "131887 Bacillales        Bacillaceae_H      Priestia       \n",
       "131888 Mycobacteriales   Mycobacteriaceae   Corynebacterium\n",
       "       Species                    \n",
       "1      Cenarchaeum symbiosum      \n",
       "2      Methanolobus psychrophilus \n",
       "⋮      ⋮                          \n",
       "131887 Priestia aryabhattai       \n",
       "131888 Corynebacterium diphtheriae"
      ]
     },
     "metadata": {},
     "output_type": "display_data"
    }
   ],
   "source": [
    "meta_f = meta_f %>% \n",
    "    filter.(mimag_high_quality == 't')\n",
    "meta_f"
   ]
  },
  {
   "cell_type": "markdown",
   "id": "46c7ea55",
   "metadata": {},
   "source": [
    "## ncb_genome_category"
   ]
  },
  {
   "cell_type": "code",
   "execution_count": 13,
   "id": "09e01442",
   "metadata": {
    "ExecuteTime": {
     "end_time": "2021-08-13T12:51:21.709601Z",
     "start_time": "2021-08-13T12:51:05.894Z"
    }
   },
   "outputs": [
    {
     "data": {
      "text/plain": [
       ".\n",
       "derived from environmental sample                              none \n",
       "                             1444                            128413 "
      ]
     },
     "metadata": {},
     "output_type": "display_data"
    },
    {
     "data": {
      "text/html": [
       "<table class=\"dataframe\">\n",
       "<caption>A tidytable: 129857 × 23</caption>\n",
       "<thead>\n",
       "\t<tr><th scope=col>accession</th><th scope=col>checkm_completeness</th><th scope=col>checkm_contamination</th><th scope=col>mimag_high_quality</th><th scope=col>mimag_medium_quality</th><th scope=col>mimag_low_quality</th><th scope=col>ncbi_assembly_level</th><th scope=col>ncbi_genome_category</th><th scope=col>ncbi_genbank_assembly_accession</th><th scope=col>mean_contig_length</th><th scope=col>⋯</th><th scope=col>genome_size</th><th scope=col>n50_contigs</th><th scope=col>ssu_count</th><th scope=col>Domain</th><th scope=col>Phylum</th><th scope=col>Class</th><th scope=col>Order</th><th scope=col>Family</th><th scope=col>Genus</th><th scope=col>Species</th></tr>\n",
       "\t<tr><th scope=col>&lt;chr&gt;</th><th scope=col>&lt;dbl&gt;</th><th scope=col>&lt;dbl&gt;</th><th scope=col>&lt;chr&gt;</th><th scope=col>&lt;chr&gt;</th><th scope=col>&lt;chr&gt;</th><th scope=col>&lt;chr&gt;</th><th scope=col>&lt;chr&gt;</th><th scope=col>&lt;chr&gt;</th><th scope=col>&lt;int&gt;</th><th scope=col>⋯</th><th scope=col>&lt;int&gt;</th><th scope=col>&lt;int&gt;</th><th scope=col>&lt;int&gt;</th><th scope=col>&lt;chr&gt;</th><th scope=col>&lt;chr&gt;</th><th scope=col>&lt;chr&gt;</th><th scope=col>&lt;chr&gt;</th><th scope=col>&lt;chr&gt;</th><th scope=col>&lt;chr&gt;</th><th scope=col>&lt;chr&gt;</th></tr>\n",
       "</thead>\n",
       "<tbody>\n",
       "\t<tr><td>GB_GCA_000200715.1</td><td>99.03</td><td>0</td><td>t</td><td>f</td><td>f</td><td>Chromosome     </td><td>derived from environmental sample</td><td>GCA_000200715.1</td><td> 340809</td><td>⋯</td><td>2045086</td><td>1281157</td><td>1</td><td>Archaea</td><td>Thermoproteota</td><td>Nitrososphaeria</td><td>Nitrososphaerales</td><td>Nitrosopumilaceae </td><td>Cenarchaeum </td><td>Cenarchaeum symbiosum     </td></tr>\n",
       "\t<tr><td>GB_GCA_000306725.1</td><td>99.84</td><td>0</td><td>t</td><td>f</td><td>f</td><td>Complete Genome</td><td>none                             </td><td>GCA_000306725.1</td><td>3072769</td><td>⋯</td><td>3072769</td><td>3072769</td><td>3</td><td>Archaea</td><td>Halobacteriota</td><td>Methanosarcinia</td><td>Methanosarcinales</td><td>Methanosarcinaceae</td><td>Methanolobus</td><td>Methanolobus psychrophilus</td></tr>\n",
       "\t<tr><td>⋮</td><td>⋮</td><td>⋮</td><td>⋮</td><td>⋮</td><td>⋮</td><td>⋮</td><td>⋮</td><td>⋮</td><td>⋮</td><td>⋱</td><td>⋮</td><td>⋮</td><td>⋮</td><td>⋮</td><td>⋮</td><td>⋮</td><td>⋮</td><td>⋮</td><td>⋮</td><td>⋮</td></tr>\n",
       "\t<tr><td>RS_GCF_903971035.1</td><td>99.43</td><td>0.61</td><td>t</td><td>f</td><td>f</td><td>Contig</td><td>none</td><td>GCA_903971035.1</td><td>45625</td><td>⋯</td><td>5475026</td><td>408314</td><td>1</td><td>Bacteria</td><td>Firmicutes      </td><td>Bacilli      </td><td>Bacillales     </td><td>Bacillaceae_H   </td><td>Priestia       </td><td>Priestia aryabhattai       </td></tr>\n",
       "\t<tr><td>RS_GCF_903986115.1</td><td>99.45</td><td>0.00</td><td>t</td><td>f</td><td>f</td><td>Contig</td><td>none</td><td>GCA_903986115.1</td><td>52224</td><td>⋯</td><td>2402342</td><td>142020</td><td>1</td><td>Bacteria</td><td>Actinobacteriota</td><td>Actinomycetia</td><td>Mycobacteriales</td><td>Mycobacteriaceae</td><td>Corynebacterium</td><td>Corynebacterium diphtheriae</td></tr>\n",
       "</tbody>\n",
       "</table>\n"
      ],
      "text/latex": [
       "A tidytable: 129857 × 23\n",
       "\\begin{tabular}{lllllllllllllllllllll}\n",
       " accession & checkm\\_completeness & checkm\\_contamination & mimag\\_high\\_quality & mimag\\_medium\\_quality & mimag\\_low\\_quality & ncbi\\_assembly\\_level & ncbi\\_genome\\_category & ncbi\\_genbank\\_assembly\\_accession & mean\\_contig\\_length & ⋯ & genome\\_size & n50\\_contigs & ssu\\_count & Domain & Phylum & Class & Order & Family & Genus & Species\\\\\n",
       " <chr> & <dbl> & <dbl> & <chr> & <chr> & <chr> & <chr> & <chr> & <chr> & <int> & ⋯ & <int> & <int> & <int> & <chr> & <chr> & <chr> & <chr> & <chr> & <chr> & <chr>\\\\\n",
       "\\hline\n",
       "\t GB\\_GCA\\_000200715.1 & 99.03 & 0 & t & f & f & Chromosome      & derived from environmental sample & GCA\\_000200715.1 &  340809 & ⋯ & 2045086 & 1281157 & 1 & Archaea & Thermoproteota & Nitrososphaeria & Nitrososphaerales & Nitrosopumilaceae  & Cenarchaeum  & Cenarchaeum symbiosum     \\\\\n",
       "\t GB\\_GCA\\_000306725.1 & 99.84 & 0 & t & f & f & Complete Genome & none                              & GCA\\_000306725.1 & 3072769 & ⋯ & 3072769 & 3072769 & 3 & Archaea & Halobacteriota & Methanosarcinia & Methanosarcinales & Methanosarcinaceae & Methanolobus & Methanolobus psychrophilus\\\\\n",
       "\t ⋮ & ⋮ & ⋮ & ⋮ & ⋮ & ⋮ & ⋮ & ⋮ & ⋮ & ⋮ & ⋱ & ⋮ & ⋮ & ⋮ & ⋮ & ⋮ & ⋮ & ⋮ & ⋮ & ⋮ & ⋮\\\\\n",
       "\t RS\\_GCF\\_903971035.1 & 99.43 & 0.61 & t & f & f & Contig & none & GCA\\_903971035.1 & 45625 & ⋯ & 5475026 & 408314 & 1 & Bacteria & Firmicutes       & Bacilli       & Bacillales      & Bacillaceae\\_H    & Priestia        & Priestia aryabhattai       \\\\\n",
       "\t RS\\_GCF\\_903986115.1 & 99.45 & 0.00 & t & f & f & Contig & none & GCA\\_903986115.1 & 52224 & ⋯ & 2402342 & 142020 & 1 & Bacteria & Actinobacteriota & Actinomycetia & Mycobacteriales & Mycobacteriaceae & Corynebacterium & Corynebacterium diphtheriae\\\\\n",
       "\\end{tabular}\n"
      ],
      "text/markdown": [
       "\n",
       "A tidytable: 129857 × 23\n",
       "\n",
       "| accession &lt;chr&gt; | checkm_completeness &lt;dbl&gt; | checkm_contamination &lt;dbl&gt; | mimag_high_quality &lt;chr&gt; | mimag_medium_quality &lt;chr&gt; | mimag_low_quality &lt;chr&gt; | ncbi_assembly_level &lt;chr&gt; | ncbi_genome_category &lt;chr&gt; | ncbi_genbank_assembly_accession &lt;chr&gt; | mean_contig_length &lt;int&gt; | ⋯ ⋯ | genome_size &lt;int&gt; | n50_contigs &lt;int&gt; | ssu_count &lt;int&gt; | Domain &lt;chr&gt; | Phylum &lt;chr&gt; | Class &lt;chr&gt; | Order &lt;chr&gt; | Family &lt;chr&gt; | Genus &lt;chr&gt; | Species &lt;chr&gt; |\n",
       "|---|---|---|---|---|---|---|---|---|---|---|---|---|---|---|---|---|---|---|---|---|\n",
       "| GB_GCA_000200715.1 | 99.03 | 0 | t | f | f | Chromosome      | derived from environmental sample | GCA_000200715.1 |  340809 | ⋯ | 2045086 | 1281157 | 1 | Archaea | Thermoproteota | Nitrososphaeria | Nitrososphaerales | Nitrosopumilaceae  | Cenarchaeum  | Cenarchaeum symbiosum      |\n",
       "| GB_GCA_000306725.1 | 99.84 | 0 | t | f | f | Complete Genome | none                              | GCA_000306725.1 | 3072769 | ⋯ | 3072769 | 3072769 | 3 | Archaea | Halobacteriota | Methanosarcinia | Methanosarcinales | Methanosarcinaceae | Methanolobus | Methanolobus psychrophilus |\n",
       "| ⋮ | ⋮ | ⋮ | ⋮ | ⋮ | ⋮ | ⋮ | ⋮ | ⋮ | ⋮ | ⋱ | ⋮ | ⋮ | ⋮ | ⋮ | ⋮ | ⋮ | ⋮ | ⋮ | ⋮ | ⋮ |\n",
       "| RS_GCF_903971035.1 | 99.43 | 0.61 | t | f | f | Contig | none | GCA_903971035.1 | 45625 | ⋯ | 5475026 | 408314 | 1 | Bacteria | Firmicutes       | Bacilli       | Bacillales      | Bacillaceae_H    | Priestia        | Priestia aryabhattai        |\n",
       "| RS_GCF_903986115.1 | 99.45 | 0.00 | t | f | f | Contig | none | GCA_903986115.1 | 52224 | ⋯ | 2402342 | 142020 | 1 | Bacteria | Actinobacteriota | Actinomycetia | Mycobacteriales | Mycobacteriaceae | Corynebacterium | Corynebacterium diphtheriae |\n",
       "\n"
      ],
      "text/plain": [
       "       accession          checkm_completeness checkm_contamination\n",
       "1      GB_GCA_000200715.1 99.03               0                   \n",
       "2      GB_GCA_000306725.1 99.84               0                   \n",
       "⋮      ⋮                  ⋮                   ⋮                   \n",
       "129856 RS_GCF_903971035.1 99.43               0.61                \n",
       "129857 RS_GCF_903986115.1 99.45               0.00                \n",
       "       mimag_high_quality mimag_medium_quality mimag_low_quality\n",
       "1      t                  f                    f                \n",
       "2      t                  f                    f                \n",
       "⋮      ⋮                  ⋮                    ⋮                \n",
       "129856 t                  f                    f                \n",
       "129857 t                  f                    f                \n",
       "       ncbi_assembly_level ncbi_genome_category             \n",
       "1      Chromosome          derived from environmental sample\n",
       "2      Complete Genome     none                             \n",
       "⋮      ⋮                   ⋮                                \n",
       "129856 Contig              none                             \n",
       "129857 Contig              none                             \n",
       "       ncbi_genbank_assembly_accession mean_contig_length ⋯ genome_size\n",
       "1      GCA_000200715.1                  340809            ⋯ 2045086    \n",
       "2      GCA_000306725.1                 3072769            ⋯ 3072769    \n",
       "⋮      ⋮                               ⋮                  ⋱ ⋮          \n",
       "129856 GCA_903971035.1                 45625              ⋯ 5475026    \n",
       "129857 GCA_903986115.1                 52224              ⋯ 2402342    \n",
       "       n50_contigs ssu_count Domain   Phylum           Class          \n",
       "1      1281157     1         Archaea  Thermoproteota   Nitrososphaeria\n",
       "2      3072769     3         Archaea  Halobacteriota   Methanosarcinia\n",
       "⋮      ⋮           ⋮         ⋮        ⋮                ⋮              \n",
       "129856 408314      1         Bacteria Firmicutes       Bacilli        \n",
       "129857 142020      1         Bacteria Actinobacteriota Actinomycetia  \n",
       "       Order             Family             Genus          \n",
       "1      Nitrososphaerales Nitrosopumilaceae  Cenarchaeum    \n",
       "2      Methanosarcinales Methanosarcinaceae Methanolobus   \n",
       "⋮      ⋮                 ⋮                  ⋮              \n",
       "129856 Bacillales        Bacillaceae_H      Priestia       \n",
       "129857 Mycobacteriales   Mycobacteriaceae   Corynebacterium\n",
       "       Species                    \n",
       "1      Cenarchaeum symbiosum      \n",
       "2      Methanolobus psychrophilus \n",
       "⋮      ⋮                          \n",
       "129856 Priestia aryabhattai       \n",
       "129857 Corynebacterium diphtheriae"
      ]
     },
     "metadata": {},
     "output_type": "display_data"
    }
   ],
   "source": [
    "to_rm = c('derived from metagenome', 'derived from single cell')\n",
    "meta_f = meta_f %>%\n",
    "    filter.(! ncbi_genome_category %in% to_rm)\n",
    "meta_f$ncbi_genome_category %>% table \n",
    "meta_f"
   ]
  },
  {
   "cell_type": "markdown",
   "id": "c1647909",
   "metadata": {},
   "source": [
    "## ncbi_genbank_assembly_accession"
   ]
  },
  {
   "cell_type": "code",
   "execution_count": 14,
   "id": "f76cfaeb",
   "metadata": {
    "ExecuteTime": {
     "end_time": "2021-08-13T12:51:21.751998Z",
     "start_time": "2021-08-13T12:51:05.898Z"
    }
   },
   "outputs": [
    {
     "data": {
      "text/plain": [
       "   Length     Class      Mode \n",
       "   129857 character character "
      ]
     },
     "metadata": {},
     "output_type": "display_data"
    },
    {
     "data": {
      "text/html": [
       "0"
      ],
      "text/latex": [
       "0"
      ],
      "text/markdown": [
       "0"
      ],
      "text/plain": [
       "[1] 0"
      ]
     },
     "metadata": {},
     "output_type": "display_data"
    }
   ],
   "source": [
    "meta_f$ncbi_genbank_assembly_accession %>% summary\n",
    "meta_f %>%\n",
    "    filter.(! grepl('^GCA_', ncbi_genbank_assembly_accession)) %>%\n",
    "    nrow"
   ]
  },
  {
   "cell_type": "markdown",
   "id": "5c2ae59e",
   "metadata": {},
   "source": [
    "## assembly contiguitiy"
   ]
  },
  {
   "cell_type": "code",
   "execution_count": 15,
   "id": "eac94c7b",
   "metadata": {
    "ExecuteTime": {
     "end_time": "2021-08-13T12:51:21.788721Z",
     "start_time": "2021-08-13T12:51:05.901Z"
    }
   },
   "outputs": [
    {
     "data": {
      "text/html": [
       "<table class=\"dataframe\">\n",
       "<caption>A matrix: 1 × 8 of type dbl</caption>\n",
       "<thead>\n",
       "\t<tr><th></th><th scope=col>Min.</th><th scope=col>1st Qu.</th><th scope=col>Median</th><th scope=col>Mean</th><th scope=col>3rd Qu.</th><th scope=col>Max.</th><th scope=col>sd</th><th scope=col>sd_err_of_mean</th></tr>\n",
       "</thead>\n",
       "<tbody>\n",
       "\t<tr><th scope=row>gc_percentage</th><td>19.85241</td><td>39.54422</td><td>50.6308</td><td>49.92561</td><td>58.43198</td><td>77.01919</td><td>19.059</td><td>7.781</td></tr>\n",
       "</tbody>\n",
       "</table>\n"
      ],
      "text/latex": [
       "A matrix: 1 × 8 of type dbl\n",
       "\\begin{tabular}{r|llllllll}\n",
       "  & Min. & 1st Qu. & Median & Mean & 3rd Qu. & Max. & sd & sd\\_err\\_of\\_mean\\\\\n",
       "\\hline\n",
       "\tgc\\_percentage & 19.85241 & 39.54422 & 50.6308 & 49.92561 & 58.43198 & 77.01919 & 19.059 & 7.781\\\\\n",
       "\\end{tabular}\n"
      ],
      "text/markdown": [
       "\n",
       "A matrix: 1 × 8 of type dbl\n",
       "\n",
       "| <!--/--> | Min. | 1st Qu. | Median | Mean | 3rd Qu. | Max. | sd | sd_err_of_mean |\n",
       "|---|---|---|---|---|---|---|---|---|\n",
       "| gc_percentage | 19.85241 | 39.54422 | 50.6308 | 49.92561 | 58.43198 | 77.01919 | 19.059 | 7.781 |\n",
       "\n"
      ],
      "text/plain": [
       "              Min.     1st Qu.  Median  Mean     3rd Qu.  Max.     sd    \n",
       "gc_percentage 19.85241 39.54422 50.6308 49.92561 58.43198 77.01919 19.059\n",
       "              sd_err_of_mean\n",
       "gc_percentage 7.781         "
      ]
     },
     "metadata": {},
     "output_type": "display_data"
    }
   ],
   "source": [
    "summary_x(meta_f$gc_percentage)"
   ]
  },
  {
   "cell_type": "code",
   "execution_count": 16,
   "id": "1a4a00d7",
   "metadata": {
    "ExecuteTime": {
     "end_time": "2021-08-13T12:51:21.879259Z",
     "start_time": "2021-08-13T12:51:05.906Z"
    }
   },
   "outputs": [
    {
     "data": {
      "text/html": [
       "<table class=\"dataframe\">\n",
       "<caption>A matrix: 1 × 8 of type dbl</caption>\n",
       "<thead>\n",
       "\t<tr><th></th><th scope=col>Min.</th><th scope=col>1st Qu.</th><th scope=col>Median</th><th scope=col>Mean</th><th scope=col>3rd Qu.</th><th scope=col>Max.</th><th scope=col>sd</th><th scope=col>sd_err_of_mean</th></tr>\n",
       "</thead>\n",
       "<tbody>\n",
       "\t<tr><th scope=row>contig_count</th><td>1</td><td>20</td><td>62</td><td>99.65998</td><td>127</td><td>2243</td><td>891.666</td><td>364.021</td></tr>\n",
       "</tbody>\n",
       "</table>\n"
      ],
      "text/latex": [
       "A matrix: 1 × 8 of type dbl\n",
       "\\begin{tabular}{r|llllllll}\n",
       "  & Min. & 1st Qu. & Median & Mean & 3rd Qu. & Max. & sd & sd\\_err\\_of\\_mean\\\\\n",
       "\\hline\n",
       "\tcontig\\_count & 1 & 20 & 62 & 99.65998 & 127 & 2243 & 891.666 & 364.021\\\\\n",
       "\\end{tabular}\n"
      ],
      "text/markdown": [
       "\n",
       "A matrix: 1 × 8 of type dbl\n",
       "\n",
       "| <!--/--> | Min. | 1st Qu. | Median | Mean | 3rd Qu. | Max. | sd | sd_err_of_mean |\n",
       "|---|---|---|---|---|---|---|---|---|\n",
       "| contig_count | 1 | 20 | 62 | 99.65998 | 127 | 2243 | 891.666 | 364.021 |\n",
       "\n"
      ],
      "text/plain": [
       "             Min. 1st Qu. Median Mean     3rd Qu. Max. sd      sd_err_of_mean\n",
       "contig_count 1    20      62     99.65998 127     2243 891.666 364.021       "
      ]
     },
     "metadata": {},
     "output_type": "display_data"
    },
    {
     "data": {
      "text/html": [
       "<table class=\"dataframe\">\n",
       "<caption>A matrix: 1 × 8 of type dbl</caption>\n",
       "<thead>\n",
       "\t<tr><th></th><th scope=col>Min.</th><th scope=col>1st Qu.</th><th scope=col>Median</th><th scope=col>Mean</th><th scope=col>3rd Qu.</th><th scope=col>Max.</th><th scope=col>sd</th><th scope=col>sd_err_of_mean</th></tr>\n",
       "</thead>\n",
       "<tbody>\n",
       "\t<tr><th scope=row>contig_count</th><td>1</td><td>14</td><td>51</td><td>61.12639</td><td>95</td><td>200</td><td>71.918</td><td>29.36</td></tr>\n",
       "</tbody>\n",
       "</table>\n"
      ],
      "text/latex": [
       "A matrix: 1 × 8 of type dbl\n",
       "\\begin{tabular}{r|llllllll}\n",
       "  & Min. & 1st Qu. & Median & Mean & 3rd Qu. & Max. & sd & sd\\_err\\_of\\_mean\\\\\n",
       "\\hline\n",
       "\tcontig\\_count & 1 & 14 & 51 & 61.12639 & 95 & 200 & 71.918 & 29.36\\\\\n",
       "\\end{tabular}\n"
      ],
      "text/markdown": [
       "\n",
       "A matrix: 1 × 8 of type dbl\n",
       "\n",
       "| <!--/--> | Min. | 1st Qu. | Median | Mean | 3rd Qu. | Max. | sd | sd_err_of_mean |\n",
       "|---|---|---|---|---|---|---|---|---|\n",
       "| contig_count | 1 | 14 | 51 | 61.12639 | 95 | 200 | 71.918 | 29.36 |\n",
       "\n"
      ],
      "text/plain": [
       "             Min. 1st Qu. Median Mean     3rd Qu. Max. sd     sd_err_of_mean\n",
       "contig_count 1    14      51     61.12639 95      200  71.918 29.36         "
      ]
     },
     "metadata": {},
     "output_type": "display_data"
    },
    {
     "data": {
      "text/html": [
       "<table class=\"dataframe\">\n",
       "<caption>A tidytable: 113056 × 23</caption>\n",
       "<thead>\n",
       "\t<tr><th scope=col>accession</th><th scope=col>checkm_completeness</th><th scope=col>checkm_contamination</th><th scope=col>mimag_high_quality</th><th scope=col>mimag_medium_quality</th><th scope=col>mimag_low_quality</th><th scope=col>ncbi_assembly_level</th><th scope=col>ncbi_genome_category</th><th scope=col>ncbi_genbank_assembly_accession</th><th scope=col>mean_contig_length</th><th scope=col>⋯</th><th scope=col>genome_size</th><th scope=col>n50_contigs</th><th scope=col>ssu_count</th><th scope=col>Domain</th><th scope=col>Phylum</th><th scope=col>Class</th><th scope=col>Order</th><th scope=col>Family</th><th scope=col>Genus</th><th scope=col>Species</th></tr>\n",
       "\t<tr><th scope=col>&lt;chr&gt;</th><th scope=col>&lt;dbl&gt;</th><th scope=col>&lt;dbl&gt;</th><th scope=col>&lt;chr&gt;</th><th scope=col>&lt;chr&gt;</th><th scope=col>&lt;chr&gt;</th><th scope=col>&lt;chr&gt;</th><th scope=col>&lt;chr&gt;</th><th scope=col>&lt;chr&gt;</th><th scope=col>&lt;int&gt;</th><th scope=col>⋯</th><th scope=col>&lt;int&gt;</th><th scope=col>&lt;int&gt;</th><th scope=col>&lt;int&gt;</th><th scope=col>&lt;chr&gt;</th><th scope=col>&lt;chr&gt;</th><th scope=col>&lt;chr&gt;</th><th scope=col>&lt;chr&gt;</th><th scope=col>&lt;chr&gt;</th><th scope=col>&lt;chr&gt;</th><th scope=col>&lt;chr&gt;</th></tr>\n",
       "</thead>\n",
       "<tbody>\n",
       "\t<tr><td>GB_GCA_000200715.1</td><td>99.03</td><td>0</td><td>t</td><td>f</td><td>f</td><td>Chromosome     </td><td>derived from environmental sample</td><td>GCA_000200715.1</td><td> 340809</td><td>⋯</td><td>2045086</td><td>1281157</td><td>1</td><td>Archaea</td><td>Thermoproteota</td><td>Nitrososphaeria</td><td>Nitrososphaerales</td><td>Nitrosopumilaceae </td><td>Cenarchaeum </td><td>Cenarchaeum symbiosum     </td></tr>\n",
       "\t<tr><td>GB_GCA_000306725.1</td><td>99.84</td><td>0</td><td>t</td><td>f</td><td>f</td><td>Complete Genome</td><td>none                             </td><td>GCA_000306725.1</td><td>3072769</td><td>⋯</td><td>3072769</td><td>3072769</td><td>3</td><td>Archaea</td><td>Halobacteriota</td><td>Methanosarcinia</td><td>Methanosarcinales</td><td>Methanosarcinaceae</td><td>Methanolobus</td><td>Methanolobus psychrophilus</td></tr>\n",
       "\t<tr><td>⋮</td><td>⋮</td><td>⋮</td><td>⋮</td><td>⋮</td><td>⋮</td><td>⋮</td><td>⋮</td><td>⋮</td><td>⋮</td><td>⋱</td><td>⋮</td><td>⋮</td><td>⋮</td><td>⋮</td><td>⋮</td><td>⋮</td><td>⋮</td><td>⋮</td><td>⋮</td><td>⋮</td></tr>\n",
       "\t<tr><td>RS_GCF_903971035.1</td><td>99.43</td><td>0.61</td><td>t</td><td>f</td><td>f</td><td>Contig</td><td>none</td><td>GCA_903971035.1</td><td>45625</td><td>⋯</td><td>5475026</td><td>408314</td><td>1</td><td>Bacteria</td><td>Firmicutes      </td><td>Bacilli      </td><td>Bacillales     </td><td>Bacillaceae_H   </td><td>Priestia       </td><td>Priestia aryabhattai       </td></tr>\n",
       "\t<tr><td>RS_GCF_903986115.1</td><td>99.45</td><td>0.00</td><td>t</td><td>f</td><td>f</td><td>Contig</td><td>none</td><td>GCA_903986115.1</td><td>52224</td><td>⋯</td><td>2402342</td><td>142020</td><td>1</td><td>Bacteria</td><td>Actinobacteriota</td><td>Actinomycetia</td><td>Mycobacteriales</td><td>Mycobacteriaceae</td><td>Corynebacterium</td><td>Corynebacterium diphtheriae</td></tr>\n",
       "</tbody>\n",
       "</table>\n"
      ],
      "text/latex": [
       "A tidytable: 113056 × 23\n",
       "\\begin{tabular}{lllllllllllllllllllll}\n",
       " accession & checkm\\_completeness & checkm\\_contamination & mimag\\_high\\_quality & mimag\\_medium\\_quality & mimag\\_low\\_quality & ncbi\\_assembly\\_level & ncbi\\_genome\\_category & ncbi\\_genbank\\_assembly\\_accession & mean\\_contig\\_length & ⋯ & genome\\_size & n50\\_contigs & ssu\\_count & Domain & Phylum & Class & Order & Family & Genus & Species\\\\\n",
       " <chr> & <dbl> & <dbl> & <chr> & <chr> & <chr> & <chr> & <chr> & <chr> & <int> & ⋯ & <int> & <int> & <int> & <chr> & <chr> & <chr> & <chr> & <chr> & <chr> & <chr>\\\\\n",
       "\\hline\n",
       "\t GB\\_GCA\\_000200715.1 & 99.03 & 0 & t & f & f & Chromosome      & derived from environmental sample & GCA\\_000200715.1 &  340809 & ⋯ & 2045086 & 1281157 & 1 & Archaea & Thermoproteota & Nitrososphaeria & Nitrososphaerales & Nitrosopumilaceae  & Cenarchaeum  & Cenarchaeum symbiosum     \\\\\n",
       "\t GB\\_GCA\\_000306725.1 & 99.84 & 0 & t & f & f & Complete Genome & none                              & GCA\\_000306725.1 & 3072769 & ⋯ & 3072769 & 3072769 & 3 & Archaea & Halobacteriota & Methanosarcinia & Methanosarcinales & Methanosarcinaceae & Methanolobus & Methanolobus psychrophilus\\\\\n",
       "\t ⋮ & ⋮ & ⋮ & ⋮ & ⋮ & ⋮ & ⋮ & ⋮ & ⋮ & ⋮ & ⋱ & ⋮ & ⋮ & ⋮ & ⋮ & ⋮ & ⋮ & ⋮ & ⋮ & ⋮ & ⋮\\\\\n",
       "\t RS\\_GCF\\_903971035.1 & 99.43 & 0.61 & t & f & f & Contig & none & GCA\\_903971035.1 & 45625 & ⋯ & 5475026 & 408314 & 1 & Bacteria & Firmicutes       & Bacilli       & Bacillales      & Bacillaceae\\_H    & Priestia        & Priestia aryabhattai       \\\\\n",
       "\t RS\\_GCF\\_903986115.1 & 99.45 & 0.00 & t & f & f & Contig & none & GCA\\_903986115.1 & 52224 & ⋯ & 2402342 & 142020 & 1 & Bacteria & Actinobacteriota & Actinomycetia & Mycobacteriales & Mycobacteriaceae & Corynebacterium & Corynebacterium diphtheriae\\\\\n",
       "\\end{tabular}\n"
      ],
      "text/markdown": [
       "\n",
       "A tidytable: 113056 × 23\n",
       "\n",
       "| accession &lt;chr&gt; | checkm_completeness &lt;dbl&gt; | checkm_contamination &lt;dbl&gt; | mimag_high_quality &lt;chr&gt; | mimag_medium_quality &lt;chr&gt; | mimag_low_quality &lt;chr&gt; | ncbi_assembly_level &lt;chr&gt; | ncbi_genome_category &lt;chr&gt; | ncbi_genbank_assembly_accession &lt;chr&gt; | mean_contig_length &lt;int&gt; | ⋯ ⋯ | genome_size &lt;int&gt; | n50_contigs &lt;int&gt; | ssu_count &lt;int&gt; | Domain &lt;chr&gt; | Phylum &lt;chr&gt; | Class &lt;chr&gt; | Order &lt;chr&gt; | Family &lt;chr&gt; | Genus &lt;chr&gt; | Species &lt;chr&gt; |\n",
       "|---|---|---|---|---|---|---|---|---|---|---|---|---|---|---|---|---|---|---|---|---|\n",
       "| GB_GCA_000200715.1 | 99.03 | 0 | t | f | f | Chromosome      | derived from environmental sample | GCA_000200715.1 |  340809 | ⋯ | 2045086 | 1281157 | 1 | Archaea | Thermoproteota | Nitrososphaeria | Nitrososphaerales | Nitrosopumilaceae  | Cenarchaeum  | Cenarchaeum symbiosum      |\n",
       "| GB_GCA_000306725.1 | 99.84 | 0 | t | f | f | Complete Genome | none                              | GCA_000306725.1 | 3072769 | ⋯ | 3072769 | 3072769 | 3 | Archaea | Halobacteriota | Methanosarcinia | Methanosarcinales | Methanosarcinaceae | Methanolobus | Methanolobus psychrophilus |\n",
       "| ⋮ | ⋮ | ⋮ | ⋮ | ⋮ | ⋮ | ⋮ | ⋮ | ⋮ | ⋮ | ⋱ | ⋮ | ⋮ | ⋮ | ⋮ | ⋮ | ⋮ | ⋮ | ⋮ | ⋮ | ⋮ |\n",
       "| RS_GCF_903971035.1 | 99.43 | 0.61 | t | f | f | Contig | none | GCA_903971035.1 | 45625 | ⋯ | 5475026 | 408314 | 1 | Bacteria | Firmicutes       | Bacilli       | Bacillales      | Bacillaceae_H    | Priestia        | Priestia aryabhattai        |\n",
       "| RS_GCF_903986115.1 | 99.45 | 0.00 | t | f | f | Contig | none | GCA_903986115.1 | 52224 | ⋯ | 2402342 | 142020 | 1 | Bacteria | Actinobacteriota | Actinomycetia | Mycobacteriales | Mycobacteriaceae | Corynebacterium | Corynebacterium diphtheriae |\n",
       "\n"
      ],
      "text/plain": [
       "       accession          checkm_completeness checkm_contamination\n",
       "1      GB_GCA_000200715.1 99.03               0                   \n",
       "2      GB_GCA_000306725.1 99.84               0                   \n",
       "⋮      ⋮                  ⋮                   ⋮                   \n",
       "113055 RS_GCF_903971035.1 99.43               0.61                \n",
       "113056 RS_GCF_903986115.1 99.45               0.00                \n",
       "       mimag_high_quality mimag_medium_quality mimag_low_quality\n",
       "1      t                  f                    f                \n",
       "2      t                  f                    f                \n",
       "⋮      ⋮                  ⋮                    ⋮                \n",
       "113055 t                  f                    f                \n",
       "113056 t                  f                    f                \n",
       "       ncbi_assembly_level ncbi_genome_category             \n",
       "1      Chromosome          derived from environmental sample\n",
       "2      Complete Genome     none                             \n",
       "⋮      ⋮                   ⋮                                \n",
       "113055 Contig              none                             \n",
       "113056 Contig              none                             \n",
       "       ncbi_genbank_assembly_accession mean_contig_length ⋯ genome_size\n",
       "1      GCA_000200715.1                  340809            ⋯ 2045086    \n",
       "2      GCA_000306725.1                 3072769            ⋯ 3072769    \n",
       "⋮      ⋮                               ⋮                  ⋱ ⋮          \n",
       "113055 GCA_903971035.1                 45625              ⋯ 5475026    \n",
       "113056 GCA_903986115.1                 52224              ⋯ 2402342    \n",
       "       n50_contigs ssu_count Domain   Phylum           Class          \n",
       "1      1281157     1         Archaea  Thermoproteota   Nitrososphaeria\n",
       "2      3072769     3         Archaea  Halobacteriota   Methanosarcinia\n",
       "⋮      ⋮           ⋮         ⋮        ⋮                ⋮              \n",
       "113055 408314      1         Bacteria Firmicutes       Bacilli        \n",
       "113056 142020      1         Bacteria Actinobacteriota Actinomycetia  \n",
       "       Order             Family             Genus          \n",
       "1      Nitrososphaerales Nitrosopumilaceae  Cenarchaeum    \n",
       "2      Methanosarcinales Methanosarcinaceae Methanolobus   \n",
       "⋮      ⋮                 ⋮                  ⋮              \n",
       "113055 Bacillales        Bacillaceae_H      Priestia       \n",
       "113056 Mycobacteriales   Mycobacteriaceae   Corynebacterium\n",
       "       Species                    \n",
       "1      Cenarchaeum symbiosum      \n",
       "2      Methanolobus psychrophilus \n",
       "⋮      ⋮                          \n",
       "113055 Priestia aryabhattai       \n",
       "113056 Corynebacterium diphtheriae"
      ]
     },
     "metadata": {},
     "output_type": "display_data"
    }
   ],
   "source": [
    "# number of contigs\n",
    "summary_x(meta_f$contig_count)\n",
    "meta_f = meta_f %>%\n",
    "    filter.(contig_count <= 200) \n",
    "summary_x(meta_f$contig_count)\n",
    "meta_f"
   ]
  },
  {
   "cell_type": "code",
   "execution_count": 17,
   "id": "0c816dee",
   "metadata": {
    "ExecuteTime": {
     "end_time": "2021-08-13T12:51:21.967199Z",
     "start_time": "2021-08-13T12:51:05.911Z"
    }
   },
   "outputs": [
    {
     "data": {
      "text/html": [
       "<table class=\"dataframe\">\n",
       "<caption>A matrix: 1 × 8 of type dbl</caption>\n",
       "<thead>\n",
       "\t<tr><th></th><th scope=col>Min.</th><th scope=col>1st Qu.</th><th scope=col>Median</th><th scope=col>Mean</th><th scope=col>3rd Qu.</th><th scope=col>Max.</th><th scope=col>sd</th><th scope=col>sd_err_of_mean</th></tr>\n",
       "</thead>\n",
       "<tbody>\n",
       "\t<tr><th scope=row>genome_size</th><td>419293</td><td>2587056</td><td>4252678</td><td>4167908</td><td>5290967</td><td>25142604</td><td>9060021</td><td>3698738</td></tr>\n",
       "</tbody>\n",
       "</table>\n"
      ],
      "text/latex": [
       "A matrix: 1 × 8 of type dbl\n",
       "\\begin{tabular}{r|llllllll}\n",
       "  & Min. & 1st Qu. & Median & Mean & 3rd Qu. & Max. & sd & sd\\_err\\_of\\_mean\\\\\n",
       "\\hline\n",
       "\tgenome\\_size & 419293 & 2587056 & 4252678 & 4167908 & 5290967 & 25142604 & 9060021 & 3698738\\\\\n",
       "\\end{tabular}\n"
      ],
      "text/markdown": [
       "\n",
       "A matrix: 1 × 8 of type dbl\n",
       "\n",
       "| <!--/--> | Min. | 1st Qu. | Median | Mean | 3rd Qu. | Max. | sd | sd_err_of_mean |\n",
       "|---|---|---|---|---|---|---|---|---|\n",
       "| genome_size | 419293 | 2587056 | 4252678 | 4167908 | 5290967 | 25142604 | 9060021 | 3698738 |\n",
       "\n"
      ],
      "text/plain": [
       "            Min.   1st Qu. Median  Mean    3rd Qu. Max.     sd     \n",
       "genome_size 419293 2587056 4252678 4167908 5290967 25142604 9060021\n",
       "            sd_err_of_mean\n",
       "genome_size 3698738       "
      ]
     },
     "metadata": {},
     "output_type": "display_data"
    },
    {
     "data": {
      "text/html": [
       "<table class=\"dataframe\">\n",
       "<caption>A matrix: 1 × 8 of type dbl</caption>\n",
       "<thead>\n",
       "\t<tr><th></th><th scope=col>Min.</th><th scope=col>1st Qu.</th><th scope=col>Median</th><th scope=col>Mean</th><th scope=col>3rd Qu.</th><th scope=col>Max.</th><th scope=col>sd</th><th scope=col>sd_err_of_mean</th></tr>\n",
       "</thead>\n",
       "<tbody>\n",
       "\t<tr><th scope=row>genome_size</th><td>419293</td><td>2587022</td><td>4252598</td><td>4167553</td><td>5290909</td><td>13559781</td><td>4503301</td><td>1838465</td></tr>\n",
       "</tbody>\n",
       "</table>\n"
      ],
      "text/latex": [
       "A matrix: 1 × 8 of type dbl\n",
       "\\begin{tabular}{r|llllllll}\n",
       "  & Min. & 1st Qu. & Median & Mean & 3rd Qu. & Max. & sd & sd\\_err\\_of\\_mean\\\\\n",
       "\\hline\n",
       "\tgenome\\_size & 419293 & 2587022 & 4252598 & 4167553 & 5290909 & 13559781 & 4503301 & 1838465\\\\\n",
       "\\end{tabular}\n"
      ],
      "text/markdown": [
       "\n",
       "A matrix: 1 × 8 of type dbl\n",
       "\n",
       "| <!--/--> | Min. | 1st Qu. | Median | Mean | 3rd Qu. | Max. | sd | sd_err_of_mean |\n",
       "|---|---|---|---|---|---|---|---|---|\n",
       "| genome_size | 419293 | 2587022 | 4252598 | 4167553 | 5290909 | 13559781 | 4503301 | 1838465 |\n",
       "\n"
      ],
      "text/plain": [
       "            Min.   1st Qu. Median  Mean    3rd Qu. Max.     sd     \n",
       "genome_size 419293 2587022 4252598 4167553 5290909 13559781 4503301\n",
       "            sd_err_of_mean\n",
       "genome_size 1838465       "
      ]
     },
     "metadata": {},
     "output_type": "display_data"
    },
    {
     "data": {
      "text/html": [
       "<table class=\"dataframe\">\n",
       "<caption>A tidytable: 113054 × 23</caption>\n",
       "<thead>\n",
       "\t<tr><th scope=col>accession</th><th scope=col>checkm_completeness</th><th scope=col>checkm_contamination</th><th scope=col>mimag_high_quality</th><th scope=col>mimag_medium_quality</th><th scope=col>mimag_low_quality</th><th scope=col>ncbi_assembly_level</th><th scope=col>ncbi_genome_category</th><th scope=col>ncbi_genbank_assembly_accession</th><th scope=col>mean_contig_length</th><th scope=col>⋯</th><th scope=col>genome_size</th><th scope=col>n50_contigs</th><th scope=col>ssu_count</th><th scope=col>Domain</th><th scope=col>Phylum</th><th scope=col>Class</th><th scope=col>Order</th><th scope=col>Family</th><th scope=col>Genus</th><th scope=col>Species</th></tr>\n",
       "\t<tr><th scope=col>&lt;chr&gt;</th><th scope=col>&lt;dbl&gt;</th><th scope=col>&lt;dbl&gt;</th><th scope=col>&lt;chr&gt;</th><th scope=col>&lt;chr&gt;</th><th scope=col>&lt;chr&gt;</th><th scope=col>&lt;chr&gt;</th><th scope=col>&lt;chr&gt;</th><th scope=col>&lt;chr&gt;</th><th scope=col>&lt;int&gt;</th><th scope=col>⋯</th><th scope=col>&lt;int&gt;</th><th scope=col>&lt;int&gt;</th><th scope=col>&lt;int&gt;</th><th scope=col>&lt;chr&gt;</th><th scope=col>&lt;chr&gt;</th><th scope=col>&lt;chr&gt;</th><th scope=col>&lt;chr&gt;</th><th scope=col>&lt;chr&gt;</th><th scope=col>&lt;chr&gt;</th><th scope=col>&lt;chr&gt;</th></tr>\n",
       "</thead>\n",
       "<tbody>\n",
       "\t<tr><td>GB_GCA_000200715.1</td><td>99.03</td><td>0</td><td>t</td><td>f</td><td>f</td><td>Chromosome     </td><td>derived from environmental sample</td><td>GCA_000200715.1</td><td> 340809</td><td>⋯</td><td>2045086</td><td>1281157</td><td>1</td><td>Archaea</td><td>Thermoproteota</td><td>Nitrososphaeria</td><td>Nitrososphaerales</td><td>Nitrosopumilaceae </td><td>Cenarchaeum </td><td>Cenarchaeum symbiosum     </td></tr>\n",
       "\t<tr><td>GB_GCA_000306725.1</td><td>99.84</td><td>0</td><td>t</td><td>f</td><td>f</td><td>Complete Genome</td><td>none                             </td><td>GCA_000306725.1</td><td>3072769</td><td>⋯</td><td>3072769</td><td>3072769</td><td>3</td><td>Archaea</td><td>Halobacteriota</td><td>Methanosarcinia</td><td>Methanosarcinales</td><td>Methanosarcinaceae</td><td>Methanolobus</td><td>Methanolobus psychrophilus</td></tr>\n",
       "\t<tr><td>⋮</td><td>⋮</td><td>⋮</td><td>⋮</td><td>⋮</td><td>⋮</td><td>⋮</td><td>⋮</td><td>⋮</td><td>⋮</td><td>⋱</td><td>⋮</td><td>⋮</td><td>⋮</td><td>⋮</td><td>⋮</td><td>⋮</td><td>⋮</td><td>⋮</td><td>⋮</td><td>⋮</td></tr>\n",
       "\t<tr><td>RS_GCF_903971035.1</td><td>99.43</td><td>0.61</td><td>t</td><td>f</td><td>f</td><td>Contig</td><td>none</td><td>GCA_903971035.1</td><td>45625</td><td>⋯</td><td>5475026</td><td>408314</td><td>1</td><td>Bacteria</td><td>Firmicutes      </td><td>Bacilli      </td><td>Bacillales     </td><td>Bacillaceae_H   </td><td>Priestia       </td><td>Priestia aryabhattai       </td></tr>\n",
       "\t<tr><td>RS_GCF_903986115.1</td><td>99.45</td><td>0.00</td><td>t</td><td>f</td><td>f</td><td>Contig</td><td>none</td><td>GCA_903986115.1</td><td>52224</td><td>⋯</td><td>2402342</td><td>142020</td><td>1</td><td>Bacteria</td><td>Actinobacteriota</td><td>Actinomycetia</td><td>Mycobacteriales</td><td>Mycobacteriaceae</td><td>Corynebacterium</td><td>Corynebacterium diphtheriae</td></tr>\n",
       "</tbody>\n",
       "</table>\n"
      ],
      "text/latex": [
       "A tidytable: 113054 × 23\n",
       "\\begin{tabular}{lllllllllllllllllllll}\n",
       " accession & checkm\\_completeness & checkm\\_contamination & mimag\\_high\\_quality & mimag\\_medium\\_quality & mimag\\_low\\_quality & ncbi\\_assembly\\_level & ncbi\\_genome\\_category & ncbi\\_genbank\\_assembly\\_accession & mean\\_contig\\_length & ⋯ & genome\\_size & n50\\_contigs & ssu\\_count & Domain & Phylum & Class & Order & Family & Genus & Species\\\\\n",
       " <chr> & <dbl> & <dbl> & <chr> & <chr> & <chr> & <chr> & <chr> & <chr> & <int> & ⋯ & <int> & <int> & <int> & <chr> & <chr> & <chr> & <chr> & <chr> & <chr> & <chr>\\\\\n",
       "\\hline\n",
       "\t GB\\_GCA\\_000200715.1 & 99.03 & 0 & t & f & f & Chromosome      & derived from environmental sample & GCA\\_000200715.1 &  340809 & ⋯ & 2045086 & 1281157 & 1 & Archaea & Thermoproteota & Nitrososphaeria & Nitrososphaerales & Nitrosopumilaceae  & Cenarchaeum  & Cenarchaeum symbiosum     \\\\\n",
       "\t GB\\_GCA\\_000306725.1 & 99.84 & 0 & t & f & f & Complete Genome & none                              & GCA\\_000306725.1 & 3072769 & ⋯ & 3072769 & 3072769 & 3 & Archaea & Halobacteriota & Methanosarcinia & Methanosarcinales & Methanosarcinaceae & Methanolobus & Methanolobus psychrophilus\\\\\n",
       "\t ⋮ & ⋮ & ⋮ & ⋮ & ⋮ & ⋮ & ⋮ & ⋮ & ⋮ & ⋮ & ⋱ & ⋮ & ⋮ & ⋮ & ⋮ & ⋮ & ⋮ & ⋮ & ⋮ & ⋮ & ⋮\\\\\n",
       "\t RS\\_GCF\\_903971035.1 & 99.43 & 0.61 & t & f & f & Contig & none & GCA\\_903971035.1 & 45625 & ⋯ & 5475026 & 408314 & 1 & Bacteria & Firmicutes       & Bacilli       & Bacillales      & Bacillaceae\\_H    & Priestia        & Priestia aryabhattai       \\\\\n",
       "\t RS\\_GCF\\_903986115.1 & 99.45 & 0.00 & t & f & f & Contig & none & GCA\\_903986115.1 & 52224 & ⋯ & 2402342 & 142020 & 1 & Bacteria & Actinobacteriota & Actinomycetia & Mycobacteriales & Mycobacteriaceae & Corynebacterium & Corynebacterium diphtheriae\\\\\n",
       "\\end{tabular}\n"
      ],
      "text/markdown": [
       "\n",
       "A tidytable: 113054 × 23\n",
       "\n",
       "| accession &lt;chr&gt; | checkm_completeness &lt;dbl&gt; | checkm_contamination &lt;dbl&gt; | mimag_high_quality &lt;chr&gt; | mimag_medium_quality &lt;chr&gt; | mimag_low_quality &lt;chr&gt; | ncbi_assembly_level &lt;chr&gt; | ncbi_genome_category &lt;chr&gt; | ncbi_genbank_assembly_accession &lt;chr&gt; | mean_contig_length &lt;int&gt; | ⋯ ⋯ | genome_size &lt;int&gt; | n50_contigs &lt;int&gt; | ssu_count &lt;int&gt; | Domain &lt;chr&gt; | Phylum &lt;chr&gt; | Class &lt;chr&gt; | Order &lt;chr&gt; | Family &lt;chr&gt; | Genus &lt;chr&gt; | Species &lt;chr&gt; |\n",
       "|---|---|---|---|---|---|---|---|---|---|---|---|---|---|---|---|---|---|---|---|---|\n",
       "| GB_GCA_000200715.1 | 99.03 | 0 | t | f | f | Chromosome      | derived from environmental sample | GCA_000200715.1 |  340809 | ⋯ | 2045086 | 1281157 | 1 | Archaea | Thermoproteota | Nitrososphaeria | Nitrososphaerales | Nitrosopumilaceae  | Cenarchaeum  | Cenarchaeum symbiosum      |\n",
       "| GB_GCA_000306725.1 | 99.84 | 0 | t | f | f | Complete Genome | none                              | GCA_000306725.1 | 3072769 | ⋯ | 3072769 | 3072769 | 3 | Archaea | Halobacteriota | Methanosarcinia | Methanosarcinales | Methanosarcinaceae | Methanolobus | Methanolobus psychrophilus |\n",
       "| ⋮ | ⋮ | ⋮ | ⋮ | ⋮ | ⋮ | ⋮ | ⋮ | ⋮ | ⋮ | ⋱ | ⋮ | ⋮ | ⋮ | ⋮ | ⋮ | ⋮ | ⋮ | ⋮ | ⋮ | ⋮ |\n",
       "| RS_GCF_903971035.1 | 99.43 | 0.61 | t | f | f | Contig | none | GCA_903971035.1 | 45625 | ⋯ | 5475026 | 408314 | 1 | Bacteria | Firmicutes       | Bacilli       | Bacillales      | Bacillaceae_H    | Priestia        | Priestia aryabhattai        |\n",
       "| RS_GCF_903986115.1 | 99.45 | 0.00 | t | f | f | Contig | none | GCA_903986115.1 | 52224 | ⋯ | 2402342 | 142020 | 1 | Bacteria | Actinobacteriota | Actinomycetia | Mycobacteriales | Mycobacteriaceae | Corynebacterium | Corynebacterium diphtheriae |\n",
       "\n"
      ],
      "text/plain": [
       "       accession          checkm_completeness checkm_contamination\n",
       "1      GB_GCA_000200715.1 99.03               0                   \n",
       "2      GB_GCA_000306725.1 99.84               0                   \n",
       "⋮      ⋮                  ⋮                   ⋮                   \n",
       "113053 RS_GCF_903971035.1 99.43               0.61                \n",
       "113054 RS_GCF_903986115.1 99.45               0.00                \n",
       "       mimag_high_quality mimag_medium_quality mimag_low_quality\n",
       "1      t                  f                    f                \n",
       "2      t                  f                    f                \n",
       "⋮      ⋮                  ⋮                    ⋮                \n",
       "113053 t                  f                    f                \n",
       "113054 t                  f                    f                \n",
       "       ncbi_assembly_level ncbi_genome_category             \n",
       "1      Chromosome          derived from environmental sample\n",
       "2      Complete Genome     none                             \n",
       "⋮      ⋮                   ⋮                                \n",
       "113053 Contig              none                             \n",
       "113054 Contig              none                             \n",
       "       ncbi_genbank_assembly_accession mean_contig_length ⋯ genome_size\n",
       "1      GCA_000200715.1                  340809            ⋯ 2045086    \n",
       "2      GCA_000306725.1                 3072769            ⋯ 3072769    \n",
       "⋮      ⋮                               ⋮                  ⋱ ⋮          \n",
       "113053 GCA_903971035.1                 45625              ⋯ 5475026    \n",
       "113054 GCA_903986115.1                 52224              ⋯ 2402342    \n",
       "       n50_contigs ssu_count Domain   Phylum           Class          \n",
       "1      1281157     1         Archaea  Thermoproteota   Nitrososphaeria\n",
       "2      3072769     3         Archaea  Halobacteriota   Methanosarcinia\n",
       "⋮      ⋮           ⋮         ⋮        ⋮                ⋮              \n",
       "113053 408314      1         Bacteria Firmicutes       Bacilli        \n",
       "113054 142020      1         Bacteria Actinobacteriota Actinomycetia  \n",
       "       Order             Family             Genus          \n",
       "1      Nitrososphaerales Nitrosopumilaceae  Cenarchaeum    \n",
       "2      Methanosarcinales Methanosarcinaceae Methanolobus   \n",
       "⋮      ⋮                 ⋮                  ⋮              \n",
       "113053 Bacillales        Bacillaceae_H      Priestia       \n",
       "113054 Mycobacteriales   Mycobacteriaceae   Corynebacterium\n",
       "       Species                    \n",
       "1      Cenarchaeum symbiosum      \n",
       "2      Methanolobus psychrophilus \n",
       "⋮      ⋮                          \n",
       "113053 Priestia aryabhattai       \n",
       "113054 Corynebacterium diphtheriae"
      ]
     },
     "metadata": {},
     "output_type": "display_data"
    }
   ],
   "source": [
    "# total genome size\n",
    "summary_x(meta_f$genome_size)\n",
    "meta_f = meta_f %>%\n",
    "    filter(genome_size < 15000000) \n",
    "summary_x(meta_f$genome_size)\n",
    "meta_f"
   ]
  },
  {
   "cell_type": "code",
   "execution_count": 18,
   "id": "79d4ca0f",
   "metadata": {
    "ExecuteTime": {
     "end_time": "2021-08-13T12:51:22.069577Z",
     "start_time": "2021-08-13T12:51:05.916Z"
    }
   },
   "outputs": [
    {
     "data": {
      "text/html": [
       "<table class=\"dataframe\">\n",
       "<caption>A matrix: 1 × 8 of type dbl</caption>\n",
       "<thead>\n",
       "\t<tr><th></th><th scope=col>Min.</th><th scope=col>1st Qu.</th><th scope=col>Median</th><th scope=col>Mean</th><th scope=col>3rd Qu.</th><th scope=col>Max.</th><th scope=col>sd</th><th scope=col>sd_err_of_mean</th></tr>\n",
       "</thead>\n",
       "<tbody>\n",
       "\t<tr><th scope=row>mean_contig_length</th><td>4724</td><td>41101</td><td>78465</td><td>622054.4</td><td>245934</td><td>13173116</td><td>5301759</td><td>2164434</td></tr>\n",
       "</tbody>\n",
       "</table>\n"
      ],
      "text/latex": [
       "A matrix: 1 × 8 of type dbl\n",
       "\\begin{tabular}{r|llllllll}\n",
       "  & Min. & 1st Qu. & Median & Mean & 3rd Qu. & Max. & sd & sd\\_err\\_of\\_mean\\\\\n",
       "\\hline\n",
       "\tmean\\_contig\\_length & 4724 & 41101 & 78465 & 622054.4 & 245934 & 13173116 & 5301759 & 2164434\\\\\n",
       "\\end{tabular}\n"
      ],
      "text/markdown": [
       "\n",
       "A matrix: 1 × 8 of type dbl\n",
       "\n",
       "| <!--/--> | Min. | 1st Qu. | Median | Mean | 3rd Qu. | Max. | sd | sd_err_of_mean |\n",
       "|---|---|---|---|---|---|---|---|---|\n",
       "| mean_contig_length | 4724 | 41101 | 78465 | 622054.4 | 245934 | 13173116 | 5301759 | 2164434 |\n",
       "\n"
      ],
      "text/plain": [
       "                   Min. 1st Qu. Median Mean     3rd Qu. Max.     sd     \n",
       "mean_contig_length 4724 41101   78465  622054.4 245934  13173116 5301759\n",
       "                   sd_err_of_mean\n",
       "mean_contig_length 2164434       "
      ]
     },
     "metadata": {},
     "output_type": "display_data"
    },
    {
     "data": {
      "text/html": [
       "<table class=\"dataframe\">\n",
       "<caption>A matrix: 1 × 8 of type dbl</caption>\n",
       "<thead>\n",
       "\t<tr><th></th><th scope=col>Min.</th><th scope=col>1st Qu.</th><th scope=col>Median</th><th scope=col>Mean</th><th scope=col>3rd Qu.</th><th scope=col>Max.</th><th scope=col>sd</th><th scope=col>sd_err_of_mean</th></tr>\n",
       "</thead>\n",
       "<tbody>\n",
       "\t<tr><th scope=row>mean_contig_length</th><td>10001</td><td>41445</td><td>78936</td><td>624697.8</td><td>249163</td><td>13173116</td><td>5300788</td><td>2164038</td></tr>\n",
       "</tbody>\n",
       "</table>\n"
      ],
      "text/latex": [
       "A matrix: 1 × 8 of type dbl\n",
       "\\begin{tabular}{r|llllllll}\n",
       "  & Min. & 1st Qu. & Median & Mean & 3rd Qu. & Max. & sd & sd\\_err\\_of\\_mean\\\\\n",
       "\\hline\n",
       "\tmean\\_contig\\_length & 10001 & 41445 & 78936 & 624697.8 & 249163 & 13173116 & 5300788 & 2164038\\\\\n",
       "\\end{tabular}\n"
      ],
      "text/markdown": [
       "\n",
       "A matrix: 1 × 8 of type dbl\n",
       "\n",
       "| <!--/--> | Min. | 1st Qu. | Median | Mean | 3rd Qu. | Max. | sd | sd_err_of_mean |\n",
       "|---|---|---|---|---|---|---|---|---|\n",
       "| mean_contig_length | 10001 | 41445 | 78936 | 624697.8 | 249163 | 13173116 | 5300788 | 2164038 |\n",
       "\n"
      ],
      "text/plain": [
       "                   Min.  1st Qu. Median Mean     3rd Qu. Max.     sd     \n",
       "mean_contig_length 10001 41445   78936  624697.8 249163  13173116 5300788\n",
       "                   sd_err_of_mean\n",
       "mean_contig_length 2164038       "
      ]
     },
     "metadata": {},
     "output_type": "display_data"
    },
    {
     "data": {
      "text/html": [
       "<table class=\"dataframe\">\n",
       "<caption>A tidytable: 112569 × 23</caption>\n",
       "<thead>\n",
       "\t<tr><th scope=col>accession</th><th scope=col>checkm_completeness</th><th scope=col>checkm_contamination</th><th scope=col>mimag_high_quality</th><th scope=col>mimag_medium_quality</th><th scope=col>mimag_low_quality</th><th scope=col>ncbi_assembly_level</th><th scope=col>ncbi_genome_category</th><th scope=col>ncbi_genbank_assembly_accession</th><th scope=col>mean_contig_length</th><th scope=col>⋯</th><th scope=col>genome_size</th><th scope=col>n50_contigs</th><th scope=col>ssu_count</th><th scope=col>Domain</th><th scope=col>Phylum</th><th scope=col>Class</th><th scope=col>Order</th><th scope=col>Family</th><th scope=col>Genus</th><th scope=col>Species</th></tr>\n",
       "\t<tr><th scope=col>&lt;chr&gt;</th><th scope=col>&lt;dbl&gt;</th><th scope=col>&lt;dbl&gt;</th><th scope=col>&lt;chr&gt;</th><th scope=col>&lt;chr&gt;</th><th scope=col>&lt;chr&gt;</th><th scope=col>&lt;chr&gt;</th><th scope=col>&lt;chr&gt;</th><th scope=col>&lt;chr&gt;</th><th scope=col>&lt;int&gt;</th><th scope=col>⋯</th><th scope=col>&lt;int&gt;</th><th scope=col>&lt;int&gt;</th><th scope=col>&lt;int&gt;</th><th scope=col>&lt;chr&gt;</th><th scope=col>&lt;chr&gt;</th><th scope=col>&lt;chr&gt;</th><th scope=col>&lt;chr&gt;</th><th scope=col>&lt;chr&gt;</th><th scope=col>&lt;chr&gt;</th><th scope=col>&lt;chr&gt;</th></tr>\n",
       "</thead>\n",
       "<tbody>\n",
       "\t<tr><td>GB_GCA_000200715.1</td><td>99.03</td><td>0</td><td>t</td><td>f</td><td>f</td><td>Chromosome     </td><td>derived from environmental sample</td><td>GCA_000200715.1</td><td> 340809</td><td>⋯</td><td>2045086</td><td>1281157</td><td>1</td><td>Archaea</td><td>Thermoproteota</td><td>Nitrososphaeria</td><td>Nitrososphaerales</td><td>Nitrosopumilaceae </td><td>Cenarchaeum </td><td>Cenarchaeum symbiosum     </td></tr>\n",
       "\t<tr><td>GB_GCA_000306725.1</td><td>99.84</td><td>0</td><td>t</td><td>f</td><td>f</td><td>Complete Genome</td><td>none                             </td><td>GCA_000306725.1</td><td>3072769</td><td>⋯</td><td>3072769</td><td>3072769</td><td>3</td><td>Archaea</td><td>Halobacteriota</td><td>Methanosarcinia</td><td>Methanosarcinales</td><td>Methanosarcinaceae</td><td>Methanolobus</td><td>Methanolobus psychrophilus</td></tr>\n",
       "\t<tr><td>⋮</td><td>⋮</td><td>⋮</td><td>⋮</td><td>⋮</td><td>⋮</td><td>⋮</td><td>⋮</td><td>⋮</td><td>⋮</td><td>⋱</td><td>⋮</td><td>⋮</td><td>⋮</td><td>⋮</td><td>⋮</td><td>⋮</td><td>⋮</td><td>⋮</td><td>⋮</td><td>⋮</td></tr>\n",
       "\t<tr><td>RS_GCF_903971035.1</td><td>99.43</td><td>0.61</td><td>t</td><td>f</td><td>f</td><td>Contig</td><td>none</td><td>GCA_903971035.1</td><td>45625</td><td>⋯</td><td>5475026</td><td>408314</td><td>1</td><td>Bacteria</td><td>Firmicutes      </td><td>Bacilli      </td><td>Bacillales     </td><td>Bacillaceae_H   </td><td>Priestia       </td><td>Priestia aryabhattai       </td></tr>\n",
       "\t<tr><td>RS_GCF_903986115.1</td><td>99.45</td><td>0.00</td><td>t</td><td>f</td><td>f</td><td>Contig</td><td>none</td><td>GCA_903986115.1</td><td>52224</td><td>⋯</td><td>2402342</td><td>142020</td><td>1</td><td>Bacteria</td><td>Actinobacteriota</td><td>Actinomycetia</td><td>Mycobacteriales</td><td>Mycobacteriaceae</td><td>Corynebacterium</td><td>Corynebacterium diphtheriae</td></tr>\n",
       "</tbody>\n",
       "</table>\n"
      ],
      "text/latex": [
       "A tidytable: 112569 × 23\n",
       "\\begin{tabular}{lllllllllllllllllllll}\n",
       " accession & checkm\\_completeness & checkm\\_contamination & mimag\\_high\\_quality & mimag\\_medium\\_quality & mimag\\_low\\_quality & ncbi\\_assembly\\_level & ncbi\\_genome\\_category & ncbi\\_genbank\\_assembly\\_accession & mean\\_contig\\_length & ⋯ & genome\\_size & n50\\_contigs & ssu\\_count & Domain & Phylum & Class & Order & Family & Genus & Species\\\\\n",
       " <chr> & <dbl> & <dbl> & <chr> & <chr> & <chr> & <chr> & <chr> & <chr> & <int> & ⋯ & <int> & <int> & <int> & <chr> & <chr> & <chr> & <chr> & <chr> & <chr> & <chr>\\\\\n",
       "\\hline\n",
       "\t GB\\_GCA\\_000200715.1 & 99.03 & 0 & t & f & f & Chromosome      & derived from environmental sample & GCA\\_000200715.1 &  340809 & ⋯ & 2045086 & 1281157 & 1 & Archaea & Thermoproteota & Nitrososphaeria & Nitrososphaerales & Nitrosopumilaceae  & Cenarchaeum  & Cenarchaeum symbiosum     \\\\\n",
       "\t GB\\_GCA\\_000306725.1 & 99.84 & 0 & t & f & f & Complete Genome & none                              & GCA\\_000306725.1 & 3072769 & ⋯ & 3072769 & 3072769 & 3 & Archaea & Halobacteriota & Methanosarcinia & Methanosarcinales & Methanosarcinaceae & Methanolobus & Methanolobus psychrophilus\\\\\n",
       "\t ⋮ & ⋮ & ⋮ & ⋮ & ⋮ & ⋮ & ⋮ & ⋮ & ⋮ & ⋮ & ⋱ & ⋮ & ⋮ & ⋮ & ⋮ & ⋮ & ⋮ & ⋮ & ⋮ & ⋮ & ⋮\\\\\n",
       "\t RS\\_GCF\\_903971035.1 & 99.43 & 0.61 & t & f & f & Contig & none & GCA\\_903971035.1 & 45625 & ⋯ & 5475026 & 408314 & 1 & Bacteria & Firmicutes       & Bacilli       & Bacillales      & Bacillaceae\\_H    & Priestia        & Priestia aryabhattai       \\\\\n",
       "\t RS\\_GCF\\_903986115.1 & 99.45 & 0.00 & t & f & f & Contig & none & GCA\\_903986115.1 & 52224 & ⋯ & 2402342 & 142020 & 1 & Bacteria & Actinobacteriota & Actinomycetia & Mycobacteriales & Mycobacteriaceae & Corynebacterium & Corynebacterium diphtheriae\\\\\n",
       "\\end{tabular}\n"
      ],
      "text/markdown": [
       "\n",
       "A tidytable: 112569 × 23\n",
       "\n",
       "| accession &lt;chr&gt; | checkm_completeness &lt;dbl&gt; | checkm_contamination &lt;dbl&gt; | mimag_high_quality &lt;chr&gt; | mimag_medium_quality &lt;chr&gt; | mimag_low_quality &lt;chr&gt; | ncbi_assembly_level &lt;chr&gt; | ncbi_genome_category &lt;chr&gt; | ncbi_genbank_assembly_accession &lt;chr&gt; | mean_contig_length &lt;int&gt; | ⋯ ⋯ | genome_size &lt;int&gt; | n50_contigs &lt;int&gt; | ssu_count &lt;int&gt; | Domain &lt;chr&gt; | Phylum &lt;chr&gt; | Class &lt;chr&gt; | Order &lt;chr&gt; | Family &lt;chr&gt; | Genus &lt;chr&gt; | Species &lt;chr&gt; |\n",
       "|---|---|---|---|---|---|---|---|---|---|---|---|---|---|---|---|---|---|---|---|---|\n",
       "| GB_GCA_000200715.1 | 99.03 | 0 | t | f | f | Chromosome      | derived from environmental sample | GCA_000200715.1 |  340809 | ⋯ | 2045086 | 1281157 | 1 | Archaea | Thermoproteota | Nitrososphaeria | Nitrososphaerales | Nitrosopumilaceae  | Cenarchaeum  | Cenarchaeum symbiosum      |\n",
       "| GB_GCA_000306725.1 | 99.84 | 0 | t | f | f | Complete Genome | none                              | GCA_000306725.1 | 3072769 | ⋯ | 3072769 | 3072769 | 3 | Archaea | Halobacteriota | Methanosarcinia | Methanosarcinales | Methanosarcinaceae | Methanolobus | Methanolobus psychrophilus |\n",
       "| ⋮ | ⋮ | ⋮ | ⋮ | ⋮ | ⋮ | ⋮ | ⋮ | ⋮ | ⋮ | ⋱ | ⋮ | ⋮ | ⋮ | ⋮ | ⋮ | ⋮ | ⋮ | ⋮ | ⋮ | ⋮ |\n",
       "| RS_GCF_903971035.1 | 99.43 | 0.61 | t | f | f | Contig | none | GCA_903971035.1 | 45625 | ⋯ | 5475026 | 408314 | 1 | Bacteria | Firmicutes       | Bacilli       | Bacillales      | Bacillaceae_H    | Priestia        | Priestia aryabhattai        |\n",
       "| RS_GCF_903986115.1 | 99.45 | 0.00 | t | f | f | Contig | none | GCA_903986115.1 | 52224 | ⋯ | 2402342 | 142020 | 1 | Bacteria | Actinobacteriota | Actinomycetia | Mycobacteriales | Mycobacteriaceae | Corynebacterium | Corynebacterium diphtheriae |\n",
       "\n"
      ],
      "text/plain": [
       "       accession          checkm_completeness checkm_contamination\n",
       "1      GB_GCA_000200715.1 99.03               0                   \n",
       "2      GB_GCA_000306725.1 99.84               0                   \n",
       "⋮      ⋮                  ⋮                   ⋮                   \n",
       "112568 RS_GCF_903971035.1 99.43               0.61                \n",
       "112569 RS_GCF_903986115.1 99.45               0.00                \n",
       "       mimag_high_quality mimag_medium_quality mimag_low_quality\n",
       "1      t                  f                    f                \n",
       "2      t                  f                    f                \n",
       "⋮      ⋮                  ⋮                    ⋮                \n",
       "112568 t                  f                    f                \n",
       "112569 t                  f                    f                \n",
       "       ncbi_assembly_level ncbi_genome_category             \n",
       "1      Chromosome          derived from environmental sample\n",
       "2      Complete Genome     none                             \n",
       "⋮      ⋮                   ⋮                                \n",
       "112568 Contig              none                             \n",
       "112569 Contig              none                             \n",
       "       ncbi_genbank_assembly_accession mean_contig_length ⋯ genome_size\n",
       "1      GCA_000200715.1                  340809            ⋯ 2045086    \n",
       "2      GCA_000306725.1                 3072769            ⋯ 3072769    \n",
       "⋮      ⋮                               ⋮                  ⋱ ⋮          \n",
       "112568 GCA_903971035.1                 45625              ⋯ 5475026    \n",
       "112569 GCA_903986115.1                 52224              ⋯ 2402342    \n",
       "       n50_contigs ssu_count Domain   Phylum           Class          \n",
       "1      1281157     1         Archaea  Thermoproteota   Nitrososphaeria\n",
       "2      3072769     3         Archaea  Halobacteriota   Methanosarcinia\n",
       "⋮      ⋮           ⋮         ⋮        ⋮                ⋮              \n",
       "112568 408314      1         Bacteria Firmicutes       Bacilli        \n",
       "112569 142020      1         Bacteria Actinobacteriota Actinomycetia  \n",
       "       Order             Family             Genus          \n",
       "1      Nitrososphaerales Nitrosopumilaceae  Cenarchaeum    \n",
       "2      Methanosarcinales Methanosarcinaceae Methanolobus   \n",
       "⋮      ⋮                 ⋮                  ⋮              \n",
       "112568 Bacillales        Bacillaceae_H      Priestia       \n",
       "112569 Mycobacteriales   Mycobacteriaceae   Corynebacterium\n",
       "       Species                    \n",
       "1      Cenarchaeum symbiosum      \n",
       "2      Methanolobus psychrophilus \n",
       "⋮      ⋮                          \n",
       "112568 Priestia aryabhattai       \n",
       "112569 Corynebacterium diphtheriae"
      ]
     },
     "metadata": {},
     "output_type": "display_data"
    }
   ],
   "source": [
    "# contig length\n",
    "summary_x(meta_f$mean_contig_length)\n",
    "meta_f = meta_f %>%\n",
    "    filter.(mean_contig_length >= 10000) \n",
    "summary_x(meta_f$mean_contig_length)\n",
    "meta_f "
   ]
  },
  {
   "cell_type": "code",
   "execution_count": 19,
   "id": "657e35f1",
   "metadata": {
    "ExecuteTime": {
     "end_time": "2021-08-13T12:51:22.365846Z",
     "start_time": "2021-08-13T12:51:05.921Z"
    }
   },
   "outputs": [
    {
     "data": {
      "text/html": [
       "<table class=\"dataframe\">\n",
       "<caption>A matrix: 1 × 8 of type dbl</caption>\n",
       "<thead>\n",
       "\t<tr><th></th><th scope=col>Min.</th><th scope=col>1st Qu.</th><th scope=col>Median</th><th scope=col>Mean</th><th scope=col>3rd Qu.</th><th scope=col>Max.</th><th scope=col>sd</th><th scope=col>sd_err_of_mean</th></tr>\n",
       "</thead>\n",
       "<tbody>\n",
       "\t<tr><th scope=row>ssu_count</th><td>1</td><td>1</td><td>1</td><td>2.463911</td><td>3</td><td>77</td><td>30.756</td><td>12.556</td></tr>\n",
       "</tbody>\n",
       "</table>\n"
      ],
      "text/latex": [
       "A matrix: 1 × 8 of type dbl\n",
       "\\begin{tabular}{r|llllllll}\n",
       "  & Min. & 1st Qu. & Median & Mean & 3rd Qu. & Max. & sd & sd\\_err\\_of\\_mean\\\\\n",
       "\\hline\n",
       "\tssu\\_count & 1 & 1 & 1 & 2.463911 & 3 & 77 & 30.756 & 12.556\\\\\n",
       "\\end{tabular}\n"
      ],
      "text/markdown": [
       "\n",
       "A matrix: 1 × 8 of type dbl\n",
       "\n",
       "| <!--/--> | Min. | 1st Qu. | Median | Mean | 3rd Qu. | Max. | sd | sd_err_of_mean |\n",
       "|---|---|---|---|---|---|---|---|---|\n",
       "| ssu_count | 1 | 1 | 1 | 2.463911 | 3 | 77 | 30.756 | 12.556 |\n",
       "\n"
      ],
      "text/plain": [
       "          Min. 1st Qu. Median Mean     3rd Qu. Max. sd     sd_err_of_mean\n",
       "ssu_count 1    1       1      2.463911 3       77   30.756 12.556        "
      ]
     },
     "metadata": {},
     "output_type": "display_data"
    },
    {
     "data": {
      "text/html": [
       "<table class=\"dataframe\">\n",
       "<caption>A matrix: 1 × 8 of type dbl</caption>\n",
       "<thead>\n",
       "\t<tr><th></th><th scope=col>Min.</th><th scope=col>1st Qu.</th><th scope=col>Median</th><th scope=col>Mean</th><th scope=col>3rd Qu.</th><th scope=col>Max.</th><th scope=col>sd</th><th scope=col>sd_err_of_mean</th></tr>\n",
       "</thead>\n",
       "<tbody>\n",
       "\t<tr><th scope=row>ssu_count</th><td>1</td><td>1</td><td>1</td><td>2.462138</td><td>3</td><td>47</td><td>18.517</td><td>7.56</td></tr>\n",
       "</tbody>\n",
       "</table>\n"
      ],
      "text/latex": [
       "A matrix: 1 × 8 of type dbl\n",
       "\\begin{tabular}{r|llllllll}\n",
       "  & Min. & 1st Qu. & Median & Mean & 3rd Qu. & Max. & sd & sd\\_err\\_of\\_mean\\\\\n",
       "\\hline\n",
       "\tssu\\_count & 1 & 1 & 1 & 2.462138 & 3 & 47 & 18.517 & 7.56\\\\\n",
       "\\end{tabular}\n"
      ],
      "text/markdown": [
       "\n",
       "A matrix: 1 × 8 of type dbl\n",
       "\n",
       "| <!--/--> | Min. | 1st Qu. | Median | Mean | 3rd Qu. | Max. | sd | sd_err_of_mean |\n",
       "|---|---|---|---|---|---|---|---|---|\n",
       "| ssu_count | 1 | 1 | 1 | 2.462138 | 3 | 47 | 18.517 | 7.56 |\n",
       "\n"
      ],
      "text/plain": [
       "          Min. 1st Qu. Median Mean     3rd Qu. Max. sd     sd_err_of_mean\n",
       "ssu_count 1    1       1      2.462138 3       47   18.517 7.56          "
      ]
     },
     "metadata": {},
     "output_type": "display_data"
    },
    {
     "data": {
      "text/html": [
       "<table class=\"dataframe\">\n",
       "<caption>A tidytable: 112566 × 23</caption>\n",
       "<thead>\n",
       "\t<tr><th scope=col>accession</th><th scope=col>checkm_completeness</th><th scope=col>checkm_contamination</th><th scope=col>mimag_high_quality</th><th scope=col>mimag_medium_quality</th><th scope=col>mimag_low_quality</th><th scope=col>ncbi_assembly_level</th><th scope=col>ncbi_genome_category</th><th scope=col>ncbi_genbank_assembly_accession</th><th scope=col>mean_contig_length</th><th scope=col>⋯</th><th scope=col>genome_size</th><th scope=col>n50_contigs</th><th scope=col>ssu_count</th><th scope=col>Domain</th><th scope=col>Phylum</th><th scope=col>Class</th><th scope=col>Order</th><th scope=col>Family</th><th scope=col>Genus</th><th scope=col>Species</th></tr>\n",
       "\t<tr><th scope=col>&lt;chr&gt;</th><th scope=col>&lt;dbl&gt;</th><th scope=col>&lt;dbl&gt;</th><th scope=col>&lt;chr&gt;</th><th scope=col>&lt;chr&gt;</th><th scope=col>&lt;chr&gt;</th><th scope=col>&lt;chr&gt;</th><th scope=col>&lt;chr&gt;</th><th scope=col>&lt;chr&gt;</th><th scope=col>&lt;int&gt;</th><th scope=col>⋯</th><th scope=col>&lt;int&gt;</th><th scope=col>&lt;int&gt;</th><th scope=col>&lt;int&gt;</th><th scope=col>&lt;chr&gt;</th><th scope=col>&lt;chr&gt;</th><th scope=col>&lt;chr&gt;</th><th scope=col>&lt;chr&gt;</th><th scope=col>&lt;chr&gt;</th><th scope=col>&lt;chr&gt;</th><th scope=col>&lt;chr&gt;</th></tr>\n",
       "</thead>\n",
       "<tbody>\n",
       "\t<tr><td>GB_GCA_000200715.1</td><td>99.03</td><td>0</td><td>t</td><td>f</td><td>f</td><td>Chromosome     </td><td>derived from environmental sample</td><td>GCA_000200715.1</td><td> 340809</td><td>⋯</td><td>2045086</td><td>1281157</td><td>1</td><td>Archaea</td><td>Thermoproteota</td><td>Nitrososphaeria</td><td>Nitrososphaerales</td><td>Nitrosopumilaceae </td><td>Cenarchaeum </td><td>Cenarchaeum symbiosum     </td></tr>\n",
       "\t<tr><td>GB_GCA_000306725.1</td><td>99.84</td><td>0</td><td>t</td><td>f</td><td>f</td><td>Complete Genome</td><td>none                             </td><td>GCA_000306725.1</td><td>3072769</td><td>⋯</td><td>3072769</td><td>3072769</td><td>3</td><td>Archaea</td><td>Halobacteriota</td><td>Methanosarcinia</td><td>Methanosarcinales</td><td>Methanosarcinaceae</td><td>Methanolobus</td><td>Methanolobus psychrophilus</td></tr>\n",
       "\t<tr><td>⋮</td><td>⋮</td><td>⋮</td><td>⋮</td><td>⋮</td><td>⋮</td><td>⋮</td><td>⋮</td><td>⋮</td><td>⋮</td><td>⋱</td><td>⋮</td><td>⋮</td><td>⋮</td><td>⋮</td><td>⋮</td><td>⋮</td><td>⋮</td><td>⋮</td><td>⋮</td><td>⋮</td></tr>\n",
       "\t<tr><td>RS_GCF_903971035.1</td><td>99.43</td><td>0.61</td><td>t</td><td>f</td><td>f</td><td>Contig</td><td>none</td><td>GCA_903971035.1</td><td>45625</td><td>⋯</td><td>5475026</td><td>408314</td><td>1</td><td>Bacteria</td><td>Firmicutes      </td><td>Bacilli      </td><td>Bacillales     </td><td>Bacillaceae_H   </td><td>Priestia       </td><td>Priestia aryabhattai       </td></tr>\n",
       "\t<tr><td>RS_GCF_903986115.1</td><td>99.45</td><td>0.00</td><td>t</td><td>f</td><td>f</td><td>Contig</td><td>none</td><td>GCA_903986115.1</td><td>52224</td><td>⋯</td><td>2402342</td><td>142020</td><td>1</td><td>Bacteria</td><td>Actinobacteriota</td><td>Actinomycetia</td><td>Mycobacteriales</td><td>Mycobacteriaceae</td><td>Corynebacterium</td><td>Corynebacterium diphtheriae</td></tr>\n",
       "</tbody>\n",
       "</table>\n"
      ],
      "text/latex": [
       "A tidytable: 112566 × 23\n",
       "\\begin{tabular}{lllllllllllllllllllll}\n",
       " accession & checkm\\_completeness & checkm\\_contamination & mimag\\_high\\_quality & mimag\\_medium\\_quality & mimag\\_low\\_quality & ncbi\\_assembly\\_level & ncbi\\_genome\\_category & ncbi\\_genbank\\_assembly\\_accession & mean\\_contig\\_length & ⋯ & genome\\_size & n50\\_contigs & ssu\\_count & Domain & Phylum & Class & Order & Family & Genus & Species\\\\\n",
       " <chr> & <dbl> & <dbl> & <chr> & <chr> & <chr> & <chr> & <chr> & <chr> & <int> & ⋯ & <int> & <int> & <int> & <chr> & <chr> & <chr> & <chr> & <chr> & <chr> & <chr>\\\\\n",
       "\\hline\n",
       "\t GB\\_GCA\\_000200715.1 & 99.03 & 0 & t & f & f & Chromosome      & derived from environmental sample & GCA\\_000200715.1 &  340809 & ⋯ & 2045086 & 1281157 & 1 & Archaea & Thermoproteota & Nitrososphaeria & Nitrososphaerales & Nitrosopumilaceae  & Cenarchaeum  & Cenarchaeum symbiosum     \\\\\n",
       "\t GB\\_GCA\\_000306725.1 & 99.84 & 0 & t & f & f & Complete Genome & none                              & GCA\\_000306725.1 & 3072769 & ⋯ & 3072769 & 3072769 & 3 & Archaea & Halobacteriota & Methanosarcinia & Methanosarcinales & Methanosarcinaceae & Methanolobus & Methanolobus psychrophilus\\\\\n",
       "\t ⋮ & ⋮ & ⋮ & ⋮ & ⋮ & ⋮ & ⋮ & ⋮ & ⋮ & ⋮ & ⋱ & ⋮ & ⋮ & ⋮ & ⋮ & ⋮ & ⋮ & ⋮ & ⋮ & ⋮ & ⋮\\\\\n",
       "\t RS\\_GCF\\_903971035.1 & 99.43 & 0.61 & t & f & f & Contig & none & GCA\\_903971035.1 & 45625 & ⋯ & 5475026 & 408314 & 1 & Bacteria & Firmicutes       & Bacilli       & Bacillales      & Bacillaceae\\_H    & Priestia        & Priestia aryabhattai       \\\\\n",
       "\t RS\\_GCF\\_903986115.1 & 99.45 & 0.00 & t & f & f & Contig & none & GCA\\_903986115.1 & 52224 & ⋯ & 2402342 & 142020 & 1 & Bacteria & Actinobacteriota & Actinomycetia & Mycobacteriales & Mycobacteriaceae & Corynebacterium & Corynebacterium diphtheriae\\\\\n",
       "\\end{tabular}\n"
      ],
      "text/markdown": [
       "\n",
       "A tidytable: 112566 × 23\n",
       "\n",
       "| accession &lt;chr&gt; | checkm_completeness &lt;dbl&gt; | checkm_contamination &lt;dbl&gt; | mimag_high_quality &lt;chr&gt; | mimag_medium_quality &lt;chr&gt; | mimag_low_quality &lt;chr&gt; | ncbi_assembly_level &lt;chr&gt; | ncbi_genome_category &lt;chr&gt; | ncbi_genbank_assembly_accession &lt;chr&gt; | mean_contig_length &lt;int&gt; | ⋯ ⋯ | genome_size &lt;int&gt; | n50_contigs &lt;int&gt; | ssu_count &lt;int&gt; | Domain &lt;chr&gt; | Phylum &lt;chr&gt; | Class &lt;chr&gt; | Order &lt;chr&gt; | Family &lt;chr&gt; | Genus &lt;chr&gt; | Species &lt;chr&gt; |\n",
       "|---|---|---|---|---|---|---|---|---|---|---|---|---|---|---|---|---|---|---|---|---|\n",
       "| GB_GCA_000200715.1 | 99.03 | 0 | t | f | f | Chromosome      | derived from environmental sample | GCA_000200715.1 |  340809 | ⋯ | 2045086 | 1281157 | 1 | Archaea | Thermoproteota | Nitrososphaeria | Nitrososphaerales | Nitrosopumilaceae  | Cenarchaeum  | Cenarchaeum symbiosum      |\n",
       "| GB_GCA_000306725.1 | 99.84 | 0 | t | f | f | Complete Genome | none                              | GCA_000306725.1 | 3072769 | ⋯ | 3072769 | 3072769 | 3 | Archaea | Halobacteriota | Methanosarcinia | Methanosarcinales | Methanosarcinaceae | Methanolobus | Methanolobus psychrophilus |\n",
       "| ⋮ | ⋮ | ⋮ | ⋮ | ⋮ | ⋮ | ⋮ | ⋮ | ⋮ | ⋮ | ⋱ | ⋮ | ⋮ | ⋮ | ⋮ | ⋮ | ⋮ | ⋮ | ⋮ | ⋮ | ⋮ |\n",
       "| RS_GCF_903971035.1 | 99.43 | 0.61 | t | f | f | Contig | none | GCA_903971035.1 | 45625 | ⋯ | 5475026 | 408314 | 1 | Bacteria | Firmicutes       | Bacilli       | Bacillales      | Bacillaceae_H    | Priestia        | Priestia aryabhattai        |\n",
       "| RS_GCF_903986115.1 | 99.45 | 0.00 | t | f | f | Contig | none | GCA_903986115.1 | 52224 | ⋯ | 2402342 | 142020 | 1 | Bacteria | Actinobacteriota | Actinomycetia | Mycobacteriales | Mycobacteriaceae | Corynebacterium | Corynebacterium diphtheriae |\n",
       "\n"
      ],
      "text/plain": [
       "       accession          checkm_completeness checkm_contamination\n",
       "1      GB_GCA_000200715.1 99.03               0                   \n",
       "2      GB_GCA_000306725.1 99.84               0                   \n",
       "⋮      ⋮                  ⋮                   ⋮                   \n",
       "112565 RS_GCF_903971035.1 99.43               0.61                \n",
       "112566 RS_GCF_903986115.1 99.45               0.00                \n",
       "       mimag_high_quality mimag_medium_quality mimag_low_quality\n",
       "1      t                  f                    f                \n",
       "2      t                  f                    f                \n",
       "⋮      ⋮                  ⋮                    ⋮                \n",
       "112565 t                  f                    f                \n",
       "112566 t                  f                    f                \n",
       "       ncbi_assembly_level ncbi_genome_category             \n",
       "1      Chromosome          derived from environmental sample\n",
       "2      Complete Genome     none                             \n",
       "⋮      ⋮                   ⋮                                \n",
       "112565 Contig              none                             \n",
       "112566 Contig              none                             \n",
       "       ncbi_genbank_assembly_accession mean_contig_length ⋯ genome_size\n",
       "1      GCA_000200715.1                  340809            ⋯ 2045086    \n",
       "2      GCA_000306725.1                 3072769            ⋯ 3072769    \n",
       "⋮      ⋮                               ⋮                  ⋱ ⋮          \n",
       "112565 GCA_903971035.1                 45625              ⋯ 5475026    \n",
       "112566 GCA_903986115.1                 52224              ⋯ 2402342    \n",
       "       n50_contigs ssu_count Domain   Phylum           Class          \n",
       "1      1281157     1         Archaea  Thermoproteota   Nitrososphaeria\n",
       "2      3072769     3         Archaea  Halobacteriota   Methanosarcinia\n",
       "⋮      ⋮           ⋮         ⋮        ⋮                ⋮              \n",
       "112565 408314      1         Bacteria Firmicutes       Bacilli        \n",
       "112566 142020      1         Bacteria Actinobacteriota Actinomycetia  \n",
       "       Order             Family             Genus          \n",
       "1      Nitrososphaerales Nitrosopumilaceae  Cenarchaeum    \n",
       "2      Methanosarcinales Methanosarcinaceae Methanolobus   \n",
       "⋮      ⋮                 ⋮                  ⋮              \n",
       "112565 Bacillales        Bacillaceae_H      Priestia       \n",
       "112566 Mycobacteriales   Mycobacteriaceae   Corynebacterium\n",
       "       Species                    \n",
       "1      Cenarchaeum symbiosum      \n",
       "2      Methanolobus psychrophilus \n",
       "⋮      ⋮                          \n",
       "112565 Priestia aryabhattai       \n",
       "112566 Corynebacterium diphtheriae"
      ]
     },
     "metadata": {},
     "output_type": "display_data"
    }
   ],
   "source": [
    "#ssu_count\n",
    "summary_x(meta_f$ssu_count)\n",
    "meta_f = meta_f %>%\n",
    "    filter.(ssu_count <= 50) \n",
    "summary_x(meta_f$ssu_count)\n",
    "meta_f"
   ]
  },
  {
   "cell_type": "markdown",
   "id": "5ef96bfd",
   "metadata": {},
   "source": [
    "# Taxonomy"
   ]
  },
  {
   "cell_type": "code",
   "execution_count": 20,
   "id": "1f0c2fb6",
   "metadata": {
    "ExecuteTime": {
     "end_time": "2021-08-13T12:51:22.425684Z",
     "start_time": "2021-08-13T12:51:05.925Z"
    },
    "code_folding": []
   },
   "outputs": [
    {
     "data": {
      "text/plain": [
       "   Min. 1st Qu.  Median    Mean 3rd Qu.    Max. \n",
       "      1       1       1       1       1       1 "
      ]
     },
     "metadata": {},
     "output_type": "display_data"
    }
   ],
   "source": [
    "# genomes per accession\n",
    "meta_f %>%\n",
    "    summarize.(n = n.(),\n",
    "               .by=c(accession)) %>%\n",
    "    .$n %>% summary"
   ]
  },
  {
   "cell_type": "code",
   "execution_count": 21,
   "id": "1cc78dd2",
   "metadata": {
    "ExecuteTime": {
     "end_time": "2021-08-13T12:51:22.485105Z",
     "start_time": "2021-08-13T12:51:05.929Z"
    }
   },
   "outputs": [
    {
     "data": {
      "text/html": [
       "<table class=\"dataframe\">\n",
       "<caption>A tidytable: 58 × 2</caption>\n",
       "<thead>\n",
       "\t<tr><th scope=col>Phylum</th><th scope=col>n</th></tr>\n",
       "\t<tr><th scope=col>&lt;chr&gt;</th><th scope=col>&lt;int&gt;</th></tr>\n",
       "</thead>\n",
       "<tbody>\n",
       "\t<tr><td>Proteobacteria        </td><td>64974</td></tr>\n",
       "\t<tr><td>Firmicutes            </td><td>28805</td></tr>\n",
       "\t<tr><td>Actinobacteriota      </td><td> 6888</td></tr>\n",
       "\t<tr><td>Bacteroidota          </td><td> 4131</td></tr>\n",
       "\t<tr><td>Firmicutes_A          </td><td> 3717</td></tr>\n",
       "\t<tr><td>Spirochaetota         </td><td>  735</td></tr>\n",
       "\t<tr><td>Halobacteriota        </td><td>  463</td></tr>\n",
       "\t<tr><td>Chlamydiota           </td><td>  381</td></tr>\n",
       "\t<tr><td>Campylobacterota      </td><td>  321</td></tr>\n",
       "\t<tr><td>Verrucomicrobiota     </td><td>  286</td></tr>\n",
       "\t<tr><td>Cyanobacteria         </td><td>  260</td></tr>\n",
       "\t<tr><td>Firmicutes_C          </td><td>  213</td></tr>\n",
       "\t<tr><td>Desulfobacterota      </td><td>  180</td></tr>\n",
       "\t<tr><td>Fusobacteriota        </td><td>  165</td></tr>\n",
       "\t<tr><td>Methanobacteriota     </td><td>  135</td></tr>\n",
       "\t<tr><td>Deinococcota          </td><td>   93</td></tr>\n",
       "\t<tr><td>Firmicutes_B          </td><td>   82</td></tr>\n",
       "\t<tr><td>Thermotogota          </td><td>   80</td></tr>\n",
       "\t<tr><td>Planctomycetota       </td><td>   78</td></tr>\n",
       "\t<tr><td>Acidobacteriota       </td><td>   69</td></tr>\n",
       "\t<tr><td>Chloroflexota         </td><td>   61</td></tr>\n",
       "\t<tr><td>Desulfobacterota_F    </td><td>   56</td></tr>\n",
       "\t<tr><td>Myxococcota           </td><td>   53</td></tr>\n",
       "\t<tr><td>Thermoproteota        </td><td>   38</td></tr>\n",
       "\t<tr><td>Synergistota          </td><td>   32</td></tr>\n",
       "\t<tr><td>Thermoplasmatota      </td><td>   31</td></tr>\n",
       "\t<tr><td>Aquificota            </td><td>   31</td></tr>\n",
       "\t<tr><td>Fibrobacterota        </td><td>   31</td></tr>\n",
       "\t<tr><td>Bdellovibrionota      </td><td>   30</td></tr>\n",
       "\t<tr><td>Firmicutes_F          </td><td>   26</td></tr>\n",
       "\t<tr><td>Nitrospirota          </td><td>   20</td></tr>\n",
       "\t<tr><td>Armatimonadota        </td><td>   12</td></tr>\n",
       "\t<tr><td>Deferribacterota      </td><td>   11</td></tr>\n",
       "\t<tr><td>Gemmatimonadota       </td><td>    9</td></tr>\n",
       "\t<tr><td>Nitrospirota_A        </td><td>    8</td></tr>\n",
       "\t<tr><td>Marinisomatota        </td><td>    6</td></tr>\n",
       "\t<tr><td>Firmicutes_E          </td><td>    5</td></tr>\n",
       "\t<tr><td>Firestonebacteria     </td><td>    5</td></tr>\n",
       "\t<tr><td>Firmicutes_D          </td><td>    4</td></tr>\n",
       "\t<tr><td>Coprothermobacterota  </td><td>    4</td></tr>\n",
       "\t<tr><td>Methylomirabilota     </td><td>    3</td></tr>\n",
       "\t<tr><td>WOR-3                 </td><td>    3</td></tr>\n",
       "\t<tr><td>Omnitrophota          </td><td>    3</td></tr>\n",
       "\t<tr><td>Dictyoglomota         </td><td>    3</td></tr>\n",
       "\t<tr><td>Chrysiogenetota       </td><td>    3</td></tr>\n",
       "\t<tr><td>Firmicutes_G          </td><td>    3</td></tr>\n",
       "\t<tr><td>Zixibacteria          </td><td>    3</td></tr>\n",
       "\t<tr><td>Micrarchaeota         </td><td>    2</td></tr>\n",
       "\t<tr><td>Caldisericota         </td><td>    2</td></tr>\n",
       "\t<tr><td>Cloacimonadota        </td><td>    2</td></tr>\n",
       "\t<tr><td>Eremiobacterota       </td><td>    2</td></tr>\n",
       "\t<tr><td>Thermodesulfobiota    </td><td>    2</td></tr>\n",
       "\t<tr><td>Hydrothermarchaeota   </td><td>    1</td></tr>\n",
       "\t<tr><td>BMS3Abin14            </td><td>    1</td></tr>\n",
       "\t<tr><td>Thermosulfidibacterota</td><td>    1</td></tr>\n",
       "\t<tr><td>Nitrospinota          </td><td>    1</td></tr>\n",
       "\t<tr><td>Elusimicrobiota       </td><td>    1</td></tr>\n",
       "\t<tr><td>Bipolaricaulota       </td><td>    1</td></tr>\n",
       "</tbody>\n",
       "</table>\n"
      ],
      "text/latex": [
       "A tidytable: 58 × 2\n",
       "\\begin{tabular}{ll}\n",
       " Phylum & n\\\\\n",
       " <chr> & <int>\\\\\n",
       "\\hline\n",
       "\t Proteobacteria         & 64974\\\\\n",
       "\t Firmicutes             & 28805\\\\\n",
       "\t Actinobacteriota       &  6888\\\\\n",
       "\t Bacteroidota           &  4131\\\\\n",
       "\t Firmicutes\\_A           &  3717\\\\\n",
       "\t Spirochaetota          &   735\\\\\n",
       "\t Halobacteriota         &   463\\\\\n",
       "\t Chlamydiota            &   381\\\\\n",
       "\t Campylobacterota       &   321\\\\\n",
       "\t Verrucomicrobiota      &   286\\\\\n",
       "\t Cyanobacteria          &   260\\\\\n",
       "\t Firmicutes\\_C           &   213\\\\\n",
       "\t Desulfobacterota       &   180\\\\\n",
       "\t Fusobacteriota         &   165\\\\\n",
       "\t Methanobacteriota      &   135\\\\\n",
       "\t Deinococcota           &    93\\\\\n",
       "\t Firmicutes\\_B           &    82\\\\\n",
       "\t Thermotogota           &    80\\\\\n",
       "\t Planctomycetota        &    78\\\\\n",
       "\t Acidobacteriota        &    69\\\\\n",
       "\t Chloroflexota          &    61\\\\\n",
       "\t Desulfobacterota\\_F     &    56\\\\\n",
       "\t Myxococcota            &    53\\\\\n",
       "\t Thermoproteota         &    38\\\\\n",
       "\t Synergistota           &    32\\\\\n",
       "\t Thermoplasmatota       &    31\\\\\n",
       "\t Aquificota             &    31\\\\\n",
       "\t Fibrobacterota         &    31\\\\\n",
       "\t Bdellovibrionota       &    30\\\\\n",
       "\t Firmicutes\\_F           &    26\\\\\n",
       "\t Nitrospirota           &    20\\\\\n",
       "\t Armatimonadota         &    12\\\\\n",
       "\t Deferribacterota       &    11\\\\\n",
       "\t Gemmatimonadota        &     9\\\\\n",
       "\t Nitrospirota\\_A         &     8\\\\\n",
       "\t Marinisomatota         &     6\\\\\n",
       "\t Firmicutes\\_E           &     5\\\\\n",
       "\t Firestonebacteria      &     5\\\\\n",
       "\t Firmicutes\\_D           &     4\\\\\n",
       "\t Coprothermobacterota   &     4\\\\\n",
       "\t Methylomirabilota      &     3\\\\\n",
       "\t WOR-3                  &     3\\\\\n",
       "\t Omnitrophota           &     3\\\\\n",
       "\t Dictyoglomota          &     3\\\\\n",
       "\t Chrysiogenetota        &     3\\\\\n",
       "\t Firmicutes\\_G           &     3\\\\\n",
       "\t Zixibacteria           &     3\\\\\n",
       "\t Micrarchaeota          &     2\\\\\n",
       "\t Caldisericota          &     2\\\\\n",
       "\t Cloacimonadota         &     2\\\\\n",
       "\t Eremiobacterota        &     2\\\\\n",
       "\t Thermodesulfobiota     &     2\\\\\n",
       "\t Hydrothermarchaeota    &     1\\\\\n",
       "\t BMS3Abin14             &     1\\\\\n",
       "\t Thermosulfidibacterota &     1\\\\\n",
       "\t Nitrospinota           &     1\\\\\n",
       "\t Elusimicrobiota        &     1\\\\\n",
       "\t Bipolaricaulota        &     1\\\\\n",
       "\\end{tabular}\n"
      ],
      "text/markdown": [
       "\n",
       "A tidytable: 58 × 2\n",
       "\n",
       "| Phylum &lt;chr&gt; | n &lt;int&gt; |\n",
       "|---|---|\n",
       "| Proteobacteria         | 64974 |\n",
       "| Firmicutes             | 28805 |\n",
       "| Actinobacteriota       |  6888 |\n",
       "| Bacteroidota           |  4131 |\n",
       "| Firmicutes_A           |  3717 |\n",
       "| Spirochaetota          |   735 |\n",
       "| Halobacteriota         |   463 |\n",
       "| Chlamydiota            |   381 |\n",
       "| Campylobacterota       |   321 |\n",
       "| Verrucomicrobiota      |   286 |\n",
       "| Cyanobacteria          |   260 |\n",
       "| Firmicutes_C           |   213 |\n",
       "| Desulfobacterota       |   180 |\n",
       "| Fusobacteriota         |   165 |\n",
       "| Methanobacteriota      |   135 |\n",
       "| Deinococcota           |    93 |\n",
       "| Firmicutes_B           |    82 |\n",
       "| Thermotogota           |    80 |\n",
       "| Planctomycetota        |    78 |\n",
       "| Acidobacteriota        |    69 |\n",
       "| Chloroflexota          |    61 |\n",
       "| Desulfobacterota_F     |    56 |\n",
       "| Myxococcota            |    53 |\n",
       "| Thermoproteota         |    38 |\n",
       "| Synergistota           |    32 |\n",
       "| Thermoplasmatota       |    31 |\n",
       "| Aquificota             |    31 |\n",
       "| Fibrobacterota         |    31 |\n",
       "| Bdellovibrionota       |    30 |\n",
       "| Firmicutes_F           |    26 |\n",
       "| Nitrospirota           |    20 |\n",
       "| Armatimonadota         |    12 |\n",
       "| Deferribacterota       |    11 |\n",
       "| Gemmatimonadota        |     9 |\n",
       "| Nitrospirota_A         |     8 |\n",
       "| Marinisomatota         |     6 |\n",
       "| Firmicutes_E           |     5 |\n",
       "| Firestonebacteria      |     5 |\n",
       "| Firmicutes_D           |     4 |\n",
       "| Coprothermobacterota   |     4 |\n",
       "| Methylomirabilota      |     3 |\n",
       "| WOR-3                  |     3 |\n",
       "| Omnitrophota           |     3 |\n",
       "| Dictyoglomota          |     3 |\n",
       "| Chrysiogenetota        |     3 |\n",
       "| Firmicutes_G           |     3 |\n",
       "| Zixibacteria           |     3 |\n",
       "| Micrarchaeota          |     2 |\n",
       "| Caldisericota          |     2 |\n",
       "| Cloacimonadota         |     2 |\n",
       "| Eremiobacterota        |     2 |\n",
       "| Thermodesulfobiota     |     2 |\n",
       "| Hydrothermarchaeota    |     1 |\n",
       "| BMS3Abin14             |     1 |\n",
       "| Thermosulfidibacterota |     1 |\n",
       "| Nitrospinota           |     1 |\n",
       "| Elusimicrobiota        |     1 |\n",
       "| Bipolaricaulota        |     1 |\n",
       "\n"
      ],
      "text/plain": [
       "   Phylum                 n    \n",
       "1  Proteobacteria         64974\n",
       "2  Firmicutes             28805\n",
       "3  Actinobacteriota        6888\n",
       "4  Bacteroidota            4131\n",
       "5  Firmicutes_A            3717\n",
       "6  Spirochaetota            735\n",
       "7  Halobacteriota           463\n",
       "8  Chlamydiota              381\n",
       "9  Campylobacterota         321\n",
       "10 Verrucomicrobiota        286\n",
       "11 Cyanobacteria            260\n",
       "12 Firmicutes_C             213\n",
       "13 Desulfobacterota         180\n",
       "14 Fusobacteriota           165\n",
       "15 Methanobacteriota        135\n",
       "16 Deinococcota              93\n",
       "17 Firmicutes_B              82\n",
       "18 Thermotogota              80\n",
       "19 Planctomycetota           78\n",
       "20 Acidobacteriota           69\n",
       "21 Chloroflexota             61\n",
       "22 Desulfobacterota_F        56\n",
       "23 Myxococcota               53\n",
       "24 Thermoproteota            38\n",
       "25 Synergistota              32\n",
       "26 Thermoplasmatota          31\n",
       "27 Aquificota                31\n",
       "28 Fibrobacterota            31\n",
       "29 Bdellovibrionota          30\n",
       "30 Firmicutes_F              26\n",
       "31 Nitrospirota              20\n",
       "32 Armatimonadota            12\n",
       "33 Deferribacterota          11\n",
       "34 Gemmatimonadota            9\n",
       "35 Nitrospirota_A             8\n",
       "36 Marinisomatota             6\n",
       "37 Firmicutes_E               5\n",
       "38 Firestonebacteria          5\n",
       "39 Firmicutes_D               4\n",
       "40 Coprothermobacterota       4\n",
       "41 Methylomirabilota          3\n",
       "42 WOR-3                      3\n",
       "43 Omnitrophota               3\n",
       "44 Dictyoglomota              3\n",
       "45 Chrysiogenetota            3\n",
       "46 Firmicutes_G               3\n",
       "47 Zixibacteria               3\n",
       "48 Micrarchaeota              2\n",
       "49 Caldisericota              2\n",
       "50 Cloacimonadota             2\n",
       "51 Eremiobacterota            2\n",
       "52 Thermodesulfobiota         2\n",
       "53 Hydrothermarchaeota        1\n",
       "54 BMS3Abin14                 1\n",
       "55 Thermosulfidibacterota     1\n",
       "56 Nitrospinota               1\n",
       "57 Elusimicrobiota            1\n",
       "58 Bipolaricaulota            1"
      ]
     },
     "metadata": {},
     "output_type": "display_data"
    }
   ],
   "source": [
    "df.dims(60)\n",
    "meta_f %>%\n",
    "    summarize.(n = n.(),\n",
    "               .by=c(Phylum)) %>%\n",
    "    arrange.(-n)\n",
    "df.dims()"
   ]
  },
  {
   "cell_type": "markdown",
   "id": "ee753473",
   "metadata": {},
   "source": [
    "# Subsampling per species\n",
    "\n",
    "* reducing per-species biases"
   ]
  },
  {
   "cell_type": "code",
   "execution_count": 22,
   "id": "c7e184f1",
   "metadata": {
    "ExecuteTime": {
     "end_time": "2021-08-13T12:51:22.536985Z",
     "start_time": "2021-08-13T12:51:05.934Z"
    }
   },
   "outputs": [
    {
     "data": {
      "text/html": [
       "<table class=\"dataframe\">\n",
       "<caption>A matrix: 1 × 8 of type dbl</caption>\n",
       "<thead>\n",
       "\t<tr><th></th><th scope=col>Min.</th><th scope=col>1st Qu.</th><th scope=col>Median</th><th scope=col>Mean</th><th scope=col>3rd Qu.</th><th scope=col>Max.</th><th scope=col>sd</th><th scope=col>sd_err_of_mean</th></tr>\n",
       "</thead>\n",
       "<tbody>\n",
       "\t<tr><th scope=row>genomes per species</th><td>1</td><td>1</td><td>1</td><td>6.78599</td><td>2</td><td>7541</td><td>3077.639</td><td>1256.441</td></tr>\n",
       "</tbody>\n",
       "</table>\n"
      ],
      "text/latex": [
       "A matrix: 1 × 8 of type dbl\n",
       "\\begin{tabular}{r|llllllll}\n",
       "  & Min. & 1st Qu. & Median & Mean & 3rd Qu. & Max. & sd & sd\\_err\\_of\\_mean\\\\\n",
       "\\hline\n",
       "\tgenomes per species & 1 & 1 & 1 & 6.78599 & 2 & 7541 & 3077.639 & 1256.441\\\\\n",
       "\\end{tabular}\n"
      ],
      "text/markdown": [
       "\n",
       "A matrix: 1 × 8 of type dbl\n",
       "\n",
       "| <!--/--> | Min. | 1st Qu. | Median | Mean | 3rd Qu. | Max. | sd | sd_err_of_mean |\n",
       "|---|---|---|---|---|---|---|---|---|\n",
       "| genomes per species | 1 | 1 | 1 | 6.78599 | 2 | 7541 | 3077.639 | 1256.441 |\n",
       "\n"
      ],
      "text/plain": [
       "                    Min. 1st Qu. Median Mean    3rd Qu. Max. sd      \n",
       "genomes per species 1    1       1      6.78599 2       7541 3077.639\n",
       "                    sd_err_of_mean\n",
       "genomes per species 1256.441      "
      ]
     },
     "metadata": {},
     "output_type": "display_data"
    }
   ],
   "source": [
    "# number of species (pre-subsample)\n",
    "meta_f %>%\n",
    "    summarize.(n = n.(),\n",
    "               .by=c(Phylum, Class, Order, Family, Genus, Species)) %>%\n",
    "    .$n %>% summary_x('genomes per species')"
   ]
  },
  {
   "cell_type": "code",
   "execution_count": 23,
   "id": "ec854e44",
   "metadata": {
    "ExecuteTime": {
     "end_time": "2021-08-13T12:51:22.551409Z",
     "start_time": "2021-08-13T12:51:05.936Z"
    }
   },
   "outputs": [],
   "source": [
    "# cutoff for max number of species\n",
    "n_per_species = 50"
   ]
  },
  {
   "cell_type": "code",
   "execution_count": 24,
   "id": "5e722973",
   "metadata": {
    "ExecuteTime": {
     "end_time": "2021-08-13T12:51:22.677866Z",
     "start_time": "2021-08-13T12:51:05.939Z"
    }
   },
   "outputs": [
    {
     "data": {
      "image/png": "[encoded data removed]",
      "text/plain": [
       "Plot with title “Histogram of rlnorm(1000, 10, 1)”"
      ]
     },
     "metadata": {
      "image/png": {
       "height": 300,
       "width": 500
      }
     },
     "output_type": "display_data"
    }
   ],
   "source": [
    "p.dims(5,3)\n",
    "hist(rlnorm(1000, 10, 1))"
   ]
  },
  {
   "cell_type": "code",
   "execution_count": 25,
   "id": "93ad8737",
   "metadata": {
    "ExecuteTime": {
     "end_time": "2021-08-13T12:51:24.056195Z",
     "start_time": "2021-08-13T12:51:05.942Z"
    }
   },
   "outputs": [
    {
     "data": {
      "text/html": [
       "<table class=\"dataframe\">\n",
       "<caption>A matrix: 1 × 8 of type dbl</caption>\n",
       "<thead>\n",
       "\t<tr><th></th><th scope=col>Min.</th><th scope=col>1st Qu.</th><th scope=col>Median</th><th scope=col>Mean</th><th scope=col>3rd Qu.</th><th scope=col>Max.</th><th scope=col>sd</th><th scope=col>sd_err_of_mean</th></tr>\n",
       "</thead>\n",
       "<tbody>\n",
       "\t<tr><th scope=row>genomes per species</th><td>1</td><td>1</td><td>1</td><td>2.412768</td><td>2</td><td>33</td><td>12.881</td><td>5.259</td></tr>\n",
       "</tbody>\n",
       "</table>\n"
      ],
      "text/latex": [
       "A matrix: 1 × 8 of type dbl\n",
       "\\begin{tabular}{r|llllllll}\n",
       "  & Min. & 1st Qu. & Median & Mean & 3rd Qu. & Max. & sd & sd\\_err\\_of\\_mean\\\\\n",
       "\\hline\n",
       "\tgenomes per species & 1 & 1 & 1 & 2.412768 & 2 & 33 & 12.881 & 5.259\\\\\n",
       "\\end{tabular}\n"
      ],
      "text/markdown": [
       "\n",
       "A matrix: 1 × 8 of type dbl\n",
       "\n",
       "| <!--/--> | Min. | 1st Qu. | Median | Mean | 3rd Qu. | Max. | sd | sd_err_of_mean |\n",
       "|---|---|---|---|---|---|---|---|---|\n",
       "| genomes per species | 1 | 1 | 1 | 2.412768 | 2 | 33 | 12.881 | 5.259 |\n",
       "\n"
      ],
      "text/plain": [
       "                    Min. 1st Qu. Median Mean     3rd Qu. Max. sd    \n",
       "genomes per species 1    1       1      2.412768 2       33   12.881\n",
       "                    sd_err_of_mean\n",
       "genomes per species 5.259         "
      ]
     },
     "metadata": {},
     "output_type": "display_data"
    },
    {
     "data": {
      "image/png": "[encoded data removed]",
      "text/plain": [
       "plot without title"
      ]
     },
     "metadata": {
      "image/png": {
       "height": 220,
       "width": 400
      }
     },
     "output_type": "display_data"
    }
   ],
   "source": [
    "# filtering\n",
    "meta_ff = meta_f %>%\n",
    "    mutate.(tax = paste(Domain, Phylum, Class, Order, Family, Genus, Species, sep=';')) %>%\n",
    "    summarize.(X = sample(1:length(accession), length(accession)),\n",
    "               .by=c(Domain, Phylum, Class, Order, Family, Genus, Species, tax)) %>%\n",
    "    mutate.(max_cnt = sample(1:n_per_species, length(tax), replace=TRUE)) %>%\n",
    "    filter.(X <= max_cnt) %>%\n",
    "    select.(-X, -max_cnt, -tax)\n",
    "\n",
    "df = meta_ff %>%\n",
    "    summarize.(n = n.(),\n",
    "               .by=c(Phylum, Class, Order, Family, Genus, Species)) \n",
    "df$n %>% summary_x('genomes per species')\n",
    "p = df %>%\n",
    "    ggplot(aes(n)) +\n",
    "    geom_histogram(bins=100) +\n",
    "    labs(x='Genomes belonging to a species', 'No. of species') +\n",
    "    theme_bw()\n",
    "p.dims(4,2.2)\n",
    "plot(p)"
   ]
  },
  {
   "cell_type": "code",
   "execution_count": 26,
   "id": "bba9662b",
   "metadata": {
    "ExecuteTime": {
     "end_time": "2021-08-13T12:51:24.128541Z",
     "start_time": "2021-08-13T12:51:05.946Z"
    }
   },
   "outputs": [
    {
     "data": {
      "text/html": [
       "<table class=\"dataframe\">\n",
       "<caption>A tidytable: 112566 × 23</caption>\n",
       "<thead>\n",
       "\t<tr><th scope=col>accession</th><th scope=col>checkm_completeness</th><th scope=col>checkm_contamination</th><th scope=col>mimag_high_quality</th><th scope=col>mimag_medium_quality</th><th scope=col>mimag_low_quality</th><th scope=col>ncbi_assembly_level</th><th scope=col>ncbi_genome_category</th><th scope=col>ncbi_genbank_assembly_accession</th><th scope=col>mean_contig_length</th><th scope=col>⋯</th><th scope=col>genome_size</th><th scope=col>n50_contigs</th><th scope=col>ssu_count</th><th scope=col>Domain</th><th scope=col>Phylum</th><th scope=col>Class</th><th scope=col>Order</th><th scope=col>Family</th><th scope=col>Genus</th><th scope=col>Species</th></tr>\n",
       "\t<tr><th scope=col>&lt;chr&gt;</th><th scope=col>&lt;dbl&gt;</th><th scope=col>&lt;dbl&gt;</th><th scope=col>&lt;chr&gt;</th><th scope=col>&lt;chr&gt;</th><th scope=col>&lt;chr&gt;</th><th scope=col>&lt;chr&gt;</th><th scope=col>&lt;chr&gt;</th><th scope=col>&lt;chr&gt;</th><th scope=col>&lt;int&gt;</th><th scope=col>⋯</th><th scope=col>&lt;int&gt;</th><th scope=col>&lt;int&gt;</th><th scope=col>&lt;int&gt;</th><th scope=col>&lt;chr&gt;</th><th scope=col>&lt;chr&gt;</th><th scope=col>&lt;chr&gt;</th><th scope=col>&lt;chr&gt;</th><th scope=col>&lt;chr&gt;</th><th scope=col>&lt;chr&gt;</th><th scope=col>&lt;chr&gt;</th></tr>\n",
       "</thead>\n",
       "<tbody>\n",
       "\t<tr><td>GB_GCA_000200715.1</td><td>99.03</td><td>0</td><td>t</td><td>f</td><td>f</td><td>Chromosome     </td><td>derived from environmental sample</td><td>GCA_000200715.1</td><td> 340809</td><td>⋯</td><td>2045086</td><td>1281157</td><td>1</td><td>Archaea</td><td>Thermoproteota</td><td>Nitrososphaeria</td><td>Nitrososphaerales</td><td>Nitrosopumilaceae </td><td>Cenarchaeum </td><td>Cenarchaeum symbiosum     </td></tr>\n",
       "\t<tr><td>GB_GCA_000306725.1</td><td>99.84</td><td>0</td><td>t</td><td>f</td><td>f</td><td>Complete Genome</td><td>none                             </td><td>GCA_000306725.1</td><td>3072769</td><td>⋯</td><td>3072769</td><td>3072769</td><td>3</td><td>Archaea</td><td>Halobacteriota</td><td>Methanosarcinia</td><td>Methanosarcinales</td><td>Methanosarcinaceae</td><td>Methanolobus</td><td>Methanolobus psychrophilus</td></tr>\n",
       "\t<tr><td>⋮</td><td>⋮</td><td>⋮</td><td>⋮</td><td>⋮</td><td>⋮</td><td>⋮</td><td>⋮</td><td>⋮</td><td>⋮</td><td>⋱</td><td>⋮</td><td>⋮</td><td>⋮</td><td>⋮</td><td>⋮</td><td>⋮</td><td>⋮</td><td>⋮</td><td>⋮</td><td>⋮</td></tr>\n",
       "\t<tr><td>RS_GCF_903971035.1</td><td>99.43</td><td>0.61</td><td>t</td><td>f</td><td>f</td><td>Contig</td><td>none</td><td>GCA_903971035.1</td><td>45625</td><td>⋯</td><td>5475026</td><td>408314</td><td>1</td><td>Bacteria</td><td>Firmicutes      </td><td>Bacilli      </td><td>Bacillales     </td><td>Bacillaceae_H   </td><td>Priestia       </td><td>Priestia aryabhattai       </td></tr>\n",
       "\t<tr><td>RS_GCF_903986115.1</td><td>99.45</td><td>0.00</td><td>t</td><td>f</td><td>f</td><td>Contig</td><td>none</td><td>GCA_903986115.1</td><td>52224</td><td>⋯</td><td>2402342</td><td>142020</td><td>1</td><td>Bacteria</td><td>Actinobacteriota</td><td>Actinomycetia</td><td>Mycobacteriales</td><td>Mycobacteriaceae</td><td>Corynebacterium</td><td>Corynebacterium diphtheriae</td></tr>\n",
       "</tbody>\n",
       "</table>\n"
      ],
      "text/latex": [
       "A tidytable: 112566 × 23\n",
       "\\begin{tabular}{lllllllllllllllllllll}\n",
       " accession & checkm\\_completeness & checkm\\_contamination & mimag\\_high\\_quality & mimag\\_medium\\_quality & mimag\\_low\\_quality & ncbi\\_assembly\\_level & ncbi\\_genome\\_category & ncbi\\_genbank\\_assembly\\_accession & mean\\_contig\\_length & ⋯ & genome\\_size & n50\\_contigs & ssu\\_count & Domain & Phylum & Class & Order & Family & Genus & Species\\\\\n",
       " <chr> & <dbl> & <dbl> & <chr> & <chr> & <chr> & <chr> & <chr> & <chr> & <int> & ⋯ & <int> & <int> & <int> & <chr> & <chr> & <chr> & <chr> & <chr> & <chr> & <chr>\\\\\n",
       "\\hline\n",
       "\t GB\\_GCA\\_000200715.1 & 99.03 & 0 & t & f & f & Chromosome      & derived from environmental sample & GCA\\_000200715.1 &  340809 & ⋯ & 2045086 & 1281157 & 1 & Archaea & Thermoproteota & Nitrososphaeria & Nitrososphaerales & Nitrosopumilaceae  & Cenarchaeum  & Cenarchaeum symbiosum     \\\\\n",
       "\t GB\\_GCA\\_000306725.1 & 99.84 & 0 & t & f & f & Complete Genome & none                              & GCA\\_000306725.1 & 3072769 & ⋯ & 3072769 & 3072769 & 3 & Archaea & Halobacteriota & Methanosarcinia & Methanosarcinales & Methanosarcinaceae & Methanolobus & Methanolobus psychrophilus\\\\\n",
       "\t ⋮ & ⋮ & ⋮ & ⋮ & ⋮ & ⋮ & ⋮ & ⋮ & ⋮ & ⋮ & ⋱ & ⋮ & ⋮ & ⋮ & ⋮ & ⋮ & ⋮ & ⋮ & ⋮ & ⋮ & ⋮\\\\\n",
       "\t RS\\_GCF\\_903971035.1 & 99.43 & 0.61 & t & f & f & Contig & none & GCA\\_903971035.1 & 45625 & ⋯ & 5475026 & 408314 & 1 & Bacteria & Firmicutes       & Bacilli       & Bacillales      & Bacillaceae\\_H    & Priestia        & Priestia aryabhattai       \\\\\n",
       "\t RS\\_GCF\\_903986115.1 & 99.45 & 0.00 & t & f & f & Contig & none & GCA\\_903986115.1 & 52224 & ⋯ & 2402342 & 142020 & 1 & Bacteria & Actinobacteriota & Actinomycetia & Mycobacteriales & Mycobacteriaceae & Corynebacterium & Corynebacterium diphtheriae\\\\\n",
       "\\end{tabular}\n"
      ],
      "text/markdown": [
       "\n",
       "A tidytable: 112566 × 23\n",
       "\n",
       "| accession &lt;chr&gt; | checkm_completeness &lt;dbl&gt; | checkm_contamination &lt;dbl&gt; | mimag_high_quality &lt;chr&gt; | mimag_medium_quality &lt;chr&gt; | mimag_low_quality &lt;chr&gt; | ncbi_assembly_level &lt;chr&gt; | ncbi_genome_category &lt;chr&gt; | ncbi_genbank_assembly_accession &lt;chr&gt; | mean_contig_length &lt;int&gt; | ⋯ ⋯ | genome_size &lt;int&gt; | n50_contigs &lt;int&gt; | ssu_count &lt;int&gt; | Domain &lt;chr&gt; | Phylum &lt;chr&gt; | Class &lt;chr&gt; | Order &lt;chr&gt; | Family &lt;chr&gt; | Genus &lt;chr&gt; | Species &lt;chr&gt; |\n",
       "|---|---|---|---|---|---|---|---|---|---|---|---|---|---|---|---|---|---|---|---|---|\n",
       "| GB_GCA_000200715.1 | 99.03 | 0 | t | f | f | Chromosome      | derived from environmental sample | GCA_000200715.1 |  340809 | ⋯ | 2045086 | 1281157 | 1 | Archaea | Thermoproteota | Nitrososphaeria | Nitrososphaerales | Nitrosopumilaceae  | Cenarchaeum  | Cenarchaeum symbiosum      |\n",
       "| GB_GCA_000306725.1 | 99.84 | 0 | t | f | f | Complete Genome | none                              | GCA_000306725.1 | 3072769 | ⋯ | 3072769 | 3072769 | 3 | Archaea | Halobacteriota | Methanosarcinia | Methanosarcinales | Methanosarcinaceae | Methanolobus | Methanolobus psychrophilus |\n",
       "| ⋮ | ⋮ | ⋮ | ⋮ | ⋮ | ⋮ | ⋮ | ⋮ | ⋮ | ⋮ | ⋱ | ⋮ | ⋮ | ⋮ | ⋮ | ⋮ | ⋮ | ⋮ | ⋮ | ⋮ | ⋮ |\n",
       "| RS_GCF_903971035.1 | 99.43 | 0.61 | t | f | f | Contig | none | GCA_903971035.1 | 45625 | ⋯ | 5475026 | 408314 | 1 | Bacteria | Firmicutes       | Bacilli       | Bacillales      | Bacillaceae_H    | Priestia        | Priestia aryabhattai        |\n",
       "| RS_GCF_903986115.1 | 99.45 | 0.00 | t | f | f | Contig | none | GCA_903986115.1 | 52224 | ⋯ | 2402342 | 142020 | 1 | Bacteria | Actinobacteriota | Actinomycetia | Mycobacteriales | Mycobacteriaceae | Corynebacterium | Corynebacterium diphtheriae |\n",
       "\n"
      ],
      "text/plain": [
       "       accession          checkm_completeness checkm_contamination\n",
       "1      GB_GCA_000200715.1 99.03               0                   \n",
       "2      GB_GCA_000306725.1 99.84               0                   \n",
       "⋮      ⋮                  ⋮                   ⋮                   \n",
       "112565 RS_GCF_903971035.1 99.43               0.61                \n",
       "112566 RS_GCF_903986115.1 99.45               0.00                \n",
       "       mimag_high_quality mimag_medium_quality mimag_low_quality\n",
       "1      t                  f                    f                \n",
       "2      t                  f                    f                \n",
       "⋮      ⋮                  ⋮                    ⋮                \n",
       "112565 t                  f                    f                \n",
       "112566 t                  f                    f                \n",
       "       ncbi_assembly_level ncbi_genome_category             \n",
       "1      Chromosome          derived from environmental sample\n",
       "2      Complete Genome     none                             \n",
       "⋮      ⋮                   ⋮                                \n",
       "112565 Contig              none                             \n",
       "112566 Contig              none                             \n",
       "       ncbi_genbank_assembly_accession mean_contig_length ⋯ genome_size\n",
       "1      GCA_000200715.1                  340809            ⋯ 2045086    \n",
       "2      GCA_000306725.1                 3072769            ⋯ 3072769    \n",
       "⋮      ⋮                               ⋮                  ⋱ ⋮          \n",
       "112565 GCA_903971035.1                 45625              ⋯ 5475026    \n",
       "112566 GCA_903986115.1                 52224              ⋯ 2402342    \n",
       "       n50_contigs ssu_count Domain   Phylum           Class          \n",
       "1      1281157     1         Archaea  Thermoproteota   Nitrososphaeria\n",
       "2      3072769     3         Archaea  Halobacteriota   Methanosarcinia\n",
       "⋮      ⋮           ⋮         ⋮        ⋮                ⋮              \n",
       "112565 408314      1         Bacteria Firmicutes       Bacilli        \n",
       "112566 142020      1         Bacteria Actinobacteriota Actinomycetia  \n",
       "       Order             Family             Genus          \n",
       "1      Nitrososphaerales Nitrosopumilaceae  Cenarchaeum    \n",
       "2      Methanosarcinales Methanosarcinaceae Methanolobus   \n",
       "⋮      ⋮                 ⋮                  ⋮              \n",
       "112565 Bacillales        Bacillaceae_H      Priestia       \n",
       "112566 Mycobacteriales   Mycobacteriaceae   Corynebacterium\n",
       "       Species                    \n",
       "1      Cenarchaeum symbiosum      \n",
       "2      Methanolobus psychrophilus \n",
       "⋮      ⋮                          \n",
       "112565 Priestia aryabhattai       \n",
       "112566 Corynebacterium diphtheriae"
      ]
     },
     "metadata": {},
     "output_type": "display_data"
    }
   ],
   "source": [
    "meta_ff = meta_f %>%\n",
    "    semi_join(meta_f, c('accession'))\n",
    "meta_ff"
   ]
  },
  {
   "cell_type": "code",
   "execution_count": 27,
   "id": "58f02a4b",
   "metadata": {
    "ExecuteTime": {
     "end_time": "2021-08-13T12:51:24.190010Z",
     "start_time": "2021-08-13T12:51:05.948Z"
    }
   },
   "outputs": [
    {
     "name": "stdout",
     "output_type": "stream",
     "text": [
      "No. of unique genomes: 112566 \n"
     ]
    }
   ],
   "source": [
    "meta_ff %>% unique_n('genomes', accession)"
   ]
  },
  {
   "cell_type": "markdown",
   "id": "15be7cf4",
   "metadata": {},
   "source": [
    "# Selecting train/test/validate subsets"
   ]
  },
  {
   "cell_type": "markdown",
   "id": "ce5fa037",
   "metadata": {},
   "source": [
    "## Train/test \n",
    "\n",
    "* random selection"
   ]
  },
  {
   "cell_type": "code",
   "execution_count": 28,
   "id": "bf11da3d",
   "metadata": {
    "ExecuteTime": {
     "end_time": "2021-08-13T12:51:24.206818Z",
     "start_time": "2021-08-13T12:51:05.952Z"
    }
   },
   "outputs": [],
   "source": [
    "# genomes for train & test\n",
    "n_genomes = 9000 * 2"
   ]
  },
  {
   "cell_type": "code",
   "execution_count": 29,
   "id": "13a11936",
   "metadata": {
    "ExecuteTime": {
     "end_time": "2021-08-13T12:51:24.268286Z",
     "start_time": "2021-08-13T12:51:05.956Z"
    }
   },
   "outputs": [
    {
     "data": {
      "text/html": [
       "<table class=\"dataframe\">\n",
       "<caption>A tidytable: 18000 × 24</caption>\n",
       "<thead>\n",
       "\t<tr><th scope=col>accession</th><th scope=col>checkm_completeness</th><th scope=col>checkm_contamination</th><th scope=col>mimag_high_quality</th><th scope=col>mimag_medium_quality</th><th scope=col>mimag_low_quality</th><th scope=col>ncbi_assembly_level</th><th scope=col>ncbi_genome_category</th><th scope=col>ncbi_genbank_assembly_accession</th><th scope=col>mean_contig_length</th><th scope=col>⋯</th><th scope=col>n50_contigs</th><th scope=col>ssu_count</th><th scope=col>Domain</th><th scope=col>Phylum</th><th scope=col>Class</th><th scope=col>Order</th><th scope=col>Family</th><th scope=col>Genus</th><th scope=col>Species</th><th scope=col>X</th></tr>\n",
       "\t<tr><th scope=col>&lt;chr&gt;</th><th scope=col>&lt;dbl&gt;</th><th scope=col>&lt;dbl&gt;</th><th scope=col>&lt;chr&gt;</th><th scope=col>&lt;chr&gt;</th><th scope=col>&lt;chr&gt;</th><th scope=col>&lt;chr&gt;</th><th scope=col>&lt;chr&gt;</th><th scope=col>&lt;chr&gt;</th><th scope=col>&lt;int&gt;</th><th scope=col>⋯</th><th scope=col>&lt;int&gt;</th><th scope=col>&lt;int&gt;</th><th scope=col>&lt;chr&gt;</th><th scope=col>&lt;chr&gt;</th><th scope=col>&lt;chr&gt;</th><th scope=col>&lt;chr&gt;</th><th scope=col>&lt;chr&gt;</th><th scope=col>&lt;chr&gt;</th><th scope=col>&lt;chr&gt;</th><th scope=col>&lt;int&gt;</th></tr>\n",
       "</thead>\n",
       "<tbody>\n",
       "\t<tr><td>GB_GCA_000306725.1</td><td>99.84</td><td>0</td><td>t</td><td>f</td><td>f</td><td>Complete Genome</td><td>none</td><td>GCA_000306725.1</td><td>3072769</td><td>⋯</td><td>3072769</td><td>3</td><td>Archaea</td><td>Halobacteriota   </td><td>Methanosarcinia</td><td>Methanosarcinales</td><td>Methanosarcinaceae</td><td>Methanolobus  </td><td>Methanolobus psychrophilus</td><td>7887</td></tr>\n",
       "\t<tr><td>RS_GCF_000022545.1</td><td>98.51</td><td>0</td><td>t</td><td>f</td><td>f</td><td>Complete Genome</td><td>none</td><td>GCA_000022545.1</td><td>1845800</td><td>⋯</td><td>1845800</td><td>1</td><td>Archaea</td><td>Methanobacteriota</td><td>Thermococci    </td><td>Thermococcales   </td><td>Thermococcaceae   </td><td>Thermococcus_A</td><td>Thermococcus_A sibiricus  </td><td>8753</td></tr>\n",
       "\t<tr><td>⋮</td><td>⋮</td><td>⋮</td><td>⋮</td><td>⋮</td><td>⋮</td><td>⋮</td><td>⋮</td><td>⋮</td><td>⋮</td><td>⋱</td><td>⋮</td><td>⋮</td><td>⋮</td><td>⋮</td><td>⋮</td><td>⋮</td><td>⋮</td><td>⋮</td><td>⋮</td><td>⋮</td></tr>\n",
       "\t<tr><td>RS_GCF_903969895.1</td><td>99.62</td><td>0.6</td><td>t</td><td>f</td><td>f</td><td>Contig</td><td>none</td><td>GCA_903969895.1</td><td>22658</td><td>⋯</td><td> 90484</td><td>1</td><td>Bacteria</td><td>Firmicutes      </td><td>Bacilli      </td><td>Staphylococcales</td><td>Staphylococcaceae</td><td>Staphylococcus </td><td>Staphylococcus haemolyticus</td><td>16658</td></tr>\n",
       "\t<tr><td>RS_GCF_903986115.1</td><td>99.45</td><td>0.0</td><td>t</td><td>f</td><td>f</td><td>Contig</td><td>none</td><td>GCA_903986115.1</td><td>52224</td><td>⋯</td><td>142020</td><td>1</td><td>Bacteria</td><td>Actinobacteriota</td><td>Actinomycetia</td><td>Mycobacteriales </td><td>Mycobacteriaceae </td><td>Corynebacterium</td><td>Corynebacterium diphtheriae</td><td>12792</td></tr>\n",
       "</tbody>\n",
       "</table>\n"
      ],
      "text/latex": [
       "A tidytable: 18000 × 24\n",
       "\\begin{tabular}{lllllllllllllllllllll}\n",
       " accession & checkm\\_completeness & checkm\\_contamination & mimag\\_high\\_quality & mimag\\_medium\\_quality & mimag\\_low\\_quality & ncbi\\_assembly\\_level & ncbi\\_genome\\_category & ncbi\\_genbank\\_assembly\\_accession & mean\\_contig\\_length & ⋯ & n50\\_contigs & ssu\\_count & Domain & Phylum & Class & Order & Family & Genus & Species & X\\\\\n",
       " <chr> & <dbl> & <dbl> & <chr> & <chr> & <chr> & <chr> & <chr> & <chr> & <int> & ⋯ & <int> & <int> & <chr> & <chr> & <chr> & <chr> & <chr> & <chr> & <chr> & <int>\\\\\n",
       "\\hline\n",
       "\t GB\\_GCA\\_000306725.1 & 99.84 & 0 & t & f & f & Complete Genome & none & GCA\\_000306725.1 & 3072769 & ⋯ & 3072769 & 3 & Archaea & Halobacteriota    & Methanosarcinia & Methanosarcinales & Methanosarcinaceae & Methanolobus   & Methanolobus psychrophilus & 7887\\\\\n",
       "\t RS\\_GCF\\_000022545.1 & 98.51 & 0 & t & f & f & Complete Genome & none & GCA\\_000022545.1 & 1845800 & ⋯ & 1845800 & 1 & Archaea & Methanobacteriota & Thermococci     & Thermococcales    & Thermococcaceae    & Thermococcus\\_A & Thermococcus\\_A sibiricus   & 8753\\\\\n",
       "\t ⋮ & ⋮ & ⋮ & ⋮ & ⋮ & ⋮ & ⋮ & ⋮ & ⋮ & ⋮ & ⋱ & ⋮ & ⋮ & ⋮ & ⋮ & ⋮ & ⋮ & ⋮ & ⋮ & ⋮ & ⋮\\\\\n",
       "\t RS\\_GCF\\_903969895.1 & 99.62 & 0.6 & t & f & f & Contig & none & GCA\\_903969895.1 & 22658 & ⋯ &  90484 & 1 & Bacteria & Firmicutes       & Bacilli       & Staphylococcales & Staphylococcaceae & Staphylococcus  & Staphylococcus haemolyticus & 16658\\\\\n",
       "\t RS\\_GCF\\_903986115.1 & 99.45 & 0.0 & t & f & f & Contig & none & GCA\\_903986115.1 & 52224 & ⋯ & 142020 & 1 & Bacteria & Actinobacteriota & Actinomycetia & Mycobacteriales  & Mycobacteriaceae  & Corynebacterium & Corynebacterium diphtheriae & 12792\\\\\n",
       "\\end{tabular}\n"
      ],
      "text/markdown": [
       "\n",
       "A tidytable: 18000 × 24\n",
       "\n",
       "| accession &lt;chr&gt; | checkm_completeness &lt;dbl&gt; | checkm_contamination &lt;dbl&gt; | mimag_high_quality &lt;chr&gt; | mimag_medium_quality &lt;chr&gt; | mimag_low_quality &lt;chr&gt; | ncbi_assembly_level &lt;chr&gt; | ncbi_genome_category &lt;chr&gt; | ncbi_genbank_assembly_accession &lt;chr&gt; | mean_contig_length &lt;int&gt; | ⋯ ⋯ | n50_contigs &lt;int&gt; | ssu_count &lt;int&gt; | Domain &lt;chr&gt; | Phylum &lt;chr&gt; | Class &lt;chr&gt; | Order &lt;chr&gt; | Family &lt;chr&gt; | Genus &lt;chr&gt; | Species &lt;chr&gt; | X &lt;int&gt; |\n",
       "|---|---|---|---|---|---|---|---|---|---|---|---|---|---|---|---|---|---|---|---|---|\n",
       "| GB_GCA_000306725.1 | 99.84 | 0 | t | f | f | Complete Genome | none | GCA_000306725.1 | 3072769 | ⋯ | 3072769 | 3 | Archaea | Halobacteriota    | Methanosarcinia | Methanosarcinales | Methanosarcinaceae | Methanolobus   | Methanolobus psychrophilus | 7887 |\n",
       "| RS_GCF_000022545.1 | 98.51 | 0 | t | f | f | Complete Genome | none | GCA_000022545.1 | 1845800 | ⋯ | 1845800 | 1 | Archaea | Methanobacteriota | Thermococci     | Thermococcales    | Thermococcaceae    | Thermococcus_A | Thermococcus_A sibiricus   | 8753 |\n",
       "| ⋮ | ⋮ | ⋮ | ⋮ | ⋮ | ⋮ | ⋮ | ⋮ | ⋮ | ⋮ | ⋱ | ⋮ | ⋮ | ⋮ | ⋮ | ⋮ | ⋮ | ⋮ | ⋮ | ⋮ | ⋮ |\n",
       "| RS_GCF_903969895.1 | 99.62 | 0.6 | t | f | f | Contig | none | GCA_903969895.1 | 22658 | ⋯ |  90484 | 1 | Bacteria | Firmicutes       | Bacilli       | Staphylococcales | Staphylococcaceae | Staphylococcus  | Staphylococcus haemolyticus | 16658 |\n",
       "| RS_GCF_903986115.1 | 99.45 | 0.0 | t | f | f | Contig | none | GCA_903986115.1 | 52224 | ⋯ | 142020 | 1 | Bacteria | Actinobacteriota | Actinomycetia | Mycobacteriales  | Mycobacteriaceae  | Corynebacterium | Corynebacterium diphtheriae | 12792 |\n",
       "\n"
      ],
      "text/plain": [
       "      accession          checkm_completeness checkm_contamination\n",
       "1     GB_GCA_000306725.1 99.84               0                   \n",
       "2     RS_GCF_000022545.1 98.51               0                   \n",
       "⋮     ⋮                  ⋮                   ⋮                   \n",
       "17999 RS_GCF_903969895.1 99.62               0.6                 \n",
       "18000 RS_GCF_903986115.1 99.45               0.0                 \n",
       "      mimag_high_quality mimag_medium_quality mimag_low_quality\n",
       "1     t                  f                    f                \n",
       "2     t                  f                    f                \n",
       "⋮     ⋮                  ⋮                    ⋮                \n",
       "17999 t                  f                    f                \n",
       "18000 t                  f                    f                \n",
       "      ncbi_assembly_level ncbi_genome_category ncbi_genbank_assembly_accession\n",
       "1     Complete Genome     none                 GCA_000306725.1                \n",
       "2     Complete Genome     none                 GCA_000022545.1                \n",
       "⋮     ⋮                   ⋮                    ⋮                              \n",
       "17999 Contig              none                 GCA_903969895.1                \n",
       "18000 Contig              none                 GCA_903986115.1                \n",
       "      mean_contig_length ⋯ n50_contigs ssu_count Domain   Phylum           \n",
       "1     3072769            ⋯ 3072769     3         Archaea  Halobacteriota   \n",
       "2     1845800            ⋯ 1845800     1         Archaea  Methanobacteriota\n",
       "⋮     ⋮                  ⋱ ⋮           ⋮         ⋮        ⋮                \n",
       "17999 22658              ⋯  90484      1         Bacteria Firmicutes       \n",
       "18000 52224              ⋯ 142020      1         Bacteria Actinobacteriota \n",
       "      Class           Order             Family             Genus          \n",
       "1     Methanosarcinia Methanosarcinales Methanosarcinaceae Methanolobus   \n",
       "2     Thermococci     Thermococcales    Thermococcaceae    Thermococcus_A \n",
       "⋮     ⋮               ⋮                 ⋮                  ⋮              \n",
       "17999 Bacilli         Staphylococcales  Staphylococcaceae  Staphylococcus \n",
       "18000 Actinomycetia   Mycobacteriales   Mycobacteriaceae   Corynebacterium\n",
       "      Species                     X    \n",
       "1     Methanolobus psychrophilus  7887 \n",
       "2     Thermococcus_A sibiricus    8753 \n",
       "⋮     ⋮                           ⋮    \n",
       "17999 Staphylococcus haemolyticus 16658\n",
       "18000 Corynebacterium diphtheriae 12792"
      ]
     },
     "metadata": {},
     "output_type": "display_data"
    }
   ],
   "source": [
    "meta_ff_tt = meta_ff %>%\n",
    "    mutate.(X = sample(1:length(accession), length(accession))) %>%\n",
    "    filter.(X <= n_genomes)\n",
    "meta_ff_tt"
   ]
  },
  {
   "cell_type": "code",
   "execution_count": 30,
   "id": "cf4a15cf",
   "metadata": {
    "ExecuteTime": {
     "end_time": "2021-08-13T12:51:24.321162Z",
     "start_time": "2021-08-13T12:51:05.959Z"
    }
   },
   "outputs": [
    {
     "data": {
      "text/html": [
       "<table class=\"dataframe\">\n",
       "<caption>A tidytable: 9000 × 24</caption>\n",
       "<thead>\n",
       "\t<tr><th scope=col>accession</th><th scope=col>checkm_completeness</th><th scope=col>checkm_contamination</th><th scope=col>mimag_high_quality</th><th scope=col>mimag_medium_quality</th><th scope=col>mimag_low_quality</th><th scope=col>ncbi_assembly_level</th><th scope=col>ncbi_genome_category</th><th scope=col>ncbi_genbank_assembly_accession</th><th scope=col>mean_contig_length</th><th scope=col>⋯</th><th scope=col>n50_contigs</th><th scope=col>ssu_count</th><th scope=col>Domain</th><th scope=col>Phylum</th><th scope=col>Class</th><th scope=col>Order</th><th scope=col>Family</th><th scope=col>Genus</th><th scope=col>Species</th><th scope=col>dataset</th></tr>\n",
       "\t<tr><th scope=col>&lt;chr&gt;</th><th scope=col>&lt;dbl&gt;</th><th scope=col>&lt;dbl&gt;</th><th scope=col>&lt;chr&gt;</th><th scope=col>&lt;chr&gt;</th><th scope=col>&lt;chr&gt;</th><th scope=col>&lt;chr&gt;</th><th scope=col>&lt;chr&gt;</th><th scope=col>&lt;chr&gt;</th><th scope=col>&lt;int&gt;</th><th scope=col>⋯</th><th scope=col>&lt;int&gt;</th><th scope=col>&lt;int&gt;</th><th scope=col>&lt;chr&gt;</th><th scope=col>&lt;chr&gt;</th><th scope=col>&lt;chr&gt;</th><th scope=col>&lt;chr&gt;</th><th scope=col>&lt;chr&gt;</th><th scope=col>&lt;chr&gt;</th><th scope=col>&lt;chr&gt;</th><th scope=col>&lt;chr&gt;</th></tr>\n",
       "</thead>\n",
       "<tbody>\n",
       "\t<tr><td>GB_GCA_000306725.1</td><td>99.84</td><td>0</td><td>t</td><td>f</td><td>f</td><td>Complete Genome</td><td>none</td><td>GCA_000306725.1</td><td>3072769</td><td>⋯</td><td>3072769</td><td>3</td><td>Archaea</td><td>Halobacteriota   </td><td>Methanosarcinia</td><td>Methanosarcinales</td><td>Methanosarcinaceae</td><td>Methanolobus  </td><td>Methanolobus psychrophilus</td><td>n9k_train</td></tr>\n",
       "\t<tr><td>RS_GCF_000022545.1</td><td>98.51</td><td>0</td><td>t</td><td>f</td><td>f</td><td>Complete Genome</td><td>none</td><td>GCA_000022545.1</td><td>1845800</td><td>⋯</td><td>1845800</td><td>1</td><td>Archaea</td><td>Methanobacteriota</td><td>Thermococci    </td><td>Thermococcales   </td><td>Thermococcaceae   </td><td>Thermococcus_A</td><td>Thermococcus_A sibiricus  </td><td>n9k_train</td></tr>\n",
       "\t<tr><td>⋮</td><td>⋮</td><td>⋮</td><td>⋮</td><td>⋮</td><td>⋮</td><td>⋮</td><td>⋮</td><td>⋮</td><td>⋮</td><td>⋱</td><td>⋮</td><td>⋮</td><td>⋮</td><td>⋮</td><td>⋮</td><td>⋮</td><td>⋮</td><td>⋮</td><td>⋮</td><td>⋮</td></tr>\n",
       "\t<tr><td>RS_GCF_902830735.1</td><td>100</td><td>0.34</td><td>t</td><td>f</td><td>f</td><td>Scaffold</td><td>none</td><td>GCA_902830735.1</td><td>163709</td><td>⋯</td><td>984555</td><td>1</td><td>Bacteria</td><td>Proteobacteria</td><td>Gammaproteobacteria</td><td>Burkholderiales</td><td>Burkholderiaceae</td><td>Burkholderia</td><td>Burkholderia cepacia </td><td>n9k_train</td></tr>\n",
       "\t<tr><td>RS_GCF_902831865.1</td><td>100</td><td>1.68</td><td>t</td><td>f</td><td>f</td><td>Contig  </td><td>none</td><td>GCA_902831865.1</td><td> 71138</td><td>⋯</td><td>227067</td><td>1</td><td>Bacteria</td><td>Proteobacteria</td><td>Gammaproteobacteria</td><td>Burkholderiales</td><td>Burkholderiaceae</td><td>Burkholderia</td><td>Burkholderia gladioli</td><td>n9k_train</td></tr>\n",
       "</tbody>\n",
       "</table>\n"
      ],
      "text/latex": [
       "A tidytable: 9000 × 24\n",
       "\\begin{tabular}{lllllllllllllllllllll}\n",
       " accession & checkm\\_completeness & checkm\\_contamination & mimag\\_high\\_quality & mimag\\_medium\\_quality & mimag\\_low\\_quality & ncbi\\_assembly\\_level & ncbi\\_genome\\_category & ncbi\\_genbank\\_assembly\\_accession & mean\\_contig\\_length & ⋯ & n50\\_contigs & ssu\\_count & Domain & Phylum & Class & Order & Family & Genus & Species & dataset\\\\\n",
       " <chr> & <dbl> & <dbl> & <chr> & <chr> & <chr> & <chr> & <chr> & <chr> & <int> & ⋯ & <int> & <int> & <chr> & <chr> & <chr> & <chr> & <chr> & <chr> & <chr> & <chr>\\\\\n",
       "\\hline\n",
       "\t GB\\_GCA\\_000306725.1 & 99.84 & 0 & t & f & f & Complete Genome & none & GCA\\_000306725.1 & 3072769 & ⋯ & 3072769 & 3 & Archaea & Halobacteriota    & Methanosarcinia & Methanosarcinales & Methanosarcinaceae & Methanolobus   & Methanolobus psychrophilus & n9k\\_train\\\\\n",
       "\t RS\\_GCF\\_000022545.1 & 98.51 & 0 & t & f & f & Complete Genome & none & GCA\\_000022545.1 & 1845800 & ⋯ & 1845800 & 1 & Archaea & Methanobacteriota & Thermococci     & Thermococcales    & Thermococcaceae    & Thermococcus\\_A & Thermococcus\\_A sibiricus   & n9k\\_train\\\\\n",
       "\t ⋮ & ⋮ & ⋮ & ⋮ & ⋮ & ⋮ & ⋮ & ⋮ & ⋮ & ⋮ & ⋱ & ⋮ & ⋮ & ⋮ & ⋮ & ⋮ & ⋮ & ⋮ & ⋮ & ⋮ & ⋮\\\\\n",
       "\t RS\\_GCF\\_902830735.1 & 100 & 0.34 & t & f & f & Scaffold & none & GCA\\_902830735.1 & 163709 & ⋯ & 984555 & 1 & Bacteria & Proteobacteria & Gammaproteobacteria & Burkholderiales & Burkholderiaceae & Burkholderia & Burkholderia cepacia  & n9k\\_train\\\\\n",
       "\t RS\\_GCF\\_902831865.1 & 100 & 1.68 & t & f & f & Contig   & none & GCA\\_902831865.1 &  71138 & ⋯ & 227067 & 1 & Bacteria & Proteobacteria & Gammaproteobacteria & Burkholderiales & Burkholderiaceae & Burkholderia & Burkholderia gladioli & n9k\\_train\\\\\n",
       "\\end{tabular}\n"
      ],
      "text/markdown": [
       "\n",
       "A tidytable: 9000 × 24\n",
       "\n",
       "| accession &lt;chr&gt; | checkm_completeness &lt;dbl&gt; | checkm_contamination &lt;dbl&gt; | mimag_high_quality &lt;chr&gt; | mimag_medium_quality &lt;chr&gt; | mimag_low_quality &lt;chr&gt; | ncbi_assembly_level &lt;chr&gt; | ncbi_genome_category &lt;chr&gt; | ncbi_genbank_assembly_accession &lt;chr&gt; | mean_contig_length &lt;int&gt; | ⋯ ⋯ | n50_contigs &lt;int&gt; | ssu_count &lt;int&gt; | Domain &lt;chr&gt; | Phylum &lt;chr&gt; | Class &lt;chr&gt; | Order &lt;chr&gt; | Family &lt;chr&gt; | Genus &lt;chr&gt; | Species &lt;chr&gt; | dataset &lt;chr&gt; |\n",
       "|---|---|---|---|---|---|---|---|---|---|---|---|---|---|---|---|---|---|---|---|---|\n",
       "| GB_GCA_000306725.1 | 99.84 | 0 | t | f | f | Complete Genome | none | GCA_000306725.1 | 3072769 | ⋯ | 3072769 | 3 | Archaea | Halobacteriota    | Methanosarcinia | Methanosarcinales | Methanosarcinaceae | Methanolobus   | Methanolobus psychrophilus | n9k_train |\n",
       "| RS_GCF_000022545.1 | 98.51 | 0 | t | f | f | Complete Genome | none | GCA_000022545.1 | 1845800 | ⋯ | 1845800 | 1 | Archaea | Methanobacteriota | Thermococci     | Thermococcales    | Thermococcaceae    | Thermococcus_A | Thermococcus_A sibiricus   | n9k_train |\n",
       "| ⋮ | ⋮ | ⋮ | ⋮ | ⋮ | ⋮ | ⋮ | ⋮ | ⋮ | ⋮ | ⋱ | ⋮ | ⋮ | ⋮ | ⋮ | ⋮ | ⋮ | ⋮ | ⋮ | ⋮ | ⋮ |\n",
       "| RS_GCF_902830735.1 | 100 | 0.34 | t | f | f | Scaffold | none | GCA_902830735.1 | 163709 | ⋯ | 984555 | 1 | Bacteria | Proteobacteria | Gammaproteobacteria | Burkholderiales | Burkholderiaceae | Burkholderia | Burkholderia cepacia  | n9k_train |\n",
       "| RS_GCF_902831865.1 | 100 | 1.68 | t | f | f | Contig   | none | GCA_902831865.1 |  71138 | ⋯ | 227067 | 1 | Bacteria | Proteobacteria | Gammaproteobacteria | Burkholderiales | Burkholderiaceae | Burkholderia | Burkholderia gladioli | n9k_train |\n",
       "\n"
      ],
      "text/plain": [
       "     accession          checkm_completeness checkm_contamination\n",
       "1    GB_GCA_000306725.1 99.84               0                   \n",
       "2    RS_GCF_000022545.1 98.51               0                   \n",
       "⋮    ⋮                  ⋮                   ⋮                   \n",
       "8999 RS_GCF_902830735.1 100                 0.34                \n",
       "9000 RS_GCF_902831865.1 100                 1.68                \n",
       "     mimag_high_quality mimag_medium_quality mimag_low_quality\n",
       "1    t                  f                    f                \n",
       "2    t                  f                    f                \n",
       "⋮    ⋮                  ⋮                    ⋮                \n",
       "8999 t                  f                    f                \n",
       "9000 t                  f                    f                \n",
       "     ncbi_assembly_level ncbi_genome_category ncbi_genbank_assembly_accession\n",
       "1    Complete Genome     none                 GCA_000306725.1                \n",
       "2    Complete Genome     none                 GCA_000022545.1                \n",
       "⋮    ⋮                   ⋮                    ⋮                              \n",
       "8999 Scaffold            none                 GCA_902830735.1                \n",
       "9000 Contig              none                 GCA_902831865.1                \n",
       "     mean_contig_length ⋯ n50_contigs ssu_count Domain   Phylum           \n",
       "1    3072769            ⋯ 3072769     3         Archaea  Halobacteriota   \n",
       "2    1845800            ⋯ 1845800     1         Archaea  Methanobacteriota\n",
       "⋮    ⋮                  ⋱ ⋮           ⋮         ⋮        ⋮                \n",
       "8999 163709             ⋯ 984555      1         Bacteria Proteobacteria   \n",
       "9000  71138             ⋯ 227067      1         Bacteria Proteobacteria   \n",
       "     Class               Order             Family             Genus         \n",
       "1    Methanosarcinia     Methanosarcinales Methanosarcinaceae Methanolobus  \n",
       "2    Thermococci         Thermococcales    Thermococcaceae    Thermococcus_A\n",
       "⋮    ⋮                   ⋮                 ⋮                  ⋮             \n",
       "8999 Gammaproteobacteria Burkholderiales   Burkholderiaceae   Burkholderia  \n",
       "9000 Gammaproteobacteria Burkholderiales   Burkholderiaceae   Burkholderia  \n",
       "     Species                    dataset  \n",
       "1    Methanolobus psychrophilus n9k_train\n",
       "2    Thermococcus_A sibiricus   n9k_train\n",
       "⋮    ⋮                          ⋮        \n",
       "8999 Burkholderia cepacia       n9k_train\n",
       "9000 Burkholderia gladioli      n9k_train"
      ]
     },
     "metadata": {},
     "output_type": "display_data"
    }
   ],
   "source": [
    "# train\n",
    "meta_ff_train = meta_ff_tt %>%\n",
    "    filter.(X <= n_genomes / 2) %>%\n",
    "    select.(-X) %>%\n",
    "    mutate.(dataset = 'n9k_train')\n",
    "meta_ff_train"
   ]
  },
  {
   "cell_type": "code",
   "execution_count": 31,
   "id": "3384f898",
   "metadata": {
    "ExecuteTime": {
     "end_time": "2021-08-13T12:51:24.373131Z",
     "start_time": "2021-08-13T12:51:05.964Z"
    }
   },
   "outputs": [
    {
     "data": {
      "text/html": [
       "<table class=\"dataframe\">\n",
       "<caption>A tidytable: 9000 × 24</caption>\n",
       "<thead>\n",
       "\t<tr><th scope=col>accession</th><th scope=col>checkm_completeness</th><th scope=col>checkm_contamination</th><th scope=col>mimag_high_quality</th><th scope=col>mimag_medium_quality</th><th scope=col>mimag_low_quality</th><th scope=col>ncbi_assembly_level</th><th scope=col>ncbi_genome_category</th><th scope=col>ncbi_genbank_assembly_accession</th><th scope=col>mean_contig_length</th><th scope=col>⋯</th><th scope=col>n50_contigs</th><th scope=col>ssu_count</th><th scope=col>Domain</th><th scope=col>Phylum</th><th scope=col>Class</th><th scope=col>Order</th><th scope=col>Family</th><th scope=col>Genus</th><th scope=col>Species</th><th scope=col>dataset</th></tr>\n",
       "\t<tr><th scope=col>&lt;chr&gt;</th><th scope=col>&lt;dbl&gt;</th><th scope=col>&lt;dbl&gt;</th><th scope=col>&lt;chr&gt;</th><th scope=col>&lt;chr&gt;</th><th scope=col>&lt;chr&gt;</th><th scope=col>&lt;chr&gt;</th><th scope=col>&lt;chr&gt;</th><th scope=col>&lt;chr&gt;</th><th scope=col>&lt;int&gt;</th><th scope=col>⋯</th><th scope=col>&lt;int&gt;</th><th scope=col>&lt;int&gt;</th><th scope=col>&lt;chr&gt;</th><th scope=col>&lt;chr&gt;</th><th scope=col>&lt;chr&gt;</th><th scope=col>&lt;chr&gt;</th><th scope=col>&lt;chr&gt;</th><th scope=col>&lt;chr&gt;</th><th scope=col>&lt;chr&gt;</th><th scope=col>&lt;chr&gt;</th></tr>\n",
       "</thead>\n",
       "<tbody>\n",
       "\t<tr><td>RS_GCF_003351865.1</td><td>99.52</td><td>0</td><td>t</td><td>f</td><td>f</td><td>Complete Genome</td><td>none</td><td>GCA_003351865.1</td><td>1504113</td><td>⋯</td><td>1504113</td><td>2</td><td>Archaea</td><td>Methanobacteriota</td><td>Methanococci   </td><td>Methanococcales  </td><td>Methanococcaceae  </td><td>Methanofervidicoccus</td><td>Methanofervidicoccus sp003351865</td><td>n9k_test</td></tr>\n",
       "\t<tr><td>RS_GCF_003722155.1</td><td>99.51</td><td>0</td><td>t</td><td>f</td><td>f</td><td>Contig         </td><td>none</td><td>GCA_003722155.1</td><td>  89073</td><td>⋯</td><td> 171522</td><td>1</td><td>Archaea</td><td>Halobacteriota   </td><td>Methanosarcinia</td><td>Methanosarcinales</td><td>Methanosarcinaceae</td><td>Methanohalophilus   </td><td>Methanohalophilus euhalobius    </td><td>n9k_test</td></tr>\n",
       "\t<tr><td>⋮</td><td>⋮</td><td>⋮</td><td>⋮</td><td>⋮</td><td>⋮</td><td>⋮</td><td>⋮</td><td>⋮</td><td>⋮</td><td>⋱</td><td>⋮</td><td>⋮</td><td>⋮</td><td>⋮</td><td>⋮</td><td>⋮</td><td>⋮</td><td>⋮</td><td>⋮</td><td>⋮</td></tr>\n",
       "\t<tr><td>RS_GCF_903969895.1</td><td>99.62</td><td>0.6</td><td>t</td><td>f</td><td>f</td><td>Contig</td><td>none</td><td>GCA_903969895.1</td><td>22658</td><td>⋯</td><td> 90484</td><td>1</td><td>Bacteria</td><td>Firmicutes      </td><td>Bacilli      </td><td>Staphylococcales</td><td>Staphylococcaceae</td><td>Staphylococcus </td><td>Staphylococcus haemolyticus</td><td>n9k_test</td></tr>\n",
       "\t<tr><td>RS_GCF_903986115.1</td><td>99.45</td><td>0.0</td><td>t</td><td>f</td><td>f</td><td>Contig</td><td>none</td><td>GCA_903986115.1</td><td>52224</td><td>⋯</td><td>142020</td><td>1</td><td>Bacteria</td><td>Actinobacteriota</td><td>Actinomycetia</td><td>Mycobacteriales </td><td>Mycobacteriaceae </td><td>Corynebacterium</td><td>Corynebacterium diphtheriae</td><td>n9k_test</td></tr>\n",
       "</tbody>\n",
       "</table>\n"
      ],
      "text/latex": [
       "A tidytable: 9000 × 24\n",
       "\\begin{tabular}{lllllllllllllllllllll}\n",
       " accession & checkm\\_completeness & checkm\\_contamination & mimag\\_high\\_quality & mimag\\_medium\\_quality & mimag\\_low\\_quality & ncbi\\_assembly\\_level & ncbi\\_genome\\_category & ncbi\\_genbank\\_assembly\\_accession & mean\\_contig\\_length & ⋯ & n50\\_contigs & ssu\\_count & Domain & Phylum & Class & Order & Family & Genus & Species & dataset\\\\\n",
       " <chr> & <dbl> & <dbl> & <chr> & <chr> & <chr> & <chr> & <chr> & <chr> & <int> & ⋯ & <int> & <int> & <chr> & <chr> & <chr> & <chr> & <chr> & <chr> & <chr> & <chr>\\\\\n",
       "\\hline\n",
       "\t RS\\_GCF\\_003351865.1 & 99.52 & 0 & t & f & f & Complete Genome & none & GCA\\_003351865.1 & 1504113 & ⋯ & 1504113 & 2 & Archaea & Methanobacteriota & Methanococci    & Methanococcales   & Methanococcaceae   & Methanofervidicoccus & Methanofervidicoccus sp003351865 & n9k\\_test\\\\\n",
       "\t RS\\_GCF\\_003722155.1 & 99.51 & 0 & t & f & f & Contig          & none & GCA\\_003722155.1 &   89073 & ⋯ &  171522 & 1 & Archaea & Halobacteriota    & Methanosarcinia & Methanosarcinales & Methanosarcinaceae & Methanohalophilus    & Methanohalophilus euhalobius     & n9k\\_test\\\\\n",
       "\t ⋮ & ⋮ & ⋮ & ⋮ & ⋮ & ⋮ & ⋮ & ⋮ & ⋮ & ⋮ & ⋱ & ⋮ & ⋮ & ⋮ & ⋮ & ⋮ & ⋮ & ⋮ & ⋮ & ⋮ & ⋮\\\\\n",
       "\t RS\\_GCF\\_903969895.1 & 99.62 & 0.6 & t & f & f & Contig & none & GCA\\_903969895.1 & 22658 & ⋯ &  90484 & 1 & Bacteria & Firmicutes       & Bacilli       & Staphylococcales & Staphylococcaceae & Staphylococcus  & Staphylococcus haemolyticus & n9k\\_test\\\\\n",
       "\t RS\\_GCF\\_903986115.1 & 99.45 & 0.0 & t & f & f & Contig & none & GCA\\_903986115.1 & 52224 & ⋯ & 142020 & 1 & Bacteria & Actinobacteriota & Actinomycetia & Mycobacteriales  & Mycobacteriaceae  & Corynebacterium & Corynebacterium diphtheriae & n9k\\_test\\\\\n",
       "\\end{tabular}\n"
      ],
      "text/markdown": [
       "\n",
       "A tidytable: 9000 × 24\n",
       "\n",
       "| accession &lt;chr&gt; | checkm_completeness &lt;dbl&gt; | checkm_contamination &lt;dbl&gt; | mimag_high_quality &lt;chr&gt; | mimag_medium_quality &lt;chr&gt; | mimag_low_quality &lt;chr&gt; | ncbi_assembly_level &lt;chr&gt; | ncbi_genome_category &lt;chr&gt; | ncbi_genbank_assembly_accession &lt;chr&gt; | mean_contig_length &lt;int&gt; | ⋯ ⋯ | n50_contigs &lt;int&gt; | ssu_count &lt;int&gt; | Domain &lt;chr&gt; | Phylum &lt;chr&gt; | Class &lt;chr&gt; | Order &lt;chr&gt; | Family &lt;chr&gt; | Genus &lt;chr&gt; | Species &lt;chr&gt; | dataset &lt;chr&gt; |\n",
       "|---|---|---|---|---|---|---|---|---|---|---|---|---|---|---|---|---|---|---|---|---|\n",
       "| RS_GCF_003351865.1 | 99.52 | 0 | t | f | f | Complete Genome | none | GCA_003351865.1 | 1504113 | ⋯ | 1504113 | 2 | Archaea | Methanobacteriota | Methanococci    | Methanococcales   | Methanococcaceae   | Methanofervidicoccus | Methanofervidicoccus sp003351865 | n9k_test |\n",
       "| RS_GCF_003722155.1 | 99.51 | 0 | t | f | f | Contig          | none | GCA_003722155.1 |   89073 | ⋯ |  171522 | 1 | Archaea | Halobacteriota    | Methanosarcinia | Methanosarcinales | Methanosarcinaceae | Methanohalophilus    | Methanohalophilus euhalobius     | n9k_test |\n",
       "| ⋮ | ⋮ | ⋮ | ⋮ | ⋮ | ⋮ | ⋮ | ⋮ | ⋮ | ⋮ | ⋱ | ⋮ | ⋮ | ⋮ | ⋮ | ⋮ | ⋮ | ⋮ | ⋮ | ⋮ | ⋮ |\n",
       "| RS_GCF_903969895.1 | 99.62 | 0.6 | t | f | f | Contig | none | GCA_903969895.1 | 22658 | ⋯ |  90484 | 1 | Bacteria | Firmicutes       | Bacilli       | Staphylococcales | Staphylococcaceae | Staphylococcus  | Staphylococcus haemolyticus | n9k_test |\n",
       "| RS_GCF_903986115.1 | 99.45 | 0.0 | t | f | f | Contig | none | GCA_903986115.1 | 52224 | ⋯ | 142020 | 1 | Bacteria | Actinobacteriota | Actinomycetia | Mycobacteriales  | Mycobacteriaceae  | Corynebacterium | Corynebacterium diphtheriae | n9k_test |\n",
       "\n"
      ],
      "text/plain": [
       "     accession          checkm_completeness checkm_contamination\n",
       "1    RS_GCF_003351865.1 99.52               0                   \n",
       "2    RS_GCF_003722155.1 99.51               0                   \n",
       "⋮    ⋮                  ⋮                   ⋮                   \n",
       "8999 RS_GCF_903969895.1 99.62               0.6                 \n",
       "9000 RS_GCF_903986115.1 99.45               0.0                 \n",
       "     mimag_high_quality mimag_medium_quality mimag_low_quality\n",
       "1    t                  f                    f                \n",
       "2    t                  f                    f                \n",
       "⋮    ⋮                  ⋮                    ⋮                \n",
       "8999 t                  f                    f                \n",
       "9000 t                  f                    f                \n",
       "     ncbi_assembly_level ncbi_genome_category ncbi_genbank_assembly_accession\n",
       "1    Complete Genome     none                 GCA_003351865.1                \n",
       "2    Contig              none                 GCA_003722155.1                \n",
       "⋮    ⋮                   ⋮                    ⋮                              \n",
       "8999 Contig              none                 GCA_903969895.1                \n",
       "9000 Contig              none                 GCA_903986115.1                \n",
       "     mean_contig_length ⋯ n50_contigs ssu_count Domain   Phylum           \n",
       "1    1504113            ⋯ 1504113     2         Archaea  Methanobacteriota\n",
       "2      89073            ⋯  171522     1         Archaea  Halobacteriota   \n",
       "⋮    ⋮                  ⋱ ⋮           ⋮         ⋮        ⋮                \n",
       "8999 22658              ⋯  90484      1         Bacteria Firmicutes       \n",
       "9000 52224              ⋯ 142020      1         Bacteria Actinobacteriota \n",
       "     Class           Order             Family             Genus               \n",
       "1    Methanococci    Methanococcales   Methanococcaceae   Methanofervidicoccus\n",
       "2    Methanosarcinia Methanosarcinales Methanosarcinaceae Methanohalophilus   \n",
       "⋮    ⋮               ⋮                 ⋮                  ⋮                   \n",
       "8999 Bacilli         Staphylococcales  Staphylococcaceae  Staphylococcus      \n",
       "9000 Actinomycetia   Mycobacteriales   Mycobacteriaceae   Corynebacterium     \n",
       "     Species                          dataset \n",
       "1    Methanofervidicoccus sp003351865 n9k_test\n",
       "2    Methanohalophilus euhalobius     n9k_test\n",
       "⋮    ⋮                                ⋮       \n",
       "8999 Staphylococcus haemolyticus      n9k_test\n",
       "9000 Corynebacterium diphtheriae      n9k_test"
      ]
     },
     "metadata": {},
     "output_type": "display_data"
    }
   ],
   "source": [
    "# train\n",
    "meta_ff_test = meta_ff_tt %>%\n",
    "    filter.(X > n_genomes / 2) %>%\n",
    "    select.(-X) %>%\n",
    "    mutate.(dataset = 'n9k_test')\n",
    "meta_ff_test"
   ]
  },
  {
   "cell_type": "code",
   "execution_count": 32,
   "id": "04267891",
   "metadata": {
    "ExecuteTime": {
     "end_time": "2021-08-13T12:51:24.394311Z",
     "start_time": "2021-08-13T12:51:05.967Z"
    }
   },
   "outputs": [
    {
     "name": "stdout",
     "output_type": "stream",
     "text": [
      "intersect(x,y): 0 \n",
      "setdiff(x,y): 9000 \n",
      "setdiff(y,x): 9000 \n",
      "union(x,y): 18000 \n"
     ]
    }
   ],
   "source": [
    "# checking for accidental overlap\n",
    "overlap(meta_ff_train$accession, meta_ff_test$accession)"
   ]
  },
  {
   "cell_type": "markdown",
   "id": "2bab37c1",
   "metadata": {},
   "source": [
    "### Summary"
   ]
  },
  {
   "cell_type": "code",
   "execution_count": 33,
   "id": "a14cd59f",
   "metadata": {
    "ExecuteTime": {
     "end_time": "2021-08-13T12:51:24.443209Z",
     "start_time": "2021-08-13T12:51:05.971Z"
    }
   },
   "outputs": [
    {
     "data": {
      "text/html": [
       "<table class=\"dataframe\">\n",
       "<caption>A data.table: 18000 × 24</caption>\n",
       "<thead>\n",
       "\t<tr><th scope=col>accession</th><th scope=col>checkm_completeness</th><th scope=col>checkm_contamination</th><th scope=col>mimag_high_quality</th><th scope=col>mimag_medium_quality</th><th scope=col>mimag_low_quality</th><th scope=col>ncbi_assembly_level</th><th scope=col>ncbi_genome_category</th><th scope=col>ncbi_genbank_assembly_accession</th><th scope=col>mean_contig_length</th><th scope=col>⋯</th><th scope=col>n50_contigs</th><th scope=col>ssu_count</th><th scope=col>Domain</th><th scope=col>Phylum</th><th scope=col>Class</th><th scope=col>Order</th><th scope=col>Family</th><th scope=col>Genus</th><th scope=col>Species</th><th scope=col>dataset</th></tr>\n",
       "\t<tr><th scope=col>&lt;chr&gt;</th><th scope=col>&lt;dbl&gt;</th><th scope=col>&lt;dbl&gt;</th><th scope=col>&lt;chr&gt;</th><th scope=col>&lt;chr&gt;</th><th scope=col>&lt;chr&gt;</th><th scope=col>&lt;chr&gt;</th><th scope=col>&lt;chr&gt;</th><th scope=col>&lt;chr&gt;</th><th scope=col>&lt;int&gt;</th><th scope=col>⋯</th><th scope=col>&lt;int&gt;</th><th scope=col>&lt;int&gt;</th><th scope=col>&lt;chr&gt;</th><th scope=col>&lt;chr&gt;</th><th scope=col>&lt;chr&gt;</th><th scope=col>&lt;chr&gt;</th><th scope=col>&lt;chr&gt;</th><th scope=col>&lt;chr&gt;</th><th scope=col>&lt;chr&gt;</th><th scope=col>&lt;chr&gt;</th></tr>\n",
       "</thead>\n",
       "<tbody>\n",
       "\t<tr><td>GB_GCA_000306725.1</td><td>99.84</td><td>0</td><td>t</td><td>f</td><td>f</td><td>Complete Genome</td><td>none</td><td>GCA_000306725.1</td><td>3072769</td><td>⋯</td><td>3072769</td><td>3</td><td>Archaea</td><td>Halobacteriota   </td><td>Methanosarcinia</td><td>Methanosarcinales</td><td>Methanosarcinaceae</td><td>Methanolobus  </td><td>Methanolobus psychrophilus</td><td>Train</td></tr>\n",
       "\t<tr><td>RS_GCF_000022545.1</td><td>98.51</td><td>0</td><td>t</td><td>f</td><td>f</td><td>Complete Genome</td><td>none</td><td>GCA_000022545.1</td><td>1845800</td><td>⋯</td><td>1845800</td><td>1</td><td>Archaea</td><td>Methanobacteriota</td><td>Thermococci    </td><td>Thermococcales   </td><td>Thermococcaceae   </td><td>Thermococcus_A</td><td>Thermococcus_A sibiricus  </td><td>Train</td></tr>\n",
       "\t<tr><td>⋮</td><td>⋮</td><td>⋮</td><td>⋮</td><td>⋮</td><td>⋮</td><td>⋮</td><td>⋮</td><td>⋮</td><td>⋮</td><td>⋱</td><td>⋮</td><td>⋮</td><td>⋮</td><td>⋮</td><td>⋮</td><td>⋮</td><td>⋮</td><td>⋮</td><td>⋮</td><td>⋮</td></tr>\n",
       "\t<tr><td>RS_GCF_903969895.1</td><td>99.62</td><td>0.6</td><td>t</td><td>f</td><td>f</td><td>Contig</td><td>none</td><td>GCA_903969895.1</td><td>22658</td><td>⋯</td><td> 90484</td><td>1</td><td>Bacteria</td><td>Firmicutes      </td><td>Bacilli      </td><td>Staphylococcales</td><td>Staphylococcaceae</td><td>Staphylococcus </td><td>Staphylococcus haemolyticus</td><td>Test</td></tr>\n",
       "\t<tr><td>RS_GCF_903986115.1</td><td>99.45</td><td>0.0</td><td>t</td><td>f</td><td>f</td><td>Contig</td><td>none</td><td>GCA_903986115.1</td><td>52224</td><td>⋯</td><td>142020</td><td>1</td><td>Bacteria</td><td>Actinobacteriota</td><td>Actinomycetia</td><td>Mycobacteriales </td><td>Mycobacteriaceae </td><td>Corynebacterium</td><td>Corynebacterium diphtheriae</td><td>Test</td></tr>\n",
       "</tbody>\n",
       "</table>\n"
      ],
      "text/latex": [
       "A data.table: 18000 × 24\n",
       "\\begin{tabular}{lllllllllllllllllllll}\n",
       " accession & checkm\\_completeness & checkm\\_contamination & mimag\\_high\\_quality & mimag\\_medium\\_quality & mimag\\_low\\_quality & ncbi\\_assembly\\_level & ncbi\\_genome\\_category & ncbi\\_genbank\\_assembly\\_accession & mean\\_contig\\_length & ⋯ & n50\\_contigs & ssu\\_count & Domain & Phylum & Class & Order & Family & Genus & Species & dataset\\\\\n",
       " <chr> & <dbl> & <dbl> & <chr> & <chr> & <chr> & <chr> & <chr> & <chr> & <int> & ⋯ & <int> & <int> & <chr> & <chr> & <chr> & <chr> & <chr> & <chr> & <chr> & <chr>\\\\\n",
       "\\hline\n",
       "\t GB\\_GCA\\_000306725.1 & 99.84 & 0 & t & f & f & Complete Genome & none & GCA\\_000306725.1 & 3072769 & ⋯ & 3072769 & 3 & Archaea & Halobacteriota    & Methanosarcinia & Methanosarcinales & Methanosarcinaceae & Methanolobus   & Methanolobus psychrophilus & Train\\\\\n",
       "\t RS\\_GCF\\_000022545.1 & 98.51 & 0 & t & f & f & Complete Genome & none & GCA\\_000022545.1 & 1845800 & ⋯ & 1845800 & 1 & Archaea & Methanobacteriota & Thermococci     & Thermococcales    & Thermococcaceae    & Thermococcus\\_A & Thermococcus\\_A sibiricus   & Train\\\\\n",
       "\t ⋮ & ⋮ & ⋮ & ⋮ & ⋮ & ⋮ & ⋮ & ⋮ & ⋮ & ⋮ & ⋱ & ⋮ & ⋮ & ⋮ & ⋮ & ⋮ & ⋮ & ⋮ & ⋮ & ⋮ & ⋮\\\\\n",
       "\t RS\\_GCF\\_903969895.1 & 99.62 & 0.6 & t & f & f & Contig & none & GCA\\_903969895.1 & 22658 & ⋯ &  90484 & 1 & Bacteria & Firmicutes       & Bacilli       & Staphylococcales & Staphylococcaceae & Staphylococcus  & Staphylococcus haemolyticus & Test\\\\\n",
       "\t RS\\_GCF\\_903986115.1 & 99.45 & 0.0 & t & f & f & Contig & none & GCA\\_903986115.1 & 52224 & ⋯ & 142020 & 1 & Bacteria & Actinobacteriota & Actinomycetia & Mycobacteriales  & Mycobacteriaceae  & Corynebacterium & Corynebacterium diphtheriae & Test\\\\\n",
       "\\end{tabular}\n"
      ],
      "text/markdown": [
       "\n",
       "A data.table: 18000 × 24\n",
       "\n",
       "| accession &lt;chr&gt; | checkm_completeness &lt;dbl&gt; | checkm_contamination &lt;dbl&gt; | mimag_high_quality &lt;chr&gt; | mimag_medium_quality &lt;chr&gt; | mimag_low_quality &lt;chr&gt; | ncbi_assembly_level &lt;chr&gt; | ncbi_genome_category &lt;chr&gt; | ncbi_genbank_assembly_accession &lt;chr&gt; | mean_contig_length &lt;int&gt; | ⋯ ⋯ | n50_contigs &lt;int&gt; | ssu_count &lt;int&gt; | Domain &lt;chr&gt; | Phylum &lt;chr&gt; | Class &lt;chr&gt; | Order &lt;chr&gt; | Family &lt;chr&gt; | Genus &lt;chr&gt; | Species &lt;chr&gt; | dataset &lt;chr&gt; |\n",
       "|---|---|---|---|---|---|---|---|---|---|---|---|---|---|---|---|---|---|---|---|---|\n",
       "| GB_GCA_000306725.1 | 99.84 | 0 | t | f | f | Complete Genome | none | GCA_000306725.1 | 3072769 | ⋯ | 3072769 | 3 | Archaea | Halobacteriota    | Methanosarcinia | Methanosarcinales | Methanosarcinaceae | Methanolobus   | Methanolobus psychrophilus | Train |\n",
       "| RS_GCF_000022545.1 | 98.51 | 0 | t | f | f | Complete Genome | none | GCA_000022545.1 | 1845800 | ⋯ | 1845800 | 1 | Archaea | Methanobacteriota | Thermococci     | Thermococcales    | Thermococcaceae    | Thermococcus_A | Thermococcus_A sibiricus   | Train |\n",
       "| ⋮ | ⋮ | ⋮ | ⋮ | ⋮ | ⋮ | ⋮ | ⋮ | ⋮ | ⋮ | ⋱ | ⋮ | ⋮ | ⋮ | ⋮ | ⋮ | ⋮ | ⋮ | ⋮ | ⋮ | ⋮ |\n",
       "| RS_GCF_903969895.1 | 99.62 | 0.6 | t | f | f | Contig | none | GCA_903969895.1 | 22658 | ⋯ |  90484 | 1 | Bacteria | Firmicutes       | Bacilli       | Staphylococcales | Staphylococcaceae | Staphylococcus  | Staphylococcus haemolyticus | Test |\n",
       "| RS_GCF_903986115.1 | 99.45 | 0.0 | t | f | f | Contig | none | GCA_903986115.1 | 52224 | ⋯ | 142020 | 1 | Bacteria | Actinobacteriota | Actinomycetia | Mycobacteriales  | Mycobacteriaceae  | Corynebacterium | Corynebacterium diphtheriae | Test |\n",
       "\n"
      ],
      "text/plain": [
       "      accession          checkm_completeness checkm_contamination\n",
       "1     GB_GCA_000306725.1 99.84               0                   \n",
       "2     RS_GCF_000022545.1 98.51               0                   \n",
       "⋮     ⋮                  ⋮                   ⋮                   \n",
       "17999 RS_GCF_903969895.1 99.62               0.6                 \n",
       "18000 RS_GCF_903986115.1 99.45               0.0                 \n",
       "      mimag_high_quality mimag_medium_quality mimag_low_quality\n",
       "1     t                  f                    f                \n",
       "2     t                  f                    f                \n",
       "⋮     ⋮                  ⋮                    ⋮                \n",
       "17999 t                  f                    f                \n",
       "18000 t                  f                    f                \n",
       "      ncbi_assembly_level ncbi_genome_category ncbi_genbank_assembly_accession\n",
       "1     Complete Genome     none                 GCA_000306725.1                \n",
       "2     Complete Genome     none                 GCA_000022545.1                \n",
       "⋮     ⋮                   ⋮                    ⋮                              \n",
       "17999 Contig              none                 GCA_903969895.1                \n",
       "18000 Contig              none                 GCA_903986115.1                \n",
       "      mean_contig_length ⋯ n50_contigs ssu_count Domain   Phylum           \n",
       "1     3072769            ⋯ 3072769     3         Archaea  Halobacteriota   \n",
       "2     1845800            ⋯ 1845800     1         Archaea  Methanobacteriota\n",
       "⋮     ⋮                  ⋱ ⋮           ⋮         ⋮        ⋮                \n",
       "17999 22658              ⋯  90484      1         Bacteria Firmicutes       \n",
       "18000 52224              ⋯ 142020      1         Bacteria Actinobacteriota \n",
       "      Class           Order             Family             Genus          \n",
       "1     Methanosarcinia Methanosarcinales Methanosarcinaceae Methanolobus   \n",
       "2     Thermococci     Thermococcales    Thermococcaceae    Thermococcus_A \n",
       "⋮     ⋮               ⋮                 ⋮                  ⋮              \n",
       "17999 Bacilli         Staphylococcales  Staphylococcaceae  Staphylococcus \n",
       "18000 Actinomycetia   Mycobacteriales   Mycobacteriaceae   Corynebacterium\n",
       "      Species                     dataset\n",
       "1     Methanolobus psychrophilus  Train  \n",
       "2     Thermococcus_A sibiricus    Train  \n",
       "⋮     ⋮                           ⋮      \n",
       "17999 Staphylococcus haemolyticus Test   \n",
       "18000 Corynebacterium diphtheriae Test   "
      ]
     },
     "metadata": {},
     "output_type": "display_data"
    }
   ],
   "source": [
    "meta_j = rbindlist(list(\n",
    "    meta_ff_train %>% mutate.(dataset = 'Train'),\n",
    "    meta_ff_test %>% mutate.(dataset = 'Test')\n",
    "), use.names=TRUE)\n",
    "meta_j"
   ]
  },
  {
   "cell_type": "code",
   "execution_count": 34,
   "id": "c18b5322",
   "metadata": {
    "ExecuteTime": {
     "end_time": "2021-08-13T12:51:25.919620Z",
     "start_time": "2021-08-13T12:51:05.974Z"
    }
   },
   "outputs": [
    {
     "data": {
      "image/png": "[encoded data removed]",
      "text/plain": [
       "plot without title"
      ]
     },
     "metadata": {
      "image/png": {
       "height": 500,
       "width": 600
      }
     },
     "output_type": "display_data"
    }
   ],
   "source": [
    "# plotting\n",
    "p = meta_j %>%\n",
    "    mutate.(dataset = factor(dataset, levels=c('Train', 'Test'))) %>%\n",
    "    select.(accession, dataset, \n",
    "            checkm_completeness, checkm_contamination,\n",
    "            contig_count, gc_percentage, genome_size, n50_contigs,\n",
    "            ssu_count) %>%\n",
    "    pivot_longer.(cols=c(-accession, -dataset)) %>%\n",
    "    ggplot(aes(dataset, value)) +\n",
    "    geom_boxplot() +\n",
    "    facet_wrap(~ name, scales='free_y') +\n",
    "    theme_bw()\n",
    "p.dims(6,5)\n",
    "plot(p)"
   ]
  },
  {
   "cell_type": "markdown",
   "id": "2f2e2e68",
   "metadata": {},
   "source": [
    "#### Writing tables"
   ]
  },
  {
   "cell_type": "code",
   "execution_count": 35,
   "id": "2fcdf85f",
   "metadata": {
    "ExecuteTime": {
     "end_time": "2021-08-13T12:51:25.956760Z",
     "start_time": "2021-08-13T12:51:05.977Z"
    }
   },
   "outputs": [
    {
     "name": "stdout",
     "output_type": "stream",
     "text": [
      "File written: /ebio/abt3_projects/databases_no-backup/DeepMAsED/version2/ref_genomes/GTDBr202//n9k-train_metadata.tsv \n"
     ]
    }
   ],
   "source": [
    "F = file.path(work_dir, 'n9k-train_metadata.tsv')\n",
    "write_table(meta_ff_train, F)"
   ]
  },
  {
   "cell_type": "code",
   "execution_count": 36,
   "id": "9c735d10",
   "metadata": {
    "ExecuteTime": {
     "end_time": "2021-08-13T12:51:25.993339Z",
     "start_time": "2021-08-13T12:51:05.979Z"
    }
   },
   "outputs": [
    {
     "name": "stdout",
     "output_type": "stream",
     "text": [
      "File written: /ebio/abt3_projects/databases_no-backup/DeepMAsED/version2/ref_genomes/GTDBr202//n9k-test_metadata.tsv \n"
     ]
    }
   ],
   "source": [
    "F = file.path(work_dir, 'n9k-test_metadata.tsv')\n",
    "write_table(meta_ff_test, F)"
   ]
  },
  {
   "cell_type": "markdown",
   "id": "a34975fb",
   "metadata": {},
   "source": [
    "## Taxonomy-unique validation\n",
    "\n",
    "* validate at family-level different"
   ]
  },
  {
   "cell_type": "markdown",
   "id": "5954e971",
   "metadata": {},
   "source": [
    "### Genus"
   ]
  },
  {
   "cell_type": "code",
   "execution_count": 37,
   "id": "6edcf36a",
   "metadata": {
    "ExecuteTime": {
     "end_time": "2021-08-13T12:51:27.332326Z",
     "start_time": "2021-08-13T12:51:05.984Z"
    }
   },
   "outputs": [
    {
     "data": {
      "text/html": [
       "<table class=\"dataframe\">\n",
       "<caption>A tidytable: 6721 × 24</caption>\n",
       "<thead>\n",
       "\t<tr><th scope=col>accession</th><th scope=col>checkm_completeness</th><th scope=col>checkm_contamination</th><th scope=col>mimag_high_quality</th><th scope=col>mimag_medium_quality</th><th scope=col>mimag_low_quality</th><th scope=col>ncbi_assembly_level</th><th scope=col>ncbi_genome_category</th><th scope=col>ncbi_genbank_assembly_accession</th><th scope=col>mean_contig_length</th><th scope=col>⋯</th><th scope=col>n50_contigs</th><th scope=col>ssu_count</th><th scope=col>Domain</th><th scope=col>Phylum</th><th scope=col>Class</th><th scope=col>Order</th><th scope=col>Family</th><th scope=col>Genus</th><th scope=col>Species</th><th scope=col>dataset</th></tr>\n",
       "\t<tr><th scope=col>&lt;chr&gt;</th><th scope=col>&lt;dbl&gt;</th><th scope=col>&lt;dbl&gt;</th><th scope=col>&lt;chr&gt;</th><th scope=col>&lt;chr&gt;</th><th scope=col>&lt;chr&gt;</th><th scope=col>&lt;chr&gt;</th><th scope=col>&lt;chr&gt;</th><th scope=col>&lt;chr&gt;</th><th scope=col>&lt;int&gt;</th><th scope=col>⋯</th><th scope=col>&lt;int&gt;</th><th scope=col>&lt;int&gt;</th><th scope=col>&lt;chr&gt;</th><th scope=col>&lt;chr&gt;</th><th scope=col>&lt;chr&gt;</th><th scope=col>&lt;chr&gt;</th><th scope=col>&lt;chr&gt;</th><th scope=col>&lt;chr&gt;</th><th scope=col>&lt;chr&gt;</th><th scope=col>&lt;chr&gt;</th></tr>\n",
       "</thead>\n",
       "<tbody>\n",
       "\t<tr><td>GB_GCA_000200715.1</td><td> 99.03</td><td>0.00</td><td>t</td><td>f</td><td>f</td><td>Chromosome     </td><td>derived from environmental sample</td><td>GCA_000200715.1</td><td> 340809</td><td>⋯</td><td>1281157</td><td>1</td><td>Archaea</td><td>Thermoproteota</td><td>Nitrososphaeria</td><td>Nitrososphaerales</td><td>Nitrosopumilaceae</td><td>Cenarchaeum </td><td>Cenarchaeum symbiosum  </td><td>novel-genus</td></tr>\n",
       "\t<tr><td>RS_GCF_000011005.1</td><td>100.00</td><td>0.65</td><td>t</td><td>f</td><td>f</td><td>Complete Genome</td><td>none                             </td><td>GCA_000011005.1</td><td>2957635</td><td>⋯</td><td>2957635</td><td>2</td><td>Archaea</td><td>Halobacteriota</td><td>Methanocellia  </td><td>Methanocellales  </td><td>Methanocellaceae </td><td>Methanocella</td><td>Methanocella paludicola</td><td>novel-genus</td></tr>\n",
       "\t<tr><td>⋮</td><td>⋮</td><td>⋮</td><td>⋮</td><td>⋮</td><td>⋮</td><td>⋮</td><td>⋮</td><td>⋮</td><td>⋮</td><td>⋱</td><td>⋮</td><td>⋮</td><td>⋮</td><td>⋮</td><td>⋮</td><td>⋮</td><td>⋮</td><td>⋮</td><td>⋮</td><td>⋮</td></tr>\n",
       "\t<tr><td>RS_GCF_902809865.1</td><td>99.33</td><td>0.33</td><td>t</td><td>f</td><td>f</td><td>Contig</td><td>none</td><td>GCA_902809865.1</td><td>1327253</td><td>⋯</td><td>3897651</td><td>7</td><td>Bacteria</td><td>Firmicutes     </td><td>Bacilli       </td><td>Bacillales_D    </td><td>Halobacillaceae  </td><td>Halobacillus_A</td><td>Halobacillus_A sp902809865</td><td>novel-genus</td></tr>\n",
       "\t<tr><td>RS_GCF_902812405.1</td><td>96.30</td><td>0.00</td><td>t</td><td>f</td><td>f</td><td>Contig</td><td>none</td><td>GCA_902812405.1</td><td>  21092</td><td>⋯</td><td>  40922</td><td>1</td><td>Bacteria</td><td>Eremiobacterota</td><td>Eremiobacteria</td><td>Eremiobacterales</td><td>Eremiobacteraceae</td><td>CADDZI01      </td><td>CADDZI01 sp902812405      </td><td>novel-genus</td></tr>\n",
       "</tbody>\n",
       "</table>\n"
      ],
      "text/latex": [
       "A tidytable: 6721 × 24\n",
       "\\begin{tabular}{lllllllllllllllllllll}\n",
       " accession & checkm\\_completeness & checkm\\_contamination & mimag\\_high\\_quality & mimag\\_medium\\_quality & mimag\\_low\\_quality & ncbi\\_assembly\\_level & ncbi\\_genome\\_category & ncbi\\_genbank\\_assembly\\_accession & mean\\_contig\\_length & ⋯ & n50\\_contigs & ssu\\_count & Domain & Phylum & Class & Order & Family & Genus & Species & dataset\\\\\n",
       " <chr> & <dbl> & <dbl> & <chr> & <chr> & <chr> & <chr> & <chr> & <chr> & <int> & ⋯ & <int> & <int> & <chr> & <chr> & <chr> & <chr> & <chr> & <chr> & <chr> & <chr>\\\\\n",
       "\\hline\n",
       "\t GB\\_GCA\\_000200715.1 &  99.03 & 0.00 & t & f & f & Chromosome      & derived from environmental sample & GCA\\_000200715.1 &  340809 & ⋯ & 1281157 & 1 & Archaea & Thermoproteota & Nitrososphaeria & Nitrososphaerales & Nitrosopumilaceae & Cenarchaeum  & Cenarchaeum symbiosum   & novel-genus\\\\\n",
       "\t RS\\_GCF\\_000011005.1 & 100.00 & 0.65 & t & f & f & Complete Genome & none                              & GCA\\_000011005.1 & 2957635 & ⋯ & 2957635 & 2 & Archaea & Halobacteriota & Methanocellia   & Methanocellales   & Methanocellaceae  & Methanocella & Methanocella paludicola & novel-genus\\\\\n",
       "\t ⋮ & ⋮ & ⋮ & ⋮ & ⋮ & ⋮ & ⋮ & ⋮ & ⋮ & ⋮ & ⋱ & ⋮ & ⋮ & ⋮ & ⋮ & ⋮ & ⋮ & ⋮ & ⋮ & ⋮ & ⋮\\\\\n",
       "\t RS\\_GCF\\_902809865.1 & 99.33 & 0.33 & t & f & f & Contig & none & GCA\\_902809865.1 & 1327253 & ⋯ & 3897651 & 7 & Bacteria & Firmicutes      & Bacilli        & Bacillales\\_D     & Halobacillaceae   & Halobacillus\\_A & Halobacillus\\_A sp902809865 & novel-genus\\\\\n",
       "\t RS\\_GCF\\_902812405.1 & 96.30 & 0.00 & t & f & f & Contig & none & GCA\\_902812405.1 &   21092 & ⋯ &   40922 & 1 & Bacteria & Eremiobacterota & Eremiobacteria & Eremiobacterales & Eremiobacteraceae & CADDZI01       & CADDZI01 sp902812405       & novel-genus\\\\\n",
       "\\end{tabular}\n"
      ],
      "text/markdown": [
       "\n",
       "A tidytable: 6721 × 24\n",
       "\n",
       "| accession &lt;chr&gt; | checkm_completeness &lt;dbl&gt; | checkm_contamination &lt;dbl&gt; | mimag_high_quality &lt;chr&gt; | mimag_medium_quality &lt;chr&gt; | mimag_low_quality &lt;chr&gt; | ncbi_assembly_level &lt;chr&gt; | ncbi_genome_category &lt;chr&gt; | ncbi_genbank_assembly_accession &lt;chr&gt; | mean_contig_length &lt;int&gt; | ⋯ ⋯ | n50_contigs &lt;int&gt; | ssu_count &lt;int&gt; | Domain &lt;chr&gt; | Phylum &lt;chr&gt; | Class &lt;chr&gt; | Order &lt;chr&gt; | Family &lt;chr&gt; | Genus &lt;chr&gt; | Species &lt;chr&gt; | dataset &lt;chr&gt; |\n",
       "|---|---|---|---|---|---|---|---|---|---|---|---|---|---|---|---|---|---|---|---|---|\n",
       "| GB_GCA_000200715.1 |  99.03 | 0.00 | t | f | f | Chromosome      | derived from environmental sample | GCA_000200715.1 |  340809 | ⋯ | 1281157 | 1 | Archaea | Thermoproteota | Nitrososphaeria | Nitrososphaerales | Nitrosopumilaceae | Cenarchaeum  | Cenarchaeum symbiosum   | novel-genus |\n",
       "| RS_GCF_000011005.1 | 100.00 | 0.65 | t | f | f | Complete Genome | none                              | GCA_000011005.1 | 2957635 | ⋯ | 2957635 | 2 | Archaea | Halobacteriota | Methanocellia   | Methanocellales   | Methanocellaceae  | Methanocella | Methanocella paludicola | novel-genus |\n",
       "| ⋮ | ⋮ | ⋮ | ⋮ | ⋮ | ⋮ | ⋮ | ⋮ | ⋮ | ⋮ | ⋱ | ⋮ | ⋮ | ⋮ | ⋮ | ⋮ | ⋮ | ⋮ | ⋮ | ⋮ | ⋮ |\n",
       "| RS_GCF_902809865.1 | 99.33 | 0.33 | t | f | f | Contig | none | GCA_902809865.1 | 1327253 | ⋯ | 3897651 | 7 | Bacteria | Firmicutes      | Bacilli        | Bacillales_D     | Halobacillaceae   | Halobacillus_A | Halobacillus_A sp902809865 | novel-genus |\n",
       "| RS_GCF_902812405.1 | 96.30 | 0.00 | t | f | f | Contig | none | GCA_902812405.1 |   21092 | ⋯ |   40922 | 1 | Bacteria | Eremiobacterota | Eremiobacteria | Eremiobacterales | Eremiobacteraceae | CADDZI01       | CADDZI01 sp902812405       | novel-genus |\n",
       "\n"
      ],
      "text/plain": [
       "     accession          checkm_completeness checkm_contamination\n",
       "1    GB_GCA_000200715.1  99.03              0.00                \n",
       "2    RS_GCF_000011005.1 100.00              0.65                \n",
       "⋮    ⋮                  ⋮                   ⋮                   \n",
       "6720 RS_GCF_902809865.1 99.33               0.33                \n",
       "6721 RS_GCF_902812405.1 96.30               0.00                \n",
       "     mimag_high_quality mimag_medium_quality mimag_low_quality\n",
       "1    t                  f                    f                \n",
       "2    t                  f                    f                \n",
       "⋮    ⋮                  ⋮                    ⋮                \n",
       "6720 t                  f                    f                \n",
       "6721 t                  f                    f                \n",
       "     ncbi_assembly_level ncbi_genome_category             \n",
       "1    Chromosome          derived from environmental sample\n",
       "2    Complete Genome     none                             \n",
       "⋮    ⋮                   ⋮                                \n",
       "6720 Contig              none                             \n",
       "6721 Contig              none                             \n",
       "     ncbi_genbank_assembly_accession mean_contig_length ⋯ n50_contigs ssu_count\n",
       "1    GCA_000200715.1                  340809            ⋯ 1281157     1        \n",
       "2    GCA_000011005.1                 2957635            ⋯ 2957635     2        \n",
       "⋮    ⋮                               ⋮                  ⋱ ⋮           ⋮        \n",
       "6720 GCA_902809865.1                 1327253            ⋯ 3897651     7        \n",
       "6721 GCA_902812405.1                   21092            ⋯   40922     1        \n",
       "     Domain   Phylum          Class           Order            \n",
       "1    Archaea  Thermoproteota  Nitrososphaeria Nitrososphaerales\n",
       "2    Archaea  Halobacteriota  Methanocellia   Methanocellales  \n",
       "⋮    ⋮        ⋮               ⋮               ⋮                \n",
       "6720 Bacteria Firmicutes      Bacilli         Bacillales_D     \n",
       "6721 Bacteria Eremiobacterota Eremiobacteria  Eremiobacterales \n",
       "     Family            Genus          Species                    dataset    \n",
       "1    Nitrosopumilaceae Cenarchaeum    Cenarchaeum symbiosum      novel-genus\n",
       "2    Methanocellaceae  Methanocella   Methanocella paludicola    novel-genus\n",
       "⋮    ⋮                 ⋮              ⋮                          ⋮          \n",
       "6720 Halobacillaceae   Halobacillus_A Halobacillus_A sp902809865 novel-genus\n",
       "6721 Eremiobacteraceae CADDZI01       CADDZI01 sp902812405       novel-genus"
      ]
     },
     "metadata": {},
     "output_type": "display_data"
    }
   ],
   "source": [
    "# not in train\n",
    "meta_ff_genus = meta_ff %>%\n",
    "    anti_join.(meta_ff_train, c('Domain', 'Phylum', 'Class', 'Order', 'Family', 'Genus')) %>%\n",
    "    mutate.(dataset = 'novel-genus')\n",
    "meta_ff_genus"
   ]
  },
  {
   "cell_type": "code",
   "execution_count": 38,
   "id": "91471cc5",
   "metadata": {
    "ExecuteTime": {
     "end_time": "2021-08-13T12:51:27.363200Z",
     "start_time": "2021-08-13T12:51:05.989Z"
    }
   },
   "outputs": [
    {
     "name": "stdout",
     "output_type": "stream",
     "text": [
      "intersect(x,y): 0 \n",
      "setdiff(x,y): 6721 \n",
      "setdiff(y,x): 9000 \n",
      "union(x,y): 15721 \n",
      "---\n",
      "intersect(x,y): 530 \n",
      "setdiff(x,y): 6191 \n",
      "setdiff(y,x): 8470 \n",
      "union(x,y): 15191 \n"
     ]
    }
   ],
   "source": [
    "# checking for accidental overlap\n",
    "overlap(meta_ff_genus$accession, meta_ff_train$accession)\n",
    "cat('---\\n')\n",
    "overlap(meta_ff_genus$accession, meta_ff_test$accession)"
   ]
  },
  {
   "cell_type": "code",
   "execution_count": 39,
   "id": "b1399d94",
   "metadata": {
    "ExecuteTime": {
     "end_time": "2021-08-13T12:51:27.381336Z",
     "start_time": "2021-08-13T12:51:05.992Z"
    }
   },
   "outputs": [
    {
     "name": "stdout",
     "output_type": "stream",
     "text": [
      "intersect(x,y): 0 \n",
      "setdiff(x,y): 2635 \n",
      "setdiff(y,x): 1021 \n",
      "union(x,y): 3656 \n"
     ]
    }
   ],
   "source": [
    "# checking for accidental overlap\n",
    "overlap(meta_ff_genus$Genus, meta_ff_train$Genus)"
   ]
  },
  {
   "cell_type": "code",
   "execution_count": 40,
   "id": "a64b5bc9",
   "metadata": {
    "ExecuteTime": {
     "end_time": "2021-08-13T12:51:27.398645Z",
     "start_time": "2021-08-13T12:51:05.996Z"
    }
   },
   "outputs": [
    {
     "name": "stdout",
     "output_type": "stream",
     "text": [
      "intersect(x,y): 240 \n",
      "setdiff(x,y): 489 \n",
      "setdiff(y,x): 81 \n",
      "union(x,y): 810 \n"
     ]
    }
   ],
   "source": [
    "# checking for accidental overlap\n",
    "overlap(meta_ff_genus$Family, meta_ff_train$Family)"
   ]
  },
  {
   "cell_type": "code",
   "execution_count": 41,
   "id": "55af6fdc",
   "metadata": {
    "ExecuteTime": {
     "end_time": "2021-08-13T12:51:27.509212Z",
     "start_time": "2021-08-13T12:51:05.999Z"
    }
   },
   "outputs": [
    {
     "data": {
      "text/html": [
       "1477"
      ],
      "text/latex": [
       "1477"
      ],
      "text/markdown": [
       "1477"
      ],
      "text/plain": [
       "[1] 1477"
      ]
     },
     "metadata": {},
     "output_type": "display_data"
    }
   ],
   "source": [
    "# how many have novel families?\n",
    "meta_ff_genus %>%\n",
    "    anti_join.(meta_ff_train, c('Domain', 'Phylum', 'Class', 'Order', 'Family')) %>%\n",
    "    nrow"
   ]
  },
  {
   "cell_type": "code",
   "execution_count": 42,
   "id": "be2a01a5",
   "metadata": {
    "ExecuteTime": {
     "end_time": "2021-08-13T12:51:27.555382Z",
     "start_time": "2021-08-13T12:51:06.002Z"
    }
   },
   "outputs": [
    {
     "data": {
      "text/html": [
       "627"
      ],
      "text/latex": [
       "627"
      ],
      "text/markdown": [
       "627"
      ],
      "text/plain": [
       "[1] 627"
      ]
     },
     "metadata": {},
     "output_type": "display_data"
    }
   ],
   "source": [
    "meta_ff_genus %>%\n",
    "    anti_join.(meta_ff_train, c('Domain', 'Phylum', 'Class', 'Order')) %>%\n",
    "    nrow"
   ]
  },
  {
   "cell_type": "markdown",
   "id": "b8ce7c69",
   "metadata": {},
   "source": [
    "#### Writing table"
   ]
  },
  {
   "cell_type": "code",
   "execution_count": 43,
   "id": "52e64704",
   "metadata": {
    "ExecuteTime": {
     "end_time": "2021-08-13T12:51:27.588553Z",
     "start_time": "2021-08-13T12:51:06.005Z"
    }
   },
   "outputs": [
    {
     "name": "stdout",
     "output_type": "stream",
     "text": [
      "File written: /ebio/abt3_projects/databases_no-backup/DeepMAsED/version2/ref_genomes/GTDBr202//novel-genus_metadata.tsv \n"
     ]
    }
   ],
   "source": [
    "F = file.path(work_dir, 'novel-genus_metadata.tsv')\n",
    "write_table(meta_ff_genus, F)"
   ]
  },
  {
   "cell_type": "markdown",
   "id": "4b1990aa",
   "metadata": {},
   "source": [
    "### Family"
   ]
  },
  {
   "cell_type": "code",
   "execution_count": 44,
   "id": "6cecce3d",
   "metadata": {
    "ExecuteTime": {
     "end_time": "2021-08-13T12:51:31.187558Z",
     "start_time": "2021-08-13T12:51:06.010Z"
    }
   },
   "outputs": [
    {
     "data": {
      "text/html": [
       "<table class=\"dataframe\">\n",
       "<caption>A tidytable: 1477 × 24</caption>\n",
       "<thead>\n",
       "\t<tr><th scope=col>accession</th><th scope=col>checkm_completeness</th><th scope=col>checkm_contamination</th><th scope=col>mimag_high_quality</th><th scope=col>mimag_medium_quality</th><th scope=col>mimag_low_quality</th><th scope=col>ncbi_assembly_level</th><th scope=col>ncbi_genome_category</th><th scope=col>ncbi_genbank_assembly_accession</th><th scope=col>mean_contig_length</th><th scope=col>⋯</th><th scope=col>n50_contigs</th><th scope=col>ssu_count</th><th scope=col>Domain</th><th scope=col>Phylum</th><th scope=col>Class</th><th scope=col>Order</th><th scope=col>Family</th><th scope=col>Genus</th><th scope=col>Species</th><th scope=col>dataset</th></tr>\n",
       "\t<tr><th scope=col>&lt;chr&gt;</th><th scope=col>&lt;dbl&gt;</th><th scope=col>&lt;dbl&gt;</th><th scope=col>&lt;chr&gt;</th><th scope=col>&lt;chr&gt;</th><th scope=col>&lt;chr&gt;</th><th scope=col>&lt;chr&gt;</th><th scope=col>&lt;chr&gt;</th><th scope=col>&lt;chr&gt;</th><th scope=col>&lt;int&gt;</th><th scope=col>⋯</th><th scope=col>&lt;int&gt;</th><th scope=col>&lt;int&gt;</th><th scope=col>&lt;chr&gt;</th><th scope=col>&lt;chr&gt;</th><th scope=col>&lt;chr&gt;</th><th scope=col>&lt;chr&gt;</th><th scope=col>&lt;chr&gt;</th><th scope=col>&lt;chr&gt;</th><th scope=col>&lt;chr&gt;</th><th scope=col>&lt;chr&gt;</th></tr>\n",
       "</thead>\n",
       "<tbody>\n",
       "\t<tr><td>RS_GCF_000011005.1</td><td>100.00</td><td>0.65</td><td>t</td><td>f</td><td>f</td><td>Complete Genome</td><td>none</td><td>GCA_000011005.1</td><td>2957635</td><td>⋯</td><td>2957635</td><td>2</td><td>Archaea</td><td>Halobacteriota</td><td>Methanocellia</td><td>Methanocellales</td><td>Methanocellaceae</td><td>Methanocella</td><td>Methanocella paludicola</td><td>novel-family</td></tr>\n",
       "\t<tr><td>RS_GCF_000019605.1</td><td> 93.39</td><td>2.80</td><td>t</td><td>f</td><td>f</td><td>Complete Genome</td><td>none</td><td>GCA_000019605.1</td><td>1590757</td><td>⋯</td><td>1590757</td><td>1</td><td>Archaea</td><td>Thermoproteota</td><td>Korarchaeia  </td><td>Korarchaeales  </td><td>Korarchaeaceae  </td><td>Korarchaeum </td><td>Korarchaeum cryptofilum</td><td>novel-family</td></tr>\n",
       "\t<tr><td>⋮</td><td>⋮</td><td>⋮</td><td>⋮</td><td>⋮</td><td>⋮</td><td>⋮</td><td>⋮</td><td>⋮</td><td>⋮</td><td>⋱</td><td>⋮</td><td>⋮</td><td>⋮</td><td>⋮</td><td>⋮</td><td>⋮</td><td>⋮</td><td>⋮</td><td>⋮</td><td>⋮</td></tr>\n",
       "\t<tr><td>RS_GCF_902363425.1</td><td>99.62</td><td>0.13</td><td>t</td><td>f</td><td>f</td><td>Contig</td><td>none</td><td>GCA_902363425.1</td><td>124242</td><td>⋯</td><td>347153</td><td>1</td><td>Bacteria</td><td>Bacteroidota   </td><td>Bacteroidia   </td><td>Bacteroidales   </td><td>Barnesiellaceae  </td><td>Barnesiella</td><td>Barnesiella sp003150885</td><td>novel-family</td></tr>\n",
       "\t<tr><td>RS_GCF_902812405.1</td><td>96.30</td><td>0.00</td><td>t</td><td>f</td><td>f</td><td>Contig</td><td>none</td><td>GCA_902812405.1</td><td> 21092</td><td>⋯</td><td> 40922</td><td>1</td><td>Bacteria</td><td>Eremiobacterota</td><td>Eremiobacteria</td><td>Eremiobacterales</td><td>Eremiobacteraceae</td><td>CADDZI01   </td><td>CADDZI01 sp902812405   </td><td>novel-family</td></tr>\n",
       "</tbody>\n",
       "</table>\n"
      ],
      "text/latex": [
       "A tidytable: 1477 × 24\n",
       "\\begin{tabular}{lllllllllllllllllllll}\n",
       " accession & checkm\\_completeness & checkm\\_contamination & mimag\\_high\\_quality & mimag\\_medium\\_quality & mimag\\_low\\_quality & ncbi\\_assembly\\_level & ncbi\\_genome\\_category & ncbi\\_genbank\\_assembly\\_accession & mean\\_contig\\_length & ⋯ & n50\\_contigs & ssu\\_count & Domain & Phylum & Class & Order & Family & Genus & Species & dataset\\\\\n",
       " <chr> & <dbl> & <dbl> & <chr> & <chr> & <chr> & <chr> & <chr> & <chr> & <int> & ⋯ & <int> & <int> & <chr> & <chr> & <chr> & <chr> & <chr> & <chr> & <chr> & <chr>\\\\\n",
       "\\hline\n",
       "\t RS\\_GCF\\_000011005.1 & 100.00 & 0.65 & t & f & f & Complete Genome & none & GCA\\_000011005.1 & 2957635 & ⋯ & 2957635 & 2 & Archaea & Halobacteriota & Methanocellia & Methanocellales & Methanocellaceae & Methanocella & Methanocella paludicola & novel-family\\\\\n",
       "\t RS\\_GCF\\_000019605.1 &  93.39 & 2.80 & t & f & f & Complete Genome & none & GCA\\_000019605.1 & 1590757 & ⋯ & 1590757 & 1 & Archaea & Thermoproteota & Korarchaeia   & Korarchaeales   & Korarchaeaceae   & Korarchaeum  & Korarchaeum cryptofilum & novel-family\\\\\n",
       "\t ⋮ & ⋮ & ⋮ & ⋮ & ⋮ & ⋮ & ⋮ & ⋮ & ⋮ & ⋮ & ⋱ & ⋮ & ⋮ & ⋮ & ⋮ & ⋮ & ⋮ & ⋮ & ⋮ & ⋮ & ⋮\\\\\n",
       "\t RS\\_GCF\\_902363425.1 & 99.62 & 0.13 & t & f & f & Contig & none & GCA\\_902363425.1 & 124242 & ⋯ & 347153 & 1 & Bacteria & Bacteroidota    & Bacteroidia    & Bacteroidales    & Barnesiellaceae   & Barnesiella & Barnesiella sp003150885 & novel-family\\\\\n",
       "\t RS\\_GCF\\_902812405.1 & 96.30 & 0.00 & t & f & f & Contig & none & GCA\\_902812405.1 &  21092 & ⋯ &  40922 & 1 & Bacteria & Eremiobacterota & Eremiobacteria & Eremiobacterales & Eremiobacteraceae & CADDZI01    & CADDZI01 sp902812405    & novel-family\\\\\n",
       "\\end{tabular}\n"
      ],
      "text/markdown": [
       "\n",
       "A tidytable: 1477 × 24\n",
       "\n",
       "| accession &lt;chr&gt; | checkm_completeness &lt;dbl&gt; | checkm_contamination &lt;dbl&gt; | mimag_high_quality &lt;chr&gt; | mimag_medium_quality &lt;chr&gt; | mimag_low_quality &lt;chr&gt; | ncbi_assembly_level &lt;chr&gt; | ncbi_genome_category &lt;chr&gt; | ncbi_genbank_assembly_accession &lt;chr&gt; | mean_contig_length &lt;int&gt; | ⋯ ⋯ | n50_contigs &lt;int&gt; | ssu_count &lt;int&gt; | Domain &lt;chr&gt; | Phylum &lt;chr&gt; | Class &lt;chr&gt; | Order &lt;chr&gt; | Family &lt;chr&gt; | Genus &lt;chr&gt; | Species &lt;chr&gt; | dataset &lt;chr&gt; |\n",
       "|---|---|---|---|---|---|---|---|---|---|---|---|---|---|---|---|---|---|---|---|---|\n",
       "| RS_GCF_000011005.1 | 100.00 | 0.65 | t | f | f | Complete Genome | none | GCA_000011005.1 | 2957635 | ⋯ | 2957635 | 2 | Archaea | Halobacteriota | Methanocellia | Methanocellales | Methanocellaceae | Methanocella | Methanocella paludicola | novel-family |\n",
       "| RS_GCF_000019605.1 |  93.39 | 2.80 | t | f | f | Complete Genome | none | GCA_000019605.1 | 1590757 | ⋯ | 1590757 | 1 | Archaea | Thermoproteota | Korarchaeia   | Korarchaeales   | Korarchaeaceae   | Korarchaeum  | Korarchaeum cryptofilum | novel-family |\n",
       "| ⋮ | ⋮ | ⋮ | ⋮ | ⋮ | ⋮ | ⋮ | ⋮ | ⋮ | ⋮ | ⋱ | ⋮ | ⋮ | ⋮ | ⋮ | ⋮ | ⋮ | ⋮ | ⋮ | ⋮ | ⋮ |\n",
       "| RS_GCF_902363425.1 | 99.62 | 0.13 | t | f | f | Contig | none | GCA_902363425.1 | 124242 | ⋯ | 347153 | 1 | Bacteria | Bacteroidota    | Bacteroidia    | Bacteroidales    | Barnesiellaceae   | Barnesiella | Barnesiella sp003150885 | novel-family |\n",
       "| RS_GCF_902812405.1 | 96.30 | 0.00 | t | f | f | Contig | none | GCA_902812405.1 |  21092 | ⋯ |  40922 | 1 | Bacteria | Eremiobacterota | Eremiobacteria | Eremiobacterales | Eremiobacteraceae | CADDZI01    | CADDZI01 sp902812405    | novel-family |\n",
       "\n"
      ],
      "text/plain": [
       "     accession          checkm_completeness checkm_contamination\n",
       "1    RS_GCF_000011005.1 100.00              0.65                \n",
       "2    RS_GCF_000019605.1  93.39              2.80                \n",
       "⋮    ⋮                  ⋮                   ⋮                   \n",
       "1476 RS_GCF_902363425.1 99.62               0.13                \n",
       "1477 RS_GCF_902812405.1 96.30               0.00                \n",
       "     mimag_high_quality mimag_medium_quality mimag_low_quality\n",
       "1    t                  f                    f                \n",
       "2    t                  f                    f                \n",
       "⋮    ⋮                  ⋮                    ⋮                \n",
       "1476 t                  f                    f                \n",
       "1477 t                  f                    f                \n",
       "     ncbi_assembly_level ncbi_genome_category ncbi_genbank_assembly_accession\n",
       "1    Complete Genome     none                 GCA_000011005.1                \n",
       "2    Complete Genome     none                 GCA_000019605.1                \n",
       "⋮    ⋮                   ⋮                    ⋮                              \n",
       "1476 Contig              none                 GCA_902363425.1                \n",
       "1477 Contig              none                 GCA_902812405.1                \n",
       "     mean_contig_length ⋯ n50_contigs ssu_count Domain   Phylum         \n",
       "1    2957635            ⋯ 2957635     2         Archaea  Halobacteriota \n",
       "2    1590757            ⋯ 1590757     1         Archaea  Thermoproteota \n",
       "⋮    ⋮                  ⋱ ⋮           ⋮         ⋮        ⋮              \n",
       "1476 124242             ⋯ 347153      1         Bacteria Bacteroidota   \n",
       "1477  21092             ⋯  40922      1         Bacteria Eremiobacterota\n",
       "     Class          Order            Family            Genus       \n",
       "1    Methanocellia  Methanocellales  Methanocellaceae  Methanocella\n",
       "2    Korarchaeia    Korarchaeales    Korarchaeaceae    Korarchaeum \n",
       "⋮    ⋮              ⋮                ⋮                 ⋮           \n",
       "1476 Bacteroidia    Bacteroidales    Barnesiellaceae   Barnesiella \n",
       "1477 Eremiobacteria Eremiobacterales Eremiobacteraceae CADDZI01    \n",
       "     Species                 dataset     \n",
       "1    Methanocella paludicola novel-family\n",
       "2    Korarchaeum cryptofilum novel-family\n",
       "⋮    ⋮                       ⋮           \n",
       "1476 Barnesiella sp003150885 novel-family\n",
       "1477 CADDZI01 sp902812405    novel-family"
      ]
     },
     "metadata": {},
     "output_type": "display_data"
    }
   ],
   "source": [
    "# not in train\n",
    "meta_ff_fam = meta_ff %>%\n",
    "    anti_join.(meta_ff_train, c('Domain', 'Phylum', 'Class', 'Order', 'Family')) %>%\n",
    "    mutate.(dataset = 'novel-family')\n",
    "meta_ff_fam"
   ]
  },
  {
   "cell_type": "code",
   "execution_count": 45,
   "id": "1ef22f4b",
   "metadata": {
    "ExecuteTime": {
     "end_time": "2021-08-13T12:51:31.215971Z",
     "start_time": "2021-08-13T12:51:06.014Z"
    }
   },
   "outputs": [
    {
     "name": "stdout",
     "output_type": "stream",
     "text": [
      "intersect(x,y): 0 \n",
      "setdiff(x,y): 1477 \n",
      "setdiff(y,x): 9000 \n",
      "union(x,y): 10477 \n",
      "---\n",
      "intersect(x,y): 115 \n",
      "setdiff(x,y): 1362 \n",
      "setdiff(y,x): 8885 \n",
      "union(x,y): 10362 \n"
     ]
    }
   ],
   "source": [
    "# checking for accidental overlap\n",
    "overlap(meta_ff_fam$accession, meta_ff_train$accession)\n",
    "cat('---\\n')\n",
    "overlap(meta_ff_fam$accession, meta_ff_test$accession)"
   ]
  },
  {
   "cell_type": "code",
   "execution_count": 46,
   "id": "2435975e",
   "metadata": {
    "ExecuteTime": {
     "end_time": "2021-08-13T12:51:31.232872Z",
     "start_time": "2021-08-13T12:51:06.017Z"
    }
   },
   "outputs": [
    {
     "name": "stdout",
     "output_type": "stream",
     "text": [
      "intersect(x,y): 0 \n",
      "setdiff(x,y): 489 \n",
      "setdiff(y,x): 321 \n",
      "union(x,y): 810 \n"
     ]
    }
   ],
   "source": [
    "# checking for accidental overlap\n",
    "overlap(meta_ff_fam$Family, meta_ff_train$Family)"
   ]
  },
  {
   "cell_type": "code",
   "execution_count": 47,
   "id": "1e8a6298",
   "metadata": {
    "ExecuteTime": {
     "end_time": "2021-08-13T12:51:31.249696Z",
     "start_time": "2021-08-13T12:51:06.019Z"
    }
   },
   "outputs": [
    {
     "name": "stdout",
     "output_type": "stream",
     "text": [
      "intersect(x,y): 86 \n",
      "setdiff(x,y): 198 \n",
      "setdiff(y,x): 71 \n",
      "union(x,y): 355 \n"
     ]
    }
   ],
   "source": [
    "# checking for accidental overlap\n",
    "overlap(meta_ff_fam$Order, meta_ff_train$Order)"
   ]
  },
  {
   "cell_type": "markdown",
   "id": "16452ecf",
   "metadata": {},
   "source": [
    "#### Writing table"
   ]
  },
  {
   "cell_type": "code",
   "execution_count": 48,
   "id": "dc4d80f5",
   "metadata": {
    "ExecuteTime": {
     "end_time": "2021-08-13T12:51:31.272356Z",
     "start_time": "2021-08-13T12:51:06.023Z"
    }
   },
   "outputs": [
    {
     "name": "stdout",
     "output_type": "stream",
     "text": [
      "File written: /ebio/abt3_projects/databases_no-backup/DeepMAsED/version2/ref_genomes/GTDBr202//novel-family_metadata.tsv \n"
     ]
    }
   ],
   "source": [
    "F = file.path(work_dir, 'novel-family_metadata.tsv')\n",
    "write_table(meta_ff_fam, F)"
   ]
  },
  {
   "cell_type": "markdown",
   "id": "e9fb964f",
   "metadata": {
    "ExecuteTime": {
     "end_time": "2021-08-13T10:41:14.353787Z",
     "start_time": "2021-08-13T10:41:13.926Z"
    }
   },
   "source": [
    "# Downloading all genomes"
   ]
  },
  {
   "cell_type": "code",
   "execution_count": 49,
   "id": "7c4f0525",
   "metadata": {
    "ExecuteTime": {
     "end_time": "2021-08-13T12:51:31.351455Z",
     "start_time": "2021-08-13T12:51:06.027Z"
    }
   },
   "outputs": [
    {
     "name": "stdout",
     "output_type": "stream",
     "text": [
      "No. of unique accessions: 24191 \n"
     ]
    },
    {
     "data": {
      "text/html": [
       "<table class=\"dataframe\">\n",
       "<caption>A tidytable: 24191 × 9</caption>\n",
       "<thead>\n",
       "\t<tr><th scope=col>accession</th><th scope=col>ncbi_genbank_assembly_accession</th><th scope=col>Domain</th><th scope=col>Phylum</th><th scope=col>Class</th><th scope=col>Order</th><th scope=col>Family</th><th scope=col>Genus</th><th scope=col>Species</th></tr>\n",
       "\t<tr><th scope=col>&lt;chr&gt;</th><th scope=col>&lt;chr&gt;</th><th scope=col>&lt;chr&gt;</th><th scope=col>&lt;chr&gt;</th><th scope=col>&lt;chr&gt;</th><th scope=col>&lt;chr&gt;</th><th scope=col>&lt;chr&gt;</th><th scope=col>&lt;chr&gt;</th><th scope=col>&lt;chr&gt;</th></tr>\n",
       "</thead>\n",
       "<tbody>\n",
       "\t<tr><td>GB_GCA_000306725.1</td><td>GCA_000306725.1</td><td>Archaea</td><td>Halobacteriota   </td><td>Methanosarcinia</td><td>Methanosarcinales</td><td>Methanosarcinaceae</td><td>Methanolobus  </td><td>Methanolobus psychrophilus</td></tr>\n",
       "\t<tr><td>RS_GCF_000022545.1</td><td>GCA_000022545.1</td><td>Archaea</td><td>Methanobacteriota</td><td>Thermococci    </td><td>Thermococcales   </td><td>Thermococcaceae   </td><td>Thermococcus_A</td><td>Thermococcus_A sibiricus  </td></tr>\n",
       "\t<tr><td>⋮</td><td>⋮</td><td>⋮</td><td>⋮</td><td>⋮</td><td>⋮</td><td>⋮</td><td>⋮</td><td>⋮</td></tr>\n",
       "\t<tr><td>RS_GCF_902809865.1</td><td>GCA_902809865.1</td><td>Bacteria</td><td>Firmicutes     </td><td>Bacilli       </td><td>Bacillales_D    </td><td>Halobacillaceae  </td><td>Halobacillus_A</td><td>Halobacillus_A sp902809865</td></tr>\n",
       "\t<tr><td>RS_GCF_902812405.1</td><td>GCA_902812405.1</td><td>Bacteria</td><td>Eremiobacterota</td><td>Eremiobacteria</td><td>Eremiobacterales</td><td>Eremiobacteraceae</td><td>CADDZI01      </td><td>CADDZI01 sp902812405      </td></tr>\n",
       "</tbody>\n",
       "</table>\n"
      ],
      "text/latex": [
       "A tidytable: 24191 × 9\n",
       "\\begin{tabular}{lllllllll}\n",
       " accession & ncbi\\_genbank\\_assembly\\_accession & Domain & Phylum & Class & Order & Family & Genus & Species\\\\\n",
       " <chr> & <chr> & <chr> & <chr> & <chr> & <chr> & <chr> & <chr> & <chr>\\\\\n",
       "\\hline\n",
       "\t GB\\_GCA\\_000306725.1 & GCA\\_000306725.1 & Archaea & Halobacteriota    & Methanosarcinia & Methanosarcinales & Methanosarcinaceae & Methanolobus   & Methanolobus psychrophilus\\\\\n",
       "\t RS\\_GCF\\_000022545.1 & GCA\\_000022545.1 & Archaea & Methanobacteriota & Thermococci     & Thermococcales    & Thermococcaceae    & Thermococcus\\_A & Thermococcus\\_A sibiricus  \\\\\n",
       "\t ⋮ & ⋮ & ⋮ & ⋮ & ⋮ & ⋮ & ⋮ & ⋮ & ⋮\\\\\n",
       "\t RS\\_GCF\\_902809865.1 & GCA\\_902809865.1 & Bacteria & Firmicutes      & Bacilli        & Bacillales\\_D     & Halobacillaceae   & Halobacillus\\_A & Halobacillus\\_A sp902809865\\\\\n",
       "\t RS\\_GCF\\_902812405.1 & GCA\\_902812405.1 & Bacteria & Eremiobacterota & Eremiobacteria & Eremiobacterales & Eremiobacteraceae & CADDZI01       & CADDZI01 sp902812405      \\\\\n",
       "\\end{tabular}\n"
      ],
      "text/markdown": [
       "\n",
       "A tidytable: 24191 × 9\n",
       "\n",
       "| accession &lt;chr&gt; | ncbi_genbank_assembly_accession &lt;chr&gt; | Domain &lt;chr&gt; | Phylum &lt;chr&gt; | Class &lt;chr&gt; | Order &lt;chr&gt; | Family &lt;chr&gt; | Genus &lt;chr&gt; | Species &lt;chr&gt; |\n",
       "|---|---|---|---|---|---|---|---|---|\n",
       "| GB_GCA_000306725.1 | GCA_000306725.1 | Archaea | Halobacteriota    | Methanosarcinia | Methanosarcinales | Methanosarcinaceae | Methanolobus   | Methanolobus psychrophilus |\n",
       "| RS_GCF_000022545.1 | GCA_000022545.1 | Archaea | Methanobacteriota | Thermococci     | Thermococcales    | Thermococcaceae    | Thermococcus_A | Thermococcus_A sibiricus   |\n",
       "| ⋮ | ⋮ | ⋮ | ⋮ | ⋮ | ⋮ | ⋮ | ⋮ | ⋮ |\n",
       "| RS_GCF_902809865.1 | GCA_902809865.1 | Bacteria | Firmicutes      | Bacilli        | Bacillales_D     | Halobacillaceae   | Halobacillus_A | Halobacillus_A sp902809865 |\n",
       "| RS_GCF_902812405.1 | GCA_902812405.1 | Bacteria | Eremiobacterota | Eremiobacteria | Eremiobacterales | Eremiobacteraceae | CADDZI01       | CADDZI01 sp902812405       |\n",
       "\n"
      ],
      "text/plain": [
       "      accession          ncbi_genbank_assembly_accession Domain  \n",
       "1     GB_GCA_000306725.1 GCA_000306725.1                 Archaea \n",
       "2     RS_GCF_000022545.1 GCA_000022545.1                 Archaea \n",
       "⋮     ⋮                  ⋮                               ⋮       \n",
       "24190 RS_GCF_902809865.1 GCA_902809865.1                 Bacteria\n",
       "24191 RS_GCF_902812405.1 GCA_902812405.1                 Bacteria\n",
       "      Phylum            Class           Order             Family            \n",
       "1     Halobacteriota    Methanosarcinia Methanosarcinales Methanosarcinaceae\n",
       "2     Methanobacteriota Thermococci     Thermococcales    Thermococcaceae   \n",
       "⋮     ⋮                 ⋮               ⋮                 ⋮                 \n",
       "24190 Firmicutes        Bacilli         Bacillales_D      Halobacillaceae   \n",
       "24191 Eremiobacterota   Eremiobacteria  Eremiobacterales  Eremiobacteraceae \n",
       "      Genus          Species                   \n",
       "1     Methanolobus   Methanolobus psychrophilus\n",
       "2     Thermococcus_A Thermococcus_A sibiricus  \n",
       "⋮     ⋮              ⋮                         \n",
       "24190 Halobacillus_A Halobacillus_A sp902809865\n",
       "24191 CADDZI01       CADDZI01 sp902812405      "
      ]
     },
     "metadata": {},
     "output_type": "display_data"
    }
   ],
   "source": [
    "meta_all = rbindlist(list(\n",
    "    meta_ff_train,\n",
    "    meta_ff_test,\n",
    "    meta_ff_genus,\n",
    "    meta_ff_fam\n",
    "    ), use.names=TRUE) %>%\n",
    "    distinct.(accession, ncbi_genbank_assembly_accession, Domain, Phylum, Class, Order, Family, Genus, Species)\n",
    "meta_all$accession %>% unique_n('accessions')\n",
    "meta_all"
   ]
  },
  {
   "cell_type": "code",
   "execution_count": 50,
   "id": "7c54c954",
   "metadata": {
    "ExecuteTime": {
     "end_time": "2021-08-13T12:51:31.391135Z",
     "start_time": "2021-08-13T12:51:06.030Z"
    }
   },
   "outputs": [
    {
     "name": "stdout",
     "output_type": "stream",
     "text": [
      "File written: /ebio/abt3_projects/databases_no-backup/DeepMAsED/version2/ref_genomes/GTDBr202//genomes_all-selected.tsv \n"
     ]
    }
   ],
   "source": [
    "# writing table\n",
    "F = file.path(work_dir, 'genomes_all-selected.tsv')\n",
    "write_table(meta_all, F)"
   ]
  },
  {
   "cell_type": "markdown",
   "id": "718025ae",
   "metadata": {},
   "source": [
    "```\n",
    "(genome) @ rick:/ebio/abt3_projects/databases_no-backup/DeepMAsED/version2/ref_genomes/GTDBr20\n",
    "screen -L -S rmc_GTDBr202_refGen bash -c \"../genome_download.R -o genomes_fasta -p 16 genomes_all-selected.tsv > genomes_all-selected_wPath.tsv\"\n",
    "```"
   ]
  },
  {
   "cell_type": "markdown",
   "id": "33d79e21",
   "metadata": {},
   "source": [
    "# --TODO--"
   ]
  },
  {
   "cell_type": "code",
   "execution_count": null,
   "id": "8e425ef6",
   "metadata": {},
   "outputs": [],
   "source": []
  }
 ],
 "metadata": {
  "kernelspec": {
   "display_name": "R [conda env:Anxiety_Twins_Metagenomes-tidyverse2]",
   "language": "R",
   "name": "conda-env-Anxiety_Twins_Metagenomes-tidyverse2-r"
  },
  "language_info": {
   "codemirror_mode": "r",
   "file_extension": ".r",
   "mimetype": "text/x-r-source",
   "name": "R",
   "pygments_lexer": "r",
   "version": "4.1.0"
  },
  "notify_time": "30",
  "toc": {
   "base_numbering": 1,
   "nav_menu": {},
   "number_sections": true,
   "sideBar": true,
   "skip_h1_title": false,
   "title_cell": "Table of Contents",
   "title_sidebar": "Contents",
   "toc_cell": true,
   "toc_position": {},
   "toc_section_display": true,
   "toc_window_display": true
  }
 },
 "nbformat": 4,
 "nbformat_minor": 5
}
