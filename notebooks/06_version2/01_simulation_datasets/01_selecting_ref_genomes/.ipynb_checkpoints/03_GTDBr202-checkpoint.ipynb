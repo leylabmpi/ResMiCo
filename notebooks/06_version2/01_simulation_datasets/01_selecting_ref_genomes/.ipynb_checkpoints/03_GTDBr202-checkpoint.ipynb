{
 "cells": [
  {
   "cell_type": "markdown",
   "id": "2a8aa83d",
   "metadata": {
    "toc": true
   },
   "source": [
    "<h1>Table of Contents<span class=\"tocSkip\"></span></h1>\n",
    "<div class=\"toc\"><ul class=\"toc-item\"><li><span><a href=\"#Goal\" data-toc-modified-id=\"Goal-1\"><span class=\"toc-item-num\">1&nbsp;&nbsp;</span>Goal</a></span></li><li><span><a href=\"#Var\" data-toc-modified-id=\"Var-2\"><span class=\"toc-item-num\">2&nbsp;&nbsp;</span>Var</a></span></li><li><span><a href=\"#Init\" data-toc-modified-id=\"Init-3\"><span class=\"toc-item-num\">3&nbsp;&nbsp;</span>Init</a></span></li><li><span><a href=\"#Load\" data-toc-modified-id=\"Load-4\"><span class=\"toc-item-num\">4&nbsp;&nbsp;</span>Load</a></span><ul class=\"toc-item\"><li><span><a href=\"#Metadata\" data-toc-modified-id=\"Metadata-4.1\"><span class=\"toc-item-num\">4.1&nbsp;&nbsp;</span>Metadata</a></span></li></ul></li><li><span><a href=\"#checkM\" data-toc-modified-id=\"checkM-5\"><span class=\"toc-item-num\">5&nbsp;&nbsp;</span>checkM</a></span></li><li><span><a href=\"#gtdb-tk\" data-toc-modified-id=\"gtdb-tk-6\"><span class=\"toc-item-num\">6&nbsp;&nbsp;</span>gtdb-tk</a></span></li><li><span><a href=\"#Filtering\" data-toc-modified-id=\"Filtering-7\"><span class=\"toc-item-num\">7&nbsp;&nbsp;</span>Filtering</a></span><ul class=\"toc-item\"><li><span><a href=\"#CheckM-quality\" data-toc-modified-id=\"CheckM-quality-7.1\"><span class=\"toc-item-num\">7.1&nbsp;&nbsp;</span>CheckM quality</a></span></li><li><span><a href=\"#MiMAG-quality\" data-toc-modified-id=\"MiMAG-quality-7.2\"><span class=\"toc-item-num\">7.2&nbsp;&nbsp;</span>MiMAG quality</a></span></li><li><span><a href=\"#ncb_genome_category\" data-toc-modified-id=\"ncb_genome_category-7.3\"><span class=\"toc-item-num\">7.3&nbsp;&nbsp;</span>ncb_genome_category</a></span></li><li><span><a href=\"#ncbi_genbank_assembly_accession\" data-toc-modified-id=\"ncbi_genbank_assembly_accession-7.4\"><span class=\"toc-item-num\">7.4&nbsp;&nbsp;</span>ncbi_genbank_assembly_accession</a></span></li><li><span><a href=\"#assembly-contiguitiy\" data-toc-modified-id=\"assembly-contiguitiy-7.5\"><span class=\"toc-item-num\">7.5&nbsp;&nbsp;</span>assembly contiguitiy</a></span></li></ul></li><li><span><a href=\"#Taxonomy\" data-toc-modified-id=\"Taxonomy-8\"><span class=\"toc-item-num\">8&nbsp;&nbsp;</span>Taxonomy</a></span></li><li><span><a href=\"#Subsampling-per-species\" data-toc-modified-id=\"Subsampling-per-species-9\"><span class=\"toc-item-num\">9&nbsp;&nbsp;</span>Subsampling per species</a></span></li><li><span><a href=\"#Selecting-train/test/validate-subsets\" data-toc-modified-id=\"Selecting-train/test/validate-subsets-10\"><span class=\"toc-item-num\">10&nbsp;&nbsp;</span>Selecting train/test/validate subsets</a></span><ul class=\"toc-item\"><li><span><a href=\"#Novel-taxonomy\" data-toc-modified-id=\"Novel-taxonomy-10.1\"><span class=\"toc-item-num\">10.1&nbsp;&nbsp;</span>Novel taxonomy</a></span></li><li><span><a href=\"#Train\" data-toc-modified-id=\"Train-10.2\"><span class=\"toc-item-num\">10.2&nbsp;&nbsp;</span>Train</a></span></li><li><span><a href=\"#Test\" data-toc-modified-id=\"Test-10.3\"><span class=\"toc-item-num\">10.3&nbsp;&nbsp;</span>Test</a></span></li><li><span><a href=\"#Overlap\" data-toc-modified-id=\"Overlap-10.4\"><span class=\"toc-item-num\">10.4&nbsp;&nbsp;</span>Overlap</a></span><ul class=\"toc-item\"><li><span><a href=\"#Summary\" data-toc-modified-id=\"Summary-10.4.1\"><span class=\"toc-item-num\">10.4.1&nbsp;&nbsp;</span>Summary</a></span><ul class=\"toc-item\"><li><span><a href=\"#Writing-tables\" data-toc-modified-id=\"Writing-tables-10.4.1.1\"><span class=\"toc-item-num\">10.4.1.1&nbsp;&nbsp;</span>Writing tables</a></span></li></ul></li></ul></li></ul></li><li><span><a href=\"#Downloading-all-genomes\" data-toc-modified-id=\"Downloading-all-genomes-11\"><span class=\"toc-item-num\">11&nbsp;&nbsp;</span>Downloading all genomes</a></span><ul class=\"toc-item\"><li><span><a href=\"#Which-genomes-missing?\" data-toc-modified-id=\"Which-genomes-missing?-11.1\"><span class=\"toc-item-num\">11.1&nbsp;&nbsp;</span>Which genomes missing?</a></span></li><li><span><a href=\"#Checks\" data-toc-modified-id=\"Checks-11.2\"><span class=\"toc-item-num\">11.2&nbsp;&nbsp;</span>Checks</a></span></li><li><span><a href=\"#Stats\" data-toc-modified-id=\"Stats-11.3\"><span class=\"toc-item-num\">11.3&nbsp;&nbsp;</span>Stats</a></span></li><li><span><a href=\"#Writing-final-tables\" data-toc-modified-id=\"Writing-final-tables-11.4\"><span class=\"toc-item-num\">11.4&nbsp;&nbsp;</span>Writing final tables</a></span></li></ul></li><li><span><a href=\"#sessionInfo\" data-toc-modified-id=\"sessionInfo-12\"><span class=\"toc-item-num\">12&nbsp;&nbsp;</span>sessionInfo</a></span></li></ul></div>"
   ]
  },
  {
   "cell_type": "markdown",
   "id": "e4af69e3",
   "metadata": {},
   "source": [
    "# Goal\n",
    "\n",
    "* Selecting a new row of reference genomes from the most up-to-date GTDB release"
   ]
  },
  {
   "cell_type": "markdown",
   "id": "fea7cbf5",
   "metadata": {},
   "source": [
    "# Var"
   ]
  },
  {
   "cell_type": "code",
   "execution_count": 1,
   "id": "b3e201d7",
   "metadata": {
    "ExecuteTime": {
     "end_time": "2021-08-17T13:46:00.722963Z",
     "start_time": "2021-08-17T13:46:00.666Z"
    }
   },
   "outputs": [],
   "source": [
    "work_dir = '/ebio/abt3_projects/databases_no-backup/DeepMAsED/version2/ref_genomes/GTDBr202/'\n",
    "\n",
    "# GTDB base dir\n",
    "base_dir = '/ebio/abt3_projects/databases_no-backup/GTDB/release202/'\n",
    "arc_meta_file = file.path(base_dir, 'metadata', 'ar122_metadata_r202.tsv')\n",
    "bac_meta_file = file.path(base_dir, 'metadata', 'bac120_metadata_r202.tsv')\n",
    "\n",
    "# params\n",
    "threads = 4"
   ]
  },
  {
   "cell_type": "markdown",
   "id": "9c7160e5",
   "metadata": {},
   "source": [
    "# Init"
   ]
  },
  {
   "cell_type": "code",
   "execution_count": 2,
   "id": "63e712b6",
   "metadata": {
    "ExecuteTime": {
     "end_time": "2021-08-17T13:46:01.303900Z",
     "start_time": "2021-08-17T13:46:00.671Z"
    }
   },
   "outputs": [
    {
     "name": "stderr",
     "output_type": "stream",
     "text": [
      "\n",
      "Attaching package: ‘dplyr’\n",
      "\n",
      "\n",
      "The following objects are masked from ‘package:stats’:\n",
      "\n",
      "    filter, lag\n",
      "\n",
      "\n",
      "The following objects are masked from ‘package:base’:\n",
      "\n",
      "    intersect, setdiff, setequal, union\n",
      "\n",
      "\n",
      "\n",
      "Attaching package: ‘data.table’\n",
      "\n",
      "\n",
      "The following objects are masked from ‘package:dplyr’:\n",
      "\n",
      "    between, first, last\n",
      "\n",
      "\n",
      "\n",
      "Attaching package: ‘tidytable’\n",
      "\n",
      "\n",
      "The following object is masked from ‘package:stats’:\n",
      "\n",
      "    dt\n",
      "\n",
      "\n"
     ]
    }
   ],
   "source": [
    "library(dplyr)\n",
    "library(tidyr)\n",
    "library(ggplot2)\n",
    "library(data.table)\n",
    "library(tidytable)\n",
    "library(LeyLabRMisc)"
   ]
  },
  {
   "cell_type": "code",
   "execution_count": 3,
   "id": "926e1332",
   "metadata": {
    "ExecuteTime": {
     "end_time": "2021-08-17T13:46:01.323620Z",
     "start_time": "2021-08-17T13:46:00.674Z"
    }
   },
   "outputs": [
    {
     "name": "stdout",
     "output_type": "stream",
     "text": [
      "Directory already exists: /ebio/abt3_projects/databases_no-backup/DeepMAsED/version2/ref_genomes/GTDBr202/ \n"
     ]
    }
   ],
   "source": [
    "df.dims()\n",
    "setDTthreads(threads)\n",
    "make_dir(work_dir)"
   ]
  },
  {
   "cell_type": "code",
   "execution_count": 4,
   "id": "c492ef83",
   "metadata": {
    "ExecuteTime": {
     "end_time": "2021-08-17T13:46:01.337395Z",
     "start_time": "2021-08-17T13:46:00.678Z"
    }
   },
   "outputs": [],
   "source": [
    "set.seed(8192)"
   ]
  },
  {
   "cell_type": "markdown",
   "id": "8ab5c152",
   "metadata": {},
   "source": [
    "# Load"
   ]
  },
  {
   "cell_type": "markdown",
   "id": "57e4dc58",
   "metadata": {},
   "source": [
    "## Metadata"
   ]
  },
  {
   "cell_type": "code",
   "execution_count": 5,
   "id": "424a0070",
   "metadata": {
    "ExecuteTime": {
     "end_time": "2021-08-17T13:46:12.564725Z",
     "start_time": "2021-08-17T13:46:00.690Z"
    }
   },
   "outputs": [
    {
     "data": {
      "text/html": [
       "<table class=\"dataframe\">\n",
       "<caption>A tidytable: 258406 × 17</caption>\n",
       "<thead>\n",
       "\t<tr><th scope=col>accession</th><th scope=col>checkm_completeness</th><th scope=col>checkm_contamination</th><th scope=col>mimag_high_quality</th><th scope=col>mimag_medium_quality</th><th scope=col>mimag_low_quality</th><th scope=col>ncbi_assembly_level</th><th scope=col>ncbi_genome_category</th><th scope=col>ncbi_genbank_assembly_accession</th><th scope=col>gtdb_taxonomy</th><th scope=col>mean_contig_length</th><th scope=col>contig_count</th><th scope=col>gc_count</th><th scope=col>gc_percentage</th><th scope=col>genome_size</th><th scope=col>n50_contigs</th><th scope=col>ssu_count</th></tr>\n",
       "\t<tr><th scope=col>&lt;chr&gt;</th><th scope=col>&lt;dbl&gt;</th><th scope=col>&lt;dbl&gt;</th><th scope=col>&lt;chr&gt;</th><th scope=col>&lt;chr&gt;</th><th scope=col>&lt;chr&gt;</th><th scope=col>&lt;chr&gt;</th><th scope=col>&lt;chr&gt;</th><th scope=col>&lt;chr&gt;</th><th scope=col>&lt;chr&gt;</th><th scope=col>&lt;int&gt;</th><th scope=col>&lt;int&gt;</th><th scope=col>&lt;int&gt;</th><th scope=col>&lt;dbl&gt;</th><th scope=col>&lt;int&gt;</th><th scope=col>&lt;int&gt;</th><th scope=col>&lt;int&gt;</th></tr>\n",
       "</thead>\n",
       "<tbody>\n",
       "\t<tr><td>GB_GCA_000200715.1</td><td> 99.03</td><td>0</td><td>t</td><td>f</td><td>f</td><td>Chromosome     </td><td>derived from environmental sample</td><td>GCA_000200715.1</td><td>d__Archaea;p__Thermoproteota;c__Nitrososphaeria;o__Nitrososphaerales;f__Nitrosopumilaceae;g__Cenarchaeum;s__Cenarchaeum symbiosum</td><td> 340809</td><td>6</td><td>1173335</td><td>57.37986</td><td>2045086</td><td>1281157</td><td>1</td></tr>\n",
       "\t<tr><td>GB_GCA_000247545.1</td><td>100.00</td><td>0</td><td>f</td><td>t</td><td>f</td><td>Complete Genome</td><td>none                             </td><td>GCA_000247545.1</td><td>d__Archaea;p__Thermoproteota;c__Thermoproteia;o__Thermoproteales;f__Thermoproteaceae;g__Pyrobaculum;s__Pyrobaculum oguniense     </td><td>1226460</td><td>2</td><td>1350357</td><td>55.05100</td><td>2452920</td><td>2436033</td><td>2</td></tr>\n",
       "\t<tr><td>⋮</td><td>⋮</td><td>⋮</td><td>⋮</td><td>⋮</td><td>⋮</td><td>⋮</td><td>⋮</td><td>⋮</td><td>⋮</td><td>⋮</td><td>⋮</td><td>⋮</td><td>⋮</td><td>⋮</td><td>⋮</td><td>⋮</td></tr>\n",
       "\t<tr><td>RS_GCF_903986495.1</td><td>99.45</td><td>0.13</td><td>f</td><td>t</td><td>f</td><td>Contig</td><td>none</td><td>GCA_903986495.1</td><td>d__Bacteria;p__Actinobacteriota;c__Actinomycetia;o__Mycobacteriales;f__Mycobacteriaceae;g__Corynebacterium;s__Corynebacterium diphtheriae</td><td>98137</td><td>25</td><td>1319199</td><td>53.76969</td><td>2453425</td><td>178692</td><td>2</td></tr>\n",
       "\t<tr><td>RS_GCF_903986995.1</td><td>99.72</td><td>0.60</td><td>f</td><td>t</td><td>f</td><td>Contig</td><td>none</td><td>GCA_903986995.1</td><td>d__Bacteria;p__Proteobacteria;c__Gammaproteobacteria;o__Enterobacterales;f__Vibrionaceae;g__Vibrio;s__Vibrio diabolicus                  </td><td>52797</td><td>98</td><td>2311337</td><td>44.67069</td><td>5174169</td><td>492004</td><td>8</td></tr>\n",
       "</tbody>\n",
       "</table>\n"
      ],
      "text/latex": [
       "A tidytable: 258406 × 17\n",
       "\\begin{tabular}{lllllllllllllllll}\n",
       " accession & checkm\\_completeness & checkm\\_contamination & mimag\\_high\\_quality & mimag\\_medium\\_quality & mimag\\_low\\_quality & ncbi\\_assembly\\_level & ncbi\\_genome\\_category & ncbi\\_genbank\\_assembly\\_accession & gtdb\\_taxonomy & mean\\_contig\\_length & contig\\_count & gc\\_count & gc\\_percentage & genome\\_size & n50\\_contigs & ssu\\_count\\\\\n",
       " <chr> & <dbl> & <dbl> & <chr> & <chr> & <chr> & <chr> & <chr> & <chr> & <chr> & <int> & <int> & <int> & <dbl> & <int> & <int> & <int>\\\\\n",
       "\\hline\n",
       "\t GB\\_GCA\\_000200715.1 &  99.03 & 0 & t & f & f & Chromosome      & derived from environmental sample & GCA\\_000200715.1 & d\\_\\_Archaea;p\\_\\_Thermoproteota;c\\_\\_Nitrososphaeria;o\\_\\_Nitrososphaerales;f\\_\\_Nitrosopumilaceae;g\\_\\_Cenarchaeum;s\\_\\_Cenarchaeum symbiosum &  340809 & 6 & 1173335 & 57.37986 & 2045086 & 1281157 & 1\\\\\n",
       "\t GB\\_GCA\\_000247545.1 & 100.00 & 0 & f & t & f & Complete Genome & none                              & GCA\\_000247545.1 & d\\_\\_Archaea;p\\_\\_Thermoproteota;c\\_\\_Thermoproteia;o\\_\\_Thermoproteales;f\\_\\_Thermoproteaceae;g\\_\\_Pyrobaculum;s\\_\\_Pyrobaculum oguniense      & 1226460 & 2 & 1350357 & 55.05100 & 2452920 & 2436033 & 2\\\\\n",
       "\t ⋮ & ⋮ & ⋮ & ⋮ & ⋮ & ⋮ & ⋮ & ⋮ & ⋮ & ⋮ & ⋮ & ⋮ & ⋮ & ⋮ & ⋮ & ⋮ & ⋮\\\\\n",
       "\t RS\\_GCF\\_903986495.1 & 99.45 & 0.13 & f & t & f & Contig & none & GCA\\_903986495.1 & d\\_\\_Bacteria;p\\_\\_Actinobacteriota;c\\_\\_Actinomycetia;o\\_\\_Mycobacteriales;f\\_\\_Mycobacteriaceae;g\\_\\_Corynebacterium;s\\_\\_Corynebacterium diphtheriae & 98137 & 25 & 1319199 & 53.76969 & 2453425 & 178692 & 2\\\\\n",
       "\t RS\\_GCF\\_903986995.1 & 99.72 & 0.60 & f & t & f & Contig & none & GCA\\_903986995.1 & d\\_\\_Bacteria;p\\_\\_Proteobacteria;c\\_\\_Gammaproteobacteria;o\\_\\_Enterobacterales;f\\_\\_Vibrionaceae;g\\_\\_Vibrio;s\\_\\_Vibrio diabolicus                   & 52797 & 98 & 2311337 & 44.67069 & 5174169 & 492004 & 8\\\\\n",
       "\\end{tabular}\n"
      ],
      "text/markdown": [
       "\n",
       "A tidytable: 258406 × 17\n",
       "\n",
       "| accession &lt;chr&gt; | checkm_completeness &lt;dbl&gt; | checkm_contamination &lt;dbl&gt; | mimag_high_quality &lt;chr&gt; | mimag_medium_quality &lt;chr&gt; | mimag_low_quality &lt;chr&gt; | ncbi_assembly_level &lt;chr&gt; | ncbi_genome_category &lt;chr&gt; | ncbi_genbank_assembly_accession &lt;chr&gt; | gtdb_taxonomy &lt;chr&gt; | mean_contig_length &lt;int&gt; | contig_count &lt;int&gt; | gc_count &lt;int&gt; | gc_percentage &lt;dbl&gt; | genome_size &lt;int&gt; | n50_contigs &lt;int&gt; | ssu_count &lt;int&gt; |\n",
       "|---|---|---|---|---|---|---|---|---|---|---|---|---|---|---|---|---|\n",
       "| GB_GCA_000200715.1 |  99.03 | 0 | t | f | f | Chromosome      | derived from environmental sample | GCA_000200715.1 | d__Archaea;p__Thermoproteota;c__Nitrososphaeria;o__Nitrososphaerales;f__Nitrosopumilaceae;g__Cenarchaeum;s__Cenarchaeum symbiosum |  340809 | 6 | 1173335 | 57.37986 | 2045086 | 1281157 | 1 |\n",
       "| GB_GCA_000247545.1 | 100.00 | 0 | f | t | f | Complete Genome | none                              | GCA_000247545.1 | d__Archaea;p__Thermoproteota;c__Thermoproteia;o__Thermoproteales;f__Thermoproteaceae;g__Pyrobaculum;s__Pyrobaculum oguniense      | 1226460 | 2 | 1350357 | 55.05100 | 2452920 | 2436033 | 2 |\n",
       "| ⋮ | ⋮ | ⋮ | ⋮ | ⋮ | ⋮ | ⋮ | ⋮ | ⋮ | ⋮ | ⋮ | ⋮ | ⋮ | ⋮ | ⋮ | ⋮ | ⋮ |\n",
       "| RS_GCF_903986495.1 | 99.45 | 0.13 | f | t | f | Contig | none | GCA_903986495.1 | d__Bacteria;p__Actinobacteriota;c__Actinomycetia;o__Mycobacteriales;f__Mycobacteriaceae;g__Corynebacterium;s__Corynebacterium diphtheriae | 98137 | 25 | 1319199 | 53.76969 | 2453425 | 178692 | 2 |\n",
       "| RS_GCF_903986995.1 | 99.72 | 0.60 | f | t | f | Contig | none | GCA_903986995.1 | d__Bacteria;p__Proteobacteria;c__Gammaproteobacteria;o__Enterobacterales;f__Vibrionaceae;g__Vibrio;s__Vibrio diabolicus                   | 52797 | 98 | 2311337 | 44.67069 | 5174169 | 492004 | 8 |\n",
       "\n"
      ],
      "text/plain": [
       "       accession          checkm_completeness checkm_contamination\n",
       "1      GB_GCA_000200715.1  99.03              0                   \n",
       "2      GB_GCA_000247545.1 100.00              0                   \n",
       "⋮      ⋮                  ⋮                   ⋮                   \n",
       "258405 RS_GCF_903986495.1 99.45               0.13                \n",
       "258406 RS_GCF_903986995.1 99.72               0.60                \n",
       "       mimag_high_quality mimag_medium_quality mimag_low_quality\n",
       "1      t                  f                    f                \n",
       "2      f                  t                    f                \n",
       "⋮      ⋮                  ⋮                    ⋮                \n",
       "258405 f                  t                    f                \n",
       "258406 f                  t                    f                \n",
       "       ncbi_assembly_level ncbi_genome_category             \n",
       "1      Chromosome          derived from environmental sample\n",
       "2      Complete Genome     none                             \n",
       "⋮      ⋮                   ⋮                                \n",
       "258405 Contig              none                             \n",
       "258406 Contig              none                             \n",
       "       ncbi_genbank_assembly_accession\n",
       "1      GCA_000200715.1                \n",
       "2      GCA_000247545.1                \n",
       "⋮      ⋮                              \n",
       "258405 GCA_903986495.1                \n",
       "258406 GCA_903986995.1                \n",
       "       gtdb_taxonomy                                                                                                                            \n",
       "1      d__Archaea;p__Thermoproteota;c__Nitrososphaeria;o__Nitrososphaerales;f__Nitrosopumilaceae;g__Cenarchaeum;s__Cenarchaeum symbiosum        \n",
       "2      d__Archaea;p__Thermoproteota;c__Thermoproteia;o__Thermoproteales;f__Thermoproteaceae;g__Pyrobaculum;s__Pyrobaculum oguniense             \n",
       "⋮      ⋮                                                                                                                                        \n",
       "258405 d__Bacteria;p__Actinobacteriota;c__Actinomycetia;o__Mycobacteriales;f__Mycobacteriaceae;g__Corynebacterium;s__Corynebacterium diphtheriae\n",
       "258406 d__Bacteria;p__Proteobacteria;c__Gammaproteobacteria;o__Enterobacterales;f__Vibrionaceae;g__Vibrio;s__Vibrio diabolicus                  \n",
       "       mean_contig_length contig_count gc_count gc_percentage genome_size\n",
       "1       340809            6            1173335  57.37986      2045086    \n",
       "2      1226460            2            1350357  55.05100      2452920    \n",
       "⋮      ⋮                  ⋮            ⋮        ⋮             ⋮          \n",
       "258405 98137              25           1319199  53.76969      2453425    \n",
       "258406 52797              98           2311337  44.67069      5174169    \n",
       "       n50_contigs ssu_count\n",
       "1      1281157     1        \n",
       "2      2436033     2        \n",
       "⋮      ⋮           ⋮        \n",
       "258405 178692      2        \n",
       "258406 492004      8        "
      ]
     },
     "metadata": {},
     "output_type": "display_data"
    }
   ],
   "source": [
    "# loading metadata\n",
    "meta = rbindlist(list(\n",
    "    Fread(arc_meta_file) %>% select.(-ncbi_date),\n",
    "    Fread(bac_meta_file) %>% select.(-ncbi_date)), use.names=TRUE) %>%\n",
    "    select.(accession, checkm_completeness, checkm_contamination,\n",
    "            mimag_high_quality, mimag_medium_quality, mimag_low_quality,\n",
    "            ncbi_assembly_level, ncbi_genome_category, ncbi_genbank_assembly_accession,\n",
    "            gtdb_taxonomy, mean_contig_length, contig_count, gc_count, gc_percentage, genome_size, \n",
    "            n50_contigs, ssu_count)\n",
    "meta"
   ]
  },
  {
   "cell_type": "code",
   "execution_count": 6,
   "id": "d9ff6408",
   "metadata": {
    "ExecuteTime": {
     "end_time": "2021-08-17T13:46:14.339524Z",
     "start_time": "2021-08-17T13:46:00.696Z"
    }
   },
   "outputs": [
    {
     "data": {
      "text/html": [
       "<table class=\"dataframe\">\n",
       "<caption>A tidytable: 258406 × 23</caption>\n",
       "<thead>\n",
       "\t<tr><th scope=col>accession</th><th scope=col>checkm_completeness</th><th scope=col>checkm_contamination</th><th scope=col>mimag_high_quality</th><th scope=col>mimag_medium_quality</th><th scope=col>mimag_low_quality</th><th scope=col>ncbi_assembly_level</th><th scope=col>ncbi_genome_category</th><th scope=col>ncbi_genbank_assembly_accession</th><th scope=col>mean_contig_length</th><th scope=col>⋯</th><th scope=col>genome_size</th><th scope=col>n50_contigs</th><th scope=col>ssu_count</th><th scope=col>Domain</th><th scope=col>Phylum</th><th scope=col>Class</th><th scope=col>Order</th><th scope=col>Family</th><th scope=col>Genus</th><th scope=col>Species</th></tr>\n",
       "\t<tr><th scope=col>&lt;chr&gt;</th><th scope=col>&lt;dbl&gt;</th><th scope=col>&lt;dbl&gt;</th><th scope=col>&lt;chr&gt;</th><th scope=col>&lt;chr&gt;</th><th scope=col>&lt;chr&gt;</th><th scope=col>&lt;chr&gt;</th><th scope=col>&lt;chr&gt;</th><th scope=col>&lt;chr&gt;</th><th scope=col>&lt;int&gt;</th><th scope=col>⋯</th><th scope=col>&lt;int&gt;</th><th scope=col>&lt;int&gt;</th><th scope=col>&lt;int&gt;</th><th scope=col>&lt;chr&gt;</th><th scope=col>&lt;chr&gt;</th><th scope=col>&lt;chr&gt;</th><th scope=col>&lt;chr&gt;</th><th scope=col>&lt;chr&gt;</th><th scope=col>&lt;chr&gt;</th><th scope=col>&lt;chr&gt;</th></tr>\n",
       "</thead>\n",
       "<tbody>\n",
       "\t<tr><td>GB_GCA_000200715.1</td><td> 99.03</td><td>0</td><td>t</td><td>f</td><td>f</td><td>Chromosome     </td><td>derived from environmental sample</td><td>GCA_000200715.1</td><td> 340809</td><td>⋯</td><td>2045086</td><td>1281157</td><td>1</td><td>Archaea</td><td>Thermoproteota</td><td>Nitrososphaeria</td><td>Nitrososphaerales</td><td>Nitrosopumilaceae</td><td>Cenarchaeum</td><td>Cenarchaeum symbiosum</td></tr>\n",
       "\t<tr><td>GB_GCA_000247545.1</td><td>100.00</td><td>0</td><td>f</td><td>t</td><td>f</td><td>Complete Genome</td><td>none                             </td><td>GCA_000247545.1</td><td>1226460</td><td>⋯</td><td>2452920</td><td>2436033</td><td>2</td><td>Archaea</td><td>Thermoproteota</td><td>Thermoproteia  </td><td>Thermoproteales  </td><td>Thermoproteaceae </td><td>Pyrobaculum</td><td>Pyrobaculum oguniense</td></tr>\n",
       "\t<tr><td>⋮</td><td>⋮</td><td>⋮</td><td>⋮</td><td>⋮</td><td>⋮</td><td>⋮</td><td>⋮</td><td>⋮</td><td>⋮</td><td>⋱</td><td>⋮</td><td>⋮</td><td>⋮</td><td>⋮</td><td>⋮</td><td>⋮</td><td>⋮</td><td>⋮</td><td>⋮</td><td>⋮</td></tr>\n",
       "\t<tr><td>RS_GCF_903986495.1</td><td>99.45</td><td>0.13</td><td>f</td><td>t</td><td>f</td><td>Contig</td><td>none</td><td>GCA_903986495.1</td><td>98137</td><td>⋯</td><td>2453425</td><td>178692</td><td>2</td><td>Bacteria</td><td>Actinobacteriota</td><td>Actinomycetia      </td><td>Mycobacteriales </td><td>Mycobacteriaceae</td><td>Corynebacterium</td><td>Corynebacterium diphtheriae</td></tr>\n",
       "\t<tr><td>RS_GCF_903986995.1</td><td>99.72</td><td>0.60</td><td>f</td><td>t</td><td>f</td><td>Contig</td><td>none</td><td>GCA_903986995.1</td><td>52797</td><td>⋯</td><td>5174169</td><td>492004</td><td>8</td><td>Bacteria</td><td>Proteobacteria  </td><td>Gammaproteobacteria</td><td>Enterobacterales</td><td>Vibrionaceae    </td><td>Vibrio         </td><td>Vibrio diabolicus          </td></tr>\n",
       "</tbody>\n",
       "</table>\n"
      ],
      "text/latex": [
       "A tidytable: 258406 × 23\n",
       "\\begin{tabular}{lllllllllllllllllllll}\n",
       " accession & checkm\\_completeness & checkm\\_contamination & mimag\\_high\\_quality & mimag\\_medium\\_quality & mimag\\_low\\_quality & ncbi\\_assembly\\_level & ncbi\\_genome\\_category & ncbi\\_genbank\\_assembly\\_accession & mean\\_contig\\_length & ⋯ & genome\\_size & n50\\_contigs & ssu\\_count & Domain & Phylum & Class & Order & Family & Genus & Species\\\\\n",
       " <chr> & <dbl> & <dbl> & <chr> & <chr> & <chr> & <chr> & <chr> & <chr> & <int> & ⋯ & <int> & <int> & <int> & <chr> & <chr> & <chr> & <chr> & <chr> & <chr> & <chr>\\\\\n",
       "\\hline\n",
       "\t GB\\_GCA\\_000200715.1 &  99.03 & 0 & t & f & f & Chromosome      & derived from environmental sample & GCA\\_000200715.1 &  340809 & ⋯ & 2045086 & 1281157 & 1 & Archaea & Thermoproteota & Nitrososphaeria & Nitrososphaerales & Nitrosopumilaceae & Cenarchaeum & Cenarchaeum symbiosum\\\\\n",
       "\t GB\\_GCA\\_000247545.1 & 100.00 & 0 & f & t & f & Complete Genome & none                              & GCA\\_000247545.1 & 1226460 & ⋯ & 2452920 & 2436033 & 2 & Archaea & Thermoproteota & Thermoproteia   & Thermoproteales   & Thermoproteaceae  & Pyrobaculum & Pyrobaculum oguniense\\\\\n",
       "\t ⋮ & ⋮ & ⋮ & ⋮ & ⋮ & ⋮ & ⋮ & ⋮ & ⋮ & ⋮ & ⋱ & ⋮ & ⋮ & ⋮ & ⋮ & ⋮ & ⋮ & ⋮ & ⋮ & ⋮ & ⋮\\\\\n",
       "\t RS\\_GCF\\_903986495.1 & 99.45 & 0.13 & f & t & f & Contig & none & GCA\\_903986495.1 & 98137 & ⋯ & 2453425 & 178692 & 2 & Bacteria & Actinobacteriota & Actinomycetia       & Mycobacteriales  & Mycobacteriaceae & Corynebacterium & Corynebacterium diphtheriae\\\\\n",
       "\t RS\\_GCF\\_903986995.1 & 99.72 & 0.60 & f & t & f & Contig & none & GCA\\_903986995.1 & 52797 & ⋯ & 5174169 & 492004 & 8 & Bacteria & Proteobacteria   & Gammaproteobacteria & Enterobacterales & Vibrionaceae     & Vibrio          & Vibrio diabolicus          \\\\\n",
       "\\end{tabular}\n"
      ],
      "text/markdown": [
       "\n",
       "A tidytable: 258406 × 23\n",
       "\n",
       "| accession &lt;chr&gt; | checkm_completeness &lt;dbl&gt; | checkm_contamination &lt;dbl&gt; | mimag_high_quality &lt;chr&gt; | mimag_medium_quality &lt;chr&gt; | mimag_low_quality &lt;chr&gt; | ncbi_assembly_level &lt;chr&gt; | ncbi_genome_category &lt;chr&gt; | ncbi_genbank_assembly_accession &lt;chr&gt; | mean_contig_length &lt;int&gt; | ⋯ ⋯ | genome_size &lt;int&gt; | n50_contigs &lt;int&gt; | ssu_count &lt;int&gt; | Domain &lt;chr&gt; | Phylum &lt;chr&gt; | Class &lt;chr&gt; | Order &lt;chr&gt; | Family &lt;chr&gt; | Genus &lt;chr&gt; | Species &lt;chr&gt; |\n",
       "|---|---|---|---|---|---|---|---|---|---|---|---|---|---|---|---|---|---|---|---|---|\n",
       "| GB_GCA_000200715.1 |  99.03 | 0 | t | f | f | Chromosome      | derived from environmental sample | GCA_000200715.1 |  340809 | ⋯ | 2045086 | 1281157 | 1 | Archaea | Thermoproteota | Nitrososphaeria | Nitrososphaerales | Nitrosopumilaceae | Cenarchaeum | Cenarchaeum symbiosum |\n",
       "| GB_GCA_000247545.1 | 100.00 | 0 | f | t | f | Complete Genome | none                              | GCA_000247545.1 | 1226460 | ⋯ | 2452920 | 2436033 | 2 | Archaea | Thermoproteota | Thermoproteia   | Thermoproteales   | Thermoproteaceae  | Pyrobaculum | Pyrobaculum oguniense |\n",
       "| ⋮ | ⋮ | ⋮ | ⋮ | ⋮ | ⋮ | ⋮ | ⋮ | ⋮ | ⋮ | ⋱ | ⋮ | ⋮ | ⋮ | ⋮ | ⋮ | ⋮ | ⋮ | ⋮ | ⋮ | ⋮ |\n",
       "| RS_GCF_903986495.1 | 99.45 | 0.13 | f | t | f | Contig | none | GCA_903986495.1 | 98137 | ⋯ | 2453425 | 178692 | 2 | Bacteria | Actinobacteriota | Actinomycetia       | Mycobacteriales  | Mycobacteriaceae | Corynebacterium | Corynebacterium diphtheriae |\n",
       "| RS_GCF_903986995.1 | 99.72 | 0.60 | f | t | f | Contig | none | GCA_903986995.1 | 52797 | ⋯ | 5174169 | 492004 | 8 | Bacteria | Proteobacteria   | Gammaproteobacteria | Enterobacterales | Vibrionaceae     | Vibrio          | Vibrio diabolicus           |\n",
       "\n"
      ],
      "text/plain": [
       "       accession          checkm_completeness checkm_contamination\n",
       "1      GB_GCA_000200715.1  99.03              0                   \n",
       "2      GB_GCA_000247545.1 100.00              0                   \n",
       "⋮      ⋮                  ⋮                   ⋮                   \n",
       "258405 RS_GCF_903986495.1 99.45               0.13                \n",
       "258406 RS_GCF_903986995.1 99.72               0.60                \n",
       "       mimag_high_quality mimag_medium_quality mimag_low_quality\n",
       "1      t                  f                    f                \n",
       "2      f                  t                    f                \n",
       "⋮      ⋮                  ⋮                    ⋮                \n",
       "258405 f                  t                    f                \n",
       "258406 f                  t                    f                \n",
       "       ncbi_assembly_level ncbi_genome_category             \n",
       "1      Chromosome          derived from environmental sample\n",
       "2      Complete Genome     none                             \n",
       "⋮      ⋮                   ⋮                                \n",
       "258405 Contig              none                             \n",
       "258406 Contig              none                             \n",
       "       ncbi_genbank_assembly_accession mean_contig_length ⋯ genome_size\n",
       "1      GCA_000200715.1                  340809            ⋯ 2045086    \n",
       "2      GCA_000247545.1                 1226460            ⋯ 2452920    \n",
       "⋮      ⋮                               ⋮                  ⋱ ⋮          \n",
       "258405 GCA_903986495.1                 98137              ⋯ 2453425    \n",
       "258406 GCA_903986995.1                 52797              ⋯ 5174169    \n",
       "       n50_contigs ssu_count Domain   Phylum           Class              \n",
       "1      1281157     1         Archaea  Thermoproteota   Nitrososphaeria    \n",
       "2      2436033     2         Archaea  Thermoproteota   Thermoproteia      \n",
       "⋮      ⋮           ⋮         ⋮        ⋮                ⋮                  \n",
       "258405 178692      2         Bacteria Actinobacteriota Actinomycetia      \n",
       "258406 492004      8         Bacteria Proteobacteria   Gammaproteobacteria\n",
       "       Order             Family            Genus          \n",
       "1      Nitrososphaerales Nitrosopumilaceae Cenarchaeum    \n",
       "2      Thermoproteales   Thermoproteaceae  Pyrobaculum    \n",
       "⋮      ⋮                 ⋮                 ⋮              \n",
       "258405 Mycobacteriales   Mycobacteriaceae  Corynebacterium\n",
       "258406 Enterobacterales  Vibrionaceae      Vibrio         \n",
       "       Species                    \n",
       "1      Cenarchaeum symbiosum      \n",
       "2      Pyrobaculum oguniense      \n",
       "⋮      ⋮                          \n",
       "258405 Corynebacterium diphtheriae\n",
       "258406 Vibrio diabolicus          "
      ]
     },
     "metadata": {},
     "output_type": "display_data"
    }
   ],
   "source": [
    "# GTDB taxonomy\n",
    "meta = meta %>%\n",
    "    mutate.(gtdb_taxonomy = gsub(';[pcofgs]__', ';', gtdb_taxonomy),\n",
    "            gtdb_taxonomy = gsub('^d__', '', gtdb_taxonomy)) %>%\n",
    "    separate.(gtdb_taxonomy, taxonomy_levels(), sep=';')\n",
    "meta"
   ]
  },
  {
   "cell_type": "markdown",
   "id": "2eb8339d",
   "metadata": {},
   "source": [
    "# checkM"
   ]
  },
  {
   "cell_type": "code",
   "execution_count": 7,
   "id": "a2995b1b",
   "metadata": {
    "ExecuteTime": {
     "end_time": "2021-08-17T13:46:14.429808Z",
     "start_time": "2021-08-17T13:46:00.705Z"
    }
   },
   "outputs": [
    {
     "data": {
      "text/html": [
       "<table class=\"dataframe\">\n",
       "<caption>A matrix: 1 × 8 of type dbl</caption>\n",
       "<thead>\n",
       "\t<tr><th></th><th scope=col>Min.</th><th scope=col>1st Qu.</th><th scope=col>Median</th><th scope=col>Mean</th><th scope=col>3rd Qu.</th><th scope=col>Max.</th><th scope=col>sd</th><th scope=col>sd_err_of_mean</th></tr>\n",
       "</thead>\n",
       "<tbody>\n",
       "\t<tr><th scope=row>checkm_completeness</th><td>18.13</td><td>98.51</td><td>99.51</td><td>96.30877</td><td>99.94</td><td>100</td><td>32.984</td><td>13.466</td></tr>\n",
       "</tbody>\n",
       "</table>\n"
      ],
      "text/latex": [
       "A matrix: 1 × 8 of type dbl\n",
       "\\begin{tabular}{r|llllllll}\n",
       "  & Min. & 1st Qu. & Median & Mean & 3rd Qu. & Max. & sd & sd\\_err\\_of\\_mean\\\\\n",
       "\\hline\n",
       "\tcheckm\\_completeness & 18.13 & 98.51 & 99.51 & 96.30877 & 99.94 & 100 & 32.984 & 13.466\\\\\n",
       "\\end{tabular}\n"
      ],
      "text/markdown": [
       "\n",
       "A matrix: 1 × 8 of type dbl\n",
       "\n",
       "| <!--/--> | Min. | 1st Qu. | Median | Mean | 3rd Qu. | Max. | sd | sd_err_of_mean |\n",
       "|---|---|---|---|---|---|---|---|---|\n",
       "| checkm_completeness | 18.13 | 98.51 | 99.51 | 96.30877 | 99.94 | 100 | 32.984 | 13.466 |\n",
       "\n"
      ],
      "text/plain": [
       "                    Min.  1st Qu. Median Mean     3rd Qu. Max. sd    \n",
       "checkm_completeness 18.13 98.51   99.51  96.30877 99.94   100  32.984\n",
       "                    sd_err_of_mean\n",
       "checkm_completeness 13.466        "
      ]
     },
     "metadata": {},
     "output_type": "display_data"
    },
    {
     "data": {
      "text/html": [
       "<table class=\"dataframe\">\n",
       "<caption>A matrix: 1 × 8 of type dbl</caption>\n",
       "<thead>\n",
       "\t<tr><th></th><th scope=col>Min.</th><th scope=col>1st Qu.</th><th scope=col>Median</th><th scope=col>Mean</th><th scope=col>3rd Qu.</th><th scope=col>Max.</th><th scope=col>sd</th><th scope=col>sd_err_of_mean</th></tr>\n",
       "</thead>\n",
       "<tbody>\n",
       "\t<tr><th scope=row>checkm_contamination</th><td>0</td><td>0.06</td><td>0.33</td><td>0.7517892</td><td>0.89</td><td>46.77</td><td>18.931</td><td>7.729</td></tr>\n",
       "</tbody>\n",
       "</table>\n"
      ],
      "text/latex": [
       "A matrix: 1 × 8 of type dbl\n",
       "\\begin{tabular}{r|llllllll}\n",
       "  & Min. & 1st Qu. & Median & Mean & 3rd Qu. & Max. & sd & sd\\_err\\_of\\_mean\\\\\n",
       "\\hline\n",
       "\tcheckm\\_contamination & 0 & 0.06 & 0.33 & 0.7517892 & 0.89 & 46.77 & 18.931 & 7.729\\\\\n",
       "\\end{tabular}\n"
      ],
      "text/markdown": [
       "\n",
       "A matrix: 1 × 8 of type dbl\n",
       "\n",
       "| <!--/--> | Min. | 1st Qu. | Median | Mean | 3rd Qu. | Max. | sd | sd_err_of_mean |\n",
       "|---|---|---|---|---|---|---|---|---|\n",
       "| checkm_contamination | 0 | 0.06 | 0.33 | 0.7517892 | 0.89 | 46.77 | 18.931 | 7.729 |\n",
       "\n"
      ],
      "text/plain": [
       "                     Min. 1st Qu. Median Mean      3rd Qu. Max.  sd    \n",
       "checkm_contamination 0    0.06    0.33   0.7517892 0.89    46.77 18.931\n",
       "                     sd_err_of_mean\n",
       "checkm_contamination 7.729         "
      ]
     },
     "metadata": {},
     "output_type": "display_data"
    }
   ],
   "source": [
    "summary_x(meta$checkm_completeness)\n",
    "summary_x(meta$checkm_contamination)"
   ]
  },
  {
   "cell_type": "markdown",
   "id": "b27957a9",
   "metadata": {},
   "source": [
    "# gtdb-tk"
   ]
  },
  {
   "cell_type": "code",
   "execution_count": 8,
   "id": "ef03c7fc",
   "metadata": {
    "ExecuteTime": {
     "end_time": "2021-08-17T13:46:14.463475Z",
     "start_time": "2021-08-17T13:46:00.711Z"
    }
   },
   "outputs": [
    {
     "data": {
      "text/html": [
       "<table class=\"dataframe\">\n",
       "<caption>A matrix: 1 × 8 of type dbl</caption>\n",
       "<thead>\n",
       "\t<tr><th></th><th scope=col>Min.</th><th scope=col>1st Qu.</th><th scope=col>Median</th><th scope=col>Mean</th><th scope=col>3rd Qu.</th><th scope=col>Max.</th><th scope=col>sd</th><th scope=col>sd_err_of_mean</th></tr>\n",
       "</thead>\n",
       "<tbody>\n",
       "\t<tr><th scope=row>No. of genomes per Phylum</th><td>1</td><td>4</td><td>14</td><td>1529.03</td><td>85</td><td>120757</td><td>49169.19</td><td>20073.24</td></tr>\n",
       "</tbody>\n",
       "</table>\n"
      ],
      "text/latex": [
       "A matrix: 1 × 8 of type dbl\n",
       "\\begin{tabular}{r|llllllll}\n",
       "  & Min. & 1st Qu. & Median & Mean & 3rd Qu. & Max. & sd & sd\\_err\\_of\\_mean\\\\\n",
       "\\hline\n",
       "\tNo. of genomes per Phylum & 1 & 4 & 14 & 1529.03 & 85 & 120757 & 49169.19 & 20073.24\\\\\n",
       "\\end{tabular}\n"
      ],
      "text/markdown": [
       "\n",
       "A matrix: 1 × 8 of type dbl\n",
       "\n",
       "| <!--/--> | Min. | 1st Qu. | Median | Mean | 3rd Qu. | Max. | sd | sd_err_of_mean |\n",
       "|---|---|---|---|---|---|---|---|---|\n",
       "| No. of genomes per Phylum | 1 | 4 | 14 | 1529.03 | 85 | 120757 | 49169.19 | 20073.24 |\n",
       "\n"
      ],
      "text/plain": [
       "                          Min. 1st Qu. Median Mean    3rd Qu. Max.   sd      \n",
       "No. of genomes per Phylum 1    4       14     1529.03 85      120757 49169.19\n",
       "                          sd_err_of_mean\n",
       "No. of genomes per Phylum 20073.24      "
      ]
     },
     "metadata": {},
     "output_type": "display_data"
    }
   ],
   "source": [
    "# summary\n",
    "meta %>%\n",
    "    summarize.(n=n.(),\n",
    "               .by=c(Phylum)) %>%\n",
    "    summary_x('No. of genomes per Phylum', n)"
   ]
  },
  {
   "cell_type": "code",
   "execution_count": 9,
   "id": "0e7dbc48",
   "metadata": {
    "ExecuteTime": {
     "end_time": "2021-08-17T13:46:14.567967Z",
     "start_time": "2021-08-17T13:46:00.715Z"
    }
   },
   "outputs": [
    {
     "data": {
      "text/html": [
       "<table class=\"dataframe\">\n",
       "<caption>A matrix: 1 × 8 of type dbl</caption>\n",
       "<thead>\n",
       "\t<tr><th></th><th scope=col>Min.</th><th scope=col>1st Qu.</th><th scope=col>Median</th><th scope=col>Mean</th><th scope=col>3rd Qu.</th><th scope=col>Max.</th><th scope=col>sd</th><th scope=col>sd_err_of_mean</th></tr>\n",
       "</thead>\n",
       "<tbody>\n",
       "\t<tr><th scope=row>No. of genomes per species</th><td>1</td><td>1</td><td>1</td><td>5.395373</td><td>2</td><td>14743</td><td>6017.956</td><td>2456.82</td></tr>\n",
       "</tbody>\n",
       "</table>\n"
      ],
      "text/latex": [
       "A matrix: 1 × 8 of type dbl\n",
       "\\begin{tabular}{r|llllllll}\n",
       "  & Min. & 1st Qu. & Median & Mean & 3rd Qu. & Max. & sd & sd\\_err\\_of\\_mean\\\\\n",
       "\\hline\n",
       "\tNo. of genomes per species & 1 & 1 & 1 & 5.395373 & 2 & 14743 & 6017.956 & 2456.82\\\\\n",
       "\\end{tabular}\n"
      ],
      "text/markdown": [
       "\n",
       "A matrix: 1 × 8 of type dbl\n",
       "\n",
       "| <!--/--> | Min. | 1st Qu. | Median | Mean | 3rd Qu. | Max. | sd | sd_err_of_mean |\n",
       "|---|---|---|---|---|---|---|---|---|\n",
       "| No. of genomes per species | 1 | 1 | 1 | 5.395373 | 2 | 14743 | 6017.956 | 2456.82 |\n",
       "\n"
      ],
      "text/plain": [
       "                           Min. 1st Qu. Median Mean     3rd Qu. Max.  sd      \n",
       "No. of genomes per species 1    1       1      5.395373 2       14743 6017.956\n",
       "                           sd_err_of_mean\n",
       "No. of genomes per species 2456.82       "
      ]
     },
     "metadata": {},
     "output_type": "display_data"
    }
   ],
   "source": [
    "# summary\n",
    "meta %>%\n",
    "    summarize.(n=n.(),\n",
    "               .by=c(Phylum, Class, Order, Family, Genus, Species)) %>%\n",
    "    summary_x('No. of genomes per species', n)"
   ]
  },
  {
   "cell_type": "markdown",
   "id": "7acf3778",
   "metadata": {},
   "source": [
    "# Filtering"
   ]
  },
  {
   "cell_type": "markdown",
   "id": "cfe5ec19",
   "metadata": {},
   "source": [
    "## CheckM quality"
   ]
  },
  {
   "cell_type": "code",
   "execution_count": 10,
   "id": "33bcd20a",
   "metadata": {
    "ExecuteTime": {
     "end_time": "2021-08-17T13:46:14.935972Z",
     "start_time": "2021-08-17T13:46:00.723Z"
    }
   },
   "outputs": [
    {
     "data": {
      "text/html": [
       "<table class=\"dataframe\">\n",
       "<caption>A tidytable: 224823 × 23</caption>\n",
       "<thead>\n",
       "\t<tr><th scope=col>accession</th><th scope=col>checkm_completeness</th><th scope=col>checkm_contamination</th><th scope=col>mimag_high_quality</th><th scope=col>mimag_medium_quality</th><th scope=col>mimag_low_quality</th><th scope=col>ncbi_assembly_level</th><th scope=col>ncbi_genome_category</th><th scope=col>ncbi_genbank_assembly_accession</th><th scope=col>mean_contig_length</th><th scope=col>⋯</th><th scope=col>genome_size</th><th scope=col>n50_contigs</th><th scope=col>ssu_count</th><th scope=col>Domain</th><th scope=col>Phylum</th><th scope=col>Class</th><th scope=col>Order</th><th scope=col>Family</th><th scope=col>Genus</th><th scope=col>Species</th></tr>\n",
       "\t<tr><th scope=col>&lt;chr&gt;</th><th scope=col>&lt;dbl&gt;</th><th scope=col>&lt;dbl&gt;</th><th scope=col>&lt;chr&gt;</th><th scope=col>&lt;chr&gt;</th><th scope=col>&lt;chr&gt;</th><th scope=col>&lt;chr&gt;</th><th scope=col>&lt;chr&gt;</th><th scope=col>&lt;chr&gt;</th><th scope=col>&lt;int&gt;</th><th scope=col>⋯</th><th scope=col>&lt;int&gt;</th><th scope=col>&lt;int&gt;</th><th scope=col>&lt;int&gt;</th><th scope=col>&lt;chr&gt;</th><th scope=col>&lt;chr&gt;</th><th scope=col>&lt;chr&gt;</th><th scope=col>&lt;chr&gt;</th><th scope=col>&lt;chr&gt;</th><th scope=col>&lt;chr&gt;</th><th scope=col>&lt;chr&gt;</th></tr>\n",
       "</thead>\n",
       "<tbody>\n",
       "\t<tr><td>GB_GCA_000200715.1</td><td> 99.03</td><td>0</td><td>t</td><td>f</td><td>f</td><td>Chromosome     </td><td>derived from environmental sample</td><td>GCA_000200715.1</td><td> 340809</td><td>⋯</td><td>2045086</td><td>1281157</td><td>1</td><td>Archaea</td><td>Thermoproteota</td><td>Nitrososphaeria</td><td>Nitrososphaerales</td><td>Nitrosopumilaceae</td><td>Cenarchaeum</td><td>Cenarchaeum symbiosum</td></tr>\n",
       "\t<tr><td>GB_GCA_000247545.1</td><td>100.00</td><td>0</td><td>f</td><td>t</td><td>f</td><td>Complete Genome</td><td>none                             </td><td>GCA_000247545.1</td><td>1226460</td><td>⋯</td><td>2452920</td><td>2436033</td><td>2</td><td>Archaea</td><td>Thermoproteota</td><td>Thermoproteia  </td><td>Thermoproteales  </td><td>Thermoproteaceae </td><td>Pyrobaculum</td><td>Pyrobaculum oguniense</td></tr>\n",
       "\t<tr><td>⋮</td><td>⋮</td><td>⋮</td><td>⋮</td><td>⋮</td><td>⋮</td><td>⋮</td><td>⋮</td><td>⋮</td><td>⋮</td><td>⋱</td><td>⋮</td><td>⋮</td><td>⋮</td><td>⋮</td><td>⋮</td><td>⋮</td><td>⋮</td><td>⋮</td><td>⋮</td><td>⋮</td></tr>\n",
       "\t<tr><td>RS_GCF_903986495.1</td><td>99.45</td><td>0.13</td><td>f</td><td>t</td><td>f</td><td>Contig</td><td>none</td><td>GCA_903986495.1</td><td>98137</td><td>⋯</td><td>2453425</td><td>178692</td><td>2</td><td>Bacteria</td><td>Actinobacteriota</td><td>Actinomycetia      </td><td>Mycobacteriales </td><td>Mycobacteriaceae</td><td>Corynebacterium</td><td>Corynebacterium diphtheriae</td></tr>\n",
       "\t<tr><td>RS_GCF_903986995.1</td><td>99.72</td><td>0.60</td><td>f</td><td>t</td><td>f</td><td>Contig</td><td>none</td><td>GCA_903986995.1</td><td>52797</td><td>⋯</td><td>5174169</td><td>492004</td><td>8</td><td>Bacteria</td><td>Proteobacteria  </td><td>Gammaproteobacteria</td><td>Enterobacterales</td><td>Vibrionaceae    </td><td>Vibrio         </td><td>Vibrio diabolicus          </td></tr>\n",
       "</tbody>\n",
       "</table>\n"
      ],
      "text/latex": [
       "A tidytable: 224823 × 23\n",
       "\\begin{tabular}{lllllllllllllllllllll}\n",
       " accession & checkm\\_completeness & checkm\\_contamination & mimag\\_high\\_quality & mimag\\_medium\\_quality & mimag\\_low\\_quality & ncbi\\_assembly\\_level & ncbi\\_genome\\_category & ncbi\\_genbank\\_assembly\\_accession & mean\\_contig\\_length & ⋯ & genome\\_size & n50\\_contigs & ssu\\_count & Domain & Phylum & Class & Order & Family & Genus & Species\\\\\n",
       " <chr> & <dbl> & <dbl> & <chr> & <chr> & <chr> & <chr> & <chr> & <chr> & <int> & ⋯ & <int> & <int> & <int> & <chr> & <chr> & <chr> & <chr> & <chr> & <chr> & <chr>\\\\\n",
       "\\hline\n",
       "\t GB\\_GCA\\_000200715.1 &  99.03 & 0 & t & f & f & Chromosome      & derived from environmental sample & GCA\\_000200715.1 &  340809 & ⋯ & 2045086 & 1281157 & 1 & Archaea & Thermoproteota & Nitrososphaeria & Nitrososphaerales & Nitrosopumilaceae & Cenarchaeum & Cenarchaeum symbiosum\\\\\n",
       "\t GB\\_GCA\\_000247545.1 & 100.00 & 0 & f & t & f & Complete Genome & none                              & GCA\\_000247545.1 & 1226460 & ⋯ & 2452920 & 2436033 & 2 & Archaea & Thermoproteota & Thermoproteia   & Thermoproteales   & Thermoproteaceae  & Pyrobaculum & Pyrobaculum oguniense\\\\\n",
       "\t ⋮ & ⋮ & ⋮ & ⋮ & ⋮ & ⋮ & ⋮ & ⋮ & ⋮ & ⋮ & ⋱ & ⋮ & ⋮ & ⋮ & ⋮ & ⋮ & ⋮ & ⋮ & ⋮ & ⋮ & ⋮\\\\\n",
       "\t RS\\_GCF\\_903986495.1 & 99.45 & 0.13 & f & t & f & Contig & none & GCA\\_903986495.1 & 98137 & ⋯ & 2453425 & 178692 & 2 & Bacteria & Actinobacteriota & Actinomycetia       & Mycobacteriales  & Mycobacteriaceae & Corynebacterium & Corynebacterium diphtheriae\\\\\n",
       "\t RS\\_GCF\\_903986995.1 & 99.72 & 0.60 & f & t & f & Contig & none & GCA\\_903986995.1 & 52797 & ⋯ & 5174169 & 492004 & 8 & Bacteria & Proteobacteria   & Gammaproteobacteria & Enterobacterales & Vibrionaceae     & Vibrio          & Vibrio diabolicus          \\\\\n",
       "\\end{tabular}\n"
      ],
      "text/markdown": [
       "\n",
       "A tidytable: 224823 × 23\n",
       "\n",
       "| accession &lt;chr&gt; | checkm_completeness &lt;dbl&gt; | checkm_contamination &lt;dbl&gt; | mimag_high_quality &lt;chr&gt; | mimag_medium_quality &lt;chr&gt; | mimag_low_quality &lt;chr&gt; | ncbi_assembly_level &lt;chr&gt; | ncbi_genome_category &lt;chr&gt; | ncbi_genbank_assembly_accession &lt;chr&gt; | mean_contig_length &lt;int&gt; | ⋯ ⋯ | genome_size &lt;int&gt; | n50_contigs &lt;int&gt; | ssu_count &lt;int&gt; | Domain &lt;chr&gt; | Phylum &lt;chr&gt; | Class &lt;chr&gt; | Order &lt;chr&gt; | Family &lt;chr&gt; | Genus &lt;chr&gt; | Species &lt;chr&gt; |\n",
       "|---|---|---|---|---|---|---|---|---|---|---|---|---|---|---|---|---|---|---|---|---|\n",
       "| GB_GCA_000200715.1 |  99.03 | 0 | t | f | f | Chromosome      | derived from environmental sample | GCA_000200715.1 |  340809 | ⋯ | 2045086 | 1281157 | 1 | Archaea | Thermoproteota | Nitrososphaeria | Nitrososphaerales | Nitrosopumilaceae | Cenarchaeum | Cenarchaeum symbiosum |\n",
       "| GB_GCA_000247545.1 | 100.00 | 0 | f | t | f | Complete Genome | none                              | GCA_000247545.1 | 1226460 | ⋯ | 2452920 | 2436033 | 2 | Archaea | Thermoproteota | Thermoproteia   | Thermoproteales   | Thermoproteaceae  | Pyrobaculum | Pyrobaculum oguniense |\n",
       "| ⋮ | ⋮ | ⋮ | ⋮ | ⋮ | ⋮ | ⋮ | ⋮ | ⋮ | ⋮ | ⋱ | ⋮ | ⋮ | ⋮ | ⋮ | ⋮ | ⋮ | ⋮ | ⋮ | ⋮ | ⋮ |\n",
       "| RS_GCF_903986495.1 | 99.45 | 0.13 | f | t | f | Contig | none | GCA_903986495.1 | 98137 | ⋯ | 2453425 | 178692 | 2 | Bacteria | Actinobacteriota | Actinomycetia       | Mycobacteriales  | Mycobacteriaceae | Corynebacterium | Corynebacterium diphtheriae |\n",
       "| RS_GCF_903986995.1 | 99.72 | 0.60 | f | t | f | Contig | none | GCA_903986995.1 | 52797 | ⋯ | 5174169 | 492004 | 8 | Bacteria | Proteobacteria   | Gammaproteobacteria | Enterobacterales | Vibrionaceae     | Vibrio          | Vibrio diabolicus           |\n",
       "\n"
      ],
      "text/plain": [
       "       accession          checkm_completeness checkm_contamination\n",
       "1      GB_GCA_000200715.1  99.03              0                   \n",
       "2      GB_GCA_000247545.1 100.00              0                   \n",
       "⋮      ⋮                  ⋮                   ⋮                   \n",
       "224822 RS_GCF_903986495.1 99.45               0.13                \n",
       "224823 RS_GCF_903986995.1 99.72               0.60                \n",
       "       mimag_high_quality mimag_medium_quality mimag_low_quality\n",
       "1      t                  f                    f                \n",
       "2      f                  t                    f                \n",
       "⋮      ⋮                  ⋮                    ⋮                \n",
       "224822 f                  t                    f                \n",
       "224823 f                  t                    f                \n",
       "       ncbi_assembly_level ncbi_genome_category             \n",
       "1      Chromosome          derived from environmental sample\n",
       "2      Complete Genome     none                             \n",
       "⋮      ⋮                   ⋮                                \n",
       "224822 Contig              none                             \n",
       "224823 Contig              none                             \n",
       "       ncbi_genbank_assembly_accession mean_contig_length ⋯ genome_size\n",
       "1      GCA_000200715.1                  340809            ⋯ 2045086    \n",
       "2      GCA_000247545.1                 1226460            ⋯ 2452920    \n",
       "⋮      ⋮                               ⋮                  ⋱ ⋮          \n",
       "224822 GCA_903986495.1                 98137              ⋯ 2453425    \n",
       "224823 GCA_903986995.1                 52797              ⋯ 5174169    \n",
       "       n50_contigs ssu_count Domain   Phylum           Class              \n",
       "1      1281157     1         Archaea  Thermoproteota   Nitrososphaeria    \n",
       "2      2436033     2         Archaea  Thermoproteota   Thermoproteia      \n",
       "⋮      ⋮           ⋮         ⋮        ⋮                ⋮                  \n",
       "224822 178692      2         Bacteria Actinobacteriota Actinomycetia      \n",
       "224823 492004      8         Bacteria Proteobacteria   Gammaproteobacteria\n",
       "       Order             Family            Genus          \n",
       "1      Nitrososphaerales Nitrosopumilaceae Cenarchaeum    \n",
       "2      Thermoproteales   Thermoproteaceae  Pyrobaculum    \n",
       "⋮      ⋮                 ⋮                 ⋮              \n",
       "224822 Mycobacteriales   Mycobacteriaceae  Corynebacterium\n",
       "224823 Enterobacterales  Vibrionaceae      Vibrio         \n",
       "       Species                    \n",
       "1      Cenarchaeum symbiosum      \n",
       "2      Pyrobaculum oguniense      \n",
       "⋮      ⋮                          \n",
       "224822 Corynebacterium diphtheriae\n",
       "224823 Vibrio diabolicus          "
      ]
     },
     "metadata": {},
     "output_type": "display_data"
    }
   ],
   "source": [
    "meta_f = meta %>%\n",
    "    filter.(checkm_completeness >= 90,\n",
    "            checkm_contamination < 5)\n",
    "meta_f "
   ]
  },
  {
   "cell_type": "markdown",
   "id": "05f766ac",
   "metadata": {},
   "source": [
    "## MiMAG quality"
   ]
  },
  {
   "cell_type": "code",
   "execution_count": 11,
   "id": "fe2f6337",
   "metadata": {
    "ExecuteTime": {
     "end_time": "2021-08-17T13:46:14.992986Z",
     "start_time": "2021-08-17T13:46:00.727Z"
    }
   },
   "outputs": [
    {
     "data": {
      "text/plain": [
       ".\n",
       "     f      t \n",
       " 92935 131888 "
      ]
     },
     "metadata": {},
     "output_type": "display_data"
    },
    {
     "data": {
      "text/plain": [
       ".\n",
       "     f      t \n",
       "131888  92935 "
      ]
     },
     "metadata": {},
     "output_type": "display_data"
    },
    {
     "data": {
      "text/plain": [
       ".\n",
       "     f \n",
       "224823 "
      ]
     },
     "metadata": {},
     "output_type": "display_data"
    }
   ],
   "source": [
    "meta_f$mimag_high_quality %>% table\n",
    "meta_f$mimag_medium_quality %>% table\n",
    "meta_f$mimag_low_quality %>% table"
   ]
  },
  {
   "cell_type": "code",
   "execution_count": 12,
   "id": "a8531eb8",
   "metadata": {
    "ExecuteTime": {
     "end_time": "2021-08-17T13:46:15.062561Z",
     "start_time": "2021-08-17T13:46:00.733Z"
    }
   },
   "outputs": [
    {
     "data": {
      "text/html": [
       "<table class=\"dataframe\">\n",
       "<caption>A tidytable: 131888 × 23</caption>\n",
       "<thead>\n",
       "\t<tr><th scope=col>accession</th><th scope=col>checkm_completeness</th><th scope=col>checkm_contamination</th><th scope=col>mimag_high_quality</th><th scope=col>mimag_medium_quality</th><th scope=col>mimag_low_quality</th><th scope=col>ncbi_assembly_level</th><th scope=col>ncbi_genome_category</th><th scope=col>ncbi_genbank_assembly_accession</th><th scope=col>mean_contig_length</th><th scope=col>⋯</th><th scope=col>genome_size</th><th scope=col>n50_contigs</th><th scope=col>ssu_count</th><th scope=col>Domain</th><th scope=col>Phylum</th><th scope=col>Class</th><th scope=col>Order</th><th scope=col>Family</th><th scope=col>Genus</th><th scope=col>Species</th></tr>\n",
       "\t<tr><th scope=col>&lt;chr&gt;</th><th scope=col>&lt;dbl&gt;</th><th scope=col>&lt;dbl&gt;</th><th scope=col>&lt;chr&gt;</th><th scope=col>&lt;chr&gt;</th><th scope=col>&lt;chr&gt;</th><th scope=col>&lt;chr&gt;</th><th scope=col>&lt;chr&gt;</th><th scope=col>&lt;chr&gt;</th><th scope=col>&lt;int&gt;</th><th scope=col>⋯</th><th scope=col>&lt;int&gt;</th><th scope=col>&lt;int&gt;</th><th scope=col>&lt;int&gt;</th><th scope=col>&lt;chr&gt;</th><th scope=col>&lt;chr&gt;</th><th scope=col>&lt;chr&gt;</th><th scope=col>&lt;chr&gt;</th><th scope=col>&lt;chr&gt;</th><th scope=col>&lt;chr&gt;</th><th scope=col>&lt;chr&gt;</th></tr>\n",
       "</thead>\n",
       "<tbody>\n",
       "\t<tr><td>GB_GCA_000200715.1</td><td>99.03</td><td>0</td><td>t</td><td>f</td><td>f</td><td>Chromosome     </td><td>derived from environmental sample</td><td>GCA_000200715.1</td><td> 340809</td><td>⋯</td><td>2045086</td><td>1281157</td><td>1</td><td>Archaea</td><td>Thermoproteota</td><td>Nitrososphaeria</td><td>Nitrososphaerales</td><td>Nitrosopumilaceae </td><td>Cenarchaeum </td><td>Cenarchaeum symbiosum     </td></tr>\n",
       "\t<tr><td>GB_GCA_000306725.1</td><td>99.84</td><td>0</td><td>t</td><td>f</td><td>f</td><td>Complete Genome</td><td>none                             </td><td>GCA_000306725.1</td><td>3072769</td><td>⋯</td><td>3072769</td><td>3072769</td><td>3</td><td>Archaea</td><td>Halobacteriota</td><td>Methanosarcinia</td><td>Methanosarcinales</td><td>Methanosarcinaceae</td><td>Methanolobus</td><td>Methanolobus psychrophilus</td></tr>\n",
       "\t<tr><td>⋮</td><td>⋮</td><td>⋮</td><td>⋮</td><td>⋮</td><td>⋮</td><td>⋮</td><td>⋮</td><td>⋮</td><td>⋮</td><td>⋱</td><td>⋮</td><td>⋮</td><td>⋮</td><td>⋮</td><td>⋮</td><td>⋮</td><td>⋮</td><td>⋮</td><td>⋮</td><td>⋮</td></tr>\n",
       "\t<tr><td>RS_GCF_903971035.1</td><td>99.43</td><td>0.61</td><td>t</td><td>f</td><td>f</td><td>Contig</td><td>none</td><td>GCA_903971035.1</td><td>45625</td><td>⋯</td><td>5475026</td><td>408314</td><td>1</td><td>Bacteria</td><td>Firmicutes      </td><td>Bacilli      </td><td>Bacillales     </td><td>Bacillaceae_H   </td><td>Priestia       </td><td>Priestia aryabhattai       </td></tr>\n",
       "\t<tr><td>RS_GCF_903986115.1</td><td>99.45</td><td>0.00</td><td>t</td><td>f</td><td>f</td><td>Contig</td><td>none</td><td>GCA_903986115.1</td><td>52224</td><td>⋯</td><td>2402342</td><td>142020</td><td>1</td><td>Bacteria</td><td>Actinobacteriota</td><td>Actinomycetia</td><td>Mycobacteriales</td><td>Mycobacteriaceae</td><td>Corynebacterium</td><td>Corynebacterium diphtheriae</td></tr>\n",
       "</tbody>\n",
       "</table>\n"
      ],
      "text/latex": [
       "A tidytable: 131888 × 23\n",
       "\\begin{tabular}{lllllllllllllllllllll}\n",
       " accession & checkm\\_completeness & checkm\\_contamination & mimag\\_high\\_quality & mimag\\_medium\\_quality & mimag\\_low\\_quality & ncbi\\_assembly\\_level & ncbi\\_genome\\_category & ncbi\\_genbank\\_assembly\\_accession & mean\\_contig\\_length & ⋯ & genome\\_size & n50\\_contigs & ssu\\_count & Domain & Phylum & Class & Order & Family & Genus & Species\\\\\n",
       " <chr> & <dbl> & <dbl> & <chr> & <chr> & <chr> & <chr> & <chr> & <chr> & <int> & ⋯ & <int> & <int> & <int> & <chr> & <chr> & <chr> & <chr> & <chr> & <chr> & <chr>\\\\\n",
       "\\hline\n",
       "\t GB\\_GCA\\_000200715.1 & 99.03 & 0 & t & f & f & Chromosome      & derived from environmental sample & GCA\\_000200715.1 &  340809 & ⋯ & 2045086 & 1281157 & 1 & Archaea & Thermoproteota & Nitrososphaeria & Nitrososphaerales & Nitrosopumilaceae  & Cenarchaeum  & Cenarchaeum symbiosum     \\\\\n",
       "\t GB\\_GCA\\_000306725.1 & 99.84 & 0 & t & f & f & Complete Genome & none                              & GCA\\_000306725.1 & 3072769 & ⋯ & 3072769 & 3072769 & 3 & Archaea & Halobacteriota & Methanosarcinia & Methanosarcinales & Methanosarcinaceae & Methanolobus & Methanolobus psychrophilus\\\\\n",
       "\t ⋮ & ⋮ & ⋮ & ⋮ & ⋮ & ⋮ & ⋮ & ⋮ & ⋮ & ⋮ & ⋱ & ⋮ & ⋮ & ⋮ & ⋮ & ⋮ & ⋮ & ⋮ & ⋮ & ⋮ & ⋮\\\\\n",
       "\t RS\\_GCF\\_903971035.1 & 99.43 & 0.61 & t & f & f & Contig & none & GCA\\_903971035.1 & 45625 & ⋯ & 5475026 & 408314 & 1 & Bacteria & Firmicutes       & Bacilli       & Bacillales      & Bacillaceae\\_H    & Priestia        & Priestia aryabhattai       \\\\\n",
       "\t RS\\_GCF\\_903986115.1 & 99.45 & 0.00 & t & f & f & Contig & none & GCA\\_903986115.1 & 52224 & ⋯ & 2402342 & 142020 & 1 & Bacteria & Actinobacteriota & Actinomycetia & Mycobacteriales & Mycobacteriaceae & Corynebacterium & Corynebacterium diphtheriae\\\\\n",
       "\\end{tabular}\n"
      ],
      "text/markdown": [
       "\n",
       "A tidytable: 131888 × 23\n",
       "\n",
       "| accession &lt;chr&gt; | checkm_completeness &lt;dbl&gt; | checkm_contamination &lt;dbl&gt; | mimag_high_quality &lt;chr&gt; | mimag_medium_quality &lt;chr&gt; | mimag_low_quality &lt;chr&gt; | ncbi_assembly_level &lt;chr&gt; | ncbi_genome_category &lt;chr&gt; | ncbi_genbank_assembly_accession &lt;chr&gt; | mean_contig_length &lt;int&gt; | ⋯ ⋯ | genome_size &lt;int&gt; | n50_contigs &lt;int&gt; | ssu_count &lt;int&gt; | Domain &lt;chr&gt; | Phylum &lt;chr&gt; | Class &lt;chr&gt; | Order &lt;chr&gt; | Family &lt;chr&gt; | Genus &lt;chr&gt; | Species &lt;chr&gt; |\n",
       "|---|---|---|---|---|---|---|---|---|---|---|---|---|---|---|---|---|---|---|---|---|\n",
       "| GB_GCA_000200715.1 | 99.03 | 0 | t | f | f | Chromosome      | derived from environmental sample | GCA_000200715.1 |  340809 | ⋯ | 2045086 | 1281157 | 1 | Archaea | Thermoproteota | Nitrososphaeria | Nitrososphaerales | Nitrosopumilaceae  | Cenarchaeum  | Cenarchaeum symbiosum      |\n",
       "| GB_GCA_000306725.1 | 99.84 | 0 | t | f | f | Complete Genome | none                              | GCA_000306725.1 | 3072769 | ⋯ | 3072769 | 3072769 | 3 | Archaea | Halobacteriota | Methanosarcinia | Methanosarcinales | Methanosarcinaceae | Methanolobus | Methanolobus psychrophilus |\n",
       "| ⋮ | ⋮ | ⋮ | ⋮ | ⋮ | ⋮ | ⋮ | ⋮ | ⋮ | ⋮ | ⋱ | ⋮ | ⋮ | ⋮ | ⋮ | ⋮ | ⋮ | ⋮ | ⋮ | ⋮ | ⋮ |\n",
       "| RS_GCF_903971035.1 | 99.43 | 0.61 | t | f | f | Contig | none | GCA_903971035.1 | 45625 | ⋯ | 5475026 | 408314 | 1 | Bacteria | Firmicutes       | Bacilli       | Bacillales      | Bacillaceae_H    | Priestia        | Priestia aryabhattai        |\n",
       "| RS_GCF_903986115.1 | 99.45 | 0.00 | t | f | f | Contig | none | GCA_903986115.1 | 52224 | ⋯ | 2402342 | 142020 | 1 | Bacteria | Actinobacteriota | Actinomycetia | Mycobacteriales | Mycobacteriaceae | Corynebacterium | Corynebacterium diphtheriae |\n",
       "\n"
      ],
      "text/plain": [
       "       accession          checkm_completeness checkm_contamination\n",
       "1      GB_GCA_000200715.1 99.03               0                   \n",
       "2      GB_GCA_000306725.1 99.84               0                   \n",
       "⋮      ⋮                  ⋮                   ⋮                   \n",
       "131887 RS_GCF_903971035.1 99.43               0.61                \n",
       "131888 RS_GCF_903986115.1 99.45               0.00                \n",
       "       mimag_high_quality mimag_medium_quality mimag_low_quality\n",
       "1      t                  f                    f                \n",
       "2      t                  f                    f                \n",
       "⋮      ⋮                  ⋮                    ⋮                \n",
       "131887 t                  f                    f                \n",
       "131888 t                  f                    f                \n",
       "       ncbi_assembly_level ncbi_genome_category             \n",
       "1      Chromosome          derived from environmental sample\n",
       "2      Complete Genome     none                             \n",
       "⋮      ⋮                   ⋮                                \n",
       "131887 Contig              none                             \n",
       "131888 Contig              none                             \n",
       "       ncbi_genbank_assembly_accession mean_contig_length ⋯ genome_size\n",
       "1      GCA_000200715.1                  340809            ⋯ 2045086    \n",
       "2      GCA_000306725.1                 3072769            ⋯ 3072769    \n",
       "⋮      ⋮                               ⋮                  ⋱ ⋮          \n",
       "131887 GCA_903971035.1                 45625              ⋯ 5475026    \n",
       "131888 GCA_903986115.1                 52224              ⋯ 2402342    \n",
       "       n50_contigs ssu_count Domain   Phylum           Class          \n",
       "1      1281157     1         Archaea  Thermoproteota   Nitrososphaeria\n",
       "2      3072769     3         Archaea  Halobacteriota   Methanosarcinia\n",
       "⋮      ⋮           ⋮         ⋮        ⋮                ⋮              \n",
       "131887 408314      1         Bacteria Firmicutes       Bacilli        \n",
       "131888 142020      1         Bacteria Actinobacteriota Actinomycetia  \n",
       "       Order             Family             Genus          \n",
       "1      Nitrososphaerales Nitrosopumilaceae  Cenarchaeum    \n",
       "2      Methanosarcinales Methanosarcinaceae Methanolobus   \n",
       "⋮      ⋮                 ⋮                  ⋮              \n",
       "131887 Bacillales        Bacillaceae_H      Priestia       \n",
       "131888 Mycobacteriales   Mycobacteriaceae   Corynebacterium\n",
       "       Species                    \n",
       "1      Cenarchaeum symbiosum      \n",
       "2      Methanolobus psychrophilus \n",
       "⋮      ⋮                          \n",
       "131887 Priestia aryabhattai       \n",
       "131888 Corynebacterium diphtheriae"
      ]
     },
     "metadata": {},
     "output_type": "display_data"
    }
   ],
   "source": [
    "meta_f = meta_f %>% \n",
    "    filter.(mimag_high_quality == 't')\n",
    "meta_f"
   ]
  },
  {
   "cell_type": "markdown",
   "id": "37e0d18f",
   "metadata": {},
   "source": [
    "## ncb_genome_category"
   ]
  },
  {
   "cell_type": "code",
   "execution_count": 13,
   "id": "7885bdd6",
   "metadata": {
    "ExecuteTime": {
     "end_time": "2021-08-17T13:46:15.434035Z",
     "start_time": "2021-08-17T13:46:00.738Z"
    }
   },
   "outputs": [
    {
     "data": {
      "text/plain": [
       ".\n",
       "derived from environmental sample                              none \n",
       "                             1444                            128413 "
      ]
     },
     "metadata": {},
     "output_type": "display_data"
    },
    {
     "data": {
      "text/html": [
       "<table class=\"dataframe\">\n",
       "<caption>A tidytable: 129857 × 23</caption>\n",
       "<thead>\n",
       "\t<tr><th scope=col>accession</th><th scope=col>checkm_completeness</th><th scope=col>checkm_contamination</th><th scope=col>mimag_high_quality</th><th scope=col>mimag_medium_quality</th><th scope=col>mimag_low_quality</th><th scope=col>ncbi_assembly_level</th><th scope=col>ncbi_genome_category</th><th scope=col>ncbi_genbank_assembly_accession</th><th scope=col>mean_contig_length</th><th scope=col>⋯</th><th scope=col>genome_size</th><th scope=col>n50_contigs</th><th scope=col>ssu_count</th><th scope=col>Domain</th><th scope=col>Phylum</th><th scope=col>Class</th><th scope=col>Order</th><th scope=col>Family</th><th scope=col>Genus</th><th scope=col>Species</th></tr>\n",
       "\t<tr><th scope=col>&lt;chr&gt;</th><th scope=col>&lt;dbl&gt;</th><th scope=col>&lt;dbl&gt;</th><th scope=col>&lt;chr&gt;</th><th scope=col>&lt;chr&gt;</th><th scope=col>&lt;chr&gt;</th><th scope=col>&lt;chr&gt;</th><th scope=col>&lt;chr&gt;</th><th scope=col>&lt;chr&gt;</th><th scope=col>&lt;int&gt;</th><th scope=col>⋯</th><th scope=col>&lt;int&gt;</th><th scope=col>&lt;int&gt;</th><th scope=col>&lt;int&gt;</th><th scope=col>&lt;chr&gt;</th><th scope=col>&lt;chr&gt;</th><th scope=col>&lt;chr&gt;</th><th scope=col>&lt;chr&gt;</th><th scope=col>&lt;chr&gt;</th><th scope=col>&lt;chr&gt;</th><th scope=col>&lt;chr&gt;</th></tr>\n",
       "</thead>\n",
       "<tbody>\n",
       "\t<tr><td>GB_GCA_000200715.1</td><td>99.03</td><td>0</td><td>t</td><td>f</td><td>f</td><td>Chromosome     </td><td>derived from environmental sample</td><td>GCA_000200715.1</td><td> 340809</td><td>⋯</td><td>2045086</td><td>1281157</td><td>1</td><td>Archaea</td><td>Thermoproteota</td><td>Nitrososphaeria</td><td>Nitrososphaerales</td><td>Nitrosopumilaceae </td><td>Cenarchaeum </td><td>Cenarchaeum symbiosum     </td></tr>\n",
       "\t<tr><td>GB_GCA_000306725.1</td><td>99.84</td><td>0</td><td>t</td><td>f</td><td>f</td><td>Complete Genome</td><td>none                             </td><td>GCA_000306725.1</td><td>3072769</td><td>⋯</td><td>3072769</td><td>3072769</td><td>3</td><td>Archaea</td><td>Halobacteriota</td><td>Methanosarcinia</td><td>Methanosarcinales</td><td>Methanosarcinaceae</td><td>Methanolobus</td><td>Methanolobus psychrophilus</td></tr>\n",
       "\t<tr><td>⋮</td><td>⋮</td><td>⋮</td><td>⋮</td><td>⋮</td><td>⋮</td><td>⋮</td><td>⋮</td><td>⋮</td><td>⋮</td><td>⋱</td><td>⋮</td><td>⋮</td><td>⋮</td><td>⋮</td><td>⋮</td><td>⋮</td><td>⋮</td><td>⋮</td><td>⋮</td><td>⋮</td></tr>\n",
       "\t<tr><td>RS_GCF_903971035.1</td><td>99.43</td><td>0.61</td><td>t</td><td>f</td><td>f</td><td>Contig</td><td>none</td><td>GCA_903971035.1</td><td>45625</td><td>⋯</td><td>5475026</td><td>408314</td><td>1</td><td>Bacteria</td><td>Firmicutes      </td><td>Bacilli      </td><td>Bacillales     </td><td>Bacillaceae_H   </td><td>Priestia       </td><td>Priestia aryabhattai       </td></tr>\n",
       "\t<tr><td>RS_GCF_903986115.1</td><td>99.45</td><td>0.00</td><td>t</td><td>f</td><td>f</td><td>Contig</td><td>none</td><td>GCA_903986115.1</td><td>52224</td><td>⋯</td><td>2402342</td><td>142020</td><td>1</td><td>Bacteria</td><td>Actinobacteriota</td><td>Actinomycetia</td><td>Mycobacteriales</td><td>Mycobacteriaceae</td><td>Corynebacterium</td><td>Corynebacterium diphtheriae</td></tr>\n",
       "</tbody>\n",
       "</table>\n"
      ],
      "text/latex": [
       "A tidytable: 129857 × 23\n",
       "\\begin{tabular}{lllllllllllllllllllll}\n",
       " accession & checkm\\_completeness & checkm\\_contamination & mimag\\_high\\_quality & mimag\\_medium\\_quality & mimag\\_low\\_quality & ncbi\\_assembly\\_level & ncbi\\_genome\\_category & ncbi\\_genbank\\_assembly\\_accession & mean\\_contig\\_length & ⋯ & genome\\_size & n50\\_contigs & ssu\\_count & Domain & Phylum & Class & Order & Family & Genus & Species\\\\\n",
       " <chr> & <dbl> & <dbl> & <chr> & <chr> & <chr> & <chr> & <chr> & <chr> & <int> & ⋯ & <int> & <int> & <int> & <chr> & <chr> & <chr> & <chr> & <chr> & <chr> & <chr>\\\\\n",
       "\\hline\n",
       "\t GB\\_GCA\\_000200715.1 & 99.03 & 0 & t & f & f & Chromosome      & derived from environmental sample & GCA\\_000200715.1 &  340809 & ⋯ & 2045086 & 1281157 & 1 & Archaea & Thermoproteota & Nitrososphaeria & Nitrososphaerales & Nitrosopumilaceae  & Cenarchaeum  & Cenarchaeum symbiosum     \\\\\n",
       "\t GB\\_GCA\\_000306725.1 & 99.84 & 0 & t & f & f & Complete Genome & none                              & GCA\\_000306725.1 & 3072769 & ⋯ & 3072769 & 3072769 & 3 & Archaea & Halobacteriota & Methanosarcinia & Methanosarcinales & Methanosarcinaceae & Methanolobus & Methanolobus psychrophilus\\\\\n",
       "\t ⋮ & ⋮ & ⋮ & ⋮ & ⋮ & ⋮ & ⋮ & ⋮ & ⋮ & ⋮ & ⋱ & ⋮ & ⋮ & ⋮ & ⋮ & ⋮ & ⋮ & ⋮ & ⋮ & ⋮ & ⋮\\\\\n",
       "\t RS\\_GCF\\_903971035.1 & 99.43 & 0.61 & t & f & f & Contig & none & GCA\\_903971035.1 & 45625 & ⋯ & 5475026 & 408314 & 1 & Bacteria & Firmicutes       & Bacilli       & Bacillales      & Bacillaceae\\_H    & Priestia        & Priestia aryabhattai       \\\\\n",
       "\t RS\\_GCF\\_903986115.1 & 99.45 & 0.00 & t & f & f & Contig & none & GCA\\_903986115.1 & 52224 & ⋯ & 2402342 & 142020 & 1 & Bacteria & Actinobacteriota & Actinomycetia & Mycobacteriales & Mycobacteriaceae & Corynebacterium & Corynebacterium diphtheriae\\\\\n",
       "\\end{tabular}\n"
      ],
      "text/markdown": [
       "\n",
       "A tidytable: 129857 × 23\n",
       "\n",
       "| accession &lt;chr&gt; | checkm_completeness &lt;dbl&gt; | checkm_contamination &lt;dbl&gt; | mimag_high_quality &lt;chr&gt; | mimag_medium_quality &lt;chr&gt; | mimag_low_quality &lt;chr&gt; | ncbi_assembly_level &lt;chr&gt; | ncbi_genome_category &lt;chr&gt; | ncbi_genbank_assembly_accession &lt;chr&gt; | mean_contig_length &lt;int&gt; | ⋯ ⋯ | genome_size &lt;int&gt; | n50_contigs &lt;int&gt; | ssu_count &lt;int&gt; | Domain &lt;chr&gt; | Phylum &lt;chr&gt; | Class &lt;chr&gt; | Order &lt;chr&gt; | Family &lt;chr&gt; | Genus &lt;chr&gt; | Species &lt;chr&gt; |\n",
       "|---|---|---|---|---|---|---|---|---|---|---|---|---|---|---|---|---|---|---|---|---|\n",
       "| GB_GCA_000200715.1 | 99.03 | 0 | t | f | f | Chromosome      | derived from environmental sample | GCA_000200715.1 |  340809 | ⋯ | 2045086 | 1281157 | 1 | Archaea | Thermoproteota | Nitrososphaeria | Nitrososphaerales | Nitrosopumilaceae  | Cenarchaeum  | Cenarchaeum symbiosum      |\n",
       "| GB_GCA_000306725.1 | 99.84 | 0 | t | f | f | Complete Genome | none                              | GCA_000306725.1 | 3072769 | ⋯ | 3072769 | 3072769 | 3 | Archaea | Halobacteriota | Methanosarcinia | Methanosarcinales | Methanosarcinaceae | Methanolobus | Methanolobus psychrophilus |\n",
       "| ⋮ | ⋮ | ⋮ | ⋮ | ⋮ | ⋮ | ⋮ | ⋮ | ⋮ | ⋮ | ⋱ | ⋮ | ⋮ | ⋮ | ⋮ | ⋮ | ⋮ | ⋮ | ⋮ | ⋮ | ⋮ |\n",
       "| RS_GCF_903971035.1 | 99.43 | 0.61 | t | f | f | Contig | none | GCA_903971035.1 | 45625 | ⋯ | 5475026 | 408314 | 1 | Bacteria | Firmicutes       | Bacilli       | Bacillales      | Bacillaceae_H    | Priestia        | Priestia aryabhattai        |\n",
       "| RS_GCF_903986115.1 | 99.45 | 0.00 | t | f | f | Contig | none | GCA_903986115.1 | 52224 | ⋯ | 2402342 | 142020 | 1 | Bacteria | Actinobacteriota | Actinomycetia | Mycobacteriales | Mycobacteriaceae | Corynebacterium | Corynebacterium diphtheriae |\n",
       "\n"
      ],
      "text/plain": [
       "       accession          checkm_completeness checkm_contamination\n",
       "1      GB_GCA_000200715.1 99.03               0                   \n",
       "2      GB_GCA_000306725.1 99.84               0                   \n",
       "⋮      ⋮                  ⋮                   ⋮                   \n",
       "129856 RS_GCF_903971035.1 99.43               0.61                \n",
       "129857 RS_GCF_903986115.1 99.45               0.00                \n",
       "       mimag_high_quality mimag_medium_quality mimag_low_quality\n",
       "1      t                  f                    f                \n",
       "2      t                  f                    f                \n",
       "⋮      ⋮                  ⋮                    ⋮                \n",
       "129856 t                  f                    f                \n",
       "129857 t                  f                    f                \n",
       "       ncbi_assembly_level ncbi_genome_category             \n",
       "1      Chromosome          derived from environmental sample\n",
       "2      Complete Genome     none                             \n",
       "⋮      ⋮                   ⋮                                \n",
       "129856 Contig              none                             \n",
       "129857 Contig              none                             \n",
       "       ncbi_genbank_assembly_accession mean_contig_length ⋯ genome_size\n",
       "1      GCA_000200715.1                  340809            ⋯ 2045086    \n",
       "2      GCA_000306725.1                 3072769            ⋯ 3072769    \n",
       "⋮      ⋮                               ⋮                  ⋱ ⋮          \n",
       "129856 GCA_903971035.1                 45625              ⋯ 5475026    \n",
       "129857 GCA_903986115.1                 52224              ⋯ 2402342    \n",
       "       n50_contigs ssu_count Domain   Phylum           Class          \n",
       "1      1281157     1         Archaea  Thermoproteota   Nitrososphaeria\n",
       "2      3072769     3         Archaea  Halobacteriota   Methanosarcinia\n",
       "⋮      ⋮           ⋮         ⋮        ⋮                ⋮              \n",
       "129856 408314      1         Bacteria Firmicutes       Bacilli        \n",
       "129857 142020      1         Bacteria Actinobacteriota Actinomycetia  \n",
       "       Order             Family             Genus          \n",
       "1      Nitrososphaerales Nitrosopumilaceae  Cenarchaeum    \n",
       "2      Methanosarcinales Methanosarcinaceae Methanolobus   \n",
       "⋮      ⋮                 ⋮                  ⋮              \n",
       "129856 Bacillales        Bacillaceae_H      Priestia       \n",
       "129857 Mycobacteriales   Mycobacteriaceae   Corynebacterium\n",
       "       Species                    \n",
       "1      Cenarchaeum symbiosum      \n",
       "2      Methanolobus psychrophilus \n",
       "⋮      ⋮                          \n",
       "129856 Priestia aryabhattai       \n",
       "129857 Corynebacterium diphtheriae"
      ]
     },
     "metadata": {},
     "output_type": "display_data"
    }
   ],
   "source": [
    "to_rm = c('derived from metagenome', 'derived from single cell')\n",
    "meta_f = meta_f %>%\n",
    "    filter.(! ncbi_genome_category %in% to_rm)\n",
    "meta_f$ncbi_genome_category %>% table \n",
    "meta_f"
   ]
  },
  {
   "cell_type": "markdown",
   "id": "83c61fe4",
   "metadata": {},
   "source": [
    "## ncbi_genbank_assembly_accession"
   ]
  },
  {
   "cell_type": "code",
   "execution_count": 14,
   "id": "fabd14b5",
   "metadata": {
    "ExecuteTime": {
     "end_time": "2021-08-17T13:46:15.473460Z",
     "start_time": "2021-08-17T13:46:00.742Z"
    }
   },
   "outputs": [
    {
     "data": {
      "text/plain": [
       "   Length     Class      Mode \n",
       "   129857 character character "
      ]
     },
     "metadata": {},
     "output_type": "display_data"
    },
    {
     "data": {
      "text/html": [
       "0"
      ],
      "text/latex": [
       "0"
      ],
      "text/markdown": [
       "0"
      ],
      "text/plain": [
       "[1] 0"
      ]
     },
     "metadata": {},
     "output_type": "display_data"
    }
   ],
   "source": [
    "meta_f$ncbi_genbank_assembly_accession %>% summary\n",
    "meta_f %>%\n",
    "    filter.(! grepl('^GCA_', ncbi_genbank_assembly_accession)) %>%\n",
    "    nrow"
   ]
  },
  {
   "cell_type": "markdown",
   "id": "22419527",
   "metadata": {},
   "source": [
    "## assembly contiguitiy"
   ]
  },
  {
   "cell_type": "code",
   "execution_count": 15,
   "id": "29cda695",
   "metadata": {
    "ExecuteTime": {
     "end_time": "2021-08-17T13:46:15.510604Z",
     "start_time": "2021-08-17T13:46:00.746Z"
    }
   },
   "outputs": [
    {
     "data": {
      "text/html": [
       "<table class=\"dataframe\">\n",
       "<caption>A matrix: 1 × 8 of type dbl</caption>\n",
       "<thead>\n",
       "\t<tr><th></th><th scope=col>Min.</th><th scope=col>1st Qu.</th><th scope=col>Median</th><th scope=col>Mean</th><th scope=col>3rd Qu.</th><th scope=col>Max.</th><th scope=col>sd</th><th scope=col>sd_err_of_mean</th></tr>\n",
       "</thead>\n",
       "<tbody>\n",
       "\t<tr><th scope=row>gc_percentage</th><td>19.85241</td><td>39.54422</td><td>50.6308</td><td>49.92561</td><td>58.43198</td><td>77.01919</td><td>19.059</td><td>7.781</td></tr>\n",
       "</tbody>\n",
       "</table>\n"
      ],
      "text/latex": [
       "A matrix: 1 × 8 of type dbl\n",
       "\\begin{tabular}{r|llllllll}\n",
       "  & Min. & 1st Qu. & Median & Mean & 3rd Qu. & Max. & sd & sd\\_err\\_of\\_mean\\\\\n",
       "\\hline\n",
       "\tgc\\_percentage & 19.85241 & 39.54422 & 50.6308 & 49.92561 & 58.43198 & 77.01919 & 19.059 & 7.781\\\\\n",
       "\\end{tabular}\n"
      ],
      "text/markdown": [
       "\n",
       "A matrix: 1 × 8 of type dbl\n",
       "\n",
       "| <!--/--> | Min. | 1st Qu. | Median | Mean | 3rd Qu. | Max. | sd | sd_err_of_mean |\n",
       "|---|---|---|---|---|---|---|---|---|\n",
       "| gc_percentage | 19.85241 | 39.54422 | 50.6308 | 49.92561 | 58.43198 | 77.01919 | 19.059 | 7.781 |\n",
       "\n"
      ],
      "text/plain": [
       "              Min.     1st Qu.  Median  Mean     3rd Qu.  Max.     sd    \n",
       "gc_percentage 19.85241 39.54422 50.6308 49.92561 58.43198 77.01919 19.059\n",
       "              sd_err_of_mean\n",
       "gc_percentage 7.781         "
      ]
     },
     "metadata": {},
     "output_type": "display_data"
    }
   ],
   "source": [
    "summary_x(meta_f$gc_percentage)"
   ]
  },
  {
   "cell_type": "code",
   "execution_count": 16,
   "id": "d392daad",
   "metadata": {
    "ExecuteTime": {
     "end_time": "2021-08-17T13:46:15.604979Z",
     "start_time": "2021-08-17T13:46:00.752Z"
    }
   },
   "outputs": [
    {
     "data": {
      "text/html": [
       "<table class=\"dataframe\">\n",
       "<caption>A matrix: 1 × 8 of type dbl</caption>\n",
       "<thead>\n",
       "\t<tr><th></th><th scope=col>Min.</th><th scope=col>1st Qu.</th><th scope=col>Median</th><th scope=col>Mean</th><th scope=col>3rd Qu.</th><th scope=col>Max.</th><th scope=col>sd</th><th scope=col>sd_err_of_mean</th></tr>\n",
       "</thead>\n",
       "<tbody>\n",
       "\t<tr><th scope=row>contig_count</th><td>1</td><td>20</td><td>62</td><td>99.65998</td><td>127</td><td>2243</td><td>891.666</td><td>364.021</td></tr>\n",
       "</tbody>\n",
       "</table>\n"
      ],
      "text/latex": [
       "A matrix: 1 × 8 of type dbl\n",
       "\\begin{tabular}{r|llllllll}\n",
       "  & Min. & 1st Qu. & Median & Mean & 3rd Qu. & Max. & sd & sd\\_err\\_of\\_mean\\\\\n",
       "\\hline\n",
       "\tcontig\\_count & 1 & 20 & 62 & 99.65998 & 127 & 2243 & 891.666 & 364.021\\\\\n",
       "\\end{tabular}\n"
      ],
      "text/markdown": [
       "\n",
       "A matrix: 1 × 8 of type dbl\n",
       "\n",
       "| <!--/--> | Min. | 1st Qu. | Median | Mean | 3rd Qu. | Max. | sd | sd_err_of_mean |\n",
       "|---|---|---|---|---|---|---|---|---|\n",
       "| contig_count | 1 | 20 | 62 | 99.65998 | 127 | 2243 | 891.666 | 364.021 |\n",
       "\n"
      ],
      "text/plain": [
       "             Min. 1st Qu. Median Mean     3rd Qu. Max. sd      sd_err_of_mean\n",
       "contig_count 1    20      62     99.65998 127     2243 891.666 364.021       "
      ]
     },
     "metadata": {},
     "output_type": "display_data"
    },
    {
     "data": {
      "text/html": [
       "<table class=\"dataframe\">\n",
       "<caption>A matrix: 1 × 8 of type dbl</caption>\n",
       "<thead>\n",
       "\t<tr><th></th><th scope=col>Min.</th><th scope=col>1st Qu.</th><th scope=col>Median</th><th scope=col>Mean</th><th scope=col>3rd Qu.</th><th scope=col>Max.</th><th scope=col>sd</th><th scope=col>sd_err_of_mean</th></tr>\n",
       "</thead>\n",
       "<tbody>\n",
       "\t<tr><th scope=row>contig_count</th><td>1</td><td>14</td><td>51</td><td>61.12639</td><td>95</td><td>200</td><td>71.918</td><td>29.36</td></tr>\n",
       "</tbody>\n",
       "</table>\n"
      ],
      "text/latex": [
       "A matrix: 1 × 8 of type dbl\n",
       "\\begin{tabular}{r|llllllll}\n",
       "  & Min. & 1st Qu. & Median & Mean & 3rd Qu. & Max. & sd & sd\\_err\\_of\\_mean\\\\\n",
       "\\hline\n",
       "\tcontig\\_count & 1 & 14 & 51 & 61.12639 & 95 & 200 & 71.918 & 29.36\\\\\n",
       "\\end{tabular}\n"
      ],
      "text/markdown": [
       "\n",
       "A matrix: 1 × 8 of type dbl\n",
       "\n",
       "| <!--/--> | Min. | 1st Qu. | Median | Mean | 3rd Qu. | Max. | sd | sd_err_of_mean |\n",
       "|---|---|---|---|---|---|---|---|---|\n",
       "| contig_count | 1 | 14 | 51 | 61.12639 | 95 | 200 | 71.918 | 29.36 |\n",
       "\n"
      ],
      "text/plain": [
       "             Min. 1st Qu. Median Mean     3rd Qu. Max. sd     sd_err_of_mean\n",
       "contig_count 1    14      51     61.12639 95      200  71.918 29.36         "
      ]
     },
     "metadata": {},
     "output_type": "display_data"
    },
    {
     "data": {
      "text/html": [
       "<table class=\"dataframe\">\n",
       "<caption>A tidytable: 113056 × 23</caption>\n",
       "<thead>\n",
       "\t<tr><th scope=col>accession</th><th scope=col>checkm_completeness</th><th scope=col>checkm_contamination</th><th scope=col>mimag_high_quality</th><th scope=col>mimag_medium_quality</th><th scope=col>mimag_low_quality</th><th scope=col>ncbi_assembly_level</th><th scope=col>ncbi_genome_category</th><th scope=col>ncbi_genbank_assembly_accession</th><th scope=col>mean_contig_length</th><th scope=col>⋯</th><th scope=col>genome_size</th><th scope=col>n50_contigs</th><th scope=col>ssu_count</th><th scope=col>Domain</th><th scope=col>Phylum</th><th scope=col>Class</th><th scope=col>Order</th><th scope=col>Family</th><th scope=col>Genus</th><th scope=col>Species</th></tr>\n",
       "\t<tr><th scope=col>&lt;chr&gt;</th><th scope=col>&lt;dbl&gt;</th><th scope=col>&lt;dbl&gt;</th><th scope=col>&lt;chr&gt;</th><th scope=col>&lt;chr&gt;</th><th scope=col>&lt;chr&gt;</th><th scope=col>&lt;chr&gt;</th><th scope=col>&lt;chr&gt;</th><th scope=col>&lt;chr&gt;</th><th scope=col>&lt;int&gt;</th><th scope=col>⋯</th><th scope=col>&lt;int&gt;</th><th scope=col>&lt;int&gt;</th><th scope=col>&lt;int&gt;</th><th scope=col>&lt;chr&gt;</th><th scope=col>&lt;chr&gt;</th><th scope=col>&lt;chr&gt;</th><th scope=col>&lt;chr&gt;</th><th scope=col>&lt;chr&gt;</th><th scope=col>&lt;chr&gt;</th><th scope=col>&lt;chr&gt;</th></tr>\n",
       "</thead>\n",
       "<tbody>\n",
       "\t<tr><td>GB_GCA_000200715.1</td><td>99.03</td><td>0</td><td>t</td><td>f</td><td>f</td><td>Chromosome     </td><td>derived from environmental sample</td><td>GCA_000200715.1</td><td> 340809</td><td>⋯</td><td>2045086</td><td>1281157</td><td>1</td><td>Archaea</td><td>Thermoproteota</td><td>Nitrososphaeria</td><td>Nitrososphaerales</td><td>Nitrosopumilaceae </td><td>Cenarchaeum </td><td>Cenarchaeum symbiosum     </td></tr>\n",
       "\t<tr><td>GB_GCA_000306725.1</td><td>99.84</td><td>0</td><td>t</td><td>f</td><td>f</td><td>Complete Genome</td><td>none                             </td><td>GCA_000306725.1</td><td>3072769</td><td>⋯</td><td>3072769</td><td>3072769</td><td>3</td><td>Archaea</td><td>Halobacteriota</td><td>Methanosarcinia</td><td>Methanosarcinales</td><td>Methanosarcinaceae</td><td>Methanolobus</td><td>Methanolobus psychrophilus</td></tr>\n",
       "\t<tr><td>⋮</td><td>⋮</td><td>⋮</td><td>⋮</td><td>⋮</td><td>⋮</td><td>⋮</td><td>⋮</td><td>⋮</td><td>⋮</td><td>⋱</td><td>⋮</td><td>⋮</td><td>⋮</td><td>⋮</td><td>⋮</td><td>⋮</td><td>⋮</td><td>⋮</td><td>⋮</td><td>⋮</td></tr>\n",
       "\t<tr><td>RS_GCF_903971035.1</td><td>99.43</td><td>0.61</td><td>t</td><td>f</td><td>f</td><td>Contig</td><td>none</td><td>GCA_903971035.1</td><td>45625</td><td>⋯</td><td>5475026</td><td>408314</td><td>1</td><td>Bacteria</td><td>Firmicutes      </td><td>Bacilli      </td><td>Bacillales     </td><td>Bacillaceae_H   </td><td>Priestia       </td><td>Priestia aryabhattai       </td></tr>\n",
       "\t<tr><td>RS_GCF_903986115.1</td><td>99.45</td><td>0.00</td><td>t</td><td>f</td><td>f</td><td>Contig</td><td>none</td><td>GCA_903986115.1</td><td>52224</td><td>⋯</td><td>2402342</td><td>142020</td><td>1</td><td>Bacteria</td><td>Actinobacteriota</td><td>Actinomycetia</td><td>Mycobacteriales</td><td>Mycobacteriaceae</td><td>Corynebacterium</td><td>Corynebacterium diphtheriae</td></tr>\n",
       "</tbody>\n",
       "</table>\n"
      ],
      "text/latex": [
       "A tidytable: 113056 × 23\n",
       "\\begin{tabular}{lllllllllllllllllllll}\n",
       " accession & checkm\\_completeness & checkm\\_contamination & mimag\\_high\\_quality & mimag\\_medium\\_quality & mimag\\_low\\_quality & ncbi\\_assembly\\_level & ncbi\\_genome\\_category & ncbi\\_genbank\\_assembly\\_accession & mean\\_contig\\_length & ⋯ & genome\\_size & n50\\_contigs & ssu\\_count & Domain & Phylum & Class & Order & Family & Genus & Species\\\\\n",
       " <chr> & <dbl> & <dbl> & <chr> & <chr> & <chr> & <chr> & <chr> & <chr> & <int> & ⋯ & <int> & <int> & <int> & <chr> & <chr> & <chr> & <chr> & <chr> & <chr> & <chr>\\\\\n",
       "\\hline\n",
       "\t GB\\_GCA\\_000200715.1 & 99.03 & 0 & t & f & f & Chromosome      & derived from environmental sample & GCA\\_000200715.1 &  340809 & ⋯ & 2045086 & 1281157 & 1 & Archaea & Thermoproteota & Nitrososphaeria & Nitrososphaerales & Nitrosopumilaceae  & Cenarchaeum  & Cenarchaeum symbiosum     \\\\\n",
       "\t GB\\_GCA\\_000306725.1 & 99.84 & 0 & t & f & f & Complete Genome & none                              & GCA\\_000306725.1 & 3072769 & ⋯ & 3072769 & 3072769 & 3 & Archaea & Halobacteriota & Methanosarcinia & Methanosarcinales & Methanosarcinaceae & Methanolobus & Methanolobus psychrophilus\\\\\n",
       "\t ⋮ & ⋮ & ⋮ & ⋮ & ⋮ & ⋮ & ⋮ & ⋮ & ⋮ & ⋮ & ⋱ & ⋮ & ⋮ & ⋮ & ⋮ & ⋮ & ⋮ & ⋮ & ⋮ & ⋮ & ⋮\\\\\n",
       "\t RS\\_GCF\\_903971035.1 & 99.43 & 0.61 & t & f & f & Contig & none & GCA\\_903971035.1 & 45625 & ⋯ & 5475026 & 408314 & 1 & Bacteria & Firmicutes       & Bacilli       & Bacillales      & Bacillaceae\\_H    & Priestia        & Priestia aryabhattai       \\\\\n",
       "\t RS\\_GCF\\_903986115.1 & 99.45 & 0.00 & t & f & f & Contig & none & GCA\\_903986115.1 & 52224 & ⋯ & 2402342 & 142020 & 1 & Bacteria & Actinobacteriota & Actinomycetia & Mycobacteriales & Mycobacteriaceae & Corynebacterium & Corynebacterium diphtheriae\\\\\n",
       "\\end{tabular}\n"
      ],
      "text/markdown": [
       "\n",
       "A tidytable: 113056 × 23\n",
       "\n",
       "| accession &lt;chr&gt; | checkm_completeness &lt;dbl&gt; | checkm_contamination &lt;dbl&gt; | mimag_high_quality &lt;chr&gt; | mimag_medium_quality &lt;chr&gt; | mimag_low_quality &lt;chr&gt; | ncbi_assembly_level &lt;chr&gt; | ncbi_genome_category &lt;chr&gt; | ncbi_genbank_assembly_accession &lt;chr&gt; | mean_contig_length &lt;int&gt; | ⋯ ⋯ | genome_size &lt;int&gt; | n50_contigs &lt;int&gt; | ssu_count &lt;int&gt; | Domain &lt;chr&gt; | Phylum &lt;chr&gt; | Class &lt;chr&gt; | Order &lt;chr&gt; | Family &lt;chr&gt; | Genus &lt;chr&gt; | Species &lt;chr&gt; |\n",
       "|---|---|---|---|---|---|---|---|---|---|---|---|---|---|---|---|---|---|---|---|---|\n",
       "| GB_GCA_000200715.1 | 99.03 | 0 | t | f | f | Chromosome      | derived from environmental sample | GCA_000200715.1 |  340809 | ⋯ | 2045086 | 1281157 | 1 | Archaea | Thermoproteota | Nitrososphaeria | Nitrososphaerales | Nitrosopumilaceae  | Cenarchaeum  | Cenarchaeum symbiosum      |\n",
       "| GB_GCA_000306725.1 | 99.84 | 0 | t | f | f | Complete Genome | none                              | GCA_000306725.1 | 3072769 | ⋯ | 3072769 | 3072769 | 3 | Archaea | Halobacteriota | Methanosarcinia | Methanosarcinales | Methanosarcinaceae | Methanolobus | Methanolobus psychrophilus |\n",
       "| ⋮ | ⋮ | ⋮ | ⋮ | ⋮ | ⋮ | ⋮ | ⋮ | ⋮ | ⋮ | ⋱ | ⋮ | ⋮ | ⋮ | ⋮ | ⋮ | ⋮ | ⋮ | ⋮ | ⋮ | ⋮ |\n",
       "| RS_GCF_903971035.1 | 99.43 | 0.61 | t | f | f | Contig | none | GCA_903971035.1 | 45625 | ⋯ | 5475026 | 408314 | 1 | Bacteria | Firmicutes       | Bacilli       | Bacillales      | Bacillaceae_H    | Priestia        | Priestia aryabhattai        |\n",
       "| RS_GCF_903986115.1 | 99.45 | 0.00 | t | f | f | Contig | none | GCA_903986115.1 | 52224 | ⋯ | 2402342 | 142020 | 1 | Bacteria | Actinobacteriota | Actinomycetia | Mycobacteriales | Mycobacteriaceae | Corynebacterium | Corynebacterium diphtheriae |\n",
       "\n"
      ],
      "text/plain": [
       "       accession          checkm_completeness checkm_contamination\n",
       "1      GB_GCA_000200715.1 99.03               0                   \n",
       "2      GB_GCA_000306725.1 99.84               0                   \n",
       "⋮      ⋮                  ⋮                   ⋮                   \n",
       "113055 RS_GCF_903971035.1 99.43               0.61                \n",
       "113056 RS_GCF_903986115.1 99.45               0.00                \n",
       "       mimag_high_quality mimag_medium_quality mimag_low_quality\n",
       "1      t                  f                    f                \n",
       "2      t                  f                    f                \n",
       "⋮      ⋮                  ⋮                    ⋮                \n",
       "113055 t                  f                    f                \n",
       "113056 t                  f                    f                \n",
       "       ncbi_assembly_level ncbi_genome_category             \n",
       "1      Chromosome          derived from environmental sample\n",
       "2      Complete Genome     none                             \n",
       "⋮      ⋮                   ⋮                                \n",
       "113055 Contig              none                             \n",
       "113056 Contig              none                             \n",
       "       ncbi_genbank_assembly_accession mean_contig_length ⋯ genome_size\n",
       "1      GCA_000200715.1                  340809            ⋯ 2045086    \n",
       "2      GCA_000306725.1                 3072769            ⋯ 3072769    \n",
       "⋮      ⋮                               ⋮                  ⋱ ⋮          \n",
       "113055 GCA_903971035.1                 45625              ⋯ 5475026    \n",
       "113056 GCA_903986115.1                 52224              ⋯ 2402342    \n",
       "       n50_contigs ssu_count Domain   Phylum           Class          \n",
       "1      1281157     1         Archaea  Thermoproteota   Nitrososphaeria\n",
       "2      3072769     3         Archaea  Halobacteriota   Methanosarcinia\n",
       "⋮      ⋮           ⋮         ⋮        ⋮                ⋮              \n",
       "113055 408314      1         Bacteria Firmicutes       Bacilli        \n",
       "113056 142020      1         Bacteria Actinobacteriota Actinomycetia  \n",
       "       Order             Family             Genus          \n",
       "1      Nitrososphaerales Nitrosopumilaceae  Cenarchaeum    \n",
       "2      Methanosarcinales Methanosarcinaceae Methanolobus   \n",
       "⋮      ⋮                 ⋮                  ⋮              \n",
       "113055 Bacillales        Bacillaceae_H      Priestia       \n",
       "113056 Mycobacteriales   Mycobacteriaceae   Corynebacterium\n",
       "       Species                    \n",
       "1      Cenarchaeum symbiosum      \n",
       "2      Methanolobus psychrophilus \n",
       "⋮      ⋮                          \n",
       "113055 Priestia aryabhattai       \n",
       "113056 Corynebacterium diphtheriae"
      ]
     },
     "metadata": {},
     "output_type": "display_data"
    }
   ],
   "source": [
    "# number of contigs\n",
    "summary_x(meta_f$contig_count)\n",
    "meta_f = meta_f %>%\n",
    "    filter.(contig_count <= 200) \n",
    "summary_x(meta_f$contig_count)\n",
    "meta_f"
   ]
  },
  {
   "cell_type": "code",
   "execution_count": 17,
   "id": "788edf89",
   "metadata": {
    "ExecuteTime": {
     "end_time": "2021-08-17T13:46:15.690599Z",
     "start_time": "2021-08-17T13:46:00.757Z"
    }
   },
   "outputs": [
    {
     "data": {
      "text/html": [
       "<table class=\"dataframe\">\n",
       "<caption>A matrix: 1 × 8 of type dbl</caption>\n",
       "<thead>\n",
       "\t<tr><th></th><th scope=col>Min.</th><th scope=col>1st Qu.</th><th scope=col>Median</th><th scope=col>Mean</th><th scope=col>3rd Qu.</th><th scope=col>Max.</th><th scope=col>sd</th><th scope=col>sd_err_of_mean</th></tr>\n",
       "</thead>\n",
       "<tbody>\n",
       "\t<tr><th scope=row>genome_size</th><td>419293</td><td>2587056</td><td>4252678</td><td>4167908</td><td>5290967</td><td>25142604</td><td>9060021</td><td>3698738</td></tr>\n",
       "</tbody>\n",
       "</table>\n"
      ],
      "text/latex": [
       "A matrix: 1 × 8 of type dbl\n",
       "\\begin{tabular}{r|llllllll}\n",
       "  & Min. & 1st Qu. & Median & Mean & 3rd Qu. & Max. & sd & sd\\_err\\_of\\_mean\\\\\n",
       "\\hline\n",
       "\tgenome\\_size & 419293 & 2587056 & 4252678 & 4167908 & 5290967 & 25142604 & 9060021 & 3698738\\\\\n",
       "\\end{tabular}\n"
      ],
      "text/markdown": [
       "\n",
       "A matrix: 1 × 8 of type dbl\n",
       "\n",
       "| <!--/--> | Min. | 1st Qu. | Median | Mean | 3rd Qu. | Max. | sd | sd_err_of_mean |\n",
       "|---|---|---|---|---|---|---|---|---|\n",
       "| genome_size | 419293 | 2587056 | 4252678 | 4167908 | 5290967 | 25142604 | 9060021 | 3698738 |\n",
       "\n"
      ],
      "text/plain": [
       "            Min.   1st Qu. Median  Mean    3rd Qu. Max.     sd     \n",
       "genome_size 419293 2587056 4252678 4167908 5290967 25142604 9060021\n",
       "            sd_err_of_mean\n",
       "genome_size 3698738       "
      ]
     },
     "metadata": {},
     "output_type": "display_data"
    },
    {
     "data": {
      "text/html": [
       "<table class=\"dataframe\">\n",
       "<caption>A matrix: 1 × 8 of type dbl</caption>\n",
       "<thead>\n",
       "\t<tr><th></th><th scope=col>Min.</th><th scope=col>1st Qu.</th><th scope=col>Median</th><th scope=col>Mean</th><th scope=col>3rd Qu.</th><th scope=col>Max.</th><th scope=col>sd</th><th scope=col>sd_err_of_mean</th></tr>\n",
       "</thead>\n",
       "<tbody>\n",
       "\t<tr><th scope=row>genome_size</th><td>419293</td><td>2587022</td><td>4252598</td><td>4167553</td><td>5290909</td><td>13559781</td><td>4503301</td><td>1838465</td></tr>\n",
       "</tbody>\n",
       "</table>\n"
      ],
      "text/latex": [
       "A matrix: 1 × 8 of type dbl\n",
       "\\begin{tabular}{r|llllllll}\n",
       "  & Min. & 1st Qu. & Median & Mean & 3rd Qu. & Max. & sd & sd\\_err\\_of\\_mean\\\\\n",
       "\\hline\n",
       "\tgenome\\_size & 419293 & 2587022 & 4252598 & 4167553 & 5290909 & 13559781 & 4503301 & 1838465\\\\\n",
       "\\end{tabular}\n"
      ],
      "text/markdown": [
       "\n",
       "A matrix: 1 × 8 of type dbl\n",
       "\n",
       "| <!--/--> | Min. | 1st Qu. | Median | Mean | 3rd Qu. | Max. | sd | sd_err_of_mean |\n",
       "|---|---|---|---|---|---|---|---|---|\n",
       "| genome_size | 419293 | 2587022 | 4252598 | 4167553 | 5290909 | 13559781 | 4503301 | 1838465 |\n",
       "\n"
      ],
      "text/plain": [
       "            Min.   1st Qu. Median  Mean    3rd Qu. Max.     sd     \n",
       "genome_size 419293 2587022 4252598 4167553 5290909 13559781 4503301\n",
       "            sd_err_of_mean\n",
       "genome_size 1838465       "
      ]
     },
     "metadata": {},
     "output_type": "display_data"
    },
    {
     "data": {
      "text/html": [
       "<table class=\"dataframe\">\n",
       "<caption>A tidytable: 113054 × 23</caption>\n",
       "<thead>\n",
       "\t<tr><th scope=col>accession</th><th scope=col>checkm_completeness</th><th scope=col>checkm_contamination</th><th scope=col>mimag_high_quality</th><th scope=col>mimag_medium_quality</th><th scope=col>mimag_low_quality</th><th scope=col>ncbi_assembly_level</th><th scope=col>ncbi_genome_category</th><th scope=col>ncbi_genbank_assembly_accession</th><th scope=col>mean_contig_length</th><th scope=col>⋯</th><th scope=col>genome_size</th><th scope=col>n50_contigs</th><th scope=col>ssu_count</th><th scope=col>Domain</th><th scope=col>Phylum</th><th scope=col>Class</th><th scope=col>Order</th><th scope=col>Family</th><th scope=col>Genus</th><th scope=col>Species</th></tr>\n",
       "\t<tr><th scope=col>&lt;chr&gt;</th><th scope=col>&lt;dbl&gt;</th><th scope=col>&lt;dbl&gt;</th><th scope=col>&lt;chr&gt;</th><th scope=col>&lt;chr&gt;</th><th scope=col>&lt;chr&gt;</th><th scope=col>&lt;chr&gt;</th><th scope=col>&lt;chr&gt;</th><th scope=col>&lt;chr&gt;</th><th scope=col>&lt;int&gt;</th><th scope=col>⋯</th><th scope=col>&lt;int&gt;</th><th scope=col>&lt;int&gt;</th><th scope=col>&lt;int&gt;</th><th scope=col>&lt;chr&gt;</th><th scope=col>&lt;chr&gt;</th><th scope=col>&lt;chr&gt;</th><th scope=col>&lt;chr&gt;</th><th scope=col>&lt;chr&gt;</th><th scope=col>&lt;chr&gt;</th><th scope=col>&lt;chr&gt;</th></tr>\n",
       "</thead>\n",
       "<tbody>\n",
       "\t<tr><td>GB_GCA_000200715.1</td><td>99.03</td><td>0</td><td>t</td><td>f</td><td>f</td><td>Chromosome     </td><td>derived from environmental sample</td><td>GCA_000200715.1</td><td> 340809</td><td>⋯</td><td>2045086</td><td>1281157</td><td>1</td><td>Archaea</td><td>Thermoproteota</td><td>Nitrososphaeria</td><td>Nitrososphaerales</td><td>Nitrosopumilaceae </td><td>Cenarchaeum </td><td>Cenarchaeum symbiosum     </td></tr>\n",
       "\t<tr><td>GB_GCA_000306725.1</td><td>99.84</td><td>0</td><td>t</td><td>f</td><td>f</td><td>Complete Genome</td><td>none                             </td><td>GCA_000306725.1</td><td>3072769</td><td>⋯</td><td>3072769</td><td>3072769</td><td>3</td><td>Archaea</td><td>Halobacteriota</td><td>Methanosarcinia</td><td>Methanosarcinales</td><td>Methanosarcinaceae</td><td>Methanolobus</td><td>Methanolobus psychrophilus</td></tr>\n",
       "\t<tr><td>⋮</td><td>⋮</td><td>⋮</td><td>⋮</td><td>⋮</td><td>⋮</td><td>⋮</td><td>⋮</td><td>⋮</td><td>⋮</td><td>⋱</td><td>⋮</td><td>⋮</td><td>⋮</td><td>⋮</td><td>⋮</td><td>⋮</td><td>⋮</td><td>⋮</td><td>⋮</td><td>⋮</td></tr>\n",
       "\t<tr><td>RS_GCF_903971035.1</td><td>99.43</td><td>0.61</td><td>t</td><td>f</td><td>f</td><td>Contig</td><td>none</td><td>GCA_903971035.1</td><td>45625</td><td>⋯</td><td>5475026</td><td>408314</td><td>1</td><td>Bacteria</td><td>Firmicutes      </td><td>Bacilli      </td><td>Bacillales     </td><td>Bacillaceae_H   </td><td>Priestia       </td><td>Priestia aryabhattai       </td></tr>\n",
       "\t<tr><td>RS_GCF_903986115.1</td><td>99.45</td><td>0.00</td><td>t</td><td>f</td><td>f</td><td>Contig</td><td>none</td><td>GCA_903986115.1</td><td>52224</td><td>⋯</td><td>2402342</td><td>142020</td><td>1</td><td>Bacteria</td><td>Actinobacteriota</td><td>Actinomycetia</td><td>Mycobacteriales</td><td>Mycobacteriaceae</td><td>Corynebacterium</td><td>Corynebacterium diphtheriae</td></tr>\n",
       "</tbody>\n",
       "</table>\n"
      ],
      "text/latex": [
       "A tidytable: 113054 × 23\n",
       "\\begin{tabular}{lllllllllllllllllllll}\n",
       " accession & checkm\\_completeness & checkm\\_contamination & mimag\\_high\\_quality & mimag\\_medium\\_quality & mimag\\_low\\_quality & ncbi\\_assembly\\_level & ncbi\\_genome\\_category & ncbi\\_genbank\\_assembly\\_accession & mean\\_contig\\_length & ⋯ & genome\\_size & n50\\_contigs & ssu\\_count & Domain & Phylum & Class & Order & Family & Genus & Species\\\\\n",
       " <chr> & <dbl> & <dbl> & <chr> & <chr> & <chr> & <chr> & <chr> & <chr> & <int> & ⋯ & <int> & <int> & <int> & <chr> & <chr> & <chr> & <chr> & <chr> & <chr> & <chr>\\\\\n",
       "\\hline\n",
       "\t GB\\_GCA\\_000200715.1 & 99.03 & 0 & t & f & f & Chromosome      & derived from environmental sample & GCA\\_000200715.1 &  340809 & ⋯ & 2045086 & 1281157 & 1 & Archaea & Thermoproteota & Nitrososphaeria & Nitrososphaerales & Nitrosopumilaceae  & Cenarchaeum  & Cenarchaeum symbiosum     \\\\\n",
       "\t GB\\_GCA\\_000306725.1 & 99.84 & 0 & t & f & f & Complete Genome & none                              & GCA\\_000306725.1 & 3072769 & ⋯ & 3072769 & 3072769 & 3 & Archaea & Halobacteriota & Methanosarcinia & Methanosarcinales & Methanosarcinaceae & Methanolobus & Methanolobus psychrophilus\\\\\n",
       "\t ⋮ & ⋮ & ⋮ & ⋮ & ⋮ & ⋮ & ⋮ & ⋮ & ⋮ & ⋮ & ⋱ & ⋮ & ⋮ & ⋮ & ⋮ & ⋮ & ⋮ & ⋮ & ⋮ & ⋮ & ⋮\\\\\n",
       "\t RS\\_GCF\\_903971035.1 & 99.43 & 0.61 & t & f & f & Contig & none & GCA\\_903971035.1 & 45625 & ⋯ & 5475026 & 408314 & 1 & Bacteria & Firmicutes       & Bacilli       & Bacillales      & Bacillaceae\\_H    & Priestia        & Priestia aryabhattai       \\\\\n",
       "\t RS\\_GCF\\_903986115.1 & 99.45 & 0.00 & t & f & f & Contig & none & GCA\\_903986115.1 & 52224 & ⋯ & 2402342 & 142020 & 1 & Bacteria & Actinobacteriota & Actinomycetia & Mycobacteriales & Mycobacteriaceae & Corynebacterium & Corynebacterium diphtheriae\\\\\n",
       "\\end{tabular}\n"
      ],
      "text/markdown": [
       "\n",
       "A tidytable: 113054 × 23\n",
       "\n",
       "| accession &lt;chr&gt; | checkm_completeness &lt;dbl&gt; | checkm_contamination &lt;dbl&gt; | mimag_high_quality &lt;chr&gt; | mimag_medium_quality &lt;chr&gt; | mimag_low_quality &lt;chr&gt; | ncbi_assembly_level &lt;chr&gt; | ncbi_genome_category &lt;chr&gt; | ncbi_genbank_assembly_accession &lt;chr&gt; | mean_contig_length &lt;int&gt; | ⋯ ⋯ | genome_size &lt;int&gt; | n50_contigs &lt;int&gt; | ssu_count &lt;int&gt; | Domain &lt;chr&gt; | Phylum &lt;chr&gt; | Class &lt;chr&gt; | Order &lt;chr&gt; | Family &lt;chr&gt; | Genus &lt;chr&gt; | Species &lt;chr&gt; |\n",
       "|---|---|---|---|---|---|---|---|---|---|---|---|---|---|---|---|---|---|---|---|---|\n",
       "| GB_GCA_000200715.1 | 99.03 | 0 | t | f | f | Chromosome      | derived from environmental sample | GCA_000200715.1 |  340809 | ⋯ | 2045086 | 1281157 | 1 | Archaea | Thermoproteota | Nitrososphaeria | Nitrososphaerales | Nitrosopumilaceae  | Cenarchaeum  | Cenarchaeum symbiosum      |\n",
       "| GB_GCA_000306725.1 | 99.84 | 0 | t | f | f | Complete Genome | none                              | GCA_000306725.1 | 3072769 | ⋯ | 3072769 | 3072769 | 3 | Archaea | Halobacteriota | Methanosarcinia | Methanosarcinales | Methanosarcinaceae | Methanolobus | Methanolobus psychrophilus |\n",
       "| ⋮ | ⋮ | ⋮ | ⋮ | ⋮ | ⋮ | ⋮ | ⋮ | ⋮ | ⋮ | ⋱ | ⋮ | ⋮ | ⋮ | ⋮ | ⋮ | ⋮ | ⋮ | ⋮ | ⋮ | ⋮ |\n",
       "| RS_GCF_903971035.1 | 99.43 | 0.61 | t | f | f | Contig | none | GCA_903971035.1 | 45625 | ⋯ | 5475026 | 408314 | 1 | Bacteria | Firmicutes       | Bacilli       | Bacillales      | Bacillaceae_H    | Priestia        | Priestia aryabhattai        |\n",
       "| RS_GCF_903986115.1 | 99.45 | 0.00 | t | f | f | Contig | none | GCA_903986115.1 | 52224 | ⋯ | 2402342 | 142020 | 1 | Bacteria | Actinobacteriota | Actinomycetia | Mycobacteriales | Mycobacteriaceae | Corynebacterium | Corynebacterium diphtheriae |\n",
       "\n"
      ],
      "text/plain": [
       "       accession          checkm_completeness checkm_contamination\n",
       "1      GB_GCA_000200715.1 99.03               0                   \n",
       "2      GB_GCA_000306725.1 99.84               0                   \n",
       "⋮      ⋮                  ⋮                   ⋮                   \n",
       "113053 RS_GCF_903971035.1 99.43               0.61                \n",
       "113054 RS_GCF_903986115.1 99.45               0.00                \n",
       "       mimag_high_quality mimag_medium_quality mimag_low_quality\n",
       "1      t                  f                    f                \n",
       "2      t                  f                    f                \n",
       "⋮      ⋮                  ⋮                    ⋮                \n",
       "113053 t                  f                    f                \n",
       "113054 t                  f                    f                \n",
       "       ncbi_assembly_level ncbi_genome_category             \n",
       "1      Chromosome          derived from environmental sample\n",
       "2      Complete Genome     none                             \n",
       "⋮      ⋮                   ⋮                                \n",
       "113053 Contig              none                             \n",
       "113054 Contig              none                             \n",
       "       ncbi_genbank_assembly_accession mean_contig_length ⋯ genome_size\n",
       "1      GCA_000200715.1                  340809            ⋯ 2045086    \n",
       "2      GCA_000306725.1                 3072769            ⋯ 3072769    \n",
       "⋮      ⋮                               ⋮                  ⋱ ⋮          \n",
       "113053 GCA_903971035.1                 45625              ⋯ 5475026    \n",
       "113054 GCA_903986115.1                 52224              ⋯ 2402342    \n",
       "       n50_contigs ssu_count Domain   Phylum           Class          \n",
       "1      1281157     1         Archaea  Thermoproteota   Nitrososphaeria\n",
       "2      3072769     3         Archaea  Halobacteriota   Methanosarcinia\n",
       "⋮      ⋮           ⋮         ⋮        ⋮                ⋮              \n",
       "113053 408314      1         Bacteria Firmicutes       Bacilli        \n",
       "113054 142020      1         Bacteria Actinobacteriota Actinomycetia  \n",
       "       Order             Family             Genus          \n",
       "1      Nitrososphaerales Nitrosopumilaceae  Cenarchaeum    \n",
       "2      Methanosarcinales Methanosarcinaceae Methanolobus   \n",
       "⋮      ⋮                 ⋮                  ⋮              \n",
       "113053 Bacillales        Bacillaceae_H      Priestia       \n",
       "113054 Mycobacteriales   Mycobacteriaceae   Corynebacterium\n",
       "       Species                    \n",
       "1      Cenarchaeum symbiosum      \n",
       "2      Methanolobus psychrophilus \n",
       "⋮      ⋮                          \n",
       "113053 Priestia aryabhattai       \n",
       "113054 Corynebacterium diphtheriae"
      ]
     },
     "metadata": {},
     "output_type": "display_data"
    }
   ],
   "source": [
    "# total genome size\n",
    "summary_x(meta_f$genome_size)\n",
    "meta_f = meta_f %>%\n",
    "    filter(genome_size < 15000000) \n",
    "summary_x(meta_f$genome_size)\n",
    "meta_f"
   ]
  },
  {
   "cell_type": "code",
   "execution_count": 18,
   "id": "cb3223d8",
   "metadata": {
    "ExecuteTime": {
     "end_time": "2021-08-17T13:46:15.784921Z",
     "start_time": "2021-08-17T13:46:00.762Z"
    }
   },
   "outputs": [
    {
     "data": {
      "text/html": [
       "<table class=\"dataframe\">\n",
       "<caption>A matrix: 1 × 8 of type dbl</caption>\n",
       "<thead>\n",
       "\t<tr><th></th><th scope=col>Min.</th><th scope=col>1st Qu.</th><th scope=col>Median</th><th scope=col>Mean</th><th scope=col>3rd Qu.</th><th scope=col>Max.</th><th scope=col>sd</th><th scope=col>sd_err_of_mean</th></tr>\n",
       "</thead>\n",
       "<tbody>\n",
       "\t<tr><th scope=row>mean_contig_length</th><td>4724</td><td>41101</td><td>78465</td><td>622054.4</td><td>245934</td><td>13173116</td><td>5301759</td><td>2164434</td></tr>\n",
       "</tbody>\n",
       "</table>\n"
      ],
      "text/latex": [
       "A matrix: 1 × 8 of type dbl\n",
       "\\begin{tabular}{r|llllllll}\n",
       "  & Min. & 1st Qu. & Median & Mean & 3rd Qu. & Max. & sd & sd\\_err\\_of\\_mean\\\\\n",
       "\\hline\n",
       "\tmean\\_contig\\_length & 4724 & 41101 & 78465 & 622054.4 & 245934 & 13173116 & 5301759 & 2164434\\\\\n",
       "\\end{tabular}\n"
      ],
      "text/markdown": [
       "\n",
       "A matrix: 1 × 8 of type dbl\n",
       "\n",
       "| <!--/--> | Min. | 1st Qu. | Median | Mean | 3rd Qu. | Max. | sd | sd_err_of_mean |\n",
       "|---|---|---|---|---|---|---|---|---|\n",
       "| mean_contig_length | 4724 | 41101 | 78465 | 622054.4 | 245934 | 13173116 | 5301759 | 2164434 |\n",
       "\n"
      ],
      "text/plain": [
       "                   Min. 1st Qu. Median Mean     3rd Qu. Max.     sd     \n",
       "mean_contig_length 4724 41101   78465  622054.4 245934  13173116 5301759\n",
       "                   sd_err_of_mean\n",
       "mean_contig_length 2164434       "
      ]
     },
     "metadata": {},
     "output_type": "display_data"
    },
    {
     "data": {
      "text/html": [
       "<table class=\"dataframe\">\n",
       "<caption>A matrix: 1 × 8 of type dbl</caption>\n",
       "<thead>\n",
       "\t<tr><th></th><th scope=col>Min.</th><th scope=col>1st Qu.</th><th scope=col>Median</th><th scope=col>Mean</th><th scope=col>3rd Qu.</th><th scope=col>Max.</th><th scope=col>sd</th><th scope=col>sd_err_of_mean</th></tr>\n",
       "</thead>\n",
       "<tbody>\n",
       "\t<tr><th scope=row>mean_contig_length</th><td>10001</td><td>41445</td><td>78936</td><td>624697.8</td><td>249163</td><td>13173116</td><td>5300788</td><td>2164038</td></tr>\n",
       "</tbody>\n",
       "</table>\n"
      ],
      "text/latex": [
       "A matrix: 1 × 8 of type dbl\n",
       "\\begin{tabular}{r|llllllll}\n",
       "  & Min. & 1st Qu. & Median & Mean & 3rd Qu. & Max. & sd & sd\\_err\\_of\\_mean\\\\\n",
       "\\hline\n",
       "\tmean\\_contig\\_length & 10001 & 41445 & 78936 & 624697.8 & 249163 & 13173116 & 5300788 & 2164038\\\\\n",
       "\\end{tabular}\n"
      ],
      "text/markdown": [
       "\n",
       "A matrix: 1 × 8 of type dbl\n",
       "\n",
       "| <!--/--> | Min. | 1st Qu. | Median | Mean | 3rd Qu. | Max. | sd | sd_err_of_mean |\n",
       "|---|---|---|---|---|---|---|---|---|\n",
       "| mean_contig_length | 10001 | 41445 | 78936 | 624697.8 | 249163 | 13173116 | 5300788 | 2164038 |\n",
       "\n"
      ],
      "text/plain": [
       "                   Min.  1st Qu. Median Mean     3rd Qu. Max.     sd     \n",
       "mean_contig_length 10001 41445   78936  624697.8 249163  13173116 5300788\n",
       "                   sd_err_of_mean\n",
       "mean_contig_length 2164038       "
      ]
     },
     "metadata": {},
     "output_type": "display_data"
    },
    {
     "data": {
      "text/html": [
       "<table class=\"dataframe\">\n",
       "<caption>A tidytable: 112569 × 23</caption>\n",
       "<thead>\n",
       "\t<tr><th scope=col>accession</th><th scope=col>checkm_completeness</th><th scope=col>checkm_contamination</th><th scope=col>mimag_high_quality</th><th scope=col>mimag_medium_quality</th><th scope=col>mimag_low_quality</th><th scope=col>ncbi_assembly_level</th><th scope=col>ncbi_genome_category</th><th scope=col>ncbi_genbank_assembly_accession</th><th scope=col>mean_contig_length</th><th scope=col>⋯</th><th scope=col>genome_size</th><th scope=col>n50_contigs</th><th scope=col>ssu_count</th><th scope=col>Domain</th><th scope=col>Phylum</th><th scope=col>Class</th><th scope=col>Order</th><th scope=col>Family</th><th scope=col>Genus</th><th scope=col>Species</th></tr>\n",
       "\t<tr><th scope=col>&lt;chr&gt;</th><th scope=col>&lt;dbl&gt;</th><th scope=col>&lt;dbl&gt;</th><th scope=col>&lt;chr&gt;</th><th scope=col>&lt;chr&gt;</th><th scope=col>&lt;chr&gt;</th><th scope=col>&lt;chr&gt;</th><th scope=col>&lt;chr&gt;</th><th scope=col>&lt;chr&gt;</th><th scope=col>&lt;int&gt;</th><th scope=col>⋯</th><th scope=col>&lt;int&gt;</th><th scope=col>&lt;int&gt;</th><th scope=col>&lt;int&gt;</th><th scope=col>&lt;chr&gt;</th><th scope=col>&lt;chr&gt;</th><th scope=col>&lt;chr&gt;</th><th scope=col>&lt;chr&gt;</th><th scope=col>&lt;chr&gt;</th><th scope=col>&lt;chr&gt;</th><th scope=col>&lt;chr&gt;</th></tr>\n",
       "</thead>\n",
       "<tbody>\n",
       "\t<tr><td>GB_GCA_000200715.1</td><td>99.03</td><td>0</td><td>t</td><td>f</td><td>f</td><td>Chromosome     </td><td>derived from environmental sample</td><td>GCA_000200715.1</td><td> 340809</td><td>⋯</td><td>2045086</td><td>1281157</td><td>1</td><td>Archaea</td><td>Thermoproteota</td><td>Nitrososphaeria</td><td>Nitrososphaerales</td><td>Nitrosopumilaceae </td><td>Cenarchaeum </td><td>Cenarchaeum symbiosum     </td></tr>\n",
       "\t<tr><td>GB_GCA_000306725.1</td><td>99.84</td><td>0</td><td>t</td><td>f</td><td>f</td><td>Complete Genome</td><td>none                             </td><td>GCA_000306725.1</td><td>3072769</td><td>⋯</td><td>3072769</td><td>3072769</td><td>3</td><td>Archaea</td><td>Halobacteriota</td><td>Methanosarcinia</td><td>Methanosarcinales</td><td>Methanosarcinaceae</td><td>Methanolobus</td><td>Methanolobus psychrophilus</td></tr>\n",
       "\t<tr><td>⋮</td><td>⋮</td><td>⋮</td><td>⋮</td><td>⋮</td><td>⋮</td><td>⋮</td><td>⋮</td><td>⋮</td><td>⋮</td><td>⋱</td><td>⋮</td><td>⋮</td><td>⋮</td><td>⋮</td><td>⋮</td><td>⋮</td><td>⋮</td><td>⋮</td><td>⋮</td><td>⋮</td></tr>\n",
       "\t<tr><td>RS_GCF_903971035.1</td><td>99.43</td><td>0.61</td><td>t</td><td>f</td><td>f</td><td>Contig</td><td>none</td><td>GCA_903971035.1</td><td>45625</td><td>⋯</td><td>5475026</td><td>408314</td><td>1</td><td>Bacteria</td><td>Firmicutes      </td><td>Bacilli      </td><td>Bacillales     </td><td>Bacillaceae_H   </td><td>Priestia       </td><td>Priestia aryabhattai       </td></tr>\n",
       "\t<tr><td>RS_GCF_903986115.1</td><td>99.45</td><td>0.00</td><td>t</td><td>f</td><td>f</td><td>Contig</td><td>none</td><td>GCA_903986115.1</td><td>52224</td><td>⋯</td><td>2402342</td><td>142020</td><td>1</td><td>Bacteria</td><td>Actinobacteriota</td><td>Actinomycetia</td><td>Mycobacteriales</td><td>Mycobacteriaceae</td><td>Corynebacterium</td><td>Corynebacterium diphtheriae</td></tr>\n",
       "</tbody>\n",
       "</table>\n"
      ],
      "text/latex": [
       "A tidytable: 112569 × 23\n",
       "\\begin{tabular}{lllllllllllllllllllll}\n",
       " accession & checkm\\_completeness & checkm\\_contamination & mimag\\_high\\_quality & mimag\\_medium\\_quality & mimag\\_low\\_quality & ncbi\\_assembly\\_level & ncbi\\_genome\\_category & ncbi\\_genbank\\_assembly\\_accession & mean\\_contig\\_length & ⋯ & genome\\_size & n50\\_contigs & ssu\\_count & Domain & Phylum & Class & Order & Family & Genus & Species\\\\\n",
       " <chr> & <dbl> & <dbl> & <chr> & <chr> & <chr> & <chr> & <chr> & <chr> & <int> & ⋯ & <int> & <int> & <int> & <chr> & <chr> & <chr> & <chr> & <chr> & <chr> & <chr>\\\\\n",
       "\\hline\n",
       "\t GB\\_GCA\\_000200715.1 & 99.03 & 0 & t & f & f & Chromosome      & derived from environmental sample & GCA\\_000200715.1 &  340809 & ⋯ & 2045086 & 1281157 & 1 & Archaea & Thermoproteota & Nitrososphaeria & Nitrososphaerales & Nitrosopumilaceae  & Cenarchaeum  & Cenarchaeum symbiosum     \\\\\n",
       "\t GB\\_GCA\\_000306725.1 & 99.84 & 0 & t & f & f & Complete Genome & none                              & GCA\\_000306725.1 & 3072769 & ⋯ & 3072769 & 3072769 & 3 & Archaea & Halobacteriota & Methanosarcinia & Methanosarcinales & Methanosarcinaceae & Methanolobus & Methanolobus psychrophilus\\\\\n",
       "\t ⋮ & ⋮ & ⋮ & ⋮ & ⋮ & ⋮ & ⋮ & ⋮ & ⋮ & ⋮ & ⋱ & ⋮ & ⋮ & ⋮ & ⋮ & ⋮ & ⋮ & ⋮ & ⋮ & ⋮ & ⋮\\\\\n",
       "\t RS\\_GCF\\_903971035.1 & 99.43 & 0.61 & t & f & f & Contig & none & GCA\\_903971035.1 & 45625 & ⋯ & 5475026 & 408314 & 1 & Bacteria & Firmicutes       & Bacilli       & Bacillales      & Bacillaceae\\_H    & Priestia        & Priestia aryabhattai       \\\\\n",
       "\t RS\\_GCF\\_903986115.1 & 99.45 & 0.00 & t & f & f & Contig & none & GCA\\_903986115.1 & 52224 & ⋯ & 2402342 & 142020 & 1 & Bacteria & Actinobacteriota & Actinomycetia & Mycobacteriales & Mycobacteriaceae & Corynebacterium & Corynebacterium diphtheriae\\\\\n",
       "\\end{tabular}\n"
      ],
      "text/markdown": [
       "\n",
       "A tidytable: 112569 × 23\n",
       "\n",
       "| accession &lt;chr&gt; | checkm_completeness &lt;dbl&gt; | checkm_contamination &lt;dbl&gt; | mimag_high_quality &lt;chr&gt; | mimag_medium_quality &lt;chr&gt; | mimag_low_quality &lt;chr&gt; | ncbi_assembly_level &lt;chr&gt; | ncbi_genome_category &lt;chr&gt; | ncbi_genbank_assembly_accession &lt;chr&gt; | mean_contig_length &lt;int&gt; | ⋯ ⋯ | genome_size &lt;int&gt; | n50_contigs &lt;int&gt; | ssu_count &lt;int&gt; | Domain &lt;chr&gt; | Phylum &lt;chr&gt; | Class &lt;chr&gt; | Order &lt;chr&gt; | Family &lt;chr&gt; | Genus &lt;chr&gt; | Species &lt;chr&gt; |\n",
       "|---|---|---|---|---|---|---|---|---|---|---|---|---|---|---|---|---|---|---|---|---|\n",
       "| GB_GCA_000200715.1 | 99.03 | 0 | t | f | f | Chromosome      | derived from environmental sample | GCA_000200715.1 |  340809 | ⋯ | 2045086 | 1281157 | 1 | Archaea | Thermoproteota | Nitrososphaeria | Nitrososphaerales | Nitrosopumilaceae  | Cenarchaeum  | Cenarchaeum symbiosum      |\n",
       "| GB_GCA_000306725.1 | 99.84 | 0 | t | f | f | Complete Genome | none                              | GCA_000306725.1 | 3072769 | ⋯ | 3072769 | 3072769 | 3 | Archaea | Halobacteriota | Methanosarcinia | Methanosarcinales | Methanosarcinaceae | Methanolobus | Methanolobus psychrophilus |\n",
       "| ⋮ | ⋮ | ⋮ | ⋮ | ⋮ | ⋮ | ⋮ | ⋮ | ⋮ | ⋮ | ⋱ | ⋮ | ⋮ | ⋮ | ⋮ | ⋮ | ⋮ | ⋮ | ⋮ | ⋮ | ⋮ |\n",
       "| RS_GCF_903971035.1 | 99.43 | 0.61 | t | f | f | Contig | none | GCA_903971035.1 | 45625 | ⋯ | 5475026 | 408314 | 1 | Bacteria | Firmicutes       | Bacilli       | Bacillales      | Bacillaceae_H    | Priestia        | Priestia aryabhattai        |\n",
       "| RS_GCF_903986115.1 | 99.45 | 0.00 | t | f | f | Contig | none | GCA_903986115.1 | 52224 | ⋯ | 2402342 | 142020 | 1 | Bacteria | Actinobacteriota | Actinomycetia | Mycobacteriales | Mycobacteriaceae | Corynebacterium | Corynebacterium diphtheriae |\n",
       "\n"
      ],
      "text/plain": [
       "       accession          checkm_completeness checkm_contamination\n",
       "1      GB_GCA_000200715.1 99.03               0                   \n",
       "2      GB_GCA_000306725.1 99.84               0                   \n",
       "⋮      ⋮                  ⋮                   ⋮                   \n",
       "112568 RS_GCF_903971035.1 99.43               0.61                \n",
       "112569 RS_GCF_903986115.1 99.45               0.00                \n",
       "       mimag_high_quality mimag_medium_quality mimag_low_quality\n",
       "1      t                  f                    f                \n",
       "2      t                  f                    f                \n",
       "⋮      ⋮                  ⋮                    ⋮                \n",
       "112568 t                  f                    f                \n",
       "112569 t                  f                    f                \n",
       "       ncbi_assembly_level ncbi_genome_category             \n",
       "1      Chromosome          derived from environmental sample\n",
       "2      Complete Genome     none                             \n",
       "⋮      ⋮                   ⋮                                \n",
       "112568 Contig              none                             \n",
       "112569 Contig              none                             \n",
       "       ncbi_genbank_assembly_accession mean_contig_length ⋯ genome_size\n",
       "1      GCA_000200715.1                  340809            ⋯ 2045086    \n",
       "2      GCA_000306725.1                 3072769            ⋯ 3072769    \n",
       "⋮      ⋮                               ⋮                  ⋱ ⋮          \n",
       "112568 GCA_903971035.1                 45625              ⋯ 5475026    \n",
       "112569 GCA_903986115.1                 52224              ⋯ 2402342    \n",
       "       n50_contigs ssu_count Domain   Phylum           Class          \n",
       "1      1281157     1         Archaea  Thermoproteota   Nitrososphaeria\n",
       "2      3072769     3         Archaea  Halobacteriota   Methanosarcinia\n",
       "⋮      ⋮           ⋮         ⋮        ⋮                ⋮              \n",
       "112568 408314      1         Bacteria Firmicutes       Bacilli        \n",
       "112569 142020      1         Bacteria Actinobacteriota Actinomycetia  \n",
       "       Order             Family             Genus          \n",
       "1      Nitrososphaerales Nitrosopumilaceae  Cenarchaeum    \n",
       "2      Methanosarcinales Methanosarcinaceae Methanolobus   \n",
       "⋮      ⋮                 ⋮                  ⋮              \n",
       "112568 Bacillales        Bacillaceae_H      Priestia       \n",
       "112569 Mycobacteriales   Mycobacteriaceae   Corynebacterium\n",
       "       Species                    \n",
       "1      Cenarchaeum symbiosum      \n",
       "2      Methanolobus psychrophilus \n",
       "⋮      ⋮                          \n",
       "112568 Priestia aryabhattai       \n",
       "112569 Corynebacterium diphtheriae"
      ]
     },
     "metadata": {},
     "output_type": "display_data"
    }
   ],
   "source": [
    "# contig length\n",
    "summary_x(meta_f$mean_contig_length)\n",
    "meta_f = meta_f %>%\n",
    "    filter.(mean_contig_length >= 10000) \n",
    "summary_x(meta_f$mean_contig_length)\n",
    "meta_f "
   ]
  },
  {
   "cell_type": "code",
   "execution_count": 19,
   "id": "8bc905f1",
   "metadata": {
    "ExecuteTime": {
     "end_time": "2021-08-17T13:46:16.078009Z",
     "start_time": "2021-08-17T13:46:00.767Z"
    }
   },
   "outputs": [
    {
     "data": {
      "text/html": [
       "<table class=\"dataframe\">\n",
       "<caption>A matrix: 1 × 8 of type dbl</caption>\n",
       "<thead>\n",
       "\t<tr><th></th><th scope=col>Min.</th><th scope=col>1st Qu.</th><th scope=col>Median</th><th scope=col>Mean</th><th scope=col>3rd Qu.</th><th scope=col>Max.</th><th scope=col>sd</th><th scope=col>sd_err_of_mean</th></tr>\n",
       "</thead>\n",
       "<tbody>\n",
       "\t<tr><th scope=row>ssu_count</th><td>1</td><td>1</td><td>1</td><td>2.463911</td><td>3</td><td>77</td><td>30.756</td><td>12.556</td></tr>\n",
       "</tbody>\n",
       "</table>\n"
      ],
      "text/latex": [
       "A matrix: 1 × 8 of type dbl\n",
       "\\begin{tabular}{r|llllllll}\n",
       "  & Min. & 1st Qu. & Median & Mean & 3rd Qu. & Max. & sd & sd\\_err\\_of\\_mean\\\\\n",
       "\\hline\n",
       "\tssu\\_count & 1 & 1 & 1 & 2.463911 & 3 & 77 & 30.756 & 12.556\\\\\n",
       "\\end{tabular}\n"
      ],
      "text/markdown": [
       "\n",
       "A matrix: 1 × 8 of type dbl\n",
       "\n",
       "| <!--/--> | Min. | 1st Qu. | Median | Mean | 3rd Qu. | Max. | sd | sd_err_of_mean |\n",
       "|---|---|---|---|---|---|---|---|---|\n",
       "| ssu_count | 1 | 1 | 1 | 2.463911 | 3 | 77 | 30.756 | 12.556 |\n",
       "\n"
      ],
      "text/plain": [
       "          Min. 1st Qu. Median Mean     3rd Qu. Max. sd     sd_err_of_mean\n",
       "ssu_count 1    1       1      2.463911 3       77   30.756 12.556        "
      ]
     },
     "metadata": {},
     "output_type": "display_data"
    },
    {
     "data": {
      "text/html": [
       "<table class=\"dataframe\">\n",
       "<caption>A matrix: 1 × 8 of type dbl</caption>\n",
       "<thead>\n",
       "\t<tr><th></th><th scope=col>Min.</th><th scope=col>1st Qu.</th><th scope=col>Median</th><th scope=col>Mean</th><th scope=col>3rd Qu.</th><th scope=col>Max.</th><th scope=col>sd</th><th scope=col>sd_err_of_mean</th></tr>\n",
       "</thead>\n",
       "<tbody>\n",
       "\t<tr><th scope=row>ssu_count</th><td>1</td><td>1</td><td>1</td><td>2.462138</td><td>3</td><td>47</td><td>18.517</td><td>7.56</td></tr>\n",
       "</tbody>\n",
       "</table>\n"
      ],
      "text/latex": [
       "A matrix: 1 × 8 of type dbl\n",
       "\\begin{tabular}{r|llllllll}\n",
       "  & Min. & 1st Qu. & Median & Mean & 3rd Qu. & Max. & sd & sd\\_err\\_of\\_mean\\\\\n",
       "\\hline\n",
       "\tssu\\_count & 1 & 1 & 1 & 2.462138 & 3 & 47 & 18.517 & 7.56\\\\\n",
       "\\end{tabular}\n"
      ],
      "text/markdown": [
       "\n",
       "A matrix: 1 × 8 of type dbl\n",
       "\n",
       "| <!--/--> | Min. | 1st Qu. | Median | Mean | 3rd Qu. | Max. | sd | sd_err_of_mean |\n",
       "|---|---|---|---|---|---|---|---|---|\n",
       "| ssu_count | 1 | 1 | 1 | 2.462138 | 3 | 47 | 18.517 | 7.56 |\n",
       "\n"
      ],
      "text/plain": [
       "          Min. 1st Qu. Median Mean     3rd Qu. Max. sd     sd_err_of_mean\n",
       "ssu_count 1    1       1      2.462138 3       47   18.517 7.56          "
      ]
     },
     "metadata": {},
     "output_type": "display_data"
    },
    {
     "data": {
      "text/html": [
       "<table class=\"dataframe\">\n",
       "<caption>A tidytable: 112566 × 23</caption>\n",
       "<thead>\n",
       "\t<tr><th scope=col>accession</th><th scope=col>checkm_completeness</th><th scope=col>checkm_contamination</th><th scope=col>mimag_high_quality</th><th scope=col>mimag_medium_quality</th><th scope=col>mimag_low_quality</th><th scope=col>ncbi_assembly_level</th><th scope=col>ncbi_genome_category</th><th scope=col>ncbi_genbank_assembly_accession</th><th scope=col>mean_contig_length</th><th scope=col>⋯</th><th scope=col>genome_size</th><th scope=col>n50_contigs</th><th scope=col>ssu_count</th><th scope=col>Domain</th><th scope=col>Phylum</th><th scope=col>Class</th><th scope=col>Order</th><th scope=col>Family</th><th scope=col>Genus</th><th scope=col>Species</th></tr>\n",
       "\t<tr><th scope=col>&lt;chr&gt;</th><th scope=col>&lt;dbl&gt;</th><th scope=col>&lt;dbl&gt;</th><th scope=col>&lt;chr&gt;</th><th scope=col>&lt;chr&gt;</th><th scope=col>&lt;chr&gt;</th><th scope=col>&lt;chr&gt;</th><th scope=col>&lt;chr&gt;</th><th scope=col>&lt;chr&gt;</th><th scope=col>&lt;int&gt;</th><th scope=col>⋯</th><th scope=col>&lt;int&gt;</th><th scope=col>&lt;int&gt;</th><th scope=col>&lt;int&gt;</th><th scope=col>&lt;chr&gt;</th><th scope=col>&lt;chr&gt;</th><th scope=col>&lt;chr&gt;</th><th scope=col>&lt;chr&gt;</th><th scope=col>&lt;chr&gt;</th><th scope=col>&lt;chr&gt;</th><th scope=col>&lt;chr&gt;</th></tr>\n",
       "</thead>\n",
       "<tbody>\n",
       "\t<tr><td>GB_GCA_000200715.1</td><td>99.03</td><td>0</td><td>t</td><td>f</td><td>f</td><td>Chromosome     </td><td>derived from environmental sample</td><td>GCA_000200715.1</td><td> 340809</td><td>⋯</td><td>2045086</td><td>1281157</td><td>1</td><td>Archaea</td><td>Thermoproteota</td><td>Nitrososphaeria</td><td>Nitrososphaerales</td><td>Nitrosopumilaceae </td><td>Cenarchaeum </td><td>Cenarchaeum symbiosum     </td></tr>\n",
       "\t<tr><td>GB_GCA_000306725.1</td><td>99.84</td><td>0</td><td>t</td><td>f</td><td>f</td><td>Complete Genome</td><td>none                             </td><td>GCA_000306725.1</td><td>3072769</td><td>⋯</td><td>3072769</td><td>3072769</td><td>3</td><td>Archaea</td><td>Halobacteriota</td><td>Methanosarcinia</td><td>Methanosarcinales</td><td>Methanosarcinaceae</td><td>Methanolobus</td><td>Methanolobus psychrophilus</td></tr>\n",
       "\t<tr><td>⋮</td><td>⋮</td><td>⋮</td><td>⋮</td><td>⋮</td><td>⋮</td><td>⋮</td><td>⋮</td><td>⋮</td><td>⋮</td><td>⋱</td><td>⋮</td><td>⋮</td><td>⋮</td><td>⋮</td><td>⋮</td><td>⋮</td><td>⋮</td><td>⋮</td><td>⋮</td><td>⋮</td></tr>\n",
       "\t<tr><td>RS_GCF_903971035.1</td><td>99.43</td><td>0.61</td><td>t</td><td>f</td><td>f</td><td>Contig</td><td>none</td><td>GCA_903971035.1</td><td>45625</td><td>⋯</td><td>5475026</td><td>408314</td><td>1</td><td>Bacteria</td><td>Firmicutes      </td><td>Bacilli      </td><td>Bacillales     </td><td>Bacillaceae_H   </td><td>Priestia       </td><td>Priestia aryabhattai       </td></tr>\n",
       "\t<tr><td>RS_GCF_903986115.1</td><td>99.45</td><td>0.00</td><td>t</td><td>f</td><td>f</td><td>Contig</td><td>none</td><td>GCA_903986115.1</td><td>52224</td><td>⋯</td><td>2402342</td><td>142020</td><td>1</td><td>Bacteria</td><td>Actinobacteriota</td><td>Actinomycetia</td><td>Mycobacteriales</td><td>Mycobacteriaceae</td><td>Corynebacterium</td><td>Corynebacterium diphtheriae</td></tr>\n",
       "</tbody>\n",
       "</table>\n"
      ],
      "text/latex": [
       "A tidytable: 112566 × 23\n",
       "\\begin{tabular}{lllllllllllllllllllll}\n",
       " accession & checkm\\_completeness & checkm\\_contamination & mimag\\_high\\_quality & mimag\\_medium\\_quality & mimag\\_low\\_quality & ncbi\\_assembly\\_level & ncbi\\_genome\\_category & ncbi\\_genbank\\_assembly\\_accession & mean\\_contig\\_length & ⋯ & genome\\_size & n50\\_contigs & ssu\\_count & Domain & Phylum & Class & Order & Family & Genus & Species\\\\\n",
       " <chr> & <dbl> & <dbl> & <chr> & <chr> & <chr> & <chr> & <chr> & <chr> & <int> & ⋯ & <int> & <int> & <int> & <chr> & <chr> & <chr> & <chr> & <chr> & <chr> & <chr>\\\\\n",
       "\\hline\n",
       "\t GB\\_GCA\\_000200715.1 & 99.03 & 0 & t & f & f & Chromosome      & derived from environmental sample & GCA\\_000200715.1 &  340809 & ⋯ & 2045086 & 1281157 & 1 & Archaea & Thermoproteota & Nitrososphaeria & Nitrososphaerales & Nitrosopumilaceae  & Cenarchaeum  & Cenarchaeum symbiosum     \\\\\n",
       "\t GB\\_GCA\\_000306725.1 & 99.84 & 0 & t & f & f & Complete Genome & none                              & GCA\\_000306725.1 & 3072769 & ⋯ & 3072769 & 3072769 & 3 & Archaea & Halobacteriota & Methanosarcinia & Methanosarcinales & Methanosarcinaceae & Methanolobus & Methanolobus psychrophilus\\\\\n",
       "\t ⋮ & ⋮ & ⋮ & ⋮ & ⋮ & ⋮ & ⋮ & ⋮ & ⋮ & ⋮ & ⋱ & ⋮ & ⋮ & ⋮ & ⋮ & ⋮ & ⋮ & ⋮ & ⋮ & ⋮ & ⋮\\\\\n",
       "\t RS\\_GCF\\_903971035.1 & 99.43 & 0.61 & t & f & f & Contig & none & GCA\\_903971035.1 & 45625 & ⋯ & 5475026 & 408314 & 1 & Bacteria & Firmicutes       & Bacilli       & Bacillales      & Bacillaceae\\_H    & Priestia        & Priestia aryabhattai       \\\\\n",
       "\t RS\\_GCF\\_903986115.1 & 99.45 & 0.00 & t & f & f & Contig & none & GCA\\_903986115.1 & 52224 & ⋯ & 2402342 & 142020 & 1 & Bacteria & Actinobacteriota & Actinomycetia & Mycobacteriales & Mycobacteriaceae & Corynebacterium & Corynebacterium diphtheriae\\\\\n",
       "\\end{tabular}\n"
      ],
      "text/markdown": [
       "\n",
       "A tidytable: 112566 × 23\n",
       "\n",
       "| accession &lt;chr&gt; | checkm_completeness &lt;dbl&gt; | checkm_contamination &lt;dbl&gt; | mimag_high_quality &lt;chr&gt; | mimag_medium_quality &lt;chr&gt; | mimag_low_quality &lt;chr&gt; | ncbi_assembly_level &lt;chr&gt; | ncbi_genome_category &lt;chr&gt; | ncbi_genbank_assembly_accession &lt;chr&gt; | mean_contig_length &lt;int&gt; | ⋯ ⋯ | genome_size &lt;int&gt; | n50_contigs &lt;int&gt; | ssu_count &lt;int&gt; | Domain &lt;chr&gt; | Phylum &lt;chr&gt; | Class &lt;chr&gt; | Order &lt;chr&gt; | Family &lt;chr&gt; | Genus &lt;chr&gt; | Species &lt;chr&gt; |\n",
       "|---|---|---|---|---|---|---|---|---|---|---|---|---|---|---|---|---|---|---|---|---|\n",
       "| GB_GCA_000200715.1 | 99.03 | 0 | t | f | f | Chromosome      | derived from environmental sample | GCA_000200715.1 |  340809 | ⋯ | 2045086 | 1281157 | 1 | Archaea | Thermoproteota | Nitrososphaeria | Nitrososphaerales | Nitrosopumilaceae  | Cenarchaeum  | Cenarchaeum symbiosum      |\n",
       "| GB_GCA_000306725.1 | 99.84 | 0 | t | f | f | Complete Genome | none                              | GCA_000306725.1 | 3072769 | ⋯ | 3072769 | 3072769 | 3 | Archaea | Halobacteriota | Methanosarcinia | Methanosarcinales | Methanosarcinaceae | Methanolobus | Methanolobus psychrophilus |\n",
       "| ⋮ | ⋮ | ⋮ | ⋮ | ⋮ | ⋮ | ⋮ | ⋮ | ⋮ | ⋮ | ⋱ | ⋮ | ⋮ | ⋮ | ⋮ | ⋮ | ⋮ | ⋮ | ⋮ | ⋮ | ⋮ |\n",
       "| RS_GCF_903971035.1 | 99.43 | 0.61 | t | f | f | Contig | none | GCA_903971035.1 | 45625 | ⋯ | 5475026 | 408314 | 1 | Bacteria | Firmicutes       | Bacilli       | Bacillales      | Bacillaceae_H    | Priestia        | Priestia aryabhattai        |\n",
       "| RS_GCF_903986115.1 | 99.45 | 0.00 | t | f | f | Contig | none | GCA_903986115.1 | 52224 | ⋯ | 2402342 | 142020 | 1 | Bacteria | Actinobacteriota | Actinomycetia | Mycobacteriales | Mycobacteriaceae | Corynebacterium | Corynebacterium diphtheriae |\n",
       "\n"
      ],
      "text/plain": [
       "       accession          checkm_completeness checkm_contamination\n",
       "1      GB_GCA_000200715.1 99.03               0                   \n",
       "2      GB_GCA_000306725.1 99.84               0                   \n",
       "⋮      ⋮                  ⋮                   ⋮                   \n",
       "112565 RS_GCF_903971035.1 99.43               0.61                \n",
       "112566 RS_GCF_903986115.1 99.45               0.00                \n",
       "       mimag_high_quality mimag_medium_quality mimag_low_quality\n",
       "1      t                  f                    f                \n",
       "2      t                  f                    f                \n",
       "⋮      ⋮                  ⋮                    ⋮                \n",
       "112565 t                  f                    f                \n",
       "112566 t                  f                    f                \n",
       "       ncbi_assembly_level ncbi_genome_category             \n",
       "1      Chromosome          derived from environmental sample\n",
       "2      Complete Genome     none                             \n",
       "⋮      ⋮                   ⋮                                \n",
       "112565 Contig              none                             \n",
       "112566 Contig              none                             \n",
       "       ncbi_genbank_assembly_accession mean_contig_length ⋯ genome_size\n",
       "1      GCA_000200715.1                  340809            ⋯ 2045086    \n",
       "2      GCA_000306725.1                 3072769            ⋯ 3072769    \n",
       "⋮      ⋮                               ⋮                  ⋱ ⋮          \n",
       "112565 GCA_903971035.1                 45625              ⋯ 5475026    \n",
       "112566 GCA_903986115.1                 52224              ⋯ 2402342    \n",
       "       n50_contigs ssu_count Domain   Phylum           Class          \n",
       "1      1281157     1         Archaea  Thermoproteota   Nitrososphaeria\n",
       "2      3072769     3         Archaea  Halobacteriota   Methanosarcinia\n",
       "⋮      ⋮           ⋮         ⋮        ⋮                ⋮              \n",
       "112565 408314      1         Bacteria Firmicutes       Bacilli        \n",
       "112566 142020      1         Bacteria Actinobacteriota Actinomycetia  \n",
       "       Order             Family             Genus          \n",
       "1      Nitrososphaerales Nitrosopumilaceae  Cenarchaeum    \n",
       "2      Methanosarcinales Methanosarcinaceae Methanolobus   \n",
       "⋮      ⋮                 ⋮                  ⋮              \n",
       "112565 Bacillales        Bacillaceae_H      Priestia       \n",
       "112566 Mycobacteriales   Mycobacteriaceae   Corynebacterium\n",
       "       Species                    \n",
       "1      Cenarchaeum symbiosum      \n",
       "2      Methanolobus psychrophilus \n",
       "⋮      ⋮                          \n",
       "112565 Priestia aryabhattai       \n",
       "112566 Corynebacterium diphtheriae"
      ]
     },
     "metadata": {},
     "output_type": "display_data"
    }
   ],
   "source": [
    "#ssu_count\n",
    "summary_x(meta_f$ssu_count)\n",
    "meta_f = meta_f %>%\n",
    "    filter.(ssu_count <= 50) \n",
    "summary_x(meta_f$ssu_count)\n",
    "meta_f"
   ]
  },
  {
   "cell_type": "markdown",
   "id": "3287652c",
   "metadata": {},
   "source": [
    "# Taxonomy"
   ]
  },
  {
   "cell_type": "code",
   "execution_count": 20,
   "id": "979d8b74",
   "metadata": {
    "ExecuteTime": {
     "end_time": "2021-08-17T13:46:16.140562Z",
     "start_time": "2021-08-17T13:46:00.770Z"
    },
    "code_folding": []
   },
   "outputs": [
    {
     "data": {
      "text/plain": [
       "   Min. 1st Qu.  Median    Mean 3rd Qu.    Max. \n",
       "      1       1       1       1       1       1 "
      ]
     },
     "metadata": {},
     "output_type": "display_data"
    }
   ],
   "source": [
    "# genomes per accession\n",
    "meta_f %>%\n",
    "    summarize.(n = n.(),\n",
    "               .by=c(accession)) %>%\n",
    "    .$n %>% summary"
   ]
  },
  {
   "cell_type": "code",
   "execution_count": 21,
   "id": "981b2dc5",
   "metadata": {
    "ExecuteTime": {
     "end_time": "2021-08-17T13:46:16.200365Z",
     "start_time": "2021-08-17T13:46:00.774Z"
    }
   },
   "outputs": [
    {
     "data": {
      "text/html": [
       "<table class=\"dataframe\">\n",
       "<caption>A tidytable: 58 × 2</caption>\n",
       "<thead>\n",
       "\t<tr><th scope=col>Phylum</th><th scope=col>n</th></tr>\n",
       "\t<tr><th scope=col>&lt;chr&gt;</th><th scope=col>&lt;int&gt;</th></tr>\n",
       "</thead>\n",
       "<tbody>\n",
       "\t<tr><td>Proteobacteria        </td><td>64974</td></tr>\n",
       "\t<tr><td>Firmicutes            </td><td>28805</td></tr>\n",
       "\t<tr><td>Actinobacteriota      </td><td> 6888</td></tr>\n",
       "\t<tr><td>Bacteroidota          </td><td> 4131</td></tr>\n",
       "\t<tr><td>Firmicutes_A          </td><td> 3717</td></tr>\n",
       "\t<tr><td>Spirochaetota         </td><td>  735</td></tr>\n",
       "\t<tr><td>Halobacteriota        </td><td>  463</td></tr>\n",
       "\t<tr><td>Chlamydiota           </td><td>  381</td></tr>\n",
       "\t<tr><td>Campylobacterota      </td><td>  321</td></tr>\n",
       "\t<tr><td>Verrucomicrobiota     </td><td>  286</td></tr>\n",
       "\t<tr><td>Cyanobacteria         </td><td>  260</td></tr>\n",
       "\t<tr><td>Firmicutes_C          </td><td>  213</td></tr>\n",
       "\t<tr><td>Desulfobacterota      </td><td>  180</td></tr>\n",
       "\t<tr><td>Fusobacteriota        </td><td>  165</td></tr>\n",
       "\t<tr><td>Methanobacteriota     </td><td>  135</td></tr>\n",
       "\t<tr><td>Deinococcota          </td><td>   93</td></tr>\n",
       "\t<tr><td>Firmicutes_B          </td><td>   82</td></tr>\n",
       "\t<tr><td>Thermotogota          </td><td>   80</td></tr>\n",
       "\t<tr><td>Planctomycetota       </td><td>   78</td></tr>\n",
       "\t<tr><td>Acidobacteriota       </td><td>   69</td></tr>\n",
       "\t<tr><td>Chloroflexota         </td><td>   61</td></tr>\n",
       "\t<tr><td>Desulfobacterota_F    </td><td>   56</td></tr>\n",
       "\t<tr><td>Myxococcota           </td><td>   53</td></tr>\n",
       "\t<tr><td>Thermoproteota        </td><td>   38</td></tr>\n",
       "\t<tr><td>Synergistota          </td><td>   32</td></tr>\n",
       "\t<tr><td>Thermoplasmatota      </td><td>   31</td></tr>\n",
       "\t<tr><td>Aquificota            </td><td>   31</td></tr>\n",
       "\t<tr><td>Fibrobacterota        </td><td>   31</td></tr>\n",
       "\t<tr><td>Bdellovibrionota      </td><td>   30</td></tr>\n",
       "\t<tr><td>Firmicutes_F          </td><td>   26</td></tr>\n",
       "\t<tr><td>Nitrospirota          </td><td>   20</td></tr>\n",
       "\t<tr><td>Armatimonadota        </td><td>   12</td></tr>\n",
       "\t<tr><td>Deferribacterota      </td><td>   11</td></tr>\n",
       "\t<tr><td>Gemmatimonadota       </td><td>    9</td></tr>\n",
       "\t<tr><td>Nitrospirota_A        </td><td>    8</td></tr>\n",
       "\t<tr><td>Marinisomatota        </td><td>    6</td></tr>\n",
       "\t<tr><td>Firmicutes_E          </td><td>    5</td></tr>\n",
       "\t<tr><td>Firestonebacteria     </td><td>    5</td></tr>\n",
       "\t<tr><td>Firmicutes_D          </td><td>    4</td></tr>\n",
       "\t<tr><td>Coprothermobacterota  </td><td>    4</td></tr>\n",
       "\t<tr><td>Methylomirabilota     </td><td>    3</td></tr>\n",
       "\t<tr><td>WOR-3                 </td><td>    3</td></tr>\n",
       "\t<tr><td>Omnitrophota          </td><td>    3</td></tr>\n",
       "\t<tr><td>Dictyoglomota         </td><td>    3</td></tr>\n",
       "\t<tr><td>Chrysiogenetota       </td><td>    3</td></tr>\n",
       "\t<tr><td>Firmicutes_G          </td><td>    3</td></tr>\n",
       "\t<tr><td>Zixibacteria          </td><td>    3</td></tr>\n",
       "\t<tr><td>Micrarchaeota         </td><td>    2</td></tr>\n",
       "\t<tr><td>Caldisericota         </td><td>    2</td></tr>\n",
       "\t<tr><td>Cloacimonadota        </td><td>    2</td></tr>\n",
       "\t<tr><td>Eremiobacterota       </td><td>    2</td></tr>\n",
       "\t<tr><td>Thermodesulfobiota    </td><td>    2</td></tr>\n",
       "\t<tr><td>Hydrothermarchaeota   </td><td>    1</td></tr>\n",
       "\t<tr><td>BMS3Abin14            </td><td>    1</td></tr>\n",
       "\t<tr><td>Thermosulfidibacterota</td><td>    1</td></tr>\n",
       "\t<tr><td>Nitrospinota          </td><td>    1</td></tr>\n",
       "\t<tr><td>Elusimicrobiota       </td><td>    1</td></tr>\n",
       "\t<tr><td>Bipolaricaulota       </td><td>    1</td></tr>\n",
       "</tbody>\n",
       "</table>\n"
      ],
      "text/latex": [
       "A tidytable: 58 × 2\n",
       "\\begin{tabular}{ll}\n",
       " Phylum & n\\\\\n",
       " <chr> & <int>\\\\\n",
       "\\hline\n",
       "\t Proteobacteria         & 64974\\\\\n",
       "\t Firmicutes             & 28805\\\\\n",
       "\t Actinobacteriota       &  6888\\\\\n",
       "\t Bacteroidota           &  4131\\\\\n",
       "\t Firmicutes\\_A           &  3717\\\\\n",
       "\t Spirochaetota          &   735\\\\\n",
       "\t Halobacteriota         &   463\\\\\n",
       "\t Chlamydiota            &   381\\\\\n",
       "\t Campylobacterota       &   321\\\\\n",
       "\t Verrucomicrobiota      &   286\\\\\n",
       "\t Cyanobacteria          &   260\\\\\n",
       "\t Firmicutes\\_C           &   213\\\\\n",
       "\t Desulfobacterota       &   180\\\\\n",
       "\t Fusobacteriota         &   165\\\\\n",
       "\t Methanobacteriota      &   135\\\\\n",
       "\t Deinococcota           &    93\\\\\n",
       "\t Firmicutes\\_B           &    82\\\\\n",
       "\t Thermotogota           &    80\\\\\n",
       "\t Planctomycetota        &    78\\\\\n",
       "\t Acidobacteriota        &    69\\\\\n",
       "\t Chloroflexota          &    61\\\\\n",
       "\t Desulfobacterota\\_F     &    56\\\\\n",
       "\t Myxococcota            &    53\\\\\n",
       "\t Thermoproteota         &    38\\\\\n",
       "\t Synergistota           &    32\\\\\n",
       "\t Thermoplasmatota       &    31\\\\\n",
       "\t Aquificota             &    31\\\\\n",
       "\t Fibrobacterota         &    31\\\\\n",
       "\t Bdellovibrionota       &    30\\\\\n",
       "\t Firmicutes\\_F           &    26\\\\\n",
       "\t Nitrospirota           &    20\\\\\n",
       "\t Armatimonadota         &    12\\\\\n",
       "\t Deferribacterota       &    11\\\\\n",
       "\t Gemmatimonadota        &     9\\\\\n",
       "\t Nitrospirota\\_A         &     8\\\\\n",
       "\t Marinisomatota         &     6\\\\\n",
       "\t Firmicutes\\_E           &     5\\\\\n",
       "\t Firestonebacteria      &     5\\\\\n",
       "\t Firmicutes\\_D           &     4\\\\\n",
       "\t Coprothermobacterota   &     4\\\\\n",
       "\t Methylomirabilota      &     3\\\\\n",
       "\t WOR-3                  &     3\\\\\n",
       "\t Omnitrophota           &     3\\\\\n",
       "\t Dictyoglomota          &     3\\\\\n",
       "\t Chrysiogenetota        &     3\\\\\n",
       "\t Firmicutes\\_G           &     3\\\\\n",
       "\t Zixibacteria           &     3\\\\\n",
       "\t Micrarchaeota          &     2\\\\\n",
       "\t Caldisericota          &     2\\\\\n",
       "\t Cloacimonadota         &     2\\\\\n",
       "\t Eremiobacterota        &     2\\\\\n",
       "\t Thermodesulfobiota     &     2\\\\\n",
       "\t Hydrothermarchaeota    &     1\\\\\n",
       "\t BMS3Abin14             &     1\\\\\n",
       "\t Thermosulfidibacterota &     1\\\\\n",
       "\t Nitrospinota           &     1\\\\\n",
       "\t Elusimicrobiota        &     1\\\\\n",
       "\t Bipolaricaulota        &     1\\\\\n",
       "\\end{tabular}\n"
      ],
      "text/markdown": [
       "\n",
       "A tidytable: 58 × 2\n",
       "\n",
       "| Phylum &lt;chr&gt; | n &lt;int&gt; |\n",
       "|---|---|\n",
       "| Proteobacteria         | 64974 |\n",
       "| Firmicutes             | 28805 |\n",
       "| Actinobacteriota       |  6888 |\n",
       "| Bacteroidota           |  4131 |\n",
       "| Firmicutes_A           |  3717 |\n",
       "| Spirochaetota          |   735 |\n",
       "| Halobacteriota         |   463 |\n",
       "| Chlamydiota            |   381 |\n",
       "| Campylobacterota       |   321 |\n",
       "| Verrucomicrobiota      |   286 |\n",
       "| Cyanobacteria          |   260 |\n",
       "| Firmicutes_C           |   213 |\n",
       "| Desulfobacterota       |   180 |\n",
       "| Fusobacteriota         |   165 |\n",
       "| Methanobacteriota      |   135 |\n",
       "| Deinococcota           |    93 |\n",
       "| Firmicutes_B           |    82 |\n",
       "| Thermotogota           |    80 |\n",
       "| Planctomycetota        |    78 |\n",
       "| Acidobacteriota        |    69 |\n",
       "| Chloroflexota          |    61 |\n",
       "| Desulfobacterota_F     |    56 |\n",
       "| Myxococcota            |    53 |\n",
       "| Thermoproteota         |    38 |\n",
       "| Synergistota           |    32 |\n",
       "| Thermoplasmatota       |    31 |\n",
       "| Aquificota             |    31 |\n",
       "| Fibrobacterota         |    31 |\n",
       "| Bdellovibrionota       |    30 |\n",
       "| Firmicutes_F           |    26 |\n",
       "| Nitrospirota           |    20 |\n",
       "| Armatimonadota         |    12 |\n",
       "| Deferribacterota       |    11 |\n",
       "| Gemmatimonadota        |     9 |\n",
       "| Nitrospirota_A         |     8 |\n",
       "| Marinisomatota         |     6 |\n",
       "| Firmicutes_E           |     5 |\n",
       "| Firestonebacteria      |     5 |\n",
       "| Firmicutes_D           |     4 |\n",
       "| Coprothermobacterota   |     4 |\n",
       "| Methylomirabilota      |     3 |\n",
       "| WOR-3                  |     3 |\n",
       "| Omnitrophota           |     3 |\n",
       "| Dictyoglomota          |     3 |\n",
       "| Chrysiogenetota        |     3 |\n",
       "| Firmicutes_G           |     3 |\n",
       "| Zixibacteria           |     3 |\n",
       "| Micrarchaeota          |     2 |\n",
       "| Caldisericota          |     2 |\n",
       "| Cloacimonadota         |     2 |\n",
       "| Eremiobacterota        |     2 |\n",
       "| Thermodesulfobiota     |     2 |\n",
       "| Hydrothermarchaeota    |     1 |\n",
       "| BMS3Abin14             |     1 |\n",
       "| Thermosulfidibacterota |     1 |\n",
       "| Nitrospinota           |     1 |\n",
       "| Elusimicrobiota        |     1 |\n",
       "| Bipolaricaulota        |     1 |\n",
       "\n"
      ],
      "text/plain": [
       "   Phylum                 n    \n",
       "1  Proteobacteria         64974\n",
       "2  Firmicutes             28805\n",
       "3  Actinobacteriota        6888\n",
       "4  Bacteroidota            4131\n",
       "5  Firmicutes_A            3717\n",
       "6  Spirochaetota            735\n",
       "7  Halobacteriota           463\n",
       "8  Chlamydiota              381\n",
       "9  Campylobacterota         321\n",
       "10 Verrucomicrobiota        286\n",
       "11 Cyanobacteria            260\n",
       "12 Firmicutes_C             213\n",
       "13 Desulfobacterota         180\n",
       "14 Fusobacteriota           165\n",
       "15 Methanobacteriota        135\n",
       "16 Deinococcota              93\n",
       "17 Firmicutes_B              82\n",
       "18 Thermotogota              80\n",
       "19 Planctomycetota           78\n",
       "20 Acidobacteriota           69\n",
       "21 Chloroflexota             61\n",
       "22 Desulfobacterota_F        56\n",
       "23 Myxococcota               53\n",
       "24 Thermoproteota            38\n",
       "25 Synergistota              32\n",
       "26 Thermoplasmatota          31\n",
       "27 Aquificota                31\n",
       "28 Fibrobacterota            31\n",
       "29 Bdellovibrionota          30\n",
       "30 Firmicutes_F              26\n",
       "31 Nitrospirota              20\n",
       "32 Armatimonadota            12\n",
       "33 Deferribacterota          11\n",
       "34 Gemmatimonadota            9\n",
       "35 Nitrospirota_A             8\n",
       "36 Marinisomatota             6\n",
       "37 Firmicutes_E               5\n",
       "38 Firestonebacteria          5\n",
       "39 Firmicutes_D               4\n",
       "40 Coprothermobacterota       4\n",
       "41 Methylomirabilota          3\n",
       "42 WOR-3                      3\n",
       "43 Omnitrophota               3\n",
       "44 Dictyoglomota              3\n",
       "45 Chrysiogenetota            3\n",
       "46 Firmicutes_G               3\n",
       "47 Zixibacteria               3\n",
       "48 Micrarchaeota              2\n",
       "49 Caldisericota              2\n",
       "50 Cloacimonadota             2\n",
       "51 Eremiobacterota            2\n",
       "52 Thermodesulfobiota         2\n",
       "53 Hydrothermarchaeota        1\n",
       "54 BMS3Abin14                 1\n",
       "55 Thermosulfidibacterota     1\n",
       "56 Nitrospinota               1\n",
       "57 Elusimicrobiota            1\n",
       "58 Bipolaricaulota            1"
      ]
     },
     "metadata": {},
     "output_type": "display_data"
    }
   ],
   "source": [
    "df.dims(60)\n",
    "meta_f %>%\n",
    "    summarize.(n = n.(),\n",
    "               .by=c(Phylum)) %>%\n",
    "    arrange.(-n)\n",
    "df.dims()"
   ]
  },
  {
   "cell_type": "markdown",
   "id": "0f9881f6",
   "metadata": {},
   "source": [
    "# Subsampling per species\n",
    "\n",
    "* reducing per-species biases"
   ]
  },
  {
   "cell_type": "code",
   "execution_count": 22,
   "id": "06dddbb2",
   "metadata": {
    "ExecuteTime": {
     "end_time": "2021-08-17T13:46:16.251347Z",
     "start_time": "2021-08-17T13:46:00.778Z"
    }
   },
   "outputs": [
    {
     "data": {
      "text/html": [
       "<table class=\"dataframe\">\n",
       "<caption>A matrix: 1 × 8 of type dbl</caption>\n",
       "<thead>\n",
       "\t<tr><th></th><th scope=col>Min.</th><th scope=col>1st Qu.</th><th scope=col>Median</th><th scope=col>Mean</th><th scope=col>3rd Qu.</th><th scope=col>Max.</th><th scope=col>sd</th><th scope=col>sd_err_of_mean</th></tr>\n",
       "</thead>\n",
       "<tbody>\n",
       "\t<tr><th scope=row>genomes per species</th><td>1</td><td>1</td><td>1</td><td>6.78599</td><td>2</td><td>7541</td><td>3077.639</td><td>1256.441</td></tr>\n",
       "</tbody>\n",
       "</table>\n"
      ],
      "text/latex": [
       "A matrix: 1 × 8 of type dbl\n",
       "\\begin{tabular}{r|llllllll}\n",
       "  & Min. & 1st Qu. & Median & Mean & 3rd Qu. & Max. & sd & sd\\_err\\_of\\_mean\\\\\n",
       "\\hline\n",
       "\tgenomes per species & 1 & 1 & 1 & 6.78599 & 2 & 7541 & 3077.639 & 1256.441\\\\\n",
       "\\end{tabular}\n"
      ],
      "text/markdown": [
       "\n",
       "A matrix: 1 × 8 of type dbl\n",
       "\n",
       "| <!--/--> | Min. | 1st Qu. | Median | Mean | 3rd Qu. | Max. | sd | sd_err_of_mean |\n",
       "|---|---|---|---|---|---|---|---|---|\n",
       "| genomes per species | 1 | 1 | 1 | 6.78599 | 2 | 7541 | 3077.639 | 1256.441 |\n",
       "\n"
      ],
      "text/plain": [
       "                    Min. 1st Qu. Median Mean    3rd Qu. Max. sd      \n",
       "genomes per species 1    1       1      6.78599 2       7541 3077.639\n",
       "                    sd_err_of_mean\n",
       "genomes per species 1256.441      "
      ]
     },
     "metadata": {},
     "output_type": "display_data"
    }
   ],
   "source": [
    "# number of species (pre-subsample)\n",
    "meta_f %>%\n",
    "    summarize.(n = n.(),\n",
    "               .by=c(Phylum, Class, Order, Family, Genus, Species)) %>%\n",
    "    .$n %>% summary_x('genomes per species')"
   ]
  },
  {
   "cell_type": "code",
   "execution_count": 23,
   "id": "203a66f3",
   "metadata": {
    "ExecuteTime": {
     "end_time": "2021-08-17T13:46:16.265030Z",
     "start_time": "2021-08-17T13:46:00.780Z"
    }
   },
   "outputs": [],
   "source": [
    "# cutoff for max number of species\n",
    "n_per_species = 50"
   ]
  },
  {
   "cell_type": "code",
   "execution_count": 24,
   "id": "d219337d",
   "metadata": {
    "ExecuteTime": {
     "end_time": "2021-08-17T13:46:17.579001Z",
     "start_time": "2021-08-17T13:46:00.784Z"
    }
   },
   "outputs": [
    {
     "data": {
      "text/html": [
       "<table class=\"dataframe\">\n",
       "<caption>A matrix: 1 × 8 of type dbl</caption>\n",
       "<thead>\n",
       "\t<tr><th></th><th scope=col>Min.</th><th scope=col>1st Qu.</th><th scope=col>Median</th><th scope=col>Mean</th><th scope=col>3rd Qu.</th><th scope=col>Max.</th><th scope=col>sd</th><th scope=col>sd_err_of_mean</th></tr>\n",
       "</thead>\n",
       "<tbody>\n",
       "\t<tr><th scope=row>genomes per species</th><td>1</td><td>1</td><td>1</td><td>2.407946</td><td>2</td><td>35</td><td>13.697</td><td>5.592</td></tr>\n",
       "</tbody>\n",
       "</table>\n"
      ],
      "text/latex": [
       "A matrix: 1 × 8 of type dbl\n",
       "\\begin{tabular}{r|llllllll}\n",
       "  & Min. & 1st Qu. & Median & Mean & 3rd Qu. & Max. & sd & sd\\_err\\_of\\_mean\\\\\n",
       "\\hline\n",
       "\tgenomes per species & 1 & 1 & 1 & 2.407946 & 2 & 35 & 13.697 & 5.592\\\\\n",
       "\\end{tabular}\n"
      ],
      "text/markdown": [
       "\n",
       "A matrix: 1 × 8 of type dbl\n",
       "\n",
       "| <!--/--> | Min. | 1st Qu. | Median | Mean | 3rd Qu. | Max. | sd | sd_err_of_mean |\n",
       "|---|---|---|---|---|---|---|---|---|\n",
       "| genomes per species | 1 | 1 | 1 | 2.407946 | 2 | 35 | 13.697 | 5.592 |\n",
       "\n"
      ],
      "text/plain": [
       "                    Min. 1st Qu. Median Mean     3rd Qu. Max. sd    \n",
       "genomes per species 1    1       1      2.407946 2       35   13.697\n",
       "                    sd_err_of_mean\n",
       "genomes per species 5.592         "
      ]
     },
     "metadata": {},
     "output_type": "display_data"
    },
    {
     "data": {
      "image/png": "[encoded data removed]",
      "text/plain": [
       "plot without title"
      ]
     },
     "metadata": {
      "image/png": {
       "height": 220,
       "width": 400
      }
     },
     "output_type": "display_data"
    }
   ],
   "source": [
    "# filtering\n",
    "meta_ff = meta_f %>%\n",
    "    mutate.(tax = paste(Domain, Phylum, Class, Order, Family, Genus, Species, sep=';')) %>%\n",
    "    summarize.(X = sample(1:length(accession), length(accession)),\n",
    "               .by=c(Domain, Phylum, Class, Order, Family, Genus, Species, tax)) %>%\n",
    "    mutate.(max_cnt = sample(1:n_per_species, length(tax), replace=TRUE)) %>%\n",
    "    filter.(X <= max_cnt) %>%\n",
    "    select.(-X, -max_cnt, -tax)\n",
    "\n",
    "df = meta_ff %>%\n",
    "    summarize.(n = n.(),\n",
    "               .by=c(Phylum, Class, Order, Family, Genus, Species)) \n",
    "df$n %>% summary_x('genomes per species')\n",
    "p = df %>%\n",
    "    ggplot(aes(n)) +\n",
    "    geom_histogram(bins=100) +\n",
    "    labs(x='Genomes', y='No. of species') +\n",
    "    theme_bw()\n",
    "p.dims(4,2.2)\n",
    "plot(p)"
   ]
  },
  {
   "cell_type": "code",
   "execution_count": 25,
   "id": "1c20c282",
   "metadata": {
    "ExecuteTime": {
     "end_time": "2021-08-17T13:46:17.653074Z",
     "start_time": "2021-08-17T13:46:00.788Z"
    }
   },
   "outputs": [
    {
     "data": {
      "text/html": [
       "<table class=\"dataframe\">\n",
       "<caption>A tidytable: 112566 × 23</caption>\n",
       "<thead>\n",
       "\t<tr><th scope=col>accession</th><th scope=col>checkm_completeness</th><th scope=col>checkm_contamination</th><th scope=col>mimag_high_quality</th><th scope=col>mimag_medium_quality</th><th scope=col>mimag_low_quality</th><th scope=col>ncbi_assembly_level</th><th scope=col>ncbi_genome_category</th><th scope=col>ncbi_genbank_assembly_accession</th><th scope=col>mean_contig_length</th><th scope=col>⋯</th><th scope=col>genome_size</th><th scope=col>n50_contigs</th><th scope=col>ssu_count</th><th scope=col>Domain</th><th scope=col>Phylum</th><th scope=col>Class</th><th scope=col>Order</th><th scope=col>Family</th><th scope=col>Genus</th><th scope=col>Species</th></tr>\n",
       "\t<tr><th scope=col>&lt;chr&gt;</th><th scope=col>&lt;dbl&gt;</th><th scope=col>&lt;dbl&gt;</th><th scope=col>&lt;chr&gt;</th><th scope=col>&lt;chr&gt;</th><th scope=col>&lt;chr&gt;</th><th scope=col>&lt;chr&gt;</th><th scope=col>&lt;chr&gt;</th><th scope=col>&lt;chr&gt;</th><th scope=col>&lt;int&gt;</th><th scope=col>⋯</th><th scope=col>&lt;int&gt;</th><th scope=col>&lt;int&gt;</th><th scope=col>&lt;int&gt;</th><th scope=col>&lt;chr&gt;</th><th scope=col>&lt;chr&gt;</th><th scope=col>&lt;chr&gt;</th><th scope=col>&lt;chr&gt;</th><th scope=col>&lt;chr&gt;</th><th scope=col>&lt;chr&gt;</th><th scope=col>&lt;chr&gt;</th></tr>\n",
       "</thead>\n",
       "<tbody>\n",
       "\t<tr><td>GB_GCA_000200715.1</td><td>99.03</td><td>0</td><td>t</td><td>f</td><td>f</td><td>Chromosome     </td><td>derived from environmental sample</td><td>GCA_000200715.1</td><td> 340809</td><td>⋯</td><td>2045086</td><td>1281157</td><td>1</td><td>Archaea</td><td>Thermoproteota</td><td>Nitrososphaeria</td><td>Nitrososphaerales</td><td>Nitrosopumilaceae </td><td>Cenarchaeum </td><td>Cenarchaeum symbiosum     </td></tr>\n",
       "\t<tr><td>GB_GCA_000306725.1</td><td>99.84</td><td>0</td><td>t</td><td>f</td><td>f</td><td>Complete Genome</td><td>none                             </td><td>GCA_000306725.1</td><td>3072769</td><td>⋯</td><td>3072769</td><td>3072769</td><td>3</td><td>Archaea</td><td>Halobacteriota</td><td>Methanosarcinia</td><td>Methanosarcinales</td><td>Methanosarcinaceae</td><td>Methanolobus</td><td>Methanolobus psychrophilus</td></tr>\n",
       "\t<tr><td>⋮</td><td>⋮</td><td>⋮</td><td>⋮</td><td>⋮</td><td>⋮</td><td>⋮</td><td>⋮</td><td>⋮</td><td>⋮</td><td>⋱</td><td>⋮</td><td>⋮</td><td>⋮</td><td>⋮</td><td>⋮</td><td>⋮</td><td>⋮</td><td>⋮</td><td>⋮</td><td>⋮</td></tr>\n",
       "\t<tr><td>RS_GCF_903971035.1</td><td>99.43</td><td>0.61</td><td>t</td><td>f</td><td>f</td><td>Contig</td><td>none</td><td>GCA_903971035.1</td><td>45625</td><td>⋯</td><td>5475026</td><td>408314</td><td>1</td><td>Bacteria</td><td>Firmicutes      </td><td>Bacilli      </td><td>Bacillales     </td><td>Bacillaceae_H   </td><td>Priestia       </td><td>Priestia aryabhattai       </td></tr>\n",
       "\t<tr><td>RS_GCF_903986115.1</td><td>99.45</td><td>0.00</td><td>t</td><td>f</td><td>f</td><td>Contig</td><td>none</td><td>GCA_903986115.1</td><td>52224</td><td>⋯</td><td>2402342</td><td>142020</td><td>1</td><td>Bacteria</td><td>Actinobacteriota</td><td>Actinomycetia</td><td>Mycobacteriales</td><td>Mycobacteriaceae</td><td>Corynebacterium</td><td>Corynebacterium diphtheriae</td></tr>\n",
       "</tbody>\n",
       "</table>\n"
      ],
      "text/latex": [
       "A tidytable: 112566 × 23\n",
       "\\begin{tabular}{lllllllllllllllllllll}\n",
       " accession & checkm\\_completeness & checkm\\_contamination & mimag\\_high\\_quality & mimag\\_medium\\_quality & mimag\\_low\\_quality & ncbi\\_assembly\\_level & ncbi\\_genome\\_category & ncbi\\_genbank\\_assembly\\_accession & mean\\_contig\\_length & ⋯ & genome\\_size & n50\\_contigs & ssu\\_count & Domain & Phylum & Class & Order & Family & Genus & Species\\\\\n",
       " <chr> & <dbl> & <dbl> & <chr> & <chr> & <chr> & <chr> & <chr> & <chr> & <int> & ⋯ & <int> & <int> & <int> & <chr> & <chr> & <chr> & <chr> & <chr> & <chr> & <chr>\\\\\n",
       "\\hline\n",
       "\t GB\\_GCA\\_000200715.1 & 99.03 & 0 & t & f & f & Chromosome      & derived from environmental sample & GCA\\_000200715.1 &  340809 & ⋯ & 2045086 & 1281157 & 1 & Archaea & Thermoproteota & Nitrososphaeria & Nitrososphaerales & Nitrosopumilaceae  & Cenarchaeum  & Cenarchaeum symbiosum     \\\\\n",
       "\t GB\\_GCA\\_000306725.1 & 99.84 & 0 & t & f & f & Complete Genome & none                              & GCA\\_000306725.1 & 3072769 & ⋯ & 3072769 & 3072769 & 3 & Archaea & Halobacteriota & Methanosarcinia & Methanosarcinales & Methanosarcinaceae & Methanolobus & Methanolobus psychrophilus\\\\\n",
       "\t ⋮ & ⋮ & ⋮ & ⋮ & ⋮ & ⋮ & ⋮ & ⋮ & ⋮ & ⋮ & ⋱ & ⋮ & ⋮ & ⋮ & ⋮ & ⋮ & ⋮ & ⋮ & ⋮ & ⋮ & ⋮\\\\\n",
       "\t RS\\_GCF\\_903971035.1 & 99.43 & 0.61 & t & f & f & Contig & none & GCA\\_903971035.1 & 45625 & ⋯ & 5475026 & 408314 & 1 & Bacteria & Firmicutes       & Bacilli       & Bacillales      & Bacillaceae\\_H    & Priestia        & Priestia aryabhattai       \\\\\n",
       "\t RS\\_GCF\\_903986115.1 & 99.45 & 0.00 & t & f & f & Contig & none & GCA\\_903986115.1 & 52224 & ⋯ & 2402342 & 142020 & 1 & Bacteria & Actinobacteriota & Actinomycetia & Mycobacteriales & Mycobacteriaceae & Corynebacterium & Corynebacterium diphtheriae\\\\\n",
       "\\end{tabular}\n"
      ],
      "text/markdown": [
       "\n",
       "A tidytable: 112566 × 23\n",
       "\n",
       "| accession &lt;chr&gt; | checkm_completeness &lt;dbl&gt; | checkm_contamination &lt;dbl&gt; | mimag_high_quality &lt;chr&gt; | mimag_medium_quality &lt;chr&gt; | mimag_low_quality &lt;chr&gt; | ncbi_assembly_level &lt;chr&gt; | ncbi_genome_category &lt;chr&gt; | ncbi_genbank_assembly_accession &lt;chr&gt; | mean_contig_length &lt;int&gt; | ⋯ ⋯ | genome_size &lt;int&gt; | n50_contigs &lt;int&gt; | ssu_count &lt;int&gt; | Domain &lt;chr&gt; | Phylum &lt;chr&gt; | Class &lt;chr&gt; | Order &lt;chr&gt; | Family &lt;chr&gt; | Genus &lt;chr&gt; | Species &lt;chr&gt; |\n",
       "|---|---|---|---|---|---|---|---|---|---|---|---|---|---|---|---|---|---|---|---|---|\n",
       "| GB_GCA_000200715.1 | 99.03 | 0 | t | f | f | Chromosome      | derived from environmental sample | GCA_000200715.1 |  340809 | ⋯ | 2045086 | 1281157 | 1 | Archaea | Thermoproteota | Nitrososphaeria | Nitrososphaerales | Nitrosopumilaceae  | Cenarchaeum  | Cenarchaeum symbiosum      |\n",
       "| GB_GCA_000306725.1 | 99.84 | 0 | t | f | f | Complete Genome | none                              | GCA_000306725.1 | 3072769 | ⋯ | 3072769 | 3072769 | 3 | Archaea | Halobacteriota | Methanosarcinia | Methanosarcinales | Methanosarcinaceae | Methanolobus | Methanolobus psychrophilus |\n",
       "| ⋮ | ⋮ | ⋮ | ⋮ | ⋮ | ⋮ | ⋮ | ⋮ | ⋮ | ⋮ | ⋱ | ⋮ | ⋮ | ⋮ | ⋮ | ⋮ | ⋮ | ⋮ | ⋮ | ⋮ | ⋮ |\n",
       "| RS_GCF_903971035.1 | 99.43 | 0.61 | t | f | f | Contig | none | GCA_903971035.1 | 45625 | ⋯ | 5475026 | 408314 | 1 | Bacteria | Firmicutes       | Bacilli       | Bacillales      | Bacillaceae_H    | Priestia        | Priestia aryabhattai        |\n",
       "| RS_GCF_903986115.1 | 99.45 | 0.00 | t | f | f | Contig | none | GCA_903986115.1 | 52224 | ⋯ | 2402342 | 142020 | 1 | Bacteria | Actinobacteriota | Actinomycetia | Mycobacteriales | Mycobacteriaceae | Corynebacterium | Corynebacterium diphtheriae |\n",
       "\n"
      ],
      "text/plain": [
       "       accession          checkm_completeness checkm_contamination\n",
       "1      GB_GCA_000200715.1 99.03               0                   \n",
       "2      GB_GCA_000306725.1 99.84               0                   \n",
       "⋮      ⋮                  ⋮                   ⋮                   \n",
       "112565 RS_GCF_903971035.1 99.43               0.61                \n",
       "112566 RS_GCF_903986115.1 99.45               0.00                \n",
       "       mimag_high_quality mimag_medium_quality mimag_low_quality\n",
       "1      t                  f                    f                \n",
       "2      t                  f                    f                \n",
       "⋮      ⋮                  ⋮                    ⋮                \n",
       "112565 t                  f                    f                \n",
       "112566 t                  f                    f                \n",
       "       ncbi_assembly_level ncbi_genome_category             \n",
       "1      Chromosome          derived from environmental sample\n",
       "2      Complete Genome     none                             \n",
       "⋮      ⋮                   ⋮                                \n",
       "112565 Contig              none                             \n",
       "112566 Contig              none                             \n",
       "       ncbi_genbank_assembly_accession mean_contig_length ⋯ genome_size\n",
       "1      GCA_000200715.1                  340809            ⋯ 2045086    \n",
       "2      GCA_000306725.1                 3072769            ⋯ 3072769    \n",
       "⋮      ⋮                               ⋮                  ⋱ ⋮          \n",
       "112565 GCA_903971035.1                 45625              ⋯ 5475026    \n",
       "112566 GCA_903986115.1                 52224              ⋯ 2402342    \n",
       "       n50_contigs ssu_count Domain   Phylum           Class          \n",
       "1      1281157     1         Archaea  Thermoproteota   Nitrososphaeria\n",
       "2      3072769     3         Archaea  Halobacteriota   Methanosarcinia\n",
       "⋮      ⋮           ⋮         ⋮        ⋮                ⋮              \n",
       "112565 408314      1         Bacteria Firmicutes       Bacilli        \n",
       "112566 142020      1         Bacteria Actinobacteriota Actinomycetia  \n",
       "       Order             Family             Genus          \n",
       "1      Nitrososphaerales Nitrosopumilaceae  Cenarchaeum    \n",
       "2      Methanosarcinales Methanosarcinaceae Methanolobus   \n",
       "⋮      ⋮                 ⋮                  ⋮              \n",
       "112565 Bacillales        Bacillaceae_H      Priestia       \n",
       "112566 Mycobacteriales   Mycobacteriaceae   Corynebacterium\n",
       "       Species                    \n",
       "1      Cenarchaeum symbiosum      \n",
       "2      Methanolobus psychrophilus \n",
       "⋮      ⋮                          \n",
       "112565 Priestia aryabhattai       \n",
       "112566 Corynebacterium diphtheriae"
      ]
     },
     "metadata": {},
     "output_type": "display_data"
    }
   ],
   "source": [
    "meta_ff = meta_f %>%\n",
    "    semi_join(meta_f, c('accession'))\n",
    "meta_ff"
   ]
  },
  {
   "cell_type": "code",
   "execution_count": 26,
   "id": "d4347015",
   "metadata": {
    "ExecuteTime": {
     "end_time": "2021-08-17T13:46:17.724983Z",
     "start_time": "2021-08-17T13:46:00.790Z"
    }
   },
   "outputs": [
    {
     "name": "stdout",
     "output_type": "stream",
     "text": [
      "No. of unique genomes: 112566 \n"
     ]
    }
   ],
   "source": [
    "meta_ff %>% unique_n('genomes', accession)"
   ]
  },
  {
   "cell_type": "markdown",
   "id": "45a88247",
   "metadata": {},
   "source": [
    "# Selecting train/test/validate subsets"
   ]
  },
  {
   "cell_type": "markdown",
   "id": "50c18c28",
   "metadata": {},
   "source": [
    "## Novel taxonomy"
   ]
  },
  {
   "cell_type": "code",
   "execution_count": 27,
   "id": "86699f61",
   "metadata": {
    "ExecuteTime": {
     "end_time": "2021-08-17T13:46:17.741106Z",
     "start_time": "2021-08-17T13:46:00.794Z"
    }
   },
   "outputs": [],
   "source": [
    "n_genomes = 9100"
   ]
  },
  {
   "cell_type": "code",
   "execution_count": 28,
   "id": "8cf0e09a",
   "metadata": {
    "ExecuteTime": {
     "end_time": "2021-08-17T13:46:17.786989Z",
     "start_time": "2021-08-17T13:46:00.796Z"
    }
   },
   "outputs": [
    {
     "data": {
      "text/html": [
       "<table class=\"dataframe\">\n",
       "<caption>A tidytable: 2 × 2</caption>\n",
       "<thead>\n",
       "\t<tr><th scope=col>X</th><th scope=col>n</th></tr>\n",
       "\t<tr><th scope=col>&lt;int&gt;</th><th scope=col>&lt;int&gt;</th></tr>\n",
       "</thead>\n",
       "<tbody>\n",
       "\t<tr><td>1</td><td>40194</td></tr>\n",
       "\t<tr><td>2</td><td>72372</td></tr>\n",
       "</tbody>\n",
       "</table>\n"
      ],
      "text/latex": [
       "A tidytable: 2 × 2\n",
       "\\begin{tabular}{ll}\n",
       " X & n\\\\\n",
       " <int> & <int>\\\\\n",
       "\\hline\n",
       "\t 1 & 40194\\\\\n",
       "\t 2 & 72372\\\\\n",
       "\\end{tabular}\n"
      ],
      "text/markdown": [
       "\n",
       "A tidytable: 2 × 2\n",
       "\n",
       "| X &lt;int&gt; | n &lt;int&gt; |\n",
       "|---|---|\n",
       "| 1 | 40194 |\n",
       "| 2 | 72372 |\n",
       "\n"
      ],
      "text/plain": [
       "  X n    \n",
       "1 1 40194\n",
       "2 2 72372"
      ]
     },
     "metadata": {},
     "output_type": "display_data"
    }
   ],
   "source": [
    "meta_ffs = meta_ff %>%\n",
    "    summarize.(n = n.(),\n",
    "               .by=c(Phylum, Class, Order, Family)) %>%\n",
    "    mutate.(X = sample(1:2, length(n), replace=TRUE)) \n",
    "meta_ffs %>%\n",
    "    summarize.(n = sum(n),\n",
    "               .by=c(X))"
   ]
  },
  {
   "cell_type": "code",
   "execution_count": 29,
   "id": "f1abb73e",
   "metadata": {
    "ExecuteTime": {
     "end_time": "2021-08-17T13:46:18.361653Z",
     "start_time": "2021-08-17T13:46:00.800Z"
    }
   },
   "outputs": [
    {
     "data": {
      "text/html": [
       "<table class=\"dataframe\">\n",
       "<caption>A tidytable: 9100 × 24</caption>\n",
       "<thead>\n",
       "\t<tr><th scope=col>accession</th><th scope=col>checkm_completeness</th><th scope=col>checkm_contamination</th><th scope=col>mimag_high_quality</th><th scope=col>mimag_medium_quality</th><th scope=col>mimag_low_quality</th><th scope=col>ncbi_assembly_level</th><th scope=col>ncbi_genome_category</th><th scope=col>ncbi_genbank_assembly_accession</th><th scope=col>mean_contig_length</th><th scope=col>⋯</th><th scope=col>n50_contigs</th><th scope=col>ssu_count</th><th scope=col>Domain</th><th scope=col>Phylum</th><th scope=col>Class</th><th scope=col>Order</th><th scope=col>Family</th><th scope=col>Genus</th><th scope=col>Species</th><th scope=col>X</th></tr>\n",
       "\t<tr><th scope=col>&lt;chr&gt;</th><th scope=col>&lt;dbl&gt;</th><th scope=col>&lt;dbl&gt;</th><th scope=col>&lt;chr&gt;</th><th scope=col>&lt;chr&gt;</th><th scope=col>&lt;chr&gt;</th><th scope=col>&lt;chr&gt;</th><th scope=col>&lt;chr&gt;</th><th scope=col>&lt;chr&gt;</th><th scope=col>&lt;int&gt;</th><th scope=col>⋯</th><th scope=col>&lt;int&gt;</th><th scope=col>&lt;int&gt;</th><th scope=col>&lt;chr&gt;</th><th scope=col>&lt;chr&gt;</th><th scope=col>&lt;chr&gt;</th><th scope=col>&lt;chr&gt;</th><th scope=col>&lt;chr&gt;</th><th scope=col>&lt;chr&gt;</th><th scope=col>&lt;chr&gt;</th><th scope=col>&lt;int&gt;</th></tr>\n",
       "</thead>\n",
       "<tbody>\n",
       "\t<tr><td>RS_GCF_002287215.1</td><td>98.21</td><td>0.00</td><td>t</td><td>f</td><td>f</td><td>Contig  </td><td>none</td><td>GCA_002287215.1</td><td>36364</td><td>⋯</td><td> 74097</td><td>1</td><td>Archaea</td><td>Halobacteriota</td><td>Methanomicrobia</td><td>Methanomicrobiales</td><td>Methanocorpusculaceae</td><td>Methanocorpusculum</td><td>Methanocorpusculum parvum</td><td>7343</td></tr>\n",
       "\t<tr><td>RS_GCF_900167955.1</td><td>97.57</td><td>1.94</td><td>t</td><td>f</td><td>f</td><td>Scaffold</td><td>none</td><td>GCA_900167955.1</td><td>64708</td><td>⋯</td><td>106638</td><td>1</td><td>Archaea</td><td>Thermoproteota</td><td>Nitrososphaeria</td><td>Nitrososphaerales </td><td>Nitrosopumilaceae    </td><td>Nitrosotalea      </td><td>Nitrosotalea bavarica    </td><td>1792</td></tr>\n",
       "\t<tr><td>⋮</td><td>⋮</td><td>⋮</td><td>⋮</td><td>⋮</td><td>⋮</td><td>⋮</td><td>⋮</td><td>⋮</td><td>⋮</td><td>⋱</td><td>⋮</td><td>⋮</td><td>⋮</td><td>⋮</td><td>⋮</td><td>⋮</td><td>⋮</td><td>⋮</td><td>⋮</td><td>⋮</td></tr>\n",
       "\t<tr><td>RS_GCF_902859605.1</td><td>99.53</td><td>0.47</td><td>t</td><td>f</td><td>f</td><td>Contig</td><td>none</td><td>GCA_902859605.1</td><td>104277</td><td>⋯</td><td>280218</td><td>1</td><td>Bacteria</td><td>Proteobacteria</td><td>Gammaproteobacteria</td><td>Burkholderiales</td><td>Burkholderiaceae</td><td>Achromobacter</td><td>Achromobacter spanius</td><td>2567</td></tr>\n",
       "\t<tr><td>RS_GCF_903469595.1</td><td>99.57</td><td>0.36</td><td>t</td><td>f</td><td>f</td><td>Contig</td><td>none</td><td>GCA_903469595.1</td><td> 17675</td><td>⋯</td><td> 44192</td><td>1</td><td>Bacteria</td><td>Spirochaetota </td><td>Spirochaetia       </td><td>Treponematales </td><td>Treponemataceae </td><td>Treponema    </td><td>Treponema pallidum   </td><td>7044</td></tr>\n",
       "</tbody>\n",
       "</table>\n"
      ],
      "text/latex": [
       "A tidytable: 9100 × 24\n",
       "\\begin{tabular}{lllllllllllllllllllll}\n",
       " accession & checkm\\_completeness & checkm\\_contamination & mimag\\_high\\_quality & mimag\\_medium\\_quality & mimag\\_low\\_quality & ncbi\\_assembly\\_level & ncbi\\_genome\\_category & ncbi\\_genbank\\_assembly\\_accession & mean\\_contig\\_length & ⋯ & n50\\_contigs & ssu\\_count & Domain & Phylum & Class & Order & Family & Genus & Species & X\\\\\n",
       " <chr> & <dbl> & <dbl> & <chr> & <chr> & <chr> & <chr> & <chr> & <chr> & <int> & ⋯ & <int> & <int> & <chr> & <chr> & <chr> & <chr> & <chr> & <chr> & <chr> & <int>\\\\\n",
       "\\hline\n",
       "\t RS\\_GCF\\_002287215.1 & 98.21 & 0.00 & t & f & f & Contig   & none & GCA\\_002287215.1 & 36364 & ⋯ &  74097 & 1 & Archaea & Halobacteriota & Methanomicrobia & Methanomicrobiales & Methanocorpusculaceae & Methanocorpusculum & Methanocorpusculum parvum & 7343\\\\\n",
       "\t RS\\_GCF\\_900167955.1 & 97.57 & 1.94 & t & f & f & Scaffold & none & GCA\\_900167955.1 & 64708 & ⋯ & 106638 & 1 & Archaea & Thermoproteota & Nitrososphaeria & Nitrososphaerales  & Nitrosopumilaceae     & Nitrosotalea       & Nitrosotalea bavarica     & 1792\\\\\n",
       "\t ⋮ & ⋮ & ⋮ & ⋮ & ⋮ & ⋮ & ⋮ & ⋮ & ⋮ & ⋮ & ⋱ & ⋮ & ⋮ & ⋮ & ⋮ & ⋮ & ⋮ & ⋮ & ⋮ & ⋮ & ⋮\\\\\n",
       "\t RS\\_GCF\\_902859605.1 & 99.53 & 0.47 & t & f & f & Contig & none & GCA\\_902859605.1 & 104277 & ⋯ & 280218 & 1 & Bacteria & Proteobacteria & Gammaproteobacteria & Burkholderiales & Burkholderiaceae & Achromobacter & Achromobacter spanius & 2567\\\\\n",
       "\t RS\\_GCF\\_903469595.1 & 99.57 & 0.36 & t & f & f & Contig & none & GCA\\_903469595.1 &  17675 & ⋯ &  44192 & 1 & Bacteria & Spirochaetota  & Spirochaetia        & Treponematales  & Treponemataceae  & Treponema     & Treponema pallidum    & 7044\\\\\n",
       "\\end{tabular}\n"
      ],
      "text/markdown": [
       "\n",
       "A tidytable: 9100 × 24\n",
       "\n",
       "| accession &lt;chr&gt; | checkm_completeness &lt;dbl&gt; | checkm_contamination &lt;dbl&gt; | mimag_high_quality &lt;chr&gt; | mimag_medium_quality &lt;chr&gt; | mimag_low_quality &lt;chr&gt; | ncbi_assembly_level &lt;chr&gt; | ncbi_genome_category &lt;chr&gt; | ncbi_genbank_assembly_accession &lt;chr&gt; | mean_contig_length &lt;int&gt; | ⋯ ⋯ | n50_contigs &lt;int&gt; | ssu_count &lt;int&gt; | Domain &lt;chr&gt; | Phylum &lt;chr&gt; | Class &lt;chr&gt; | Order &lt;chr&gt; | Family &lt;chr&gt; | Genus &lt;chr&gt; | Species &lt;chr&gt; | X &lt;int&gt; |\n",
       "|---|---|---|---|---|---|---|---|---|---|---|---|---|---|---|---|---|---|---|---|---|\n",
       "| RS_GCF_002287215.1 | 98.21 | 0.00 | t | f | f | Contig   | none | GCA_002287215.1 | 36364 | ⋯ |  74097 | 1 | Archaea | Halobacteriota | Methanomicrobia | Methanomicrobiales | Methanocorpusculaceae | Methanocorpusculum | Methanocorpusculum parvum | 7343 |\n",
       "| RS_GCF_900167955.1 | 97.57 | 1.94 | t | f | f | Scaffold | none | GCA_900167955.1 | 64708 | ⋯ | 106638 | 1 | Archaea | Thermoproteota | Nitrososphaeria | Nitrososphaerales  | Nitrosopumilaceae     | Nitrosotalea       | Nitrosotalea bavarica     | 1792 |\n",
       "| ⋮ | ⋮ | ⋮ | ⋮ | ⋮ | ⋮ | ⋮ | ⋮ | ⋮ | ⋮ | ⋱ | ⋮ | ⋮ | ⋮ | ⋮ | ⋮ | ⋮ | ⋮ | ⋮ | ⋮ | ⋮ |\n",
       "| RS_GCF_902859605.1 | 99.53 | 0.47 | t | f | f | Contig | none | GCA_902859605.1 | 104277 | ⋯ | 280218 | 1 | Bacteria | Proteobacteria | Gammaproteobacteria | Burkholderiales | Burkholderiaceae | Achromobacter | Achromobacter spanius | 2567 |\n",
       "| RS_GCF_903469595.1 | 99.57 | 0.36 | t | f | f | Contig | none | GCA_903469595.1 |  17675 | ⋯ |  44192 | 1 | Bacteria | Spirochaetota  | Spirochaetia        | Treponematales  | Treponemataceae  | Treponema     | Treponema pallidum    | 7044 |\n",
       "\n"
      ],
      "text/plain": [
       "     accession          checkm_completeness checkm_contamination\n",
       "1    RS_GCF_002287215.1 98.21               0.00                \n",
       "2    RS_GCF_900167955.1 97.57               1.94                \n",
       "⋮    ⋮                  ⋮                   ⋮                   \n",
       "9099 RS_GCF_902859605.1 99.53               0.47                \n",
       "9100 RS_GCF_903469595.1 99.57               0.36                \n",
       "     mimag_high_quality mimag_medium_quality mimag_low_quality\n",
       "1    t                  f                    f                \n",
       "2    t                  f                    f                \n",
       "⋮    ⋮                  ⋮                    ⋮                \n",
       "9099 t                  f                    f                \n",
       "9100 t                  f                    f                \n",
       "     ncbi_assembly_level ncbi_genome_category ncbi_genbank_assembly_accession\n",
       "1    Contig              none                 GCA_002287215.1                \n",
       "2    Scaffold            none                 GCA_900167955.1                \n",
       "⋮    ⋮                   ⋮                    ⋮                              \n",
       "9099 Contig              none                 GCA_902859605.1                \n",
       "9100 Contig              none                 GCA_903469595.1                \n",
       "     mean_contig_length ⋯ n50_contigs ssu_count Domain   Phylum        \n",
       "1    36364              ⋯  74097      1         Archaea  Halobacteriota\n",
       "2    64708              ⋯ 106638      1         Archaea  Thermoproteota\n",
       "⋮    ⋮                  ⋱ ⋮           ⋮         ⋮        ⋮             \n",
       "9099 104277             ⋯ 280218      1         Bacteria Proteobacteria\n",
       "9100  17675             ⋯  44192      1         Bacteria Spirochaetota \n",
       "     Class               Order              Family               \n",
       "1    Methanomicrobia     Methanomicrobiales Methanocorpusculaceae\n",
       "2    Nitrososphaeria     Nitrososphaerales  Nitrosopumilaceae    \n",
       "⋮    ⋮                   ⋮                  ⋮                    \n",
       "9099 Gammaproteobacteria Burkholderiales    Burkholderiaceae     \n",
       "9100 Spirochaetia        Treponematales     Treponemataceae      \n",
       "     Genus              Species                   X   \n",
       "1    Methanocorpusculum Methanocorpusculum parvum 7343\n",
       "2    Nitrosotalea       Nitrosotalea bavarica     1792\n",
       "⋮    ⋮                  ⋮                         ⋮   \n",
       "9099 Achromobacter      Achromobacter spanius     2567\n",
       "9100 Treponema          Treponema pallidum        7044"
      ]
     },
     "metadata": {},
     "output_type": "display_data"
    }
   ],
   "source": [
    "meta_ff_nt = meta_ff %>%\n",
    "    semi_join.(meta_ffs %>% filter.(X == 1), \n",
    "               c('Phylum', 'Class', 'Order', 'Family')) %>%\n",
    "    mutate.(X = sample(1:length(accession), length(accession))) %>%\n",
    "    filter.(X <= n_genomes)\n",
    "meta_ff_nt"
   ]
  },
  {
   "cell_type": "markdown",
   "id": "ae39fead",
   "metadata": {},
   "source": [
    "## Train"
   ]
  },
  {
   "cell_type": "code",
   "execution_count": 30,
   "id": "03d7db7b",
   "metadata": {
    "ExecuteTime": {
     "end_time": "2021-08-17T13:46:18.835703Z",
     "start_time": "2021-08-17T13:46:00.804Z"
    }
   },
   "outputs": [
    {
     "data": {
      "text/html": [
       "<table class=\"dataframe\">\n",
       "<caption>A tidytable: 9100 × 24</caption>\n",
       "<thead>\n",
       "\t<tr><th scope=col>accession</th><th scope=col>checkm_completeness</th><th scope=col>checkm_contamination</th><th scope=col>mimag_high_quality</th><th scope=col>mimag_medium_quality</th><th scope=col>mimag_low_quality</th><th scope=col>ncbi_assembly_level</th><th scope=col>ncbi_genome_category</th><th scope=col>ncbi_genbank_assembly_accession</th><th scope=col>mean_contig_length</th><th scope=col>⋯</th><th scope=col>n50_contigs</th><th scope=col>ssu_count</th><th scope=col>Domain</th><th scope=col>Phylum</th><th scope=col>Class</th><th scope=col>Order</th><th scope=col>Family</th><th scope=col>Genus</th><th scope=col>Species</th><th scope=col>X</th></tr>\n",
       "\t<tr><th scope=col>&lt;chr&gt;</th><th scope=col>&lt;dbl&gt;</th><th scope=col>&lt;dbl&gt;</th><th scope=col>&lt;chr&gt;</th><th scope=col>&lt;chr&gt;</th><th scope=col>&lt;chr&gt;</th><th scope=col>&lt;chr&gt;</th><th scope=col>&lt;chr&gt;</th><th scope=col>&lt;chr&gt;</th><th scope=col>&lt;int&gt;</th><th scope=col>⋯</th><th scope=col>&lt;int&gt;</th><th scope=col>&lt;int&gt;</th><th scope=col>&lt;chr&gt;</th><th scope=col>&lt;chr&gt;</th><th scope=col>&lt;chr&gt;</th><th scope=col>&lt;chr&gt;</th><th scope=col>&lt;chr&gt;</th><th scope=col>&lt;chr&gt;</th><th scope=col>&lt;chr&gt;</th><th scope=col>&lt;int&gt;</th></tr>\n",
       "</thead>\n",
       "<tbody>\n",
       "\t<tr><td>RS_GCF_000328665.1</td><td>99.84</td><td>0.33</td><td>t</td><td>f</td><td>f</td><td>Complete Genome</td><td>none</td><td>GCA_000328665.1</td><td>1357006</td><td>⋯</td><td>2428904</td><td>2</td><td>Archaea</td><td>Halobacteriota   </td><td>Methanosarcinia</td><td>Methanosarcinales </td><td>Methanosarcinaceae </td><td>Methanomethylovorans</td><td>Methanomethylovorans hollandica</td><td>7317</td></tr>\n",
       "\t<tr><td>RS_GCF_003149675.1</td><td>96.00</td><td>0.00</td><td>t</td><td>f</td><td>f</td><td>Contig         </td><td>none</td><td>GCA_003149675.1</td><td>  39197</td><td>⋯</td><td>  86478</td><td>1</td><td>Archaea</td><td>Methanobacteriota</td><td>Methanobacteria</td><td>Methanobacteriales</td><td>Methanobacteriaceae</td><td>Methanosphaera      </td><td>Methanosphaera cuniculi        </td><td>2357</td></tr>\n",
       "\t<tr><td>⋮</td><td>⋮</td><td>⋮</td><td>⋮</td><td>⋮</td><td>⋮</td><td>⋮</td><td>⋮</td><td>⋮</td><td>⋮</td><td>⋱</td><td>⋮</td><td>⋮</td><td>⋮</td><td>⋮</td><td>⋮</td><td>⋮</td><td>⋮</td><td>⋮</td><td>⋮</td><td>⋮</td></tr>\n",
       "\t<tr><td>RS_GCF_903931695.1</td><td>99.85</td><td>0.04</td><td>t</td><td>f</td><td>f</td><td>Contig</td><td>none</td><td>GCA_903931695.1</td><td>35902</td><td>⋯</td><td> 68200</td><td>1</td><td>Bacteria</td><td>Proteobacteria</td><td>Gammaproteobacteria</td><td>Enterobacterales</td><td>Enterobacteriaceae</td><td>Salmonella    </td><td>Salmonella enterica        </td><td>7188</td></tr>\n",
       "\t<tr><td>RS_GCF_903969785.1</td><td>99.39</td><td>0.70</td><td>t</td><td>f</td><td>f</td><td>Contig</td><td>none</td><td>GCA_903969785.1</td><td>28070</td><td>⋯</td><td>353079</td><td>1</td><td>Bacteria</td><td>Firmicutes    </td><td>Bacilli            </td><td>Staphylococcales</td><td>Staphylococcaceae </td><td>Staphylococcus</td><td>Staphylococcus haemolyticus</td><td>2387</td></tr>\n",
       "</tbody>\n",
       "</table>\n"
      ],
      "text/latex": [
       "A tidytable: 9100 × 24\n",
       "\\begin{tabular}{lllllllllllllllllllll}\n",
       " accession & checkm\\_completeness & checkm\\_contamination & mimag\\_high\\_quality & mimag\\_medium\\_quality & mimag\\_low\\_quality & ncbi\\_assembly\\_level & ncbi\\_genome\\_category & ncbi\\_genbank\\_assembly\\_accession & mean\\_contig\\_length & ⋯ & n50\\_contigs & ssu\\_count & Domain & Phylum & Class & Order & Family & Genus & Species & X\\\\\n",
       " <chr> & <dbl> & <dbl> & <chr> & <chr> & <chr> & <chr> & <chr> & <chr> & <int> & ⋯ & <int> & <int> & <chr> & <chr> & <chr> & <chr> & <chr> & <chr> & <chr> & <int>\\\\\n",
       "\\hline\n",
       "\t RS\\_GCF\\_000328665.1 & 99.84 & 0.33 & t & f & f & Complete Genome & none & GCA\\_000328665.1 & 1357006 & ⋯ & 2428904 & 2 & Archaea & Halobacteriota    & Methanosarcinia & Methanosarcinales  & Methanosarcinaceae  & Methanomethylovorans & Methanomethylovorans hollandica & 7317\\\\\n",
       "\t RS\\_GCF\\_003149675.1 & 96.00 & 0.00 & t & f & f & Contig          & none & GCA\\_003149675.1 &   39197 & ⋯ &   86478 & 1 & Archaea & Methanobacteriota & Methanobacteria & Methanobacteriales & Methanobacteriaceae & Methanosphaera       & Methanosphaera cuniculi         & 2357\\\\\n",
       "\t ⋮ & ⋮ & ⋮ & ⋮ & ⋮ & ⋮ & ⋮ & ⋮ & ⋮ & ⋮ & ⋱ & ⋮ & ⋮ & ⋮ & ⋮ & ⋮ & ⋮ & ⋮ & ⋮ & ⋮ & ⋮\\\\\n",
       "\t RS\\_GCF\\_903931695.1 & 99.85 & 0.04 & t & f & f & Contig & none & GCA\\_903931695.1 & 35902 & ⋯ &  68200 & 1 & Bacteria & Proteobacteria & Gammaproteobacteria & Enterobacterales & Enterobacteriaceae & Salmonella     & Salmonella enterica         & 7188\\\\\n",
       "\t RS\\_GCF\\_903969785.1 & 99.39 & 0.70 & t & f & f & Contig & none & GCA\\_903969785.1 & 28070 & ⋯ & 353079 & 1 & Bacteria & Firmicutes     & Bacilli             & Staphylococcales & Staphylococcaceae  & Staphylococcus & Staphylococcus haemolyticus & 2387\\\\\n",
       "\\end{tabular}\n"
      ],
      "text/markdown": [
       "\n",
       "A tidytable: 9100 × 24\n",
       "\n",
       "| accession &lt;chr&gt; | checkm_completeness &lt;dbl&gt; | checkm_contamination &lt;dbl&gt; | mimag_high_quality &lt;chr&gt; | mimag_medium_quality &lt;chr&gt; | mimag_low_quality &lt;chr&gt; | ncbi_assembly_level &lt;chr&gt; | ncbi_genome_category &lt;chr&gt; | ncbi_genbank_assembly_accession &lt;chr&gt; | mean_contig_length &lt;int&gt; | ⋯ ⋯ | n50_contigs &lt;int&gt; | ssu_count &lt;int&gt; | Domain &lt;chr&gt; | Phylum &lt;chr&gt; | Class &lt;chr&gt; | Order &lt;chr&gt; | Family &lt;chr&gt; | Genus &lt;chr&gt; | Species &lt;chr&gt; | X &lt;int&gt; |\n",
       "|---|---|---|---|---|---|---|---|---|---|---|---|---|---|---|---|---|---|---|---|---|\n",
       "| RS_GCF_000328665.1 | 99.84 | 0.33 | t | f | f | Complete Genome | none | GCA_000328665.1 | 1357006 | ⋯ | 2428904 | 2 | Archaea | Halobacteriota    | Methanosarcinia | Methanosarcinales  | Methanosarcinaceae  | Methanomethylovorans | Methanomethylovorans hollandica | 7317 |\n",
       "| RS_GCF_003149675.1 | 96.00 | 0.00 | t | f | f | Contig          | none | GCA_003149675.1 |   39197 | ⋯ |   86478 | 1 | Archaea | Methanobacteriota | Methanobacteria | Methanobacteriales | Methanobacteriaceae | Methanosphaera       | Methanosphaera cuniculi         | 2357 |\n",
       "| ⋮ | ⋮ | ⋮ | ⋮ | ⋮ | ⋮ | ⋮ | ⋮ | ⋮ | ⋮ | ⋱ | ⋮ | ⋮ | ⋮ | ⋮ | ⋮ | ⋮ | ⋮ | ⋮ | ⋮ | ⋮ |\n",
       "| RS_GCF_903931695.1 | 99.85 | 0.04 | t | f | f | Contig | none | GCA_903931695.1 | 35902 | ⋯ |  68200 | 1 | Bacteria | Proteobacteria | Gammaproteobacteria | Enterobacterales | Enterobacteriaceae | Salmonella     | Salmonella enterica         | 7188 |\n",
       "| RS_GCF_903969785.1 | 99.39 | 0.70 | t | f | f | Contig | none | GCA_903969785.1 | 28070 | ⋯ | 353079 | 1 | Bacteria | Firmicutes     | Bacilli             | Staphylococcales | Staphylococcaceae  | Staphylococcus | Staphylococcus haemolyticus | 2387 |\n",
       "\n"
      ],
      "text/plain": [
       "     accession          checkm_completeness checkm_contamination\n",
       "1    RS_GCF_000328665.1 99.84               0.33                \n",
       "2    RS_GCF_003149675.1 96.00               0.00                \n",
       "⋮    ⋮                  ⋮                   ⋮                   \n",
       "9099 RS_GCF_903931695.1 99.85               0.04                \n",
       "9100 RS_GCF_903969785.1 99.39               0.70                \n",
       "     mimag_high_quality mimag_medium_quality mimag_low_quality\n",
       "1    t                  f                    f                \n",
       "2    t                  f                    f                \n",
       "⋮    ⋮                  ⋮                    ⋮                \n",
       "9099 t                  f                    f                \n",
       "9100 t                  f                    f                \n",
       "     ncbi_assembly_level ncbi_genome_category ncbi_genbank_assembly_accession\n",
       "1    Complete Genome     none                 GCA_000328665.1                \n",
       "2    Contig              none                 GCA_003149675.1                \n",
       "⋮    ⋮                   ⋮                    ⋮                              \n",
       "9099 Contig              none                 GCA_903931695.1                \n",
       "9100 Contig              none                 GCA_903969785.1                \n",
       "     mean_contig_length ⋯ n50_contigs ssu_count Domain   Phylum           \n",
       "1    1357006            ⋯ 2428904     2         Archaea  Halobacteriota   \n",
       "2      39197            ⋯   86478     1         Archaea  Methanobacteriota\n",
       "⋮    ⋮                  ⋱ ⋮           ⋮         ⋮        ⋮                \n",
       "9099 35902              ⋯  68200      1         Bacteria Proteobacteria   \n",
       "9100 28070              ⋯ 353079      1         Bacteria Firmicutes       \n",
       "     Class               Order              Family             \n",
       "1    Methanosarcinia     Methanosarcinales  Methanosarcinaceae \n",
       "2    Methanobacteria     Methanobacteriales Methanobacteriaceae\n",
       "⋮    ⋮                   ⋮                  ⋮                  \n",
       "9099 Gammaproteobacteria Enterobacterales   Enterobacteriaceae \n",
       "9100 Bacilli             Staphylococcales   Staphylococcaceae  \n",
       "     Genus                Species                         X   \n",
       "1    Methanomethylovorans Methanomethylovorans hollandica 7317\n",
       "2    Methanosphaera       Methanosphaera cuniculi         2357\n",
       "⋮    ⋮                    ⋮                               ⋮   \n",
       "9099 Salmonella           Salmonella enterica             7188\n",
       "9100 Staphylococcus       Staphylococcus haemolyticus     2387"
      ]
     },
     "metadata": {},
     "output_type": "display_data"
    }
   ],
   "source": [
    "meta_ff_train = meta_ff %>%\n",
    "    semi_join.(meta_ffs %>% filter.(X == 2), \n",
    "               c('Phylum', 'Class', 'Order', 'Family')) %>%\n",
    "    mutate.(X = sample(1:length(accession), length(accession))) %>%\n",
    "    filter.(X <= n_genomes)\n",
    "meta_ff_train"
   ]
  },
  {
   "cell_type": "markdown",
   "id": "b146ed37",
   "metadata": {},
   "source": [
    "## Test"
   ]
  },
  {
   "cell_type": "code",
   "execution_count": 31,
   "id": "99d3eee6",
   "metadata": {
    "ExecuteTime": {
     "end_time": "2021-08-17T13:46:19.069680Z",
     "start_time": "2021-08-17T13:46:00.809Z"
    }
   },
   "outputs": [
    {
     "data": {
      "text/html": [
       "<table class=\"dataframe\">\n",
       "<caption>A tidytable: 9100 × 24</caption>\n",
       "<thead>\n",
       "\t<tr><th scope=col>accession</th><th scope=col>checkm_completeness</th><th scope=col>checkm_contamination</th><th scope=col>mimag_high_quality</th><th scope=col>mimag_medium_quality</th><th scope=col>mimag_low_quality</th><th scope=col>ncbi_assembly_level</th><th scope=col>ncbi_genome_category</th><th scope=col>ncbi_genbank_assembly_accession</th><th scope=col>mean_contig_length</th><th scope=col>⋯</th><th scope=col>n50_contigs</th><th scope=col>ssu_count</th><th scope=col>Domain</th><th scope=col>Phylum</th><th scope=col>Class</th><th scope=col>Order</th><th scope=col>Family</th><th scope=col>Genus</th><th scope=col>Species</th><th scope=col>X</th></tr>\n",
       "\t<tr><th scope=col>&lt;chr&gt;</th><th scope=col>&lt;dbl&gt;</th><th scope=col>&lt;dbl&gt;</th><th scope=col>&lt;chr&gt;</th><th scope=col>&lt;chr&gt;</th><th scope=col>&lt;chr&gt;</th><th scope=col>&lt;chr&gt;</th><th scope=col>&lt;chr&gt;</th><th scope=col>&lt;chr&gt;</th><th scope=col>&lt;int&gt;</th><th scope=col>⋯</th><th scope=col>&lt;int&gt;</th><th scope=col>&lt;int&gt;</th><th scope=col>&lt;chr&gt;</th><th scope=col>&lt;chr&gt;</th><th scope=col>&lt;chr&gt;</th><th scope=col>&lt;chr&gt;</th><th scope=col>&lt;chr&gt;</th><th scope=col>&lt;chr&gt;</th><th scope=col>&lt;chr&gt;</th><th scope=col>&lt;int&gt;</th></tr>\n",
       "</thead>\n",
       "<tbody>\n",
       "\t<tr><td>RS_GCF_000019605.1</td><td>93.39</td><td>2.8</td><td>t</td><td>f</td><td>f</td><td>Complete Genome</td><td>none</td><td>GCA_000019605.1</td><td>1590757</td><td>⋯</td><td>1590757</td><td>1</td><td>Archaea</td><td>Thermoproteota   </td><td>Korarchaeia</td><td>Korarchaeales </td><td>Korarchaeaceae </td><td>Korarchaeum   </td><td>Korarchaeum cryptofilum </td><td>5779</td></tr>\n",
       "\t<tr><td>RS_GCF_000022545.1</td><td>98.51</td><td>0.0</td><td>t</td><td>f</td><td>f</td><td>Complete Genome</td><td>none</td><td>GCA_000022545.1</td><td>1845800</td><td>⋯</td><td>1845800</td><td>1</td><td>Archaea</td><td>Methanobacteriota</td><td>Thermococci</td><td>Thermococcales</td><td>Thermococcaceae</td><td>Thermococcus_A</td><td>Thermococcus_A sibiricus</td><td>3251</td></tr>\n",
       "\t<tr><td>⋮</td><td>⋮</td><td>⋮</td><td>⋮</td><td>⋮</td><td>⋮</td><td>⋮</td><td>⋮</td><td>⋮</td><td>⋮</td><td>⋱</td><td>⋮</td><td>⋮</td><td>⋮</td><td>⋮</td><td>⋮</td><td>⋮</td><td>⋮</td><td>⋮</td><td>⋮</td><td>⋮</td></tr>\n",
       "\t<tr><td>RS_GCF_902833365.1</td><td>100.00</td><td>0</td><td>t</td><td>f</td><td>f</td><td>Contig</td><td>none</td><td>GCA_902833365.1</td><td>66630</td><td>⋯</td><td>158113</td><td>1</td><td>Bacteria</td><td>Proteobacteria</td><td>Gammaproteobacteria</td><td>Burkholderiales</td><td>Burkholderiaceae</td><td>Burkholderia </td><td>Burkholderia vietnamiensis</td><td> 774</td></tr>\n",
       "\t<tr><td>RS_GCF_902860195.1</td><td> 99.53</td><td>0</td><td>t</td><td>f</td><td>f</td><td>Contig</td><td>none</td><td>GCA_902860195.1</td><td>33514</td><td>⋯</td><td> 71580</td><td>1</td><td>Bacteria</td><td>Proteobacteria</td><td>Gammaproteobacteria</td><td>Burkholderiales</td><td>Burkholderiaceae</td><td>Achromobacter</td><td>Achromobacter ruhlandii   </td><td>9024</td></tr>\n",
       "</tbody>\n",
       "</table>\n"
      ],
      "text/latex": [
       "A tidytable: 9100 × 24\n",
       "\\begin{tabular}{lllllllllllllllllllll}\n",
       " accession & checkm\\_completeness & checkm\\_contamination & mimag\\_high\\_quality & mimag\\_medium\\_quality & mimag\\_low\\_quality & ncbi\\_assembly\\_level & ncbi\\_genome\\_category & ncbi\\_genbank\\_assembly\\_accession & mean\\_contig\\_length & ⋯ & n50\\_contigs & ssu\\_count & Domain & Phylum & Class & Order & Family & Genus & Species & X\\\\\n",
       " <chr> & <dbl> & <dbl> & <chr> & <chr> & <chr> & <chr> & <chr> & <chr> & <int> & ⋯ & <int> & <int> & <chr> & <chr> & <chr> & <chr> & <chr> & <chr> & <chr> & <int>\\\\\n",
       "\\hline\n",
       "\t RS\\_GCF\\_000019605.1 & 93.39 & 2.8 & t & f & f & Complete Genome & none & GCA\\_000019605.1 & 1590757 & ⋯ & 1590757 & 1 & Archaea & Thermoproteota    & Korarchaeia & Korarchaeales  & Korarchaeaceae  & Korarchaeum    & Korarchaeum cryptofilum  & 5779\\\\\n",
       "\t RS\\_GCF\\_000022545.1 & 98.51 & 0.0 & t & f & f & Complete Genome & none & GCA\\_000022545.1 & 1845800 & ⋯ & 1845800 & 1 & Archaea & Methanobacteriota & Thermococci & Thermococcales & Thermococcaceae & Thermococcus\\_A & Thermococcus\\_A sibiricus & 3251\\\\\n",
       "\t ⋮ & ⋮ & ⋮ & ⋮ & ⋮ & ⋮ & ⋮ & ⋮ & ⋮ & ⋮ & ⋱ & ⋮ & ⋮ & ⋮ & ⋮ & ⋮ & ⋮ & ⋮ & ⋮ & ⋮ & ⋮\\\\\n",
       "\t RS\\_GCF\\_902833365.1 & 100.00 & 0 & t & f & f & Contig & none & GCA\\_902833365.1 & 66630 & ⋯ & 158113 & 1 & Bacteria & Proteobacteria & Gammaproteobacteria & Burkholderiales & Burkholderiaceae & Burkholderia  & Burkholderia vietnamiensis &  774\\\\\n",
       "\t RS\\_GCF\\_902860195.1 &  99.53 & 0 & t & f & f & Contig & none & GCA\\_902860195.1 & 33514 & ⋯ &  71580 & 1 & Bacteria & Proteobacteria & Gammaproteobacteria & Burkholderiales & Burkholderiaceae & Achromobacter & Achromobacter ruhlandii    & 9024\\\\\n",
       "\\end{tabular}\n"
      ],
      "text/markdown": [
       "\n",
       "A tidytable: 9100 × 24\n",
       "\n",
       "| accession &lt;chr&gt; | checkm_completeness &lt;dbl&gt; | checkm_contamination &lt;dbl&gt; | mimag_high_quality &lt;chr&gt; | mimag_medium_quality &lt;chr&gt; | mimag_low_quality &lt;chr&gt; | ncbi_assembly_level &lt;chr&gt; | ncbi_genome_category &lt;chr&gt; | ncbi_genbank_assembly_accession &lt;chr&gt; | mean_contig_length &lt;int&gt; | ⋯ ⋯ | n50_contigs &lt;int&gt; | ssu_count &lt;int&gt; | Domain &lt;chr&gt; | Phylum &lt;chr&gt; | Class &lt;chr&gt; | Order &lt;chr&gt; | Family &lt;chr&gt; | Genus &lt;chr&gt; | Species &lt;chr&gt; | X &lt;int&gt; |\n",
       "|---|---|---|---|---|---|---|---|---|---|---|---|---|---|---|---|---|---|---|---|---|\n",
       "| RS_GCF_000019605.1 | 93.39 | 2.8 | t | f | f | Complete Genome | none | GCA_000019605.1 | 1590757 | ⋯ | 1590757 | 1 | Archaea | Thermoproteota    | Korarchaeia | Korarchaeales  | Korarchaeaceae  | Korarchaeum    | Korarchaeum cryptofilum  | 5779 |\n",
       "| RS_GCF_000022545.1 | 98.51 | 0.0 | t | f | f | Complete Genome | none | GCA_000022545.1 | 1845800 | ⋯ | 1845800 | 1 | Archaea | Methanobacteriota | Thermococci | Thermococcales | Thermococcaceae | Thermococcus_A | Thermococcus_A sibiricus | 3251 |\n",
       "| ⋮ | ⋮ | ⋮ | ⋮ | ⋮ | ⋮ | ⋮ | ⋮ | ⋮ | ⋮ | ⋱ | ⋮ | ⋮ | ⋮ | ⋮ | ⋮ | ⋮ | ⋮ | ⋮ | ⋮ | ⋮ |\n",
       "| RS_GCF_902833365.1 | 100.00 | 0 | t | f | f | Contig | none | GCA_902833365.1 | 66630 | ⋯ | 158113 | 1 | Bacteria | Proteobacteria | Gammaproteobacteria | Burkholderiales | Burkholderiaceae | Burkholderia  | Burkholderia vietnamiensis |  774 |\n",
       "| RS_GCF_902860195.1 |  99.53 | 0 | t | f | f | Contig | none | GCA_902860195.1 | 33514 | ⋯ |  71580 | 1 | Bacteria | Proteobacteria | Gammaproteobacteria | Burkholderiales | Burkholderiaceae | Achromobacter | Achromobacter ruhlandii    | 9024 |\n",
       "\n"
      ],
      "text/plain": [
       "     accession          checkm_completeness checkm_contamination\n",
       "1    RS_GCF_000019605.1 93.39               2.8                 \n",
       "2    RS_GCF_000022545.1 98.51               0.0                 \n",
       "⋮    ⋮                  ⋮                   ⋮                   \n",
       "9099 RS_GCF_902833365.1 100.00              0                   \n",
       "9100 RS_GCF_902860195.1  99.53              0                   \n",
       "     mimag_high_quality mimag_medium_quality mimag_low_quality\n",
       "1    t                  f                    f                \n",
       "2    t                  f                    f                \n",
       "⋮    ⋮                  ⋮                    ⋮                \n",
       "9099 t                  f                    f                \n",
       "9100 t                  f                    f                \n",
       "     ncbi_assembly_level ncbi_genome_category ncbi_genbank_assembly_accession\n",
       "1    Complete Genome     none                 GCA_000019605.1                \n",
       "2    Complete Genome     none                 GCA_000022545.1                \n",
       "⋮    ⋮                   ⋮                    ⋮                              \n",
       "9099 Contig              none                 GCA_902833365.1                \n",
       "9100 Contig              none                 GCA_902860195.1                \n",
       "     mean_contig_length ⋯ n50_contigs ssu_count Domain   Phylum           \n",
       "1    1590757            ⋯ 1590757     1         Archaea  Thermoproteota   \n",
       "2    1845800            ⋯ 1845800     1         Archaea  Methanobacteriota\n",
       "⋮    ⋮                  ⋱ ⋮           ⋮         ⋮        ⋮                \n",
       "9099 66630              ⋯ 158113      1         Bacteria Proteobacteria   \n",
       "9100 33514              ⋯  71580      1         Bacteria Proteobacteria   \n",
       "     Class               Order           Family           Genus         \n",
       "1    Korarchaeia         Korarchaeales   Korarchaeaceae   Korarchaeum   \n",
       "2    Thermococci         Thermococcales  Thermococcaceae  Thermococcus_A\n",
       "⋮    ⋮                   ⋮               ⋮                ⋮             \n",
       "9099 Gammaproteobacteria Burkholderiales Burkholderiaceae Burkholderia  \n",
       "9100 Gammaproteobacteria Burkholderiales Burkholderiaceae Achromobacter \n",
       "     Species                    X   \n",
       "1    Korarchaeum cryptofilum    5779\n",
       "2    Thermococcus_A sibiricus   3251\n",
       "⋮    ⋮                          ⋮   \n",
       "9099 Burkholderia vietnamiensis  774\n",
       "9100 Achromobacter ruhlandii    9024"
      ]
     },
     "metadata": {},
     "output_type": "display_data"
    }
   ],
   "source": [
    "meta_ff_test = meta_ff %>%\n",
    "    anti_join.(meta_ff_train, c('accession')) %>%\n",
    "    anti_join.(meta_ff_nt, c('accession')) %>%\n",
    "    mutate.(X = sample(1:length(accession), length(accession))) %>%\n",
    "    filter.(X <= n_genomes)\n",
    "meta_ff_test"
   ]
  },
  {
   "cell_type": "markdown",
   "id": "9c68340c",
   "metadata": {},
   "source": [
    "## Overlap"
   ]
  },
  {
   "cell_type": "code",
   "execution_count": 32,
   "id": "dfb46ee9",
   "metadata": {
    "ExecuteTime": {
     "end_time": "2021-08-17T13:46:19.091412Z",
     "start_time": "2021-08-17T13:46:00.812Z"
    }
   },
   "outputs": [
    {
     "name": "stdout",
     "output_type": "stream",
     "text": [
      "intersect(x,y): 0 \n",
      "setdiff(x,y): 9100 \n",
      "setdiff(y,x): 9100 \n",
      "union(x,y): 18200 \n"
     ]
    }
   ],
   "source": [
    "# novel taxonomy & train\n",
    "overlap(meta_ff_nt$accession, meta_ff_train$accession)"
   ]
  },
  {
   "cell_type": "code",
   "execution_count": 33,
   "id": "e280ad82",
   "metadata": {
    "ExecuteTime": {
     "end_time": "2021-08-17T13:46:19.111031Z",
     "start_time": "2021-08-17T13:46:00.815Z"
    }
   },
   "outputs": [
    {
     "name": "stdout",
     "output_type": "stream",
     "text": [
      "intersect(x,y): 0 \n",
      "setdiff(x,y): 9100 \n",
      "setdiff(y,x): 9100 \n",
      "union(x,y): 18200 \n"
     ]
    }
   ],
   "source": [
    "# novel taxonomy & test\n",
    "overlap(meta_ff_nt$accession, meta_ff_test$accession)"
   ]
  },
  {
   "cell_type": "code",
   "execution_count": 34,
   "id": "7694ffbd",
   "metadata": {
    "ExecuteTime": {
     "end_time": "2021-08-17T13:46:19.130712Z",
     "start_time": "2021-08-17T13:46:00.818Z"
    }
   },
   "outputs": [
    {
     "name": "stdout",
     "output_type": "stream",
     "text": [
      "intersect(x,y): 0 \n",
      "setdiff(x,y): 9100 \n",
      "setdiff(y,x): 9100 \n",
      "union(x,y): 18200 \n"
     ]
    }
   ],
   "source": [
    "# train & test\n",
    "overlap(meta_ff_train$accession, meta_ff_test$accession)"
   ]
  },
  {
   "cell_type": "code",
   "execution_count": 35,
   "id": "3c5eaa10",
   "metadata": {
    "ExecuteTime": {
     "end_time": "2021-08-17T13:46:19.156958Z",
     "start_time": "2021-08-17T13:46:00.820Z"
    }
   },
   "outputs": [
    {
     "name": "stdout",
     "output_type": "stream",
     "text": [
      "intersect(x,y): 0 \n",
      "setdiff(x,y): 227 \n",
      "setdiff(y,x): 186 \n",
      "union(x,y): 413 \n",
      "---\n",
      "intersect(x,y): 122 \n",
      "setdiff(x,y): 105 \n",
      "setdiff(y,x): 190 \n",
      "union(x,y): 417 \n"
     ]
    }
   ],
   "source": [
    "# novel taxonomy & train\n",
    "overlap(meta_ff_nt$Family, meta_ff_train$Family)\n",
    "cat('---\\n')\n",
    "overlap(meta_ff_nt$Family, meta_ff_test$Family)"
   ]
  },
  {
   "cell_type": "code",
   "execution_count": 36,
   "id": "aca61ecf",
   "metadata": {
    "ExecuteTime": {
     "end_time": "2021-08-17T13:46:19.183919Z",
     "start_time": "2021-08-17T13:46:00.823Z"
    }
   },
   "outputs": [
    {
     "name": "stdout",
     "output_type": "stream",
     "text": [
      "intersect(x,y): 0 \n",
      "setdiff(x,y): 837 \n",
      "setdiff(y,x): 710 \n",
      "union(x,y): 1547 \n",
      "---\n",
      "intersect(x,y): 338 \n",
      "setdiff(x,y): 499 \n",
      "setdiff(y,x): 725 \n",
      "union(x,y): 1562 \n"
     ]
    }
   ],
   "source": [
    "# novel taxonomy & train\n",
    "overlap(meta_ff_nt$Genus, meta_ff_train$Genus)\n",
    "cat('---\\n')\n",
    "overlap(meta_ff_nt$Genus, meta_ff_test$Genus)"
   ]
  },
  {
   "cell_type": "code",
   "execution_count": 37,
   "id": "71d0837e",
   "metadata": {
    "ExecuteTime": {
     "end_time": "2021-08-17T13:46:19.210277Z",
     "start_time": "2021-08-17T13:46:00.825Z"
    }
   },
   "outputs": [
    {
     "name": "stdout",
     "output_type": "stream",
     "text": [
      "intersect(x,y): 42 \n",
      "setdiff(x,y): 97 \n",
      "setdiff(y,x): 62 \n",
      "union(x,y): 201 \n",
      "---\n",
      "intersect(x,y): 83 \n",
      "setdiff(x,y): 56 \n",
      "setdiff(y,x): 73 \n",
      "union(x,y): 212 \n"
     ]
    }
   ],
   "source": [
    "# novel taxonomy & train\n",
    "overlap(meta_ff_nt$Order, meta_ff_train$Order)\n",
    "cat('---\\n')\n",
    "overlap(meta_ff_nt$Order, meta_ff_test$Order)"
   ]
  },
  {
   "cell_type": "code",
   "execution_count": null,
   "id": "50c9e625",
   "metadata": {},
   "outputs": [],
   "source": []
  },
  {
   "cell_type": "code",
   "execution_count": 38,
   "id": "38afec76",
   "metadata": {
    "ExecuteTime": {
     "end_time": "2021-08-17T13:46:19.222775Z",
     "start_time": "2021-08-17T13:46:00.829Z"
    }
   },
   "outputs": [],
   "source": [
    "# # genomes for train & test\n",
    "# n_genomes = 9000 * 2"
   ]
  },
  {
   "cell_type": "code",
   "execution_count": 39,
   "id": "1036f10b",
   "metadata": {
    "ExecuteTime": {
     "end_time": "2021-08-17T13:46:19.235170Z",
     "start_time": "2021-08-17T13:46:00.832Z"
    }
   },
   "outputs": [],
   "source": [
    "# meta_ff_tt = meta_ff %>%\n",
    "#     anti_join.(meta_ff_nt, c('accession')) %>%\n",
    "#     mutate.(X = sample(1:length(accession), length(accession))) %>%\n",
    "#     filter.(X <= n_genomes)\n",
    "# meta_ff_tt"
   ]
  },
  {
   "cell_type": "code",
   "execution_count": 40,
   "id": "4aa80dad",
   "metadata": {
    "ExecuteTime": {
     "end_time": "2021-08-17T13:46:19.248050Z",
     "start_time": "2021-08-17T13:46:00.835Z"
    }
   },
   "outputs": [],
   "source": [
    "# # train\n",
    "# meta_ff_train = meta_ff_tt %>%\n",
    "#     filter.(X <= n_genomes / 2) %>%\n",
    "#     select.(-X) %>%\n",
    "#     mutate.(dataset = 'n9k_train')\n",
    "# meta_ff_train"
   ]
  },
  {
   "cell_type": "code",
   "execution_count": 41,
   "id": "1302fd97",
   "metadata": {
    "ExecuteTime": {
     "end_time": "2021-08-17T13:46:19.260656Z",
     "start_time": "2021-08-17T13:46:00.839Z"
    }
   },
   "outputs": [],
   "source": [
    "# # train\n",
    "# meta_ff_test = meta_ff_tt %>%\n",
    "#     filter.(X > n_genomes / 2) %>%\n",
    "#     select.(-X) %>%\n",
    "#     mutate.(dataset = 'n9k_test')\n",
    "# meta_ff_test"
   ]
  },
  {
   "cell_type": "code",
   "execution_count": 42,
   "id": "9f489b98",
   "metadata": {
    "ExecuteTime": {
     "end_time": "2021-08-17T13:46:19.272893Z",
     "start_time": "2021-08-17T13:46:00.842Z"
    }
   },
   "outputs": [],
   "source": [
    "# # checking for accidental overlap\n",
    "# overlap(meta_ff_train$accession, meta_ff_test$accession)"
   ]
  },
  {
   "cell_type": "markdown",
   "id": "87339c85",
   "metadata": {},
   "source": [
    "### Summary"
   ]
  },
  {
   "cell_type": "code",
   "execution_count": 43,
   "id": "c9ec538b",
   "metadata": {
    "ExecuteTime": {
     "end_time": "2021-08-17T13:46:19.325577Z",
     "start_time": "2021-08-17T13:46:00.847Z"
    }
   },
   "outputs": [
    {
     "data": {
      "text/html": [
       "<table class=\"dataframe\">\n",
       "<caption>A data.table: 27300 × 25</caption>\n",
       "<thead>\n",
       "\t<tr><th scope=col>accession</th><th scope=col>checkm_completeness</th><th scope=col>checkm_contamination</th><th scope=col>mimag_high_quality</th><th scope=col>mimag_medium_quality</th><th scope=col>mimag_low_quality</th><th scope=col>ncbi_assembly_level</th><th scope=col>ncbi_genome_category</th><th scope=col>ncbi_genbank_assembly_accession</th><th scope=col>mean_contig_length</th><th scope=col>⋯</th><th scope=col>ssu_count</th><th scope=col>Domain</th><th scope=col>Phylum</th><th scope=col>Class</th><th scope=col>Order</th><th scope=col>Family</th><th scope=col>Genus</th><th scope=col>Species</th><th scope=col>X</th><th scope=col>dataset</th></tr>\n",
       "\t<tr><th scope=col>&lt;chr&gt;</th><th scope=col>&lt;dbl&gt;</th><th scope=col>&lt;dbl&gt;</th><th scope=col>&lt;chr&gt;</th><th scope=col>&lt;chr&gt;</th><th scope=col>&lt;chr&gt;</th><th scope=col>&lt;chr&gt;</th><th scope=col>&lt;chr&gt;</th><th scope=col>&lt;chr&gt;</th><th scope=col>&lt;int&gt;</th><th scope=col>⋯</th><th scope=col>&lt;int&gt;</th><th scope=col>&lt;chr&gt;</th><th scope=col>&lt;chr&gt;</th><th scope=col>&lt;chr&gt;</th><th scope=col>&lt;chr&gt;</th><th scope=col>&lt;chr&gt;</th><th scope=col>&lt;chr&gt;</th><th scope=col>&lt;chr&gt;</th><th scope=col>&lt;int&gt;</th><th scope=col>&lt;chr&gt;</th></tr>\n",
       "</thead>\n",
       "<tbody>\n",
       "\t<tr><td>RS_GCF_000328665.1</td><td>99.84</td><td>0.33</td><td>t</td><td>f</td><td>f</td><td>Complete Genome</td><td>none</td><td>GCA_000328665.1</td><td>1357006</td><td>⋯</td><td>2</td><td>Archaea</td><td>Halobacteriota   </td><td>Methanosarcinia</td><td>Methanosarcinales </td><td>Methanosarcinaceae </td><td>Methanomethylovorans</td><td>Methanomethylovorans hollandica</td><td>7317</td><td>Train</td></tr>\n",
       "\t<tr><td>RS_GCF_003149675.1</td><td>96.00</td><td>0.00</td><td>t</td><td>f</td><td>f</td><td>Contig         </td><td>none</td><td>GCA_003149675.1</td><td>  39197</td><td>⋯</td><td>1</td><td>Archaea</td><td>Methanobacteriota</td><td>Methanobacteria</td><td>Methanobacteriales</td><td>Methanobacteriaceae</td><td>Methanosphaera      </td><td>Methanosphaera cuniculi        </td><td>2357</td><td>Train</td></tr>\n",
       "\t<tr><td>⋮</td><td>⋮</td><td>⋮</td><td>⋮</td><td>⋮</td><td>⋮</td><td>⋮</td><td>⋮</td><td>⋮</td><td>⋮</td><td>⋱</td><td>⋮</td><td>⋮</td><td>⋮</td><td>⋮</td><td>⋮</td><td>⋮</td><td>⋮</td><td>⋮</td><td>⋮</td><td>⋮</td></tr>\n",
       "\t<tr><td>RS_GCF_902859605.1</td><td>99.53</td><td>0.47</td><td>t</td><td>f</td><td>f</td><td>Contig</td><td>none</td><td>GCA_902859605.1</td><td>104277</td><td>⋯</td><td>1</td><td>Bacteria</td><td>Proteobacteria</td><td>Gammaproteobacteria</td><td>Burkholderiales</td><td>Burkholderiaceae</td><td>Achromobacter</td><td>Achromobacter spanius</td><td>2567</td><td>Novel-family</td></tr>\n",
       "\t<tr><td>RS_GCF_903469595.1</td><td>99.57</td><td>0.36</td><td>t</td><td>f</td><td>f</td><td>Contig</td><td>none</td><td>GCA_903469595.1</td><td> 17675</td><td>⋯</td><td>1</td><td>Bacteria</td><td>Spirochaetota </td><td>Spirochaetia       </td><td>Treponematales </td><td>Treponemataceae </td><td>Treponema    </td><td>Treponema pallidum   </td><td>7044</td><td>Novel-family</td></tr>\n",
       "</tbody>\n",
       "</table>\n"
      ],
      "text/latex": [
       "A data.table: 27300 × 25\n",
       "\\begin{tabular}{lllllllllllllllllllll}\n",
       " accession & checkm\\_completeness & checkm\\_contamination & mimag\\_high\\_quality & mimag\\_medium\\_quality & mimag\\_low\\_quality & ncbi\\_assembly\\_level & ncbi\\_genome\\_category & ncbi\\_genbank\\_assembly\\_accession & mean\\_contig\\_length & ⋯ & ssu\\_count & Domain & Phylum & Class & Order & Family & Genus & Species & X & dataset\\\\\n",
       " <chr> & <dbl> & <dbl> & <chr> & <chr> & <chr> & <chr> & <chr> & <chr> & <int> & ⋯ & <int> & <chr> & <chr> & <chr> & <chr> & <chr> & <chr> & <chr> & <int> & <chr>\\\\\n",
       "\\hline\n",
       "\t RS\\_GCF\\_000328665.1 & 99.84 & 0.33 & t & f & f & Complete Genome & none & GCA\\_000328665.1 & 1357006 & ⋯ & 2 & Archaea & Halobacteriota    & Methanosarcinia & Methanosarcinales  & Methanosarcinaceae  & Methanomethylovorans & Methanomethylovorans hollandica & 7317 & Train\\\\\n",
       "\t RS\\_GCF\\_003149675.1 & 96.00 & 0.00 & t & f & f & Contig          & none & GCA\\_003149675.1 &   39197 & ⋯ & 1 & Archaea & Methanobacteriota & Methanobacteria & Methanobacteriales & Methanobacteriaceae & Methanosphaera       & Methanosphaera cuniculi         & 2357 & Train\\\\\n",
       "\t ⋮ & ⋮ & ⋮ & ⋮ & ⋮ & ⋮ & ⋮ & ⋮ & ⋮ & ⋮ & ⋱ & ⋮ & ⋮ & ⋮ & ⋮ & ⋮ & ⋮ & ⋮ & ⋮ & ⋮ & ⋮\\\\\n",
       "\t RS\\_GCF\\_902859605.1 & 99.53 & 0.47 & t & f & f & Contig & none & GCA\\_902859605.1 & 104277 & ⋯ & 1 & Bacteria & Proteobacteria & Gammaproteobacteria & Burkholderiales & Burkholderiaceae & Achromobacter & Achromobacter spanius & 2567 & Novel-family\\\\\n",
       "\t RS\\_GCF\\_903469595.1 & 99.57 & 0.36 & t & f & f & Contig & none & GCA\\_903469595.1 &  17675 & ⋯ & 1 & Bacteria & Spirochaetota  & Spirochaetia        & Treponematales  & Treponemataceae  & Treponema     & Treponema pallidum    & 7044 & Novel-family\\\\\n",
       "\\end{tabular}\n"
      ],
      "text/markdown": [
       "\n",
       "A data.table: 27300 × 25\n",
       "\n",
       "| accession &lt;chr&gt; | checkm_completeness &lt;dbl&gt; | checkm_contamination &lt;dbl&gt; | mimag_high_quality &lt;chr&gt; | mimag_medium_quality &lt;chr&gt; | mimag_low_quality &lt;chr&gt; | ncbi_assembly_level &lt;chr&gt; | ncbi_genome_category &lt;chr&gt; | ncbi_genbank_assembly_accession &lt;chr&gt; | mean_contig_length &lt;int&gt; | ⋯ ⋯ | ssu_count &lt;int&gt; | Domain &lt;chr&gt; | Phylum &lt;chr&gt; | Class &lt;chr&gt; | Order &lt;chr&gt; | Family &lt;chr&gt; | Genus &lt;chr&gt; | Species &lt;chr&gt; | X &lt;int&gt; | dataset &lt;chr&gt; |\n",
       "|---|---|---|---|---|---|---|---|---|---|---|---|---|---|---|---|---|---|---|---|---|\n",
       "| RS_GCF_000328665.1 | 99.84 | 0.33 | t | f | f | Complete Genome | none | GCA_000328665.1 | 1357006 | ⋯ | 2 | Archaea | Halobacteriota    | Methanosarcinia | Methanosarcinales  | Methanosarcinaceae  | Methanomethylovorans | Methanomethylovorans hollandica | 7317 | Train |\n",
       "| RS_GCF_003149675.1 | 96.00 | 0.00 | t | f | f | Contig          | none | GCA_003149675.1 |   39197 | ⋯ | 1 | Archaea | Methanobacteriota | Methanobacteria | Methanobacteriales | Methanobacteriaceae | Methanosphaera       | Methanosphaera cuniculi         | 2357 | Train |\n",
       "| ⋮ | ⋮ | ⋮ | ⋮ | ⋮ | ⋮ | ⋮ | ⋮ | ⋮ | ⋮ | ⋱ | ⋮ | ⋮ | ⋮ | ⋮ | ⋮ | ⋮ | ⋮ | ⋮ | ⋮ | ⋮ |\n",
       "| RS_GCF_902859605.1 | 99.53 | 0.47 | t | f | f | Contig | none | GCA_902859605.1 | 104277 | ⋯ | 1 | Bacteria | Proteobacteria | Gammaproteobacteria | Burkholderiales | Burkholderiaceae | Achromobacter | Achromobacter spanius | 2567 | Novel-family |\n",
       "| RS_GCF_903469595.1 | 99.57 | 0.36 | t | f | f | Contig | none | GCA_903469595.1 |  17675 | ⋯ | 1 | Bacteria | Spirochaetota  | Spirochaetia        | Treponematales  | Treponemataceae  | Treponema     | Treponema pallidum    | 7044 | Novel-family |\n",
       "\n"
      ],
      "text/plain": [
       "      accession          checkm_completeness checkm_contamination\n",
       "1     RS_GCF_000328665.1 99.84               0.33                \n",
       "2     RS_GCF_003149675.1 96.00               0.00                \n",
       "⋮     ⋮                  ⋮                   ⋮                   \n",
       "27299 RS_GCF_902859605.1 99.53               0.47                \n",
       "27300 RS_GCF_903469595.1 99.57               0.36                \n",
       "      mimag_high_quality mimag_medium_quality mimag_low_quality\n",
       "1     t                  f                    f                \n",
       "2     t                  f                    f                \n",
       "⋮     ⋮                  ⋮                    ⋮                \n",
       "27299 t                  f                    f                \n",
       "27300 t                  f                    f                \n",
       "      ncbi_assembly_level ncbi_genome_category ncbi_genbank_assembly_accession\n",
       "1     Complete Genome     none                 GCA_000328665.1                \n",
       "2     Contig              none                 GCA_003149675.1                \n",
       "⋮     ⋮                   ⋮                    ⋮                              \n",
       "27299 Contig              none                 GCA_902859605.1                \n",
       "27300 Contig              none                 GCA_903469595.1                \n",
       "      mean_contig_length ⋯ ssu_count Domain   Phylum           \n",
       "1     1357006            ⋯ 2         Archaea  Halobacteriota   \n",
       "2       39197            ⋯ 1         Archaea  Methanobacteriota\n",
       "⋮     ⋮                  ⋱ ⋮         ⋮        ⋮                \n",
       "27299 104277             ⋯ 1         Bacteria Proteobacteria   \n",
       "27300  17675             ⋯ 1         Bacteria Spirochaetota    \n",
       "      Class               Order              Family             \n",
       "1     Methanosarcinia     Methanosarcinales  Methanosarcinaceae \n",
       "2     Methanobacteria     Methanobacteriales Methanobacteriaceae\n",
       "⋮     ⋮                   ⋮                  ⋮                  \n",
       "27299 Gammaproteobacteria Burkholderiales    Burkholderiaceae   \n",
       "27300 Spirochaetia        Treponematales     Treponemataceae    \n",
       "      Genus                Species                         X    dataset     \n",
       "1     Methanomethylovorans Methanomethylovorans hollandica 7317 Train       \n",
       "2     Methanosphaera       Methanosphaera cuniculi         2357 Train       \n",
       "⋮     ⋮                    ⋮                               ⋮    ⋮           \n",
       "27299 Achromobacter        Achromobacter spanius           2567 Novel-family\n",
       "27300 Treponema            Treponema pallidum              7044 Novel-family"
      ]
     },
     "metadata": {},
     "output_type": "display_data"
    }
   ],
   "source": [
    "# merging train & test\n",
    "meta_j = rbindlist(list(\n",
    "    meta_ff_train %>% mutate.(dataset = 'Train'),\n",
    "    meta_ff_test %>% mutate.(dataset = 'Test'),\n",
    "    meta_ff_nt %>% mutate.(dataset = 'Novel-family')\n",
    "), use.names=TRUE)\n",
    "meta_j"
   ]
  },
  {
   "cell_type": "code",
   "execution_count": 44,
   "id": "a5300251",
   "metadata": {
    "ExecuteTime": {
     "end_time": "2021-08-17T13:46:21.318078Z",
     "start_time": "2021-08-17T13:46:00.849Z"
    }
   },
   "outputs": [
    {
     "data": {
      "image/png": "[encoded data removed]",
      "text/plain": [
       "plot without title"
      ]
     },
     "metadata": {
      "image/png": {
       "height": 500,
       "width": 600
      }
     },
     "output_type": "display_data"
    }
   ],
   "source": [
    "# plotting\n",
    "p = meta_j %>%\n",
    "    mutate.(dataset = factor(dataset, \n",
    "                             levels=c('Train', 'Test', 'Novel-family'))) %>%\n",
    "    select.(accession, dataset, \n",
    "            checkm_completeness, checkm_contamination,\n",
    "            contig_count, gc_percentage, genome_size, n50_contigs,\n",
    "            ssu_count) %>%\n",
    "    pivot_longer.(cols=c(-accession, -dataset)) %>%\n",
    "    mutate.(name = gsub('_', ' ', name)) %>%\n",
    "    ggplot(aes(dataset, value)) +\n",
    "    geom_boxplot() +\n",
    "    facet_wrap(~ name, scales='free_y') +\n",
    "    theme_bw() +\n",
    "    theme(\n",
    "        axis.text.x = element_text(angle=45, hjust=1)\n",
    "    )\n",
    "p.dims(6,5)\n",
    "plot(p)"
   ]
  },
  {
   "cell_type": "code",
   "execution_count": 55,
   "id": "33f5705a",
   "metadata": {
    "ExecuteTime": {
     "end_time": "2021-08-17T13:48:42.512781Z",
     "start_time": "2021-08-17T13:48:42.143Z"
    }
   },
   "outputs": [
    {
     "data": {
      "image/png": "[encoded data removed]",
      "text/plain": [
       "plot without title"
      ]
     },
     "metadata": {
      "image/png": {
       "height": 300,
       "width": 400
      }
     },
     "output_type": "display_data"
    }
   ],
   "source": [
    "# taxonomy\n",
    "meta_js = meta_j %>%\n",
    "    mutate.(total = n.(),\n",
    "            taxonomy = paste(Phylum, sep=';'),\n",
    "            .by=c(dataset)) %>%\n",
    "    summarize.(perc = n.() / first(total) * 100,\n",
    "               .by=c(dataset, taxonomy)) %>%\n",
    "    mutate.(taxonomy = ifelse(perc < 1, 'Other', taxonomy)) \n",
    "p = meta_js %>%\n",
    "    ggplot(aes(dataset, perc, fill=taxonomy)) +\n",
    "    geom_bar(stat='identity') +\n",
    "    scale_fill_discrete('Phylum') +\n",
    "    labs(y='% abundance') +\n",
    "    theme_bw() +\n",
    "    theme(\n",
    "        axis.text.x = element_text(angle=45, hjust=1)\n",
    "    )\n",
    "p.dims(4,3)\n",
    "plot(p)"
   ]
  },
  {
   "cell_type": "code",
   "execution_count": 46,
   "id": "592d67d1",
   "metadata": {
    "ExecuteTime": {
     "end_time": "2021-08-17T13:46:22.091792Z",
     "start_time": "2021-08-17T13:46:00.855Z"
    }
   },
   "outputs": [
    {
     "data": {
      "image/png": "[encoded data removed]",
      "text/plain": [
       "plot without title"
      ]
     },
     "metadata": {
      "image/png": {
       "height": 300,
       "width": 500
      }
     },
     "output_type": "display_data"
    }
   ],
   "source": [
    "# taxonomy\n",
    "meta_js = meta_j %>%\n",
    "    mutate.(total = n.(),\n",
    "            taxonomy = paste(Phylum, Class, sep=';'),\n",
    "            .by=c(dataset)) %>%\n",
    "    summarize.(perc = n.() / first(total) * 100,\n",
    "               .by=c(dataset, taxonomy)) %>%\n",
    "    mutate.(taxonomy = ifelse(perc < 1, 'Other', taxonomy)) \n",
    "p = meta_js %>%\n",
    "    ggplot(aes(dataset, perc, fill=taxonomy)) +\n",
    "    geom_bar(stat='identity') +\n",
    "    scale_fill_discrete('Phylum;Class') +\n",
    "    labs(y='% abundance') +\n",
    "    theme_bw() +\n",
    "    theme(\n",
    "        axis.text.x = element_text(angle=45, hjust=1)\n",
    "    )\n",
    "p.dims(5,3)\n",
    "plot(p)"
   ]
  },
  {
   "cell_type": "markdown",
   "id": "bca953ed",
   "metadata": {},
   "source": [
    "#### Writing tables"
   ]
  },
  {
   "cell_type": "code",
   "execution_count": 47,
   "id": "488e0afd",
   "metadata": {
    "ExecuteTime": {
     "end_time": "2021-08-17T13:46:22.129141Z",
     "start_time": "2021-08-17T13:46:00.858Z"
    }
   },
   "outputs": [
    {
     "name": "stdout",
     "output_type": "stream",
     "text": [
      "File written: /ebio/abt3_projects/databases_no-backup/DeepMAsED/version2/ref_genomes/GTDBr202//n9k-train_raw_metadata.tsv \n"
     ]
    }
   ],
   "source": [
    "F = file.path(work_dir, 'n9k-train_raw_metadata.tsv')\n",
    "meta_j %>% \n",
    "    filter.(dataset == 'Train') %>%\n",
    "    write_table(F)"
   ]
  },
  {
   "cell_type": "code",
   "execution_count": 48,
   "id": "45a1510e",
   "metadata": {
    "ExecuteTime": {
     "end_time": "2021-08-17T13:46:22.163899Z",
     "start_time": "2021-08-17T13:46:00.860Z"
    }
   },
   "outputs": [
    {
     "name": "stdout",
     "output_type": "stream",
     "text": [
      "File written: /ebio/abt3_projects/databases_no-backup/DeepMAsED/version2/ref_genomes/GTDBr202//n9k-test_raw_metadata.tsv \n"
     ]
    }
   ],
   "source": [
    "F = file.path(work_dir, 'n9k-test_raw_metadata.tsv')\n",
    "meta_j %>% \n",
    "    filter.(dataset == 'Test') %>%\n",
    "    write_table(F)"
   ]
  },
  {
   "cell_type": "code",
   "execution_count": 49,
   "id": "9e518bff",
   "metadata": {
    "ExecuteTime": {
     "end_time": "2021-08-17T13:46:22.198531Z",
     "start_time": "2021-08-17T13:46:00.862Z"
    }
   },
   "outputs": [
    {
     "name": "stdout",
     "output_type": "stream",
     "text": [
      "File written: /ebio/abt3_projects/databases_no-backup/DeepMAsED/version2/ref_genomes/GTDBr202//n9k-novel-family_raw_metadata.tsv \n"
     ]
    }
   ],
   "source": [
    "F = file.path(work_dir, 'n9k-novel-family_raw_metadata.tsv')\n",
    "meta_j %>% \n",
    "    filter.(dataset == 'Novel-family') %>%\n",
    "    write_table(F)"
   ]
  },
  {
   "cell_type": "markdown",
   "id": "c25946cf",
   "metadata": {
    "ExecuteTime": {
     "end_time": "2021-08-13T10:41:14.353787Z",
     "start_time": "2021-08-13T10:41:13.926Z"
    }
   },
   "source": [
    "# Downloading all genomes"
   ]
  },
  {
   "cell_type": "code",
   "execution_count": 53,
   "id": "408077c4",
   "metadata": {
    "ExecuteTime": {
     "end_time": "2021-08-17T13:47:14.383612Z",
     "start_time": "2021-08-17T13:47:14.322Z"
    }
   },
   "outputs": [
    {
     "name": "stdout",
     "output_type": "stream",
     "text": [
      "No. of unique genomes: 27300 \n"
     ]
    },
    {
     "data": {
      "text/html": [
       "<table class=\"dataframe\">\n",
       "<caption>A data.table: 27300 × 25</caption>\n",
       "<thead>\n",
       "\t<tr><th scope=col>accession</th><th scope=col>checkm_completeness</th><th scope=col>checkm_contamination</th><th scope=col>mimag_high_quality</th><th scope=col>mimag_medium_quality</th><th scope=col>mimag_low_quality</th><th scope=col>ncbi_assembly_level</th><th scope=col>ncbi_genome_category</th><th scope=col>ncbi_genbank_assembly_accession</th><th scope=col>mean_contig_length</th><th scope=col>⋯</th><th scope=col>ssu_count</th><th scope=col>Domain</th><th scope=col>Phylum</th><th scope=col>Class</th><th scope=col>Order</th><th scope=col>Family</th><th scope=col>Genus</th><th scope=col>Species</th><th scope=col>X</th><th scope=col>dataset</th></tr>\n",
       "\t<tr><th scope=col>&lt;chr&gt;</th><th scope=col>&lt;dbl&gt;</th><th scope=col>&lt;dbl&gt;</th><th scope=col>&lt;chr&gt;</th><th scope=col>&lt;chr&gt;</th><th scope=col>&lt;chr&gt;</th><th scope=col>&lt;chr&gt;</th><th scope=col>&lt;chr&gt;</th><th scope=col>&lt;chr&gt;</th><th scope=col>&lt;int&gt;</th><th scope=col>⋯</th><th scope=col>&lt;int&gt;</th><th scope=col>&lt;chr&gt;</th><th scope=col>&lt;chr&gt;</th><th scope=col>&lt;chr&gt;</th><th scope=col>&lt;chr&gt;</th><th scope=col>&lt;chr&gt;</th><th scope=col>&lt;chr&gt;</th><th scope=col>&lt;chr&gt;</th><th scope=col>&lt;int&gt;</th><th scope=col>&lt;chr&gt;</th></tr>\n",
       "</thead>\n",
       "<tbody>\n",
       "\t<tr><td>RS_GCF_000328665.1</td><td>99.84</td><td>0.33</td><td>t</td><td>f</td><td>f</td><td>Complete Genome</td><td>none</td><td>GCA_000328665.1</td><td>1357006</td><td>⋯</td><td>2</td><td>Archaea</td><td>Halobacteriota   </td><td>Methanosarcinia</td><td>Methanosarcinales </td><td>Methanosarcinaceae </td><td>Methanomethylovorans</td><td>Methanomethylovorans hollandica</td><td>7317</td><td>Train</td></tr>\n",
       "\t<tr><td>RS_GCF_003149675.1</td><td>96.00</td><td>0.00</td><td>t</td><td>f</td><td>f</td><td>Contig         </td><td>none</td><td>GCA_003149675.1</td><td>  39197</td><td>⋯</td><td>1</td><td>Archaea</td><td>Methanobacteriota</td><td>Methanobacteria</td><td>Methanobacteriales</td><td>Methanobacteriaceae</td><td>Methanosphaera      </td><td>Methanosphaera cuniculi        </td><td>2357</td><td>Train</td></tr>\n",
       "\t<tr><td>⋮</td><td>⋮</td><td>⋮</td><td>⋮</td><td>⋮</td><td>⋮</td><td>⋮</td><td>⋮</td><td>⋮</td><td>⋮</td><td>⋱</td><td>⋮</td><td>⋮</td><td>⋮</td><td>⋮</td><td>⋮</td><td>⋮</td><td>⋮</td><td>⋮</td><td>⋮</td><td>⋮</td></tr>\n",
       "\t<tr><td>RS_GCF_902859605.1</td><td>99.53</td><td>0.47</td><td>t</td><td>f</td><td>f</td><td>Contig</td><td>none</td><td>GCA_902859605.1</td><td>104277</td><td>⋯</td><td>1</td><td>Bacteria</td><td>Proteobacteria</td><td>Gammaproteobacteria</td><td>Burkholderiales</td><td>Burkholderiaceae</td><td>Achromobacter</td><td>Achromobacter spanius</td><td>2567</td><td>Novel-family</td></tr>\n",
       "\t<tr><td>RS_GCF_903469595.1</td><td>99.57</td><td>0.36</td><td>t</td><td>f</td><td>f</td><td>Contig</td><td>none</td><td>GCA_903469595.1</td><td> 17675</td><td>⋯</td><td>1</td><td>Bacteria</td><td>Spirochaetota </td><td>Spirochaetia       </td><td>Treponematales </td><td>Treponemataceae </td><td>Treponema    </td><td>Treponema pallidum   </td><td>7044</td><td>Novel-family</td></tr>\n",
       "</tbody>\n",
       "</table>\n"
      ],
      "text/latex": [
       "A data.table: 27300 × 25\n",
       "\\begin{tabular}{lllllllllllllllllllll}\n",
       " accession & checkm\\_completeness & checkm\\_contamination & mimag\\_high\\_quality & mimag\\_medium\\_quality & mimag\\_low\\_quality & ncbi\\_assembly\\_level & ncbi\\_genome\\_category & ncbi\\_genbank\\_assembly\\_accession & mean\\_contig\\_length & ⋯ & ssu\\_count & Domain & Phylum & Class & Order & Family & Genus & Species & X & dataset\\\\\n",
       " <chr> & <dbl> & <dbl> & <chr> & <chr> & <chr> & <chr> & <chr> & <chr> & <int> & ⋯ & <int> & <chr> & <chr> & <chr> & <chr> & <chr> & <chr> & <chr> & <int> & <chr>\\\\\n",
       "\\hline\n",
       "\t RS\\_GCF\\_000328665.1 & 99.84 & 0.33 & t & f & f & Complete Genome & none & GCA\\_000328665.1 & 1357006 & ⋯ & 2 & Archaea & Halobacteriota    & Methanosarcinia & Methanosarcinales  & Methanosarcinaceae  & Methanomethylovorans & Methanomethylovorans hollandica & 7317 & Train\\\\\n",
       "\t RS\\_GCF\\_003149675.1 & 96.00 & 0.00 & t & f & f & Contig          & none & GCA\\_003149675.1 &   39197 & ⋯ & 1 & Archaea & Methanobacteriota & Methanobacteria & Methanobacteriales & Methanobacteriaceae & Methanosphaera       & Methanosphaera cuniculi         & 2357 & Train\\\\\n",
       "\t ⋮ & ⋮ & ⋮ & ⋮ & ⋮ & ⋮ & ⋮ & ⋮ & ⋮ & ⋮ & ⋱ & ⋮ & ⋮ & ⋮ & ⋮ & ⋮ & ⋮ & ⋮ & ⋮ & ⋮ & ⋮\\\\\n",
       "\t RS\\_GCF\\_902859605.1 & 99.53 & 0.47 & t & f & f & Contig & none & GCA\\_902859605.1 & 104277 & ⋯ & 1 & Bacteria & Proteobacteria & Gammaproteobacteria & Burkholderiales & Burkholderiaceae & Achromobacter & Achromobacter spanius & 2567 & Novel-family\\\\\n",
       "\t RS\\_GCF\\_903469595.1 & 99.57 & 0.36 & t & f & f & Contig & none & GCA\\_903469595.1 &  17675 & ⋯ & 1 & Bacteria & Spirochaetota  & Spirochaetia        & Treponematales  & Treponemataceae  & Treponema     & Treponema pallidum    & 7044 & Novel-family\\\\\n",
       "\\end{tabular}\n"
      ],
      "text/markdown": [
       "\n",
       "A data.table: 27300 × 25\n",
       "\n",
       "| accession &lt;chr&gt; | checkm_completeness &lt;dbl&gt; | checkm_contamination &lt;dbl&gt; | mimag_high_quality &lt;chr&gt; | mimag_medium_quality &lt;chr&gt; | mimag_low_quality &lt;chr&gt; | ncbi_assembly_level &lt;chr&gt; | ncbi_genome_category &lt;chr&gt; | ncbi_genbank_assembly_accession &lt;chr&gt; | mean_contig_length &lt;int&gt; | ⋯ ⋯ | ssu_count &lt;int&gt; | Domain &lt;chr&gt; | Phylum &lt;chr&gt; | Class &lt;chr&gt; | Order &lt;chr&gt; | Family &lt;chr&gt; | Genus &lt;chr&gt; | Species &lt;chr&gt; | X &lt;int&gt; | dataset &lt;chr&gt; |\n",
       "|---|---|---|---|---|---|---|---|---|---|---|---|---|---|---|---|---|---|---|---|---|\n",
       "| RS_GCF_000328665.1 | 99.84 | 0.33 | t | f | f | Complete Genome | none | GCA_000328665.1 | 1357006 | ⋯ | 2 | Archaea | Halobacteriota    | Methanosarcinia | Methanosarcinales  | Methanosarcinaceae  | Methanomethylovorans | Methanomethylovorans hollandica | 7317 | Train |\n",
       "| RS_GCF_003149675.1 | 96.00 | 0.00 | t | f | f | Contig          | none | GCA_003149675.1 |   39197 | ⋯ | 1 | Archaea | Methanobacteriota | Methanobacteria | Methanobacteriales | Methanobacteriaceae | Methanosphaera       | Methanosphaera cuniculi         | 2357 | Train |\n",
       "| ⋮ | ⋮ | ⋮ | ⋮ | ⋮ | ⋮ | ⋮ | ⋮ | ⋮ | ⋮ | ⋱ | ⋮ | ⋮ | ⋮ | ⋮ | ⋮ | ⋮ | ⋮ | ⋮ | ⋮ | ⋮ |\n",
       "| RS_GCF_902859605.1 | 99.53 | 0.47 | t | f | f | Contig | none | GCA_902859605.1 | 104277 | ⋯ | 1 | Bacteria | Proteobacteria | Gammaproteobacteria | Burkholderiales | Burkholderiaceae | Achromobacter | Achromobacter spanius | 2567 | Novel-family |\n",
       "| RS_GCF_903469595.1 | 99.57 | 0.36 | t | f | f | Contig | none | GCA_903469595.1 |  17675 | ⋯ | 1 | Bacteria | Spirochaetota  | Spirochaetia        | Treponematales  | Treponemataceae  | Treponema     | Treponema pallidum    | 7044 | Novel-family |\n",
       "\n"
      ],
      "text/plain": [
       "      accession          checkm_completeness checkm_contamination\n",
       "1     RS_GCF_000328665.1 99.84               0.33                \n",
       "2     RS_GCF_003149675.1 96.00               0.00                \n",
       "⋮     ⋮                  ⋮                   ⋮                   \n",
       "27299 RS_GCF_902859605.1 99.53               0.47                \n",
       "27300 RS_GCF_903469595.1 99.57               0.36                \n",
       "      mimag_high_quality mimag_medium_quality mimag_low_quality\n",
       "1     t                  f                    f                \n",
       "2     t                  f                    f                \n",
       "⋮     ⋮                  ⋮                    ⋮                \n",
       "27299 t                  f                    f                \n",
       "27300 t                  f                    f                \n",
       "      ncbi_assembly_level ncbi_genome_category ncbi_genbank_assembly_accession\n",
       "1     Complete Genome     none                 GCA_000328665.1                \n",
       "2     Contig              none                 GCA_003149675.1                \n",
       "⋮     ⋮                   ⋮                    ⋮                              \n",
       "27299 Contig              none                 GCA_902859605.1                \n",
       "27300 Contig              none                 GCA_903469595.1                \n",
       "      mean_contig_length ⋯ ssu_count Domain   Phylum           \n",
       "1     1357006            ⋯ 2         Archaea  Halobacteriota   \n",
       "2       39197            ⋯ 1         Archaea  Methanobacteriota\n",
       "⋮     ⋮                  ⋱ ⋮         ⋮        ⋮                \n",
       "27299 104277             ⋯ 1         Bacteria Proteobacteria   \n",
       "27300  17675             ⋯ 1         Bacteria Spirochaetota    \n",
       "      Class               Order              Family             \n",
       "1     Methanosarcinia     Methanosarcinales  Methanosarcinaceae \n",
       "2     Methanobacteria     Methanobacteriales Methanobacteriaceae\n",
       "⋮     ⋮                   ⋮                  ⋮                  \n",
       "27299 Gammaproteobacteria Burkholderiales    Burkholderiaceae   \n",
       "27300 Spirochaetia        Treponematales     Treponemataceae    \n",
       "      Genus                Species                         X    dataset     \n",
       "1     Methanomethylovorans Methanomethylovorans hollandica 7317 Train       \n",
       "2     Methanosphaera       Methanosphaera cuniculi         2357 Train       \n",
       "⋮     ⋮                    ⋮                               ⋮    ⋮           \n",
       "27299 Achromobacter        Achromobacter spanius           2567 Novel-family\n",
       "27300 Treponema            Treponema pallidum              7044 Novel-family"
      ]
     },
     "metadata": {},
     "output_type": "display_data"
    }
   ],
   "source": [
    "# all unique?\n",
    "meta_j %>% unique_n('genomes', accession)\n",
    "meta_j"
   ]
  },
  {
   "cell_type": "code",
   "execution_count": 54,
   "id": "c3a244dc",
   "metadata": {
    "ExecuteTime": {
     "end_time": "2021-08-17T13:47:24.439592Z",
     "start_time": "2021-08-17T13:47:24.369Z"
    }
   },
   "outputs": [
    {
     "name": "stdout",
     "output_type": "stream",
     "text": [
      "File written: /ebio/abt3_projects/databases_no-backup/DeepMAsED/version2/ref_genomes/GTDBr202//genomes_all-selected.tsv \n"
     ]
    }
   ],
   "source": [
    "# writing table\n",
    "F = file.path(work_dir, 'genomes_all-selected.tsv')\n",
    "meta_j %>% \n",
    "    distinct.(accession, ncbi_genbank_assembly_accession, \n",
    "              Domain, Phylum, Class, Order, Family, Genus, Species) %>%\n",
    "    write_table(F)"
   ]
  },
  {
   "cell_type": "markdown",
   "id": "9a5dd62b",
   "metadata": {},
   "source": [
    "```\n",
    "(genome) @ rick:/ebio/abt3_projects/databases_no-backup/DeepMAsED/version2/ref_genomes/GTDBr202\n",
    "screen -L -S rmc_GTDBr202_refGen bash -c \"../genome_download.R -o genomes_fasta -p 16 genomes_all-selected.tsv > genomes_all-selected_wPath.tsv\"\n",
    "```"
   ]
  },
  {
   "cell_type": "markdown",
   "id": "088eedac",
   "metadata": {},
   "source": [
    "## Which genomes missing?"
   ]
  },
  {
   "cell_type": "code",
   "execution_count": 57,
   "id": "84c48c99",
   "metadata": {
    "ExecuteTime": {
     "end_time": "2021-08-17T16:17:34.357758Z",
     "start_time": "2021-08-17T16:17:34.174Z"
    }
   },
   "outputs": [
    {
     "data": {
      "text/html": [
       "<table class=\"dataframe\">\n",
       "<caption>A data.table: 27300 × 10</caption>\n",
       "<thead>\n",
       "\t<tr><th scope=col>accession</th><th scope=col>ncbi_genbank_assembly_accession</th><th scope=col>Domain</th><th scope=col>Phylum</th><th scope=col>Class</th><th scope=col>Order</th><th scope=col>Family</th><th scope=col>Genus</th><th scope=col>Species</th><th scope=col>fasta_file_path</th></tr>\n",
       "\t<tr><th scope=col>&lt;chr&gt;</th><th scope=col>&lt;chr&gt;</th><th scope=col>&lt;chr&gt;</th><th scope=col>&lt;chr&gt;</th><th scope=col>&lt;chr&gt;</th><th scope=col>&lt;chr&gt;</th><th scope=col>&lt;chr&gt;</th><th scope=col>&lt;chr&gt;</th><th scope=col>&lt;chr&gt;</th><th scope=col>&lt;chr&gt;</th></tr>\n",
       "</thead>\n",
       "<tbody>\n",
       "\t<tr><td>RS_GCF_000328665.1</td><td>GCA_000328665.1</td><td>Archaea</td><td>Halobacteriota   </td><td>Methanosarcinia</td><td>Methanosarcinales </td><td>Methanosarcinaceae </td><td>Methanomethylovorans</td><td>Methanomethylovorans hollandica</td><td>/ebio/abt3_projects/databases_no-backup/DeepMAsED/version2/ref_genomes/GTDBr202/genomes_fasta/genbank/archaea/GCA_000328665.1/GCA_000328665.1_ASM32866v1_genomic.fna.gz </td></tr>\n",
       "\t<tr><td>RS_GCF_003149675.1</td><td>GCA_003149675.1</td><td>Archaea</td><td>Methanobacteriota</td><td>Methanobacteria</td><td>Methanobacteriales</td><td>Methanobacteriaceae</td><td>Methanosphaera      </td><td>Methanosphaera cuniculi        </td><td>/ebio/abt3_projects/databases_no-backup/DeepMAsED/version2/ref_genomes/GTDBr202/genomes_fasta/genbank/archaea/GCA_003149675.1/GCA_003149675.1_ASM314967v1_genomic.fna.gz</td></tr>\n",
       "\t<tr><td>⋮</td><td>⋮</td><td>⋮</td><td>⋮</td><td>⋮</td><td>⋮</td><td>⋮</td><td>⋮</td><td>⋮</td><td>⋮</td></tr>\n",
       "\t<tr><td>RS_GCF_902859605.1</td><td>GCA_902859605.1</td><td>Bacteria</td><td>Proteobacteria</td><td>Gammaproteobacteria</td><td>Burkholderiales</td><td>Burkholderiaceae</td><td>Achromobacter</td><td>Achromobacter spanius</td><td>/ebio/abt3_projects/databases_no-backup/DeepMAsED/version2/ref_genomes/GTDBr202/genomes_fasta/genbank/bacteria/GCA_902859605.1/GCA_902859605.1_LMG_5911_genomic.fna.gz  </td></tr>\n",
       "\t<tr><td>RS_GCF_903469595.1</td><td>GCA_903469595.1</td><td>Bacteria</td><td>Spirochaetota </td><td>Spirochaetia       </td><td>Treponematales </td><td>Treponemataceae </td><td>Treponema    </td><td>Treponema pallidum   </td><td>/ebio/abt3_projects/databases_no-backup/DeepMAsED/version2/ref_genomes/GTDBr202/genomes_fasta/genbank/bacteria/GCA_903469595.1/GCA_903469595.1_R3-SAL-007_genomic.fna.gz</td></tr>\n",
       "</tbody>\n",
       "</table>\n"
      ],
      "text/latex": [
       "A data.table: 27300 × 10\n",
       "\\begin{tabular}{llllllllll}\n",
       " accession & ncbi\\_genbank\\_assembly\\_accession & Domain & Phylum & Class & Order & Family & Genus & Species & fasta\\_file\\_path\\\\\n",
       " <chr> & <chr> & <chr> & <chr> & <chr> & <chr> & <chr> & <chr> & <chr> & <chr>\\\\\n",
       "\\hline\n",
       "\t RS\\_GCF\\_000328665.1 & GCA\\_000328665.1 & Archaea & Halobacteriota    & Methanosarcinia & Methanosarcinales  & Methanosarcinaceae  & Methanomethylovorans & Methanomethylovorans hollandica & /ebio/abt3\\_projects/databases\\_no-backup/DeepMAsED/version2/ref\\_genomes/GTDBr202/genomes\\_fasta/genbank/archaea/GCA\\_000328665.1/GCA\\_000328665.1\\_ASM32866v1\\_genomic.fna.gz \\\\\n",
       "\t RS\\_GCF\\_003149675.1 & GCA\\_003149675.1 & Archaea & Methanobacteriota & Methanobacteria & Methanobacteriales & Methanobacteriaceae & Methanosphaera       & Methanosphaera cuniculi         & /ebio/abt3\\_projects/databases\\_no-backup/DeepMAsED/version2/ref\\_genomes/GTDBr202/genomes\\_fasta/genbank/archaea/GCA\\_003149675.1/GCA\\_003149675.1\\_ASM314967v1\\_genomic.fna.gz\\\\\n",
       "\t ⋮ & ⋮ & ⋮ & ⋮ & ⋮ & ⋮ & ⋮ & ⋮ & ⋮ & ⋮\\\\\n",
       "\t RS\\_GCF\\_902859605.1 & GCA\\_902859605.1 & Bacteria & Proteobacteria & Gammaproteobacteria & Burkholderiales & Burkholderiaceae & Achromobacter & Achromobacter spanius & /ebio/abt3\\_projects/databases\\_no-backup/DeepMAsED/version2/ref\\_genomes/GTDBr202/genomes\\_fasta/genbank/bacteria/GCA\\_902859605.1/GCA\\_902859605.1\\_LMG\\_5911\\_genomic.fna.gz  \\\\\n",
       "\t RS\\_GCF\\_903469595.1 & GCA\\_903469595.1 & Bacteria & Spirochaetota  & Spirochaetia        & Treponematales  & Treponemataceae  & Treponema     & Treponema pallidum    & /ebio/abt3\\_projects/databases\\_no-backup/DeepMAsED/version2/ref\\_genomes/GTDBr202/genomes\\_fasta/genbank/bacteria/GCA\\_903469595.1/GCA\\_903469595.1\\_R3-SAL-007\\_genomic.fna.gz\\\\\n",
       "\\end{tabular}\n"
      ],
      "text/markdown": [
       "\n",
       "A data.table: 27300 × 10\n",
       "\n",
       "| accession &lt;chr&gt; | ncbi_genbank_assembly_accession &lt;chr&gt; | Domain &lt;chr&gt; | Phylum &lt;chr&gt; | Class &lt;chr&gt; | Order &lt;chr&gt; | Family &lt;chr&gt; | Genus &lt;chr&gt; | Species &lt;chr&gt; | fasta_file_path &lt;chr&gt; |\n",
       "|---|---|---|---|---|---|---|---|---|---|\n",
       "| RS_GCF_000328665.1 | GCA_000328665.1 | Archaea | Halobacteriota    | Methanosarcinia | Methanosarcinales  | Methanosarcinaceae  | Methanomethylovorans | Methanomethylovorans hollandica | /ebio/abt3_projects/databases_no-backup/DeepMAsED/version2/ref_genomes/GTDBr202/genomes_fasta/genbank/archaea/GCA_000328665.1/GCA_000328665.1_ASM32866v1_genomic.fna.gz  |\n",
       "| RS_GCF_003149675.1 | GCA_003149675.1 | Archaea | Methanobacteriota | Methanobacteria | Methanobacteriales | Methanobacteriaceae | Methanosphaera       | Methanosphaera cuniculi         | /ebio/abt3_projects/databases_no-backup/DeepMAsED/version2/ref_genomes/GTDBr202/genomes_fasta/genbank/archaea/GCA_003149675.1/GCA_003149675.1_ASM314967v1_genomic.fna.gz |\n",
       "| ⋮ | ⋮ | ⋮ | ⋮ | ⋮ | ⋮ | ⋮ | ⋮ | ⋮ | ⋮ |\n",
       "| RS_GCF_902859605.1 | GCA_902859605.1 | Bacteria | Proteobacteria | Gammaproteobacteria | Burkholderiales | Burkholderiaceae | Achromobacter | Achromobacter spanius | /ebio/abt3_projects/databases_no-backup/DeepMAsED/version2/ref_genomes/GTDBr202/genomes_fasta/genbank/bacteria/GCA_902859605.1/GCA_902859605.1_LMG_5911_genomic.fna.gz   |\n",
       "| RS_GCF_903469595.1 | GCA_903469595.1 | Bacteria | Spirochaetota  | Spirochaetia        | Treponematales  | Treponemataceae  | Treponema     | Treponema pallidum    | /ebio/abt3_projects/databases_no-backup/DeepMAsED/version2/ref_genomes/GTDBr202/genomes_fasta/genbank/bacteria/GCA_903469595.1/GCA_903469595.1_R3-SAL-007_genomic.fna.gz |\n",
       "\n"
      ],
      "text/plain": [
       "      accession          ncbi_genbank_assembly_accession Domain  \n",
       "1     RS_GCF_000328665.1 GCA_000328665.1                 Archaea \n",
       "2     RS_GCF_003149675.1 GCA_003149675.1                 Archaea \n",
       "⋮     ⋮                  ⋮                               ⋮       \n",
       "27299 RS_GCF_902859605.1 GCA_902859605.1                 Bacteria\n",
       "27300 RS_GCF_903469595.1 GCA_903469595.1                 Bacteria\n",
       "      Phylum            Class               Order             \n",
       "1     Halobacteriota    Methanosarcinia     Methanosarcinales \n",
       "2     Methanobacteriota Methanobacteria     Methanobacteriales\n",
       "⋮     ⋮                 ⋮                   ⋮                 \n",
       "27299 Proteobacteria    Gammaproteobacteria Burkholderiales   \n",
       "27300 Spirochaetota     Spirochaetia        Treponematales    \n",
       "      Family              Genus                Species                        \n",
       "1     Methanosarcinaceae  Methanomethylovorans Methanomethylovorans hollandica\n",
       "2     Methanobacteriaceae Methanosphaera       Methanosphaera cuniculi        \n",
       "⋮     ⋮                   ⋮                    ⋮                              \n",
       "27299 Burkholderiaceae    Achromobacter        Achromobacter spanius          \n",
       "27300 Treponemataceae     Treponema            Treponema pallidum             \n",
       "      fasta_file_path                                                                                                                                                         \n",
       "1     /ebio/abt3_projects/databases_no-backup/DeepMAsED/version2/ref_genomes/GTDBr202/genomes_fasta/genbank/archaea/GCA_000328665.1/GCA_000328665.1_ASM32866v1_genomic.fna.gz \n",
       "2     /ebio/abt3_projects/databases_no-backup/DeepMAsED/version2/ref_genomes/GTDBr202/genomes_fasta/genbank/archaea/GCA_003149675.1/GCA_003149675.1_ASM314967v1_genomic.fna.gz\n",
       "⋮     ⋮                                                                                                                                                                       \n",
       "27299 /ebio/abt3_projects/databases_no-backup/DeepMAsED/version2/ref_genomes/GTDBr202/genomes_fasta/genbank/bacteria/GCA_902859605.1/GCA_902859605.1_LMG_5911_genomic.fna.gz  \n",
       "27300 /ebio/abt3_projects/databases_no-backup/DeepMAsED/version2/ref_genomes/GTDBr202/genomes_fasta/genbank/bacteria/GCA_903469595.1/GCA_903469595.1_R3-SAL-007_genomic.fna.gz"
      ]
     },
     "metadata": {},
     "output_type": "display_data"
    }
   ],
   "source": [
    "# metadata with path to genome added\n",
    "inF = file.path(work_dir, 'genomes_all-selected_wPath.tsv')\n",
    "meta_dl = Fread(inF, sep='\\t') \n",
    "meta_dl"
   ]
  },
  {
   "cell_type": "code",
   "execution_count": 59,
   "id": "483f87d0",
   "metadata": {
    "ExecuteTime": {
     "end_time": "2021-08-17T16:17:49.560297Z",
     "start_time": "2021-08-17T16:17:49.518Z"
    }
   },
   "outputs": [
    {
     "data": {
      "text/html": [
       "188"
      ],
      "text/latex": [
       "188"
      ],
      "text/markdown": [
       "188"
      ],
      "text/plain": [
       "[1] 188"
      ]
     },
     "metadata": {},
     "output_type": "display_data"
    }
   ],
   "source": [
    "# no downloaded genome\n",
    "meta_dl %>%\n",
    "    filter.(is.na(fasta_file_path)) %>%\n",
    "    nrow"
   ]
  },
  {
   "cell_type": "code",
   "execution_count": 62,
   "id": "4a00a4f7",
   "metadata": {
    "ExecuteTime": {
     "end_time": "2021-08-17T16:19:04.021934Z",
     "start_time": "2021-08-17T16:19:03.901Z"
    }
   },
   "outputs": [
    {
     "data": {
      "text/html": [
       "<table class=\"dataframe\">\n",
       "<caption>A tidytable: 3 × 2</caption>\n",
       "<thead>\n",
       "\t<tr><th scope=col>dataset</th><th scope=col>n</th></tr>\n",
       "\t<tr><th scope=col>&lt;chr&gt;</th><th scope=col>&lt;int&gt;</th></tr>\n",
       "</thead>\n",
       "<tbody>\n",
       "\t<tr><td>Train       </td><td>9014</td></tr>\n",
       "\t<tr><td>Test        </td><td>9031</td></tr>\n",
       "\t<tr><td>Novel-family</td><td>9067</td></tr>\n",
       "</tbody>\n",
       "</table>\n"
      ],
      "text/latex": [
       "A tidytable: 3 × 2\n",
       "\\begin{tabular}{ll}\n",
       " dataset & n\\\\\n",
       " <chr> & <int>\\\\\n",
       "\\hline\n",
       "\t Train        & 9014\\\\\n",
       "\t Test         & 9031\\\\\n",
       "\t Novel-family & 9067\\\\\n",
       "\\end{tabular}\n"
      ],
      "text/markdown": [
       "\n",
       "A tidytable: 3 × 2\n",
       "\n",
       "| dataset &lt;chr&gt; | n &lt;int&gt; |\n",
       "|---|---|\n",
       "| Train        | 9014 |\n",
       "| Test         | 9031 |\n",
       "| Novel-family | 9067 |\n",
       "\n"
      ],
      "text/plain": [
       "  dataset      n   \n",
       "1 Train        9014\n",
       "2 Test         9031\n",
       "3 Novel-family 9067"
      ]
     },
     "metadata": {},
     "output_type": "display_data"
    }
   ],
   "source": [
    "# genomes w/ fasta\n",
    "meta_dl %>%\n",
    "    filter.(!is.na(fasta_file_path)) %>%\n",
    "    inner_join.(meta_j %>% select.(accession, dataset), \n",
    "                c('accession')) %>%\n",
    "    summarize.(n = n.(),\n",
    "               .by=c(dataset))"
   ]
  },
  {
   "cell_type": "code",
   "execution_count": 73,
   "id": "acebdee0",
   "metadata": {
    "ExecuteTime": {
     "end_time": "2021-08-17T16:24:27.279667Z",
     "start_time": "2021-08-17T16:24:27.128Z"
    }
   },
   "outputs": [
    {
     "data": {
      "text/html": [
       "<table class=\"dataframe\">\n",
       "<caption>A tidytable: 27000 × 19</caption>\n",
       "<thead>\n",
       "\t<tr><th scope=col>accession</th><th scope=col>ncbi_genbank_assembly_accession</th><th scope=col>Domain</th><th scope=col>Phylum</th><th scope=col>Class</th><th scope=col>Order</th><th scope=col>Family</th><th scope=col>Genus</th><th scope=col>Species</th><th scope=col>fasta_file_path</th><th scope=col>dataset</th><th scope=col>checkm_completeness</th><th scope=col>checkm_contamination</th><th scope=col>contig_count</th><th scope=col>gc_percentage</th><th scope=col>genome_size</th><th scope=col>n50_contigs</th><th scope=col>ssu_count</th><th scope=col>X</th></tr>\n",
       "\t<tr><th scope=col>&lt;chr&gt;</th><th scope=col>&lt;chr&gt;</th><th scope=col>&lt;chr&gt;</th><th scope=col>&lt;chr&gt;</th><th scope=col>&lt;chr&gt;</th><th scope=col>&lt;chr&gt;</th><th scope=col>&lt;chr&gt;</th><th scope=col>&lt;chr&gt;</th><th scope=col>&lt;chr&gt;</th><th scope=col>&lt;chr&gt;</th><th scope=col>&lt;chr&gt;</th><th scope=col>&lt;dbl&gt;</th><th scope=col>&lt;dbl&gt;</th><th scope=col>&lt;int&gt;</th><th scope=col>&lt;dbl&gt;</th><th scope=col>&lt;int&gt;</th><th scope=col>&lt;int&gt;</th><th scope=col>&lt;int&gt;</th><th scope=col>&lt;int&gt;</th></tr>\n",
       "</thead>\n",
       "<tbody>\n",
       "\t<tr><td>RS_GCF_000328665.1</td><td>GCA_000328665.1</td><td>Archaea</td><td>Halobacteriota   </td><td>Methanosarcinia</td><td>Methanosarcinales </td><td>Methanosarcinaceae </td><td>Methanomethylovorans</td><td>Methanomethylovorans hollandica</td><td>/ebio/abt3_projects/databases_no-backup/DeepMAsED/version2/ref_genomes/GTDBr202/genomes_fasta/genbank/archaea/GCA_000328665.1/GCA_000328665.1_ASM32866v1_genomic.fna.gz </td><td>Train</td><td>99.84</td><td>0.33</td><td> 2</td><td>41.86704</td><td>2714013</td><td>2428904</td><td>2</td><td>1062</td></tr>\n",
       "\t<tr><td>RS_GCF_003149675.1</td><td>GCA_003149675.1</td><td>Archaea</td><td>Methanobacteriota</td><td>Methanobacteria</td><td>Methanobacteriales</td><td>Methanobacteriaceae</td><td>Methanosphaera      </td><td>Methanosphaera cuniculi        </td><td>/ebio/abt3_projects/databases_no-backup/DeepMAsED/version2/ref_genomes/GTDBr202/genomes_fasta/genbank/archaea/GCA_003149675.1/GCA_003149675.1_ASM314967v1_genomic.fna.gz</td><td>Train</td><td>96.00</td><td>0.00</td><td>48</td><td>28.08352</td><td>1881477</td><td>  86478</td><td>1</td><td>  39</td></tr>\n",
       "\t<tr><td>⋮</td><td>⋮</td><td>⋮</td><td>⋮</td><td>⋮</td><td>⋮</td><td>⋮</td><td>⋮</td><td>⋮</td><td>⋮</td><td>⋮</td><td>⋮</td><td>⋮</td><td>⋮</td><td>⋮</td><td>⋮</td><td>⋮</td><td>⋮</td><td>⋮</td></tr>\n",
       "\t<tr><td>RS_GCF_902859605.1</td><td>GCA_902859605.1</td><td>Bacteria</td><td>Proteobacteria</td><td>Gammaproteobacteria</td><td>Burkholderiales</td><td>Burkholderiaceae</td><td>Achromobacter</td><td>Achromobacter spanius</td><td>/ebio/abt3_projects/databases_no-backup/DeepMAsED/version2/ref_genomes/GTDBr202/genomes_fasta/genbank/bacteria/GCA_902859605.1/GCA_902859605.1_LMG_5911_genomic.fna.gz  </td><td>Novel-family</td><td>99.53</td><td>0.47</td><td>61</td><td>64.30309</td><td>6360923</td><td>280218</td><td>1</td><td>1283</td></tr>\n",
       "\t<tr><td>RS_GCF_903469595.1</td><td>GCA_903469595.1</td><td>Bacteria</td><td>Spirochaetota </td><td>Spirochaetia       </td><td>Treponematales </td><td>Treponemataceae </td><td>Treponema    </td><td>Treponema pallidum   </td><td>/ebio/abt3_projects/databases_no-backup/DeepMAsED/version2/ref_genomes/GTDBr202/genomes_fasta/genbank/bacteria/GCA_903469595.1/GCA_903469595.1_R3-SAL-007_genomic.fna.gz</td><td>Novel-family</td><td>99.57</td><td>0.36</td><td>64</td><td>52.75326</td><td>1131257</td><td> 44192</td><td>1</td><td>7787</td></tr>\n",
       "</tbody>\n",
       "</table>\n"
      ],
      "text/latex": [
       "A tidytable: 27000 × 19\n",
       "\\begin{tabular}{lllllllllllllllllll}\n",
       " accession & ncbi\\_genbank\\_assembly\\_accession & Domain & Phylum & Class & Order & Family & Genus & Species & fasta\\_file\\_path & dataset & checkm\\_completeness & checkm\\_contamination & contig\\_count & gc\\_percentage & genome\\_size & n50\\_contigs & ssu\\_count & X\\\\\n",
       " <chr> & <chr> & <chr> & <chr> & <chr> & <chr> & <chr> & <chr> & <chr> & <chr> & <chr> & <dbl> & <dbl> & <int> & <dbl> & <int> & <int> & <int> & <int>\\\\\n",
       "\\hline\n",
       "\t RS\\_GCF\\_000328665.1 & GCA\\_000328665.1 & Archaea & Halobacteriota    & Methanosarcinia & Methanosarcinales  & Methanosarcinaceae  & Methanomethylovorans & Methanomethylovorans hollandica & /ebio/abt3\\_projects/databases\\_no-backup/DeepMAsED/version2/ref\\_genomes/GTDBr202/genomes\\_fasta/genbank/archaea/GCA\\_000328665.1/GCA\\_000328665.1\\_ASM32866v1\\_genomic.fna.gz  & Train & 99.84 & 0.33 &  2 & 41.86704 & 2714013 & 2428904 & 2 & 1062\\\\\n",
       "\t RS\\_GCF\\_003149675.1 & GCA\\_003149675.1 & Archaea & Methanobacteriota & Methanobacteria & Methanobacteriales & Methanobacteriaceae & Methanosphaera       & Methanosphaera cuniculi         & /ebio/abt3\\_projects/databases\\_no-backup/DeepMAsED/version2/ref\\_genomes/GTDBr202/genomes\\_fasta/genbank/archaea/GCA\\_003149675.1/GCA\\_003149675.1\\_ASM314967v1\\_genomic.fna.gz & Train & 96.00 & 0.00 & 48 & 28.08352 & 1881477 &   86478 & 1 &   39\\\\\n",
       "\t ⋮ & ⋮ & ⋮ & ⋮ & ⋮ & ⋮ & ⋮ & ⋮ & ⋮ & ⋮ & ⋮ & ⋮ & ⋮ & ⋮ & ⋮ & ⋮ & ⋮ & ⋮ & ⋮\\\\\n",
       "\t RS\\_GCF\\_902859605.1 & GCA\\_902859605.1 & Bacteria & Proteobacteria & Gammaproteobacteria & Burkholderiales & Burkholderiaceae & Achromobacter & Achromobacter spanius & /ebio/abt3\\_projects/databases\\_no-backup/DeepMAsED/version2/ref\\_genomes/GTDBr202/genomes\\_fasta/genbank/bacteria/GCA\\_902859605.1/GCA\\_902859605.1\\_LMG\\_5911\\_genomic.fna.gz   & Novel-family & 99.53 & 0.47 & 61 & 64.30309 & 6360923 & 280218 & 1 & 1283\\\\\n",
       "\t RS\\_GCF\\_903469595.1 & GCA\\_903469595.1 & Bacteria & Spirochaetota  & Spirochaetia        & Treponematales  & Treponemataceae  & Treponema     & Treponema pallidum    & /ebio/abt3\\_projects/databases\\_no-backup/DeepMAsED/version2/ref\\_genomes/GTDBr202/genomes\\_fasta/genbank/bacteria/GCA\\_903469595.1/GCA\\_903469595.1\\_R3-SAL-007\\_genomic.fna.gz & Novel-family & 99.57 & 0.36 & 64 & 52.75326 & 1131257 &  44192 & 1 & 7787\\\\\n",
       "\\end{tabular}\n"
      ],
      "text/markdown": [
       "\n",
       "A tidytable: 27000 × 19\n",
       "\n",
       "| accession &lt;chr&gt; | ncbi_genbank_assembly_accession &lt;chr&gt; | Domain &lt;chr&gt; | Phylum &lt;chr&gt; | Class &lt;chr&gt; | Order &lt;chr&gt; | Family &lt;chr&gt; | Genus &lt;chr&gt; | Species &lt;chr&gt; | fasta_file_path &lt;chr&gt; | dataset &lt;chr&gt; | checkm_completeness &lt;dbl&gt; | checkm_contamination &lt;dbl&gt; | contig_count &lt;int&gt; | gc_percentage &lt;dbl&gt; | genome_size &lt;int&gt; | n50_contigs &lt;int&gt; | ssu_count &lt;int&gt; | X &lt;int&gt; |\n",
       "|---|---|---|---|---|---|---|---|---|---|---|---|---|---|---|---|---|---|---|\n",
       "| RS_GCF_000328665.1 | GCA_000328665.1 | Archaea | Halobacteriota    | Methanosarcinia | Methanosarcinales  | Methanosarcinaceae  | Methanomethylovorans | Methanomethylovorans hollandica | /ebio/abt3_projects/databases_no-backup/DeepMAsED/version2/ref_genomes/GTDBr202/genomes_fasta/genbank/archaea/GCA_000328665.1/GCA_000328665.1_ASM32866v1_genomic.fna.gz  | Train | 99.84 | 0.33 |  2 | 41.86704 | 2714013 | 2428904 | 2 | 1062 |\n",
       "| RS_GCF_003149675.1 | GCA_003149675.1 | Archaea | Methanobacteriota | Methanobacteria | Methanobacteriales | Methanobacteriaceae | Methanosphaera       | Methanosphaera cuniculi         | /ebio/abt3_projects/databases_no-backup/DeepMAsED/version2/ref_genomes/GTDBr202/genomes_fasta/genbank/archaea/GCA_003149675.1/GCA_003149675.1_ASM314967v1_genomic.fna.gz | Train | 96.00 | 0.00 | 48 | 28.08352 | 1881477 |   86478 | 1 |   39 |\n",
       "| ⋮ | ⋮ | ⋮ | ⋮ | ⋮ | ⋮ | ⋮ | ⋮ | ⋮ | ⋮ | ⋮ | ⋮ | ⋮ | ⋮ | ⋮ | ⋮ | ⋮ | ⋮ | ⋮ |\n",
       "| RS_GCF_902859605.1 | GCA_902859605.1 | Bacteria | Proteobacteria | Gammaproteobacteria | Burkholderiales | Burkholderiaceae | Achromobacter | Achromobacter spanius | /ebio/abt3_projects/databases_no-backup/DeepMAsED/version2/ref_genomes/GTDBr202/genomes_fasta/genbank/bacteria/GCA_902859605.1/GCA_902859605.1_LMG_5911_genomic.fna.gz   | Novel-family | 99.53 | 0.47 | 61 | 64.30309 | 6360923 | 280218 | 1 | 1283 |\n",
       "| RS_GCF_903469595.1 | GCA_903469595.1 | Bacteria | Spirochaetota  | Spirochaetia        | Treponematales  | Treponemataceae  | Treponema     | Treponema pallidum    | /ebio/abt3_projects/databases_no-backup/DeepMAsED/version2/ref_genomes/GTDBr202/genomes_fasta/genbank/bacteria/GCA_903469595.1/GCA_903469595.1_R3-SAL-007_genomic.fna.gz | Novel-family | 99.57 | 0.36 | 64 | 52.75326 | 1131257 |  44192 | 1 | 7787 |\n",
       "\n"
      ],
      "text/plain": [
       "      accession          ncbi_genbank_assembly_accession Domain  \n",
       "1     RS_GCF_000328665.1 GCA_000328665.1                 Archaea \n",
       "2     RS_GCF_003149675.1 GCA_003149675.1                 Archaea \n",
       "⋮     ⋮                  ⋮                               ⋮       \n",
       "26999 RS_GCF_902859605.1 GCA_902859605.1                 Bacteria\n",
       "27000 RS_GCF_903469595.1 GCA_903469595.1                 Bacteria\n",
       "      Phylum            Class               Order             \n",
       "1     Halobacteriota    Methanosarcinia     Methanosarcinales \n",
       "2     Methanobacteriota Methanobacteria     Methanobacteriales\n",
       "⋮     ⋮                 ⋮                   ⋮                 \n",
       "26999 Proteobacteria    Gammaproteobacteria Burkholderiales   \n",
       "27000 Spirochaetota     Spirochaetia        Treponematales    \n",
       "      Family              Genus                Species                        \n",
       "1     Methanosarcinaceae  Methanomethylovorans Methanomethylovorans hollandica\n",
       "2     Methanobacteriaceae Methanosphaera       Methanosphaera cuniculi        \n",
       "⋮     ⋮                   ⋮                    ⋮                              \n",
       "26999 Burkholderiaceae    Achromobacter        Achromobacter spanius          \n",
       "27000 Treponemataceae     Treponema            Treponema pallidum             \n",
       "      fasta_file_path                                                                                                                                                         \n",
       "1     /ebio/abt3_projects/databases_no-backup/DeepMAsED/version2/ref_genomes/GTDBr202/genomes_fasta/genbank/archaea/GCA_000328665.1/GCA_000328665.1_ASM32866v1_genomic.fna.gz \n",
       "2     /ebio/abt3_projects/databases_no-backup/DeepMAsED/version2/ref_genomes/GTDBr202/genomes_fasta/genbank/archaea/GCA_003149675.1/GCA_003149675.1_ASM314967v1_genomic.fna.gz\n",
       "⋮     ⋮                                                                                                                                                                       \n",
       "26999 /ebio/abt3_projects/databases_no-backup/DeepMAsED/version2/ref_genomes/GTDBr202/genomes_fasta/genbank/bacteria/GCA_902859605.1/GCA_902859605.1_LMG_5911_genomic.fna.gz  \n",
       "27000 /ebio/abt3_projects/databases_no-backup/DeepMAsED/version2/ref_genomes/GTDBr202/genomes_fasta/genbank/bacteria/GCA_903469595.1/GCA_903469595.1_R3-SAL-007_genomic.fna.gz\n",
       "      dataset      checkm_completeness checkm_contamination contig_count\n",
       "1     Train        99.84               0.33                  2          \n",
       "2     Train        96.00               0.00                 48          \n",
       "⋮     ⋮            ⋮                   ⋮                    ⋮           \n",
       "26999 Novel-family 99.53               0.47                 61          \n",
       "27000 Novel-family 99.57               0.36                 64          \n",
       "      gc_percentage genome_size n50_contigs ssu_count X   \n",
       "1     41.86704      2714013     2428904     2         1062\n",
       "2     28.08352      1881477       86478     1           39\n",
       "⋮     ⋮             ⋮           ⋮           ⋮         ⋮   \n",
       "26999 64.30309      6360923     280218      1         1283\n",
       "27000 52.75326      1131257      44192      1         7787"
      ]
     },
     "metadata": {},
     "output_type": "display_data"
    }
   ],
   "source": [
    "# subsampling\n",
    "n_genomes_final = 9000\n",
    "meta_dl_f = meta_dl %>%\n",
    "    filter.(!is.na(fasta_file_path)) %>%\n",
    "    inner_join.(meta_j %>% \n",
    "                    select.(accession, dataset, checkm_completeness, \n",
    "                            checkm_contamination, contig_count, \n",
    "                            gc_percentage, genome_size, n50_contigs,\n",
    "                            ssu_count), \n",
    "                c('accession')) %>%\n",
    "    mutate.(X = sample(1:length(accession), length(accession)),\n",
    "            .by=c(dataset)) %>%\n",
    "    filter.(X <= n_genomes_final)\n",
    "meta_dl_f"
   ]
  },
  {
   "cell_type": "code",
   "execution_count": 74,
   "id": "c8dfe4bd",
   "metadata": {
    "ExecuteTime": {
     "end_time": "2021-08-17T16:24:31.558804Z",
     "start_time": "2021-08-17T16:24:31.486Z"
    }
   },
   "outputs": [
    {
     "data": {
      "text/html": [
       "<table class=\"dataframe\">\n",
       "<caption>A tidytable: 3 × 2</caption>\n",
       "<thead>\n",
       "\t<tr><th scope=col>dataset</th><th scope=col>n</th></tr>\n",
       "\t<tr><th scope=col>&lt;chr&gt;</th><th scope=col>&lt;int&gt;</th></tr>\n",
       "</thead>\n",
       "<tbody>\n",
       "\t<tr><td>Train       </td><td>9000</td></tr>\n",
       "\t<tr><td>Test        </td><td>9000</td></tr>\n",
       "\t<tr><td>Novel-family</td><td>9000</td></tr>\n",
       "</tbody>\n",
       "</table>\n"
      ],
      "text/latex": [
       "A tidytable: 3 × 2\n",
       "\\begin{tabular}{ll}\n",
       " dataset & n\\\\\n",
       " <chr> & <int>\\\\\n",
       "\\hline\n",
       "\t Train        & 9000\\\\\n",
       "\t Test         & 9000\\\\\n",
       "\t Novel-family & 9000\\\\\n",
       "\\end{tabular}\n"
      ],
      "text/markdown": [
       "\n",
       "A tidytable: 3 × 2\n",
       "\n",
       "| dataset &lt;chr&gt; | n &lt;int&gt; |\n",
       "|---|---|\n",
       "| Train        | 9000 |\n",
       "| Test         | 9000 |\n",
       "| Novel-family | 9000 |\n",
       "\n"
      ],
      "text/plain": [
       "  dataset      n   \n",
       "1 Train        9000\n",
       "2 Test         9000\n",
       "3 Novel-family 9000"
      ]
     },
     "metadata": {},
     "output_type": "display_data"
    }
   ],
   "source": [
    "# summary\n",
    "meta_dl_f %>%\n",
    "    summarize.(n = n.(),\n",
    "               .by=c(dataset))"
   ]
  },
  {
   "cell_type": "markdown",
   "id": "6bf9aea6",
   "metadata": {},
   "source": [
    "## Checks"
   ]
  },
  {
   "cell_type": "code",
   "execution_count": 75,
   "id": "4fb1e477",
   "metadata": {
    "ExecuteTime": {
     "end_time": "2021-08-17T16:24:33.288201Z",
     "start_time": "2021-08-17T16:24:33.239Z"
    }
   },
   "outputs": [
    {
     "data": {
      "text/html": [
       "<table class=\"dataframe\">\n",
       "<caption>A tidytable: 0 × 19</caption>\n",
       "<thead>\n",
       "\t<tr><th scope=col>accession</th><th scope=col>ncbi_genbank_assembly_accession</th><th scope=col>Domain</th><th scope=col>Phylum</th><th scope=col>Class</th><th scope=col>Order</th><th scope=col>Family</th><th scope=col>Genus</th><th scope=col>Species</th><th scope=col>fasta_file_path</th><th scope=col>dataset</th><th scope=col>checkm_completeness</th><th scope=col>checkm_contamination</th><th scope=col>contig_count</th><th scope=col>gc_percentage</th><th scope=col>genome_size</th><th scope=col>n50_contigs</th><th scope=col>ssu_count</th><th scope=col>X</th></tr>\n",
       "\t<tr><th scope=col>&lt;chr&gt;</th><th scope=col>&lt;chr&gt;</th><th scope=col>&lt;chr&gt;</th><th scope=col>&lt;chr&gt;</th><th scope=col>&lt;chr&gt;</th><th scope=col>&lt;chr&gt;</th><th scope=col>&lt;chr&gt;</th><th scope=col>&lt;chr&gt;</th><th scope=col>&lt;chr&gt;</th><th scope=col>&lt;chr&gt;</th><th scope=col>&lt;chr&gt;</th><th scope=col>&lt;dbl&gt;</th><th scope=col>&lt;dbl&gt;</th><th scope=col>&lt;int&gt;</th><th scope=col>&lt;dbl&gt;</th><th scope=col>&lt;int&gt;</th><th scope=col>&lt;int&gt;</th><th scope=col>&lt;int&gt;</th><th scope=col>&lt;int&gt;</th></tr>\n",
       "</thead>\n",
       "<tbody>\n",
       "</tbody>\n",
       "</table>\n"
      ],
      "text/latex": [
       "A tidytable: 0 × 19\n",
       "\\begin{tabular}{lllllllllllllllllll}\n",
       " accession & ncbi\\_genbank\\_assembly\\_accession & Domain & Phylum & Class & Order & Family & Genus & Species & fasta\\_file\\_path & dataset & checkm\\_completeness & checkm\\_contamination & contig\\_count & gc\\_percentage & genome\\_size & n50\\_contigs & ssu\\_count & X\\\\\n",
       " <chr> & <chr> & <chr> & <chr> & <chr> & <chr> & <chr> & <chr> & <chr> & <chr> & <chr> & <dbl> & <dbl> & <int> & <dbl> & <int> & <int> & <int> & <int>\\\\\n",
       "\\hline\n",
       "\\end{tabular}\n"
      ],
      "text/markdown": [
       "\n",
       "A tidytable: 0 × 19\n",
       "\n",
       "| accession &lt;chr&gt; | ncbi_genbank_assembly_accession &lt;chr&gt; | Domain &lt;chr&gt; | Phylum &lt;chr&gt; | Class &lt;chr&gt; | Order &lt;chr&gt; | Family &lt;chr&gt; | Genus &lt;chr&gt; | Species &lt;chr&gt; | fasta_file_path &lt;chr&gt; | dataset &lt;chr&gt; | checkm_completeness &lt;dbl&gt; | checkm_contamination &lt;dbl&gt; | contig_count &lt;int&gt; | gc_percentage &lt;dbl&gt; | genome_size &lt;int&gt; | n50_contigs &lt;int&gt; | ssu_count &lt;int&gt; | X &lt;int&gt; |\n",
       "|---|---|---|---|---|---|---|---|---|---|---|---|---|---|---|---|---|---|---|\n",
       "\n"
      ],
      "text/plain": [
       "     accession ncbi_genbank_assembly_accession Domain Phylum Class Order Family\n",
       "     Genus Species fasta_file_path dataset checkm_completeness\n",
       "     checkm_contamination contig_count gc_percentage genome_size n50_contigs\n",
       "     ssu_count X"
      ]
     },
     "metadata": {},
     "output_type": "display_data"
    }
   ],
   "source": [
    "meta_dl_f %>% filter.(is.na(fasta_file_path))"
   ]
  },
  {
   "cell_type": "code",
   "execution_count": 76,
   "id": "d2d01a8e",
   "metadata": {
    "ExecuteTime": {
     "end_time": "2021-08-17T16:24:34.416449Z",
     "start_time": "2021-08-17T16:24:34.366Z"
    }
   },
   "outputs": [
    {
     "name": "stdout",
     "output_type": "stream",
     "text": [
      "intersect(x,y): 0 \n",
      "setdiff(x,y): 9000 \n",
      "setdiff(y,x): 9000 \n",
      "union(x,y): 18000 \n"
     ]
    }
   ],
   "source": [
    "# accidental overlap?\n",
    "overlap(meta_dl_f %>% filter.(dataset == 'Train') %>% .$accession,\n",
    "        meta_dl_f %>% filter.(dataset == 'Test') %>% .$accession)"
   ]
  },
  {
   "cell_type": "code",
   "execution_count": 77,
   "id": "4f19eec5",
   "metadata": {
    "ExecuteTime": {
     "end_time": "2021-08-17T16:24:35.185161Z",
     "start_time": "2021-08-17T16:24:35.142Z"
    }
   },
   "outputs": [
    {
     "name": "stdout",
     "output_type": "stream",
     "text": [
      "intersect(x,y): 0 \n",
      "setdiff(x,y): 9000 \n",
      "setdiff(y,x): 9000 \n",
      "union(x,y): 18000 \n"
     ]
    }
   ],
   "source": [
    "# accidental overlap?\n",
    "overlap(meta_dl_f %>% filter.(dataset == 'Train') %>% .$accession,\n",
    "        meta_dl_f %>% filter.(dataset == 'Novel-family') %>% .$accession)"
   ]
  },
  {
   "cell_type": "code",
   "execution_count": 78,
   "id": "813415e7",
   "metadata": {
    "ExecuteTime": {
     "end_time": "2021-08-17T16:24:35.398805Z",
     "start_time": "2021-08-17T16:24:35.354Z"
    }
   },
   "outputs": [
    {
     "name": "stdout",
     "output_type": "stream",
     "text": [
      "intersect(x,y): 0 \n",
      "setdiff(x,y): 186 \n",
      "setdiff(y,x): 226 \n",
      "union(x,y): 412 \n"
     ]
    }
   ],
   "source": [
    "# accidental overlap?\n",
    "overlap(meta_dl_f %>% filter.(dataset == 'Train') %>% .$Family,\n",
    "        meta_dl_f %>% filter.(dataset == 'Novel-family') %>% .$Family)"
   ]
  },
  {
   "cell_type": "code",
   "execution_count": 79,
   "id": "f88e6df6",
   "metadata": {
    "ExecuteTime": {
     "end_time": "2021-08-17T16:24:36.432343Z",
     "start_time": "2021-08-17T16:24:36.390Z"
    }
   },
   "outputs": [
    {
     "name": "stdout",
     "output_type": "stream",
     "text": [
      "intersect(x,y): 122 \n",
      "setdiff(x,y): 189 \n",
      "setdiff(y,x): 104 \n",
      "union(x,y): 415 \n"
     ]
    }
   ],
   "source": [
    "# accidental overlap?\n",
    "overlap(meta_dl_f %>% filter.(dataset == 'Test') %>% .$Family,\n",
    "        meta_dl_f %>% filter.(dataset == 'Novel-family') %>% .$Family)"
   ]
  },
  {
   "cell_type": "markdown",
   "id": "1636ac3d",
   "metadata": {},
   "source": [
    "## Stats"
   ]
  },
  {
   "cell_type": "code",
   "execution_count": 81,
   "id": "0aa42de9",
   "metadata": {
    "ExecuteTime": {
     "end_time": "2021-08-17T16:24:54.348916Z",
     "start_time": "2021-08-17T16:24:52.349Z"
    }
   },
   "outputs": [
    {
     "data": {
      "image/png": "[encoded data removed]",
      "text/plain": [
       "plot without title"
      ]
     },
     "metadata": {
      "image/png": {
       "height": 500,
       "width": 600
      }
     },
     "output_type": "display_data"
    }
   ],
   "source": [
    "# plotting\n",
    "p = meta_dl_f %>%\n",
    "    mutate.(dataset = factor(dataset, \n",
    "                             levels=c('Train', 'Test', 'Novel-family'))) %>%\n",
    "    select.(accession, dataset, \n",
    "            checkm_completeness, checkm_contamination,\n",
    "            contig_count, gc_percentage, genome_size, n50_contigs,\n",
    "            ssu_count) %>%\n",
    "    pivot_longer.(cols=c(-accession, -dataset)) %>%\n",
    "    mutate.(name = gsub('_', ' ', name)) %>%\n",
    "    ggplot(aes(dataset, value)) +\n",
    "    geom_boxplot() +\n",
    "    facet_wrap(~ name, scales='free_y') +\n",
    "    theme_bw() +\n",
    "    theme(\n",
    "        axis.text.x = element_text(angle=45, hjust=1)\n",
    "    )\n",
    "p.dims(6,5)\n",
    "plot(p)"
   ]
  },
  {
   "cell_type": "code",
   "execution_count": 82,
   "id": "0b9199c5",
   "metadata": {
    "ExecuteTime": {
     "end_time": "2021-08-17T16:25:40.598574Z",
     "start_time": "2021-08-17T16:25:40.197Z"
    }
   },
   "outputs": [
    {
     "data": {
      "image/png": "[encoded data removed]",
      "text/plain": [
       "plot without title"
      ]
     },
     "metadata": {
      "image/png": {
       "height": 300,
       "width": 400
      }
     },
     "output_type": "display_data"
    }
   ],
   "source": [
    "# taxonomy\n",
    "meta_dl_fs = meta_dl_f %>%\n",
    "    mutate.(total = n.(),\n",
    "            taxonomy = paste(Phylum, sep=';'),\n",
    "            .by=c(dataset)) %>%\n",
    "    summarize.(perc = n.() / first(total) * 100,\n",
    "               .by=c(dataset, taxonomy)) %>%\n",
    "    mutate.(taxonomy = ifelse(perc < 1, 'Other', taxonomy)) \n",
    "p = meta_dl_fs %>%\n",
    "    ggplot(aes(dataset, perc, fill=taxonomy)) +\n",
    "    geom_bar(stat='identity') +\n",
    "    scale_fill_discrete('Phylum') +\n",
    "    labs(y='% abundance') +\n",
    "    theme_bw() +\n",
    "    theme(\n",
    "        axis.text.x = element_text(angle=45, hjust=1)\n",
    "    )\n",
    "p.dims(4,3)\n",
    "plot(p)"
   ]
  },
  {
   "cell_type": "code",
   "execution_count": 86,
   "id": "9ffc889d",
   "metadata": {
    "ExecuteTime": {
     "end_time": "2021-08-17T16:25:59.567883Z",
     "start_time": "2021-08-17T16:25:59.132Z"
    }
   },
   "outputs": [
    {
     "data": {
      "image/png": "[encoded data removed]",
      "text/plain": [
       "plot without title"
      ]
     },
     "metadata": {
      "image/png": {
       "height": 300,
       "width": 500
      }
     },
     "output_type": "display_data"
    }
   ],
   "source": [
    "# taxonomy\n",
    "meta_dl_fs = meta_dl_f %>%\n",
    "    mutate.(total = n.(),\n",
    "            taxonomy = paste(Phylum, Class, sep=';'),\n",
    "            .by=c(dataset)) %>%\n",
    "    summarize.(perc = n.() / first(total) * 100,\n",
    "               .by=c(dataset, taxonomy)) %>%\n",
    "    mutate.(taxonomy = ifelse(perc < 1, 'Other', taxonomy)) \n",
    "p = meta_dl_fs %>%\n",
    "    ggplot(aes(dataset, perc, fill=taxonomy)) +\n",
    "    geom_bar(stat='identity') +\n",
    "    scale_fill_discrete('Phylum;Class') +\n",
    "    labs(y='% abundance') +\n",
    "    theme_bw() +\n",
    "    theme(\n",
    "        axis.text.x = element_text(angle=45, hjust=1)\n",
    "    )\n",
    "p.dims(5,3)\n",
    "plot(p)"
   ]
  },
  {
   "cell_type": "markdown",
   "id": "3ac37213",
   "metadata": {},
   "source": [
    "## Writing final tables"
   ]
  },
  {
   "cell_type": "code",
   "execution_count": 90,
   "id": "14f888e9",
   "metadata": {
    "ExecuteTime": {
     "end_time": "2021-08-17T16:27:46.194629Z",
     "start_time": "2021-08-17T16:27:46.131Z"
    }
   },
   "outputs": [
    {
     "name": "stdout",
     "output_type": "stream",
     "text": [
      "File written: /ebio/abt3_projects/databases_no-backup/DeepMAsED/version2/ref_genomes/GTDBr202//metadata_n9k-train.tsv \n"
     ]
    }
   ],
   "source": [
    "# train\n",
    "outF = file.path(work_dir, 'metadata_n9k-train.tsv')\n",
    "meta_dl_f %>%\n",
    "    filter.(dataset == 'Train') %>%\n",
    "    write_table(outF)"
   ]
  },
  {
   "cell_type": "code",
   "execution_count": 91,
   "id": "43e86fc9",
   "metadata": {
    "ExecuteTime": {
     "end_time": "2021-08-17T16:27:59.957640Z",
     "start_time": "2021-08-17T16:27:59.889Z"
    }
   },
   "outputs": [
    {
     "name": "stdout",
     "output_type": "stream",
     "text": [
      "File written: /ebio/abt3_projects/databases_no-backup/DeepMAsED/version2/ref_genomes/GTDBr202//metadata_n9k-test.tsv \n"
     ]
    }
   ],
   "source": [
    "# test\n",
    "outF = file.path(work_dir, 'metadata_n9k-test.tsv')\n",
    "meta_dl_f %>%\n",
    "    filter.(dataset == 'Test') %>%\n",
    "    write_table(outF)"
   ]
  },
  {
   "cell_type": "code",
   "execution_count": 92,
   "id": "70ce63cb",
   "metadata": {
    "ExecuteTime": {
     "end_time": "2021-08-17T16:28:16.432917Z",
     "start_time": "2021-08-17T16:28:16.368Z"
    }
   },
   "outputs": [
    {
     "name": "stdout",
     "output_type": "stream",
     "text": [
      "File written: /ebio/abt3_projects/databases_no-backup/DeepMAsED/version2/ref_genomes/GTDBr202//metadata_n9k-novel-family.tsv \n"
     ]
    }
   ],
   "source": [
    "# novel-family\n",
    "outF = file.path(work_dir, 'metadata_n9k-novel-family.tsv')\n",
    "meta_dl_f %>%\n",
    "    filter.(dataset == 'Novel-family') %>%\n",
    "    write_table(outF)"
   ]
  },
  {
   "cell_type": "markdown",
   "id": "a586f999",
   "metadata": {},
   "source": [
    "# sessionInfo"
   ]
  },
  {
   "cell_type": "code",
   "execution_count": 93,
   "id": "d78c4847",
   "metadata": {
    "ExecuteTime": {
     "end_time": "2021-08-17T16:28:22.285539Z",
     "start_time": "2021-08-17T16:28:22.182Z"
    }
   },
   "outputs": [
    {
     "data": {
      "text/plain": [
       "R version 4.1.0 (2021-05-18)\n",
       "Platform: x86_64-conda-linux-gnu (64-bit)\n",
       "Running under: Ubuntu 18.04.5 LTS\n",
       "\n",
       "Matrix products: default\n",
       "BLAS/LAPACK: /ebio/abt3_projects/Anxiety_Twins_Metagenomes/envs/tidyverse2/lib/libopenblasp-r0.3.12.so\n",
       "\n",
       "locale:\n",
       " [1] LC_CTYPE=en_US.UTF-8       LC_NUMERIC=C              \n",
       " [3] LC_TIME=en_US.UTF-8        LC_COLLATE=en_US.UTF-8    \n",
       " [5] LC_MONETARY=en_US.UTF-8    LC_MESSAGES=en_US.UTF-8   \n",
       " [7] LC_PAPER=en_US.UTF-8       LC_NAME=C                 \n",
       " [9] LC_ADDRESS=C               LC_TELEPHONE=C            \n",
       "[11] LC_MEASUREMENT=en_US.UTF-8 LC_IDENTIFICATION=C       \n",
       "\n",
       "attached base packages:\n",
       "[1] stats     graphics  grDevices utils     datasets  methods   base     \n",
       "\n",
       "other attached packages:\n",
       "[1] LeyLabRMisc_0.1.9 tidytable_0.6.3   data.table_1.14.0 ggplot2_3.3.5    \n",
       "[5] tidyr_1.1.3       dplyr_1.0.7      \n",
       "\n",
       "loaded via a namespace (and not attached):\n",
       " [1] pillar_1.6.1      compiler_4.1.0    base64enc_0.1-3   tools_4.1.0      \n",
       " [5] digest_0.6.27     uuid_0.1-4        jsonlite_1.7.2    evaluate_0.14    \n",
       " [9] lifecycle_1.0.0   tibble_3.1.2      gtable_0.3.0      pkgconfig_2.0.3  \n",
       "[13] rlang_0.4.11      IRdisplay_1.0     IRkernel_1.2      repr_1.1.3       \n",
       "[17] withr_2.4.2       generics_0.1.0    vctrs_0.3.8       grid_4.1.0       \n",
       "[21] tidyselect_1.1.1  glue_1.4.2        R6_2.5.0          fansi_0.4.2      \n",
       "[25] pbdZMQ_0.3-5      farver_2.1.0      purrr_0.3.4       magrittr_2.0.1   \n",
       "[29] scales_1.1.1      ellipsis_0.3.2    htmltools_0.5.1.1 colorspace_2.0-2 \n",
       "[33] labeling_0.4.2    utf8_1.2.1        munsell_0.5.0     crayon_1.4.1     "
      ]
     },
     "metadata": {},
     "output_type": "display_data"
    }
   ],
   "source": [
    "sessionInfo()"
   ]
  }
 ],
 "metadata": {
  "kernelspec": {
   "display_name": "R [conda env:Anxiety_Twins_Metagenomes-tidyverse2]",
   "language": "R",
   "name": "conda-env-Anxiety_Twins_Metagenomes-tidyverse2-r"
  },
  "language_info": {
   "codemirror_mode": "r",
   "file_extension": ".r",
   "mimetype": "text/x-r-source",
   "name": "R",
   "pygments_lexer": "r",
   "version": "4.1.0"
  },
  "notify_time": "30",
  "toc": {
   "base_numbering": 1,
   "nav_menu": {},
   "number_sections": true,
   "sideBar": true,
   "skip_h1_title": false,
   "title_cell": "Table of Contents",
   "title_sidebar": "Contents",
   "toc_cell": true,
   "toc_position": {},
   "toc_section_display": true,
   "toc_window_display": true
  }
 },
 "nbformat": 4,
 "nbformat_minor": 5
}
