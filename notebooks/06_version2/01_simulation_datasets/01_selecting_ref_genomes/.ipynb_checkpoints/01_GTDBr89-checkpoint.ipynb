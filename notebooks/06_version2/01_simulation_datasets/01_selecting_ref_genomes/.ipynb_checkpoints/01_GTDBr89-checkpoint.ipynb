{
 "cells": [
  {
   "cell_type": "markdown",
   "metadata": {
    "toc": true
   },
   "source": [
    "<h1>Table of Contents<span class=\"tocSkip\"></span></h1>\n",
    "<div class=\"toc\"><ul class=\"toc-item\"><li><span><a href=\"#Goal\" data-toc-modified-id=\"Goal-1\"><span class=\"toc-item-num\">1&nbsp;&nbsp;</span>Goal</a></span></li><li><span><a href=\"#Var\" data-toc-modified-id=\"Var-2\"><span class=\"toc-item-num\">2&nbsp;&nbsp;</span>Var</a></span></li><li><span><a href=\"#Init\" data-toc-modified-id=\"Init-3\"><span class=\"toc-item-num\">3&nbsp;&nbsp;</span>Init</a></span></li><li><span><a href=\"#Load\" data-toc-modified-id=\"Load-4\"><span class=\"toc-item-num\">4&nbsp;&nbsp;</span>Load</a></span><ul class=\"toc-item\"><li><span><a href=\"#Metadata\" data-toc-modified-id=\"Metadata-4.1\"><span class=\"toc-item-num\">4.1&nbsp;&nbsp;</span>Metadata</a></span></li></ul></li><li><span><a href=\"#checkM\" data-toc-modified-id=\"checkM-5\"><span class=\"toc-item-num\">5&nbsp;&nbsp;</span>checkM</a></span><ul class=\"toc-item\"><li><span><a href=\"#Filtering\" data-toc-modified-id=\"Filtering-5.1\"><span class=\"toc-item-num\">5.1&nbsp;&nbsp;</span>Filtering</a></span></li></ul></li><li><span><a href=\"#MiMAG-quality\" data-toc-modified-id=\"MiMAG-quality-6\"><span class=\"toc-item-num\">6&nbsp;&nbsp;</span>MiMAG quality</a></span><ul class=\"toc-item\"><li><span><a href=\"#Filtering\" data-toc-modified-id=\"Filtering-6.1\"><span class=\"toc-item-num\">6.1&nbsp;&nbsp;</span>Filtering</a></span></li></ul></li><li><span><a href=\"#ncbi_assembly_level\" data-toc-modified-id=\"ncbi_assembly_level-7\"><span class=\"toc-item-num\">7&nbsp;&nbsp;</span>ncbi_assembly_level</a></span><ul class=\"toc-item\"><li><span><a href=\"#Filtering\" data-toc-modified-id=\"Filtering-7.1\"><span class=\"toc-item-num\">7.1&nbsp;&nbsp;</span>Filtering</a></span></li></ul></li><li><span><a href=\"#ncbi_genome_category\" data-toc-modified-id=\"ncbi_genome_category-8\"><span class=\"toc-item-num\">8&nbsp;&nbsp;</span>ncbi_genome_category</a></span></li><li><span><a href=\"#ncbi_genbank_assembly_accession\" data-toc-modified-id=\"ncbi_genbank_assembly_accession-9\"><span class=\"toc-item-num\">9&nbsp;&nbsp;</span>ncbi_genbank_assembly_accession</a></span></li><li><span><a href=\"#Filtering-on-other-genome-stats\" data-toc-modified-id=\"Filtering-on-other-genome-stats-10\"><span class=\"toc-item-num\">10&nbsp;&nbsp;</span>Filtering on other genome stats</a></span></li><li><span><a href=\"#Taxonomy\" data-toc-modified-id=\"Taxonomy-11\"><span class=\"toc-item-num\">11&nbsp;&nbsp;</span>Taxonomy</a></span></li><li><span><a href=\"#Subsampling-to-X-per-species\" data-toc-modified-id=\"Subsampling-to-X-per-species-12\"><span class=\"toc-item-num\">12&nbsp;&nbsp;</span>Subsampling to X per species</a></span><ul class=\"toc-item\"><li><span><a href=\"#Writing-metadata\" data-toc-modified-id=\"Writing-metadata-12.1\"><span class=\"toc-item-num\">12.1&nbsp;&nbsp;</span>Writing metadata</a></span></li><li><span><a href=\"#Downloading-all-genomes\" data-toc-modified-id=\"Downloading-all-genomes-12.2\"><span class=\"toc-item-num\">12.2&nbsp;&nbsp;</span>Downloading all genomes</a></span></li><li><span><a href=\"#Reading-in-editing-metadata\" data-toc-modified-id=\"Reading-in-editing-metadata-12.3\"><span class=\"toc-item-num\">12.3&nbsp;&nbsp;</span>Reading in editing metadata</a></span></li></ul></li><li><span><a href=\"#Train/test-partition-methods\" data-toc-modified-id=\"Train/test-partition-methods-13\"><span class=\"toc-item-num\">13&nbsp;&nbsp;</span>Train/test partition methods</a></span><ul class=\"toc-item\"><li><span><a href=\"#Random\" data-toc-modified-id=\"Random-13.1\"><span class=\"toc-item-num\">13.1&nbsp;&nbsp;</span>Random</a></span><ul class=\"toc-item\"><li><span><a href=\"#Taxonomy-overlap\" data-toc-modified-id=\"Taxonomy-overlap-13.1.1\"><span class=\"toc-item-num\">13.1.1&nbsp;&nbsp;</span>Taxonomy overlap</a></span></li><li><span><a href=\"#Writing-tables\" data-toc-modified-id=\"Writing-tables-13.1.2\"><span class=\"toc-item-num\">13.1.2&nbsp;&nbsp;</span>Writing tables</a></span></li></ul></li><li><span><a href=\"#Block-by-species\" data-toc-modified-id=\"Block-by-species-13.2\"><span class=\"toc-item-num\">13.2&nbsp;&nbsp;</span>Block by species</a></span><ul class=\"toc-item\"><li><span><a href=\"#Taxonomy-overlap\" data-toc-modified-id=\"Taxonomy-overlap-13.2.1\"><span class=\"toc-item-num\">13.2.1&nbsp;&nbsp;</span>Taxonomy overlap</a></span></li><li><span><a href=\"#Writing-table\" data-toc-modified-id=\"Writing-table-13.2.2\"><span class=\"toc-item-num\">13.2.2&nbsp;&nbsp;</span>Writing table</a></span></li></ul></li><li><span><a href=\"#Block-by-genus\" data-toc-modified-id=\"Block-by-genus-13.3\"><span class=\"toc-item-num\">13.3&nbsp;&nbsp;</span>Block by genus</a></span><ul class=\"toc-item\"><li><span><a href=\"#Taxonomy-overlap\" data-toc-modified-id=\"Taxonomy-overlap-13.3.1\"><span class=\"toc-item-num\">13.3.1&nbsp;&nbsp;</span>Taxonomy overlap</a></span></li><li><span><a href=\"#Writing-table\" data-toc-modified-id=\"Writing-table-13.3.2\"><span class=\"toc-item-num\">13.3.2&nbsp;&nbsp;</span>Writing table</a></span></li></ul></li></ul></li><li><span><a href=\"#sessionInfo\" data-toc-modified-id=\"sessionInfo-14\"><span class=\"toc-item-num\">14&nbsp;&nbsp;</span>sessionInfo</a></span></li></ul></div>"
   ]
  },
  {
   "cell_type": "markdown",
   "metadata": {},
   "source": [
    "# Goal\n",
    "\n",
    "* Summarize the ref genomes available via GTDBr89"
   ]
  },
  {
   "cell_type": "markdown",
   "metadata": {},
   "source": [
    "# Var"
   ]
  },
  {
   "cell_type": "code",
   "execution_count": 1,
   "metadata": {
    "ExecuteTime": {
     "end_time": "2020-02-16T15:26:42.548407Z",
     "start_time": "2020-02-16T15:26:42.171Z"
    }
   },
   "outputs": [],
   "source": [
    "work_dir = '/ebio/abt3_projects/databases_no-backup/DeepMAsED/version2/ref_genomes/GTDBr89/'\n",
    "\n",
    "# GTDB base dir\n",
    "base_dir = '/ebio/abt3_projects/databases_no-backup/GTDB/release89/'\n",
    "\n",
    "# GTDB metadata\n",
    "bac_metadata_url = 'https://data.ace.uq.edu.au/public/gtdb/data/releases/release89/89.0/bac120_metadata_r89.tsv'\n",
    "arc_metadata_url = 'https://data.ace.uq.edu.au/public/gtdb/data/releases/release89/89.0/ar122_metadata_r89.tsv'\n"
   ]
  },
  {
   "cell_type": "markdown",
   "metadata": {},
   "source": [
    "# Init"
   ]
  },
  {
   "cell_type": "code",
   "execution_count": 3,
   "metadata": {
    "ExecuteTime": {
     "end_time": "2020-02-16T15:26:46.002033Z",
     "start_time": "2020-02-16T15:26:45.739Z"
    }
   },
   "outputs": [],
   "source": [
    "library(dplyr)\n",
    "library(tidyr)\n",
    "library(ggplot2)\n",
    "library(data.table)\n",
    "\n",
    "set.seed(8473)"
   ]
  },
  {
   "cell_type": "markdown",
   "metadata": {},
   "source": [
    "# Load"
   ]
  },
  {
   "cell_type": "markdown",
   "metadata": {},
   "source": [
    "## Metadata"
   ]
  },
  {
   "cell_type": "code",
   "execution_count": 4,
   "metadata": {
    "ExecuteTime": {
     "end_time": "2020-02-16T15:27:51.033045Z",
     "start_time": "2020-02-16T15:26:46.363Z"
    }
   },
   "outputs": [
    {
     "name": "stdout",
     "output_type": "stream",
     "text": [
      "[1] 145904\n"
     ]
    },
    {
     "data": {
      "text/html": [
       "<table>\n",
       "<thead><tr><th scope=col>accession</th><th scope=col>ambiguous_bases</th><th scope=col>checkm_completeness</th><th scope=col>checkm_contamination</th><th scope=col>checkm_marker_count</th><th scope=col>checkm_marker_lineage</th><th scope=col>checkm_marker_set_count</th><th scope=col>checkm_strain_heterogeneity</th><th scope=col>coding_bases</th><th scope=col>coding_density</th><th scope=col>⋯</th><th scope=col>ssu_silva_blast_align_len</th><th scope=col>ssu_silva_blast_bitscore</th><th scope=col>ssu_silva_blast_evalue</th><th scope=col>ssu_silva_blast_perc_identity</th><th scope=col>ssu_silva_blast_subject_id</th><th scope=col>ssu_silva_taxonomy</th><th scope=col>total_gap_length</th><th scope=col>trna_aa_count</th><th scope=col>trna_count</th><th scope=col>trna_selenocysteine_count</th></tr></thead>\n",
       "<tbody>\n",
       "\t<tr><td>RS_GCF_001999625.1                                                                                                                           </td><td>0                                                                                                                                            </td><td> 99.63                                                                                                                                       </td><td>0.01                                                                                                                                         </td><td> 475                                                                                                                                         </td><td>o__Lactobacillales (UID544)                                                                                                                  </td><td>267                                                                                                                                          </td><td>  0                                                                                                                                          </td><td>2653992                                                                                                                                      </td><td>88.13551                                                                                                                                     </td><td>⋯                                                                                                                                            </td><td>1557                                                                                                                                         </td><td>2876                                                                                                                                         </td><td>0                                                                                                                                            </td><td>100                                                                                                                                          </td><td>JMEC01000001.672967.674528                                                                                                                   </td><td>Bacteria;Firmicutes;Bacilli;Lactobacillales;Enterococcaceae;Enterococcus;Enterococcus faecalis                                               </td><td> 48                                                                                                                                          </td><td>20                                                                                                                                           </td><td>52                                                                                                                                           </td><td>0                                                                                                                                            </td></tr>\n",
       "\t<tr><td>RS_GCF_001658645.1                                                                                                                           </td><td>0                                                                                                                                            </td><td> 99.81                                                                                                                                       </td><td>0.34                                                                                                                                         </td><td> 773                                                                                                                                         </td><td>g__Staphylococcus (UID294)                                                                                                                   </td><td>178                                                                                                                                          </td><td> 50                                                                                                                                          </td><td>2247189                                                                                                                                      </td><td>83.91061                                                                                                                                     </td><td>⋯                                                                                                                                            </td><td>1548                                                                                                                                         </td><td>2859                                                                                                                                         </td><td>0                                                                                                                                            </td><td>100                                                                                                                                          </td><td>AKGJ01000009.189.1747                                                                                                                        </td><td>Bacteria;Firmicutes;Bacilli;Bacillales;Staphylococcaceae;Staphylococcus;Staphylococcus epidermidis NIHLM088                                  </td><td>  0                                                                                                                                          </td><td>19                                                                                                                                           </td><td>56                                                                                                                                           </td><td>0                                                                                                                                            </td></tr>\n",
       "\t<tr><td>RS_GCF_900117665.1                                                                                                                           </td><td>0                                                                                                                                            </td><td> 99.98                                                                                                                                       </td><td>0.61                                                                                                                                         </td><td>1193                                                                                                                                         </td><td>g__Acinetobacter (UID4685)                                                                                                                   </td><td>254                                                                                                                                          </td><td>  0                                                                                                                                          </td><td>3473552                                                                                                                                      </td><td>87.92841                                                                                                                                     </td><td>⋯                                                                                                                                            </td><td>1532                                                                                                                                         </td><td>2830                                                                                                                                         </td><td>0                                                                                                                                            </td><td>100                                                                                                                                          </td><td>JWTN01000118.3804.5347                                                                                                                       </td><td>Bacteria;Proteobacteria;Gammaproteobacteria;Pseudomonadales;Moraxellaceae;Acinetobacter;Acinetobacter baumannii                              </td><td>155                                                                                                                                          </td><td>20                                                                                                                                           </td><td>65                                                                                                                                           </td><td>0                                                                                                                                            </td></tr>\n",
       "\t<tr><td>RS_GCF_000652055.1                                                                                                                           </td><td>0                                                                                                                                            </td><td> 99.94                                                                                                                                       </td><td>0.26                                                                                                                                         </td><td> 693                                                                                                                                         </td><td>g__Mycobacterium (UID1816)                                                                                                                   </td><td>300                                                                                                                                          </td><td>100                                                                                                                                          </td><td>3971634                                                                                                                                      </td><td>90.32614                                                                                                                                     </td><td>⋯                                                                                                                                            </td><td>1529                                                                                                                                         </td><td>2824                                                                                                                                         </td><td>0                                                                                                                                            </td><td>100                                                                                                                                          </td><td>CP009449.1460249.1461791                                                                                                                     </td><td>Bacteria;Actinobacteria;Actinobacteria;Corynebacteriales;Mycobacteriaceae;Mycobacterium;Mycobacterium bovis                                  </td><td>100                                                                                                                                          </td><td>20                                                                                                                                           </td><td>45                                                                                                                                           </td><td>0                                                                                                                                            </td></tr>\n",
       "\t<tr><td>RS_GCF_003037025.1                                                                                                                           </td><td>0                                                                                                                                            </td><td> 99.70                                                                                                                                       </td><td>0.12                                                                                                                                         </td><td>1312                                                                                                                                         </td><td>g__Klebsiella (UID5140)                                                                                                                      </td><td>336                                                                                                                                          </td><td>  0                                                                                                                                          </td><td>4875582                                                                                                                                      </td><td>88.24827                                                                                                                                     </td><td>⋯                                                                                                                                            </td><td>1062                                                                                                                                         </td><td>1962                                                                                                                                         </td><td>0                                                                                                                                            </td><td>100                                                                                                                                          </td><td>AKAI01000093.277.1830                                                                                                                        </td><td>Bacteria;Proteobacteria;Gammaproteobacteria;Enterobacteriales;Enterobacteriaceae;Enterobacter;Klebsiella pneumoniae subsp. pneumoniae KPNIH18</td><td>  0                                                                                                                                          </td><td>19                                                                                                                                           </td><td>77                                                                                                                                           </td><td>1                                                                                                                                            </td></tr>\n",
       "\t<tr><td>RS_GCF_002138225.1                                                                                                                           </td><td>0                                                                                                                                            </td><td>100.00                                                                                                                                       </td><td>0.27                                                                                                                                         </td><td> 689                                                                                                                                         </td><td>f__Moraxellaceae (UID4680)                                                                                                                   </td><td>365                                                                                                                                          </td><td>  0                                                                                                                                          </td><td>3481404                                                                                                                                      </td><td>87.58417                                                                                                                                     </td><td>⋯                                                                                                                                            </td><td>1533                                                                                                                                         </td><td>2820                                                                                                                                         </td><td>0                                                                                                                                            </td><td>99.87                                                                                                                                        </td><td>CP002080.3939232.3940768                                                                                                                     </td><td>Bacteria;Proteobacteria;Gammaproteobacteria;Pseudomonadales;Moraxellaceae;Acinetobacter;Acinetobacter oleivorans DR1                         </td><td>  0                                                                                                                                          </td><td>20                                                                                                                                           </td><td>50                                                                                                                                           </td><td>0                                                                                                                                            </td></tr>\n",
       "</tbody>\n",
       "</table>\n"
      ],
      "text/latex": [
       "\\begin{tabular}{r|llllllllllllllllllllllllllllllllllllllllllllllllllllllllllllllllllllllllllllllllllllllllllllllllllllllllllllll}\n",
       " accession & ambiguous\\_bases & checkm\\_completeness & checkm\\_contamination & checkm\\_marker\\_count & checkm\\_marker\\_lineage & checkm\\_marker\\_set\\_count & checkm\\_strain\\_heterogeneity & coding\\_bases & coding\\_density & ⋯ & ssu\\_silva\\_blast\\_align\\_len & ssu\\_silva\\_blast\\_bitscore & ssu\\_silva\\_blast\\_evalue & ssu\\_silva\\_blast\\_perc\\_identity & ssu\\_silva\\_blast\\_subject\\_id & ssu\\_silva\\_taxonomy & total\\_gap\\_length & trna\\_aa\\_count & trna\\_count & trna\\_selenocysteine\\_count\\\\\n",
       "\\hline\n",
       "\t RS\\_GCF\\_001999625.1                                                                                                                        & 0                                                                                                                                             &  99.63                                                                                                                                        & 0.01                                                                                                                                          &  475                                                                                                                                          & o\\_\\_Lactobacillales (UID544)                                                                                                               & 267                                                                                                                                           &   0                                                                                                                                           & 2653992                                                                                                                                       & 88.13551                                                                                                                                      & ⋯                                                                                                                                             & 1557                                                                                                                                          & 2876                                                                                                                                          & 0                                                                                                                                             & 100                                                                                                                                           & JMEC01000001.672967.674528                                                                                                                    & Bacteria;Firmicutes;Bacilli;Lactobacillales;Enterococcaceae;Enterococcus;Enterococcus faecalis                                                &  48                                                                                                                                           & 20                                                                                                                                            & 52                                                                                                                                            & 0                                                                                                                                            \\\\\n",
       "\t RS\\_GCF\\_001658645.1                                                                                                                        & 0                                                                                                                                             &  99.81                                                                                                                                        & 0.34                                                                                                                                          &  773                                                                                                                                          & g\\_\\_Staphylococcus (UID294)                                                                                                                & 178                                                                                                                                           &  50                                                                                                                                           & 2247189                                                                                                                                       & 83.91061                                                                                                                                      & ⋯                                                                                                                                             & 1548                                                                                                                                          & 2859                                                                                                                                          & 0                                                                                                                                             & 100                                                                                                                                           & AKGJ01000009.189.1747                                                                                                                         & Bacteria;Firmicutes;Bacilli;Bacillales;Staphylococcaceae;Staphylococcus;Staphylococcus epidermidis NIHLM088                                   &   0                                                                                                                                           & 19                                                                                                                                            & 56                                                                                                                                            & 0                                                                                                                                            \\\\\n",
       "\t RS\\_GCF\\_900117665.1                                                                                                                        & 0                                                                                                                                             &  99.98                                                                                                                                        & 0.61                                                                                                                                          & 1193                                                                                                                                          & g\\_\\_Acinetobacter (UID4685)                                                                                                                & 254                                                                                                                                           &   0                                                                                                                                           & 3473552                                                                                                                                       & 87.92841                                                                                                                                      & ⋯                                                                                                                                             & 1532                                                                                                                                          & 2830                                                                                                                                          & 0                                                                                                                                             & 100                                                                                                                                           & JWTN01000118.3804.5347                                                                                                                        & Bacteria;Proteobacteria;Gammaproteobacteria;Pseudomonadales;Moraxellaceae;Acinetobacter;Acinetobacter baumannii                               & 155                                                                                                                                           & 20                                                                                                                                            & 65                                                                                                                                            & 0                                                                                                                                            \\\\\n",
       "\t RS\\_GCF\\_000652055.1                                                                                                                        & 0                                                                                                                                             &  99.94                                                                                                                                        & 0.26                                                                                                                                          &  693                                                                                                                                          & g\\_\\_Mycobacterium (UID1816)                                                                                                                & 300                                                                                                                                           & 100                                                                                                                                           & 3971634                                                                                                                                       & 90.32614                                                                                                                                      & ⋯                                                                                                                                             & 1529                                                                                                                                          & 2824                                                                                                                                          & 0                                                                                                                                             & 100                                                                                                                                           & CP009449.1460249.1461791                                                                                                                      & Bacteria;Actinobacteria;Actinobacteria;Corynebacteriales;Mycobacteriaceae;Mycobacterium;Mycobacterium bovis                                   & 100                                                                                                                                           & 20                                                                                                                                            & 45                                                                                                                                            & 0                                                                                                                                            \\\\\n",
       "\t RS\\_GCF\\_003037025.1                                                                                                                        & 0                                                                                                                                             &  99.70                                                                                                                                        & 0.12                                                                                                                                          & 1312                                                                                                                                          & g\\_\\_Klebsiella (UID5140)                                                                                                                   & 336                                                                                                                                           &   0                                                                                                                                           & 4875582                                                                                                                                       & 88.24827                                                                                                                                      & ⋯                                                                                                                                             & 1062                                                                                                                                          & 1962                                                                                                                                          & 0                                                                                                                                             & 100                                                                                                                                           & AKAI01000093.277.1830                                                                                                                         & Bacteria;Proteobacteria;Gammaproteobacteria;Enterobacteriales;Enterobacteriaceae;Enterobacter;Klebsiella pneumoniae subsp. pneumoniae KPNIH18 &   0                                                                                                                                           & 19                                                                                                                                            & 77                                                                                                                                            & 1                                                                                                                                            \\\\\n",
       "\t RS\\_GCF\\_002138225.1                                                                                                                        & 0                                                                                                                                             & 100.00                                                                                                                                        & 0.27                                                                                                                                          &  689                                                                                                                                          & f\\_\\_Moraxellaceae (UID4680)                                                                                                                & 365                                                                                                                                           &   0                                                                                                                                           & 3481404                                                                                                                                       & 87.58417                                                                                                                                      & ⋯                                                                                                                                             & 1533                                                                                                                                          & 2820                                                                                                                                          & 0                                                                                                                                             & 99.87                                                                                                                                         & CP002080.3939232.3940768                                                                                                                      & Bacteria;Proteobacteria;Gammaproteobacteria;Pseudomonadales;Moraxellaceae;Acinetobacter;Acinetobacter oleivorans DR1                          &   0                                                                                                                                           & 20                                                                                                                                            & 50                                                                                                                                            & 0                                                                                                                                            \\\\\n",
       "\\end{tabular}\n"
      ],
      "text/markdown": [
       "\n",
       "accession | ambiguous_bases | checkm_completeness | checkm_contamination | checkm_marker_count | checkm_marker_lineage | checkm_marker_set_count | checkm_strain_heterogeneity | coding_bases | coding_density | ⋯ | ssu_silva_blast_align_len | ssu_silva_blast_bitscore | ssu_silva_blast_evalue | ssu_silva_blast_perc_identity | ssu_silva_blast_subject_id | ssu_silva_taxonomy | total_gap_length | trna_aa_count | trna_count | trna_selenocysteine_count | \n",
       "|---|---|---|---|---|---|\n",
       "| RS_GCF_001999625.1                                                                                                                            | 0                                                                                                                                             |  99.63                                                                                                                                        | 0.01                                                                                                                                          |  475                                                                                                                                          | o__Lactobacillales (UID544)                                                                                                                   | 267                                                                                                                                           |   0                                                                                                                                           | 2653992                                                                                                                                       | 88.13551                                                                                                                                      | ⋯                                                                                                                                             | 1557                                                                                                                                          | 2876                                                                                                                                          | 0                                                                                                                                             | 100                                                                                                                                           | JMEC01000001.672967.674528                                                                                                                    | Bacteria;Firmicutes;Bacilli;Lactobacillales;Enterococcaceae;Enterococcus;Enterococcus faecalis                                                |  48                                                                                                                                           | 20                                                                                                                                            | 52                                                                                                                                            | 0                                                                                                                                             | \n",
       "| RS_GCF_001658645.1                                                                                                                            | 0                                                                                                                                             |  99.81                                                                                                                                        | 0.34                                                                                                                                          |  773                                                                                                                                          | g__Staphylococcus (UID294)                                                                                                                    | 178                                                                                                                                           |  50                                                                                                                                           | 2247189                                                                                                                                       | 83.91061                                                                                                                                      | ⋯                                                                                                                                             | 1548                                                                                                                                          | 2859                                                                                                                                          | 0                                                                                                                                             | 100                                                                                                                                           | AKGJ01000009.189.1747                                                                                                                         | Bacteria;Firmicutes;Bacilli;Bacillales;Staphylococcaceae;Staphylococcus;Staphylococcus epidermidis NIHLM088                                   |   0                                                                                                                                           | 19                                                                                                                                            | 56                                                                                                                                            | 0                                                                                                                                             | \n",
       "| RS_GCF_900117665.1                                                                                                                            | 0                                                                                                                                             |  99.98                                                                                                                                        | 0.61                                                                                                                                          | 1193                                                                                                                                          | g__Acinetobacter (UID4685)                                                                                                                    | 254                                                                                                                                           |   0                                                                                                                                           | 3473552                                                                                                                                       | 87.92841                                                                                                                                      | ⋯                                                                                                                                             | 1532                                                                                                                                          | 2830                                                                                                                                          | 0                                                                                                                                             | 100                                                                                                                                           | JWTN01000118.3804.5347                                                                                                                        | Bacteria;Proteobacteria;Gammaproteobacteria;Pseudomonadales;Moraxellaceae;Acinetobacter;Acinetobacter baumannii                               | 155                                                                                                                                           | 20                                                                                                                                            | 65                                                                                                                                            | 0                                                                                                                                             | \n",
       "| RS_GCF_000652055.1                                                                                                                            | 0                                                                                                                                             |  99.94                                                                                                                                        | 0.26                                                                                                                                          |  693                                                                                                                                          | g__Mycobacterium (UID1816)                                                                                                                    | 300                                                                                                                                           | 100                                                                                                                                           | 3971634                                                                                                                                       | 90.32614                                                                                                                                      | ⋯                                                                                                                                             | 1529                                                                                                                                          | 2824                                                                                                                                          | 0                                                                                                                                             | 100                                                                                                                                           | CP009449.1460249.1461791                                                                                                                      | Bacteria;Actinobacteria;Actinobacteria;Corynebacteriales;Mycobacteriaceae;Mycobacterium;Mycobacterium bovis                                   | 100                                                                                                                                           | 20                                                                                                                                            | 45                                                                                                                                            | 0                                                                                                                                             | \n",
       "| RS_GCF_003037025.1                                                                                                                            | 0                                                                                                                                             |  99.70                                                                                                                                        | 0.12                                                                                                                                          | 1312                                                                                                                                          | g__Klebsiella (UID5140)                                                                                                                       | 336                                                                                                                                           |   0                                                                                                                                           | 4875582                                                                                                                                       | 88.24827                                                                                                                                      | ⋯                                                                                                                                             | 1062                                                                                                                                          | 1962                                                                                                                                          | 0                                                                                                                                             | 100                                                                                                                                           | AKAI01000093.277.1830                                                                                                                         | Bacteria;Proteobacteria;Gammaproteobacteria;Enterobacteriales;Enterobacteriaceae;Enterobacter;Klebsiella pneumoniae subsp. pneumoniae KPNIH18 |   0                                                                                                                                           | 19                                                                                                                                            | 77                                                                                                                                            | 1                                                                                                                                             | \n",
       "| RS_GCF_002138225.1                                                                                                                            | 0                                                                                                                                             | 100.00                                                                                                                                        | 0.27                                                                                                                                          |  689                                                                                                                                          | f__Moraxellaceae (UID4680)                                                                                                                    | 365                                                                                                                                           |   0                                                                                                                                           | 3481404                                                                                                                                       | 87.58417                                                                                                                                      | ⋯                                                                                                                                             | 1533                                                                                                                                          | 2820                                                                                                                                          | 0                                                                                                                                             | 99.87                                                                                                                                         | CP002080.3939232.3940768                                                                                                                      | Bacteria;Proteobacteria;Gammaproteobacteria;Pseudomonadales;Moraxellaceae;Acinetobacter;Acinetobacter oleivorans DR1                          |   0                                                                                                                                           | 20                                                                                                                                            | 50                                                                                                                                            | 0                                                                                                                                             | \n",
       "\n",
       "\n"
      ],
      "text/plain": [
       "  accession          ambiguous_bases checkm_completeness checkm_contamination\n",
       "1 RS_GCF_001999625.1 0                99.63              0.01                \n",
       "2 RS_GCF_001658645.1 0                99.81              0.34                \n",
       "3 RS_GCF_900117665.1 0                99.98              0.61                \n",
       "4 RS_GCF_000652055.1 0                99.94              0.26                \n",
       "5 RS_GCF_003037025.1 0                99.70              0.12                \n",
       "6 RS_GCF_002138225.1 0               100.00              0.27                \n",
       "  checkm_marker_count checkm_marker_lineage       checkm_marker_set_count\n",
       "1  475                o__Lactobacillales (UID544) 267                    \n",
       "2  773                g__Staphylococcus (UID294)  178                    \n",
       "3 1193                g__Acinetobacter (UID4685)  254                    \n",
       "4  693                g__Mycobacterium (UID1816)  300                    \n",
       "5 1312                g__Klebsiella (UID5140)     336                    \n",
       "6  689                f__Moraxellaceae (UID4680)  365                    \n",
       "  checkm_strain_heterogeneity coding_bases coding_density ⋯\n",
       "1   0                         2653992      88.13551       ⋯\n",
       "2  50                         2247189      83.91061       ⋯\n",
       "3   0                         3473552      87.92841       ⋯\n",
       "4 100                         3971634      90.32614       ⋯\n",
       "5   0                         4875582      88.24827       ⋯\n",
       "6   0                         3481404      87.58417       ⋯\n",
       "  ssu_silva_blast_align_len ssu_silva_blast_bitscore ssu_silva_blast_evalue\n",
       "1 1557                      2876                     0                     \n",
       "2 1548                      2859                     0                     \n",
       "3 1532                      2830                     0                     \n",
       "4 1529                      2824                     0                     \n",
       "5 1062                      1962                     0                     \n",
       "6 1533                      2820                     0                     \n",
       "  ssu_silva_blast_perc_identity ssu_silva_blast_subject_id\n",
       "1 100                           JMEC01000001.672967.674528\n",
       "2 100                           AKGJ01000009.189.1747     \n",
       "3 100                           JWTN01000118.3804.5347    \n",
       "4 100                           CP009449.1460249.1461791  \n",
       "5 100                           AKAI01000093.277.1830     \n",
       "6 99.87                         CP002080.3939232.3940768  \n",
       "  ssu_silva_taxonomy                                                                                                                           \n",
       "1 Bacteria;Firmicutes;Bacilli;Lactobacillales;Enterococcaceae;Enterococcus;Enterococcus faecalis                                               \n",
       "2 Bacteria;Firmicutes;Bacilli;Bacillales;Staphylococcaceae;Staphylococcus;Staphylococcus epidermidis NIHLM088                                  \n",
       "3 Bacteria;Proteobacteria;Gammaproteobacteria;Pseudomonadales;Moraxellaceae;Acinetobacter;Acinetobacter baumannii                              \n",
       "4 Bacteria;Actinobacteria;Actinobacteria;Corynebacteriales;Mycobacteriaceae;Mycobacterium;Mycobacterium bovis                                  \n",
       "5 Bacteria;Proteobacteria;Gammaproteobacteria;Enterobacteriales;Enterobacteriaceae;Enterobacter;Klebsiella pneumoniae subsp. pneumoniae KPNIH18\n",
       "6 Bacteria;Proteobacteria;Gammaproteobacteria;Pseudomonadales;Moraxellaceae;Acinetobacter;Acinetobacter oleivorans DR1                         \n",
       "  total_gap_length trna_aa_count trna_count trna_selenocysteine_count\n",
       "1  48              20            52         0                        \n",
       "2   0              19            56         0                        \n",
       "3 155              20            65         0                        \n",
       "4 100              20            45         0                        \n",
       "5   0              19            77         1                        \n",
       "6   0              20            50         0                        "
      ]
     },
     "metadata": {},
     "output_type": "display_data"
    }
   ],
   "source": [
    "# reading in metadata\n",
    "metadata_urls = c(bac_metadata_url, arc_metadata_url)\n",
    "\n",
    "metadata = list()\n",
    "for(url in metadata_urls){\n",
    "    write(sprintf('Reading in file: %s', url), stderr())\n",
    "    metadata[[url]] = fread(url, sep='\\t', check.names=TRUE)\n",
    "}\n",
    "metadata = do.call(rbind, metadata)\n",
    "\n",
    "metadata %>% nrow %>% print\n",
    "metadata %>% head"
   ]
  },
  {
   "cell_type": "markdown",
   "metadata": {},
   "source": [
    "# checkM"
   ]
  },
  {
   "cell_type": "code",
   "execution_count": 5,
   "metadata": {
    "ExecuteTime": {
     "end_time": "2020-02-16T15:27:51.459983Z",
     "start_time": "2020-02-16T15:26:46.593Z"
    }
   },
   "outputs": [
    {
     "name": "stdout",
     "output_type": "stream",
     "text": [
      "   Min. 1st Qu.  Median    Mean 3rd Qu.    Max. \n",
      "  18.13   99.01   99.55   96.86   99.94  100.00 \n",
      "    Min.  1st Qu.   Median     Mean  3rd Qu.     Max. \n",
      "  0.0000   0.0400   0.2600   0.6447   0.7300 134.0600 \n"
     ]
    }
   ],
   "source": [
    "metadata$checkm_completeness %>% summary %>% print\n",
    "metadata$checkm_contamination %>% summary %>% print"
   ]
  },
  {
   "cell_type": "markdown",
   "metadata": {},
   "source": [
    "## Filtering"
   ]
  },
  {
   "cell_type": "code",
   "execution_count": 6,
   "metadata": {
    "ExecuteTime": {
     "end_time": "2020-02-16T15:27:53.957771Z",
     "start_time": "2020-02-16T15:26:46.914Z"
    }
   },
   "outputs": [
    {
     "name": "stdout",
     "output_type": "stream",
     "text": [
      "[1] 130245\n"
     ]
    },
    {
     "data": {
      "text/html": [
       "<table>\n",
       "<thead><tr><th scope=col>accession</th><th scope=col>ambiguous_bases</th><th scope=col>checkm_completeness</th><th scope=col>checkm_contamination</th><th scope=col>checkm_marker_count</th><th scope=col>checkm_marker_lineage</th><th scope=col>checkm_marker_set_count</th><th scope=col>checkm_strain_heterogeneity</th><th scope=col>coding_bases</th><th scope=col>coding_density</th><th scope=col>⋯</th><th scope=col>ssu_silva_blast_align_len</th><th scope=col>ssu_silva_blast_bitscore</th><th scope=col>ssu_silva_blast_evalue</th><th scope=col>ssu_silva_blast_perc_identity</th><th scope=col>ssu_silva_blast_subject_id</th><th scope=col>ssu_silva_taxonomy</th><th scope=col>total_gap_length</th><th scope=col>trna_aa_count</th><th scope=col>trna_count</th><th scope=col>trna_selenocysteine_count</th></tr></thead>\n",
       "<tbody>\n",
       "\t<tr><td>RS_GCF_001999625.1                                                                                                                           </td><td>0                                                                                                                                            </td><td> 99.63                                                                                                                                       </td><td>0.01                                                                                                                                         </td><td> 475                                                                                                                                         </td><td>o__Lactobacillales (UID544)                                                                                                                  </td><td>267                                                                                                                                          </td><td>  0                                                                                                                                          </td><td>2653992                                                                                                                                      </td><td>88.13551                                                                                                                                     </td><td>⋯                                                                                                                                            </td><td>1557                                                                                                                                         </td><td>2876                                                                                                                                         </td><td>0                                                                                                                                            </td><td>100                                                                                                                                          </td><td>JMEC01000001.672967.674528                                                                                                                   </td><td>Bacteria;Firmicutes;Bacilli;Lactobacillales;Enterococcaceae;Enterococcus;Enterococcus faecalis                                               </td><td> 48                                                                                                                                          </td><td>20                                                                                                                                           </td><td>52                                                                                                                                           </td><td>0                                                                                                                                            </td></tr>\n",
       "\t<tr><td>RS_GCF_001658645.1                                                                                                                           </td><td>0                                                                                                                                            </td><td> 99.81                                                                                                                                       </td><td>0.34                                                                                                                                         </td><td> 773                                                                                                                                         </td><td>g__Staphylococcus (UID294)                                                                                                                   </td><td>178                                                                                                                                          </td><td> 50                                                                                                                                          </td><td>2247189                                                                                                                                      </td><td>83.91061                                                                                                                                     </td><td>⋯                                                                                                                                            </td><td>1548                                                                                                                                         </td><td>2859                                                                                                                                         </td><td>0                                                                                                                                            </td><td>100                                                                                                                                          </td><td>AKGJ01000009.189.1747                                                                                                                        </td><td>Bacteria;Firmicutes;Bacilli;Bacillales;Staphylococcaceae;Staphylococcus;Staphylococcus epidermidis NIHLM088                                  </td><td>  0                                                                                                                                          </td><td>19                                                                                                                                           </td><td>56                                                                                                                                           </td><td>0                                                                                                                                            </td></tr>\n",
       "\t<tr><td>RS_GCF_900117665.1                                                                                                                           </td><td>0                                                                                                                                            </td><td> 99.98                                                                                                                                       </td><td>0.61                                                                                                                                         </td><td>1193                                                                                                                                         </td><td>g__Acinetobacter (UID4685)                                                                                                                   </td><td>254                                                                                                                                          </td><td>  0                                                                                                                                          </td><td>3473552                                                                                                                                      </td><td>87.92841                                                                                                                                     </td><td>⋯                                                                                                                                            </td><td>1532                                                                                                                                         </td><td>2830                                                                                                                                         </td><td>0                                                                                                                                            </td><td>100                                                                                                                                          </td><td>JWTN01000118.3804.5347                                                                                                                       </td><td>Bacteria;Proteobacteria;Gammaproteobacteria;Pseudomonadales;Moraxellaceae;Acinetobacter;Acinetobacter baumannii                              </td><td>155                                                                                                                                          </td><td>20                                                                                                                                           </td><td>65                                                                                                                                           </td><td>0                                                                                                                                            </td></tr>\n",
       "\t<tr><td>RS_GCF_000652055.1                                                                                                                           </td><td>0                                                                                                                                            </td><td> 99.94                                                                                                                                       </td><td>0.26                                                                                                                                         </td><td> 693                                                                                                                                         </td><td>g__Mycobacterium (UID1816)                                                                                                                   </td><td>300                                                                                                                                          </td><td>100                                                                                                                                          </td><td>3971634                                                                                                                                      </td><td>90.32614                                                                                                                                     </td><td>⋯                                                                                                                                            </td><td>1529                                                                                                                                         </td><td>2824                                                                                                                                         </td><td>0                                                                                                                                            </td><td>100                                                                                                                                          </td><td>CP009449.1460249.1461791                                                                                                                     </td><td>Bacteria;Actinobacteria;Actinobacteria;Corynebacteriales;Mycobacteriaceae;Mycobacterium;Mycobacterium bovis                                  </td><td>100                                                                                                                                          </td><td>20                                                                                                                                           </td><td>45                                                                                                                                           </td><td>0                                                                                                                                            </td></tr>\n",
       "\t<tr><td>RS_GCF_003037025.1                                                                                                                           </td><td>0                                                                                                                                            </td><td> 99.70                                                                                                                                       </td><td>0.12                                                                                                                                         </td><td>1312                                                                                                                                         </td><td>g__Klebsiella (UID5140)                                                                                                                      </td><td>336                                                                                                                                          </td><td>  0                                                                                                                                          </td><td>4875582                                                                                                                                      </td><td>88.24827                                                                                                                                     </td><td>⋯                                                                                                                                            </td><td>1062                                                                                                                                         </td><td>1962                                                                                                                                         </td><td>0                                                                                                                                            </td><td>100                                                                                                                                          </td><td>AKAI01000093.277.1830                                                                                                                        </td><td>Bacteria;Proteobacteria;Gammaproteobacteria;Enterobacteriales;Enterobacteriaceae;Enterobacter;Klebsiella pneumoniae subsp. pneumoniae KPNIH18</td><td>  0                                                                                                                                          </td><td>19                                                                                                                                           </td><td>77                                                                                                                                           </td><td>1                                                                                                                                            </td></tr>\n",
       "\t<tr><td>RS_GCF_002138225.1                                                                                                                           </td><td>0                                                                                                                                            </td><td>100.00                                                                                                                                       </td><td>0.27                                                                                                                                         </td><td> 689                                                                                                                                         </td><td>f__Moraxellaceae (UID4680)                                                                                                                   </td><td>365                                                                                                                                          </td><td>  0                                                                                                                                          </td><td>3481404                                                                                                                                      </td><td>87.58417                                                                                                                                     </td><td>⋯                                                                                                                                            </td><td>1533                                                                                                                                         </td><td>2820                                                                                                                                         </td><td>0                                                                                                                                            </td><td>99.87                                                                                                                                        </td><td>CP002080.3939232.3940768                                                                                                                     </td><td>Bacteria;Proteobacteria;Gammaproteobacteria;Pseudomonadales;Moraxellaceae;Acinetobacter;Acinetobacter oleivorans DR1                         </td><td>  0                                                                                                                                          </td><td>20                                                                                                                                           </td><td>50                                                                                                                                           </td><td>0                                                                                                                                            </td></tr>\n",
       "</tbody>\n",
       "</table>\n"
      ],
      "text/latex": [
       "\\begin{tabular}{r|llllllllllllllllllllllllllllllllllllllllllllllllllllllllllllllllllllllllllllllllllllllllllllllllllllllllllllll}\n",
       " accession & ambiguous\\_bases & checkm\\_completeness & checkm\\_contamination & checkm\\_marker\\_count & checkm\\_marker\\_lineage & checkm\\_marker\\_set\\_count & checkm\\_strain\\_heterogeneity & coding\\_bases & coding\\_density & ⋯ & ssu\\_silva\\_blast\\_align\\_len & ssu\\_silva\\_blast\\_bitscore & ssu\\_silva\\_blast\\_evalue & ssu\\_silva\\_blast\\_perc\\_identity & ssu\\_silva\\_blast\\_subject\\_id & ssu\\_silva\\_taxonomy & total\\_gap\\_length & trna\\_aa\\_count & trna\\_count & trna\\_selenocysteine\\_count\\\\\n",
       "\\hline\n",
       "\t RS\\_GCF\\_001999625.1                                                                                                                        & 0                                                                                                                                             &  99.63                                                                                                                                        & 0.01                                                                                                                                          &  475                                                                                                                                          & o\\_\\_Lactobacillales (UID544)                                                                                                               & 267                                                                                                                                           &   0                                                                                                                                           & 2653992                                                                                                                                       & 88.13551                                                                                                                                      & ⋯                                                                                                                                             & 1557                                                                                                                                          & 2876                                                                                                                                          & 0                                                                                                                                             & 100                                                                                                                                           & JMEC01000001.672967.674528                                                                                                                    & Bacteria;Firmicutes;Bacilli;Lactobacillales;Enterococcaceae;Enterococcus;Enterococcus faecalis                                                &  48                                                                                                                                           & 20                                                                                                                                            & 52                                                                                                                                            & 0                                                                                                                                            \\\\\n",
       "\t RS\\_GCF\\_001658645.1                                                                                                                        & 0                                                                                                                                             &  99.81                                                                                                                                        & 0.34                                                                                                                                          &  773                                                                                                                                          & g\\_\\_Staphylococcus (UID294)                                                                                                                & 178                                                                                                                                           &  50                                                                                                                                           & 2247189                                                                                                                                       & 83.91061                                                                                                                                      & ⋯                                                                                                                                             & 1548                                                                                                                                          & 2859                                                                                                                                          & 0                                                                                                                                             & 100                                                                                                                                           & AKGJ01000009.189.1747                                                                                                                         & Bacteria;Firmicutes;Bacilli;Bacillales;Staphylococcaceae;Staphylococcus;Staphylococcus epidermidis NIHLM088                                   &   0                                                                                                                                           & 19                                                                                                                                            & 56                                                                                                                                            & 0                                                                                                                                            \\\\\n",
       "\t RS\\_GCF\\_900117665.1                                                                                                                        & 0                                                                                                                                             &  99.98                                                                                                                                        & 0.61                                                                                                                                          & 1193                                                                                                                                          & g\\_\\_Acinetobacter (UID4685)                                                                                                                & 254                                                                                                                                           &   0                                                                                                                                           & 3473552                                                                                                                                       & 87.92841                                                                                                                                      & ⋯                                                                                                                                             & 1532                                                                                                                                          & 2830                                                                                                                                          & 0                                                                                                                                             & 100                                                                                                                                           & JWTN01000118.3804.5347                                                                                                                        & Bacteria;Proteobacteria;Gammaproteobacteria;Pseudomonadales;Moraxellaceae;Acinetobacter;Acinetobacter baumannii                               & 155                                                                                                                                           & 20                                                                                                                                            & 65                                                                                                                                            & 0                                                                                                                                            \\\\\n",
       "\t RS\\_GCF\\_000652055.1                                                                                                                        & 0                                                                                                                                             &  99.94                                                                                                                                        & 0.26                                                                                                                                          &  693                                                                                                                                          & g\\_\\_Mycobacterium (UID1816)                                                                                                                & 300                                                                                                                                           & 100                                                                                                                                           & 3971634                                                                                                                                       & 90.32614                                                                                                                                      & ⋯                                                                                                                                             & 1529                                                                                                                                          & 2824                                                                                                                                          & 0                                                                                                                                             & 100                                                                                                                                           & CP009449.1460249.1461791                                                                                                                      & Bacteria;Actinobacteria;Actinobacteria;Corynebacteriales;Mycobacteriaceae;Mycobacterium;Mycobacterium bovis                                   & 100                                                                                                                                           & 20                                                                                                                                            & 45                                                                                                                                            & 0                                                                                                                                            \\\\\n",
       "\t RS\\_GCF\\_003037025.1                                                                                                                        & 0                                                                                                                                             &  99.70                                                                                                                                        & 0.12                                                                                                                                          & 1312                                                                                                                                          & g\\_\\_Klebsiella (UID5140)                                                                                                                   & 336                                                                                                                                           &   0                                                                                                                                           & 4875582                                                                                                                                       & 88.24827                                                                                                                                      & ⋯                                                                                                                                             & 1062                                                                                                                                          & 1962                                                                                                                                          & 0                                                                                                                                             & 100                                                                                                                                           & AKAI01000093.277.1830                                                                                                                         & Bacteria;Proteobacteria;Gammaproteobacteria;Enterobacteriales;Enterobacteriaceae;Enterobacter;Klebsiella pneumoniae subsp. pneumoniae KPNIH18 &   0                                                                                                                                           & 19                                                                                                                                            & 77                                                                                                                                            & 1                                                                                                                                            \\\\\n",
       "\t RS\\_GCF\\_002138225.1                                                                                                                        & 0                                                                                                                                             & 100.00                                                                                                                                        & 0.27                                                                                                                                          &  689                                                                                                                                          & f\\_\\_Moraxellaceae (UID4680)                                                                                                                & 365                                                                                                                                           &   0                                                                                                                                           & 3481404                                                                                                                                       & 87.58417                                                                                                                                      & ⋯                                                                                                                                             & 1533                                                                                                                                          & 2820                                                                                                                                          & 0                                                                                                                                             & 99.87                                                                                                                                         & CP002080.3939232.3940768                                                                                                                      & Bacteria;Proteobacteria;Gammaproteobacteria;Pseudomonadales;Moraxellaceae;Acinetobacter;Acinetobacter oleivorans DR1                          &   0                                                                                                                                           & 20                                                                                                                                            & 50                                                                                                                                            & 0                                                                                                                                            \\\\\n",
       "\\end{tabular}\n"
      ],
      "text/markdown": [
       "\n",
       "accession | ambiguous_bases | checkm_completeness | checkm_contamination | checkm_marker_count | checkm_marker_lineage | checkm_marker_set_count | checkm_strain_heterogeneity | coding_bases | coding_density | ⋯ | ssu_silva_blast_align_len | ssu_silva_blast_bitscore | ssu_silva_blast_evalue | ssu_silva_blast_perc_identity | ssu_silva_blast_subject_id | ssu_silva_taxonomy | total_gap_length | trna_aa_count | trna_count | trna_selenocysteine_count | \n",
       "|---|---|---|---|---|---|\n",
       "| RS_GCF_001999625.1                                                                                                                            | 0                                                                                                                                             |  99.63                                                                                                                                        | 0.01                                                                                                                                          |  475                                                                                                                                          | o__Lactobacillales (UID544)                                                                                                                   | 267                                                                                                                                           |   0                                                                                                                                           | 2653992                                                                                                                                       | 88.13551                                                                                                                                      | ⋯                                                                                                                                             | 1557                                                                                                                                          | 2876                                                                                                                                          | 0                                                                                                                                             | 100                                                                                                                                           | JMEC01000001.672967.674528                                                                                                                    | Bacteria;Firmicutes;Bacilli;Lactobacillales;Enterococcaceae;Enterococcus;Enterococcus faecalis                                                |  48                                                                                                                                           | 20                                                                                                                                            | 52                                                                                                                                            | 0                                                                                                                                             | \n",
       "| RS_GCF_001658645.1                                                                                                                            | 0                                                                                                                                             |  99.81                                                                                                                                        | 0.34                                                                                                                                          |  773                                                                                                                                          | g__Staphylococcus (UID294)                                                                                                                    | 178                                                                                                                                           |  50                                                                                                                                           | 2247189                                                                                                                                       | 83.91061                                                                                                                                      | ⋯                                                                                                                                             | 1548                                                                                                                                          | 2859                                                                                                                                          | 0                                                                                                                                             | 100                                                                                                                                           | AKGJ01000009.189.1747                                                                                                                         | Bacteria;Firmicutes;Bacilli;Bacillales;Staphylococcaceae;Staphylococcus;Staphylococcus epidermidis NIHLM088                                   |   0                                                                                                                                           | 19                                                                                                                                            | 56                                                                                                                                            | 0                                                                                                                                             | \n",
       "| RS_GCF_900117665.1                                                                                                                            | 0                                                                                                                                             |  99.98                                                                                                                                        | 0.61                                                                                                                                          | 1193                                                                                                                                          | g__Acinetobacter (UID4685)                                                                                                                    | 254                                                                                                                                           |   0                                                                                                                                           | 3473552                                                                                                                                       | 87.92841                                                                                                                                      | ⋯                                                                                                                                             | 1532                                                                                                                                          | 2830                                                                                                                                          | 0                                                                                                                                             | 100                                                                                                                                           | JWTN01000118.3804.5347                                                                                                                        | Bacteria;Proteobacteria;Gammaproteobacteria;Pseudomonadales;Moraxellaceae;Acinetobacter;Acinetobacter baumannii                               | 155                                                                                                                                           | 20                                                                                                                                            | 65                                                                                                                                            | 0                                                                                                                                             | \n",
       "| RS_GCF_000652055.1                                                                                                                            | 0                                                                                                                                             |  99.94                                                                                                                                        | 0.26                                                                                                                                          |  693                                                                                                                                          | g__Mycobacterium (UID1816)                                                                                                                    | 300                                                                                                                                           | 100                                                                                                                                           | 3971634                                                                                                                                       | 90.32614                                                                                                                                      | ⋯                                                                                                                                             | 1529                                                                                                                                          | 2824                                                                                                                                          | 0                                                                                                                                             | 100                                                                                                                                           | CP009449.1460249.1461791                                                                                                                      | Bacteria;Actinobacteria;Actinobacteria;Corynebacteriales;Mycobacteriaceae;Mycobacterium;Mycobacterium bovis                                   | 100                                                                                                                                           | 20                                                                                                                                            | 45                                                                                                                                            | 0                                                                                                                                             | \n",
       "| RS_GCF_003037025.1                                                                                                                            | 0                                                                                                                                             |  99.70                                                                                                                                        | 0.12                                                                                                                                          | 1312                                                                                                                                          | g__Klebsiella (UID5140)                                                                                                                       | 336                                                                                                                                           |   0                                                                                                                                           | 4875582                                                                                                                                       | 88.24827                                                                                                                                      | ⋯                                                                                                                                             | 1062                                                                                                                                          | 1962                                                                                                                                          | 0                                                                                                                                             | 100                                                                                                                                           | AKAI01000093.277.1830                                                                                                                         | Bacteria;Proteobacteria;Gammaproteobacteria;Enterobacteriales;Enterobacteriaceae;Enterobacter;Klebsiella pneumoniae subsp. pneumoniae KPNIH18 |   0                                                                                                                                           | 19                                                                                                                                            | 77                                                                                                                                            | 1                                                                                                                                             | \n",
       "| RS_GCF_002138225.1                                                                                                                            | 0                                                                                                                                             | 100.00                                                                                                                                        | 0.27                                                                                                                                          |  689                                                                                                                                          | f__Moraxellaceae (UID4680)                                                                                                                    | 365                                                                                                                                           |   0                                                                                                                                           | 3481404                                                                                                                                       | 87.58417                                                                                                                                      | ⋯                                                                                                                                             | 1533                                                                                                                                          | 2820                                                                                                                                          | 0                                                                                                                                             | 99.87                                                                                                                                         | CP002080.3939232.3940768                                                                                                                      | Bacteria;Proteobacteria;Gammaproteobacteria;Pseudomonadales;Moraxellaceae;Acinetobacter;Acinetobacter oleivorans DR1                          |   0                                                                                                                                           | 20                                                                                                                                            | 50                                                                                                                                            | 0                                                                                                                                             | \n",
       "\n",
       "\n"
      ],
      "text/plain": [
       "  accession          ambiguous_bases checkm_completeness checkm_contamination\n",
       "1 RS_GCF_001999625.1 0                99.63              0.01                \n",
       "2 RS_GCF_001658645.1 0                99.81              0.34                \n",
       "3 RS_GCF_900117665.1 0                99.98              0.61                \n",
       "4 RS_GCF_000652055.1 0                99.94              0.26                \n",
       "5 RS_GCF_003037025.1 0                99.70              0.12                \n",
       "6 RS_GCF_002138225.1 0               100.00              0.27                \n",
       "  checkm_marker_count checkm_marker_lineage       checkm_marker_set_count\n",
       "1  475                o__Lactobacillales (UID544) 267                    \n",
       "2  773                g__Staphylococcus (UID294)  178                    \n",
       "3 1193                g__Acinetobacter (UID4685)  254                    \n",
       "4  693                g__Mycobacterium (UID1816)  300                    \n",
       "5 1312                g__Klebsiella (UID5140)     336                    \n",
       "6  689                f__Moraxellaceae (UID4680)  365                    \n",
       "  checkm_strain_heterogeneity coding_bases coding_density ⋯\n",
       "1   0                         2653992      88.13551       ⋯\n",
       "2  50                         2247189      83.91061       ⋯\n",
       "3   0                         3473552      87.92841       ⋯\n",
       "4 100                         3971634      90.32614       ⋯\n",
       "5   0                         4875582      88.24827       ⋯\n",
       "6   0                         3481404      87.58417       ⋯\n",
       "  ssu_silva_blast_align_len ssu_silva_blast_bitscore ssu_silva_blast_evalue\n",
       "1 1557                      2876                     0                     \n",
       "2 1548                      2859                     0                     \n",
       "3 1532                      2830                     0                     \n",
       "4 1529                      2824                     0                     \n",
       "5 1062                      1962                     0                     \n",
       "6 1533                      2820                     0                     \n",
       "  ssu_silva_blast_perc_identity ssu_silva_blast_subject_id\n",
       "1 100                           JMEC01000001.672967.674528\n",
       "2 100                           AKGJ01000009.189.1747     \n",
       "3 100                           JWTN01000118.3804.5347    \n",
       "4 100                           CP009449.1460249.1461791  \n",
       "5 100                           AKAI01000093.277.1830     \n",
       "6 99.87                         CP002080.3939232.3940768  \n",
       "  ssu_silva_taxonomy                                                                                                                           \n",
       "1 Bacteria;Firmicutes;Bacilli;Lactobacillales;Enterococcaceae;Enterococcus;Enterococcus faecalis                                               \n",
       "2 Bacteria;Firmicutes;Bacilli;Bacillales;Staphylococcaceae;Staphylococcus;Staphylococcus epidermidis NIHLM088                                  \n",
       "3 Bacteria;Proteobacteria;Gammaproteobacteria;Pseudomonadales;Moraxellaceae;Acinetobacter;Acinetobacter baumannii                              \n",
       "4 Bacteria;Actinobacteria;Actinobacteria;Corynebacteriales;Mycobacteriaceae;Mycobacterium;Mycobacterium bovis                                  \n",
       "5 Bacteria;Proteobacteria;Gammaproteobacteria;Enterobacteriales;Enterobacteriaceae;Enterobacter;Klebsiella pneumoniae subsp. pneumoniae KPNIH18\n",
       "6 Bacteria;Proteobacteria;Gammaproteobacteria;Pseudomonadales;Moraxellaceae;Acinetobacter;Acinetobacter oleivorans DR1                         \n",
       "  total_gap_length trna_aa_count trna_count trna_selenocysteine_count\n",
       "1  48              20            52         0                        \n",
       "2   0              19            56         0                        \n",
       "3 155              20            65         0                        \n",
       "4 100              20            45         0                        \n",
       "5   0              19            77         1                        \n",
       "6   0              20            50         0                        "
      ]
     },
     "metadata": {},
     "output_type": "display_data"
    }
   ],
   "source": [
    "metadata_f = metadata %>%\n",
    "    filter(checkm_completeness >= 90,\n",
    "           checkm_contamination < 5)\n",
    "\n",
    "metadata_f %>% nrow %>% print\n",
    "metadata_f %>% head"
   ]
  },
  {
   "cell_type": "code",
   "execution_count": 7,
   "metadata": {
    "ExecuteTime": {
     "end_time": "2020-02-16T15:27:54.033897Z",
     "start_time": "2020-02-16T15:26:47.066Z"
    }
   },
   "outputs": [
    {
     "name": "stdout",
     "output_type": "stream",
     "text": [
      "   Min. 1st Qu.  Median    Mean 3rd Qu.    Max. \n",
      "  90.00   99.35   99.62   99.24   99.97  100.00 \n",
      "   Min. 1st Qu.  Median    Mean 3rd Qu.    Max. \n",
      " 0.0000  0.0400  0.2200  0.4989  0.6400  4.9900 \n"
     ]
    }
   ],
   "source": [
    "metadata_f$checkm_completeness %>% summary %>% print\n",
    "metadata_f$checkm_contamination %>% summary %>% print"
   ]
  },
  {
   "cell_type": "markdown",
   "metadata": {},
   "source": [
    "# MiMAG quality"
   ]
  },
  {
   "cell_type": "code",
   "execution_count": 8,
   "metadata": {
    "ExecuteTime": {
     "end_time": "2020-02-16T15:27:54.153172Z",
     "start_time": "2020-02-16T15:26:47.338Z"
    }
   },
   "outputs": [
    {
     "data": {
      "text/plain": [
       ".\n",
       "    f     t \n",
       "54358 75887 "
      ]
     },
     "metadata": {},
     "output_type": "display_data"
    },
    {
     "data": {
      "text/plain": [
       ".\n",
       "    f     t \n",
       "75887 54358 "
      ]
     },
     "metadata": {},
     "output_type": "display_data"
    },
    {
     "data": {
      "text/plain": [
       ".\n",
       "     f \n",
       "130245 "
      ]
     },
     "metadata": {},
     "output_type": "display_data"
    }
   ],
   "source": [
    "metadata_f$mimag_high_quality %>% table\n",
    "metadata_f$mimag_medium_quality %>% table\n",
    "metadata_f$mimag_low_quality %>% table"
   ]
  },
  {
   "cell_type": "markdown",
   "metadata": {},
   "source": [
    "## Filtering"
   ]
  },
  {
   "cell_type": "code",
   "execution_count": 9,
   "metadata": {
    "ExecuteTime": {
     "end_time": "2020-02-16T15:27:54.887591Z",
     "start_time": "2020-02-16T15:26:47.597Z"
    }
   },
   "outputs": [
    {
     "data": {
      "text/html": [
       "75887"
      ],
      "text/latex": [
       "75887"
      ],
      "text/markdown": [
       "75887"
      ],
      "text/plain": [
       "[1] 75887"
      ]
     },
     "metadata": {},
     "output_type": "display_data"
    }
   ],
   "source": [
    "metadata_f = metadata_f %>% \n",
    "    filter(mimag_high_quality == 't')\n",
    "\n",
    "metadata_f %>% nrow"
   ]
  },
  {
   "cell_type": "code",
   "execution_count": 10,
   "metadata": {
    "ExecuteTime": {
     "end_time": "2020-02-16T15:27:54.983633Z",
     "start_time": "2020-02-16T15:26:47.762Z"
    }
   },
   "outputs": [
    {
     "data": {
      "text/plain": [
       ".\n",
       "    t \n",
       "75887 "
      ]
     },
     "metadata": {},
     "output_type": "display_data"
    },
    {
     "data": {
      "text/plain": [
       ".\n",
       "    f \n",
       "75887 "
      ]
     },
     "metadata": {},
     "output_type": "display_data"
    },
    {
     "data": {
      "text/plain": [
       ".\n",
       "    f \n",
       "75887 "
      ]
     },
     "metadata": {},
     "output_type": "display_data"
    }
   ],
   "source": [
    "metadata_f$mimag_high_quality %>% table\n",
    "metadata_f$mimag_medium_quality %>% table\n",
    "metadata_f$mimag_low_quality %>% table"
   ]
  },
  {
   "cell_type": "markdown",
   "metadata": {},
   "source": [
    "# ncbi_assembly_level"
   ]
  },
  {
   "cell_type": "code",
   "execution_count": 11,
   "metadata": {
    "ExecuteTime": {
     "end_time": "2020-02-16T15:27:55.033051Z",
     "start_time": "2020-02-16T15:26:48.050Z"
    }
   },
   "outputs": [
    {
     "data": {
      "text/plain": [
       ".\n",
       "     Chromosome Complete Genome          Contig            none        Scaffold \n",
       "           1340            9348           35798              13           29388 "
      ]
     },
     "metadata": {},
     "output_type": "display_data"
    }
   ],
   "source": [
    "metadata_f$ncbi_assembly_level %>% table"
   ]
  },
  {
   "cell_type": "markdown",
   "metadata": {},
   "source": [
    "## Filtering"
   ]
  },
  {
   "cell_type": "code",
   "execution_count": 12,
   "metadata": {
    "ExecuteTime": {
     "end_time": "2020-02-16T15:27:56.133642Z",
     "start_time": "2020-02-16T15:26:48.338Z"
    }
   },
   "outputs": [
    {
     "data": {
      "text/plain": [
       ".\n",
       "     Chromosome Complete Genome          Contig        Scaffold \n",
       "           1340            9348           35798           29388 "
      ]
     },
     "metadata": {},
     "output_type": "display_data"
    },
    {
     "data": {
      "text/html": [
       "75874"
      ],
      "text/latex": [
       "75874"
      ],
      "text/markdown": [
       "75874"
      ],
      "text/plain": [
       "[1] 75874"
      ]
     },
     "metadata": {},
     "output_type": "display_data"
    }
   ],
   "source": [
    "metadata_f = metadata_f %>%\n",
    "    filter(ncbi_assembly_level != 'none')\n",
    "\n",
    "metadata_f$ncbi_assembly_level %>% table\n",
    "metadata_f %>% nrow"
   ]
  },
  {
   "cell_type": "markdown",
   "metadata": {},
   "source": [
    "# ncbi_genome_category"
   ]
  },
  {
   "cell_type": "code",
   "execution_count": 13,
   "metadata": {
    "ExecuteTime": {
     "end_time": "2020-02-16T15:27:57.365246Z",
     "start_time": "2020-02-16T15:26:48.618Z"
    }
   },
   "outputs": [
    {
     "data": {
      "text/plain": [
       ".\n",
       "derived from environmental_sample                              none \n",
       "                              122                             75024 "
      ]
     },
     "metadata": {},
     "output_type": "display_data"
    },
    {
     "data": {
      "text/html": [
       "75146"
      ],
      "text/latex": [
       "75146"
      ],
      "text/markdown": [
       "75146"
      ],
      "text/plain": [
       "[1] 75146"
      ]
     },
     "metadata": {},
     "output_type": "display_data"
    }
   ],
   "source": [
    "to_rm = c('derived from metagenome', 'derived from single cell')\n",
    "metadata_f = metadata_f %>%\n",
    "    filter(! ncbi_genome_category %in% to_rm)\n",
    "\n",
    "metadata_f$ncbi_genome_category %>% table \n",
    "metadata_f %>% nrow"
   ]
  },
  {
   "cell_type": "markdown",
   "metadata": {},
   "source": [
    "# ncbi_genbank_assembly_accession"
   ]
  },
  {
   "cell_type": "code",
   "execution_count": 14,
   "metadata": {
    "ExecuteTime": {
     "end_time": "2020-02-16T15:27:57.441823Z",
     "start_time": "2020-02-16T15:26:48.898Z"
    }
   },
   "outputs": [
    {
     "data": {
      "text/plain": [
       "   Length     Class      Mode \n",
       "    75146 character character "
      ]
     },
     "metadata": {},
     "output_type": "display_data"
    },
    {
     "data": {
      "text/html": [
       "0"
      ],
      "text/latex": [
       "0"
      ],
      "text/markdown": [
       "0"
      ],
      "text/plain": [
       "[1] 0"
      ]
     },
     "metadata": {},
     "output_type": "display_data"
    }
   ],
   "source": [
    "metadata_f$ncbi_genbank_assembly_accession %>% summary\n",
    "\n",
    "metadata_f %>%\n",
    "    filter(! grepl('^GCA_', ncbi_genbank_assembly_accession)) %>%\n",
    "    nrow"
   ]
  },
  {
   "cell_type": "markdown",
   "metadata": {},
   "source": [
    "# Filtering on other genome stats"
   ]
  },
  {
   "cell_type": "code",
   "execution_count": 15,
   "metadata": {
    "ExecuteTime": {
     "end_time": "2020-02-16T15:27:57.484571Z",
     "start_time": "2020-02-16T15:26:49.201Z"
    }
   },
   "outputs": [
    {
     "data": {
      "text/plain": [
       "   Min. 1st Qu.  Median    Mean 3rd Qu.    Max. \n",
       "  20.20   39.58   50.58   49.44   57.20   76.64 "
      ]
     },
     "metadata": {},
     "output_type": "display_data"
    }
   ],
   "source": [
    "metadata_f$gc_percentage %>% summary"
   ]
  },
  {
   "cell_type": "code",
   "execution_count": 16,
   "metadata": {
    "ExecuteTime": {
     "end_time": "2020-02-16T15:27:59.384327Z",
     "start_time": "2020-02-16T15:26:49.346Z"
    }
   },
   "outputs": [
    {
     "data": {
      "text/plain": [
       "   Min. 1st Qu.  Median    Mean 3rd Qu.    Max. \n",
       "    1.0    26.0    66.0   103.5   131.0  2243.0 "
      ]
     },
     "metadata": {},
     "output_type": "display_data"
    },
    {
     "data": {
      "text/plain": [
       "   Min. 1st Qu.  Median    Mean 3rd Qu.    Max. \n",
       "   1.00   25.00   64.00   92.65  126.00  500.00 "
      ]
     },
     "metadata": {},
     "output_type": "display_data"
    },
    {
     "data": {
      "text/html": [
       "73780"
      ],
      "text/latex": [
       "73780"
      ],
      "text/markdown": [
       "73780"
      ],
      "text/plain": [
       "[1] 73780"
      ]
     },
     "metadata": {},
     "output_type": "display_data"
    }
   ],
   "source": [
    "metadata_f$contig_count %>% summary\n",
    "metadata_f = metadata_f %>%\n",
    "    filter(contig_count <= 500) \n",
    "\n",
    "metadata_f$contig_count %>% summary\n",
    "metadata_f %>% nrow"
   ]
  },
  {
   "cell_type": "code",
   "execution_count": 17,
   "metadata": {
    "ExecuteTime": {
     "end_time": "2020-02-16T15:28:00.024432Z",
     "start_time": "2020-02-16T15:26:49.505Z"
    }
   },
   "outputs": [
    {
     "data": {
      "text/plain": [
       "    Min.  1st Qu.   Median     Mean  3rd Qu.     Max. \n",
       "  422434  2487967  4416714  4150731  5226014 68003531 "
      ]
     },
     "metadata": {},
     "output_type": "display_data"
    },
    {
     "data": {
      "text/plain": [
       "    Min.  1st Qu.   Median     Mean  3rd Qu.     Max. \n",
       "  422434  2487919  4416596  4148629  5225630 13559781 "
      ]
     },
     "metadata": {},
     "output_type": "display_data"
    },
    {
     "data": {
      "text/html": [
       "73776"
      ],
      "text/latex": [
       "73776"
      ],
      "text/markdown": [
       "73776"
      ],
      "text/plain": [
       "[1] 73776"
      ]
     },
     "metadata": {},
     "output_type": "display_data"
    }
   ],
   "source": [
    "# total genome size\n",
    "metadata_f$genome_size %>% summary\n",
    "metadata_f = metadata_f %>%\n",
    "    filter(genome_size < 15000000) \n",
    "\n",
    "metadata_f$genome_size %>% summary\n",
    "metadata_f %>% nrow"
   ]
  },
  {
   "cell_type": "code",
   "execution_count": 18,
   "metadata": {
    "ExecuteTime": {
     "end_time": "2020-02-16T15:28:00.649197Z",
     "start_time": "2020-02-16T15:26:49.809Z"
    }
   },
   "outputs": [
    {
     "data": {
      "text/plain": [
       "    Min.  1st Qu.   Median     Mean  3rd Qu.     Max. \n",
       "    2406    30769    58451   483794   147799 13047416 "
      ]
     },
     "metadata": {},
     "output_type": "display_data"
    },
    {
     "data": {
      "text/plain": [
       "    Min.  1st Qu.   Median     Mean  3rd Qu.     Max. \n",
       "   10000    31857    60134   493377   152720 13047416 "
      ]
     },
     "metadata": {},
     "output_type": "display_data"
    },
    {
     "data": {
      "text/html": [
       "72319"
      ],
      "text/latex": [
       "72319"
      ],
      "text/markdown": [
       "72319"
      ],
      "text/plain": [
       "[1] 72319"
      ]
     },
     "metadata": {},
     "output_type": "display_data"
    }
   ],
   "source": [
    "# contig length\n",
    "metadata_f$mean_contig_length %>% summary\n",
    "metadata_f = metadata_f %>%\n",
    "    filter(mean_contig_length >= 10000) \n",
    "\n",
    "metadata_f$mean_contig_length %>% summary\n",
    "metadata_f %>% nrow"
   ]
  },
  {
   "cell_type": "code",
   "execution_count": 19,
   "metadata": {
    "ExecuteTime": {
     "end_time": "2020-02-16T15:28:01.707257Z",
     "start_time": "2020-02-16T15:26:50.002Z"
    }
   },
   "outputs": [
    {
     "data": {
      "text/plain": [
       "   Min. 1st Qu.  Median    Mean 3rd Qu.    Max. \n",
       "  1.000   1.000   1.000   2.333   3.000 119.000 "
      ]
     },
     "metadata": {},
     "output_type": "display_data"
    },
    {
     "data": {
      "text/plain": [
       "   Min. 1st Qu.  Median    Mean 3rd Qu.    Max. \n",
       "  1.000   1.000   1.000   2.327   3.000  49.000 "
      ]
     },
     "metadata": {},
     "output_type": "display_data"
    },
    {
     "data": {
      "text/html": [
       "72313"
      ],
      "text/latex": [
       "72313"
      ],
      "text/markdown": [
       "72313"
      ],
      "text/plain": [
       "[1] 72313"
      ]
     },
     "metadata": {},
     "output_type": "display_data"
    }
   ],
   "source": [
    "#ssu_count\n",
    "metadata_f$ssu_count %>% summary\n",
    "\n",
    "metadata_f = metadata_f %>%\n",
    "    filter(ssu_count <= 50) \n",
    "\n",
    "metadata_f$ssu_count %>% summary\n",
    "metadata_f %>% nrow"
   ]
  },
  {
   "cell_type": "markdown",
   "metadata": {},
   "source": [
    "# Taxonomy"
   ]
  },
  {
   "cell_type": "code",
   "execution_count": 20,
   "metadata": {
    "ExecuteTime": {
     "end_time": "2020-02-16T15:28:02.439552Z",
     "start_time": "2020-02-16T15:26:50.322Z"
    }
   },
   "outputs": [
    {
     "data": {
      "text/html": [
       "72313"
      ],
      "text/latex": [
       "72313"
      ],
      "text/markdown": [
       "72313"
      ],
      "text/plain": [
       "[1] 72313"
      ]
     },
     "metadata": {},
     "output_type": "display_data"
    }
   ],
   "source": [
    "levs = c('Domain', 'Phylum', 'Class', 'Order', 'Family', 'Genus', 'Species')\n",
    "metadata_f = metadata_f %>%\n",
    "    separate(gtdb_taxonomy, levs, sep=';') \n",
    "\n",
    "metadata_f %>% nrow"
   ]
  },
  {
   "cell_type": "code",
   "execution_count": 21,
   "metadata": {
    "ExecuteTime": {
     "end_time": "2020-02-16T15:28:03.159155Z",
     "start_time": "2020-02-16T15:26:50.465Z"
    }
   },
   "outputs": [
    {
     "data": {
      "text/html": [
       "<table>\n",
       "<thead><tr><th scope=col>Domain</th><th scope=col>n</th></tr></thead>\n",
       "<tbody>\n",
       "\t<tr><td>d__Archaea </td><td>  457      </td></tr>\n",
       "\t<tr><td>d__Bacteria</td><td>71856      </td></tr>\n",
       "</tbody>\n",
       "</table>\n"
      ],
      "text/latex": [
       "\\begin{tabular}{r|ll}\n",
       " Domain & n\\\\\n",
       "\\hline\n",
       "\t d\\_\\_Archaea  &   457          \\\\\n",
       "\t d\\_\\_Bacteria & 71856          \\\\\n",
       "\\end{tabular}\n"
      ],
      "text/markdown": [
       "\n",
       "Domain | n | \n",
       "|---|---|\n",
       "| d__Archaea  |   457       | \n",
       "| d__Bacteria | 71856       | \n",
       "\n",
       "\n"
      ],
      "text/plain": [
       "  Domain      n    \n",
       "1 d__Archaea    457\n",
       "2 d__Bacteria 71856"
      ]
     },
     "metadata": {},
     "output_type": "display_data"
    }
   ],
   "source": [
    "# per domain\n",
    "metadata_f %>%\n",
    "    group_by(Domain) %>%\n",
    "    summarize(n = n_distinct(accession)) %>%\n",
    "    ungroup()"
   ]
  },
  {
   "cell_type": "code",
   "execution_count": 22,
   "metadata": {
    "ExecuteTime": {
     "end_time": "2020-02-16T15:28:04.634564Z",
     "start_time": "2020-02-16T15:26:50.618Z"
    }
   },
   "outputs": [
    {
     "data": {
      "text/html": [
       "<table>\n",
       "<thead><tr><th scope=col>Domain</th><th scope=col>Phylum</th><th scope=col>n</th></tr></thead>\n",
       "<tbody>\n",
       "\t<tr><td>d__Bacteria              </td><td>p__Proteobacteria        </td><td>42513                    </td></tr>\n",
       "\t<tr><td>d__Bacteria              </td><td>p__Firmicutes            </td><td>19310                    </td></tr>\n",
       "\t<tr><td>d__Bacteria              </td><td>p__Actinobacteriota      </td><td> 4012                    </td></tr>\n",
       "\t<tr><td>d__Bacteria              </td><td>p__Bacteroidota          </td><td> 1816                    </td></tr>\n",
       "\t<tr><td>d__Bacteria              </td><td>p__Firmicutes_A          </td><td> 1651                    </td></tr>\n",
       "\t<tr><td>d__Bacteria              </td><td>p__Spirochaetota         </td><td>  640                    </td></tr>\n",
       "\t<tr><td>d__Bacteria              </td><td>p__Verrucomicrobiota_A   </td><td>  342                    </td></tr>\n",
       "\t<tr><td>d__Archaea               </td><td>p__Halobacterota         </td><td>  319                    </td></tr>\n",
       "\t<tr><td>d__Bacteria              </td><td>p__Firmicutes_I          </td><td>  240                    </td></tr>\n",
       "\t<tr><td>d__Bacteria              </td><td>p__Cyanobacteria         </td><td>  207                    </td></tr>\n",
       "\t<tr><td>d__Bacteria              </td><td>p__Campylobacterota      </td><td>  170                    </td></tr>\n",
       "\t<tr><td>d__Bacteria              </td><td>p__Fusobacteriota        </td><td>  111                    </td></tr>\n",
       "\t<tr><td>d__Bacteria              </td><td>p__Firmicutes_C          </td><td>  108                    </td></tr>\n",
       "\t<tr><td>d__Archaea               </td><td>p__Euryarchaeota         </td><td>   93                    </td></tr>\n",
       "\t<tr><td>d__Bacteria              </td><td>p__Verrucomicrobiota     </td><td>   84                    </td></tr>\n",
       "\t<tr><td>d__Bacteria              </td><td>p__Desulfobacterota_A    </td><td>   72                    </td></tr>\n",
       "\t<tr><td>d__Bacteria              </td><td>p__Thermotogota          </td><td>   66                    </td></tr>\n",
       "\t<tr><td>d__Bacteria              </td><td>p__Firmicutes_B          </td><td>   61                    </td></tr>\n",
       "\t<tr><td>d__Bacteria              </td><td>p__Deinococcota          </td><td>   54                    </td></tr>\n",
       "\t<tr><td>d__Bacteria              </td><td>p__Chloroflexota         </td><td>   49                    </td></tr>\n",
       "\t<tr><td>d__Bacteria              </td><td>p__Desulfobacterota      </td><td>   47                    </td></tr>\n",
       "\t<tr><td>d__Bacteria              </td><td>p__Desulfuromonadota     </td><td>   38                    </td></tr>\n",
       "\t<tr><td>d__Bacteria              </td><td>p__Fibrobacterota        </td><td>   31                    </td></tr>\n",
       "\t<tr><td>d__Bacteria              </td><td>p__Acidobacteriota       </td><td>   30                    </td></tr>\n",
       "\t<tr><td>d__Bacteria              </td><td>p__Myxococcota           </td><td>   28                    </td></tr>\n",
       "\t<tr><td>d__Bacteria              </td><td>p__Synergistota          </td><td>   26                    </td></tr>\n",
       "\t<tr><td>d__Bacteria              </td><td>p__Aquificota            </td><td>   24                    </td></tr>\n",
       "\t<tr><td>d__Archaea               </td><td>p__Crenarchaeota         </td><td>   23                    </td></tr>\n",
       "\t<tr><td>d__Archaea               </td><td>p__Thermoplasmatota      </td><td>   22                    </td></tr>\n",
       "\t<tr><td>d__Bacteria              </td><td>p__Bdellovibrionota      </td><td>   16                    </td></tr>\n",
       "\t<tr><td>d__Bacteria              </td><td>p__Planctomycetota       </td><td>   16                    </td></tr>\n",
       "\t<tr><td>d__Bacteria              </td><td>p__Firmicutes_K          </td><td>   14                    </td></tr>\n",
       "\t<tr><td>d__Bacteria              </td><td>p__Nitrospirota          </td><td>   14                    </td></tr>\n",
       "\t<tr><td>d__Bacteria              </td><td>p__Firmicutes_F          </td><td>   13                    </td></tr>\n",
       "\t<tr><td>d__Bacteria              </td><td>p__Nitrospirota_A        </td><td>    8                    </td></tr>\n",
       "\t<tr><td>d__Bacteria              </td><td>p__Armatimonadota        </td><td>    7                    </td></tr>\n",
       "\t<tr><td>d__Bacteria              </td><td>p__Deferribacterota      </td><td>    7                    </td></tr>\n",
       "\t<tr><td>d__Bacteria              </td><td>p__Coprothermobacterota  </td><td>    4                    </td></tr>\n",
       "\t<tr><td>d__Bacteria              </td><td>p__Firmicutes_D          </td><td>    3                    </td></tr>\n",
       "\t<tr><td>d__Bacteria              </td><td>p__Firmicutes_E          </td><td>    3                    </td></tr>\n",
       "\t<tr><td>d__Bacteria              </td><td>p__Gemmatimonadota       </td><td>    3                    </td></tr>\n",
       "\t<tr><td>d__Bacteria              </td><td>p__Chrysiogenetota       </td><td>    2                    </td></tr>\n",
       "\t<tr><td>d__Bacteria              </td><td>p__Dictyoglomota         </td><td>    2                    </td></tr>\n",
       "\t<tr><td>d__Bacteria              </td><td>p__Firmicutes_J          </td><td>    2                    </td></tr>\n",
       "\t<tr><td>d__Bacteria              </td><td>p__Methylomirabilota     </td><td>    2                    </td></tr>\n",
       "\t<tr><td>d__Bacteria              </td><td>p__Thermodesulfobiota    </td><td>    2                    </td></tr>\n",
       "\t<tr><td>d__Bacteria              </td><td>p__Bdellovibrionota_B    </td><td>    1                    </td></tr>\n",
       "\t<tr><td>d__Bacteria              </td><td>p__Bipolaricaulota       </td><td>    1                    </td></tr>\n",
       "\t<tr><td>d__Bacteria              </td><td>p__Caldisericota         </td><td>    1                    </td></tr>\n",
       "\t<tr><td>d__Bacteria              </td><td>p__Cloacimonadota        </td><td>    1                    </td></tr>\n",
       "\t<tr><td>d__Bacteria              </td><td>p__Elusimicrobiota       </td><td>    1                    </td></tr>\n",
       "\t<tr><td>d__Bacteria              </td><td>p__Firmicutes_G          </td><td>    1                    </td></tr>\n",
       "\t<tr><td>d__Bacteria              </td><td>p__Nitrospinota          </td><td>    1                    </td></tr>\n",
       "\t<tr><td>d__Bacteria              </td><td>p__Thermosulfidibacterota</td><td>    1                    </td></tr>\n",
       "</tbody>\n",
       "</table>\n"
      ],
      "text/latex": [
       "\\begin{tabular}{r|lll}\n",
       " Domain & Phylum & n\\\\\n",
       "\\hline\n",
       "\t d\\_\\_Bacteria               & p\\_\\_Proteobacteria         & 42513                        \\\\\n",
       "\t d\\_\\_Bacteria               & p\\_\\_Firmicutes             & 19310                        \\\\\n",
       "\t d\\_\\_Bacteria               & p\\_\\_Actinobacteriota       &  4012                        \\\\\n",
       "\t d\\_\\_Bacteria               & p\\_\\_Bacteroidota           &  1816                        \\\\\n",
       "\t d\\_\\_Bacteria                 & p\\_\\_Firmicutes\\_A           &  1651                          \\\\\n",
       "\t d\\_\\_Bacteria               & p\\_\\_Spirochaetota          &   640                        \\\\\n",
       "\t d\\_\\_Bacteria                 & p\\_\\_Verrucomicrobiota\\_A    &   342                          \\\\\n",
       "\t d\\_\\_Archaea                & p\\_\\_Halobacterota          &   319                        \\\\\n",
       "\t d\\_\\_Bacteria                 & p\\_\\_Firmicutes\\_I           &   240                          \\\\\n",
       "\t d\\_\\_Bacteria               & p\\_\\_Cyanobacteria          &   207                        \\\\\n",
       "\t d\\_\\_Bacteria               & p\\_\\_Campylobacterota       &   170                        \\\\\n",
       "\t d\\_\\_Bacteria               & p\\_\\_Fusobacteriota         &   111                        \\\\\n",
       "\t d\\_\\_Bacteria                 & p\\_\\_Firmicutes\\_C           &   108                          \\\\\n",
       "\t d\\_\\_Archaea                & p\\_\\_Euryarchaeota          &    93                        \\\\\n",
       "\t d\\_\\_Bacteria               & p\\_\\_Verrucomicrobiota      &    84                        \\\\\n",
       "\t d\\_\\_Bacteria                 & p\\_\\_Desulfobacterota\\_A     &    72                          \\\\\n",
       "\t d\\_\\_Bacteria               & p\\_\\_Thermotogota           &    66                        \\\\\n",
       "\t d\\_\\_Bacteria                 & p\\_\\_Firmicutes\\_B           &    61                          \\\\\n",
       "\t d\\_\\_Bacteria               & p\\_\\_Deinococcota           &    54                        \\\\\n",
       "\t d\\_\\_Bacteria               & p\\_\\_Chloroflexota          &    49                        \\\\\n",
       "\t d\\_\\_Bacteria               & p\\_\\_Desulfobacterota       &    47                        \\\\\n",
       "\t d\\_\\_Bacteria               & p\\_\\_Desulfuromonadota      &    38                        \\\\\n",
       "\t d\\_\\_Bacteria               & p\\_\\_Fibrobacterota         &    31                        \\\\\n",
       "\t d\\_\\_Bacteria               & p\\_\\_Acidobacteriota        &    30                        \\\\\n",
       "\t d\\_\\_Bacteria               & p\\_\\_Myxococcota            &    28                        \\\\\n",
       "\t d\\_\\_Bacteria               & p\\_\\_Synergistota           &    26                        \\\\\n",
       "\t d\\_\\_Bacteria               & p\\_\\_Aquificota             &    24                        \\\\\n",
       "\t d\\_\\_Archaea                & p\\_\\_Crenarchaeota          &    23                        \\\\\n",
       "\t d\\_\\_Archaea                & p\\_\\_Thermoplasmatota       &    22                        \\\\\n",
       "\t d\\_\\_Bacteria               & p\\_\\_Bdellovibrionota       &    16                        \\\\\n",
       "\t d\\_\\_Bacteria               & p\\_\\_Planctomycetota        &    16                        \\\\\n",
       "\t d\\_\\_Bacteria                 & p\\_\\_Firmicutes\\_K           &    14                          \\\\\n",
       "\t d\\_\\_Bacteria               & p\\_\\_Nitrospirota           &    14                        \\\\\n",
       "\t d\\_\\_Bacteria                 & p\\_\\_Firmicutes\\_F           &    13                          \\\\\n",
       "\t d\\_\\_Bacteria                 & p\\_\\_Nitrospirota\\_A         &     8                          \\\\\n",
       "\t d\\_\\_Bacteria               & p\\_\\_Armatimonadota         &     7                        \\\\\n",
       "\t d\\_\\_Bacteria               & p\\_\\_Deferribacterota       &     7                        \\\\\n",
       "\t d\\_\\_Bacteria               & p\\_\\_Coprothermobacterota   &     4                        \\\\\n",
       "\t d\\_\\_Bacteria                 & p\\_\\_Firmicutes\\_D           &     3                          \\\\\n",
       "\t d\\_\\_Bacteria                 & p\\_\\_Firmicutes\\_E           &     3                          \\\\\n",
       "\t d\\_\\_Bacteria               & p\\_\\_Gemmatimonadota        &     3                        \\\\\n",
       "\t d\\_\\_Bacteria               & p\\_\\_Chrysiogenetota        &     2                        \\\\\n",
       "\t d\\_\\_Bacteria               & p\\_\\_Dictyoglomota          &     2                        \\\\\n",
       "\t d\\_\\_Bacteria                 & p\\_\\_Firmicutes\\_J           &     2                          \\\\\n",
       "\t d\\_\\_Bacteria               & p\\_\\_Methylomirabilota      &     2                        \\\\\n",
       "\t d\\_\\_Bacteria               & p\\_\\_Thermodesulfobiota     &     2                        \\\\\n",
       "\t d\\_\\_Bacteria                 & p\\_\\_Bdellovibrionota\\_B     &     1                          \\\\\n",
       "\t d\\_\\_Bacteria               & p\\_\\_Bipolaricaulota        &     1                        \\\\\n",
       "\t d\\_\\_Bacteria               & p\\_\\_Caldisericota          &     1                        \\\\\n",
       "\t d\\_\\_Bacteria               & p\\_\\_Cloacimonadota         &     1                        \\\\\n",
       "\t d\\_\\_Bacteria               & p\\_\\_Elusimicrobiota        &     1                        \\\\\n",
       "\t d\\_\\_Bacteria                 & p\\_\\_Firmicutes\\_G           &     1                          \\\\\n",
       "\t d\\_\\_Bacteria               & p\\_\\_Nitrospinota           &     1                        \\\\\n",
       "\t d\\_\\_Bacteria               & p\\_\\_Thermosulfidibacterota &     1                        \\\\\n",
       "\\end{tabular}\n"
      ],
      "text/markdown": [
       "\n",
       "Domain | Phylum | n | \n",
       "|---|---|---|---|---|---|---|---|---|---|---|---|---|---|---|---|---|---|---|---|---|---|---|---|---|---|---|---|---|---|---|---|---|---|---|---|---|---|---|---|---|---|---|---|---|---|---|---|---|---|---|---|---|---|\n",
       "| d__Bacteria               | p__Proteobacteria         | 42513                     | \n",
       "| d__Bacteria               | p__Firmicutes             | 19310                     | \n",
       "| d__Bacteria               | p__Actinobacteriota       |  4012                     | \n",
       "| d__Bacteria               | p__Bacteroidota           |  1816                     | \n",
       "| d__Bacteria               | p__Firmicutes_A           |  1651                     | \n",
       "| d__Bacteria               | p__Spirochaetota          |   640                     | \n",
       "| d__Bacteria               | p__Verrucomicrobiota_A    |   342                     | \n",
       "| d__Archaea                | p__Halobacterota          |   319                     | \n",
       "| d__Bacteria               | p__Firmicutes_I           |   240                     | \n",
       "| d__Bacteria               | p__Cyanobacteria          |   207                     | \n",
       "| d__Bacteria               | p__Campylobacterota       |   170                     | \n",
       "| d__Bacteria               | p__Fusobacteriota         |   111                     | \n",
       "| d__Bacteria               | p__Firmicutes_C           |   108                     | \n",
       "| d__Archaea                | p__Euryarchaeota          |    93                     | \n",
       "| d__Bacteria               | p__Verrucomicrobiota      |    84                     | \n",
       "| d__Bacteria               | p__Desulfobacterota_A     |    72                     | \n",
       "| d__Bacteria               | p__Thermotogota           |    66                     | \n",
       "| d__Bacteria               | p__Firmicutes_B           |    61                     | \n",
       "| d__Bacteria               | p__Deinococcota           |    54                     | \n",
       "| d__Bacteria               | p__Chloroflexota          |    49                     | \n",
       "| d__Bacteria               | p__Desulfobacterota       |    47                     | \n",
       "| d__Bacteria               | p__Desulfuromonadota      |    38                     | \n",
       "| d__Bacteria               | p__Fibrobacterota         |    31                     | \n",
       "| d__Bacteria               | p__Acidobacteriota        |    30                     | \n",
       "| d__Bacteria               | p__Myxococcota            |    28                     | \n",
       "| d__Bacteria               | p__Synergistota           |    26                     | \n",
       "| d__Bacteria               | p__Aquificota             |    24                     | \n",
       "| d__Archaea                | p__Crenarchaeota          |    23                     | \n",
       "| d__Archaea                | p__Thermoplasmatota       |    22                     | \n",
       "| d__Bacteria               | p__Bdellovibrionota       |    16                     | \n",
       "| d__Bacteria               | p__Planctomycetota        |    16                     | \n",
       "| d__Bacteria               | p__Firmicutes_K           |    14                     | \n",
       "| d__Bacteria               | p__Nitrospirota           |    14                     | \n",
       "| d__Bacteria               | p__Firmicutes_F           |    13                     | \n",
       "| d__Bacteria               | p__Nitrospirota_A         |     8                     | \n",
       "| d__Bacteria               | p__Armatimonadota         |     7                     | \n",
       "| d__Bacteria               | p__Deferribacterota       |     7                     | \n",
       "| d__Bacteria               | p__Coprothermobacterota   |     4                     | \n",
       "| d__Bacteria               | p__Firmicutes_D           |     3                     | \n",
       "| d__Bacteria               | p__Firmicutes_E           |     3                     | \n",
       "| d__Bacteria               | p__Gemmatimonadota        |     3                     | \n",
       "| d__Bacteria               | p__Chrysiogenetota        |     2                     | \n",
       "| d__Bacteria               | p__Dictyoglomota          |     2                     | \n",
       "| d__Bacteria               | p__Firmicutes_J           |     2                     | \n",
       "| d__Bacteria               | p__Methylomirabilota      |     2                     | \n",
       "| d__Bacteria               | p__Thermodesulfobiota     |     2                     | \n",
       "| d__Bacteria               | p__Bdellovibrionota_B     |     1                     | \n",
       "| d__Bacteria               | p__Bipolaricaulota        |     1                     | \n",
       "| d__Bacteria               | p__Caldisericota          |     1                     | \n",
       "| d__Bacteria               | p__Cloacimonadota         |     1                     | \n",
       "| d__Bacteria               | p__Elusimicrobiota        |     1                     | \n",
       "| d__Bacteria               | p__Firmicutes_G           |     1                     | \n",
       "| d__Bacteria               | p__Nitrospinota           |     1                     | \n",
       "| d__Bacteria               | p__Thermosulfidibacterota |     1                     | \n",
       "\n",
       "\n"
      ],
      "text/plain": [
       "   Domain      Phylum                    n    \n",
       "1  d__Bacteria p__Proteobacteria         42513\n",
       "2  d__Bacteria p__Firmicutes             19310\n",
       "3  d__Bacteria p__Actinobacteriota        4012\n",
       "4  d__Bacteria p__Bacteroidota            1816\n",
       "5  d__Bacteria p__Firmicutes_A            1651\n",
       "6  d__Bacteria p__Spirochaetota            640\n",
       "7  d__Bacteria p__Verrucomicrobiota_A      342\n",
       "8  d__Archaea  p__Halobacterota            319\n",
       "9  d__Bacteria p__Firmicutes_I             240\n",
       "10 d__Bacteria p__Cyanobacteria            207\n",
       "11 d__Bacteria p__Campylobacterota         170\n",
       "12 d__Bacteria p__Fusobacteriota           111\n",
       "13 d__Bacteria p__Firmicutes_C             108\n",
       "14 d__Archaea  p__Euryarchaeota             93\n",
       "15 d__Bacteria p__Verrucomicrobiota         84\n",
       "16 d__Bacteria p__Desulfobacterota_A        72\n",
       "17 d__Bacteria p__Thermotogota              66\n",
       "18 d__Bacteria p__Firmicutes_B              61\n",
       "19 d__Bacteria p__Deinococcota              54\n",
       "20 d__Bacteria p__Chloroflexota             49\n",
       "21 d__Bacteria p__Desulfobacterota          47\n",
       "22 d__Bacteria p__Desulfuromonadota         38\n",
       "23 d__Bacteria p__Fibrobacterota            31\n",
       "24 d__Bacteria p__Acidobacteriota           30\n",
       "25 d__Bacteria p__Myxococcota               28\n",
       "26 d__Bacteria p__Synergistota              26\n",
       "27 d__Bacteria p__Aquificota                24\n",
       "28 d__Archaea  p__Crenarchaeota             23\n",
       "29 d__Archaea  p__Thermoplasmatota          22\n",
       "30 d__Bacteria p__Bdellovibrionota          16\n",
       "31 d__Bacteria p__Planctomycetota           16\n",
       "32 d__Bacteria p__Firmicutes_K              14\n",
       "33 d__Bacteria p__Nitrospirota              14\n",
       "34 d__Bacteria p__Firmicutes_F              13\n",
       "35 d__Bacteria p__Nitrospirota_A             8\n",
       "36 d__Bacteria p__Armatimonadota             7\n",
       "37 d__Bacteria p__Deferribacterota           7\n",
       "38 d__Bacteria p__Coprothermobacterota       4\n",
       "39 d__Bacteria p__Firmicutes_D               3\n",
       "40 d__Bacteria p__Firmicutes_E               3\n",
       "41 d__Bacteria p__Gemmatimonadota            3\n",
       "42 d__Bacteria p__Chrysiogenetota            2\n",
       "43 d__Bacteria p__Dictyoglomota              2\n",
       "44 d__Bacteria p__Firmicutes_J               2\n",
       "45 d__Bacteria p__Methylomirabilota          2\n",
       "46 d__Bacteria p__Thermodesulfobiota         2\n",
       "47 d__Bacteria p__Bdellovibrionota_B         1\n",
       "48 d__Bacteria p__Bipolaricaulota            1\n",
       "49 d__Bacteria p__Caldisericota              1\n",
       "50 d__Bacteria p__Cloacimonadota             1\n",
       "51 d__Bacteria p__Elusimicrobiota            1\n",
       "52 d__Bacteria p__Firmicutes_G               1\n",
       "53 d__Bacteria p__Nitrospinota               1\n",
       "54 d__Bacteria p__Thermosulfidibacterota     1"
      ]
     },
     "metadata": {},
     "output_type": "display_data"
    }
   ],
   "source": [
    "# per phylum\n",
    "metadata_f %>%\n",
    "    group_by(Domain, Phylum) %>%\n",
    "    summarize(n = n_distinct(accession)) %>%\n",
    "    ungroup() %>%\n",
    "    arrange(-n)"
   ]
  },
  {
   "cell_type": "markdown",
   "metadata": {},
   "source": [
    "# Subsampling to X per species\n",
    "\n",
    "* reducing biases for certain species"
   ]
  },
  {
   "cell_type": "code",
   "execution_count": 23,
   "metadata": {
    "ExecuteTime": {
     "end_time": "2020-02-16T15:28:05.081399Z",
     "start_time": "2020-02-16T15:26:51.114Z"
    }
   },
   "outputs": [
    {
     "data": {
      "text/plain": [
       "    Min.  1st Qu.   Median     Mean  3rd Qu.     Max. \n",
       "   1.000    1.000    1.000    6.847    2.000 7437.000 "
      ]
     },
     "metadata": {},
     "output_type": "display_data"
    }
   ],
   "source": [
    "# number of species (pre-subsample)\n",
    "metadata_f %>%\n",
    "    group_by(Phylum, Class, Order, Family, Genus, Species) %>%\n",
    "    summarize(n = n()) %>%\n",
    "    ungroup() %>%\n",
    "    .$n %>% summary"
   ]
  },
  {
   "cell_type": "code",
   "execution_count": 24,
   "metadata": {
    "ExecuteTime": {
     "end_time": "2020-02-16T15:28:05.106475Z",
     "start_time": "2020-02-16T15:26:51.266Z"
    }
   },
   "outputs": [],
   "source": [
    "# cutoff for max number of species\n",
    "n_per_species = 10"
   ]
  },
  {
   "cell_type": "code",
   "execution_count": 25,
   "metadata": {
    "ExecuteTime": {
     "end_time": "2020-02-16T15:28:09.286262Z",
     "start_time": "2020-02-16T15:26:51.690Z"
    }
   },
   "outputs": [
    {
     "data": {
      "text/html": [
       "19479"
      ],
      "text/latex": [
       "19479"
      ],
      "text/markdown": [
       "19479"
      ],
      "text/plain": [
       "[1] 19479"
      ]
     },
     "metadata": {},
     "output_type": "display_data"
    }
   ],
   "source": [
    "# filtering\n",
    "metadata_f_s = metadata_f %>%\n",
    "    group_by(Domain, Phylum, Class, Order, Family, Genus, Species) %>%\n",
    "    sample_n(n_per_species, replace=TRUE) %>%\n",
    "    distinct(Domain, Phylum, Class, Order, Family, Genus, Species, accession) %>%\n",
    "    inner_join(metadata_f, c(levs, 'accession'))\n",
    "\n",
    "metadata_f_s %>% nrow"
   ]
  },
  {
   "cell_type": "code",
   "execution_count": 26,
   "metadata": {
    "ExecuteTime": {
     "end_time": "2020-02-16T15:28:09.638046Z",
     "start_time": "2020-02-16T15:26:53.424Z"
    }
   },
   "outputs": [
    {
     "data": {
      "text/plain": [
       "   Min. 1st Qu.  Median    Mean 3rd Qu.    Max. \n",
       "  1.000   1.000   1.000   1.844   2.000  10.000 "
      ]
     },
     "metadata": {},
     "output_type": "display_data"
    }
   ],
   "source": [
    "# number of species (post-subsample)\n",
    "metadata_f_s %>%\n",
    "    group_by(Phylum, Class, Order, Family, Genus, Species) %>%\n",
    "    summarize(n = n()) %>%\n",
    "    ungroup() %>%\n",
    "    .$n %>% summary"
   ]
  },
  {
   "cell_type": "markdown",
   "metadata": {},
   "source": [
    "## Writing metadata"
   ]
  },
  {
   "cell_type": "code",
   "execution_count": 27,
   "metadata": {
    "ExecuteTime": {
     "end_time": "2020-02-16T15:28:11.266019Z",
     "start_time": "2020-02-16T15:26:54.081Z"
    }
   },
   "outputs": [
    {
     "name": "stdout",
     "output_type": "stream",
     "text": [
      "File written: /ebio/abt3_projects/databases_no-backup/DeepMAsED/version2/ref_genomes/GTDBr89//metadata_quality.tsv \n"
     ]
    }
   ],
   "source": [
    "outF = file.path(work_dir, 'metadata_quality.tsv')\n",
    "write.table(metadata_f_s, file=outF, sep='\\t', quote=FALSE, row.names=FALSE)\n",
    "cat('File written:', outF, '\\n')"
   ]
  },
  {
   "cell_type": "markdown",
   "metadata": {},
   "source": [
    "## Downloading all genomes"
   ]
  },
  {
   "cell_type": "markdown",
   "metadata": {},
   "source": [
    "```\n",
    "screen -L -S genome-dl bash -c \"../genome_download.R -o genomes_quality/ -p 16 metadata_quality.tsv > metadata_quality_wGen.tsv\"\n",
    "```"
   ]
  },
  {
   "cell_type": "code",
   "execution_count": 29,
   "metadata": {
    "ExecuteTime": {
     "end_time": "2020-02-16T18:37:09.640931Z",
     "start_time": "2020-02-16T18:37:03.272Z"
    }
   },
   "outputs": [
    {
     "data": {
      "text/html": [
       "19331"
      ],
      "text/latex": [
       "19331"
      ],
      "text/markdown": [
       "19331"
      ],
      "text/plain": [
       "[1] 19331"
      ]
     },
     "metadata": {},
     "output_type": "display_data"
    }
   ],
   "source": [
    "# all downloaded?\n",
    "genome_dir = file.path(work_dir, 'genomes_quality')\n",
    "genome_files = list.files(genome_dir, '.fna.gz', full.names=TRUE, recursive=TRUE)\n",
    "genome_files %>% length"
   ]
  },
  {
   "cell_type": "markdown",
   "metadata": {},
   "source": [
    "## Reading in editing metadata"
   ]
  },
  {
   "cell_type": "code",
   "execution_count": 50,
   "metadata": {
    "ExecuteTime": {
     "end_time": "2020-02-16T18:54:59.828739Z",
     "start_time": "2020-02-16T18:54:49.047Z"
    }
   },
   "outputs": [
    {
     "data": {
      "text/html": [
       "19479"
      ],
      "text/latex": [
       "19479"
      ],
      "text/markdown": [
       "19479"
      ],
      "text/plain": [
       "[1] 19479"
      ]
     },
     "metadata": {},
     "output_type": "display_data"
    },
    {
     "data": {
      "text/html": [
       "<table>\n",
       "<thead><tr><th scope=col>accession</th><th scope=col>Domain</th><th scope=col>Phylum</th><th scope=col>Class</th><th scope=col>Order</th><th scope=col>Family</th><th scope=col>Genus</th><th scope=col>Species</th><th scope=col>ambiguous_bases</th><th scope=col>checkm_completeness</th><th scope=col>⋯</th><th scope=col>ssu_silva_blast_bitscore</th><th scope=col>ssu_silva_blast_evalue</th><th scope=col>ssu_silva_blast_perc_identity</th><th scope=col>ssu_silva_blast_subject_id</th><th scope=col>ssu_silva_taxonomy</th><th scope=col>total_gap_length</th><th scope=col>trna_aa_count</th><th scope=col>trna_count</th><th scope=col>trna_selenocysteine_count</th><th scope=col>fasta_file_path</th></tr></thead>\n",
       "<tbody>\n",
       "\t<tr><td>RS_GCF_000019605.1                                                                                                                                                      </td><td>d__Archaea                                                                                                                                                              </td><td>p__Crenarchaeota                                                                                                                                                        </td><td>c__Korarchaeia                                                                                                                                                          </td><td>o__Korarchaeales                                                                                                                                                        </td><td>f__Korarchaeaceae                                                                                                                                                       </td><td>g__Korarchaeum                                                                                                                                                          </td><td>s__Korarchaeum cryptofilum                                                                                                                                              </td><td>0                                                                                                                                                                       </td><td>93.39                                                                                                                                                                   </td><td>⋯                                                                                                                                                                       </td><td>2645                                                                                                                                                                    </td><td>0                                                                                                                                                                       </td><td>100                                                                                                                                                                     </td><td>CP000968.1326582.1328013                                                                                                                                                </td><td>Archaea;Korarchaeota;Korarchaeota Incertae Sedis;Unknown Order;Unknown Family;Candidatus Korarchaeum;Candidatus Korarchaeum cryptofilum OPF8                            </td><td>  0                                                                                                                                                                     </td><td>19                                                                                                                                                                      </td><td>45                                                                                                                                                                      </td><td>0                                                                                                                                                                       </td><td>/ebio/abt3_projects/databases_no-backup/DeepMAsED/version2/ref_genomes/GTDBr89/genomes_quality/genbank/archaea/GCA_000019605.1/GCA_000019605.1_ASM1960v1_genomic.fna.gz </td></tr>\n",
       "\t<tr><td>GB_GCA_000200715.1                                                                                                                                                      </td><td>d__Archaea                                                                                                                                                              </td><td>p__Crenarchaeota                                                                                                                                                        </td><td>c__Nitrososphaeria                                                                                                                                                      </td><td>o__Nitrososphaerales                                                                                                                                                    </td><td>f__Nitrosopumilaceae                                                                                                                                                    </td><td>g__Cenarchaeum                                                                                                                                                          </td><td>s__Cenarchaeum symbiosum                                                                                                                                                </td><td>1                                                                                                                                                                       </td><td>99.03                                                                                                                                                                   </td><td>⋯                                                                                                                                                                       </td><td>2715                                                                                                                                                                    </td><td>0                                                                                                                                                                       </td><td>100                                                                                                                                                                     </td><td>AF083071.5806.7278                                                                                                                                                      </td><td>Archaea;Thaumarchaeota;Marine Group I;Cenarchaeales;Cenarchaeaceae;Cenarchaeum;Cenarchaeum symbiosum                                                                    </td><td>230                                                                                                                                                                     </td><td>18                                                                                                                                                                      </td><td>40                                                                                                                                                                      </td><td>0                                                                                                                                                                       </td><td>/ebio/abt3_projects/databases_no-backup/DeepMAsED/version2/ref_genomes/GTDBr89/genomes_quality/genbank/archaea/GCA_000200715.1/GCA_000200715.1_ASM20071v1_genomic.fna.gz</td></tr>\n",
       "\t<tr><td>RS_GCF_000812185.1                                                                                                                                                      </td><td>d__Archaea                                                                                                                                                              </td><td>p__Crenarchaeota                                                                                                                                                        </td><td>c__Nitrososphaeria                                                                                                                                                      </td><td>o__Nitrososphaerales                                                                                                                                                    </td><td>f__Nitrosopumilaceae                                                                                                                                                    </td><td>g__Nitrosopelagicus                                                                                                                                                     </td><td>s__Nitrosopelagicus brevis                                                                                                                                              </td><td>0                                                                                                                                                                       </td><td>99.51                                                                                                                                                                   </td><td>⋯                                                                                                                                                                       </td><td>2713                                                                                                                                                                    </td><td>0                                                                                                                                                                       </td><td>100                                                                                                                                                                     </td><td>CP007026.477690.479162                                                                                                                                                  </td><td>Archaea;Thaumarchaeota;Marine Group I;Unknown Order;Unknown Family;Candidatus Nitrosopelagicus;Candidatus Nitrosopelagicus brevis                                       </td><td>  0                                                                                                                                                                     </td><td>19                                                                                                                                                                      </td><td>40                                                                                                                                                                      </td><td>0                                                                                                                                                                       </td><td>/ebio/abt3_projects/databases_no-backup/DeepMAsED/version2/ref_genomes/GTDBr89/genomes_quality/genbank/archaea/GCA_000812185.1/GCA_000812185.1_ASM81218v1_genomic.fna.gz</td></tr>\n",
       "</tbody>\n",
       "</table>\n"
      ],
      "text/latex": [
       "\\begin{tabular}{r|lllllllllllllllllllllllllllllllllllllllllllllllllllllllllllllllllllllllllllllllllllllllllllllllllllllllllllllllllllll}\n",
       " accession & Domain & Phylum & Class & Order & Family & Genus & Species & ambiguous\\_bases & checkm\\_completeness & ⋯ & ssu\\_silva\\_blast\\_bitscore & ssu\\_silva\\_blast\\_evalue & ssu\\_silva\\_blast\\_perc\\_identity & ssu\\_silva\\_blast\\_subject\\_id & ssu\\_silva\\_taxonomy & total\\_gap\\_length & trna\\_aa\\_count & trna\\_count & trna\\_selenocysteine\\_count & fasta\\_file\\_path\\\\\n",
       "\\hline\n",
       "\t RS\\_GCF\\_000019605.1                                                                                                                                                                   & d\\_\\_Archaea                                                                                                                                                                           & p\\_\\_Crenarchaeota                                                                                                                                                                     & c\\_\\_Korarchaeia                                                                                                                                                                       & o\\_\\_Korarchaeales                                                                                                                                                                     & f\\_\\_Korarchaeaceae                                                                                                                                                                    & g\\_\\_Korarchaeum                                                                                                                                                                       & s\\_\\_Korarchaeum cryptofilum                                                                                                                                                           & 0                                                                                                                                                                                        & 93.39                                                                                                                                                                                    & ⋯                                                                                                                                                                                        & 2645                                                                                                                                                                                     & 0                                                                                                                                                                                        & 100                                                                                                                                                                                      & CP000968.1326582.1328013                                                                                                                                                                 & Archaea;Korarchaeota;Korarchaeota Incertae Sedis;Unknown Order;Unknown Family;Candidatus Korarchaeum;Candidatus Korarchaeum cryptofilum OPF8                                             &   0                                                                                                                                                                                      & 19                                                                                                                                                                                       & 45                                                                                                                                                                                       & 0                                                                                                                                                                                        & /ebio/abt3\\_projects/databases\\_no-backup/DeepMAsED/version2/ref\\_genomes/GTDBr89/genomes\\_quality/genbank/archaea/GCA\\_000019605.1/GCA\\_000019605.1\\_ASM1960v1\\_genomic.fna.gz \\\\\n",
       "\t GB\\_GCA\\_000200715.1                                                                                                                                                                   & d\\_\\_Archaea                                                                                                                                                                           & p\\_\\_Crenarchaeota                                                                                                                                                                     & c\\_\\_Nitrososphaeria                                                                                                                                                                   & o\\_\\_Nitrososphaerales                                                                                                                                                                 & f\\_\\_Nitrosopumilaceae                                                                                                                                                                 & g\\_\\_Cenarchaeum                                                                                                                                                                       & s\\_\\_Cenarchaeum symbiosum                                                                                                                                                             & 1                                                                                                                                                                                        & 99.03                                                                                                                                                                                    & ⋯                                                                                                                                                                                        & 2715                                                                                                                                                                                     & 0                                                                                                                                                                                        & 100                                                                                                                                                                                      & AF083071.5806.7278                                                                                                                                                                       & Archaea;Thaumarchaeota;Marine Group I;Cenarchaeales;Cenarchaeaceae;Cenarchaeum;Cenarchaeum symbiosum                                                                                     & 230                                                                                                                                                                                      & 18                                                                                                                                                                                       & 40                                                                                                                                                                                       & 0                                                                                                                                                                                        & /ebio/abt3\\_projects/databases\\_no-backup/DeepMAsED/version2/ref\\_genomes/GTDBr89/genomes\\_quality/genbank/archaea/GCA\\_000200715.1/GCA\\_000200715.1\\_ASM20071v1\\_genomic.fna.gz\\\\\n",
       "\t RS\\_GCF\\_000812185.1                                                                                                                                                                   & d\\_\\_Archaea                                                                                                                                                                           & p\\_\\_Crenarchaeota                                                                                                                                                                     & c\\_\\_Nitrososphaeria                                                                                                                                                                   & o\\_\\_Nitrososphaerales                                                                                                                                                                 & f\\_\\_Nitrosopumilaceae                                                                                                                                                                 & g\\_\\_Nitrosopelagicus                                                                                                                                                                  & s\\_\\_Nitrosopelagicus brevis                                                                                                                                                           & 0                                                                                                                                                                                        & 99.51                                                                                                                                                                                    & ⋯                                                                                                                                                                                        & 2713                                                                                                                                                                                     & 0                                                                                                                                                                                        & 100                                                                                                                                                                                      & CP007026.477690.479162                                                                                                                                                                   & Archaea;Thaumarchaeota;Marine Group I;Unknown Order;Unknown Family;Candidatus Nitrosopelagicus;Candidatus Nitrosopelagicus brevis                                                        &   0                                                                                                                                                                                      & 19                                                                                                                                                                                       & 40                                                                                                                                                                                       & 0                                                                                                                                                                                        & /ebio/abt3\\_projects/databases\\_no-backup/DeepMAsED/version2/ref\\_genomes/GTDBr89/genomes\\_quality/genbank/archaea/GCA\\_000812185.1/GCA\\_000812185.1\\_ASM81218v1\\_genomic.fna.gz\\\\\n",
       "\\end{tabular}\n"
      ],
      "text/markdown": [
       "\n",
       "accession | Domain | Phylum | Class | Order | Family | Genus | Species | ambiguous_bases | checkm_completeness | ⋯ | ssu_silva_blast_bitscore | ssu_silva_blast_evalue | ssu_silva_blast_perc_identity | ssu_silva_blast_subject_id | ssu_silva_taxonomy | total_gap_length | trna_aa_count | trna_count | trna_selenocysteine_count | fasta_file_path | \n",
       "|---|---|---|\n",
       "| RS_GCF_000019605.1                                                                                                                                                       | d__Archaea                                                                                                                                                               | p__Crenarchaeota                                                                                                                                                         | c__Korarchaeia                                                                                                                                                           | o__Korarchaeales                                                                                                                                                         | f__Korarchaeaceae                                                                                                                                                        | g__Korarchaeum                                                                                                                                                           | s__Korarchaeum cryptofilum                                                                                                                                               | 0                                                                                                                                                                        | 93.39                                                                                                                                                                    | ⋯                                                                                                                                                                        | 2645                                                                                                                                                                     | 0                                                                                                                                                                        | 100                                                                                                                                                                      | CP000968.1326582.1328013                                                                                                                                                 | Archaea;Korarchaeota;Korarchaeota Incertae Sedis;Unknown Order;Unknown Family;Candidatus Korarchaeum;Candidatus Korarchaeum cryptofilum OPF8                             |   0                                                                                                                                                                      | 19                                                                                                                                                                       | 45                                                                                                                                                                       | 0                                                                                                                                                                        | /ebio/abt3_projects/databases_no-backup/DeepMAsED/version2/ref_genomes/GTDBr89/genomes_quality/genbank/archaea/GCA_000019605.1/GCA_000019605.1_ASM1960v1_genomic.fna.gz  | \n",
       "| GB_GCA_000200715.1                                                                                                                                                       | d__Archaea                                                                                                                                                               | p__Crenarchaeota                                                                                                                                                         | c__Nitrososphaeria                                                                                                                                                       | o__Nitrososphaerales                                                                                                                                                     | f__Nitrosopumilaceae                                                                                                                                                     | g__Cenarchaeum                                                                                                                                                           | s__Cenarchaeum symbiosum                                                                                                                                                 | 1                                                                                                                                                                        | 99.03                                                                                                                                                                    | ⋯                                                                                                                                                                        | 2715                                                                                                                                                                     | 0                                                                                                                                                                        | 100                                                                                                                                                                      | AF083071.5806.7278                                                                                                                                                       | Archaea;Thaumarchaeota;Marine Group I;Cenarchaeales;Cenarchaeaceae;Cenarchaeum;Cenarchaeum symbiosum                                                                     | 230                                                                                                                                                                      | 18                                                                                                                                                                       | 40                                                                                                                                                                       | 0                                                                                                                                                                        | /ebio/abt3_projects/databases_no-backup/DeepMAsED/version2/ref_genomes/GTDBr89/genomes_quality/genbank/archaea/GCA_000200715.1/GCA_000200715.1_ASM20071v1_genomic.fna.gz | \n",
       "| RS_GCF_000812185.1                                                                                                                                                       | d__Archaea                                                                                                                                                               | p__Crenarchaeota                                                                                                                                                         | c__Nitrososphaeria                                                                                                                                                       | o__Nitrososphaerales                                                                                                                                                     | f__Nitrosopumilaceae                                                                                                                                                     | g__Nitrosopelagicus                                                                                                                                                      | s__Nitrosopelagicus brevis                                                                                                                                               | 0                                                                                                                                                                        | 99.51                                                                                                                                                                    | ⋯                                                                                                                                                                        | 2713                                                                                                                                                                     | 0                                                                                                                                                                        | 100                                                                                                                                                                      | CP007026.477690.479162                                                                                                                                                   | Archaea;Thaumarchaeota;Marine Group I;Unknown Order;Unknown Family;Candidatus Nitrosopelagicus;Candidatus Nitrosopelagicus brevis                                        |   0                                                                                                                                                                      | 19                                                                                                                                                                       | 40                                                                                                                                                                       | 0                                                                                                                                                                        | /ebio/abt3_projects/databases_no-backup/DeepMAsED/version2/ref_genomes/GTDBr89/genomes_quality/genbank/archaea/GCA_000812185.1/GCA_000812185.1_ASM81218v1_genomic.fna.gz | \n",
       "\n",
       "\n"
      ],
      "text/plain": [
       "  accession          Domain     Phylum           Class             \n",
       "1 RS_GCF_000019605.1 d__Archaea p__Crenarchaeota c__Korarchaeia    \n",
       "2 GB_GCA_000200715.1 d__Archaea p__Crenarchaeota c__Nitrososphaeria\n",
       "3 RS_GCF_000812185.1 d__Archaea p__Crenarchaeota c__Nitrososphaeria\n",
       "  Order                Family               Genus              \n",
       "1 o__Korarchaeales     f__Korarchaeaceae    g__Korarchaeum     \n",
       "2 o__Nitrososphaerales f__Nitrosopumilaceae g__Cenarchaeum     \n",
       "3 o__Nitrososphaerales f__Nitrosopumilaceae g__Nitrosopelagicus\n",
       "  Species                    ambiguous_bases checkm_completeness ⋯\n",
       "1 s__Korarchaeum cryptofilum 0               93.39               ⋯\n",
       "2 s__Cenarchaeum symbiosum   1               99.03               ⋯\n",
       "3 s__Nitrosopelagicus brevis 0               99.51               ⋯\n",
       "  ssu_silva_blast_bitscore ssu_silva_blast_evalue ssu_silva_blast_perc_identity\n",
       "1 2645                     0                      100                          \n",
       "2 2715                     0                      100                          \n",
       "3 2713                     0                      100                          \n",
       "  ssu_silva_blast_subject_id\n",
       "1 CP000968.1326582.1328013  \n",
       "2 AF083071.5806.7278        \n",
       "3 CP007026.477690.479162    \n",
       "  ssu_silva_taxonomy                                                                                                                          \n",
       "1 Archaea;Korarchaeota;Korarchaeota Incertae Sedis;Unknown Order;Unknown Family;Candidatus Korarchaeum;Candidatus Korarchaeum cryptofilum OPF8\n",
       "2 Archaea;Thaumarchaeota;Marine Group I;Cenarchaeales;Cenarchaeaceae;Cenarchaeum;Cenarchaeum symbiosum                                        \n",
       "3 Archaea;Thaumarchaeota;Marine Group I;Unknown Order;Unknown Family;Candidatus Nitrosopelagicus;Candidatus Nitrosopelagicus brevis           \n",
       "  total_gap_length trna_aa_count trna_count trna_selenocysteine_count\n",
       "1   0              19            45         0                        \n",
       "2 230              18            40         0                        \n",
       "3   0              19            40         0                        \n",
       "  fasta_file_path                                                                                                                                                         \n",
       "1 /ebio/abt3_projects/databases_no-backup/DeepMAsED/version2/ref_genomes/GTDBr89/genomes_quality/genbank/archaea/GCA_000019605.1/GCA_000019605.1_ASM1960v1_genomic.fna.gz \n",
       "2 /ebio/abt3_projects/databases_no-backup/DeepMAsED/version2/ref_genomes/GTDBr89/genomes_quality/genbank/archaea/GCA_000200715.1/GCA_000200715.1_ASM20071v1_genomic.fna.gz\n",
       "3 /ebio/abt3_projects/databases_no-backup/DeepMAsED/version2/ref_genomes/GTDBr89/genomes_quality/genbank/archaea/GCA_000812185.1/GCA_000812185.1_ASM81218v1_genomic.fna.gz"
      ]
     },
     "metadata": {},
     "output_type": "display_data"
    }
   ],
   "source": [
    "# metadata with path to genome added\n",
    "inF = file.path(work_dir, 'metadata_quality_wGen.tsv')\n",
    "metadata_f_s = read.delim(inF, sep='\\t') \n",
    "\n",
    "metadata_f_s %>% nrow\n",
    "metadata_f_s %>% head(n=3)"
   ]
  },
  {
   "cell_type": "code",
   "execution_count": 51,
   "metadata": {
    "ExecuteTime": {
     "end_time": "2020-02-16T18:54:59.871569Z",
     "start_time": "2020-02-16T18:54:57.646Z"
    }
   },
   "outputs": [
    {
     "data": {
      "text/html": [
       "148"
      ],
      "text/latex": [
       "148"
      ],
      "text/markdown": [
       "148"
      ],
      "text/plain": [
       "[1] 148"
      ]
     },
     "metadata": {},
     "output_type": "display_data"
    }
   ],
   "source": [
    "# no downloaded genome\n",
    "metadata_f_s %>%\n",
    "    filter(is.na(fasta_file_path)) %>%\n",
    "    nrow"
   ]
  },
  {
   "cell_type": "code",
   "execution_count": 52,
   "metadata": {
    "ExecuteTime": {
     "end_time": "2020-02-16T18:54:59.964144Z",
     "start_time": "2020-02-16T18:54:58.238Z"
    }
   },
   "outputs": [
    {
     "data": {
      "text/html": [
       "19331"
      ],
      "text/latex": [
       "19331"
      ],
      "text/markdown": [
       "19331"
      ],
      "text/plain": [
       "[1] 19331"
      ]
     },
     "metadata": {},
     "output_type": "display_data"
    }
   ],
   "source": [
    "# filtering out records lacking a genome\n",
    "metadata_f_s = metadata_f_s %>%\n",
    "    filter(!is.na(fasta_file_path))\n",
    "metadata_f_s %>% nrow"
   ]
  },
  {
   "cell_type": "markdown",
   "metadata": {},
   "source": [
    "# Train/test partition methods\n",
    "\n",
    "Which method to use to partition genomes into train and test:\n",
    "\n",
    "* random selection\n",
    "* per-tax_level  (genomes of tax_level only found in train or test)\n",
    "  * essentially `blocking` by taxonomic level"
   ]
  },
  {
   "cell_type": "markdown",
   "metadata": {},
   "source": [
    "## Random"
   ]
  },
  {
   "cell_type": "code",
   "execution_count": 53,
   "metadata": {
    "ExecuteTime": {
     "end_time": "2020-02-16T18:55:01.896713Z",
     "start_time": "2020-02-16T18:55:01.831Z"
    }
   },
   "outputs": [],
   "source": [
    "# how many genomes per partition?\n",
    "n_per_part = 9000"
   ]
  },
  {
   "cell_type": "code",
   "execution_count": 54,
   "metadata": {
    "ExecuteTime": {
     "end_time": "2020-02-16T18:55:02.075100Z",
     "start_time": "2020-02-16T18:55:01.966Z"
    }
   },
   "outputs": [
    {
     "data": {
      "text/html": [
       "0"
      ],
      "text/latex": [
       "0"
      ],
      "text/markdown": [
       "0"
      ],
      "text/plain": [
       "[1] 0"
      ]
     },
     "metadata": {},
     "output_type": "display_data"
    },
    {
     "data": {
      "text/html": [
       "9000"
      ],
      "text/latex": [
       "9000"
      ],
      "text/markdown": [
       "9000"
      ],
      "text/plain": [
       "[1] 9000"
      ]
     },
     "metadata": {},
     "output_type": "display_data"
    },
    {
     "data": {
      "text/html": [
       "9000"
      ],
      "text/latex": [
       "9000"
      ],
      "text/markdown": [
       "9000"
      ],
      "text/plain": [
       "[1] 9000"
      ]
     },
     "metadata": {},
     "output_type": "display_data"
    }
   ],
   "source": [
    "# partitioning\n",
    "train = sample(1:nrow(metadata_f_s), n_per_part)\n",
    "test = 1:nrow(metadata_f_s)\n",
    "test = sample(test[!test %in% train], n_per_part)\n",
    "\n",
    "intersect(train, test) %>% length\n",
    "train %>% length\n",
    "test %>% length"
   ]
  },
  {
   "cell_type": "code",
   "execution_count": 55,
   "metadata": {
    "ExecuteTime": {
     "end_time": "2020-02-16T18:55:03.710917Z",
     "start_time": "2020-02-16T18:55:02.566Z"
    }
   },
   "outputs": [
    {
     "data": {
      "text/html": [
       "18000"
      ],
      "text/latex": [
       "18000"
      ],
      "text/markdown": [
       "18000"
      ],
      "text/plain": [
       "[1] 18000"
      ]
     },
     "metadata": {},
     "output_type": "display_data"
    },
    {
     "data": {
      "text/html": [
       "<table>\n",
       "<thead><tr><th></th><th scope=col>accession</th><th scope=col>Domain</th><th scope=col>Phylum</th><th scope=col>Class</th><th scope=col>Order</th><th scope=col>Family</th><th scope=col>Genus</th><th scope=col>Species</th><th scope=col>ambiguous_bases</th><th scope=col>checkm_completeness</th><th scope=col>⋯</th><th scope=col>ssu_silva_blast_evalue</th><th scope=col>ssu_silva_blast_perc_identity</th><th scope=col>ssu_silva_blast_subject_id</th><th scope=col>ssu_silva_taxonomy</th><th scope=col>total_gap_length</th><th scope=col>trna_aa_count</th><th scope=col>trna_count</th><th scope=col>trna_selenocysteine_count</th><th scope=col>fasta_file_path</th><th scope=col>dataset_partition</th></tr></thead>\n",
       "<tbody>\n",
       "\t<tr><th scope=row>3412</th><td>RS_GCF_000478885.1                                                                                                                                                        </td><td>d__Bacteria                                                                                                                                                               </td><td>p__Actinobacteriota                                                                                                                                                       </td><td>c__Coriobacteriia                                                                                                                                                         </td><td>o__Coriobacteriales                                                                                                                                                       </td><td>f__Eggerthellaceae                                                                                                                                                        </td><td>g__Adlercreutzia                                                                                                                                                          </td><td>s__Adlercreutzia equolifaciens                                                                                                                                            </td><td>0                                                                                                                                                                         </td><td>100.00                                                                                                                                                                    </td><td>⋯                                                                                                                                                                         </td><td>0                                                                                                                                                                         </td><td>100.000                                                                                                                                                                   </td><td>AB649147.1.1469                                                                                                                                                           </td><td>Bacteria;Actinobacteria;Coriobacteriia;Coriobacteriales;Coriobacteriaceae;Adlercreutzia;Adlercreutzia equolifaciens                                                       </td><td>  0                                                                                                                                                                       </td><td>20                                                                                                                                                                        </td><td>48                                                                                                                                                                        </td><td>0                                                                                                                                                                         </td><td>/ebio/abt3_projects/databases_no-backup/DeepMAsED/version2/ref_genomes/GTDBr89/genomes_quality/genbank/bacteria/GCA_000478885.1/GCA_000478885.1_ASM47888v1_genomic.fna.gz </td><td>Train                                                                                                                                                                     </td></tr>\n",
       "\t<tr><th scope=row>6085</th><td>RS_GCF_002560615.1                                                                                                                                                        </td><td>d__Bacteria                                                                                                                                                               </td><td>p__Firmicutes                                                                                                                                                             </td><td>c__Bacilli                                                                                                                                                                </td><td>o__Bacillales                                                                                                                                                             </td><td>f__Bacillaceae_G                                                                                                                                                          </td><td>g__Bacillus_A                                                                                                                                                             </td><td>s__Bacillus_A cereus_AG                                                                                                                                                   </td><td>0                                                                                                                                                                         </td><td> 98.68                                                                                                                                                                    </td><td>⋯                                                                                                                                                                         </td><td>0                                                                                                                                                                         </td><td> 99.935                                                                                                                                                                   </td><td>CP010089.670406.671961                                                                                                                                                    </td><td>Bacteria;Firmicutes;Bacilli;Bacillales;Bacillaceae;Bacillus;Bacillus thuringiensis serovar galleriae                                                                      </td><td>368                                                                                                                                                                       </td><td>20                                                                                                                                                                        </td><td>63                                                                                                                                                                        </td><td>0                                                                                                                                                                         </td><td>/ebio/abt3_projects/databases_no-backup/DeepMAsED/version2/ref_genomes/GTDBr89/genomes_quality/genbank/bacteria/GCA_002560615.1/GCA_002560615.1_ASM256061v1_genomic.fna.gz</td><td>Train                                                                                                                                                                     </td></tr>\n",
       "\t<tr><th scope=row>4867</th><td>RS_GCF_001636615.1                                                                                                                                                        </td><td>d__Bacteria                                                                                                                                                               </td><td>p__Bacteroidota                                                                                                                                                           </td><td>c__Bacteroidia                                                                                                                                                            </td><td>o__Sphingobacteriales                                                                                                                                                     </td><td>f__Sphingobacteriaceae                                                                                                                                                    </td><td>g__Mucilaginibacter                                                                                                                                                       </td><td>s__Mucilaginibacter sp001636615                                                                                                                                           </td><td>0                                                                                                                                                                         </td><td> 98.10                                                                                                                                                                    </td><td>⋯                                                                                                                                                                         </td><td>0                                                                                                                                                                         </td><td>100.000                                                                                                                                                                   </td><td>JQ798421.1.1483                                                                                                                                                           </td><td>Bacteria;Bacteroidetes;Sphingobacteriia;Sphingobacteriales;Sphingobacteriaceae;Mucilaginibacter;uncultured bacterium                                                      </td><td>  0                                                                                                                                                                       </td><td>19                                                                                                                                                                        </td><td>44                                                                                                                                                                        </td><td>0                                                                                                                                                                         </td><td>/ebio/abt3_projects/databases_no-backup/DeepMAsED/version2/ref_genomes/GTDBr89/genomes_quality/genbank/bacteria/GCA_001636615.1/GCA_001636615.1_ASM163661v1_genomic.fna.gz</td><td>Train                                                                                                                                                                     </td></tr>\n",
       "</tbody>\n",
       "</table>\n"
      ],
      "text/latex": [
       "\\begin{tabular}{r|llllllllllllllllllllllllllllllllllllllllllllllllllllllllllllllllllllllllllllllllllllllllllllllllllllllllllllllllllllll}\n",
       "  & accession & Domain & Phylum & Class & Order & Family & Genus & Species & ambiguous\\_bases & checkm\\_completeness & ⋯ & ssu\\_silva\\_blast\\_evalue & ssu\\_silva\\_blast\\_perc\\_identity & ssu\\_silva\\_blast\\_subject\\_id & ssu\\_silva\\_taxonomy & total\\_gap\\_length & trna\\_aa\\_count & trna\\_count & trna\\_selenocysteine\\_count & fasta\\_file\\_path & dataset\\_partition\\\\\n",
       "\\hline\n",
       "\t3412 & RS\\_GCF\\_000478885.1                                                                                                                                                                     & d\\_\\_Bacteria                                                                                                                                                                            & p\\_\\_Actinobacteriota                                                                                                                                                                    & c\\_\\_Coriobacteriia                                                                                                                                                                      & o\\_\\_Coriobacteriales                                                                                                                                                                    & f\\_\\_Eggerthellaceae                                                                                                                                                                     & g\\_\\_Adlercreutzia                                                                                                                                                                       & s\\_\\_Adlercreutzia equolifaciens                                                                                                                                                         & 0                                                                                                                                                                                          & 100.00                                                                                                                                                                                     & ⋯                                                                                                                                                                                          & 0                                                                                                                                                                                          & 100.000                                                                                                                                                                                    & AB649147.1.1469                                                                                                                                                                            & Bacteria;Actinobacteria;Coriobacteriia;Coriobacteriales;Coriobacteriaceae;Adlercreutzia;Adlercreutzia equolifaciens                                                                        &   0                                                                                                                                                                                        & 20                                                                                                                                                                                         & 48                                                                                                                                                                                         & 0                                                                                                                                                                                          & /ebio/abt3\\_projects/databases\\_no-backup/DeepMAsED/version2/ref\\_genomes/GTDBr89/genomes\\_quality/genbank/bacteria/GCA\\_000478885.1/GCA\\_000478885.1\\_ASM47888v1\\_genomic.fna.gz  & Train                                                                                                                                                                                     \\\\\n",
       "\t6085 & RS\\_GCF\\_002560615.1                                                                                                                                                                     & d\\_\\_Bacteria                                                                                                                                                                            & p\\_\\_Firmicutes                                                                                                                                                                          & c\\_\\_Bacilli                                                                                                                                                                             & o\\_\\_Bacillales                                                                                                                                                                          & f\\_\\_Bacillaceae\\_G                                                                                                                                                                     & g\\_\\_Bacillus\\_A                                                                                                                                                                        & s\\_\\_Bacillus\\_A cereus\\_AG                                                                                                                                                            & 0                                                                                                                                                                                          &  98.68                                                                                                                                                                                     & ⋯                                                                                                                                                                                          & 0                                                                                                                                                                                          &  99.935                                                                                                                                                                                    & CP010089.670406.671961                                                                                                                                                                     & Bacteria;Firmicutes;Bacilli;Bacillales;Bacillaceae;Bacillus;Bacillus thuringiensis serovar galleriae                                                                                       & 368                                                                                                                                                                                        & 20                                                                                                                                                                                         & 63                                                                                                                                                                                         & 0                                                                                                                                                                                          & /ebio/abt3\\_projects/databases\\_no-backup/DeepMAsED/version2/ref\\_genomes/GTDBr89/genomes\\_quality/genbank/bacteria/GCA\\_002560615.1/GCA\\_002560615.1\\_ASM256061v1\\_genomic.fna.gz & Train                                                                                                                                                                                     \\\\\n",
       "\t4867 & RS\\_GCF\\_001636615.1                                                                                                                                                                     & d\\_\\_Bacteria                                                                                                                                                                            & p\\_\\_Bacteroidota                                                                                                                                                                        & c\\_\\_Bacteroidia                                                                                                                                                                         & o\\_\\_Sphingobacteriales                                                                                                                                                                  & f\\_\\_Sphingobacteriaceae                                                                                                                                                                 & g\\_\\_Mucilaginibacter                                                                                                                                                                    & s\\_\\_Mucilaginibacter sp001636615                                                                                                                                                        & 0                                                                                                                                                                                          &  98.10                                                                                                                                                                                     & ⋯                                                                                                                                                                                          & 0                                                                                                                                                                                          & 100.000                                                                                                                                                                                    & JQ798421.1.1483                                                                                                                                                                            & Bacteria;Bacteroidetes;Sphingobacteriia;Sphingobacteriales;Sphingobacteriaceae;Mucilaginibacter;uncultured bacterium                                                                       &   0                                                                                                                                                                                        & 19                                                                                                                                                                                         & 44                                                                                                                                                                                         & 0                                                                                                                                                                                          & /ebio/abt3\\_projects/databases\\_no-backup/DeepMAsED/version2/ref\\_genomes/GTDBr89/genomes\\_quality/genbank/bacteria/GCA\\_001636615.1/GCA\\_001636615.1\\_ASM163661v1\\_genomic.fna.gz & Train                                                                                                                                                                                     \\\\\n",
       "\\end{tabular}\n"
      ],
      "text/markdown": [
       "\n",
       "| <!--/--> | accession | Domain | Phylum | Class | Order | Family | Genus | Species | ambiguous_bases | checkm_completeness | ⋯ | ssu_silva_blast_evalue | ssu_silva_blast_perc_identity | ssu_silva_blast_subject_id | ssu_silva_taxonomy | total_gap_length | trna_aa_count | trna_count | trna_selenocysteine_count | fasta_file_path | dataset_partition | \n",
       "|---|---|---|\n",
       "| 3412 | RS_GCF_000478885.1                                                                                                                                                         | d__Bacteria                                                                                                                                                                | p__Actinobacteriota                                                                                                                                                        | c__Coriobacteriia                                                                                                                                                          | o__Coriobacteriales                                                                                                                                                        | f__Eggerthellaceae                                                                                                                                                         | g__Adlercreutzia                                                                                                                                                           | s__Adlercreutzia equolifaciens                                                                                                                                             | 0                                                                                                                                                                          | 100.00                                                                                                                                                                     | ⋯                                                                                                                                                                          | 0                                                                                                                                                                          | 100.000                                                                                                                                                                    | AB649147.1.1469                                                                                                                                                            | Bacteria;Actinobacteria;Coriobacteriia;Coriobacteriales;Coriobacteriaceae;Adlercreutzia;Adlercreutzia equolifaciens                                                        |   0                                                                                                                                                                        | 20                                                                                                                                                                         | 48                                                                                                                                                                         | 0                                                                                                                                                                          | /ebio/abt3_projects/databases_no-backup/DeepMAsED/version2/ref_genomes/GTDBr89/genomes_quality/genbank/bacteria/GCA_000478885.1/GCA_000478885.1_ASM47888v1_genomic.fna.gz  | Train                                                                                                                                                                      | \n",
       "| 6085 | RS_GCF_002560615.1                                                                                                                                                         | d__Bacteria                                                                                                                                                                | p__Firmicutes                                                                                                                                                              | c__Bacilli                                                                                                                                                                 | o__Bacillales                                                                                                                                                              | f__Bacillaceae_G                                                                                                                                                           | g__Bacillus_A                                                                                                                                                              | s__Bacillus_A cereus_AG                                                                                                                                                    | 0                                                                                                                                                                          |  98.68                                                                                                                                                                     | ⋯                                                                                                                                                                          | 0                                                                                                                                                                          |  99.935                                                                                                                                                                    | CP010089.670406.671961                                                                                                                                                     | Bacteria;Firmicutes;Bacilli;Bacillales;Bacillaceae;Bacillus;Bacillus thuringiensis serovar galleriae                                                                       | 368                                                                                                                                                                        | 20                                                                                                                                                                         | 63                                                                                                                                                                         | 0                                                                                                                                                                          | /ebio/abt3_projects/databases_no-backup/DeepMAsED/version2/ref_genomes/GTDBr89/genomes_quality/genbank/bacteria/GCA_002560615.1/GCA_002560615.1_ASM256061v1_genomic.fna.gz | Train                                                                                                                                                                      | \n",
       "| 4867 | RS_GCF_001636615.1                                                                                                                                                         | d__Bacteria                                                                                                                                                                | p__Bacteroidota                                                                                                                                                            | c__Bacteroidia                                                                                                                                                             | o__Sphingobacteriales                                                                                                                                                      | f__Sphingobacteriaceae                                                                                                                                                     | g__Mucilaginibacter                                                                                                                                                        | s__Mucilaginibacter sp001636615                                                                                                                                            | 0                                                                                                                                                                          |  98.10                                                                                                                                                                     | ⋯                                                                                                                                                                          | 0                                                                                                                                                                          | 100.000                                                                                                                                                                    | JQ798421.1.1483                                                                                                                                                            | Bacteria;Bacteroidetes;Sphingobacteriia;Sphingobacteriales;Sphingobacteriaceae;Mucilaginibacter;uncultured bacterium                                                       |   0                                                                                                                                                                        | 19                                                                                                                                                                         | 44                                                                                                                                                                         | 0                                                                                                                                                                          | /ebio/abt3_projects/databases_no-backup/DeepMAsED/version2/ref_genomes/GTDBr89/genomes_quality/genbank/bacteria/GCA_001636615.1/GCA_001636615.1_ASM163661v1_genomic.fna.gz | Train                                                                                                                                                                      | \n",
       "\n",
       "\n"
      ],
      "text/plain": [
       "     accession          Domain      Phylum              Class            \n",
       "3412 RS_GCF_000478885.1 d__Bacteria p__Actinobacteriota c__Coriobacteriia\n",
       "6085 RS_GCF_002560615.1 d__Bacteria p__Firmicutes       c__Bacilli       \n",
       "4867 RS_GCF_001636615.1 d__Bacteria p__Bacteroidota     c__Bacteroidia   \n",
       "     Order                 Family                 Genus              \n",
       "3412 o__Coriobacteriales   f__Eggerthellaceae     g__Adlercreutzia   \n",
       "6085 o__Bacillales         f__Bacillaceae_G       g__Bacillus_A      \n",
       "4867 o__Sphingobacteriales f__Sphingobacteriaceae g__Mucilaginibacter\n",
       "     Species                         ambiguous_bases checkm_completeness ⋯\n",
       "3412 s__Adlercreutzia equolifaciens  0               100.00              ⋯\n",
       "6085 s__Bacillus_A cereus_AG         0                98.68              ⋯\n",
       "4867 s__Mucilaginibacter sp001636615 0                98.10              ⋯\n",
       "     ssu_silva_blast_evalue ssu_silva_blast_perc_identity\n",
       "3412 0                      100.000                      \n",
       "6085 0                       99.935                      \n",
       "4867 0                      100.000                      \n",
       "     ssu_silva_blast_subject_id\n",
       "3412 AB649147.1.1469           \n",
       "6085 CP010089.670406.671961    \n",
       "4867 JQ798421.1.1483           \n",
       "     ssu_silva_taxonomy                                                                                                  \n",
       "3412 Bacteria;Actinobacteria;Coriobacteriia;Coriobacteriales;Coriobacteriaceae;Adlercreutzia;Adlercreutzia equolifaciens \n",
       "6085 Bacteria;Firmicutes;Bacilli;Bacillales;Bacillaceae;Bacillus;Bacillus thuringiensis serovar galleriae                \n",
       "4867 Bacteria;Bacteroidetes;Sphingobacteriia;Sphingobacteriales;Sphingobacteriaceae;Mucilaginibacter;uncultured bacterium\n",
       "     total_gap_length trna_aa_count trna_count trna_selenocysteine_count\n",
       "3412   0              20            48         0                        \n",
       "6085 368              20            63         0                        \n",
       "4867   0              19            44         0                        \n",
       "     fasta_file_path                                                                                                                                                           \n",
       "3412 /ebio/abt3_projects/databases_no-backup/DeepMAsED/version2/ref_genomes/GTDBr89/genomes_quality/genbank/bacteria/GCA_000478885.1/GCA_000478885.1_ASM47888v1_genomic.fna.gz \n",
       "6085 /ebio/abt3_projects/databases_no-backup/DeepMAsED/version2/ref_genomes/GTDBr89/genomes_quality/genbank/bacteria/GCA_002560615.1/GCA_002560615.1_ASM256061v1_genomic.fna.gz\n",
       "4867 /ebio/abt3_projects/databases_no-backup/DeepMAsED/version2/ref_genomes/GTDBr89/genomes_quality/genbank/bacteria/GCA_001636615.1/GCA_001636615.1_ASM163661v1_genomic.fna.gz\n",
       "     dataset_partition\n",
       "3412 Train            \n",
       "6085 Train            \n",
       "4867 Train            "
      ]
     },
     "metadata": {},
     "output_type": "display_data"
    }
   ],
   "source": [
    "# formatting\n",
    "x = metadata_f_s[train,]\n",
    "x$dataset_partition = 'Train'\n",
    "\n",
    "y = metadata_f_s[test,]\n",
    "y$dataset_partition = 'Test'\n",
    "\n",
    "metadata_f_s_p = rbind(x,y)\n",
    "x = y = NULL\n",
    "metadata_f_s_p %>% nrow\n",
    "metadata_f_s_p %>% head(n=3)"
   ]
  },
  {
   "cell_type": "markdown",
   "metadata": {},
   "source": [
    "### Taxonomy overlap"
   ]
  },
  {
   "cell_type": "code",
   "execution_count": 56,
   "metadata": {
    "ExecuteTime": {
     "end_time": "2020-02-16T18:55:06.623979Z",
     "start_time": "2020-02-16T18:55:06.566Z"
    }
   },
   "outputs": [],
   "source": [
    "# species level\n",
    "tax_overlap = function(df){\n",
    "    cat('--- Species ---\\n')\n",
    "    df %>%\n",
    "        group_by(Domain, Phylum, Class, Order, Family, Genus, Species, dataset_partition) %>%\n",
    "        summarize(n_acc = n_distinct(accession)) %>%\n",
    "        ungroup() %>%\n",
    "        spread(dataset_partition, n_acc, fill=0) %>%\n",
    "        group_by(Domain, Phylum, Class, Order, Family, Genus, Species) %>%\n",
    "        mutate(perc_acc_shared = min(c(Test, Train)) / ((Test + Train)/2) * 100) %>%\n",
    "        .$perc_acc_shared %>% summary %>% print\n",
    "    cat('--- Genus ---\\n')\n",
    "    df %>%\n",
    "        group_by(Domain, Phylum, Class, Order, Family, Genus, dataset_partition) %>%\n",
    "        summarize(n_acc = n_distinct(accession)) %>%\n",
    "        ungroup() %>%\n",
    "        spread(dataset_partition, n_acc, fill=0) %>%\n",
    "        group_by(Domain, Phylum, Class, Order, Family, Genus) %>%\n",
    "        mutate(perc_acc_shared = min(c(Test, Train)) / ((Test + Train)/2) * 100) %>%\n",
    "        .$perc_acc_shared %>% summary %>% print\n",
    "    cat('--- Family ---\\n')\n",
    "    df %>%\n",
    "        group_by(Domain, Phylum, Class, Order, Family, dataset_partition) %>%\n",
    "        summarize(n_acc = n_distinct(accession)) %>%\n",
    "        ungroup() %>%\n",
    "        spread(dataset_partition, n_acc, fill=0) %>%\n",
    "        group_by(Domain, Phylum, Class, Order, Family) %>%\n",
    "        mutate(perc_acc_shared = min(c(Test, Train)) / ((Test + Train)/2) * 100) %>%\n",
    "        .$perc_acc_shared %>% summary %>% print\n",
    "    cat('--- Order ---\\n')\n",
    "    df %>%\n",
    "        group_by(Domain, Phylum, Class, Order, dataset_partition) %>%\n",
    "        summarize(n_acc = n_distinct(accession)) %>%\n",
    "        ungroup() %>%\n",
    "        spread(dataset_partition, n_acc, fill=0) %>%\n",
    "        group_by(Domain, Phylum, Class, Order) %>%\n",
    "        mutate(perc_acc_shared = min(c(Test, Train)) / ((Test + Train)/2) * 100) %>%\n",
    "        .$perc_acc_shared %>% summary %>% print\n",
    "    cat('--- Class ---\\n')\n",
    "    df %>%\n",
    "        group_by(Domain, Phylum, Class, dataset_partition) %>%\n",
    "        summarize(n_acc = n_distinct(accession)) %>%\n",
    "        ungroup() %>%\n",
    "        spread(dataset_partition, n_acc, fill=0) %>%\n",
    "        group_by(Domain, Phylum, Class) %>%\n",
    "        mutate(perc_acc_shared = min(c(Test, Train)) / ((Test + Train)/2) * 100) %>%\n",
    "        .$perc_acc_shared %>% summary %>% print\n",
    "    cat('--- Phylum ---\\n')\n",
    "    df %>%\n",
    "        group_by(Domain, Phylum, dataset_partition) %>%\n",
    "        summarize(n_acc = n_distinct(accession)) %>%\n",
    "        ungroup() %>%\n",
    "        spread(dataset_partition, n_acc, fill=0) %>%\n",
    "        group_by(Domain, Phylum) %>%\n",
    "        mutate(perc_acc_shared = min(c(Test, Train)) / ((Test + Train)/2) * 100) %>%\n",
    "        .$perc_acc_shared %>% summary %>% print\n",
    "}"
   ]
  },
  {
   "cell_type": "code",
   "execution_count": 57,
   "metadata": {
    "ExecuteTime": {
     "end_time": "2020-02-16T18:55:12.214724Z",
     "start_time": "2020-02-16T18:55:07.662Z"
    }
   },
   "outputs": [
    {
     "name": "stdout",
     "output_type": "stream",
     "text": [
      "--- Species ---\n",
      "   Min. 1st Qu.  Median    Mean 3rd Qu.    Max. \n",
      "   0.00    0.00    0.00   17.02    0.00  100.00 \n",
      "--- Genus ---\n",
      "   Min. 1st Qu.  Median    Mean 3rd Qu.    Max. \n",
      "   0.00    0.00    0.00   32.41   70.29  100.00 \n",
      "--- Family ---\n",
      "   Min. 1st Qu.  Median    Mean 3rd Qu.    Max. \n",
      "   0.00    0.00   57.98   46.45   89.24  100.00 \n",
      "--- Order ---\n",
      "   Min. 1st Qu.  Median    Mean 3rd Qu.    Max. \n",
      "   0.00    0.00   66.67   51.67   92.68  100.00 \n",
      "--- Class ---\n",
      "   Min. 1st Qu.  Median    Mean 3rd Qu.    Max. \n",
      "   0.00    0.00   80.00   59.08   97.71  100.00 \n",
      "--- Phylum ---\n",
      "   Min. 1st Qu.  Median    Mean 3rd Qu.    Max. \n",
      "   0.00   56.67   88.89   69.25   98.05  100.00 \n"
     ]
    }
   ],
   "source": [
    "tax_overlap(metadata_f_s_p)"
   ]
  },
  {
   "cell_type": "markdown",
   "metadata": {},
   "source": [
    "### Writing tables"
   ]
  },
  {
   "cell_type": "code",
   "execution_count": 61,
   "metadata": {
    "ExecuteTime": {
     "end_time": "2020-02-16T19:14:24.039968Z",
     "start_time": "2020-02-16T19:14:22.676Z"
    }
   },
   "outputs": [
    {
     "name": "stdout",
     "output_type": "stream",
     "text": [
      "File written: /ebio/abt3_projects/databases_no-backup/DeepMAsED/version2/ref_genomes/GTDBr89//metadata_n9000-rand.tsv \n"
     ]
    }
   ],
   "source": [
    "# all\n",
    "outF = file.path(work_dir, 'metadata_n9000-rand.tsv')\n",
    "metadata_f_s_p %>%\n",
    "    write.table(file=outF, sep='\\t', quote=FALSE, row.names=FALSE)\n",
    "cat('File written:', outF, '\\n')"
   ]
  },
  {
   "cell_type": "code",
   "execution_count": 62,
   "metadata": {
    "ExecuteTime": {
     "end_time": "2020-02-16T19:14:35.892005Z",
     "start_time": "2020-02-16T19:14:35.404Z"
    }
   },
   "outputs": [
    {
     "name": "stdout",
     "output_type": "stream",
     "text": [
      "File written: /ebio/abt3_projects/databases_no-backup/DeepMAsED/version2/ref_genomes/GTDBr89//metadata_n9000-rand_train.tsv \n"
     ]
    }
   ],
   "source": [
    "# train\n",
    "outF = file.path(work_dir, 'metadata_n9000-rand_train.tsv')\n",
    "metadata_f_s_p %>%\n",
    "    filter(dataset_partition == 'Train') %>%\n",
    "    rename('Taxon' = accession,\n",
    "           'Fasta' = fasta_file_path) %>%\n",
    "    distinct(Taxon, Fasta) %>%\n",
    "    write.table(file=outF, sep='\\t', quote=FALSE, row.names=FALSE)\n",
    "cat('File written:', outF, '\\n')"
   ]
  },
  {
   "cell_type": "code",
   "execution_count": 63,
   "metadata": {
    "ExecuteTime": {
     "end_time": "2020-02-16T19:14:42.794368Z",
     "start_time": "2020-02-16T19:14:42.642Z"
    }
   },
   "outputs": [
    {
     "name": "stdout",
     "output_type": "stream",
     "text": [
      "File written: /ebio/abt3_projects/databases_no-backup/DeepMAsED/version2/ref_genomes/GTDBr89//metadata_n9000-rand_test.tsv \n"
     ]
    }
   ],
   "source": [
    "# test\n",
    "outF = file.path(work_dir, 'metadata_n9000-rand_test.tsv')\n",
    "metadata_f_s_p %>%\n",
    "    filter(dataset_partition == 'Test') %>%\n",
    "    rename('Taxon' = accession,\n",
    "           'Fasta' = fasta_file_path) %>%\n",
    "    distinct(Taxon, Fasta) %>%\n",
    "    write.table(file=outF, sep='\\t', quote=FALSE, row.names=FALSE)\n",
    "cat('File written:', outF, '\\n')"
   ]
  },
  {
   "cell_type": "markdown",
   "metadata": {},
   "source": [
    "## Block by species\n",
    "\n",
    "* all genomes from a species must be in the train or test"
   ]
  },
  {
   "cell_type": "code",
   "execution_count": 64,
   "metadata": {
    "ExecuteTime": {
     "end_time": "2020-02-16T19:18:08.319195Z",
     "start_time": "2020-02-16T19:18:06.773Z"
    }
   },
   "outputs": [
    {
     "data": {
      "text/plain": [
       ".\n",
       " Test Train \n",
       " 9000  9000 "
      ]
     },
     "metadata": {},
     "output_type": "display_data"
    },
    {
     "data": {
      "text/html": [
       "18000"
      ],
      "text/latex": [
       "18000"
      ],
      "text/markdown": [
       "18000"
      ],
      "text/plain": [
       "[1] 18000"
      ]
     },
     "metadata": {},
     "output_type": "display_data"
    }
   ],
   "source": [
    "metadata_f_s_p = metadata_f_s %>%\n",
    "    group_by(Domain, Phylum, Class, Order, Family, Genus, Species) %>%\n",
    "    mutate(dataset_partition = sample(c('Train', 'Test'), 1)) %>%\n",
    "    group_by(dataset_partition) %>%\n",
    "    sample_n(n_per_part) \n",
    "\n",
    "metadata_f_s_p$dataset_partition %>% table \n",
    "metadata_f_s_p %>% nrow"
   ]
  },
  {
   "cell_type": "markdown",
   "metadata": {},
   "source": [
    "### Taxonomy overlap"
   ]
  },
  {
   "cell_type": "code",
   "execution_count": 65,
   "metadata": {
    "ExecuteTime": {
     "end_time": "2020-02-16T19:18:12.045316Z",
     "start_time": "2020-02-16T19:18:08.441Z"
    }
   },
   "outputs": [
    {
     "name": "stdout",
     "output_type": "stream",
     "text": [
      "--- Species ---\n",
      "   Min. 1st Qu.  Median    Mean 3rd Qu.    Max. \n",
      "      0       0       0       0       0       0 \n",
      "--- Genus ---\n",
      "   Min. 1st Qu.  Median    Mean 3rd Qu.    Max. \n",
      "   0.00    0.00    0.00   25.31   66.67  100.00 \n",
      "--- Family ---\n",
      "   Min. 1st Qu.  Median    Mean 3rd Qu.    Max. \n",
      "   0.00    0.00   40.00   41.76   84.45  100.00 \n",
      "--- Order ---\n",
      "   Min. 1st Qu.  Median    Mean 3rd Qu.    Max. \n",
      "   0.00    0.00   53.57   46.56   88.24  100.00 \n",
      "--- Class ---\n",
      "   Min. 1st Qu.  Median    Mean 3rd Qu.    Max. \n",
      "   0.00    0.00   66.67   52.65   91.87  100.00 \n",
      "--- Phylum ---\n",
      "   Min. 1st Qu.  Median    Mean 3rd Qu.    Max. \n",
      "   0.00   39.39   85.43   65.42   96.00  100.00 \n"
     ]
    }
   ],
   "source": [
    "tax_overlap(metadata_f_s_p)"
   ]
  },
  {
   "cell_type": "markdown",
   "metadata": {},
   "source": [
    "### Writing table"
   ]
  },
  {
   "cell_type": "code",
   "execution_count": 67,
   "metadata": {
    "ExecuteTime": {
     "end_time": "2020-02-16T19:19:22.747486Z",
     "start_time": "2020-02-16T19:19:21.262Z"
    }
   },
   "outputs": [
    {
     "name": "stdout",
     "output_type": "stream",
     "text": [
      "File written: /ebio/abt3_projects/databases_no-backup/DeepMAsED/version2/ref_genomes/GTDBr89//metadata_n9000-speciesBlock.tsv \n"
     ]
    }
   ],
   "source": [
    "# all\n",
    "outF = file.path(work_dir, 'metadata_n9000-speciesBlock.tsv')\n",
    "metadata_f_s_p %>%\n",
    "    write.table(file=outF, sep='\\t', quote=FALSE, row.names=FALSE)\n",
    "cat('File written:', outF, '\\n')"
   ]
  },
  {
   "cell_type": "code",
   "execution_count": 68,
   "metadata": {
    "ExecuteTime": {
     "end_time": "2020-02-16T19:19:44.330422Z",
     "start_time": "2020-02-16T19:19:44.149Z"
    }
   },
   "outputs": [
    {
     "name": "stdout",
     "output_type": "stream",
     "text": [
      "File written: /ebio/abt3_projects/databases_no-backup/DeepMAsED/version2/ref_genomes/GTDBr89//metadata_n9000-speciesBlock_train.tsv \n"
     ]
    }
   ],
   "source": [
    "# train\n",
    "outF = file.path(work_dir, 'metadata_n9000-speciesBlock_train.tsv')\n",
    "metadata_f_s_p %>%\n",
    "    filter(dataset_partition == 'Train') %>%\n",
    "    rename('Taxon' = accession,\n",
    "           'Fasta' = fasta_file_path) %>%\n",
    "    distinct(Taxon, Fasta) %>%\n",
    "    write.table(file=outF, sep='\\t', quote=FALSE, row.names=FALSE)\n",
    "cat('File written:', outF, '\\n')"
   ]
  },
  {
   "cell_type": "code",
   "execution_count": 69,
   "metadata": {
    "ExecuteTime": {
     "end_time": "2020-02-16T19:19:58.859747Z",
     "start_time": "2020-02-16T19:19:58.701Z"
    }
   },
   "outputs": [
    {
     "name": "stdout",
     "output_type": "stream",
     "text": [
      "File written: /ebio/abt3_projects/databases_no-backup/DeepMAsED/version2/ref_genomes/GTDBr89//metadata_n9000-speciesBlock_test.tsv \n"
     ]
    }
   ],
   "source": [
    "# test\n",
    "outF = file.path(work_dir, 'metadata_n9000-speciesBlock_test.tsv')\n",
    "metadata_f_s_p %>%\n",
    "    filter(dataset_partition == 'Test') %>%\n",
    "    rename('Taxon' = accession,\n",
    "           'Fasta' = fasta_file_path) %>%\n",
    "    distinct(Taxon, Fasta) %>%\n",
    "    write.table(file=outF, sep='\\t', quote=FALSE, row.names=FALSE)\n",
    "cat('File written:', outF, '\\n')"
   ]
  },
  {
   "cell_type": "markdown",
   "metadata": {},
   "source": [
    "## Block by genus"
   ]
  },
  {
   "cell_type": "code",
   "execution_count": 72,
   "metadata": {
    "ExecuteTime": {
     "end_time": "2020-02-16T19:20:15.257690Z",
     "start_time": "2020-02-16T19:20:13.332Z"
    }
   },
   "outputs": [
    {
     "data": {
      "text/plain": [
       ".\n",
       " Test Train \n",
       " 9000  9000 "
      ]
     },
     "metadata": {},
     "output_type": "display_data"
    },
    {
     "data": {
      "text/html": [
       "18000"
      ],
      "text/latex": [
       "18000"
      ],
      "text/markdown": [
       "18000"
      ],
      "text/plain": [
       "[1] 18000"
      ]
     },
     "metadata": {},
     "output_type": "display_data"
    }
   ],
   "source": [
    "metadata_f_s_p = metadata_f_s %>%\n",
    "    group_by(Domain, Phylum, Class, Order, Family, Genus) %>%\n",
    "    mutate(dataset_partition = sample(c('Train', 'Test'), 1)) %>%\n",
    "    group_by(dataset_partition) %>%\n",
    "    sample_n(n_per_part) \n",
    "\n",
    "metadata_f_s_p$dataset_partition %>% table \n",
    "metadata_f_s_p %>% nrow"
   ]
  },
  {
   "cell_type": "markdown",
   "metadata": {},
   "source": [
    "### Taxonomy overlap"
   ]
  },
  {
   "cell_type": "code",
   "execution_count": 73,
   "metadata": {
    "ExecuteTime": {
     "end_time": "2020-02-16T19:20:18.480407Z",
     "start_time": "2020-02-16T19:20:14.883Z"
    }
   },
   "outputs": [
    {
     "name": "stdout",
     "output_type": "stream",
     "text": [
      "--- Species ---\n",
      "   Min. 1st Qu.  Median    Mean 3rd Qu.    Max. \n",
      "      0       0       0       0       0       0 \n",
      "--- Genus ---\n",
      "   Min. 1st Qu.  Median    Mean 3rd Qu.    Max. \n",
      "      0       0       0       0       0       0 \n",
      "--- Family ---\n",
      "   Min. 1st Qu.  Median    Mean 3rd Qu.    Max. \n",
      "   0.00    0.00    0.00   23.69   50.00  100.00 \n",
      "--- Order ---\n",
      "   Min. 1st Qu.  Median    Mean 3rd Qu.    Max. \n",
      "   0.00    0.00   12.48   32.60   66.67  100.00 \n",
      "--- Class ---\n",
      "   Min. 1st Qu.  Median    Mean 3rd Qu.    Max. \n",
      "   0.00    0.00   31.88   37.77   72.73  100.00 \n",
      "--- Phylum ---\n",
      "   Min. 1st Qu.  Median    Mean 3rd Qu.    Max. \n",
      "   0.00   18.18   57.14   51.68   77.98  100.00 \n"
     ]
    }
   ],
   "source": [
    "tax_overlap(metadata_f_s_p)"
   ]
  },
  {
   "cell_type": "markdown",
   "metadata": {},
   "source": [
    "### Writing table"
   ]
  },
  {
   "cell_type": "code",
   "execution_count": 74,
   "metadata": {
    "ExecuteTime": {
     "end_time": "2020-02-16T19:20:25.415565Z",
     "start_time": "2020-02-16T19:20:23.608Z"
    }
   },
   "outputs": [
    {
     "name": "stdout",
     "output_type": "stream",
     "text": [
      "File written: /ebio/abt3_projects/databases_no-backup/DeepMAsED/version2/ref_genomes/GTDBr89//metadata_n9000-genusBlock.tsv \n"
     ]
    }
   ],
   "source": [
    "# all\n",
    "outF = file.path(work_dir, 'metadata_n9000-genusBlock.tsv')\n",
    "metadata_f_s_p %>%\n",
    "    write.table(file=outF, sep='\\t', quote=FALSE, row.names=FALSE)\n",
    "cat('File written:', outF, '\\n')"
   ]
  },
  {
   "cell_type": "code",
   "execution_count": 75,
   "metadata": {
    "ExecuteTime": {
     "end_time": "2020-02-16T19:20:40.858400Z",
     "start_time": "2020-02-16T19:20:40.708Z"
    }
   },
   "outputs": [
    {
     "name": "stdout",
     "output_type": "stream",
     "text": [
      "File written: /ebio/abt3_projects/databases_no-backup/DeepMAsED/version2/ref_genomes/GTDBr89//metadata_n9000-genusBlock_train.tsv \n"
     ]
    }
   ],
   "source": [
    "# train\n",
    "outF = file.path(work_dir, 'metadata_n9000-genusBlock_train.tsv')\n",
    "metadata_f_s_p %>%\n",
    "    filter(dataset_partition == 'Train') %>%\n",
    "    rename('Taxon' = accession,\n",
    "           'Fasta' = fasta_file_path) %>%\n",
    "    distinct(Taxon, Fasta) %>%\n",
    "    write.table(file=outF, sep='\\t', quote=FALSE, row.names=FALSE)\n",
    "cat('File written:', outF, '\\n')"
   ]
  },
  {
   "cell_type": "code",
   "execution_count": 76,
   "metadata": {
    "ExecuteTime": {
     "end_time": "2020-02-16T19:20:56.452812Z",
     "start_time": "2020-02-16T19:20:56.296Z"
    }
   },
   "outputs": [
    {
     "name": "stdout",
     "output_type": "stream",
     "text": [
      "File written: /ebio/abt3_projects/databases_no-backup/DeepMAsED/version2/ref_genomes/GTDBr89//metadata_n9000-genusBlock_test.tsv \n"
     ]
    }
   ],
   "source": [
    "# test\n",
    "outF = file.path(work_dir, 'metadata_n9000-genusBlock_test.tsv')\n",
    "metadata_f_s_p %>%\n",
    "    filter(dataset_partition == 'Test') %>%\n",
    "    rename('Taxon' = accession,\n",
    "           'Fasta' = fasta_file_path) %>%\n",
    "    distinct(Taxon, Fasta) %>%\n",
    "    write.table(file=outF, sep='\\t', quote=FALSE, row.names=FALSE)\n",
    "cat('File written:', outF, '\\n')"
   ]
  },
  {
   "cell_type": "markdown",
   "metadata": {},
   "source": [
    "# sessionInfo"
   ]
  },
  {
   "cell_type": "code",
   "execution_count": 49,
   "metadata": {
    "ExecuteTime": {
     "end_time": "2020-02-16T18:40:57.133176Z",
     "start_time": "2020-02-16T18:40:55.334Z"
    }
   },
   "outputs": [
    {
     "data": {
      "text/plain": [
       "R version 3.4.1 (2017-06-30)\n",
       "Platform: x86_64-pc-linux-gnu (64-bit)\n",
       "Running under: Ubuntu 18.04.3 LTS\n",
       "\n",
       "Matrix products: default\n",
       "BLAS: /ebio/abt3_projects/software/miniconda3_gt4.4/envs/py3_physeq/lib/R/lib/libRblas.so\n",
       "LAPACK: /ebio/abt3_projects/software/miniconda3_gt4.4/envs/py3_physeq/lib/R/lib/libRlapack.so\n",
       "\n",
       "locale:\n",
       " [1] LC_CTYPE=en_US.UTF-8       LC_NUMERIC=C              \n",
       " [3] LC_TIME=en_US.UTF-8        LC_COLLATE=en_US.UTF-8    \n",
       " [5] LC_MONETARY=en_US.UTF-8    LC_MESSAGES=en_US.UTF-8   \n",
       " [7] LC_PAPER=en_US.UTF-8       LC_NAME=C                 \n",
       " [9] LC_ADDRESS=C               LC_TELEPHONE=C            \n",
       "[11] LC_MEASUREMENT=en_US.UTF-8 LC_IDENTIFICATION=C       \n",
       "\n",
       "attached base packages:\n",
       "[1] stats     graphics  grDevices utils     datasets  methods   base     \n",
       "\n",
       "other attached packages:\n",
       "[1] bindrcpp_0.2.2    data.table_1.11.4 ggplot2_3.0.0     tidyr_0.8.1      \n",
       "[5] dplyr_0.7.6      \n",
       "\n",
       "loaded via a namespace (and not attached):\n",
       " [1] Rcpp_0.12.17     pillar_1.2.2     compiler_3.4.1   plyr_1.8.4      \n",
       " [5] bindr_0.1.1      base64enc_0.1-3  tools_3.4.1      digest_0.6.15   \n",
       " [9] uuid_0.1-2       jsonlite_1.5     evaluate_0.10.1  tibble_1.4.2    \n",
       "[13] gtable_0.2.0     pkgconfig_2.0.1  rlang_0.2.1      IRdisplay_0.4.4 \n",
       "[17] curl_3.2         IRkernel_0.8.12  repr_0.15.0      withr_2.1.1     \n",
       "[21] stringr_1.3.1    grid_3.4.1       tidyselect_0.2.4 glue_1.3.0      \n",
       "[25] R6_2.2.2         pbdZMQ_0.3-2     purrr_0.2.4      magrittr_1.5    \n",
       "[29] scales_0.5.0     htmltools_0.3.6  assertthat_0.2.0 colorspace_1.3-2\n",
       "[33] stringi_1.2.3    lazyeval_0.2.1   munsell_0.5.0    crayon_1.3.4    "
      ]
     },
     "metadata": {},
     "output_type": "display_data"
    }
   ],
   "source": [
    "sessionInfo()"
   ]
  },
  {
   "cell_type": "code",
   "execution_count": null,
   "metadata": {},
   "outputs": [],
   "source": []
  }
 ],
 "metadata": {
  "kernelspec": {
   "display_name": "R [conda env:py3_physeq]",
   "language": "R",
   "name": "conda-env-py3_physeq-r"
  },
  "language_info": {
   "codemirror_mode": "r",
   "file_extension": ".r",
   "mimetype": "text/x-r-source",
   "name": "R",
   "pygments_lexer": "r",
   "version": "3.4.1"
  },
  "notify_time": "30",
  "toc": {
   "base_numbering": 1,
   "nav_menu": {},
   "number_sections": true,
   "sideBar": true,
   "skip_h1_title": false,
   "title_cell": "Table of Contents",
   "title_sidebar": "Contents",
   "toc_cell": true,
   "toc_position": {},
   "toc_section_display": true,
   "toc_window_display": true
  }
 },
 "nbformat": 4,
 "nbformat_minor": 2
}
