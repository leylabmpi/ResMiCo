{
 "cells": [
  {
   "cell_type": "markdown",
   "metadata": {
    "toc": true
   },
   "source": [
    "<h1>Table of Contents<span class=\"tocSkip\"></span></h1>\n",
    "<div class=\"toc\"><ul class=\"toc-item\"><li><span><a href=\"#Goal\" data-toc-modified-id=\"Goal-1\"><span class=\"toc-item-num\">1&nbsp;&nbsp;</span>Goal</a></span></li><li><span><a href=\"#Var\" data-toc-modified-id=\"Var-2\"><span class=\"toc-item-num\">2&nbsp;&nbsp;</span>Var</a></span></li><li><span><a href=\"#Init\" data-toc-modified-id=\"Init-3\"><span class=\"toc-item-num\">3&nbsp;&nbsp;</span>Init</a></span></li><li><span><a href=\"#Load\" data-toc-modified-id=\"Load-4\"><span class=\"toc-item-num\">4&nbsp;&nbsp;</span>Load</a></span><ul class=\"toc-item\"><li><span><a href=\"#Checks\" data-toc-modified-id=\"Checks-4.1\"><span class=\"toc-item-num\">4.1&nbsp;&nbsp;</span>Checks</a></span></li></ul></li><li><span><a href=\"#Genomes-per-species\" data-toc-modified-id=\"Genomes-per-species-5\"><span class=\"toc-item-num\">5&nbsp;&nbsp;</span>Genomes per species</a></span></li><li><span><a href=\"#Subsetting\" data-toc-modified-id=\"Subsetting-6\"><span class=\"toc-item-num\">6&nbsp;&nbsp;</span>Subsetting</a></span><ul class=\"toc-item\"><li><ul class=\"toc-item\"><li><ul class=\"toc-item\"><li><span><a href=\"#Writing-tables\" data-toc-modified-id=\"Writing-tables-6.0.0.1\"><span class=\"toc-item-num\">6.0.0.1&nbsp;&nbsp;</span>Writing tables</a></span></li></ul></li></ul></li></ul></li><li><span><a href=\"#sessionInfo\" data-toc-modified-id=\"sessionInfo-7\"><span class=\"toc-item-num\">7&nbsp;&nbsp;</span>sessionInfo</a></span></li></ul></div>"
   ]
  },
  {
   "cell_type": "markdown",
   "metadata": {},
   "source": [
    "# Goal\n",
    "\n",
    "* Create high intra-species train/test splits from existing train/test data tables"
   ]
  },
  {
   "cell_type": "markdown",
   "metadata": {},
   "source": [
    "# Var"
   ]
  },
  {
   "cell_type": "code",
   "execution_count": 1,
   "metadata": {
    "ExecuteTime": {
     "end_time": "2022-02-09T09:29:21.195063Z",
     "start_time": "2022-02-09T09:29:21.053Z"
    }
   },
   "outputs": [],
   "source": [
    "work_dir = '/ebio/abt3_projects/databases_no-backup/DeepMAsED/version2/ref_genomes/GTDBr202/'\n",
    "train_file = file.path(work_dir, 'metadata_n9k-train.tsv')\n",
    "test_file = file.path(work_dir, 'metadata_n9k-test.tsv')\n",
    "novFam_file = file.path(work_dir, 'metadata_n9k-novel-family.tsv')"
   ]
  },
  {
   "cell_type": "markdown",
   "metadata": {},
   "source": [
    "# Init"
   ]
  },
  {
   "cell_type": "code",
   "execution_count": 2,
   "metadata": {
    "ExecuteTime": {
     "end_time": "2022-02-09T09:29:22.013423Z",
     "start_time": "2022-02-09T09:29:21.054Z"
    }
   },
   "outputs": [
    {
     "name": "stderr",
     "output_type": "stream",
     "text": [
      "\n",
      "Attaching package: ‘dplyr’\n",
      "\n",
      "\n",
      "The following objects are masked from ‘package:stats’:\n",
      "\n",
      "    filter, lag\n",
      "\n",
      "\n",
      "The following objects are masked from ‘package:base’:\n",
      "\n",
      "    intersect, setdiff, setequal, union\n",
      "\n",
      "\n",
      "\n",
      "Attaching package: ‘data.table’\n",
      "\n",
      "\n",
      "The following objects are masked from ‘package:dplyr’:\n",
      "\n",
      "    between, first, last\n",
      "\n",
      "\n",
      "\n",
      "Attaching package: ‘tidytable’\n",
      "\n",
      "\n",
      "The following object is masked from ‘package:stats’:\n",
      "\n",
      "    dt\n",
      "\n",
      "\n",
      "Loading required package: clustermq\n",
      "\n"
     ]
    }
   ],
   "source": [
    "library(dplyr)\n",
    "library(tidyr)\n",
    "library(ggplot2)\n",
    "library(data.table)\n",
    "library(tidytable)\n",
    "library(LeyLabRMisc)\n",
    "Init()"
   ]
  },
  {
   "cell_type": "code",
   "execution_count": 3,
   "metadata": {
    "ExecuteTime": {
     "end_time": "2022-02-09T09:29:22.027996Z",
     "start_time": "2022-02-09T09:29:21.055Z"
    }
   },
   "outputs": [],
   "source": [
    "set.seed(231)"
   ]
  },
  {
   "cell_type": "markdown",
   "metadata": {},
   "source": [
    "# Load"
   ]
  },
  {
   "cell_type": "code",
   "execution_count": 4,
   "metadata": {
    "ExecuteTime": {
     "end_time": "2022-02-09T09:29:22.125122Z",
     "start_time": "2022-02-09T09:29:21.056Z"
    }
   },
   "outputs": [
    {
     "data": {
      "text/html": [
       "<table class=\"dataframe\">\n",
       "<caption>A data.table: 9000 × 19</caption>\n",
       "<thead>\n",
       "\t<tr><th scope=col>accession</th><th scope=col>ncbi_genbank_assembly_accession</th><th scope=col>Domain</th><th scope=col>Phylum</th><th scope=col>Class</th><th scope=col>Order</th><th scope=col>Family</th><th scope=col>Genus</th><th scope=col>Species</th><th scope=col>fasta_file_path</th><th scope=col>dataset</th><th scope=col>checkm_completeness</th><th scope=col>checkm_contamination</th><th scope=col>contig_count</th><th scope=col>gc_percentage</th><th scope=col>genome_size</th><th scope=col>n50_contigs</th><th scope=col>ssu_count</th><th scope=col>X</th></tr>\n",
       "\t<tr><th scope=col>&lt;chr&gt;</th><th scope=col>&lt;chr&gt;</th><th scope=col>&lt;chr&gt;</th><th scope=col>&lt;chr&gt;</th><th scope=col>&lt;chr&gt;</th><th scope=col>&lt;chr&gt;</th><th scope=col>&lt;chr&gt;</th><th scope=col>&lt;chr&gt;</th><th scope=col>&lt;chr&gt;</th><th scope=col>&lt;chr&gt;</th><th scope=col>&lt;chr&gt;</th><th scope=col>&lt;dbl&gt;</th><th scope=col>&lt;dbl&gt;</th><th scope=col>&lt;int&gt;</th><th scope=col>&lt;dbl&gt;</th><th scope=col>&lt;int&gt;</th><th scope=col>&lt;int&gt;</th><th scope=col>&lt;int&gt;</th><th scope=col>&lt;int&gt;</th></tr>\n",
       "</thead>\n",
       "<tbody>\n",
       "\t<tr><td>RS_GCF_000328665.1</td><td>GCA_000328665.1</td><td>Archaea</td><td>Halobacteriota   </td><td>Methanosarcinia</td><td>Methanosarcinales </td><td>Methanosarcinaceae </td><td>Methanomethylovorans</td><td>Methanomethylovorans hollandica</td><td>/ebio/abt3_projects/databases_no-backup/DeepMAsED/version2/ref_genomes/GTDBr202/genomes_fasta/genbank/archaea/GCA_000328665.1/GCA_000328665.1_ASM32866v1_genomic.fna.gz </td><td>Train</td><td>99.84</td><td>0.33</td><td> 2</td><td>41.86704</td><td>2714013</td><td>2428904</td><td>2</td><td>1062</td></tr>\n",
       "\t<tr><td>RS_GCF_003149675.1</td><td>GCA_003149675.1</td><td>Archaea</td><td>Methanobacteriota</td><td>Methanobacteria</td><td>Methanobacteriales</td><td>Methanobacteriaceae</td><td>Methanosphaera      </td><td>Methanosphaera cuniculi        </td><td>/ebio/abt3_projects/databases_no-backup/DeepMAsED/version2/ref_genomes/GTDBr202/genomes_fasta/genbank/archaea/GCA_003149675.1/GCA_003149675.1_ASM314967v1_genomic.fna.gz</td><td>Train</td><td>96.00</td><td>0.00</td><td>48</td><td>28.08352</td><td>1881477</td><td>  86478</td><td>1</td><td>  39</td></tr>\n",
       "\t<tr><td>⋮</td><td>⋮</td><td>⋮</td><td>⋮</td><td>⋮</td><td>⋮</td><td>⋮</td><td>⋮</td><td>⋮</td><td>⋮</td><td>⋮</td><td>⋮</td><td>⋮</td><td>⋮</td><td>⋮</td><td>⋮</td><td>⋮</td><td>⋮</td><td>⋮</td></tr>\n",
       "\t<tr><td>RS_GCF_903931695.1</td><td>GCA_903931695.1</td><td>Bacteria</td><td>Proteobacteria</td><td>Gammaproteobacteria</td><td>Enterobacterales</td><td>Enterobacteriaceae</td><td>Salmonella    </td><td>Salmonella enterica        </td><td>/ebio/abt3_projects/databases_no-backup/DeepMAsED/version2/ref_genomes/GTDBr202/genomes_fasta/genbank/bacteria/GCA_903931695.1/GCA_903931695.1_0253_01_genomic.fna.gz</td><td>Train</td><td>99.85</td><td>0.04</td><td>134</td><td>52.23247</td><td>4810919</td><td> 68200</td><td>1</td><td>5465</td></tr>\n",
       "\t<tr><td>RS_GCF_903969785.1</td><td>GCA_903969785.1</td><td>Bacteria</td><td>Firmicutes    </td><td>Bacilli            </td><td>Staphylococcales</td><td>Staphylococcaceae </td><td>Staphylococcus</td><td>Staphylococcus haemolyticus</td><td>/ebio/abt3_projects/databases_no-backup/DeepMAsED/version2/ref_genomes/GTDBr202/genomes_fasta/genbank/bacteria/GCA_903969785.1/GCA_903969785.1_57-10_genomic.fna.gz  </td><td>Train</td><td>99.39</td><td>0.70</td><td> 88</td><td>32.67126</td><td>2470162</td><td>353079</td><td>1</td><td>3904</td></tr>\n",
       "</tbody>\n",
       "</table>\n"
      ],
      "text/latex": [
       "A data.table: 9000 × 19\n",
       "\\begin{tabular}{lllllllllllllllllll}\n",
       " accession & ncbi\\_genbank\\_assembly\\_accession & Domain & Phylum & Class & Order & Family & Genus & Species & fasta\\_file\\_path & dataset & checkm\\_completeness & checkm\\_contamination & contig\\_count & gc\\_percentage & genome\\_size & n50\\_contigs & ssu\\_count & X\\\\\n",
       " <chr> & <chr> & <chr> & <chr> & <chr> & <chr> & <chr> & <chr> & <chr> & <chr> & <chr> & <dbl> & <dbl> & <int> & <dbl> & <int> & <int> & <int> & <int>\\\\\n",
       "\\hline\n",
       "\t RS\\_GCF\\_000328665.1 & GCA\\_000328665.1 & Archaea & Halobacteriota    & Methanosarcinia & Methanosarcinales  & Methanosarcinaceae  & Methanomethylovorans & Methanomethylovorans hollandica & /ebio/abt3\\_projects/databases\\_no-backup/DeepMAsED/version2/ref\\_genomes/GTDBr202/genomes\\_fasta/genbank/archaea/GCA\\_000328665.1/GCA\\_000328665.1\\_ASM32866v1\\_genomic.fna.gz  & Train & 99.84 & 0.33 &  2 & 41.86704 & 2714013 & 2428904 & 2 & 1062\\\\\n",
       "\t RS\\_GCF\\_003149675.1 & GCA\\_003149675.1 & Archaea & Methanobacteriota & Methanobacteria & Methanobacteriales & Methanobacteriaceae & Methanosphaera       & Methanosphaera cuniculi         & /ebio/abt3\\_projects/databases\\_no-backup/DeepMAsED/version2/ref\\_genomes/GTDBr202/genomes\\_fasta/genbank/archaea/GCA\\_003149675.1/GCA\\_003149675.1\\_ASM314967v1\\_genomic.fna.gz & Train & 96.00 & 0.00 & 48 & 28.08352 & 1881477 &   86478 & 1 &   39\\\\\n",
       "\t ⋮ & ⋮ & ⋮ & ⋮ & ⋮ & ⋮ & ⋮ & ⋮ & ⋮ & ⋮ & ⋮ & ⋮ & ⋮ & ⋮ & ⋮ & ⋮ & ⋮ & ⋮ & ⋮\\\\\n",
       "\t RS\\_GCF\\_903931695.1 & GCA\\_903931695.1 & Bacteria & Proteobacteria & Gammaproteobacteria & Enterobacterales & Enterobacteriaceae & Salmonella     & Salmonella enterica         & /ebio/abt3\\_projects/databases\\_no-backup/DeepMAsED/version2/ref\\_genomes/GTDBr202/genomes\\_fasta/genbank/bacteria/GCA\\_903931695.1/GCA\\_903931695.1\\_0253\\_01\\_genomic.fna.gz & Train & 99.85 & 0.04 & 134 & 52.23247 & 4810919 &  68200 & 1 & 5465\\\\\n",
       "\t RS\\_GCF\\_903969785.1 & GCA\\_903969785.1 & Bacteria & Firmicutes     & Bacilli             & Staphylococcales & Staphylococcaceae  & Staphylococcus & Staphylococcus haemolyticus & /ebio/abt3\\_projects/databases\\_no-backup/DeepMAsED/version2/ref\\_genomes/GTDBr202/genomes\\_fasta/genbank/bacteria/GCA\\_903969785.1/GCA\\_903969785.1\\_57-10\\_genomic.fna.gz   & Train & 99.39 & 0.70 &  88 & 32.67126 & 2470162 & 353079 & 1 & 3904\\\\\n",
       "\\end{tabular}\n"
      ],
      "text/markdown": [
       "\n",
       "A data.table: 9000 × 19\n",
       "\n",
       "| accession &lt;chr&gt; | ncbi_genbank_assembly_accession &lt;chr&gt; | Domain &lt;chr&gt; | Phylum &lt;chr&gt; | Class &lt;chr&gt; | Order &lt;chr&gt; | Family &lt;chr&gt; | Genus &lt;chr&gt; | Species &lt;chr&gt; | fasta_file_path &lt;chr&gt; | dataset &lt;chr&gt; | checkm_completeness &lt;dbl&gt; | checkm_contamination &lt;dbl&gt; | contig_count &lt;int&gt; | gc_percentage &lt;dbl&gt; | genome_size &lt;int&gt; | n50_contigs &lt;int&gt; | ssu_count &lt;int&gt; | X &lt;int&gt; |\n",
       "|---|---|---|---|---|---|---|---|---|---|---|---|---|---|---|---|---|---|---|\n",
       "| RS_GCF_000328665.1 | GCA_000328665.1 | Archaea | Halobacteriota    | Methanosarcinia | Methanosarcinales  | Methanosarcinaceae  | Methanomethylovorans | Methanomethylovorans hollandica | /ebio/abt3_projects/databases_no-backup/DeepMAsED/version2/ref_genomes/GTDBr202/genomes_fasta/genbank/archaea/GCA_000328665.1/GCA_000328665.1_ASM32866v1_genomic.fna.gz  | Train | 99.84 | 0.33 |  2 | 41.86704 | 2714013 | 2428904 | 2 | 1062 |\n",
       "| RS_GCF_003149675.1 | GCA_003149675.1 | Archaea | Methanobacteriota | Methanobacteria | Methanobacteriales | Methanobacteriaceae | Methanosphaera       | Methanosphaera cuniculi         | /ebio/abt3_projects/databases_no-backup/DeepMAsED/version2/ref_genomes/GTDBr202/genomes_fasta/genbank/archaea/GCA_003149675.1/GCA_003149675.1_ASM314967v1_genomic.fna.gz | Train | 96.00 | 0.00 | 48 | 28.08352 | 1881477 |   86478 | 1 |   39 |\n",
       "| ⋮ | ⋮ | ⋮ | ⋮ | ⋮ | ⋮ | ⋮ | ⋮ | ⋮ | ⋮ | ⋮ | ⋮ | ⋮ | ⋮ | ⋮ | ⋮ | ⋮ | ⋮ | ⋮ |\n",
       "| RS_GCF_903931695.1 | GCA_903931695.1 | Bacteria | Proteobacteria | Gammaproteobacteria | Enterobacterales | Enterobacteriaceae | Salmonella     | Salmonella enterica         | /ebio/abt3_projects/databases_no-backup/DeepMAsED/version2/ref_genomes/GTDBr202/genomes_fasta/genbank/bacteria/GCA_903931695.1/GCA_903931695.1_0253_01_genomic.fna.gz | Train | 99.85 | 0.04 | 134 | 52.23247 | 4810919 |  68200 | 1 | 5465 |\n",
       "| RS_GCF_903969785.1 | GCA_903969785.1 | Bacteria | Firmicutes     | Bacilli             | Staphylococcales | Staphylococcaceae  | Staphylococcus | Staphylococcus haemolyticus | /ebio/abt3_projects/databases_no-backup/DeepMAsED/version2/ref_genomes/GTDBr202/genomes_fasta/genbank/bacteria/GCA_903969785.1/GCA_903969785.1_57-10_genomic.fna.gz   | Train | 99.39 | 0.70 |  88 | 32.67126 | 2470162 | 353079 | 1 | 3904 |\n",
       "\n"
      ],
      "text/plain": [
       "     accession          ncbi_genbank_assembly_accession Domain  \n",
       "1    RS_GCF_000328665.1 GCA_000328665.1                 Archaea \n",
       "2    RS_GCF_003149675.1 GCA_003149675.1                 Archaea \n",
       "⋮    ⋮                  ⋮                               ⋮       \n",
       "8999 RS_GCF_903931695.1 GCA_903931695.1                 Bacteria\n",
       "9000 RS_GCF_903969785.1 GCA_903969785.1                 Bacteria\n",
       "     Phylum            Class               Order             \n",
       "1    Halobacteriota    Methanosarcinia     Methanosarcinales \n",
       "2    Methanobacteriota Methanobacteria     Methanobacteriales\n",
       "⋮    ⋮                 ⋮                   ⋮                 \n",
       "8999 Proteobacteria    Gammaproteobacteria Enterobacterales  \n",
       "9000 Firmicutes        Bacilli             Staphylococcales  \n",
       "     Family              Genus                Species                        \n",
       "1    Methanosarcinaceae  Methanomethylovorans Methanomethylovorans hollandica\n",
       "2    Methanobacteriaceae Methanosphaera       Methanosphaera cuniculi        \n",
       "⋮    ⋮                   ⋮                    ⋮                              \n",
       "8999 Enterobacteriaceae  Salmonella           Salmonella enterica            \n",
       "9000 Staphylococcaceae   Staphylococcus       Staphylococcus haemolyticus    \n",
       "     fasta_file_path                                                                                                                                                         \n",
       "1    /ebio/abt3_projects/databases_no-backup/DeepMAsED/version2/ref_genomes/GTDBr202/genomes_fasta/genbank/archaea/GCA_000328665.1/GCA_000328665.1_ASM32866v1_genomic.fna.gz \n",
       "2    /ebio/abt3_projects/databases_no-backup/DeepMAsED/version2/ref_genomes/GTDBr202/genomes_fasta/genbank/archaea/GCA_003149675.1/GCA_003149675.1_ASM314967v1_genomic.fna.gz\n",
       "⋮    ⋮                                                                                                                                                                       \n",
       "8999 /ebio/abt3_projects/databases_no-backup/DeepMAsED/version2/ref_genomes/GTDBr202/genomes_fasta/genbank/bacteria/GCA_903931695.1/GCA_903931695.1_0253_01_genomic.fna.gz   \n",
       "9000 /ebio/abt3_projects/databases_no-backup/DeepMAsED/version2/ref_genomes/GTDBr202/genomes_fasta/genbank/bacteria/GCA_903969785.1/GCA_903969785.1_57-10_genomic.fna.gz     \n",
       "     dataset checkm_completeness checkm_contamination contig_count\n",
       "1    Train   99.84               0.33                  2          \n",
       "2    Train   96.00               0.00                 48          \n",
       "⋮    ⋮       ⋮                   ⋮                    ⋮           \n",
       "8999 Train   99.85               0.04                 134         \n",
       "9000 Train   99.39               0.70                  88         \n",
       "     gc_percentage genome_size n50_contigs ssu_count X   \n",
       "1    41.86704      2714013     2428904     2         1062\n",
       "2    28.08352      1881477       86478     1           39\n",
       "⋮    ⋮             ⋮           ⋮           ⋮         ⋮   \n",
       "8999 52.23247      4810919      68200      1         5465\n",
       "9000 32.67126      2470162     353079      1         3904"
      ]
     },
     "metadata": {},
     "output_type": "display_data"
    }
   ],
   "source": [
    "train = Fread(train_file)\n",
    "train"
   ]
  },
  {
   "cell_type": "code",
   "execution_count": 5,
   "metadata": {
    "ExecuteTime": {
     "end_time": "2022-02-09T09:29:22.208843Z",
     "start_time": "2022-02-09T09:29:21.057Z"
    }
   },
   "outputs": [
    {
     "data": {
      "text/html": [
       "<table class=\"dataframe\">\n",
       "<caption>A data.table: 9000 × 19</caption>\n",
       "<thead>\n",
       "\t<tr><th scope=col>accession</th><th scope=col>ncbi_genbank_assembly_accession</th><th scope=col>Domain</th><th scope=col>Phylum</th><th scope=col>Class</th><th scope=col>Order</th><th scope=col>Family</th><th scope=col>Genus</th><th scope=col>Species</th><th scope=col>fasta_file_path</th><th scope=col>dataset</th><th scope=col>checkm_completeness</th><th scope=col>checkm_contamination</th><th scope=col>contig_count</th><th scope=col>gc_percentage</th><th scope=col>genome_size</th><th scope=col>n50_contigs</th><th scope=col>ssu_count</th><th scope=col>X</th></tr>\n",
       "\t<tr><th scope=col>&lt;chr&gt;</th><th scope=col>&lt;chr&gt;</th><th scope=col>&lt;chr&gt;</th><th scope=col>&lt;chr&gt;</th><th scope=col>&lt;chr&gt;</th><th scope=col>&lt;chr&gt;</th><th scope=col>&lt;chr&gt;</th><th scope=col>&lt;chr&gt;</th><th scope=col>&lt;chr&gt;</th><th scope=col>&lt;chr&gt;</th><th scope=col>&lt;chr&gt;</th><th scope=col>&lt;dbl&gt;</th><th scope=col>&lt;dbl&gt;</th><th scope=col>&lt;int&gt;</th><th scope=col>&lt;dbl&gt;</th><th scope=col>&lt;int&gt;</th><th scope=col>&lt;int&gt;</th><th scope=col>&lt;int&gt;</th><th scope=col>&lt;int&gt;</th></tr>\n",
       "</thead>\n",
       "<tbody>\n",
       "\t<tr><td>RS_GCF_000019605.1</td><td>GCA_000019605.1</td><td>Archaea</td><td>Thermoproteota   </td><td>Korarchaeia</td><td>Korarchaeales </td><td>Korarchaeaceae </td><td>Korarchaeum   </td><td>Korarchaeum cryptofilum </td><td>/ebio/abt3_projects/databases_no-backup/DeepMAsED/version2/ref_genomes/GTDBr202/genomes_fasta/genbank/archaea/GCA_000019605.1/GCA_000019605.1_ASM1960v1_genomic.fna.gz</td><td>Test</td><td>93.39</td><td>2.8</td><td>1</td><td>49.00070</td><td>1590757</td><td>1590757</td><td>1</td><td>4409</td></tr>\n",
       "\t<tr><td>RS_GCF_000022545.1</td><td>GCA_000022545.1</td><td>Archaea</td><td>Methanobacteriota</td><td>Thermococci</td><td>Thermococcales</td><td>Thermococcaceae</td><td>Thermococcus_A</td><td>Thermococcus_A sibiricus</td><td>/ebio/abt3_projects/databases_no-backup/DeepMAsED/version2/ref_genomes/GTDBr202/genomes_fasta/genbank/archaea/GCA_000022545.1/GCA_000022545.1_ASM2254v1_genomic.fna.gz</td><td>Test</td><td>98.51</td><td>0.0</td><td>1</td><td>40.20127</td><td>1845800</td><td>1845800</td><td>1</td><td>5271</td></tr>\n",
       "\t<tr><td>⋮</td><td>⋮</td><td>⋮</td><td>⋮</td><td>⋮</td><td>⋮</td><td>⋮</td><td>⋮</td><td>⋮</td><td>⋮</td><td>⋮</td><td>⋮</td><td>⋮</td><td>⋮</td><td>⋮</td><td>⋮</td><td>⋮</td><td>⋮</td><td>⋮</td></tr>\n",
       "\t<tr><td>RS_GCF_902833365.1</td><td>GCA_902833365.1</td><td>Bacteria</td><td>Proteobacteria</td><td>Gammaproteobacteria</td><td>Burkholderiales</td><td>Burkholderiaceae</td><td>Burkholderia </td><td>Burkholderia vietnamiensis</td><td>/ebio/abt3_projects/databases_no-backup/DeepMAsED/version2/ref_genomes/GTDBr202/genomes_fasta/genbank/bacteria/GCA_902833365.1/GCA_902833365.1_ASM90283336v1_genomic.fna.gz</td><td>Test</td><td>100.00</td><td>0</td><td>106</td><td>66.92989</td><td>7062828</td><td>158113</td><td>1</td><td>7109</td></tr>\n",
       "\t<tr><td>RS_GCF_902860195.1</td><td>GCA_902860195.1</td><td>Bacteria</td><td>Proteobacteria</td><td>Gammaproteobacteria</td><td>Burkholderiales</td><td>Burkholderiaceae</td><td>Achromobacter</td><td>Achromobacter ruhlandii   </td><td>/ebio/abt3_projects/databases_no-backup/DeepMAsED/version2/ref_genomes/GTDBr202/genomes_fasta/genbank/bacteria/GCA_902860195.1/GCA_902860195.1_LMG_7053_genomic.fna.gz     </td><td>Test</td><td> 99.53</td><td>0</td><td>200</td><td>67.55038</td><td>6702936</td><td> 71580</td><td>1</td><td>3038</td></tr>\n",
       "</tbody>\n",
       "</table>\n"
      ],
      "text/latex": [
       "A data.table: 9000 × 19\n",
       "\\begin{tabular}{lllllllllllllllllll}\n",
       " accession & ncbi\\_genbank\\_assembly\\_accession & Domain & Phylum & Class & Order & Family & Genus & Species & fasta\\_file\\_path & dataset & checkm\\_completeness & checkm\\_contamination & contig\\_count & gc\\_percentage & genome\\_size & n50\\_contigs & ssu\\_count & X\\\\\n",
       " <chr> & <chr> & <chr> & <chr> & <chr> & <chr> & <chr> & <chr> & <chr> & <chr> & <chr> & <dbl> & <dbl> & <int> & <dbl> & <int> & <int> & <int> & <int>\\\\\n",
       "\\hline\n",
       "\t RS\\_GCF\\_000019605.1 & GCA\\_000019605.1 & Archaea & Thermoproteota    & Korarchaeia & Korarchaeales  & Korarchaeaceae  & Korarchaeum    & Korarchaeum cryptofilum  & /ebio/abt3\\_projects/databases\\_no-backup/DeepMAsED/version2/ref\\_genomes/GTDBr202/genomes\\_fasta/genbank/archaea/GCA\\_000019605.1/GCA\\_000019605.1\\_ASM1960v1\\_genomic.fna.gz & Test & 93.39 & 2.8 & 1 & 49.00070 & 1590757 & 1590757 & 1 & 4409\\\\\n",
       "\t RS\\_GCF\\_000022545.1 & GCA\\_000022545.1 & Archaea & Methanobacteriota & Thermococci & Thermococcales & Thermococcaceae & Thermococcus\\_A & Thermococcus\\_A sibiricus & /ebio/abt3\\_projects/databases\\_no-backup/DeepMAsED/version2/ref\\_genomes/GTDBr202/genomes\\_fasta/genbank/archaea/GCA\\_000022545.1/GCA\\_000022545.1\\_ASM2254v1\\_genomic.fna.gz & Test & 98.51 & 0.0 & 1 & 40.20127 & 1845800 & 1845800 & 1 & 5271\\\\\n",
       "\t ⋮ & ⋮ & ⋮ & ⋮ & ⋮ & ⋮ & ⋮ & ⋮ & ⋮ & ⋮ & ⋮ & ⋮ & ⋮ & ⋮ & ⋮ & ⋮ & ⋮ & ⋮ & ⋮\\\\\n",
       "\t RS\\_GCF\\_902833365.1 & GCA\\_902833365.1 & Bacteria & Proteobacteria & Gammaproteobacteria & Burkholderiales & Burkholderiaceae & Burkholderia  & Burkholderia vietnamiensis & /ebio/abt3\\_projects/databases\\_no-backup/DeepMAsED/version2/ref\\_genomes/GTDBr202/genomes\\_fasta/genbank/bacteria/GCA\\_902833365.1/GCA\\_902833365.1\\_ASM90283336v1\\_genomic.fna.gz & Test & 100.00 & 0 & 106 & 66.92989 & 7062828 & 158113 & 1 & 7109\\\\\n",
       "\t RS\\_GCF\\_902860195.1 & GCA\\_902860195.1 & Bacteria & Proteobacteria & Gammaproteobacteria & Burkholderiales & Burkholderiaceae & Achromobacter & Achromobacter ruhlandii    & /ebio/abt3\\_projects/databases\\_no-backup/DeepMAsED/version2/ref\\_genomes/GTDBr202/genomes\\_fasta/genbank/bacteria/GCA\\_902860195.1/GCA\\_902860195.1\\_LMG\\_7053\\_genomic.fna.gz      & Test &  99.53 & 0 & 200 & 67.55038 & 6702936 &  71580 & 1 & 3038\\\\\n",
       "\\end{tabular}\n"
      ],
      "text/markdown": [
       "\n",
       "A data.table: 9000 × 19\n",
       "\n",
       "| accession &lt;chr&gt; | ncbi_genbank_assembly_accession &lt;chr&gt; | Domain &lt;chr&gt; | Phylum &lt;chr&gt; | Class &lt;chr&gt; | Order &lt;chr&gt; | Family &lt;chr&gt; | Genus &lt;chr&gt; | Species &lt;chr&gt; | fasta_file_path &lt;chr&gt; | dataset &lt;chr&gt; | checkm_completeness &lt;dbl&gt; | checkm_contamination &lt;dbl&gt; | contig_count &lt;int&gt; | gc_percentage &lt;dbl&gt; | genome_size &lt;int&gt; | n50_contigs &lt;int&gt; | ssu_count &lt;int&gt; | X &lt;int&gt; |\n",
       "|---|---|---|---|---|---|---|---|---|---|---|---|---|---|---|---|---|---|---|\n",
       "| RS_GCF_000019605.1 | GCA_000019605.1 | Archaea | Thermoproteota    | Korarchaeia | Korarchaeales  | Korarchaeaceae  | Korarchaeum    | Korarchaeum cryptofilum  | /ebio/abt3_projects/databases_no-backup/DeepMAsED/version2/ref_genomes/GTDBr202/genomes_fasta/genbank/archaea/GCA_000019605.1/GCA_000019605.1_ASM1960v1_genomic.fna.gz | Test | 93.39 | 2.8 | 1 | 49.00070 | 1590757 | 1590757 | 1 | 4409 |\n",
       "| RS_GCF_000022545.1 | GCA_000022545.1 | Archaea | Methanobacteriota | Thermococci | Thermococcales | Thermococcaceae | Thermococcus_A | Thermococcus_A sibiricus | /ebio/abt3_projects/databases_no-backup/DeepMAsED/version2/ref_genomes/GTDBr202/genomes_fasta/genbank/archaea/GCA_000022545.1/GCA_000022545.1_ASM2254v1_genomic.fna.gz | Test | 98.51 | 0.0 | 1 | 40.20127 | 1845800 | 1845800 | 1 | 5271 |\n",
       "| ⋮ | ⋮ | ⋮ | ⋮ | ⋮ | ⋮ | ⋮ | ⋮ | ⋮ | ⋮ | ⋮ | ⋮ | ⋮ | ⋮ | ⋮ | ⋮ | ⋮ | ⋮ | ⋮ |\n",
       "| RS_GCF_902833365.1 | GCA_902833365.1 | Bacteria | Proteobacteria | Gammaproteobacteria | Burkholderiales | Burkholderiaceae | Burkholderia  | Burkholderia vietnamiensis | /ebio/abt3_projects/databases_no-backup/DeepMAsED/version2/ref_genomes/GTDBr202/genomes_fasta/genbank/bacteria/GCA_902833365.1/GCA_902833365.1_ASM90283336v1_genomic.fna.gz | Test | 100.00 | 0 | 106 | 66.92989 | 7062828 | 158113 | 1 | 7109 |\n",
       "| RS_GCF_902860195.1 | GCA_902860195.1 | Bacteria | Proteobacteria | Gammaproteobacteria | Burkholderiales | Burkholderiaceae | Achromobacter | Achromobacter ruhlandii    | /ebio/abt3_projects/databases_no-backup/DeepMAsED/version2/ref_genomes/GTDBr202/genomes_fasta/genbank/bacteria/GCA_902860195.1/GCA_902860195.1_LMG_7053_genomic.fna.gz      | Test |  99.53 | 0 | 200 | 67.55038 | 6702936 |  71580 | 1 | 3038 |\n",
       "\n"
      ],
      "text/plain": [
       "     accession          ncbi_genbank_assembly_accession Domain  \n",
       "1    RS_GCF_000019605.1 GCA_000019605.1                 Archaea \n",
       "2    RS_GCF_000022545.1 GCA_000022545.1                 Archaea \n",
       "⋮    ⋮                  ⋮                               ⋮       \n",
       "8999 RS_GCF_902833365.1 GCA_902833365.1                 Bacteria\n",
       "9000 RS_GCF_902860195.1 GCA_902860195.1                 Bacteria\n",
       "     Phylum            Class               Order           Family          \n",
       "1    Thermoproteota    Korarchaeia         Korarchaeales   Korarchaeaceae  \n",
       "2    Methanobacteriota Thermococci         Thermococcales  Thermococcaceae \n",
       "⋮    ⋮                 ⋮                   ⋮               ⋮               \n",
       "8999 Proteobacteria    Gammaproteobacteria Burkholderiales Burkholderiaceae\n",
       "9000 Proteobacteria    Gammaproteobacteria Burkholderiales Burkholderiaceae\n",
       "     Genus          Species                   \n",
       "1    Korarchaeum    Korarchaeum cryptofilum   \n",
       "2    Thermococcus_A Thermococcus_A sibiricus  \n",
       "⋮    ⋮              ⋮                         \n",
       "8999 Burkholderia   Burkholderia vietnamiensis\n",
       "9000 Achromobacter  Achromobacter ruhlandii   \n",
       "     fasta_file_path                                                                                                                                                            \n",
       "1    /ebio/abt3_projects/databases_no-backup/DeepMAsED/version2/ref_genomes/GTDBr202/genomes_fasta/genbank/archaea/GCA_000019605.1/GCA_000019605.1_ASM1960v1_genomic.fna.gz     \n",
       "2    /ebio/abt3_projects/databases_no-backup/DeepMAsED/version2/ref_genomes/GTDBr202/genomes_fasta/genbank/archaea/GCA_000022545.1/GCA_000022545.1_ASM2254v1_genomic.fna.gz     \n",
       "⋮    ⋮                                                                                                                                                                          \n",
       "8999 /ebio/abt3_projects/databases_no-backup/DeepMAsED/version2/ref_genomes/GTDBr202/genomes_fasta/genbank/bacteria/GCA_902833365.1/GCA_902833365.1_ASM90283336v1_genomic.fna.gz\n",
       "9000 /ebio/abt3_projects/databases_no-backup/DeepMAsED/version2/ref_genomes/GTDBr202/genomes_fasta/genbank/bacteria/GCA_902860195.1/GCA_902860195.1_LMG_7053_genomic.fna.gz     \n",
       "     dataset checkm_completeness checkm_contamination contig_count\n",
       "1    Test    93.39               2.8                  1           \n",
       "2    Test    98.51               0.0                  1           \n",
       "⋮    ⋮       ⋮                   ⋮                    ⋮           \n",
       "8999 Test    100.00              0                    106         \n",
       "9000 Test     99.53              0                    200         \n",
       "     gc_percentage genome_size n50_contigs ssu_count X   \n",
       "1    49.00070      1590757     1590757     1         4409\n",
       "2    40.20127      1845800     1845800     1         5271\n",
       "⋮    ⋮             ⋮           ⋮           ⋮         ⋮   \n",
       "8999 66.92989      7062828     158113      1         7109\n",
       "9000 67.55038      6702936      71580      1         3038"
      ]
     },
     "metadata": {},
     "output_type": "display_data"
    }
   ],
   "source": [
    "test = Fread(test_file)\n",
    "test"
   ]
  },
  {
   "cell_type": "code",
   "execution_count": 6,
   "metadata": {
    "ExecuteTime": {
     "end_time": "2022-02-09T09:29:22.301875Z",
     "start_time": "2022-02-09T09:29:21.058Z"
    }
   },
   "outputs": [
    {
     "data": {
      "text/html": [
       "<table class=\"dataframe\">\n",
       "<caption>A data.table: 9000 × 19</caption>\n",
       "<thead>\n",
       "\t<tr><th scope=col>accession</th><th scope=col>ncbi_genbank_assembly_accession</th><th scope=col>Domain</th><th scope=col>Phylum</th><th scope=col>Class</th><th scope=col>Order</th><th scope=col>Family</th><th scope=col>Genus</th><th scope=col>Species</th><th scope=col>fasta_file_path</th><th scope=col>dataset</th><th scope=col>checkm_completeness</th><th scope=col>checkm_contamination</th><th scope=col>contig_count</th><th scope=col>gc_percentage</th><th scope=col>genome_size</th><th scope=col>n50_contigs</th><th scope=col>ssu_count</th><th scope=col>X</th></tr>\n",
       "\t<tr><th scope=col>&lt;chr&gt;</th><th scope=col>&lt;chr&gt;</th><th scope=col>&lt;chr&gt;</th><th scope=col>&lt;chr&gt;</th><th scope=col>&lt;chr&gt;</th><th scope=col>&lt;chr&gt;</th><th scope=col>&lt;chr&gt;</th><th scope=col>&lt;chr&gt;</th><th scope=col>&lt;chr&gt;</th><th scope=col>&lt;chr&gt;</th><th scope=col>&lt;chr&gt;</th><th scope=col>&lt;dbl&gt;</th><th scope=col>&lt;dbl&gt;</th><th scope=col>&lt;int&gt;</th><th scope=col>&lt;dbl&gt;</th><th scope=col>&lt;int&gt;</th><th scope=col>&lt;int&gt;</th><th scope=col>&lt;int&gt;</th><th scope=col>&lt;int&gt;</th></tr>\n",
       "</thead>\n",
       "<tbody>\n",
       "\t<tr><td>RS_GCF_002287215.1</td><td>GCA_002287215.1</td><td>Archaea</td><td>Halobacteriota</td><td>Methanomicrobia</td><td>Methanomicrobiales</td><td>Methanocorpusculaceae</td><td>Methanocorpusculum</td><td>Methanocorpusculum parvum</td><td>/ebio/abt3_projects/databases_no-backup/DeepMAsED/version2/ref_genomes/GTDBr202/genomes_fasta/genbank/archaea/GCA_002287215.1/GCA_002287215.1_ASM228721v1_genomic.fna.gz  </td><td>Novel-family</td><td>98.21</td><td>0.00</td><td>47</td><td>51.42847</td><td>1709133</td><td> 74097</td><td>1</td><td>1600</td></tr>\n",
       "\t<tr><td>RS_GCF_900167955.1</td><td>GCA_900167955.1</td><td>Archaea</td><td>Thermoproteota</td><td>Nitrososphaeria</td><td>Nitrososphaerales </td><td>Nitrosopumilaceae    </td><td>Nitrosotalea      </td><td>Nitrosotalea bavarica    </td><td>/ebio/abt3_projects/databases_no-backup/DeepMAsED/version2/ref_genomes/GTDBr202/genomes_fasta/genbank/archaea/GCA_900167955.1/GCA_900167955.1_ASM90016795v1_genomic.fna.gz</td><td>Novel-family</td><td>97.57</td><td>1.94</td><td>24</td><td>35.98315</td><td>1553159</td><td>106638</td><td>1</td><td>1736</td></tr>\n",
       "\t<tr><td>⋮</td><td>⋮</td><td>⋮</td><td>⋮</td><td>⋮</td><td>⋮</td><td>⋮</td><td>⋮</td><td>⋮</td><td>⋮</td><td>⋮</td><td>⋮</td><td>⋮</td><td>⋮</td><td>⋮</td><td>⋮</td><td>⋮</td><td>⋮</td><td>⋮</td></tr>\n",
       "\t<tr><td>RS_GCF_902859605.1</td><td>GCA_902859605.1</td><td>Bacteria</td><td>Proteobacteria</td><td>Gammaproteobacteria</td><td>Burkholderiales</td><td>Burkholderiaceae</td><td>Achromobacter</td><td>Achromobacter spanius</td><td>/ebio/abt3_projects/databases_no-backup/DeepMAsED/version2/ref_genomes/GTDBr202/genomes_fasta/genbank/bacteria/GCA_902859605.1/GCA_902859605.1_LMG_5911_genomic.fna.gz  </td><td>Novel-family</td><td>99.53</td><td>0.47</td><td>61</td><td>64.30309</td><td>6360923</td><td>280218</td><td>1</td><td>1283</td></tr>\n",
       "\t<tr><td>RS_GCF_903469595.1</td><td>GCA_903469595.1</td><td>Bacteria</td><td>Spirochaetota </td><td>Spirochaetia       </td><td>Treponematales </td><td>Treponemataceae </td><td>Treponema    </td><td>Treponema pallidum   </td><td>/ebio/abt3_projects/databases_no-backup/DeepMAsED/version2/ref_genomes/GTDBr202/genomes_fasta/genbank/bacteria/GCA_903469595.1/GCA_903469595.1_R3-SAL-007_genomic.fna.gz</td><td>Novel-family</td><td>99.57</td><td>0.36</td><td>64</td><td>52.75326</td><td>1131257</td><td> 44192</td><td>1</td><td>7787</td></tr>\n",
       "</tbody>\n",
       "</table>\n"
      ],
      "text/latex": [
       "A data.table: 9000 × 19\n",
       "\\begin{tabular}{lllllllllllllllllll}\n",
       " accession & ncbi\\_genbank\\_assembly\\_accession & Domain & Phylum & Class & Order & Family & Genus & Species & fasta\\_file\\_path & dataset & checkm\\_completeness & checkm\\_contamination & contig\\_count & gc\\_percentage & genome\\_size & n50\\_contigs & ssu\\_count & X\\\\\n",
       " <chr> & <chr> & <chr> & <chr> & <chr> & <chr> & <chr> & <chr> & <chr> & <chr> & <chr> & <dbl> & <dbl> & <int> & <dbl> & <int> & <int> & <int> & <int>\\\\\n",
       "\\hline\n",
       "\t RS\\_GCF\\_002287215.1 & GCA\\_002287215.1 & Archaea & Halobacteriota & Methanomicrobia & Methanomicrobiales & Methanocorpusculaceae & Methanocorpusculum & Methanocorpusculum parvum & /ebio/abt3\\_projects/databases\\_no-backup/DeepMAsED/version2/ref\\_genomes/GTDBr202/genomes\\_fasta/genbank/archaea/GCA\\_002287215.1/GCA\\_002287215.1\\_ASM228721v1\\_genomic.fna.gz   & Novel-family & 98.21 & 0.00 & 47 & 51.42847 & 1709133 &  74097 & 1 & 1600\\\\\n",
       "\t RS\\_GCF\\_900167955.1 & GCA\\_900167955.1 & Archaea & Thermoproteota & Nitrososphaeria & Nitrososphaerales  & Nitrosopumilaceae     & Nitrosotalea       & Nitrosotalea bavarica     & /ebio/abt3\\_projects/databases\\_no-backup/DeepMAsED/version2/ref\\_genomes/GTDBr202/genomes\\_fasta/genbank/archaea/GCA\\_900167955.1/GCA\\_900167955.1\\_ASM90016795v1\\_genomic.fna.gz & Novel-family & 97.57 & 1.94 & 24 & 35.98315 & 1553159 & 106638 & 1 & 1736\\\\\n",
       "\t ⋮ & ⋮ & ⋮ & ⋮ & ⋮ & ⋮ & ⋮ & ⋮ & ⋮ & ⋮ & ⋮ & ⋮ & ⋮ & ⋮ & ⋮ & ⋮ & ⋮ & ⋮ & ⋮\\\\\n",
       "\t RS\\_GCF\\_902859605.1 & GCA\\_902859605.1 & Bacteria & Proteobacteria & Gammaproteobacteria & Burkholderiales & Burkholderiaceae & Achromobacter & Achromobacter spanius & /ebio/abt3\\_projects/databases\\_no-backup/DeepMAsED/version2/ref\\_genomes/GTDBr202/genomes\\_fasta/genbank/bacteria/GCA\\_902859605.1/GCA\\_902859605.1\\_LMG\\_5911\\_genomic.fna.gz   & Novel-family & 99.53 & 0.47 & 61 & 64.30309 & 6360923 & 280218 & 1 & 1283\\\\\n",
       "\t RS\\_GCF\\_903469595.1 & GCA\\_903469595.1 & Bacteria & Spirochaetota  & Spirochaetia        & Treponematales  & Treponemataceae  & Treponema     & Treponema pallidum    & /ebio/abt3\\_projects/databases\\_no-backup/DeepMAsED/version2/ref\\_genomes/GTDBr202/genomes\\_fasta/genbank/bacteria/GCA\\_903469595.1/GCA\\_903469595.1\\_R3-SAL-007\\_genomic.fna.gz & Novel-family & 99.57 & 0.36 & 64 & 52.75326 & 1131257 &  44192 & 1 & 7787\\\\\n",
       "\\end{tabular}\n"
      ],
      "text/markdown": [
       "\n",
       "A data.table: 9000 × 19\n",
       "\n",
       "| accession &lt;chr&gt; | ncbi_genbank_assembly_accession &lt;chr&gt; | Domain &lt;chr&gt; | Phylum &lt;chr&gt; | Class &lt;chr&gt; | Order &lt;chr&gt; | Family &lt;chr&gt; | Genus &lt;chr&gt; | Species &lt;chr&gt; | fasta_file_path &lt;chr&gt; | dataset &lt;chr&gt; | checkm_completeness &lt;dbl&gt; | checkm_contamination &lt;dbl&gt; | contig_count &lt;int&gt; | gc_percentage &lt;dbl&gt; | genome_size &lt;int&gt; | n50_contigs &lt;int&gt; | ssu_count &lt;int&gt; | X &lt;int&gt; |\n",
       "|---|---|---|---|---|---|---|---|---|---|---|---|---|---|---|---|---|---|---|\n",
       "| RS_GCF_002287215.1 | GCA_002287215.1 | Archaea | Halobacteriota | Methanomicrobia | Methanomicrobiales | Methanocorpusculaceae | Methanocorpusculum | Methanocorpusculum parvum | /ebio/abt3_projects/databases_no-backup/DeepMAsED/version2/ref_genomes/GTDBr202/genomes_fasta/genbank/archaea/GCA_002287215.1/GCA_002287215.1_ASM228721v1_genomic.fna.gz   | Novel-family | 98.21 | 0.00 | 47 | 51.42847 | 1709133 |  74097 | 1 | 1600 |\n",
       "| RS_GCF_900167955.1 | GCA_900167955.1 | Archaea | Thermoproteota | Nitrososphaeria | Nitrososphaerales  | Nitrosopumilaceae     | Nitrosotalea       | Nitrosotalea bavarica     | /ebio/abt3_projects/databases_no-backup/DeepMAsED/version2/ref_genomes/GTDBr202/genomes_fasta/genbank/archaea/GCA_900167955.1/GCA_900167955.1_ASM90016795v1_genomic.fna.gz | Novel-family | 97.57 | 1.94 | 24 | 35.98315 | 1553159 | 106638 | 1 | 1736 |\n",
       "| ⋮ | ⋮ | ⋮ | ⋮ | ⋮ | ⋮ | ⋮ | ⋮ | ⋮ | ⋮ | ⋮ | ⋮ | ⋮ | ⋮ | ⋮ | ⋮ | ⋮ | ⋮ | ⋮ |\n",
       "| RS_GCF_902859605.1 | GCA_902859605.1 | Bacteria | Proteobacteria | Gammaproteobacteria | Burkholderiales | Burkholderiaceae | Achromobacter | Achromobacter spanius | /ebio/abt3_projects/databases_no-backup/DeepMAsED/version2/ref_genomes/GTDBr202/genomes_fasta/genbank/bacteria/GCA_902859605.1/GCA_902859605.1_LMG_5911_genomic.fna.gz   | Novel-family | 99.53 | 0.47 | 61 | 64.30309 | 6360923 | 280218 | 1 | 1283 |\n",
       "| RS_GCF_903469595.1 | GCA_903469595.1 | Bacteria | Spirochaetota  | Spirochaetia        | Treponematales  | Treponemataceae  | Treponema     | Treponema pallidum    | /ebio/abt3_projects/databases_no-backup/DeepMAsED/version2/ref_genomes/GTDBr202/genomes_fasta/genbank/bacteria/GCA_903469595.1/GCA_903469595.1_R3-SAL-007_genomic.fna.gz | Novel-family | 99.57 | 0.36 | 64 | 52.75326 | 1131257 |  44192 | 1 | 7787 |\n",
       "\n"
      ],
      "text/plain": [
       "     accession          ncbi_genbank_assembly_accession Domain   Phylum        \n",
       "1    RS_GCF_002287215.1 GCA_002287215.1                 Archaea  Halobacteriota\n",
       "2    RS_GCF_900167955.1 GCA_900167955.1                 Archaea  Thermoproteota\n",
       "⋮    ⋮                  ⋮                               ⋮        ⋮             \n",
       "8999 RS_GCF_902859605.1 GCA_902859605.1                 Bacteria Proteobacteria\n",
       "9000 RS_GCF_903469595.1 GCA_903469595.1                 Bacteria Spirochaetota \n",
       "     Class               Order              Family               \n",
       "1    Methanomicrobia     Methanomicrobiales Methanocorpusculaceae\n",
       "2    Nitrososphaeria     Nitrososphaerales  Nitrosopumilaceae    \n",
       "⋮    ⋮                   ⋮                  ⋮                    \n",
       "8999 Gammaproteobacteria Burkholderiales    Burkholderiaceae     \n",
       "9000 Spirochaetia        Treponematales     Treponemataceae      \n",
       "     Genus              Species                  \n",
       "1    Methanocorpusculum Methanocorpusculum parvum\n",
       "2    Nitrosotalea       Nitrosotalea bavarica    \n",
       "⋮    ⋮                  ⋮                        \n",
       "8999 Achromobacter      Achromobacter spanius    \n",
       "9000 Treponema          Treponema pallidum       \n",
       "     fasta_file_path                                                                                                                                                           \n",
       "1    /ebio/abt3_projects/databases_no-backup/DeepMAsED/version2/ref_genomes/GTDBr202/genomes_fasta/genbank/archaea/GCA_002287215.1/GCA_002287215.1_ASM228721v1_genomic.fna.gz  \n",
       "2    /ebio/abt3_projects/databases_no-backup/DeepMAsED/version2/ref_genomes/GTDBr202/genomes_fasta/genbank/archaea/GCA_900167955.1/GCA_900167955.1_ASM90016795v1_genomic.fna.gz\n",
       "⋮    ⋮                                                                                                                                                                         \n",
       "8999 /ebio/abt3_projects/databases_no-backup/DeepMAsED/version2/ref_genomes/GTDBr202/genomes_fasta/genbank/bacteria/GCA_902859605.1/GCA_902859605.1_LMG_5911_genomic.fna.gz    \n",
       "9000 /ebio/abt3_projects/databases_no-backup/DeepMAsED/version2/ref_genomes/GTDBr202/genomes_fasta/genbank/bacteria/GCA_903469595.1/GCA_903469595.1_R3-SAL-007_genomic.fna.gz  \n",
       "     dataset      checkm_completeness checkm_contamination contig_count\n",
       "1    Novel-family 98.21               0.00                 47          \n",
       "2    Novel-family 97.57               1.94                 24          \n",
       "⋮    ⋮            ⋮                   ⋮                    ⋮           \n",
       "8999 Novel-family 99.53               0.47                 61          \n",
       "9000 Novel-family 99.57               0.36                 64          \n",
       "     gc_percentage genome_size n50_contigs ssu_count X   \n",
       "1    51.42847      1709133      74097      1         1600\n",
       "2    35.98315      1553159     106638      1         1736\n",
       "⋮    ⋮             ⋮           ⋮           ⋮         ⋮   \n",
       "8999 64.30309      6360923     280218      1         1283\n",
       "9000 52.75326      1131257      44192      1         7787"
      ]
     },
     "metadata": {},
     "output_type": "display_data"
    }
   ],
   "source": [
    "novFam = Fread(novFam_file)\n",
    "novFam"
   ]
  },
  {
   "cell_type": "markdown",
   "metadata": {},
   "source": [
    "## Checks"
   ]
  },
  {
   "cell_type": "code",
   "execution_count": 7,
   "metadata": {
    "ExecuteTime": {
     "end_time": "2022-02-09T09:29:24.558980Z",
     "start_time": "2022-02-09T09:29:21.059Z"
    }
   },
   "outputs": [
    {
     "data": {
      "text/html": [
       "1927471"
      ],
      "text/latex": [
       "1927471"
      ],
      "text/markdown": [
       "1927471"
      ],
      "text/plain": [
       "[1] 1927471"
      ]
     },
     "metadata": {},
     "output_type": "display_data"
    }
   ],
   "source": [
    "inner_join.(train, test, c('Family', 'Genus', 'Species')) %>%\n",
    "    nrow"
   ]
  },
  {
   "cell_type": "code",
   "execution_count": 8,
   "metadata": {
    "ExecuteTime": {
     "end_time": "2022-02-09T09:29:24.910218Z",
     "start_time": "2022-02-09T09:29:21.060Z"
    }
   },
   "outputs": [
    {
     "data": {
      "text/html": [
       "381569"
      ],
      "text/latex": [
       "381569"
      ],
      "text/markdown": [
       "381569"
      ],
      "text/plain": [
       "[1] 381569"
      ]
     },
     "metadata": {},
     "output_type": "display_data"
    }
   ],
   "source": [
    "inner_join.(test, novFam, c('Family', 'Genus', 'Species')) %>%\n",
    "    nrow"
   ]
  },
  {
   "cell_type": "code",
   "execution_count": 9,
   "metadata": {
    "ExecuteTime": {
     "end_time": "2022-02-09T09:29:24.939931Z",
     "start_time": "2022-02-09T09:29:21.060Z"
    }
   },
   "outputs": [
    {
     "data": {
      "text/html": [
       "0"
      ],
      "text/latex": [
       "0"
      ],
      "text/markdown": [
       "0"
      ],
      "text/plain": [
       "[1] 0"
      ]
     },
     "metadata": {},
     "output_type": "display_data"
    }
   ],
   "source": [
    "inner_join.(train, novFam, c('Family', 'Genus', 'Species')) %>%\n",
    "    nrow"
   ]
  },
  {
   "cell_type": "markdown",
   "metadata": {},
   "source": [
    "# Genomes per species"
   ]
  },
  {
   "cell_type": "code",
   "execution_count": 10,
   "metadata": {
    "ExecuteTime": {
     "end_time": "2022-02-09T09:29:25.000945Z",
     "start_time": "2022-02-09T09:29:21.061Z"
    }
   },
   "outputs": [
    {
     "data": {
      "text/html": [
       "<table class=\"dataframe\">\n",
       "<caption>A matrix: 1 × 8 of type dbl</caption>\n",
       "<thead>\n",
       "\t<tr><th></th><th scope=col>Min.</th><th scope=col>1st Qu.</th><th scope=col>Median</th><th scope=col>Mean</th><th scope=col>3rd Qu.</th><th scope=col>Max.</th><th scope=col>sd</th><th scope=col>sd_err_of_mean</th></tr>\n",
       "</thead>\n",
       "<tbody>\n",
       "\t<tr><th scope=row>genomes per species</th><td>1</td><td>1</td><td>1</td><td>4.561581</td><td>2</td><td>878</td><td>38.474</td><td>15.707</td></tr>\n",
       "</tbody>\n",
       "</table>\n"
      ],
      "text/latex": [
       "A matrix: 1 × 8 of type dbl\n",
       "\\begin{tabular}{r|llllllll}\n",
       "  & Min. & 1st Qu. & Median & Mean & 3rd Qu. & Max. & sd & sd\\_err\\_of\\_mean\\\\\n",
       "\\hline\n",
       "\tgenomes per species & 1 & 1 & 1 & 4.561581 & 2 & 878 & 38.474 & 15.707\\\\\n",
       "\\end{tabular}\n"
      ],
      "text/markdown": [
       "\n",
       "A matrix: 1 × 8 of type dbl\n",
       "\n",
       "| <!--/--> | Min. | 1st Qu. | Median | Mean | 3rd Qu. | Max. | sd | sd_err_of_mean |\n",
       "|---|---|---|---|---|---|---|---|---|\n",
       "| genomes per species | 1 | 1 | 1 | 4.561581 | 2 | 878 | 38.474 | 15.707 |\n",
       "\n"
      ],
      "text/plain": [
       "                    Min. 1st Qu. Median Mean     3rd Qu. Max. sd    \n",
       "genomes per species 1    1       1      4.561581 2       878  38.474\n",
       "                    sd_err_of_mean\n",
       "genomes per species 15.707        "
      ]
     },
     "metadata": {},
     "output_type": "display_data"
    }
   ],
   "source": [
    "train %>%\n",
    "    summarize.(n_gen = accession %>% unique %>% length,\n",
    "               .by = c(Family, Genus, Species)) %>%\n",
    "    .$n_gen %>% summary_x('genomes per species')"
   ]
  },
  {
   "cell_type": "code",
   "execution_count": 11,
   "metadata": {
    "ExecuteTime": {
     "end_time": "2022-02-09T09:29:25.063359Z",
     "start_time": "2022-02-09T09:29:21.062Z"
    }
   },
   "outputs": [
    {
     "data": {
      "text/html": [
       "<table class=\"dataframe\">\n",
       "<caption>A matrix: 1 × 8 of type dbl</caption>\n",
       "<thead>\n",
       "\t<tr><th></th><th scope=col>Min.</th><th scope=col>1st Qu.</th><th scope=col>Median</th><th scope=col>Mean</th><th scope=col>3rd Qu.</th><th scope=col>Max.</th><th scope=col>sd</th><th scope=col>sd_err_of_mean</th></tr>\n",
       "</thead>\n",
       "<tbody>\n",
       "\t<tr><th scope=row>genomes per species</th><td>1</td><td>1</td><td>1</td><td>3.400076</td><td>1</td><td>604</td><td>22.635</td><td>9.241</td></tr>\n",
       "</tbody>\n",
       "</table>\n"
      ],
      "text/latex": [
       "A matrix: 1 × 8 of type dbl\n",
       "\\begin{tabular}{r|llllllll}\n",
       "  & Min. & 1st Qu. & Median & Mean & 3rd Qu. & Max. & sd & sd\\_err\\_of\\_mean\\\\\n",
       "\\hline\n",
       "\tgenomes per species & 1 & 1 & 1 & 3.400076 & 1 & 604 & 22.635 & 9.241\\\\\n",
       "\\end{tabular}\n"
      ],
      "text/markdown": [
       "\n",
       "A matrix: 1 × 8 of type dbl\n",
       "\n",
       "| <!--/--> | Min. | 1st Qu. | Median | Mean | 3rd Qu. | Max. | sd | sd_err_of_mean |\n",
       "|---|---|---|---|---|---|---|---|---|\n",
       "| genomes per species | 1 | 1 | 1 | 3.400076 | 1 | 604 | 22.635 | 9.241 |\n",
       "\n"
      ],
      "text/plain": [
       "                    Min. 1st Qu. Median Mean     3rd Qu. Max. sd    \n",
       "genomes per species 1    1       1      3.400076 1       604  22.635\n",
       "                    sd_err_of_mean\n",
       "genomes per species 9.241         "
      ]
     },
     "metadata": {},
     "output_type": "display_data"
    }
   ],
   "source": [
    "test %>%\n",
    "    summarize.(n_gen = accession %>% unique %>% length,\n",
    "               .by = c(Family, Genus, Species)) %>%\n",
    "    .$n_gen %>% summary_x('genomes per species')"
   ]
  },
  {
   "cell_type": "code",
   "execution_count": 12,
   "metadata": {
    "ExecuteTime": {
     "end_time": "2022-02-09T09:29:25.145335Z",
     "start_time": "2022-02-09T09:29:21.063Z"
    }
   },
   "outputs": [
    {
     "data": {
      "text/html": [
       "<table class=\"dataframe\">\n",
       "<caption>A matrix: 1 × 8 of type dbl</caption>\n",
       "<thead>\n",
       "\t<tr><th></th><th scope=col>Min.</th><th scope=col>1st Qu.</th><th scope=col>Median</th><th scope=col>Mean</th><th scope=col>3rd Qu.</th><th scope=col>Max.</th><th scope=col>sd</th><th scope=col>sd_err_of_mean</th></tr>\n",
       "</thead>\n",
       "<tbody>\n",
       "\t<tr><th scope=row>genomes per species</th><td>1</td><td>1</td><td>1</td><td>3.452244</td><td>1</td><td>675</td><td>21.389</td><td>8.732</td></tr>\n",
       "</tbody>\n",
       "</table>\n"
      ],
      "text/latex": [
       "A matrix: 1 × 8 of type dbl\n",
       "\\begin{tabular}{r|llllllll}\n",
       "  & Min. & 1st Qu. & Median & Mean & 3rd Qu. & Max. & sd & sd\\_err\\_of\\_mean\\\\\n",
       "\\hline\n",
       "\tgenomes per species & 1 & 1 & 1 & 3.452244 & 1 & 675 & 21.389 & 8.732\\\\\n",
       "\\end{tabular}\n"
      ],
      "text/markdown": [
       "\n",
       "A matrix: 1 × 8 of type dbl\n",
       "\n",
       "| <!--/--> | Min. | 1st Qu. | Median | Mean | 3rd Qu. | Max. | sd | sd_err_of_mean |\n",
       "|---|---|---|---|---|---|---|---|---|\n",
       "| genomes per species | 1 | 1 | 1 | 3.452244 | 1 | 675 | 21.389 | 8.732 |\n",
       "\n"
      ],
      "text/plain": [
       "                    Min. 1st Qu. Median Mean     3rd Qu. Max. sd    \n",
       "genomes per species 1    1       1      3.452244 1       675  21.389\n",
       "                    sd_err_of_mean\n",
       "genomes per species 8.732         "
      ]
     },
     "metadata": {},
     "output_type": "display_data"
    }
   ],
   "source": [
    "novFam %>%\n",
    "    summarize.(n_gen = accession %>% unique %>% length,\n",
    "               .by = c(Family, Genus, Species)) %>%\n",
    "    .$n_gen %>% summary_x('genomes per species')"
   ]
  },
  {
   "cell_type": "markdown",
   "metadata": {},
   "source": [
    "# Subsetting"
   ]
  },
  {
   "cell_type": "code",
   "execution_count": 16,
   "metadata": {
    "ExecuteTime": {
     "end_time": "2022-02-09T12:22:51.678478Z",
     "start_time": "2022-02-09T12:22:51.600Z"
    }
   },
   "outputs": [
    {
     "data": {
      "text/html": [
       "<table class=\"dataframe\">\n",
       "<caption>A matrix: 1 × 8 of type dbl</caption>\n",
       "<thead>\n",
       "\t<tr><th></th><th scope=col>Min.</th><th scope=col>1st Qu.</th><th scope=col>Median</th><th scope=col>Mean</th><th scope=col>3rd Qu.</th><th scope=col>Max.</th><th scope=col>sd</th><th scope=col>sd_err_of_mean</th></tr>\n",
       "</thead>\n",
       "<tbody>\n",
       "\t<tr><th scope=row>genomes per species</th><td>1</td><td>1</td><td>1</td><td>4.561581</td><td>2</td><td>878</td><td>38.474</td><td>15.707</td></tr>\n",
       "</tbody>\n",
       "</table>\n"
      ],
      "text/latex": [
       "A matrix: 1 × 8 of type dbl\n",
       "\\begin{tabular}{r|llllllll}\n",
       "  & Min. & 1st Qu. & Median & Mean & 3rd Qu. & Max. & sd & sd\\_err\\_of\\_mean\\\\\n",
       "\\hline\n",
       "\tgenomes per species & 1 & 1 & 1 & 4.561581 & 2 & 878 & 38.474 & 15.707\\\\\n",
       "\\end{tabular}\n"
      ],
      "text/markdown": [
       "\n",
       "A matrix: 1 × 8 of type dbl\n",
       "\n",
       "| <!--/--> | Min. | 1st Qu. | Median | Mean | 3rd Qu. | Max. | sd | sd_err_of_mean |\n",
       "|---|---|---|---|---|---|---|---|---|\n",
       "| genomes per species | 1 | 1 | 1 | 4.561581 | 2 | 878 | 38.474 | 15.707 |\n",
       "\n"
      ],
      "text/plain": [
       "                    Min. 1st Qu. Median Mean     3rd Qu. Max. sd    \n",
       "genomes per species 1    1       1      4.561581 2       878  38.474\n",
       "                    sd_err_of_mean\n",
       "genomes per species 15.707        "
      ]
     },
     "metadata": {},
     "output_type": "display_data"
    }
   ],
   "source": [
    "genomes_per_spec = function(dt){\n",
    "    dt %>%\n",
    "        summarize.(X = accession %>% unique %>% length,\n",
    "               .by = c(Family, Genus, Species)) %>%\n",
    "        .$X %>% summary_x('genomes per species')\n",
    "}\n",
    "genomes_per_spec(train)"
   ]
  },
  {
   "cell_type": "code",
   "execution_count": 18,
   "metadata": {
    "ExecuteTime": {
     "end_time": "2022-02-09T12:24:26.750083Z",
     "start_time": "2022-02-09T12:24:26.599Z"
    }
   },
   "outputs": [
    {
     "data": {
      "text/html": [
       "<table class=\"dataframe\">\n",
       "<caption>A matrix: 1 × 8 of type dbl</caption>\n",
       "<thead>\n",
       "\t<tr><th></th><th scope=col>Min.</th><th scope=col>1st Qu.</th><th scope=col>Median</th><th scope=col>Mean</th><th scope=col>3rd Qu.</th><th scope=col>Max.</th><th scope=col>sd</th><th scope=col>sd_err_of_mean</th></tr>\n",
       "</thead>\n",
       "<tbody>\n",
       "\t<tr><th scope=row>genomes per species</th><td>1</td><td>9</td><td>11</td><td>19.04762</td><td>25</td><td>50</td><td>15.513</td><td>6.333</td></tr>\n",
       "</tbody>\n",
       "</table>\n"
      ],
      "text/latex": [
       "A matrix: 1 × 8 of type dbl\n",
       "\\begin{tabular}{r|llllllll}\n",
       "  & Min. & 1st Qu. & Median & Mean & 3rd Qu. & Max. & sd & sd\\_err\\_of\\_mean\\\\\n",
       "\\hline\n",
       "\tgenomes per species & 1 & 9 & 11 & 19.04762 & 25 & 50 & 15.513 & 6.333\\\\\n",
       "\\end{tabular}\n"
      ],
      "text/markdown": [
       "\n",
       "A matrix: 1 × 8 of type dbl\n",
       "\n",
       "| <!--/--> | Min. | 1st Qu. | Median | Mean | 3rd Qu. | Max. | sd | sd_err_of_mean |\n",
       "|---|---|---|---|---|---|---|---|---|\n",
       "| genomes per species | 1 | 9 | 11 | 19.04762 | 25 | 50 | 15.513 | 6.333 |\n",
       "\n"
      ],
      "text/plain": [
       "                    Min. 1st Qu. Median Mean     3rd Qu. Max. sd    \n",
       "genomes per species 1    9       11     19.04762 25      50   15.513\n",
       "                    sd_err_of_mean\n",
       "genomes per species 6.333         "
      ]
     },
     "metadata": {},
     "output_type": "display_data"
    },
    {
     "data": {
      "text/html": [
       "<table class=\"dataframe\">\n",
       "<caption>A tidytable: 2000 × 20</caption>\n",
       "<thead>\n",
       "\t<tr><th scope=col>accession</th><th scope=col>ncbi_genbank_assembly_accession</th><th scope=col>Domain</th><th scope=col>Phylum</th><th scope=col>Class</th><th scope=col>Order</th><th scope=col>Family</th><th scope=col>Genus</th><th scope=col>Species</th><th scope=col>fasta_file_path</th><th scope=col>dataset</th><th scope=col>checkm_completeness</th><th scope=col>checkm_contamination</th><th scope=col>contig_count</th><th scope=col>gc_percentage</th><th scope=col>genome_size</th><th scope=col>n50_contigs</th><th scope=col>ssu_count</th><th scope=col>X</th><th scope=col>Y</th></tr>\n",
       "\t<tr><th scope=col>&lt;chr&gt;</th><th scope=col>&lt;chr&gt;</th><th scope=col>&lt;chr&gt;</th><th scope=col>&lt;chr&gt;</th><th scope=col>&lt;chr&gt;</th><th scope=col>&lt;chr&gt;</th><th scope=col>&lt;chr&gt;</th><th scope=col>&lt;chr&gt;</th><th scope=col>&lt;chr&gt;</th><th scope=col>&lt;chr&gt;</th><th scope=col>&lt;chr&gt;</th><th scope=col>&lt;dbl&gt;</th><th scope=col>&lt;dbl&gt;</th><th scope=col>&lt;int&gt;</th><th scope=col>&lt;dbl&gt;</th><th scope=col>&lt;int&gt;</th><th scope=col>&lt;int&gt;</th><th scope=col>&lt;int&gt;</th><th scope=col>&lt;int&gt;</th><th scope=col>&lt;int&gt;</th></tr>\n",
       "</thead>\n",
       "<tbody>\n",
       "\t<tr><td>GB_GCA_000232825.2</td><td>GCA_000232825.2</td><td>Bacteria</td><td>Firmicutes</td><td>Bacilli</td><td>Lactobacillales</td><td>Streptococcaceae</td><td>Streptococcus</td><td>Streptococcus pneumoniae</td><td>/ebio/abt3_projects/databases_no-backup/DeepMAsED/version2/ref_genomes/GTDBr202/genomes_fasta/genbank/bacteria/GCA_000232825.2/GCA_000232825.2_ASM23282v2_genomic.fna.gz</td><td>Train</td><td>99.32</td><td>0.2</td><td>13</td><td>39.71642</td><td>2192860</td><td>345845</td><td>5</td><td>878</td><td>1</td></tr>\n",
       "\t<tr><td>RS_GCF_001107445.1</td><td>GCA_001107445.1</td><td>Bacteria</td><td>Firmicutes</td><td>Bacilli</td><td>Lactobacillales</td><td>Streptococcaceae</td><td>Streptococcus</td><td>Streptococcus pneumoniae</td><td>/ebio/abt3_projects/databases_no-backup/DeepMAsED/version2/ref_genomes/GTDBr202/genomes_fasta/genbank/bacteria/GCA_001107445.1/GCA_001107445.1_6631_5_10_genomic.fna.gz </td><td>Train</td><td>99.42</td><td>0.6</td><td>55</td><td>39.57784</td><td>2090620</td><td> 69975</td><td>1</td><td>878</td><td>2</td></tr>\n",
       "\t<tr><td>⋮</td><td>⋮</td><td>⋮</td><td>⋮</td><td>⋮</td><td>⋮</td><td>⋮</td><td>⋮</td><td>⋮</td><td>⋮</td><td>⋮</td><td>⋮</td><td>⋮</td><td>⋮</td><td>⋮</td><td>⋮</td><td>⋮</td><td>⋮</td><td>⋮</td><td>⋮</td></tr>\n",
       "\t<tr><td>RS_GCF_014220155.1</td><td>GCA_014220155.1</td><td>Bacteria</td><td>Bacteroidota  </td><td>Bacteroidia        </td><td>Flavobacteriales</td><td>Weeksellaceae  </td><td>Chryseobacterium</td><td>Chryseobacterium indologenes</td><td>/ebio/abt3_projects/databases_no-backup/DeepMAsED/version2/ref_genomes/GTDBr202/genomes_fasta/genbank/bacteria/GCA_014220155.1/GCA_014220155.1_ASM1422015v1_genomic.fna.gz</td><td>Train</td><td>100.00</td><td>0.98</td><td>112</td><td>37.22141</td><td>4868732</td><td>473218</td><td>1</td><td>7</td><td>1999</td></tr>\n",
       "\t<tr><td>RS_GCF_900034905.1</td><td>GCA_900034905.1</td><td>Bacteria</td><td>Proteobacteria</td><td>Gammaproteobacteria</td><td>Enterobacterales</td><td>Pasteurellaceae</td><td>Haemophilus     </td><td>Haemophilus influenzae_D    </td><td>/ebio/abt3_projects/databases_no-backup/DeepMAsED/version2/ref_genomes/GTDBr202/genomes_fasta/genbank/bacteria/GCA_900034905.1/GCA_900034905.1_14412_3_85_genomic.fna.gz  </td><td>Train</td><td> 99.54</td><td>0.23</td><td> 19</td><td>38.01066</td><td>1835717</td><td>309273</td><td>1</td><td>7</td><td>2000</td></tr>\n",
       "</tbody>\n",
       "</table>\n"
      ],
      "text/latex": [
       "A tidytable: 2000 × 20\n",
       "\\begin{tabular}{llllllllllllllllllll}\n",
       " accession & ncbi\\_genbank\\_assembly\\_accession & Domain & Phylum & Class & Order & Family & Genus & Species & fasta\\_file\\_path & dataset & checkm\\_completeness & checkm\\_contamination & contig\\_count & gc\\_percentage & genome\\_size & n50\\_contigs & ssu\\_count & X & Y\\\\\n",
       " <chr> & <chr> & <chr> & <chr> & <chr> & <chr> & <chr> & <chr> & <chr> & <chr> & <chr> & <dbl> & <dbl> & <int> & <dbl> & <int> & <int> & <int> & <int> & <int>\\\\\n",
       "\\hline\n",
       "\t GB\\_GCA\\_000232825.2 & GCA\\_000232825.2 & Bacteria & Firmicutes & Bacilli & Lactobacillales & Streptococcaceae & Streptococcus & Streptococcus pneumoniae & /ebio/abt3\\_projects/databases\\_no-backup/DeepMAsED/version2/ref\\_genomes/GTDBr202/genomes\\_fasta/genbank/bacteria/GCA\\_000232825.2/GCA\\_000232825.2\\_ASM23282v2\\_genomic.fna.gz & Train & 99.32 & 0.2 & 13 & 39.71642 & 2192860 & 345845 & 5 & 878 & 1\\\\\n",
       "\t RS\\_GCF\\_001107445.1 & GCA\\_001107445.1 & Bacteria & Firmicutes & Bacilli & Lactobacillales & Streptococcaceae & Streptococcus & Streptococcus pneumoniae & /ebio/abt3\\_projects/databases\\_no-backup/DeepMAsED/version2/ref\\_genomes/GTDBr202/genomes\\_fasta/genbank/bacteria/GCA\\_001107445.1/GCA\\_001107445.1\\_6631\\_5\\_10\\_genomic.fna.gz  & Train & 99.42 & 0.6 & 55 & 39.57784 & 2090620 &  69975 & 1 & 878 & 2\\\\\n",
       "\t ⋮ & ⋮ & ⋮ & ⋮ & ⋮ & ⋮ & ⋮ & ⋮ & ⋮ & ⋮ & ⋮ & ⋮ & ⋮ & ⋮ & ⋮ & ⋮ & ⋮ & ⋮ & ⋮ & ⋮\\\\\n",
       "\t RS\\_GCF\\_014220155.1 & GCA\\_014220155.1 & Bacteria & Bacteroidota   & Bacteroidia         & Flavobacteriales & Weeksellaceae   & Chryseobacterium & Chryseobacterium indologenes & /ebio/abt3\\_projects/databases\\_no-backup/DeepMAsED/version2/ref\\_genomes/GTDBr202/genomes\\_fasta/genbank/bacteria/GCA\\_014220155.1/GCA\\_014220155.1\\_ASM1422015v1\\_genomic.fna.gz & Train & 100.00 & 0.98 & 112 & 37.22141 & 4868732 & 473218 & 1 & 7 & 1999\\\\\n",
       "\t RS\\_GCF\\_900034905.1 & GCA\\_900034905.1 & Bacteria & Proteobacteria & Gammaproteobacteria & Enterobacterales & Pasteurellaceae & Haemophilus      & Haemophilus influenzae\\_D     & /ebio/abt3\\_projects/databases\\_no-backup/DeepMAsED/version2/ref\\_genomes/GTDBr202/genomes\\_fasta/genbank/bacteria/GCA\\_900034905.1/GCA\\_900034905.1\\_14412\\_3\\_85\\_genomic.fna.gz   & Train &  99.54 & 0.23 &  19 & 38.01066 & 1835717 & 309273 & 1 & 7 & 2000\\\\\n",
       "\\end{tabular}\n"
      ],
      "text/markdown": [
       "\n",
       "A tidytable: 2000 × 20\n",
       "\n",
       "| accession &lt;chr&gt; | ncbi_genbank_assembly_accession &lt;chr&gt; | Domain &lt;chr&gt; | Phylum &lt;chr&gt; | Class &lt;chr&gt; | Order &lt;chr&gt; | Family &lt;chr&gt; | Genus &lt;chr&gt; | Species &lt;chr&gt; | fasta_file_path &lt;chr&gt; | dataset &lt;chr&gt; | checkm_completeness &lt;dbl&gt; | checkm_contamination &lt;dbl&gt; | contig_count &lt;int&gt; | gc_percentage &lt;dbl&gt; | genome_size &lt;int&gt; | n50_contigs &lt;int&gt; | ssu_count &lt;int&gt; | X &lt;int&gt; | Y &lt;int&gt; |\n",
       "|---|---|---|---|---|---|---|---|---|---|---|---|---|---|---|---|---|---|---|---|\n",
       "| GB_GCA_000232825.2 | GCA_000232825.2 | Bacteria | Firmicutes | Bacilli | Lactobacillales | Streptococcaceae | Streptococcus | Streptococcus pneumoniae | /ebio/abt3_projects/databases_no-backup/DeepMAsED/version2/ref_genomes/GTDBr202/genomes_fasta/genbank/bacteria/GCA_000232825.2/GCA_000232825.2_ASM23282v2_genomic.fna.gz | Train | 99.32 | 0.2 | 13 | 39.71642 | 2192860 | 345845 | 5 | 878 | 1 |\n",
       "| RS_GCF_001107445.1 | GCA_001107445.1 | Bacteria | Firmicutes | Bacilli | Lactobacillales | Streptococcaceae | Streptococcus | Streptococcus pneumoniae | /ebio/abt3_projects/databases_no-backup/DeepMAsED/version2/ref_genomes/GTDBr202/genomes_fasta/genbank/bacteria/GCA_001107445.1/GCA_001107445.1_6631_5_10_genomic.fna.gz  | Train | 99.42 | 0.6 | 55 | 39.57784 | 2090620 |  69975 | 1 | 878 | 2 |\n",
       "| ⋮ | ⋮ | ⋮ | ⋮ | ⋮ | ⋮ | ⋮ | ⋮ | ⋮ | ⋮ | ⋮ | ⋮ | ⋮ | ⋮ | ⋮ | ⋮ | ⋮ | ⋮ | ⋮ | ⋮ |\n",
       "| RS_GCF_014220155.1 | GCA_014220155.1 | Bacteria | Bacteroidota   | Bacteroidia         | Flavobacteriales | Weeksellaceae   | Chryseobacterium | Chryseobacterium indologenes | /ebio/abt3_projects/databases_no-backup/DeepMAsED/version2/ref_genomes/GTDBr202/genomes_fasta/genbank/bacteria/GCA_014220155.1/GCA_014220155.1_ASM1422015v1_genomic.fna.gz | Train | 100.00 | 0.98 | 112 | 37.22141 | 4868732 | 473218 | 1 | 7 | 1999 |\n",
       "| RS_GCF_900034905.1 | GCA_900034905.1 | Bacteria | Proteobacteria | Gammaproteobacteria | Enterobacterales | Pasteurellaceae | Haemophilus      | Haemophilus influenzae_D     | /ebio/abt3_projects/databases_no-backup/DeepMAsED/version2/ref_genomes/GTDBr202/genomes_fasta/genbank/bacteria/GCA_900034905.1/GCA_900034905.1_14412_3_85_genomic.fna.gz   | Train |  99.54 | 0.23 |  19 | 38.01066 | 1835717 | 309273 | 1 | 7 | 2000 |\n",
       "\n"
      ],
      "text/plain": [
       "     accession          ncbi_genbank_assembly_accession Domain   Phylum        \n",
       "1    GB_GCA_000232825.2 GCA_000232825.2                 Bacteria Firmicutes    \n",
       "2    RS_GCF_001107445.1 GCA_001107445.1                 Bacteria Firmicutes    \n",
       "⋮    ⋮                  ⋮                               ⋮        ⋮             \n",
       "1999 RS_GCF_014220155.1 GCA_014220155.1                 Bacteria Bacteroidota  \n",
       "2000 RS_GCF_900034905.1 GCA_900034905.1                 Bacteria Proteobacteria\n",
       "     Class               Order            Family           Genus           \n",
       "1    Bacilli             Lactobacillales  Streptococcaceae Streptococcus   \n",
       "2    Bacilli             Lactobacillales  Streptococcaceae Streptococcus   \n",
       "⋮    ⋮                   ⋮                ⋮                ⋮               \n",
       "1999 Bacteroidia         Flavobacteriales Weeksellaceae    Chryseobacterium\n",
       "2000 Gammaproteobacteria Enterobacterales Pasteurellaceae  Haemophilus     \n",
       "     Species                     \n",
       "1    Streptococcus pneumoniae    \n",
       "2    Streptococcus pneumoniae    \n",
       "⋮    ⋮                           \n",
       "1999 Chryseobacterium indologenes\n",
       "2000 Haemophilus influenzae_D    \n",
       "     fasta_file_path                                                                                                                                                           \n",
       "1    /ebio/abt3_projects/databases_no-backup/DeepMAsED/version2/ref_genomes/GTDBr202/genomes_fasta/genbank/bacteria/GCA_000232825.2/GCA_000232825.2_ASM23282v2_genomic.fna.gz  \n",
       "2    /ebio/abt3_projects/databases_no-backup/DeepMAsED/version2/ref_genomes/GTDBr202/genomes_fasta/genbank/bacteria/GCA_001107445.1/GCA_001107445.1_6631_5_10_genomic.fna.gz   \n",
       "⋮    ⋮                                                                                                                                                                         \n",
       "1999 /ebio/abt3_projects/databases_no-backup/DeepMAsED/version2/ref_genomes/GTDBr202/genomes_fasta/genbank/bacteria/GCA_014220155.1/GCA_014220155.1_ASM1422015v1_genomic.fna.gz\n",
       "2000 /ebio/abt3_projects/databases_no-backup/DeepMAsED/version2/ref_genomes/GTDBr202/genomes_fasta/genbank/bacteria/GCA_900034905.1/GCA_900034905.1_14412_3_85_genomic.fna.gz  \n",
       "     dataset checkm_completeness checkm_contamination contig_count\n",
       "1    Train   99.32               0.2                  13          \n",
       "2    Train   99.42               0.6                  55          \n",
       "⋮    ⋮       ⋮                   ⋮                    ⋮           \n",
       "1999 Train   100.00              0.98                 112         \n",
       "2000 Train    99.54              0.23                  19         \n",
       "     gc_percentage genome_size n50_contigs ssu_count X   Y   \n",
       "1    39.71642      2192860     345845      5         878 1   \n",
       "2    39.57784      2090620      69975      1         878 2   \n",
       "⋮    ⋮             ⋮           ⋮           ⋮         ⋮   ⋮   \n",
       "1999 37.22141      4868732     473218      1         7   1999\n",
       "2000 38.01066      1835717     309273      1         7   2000"
      ]
     },
     "metadata": {},
     "output_type": "display_data"
    }
   ],
   "source": [
    "enrich_intraspec = function(dt, n = 2000){\n",
    "    dt %>%\n",
    "        mutate.(X = accession %>% unique %>% length,\n",
    "                .by = c(Family, Genus, Species)) %>%\n",
    "        mutate.(Y = sample(1:length(X), length(X)),\n",
    "                .by = c(Family, Genus, Species)) %>%\n",
    "        filter.(Y <= 50) %>%\n",
    "        arrange.(-X) %>%\n",
    "        mutate.(Y = 1:nrow(.)) %>%\n",
    "        filter.(Y <= n)\n",
    "}\n",
    "\n",
    "# train\n",
    "train_f = enrich_intraspec(train)\n",
    "train_f %>% genomes_per_spec\n",
    "train_f "
   ]
  },
  {
   "cell_type": "code",
   "execution_count": 19,
   "metadata": {
    "ExecuteTime": {
     "end_time": "2022-02-09T12:24:45.528019Z",
     "start_time": "2022-02-09T12:24:45.365Z"
    }
   },
   "outputs": [
    {
     "data": {
      "text/html": [
       "<table class=\"dataframe\">\n",
       "<caption>A matrix: 1 × 8 of type dbl</caption>\n",
       "<thead>\n",
       "\t<tr><th></th><th scope=col>Min.</th><th scope=col>1st Qu.</th><th scope=col>Median</th><th scope=col>Mean</th><th scope=col>3rd Qu.</th><th scope=col>Max.</th><th scope=col>sd</th><th scope=col>sd_err_of_mean</th></tr>\n",
       "</thead>\n",
       "<tbody>\n",
       "\t<tr><th scope=row>genomes per species</th><td>1</td><td>16.5</td><td>26</td><td>31.74603</td><td>50</td><td>50</td><td>16.463</td><td>6.721</td></tr>\n",
       "</tbody>\n",
       "</table>\n"
      ],
      "text/latex": [
       "A matrix: 1 × 8 of type dbl\n",
       "\\begin{tabular}{r|llllllll}\n",
       "  & Min. & 1st Qu. & Median & Mean & 3rd Qu. & Max. & sd & sd\\_err\\_of\\_mean\\\\\n",
       "\\hline\n",
       "\tgenomes per species & 1 & 16.5 & 26 & 31.74603 & 50 & 50 & 16.463 & 6.721\\\\\n",
       "\\end{tabular}\n"
      ],
      "text/markdown": [
       "\n",
       "A matrix: 1 × 8 of type dbl\n",
       "\n",
       "| <!--/--> | Min. | 1st Qu. | Median | Mean | 3rd Qu. | Max. | sd | sd_err_of_mean |\n",
       "|---|---|---|---|---|---|---|---|---|\n",
       "| genomes per species | 1 | 16.5 | 26 | 31.74603 | 50 | 50 | 16.463 | 6.721 |\n",
       "\n"
      ],
      "text/plain": [
       "                    Min. 1st Qu. Median Mean     3rd Qu. Max. sd    \n",
       "genomes per species 1    16.5    26     31.74603 50      50   16.463\n",
       "                    sd_err_of_mean\n",
       "genomes per species 6.721         "
      ]
     },
     "metadata": {},
     "output_type": "display_data"
    },
    {
     "data": {
      "text/html": [
       "<table class=\"dataframe\">\n",
       "<caption>A tidytable: 2000 × 20</caption>\n",
       "<thead>\n",
       "\t<tr><th scope=col>accession</th><th scope=col>ncbi_genbank_assembly_accession</th><th scope=col>Domain</th><th scope=col>Phylum</th><th scope=col>Class</th><th scope=col>Order</th><th scope=col>Family</th><th scope=col>Genus</th><th scope=col>Species</th><th scope=col>fasta_file_path</th><th scope=col>dataset</th><th scope=col>checkm_completeness</th><th scope=col>checkm_contamination</th><th scope=col>contig_count</th><th scope=col>gc_percentage</th><th scope=col>genome_size</th><th scope=col>n50_contigs</th><th scope=col>ssu_count</th><th scope=col>X</th><th scope=col>Y</th></tr>\n",
       "\t<tr><th scope=col>&lt;chr&gt;</th><th scope=col>&lt;chr&gt;</th><th scope=col>&lt;chr&gt;</th><th scope=col>&lt;chr&gt;</th><th scope=col>&lt;chr&gt;</th><th scope=col>&lt;chr&gt;</th><th scope=col>&lt;chr&gt;</th><th scope=col>&lt;chr&gt;</th><th scope=col>&lt;chr&gt;</th><th scope=col>&lt;chr&gt;</th><th scope=col>&lt;chr&gt;</th><th scope=col>&lt;dbl&gt;</th><th scope=col>&lt;dbl&gt;</th><th scope=col>&lt;int&gt;</th><th scope=col>&lt;dbl&gt;</th><th scope=col>&lt;int&gt;</th><th scope=col>&lt;int&gt;</th><th scope=col>&lt;int&gt;</th><th scope=col>&lt;int&gt;</th><th scope=col>&lt;int&gt;</th></tr>\n",
       "</thead>\n",
       "<tbody>\n",
       "\t<tr><td>RS_GCF_001141985.1</td><td>GCA_001141985.1</td><td>Bacteria</td><td>Firmicutes</td><td>Bacilli</td><td>Lactobacillales</td><td>Streptococcaceae</td><td>Streptococcus</td><td>Streptococcus pneumoniae</td><td>/ebio/abt3_projects/databases_no-backup/DeepMAsED/version2/ref_genomes/GTDBr202/genomes_fasta/genbank/bacteria/GCA_001141985.1/GCA_001141985.1_6259_7_14_genomic.fna.gz</td><td>Test</td><td>99.42</td><td>2.99</td><td>58</td><td>39.69878</td><td>2060491</td><td>62788</td><td>1</td><td>604</td><td>1</td></tr>\n",
       "\t<tr><td>RS_GCF_001339515.1</td><td>GCA_001339515.1</td><td>Bacteria</td><td>Firmicutes</td><td>Bacilli</td><td>Lactobacillales</td><td>Streptococcaceae</td><td>Streptococcus</td><td>Streptococcus pneumoniae</td><td>/ebio/abt3_projects/databases_no-backup/DeepMAsED/version2/ref_genomes/GTDBr202/genomes_fasta/genbank/bacteria/GCA_001339515.1/GCA_001339515.1_6731_4_24_genomic.fna.gz</td><td>Test</td><td>99.42</td><td>0.20</td><td>65</td><td>39.69419</td><td>2036322</td><td>57034</td><td>1</td><td>604</td><td>2</td></tr>\n",
       "\t<tr><td>⋮</td><td>⋮</td><td>⋮</td><td>⋮</td><td>⋮</td><td>⋮</td><td>⋮</td><td>⋮</td><td>⋮</td><td>⋮</td><td>⋮</td><td>⋮</td><td>⋮</td><td>⋮</td><td>⋮</td><td>⋮</td><td>⋮</td><td>⋮</td><td>⋮</td><td>⋮</td></tr>\n",
       "\t<tr><td>RS_GCF_002891135.1</td><td>GCA_002891135.1</td><td>Bacteria</td><td>Proteobacteria</td><td>Gammaproteobacteria</td><td>Burkholderiales</td><td>Burkholderiaceae</td><td>Burkholderia</td><td>Burkholderia cenocepacia</td><td>/ebio/abt3_projects/databases_no-backup/DeepMAsED/version2/ref_genomes/GTDBr202/genomes_fasta/genbank/bacteria/GCA_002891135.1/GCA_002891135.1_ASM289113v1_genomic.fna.gz</td><td>Test</td><td>99.87</td><td>2.36</td><td> 9</td><td>66.86994</td><td>8094552</td><td>3217060</td><td>6</td><td>13</td><td>1999</td></tr>\n",
       "\t<tr><td>RS_GCF_006980475.1</td><td>GCA_006980475.1</td><td>Bacteria</td><td>Proteobacteria</td><td>Gammaproteobacteria</td><td>Xanthomonadales</td><td>Xanthomonadaceae</td><td>Xanthomonas </td><td>Xanthomonas perforans   </td><td>/ebio/abt3_projects/databases_no-backup/DeepMAsED/version2/ref_genomes/GTDBr202/genomes_fasta/genbank/bacteria/GCA_006980475.1/GCA_006980475.1_ASM698047v1_genomic.fna.gz</td><td>Test</td><td>99.64</td><td>0.56</td><td>72</td><td>64.68501</td><td>5239945</td><td> 175168</td><td>1</td><td>13</td><td>2000</td></tr>\n",
       "</tbody>\n",
       "</table>\n"
      ],
      "text/latex": [
       "A tidytable: 2000 × 20\n",
       "\\begin{tabular}{llllllllllllllllllll}\n",
       " accession & ncbi\\_genbank\\_assembly\\_accession & Domain & Phylum & Class & Order & Family & Genus & Species & fasta\\_file\\_path & dataset & checkm\\_completeness & checkm\\_contamination & contig\\_count & gc\\_percentage & genome\\_size & n50\\_contigs & ssu\\_count & X & Y\\\\\n",
       " <chr> & <chr> & <chr> & <chr> & <chr> & <chr> & <chr> & <chr> & <chr> & <chr> & <chr> & <dbl> & <dbl> & <int> & <dbl> & <int> & <int> & <int> & <int> & <int>\\\\\n",
       "\\hline\n",
       "\t RS\\_GCF\\_001141985.1 & GCA\\_001141985.1 & Bacteria & Firmicutes & Bacilli & Lactobacillales & Streptococcaceae & Streptococcus & Streptococcus pneumoniae & /ebio/abt3\\_projects/databases\\_no-backup/DeepMAsED/version2/ref\\_genomes/GTDBr202/genomes\\_fasta/genbank/bacteria/GCA\\_001141985.1/GCA\\_001141985.1\\_6259\\_7\\_14\\_genomic.fna.gz & Test & 99.42 & 2.99 & 58 & 39.69878 & 2060491 & 62788 & 1 & 604 & 1\\\\\n",
       "\t RS\\_GCF\\_001339515.1 & GCA\\_001339515.1 & Bacteria & Firmicutes & Bacilli & Lactobacillales & Streptococcaceae & Streptococcus & Streptococcus pneumoniae & /ebio/abt3\\_projects/databases\\_no-backup/DeepMAsED/version2/ref\\_genomes/GTDBr202/genomes\\_fasta/genbank/bacteria/GCA\\_001339515.1/GCA\\_001339515.1\\_6731\\_4\\_24\\_genomic.fna.gz & Test & 99.42 & 0.20 & 65 & 39.69419 & 2036322 & 57034 & 1 & 604 & 2\\\\\n",
       "\t ⋮ & ⋮ & ⋮ & ⋮ & ⋮ & ⋮ & ⋮ & ⋮ & ⋮ & ⋮ & ⋮ & ⋮ & ⋮ & ⋮ & ⋮ & ⋮ & ⋮ & ⋮ & ⋮ & ⋮\\\\\n",
       "\t RS\\_GCF\\_002891135.1 & GCA\\_002891135.1 & Bacteria & Proteobacteria & Gammaproteobacteria & Burkholderiales & Burkholderiaceae & Burkholderia & Burkholderia cenocepacia & /ebio/abt3\\_projects/databases\\_no-backup/DeepMAsED/version2/ref\\_genomes/GTDBr202/genomes\\_fasta/genbank/bacteria/GCA\\_002891135.1/GCA\\_002891135.1\\_ASM289113v1\\_genomic.fna.gz & Test & 99.87 & 2.36 &  9 & 66.86994 & 8094552 & 3217060 & 6 & 13 & 1999\\\\\n",
       "\t RS\\_GCF\\_006980475.1 & GCA\\_006980475.1 & Bacteria & Proteobacteria & Gammaproteobacteria & Xanthomonadales & Xanthomonadaceae & Xanthomonas  & Xanthomonas perforans    & /ebio/abt3\\_projects/databases\\_no-backup/DeepMAsED/version2/ref\\_genomes/GTDBr202/genomes\\_fasta/genbank/bacteria/GCA\\_006980475.1/GCA\\_006980475.1\\_ASM698047v1\\_genomic.fna.gz & Test & 99.64 & 0.56 & 72 & 64.68501 & 5239945 &  175168 & 1 & 13 & 2000\\\\\n",
       "\\end{tabular}\n"
      ],
      "text/markdown": [
       "\n",
       "A tidytable: 2000 × 20\n",
       "\n",
       "| accession &lt;chr&gt; | ncbi_genbank_assembly_accession &lt;chr&gt; | Domain &lt;chr&gt; | Phylum &lt;chr&gt; | Class &lt;chr&gt; | Order &lt;chr&gt; | Family &lt;chr&gt; | Genus &lt;chr&gt; | Species &lt;chr&gt; | fasta_file_path &lt;chr&gt; | dataset &lt;chr&gt; | checkm_completeness &lt;dbl&gt; | checkm_contamination &lt;dbl&gt; | contig_count &lt;int&gt; | gc_percentage &lt;dbl&gt; | genome_size &lt;int&gt; | n50_contigs &lt;int&gt; | ssu_count &lt;int&gt; | X &lt;int&gt; | Y &lt;int&gt; |\n",
       "|---|---|---|---|---|---|---|---|---|---|---|---|---|---|---|---|---|---|---|---|\n",
       "| RS_GCF_001141985.1 | GCA_001141985.1 | Bacteria | Firmicutes | Bacilli | Lactobacillales | Streptococcaceae | Streptococcus | Streptococcus pneumoniae | /ebio/abt3_projects/databases_no-backup/DeepMAsED/version2/ref_genomes/GTDBr202/genomes_fasta/genbank/bacteria/GCA_001141985.1/GCA_001141985.1_6259_7_14_genomic.fna.gz | Test | 99.42 | 2.99 | 58 | 39.69878 | 2060491 | 62788 | 1 | 604 | 1 |\n",
       "| RS_GCF_001339515.1 | GCA_001339515.1 | Bacteria | Firmicutes | Bacilli | Lactobacillales | Streptococcaceae | Streptococcus | Streptococcus pneumoniae | /ebio/abt3_projects/databases_no-backup/DeepMAsED/version2/ref_genomes/GTDBr202/genomes_fasta/genbank/bacteria/GCA_001339515.1/GCA_001339515.1_6731_4_24_genomic.fna.gz | Test | 99.42 | 0.20 | 65 | 39.69419 | 2036322 | 57034 | 1 | 604 | 2 |\n",
       "| ⋮ | ⋮ | ⋮ | ⋮ | ⋮ | ⋮ | ⋮ | ⋮ | ⋮ | ⋮ | ⋮ | ⋮ | ⋮ | ⋮ | ⋮ | ⋮ | ⋮ | ⋮ | ⋮ | ⋮ |\n",
       "| RS_GCF_002891135.1 | GCA_002891135.1 | Bacteria | Proteobacteria | Gammaproteobacteria | Burkholderiales | Burkholderiaceae | Burkholderia | Burkholderia cenocepacia | /ebio/abt3_projects/databases_no-backup/DeepMAsED/version2/ref_genomes/GTDBr202/genomes_fasta/genbank/bacteria/GCA_002891135.1/GCA_002891135.1_ASM289113v1_genomic.fna.gz | Test | 99.87 | 2.36 |  9 | 66.86994 | 8094552 | 3217060 | 6 | 13 | 1999 |\n",
       "| RS_GCF_006980475.1 | GCA_006980475.1 | Bacteria | Proteobacteria | Gammaproteobacteria | Xanthomonadales | Xanthomonadaceae | Xanthomonas  | Xanthomonas perforans    | /ebio/abt3_projects/databases_no-backup/DeepMAsED/version2/ref_genomes/GTDBr202/genomes_fasta/genbank/bacteria/GCA_006980475.1/GCA_006980475.1_ASM698047v1_genomic.fna.gz | Test | 99.64 | 0.56 | 72 | 64.68501 | 5239945 |  175168 | 1 | 13 | 2000 |\n",
       "\n"
      ],
      "text/plain": [
       "     accession          ncbi_genbank_assembly_accession Domain   Phylum        \n",
       "1    RS_GCF_001141985.1 GCA_001141985.1                 Bacteria Firmicutes    \n",
       "2    RS_GCF_001339515.1 GCA_001339515.1                 Bacteria Firmicutes    \n",
       "⋮    ⋮                  ⋮                               ⋮        ⋮             \n",
       "1999 RS_GCF_002891135.1 GCA_002891135.1                 Bacteria Proteobacteria\n",
       "2000 RS_GCF_006980475.1 GCA_006980475.1                 Bacteria Proteobacteria\n",
       "     Class               Order           Family           Genus        \n",
       "1    Bacilli             Lactobacillales Streptococcaceae Streptococcus\n",
       "2    Bacilli             Lactobacillales Streptococcaceae Streptococcus\n",
       "⋮    ⋮                   ⋮               ⋮                ⋮            \n",
       "1999 Gammaproteobacteria Burkholderiales Burkholderiaceae Burkholderia \n",
       "2000 Gammaproteobacteria Xanthomonadales Xanthomonadaceae Xanthomonas  \n",
       "     Species                 \n",
       "1    Streptococcus pneumoniae\n",
       "2    Streptococcus pneumoniae\n",
       "⋮    ⋮                       \n",
       "1999 Burkholderia cenocepacia\n",
       "2000 Xanthomonas perforans   \n",
       "     fasta_file_path                                                                                                                                                          \n",
       "1    /ebio/abt3_projects/databases_no-backup/DeepMAsED/version2/ref_genomes/GTDBr202/genomes_fasta/genbank/bacteria/GCA_001141985.1/GCA_001141985.1_6259_7_14_genomic.fna.gz  \n",
       "2    /ebio/abt3_projects/databases_no-backup/DeepMAsED/version2/ref_genomes/GTDBr202/genomes_fasta/genbank/bacteria/GCA_001339515.1/GCA_001339515.1_6731_4_24_genomic.fna.gz  \n",
       "⋮    ⋮                                                                                                                                                                        \n",
       "1999 /ebio/abt3_projects/databases_no-backup/DeepMAsED/version2/ref_genomes/GTDBr202/genomes_fasta/genbank/bacteria/GCA_002891135.1/GCA_002891135.1_ASM289113v1_genomic.fna.gz\n",
       "2000 /ebio/abt3_projects/databases_no-backup/DeepMAsED/version2/ref_genomes/GTDBr202/genomes_fasta/genbank/bacteria/GCA_006980475.1/GCA_006980475.1_ASM698047v1_genomic.fna.gz\n",
       "     dataset checkm_completeness checkm_contamination contig_count\n",
       "1    Test    99.42               2.99                 58          \n",
       "2    Test    99.42               0.20                 65          \n",
       "⋮    ⋮       ⋮                   ⋮                    ⋮           \n",
       "1999 Test    99.87               2.36                  9          \n",
       "2000 Test    99.64               0.56                 72          \n",
       "     gc_percentage genome_size n50_contigs ssu_count X   Y   \n",
       "1    39.69878      2060491     62788       1         604 1   \n",
       "2    39.69419      2036322     57034       1         604 2   \n",
       "⋮    ⋮             ⋮           ⋮           ⋮         ⋮   ⋮   \n",
       "1999 66.86994      8094552     3217060     6         13  1999\n",
       "2000 64.68501      5239945      175168     1         13  2000"
      ]
     },
     "metadata": {},
     "output_type": "display_data"
    }
   ],
   "source": [
    "# test\n",
    "test_f = enrich_intraspec(test)\n",
    "test_f %>% genomes_per_spec\n",
    "test_f "
   ]
  },
  {
   "cell_type": "code",
   "execution_count": 20,
   "metadata": {
    "ExecuteTime": {
     "end_time": "2022-02-09T12:25:09.554884Z",
     "start_time": "2022-02-09T12:25:09.382Z"
    }
   },
   "outputs": [
    {
     "data": {
      "text/html": [
       "<table class=\"dataframe\">\n",
       "<caption>A matrix: 1 × 8 of type dbl</caption>\n",
       "<thead>\n",
       "\t<tr><th></th><th scope=col>Min.</th><th scope=col>1st Qu.</th><th scope=col>Median</th><th scope=col>Mean</th><th scope=col>3rd Qu.</th><th scope=col>Max.</th><th scope=col>sd</th><th scope=col>sd_err_of_mean</th></tr>\n",
       "</thead>\n",
       "<tbody>\n",
       "\t<tr><th scope=row>genomes per species</th><td>2</td><td>23.75</td><td>33</td><td>33.33333</td><td>50</td><td>50</td><td>14.998</td><td>6.123</td></tr>\n",
       "</tbody>\n",
       "</table>\n"
      ],
      "text/latex": [
       "A matrix: 1 × 8 of type dbl\n",
       "\\begin{tabular}{r|llllllll}\n",
       "  & Min. & 1st Qu. & Median & Mean & 3rd Qu. & Max. & sd & sd\\_err\\_of\\_mean\\\\\n",
       "\\hline\n",
       "\tgenomes per species & 2 & 23.75 & 33 & 33.33333 & 50 & 50 & 14.998 & 6.123\\\\\n",
       "\\end{tabular}\n"
      ],
      "text/markdown": [
       "\n",
       "A matrix: 1 × 8 of type dbl\n",
       "\n",
       "| <!--/--> | Min. | 1st Qu. | Median | Mean | 3rd Qu. | Max. | sd | sd_err_of_mean |\n",
       "|---|---|---|---|---|---|---|---|---|\n",
       "| genomes per species | 2 | 23.75 | 33 | 33.33333 | 50 | 50 | 14.998 | 6.123 |\n",
       "\n"
      ],
      "text/plain": [
       "                    Min. 1st Qu. Median Mean     3rd Qu. Max. sd    \n",
       "genomes per species 2    23.75   33     33.33333 50      50   14.998\n",
       "                    sd_err_of_mean\n",
       "genomes per species 6.123         "
      ]
     },
     "metadata": {},
     "output_type": "display_data"
    },
    {
     "data": {
      "text/html": [
       "<table class=\"dataframe\">\n",
       "<caption>A tidytable: 2000 × 20</caption>\n",
       "<thead>\n",
       "\t<tr><th scope=col>accession</th><th scope=col>ncbi_genbank_assembly_accession</th><th scope=col>Domain</th><th scope=col>Phylum</th><th scope=col>Class</th><th scope=col>Order</th><th scope=col>Family</th><th scope=col>Genus</th><th scope=col>Species</th><th scope=col>fasta_file_path</th><th scope=col>dataset</th><th scope=col>checkm_completeness</th><th scope=col>checkm_contamination</th><th scope=col>contig_count</th><th scope=col>gc_percentage</th><th scope=col>genome_size</th><th scope=col>n50_contigs</th><th scope=col>ssu_count</th><th scope=col>X</th><th scope=col>Y</th></tr>\n",
       "\t<tr><th scope=col>&lt;chr&gt;</th><th scope=col>&lt;chr&gt;</th><th scope=col>&lt;chr&gt;</th><th scope=col>&lt;chr&gt;</th><th scope=col>&lt;chr&gt;</th><th scope=col>&lt;chr&gt;</th><th scope=col>&lt;chr&gt;</th><th scope=col>&lt;chr&gt;</th><th scope=col>&lt;chr&gt;</th><th scope=col>&lt;chr&gt;</th><th scope=col>&lt;chr&gt;</th><th scope=col>&lt;dbl&gt;</th><th scope=col>&lt;dbl&gt;</th><th scope=col>&lt;int&gt;</th><th scope=col>&lt;dbl&gt;</th><th scope=col>&lt;int&gt;</th><th scope=col>&lt;int&gt;</th><th scope=col>&lt;int&gt;</th><th scope=col>&lt;int&gt;</th><th scope=col>&lt;int&gt;</th></tr>\n",
       "</thead>\n",
       "<tbody>\n",
       "\t<tr><td>RS_GCF_000671495.1</td><td>GCA_000671495.1</td><td>Bacteria</td><td>Proteobacteria</td><td>Gammaproteobacteria</td><td>Pseudomonadales</td><td>Moraxellaceae</td><td>Acinetobacter</td><td>Acinetobacter baumannii</td><td>/ebio/abt3_projects/databases_no-backup/DeepMAsED/version2/ref_genomes/GTDBr202/genomes_fasta/genbank/bacteria/GCA_000671495.1/GCA_000671495.1_ASM67149v1_genomic.fna.gz </td><td>Novel-family</td><td>100.00</td><td>0.14</td><td>116</td><td>39.21204</td><td>4023027</td><td>74995</td><td>5</td><td>675</td><td>1</td></tr>\n",
       "\t<tr><td>RS_GCF_003356455.1</td><td>GCA_003356455.1</td><td>Bacteria</td><td>Proteobacteria</td><td>Gammaproteobacteria</td><td>Pseudomonadales</td><td>Moraxellaceae</td><td>Acinetobacter</td><td>Acinetobacter baumannii</td><td>/ebio/abt3_projects/databases_no-backup/DeepMAsED/version2/ref_genomes/GTDBr202/genomes_fasta/genbank/bacteria/GCA_003356455.1/GCA_003356455.1_ASM335645v1_genomic.fna.gz</td><td>Novel-family</td><td> 99.59</td><td>0.61</td><td>130</td><td>38.82852</td><td>3941977</td><td>75425</td><td>2</td><td>675</td><td>2</td></tr>\n",
       "\t<tr><td>⋮</td><td>⋮</td><td>⋮</td><td>⋮</td><td>⋮</td><td>⋮</td><td>⋮</td><td>⋮</td><td>⋮</td><td>⋮</td><td>⋮</td><td>⋮</td><td>⋮</td><td>⋮</td><td>⋮</td><td>⋮</td><td>⋮</td><td>⋮</td><td>⋮</td><td>⋮</td></tr>\n",
       "\t<tr><td>RS_GCF_013306745.1</td><td>GCA_013306745.1</td><td>Bacteria</td><td>Proteobacteria</td><td>Gammaproteobacteria</td><td>Burkholderiales</td><td>Burkholderiaceae</td><td>Ralstonia</td><td>Ralstonia pseudosolanacearum</td><td>/ebio/abt3_projects/databases_no-backup/DeepMAsED/version2/ref_genomes/GTDBr202/genomes_fasta/genbank/bacteria/GCA_013306745.1/GCA_013306745.1_ASM1330674v1_genomic.fna.gz</td><td>Novel-family</td><td>99.94</td><td>0.00</td><td>2</td><td>66.83661</td><td>5922123</td><td>3788096</td><td>4</td><td>19</td><td>1999</td></tr>\n",
       "\t<tr><td>RS_GCF_013306765.1</td><td>GCA_013306765.1</td><td>Bacteria</td><td>Proteobacteria</td><td>Gammaproteobacteria</td><td>Burkholderiales</td><td>Burkholderiaceae</td><td>Ralstonia</td><td>Ralstonia pseudosolanacearum</td><td>/ebio/abt3_projects/databases_no-backup/DeepMAsED/version2/ref_genomes/GTDBr202/genomes_fasta/genbank/bacteria/GCA_013306765.1/GCA_013306765.1_ASM1330676v1_genomic.fna.gz</td><td>Novel-family</td><td>99.94</td><td>0.11</td><td>2</td><td>66.78815</td><td>6059895</td><td>3984235</td><td>4</td><td>19</td><td>2000</td></tr>\n",
       "</tbody>\n",
       "</table>\n"
      ],
      "text/latex": [
       "A tidytable: 2000 × 20\n",
       "\\begin{tabular}{llllllllllllllllllll}\n",
       " accession & ncbi\\_genbank\\_assembly\\_accession & Domain & Phylum & Class & Order & Family & Genus & Species & fasta\\_file\\_path & dataset & checkm\\_completeness & checkm\\_contamination & contig\\_count & gc\\_percentage & genome\\_size & n50\\_contigs & ssu\\_count & X & Y\\\\\n",
       " <chr> & <chr> & <chr> & <chr> & <chr> & <chr> & <chr> & <chr> & <chr> & <chr> & <chr> & <dbl> & <dbl> & <int> & <dbl> & <int> & <int> & <int> & <int> & <int>\\\\\n",
       "\\hline\n",
       "\t RS\\_GCF\\_000671495.1 & GCA\\_000671495.1 & Bacteria & Proteobacteria & Gammaproteobacteria & Pseudomonadales & Moraxellaceae & Acinetobacter & Acinetobacter baumannii & /ebio/abt3\\_projects/databases\\_no-backup/DeepMAsED/version2/ref\\_genomes/GTDBr202/genomes\\_fasta/genbank/bacteria/GCA\\_000671495.1/GCA\\_000671495.1\\_ASM67149v1\\_genomic.fna.gz  & Novel-family & 100.00 & 0.14 & 116 & 39.21204 & 4023027 & 74995 & 5 & 675 & 1\\\\\n",
       "\t RS\\_GCF\\_003356455.1 & GCA\\_003356455.1 & Bacteria & Proteobacteria & Gammaproteobacteria & Pseudomonadales & Moraxellaceae & Acinetobacter & Acinetobacter baumannii & /ebio/abt3\\_projects/databases\\_no-backup/DeepMAsED/version2/ref\\_genomes/GTDBr202/genomes\\_fasta/genbank/bacteria/GCA\\_003356455.1/GCA\\_003356455.1\\_ASM335645v1\\_genomic.fna.gz & Novel-family &  99.59 & 0.61 & 130 & 38.82852 & 3941977 & 75425 & 2 & 675 & 2\\\\\n",
       "\t ⋮ & ⋮ & ⋮ & ⋮ & ⋮ & ⋮ & ⋮ & ⋮ & ⋮ & ⋮ & ⋮ & ⋮ & ⋮ & ⋮ & ⋮ & ⋮ & ⋮ & ⋮ & ⋮ & ⋮\\\\\n",
       "\t RS\\_GCF\\_013306745.1 & GCA\\_013306745.1 & Bacteria & Proteobacteria & Gammaproteobacteria & Burkholderiales & Burkholderiaceae & Ralstonia & Ralstonia pseudosolanacearum & /ebio/abt3\\_projects/databases\\_no-backup/DeepMAsED/version2/ref\\_genomes/GTDBr202/genomes\\_fasta/genbank/bacteria/GCA\\_013306745.1/GCA\\_013306745.1\\_ASM1330674v1\\_genomic.fna.gz & Novel-family & 99.94 & 0.00 & 2 & 66.83661 & 5922123 & 3788096 & 4 & 19 & 1999\\\\\n",
       "\t RS\\_GCF\\_013306765.1 & GCA\\_013306765.1 & Bacteria & Proteobacteria & Gammaproteobacteria & Burkholderiales & Burkholderiaceae & Ralstonia & Ralstonia pseudosolanacearum & /ebio/abt3\\_projects/databases\\_no-backup/DeepMAsED/version2/ref\\_genomes/GTDBr202/genomes\\_fasta/genbank/bacteria/GCA\\_013306765.1/GCA\\_013306765.1\\_ASM1330676v1\\_genomic.fna.gz & Novel-family & 99.94 & 0.11 & 2 & 66.78815 & 6059895 & 3984235 & 4 & 19 & 2000\\\\\n",
       "\\end{tabular}\n"
      ],
      "text/markdown": [
       "\n",
       "A tidytable: 2000 × 20\n",
       "\n",
       "| accession &lt;chr&gt; | ncbi_genbank_assembly_accession &lt;chr&gt; | Domain &lt;chr&gt; | Phylum &lt;chr&gt; | Class &lt;chr&gt; | Order &lt;chr&gt; | Family &lt;chr&gt; | Genus &lt;chr&gt; | Species &lt;chr&gt; | fasta_file_path &lt;chr&gt; | dataset &lt;chr&gt; | checkm_completeness &lt;dbl&gt; | checkm_contamination &lt;dbl&gt; | contig_count &lt;int&gt; | gc_percentage &lt;dbl&gt; | genome_size &lt;int&gt; | n50_contigs &lt;int&gt; | ssu_count &lt;int&gt; | X &lt;int&gt; | Y &lt;int&gt; |\n",
       "|---|---|---|---|---|---|---|---|---|---|---|---|---|---|---|---|---|---|---|---|\n",
       "| RS_GCF_000671495.1 | GCA_000671495.1 | Bacteria | Proteobacteria | Gammaproteobacteria | Pseudomonadales | Moraxellaceae | Acinetobacter | Acinetobacter baumannii | /ebio/abt3_projects/databases_no-backup/DeepMAsED/version2/ref_genomes/GTDBr202/genomes_fasta/genbank/bacteria/GCA_000671495.1/GCA_000671495.1_ASM67149v1_genomic.fna.gz  | Novel-family | 100.00 | 0.14 | 116 | 39.21204 | 4023027 | 74995 | 5 | 675 | 1 |\n",
       "| RS_GCF_003356455.1 | GCA_003356455.1 | Bacteria | Proteobacteria | Gammaproteobacteria | Pseudomonadales | Moraxellaceae | Acinetobacter | Acinetobacter baumannii | /ebio/abt3_projects/databases_no-backup/DeepMAsED/version2/ref_genomes/GTDBr202/genomes_fasta/genbank/bacteria/GCA_003356455.1/GCA_003356455.1_ASM335645v1_genomic.fna.gz | Novel-family |  99.59 | 0.61 | 130 | 38.82852 | 3941977 | 75425 | 2 | 675 | 2 |\n",
       "| ⋮ | ⋮ | ⋮ | ⋮ | ⋮ | ⋮ | ⋮ | ⋮ | ⋮ | ⋮ | ⋮ | ⋮ | ⋮ | ⋮ | ⋮ | ⋮ | ⋮ | ⋮ | ⋮ | ⋮ |\n",
       "| RS_GCF_013306745.1 | GCA_013306745.1 | Bacteria | Proteobacteria | Gammaproteobacteria | Burkholderiales | Burkholderiaceae | Ralstonia | Ralstonia pseudosolanacearum | /ebio/abt3_projects/databases_no-backup/DeepMAsED/version2/ref_genomes/GTDBr202/genomes_fasta/genbank/bacteria/GCA_013306745.1/GCA_013306745.1_ASM1330674v1_genomic.fna.gz | Novel-family | 99.94 | 0.00 | 2 | 66.83661 | 5922123 | 3788096 | 4 | 19 | 1999 |\n",
       "| RS_GCF_013306765.1 | GCA_013306765.1 | Bacteria | Proteobacteria | Gammaproteobacteria | Burkholderiales | Burkholderiaceae | Ralstonia | Ralstonia pseudosolanacearum | /ebio/abt3_projects/databases_no-backup/DeepMAsED/version2/ref_genomes/GTDBr202/genomes_fasta/genbank/bacteria/GCA_013306765.1/GCA_013306765.1_ASM1330676v1_genomic.fna.gz | Novel-family | 99.94 | 0.11 | 2 | 66.78815 | 6059895 | 3984235 | 4 | 19 | 2000 |\n",
       "\n"
      ],
      "text/plain": [
       "     accession          ncbi_genbank_assembly_accession Domain   Phylum        \n",
       "1    RS_GCF_000671495.1 GCA_000671495.1                 Bacteria Proteobacteria\n",
       "2    RS_GCF_003356455.1 GCA_003356455.1                 Bacteria Proteobacteria\n",
       "⋮    ⋮                  ⋮                               ⋮        ⋮             \n",
       "1999 RS_GCF_013306745.1 GCA_013306745.1                 Bacteria Proteobacteria\n",
       "2000 RS_GCF_013306765.1 GCA_013306765.1                 Bacteria Proteobacteria\n",
       "     Class               Order           Family           Genus        \n",
       "1    Gammaproteobacteria Pseudomonadales Moraxellaceae    Acinetobacter\n",
       "2    Gammaproteobacteria Pseudomonadales Moraxellaceae    Acinetobacter\n",
       "⋮    ⋮                   ⋮               ⋮                ⋮            \n",
       "1999 Gammaproteobacteria Burkholderiales Burkholderiaceae Ralstonia    \n",
       "2000 Gammaproteobacteria Burkholderiales Burkholderiaceae Ralstonia    \n",
       "     Species                     \n",
       "1    Acinetobacter baumannii     \n",
       "2    Acinetobacter baumannii     \n",
       "⋮    ⋮                           \n",
       "1999 Ralstonia pseudosolanacearum\n",
       "2000 Ralstonia pseudosolanacearum\n",
       "     fasta_file_path                                                                                                                                                           \n",
       "1    /ebio/abt3_projects/databases_no-backup/DeepMAsED/version2/ref_genomes/GTDBr202/genomes_fasta/genbank/bacteria/GCA_000671495.1/GCA_000671495.1_ASM67149v1_genomic.fna.gz  \n",
       "2    /ebio/abt3_projects/databases_no-backup/DeepMAsED/version2/ref_genomes/GTDBr202/genomes_fasta/genbank/bacteria/GCA_003356455.1/GCA_003356455.1_ASM335645v1_genomic.fna.gz \n",
       "⋮    ⋮                                                                                                                                                                         \n",
       "1999 /ebio/abt3_projects/databases_no-backup/DeepMAsED/version2/ref_genomes/GTDBr202/genomes_fasta/genbank/bacteria/GCA_013306745.1/GCA_013306745.1_ASM1330674v1_genomic.fna.gz\n",
       "2000 /ebio/abt3_projects/databases_no-backup/DeepMAsED/version2/ref_genomes/GTDBr202/genomes_fasta/genbank/bacteria/GCA_013306765.1/GCA_013306765.1_ASM1330676v1_genomic.fna.gz\n",
       "     dataset      checkm_completeness checkm_contamination contig_count\n",
       "1    Novel-family 100.00              0.14                 116         \n",
       "2    Novel-family  99.59              0.61                 130         \n",
       "⋮    ⋮            ⋮                   ⋮                    ⋮           \n",
       "1999 Novel-family 99.94               0.00                 2           \n",
       "2000 Novel-family 99.94               0.11                 2           \n",
       "     gc_percentage genome_size n50_contigs ssu_count X   Y   \n",
       "1    39.21204      4023027     74995       5         675 1   \n",
       "2    38.82852      3941977     75425       2         675 2   \n",
       "⋮    ⋮             ⋮           ⋮           ⋮         ⋮   ⋮   \n",
       "1999 66.83661      5922123     3788096     4         19  1999\n",
       "2000 66.78815      6059895     3984235     4         19  2000"
      ]
     },
     "metadata": {},
     "output_type": "display_data"
    }
   ],
   "source": [
    "# novel-family\n",
    "novFam_f = enrich_intraspec(novFam)\n",
    "novFam_f %>% genomes_per_spec\n",
    "novFam_f "
   ]
  },
  {
   "cell_type": "markdown",
   "metadata": {},
   "source": [
    "#### Writing tables"
   ]
  },
  {
   "cell_type": "code",
   "execution_count": 21,
   "metadata": {
    "ExecuteTime": {
     "end_time": "2022-02-09T12:34:22.295311Z",
     "start_time": "2022-02-09T12:34:22.263Z"
    }
   },
   "outputs": [
    {
     "data": {
      "text/html": [
       "'/ebio/abt3_projects/databases_no-backup/DeepMAsED/version2/ref_genomes/GTDBr202/'"
      ],
      "text/latex": [
       "'/ebio/abt3\\_projects/databases\\_no-backup/DeepMAsED/version2/ref\\_genomes/GTDBr202/'"
      ],
      "text/markdown": [
       "'/ebio/abt3_projects/databases_no-backup/DeepMAsED/version2/ref_genomes/GTDBr202/'"
      ],
      "text/plain": [
       "[1] \"/ebio/abt3_projects/databases_no-backup/DeepMAsED/version2/ref_genomes/GTDBr202/\""
      ]
     },
     "metadata": {},
     "output_type": "display_data"
    }
   ],
   "source": [
    "work_dir"
   ]
  },
  {
   "cell_type": "code",
   "execution_count": 24,
   "metadata": {
    "ExecuteTime": {
     "end_time": "2022-02-09T12:35:58.974008Z",
     "start_time": "2022-02-09T12:35:58.931Z"
    }
   },
   "outputs": [
    {
     "name": "stdout",
     "output_type": "stream",
     "text": [
      "File written: /ebio/abt3_projects/databases_no-backup/DeepMAsED/version2/ref_genomes/GTDBr202//metadata_n2k-train_intraSpec.tsv \n"
     ]
    }
   ],
   "source": [
    "# train\n",
    "outF = file.path(work_dir, 'metadata_n2k-train_intraSpec.tsv')\n",
    "train_f %>%\n",
    "    filter.(dataset == 'Train') %>%\n",
    "    write_table(outF)"
   ]
  },
  {
   "cell_type": "code",
   "execution_count": 25,
   "metadata": {
    "ExecuteTime": {
     "end_time": "2022-02-09T12:36:01.262328Z",
     "start_time": "2022-02-09T12:36:01.222Z"
    }
   },
   "outputs": [
    {
     "name": "stdout",
     "output_type": "stream",
     "text": [
      "File written: /ebio/abt3_projects/databases_no-backup/DeepMAsED/version2/ref_genomes/GTDBr202//metadata_n2k-test_intraSpec.tsv \n"
     ]
    }
   ],
   "source": [
    "# test\n",
    "outF = file.path(work_dir, 'metadata_n2k-test_intraSpec.tsv')\n",
    "test_f %>%\n",
    "    filter.(dataset == 'Test') %>%\n",
    "    write_table(outF)"
   ]
  },
  {
   "cell_type": "code",
   "execution_count": 26,
   "metadata": {
    "ExecuteTime": {
     "end_time": "2022-02-09T12:36:15.788987Z",
     "start_time": "2022-02-09T12:36:15.746Z"
    }
   },
   "outputs": [
    {
     "name": "stdout",
     "output_type": "stream",
     "text": [
      "File written: /ebio/abt3_projects/databases_no-backup/DeepMAsED/version2/ref_genomes/GTDBr202//metadata_n9k-novel-family_intraSpec2k.tsv \n"
     ]
    }
   ],
   "source": [
    "# novel family\n",
    "outF = file.path(work_dir, 'metadata_n9k-novel-family_intraSpec2k.tsv')\n",
    "novFam_f %>%\n",
    "    filter.(dataset == 'Novel-family') %>%\n",
    "    write_table(outF)"
   ]
  },
  {
   "cell_type": "markdown",
   "metadata": {},
   "source": [
    "# sessionInfo"
   ]
  },
  {
   "cell_type": "code",
   "execution_count": 27,
   "metadata": {
    "ExecuteTime": {
     "end_time": "2022-02-09T12:36:31.576045Z",
     "start_time": "2022-02-09T12:36:31.469Z"
    }
   },
   "outputs": [
    {
     "data": {
      "text/plain": [
       "R version 4.1.1 (2021-08-10)\n",
       "Platform: x86_64-conda-linux-gnu (64-bit)\n",
       "Running under: Ubuntu 18.04.6 LTS\n",
       "\n",
       "Matrix products: default\n",
       "BLAS/LAPACK: /tmp/global2/nyoungblut/code/general/conda_envs/general-tidyverse/lib/libopenblasp-r0.3.18.so\n",
       "\n",
       "locale:\n",
       " [1] LC_CTYPE=en_US.UTF-8       LC_NUMERIC=C              \n",
       " [3] LC_TIME=en_US.UTF-8        LC_COLLATE=en_US.UTF-8    \n",
       " [5] LC_MONETARY=en_US.UTF-8    LC_MESSAGES=en_US.UTF-8   \n",
       " [7] LC_PAPER=en_US.UTF-8       LC_NAME=C                 \n",
       " [9] LC_ADDRESS=C               LC_TELEPHONE=C            \n",
       "[11] LC_MEASUREMENT=en_US.UTF-8 LC_IDENTIFICATION=C       \n",
       "\n",
       "attached base packages:\n",
       "[1] stats     graphics  grDevices utils     datasets  methods   base     \n",
       "\n",
       "other attached packages:\n",
       "[1] clustermq_0.8.95.2 LeyLabRMisc_0.2.1  tidytable_0.6.6    data.table_1.14.2 \n",
       "[5] ggplot2_3.3.5      tidyr_1.1.4        dplyr_1.0.7       \n",
       "\n",
       "loaded via a namespace (and not attached):\n",
       " [1] Rcpp_1.0.7       plyr_1.8.6       pillar_1.6.4     compiler_4.1.1  \n",
       " [5] base64enc_0.1-3  tools_4.1.1      digest_0.6.29    uuid_1.0-3      \n",
       " [9] jsonlite_1.7.2   evaluate_0.14    lifecycle_1.0.1  tibble_3.1.6    \n",
       "[13] gtable_0.3.0     pkgconfig_2.0.3  rlang_0.4.12     IRdisplay_1.1   \n",
       "[17] IRkernel_1.3     fastmap_1.1.0    repr_1.1.4       withr_2.4.3     \n",
       "[21] generics_0.1.1   vctrs_0.3.8      grid_4.1.1       tidyselect_1.1.1\n",
       "[25] glue_1.6.0       R6_2.5.1         fansi_1.0.0      pbdZMQ_0.3-6    \n",
       "[29] purrr_0.3.4      magrittr_2.0.1   codetools_0.2-18 scales_1.1.1    \n",
       "[33] ellipsis_0.3.2   htmltools_0.5.2  colorspace_2.0-2 utf8_1.2.2      \n",
       "[37] munsell_0.5.0    crayon_1.4.2    "
      ]
     },
     "metadata": {},
     "output_type": "display_data"
    }
   ],
   "source": [
    "sessionInfo()"
   ]
  }
 ],
 "metadata": {
  "kernelspec": {
   "display_name": "R [conda env:general-tidyverse]",
   "language": "R",
   "name": "conda-env-general-tidyverse-r"
  },
  "language_info": {
   "codemirror_mode": "r",
   "file_extension": ".r",
   "mimetype": "text/x-r-source",
   "name": "R",
   "pygments_lexer": "r",
   "version": "4.1.1"
  },
  "notify_time": "30",
  "toc": {
   "base_numbering": 1,
   "nav_menu": {},
   "number_sections": true,
   "sideBar": true,
   "skip_h1_title": false,
   "title_cell": "Table of Contents",
   "title_sidebar": "Contents",
   "toc_cell": true,
   "toc_position": {},
   "toc_section_display": true,
   "toc_window_display": true
  }
 },
 "nbformat": 4,
 "nbformat_minor": 4
}
