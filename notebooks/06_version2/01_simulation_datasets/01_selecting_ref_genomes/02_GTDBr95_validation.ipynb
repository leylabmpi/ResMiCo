{
 "cells": [
  {
   "cell_type": "markdown",
   "metadata": {
    "toc": true
   },
   "source": [
    "<h1>Table of Contents<span class=\"tocSkip\"></span></h1>\n",
    "<div class=\"toc\"><ul class=\"toc-item\"><li><span><a href=\"#Goal\" data-toc-modified-id=\"Goal-1\"><span class=\"toc-item-num\">1&nbsp;&nbsp;</span>Goal</a></span></li><li><span><a href=\"#Var\" data-toc-modified-id=\"Var-2\"><span class=\"toc-item-num\">2&nbsp;&nbsp;</span>Var</a></span></li><li><span><a href=\"#Init\" data-toc-modified-id=\"Init-3\"><span class=\"toc-item-num\">3&nbsp;&nbsp;</span>Init</a></span></li><li><span><a href=\"#Load\" data-toc-modified-id=\"Load-4\"><span class=\"toc-item-num\">4&nbsp;&nbsp;</span>Load</a></span><ul class=\"toc-item\"><li><span><a href=\"#GTDBr89\" data-toc-modified-id=\"GTDBr89-4.1\"><span class=\"toc-item-num\">4.1&nbsp;&nbsp;</span>GTDBr89</a></span></li><li><span><a href=\"#GTDBr95\" data-toc-modified-id=\"GTDBr95-4.2\"><span class=\"toc-item-num\">4.2&nbsp;&nbsp;</span>GTDBr95</a></span></li></ul></li><li><span><a href=\"#Filtering-r95\" data-toc-modified-id=\"Filtering-r95-5\"><span class=\"toc-item-num\">5&nbsp;&nbsp;</span>Filtering r95</a></span><ul class=\"toc-item\"><li><span><a href=\"#checkM\" data-toc-modified-id=\"checkM-5.1\"><span class=\"toc-item-num\">5.1&nbsp;&nbsp;</span>checkM</a></span></li><li><span><a href=\"#MiMAG\" data-toc-modified-id=\"MiMAG-5.2\"><span class=\"toc-item-num\">5.2&nbsp;&nbsp;</span>MiMAG</a></span></li><li><span><a href=\"#NCBI-assembly-level\" data-toc-modified-id=\"NCBI-assembly-level-5.3\"><span class=\"toc-item-num\">5.3&nbsp;&nbsp;</span>NCBI assembly level</a></span></li><li><span><a href=\"#Assembly-stats\" data-toc-modified-id=\"Assembly-stats-5.4\"><span class=\"toc-item-num\">5.4&nbsp;&nbsp;</span>Assembly stats</a></span></li></ul></li><li><span><a href=\"#Selecting-genomes-novel-to-GTDBr95\" data-toc-modified-id=\"Selecting-genomes-novel-to-GTDBr95-6\"><span class=\"toc-item-num\">6&nbsp;&nbsp;</span>Selecting genomes novel to GTDBr95</a></span><ul class=\"toc-item\"><li><span><a href=\"#Novel-at-genus-level\" data-toc-modified-id=\"Novel-at-genus-level-6.1\"><span class=\"toc-item-num\">6.1&nbsp;&nbsp;</span>Novel at genus-level</a></span><ul class=\"toc-item\"><li><span><a href=\"#Subsampling-to-max-of-3-per-species\" data-toc-modified-id=\"Subsampling-to-max-of-3-per-species-6.1.1\"><span class=\"toc-item-num\">6.1.1&nbsp;&nbsp;</span>Subsampling to max of 3 per species</a></span></li><li><span><a href=\"#Checking-overlap\" data-toc-modified-id=\"Checking-overlap-6.1.2\"><span class=\"toc-item-num\">6.1.2&nbsp;&nbsp;</span>Checking overlap</a></span></li><li><span><a href=\"#Writing-metadata\" data-toc-modified-id=\"Writing-metadata-6.1.3\"><span class=\"toc-item-num\">6.1.3&nbsp;&nbsp;</span>Writing metadata</a></span></li></ul></li><li><span><a href=\"#Novel-at-family-level\" data-toc-modified-id=\"Novel-at-family-level-6.2\"><span class=\"toc-item-num\">6.2&nbsp;&nbsp;</span>Novel at family level</a></span><ul class=\"toc-item\"><li><span><a href=\"#Subsampling-to-max-N-species\" data-toc-modified-id=\"Subsampling-to-max-N-species-6.2.1\"><span class=\"toc-item-num\">6.2.1&nbsp;&nbsp;</span>Subsampling to max N species</a></span></li><li><span><a href=\"#Checking-overlap\" data-toc-modified-id=\"Checking-overlap-6.2.2\"><span class=\"toc-item-num\">6.2.2&nbsp;&nbsp;</span>Checking overlap</a></span></li><li><span><a href=\"#Writing-metadata\" data-toc-modified-id=\"Writing-metadata-6.2.3\"><span class=\"toc-item-num\">6.2.3&nbsp;&nbsp;</span>Writing metadata</a></span></li></ul></li><li><span><a href=\"#Novel-at-order-level\" data-toc-modified-id=\"Novel-at-order-level-6.3\"><span class=\"toc-item-num\">6.3&nbsp;&nbsp;</span>Novel at order level</a></span><ul class=\"toc-item\"><li><span><a href=\"#Subsampling-to-max-of-N-species\" data-toc-modified-id=\"Subsampling-to-max-of-N-species-6.3.1\"><span class=\"toc-item-num\">6.3.1&nbsp;&nbsp;</span>Subsampling to max of N species</a></span></li><li><span><a href=\"#Checking-overlap\" data-toc-modified-id=\"Checking-overlap-6.3.2\"><span class=\"toc-item-num\">6.3.2&nbsp;&nbsp;</span>Checking overlap</a></span></li><li><span><a href=\"#Writing-metadata\" data-toc-modified-id=\"Writing-metadata-6.3.3\"><span class=\"toc-item-num\">6.3.3&nbsp;&nbsp;</span>Writing metadata</a></span></li></ul></li></ul></li><li><span><a href=\"#Downloading-all-genomes\" data-toc-modified-id=\"Downloading-all-genomes-7\"><span class=\"toc-item-num\">7&nbsp;&nbsp;</span>Downloading all genomes</a></span><ul class=\"toc-item\"><li><span><a href=\"#Genus\" data-toc-modified-id=\"Genus-7.1\"><span class=\"toc-item-num\">7.1&nbsp;&nbsp;</span>Genus</a></span></li><li><span><a href=\"#Family\" data-toc-modified-id=\"Family-7.2\"><span class=\"toc-item-num\">7.2&nbsp;&nbsp;</span>Family</a></span></li><li><span><a href=\"#Order\" data-toc-modified-id=\"Order-7.3\"><span class=\"toc-item-num\">7.3&nbsp;&nbsp;</span>Order</a></span></li></ul></li><li><span><a href=\"#Selecting-final-ref-genomes\" data-toc-modified-id=\"Selecting-final-ref-genomes-8\"><span class=\"toc-item-num\">8&nbsp;&nbsp;</span>Selecting final ref genomes</a></span><ul class=\"toc-item\"><li><span><a href=\"#Order\" data-toc-modified-id=\"Order-8.1\"><span class=\"toc-item-num\">8.1&nbsp;&nbsp;</span>Order</a></span><ul class=\"toc-item\"><li><span><a href=\"#Taxonomic-similarity-to-train-dataset\" data-toc-modified-id=\"Taxonomic-similarity-to-train-dataset-8.1.1\"><span class=\"toc-item-num\">8.1.1&nbsp;&nbsp;</span>Taxonomic similarity to train dataset</a></span></li></ul></li><li><span><a href=\"#Family\" data-toc-modified-id=\"Family-8.2\"><span class=\"toc-item-num\">8.2&nbsp;&nbsp;</span>Family</a></span><ul class=\"toc-item\"><li><span><a href=\"#Taxonomic-similarity-to-train-data\" data-toc-modified-id=\"Taxonomic-similarity-to-train-data-8.2.1\"><span class=\"toc-item-num\">8.2.1&nbsp;&nbsp;</span>Taxonomic similarity to train data</a></span></li></ul></li><li><span><a href=\"#Genus\" data-toc-modified-id=\"Genus-8.3\"><span class=\"toc-item-num\">8.3&nbsp;&nbsp;</span>Genus</a></span><ul class=\"toc-item\"><li><span><a href=\"#Taxonomic-similarity-to-train-data\" data-toc-modified-id=\"Taxonomic-similarity-to-train-data-8.3.1\"><span class=\"toc-item-num\">8.3.1&nbsp;&nbsp;</span>Taxonomic similarity to train data</a></span></li></ul></li></ul></li><li><span><a href=\"#sessionInfo\" data-toc-modified-id=\"sessionInfo-9\"><span class=\"toc-item-num\">9&nbsp;&nbsp;</span>sessionInfo</a></span></li></ul></div>"
   ]
  },
  {
   "cell_type": "markdown",
   "metadata": {},
   "source": [
    "# Goal\n",
    "\n",
    "* Use the genomes new to the GTDBr95 (vs GTDBr89) to create validation datasets of completely novel taxa"
   ]
  },
  {
   "cell_type": "markdown",
   "metadata": {},
   "source": [
    "# Var"
   ]
  },
  {
   "cell_type": "code",
   "execution_count": 1,
   "metadata": {
    "ExecuteTime": {
     "end_time": "2020-10-08T17:52:51.200437Z",
     "start_time": "2020-10-08T17:52:51.114Z"
    }
   },
   "outputs": [],
   "source": [
    "# GTDBr89\n",
    "r95_work_dir = '/ebio/abt3_projects/databases_no-backup/DeepMAsED/version2/ref_genomes/GTDBr95/'\n",
    "## GTDB base dir\n",
    "r95_base_dir = '/ebio/abt3_projects/databases_no-backup/GTDB/release95/'\n",
    "\n",
    "## GTDB metadata\n",
    "r95_bac_metadata_file = '/ebio/abt3_projects/databases_no-backup/GTDB/release95/metadata/bac120_metadata_r95.tsv'\n",
    "r95_arc_metadata_file = '/ebio/abt3_projects/databases_no-backup/GTDB/release95/metadata/ar122_metadata_r95.tsv'\n",
    "\n",
    "\n",
    "# GTDBr89\n",
    "r89_work_dir = '/ebio/abt3_projects/databases_no-backup/DeepMAsED/version2/ref_genomes/GTDBr89/'\n",
    "## GTDB base dir\n",
    "r89_base_dir = '/ebio/abt3_projects/databases_no-backup/GTDB/release89/'\n",
    "\n",
    "## DeepMAsED2 GTDB genomes selected\n",
    "r89_ref_file = '/ebio/abt3_projects/databases_no-backup/DeepMAsED/version2/ref_genomes/GTDBr89/metadata_n9000-rand.tsv'"
   ]
  },
  {
   "cell_type": "markdown",
   "metadata": {},
   "source": [
    "# Init"
   ]
  },
  {
   "cell_type": "code",
   "execution_count": 2,
   "metadata": {
    "ExecuteTime": {
     "end_time": "2020-10-08T17:52:51.838640Z",
     "start_time": "2020-10-08T17:52:51.119Z"
    }
   },
   "outputs": [
    {
     "name": "stderr",
     "output_type": "stream",
     "text": [
      "\n",
      "Attaching package: ‘dplyr’\n",
      "\n",
      "\n",
      "The following objects are masked from ‘package:stats’:\n",
      "\n",
      "    filter, lag\n",
      "\n",
      "\n",
      "The following objects are masked from ‘package:base’:\n",
      "\n",
      "    intersect, setdiff, setequal, union\n",
      "\n",
      "\n",
      "\n",
      "Attaching package: ‘data.table’\n",
      "\n",
      "\n",
      "The following objects are masked from ‘package:dplyr’:\n",
      "\n",
      "    between, first, last\n",
      "\n",
      "\n"
     ]
    }
   ],
   "source": [
    "library(dplyr)\n",
    "library(tidyr)\n",
    "library(ggplot2)\n",
    "library(data.table)\n",
    "\n",
    "library(LeyLabRMisc)\n",
    "\n",
    "set.seed(8473)\n",
    "df.dims()"
   ]
  },
  {
   "cell_type": "code",
   "execution_count": 3,
   "metadata": {
    "ExecuteTime": {
     "end_time": "2020-10-08T17:52:52.022178Z",
     "start_time": "2020-10-08T17:52:51.123Z"
    }
   },
   "outputs": [
    {
     "name": "stdout",
     "output_type": "stream",
     "text": [
      "Directory already exists: /ebio/abt3_projects/databases_no-backup/DeepMAsED/version2/ref_genomes/GTDBr95/ \n"
     ]
    }
   ],
   "source": [
    "make_dir(r95_work_dir)"
   ]
  },
  {
   "cell_type": "markdown",
   "metadata": {},
   "source": [
    "# Load"
   ]
  },
  {
   "cell_type": "markdown",
   "metadata": {},
   "source": [
    "## GTDBr89"
   ]
  },
  {
   "cell_type": "code",
   "execution_count": 4,
   "metadata": {
    "ExecuteTime": {
     "end_time": "2020-10-08T17:52:52.682241Z",
     "start_time": "2020-10-08T17:52:51.130Z"
    }
   },
   "outputs": [
    {
     "data": {
      "text/html": [
       "<table>\n",
       "<caption>A data.table: 18000 × 118</caption>\n",
       "<thead>\n",
       "\t<tr><th scope=col>accession</th><th scope=col>Domain</th><th scope=col>Phylum</th><th scope=col>Class</th><th scope=col>Order</th><th scope=col>Family</th><th scope=col>Genus</th><th scope=col>Species</th><th scope=col>ambiguous_bases</th><th scope=col>checkm_completeness</th><th scope=col>⋯</th><th scope=col>ssu_silva_blast_evalue</th><th scope=col>ssu_silva_blast_perc_identity</th><th scope=col>ssu_silva_blast_subject_id</th><th scope=col>ssu_silva_taxonomy</th><th scope=col>total_gap_length</th><th scope=col>trna_aa_count</th><th scope=col>trna_count</th><th scope=col>trna_selenocysteine_count</th><th scope=col>fasta_file_path</th><th scope=col>dataset_partition</th></tr>\n",
       "\t<tr><th scope=col>&lt;chr&gt;</th><th scope=col>&lt;chr&gt;</th><th scope=col>&lt;chr&gt;</th><th scope=col>&lt;chr&gt;</th><th scope=col>&lt;chr&gt;</th><th scope=col>&lt;chr&gt;</th><th scope=col>&lt;chr&gt;</th><th scope=col>&lt;chr&gt;</th><th scope=col>&lt;int&gt;</th><th scope=col>&lt;dbl&gt;</th><th scope=col>⋯</th><th scope=col>&lt;int&gt;</th><th scope=col>&lt;dbl&gt;</th><th scope=col>&lt;chr&gt;</th><th scope=col>&lt;chr&gt;</th><th scope=col>&lt;int&gt;</th><th scope=col>&lt;int&gt;</th><th scope=col>&lt;int&gt;</th><th scope=col>&lt;int&gt;</th><th scope=col>&lt;chr&gt;</th><th scope=col>&lt;chr&gt;</th></tr>\n",
       "</thead>\n",
       "<tbody>\n",
       "\t<tr><td>RS_GCF_000478885.1</td><td>d__Bacteria</td><td>p__Actinobacteriota</td><td>c__Coriobacteriia</td><td>o__Coriobacteriales</td><td>f__Eggerthellaceae</td><td>g__Adlercreutzia</td><td>s__Adlercreutzia equolifaciens</td><td>0</td><td>100.00</td><td>⋯</td><td>0</td><td>100.000</td><td>AB649147.1.1469       </td><td>Bacteria;Actinobacteria;Coriobacteriia;Coriobacteriales;Coriobacteriaceae;Adlercreutzia;Adlercreutzia equolifaciens</td><td>  0</td><td>20</td><td>48</td><td>0</td><td>/ebio/abt3_projects/databases_no-backup/DeepMAsED/version2/ref_genomes/GTDBr89/genomes_quality/genbank/bacteria/GCA_000478885.1/GCA_000478885.1_ASM47888v1_genomic.fna.gz </td><td>Train</td></tr>\n",
       "\t<tr><td>RS_GCF_002560615.1</td><td>d__Bacteria</td><td>p__Firmicutes      </td><td>c__Bacilli       </td><td>o__Bacillales      </td><td>f__Bacillaceae_G  </td><td>g__Bacillus_A   </td><td>s__Bacillus_A cereus_AG       </td><td>0</td><td> 98.68</td><td>⋯</td><td>0</td><td> 99.935</td><td>CP010089.670406.671961</td><td>Bacteria;Firmicutes;Bacilli;Bacillales;Bacillaceae;Bacillus;Bacillus thuringiensis serovar galleriae               </td><td>368</td><td>20</td><td>63</td><td>0</td><td>/ebio/abt3_projects/databases_no-backup/DeepMAsED/version2/ref_genomes/GTDBr89/genomes_quality/genbank/bacteria/GCA_002560615.1/GCA_002560615.1_ASM256061v1_genomic.fna.gz</td><td>Train</td></tr>\n",
       "\t<tr><td>⋮</td><td>⋮</td><td>⋮</td><td>⋮</td><td>⋮</td><td>⋮</td><td>⋮</td><td>⋮</td><td>⋮</td><td>⋮</td><td>⋱</td><td>⋮</td><td>⋮</td><td>⋮</td><td>⋮</td><td>⋮</td><td>⋮</td><td>⋮</td><td>⋮</td><td>⋮</td><td>⋮</td></tr>\n",
       "\t<tr><td>RS_GCF_000439435.1</td><td>d__Bacteria</td><td>p__Firmicutes</td><td>c__Bacilli</td><td>o__Mycoplasmatales</td><td>f__Mycoplasmataceae</td><td>g__Spiroplasma_A</td><td>s__Spiroplasma_A taiwanense</td><td>0</td><td>98.87</td><td>⋯</td><td>0</td><td>100</td><td>CP005074.862688.864196</td><td>Bacteria;Tenericutes;Mollicutes;Entomoplasmatales;Spiroplasmataceae;Spiroplasma;Spiroplasma taiwanense CT-1</td><td>0</td><td>20</td><td>29</td><td>1</td><td>/ebio/abt3_projects/databases_no-backup/DeepMAsED/version2/ref_genomes/GTDBr89/genomes_quality/genbank/bacteria/GCA_000439435.1/GCA_000439435.1_ASM43943v1_genomic.fna.gz </td><td>Test</td></tr>\n",
       "\t<tr><td>RS_GCF_002092595.1</td><td>d__Bacteria</td><td>p__Firmicutes</td><td>c__Bacilli</td><td>o__Lactobacillales</td><td>f__Lactobacillaceae</td><td>g__Leuconostoc  </td><td>s__Leuconostoc lactis_A    </td><td>0</td><td>99.44</td><td>⋯</td><td>0</td><td>100</td><td>AY456086.1.1537       </td><td>Bacteria;Firmicutes;Bacilli;Lactobacillales;Leuconostocaceae;Leuconostoc;Leuconostoc garlicum              </td><td>0</td><td>20</td><td>50</td><td>0</td><td>/ebio/abt3_projects/databases_no-backup/DeepMAsED/version2/ref_genomes/GTDBr89/genomes_quality/genbank/bacteria/GCA_002092595.1/GCA_002092595.1_ASM209259v1_genomic.fna.gz</td><td>Test</td></tr>\n",
       "</tbody>\n",
       "</table>\n"
      ],
      "text/latex": [
       "A data.table: 18000 × 118\n",
       "\\begin{tabular}{lllllllllllllllllllll}\n",
       " accession & Domain & Phylum & Class & Order & Family & Genus & Species & ambiguous\\_bases & checkm\\_completeness & ⋯ & ssu\\_silva\\_blast\\_evalue & ssu\\_silva\\_blast\\_perc\\_identity & ssu\\_silva\\_blast\\_subject\\_id & ssu\\_silva\\_taxonomy & total\\_gap\\_length & trna\\_aa\\_count & trna\\_count & trna\\_selenocysteine\\_count & fasta\\_file\\_path & dataset\\_partition\\\\\n",
       " <chr> & <chr> & <chr> & <chr> & <chr> & <chr> & <chr> & <chr> & <int> & <dbl> & ⋯ & <int> & <dbl> & <chr> & <chr> & <int> & <int> & <int> & <int> & <chr> & <chr>\\\\\n",
       "\\hline\n",
       "\t RS\\_GCF\\_000478885.1 & d\\_\\_Bacteria & p\\_\\_Actinobacteriota & c\\_\\_Coriobacteriia & o\\_\\_Coriobacteriales & f\\_\\_Eggerthellaceae & g\\_\\_Adlercreutzia & s\\_\\_Adlercreutzia equolifaciens & 0 & 100.00 & ⋯ & 0 & 100.000 & AB649147.1.1469        & Bacteria;Actinobacteria;Coriobacteriia;Coriobacteriales;Coriobacteriaceae;Adlercreutzia;Adlercreutzia equolifaciens &   0 & 20 & 48 & 0 & /ebio/abt3\\_projects/databases\\_no-backup/DeepMAsED/version2/ref\\_genomes/GTDBr89/genomes\\_quality/genbank/bacteria/GCA\\_000478885.1/GCA\\_000478885.1\\_ASM47888v1\\_genomic.fna.gz  & Train\\\\\n",
       "\t RS\\_GCF\\_002560615.1 & d\\_\\_Bacteria & p\\_\\_Firmicutes       & c\\_\\_Bacilli        & o\\_\\_Bacillales       & f\\_\\_Bacillaceae\\_G   & g\\_\\_Bacillus\\_A    & s\\_\\_Bacillus\\_A cereus\\_AG        & 0 &  98.68 & ⋯ & 0 &  99.935 & CP010089.670406.671961 & Bacteria;Firmicutes;Bacilli;Bacillales;Bacillaceae;Bacillus;Bacillus thuringiensis serovar galleriae                & 368 & 20 & 63 & 0 & /ebio/abt3\\_projects/databases\\_no-backup/DeepMAsED/version2/ref\\_genomes/GTDBr89/genomes\\_quality/genbank/bacteria/GCA\\_002560615.1/GCA\\_002560615.1\\_ASM256061v1\\_genomic.fna.gz & Train\\\\\n",
       "\t ⋮ & ⋮ & ⋮ & ⋮ & ⋮ & ⋮ & ⋮ & ⋮ & ⋮ & ⋮ & ⋱ & ⋮ & ⋮ & ⋮ & ⋮ & ⋮ & ⋮ & ⋮ & ⋮ & ⋮ & ⋮\\\\\n",
       "\t RS\\_GCF\\_000439435.1 & d\\_\\_Bacteria & p\\_\\_Firmicutes & c\\_\\_Bacilli & o\\_\\_Mycoplasmatales & f\\_\\_Mycoplasmataceae & g\\_\\_Spiroplasma\\_A & s\\_\\_Spiroplasma\\_A taiwanense & 0 & 98.87 & ⋯ & 0 & 100 & CP005074.862688.864196 & Bacteria;Tenericutes;Mollicutes;Entomoplasmatales;Spiroplasmataceae;Spiroplasma;Spiroplasma taiwanense CT-1 & 0 & 20 & 29 & 1 & /ebio/abt3\\_projects/databases\\_no-backup/DeepMAsED/version2/ref\\_genomes/GTDBr89/genomes\\_quality/genbank/bacteria/GCA\\_000439435.1/GCA\\_000439435.1\\_ASM43943v1\\_genomic.fna.gz  & Test\\\\\n",
       "\t RS\\_GCF\\_002092595.1 & d\\_\\_Bacteria & p\\_\\_Firmicutes & c\\_\\_Bacilli & o\\_\\_Lactobacillales & f\\_\\_Lactobacillaceae & g\\_\\_Leuconostoc   & s\\_\\_Leuconostoc lactis\\_A     & 0 & 99.44 & ⋯ & 0 & 100 & AY456086.1.1537        & Bacteria;Firmicutes;Bacilli;Lactobacillales;Leuconostocaceae;Leuconostoc;Leuconostoc garlicum               & 0 & 20 & 50 & 0 & /ebio/abt3\\_projects/databases\\_no-backup/DeepMAsED/version2/ref\\_genomes/GTDBr89/genomes\\_quality/genbank/bacteria/GCA\\_002092595.1/GCA\\_002092595.1\\_ASM209259v1\\_genomic.fna.gz & Test\\\\\n",
       "\\end{tabular}\n"
      ],
      "text/markdown": [
       "\n",
       "A data.table: 18000 × 118\n",
       "\n",
       "| accession &lt;chr&gt; | Domain &lt;chr&gt; | Phylum &lt;chr&gt; | Class &lt;chr&gt; | Order &lt;chr&gt; | Family &lt;chr&gt; | Genus &lt;chr&gt; | Species &lt;chr&gt; | ambiguous_bases &lt;int&gt; | checkm_completeness &lt;dbl&gt; | ⋯ ⋯ | ssu_silva_blast_evalue &lt;int&gt; | ssu_silva_blast_perc_identity &lt;dbl&gt; | ssu_silva_blast_subject_id &lt;chr&gt; | ssu_silva_taxonomy &lt;chr&gt; | total_gap_length &lt;int&gt; | trna_aa_count &lt;int&gt; | trna_count &lt;int&gt; | trna_selenocysteine_count &lt;int&gt; | fasta_file_path &lt;chr&gt; | dataset_partition &lt;chr&gt; |\n",
       "|---|---|---|---|---|---|---|---|---|---|---|---|---|---|---|---|---|---|---|---|---|\n",
       "| RS_GCF_000478885.1 | d__Bacteria | p__Actinobacteriota | c__Coriobacteriia | o__Coriobacteriales | f__Eggerthellaceae | g__Adlercreutzia | s__Adlercreutzia equolifaciens | 0 | 100.00 | ⋯ | 0 | 100.000 | AB649147.1.1469        | Bacteria;Actinobacteria;Coriobacteriia;Coriobacteriales;Coriobacteriaceae;Adlercreutzia;Adlercreutzia equolifaciens |   0 | 20 | 48 | 0 | /ebio/abt3_projects/databases_no-backup/DeepMAsED/version2/ref_genomes/GTDBr89/genomes_quality/genbank/bacteria/GCA_000478885.1/GCA_000478885.1_ASM47888v1_genomic.fna.gz  | Train |\n",
       "| RS_GCF_002560615.1 | d__Bacteria | p__Firmicutes       | c__Bacilli        | o__Bacillales       | f__Bacillaceae_G   | g__Bacillus_A    | s__Bacillus_A cereus_AG        | 0 |  98.68 | ⋯ | 0 |  99.935 | CP010089.670406.671961 | Bacteria;Firmicutes;Bacilli;Bacillales;Bacillaceae;Bacillus;Bacillus thuringiensis serovar galleriae                | 368 | 20 | 63 | 0 | /ebio/abt3_projects/databases_no-backup/DeepMAsED/version2/ref_genomes/GTDBr89/genomes_quality/genbank/bacteria/GCA_002560615.1/GCA_002560615.1_ASM256061v1_genomic.fna.gz | Train |\n",
       "| ⋮ | ⋮ | ⋮ | ⋮ | ⋮ | ⋮ | ⋮ | ⋮ | ⋮ | ⋮ | ⋱ | ⋮ | ⋮ | ⋮ | ⋮ | ⋮ | ⋮ | ⋮ | ⋮ | ⋮ | ⋮ |\n",
       "| RS_GCF_000439435.1 | d__Bacteria | p__Firmicutes | c__Bacilli | o__Mycoplasmatales | f__Mycoplasmataceae | g__Spiroplasma_A | s__Spiroplasma_A taiwanense | 0 | 98.87 | ⋯ | 0 | 100 | CP005074.862688.864196 | Bacteria;Tenericutes;Mollicutes;Entomoplasmatales;Spiroplasmataceae;Spiroplasma;Spiroplasma taiwanense CT-1 | 0 | 20 | 29 | 1 | /ebio/abt3_projects/databases_no-backup/DeepMAsED/version2/ref_genomes/GTDBr89/genomes_quality/genbank/bacteria/GCA_000439435.1/GCA_000439435.1_ASM43943v1_genomic.fna.gz  | Test |\n",
       "| RS_GCF_002092595.1 | d__Bacteria | p__Firmicutes | c__Bacilli | o__Lactobacillales | f__Lactobacillaceae | g__Leuconostoc   | s__Leuconostoc lactis_A     | 0 | 99.44 | ⋯ | 0 | 100 | AY456086.1.1537        | Bacteria;Firmicutes;Bacilli;Lactobacillales;Leuconostocaceae;Leuconostoc;Leuconostoc garlicum               | 0 | 20 | 50 | 0 | /ebio/abt3_projects/databases_no-backup/DeepMAsED/version2/ref_genomes/GTDBr89/genomes_quality/genbank/bacteria/GCA_002092595.1/GCA_002092595.1_ASM209259v1_genomic.fna.gz | Test |\n",
       "\n"
      ],
      "text/plain": [
       "      accession          Domain      Phylum              Class            \n",
       "1     RS_GCF_000478885.1 d__Bacteria p__Actinobacteriota c__Coriobacteriia\n",
       "2     RS_GCF_002560615.1 d__Bacteria p__Firmicutes       c__Bacilli       \n",
       "⋮     ⋮                  ⋮           ⋮                   ⋮                \n",
       "17999 RS_GCF_000439435.1 d__Bacteria p__Firmicutes       c__Bacilli       \n",
       "18000 RS_GCF_002092595.1 d__Bacteria p__Firmicutes       c__Bacilli       \n",
       "      Order               Family              Genus           \n",
       "1     o__Coriobacteriales f__Eggerthellaceae  g__Adlercreutzia\n",
       "2     o__Bacillales       f__Bacillaceae_G    g__Bacillus_A   \n",
       "⋮     ⋮                   ⋮                   ⋮               \n",
       "17999 o__Mycoplasmatales  f__Mycoplasmataceae g__Spiroplasma_A\n",
       "18000 o__Lactobacillales  f__Lactobacillaceae g__Leuconostoc  \n",
       "      Species                        ambiguous_bases checkm_completeness ⋯\n",
       "1     s__Adlercreutzia equolifaciens 0               100.00              ⋯\n",
       "2     s__Bacillus_A cereus_AG        0                98.68              ⋯\n",
       "⋮     ⋮                              ⋮               ⋮                   ⋱\n",
       "17999 s__Spiroplasma_A taiwanense    0               98.87               ⋯\n",
       "18000 s__Leuconostoc lactis_A        0               99.44               ⋯\n",
       "      ssu_silva_blast_evalue ssu_silva_blast_perc_identity\n",
       "1     0                      100.000                      \n",
       "2     0                       99.935                      \n",
       "⋮     ⋮                      ⋮                            \n",
       "17999 0                      100                          \n",
       "18000 0                      100                          \n",
       "      ssu_silva_blast_subject_id\n",
       "1     AB649147.1.1469           \n",
       "2     CP010089.670406.671961    \n",
       "⋮     ⋮                         \n",
       "17999 CP005074.862688.864196    \n",
       "18000 AY456086.1.1537           \n",
       "      ssu_silva_taxonomy                                                                                                 \n",
       "1     Bacteria;Actinobacteria;Coriobacteriia;Coriobacteriales;Coriobacteriaceae;Adlercreutzia;Adlercreutzia equolifaciens\n",
       "2     Bacteria;Firmicutes;Bacilli;Bacillales;Bacillaceae;Bacillus;Bacillus thuringiensis serovar galleriae               \n",
       "⋮     ⋮                                                                                                                  \n",
       "17999 Bacteria;Tenericutes;Mollicutes;Entomoplasmatales;Spiroplasmataceae;Spiroplasma;Spiroplasma taiwanense CT-1        \n",
       "18000 Bacteria;Firmicutes;Bacilli;Lactobacillales;Leuconostocaceae;Leuconostoc;Leuconostoc garlicum                      \n",
       "      total_gap_length trna_aa_count trna_count trna_selenocysteine_count\n",
       "1       0              20            48         0                        \n",
       "2     368              20            63         0                        \n",
       "⋮     ⋮                ⋮             ⋮          ⋮                        \n",
       "17999 0                20            29         1                        \n",
       "18000 0                20            50         0                        \n",
       "      fasta_file_path                                                                                                                                                           \n",
       "1     /ebio/abt3_projects/databases_no-backup/DeepMAsED/version2/ref_genomes/GTDBr89/genomes_quality/genbank/bacteria/GCA_000478885.1/GCA_000478885.1_ASM47888v1_genomic.fna.gz \n",
       "2     /ebio/abt3_projects/databases_no-backup/DeepMAsED/version2/ref_genomes/GTDBr89/genomes_quality/genbank/bacteria/GCA_002560615.1/GCA_002560615.1_ASM256061v1_genomic.fna.gz\n",
       "⋮     ⋮                                                                                                                                                                         \n",
       "17999 /ebio/abt3_projects/databases_no-backup/DeepMAsED/version2/ref_genomes/GTDBr89/genomes_quality/genbank/bacteria/GCA_000439435.1/GCA_000439435.1_ASM43943v1_genomic.fna.gz \n",
       "18000 /ebio/abt3_projects/databases_no-backup/DeepMAsED/version2/ref_genomes/GTDBr89/genomes_quality/genbank/bacteria/GCA_002092595.1/GCA_002092595.1_ASM209259v1_genomic.fna.gz\n",
       "      dataset_partition\n",
       "1     Train            \n",
       "2     Train            \n",
       "⋮     ⋮                \n",
       "17999 Test             \n",
       "18000 Test             "
      ]
     },
     "metadata": {},
     "output_type": "display_data"
    }
   ],
   "source": [
    "r89_ref = Fread(r89_ref_file, sep='\\t')\n",
    "r89_ref"
   ]
  },
  {
   "cell_type": "markdown",
   "metadata": {},
   "source": [
    "## GTDBr95"
   ]
  },
  {
   "cell_type": "code",
   "execution_count": 5,
   "metadata": {
    "ExecuteTime": {
     "end_time": "2020-10-08T17:53:05.679829Z",
     "start_time": "2020-10-08T17:52:51.137Z"
    }
   },
   "outputs": [
    {
     "data": {
      "text/html": [
       "<table>\n",
       "<caption>A data.table: 194600 × 27</caption>\n",
       "<thead>\n",
       "\t<tr><th scope=col>accession</th><th scope=col>checkm_completeness</th><th scope=col>checkm_contamination</th><th scope=col>Domain</th><th scope=col>Phylum</th><th scope=col>Class</th><th scope=col>Order</th><th scope=col>Family</th><th scope=col>Genus</th><th scope=col>Species</th><th scope=col>⋯</th><th scope=col>gc_percentage</th><th scope=col>contig_count</th><th scope=col>genome_size</th><th scope=col>mean_contig_length</th><th scope=col>scaffold_count</th><th scope=col>ssu_contig_len</th><th scope=col>ssu_count</th><th scope=col>mimag_high_quality</th><th scope=col>mimag_medium_quality</th><th scope=col>mimag_low_quality</th></tr>\n",
       "\t<tr><th scope=col>&lt;chr&gt;</th><th scope=col>&lt;dbl&gt;</th><th scope=col>&lt;dbl&gt;</th><th scope=col>&lt;chr&gt;</th><th scope=col>&lt;chr&gt;</th><th scope=col>&lt;chr&gt;</th><th scope=col>&lt;chr&gt;</th><th scope=col>&lt;chr&gt;</th><th scope=col>&lt;chr&gt;</th><th scope=col>&lt;chr&gt;</th><th scope=col>⋯</th><th scope=col>&lt;dbl&gt;</th><th scope=col>&lt;int&gt;</th><th scope=col>&lt;int&gt;</th><th scope=col>&lt;int&gt;</th><th scope=col>&lt;int&gt;</th><th scope=col>&lt;chr&gt;</th><th scope=col>&lt;int&gt;</th><th scope=col>&lt;chr&gt;</th><th scope=col>&lt;chr&gt;</th><th scope=col>&lt;chr&gt;</th></tr>\n",
       "</thead>\n",
       "<tbody>\n",
       "\t<tr><td>GB_GCA_000006155.2</td><td>93.12</td><td>0</td><td>d__Bacteria</td><td>p__Firmicutes    </td><td>c__Bacilli            </td><td>o__Bacillales     </td><td>f__Bacillaceae_G   </td><td>g__Bacillus_A </td><td>s__Bacillus_A anthracis</td><td>⋯</td><td>35.10140</td><td>426</td><td>5370060</td><td>  12506</td><td>3</td><td>none   </td><td>0</td><td>f</td><td>t</td><td>f</td></tr>\n",
       "\t<tr><td>GB_GCA_000007385.1</td><td>99.82</td><td>0</td><td>d__Bacteria</td><td>p__Proteobacteria</td><td>c__Gammaproteobacteria</td><td>o__Xanthomonadales</td><td>f__Xanthomonadaceae</td><td>g__Xanthomonas</td><td>s__Xanthomonas oryzae  </td><td>⋯</td><td>63.69329</td><td>  1</td><td>4941439</td><td>4941439</td><td>1</td><td>4941439</td><td>2</td><td>t</td><td>f</td><td>f</td></tr>\n",
       "\t<tr><td>⋮</td><td>⋮</td><td>⋮</td><td>⋮</td><td>⋮</td><td>⋮</td><td>⋮</td><td>⋮</td><td>⋮</td><td>⋮</td><td>⋱</td><td>⋮</td><td>⋮</td><td>⋮</td><td>⋮</td><td>⋮</td><td>⋮</td><td>⋮</td><td>⋮</td><td>⋮</td><td>⋮</td></tr>\n",
       "\t<tr><td>GB_GCA_013330395.1</td><td>92.35</td><td>1.49</td><td>d__Archaea</td><td>p__Methanobacteriota</td><td>c__Thermococci</td><td>o__Thermococcales</td><td>f__Thermococcaceae   </td><td>g__Thermococcus_A</td><td>s__Thermococcus_A sibiricus</td><td>⋯</td><td>40.08773</td><td>148</td><td>1691137</td><td>11354</td><td>115</td><td>none</td><td>0</td><td>f</td><td>t</td><td>f</td></tr>\n",
       "\t<tr><td>GB_GCA_013330385.1</td><td>62.99</td><td>0.96</td><td>d__Archaea</td><td>p__Thermoplasmatota </td><td>c__Poseidoniia</td><td>o__Poseidoniales </td><td>f__Thalassarchaeaceae</td><td>g__MGIIb-O1      </td><td>s__MGIIb-O1 sp12570u       </td><td>⋯</td><td>44.53718</td><td>293</td><td>1248962</td><td> 4147</td><td>197</td><td>none</td><td>0</td><td>f</td><td>t</td><td>f</td></tr>\n",
       "</tbody>\n",
       "</table>\n"
      ],
      "text/latex": [
       "A data.table: 194600 × 27\n",
       "\\begin{tabular}{lllllllllllllllllllll}\n",
       " accession & checkm\\_completeness & checkm\\_contamination & Domain & Phylum & Class & Order & Family & Genus & Species & ⋯ & gc\\_percentage & contig\\_count & genome\\_size & mean\\_contig\\_length & scaffold\\_count & ssu\\_contig\\_len & ssu\\_count & mimag\\_high\\_quality & mimag\\_medium\\_quality & mimag\\_low\\_quality\\\\\n",
       " <chr> & <dbl> & <dbl> & <chr> & <chr> & <chr> & <chr> & <chr> & <chr> & <chr> & ⋯ & <dbl> & <int> & <int> & <int> & <int> & <chr> & <int> & <chr> & <chr> & <chr>\\\\\n",
       "\\hline\n",
       "\t GB\\_GCA\\_000006155.2 & 93.12 & 0 & d\\_\\_Bacteria & p\\_\\_Firmicutes     & c\\_\\_Bacilli             & o\\_\\_Bacillales      & f\\_\\_Bacillaceae\\_G    & g\\_\\_Bacillus\\_A  & s\\_\\_Bacillus\\_A anthracis & ⋯ & 35.10140 & 426 & 5370060 &   12506 & 3 & none    & 0 & f & t & f\\\\\n",
       "\t GB\\_GCA\\_000007385.1 & 99.82 & 0 & d\\_\\_Bacteria & p\\_\\_Proteobacteria & c\\_\\_Gammaproteobacteria & o\\_\\_Xanthomonadales & f\\_\\_Xanthomonadaceae & g\\_\\_Xanthomonas & s\\_\\_Xanthomonas oryzae   & ⋯ & 63.69329 &   1 & 4941439 & 4941439 & 1 & 4941439 & 2 & t & f & f\\\\\n",
       "\t ⋮ & ⋮ & ⋮ & ⋮ & ⋮ & ⋮ & ⋮ & ⋮ & ⋮ & ⋮ & ⋱ & ⋮ & ⋮ & ⋮ & ⋮ & ⋮ & ⋮ & ⋮ & ⋮ & ⋮ & ⋮\\\\\n",
       "\t GB\\_GCA\\_013330395.1 & 92.35 & 1.49 & d\\_\\_Archaea & p\\_\\_Methanobacteriota & c\\_\\_Thermococci & o\\_\\_Thermococcales & f\\_\\_Thermococcaceae    & g\\_\\_Thermococcus\\_A & s\\_\\_Thermococcus\\_A sibiricus & ⋯ & 40.08773 & 148 & 1691137 & 11354 & 115 & none & 0 & f & t & f\\\\\n",
       "\t GB\\_GCA\\_013330385.1 & 62.99 & 0.96 & d\\_\\_Archaea & p\\_\\_Thermoplasmatota  & c\\_\\_Poseidoniia & o\\_\\_Poseidoniales  & f\\_\\_Thalassarchaeaceae & g\\_\\_MGIIb-O1       & s\\_\\_MGIIb-O1 sp12570u        & ⋯ & 44.53718 & 293 & 1248962 &  4147 & 197 & none & 0 & f & t & f\\\\\n",
       "\\end{tabular}\n"
      ],
      "text/markdown": [
       "\n",
       "A data.table: 194600 × 27\n",
       "\n",
       "| accession &lt;chr&gt; | checkm_completeness &lt;dbl&gt; | checkm_contamination &lt;dbl&gt; | Domain &lt;chr&gt; | Phylum &lt;chr&gt; | Class &lt;chr&gt; | Order &lt;chr&gt; | Family &lt;chr&gt; | Genus &lt;chr&gt; | Species &lt;chr&gt; | ⋯ ⋯ | gc_percentage &lt;dbl&gt; | contig_count &lt;int&gt; | genome_size &lt;int&gt; | mean_contig_length &lt;int&gt; | scaffold_count &lt;int&gt; | ssu_contig_len &lt;chr&gt; | ssu_count &lt;int&gt; | mimag_high_quality &lt;chr&gt; | mimag_medium_quality &lt;chr&gt; | mimag_low_quality &lt;chr&gt; |\n",
       "|---|---|---|---|---|---|---|---|---|---|---|---|---|---|---|---|---|---|---|---|---|\n",
       "| GB_GCA_000006155.2 | 93.12 | 0 | d__Bacteria | p__Firmicutes     | c__Bacilli             | o__Bacillales      | f__Bacillaceae_G    | g__Bacillus_A  | s__Bacillus_A anthracis | ⋯ | 35.10140 | 426 | 5370060 |   12506 | 3 | none    | 0 | f | t | f |\n",
       "| GB_GCA_000007385.1 | 99.82 | 0 | d__Bacteria | p__Proteobacteria | c__Gammaproteobacteria | o__Xanthomonadales | f__Xanthomonadaceae | g__Xanthomonas | s__Xanthomonas oryzae   | ⋯ | 63.69329 |   1 | 4941439 | 4941439 | 1 | 4941439 | 2 | t | f | f |\n",
       "| ⋮ | ⋮ | ⋮ | ⋮ | ⋮ | ⋮ | ⋮ | ⋮ | ⋮ | ⋮ | ⋱ | ⋮ | ⋮ | ⋮ | ⋮ | ⋮ | ⋮ | ⋮ | ⋮ | ⋮ | ⋮ |\n",
       "| GB_GCA_013330395.1 | 92.35 | 1.49 | d__Archaea | p__Methanobacteriota | c__Thermococci | o__Thermococcales | f__Thermococcaceae    | g__Thermococcus_A | s__Thermococcus_A sibiricus | ⋯ | 40.08773 | 148 | 1691137 | 11354 | 115 | none | 0 | f | t | f |\n",
       "| GB_GCA_013330385.1 | 62.99 | 0.96 | d__Archaea | p__Thermoplasmatota  | c__Poseidoniia | o__Poseidoniales  | f__Thalassarchaeaceae | g__MGIIb-O1       | s__MGIIb-O1 sp12570u        | ⋯ | 44.53718 | 293 | 1248962 |  4147 | 197 | none | 0 | f | t | f |\n",
       "\n"
      ],
      "text/plain": [
       "       accession          checkm_completeness checkm_contamination Domain     \n",
       "1      GB_GCA_000006155.2 93.12               0                    d__Bacteria\n",
       "2      GB_GCA_000007385.1 99.82               0                    d__Bacteria\n",
       "⋮      ⋮                  ⋮                   ⋮                    ⋮          \n",
       "194599 GB_GCA_013330395.1 92.35               1.49                 d__Archaea \n",
       "194600 GB_GCA_013330385.1 62.99               0.96                 d__Archaea \n",
       "       Phylum               Class                  Order             \n",
       "1      p__Firmicutes        c__Bacilli             o__Bacillales     \n",
       "2      p__Proteobacteria    c__Gammaproteobacteria o__Xanthomonadales\n",
       "⋮      ⋮                    ⋮                      ⋮                 \n",
       "194599 p__Methanobacteriota c__Thermococci         o__Thermococcales \n",
       "194600 p__Thermoplasmatota  c__Poseidoniia         o__Poseidoniales  \n",
       "       Family                Genus             Species                     ⋯\n",
       "1      f__Bacillaceae_G      g__Bacillus_A     s__Bacillus_A anthracis     ⋯\n",
       "2      f__Xanthomonadaceae   g__Xanthomonas    s__Xanthomonas oryzae       ⋯\n",
       "⋮      ⋮                     ⋮                 ⋮                           ⋱\n",
       "194599 f__Thermococcaceae    g__Thermococcus_A s__Thermococcus_A sibiricus ⋯\n",
       "194600 f__Thalassarchaeaceae g__MGIIb-O1       s__MGIIb-O1 sp12570u        ⋯\n",
       "       gc_percentage contig_count genome_size mean_contig_length scaffold_count\n",
       "1      35.10140      426          5370060       12506            3             \n",
       "2      63.69329        1          4941439     4941439            1             \n",
       "⋮      ⋮             ⋮            ⋮           ⋮                  ⋮             \n",
       "194599 40.08773      148          1691137     11354              115           \n",
       "194600 44.53718      293          1248962      4147              197           \n",
       "       ssu_contig_len ssu_count mimag_high_quality mimag_medium_quality\n",
       "1      none           0         f                  t                   \n",
       "2      4941439        2         t                  f                   \n",
       "⋮      ⋮              ⋮         ⋮                  ⋮                   \n",
       "194599 none           0         f                  t                   \n",
       "194600 none           0         f                  t                   \n",
       "       mimag_low_quality\n",
       "1      f                \n",
       "2      f                \n",
       "⋮      ⋮                \n",
       "194599 f                \n",
       "194600 f                "
      ]
     },
     "metadata": {},
     "output_type": "display_data"
    }
   ],
   "source": [
    "# reading in metadata tables for r95\n",
    "levs = c('Domain', 'Phylum', 'Class', 'Order', 'Family', 'Genus', 'Species')\n",
    "r95_meta = c(r95_bac_metadata_file, r95_arc_metadata_file) %>%\n",
    "    lapply(Fread) %>%\n",
    "    data.table::rbindlist(use.names = TRUE) %>%\n",
    "    dplyr::select(accession, checkm_completeness, checkm_contamination,\n",
    "                  gtdb_taxonomy, gtdb_genome_representative, gtdb_representative,\n",
    "                  ncbi_genbank_assembly_accession, ncbi_taxid, ncbi_taxonomy,\n",
    "                  ncbi_assembly_level, ncbi_genome_category, gc_percentage,\n",
    "                  contig_count, genome_size, mean_contig_length, \n",
    "                  scaffold_count, ssu_contig_len, ssu_count,\n",
    "                  mimag_high_quality, mimag_medium_quality, mimag_low_quality) %>%\n",
    "    separate(gtdb_taxonomy, levs, sep=';')\n",
    "r95_meta"
   ]
  },
  {
   "cell_type": "code",
   "execution_count": 6,
   "metadata": {
    "ExecuteTime": {
     "end_time": "2020-10-08T17:53:06.625134Z",
     "start_time": "2020-10-08T17:52:51.141Z"
    }
   },
   "outputs": [
    {
     "name": "stdout",
     "output_type": "stream",
     "text": [
      "intersect(x,y): 17276 \n",
      "setdiff(x,y): 724 \n",
      "setdiff(y,x): 177324 \n",
      "union(x,y): 195324 \n"
     ]
    }
   ],
   "source": [
    "# number of overlapping genome accessions\n",
    "overlap(r89_ref$accession, r95_meta$accession)"
   ]
  },
  {
   "cell_type": "markdown",
   "metadata": {},
   "source": [
    "# Filtering r95"
   ]
  },
  {
   "cell_type": "markdown",
   "metadata": {},
   "source": [
    "## checkM"
   ]
  },
  {
   "cell_type": "code",
   "execution_count": 7,
   "metadata": {
    "ExecuteTime": {
     "end_time": "2020-10-08T17:53:06.700558Z",
     "start_time": "2020-10-08T17:52:51.147Z"
    }
   },
   "outputs": [
    {
     "data": {
      "text/html": [
       "<table>\n",
       "<caption>A data.table: 174844 × 27</caption>\n",
       "<thead>\n",
       "\t<tr><th scope=col>accession</th><th scope=col>checkm_completeness</th><th scope=col>checkm_contamination</th><th scope=col>Domain</th><th scope=col>Phylum</th><th scope=col>Class</th><th scope=col>Order</th><th scope=col>Family</th><th scope=col>Genus</th><th scope=col>Species</th><th scope=col>⋯</th><th scope=col>gc_percentage</th><th scope=col>contig_count</th><th scope=col>genome_size</th><th scope=col>mean_contig_length</th><th scope=col>scaffold_count</th><th scope=col>ssu_contig_len</th><th scope=col>ssu_count</th><th scope=col>mimag_high_quality</th><th scope=col>mimag_medium_quality</th><th scope=col>mimag_low_quality</th></tr>\n",
       "\t<tr><th scope=col>&lt;chr&gt;</th><th scope=col>&lt;dbl&gt;</th><th scope=col>&lt;dbl&gt;</th><th scope=col>&lt;chr&gt;</th><th scope=col>&lt;chr&gt;</th><th scope=col>&lt;chr&gt;</th><th scope=col>&lt;chr&gt;</th><th scope=col>&lt;chr&gt;</th><th scope=col>&lt;chr&gt;</th><th scope=col>&lt;chr&gt;</th><th scope=col>⋯</th><th scope=col>&lt;dbl&gt;</th><th scope=col>&lt;int&gt;</th><th scope=col>&lt;int&gt;</th><th scope=col>&lt;int&gt;</th><th scope=col>&lt;int&gt;</th><th scope=col>&lt;chr&gt;</th><th scope=col>&lt;int&gt;</th><th scope=col>&lt;chr&gt;</th><th scope=col>&lt;chr&gt;</th><th scope=col>&lt;chr&gt;</th></tr>\n",
       "</thead>\n",
       "<tbody>\n",
       "\t<tr><td>GB_GCA_000006155.2</td><td>93.12</td><td>0</td><td>d__Bacteria</td><td>p__Firmicutes    </td><td>c__Bacilli            </td><td>o__Bacillales     </td><td>f__Bacillaceae_G   </td><td>g__Bacillus_A </td><td>s__Bacillus_A anthracis</td><td>⋯</td><td>35.10140</td><td>426</td><td>5370060</td><td>  12506</td><td>3</td><td>none   </td><td>0</td><td>f</td><td>t</td><td>f</td></tr>\n",
       "\t<tr><td>GB_GCA_000007385.1</td><td>99.82</td><td>0</td><td>d__Bacteria</td><td>p__Proteobacteria</td><td>c__Gammaproteobacteria</td><td>o__Xanthomonadales</td><td>f__Xanthomonadaceae</td><td>g__Xanthomonas</td><td>s__Xanthomonas oryzae  </td><td>⋯</td><td>63.69329</td><td>  1</td><td>4941439</td><td>4941439</td><td>1</td><td>4941439</td><td>2</td><td>t</td><td>f</td><td>f</td></tr>\n",
       "\t<tr><td>⋮</td><td>⋮</td><td>⋮</td><td>⋮</td><td>⋮</td><td>⋮</td><td>⋮</td><td>⋮</td><td>⋮</td><td>⋮</td><td>⋱</td><td>⋮</td><td>⋮</td><td>⋮</td><td>⋮</td><td>⋮</td><td>⋮</td><td>⋮</td><td>⋮</td><td>⋮</td><td>⋮</td></tr>\n",
       "\t<tr><td>GB_GCA_013330515.1</td><td>98.04</td><td>0.00</td><td>d__Archaea</td><td>p__Halobacteriota   </td><td>c__Methanosarcinia</td><td>o__Methanosarcinales_A</td><td>f__Methermicoccaceae</td><td>g__Methermicoccus</td><td>s__Methermicoccus shengliensis</td><td>⋯</td><td>55.35460</td><td> 35</td><td>1369149</td><td>39023</td><td> 24</td><td>123890</td><td>1</td><td>t</td><td>f</td><td>f</td></tr>\n",
       "\t<tr><td>GB_GCA_013330395.1</td><td>92.35</td><td>1.49</td><td>d__Archaea</td><td>p__Methanobacteriota</td><td>c__Thermococci    </td><td>o__Thermococcales     </td><td>f__Thermococcaceae  </td><td>g__Thermococcus_A</td><td>s__Thermococcus_A sibiricus   </td><td>⋯</td><td>40.08773</td><td>148</td><td>1691137</td><td>11354</td><td>115</td><td>none  </td><td>0</td><td>f</td><td>t</td><td>f</td></tr>\n",
       "</tbody>\n",
       "</table>\n"
      ],
      "text/latex": [
       "A data.table: 174844 × 27\n",
       "\\begin{tabular}{lllllllllllllllllllll}\n",
       " accession & checkm\\_completeness & checkm\\_contamination & Domain & Phylum & Class & Order & Family & Genus & Species & ⋯ & gc\\_percentage & contig\\_count & genome\\_size & mean\\_contig\\_length & scaffold\\_count & ssu\\_contig\\_len & ssu\\_count & mimag\\_high\\_quality & mimag\\_medium\\_quality & mimag\\_low\\_quality\\\\\n",
       " <chr> & <dbl> & <dbl> & <chr> & <chr> & <chr> & <chr> & <chr> & <chr> & <chr> & ⋯ & <dbl> & <int> & <int> & <int> & <int> & <chr> & <int> & <chr> & <chr> & <chr>\\\\\n",
       "\\hline\n",
       "\t GB\\_GCA\\_000006155.2 & 93.12 & 0 & d\\_\\_Bacteria & p\\_\\_Firmicutes     & c\\_\\_Bacilli             & o\\_\\_Bacillales      & f\\_\\_Bacillaceae\\_G    & g\\_\\_Bacillus\\_A  & s\\_\\_Bacillus\\_A anthracis & ⋯ & 35.10140 & 426 & 5370060 &   12506 & 3 & none    & 0 & f & t & f\\\\\n",
       "\t GB\\_GCA\\_000007385.1 & 99.82 & 0 & d\\_\\_Bacteria & p\\_\\_Proteobacteria & c\\_\\_Gammaproteobacteria & o\\_\\_Xanthomonadales & f\\_\\_Xanthomonadaceae & g\\_\\_Xanthomonas & s\\_\\_Xanthomonas oryzae   & ⋯ & 63.69329 &   1 & 4941439 & 4941439 & 1 & 4941439 & 2 & t & f & f\\\\\n",
       "\t ⋮ & ⋮ & ⋮ & ⋮ & ⋮ & ⋮ & ⋮ & ⋮ & ⋮ & ⋮ & ⋱ & ⋮ & ⋮ & ⋮ & ⋮ & ⋮ & ⋮ & ⋮ & ⋮ & ⋮ & ⋮\\\\\n",
       "\t GB\\_GCA\\_013330515.1 & 98.04 & 0.00 & d\\_\\_Archaea & p\\_\\_Halobacteriota    & c\\_\\_Methanosarcinia & o\\_\\_Methanosarcinales\\_A & f\\_\\_Methermicoccaceae & g\\_\\_Methermicoccus & s\\_\\_Methermicoccus shengliensis & ⋯ & 55.35460 &  35 & 1369149 & 39023 &  24 & 123890 & 1 & t & f & f\\\\\n",
       "\t GB\\_GCA\\_013330395.1 & 92.35 & 1.49 & d\\_\\_Archaea & p\\_\\_Methanobacteriota & c\\_\\_Thermococci     & o\\_\\_Thermococcales      & f\\_\\_Thermococcaceae   & g\\_\\_Thermococcus\\_A & s\\_\\_Thermococcus\\_A sibiricus    & ⋯ & 40.08773 & 148 & 1691137 & 11354 & 115 & none   & 0 & f & t & f\\\\\n",
       "\\end{tabular}\n"
      ],
      "text/markdown": [
       "\n",
       "A data.table: 174844 × 27\n",
       "\n",
       "| accession &lt;chr&gt; | checkm_completeness &lt;dbl&gt; | checkm_contamination &lt;dbl&gt; | Domain &lt;chr&gt; | Phylum &lt;chr&gt; | Class &lt;chr&gt; | Order &lt;chr&gt; | Family &lt;chr&gt; | Genus &lt;chr&gt; | Species &lt;chr&gt; | ⋯ ⋯ | gc_percentage &lt;dbl&gt; | contig_count &lt;int&gt; | genome_size &lt;int&gt; | mean_contig_length &lt;int&gt; | scaffold_count &lt;int&gt; | ssu_contig_len &lt;chr&gt; | ssu_count &lt;int&gt; | mimag_high_quality &lt;chr&gt; | mimag_medium_quality &lt;chr&gt; | mimag_low_quality &lt;chr&gt; |\n",
       "|---|---|---|---|---|---|---|---|---|---|---|---|---|---|---|---|---|---|---|---|---|\n",
       "| GB_GCA_000006155.2 | 93.12 | 0 | d__Bacteria | p__Firmicutes     | c__Bacilli             | o__Bacillales      | f__Bacillaceae_G    | g__Bacillus_A  | s__Bacillus_A anthracis | ⋯ | 35.10140 | 426 | 5370060 |   12506 | 3 | none    | 0 | f | t | f |\n",
       "| GB_GCA_000007385.1 | 99.82 | 0 | d__Bacteria | p__Proteobacteria | c__Gammaproteobacteria | o__Xanthomonadales | f__Xanthomonadaceae | g__Xanthomonas | s__Xanthomonas oryzae   | ⋯ | 63.69329 |   1 | 4941439 | 4941439 | 1 | 4941439 | 2 | t | f | f |\n",
       "| ⋮ | ⋮ | ⋮ | ⋮ | ⋮ | ⋮ | ⋮ | ⋮ | ⋮ | ⋮ | ⋱ | ⋮ | ⋮ | ⋮ | ⋮ | ⋮ | ⋮ | ⋮ | ⋮ | ⋮ | ⋮ |\n",
       "| GB_GCA_013330515.1 | 98.04 | 0.00 | d__Archaea | p__Halobacteriota    | c__Methanosarcinia | o__Methanosarcinales_A | f__Methermicoccaceae | g__Methermicoccus | s__Methermicoccus shengliensis | ⋯ | 55.35460 |  35 | 1369149 | 39023 |  24 | 123890 | 1 | t | f | f |\n",
       "| GB_GCA_013330395.1 | 92.35 | 1.49 | d__Archaea | p__Methanobacteriota | c__Thermococci     | o__Thermococcales      | f__Thermococcaceae   | g__Thermococcus_A | s__Thermococcus_A sibiricus    | ⋯ | 40.08773 | 148 | 1691137 | 11354 | 115 | none   | 0 | f | t | f |\n",
       "\n"
      ],
      "text/plain": [
       "       accession          checkm_completeness checkm_contamination Domain     \n",
       "1      GB_GCA_000006155.2 93.12               0                    d__Bacteria\n",
       "2      GB_GCA_000007385.1 99.82               0                    d__Bacteria\n",
       "⋮      ⋮                  ⋮                   ⋮                    ⋮          \n",
       "174843 GB_GCA_013330515.1 98.04               0.00                 d__Archaea \n",
       "174844 GB_GCA_013330395.1 92.35               1.49                 d__Archaea \n",
       "       Phylum               Class                  Order                 \n",
       "1      p__Firmicutes        c__Bacilli             o__Bacillales         \n",
       "2      p__Proteobacteria    c__Gammaproteobacteria o__Xanthomonadales    \n",
       "⋮      ⋮                    ⋮                      ⋮                     \n",
       "174843 p__Halobacteriota    c__Methanosarcinia     o__Methanosarcinales_A\n",
       "174844 p__Methanobacteriota c__Thermococci         o__Thermococcales     \n",
       "       Family               Genus             Species                        ⋯\n",
       "1      f__Bacillaceae_G     g__Bacillus_A     s__Bacillus_A anthracis        ⋯\n",
       "2      f__Xanthomonadaceae  g__Xanthomonas    s__Xanthomonas oryzae          ⋯\n",
       "⋮      ⋮                    ⋮                 ⋮                              ⋱\n",
       "174843 f__Methermicoccaceae g__Methermicoccus s__Methermicoccus shengliensis ⋯\n",
       "174844 f__Thermococcaceae   g__Thermococcus_A s__Thermococcus_A sibiricus    ⋯\n",
       "       gc_percentage contig_count genome_size mean_contig_length scaffold_count\n",
       "1      35.10140      426          5370060       12506            3             \n",
       "2      63.69329        1          4941439     4941439            1             \n",
       "⋮      ⋮             ⋮            ⋮           ⋮                  ⋮             \n",
       "174843 55.35460       35          1369149     39023               24           \n",
       "174844 40.08773      148          1691137     11354              115           \n",
       "       ssu_contig_len ssu_count mimag_high_quality mimag_medium_quality\n",
       "1      none           0         f                  t                   \n",
       "2      4941439        2         t                  f                   \n",
       "⋮      ⋮              ⋮         ⋮                  ⋮                   \n",
       "174843 123890         1         t                  f                   \n",
       "174844 none           0         f                  t                   \n",
       "       mimag_low_quality\n",
       "1      f                \n",
       "2      f                \n",
       "⋮      ⋮                \n",
       "174843 f                \n",
       "174844 f                "
      ]
     },
     "metadata": {},
     "output_type": "display_data"
    }
   ],
   "source": [
    "r95_meta_f = r95_meta %>%\n",
    "    filter(checkm_completeness >= 90,\n",
    "           checkm_contamination < 5)\n",
    "r95_meta_f"
   ]
  },
  {
   "cell_type": "code",
   "execution_count": 8,
   "metadata": {
    "ExecuteTime": {
     "end_time": "2020-10-08T17:53:06.777151Z",
     "start_time": "2020-10-08T17:52:51.151Z"
    }
   },
   "outputs": [
    {
     "data": {
      "text/html": [
       "<table>\n",
       "<caption>A matrix: 1 × 8 of type dbl</caption>\n",
       "<thead>\n",
       "\t<tr><th></th><th scope=col>Min.</th><th scope=col>1st Qu.</th><th scope=col>Median</th><th scope=col>Mean</th><th scope=col>3rd Qu.</th><th scope=col>Max.</th><th scope=col>sd</th><th scope=col>sd_err_of_mean</th></tr>\n",
       "</thead>\n",
       "<tbody>\n",
       "\t<tr><th scope=row>completeness</th><td>90</td><td>99.37</td><td>99.63</td><td>99.24979</td><td>99.97</td><td>100</td><td>3.949</td><td>1.612</td></tr>\n",
       "</tbody>\n",
       "</table>\n"
      ],
      "text/latex": [
       "A matrix: 1 × 8 of type dbl\n",
       "\\begin{tabular}{r|llllllll}\n",
       "  & Min. & 1st Qu. & Median & Mean & 3rd Qu. & Max. & sd & sd\\_err\\_of\\_mean\\\\\n",
       "\\hline\n",
       "\tcompleteness & 90 & 99.37 & 99.63 & 99.24979 & 99.97 & 100 & 3.949 & 1.612\\\\\n",
       "\\end{tabular}\n"
      ],
      "text/markdown": [
       "\n",
       "A matrix: 1 × 8 of type dbl\n",
       "\n",
       "| <!--/--> | Min. | 1st Qu. | Median | Mean | 3rd Qu. | Max. | sd | sd_err_of_mean |\n",
       "|---|---|---|---|---|---|---|---|---|\n",
       "| completeness | 90 | 99.37 | 99.63 | 99.24979 | 99.97 | 100 | 3.949 | 1.612 |\n",
       "\n"
      ],
      "text/plain": [
       "             Min. 1st Qu. Median Mean     3rd Qu. Max. sd    sd_err_of_mean\n",
       "completeness 90   99.37   99.63  99.24979 99.97   100  3.949 1.612         "
      ]
     },
     "metadata": {},
     "output_type": "display_data"
    },
    {
     "data": {
      "text/html": [
       "<table>\n",
       "<caption>A matrix: 1 × 8 of type dbl</caption>\n",
       "<thead>\n",
       "\t<tr><th></th><th scope=col>Min.</th><th scope=col>1st Qu.</th><th scope=col>Median</th><th scope=col>Mean</th><th scope=col>3rd Qu.</th><th scope=col>Max.</th><th scope=col>sd</th><th scope=col>sd_err_of_mean</th></tr>\n",
       "</thead>\n",
       "<tbody>\n",
       "\t<tr><th scope=row>contamination</th><td>0</td><td>0.05</td><td>0.25</td><td>0.5097405</td><td>0.64</td><td>4.99</td><td>1.935</td><td>0.79</td></tr>\n",
       "</tbody>\n",
       "</table>\n"
      ],
      "text/latex": [
       "A matrix: 1 × 8 of type dbl\n",
       "\\begin{tabular}{r|llllllll}\n",
       "  & Min. & 1st Qu. & Median & Mean & 3rd Qu. & Max. & sd & sd\\_err\\_of\\_mean\\\\\n",
       "\\hline\n",
       "\tcontamination & 0 & 0.05 & 0.25 & 0.5097405 & 0.64 & 4.99 & 1.935 & 0.79\\\\\n",
       "\\end{tabular}\n"
      ],
      "text/markdown": [
       "\n",
       "A matrix: 1 × 8 of type dbl\n",
       "\n",
       "| <!--/--> | Min. | 1st Qu. | Median | Mean | 3rd Qu. | Max. | sd | sd_err_of_mean |\n",
       "|---|---|---|---|---|---|---|---|---|\n",
       "| contamination | 0 | 0.05 | 0.25 | 0.5097405 | 0.64 | 4.99 | 1.935 | 0.79 |\n",
       "\n"
      ],
      "text/plain": [
       "              Min. 1st Qu. Median Mean      3rd Qu. Max. sd    sd_err_of_mean\n",
       "contamination 0    0.05    0.25   0.5097405 0.64    4.99 1.935 0.79          "
      ]
     },
     "metadata": {},
     "output_type": "display_data"
    }
   ],
   "source": [
    "# checkM stats\n",
    "r95_meta_f$checkm_completeness %>% summary_x('completeness')\n",
    "r95_meta_f$checkm_contamination %>% summary_x('contamination')"
   ]
  },
  {
   "cell_type": "markdown",
   "metadata": {},
   "source": [
    "## MiMAG"
   ]
  },
  {
   "cell_type": "code",
   "execution_count": 9,
   "metadata": {
    "ExecuteTime": {
     "end_time": "2020-10-08T17:53:06.828631Z",
     "start_time": "2020-10-08T17:52:51.156Z"
    }
   },
   "outputs": [
    {
     "data": {
      "text/plain": [
       ".\n",
       "     f      t \n",
       " 69986 104858 "
      ]
     },
     "metadata": {},
     "output_type": "display_data"
    },
    {
     "data": {
      "text/plain": [
       ".\n",
       "     f      t \n",
       "104858  69986 "
      ]
     },
     "metadata": {},
     "output_type": "display_data"
    },
    {
     "data": {
      "text/plain": [
       ".\n",
       "     f \n",
       "174844 "
      ]
     },
     "metadata": {},
     "output_type": "display_data"
    }
   ],
   "source": [
    "r95_meta_f$mimag_high_quality %>% table\n",
    "r95_meta_f$mimag_medium_quality %>% table\n",
    "r95_meta_f$mimag_low_quality %>% table"
   ]
  },
  {
   "cell_type": "code",
   "execution_count": 10,
   "metadata": {
    "ExecuteTime": {
     "end_time": "2020-10-08T17:53:06.860076Z",
     "start_time": "2020-10-08T17:52:51.160Z"
    }
   },
   "outputs": [
    {
     "data": {
      "text/html": [
       "104858"
      ],
      "text/latex": [
       "104858"
      ],
      "text/markdown": [
       "104858"
      ],
      "text/plain": [
       "[1] 104858"
      ]
     },
     "metadata": {},
     "output_type": "display_data"
    }
   ],
   "source": [
    "r95_meta_f = r95_meta_f %>% \n",
    "    filter(mimag_high_quality == 't')\n",
    "r95_meta_f %>% nrow"
   ]
  },
  {
   "cell_type": "markdown",
   "metadata": {},
   "source": [
    "## NCBI assembly level"
   ]
  },
  {
   "cell_type": "code",
   "execution_count": 11,
   "metadata": {
    "ExecuteTime": {
     "end_time": "2020-10-08T17:53:06.881374Z",
     "start_time": "2020-10-08T17:52:51.164Z"
    }
   },
   "outputs": [
    {
     "data": {
      "text/plain": [
       ".\n",
       "     Chromosome Complete Genome          Contig            none        Scaffold \n",
       "           1816           12857           52246               3           37936 "
      ]
     },
     "metadata": {},
     "output_type": "display_data"
    }
   ],
   "source": [
    "r95_meta_f$ncbi_assembly_level %>% table"
   ]
  },
  {
   "cell_type": "code",
   "execution_count": 12,
   "metadata": {
    "ExecuteTime": {
     "end_time": "2020-10-08T17:53:06.940715Z",
     "start_time": "2020-10-08T17:52:51.170Z"
    }
   },
   "outputs": [
    {
     "data": {
      "text/html": [
       "<table>\n",
       "<caption>A data.table: 103579 × 27</caption>\n",
       "<thead>\n",
       "\t<tr><th scope=col>accession</th><th scope=col>checkm_completeness</th><th scope=col>checkm_contamination</th><th scope=col>Domain</th><th scope=col>Phylum</th><th scope=col>Class</th><th scope=col>Order</th><th scope=col>Family</th><th scope=col>Genus</th><th scope=col>Species</th><th scope=col>⋯</th><th scope=col>gc_percentage</th><th scope=col>contig_count</th><th scope=col>genome_size</th><th scope=col>mean_contig_length</th><th scope=col>scaffold_count</th><th scope=col>ssu_contig_len</th><th scope=col>ssu_count</th><th scope=col>mimag_high_quality</th><th scope=col>mimag_medium_quality</th><th scope=col>mimag_low_quality</th></tr>\n",
       "\t<tr><th scope=col>&lt;chr&gt;</th><th scope=col>&lt;dbl&gt;</th><th scope=col>&lt;dbl&gt;</th><th scope=col>&lt;chr&gt;</th><th scope=col>&lt;chr&gt;</th><th scope=col>&lt;chr&gt;</th><th scope=col>&lt;chr&gt;</th><th scope=col>&lt;chr&gt;</th><th scope=col>&lt;chr&gt;</th><th scope=col>&lt;chr&gt;</th><th scope=col>⋯</th><th scope=col>&lt;dbl&gt;</th><th scope=col>&lt;int&gt;</th><th scope=col>&lt;int&gt;</th><th scope=col>&lt;int&gt;</th><th scope=col>&lt;int&gt;</th><th scope=col>&lt;chr&gt;</th><th scope=col>&lt;int&gt;</th><th scope=col>&lt;chr&gt;</th><th scope=col>&lt;chr&gt;</th><th scope=col>&lt;chr&gt;</th></tr>\n",
       "</thead>\n",
       "<tbody>\n",
       "\t<tr><td>GB_GCA_000007385.1</td><td> 99.82</td><td>0</td><td>d__Bacteria</td><td>p__Proteobacteria</td><td>c__Gammaproteobacteria</td><td>o__Xanthomonadales</td><td>f__Xanthomonadaceae</td><td>g__Xanthomonas</td><td>s__Xanthomonas oryzae</td><td>⋯</td><td>63.69329</td><td>1</td><td>4941439</td><td>4941439</td><td>1</td><td>4941439</td><td>2</td><td>t</td><td>f</td><td>f</td></tr>\n",
       "\t<tr><td>GB_GCA_000008605.1</td><td>100.00</td><td>0</td><td>d__Bacteria</td><td>p__Spirochaetota </td><td>c__Spirochaetia       </td><td>o__Treponematales </td><td>f__Treponemataceae </td><td>g__Treponema  </td><td>s__Treponema pallidum</td><td>⋯</td><td>52.77518</td><td>1</td><td>1138011</td><td>1138011</td><td>1</td><td>1138011</td><td>2</td><td>t</td><td>f</td><td>f</td></tr>\n",
       "\t<tr><td>⋮</td><td>⋮</td><td>⋮</td><td>⋮</td><td>⋮</td><td>⋮</td><td>⋮</td><td>⋮</td><td>⋮</td><td>⋮</td><td>⋱</td><td>⋮</td><td>⋮</td><td>⋮</td><td>⋮</td><td>⋮</td><td>⋮</td><td>⋮</td><td>⋮</td><td>⋮</td><td>⋮</td></tr>\n",
       "\t<tr><td>GB_GCA_013329655.1</td><td>95.92</td><td>0</td><td>d__Archaea</td><td>p__Halobacteriota</td><td>c__Methanosarcinia</td><td>o__Methanosarcinales  </td><td>f__Methanosarcinaceae</td><td>g__Methanosarcina</td><td>s__Methanosarcina acetivorans </td><td>⋯</td><td>43.67908</td><td>348</td><td>4257361</td><td>12191</td><td>201</td><td>44973 </td><td>1</td><td>t</td><td>f</td><td>f</td></tr>\n",
       "\t<tr><td>GB_GCA_013330515.1</td><td>98.04</td><td>0</td><td>d__Archaea</td><td>p__Halobacteriota</td><td>c__Methanosarcinia</td><td>o__Methanosarcinales_A</td><td>f__Methermicoccaceae </td><td>g__Methermicoccus</td><td>s__Methermicoccus shengliensis</td><td>⋯</td><td>55.35460</td><td> 35</td><td>1369149</td><td>39023</td><td> 24</td><td>123890</td><td>1</td><td>t</td><td>f</td><td>f</td></tr>\n",
       "</tbody>\n",
       "</table>\n"
      ],
      "text/latex": [
       "A data.table: 103579 × 27\n",
       "\\begin{tabular}{lllllllllllllllllllll}\n",
       " accession & checkm\\_completeness & checkm\\_contamination & Domain & Phylum & Class & Order & Family & Genus & Species & ⋯ & gc\\_percentage & contig\\_count & genome\\_size & mean\\_contig\\_length & scaffold\\_count & ssu\\_contig\\_len & ssu\\_count & mimag\\_high\\_quality & mimag\\_medium\\_quality & mimag\\_low\\_quality\\\\\n",
       " <chr> & <dbl> & <dbl> & <chr> & <chr> & <chr> & <chr> & <chr> & <chr> & <chr> & ⋯ & <dbl> & <int> & <int> & <int> & <int> & <chr> & <int> & <chr> & <chr> & <chr>\\\\\n",
       "\\hline\n",
       "\t GB\\_GCA\\_000007385.1 &  99.82 & 0 & d\\_\\_Bacteria & p\\_\\_Proteobacteria & c\\_\\_Gammaproteobacteria & o\\_\\_Xanthomonadales & f\\_\\_Xanthomonadaceae & g\\_\\_Xanthomonas & s\\_\\_Xanthomonas oryzae & ⋯ & 63.69329 & 1 & 4941439 & 4941439 & 1 & 4941439 & 2 & t & f & f\\\\\n",
       "\t GB\\_GCA\\_000008605.1 & 100.00 & 0 & d\\_\\_Bacteria & p\\_\\_Spirochaetota  & c\\_\\_Spirochaetia        & o\\_\\_Treponematales  & f\\_\\_Treponemataceae  & g\\_\\_Treponema   & s\\_\\_Treponema pallidum & ⋯ & 52.77518 & 1 & 1138011 & 1138011 & 1 & 1138011 & 2 & t & f & f\\\\\n",
       "\t ⋮ & ⋮ & ⋮ & ⋮ & ⋮ & ⋮ & ⋮ & ⋮ & ⋮ & ⋮ & ⋱ & ⋮ & ⋮ & ⋮ & ⋮ & ⋮ & ⋮ & ⋮ & ⋮ & ⋮ & ⋮\\\\\n",
       "\t GB\\_GCA\\_013329655.1 & 95.92 & 0 & d\\_\\_Archaea & p\\_\\_Halobacteriota & c\\_\\_Methanosarcinia & o\\_\\_Methanosarcinales   & f\\_\\_Methanosarcinaceae & g\\_\\_Methanosarcina & s\\_\\_Methanosarcina acetivorans  & ⋯ & 43.67908 & 348 & 4257361 & 12191 & 201 & 44973  & 1 & t & f & f\\\\\n",
       "\t GB\\_GCA\\_013330515.1 & 98.04 & 0 & d\\_\\_Archaea & p\\_\\_Halobacteriota & c\\_\\_Methanosarcinia & o\\_\\_Methanosarcinales\\_A & f\\_\\_Methermicoccaceae  & g\\_\\_Methermicoccus & s\\_\\_Methermicoccus shengliensis & ⋯ & 55.35460 &  35 & 1369149 & 39023 &  24 & 123890 & 1 & t & f & f\\\\\n",
       "\\end{tabular}\n"
      ],
      "text/markdown": [
       "\n",
       "A data.table: 103579 × 27\n",
       "\n",
       "| accession &lt;chr&gt; | checkm_completeness &lt;dbl&gt; | checkm_contamination &lt;dbl&gt; | Domain &lt;chr&gt; | Phylum &lt;chr&gt; | Class &lt;chr&gt; | Order &lt;chr&gt; | Family &lt;chr&gt; | Genus &lt;chr&gt; | Species &lt;chr&gt; | ⋯ ⋯ | gc_percentage &lt;dbl&gt; | contig_count &lt;int&gt; | genome_size &lt;int&gt; | mean_contig_length &lt;int&gt; | scaffold_count &lt;int&gt; | ssu_contig_len &lt;chr&gt; | ssu_count &lt;int&gt; | mimag_high_quality &lt;chr&gt; | mimag_medium_quality &lt;chr&gt; | mimag_low_quality &lt;chr&gt; |\n",
       "|---|---|---|---|---|---|---|---|---|---|---|---|---|---|---|---|---|---|---|---|---|\n",
       "| GB_GCA_000007385.1 |  99.82 | 0 | d__Bacteria | p__Proteobacteria | c__Gammaproteobacteria | o__Xanthomonadales | f__Xanthomonadaceae | g__Xanthomonas | s__Xanthomonas oryzae | ⋯ | 63.69329 | 1 | 4941439 | 4941439 | 1 | 4941439 | 2 | t | f | f |\n",
       "| GB_GCA_000008605.1 | 100.00 | 0 | d__Bacteria | p__Spirochaetota  | c__Spirochaetia        | o__Treponematales  | f__Treponemataceae  | g__Treponema   | s__Treponema pallidum | ⋯ | 52.77518 | 1 | 1138011 | 1138011 | 1 | 1138011 | 2 | t | f | f |\n",
       "| ⋮ | ⋮ | ⋮ | ⋮ | ⋮ | ⋮ | ⋮ | ⋮ | ⋮ | ⋮ | ⋱ | ⋮ | ⋮ | ⋮ | ⋮ | ⋮ | ⋮ | ⋮ | ⋮ | ⋮ | ⋮ |\n",
       "| GB_GCA_013329655.1 | 95.92 | 0 | d__Archaea | p__Halobacteriota | c__Methanosarcinia | o__Methanosarcinales   | f__Methanosarcinaceae | g__Methanosarcina | s__Methanosarcina acetivorans  | ⋯ | 43.67908 | 348 | 4257361 | 12191 | 201 | 44973  | 1 | t | f | f |\n",
       "| GB_GCA_013330515.1 | 98.04 | 0 | d__Archaea | p__Halobacteriota | c__Methanosarcinia | o__Methanosarcinales_A | f__Methermicoccaceae  | g__Methermicoccus | s__Methermicoccus shengliensis | ⋯ | 55.35460 |  35 | 1369149 | 39023 |  24 | 123890 | 1 | t | f | f |\n",
       "\n"
      ],
      "text/plain": [
       "       accession          checkm_completeness checkm_contamination Domain     \n",
       "1      GB_GCA_000007385.1  99.82              0                    d__Bacteria\n",
       "2      GB_GCA_000008605.1 100.00              0                    d__Bacteria\n",
       "⋮      ⋮                  ⋮                   ⋮                    ⋮          \n",
       "103578 GB_GCA_013329655.1 95.92               0                    d__Archaea \n",
       "103579 GB_GCA_013330515.1 98.04               0                    d__Archaea \n",
       "       Phylum            Class                  Order                 \n",
       "1      p__Proteobacteria c__Gammaproteobacteria o__Xanthomonadales    \n",
       "2      p__Spirochaetota  c__Spirochaetia        o__Treponematales     \n",
       "⋮      ⋮                 ⋮                      ⋮                     \n",
       "103578 p__Halobacteriota c__Methanosarcinia     o__Methanosarcinales  \n",
       "103579 p__Halobacteriota c__Methanosarcinia     o__Methanosarcinales_A\n",
       "       Family                Genus             Species                        ⋯\n",
       "1      f__Xanthomonadaceae   g__Xanthomonas    s__Xanthomonas oryzae          ⋯\n",
       "2      f__Treponemataceae    g__Treponema      s__Treponema pallidum          ⋯\n",
       "⋮      ⋮                     ⋮                 ⋮                              ⋱\n",
       "103578 f__Methanosarcinaceae g__Methanosarcina s__Methanosarcina acetivorans  ⋯\n",
       "103579 f__Methermicoccaceae  g__Methermicoccus s__Methermicoccus shengliensis ⋯\n",
       "       gc_percentage contig_count genome_size mean_contig_length scaffold_count\n",
       "1      63.69329      1            4941439     4941439            1             \n",
       "2      52.77518      1            1138011     1138011            1             \n",
       "⋮      ⋮             ⋮            ⋮           ⋮                  ⋮             \n",
       "103578 43.67908      348          4257361     12191              201           \n",
       "103579 55.35460       35          1369149     39023               24           \n",
       "       ssu_contig_len ssu_count mimag_high_quality mimag_medium_quality\n",
       "1      4941439        2         t                  f                   \n",
       "2      1138011        2         t                  f                   \n",
       "⋮      ⋮              ⋮         ⋮                  ⋮                   \n",
       "103578 44973          1         t                  f                   \n",
       "103579 123890         1         t                  f                   \n",
       "       mimag_low_quality\n",
       "1      f                \n",
       "2      f                \n",
       "⋮      ⋮                \n",
       "103578 f                \n",
       "103579 f                "
      ]
     },
     "metadata": {},
     "output_type": "display_data"
    }
   ],
   "source": [
    "to_rm = c('derived from metagenome', 'derived from single cell')\n",
    "r95_meta_f = r95_meta_f %>%\n",
    "    filter(! ncbi_genome_category %in% to_rm)\n",
    "r95_meta_f"
   ]
  },
  {
   "cell_type": "markdown",
   "metadata": {},
   "source": [
    "## Assembly stats"
   ]
  },
  {
   "cell_type": "code",
   "execution_count": 13,
   "metadata": {
    "ExecuteTime": {
     "end_time": "2020-10-08T17:53:06.973722Z",
     "start_time": "2020-10-08T17:52:51.176Z"
    }
   },
   "outputs": [
    {
     "data": {
      "text/html": [
       "<table>\n",
       "<caption>A matrix: 1 × 8 of type dbl</caption>\n",
       "<thead>\n",
       "\t<tr><th></th><th scope=col>Min.</th><th scope=col>1st Qu.</th><th scope=col>Median</th><th scope=col>Mean</th><th scope=col>3rd Qu.</th><th scope=col>Max.</th><th scope=col>sd</th><th scope=col>sd_err_of_mean</th></tr>\n",
       "</thead>\n",
       "<tbody>\n",
       "\t<tr><th scope=row>%GC</th><td>20.20008</td><td>39.56499</td><td>50.64056</td><td>49.92865</td><td>57.99658</td><td>77.01919</td><td>18.909</td><td>7.719</td></tr>\n",
       "</tbody>\n",
       "</table>\n"
      ],
      "text/latex": [
       "A matrix: 1 × 8 of type dbl\n",
       "\\begin{tabular}{r|llllllll}\n",
       "  & Min. & 1st Qu. & Median & Mean & 3rd Qu. & Max. & sd & sd\\_err\\_of\\_mean\\\\\n",
       "\\hline\n",
       "\t\\%GC & 20.20008 & 39.56499 & 50.64056 & 49.92865 & 57.99658 & 77.01919 & 18.909 & 7.719\\\\\n",
       "\\end{tabular}\n"
      ],
      "text/markdown": [
       "\n",
       "A matrix: 1 × 8 of type dbl\n",
       "\n",
       "| <!--/--> | Min. | 1st Qu. | Median | Mean | 3rd Qu. | Max. | sd | sd_err_of_mean |\n",
       "|---|---|---|---|---|---|---|---|---|\n",
       "| %GC | 20.20008 | 39.56499 | 50.64056 | 49.92865 | 57.99658 | 77.01919 | 18.909 | 7.719 |\n",
       "\n"
      ],
      "text/plain": [
       "    Min.     1st Qu.  Median   Mean     3rd Qu.  Max.     sd     sd_err_of_mean\n",
       "%GC 20.20008 39.56499 50.64056 49.92865 57.99658 77.01919 18.909 7.719         "
      ]
     },
     "metadata": {},
     "output_type": "display_data"
    }
   ],
   "source": [
    "r95_meta_f$gc_percentage %>% summary_x('%GC')"
   ]
  },
  {
   "cell_type": "code",
   "execution_count": 14,
   "metadata": {
    "ExecuteTime": {
     "end_time": "2020-10-08T17:53:07.074081Z",
     "start_time": "2020-10-08T17:52:51.183Z"
    }
   },
   "outputs": [
    {
     "data": {
      "text/html": [
       "<table>\n",
       "<caption>A matrix: 1 × 8 of type dbl</caption>\n",
       "<thead>\n",
       "\t<tr><th></th><th scope=col>Min.</th><th scope=col>1st Qu.</th><th scope=col>Median</th><th scope=col>Mean</th><th scope=col>3rd Qu.</th><th scope=col>Max.</th><th scope=col>sd</th><th scope=col>sd_err_of_mean</th></tr>\n",
       "</thead>\n",
       "<tbody>\n",
       "\t<tr><th scope=row>No. of contigs</th><td>1</td><td>22</td><td>63</td><td>100.9689</td><td>129</td><td>2243</td><td>891.174</td><td>363.82</td></tr>\n",
       "</tbody>\n",
       "</table>\n"
      ],
      "text/latex": [
       "A matrix: 1 × 8 of type dbl\n",
       "\\begin{tabular}{r|llllllll}\n",
       "  & Min. & 1st Qu. & Median & Mean & 3rd Qu. & Max. & sd & sd\\_err\\_of\\_mean\\\\\n",
       "\\hline\n",
       "\tNo. of contigs & 1 & 22 & 63 & 100.9689 & 129 & 2243 & 891.174 & 363.82\\\\\n",
       "\\end{tabular}\n"
      ],
      "text/markdown": [
       "\n",
       "A matrix: 1 × 8 of type dbl\n",
       "\n",
       "| <!--/--> | Min. | 1st Qu. | Median | Mean | 3rd Qu. | Max. | sd | sd_err_of_mean |\n",
       "|---|---|---|---|---|---|---|---|---|\n",
       "| No. of contigs | 1 | 22 | 63 | 100.9689 | 129 | 2243 | 891.174 | 363.82 |\n",
       "\n"
      ],
      "text/plain": [
       "               Min. 1st Qu. Median Mean     3rd Qu. Max. sd      sd_err_of_mean\n",
       "No. of contigs 1    22      63     100.9689 129     2243 891.174 363.82        "
      ]
     },
     "metadata": {},
     "output_type": "display_data"
    },
    {
     "data": {
      "text/html": [
       "<table>\n",
       "<caption>A matrix: 1 × 8 of type dbl</caption>\n",
       "<thead>\n",
       "\t<tr><th></th><th scope=col>Min.</th><th scope=col>1st Qu.</th><th scope=col>Median</th><th scope=col>Mean</th><th scope=col>3rd Qu.</th><th scope=col>Max.</th><th scope=col>sd</th><th scope=col>sd_err_of_mean</th></tr>\n",
       "</thead>\n",
       "<tbody>\n",
       "\t<tr><th scope=row>No. of contigs</th><td>1</td><td>22</td><td>62</td><td>89.98118</td><td>123</td><td>500</td><td>185.162</td><td>75.592</td></tr>\n",
       "</tbody>\n",
       "</table>\n"
      ],
      "text/latex": [
       "A matrix: 1 × 8 of type dbl\n",
       "\\begin{tabular}{r|llllllll}\n",
       "  & Min. & 1st Qu. & Median & Mean & 3rd Qu. & Max. & sd & sd\\_err\\_of\\_mean\\\\\n",
       "\\hline\n",
       "\tNo. of contigs & 1 & 22 & 62 & 89.98118 & 123 & 500 & 185.162 & 75.592\\\\\n",
       "\\end{tabular}\n"
      ],
      "text/markdown": [
       "\n",
       "A matrix: 1 × 8 of type dbl\n",
       "\n",
       "| <!--/--> | Min. | 1st Qu. | Median | Mean | 3rd Qu. | Max. | sd | sd_err_of_mean |\n",
       "|---|---|---|---|---|---|---|---|---|\n",
       "| No. of contigs | 1 | 22 | 62 | 89.98118 | 123 | 500 | 185.162 | 75.592 |\n",
       "\n"
      ],
      "text/plain": [
       "               Min. 1st Qu. Median Mean     3rd Qu. Max. sd      sd_err_of_mean\n",
       "No. of contigs 1    22      62     89.98118 123     500  185.162 75.592        "
      ]
     },
     "metadata": {},
     "output_type": "display_data"
    },
    {
     "data": {
      "text/html": [
       "<table>\n",
       "<caption>A data.table: 101659 × 27</caption>\n",
       "<thead>\n",
       "\t<tr><th scope=col>accession</th><th scope=col>checkm_completeness</th><th scope=col>checkm_contamination</th><th scope=col>Domain</th><th scope=col>Phylum</th><th scope=col>Class</th><th scope=col>Order</th><th scope=col>Family</th><th scope=col>Genus</th><th scope=col>Species</th><th scope=col>⋯</th><th scope=col>gc_percentage</th><th scope=col>contig_count</th><th scope=col>genome_size</th><th scope=col>mean_contig_length</th><th scope=col>scaffold_count</th><th scope=col>ssu_contig_len</th><th scope=col>ssu_count</th><th scope=col>mimag_high_quality</th><th scope=col>mimag_medium_quality</th><th scope=col>mimag_low_quality</th></tr>\n",
       "\t<tr><th scope=col>&lt;chr&gt;</th><th scope=col>&lt;dbl&gt;</th><th scope=col>&lt;dbl&gt;</th><th scope=col>&lt;chr&gt;</th><th scope=col>&lt;chr&gt;</th><th scope=col>&lt;chr&gt;</th><th scope=col>&lt;chr&gt;</th><th scope=col>&lt;chr&gt;</th><th scope=col>&lt;chr&gt;</th><th scope=col>&lt;chr&gt;</th><th scope=col>⋯</th><th scope=col>&lt;dbl&gt;</th><th scope=col>&lt;int&gt;</th><th scope=col>&lt;int&gt;</th><th scope=col>&lt;int&gt;</th><th scope=col>&lt;int&gt;</th><th scope=col>&lt;chr&gt;</th><th scope=col>&lt;int&gt;</th><th scope=col>&lt;chr&gt;</th><th scope=col>&lt;chr&gt;</th><th scope=col>&lt;chr&gt;</th></tr>\n",
       "</thead>\n",
       "<tbody>\n",
       "\t<tr><td>GB_GCA_000007385.1</td><td> 99.82</td><td>0</td><td>d__Bacteria</td><td>p__Proteobacteria</td><td>c__Gammaproteobacteria</td><td>o__Xanthomonadales</td><td>f__Xanthomonadaceae</td><td>g__Xanthomonas</td><td>s__Xanthomonas oryzae</td><td>⋯</td><td>63.69329</td><td>1</td><td>4941439</td><td>4941439</td><td>1</td><td>4941439</td><td>2</td><td>t</td><td>f</td><td>f</td></tr>\n",
       "\t<tr><td>GB_GCA_000008605.1</td><td>100.00</td><td>0</td><td>d__Bacteria</td><td>p__Spirochaetota </td><td>c__Spirochaetia       </td><td>o__Treponematales </td><td>f__Treponemataceae </td><td>g__Treponema  </td><td>s__Treponema pallidum</td><td>⋯</td><td>52.77518</td><td>1</td><td>1138011</td><td>1138011</td><td>1</td><td>1138011</td><td>2</td><td>t</td><td>f</td><td>f</td></tr>\n",
       "\t<tr><td>⋮</td><td>⋮</td><td>⋮</td><td>⋮</td><td>⋮</td><td>⋮</td><td>⋮</td><td>⋮</td><td>⋮</td><td>⋮</td><td>⋱</td><td>⋮</td><td>⋮</td><td>⋮</td><td>⋮</td><td>⋮</td><td>⋮</td><td>⋮</td><td>⋮</td><td>⋮</td><td>⋮</td></tr>\n",
       "\t<tr><td>GB_GCA_013329655.1</td><td>95.92</td><td>0</td><td>d__Archaea</td><td>p__Halobacteriota</td><td>c__Methanosarcinia</td><td>o__Methanosarcinales  </td><td>f__Methanosarcinaceae</td><td>g__Methanosarcina</td><td>s__Methanosarcina acetivorans </td><td>⋯</td><td>43.67908</td><td>348</td><td>4257361</td><td>12191</td><td>201</td><td>44973 </td><td>1</td><td>t</td><td>f</td><td>f</td></tr>\n",
       "\t<tr><td>GB_GCA_013330515.1</td><td>98.04</td><td>0</td><td>d__Archaea</td><td>p__Halobacteriota</td><td>c__Methanosarcinia</td><td>o__Methanosarcinales_A</td><td>f__Methermicoccaceae </td><td>g__Methermicoccus</td><td>s__Methermicoccus shengliensis</td><td>⋯</td><td>55.35460</td><td> 35</td><td>1369149</td><td>39023</td><td> 24</td><td>123890</td><td>1</td><td>t</td><td>f</td><td>f</td></tr>\n",
       "</tbody>\n",
       "</table>\n"
      ],
      "text/latex": [
       "A data.table: 101659 × 27\n",
       "\\begin{tabular}{lllllllllllllllllllll}\n",
       " accession & checkm\\_completeness & checkm\\_contamination & Domain & Phylum & Class & Order & Family & Genus & Species & ⋯ & gc\\_percentage & contig\\_count & genome\\_size & mean\\_contig\\_length & scaffold\\_count & ssu\\_contig\\_len & ssu\\_count & mimag\\_high\\_quality & mimag\\_medium\\_quality & mimag\\_low\\_quality\\\\\n",
       " <chr> & <dbl> & <dbl> & <chr> & <chr> & <chr> & <chr> & <chr> & <chr> & <chr> & ⋯ & <dbl> & <int> & <int> & <int> & <int> & <chr> & <int> & <chr> & <chr> & <chr>\\\\\n",
       "\\hline\n",
       "\t GB\\_GCA\\_000007385.1 &  99.82 & 0 & d\\_\\_Bacteria & p\\_\\_Proteobacteria & c\\_\\_Gammaproteobacteria & o\\_\\_Xanthomonadales & f\\_\\_Xanthomonadaceae & g\\_\\_Xanthomonas & s\\_\\_Xanthomonas oryzae & ⋯ & 63.69329 & 1 & 4941439 & 4941439 & 1 & 4941439 & 2 & t & f & f\\\\\n",
       "\t GB\\_GCA\\_000008605.1 & 100.00 & 0 & d\\_\\_Bacteria & p\\_\\_Spirochaetota  & c\\_\\_Spirochaetia        & o\\_\\_Treponematales  & f\\_\\_Treponemataceae  & g\\_\\_Treponema   & s\\_\\_Treponema pallidum & ⋯ & 52.77518 & 1 & 1138011 & 1138011 & 1 & 1138011 & 2 & t & f & f\\\\\n",
       "\t ⋮ & ⋮ & ⋮ & ⋮ & ⋮ & ⋮ & ⋮ & ⋮ & ⋮ & ⋮ & ⋱ & ⋮ & ⋮ & ⋮ & ⋮ & ⋮ & ⋮ & ⋮ & ⋮ & ⋮ & ⋮\\\\\n",
       "\t GB\\_GCA\\_013329655.1 & 95.92 & 0 & d\\_\\_Archaea & p\\_\\_Halobacteriota & c\\_\\_Methanosarcinia & o\\_\\_Methanosarcinales   & f\\_\\_Methanosarcinaceae & g\\_\\_Methanosarcina & s\\_\\_Methanosarcina acetivorans  & ⋯ & 43.67908 & 348 & 4257361 & 12191 & 201 & 44973  & 1 & t & f & f\\\\\n",
       "\t GB\\_GCA\\_013330515.1 & 98.04 & 0 & d\\_\\_Archaea & p\\_\\_Halobacteriota & c\\_\\_Methanosarcinia & o\\_\\_Methanosarcinales\\_A & f\\_\\_Methermicoccaceae  & g\\_\\_Methermicoccus & s\\_\\_Methermicoccus shengliensis & ⋯ & 55.35460 &  35 & 1369149 & 39023 &  24 & 123890 & 1 & t & f & f\\\\\n",
       "\\end{tabular}\n"
      ],
      "text/markdown": [
       "\n",
       "A data.table: 101659 × 27\n",
       "\n",
       "| accession &lt;chr&gt; | checkm_completeness &lt;dbl&gt; | checkm_contamination &lt;dbl&gt; | Domain &lt;chr&gt; | Phylum &lt;chr&gt; | Class &lt;chr&gt; | Order &lt;chr&gt; | Family &lt;chr&gt; | Genus &lt;chr&gt; | Species &lt;chr&gt; | ⋯ ⋯ | gc_percentage &lt;dbl&gt; | contig_count &lt;int&gt; | genome_size &lt;int&gt; | mean_contig_length &lt;int&gt; | scaffold_count &lt;int&gt; | ssu_contig_len &lt;chr&gt; | ssu_count &lt;int&gt; | mimag_high_quality &lt;chr&gt; | mimag_medium_quality &lt;chr&gt; | mimag_low_quality &lt;chr&gt; |\n",
       "|---|---|---|---|---|---|---|---|---|---|---|---|---|---|---|---|---|---|---|---|---|\n",
       "| GB_GCA_000007385.1 |  99.82 | 0 | d__Bacteria | p__Proteobacteria | c__Gammaproteobacteria | o__Xanthomonadales | f__Xanthomonadaceae | g__Xanthomonas | s__Xanthomonas oryzae | ⋯ | 63.69329 | 1 | 4941439 | 4941439 | 1 | 4941439 | 2 | t | f | f |\n",
       "| GB_GCA_000008605.1 | 100.00 | 0 | d__Bacteria | p__Spirochaetota  | c__Spirochaetia        | o__Treponematales  | f__Treponemataceae  | g__Treponema   | s__Treponema pallidum | ⋯ | 52.77518 | 1 | 1138011 | 1138011 | 1 | 1138011 | 2 | t | f | f |\n",
       "| ⋮ | ⋮ | ⋮ | ⋮ | ⋮ | ⋮ | ⋮ | ⋮ | ⋮ | ⋮ | ⋱ | ⋮ | ⋮ | ⋮ | ⋮ | ⋮ | ⋮ | ⋮ | ⋮ | ⋮ | ⋮ |\n",
       "| GB_GCA_013329655.1 | 95.92 | 0 | d__Archaea | p__Halobacteriota | c__Methanosarcinia | o__Methanosarcinales   | f__Methanosarcinaceae | g__Methanosarcina | s__Methanosarcina acetivorans  | ⋯ | 43.67908 | 348 | 4257361 | 12191 | 201 | 44973  | 1 | t | f | f |\n",
       "| GB_GCA_013330515.1 | 98.04 | 0 | d__Archaea | p__Halobacteriota | c__Methanosarcinia | o__Methanosarcinales_A | f__Methermicoccaceae  | g__Methermicoccus | s__Methermicoccus shengliensis | ⋯ | 55.35460 |  35 | 1369149 | 39023 |  24 | 123890 | 1 | t | f | f |\n",
       "\n"
      ],
      "text/plain": [
       "       accession          checkm_completeness checkm_contamination Domain     \n",
       "1      GB_GCA_000007385.1  99.82              0                    d__Bacteria\n",
       "2      GB_GCA_000008605.1 100.00              0                    d__Bacteria\n",
       "⋮      ⋮                  ⋮                   ⋮                    ⋮          \n",
       "101658 GB_GCA_013329655.1 95.92               0                    d__Archaea \n",
       "101659 GB_GCA_013330515.1 98.04               0                    d__Archaea \n",
       "       Phylum            Class                  Order                 \n",
       "1      p__Proteobacteria c__Gammaproteobacteria o__Xanthomonadales    \n",
       "2      p__Spirochaetota  c__Spirochaetia        o__Treponematales     \n",
       "⋮      ⋮                 ⋮                      ⋮                     \n",
       "101658 p__Halobacteriota c__Methanosarcinia     o__Methanosarcinales  \n",
       "101659 p__Halobacteriota c__Methanosarcinia     o__Methanosarcinales_A\n",
       "       Family                Genus             Species                        ⋯\n",
       "1      f__Xanthomonadaceae   g__Xanthomonas    s__Xanthomonas oryzae          ⋯\n",
       "2      f__Treponemataceae    g__Treponema      s__Treponema pallidum          ⋯\n",
       "⋮      ⋮                     ⋮                 ⋮                              ⋱\n",
       "101658 f__Methanosarcinaceae g__Methanosarcina s__Methanosarcina acetivorans  ⋯\n",
       "101659 f__Methermicoccaceae  g__Methermicoccus s__Methermicoccus shengliensis ⋯\n",
       "       gc_percentage contig_count genome_size mean_contig_length scaffold_count\n",
       "1      63.69329      1            4941439     4941439            1             \n",
       "2      52.77518      1            1138011     1138011            1             \n",
       "⋮      ⋮             ⋮            ⋮           ⋮                  ⋮             \n",
       "101658 43.67908      348          4257361     12191              201           \n",
       "101659 55.35460       35          1369149     39023               24           \n",
       "       ssu_contig_len ssu_count mimag_high_quality mimag_medium_quality\n",
       "1      4941439        2         t                  f                   \n",
       "2      1138011        2         t                  f                   \n",
       "⋮      ⋮              ⋮         ⋮                  ⋮                   \n",
       "101658 44973          1         t                  f                   \n",
       "101659 123890         1         t                  f                   \n",
       "       mimag_low_quality\n",
       "1      f                \n",
       "2      f                \n",
       "⋮      ⋮                \n",
       "101658 f                \n",
       "101659 f                "
      ]
     },
     "metadata": {},
     "output_type": "display_data"
    }
   ],
   "source": [
    "# contig count\n",
    "r95_meta_f$contig_count %>% summary_x('No. of contigs')\n",
    "r95_meta_f = r95_meta_f %>%\n",
    "    filter(contig_count <= 500) \n",
    "\n",
    "r95_meta_f$contig_count %>% summary_x('No. of contigs')\n",
    "r95_meta_f"
   ]
  },
  {
   "cell_type": "code",
   "execution_count": 15,
   "metadata": {
    "ExecuteTime": {
     "end_time": "2020-10-08T17:53:07.352774Z",
     "start_time": "2020-10-08T17:52:51.190Z"
    }
   },
   "outputs": [
    {
     "data": {
      "text/html": [
       "<table>\n",
       "<caption>A matrix: 1 × 8 of type dbl</caption>\n",
       "<thead>\n",
       "\t<tr><th></th><th scope=col>Min.</th><th scope=col>1st Qu.</th><th scope=col>Median</th><th scope=col>Mean</th><th scope=col>3rd Qu.</th><th scope=col>Max.</th><th scope=col>sd</th><th scope=col>sd_err_of_mean</th></tr>\n",
       "</thead>\n",
       "<tbody>\n",
       "\t<tr><th scope=row>Genome size (bp)</th><td>419293</td><td>2671666</td><td>4522840</td><td>4242274</td><td>5339706</td><td>68003531</td><td>26415673</td><td>10784153</td></tr>\n",
       "</tbody>\n",
       "</table>\n"
      ],
      "text/latex": [
       "A matrix: 1 × 8 of type dbl\n",
       "\\begin{tabular}{r|llllllll}\n",
       "  & Min. & 1st Qu. & Median & Mean & 3rd Qu. & Max. & sd & sd\\_err\\_of\\_mean\\\\\n",
       "\\hline\n",
       "\tGenome size (bp) & 419293 & 2671666 & 4522840 & 4242274 & 5339706 & 68003531 & 26415673 & 10784153\\\\\n",
       "\\end{tabular}\n"
      ],
      "text/markdown": [
       "\n",
       "A matrix: 1 × 8 of type dbl\n",
       "\n",
       "| <!--/--> | Min. | 1st Qu. | Median | Mean | 3rd Qu. | Max. | sd | sd_err_of_mean |\n",
       "|---|---|---|---|---|---|---|---|---|\n",
       "| Genome size (bp) | 419293 | 2671666 | 4522840 | 4242274 | 5339706 | 68003531 | 26415673 | 10784153 |\n",
       "\n"
      ],
      "text/plain": [
       "                 Min.   1st Qu. Median  Mean    3rd Qu. Max.     sd      \n",
       "Genome size (bp) 419293 2671666 4522840 4242274 5339706 68003531 26415673\n",
       "                 sd_err_of_mean\n",
       "Genome size (bp) 10784153      "
      ]
     },
     "metadata": {},
     "output_type": "display_data"
    },
    {
     "data": {
      "text/html": [
       "<table>\n",
       "<caption>A matrix: 1 × 8 of type dbl</caption>\n",
       "<thead>\n",
       "\t<tr><th></th><th scope=col>Min.</th><th scope=col>1st Qu.</th><th scope=col>Median</th><th scope=col>Mean</th><th scope=col>3rd Qu.</th><th scope=col>Max.</th><th scope=col>sd</th><th scope=col>sd_err_of_mean</th></tr>\n",
       "</thead>\n",
       "<tbody>\n",
       "\t<tr><th scope=row>Genome size (bp)</th><td>419293</td><td>2671528</td><td>4522715</td><td>4240752</td><td>5339644</td><td>13559781</td><td>4483290</td><td>1830295</td></tr>\n",
       "</tbody>\n",
       "</table>\n"
      ],
      "text/latex": [
       "A matrix: 1 × 8 of type dbl\n",
       "\\begin{tabular}{r|llllllll}\n",
       "  & Min. & 1st Qu. & Median & Mean & 3rd Qu. & Max. & sd & sd\\_err\\_of\\_mean\\\\\n",
       "\\hline\n",
       "\tGenome size (bp) & 419293 & 2671528 & 4522715 & 4240752 & 5339644 & 13559781 & 4483290 & 1830295\\\\\n",
       "\\end{tabular}\n"
      ],
      "text/markdown": [
       "\n",
       "A matrix: 1 × 8 of type dbl\n",
       "\n",
       "| <!--/--> | Min. | 1st Qu. | Median | Mean | 3rd Qu. | Max. | sd | sd_err_of_mean |\n",
       "|---|---|---|---|---|---|---|---|---|\n",
       "| Genome size (bp) | 419293 | 2671528 | 4522715 | 4240752 | 5339644 | 13559781 | 4483290 | 1830295 |\n",
       "\n"
      ],
      "text/plain": [
       "                 Min.   1st Qu. Median  Mean    3rd Qu. Max.     sd     \n",
       "Genome size (bp) 419293 2671528 4522715 4240752 5339644 13559781 4483290\n",
       "                 sd_err_of_mean\n",
       "Genome size (bp) 1830295       "
      ]
     },
     "metadata": {},
     "output_type": "display_data"
    },
    {
     "data": {
      "text/html": [
       "<table>\n",
       "<caption>A data.table: 101655 × 27</caption>\n",
       "<thead>\n",
       "\t<tr><th scope=col>accession</th><th scope=col>checkm_completeness</th><th scope=col>checkm_contamination</th><th scope=col>Domain</th><th scope=col>Phylum</th><th scope=col>Class</th><th scope=col>Order</th><th scope=col>Family</th><th scope=col>Genus</th><th scope=col>Species</th><th scope=col>⋯</th><th scope=col>gc_percentage</th><th scope=col>contig_count</th><th scope=col>genome_size</th><th scope=col>mean_contig_length</th><th scope=col>scaffold_count</th><th scope=col>ssu_contig_len</th><th scope=col>ssu_count</th><th scope=col>mimag_high_quality</th><th scope=col>mimag_medium_quality</th><th scope=col>mimag_low_quality</th></tr>\n",
       "\t<tr><th scope=col>&lt;chr&gt;</th><th scope=col>&lt;dbl&gt;</th><th scope=col>&lt;dbl&gt;</th><th scope=col>&lt;chr&gt;</th><th scope=col>&lt;chr&gt;</th><th scope=col>&lt;chr&gt;</th><th scope=col>&lt;chr&gt;</th><th scope=col>&lt;chr&gt;</th><th scope=col>&lt;chr&gt;</th><th scope=col>&lt;chr&gt;</th><th scope=col>⋯</th><th scope=col>&lt;dbl&gt;</th><th scope=col>&lt;int&gt;</th><th scope=col>&lt;int&gt;</th><th scope=col>&lt;int&gt;</th><th scope=col>&lt;int&gt;</th><th scope=col>&lt;chr&gt;</th><th scope=col>&lt;int&gt;</th><th scope=col>&lt;chr&gt;</th><th scope=col>&lt;chr&gt;</th><th scope=col>&lt;chr&gt;</th></tr>\n",
       "</thead>\n",
       "<tbody>\n",
       "\t<tr><td>GB_GCA_000007385.1</td><td> 99.82</td><td>0</td><td>d__Bacteria</td><td>p__Proteobacteria</td><td>c__Gammaproteobacteria</td><td>o__Xanthomonadales</td><td>f__Xanthomonadaceae</td><td>g__Xanthomonas</td><td>s__Xanthomonas oryzae</td><td>⋯</td><td>63.69329</td><td>1</td><td>4941439</td><td>4941439</td><td>1</td><td>4941439</td><td>2</td><td>t</td><td>f</td><td>f</td></tr>\n",
       "\t<tr><td>GB_GCA_000008605.1</td><td>100.00</td><td>0</td><td>d__Bacteria</td><td>p__Spirochaetota </td><td>c__Spirochaetia       </td><td>o__Treponematales </td><td>f__Treponemataceae </td><td>g__Treponema  </td><td>s__Treponema pallidum</td><td>⋯</td><td>52.77518</td><td>1</td><td>1138011</td><td>1138011</td><td>1</td><td>1138011</td><td>2</td><td>t</td><td>f</td><td>f</td></tr>\n",
       "\t<tr><td>⋮</td><td>⋮</td><td>⋮</td><td>⋮</td><td>⋮</td><td>⋮</td><td>⋮</td><td>⋮</td><td>⋮</td><td>⋮</td><td>⋱</td><td>⋮</td><td>⋮</td><td>⋮</td><td>⋮</td><td>⋮</td><td>⋮</td><td>⋮</td><td>⋮</td><td>⋮</td><td>⋮</td></tr>\n",
       "\t<tr><td>GB_GCA_013329655.1</td><td>95.92</td><td>0</td><td>d__Archaea</td><td>p__Halobacteriota</td><td>c__Methanosarcinia</td><td>o__Methanosarcinales  </td><td>f__Methanosarcinaceae</td><td>g__Methanosarcina</td><td>s__Methanosarcina acetivorans </td><td>⋯</td><td>43.67908</td><td>348</td><td>4257361</td><td>12191</td><td>201</td><td>44973 </td><td>1</td><td>t</td><td>f</td><td>f</td></tr>\n",
       "\t<tr><td>GB_GCA_013330515.1</td><td>98.04</td><td>0</td><td>d__Archaea</td><td>p__Halobacteriota</td><td>c__Methanosarcinia</td><td>o__Methanosarcinales_A</td><td>f__Methermicoccaceae </td><td>g__Methermicoccus</td><td>s__Methermicoccus shengliensis</td><td>⋯</td><td>55.35460</td><td> 35</td><td>1369149</td><td>39023</td><td> 24</td><td>123890</td><td>1</td><td>t</td><td>f</td><td>f</td></tr>\n",
       "</tbody>\n",
       "</table>\n"
      ],
      "text/latex": [
       "A data.table: 101655 × 27\n",
       "\\begin{tabular}{lllllllllllllllllllll}\n",
       " accession & checkm\\_completeness & checkm\\_contamination & Domain & Phylum & Class & Order & Family & Genus & Species & ⋯ & gc\\_percentage & contig\\_count & genome\\_size & mean\\_contig\\_length & scaffold\\_count & ssu\\_contig\\_len & ssu\\_count & mimag\\_high\\_quality & mimag\\_medium\\_quality & mimag\\_low\\_quality\\\\\n",
       " <chr> & <dbl> & <dbl> & <chr> & <chr> & <chr> & <chr> & <chr> & <chr> & <chr> & ⋯ & <dbl> & <int> & <int> & <int> & <int> & <chr> & <int> & <chr> & <chr> & <chr>\\\\\n",
       "\\hline\n",
       "\t GB\\_GCA\\_000007385.1 &  99.82 & 0 & d\\_\\_Bacteria & p\\_\\_Proteobacteria & c\\_\\_Gammaproteobacteria & o\\_\\_Xanthomonadales & f\\_\\_Xanthomonadaceae & g\\_\\_Xanthomonas & s\\_\\_Xanthomonas oryzae & ⋯ & 63.69329 & 1 & 4941439 & 4941439 & 1 & 4941439 & 2 & t & f & f\\\\\n",
       "\t GB\\_GCA\\_000008605.1 & 100.00 & 0 & d\\_\\_Bacteria & p\\_\\_Spirochaetota  & c\\_\\_Spirochaetia        & o\\_\\_Treponematales  & f\\_\\_Treponemataceae  & g\\_\\_Treponema   & s\\_\\_Treponema pallidum & ⋯ & 52.77518 & 1 & 1138011 & 1138011 & 1 & 1138011 & 2 & t & f & f\\\\\n",
       "\t ⋮ & ⋮ & ⋮ & ⋮ & ⋮ & ⋮ & ⋮ & ⋮ & ⋮ & ⋮ & ⋱ & ⋮ & ⋮ & ⋮ & ⋮ & ⋮ & ⋮ & ⋮ & ⋮ & ⋮ & ⋮\\\\\n",
       "\t GB\\_GCA\\_013329655.1 & 95.92 & 0 & d\\_\\_Archaea & p\\_\\_Halobacteriota & c\\_\\_Methanosarcinia & o\\_\\_Methanosarcinales   & f\\_\\_Methanosarcinaceae & g\\_\\_Methanosarcina & s\\_\\_Methanosarcina acetivorans  & ⋯ & 43.67908 & 348 & 4257361 & 12191 & 201 & 44973  & 1 & t & f & f\\\\\n",
       "\t GB\\_GCA\\_013330515.1 & 98.04 & 0 & d\\_\\_Archaea & p\\_\\_Halobacteriota & c\\_\\_Methanosarcinia & o\\_\\_Methanosarcinales\\_A & f\\_\\_Methermicoccaceae  & g\\_\\_Methermicoccus & s\\_\\_Methermicoccus shengliensis & ⋯ & 55.35460 &  35 & 1369149 & 39023 &  24 & 123890 & 1 & t & f & f\\\\\n",
       "\\end{tabular}\n"
      ],
      "text/markdown": [
       "\n",
       "A data.table: 101655 × 27\n",
       "\n",
       "| accession &lt;chr&gt; | checkm_completeness &lt;dbl&gt; | checkm_contamination &lt;dbl&gt; | Domain &lt;chr&gt; | Phylum &lt;chr&gt; | Class &lt;chr&gt; | Order &lt;chr&gt; | Family &lt;chr&gt; | Genus &lt;chr&gt; | Species &lt;chr&gt; | ⋯ ⋯ | gc_percentage &lt;dbl&gt; | contig_count &lt;int&gt; | genome_size &lt;int&gt; | mean_contig_length &lt;int&gt; | scaffold_count &lt;int&gt; | ssu_contig_len &lt;chr&gt; | ssu_count &lt;int&gt; | mimag_high_quality &lt;chr&gt; | mimag_medium_quality &lt;chr&gt; | mimag_low_quality &lt;chr&gt; |\n",
       "|---|---|---|---|---|---|---|---|---|---|---|---|---|---|---|---|---|---|---|---|---|\n",
       "| GB_GCA_000007385.1 |  99.82 | 0 | d__Bacteria | p__Proteobacteria | c__Gammaproteobacteria | o__Xanthomonadales | f__Xanthomonadaceae | g__Xanthomonas | s__Xanthomonas oryzae | ⋯ | 63.69329 | 1 | 4941439 | 4941439 | 1 | 4941439 | 2 | t | f | f |\n",
       "| GB_GCA_000008605.1 | 100.00 | 0 | d__Bacteria | p__Spirochaetota  | c__Spirochaetia        | o__Treponematales  | f__Treponemataceae  | g__Treponema   | s__Treponema pallidum | ⋯ | 52.77518 | 1 | 1138011 | 1138011 | 1 | 1138011 | 2 | t | f | f |\n",
       "| ⋮ | ⋮ | ⋮ | ⋮ | ⋮ | ⋮ | ⋮ | ⋮ | ⋮ | ⋮ | ⋱ | ⋮ | ⋮ | ⋮ | ⋮ | ⋮ | ⋮ | ⋮ | ⋮ | ⋮ | ⋮ |\n",
       "| GB_GCA_013329655.1 | 95.92 | 0 | d__Archaea | p__Halobacteriota | c__Methanosarcinia | o__Methanosarcinales   | f__Methanosarcinaceae | g__Methanosarcina | s__Methanosarcina acetivorans  | ⋯ | 43.67908 | 348 | 4257361 | 12191 | 201 | 44973  | 1 | t | f | f |\n",
       "| GB_GCA_013330515.1 | 98.04 | 0 | d__Archaea | p__Halobacteriota | c__Methanosarcinia | o__Methanosarcinales_A | f__Methermicoccaceae  | g__Methermicoccus | s__Methermicoccus shengliensis | ⋯ | 55.35460 |  35 | 1369149 | 39023 |  24 | 123890 | 1 | t | f | f |\n",
       "\n"
      ],
      "text/plain": [
       "       accession          checkm_completeness checkm_contamination Domain     \n",
       "1      GB_GCA_000007385.1  99.82              0                    d__Bacteria\n",
       "2      GB_GCA_000008605.1 100.00              0                    d__Bacteria\n",
       "⋮      ⋮                  ⋮                   ⋮                    ⋮          \n",
       "101654 GB_GCA_013329655.1 95.92               0                    d__Archaea \n",
       "101655 GB_GCA_013330515.1 98.04               0                    d__Archaea \n",
       "       Phylum            Class                  Order                 \n",
       "1      p__Proteobacteria c__Gammaproteobacteria o__Xanthomonadales    \n",
       "2      p__Spirochaetota  c__Spirochaetia        o__Treponematales     \n",
       "⋮      ⋮                 ⋮                      ⋮                     \n",
       "101654 p__Halobacteriota c__Methanosarcinia     o__Methanosarcinales  \n",
       "101655 p__Halobacteriota c__Methanosarcinia     o__Methanosarcinales_A\n",
       "       Family                Genus             Species                        ⋯\n",
       "1      f__Xanthomonadaceae   g__Xanthomonas    s__Xanthomonas oryzae          ⋯\n",
       "2      f__Treponemataceae    g__Treponema      s__Treponema pallidum          ⋯\n",
       "⋮      ⋮                     ⋮                 ⋮                              ⋱\n",
       "101654 f__Methanosarcinaceae g__Methanosarcina s__Methanosarcina acetivorans  ⋯\n",
       "101655 f__Methermicoccaceae  g__Methermicoccus s__Methermicoccus shengliensis ⋯\n",
       "       gc_percentage contig_count genome_size mean_contig_length scaffold_count\n",
       "1      63.69329      1            4941439     4941439            1             \n",
       "2      52.77518      1            1138011     1138011            1             \n",
       "⋮      ⋮             ⋮            ⋮           ⋮                  ⋮             \n",
       "101654 43.67908      348          4257361     12191              201           \n",
       "101655 55.35460       35          1369149     39023               24           \n",
       "       ssu_contig_len ssu_count mimag_high_quality mimag_medium_quality\n",
       "1      4941439        2         t                  f                   \n",
       "2      1138011        2         t                  f                   \n",
       "⋮      ⋮              ⋮         ⋮                  ⋮                   \n",
       "101654 44973          1         t                  f                   \n",
       "101655 123890         1         t                  f                   \n",
       "       mimag_low_quality\n",
       "1      f                \n",
       "2      f                \n",
       "⋮      ⋮                \n",
       "101654 f                \n",
       "101655 f                "
      ]
     },
     "metadata": {},
     "output_type": "display_data"
    }
   ],
   "source": [
    "# contig count\n",
    "r95_meta_f$genome_size %>% summary_x('Genome size (bp)')\n",
    "r95_meta_f = r95_meta_f %>%\n",
    "    filter(genome_size < 15000000)  \n",
    "\n",
    "r95_meta_f$genome_size %>% summary_x('Genome size (bp)')\n",
    "r95_meta_f"
   ]
  },
  {
   "cell_type": "code",
   "execution_count": 16,
   "metadata": {
    "ExecuteTime": {
     "end_time": "2020-10-08T17:53:07.436800Z",
     "start_time": "2020-10-08T17:52:51.196Z"
    }
   },
   "outputs": [
    {
     "data": {
      "text/html": [
       "<table>\n",
       "<caption>A matrix: 1 × 8 of type dbl</caption>\n",
       "<thead>\n",
       "\t<tr><th></th><th scope=col>Min.</th><th scope=col>1st Qu.</th><th scope=col>Median</th><th scope=col>Mean</th><th scope=col>3rd Qu.</th><th scope=col>Max.</th><th scope=col>sd</th><th scope=col>sd_err_of_mean</th></tr>\n",
       "</thead>\n",
       "<tbody>\n",
       "\t<tr><th scope=row>Mean contig len. (bp)</th><td>2407</td><td>32155</td><td>64343</td><td>512211.1</td><td>164010.5</td><td>13047416</td><td>5266607</td><td>2150083</td></tr>\n",
       "</tbody>\n",
       "</table>\n"
      ],
      "text/latex": [
       "A matrix: 1 × 8 of type dbl\n",
       "\\begin{tabular}{r|llllllll}\n",
       "  & Min. & 1st Qu. & Median & Mean & 3rd Qu. & Max. & sd & sd\\_err\\_of\\_mean\\\\\n",
       "\\hline\n",
       "\tMean contig len. (bp) & 2407 & 32155 & 64343 & 512211.1 & 164010.5 & 13047416 & 5266607 & 2150083\\\\\n",
       "\\end{tabular}\n"
      ],
      "text/markdown": [
       "\n",
       "A matrix: 1 × 8 of type dbl\n",
       "\n",
       "| <!--/--> | Min. | 1st Qu. | Median | Mean | 3rd Qu. | Max. | sd | sd_err_of_mean |\n",
       "|---|---|---|---|---|---|---|---|---|\n",
       "| Mean contig len. (bp) | 2407 | 32155 | 64343 | 512211.1 | 164010.5 | 13047416 | 5266607 | 2150083 |\n",
       "\n"
      ],
      "text/plain": [
       "                      Min. 1st Qu. Median Mean     3rd Qu.  Max.     sd     \n",
       "Mean contig len. (bp) 2407 32155   64343  512211.1 164010.5 13047416 5266607\n",
       "                      sd_err_of_mean\n",
       "Mean contig len. (bp) 2150083       "
      ]
     },
     "metadata": {},
     "output_type": "display_data"
    },
    {
     "data": {
      "text/html": [
       "<table>\n",
       "<caption>A matrix: 1 × 8 of type dbl</caption>\n",
       "<thead>\n",
       "\t<tr><th></th><th scope=col>Min.</th><th scope=col>1st Qu.</th><th scope=col>Median</th><th scope=col>Mean</th><th scope=col>3rd Qu.</th><th scope=col>Max.</th><th scope=col>sd</th><th scope=col>sd_err_of_mean</th></tr>\n",
       "</thead>\n",
       "<tbody>\n",
       "\t<tr><th scope=row>Mean contig len. (bp)</th><td>10000</td><td>33312.5</td><td>65995</td><td>521629.5</td><td>169252.5</td><td>13047416</td><td>5264637</td><td>2149279</td></tr>\n",
       "</tbody>\n",
       "</table>\n"
      ],
      "text/latex": [
       "A matrix: 1 × 8 of type dbl\n",
       "\\begin{tabular}{r|llllllll}\n",
       "  & Min. & 1st Qu. & Median & Mean & 3rd Qu. & Max. & sd & sd\\_err\\_of\\_mean\\\\\n",
       "\\hline\n",
       "\tMean contig len. (bp) & 10000 & 33312.5 & 65995 & 521629.5 & 169252.5 & 13047416 & 5264637 & 2149279\\\\\n",
       "\\end{tabular}\n"
      ],
      "text/markdown": [
       "\n",
       "A matrix: 1 × 8 of type dbl\n",
       "\n",
       "| <!--/--> | Min. | 1st Qu. | Median | Mean | 3rd Qu. | Max. | sd | sd_err_of_mean |\n",
       "|---|---|---|---|---|---|---|---|---|\n",
       "| Mean contig len. (bp) | 10000 | 33312.5 | 65995 | 521629.5 | 169252.5 | 13047416 | 5264637 | 2149279 |\n",
       "\n"
      ],
      "text/plain": [
       "                      Min.  1st Qu. Median Mean     3rd Qu.  Max.     sd     \n",
       "Mean contig len. (bp) 10000 33312.5 65995  521629.5 169252.5 13047416 5264637\n",
       "                      sd_err_of_mean\n",
       "Mean contig len. (bp) 2149279       "
      ]
     },
     "metadata": {},
     "output_type": "display_data"
    },
    {
     "data": {
      "text/html": [
       "<table>\n",
       "<caption>A data.table: 99791 × 27</caption>\n",
       "<thead>\n",
       "\t<tr><th scope=col>accession</th><th scope=col>checkm_completeness</th><th scope=col>checkm_contamination</th><th scope=col>Domain</th><th scope=col>Phylum</th><th scope=col>Class</th><th scope=col>Order</th><th scope=col>Family</th><th scope=col>Genus</th><th scope=col>Species</th><th scope=col>⋯</th><th scope=col>gc_percentage</th><th scope=col>contig_count</th><th scope=col>genome_size</th><th scope=col>mean_contig_length</th><th scope=col>scaffold_count</th><th scope=col>ssu_contig_len</th><th scope=col>ssu_count</th><th scope=col>mimag_high_quality</th><th scope=col>mimag_medium_quality</th><th scope=col>mimag_low_quality</th></tr>\n",
       "\t<tr><th scope=col>&lt;chr&gt;</th><th scope=col>&lt;dbl&gt;</th><th scope=col>&lt;dbl&gt;</th><th scope=col>&lt;chr&gt;</th><th scope=col>&lt;chr&gt;</th><th scope=col>&lt;chr&gt;</th><th scope=col>&lt;chr&gt;</th><th scope=col>&lt;chr&gt;</th><th scope=col>&lt;chr&gt;</th><th scope=col>&lt;chr&gt;</th><th scope=col>⋯</th><th scope=col>&lt;dbl&gt;</th><th scope=col>&lt;int&gt;</th><th scope=col>&lt;int&gt;</th><th scope=col>&lt;int&gt;</th><th scope=col>&lt;int&gt;</th><th scope=col>&lt;chr&gt;</th><th scope=col>&lt;int&gt;</th><th scope=col>&lt;chr&gt;</th><th scope=col>&lt;chr&gt;</th><th scope=col>&lt;chr&gt;</th></tr>\n",
       "</thead>\n",
       "<tbody>\n",
       "\t<tr><td>GB_GCA_000007385.1</td><td> 99.82</td><td>0</td><td>d__Bacteria</td><td>p__Proteobacteria</td><td>c__Gammaproteobacteria</td><td>o__Xanthomonadales</td><td>f__Xanthomonadaceae</td><td>g__Xanthomonas</td><td>s__Xanthomonas oryzae</td><td>⋯</td><td>63.69329</td><td>1</td><td>4941439</td><td>4941439</td><td>1</td><td>4941439</td><td>2</td><td>t</td><td>f</td><td>f</td></tr>\n",
       "\t<tr><td>GB_GCA_000008605.1</td><td>100.00</td><td>0</td><td>d__Bacteria</td><td>p__Spirochaetota </td><td>c__Spirochaetia       </td><td>o__Treponematales </td><td>f__Treponemataceae </td><td>g__Treponema  </td><td>s__Treponema pallidum</td><td>⋯</td><td>52.77518</td><td>1</td><td>1138011</td><td>1138011</td><td>1</td><td>1138011</td><td>2</td><td>t</td><td>f</td><td>f</td></tr>\n",
       "\t<tr><td>⋮</td><td>⋮</td><td>⋮</td><td>⋮</td><td>⋮</td><td>⋮</td><td>⋮</td><td>⋮</td><td>⋮</td><td>⋮</td><td>⋱</td><td>⋮</td><td>⋮</td><td>⋮</td><td>⋮</td><td>⋮</td><td>⋮</td><td>⋮</td><td>⋮</td><td>⋮</td><td>⋮</td></tr>\n",
       "\t<tr><td>GB_GCA_013329655.1</td><td>95.92</td><td>0</td><td>d__Archaea</td><td>p__Halobacteriota</td><td>c__Methanosarcinia</td><td>o__Methanosarcinales  </td><td>f__Methanosarcinaceae</td><td>g__Methanosarcina</td><td>s__Methanosarcina acetivorans </td><td>⋯</td><td>43.67908</td><td>348</td><td>4257361</td><td>12191</td><td>201</td><td>44973 </td><td>1</td><td>t</td><td>f</td><td>f</td></tr>\n",
       "\t<tr><td>GB_GCA_013330515.1</td><td>98.04</td><td>0</td><td>d__Archaea</td><td>p__Halobacteriota</td><td>c__Methanosarcinia</td><td>o__Methanosarcinales_A</td><td>f__Methermicoccaceae </td><td>g__Methermicoccus</td><td>s__Methermicoccus shengliensis</td><td>⋯</td><td>55.35460</td><td> 35</td><td>1369149</td><td>39023</td><td> 24</td><td>123890</td><td>1</td><td>t</td><td>f</td><td>f</td></tr>\n",
       "</tbody>\n",
       "</table>\n"
      ],
      "text/latex": [
       "A data.table: 99791 × 27\n",
       "\\begin{tabular}{lllllllllllllllllllll}\n",
       " accession & checkm\\_completeness & checkm\\_contamination & Domain & Phylum & Class & Order & Family & Genus & Species & ⋯ & gc\\_percentage & contig\\_count & genome\\_size & mean\\_contig\\_length & scaffold\\_count & ssu\\_contig\\_len & ssu\\_count & mimag\\_high\\_quality & mimag\\_medium\\_quality & mimag\\_low\\_quality\\\\\n",
       " <chr> & <dbl> & <dbl> & <chr> & <chr> & <chr> & <chr> & <chr> & <chr> & <chr> & ⋯ & <dbl> & <int> & <int> & <int> & <int> & <chr> & <int> & <chr> & <chr> & <chr>\\\\\n",
       "\\hline\n",
       "\t GB\\_GCA\\_000007385.1 &  99.82 & 0 & d\\_\\_Bacteria & p\\_\\_Proteobacteria & c\\_\\_Gammaproteobacteria & o\\_\\_Xanthomonadales & f\\_\\_Xanthomonadaceae & g\\_\\_Xanthomonas & s\\_\\_Xanthomonas oryzae & ⋯ & 63.69329 & 1 & 4941439 & 4941439 & 1 & 4941439 & 2 & t & f & f\\\\\n",
       "\t GB\\_GCA\\_000008605.1 & 100.00 & 0 & d\\_\\_Bacteria & p\\_\\_Spirochaetota  & c\\_\\_Spirochaetia        & o\\_\\_Treponematales  & f\\_\\_Treponemataceae  & g\\_\\_Treponema   & s\\_\\_Treponema pallidum & ⋯ & 52.77518 & 1 & 1138011 & 1138011 & 1 & 1138011 & 2 & t & f & f\\\\\n",
       "\t ⋮ & ⋮ & ⋮ & ⋮ & ⋮ & ⋮ & ⋮ & ⋮ & ⋮ & ⋮ & ⋱ & ⋮ & ⋮ & ⋮ & ⋮ & ⋮ & ⋮ & ⋮ & ⋮ & ⋮ & ⋮\\\\\n",
       "\t GB\\_GCA\\_013329655.1 & 95.92 & 0 & d\\_\\_Archaea & p\\_\\_Halobacteriota & c\\_\\_Methanosarcinia & o\\_\\_Methanosarcinales   & f\\_\\_Methanosarcinaceae & g\\_\\_Methanosarcina & s\\_\\_Methanosarcina acetivorans  & ⋯ & 43.67908 & 348 & 4257361 & 12191 & 201 & 44973  & 1 & t & f & f\\\\\n",
       "\t GB\\_GCA\\_013330515.1 & 98.04 & 0 & d\\_\\_Archaea & p\\_\\_Halobacteriota & c\\_\\_Methanosarcinia & o\\_\\_Methanosarcinales\\_A & f\\_\\_Methermicoccaceae  & g\\_\\_Methermicoccus & s\\_\\_Methermicoccus shengliensis & ⋯ & 55.35460 &  35 & 1369149 & 39023 &  24 & 123890 & 1 & t & f & f\\\\\n",
       "\\end{tabular}\n"
      ],
      "text/markdown": [
       "\n",
       "A data.table: 99791 × 27\n",
       "\n",
       "| accession &lt;chr&gt; | checkm_completeness &lt;dbl&gt; | checkm_contamination &lt;dbl&gt; | Domain &lt;chr&gt; | Phylum &lt;chr&gt; | Class &lt;chr&gt; | Order &lt;chr&gt; | Family &lt;chr&gt; | Genus &lt;chr&gt; | Species &lt;chr&gt; | ⋯ ⋯ | gc_percentage &lt;dbl&gt; | contig_count &lt;int&gt; | genome_size &lt;int&gt; | mean_contig_length &lt;int&gt; | scaffold_count &lt;int&gt; | ssu_contig_len &lt;chr&gt; | ssu_count &lt;int&gt; | mimag_high_quality &lt;chr&gt; | mimag_medium_quality &lt;chr&gt; | mimag_low_quality &lt;chr&gt; |\n",
       "|---|---|---|---|---|---|---|---|---|---|---|---|---|---|---|---|---|---|---|---|---|\n",
       "| GB_GCA_000007385.1 |  99.82 | 0 | d__Bacteria | p__Proteobacteria | c__Gammaproteobacteria | o__Xanthomonadales | f__Xanthomonadaceae | g__Xanthomonas | s__Xanthomonas oryzae | ⋯ | 63.69329 | 1 | 4941439 | 4941439 | 1 | 4941439 | 2 | t | f | f |\n",
       "| GB_GCA_000008605.1 | 100.00 | 0 | d__Bacteria | p__Spirochaetota  | c__Spirochaetia        | o__Treponematales  | f__Treponemataceae  | g__Treponema   | s__Treponema pallidum | ⋯ | 52.77518 | 1 | 1138011 | 1138011 | 1 | 1138011 | 2 | t | f | f |\n",
       "| ⋮ | ⋮ | ⋮ | ⋮ | ⋮ | ⋮ | ⋮ | ⋮ | ⋮ | ⋮ | ⋱ | ⋮ | ⋮ | ⋮ | ⋮ | ⋮ | ⋮ | ⋮ | ⋮ | ⋮ | ⋮ |\n",
       "| GB_GCA_013329655.1 | 95.92 | 0 | d__Archaea | p__Halobacteriota | c__Methanosarcinia | o__Methanosarcinales   | f__Methanosarcinaceae | g__Methanosarcina | s__Methanosarcina acetivorans  | ⋯ | 43.67908 | 348 | 4257361 | 12191 | 201 | 44973  | 1 | t | f | f |\n",
       "| GB_GCA_013330515.1 | 98.04 | 0 | d__Archaea | p__Halobacteriota | c__Methanosarcinia | o__Methanosarcinales_A | f__Methermicoccaceae  | g__Methermicoccus | s__Methermicoccus shengliensis | ⋯ | 55.35460 |  35 | 1369149 | 39023 |  24 | 123890 | 1 | t | f | f |\n",
       "\n"
      ],
      "text/plain": [
       "      accession          checkm_completeness checkm_contamination Domain     \n",
       "1     GB_GCA_000007385.1  99.82              0                    d__Bacteria\n",
       "2     GB_GCA_000008605.1 100.00              0                    d__Bacteria\n",
       "⋮     ⋮                  ⋮                   ⋮                    ⋮          \n",
       "99790 GB_GCA_013329655.1 95.92               0                    d__Archaea \n",
       "99791 GB_GCA_013330515.1 98.04               0                    d__Archaea \n",
       "      Phylum            Class                  Order                 \n",
       "1     p__Proteobacteria c__Gammaproteobacteria o__Xanthomonadales    \n",
       "2     p__Spirochaetota  c__Spirochaetia        o__Treponematales     \n",
       "⋮     ⋮                 ⋮                      ⋮                     \n",
       "99790 p__Halobacteriota c__Methanosarcinia     o__Methanosarcinales  \n",
       "99791 p__Halobacteriota c__Methanosarcinia     o__Methanosarcinales_A\n",
       "      Family                Genus             Species                        ⋯\n",
       "1     f__Xanthomonadaceae   g__Xanthomonas    s__Xanthomonas oryzae          ⋯\n",
       "2     f__Treponemataceae    g__Treponema      s__Treponema pallidum          ⋯\n",
       "⋮     ⋮                     ⋮                 ⋮                              ⋱\n",
       "99790 f__Methanosarcinaceae g__Methanosarcina s__Methanosarcina acetivorans  ⋯\n",
       "99791 f__Methermicoccaceae  g__Methermicoccus s__Methermicoccus shengliensis ⋯\n",
       "      gc_percentage contig_count genome_size mean_contig_length scaffold_count\n",
       "1     63.69329      1            4941439     4941439            1             \n",
       "2     52.77518      1            1138011     1138011            1             \n",
       "⋮     ⋮             ⋮            ⋮           ⋮                  ⋮             \n",
       "99790 43.67908      348          4257361     12191              201           \n",
       "99791 55.35460       35          1369149     39023               24           \n",
       "      ssu_contig_len ssu_count mimag_high_quality mimag_medium_quality\n",
       "1     4941439        2         t                  f                   \n",
       "2     1138011        2         t                  f                   \n",
       "⋮     ⋮              ⋮         ⋮                  ⋮                   \n",
       "99790 44973          1         t                  f                   \n",
       "99791 123890         1         t                  f                   \n",
       "      mimag_low_quality\n",
       "1     f                \n",
       "2     f                \n",
       "⋮     ⋮                \n",
       "99790 f                \n",
       "99791 f                "
      ]
     },
     "metadata": {},
     "output_type": "display_data"
    }
   ],
   "source": [
    "# contig length\n",
    "r95_meta_f$mean_contig_length %>% summary_x('Mean contig len. (bp)')\n",
    "r95_meta_f = r95_meta_f %>%\n",
    "    filter(mean_contig_length >= 10000)  \n",
    "\n",
    "r95_meta_f$mean_contig_length %>% summary_x('Mean contig len. (bp)')\n",
    "r95_meta_f"
   ]
  },
  {
   "cell_type": "code",
   "execution_count": 17,
   "metadata": {
    "ExecuteTime": {
     "end_time": "2020-10-08T17:53:07.519039Z",
     "start_time": "2020-10-08T17:52:51.203Z"
    }
   },
   "outputs": [
    {
     "data": {
      "text/html": [
       "<table>\n",
       "<caption>A matrix: 1 × 8 of type dbl</caption>\n",
       "<thead>\n",
       "\t<tr><th></th><th scope=col>Min.</th><th scope=col>1st Qu.</th><th scope=col>Median</th><th scope=col>Mean</th><th scope=col>3rd Qu.</th><th scope=col>Max.</th><th scope=col>sd</th><th scope=col>sd_err_of_mean</th></tr>\n",
       "</thead>\n",
       "<tbody>\n",
       "\t<tr><th scope=row>SSU count</th><td>1</td><td>1</td><td>1</td><td>2.310258</td><td>3</td><td>129</td><td>51.992</td><td>21.226</td></tr>\n",
       "</tbody>\n",
       "</table>\n"
      ],
      "text/latex": [
       "A matrix: 1 × 8 of type dbl\n",
       "\\begin{tabular}{r|llllllll}\n",
       "  & Min. & 1st Qu. & Median & Mean & 3rd Qu. & Max. & sd & sd\\_err\\_of\\_mean\\\\\n",
       "\\hline\n",
       "\tSSU count & 1 & 1 & 1 & 2.310258 & 3 & 129 & 51.992 & 21.226\\\\\n",
       "\\end{tabular}\n"
      ],
      "text/markdown": [
       "\n",
       "A matrix: 1 × 8 of type dbl\n",
       "\n",
       "| <!--/--> | Min. | 1st Qu. | Median | Mean | 3rd Qu. | Max. | sd | sd_err_of_mean |\n",
       "|---|---|---|---|---|---|---|---|---|\n",
       "| SSU count | 1 | 1 | 1 | 2.310258 | 3 | 129 | 51.992 | 21.226 |\n",
       "\n"
      ],
      "text/plain": [
       "          Min. 1st Qu. Median Mean     3rd Qu. Max. sd     sd_err_of_mean\n",
       "SSU count 1    1       1      2.310258 3       129  51.992 21.226        "
      ]
     },
     "metadata": {},
     "output_type": "display_data"
    },
    {
     "data": {
      "text/html": [
       "<table>\n",
       "<caption>A matrix: 1 × 8 of type dbl</caption>\n",
       "<thead>\n",
       "\t<tr><th></th><th scope=col>Min.</th><th scope=col>1st Qu.</th><th scope=col>Median</th><th scope=col>Mean</th><th scope=col>3rd Qu.</th><th scope=col>Max.</th><th scope=col>sd</th><th scope=col>sd_err_of_mean</th></tr>\n",
       "</thead>\n",
       "<tbody>\n",
       "\t<tr><th scope=row>SSU count</th><td>1</td><td>1</td><td>1</td><td>2.30394</td><td>3</td><td>49</td><td>19.344</td><td>7.897</td></tr>\n",
       "</tbody>\n",
       "</table>\n"
      ],
      "text/latex": [
       "A matrix: 1 × 8 of type dbl\n",
       "\\begin{tabular}{r|llllllll}\n",
       "  & Min. & 1st Qu. & Median & Mean & 3rd Qu. & Max. & sd & sd\\_err\\_of\\_mean\\\\\n",
       "\\hline\n",
       "\tSSU count & 1 & 1 & 1 & 2.30394 & 3 & 49 & 19.344 & 7.897\\\\\n",
       "\\end{tabular}\n"
      ],
      "text/markdown": [
       "\n",
       "A matrix: 1 × 8 of type dbl\n",
       "\n",
       "| <!--/--> | Min. | 1st Qu. | Median | Mean | 3rd Qu. | Max. | sd | sd_err_of_mean |\n",
       "|---|---|---|---|---|---|---|---|---|\n",
       "| SSU count | 1 | 1 | 1 | 2.30394 | 3 | 49 | 19.344 | 7.897 |\n",
       "\n"
      ],
      "text/plain": [
       "          Min. 1st Qu. Median Mean    3rd Qu. Max. sd     sd_err_of_mean\n",
       "SSU count 1    1       1      2.30394 3       49   19.344 7.897         "
      ]
     },
     "metadata": {},
     "output_type": "display_data"
    },
    {
     "data": {
      "text/html": [
       "<table>\n",
       "<caption>A data.table: 99783 × 27</caption>\n",
       "<thead>\n",
       "\t<tr><th scope=col>accession</th><th scope=col>checkm_completeness</th><th scope=col>checkm_contamination</th><th scope=col>Domain</th><th scope=col>Phylum</th><th scope=col>Class</th><th scope=col>Order</th><th scope=col>Family</th><th scope=col>Genus</th><th scope=col>Species</th><th scope=col>⋯</th><th scope=col>gc_percentage</th><th scope=col>contig_count</th><th scope=col>genome_size</th><th scope=col>mean_contig_length</th><th scope=col>scaffold_count</th><th scope=col>ssu_contig_len</th><th scope=col>ssu_count</th><th scope=col>mimag_high_quality</th><th scope=col>mimag_medium_quality</th><th scope=col>mimag_low_quality</th></tr>\n",
       "\t<tr><th scope=col>&lt;chr&gt;</th><th scope=col>&lt;dbl&gt;</th><th scope=col>&lt;dbl&gt;</th><th scope=col>&lt;chr&gt;</th><th scope=col>&lt;chr&gt;</th><th scope=col>&lt;chr&gt;</th><th scope=col>&lt;chr&gt;</th><th scope=col>&lt;chr&gt;</th><th scope=col>&lt;chr&gt;</th><th scope=col>&lt;chr&gt;</th><th scope=col>⋯</th><th scope=col>&lt;dbl&gt;</th><th scope=col>&lt;int&gt;</th><th scope=col>&lt;int&gt;</th><th scope=col>&lt;int&gt;</th><th scope=col>&lt;int&gt;</th><th scope=col>&lt;chr&gt;</th><th scope=col>&lt;int&gt;</th><th scope=col>&lt;chr&gt;</th><th scope=col>&lt;chr&gt;</th><th scope=col>&lt;chr&gt;</th></tr>\n",
       "</thead>\n",
       "<tbody>\n",
       "\t<tr><td>GB_GCA_000007385.1</td><td> 99.82</td><td>0</td><td>d__Bacteria</td><td>p__Proteobacteria</td><td>c__Gammaproteobacteria</td><td>o__Xanthomonadales</td><td>f__Xanthomonadaceae</td><td>g__Xanthomonas</td><td>s__Xanthomonas oryzae</td><td>⋯</td><td>63.69329</td><td>1</td><td>4941439</td><td>4941439</td><td>1</td><td>4941439</td><td>2</td><td>t</td><td>f</td><td>f</td></tr>\n",
       "\t<tr><td>GB_GCA_000008605.1</td><td>100.00</td><td>0</td><td>d__Bacteria</td><td>p__Spirochaetota </td><td>c__Spirochaetia       </td><td>o__Treponematales </td><td>f__Treponemataceae </td><td>g__Treponema  </td><td>s__Treponema pallidum</td><td>⋯</td><td>52.77518</td><td>1</td><td>1138011</td><td>1138011</td><td>1</td><td>1138011</td><td>2</td><td>t</td><td>f</td><td>f</td></tr>\n",
       "\t<tr><td>⋮</td><td>⋮</td><td>⋮</td><td>⋮</td><td>⋮</td><td>⋮</td><td>⋮</td><td>⋮</td><td>⋮</td><td>⋮</td><td>⋱</td><td>⋮</td><td>⋮</td><td>⋮</td><td>⋮</td><td>⋮</td><td>⋮</td><td>⋮</td><td>⋮</td><td>⋮</td><td>⋮</td></tr>\n",
       "\t<tr><td>GB_GCA_013329655.1</td><td>95.92</td><td>0</td><td>d__Archaea</td><td>p__Halobacteriota</td><td>c__Methanosarcinia</td><td>o__Methanosarcinales  </td><td>f__Methanosarcinaceae</td><td>g__Methanosarcina</td><td>s__Methanosarcina acetivorans </td><td>⋯</td><td>43.67908</td><td>348</td><td>4257361</td><td>12191</td><td>201</td><td>44973 </td><td>1</td><td>t</td><td>f</td><td>f</td></tr>\n",
       "\t<tr><td>GB_GCA_013330515.1</td><td>98.04</td><td>0</td><td>d__Archaea</td><td>p__Halobacteriota</td><td>c__Methanosarcinia</td><td>o__Methanosarcinales_A</td><td>f__Methermicoccaceae </td><td>g__Methermicoccus</td><td>s__Methermicoccus shengliensis</td><td>⋯</td><td>55.35460</td><td> 35</td><td>1369149</td><td>39023</td><td> 24</td><td>123890</td><td>1</td><td>t</td><td>f</td><td>f</td></tr>\n",
       "</tbody>\n",
       "</table>\n"
      ],
      "text/latex": [
       "A data.table: 99783 × 27\n",
       "\\begin{tabular}{lllllllllllllllllllll}\n",
       " accession & checkm\\_completeness & checkm\\_contamination & Domain & Phylum & Class & Order & Family & Genus & Species & ⋯ & gc\\_percentage & contig\\_count & genome\\_size & mean\\_contig\\_length & scaffold\\_count & ssu\\_contig\\_len & ssu\\_count & mimag\\_high\\_quality & mimag\\_medium\\_quality & mimag\\_low\\_quality\\\\\n",
       " <chr> & <dbl> & <dbl> & <chr> & <chr> & <chr> & <chr> & <chr> & <chr> & <chr> & ⋯ & <dbl> & <int> & <int> & <int> & <int> & <chr> & <int> & <chr> & <chr> & <chr>\\\\\n",
       "\\hline\n",
       "\t GB\\_GCA\\_000007385.1 &  99.82 & 0 & d\\_\\_Bacteria & p\\_\\_Proteobacteria & c\\_\\_Gammaproteobacteria & o\\_\\_Xanthomonadales & f\\_\\_Xanthomonadaceae & g\\_\\_Xanthomonas & s\\_\\_Xanthomonas oryzae & ⋯ & 63.69329 & 1 & 4941439 & 4941439 & 1 & 4941439 & 2 & t & f & f\\\\\n",
       "\t GB\\_GCA\\_000008605.1 & 100.00 & 0 & d\\_\\_Bacteria & p\\_\\_Spirochaetota  & c\\_\\_Spirochaetia        & o\\_\\_Treponematales  & f\\_\\_Treponemataceae  & g\\_\\_Treponema   & s\\_\\_Treponema pallidum & ⋯ & 52.77518 & 1 & 1138011 & 1138011 & 1 & 1138011 & 2 & t & f & f\\\\\n",
       "\t ⋮ & ⋮ & ⋮ & ⋮ & ⋮ & ⋮ & ⋮ & ⋮ & ⋮ & ⋮ & ⋱ & ⋮ & ⋮ & ⋮ & ⋮ & ⋮ & ⋮ & ⋮ & ⋮ & ⋮ & ⋮\\\\\n",
       "\t GB\\_GCA\\_013329655.1 & 95.92 & 0 & d\\_\\_Archaea & p\\_\\_Halobacteriota & c\\_\\_Methanosarcinia & o\\_\\_Methanosarcinales   & f\\_\\_Methanosarcinaceae & g\\_\\_Methanosarcina & s\\_\\_Methanosarcina acetivorans  & ⋯ & 43.67908 & 348 & 4257361 & 12191 & 201 & 44973  & 1 & t & f & f\\\\\n",
       "\t GB\\_GCA\\_013330515.1 & 98.04 & 0 & d\\_\\_Archaea & p\\_\\_Halobacteriota & c\\_\\_Methanosarcinia & o\\_\\_Methanosarcinales\\_A & f\\_\\_Methermicoccaceae  & g\\_\\_Methermicoccus & s\\_\\_Methermicoccus shengliensis & ⋯ & 55.35460 &  35 & 1369149 & 39023 &  24 & 123890 & 1 & t & f & f\\\\\n",
       "\\end{tabular}\n"
      ],
      "text/markdown": [
       "\n",
       "A data.table: 99783 × 27\n",
       "\n",
       "| accession &lt;chr&gt; | checkm_completeness &lt;dbl&gt; | checkm_contamination &lt;dbl&gt; | Domain &lt;chr&gt; | Phylum &lt;chr&gt; | Class &lt;chr&gt; | Order &lt;chr&gt; | Family &lt;chr&gt; | Genus &lt;chr&gt; | Species &lt;chr&gt; | ⋯ ⋯ | gc_percentage &lt;dbl&gt; | contig_count &lt;int&gt; | genome_size &lt;int&gt; | mean_contig_length &lt;int&gt; | scaffold_count &lt;int&gt; | ssu_contig_len &lt;chr&gt; | ssu_count &lt;int&gt; | mimag_high_quality &lt;chr&gt; | mimag_medium_quality &lt;chr&gt; | mimag_low_quality &lt;chr&gt; |\n",
       "|---|---|---|---|---|---|---|---|---|---|---|---|---|---|---|---|---|---|---|---|---|\n",
       "| GB_GCA_000007385.1 |  99.82 | 0 | d__Bacteria | p__Proteobacteria | c__Gammaproteobacteria | o__Xanthomonadales | f__Xanthomonadaceae | g__Xanthomonas | s__Xanthomonas oryzae | ⋯ | 63.69329 | 1 | 4941439 | 4941439 | 1 | 4941439 | 2 | t | f | f |\n",
       "| GB_GCA_000008605.1 | 100.00 | 0 | d__Bacteria | p__Spirochaetota  | c__Spirochaetia        | o__Treponematales  | f__Treponemataceae  | g__Treponema   | s__Treponema pallidum | ⋯ | 52.77518 | 1 | 1138011 | 1138011 | 1 | 1138011 | 2 | t | f | f |\n",
       "| ⋮ | ⋮ | ⋮ | ⋮ | ⋮ | ⋮ | ⋮ | ⋮ | ⋮ | ⋮ | ⋱ | ⋮ | ⋮ | ⋮ | ⋮ | ⋮ | ⋮ | ⋮ | ⋮ | ⋮ | ⋮ |\n",
       "| GB_GCA_013329655.1 | 95.92 | 0 | d__Archaea | p__Halobacteriota | c__Methanosarcinia | o__Methanosarcinales   | f__Methanosarcinaceae | g__Methanosarcina | s__Methanosarcina acetivorans  | ⋯ | 43.67908 | 348 | 4257361 | 12191 | 201 | 44973  | 1 | t | f | f |\n",
       "| GB_GCA_013330515.1 | 98.04 | 0 | d__Archaea | p__Halobacteriota | c__Methanosarcinia | o__Methanosarcinales_A | f__Methermicoccaceae  | g__Methermicoccus | s__Methermicoccus shengliensis | ⋯ | 55.35460 |  35 | 1369149 | 39023 |  24 | 123890 | 1 | t | f | f |\n",
       "\n"
      ],
      "text/plain": [
       "      accession          checkm_completeness checkm_contamination Domain     \n",
       "1     GB_GCA_000007385.1  99.82              0                    d__Bacteria\n",
       "2     GB_GCA_000008605.1 100.00              0                    d__Bacteria\n",
       "⋮     ⋮                  ⋮                   ⋮                    ⋮          \n",
       "99782 GB_GCA_013329655.1 95.92               0                    d__Archaea \n",
       "99783 GB_GCA_013330515.1 98.04               0                    d__Archaea \n",
       "      Phylum            Class                  Order                 \n",
       "1     p__Proteobacteria c__Gammaproteobacteria o__Xanthomonadales    \n",
       "2     p__Spirochaetota  c__Spirochaetia        o__Treponematales     \n",
       "⋮     ⋮                 ⋮                      ⋮                     \n",
       "99782 p__Halobacteriota c__Methanosarcinia     o__Methanosarcinales  \n",
       "99783 p__Halobacteriota c__Methanosarcinia     o__Methanosarcinales_A\n",
       "      Family                Genus             Species                        ⋯\n",
       "1     f__Xanthomonadaceae   g__Xanthomonas    s__Xanthomonas oryzae          ⋯\n",
       "2     f__Treponemataceae    g__Treponema      s__Treponema pallidum          ⋯\n",
       "⋮     ⋮                     ⋮                 ⋮                              ⋱\n",
       "99782 f__Methanosarcinaceae g__Methanosarcina s__Methanosarcina acetivorans  ⋯\n",
       "99783 f__Methermicoccaceae  g__Methermicoccus s__Methermicoccus shengliensis ⋯\n",
       "      gc_percentage contig_count genome_size mean_contig_length scaffold_count\n",
       "1     63.69329      1            4941439     4941439            1             \n",
       "2     52.77518      1            1138011     1138011            1             \n",
       "⋮     ⋮             ⋮            ⋮           ⋮                  ⋮             \n",
       "99782 43.67908      348          4257361     12191              201           \n",
       "99783 55.35460       35          1369149     39023               24           \n",
       "      ssu_contig_len ssu_count mimag_high_quality mimag_medium_quality\n",
       "1     4941439        2         t                  f                   \n",
       "2     1138011        2         t                  f                   \n",
       "⋮     ⋮              ⋮         ⋮                  ⋮                   \n",
       "99782 44973          1         t                  f                   \n",
       "99783 123890         1         t                  f                   \n",
       "      mimag_low_quality\n",
       "1     f                \n",
       "2     f                \n",
       "⋮     ⋮                \n",
       "99782 f                \n",
       "99783 f                "
      ]
     },
     "metadata": {},
     "output_type": "display_data"
    }
   ],
   "source": [
    "# SSU count\n",
    "r95_meta_f$ssu_count %>% summary_x('SSU count')\n",
    "r95_meta_f = r95_meta_f %>%\n",
    "    filter(ssu_count <= 50)  \n",
    "\n",
    "r95_meta_f$ssu_count %>% summary_x('SSU count')\n",
    "r95_meta_f"
   ]
  },
  {
   "cell_type": "markdown",
   "metadata": {},
   "source": [
    "# Selecting genomes novel to GTDBr95\n",
    "\n",
    "* relative to GTDBr89"
   ]
  },
  {
   "cell_type": "code",
   "execution_count": 18,
   "metadata": {
    "ExecuteTime": {
     "end_time": "2020-10-08T17:53:07.566018Z",
     "start_time": "2020-10-08T17:52:51.207Z"
    }
   },
   "outputs": [
    {
     "name": "stdout",
     "output_type": "stream",
     "text": [
      "intersect(x,y): 17276 \n",
      "setdiff(x,y): 724 \n",
      "setdiff(y,x): 82507 \n",
      "union(x,y): 100507 \n"
     ]
    }
   ],
   "source": [
    "# number of overlapping genome accessions\n",
    "overlap(r89_ref$accession, r95_meta_f$accession)"
   ]
  },
  {
   "cell_type": "code",
   "execution_count": 19,
   "metadata": {
    "ExecuteTime": {
     "end_time": "2020-10-08T17:53:07.592260Z",
     "start_time": "2020-10-08T17:52:51.211Z"
    }
   },
   "outputs": [
    {
     "name": "stdout",
     "output_type": "stream",
     "text": [
      "intersect(x,y): 2400 \n",
      "setdiff(x,y): 223 \n",
      "setdiff(y,x): 731 \n",
      "union(x,y): 3354 \n"
     ]
    }
   ],
   "source": [
    "# novel taxa in GTDBr95\n",
    "overlap(r89_ref$Genus, r95_meta_f$Genus)"
   ]
  },
  {
   "cell_type": "code",
   "execution_count": 20,
   "metadata": {
    "ExecuteTime": {
     "end_time": "2020-10-08T17:53:07.617859Z",
     "start_time": "2020-10-08T17:52:51.216Z"
    }
   },
   "outputs": [
    {
     "name": "stdout",
     "output_type": "stream",
     "text": [
      "intersect(x,y): 590 \n",
      "setdiff(x,y): 28 \n",
      "setdiff(y,x): 111 \n",
      "union(x,y): 729 \n"
     ]
    }
   ],
   "source": [
    "# novel taxa in GTDBr95\n",
    "overlap(r89_ref$Family, r95_meta_f$Family)"
   ]
  },
  {
   "cell_type": "code",
   "execution_count": 21,
   "metadata": {
    "ExecuteTime": {
     "end_time": "2020-10-08T17:53:07.643230Z",
     "start_time": "2020-10-08T17:52:51.220Z"
    }
   },
   "outputs": [
    {
     "name": "stdout",
     "output_type": "stream",
     "text": [
      "intersect(x,y): 254 \n",
      "setdiff(x,y): 13 \n",
      "setdiff(y,x): 45 \n",
      "union(x,y): 312 \n"
     ]
    }
   ],
   "source": [
    "# novel taxa in GTDBr95\n",
    "overlap(r89_ref$Order, r95_meta_f$Order)"
   ]
  },
  {
   "cell_type": "code",
   "execution_count": 22,
   "metadata": {
    "ExecuteTime": {
     "end_time": "2020-10-08T17:53:07.668701Z",
     "start_time": "2020-10-08T17:52:51.224Z"
    }
   },
   "outputs": [
    {
     "name": "stdout",
     "output_type": "stream",
     "text": [
      "intersect(x,y): 109 \n",
      "setdiff(x,y): 5 \n",
      "setdiff(y,x): 13 \n",
      "union(x,y): 127 \n"
     ]
    }
   ],
   "source": [
    "# novel taxa in GTDBr95\n",
    "overlap(r89_ref$Class, r95_meta_f$Class)"
   ]
  },
  {
   "cell_type": "markdown",
   "metadata": {},
   "source": [
    "## Novel at genus-level"
   ]
  },
  {
   "cell_type": "code",
   "execution_count": 23,
   "metadata": {
    "ExecuteTime": {
     "end_time": "2020-10-08T17:53:07.737118Z",
     "start_time": "2020-10-08T17:52:51.230Z"
    }
   },
   "outputs": [
    {
     "data": {
      "text/html": [
       "<table>\n",
       "<caption>A data.table: 9512 × 27</caption>\n",
       "<thead>\n",
       "\t<tr><th scope=col>accession</th><th scope=col>checkm_completeness</th><th scope=col>checkm_contamination</th><th scope=col>Domain</th><th scope=col>Phylum</th><th scope=col>Class</th><th scope=col>Order</th><th scope=col>Family</th><th scope=col>Genus</th><th scope=col>Species</th><th scope=col>⋯</th><th scope=col>gc_percentage</th><th scope=col>contig_count</th><th scope=col>genome_size</th><th scope=col>mean_contig_length</th><th scope=col>scaffold_count</th><th scope=col>ssu_contig_len</th><th scope=col>ssu_count</th><th scope=col>mimag_high_quality</th><th scope=col>mimag_medium_quality</th><th scope=col>mimag_low_quality</th></tr>\n",
       "\t<tr><th scope=col>&lt;chr&gt;</th><th scope=col>&lt;dbl&gt;</th><th scope=col>&lt;dbl&gt;</th><th scope=col>&lt;chr&gt;</th><th scope=col>&lt;chr&gt;</th><th scope=col>&lt;chr&gt;</th><th scope=col>&lt;chr&gt;</th><th scope=col>&lt;chr&gt;</th><th scope=col>&lt;chr&gt;</th><th scope=col>&lt;chr&gt;</th><th scope=col>⋯</th><th scope=col>&lt;dbl&gt;</th><th scope=col>&lt;int&gt;</th><th scope=col>&lt;int&gt;</th><th scope=col>&lt;int&gt;</th><th scope=col>&lt;int&gt;</th><th scope=col>&lt;chr&gt;</th><th scope=col>&lt;int&gt;</th><th scope=col>&lt;chr&gt;</th><th scope=col>&lt;chr&gt;</th><th scope=col>&lt;chr&gt;</th></tr>\n",
       "</thead>\n",
       "<tbody>\n",
       "\t<tr><td>GB_GCA_000015705.1</td><td>100.00</td><td>0.14</td><td>d__Bacteria</td><td>p__Cyanobacteria</td><td>c__Cyanobacteriia</td><td>o__PCC-6307  </td><td>f__Cyanobiaceae  </td><td>g__Prochlorococcus_C</td><td>s__Prochlorococcus_C marinus_B</td><td>⋯</td><td>50.00759</td><td>1</td><td>2682675</td><td>2682675</td><td>1</td><td>2682675</td><td> 2</td><td>t</td><td>f</td><td>f</td></tr>\n",
       "\t<tr><td>GB_GCA_000017965.1</td><td> 96.69</td><td>0.99</td><td>d__Bacteria</td><td>p__Firmicutes   </td><td>c__Bacilli       </td><td>o__Bacillales</td><td>f__Planococcaceae</td><td>g__Lysinibacillus   </td><td>s__Lysinibacillus sphaericus_A</td><td>⋯</td><td>37.13494</td><td>2</td><td>4817463</td><td>2408731</td><td>2</td><td>4639821</td><td>10</td><td>t</td><td>f</td><td>f</td></tr>\n",
       "\t<tr><td>⋮</td><td>⋮</td><td>⋮</td><td>⋮</td><td>⋮</td><td>⋮</td><td>⋮</td><td>⋮</td><td>⋮</td><td>⋮</td><td>⋱</td><td>⋮</td><td>⋮</td><td>⋮</td><td>⋮</td><td>⋮</td><td>⋮</td><td>⋮</td><td>⋮</td><td>⋮</td><td>⋮</td></tr>\n",
       "\t<tr><td>GB_GCA_013329655.1</td><td>95.92</td><td>0</td><td>d__Archaea</td><td>p__Halobacteriota</td><td>c__Methanosarcinia</td><td>o__Methanosarcinales  </td><td>f__Methanosarcinaceae</td><td>g__Methanosarcina</td><td>s__Methanosarcina acetivorans </td><td>⋯</td><td>43.67908</td><td>348</td><td>4257361</td><td>12191</td><td>201</td><td>44973 </td><td>1</td><td>t</td><td>f</td><td>f</td></tr>\n",
       "\t<tr><td>GB_GCA_013330515.1</td><td>98.04</td><td>0</td><td>d__Archaea</td><td>p__Halobacteriota</td><td>c__Methanosarcinia</td><td>o__Methanosarcinales_A</td><td>f__Methermicoccaceae </td><td>g__Methermicoccus</td><td>s__Methermicoccus shengliensis</td><td>⋯</td><td>55.35460</td><td> 35</td><td>1369149</td><td>39023</td><td> 24</td><td>123890</td><td>1</td><td>t</td><td>f</td><td>f</td></tr>\n",
       "</tbody>\n",
       "</table>\n"
      ],
      "text/latex": [
       "A data.table: 9512 × 27\n",
       "\\begin{tabular}{lllllllllllllllllllll}\n",
       " accession & checkm\\_completeness & checkm\\_contamination & Domain & Phylum & Class & Order & Family & Genus & Species & ⋯ & gc\\_percentage & contig\\_count & genome\\_size & mean\\_contig\\_length & scaffold\\_count & ssu\\_contig\\_len & ssu\\_count & mimag\\_high\\_quality & mimag\\_medium\\_quality & mimag\\_low\\_quality\\\\\n",
       " <chr> & <dbl> & <dbl> & <chr> & <chr> & <chr> & <chr> & <chr> & <chr> & <chr> & ⋯ & <dbl> & <int> & <int> & <int> & <int> & <chr> & <int> & <chr> & <chr> & <chr>\\\\\n",
       "\\hline\n",
       "\t GB\\_GCA\\_000015705.1 & 100.00 & 0.14 & d\\_\\_Bacteria & p\\_\\_Cyanobacteria & c\\_\\_Cyanobacteriia & o\\_\\_PCC-6307   & f\\_\\_Cyanobiaceae   & g\\_\\_Prochlorococcus\\_C & s\\_\\_Prochlorococcus\\_C marinus\\_B & ⋯ & 50.00759 & 1 & 2682675 & 2682675 & 1 & 2682675 &  2 & t & f & f\\\\\n",
       "\t GB\\_GCA\\_000017965.1 &  96.69 & 0.99 & d\\_\\_Bacteria & p\\_\\_Firmicutes    & c\\_\\_Bacilli        & o\\_\\_Bacillales & f\\_\\_Planococcaceae & g\\_\\_Lysinibacillus    & s\\_\\_Lysinibacillus sphaericus\\_A & ⋯ & 37.13494 & 2 & 4817463 & 2408731 & 2 & 4639821 & 10 & t & f & f\\\\\n",
       "\t ⋮ & ⋮ & ⋮ & ⋮ & ⋮ & ⋮ & ⋮ & ⋮ & ⋮ & ⋮ & ⋱ & ⋮ & ⋮ & ⋮ & ⋮ & ⋮ & ⋮ & ⋮ & ⋮ & ⋮ & ⋮\\\\\n",
       "\t GB\\_GCA\\_013329655.1 & 95.92 & 0 & d\\_\\_Archaea & p\\_\\_Halobacteriota & c\\_\\_Methanosarcinia & o\\_\\_Methanosarcinales   & f\\_\\_Methanosarcinaceae & g\\_\\_Methanosarcina & s\\_\\_Methanosarcina acetivorans  & ⋯ & 43.67908 & 348 & 4257361 & 12191 & 201 & 44973  & 1 & t & f & f\\\\\n",
       "\t GB\\_GCA\\_013330515.1 & 98.04 & 0 & d\\_\\_Archaea & p\\_\\_Halobacteriota & c\\_\\_Methanosarcinia & o\\_\\_Methanosarcinales\\_A & f\\_\\_Methermicoccaceae  & g\\_\\_Methermicoccus & s\\_\\_Methermicoccus shengliensis & ⋯ & 55.35460 &  35 & 1369149 & 39023 &  24 & 123890 & 1 & t & f & f\\\\\n",
       "\\end{tabular}\n"
      ],
      "text/markdown": [
       "\n",
       "A data.table: 9512 × 27\n",
       "\n",
       "| accession &lt;chr&gt; | checkm_completeness &lt;dbl&gt; | checkm_contamination &lt;dbl&gt; | Domain &lt;chr&gt; | Phylum &lt;chr&gt; | Class &lt;chr&gt; | Order &lt;chr&gt; | Family &lt;chr&gt; | Genus &lt;chr&gt; | Species &lt;chr&gt; | ⋯ ⋯ | gc_percentage &lt;dbl&gt; | contig_count &lt;int&gt; | genome_size &lt;int&gt; | mean_contig_length &lt;int&gt; | scaffold_count &lt;int&gt; | ssu_contig_len &lt;chr&gt; | ssu_count &lt;int&gt; | mimag_high_quality &lt;chr&gt; | mimag_medium_quality &lt;chr&gt; | mimag_low_quality &lt;chr&gt; |\n",
       "|---|---|---|---|---|---|---|---|---|---|---|---|---|---|---|---|---|---|---|---|---|\n",
       "| GB_GCA_000015705.1 | 100.00 | 0.14 | d__Bacteria | p__Cyanobacteria | c__Cyanobacteriia | o__PCC-6307   | f__Cyanobiaceae   | g__Prochlorococcus_C | s__Prochlorococcus_C marinus_B | ⋯ | 50.00759 | 1 | 2682675 | 2682675 | 1 | 2682675 |  2 | t | f | f |\n",
       "| GB_GCA_000017965.1 |  96.69 | 0.99 | d__Bacteria | p__Firmicutes    | c__Bacilli        | o__Bacillales | f__Planococcaceae | g__Lysinibacillus    | s__Lysinibacillus sphaericus_A | ⋯ | 37.13494 | 2 | 4817463 | 2408731 | 2 | 4639821 | 10 | t | f | f |\n",
       "| ⋮ | ⋮ | ⋮ | ⋮ | ⋮ | ⋮ | ⋮ | ⋮ | ⋮ | ⋮ | ⋱ | ⋮ | ⋮ | ⋮ | ⋮ | ⋮ | ⋮ | ⋮ | ⋮ | ⋮ | ⋮ |\n",
       "| GB_GCA_013329655.1 | 95.92 | 0 | d__Archaea | p__Halobacteriota | c__Methanosarcinia | o__Methanosarcinales   | f__Methanosarcinaceae | g__Methanosarcina | s__Methanosarcina acetivorans  | ⋯ | 43.67908 | 348 | 4257361 | 12191 | 201 | 44973  | 1 | t | f | f |\n",
       "| GB_GCA_013330515.1 | 98.04 | 0 | d__Archaea | p__Halobacteriota | c__Methanosarcinia | o__Methanosarcinales_A | f__Methermicoccaceae  | g__Methermicoccus | s__Methermicoccus shengliensis | ⋯ | 55.35460 |  35 | 1369149 | 39023 |  24 | 123890 | 1 | t | f | f |\n",
       "\n"
      ],
      "text/plain": [
       "     accession          checkm_completeness checkm_contamination Domain     \n",
       "1    GB_GCA_000015705.1 100.00              0.14                 d__Bacteria\n",
       "2    GB_GCA_000017965.1  96.69              0.99                 d__Bacteria\n",
       "⋮    ⋮                  ⋮                   ⋮                    ⋮          \n",
       "9511 GB_GCA_013329655.1 95.92               0                    d__Archaea \n",
       "9512 GB_GCA_013330515.1 98.04               0                    d__Archaea \n",
       "     Phylum            Class              Order                 \n",
       "1    p__Cyanobacteria  c__Cyanobacteriia  o__PCC-6307           \n",
       "2    p__Firmicutes     c__Bacilli         o__Bacillales         \n",
       "⋮    ⋮                 ⋮                  ⋮                     \n",
       "9511 p__Halobacteriota c__Methanosarcinia o__Methanosarcinales  \n",
       "9512 p__Halobacteriota c__Methanosarcinia o__Methanosarcinales_A\n",
       "     Family                Genus                Species                       \n",
       "1    f__Cyanobiaceae       g__Prochlorococcus_C s__Prochlorococcus_C marinus_B\n",
       "2    f__Planococcaceae     g__Lysinibacillus    s__Lysinibacillus sphaericus_A\n",
       "⋮    ⋮                     ⋮                    ⋮                             \n",
       "9511 f__Methanosarcinaceae g__Methanosarcina    s__Methanosarcina acetivorans \n",
       "9512 f__Methermicoccaceae  g__Methermicoccus    s__Methermicoccus shengliensis\n",
       "     ⋯ gc_percentage contig_count genome_size mean_contig_length scaffold_count\n",
       "1    ⋯ 50.00759      1            2682675     2682675            1             \n",
       "2    ⋯ 37.13494      2            4817463     2408731            2             \n",
       "⋮    ⋱ ⋮             ⋮            ⋮           ⋮                  ⋮             \n",
       "9511 ⋯ 43.67908      348          4257361     12191              201           \n",
       "9512 ⋯ 55.35460       35          1369149     39023               24           \n",
       "     ssu_contig_len ssu_count mimag_high_quality mimag_medium_quality\n",
       "1    2682675         2        t                  f                   \n",
       "2    4639821        10        t                  f                   \n",
       "⋮    ⋮              ⋮         ⋮                  ⋮                   \n",
       "9511 44973          1         t                  f                   \n",
       "9512 123890         1         t                  f                   \n",
       "     mimag_low_quality\n",
       "1    f                \n",
       "2    f                \n",
       "⋮    ⋮                \n",
       "9511 f                \n",
       "9512 f                "
      ]
     },
     "metadata": {},
     "output_type": "display_data"
    }
   ],
   "source": [
    "r95_meta_ff = r95_meta_f %>%\n",
    "    anti_join(r89_ref, c('Domain', 'Phylum', 'Class', 'Order', 'Family', 'Genus'))\n",
    "r95_meta_ff"
   ]
  },
  {
   "cell_type": "code",
   "execution_count": 24,
   "metadata": {
    "ExecuteTime": {
     "end_time": "2020-10-08T17:53:07.869839Z",
     "start_time": "2020-10-08T17:52:51.234Z"
    }
   },
   "outputs": [
    {
     "data": {
      "text/html": [
       "<table>\n",
       "<caption>A matrix: 1 × 8 of type dbl</caption>\n",
       "<thead>\n",
       "\t<tr><th></th><th scope=col>Min.</th><th scope=col>1st Qu.</th><th scope=col>Median</th><th scope=col>Mean</th><th scope=col>3rd Qu.</th><th scope=col>Max.</th><th scope=col>sd</th><th scope=col>sd_err_of_mean</th></tr>\n",
       "</thead>\n",
       "<tbody>\n",
       "\t<tr><th scope=row>Genomes per species</th><td>1</td><td>1</td><td>1</td><td>2.179652</td><td>2</td><td>302</td><td>122.706</td><td>50.094</td></tr>\n",
       "</tbody>\n",
       "</table>\n"
      ],
      "text/latex": [
       "A matrix: 1 × 8 of type dbl\n",
       "\\begin{tabular}{r|llllllll}\n",
       "  & Min. & 1st Qu. & Median & Mean & 3rd Qu. & Max. & sd & sd\\_err\\_of\\_mean\\\\\n",
       "\\hline\n",
       "\tGenomes per species & 1 & 1 & 1 & 2.179652 & 2 & 302 & 122.706 & 50.094\\\\\n",
       "\\end{tabular}\n"
      ],
      "text/markdown": [
       "\n",
       "A matrix: 1 × 8 of type dbl\n",
       "\n",
       "| <!--/--> | Min. | 1st Qu. | Median | Mean | 3rd Qu. | Max. | sd | sd_err_of_mean |\n",
       "|---|---|---|---|---|---|---|---|---|\n",
       "| Genomes per species | 1 | 1 | 1 | 2.179652 | 2 | 302 | 122.706 | 50.094 |\n",
       "\n"
      ],
      "text/plain": [
       "                    Min. 1st Qu. Median Mean     3rd Qu. Max. sd     \n",
       "Genomes per species 1    1       1      2.179652 2       302  122.706\n",
       "                    sd_err_of_mean\n",
       "Genomes per species 50.094        "
      ]
     },
     "metadata": {},
     "output_type": "display_data"
    }
   ],
   "source": [
    "# number of genomes\n",
    "r95_meta_ff %>%\n",
    "    group_by(Phylum, Class, Order, Family, Genus, Species) %>%\n",
    "    summarize(n = n(), .groups='drop') %>%\n",
    "    .$n %>% summary_x('Genomes per species')"
   ]
  },
  {
   "cell_type": "markdown",
   "metadata": {},
   "source": [
    "### Subsampling to max of 3 per species\n",
    "\n",
    "* reducing biases for certain species"
   ]
  },
  {
   "cell_type": "code",
   "execution_count": 25,
   "metadata": {
    "ExecuteTime": {
     "end_time": "2020-10-08T17:53:07.884523Z",
     "start_time": "2020-10-08T17:52:51.238Z"
    }
   },
   "outputs": [],
   "source": [
    "# cutoff for max number of species\n",
    "n_per_species = 3"
   ]
  },
  {
   "cell_type": "code",
   "execution_count": 26,
   "metadata": {
    "ExecuteTime": {
     "end_time": "2020-10-08T17:53:08.616726Z",
     "start_time": "2020-10-08T17:52:51.244Z"
    }
   },
   "outputs": [
    {
     "data": {
      "text/html": [
       "<table>\n",
       "<caption>A grouped_df: 5562 × 27</caption>\n",
       "<thead>\n",
       "\t<tr><th scope=col>accession</th><th scope=col>Domain</th><th scope=col>Phylum</th><th scope=col>Class</th><th scope=col>Order</th><th scope=col>Family</th><th scope=col>Genus</th><th scope=col>Species</th><th scope=col>checkm_completeness</th><th scope=col>checkm_contamination</th><th scope=col>⋯</th><th scope=col>gc_percentage</th><th scope=col>contig_count</th><th scope=col>genome_size</th><th scope=col>mean_contig_length</th><th scope=col>scaffold_count</th><th scope=col>ssu_contig_len</th><th scope=col>ssu_count</th><th scope=col>mimag_high_quality</th><th scope=col>mimag_medium_quality</th><th scope=col>mimag_low_quality</th></tr>\n",
       "\t<tr><th scope=col>&lt;chr&gt;</th><th scope=col>&lt;chr&gt;</th><th scope=col>&lt;chr&gt;</th><th scope=col>&lt;chr&gt;</th><th scope=col>&lt;chr&gt;</th><th scope=col>&lt;chr&gt;</th><th scope=col>&lt;chr&gt;</th><th scope=col>&lt;chr&gt;</th><th scope=col>&lt;dbl&gt;</th><th scope=col>&lt;dbl&gt;</th><th scope=col>⋯</th><th scope=col>&lt;dbl&gt;</th><th scope=col>&lt;int&gt;</th><th scope=col>&lt;int&gt;</th><th scope=col>&lt;int&gt;</th><th scope=col>&lt;int&gt;</th><th scope=col>&lt;chr&gt;</th><th scope=col>&lt;int&gt;</th><th scope=col>&lt;chr&gt;</th><th scope=col>&lt;chr&gt;</th><th scope=col>&lt;chr&gt;</th></tr>\n",
       "</thead>\n",
       "<tbody>\n",
       "\t<tr><td>RS_GCF_000734035.1</td><td>d__Archaea</td><td>p__Halobacteriota</td><td>c__Archaeoglobi</td><td>o__Archaeoglobales</td><td>f__Archaeoglobaceae</td><td>g__Archaeoglobus</td><td>s__Archaeoglobus fulgidus</td><td>100</td><td>0.65</td><td>⋯</td><td>48.07651</td><td>1</td><td>2316287</td><td>2316287</td><td>1</td><td>2316287</td><td>1</td><td>t</td><td>f</td><td>f</td></tr>\n",
       "\t<tr><td>RS_GCF_000008665.1</td><td>d__Archaea</td><td>p__Halobacteriota</td><td>c__Archaeoglobi</td><td>o__Archaeoglobales</td><td>f__Archaeoglobaceae</td><td>g__Archaeoglobus</td><td>s__Archaeoglobus fulgidus</td><td>100</td><td>0.00</td><td>⋯</td><td>48.58167</td><td>1</td><td>2178400</td><td>2178400</td><td>1</td><td>2178400</td><td>1</td><td>t</td><td>f</td><td>f</td></tr>\n",
       "\t<tr><td>⋮</td><td>⋮</td><td>⋮</td><td>⋮</td><td>⋮</td><td>⋮</td><td>⋮</td><td>⋮</td><td>⋮</td><td>⋮</td><td>⋱</td><td>⋮</td><td>⋮</td><td>⋮</td><td>⋮</td><td>⋮</td><td>⋮</td><td>⋮</td><td>⋮</td><td>⋮</td><td>⋮</td></tr>\n",
       "\t<tr><td>RS_GCF_005780165.1</td><td>d__Bacteria</td><td>p__Verrucomicrobiota  </td><td>c__Verrucomicrobiae</td><td>o__Verrucomicrobiales</td><td>f__Verrucomicrobiaceae</td><td>g__Verrucobacter  </td><td>s__Verrucobacter flavum       </td><td>99.14</td><td>1.36</td><td>⋯</td><td>56.87994</td><td>44</td><td>5910933</td><td>134339</td><td>44</td><td>5415  </td><td>1</td><td>t</td><td>f</td><td>f</td></tr>\n",
       "\t<tr><td>RS_GCF_901000775.1</td><td>d__Bacteria</td><td>p__Verrucomicrobiota_A</td><td>c__Chlamydiia      </td><td>o__Parachlamydiales  </td><td>f__Rhabdochlamydiaceae</td><td>g__Rhabdochlamydia</td><td>s__Rhabdochlamydia sp901000775</td><td>94.59</td><td>0.68</td><td>⋯</td><td>36.15916</td><td>38</td><td>1830543</td><td> 48172</td><td>38</td><td>163199</td><td>2</td><td>t</td><td>f</td><td>f</td></tr>\n",
       "</tbody>\n",
       "</table>\n"
      ],
      "text/latex": [
       "A grouped\\_df: 5562 × 27\n",
       "\\begin{tabular}{lllllllllllllllllllll}\n",
       " accession & Domain & Phylum & Class & Order & Family & Genus & Species & checkm\\_completeness & checkm\\_contamination & ⋯ & gc\\_percentage & contig\\_count & genome\\_size & mean\\_contig\\_length & scaffold\\_count & ssu\\_contig\\_len & ssu\\_count & mimag\\_high\\_quality & mimag\\_medium\\_quality & mimag\\_low\\_quality\\\\\n",
       " <chr> & <chr> & <chr> & <chr> & <chr> & <chr> & <chr> & <chr> & <dbl> & <dbl> & ⋯ & <dbl> & <int> & <int> & <int> & <int> & <chr> & <int> & <chr> & <chr> & <chr>\\\\\n",
       "\\hline\n",
       "\t RS\\_GCF\\_000734035.1 & d\\_\\_Archaea & p\\_\\_Halobacteriota & c\\_\\_Archaeoglobi & o\\_\\_Archaeoglobales & f\\_\\_Archaeoglobaceae & g\\_\\_Archaeoglobus & s\\_\\_Archaeoglobus fulgidus & 100 & 0.65 & ⋯ & 48.07651 & 1 & 2316287 & 2316287 & 1 & 2316287 & 1 & t & f & f\\\\\n",
       "\t RS\\_GCF\\_000008665.1 & d\\_\\_Archaea & p\\_\\_Halobacteriota & c\\_\\_Archaeoglobi & o\\_\\_Archaeoglobales & f\\_\\_Archaeoglobaceae & g\\_\\_Archaeoglobus & s\\_\\_Archaeoglobus fulgidus & 100 & 0.00 & ⋯ & 48.58167 & 1 & 2178400 & 2178400 & 1 & 2178400 & 1 & t & f & f\\\\\n",
       "\t ⋮ & ⋮ & ⋮ & ⋮ & ⋮ & ⋮ & ⋮ & ⋮ & ⋮ & ⋮ & ⋱ & ⋮ & ⋮ & ⋮ & ⋮ & ⋮ & ⋮ & ⋮ & ⋮ & ⋮ & ⋮\\\\\n",
       "\t RS\\_GCF\\_005780165.1 & d\\_\\_Bacteria & p\\_\\_Verrucomicrobiota   & c\\_\\_Verrucomicrobiae & o\\_\\_Verrucomicrobiales & f\\_\\_Verrucomicrobiaceae & g\\_\\_Verrucobacter   & s\\_\\_Verrucobacter flavum        & 99.14 & 1.36 & ⋯ & 56.87994 & 44 & 5910933 & 134339 & 44 & 5415   & 1 & t & f & f\\\\\n",
       "\t RS\\_GCF\\_901000775.1 & d\\_\\_Bacteria & p\\_\\_Verrucomicrobiota\\_A & c\\_\\_Chlamydiia       & o\\_\\_Parachlamydiales   & f\\_\\_Rhabdochlamydiaceae & g\\_\\_Rhabdochlamydia & s\\_\\_Rhabdochlamydia sp901000775 & 94.59 & 0.68 & ⋯ & 36.15916 & 38 & 1830543 &  48172 & 38 & 163199 & 2 & t & f & f\\\\\n",
       "\\end{tabular}\n"
      ],
      "text/markdown": [
       "\n",
       "A grouped_df: 5562 × 27\n",
       "\n",
       "| accession &lt;chr&gt; | Domain &lt;chr&gt; | Phylum &lt;chr&gt; | Class &lt;chr&gt; | Order &lt;chr&gt; | Family &lt;chr&gt; | Genus &lt;chr&gt; | Species &lt;chr&gt; | checkm_completeness &lt;dbl&gt; | checkm_contamination &lt;dbl&gt; | ⋯ ⋯ | gc_percentage &lt;dbl&gt; | contig_count &lt;int&gt; | genome_size &lt;int&gt; | mean_contig_length &lt;int&gt; | scaffold_count &lt;int&gt; | ssu_contig_len &lt;chr&gt; | ssu_count &lt;int&gt; | mimag_high_quality &lt;chr&gt; | mimag_medium_quality &lt;chr&gt; | mimag_low_quality &lt;chr&gt; |\n",
       "|---|---|---|---|---|---|---|---|---|---|---|---|---|---|---|---|---|---|---|---|---|\n",
       "| RS_GCF_000734035.1 | d__Archaea | p__Halobacteriota | c__Archaeoglobi | o__Archaeoglobales | f__Archaeoglobaceae | g__Archaeoglobus | s__Archaeoglobus fulgidus | 100 | 0.65 | ⋯ | 48.07651 | 1 | 2316287 | 2316287 | 1 | 2316287 | 1 | t | f | f |\n",
       "| RS_GCF_000008665.1 | d__Archaea | p__Halobacteriota | c__Archaeoglobi | o__Archaeoglobales | f__Archaeoglobaceae | g__Archaeoglobus | s__Archaeoglobus fulgidus | 100 | 0.00 | ⋯ | 48.58167 | 1 | 2178400 | 2178400 | 1 | 2178400 | 1 | t | f | f |\n",
       "| ⋮ | ⋮ | ⋮ | ⋮ | ⋮ | ⋮ | ⋮ | ⋮ | ⋮ | ⋮ | ⋱ | ⋮ | ⋮ | ⋮ | ⋮ | ⋮ | ⋮ | ⋮ | ⋮ | ⋮ | ⋮ |\n",
       "| RS_GCF_005780165.1 | d__Bacteria | p__Verrucomicrobiota   | c__Verrucomicrobiae | o__Verrucomicrobiales | f__Verrucomicrobiaceae | g__Verrucobacter   | s__Verrucobacter flavum        | 99.14 | 1.36 | ⋯ | 56.87994 | 44 | 5910933 | 134339 | 44 | 5415   | 1 | t | f | f |\n",
       "| RS_GCF_901000775.1 | d__Bacteria | p__Verrucomicrobiota_A | c__Chlamydiia       | o__Parachlamydiales   | f__Rhabdochlamydiaceae | g__Rhabdochlamydia | s__Rhabdochlamydia sp901000775 | 94.59 | 0.68 | ⋯ | 36.15916 | 38 | 1830543 |  48172 | 38 | 163199 | 2 | t | f | f |\n",
       "\n"
      ],
      "text/plain": [
       "     accession          Domain      Phylum                 Class              \n",
       "1    RS_GCF_000734035.1 d__Archaea  p__Halobacteriota      c__Archaeoglobi    \n",
       "2    RS_GCF_000008665.1 d__Archaea  p__Halobacteriota      c__Archaeoglobi    \n",
       "⋮    ⋮                  ⋮           ⋮                      ⋮                  \n",
       "5561 RS_GCF_005780165.1 d__Bacteria p__Verrucomicrobiota   c__Verrucomicrobiae\n",
       "5562 RS_GCF_901000775.1 d__Bacteria p__Verrucomicrobiota_A c__Chlamydiia      \n",
       "     Order                 Family                 Genus             \n",
       "1    o__Archaeoglobales    f__Archaeoglobaceae    g__Archaeoglobus  \n",
       "2    o__Archaeoglobales    f__Archaeoglobaceae    g__Archaeoglobus  \n",
       "⋮    ⋮                     ⋮                      ⋮                 \n",
       "5561 o__Verrucomicrobiales f__Verrucomicrobiaceae g__Verrucobacter  \n",
       "5562 o__Parachlamydiales   f__Rhabdochlamydiaceae g__Rhabdochlamydia\n",
       "     Species                        checkm_completeness checkm_contamination ⋯\n",
       "1    s__Archaeoglobus fulgidus      100                 0.65                 ⋯\n",
       "2    s__Archaeoglobus fulgidus      100                 0.00                 ⋯\n",
       "⋮    ⋮                              ⋮                   ⋮                    ⋱\n",
       "5561 s__Verrucobacter flavum        99.14               1.36                 ⋯\n",
       "5562 s__Rhabdochlamydia sp901000775 94.59               0.68                 ⋯\n",
       "     gc_percentage contig_count genome_size mean_contig_length scaffold_count\n",
       "1    48.07651      1            2316287     2316287            1             \n",
       "2    48.58167      1            2178400     2178400            1             \n",
       "⋮    ⋮             ⋮            ⋮           ⋮                  ⋮             \n",
       "5561 56.87994      44           5910933     134339             44            \n",
       "5562 36.15916      38           1830543      48172             38            \n",
       "     ssu_contig_len ssu_count mimag_high_quality mimag_medium_quality\n",
       "1    2316287        1         t                  f                   \n",
       "2    2178400        1         t                  f                   \n",
       "⋮    ⋮              ⋮         ⋮                  ⋮                   \n",
       "5561 5415           1         t                  f                   \n",
       "5562 163199         2         t                  f                   \n",
       "     mimag_low_quality\n",
       "1    f                \n",
       "2    f                \n",
       "⋮    ⋮                \n",
       "5561 f                \n",
       "5562 f                "
      ]
     },
     "metadata": {},
     "output_type": "display_data"
    }
   ],
   "source": [
    "# filtering\n",
    "r95_meta_ffs = r95_meta_ff %>%\n",
    "    group_by(Domain, Phylum, Class, Order, Family, Genus, Species) %>%\n",
    "    sample_n(n_per_species, replace=TRUE) %>%\n",
    "    distinct(Domain, Phylum, Class, Order, Family, Genus, Species, accession) %>%\n",
    "    inner_join(r95_meta_ff, c(levs, 'accession'))\n",
    "\n",
    "r95_meta_ffs "
   ]
  },
  {
   "cell_type": "code",
   "execution_count": 27,
   "metadata": {
    "ExecuteTime": {
     "end_time": "2020-10-08T17:53:08.883986Z",
     "start_time": "2020-10-08T17:52:51.248Z"
    }
   },
   "outputs": [
    {
     "data": {
      "text/html": [
       "<table>\n",
       "<caption>A matrix: 1 × 8 of type dbl</caption>\n",
       "<thead>\n",
       "\t<tr><th></th><th scope=col>Min.</th><th scope=col>1st Qu.</th><th scope=col>Median</th><th scope=col>Mean</th><th scope=col>3rd Qu.</th><th scope=col>Max.</th><th scope=col>sd</th><th scope=col>sd_err_of_mean</th></tr>\n",
       "</thead>\n",
       "<tbody>\n",
       "\t<tr><th scope=row>Genomes per species</th><td>1</td><td>1</td><td>1</td><td>1.274519</td><td>1</td><td>3</td><td>0.802</td><td>0.327</td></tr>\n",
       "</tbody>\n",
       "</table>\n"
      ],
      "text/latex": [
       "A matrix: 1 × 8 of type dbl\n",
       "\\begin{tabular}{r|llllllll}\n",
       "  & Min. & 1st Qu. & Median & Mean & 3rd Qu. & Max. & sd & sd\\_err\\_of\\_mean\\\\\n",
       "\\hline\n",
       "\tGenomes per species & 1 & 1 & 1 & 1.274519 & 1 & 3 & 0.802 & 0.327\\\\\n",
       "\\end{tabular}\n"
      ],
      "text/markdown": [
       "\n",
       "A matrix: 1 × 8 of type dbl\n",
       "\n",
       "| <!--/--> | Min. | 1st Qu. | Median | Mean | 3rd Qu. | Max. | sd | sd_err_of_mean |\n",
       "|---|---|---|---|---|---|---|---|---|\n",
       "| Genomes per species | 1 | 1 | 1 | 1.274519 | 1 | 3 | 0.802 | 0.327 |\n",
       "\n"
      ],
      "text/plain": [
       "                    Min. 1st Qu. Median Mean     3rd Qu. Max. sd   \n",
       "Genomes per species 1    1       1      1.274519 1       3    0.802\n",
       "                    sd_err_of_mean\n",
       "Genomes per species 0.327         "
      ]
     },
     "metadata": {},
     "output_type": "display_data"
    }
   ],
   "source": [
    "# number of genomes (post-sample)\n",
    "r95_meta_ffs %>%\n",
    "    group_by(Phylum, Class, Order, Family, Genus, Species) %>%\n",
    "    summarize(n = n(), .groups='drop') %>%\n",
    "    .$n %>% summary_x('Genomes per species')"
   ]
  },
  {
   "cell_type": "markdown",
   "metadata": {},
   "source": [
    "### Checking overlap"
   ]
  },
  {
   "cell_type": "code",
   "execution_count": 28,
   "metadata": {
    "ExecuteTime": {
     "end_time": "2020-10-08T17:53:08.979423Z",
     "start_time": "2020-10-08T17:52:51.254Z"
    }
   },
   "outputs": [
    {
     "data": {
      "text/html": [
       "<table>\n",
       "<caption>A grouped_df: 2925 × 140</caption>\n",
       "<thead>\n",
       "\t<tr><th scope=col>accession.x</th><th scope=col>Domain</th><th scope=col>Phylum</th><th scope=col>Class</th><th scope=col>Order.x</th><th scope=col>Family</th><th scope=col>Genus</th><th scope=col>Species.x</th><th scope=col>checkm_completeness.x</th><th scope=col>checkm_contamination.x</th><th scope=col>⋯</th><th scope=col>ssu_silva_blast_evalue</th><th scope=col>ssu_silva_blast_perc_identity</th><th scope=col>ssu_silva_blast_subject_id</th><th scope=col>ssu_silva_taxonomy</th><th scope=col>total_gap_length</th><th scope=col>trna_aa_count</th><th scope=col>trna_count</th><th scope=col>trna_selenocysteine_count</th><th scope=col>fasta_file_path</th><th scope=col>dataset_partition</th></tr>\n",
       "\t<tr><th scope=col>&lt;chr&gt;</th><th scope=col>&lt;chr&gt;</th><th scope=col>&lt;chr&gt;</th><th scope=col>&lt;chr&gt;</th><th scope=col>&lt;chr&gt;</th><th scope=col>&lt;chr&gt;</th><th scope=col>&lt;chr&gt;</th><th scope=col>&lt;chr&gt;</th><th scope=col>&lt;dbl&gt;</th><th scope=col>&lt;dbl&gt;</th><th scope=col>⋯</th><th scope=col>&lt;int&gt;</th><th scope=col>&lt;dbl&gt;</th><th scope=col>&lt;chr&gt;</th><th scope=col>&lt;chr&gt;</th><th scope=col>&lt;int&gt;</th><th scope=col>&lt;int&gt;</th><th scope=col>&lt;int&gt;</th><th scope=col>&lt;int&gt;</th><th scope=col>&lt;chr&gt;</th><th scope=col>&lt;chr&gt;</th></tr>\n",
       "</thead>\n",
       "<tbody>\n",
       "\t<tr><td>RS_GCF_000025665.1</td><td>d__Archaea</td><td>p__Thermoplasmatota</td><td>c__Thermoplasmata</td><td>o__Aciduliprofundales</td><td>f__Aciduliprofundaceae</td><td>g__Aciduliprofundum</td><td>s__Aciduliprofundum boonei</td><td>100</td><td>0</td><td>⋯</td><td>0</td><td> 99.721</td><td>FR865179.1.1436         </td><td>Archaea;Euryarchaeota;Thermoplasmata;Thermoplasmatales;Deep Sea Hydrothermal Vent Gp 2(DHVEG-2);Candidatus Aciduliprofundum;Aciduliprofundum sp. MAR08-368</td><td>0</td><td>20</td><td>46</td><td>0</td><td>/ebio/abt3_projects/databases_no-backup/DeepMAsED/version2/ref_genomes/GTDBr89/genomes_quality/genbank/archaea/GCA_000327505.1/GCA_000327505.1_ASM32750v1_genomic.fna.gz</td><td>Train</td></tr>\n",
       "\t<tr><td>RS_GCF_000025665.1</td><td>d__Archaea</td><td>p__Thermoplasmatota</td><td>c__Thermoplasmata</td><td>o__Aciduliprofundales</td><td>f__Aciduliprofundaceae</td><td>g__Aciduliprofundum</td><td>s__Aciduliprofundum boonei</td><td>100</td><td>0</td><td>⋯</td><td>0</td><td>100.000</td><td>CP001941.1422348.1423820</td><td>Archaea;Euryarchaeota;Thermoplasmata;Thermoplasmatales;Deep Sea Hydrothermal Vent Gp 2(DHVEG-2);Candidatus Aciduliprofundum;Aciduliprofundum boonei T469  </td><td>0</td><td>20</td><td>46</td><td>0</td><td>/ebio/abt3_projects/databases_no-backup/DeepMAsED/version2/ref_genomes/GTDBr89/genomes_quality/genbank/archaea/GCA_000025665.1/GCA_000025665.1_ASM2566v1_genomic.fna.gz </td><td>Test </td></tr>\n",
       "\t<tr><td>⋮</td><td>⋮</td><td>⋮</td><td>⋮</td><td>⋮</td><td>⋮</td><td>⋮</td><td>⋮</td><td>⋮</td><td>⋮</td><td>⋱</td><td>⋮</td><td>⋮</td><td>⋮</td><td>⋮</td><td>⋮</td><td>⋮</td><td>⋮</td><td>⋮</td><td>⋮</td><td>⋮</td></tr>\n",
       "\t<tr><td>RS_GCF_000147075.1</td><td>d__Bacteria</td><td>p__Spirochaetota</td><td>c__Spirochaetia</td><td>o__Spirochaetales_A</td><td>f__Spirochaetaceae_A</td><td>g__Spirochaeta_A</td><td>s__Spirochaeta_A thermophila_A</td><td>100</td><td>0</td><td>⋯</td><td>0</td><td>100.000</td><td>CP002903.662531.664064</td><td>Bacteria;Spirochaetae;Spirochaetes;Spirochaetales;Spirochaetaceae;Spirochaeta 2;Spirochaeta thermophila DSM 6578</td><td>0</td><td>20</td><td>46</td><td>0</td><td>/ebio/abt3_projects/databases_no-backup/DeepMAsED/version2/ref_genomes/GTDBr89/genomes_quality/genbank/bacteria/GCA_000184345.2/GCA_000184345.2_ASM18434v2_genomic.fna.gz</td><td>Test</td></tr>\n",
       "\t<tr><td>RS_GCF_000147075.1</td><td>d__Bacteria</td><td>p__Spirochaetota</td><td>c__Spirochaetia</td><td>o__Spirochaetales_A</td><td>f__Spirochaetaceae_A</td><td>g__Spirochaeta_A</td><td>s__Spirochaeta_A thermophila_A</td><td>100</td><td>0</td><td>⋯</td><td>0</td><td> 99.153</td><td>CP002903.662531.664064</td><td>Bacteria;Spirochaetae;Spirochaetes;Spirochaetales;Spirochaetaceae;Spirochaeta 2;Spirochaeta thermophila DSM 6578</td><td>0</td><td>20</td><td>46</td><td>0</td><td>/ebio/abt3_projects/databases_no-backup/DeepMAsED/version2/ref_genomes/GTDBr89/genomes_quality/genbank/bacteria/GCA_000147075.1/GCA_000147075.1_ASM14707v1_genomic.fna.gz</td><td>Test</td></tr>\n",
       "</tbody>\n",
       "</table>\n"
      ],
      "text/latex": [
       "A grouped\\_df: 2925 × 140\n",
       "\\begin{tabular}{lllllllllllllllllllll}\n",
       " accession.x & Domain & Phylum & Class & Order.x & Family & Genus & Species.x & checkm\\_completeness.x & checkm\\_contamination.x & ⋯ & ssu\\_silva\\_blast\\_evalue & ssu\\_silva\\_blast\\_perc\\_identity & ssu\\_silva\\_blast\\_subject\\_id & ssu\\_silva\\_taxonomy & total\\_gap\\_length & trna\\_aa\\_count & trna\\_count & trna\\_selenocysteine\\_count & fasta\\_file\\_path & dataset\\_partition\\\\\n",
       " <chr> & <chr> & <chr> & <chr> & <chr> & <chr> & <chr> & <chr> & <dbl> & <dbl> & ⋯ & <int> & <dbl> & <chr> & <chr> & <int> & <int> & <int> & <int> & <chr> & <chr>\\\\\n",
       "\\hline\n",
       "\t RS\\_GCF\\_000025665.1 & d\\_\\_Archaea & p\\_\\_Thermoplasmatota & c\\_\\_Thermoplasmata & o\\_\\_Aciduliprofundales & f\\_\\_Aciduliprofundaceae & g\\_\\_Aciduliprofundum & s\\_\\_Aciduliprofundum boonei & 100 & 0 & ⋯ & 0 &  99.721 & FR865179.1.1436          & Archaea;Euryarchaeota;Thermoplasmata;Thermoplasmatales;Deep Sea Hydrothermal Vent Gp 2(DHVEG-2);Candidatus Aciduliprofundum;Aciduliprofundum sp. MAR08-368 & 0 & 20 & 46 & 0 & /ebio/abt3\\_projects/databases\\_no-backup/DeepMAsED/version2/ref\\_genomes/GTDBr89/genomes\\_quality/genbank/archaea/GCA\\_000327505.1/GCA\\_000327505.1\\_ASM32750v1\\_genomic.fna.gz & Train\\\\\n",
       "\t RS\\_GCF\\_000025665.1 & d\\_\\_Archaea & p\\_\\_Thermoplasmatota & c\\_\\_Thermoplasmata & o\\_\\_Aciduliprofundales & f\\_\\_Aciduliprofundaceae & g\\_\\_Aciduliprofundum & s\\_\\_Aciduliprofundum boonei & 100 & 0 & ⋯ & 0 & 100.000 & CP001941.1422348.1423820 & Archaea;Euryarchaeota;Thermoplasmata;Thermoplasmatales;Deep Sea Hydrothermal Vent Gp 2(DHVEG-2);Candidatus Aciduliprofundum;Aciduliprofundum boonei T469   & 0 & 20 & 46 & 0 & /ebio/abt3\\_projects/databases\\_no-backup/DeepMAsED/version2/ref\\_genomes/GTDBr89/genomes\\_quality/genbank/archaea/GCA\\_000025665.1/GCA\\_000025665.1\\_ASM2566v1\\_genomic.fna.gz  & Test \\\\\n",
       "\t ⋮ & ⋮ & ⋮ & ⋮ & ⋮ & ⋮ & ⋮ & ⋮ & ⋮ & ⋮ & ⋱ & ⋮ & ⋮ & ⋮ & ⋮ & ⋮ & ⋮ & ⋮ & ⋮ & ⋮ & ⋮\\\\\n",
       "\t RS\\_GCF\\_000147075.1 & d\\_\\_Bacteria & p\\_\\_Spirochaetota & c\\_\\_Spirochaetia & o\\_\\_Spirochaetales\\_A & f\\_\\_Spirochaetaceae\\_A & g\\_\\_Spirochaeta\\_A & s\\_\\_Spirochaeta\\_A thermophila\\_A & 100 & 0 & ⋯ & 0 & 100.000 & CP002903.662531.664064 & Bacteria;Spirochaetae;Spirochaetes;Spirochaetales;Spirochaetaceae;Spirochaeta 2;Spirochaeta thermophila DSM 6578 & 0 & 20 & 46 & 0 & /ebio/abt3\\_projects/databases\\_no-backup/DeepMAsED/version2/ref\\_genomes/GTDBr89/genomes\\_quality/genbank/bacteria/GCA\\_000184345.2/GCA\\_000184345.2\\_ASM18434v2\\_genomic.fna.gz & Test\\\\\n",
       "\t RS\\_GCF\\_000147075.1 & d\\_\\_Bacteria & p\\_\\_Spirochaetota & c\\_\\_Spirochaetia & o\\_\\_Spirochaetales\\_A & f\\_\\_Spirochaetaceae\\_A & g\\_\\_Spirochaeta\\_A & s\\_\\_Spirochaeta\\_A thermophila\\_A & 100 & 0 & ⋯ & 0 &  99.153 & CP002903.662531.664064 & Bacteria;Spirochaetae;Spirochaetes;Spirochaetales;Spirochaetaceae;Spirochaeta 2;Spirochaeta thermophila DSM 6578 & 0 & 20 & 46 & 0 & /ebio/abt3\\_projects/databases\\_no-backup/DeepMAsED/version2/ref\\_genomes/GTDBr89/genomes\\_quality/genbank/bacteria/GCA\\_000147075.1/GCA\\_000147075.1\\_ASM14707v1\\_genomic.fna.gz & Test\\\\\n",
       "\\end{tabular}\n"
      ],
      "text/markdown": [
       "\n",
       "A grouped_df: 2925 × 140\n",
       "\n",
       "| accession.x &lt;chr&gt; | Domain &lt;chr&gt; | Phylum &lt;chr&gt; | Class &lt;chr&gt; | Order.x &lt;chr&gt; | Family &lt;chr&gt; | Genus &lt;chr&gt; | Species.x &lt;chr&gt; | checkm_completeness.x &lt;dbl&gt; | checkm_contamination.x &lt;dbl&gt; | ⋯ ⋯ | ssu_silva_blast_evalue &lt;int&gt; | ssu_silva_blast_perc_identity &lt;dbl&gt; | ssu_silva_blast_subject_id &lt;chr&gt; | ssu_silva_taxonomy &lt;chr&gt; | total_gap_length &lt;int&gt; | trna_aa_count &lt;int&gt; | trna_count &lt;int&gt; | trna_selenocysteine_count &lt;int&gt; | fasta_file_path &lt;chr&gt; | dataset_partition &lt;chr&gt; |\n",
       "|---|---|---|---|---|---|---|---|---|---|---|---|---|---|---|---|---|---|---|---|---|\n",
       "| RS_GCF_000025665.1 | d__Archaea | p__Thermoplasmatota | c__Thermoplasmata | o__Aciduliprofundales | f__Aciduliprofundaceae | g__Aciduliprofundum | s__Aciduliprofundum boonei | 100 | 0 | ⋯ | 0 |  99.721 | FR865179.1.1436          | Archaea;Euryarchaeota;Thermoplasmata;Thermoplasmatales;Deep Sea Hydrothermal Vent Gp 2(DHVEG-2);Candidatus Aciduliprofundum;Aciduliprofundum sp. MAR08-368 | 0 | 20 | 46 | 0 | /ebio/abt3_projects/databases_no-backup/DeepMAsED/version2/ref_genomes/GTDBr89/genomes_quality/genbank/archaea/GCA_000327505.1/GCA_000327505.1_ASM32750v1_genomic.fna.gz | Train |\n",
       "| RS_GCF_000025665.1 | d__Archaea | p__Thermoplasmatota | c__Thermoplasmata | o__Aciduliprofundales | f__Aciduliprofundaceae | g__Aciduliprofundum | s__Aciduliprofundum boonei | 100 | 0 | ⋯ | 0 | 100.000 | CP001941.1422348.1423820 | Archaea;Euryarchaeota;Thermoplasmata;Thermoplasmatales;Deep Sea Hydrothermal Vent Gp 2(DHVEG-2);Candidatus Aciduliprofundum;Aciduliprofundum boonei T469   | 0 | 20 | 46 | 0 | /ebio/abt3_projects/databases_no-backup/DeepMAsED/version2/ref_genomes/GTDBr89/genomes_quality/genbank/archaea/GCA_000025665.1/GCA_000025665.1_ASM2566v1_genomic.fna.gz  | Test  |\n",
       "| ⋮ | ⋮ | ⋮ | ⋮ | ⋮ | ⋮ | ⋮ | ⋮ | ⋮ | ⋮ | ⋱ | ⋮ | ⋮ | ⋮ | ⋮ | ⋮ | ⋮ | ⋮ | ⋮ | ⋮ | ⋮ |\n",
       "| RS_GCF_000147075.1 | d__Bacteria | p__Spirochaetota | c__Spirochaetia | o__Spirochaetales_A | f__Spirochaetaceae_A | g__Spirochaeta_A | s__Spirochaeta_A thermophila_A | 100 | 0 | ⋯ | 0 | 100.000 | CP002903.662531.664064 | Bacteria;Spirochaetae;Spirochaetes;Spirochaetales;Spirochaetaceae;Spirochaeta 2;Spirochaeta thermophila DSM 6578 | 0 | 20 | 46 | 0 | /ebio/abt3_projects/databases_no-backup/DeepMAsED/version2/ref_genomes/GTDBr89/genomes_quality/genbank/bacteria/GCA_000184345.2/GCA_000184345.2_ASM18434v2_genomic.fna.gz | Test |\n",
       "| RS_GCF_000147075.1 | d__Bacteria | p__Spirochaetota | c__Spirochaetia | o__Spirochaetales_A | f__Spirochaetaceae_A | g__Spirochaeta_A | s__Spirochaeta_A thermophila_A | 100 | 0 | ⋯ | 0 |  99.153 | CP002903.662531.664064 | Bacteria;Spirochaetae;Spirochaetes;Spirochaetales;Spirochaetaceae;Spirochaeta 2;Spirochaeta thermophila DSM 6578 | 0 | 20 | 46 | 0 | /ebio/abt3_projects/databases_no-backup/DeepMAsED/version2/ref_genomes/GTDBr89/genomes_quality/genbank/bacteria/GCA_000147075.1/GCA_000147075.1_ASM14707v1_genomic.fna.gz | Test |\n",
       "\n"
      ],
      "text/plain": [
       "     accession.x        Domain      Phylum              Class            \n",
       "1    RS_GCF_000025665.1 d__Archaea  p__Thermoplasmatota c__Thermoplasmata\n",
       "2    RS_GCF_000025665.1 d__Archaea  p__Thermoplasmatota c__Thermoplasmata\n",
       "⋮    ⋮                  ⋮           ⋮                   ⋮                \n",
       "2924 RS_GCF_000147075.1 d__Bacteria p__Spirochaetota    c__Spirochaetia  \n",
       "2925 RS_GCF_000147075.1 d__Bacteria p__Spirochaetota    c__Spirochaetia  \n",
       "     Order.x               Family                 Genus              \n",
       "1    o__Aciduliprofundales f__Aciduliprofundaceae g__Aciduliprofundum\n",
       "2    o__Aciduliprofundales f__Aciduliprofundaceae g__Aciduliprofundum\n",
       "⋮    ⋮                     ⋮                      ⋮                  \n",
       "2924 o__Spirochaetales_A   f__Spirochaetaceae_A   g__Spirochaeta_A   \n",
       "2925 o__Spirochaetales_A   f__Spirochaetaceae_A   g__Spirochaeta_A   \n",
       "     Species.x                      checkm_completeness.x\n",
       "1    s__Aciduliprofundum boonei     100                  \n",
       "2    s__Aciduliprofundum boonei     100                  \n",
       "⋮    ⋮                              ⋮                    \n",
       "2924 s__Spirochaeta_A thermophila_A 100                  \n",
       "2925 s__Spirochaeta_A thermophila_A 100                  \n",
       "     checkm_contamination.x ⋯ ssu_silva_blast_evalue\n",
       "1    0                      ⋯ 0                     \n",
       "2    0                      ⋯ 0                     \n",
       "⋮    ⋮                      ⋱ ⋮                     \n",
       "2924 0                      ⋯ 0                     \n",
       "2925 0                      ⋯ 0                     \n",
       "     ssu_silva_blast_perc_identity ssu_silva_blast_subject_id\n",
       "1     99.721                       FR865179.1.1436           \n",
       "2    100.000                       CP001941.1422348.1423820  \n",
       "⋮    ⋮                             ⋮                         \n",
       "2924 100.000                       CP002903.662531.664064    \n",
       "2925  99.153                       CP002903.662531.664064    \n",
       "     ssu_silva_taxonomy                                                                                                                                        \n",
       "1    Archaea;Euryarchaeota;Thermoplasmata;Thermoplasmatales;Deep Sea Hydrothermal Vent Gp 2(DHVEG-2);Candidatus Aciduliprofundum;Aciduliprofundum sp. MAR08-368\n",
       "2    Archaea;Euryarchaeota;Thermoplasmata;Thermoplasmatales;Deep Sea Hydrothermal Vent Gp 2(DHVEG-2);Candidatus Aciduliprofundum;Aciduliprofundum boonei T469  \n",
       "⋮    ⋮                                                                                                                                                         \n",
       "2924 Bacteria;Spirochaetae;Spirochaetes;Spirochaetales;Spirochaetaceae;Spirochaeta 2;Spirochaeta thermophila DSM 6578                                          \n",
       "2925 Bacteria;Spirochaetae;Spirochaetes;Spirochaetales;Spirochaetaceae;Spirochaeta 2;Spirochaeta thermophila DSM 6578                                          \n",
       "     total_gap_length trna_aa_count trna_count trna_selenocysteine_count\n",
       "1    0                20            46         0                        \n",
       "2    0                20            46         0                        \n",
       "⋮    ⋮                ⋮             ⋮          ⋮                        \n",
       "2924 0                20            46         0                        \n",
       "2925 0                20            46         0                        \n",
       "     fasta_file_path                                                                                                                                                          \n",
       "1    /ebio/abt3_projects/databases_no-backup/DeepMAsED/version2/ref_genomes/GTDBr89/genomes_quality/genbank/archaea/GCA_000327505.1/GCA_000327505.1_ASM32750v1_genomic.fna.gz \n",
       "2    /ebio/abt3_projects/databases_no-backup/DeepMAsED/version2/ref_genomes/GTDBr89/genomes_quality/genbank/archaea/GCA_000025665.1/GCA_000025665.1_ASM2566v1_genomic.fna.gz  \n",
       "⋮    ⋮                                                                                                                                                                        \n",
       "2924 /ebio/abt3_projects/databases_no-backup/DeepMAsED/version2/ref_genomes/GTDBr89/genomes_quality/genbank/bacteria/GCA_000184345.2/GCA_000184345.2_ASM18434v2_genomic.fna.gz\n",
       "2925 /ebio/abt3_projects/databases_no-backup/DeepMAsED/version2/ref_genomes/GTDBr89/genomes_quality/genbank/bacteria/GCA_000147075.1/GCA_000147075.1_ASM14707v1_genomic.fna.gz\n",
       "     dataset_partition\n",
       "1    Train            \n",
       "2    Test             \n",
       "⋮    ⋮                \n",
       "2924 Test             \n",
       "2925 Test             "
      ]
     },
     "metadata": {},
     "output_type": "display_data"
    }
   ],
   "source": [
    "r95_meta_ffs %>%\n",
    "    inner_join(r89_ref, c('Domain', 'Phylum', 'Class', 'Family', 'Genus'))"
   ]
  },
  {
   "cell_type": "markdown",
   "metadata": {
    "ExecuteTime": {
     "end_time": "2020-10-08T11:07:53.337647Z",
     "start_time": "2020-10-08T11:07:53.269Z"
    }
   },
   "source": [
    "### Writing metadata"
   ]
  },
  {
   "cell_type": "code",
   "execution_count": 29,
   "metadata": {
    "ExecuteTime": {
     "end_time": "2020-10-08T17:53:09.112953Z",
     "start_time": "2020-10-08T17:52:51.259Z"
    }
   },
   "outputs": [
    {
     "name": "stdout",
     "output_type": "stream",
     "text": [
      "File written: /ebio/abt3_projects/databases_no-backup/DeepMAsED/version2/ref_genomes/GTDBr95//metadata_quality_novel-genus.tsv \n"
     ]
    }
   ],
   "source": [
    "outF = file.path(r95_work_dir, 'metadata_quality_novel-genus.tsv')\n",
    "write_table(r95_meta_ffs, file=outF)"
   ]
  },
  {
   "cell_type": "markdown",
   "metadata": {},
   "source": [
    "## Novel at family level"
   ]
  },
  {
   "cell_type": "code",
   "execution_count": 30,
   "metadata": {
    "ExecuteTime": {
     "end_time": "2020-10-08T17:53:09.173622Z",
     "start_time": "2020-10-08T17:52:51.265Z"
    }
   },
   "outputs": [
    {
     "data": {
      "text/html": [
       "<table>\n",
       "<caption>A data.table: 6894 × 27</caption>\n",
       "<thead>\n",
       "\t<tr><th scope=col>accession</th><th scope=col>checkm_completeness</th><th scope=col>checkm_contamination</th><th scope=col>Domain</th><th scope=col>Phylum</th><th scope=col>Class</th><th scope=col>Order</th><th scope=col>Family</th><th scope=col>Genus</th><th scope=col>Species</th><th scope=col>⋯</th><th scope=col>gc_percentage</th><th scope=col>contig_count</th><th scope=col>genome_size</th><th scope=col>mean_contig_length</th><th scope=col>scaffold_count</th><th scope=col>ssu_contig_len</th><th scope=col>ssu_count</th><th scope=col>mimag_high_quality</th><th scope=col>mimag_medium_quality</th><th scope=col>mimag_low_quality</th></tr>\n",
       "\t<tr><th scope=col>&lt;chr&gt;</th><th scope=col>&lt;dbl&gt;</th><th scope=col>&lt;dbl&gt;</th><th scope=col>&lt;chr&gt;</th><th scope=col>&lt;chr&gt;</th><th scope=col>&lt;chr&gt;</th><th scope=col>&lt;chr&gt;</th><th scope=col>&lt;chr&gt;</th><th scope=col>&lt;chr&gt;</th><th scope=col>&lt;chr&gt;</th><th scope=col>⋯</th><th scope=col>&lt;dbl&gt;</th><th scope=col>&lt;int&gt;</th><th scope=col>&lt;int&gt;</th><th scope=col>&lt;int&gt;</th><th scope=col>&lt;int&gt;</th><th scope=col>&lt;chr&gt;</th><th scope=col>&lt;int&gt;</th><th scope=col>&lt;chr&gt;</th><th scope=col>&lt;chr&gt;</th><th scope=col>&lt;chr&gt;</th></tr>\n",
       "</thead>\n",
       "<tbody>\n",
       "\t<tr><td>GB_GCA_000015705.1</td><td>100.00</td><td>0.14</td><td>d__Bacteria</td><td>p__Cyanobacteria</td><td>c__Cyanobacteriia</td><td>o__PCC-6307  </td><td>f__Cyanobiaceae  </td><td>g__Prochlorococcus_C</td><td>s__Prochlorococcus_C marinus_B</td><td>⋯</td><td>50.00759</td><td>1</td><td>2682675</td><td>2682675</td><td>1</td><td>2682675</td><td> 2</td><td>t</td><td>f</td><td>f</td></tr>\n",
       "\t<tr><td>GB_GCA_000017965.1</td><td> 96.69</td><td>0.99</td><td>d__Bacteria</td><td>p__Firmicutes   </td><td>c__Bacilli       </td><td>o__Bacillales</td><td>f__Planococcaceae</td><td>g__Lysinibacillus   </td><td>s__Lysinibacillus sphaericus_A</td><td>⋯</td><td>37.13494</td><td>2</td><td>4817463</td><td>2408731</td><td>2</td><td>4639821</td><td>10</td><td>t</td><td>f</td><td>f</td></tr>\n",
       "\t<tr><td>⋮</td><td>⋮</td><td>⋮</td><td>⋮</td><td>⋮</td><td>⋮</td><td>⋮</td><td>⋮</td><td>⋮</td><td>⋮</td><td>⋱</td><td>⋮</td><td>⋮</td><td>⋮</td><td>⋮</td><td>⋮</td><td>⋮</td><td>⋮</td><td>⋮</td><td>⋮</td><td>⋮</td></tr>\n",
       "\t<tr><td>GB_GCA_013329655.1</td><td>95.92</td><td>0</td><td>d__Archaea</td><td>p__Halobacteriota</td><td>c__Methanosarcinia</td><td>o__Methanosarcinales  </td><td>f__Methanosarcinaceae</td><td>g__Methanosarcina</td><td>s__Methanosarcina acetivorans </td><td>⋯</td><td>43.67908</td><td>348</td><td>4257361</td><td>12191</td><td>201</td><td>44973 </td><td>1</td><td>t</td><td>f</td><td>f</td></tr>\n",
       "\t<tr><td>GB_GCA_013330515.1</td><td>98.04</td><td>0</td><td>d__Archaea</td><td>p__Halobacteriota</td><td>c__Methanosarcinia</td><td>o__Methanosarcinales_A</td><td>f__Methermicoccaceae </td><td>g__Methermicoccus</td><td>s__Methermicoccus shengliensis</td><td>⋯</td><td>55.35460</td><td> 35</td><td>1369149</td><td>39023</td><td> 24</td><td>123890</td><td>1</td><td>t</td><td>f</td><td>f</td></tr>\n",
       "</tbody>\n",
       "</table>\n"
      ],
      "text/latex": [
       "A data.table: 6894 × 27\n",
       "\\begin{tabular}{lllllllllllllllllllll}\n",
       " accession & checkm\\_completeness & checkm\\_contamination & Domain & Phylum & Class & Order & Family & Genus & Species & ⋯ & gc\\_percentage & contig\\_count & genome\\_size & mean\\_contig\\_length & scaffold\\_count & ssu\\_contig\\_len & ssu\\_count & mimag\\_high\\_quality & mimag\\_medium\\_quality & mimag\\_low\\_quality\\\\\n",
       " <chr> & <dbl> & <dbl> & <chr> & <chr> & <chr> & <chr> & <chr> & <chr> & <chr> & ⋯ & <dbl> & <int> & <int> & <int> & <int> & <chr> & <int> & <chr> & <chr> & <chr>\\\\\n",
       "\\hline\n",
       "\t GB\\_GCA\\_000015705.1 & 100.00 & 0.14 & d\\_\\_Bacteria & p\\_\\_Cyanobacteria & c\\_\\_Cyanobacteriia & o\\_\\_PCC-6307   & f\\_\\_Cyanobiaceae   & g\\_\\_Prochlorococcus\\_C & s\\_\\_Prochlorococcus\\_C marinus\\_B & ⋯ & 50.00759 & 1 & 2682675 & 2682675 & 1 & 2682675 &  2 & t & f & f\\\\\n",
       "\t GB\\_GCA\\_000017965.1 &  96.69 & 0.99 & d\\_\\_Bacteria & p\\_\\_Firmicutes    & c\\_\\_Bacilli        & o\\_\\_Bacillales & f\\_\\_Planococcaceae & g\\_\\_Lysinibacillus    & s\\_\\_Lysinibacillus sphaericus\\_A & ⋯ & 37.13494 & 2 & 4817463 & 2408731 & 2 & 4639821 & 10 & t & f & f\\\\\n",
       "\t ⋮ & ⋮ & ⋮ & ⋮ & ⋮ & ⋮ & ⋮ & ⋮ & ⋮ & ⋮ & ⋱ & ⋮ & ⋮ & ⋮ & ⋮ & ⋮ & ⋮ & ⋮ & ⋮ & ⋮ & ⋮\\\\\n",
       "\t GB\\_GCA\\_013329655.1 & 95.92 & 0 & d\\_\\_Archaea & p\\_\\_Halobacteriota & c\\_\\_Methanosarcinia & o\\_\\_Methanosarcinales   & f\\_\\_Methanosarcinaceae & g\\_\\_Methanosarcina & s\\_\\_Methanosarcina acetivorans  & ⋯ & 43.67908 & 348 & 4257361 & 12191 & 201 & 44973  & 1 & t & f & f\\\\\n",
       "\t GB\\_GCA\\_013330515.1 & 98.04 & 0 & d\\_\\_Archaea & p\\_\\_Halobacteriota & c\\_\\_Methanosarcinia & o\\_\\_Methanosarcinales\\_A & f\\_\\_Methermicoccaceae  & g\\_\\_Methermicoccus & s\\_\\_Methermicoccus shengliensis & ⋯ & 55.35460 &  35 & 1369149 & 39023 &  24 & 123890 & 1 & t & f & f\\\\\n",
       "\\end{tabular}\n"
      ],
      "text/markdown": [
       "\n",
       "A data.table: 6894 × 27\n",
       "\n",
       "| accession &lt;chr&gt; | checkm_completeness &lt;dbl&gt; | checkm_contamination &lt;dbl&gt; | Domain &lt;chr&gt; | Phylum &lt;chr&gt; | Class &lt;chr&gt; | Order &lt;chr&gt; | Family &lt;chr&gt; | Genus &lt;chr&gt; | Species &lt;chr&gt; | ⋯ ⋯ | gc_percentage &lt;dbl&gt; | contig_count &lt;int&gt; | genome_size &lt;int&gt; | mean_contig_length &lt;int&gt; | scaffold_count &lt;int&gt; | ssu_contig_len &lt;chr&gt; | ssu_count &lt;int&gt; | mimag_high_quality &lt;chr&gt; | mimag_medium_quality &lt;chr&gt; | mimag_low_quality &lt;chr&gt; |\n",
       "|---|---|---|---|---|---|---|---|---|---|---|---|---|---|---|---|---|---|---|---|---|\n",
       "| GB_GCA_000015705.1 | 100.00 | 0.14 | d__Bacteria | p__Cyanobacteria | c__Cyanobacteriia | o__PCC-6307   | f__Cyanobiaceae   | g__Prochlorococcus_C | s__Prochlorococcus_C marinus_B | ⋯ | 50.00759 | 1 | 2682675 | 2682675 | 1 | 2682675 |  2 | t | f | f |\n",
       "| GB_GCA_000017965.1 |  96.69 | 0.99 | d__Bacteria | p__Firmicutes    | c__Bacilli        | o__Bacillales | f__Planococcaceae | g__Lysinibacillus    | s__Lysinibacillus sphaericus_A | ⋯ | 37.13494 | 2 | 4817463 | 2408731 | 2 | 4639821 | 10 | t | f | f |\n",
       "| ⋮ | ⋮ | ⋮ | ⋮ | ⋮ | ⋮ | ⋮ | ⋮ | ⋮ | ⋮ | ⋱ | ⋮ | ⋮ | ⋮ | ⋮ | ⋮ | ⋮ | ⋮ | ⋮ | ⋮ | ⋮ |\n",
       "| GB_GCA_013329655.1 | 95.92 | 0 | d__Archaea | p__Halobacteriota | c__Methanosarcinia | o__Methanosarcinales   | f__Methanosarcinaceae | g__Methanosarcina | s__Methanosarcina acetivorans  | ⋯ | 43.67908 | 348 | 4257361 | 12191 | 201 | 44973  | 1 | t | f | f |\n",
       "| GB_GCA_013330515.1 | 98.04 | 0 | d__Archaea | p__Halobacteriota | c__Methanosarcinia | o__Methanosarcinales_A | f__Methermicoccaceae  | g__Methermicoccus | s__Methermicoccus shengliensis | ⋯ | 55.35460 |  35 | 1369149 | 39023 |  24 | 123890 | 1 | t | f | f |\n",
       "\n"
      ],
      "text/plain": [
       "     accession          checkm_completeness checkm_contamination Domain     \n",
       "1    GB_GCA_000015705.1 100.00              0.14                 d__Bacteria\n",
       "2    GB_GCA_000017965.1  96.69              0.99                 d__Bacteria\n",
       "⋮    ⋮                  ⋮                   ⋮                    ⋮          \n",
       "6893 GB_GCA_013329655.1 95.92               0                    d__Archaea \n",
       "6894 GB_GCA_013330515.1 98.04               0                    d__Archaea \n",
       "     Phylum            Class              Order                 \n",
       "1    p__Cyanobacteria  c__Cyanobacteriia  o__PCC-6307           \n",
       "2    p__Firmicutes     c__Bacilli         o__Bacillales         \n",
       "⋮    ⋮                 ⋮                  ⋮                     \n",
       "6893 p__Halobacteriota c__Methanosarcinia o__Methanosarcinales  \n",
       "6894 p__Halobacteriota c__Methanosarcinia o__Methanosarcinales_A\n",
       "     Family                Genus                Species                       \n",
       "1    f__Cyanobiaceae       g__Prochlorococcus_C s__Prochlorococcus_C marinus_B\n",
       "2    f__Planococcaceae     g__Lysinibacillus    s__Lysinibacillus sphaericus_A\n",
       "⋮    ⋮                     ⋮                    ⋮                             \n",
       "6893 f__Methanosarcinaceae g__Methanosarcina    s__Methanosarcina acetivorans \n",
       "6894 f__Methermicoccaceae  g__Methermicoccus    s__Methermicoccus shengliensis\n",
       "     ⋯ gc_percentage contig_count genome_size mean_contig_length scaffold_count\n",
       "1    ⋯ 50.00759      1            2682675     2682675            1             \n",
       "2    ⋯ 37.13494      2            4817463     2408731            2             \n",
       "⋮    ⋱ ⋮             ⋮            ⋮           ⋮                  ⋮             \n",
       "6893 ⋯ 43.67908      348          4257361     12191              201           \n",
       "6894 ⋯ 55.35460       35          1369149     39023               24           \n",
       "     ssu_contig_len ssu_count mimag_high_quality mimag_medium_quality\n",
       "1    2682675         2        t                  f                   \n",
       "2    4639821        10        t                  f                   \n",
       "⋮    ⋮              ⋮         ⋮                  ⋮                   \n",
       "6893 44973          1         t                  f                   \n",
       "6894 123890         1         t                  f                   \n",
       "     mimag_low_quality\n",
       "1    f                \n",
       "2    f                \n",
       "⋮    ⋮                \n",
       "6893 f                \n",
       "6894 f                "
      ]
     },
     "metadata": {},
     "output_type": "display_data"
    }
   ],
   "source": [
    "r95_meta_ff = r95_meta_f %>%\n",
    "    anti_join(r89_ref, c('Domain', 'Phylum', 'Class', 'Order', 'Family'))\n",
    "r95_meta_ff"
   ]
  },
  {
   "cell_type": "code",
   "execution_count": 31,
   "metadata": {
    "ExecuteTime": {
     "end_time": "2020-10-08T17:53:09.276399Z",
     "start_time": "2020-10-08T17:52:51.269Z"
    }
   },
   "outputs": [
    {
     "data": {
      "text/html": [
       "<table>\n",
       "<caption>A matrix: 1 × 8 of type dbl</caption>\n",
       "<thead>\n",
       "\t<tr><th></th><th scope=col>Min.</th><th scope=col>1st Qu.</th><th scope=col>Median</th><th scope=col>Mean</th><th scope=col>3rd Qu.</th><th scope=col>Max.</th><th scope=col>sd</th><th scope=col>sd_err_of_mean</th></tr>\n",
       "</thead>\n",
       "<tbody>\n",
       "\t<tr><th scope=row>Genomes per species</th><td>1</td><td>1</td><td>1</td><td>2.053008</td><td>2</td><td>241</td><td>97.813</td><td>39.932</td></tr>\n",
       "</tbody>\n",
       "</table>\n"
      ],
      "text/latex": [
       "A matrix: 1 × 8 of type dbl\n",
       "\\begin{tabular}{r|llllllll}\n",
       "  & Min. & 1st Qu. & Median & Mean & 3rd Qu. & Max. & sd & sd\\_err\\_of\\_mean\\\\\n",
       "\\hline\n",
       "\tGenomes per species & 1 & 1 & 1 & 2.053008 & 2 & 241 & 97.813 & 39.932\\\\\n",
       "\\end{tabular}\n"
      ],
      "text/markdown": [
       "\n",
       "A matrix: 1 × 8 of type dbl\n",
       "\n",
       "| <!--/--> | Min. | 1st Qu. | Median | Mean | 3rd Qu. | Max. | sd | sd_err_of_mean |\n",
       "|---|---|---|---|---|---|---|---|---|\n",
       "| Genomes per species | 1 | 1 | 1 | 2.053008 | 2 | 241 | 97.813 | 39.932 |\n",
       "\n"
      ],
      "text/plain": [
       "                    Min. 1st Qu. Median Mean     3rd Qu. Max. sd    \n",
       "Genomes per species 1    1       1      2.053008 2       241  97.813\n",
       "                    sd_err_of_mean\n",
       "Genomes per species 39.932        "
      ]
     },
     "metadata": {},
     "output_type": "display_data"
    }
   ],
   "source": [
    "# number of genomes\n",
    "r95_meta_ff %>%\n",
    "    group_by(Phylum, Class, Order, Family, Genus, Species) %>%\n",
    "    summarize(n = n(), .groups='drop') %>%\n",
    "    .$n %>% summary_x('Genomes per species')"
   ]
  },
  {
   "cell_type": "markdown",
   "metadata": {},
   "source": [
    "### Subsampling to max N species"
   ]
  },
  {
   "cell_type": "code",
   "execution_count": 32,
   "metadata": {
    "ExecuteTime": {
     "end_time": "2020-10-08T17:53:09.289633Z",
     "start_time": "2020-10-08T17:52:51.273Z"
    }
   },
   "outputs": [],
   "source": [
    "# cutoff for max number of species\n",
    "n_per_species = 3"
   ]
  },
  {
   "cell_type": "code",
   "execution_count": 33,
   "metadata": {
    "ExecuteTime": {
     "end_time": "2020-10-08T17:53:09.879457Z",
     "start_time": "2020-10-08T17:52:51.278Z"
    }
   },
   "outputs": [
    {
     "data": {
      "text/html": [
       "<table>\n",
       "<caption>A grouped_df: 4302 × 27</caption>\n",
       "<thead>\n",
       "\t<tr><th scope=col>accession</th><th scope=col>Domain</th><th scope=col>Phylum</th><th scope=col>Class</th><th scope=col>Order</th><th scope=col>Family</th><th scope=col>Genus</th><th scope=col>Species</th><th scope=col>checkm_completeness</th><th scope=col>checkm_contamination</th><th scope=col>⋯</th><th scope=col>gc_percentage</th><th scope=col>contig_count</th><th scope=col>genome_size</th><th scope=col>mean_contig_length</th><th scope=col>scaffold_count</th><th scope=col>ssu_contig_len</th><th scope=col>ssu_count</th><th scope=col>mimag_high_quality</th><th scope=col>mimag_medium_quality</th><th scope=col>mimag_low_quality</th></tr>\n",
       "\t<tr><th scope=col>&lt;chr&gt;</th><th scope=col>&lt;chr&gt;</th><th scope=col>&lt;chr&gt;</th><th scope=col>&lt;chr&gt;</th><th scope=col>&lt;chr&gt;</th><th scope=col>&lt;chr&gt;</th><th scope=col>&lt;chr&gt;</th><th scope=col>&lt;chr&gt;</th><th scope=col>&lt;dbl&gt;</th><th scope=col>&lt;dbl&gt;</th><th scope=col>⋯</th><th scope=col>&lt;dbl&gt;</th><th scope=col>&lt;int&gt;</th><th scope=col>&lt;int&gt;</th><th scope=col>&lt;int&gt;</th><th scope=col>&lt;int&gt;</th><th scope=col>&lt;chr&gt;</th><th scope=col>&lt;int&gt;</th><th scope=col>&lt;chr&gt;</th><th scope=col>&lt;chr&gt;</th><th scope=col>&lt;chr&gt;</th></tr>\n",
       "</thead>\n",
       "<tbody>\n",
       "\t<tr><td>RS_GCF_000734035.1</td><td>d__Archaea</td><td>p__Halobacteriota</td><td>c__Archaeoglobi</td><td>o__Archaeoglobales</td><td>f__Archaeoglobaceae</td><td>g__Archaeoglobus</td><td>s__Archaeoglobus fulgidus</td><td>100</td><td>0.65</td><td>⋯</td><td>48.07651</td><td>1</td><td>2316287</td><td>2316287</td><td>1</td><td>2316287</td><td>1</td><td>t</td><td>f</td><td>f</td></tr>\n",
       "\t<tr><td>RS_GCF_000008665.1</td><td>d__Archaea</td><td>p__Halobacteriota</td><td>c__Archaeoglobi</td><td>o__Archaeoglobales</td><td>f__Archaeoglobaceae</td><td>g__Archaeoglobus</td><td>s__Archaeoglobus fulgidus</td><td>100</td><td>0.00</td><td>⋯</td><td>48.58167</td><td>1</td><td>2178400</td><td>2178400</td><td>1</td><td>2178400</td><td>1</td><td>t</td><td>f</td><td>f</td></tr>\n",
       "\t<tr><td>⋮</td><td>⋮</td><td>⋮</td><td>⋮</td><td>⋮</td><td>⋮</td><td>⋮</td><td>⋮</td><td>⋮</td><td>⋮</td><td>⋱</td><td>⋮</td><td>⋮</td><td>⋮</td><td>⋮</td><td>⋮</td><td>⋮</td><td>⋮</td><td>⋮</td><td>⋮</td><td>⋮</td></tr>\n",
       "\t<tr><td>GB_GCA_900546565.1</td><td>d__Bacteria</td><td>p__Verrucomicrobiota  </td><td>c__Verrucomicrobiae</td><td>o__Opitutales      </td><td>f__CAG-312            </td><td>g__CAG-312        </td><td>s__CAG-312 sp900546565        </td><td>90.27</td><td>0.34</td><td>⋯</td><td>52.93420</td><td>79</td><td>1851117</td><td>23431</td><td>79</td><td>40790 </td><td>1</td><td>t</td><td>f</td><td>f</td></tr>\n",
       "\t<tr><td>RS_GCF_901000775.1</td><td>d__Bacteria</td><td>p__Verrucomicrobiota_A</td><td>c__Chlamydiia      </td><td>o__Parachlamydiales</td><td>f__Rhabdochlamydiaceae</td><td>g__Rhabdochlamydia</td><td>s__Rhabdochlamydia sp901000775</td><td>94.59</td><td>0.68</td><td>⋯</td><td>36.15916</td><td>38</td><td>1830543</td><td>48172</td><td>38</td><td>163199</td><td>2</td><td>t</td><td>f</td><td>f</td></tr>\n",
       "</tbody>\n",
       "</table>\n"
      ],
      "text/latex": [
       "A grouped\\_df: 4302 × 27\n",
       "\\begin{tabular}{lllllllllllllllllllll}\n",
       " accession & Domain & Phylum & Class & Order & Family & Genus & Species & checkm\\_completeness & checkm\\_contamination & ⋯ & gc\\_percentage & contig\\_count & genome\\_size & mean\\_contig\\_length & scaffold\\_count & ssu\\_contig\\_len & ssu\\_count & mimag\\_high\\_quality & mimag\\_medium\\_quality & mimag\\_low\\_quality\\\\\n",
       " <chr> & <chr> & <chr> & <chr> & <chr> & <chr> & <chr> & <chr> & <dbl> & <dbl> & ⋯ & <dbl> & <int> & <int> & <int> & <int> & <chr> & <int> & <chr> & <chr> & <chr>\\\\\n",
       "\\hline\n",
       "\t RS\\_GCF\\_000734035.1 & d\\_\\_Archaea & p\\_\\_Halobacteriota & c\\_\\_Archaeoglobi & o\\_\\_Archaeoglobales & f\\_\\_Archaeoglobaceae & g\\_\\_Archaeoglobus & s\\_\\_Archaeoglobus fulgidus & 100 & 0.65 & ⋯ & 48.07651 & 1 & 2316287 & 2316287 & 1 & 2316287 & 1 & t & f & f\\\\\n",
       "\t RS\\_GCF\\_000008665.1 & d\\_\\_Archaea & p\\_\\_Halobacteriota & c\\_\\_Archaeoglobi & o\\_\\_Archaeoglobales & f\\_\\_Archaeoglobaceae & g\\_\\_Archaeoglobus & s\\_\\_Archaeoglobus fulgidus & 100 & 0.00 & ⋯ & 48.58167 & 1 & 2178400 & 2178400 & 1 & 2178400 & 1 & t & f & f\\\\\n",
       "\t ⋮ & ⋮ & ⋮ & ⋮ & ⋮ & ⋮ & ⋮ & ⋮ & ⋮ & ⋮ & ⋱ & ⋮ & ⋮ & ⋮ & ⋮ & ⋮ & ⋮ & ⋮ & ⋮ & ⋮ & ⋮\\\\\n",
       "\t GB\\_GCA\\_900546565.1 & d\\_\\_Bacteria & p\\_\\_Verrucomicrobiota   & c\\_\\_Verrucomicrobiae & o\\_\\_Opitutales       & f\\_\\_CAG-312             & g\\_\\_CAG-312         & s\\_\\_CAG-312 sp900546565         & 90.27 & 0.34 & ⋯ & 52.93420 & 79 & 1851117 & 23431 & 79 & 40790  & 1 & t & f & f\\\\\n",
       "\t RS\\_GCF\\_901000775.1 & d\\_\\_Bacteria & p\\_\\_Verrucomicrobiota\\_A & c\\_\\_Chlamydiia       & o\\_\\_Parachlamydiales & f\\_\\_Rhabdochlamydiaceae & g\\_\\_Rhabdochlamydia & s\\_\\_Rhabdochlamydia sp901000775 & 94.59 & 0.68 & ⋯ & 36.15916 & 38 & 1830543 & 48172 & 38 & 163199 & 2 & t & f & f\\\\\n",
       "\\end{tabular}\n"
      ],
      "text/markdown": [
       "\n",
       "A grouped_df: 4302 × 27\n",
       "\n",
       "| accession &lt;chr&gt; | Domain &lt;chr&gt; | Phylum &lt;chr&gt; | Class &lt;chr&gt; | Order &lt;chr&gt; | Family &lt;chr&gt; | Genus &lt;chr&gt; | Species &lt;chr&gt; | checkm_completeness &lt;dbl&gt; | checkm_contamination &lt;dbl&gt; | ⋯ ⋯ | gc_percentage &lt;dbl&gt; | contig_count &lt;int&gt; | genome_size &lt;int&gt; | mean_contig_length &lt;int&gt; | scaffold_count &lt;int&gt; | ssu_contig_len &lt;chr&gt; | ssu_count &lt;int&gt; | mimag_high_quality &lt;chr&gt; | mimag_medium_quality &lt;chr&gt; | mimag_low_quality &lt;chr&gt; |\n",
       "|---|---|---|---|---|---|---|---|---|---|---|---|---|---|---|---|---|---|---|---|---|\n",
       "| RS_GCF_000734035.1 | d__Archaea | p__Halobacteriota | c__Archaeoglobi | o__Archaeoglobales | f__Archaeoglobaceae | g__Archaeoglobus | s__Archaeoglobus fulgidus | 100 | 0.65 | ⋯ | 48.07651 | 1 | 2316287 | 2316287 | 1 | 2316287 | 1 | t | f | f |\n",
       "| RS_GCF_000008665.1 | d__Archaea | p__Halobacteriota | c__Archaeoglobi | o__Archaeoglobales | f__Archaeoglobaceae | g__Archaeoglobus | s__Archaeoglobus fulgidus | 100 | 0.00 | ⋯ | 48.58167 | 1 | 2178400 | 2178400 | 1 | 2178400 | 1 | t | f | f |\n",
       "| ⋮ | ⋮ | ⋮ | ⋮ | ⋮ | ⋮ | ⋮ | ⋮ | ⋮ | ⋮ | ⋱ | ⋮ | ⋮ | ⋮ | ⋮ | ⋮ | ⋮ | ⋮ | ⋮ | ⋮ | ⋮ |\n",
       "| GB_GCA_900546565.1 | d__Bacteria | p__Verrucomicrobiota   | c__Verrucomicrobiae | o__Opitutales       | f__CAG-312             | g__CAG-312         | s__CAG-312 sp900546565         | 90.27 | 0.34 | ⋯ | 52.93420 | 79 | 1851117 | 23431 | 79 | 40790  | 1 | t | f | f |\n",
       "| RS_GCF_901000775.1 | d__Bacteria | p__Verrucomicrobiota_A | c__Chlamydiia       | o__Parachlamydiales | f__Rhabdochlamydiaceae | g__Rhabdochlamydia | s__Rhabdochlamydia sp901000775 | 94.59 | 0.68 | ⋯ | 36.15916 | 38 | 1830543 | 48172 | 38 | 163199 | 2 | t | f | f |\n",
       "\n"
      ],
      "text/plain": [
       "     accession          Domain      Phylum                 Class              \n",
       "1    RS_GCF_000734035.1 d__Archaea  p__Halobacteriota      c__Archaeoglobi    \n",
       "2    RS_GCF_000008665.1 d__Archaea  p__Halobacteriota      c__Archaeoglobi    \n",
       "⋮    ⋮                  ⋮           ⋮                      ⋮                  \n",
       "4301 GB_GCA_900546565.1 d__Bacteria p__Verrucomicrobiota   c__Verrucomicrobiae\n",
       "4302 RS_GCF_901000775.1 d__Bacteria p__Verrucomicrobiota_A c__Chlamydiia      \n",
       "     Order               Family                 Genus             \n",
       "1    o__Archaeoglobales  f__Archaeoglobaceae    g__Archaeoglobus  \n",
       "2    o__Archaeoglobales  f__Archaeoglobaceae    g__Archaeoglobus  \n",
       "⋮    ⋮                   ⋮                      ⋮                 \n",
       "4301 o__Opitutales       f__CAG-312             g__CAG-312        \n",
       "4302 o__Parachlamydiales f__Rhabdochlamydiaceae g__Rhabdochlamydia\n",
       "     Species                        checkm_completeness checkm_contamination ⋯\n",
       "1    s__Archaeoglobus fulgidus      100                 0.65                 ⋯\n",
       "2    s__Archaeoglobus fulgidus      100                 0.00                 ⋯\n",
       "⋮    ⋮                              ⋮                   ⋮                    ⋱\n",
       "4301 s__CAG-312 sp900546565         90.27               0.34                 ⋯\n",
       "4302 s__Rhabdochlamydia sp901000775 94.59               0.68                 ⋯\n",
       "     gc_percentage contig_count genome_size mean_contig_length scaffold_count\n",
       "1    48.07651      1            2316287     2316287            1             \n",
       "2    48.58167      1            2178400     2178400            1             \n",
       "⋮    ⋮             ⋮            ⋮           ⋮                  ⋮             \n",
       "4301 52.93420      79           1851117     23431              79            \n",
       "4302 36.15916      38           1830543     48172              38            \n",
       "     ssu_contig_len ssu_count mimag_high_quality mimag_medium_quality\n",
       "1    2316287        1         t                  f                   \n",
       "2    2178400        1         t                  f                   \n",
       "⋮    ⋮              ⋮         ⋮                  ⋮                   \n",
       "4301 40790          1         t                  f                   \n",
       "4302 163199         2         t                  f                   \n",
       "     mimag_low_quality\n",
       "1    f                \n",
       "2    f                \n",
       "⋮    ⋮                \n",
       "4301 f                \n",
       "4302 f                "
      ]
     },
     "metadata": {},
     "output_type": "display_data"
    }
   ],
   "source": [
    "# filtering\n",
    "r95_meta_ffs = r95_meta_ff %>%\n",
    "    group_by(Domain, Phylum, Class, Order, Family, Genus, Species) %>%\n",
    "    sample_n(n_per_species, replace=TRUE) %>%\n",
    "    distinct(Domain, Phylum, Class, Order, Family, Genus, Species, accession) %>%\n",
    "    inner_join(r95_meta_ff, c(levs, 'accession'))\n",
    "\n",
    "r95_meta_ffs "
   ]
  },
  {
   "cell_type": "code",
   "execution_count": 34,
   "metadata": {
    "ExecuteTime": {
     "end_time": "2020-10-08T17:53:09.965721Z",
     "start_time": "2020-10-08T17:52:51.283Z"
    }
   },
   "outputs": [
    {
     "data": {
      "text/html": [
       "<table>\n",
       "<caption>A matrix: 1 × 8 of type dbl</caption>\n",
       "<thead>\n",
       "\t<tr><th></th><th scope=col>Min.</th><th scope=col>1st Qu.</th><th scope=col>Median</th><th scope=col>Mean</th><th scope=col>3rd Qu.</th><th scope=col>Max.</th><th scope=col>sd</th><th scope=col>sd_err_of_mean</th></tr>\n",
       "</thead>\n",
       "<tbody>\n",
       "\t<tr><th scope=row>Genomes per species</th><td>1</td><td>1</td><td>1</td><td>1.28112</td><td>1</td><td>3</td><td>0.801</td><td>0.327</td></tr>\n",
       "</tbody>\n",
       "</table>\n"
      ],
      "text/latex": [
       "A matrix: 1 × 8 of type dbl\n",
       "\\begin{tabular}{r|llllllll}\n",
       "  & Min. & 1st Qu. & Median & Mean & 3rd Qu. & Max. & sd & sd\\_err\\_of\\_mean\\\\\n",
       "\\hline\n",
       "\tGenomes per species & 1 & 1 & 1 & 1.28112 & 1 & 3 & 0.801 & 0.327\\\\\n",
       "\\end{tabular}\n"
      ],
      "text/markdown": [
       "\n",
       "A matrix: 1 × 8 of type dbl\n",
       "\n",
       "| <!--/--> | Min. | 1st Qu. | Median | Mean | 3rd Qu. | Max. | sd | sd_err_of_mean |\n",
       "|---|---|---|---|---|---|---|---|---|\n",
       "| Genomes per species | 1 | 1 | 1 | 1.28112 | 1 | 3 | 0.801 | 0.327 |\n",
       "\n"
      ],
      "text/plain": [
       "                    Min. 1st Qu. Median Mean    3rd Qu. Max. sd   \n",
       "Genomes per species 1    1       1      1.28112 1       3    0.801\n",
       "                    sd_err_of_mean\n",
       "Genomes per species 0.327         "
      ]
     },
     "metadata": {},
     "output_type": "display_data"
    }
   ],
   "source": [
    "# number of genomes (post-sample)\n",
    "r95_meta_ffs %>%\n",
    "    group_by(Phylum, Class, Order, Family, Genus, Species) %>%\n",
    "    summarize(n = n(), .groups='drop') %>%\n",
    "    .$n %>% summary_x('Genomes per species')"
   ]
  },
  {
   "cell_type": "markdown",
   "metadata": {},
   "source": [
    "### Checking overlap"
   ]
  },
  {
   "cell_type": "code",
   "execution_count": 35,
   "metadata": {
    "ExecuteTime": {
     "end_time": "2020-10-08T17:53:10.036867Z",
     "start_time": "2020-10-08T17:52:51.289Z"
    }
   },
   "outputs": [
    {
     "name": "stderr",
     "output_type": "stream",
     "text": [
      "Warning message in cbind(parts$left, ellip_h, parts$right, deparse.level = 0L):\n",
      "“number of rows of result is not a multiple of vector length (arg 2)”\n",
      "Warning message in cbind(parts$left, ellip_h, parts$right, deparse.level = 0L):\n",
      "“number of rows of result is not a multiple of vector length (arg 2)”\n",
      "Warning message in cbind(parts$left, ellip_h, parts$right, deparse.level = 0L):\n",
      "“number of rows of result is not a multiple of vector length (arg 2)”\n",
      "Warning message in cbind(parts$left, ellip_h, parts$right, deparse.level = 0L):\n",
      "“number of rows of result is not a multiple of vector length (arg 2)”\n"
     ]
    },
    {
     "data": {
      "text/html": [
       "<table>\n",
       "<caption>A grouped_df: 0 × 140</caption>\n",
       "<thead>\n",
       "\t<tr><th scope=col>accession.x</th><th scope=col>Domain</th><th scope=col>Phylum</th><th scope=col>Class</th><th scope=col>Order</th><th scope=col>Family</th><th scope=col>Genus.x</th><th scope=col>Species.x</th><th scope=col>checkm_completeness.x</th><th scope=col>checkm_contamination.x</th><th scope=col>⋯</th><th scope=col>ssu_silva_blast_evalue</th><th scope=col>ssu_silva_blast_perc_identity</th><th scope=col>ssu_silva_blast_subject_id</th><th scope=col>ssu_silva_taxonomy</th><th scope=col>total_gap_length</th><th scope=col>trna_aa_count</th><th scope=col>trna_count</th><th scope=col>trna_selenocysteine_count</th><th scope=col>fasta_file_path</th><th scope=col>dataset_partition</th></tr>\n",
       "\t<tr><th scope=col>&lt;chr&gt;</th><th scope=col>&lt;chr&gt;</th><th scope=col>&lt;chr&gt;</th><th scope=col>&lt;chr&gt;</th><th scope=col>&lt;chr&gt;</th><th scope=col>&lt;chr&gt;</th><th scope=col>&lt;chr&gt;</th><th scope=col>&lt;chr&gt;</th><th scope=col>&lt;dbl&gt;</th><th scope=col>&lt;dbl&gt;</th><th scope=col>⋯</th><th scope=col>&lt;int&gt;</th><th scope=col>&lt;dbl&gt;</th><th scope=col>&lt;chr&gt;</th><th scope=col>&lt;chr&gt;</th><th scope=col>&lt;int&gt;</th><th scope=col>&lt;int&gt;</th><th scope=col>&lt;int&gt;</th><th scope=col>&lt;int&gt;</th><th scope=col>&lt;chr&gt;</th><th scope=col>&lt;chr&gt;</th></tr>\n",
       "</thead>\n",
       "<tbody>\n",
       "</tbody>\n",
       "</table>\n"
      ],
      "text/latex": [
       "A grouped\\_df: 0 × 140\n",
       "\\begin{tabular}{lllllllllllllllllllll}\n",
       " accession.x & Domain & Phylum & Class & Order & Family & Genus.x & Species.x & checkm\\_completeness.x & checkm\\_contamination.x & ⋯ & ssu\\_silva\\_blast\\_evalue & ssu\\_silva\\_blast\\_perc\\_identity & ssu\\_silva\\_blast\\_subject\\_id & ssu\\_silva\\_taxonomy & total\\_gap\\_length & trna\\_aa\\_count & trna\\_count & trna\\_selenocysteine\\_count & fasta\\_file\\_path & dataset\\_partition\\\\\n",
       " <chr> & <chr> & <chr> & <chr> & <chr> & <chr> & <chr> & <chr> & <dbl> & <dbl> & ⋯ & <int> & <dbl> & <chr> & <chr> & <int> & <int> & <int> & <int> & <chr> & <chr>\\\\\n",
       "\\hline\n",
       "\\end{tabular}\n"
      ],
      "text/markdown": [
       "\n",
       "A grouped_df: 0 × 140\n",
       "\n",
       "| accession.x &lt;chr&gt; | Domain &lt;chr&gt; | Phylum &lt;chr&gt; | Class &lt;chr&gt; | Order &lt;chr&gt; | Family &lt;chr&gt; | Genus.x &lt;chr&gt; | Species.x &lt;chr&gt; | checkm_completeness.x &lt;dbl&gt; | checkm_contamination.x &lt;dbl&gt; | ⋯ ⋯ | ssu_silva_blast_evalue &lt;int&gt; | ssu_silva_blast_perc_identity &lt;dbl&gt; | ssu_silva_blast_subject_id &lt;chr&gt; | ssu_silva_taxonomy &lt;chr&gt; | total_gap_length &lt;int&gt; | trna_aa_count &lt;int&gt; | trna_count &lt;int&gt; | trna_selenocysteine_count &lt;int&gt; | fasta_file_path &lt;chr&gt; | dataset_partition &lt;chr&gt; |\n",
       "|---|---|---|---|---|---|---|---|---|---|---|---|---|---|---|---|---|---|---|---|---|\n",
       "\n"
      ],
      "text/plain": [
       "     accession.x Domain Phylum Class Order Family Genus.x Species.x\n",
       "     checkm_completeness.x checkm_contamination.x ⋯ ssu_silva_blast_evalue\n",
       "     ssu_silva_blast_perc_identity ssu_silva_blast_subject_id\n",
       "     ssu_silva_taxonomy total_gap_length trna_aa_count trna_count\n",
       "     trna_selenocysteine_count fasta_file_path dataset_partition"
      ]
     },
     "metadata": {},
     "output_type": "display_data"
    }
   ],
   "source": [
    "r95_meta_ffs %>%\n",
    "    inner_join(r89_ref, c('Domain', 'Phylum', 'Class', 'Order', 'Family'))"
   ]
  },
  {
   "cell_type": "markdown",
   "metadata": {},
   "source": [
    "### Writing metadata"
   ]
  },
  {
   "cell_type": "code",
   "execution_count": 36,
   "metadata": {
    "ExecuteTime": {
     "end_time": "2020-10-08T17:53:10.149335Z",
     "start_time": "2020-10-08T17:52:51.294Z"
    }
   },
   "outputs": [
    {
     "name": "stdout",
     "output_type": "stream",
     "text": [
      "File written: /ebio/abt3_projects/databases_no-backup/DeepMAsED/version2/ref_genomes/GTDBr95//metadata_quality_novel-family.tsv \n"
     ]
    }
   ],
   "source": [
    "outF = file.path(r95_work_dir, 'metadata_quality_novel-family.tsv')\n",
    "write_table(r95_meta_ffs, file=outF)"
   ]
  },
  {
   "cell_type": "markdown",
   "metadata": {},
   "source": [
    "## Novel at order level"
   ]
  },
  {
   "cell_type": "code",
   "execution_count": 37,
   "metadata": {
    "ExecuteTime": {
     "end_time": "2020-10-08T17:53:10.214192Z",
     "start_time": "2020-10-08T17:52:51.300Z"
    }
   },
   "outputs": [
    {
     "data": {
      "text/html": [
       "<table>\n",
       "<caption>A data.table: 6561 × 27</caption>\n",
       "<thead>\n",
       "\t<tr><th scope=col>accession</th><th scope=col>checkm_completeness</th><th scope=col>checkm_contamination</th><th scope=col>Domain</th><th scope=col>Phylum</th><th scope=col>Class</th><th scope=col>Order</th><th scope=col>Family</th><th scope=col>Genus</th><th scope=col>Species</th><th scope=col>⋯</th><th scope=col>gc_percentage</th><th scope=col>contig_count</th><th scope=col>genome_size</th><th scope=col>mean_contig_length</th><th scope=col>scaffold_count</th><th scope=col>ssu_contig_len</th><th scope=col>ssu_count</th><th scope=col>mimag_high_quality</th><th scope=col>mimag_medium_quality</th><th scope=col>mimag_low_quality</th></tr>\n",
       "\t<tr><th scope=col>&lt;chr&gt;</th><th scope=col>&lt;dbl&gt;</th><th scope=col>&lt;dbl&gt;</th><th scope=col>&lt;chr&gt;</th><th scope=col>&lt;chr&gt;</th><th scope=col>&lt;chr&gt;</th><th scope=col>&lt;chr&gt;</th><th scope=col>&lt;chr&gt;</th><th scope=col>&lt;chr&gt;</th><th scope=col>&lt;chr&gt;</th><th scope=col>⋯</th><th scope=col>&lt;dbl&gt;</th><th scope=col>&lt;int&gt;</th><th scope=col>&lt;int&gt;</th><th scope=col>&lt;int&gt;</th><th scope=col>&lt;int&gt;</th><th scope=col>&lt;chr&gt;</th><th scope=col>&lt;int&gt;</th><th scope=col>&lt;chr&gt;</th><th scope=col>&lt;chr&gt;</th><th scope=col>&lt;chr&gt;</th></tr>\n",
       "</thead>\n",
       "<tbody>\n",
       "\t<tr><td>GB_GCA_000015705.1</td><td>100</td><td>0.14</td><td>d__Bacteria</td><td>p__Cyanobacteria   </td><td>c__Cyanobacteriia</td><td>o__PCC-6307       </td><td>f__Cyanobiaceae      </td><td>g__Prochlorococcus_C</td><td>s__Prochlorococcus_C marinus_B</td><td>⋯</td><td>50.00759</td><td>1</td><td>2682675</td><td>2682675</td><td>1</td><td>2682675</td><td>2</td><td>t</td><td>f</td><td>f</td></tr>\n",
       "\t<tr><td>GB_GCA_000022965.1</td><td>100</td><td>0.00</td><td>d__Bacteria</td><td>p__Actinobacteriota</td><td>c__Actinomycetia </td><td>o__Actinomycetales</td><td>f__Bifidobacteriaceae</td><td>g__Bifidobacterium  </td><td>s__Bifidobacterium animalis   </td><td>⋯</td><td>60.48213</td><td>1</td><td>1938483</td><td>1938483</td><td>1</td><td>1938483</td><td>4</td><td>t</td><td>f</td><td>f</td></tr>\n",
       "\t<tr><td>⋮</td><td>⋮</td><td>⋮</td><td>⋮</td><td>⋮</td><td>⋮</td><td>⋮</td><td>⋮</td><td>⋮</td><td>⋮</td><td>⋱</td><td>⋮</td><td>⋮</td><td>⋮</td><td>⋮</td><td>⋮</td><td>⋮</td><td>⋮</td><td>⋮</td><td>⋮</td><td>⋮</td></tr>\n",
       "\t<tr><td>GB_GCA_013329655.1</td><td>95.92</td><td>0</td><td>d__Archaea</td><td>p__Halobacteriota</td><td>c__Methanosarcinia</td><td>o__Methanosarcinales  </td><td>f__Methanosarcinaceae</td><td>g__Methanosarcina</td><td>s__Methanosarcina acetivorans </td><td>⋯</td><td>43.67908</td><td>348</td><td>4257361</td><td>12191</td><td>201</td><td>44973 </td><td>1</td><td>t</td><td>f</td><td>f</td></tr>\n",
       "\t<tr><td>GB_GCA_013330515.1</td><td>98.04</td><td>0</td><td>d__Archaea</td><td>p__Halobacteriota</td><td>c__Methanosarcinia</td><td>o__Methanosarcinales_A</td><td>f__Methermicoccaceae </td><td>g__Methermicoccus</td><td>s__Methermicoccus shengliensis</td><td>⋯</td><td>55.35460</td><td> 35</td><td>1369149</td><td>39023</td><td> 24</td><td>123890</td><td>1</td><td>t</td><td>f</td><td>f</td></tr>\n",
       "</tbody>\n",
       "</table>\n"
      ],
      "text/latex": [
       "A data.table: 6561 × 27\n",
       "\\begin{tabular}{lllllllllllllllllllll}\n",
       " accession & checkm\\_completeness & checkm\\_contamination & Domain & Phylum & Class & Order & Family & Genus & Species & ⋯ & gc\\_percentage & contig\\_count & genome\\_size & mean\\_contig\\_length & scaffold\\_count & ssu\\_contig\\_len & ssu\\_count & mimag\\_high\\_quality & mimag\\_medium\\_quality & mimag\\_low\\_quality\\\\\n",
       " <chr> & <dbl> & <dbl> & <chr> & <chr> & <chr> & <chr> & <chr> & <chr> & <chr> & ⋯ & <dbl> & <int> & <int> & <int> & <int> & <chr> & <int> & <chr> & <chr> & <chr>\\\\\n",
       "\\hline\n",
       "\t GB\\_GCA\\_000015705.1 & 100 & 0.14 & d\\_\\_Bacteria & p\\_\\_Cyanobacteria    & c\\_\\_Cyanobacteriia & o\\_\\_PCC-6307        & f\\_\\_Cyanobiaceae       & g\\_\\_Prochlorococcus\\_C & s\\_\\_Prochlorococcus\\_C marinus\\_B & ⋯ & 50.00759 & 1 & 2682675 & 2682675 & 1 & 2682675 & 2 & t & f & f\\\\\n",
       "\t GB\\_GCA\\_000022965.1 & 100 & 0.00 & d\\_\\_Bacteria & p\\_\\_Actinobacteriota & c\\_\\_Actinomycetia  & o\\_\\_Actinomycetales & f\\_\\_Bifidobacteriaceae & g\\_\\_Bifidobacterium   & s\\_\\_Bifidobacterium animalis    & ⋯ & 60.48213 & 1 & 1938483 & 1938483 & 1 & 1938483 & 4 & t & f & f\\\\\n",
       "\t ⋮ & ⋮ & ⋮ & ⋮ & ⋮ & ⋮ & ⋮ & ⋮ & ⋮ & ⋮ & ⋱ & ⋮ & ⋮ & ⋮ & ⋮ & ⋮ & ⋮ & ⋮ & ⋮ & ⋮ & ⋮\\\\\n",
       "\t GB\\_GCA\\_013329655.1 & 95.92 & 0 & d\\_\\_Archaea & p\\_\\_Halobacteriota & c\\_\\_Methanosarcinia & o\\_\\_Methanosarcinales   & f\\_\\_Methanosarcinaceae & g\\_\\_Methanosarcina & s\\_\\_Methanosarcina acetivorans  & ⋯ & 43.67908 & 348 & 4257361 & 12191 & 201 & 44973  & 1 & t & f & f\\\\\n",
       "\t GB\\_GCA\\_013330515.1 & 98.04 & 0 & d\\_\\_Archaea & p\\_\\_Halobacteriota & c\\_\\_Methanosarcinia & o\\_\\_Methanosarcinales\\_A & f\\_\\_Methermicoccaceae  & g\\_\\_Methermicoccus & s\\_\\_Methermicoccus shengliensis & ⋯ & 55.35460 &  35 & 1369149 & 39023 &  24 & 123890 & 1 & t & f & f\\\\\n",
       "\\end{tabular}\n"
      ],
      "text/markdown": [
       "\n",
       "A data.table: 6561 × 27\n",
       "\n",
       "| accession &lt;chr&gt; | checkm_completeness &lt;dbl&gt; | checkm_contamination &lt;dbl&gt; | Domain &lt;chr&gt; | Phylum &lt;chr&gt; | Class &lt;chr&gt; | Order &lt;chr&gt; | Family &lt;chr&gt; | Genus &lt;chr&gt; | Species &lt;chr&gt; | ⋯ ⋯ | gc_percentage &lt;dbl&gt; | contig_count &lt;int&gt; | genome_size &lt;int&gt; | mean_contig_length &lt;int&gt; | scaffold_count &lt;int&gt; | ssu_contig_len &lt;chr&gt; | ssu_count &lt;int&gt; | mimag_high_quality &lt;chr&gt; | mimag_medium_quality &lt;chr&gt; | mimag_low_quality &lt;chr&gt; |\n",
       "|---|---|---|---|---|---|---|---|---|---|---|---|---|---|---|---|---|---|---|---|---|\n",
       "| GB_GCA_000015705.1 | 100 | 0.14 | d__Bacteria | p__Cyanobacteria    | c__Cyanobacteriia | o__PCC-6307        | f__Cyanobiaceae       | g__Prochlorococcus_C | s__Prochlorococcus_C marinus_B | ⋯ | 50.00759 | 1 | 2682675 | 2682675 | 1 | 2682675 | 2 | t | f | f |\n",
       "| GB_GCA_000022965.1 | 100 | 0.00 | d__Bacteria | p__Actinobacteriota | c__Actinomycetia  | o__Actinomycetales | f__Bifidobacteriaceae | g__Bifidobacterium   | s__Bifidobacterium animalis    | ⋯ | 60.48213 | 1 | 1938483 | 1938483 | 1 | 1938483 | 4 | t | f | f |\n",
       "| ⋮ | ⋮ | ⋮ | ⋮ | ⋮ | ⋮ | ⋮ | ⋮ | ⋮ | ⋮ | ⋱ | ⋮ | ⋮ | ⋮ | ⋮ | ⋮ | ⋮ | ⋮ | ⋮ | ⋮ | ⋮ |\n",
       "| GB_GCA_013329655.1 | 95.92 | 0 | d__Archaea | p__Halobacteriota | c__Methanosarcinia | o__Methanosarcinales   | f__Methanosarcinaceae | g__Methanosarcina | s__Methanosarcina acetivorans  | ⋯ | 43.67908 | 348 | 4257361 | 12191 | 201 | 44973  | 1 | t | f | f |\n",
       "| GB_GCA_013330515.1 | 98.04 | 0 | d__Archaea | p__Halobacteriota | c__Methanosarcinia | o__Methanosarcinales_A | f__Methermicoccaceae  | g__Methermicoccus | s__Methermicoccus shengliensis | ⋯ | 55.35460 |  35 | 1369149 | 39023 |  24 | 123890 | 1 | t | f | f |\n",
       "\n"
      ],
      "text/plain": [
       "     accession          checkm_completeness checkm_contamination Domain     \n",
       "1    GB_GCA_000015705.1 100                 0.14                 d__Bacteria\n",
       "2    GB_GCA_000022965.1 100                 0.00                 d__Bacteria\n",
       "⋮    ⋮                  ⋮                   ⋮                    ⋮          \n",
       "6560 GB_GCA_013329655.1 95.92               0                    d__Archaea \n",
       "6561 GB_GCA_013330515.1 98.04               0                    d__Archaea \n",
       "     Phylum              Class              Order                 \n",
       "1    p__Cyanobacteria    c__Cyanobacteriia  o__PCC-6307           \n",
       "2    p__Actinobacteriota c__Actinomycetia   o__Actinomycetales    \n",
       "⋮    ⋮                   ⋮                  ⋮                     \n",
       "6560 p__Halobacteriota   c__Methanosarcinia o__Methanosarcinales  \n",
       "6561 p__Halobacteriota   c__Methanosarcinia o__Methanosarcinales_A\n",
       "     Family                Genus                Species                       \n",
       "1    f__Cyanobiaceae       g__Prochlorococcus_C s__Prochlorococcus_C marinus_B\n",
       "2    f__Bifidobacteriaceae g__Bifidobacterium   s__Bifidobacterium animalis   \n",
       "⋮    ⋮                     ⋮                    ⋮                             \n",
       "6560 f__Methanosarcinaceae g__Methanosarcina    s__Methanosarcina acetivorans \n",
       "6561 f__Methermicoccaceae  g__Methermicoccus    s__Methermicoccus shengliensis\n",
       "     ⋯ gc_percentage contig_count genome_size mean_contig_length scaffold_count\n",
       "1    ⋯ 50.00759      1            2682675     2682675            1             \n",
       "2    ⋯ 60.48213      1            1938483     1938483            1             \n",
       "⋮    ⋱ ⋮             ⋮            ⋮           ⋮                  ⋮             \n",
       "6560 ⋯ 43.67908      348          4257361     12191              201           \n",
       "6561 ⋯ 55.35460       35          1369149     39023               24           \n",
       "     ssu_contig_len ssu_count mimag_high_quality mimag_medium_quality\n",
       "1    2682675        2         t                  f                   \n",
       "2    1938483        4         t                  f                   \n",
       "⋮    ⋮              ⋮         ⋮                  ⋮                   \n",
       "6560 44973          1         t                  f                   \n",
       "6561 123890         1         t                  f                   \n",
       "     mimag_low_quality\n",
       "1    f                \n",
       "2    f                \n",
       "⋮    ⋮                \n",
       "6560 f                \n",
       "6561 f                "
      ]
     },
     "metadata": {},
     "output_type": "display_data"
    }
   ],
   "source": [
    "r95_meta_ff = r95_meta_f %>%\n",
    "    anti_join(r89_ref, c('Domain', 'Phylum', 'Class', 'Order'))\n",
    "r95_meta_ff"
   ]
  },
  {
   "cell_type": "markdown",
   "metadata": {},
   "source": [
    "### Subsampling to max of N species"
   ]
  },
  {
   "cell_type": "code",
   "execution_count": 38,
   "metadata": {
    "ExecuteTime": {
     "end_time": "2020-10-08T17:53:10.389822Z",
     "start_time": "2020-10-08T17:52:51.304Z"
    }
   },
   "outputs": [],
   "source": [
    "# cutoff for max number of species\n",
    "n_per_species = 3"
   ]
  },
  {
   "cell_type": "code",
   "execution_count": 39,
   "metadata": {
    "ExecuteTime": {
     "end_time": "2020-10-08T17:53:10.792645Z",
     "start_time": "2020-10-08T17:52:51.310Z"
    }
   },
   "outputs": [
    {
     "data": {
      "text/html": [
       "<table>\n",
       "<caption>A grouped_df: 4003 × 27</caption>\n",
       "<thead>\n",
       "\t<tr><th scope=col>accession</th><th scope=col>Domain</th><th scope=col>Phylum</th><th scope=col>Class</th><th scope=col>Order</th><th scope=col>Family</th><th scope=col>Genus</th><th scope=col>Species</th><th scope=col>checkm_completeness</th><th scope=col>checkm_contamination</th><th scope=col>⋯</th><th scope=col>gc_percentage</th><th scope=col>contig_count</th><th scope=col>genome_size</th><th scope=col>mean_contig_length</th><th scope=col>scaffold_count</th><th scope=col>ssu_contig_len</th><th scope=col>ssu_count</th><th scope=col>mimag_high_quality</th><th scope=col>mimag_medium_quality</th><th scope=col>mimag_low_quality</th></tr>\n",
       "\t<tr><th scope=col>&lt;chr&gt;</th><th scope=col>&lt;chr&gt;</th><th scope=col>&lt;chr&gt;</th><th scope=col>&lt;chr&gt;</th><th scope=col>&lt;chr&gt;</th><th scope=col>&lt;chr&gt;</th><th scope=col>&lt;chr&gt;</th><th scope=col>&lt;chr&gt;</th><th scope=col>&lt;dbl&gt;</th><th scope=col>&lt;dbl&gt;</th><th scope=col>⋯</th><th scope=col>&lt;dbl&gt;</th><th scope=col>&lt;int&gt;</th><th scope=col>&lt;int&gt;</th><th scope=col>&lt;int&gt;</th><th scope=col>&lt;int&gt;</th><th scope=col>&lt;chr&gt;</th><th scope=col>&lt;int&gt;</th><th scope=col>&lt;chr&gt;</th><th scope=col>&lt;chr&gt;</th><th scope=col>&lt;chr&gt;</th></tr>\n",
       "</thead>\n",
       "<tbody>\n",
       "\t<tr><td>RS_GCF_000008665.1</td><td>d__Archaea</td><td>p__Halobacteriota</td><td>c__Archaeoglobi</td><td>o__Archaeoglobales</td><td>f__Archaeoglobaceae</td><td>g__Archaeoglobus</td><td>s__Archaeoglobus fulgidus</td><td>100</td><td>0.00</td><td>⋯</td><td>48.58167</td><td>1</td><td>2178400</td><td>2178400</td><td>1</td><td>2178400</td><td>1</td><td>t</td><td>f</td><td>f</td></tr>\n",
       "\t<tr><td>RS_GCF_000734035.1</td><td>d__Archaea</td><td>p__Halobacteriota</td><td>c__Archaeoglobi</td><td>o__Archaeoglobales</td><td>f__Archaeoglobaceae</td><td>g__Archaeoglobus</td><td>s__Archaeoglobus fulgidus</td><td>100</td><td>0.65</td><td>⋯</td><td>48.07651</td><td>1</td><td>2316287</td><td>2316287</td><td>1</td><td>2316287</td><td>1</td><td>t</td><td>f</td><td>f</td></tr>\n",
       "\t<tr><td>⋮</td><td>⋮</td><td>⋮</td><td>⋮</td><td>⋮</td><td>⋮</td><td>⋮</td><td>⋮</td><td>⋮</td><td>⋮</td><td>⋱</td><td>⋮</td><td>⋮</td><td>⋮</td><td>⋮</td><td>⋮</td><td>⋮</td><td>⋮</td><td>⋮</td><td>⋮</td><td>⋮</td></tr>\n",
       "\t<tr><td>RS_GCF_000184345.1</td><td>d__Bacteria</td><td>p__Spirochaetota</td><td>c__Spirochaetia</td><td>o__Spirochaetales_A</td><td>f__Spirochaetaceae_A</td><td>g__Spirochaeta_A</td><td>s__Spirochaeta_A thermophila  </td><td>100</td><td>0</td><td>⋯</td><td>60.91831</td><td>1</td><td>2560222</td><td>2560222</td><td>1</td><td>2560222</td><td>2</td><td>t</td><td>f</td><td>f</td></tr>\n",
       "\t<tr><td>RS_GCF_000147075.1</td><td>d__Bacteria</td><td>p__Spirochaetota</td><td>c__Spirochaetia</td><td>o__Spirochaetales_A</td><td>f__Spirochaetaceae_A</td><td>g__Spirochaeta_A</td><td>s__Spirochaeta_A thermophila_A</td><td>100</td><td>0</td><td>⋯</td><td>61.87746</td><td>1</td><td>2472645</td><td>2472645</td><td>1</td><td>2472645</td><td>2</td><td>t</td><td>f</td><td>f</td></tr>\n",
       "</tbody>\n",
       "</table>\n"
      ],
      "text/latex": [
       "A grouped\\_df: 4003 × 27\n",
       "\\begin{tabular}{lllllllllllllllllllll}\n",
       " accession & Domain & Phylum & Class & Order & Family & Genus & Species & checkm\\_completeness & checkm\\_contamination & ⋯ & gc\\_percentage & contig\\_count & genome\\_size & mean\\_contig\\_length & scaffold\\_count & ssu\\_contig\\_len & ssu\\_count & mimag\\_high\\_quality & mimag\\_medium\\_quality & mimag\\_low\\_quality\\\\\n",
       " <chr> & <chr> & <chr> & <chr> & <chr> & <chr> & <chr> & <chr> & <dbl> & <dbl> & ⋯ & <dbl> & <int> & <int> & <int> & <int> & <chr> & <int> & <chr> & <chr> & <chr>\\\\\n",
       "\\hline\n",
       "\t RS\\_GCF\\_000008665.1 & d\\_\\_Archaea & p\\_\\_Halobacteriota & c\\_\\_Archaeoglobi & o\\_\\_Archaeoglobales & f\\_\\_Archaeoglobaceae & g\\_\\_Archaeoglobus & s\\_\\_Archaeoglobus fulgidus & 100 & 0.00 & ⋯ & 48.58167 & 1 & 2178400 & 2178400 & 1 & 2178400 & 1 & t & f & f\\\\\n",
       "\t RS\\_GCF\\_000734035.1 & d\\_\\_Archaea & p\\_\\_Halobacteriota & c\\_\\_Archaeoglobi & o\\_\\_Archaeoglobales & f\\_\\_Archaeoglobaceae & g\\_\\_Archaeoglobus & s\\_\\_Archaeoglobus fulgidus & 100 & 0.65 & ⋯ & 48.07651 & 1 & 2316287 & 2316287 & 1 & 2316287 & 1 & t & f & f\\\\\n",
       "\t ⋮ & ⋮ & ⋮ & ⋮ & ⋮ & ⋮ & ⋮ & ⋮ & ⋮ & ⋮ & ⋱ & ⋮ & ⋮ & ⋮ & ⋮ & ⋮ & ⋮ & ⋮ & ⋮ & ⋮ & ⋮\\\\\n",
       "\t RS\\_GCF\\_000184345.1 & d\\_\\_Bacteria & p\\_\\_Spirochaetota & c\\_\\_Spirochaetia & o\\_\\_Spirochaetales\\_A & f\\_\\_Spirochaetaceae\\_A & g\\_\\_Spirochaeta\\_A & s\\_\\_Spirochaeta\\_A thermophila   & 100 & 0 & ⋯ & 60.91831 & 1 & 2560222 & 2560222 & 1 & 2560222 & 2 & t & f & f\\\\\n",
       "\t RS\\_GCF\\_000147075.1 & d\\_\\_Bacteria & p\\_\\_Spirochaetota & c\\_\\_Spirochaetia & o\\_\\_Spirochaetales\\_A & f\\_\\_Spirochaetaceae\\_A & g\\_\\_Spirochaeta\\_A & s\\_\\_Spirochaeta\\_A thermophila\\_A & 100 & 0 & ⋯ & 61.87746 & 1 & 2472645 & 2472645 & 1 & 2472645 & 2 & t & f & f\\\\\n",
       "\\end{tabular}\n"
      ],
      "text/markdown": [
       "\n",
       "A grouped_df: 4003 × 27\n",
       "\n",
       "| accession &lt;chr&gt; | Domain &lt;chr&gt; | Phylum &lt;chr&gt; | Class &lt;chr&gt; | Order &lt;chr&gt; | Family &lt;chr&gt; | Genus &lt;chr&gt; | Species &lt;chr&gt; | checkm_completeness &lt;dbl&gt; | checkm_contamination &lt;dbl&gt; | ⋯ ⋯ | gc_percentage &lt;dbl&gt; | contig_count &lt;int&gt; | genome_size &lt;int&gt; | mean_contig_length &lt;int&gt; | scaffold_count &lt;int&gt; | ssu_contig_len &lt;chr&gt; | ssu_count &lt;int&gt; | mimag_high_quality &lt;chr&gt; | mimag_medium_quality &lt;chr&gt; | mimag_low_quality &lt;chr&gt; |\n",
       "|---|---|---|---|---|---|---|---|---|---|---|---|---|---|---|---|---|---|---|---|---|\n",
       "| RS_GCF_000008665.1 | d__Archaea | p__Halobacteriota | c__Archaeoglobi | o__Archaeoglobales | f__Archaeoglobaceae | g__Archaeoglobus | s__Archaeoglobus fulgidus | 100 | 0.00 | ⋯ | 48.58167 | 1 | 2178400 | 2178400 | 1 | 2178400 | 1 | t | f | f |\n",
       "| RS_GCF_000734035.1 | d__Archaea | p__Halobacteriota | c__Archaeoglobi | o__Archaeoglobales | f__Archaeoglobaceae | g__Archaeoglobus | s__Archaeoglobus fulgidus | 100 | 0.65 | ⋯ | 48.07651 | 1 | 2316287 | 2316287 | 1 | 2316287 | 1 | t | f | f |\n",
       "| ⋮ | ⋮ | ⋮ | ⋮ | ⋮ | ⋮ | ⋮ | ⋮ | ⋮ | ⋮ | ⋱ | ⋮ | ⋮ | ⋮ | ⋮ | ⋮ | ⋮ | ⋮ | ⋮ | ⋮ | ⋮ |\n",
       "| RS_GCF_000184345.1 | d__Bacteria | p__Spirochaetota | c__Spirochaetia | o__Spirochaetales_A | f__Spirochaetaceae_A | g__Spirochaeta_A | s__Spirochaeta_A thermophila   | 100 | 0 | ⋯ | 60.91831 | 1 | 2560222 | 2560222 | 1 | 2560222 | 2 | t | f | f |\n",
       "| RS_GCF_000147075.1 | d__Bacteria | p__Spirochaetota | c__Spirochaetia | o__Spirochaetales_A | f__Spirochaetaceae_A | g__Spirochaeta_A | s__Spirochaeta_A thermophila_A | 100 | 0 | ⋯ | 61.87746 | 1 | 2472645 | 2472645 | 1 | 2472645 | 2 | t | f | f |\n",
       "\n"
      ],
      "text/plain": [
       "     accession          Domain      Phylum            Class          \n",
       "1    RS_GCF_000008665.1 d__Archaea  p__Halobacteriota c__Archaeoglobi\n",
       "2    RS_GCF_000734035.1 d__Archaea  p__Halobacteriota c__Archaeoglobi\n",
       "⋮    ⋮                  ⋮           ⋮                 ⋮              \n",
       "4002 RS_GCF_000184345.1 d__Bacteria p__Spirochaetota  c__Spirochaetia\n",
       "4003 RS_GCF_000147075.1 d__Bacteria p__Spirochaetota  c__Spirochaetia\n",
       "     Order               Family               Genus           \n",
       "1    o__Archaeoglobales  f__Archaeoglobaceae  g__Archaeoglobus\n",
       "2    o__Archaeoglobales  f__Archaeoglobaceae  g__Archaeoglobus\n",
       "⋮    ⋮                   ⋮                    ⋮               \n",
       "4002 o__Spirochaetales_A f__Spirochaetaceae_A g__Spirochaeta_A\n",
       "4003 o__Spirochaetales_A f__Spirochaetaceae_A g__Spirochaeta_A\n",
       "     Species                        checkm_completeness checkm_contamination ⋯\n",
       "1    s__Archaeoglobus fulgidus      100                 0.00                 ⋯\n",
       "2    s__Archaeoglobus fulgidus      100                 0.65                 ⋯\n",
       "⋮    ⋮                              ⋮                   ⋮                    ⋱\n",
       "4002 s__Spirochaeta_A thermophila   100                 0                    ⋯\n",
       "4003 s__Spirochaeta_A thermophila_A 100                 0                    ⋯\n",
       "     gc_percentage contig_count genome_size mean_contig_length scaffold_count\n",
       "1    48.58167      1            2178400     2178400            1             \n",
       "2    48.07651      1            2316287     2316287            1             \n",
       "⋮    ⋮             ⋮            ⋮           ⋮                  ⋮             \n",
       "4002 60.91831      1            2560222     2560222            1             \n",
       "4003 61.87746      1            2472645     2472645            1             \n",
       "     ssu_contig_len ssu_count mimag_high_quality mimag_medium_quality\n",
       "1    2178400        1         t                  f                   \n",
       "2    2316287        1         t                  f                   \n",
       "⋮    ⋮              ⋮         ⋮                  ⋮                   \n",
       "4002 2560222        2         t                  f                   \n",
       "4003 2472645        2         t                  f                   \n",
       "     mimag_low_quality\n",
       "1    f                \n",
       "2    f                \n",
       "⋮    ⋮                \n",
       "4002 f                \n",
       "4003 f                "
      ]
     },
     "metadata": {},
     "output_type": "display_data"
    }
   ],
   "source": [
    "# filtering\n",
    "r95_meta_ffs = r95_meta_ff %>%\n",
    "    group_by(Domain, Phylum, Class, Order, Family, Genus, Species) %>%\n",
    "    sample_n(n_per_species, replace=TRUE) %>%\n",
    "    distinct(Domain, Phylum, Class, Order, Family, Genus, Species, accession) %>%\n",
    "    inner_join(r95_meta_ff, c(levs, 'accession'))\n",
    "r95_meta_ffs "
   ]
  },
  {
   "cell_type": "code",
   "execution_count": 40,
   "metadata": {
    "ExecuteTime": {
     "end_time": "2020-10-08T17:53:11.036473Z",
     "start_time": "2020-10-08T17:52:51.314Z"
    }
   },
   "outputs": [
    {
     "data": {
      "text/html": [
       "<table>\n",
       "<caption>A matrix: 1 × 8 of type dbl</caption>\n",
       "<thead>\n",
       "\t<tr><th></th><th scope=col>Min.</th><th scope=col>1st Qu.</th><th scope=col>Median</th><th scope=col>Mean</th><th scope=col>3rd Qu.</th><th scope=col>Max.</th><th scope=col>sd</th><th scope=col>sd_err_of_mean</th></tr>\n",
       "</thead>\n",
       "<tbody>\n",
       "\t<tr><th scope=row>Genomes per species</th><td>1</td><td>1</td><td>1</td><td>1.276467</td><td>1</td><td>3</td><td>0.802</td><td>0.327</td></tr>\n",
       "</tbody>\n",
       "</table>\n"
      ],
      "text/latex": [
       "A matrix: 1 × 8 of type dbl\n",
       "\\begin{tabular}{r|llllllll}\n",
       "  & Min. & 1st Qu. & Median & Mean & 3rd Qu. & Max. & sd & sd\\_err\\_of\\_mean\\\\\n",
       "\\hline\n",
       "\tGenomes per species & 1 & 1 & 1 & 1.276467 & 1 & 3 & 0.802 & 0.327\\\\\n",
       "\\end{tabular}\n"
      ],
      "text/markdown": [
       "\n",
       "A matrix: 1 × 8 of type dbl\n",
       "\n",
       "| <!--/--> | Min. | 1st Qu. | Median | Mean | 3rd Qu. | Max. | sd | sd_err_of_mean |\n",
       "|---|---|---|---|---|---|---|---|---|\n",
       "| Genomes per species | 1 | 1 | 1 | 1.276467 | 1 | 3 | 0.802 | 0.327 |\n",
       "\n"
      ],
      "text/plain": [
       "                    Min. 1st Qu. Median Mean     3rd Qu. Max. sd   \n",
       "Genomes per species 1    1       1      1.276467 1       3    0.802\n",
       "                    sd_err_of_mean\n",
       "Genomes per species 0.327         "
      ]
     },
     "metadata": {},
     "output_type": "display_data"
    }
   ],
   "source": [
    "# number of genomes (post-sample)\n",
    "r95_meta_ffs %>%\n",
    "    group_by(Phylum, Class, Order, Family, Genus, Species) %>%\n",
    "    summarize(n = n(), .groups='drop') %>%\n",
    "    .$n %>% summary_x('Genomes per species')"
   ]
  },
  {
   "cell_type": "markdown",
   "metadata": {},
   "source": [
    "### Checking overlap"
   ]
  },
  {
   "cell_type": "code",
   "execution_count": 41,
   "metadata": {
    "ExecuteTime": {
     "end_time": "2020-10-08T17:53:11.096612Z",
     "start_time": "2020-10-08T17:52:51.321Z"
    },
    "scrolled": true
   },
   "outputs": [
    {
     "name": "stderr",
     "output_type": "stream",
     "text": [
      "Warning message in cbind(parts$left, ellip_h, parts$right, deparse.level = 0L):\n",
      "“number of rows of result is not a multiple of vector length (arg 2)”\n",
      "Warning message in cbind(parts$left, ellip_h, parts$right, deparse.level = 0L):\n",
      "“number of rows of result is not a multiple of vector length (arg 2)”\n",
      "Warning message in cbind(parts$left, ellip_h, parts$right, deparse.level = 0L):\n",
      "“number of rows of result is not a multiple of vector length (arg 2)”\n",
      "Warning message in cbind(parts$left, ellip_h, parts$right, deparse.level = 0L):\n",
      "“number of rows of result is not a multiple of vector length (arg 2)”\n"
     ]
    },
    {
     "data": {
      "text/html": [
       "<table>\n",
       "<caption>A grouped_df: 0 × 141</caption>\n",
       "<thead>\n",
       "\t<tr><th scope=col>accession.x</th><th scope=col>Domain</th><th scope=col>Phylum</th><th scope=col>Class</th><th scope=col>Order</th><th scope=col>Family.x</th><th scope=col>Genus.x</th><th scope=col>Species.x</th><th scope=col>checkm_completeness.x</th><th scope=col>checkm_contamination.x</th><th scope=col>⋯</th><th scope=col>ssu_silva_blast_evalue</th><th scope=col>ssu_silva_blast_perc_identity</th><th scope=col>ssu_silva_blast_subject_id</th><th scope=col>ssu_silva_taxonomy</th><th scope=col>total_gap_length</th><th scope=col>trna_aa_count</th><th scope=col>trna_count</th><th scope=col>trna_selenocysteine_count</th><th scope=col>fasta_file_path</th><th scope=col>dataset_partition</th></tr>\n",
       "\t<tr><th scope=col>&lt;chr&gt;</th><th scope=col>&lt;chr&gt;</th><th scope=col>&lt;chr&gt;</th><th scope=col>&lt;chr&gt;</th><th scope=col>&lt;chr&gt;</th><th scope=col>&lt;chr&gt;</th><th scope=col>&lt;chr&gt;</th><th scope=col>&lt;chr&gt;</th><th scope=col>&lt;dbl&gt;</th><th scope=col>&lt;dbl&gt;</th><th scope=col>⋯</th><th scope=col>&lt;int&gt;</th><th scope=col>&lt;dbl&gt;</th><th scope=col>&lt;chr&gt;</th><th scope=col>&lt;chr&gt;</th><th scope=col>&lt;int&gt;</th><th scope=col>&lt;int&gt;</th><th scope=col>&lt;int&gt;</th><th scope=col>&lt;int&gt;</th><th scope=col>&lt;chr&gt;</th><th scope=col>&lt;chr&gt;</th></tr>\n",
       "</thead>\n",
       "<tbody>\n",
       "</tbody>\n",
       "</table>\n"
      ],
      "text/latex": [
       "A grouped\\_df: 0 × 141\n",
       "\\begin{tabular}{lllllllllllllllllllll}\n",
       " accession.x & Domain & Phylum & Class & Order & Family.x & Genus.x & Species.x & checkm\\_completeness.x & checkm\\_contamination.x & ⋯ & ssu\\_silva\\_blast\\_evalue & ssu\\_silva\\_blast\\_perc\\_identity & ssu\\_silva\\_blast\\_subject\\_id & ssu\\_silva\\_taxonomy & total\\_gap\\_length & trna\\_aa\\_count & trna\\_count & trna\\_selenocysteine\\_count & fasta\\_file\\_path & dataset\\_partition\\\\\n",
       " <chr> & <chr> & <chr> & <chr> & <chr> & <chr> & <chr> & <chr> & <dbl> & <dbl> & ⋯ & <int> & <dbl> & <chr> & <chr> & <int> & <int> & <int> & <int> & <chr> & <chr>\\\\\n",
       "\\hline\n",
       "\\end{tabular}\n"
      ],
      "text/markdown": [
       "\n",
       "A grouped_df: 0 × 141\n",
       "\n",
       "| accession.x &lt;chr&gt; | Domain &lt;chr&gt; | Phylum &lt;chr&gt; | Class &lt;chr&gt; | Order &lt;chr&gt; | Family.x &lt;chr&gt; | Genus.x &lt;chr&gt; | Species.x &lt;chr&gt; | checkm_completeness.x &lt;dbl&gt; | checkm_contamination.x &lt;dbl&gt; | ⋯ ⋯ | ssu_silva_blast_evalue &lt;int&gt; | ssu_silva_blast_perc_identity &lt;dbl&gt; | ssu_silva_blast_subject_id &lt;chr&gt; | ssu_silva_taxonomy &lt;chr&gt; | total_gap_length &lt;int&gt; | trna_aa_count &lt;int&gt; | trna_count &lt;int&gt; | trna_selenocysteine_count &lt;int&gt; | fasta_file_path &lt;chr&gt; | dataset_partition &lt;chr&gt; |\n",
       "|---|---|---|---|---|---|---|---|---|---|---|---|---|---|---|---|---|---|---|---|---|\n",
       "\n"
      ],
      "text/plain": [
       "     accession.x Domain Phylum Class Order Family.x Genus.x Species.x\n",
       "     checkm_completeness.x checkm_contamination.x ⋯ ssu_silva_blast_evalue\n",
       "     ssu_silva_blast_perc_identity ssu_silva_blast_subject_id\n",
       "     ssu_silva_taxonomy total_gap_length trna_aa_count trna_count\n",
       "     trna_selenocysteine_count fasta_file_path dataset_partition"
      ]
     },
     "metadata": {},
     "output_type": "display_data"
    }
   ],
   "source": [
    "r95_meta_ffs %>%\n",
    "    inner_join(r89_ref, c('Domain', 'Phylum', 'Class', 'Order'))"
   ]
  },
  {
   "cell_type": "markdown",
   "metadata": {},
   "source": [
    "### Writing metadata"
   ]
  },
  {
   "cell_type": "code",
   "execution_count": 42,
   "metadata": {
    "ExecuteTime": {
     "end_time": "2020-10-08T17:53:11.200898Z",
     "start_time": "2020-10-08T17:52:51.325Z"
    }
   },
   "outputs": [
    {
     "name": "stdout",
     "output_type": "stream",
     "text": [
      "File written: /ebio/abt3_projects/databases_no-backup/DeepMAsED/version2/ref_genomes/GTDBr95//metadata_quality_novel-order.tsv \n"
     ]
    }
   ],
   "source": [
    "outF = file.path(r95_work_dir, 'metadata_quality_novel-order.tsv')\n",
    "write_table(r95_meta_ffs, file=outF)"
   ]
  },
  {
   "cell_type": "markdown",
   "metadata": {},
   "source": [
    "# Downloading all genomes"
   ]
  },
  {
   "cell_type": "markdown",
   "metadata": {},
   "source": [
    "## Genus"
   ]
  },
  {
   "cell_type": "markdown",
   "metadata": {},
   "source": [
    "```\n",
    "@ (py3_genome) /ebio/abt3_projects/databases_no-backup/DeepMAsED/version2/ref_genomes/GTDBr95/\n",
    "screen -L -S genome-dl bash -c \"../genome_download.R -o genomes_quality_novel-genus -p 16 metadata_quality_novel-genus.tsv > metadata_quality_novel-genus_wGen.tsv\"\n",
    "```"
   ]
  },
  {
   "cell_type": "markdown",
   "metadata": {},
   "source": [
    "## Family"
   ]
  },
  {
   "cell_type": "markdown",
   "metadata": {},
   "source": [
    "```\n",
    "(py3_genome) @ rick:/ebio/abt3_projects/databases_no-backup/DeepMAsED/version2/ref_genomes/GTDBr95\n",
    "$ screen -Logfile novel-family.scrnlog -S genome-dl-fam bash -c \"../genome_download.R -o genomes_quality_novel-family -p 16 metadata_quality_novel-family.tsv > metadata_quality_novel-family_wGen.tsv\"\n",
    "```"
   ]
  },
  {
   "cell_type": "markdown",
   "metadata": {},
   "source": [
    "## Order"
   ]
  },
  {
   "cell_type": "markdown",
   "metadata": {},
   "source": [
    "```\n",
    "(py3_genome) @ rick:/ebio/abt3_projects/databases_no-backup/DeepMAsED/version2/ref_genomes/GTDBr95\n",
    "$ screen -Logfile novel-order.scrnlog -S genome-dl-fam bash -c \"../genome_download.R -o genomes_quality_novel-order -p 16 metadata_quality_novel-order.tsv > metadata_quality_novel-order_wGen.tsv\n",
    "```"
   ]
  },
  {
   "cell_type": "markdown",
   "metadata": {},
   "source": [
    "# Selecting final ref genomes"
   ]
  },
  {
   "cell_type": "code",
   "execution_count": 43,
   "metadata": {
    "ExecuteTime": {
     "end_time": "2020-10-08T17:53:11.213883Z",
     "start_time": "2020-10-08T17:52:51.333Z"
    }
   },
   "outputs": [],
   "source": [
    "n_final_genomes = 3900"
   ]
  },
  {
   "cell_type": "code",
   "execution_count": 44,
   "metadata": {
    "ExecuteTime": {
     "end_time": "2020-10-08T17:53:15.728156Z",
     "start_time": "2020-10-08T17:52:51.338Z"
    }
   },
   "outputs": [
    {
     "data": {
      "text/html": [
       "<table>\n",
       "<caption>A data.frame: 9000 × 118</caption>\n",
       "<thead>\n",
       "\t<tr><th scope=col>accession</th><th scope=col>Domain</th><th scope=col>Phylum</th><th scope=col>Class</th><th scope=col>Order</th><th scope=col>Family</th><th scope=col>Genus</th><th scope=col>Species</th><th scope=col>ambiguous_bases</th><th scope=col>checkm_completeness</th><th scope=col>⋯</th><th scope=col>ssu_silva_blast_evalue</th><th scope=col>ssu_silva_blast_perc_identity</th><th scope=col>ssu_silva_blast_subject_id</th><th scope=col>ssu_silva_taxonomy</th><th scope=col>total_gap_length</th><th scope=col>trna_aa_count</th><th scope=col>trna_count</th><th scope=col>trna_selenocysteine_count</th><th scope=col>fasta_file_path</th><th scope=col>dataset_partition</th></tr>\n",
       "\t<tr><th scope=col>&lt;fct&gt;</th><th scope=col>&lt;fct&gt;</th><th scope=col>&lt;fct&gt;</th><th scope=col>&lt;fct&gt;</th><th scope=col>&lt;fct&gt;</th><th scope=col>&lt;fct&gt;</th><th scope=col>&lt;fct&gt;</th><th scope=col>&lt;fct&gt;</th><th scope=col>&lt;int&gt;</th><th scope=col>&lt;dbl&gt;</th><th scope=col>⋯</th><th scope=col>&lt;int&gt;</th><th scope=col>&lt;dbl&gt;</th><th scope=col>&lt;fct&gt;</th><th scope=col>&lt;fct&gt;</th><th scope=col>&lt;int&gt;</th><th scope=col>&lt;int&gt;</th><th scope=col>&lt;int&gt;</th><th scope=col>&lt;int&gt;</th><th scope=col>&lt;fct&gt;</th><th scope=col>&lt;fct&gt;</th></tr>\n",
       "</thead>\n",
       "<tbody>\n",
       "\t<tr><td>RS_GCF_000478885.1</td><td>d__Bacteria</td><td>p__Actinobacteriota</td><td>c__Coriobacteriia</td><td>o__Coriobacteriales</td><td>f__Eggerthellaceae</td><td>g__Adlercreutzia</td><td>s__Adlercreutzia equolifaciens</td><td>0</td><td>100.00</td><td>⋯</td><td>0</td><td>100.000</td><td>AB649147.1.1469       </td><td>Bacteria;Actinobacteria;Coriobacteriia;Coriobacteriales;Coriobacteriaceae;Adlercreutzia;Adlercreutzia equolifaciens</td><td>  0</td><td>20</td><td>48</td><td>0</td><td>/ebio/abt3_projects/databases_no-backup/DeepMAsED/version2/ref_genomes/GTDBr89/genomes_quality/genbank/bacteria/GCA_000478885.1/GCA_000478885.1_ASM47888v1_genomic.fna.gz </td><td>Train</td></tr>\n",
       "\t<tr><td>RS_GCF_002560615.1</td><td>d__Bacteria</td><td>p__Firmicutes      </td><td>c__Bacilli       </td><td>o__Bacillales      </td><td>f__Bacillaceae_G  </td><td>g__Bacillus_A   </td><td>s__Bacillus_A cereus_AG       </td><td>0</td><td> 98.68</td><td>⋯</td><td>0</td><td> 99.935</td><td>CP010089.670406.671961</td><td>Bacteria;Firmicutes;Bacilli;Bacillales;Bacillaceae;Bacillus;Bacillus thuringiensis serovar galleriae               </td><td>368</td><td>20</td><td>63</td><td>0</td><td>/ebio/abt3_projects/databases_no-backup/DeepMAsED/version2/ref_genomes/GTDBr89/genomes_quality/genbank/bacteria/GCA_002560615.1/GCA_002560615.1_ASM256061v1_genomic.fna.gz</td><td>Train</td></tr>\n",
       "\t<tr><td>⋮</td><td>⋮</td><td>⋮</td><td>⋮</td><td>⋮</td><td>⋮</td><td>⋮</td><td>⋮</td><td>⋮</td><td>⋮</td><td>⋱</td><td>⋮</td><td>⋮</td><td>⋮</td><td>⋮</td><td>⋮</td><td>⋮</td><td>⋮</td><td>⋮</td><td>⋮</td><td>⋮</td></tr>\n",
       "\t<tr><td>RS_GCF_000956525.1</td><td>d__Bacteria</td><td>p__Actinobacteriota</td><td>c__Actinobacteria     </td><td>o__Actinomycetales</td><td>f__Microbacteriaceae</td><td>g__Microbacterium</td><td>s__Microbacterium oxydans_A</td><td>0</td><td> 99.49</td><td>⋯</td><td>0</td><td>99.934</td><td>AJ717356.1.1509         </td><td>Bacteria;Actinobacteria;Actinobacteria;Micrococcales;Microbacteriaceae;Microbacterium;Microbacterium oxydans      </td><td>    0</td><td>20</td><td>45</td><td>0</td><td>/ebio/abt3_projects/databases_no-backup/DeepMAsED/version2/ref_genomes/GTDBr89/genomes_quality/genbank/bacteria/GCA_000956525.1/GCA_000956525.1_ASM95652v1_genomic.fna.gz         </td><td>Train</td></tr>\n",
       "\t<tr><td>RS_GCF_000368065.1</td><td>d__Bacteria</td><td>p__Proteobacteria  </td><td>c__Gammaproteobacteria</td><td>o__Pseudomonadales</td><td>f__Moraxellaceae    </td><td>g__Acinetobacter </td><td>s__Acinetobacter seifertii </td><td>0</td><td>100.00</td><td>⋯</td><td>0</td><td>99.672</td><td>APOO01000003.23372.24897</td><td>Bacteria;Proteobacteria;Gammaproteobacteria;Pseudomonadales;Moraxellaceae;Acinetobacter;Acinetobacter sp. NIPH 973</td><td>18875</td><td>20</td><td>70</td><td>0</td><td>/ebio/abt3_projects/databases_no-backup/DeepMAsED/version2/ref_genomes/GTDBr89/genomes_quality/genbank/bacteria/GCA_000368065.1/GCA_000368065.1_Acin_sp_NIPH_973_V1_genomic.fna.gz</td><td>Train</td></tr>\n",
       "</tbody>\n",
       "</table>\n"
      ],
      "text/latex": [
       "A data.frame: 9000 × 118\n",
       "\\begin{tabular}{lllllllllllllllllllll}\n",
       " accession & Domain & Phylum & Class & Order & Family & Genus & Species & ambiguous\\_bases & checkm\\_completeness & ⋯ & ssu\\_silva\\_blast\\_evalue & ssu\\_silva\\_blast\\_perc\\_identity & ssu\\_silva\\_blast\\_subject\\_id & ssu\\_silva\\_taxonomy & total\\_gap\\_length & trna\\_aa\\_count & trna\\_count & trna\\_selenocysteine\\_count & fasta\\_file\\_path & dataset\\_partition\\\\\n",
       " <fct> & <fct> & <fct> & <fct> & <fct> & <fct> & <fct> & <fct> & <int> & <dbl> & ⋯ & <int> & <dbl> & <fct> & <fct> & <int> & <int> & <int> & <int> & <fct> & <fct>\\\\\n",
       "\\hline\n",
       "\t RS\\_GCF\\_000478885.1 & d\\_\\_Bacteria & p\\_\\_Actinobacteriota & c\\_\\_Coriobacteriia & o\\_\\_Coriobacteriales & f\\_\\_Eggerthellaceae & g\\_\\_Adlercreutzia & s\\_\\_Adlercreutzia equolifaciens & 0 & 100.00 & ⋯ & 0 & 100.000 & AB649147.1.1469        & Bacteria;Actinobacteria;Coriobacteriia;Coriobacteriales;Coriobacteriaceae;Adlercreutzia;Adlercreutzia equolifaciens &   0 & 20 & 48 & 0 & /ebio/abt3\\_projects/databases\\_no-backup/DeepMAsED/version2/ref\\_genomes/GTDBr89/genomes\\_quality/genbank/bacteria/GCA\\_000478885.1/GCA\\_000478885.1\\_ASM47888v1\\_genomic.fna.gz  & Train\\\\\n",
       "\t RS\\_GCF\\_002560615.1 & d\\_\\_Bacteria & p\\_\\_Firmicutes       & c\\_\\_Bacilli        & o\\_\\_Bacillales       & f\\_\\_Bacillaceae\\_G   & g\\_\\_Bacillus\\_A    & s\\_\\_Bacillus\\_A cereus\\_AG        & 0 &  98.68 & ⋯ & 0 &  99.935 & CP010089.670406.671961 & Bacteria;Firmicutes;Bacilli;Bacillales;Bacillaceae;Bacillus;Bacillus thuringiensis serovar galleriae                & 368 & 20 & 63 & 0 & /ebio/abt3\\_projects/databases\\_no-backup/DeepMAsED/version2/ref\\_genomes/GTDBr89/genomes\\_quality/genbank/bacteria/GCA\\_002560615.1/GCA\\_002560615.1\\_ASM256061v1\\_genomic.fna.gz & Train\\\\\n",
       "\t ⋮ & ⋮ & ⋮ & ⋮ & ⋮ & ⋮ & ⋮ & ⋮ & ⋮ & ⋮ & ⋱ & ⋮ & ⋮ & ⋮ & ⋮ & ⋮ & ⋮ & ⋮ & ⋮ & ⋮ & ⋮\\\\\n",
       "\t RS\\_GCF\\_000956525.1 & d\\_\\_Bacteria & p\\_\\_Actinobacteriota & c\\_\\_Actinobacteria      & o\\_\\_Actinomycetales & f\\_\\_Microbacteriaceae & g\\_\\_Microbacterium & s\\_\\_Microbacterium oxydans\\_A & 0 &  99.49 & ⋯ & 0 & 99.934 & AJ717356.1.1509          & Bacteria;Actinobacteria;Actinobacteria;Micrococcales;Microbacteriaceae;Microbacterium;Microbacterium oxydans       &     0 & 20 & 45 & 0 & /ebio/abt3\\_projects/databases\\_no-backup/DeepMAsED/version2/ref\\_genomes/GTDBr89/genomes\\_quality/genbank/bacteria/GCA\\_000956525.1/GCA\\_000956525.1\\_ASM95652v1\\_genomic.fna.gz          & Train\\\\\n",
       "\t RS\\_GCF\\_000368065.1 & d\\_\\_Bacteria & p\\_\\_Proteobacteria   & c\\_\\_Gammaproteobacteria & o\\_\\_Pseudomonadales & f\\_\\_Moraxellaceae     & g\\_\\_Acinetobacter  & s\\_\\_Acinetobacter seifertii  & 0 & 100.00 & ⋯ & 0 & 99.672 & APOO01000003.23372.24897 & Bacteria;Proteobacteria;Gammaproteobacteria;Pseudomonadales;Moraxellaceae;Acinetobacter;Acinetobacter sp. NIPH 973 & 18875 & 20 & 70 & 0 & /ebio/abt3\\_projects/databases\\_no-backup/DeepMAsED/version2/ref\\_genomes/GTDBr89/genomes\\_quality/genbank/bacteria/GCA\\_000368065.1/GCA\\_000368065.1\\_Acin\\_sp\\_NIPH\\_973\\_V1\\_genomic.fna.gz & Train\\\\\n",
       "\\end{tabular}\n"
      ],
      "text/markdown": [
       "\n",
       "A data.frame: 9000 × 118\n",
       "\n",
       "| accession &lt;fct&gt; | Domain &lt;fct&gt; | Phylum &lt;fct&gt; | Class &lt;fct&gt; | Order &lt;fct&gt; | Family &lt;fct&gt; | Genus &lt;fct&gt; | Species &lt;fct&gt; | ambiguous_bases &lt;int&gt; | checkm_completeness &lt;dbl&gt; | ⋯ ⋯ | ssu_silva_blast_evalue &lt;int&gt; | ssu_silva_blast_perc_identity &lt;dbl&gt; | ssu_silva_blast_subject_id &lt;fct&gt; | ssu_silva_taxonomy &lt;fct&gt; | total_gap_length &lt;int&gt; | trna_aa_count &lt;int&gt; | trna_count &lt;int&gt; | trna_selenocysteine_count &lt;int&gt; | fasta_file_path &lt;fct&gt; | dataset_partition &lt;fct&gt; |\n",
       "|---|---|---|---|---|---|---|---|---|---|---|---|---|---|---|---|---|---|---|---|---|\n",
       "| RS_GCF_000478885.1 | d__Bacteria | p__Actinobacteriota | c__Coriobacteriia | o__Coriobacteriales | f__Eggerthellaceae | g__Adlercreutzia | s__Adlercreutzia equolifaciens | 0 | 100.00 | ⋯ | 0 | 100.000 | AB649147.1.1469        | Bacteria;Actinobacteria;Coriobacteriia;Coriobacteriales;Coriobacteriaceae;Adlercreutzia;Adlercreutzia equolifaciens |   0 | 20 | 48 | 0 | /ebio/abt3_projects/databases_no-backup/DeepMAsED/version2/ref_genomes/GTDBr89/genomes_quality/genbank/bacteria/GCA_000478885.1/GCA_000478885.1_ASM47888v1_genomic.fna.gz  | Train |\n",
       "| RS_GCF_002560615.1 | d__Bacteria | p__Firmicutes       | c__Bacilli        | o__Bacillales       | f__Bacillaceae_G   | g__Bacillus_A    | s__Bacillus_A cereus_AG        | 0 |  98.68 | ⋯ | 0 |  99.935 | CP010089.670406.671961 | Bacteria;Firmicutes;Bacilli;Bacillales;Bacillaceae;Bacillus;Bacillus thuringiensis serovar galleriae                | 368 | 20 | 63 | 0 | /ebio/abt3_projects/databases_no-backup/DeepMAsED/version2/ref_genomes/GTDBr89/genomes_quality/genbank/bacteria/GCA_002560615.1/GCA_002560615.1_ASM256061v1_genomic.fna.gz | Train |\n",
       "| ⋮ | ⋮ | ⋮ | ⋮ | ⋮ | ⋮ | ⋮ | ⋮ | ⋮ | ⋮ | ⋱ | ⋮ | ⋮ | ⋮ | ⋮ | ⋮ | ⋮ | ⋮ | ⋮ | ⋮ | ⋮ |\n",
       "| RS_GCF_000956525.1 | d__Bacteria | p__Actinobacteriota | c__Actinobacteria      | o__Actinomycetales | f__Microbacteriaceae | g__Microbacterium | s__Microbacterium oxydans_A | 0 |  99.49 | ⋯ | 0 | 99.934 | AJ717356.1.1509          | Bacteria;Actinobacteria;Actinobacteria;Micrococcales;Microbacteriaceae;Microbacterium;Microbacterium oxydans       |     0 | 20 | 45 | 0 | /ebio/abt3_projects/databases_no-backup/DeepMAsED/version2/ref_genomes/GTDBr89/genomes_quality/genbank/bacteria/GCA_000956525.1/GCA_000956525.1_ASM95652v1_genomic.fna.gz          | Train |\n",
       "| RS_GCF_000368065.1 | d__Bacteria | p__Proteobacteria   | c__Gammaproteobacteria | o__Pseudomonadales | f__Moraxellaceae     | g__Acinetobacter  | s__Acinetobacter seifertii  | 0 | 100.00 | ⋯ | 0 | 99.672 | APOO01000003.23372.24897 | Bacteria;Proteobacteria;Gammaproteobacteria;Pseudomonadales;Moraxellaceae;Acinetobacter;Acinetobacter sp. NIPH 973 | 18875 | 20 | 70 | 0 | /ebio/abt3_projects/databases_no-backup/DeepMAsED/version2/ref_genomes/GTDBr89/genomes_quality/genbank/bacteria/GCA_000368065.1/GCA_000368065.1_Acin_sp_NIPH_973_V1_genomic.fna.gz | Train |\n",
       "\n"
      ],
      "text/plain": [
       "     accession          Domain      Phylum              Class                 \n",
       "1    RS_GCF_000478885.1 d__Bacteria p__Actinobacteriota c__Coriobacteriia     \n",
       "2    RS_GCF_002560615.1 d__Bacteria p__Firmicutes       c__Bacilli            \n",
       "⋮    ⋮                  ⋮           ⋮                   ⋮                     \n",
       "8999 RS_GCF_000956525.1 d__Bacteria p__Actinobacteriota c__Actinobacteria     \n",
       "9000 RS_GCF_000368065.1 d__Bacteria p__Proteobacteria   c__Gammaproteobacteria\n",
       "     Order               Family               Genus            \n",
       "1    o__Coriobacteriales f__Eggerthellaceae   g__Adlercreutzia \n",
       "2    o__Bacillales       f__Bacillaceae_G     g__Bacillus_A    \n",
       "⋮    ⋮                   ⋮                    ⋮                \n",
       "8999 o__Actinomycetales  f__Microbacteriaceae g__Microbacterium\n",
       "9000 o__Pseudomonadales  f__Moraxellaceae     g__Acinetobacter \n",
       "     Species                        ambiguous_bases checkm_completeness ⋯\n",
       "1    s__Adlercreutzia equolifaciens 0               100.00              ⋯\n",
       "2    s__Bacillus_A cereus_AG        0                98.68              ⋯\n",
       "⋮    ⋮                              ⋮               ⋮                   ⋱\n",
       "8999 s__Microbacterium oxydans_A    0                99.49              ⋯\n",
       "9000 s__Acinetobacter seifertii     0               100.00              ⋯\n",
       "     ssu_silva_blast_evalue ssu_silva_blast_perc_identity\n",
       "1    0                      100.000                      \n",
       "2    0                       99.935                      \n",
       "⋮    ⋮                      ⋮                            \n",
       "8999 0                      99.934                       \n",
       "9000 0                      99.672                       \n",
       "     ssu_silva_blast_subject_id\n",
       "1    AB649147.1.1469           \n",
       "2    CP010089.670406.671961    \n",
       "⋮    ⋮                         \n",
       "8999 AJ717356.1.1509           \n",
       "9000 APOO01000003.23372.24897  \n",
       "     ssu_silva_taxonomy                                                                                                 \n",
       "1    Bacteria;Actinobacteria;Coriobacteriia;Coriobacteriales;Coriobacteriaceae;Adlercreutzia;Adlercreutzia equolifaciens\n",
       "2    Bacteria;Firmicutes;Bacilli;Bacillales;Bacillaceae;Bacillus;Bacillus thuringiensis serovar galleriae               \n",
       "⋮    ⋮                                                                                                                  \n",
       "8999 Bacteria;Actinobacteria;Actinobacteria;Micrococcales;Microbacteriaceae;Microbacterium;Microbacterium oxydans       \n",
       "9000 Bacteria;Proteobacteria;Gammaproteobacteria;Pseudomonadales;Moraxellaceae;Acinetobacter;Acinetobacter sp. NIPH 973 \n",
       "     total_gap_length trna_aa_count trna_count trna_selenocysteine_count\n",
       "1      0              20            48         0                        \n",
       "2    368              20            63         0                        \n",
       "⋮    ⋮                ⋮             ⋮          ⋮                        \n",
       "8999     0            20            45         0                        \n",
       "9000 18875            20            70         0                        \n",
       "     fasta_file_path                                                                                                                                                                   \n",
       "1    /ebio/abt3_projects/databases_no-backup/DeepMAsED/version2/ref_genomes/GTDBr89/genomes_quality/genbank/bacteria/GCA_000478885.1/GCA_000478885.1_ASM47888v1_genomic.fna.gz         \n",
       "2    /ebio/abt3_projects/databases_no-backup/DeepMAsED/version2/ref_genomes/GTDBr89/genomes_quality/genbank/bacteria/GCA_002560615.1/GCA_002560615.1_ASM256061v1_genomic.fna.gz        \n",
       "⋮    ⋮                                                                                                                                                                                 \n",
       "8999 /ebio/abt3_projects/databases_no-backup/DeepMAsED/version2/ref_genomes/GTDBr89/genomes_quality/genbank/bacteria/GCA_000956525.1/GCA_000956525.1_ASM95652v1_genomic.fna.gz         \n",
       "9000 /ebio/abt3_projects/databases_no-backup/DeepMAsED/version2/ref_genomes/GTDBr89/genomes_quality/genbank/bacteria/GCA_000368065.1/GCA_000368065.1_Acin_sp_NIPH_973_V1_genomic.fna.gz\n",
       "     dataset_partition\n",
       "1    Train            \n",
       "2    Train            \n",
       "⋮    ⋮                \n",
       "8999 Train            \n",
       "9000 Train            "
      ]
     },
     "metadata": {},
     "output_type": "display_data"
    }
   ],
   "source": [
    "F = '/ebio/abt3_projects/databases_no-backup/DeepMAsED/version2/ref_genomes/GTDBr89/metadata_n9000-rand.tsv'\n",
    "df_train = read.delim(F, sep='\\t') %>%\n",
    "    filter(dataset_partition == 'Train')\n",
    "df_train"
   ]
  },
  {
   "cell_type": "markdown",
   "metadata": {},
   "source": [
    "## Order"
   ]
  },
  {
   "cell_type": "code",
   "execution_count": 45,
   "metadata": {
    "ExecuteTime": {
     "end_time": "2020-10-08T17:53:16.153663Z",
     "start_time": "2020-10-08T17:52:51.344Z"
    }
   },
   "outputs": [
    {
     "data": {
      "text/html": [
       "<table>\n",
       "<caption>A data.frame: 3900 × 28</caption>\n",
       "<thead>\n",
       "\t<tr><th scope=col>Taxon</th><th scope=col>Domain</th><th scope=col>Phylum</th><th scope=col>Class</th><th scope=col>Order</th><th scope=col>Family</th><th scope=col>Genus</th><th scope=col>Species</th><th scope=col>checkm_completeness</th><th scope=col>checkm_contamination</th><th scope=col>⋯</th><th scope=col>contig_count</th><th scope=col>genome_size</th><th scope=col>mean_contig_length</th><th scope=col>scaffold_count</th><th scope=col>ssu_contig_len</th><th scope=col>ssu_count</th><th scope=col>mimag_high_quality</th><th scope=col>mimag_medium_quality</th><th scope=col>mimag_low_quality</th><th scope=col>Fasta</th></tr>\n",
       "\t<tr><th scope=col>&lt;fct&gt;</th><th scope=col>&lt;fct&gt;</th><th scope=col>&lt;fct&gt;</th><th scope=col>&lt;fct&gt;</th><th scope=col>&lt;fct&gt;</th><th scope=col>&lt;fct&gt;</th><th scope=col>&lt;fct&gt;</th><th scope=col>&lt;fct&gt;</th><th scope=col>&lt;dbl&gt;</th><th scope=col>&lt;dbl&gt;</th><th scope=col>⋯</th><th scope=col>&lt;int&gt;</th><th scope=col>&lt;int&gt;</th><th scope=col>&lt;int&gt;</th><th scope=col>&lt;int&gt;</th><th scope=col>&lt;int&gt;</th><th scope=col>&lt;int&gt;</th><th scope=col>&lt;fct&gt;</th><th scope=col>&lt;fct&gt;</th><th scope=col>&lt;fct&gt;</th><th scope=col>&lt;chr&gt;</th></tr>\n",
       "</thead>\n",
       "<tbody>\n",
       "\t<tr><td>RS_GCF_002892795.1</td><td>d__Bacteria</td><td>p__Actinobacteriota</td><td>c__Actinomycetia</td><td>o__Actinomycetales</td><td>f__Micrococcaceae  </td><td>g__Arthrobacter </td><td>s__Arthrobacter sp002892795 </td><td>99.12</td><td>0.29</td><td>⋯</td><td>49</td><td>4908550</td><td>100174</td><td>49</td><td> 386258</td><td>1</td><td>t</td><td>f</td><td>f</td><td>/ebio/abt3_projects/databases_no-backup/DeepMAsED/version2/ref_genomes/GTDBr95/genomes_quality_novel-order/genbank/bacteria/GCA_002892795.1/GCA_002892795.1_ASM289279v1_genomic.fna.gz</td></tr>\n",
       "\t<tr><td>RS_GCF_001447315.1</td><td>d__Bacteria</td><td>p__Firmicutes      </td><td>c__Bacilli      </td><td>o__Paenibacillales</td><td>f__Paenibacillaceae</td><td>g__Paenibacillus</td><td>s__Paenibacillus sp001447315</td><td>99.64</td><td>0.20</td><td>⋯</td><td> 7</td><td>5884793</td><td>840684</td><td> 7</td><td>5508564</td><td>9</td><td>t</td><td>f</td><td>f</td><td>/ebio/abt3_projects/databases_no-backup/DeepMAsED/version2/ref_genomes/GTDBr95/genomes_quality_novel-order/genbank/bacteria/GCA_001447315.1/GCA_001447315.1_ASM144731v1_genomic.fna.gz</td></tr>\n",
       "\t<tr><td>⋮</td><td>⋮</td><td>⋮</td><td>⋮</td><td>⋮</td><td>⋮</td><td>⋮</td><td>⋮</td><td>⋮</td><td>⋮</td><td>⋱</td><td>⋮</td><td>⋮</td><td>⋮</td><td>⋮</td><td>⋮</td><td>⋮</td><td>⋮</td><td>⋮</td><td>⋮</td><td>⋮</td></tr>\n",
       "\t<tr><td>RS_GCF_001942265.1</td><td>d__Bacteria</td><td>p__Actinobacteriota</td><td>c__Actinomycetia</td><td>o__Mycobacteriales </td><td>f__Mycobacteriaceae </td><td>g__Rhodococcus </td><td>s__Rhodococcus sp001942265 </td><td>91.72</td><td>2.96</td><td>⋯</td><td> 67</td><td>5798893</td><td>86550</td><td> 67</td><td>284547</td><td>1</td><td>t</td><td>f</td><td>f</td><td>/ebio/abt3_projects/databases_no-backup/DeepMAsED/version2/ref_genomes/GTDBr95/genomes_quality_novel-order/genbank/bacteria/GCA_001942265.1/GCA_001942265.1_ASM194226v1_genomic.fna.gz</td></tr>\n",
       "\t<tr><td>RS_GCF_001279725.1</td><td>d__Bacteria</td><td>p__Actinobacteriota</td><td>c__Actinomycetia</td><td>o__Streptomycetales</td><td>f__Streptomycetaceae</td><td>g__Streptomyces</td><td>s__Streptomyces sp001279725</td><td>99.11</td><td>2.10</td><td>⋯</td><td>479</td><td>7812079</td><td>16309</td><td>479</td><td>  1673</td><td>1</td><td>t</td><td>f</td><td>f</td><td>/ebio/abt3_projects/databases_no-backup/DeepMAsED/version2/ref_genomes/GTDBr95/genomes_quality_novel-order/genbank/bacteria/GCA_001279725.1/GCA_001279725.1_ASM127972v1_genomic.fna.gz</td></tr>\n",
       "</tbody>\n",
       "</table>\n"
      ],
      "text/latex": [
       "A data.frame: 3900 × 28\n",
       "\\begin{tabular}{lllllllllllllllllllll}\n",
       " Taxon & Domain & Phylum & Class & Order & Family & Genus & Species & checkm\\_completeness & checkm\\_contamination & ⋯ & contig\\_count & genome\\_size & mean\\_contig\\_length & scaffold\\_count & ssu\\_contig\\_len & ssu\\_count & mimag\\_high\\_quality & mimag\\_medium\\_quality & mimag\\_low\\_quality & Fasta\\\\\n",
       " <fct> & <fct> & <fct> & <fct> & <fct> & <fct> & <fct> & <fct> & <dbl> & <dbl> & ⋯ & <int> & <int> & <int> & <int> & <int> & <int> & <fct> & <fct> & <fct> & <chr>\\\\\n",
       "\\hline\n",
       "\t RS\\_GCF\\_002892795.1 & d\\_\\_Bacteria & p\\_\\_Actinobacteriota & c\\_\\_Actinomycetia & o\\_\\_Actinomycetales & f\\_\\_Micrococcaceae   & g\\_\\_Arthrobacter  & s\\_\\_Arthrobacter sp002892795  & 99.12 & 0.29 & ⋯ & 49 & 4908550 & 100174 & 49 &  386258 & 1 & t & f & f & /ebio/abt3\\_projects/databases\\_no-backup/DeepMAsED/version2/ref\\_genomes/GTDBr95/genomes\\_quality\\_novel-order/genbank/bacteria/GCA\\_002892795.1/GCA\\_002892795.1\\_ASM289279v1\\_genomic.fna.gz\\\\\n",
       "\t RS\\_GCF\\_001447315.1 & d\\_\\_Bacteria & p\\_\\_Firmicutes       & c\\_\\_Bacilli       & o\\_\\_Paenibacillales & f\\_\\_Paenibacillaceae & g\\_\\_Paenibacillus & s\\_\\_Paenibacillus sp001447315 & 99.64 & 0.20 & ⋯ &  7 & 5884793 & 840684 &  7 & 5508564 & 9 & t & f & f & /ebio/abt3\\_projects/databases\\_no-backup/DeepMAsED/version2/ref\\_genomes/GTDBr95/genomes\\_quality\\_novel-order/genbank/bacteria/GCA\\_001447315.1/GCA\\_001447315.1\\_ASM144731v1\\_genomic.fna.gz\\\\\n",
       "\t ⋮ & ⋮ & ⋮ & ⋮ & ⋮ & ⋮ & ⋮ & ⋮ & ⋮ & ⋮ & ⋱ & ⋮ & ⋮ & ⋮ & ⋮ & ⋮ & ⋮ & ⋮ & ⋮ & ⋮ & ⋮\\\\\n",
       "\t RS\\_GCF\\_001942265.1 & d\\_\\_Bacteria & p\\_\\_Actinobacteriota & c\\_\\_Actinomycetia & o\\_\\_Mycobacteriales  & f\\_\\_Mycobacteriaceae  & g\\_\\_Rhodococcus  & s\\_\\_Rhodococcus sp001942265  & 91.72 & 2.96 & ⋯ &  67 & 5798893 & 86550 &  67 & 284547 & 1 & t & f & f & /ebio/abt3\\_projects/databases\\_no-backup/DeepMAsED/version2/ref\\_genomes/GTDBr95/genomes\\_quality\\_novel-order/genbank/bacteria/GCA\\_001942265.1/GCA\\_001942265.1\\_ASM194226v1\\_genomic.fna.gz\\\\\n",
       "\t RS\\_GCF\\_001279725.1 & d\\_\\_Bacteria & p\\_\\_Actinobacteriota & c\\_\\_Actinomycetia & o\\_\\_Streptomycetales & f\\_\\_Streptomycetaceae & g\\_\\_Streptomyces & s\\_\\_Streptomyces sp001279725 & 99.11 & 2.10 & ⋯ & 479 & 7812079 & 16309 & 479 &   1673 & 1 & t & f & f & /ebio/abt3\\_projects/databases\\_no-backup/DeepMAsED/version2/ref\\_genomes/GTDBr95/genomes\\_quality\\_novel-order/genbank/bacteria/GCA\\_001279725.1/GCA\\_001279725.1\\_ASM127972v1\\_genomic.fna.gz\\\\\n",
       "\\end{tabular}\n"
      ],
      "text/markdown": [
       "\n",
       "A data.frame: 3900 × 28\n",
       "\n",
       "| Taxon &lt;fct&gt; | Domain &lt;fct&gt; | Phylum &lt;fct&gt; | Class &lt;fct&gt; | Order &lt;fct&gt; | Family &lt;fct&gt; | Genus &lt;fct&gt; | Species &lt;fct&gt; | checkm_completeness &lt;dbl&gt; | checkm_contamination &lt;dbl&gt; | ⋯ ⋯ | contig_count &lt;int&gt; | genome_size &lt;int&gt; | mean_contig_length &lt;int&gt; | scaffold_count &lt;int&gt; | ssu_contig_len &lt;int&gt; | ssu_count &lt;int&gt; | mimag_high_quality &lt;fct&gt; | mimag_medium_quality &lt;fct&gt; | mimag_low_quality &lt;fct&gt; | Fasta &lt;chr&gt; |\n",
       "|---|---|---|---|---|---|---|---|---|---|---|---|---|---|---|---|---|---|---|---|---|\n",
       "| RS_GCF_002892795.1 | d__Bacteria | p__Actinobacteriota | c__Actinomycetia | o__Actinomycetales | f__Micrococcaceae   | g__Arthrobacter  | s__Arthrobacter sp002892795  | 99.12 | 0.29 | ⋯ | 49 | 4908550 | 100174 | 49 |  386258 | 1 | t | f | f | /ebio/abt3_projects/databases_no-backup/DeepMAsED/version2/ref_genomes/GTDBr95/genomes_quality_novel-order/genbank/bacteria/GCA_002892795.1/GCA_002892795.1_ASM289279v1_genomic.fna.gz |\n",
       "| RS_GCF_001447315.1 | d__Bacteria | p__Firmicutes       | c__Bacilli       | o__Paenibacillales | f__Paenibacillaceae | g__Paenibacillus | s__Paenibacillus sp001447315 | 99.64 | 0.20 | ⋯ |  7 | 5884793 | 840684 |  7 | 5508564 | 9 | t | f | f | /ebio/abt3_projects/databases_no-backup/DeepMAsED/version2/ref_genomes/GTDBr95/genomes_quality_novel-order/genbank/bacteria/GCA_001447315.1/GCA_001447315.1_ASM144731v1_genomic.fna.gz |\n",
       "| ⋮ | ⋮ | ⋮ | ⋮ | ⋮ | ⋮ | ⋮ | ⋮ | ⋮ | ⋮ | ⋱ | ⋮ | ⋮ | ⋮ | ⋮ | ⋮ | ⋮ | ⋮ | ⋮ | ⋮ | ⋮ |\n",
       "| RS_GCF_001942265.1 | d__Bacteria | p__Actinobacteriota | c__Actinomycetia | o__Mycobacteriales  | f__Mycobacteriaceae  | g__Rhodococcus  | s__Rhodococcus sp001942265  | 91.72 | 2.96 | ⋯ |  67 | 5798893 | 86550 |  67 | 284547 | 1 | t | f | f | /ebio/abt3_projects/databases_no-backup/DeepMAsED/version2/ref_genomes/GTDBr95/genomes_quality_novel-order/genbank/bacteria/GCA_001942265.1/GCA_001942265.1_ASM194226v1_genomic.fna.gz |\n",
       "| RS_GCF_001279725.1 | d__Bacteria | p__Actinobacteriota | c__Actinomycetia | o__Streptomycetales | f__Streptomycetaceae | g__Streptomyces | s__Streptomyces sp001279725 | 99.11 | 2.10 | ⋯ | 479 | 7812079 | 16309 | 479 |   1673 | 1 | t | f | f | /ebio/abt3_projects/databases_no-backup/DeepMAsED/version2/ref_genomes/GTDBr95/genomes_quality_novel-order/genbank/bacteria/GCA_001279725.1/GCA_001279725.1_ASM127972v1_genomic.fna.gz |\n",
       "\n"
      ],
      "text/plain": [
       "     Taxon              Domain      Phylum              Class           \n",
       "1    RS_GCF_002892795.1 d__Bacteria p__Actinobacteriota c__Actinomycetia\n",
       "2    RS_GCF_001447315.1 d__Bacteria p__Firmicutes       c__Bacilli      \n",
       "⋮    ⋮                  ⋮           ⋮                   ⋮               \n",
       "3899 RS_GCF_001942265.1 d__Bacteria p__Actinobacteriota c__Actinomycetia\n",
       "3900 RS_GCF_001279725.1 d__Bacteria p__Actinobacteriota c__Actinomycetia\n",
       "     Order               Family               Genus           \n",
       "1    o__Actinomycetales  f__Micrococcaceae    g__Arthrobacter \n",
       "2    o__Paenibacillales  f__Paenibacillaceae  g__Paenibacillus\n",
       "⋮    ⋮                   ⋮                    ⋮               \n",
       "3899 o__Mycobacteriales  f__Mycobacteriaceae  g__Rhodococcus  \n",
       "3900 o__Streptomycetales f__Streptomycetaceae g__Streptomyces \n",
       "     Species                      checkm_completeness checkm_contamination ⋯\n",
       "1    s__Arthrobacter sp002892795  99.12               0.29                 ⋯\n",
       "2    s__Paenibacillus sp001447315 99.64               0.20                 ⋯\n",
       "⋮    ⋮                            ⋮                   ⋮                    ⋱\n",
       "3899 s__Rhodococcus sp001942265   91.72               2.96                 ⋯\n",
       "3900 s__Streptomyces sp001279725  99.11               2.10                 ⋯\n",
       "     contig_count genome_size mean_contig_length scaffold_count ssu_contig_len\n",
       "1    49           4908550     100174             49              386258       \n",
       "2     7           5884793     840684              7             5508564       \n",
       "⋮    ⋮            ⋮           ⋮                  ⋮              ⋮             \n",
       "3899  67          5798893     86550               67            284547        \n",
       "3900 479          7812079     16309              479              1673        \n",
       "     ssu_count mimag_high_quality mimag_medium_quality mimag_low_quality\n",
       "1    1         t                  f                    f                \n",
       "2    9         t                  f                    f                \n",
       "⋮    ⋮         ⋮                  ⋮                    ⋮                \n",
       "3899 1         t                  f                    f                \n",
       "3900 1         t                  f                    f                \n",
       "     Fasta                                                                                                                                                                                 \n",
       "1    /ebio/abt3_projects/databases_no-backup/DeepMAsED/version2/ref_genomes/GTDBr95/genomes_quality_novel-order/genbank/bacteria/GCA_002892795.1/GCA_002892795.1_ASM289279v1_genomic.fna.gz\n",
       "2    /ebio/abt3_projects/databases_no-backup/DeepMAsED/version2/ref_genomes/GTDBr95/genomes_quality_novel-order/genbank/bacteria/GCA_001447315.1/GCA_001447315.1_ASM144731v1_genomic.fna.gz\n",
       "⋮    ⋮                                                                                                                                                                                     \n",
       "3899 /ebio/abt3_projects/databases_no-backup/DeepMAsED/version2/ref_genomes/GTDBr95/genomes_quality_novel-order/genbank/bacteria/GCA_001942265.1/GCA_001942265.1_ASM194226v1_genomic.fna.gz\n",
       "3900 /ebio/abt3_projects/databases_no-backup/DeepMAsED/version2/ref_genomes/GTDBr95/genomes_quality_novel-order/genbank/bacteria/GCA_001279725.1/GCA_001279725.1_ASM127972v1_genomic.fna.gz"
      ]
     },
     "metadata": {},
     "output_type": "display_data"
    }
   ],
   "source": [
    "F = file.path(r95_work_dir, 'metadata_quality_novel-order_wGen.tsv')\n",
    "ref_order = read.delim(F, sep='\\t') %>%\n",
    "    rename('Taxon' = accession,\n",
    "           'Fasta' = fasta_file_path) %>%\n",
    "    distinct(Taxon, Fasta, .keep_all=TRUE) %>%\n",
    "    filter(!is.na(Fasta)) %>%\n",
    "    mutate(Fasta = sapply(Fasta, function(F) file.path(r95_work_dir, F)),\n",
    "           Fasta = gsub('/+', '/', Fasta)) %>%\n",
    "    sample_n(n_final_genomes)\n",
    "ref_order"
   ]
  },
  {
   "cell_type": "code",
   "execution_count": 46,
   "metadata": {
    "ExecuteTime": {
     "end_time": "2020-10-08T17:53:16.191584Z",
     "start_time": "2020-10-08T17:52:51.348Z"
    }
   },
   "outputs": [
    {
     "name": "stdout",
     "output_type": "stream",
     "text": [
      "File written: /ebio/abt3_projects/databases_no-backup/DeepMAsED/version2/ref_genomes/GTDBr95//metadata_quality_novel-order_wGen_final.tsv \n"
     ]
    }
   ],
   "source": [
    "# writing \n",
    "outF = file.path(r95_work_dir, 'metadata_quality_novel-order_wGen_final.tsv')\n",
    "ref_order %>%\n",
    "    dplyr::select(Taxon, Fasta) %>%\n",
    "    write_table(outF)"
   ]
  },
  {
   "cell_type": "markdown",
   "metadata": {},
   "source": [
    "### Taxonomic similarity to train dataset"
   ]
  },
  {
   "cell_type": "code",
   "execution_count": 47,
   "metadata": {
    "ExecuteTime": {
     "end_time": "2020-10-08T17:53:16.224922Z",
     "start_time": "2020-10-08T17:52:51.353Z"
    }
   },
   "outputs": [
    {
     "data": {
      "text/html": [
       "<table>\n",
       "<caption>A data.frame: 0 × 4</caption>\n",
       "<thead>\n",
       "\t<tr><th scope=col>Domain</th><th scope=col>Phylum</th><th scope=col>Class</th><th scope=col>Order</th></tr>\n",
       "\t<tr><th scope=col>&lt;fct&gt;</th><th scope=col>&lt;fct&gt;</th><th scope=col>&lt;fct&gt;</th><th scope=col>&lt;fct&gt;</th></tr>\n",
       "</thead>\n",
       "<tbody>\n",
       "</tbody>\n",
       "</table>\n"
      ],
      "text/latex": [
       "A data.frame: 0 × 4\n",
       "\\begin{tabular}{llll}\n",
       " Domain & Phylum & Class & Order\\\\\n",
       " <fct> & <fct> & <fct> & <fct>\\\\\n",
       "\\hline\n",
       "\\end{tabular}\n"
      ],
      "text/markdown": [
       "\n",
       "A data.frame: 0 × 4\n",
       "\n",
       "| Domain &lt;fct&gt; | Phylum &lt;fct&gt; | Class &lt;fct&gt; | Order &lt;fct&gt; |\n",
       "|---|---|---|---|\n",
       "\n"
      ],
      "text/plain": [
       "     Domain Phylum Class Order"
      ]
     },
     "metadata": {},
     "output_type": "display_data"
    }
   ],
   "source": [
    "# shared orders\n",
    "df_train %>%\n",
    "    distinct(Domain, Phylum, Class, Order) %>%\n",
    "    inner_join(ref_order %>% distinct(Domain, Phylum, Class, Order),\n",
    "               c('Domain', 'Phylum', 'Class', 'Order')) "
   ]
  },
  {
   "cell_type": "code",
   "execution_count": 48,
   "metadata": {
    "ExecuteTime": {
     "end_time": "2020-10-08T17:53:16.270469Z",
     "start_time": "2020-10-08T17:52:51.358Z"
    }
   },
   "outputs": [
    {
     "data": {
      "text/html": [
       "94"
      ],
      "text/latex": [
       "94"
      ],
      "text/markdown": [
       "94"
      ],
      "text/plain": [
       "[1] 94"
      ]
     },
     "metadata": {},
     "output_type": "display_data"
    },
    {
     "data": {
      "text/html": [
       "<table>\n",
       "<caption>A data.frame: 17 × 3</caption>\n",
       "<thead>\n",
       "\t<tr><th scope=col>Domain</th><th scope=col>Phylum</th><th scope=col>Class</th></tr>\n",
       "\t<tr><th scope=col>&lt;fct&gt;</th><th scope=col>&lt;fct&gt;</th><th scope=col>&lt;fct&gt;</th></tr>\n",
       "</thead>\n",
       "<tbody>\n",
       "\t<tr><td>d__Bacteria</td><td>p__Firmicutes    </td><td>c__Bacilli            </td></tr>\n",
       "\t<tr><td>d__Bacteria</td><td>p__Proteobacteria</td><td>c__Gammaproteobacteria</td></tr>\n",
       "\t<tr><td>⋮</td><td>⋮</td><td>⋮</td></tr>\n",
       "\t<tr><td>d__Bacteria</td><td>p__Firmicutes_B  </td><td>c__Desulfotomaculia</td></tr>\n",
       "\t<tr><td>d__Bacteria</td><td>p__Armatimonadota</td><td>c__Fimbriimonadia  </td></tr>\n",
       "</tbody>\n",
       "</table>\n"
      ],
      "text/latex": [
       "A data.frame: 17 × 3\n",
       "\\begin{tabular}{lll}\n",
       " Domain & Phylum & Class\\\\\n",
       " <fct> & <fct> & <fct>\\\\\n",
       "\\hline\n",
       "\t d\\_\\_Bacteria & p\\_\\_Firmicutes     & c\\_\\_Bacilli            \\\\\n",
       "\t d\\_\\_Bacteria & p\\_\\_Proteobacteria & c\\_\\_Gammaproteobacteria\\\\\n",
       "\t ⋮ & ⋮ & ⋮\\\\\n",
       "\t d\\_\\_Bacteria & p\\_\\_Firmicutes\\_B   & c\\_\\_Desulfotomaculia\\\\\n",
       "\t d\\_\\_Bacteria & p\\_\\_Armatimonadota & c\\_\\_Fimbriimonadia  \\\\\n",
       "\\end{tabular}\n"
      ],
      "text/markdown": [
       "\n",
       "A data.frame: 17 × 3\n",
       "\n",
       "| Domain &lt;fct&gt; | Phylum &lt;fct&gt; | Class &lt;fct&gt; |\n",
       "|---|---|---|\n",
       "| d__Bacteria | p__Firmicutes     | c__Bacilli             |\n",
       "| d__Bacteria | p__Proteobacteria | c__Gammaproteobacteria |\n",
       "| ⋮ | ⋮ | ⋮ |\n",
       "| d__Bacteria | p__Firmicutes_B   | c__Desulfotomaculia |\n",
       "| d__Bacteria | p__Armatimonadota | c__Fimbriimonadia   |\n",
       "\n"
      ],
      "text/plain": [
       "   Domain      Phylum            Class                 \n",
       "1  d__Bacteria p__Firmicutes     c__Bacilli            \n",
       "2  d__Bacteria p__Proteobacteria c__Gammaproteobacteria\n",
       "⋮  ⋮           ⋮                 ⋮                     \n",
       "16 d__Bacteria p__Firmicutes_B   c__Desulfotomaculia   \n",
       "17 d__Bacteria p__Armatimonadota c__Fimbriimonadia     "
      ]
     },
     "metadata": {},
     "output_type": "display_data"
    }
   ],
   "source": [
    "# shared classes\n",
    "df_train %>% distinct(Domain, Phylum, Class) %>% nrow\n",
    "df_train %>%\n",
    "    distinct(Domain, Phylum, Class) %>%\n",
    "    inner_join(ref_order %>% distinct(Domain, Phylum, Class),\n",
    "               c('Domain', 'Phylum', 'Class')) "
   ]
  },
  {
   "cell_type": "code",
   "execution_count": 49,
   "metadata": {
    "ExecuteTime": {
     "end_time": "2020-10-08T17:53:16.315250Z",
     "start_time": "2020-10-08T17:52:51.362Z"
    }
   },
   "outputs": [
    {
     "data": {
      "text/html": [
       "48"
      ],
      "text/latex": [
       "48"
      ],
      "text/markdown": [
       "48"
      ],
      "text/plain": [
       "[1] 48"
      ]
     },
     "metadata": {},
     "output_type": "display_data"
    },
    {
     "data": {
      "text/html": [
       "<table>\n",
       "<caption>A data.frame: 18 × 2</caption>\n",
       "<thead>\n",
       "\t<tr><th scope=col>Domain</th><th scope=col>Phylum</th></tr>\n",
       "\t<tr><th scope=col>&lt;fct&gt;</th><th scope=col>&lt;fct&gt;</th></tr>\n",
       "</thead>\n",
       "<tbody>\n",
       "\t<tr><td>d__Bacteria</td><td>p__Actinobacteriota</td></tr>\n",
       "\t<tr><td>d__Bacteria</td><td>p__Firmicutes      </td></tr>\n",
       "\t<tr><td>⋮</td><td>⋮</td></tr>\n",
       "\t<tr><td>d__Bacteria</td><td>p__Firmicutes_G    </td></tr>\n",
       "\t<tr><td>d__Bacteria</td><td>p__Bdellovibrionota</td></tr>\n",
       "</tbody>\n",
       "</table>\n"
      ],
      "text/latex": [
       "A data.frame: 18 × 2\n",
       "\\begin{tabular}{ll}\n",
       " Domain & Phylum\\\\\n",
       " <fct> & <fct>\\\\\n",
       "\\hline\n",
       "\t d\\_\\_Bacteria & p\\_\\_Actinobacteriota\\\\\n",
       "\t d\\_\\_Bacteria & p\\_\\_Firmicutes      \\\\\n",
       "\t ⋮ & ⋮\\\\\n",
       "\t d\\_\\_Bacteria & p\\_\\_Firmicutes\\_G    \\\\\n",
       "\t d\\_\\_Bacteria & p\\_\\_Bdellovibrionota\\\\\n",
       "\\end{tabular}\n"
      ],
      "text/markdown": [
       "\n",
       "A data.frame: 18 × 2\n",
       "\n",
       "| Domain &lt;fct&gt; | Phylum &lt;fct&gt; |\n",
       "|---|---|\n",
       "| d__Bacteria | p__Actinobacteriota |\n",
       "| d__Bacteria | p__Firmicutes       |\n",
       "| ⋮ | ⋮ |\n",
       "| d__Bacteria | p__Firmicutes_G     |\n",
       "| d__Bacteria | p__Bdellovibrionota |\n",
       "\n"
      ],
      "text/plain": [
       "   Domain      Phylum             \n",
       "1  d__Bacteria p__Actinobacteriota\n",
       "2  d__Bacteria p__Firmicutes      \n",
       "⋮  ⋮           ⋮                  \n",
       "17 d__Bacteria p__Firmicutes_G    \n",
       "18 d__Bacteria p__Bdellovibrionota"
      ]
     },
     "metadata": {},
     "output_type": "display_data"
    }
   ],
   "source": [
    "# shared phyla\n",
    "df_train %>% distinct(Domain, Phylum) %>% nrow\n",
    "df_train %>%\n",
    "    distinct(Domain, Phylum) %>%\n",
    "    inner_join(ref_order %>% distinct(Domain, Phylum),\n",
    "               c('Domain', 'Phylum')) "
   ]
  },
  {
   "cell_type": "markdown",
   "metadata": {},
   "source": [
    "## Family"
   ]
  },
  {
   "cell_type": "code",
   "execution_count": 50,
   "metadata": {
    "ExecuteTime": {
     "end_time": "2020-10-08T17:53:16.950211Z",
     "start_time": "2020-10-08T17:52:51.368Z"
    }
   },
   "outputs": [
    {
     "data": {
      "text/html": [
       "<table>\n",
       "<caption>A data.frame: 3900 × 28</caption>\n",
       "<thead>\n",
       "\t<tr><th scope=col>Taxon</th><th scope=col>Domain</th><th scope=col>Phylum</th><th scope=col>Class</th><th scope=col>Order</th><th scope=col>Family</th><th scope=col>Genus</th><th scope=col>Species</th><th scope=col>checkm_completeness</th><th scope=col>checkm_contamination</th><th scope=col>⋯</th><th scope=col>contig_count</th><th scope=col>genome_size</th><th scope=col>mean_contig_length</th><th scope=col>scaffold_count</th><th scope=col>ssu_contig_len</th><th scope=col>ssu_count</th><th scope=col>mimag_high_quality</th><th scope=col>mimag_medium_quality</th><th scope=col>mimag_low_quality</th><th scope=col>Fasta</th></tr>\n",
       "\t<tr><th scope=col>&lt;fct&gt;</th><th scope=col>&lt;fct&gt;</th><th scope=col>&lt;fct&gt;</th><th scope=col>&lt;fct&gt;</th><th scope=col>&lt;fct&gt;</th><th scope=col>&lt;fct&gt;</th><th scope=col>&lt;fct&gt;</th><th scope=col>&lt;fct&gt;</th><th scope=col>&lt;dbl&gt;</th><th scope=col>&lt;dbl&gt;</th><th scope=col>⋯</th><th scope=col>&lt;int&gt;</th><th scope=col>&lt;int&gt;</th><th scope=col>&lt;int&gt;</th><th scope=col>&lt;int&gt;</th><th scope=col>&lt;int&gt;</th><th scope=col>&lt;int&gt;</th><th scope=col>&lt;fct&gt;</th><th scope=col>&lt;fct&gt;</th><th scope=col>&lt;fct&gt;</th><th scope=col>&lt;chr&gt;</th></tr>\n",
       "</thead>\n",
       "<tbody>\n",
       "\t<tr><td>RS_GCF_001433455.1</td><td>d__Archaea </td><td>p__Methanobacteriota</td><td>c__Thermococci</td><td>o__Thermococcales</td><td>f__Thermococcaceae</td><td>g__Thermococcus_B</td><td>s__Thermococcus_B barophilus </td><td>99.50</td><td>0.50</td><td>⋯</td><td>1</td><td>2388527</td><td>2388527</td><td>1</td><td>2388527</td><td> 1</td><td>t</td><td>f</td><td>f</td><td>/ebio/abt3_projects/databases_no-backup/DeepMAsED/version2/ref_genomes/GTDBr95/genomes_quality_novel-family/genbank/archaea/GCA_001433455.1/GCA_001433455.1_ASM143345v1_genomic.fna.gz </td></tr>\n",
       "\t<tr><td>RS_GCF_001687585.2</td><td>d__Bacteria</td><td>p__Firmicutes       </td><td>c__Bacilli    </td><td>o__Bacillales    </td><td>f__Planococcaceae </td><td>g__Planococcus   </td><td>s__Planococcus halocryophilus</td><td>99.34</td><td>2.65</td><td>⋯</td><td>1</td><td>3424893</td><td>3424893</td><td>1</td><td>3424893</td><td>10</td><td>t</td><td>f</td><td>f</td><td>/ebio/abt3_projects/databases_no-backup/DeepMAsED/version2/ref_genomes/GTDBr95/genomes_quality_novel-family/genbank/bacteria/GCA_001687585.2/GCA_001687585.2_ASM168758v2_genomic.fna.gz</td></tr>\n",
       "\t<tr><td>⋮</td><td>⋮</td><td>⋮</td><td>⋮</td><td>⋮</td><td>⋮</td><td>⋮</td><td>⋮</td><td>⋮</td><td>⋮</td><td>⋱</td><td>⋮</td><td>⋮</td><td>⋮</td><td>⋮</td><td>⋮</td><td>⋮</td><td>⋮</td><td>⋮</td><td>⋮</td><td>⋮</td></tr>\n",
       "\t<tr><td>RS_GCF_003315615.1</td><td>d__Bacteria</td><td>p__Actinobacteriota</td><td>c__Actinomycetia</td><td>o__Actinomycetales</td><td>f__Bifidobacteriaceae</td><td>g__Bifidobacterium</td><td>s__Bifidobacterium xylocopae  </td><td>94.73</td><td>2.31</td><td>⋯</td><td> 98</td><td>1848461</td><td>18861</td><td> 98</td><td>190541</td><td>3</td><td>t</td><td>f</td><td>f</td><td>/ebio/abt3_projects/databases_no-backup/DeepMAsED/version2/ref_genomes/GTDBr95/genomes_quality_novel-family/genbank/bacteria/GCA_003315615.1/GCA_003315615.1_ASM331561v1_genomic.fna.gz</td></tr>\n",
       "\t<tr><td>RS_GCF_002234405.1</td><td>d__Bacteria</td><td>p__Actinobacteriota</td><td>c__Actinomycetia</td><td>o__Mycobacteriales</td><td>f__Pseudonocardiaceae</td><td>g__Amycolatopsis  </td><td>s__Amycolatopsis thailandensis</td><td>96.72</td><td>0.25</td><td>⋯</td><td>421</td><td>9348263</td><td>22204</td><td>421</td><td>  5295</td><td>1</td><td>t</td><td>f</td><td>f</td><td>/ebio/abt3_projects/databases_no-backup/DeepMAsED/version2/ref_genomes/GTDBr95/genomes_quality_novel-family/genbank/bacteria/GCA_002234405.1/GCA_002234405.1_ASM223440v1_genomic.fna.gz</td></tr>\n",
       "</tbody>\n",
       "</table>\n"
      ],
      "text/latex": [
       "A data.frame: 3900 × 28\n",
       "\\begin{tabular}{lllllllllllllllllllll}\n",
       " Taxon & Domain & Phylum & Class & Order & Family & Genus & Species & checkm\\_completeness & checkm\\_contamination & ⋯ & contig\\_count & genome\\_size & mean\\_contig\\_length & scaffold\\_count & ssu\\_contig\\_len & ssu\\_count & mimag\\_high\\_quality & mimag\\_medium\\_quality & mimag\\_low\\_quality & Fasta\\\\\n",
       " <fct> & <fct> & <fct> & <fct> & <fct> & <fct> & <fct> & <fct> & <dbl> & <dbl> & ⋯ & <int> & <int> & <int> & <int> & <int> & <int> & <fct> & <fct> & <fct> & <chr>\\\\\n",
       "\\hline\n",
       "\t RS\\_GCF\\_001433455.1 & d\\_\\_Archaea  & p\\_\\_Methanobacteriota & c\\_\\_Thermococci & o\\_\\_Thermococcales & f\\_\\_Thermococcaceae & g\\_\\_Thermococcus\\_B & s\\_\\_Thermococcus\\_B barophilus  & 99.50 & 0.50 & ⋯ & 1 & 2388527 & 2388527 & 1 & 2388527 &  1 & t & f & f & /ebio/abt3\\_projects/databases\\_no-backup/DeepMAsED/version2/ref\\_genomes/GTDBr95/genomes\\_quality\\_novel-family/genbank/archaea/GCA\\_001433455.1/GCA\\_001433455.1\\_ASM143345v1\\_genomic.fna.gz \\\\\n",
       "\t RS\\_GCF\\_001687585.2 & d\\_\\_Bacteria & p\\_\\_Firmicutes        & c\\_\\_Bacilli     & o\\_\\_Bacillales     & f\\_\\_Planococcaceae  & g\\_\\_Planococcus    & s\\_\\_Planococcus halocryophilus & 99.34 & 2.65 & ⋯ & 1 & 3424893 & 3424893 & 1 & 3424893 & 10 & t & f & f & /ebio/abt3\\_projects/databases\\_no-backup/DeepMAsED/version2/ref\\_genomes/GTDBr95/genomes\\_quality\\_novel-family/genbank/bacteria/GCA\\_001687585.2/GCA\\_001687585.2\\_ASM168758v2\\_genomic.fna.gz\\\\\n",
       "\t ⋮ & ⋮ & ⋮ & ⋮ & ⋮ & ⋮ & ⋮ & ⋮ & ⋮ & ⋮ & ⋱ & ⋮ & ⋮ & ⋮ & ⋮ & ⋮ & ⋮ & ⋮ & ⋮ & ⋮ & ⋮\\\\\n",
       "\t RS\\_GCF\\_003315615.1 & d\\_\\_Bacteria & p\\_\\_Actinobacteriota & c\\_\\_Actinomycetia & o\\_\\_Actinomycetales & f\\_\\_Bifidobacteriaceae & g\\_\\_Bifidobacterium & s\\_\\_Bifidobacterium xylocopae   & 94.73 & 2.31 & ⋯ &  98 & 1848461 & 18861 &  98 & 190541 & 3 & t & f & f & /ebio/abt3\\_projects/databases\\_no-backup/DeepMAsED/version2/ref\\_genomes/GTDBr95/genomes\\_quality\\_novel-family/genbank/bacteria/GCA\\_003315615.1/GCA\\_003315615.1\\_ASM331561v1\\_genomic.fna.gz\\\\\n",
       "\t RS\\_GCF\\_002234405.1 & d\\_\\_Bacteria & p\\_\\_Actinobacteriota & c\\_\\_Actinomycetia & o\\_\\_Mycobacteriales & f\\_\\_Pseudonocardiaceae & g\\_\\_Amycolatopsis   & s\\_\\_Amycolatopsis thailandensis & 96.72 & 0.25 & ⋯ & 421 & 9348263 & 22204 & 421 &   5295 & 1 & t & f & f & /ebio/abt3\\_projects/databases\\_no-backup/DeepMAsED/version2/ref\\_genomes/GTDBr95/genomes\\_quality\\_novel-family/genbank/bacteria/GCA\\_002234405.1/GCA\\_002234405.1\\_ASM223440v1\\_genomic.fna.gz\\\\\n",
       "\\end{tabular}\n"
      ],
      "text/markdown": [
       "\n",
       "A data.frame: 3900 × 28\n",
       "\n",
       "| Taxon &lt;fct&gt; | Domain &lt;fct&gt; | Phylum &lt;fct&gt; | Class &lt;fct&gt; | Order &lt;fct&gt; | Family &lt;fct&gt; | Genus &lt;fct&gt; | Species &lt;fct&gt; | checkm_completeness &lt;dbl&gt; | checkm_contamination &lt;dbl&gt; | ⋯ ⋯ | contig_count &lt;int&gt; | genome_size &lt;int&gt; | mean_contig_length &lt;int&gt; | scaffold_count &lt;int&gt; | ssu_contig_len &lt;int&gt; | ssu_count &lt;int&gt; | mimag_high_quality &lt;fct&gt; | mimag_medium_quality &lt;fct&gt; | mimag_low_quality &lt;fct&gt; | Fasta &lt;chr&gt; |\n",
       "|---|---|---|---|---|---|---|---|---|---|---|---|---|---|---|---|---|---|---|---|---|\n",
       "| RS_GCF_001433455.1 | d__Archaea  | p__Methanobacteriota | c__Thermococci | o__Thermococcales | f__Thermococcaceae | g__Thermococcus_B | s__Thermococcus_B barophilus  | 99.50 | 0.50 | ⋯ | 1 | 2388527 | 2388527 | 1 | 2388527 |  1 | t | f | f | /ebio/abt3_projects/databases_no-backup/DeepMAsED/version2/ref_genomes/GTDBr95/genomes_quality_novel-family/genbank/archaea/GCA_001433455.1/GCA_001433455.1_ASM143345v1_genomic.fna.gz  |\n",
       "| RS_GCF_001687585.2 | d__Bacteria | p__Firmicutes        | c__Bacilli     | o__Bacillales     | f__Planococcaceae  | g__Planococcus    | s__Planococcus halocryophilus | 99.34 | 2.65 | ⋯ | 1 | 3424893 | 3424893 | 1 | 3424893 | 10 | t | f | f | /ebio/abt3_projects/databases_no-backup/DeepMAsED/version2/ref_genomes/GTDBr95/genomes_quality_novel-family/genbank/bacteria/GCA_001687585.2/GCA_001687585.2_ASM168758v2_genomic.fna.gz |\n",
       "| ⋮ | ⋮ | ⋮ | ⋮ | ⋮ | ⋮ | ⋮ | ⋮ | ⋮ | ⋮ | ⋱ | ⋮ | ⋮ | ⋮ | ⋮ | ⋮ | ⋮ | ⋮ | ⋮ | ⋮ | ⋮ |\n",
       "| RS_GCF_003315615.1 | d__Bacteria | p__Actinobacteriota | c__Actinomycetia | o__Actinomycetales | f__Bifidobacteriaceae | g__Bifidobacterium | s__Bifidobacterium xylocopae   | 94.73 | 2.31 | ⋯ |  98 | 1848461 | 18861 |  98 | 190541 | 3 | t | f | f | /ebio/abt3_projects/databases_no-backup/DeepMAsED/version2/ref_genomes/GTDBr95/genomes_quality_novel-family/genbank/bacteria/GCA_003315615.1/GCA_003315615.1_ASM331561v1_genomic.fna.gz |\n",
       "| RS_GCF_002234405.1 | d__Bacteria | p__Actinobacteriota | c__Actinomycetia | o__Mycobacteriales | f__Pseudonocardiaceae | g__Amycolatopsis   | s__Amycolatopsis thailandensis | 96.72 | 0.25 | ⋯ | 421 | 9348263 | 22204 | 421 |   5295 | 1 | t | f | f | /ebio/abt3_projects/databases_no-backup/DeepMAsED/version2/ref_genomes/GTDBr95/genomes_quality_novel-family/genbank/bacteria/GCA_002234405.1/GCA_002234405.1_ASM223440v1_genomic.fna.gz |\n",
       "\n"
      ],
      "text/plain": [
       "     Taxon              Domain      Phylum               Class           \n",
       "1    RS_GCF_001433455.1 d__Archaea  p__Methanobacteriota c__Thermococci  \n",
       "2    RS_GCF_001687585.2 d__Bacteria p__Firmicutes        c__Bacilli      \n",
       "⋮    ⋮                  ⋮           ⋮                    ⋮               \n",
       "3899 RS_GCF_003315615.1 d__Bacteria p__Actinobacteriota  c__Actinomycetia\n",
       "3900 RS_GCF_002234405.1 d__Bacteria p__Actinobacteriota  c__Actinomycetia\n",
       "     Order              Family                Genus             \n",
       "1    o__Thermococcales  f__Thermococcaceae    g__Thermococcus_B \n",
       "2    o__Bacillales      f__Planococcaceae     g__Planococcus    \n",
       "⋮    ⋮                  ⋮                     ⋮                 \n",
       "3899 o__Actinomycetales f__Bifidobacteriaceae g__Bifidobacterium\n",
       "3900 o__Mycobacteriales f__Pseudonocardiaceae g__Amycolatopsis  \n",
       "     Species                        checkm_completeness checkm_contamination ⋯\n",
       "1    s__Thermococcus_B barophilus   99.50               0.50                 ⋯\n",
       "2    s__Planococcus halocryophilus  99.34               2.65                 ⋯\n",
       "⋮    ⋮                              ⋮                   ⋮                    ⋱\n",
       "3899 s__Bifidobacterium xylocopae   94.73               2.31                 ⋯\n",
       "3900 s__Amycolatopsis thailandensis 96.72               0.25                 ⋯\n",
       "     contig_count genome_size mean_contig_length scaffold_count ssu_contig_len\n",
       "1    1            2388527     2388527            1              2388527       \n",
       "2    1            3424893     3424893            1              3424893       \n",
       "⋮    ⋮            ⋮           ⋮                  ⋮              ⋮             \n",
       "3899  98          1848461     18861               98            190541        \n",
       "3900 421          9348263     22204              421              5295        \n",
       "     ssu_count mimag_high_quality mimag_medium_quality mimag_low_quality\n",
       "1     1        t                  f                    f                \n",
       "2    10        t                  f                    f                \n",
       "⋮    ⋮         ⋮                  ⋮                    ⋮                \n",
       "3899 3         t                  f                    f                \n",
       "3900 1         t                  f                    f                \n",
       "     Fasta                                                                                                                                                                                  \n",
       "1    /ebio/abt3_projects/databases_no-backup/DeepMAsED/version2/ref_genomes/GTDBr95/genomes_quality_novel-family/genbank/archaea/GCA_001433455.1/GCA_001433455.1_ASM143345v1_genomic.fna.gz \n",
       "2    /ebio/abt3_projects/databases_no-backup/DeepMAsED/version2/ref_genomes/GTDBr95/genomes_quality_novel-family/genbank/bacteria/GCA_001687585.2/GCA_001687585.2_ASM168758v2_genomic.fna.gz\n",
       "⋮    ⋮                                                                                                                                                                                      \n",
       "3899 /ebio/abt3_projects/databases_no-backup/DeepMAsED/version2/ref_genomes/GTDBr95/genomes_quality_novel-family/genbank/bacteria/GCA_003315615.1/GCA_003315615.1_ASM331561v1_genomic.fna.gz\n",
       "3900 /ebio/abt3_projects/databases_no-backup/DeepMAsED/version2/ref_genomes/GTDBr95/genomes_quality_novel-family/genbank/bacteria/GCA_002234405.1/GCA_002234405.1_ASM223440v1_genomic.fna.gz"
      ]
     },
     "metadata": {},
     "output_type": "display_data"
    }
   ],
   "source": [
    "F = file.path(r95_work_dir, 'metadata_quality_novel-family_wGen.tsv')\n",
    "ref_family = read.delim(F, sep='\\t') %>%\n",
    "    rename('Taxon' = accession,\n",
    "           'Fasta' = fasta_file_path) %>%\n",
    "    distinct(Taxon, Fasta, .keep_all=TRUE) %>%\n",
    "    filter(!is.na(Fasta)) %>%\n",
    "    mutate(Fasta = sapply(Fasta, function(F) file.path(r95_work_dir, F)),\n",
    "           Fasta = gsub('/+', '/', Fasta)) %>%\n",
    "    sample_n(n_final_genomes)\n",
    "ref_family"
   ]
  },
  {
   "cell_type": "code",
   "execution_count": 51,
   "metadata": {
    "ExecuteTime": {
     "end_time": "2020-10-08T17:53:16.985933Z",
     "start_time": "2020-10-08T17:52:51.372Z"
    }
   },
   "outputs": [
    {
     "name": "stdout",
     "output_type": "stream",
     "text": [
      "File written: /ebio/abt3_projects/databases_no-backup/DeepMAsED/version2/ref_genomes/GTDBr95//metadata_quality_novel-family_wGen_final.tsv \n"
     ]
    }
   ],
   "source": [
    "# writing \n",
    "outF = file.path(r95_work_dir, 'metadata_quality_novel-family_wGen_final.tsv')\n",
    "ref_family %>%\n",
    "    dplyr::select(Taxon, Fasta) %>%\n",
    "    write_table(outF)"
   ]
  },
  {
   "cell_type": "markdown",
   "metadata": {},
   "source": [
    "### Taxonomic similarity to train data"
   ]
  },
  {
   "cell_type": "code",
   "execution_count": 52,
   "metadata": {
    "ExecuteTime": {
     "end_time": "2020-10-08T17:53:17.024054Z",
     "start_time": "2020-10-08T17:52:51.376Z"
    }
   },
   "outputs": [
    {
     "data": {
      "text/html": [
       "485"
      ],
      "text/latex": [
       "485"
      ],
      "text/markdown": [
       "485"
      ],
      "text/plain": [
       "[1] 485"
      ]
     },
     "metadata": {},
     "output_type": "display_data"
    },
    {
     "data": {
      "text/html": [
       "<table>\n",
       "<caption>A data.frame: 0 × 5</caption>\n",
       "<thead>\n",
       "\t<tr><th scope=col>Domain</th><th scope=col>Phylum</th><th scope=col>Class</th><th scope=col>Order</th><th scope=col>Family</th></tr>\n",
       "\t<tr><th scope=col>&lt;fct&gt;</th><th scope=col>&lt;fct&gt;</th><th scope=col>&lt;fct&gt;</th><th scope=col>&lt;fct&gt;</th><th scope=col>&lt;fct&gt;</th></tr>\n",
       "</thead>\n",
       "<tbody>\n",
       "</tbody>\n",
       "</table>\n"
      ],
      "text/latex": [
       "A data.frame: 0 × 5\n",
       "\\begin{tabular}{lllll}\n",
       " Domain & Phylum & Class & Order & Family\\\\\n",
       " <fct> & <fct> & <fct> & <fct> & <fct>\\\\\n",
       "\\hline\n",
       "\\end{tabular}\n"
      ],
      "text/markdown": [
       "\n",
       "A data.frame: 0 × 5\n",
       "\n",
       "| Domain &lt;fct&gt; | Phylum &lt;fct&gt; | Class &lt;fct&gt; | Order &lt;fct&gt; | Family &lt;fct&gt; |\n",
       "|---|---|---|---|---|\n",
       "\n"
      ],
      "text/plain": [
       "     Domain Phylum Class Order Family"
      ]
     },
     "metadata": {},
     "output_type": "display_data"
    }
   ],
   "source": [
    "# shared families\n",
    "df_train %>% distinct(Domain, Phylum, Class, Order, Family) %>% nrow\n",
    "df_train %>%\n",
    "    distinct(Domain, Phylum, Class, Order, Family) %>%\n",
    "    inner_join(ref_family %>% distinct(Domain, Phylum, Class, Order, Family),\n",
    "               c('Domain', 'Phylum', 'Class', 'Order', 'Family')) "
   ]
  },
  {
   "cell_type": "code",
   "execution_count": 53,
   "metadata": {
    "ExecuteTime": {
     "end_time": "2020-10-08T17:53:17.067053Z",
     "start_time": "2020-10-08T17:52:51.380Z"
    }
   },
   "outputs": [
    {
     "data": {
      "text/html": [
       "219"
      ],
      "text/latex": [
       "219"
      ],
      "text/markdown": [
       "219"
      ],
      "text/plain": [
       "[1] 219"
      ]
     },
     "metadata": {},
     "output_type": "display_data"
    },
    {
     "data": {
      "text/html": [
       "<table>\n",
       "<caption>A data.frame: 34 × 4</caption>\n",
       "<thead>\n",
       "\t<tr><th scope=col>Domain</th><th scope=col>Phylum</th><th scope=col>Class</th><th scope=col>Order</th></tr>\n",
       "\t<tr><th scope=col>&lt;fct&gt;</th><th scope=col>&lt;fct&gt;</th><th scope=col>&lt;fct&gt;</th><th scope=col>&lt;fct&gt;</th></tr>\n",
       "</thead>\n",
       "<tbody>\n",
       "\t<tr><td>d__Bacteria</td><td>p__Firmicutes    </td><td>c__Bacilli            </td><td>o__Bacillales     </td></tr>\n",
       "\t<tr><td>d__Bacteria</td><td>p__Proteobacteria</td><td>c__Gammaproteobacteria</td><td>o__Pseudomonadales</td></tr>\n",
       "\t<tr><td>⋮</td><td>⋮</td><td>⋮</td><td>⋮</td></tr>\n",
       "\t<tr><td>d__Bacteria</td><td>p__Proteobacteria</td><td>c__Gammaproteobacteria</td><td>o__Thiohalobacterales</td></tr>\n",
       "\t<tr><td>d__Bacteria</td><td>p__Proteobacteria</td><td>c__Alphaproteobacteria</td><td>o__Thalassobaculales </td></tr>\n",
       "</tbody>\n",
       "</table>\n"
      ],
      "text/latex": [
       "A data.frame: 34 × 4\n",
       "\\begin{tabular}{llll}\n",
       " Domain & Phylum & Class & Order\\\\\n",
       " <fct> & <fct> & <fct> & <fct>\\\\\n",
       "\\hline\n",
       "\t d\\_\\_Bacteria & p\\_\\_Firmicutes     & c\\_\\_Bacilli             & o\\_\\_Bacillales     \\\\\n",
       "\t d\\_\\_Bacteria & p\\_\\_Proteobacteria & c\\_\\_Gammaproteobacteria & o\\_\\_Pseudomonadales\\\\\n",
       "\t ⋮ & ⋮ & ⋮ & ⋮\\\\\n",
       "\t d\\_\\_Bacteria & p\\_\\_Proteobacteria & c\\_\\_Gammaproteobacteria & o\\_\\_Thiohalobacterales\\\\\n",
       "\t d\\_\\_Bacteria & p\\_\\_Proteobacteria & c\\_\\_Alphaproteobacteria & o\\_\\_Thalassobaculales \\\\\n",
       "\\end{tabular}\n"
      ],
      "text/markdown": [
       "\n",
       "A data.frame: 34 × 4\n",
       "\n",
       "| Domain &lt;fct&gt; | Phylum &lt;fct&gt; | Class &lt;fct&gt; | Order &lt;fct&gt; |\n",
       "|---|---|---|---|\n",
       "| d__Bacteria | p__Firmicutes     | c__Bacilli             | o__Bacillales      |\n",
       "| d__Bacteria | p__Proteobacteria | c__Gammaproteobacteria | o__Pseudomonadales |\n",
       "| ⋮ | ⋮ | ⋮ | ⋮ |\n",
       "| d__Bacteria | p__Proteobacteria | c__Gammaproteobacteria | o__Thiohalobacterales |\n",
       "| d__Bacteria | p__Proteobacteria | c__Alphaproteobacteria | o__Thalassobaculales  |\n",
       "\n"
      ],
      "text/plain": [
       "   Domain      Phylum            Class                  Order                \n",
       "1  d__Bacteria p__Firmicutes     c__Bacilli             o__Bacillales        \n",
       "2  d__Bacteria p__Proteobacteria c__Gammaproteobacteria o__Pseudomonadales   \n",
       "⋮  ⋮           ⋮                 ⋮                      ⋮                    \n",
       "33 d__Bacteria p__Proteobacteria c__Gammaproteobacteria o__Thiohalobacterales\n",
       "34 d__Bacteria p__Proteobacteria c__Alphaproteobacteria o__Thalassobaculales "
      ]
     },
     "metadata": {},
     "output_type": "display_data"
    }
   ],
   "source": [
    "# shared orders\n",
    "df_train %>% distinct(Domain, Phylum, Class, Order) %>% nrow\n",
    "df_train %>%\n",
    "    distinct(Domain, Phylum, Class, Order) %>%\n",
    "    inner_join(ref_family %>% distinct(Domain, Phylum, Class, Order),\n",
    "               c('Domain', 'Phylum', 'Class', 'Order')) "
   ]
  },
  {
   "cell_type": "code",
   "execution_count": 54,
   "metadata": {
    "ExecuteTime": {
     "end_time": "2020-10-08T17:53:17.110850Z",
     "start_time": "2020-10-08T17:52:51.384Z"
    }
   },
   "outputs": [
    {
     "data": {
      "text/html": [
       "94"
      ],
      "text/latex": [
       "94"
      ],
      "text/markdown": [
       "94"
      ],
      "text/plain": [
       "[1] 94"
      ]
     },
     "metadata": {},
     "output_type": "display_data"
    },
    {
     "data": {
      "text/html": [
       "<table>\n",
       "<caption>A data.frame: 23 × 3</caption>\n",
       "<thead>\n",
       "\t<tr><th scope=col>Domain</th><th scope=col>Phylum</th><th scope=col>Class</th></tr>\n",
       "\t<tr><th scope=col>&lt;fct&gt;</th><th scope=col>&lt;fct&gt;</th><th scope=col>&lt;fct&gt;</th></tr>\n",
       "</thead>\n",
       "<tbody>\n",
       "\t<tr><td>d__Bacteria</td><td>p__Firmicutes  </td><td>c__Bacilli    </td></tr>\n",
       "\t<tr><td>d__Bacteria</td><td>p__Bacteroidota</td><td>c__Bacteroidia</td></tr>\n",
       "\t<tr><td>⋮</td><td>⋮</td><td>⋮</td></tr>\n",
       "\t<tr><td>d__Bacteria</td><td>p__Myxococcota   </td><td>c__Polyangia     </td></tr>\n",
       "\t<tr><td>d__Bacteria</td><td>p__Armatimonadota</td><td>c__Fimbriimonadia</td></tr>\n",
       "</tbody>\n",
       "</table>\n"
      ],
      "text/latex": [
       "A data.frame: 23 × 3\n",
       "\\begin{tabular}{lll}\n",
       " Domain & Phylum & Class\\\\\n",
       " <fct> & <fct> & <fct>\\\\\n",
       "\\hline\n",
       "\t d\\_\\_Bacteria & p\\_\\_Firmicutes   & c\\_\\_Bacilli    \\\\\n",
       "\t d\\_\\_Bacteria & p\\_\\_Bacteroidota & c\\_\\_Bacteroidia\\\\\n",
       "\t ⋮ & ⋮ & ⋮\\\\\n",
       "\t d\\_\\_Bacteria & p\\_\\_Myxococcota    & c\\_\\_Polyangia     \\\\\n",
       "\t d\\_\\_Bacteria & p\\_\\_Armatimonadota & c\\_\\_Fimbriimonadia\\\\\n",
       "\\end{tabular}\n"
      ],
      "text/markdown": [
       "\n",
       "A data.frame: 23 × 3\n",
       "\n",
       "| Domain &lt;fct&gt; | Phylum &lt;fct&gt; | Class &lt;fct&gt; |\n",
       "|---|---|---|\n",
       "| d__Bacteria | p__Firmicutes   | c__Bacilli     |\n",
       "| d__Bacteria | p__Bacteroidota | c__Bacteroidia |\n",
       "| ⋮ | ⋮ | ⋮ |\n",
       "| d__Bacteria | p__Myxococcota    | c__Polyangia      |\n",
       "| d__Bacteria | p__Armatimonadota | c__Fimbriimonadia |\n",
       "\n"
      ],
      "text/plain": [
       "   Domain      Phylum            Class            \n",
       "1  d__Bacteria p__Firmicutes     c__Bacilli       \n",
       "2  d__Bacteria p__Bacteroidota   c__Bacteroidia   \n",
       "⋮  ⋮           ⋮                 ⋮                \n",
       "22 d__Bacteria p__Myxococcota    c__Polyangia     \n",
       "23 d__Bacteria p__Armatimonadota c__Fimbriimonadia"
      ]
     },
     "metadata": {},
     "output_type": "display_data"
    }
   ],
   "source": [
    "# shared classes\n",
    "df_train %>% distinct(Domain, Phylum, Class) %>% nrow\n",
    "df_train %>%\n",
    "    distinct(Domain, Phylum, Class) %>%\n",
    "    inner_join(ref_family %>% distinct(Domain, Phylum, Class),\n",
    "               c('Domain', 'Phylum', 'Class')) "
   ]
  },
  {
   "cell_type": "code",
   "execution_count": 55,
   "metadata": {
    "ExecuteTime": {
     "end_time": "2020-10-08T17:53:17.154250Z",
     "start_time": "2020-10-08T17:52:51.388Z"
    }
   },
   "outputs": [
    {
     "data": {
      "text/html": [
       "48"
      ],
      "text/latex": [
       "48"
      ],
      "text/markdown": [
       "48"
      ],
      "text/plain": [
       "[1] 48"
      ]
     },
     "metadata": {},
     "output_type": "display_data"
    },
    {
     "data": {
      "text/html": [
       "<table>\n",
       "<caption>A data.frame: 20 × 2</caption>\n",
       "<thead>\n",
       "\t<tr><th scope=col>Domain</th><th scope=col>Phylum</th></tr>\n",
       "\t<tr><th scope=col>&lt;fct&gt;</th><th scope=col>&lt;fct&gt;</th></tr>\n",
       "</thead>\n",
       "<tbody>\n",
       "\t<tr><td>d__Bacteria</td><td>p__Actinobacteriota</td></tr>\n",
       "\t<tr><td>d__Bacteria</td><td>p__Firmicutes      </td></tr>\n",
       "\t<tr><td>⋮</td><td>⋮</td></tr>\n",
       "\t<tr><td>d__Bacteria</td><td>p__Armatimonadota</td></tr>\n",
       "\t<tr><td>d__Bacteria</td><td>p__Firmicutes_G  </td></tr>\n",
       "</tbody>\n",
       "</table>\n"
      ],
      "text/latex": [
       "A data.frame: 20 × 2\n",
       "\\begin{tabular}{ll}\n",
       " Domain & Phylum\\\\\n",
       " <fct> & <fct>\\\\\n",
       "\\hline\n",
       "\t d\\_\\_Bacteria & p\\_\\_Actinobacteriota\\\\\n",
       "\t d\\_\\_Bacteria & p\\_\\_Firmicutes      \\\\\n",
       "\t ⋮ & ⋮\\\\\n",
       "\t d\\_\\_Bacteria & p\\_\\_Armatimonadota\\\\\n",
       "\t d\\_\\_Bacteria & p\\_\\_Firmicutes\\_G  \\\\\n",
       "\\end{tabular}\n"
      ],
      "text/markdown": [
       "\n",
       "A data.frame: 20 × 2\n",
       "\n",
       "| Domain &lt;fct&gt; | Phylum &lt;fct&gt; |\n",
       "|---|---|\n",
       "| d__Bacteria | p__Actinobacteriota |\n",
       "| d__Bacteria | p__Firmicutes       |\n",
       "| ⋮ | ⋮ |\n",
       "| d__Bacteria | p__Armatimonadota |\n",
       "| d__Bacteria | p__Firmicutes_G   |\n",
       "\n"
      ],
      "text/plain": [
       "   Domain      Phylum             \n",
       "1  d__Bacteria p__Actinobacteriota\n",
       "2  d__Bacteria p__Firmicutes      \n",
       "⋮  ⋮           ⋮                  \n",
       "19 d__Bacteria p__Armatimonadota  \n",
       "20 d__Bacteria p__Firmicutes_G    "
      ]
     },
     "metadata": {},
     "output_type": "display_data"
    }
   ],
   "source": [
    "# shared phyla\n",
    "df_train %>% distinct(Domain, Phylum) %>% nrow\n",
    "df_train %>%\n",
    "    distinct(Domain, Phylum) %>%\n",
    "    inner_join(ref_family %>% distinct(Domain, Phylum),\n",
    "               c('Domain', 'Phylum')) "
   ]
  },
  {
   "cell_type": "markdown",
   "metadata": {},
   "source": [
    "## Genus"
   ]
  },
  {
   "cell_type": "code",
   "execution_count": 56,
   "metadata": {
    "ExecuteTime": {
     "end_time": "2020-10-08T17:53:17.722125Z",
     "start_time": "2020-10-08T17:52:51.395Z"
    }
   },
   "outputs": [
    {
     "data": {
      "text/html": [
       "<table>\n",
       "<caption>A data.frame: 3900 × 28</caption>\n",
       "<thead>\n",
       "\t<tr><th scope=col>Taxon</th><th scope=col>Domain</th><th scope=col>Phylum</th><th scope=col>Class</th><th scope=col>Order</th><th scope=col>Family</th><th scope=col>Genus</th><th scope=col>Species</th><th scope=col>checkm_completeness</th><th scope=col>checkm_contamination</th><th scope=col>⋯</th><th scope=col>contig_count</th><th scope=col>genome_size</th><th scope=col>mean_contig_length</th><th scope=col>scaffold_count</th><th scope=col>ssu_contig_len</th><th scope=col>ssu_count</th><th scope=col>mimag_high_quality</th><th scope=col>mimag_medium_quality</th><th scope=col>mimag_low_quality</th><th scope=col>Fasta</th></tr>\n",
       "\t<tr><th scope=col>&lt;fct&gt;</th><th scope=col>&lt;fct&gt;</th><th scope=col>&lt;fct&gt;</th><th scope=col>&lt;fct&gt;</th><th scope=col>&lt;fct&gt;</th><th scope=col>&lt;fct&gt;</th><th scope=col>&lt;fct&gt;</th><th scope=col>&lt;fct&gt;</th><th scope=col>&lt;dbl&gt;</th><th scope=col>&lt;dbl&gt;</th><th scope=col>⋯</th><th scope=col>&lt;int&gt;</th><th scope=col>&lt;int&gt;</th><th scope=col>&lt;int&gt;</th><th scope=col>&lt;int&gt;</th><th scope=col>&lt;int&gt;</th><th scope=col>&lt;int&gt;</th><th scope=col>&lt;fct&gt;</th><th scope=col>&lt;fct&gt;</th><th scope=col>&lt;fct&gt;</th><th scope=col>&lt;chr&gt;</th></tr>\n",
       "</thead>\n",
       "<tbody>\n",
       "\t<tr><td>RS_GCF_005577435.1</td><td>d__Bacteria</td><td>p__Firmicutes       </td><td>c__Bacilli        </td><td>o__Paenibacillales   </td><td>f__Paenibacillaceae   </td><td>g__Paenibacillus     </td><td>s__Paenibacillus sp005577435 </td><td> 99.85</td><td>0.49</td><td>⋯</td><td> 1</td><td>4475055</td><td>4475055</td><td> 1</td><td>4475055</td><td>9</td><td>t</td><td>f</td><td>f</td><td>/ebio/abt3_projects/databases_no-backup/DeepMAsED/version2/ref_genomes/GTDBr95/genomes_quality_novel-genus/genbank/bacteria/GCA_005577435.1/GCA_005577435.1_ASM557743v1_genomic.fna.gz                           </td></tr>\n",
       "\t<tr><td>RS_GCF_900114585.1</td><td>d__Archaea </td><td>p__Methanobacteriota</td><td>c__Methanobacteria</td><td>o__Methanobacteriales</td><td>f__Methanobacteriaceae</td><td>g__Methanobrevibacter</td><td>s__Methanobrevibacter olleyae</td><td>100.00</td><td>1.60</td><td>⋯</td><td>56</td><td>2122444</td><td>  37894</td><td>49</td><td>  46879</td><td>1</td><td>t</td><td>f</td><td>f</td><td>/ebio/abt3_projects/databases_no-backup/DeepMAsED/version2/ref_genomes/GTDBr95/genomes_quality_novel-genus/genbank/archaea/GCA_900114585.1/GCA_900114585.1_IMG-taxon_2593339150_annotated_assembly_genomic.fna.gz</td></tr>\n",
       "\t<tr><td>⋮</td><td>⋮</td><td>⋮</td><td>⋮</td><td>⋮</td><td>⋮</td><td>⋮</td><td>⋮</td><td>⋮</td><td>⋮</td><td>⋱</td><td>⋮</td><td>⋮</td><td>⋮</td><td>⋮</td><td>⋮</td><td>⋮</td><td>⋮</td><td>⋮</td><td>⋮</td><td>⋮</td></tr>\n",
       "\t<tr><td>RS_GCF_005280195.1</td><td>d__Bacteria</td><td>p__Actinobacteriota</td><td>c__Actinomycetia</td><td>o__Streptomycetales</td><td>f__Streptomycetaceae</td><td>g__Streptomyces</td><td>s__Streptomyces galbus  </td><td>99.46</td><td>0.86</td><td>⋯</td><td>134</td><td>7836436</td><td>  58466</td><td>111</td><td>   5038</td><td>1</td><td>t</td><td>f</td><td>f</td><td>/ebio/abt3_projects/databases_no-backup/DeepMAsED/version2/ref_genomes/GTDBr95/genomes_quality_novel-genus/genbank/bacteria/GCA_005280195.1/GCA_005280195.1_ASM528019v1_genomic.fna.gz</td></tr>\n",
       "\t<tr><td>RS_GCF_006715355.1</td><td>d__Bacteria</td><td>p__Actinobacteriota</td><td>c__Actinomycetia</td><td>o__Actinomycetales </td><td>f__Microbacteriaceae</td><td>g__Agromyces   </td><td>s__Agromyces sp006715355</td><td>99.49</td><td>0.17</td><td>⋯</td><td>  1</td><td>4649509</td><td>4649509</td><td>  1</td><td>4649509</td><td>2</td><td>t</td><td>f</td><td>f</td><td>/ebio/abt3_projects/databases_no-backup/DeepMAsED/version2/ref_genomes/GTDBr95/genomes_quality_novel-genus/genbank/bacteria/GCA_006715355.1/GCA_006715355.1_ASM671535v1_genomic.fna.gz</td></tr>\n",
       "</tbody>\n",
       "</table>\n"
      ],
      "text/latex": [
       "A data.frame: 3900 × 28\n",
       "\\begin{tabular}{lllllllllllllllllllll}\n",
       " Taxon & Domain & Phylum & Class & Order & Family & Genus & Species & checkm\\_completeness & checkm\\_contamination & ⋯ & contig\\_count & genome\\_size & mean\\_contig\\_length & scaffold\\_count & ssu\\_contig\\_len & ssu\\_count & mimag\\_high\\_quality & mimag\\_medium\\_quality & mimag\\_low\\_quality & Fasta\\\\\n",
       " <fct> & <fct> & <fct> & <fct> & <fct> & <fct> & <fct> & <fct> & <dbl> & <dbl> & ⋯ & <int> & <int> & <int> & <int> & <int> & <int> & <fct> & <fct> & <fct> & <chr>\\\\\n",
       "\\hline\n",
       "\t RS\\_GCF\\_005577435.1 & d\\_\\_Bacteria & p\\_\\_Firmicutes        & c\\_\\_Bacilli         & o\\_\\_Paenibacillales    & f\\_\\_Paenibacillaceae    & g\\_\\_Paenibacillus      & s\\_\\_Paenibacillus sp005577435  &  99.85 & 0.49 & ⋯ &  1 & 4475055 & 4475055 &  1 & 4475055 & 9 & t & f & f & /ebio/abt3\\_projects/databases\\_no-backup/DeepMAsED/version2/ref\\_genomes/GTDBr95/genomes\\_quality\\_novel-genus/genbank/bacteria/GCA\\_005577435.1/GCA\\_005577435.1\\_ASM557743v1\\_genomic.fna.gz                           \\\\\n",
       "\t RS\\_GCF\\_900114585.1 & d\\_\\_Archaea  & p\\_\\_Methanobacteriota & c\\_\\_Methanobacteria & o\\_\\_Methanobacteriales & f\\_\\_Methanobacteriaceae & g\\_\\_Methanobrevibacter & s\\_\\_Methanobrevibacter olleyae & 100.00 & 1.60 & ⋯ & 56 & 2122444 &   37894 & 49 &   46879 & 1 & t & f & f & /ebio/abt3\\_projects/databases\\_no-backup/DeepMAsED/version2/ref\\_genomes/GTDBr95/genomes\\_quality\\_novel-genus/genbank/archaea/GCA\\_900114585.1/GCA\\_900114585.1\\_IMG-taxon\\_2593339150\\_annotated\\_assembly\\_genomic.fna.gz\\\\\n",
       "\t ⋮ & ⋮ & ⋮ & ⋮ & ⋮ & ⋮ & ⋮ & ⋮ & ⋮ & ⋮ & ⋱ & ⋮ & ⋮ & ⋮ & ⋮ & ⋮ & ⋮ & ⋮ & ⋮ & ⋮ & ⋮\\\\\n",
       "\t RS\\_GCF\\_005280195.1 & d\\_\\_Bacteria & p\\_\\_Actinobacteriota & c\\_\\_Actinomycetia & o\\_\\_Streptomycetales & f\\_\\_Streptomycetaceae & g\\_\\_Streptomyces & s\\_\\_Streptomyces galbus   & 99.46 & 0.86 & ⋯ & 134 & 7836436 &   58466 & 111 &    5038 & 1 & t & f & f & /ebio/abt3\\_projects/databases\\_no-backup/DeepMAsED/version2/ref\\_genomes/GTDBr95/genomes\\_quality\\_novel-genus/genbank/bacteria/GCA\\_005280195.1/GCA\\_005280195.1\\_ASM528019v1\\_genomic.fna.gz\\\\\n",
       "\t RS\\_GCF\\_006715355.1 & d\\_\\_Bacteria & p\\_\\_Actinobacteriota & c\\_\\_Actinomycetia & o\\_\\_Actinomycetales  & f\\_\\_Microbacteriaceae & g\\_\\_Agromyces    & s\\_\\_Agromyces sp006715355 & 99.49 & 0.17 & ⋯ &   1 & 4649509 & 4649509 &   1 & 4649509 & 2 & t & f & f & /ebio/abt3\\_projects/databases\\_no-backup/DeepMAsED/version2/ref\\_genomes/GTDBr95/genomes\\_quality\\_novel-genus/genbank/bacteria/GCA\\_006715355.1/GCA\\_006715355.1\\_ASM671535v1\\_genomic.fna.gz\\\\\n",
       "\\end{tabular}\n"
      ],
      "text/markdown": [
       "\n",
       "A data.frame: 3900 × 28\n",
       "\n",
       "| Taxon &lt;fct&gt; | Domain &lt;fct&gt; | Phylum &lt;fct&gt; | Class &lt;fct&gt; | Order &lt;fct&gt; | Family &lt;fct&gt; | Genus &lt;fct&gt; | Species &lt;fct&gt; | checkm_completeness &lt;dbl&gt; | checkm_contamination &lt;dbl&gt; | ⋯ ⋯ | contig_count &lt;int&gt; | genome_size &lt;int&gt; | mean_contig_length &lt;int&gt; | scaffold_count &lt;int&gt; | ssu_contig_len &lt;int&gt; | ssu_count &lt;int&gt; | mimag_high_quality &lt;fct&gt; | mimag_medium_quality &lt;fct&gt; | mimag_low_quality &lt;fct&gt; | Fasta &lt;chr&gt; |\n",
       "|---|---|---|---|---|---|---|---|---|---|---|---|---|---|---|---|---|---|---|---|---|\n",
       "| RS_GCF_005577435.1 | d__Bacteria | p__Firmicutes        | c__Bacilli         | o__Paenibacillales    | f__Paenibacillaceae    | g__Paenibacillus      | s__Paenibacillus sp005577435  |  99.85 | 0.49 | ⋯ |  1 | 4475055 | 4475055 |  1 | 4475055 | 9 | t | f | f | /ebio/abt3_projects/databases_no-backup/DeepMAsED/version2/ref_genomes/GTDBr95/genomes_quality_novel-genus/genbank/bacteria/GCA_005577435.1/GCA_005577435.1_ASM557743v1_genomic.fna.gz                            |\n",
       "| RS_GCF_900114585.1 | d__Archaea  | p__Methanobacteriota | c__Methanobacteria | o__Methanobacteriales | f__Methanobacteriaceae | g__Methanobrevibacter | s__Methanobrevibacter olleyae | 100.00 | 1.60 | ⋯ | 56 | 2122444 |   37894 | 49 |   46879 | 1 | t | f | f | /ebio/abt3_projects/databases_no-backup/DeepMAsED/version2/ref_genomes/GTDBr95/genomes_quality_novel-genus/genbank/archaea/GCA_900114585.1/GCA_900114585.1_IMG-taxon_2593339150_annotated_assembly_genomic.fna.gz |\n",
       "| ⋮ | ⋮ | ⋮ | ⋮ | ⋮ | ⋮ | ⋮ | ⋮ | ⋮ | ⋮ | ⋱ | ⋮ | ⋮ | ⋮ | ⋮ | ⋮ | ⋮ | ⋮ | ⋮ | ⋮ | ⋮ |\n",
       "| RS_GCF_005280195.1 | d__Bacteria | p__Actinobacteriota | c__Actinomycetia | o__Streptomycetales | f__Streptomycetaceae | g__Streptomyces | s__Streptomyces galbus   | 99.46 | 0.86 | ⋯ | 134 | 7836436 |   58466 | 111 |    5038 | 1 | t | f | f | /ebio/abt3_projects/databases_no-backup/DeepMAsED/version2/ref_genomes/GTDBr95/genomes_quality_novel-genus/genbank/bacteria/GCA_005280195.1/GCA_005280195.1_ASM528019v1_genomic.fna.gz |\n",
       "| RS_GCF_006715355.1 | d__Bacteria | p__Actinobacteriota | c__Actinomycetia | o__Actinomycetales  | f__Microbacteriaceae | g__Agromyces    | s__Agromyces sp006715355 | 99.49 | 0.17 | ⋯ |   1 | 4649509 | 4649509 |   1 | 4649509 | 2 | t | f | f | /ebio/abt3_projects/databases_no-backup/DeepMAsED/version2/ref_genomes/GTDBr95/genomes_quality_novel-genus/genbank/bacteria/GCA_006715355.1/GCA_006715355.1_ASM671535v1_genomic.fna.gz |\n",
       "\n"
      ],
      "text/plain": [
       "     Taxon              Domain      Phylum               Class             \n",
       "1    RS_GCF_005577435.1 d__Bacteria p__Firmicutes        c__Bacilli        \n",
       "2    RS_GCF_900114585.1 d__Archaea  p__Methanobacteriota c__Methanobacteria\n",
       "⋮    ⋮                  ⋮           ⋮                    ⋮                 \n",
       "3899 RS_GCF_005280195.1 d__Bacteria p__Actinobacteriota  c__Actinomycetia  \n",
       "3900 RS_GCF_006715355.1 d__Bacteria p__Actinobacteriota  c__Actinomycetia  \n",
       "     Order                 Family                 Genus                \n",
       "1    o__Paenibacillales    f__Paenibacillaceae    g__Paenibacillus     \n",
       "2    o__Methanobacteriales f__Methanobacteriaceae g__Methanobrevibacter\n",
       "⋮    ⋮                     ⋮                      ⋮                    \n",
       "3899 o__Streptomycetales   f__Streptomycetaceae   g__Streptomyces      \n",
       "3900 o__Actinomycetales    f__Microbacteriaceae   g__Agromyces         \n",
       "     Species                       checkm_completeness checkm_contamination ⋯\n",
       "1    s__Paenibacillus sp005577435   99.85              0.49                 ⋯\n",
       "2    s__Methanobrevibacter olleyae 100.00              1.60                 ⋯\n",
       "⋮    ⋮                             ⋮                   ⋮                    ⋱\n",
       "3899 s__Streptomyces galbus        99.46               0.86                 ⋯\n",
       "3900 s__Agromyces sp006715355      99.49               0.17                 ⋯\n",
       "     contig_count genome_size mean_contig_length scaffold_count ssu_contig_len\n",
       "1     1           4475055     4475055             1             4475055       \n",
       "2    56           2122444       37894            49               46879       \n",
       "⋮    ⋮            ⋮           ⋮                  ⋮              ⋮             \n",
       "3899 134          7836436       58466            111               5038       \n",
       "3900   1          4649509     4649509              1            4649509       \n",
       "     ssu_count mimag_high_quality mimag_medium_quality mimag_low_quality\n",
       "1    9         t                  f                    f                \n",
       "2    1         t                  f                    f                \n",
       "⋮    ⋮         ⋮                  ⋮                    ⋮                \n",
       "3899 1         t                  f                    f                \n",
       "3900 2         t                  f                    f                \n",
       "     Fasta                                                                                                                                                                                                            \n",
       "1    /ebio/abt3_projects/databases_no-backup/DeepMAsED/version2/ref_genomes/GTDBr95/genomes_quality_novel-genus/genbank/bacteria/GCA_005577435.1/GCA_005577435.1_ASM557743v1_genomic.fna.gz                           \n",
       "2    /ebio/abt3_projects/databases_no-backup/DeepMAsED/version2/ref_genomes/GTDBr95/genomes_quality_novel-genus/genbank/archaea/GCA_900114585.1/GCA_900114585.1_IMG-taxon_2593339150_annotated_assembly_genomic.fna.gz\n",
       "⋮    ⋮                                                                                                                                                                                                                \n",
       "3899 /ebio/abt3_projects/databases_no-backup/DeepMAsED/version2/ref_genomes/GTDBr95/genomes_quality_novel-genus/genbank/bacteria/GCA_005280195.1/GCA_005280195.1_ASM528019v1_genomic.fna.gz                           \n",
       "3900 /ebio/abt3_projects/databases_no-backup/DeepMAsED/version2/ref_genomes/GTDBr95/genomes_quality_novel-genus/genbank/bacteria/GCA_006715355.1/GCA_006715355.1_ASM671535v1_genomic.fna.gz                           "
      ]
     },
     "metadata": {},
     "output_type": "display_data"
    }
   ],
   "source": [
    "F = file.path(r95_work_dir, 'metadata_quality_novel-genus_wGen.tsv')\n",
    "ref_genus = read.delim(F, sep='\\t') %>%\n",
    "    rename('Taxon' = accession,\n",
    "           'Fasta' = fasta_file_path) %>%\n",
    "    distinct(Taxon, Fasta, .keep_all=TRUE) %>%\n",
    "    filter(!is.na(Fasta)) %>%\n",
    "    mutate(Fasta = sapply(Fasta, function(F) file.path(r95_work_dir, F)),\n",
    "           Fasta = gsub('/+', '/', Fasta)) %>%\n",
    "    sample_n(n_final_genomes)\n",
    "ref_genus"
   ]
  },
  {
   "cell_type": "code",
   "execution_count": 57,
   "metadata": {
    "ExecuteTime": {
     "end_time": "2020-10-08T17:53:17.929869Z",
     "start_time": "2020-10-08T17:52:51.398Z"
    }
   },
   "outputs": [
    {
     "name": "stdout",
     "output_type": "stream",
     "text": [
      "File written: /ebio/abt3_projects/databases_no-backup/DeepMAsED/version2/ref_genomes/GTDBr95//metadata_quality_novel-genus_wGen_final.tsv \n"
     ]
    }
   ],
   "source": [
    "# writing \n",
    "outF = file.path(r95_work_dir, 'metadata_quality_novel-genus_wGen_final.tsv')\n",
    "ref_genus %>%\n",
    "    dplyr::select(Taxon, Fasta) %>%\n",
    "    write_table(outF)"
   ]
  },
  {
   "cell_type": "markdown",
   "metadata": {},
   "source": [
    "### Taxonomic similarity to train data"
   ]
  },
  {
   "cell_type": "code",
   "execution_count": 58,
   "metadata": {
    "ExecuteTime": {
     "end_time": "2020-10-08T17:53:17.968000Z",
     "start_time": "2020-10-08T17:52:51.403Z"
    }
   },
   "outputs": [
    {
     "data": {
      "text/html": [
       "1878"
      ],
      "text/latex": [
       "1878"
      ],
      "text/markdown": [
       "1878"
      ],
      "text/plain": [
       "[1] 1878"
      ]
     },
     "metadata": {},
     "output_type": "display_data"
    },
    {
     "data": {
      "text/html": [
       "<table>\n",
       "<caption>A data.frame: 0 × 6</caption>\n",
       "<thead>\n",
       "\t<tr><th scope=col>Domain</th><th scope=col>Phylum</th><th scope=col>Class</th><th scope=col>Order</th><th scope=col>Family</th><th scope=col>Genus</th></tr>\n",
       "\t<tr><th scope=col>&lt;fct&gt;</th><th scope=col>&lt;fct&gt;</th><th scope=col>&lt;fct&gt;</th><th scope=col>&lt;fct&gt;</th><th scope=col>&lt;fct&gt;</th><th scope=col>&lt;fct&gt;</th></tr>\n",
       "</thead>\n",
       "<tbody>\n",
       "</tbody>\n",
       "</table>\n"
      ],
      "text/latex": [
       "A data.frame: 0 × 6\n",
       "\\begin{tabular}{llllll}\n",
       " Domain & Phylum & Class & Order & Family & Genus\\\\\n",
       " <fct> & <fct> & <fct> & <fct> & <fct> & <fct>\\\\\n",
       "\\hline\n",
       "\\end{tabular}\n"
      ],
      "text/markdown": [
       "\n",
       "A data.frame: 0 × 6\n",
       "\n",
       "| Domain &lt;fct&gt; | Phylum &lt;fct&gt; | Class &lt;fct&gt; | Order &lt;fct&gt; | Family &lt;fct&gt; | Genus &lt;fct&gt; |\n",
       "|---|---|---|---|---|---|\n",
       "\n"
      ],
      "text/plain": [
       "     Domain Phylum Class Order Family Genus"
      ]
     },
     "metadata": {},
     "output_type": "display_data"
    }
   ],
   "source": [
    "# shared genera\n",
    "df_train %>% distinct(Domain, Phylum, Class, Order, Family, Genus) %>% nrow\n",
    "df_train %>%\n",
    "    distinct(Domain, Phylum, Class, Order, Family, Genus) %>%\n",
    "    inner_join(ref_genus %>% distinct(Domain, Phylum, Class, Order, Family, Genus),\n",
    "               c('Domain', 'Phylum', 'Class', 'Order', 'Family', 'Genus')) "
   ]
  },
  {
   "cell_type": "code",
   "execution_count": 59,
   "metadata": {
    "ExecuteTime": {
     "end_time": "2020-10-08T17:53:18.008722Z",
     "start_time": "2020-10-08T17:52:51.407Z"
    }
   },
   "outputs": [
    {
     "data": {
      "text/html": [
       "485"
      ],
      "text/latex": [
       "485"
      ],
      "text/markdown": [
       "485"
      ],
      "text/plain": [
       "[1] 485"
      ]
     },
     "metadata": {},
     "output_type": "display_data"
    },
    {
     "data": {
      "text/html": [
       "<table>\n",
       "<caption>A data.frame: 131 × 5</caption>\n",
       "<thead>\n",
       "\t<tr><th scope=col>Domain</th><th scope=col>Phylum</th><th scope=col>Class</th><th scope=col>Order</th><th scope=col>Family</th></tr>\n",
       "\t<tr><th scope=col>&lt;fct&gt;</th><th scope=col>&lt;fct&gt;</th><th scope=col>&lt;fct&gt;</th><th scope=col>&lt;fct&gt;</th><th scope=col>&lt;fct&gt;</th></tr>\n",
       "</thead>\n",
       "<tbody>\n",
       "\t<tr><td>d__Bacteria</td><td>p__Actinobacteriota</td><td>c__Coriobacteriia</td><td>o__Coriobacteriales</td><td>f__Eggerthellaceae</td></tr>\n",
       "\t<tr><td>d__Bacteria</td><td>p__Firmicutes      </td><td>c__Bacilli       </td><td>o__Bacillales      </td><td>f__Bacillaceae_G  </td></tr>\n",
       "\t<tr><td>⋮</td><td>⋮</td><td>⋮</td><td>⋮</td><td>⋮</td></tr>\n",
       "\t<tr><td>d__Bacteria</td><td>p__Proteobacteria  </td><td>c__Alphaproteobacteria</td><td>o__Rhizobiales      </td><td>f__Anderseniellaceae  </td></tr>\n",
       "\t<tr><td>d__Bacteria</td><td>p__Deferribacterota</td><td>c__Deferribacteres    </td><td>o__Deferribacterales</td><td>f__Denitrovibrionaceae</td></tr>\n",
       "</tbody>\n",
       "</table>\n"
      ],
      "text/latex": [
       "A data.frame: 131 × 5\n",
       "\\begin{tabular}{lllll}\n",
       " Domain & Phylum & Class & Order & Family\\\\\n",
       " <fct> & <fct> & <fct> & <fct> & <fct>\\\\\n",
       "\\hline\n",
       "\t d\\_\\_Bacteria & p\\_\\_Actinobacteriota & c\\_\\_Coriobacteriia & o\\_\\_Coriobacteriales & f\\_\\_Eggerthellaceae\\\\\n",
       "\t d\\_\\_Bacteria & p\\_\\_Firmicutes       & c\\_\\_Bacilli        & o\\_\\_Bacillales       & f\\_\\_Bacillaceae\\_G  \\\\\n",
       "\t ⋮ & ⋮ & ⋮ & ⋮ & ⋮\\\\\n",
       "\t d\\_\\_Bacteria & p\\_\\_Proteobacteria   & c\\_\\_Alphaproteobacteria & o\\_\\_Rhizobiales       & f\\_\\_Anderseniellaceae  \\\\\n",
       "\t d\\_\\_Bacteria & p\\_\\_Deferribacterota & c\\_\\_Deferribacteres     & o\\_\\_Deferribacterales & f\\_\\_Denitrovibrionaceae\\\\\n",
       "\\end{tabular}\n"
      ],
      "text/markdown": [
       "\n",
       "A data.frame: 131 × 5\n",
       "\n",
       "| Domain &lt;fct&gt; | Phylum &lt;fct&gt; | Class &lt;fct&gt; | Order &lt;fct&gt; | Family &lt;fct&gt; |\n",
       "|---|---|---|---|---|\n",
       "| d__Bacteria | p__Actinobacteriota | c__Coriobacteriia | o__Coriobacteriales | f__Eggerthellaceae |\n",
       "| d__Bacteria | p__Firmicutes       | c__Bacilli        | o__Bacillales       | f__Bacillaceae_G   |\n",
       "| ⋮ | ⋮ | ⋮ | ⋮ | ⋮ |\n",
       "| d__Bacteria | p__Proteobacteria   | c__Alphaproteobacteria | o__Rhizobiales       | f__Anderseniellaceae   |\n",
       "| d__Bacteria | p__Deferribacterota | c__Deferribacteres     | o__Deferribacterales | f__Denitrovibrionaceae |\n",
       "\n"
      ],
      "text/plain": [
       "    Domain      Phylum              Class                  Order               \n",
       "1   d__Bacteria p__Actinobacteriota c__Coriobacteriia      o__Coriobacteriales \n",
       "2   d__Bacteria p__Firmicutes       c__Bacilli             o__Bacillales       \n",
       "⋮   ⋮           ⋮                   ⋮                      ⋮                   \n",
       "130 d__Bacteria p__Proteobacteria   c__Alphaproteobacteria o__Rhizobiales      \n",
       "131 d__Bacteria p__Deferribacterota c__Deferribacteres     o__Deferribacterales\n",
       "    Family                \n",
       "1   f__Eggerthellaceae    \n",
       "2   f__Bacillaceae_G      \n",
       "⋮   ⋮                     \n",
       "130 f__Anderseniellaceae  \n",
       "131 f__Denitrovibrionaceae"
      ]
     },
     "metadata": {},
     "output_type": "display_data"
    }
   ],
   "source": [
    "# shared families\n",
    "df_train %>% distinct(Domain, Phylum, Class, Order, Family) %>% nrow\n",
    "df_train %>%\n",
    "    distinct(Domain, Phylum, Class, Order, Family) %>%\n",
    "    inner_join(ref_genus %>% distinct(Domain, Phylum, Class, Order, Family),\n",
    "               c('Domain', 'Phylum', 'Class', 'Order', 'Family')) "
   ]
  },
  {
   "cell_type": "code",
   "execution_count": 60,
   "metadata": {
    "ExecuteTime": {
     "end_time": "2020-10-08T17:53:18.048928Z",
     "start_time": "2020-10-08T17:52:51.411Z"
    }
   },
   "outputs": [
    {
     "data": {
      "text/html": [
       "219"
      ],
      "text/latex": [
       "219"
      ],
      "text/markdown": [
       "219"
      ],
      "text/plain": [
       "[1] 219"
      ]
     },
     "metadata": {},
     "output_type": "display_data"
    },
    {
     "data": {
      "text/html": [
       "<table>\n",
       "<caption>A data.frame: 75 × 4</caption>\n",
       "<thead>\n",
       "\t<tr><th scope=col>Domain</th><th scope=col>Phylum</th><th scope=col>Class</th><th scope=col>Order</th></tr>\n",
       "\t<tr><th scope=col>&lt;fct&gt;</th><th scope=col>&lt;fct&gt;</th><th scope=col>&lt;fct&gt;</th><th scope=col>&lt;fct&gt;</th></tr>\n",
       "</thead>\n",
       "<tbody>\n",
       "\t<tr><td>d__Bacteria</td><td>p__Actinobacteriota</td><td>c__Coriobacteriia</td><td>o__Coriobacteriales</td></tr>\n",
       "\t<tr><td>d__Bacteria</td><td>p__Firmicutes      </td><td>c__Bacilli       </td><td>o__Bacillales      </td></tr>\n",
       "\t<tr><td>⋮</td><td>⋮</td><td>⋮</td><td>⋮</td></tr>\n",
       "\t<tr><td>d__Bacteria</td><td>p__Cyanobacteria </td><td>c__Cyanobacteriia     </td><td>o__Pseudanabaenales </td></tr>\n",
       "\t<tr><td>d__Bacteria</td><td>p__Proteobacteria</td><td>c__Alphaproteobacteria</td><td>o__Thalassobaculales</td></tr>\n",
       "</tbody>\n",
       "</table>\n"
      ],
      "text/latex": [
       "A data.frame: 75 × 4\n",
       "\\begin{tabular}{llll}\n",
       " Domain & Phylum & Class & Order\\\\\n",
       " <fct> & <fct> & <fct> & <fct>\\\\\n",
       "\\hline\n",
       "\t d\\_\\_Bacteria & p\\_\\_Actinobacteriota & c\\_\\_Coriobacteriia & o\\_\\_Coriobacteriales\\\\\n",
       "\t d\\_\\_Bacteria & p\\_\\_Firmicutes       & c\\_\\_Bacilli        & o\\_\\_Bacillales      \\\\\n",
       "\t ⋮ & ⋮ & ⋮ & ⋮\\\\\n",
       "\t d\\_\\_Bacteria & p\\_\\_Cyanobacteria  & c\\_\\_Cyanobacteriia      & o\\_\\_Pseudanabaenales \\\\\n",
       "\t d\\_\\_Bacteria & p\\_\\_Proteobacteria & c\\_\\_Alphaproteobacteria & o\\_\\_Thalassobaculales\\\\\n",
       "\\end{tabular}\n"
      ],
      "text/markdown": [
       "\n",
       "A data.frame: 75 × 4\n",
       "\n",
       "| Domain &lt;fct&gt; | Phylum &lt;fct&gt; | Class &lt;fct&gt; | Order &lt;fct&gt; |\n",
       "|---|---|---|---|\n",
       "| d__Bacteria | p__Actinobacteriota | c__Coriobacteriia | o__Coriobacteriales |\n",
       "| d__Bacteria | p__Firmicutes       | c__Bacilli        | o__Bacillales       |\n",
       "| ⋮ | ⋮ | ⋮ | ⋮ |\n",
       "| d__Bacteria | p__Cyanobacteria  | c__Cyanobacteriia      | o__Pseudanabaenales  |\n",
       "| d__Bacteria | p__Proteobacteria | c__Alphaproteobacteria | o__Thalassobaculales |\n",
       "\n"
      ],
      "text/plain": [
       "   Domain      Phylum              Class                  Order               \n",
       "1  d__Bacteria p__Actinobacteriota c__Coriobacteriia      o__Coriobacteriales \n",
       "2  d__Bacteria p__Firmicutes       c__Bacilli             o__Bacillales       \n",
       "⋮  ⋮           ⋮                   ⋮                      ⋮                   \n",
       "74 d__Bacteria p__Cyanobacteria    c__Cyanobacteriia      o__Pseudanabaenales \n",
       "75 d__Bacteria p__Proteobacteria   c__Alphaproteobacteria o__Thalassobaculales"
      ]
     },
     "metadata": {},
     "output_type": "display_data"
    }
   ],
   "source": [
    "# shared orders\n",
    "df_train %>% distinct(Domain, Phylum, Class, Order) %>% nrow\n",
    "df_train %>%\n",
    "    distinct(Domain, Phylum, Class, Order) %>%\n",
    "    inner_join(ref_genus %>% distinct(Domain, Phylum, Class, Order),\n",
    "               c('Domain', 'Phylum', 'Class', 'Order')) "
   ]
  },
  {
   "cell_type": "code",
   "execution_count": 61,
   "metadata": {
    "ExecuteTime": {
     "end_time": "2020-10-08T17:53:18.086131Z",
     "start_time": "2020-10-08T17:52:51.415Z"
    }
   },
   "outputs": [
    {
     "data": {
      "text/html": [
       "94"
      ],
      "text/latex": [
       "94"
      ],
      "text/markdown": [
       "94"
      ],
      "text/plain": [
       "[1] 94"
      ]
     },
     "metadata": {},
     "output_type": "display_data"
    },
    {
     "data": {
      "text/html": [
       "<table>\n",
       "<caption>A data.frame: 34 × 3</caption>\n",
       "<thead>\n",
       "\t<tr><th scope=col>Domain</th><th scope=col>Phylum</th><th scope=col>Class</th></tr>\n",
       "\t<tr><th scope=col>&lt;fct&gt;</th><th scope=col>&lt;fct&gt;</th><th scope=col>&lt;fct&gt;</th></tr>\n",
       "</thead>\n",
       "<tbody>\n",
       "\t<tr><td>d__Bacteria</td><td>p__Actinobacteriota</td><td>c__Coriobacteriia</td></tr>\n",
       "\t<tr><td>d__Bacteria</td><td>p__Firmicutes      </td><td>c__Bacilli       </td></tr>\n",
       "\t<tr><td>⋮</td><td>⋮</td><td>⋮</td></tr>\n",
       "\t<tr><td>d__Bacteria</td><td>p__Bdellovibrionota</td><td>c__Bdellovibrionia</td></tr>\n",
       "\t<tr><td>d__Bacteria</td><td>p__Armatimonadota  </td><td>c__Fimbriimonadia </td></tr>\n",
       "</tbody>\n",
       "</table>\n"
      ],
      "text/latex": [
       "A data.frame: 34 × 3\n",
       "\\begin{tabular}{lll}\n",
       " Domain & Phylum & Class\\\\\n",
       " <fct> & <fct> & <fct>\\\\\n",
       "\\hline\n",
       "\t d\\_\\_Bacteria & p\\_\\_Actinobacteriota & c\\_\\_Coriobacteriia\\\\\n",
       "\t d\\_\\_Bacteria & p\\_\\_Firmicutes       & c\\_\\_Bacilli       \\\\\n",
       "\t ⋮ & ⋮ & ⋮\\\\\n",
       "\t d\\_\\_Bacteria & p\\_\\_Bdellovibrionota & c\\_\\_Bdellovibrionia\\\\\n",
       "\t d\\_\\_Bacteria & p\\_\\_Armatimonadota   & c\\_\\_Fimbriimonadia \\\\\n",
       "\\end{tabular}\n"
      ],
      "text/markdown": [
       "\n",
       "A data.frame: 34 × 3\n",
       "\n",
       "| Domain &lt;fct&gt; | Phylum &lt;fct&gt; | Class &lt;fct&gt; |\n",
       "|---|---|---|\n",
       "| d__Bacteria | p__Actinobacteriota | c__Coriobacteriia |\n",
       "| d__Bacteria | p__Firmicutes       | c__Bacilli        |\n",
       "| ⋮ | ⋮ | ⋮ |\n",
       "| d__Bacteria | p__Bdellovibrionota | c__Bdellovibrionia |\n",
       "| d__Bacteria | p__Armatimonadota   | c__Fimbriimonadia  |\n",
       "\n"
      ],
      "text/plain": [
       "   Domain      Phylum              Class             \n",
       "1  d__Bacteria p__Actinobacteriota c__Coriobacteriia \n",
       "2  d__Bacteria p__Firmicutes       c__Bacilli        \n",
       "⋮  ⋮           ⋮                   ⋮                 \n",
       "33 d__Bacteria p__Bdellovibrionota c__Bdellovibrionia\n",
       "34 d__Bacteria p__Armatimonadota   c__Fimbriimonadia "
      ]
     },
     "metadata": {},
     "output_type": "display_data"
    }
   ],
   "source": [
    "# shared classes\n",
    "df_train %>% distinct(Domain, Phylum, Class) %>% nrow\n",
    "df_train %>%\n",
    "    distinct(Domain, Phylum, Class) %>%\n",
    "    inner_join(ref_genus %>% distinct(Domain, Phylum, Class),\n",
    "               c('Domain', 'Phylum', 'Class')) "
   ]
  },
  {
   "cell_type": "code",
   "execution_count": 62,
   "metadata": {
    "ExecuteTime": {
     "end_time": "2020-10-08T17:53:18.126157Z",
     "start_time": "2020-10-08T17:52:51.419Z"
    }
   },
   "outputs": [
    {
     "data": {
      "text/html": [
       "48"
      ],
      "text/latex": [
       "48"
      ],
      "text/markdown": [
       "48"
      ],
      "text/plain": [
       "[1] 48"
      ]
     },
     "metadata": {},
     "output_type": "display_data"
    },
    {
     "data": {
      "text/html": [
       "<table>\n",
       "<caption>A data.frame: 28 × 2</caption>\n",
       "<thead>\n",
       "\t<tr><th scope=col>Domain</th><th scope=col>Phylum</th></tr>\n",
       "\t<tr><th scope=col>&lt;fct&gt;</th><th scope=col>&lt;fct&gt;</th></tr>\n",
       "</thead>\n",
       "<tbody>\n",
       "\t<tr><td>d__Bacteria</td><td>p__Actinobacteriota</td></tr>\n",
       "\t<tr><td>d__Bacteria</td><td>p__Firmicutes      </td></tr>\n",
       "\t<tr><td>⋮</td><td>⋮</td></tr>\n",
       "\t<tr><td>d__Bacteria</td><td>p__Firmicutes_G    </td></tr>\n",
       "\t<tr><td>d__Bacteria</td><td>p__Bdellovibrionota</td></tr>\n",
       "</tbody>\n",
       "</table>\n"
      ],
      "text/latex": [
       "A data.frame: 28 × 2\n",
       "\\begin{tabular}{ll}\n",
       " Domain & Phylum\\\\\n",
       " <fct> & <fct>\\\\\n",
       "\\hline\n",
       "\t d\\_\\_Bacteria & p\\_\\_Actinobacteriota\\\\\n",
       "\t d\\_\\_Bacteria & p\\_\\_Firmicutes      \\\\\n",
       "\t ⋮ & ⋮\\\\\n",
       "\t d\\_\\_Bacteria & p\\_\\_Firmicutes\\_G    \\\\\n",
       "\t d\\_\\_Bacteria & p\\_\\_Bdellovibrionota\\\\\n",
       "\\end{tabular}\n"
      ],
      "text/markdown": [
       "\n",
       "A data.frame: 28 × 2\n",
       "\n",
       "| Domain &lt;fct&gt; | Phylum &lt;fct&gt; |\n",
       "|---|---|\n",
       "| d__Bacteria | p__Actinobacteriota |\n",
       "| d__Bacteria | p__Firmicutes       |\n",
       "| ⋮ | ⋮ |\n",
       "| d__Bacteria | p__Firmicutes_G     |\n",
       "| d__Bacteria | p__Bdellovibrionota |\n",
       "\n"
      ],
      "text/plain": [
       "   Domain      Phylum             \n",
       "1  d__Bacteria p__Actinobacteriota\n",
       "2  d__Bacteria p__Firmicutes      \n",
       "⋮  ⋮           ⋮                  \n",
       "27 d__Bacteria p__Firmicutes_G    \n",
       "28 d__Bacteria p__Bdellovibrionota"
      ]
     },
     "metadata": {},
     "output_type": "display_data"
    }
   ],
   "source": [
    "# shared phyla\n",
    "df_train %>% distinct(Domain, Phylum) %>% nrow\n",
    "df_train %>%\n",
    "    distinct(Domain, Phylum) %>%\n",
    "    inner_join(ref_genus %>% distinct(Domain, Phylum),\n",
    "               c('Domain', 'Phylum')) "
   ]
  },
  {
   "cell_type": "markdown",
   "metadata": {},
   "source": [
    "# sessionInfo"
   ]
  },
  {
   "cell_type": "code",
   "execution_count": 63,
   "metadata": {
    "ExecuteTime": {
     "end_time": "2020-10-08T17:53:18.162449Z",
     "start_time": "2020-10-08T17:52:51.427Z"
    }
   },
   "outputs": [
    {
     "data": {
      "text/plain": [
       "R version 3.6.3 (2020-02-29)\n",
       "Platform: x86_64-conda_cos6-linux-gnu (64-bit)\n",
       "Running under: Ubuntu 18.04.5 LTS\n",
       "\n",
       "Matrix products: default\n",
       "BLAS/LAPACK: /ebio/abt3_projects/Georg_animal_feces/envs/tidyverse/lib/libopenblasp-r0.3.9.so\n",
       "\n",
       "locale:\n",
       " [1] LC_CTYPE=en_US.UTF-8       LC_NUMERIC=C              \n",
       " [3] LC_TIME=en_US.UTF-8        LC_COLLATE=en_US.UTF-8    \n",
       " [5] LC_MONETARY=en_US.UTF-8    LC_MESSAGES=en_US.UTF-8   \n",
       " [7] LC_PAPER=en_US.UTF-8       LC_NAME=C                 \n",
       " [9] LC_ADDRESS=C               LC_TELEPHONE=C            \n",
       "[11] LC_MEASUREMENT=en_US.UTF-8 LC_IDENTIFICATION=C       \n",
       "\n",
       "attached base packages:\n",
       "[1] stats     graphics  grDevices utils     datasets  methods   base     \n",
       "\n",
       "other attached packages:\n",
       "[1] LeyLabRMisc_0.1.6 data.table_1.12.8 ggplot2_3.3.1     tidyr_1.1.0      \n",
       "[5] dplyr_1.0.0      \n",
       "\n",
       "loaded via a namespace (and not attached):\n",
       " [1] Rcpp_1.0.4.6     magrittr_1.5     munsell_0.5.0    tidyselect_1.1.0\n",
       " [5] uuid_0.1-4       colorspace_1.4-1 R6_2.4.1         rlang_0.4.6     \n",
       " [9] tools_3.6.3      grid_3.6.3       gtable_0.3.0     withr_2.2.0     \n",
       "[13] htmltools_0.4.0  ellipsis_0.3.1   digest_0.6.25    tibble_3.0.1    \n",
       "[17] lifecycle_0.2.0  crayon_1.3.4     IRdisplay_0.7.0  purrr_0.3.4     \n",
       "[21] repr_1.1.0       base64enc_0.1-3  vctrs_0.3.1      IRkernel_1.1    \n",
       "[25] glue_1.4.1       evaluate_0.14    stringi_1.4.6    pbdZMQ_0.3-3    \n",
       "[29] compiler_3.6.3   pillar_1.4.4     scales_1.1.1     generics_0.0.2  \n",
       "[33] jsonlite_1.6.1   pkgconfig_2.0.3 "
      ]
     },
     "metadata": {},
     "output_type": "display_data"
    }
   ],
   "source": [
    "sessionInfo()"
   ]
  },
  {
   "cell_type": "code",
   "execution_count": null,
   "metadata": {},
   "outputs": [],
   "source": []
  }
 ],
 "metadata": {
  "kernelspec": {
   "display_name": "R [conda env:Georg_animal_feces-tidyverse]",
   "language": "R",
   "name": "conda-env-Georg_animal_feces-tidyverse-r"
  },
  "language_info": {
   "codemirror_mode": "r",
   "file_extension": ".r",
   "mimetype": "text/x-r-source",
   "name": "R",
   "pygments_lexer": "r",
   "version": "3.6.3"
  },
  "toc": {
   "base_numbering": 1,
   "nav_menu": {},
   "number_sections": true,
   "sideBar": true,
   "skip_h1_title": false,
   "title_cell": "Table of Contents",
   "title_sidebar": "Contents",
   "toc_cell": true,
   "toc_position": {},
   "toc_section_display": true,
   "toc_window_display": true
  }
 },
 "nbformat": 4,
 "nbformat_minor": 4
}
