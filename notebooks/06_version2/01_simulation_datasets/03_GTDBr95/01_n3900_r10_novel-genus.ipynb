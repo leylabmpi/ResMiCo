{
 "cells": [
  {
   "cell_type": "markdown",
   "metadata": {
    "toc": true
   },
   "source": [
    "<h1>Table of Contents<span class=\"tocSkip\"></span></h1>\n",
    "<div class=\"toc\"><ul class=\"toc-item\"><li><span><a href=\"#Goal\" data-toc-modified-id=\"Goal-1\"><span class=\"toc-item-num\">1&nbsp;&nbsp;</span>Goal</a></span></li><li><span><a href=\"#Var\" data-toc-modified-id=\"Var-2\"><span class=\"toc-item-num\">2&nbsp;&nbsp;</span>Var</a></span></li><li><span><a href=\"#Init\" data-toc-modified-id=\"Init-3\"><span class=\"toc-item-num\">3&nbsp;&nbsp;</span>Init</a></span></li><li><span><a href=\"#DeepMAsED-sm-run\" data-toc-modified-id=\"DeepMAsED-sm-run-4\"><span class=\"toc-item-num\">4&nbsp;&nbsp;</span>DeepMAsED-sm run</a></span><ul class=\"toc-item\"><li><span><a href=\"#Config\" data-toc-modified-id=\"Config-4.1\"><span class=\"toc-item-num\">4.1&nbsp;&nbsp;</span>Config</a></span></li><li><span><a href=\"#Run\" data-toc-modified-id=\"Run-4.2\"><span class=\"toc-item-num\">4.2&nbsp;&nbsp;</span>Run</a></span></li><li><span><a href=\"#Summary\" data-toc-modified-id=\"Summary-4.3\"><span class=\"toc-item-num\">4.3&nbsp;&nbsp;</span>Summary</a></span></li></ul></li></ul></div>"
   ]
  },
  {
   "cell_type": "markdown",
   "metadata": {},
   "source": [
    "# Goal\n",
    "\n",
    "* Creating simulation metagenome assembly datasets from reference genomes not used for initial training/testing of deepmased"
   ]
  },
  {
   "cell_type": "markdown",
   "metadata": {},
   "source": [
    "# Var"
   ]
  },
  {
   "cell_type": "code",
   "execution_count": 4,
   "metadata": {
    "ExecuteTime": {
     "end_time": "2020-10-08T17:19:57.076145Z",
     "start_time": "2020-10-08T17:19:57.017Z"
    }
   },
   "outputs": [],
   "source": [
    "work_dir = '/ebio/abt3_projects/databases_no-backup/DeepMAsED/version2/deepmased-sm/GTDBr95_r10_novel-genus/'\n",
    "\n",
    "ref_genomes_file = '/ebio/abt3_projects/databases_no-backup/DeepMAsED/version2/ref_genomes/GTDBr95/metadata_quality_novel-genus_wGen_final.tsv'"
   ]
  },
  {
   "cell_type": "markdown",
   "metadata": {},
   "source": [
    "# Init"
   ]
  },
  {
   "cell_type": "code",
   "execution_count": 5,
   "metadata": {
    "ExecuteTime": {
     "end_time": "2020-10-08T17:19:57.858051Z",
     "start_time": "2020-10-08T17:19:57.806Z"
    }
   },
   "outputs": [],
   "source": [
    "library(dplyr)\n",
    "library(tidyr)\n",
    "library(ggplot2)\n",
    "\n",
    "library(LeyLabRMisc)\n",
    "df.dims()"
   ]
  },
  {
   "cell_type": "code",
   "execution_count": 6,
   "metadata": {
    "ExecuteTime": {
     "end_time": "2020-10-08T17:20:04.620090Z",
     "start_time": "2020-10-08T17:20:04.574Z"
    }
   },
   "outputs": [
    {
     "name": "stdout",
     "output_type": "stream",
     "text": [
      "Created directory: /ebio/abt3_projects/databases_no-backup/DeepMAsED/version2/deepmased-sm/GTDBr95_r10_novel-genus/ \n"
     ]
    }
   ],
   "source": [
    "make_dir(work_dir)"
   ]
  },
  {
   "cell_type": "markdown",
   "metadata": {},
   "source": [
    "# DeepMAsED-sm run"
   ]
  },
  {
   "cell_type": "markdown",
   "metadata": {},
   "source": [
    "## Config"
   ]
  },
  {
   "cell_type": "code",
   "execution_count": 7,
   "metadata": {
    "ExecuteTime": {
     "end_time": "2020-10-08T18:05:06.304249Z",
     "start_time": "2020-10-08T18:05:06.255Z"
    }
   },
   "outputs": [
    {
     "name": "stdout",
     "output_type": "stream",
     "text": [
      "# Input table\n",
      "genomes_file: /ebio/abt3_projects/databases_no-backup/DeepMAsED/version2/ref_genomes/GTDBr95/metadata_quality_novel-genus_wGen_final.tsv\n",
      "\n",
      "# Output directory\n",
      "output_dir: /ebio/abt3_projects/databases_no-backup/DeepMAsED/version2/deepmased-sm/GTDBr95_r10_novel-genus/\n",
      "\n",
      "# Temporary output directory (/dev/shm/ for shared memory)\n",
      "tmp_dir: /ebio/abt3_scratch/\n",
      "\n",
      "# Email for notifications (\"Skip\" to skip)\n",
      "email: nyoungblut@tuebingen.mpg.de\n",
      "\n",
      "# software parameters\n",
      "## Use \"Skip\" to skip  steps. If no params for rule, use \"\"\n",
      "## `reps:` is the number of replicate simulations\n",
      "## param_file is a tsv with columns (richness, read_depth, & rep) that overrides pairwise params\n",
      "## If `keep_reads: True`, then simulated reads are kept\n",
      "params:\n",
      "  ionice: -c 3\n",
      "  # simulating metagenomes\n",
      "  reps: 10\n",
      "  MGSIM:\n",
      "    genome_download: \"\"\n",
      "    community_richness:\n",
      "      - 0.12819\n",
      "      - 0.25641\n",
      "      - 0.51282\n",
      "      - 0.76922\n",
      "    reads: --art-paired --art-mflen 250 --art-sdev 10\n",
      "    read_depth:\n",
      "      - 500000\n",
      "      - 1000000\n",
      "      - 2000000      \n",
      "      - 4000000\n",
      "    param_file: Skip\n",
      "  keep_reads: False\n",
      "  # coverage\n",
      "  nonpareil: -T kmer\n",
      "  nonpareil_summary: 1e9   # this is target seq. depth\n",
      "  # assemblying metagenomes\n",
      "  assemblers:\n",
      "    metaspades: -k auto --only-assembler\n",
      "    megahit: --min-count 3 --min-contig-len 1000 --presets meta-sensitive\n",
      "  # assembly filtering\n",
      "  contig_length_cutoff: 1000       # length in bp \n",
      "  # assessing assembly errors\n",
      "  minimap2: \"\"\n",
      "  metaquast: --max-ref-number 0 --min-contig 1000 --min-identity 95 --extensive-mis-size 100 --no-html --no-plots --no-icarus --no-gc --no-snps --no-sv\n",
      "  # mapping reads to contigs  \n",
      "  samtools: \"\"\n",
      "  keep_bam: False\n",
      "  # creating DL features\n",
      "  make_features: --window 6\n",
      "  # state-of-the-art\n",
      "  ## ALE\n",
      "  ALE: \"\"\n",
      "  ## VALET\n",
      "  VALET: \"\"\n",
      "  \n",
      "# snakemake pipeline\n",
      "pipeline:\n",
      "  snakemake_folder: ./\n",
      "  script_folder: ./bin/scripts/\n",
      "  rnd_seed: 9384"
     ]
    }
   ],
   "source": [
    "cat_file(file.path(work_dir, 'config1.yaml'))"
   ]
  },
  {
   "cell_type": "markdown",
   "metadata": {},
   "source": [
    "## Run"
   ]
  },
  {
   "cell_type": "markdown",
   "metadata": {},
   "source": [
    "```\n",
    "(snakemake) @ rick:/ebio/abt3_projects/DeepMAsED/version2/deepmased/DeepMAsED-SM\n",
    "$ screen -L -S DM-GTDBr95 ./snakemake_sge.sh /ebio/abt3_projects/databases_no-backup/DeepMAsED/version2/deepmased-sm/GTDBr95_r10_novel-genus/config1.yaml 20\n",
    "```"
   ]
  },
  {
   "cell_type": "markdown",
   "metadata": {},
   "source": [
    "## Summary"
   ]
  },
  {
   "cell_type": "code",
   "execution_count": null,
   "metadata": {},
   "outputs": [],
   "source": [
    "P = file.path(work_dir, 'features')\n",
    "feat_files = list_files(P, 'features.tsv.gz')\n",
    "feat_files %>% length\n",
    "feat_files %>% head(n=3)"
   ]
  }
 ],
 "metadata": {
  "kernelspec": {
   "display_name": "R [conda env:Georg_animal_feces-tidyverse]",
   "language": "R",
   "name": "conda-env-Georg_animal_feces-tidyverse-r"
  },
  "language_info": {
   "codemirror_mode": "r",
   "file_extension": ".r",
   "mimetype": "text/x-r-source",
   "name": "R",
   "pygments_lexer": "r",
   "version": "3.6.3"
  },
  "notify_time": "30",
  "toc": {
   "base_numbering": 1,
   "nav_menu": {},
   "number_sections": true,
   "sideBar": true,
   "skip_h1_title": false,
   "title_cell": "Table of Contents",
   "title_sidebar": "Contents",
   "toc_cell": true,
   "toc_position": {},
   "toc_section_display": true,
   "toc_window_display": true
  }
 },
 "nbformat": 4,
 "nbformat_minor": 4
}
