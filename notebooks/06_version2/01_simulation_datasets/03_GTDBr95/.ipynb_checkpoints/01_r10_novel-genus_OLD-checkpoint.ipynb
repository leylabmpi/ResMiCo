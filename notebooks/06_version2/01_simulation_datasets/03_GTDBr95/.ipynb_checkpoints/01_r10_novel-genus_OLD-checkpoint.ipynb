{
 "cells": [
  {
   "cell_type": "markdown",
   "metadata": {
    "toc": true
   },
   "source": [
    "<h1>Table of Contents<span class=\"tocSkip\"></span></h1>\n",
    "<div class=\"toc\"><ul class=\"toc-item\"><li><span><a href=\"#Goal\" data-toc-modified-id=\"Goal-1\"><span class=\"toc-item-num\">1&nbsp;&nbsp;</span>Goal</a></span></li><li><span><a href=\"#Var\" data-toc-modified-id=\"Var-2\"><span class=\"toc-item-num\">2&nbsp;&nbsp;</span>Var</a></span></li><li><span><a href=\"#Init\" data-toc-modified-id=\"Init-3\"><span class=\"toc-item-num\">3&nbsp;&nbsp;</span>Init</a></span></li><li><span><a href=\"#DeepMAsED-sm-run\" data-toc-modified-id=\"DeepMAsED-sm-run-4\"><span class=\"toc-item-num\">4&nbsp;&nbsp;</span>DeepMAsED-sm run</a></span><ul class=\"toc-item\"><li><span><a href=\"#Config\" data-toc-modified-id=\"Config-4.1\"><span class=\"toc-item-num\">4.1&nbsp;&nbsp;</span>Config</a></span></li><li><span><a href=\"#Run\" data-toc-modified-id=\"Run-4.2\"><span class=\"toc-item-num\">4.2&nbsp;&nbsp;</span>Run</a></span></li><li><span><a href=\"#Summary\" data-toc-modified-id=\"Summary-4.3\"><span class=\"toc-item-num\">4.3&nbsp;&nbsp;</span>Summary</a></span></li></ul></li></ul></div>"
   ]
  },
  {
   "cell_type": "markdown",
   "metadata": {},
   "source": [
    "# Goal\n",
    "\n",
    "* Creating simulation metagenome assembly datasets from reference genomes not used for initial training/testing of deepmased"
   ]
  },
  {
   "cell_type": "markdown",
   "metadata": {},
   "source": [
    "# Var"
   ]
  },
  {
   "cell_type": "code",
   "execution_count": 1,
   "metadata": {
    "ExecuteTime": {
     "end_time": "2020-10-08T13:31:07.375779Z",
     "start_time": "2020-10-08T13:31:07.325Z"
    }
   },
   "outputs": [],
   "source": [
    "work_dir = '/ebio/abt3_projects/databases_no-backup/DeepMAsED/version2/deepmased-sm/GTDBr95_r10_novel-genus/'\n",
    "\n",
    "ref_genomes_file = '/ebio/abt3_projects/databases_no-backup/DeepMAsED/version2/ref_genomes/GTDBr95/metadata_quality_novel-genus_wGen_final.tsv'"
   ]
  },
  {
   "cell_type": "markdown",
   "metadata": {},
   "source": [
    "# Init"
   ]
  },
  {
   "cell_type": "code",
   "execution_count": 3,
   "metadata": {
    "ExecuteTime": {
     "end_time": "2020-10-08T13:31:24.428315Z",
     "start_time": "2020-10-08T13:31:24.390Z"
    }
   },
   "outputs": [],
   "source": [
    "library(dplyr)\n",
    "library(tidyr)\n",
    "library(ggplot2)\n",
    "\n",
    "library(LeyLabRMisc)\n",
    "df.dims()"
   ]
  },
  {
   "cell_type": "markdown",
   "metadata": {},
   "source": [
    "# DeepMAsED-sm run"
   ]
  },
  {
   "cell_type": "markdown",
   "metadata": {},
   "source": [
    "## Config"
   ]
  },
  {
   "cell_type": "code",
   "execution_count": null,
   "metadata": {},
   "outputs": [],
   "source": [
    "cat_file(file.path(work_dir, 'config.yaml'))"
   ]
  },
  {
   "cell_type": "markdown",
   "metadata": {},
   "source": [
    "## Run"
   ]
  },
  {
   "cell_type": "markdown",
   "metadata": {},
   "source": [
    "```\n",
    "(snakemake) @ rick:/ebio/abt3_projects/DeepMAsED/version2/deepmased/DeepMAsED-SM\n",
    "$ screen -L -S DM-SM-r10 ./snakemake_sge.sh /ebio/abt3_projects/databases_no-backup/DeepMAsED/version2/deepmased-sm/GTDBr95_r10_novel-genus/config.yaml 20\n",
    "```"
   ]
  },
  {
   "cell_type": "markdown",
   "metadata": {},
   "source": [
    "## Summary"
   ]
  },
  {
   "cell_type": "code",
   "execution_count": null,
   "metadata": {},
   "outputs": [],
   "source": [
    "P = file.path(work_dir, 'features')\n",
    "feat_files = list_files(P, 'features.tsv.gz')\n",
    "feat_files %>% length\n",
    "feat_files %>% head(n=3)"
   ]
  }
 ],
 "metadata": {
  "kernelspec": {
   "display_name": "R [conda env:Georg_animal_feces-tidyverse]",
   "language": "R",
   "name": "conda-env-Georg_animal_feces-tidyverse-r"
  },
  "language_info": {
   "codemirror_mode": "r",
   "file_extension": ".r",
   "mimetype": "text/x-r-source",
   "name": "R",
   "pygments_lexer": "r",
   "version": "3.6.3"
  },
  "notify_time": "30",
  "toc": {
   "base_numbering": 1,
   "nav_menu": {},
   "number_sections": true,
   "sideBar": true,
   "skip_h1_title": false,
   "title_cell": "Table of Contents",
   "title_sidebar": "Contents",
   "toc_cell": true,
   "toc_position": {},
   "toc_section_display": true,
   "toc_window_display": true
  }
 },
 "nbformat": 4,
 "nbformat_minor": 4
}
