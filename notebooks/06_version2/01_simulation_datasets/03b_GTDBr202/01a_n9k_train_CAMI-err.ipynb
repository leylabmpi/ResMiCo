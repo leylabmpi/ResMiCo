{
 "cells": [
  {
   "cell_type": "markdown",
   "metadata": {
    "toc": true
   },
   "source": [
    "<h1>Table of Contents<span class=\"tocSkip\"></span></h1>\n",
    "<div class=\"toc\"><ul class=\"toc-item\"><li><span><a href=\"#Goal\" data-toc-modified-id=\"Goal-1\"><span class=\"toc-item-num\">1&nbsp;&nbsp;</span>Goal</a></span></li><li><span><a href=\"#Var\" data-toc-modified-id=\"Var-2\"><span class=\"toc-item-num\">2&nbsp;&nbsp;</span>Var</a></span></li><li><span><a href=\"#Init\" data-toc-modified-id=\"Init-3\"><span class=\"toc-item-num\">3&nbsp;&nbsp;</span>Init</a></span></li><li><span><a href=\"#ResMiCo-sm\" data-toc-modified-id=\"ResMiCo-sm-4\"><span class=\"toc-item-num\">4&nbsp;&nbsp;</span>ResMiCo-sm</a></span><ul class=\"toc-item\"><li><span><a href=\"#Run1\" data-toc-modified-id=\"Run1-4.1\"><span class=\"toc-item-num\">4.1&nbsp;&nbsp;</span>Run1</a></span><ul class=\"toc-item\"><li><span><a href=\"#Config\" data-toc-modified-id=\"Config-4.1.1\"><span class=\"toc-item-num\">4.1.1&nbsp;&nbsp;</span>Config</a></span></li><li><span><a href=\"#Run\" data-toc-modified-id=\"Run-4.1.2\"><span class=\"toc-item-num\">4.1.2&nbsp;&nbsp;</span>Run</a></span></li></ul></li><li><span><a href=\"#Run2\" data-toc-modified-id=\"Run2-4.2\"><span class=\"toc-item-num\">4.2&nbsp;&nbsp;</span>Run2</a></span><ul class=\"toc-item\"><li><span><a href=\"#Config\" data-toc-modified-id=\"Config-4.2.1\"><span class=\"toc-item-num\">4.2.1&nbsp;&nbsp;</span>Config</a></span></li><li><span><a href=\"#Run\" data-toc-modified-id=\"Run-4.2.2\"><span class=\"toc-item-num\">4.2.2&nbsp;&nbsp;</span>Run</a></span></li></ul></li><li><span><a href=\"#Run3\" data-toc-modified-id=\"Run3-4.3\"><span class=\"toc-item-num\">4.3&nbsp;&nbsp;</span>Run3</a></span><ul class=\"toc-item\"><li><span><a href=\"#Config\" data-toc-modified-id=\"Config-4.3.1\"><span class=\"toc-item-num\">4.3.1&nbsp;&nbsp;</span>Config</a></span></li><li><span><a href=\"#Run\" data-toc-modified-id=\"Run-4.3.2\"><span class=\"toc-item-num\">4.3.2&nbsp;&nbsp;</span>Run</a></span></li></ul></li><li><span><a href=\"#Creating-the-features-file-table\" data-toc-modified-id=\"Creating-the-features-file-table-4.4\"><span class=\"toc-item-num\">4.4&nbsp;&nbsp;</span>Creating the features file table</a></span></li></ul></li><li><span><a href=\"#sessionInfo\" data-toc-modified-id=\"sessionInfo-5\"><span class=\"toc-item-num\">5&nbsp;&nbsp;</span>sessionInfo</a></span></li></ul></div>"
   ]
  },
  {
   "cell_type": "markdown",
   "metadata": {},
   "source": [
    "# Goal\n",
    "\n",
    "* GTDBr202 n9k train dataset with CAMI-error rates for simulated reads\n",
    "  * Using error rates obtained from the [CAMISIM repo](https://github.com/CAMI-challenge/CAMISIM)"
   ]
  },
  {
   "cell_type": "markdown",
   "metadata": {},
   "source": [
    "# Var"
   ]
  },
  {
   "cell_type": "code",
   "execution_count": 1,
   "metadata": {
    "ExecuteTime": {
     "end_time": "2022-01-08T15:17:00.628281Z",
     "start_time": "2022-01-08T15:17:00.483Z"
    }
   },
   "outputs": [],
   "source": [
    "work_dir = '/ebio/abt3_projects/databases_no-backup/DeepMAsED/version2/resmico-sm/GTDBr202_n9k_train_CAMI-err/'\n",
    "\n",
    "ref_gen_file = '/ebio/abt3_projects/databases_no-backup/DeepMAsED/version2/ref_genomes/GTDBr202/metadata_n9k-train.tsv'\n",
    "\n",
    "# params\n",
    "threads = 12"
   ]
  },
  {
   "cell_type": "markdown",
   "metadata": {},
   "source": [
    "# Init"
   ]
  },
  {
   "cell_type": "code",
   "execution_count": 3,
   "metadata": {
    "ExecuteTime": {
     "end_time": "2022-01-08T15:17:50.332669Z",
     "start_time": "2022-01-08T15:17:50.283Z"
    }
   },
   "outputs": [],
   "source": [
    "library(dplyr)\n",
    "library(tidyr)\n",
    "library(ggplot2)\n",
    "library(data.table)\n",
    "library(tidytable)\n",
    "library(LeyLabRMisc)"
   ]
  },
  {
   "cell_type": "code",
   "execution_count": 4,
   "metadata": {
    "ExecuteTime": {
     "end_time": "2022-01-08T15:17:51.930519Z",
     "start_time": "2022-01-08T15:17:51.849Z"
    }
   },
   "outputs": [],
   "source": [
    "library(PRROC)"
   ]
  },
  {
   "cell_type": "code",
   "execution_count": 5,
   "metadata": {
    "ExecuteTime": {
     "end_time": "2022-01-08T15:17:54.921729Z",
     "start_time": "2022-01-08T15:17:54.642Z"
    }
   },
   "outputs": [
    {
     "name": "stderr",
     "output_type": "stream",
     "text": [
      "Loading required package: clustermq\n",
      "\n"
     ]
    },
    {
     "name": "stdout",
     "output_type": "stream",
     "text": [
      "Directory already exists: /ebio/abt3_projects/databases_no-backup/DeepMAsED/version2/resmico-sm/GTDBr202_n9k_train_CAMI-err/ \n"
     ]
    }
   ],
   "source": [
    "clustermq_setup(scheduler = c(\"multicore\"))\n",
    "df.dims()\n",
    "setDTthreads(threads)\n",
    "make_dir(work_dir)"
   ]
  },
  {
   "cell_type": "markdown",
   "metadata": {},
   "source": [
    "# ResMiCo-sm"
   ]
  },
  {
   "cell_type": "markdown",
   "metadata": {},
   "source": [
    "## Run1"
   ]
  },
  {
   "cell_type": "markdown",
   "metadata": {},
   "source": [
    "### Config"
   ]
  },
  {
   "cell_type": "code",
   "execution_count": 6,
   "metadata": {
    "ExecuteTime": {
     "end_time": "2022-01-08T15:18:20.462662Z",
     "start_time": "2022-01-08T15:18:20.401Z"
    }
   },
   "outputs": [
    {
     "name": "stdout",
     "output_type": "stream",
     "text": [
      "# Input table\n",
      "## Table of genomes\n",
      "genomes_file: /ebio/abt3_projects/databases_no-backup/DeepMAsED/version2/resmico-sm/GTDBr202_n9k_train/genomes.tsv\n",
      "#genomes_file: tests/data/Samp2-MAG3.tsv\n",
      "## If using pre-generated reads\n",
      "reads_file: Skip\n",
      "\n",
      "# Output directory\n",
      "output_dir: /ebio/abt3_projects/databases_no-backup/DeepMAsED/version2/resmico-sm/GTDBr202_n9k_train_CAMI-err/\n",
      "\n",
      "# Temporary output directory (/dev/shm/ for shared memory)\n",
      "#tmp_dir: /tmp/\n",
      "tmp_dir: /ebio/abt3_scratch/\n",
      "\n",
      "# Email for notifications (\"Skip\" to skip)\n",
      "email: nyoungblut@tuebingen.mpg.de\n",
      "\n",
      "# software parameters for data simulations\n",
      "## Use \"Skip\" to skip  steps. If no params for rule, use \"\"\n",
      "## `reps:` is the number of replicate simulations\n",
      "## If `keep_reads: True`, then simulated reads are kept\n",
      "params:\n",
      "  ionice: -c 3\n",
      "  # simulating metagenomes\n",
      "  MGSIM:\n",
      "    genome_download: \"\"\n",
      "    sim_reps: 1\n",
      "    community:\n",
      "      richness:\n",
      "        - 0.005555\n",
      "        - 0.111111\n",
      "        - 0.333333\n",
      "        - 0.555555\n",
      "      abundance_distribution:\n",
      "        - \"mean:10,sigma:0.5\"\n",
      "        - \"mean:10,sigma:1\"\n",
      "        - \"mean:10,sigma:2\"\n",
      "      random_seed: Skip #8192\n",
      "      other_sim_params: --group-bias 0\n",
      "    reads: \n",
      "      length:\n",
      "        - 100\n",
      "        - 150\n",
      "      depth:\n",
      "        - 500000\n",
      "        - 2000000\n",
      "        - 8000000\n",
      "        - 12000000\n",
      "      other_sim_params: --art-paired --art-mflen 270 --art-sdev 50 --rndSeed 8712\n",
      "                        --art-qprof1 data/art_error_profiles/HiSeq2500L150R1.txt\n",
      "                        --art-qprof2 data/art_error_profiles/HiSeq2500L150R2.txt       \n",
      "      skewer: -n -l 70 -q 25\n",
      "      keep_reads: False\n",
      "  # coverage\n",
      "  nonpareil:\n",
      "    params: -T kmer\n",
      "    summary: 1e9   # this is target seq. depth\n",
      "  # assemblying metagenomes\n",
      "  assemblers:\n",
      "    metaspades: -k auto --only-assembler\n",
      "    megahit: --min-count 1 --min-contig-len 1000\n",
      "  # assembly filtering\n",
      "  contigs:\n",
      "    length_cutoff: 1000       # length in bp \n",
      "  # assessing assembly errors\n",
      "  asmbl_errors:\n",
      "    metaquast: --max-ref-number 0 --min-contig 1000 --min-identity 95 --extensive-mis-size 100\n",
      "               --no-html --no-plots --no-icarus --no-gc --no-snps --no-sv\n",
      "    keep_genomes: True\n",
      "  # mapping reads to contigs\n",
      "  map:\n",
      "    samtools: \"\"\n",
      "    bowtie2: \"\"\n",
      "    max_coverage: 20\n",
      "    keep_bam: False #True\n",
      "  # creating ResMiCo feature tables\n",
      "  feature_table:\n",
      "    make: --window 6\n",
      "  # state-of-the-art\n",
      "  SotA:\n",
      "    ALE: \"\"\n",
      "    VALET: Skip #\"\"  \n",
      "    metaMIC:\n",
      "      extract: --mlen 1000\n",
      "      predict: --mlen 1000 --slen 500 -a MEGAHIT\n",
      "\n",
      "# params just for creating feature tables for non-simulated data\n",
      "nonsim_params:\n",
      "  # max number of reads to use\n",
      "  subsample_reads: 5000000\n",
      "  # read quality filtering\n",
      "  skewer: -n -l 70 -q 25\n",
      "  # max per-contig coverage\n",
      "  max_coverage: 20\n",
      "  # keep bam files?\n",
      "  keep_bam: True\n",
      "  # feature tables\n",
      "  make_features: --window 6\n",
      "\n",
      "# snakemake pipeline\n",
      "pipeline:\n",
      "  snakemake_folder: ./\n",
      "  script_folder: ./bin/scripts/\n",
      "  name: ResMiCo-SM"
     ]
    }
   ],
   "source": [
    "F = file.path(work_dir, 'config.yaml')\n",
    "cat_file(F)"
   ]
  },
  {
   "cell_type": "markdown",
   "metadata": {},
   "source": [
    "### Run"
   ]
  },
  {
   "cell_type": "markdown",
   "metadata": {},
   "source": [
    "```\n",
    "(snakemake) @ rick:/ebio/abt3_projects/databases_no-backup/DeepMAsED/version2/resmico-sm/bin/ResMiCo/ResMiCo-SM\n",
    "$ screen -L -S rmc-sm-GTDBr202-train ./snakemake_sge.sh /ebio/abt3_projects/databases_no-backup/DeepMAsED/version2/resmico-sm/GTDBr202_n9k_train_CAMI-err/config.yaml 60 --notemp -F\n",
    "```"
   ]
  },
  {
   "cell_type": "markdown",
   "metadata": {},
   "source": [
    "## Run2\n",
    "\n",
    "* More simulation parameters"
   ]
  },
  {
   "cell_type": "markdown",
   "metadata": {},
   "source": [
    "### Config"
   ]
  },
  {
   "cell_type": "code",
   "execution_count": 7,
   "metadata": {
    "ExecuteTime": {
     "end_time": "2022-01-08T15:20:00.354321Z",
     "start_time": "2022-01-08T15:20:00.279Z"
    }
   },
   "outputs": [
    {
     "name": "stdout",
     "output_type": "stream",
     "text": [
      "# Input table\n",
      "## Table of genomes\n",
      "genomes_file: /ebio/abt3_projects/databases_no-backup/DeepMAsED/version2/resmico-sm/GTDBr202_n9k_train/genomes.tsv\n",
      "#genomes_file: tests/data/Samp2-MAG3.tsv\n",
      "## If using pre-generated reads\n",
      "reads_file: Skip\n",
      "\n",
      "# Output directory\n",
      "output_dir: /ebio/abt3_projects/databases_no-backup/DeepMAsED/version2/resmico-sm/GTDBr202_n9k_train_CAMI-err_d20m/\n",
      "\n",
      "# Temporary output directory (/dev/shm/ for shared memory)\n",
      "#tmp_dir: /tmp/\n",
      "tmp_dir: /ebio/abt3_scratch/\n",
      "\n",
      "# Email for notifications (\"Skip\" to skip)\n",
      "email: nyoungblut@tuebingen.mpg.de\n",
      "\n",
      "# software parameters for data simulations\n",
      "## Use \"Skip\" to skip  steps. If no params for rule, use \"\"\n",
      "## `reps:` is the number of replicate simulations\n",
      "## If `keep_reads: True`, then simulated reads are kept\n",
      "params:\n",
      "  ionice: -c 3\n",
      "  # simulating metagenomes\n",
      "  MGSIM:\n",
      "    genome_download: \"\"\n",
      "    sim_reps: 1\n",
      "    community:\n",
      "      richness:\n",
      "        - 0.005555\n",
      "        - 0.111111\n",
      "        - 0.333333\n",
      "        - 0.555555\n",
      "      abundance_distribution:\n",
      "        - \"mean:10,sigma:0.5\"\n",
      "        - \"mean:10,sigma:1\"\n",
      "        - \"mean:10,sigma:2\"\n",
      "      random_seed: Skip #8192\n",
      "      other_sim_params: --group-bias 0\n",
      "    reads: \n",
      "      length:\n",
      "        - 100\n",
      "        - 150\n",
      "      depth:\n",
      "        - 20000000\n",
      "      other_sim_params: --art-paired --art-mflen 270 --art-sdev 50 --rndSeed 8712\n",
      "                        --art-qprof1 data/art_error_profiles/HiSeq2500L150R1.txt\n",
      "                        --art-qprof2 data/art_error_profiles/HiSeq2500L150R2.txt       \n",
      "      skewer: -n -l 70 -q 25\n",
      "      keep_reads: False\n",
      "  # coverage\n",
      "  nonpareil:\n",
      "    params: -T kmer\n",
      "    summary: 1e9   # this is target seq. depth\n",
      "  # assemblying metagenomes\n",
      "  assemblers:\n",
      "    metaspades: -k auto --only-assembler\n",
      "    megahit: --min-count 1 --min-contig-len 1000\n",
      "  # assembly filtering\n",
      "  contigs:\n",
      "    length_cutoff: 1000       # length in bp \n",
      "  # assessing assembly errors\n",
      "  asmbl_errors:\n",
      "    metaquast: --max-ref-number 0 --min-contig 1000 --min-identity 95 --extensive-mis-size 100\n",
      "               --no-html --no-plots --no-icarus --no-gc --no-snps --no-sv\n",
      "    keep_genomes: True\n",
      "  # mapping reads to contigs\n",
      "  map:\n",
      "    samtools: \"\"\n",
      "    bowtie2: \"\"\n",
      "    max_coverage: 20\n",
      "    keep_bam: False #True\n",
      "  # creating ResMiCo feature tables\n",
      "  feature_table:\n",
      "    make: --window 6\n",
      "  # state-of-the-art\n",
      "  SotA:\n",
      "    ALE: \"\"\n",
      "    VALET: Skip #\"\"  \n",
      "    metaMIC:\n",
      "      extract: --mlen 1000\n",
      "      predict: --mlen 1000 --slen 500 -a MEGAHIT\n",
      "\n",
      "# params just for creating feature tables for non-simulated data\n",
      "nonsim_params:\n",
      "  # max number of reads to use\n",
      "  subsample_reads: 5000000\n",
      "  # read quality filtering\n",
      "  skewer: -n -l 70 -q 25\n",
      "  # max per-contig coverage\n",
      "  max_coverage: 20\n",
      "  # keep bam files?\n",
      "  keep_bam: True\n",
      "  # feature tables\n",
      "  make_features: --window 6\n",
      "\n",
      "# snakemake pipeline\n",
      "pipeline:\n",
      "  snakemake_folder: ./\n",
      "  script_folder: ./bin/scripts/\n",
      "  name: ResMiCo-SM"
     ]
    }
   ],
   "source": [
    "base_dir = file.path(dirname(work_dir), 'GTDBr202_n9k_train_CAMI-err_d20m')\n",
    "F = file.path(base_dir, 'config.yaml')\n",
    "cat_file(F)"
   ]
  },
  {
   "cell_type": "markdown",
   "metadata": {},
   "source": [
    "### Run"
   ]
  },
  {
   "cell_type": "markdown",
   "metadata": {},
   "source": [
    "```\n",
    "(snakemake) @ rick:/ebio/abt3_projects/databases_no-backup/DeepMAsED/version2/resmico-sm/bin/ResMiCo/ResMiCo-SM\n",
    "$ screen -L -S rmc-sm-GTDBr202-train ./snakemake_sge.sh /ebio/abt3_projects/databases_no-backup/DeepMAsED/version2/resmico-sm/GTDBr202_n9k_train_CAMI-err_d20m/config.yaml 60 --notemp -F\n",
    "```"
   ]
  },
  {
   "cell_type": "markdown",
   "metadata": {},
   "source": [
    "## Run3\n",
    "\n",
    "* Extra simulation replicates"
   ]
  },
  {
   "cell_type": "markdown",
   "metadata": {},
   "source": [
    "### Config"
   ]
  },
  {
   "cell_type": "code",
   "execution_count": 13,
   "metadata": {
    "ExecuteTime": {
     "end_time": "2022-01-11T18:51:33.343218Z",
     "start_time": "2022-01-11T18:51:33.275Z"
    }
   },
   "outputs": [
    {
     "name": "stdout",
     "output_type": "stream",
     "text": [
      "# Input table\n",
      "## Table of genomes\n",
      "genomes_file: /ebio/abt3_projects/databases_no-backup/DeepMAsED/version2/resmico-sm/GTDBr202_n9k_train/genomes.tsv\n",
      "#genomes_file: tests/data/Samp2-MAG3.tsv\n",
      "## If using pre-generated reads\n",
      "reads_file: Skip\n",
      "\n",
      "# Output directory\n",
      "output_dir: /ebio/abt3_projects/databases_no-backup/DeepMAsED/version2/resmico-sm/GTDBr202_n9k_train_CAMI-err_r2r3/\n",
      "\n",
      "# Temporary output directory (/dev/shm/ for shared memory)\n",
      "#tmp_dir: /tmp/\n",
      "tmp_dir: /ebio/abt3_scratch/nyoungblut/\n",
      "\n",
      "# Email for notifications (\"Skip\" to skip)\n",
      "email: nyoungblut@tuebingen.mpg.de\n",
      "\n",
      "# software parameters for data simulations\n",
      "## Use \"Skip\" to skip  steps. If no params for rule, use \"\"\n",
      "## `reps:` is the number of replicate simulations\n",
      "## If `keep_reads: True`, then simulated reads are kept\n",
      "params:\n",
      "  ionice: -c 3\n",
      "  # simulating metagenomes\n",
      "  MGSIM:\n",
      "    genome_download: \"\"\n",
      "    sim_reps: 2\n",
      "    community:\n",
      "      richness:\n",
      "        - 0.005555\n",
      "        - 0.111111\n",
      "        - 0.333333\n",
      "        - 0.555555\n",
      "      abundance_distribution:\n",
      "        - \"mean:10,sigma:0.5\"\n",
      "        - \"mean:10,sigma:1\"\n",
      "        - \"mean:10,sigma:2\"\n",
      "      random_seed: Skip #8192\n",
      "      other_sim_params: --group-bias 0\n",
      "    reads: \n",
      "      length:\n",
      "        - 100\n",
      "        - 150\n",
      "      depth:\n",
      "        - 500000\n",
      "        - 2000000\n",
      "        - 8000000\n",
      "        - 12000000\n",
      "        - 20000000\n",
      "      other_sim_params: --art-paired --art-mflen 270 --art-sdev 50 --rndSeed 8712\n",
      "                        --art-qprof1 data/art_error_profiles/HiSeq2500L150R1.txt\n",
      "                        --art-qprof2 data/art_error_profiles/HiSeq2500L150R2.txt       \n",
      "      skewer: -n -l 70 -q 25\n",
      "      keep_reads: False\n",
      "  # coverage\n",
      "  nonpareil:\n",
      "    params: -T kmer\n",
      "    summary: 1e9   # this is target seq. depth\n",
      "  # assemblying metagenomes\n",
      "  assemblers:\n",
      "    metaspades: -k auto --only-assembler\n",
      "    megahit: --min-count 1 --min-contig-len 1000\n",
      "  # assembly filtering\n",
      "  contigs:\n",
      "    length_cutoff: 1000       # length in bp \n",
      "  # assessing assembly errors\n",
      "  asmbl_errors:\n",
      "    metaquast: --max-ref-number 0 --min-contig 1000 --min-identity 95 --extensive-mis-size 100\n",
      "               --no-html --no-plots --no-icarus --no-gc --no-snps --no-sv\n",
      "    keep_genomes: True\n",
      "  # mapping reads to contigs\n",
      "  map:\n",
      "    samtools: \"\"\n",
      "    bowtie2: \"\"\n",
      "    max_coverage: 20\n",
      "    keep_bam: False #True\n",
      "  # creating ResMiCo feature tables\n",
      "  feature_table:\n",
      "    make: --window 6\n",
      "  # state-of-the-art\n",
      "  SotA:\n",
      "    ALE: \"\"\n",
      "    VALET: Skip #\"\"  \n",
      "    metaMIC:\n",
      "      extract: --mlen 1000\n",
      "      predict: --mlen 1000 --slen 500 -a MEGAHIT\n",
      "\n",
      "# params just for creating feature tables for non-simulated data\n",
      "nonsim_params:\n",
      "  # max number of reads to use\n",
      "  subsample_reads: 5000000\n",
      "  # read quality filtering\n",
      "  skewer: -n -l 70 -q 25\n",
      "  # max per-contig coverage\n",
      "  max_coverage: 20\n",
      "  # keep bam files?\n",
      "  keep_bam: True\n",
      "  # feature tables\n",
      "  make_features: --window 6\n",
      "\n",
      "# snakemake pipeline\n",
      "pipeline:\n",
      "  snakemake_folder: ./\n",
      "  script_folder: ./bin/scripts/\n",
      "  name: ResMiCo-SM"
     ]
    }
   ],
   "source": [
    "base_dir = file.path(dirname(work_dir), 'GTDBr202_n9k_train_CAMI-err_r2r3')\n",
    "F = file.path(base_dir, 'config.yaml')\n",
    "cat_file(F)"
   ]
  },
  {
   "cell_type": "markdown",
   "metadata": {},
   "source": [
    "### Run"
   ]
  },
  {
   "cell_type": "markdown",
   "metadata": {},
   "source": [
    "```\n",
    "(snakemake) @ rick:/ebio/abt3_projects/databases_no-backup/DeepMAsED/version2/resmico-sm/bin/new_compile/ResMiCo/ResMiCo-SM\n",
    "$ screen -L -S rmc-sm-cami-err ./snakemake_sge.sh /ebio/abt3_projects/databases_no-backup/DeepMAsED/version2/resmico-sm/GTDBr202_n9k_train_CAMI-err_r2r3/config.yaml 40\n",
    "```"
   ]
  },
  {
   "cell_type": "markdown",
   "metadata": {},
   "source": [
    "## Creating the features file table\n",
    "\n",
    "* snakemake failed to create 6 of the 480 feature table files\n",
    "* I now need to \"manually\" create the table that lists all of the feature table files"
   ]
  },
  {
   "cell_type": "code",
   "execution_count": 43,
   "metadata": {
    "ExecuteTime": {
     "end_time": "2022-01-19T17:58:45.583929Z",
     "start_time": "2022-01-19T17:58:41.144Z"
    }
   },
   "outputs": [
    {
     "data": {
      "text/html": [
       "474"
      ],
      "text/latex": [
       "474"
      ],
      "text/markdown": [
       "474"
      ],
      "text/plain": [
       "[1] 474"
      ]
     },
     "metadata": {},
     "output_type": "display_data"
    },
    {
     "data": {
      "text/html": [
       "<style>\n",
       ".list-inline {list-style: none; margin:0; padding: 0}\n",
       ".list-inline>li {display: inline-block}\n",
       ".list-inline>li:not(:last-child)::after {content: \"\\00b7\"; padding: 0 .5ex}\n",
       "</style>\n",
       "<ol class=list-inline><li>'/ebio/abt3_projects/databases_no-backup/DeepMAsED/version2/resmico-sm/GTDBr202_n9k_train_CAMI-err_r2r3/features/0.005555/mean-10-sigma-0.5/1/100/12000000/megahit/features.tsv.gz'</li><li>'/ebio/abt3_projects/databases_no-backup/DeepMAsED/version2/resmico-sm/GTDBr202_n9k_train_CAMI-err_r2r3/features/0.005555/mean-10-sigma-0.5/1/100/12000000/metaspades/features.tsv.gz'</li><li>'/ebio/abt3_projects/databases_no-backup/DeepMAsED/version2/resmico-sm/GTDBr202_n9k_train_CAMI-err_r2r3/features/0.005555/mean-10-sigma-0.5/1/100/2000000/megahit/features.tsv.gz'</li></ol>\n"
      ],
      "text/latex": [
       "\\begin{enumerate*}\n",
       "\\item '/ebio/abt3\\_projects/databases\\_no-backup/DeepMAsED/version2/resmico-sm/GTDBr202\\_n9k\\_train\\_CAMI-err\\_r2r3/features/0.005555/mean-10-sigma-0.5/1/100/12000000/megahit/features.tsv.gz'\n",
       "\\item '/ebio/abt3\\_projects/databases\\_no-backup/DeepMAsED/version2/resmico-sm/GTDBr202\\_n9k\\_train\\_CAMI-err\\_r2r3/features/0.005555/mean-10-sigma-0.5/1/100/12000000/metaspades/features.tsv.gz'\n",
       "\\item '/ebio/abt3\\_projects/databases\\_no-backup/DeepMAsED/version2/resmico-sm/GTDBr202\\_n9k\\_train\\_CAMI-err\\_r2r3/features/0.005555/mean-10-sigma-0.5/1/100/2000000/megahit/features.tsv.gz'\n",
       "\\end{enumerate*}\n"
      ],
      "text/markdown": [
       "1. '/ebio/abt3_projects/databases_no-backup/DeepMAsED/version2/resmico-sm/GTDBr202_n9k_train_CAMI-err_r2r3/features/0.005555/mean-10-sigma-0.5/1/100/12000000/megahit/features.tsv.gz'\n",
       "2. '/ebio/abt3_projects/databases_no-backup/DeepMAsED/version2/resmico-sm/GTDBr202_n9k_train_CAMI-err_r2r3/features/0.005555/mean-10-sigma-0.5/1/100/12000000/metaspades/features.tsv.gz'\n",
       "3. '/ebio/abt3_projects/databases_no-backup/DeepMAsED/version2/resmico-sm/GTDBr202_n9k_train_CAMI-err_r2r3/features/0.005555/mean-10-sigma-0.5/1/100/2000000/megahit/features.tsv.gz'\n",
       "\n",
       "\n"
      ],
      "text/plain": [
       "[1] \"/ebio/abt3_projects/databases_no-backup/DeepMAsED/version2/resmico-sm/GTDBr202_n9k_train_CAMI-err_r2r3/features/0.005555/mean-10-sigma-0.5/1/100/12000000/megahit/features.tsv.gz\"   \n",
       "[2] \"/ebio/abt3_projects/databases_no-backup/DeepMAsED/version2/resmico-sm/GTDBr202_n9k_train_CAMI-err_r2r3/features/0.005555/mean-10-sigma-0.5/1/100/12000000/metaspades/features.tsv.gz\"\n",
       "[3] \"/ebio/abt3_projects/databases_no-backup/DeepMAsED/version2/resmico-sm/GTDBr202_n9k_train_CAMI-err_r2r3/features/0.005555/mean-10-sigma-0.5/1/100/2000000/megahit/features.tsv.gz\"    "
      ]
     },
     "metadata": {},
     "output_type": "display_data"
    }
   ],
   "source": [
    "D = file.path(base_dir, 'features')\n",
    "files = list_files(D, 'features.tsv.gz')\n",
    "files %>% length\n",
    "files %>% head(n=3)"
   ]
  },
  {
   "cell_type": "code",
   "execution_count": 44,
   "metadata": {
    "ExecuteTime": {
     "end_time": "2022-01-19T17:58:47.930299Z",
     "start_time": "2022-01-19T17:58:47.593Z"
    }
   },
   "outputs": [
    {
     "data": {
      "text/html": [
       "<table class=\"dataframe\">\n",
       "<caption>A data.frame: 474 × 8</caption>\n",
       "<thead>\n",
       "\t<tr><th></th><th scope=col>richness</th><th scope=col>abundance_distribution</th><th scope=col>rep</th><th scope=col>read_length</th><th scope=col>read_depth</th><th scope=col>assembler</th><th scope=col>feature_file</th><th scope=col>MGSIM_reads_params</th></tr>\n",
       "\t<tr><th></th><th scope=col>&lt;chr&gt;</th><th scope=col>&lt;chr&gt;</th><th scope=col>&lt;chr&gt;</th><th scope=col>&lt;chr&gt;</th><th scope=col>&lt;chr&gt;</th><th scope=col>&lt;chr&gt;</th><th scope=col>&lt;chr&gt;</th><th scope=col>&lt;lgl&gt;</th></tr>\n",
       "</thead>\n",
       "<tbody>\n",
       "\t<tr><th scope=row>1</th><td>0.005555</td><td>mean-10-sigma-0.5</td><td>1</td><td>100</td><td>12000000</td><td>megahit   </td><td>/ebio/abt3_projects/databases_no-backup/DeepMAsED/version2/resmico-sm/GTDBr202_n9k_train_CAMI-err_r2r3/features/0.005555/mean-10-sigma-0.5/1/100/12000000/megahit/features.tsv.gz   </td><td>NA</td></tr>\n",
       "\t<tr><th scope=row>2</th><td>0.005555</td><td>mean-10-sigma-0.5</td><td>1</td><td>100</td><td>12000000</td><td>metaspades</td><td>/ebio/abt3_projects/databases_no-backup/DeepMAsED/version2/resmico-sm/GTDBr202_n9k_train_CAMI-err_r2r3/features/0.005555/mean-10-sigma-0.5/1/100/12000000/metaspades/features.tsv.gz</td><td>NA</td></tr>\n",
       "\t<tr><th scope=row>⋮</th><td>⋮</td><td>⋮</td><td>⋮</td><td>⋮</td><td>⋮</td><td>⋮</td><td>⋮</td><td>⋮</td></tr>\n",
       "\t<tr><th scope=row>473</th><td>0.555555</td><td>mean-10-sigma-2</td><td>2</td><td>150</td><td>8000000</td><td>megahit   </td><td>/ebio/abt3_projects/databases_no-backup/DeepMAsED/version2/resmico-sm/GTDBr202_n9k_train_CAMI-err_r2r3/features/0.555555/mean-10-sigma-2/2/150/8000000/megahit/features.tsv.gz   </td><td>NA</td></tr>\n",
       "\t<tr><th scope=row>474</th><td>0.555555</td><td>mean-10-sigma-2</td><td>2</td><td>150</td><td>8000000</td><td>metaspades</td><td>/ebio/abt3_projects/databases_no-backup/DeepMAsED/version2/resmico-sm/GTDBr202_n9k_train_CAMI-err_r2r3/features/0.555555/mean-10-sigma-2/2/150/8000000/metaspades/features.tsv.gz</td><td>NA</td></tr>\n",
       "</tbody>\n",
       "</table>\n"
      ],
      "text/latex": [
       "A data.frame: 474 × 8\n",
       "\\begin{tabular}{r|llllllll}\n",
       "  & richness & abundance\\_distribution & rep & read\\_length & read\\_depth & assembler & feature\\_file & MGSIM\\_reads\\_params\\\\\n",
       "  & <chr> & <chr> & <chr> & <chr> & <chr> & <chr> & <chr> & <lgl>\\\\\n",
       "\\hline\n",
       "\t1 & 0.005555 & mean-10-sigma-0.5 & 1 & 100 & 12000000 & megahit    & /ebio/abt3\\_projects/databases\\_no-backup/DeepMAsED/version2/resmico-sm/GTDBr202\\_n9k\\_train\\_CAMI-err\\_r2r3/features/0.005555/mean-10-sigma-0.5/1/100/12000000/megahit/features.tsv.gz    & NA\\\\\n",
       "\t2 & 0.005555 & mean-10-sigma-0.5 & 1 & 100 & 12000000 & metaspades & /ebio/abt3\\_projects/databases\\_no-backup/DeepMAsED/version2/resmico-sm/GTDBr202\\_n9k\\_train\\_CAMI-err\\_r2r3/features/0.005555/mean-10-sigma-0.5/1/100/12000000/metaspades/features.tsv.gz & NA\\\\\n",
       "\t⋮ & ⋮ & ⋮ & ⋮ & ⋮ & ⋮ & ⋮ & ⋮ & ⋮\\\\\n",
       "\t473 & 0.555555 & mean-10-sigma-2 & 2 & 150 & 8000000 & megahit    & /ebio/abt3\\_projects/databases\\_no-backup/DeepMAsED/version2/resmico-sm/GTDBr202\\_n9k\\_train\\_CAMI-err\\_r2r3/features/0.555555/mean-10-sigma-2/2/150/8000000/megahit/features.tsv.gz    & NA\\\\\n",
       "\t474 & 0.555555 & mean-10-sigma-2 & 2 & 150 & 8000000 & metaspades & /ebio/abt3\\_projects/databases\\_no-backup/DeepMAsED/version2/resmico-sm/GTDBr202\\_n9k\\_train\\_CAMI-err\\_r2r3/features/0.555555/mean-10-sigma-2/2/150/8000000/metaspades/features.tsv.gz & NA\\\\\n",
       "\\end{tabular}\n"
      ],
      "text/markdown": [
       "\n",
       "A data.frame: 474 × 8\n",
       "\n",
       "| <!--/--> | richness &lt;chr&gt; | abundance_distribution &lt;chr&gt; | rep &lt;chr&gt; | read_length &lt;chr&gt; | read_depth &lt;chr&gt; | assembler &lt;chr&gt; | feature_file &lt;chr&gt; | MGSIM_reads_params &lt;lgl&gt; |\n",
       "|---|---|---|---|---|---|---|---|---|\n",
       "| 1 | 0.005555 | mean-10-sigma-0.5 | 1 | 100 | 12000000 | megahit    | /ebio/abt3_projects/databases_no-backup/DeepMAsED/version2/resmico-sm/GTDBr202_n9k_train_CAMI-err_r2r3/features/0.005555/mean-10-sigma-0.5/1/100/12000000/megahit/features.tsv.gz    | NA |\n",
       "| 2 | 0.005555 | mean-10-sigma-0.5 | 1 | 100 | 12000000 | metaspades | /ebio/abt3_projects/databases_no-backup/DeepMAsED/version2/resmico-sm/GTDBr202_n9k_train_CAMI-err_r2r3/features/0.005555/mean-10-sigma-0.5/1/100/12000000/metaspades/features.tsv.gz | NA |\n",
       "| ⋮ | ⋮ | ⋮ | ⋮ | ⋮ | ⋮ | ⋮ | ⋮ | ⋮ |\n",
       "| 473 | 0.555555 | mean-10-sigma-2 | 2 | 150 | 8000000 | megahit    | /ebio/abt3_projects/databases_no-backup/DeepMAsED/version2/resmico-sm/GTDBr202_n9k_train_CAMI-err_r2r3/features/0.555555/mean-10-sigma-2/2/150/8000000/megahit/features.tsv.gz    | NA |\n",
       "| 474 | 0.555555 | mean-10-sigma-2 | 2 | 150 | 8000000 | metaspades | /ebio/abt3_projects/databases_no-backup/DeepMAsED/version2/resmico-sm/GTDBr202_n9k_train_CAMI-err_r2r3/features/0.555555/mean-10-sigma-2/2/150/8000000/metaspades/features.tsv.gz | NA |\n",
       "\n"
      ],
      "text/plain": [
       "    richness abundance_distribution rep read_length read_depth assembler \n",
       "1   0.005555 mean-10-sigma-0.5      1   100         12000000   megahit   \n",
       "2   0.005555 mean-10-sigma-0.5      1   100         12000000   metaspades\n",
       "⋮   ⋮        ⋮                      ⋮   ⋮           ⋮          ⋮         \n",
       "473 0.555555 mean-10-sigma-2        2   150         8000000    megahit   \n",
       "474 0.555555 mean-10-sigma-2        2   150         8000000    metaspades\n",
       "    feature_file                                                                                                                                                                        \n",
       "1   /ebio/abt3_projects/databases_no-backup/DeepMAsED/version2/resmico-sm/GTDBr202_n9k_train_CAMI-err_r2r3/features/0.005555/mean-10-sigma-0.5/1/100/12000000/megahit/features.tsv.gz   \n",
       "2   /ebio/abt3_projects/databases_no-backup/DeepMAsED/version2/resmico-sm/GTDBr202_n9k_train_CAMI-err_r2r3/features/0.005555/mean-10-sigma-0.5/1/100/12000000/metaspades/features.tsv.gz\n",
       "⋮   ⋮                                                                                                                                                                                   \n",
       "473 /ebio/abt3_projects/databases_no-backup/DeepMAsED/version2/resmico-sm/GTDBr202_n9k_train_CAMI-err_r2r3/features/0.555555/mean-10-sigma-2/2/150/8000000/megahit/features.tsv.gz      \n",
       "474 /ebio/abt3_projects/databases_no-backup/DeepMAsED/version2/resmico-sm/GTDBr202_n9k_train_CAMI-err_r2r3/features/0.555555/mean-10-sigma-2/2/150/8000000/metaspades/features.tsv.gz   \n",
       "    MGSIM_reads_params\n",
       "1   NA                \n",
       "2   NA                \n",
       "⋮   ⋮                 \n",
       "473 NA                \n",
       "474 NA                "
      ]
     },
     "metadata": {},
     "output_type": "display_data"
    }
   ],
   "source": [
    "get_value = function(x, i){\n",
    "    x = unlist(strsplit(x, '/'))\n",
    "    return(x[i])\n",
    "}\n",
    "\n",
    "j = 10\n",
    "df = data.frame(\n",
    "    richness = sapply(files, get_value, i=j),\n",
    "    abundance_distribution = sapply(files, get_value, i=j+1),\n",
    "    rep = sapply(files, get_value, i=j+2),\n",
    "    read_length = sapply(files, get_value, i=j+3),\n",
    "    read_depth = sapply(files, get_value, i=j+4),\n",
    "    assembler = sapply(files, get_value, i=j+5),\n",
    "    feature_file = files,\n",
    "    MGSIM_reads_params = NA\n",
    ")\n",
    "rownames(df) = 1:nrow(df)\n",
    "df"
   ]
  },
  {
   "cell_type": "code",
   "execution_count": 41,
   "metadata": {
    "ExecuteTime": {
     "end_time": "2022-01-19T17:57:01.368353Z",
     "start_time": "2022-01-19T17:57:01.238Z"
    }
   },
   "outputs": [
    {
     "name": "stdout",
     "output_type": "stream",
     "text": [
      "File written: /ebio/abt3_projects/databases_no-backup/DeepMAsED/version2/resmico-sm/GTDBr202_n9k_novel-family_test2//features/feature_files.tsv \n"
     ]
    }
   ],
   "source": [
    "F = file.path(base_dir, 'features', 'feature_files.tsv')\n",
    "write_table(df, F)"
   ]
  },
  {
   "cell_type": "markdown",
   "metadata": {},
   "source": [
    "# sessionInfo"
   ]
  },
  {
   "cell_type": "code",
   "execution_count": 8,
   "metadata": {
    "ExecuteTime": {
     "end_time": "2022-01-08T15:20:45.966770Z",
     "start_time": "2022-01-08T15:20:45.845Z"
    }
   },
   "outputs": [
    {
     "data": {
      "text/plain": [
       "R version 4.1.0 (2021-05-18)\n",
       "Platform: x86_64-conda-linux-gnu (64-bit)\n",
       "Running under: Ubuntu 18.04.6 LTS\n",
       "\n",
       "Matrix products: default\n",
       "BLAS/LAPACK: /ebio/abt3_projects/DeepMAsED/envs/tidyverse/lib/libopenblasp-r0.3.15.so\n",
       "\n",
       "locale:\n",
       " [1] LC_CTYPE=en_US.UTF-8       LC_NUMERIC=C              \n",
       " [3] LC_TIME=en_US.UTF-8        LC_COLLATE=en_US.UTF-8    \n",
       " [5] LC_MONETARY=en_US.UTF-8    LC_MESSAGES=en_US.UTF-8   \n",
       " [7] LC_PAPER=en_US.UTF-8       LC_NAME=C                 \n",
       " [9] LC_ADDRESS=C               LC_TELEPHONE=C            \n",
       "[11] LC_MEASUREMENT=en_US.UTF-8 LC_IDENTIFICATION=C       \n",
       "\n",
       "attached base packages:\n",
       "[1] stats     graphics  grDevices utils     datasets  methods   base     \n",
       "\n",
       "other attached packages:\n",
       "[1] clustermq_0.8.95.1 PRROC_1.3.1        LeyLabRMisc_0.1.9  tidytable_0.6.3   \n",
       "[5] data.table_1.14.0  ggplot2_3.3.5      tidyr_1.1.3        dplyr_1.0.7       \n",
       "\n",
       "loaded via a namespace (and not attached):\n",
       " [1] Rcpp_1.0.7        pillar_1.6.1      compiler_4.1.0    base64enc_0.1-3  \n",
       " [5] tools_4.1.0       digest_0.6.27     uuid_0.1-4        jsonlite_1.7.2   \n",
       " [9] evaluate_0.14     lifecycle_1.0.0   tibble_3.1.2      gtable_0.3.0     \n",
       "[13] pkgconfig_2.0.3   rlang_0.4.11      IRdisplay_1.0     IRkernel_1.2     \n",
       "[17] repr_1.1.3        withr_2.4.2       generics_0.1.0    vctrs_0.3.8      \n",
       "[21] grid_4.1.0        tidyselect_1.1.1  glue_1.4.2        R6_2.5.0         \n",
       "[25] fansi_0.4.2       pbdZMQ_0.3-5      purrr_0.3.4       magrittr_2.0.1   \n",
       "[29] codetools_0.2-18  scales_1.1.1      ellipsis_0.3.2    htmltools_0.5.1.1\n",
       "[33] colorspace_2.0-2  utf8_1.2.1        munsell_0.5.0     crayon_1.4.1     "
      ]
     },
     "metadata": {},
     "output_type": "display_data"
    }
   ],
   "source": [
    "sessionInfo()"
   ]
  }
 ],
 "metadata": {
  "kernelspec": {
   "display_name": "R [conda env:DeepMAsED-tidyverse]",
   "language": "R",
   "name": "conda-env-DeepMAsED-tidyverse-r"
  },
  "language_info": {
   "codemirror_mode": "r",
   "file_extension": ".r",
   "mimetype": "text/x-r-source",
   "name": "R",
   "pygments_lexer": "r",
   "version": "4.1.0"
  },
  "toc": {
   "base_numbering": 1,
   "nav_menu": {},
   "number_sections": true,
   "sideBar": true,
   "skip_h1_title": false,
   "title_cell": "Table of Contents",
   "title_sidebar": "Contents",
   "toc_cell": true,
   "toc_position": {
    "height": "calc(100% - 180px)",
    "left": "10px",
    "top": "150px",
    "width": "256px"
   },
   "toc_section_display": true,
   "toc_window_display": true
  }
 },
 "nbformat": 4,
 "nbformat_minor": 4
}
