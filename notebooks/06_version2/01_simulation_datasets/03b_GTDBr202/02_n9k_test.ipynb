{
 "cells": [
  {
   "cell_type": "markdown",
   "id": "5a964639",
   "metadata": {
    "toc": true
   },
   "source": [
    "<h1>Table of Contents<span class=\"tocSkip\"></span></h1>\n",
    "<div class=\"toc\"><ul class=\"toc-item\"><li><span><a href=\"#Goal\" data-toc-modified-id=\"Goal-1\"><span class=\"toc-item-num\">1&nbsp;&nbsp;</span>Goal</a></span></li><li><span><a href=\"#Var\" data-toc-modified-id=\"Var-2\"><span class=\"toc-item-num\">2&nbsp;&nbsp;</span>Var</a></span></li><li><span><a href=\"#Init\" data-toc-modified-id=\"Init-3\"><span class=\"toc-item-num\">3&nbsp;&nbsp;</span>Init</a></span></li><li><span><a href=\"#Check\" data-toc-modified-id=\"Check-4\"><span class=\"toc-item-num\">4&nbsp;&nbsp;</span>Check</a></span><ul class=\"toc-item\"><li><ul class=\"toc-item\"><li><ul class=\"toc-item\"><li><span><a href=\"#Writing-table\" data-toc-modified-id=\"Writing-table-4.0.0.1\"><span class=\"toc-item-num\">4.0.0.1&nbsp;&nbsp;</span>Writing table</a></span></li></ul></li></ul></li></ul></li><li><span><a href=\"#ResMiCo-Sm\" data-toc-modified-id=\"ResMiCo-Sm-5\"><span class=\"toc-item-num\">5&nbsp;&nbsp;</span>ResMiCo-Sm</a></span><ul class=\"toc-item\"><li><ul class=\"toc-item\"><li><span><a href=\"#Config\" data-toc-modified-id=\"Config-5.0.1\"><span class=\"toc-item-num\">5.0.1&nbsp;&nbsp;</span>Config</a></span></li></ul></li></ul></li></ul></div>"
   ]
  },
  {
   "cell_type": "markdown",
   "id": "148f44f6",
   "metadata": {},
   "source": [
    "# Goal\n",
    "\n",
    "* ResMiCo-SM run on `GTDBr202_n9k_test` dataset"
   ]
  },
  {
   "cell_type": "markdown",
   "id": "d452be9b",
   "metadata": {},
   "source": [
    "# Var"
   ]
  },
  {
   "cell_type": "code",
   "execution_count": 12,
   "id": "1bcf2b43",
   "metadata": {
    "ExecuteTime": {
     "end_time": "2021-11-01T12:36:51.056452Z",
     "start_time": "2021-11-01T12:36:50.999Z"
    }
   },
   "outputs": [],
   "source": [
    "work_dir = '/ebio/abt3_projects/databases_no-backup/DeepMAsED/version2/resmico-sm/GTDBr202_n9k_test/'\n",
    "\n",
    "ref_gen_file = '/ebio/abt3_projects/databases_no-backup/DeepMAsED/version2/ref_genomes/GTDBr202/metadata_n9k-test.tsv'\n",
    "\n",
    "# params\n",
    "threads = 12"
   ]
  },
  {
   "cell_type": "markdown",
   "id": "47698209",
   "metadata": {},
   "source": [
    "# Init"
   ]
  },
  {
   "cell_type": "code",
   "execution_count": 13,
   "id": "8624c4fa",
   "metadata": {
    "ExecuteTime": {
     "end_time": "2021-11-01T12:36:52.315394Z",
     "start_time": "2021-11-01T12:36:52.228Z"
    }
   },
   "outputs": [],
   "source": [
    "library(dplyr)\n",
    "library(tidyr)\n",
    "library(ggplot2)\n",
    "library(data.table)\n",
    "library(tidytable)\n",
    "library(LeyLabRMisc)"
   ]
  },
  {
   "cell_type": "code",
   "execution_count": 14,
   "id": "fe73ee48",
   "metadata": {
    "ExecuteTime": {
     "end_time": "2021-11-01T12:36:52.522225Z",
     "start_time": "2021-11-01T12:36:52.356Z"
    }
   },
   "outputs": [],
   "source": [
    "library(PRROC)"
   ]
  },
  {
   "cell_type": "code",
   "execution_count": 15,
   "id": "5b74fa7e",
   "metadata": {
    "ExecuteTime": {
     "end_time": "2021-11-01T12:36:52.883760Z",
     "start_time": "2021-11-01T12:36:52.812Z"
    }
   },
   "outputs": [
    {
     "name": "stdout",
     "output_type": "stream",
     "text": [
      "Created directory: /ebio/abt3_projects/databases_no-backup/DeepMAsED/version2/resmico-sm/GTDBr202_n9k_test/ \n"
     ]
    }
   ],
   "source": [
    "clustermq_setup(scheduler = c(\"multicore\"))\n",
    "df.dims()\n",
    "setDTthreads(threads)\n",
    "make_dir(work_dir)"
   ]
  },
  {
   "cell_type": "markdown",
   "id": "e2f3a320",
   "metadata": {},
   "source": [
    "# Check"
   ]
  },
  {
   "cell_type": "code",
   "execution_count": 9,
   "id": "3012b877",
   "metadata": {
    "ExecuteTime": {
     "end_time": "2021-11-01T12:36:06.927029Z",
     "start_time": "2021-11-01T12:36:06.801Z"
    }
   },
   "outputs": [
    {
     "data": {
      "text/html": [
       "<table class=\"dataframe\">\n",
       "<caption>A data.table: 9000 × 19</caption>\n",
       "<thead>\n",
       "\t<tr><th scope=col>accession</th><th scope=col>ncbi_genbank_assembly_accession</th><th scope=col>Domain</th><th scope=col>Phylum</th><th scope=col>Class</th><th scope=col>Order</th><th scope=col>Family</th><th scope=col>Genus</th><th scope=col>Species</th><th scope=col>fasta_file_path</th><th scope=col>dataset</th><th scope=col>checkm_completeness</th><th scope=col>checkm_contamination</th><th scope=col>contig_count</th><th scope=col>gc_percentage</th><th scope=col>genome_size</th><th scope=col>n50_contigs</th><th scope=col>ssu_count</th><th scope=col>X</th></tr>\n",
       "\t<tr><th scope=col>&lt;chr&gt;</th><th scope=col>&lt;chr&gt;</th><th scope=col>&lt;chr&gt;</th><th scope=col>&lt;chr&gt;</th><th scope=col>&lt;chr&gt;</th><th scope=col>&lt;chr&gt;</th><th scope=col>&lt;chr&gt;</th><th scope=col>&lt;chr&gt;</th><th scope=col>&lt;chr&gt;</th><th scope=col>&lt;chr&gt;</th><th scope=col>&lt;chr&gt;</th><th scope=col>&lt;dbl&gt;</th><th scope=col>&lt;dbl&gt;</th><th scope=col>&lt;int&gt;</th><th scope=col>&lt;dbl&gt;</th><th scope=col>&lt;int&gt;</th><th scope=col>&lt;int&gt;</th><th scope=col>&lt;int&gt;</th><th scope=col>&lt;int&gt;</th></tr>\n",
       "</thead>\n",
       "<tbody>\n",
       "\t<tr><td>RS_GCF_000019605.1</td><td>GCA_000019605.1</td><td>Archaea</td><td>Thermoproteota   </td><td>Korarchaeia</td><td>Korarchaeales </td><td>Korarchaeaceae </td><td>Korarchaeum   </td><td>Korarchaeum cryptofilum </td><td>/ebio/abt3_projects/databases_no-backup/DeepMAsED/version2/ref_genomes/GTDBr202/genomes_fasta/genbank/archaea/GCA_000019605.1/GCA_000019605.1_ASM1960v1_genomic.fna.gz</td><td>Test</td><td>93.39</td><td>2.8</td><td>1</td><td>49.00070</td><td>1590757</td><td>1590757</td><td>1</td><td>4409</td></tr>\n",
       "\t<tr><td>RS_GCF_000022545.1</td><td>GCA_000022545.1</td><td>Archaea</td><td>Methanobacteriota</td><td>Thermococci</td><td>Thermococcales</td><td>Thermococcaceae</td><td>Thermococcus_A</td><td>Thermococcus_A sibiricus</td><td>/ebio/abt3_projects/databases_no-backup/DeepMAsED/version2/ref_genomes/GTDBr202/genomes_fasta/genbank/archaea/GCA_000022545.1/GCA_000022545.1_ASM2254v1_genomic.fna.gz</td><td>Test</td><td>98.51</td><td>0.0</td><td>1</td><td>40.20127</td><td>1845800</td><td>1845800</td><td>1</td><td>5271</td></tr>\n",
       "\t<tr><td>⋮</td><td>⋮</td><td>⋮</td><td>⋮</td><td>⋮</td><td>⋮</td><td>⋮</td><td>⋮</td><td>⋮</td><td>⋮</td><td>⋮</td><td>⋮</td><td>⋮</td><td>⋮</td><td>⋮</td><td>⋮</td><td>⋮</td><td>⋮</td><td>⋮</td></tr>\n",
       "\t<tr><td>RS_GCF_902833365.1</td><td>GCA_902833365.1</td><td>Bacteria</td><td>Proteobacteria</td><td>Gammaproteobacteria</td><td>Burkholderiales</td><td>Burkholderiaceae</td><td>Burkholderia </td><td>Burkholderia vietnamiensis</td><td>/ebio/abt3_projects/databases_no-backup/DeepMAsED/version2/ref_genomes/GTDBr202/genomes_fasta/genbank/bacteria/GCA_902833365.1/GCA_902833365.1_ASM90283336v1_genomic.fna.gz</td><td>Test</td><td>100.00</td><td>0</td><td>106</td><td>66.92989</td><td>7062828</td><td>158113</td><td>1</td><td>7109</td></tr>\n",
       "\t<tr><td>RS_GCF_902860195.1</td><td>GCA_902860195.1</td><td>Bacteria</td><td>Proteobacteria</td><td>Gammaproteobacteria</td><td>Burkholderiales</td><td>Burkholderiaceae</td><td>Achromobacter</td><td>Achromobacter ruhlandii   </td><td>/ebio/abt3_projects/databases_no-backup/DeepMAsED/version2/ref_genomes/GTDBr202/genomes_fasta/genbank/bacteria/GCA_902860195.1/GCA_902860195.1_LMG_7053_genomic.fna.gz     </td><td>Test</td><td> 99.53</td><td>0</td><td>200</td><td>67.55038</td><td>6702936</td><td> 71580</td><td>1</td><td>3038</td></tr>\n",
       "</tbody>\n",
       "</table>\n"
      ],
      "text/latex": [
       "A data.table: 9000 × 19\n",
       "\\begin{tabular}{lllllllllllllllllll}\n",
       " accession & ncbi\\_genbank\\_assembly\\_accession & Domain & Phylum & Class & Order & Family & Genus & Species & fasta\\_file\\_path & dataset & checkm\\_completeness & checkm\\_contamination & contig\\_count & gc\\_percentage & genome\\_size & n50\\_contigs & ssu\\_count & X\\\\\n",
       " <chr> & <chr> & <chr> & <chr> & <chr> & <chr> & <chr> & <chr> & <chr> & <chr> & <chr> & <dbl> & <dbl> & <int> & <dbl> & <int> & <int> & <int> & <int>\\\\\n",
       "\\hline\n",
       "\t RS\\_GCF\\_000019605.1 & GCA\\_000019605.1 & Archaea & Thermoproteota    & Korarchaeia & Korarchaeales  & Korarchaeaceae  & Korarchaeum    & Korarchaeum cryptofilum  & /ebio/abt3\\_projects/databases\\_no-backup/DeepMAsED/version2/ref\\_genomes/GTDBr202/genomes\\_fasta/genbank/archaea/GCA\\_000019605.1/GCA\\_000019605.1\\_ASM1960v1\\_genomic.fna.gz & Test & 93.39 & 2.8 & 1 & 49.00070 & 1590757 & 1590757 & 1 & 4409\\\\\n",
       "\t RS\\_GCF\\_000022545.1 & GCA\\_000022545.1 & Archaea & Methanobacteriota & Thermococci & Thermococcales & Thermococcaceae & Thermococcus\\_A & Thermococcus\\_A sibiricus & /ebio/abt3\\_projects/databases\\_no-backup/DeepMAsED/version2/ref\\_genomes/GTDBr202/genomes\\_fasta/genbank/archaea/GCA\\_000022545.1/GCA\\_000022545.1\\_ASM2254v1\\_genomic.fna.gz & Test & 98.51 & 0.0 & 1 & 40.20127 & 1845800 & 1845800 & 1 & 5271\\\\\n",
       "\t ⋮ & ⋮ & ⋮ & ⋮ & ⋮ & ⋮ & ⋮ & ⋮ & ⋮ & ⋮ & ⋮ & ⋮ & ⋮ & ⋮ & ⋮ & ⋮ & ⋮ & ⋮ & ⋮\\\\\n",
       "\t RS\\_GCF\\_902833365.1 & GCA\\_902833365.1 & Bacteria & Proteobacteria & Gammaproteobacteria & Burkholderiales & Burkholderiaceae & Burkholderia  & Burkholderia vietnamiensis & /ebio/abt3\\_projects/databases\\_no-backup/DeepMAsED/version2/ref\\_genomes/GTDBr202/genomes\\_fasta/genbank/bacteria/GCA\\_902833365.1/GCA\\_902833365.1\\_ASM90283336v1\\_genomic.fna.gz & Test & 100.00 & 0 & 106 & 66.92989 & 7062828 & 158113 & 1 & 7109\\\\\n",
       "\t RS\\_GCF\\_902860195.1 & GCA\\_902860195.1 & Bacteria & Proteobacteria & Gammaproteobacteria & Burkholderiales & Burkholderiaceae & Achromobacter & Achromobacter ruhlandii    & /ebio/abt3\\_projects/databases\\_no-backup/DeepMAsED/version2/ref\\_genomes/GTDBr202/genomes\\_fasta/genbank/bacteria/GCA\\_902860195.1/GCA\\_902860195.1\\_LMG\\_7053\\_genomic.fna.gz      & Test &  99.53 & 0 & 200 & 67.55038 & 6702936 &  71580 & 1 & 3038\\\\\n",
       "\\end{tabular}\n"
      ],
      "text/markdown": [
       "\n",
       "A data.table: 9000 × 19\n",
       "\n",
       "| accession &lt;chr&gt; | ncbi_genbank_assembly_accession &lt;chr&gt; | Domain &lt;chr&gt; | Phylum &lt;chr&gt; | Class &lt;chr&gt; | Order &lt;chr&gt; | Family &lt;chr&gt; | Genus &lt;chr&gt; | Species &lt;chr&gt; | fasta_file_path &lt;chr&gt; | dataset &lt;chr&gt; | checkm_completeness &lt;dbl&gt; | checkm_contamination &lt;dbl&gt; | contig_count &lt;int&gt; | gc_percentage &lt;dbl&gt; | genome_size &lt;int&gt; | n50_contigs &lt;int&gt; | ssu_count &lt;int&gt; | X &lt;int&gt; |\n",
       "|---|---|---|---|---|---|---|---|---|---|---|---|---|---|---|---|---|---|---|\n",
       "| RS_GCF_000019605.1 | GCA_000019605.1 | Archaea | Thermoproteota    | Korarchaeia | Korarchaeales  | Korarchaeaceae  | Korarchaeum    | Korarchaeum cryptofilum  | /ebio/abt3_projects/databases_no-backup/DeepMAsED/version2/ref_genomes/GTDBr202/genomes_fasta/genbank/archaea/GCA_000019605.1/GCA_000019605.1_ASM1960v1_genomic.fna.gz | Test | 93.39 | 2.8 | 1 | 49.00070 | 1590757 | 1590757 | 1 | 4409 |\n",
       "| RS_GCF_000022545.1 | GCA_000022545.1 | Archaea | Methanobacteriota | Thermococci | Thermococcales | Thermococcaceae | Thermococcus_A | Thermococcus_A sibiricus | /ebio/abt3_projects/databases_no-backup/DeepMAsED/version2/ref_genomes/GTDBr202/genomes_fasta/genbank/archaea/GCA_000022545.1/GCA_000022545.1_ASM2254v1_genomic.fna.gz | Test | 98.51 | 0.0 | 1 | 40.20127 | 1845800 | 1845800 | 1 | 5271 |\n",
       "| ⋮ | ⋮ | ⋮ | ⋮ | ⋮ | ⋮ | ⋮ | ⋮ | ⋮ | ⋮ | ⋮ | ⋮ | ⋮ | ⋮ | ⋮ | ⋮ | ⋮ | ⋮ | ⋮ |\n",
       "| RS_GCF_902833365.1 | GCA_902833365.1 | Bacteria | Proteobacteria | Gammaproteobacteria | Burkholderiales | Burkholderiaceae | Burkholderia  | Burkholderia vietnamiensis | /ebio/abt3_projects/databases_no-backup/DeepMAsED/version2/ref_genomes/GTDBr202/genomes_fasta/genbank/bacteria/GCA_902833365.1/GCA_902833365.1_ASM90283336v1_genomic.fna.gz | Test | 100.00 | 0 | 106 | 66.92989 | 7062828 | 158113 | 1 | 7109 |\n",
       "| RS_GCF_902860195.1 | GCA_902860195.1 | Bacteria | Proteobacteria | Gammaproteobacteria | Burkholderiales | Burkholderiaceae | Achromobacter | Achromobacter ruhlandii    | /ebio/abt3_projects/databases_no-backup/DeepMAsED/version2/ref_genomes/GTDBr202/genomes_fasta/genbank/bacteria/GCA_902860195.1/GCA_902860195.1_LMG_7053_genomic.fna.gz      | Test |  99.53 | 0 | 200 | 67.55038 | 6702936 |  71580 | 1 | 3038 |\n",
       "\n"
      ],
      "text/plain": [
       "     accession          ncbi_genbank_assembly_accession Domain  \n",
       "1    RS_GCF_000019605.1 GCA_000019605.1                 Archaea \n",
       "2    RS_GCF_000022545.1 GCA_000022545.1                 Archaea \n",
       "⋮    ⋮                  ⋮                               ⋮       \n",
       "8999 RS_GCF_902833365.1 GCA_902833365.1                 Bacteria\n",
       "9000 RS_GCF_902860195.1 GCA_902860195.1                 Bacteria\n",
       "     Phylum            Class               Order           Family          \n",
       "1    Thermoproteota    Korarchaeia         Korarchaeales   Korarchaeaceae  \n",
       "2    Methanobacteriota Thermococci         Thermococcales  Thermococcaceae \n",
       "⋮    ⋮                 ⋮                   ⋮               ⋮               \n",
       "8999 Proteobacteria    Gammaproteobacteria Burkholderiales Burkholderiaceae\n",
       "9000 Proteobacteria    Gammaproteobacteria Burkholderiales Burkholderiaceae\n",
       "     Genus          Species                   \n",
       "1    Korarchaeum    Korarchaeum cryptofilum   \n",
       "2    Thermococcus_A Thermococcus_A sibiricus  \n",
       "⋮    ⋮              ⋮                         \n",
       "8999 Burkholderia   Burkholderia vietnamiensis\n",
       "9000 Achromobacter  Achromobacter ruhlandii   \n",
       "     fasta_file_path                                                                                                                                                            \n",
       "1    /ebio/abt3_projects/databases_no-backup/DeepMAsED/version2/ref_genomes/GTDBr202/genomes_fasta/genbank/archaea/GCA_000019605.1/GCA_000019605.1_ASM1960v1_genomic.fna.gz     \n",
       "2    /ebio/abt3_projects/databases_no-backup/DeepMAsED/version2/ref_genomes/GTDBr202/genomes_fasta/genbank/archaea/GCA_000022545.1/GCA_000022545.1_ASM2254v1_genomic.fna.gz     \n",
       "⋮    ⋮                                                                                                                                                                          \n",
       "8999 /ebio/abt3_projects/databases_no-backup/DeepMAsED/version2/ref_genomes/GTDBr202/genomes_fasta/genbank/bacteria/GCA_902833365.1/GCA_902833365.1_ASM90283336v1_genomic.fna.gz\n",
       "9000 /ebio/abt3_projects/databases_no-backup/DeepMAsED/version2/ref_genomes/GTDBr202/genomes_fasta/genbank/bacteria/GCA_902860195.1/GCA_902860195.1_LMG_7053_genomic.fna.gz     \n",
       "     dataset checkm_completeness checkm_contamination contig_count\n",
       "1    Test    93.39               2.8                  1           \n",
       "2    Test    98.51               0.0                  1           \n",
       "⋮    ⋮       ⋮                   ⋮                    ⋮           \n",
       "8999 Test    100.00              0                    106         \n",
       "9000 Test     99.53              0                    200         \n",
       "     gc_percentage genome_size n50_contigs ssu_count X   \n",
       "1    49.00070      1590757     1590757     1         4409\n",
       "2    40.20127      1845800     1845800     1         5271\n",
       "⋮    ⋮             ⋮           ⋮           ⋮         ⋮   \n",
       "8999 66.92989      7062828     158113      1         7109\n",
       "9000 67.55038      6702936      71580      1         3038"
      ]
     },
     "metadata": {},
     "output_type": "display_data"
    }
   ],
   "source": [
    "# reference genomes\n",
    "ref_gen = Fread(ref_gen_file)\n",
    "ref_gen"
   ]
  },
  {
   "cell_type": "code",
   "execution_count": 10,
   "id": "fd80f12c",
   "metadata": {
    "ExecuteTime": {
     "end_time": "2021-11-01T12:36:07.005104Z",
     "start_time": "2021-11-01T12:36:06.934Z"
    }
   },
   "outputs": [
    {
     "name": "stdout",
     "output_type": "stream",
     "text": [
      "No. of unique genomes: 9000 \n",
      "No. of unique NCBI accessions: 9000 \n"
     ]
    }
   ],
   "source": [
    "# number of genomes\n",
    "ref_gen$accession %>% unique_n('genomes')\n",
    "ref_gen$ncbi_genbank_assembly_accession %>% unique_n('NCBI accessions')"
   ]
  },
  {
   "cell_type": "code",
   "execution_count": 11,
   "id": "7c689020",
   "metadata": {
    "ExecuteTime": {
     "end_time": "2021-11-01T12:36:28.378550Z",
     "start_time": "2021-11-01T12:36:28.319Z"
    }
   },
   "outputs": [
    {
     "name": "stdout",
     "output_type": "stream",
     "text": [
      "No. of unique species: 2647 \n"
     ]
    }
   ],
   "source": [
    "# number of species\n",
    "ref_gen$Species %>% unique_n('species')"
   ]
  },
  {
   "cell_type": "markdown",
   "id": "e75b1164",
   "metadata": {},
   "source": [
    "#### Writing table"
   ]
  },
  {
   "cell_type": "code",
   "execution_count": 16,
   "id": "55c417c0",
   "metadata": {
    "ExecuteTime": {
     "end_time": "2021-11-01T12:36:56.716500Z",
     "start_time": "2021-11-01T12:36:56.638Z"
    }
   },
   "outputs": [
    {
     "name": "stdout",
     "output_type": "stream",
     "text": [
      "File written: /ebio/abt3_projects/databases_no-backup/DeepMAsED/version2/resmico-sm/GTDBr202_n9k_test//genomes.tsv \n"
     ]
    }
   ],
   "source": [
    "F = file.path(work_dir, 'genomes.tsv')\n",
    "ref_gen %>%\n",
    "    rename.('Taxon' = accession,\n",
    "            'Fasta' = fasta_file_path) %>%\n",
    "    write_table(F)"
   ]
  },
  {
   "cell_type": "markdown",
   "id": "9e41e274",
   "metadata": {},
   "source": [
    "# ResMiCo-Sm"
   ]
  },
  {
   "cell_type": "markdown",
   "id": "37b4f9b9",
   "metadata": {},
   "source": [
    "### Config"
   ]
  },
  {
   "cell_type": "code",
   "execution_count": 17,
   "id": "76c7a8c4",
   "metadata": {
    "ExecuteTime": {
     "end_time": "2021-11-01T12:37:19.729981Z",
     "start_time": "2021-11-01T12:37:19.660Z"
    }
   },
   "outputs": [
    {
     "name": "stderr",
     "output_type": "stream",
     "text": [
      "Warning message in system(cmd, intern = TRUE):\n",
      "“running command 'cat /ebio/abt3_projects/databases_no-backup/DeepMAsED/version2/resmico-sm/GTDBr202_n9k_test//config.yaml' had status 1”\n"
     ]
    }
   ],
   "source": [
    "F = file.path(work_dir, 'config.yaml')\n",
    "cat_file(F)"
   ]
  },
  {
   "cell_type": "code",
   "execution_count": null,
   "id": "c879bd8b",
   "metadata": {},
   "outputs": [],
   "source": []
  }
 ],
 "metadata": {
  "kernelspec": {
   "display_name": "R [conda env:DeepMAsED-tidyverse]",
   "language": "R",
   "name": "conda-env-DeepMAsED-tidyverse-r"
  },
  "language_info": {
   "codemirror_mode": "r",
   "file_extension": ".r",
   "mimetype": "text/x-r-source",
   "name": "R",
   "pygments_lexer": "r",
   "version": "4.1.0"
  },
  "notify_time": "30",
  "toc": {
   "base_numbering": 1,
   "nav_menu": {},
   "number_sections": true,
   "sideBar": true,
   "skip_h1_title": false,
   "title_cell": "Table of Contents",
   "title_sidebar": "Contents",
   "toc_cell": true,
   "toc_position": {},
   "toc_section_display": true,
   "toc_window_display": true
  }
 },
 "nbformat": 4,
 "nbformat_minor": 5
}
