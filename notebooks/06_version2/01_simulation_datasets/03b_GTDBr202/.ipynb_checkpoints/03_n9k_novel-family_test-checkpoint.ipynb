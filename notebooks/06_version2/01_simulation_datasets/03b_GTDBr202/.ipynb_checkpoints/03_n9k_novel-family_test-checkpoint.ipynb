{
 "cells": [
  {
   "cell_type": "markdown",
   "metadata": {
    "toc": true
   },
   "source": [
    "<h1>Table of Contents<span class=\"tocSkip\"></span></h1>\n",
    "<div class=\"toc\"><ul class=\"toc-item\"><li><span><a href=\"#Goal\" data-toc-modified-id=\"Goal-1\"><span class=\"toc-item-num\">1&nbsp;&nbsp;</span>Goal</a></span></li><li><span><a href=\"#Var\" data-toc-modified-id=\"Var-2\"><span class=\"toc-item-num\">2&nbsp;&nbsp;</span>Var</a></span></li><li><span><a href=\"#Init\" data-toc-modified-id=\"Init-3\"><span class=\"toc-item-num\">3&nbsp;&nbsp;</span>Init</a></span></li><li><span><a href=\"#Check\" data-toc-modified-id=\"Check-4\"><span class=\"toc-item-num\">4&nbsp;&nbsp;</span>Check</a></span><ul class=\"toc-item\"><li><ul class=\"toc-item\"><li><ul class=\"toc-item\"><li><span><a href=\"#Checking-overlap-with-train\" data-toc-modified-id=\"Checking-overlap-with-train-4.0.0.1\"><span class=\"toc-item-num\">4.0.0.1&nbsp;&nbsp;</span>Checking overlap with train</a></span></li><li><span><a href=\"#Writing-table\" data-toc-modified-id=\"Writing-table-4.0.0.2\"><span class=\"toc-item-num\">4.0.0.2&nbsp;&nbsp;</span>Writing table</a></span></li></ul></li></ul></li></ul></li><li><span><a href=\"#ResMiCo-Sm\" data-toc-modified-id=\"ResMiCo-Sm-5\"><span class=\"toc-item-num\">5&nbsp;&nbsp;</span>ResMiCo-Sm</a></span><ul class=\"toc-item\"><li><span><a href=\"#Run1\" data-toc-modified-id=\"Run1-5.1\"><span class=\"toc-item-num\">5.1&nbsp;&nbsp;</span>Run1</a></span><ul class=\"toc-item\"><li><span><a href=\"#Config\" data-toc-modified-id=\"Config-5.1.1\"><span class=\"toc-item-num\">5.1.1&nbsp;&nbsp;</span>Config</a></span></li><li><span><a href=\"#Run\" data-toc-modified-id=\"Run-5.1.2\"><span class=\"toc-item-num\">5.1.2&nbsp;&nbsp;</span>Run</a></span></li></ul></li><li><span><a href=\"#Run2\" data-toc-modified-id=\"Run2-5.2\"><span class=\"toc-item-num\">5.2&nbsp;&nbsp;</span>Run2</a></span><ul class=\"toc-item\"><li><span><a href=\"#Run\" data-toc-modified-id=\"Run-5.2.1\"><span class=\"toc-item-num\">5.2.1&nbsp;&nbsp;</span>Run</a></span></li></ul></li></ul></li><li><span><a href=\"#--WAITING--\" data-toc-modified-id=\"--WAITING---6\"><span class=\"toc-item-num\">6&nbsp;&nbsp;</span>--WAITING--</a></span></li></ul></div>"
   ]
  },
  {
   "cell_type": "markdown",
   "metadata": {},
   "source": [
    "# Goal\n",
    "\n",
    "* ResMiCo-SM run on `GTDBr202_n9k_test` dataset"
   ]
  },
  {
   "cell_type": "markdown",
   "metadata": {},
   "source": [
    "# Var"
   ]
  },
  {
   "cell_type": "code",
   "execution_count": 20,
   "metadata": {
    "ExecuteTime": {
     "end_time": "2021-11-02T14:37:54.430098Z",
     "start_time": "2021-11-02T14:37:54.391Z"
    }
   },
   "outputs": [],
   "source": [
    "work_dir = '/ebio/abt3_projects/databases_no-backup/DeepMAsED/version2/resmico-sm/GTDBr202_n9k_novel-family_test/'\n",
    "\n",
    "# reference genomes\n",
    "## test\n",
    "ref_gen_file = '/ebio/abt3_projects/databases_no-backup/DeepMAsED/version2/ref_genomes/GTDBr202/metadata_n9k-novel-family.tsv'\n",
    "## train\n",
    "ref_gen_train_file = '/ebio/abt3_projects/databases_no-backup/DeepMAsED/version2/ref_genomes/GTDBr202/metadata_n9k-train.tsv'\n",
    "\n",
    "# params\n",
    "threads = 12"
   ]
  },
  {
   "cell_type": "markdown",
   "metadata": {},
   "source": [
    "# Init"
   ]
  },
  {
   "cell_type": "code",
   "execution_count": 12,
   "metadata": {
    "ExecuteTime": {
     "end_time": "2021-11-02T14:37:13.804193Z",
     "start_time": "2021-11-02T14:37:13.768Z"
    }
   },
   "outputs": [],
   "source": [
    "library(dplyr)\n",
    "library(tidyr)\n",
    "library(ggplot2)\n",
    "library(data.table)\n",
    "library(tidytable)\n",
    "library(LeyLabRMisc)"
   ]
  },
  {
   "cell_type": "code",
   "execution_count": 13,
   "metadata": {
    "ExecuteTime": {
     "end_time": "2021-11-02T14:37:13.947407Z",
     "start_time": "2021-11-02T14:37:13.925Z"
    }
   },
   "outputs": [],
   "source": [
    "library(PRROC)"
   ]
  },
  {
   "cell_type": "code",
   "execution_count": 14,
   "metadata": {
    "ExecuteTime": {
     "end_time": "2021-11-02T14:37:14.081355Z",
     "start_time": "2021-11-02T14:37:14.055Z"
    }
   },
   "outputs": [
    {
     "name": "stdout",
     "output_type": "stream",
     "text": [
      "Created directory: /ebio/abt3_projects/databases_no-backup/DeepMAsED/version2/resmico-sm/GTDBr202_n9k_novel-family_test/ \n"
     ]
    }
   ],
   "source": [
    "clustermq_setup(scheduler = c(\"multicore\"))\n",
    "df.dims()\n",
    "setDTthreads(threads)\n",
    "make_dir(work_dir)"
   ]
  },
  {
   "cell_type": "markdown",
   "metadata": {},
   "source": [
    "# Check"
   ]
  },
  {
   "cell_type": "code",
   "execution_count": 15,
   "metadata": {
    "ExecuteTime": {
     "end_time": "2021-11-02T14:37:14.973542Z",
     "start_time": "2021-11-02T14:37:14.897Z"
    }
   },
   "outputs": [
    {
     "data": {
      "text/html": [
       "<table class=\"dataframe\">\n",
       "<caption>A data.table: 9000 × 19</caption>\n",
       "<thead>\n",
       "\t<tr><th scope=col>accession</th><th scope=col>ncbi_genbank_assembly_accession</th><th scope=col>Domain</th><th scope=col>Phylum</th><th scope=col>Class</th><th scope=col>Order</th><th scope=col>Family</th><th scope=col>Genus</th><th scope=col>Species</th><th scope=col>fasta_file_path</th><th scope=col>dataset</th><th scope=col>checkm_completeness</th><th scope=col>checkm_contamination</th><th scope=col>contig_count</th><th scope=col>gc_percentage</th><th scope=col>genome_size</th><th scope=col>n50_contigs</th><th scope=col>ssu_count</th><th scope=col>X</th></tr>\n",
       "\t<tr><th scope=col>&lt;chr&gt;</th><th scope=col>&lt;chr&gt;</th><th scope=col>&lt;chr&gt;</th><th scope=col>&lt;chr&gt;</th><th scope=col>&lt;chr&gt;</th><th scope=col>&lt;chr&gt;</th><th scope=col>&lt;chr&gt;</th><th scope=col>&lt;chr&gt;</th><th scope=col>&lt;chr&gt;</th><th scope=col>&lt;chr&gt;</th><th scope=col>&lt;chr&gt;</th><th scope=col>&lt;dbl&gt;</th><th scope=col>&lt;dbl&gt;</th><th scope=col>&lt;int&gt;</th><th scope=col>&lt;dbl&gt;</th><th scope=col>&lt;int&gt;</th><th scope=col>&lt;int&gt;</th><th scope=col>&lt;int&gt;</th><th scope=col>&lt;int&gt;</th></tr>\n",
       "</thead>\n",
       "<tbody>\n",
       "\t<tr><td>RS_GCF_002287215.1</td><td>GCA_002287215.1</td><td>Archaea</td><td>Halobacteriota</td><td>Methanomicrobia</td><td>Methanomicrobiales</td><td>Methanocorpusculaceae</td><td>Methanocorpusculum</td><td>Methanocorpusculum parvum</td><td>/ebio/abt3_projects/databases_no-backup/DeepMAsED/version2/ref_genomes/GTDBr202/genomes_fasta/genbank/archaea/GCA_002287215.1/GCA_002287215.1_ASM228721v1_genomic.fna.gz  </td><td>Novel-family</td><td>98.21</td><td>0.00</td><td>47</td><td>51.42847</td><td>1709133</td><td> 74097</td><td>1</td><td>1600</td></tr>\n",
       "\t<tr><td>RS_GCF_900167955.1</td><td>GCA_900167955.1</td><td>Archaea</td><td>Thermoproteota</td><td>Nitrososphaeria</td><td>Nitrososphaerales </td><td>Nitrosopumilaceae    </td><td>Nitrosotalea      </td><td>Nitrosotalea bavarica    </td><td>/ebio/abt3_projects/databases_no-backup/DeepMAsED/version2/ref_genomes/GTDBr202/genomes_fasta/genbank/archaea/GCA_900167955.1/GCA_900167955.1_ASM90016795v1_genomic.fna.gz</td><td>Novel-family</td><td>97.57</td><td>1.94</td><td>24</td><td>35.98315</td><td>1553159</td><td>106638</td><td>1</td><td>1736</td></tr>\n",
       "\t<tr><td>⋮</td><td>⋮</td><td>⋮</td><td>⋮</td><td>⋮</td><td>⋮</td><td>⋮</td><td>⋮</td><td>⋮</td><td>⋮</td><td>⋮</td><td>⋮</td><td>⋮</td><td>⋮</td><td>⋮</td><td>⋮</td><td>⋮</td><td>⋮</td><td>⋮</td></tr>\n",
       "\t<tr><td>RS_GCF_902859605.1</td><td>GCA_902859605.1</td><td>Bacteria</td><td>Proteobacteria</td><td>Gammaproteobacteria</td><td>Burkholderiales</td><td>Burkholderiaceae</td><td>Achromobacter</td><td>Achromobacter spanius</td><td>/ebio/abt3_projects/databases_no-backup/DeepMAsED/version2/ref_genomes/GTDBr202/genomes_fasta/genbank/bacteria/GCA_902859605.1/GCA_902859605.1_LMG_5911_genomic.fna.gz  </td><td>Novel-family</td><td>99.53</td><td>0.47</td><td>61</td><td>64.30309</td><td>6360923</td><td>280218</td><td>1</td><td>1283</td></tr>\n",
       "\t<tr><td>RS_GCF_903469595.1</td><td>GCA_903469595.1</td><td>Bacteria</td><td>Spirochaetota </td><td>Spirochaetia       </td><td>Treponematales </td><td>Treponemataceae </td><td>Treponema    </td><td>Treponema pallidum   </td><td>/ebio/abt3_projects/databases_no-backup/DeepMAsED/version2/ref_genomes/GTDBr202/genomes_fasta/genbank/bacteria/GCA_903469595.1/GCA_903469595.1_R3-SAL-007_genomic.fna.gz</td><td>Novel-family</td><td>99.57</td><td>0.36</td><td>64</td><td>52.75326</td><td>1131257</td><td> 44192</td><td>1</td><td>7787</td></tr>\n",
       "</tbody>\n",
       "</table>\n"
      ],
      "text/latex": [
       "A data.table: 9000 × 19\n",
       "\\begin{tabular}{lllllllllllllllllll}\n",
       " accession & ncbi\\_genbank\\_assembly\\_accession & Domain & Phylum & Class & Order & Family & Genus & Species & fasta\\_file\\_path & dataset & checkm\\_completeness & checkm\\_contamination & contig\\_count & gc\\_percentage & genome\\_size & n50\\_contigs & ssu\\_count & X\\\\\n",
       " <chr> & <chr> & <chr> & <chr> & <chr> & <chr> & <chr> & <chr> & <chr> & <chr> & <chr> & <dbl> & <dbl> & <int> & <dbl> & <int> & <int> & <int> & <int>\\\\\n",
       "\\hline\n",
       "\t RS\\_GCF\\_002287215.1 & GCA\\_002287215.1 & Archaea & Halobacteriota & Methanomicrobia & Methanomicrobiales & Methanocorpusculaceae & Methanocorpusculum & Methanocorpusculum parvum & /ebio/abt3\\_projects/databases\\_no-backup/DeepMAsED/version2/ref\\_genomes/GTDBr202/genomes\\_fasta/genbank/archaea/GCA\\_002287215.1/GCA\\_002287215.1\\_ASM228721v1\\_genomic.fna.gz   & Novel-family & 98.21 & 0.00 & 47 & 51.42847 & 1709133 &  74097 & 1 & 1600\\\\\n",
       "\t RS\\_GCF\\_900167955.1 & GCA\\_900167955.1 & Archaea & Thermoproteota & Nitrososphaeria & Nitrososphaerales  & Nitrosopumilaceae     & Nitrosotalea       & Nitrosotalea bavarica     & /ebio/abt3\\_projects/databases\\_no-backup/DeepMAsED/version2/ref\\_genomes/GTDBr202/genomes\\_fasta/genbank/archaea/GCA\\_900167955.1/GCA\\_900167955.1\\_ASM90016795v1\\_genomic.fna.gz & Novel-family & 97.57 & 1.94 & 24 & 35.98315 & 1553159 & 106638 & 1 & 1736\\\\\n",
       "\t ⋮ & ⋮ & ⋮ & ⋮ & ⋮ & ⋮ & ⋮ & ⋮ & ⋮ & ⋮ & ⋮ & ⋮ & ⋮ & ⋮ & ⋮ & ⋮ & ⋮ & ⋮ & ⋮\\\\\n",
       "\t RS\\_GCF\\_902859605.1 & GCA\\_902859605.1 & Bacteria & Proteobacteria & Gammaproteobacteria & Burkholderiales & Burkholderiaceae & Achromobacter & Achromobacter spanius & /ebio/abt3\\_projects/databases\\_no-backup/DeepMAsED/version2/ref\\_genomes/GTDBr202/genomes\\_fasta/genbank/bacteria/GCA\\_902859605.1/GCA\\_902859605.1\\_LMG\\_5911\\_genomic.fna.gz   & Novel-family & 99.53 & 0.47 & 61 & 64.30309 & 6360923 & 280218 & 1 & 1283\\\\\n",
       "\t RS\\_GCF\\_903469595.1 & GCA\\_903469595.1 & Bacteria & Spirochaetota  & Spirochaetia        & Treponematales  & Treponemataceae  & Treponema     & Treponema pallidum    & /ebio/abt3\\_projects/databases\\_no-backup/DeepMAsED/version2/ref\\_genomes/GTDBr202/genomes\\_fasta/genbank/bacteria/GCA\\_903469595.1/GCA\\_903469595.1\\_R3-SAL-007\\_genomic.fna.gz & Novel-family & 99.57 & 0.36 & 64 & 52.75326 & 1131257 &  44192 & 1 & 7787\\\\\n",
       "\\end{tabular}\n"
      ],
      "text/markdown": [
       "\n",
       "A data.table: 9000 × 19\n",
       "\n",
       "| accession &lt;chr&gt; | ncbi_genbank_assembly_accession &lt;chr&gt; | Domain &lt;chr&gt; | Phylum &lt;chr&gt; | Class &lt;chr&gt; | Order &lt;chr&gt; | Family &lt;chr&gt; | Genus &lt;chr&gt; | Species &lt;chr&gt; | fasta_file_path &lt;chr&gt; | dataset &lt;chr&gt; | checkm_completeness &lt;dbl&gt; | checkm_contamination &lt;dbl&gt; | contig_count &lt;int&gt; | gc_percentage &lt;dbl&gt; | genome_size &lt;int&gt; | n50_contigs &lt;int&gt; | ssu_count &lt;int&gt; | X &lt;int&gt; |\n",
       "|---|---|---|---|---|---|---|---|---|---|---|---|---|---|---|---|---|---|---|\n",
       "| RS_GCF_002287215.1 | GCA_002287215.1 | Archaea | Halobacteriota | Methanomicrobia | Methanomicrobiales | Methanocorpusculaceae | Methanocorpusculum | Methanocorpusculum parvum | /ebio/abt3_projects/databases_no-backup/DeepMAsED/version2/ref_genomes/GTDBr202/genomes_fasta/genbank/archaea/GCA_002287215.1/GCA_002287215.1_ASM228721v1_genomic.fna.gz   | Novel-family | 98.21 | 0.00 | 47 | 51.42847 | 1709133 |  74097 | 1 | 1600 |\n",
       "| RS_GCF_900167955.1 | GCA_900167955.1 | Archaea | Thermoproteota | Nitrososphaeria | Nitrososphaerales  | Nitrosopumilaceae     | Nitrosotalea       | Nitrosotalea bavarica     | /ebio/abt3_projects/databases_no-backup/DeepMAsED/version2/ref_genomes/GTDBr202/genomes_fasta/genbank/archaea/GCA_900167955.1/GCA_900167955.1_ASM90016795v1_genomic.fna.gz | Novel-family | 97.57 | 1.94 | 24 | 35.98315 | 1553159 | 106638 | 1 | 1736 |\n",
       "| ⋮ | ⋮ | ⋮ | ⋮ | ⋮ | ⋮ | ⋮ | ⋮ | ⋮ | ⋮ | ⋮ | ⋮ | ⋮ | ⋮ | ⋮ | ⋮ | ⋮ | ⋮ | ⋮ |\n",
       "| RS_GCF_902859605.1 | GCA_902859605.1 | Bacteria | Proteobacteria | Gammaproteobacteria | Burkholderiales | Burkholderiaceae | Achromobacter | Achromobacter spanius | /ebio/abt3_projects/databases_no-backup/DeepMAsED/version2/ref_genomes/GTDBr202/genomes_fasta/genbank/bacteria/GCA_902859605.1/GCA_902859605.1_LMG_5911_genomic.fna.gz   | Novel-family | 99.53 | 0.47 | 61 | 64.30309 | 6360923 | 280218 | 1 | 1283 |\n",
       "| RS_GCF_903469595.1 | GCA_903469595.1 | Bacteria | Spirochaetota  | Spirochaetia        | Treponematales  | Treponemataceae  | Treponema     | Treponema pallidum    | /ebio/abt3_projects/databases_no-backup/DeepMAsED/version2/ref_genomes/GTDBr202/genomes_fasta/genbank/bacteria/GCA_903469595.1/GCA_903469595.1_R3-SAL-007_genomic.fna.gz | Novel-family | 99.57 | 0.36 | 64 | 52.75326 | 1131257 |  44192 | 1 | 7787 |\n",
       "\n"
      ],
      "text/plain": [
       "     accession          ncbi_genbank_assembly_accession Domain   Phylum        \n",
       "1    RS_GCF_002287215.1 GCA_002287215.1                 Archaea  Halobacteriota\n",
       "2    RS_GCF_900167955.1 GCA_900167955.1                 Archaea  Thermoproteota\n",
       "⋮    ⋮                  ⋮                               ⋮        ⋮             \n",
       "8999 RS_GCF_902859605.1 GCA_902859605.1                 Bacteria Proteobacteria\n",
       "9000 RS_GCF_903469595.1 GCA_903469595.1                 Bacteria Spirochaetota \n",
       "     Class               Order              Family               \n",
       "1    Methanomicrobia     Methanomicrobiales Methanocorpusculaceae\n",
       "2    Nitrososphaeria     Nitrososphaerales  Nitrosopumilaceae    \n",
       "⋮    ⋮                   ⋮                  ⋮                    \n",
       "8999 Gammaproteobacteria Burkholderiales    Burkholderiaceae     \n",
       "9000 Spirochaetia        Treponematales     Treponemataceae      \n",
       "     Genus              Species                  \n",
       "1    Methanocorpusculum Methanocorpusculum parvum\n",
       "2    Nitrosotalea       Nitrosotalea bavarica    \n",
       "⋮    ⋮                  ⋮                        \n",
       "8999 Achromobacter      Achromobacter spanius    \n",
       "9000 Treponema          Treponema pallidum       \n",
       "     fasta_file_path                                                                                                                                                           \n",
       "1    /ebio/abt3_projects/databases_no-backup/DeepMAsED/version2/ref_genomes/GTDBr202/genomes_fasta/genbank/archaea/GCA_002287215.1/GCA_002287215.1_ASM228721v1_genomic.fna.gz  \n",
       "2    /ebio/abt3_projects/databases_no-backup/DeepMAsED/version2/ref_genomes/GTDBr202/genomes_fasta/genbank/archaea/GCA_900167955.1/GCA_900167955.1_ASM90016795v1_genomic.fna.gz\n",
       "⋮    ⋮                                                                                                                                                                         \n",
       "8999 /ebio/abt3_projects/databases_no-backup/DeepMAsED/version2/ref_genomes/GTDBr202/genomes_fasta/genbank/bacteria/GCA_902859605.1/GCA_902859605.1_LMG_5911_genomic.fna.gz    \n",
       "9000 /ebio/abt3_projects/databases_no-backup/DeepMAsED/version2/ref_genomes/GTDBr202/genomes_fasta/genbank/bacteria/GCA_903469595.1/GCA_903469595.1_R3-SAL-007_genomic.fna.gz  \n",
       "     dataset      checkm_completeness checkm_contamination contig_count\n",
       "1    Novel-family 98.21               0.00                 47          \n",
       "2    Novel-family 97.57               1.94                 24          \n",
       "⋮    ⋮            ⋮                   ⋮                    ⋮           \n",
       "8999 Novel-family 99.53               0.47                 61          \n",
       "9000 Novel-family 99.57               0.36                 64          \n",
       "     gc_percentage genome_size n50_contigs ssu_count X   \n",
       "1    51.42847      1709133      74097      1         1600\n",
       "2    35.98315      1553159     106638      1         1736\n",
       "⋮    ⋮             ⋮           ⋮           ⋮         ⋮   \n",
       "8999 64.30309      6360923     280218      1         1283\n",
       "9000 52.75326      1131257      44192      1         7787"
      ]
     },
     "metadata": {},
     "output_type": "display_data"
    }
   ],
   "source": [
    "# reference genomes\n",
    "ref_gen = Fread(ref_gen_file)\n",
    "ref_gen"
   ]
  },
  {
   "cell_type": "code",
   "execution_count": 16,
   "metadata": {
    "ExecuteTime": {
     "end_time": "2021-11-02T14:37:16.809302Z",
     "start_time": "2021-11-02T14:37:16.783Z"
    }
   },
   "outputs": [
    {
     "name": "stdout",
     "output_type": "stream",
     "text": [
      "No. of unique genomes: 9000 \n",
      "No. of unique NCBI accessions: 9000 \n"
     ]
    }
   ],
   "source": [
    "# number of genomes\n",
    "ref_gen$accession %>% unique_n('genomes')\n",
    "ref_gen$ncbi_genbank_assembly_accession %>% unique_n('NCBI accessions')"
   ]
  },
  {
   "cell_type": "code",
   "execution_count": 17,
   "metadata": {
    "ExecuteTime": {
     "end_time": "2021-11-02T14:37:18.188048Z",
     "start_time": "2021-11-02T14:37:18.159Z"
    }
   },
   "outputs": [
    {
     "name": "stdout",
     "output_type": "stream",
     "text": [
      "No. of unique species: 2607 \n"
     ]
    }
   ],
   "source": [
    "# number of species\n",
    "ref_gen$Species %>% unique_n('species')"
   ]
  },
  {
   "cell_type": "markdown",
   "metadata": {},
   "source": [
    "#### Checking overlap with train"
   ]
  },
  {
   "cell_type": "code",
   "execution_count": 21,
   "metadata": {
    "ExecuteTime": {
     "end_time": "2021-11-02T14:38:15.183038Z",
     "start_time": "2021-11-02T14:38:14.967Z"
    }
   },
   "outputs": [
    {
     "data": {
      "text/html": [
       "<table class=\"dataframe\">\n",
       "<caption>A data.table: 9000 × 19</caption>\n",
       "<thead>\n",
       "\t<tr><th scope=col>accession</th><th scope=col>ncbi_genbank_assembly_accession</th><th scope=col>Domain</th><th scope=col>Phylum</th><th scope=col>Class</th><th scope=col>Order</th><th scope=col>Family</th><th scope=col>Genus</th><th scope=col>Species</th><th scope=col>fasta_file_path</th><th scope=col>dataset</th><th scope=col>checkm_completeness</th><th scope=col>checkm_contamination</th><th scope=col>contig_count</th><th scope=col>gc_percentage</th><th scope=col>genome_size</th><th scope=col>n50_contigs</th><th scope=col>ssu_count</th><th scope=col>X</th></tr>\n",
       "\t<tr><th scope=col>&lt;chr&gt;</th><th scope=col>&lt;chr&gt;</th><th scope=col>&lt;chr&gt;</th><th scope=col>&lt;chr&gt;</th><th scope=col>&lt;chr&gt;</th><th scope=col>&lt;chr&gt;</th><th scope=col>&lt;chr&gt;</th><th scope=col>&lt;chr&gt;</th><th scope=col>&lt;chr&gt;</th><th scope=col>&lt;chr&gt;</th><th scope=col>&lt;chr&gt;</th><th scope=col>&lt;dbl&gt;</th><th scope=col>&lt;dbl&gt;</th><th scope=col>&lt;int&gt;</th><th scope=col>&lt;dbl&gt;</th><th scope=col>&lt;int&gt;</th><th scope=col>&lt;int&gt;</th><th scope=col>&lt;int&gt;</th><th scope=col>&lt;int&gt;</th></tr>\n",
       "</thead>\n",
       "<tbody>\n",
       "\t<tr><td>RS_GCF_000328665.1</td><td>GCA_000328665.1</td><td>Archaea</td><td>Halobacteriota   </td><td>Methanosarcinia</td><td>Methanosarcinales </td><td>Methanosarcinaceae </td><td>Methanomethylovorans</td><td>Methanomethylovorans hollandica</td><td>/ebio/abt3_projects/databases_no-backup/DeepMAsED/version2/ref_genomes/GTDBr202/genomes_fasta/genbank/archaea/GCA_000328665.1/GCA_000328665.1_ASM32866v1_genomic.fna.gz </td><td>Train</td><td>99.84</td><td>0.33</td><td> 2</td><td>41.86704</td><td>2714013</td><td>2428904</td><td>2</td><td>1062</td></tr>\n",
       "\t<tr><td>RS_GCF_003149675.1</td><td>GCA_003149675.1</td><td>Archaea</td><td>Methanobacteriota</td><td>Methanobacteria</td><td>Methanobacteriales</td><td>Methanobacteriaceae</td><td>Methanosphaera      </td><td>Methanosphaera cuniculi        </td><td>/ebio/abt3_projects/databases_no-backup/DeepMAsED/version2/ref_genomes/GTDBr202/genomes_fasta/genbank/archaea/GCA_003149675.1/GCA_003149675.1_ASM314967v1_genomic.fna.gz</td><td>Train</td><td>96.00</td><td>0.00</td><td>48</td><td>28.08352</td><td>1881477</td><td>  86478</td><td>1</td><td>  39</td></tr>\n",
       "\t<tr><td>⋮</td><td>⋮</td><td>⋮</td><td>⋮</td><td>⋮</td><td>⋮</td><td>⋮</td><td>⋮</td><td>⋮</td><td>⋮</td><td>⋮</td><td>⋮</td><td>⋮</td><td>⋮</td><td>⋮</td><td>⋮</td><td>⋮</td><td>⋮</td><td>⋮</td></tr>\n",
       "\t<tr><td>RS_GCF_903931695.1</td><td>GCA_903931695.1</td><td>Bacteria</td><td>Proteobacteria</td><td>Gammaproteobacteria</td><td>Enterobacterales</td><td>Enterobacteriaceae</td><td>Salmonella    </td><td>Salmonella enterica        </td><td>/ebio/abt3_projects/databases_no-backup/DeepMAsED/version2/ref_genomes/GTDBr202/genomes_fasta/genbank/bacteria/GCA_903931695.1/GCA_903931695.1_0253_01_genomic.fna.gz</td><td>Train</td><td>99.85</td><td>0.04</td><td>134</td><td>52.23247</td><td>4810919</td><td> 68200</td><td>1</td><td>5465</td></tr>\n",
       "\t<tr><td>RS_GCF_903969785.1</td><td>GCA_903969785.1</td><td>Bacteria</td><td>Firmicutes    </td><td>Bacilli            </td><td>Staphylococcales</td><td>Staphylococcaceae </td><td>Staphylococcus</td><td>Staphylococcus haemolyticus</td><td>/ebio/abt3_projects/databases_no-backup/DeepMAsED/version2/ref_genomes/GTDBr202/genomes_fasta/genbank/bacteria/GCA_903969785.1/GCA_903969785.1_57-10_genomic.fna.gz  </td><td>Train</td><td>99.39</td><td>0.70</td><td> 88</td><td>32.67126</td><td>2470162</td><td>353079</td><td>1</td><td>3904</td></tr>\n",
       "</tbody>\n",
       "</table>\n"
      ],
      "text/latex": [
       "A data.table: 9000 × 19\n",
       "\\begin{tabular}{lllllllllllllllllll}\n",
       " accession & ncbi\\_genbank\\_assembly\\_accession & Domain & Phylum & Class & Order & Family & Genus & Species & fasta\\_file\\_path & dataset & checkm\\_completeness & checkm\\_contamination & contig\\_count & gc\\_percentage & genome\\_size & n50\\_contigs & ssu\\_count & X\\\\\n",
       " <chr> & <chr> & <chr> & <chr> & <chr> & <chr> & <chr> & <chr> & <chr> & <chr> & <chr> & <dbl> & <dbl> & <int> & <dbl> & <int> & <int> & <int> & <int>\\\\\n",
       "\\hline\n",
       "\t RS\\_GCF\\_000328665.1 & GCA\\_000328665.1 & Archaea & Halobacteriota    & Methanosarcinia & Methanosarcinales  & Methanosarcinaceae  & Methanomethylovorans & Methanomethylovorans hollandica & /ebio/abt3\\_projects/databases\\_no-backup/DeepMAsED/version2/ref\\_genomes/GTDBr202/genomes\\_fasta/genbank/archaea/GCA\\_000328665.1/GCA\\_000328665.1\\_ASM32866v1\\_genomic.fna.gz  & Train & 99.84 & 0.33 &  2 & 41.86704 & 2714013 & 2428904 & 2 & 1062\\\\\n",
       "\t RS\\_GCF\\_003149675.1 & GCA\\_003149675.1 & Archaea & Methanobacteriota & Methanobacteria & Methanobacteriales & Methanobacteriaceae & Methanosphaera       & Methanosphaera cuniculi         & /ebio/abt3\\_projects/databases\\_no-backup/DeepMAsED/version2/ref\\_genomes/GTDBr202/genomes\\_fasta/genbank/archaea/GCA\\_003149675.1/GCA\\_003149675.1\\_ASM314967v1\\_genomic.fna.gz & Train & 96.00 & 0.00 & 48 & 28.08352 & 1881477 &   86478 & 1 &   39\\\\\n",
       "\t ⋮ & ⋮ & ⋮ & ⋮ & ⋮ & ⋮ & ⋮ & ⋮ & ⋮ & ⋮ & ⋮ & ⋮ & ⋮ & ⋮ & ⋮ & ⋮ & ⋮ & ⋮ & ⋮\\\\\n",
       "\t RS\\_GCF\\_903931695.1 & GCA\\_903931695.1 & Bacteria & Proteobacteria & Gammaproteobacteria & Enterobacterales & Enterobacteriaceae & Salmonella     & Salmonella enterica         & /ebio/abt3\\_projects/databases\\_no-backup/DeepMAsED/version2/ref\\_genomes/GTDBr202/genomes\\_fasta/genbank/bacteria/GCA\\_903931695.1/GCA\\_903931695.1\\_0253\\_01\\_genomic.fna.gz & Train & 99.85 & 0.04 & 134 & 52.23247 & 4810919 &  68200 & 1 & 5465\\\\\n",
       "\t RS\\_GCF\\_903969785.1 & GCA\\_903969785.1 & Bacteria & Firmicutes     & Bacilli             & Staphylococcales & Staphylococcaceae  & Staphylococcus & Staphylococcus haemolyticus & /ebio/abt3\\_projects/databases\\_no-backup/DeepMAsED/version2/ref\\_genomes/GTDBr202/genomes\\_fasta/genbank/bacteria/GCA\\_903969785.1/GCA\\_903969785.1\\_57-10\\_genomic.fna.gz   & Train & 99.39 & 0.70 &  88 & 32.67126 & 2470162 & 353079 & 1 & 3904\\\\\n",
       "\\end{tabular}\n"
      ],
      "text/markdown": [
       "\n",
       "A data.table: 9000 × 19\n",
       "\n",
       "| accession &lt;chr&gt; | ncbi_genbank_assembly_accession &lt;chr&gt; | Domain &lt;chr&gt; | Phylum &lt;chr&gt; | Class &lt;chr&gt; | Order &lt;chr&gt; | Family &lt;chr&gt; | Genus &lt;chr&gt; | Species &lt;chr&gt; | fasta_file_path &lt;chr&gt; | dataset &lt;chr&gt; | checkm_completeness &lt;dbl&gt; | checkm_contamination &lt;dbl&gt; | contig_count &lt;int&gt; | gc_percentage &lt;dbl&gt; | genome_size &lt;int&gt; | n50_contigs &lt;int&gt; | ssu_count &lt;int&gt; | X &lt;int&gt; |\n",
       "|---|---|---|---|---|---|---|---|---|---|---|---|---|---|---|---|---|---|---|\n",
       "| RS_GCF_000328665.1 | GCA_000328665.1 | Archaea | Halobacteriota    | Methanosarcinia | Methanosarcinales  | Methanosarcinaceae  | Methanomethylovorans | Methanomethylovorans hollandica | /ebio/abt3_projects/databases_no-backup/DeepMAsED/version2/ref_genomes/GTDBr202/genomes_fasta/genbank/archaea/GCA_000328665.1/GCA_000328665.1_ASM32866v1_genomic.fna.gz  | Train | 99.84 | 0.33 |  2 | 41.86704 | 2714013 | 2428904 | 2 | 1062 |\n",
       "| RS_GCF_003149675.1 | GCA_003149675.1 | Archaea | Methanobacteriota | Methanobacteria | Methanobacteriales | Methanobacteriaceae | Methanosphaera       | Methanosphaera cuniculi         | /ebio/abt3_projects/databases_no-backup/DeepMAsED/version2/ref_genomes/GTDBr202/genomes_fasta/genbank/archaea/GCA_003149675.1/GCA_003149675.1_ASM314967v1_genomic.fna.gz | Train | 96.00 | 0.00 | 48 | 28.08352 | 1881477 |   86478 | 1 |   39 |\n",
       "| ⋮ | ⋮ | ⋮ | ⋮ | ⋮ | ⋮ | ⋮ | ⋮ | ⋮ | ⋮ | ⋮ | ⋮ | ⋮ | ⋮ | ⋮ | ⋮ | ⋮ | ⋮ | ⋮ |\n",
       "| RS_GCF_903931695.1 | GCA_903931695.1 | Bacteria | Proteobacteria | Gammaproteobacteria | Enterobacterales | Enterobacteriaceae | Salmonella     | Salmonella enterica         | /ebio/abt3_projects/databases_no-backup/DeepMAsED/version2/ref_genomes/GTDBr202/genomes_fasta/genbank/bacteria/GCA_903931695.1/GCA_903931695.1_0253_01_genomic.fna.gz | Train | 99.85 | 0.04 | 134 | 52.23247 | 4810919 |  68200 | 1 | 5465 |\n",
       "| RS_GCF_903969785.1 | GCA_903969785.1 | Bacteria | Firmicutes     | Bacilli             | Staphylococcales | Staphylococcaceae  | Staphylococcus | Staphylococcus haemolyticus | /ebio/abt3_projects/databases_no-backup/DeepMAsED/version2/ref_genomes/GTDBr202/genomes_fasta/genbank/bacteria/GCA_903969785.1/GCA_903969785.1_57-10_genomic.fna.gz   | Train | 99.39 | 0.70 |  88 | 32.67126 | 2470162 | 353079 | 1 | 3904 |\n",
       "\n"
      ],
      "text/plain": [
       "     accession          ncbi_genbank_assembly_accession Domain  \n",
       "1    RS_GCF_000328665.1 GCA_000328665.1                 Archaea \n",
       "2    RS_GCF_003149675.1 GCA_003149675.1                 Archaea \n",
       "⋮    ⋮                  ⋮                               ⋮       \n",
       "8999 RS_GCF_903931695.1 GCA_903931695.1                 Bacteria\n",
       "9000 RS_GCF_903969785.1 GCA_903969785.1                 Bacteria\n",
       "     Phylum            Class               Order             \n",
       "1    Halobacteriota    Methanosarcinia     Methanosarcinales \n",
       "2    Methanobacteriota Methanobacteria     Methanobacteriales\n",
       "⋮    ⋮                 ⋮                   ⋮                 \n",
       "8999 Proteobacteria    Gammaproteobacteria Enterobacterales  \n",
       "9000 Firmicutes        Bacilli             Staphylococcales  \n",
       "     Family              Genus                Species                        \n",
       "1    Methanosarcinaceae  Methanomethylovorans Methanomethylovorans hollandica\n",
       "2    Methanobacteriaceae Methanosphaera       Methanosphaera cuniculi        \n",
       "⋮    ⋮                   ⋮                    ⋮                              \n",
       "8999 Enterobacteriaceae  Salmonella           Salmonella enterica            \n",
       "9000 Staphylococcaceae   Staphylococcus       Staphylococcus haemolyticus    \n",
       "     fasta_file_path                                                                                                                                                         \n",
       "1    /ebio/abt3_projects/databases_no-backup/DeepMAsED/version2/ref_genomes/GTDBr202/genomes_fasta/genbank/archaea/GCA_000328665.1/GCA_000328665.1_ASM32866v1_genomic.fna.gz \n",
       "2    /ebio/abt3_projects/databases_no-backup/DeepMAsED/version2/ref_genomes/GTDBr202/genomes_fasta/genbank/archaea/GCA_003149675.1/GCA_003149675.1_ASM314967v1_genomic.fna.gz\n",
       "⋮    ⋮                                                                                                                                                                       \n",
       "8999 /ebio/abt3_projects/databases_no-backup/DeepMAsED/version2/ref_genomes/GTDBr202/genomes_fasta/genbank/bacteria/GCA_903931695.1/GCA_903931695.1_0253_01_genomic.fna.gz   \n",
       "9000 /ebio/abt3_projects/databases_no-backup/DeepMAsED/version2/ref_genomes/GTDBr202/genomes_fasta/genbank/bacteria/GCA_903969785.1/GCA_903969785.1_57-10_genomic.fna.gz     \n",
       "     dataset checkm_completeness checkm_contamination contig_count\n",
       "1    Train   99.84               0.33                  2          \n",
       "2    Train   96.00               0.00                 48          \n",
       "⋮    ⋮       ⋮                   ⋮                    ⋮           \n",
       "8999 Train   99.85               0.04                 134         \n",
       "9000 Train   99.39               0.70                  88         \n",
       "     gc_percentage genome_size n50_contigs ssu_count X   \n",
       "1    41.86704      2714013     2428904     2         1062\n",
       "2    28.08352      1881477       86478     1           39\n",
       "⋮    ⋮             ⋮           ⋮           ⋮         ⋮   \n",
       "8999 52.23247      4810919      68200      1         5465\n",
       "9000 32.67126      2470162     353079      1         3904"
      ]
     },
     "metadata": {},
     "output_type": "display_data"
    }
   ],
   "source": [
    "ref_gen_train = Fread(ref_gen_train_file)\n",
    "ref_gen_train"
   ]
  },
  {
   "cell_type": "code",
   "execution_count": 22,
   "metadata": {
    "ExecuteTime": {
     "end_time": "2021-11-02T14:38:29.533129Z",
     "start_time": "2021-11-02T14:38:29.497Z"
    }
   },
   "outputs": [
    {
     "name": "stdout",
     "output_type": "stream",
     "text": [
      "intersect(x,y): 0 \n",
      "setdiff(x,y): 9000 \n",
      "setdiff(y,x): 9000 \n",
      "union(x,y): 18000 \n"
     ]
    }
   ],
   "source": [
    "# overlapping genomes?\n",
    "overlap(ref_gen$accession, ref_gen_train$accession)"
   ]
  },
  {
   "cell_type": "code",
   "execution_count": 26,
   "metadata": {
    "ExecuteTime": {
     "end_time": "2021-11-02T14:39:27.766151Z",
     "start_time": "2021-11-02T14:39:27.710Z"
    }
   },
   "outputs": [
    {
     "name": "stdout",
     "output_type": "stream",
     "text": [
      "---Order--\n",
      "intersect(x,y): 42 \n",
      "setdiff(x,y): 97 \n",
      "setdiff(y,x): 62 \n",
      "union(x,y): 201 \n",
      "---Family--\n",
      "intersect(x,y): 0 \n",
      "setdiff(x,y): 226 \n",
      "setdiff(y,x): 186 \n",
      "union(x,y): 412 \n",
      "---Genus--\n",
      "intersect(x,y): 0 \n",
      "setdiff(x,y): 831 \n",
      "setdiff(y,x): 709 \n",
      "union(x,y): 1540 \n"
     ]
    }
   ],
   "source": [
    "# overlapping taxonomies?\n",
    "cat('---Order--\\n')\n",
    "overlap(ref_gen$Order, ref_gen_train$Order)\n",
    "cat('---Family--\\n')\n",
    "overlap(ref_gen$Family, ref_gen_train$Family)\n",
    "cat('---Genus--\\n')\n",
    "overlap(ref_gen$Genus, ref_gen_train$Genus)"
   ]
  },
  {
   "cell_type": "markdown",
   "metadata": {},
   "source": [
    "#### Writing table"
   ]
  },
  {
   "cell_type": "code",
   "execution_count": 27,
   "metadata": {
    "ExecuteTime": {
     "end_time": "2021-11-02T14:39:31.522512Z",
     "start_time": "2021-11-02T14:39:31.478Z"
    }
   },
   "outputs": [
    {
     "name": "stdout",
     "output_type": "stream",
     "text": [
      "File written: /ebio/abt3_projects/databases_no-backup/DeepMAsED/version2/resmico-sm/GTDBr202_n9k_novel-family_test//genomes.tsv \n"
     ]
    }
   ],
   "source": [
    "F = file.path(work_dir, 'genomes.tsv')\n",
    "ref_gen %>%\n",
    "    rename.('Taxon' = accession,\n",
    "            'Fasta' = fasta_file_path) %>%\n",
    "    write_table(F)"
   ]
  },
  {
   "cell_type": "markdown",
   "metadata": {},
   "source": [
    "# ResMiCo-Sm"
   ]
  },
  {
   "cell_type": "markdown",
   "metadata": {},
   "source": [
    "## Run1"
   ]
  },
  {
   "cell_type": "markdown",
   "metadata": {},
   "source": [
    "### Config"
   ]
  },
  {
   "cell_type": "code",
   "execution_count": 28,
   "metadata": {
    "ExecuteTime": {
     "end_time": "2021-11-02T14:45:37.041626Z",
     "start_time": "2021-11-02T14:45:36.978Z"
    }
   },
   "outputs": [
    {
     "name": "stdout",
     "output_type": "stream",
     "text": [
      "# Input table\n",
      "## Table of genomes\n",
      "genomes_file: /ebio/abt3_projects/databases_no-backup/DeepMAsED/version2/resmico-sm/GTDBr202_n9k_novel-family_test/genomes.tsv\n",
      "## If using pre-generated reads\n",
      "reads_file: Skip\n",
      "\n",
      "# Output directory\n",
      "output_dir: /ebio/abt3_projects/databases_no-backup/DeepMAsED/version2/resmico-sm/GTDBr202_n9k_novel-family_test/\n",
      "\n",
      "# Temporary output directory (/dev/shm/ for shared memory)\n",
      "tmp_dir: /ebio/abt3_scratch/\n",
      "\n",
      "# Email for notifications (\"Skip\" to skip)\n",
      "email: nyoungblut@tuebingen.mpg.de\n",
      "\n",
      "# software parameters for data simulations\n",
      "## Use \"Skip\" to skip  steps. If no params for rule, use \"\"\n",
      "## `reps:` is the number of replicate simulations\n",
      "## If `keep_reads: True`, then simulated reads are kept\n",
      "params:\n",
      "  ionice: -c 3\n",
      "  # simulating metagenomes\n",
      "  MGSIM:\n",
      "    genome_download: \"\"\n",
      "    sim_reps: 1\n",
      "    community:\n",
      "      richness:\n",
      "        - 0.005555\n",
      "        - 0.111111\n",
      "        - 0.333333\n",
      "        - 0.555555\n",
      "      abundance_distribution:\n",
      "        - \"mean:10,sigma:0.5\"\n",
      "        - \"mean:10,sigma:1\"\n",
      "        - \"mean:10,sigma:2\"\n",
      "      random_seed: Skip #8192\n",
      "      other_sim_params: --group-bias 0\n",
      "    reads: \n",
      "      length:\n",
      "        - 100\n",
      "        - 150\n",
      "      depth:\n",
      "        - 500000\n",
      "        - 2000000\n",
      "        - 8000000\n",
      "      other_sim_params: --art-paired --art-mflen 270 --art-sdev 50 --rndSeed 8712\n",
      "      skewer: -n -l 70 -q 25\n",
      "      keep_reads: False\n",
      "  # coverage\n",
      "  nonpareil:\n",
      "    params: -T kmer\n",
      "    summary: 1e9   # this is target seq. depth\n",
      "  # assemblying metagenomes\n",
      "  assemblers:\n",
      "    metaspades: -k auto --only-assembler\n",
      "    megahit: --min-count 1 --min-contig-len 1000\n",
      "  # assembly filtering\n",
      "  contigs:\n",
      "    length_cutoff: 1000       # length in bp \n",
      "  # assessing assembly errors\n",
      "  asmbl_errors:\n",
      "    metaquast: --max-ref-number 0 --min-contig 1000 --min-identity 95 --extensive-mis-size 100\n",
      "               --no-html --no-plots --no-icarus --no-gc --no-snps --no-sv\n",
      "    keep_genomes: True\n",
      "  # mapping reads to contigs\n",
      "  map:\n",
      "    samtools: \"\"\n",
      "    bowtie2: \"\"\n",
      "    max_coverage: 20\n",
      "    keep_bam: False #True\n",
      "  # creating ResMiCo feature tables\n",
      "  feature_table:\n",
      "    make: --window 6\n",
      "  # state-of-the-art\n",
      "  SotA:\n",
      "    ALE: \"\"\n",
      "    VALET: \"\"  \n",
      "    metaMIC:\n",
      "      extract: --mlen 1000\n",
      "      predict: --mlen 1000 --slen 500 -a MEGAHIT\n",
      "\n",
      "# params just for creating feature tables for non-simulated data\n",
      "nonsim_params:\n",
      "  # max number of reads to use\n",
      "  subsample_reads: 5000000\n",
      "  # read quality filtering\n",
      "  skewer: -n -l 70 -q 25\n",
      "  # max per-contig coverage\n",
      "  max_coverage: 20\n",
      "  # keep bam files?\n",
      "  keep_bam: True\n",
      "  # feature tables\n",
      "  make_features: --window 6\n",
      "\n",
      "# snakemake pipeline\n",
      "pipeline:\n",
      "  snakemake_folder: ./\n",
      "  script_folder: ./bin/scripts/\n",
      "  name: ResMiCo-SM"
     ]
    }
   ],
   "source": [
    "F = file.path(work_dir, 'config.yaml')\n",
    "cat_file(F)"
   ]
  },
  {
   "cell_type": "markdown",
   "metadata": {},
   "source": [
    "### Run"
   ]
  },
  {
   "cell_type": "markdown",
   "metadata": {},
   "source": [
    "```\n",
    "(snakemake) @ rick:/ebio/abt3_projects/databases_no-backup/DeepMAsED/version2/resmico-sm/bin/ResMiCo/ResMiCo-SM\n",
    "$ screen -L -S rmc-sm-test ./snakemake_sge.sh /ebio/abt3_projects/databases_no-backup/DeepMAsED/version2/resmico-sm/GTDBr202_n9k_novel-family_test/config.yaml 40 -F --notemp\n",
    "```"
   ]
  },
  {
   "cell_type": "markdown",
   "metadata": {},
   "source": [
    "## Run2\n",
    "\n",
    "* Expanding simulation parameters"
   ]
  },
  {
   "cell_type": "code",
   "execution_count": 34,
   "metadata": {
    "ExecuteTime": {
     "end_time": "2022-01-05T12:45:00.831213Z",
     "start_time": "2022-01-05T12:45:00.807Z"
    }
   },
   "outputs": [
    {
     "data": {
      "text/html": [
       "'/ebio/abt3_projects/databases_no-backup/DeepMAsED/version2/resmico-sm/GTDBr202_n9k_novel-family_test2'"
      ],
      "text/latex": [
       "'/ebio/abt3\\_projects/databases\\_no-backup/DeepMAsED/version2/resmico-sm/GTDBr202\\_n9k\\_novel-family\\_test2'"
      ],
      "text/markdown": [
       "'/ebio/abt3_projects/databases_no-backup/DeepMAsED/version2/resmico-sm/GTDBr202_n9k_novel-family_test2'"
      ],
      "text/plain": [
       "[1] \"/ebio/abt3_projects/databases_no-backup/DeepMAsED/version2/resmico-sm/GTDBr202_n9k_novel-family_test2\""
      ]
     },
     "metadata": {},
     "output_type": "display_data"
    }
   ],
   "source": [
    "work_dir2 = paste0(gsub('/$', '', work_dir), '2')\n",
    "work_dir2"
   ]
  },
  {
   "cell_type": "code",
   "execution_count": 35,
   "metadata": {
    "ExecuteTime": {
     "end_time": "2022-01-05T12:45:02.712031Z",
     "start_time": "2022-01-05T12:45:02.583Z"
    }
   },
   "outputs": [
    {
     "name": "stdout",
     "output_type": "stream",
     "text": [
      "# Input table\n",
      "## Table of genomes\n",
      "genomes_file: /ebio/abt3_projects/databases_no-backup/DeepMAsED/version2/resmico-sm/GTDBr202_n9k_novel-family_test/genomes.tsv\n",
      "## If using pre-generated reads\n",
      "reads_file: Skip\n",
      "\n",
      "# Output directory\n",
      "output_dir: /ebio/abt3_projects/databases_no-backup/DeepMAsED/version2/resmico-sm/GTDBr202_n9k_novel-family_test2/\n",
      "\n",
      "# Temporary output directory (/dev/shm/ for shared memory)\n",
      "tmp_dir: /ebio/abt3_scratch/nyoungblut/\n",
      "\n",
      "# Email for notifications (\"Skip\" to skip)\n",
      "email: nyoungblut@tuebingen.mpg.de\n",
      "\n",
      "# software parameters for data simulations\n",
      "## Use \"Skip\" to skip  steps. If no params for rule, use \"\"\n",
      "## `reps:` is the number of replicate simulations\n",
      "## If `keep_reads: True`, then simulated reads are kept\n",
      "params:\n",
      "  ionice: -c 3\n",
      "  # simulating metagenomes\n",
      "  MGSIM:\n",
      "    genome_download: \"\"\n",
      "    sim_reps: 1\n",
      "    community:\n",
      "      richness:\n",
      "        - 0.005555\n",
      "        - 0.111111\n",
      "        - 0.333333\n",
      "        - 0.555555\n",
      "      abundance_distribution:\n",
      "        - \"mean:10,sigma:1\"\n",
      "        - \"mean:10,sigma:2\"\n",
      "      random_seed: Skip #8192\n",
      "      other_sim_params: --group-bias 0\n",
      "    reads: \n",
      "      length:\n",
      "        - 100\n",
      "        - 150\n",
      "      depth:\n",
      "        - 12000000\n",
      "        - 20000000\n",
      "      other_sim_params: --art-paired --art-mflen 270 --art-sdev 50 --rndSeed 8712\n",
      "      skewer: -n -l 70 -q 25\n",
      "      keep_reads: False\n",
      "  # coverage\n",
      "  nonpareil:\n",
      "    params: -T kmer\n",
      "    summary: 1e9   # this is target seq. depth\n",
      "  # assemblying metagenomes\n",
      "  assemblers:\n",
      "    metaspades: -k auto --only-assembler\n",
      "    megahit: --min-count 1 --min-contig-len 1000\n",
      "  # assembly filtering\n",
      "  contigs:\n",
      "    length_cutoff: 1000       # length in bp \n",
      "  # assessing assembly errors\n",
      "  asmbl_errors:\n",
      "    metaquast: --max-ref-number 0 --min-contig 1000 --min-identity 95 --extensive-mis-size 100\n",
      "               --no-html --no-plots --no-icarus --no-gc --no-snps --no-sv\n",
      "    keep_genomes: True\n",
      "  # mapping reads to contigs\n",
      "  map:\n",
      "    samtools: \"\"\n",
      "    bowtie2: \"\"\n",
      "    max_coverage: 20\n",
      "    keep_bam: False #True\n",
      "  # creating ResMiCo feature tables\n",
      "  feature_table:\n",
      "    make: --window 6\n",
      "  # state-of-the-art\n",
      "  SotA:\n",
      "    ALE: \"\"\n",
      "    VALET: \"\"  \n",
      "    metaMIC:\n",
      "      extract: --mlen 1000\n",
      "      predict: --mlen 1000 --slen 500 -a MEGAHIT\n",
      "\n",
      "# params just for creating feature tables for non-simulated data\n",
      "nonsim_params:\n",
      "  # max number of reads to use\n",
      "  subsample_reads: 5000000\n",
      "  # read quality filtering\n",
      "  skewer: -n -l 70 -q 25\n",
      "  # max per-contig coverage\n",
      "  max_coverage: 20\n",
      "  # keep bam files?\n",
      "  keep_bam: True\n",
      "  # feature tables\n",
      "  make_features: --window 6\n",
      "\n",
      "# snakemake pipeline\n",
      "pipeline:\n",
      "  snakemake_folder: ./\n",
      "  script_folder: ./bin/scripts/\n",
      "  name: ResMiCo-SM"
     ]
    }
   ],
   "source": [
    "F = file.path(work_dir2, 'config.yaml')\n",
    "cat_file(F)"
   ]
  },
  {
   "cell_type": "markdown",
   "metadata": {},
   "source": [
    "### Run"
   ]
  },
  {
   "cell_type": "markdown",
   "metadata": {},
   "source": [
    "```\n",
    "(snakemake) @ rick:/ebio/abt3_projects/databases_no-backup/DeepMAsED/version2/resmico-sm/bin/ResMiCo/ResMiCo-SM\n",
    "$ screen -L -S rmc-sm-test ./snakemake_sge.sh /ebio/abt3_projects/databases_no-backup/DeepMAsED/version2/resmico-sm/GTDBr202_n9k_novel-family_test2/config.yaml 40 -F --notemp\n",
    "```"
   ]
  },
  {
   "cell_type": "markdown",
   "metadata": {},
   "source": [
    "# --WAITING--"
   ]
  }
 ],
 "metadata": {
  "kernelspec": {
   "display_name": "R [conda env:DeepMAsED-tidyverse]",
   "language": "R",
   "name": "conda-env-DeepMAsED-tidyverse-r"
  },
  "language_info": {
   "codemirror_mode": "r",
   "file_extension": ".r",
   "mimetype": "text/x-r-source",
   "name": "R",
   "pygments_lexer": "r",
   "version": "4.1.0"
  },
  "notify_time": "30",
  "toc": {
   "base_numbering": 1,
   "nav_menu": {},
   "number_sections": true,
   "sideBar": true,
   "skip_h1_title": false,
   "title_cell": "Table of Contents",
   "title_sidebar": "Contents",
   "toc_cell": true,
   "toc_position": {},
   "toc_section_display": true,
   "toc_window_display": true
  }
 },
 "nbformat": 4,
 "nbformat_minor": 5
}
