{
 "cells": [
  {
   "cell_type": "markdown",
   "metadata": {
    "toc": true
   },
   "source": [
    "<h1>Table of Contents<span class=\"tocSkip\"></span></h1>\n",
    "<div class=\"toc\"><ul class=\"toc-item\"><li><span><a href=\"#Goal\" data-toc-modified-id=\"Goal-1\"><span class=\"toc-item-num\">1&nbsp;&nbsp;</span>Goal</a></span></li><li><span><a href=\"#Var\" data-toc-modified-id=\"Var-2\"><span class=\"toc-item-num\">2&nbsp;&nbsp;</span>Var</a></span></li><li><span><a href=\"#Init\" data-toc-modified-id=\"Init-3\"><span class=\"toc-item-num\">3&nbsp;&nbsp;</span>Init</a></span></li><li><span><a href=\"#DeepMAsED-sm-run\" data-toc-modified-id=\"DeepMAsED-sm-run-4\"><span class=\"toc-item-num\">4&nbsp;&nbsp;</span>DeepMAsED-sm run</a></span><ul class=\"toc-item\"><li><span><a href=\"#Config\" data-toc-modified-id=\"Config-4.1\"><span class=\"toc-item-num\">4.1&nbsp;&nbsp;</span>Config</a></span></li><li><span><a href=\"#Run\" data-toc-modified-id=\"Run-4.2\"><span class=\"toc-item-num\">4.2&nbsp;&nbsp;</span>Run</a></span></li><li><span><a href=\"#Summary\" data-toc-modified-id=\"Summary-4.3\"><span class=\"toc-item-num\">4.3&nbsp;&nbsp;</span>Summary</a></span></li></ul></li></ul></div>"
   ]
  },
  {
   "cell_type": "markdown",
   "metadata": {},
   "source": [
    "# Goal\n",
    "\n",
    "* Creating simulation metagenome assembly datasets from reference genomes not used for initial training/testing of deepmased"
   ]
  },
  {
   "cell_type": "markdown",
   "metadata": {},
   "source": [
    "# Var"
   ]
  },
  {
   "cell_type": "code",
   "execution_count": 1,
   "metadata": {
    "ExecuteTime": {
     "end_time": "2020-10-08T17:19:57.076145Z",
     "start_time": "2020-10-08T17:19:57.017Z"
    }
   },
   "outputs": [],
   "source": [
    "work_dir = '/ebio/abt3_projects/databases_no-backup/DeepMAsED/version2/deepmased-sm/GTDBr95_r10_novel-family/'\n",
    "\n",
    "# genomes selected in http://127.0.0.1:9706/notebooks/version2/deepmased/notebooks/06_version2/01_simulation_datasets/01_selecting_ref_genomes/02_GTDBr95_validation.ipynb\n",
    "ref_genomes_file = '/ebio/abt3_projects/databases_no-backup/DeepMAsED/version2/ref_genomes/GTDBr95/metadata_quality_novel-family_wGen_final.tsv'"
   ]
  },
  {
   "cell_type": "markdown",
   "metadata": {},
   "source": [
    "# Init"
   ]
  },
  {
   "cell_type": "code",
   "execution_count": 2,
   "metadata": {
    "ExecuteTime": {
     "end_time": "2020-10-08T17:19:57.858051Z",
     "start_time": "2020-10-08T17:19:57.806Z"
    }
   },
   "outputs": [
    {
     "name": "stderr",
     "output_type": "stream",
     "text": [
      "\n",
      "Attaching package: ‘dplyr’\n",
      "\n",
      "\n",
      "The following objects are masked from ‘package:stats’:\n",
      "\n",
      "    filter, lag\n",
      "\n",
      "\n",
      "The following objects are masked from ‘package:base’:\n",
      "\n",
      "    intersect, setdiff, setequal, union\n",
      "\n",
      "\n"
     ]
    }
   ],
   "source": [
    "library(dplyr)\n",
    "library(tidyr)\n",
    "library(ggplot2)\n",
    "\n",
    "library(LeyLabRMisc)\n",
    "df.dims()"
   ]
  },
  {
   "cell_type": "code",
   "execution_count": 4,
   "metadata": {
    "ExecuteTime": {
     "end_time": "2020-10-08T17:20:04.620090Z",
     "start_time": "2020-10-08T17:20:04.574Z"
    }
   },
   "outputs": [
    {
     "name": "stdout",
     "output_type": "stream",
     "text": [
      "Directory already exists: /ebio/abt3_projects/databases_no-backup/DeepMAsED/version2/deepmased-sm/GTDBr95_r10_novel-family/ \n"
     ]
    }
   ],
   "source": [
    "make_dir(work_dir)"
   ]
  },
  {
   "cell_type": "markdown",
   "metadata": {},
   "source": [
    "# DeepMAsED-sm run"
   ]
  },
  {
   "cell_type": "markdown",
   "metadata": {},
   "source": [
    "## Config"
   ]
  },
  {
   "cell_type": "code",
   "execution_count": 5,
   "metadata": {
    "ExecuteTime": {
     "end_time": "2020-10-08T18:05:06.304249Z",
     "start_time": "2020-10-08T18:05:06.255Z"
    }
   },
   "outputs": [
    {
     "name": "stdout",
     "output_type": "stream",
     "text": [
      "# Input table\n",
      "genomes_file: /ebio/abt3_projects/databases_no-backup/DeepMAsED/version2/ref_genomes/GTDBr95/metadata_quality_novel-family_wGen_final.tsv\n",
      "\n",
      "# Output directory\n",
      "output_dir: /ebio/abt3_projects/databases_no-backup/DeepMAsED/version2/deepmased-sm/GTDBr95_r10_novel-family/\n",
      "\n",
      "# Temporary output directory (/dev/shm/ for shared memory)\n",
      "tmp_dir: /ebio/abt3_scratch/\n",
      "\n",
      "# Email for notifications (\"Skip\" to skip)\n",
      "email: nyoungblut@tuebingen.mpg.de\n",
      "\n",
      "# software parameters\n",
      "## Use \"Skip\" to skip  steps. If no params for rule, use \"\"\n",
      "## `reps:` is the number of replicate simulations\n",
      "## param_file is a tsv with columns (richness, read_depth, & rep) that overrides pairwise params\n",
      "## If `keep_reads: True`, then simulated reads are kept\n",
      "params:\n",
      "  ionice: -c 3\n",
      "  # simulating metagenomes\n",
      "  reps: 10\n",
      "  MGSIM:\n",
      "    genome_download: \"\"\n",
      "    community_richness:\n",
      "      - 0.12819\n",
      "      - 0.25641\n",
      "      - 0.51282\n",
      "      - 0.76922\n",
      "    reads: --art-paired --art-mflen 250 --art-sdev 10\n",
      "    read_depth:\n",
      "      - 500000\n",
      "      - 1000000\n",
      "      - 2000000      \n",
      "      - 4000000\n",
      "    param_file: Skip\n",
      "  keep_reads: False\n",
      "  # coverage\n",
      "  nonpareil: -T kmer\n",
      "  nonpareil_summary: 1e9   # this is target seq. depth\n",
      "  # assemblying metagenomes\n",
      "  assemblers:\n",
      "    metaspades: -k auto --only-assembler\n",
      "    megahit: --min-count 3 --min-contig-len 1000 --presets meta-sensitive\n",
      "  # assembly filtering\n",
      "  contig_length_cutoff: 1000       # length in bp \n",
      "  # assessing assembly errors\n",
      "  minimap2: \"\"\n",
      "  metaquast: --max-ref-number 0 --min-contig 1000 --min-identity 95 --extensive-mis-size 100 --no-html --no-plots --no-icarus --no-gc --no-snps --no-sv\n",
      "  # mapping reads to contigs  \n",
      "  samtools: \"\"\n",
      "  keep_bam: False\n",
      "  # creating DL features\n",
      "  make_features: --window 6\n",
      "  # state-of-the-art\n",
      "  ## ALE\n",
      "  ALE: \"\"\n",
      "  ## VALET\n",
      "  VALET: \"\"\n",
      "  \n",
      "# snakemake pipeline\n",
      "pipeline:\n",
      "  snakemake_folder: ./\n",
      "  script_folder: ./bin/scripts/\n",
      "  rnd_seed: 9384"
     ]
    }
   ],
   "source": [
    "cat_file(file.path(work_dir, 'config1.yaml'))"
   ]
  },
  {
   "cell_type": "markdown",
   "metadata": {},
   "source": [
    "## Run"
   ]
  },
  {
   "cell_type": "markdown",
   "metadata": {},
   "source": [
    "```\n",
    "(snakemake) @ rick:/ebio/abt3_projects/DeepMAsED/version2/deepmased/DeepMAsED-SM\n",
    "$ screen -L -S DM-GTDBr95-nov-fam ./snakemake_sge.sh /ebio/abt3_projects/databases_no-backup/DeepMAsED/version2/deepmased-sm/GTDBr95_r10_novel-family/config1.yaml 40 -F\n",
    "```"
   ]
  },
  {
   "cell_type": "markdown",
   "metadata": {},
   "source": [
    "## Summary"
   ]
  },
  {
   "cell_type": "code",
   "execution_count": 6,
   "metadata": {},
   "outputs": [
    {
     "data": {
      "text/html": [
       "320"
      ],
      "text/latex": [
       "320"
      ],
      "text/markdown": [
       "320"
      ],
      "text/plain": [
       "[1] 320"
      ]
     },
     "metadata": {},
     "output_type": "display_data"
    },
    {
     "data": {
      "text/html": [
       "<style>\n",
       ".list-inline {list-style: none; margin:0; padding: 0}\n",
       ".list-inline>li {display: inline-block}\n",
       ".list-inline>li:not(:last-child)::after {content: \"\\00b7\"; padding: 0 .5ex}\n",
       "</style>\n",
       "<ol class=list-inline><li>'/ebio/abt3_projects/databases_no-backup/DeepMAsED/version2/deepmased-sm/GTDBr95_r10_novel-family//features/0.12819/1/1000000/megahit/features.tsv.gz'</li><li>'/ebio/abt3_projects/databases_no-backup/DeepMAsED/version2/deepmased-sm/GTDBr95_r10_novel-family//features/0.12819/1/1000000/metaspades/features.tsv.gz'</li><li>'/ebio/abt3_projects/databases_no-backup/DeepMAsED/version2/deepmased-sm/GTDBr95_r10_novel-family//features/0.12819/1/2000000/megahit/features.tsv.gz'</li></ol>\n"
      ],
      "text/latex": [
       "\\begin{enumerate*}\n",
       "\\item '/ebio/abt3\\_projects/databases\\_no-backup/DeepMAsED/version2/deepmased-sm/GTDBr95\\_r10\\_novel-family//features/0.12819/1/1000000/megahit/features.tsv.gz'\n",
       "\\item '/ebio/abt3\\_projects/databases\\_no-backup/DeepMAsED/version2/deepmased-sm/GTDBr95\\_r10\\_novel-family//features/0.12819/1/1000000/metaspades/features.tsv.gz'\n",
       "\\item '/ebio/abt3\\_projects/databases\\_no-backup/DeepMAsED/version2/deepmased-sm/GTDBr95\\_r10\\_novel-family//features/0.12819/1/2000000/megahit/features.tsv.gz'\n",
       "\\end{enumerate*}\n"
      ],
      "text/markdown": [
       "1. '/ebio/abt3_projects/databases_no-backup/DeepMAsED/version2/deepmased-sm/GTDBr95_r10_novel-family//features/0.12819/1/1000000/megahit/features.tsv.gz'\n",
       "2. '/ebio/abt3_projects/databases_no-backup/DeepMAsED/version2/deepmased-sm/GTDBr95_r10_novel-family//features/0.12819/1/1000000/metaspades/features.tsv.gz'\n",
       "3. '/ebio/abt3_projects/databases_no-backup/DeepMAsED/version2/deepmased-sm/GTDBr95_r10_novel-family//features/0.12819/1/2000000/megahit/features.tsv.gz'\n",
       "\n",
       "\n"
      ],
      "text/plain": [
       "[1] \"/ebio/abt3_projects/databases_no-backup/DeepMAsED/version2/deepmased-sm/GTDBr95_r10_novel-family//features/0.12819/1/1000000/megahit/features.tsv.gz\"   \n",
       "[2] \"/ebio/abt3_projects/databases_no-backup/DeepMAsED/version2/deepmased-sm/GTDBr95_r10_novel-family//features/0.12819/1/1000000/metaspades/features.tsv.gz\"\n",
       "[3] \"/ebio/abt3_projects/databases_no-backup/DeepMAsED/version2/deepmased-sm/GTDBr95_r10_novel-family//features/0.12819/1/2000000/megahit/features.tsv.gz\"   "
      ]
     },
     "metadata": {},
     "output_type": "display_data"
    }
   ],
   "source": [
    "P = file.path(work_dir, 'features')\n",
    "feat_files = list_files(P, 'features.tsv.gz')\n",
    "feat_files %>% length\n",
    "feat_files %>% head(n=3)"
   ]
  },
  {
   "cell_type": "markdown",
   "metadata": {},
   "source": [
    "# sessionInfo"
   ]
  },
  {
   "cell_type": "code",
   "execution_count": 7,
   "metadata": {},
   "outputs": [
    {
     "data": {
      "text/plain": [
       "R version 3.6.3 (2020-02-29)\n",
       "Platform: x86_64-conda_cos6-linux-gnu (64-bit)\n",
       "Running under: Ubuntu 18.04.5 LTS\n",
       "\n",
       "Matrix products: default\n",
       "BLAS/LAPACK: /ebio/abt3_projects/Georg_animal_feces/envs/tidyverse/lib/libopenblasp-r0.3.9.so\n",
       "\n",
       "locale:\n",
       " [1] LC_CTYPE=en_US.UTF-8       LC_NUMERIC=C              \n",
       " [3] LC_TIME=en_US.UTF-8        LC_COLLATE=en_US.UTF-8    \n",
       " [5] LC_MONETARY=en_US.UTF-8    LC_MESSAGES=en_US.UTF-8   \n",
       " [7] LC_PAPER=en_US.UTF-8       LC_NAME=C                 \n",
       " [9] LC_ADDRESS=C               LC_TELEPHONE=C            \n",
       "[11] LC_MEASUREMENT=en_US.UTF-8 LC_IDENTIFICATION=C       \n",
       "\n",
       "attached base packages:\n",
       "[1] stats     graphics  grDevices utils     datasets  methods   base     \n",
       "\n",
       "other attached packages:\n",
       "[1] LeyLabRMisc_0.1.6 ggplot2_3.3.1     tidyr_1.1.0       dplyr_1.0.0      \n",
       "\n",
       "loaded via a namespace (and not attached):\n",
       " [1] Rcpp_1.0.4.6     magrittr_1.5     munsell_0.5.0    tidyselect_1.1.0\n",
       " [5] uuid_0.1-4       colorspace_1.4-1 R6_2.4.1         rlang_0.4.6     \n",
       " [9] tools_3.6.3      grid_3.6.3       gtable_0.3.0     withr_2.2.0     \n",
       "[13] htmltools_0.4.0  ellipsis_0.3.1   digest_0.6.25    tibble_3.0.1    \n",
       "[17] lifecycle_0.2.0  crayon_1.3.4     IRdisplay_0.7.0  purrr_0.3.4     \n",
       "[21] repr_1.1.0       base64enc_0.1-3  vctrs_0.3.1      IRkernel_1.1    \n",
       "[25] glue_1.4.1       evaluate_0.14    pbdZMQ_0.3-3     compiler_3.6.3  \n",
       "[29] pillar_1.4.4     scales_1.1.1     generics_0.0.2   jsonlite_1.6.1  \n",
       "[33] pkgconfig_2.0.3 "
      ]
     },
     "metadata": {},
     "output_type": "display_data"
    }
   ],
   "source": [
    "sessionInfo()"
   ]
  },
  {
   "cell_type": "code",
   "execution_count": null,
   "metadata": {},
   "outputs": [],
   "source": []
  }
 ],
 "metadata": {
  "kernelspec": {
   "display_name": "R [conda env:Georg_animal_feces-tidyverse]",
   "language": "R",
   "name": "conda-env-Georg_animal_feces-tidyverse-r"
  },
  "language_info": {
   "codemirror_mode": "r",
   "file_extension": ".r",
   "mimetype": "text/x-r-source",
   "name": "R",
   "pygments_lexer": "r",
   "version": "3.6.3"
  },
  "notify_time": "30",
  "toc": {
   "base_numbering": 1,
   "nav_menu": {},
   "number_sections": true,
   "sideBar": true,
   "skip_h1_title": false,
   "title_cell": "Table of Contents",
   "title_sidebar": "Contents",
   "toc_cell": true,
   "toc_position": {},
   "toc_section_display": true,
   "toc_window_display": true
  }
 },
 "nbformat": 4,
 "nbformat_minor": 4
}
