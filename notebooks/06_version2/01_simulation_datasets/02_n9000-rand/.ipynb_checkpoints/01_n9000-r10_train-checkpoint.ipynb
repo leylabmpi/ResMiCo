{
 "cells": [
  {
   "cell_type": "markdown",
   "metadata": {
    "toc": true
   },
   "source": [
    "<h1>Table of Contents<span class=\"tocSkip\"></span></h1>\n",
    "<div class=\"toc\"><ul class=\"toc-item\"><li><span><a href=\"#Goal\" data-toc-modified-id=\"Goal-1\"><span class=\"toc-item-num\">1&nbsp;&nbsp;</span>Goal</a></span></li><li><span><a href=\"#Var\" data-toc-modified-id=\"Var-2\"><span class=\"toc-item-num\">2&nbsp;&nbsp;</span>Var</a></span></li><li><span><a href=\"#Init\" data-toc-modified-id=\"Init-3\"><span class=\"toc-item-num\">3&nbsp;&nbsp;</span>Init</a></span></li><li><span><a href=\"#DeepMAsED-SM-run\" data-toc-modified-id=\"DeepMAsED-SM-run-4\"><span class=\"toc-item-num\">4&nbsp;&nbsp;</span>DeepMAsED-SM run</a></span><ul class=\"toc-item\"><li><span><a href=\"#Config\" data-toc-modified-id=\"Config-4.1\"><span class=\"toc-item-num\">4.1&nbsp;&nbsp;</span>Config</a></span></li><li><span><a href=\"#Run\" data-toc-modified-id=\"Run-4.2\"><span class=\"toc-item-num\">4.2&nbsp;&nbsp;</span>Run</a></span></li><li><span><a href=\"#Summary\" data-toc-modified-id=\"Summary-4.3\"><span class=\"toc-item-num\">4.3&nbsp;&nbsp;</span>Summary</a></span></li></ul></li><li><span><a href=\"#DeepMAsED-SM-run2\" data-toc-modified-id=\"DeepMAsED-SM-run2-5\"><span class=\"toc-item-num\">5&nbsp;&nbsp;</span>DeepMAsED-SM run2</a></span><ul class=\"toc-item\"><li><span><a href=\"#Config\" data-toc-modified-id=\"Config-5.1\"><span class=\"toc-item-num\">5.1&nbsp;&nbsp;</span>Config</a></span></li><li><span><a href=\"#Run\" data-toc-modified-id=\"Run-5.2\"><span class=\"toc-item-num\">5.2&nbsp;&nbsp;</span>Run</a></span></li><li><span><a href=\"#Summary\" data-toc-modified-id=\"Summary-5.3\"><span class=\"toc-item-num\">5.3&nbsp;&nbsp;</span>Summary</a></span></li></ul></li><li><span><a href=\"#DeepMAsED-SM-run3\" data-toc-modified-id=\"DeepMAsED-SM-run3-6\"><span class=\"toc-item-num\">6&nbsp;&nbsp;</span>DeepMAsED-SM run3</a></span><ul class=\"toc-item\"><li><span><a href=\"#Config\" data-toc-modified-id=\"Config-6.1\"><span class=\"toc-item-num\">6.1&nbsp;&nbsp;</span>Config</a></span></li><li><span><a href=\"#Run\" data-toc-modified-id=\"Run-6.2\"><span class=\"toc-item-num\">6.2&nbsp;&nbsp;</span>Run</a></span></li><li><span><a href=\"#Summary\" data-toc-modified-id=\"Summary-6.3\"><span class=\"toc-item-num\">6.3&nbsp;&nbsp;</span>Summary</a></span></li></ul></li><li><span><a href=\"#Creating-the-final-file-of-all-feature-table\" data-toc-modified-id=\"Creating-the-final-file-of-all-feature-table-7\"><span class=\"toc-item-num\">7&nbsp;&nbsp;</span>Creating the final file of all feature table</a></span></li><li><span><a href=\"#sessionInfo\" data-toc-modified-id=\"sessionInfo-8\"><span class=\"toc-item-num\">8&nbsp;&nbsp;</span>sessionInfo</a></span></li><li><span><a href=\"#--debug--\" data-toc-modified-id=\"--debug---9\"><span class=\"toc-item-num\">9&nbsp;&nbsp;</span>--debug--</a></span></li></ul></div>"
   ]
  },
  {
   "cell_type": "markdown",
   "metadata": {},
   "source": [
    "# Goal\n",
    "\n",
    "* Simulation run with 9k training ref genomes\n",
    "* 10 reps per parameter set"
   ]
  },
  {
   "cell_type": "markdown",
   "metadata": {},
   "source": [
    "# Var"
   ]
  },
  {
   "cell_type": "code",
   "execution_count": 2,
   "metadata": {
    "ExecuteTime": {
     "end_time": "2020-07-09T18:07:55.711151Z",
     "start_time": "2020-07-09T18:07:53.804Z"
    }
   },
   "outputs": [],
   "source": [
    "work_dir = '/ebio/abt3_projects/databases_no-backup/DeepMAsED/version2/deepmased-sm/n9000-rand_r10/train/'\n",
    "\n",
    "ref_genomes_file = '/ebio/abt3_projects/databases_no-backup/DeepMAsED/version2/ref_genomes/GTDBr89/metadata_n9000-rand_train.tsv'"
   ]
  },
  {
   "cell_type": "markdown",
   "metadata": {},
   "source": [
    "# Init"
   ]
  },
  {
   "cell_type": "code",
   "execution_count": 3,
   "metadata": {
    "ExecuteTime": {
     "end_time": "2020-07-09T18:07:59.195350Z",
     "start_time": "2020-07-09T18:07:54.043Z"
    }
   },
   "outputs": [
    {
     "name": "stderr",
     "output_type": "stream",
     "text": [
      "\n",
      "Attaching package: ‘dplyr’\n",
      "\n",
      "\n",
      "The following objects are masked from ‘package:stats’:\n",
      "\n",
      "    filter, lag\n",
      "\n",
      "\n",
      "The following objects are masked from ‘package:base’:\n",
      "\n",
      "    intersect, setdiff, setequal, union\n",
      "\n",
      "\n"
     ]
    }
   ],
   "source": [
    "library(dplyr)\n",
    "library(tidyr)\n",
    "library(ggplot2)\n",
    "library(LeyLabRMisc)"
   ]
  },
  {
   "cell_type": "code",
   "execution_count": 4,
   "metadata": {
    "ExecuteTime": {
     "end_time": "2020-07-09T18:07:59.198514Z",
     "start_time": "2020-07-09T18:07:54.163Z"
    }
   },
   "outputs": [],
   "source": [
    "df.dims()"
   ]
  },
  {
   "cell_type": "markdown",
   "metadata": {},
   "source": [
    "# DeepMAsED-SM run"
   ]
  },
  {
   "cell_type": "markdown",
   "metadata": {},
   "source": [
    "## Config"
   ]
  },
  {
   "cell_type": "code",
   "execution_count": 4,
   "metadata": {
    "ExecuteTime": {
     "end_time": "2020-05-30T11:56:41.837236Z",
     "start_time": "2020-05-30T11:56:41.779Z"
    }
   },
   "outputs": [
    {
     "name": "stdout",
     "output_type": "stream",
     "text": [
      "# Input table\n",
      "genomes_file: /ebio/abt3_projects/databases_no-backup/DeepMAsED/version2/ref_genomes/GTDBr89/metadata_n9000-rand_train.tsv\n",
      "\n",
      "# Output directory\n",
      "output_dir: /ebio/abt3_projects/databases_no-backup/DeepMAsED/version2/deepmased-sm/n9000-rand_r10/train/\n",
      "\n",
      "# Temporary output directory (/dev/shm/ for shared memory)\n",
      "tmp_dir: /ebio/abt3_scratch/\n",
      "\n",
      "# Email for notifications (\"Skip\" to skip)\n",
      "email: nyoungblut@tuebingen.mpg.de\n",
      "\n",
      "# software parameters\n",
      "## Use \"Skip\" to skip  steps. If no params for rule, use \"\"\n",
      "## `reps:` is the number of replicate simulations\n",
      "## If `keep_reads: True`, then simulated reads are kept\n",
      "params:\n",
      "  ionice: -c 3\n",
      "  # simulating metagenomes\n",
      "  reps: 10\n",
      "  MGSIM:\n",
      "    genome_download: \"\"\n",
      "    community_richness:\n",
      "      - 0.055555\n",
      "      - 0.111111\n",
      "      - 0.222222\n",
      "    reads: --art-paired --art-mflen 250 --art-sdev 10\n",
      "    read_depth:\n",
      "      - 500000\n",
      "      - 1000000\n",
      "      - 2000000\n",
      "  keep_reads: False\n",
      "  # coverage\n",
      "  nonpareil: -T kmer\n",
      "  nonpareil_summary: 1e9   # this is target seq. depth\n",
      "  # assemblying metagenomes\n",
      "  assemblers:\n",
      "    metaspades: -k auto --only-assembler\n",
      "    megahit: --min-count 3 --min-contig-len 1000 --presets meta-sensitive\n",
      "  # assembly filtering\n",
      "  contig_length_cutoff: 1000       # length in bp \n",
      "  # assessing assembly errors\n",
      "  minimap2: \"\"\n",
      "  metaquast: --max-ref-number 0 --min-contig 1000 --min-identity 95 --extensive-mis-size 100 --no-html --no-plots --no-icarus --no-gc --no-snps --no-sv\n",
      "  # mapping reads to contigs  \n",
      "  samtools: \"\"\n",
      "  keep_bam: False\n",
      "  # creating DL features\n",
      "  make_features: --window 6\n",
      "  # state-of-the-art\n",
      "  ## ALE\n",
      "  ALE: \"\"\n",
      "  ## VALET\n",
      "  VALET: \"\"\n",
      "  \n",
      "# snakemake pipeline\n",
      "pipeline:\n",
      "  snakemake_folder: ./\n",
      "  script_folder: ./bin/scripts/\n",
      "  rnd_seed: 9384"
     ]
    }
   ],
   "source": [
    "cat_file(file.path(work_dir, 'config.yaml'))"
   ]
  },
  {
   "cell_type": "markdown",
   "metadata": {},
   "source": [
    "## Run"
   ]
  },
  {
   "cell_type": "markdown",
   "metadata": {},
   "source": [
    "```\n",
    "(snakemake) @ rick:/ebio/abt3_projects/DeepMAsED/version2/deepmased/DeepMAsED-SM\n",
    "$ screen -L -S DM-SM-n9k-r10 ./snakemake_sge.sh /ebio/abt3_projects/databases_no-backup/DeepMAsED/version2/deepmased-sm/n9000-rand_r10/train/config.yaml 20\n",
    "```"
   ]
  },
  {
   "cell_type": "markdown",
   "metadata": {},
   "source": [
    "## Summary"
   ]
  },
  {
   "cell_type": "code",
   "execution_count": 54,
   "metadata": {
    "ExecuteTime": {
     "end_time": "2020-06-04T09:53:07.120547Z",
     "start_time": "2020-06-04T09:53:07.012Z"
    }
   },
   "outputs": [
    {
     "data": {
      "text/html": [
       "180"
      ],
      "text/latex": [
       "180"
      ],
      "text/markdown": [
       "180"
      ],
      "text/plain": [
       "[1] 180"
      ]
     },
     "metadata": {},
     "output_type": "display_data"
    },
    {
     "data": {
      "text/html": [
       "<ol class=list-inline>\n",
       "\t<li>'/ebio/abt3_projects/databases_no-backup/DeepMAsED/version2/deepmased-sm/n9000-rand_r10/train//features/0.055555/1/1000000/megahit/features.tsv.gz'</li>\n",
       "\t<li>'/ebio/abt3_projects/databases_no-backup/DeepMAsED/version2/deepmased-sm/n9000-rand_r10/train//features/0.055555/1/1000000/metaspades/features.tsv.gz'</li>\n",
       "\t<li>'/ebio/abt3_projects/databases_no-backup/DeepMAsED/version2/deepmased-sm/n9000-rand_r10/train//features/0.055555/1/2000000/megahit/features.tsv.gz'</li>\n",
       "</ol>\n"
      ],
      "text/latex": [
       "\\begin{enumerate*}\n",
       "\\item '/ebio/abt3\\_projects/databases\\_no-backup/DeepMAsED/version2/deepmased-sm/n9000-rand\\_r10/train//features/0.055555/1/1000000/megahit/features.tsv.gz'\n",
       "\\item '/ebio/abt3\\_projects/databases\\_no-backup/DeepMAsED/version2/deepmased-sm/n9000-rand\\_r10/train//features/0.055555/1/1000000/metaspades/features.tsv.gz'\n",
       "\\item '/ebio/abt3\\_projects/databases\\_no-backup/DeepMAsED/version2/deepmased-sm/n9000-rand\\_r10/train//features/0.055555/1/2000000/megahit/features.tsv.gz'\n",
       "\\end{enumerate*}\n"
      ],
      "text/markdown": [
       "1. '/ebio/abt3_projects/databases_no-backup/DeepMAsED/version2/deepmased-sm/n9000-rand_r10/train//features/0.055555/1/1000000/megahit/features.tsv.gz'\n",
       "2. '/ebio/abt3_projects/databases_no-backup/DeepMAsED/version2/deepmased-sm/n9000-rand_r10/train//features/0.055555/1/1000000/metaspades/features.tsv.gz'\n",
       "3. '/ebio/abt3_projects/databases_no-backup/DeepMAsED/version2/deepmased-sm/n9000-rand_r10/train//features/0.055555/1/2000000/megahit/features.tsv.gz'\n",
       "\n",
       "\n"
      ],
      "text/plain": [
       "[1] \"/ebio/abt3_projects/databases_no-backup/DeepMAsED/version2/deepmased-sm/n9000-rand_r10/train//features/0.055555/1/1000000/megahit/features.tsv.gz\"   \n",
       "[2] \"/ebio/abt3_projects/databases_no-backup/DeepMAsED/version2/deepmased-sm/n9000-rand_r10/train//features/0.055555/1/1000000/metaspades/features.tsv.gz\"\n",
       "[3] \"/ebio/abt3_projects/databases_no-backup/DeepMAsED/version2/deepmased-sm/n9000-rand_r10/train//features/0.055555/1/2000000/megahit/features.tsv.gz\"   "
      ]
     },
     "metadata": {},
     "output_type": "display_data"
    }
   ],
   "source": [
    "P = file.path(work_dir, 'features')\n",
    "feat_files = list_files(P, 'features.tsv.gz')\n",
    "feat_files %>% length\n",
    "feat_files %>% head(n=3)"
   ]
  },
  {
   "cell_type": "markdown",
   "metadata": {},
   "source": [
    "# DeepMAsED-SM run2\n",
    "\n",
    "* More simulation parameters"
   ]
  },
  {
   "cell_type": "markdown",
   "metadata": {},
   "source": [
    "## Config"
   ]
  },
  {
   "cell_type": "code",
   "execution_count": 56,
   "metadata": {
    "ExecuteTime": {
     "end_time": "2020-06-08T06:30:52.919485Z",
     "start_time": "2020-06-08T06:30:52.878Z"
    }
   },
   "outputs": [
    {
     "name": "stdout",
     "output_type": "stream",
     "text": [
      "# Input table\n",
      "genomes_file: /ebio/abt3_projects/databases_no-backup/DeepMAsED/version2/ref_genomes/GTDBr89/metadata_n9000-rand_train.tsv\n",
      "\n",
      "# Output directory\n",
      "output_dir: /ebio/abt3_projects/databases_no-backup/DeepMAsED/version2/deepmased-sm/n9000-rand_r10/train/\n",
      "\n",
      "# Temporary output directory (/dev/shm/ for shared memory)\n",
      "tmp_dir: /ebio/abt3_scratch/\n",
      "\n",
      "# Email for notifications (\"Skip\" to skip)\n",
      "email: nyoungblut@tuebingen.mpg.de\n",
      "\n",
      "# software parameters\n",
      "## Use \"Skip\" to skip  steps. If no params for rule, use \"\"\n",
      "## `reps:` is the number of replicate simulations\n",
      "## param_file is a tsv with columns (richness, read_depth, & rep) that overrides pairwise params\n",
      "## If `keep_reads: True`, then simulated reads are kept\n",
      "params:\n",
      "  ionice: -c 3\n",
      "  # simulating metagenomes\n",
      "  reps: 10\n",
      "  MGSIM:\n",
      "    genome_download: \"\"\n",
      "    community_richness:\n",
      "      - 0.055555\n",
      "      - 0.111111\n",
      "      - 0.222222\n",
      "    reads: --art-paired --art-mflen 250 --art-sdev 10\n",
      "    read_depth:\n",
      "      - 4000000\n",
      "    param_file: Skip #/ebio/abt3_projects/databases_no-backup/DeepMAsED/version2/deepmased-sm/n9000-rand_r10/train/to_do.tsv\n",
      "  keep_reads: False\n",
      "  # coverage\n",
      "  nonpareil: -T kmer\n",
      "  nonpareil_summary: 1e9   # this is target seq. depth\n",
      "  # assemblying metagenomes\n",
      "  assemblers:\n",
      "    metaspades: -k auto --only-assembler\n",
      "    megahit: --min-count 3 --min-contig-len 1000 --presets meta-sensitive\n",
      "  # assembly filtering\n",
      "  contig_length_cutoff: 1000       # length in bp \n",
      "  # assessing assembly errors\n",
      "  minimap2: \"\"\n",
      "  metaquast: --max-ref-number 0 --min-contig 1000 --min-identity 95 --extensive-mis-size 100 --no-html --no-plots --no-icarus --no-gc --no-snps --no-sv\n",
      "  # mapping reads to contigs  \n",
      "  samtools: \"\"\n",
      "  keep_bam: False\n",
      "  # creating DL features\n",
      "  make_features: --window 6\n",
      "  # state-of-the-art\n",
      "  ## ALE\n",
      "  ALE: \"\"\n",
      "  ## VALET\n",
      "  VALET: \"\"\n",
      "  \n",
      "# snakemake pipeline\n",
      "pipeline:\n",
      "  snakemake_folder: ./\n",
      "  script_folder: ./bin/scripts/\n",
      "  rnd_seed: 9384"
     ]
    }
   ],
   "source": [
    "cat_file(file.path(work_dir, 'config_r2.yaml'))"
   ]
  },
  {
   "cell_type": "markdown",
   "metadata": {},
   "source": [
    "## Run"
   ]
  },
  {
   "cell_type": "markdown",
   "metadata": {},
   "source": [
    "```\n",
    "(snakemake) @ rick:/ebio/abt3_projects/DeepMAsED/version2/deepmased/DeepMAsED-SM\n",
    "$ screen -L -S DM-SM-n9k-r10 ./snakemake_sge.sh /ebio/abt3_projects/databases_no-backup/DeepMAsED/version2/deepmased-sm/n9000-rand_r10/train/config_r2.yaml 30\n",
    "```"
   ]
  },
  {
   "cell_type": "markdown",
   "metadata": {},
   "source": [
    "## Summary"
   ]
  },
  {
   "cell_type": "code",
   "execution_count": 57,
   "metadata": {
    "ExecuteTime": {
     "end_time": "2020-06-10T07:00:15.725504Z",
     "start_time": "2020-06-10T07:00:15.356Z"
    }
   },
   "outputs": [
    {
     "data": {
      "text/html": [
       "240"
      ],
      "text/latex": [
       "240"
      ],
      "text/markdown": [
       "240"
      ],
      "text/plain": [
       "[1] 240"
      ]
     },
     "metadata": {},
     "output_type": "display_data"
    },
    {
     "data": {
      "text/html": [
       "<ol class=list-inline>\n",
       "\t<li>'/ebio/abt3_projects/databases_no-backup/DeepMAsED/version2/deepmased-sm/n9000-rand_r10/train//features/0.055555/1/1000000/megahit/features.tsv.gz'</li>\n",
       "\t<li>'/ebio/abt3_projects/databases_no-backup/DeepMAsED/version2/deepmased-sm/n9000-rand_r10/train//features/0.055555/1/1000000/metaspades/features.tsv.gz'</li>\n",
       "\t<li>'/ebio/abt3_projects/databases_no-backup/DeepMAsED/version2/deepmased-sm/n9000-rand_r10/train//features/0.055555/1/2000000/megahit/features.tsv.gz'</li>\n",
       "</ol>\n"
      ],
      "text/latex": [
       "\\begin{enumerate*}\n",
       "\\item '/ebio/abt3\\_projects/databases\\_no-backup/DeepMAsED/version2/deepmased-sm/n9000-rand\\_r10/train//features/0.055555/1/1000000/megahit/features.tsv.gz'\n",
       "\\item '/ebio/abt3\\_projects/databases\\_no-backup/DeepMAsED/version2/deepmased-sm/n9000-rand\\_r10/train//features/0.055555/1/1000000/metaspades/features.tsv.gz'\n",
       "\\item '/ebio/abt3\\_projects/databases\\_no-backup/DeepMAsED/version2/deepmased-sm/n9000-rand\\_r10/train//features/0.055555/1/2000000/megahit/features.tsv.gz'\n",
       "\\end{enumerate*}\n"
      ],
      "text/markdown": [
       "1. '/ebio/abt3_projects/databases_no-backup/DeepMAsED/version2/deepmased-sm/n9000-rand_r10/train//features/0.055555/1/1000000/megahit/features.tsv.gz'\n",
       "2. '/ebio/abt3_projects/databases_no-backup/DeepMAsED/version2/deepmased-sm/n9000-rand_r10/train//features/0.055555/1/1000000/metaspades/features.tsv.gz'\n",
       "3. '/ebio/abt3_projects/databases_no-backup/DeepMAsED/version2/deepmased-sm/n9000-rand_r10/train//features/0.055555/1/2000000/megahit/features.tsv.gz'\n",
       "\n",
       "\n"
      ],
      "text/plain": [
       "[1] \"/ebio/abt3_projects/databases_no-backup/DeepMAsED/version2/deepmased-sm/n9000-rand_r10/train//features/0.055555/1/1000000/megahit/features.tsv.gz\"   \n",
       "[2] \"/ebio/abt3_projects/databases_no-backup/DeepMAsED/version2/deepmased-sm/n9000-rand_r10/train//features/0.055555/1/1000000/metaspades/features.tsv.gz\"\n",
       "[3] \"/ebio/abt3_projects/databases_no-backup/DeepMAsED/version2/deepmased-sm/n9000-rand_r10/train//features/0.055555/1/2000000/megahit/features.tsv.gz\"   "
      ]
     },
     "metadata": {},
     "output_type": "display_data"
    }
   ],
   "source": [
    "P = file.path(work_dir, 'features')\n",
    "feat_files = list_files(P, 'features.tsv.gz')\n",
    "feat_files %>% length\n",
    "feat_files %>% head(n=3)"
   ]
  },
  {
   "cell_type": "markdown",
   "metadata": {},
   "source": [
    "# DeepMAsED-SM run3\n",
    "\n",
    "* Adding more parameters to the simulation run"
   ]
  },
  {
   "cell_type": "markdown",
   "metadata": {},
   "source": [
    "## Config"
   ]
  },
  {
   "cell_type": "code",
   "execution_count": 58,
   "metadata": {
    "ExecuteTime": {
     "end_time": "2020-06-22T06:26:58.685160Z",
     "start_time": "2020-06-22T06:26:58.477Z"
    }
   },
   "outputs": [
    {
     "name": "stdout",
     "output_type": "stream",
     "text": [
      "# Input table\n",
      "genomes_file: /ebio/abt3_projects/databases_no-backup/DeepMAsED/version2/ref_genomes/GTDBr89/metadata_n9000-rand_train.tsv\n",
      "\n",
      "# Output directory\n",
      "output_dir: /ebio/abt3_projects/databases_no-backup/DeepMAsED/version2/deepmased-sm/n9000-rand_r10/train/\n",
      "\n",
      "# Temporary output directory (/dev/shm/ for shared memory)\n",
      "tmp_dir: /ebio/abt3_scratch/\n",
      "\n",
      "# Email for notifications (\"Skip\" to skip)\n",
      "email: nyoungblut@tuebingen.mpg.de\n",
      "\n",
      "# software parameters\n",
      "## Use \"Skip\" to skip  steps. If no params for rule, use \"\"\n",
      "## `reps:` is the number of replicate simulations\n",
      "## param_file is a tsv with columns (richness, read_depth, & rep) that overrides pairwise params\n",
      "## If `keep_reads: True`, then simulated reads are kept\n",
      "params:\n",
      "  ionice: -c 3\n",
      "  # simulating metagenomes\n",
      "  reps: 10\n",
      "  MGSIM:\n",
      "    genome_download: \"\"\n",
      "    community_richness:\n",
      "      - 0.333333\n",
      "    reads: --art-paired --art-mflen 250 --art-sdev 10\n",
      "    read_depth:\n",
      "      - 500000\n",
      "      - 1000000\n",
      "      - 2000000      \n",
      "      - 4000000\n",
      "    param_file: Skip #/ebio/abt3_projects/databases_no-backup/DeepMAsED/version2/deepmased-sm/n9000-rand_r10/train/to_do.tsv\n",
      "  keep_reads: False\n",
      "  # coverage\n",
      "  nonpareil: -T kmer\n",
      "  nonpareil_summary: 1e9   # this is target seq. depth\n",
      "  # assemblying metagenomes\n",
      "  assemblers:\n",
      "    metaspades: -k auto --only-assembler\n",
      "    megahit: --min-count 3 --min-contig-len 1000 --presets meta-sensitive\n",
      "  # assembly filtering\n",
      "  contig_length_cutoff: 1000       # length in bp \n",
      "  # assessing assembly errors\n",
      "  minimap2: \"\"\n",
      "  metaquast: --max-ref-number 0 --min-contig 1000 --min-identity 95 --extensive-mis-size 100 --no-html --no-plots --no-icarus --no-gc --no-snps --no-sv\n",
      "  # mapping reads to contigs  \n",
      "  samtools: \"\"\n",
      "  keep_bam: False\n",
      "  # creating DL features\n",
      "  make_features: --window 6\n",
      "  # state-of-the-art\n",
      "  ## ALE\n",
      "  ALE: \"\"\n",
      "  ## VALET\n",
      "  VALET: \"\"\n",
      "  \n",
      "# snakemake pipeline\n",
      "pipeline:\n",
      "  snakemake_folder: ./\n",
      "  script_folder: ./bin/scripts/\n",
      "  rnd_seed: 9384"
     ]
    }
   ],
   "source": [
    "cat_file(file.path(work_dir, 'config_r3.yaml'))"
   ]
  },
  {
   "cell_type": "markdown",
   "metadata": {},
   "source": [
    "## Run"
   ]
  },
  {
   "cell_type": "markdown",
   "metadata": {},
   "source": [
    "```\n",
    "(snakemake) @ rick:/ebio/abt3_projects/DeepMAsED/version2/deepmased/DeepMAsED-SM\n",
    "$ screen -L -S DM-SM-n9k-r10 ./snakemake_sge.sh /ebio/abt3_projects/databases_no-backup/DeepMAsED/version2/deepmased-sm/n9000-rand_r10/train/config_r3.yaml 30\n",
    "```"
   ]
  },
  {
   "cell_type": "markdown",
   "metadata": {},
   "source": [
    "## Summary"
   ]
  },
  {
   "cell_type": "code",
   "execution_count": 59,
   "metadata": {
    "ExecuteTime": {
     "end_time": "2020-06-22T06:27:34.381746Z",
     "start_time": "2020-06-22T06:27:34.023Z"
    }
   },
   "outputs": [
    {
     "data": {
      "text/html": [
       "320"
      ],
      "text/latex": [
       "320"
      ],
      "text/markdown": [
       "320"
      ],
      "text/plain": [
       "[1] 320"
      ]
     },
     "metadata": {},
     "output_type": "display_data"
    },
    {
     "data": {
      "text/html": [
       "<ol class=list-inline>\n",
       "\t<li>'/ebio/abt3_projects/databases_no-backup/DeepMAsED/version2/deepmased-sm/n9000-rand_r10/train//features/0.055555/1/1000000/megahit/features.tsv.gz'</li>\n",
       "\t<li>'/ebio/abt3_projects/databases_no-backup/DeepMAsED/version2/deepmased-sm/n9000-rand_r10/train//features/0.055555/1/1000000/metaspades/features.tsv.gz'</li>\n",
       "\t<li>'/ebio/abt3_projects/databases_no-backup/DeepMAsED/version2/deepmased-sm/n9000-rand_r10/train//features/0.055555/1/2000000/megahit/features.tsv.gz'</li>\n",
       "</ol>\n"
      ],
      "text/latex": [
       "\\begin{enumerate*}\n",
       "\\item '/ebio/abt3\\_projects/databases\\_no-backup/DeepMAsED/version2/deepmased-sm/n9000-rand\\_r10/train//features/0.055555/1/1000000/megahit/features.tsv.gz'\n",
       "\\item '/ebio/abt3\\_projects/databases\\_no-backup/DeepMAsED/version2/deepmased-sm/n9000-rand\\_r10/train//features/0.055555/1/1000000/metaspades/features.tsv.gz'\n",
       "\\item '/ebio/abt3\\_projects/databases\\_no-backup/DeepMAsED/version2/deepmased-sm/n9000-rand\\_r10/train//features/0.055555/1/2000000/megahit/features.tsv.gz'\n",
       "\\end{enumerate*}\n"
      ],
      "text/markdown": [
       "1. '/ebio/abt3_projects/databases_no-backup/DeepMAsED/version2/deepmased-sm/n9000-rand_r10/train//features/0.055555/1/1000000/megahit/features.tsv.gz'\n",
       "2. '/ebio/abt3_projects/databases_no-backup/DeepMAsED/version2/deepmased-sm/n9000-rand_r10/train//features/0.055555/1/1000000/metaspades/features.tsv.gz'\n",
       "3. '/ebio/abt3_projects/databases_no-backup/DeepMAsED/version2/deepmased-sm/n9000-rand_r10/train//features/0.055555/1/2000000/megahit/features.tsv.gz'\n",
       "\n",
       "\n"
      ],
      "text/plain": [
       "[1] \"/ebio/abt3_projects/databases_no-backup/DeepMAsED/version2/deepmased-sm/n9000-rand_r10/train//features/0.055555/1/1000000/megahit/features.tsv.gz\"   \n",
       "[2] \"/ebio/abt3_projects/databases_no-backup/DeepMAsED/version2/deepmased-sm/n9000-rand_r10/train//features/0.055555/1/1000000/metaspades/features.tsv.gz\"\n",
       "[3] \"/ebio/abt3_projects/databases_no-backup/DeepMAsED/version2/deepmased-sm/n9000-rand_r10/train//features/0.055555/1/2000000/megahit/features.tsv.gz\"   "
      ]
     },
     "metadata": {},
     "output_type": "display_data"
    }
   ],
   "source": [
    "P = file.path(work_dir, 'features')\n",
    "feat_files = list_files(P, 'features.tsv.gz')\n",
    "feat_files %>% length\n",
    "feat_files %>% head(n=3)"
   ]
  },
  {
   "cell_type": "markdown",
   "metadata": {},
   "source": [
    "# sessionInfo"
   ]
  },
  {
   "cell_type": "code",
   "execution_count": 55,
   "metadata": {
    "ExecuteTime": {
     "end_time": "2020-06-04T10:06:42.297231Z",
     "start_time": "2020-06-04T10:06:41.251Z"
    }
   },
   "outputs": [
    {
     "data": {
      "text/plain": [
       "R version 3.6.2 (2019-12-12)\n",
       "Platform: x86_64-conda_cos6-linux-gnu (64-bit)\n",
       "Running under: Ubuntu 18.04.4 LTS\n",
       "\n",
       "Matrix products: default\n",
       "BLAS/LAPACK: /ebio/abt3_projects/Georg_animal_feces/envs/tidyverse/lib/libopenblasp-r0.3.7.so\n",
       "\n",
       "locale:\n",
       " [1] LC_CTYPE=en_US.UTF-8       LC_NUMERIC=C              \n",
       " [3] LC_TIME=en_US.UTF-8        LC_COLLATE=en_US.UTF-8    \n",
       " [5] LC_MONETARY=en_US.UTF-8    LC_MESSAGES=en_US.UTF-8   \n",
       " [7] LC_PAPER=en_US.UTF-8       LC_NAME=C                 \n",
       " [9] LC_ADDRESS=C               LC_TELEPHONE=C            \n",
       "[11] LC_MEASUREMENT=en_US.UTF-8 LC_IDENTIFICATION=C       \n",
       "\n",
       "attached base packages:\n",
       "[1] stats     graphics  grDevices utils     datasets  methods   base     \n",
       "\n",
       "other attached packages:\n",
       "[1] LeyLabRMisc_0.1.5 ggplot2_3.2.1     tidyr_1.0.0       dplyr_0.8.3      \n",
       "\n",
       "loaded via a namespace (and not attached):\n",
       " [1] Rcpp_1.0.3       magrittr_1.5     munsell_0.5.0    tidyselect_0.2.5\n",
       " [5] uuid_0.1-2       colorspace_1.4-1 R6_2.4.1         rlang_0.4.2     \n",
       " [9] tools_3.6.2      grid_3.6.2       gtable_0.3.0     withr_2.1.2     \n",
       "[13] ellipsis_0.3.0   htmltools_0.4.0  lazyeval_0.2.2   digest_0.6.23   \n",
       "[17] assertthat_0.2.1 lifecycle_0.1.0  tibble_2.1.3     crayon_1.3.4    \n",
       "[21] IRdisplay_0.7.0  purrr_0.3.3      repr_1.0.2       base64enc_0.1-3 \n",
       "[25] vctrs_0.2.1      IRkernel_1.1     zeallot_0.1.0    glue_1.3.1      \n",
       "[29] evaluate_0.14    stringi_1.4.5    pbdZMQ_0.3-3     compiler_3.6.2  \n",
       "[33] pillar_1.4.3     scales_1.1.0     backports_1.1.5  jsonlite_1.6    \n",
       "[37] pkgconfig_2.0.3 "
      ]
     },
     "metadata": {},
     "output_type": "display_data"
    }
   ],
   "source": [
    "sessionInfo()"
   ]
  },
  {
   "cell_type": "code",
   "execution_count": null,
   "metadata": {},
   "outputs": [],
   "source": []
  },
  {
   "cell_type": "markdown",
   "metadata": {},
   "source": [
    "# --debug--"
   ]
  },
  {
   "cell_type": "code",
   "execution_count": 46,
   "metadata": {
    "ExecuteTime": {
     "end_time": "2020-05-30T12:18:18.653057Z",
     "start_time": "2020-05-30T12:18:18.564Z"
    }
   },
   "outputs": [
    {
     "data": {
      "text/html": [
       "<table>\n",
       "<caption>A data.frame: 89 × 6</caption>\n",
       "<thead>\n",
       "\t<tr><th scope=col>file</th><th scope=col>richness</th><th scope=col>sim_rep</th><th scope=col>read_depth</th><th scope=col>assembler</th><th scope=col>file_name</th></tr>\n",
       "\t<tr><th scope=col>&lt;fct&gt;</th><th scope=col>&lt;chr&gt;</th><th scope=col>&lt;chr&gt;</th><th scope=col>&lt;dbl&gt;</th><th scope=col>&lt;chr&gt;</th><th scope=col>&lt;chr&gt;</th></tr>\n",
       "</thead>\n",
       "<tbody>\n",
       "\t<tr><td>/ebio/abt3_projects/databases_no-backup/DeepMAsED/version2/deepmased-sm/n9000-rand_r10/train//features/0.055555/1/2000000/megahit/features.tsv.gz   </td><td>0.055555</td><td>1</td><td>2e+06</td><td>megahit   </td><td>features.tsv.gz</td></tr>\n",
       "\t<tr><td>/ebio/abt3_projects/databases_no-backup/DeepMAsED/version2/deepmased-sm/n9000-rand_r10/train//features/0.055555/1/2000000/metaspades/features.tsv.gz</td><td>0.055555</td><td>1</td><td>2e+06</td><td>metaspades</td><td>features.tsv.gz</td></tr>\n",
       "\t<tr><td>⋮</td><td>⋮</td><td>⋮</td><td>⋮</td><td>⋮</td><td>⋮</td></tr>\n",
       "\t<tr><td>/ebio/abt3_projects/databases_no-backup/DeepMAsED/version2/deepmased-sm/n9000-rand_r10/train//features/0.222222/9/2000000/metaspades/features.tsv.gz</td><td>0.222222</td><td>9</td><td>2e+06</td><td>metaspades</td><td>features.tsv.gz</td></tr>\n",
       "\t<tr><td>/ebio/abt3_projects/databases_no-backup/DeepMAsED/version2/deepmased-sm/n9000-rand_r10/train//features/0.222222/9/500000/metaspades/features.tsv.gz </td><td>0.222222</td><td>9</td><td>5e+05</td><td>metaspades</td><td>features.tsv.gz</td></tr>\n",
       "</tbody>\n",
       "</table>\n"
      ],
      "text/latex": [
       "A data.frame: 89 × 6\n",
       "\\begin{tabular}{llllll}\n",
       " file & richness & sim\\_rep & read\\_depth & assembler & file\\_name\\\\\n",
       " <fct> & <chr> & <chr> & <dbl> & <chr> & <chr>\\\\\n",
       "\\hline\n",
       "\t /ebio/abt3\\_projects/databases\\_no-backup/DeepMAsED/version2/deepmased-sm/n9000-rand\\_r10/train//features/0.055555/1/2000000/megahit/features.tsv.gz    & 0.055555 & 1 & 2e+06 & megahit    & features.tsv.gz\\\\\n",
       "\t /ebio/abt3\\_projects/databases\\_no-backup/DeepMAsED/version2/deepmased-sm/n9000-rand\\_r10/train//features/0.055555/1/2000000/metaspades/features.tsv.gz & 0.055555 & 1 & 2e+06 & metaspades & features.tsv.gz\\\\\n",
       "\t ⋮ & ⋮ & ⋮ & ⋮ & ⋮ & ⋮\\\\\n",
       "\t /ebio/abt3\\_projects/databases\\_no-backup/DeepMAsED/version2/deepmased-sm/n9000-rand\\_r10/train//features/0.222222/9/2000000/metaspades/features.tsv.gz & 0.222222 & 9 & 2e+06 & metaspades & features.tsv.gz\\\\\n",
       "\t /ebio/abt3\\_projects/databases\\_no-backup/DeepMAsED/version2/deepmased-sm/n9000-rand\\_r10/train//features/0.222222/9/500000/metaspades/features.tsv.gz  & 0.222222 & 9 & 5e+05 & metaspades & features.tsv.gz\\\\\n",
       "\\end{tabular}\n"
      ],
      "text/markdown": [
       "\n",
       "A data.frame: 89 × 6\n",
       "\n",
       "| file &lt;fct&gt; | richness &lt;chr&gt; | sim_rep &lt;chr&gt; | read_depth &lt;dbl&gt; | assembler &lt;chr&gt; | file_name &lt;chr&gt; |\n",
       "|---|---|---|---|---|---|\n",
       "| /ebio/abt3_projects/databases_no-backup/DeepMAsED/version2/deepmased-sm/n9000-rand_r10/train//features/0.055555/1/2000000/megahit/features.tsv.gz    | 0.055555 | 1 | 2e+06 | megahit    | features.tsv.gz |\n",
       "| /ebio/abt3_projects/databases_no-backup/DeepMAsED/version2/deepmased-sm/n9000-rand_r10/train//features/0.055555/1/2000000/metaspades/features.tsv.gz | 0.055555 | 1 | 2e+06 | metaspades | features.tsv.gz |\n",
       "| ⋮ | ⋮ | ⋮ | ⋮ | ⋮ | ⋮ |\n",
       "| /ebio/abt3_projects/databases_no-backup/DeepMAsED/version2/deepmased-sm/n9000-rand_r10/train//features/0.222222/9/2000000/metaspades/features.tsv.gz | 0.222222 | 9 | 2e+06 | metaspades | features.tsv.gz |\n",
       "| /ebio/abt3_projects/databases_no-backup/DeepMAsED/version2/deepmased-sm/n9000-rand_r10/train//features/0.222222/9/500000/metaspades/features.tsv.gz  | 0.222222 | 9 | 5e+05 | metaspades | features.tsv.gz |\n",
       "\n"
      ],
      "text/plain": [
       "   file                                                                                                                                                \n",
       "1  /ebio/abt3_projects/databases_no-backup/DeepMAsED/version2/deepmased-sm/n9000-rand_r10/train//features/0.055555/1/2000000/megahit/features.tsv.gz   \n",
       "2  /ebio/abt3_projects/databases_no-backup/DeepMAsED/version2/deepmased-sm/n9000-rand_r10/train//features/0.055555/1/2000000/metaspades/features.tsv.gz\n",
       "⋮  ⋮                                                                                                                                                   \n",
       "88 /ebio/abt3_projects/databases_no-backup/DeepMAsED/version2/deepmased-sm/n9000-rand_r10/train//features/0.222222/9/2000000/metaspades/features.tsv.gz\n",
       "89 /ebio/abt3_projects/databases_no-backup/DeepMAsED/version2/deepmased-sm/n9000-rand_r10/train//features/0.222222/9/500000/metaspades/features.tsv.gz \n",
       "   richness sim_rep read_depth assembler  file_name      \n",
       "1  0.055555 1       2e+06      megahit    features.tsv.gz\n",
       "2  0.055555 1       2e+06      metaspades features.tsv.gz\n",
       "⋮  ⋮        ⋮       ⋮          ⋮          ⋮              \n",
       "88 0.222222 9       2e+06      metaspades features.tsv.gz\n",
       "89 0.222222 9       5e+05      metaspades features.tsv.gz"
      ]
     },
     "metadata": {},
     "output_type": "display_data"
    }
   ],
   "source": [
    "P = file.path(work_dir, 'features')\n",
    "feat_files = list_files(P, '*.tsv.gz') %>%\n",
    "    as.data.frame\n",
    "colnames(feat_files) = c('file')\n",
    "feat_files = feat_files %>%\n",
    "    mutate(X = gsub('.+train/+features/', '', file)) %>%\n",
    "    separate(X, c('richness', 'sim_rep', 'read_depth', 'assembler', 'file_name'), sep='/') %>%\n",
    "    mutate(read_depth = read_depth %>% as.Num)\n",
    "feat_files"
   ]
  },
  {
   "cell_type": "code",
   "execution_count": 47,
   "metadata": {
    "ExecuteTime": {
     "end_time": "2020-05-30T12:18:20.253161Z",
     "start_time": "2020-05-30T12:18:20.190Z"
    }
   },
   "outputs": [
    {
     "data": {
      "text/html": [
       "<table>\n",
       "<caption>A data.frame: 180 × 4</caption>\n",
       "<thead>\n",
       "\t<tr><th scope=col>richness</th><th scope=col>sim_rep</th><th scope=col>read_depth</th><th scope=col>assembler</th></tr>\n",
       "\t<tr><th scope=col>&lt;fct&gt;</th><th scope=col>&lt;fct&gt;</th><th scope=col>&lt;dbl&gt;</th><th scope=col>&lt;fct&gt;</th></tr>\n",
       "</thead>\n",
       "<tbody>\n",
       "\t<tr><td>0.055555</td><td>1</td><td>5e+05</td><td>metaspades</td></tr>\n",
       "\t<tr><td>0.111111</td><td>1</td><td>5e+05</td><td>metaspades</td></tr>\n",
       "\t<tr><td>⋮</td><td>⋮</td><td>⋮</td><td>⋮</td></tr>\n",
       "\t<tr><td>0.111111</td><td>10</td><td>2e+06</td><td>megahit</td></tr>\n",
       "\t<tr><td>0.222222</td><td>10</td><td>2e+06</td><td>megahit</td></tr>\n",
       "</tbody>\n",
       "</table>\n"
      ],
      "text/latex": [
       "A data.frame: 180 × 4\n",
       "\\begin{tabular}{llll}\n",
       " richness & sim\\_rep & read\\_depth & assembler\\\\\n",
       " <fct> & <fct> & <dbl> & <fct>\\\\\n",
       "\\hline\n",
       "\t 0.055555 & 1 & 5e+05 & metaspades\\\\\n",
       "\t 0.111111 & 1 & 5e+05 & metaspades\\\\\n",
       "\t ⋮ & ⋮ & ⋮ & ⋮\\\\\n",
       "\t 0.111111 & 10 & 2e+06 & megahit\\\\\n",
       "\t 0.222222 & 10 & 2e+06 & megahit\\\\\n",
       "\\end{tabular}\n"
      ],
      "text/markdown": [
       "\n",
       "A data.frame: 180 × 4\n",
       "\n",
       "| richness &lt;fct&gt; | sim_rep &lt;fct&gt; | read_depth &lt;dbl&gt; | assembler &lt;fct&gt; |\n",
       "|---|---|---|---|\n",
       "| 0.055555 | 1 | 5e+05 | metaspades |\n",
       "| 0.111111 | 1 | 5e+05 | metaspades |\n",
       "| ⋮ | ⋮ | ⋮ | ⋮ |\n",
       "| 0.111111 | 10 | 2e+06 | megahit |\n",
       "| 0.222222 | 10 | 2e+06 | megahit |\n",
       "\n"
      ],
      "text/plain": [
       "    richness sim_rep read_depth assembler \n",
       "1   0.055555 1       5e+05      metaspades\n",
       "2   0.111111 1       5e+05      metaspades\n",
       "⋮   ⋮        ⋮       ⋮          ⋮         \n",
       "179 0.111111 10      2e+06      megahit   \n",
       "180 0.222222 10      2e+06      megahit   "
      ]
     },
     "metadata": {},
     "output_type": "display_data"
    }
   ],
   "source": [
    "richness = c(0.055555, 0.111111, 0.222222) %>% as.character\n",
    "seq_depth = c(500000, 1000000, 2000000) \n",
    "sim_rep = 1:10 %>% as.character\n",
    "assembler = c('metaspades', 'megahit')\n",
    "all_sims = expand.grid(richness, sim_rep, seq_depth, assembler)\n",
    "colnames(all_sims) = c('richness', 'sim_rep', 'read_depth', 'assembler')\n",
    "all_sims"
   ]
  },
  {
   "cell_type": "code",
   "execution_count": 48,
   "metadata": {
    "ExecuteTime": {
     "end_time": "2020-05-30T12:18:25.790127Z",
     "start_time": "2020-05-30T12:18:25.718Z"
    }
   },
   "outputs": [
    {
     "name": "stderr",
     "output_type": "stream",
     "text": [
      "Warning message:\n",
      "“Column `richness` joining factor and character vector, coercing into character vector”\n",
      "Warning message:\n",
      "“Column `sim_rep` joining factor and character vector, coercing into character vector”\n",
      "Warning message:\n",
      "“Column `assembler` joining factor and character vector, coercing into character vector”\n"
     ]
    },
    {
     "data": {
      "text/html": [
       "<table>\n",
       "<caption>A data.frame: 91 × 4</caption>\n",
       "<thead>\n",
       "\t<tr><th scope=col>richness</th><th scope=col>sim_rep</th><th scope=col>read_depth</th><th scope=col>assembler</th></tr>\n",
       "\t<tr><th scope=col>&lt;fct&gt;</th><th scope=col>&lt;fct&gt;</th><th scope=col>&lt;dbl&gt;</th><th scope=col>&lt;fct&gt;</th></tr>\n",
       "</thead>\n",
       "<tbody>\n",
       "\t<tr><td>0.055555</td><td>1</td><td>5e+05</td><td>metaspades</td></tr>\n",
       "\t<tr><td>0.222222</td><td>1</td><td>5e+05</td><td>metaspades</td></tr>\n",
       "\t<tr><td>⋮</td><td>⋮</td><td>⋮</td><td>⋮</td></tr>\n",
       "\t<tr><td>0.222222</td><td>7</td><td>2e+06</td><td>megahit</td></tr>\n",
       "\t<tr><td>0.222222</td><td>8</td><td>2e+06</td><td>megahit</td></tr>\n",
       "</tbody>\n",
       "</table>\n"
      ],
      "text/latex": [
       "A data.frame: 91 × 4\n",
       "\\begin{tabular}{llll}\n",
       " richness & sim\\_rep & read\\_depth & assembler\\\\\n",
       " <fct> & <fct> & <dbl> & <fct>\\\\\n",
       "\\hline\n",
       "\t 0.055555 & 1 & 5e+05 & metaspades\\\\\n",
       "\t 0.222222 & 1 & 5e+05 & metaspades\\\\\n",
       "\t ⋮ & ⋮ & ⋮ & ⋮\\\\\n",
       "\t 0.222222 & 7 & 2e+06 & megahit\\\\\n",
       "\t 0.222222 & 8 & 2e+06 & megahit\\\\\n",
       "\\end{tabular}\n"
      ],
      "text/markdown": [
       "\n",
       "A data.frame: 91 × 4\n",
       "\n",
       "| richness &lt;fct&gt; | sim_rep &lt;fct&gt; | read_depth &lt;dbl&gt; | assembler &lt;fct&gt; |\n",
       "|---|---|---|---|\n",
       "| 0.055555 | 1 | 5e+05 | metaspades |\n",
       "| 0.222222 | 1 | 5e+05 | metaspades |\n",
       "| ⋮ | ⋮ | ⋮ | ⋮ |\n",
       "| 0.222222 | 7 | 2e+06 | megahit |\n",
       "| 0.222222 | 8 | 2e+06 | megahit |\n",
       "\n"
      ],
      "text/plain": [
       "   richness sim_rep read_depth assembler \n",
       "1  0.055555 1       5e+05      metaspades\n",
       "2  0.222222 1       5e+05      metaspades\n",
       "⋮  ⋮        ⋮       ⋮          ⋮         \n",
       "90 0.222222 7       2e+06      megahit   \n",
       "91 0.222222 8       2e+06      megahit   "
      ]
     },
     "metadata": {},
     "output_type": "display_data"
    }
   ],
   "source": [
    "# filtering to just jobs that should be run\n",
    "to_do = anti_join(all_sims, feat_files, \n",
    "           c('richness', 'sim_rep', 'read_depth', 'assembler'))\n",
    "to_do"
   ]
  },
  {
   "cell_type": "code",
   "execution_count": 51,
   "metadata": {
    "ExecuteTime": {
     "end_time": "2020-05-30T12:28:00.700818Z",
     "start_time": "2020-05-30T12:28:00.635Z"
    }
   },
   "outputs": [
    {
     "name": "stdout",
     "output_type": "stream",
     "text": [
      "File written: /ebio/abt3_projects/databases_no-backup/DeepMAsED/version2/deepmased-sm/n9000-rand_r10/train//to_do.tsv \n"
     ]
    }
   ],
   "source": [
    "df.dims()\n",
    "to_do %>% \n",
    "    rename('rep' = sim_rep) %>%\n",
    "    arrange(richness, read_depth, rep, assembler) %>%\n",
    "    write_table(file.path(work_dir, 'to_do.tsv'))"
   ]
  },
  {
   "cell_type": "code",
   "execution_count": null,
   "metadata": {},
   "outputs": [],
   "source": []
  }
 ],
 "metadata": {
  "kernelspec": {
   "display_name": "R [conda env:Georg_animal_feces-tidyverse]",
   "language": "R",
   "name": "conda-env-Georg_animal_feces-tidyverse-r"
  },
  "language_info": {
   "codemirror_mode": "r",
   "file_extension": ".r",
   "mimetype": "text/x-r-source",
   "name": "R",
   "pygments_lexer": "r",
   "version": "3.6.3"
  },
  "notify_time": "30",
  "toc": {
   "base_numbering": 1,
   "nav_menu": {},
   "number_sections": true,
   "sideBar": true,
   "skip_h1_title": false,
   "title_cell": "Table of Contents",
   "title_sidebar": "Contents",
   "toc_cell": true,
   "toc_position": {},
   "toc_section_display": true,
   "toc_window_display": true
  }
 },
 "nbformat": 4,
 "nbformat_minor": 4
}
