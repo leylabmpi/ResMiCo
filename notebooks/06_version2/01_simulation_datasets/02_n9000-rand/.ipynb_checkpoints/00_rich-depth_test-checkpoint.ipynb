{
 "cells": [
  {
   "cell_type": "markdown",
   "metadata": {
    "toc": true
   },
   "source": [
    "<h1>Table of Contents<span class=\"tocSkip\"></span></h1>\n",
    "<div class=\"toc\"><ul class=\"toc-item\"><li><span><a href=\"#Goal\" data-toc-modified-id=\"Goal-1\"><span class=\"toc-item-num\">1&nbsp;&nbsp;</span>Goal</a></span></li><li><span><a href=\"#Var\" data-toc-modified-id=\"Var-2\"><span class=\"toc-item-num\">2&nbsp;&nbsp;</span>Var</a></span></li><li><span><a href=\"#Init\" data-toc-modified-id=\"Init-3\"><span class=\"toc-item-num\">3&nbsp;&nbsp;</span>Init</a></span></li><li><span><a href=\"#Load\" data-toc-modified-id=\"Load-4\"><span class=\"toc-item-num\">4&nbsp;&nbsp;</span>Load</a></span></li><li><span><a href=\"#DeepMAsED-SM\" data-toc-modified-id=\"DeepMAsED-SM-5\"><span class=\"toc-item-num\">5&nbsp;&nbsp;</span>DeepMAsED-SM</a></span><ul class=\"toc-item\"><li><span><a href=\"#config\" data-toc-modified-id=\"config-5.1\"><span class=\"toc-item-num\">5.1&nbsp;&nbsp;</span>config</a></span></li><li><span><a href=\"#Run\" data-toc-modified-id=\"Run-5.2\"><span class=\"toc-item-num\">5.2&nbsp;&nbsp;</span>Run</a></span></li></ul></li><li><span><a href=\"#NOTES\" data-toc-modified-id=\"NOTES-6\"><span class=\"toc-item-num\">6&nbsp;&nbsp;</span>NOTES</a></span></li><li><span><a href=\"#Summary\" data-toc-modified-id=\"Summary-7\"><span class=\"toc-item-num\">7&nbsp;&nbsp;</span>Summary</a></span></li><li><span><a href=\"#DeemMAsED-SM:-round-2\" data-toc-modified-id=\"DeemMAsED-SM:-round-2-8\"><span class=\"toc-item-num\">8&nbsp;&nbsp;</span>DeemMAsED-SM: round 2</a></span><ul class=\"toc-item\"><li><span><a href=\"#config\" data-toc-modified-id=\"config-8.1\"><span class=\"toc-item-num\">8.1&nbsp;&nbsp;</span>config</a></span></li><li><span><a href=\"#Run\" data-toc-modified-id=\"Run-8.2\"><span class=\"toc-item-num\">8.2&nbsp;&nbsp;</span>Run</a></span></li></ul></li><li><span><a href=\"#--WAITING--\" data-toc-modified-id=\"--WAITING---9\"><span class=\"toc-item-num\">9&nbsp;&nbsp;</span>--WAITING--</a></span></li><li><span><a href=\"#sessionInfo\" data-toc-modified-id=\"sessionInfo-10\"><span class=\"toc-item-num\">10&nbsp;&nbsp;</span>sessionInfo</a></span></li></ul></div>"
   ]
  },
  {
   "cell_type": "markdown",
   "metadata": {},
   "source": [
    "# Goal\n",
    "\n",
    "* test run of simulations with n9000-rand dataset"
   ]
  },
  {
   "cell_type": "markdown",
   "metadata": {},
   "source": [
    "# Var"
   ]
  },
  {
   "cell_type": "code",
   "execution_count": 1,
   "metadata": {
    "ExecuteTime": {
     "end_time": "2020-03-11T10:07:24.260065Z",
     "start_time": "2020-03-11T10:07:24.113Z"
    }
   },
   "outputs": [],
   "source": [
    "work_dir = '/ebio/abt3_projects/databases_no-backup/DeepMAsED/version2/deepmased-sm/n9000-rand_r3/train/'\n",
    "\n",
    "# all metadata for train + test\n",
    "metadata_file = '/ebio/abt3_projects/databases_no-backup/DeepMAsED/version2/ref_genomes/GTDBr89/metadata_n9000-rand.tsv'"
   ]
  },
  {
   "cell_type": "markdown",
   "metadata": {},
   "source": [
    "# Init"
   ]
  },
  {
   "cell_type": "code",
   "execution_count": 5,
   "metadata": {
    "ExecuteTime": {
     "end_time": "2020-03-11T10:07:33.530566Z",
     "start_time": "2020-03-11T10:07:27.584Z"
    }
   },
   "outputs": [],
   "source": [
    "library(dplyr)\n",
    "library(tidyr)\n",
    "library(ggplot2)\n",
    "library(data.table)\n",
    "library(dtplyr)\n",
    "library(LeyLabRMisc)"
   ]
  },
  {
   "cell_type": "code",
   "execution_count": 7,
   "metadata": {
    "ExecuteTime": {
     "end_time": "2020-03-11T10:27:39.062867Z",
     "start_time": "2020-03-11T10:27:39.027Z"
    }
   },
   "outputs": [
    {
     "name": "stdout",
     "output_type": "stream",
     "text": [
      "Created directory: /ebio/abt3_projects/databases_no-backup/DeepMAsED/version2/deepmased-sm/n9000-rand_r3/train/ \n"
     ]
    }
   ],
   "source": [
    "df.dims()\n",
    "set.seed(8473)\n",
    "make_dir(work_dir)"
   ]
  },
  {
   "cell_type": "markdown",
   "metadata": {},
   "source": [
    "# Load"
   ]
  },
  {
   "cell_type": "code",
   "execution_count": 4,
   "metadata": {
    "ExecuteTime": {
     "end_time": "2020-03-11T10:07:33.502879Z",
     "start_time": "2020-03-11T10:07:25.208Z"
    }
   },
   "outputs": [
    {
     "data": {
      "text/html": [
       "<table>\n",
       "<caption>A data.frame: 18000 × 118</caption>\n",
       "<thead>\n",
       "\t<tr><th scope=col>accession</th><th scope=col>Domain</th><th scope=col>Phylum</th><th scope=col>Class</th><th scope=col>Order</th><th scope=col>Family</th><th scope=col>Genus</th><th scope=col>Species</th><th scope=col>ambiguous_bases</th><th scope=col>checkm_completeness</th><th scope=col>⋯</th><th scope=col>ssu_silva_blast_evalue</th><th scope=col>ssu_silva_blast_perc_identity</th><th scope=col>ssu_silva_blast_subject_id</th><th scope=col>ssu_silva_taxonomy</th><th scope=col>total_gap_length</th><th scope=col>trna_aa_count</th><th scope=col>trna_count</th><th scope=col>trna_selenocysteine_count</th><th scope=col>fasta_file_path</th><th scope=col>dataset_partition</th></tr>\n",
       "\t<tr><th scope=col>&lt;fct&gt;</th><th scope=col>&lt;fct&gt;</th><th scope=col>&lt;fct&gt;</th><th scope=col>&lt;fct&gt;</th><th scope=col>&lt;fct&gt;</th><th scope=col>&lt;fct&gt;</th><th scope=col>&lt;fct&gt;</th><th scope=col>&lt;fct&gt;</th><th scope=col>&lt;int&gt;</th><th scope=col>&lt;dbl&gt;</th><th scope=col>⋯</th><th scope=col>&lt;int&gt;</th><th scope=col>&lt;dbl&gt;</th><th scope=col>&lt;fct&gt;</th><th scope=col>&lt;fct&gt;</th><th scope=col>&lt;int&gt;</th><th scope=col>&lt;int&gt;</th><th scope=col>&lt;int&gt;</th><th scope=col>&lt;int&gt;</th><th scope=col>&lt;fct&gt;</th><th scope=col>&lt;fct&gt;</th></tr>\n",
       "</thead>\n",
       "<tbody>\n",
       "\t<tr><td>RS_GCF_000478885.1</td><td>d__Bacteria</td><td>p__Actinobacteriota</td><td>c__Coriobacteriia</td><td>o__Coriobacteriales</td><td>f__Eggerthellaceae</td><td>g__Adlercreutzia</td><td>s__Adlercreutzia equolifaciens</td><td>0</td><td>100.00</td><td>⋯</td><td>0</td><td>100.000</td><td>AB649147.1.1469       </td><td>Bacteria;Actinobacteria;Coriobacteriia;Coriobacteriales;Coriobacteriaceae;Adlercreutzia;Adlercreutzia equolifaciens</td><td>  0</td><td>20</td><td>48</td><td>0</td><td>/ebio/abt3_projects/databases_no-backup/DeepMAsED/version2/ref_genomes/GTDBr89/genomes_quality/genbank/bacteria/GCA_000478885.1/GCA_000478885.1_ASM47888v1_genomic.fna.gz </td><td>Train</td></tr>\n",
       "\t<tr><td>RS_GCF_002560615.1</td><td>d__Bacteria</td><td>p__Firmicutes      </td><td>c__Bacilli       </td><td>o__Bacillales      </td><td>f__Bacillaceae_G  </td><td>g__Bacillus_A   </td><td>s__Bacillus_A cereus_AG       </td><td>0</td><td> 98.68</td><td>⋯</td><td>0</td><td> 99.935</td><td>CP010089.670406.671961</td><td>Bacteria;Firmicutes;Bacilli;Bacillales;Bacillaceae;Bacillus;Bacillus thuringiensis serovar galleriae               </td><td>368</td><td>20</td><td>63</td><td>0</td><td>/ebio/abt3_projects/databases_no-backup/DeepMAsED/version2/ref_genomes/GTDBr89/genomes_quality/genbank/bacteria/GCA_002560615.1/GCA_002560615.1_ASM256061v1_genomic.fna.gz</td><td>Train</td></tr>\n",
       "\t<tr><td>⋮</td><td>⋮</td><td>⋮</td><td>⋮</td><td>⋮</td><td>⋮</td><td>⋮</td><td>⋮</td><td>⋮</td><td>⋮</td><td>⋱</td><td>⋮</td><td>⋮</td><td>⋮</td><td>⋮</td><td>⋮</td><td>⋮</td><td>⋮</td><td>⋮</td><td>⋮</td><td>⋮</td></tr>\n",
       "\t<tr><td>RS_GCF_000439435.1</td><td>d__Bacteria</td><td>p__Firmicutes</td><td>c__Bacilli</td><td>o__Mycoplasmatales</td><td>f__Mycoplasmataceae</td><td>g__Spiroplasma_A</td><td>s__Spiroplasma_A taiwanense</td><td>0</td><td>98.87</td><td>⋯</td><td>0</td><td>100</td><td>CP005074.862688.864196</td><td>Bacteria;Tenericutes;Mollicutes;Entomoplasmatales;Spiroplasmataceae;Spiroplasma;Spiroplasma taiwanense CT-1</td><td>0</td><td>20</td><td>29</td><td>1</td><td>/ebio/abt3_projects/databases_no-backup/DeepMAsED/version2/ref_genomes/GTDBr89/genomes_quality/genbank/bacteria/GCA_000439435.1/GCA_000439435.1_ASM43943v1_genomic.fna.gz </td><td>Test</td></tr>\n",
       "\t<tr><td>RS_GCF_002092595.1</td><td>d__Bacteria</td><td>p__Firmicutes</td><td>c__Bacilli</td><td>o__Lactobacillales</td><td>f__Lactobacillaceae</td><td>g__Leuconostoc  </td><td>s__Leuconostoc lactis_A    </td><td>0</td><td>99.44</td><td>⋯</td><td>0</td><td>100</td><td>AY456086.1.1537       </td><td>Bacteria;Firmicutes;Bacilli;Lactobacillales;Leuconostocaceae;Leuconostoc;Leuconostoc garlicum              </td><td>0</td><td>20</td><td>50</td><td>0</td><td>/ebio/abt3_projects/databases_no-backup/DeepMAsED/version2/ref_genomes/GTDBr89/genomes_quality/genbank/bacteria/GCA_002092595.1/GCA_002092595.1_ASM209259v1_genomic.fna.gz</td><td>Test</td></tr>\n",
       "</tbody>\n",
       "</table>\n"
      ],
      "text/latex": [
       "A data.frame: 18000 × 118\n",
       "\\begin{tabular}{lllllllllllllllllllll}\n",
       " accession & Domain & Phylum & Class & Order & Family & Genus & Species & ambiguous\\_bases & checkm\\_completeness & ⋯ & ssu\\_silva\\_blast\\_evalue & ssu\\_silva\\_blast\\_perc\\_identity & ssu\\_silva\\_blast\\_subject\\_id & ssu\\_silva\\_taxonomy & total\\_gap\\_length & trna\\_aa\\_count & trna\\_count & trna\\_selenocysteine\\_count & fasta\\_file\\_path & dataset\\_partition\\\\\n",
       " <fct> & <fct> & <fct> & <fct> & <fct> & <fct> & <fct> & <fct> & <int> & <dbl> & ⋯ & <int> & <dbl> & <fct> & <fct> & <int> & <int> & <int> & <int> & <fct> & <fct>\\\\\n",
       "\\hline\n",
       "\t RS\\_GCF\\_000478885.1 & d\\_\\_Bacteria & p\\_\\_Actinobacteriota & c\\_\\_Coriobacteriia & o\\_\\_Coriobacteriales & f\\_\\_Eggerthellaceae & g\\_\\_Adlercreutzia & s\\_\\_Adlercreutzia equolifaciens & 0 & 100.00 & ⋯ & 0 & 100.000 & AB649147.1.1469        & Bacteria;Actinobacteria;Coriobacteriia;Coriobacteriales;Coriobacteriaceae;Adlercreutzia;Adlercreutzia equolifaciens &   0 & 20 & 48 & 0 & /ebio/abt3\\_projects/databases\\_no-backup/DeepMAsED/version2/ref\\_genomes/GTDBr89/genomes\\_quality/genbank/bacteria/GCA\\_000478885.1/GCA\\_000478885.1\\_ASM47888v1\\_genomic.fna.gz  & Train\\\\\n",
       "\t RS\\_GCF\\_002560615.1 & d\\_\\_Bacteria & p\\_\\_Firmicutes       & c\\_\\_Bacilli        & o\\_\\_Bacillales       & f\\_\\_Bacillaceae\\_G   & g\\_\\_Bacillus\\_A    & s\\_\\_Bacillus\\_A cereus\\_AG        & 0 &  98.68 & ⋯ & 0 &  99.935 & CP010089.670406.671961 & Bacteria;Firmicutes;Bacilli;Bacillales;Bacillaceae;Bacillus;Bacillus thuringiensis serovar galleriae                & 368 & 20 & 63 & 0 & /ebio/abt3\\_projects/databases\\_no-backup/DeepMAsED/version2/ref\\_genomes/GTDBr89/genomes\\_quality/genbank/bacteria/GCA\\_002560615.1/GCA\\_002560615.1\\_ASM256061v1\\_genomic.fna.gz & Train\\\\\n",
       "\t ⋮ & ⋮ & ⋮ & ⋮ & ⋮ & ⋮ & ⋮ & ⋮ & ⋮ & ⋮ & ⋱ & ⋮ & ⋮ & ⋮ & ⋮ & ⋮ & ⋮ & ⋮ & ⋮ & ⋮ & ⋮\\\\\n",
       "\t RS\\_GCF\\_000439435.1 & d\\_\\_Bacteria & p\\_\\_Firmicutes & c\\_\\_Bacilli & o\\_\\_Mycoplasmatales & f\\_\\_Mycoplasmataceae & g\\_\\_Spiroplasma\\_A & s\\_\\_Spiroplasma\\_A taiwanense & 0 & 98.87 & ⋯ & 0 & 100 & CP005074.862688.864196 & Bacteria;Tenericutes;Mollicutes;Entomoplasmatales;Spiroplasmataceae;Spiroplasma;Spiroplasma taiwanense CT-1 & 0 & 20 & 29 & 1 & /ebio/abt3\\_projects/databases\\_no-backup/DeepMAsED/version2/ref\\_genomes/GTDBr89/genomes\\_quality/genbank/bacteria/GCA\\_000439435.1/GCA\\_000439435.1\\_ASM43943v1\\_genomic.fna.gz  & Test\\\\\n",
       "\t RS\\_GCF\\_002092595.1 & d\\_\\_Bacteria & p\\_\\_Firmicutes & c\\_\\_Bacilli & o\\_\\_Lactobacillales & f\\_\\_Lactobacillaceae & g\\_\\_Leuconostoc   & s\\_\\_Leuconostoc lactis\\_A     & 0 & 99.44 & ⋯ & 0 & 100 & AY456086.1.1537        & Bacteria;Firmicutes;Bacilli;Lactobacillales;Leuconostocaceae;Leuconostoc;Leuconostoc garlicum               & 0 & 20 & 50 & 0 & /ebio/abt3\\_projects/databases\\_no-backup/DeepMAsED/version2/ref\\_genomes/GTDBr89/genomes\\_quality/genbank/bacteria/GCA\\_002092595.1/GCA\\_002092595.1\\_ASM209259v1\\_genomic.fna.gz & Test\\\\\n",
       "\\end{tabular}\n"
      ],
      "text/markdown": [
       "\n",
       "A data.frame: 18000 × 118\n",
       "\n",
       "| accession &lt;fct&gt; | Domain &lt;fct&gt; | Phylum &lt;fct&gt; | Class &lt;fct&gt; | Order &lt;fct&gt; | Family &lt;fct&gt; | Genus &lt;fct&gt; | Species &lt;fct&gt; | ambiguous_bases &lt;int&gt; | checkm_completeness &lt;dbl&gt; | ⋯ ⋯ | ssu_silva_blast_evalue &lt;int&gt; | ssu_silva_blast_perc_identity &lt;dbl&gt; | ssu_silva_blast_subject_id &lt;fct&gt; | ssu_silva_taxonomy &lt;fct&gt; | total_gap_length &lt;int&gt; | trna_aa_count &lt;int&gt; | trna_count &lt;int&gt; | trna_selenocysteine_count &lt;int&gt; | fasta_file_path &lt;fct&gt; | dataset_partition &lt;fct&gt; |\n",
       "|---|---|---|---|---|---|---|---|---|---|---|---|---|---|---|---|---|---|---|---|---|\n",
       "| RS_GCF_000478885.1 | d__Bacteria | p__Actinobacteriota | c__Coriobacteriia | o__Coriobacteriales | f__Eggerthellaceae | g__Adlercreutzia | s__Adlercreutzia equolifaciens | 0 | 100.00 | ⋯ | 0 | 100.000 | AB649147.1.1469        | Bacteria;Actinobacteria;Coriobacteriia;Coriobacteriales;Coriobacteriaceae;Adlercreutzia;Adlercreutzia equolifaciens |   0 | 20 | 48 | 0 | /ebio/abt3_projects/databases_no-backup/DeepMAsED/version2/ref_genomes/GTDBr89/genomes_quality/genbank/bacteria/GCA_000478885.1/GCA_000478885.1_ASM47888v1_genomic.fna.gz  | Train |\n",
       "| RS_GCF_002560615.1 | d__Bacteria | p__Firmicutes       | c__Bacilli        | o__Bacillales       | f__Bacillaceae_G   | g__Bacillus_A    | s__Bacillus_A cereus_AG        | 0 |  98.68 | ⋯ | 0 |  99.935 | CP010089.670406.671961 | Bacteria;Firmicutes;Bacilli;Bacillales;Bacillaceae;Bacillus;Bacillus thuringiensis serovar galleriae                | 368 | 20 | 63 | 0 | /ebio/abt3_projects/databases_no-backup/DeepMAsED/version2/ref_genomes/GTDBr89/genomes_quality/genbank/bacteria/GCA_002560615.1/GCA_002560615.1_ASM256061v1_genomic.fna.gz | Train |\n",
       "| ⋮ | ⋮ | ⋮ | ⋮ | ⋮ | ⋮ | ⋮ | ⋮ | ⋮ | ⋮ | ⋱ | ⋮ | ⋮ | ⋮ | ⋮ | ⋮ | ⋮ | ⋮ | ⋮ | ⋮ | ⋮ |\n",
       "| RS_GCF_000439435.1 | d__Bacteria | p__Firmicutes | c__Bacilli | o__Mycoplasmatales | f__Mycoplasmataceae | g__Spiroplasma_A | s__Spiroplasma_A taiwanense | 0 | 98.87 | ⋯ | 0 | 100 | CP005074.862688.864196 | Bacteria;Tenericutes;Mollicutes;Entomoplasmatales;Spiroplasmataceae;Spiroplasma;Spiroplasma taiwanense CT-1 | 0 | 20 | 29 | 1 | /ebio/abt3_projects/databases_no-backup/DeepMAsED/version2/ref_genomes/GTDBr89/genomes_quality/genbank/bacteria/GCA_000439435.1/GCA_000439435.1_ASM43943v1_genomic.fna.gz  | Test |\n",
       "| RS_GCF_002092595.1 | d__Bacteria | p__Firmicutes | c__Bacilli | o__Lactobacillales | f__Lactobacillaceae | g__Leuconostoc   | s__Leuconostoc lactis_A     | 0 | 99.44 | ⋯ | 0 | 100 | AY456086.1.1537        | Bacteria;Firmicutes;Bacilli;Lactobacillales;Leuconostocaceae;Leuconostoc;Leuconostoc garlicum               | 0 | 20 | 50 | 0 | /ebio/abt3_projects/databases_no-backup/DeepMAsED/version2/ref_genomes/GTDBr89/genomes_quality/genbank/bacteria/GCA_002092595.1/GCA_002092595.1_ASM209259v1_genomic.fna.gz | Test |\n",
       "\n"
      ],
      "text/plain": [
       "      accession          Domain      Phylum              Class            \n",
       "1     RS_GCF_000478885.1 d__Bacteria p__Actinobacteriota c__Coriobacteriia\n",
       "2     RS_GCF_002560615.1 d__Bacteria p__Firmicutes       c__Bacilli       \n",
       "⋮     ⋮                  ⋮           ⋮                   ⋮                \n",
       "17999 RS_GCF_000439435.1 d__Bacteria p__Firmicutes       c__Bacilli       \n",
       "18000 RS_GCF_002092595.1 d__Bacteria p__Firmicutes       c__Bacilli       \n",
       "      Order               Family              Genus           \n",
       "1     o__Coriobacteriales f__Eggerthellaceae  g__Adlercreutzia\n",
       "2     o__Bacillales       f__Bacillaceae_G    g__Bacillus_A   \n",
       "⋮     ⋮                   ⋮                   ⋮               \n",
       "17999 o__Mycoplasmatales  f__Mycoplasmataceae g__Spiroplasma_A\n",
       "18000 o__Lactobacillales  f__Lactobacillaceae g__Leuconostoc  \n",
       "      Species                        ambiguous_bases checkm_completeness ⋯\n",
       "1     s__Adlercreutzia equolifaciens 0               100.00              ⋯\n",
       "2     s__Bacillus_A cereus_AG        0                98.68              ⋯\n",
       "⋮     ⋮                              ⋮               ⋮                   ⋱\n",
       "17999 s__Spiroplasma_A taiwanense    0               98.87               ⋯\n",
       "18000 s__Leuconostoc lactis_A        0               99.44               ⋯\n",
       "      ssu_silva_blast_evalue ssu_silva_blast_perc_identity\n",
       "1     0                      100.000                      \n",
       "2     0                       99.935                      \n",
       "⋮     ⋮                      ⋮                            \n",
       "17999 0                      100                          \n",
       "18000 0                      100                          \n",
       "      ssu_silva_blast_subject_id\n",
       "1     AB649147.1.1469           \n",
       "2     CP010089.670406.671961    \n",
       "⋮     ⋮                         \n",
       "17999 CP005074.862688.864196    \n",
       "18000 AY456086.1.1537           \n",
       "      ssu_silva_taxonomy                                                                                                 \n",
       "1     Bacteria;Actinobacteria;Coriobacteriia;Coriobacteriales;Coriobacteriaceae;Adlercreutzia;Adlercreutzia equolifaciens\n",
       "2     Bacteria;Firmicutes;Bacilli;Bacillales;Bacillaceae;Bacillus;Bacillus thuringiensis serovar galleriae               \n",
       "⋮     ⋮                                                                                                                  \n",
       "17999 Bacteria;Tenericutes;Mollicutes;Entomoplasmatales;Spiroplasmataceae;Spiroplasma;Spiroplasma taiwanense CT-1        \n",
       "18000 Bacteria;Firmicutes;Bacilli;Lactobacillales;Leuconostocaceae;Leuconostoc;Leuconostoc garlicum                      \n",
       "      total_gap_length trna_aa_count trna_count trna_selenocysteine_count\n",
       "1       0              20            48         0                        \n",
       "2     368              20            63         0                        \n",
       "⋮     ⋮                ⋮             ⋮          ⋮                        \n",
       "17999 0                20            29         1                        \n",
       "18000 0                20            50         0                        \n",
       "      fasta_file_path                                                                                                                                                           \n",
       "1     /ebio/abt3_projects/databases_no-backup/DeepMAsED/version2/ref_genomes/GTDBr89/genomes_quality/genbank/bacteria/GCA_000478885.1/GCA_000478885.1_ASM47888v1_genomic.fna.gz \n",
       "2     /ebio/abt3_projects/databases_no-backup/DeepMAsED/version2/ref_genomes/GTDBr89/genomes_quality/genbank/bacteria/GCA_002560615.1/GCA_002560615.1_ASM256061v1_genomic.fna.gz\n",
       "⋮     ⋮                                                                                                                                                                         \n",
       "17999 /ebio/abt3_projects/databases_no-backup/DeepMAsED/version2/ref_genomes/GTDBr89/genomes_quality/genbank/bacteria/GCA_000439435.1/GCA_000439435.1_ASM43943v1_genomic.fna.gz \n",
       "18000 /ebio/abt3_projects/databases_no-backup/DeepMAsED/version2/ref_genomes/GTDBr89/genomes_quality/genbank/bacteria/GCA_002092595.1/GCA_002092595.1_ASM209259v1_genomic.fna.gz\n",
       "      dataset_partition\n",
       "1     Train            \n",
       "2     Train            \n",
       "⋮     ⋮                \n",
       "17999 Test             \n",
       "18000 Test             "
      ]
     },
     "metadata": {},
     "output_type": "display_data"
    }
   ],
   "source": [
    "metadata = read.delim(metadata_file, sep='\\t')\n",
    "metadata"
   ]
  },
  {
   "cell_type": "markdown",
   "metadata": {},
   "source": [
    "# DeepMAsED-SM"
   ]
  },
  {
   "cell_type": "markdown",
   "metadata": {},
   "source": [
    "## config"
   ]
  },
  {
   "cell_type": "code",
   "execution_count": 10,
   "metadata": {
    "ExecuteTime": {
     "end_time": "2020-03-14T09:42:56.140086Z",
     "start_time": "2020-03-14T09:42:56.079Z"
    }
   },
   "outputs": [
    {
     "name": "stdout",
     "output_type": "stream",
     "text": [
      "# Input table\n",
      "genomes_file: /ebio/abt3_projects/databases_no-backup/DeepMAsED/version2/ref_genomes/GTDBr89/metadata_n9000-rand_train.tsv\n",
      "\n",
      "# Output directory\n",
      "output_dir: /ebio/abt3_projects/databases_no-backup/DeepMAsED/version2/deepmased-sm/n9000-rand_r3/train/\n",
      "\n",
      "# Temporary output directory (/dev/shm/ for shared memory)\n",
      "tmp_dir: /ebio/abt3_scratch/\n",
      "\n",
      "# Email for notifications (\"Skip\" to skip)\n",
      "email: nyoungblut@tuebingen.mpg.de\n",
      "\n",
      "# software parameters\n",
      "## Use \"Skip\" to skip  steps. If no params for rule, use \"\"\n",
      "## `reps:` is the number of replicate simulations\n",
      "## If `keep_reads: True`, then simulated reads are kept\n",
      "params:\n",
      "  # simulating metagenomes\n",
      "  reps: 3\n",
      "  MGSIM:\n",
      "    genome_download: \"\"\n",
      "    community_richness:\n",
      "      - 0.011111\n",
      "      - 0.055555\n",
      "    reads: --art-paired --art-mflen 250 --art-sdev 10\n",
      "    read_depth:\n",
      "      - 500000\n",
      "      - 1000000\n",
      "  keep_reads: False\n",
      "  # coverage\n",
      "  nonpareil: -T kmer\n",
      "  nonpareil_summary: 1e9   # this is target seq. depth\n",
      "  # assemblying metagenomes\n",
      "  assemblers:\n",
      "    metaspades: -k auto --only-assembler\n",
      "    megahit: --min-count 3 --min-contig-len 1000 --presets meta-sensitive\n",
      "  # assembly filtering\n",
      "  contig_length_cutoff: 1000       # length in bp \n",
      "  # assessing assembly errors\n",
      "  minimap2: \"\"\n",
      "  metaquast: --min-identity 95 --extensive-mis-size 100 --no-icarus --max-ref-number 0\n",
      "  # mapping reads to contigs  \n",
      "  samtools: \"\"\n",
      "  keep_bam: False\n",
      "  # creating DL features\n",
      "  make_features: --window 6\n",
      "  # state-of-the-art\n",
      "  ## ALE\n",
      "  ALE: \"\"\n",
      "  ## VALET\n",
      "  VALET: \"\"\n",
      "  \n",
      "# snakemake pipeline\n",
      "pipeline:\n",
      "  snakemake_folder: ./\n",
      "  script_folder: ./bin/scripts/\n",
      "  rnd_seed: 9384"
     ]
    }
   ],
   "source": [
    "config_file = file.path(work_dir, 'config.yaml')\n",
    "cat_file(config_file)"
   ]
  },
  {
   "cell_type": "markdown",
   "metadata": {},
   "source": [
    "## Run"
   ]
  },
  {
   "cell_type": "markdown",
   "metadata": {},
   "source": [
    "```\n",
    "(snakemake) @ rick:/ebio/abt3_projects/databases_no-backup/bin/deepmased\n",
    "$ screen -L -S DM-SM-n9000-train ./snakemake_sge.sh /ebio/abt3_projects/databases_no-backup/DeepMAsED/version2/deepmased-sm/n9000-rand_r3/train/config.yaml 20\n",
    "```"
   ]
  },
  {
   "cell_type": "markdown",
   "metadata": {},
   "source": [
    "# NOTES\n",
    "\n",
    "* the feature table wasn't actually created due to a bug with `keep_bam: False`"
   ]
  },
  {
   "cell_type": "markdown",
   "metadata": {},
   "source": [
    "# Summary"
   ]
  },
  {
   "cell_type": "code",
   "execution_count": 8,
   "metadata": {
    "ExecuteTime": {
     "end_time": "2020-03-14T09:42:45.791768Z",
     "start_time": "2020-03-14T09:42:45.728Z"
    }
   },
   "outputs": [
    {
     "data": {
      "text/html": [
       "<ol class=list-inline>\n",
       "\t<li>'ALE'</li>\n",
       "\t<li>'assembly'</li>\n",
       "\t<li>'benchmarks'</li>\n",
       "\t<li>'config.yaml'</li>\n",
       "\t<li>'coverage'</li>\n",
       "\t<li>'genomes'</li>\n",
       "\t<li>'logs'</li>\n",
       "\t<li>'MGSIM'</li>\n",
       "\t<li>'true_errors'</li>\n",
       "\t<li>'VALET'</li>\n",
       "</ol>\n"
      ],
      "text/latex": [
       "\\begin{enumerate*}\n",
       "\\item 'ALE'\n",
       "\\item 'assembly'\n",
       "\\item 'benchmarks'\n",
       "\\item 'config.yaml'\n",
       "\\item 'coverage'\n",
       "\\item 'genomes'\n",
       "\\item 'logs'\n",
       "\\item 'MGSIM'\n",
       "\\item 'true\\_errors'\n",
       "\\item 'VALET'\n",
       "\\end{enumerate*}\n"
      ],
      "text/markdown": [
       "1. 'ALE'\n",
       "2. 'assembly'\n",
       "3. 'benchmarks'\n",
       "4. 'config.yaml'\n",
       "5. 'coverage'\n",
       "6. 'genomes'\n",
       "7. 'logs'\n",
       "8. 'MGSIM'\n",
       "9. 'true_errors'\n",
       "10. 'VALET'\n",
       "\n",
       "\n"
      ],
      "text/plain": [
       " [1] \"ALE\"         \"assembly\"    \"benchmarks\"  \"config.yaml\" \"coverage\"   \n",
       " [6] \"genomes\"     \"logs\"        \"MGSIM\"       \"true_errors\" \"VALET\"      "
      ]
     },
     "metadata": {},
     "output_type": "display_data"
    }
   ],
   "source": [
    "list.files(work_dir)"
   ]
  },
  {
   "cell_type": "code",
   "execution_count": 9,
   "metadata": {
    "ExecuteTime": {
     "end_time": "2020-03-14T09:42:47.702360Z",
     "start_time": "2020-03-14T09:42:47.638Z"
    }
   },
   "outputs": [
    {
     "data": {
      "text/html": [
       "0"
      ],
      "text/latex": [
       "0"
      ],
      "text/markdown": [
       "0"
      ],
      "text/plain": [
       "[1] 0"
      ]
     },
     "metadata": {},
     "output_type": "display_data"
    },
    {
     "data": {
      "text/html": [],
      "text/latex": [],
      "text/markdown": [],
      "text/plain": [
       "character(0)"
      ]
     },
     "metadata": {},
     "output_type": "display_data"
    }
   ],
   "source": [
    "# listing features\n",
    "feat_files = list_files(file.path(work_dir, 'features'), 'features.tsv.gz')\n",
    "feat_files %>% length\n",
    "feat_files %>% head(n=3)"
   ]
  },
  {
   "cell_type": "code",
   "execution_count": null,
   "metadata": {
    "ExecuteTime": {
     "end_time": "2020-03-04T06:42:19.804514Z",
     "start_time": "2020-03-04T06:41:43.281Z"
    }
   },
   "outputs": [],
   "source": [
    "# summarizing\n",
    "cmd = paste0('gunzip -c ', feat_files[1])\n",
    "feats = fread(cmd=cmd, sep='\\t') %>%\n",
    "    lazy_dt\n",
    "feats "
   ]
  },
  {
   "cell_type": "code",
   "execution_count": null,
   "metadata": {
    "ExecuteTime": {
     "end_time": "2020-03-04T06:42:20.192278Z",
     "start_time": "2020-03-04T06:41:43.804Z"
    }
   },
   "outputs": [],
   "source": [
    "# number of contigs\n",
    "feats %>%\n",
    "    distinct(contig) %>%\n",
    "    as_tibble %>% nrow"
   ]
  },
  {
   "cell_type": "code",
   "execution_count": null,
   "metadata": {
    "ExecuteTime": {
     "end_time": "2020-03-04T06:42:20.466681Z",
     "start_time": "2020-03-04T06:41:44.435Z"
    }
   },
   "outputs": [],
   "source": [
    "# length of contigs\n",
    "feats %>%\n",
    "    group_by(contig) %>%\n",
    "    summarize(contig_len = max(position) + 1) %>%\n",
    "    ungroup() %>%\n",
    "    as_tibble %>% .$contig_len %>% summary"
   ]
  },
  {
   "cell_type": "code",
   "execution_count": null,
   "metadata": {
    "ExecuteTime": {
     "end_time": "2020-03-04T06:42:21.156115Z",
     "start_time": "2020-03-04T06:41:45.100Z"
    }
   },
   "outputs": [],
   "source": [
    "# misassemblies\n",
    "feats %>%\n",
    "    distinct(contig, Extensive_misassembly) %>%\n",
    "    group_by(Extensive_misassembly) %>%\n",
    "    summarize(n_contigs = n()) %>%\n",
    "    as_tibble "
   ]
  },
  {
   "cell_type": "code",
   "execution_count": null,
   "metadata": {
    "ExecuteTime": {
     "end_time": "2020-03-04T06:42:22.216515Z",
     "start_time": "2020-03-04T06:41:45.875Z"
    }
   },
   "outputs": [],
   "source": [
    "# extensive misassemblies per contig\n",
    "feats %>%\n",
    "    group_by(contig) %>%\n",
    "    summarize(n_ext_msasmbl = n_distinct(Extensive_misassembly_by_pos)) %>%\n",
    "    ungroup() %>%\n",
    "    as_tibble %>%\n",
    "    .$n_ext_msasmbl %>% summary"
   ]
  },
  {
   "cell_type": "code",
   "execution_count": 12,
   "metadata": {
    "ExecuteTime": {
     "end_time": "2020-03-19T08:54:48.192598Z",
     "start_time": "2020-03-19T08:54:47.859Z"
    }
   },
   "outputs": [
    {
     "data": {
      "text/html": [
       "<table>\n",
       "<caption>A matrix: 2 × 6 of type dbl</caption>\n",
       "<thead>\n",
       "\t<tr><th></th><th scope=col>used</th><th scope=col>(Mb)</th><th scope=col>gc trigger</th><th scope=col>(Mb)</th><th scope=col>max used</th><th scope=col>(Mb)</th></tr>\n",
       "</thead>\n",
       "<tbody>\n",
       "\t<tr><th scope=row>Ncells</th><td> 982009</td><td>52.5</td><td> 2527958</td><td>135.1</td><td> 2336622</td><td>124.8</td></tr>\n",
       "\t<tr><th scope=row>Vcells</th><td>4509598</td><td>34.5</td><td>10146329</td><td> 77.5</td><td>10146329</td><td> 77.5</td></tr>\n",
       "</tbody>\n",
       "</table>\n"
      ],
      "text/latex": [
       "A matrix: 2 × 6 of type dbl\n",
       "\\begin{tabular}{r|llllll}\n",
       "  & used & (Mb) & gc trigger & (Mb) & max used & (Mb)\\\\\n",
       "\\hline\n",
       "\tNcells &  982009 & 52.5 &  2527958 & 135.1 &  2336622 & 124.8\\\\\n",
       "\tVcells & 4509598 & 34.5 & 10146329 &  77.5 & 10146329 &  77.5\\\\\n",
       "\\end{tabular}\n"
      ],
      "text/markdown": [
       "\n",
       "A matrix: 2 × 6 of type dbl\n",
       "\n",
       "| <!--/--> | used | (Mb) | gc trigger | (Mb) | max used | (Mb) |\n",
       "|---|---|---|---|---|---|---|\n",
       "| Ncells |  982009 | 52.5 |  2527958 | 135.1 |  2336622 | 124.8 |\n",
       "| Vcells | 4509598 | 34.5 | 10146329 |  77.5 | 10146329 |  77.5 |\n",
       "\n"
      ],
      "text/plain": [
       "       used    (Mb) gc trigger (Mb)  max used (Mb) \n",
       "Ncells  982009 52.5  2527958   135.1  2336622 124.8\n",
       "Vcells 4509598 34.5 10146329    77.5 10146329  77.5"
      ]
     },
     "metadata": {},
     "output_type": "display_data"
    }
   ],
   "source": [
    "feats = NULL\n",
    "rm(feats)\n",
    "gc()"
   ]
  },
  {
   "cell_type": "markdown",
   "metadata": {},
   "source": [
    "# DeemMAsED-SM: round 2\n",
    "\n",
    "* creating more simulations to more fully assess feature importances"
   ]
  },
  {
   "cell_type": "markdown",
   "metadata": {},
   "source": [
    "## config"
   ]
  },
  {
   "cell_type": "code",
   "execution_count": 15,
   "metadata": {
    "ExecuteTime": {
     "end_time": "2020-03-26T14:05:27.967775Z",
     "start_time": "2020-03-26T14:05:27.835Z"
    }
   },
   "outputs": [
    {
     "name": "stdout",
     "output_type": "stream",
     "text": [
      "# Input table\n",
      "genomes_file: /ebio/abt3_projects/databases_no-backup/DeepMAsED/version2/ref_genomes/GTDBr89/metadata_n9000-rand_train.tsv\n",
      "\n",
      "# Output directory\n",
      "output_dir: /ebio/abt3_projects/databases_no-backup/DeepMAsED/version2/deepmased-sm/n9000-rand_r3/train/\n",
      "\n",
      "# Temporary output directory (/dev/shm/ for shared memory)\n",
      "tmp_dir: /ebio/abt3_scratch/\n",
      "\n",
      "# Email for notifications (\"Skip\" to skip)\n",
      "email: nyoungblut@tuebingen.mpg.de\n",
      "\n",
      "# software parameters\n",
      "## Use \"Skip\" to skip  steps. If no params for rule, use \"\"\n",
      "## `reps:` is the number of replicate simulations\n",
      "## If `keep_reads: True`, then simulated reads are kept\n",
      "params:\n",
      "  # simulating metagenomes\n",
      "  reps: 3\n",
      "  MGSIM:\n",
      "    genome_download: \"\"\n",
      "    community_richness:\n",
      "      - 0.011111\n",
      "      - 0.055555\n",
      "      - 0.444444\n",
      "      - 1\n",
      "    reads: --art-paired --art-mflen 250 --art-sdev 10\n",
      "    read_depth:\n",
      "      - 500000\n",
      "      - 1000000\n",
      "      - 5000000\n",
      "      - 10000000\n",
      "  keep_reads: False\n",
      "  # coverage\n",
      "  nonpareil: -T kmer\n",
      "  nonpareil_summary: 1e9   # this is target seq. depth\n",
      "  # assemblying metagenomes\n",
      "  assemblers:\n",
      "    metaspades: -k auto --only-assembler\n",
      "    megahit: --min-count 3 --min-contig-len 1000 --presets meta-sensitive\n",
      "  # assembly filtering\n",
      "  contig_length_cutoff: 1000       # length in bp \n",
      "  # assessing assembly errors\n",
      "  minimap2: \"\"\n",
      "  metaquast: --max-ref-number 0 --min-contig 1000 --min-identity 95 --extensive-mis-size 100 --no-html --no-plots --no-icarus --no-gc --no-snps --no-sv\n",
      "  # mapping reads to contigs  \n",
      "  samtools: \"\"\n",
      "  keep_bam: False\n",
      "  # creating DL features\n",
      "  make_features: --window 6\n",
      "  # state-of-the-art\n",
      "  ## ALE\n",
      "  ALE: \"\"\n",
      "  ## VALET\n",
      "  VALET: \"\"\n",
      "  \n",
      "# snakemake pipeline\n",
      "pipeline:\n",
      "  snakemake_folder: ./\n",
      "  script_folder: ./bin/scripts/\n",
      "  rnd_seed: 9384"
     ]
    }
   ],
   "source": [
    "config_file = file.path(work_dir, 'config_rnd2.yaml')\n",
    "cat_file(config_file)  "
   ]
  },
  {
   "cell_type": "markdown",
   "metadata": {},
   "source": [
    "## Run"
   ]
  },
  {
   "cell_type": "markdown",
   "metadata": {},
   "source": [
    "```\n",
    "(snakemake) @ rick:/ebio/abt3_projects/databases_no-backup/bin/deepmased\n",
    "$ screen -L -S DM-SM-n9000-train ./snakemake_sge.sh /ebio/abt3_projects/databases_no-backup/DeepMAsED/version2/deepmased-sm/n9000-rand_r3/train/config_rnd2.yaml 20\n",
    "```"
   ]
  },
  {
   "cell_type": "markdown",
   "metadata": {},
   "source": [
    "# --WAITING--"
   ]
  },
  {
   "cell_type": "markdown",
   "metadata": {},
   "source": [
    "# sessionInfo"
   ]
  },
  {
   "cell_type": "code",
   "execution_count": null,
   "metadata": {
    "ExecuteTime": {
     "end_time": "2020-02-16T19:26:29.792984Z",
     "start_time": "2020-02-16T19:26:29.618Z"
    }
   },
   "outputs": [],
   "source": [
    "sessionInfo()"
   ]
  },
  {
   "cell_type": "code",
   "execution_count": null,
   "metadata": {},
   "outputs": [],
   "source": []
  }
 ],
 "metadata": {
  "kernelspec": {
   "display_name": "R [conda env:Georg_animal_feces-tidyverse]",
   "language": "R",
   "name": "conda-env-Georg_animal_feces-tidyverse-r"
  },
  "language_info": {
   "codemirror_mode": "r",
   "file_extension": ".r",
   "mimetype": "text/x-r-source",
   "name": "R",
   "pygments_lexer": "r",
   "version": "3.6.2"
  },
  "notify_time": "30",
  "toc": {
   "base_numbering": 1,
   "nav_menu": {},
   "number_sections": true,
   "sideBar": true,
   "skip_h1_title": false,
   "title_cell": "Table of Contents",
   "title_sidebar": "Contents",
   "toc_cell": true,
   "toc_position": {},
   "toc_section_display": true,
   "toc_window_display": true
  }
 },
 "nbformat": 4,
 "nbformat_minor": 2
}
