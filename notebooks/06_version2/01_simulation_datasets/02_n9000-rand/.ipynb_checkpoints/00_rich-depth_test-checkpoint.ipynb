{
 "cells": [
  {
   "cell_type": "markdown",
   "metadata": {
    "toc": true
   },
   "source": [
    "<h1>Table of Contents<span class=\"tocSkip\"></span></h1>\n",
    "<div class=\"toc\"><ul class=\"toc-item\"><li><span><a href=\"#Goal\" data-toc-modified-id=\"Goal-1\"><span class=\"toc-item-num\">1&nbsp;&nbsp;</span>Goal</a></span></li><li><span><a href=\"#Var\" data-toc-modified-id=\"Var-2\"><span class=\"toc-item-num\">2&nbsp;&nbsp;</span>Var</a></span></li><li><span><a href=\"#Init\" data-toc-modified-id=\"Init-3\"><span class=\"toc-item-num\">3&nbsp;&nbsp;</span>Init</a></span></li><li><span><a href=\"#Load\" data-toc-modified-id=\"Load-4\"><span class=\"toc-item-num\">4&nbsp;&nbsp;</span>Load</a></span></li><li><span><a href=\"#DeepMAsED-SM\" data-toc-modified-id=\"DeepMAsED-SM-5\"><span class=\"toc-item-num\">5&nbsp;&nbsp;</span>DeepMAsED-SM</a></span><ul class=\"toc-item\"><li><span><a href=\"#config\" data-toc-modified-id=\"config-5.1\"><span class=\"toc-item-num\">5.1&nbsp;&nbsp;</span>config</a></span></li><li><span><a href=\"#Run\" data-toc-modified-id=\"Run-5.2\"><span class=\"toc-item-num\">5.2&nbsp;&nbsp;</span>Run</a></span></li></ul></li><li><span><a href=\"#--WAITING--\" data-toc-modified-id=\"--WAITING---6\"><span class=\"toc-item-num\">6&nbsp;&nbsp;</span>--WAITING--</a></span></li><li><span><a href=\"#sessionInfo\" data-toc-modified-id=\"sessionInfo-7\"><span class=\"toc-item-num\">7&nbsp;&nbsp;</span>sessionInfo</a></span></li></ul></div>"
   ]
  },
  {
   "cell_type": "markdown",
   "metadata": {},
   "source": [
    "# Goal\n",
    "\n",
    "* test run of simulations with n9000-rand dataset"
   ]
  },
  {
   "cell_type": "markdown",
   "metadata": {},
   "source": [
    "# Var"
   ]
  },
  {
   "cell_type": "code",
   "execution_count": 16,
   "metadata": {
    "ExecuteTime": {
     "end_time": "2020-02-16T19:24:34.436263Z",
     "start_time": "2020-02-16T19:24:34.373Z"
    }
   },
   "outputs": [],
   "source": [
    "work_dir = '/ebio/abt3_projects/databases_no-backup/DeepMAsED/version2/deepmased-sm/n9000-rand_r3/train/'\n",
    "\n",
    "# all metadata for train + test\n",
    "metadata_file = '/ebio/abt3_projects/databases_no-backup/DeepMAsED/version2/ref_genomes/GTDBr89/metadata_n9000-rand.tsv'"
   ]
  },
  {
   "cell_type": "markdown",
   "metadata": {},
   "source": [
    "# Init"
   ]
  },
  {
   "cell_type": "code",
   "execution_count": 11,
   "metadata": {
    "ExecuteTime": {
     "end_time": "2020-02-16T19:22:33.204530Z",
     "start_time": "2020-02-16T19:22:33.142Z"
    }
   },
   "outputs": [],
   "source": [
    "library(dplyr)\n",
    "library(tidyr)\n",
    "library(ggplot2)\n",
    "library(data.table)\n",
    "\n",
    "set.seed(8473)"
   ]
  },
  {
   "cell_type": "code",
   "execution_count": 17,
   "metadata": {
    "ExecuteTime": {
     "end_time": "2020-02-16T19:26:01.581452Z",
     "start_time": "2020-02-16T19:26:01.515Z"
    }
   },
   "outputs": [],
   "source": [
    "cat_file = function(file_name){\n",
    "  cmd = paste('cat', file_name, collapse=' ')\n",
    "  system(cmd, intern=TRUE) %>% paste(collapse='\\n') %>% cat\n",
    "}"
   ]
  },
  {
   "cell_type": "markdown",
   "metadata": {},
   "source": [
    "# Load"
   ]
  },
  {
   "cell_type": "code",
   "execution_count": 15,
   "metadata": {
    "ExecuteTime": {
     "end_time": "2020-02-16T19:23:34.039597Z",
     "start_time": "2020-02-16T19:23:22.797Z"
    }
   },
   "outputs": [
    {
     "data": {
      "text/html": [
       "18000"
      ],
      "text/latex": [
       "18000"
      ],
      "text/markdown": [
       "18000"
      ],
      "text/plain": [
       "[1] 18000"
      ]
     },
     "metadata": {},
     "output_type": "display_data"
    },
    {
     "data": {
      "text/html": [
       "<table>\n",
       "<thead><tr><th scope=col>accession</th><th scope=col>Domain</th><th scope=col>Phylum</th><th scope=col>Class</th><th scope=col>Order</th><th scope=col>Family</th><th scope=col>Genus</th><th scope=col>Species</th><th scope=col>ambiguous_bases</th><th scope=col>checkm_completeness</th><th scope=col>⋯</th><th scope=col>ssu_silva_blast_evalue</th><th scope=col>ssu_silva_blast_perc_identity</th><th scope=col>ssu_silva_blast_subject_id</th><th scope=col>ssu_silva_taxonomy</th><th scope=col>total_gap_length</th><th scope=col>trna_aa_count</th><th scope=col>trna_count</th><th scope=col>trna_selenocysteine_count</th><th scope=col>fasta_file_path</th><th scope=col>dataset_partition</th></tr></thead>\n",
       "<tbody>\n",
       "\t<tr><td>RS_GCF_000478885.1                                                                                                                                                        </td><td>d__Bacteria                                                                                                                                                               </td><td>p__Actinobacteriota                                                                                                                                                       </td><td>c__Coriobacteriia                                                                                                                                                         </td><td>o__Coriobacteriales                                                                                                                                                       </td><td>f__Eggerthellaceae                                                                                                                                                        </td><td>g__Adlercreutzia                                                                                                                                                          </td><td>s__Adlercreutzia equolifaciens                                                                                                                                            </td><td>0                                                                                                                                                                         </td><td>100.00                                                                                                                                                                    </td><td>⋯                                                                                                                                                                         </td><td>0                                                                                                                                                                         </td><td>100.000                                                                                                                                                                   </td><td>AB649147.1.1469                                                                                                                                                           </td><td>Bacteria;Actinobacteria;Coriobacteriia;Coriobacteriales;Coriobacteriaceae;Adlercreutzia;Adlercreutzia equolifaciens                                                       </td><td>  0                                                                                                                                                                       </td><td>20                                                                                                                                                                        </td><td>48                                                                                                                                                                        </td><td>0                                                                                                                                                                         </td><td>/ebio/abt3_projects/databases_no-backup/DeepMAsED/version2/ref_genomes/GTDBr89/genomes_quality/genbank/bacteria/GCA_000478885.1/GCA_000478885.1_ASM47888v1_genomic.fna.gz </td><td>Train                                                                                                                                                                     </td></tr>\n",
       "\t<tr><td>RS_GCF_002560615.1                                                                                                                                                        </td><td>d__Bacteria                                                                                                                                                               </td><td>p__Firmicutes                                                                                                                                                             </td><td>c__Bacilli                                                                                                                                                                </td><td>o__Bacillales                                                                                                                                                             </td><td>f__Bacillaceae_G                                                                                                                                                          </td><td>g__Bacillus_A                                                                                                                                                             </td><td>s__Bacillus_A cereus_AG                                                                                                                                                   </td><td>0                                                                                                                                                                         </td><td> 98.68                                                                                                                                                                    </td><td>⋯                                                                                                                                                                         </td><td>0                                                                                                                                                                         </td><td> 99.935                                                                                                                                                                   </td><td>CP010089.670406.671961                                                                                                                                                    </td><td>Bacteria;Firmicutes;Bacilli;Bacillales;Bacillaceae;Bacillus;Bacillus thuringiensis serovar galleriae                                                                      </td><td>368                                                                                                                                                                       </td><td>20                                                                                                                                                                        </td><td>63                                                                                                                                                                        </td><td>0                                                                                                                                                                         </td><td>/ebio/abt3_projects/databases_no-backup/DeepMAsED/version2/ref_genomes/GTDBr89/genomes_quality/genbank/bacteria/GCA_002560615.1/GCA_002560615.1_ASM256061v1_genomic.fna.gz</td><td>Train                                                                                                                                                                     </td></tr>\n",
       "\t<tr><td>RS_GCF_001636615.1                                                                                                                                                        </td><td>d__Bacteria                                                                                                                                                               </td><td>p__Bacteroidota                                                                                                                                                           </td><td>c__Bacteroidia                                                                                                                                                            </td><td>o__Sphingobacteriales                                                                                                                                                     </td><td>f__Sphingobacteriaceae                                                                                                                                                    </td><td>g__Mucilaginibacter                                                                                                                                                       </td><td>s__Mucilaginibacter sp001636615                                                                                                                                           </td><td>0                                                                                                                                                                         </td><td> 98.10                                                                                                                                                                    </td><td>⋯                                                                                                                                                                         </td><td>0                                                                                                                                                                         </td><td>100.000                                                                                                                                                                   </td><td>JQ798421.1.1483                                                                                                                                                           </td><td>Bacteria;Bacteroidetes;Sphingobacteriia;Sphingobacteriales;Sphingobacteriaceae;Mucilaginibacter;uncultured bacterium                                                      </td><td>  0                                                                                                                                                                       </td><td>19                                                                                                                                                                        </td><td>44                                                                                                                                                                        </td><td>0                                                                                                                                                                         </td><td>/ebio/abt3_projects/databases_no-backup/DeepMAsED/version2/ref_genomes/GTDBr89/genomes_quality/genbank/bacteria/GCA_001636615.1/GCA_001636615.1_ASM163661v1_genomic.fna.gz</td><td>Train                                                                                                                                                                     </td></tr>\n",
       "</tbody>\n",
       "</table>\n"
      ],
      "text/latex": [
       "\\begin{tabular}{r|llllllllllllllllllllllllllllllllllllllllllllllllllllllllllllllllllllllllllllllllllllllllllllllllllllllllllllllllllllll}\n",
       " accession & Domain & Phylum & Class & Order & Family & Genus & Species & ambiguous\\_bases & checkm\\_completeness & ⋯ & ssu\\_silva\\_blast\\_evalue & ssu\\_silva\\_blast\\_perc\\_identity & ssu\\_silva\\_blast\\_subject\\_id & ssu\\_silva\\_taxonomy & total\\_gap\\_length & trna\\_aa\\_count & trna\\_count & trna\\_selenocysteine\\_count & fasta\\_file\\_path & dataset\\_partition\\\\\n",
       "\\hline\n",
       "\t RS\\_GCF\\_000478885.1                                                                                                                                                                     & d\\_\\_Bacteria                                                                                                                                                                            & p\\_\\_Actinobacteriota                                                                                                                                                                    & c\\_\\_Coriobacteriia                                                                                                                                                                      & o\\_\\_Coriobacteriales                                                                                                                                                                    & f\\_\\_Eggerthellaceae                                                                                                                                                                     & g\\_\\_Adlercreutzia                                                                                                                                                                       & s\\_\\_Adlercreutzia equolifaciens                                                                                                                                                         & 0                                                                                                                                                                                          & 100.00                                                                                                                                                                                     & ⋯                                                                                                                                                                                          & 0                                                                                                                                                                                          & 100.000                                                                                                                                                                                    & AB649147.1.1469                                                                                                                                                                            & Bacteria;Actinobacteria;Coriobacteriia;Coriobacteriales;Coriobacteriaceae;Adlercreutzia;Adlercreutzia equolifaciens                                                                        &   0                                                                                                                                                                                        & 20                                                                                                                                                                                         & 48                                                                                                                                                                                         & 0                                                                                                                                                                                          & /ebio/abt3\\_projects/databases\\_no-backup/DeepMAsED/version2/ref\\_genomes/GTDBr89/genomes\\_quality/genbank/bacteria/GCA\\_000478885.1/GCA\\_000478885.1\\_ASM47888v1\\_genomic.fna.gz  & Train                                                                                                                                                                                     \\\\\n",
       "\t RS\\_GCF\\_002560615.1                                                                                                                                                                     & d\\_\\_Bacteria                                                                                                                                                                            & p\\_\\_Firmicutes                                                                                                                                                                          & c\\_\\_Bacilli                                                                                                                                                                             & o\\_\\_Bacillales                                                                                                                                                                          & f\\_\\_Bacillaceae\\_G                                                                                                                                                                     & g\\_\\_Bacillus\\_A                                                                                                                                                                        & s\\_\\_Bacillus\\_A cereus\\_AG                                                                                                                                                            & 0                                                                                                                                                                                          &  98.68                                                                                                                                                                                     & ⋯                                                                                                                                                                                          & 0                                                                                                                                                                                          &  99.935                                                                                                                                                                                    & CP010089.670406.671961                                                                                                                                                                     & Bacteria;Firmicutes;Bacilli;Bacillales;Bacillaceae;Bacillus;Bacillus thuringiensis serovar galleriae                                                                                       & 368                                                                                                                                                                                        & 20                                                                                                                                                                                         & 63                                                                                                                                                                                         & 0                                                                                                                                                                                          & /ebio/abt3\\_projects/databases\\_no-backup/DeepMAsED/version2/ref\\_genomes/GTDBr89/genomes\\_quality/genbank/bacteria/GCA\\_002560615.1/GCA\\_002560615.1\\_ASM256061v1\\_genomic.fna.gz & Train                                                                                                                                                                                     \\\\\n",
       "\t RS\\_GCF\\_001636615.1                                                                                                                                                                     & d\\_\\_Bacteria                                                                                                                                                                            & p\\_\\_Bacteroidota                                                                                                                                                                        & c\\_\\_Bacteroidia                                                                                                                                                                         & o\\_\\_Sphingobacteriales                                                                                                                                                                  & f\\_\\_Sphingobacteriaceae                                                                                                                                                                 & g\\_\\_Mucilaginibacter                                                                                                                                                                    & s\\_\\_Mucilaginibacter sp001636615                                                                                                                                                        & 0                                                                                                                                                                                          &  98.10                                                                                                                                                                                     & ⋯                                                                                                                                                                                          & 0                                                                                                                                                                                          & 100.000                                                                                                                                                                                    & JQ798421.1.1483                                                                                                                                                                            & Bacteria;Bacteroidetes;Sphingobacteriia;Sphingobacteriales;Sphingobacteriaceae;Mucilaginibacter;uncultured bacterium                                                                       &   0                                                                                                                                                                                        & 19                                                                                                                                                                                         & 44                                                                                                                                                                                         & 0                                                                                                                                                                                          & /ebio/abt3\\_projects/databases\\_no-backup/DeepMAsED/version2/ref\\_genomes/GTDBr89/genomes\\_quality/genbank/bacteria/GCA\\_001636615.1/GCA\\_001636615.1\\_ASM163661v1\\_genomic.fna.gz & Train                                                                                                                                                                                     \\\\\n",
       "\\end{tabular}\n"
      ],
      "text/markdown": [
       "\n",
       "accession | Domain | Phylum | Class | Order | Family | Genus | Species | ambiguous_bases | checkm_completeness | ⋯ | ssu_silva_blast_evalue | ssu_silva_blast_perc_identity | ssu_silva_blast_subject_id | ssu_silva_taxonomy | total_gap_length | trna_aa_count | trna_count | trna_selenocysteine_count | fasta_file_path | dataset_partition | \n",
       "|---|---|---|\n",
       "| RS_GCF_000478885.1                                                                                                                                                         | d__Bacteria                                                                                                                                                                | p__Actinobacteriota                                                                                                                                                        | c__Coriobacteriia                                                                                                                                                          | o__Coriobacteriales                                                                                                                                                        | f__Eggerthellaceae                                                                                                                                                         | g__Adlercreutzia                                                                                                                                                           | s__Adlercreutzia equolifaciens                                                                                                                                             | 0                                                                                                                                                                          | 100.00                                                                                                                                                                     | ⋯                                                                                                                                                                          | 0                                                                                                                                                                          | 100.000                                                                                                                                                                    | AB649147.1.1469                                                                                                                                                            | Bacteria;Actinobacteria;Coriobacteriia;Coriobacteriales;Coriobacteriaceae;Adlercreutzia;Adlercreutzia equolifaciens                                                        |   0                                                                                                                                                                        | 20                                                                                                                                                                         | 48                                                                                                                                                                         | 0                                                                                                                                                                          | /ebio/abt3_projects/databases_no-backup/DeepMAsED/version2/ref_genomes/GTDBr89/genomes_quality/genbank/bacteria/GCA_000478885.1/GCA_000478885.1_ASM47888v1_genomic.fna.gz  | Train                                                                                                                                                                      | \n",
       "| RS_GCF_002560615.1                                                                                                                                                         | d__Bacteria                                                                                                                                                                | p__Firmicutes                                                                                                                                                              | c__Bacilli                                                                                                                                                                 | o__Bacillales                                                                                                                                                              | f__Bacillaceae_G                                                                                                                                                           | g__Bacillus_A                                                                                                                                                              | s__Bacillus_A cereus_AG                                                                                                                                                    | 0                                                                                                                                                                          |  98.68                                                                                                                                                                     | ⋯                                                                                                                                                                          | 0                                                                                                                                                                          |  99.935                                                                                                                                                                    | CP010089.670406.671961                                                                                                                                                     | Bacteria;Firmicutes;Bacilli;Bacillales;Bacillaceae;Bacillus;Bacillus thuringiensis serovar galleriae                                                                       | 368                                                                                                                                                                        | 20                                                                                                                                                                         | 63                                                                                                                                                                         | 0                                                                                                                                                                          | /ebio/abt3_projects/databases_no-backup/DeepMAsED/version2/ref_genomes/GTDBr89/genomes_quality/genbank/bacteria/GCA_002560615.1/GCA_002560615.1_ASM256061v1_genomic.fna.gz | Train                                                                                                                                                                      | \n",
       "| RS_GCF_001636615.1                                                                                                                                                         | d__Bacteria                                                                                                                                                                | p__Bacteroidota                                                                                                                                                            | c__Bacteroidia                                                                                                                                                             | o__Sphingobacteriales                                                                                                                                                      | f__Sphingobacteriaceae                                                                                                                                                     | g__Mucilaginibacter                                                                                                                                                        | s__Mucilaginibacter sp001636615                                                                                                                                            | 0                                                                                                                                                                          |  98.10                                                                                                                                                                     | ⋯                                                                                                                                                                          | 0                                                                                                                                                                          | 100.000                                                                                                                                                                    | JQ798421.1.1483                                                                                                                                                            | Bacteria;Bacteroidetes;Sphingobacteriia;Sphingobacteriales;Sphingobacteriaceae;Mucilaginibacter;uncultured bacterium                                                       |   0                                                                                                                                                                        | 19                                                                                                                                                                         | 44                                                                                                                                                                         | 0                                                                                                                                                                          | /ebio/abt3_projects/databases_no-backup/DeepMAsED/version2/ref_genomes/GTDBr89/genomes_quality/genbank/bacteria/GCA_001636615.1/GCA_001636615.1_ASM163661v1_genomic.fna.gz | Train                                                                                                                                                                      | \n",
       "\n",
       "\n"
      ],
      "text/plain": [
       "  accession          Domain      Phylum              Class            \n",
       "1 RS_GCF_000478885.1 d__Bacteria p__Actinobacteriota c__Coriobacteriia\n",
       "2 RS_GCF_002560615.1 d__Bacteria p__Firmicutes       c__Bacilli       \n",
       "3 RS_GCF_001636615.1 d__Bacteria p__Bacteroidota     c__Bacteroidia   \n",
       "  Order                 Family                 Genus              \n",
       "1 o__Coriobacteriales   f__Eggerthellaceae     g__Adlercreutzia   \n",
       "2 o__Bacillales         f__Bacillaceae_G       g__Bacillus_A      \n",
       "3 o__Sphingobacteriales f__Sphingobacteriaceae g__Mucilaginibacter\n",
       "  Species                         ambiguous_bases checkm_completeness ⋯\n",
       "1 s__Adlercreutzia equolifaciens  0               100.00              ⋯\n",
       "2 s__Bacillus_A cereus_AG         0                98.68              ⋯\n",
       "3 s__Mucilaginibacter sp001636615 0                98.10              ⋯\n",
       "  ssu_silva_blast_evalue ssu_silva_blast_perc_identity\n",
       "1 0                      100.000                      \n",
       "2 0                       99.935                      \n",
       "3 0                      100.000                      \n",
       "  ssu_silva_blast_subject_id\n",
       "1 AB649147.1.1469           \n",
       "2 CP010089.670406.671961    \n",
       "3 JQ798421.1.1483           \n",
       "  ssu_silva_taxonomy                                                                                                  \n",
       "1 Bacteria;Actinobacteria;Coriobacteriia;Coriobacteriales;Coriobacteriaceae;Adlercreutzia;Adlercreutzia equolifaciens \n",
       "2 Bacteria;Firmicutes;Bacilli;Bacillales;Bacillaceae;Bacillus;Bacillus thuringiensis serovar galleriae                \n",
       "3 Bacteria;Bacteroidetes;Sphingobacteriia;Sphingobacteriales;Sphingobacteriaceae;Mucilaginibacter;uncultured bacterium\n",
       "  total_gap_length trna_aa_count trna_count trna_selenocysteine_count\n",
       "1   0              20            48         0                        \n",
       "2 368              20            63         0                        \n",
       "3   0              19            44         0                        \n",
       "  fasta_file_path                                                                                                                                                           \n",
       "1 /ebio/abt3_projects/databases_no-backup/DeepMAsED/version2/ref_genomes/GTDBr89/genomes_quality/genbank/bacteria/GCA_000478885.1/GCA_000478885.1_ASM47888v1_genomic.fna.gz \n",
       "2 /ebio/abt3_projects/databases_no-backup/DeepMAsED/version2/ref_genomes/GTDBr89/genomes_quality/genbank/bacteria/GCA_002560615.1/GCA_002560615.1_ASM256061v1_genomic.fna.gz\n",
       "3 /ebio/abt3_projects/databases_no-backup/DeepMAsED/version2/ref_genomes/GTDBr89/genomes_quality/genbank/bacteria/GCA_001636615.1/GCA_001636615.1_ASM163661v1_genomic.fna.gz\n",
       "  dataset_partition\n",
       "1 Train            \n",
       "2 Train            \n",
       "3 Train            "
      ]
     },
     "metadata": {},
     "output_type": "display_data"
    }
   ],
   "source": [
    "metadata = read.delim(metadata_file, sep='\\t')\n",
    "metadata %>% nrow\n",
    "metadata %>% head(n=3)"
   ]
  },
  {
   "cell_type": "markdown",
   "metadata": {},
   "source": [
    "# DeepMAsED-SM"
   ]
  },
  {
   "cell_type": "markdown",
   "metadata": {},
   "source": [
    "## config"
   ]
  },
  {
   "cell_type": "code",
   "execution_count": 18,
   "metadata": {
    "ExecuteTime": {
     "end_time": "2020-02-16T19:26:07.722833Z",
     "start_time": "2020-02-16T19:26:07.634Z"
    }
   },
   "outputs": [
    {
     "name": "stdout",
     "output_type": "stream",
     "text": [
      "# Input table\n",
      "genomes_file: /ebio/abt3_projects/databases_no-backup/DeepMAsED/version2/ref_genomes/GTDBr89/metadata_n9000-rand_train.tsv\n",
      "\n",
      "# Output directory\n",
      "output_dir: /ebio/abt3_projects/databases_no-backup/DeepMAsED/version2/deepmased-sm/n9000-rand_r3/train/\n",
      "\n",
      "# Temporary output directory (/dev/shm/ for shared memory)\n",
      "tmp_dir: /ebio/abt3_scratch/\n",
      "\n",
      "# Email for notifications (\"Skip\" to skip)\n",
      "email: nyoungblut@tuebingen.mpg.de\n",
      "\n",
      "# software parameters\n",
      "## Use \"Skip\" to skip  steps. If no params for rule, use \"\"\n",
      "## `reps:` is the number of replicate simulations\n",
      "## If `keep_reads: True`, then simulated reads are kept\n",
      "params:\n",
      "  # simulating metagenomes\n",
      "  reps: 3\n",
      "  MGSIM:\n",
      "    genome_download: \"\"\n",
      "    community_richness:\n",
      "      - 0.011\n",
      "      - 0.055\n",
      "    reads: --art-paired --art-mflen 250 --art-sdev 10\n",
      "    read_depth:\n",
      "      - 1000000\n",
      "      - 5000000\n",
      "  keep_reads: False\n",
      "  # coverage\n",
      "  nonpareil: -T kmer\n",
      "  nonpareil_summary: 1e9   # this is target seq. depth\n",
      "  # assemblying metagenomes\n",
      "  assemblers:\n",
      "    metaspades: -k auto --only-assembler\n",
      "    megahit: --min-count 3 --min-contig-len 1000 --presets meta-sensitive\n",
      "  # assembly filtering\n",
      "  contig_length_cutoff: 1000       # length in bp \n",
      "  # assessing assembly errors\n",
      "  minimap2: \"\"\n",
      "  metaquast: --min-identity 95 --extensive-mis-size 100 --no-icarus --max-ref-number 0\n",
      "  # mapping reads to contigs  \n",
      "  samtools: \"\"\n",
      "  keep_bam: True\n",
      "  # creating DL features\n",
      "  make_features: --window 6\n",
      "  # state-of-the-art\n",
      "  ## ALE\n",
      "  ALE: \"\"\n",
      "  ## VALET\n",
      "  VALET: \"\"\n",
      "  \n",
      "# snakemake pipeline\n",
      "pipeline:\n",
      "  snakemake_folder: ./\n",
      "  script_folder: ./bin/scripts/\n",
      "  rnd_seed: 9384"
     ]
    }
   ],
   "source": [
    "config_file = file.path(work_dir, 'config.yaml')\n",
    "cat_file(config_file)"
   ]
  },
  {
   "cell_type": "markdown",
   "metadata": {},
   "source": [
    "## Run"
   ]
  },
  {
   "cell_type": "markdown",
   "metadata": {},
   "source": [
    "```\n",
    "(snakemake) @ rick:/ebio/abt3_projects/databases_no-backup/bin/deepmased\n",
    "$ screen -L -S DM-train-r3 ./snakemake_sge.sh /ebio/abt3_projects/databases_no-backup/DeepMAsED/version2/deepmased-sm/n9000-rand_r3/train/config.yaml 24\n",
    "```"
   ]
  },
  {
   "cell_type": "markdown",
   "metadata": {},
   "source": [
    "# --WAITING--\n",
    "\n",
    "> NOTE: changed code in repo"
   ]
  },
  {
   "cell_type": "markdown",
   "metadata": {},
   "source": [
    "# sessionInfo"
   ]
  },
  {
   "cell_type": "code",
   "execution_count": 19,
   "metadata": {
    "ExecuteTime": {
     "end_time": "2020-02-16T19:26:29.792984Z",
     "start_time": "2020-02-16T19:26:29.618Z"
    }
   },
   "outputs": [
    {
     "data": {
      "text/plain": [
       "R version 3.4.1 (2017-06-30)\n",
       "Platform: x86_64-pc-linux-gnu (64-bit)\n",
       "Running under: Ubuntu 18.04.3 LTS\n",
       "\n",
       "Matrix products: default\n",
       "BLAS: /ebio/abt3_projects/software/miniconda3_gt4.4/envs/py3_physeq/lib/R/lib/libRblas.so\n",
       "LAPACK: /ebio/abt3_projects/software/miniconda3_gt4.4/envs/py3_physeq/lib/R/lib/libRlapack.so\n",
       "\n",
       "locale:\n",
       " [1] LC_CTYPE=en_US.UTF-8       LC_NUMERIC=C              \n",
       " [3] LC_TIME=en_US.UTF-8        LC_COLLATE=en_US.UTF-8    \n",
       " [5] LC_MONETARY=en_US.UTF-8    LC_MESSAGES=en_US.UTF-8   \n",
       " [7] LC_PAPER=en_US.UTF-8       LC_NAME=C                 \n",
       " [9] LC_ADDRESS=C               LC_TELEPHONE=C            \n",
       "[11] LC_MEASUREMENT=en_US.UTF-8 LC_IDENTIFICATION=C       \n",
       "\n",
       "attached base packages:\n",
       "[1] stats     graphics  grDevices utils     datasets  methods   base     \n",
       "\n",
       "other attached packages:\n",
       "[1] data.table_1.11.4 ggplot2_3.0.0     tidyr_0.8.1       dplyr_0.7.6      \n",
       "\n",
       "loaded via a namespace (and not attached):\n",
       " [1] Rcpp_0.12.17     pillar_1.2.2     compiler_3.4.1   plyr_1.8.4      \n",
       " [5] bindr_0.1.1      base64enc_0.1-3  tools_3.4.1      digest_0.6.15   \n",
       " [9] uuid_0.1-2       jsonlite_1.5     evaluate_0.10.1  tibble_1.4.2    \n",
       "[13] gtable_0.2.0     pkgconfig_2.0.1  rlang_0.2.1      IRdisplay_0.4.4 \n",
       "[17] IRkernel_0.8.12  bindrcpp_0.2.2   repr_0.15.0      withr_2.1.1     \n",
       "[21] stringr_1.3.1    grid_3.4.1       tidyselect_0.2.4 glue_1.3.0      \n",
       "[25] R6_2.2.2         pbdZMQ_0.3-2     purrr_0.2.4      magrittr_1.5    \n",
       "[29] scales_0.5.0     htmltools_0.3.6  assertthat_0.2.0 colorspace_1.3-2\n",
       "[33] stringi_1.2.3    lazyeval_0.2.1   munsell_0.5.0    crayon_1.3.4    "
      ]
     },
     "metadata": {},
     "output_type": "display_data"
    }
   ],
   "source": [
    "sessionInfo()"
   ]
  },
  {
   "cell_type": "code",
   "execution_count": null,
   "metadata": {},
   "outputs": [],
   "source": []
  }
 ],
 "metadata": {
  "kernelspec": {
   "display_name": "R [conda env:py3_physeq]",
   "language": "R",
   "name": "conda-env-py3_physeq-r"
  },
  "language_info": {
   "codemirror_mode": "r",
   "file_extension": ".r",
   "mimetype": "text/x-r-source",
   "name": "R",
   "pygments_lexer": "r",
   "version": "3.4.1"
  },
  "notify_time": "30",
  "toc": {
   "base_numbering": 1,
   "nav_menu": {},
   "number_sections": true,
   "sideBar": true,
   "skip_h1_title": false,
   "title_cell": "Table of Contents",
   "title_sidebar": "Contents",
   "toc_cell": true,
   "toc_position": {},
   "toc_section_display": true,
   "toc_window_display": true
  }
 },
 "nbformat": 4,
 "nbformat_minor": 2
}
