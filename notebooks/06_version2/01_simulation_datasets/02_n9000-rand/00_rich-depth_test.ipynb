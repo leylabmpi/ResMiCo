{
 "cells": [
  {
   "cell_type": "markdown",
   "metadata": {
    "toc": true
   },
   "source": [
    "<h1>Table of Contents<span class=\"tocSkip\"></span></h1>\n",
    "<div class=\"toc\"><ul class=\"toc-item\"><li><span><a href=\"#Goal\" data-toc-modified-id=\"Goal-1\"><span class=\"toc-item-num\">1&nbsp;&nbsp;</span>Goal</a></span></li><li><span><a href=\"#Var\" data-toc-modified-id=\"Var-2\"><span class=\"toc-item-num\">2&nbsp;&nbsp;</span>Var</a></span></li><li><span><a href=\"#Init\" data-toc-modified-id=\"Init-3\"><span class=\"toc-item-num\">3&nbsp;&nbsp;</span>Init</a></span></li><li><span><a href=\"#Load\" data-toc-modified-id=\"Load-4\"><span class=\"toc-item-num\">4&nbsp;&nbsp;</span>Load</a></span></li><li><span><a href=\"#DeepMAsED-SM\" data-toc-modified-id=\"DeepMAsED-SM-5\"><span class=\"toc-item-num\">5&nbsp;&nbsp;</span>DeepMAsED-SM</a></span><ul class=\"toc-item\"><li><span><a href=\"#config\" data-toc-modified-id=\"config-5.1\"><span class=\"toc-item-num\">5.1&nbsp;&nbsp;</span>config</a></span></li><li><span><a href=\"#Run\" data-toc-modified-id=\"Run-5.2\"><span class=\"toc-item-num\">5.2&nbsp;&nbsp;</span>Run</a></span></li></ul></li><li><span><a href=\"#Summary\" data-toc-modified-id=\"Summary-6\"><span class=\"toc-item-num\">6&nbsp;&nbsp;</span>Summary</a></span></li><li><span><a href=\"#sessionInfo\" data-toc-modified-id=\"sessionInfo-7\"><span class=\"toc-item-num\">7&nbsp;&nbsp;</span>sessionInfo</a></span></li></ul></div>"
   ]
  },
  {
   "cell_type": "markdown",
   "metadata": {},
   "source": [
    "# Goal\n",
    "\n",
    "* test run of simulations with n9000-rand dataset"
   ]
  },
  {
   "cell_type": "markdown",
   "metadata": {},
   "source": [
    "# Var"
   ]
  },
  {
   "cell_type": "code",
   "execution_count": 2,
   "metadata": {
    "ExecuteTime": {
     "end_time": "2020-03-04T06:30:16.454723Z",
     "start_time": "2020-03-04T06:30:16.226Z"
    }
   },
   "outputs": [],
   "source": [
    "work_dir = '/ebio/abt3_projects/databases_no-backup/DeepMAsED/version2/deepmased-sm/n9000-rand_r3/train/'\n",
    "\n",
    "# all metadata for train + test\n",
    "metadata_file = '/ebio/abt3_projects/databases_no-backup/DeepMAsED/version2/ref_genomes/GTDBr89/metadata_n9000-rand.tsv'"
   ]
  },
  {
   "cell_type": "markdown",
   "metadata": {},
   "source": [
    "# Init"
   ]
  },
  {
   "cell_type": "code",
   "execution_count": 15,
   "metadata": {
    "ExecuteTime": {
     "end_time": "2020-03-04T06:36:05.655366Z",
     "start_time": "2020-03-04T06:36:05.491Z"
    }
   },
   "outputs": [],
   "source": [
    "library(dplyr)\n",
    "library(tidyr)\n",
    "library(ggplot2)\n",
    "library(data.table)\n",
    "library(dtplyr)\n",
    "library(LeyLabRMisc)"
   ]
  },
  {
   "cell_type": "code",
   "execution_count": 4,
   "metadata": {
    "ExecuteTime": {
     "end_time": "2020-03-04T06:30:23.781016Z",
     "start_time": "2020-03-04T06:30:23.741Z"
    }
   },
   "outputs": [],
   "source": [
    "df.dims()\n",
    "set.seed(8473)"
   ]
  },
  {
   "cell_type": "markdown",
   "metadata": {},
   "source": [
    "# Load"
   ]
  },
  {
   "cell_type": "code",
   "execution_count": 5,
   "metadata": {
    "ExecuteTime": {
     "end_time": "2020-03-04T06:30:33.115314Z",
     "start_time": "2020-03-04T06:30:28.438Z"
    }
   },
   "outputs": [
    {
     "data": {
      "text/html": [
       "18000"
      ],
      "text/latex": [
       "18000"
      ],
      "text/markdown": [
       "18000"
      ],
      "text/plain": [
       "[1] 18000"
      ]
     },
     "metadata": {},
     "output_type": "display_data"
    },
    {
     "data": {
      "text/html": [
       "<table>\n",
       "<caption>A data.frame: 18000 × 118</caption>\n",
       "<thead>\n",
       "\t<tr><th scope=col>accession</th><th scope=col>Domain</th><th scope=col>Phylum</th><th scope=col>Class</th><th scope=col>Order</th><th scope=col>Family</th><th scope=col>Genus</th><th scope=col>Species</th><th scope=col>ambiguous_bases</th><th scope=col>checkm_completeness</th><th scope=col>⋯</th><th scope=col>ssu_silva_blast_evalue</th><th scope=col>ssu_silva_blast_perc_identity</th><th scope=col>ssu_silva_blast_subject_id</th><th scope=col>ssu_silva_taxonomy</th><th scope=col>total_gap_length</th><th scope=col>trna_aa_count</th><th scope=col>trna_count</th><th scope=col>trna_selenocysteine_count</th><th scope=col>fasta_file_path</th><th scope=col>dataset_partition</th></tr>\n",
       "\t<tr><th scope=col>&lt;fct&gt;</th><th scope=col>&lt;fct&gt;</th><th scope=col>&lt;fct&gt;</th><th scope=col>&lt;fct&gt;</th><th scope=col>&lt;fct&gt;</th><th scope=col>&lt;fct&gt;</th><th scope=col>&lt;fct&gt;</th><th scope=col>&lt;fct&gt;</th><th scope=col>&lt;int&gt;</th><th scope=col>&lt;dbl&gt;</th><th scope=col>⋯</th><th scope=col>&lt;int&gt;</th><th scope=col>&lt;dbl&gt;</th><th scope=col>&lt;fct&gt;</th><th scope=col>&lt;fct&gt;</th><th scope=col>&lt;int&gt;</th><th scope=col>&lt;int&gt;</th><th scope=col>&lt;int&gt;</th><th scope=col>&lt;int&gt;</th><th scope=col>&lt;fct&gt;</th><th scope=col>&lt;fct&gt;</th></tr>\n",
       "</thead>\n",
       "<tbody>\n",
       "\t<tr><td>RS_GCF_000478885.1</td><td>d__Bacteria</td><td>p__Actinobacteriota</td><td>c__Coriobacteriia</td><td>o__Coriobacteriales</td><td>f__Eggerthellaceae</td><td>g__Adlercreutzia</td><td>s__Adlercreutzia equolifaciens</td><td>0</td><td>100.00</td><td>⋯</td><td>0</td><td>100.000</td><td>AB649147.1.1469       </td><td>Bacteria;Actinobacteria;Coriobacteriia;Coriobacteriales;Coriobacteriaceae;Adlercreutzia;Adlercreutzia equolifaciens</td><td>  0</td><td>20</td><td>48</td><td>0</td><td>/ebio/abt3_projects/databases_no-backup/DeepMAsED/version2/ref_genomes/GTDBr89/genomes_quality/genbank/bacteria/GCA_000478885.1/GCA_000478885.1_ASM47888v1_genomic.fna.gz </td><td>Train</td></tr>\n",
       "\t<tr><td>RS_GCF_002560615.1</td><td>d__Bacteria</td><td>p__Firmicutes      </td><td>c__Bacilli       </td><td>o__Bacillales      </td><td>f__Bacillaceae_G  </td><td>g__Bacillus_A   </td><td>s__Bacillus_A cereus_AG       </td><td>0</td><td> 98.68</td><td>⋯</td><td>0</td><td> 99.935</td><td>CP010089.670406.671961</td><td>Bacteria;Firmicutes;Bacilli;Bacillales;Bacillaceae;Bacillus;Bacillus thuringiensis serovar galleriae               </td><td>368</td><td>20</td><td>63</td><td>0</td><td>/ebio/abt3_projects/databases_no-backup/DeepMAsED/version2/ref_genomes/GTDBr89/genomes_quality/genbank/bacteria/GCA_002560615.1/GCA_002560615.1_ASM256061v1_genomic.fna.gz</td><td>Train</td></tr>\n",
       "\t<tr><td>⋮</td><td>⋮</td><td>⋮</td><td>⋮</td><td>⋮</td><td>⋮</td><td>⋮</td><td>⋮</td><td>⋮</td><td>⋮</td><td>⋱</td><td>⋮</td><td>⋮</td><td>⋮</td><td>⋮</td><td>⋮</td><td>⋮</td><td>⋮</td><td>⋮</td><td>⋮</td><td>⋮</td></tr>\n",
       "\t<tr><td>RS_GCF_000439435.1</td><td>d__Bacteria</td><td>p__Firmicutes</td><td>c__Bacilli</td><td>o__Mycoplasmatales</td><td>f__Mycoplasmataceae</td><td>g__Spiroplasma_A</td><td>s__Spiroplasma_A taiwanense</td><td>0</td><td>98.87</td><td>⋯</td><td>0</td><td>100</td><td>CP005074.862688.864196</td><td>Bacteria;Tenericutes;Mollicutes;Entomoplasmatales;Spiroplasmataceae;Spiroplasma;Spiroplasma taiwanense CT-1</td><td>0</td><td>20</td><td>29</td><td>1</td><td>/ebio/abt3_projects/databases_no-backup/DeepMAsED/version2/ref_genomes/GTDBr89/genomes_quality/genbank/bacteria/GCA_000439435.1/GCA_000439435.1_ASM43943v1_genomic.fna.gz </td><td>Test</td></tr>\n",
       "\t<tr><td>RS_GCF_002092595.1</td><td>d__Bacteria</td><td>p__Firmicutes</td><td>c__Bacilli</td><td>o__Lactobacillales</td><td>f__Lactobacillaceae</td><td>g__Leuconostoc  </td><td>s__Leuconostoc lactis_A    </td><td>0</td><td>99.44</td><td>⋯</td><td>0</td><td>100</td><td>AY456086.1.1537       </td><td>Bacteria;Firmicutes;Bacilli;Lactobacillales;Leuconostocaceae;Leuconostoc;Leuconostoc garlicum              </td><td>0</td><td>20</td><td>50</td><td>0</td><td>/ebio/abt3_projects/databases_no-backup/DeepMAsED/version2/ref_genomes/GTDBr89/genomes_quality/genbank/bacteria/GCA_002092595.1/GCA_002092595.1_ASM209259v1_genomic.fna.gz</td><td>Test</td></tr>\n",
       "</tbody>\n",
       "</table>\n"
      ],
      "text/latex": [
       "A data.frame: 18000 × 118\n",
       "\\begin{tabular}{lllllllllllllllllllll}\n",
       " accession & Domain & Phylum & Class & Order & Family & Genus & Species & ambiguous\\_bases & checkm\\_completeness & ⋯ & ssu\\_silva\\_blast\\_evalue & ssu\\_silva\\_blast\\_perc\\_identity & ssu\\_silva\\_blast\\_subject\\_id & ssu\\_silva\\_taxonomy & total\\_gap\\_length & trna\\_aa\\_count & trna\\_count & trna\\_selenocysteine\\_count & fasta\\_file\\_path & dataset\\_partition\\\\\n",
       " <fct> & <fct> & <fct> & <fct> & <fct> & <fct> & <fct> & <fct> & <int> & <dbl> & ⋯ & <int> & <dbl> & <fct> & <fct> & <int> & <int> & <int> & <int> & <fct> & <fct>\\\\\n",
       "\\hline\n",
       "\t RS\\_GCF\\_000478885.1 & d\\_\\_Bacteria & p\\_\\_Actinobacteriota & c\\_\\_Coriobacteriia & o\\_\\_Coriobacteriales & f\\_\\_Eggerthellaceae & g\\_\\_Adlercreutzia & s\\_\\_Adlercreutzia equolifaciens & 0 & 100.00 & ⋯ & 0 & 100.000 & AB649147.1.1469        & Bacteria;Actinobacteria;Coriobacteriia;Coriobacteriales;Coriobacteriaceae;Adlercreutzia;Adlercreutzia equolifaciens &   0 & 20 & 48 & 0 & /ebio/abt3\\_projects/databases\\_no-backup/DeepMAsED/version2/ref\\_genomes/GTDBr89/genomes\\_quality/genbank/bacteria/GCA\\_000478885.1/GCA\\_000478885.1\\_ASM47888v1\\_genomic.fna.gz  & Train\\\\\n",
       "\t RS\\_GCF\\_002560615.1 & d\\_\\_Bacteria & p\\_\\_Firmicutes       & c\\_\\_Bacilli        & o\\_\\_Bacillales       & f\\_\\_Bacillaceae\\_G   & g\\_\\_Bacillus\\_A    & s\\_\\_Bacillus\\_A cereus\\_AG        & 0 &  98.68 & ⋯ & 0 &  99.935 & CP010089.670406.671961 & Bacteria;Firmicutes;Bacilli;Bacillales;Bacillaceae;Bacillus;Bacillus thuringiensis serovar galleriae                & 368 & 20 & 63 & 0 & /ebio/abt3\\_projects/databases\\_no-backup/DeepMAsED/version2/ref\\_genomes/GTDBr89/genomes\\_quality/genbank/bacteria/GCA\\_002560615.1/GCA\\_002560615.1\\_ASM256061v1\\_genomic.fna.gz & Train\\\\\n",
       "\t ⋮ & ⋮ & ⋮ & ⋮ & ⋮ & ⋮ & ⋮ & ⋮ & ⋮ & ⋮ & ⋱ & ⋮ & ⋮ & ⋮ & ⋮ & ⋮ & ⋮ & ⋮ & ⋮ & ⋮ & ⋮\\\\\n",
       "\t RS\\_GCF\\_000439435.1 & d\\_\\_Bacteria & p\\_\\_Firmicutes & c\\_\\_Bacilli & o\\_\\_Mycoplasmatales & f\\_\\_Mycoplasmataceae & g\\_\\_Spiroplasma\\_A & s\\_\\_Spiroplasma\\_A taiwanense & 0 & 98.87 & ⋯ & 0 & 100 & CP005074.862688.864196 & Bacteria;Tenericutes;Mollicutes;Entomoplasmatales;Spiroplasmataceae;Spiroplasma;Spiroplasma taiwanense CT-1 & 0 & 20 & 29 & 1 & /ebio/abt3\\_projects/databases\\_no-backup/DeepMAsED/version2/ref\\_genomes/GTDBr89/genomes\\_quality/genbank/bacteria/GCA\\_000439435.1/GCA\\_000439435.1\\_ASM43943v1\\_genomic.fna.gz  & Test\\\\\n",
       "\t RS\\_GCF\\_002092595.1 & d\\_\\_Bacteria & p\\_\\_Firmicutes & c\\_\\_Bacilli & o\\_\\_Lactobacillales & f\\_\\_Lactobacillaceae & g\\_\\_Leuconostoc   & s\\_\\_Leuconostoc lactis\\_A     & 0 & 99.44 & ⋯ & 0 & 100 & AY456086.1.1537        & Bacteria;Firmicutes;Bacilli;Lactobacillales;Leuconostocaceae;Leuconostoc;Leuconostoc garlicum               & 0 & 20 & 50 & 0 & /ebio/abt3\\_projects/databases\\_no-backup/DeepMAsED/version2/ref\\_genomes/GTDBr89/genomes\\_quality/genbank/bacteria/GCA\\_002092595.1/GCA\\_002092595.1\\_ASM209259v1\\_genomic.fna.gz & Test\\\\\n",
       "\\end{tabular}\n"
      ],
      "text/markdown": [
       "\n",
       "A data.frame: 18000 × 118\n",
       "\n",
       "| accession &lt;fct&gt; | Domain &lt;fct&gt; | Phylum &lt;fct&gt; | Class &lt;fct&gt; | Order &lt;fct&gt; | Family &lt;fct&gt; | Genus &lt;fct&gt; | Species &lt;fct&gt; | ambiguous_bases &lt;int&gt; | checkm_completeness &lt;dbl&gt; | ⋯ ⋯ | ssu_silva_blast_evalue &lt;int&gt; | ssu_silva_blast_perc_identity &lt;dbl&gt; | ssu_silva_blast_subject_id &lt;fct&gt; | ssu_silva_taxonomy &lt;fct&gt; | total_gap_length &lt;int&gt; | trna_aa_count &lt;int&gt; | trna_count &lt;int&gt; | trna_selenocysteine_count &lt;int&gt; | fasta_file_path &lt;fct&gt; | dataset_partition &lt;fct&gt; |\n",
       "|---|---|---|---|---|---|---|---|---|---|---|---|---|---|---|---|---|---|---|---|---|\n",
       "| RS_GCF_000478885.1 | d__Bacteria | p__Actinobacteriota | c__Coriobacteriia | o__Coriobacteriales | f__Eggerthellaceae | g__Adlercreutzia | s__Adlercreutzia equolifaciens | 0 | 100.00 | ⋯ | 0 | 100.000 | AB649147.1.1469        | Bacteria;Actinobacteria;Coriobacteriia;Coriobacteriales;Coriobacteriaceae;Adlercreutzia;Adlercreutzia equolifaciens |   0 | 20 | 48 | 0 | /ebio/abt3_projects/databases_no-backup/DeepMAsED/version2/ref_genomes/GTDBr89/genomes_quality/genbank/bacteria/GCA_000478885.1/GCA_000478885.1_ASM47888v1_genomic.fna.gz  | Train |\n",
       "| RS_GCF_002560615.1 | d__Bacteria | p__Firmicutes       | c__Bacilli        | o__Bacillales       | f__Bacillaceae_G   | g__Bacillus_A    | s__Bacillus_A cereus_AG        | 0 |  98.68 | ⋯ | 0 |  99.935 | CP010089.670406.671961 | Bacteria;Firmicutes;Bacilli;Bacillales;Bacillaceae;Bacillus;Bacillus thuringiensis serovar galleriae                | 368 | 20 | 63 | 0 | /ebio/abt3_projects/databases_no-backup/DeepMAsED/version2/ref_genomes/GTDBr89/genomes_quality/genbank/bacteria/GCA_002560615.1/GCA_002560615.1_ASM256061v1_genomic.fna.gz | Train |\n",
       "| ⋮ | ⋮ | ⋮ | ⋮ | ⋮ | ⋮ | ⋮ | ⋮ | ⋮ | ⋮ | ⋱ | ⋮ | ⋮ | ⋮ | ⋮ | ⋮ | ⋮ | ⋮ | ⋮ | ⋮ | ⋮ |\n",
       "| RS_GCF_000439435.1 | d__Bacteria | p__Firmicutes | c__Bacilli | o__Mycoplasmatales | f__Mycoplasmataceae | g__Spiroplasma_A | s__Spiroplasma_A taiwanense | 0 | 98.87 | ⋯ | 0 | 100 | CP005074.862688.864196 | Bacteria;Tenericutes;Mollicutes;Entomoplasmatales;Spiroplasmataceae;Spiroplasma;Spiroplasma taiwanense CT-1 | 0 | 20 | 29 | 1 | /ebio/abt3_projects/databases_no-backup/DeepMAsED/version2/ref_genomes/GTDBr89/genomes_quality/genbank/bacteria/GCA_000439435.1/GCA_000439435.1_ASM43943v1_genomic.fna.gz  | Test |\n",
       "| RS_GCF_002092595.1 | d__Bacteria | p__Firmicutes | c__Bacilli | o__Lactobacillales | f__Lactobacillaceae | g__Leuconostoc   | s__Leuconostoc lactis_A     | 0 | 99.44 | ⋯ | 0 | 100 | AY456086.1.1537        | Bacteria;Firmicutes;Bacilli;Lactobacillales;Leuconostocaceae;Leuconostoc;Leuconostoc garlicum               | 0 | 20 | 50 | 0 | /ebio/abt3_projects/databases_no-backup/DeepMAsED/version2/ref_genomes/GTDBr89/genomes_quality/genbank/bacteria/GCA_002092595.1/GCA_002092595.1_ASM209259v1_genomic.fna.gz | Test |\n",
       "\n"
      ],
      "text/plain": [
       "      accession          Domain      Phylum              Class            \n",
       "1     RS_GCF_000478885.1 d__Bacteria p__Actinobacteriota c__Coriobacteriia\n",
       "2     RS_GCF_002560615.1 d__Bacteria p__Firmicutes       c__Bacilli       \n",
       "⋮     ⋮                  ⋮           ⋮                   ⋮                \n",
       "17999 RS_GCF_000439435.1 d__Bacteria p__Firmicutes       c__Bacilli       \n",
       "18000 RS_GCF_002092595.1 d__Bacteria p__Firmicutes       c__Bacilli       \n",
       "      Order               Family              Genus           \n",
       "1     o__Coriobacteriales f__Eggerthellaceae  g__Adlercreutzia\n",
       "2     o__Bacillales       f__Bacillaceae_G    g__Bacillus_A   \n",
       "⋮     ⋮                   ⋮                   ⋮               \n",
       "17999 o__Mycoplasmatales  f__Mycoplasmataceae g__Spiroplasma_A\n",
       "18000 o__Lactobacillales  f__Lactobacillaceae g__Leuconostoc  \n",
       "      Species                        ambiguous_bases checkm_completeness ⋯\n",
       "1     s__Adlercreutzia equolifaciens 0               100.00              ⋯\n",
       "2     s__Bacillus_A cereus_AG        0                98.68              ⋯\n",
       "⋮     ⋮                              ⋮               ⋮                   ⋱\n",
       "17999 s__Spiroplasma_A taiwanense    0               98.87               ⋯\n",
       "18000 s__Leuconostoc lactis_A        0               99.44               ⋯\n",
       "      ssu_silva_blast_evalue ssu_silva_blast_perc_identity\n",
       "1     0                      100.000                      \n",
       "2     0                       99.935                      \n",
       "⋮     ⋮                      ⋮                            \n",
       "17999 0                      100                          \n",
       "18000 0                      100                          \n",
       "      ssu_silva_blast_subject_id\n",
       "1     AB649147.1.1469           \n",
       "2     CP010089.670406.671961    \n",
       "⋮     ⋮                         \n",
       "17999 CP005074.862688.864196    \n",
       "18000 AY456086.1.1537           \n",
       "      ssu_silva_taxonomy                                                                                                 \n",
       "1     Bacteria;Actinobacteria;Coriobacteriia;Coriobacteriales;Coriobacteriaceae;Adlercreutzia;Adlercreutzia equolifaciens\n",
       "2     Bacteria;Firmicutes;Bacilli;Bacillales;Bacillaceae;Bacillus;Bacillus thuringiensis serovar galleriae               \n",
       "⋮     ⋮                                                                                                                  \n",
       "17999 Bacteria;Tenericutes;Mollicutes;Entomoplasmatales;Spiroplasmataceae;Spiroplasma;Spiroplasma taiwanense CT-1        \n",
       "18000 Bacteria;Firmicutes;Bacilli;Lactobacillales;Leuconostocaceae;Leuconostoc;Leuconostoc garlicum                      \n",
       "      total_gap_length trna_aa_count trna_count trna_selenocysteine_count\n",
       "1       0              20            48         0                        \n",
       "2     368              20            63         0                        \n",
       "⋮     ⋮                ⋮             ⋮          ⋮                        \n",
       "17999 0                20            29         1                        \n",
       "18000 0                20            50         0                        \n",
       "      fasta_file_path                                                                                                                                                           \n",
       "1     /ebio/abt3_projects/databases_no-backup/DeepMAsED/version2/ref_genomes/GTDBr89/genomes_quality/genbank/bacteria/GCA_000478885.1/GCA_000478885.1_ASM47888v1_genomic.fna.gz \n",
       "2     /ebio/abt3_projects/databases_no-backup/DeepMAsED/version2/ref_genomes/GTDBr89/genomes_quality/genbank/bacteria/GCA_002560615.1/GCA_002560615.1_ASM256061v1_genomic.fna.gz\n",
       "⋮     ⋮                                                                                                                                                                         \n",
       "17999 /ebio/abt3_projects/databases_no-backup/DeepMAsED/version2/ref_genomes/GTDBr89/genomes_quality/genbank/bacteria/GCA_000439435.1/GCA_000439435.1_ASM43943v1_genomic.fna.gz \n",
       "18000 /ebio/abt3_projects/databases_no-backup/DeepMAsED/version2/ref_genomes/GTDBr89/genomes_quality/genbank/bacteria/GCA_002092595.1/GCA_002092595.1_ASM209259v1_genomic.fna.gz\n",
       "      dataset_partition\n",
       "1     Train            \n",
       "2     Train            \n",
       "⋮     ⋮                \n",
       "17999 Test             \n",
       "18000 Test             "
      ]
     },
     "metadata": {},
     "output_type": "display_data"
    }
   ],
   "source": [
    "metadata = read.delim(metadata_file, sep='\\t')\n",
    "metadata %>% nrow\n",
    "metadata"
   ]
  },
  {
   "cell_type": "markdown",
   "metadata": {},
   "source": [
    "# DeepMAsED-SM"
   ]
  },
  {
   "cell_type": "markdown",
   "metadata": {},
   "source": [
    "## config"
   ]
  },
  {
   "cell_type": "code",
   "execution_count": 6,
   "metadata": {
    "ExecuteTime": {
     "end_time": "2020-03-04T06:30:33.877362Z",
     "start_time": "2020-03-04T06:30:33.818Z"
    }
   },
   "outputs": [
    {
     "name": "stdout",
     "output_type": "stream",
     "text": [
      "# Input table\n",
      "genomes_file: /ebio/abt3_projects/databases_no-backup/DeepMAsED/version2/ref_genomes/GTDBr89/metadata_n9000-rand_train.tsv\n",
      "\n",
      "# Output directory\n",
      "output_dir: /ebio/abt3_projects/databases_no-backup/DeepMAsED/version2/deepmased-sm/n9000-rand_r3/train/\n",
      "\n",
      "# Temporary output directory (/dev/shm/ for shared memory)\n",
      "tmp_dir: /ebio/abt3_scratch/\n",
      "\n",
      "# Email for notifications (\"Skip\" to skip)\n",
      "email: nyoungblut@tuebingen.mpg.de\n",
      "\n",
      "# software parameters\n",
      "## Use \"Skip\" to skip  steps. If no params for rule, use \"\"\n",
      "## `reps:` is the number of replicate simulations\n",
      "## If `keep_reads: True`, then simulated reads are kept\n",
      "params:\n",
      "  # simulating metagenomes\n",
      "  reps: 3\n",
      "  MGSIM:\n",
      "    genome_download: \"\"\n",
      "    community_richness:\n",
      "      - 0.011\n",
      "      - 0.055\n",
      "    reads: --art-paired --art-mflen 250 --art-sdev 10\n",
      "    read_depth:\n",
      "      - 500000\n",
      "      - 1000000\n",
      "  keep_reads: False\n",
      "  # coverage\n",
      "  nonpareil: -T kmer\n",
      "  nonpareil_summary: 1e9   # this is target seq. depth\n",
      "  # assemblying metagenomes\n",
      "  assemblers:\n",
      "    metaspades: -k auto --only-assembler\n",
      "    megahit: --min-count 3 --min-contig-len 1000 --presets meta-sensitive\n",
      "  # assembly filtering\n",
      "  contig_length_cutoff: 1000       # length in bp \n",
      "  # assessing assembly errors\n",
      "  minimap2: \"\"\n",
      "  metaquast: --min-identity 95 --extensive-mis-size 100 --no-icarus --max-ref-number 0\n",
      "  # mapping reads to contigs  \n",
      "  samtools: \"\"\n",
      "  keep_bam: True\n",
      "  # creating DL features\n",
      "  make_features: --window 6\n",
      "  # state-of-the-art\n",
      "  ## ALE\n",
      "  ALE: \"\"\n",
      "  ## VALET\n",
      "  VALET: \"\"\n",
      "  \n",
      "# snakemake pipeline\n",
      "pipeline:\n",
      "  snakemake_folder: ./\n",
      "  script_folder: ./bin/scripts/\n",
      "  rnd_seed: 9384"
     ]
    }
   ],
   "source": [
    "config_file = file.path(work_dir, 'config.yaml')\n",
    "cat_file(config_file)"
   ]
  },
  {
   "cell_type": "markdown",
   "metadata": {},
   "source": [
    "## Run"
   ]
  },
  {
   "cell_type": "markdown",
   "metadata": {},
   "source": [
    "```\n",
    "(snakemake) @ rick:/ebio/abt3_projects/databases_no-backup/bin/deepmased\n",
    "$ screen -L -S DM-train-r3 ./snakemake_sge.sh /ebio/abt3_projects/databases_no-backup/DeepMAsED/version2/deepmased-sm/n9000-rand_r3/train/config.yaml 24\n",
    "```"
   ]
  },
  {
   "cell_type": "markdown",
   "metadata": {},
   "source": [
    "# Summary"
   ]
  },
  {
   "cell_type": "code",
   "execution_count": 7,
   "metadata": {
    "ExecuteTime": {
     "end_time": "2020-03-04T06:30:50.357093Z",
     "start_time": "2020-03-04T06:30:50.307Z"
    }
   },
   "outputs": [
    {
     "data": {
      "text/html": [
       "<ol class=list-inline>\n",
       "\t<li>'ALE'</li>\n",
       "\t<li>'assembly'</li>\n",
       "\t<li>'benchmarks'</li>\n",
       "\t<li>'config.yaml'</li>\n",
       "\t<li>'coverage'</li>\n",
       "\t<li>'features'</li>\n",
       "\t<li>'genomes'</li>\n",
       "\t<li>'logs'</li>\n",
       "\t<li>'map'</li>\n",
       "\t<li>'MGSIM'</li>\n",
       "\t<li>'true_errors'</li>\n",
       "\t<li>'true_errors_OLD'</li>\n",
       "\t<li>'VALET'</li>\n",
       "</ol>\n"
      ],
      "text/latex": [
       "\\begin{enumerate*}\n",
       "\\item 'ALE'\n",
       "\\item 'assembly'\n",
       "\\item 'benchmarks'\n",
       "\\item 'config.yaml'\n",
       "\\item 'coverage'\n",
       "\\item 'features'\n",
       "\\item 'genomes'\n",
       "\\item 'logs'\n",
       "\\item 'map'\n",
       "\\item 'MGSIM'\n",
       "\\item 'true\\_errors'\n",
       "\\item 'true\\_errors\\_OLD'\n",
       "\\item 'VALET'\n",
       "\\end{enumerate*}\n"
      ],
      "text/markdown": [
       "1. 'ALE'\n",
       "2. 'assembly'\n",
       "3. 'benchmarks'\n",
       "4. 'config.yaml'\n",
       "5. 'coverage'\n",
       "6. 'features'\n",
       "7. 'genomes'\n",
       "8. 'logs'\n",
       "9. 'map'\n",
       "10. 'MGSIM'\n",
       "11. 'true_errors'\n",
       "12. 'true_errors_OLD'\n",
       "13. 'VALET'\n",
       "\n",
       "\n"
      ],
      "text/plain": [
       " [1] \"ALE\"             \"assembly\"        \"benchmarks\"      \"config.yaml\"    \n",
       " [5] \"coverage\"        \"features\"        \"genomes\"         \"logs\"           \n",
       " [9] \"map\"             \"MGSIM\"           \"true_errors\"     \"true_errors_OLD\"\n",
       "[13] \"VALET\"          "
      ]
     },
     "metadata": {},
     "output_type": "display_data"
    }
   ],
   "source": [
    "list.files(work_dir)"
   ]
  },
  {
   "cell_type": "code",
   "execution_count": 12,
   "metadata": {
    "ExecuteTime": {
     "end_time": "2020-03-04T06:32:25.212851Z",
     "start_time": "2020-03-04T06:32:25.104Z"
    }
   },
   "outputs": [
    {
     "data": {
      "text/html": [
       "24"
      ],
      "text/latex": [
       "24"
      ],
      "text/markdown": [
       "24"
      ],
      "text/plain": [
       "[1] 24"
      ]
     },
     "metadata": {},
     "output_type": "display_data"
    },
    {
     "data": {
      "text/html": [
       "<ol class=list-inline>\n",
       "\t<li>'/ebio/abt3_projects/databases_no-backup/DeepMAsED/version2/deepmased-sm/n9000-rand_r3/train//features/0.011/1/1000000/megahit/features.tsv.gz'</li>\n",
       "\t<li>'/ebio/abt3_projects/databases_no-backup/DeepMAsED/version2/deepmased-sm/n9000-rand_r3/train//features/0.011/1/1000000/metaspades/features.tsv.gz'</li>\n",
       "\t<li>'/ebio/abt3_projects/databases_no-backup/DeepMAsED/version2/deepmased-sm/n9000-rand_r3/train//features/0.011/1/500000/megahit/features.tsv.gz'</li>\n",
       "</ol>\n"
      ],
      "text/latex": [
       "\\begin{enumerate*}\n",
       "\\item '/ebio/abt3\\_projects/databases\\_no-backup/DeepMAsED/version2/deepmased-sm/n9000-rand\\_r3/train//features/0.011/1/1000000/megahit/features.tsv.gz'\n",
       "\\item '/ebio/abt3\\_projects/databases\\_no-backup/DeepMAsED/version2/deepmased-sm/n9000-rand\\_r3/train//features/0.011/1/1000000/metaspades/features.tsv.gz'\n",
       "\\item '/ebio/abt3\\_projects/databases\\_no-backup/DeepMAsED/version2/deepmased-sm/n9000-rand\\_r3/train//features/0.011/1/500000/megahit/features.tsv.gz'\n",
       "\\end{enumerate*}\n"
      ],
      "text/markdown": [
       "1. '/ebio/abt3_projects/databases_no-backup/DeepMAsED/version2/deepmased-sm/n9000-rand_r3/train//features/0.011/1/1000000/megahit/features.tsv.gz'\n",
       "2. '/ebio/abt3_projects/databases_no-backup/DeepMAsED/version2/deepmased-sm/n9000-rand_r3/train//features/0.011/1/1000000/metaspades/features.tsv.gz'\n",
       "3. '/ebio/abt3_projects/databases_no-backup/DeepMAsED/version2/deepmased-sm/n9000-rand_r3/train//features/0.011/1/500000/megahit/features.tsv.gz'\n",
       "\n",
       "\n"
      ],
      "text/plain": [
       "[1] \"/ebio/abt3_projects/databases_no-backup/DeepMAsED/version2/deepmased-sm/n9000-rand_r3/train//features/0.011/1/1000000/megahit/features.tsv.gz\"   \n",
       "[2] \"/ebio/abt3_projects/databases_no-backup/DeepMAsED/version2/deepmased-sm/n9000-rand_r3/train//features/0.011/1/1000000/metaspades/features.tsv.gz\"\n",
       "[3] \"/ebio/abt3_projects/databases_no-backup/DeepMAsED/version2/deepmased-sm/n9000-rand_r3/train//features/0.011/1/500000/megahit/features.tsv.gz\"    "
      ]
     },
     "metadata": {},
     "output_type": "display_data"
    }
   ],
   "source": [
    "# listing features\n",
    "feat_files = list_files(file.path(work_dir, 'features'), 'features.tsv.gz')\n",
    "feat_files %>% length\n",
    "feat_files %>% head(n=3)"
   ]
  },
  {
   "cell_type": "code",
   "execution_count": 24,
   "metadata": {
    "ExecuteTime": {
     "end_time": "2020-03-04T06:42:19.804514Z",
     "start_time": "2020-03-04T06:41:43.281Z"
    }
   },
   "outputs": [
    {
     "data": {
      "text/plain": [
       "\u001b[1mSource: \u001b[22mlocal data table [27,140,923 x 43]\n",
       "\u001b[1mCall:   \u001b[22m`_DT3`\n",
       "\n",
       "  assembler contig position ref_base num_query_A num_query_C num_query_G\n",
       "  \u001b[3m\u001b[38;5;246m<chr>\u001b[39m\u001b[23m     \u001b[3m\u001b[38;5;246m<chr>\u001b[39m\u001b[23m     \u001b[3m\u001b[38;5;246m<int>\u001b[39m\u001b[23m \u001b[3m\u001b[38;5;246m<chr>\u001b[39m\u001b[23m          \u001b[3m\u001b[38;5;246m<int>\u001b[39m\u001b[23m       \u001b[3m\u001b[38;5;246m<int>\u001b[39m\u001b[23m       \u001b[3m\u001b[38;5;246m<int>\u001b[39m\u001b[23m\n",
       "\u001b[38;5;250m1\u001b[39m megahit   k141_…        0 T                  0           0           0\n",
       "\u001b[38;5;250m2\u001b[39m megahit   k141_…        1 G                  0           0           1\n",
       "\u001b[38;5;250m3\u001b[39m megahit   k141_…        2 T                  0           0           0\n",
       "\u001b[38;5;250m4\u001b[39m megahit   k141_…        3 T                  0           0           0\n",
       "\u001b[38;5;250m5\u001b[39m megahit   k141_…        4 C                  0           1           0\n",
       "\u001b[38;5;250m6\u001b[39m megahit   k141_…        5 G                  0           0           1\n",
       "\u001b[38;5;246m# … with 36 more variables: num_query_T \u001b[3m\u001b[38;5;246m<int>\u001b[38;5;246m\u001b[23m, num_SNPs \u001b[3m\u001b[38;5;246m<int>\u001b[38;5;246m\u001b[23m, coverage \u001b[3m\u001b[38;5;246m<int>\u001b[38;5;246m\u001b[23m,\n",
       "#   num_discordant \u001b[3m\u001b[38;5;246m<int>\u001b[38;5;246m\u001b[23m, min_insert_size_Match \u001b[3m\u001b[38;5;246m<int>\u001b[38;5;246m\u001b[23m,\n",
       "#   mean_insert_size_Match \u001b[3m\u001b[38;5;246m<dbl>\u001b[38;5;246m\u001b[23m, stdev_insert_size_Match \u001b[3m\u001b[38;5;246m<dbl>\u001b[38;5;246m\u001b[23m,\n",
       "#   max_insert_size_Match \u001b[3m\u001b[38;5;246m<int>\u001b[38;5;246m\u001b[23m, min_mapq_Match \u001b[3m\u001b[38;5;246m<int>\u001b[38;5;246m\u001b[23m, mean_mapq_Match \u001b[3m\u001b[38;5;246m<dbl>\u001b[38;5;246m\u001b[23m,\n",
       "#   stdev_mapq_Match \u001b[3m\u001b[38;5;246m<dbl>\u001b[38;5;246m\u001b[23m, max_mapq_Match \u001b[3m\u001b[38;5;246m<int>\u001b[38;5;246m\u001b[23m, num_proper_Match \u001b[3m\u001b[38;5;246m<int>\u001b[38;5;246m\u001b[23m,\n",
       "#   num_diff_strand_Match \u001b[3m\u001b[38;5;246m<int>\u001b[38;5;246m\u001b[23m, num_orphans_Match \u001b[3m\u001b[38;5;246m<int>\u001b[38;5;246m\u001b[23m,\n",
       "#   num_supplementary_Match \u001b[3m\u001b[38;5;246m<int>\u001b[38;5;246m\u001b[23m, num_secondary_Match \u001b[3m\u001b[38;5;246m<int>\u001b[38;5;246m\u001b[23m,\n",
       "#   num_discordant_Match \u001b[3m\u001b[38;5;246m<int>\u001b[38;5;246m\u001b[23m, min_insert_size_SNP \u001b[3m\u001b[38;5;246m<int>\u001b[38;5;246m\u001b[23m,\n",
       "#   mean_insert_size_SNP \u001b[3m\u001b[38;5;246m<dbl>\u001b[38;5;246m\u001b[23m, stdev_insert_size_SNP \u001b[3m\u001b[38;5;246m<dbl>\u001b[38;5;246m\u001b[23m,\n",
       "#   max_insert_size_SNP \u001b[3m\u001b[38;5;246m<int>\u001b[38;5;246m\u001b[23m, min_mapq_SNP \u001b[3m\u001b[38;5;246m<int>\u001b[38;5;246m\u001b[23m, mean_mapq_SNP \u001b[3m\u001b[38;5;246m<dbl>\u001b[38;5;246m\u001b[23m,\n",
       "#   stdev_mapq_SNP \u001b[3m\u001b[38;5;246m<dbl>\u001b[38;5;246m\u001b[23m, max_mapq_SNP \u001b[3m\u001b[38;5;246m<int>\u001b[38;5;246m\u001b[23m, num_proper_SNP \u001b[3m\u001b[38;5;246m<int>\u001b[38;5;246m\u001b[23m,\n",
       "#   num_diff_strand_SNP \u001b[3m\u001b[38;5;246m<int>\u001b[38;5;246m\u001b[23m, num_orphans_SNP \u001b[3m\u001b[38;5;246m<int>\u001b[38;5;246m\u001b[23m,\n",
       "#   num_supplementary_SNP \u001b[3m\u001b[38;5;246m<int>\u001b[38;5;246m\u001b[23m, num_secondary_SNP \u001b[3m\u001b[38;5;246m<int>\u001b[38;5;246m\u001b[23m,\n",
       "#   num_discordant_SNP \u001b[3m\u001b[38;5;246m<int>\u001b[38;5;246m\u001b[23m, seq_window_entropy \u001b[3m\u001b[38;5;246m<dbl>\u001b[38;5;246m\u001b[23m,\n",
       "#   seq_window_perc_gc \u001b[3m\u001b[38;5;246m<dbl>\u001b[38;5;246m\u001b[23m, Extensive_misassembly \u001b[3m\u001b[38;5;246m<int>\u001b[38;5;246m\u001b[23m,\n",
       "#   Extensive_misassembly_by_pos \u001b[3m\u001b[38;5;246m<chr>\u001b[38;5;246m\u001b[23m\u001b[39m\n",
       "\n",
       "\u001b[90m# Use as.data.table()/as.data.frame()/as_tibble() to access results\u001b[39m"
      ]
     },
     "metadata": {},
     "output_type": "display_data"
    }
   ],
   "source": [
    "# summarizing\n",
    "cmd = paste0('gunzip -c ', feat_files[1])\n",
    "feats = fread(cmd=cmd, sep='\\t') %>%\n",
    "    lazy_dt\n",
    "feats "
   ]
  },
  {
   "cell_type": "code",
   "execution_count": 25,
   "metadata": {
    "ExecuteTime": {
     "end_time": "2020-03-04T06:42:20.192278Z",
     "start_time": "2020-03-04T06:41:43.804Z"
    }
   },
   "outputs": [
    {
     "data": {
      "text/html": [
       "7654"
      ],
      "text/latex": [
       "7654"
      ],
      "text/markdown": [
       "7654"
      ],
      "text/plain": [
       "[1] 7654"
      ]
     },
     "metadata": {},
     "output_type": "display_data"
    }
   ],
   "source": [
    "# number of contigs\n",
    "feats %>%\n",
    "    distinct(contig) %>%\n",
    "    as_tibble %>% nrow"
   ]
  },
  {
   "cell_type": "code",
   "execution_count": 26,
   "metadata": {
    "ExecuteTime": {
     "end_time": "2020-03-04T06:42:20.466681Z",
     "start_time": "2020-03-04T06:41:44.435Z"
    }
   },
   "outputs": [
    {
     "data": {
      "text/plain": [
       "   Min. 1st Qu.  Median    Mean 3rd Qu.    Max. \n",
       "   1000    1156    1438    3546    2307  591309 "
      ]
     },
     "metadata": {},
     "output_type": "display_data"
    }
   ],
   "source": [
    "# length of contigs\n",
    "feats %>%\n",
    "    group_by(contig) %>%\n",
    "    summarize(contig_len = max(position) + 1) %>%\n",
    "    ungroup() %>%\n",
    "    as_tibble %>% .$contig_len %>% summary"
   ]
  },
  {
   "cell_type": "code",
   "execution_count": 27,
   "metadata": {
    "ExecuteTime": {
     "end_time": "2020-03-04T06:42:21.156115Z",
     "start_time": "2020-03-04T06:41:45.100Z"
    }
   },
   "outputs": [
    {
     "data": {
      "text/html": [
       "<table>\n",
       "<caption>A tibble: 2 × 2</caption>\n",
       "<thead>\n",
       "\t<tr><th scope=col>Extensive_misassembly</th><th scope=col>n_contigs</th></tr>\n",
       "\t<tr><th scope=col>&lt;int&gt;</th><th scope=col>&lt;int&gt;</th></tr>\n",
       "</thead>\n",
       "<tbody>\n",
       "\t<tr><td>0</td><td>7423</td></tr>\n",
       "\t<tr><td>1</td><td> 231</td></tr>\n",
       "</tbody>\n",
       "</table>\n"
      ],
      "text/latex": [
       "A tibble: 2 × 2\n",
       "\\begin{tabular}{ll}\n",
       " Extensive\\_misassembly & n\\_contigs\\\\\n",
       " <int> & <int>\\\\\n",
       "\\hline\n",
       "\t 0 & 7423\\\\\n",
       "\t 1 &  231\\\\\n",
       "\\end{tabular}\n"
      ],
      "text/markdown": [
       "\n",
       "A tibble: 2 × 2\n",
       "\n",
       "| Extensive_misassembly &lt;int&gt; | n_contigs &lt;int&gt; |\n",
       "|---|---|\n",
       "| 0 | 7423 |\n",
       "| 1 |  231 |\n",
       "\n"
      ],
      "text/plain": [
       "  Extensive_misassembly n_contigs\n",
       "1 0                     7423     \n",
       "2 1                      231     "
      ]
     },
     "metadata": {},
     "output_type": "display_data"
    }
   ],
   "source": [
    "# misassemblies\n",
    "feats %>%\n",
    "    distinct(contig, Extensive_misassembly) %>%\n",
    "    group_by(Extensive_misassembly) %>%\n",
    "    summarize(n_contigs = n()) %>%\n",
    "    as_tibble "
   ]
  },
  {
   "cell_type": "code",
   "execution_count": 28,
   "metadata": {
    "ExecuteTime": {
     "end_time": "2020-03-04T06:42:22.216515Z",
     "start_time": "2020-03-04T06:41:45.875Z"
    }
   },
   "outputs": [
    {
     "data": {
      "text/plain": [
       "   Min. 1st Qu.  Median    Mean 3rd Qu.    Max. \n",
       "  1.000   1.000   1.000   1.028   1.000   4.000 "
      ]
     },
     "metadata": {},
     "output_type": "display_data"
    }
   ],
   "source": [
    "# extensive misassemblies per contig\n",
    "feats %>%\n",
    "    group_by(contig) %>%\n",
    "    summarize(n_ext_msasmbl = n_distinct(Extensive_misassembly_by_pos)) %>%\n",
    "    ungroup() %>%\n",
    "    as_tibble %>%\n",
    "    .$n_ext_msasmbl %>% summary"
   ]
  },
  {
   "cell_type": "code",
   "execution_count": 29,
   "metadata": {
    "ExecuteTime": {
     "end_time": "2020-03-04T06:47:01.626064Z",
     "start_time": "2020-03-04T06:47:01.582Z"
    }
   },
   "outputs": [],
   "source": [
    "feats = NULL"
   ]
  },
  {
   "cell_type": "markdown",
   "metadata": {},
   "source": [
    "# sessionInfo"
   ]
  },
  {
   "cell_type": "code",
   "execution_count": 19,
   "metadata": {
    "ExecuteTime": {
     "end_time": "2020-02-16T19:26:29.792984Z",
     "start_time": "2020-02-16T19:26:29.618Z"
    }
   },
   "outputs": [
    {
     "data": {
      "text/plain": [
       "R version 3.4.1 (2017-06-30)\n",
       "Platform: x86_64-pc-linux-gnu (64-bit)\n",
       "Running under: Ubuntu 18.04.3 LTS\n",
       "\n",
       "Matrix products: default\n",
       "BLAS: /ebio/abt3_projects/software/miniconda3_gt4.4/envs/py3_physeq/lib/R/lib/libRblas.so\n",
       "LAPACK: /ebio/abt3_projects/software/miniconda3_gt4.4/envs/py3_physeq/lib/R/lib/libRlapack.so\n",
       "\n",
       "locale:\n",
       " [1] LC_CTYPE=en_US.UTF-8       LC_NUMERIC=C              \n",
       " [3] LC_TIME=en_US.UTF-8        LC_COLLATE=en_US.UTF-8    \n",
       " [5] LC_MONETARY=en_US.UTF-8    LC_MESSAGES=en_US.UTF-8   \n",
       " [7] LC_PAPER=en_US.UTF-8       LC_NAME=C                 \n",
       " [9] LC_ADDRESS=C               LC_TELEPHONE=C            \n",
       "[11] LC_MEASUREMENT=en_US.UTF-8 LC_IDENTIFICATION=C       \n",
       "\n",
       "attached base packages:\n",
       "[1] stats     graphics  grDevices utils     datasets  methods   base     \n",
       "\n",
       "other attached packages:\n",
       "[1] data.table_1.11.4 ggplot2_3.0.0     tidyr_0.8.1       dplyr_0.7.6      \n",
       "\n",
       "loaded via a namespace (and not attached):\n",
       " [1] Rcpp_0.12.17     pillar_1.2.2     compiler_3.4.1   plyr_1.8.4      \n",
       " [5] bindr_0.1.1      base64enc_0.1-3  tools_3.4.1      digest_0.6.15   \n",
       " [9] uuid_0.1-2       jsonlite_1.5     evaluate_0.10.1  tibble_1.4.2    \n",
       "[13] gtable_0.2.0     pkgconfig_2.0.1  rlang_0.2.1      IRdisplay_0.4.4 \n",
       "[17] IRkernel_0.8.12  bindrcpp_0.2.2   repr_0.15.0      withr_2.1.1     \n",
       "[21] stringr_1.3.1    grid_3.4.1       tidyselect_0.2.4 glue_1.3.0      \n",
       "[25] R6_2.2.2         pbdZMQ_0.3-2     purrr_0.2.4      magrittr_1.5    \n",
       "[29] scales_0.5.0     htmltools_0.3.6  assertthat_0.2.0 colorspace_1.3-2\n",
       "[33] stringi_1.2.3    lazyeval_0.2.1   munsell_0.5.0    crayon_1.3.4    "
      ]
     },
     "metadata": {},
     "output_type": "display_data"
    }
   ],
   "source": [
    "sessionInfo()"
   ]
  },
  {
   "cell_type": "code",
   "execution_count": null,
   "metadata": {},
   "outputs": [],
   "source": []
  }
 ],
 "metadata": {
  "kernelspec": {
   "display_name": "R [conda env:Georg_animal_feces-tidyverse]",
   "language": "R",
   "name": "conda-env-Georg_animal_feces-tidyverse-r"
  },
  "language_info": {
   "codemirror_mode": "r",
   "file_extension": ".r",
   "mimetype": "text/x-r-source",
   "name": "R",
   "pygments_lexer": "r",
   "version": "3.6.2"
  },
  "notify_time": "30",
  "toc": {
   "base_numbering": 1,
   "nav_menu": {},
   "number_sections": true,
   "sideBar": true,
   "skip_h1_title": false,
   "title_cell": "Table of Contents",
   "title_sidebar": "Contents",
   "toc_cell": true,
   "toc_position": {},
   "toc_section_display": true,
   "toc_window_display": true
  }
 },
 "nbformat": 4,
 "nbformat_minor": 2
}
