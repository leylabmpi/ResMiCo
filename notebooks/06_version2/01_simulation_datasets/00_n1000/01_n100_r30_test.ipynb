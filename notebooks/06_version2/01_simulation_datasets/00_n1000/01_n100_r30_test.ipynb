{
 "cells": [
  {
   "cell_type": "markdown",
   "metadata": {
    "toc": true
   },
   "source": [
    "<h1>Table of Contents<span class=\"tocSkip\"></span></h1>\n",
    "<div class=\"toc\"><ul class=\"toc-item\"><li><span><a href=\"#Goal\" data-toc-modified-id=\"Goal-1\"><span class=\"toc-item-num\">1&nbsp;&nbsp;</span>Goal</a></span></li><li><span><a href=\"#Var\" data-toc-modified-id=\"Var-2\"><span class=\"toc-item-num\">2&nbsp;&nbsp;</span>Var</a></span></li><li><span><a href=\"#Init\" data-toc-modified-id=\"Init-3\"><span class=\"toc-item-num\">3&nbsp;&nbsp;</span>Init</a></span></li><li><span><a href=\"#Test\" data-toc-modified-id=\"Test-4\"><span class=\"toc-item-num\">4&nbsp;&nbsp;</span>Test</a></span></li><li><span><a href=\"#--WAITING--\" data-toc-modified-id=\"--WAITING---5\"><span class=\"toc-item-num\">5&nbsp;&nbsp;</span>--WAITING--</a></span></li><li><span><a href=\"#Summary\" data-toc-modified-id=\"Summary-6\"><span class=\"toc-item-num\">6&nbsp;&nbsp;</span>Summary</a></span><ul class=\"toc-item\"><li><span><a href=\"#Load\" data-toc-modified-id=\"Load-6.1\"><span class=\"toc-item-num\">6.1&nbsp;&nbsp;</span>Load</a></span><ul class=\"toc-item\"><li><span><a href=\"#Train\" data-toc-modified-id=\"Train-6.1.1\"><span class=\"toc-item-num\">6.1.1&nbsp;&nbsp;</span>Train</a></span></li><li><span><a href=\"#Test\" data-toc-modified-id=\"Test-6.1.2\"><span class=\"toc-item-num\">6.1.2&nbsp;&nbsp;</span>Test</a></span></li></ul></li><li><span><a href=\"#Summarize-misassemblies\" data-toc-modified-id=\"Summarize-misassemblies-6.2\"><span class=\"toc-item-num\">6.2&nbsp;&nbsp;</span>Summarize misassemblies</a></span></li></ul></li><li><span><a href=\"#sessionInfo\" data-toc-modified-id=\"sessionInfo-7\"><span class=\"toc-item-num\">7&nbsp;&nbsp;</span>sessionInfo</a></span></li></ul></div>"
   ]
  },
  {
   "cell_type": "markdown",
   "metadata": {},
   "source": [
    "# Goal\n",
    "\n",
    "* Create a test datset with 30 assembly replicates\n",
    "  * same as for test (n100-r30) in the Version 1 manuscript"
   ]
  },
  {
   "cell_type": "markdown",
   "metadata": {},
   "source": [
    "# Var"
   ]
  },
  {
   "cell_type": "code",
   "execution_count": 1,
   "metadata": {
    "ExecuteTime": {
     "end_time": "2020-03-10T09:57:29.925574Z",
     "start_time": "2020-03-10T09:57:29.829Z"
    }
   },
   "outputs": [],
   "source": [
    "work_dir = '/ebio/abt3_projects/databases_no-backup/DeepMAsED/version2/deepmased-sm/n100-r30/'\n",
    "\n",
    "threads = 12"
   ]
  },
  {
   "cell_type": "markdown",
   "metadata": {},
   "source": [
    "# Init"
   ]
  },
  {
   "cell_type": "code",
   "execution_count": 2,
   "metadata": {
    "ExecuteTime": {
     "end_time": "2020-03-10T09:57:35.653553Z",
     "start_time": "2020-03-10T09:57:31.757Z"
    }
   },
   "outputs": [
    {
     "name": "stderr",
     "output_type": "stream",
     "text": [
      "\n",
      "Attaching package: ‘dplyr’\n",
      "\n",
      "\n",
      "The following objects are masked from ‘package:stats’:\n",
      "\n",
      "    filter, lag\n",
      "\n",
      "\n",
      "The following objects are masked from ‘package:base’:\n",
      "\n",
      "    intersect, setdiff, setequal, union\n",
      "\n",
      "\n",
      "\n",
      "Attaching package: ‘data.table’\n",
      "\n",
      "\n",
      "The following objects are masked from ‘package:dplyr’:\n",
      "\n",
      "    between, first, last\n",
      "\n",
      "\n"
     ]
    }
   ],
   "source": [
    "library(dplyr)\n",
    "library(tidyr)\n",
    "library(ggplot2)\n",
    "library(data.table)\n",
    "library(dtplyr)\n",
    "library(LeyLabRMisc)"
   ]
  },
  {
   "cell_type": "code",
   "execution_count": 3,
   "metadata": {
    "ExecuteTime": {
     "end_time": "2020-03-10T09:57:35.910092Z",
     "start_time": "2020-03-10T09:57:32.270Z"
    }
   },
   "outputs": [
    {
     "name": "stdout",
     "output_type": "stream",
     "text": [
      "Created directory: /ebio/abt3_projects/databases_no-backup/DeepMAsED/version2/deepmased-sm/n100-r30/ \n"
     ]
    }
   ],
   "source": [
    "df.dims()\n",
    "set.seed(8473)\n",
    "make_dir(work_dir)"
   ]
  },
  {
   "cell_type": "markdown",
   "metadata": {},
   "source": [
    "# Test"
   ]
  },
  {
   "cell_type": "code",
   "execution_count": 5,
   "metadata": {
    "ExecuteTime": {
     "end_time": "2020-03-10T09:59:33.266607Z",
     "start_time": "2020-03-10T09:59:32.970Z"
    }
   },
   "outputs": [
    {
     "name": "stdout",
     "output_type": "stream",
     "text": [
      "Directory already exists: /ebio/abt3_projects/databases_no-backup/DeepMAsED/version2/deepmased-sm/n100-r30//test \n",
      "# Input table\n",
      "genomes_file: /ebio/abt3_projects/databases_no-backup/DeepMAsED/GTDB_ref_genomes/DeepMAsED_GTDB_genome-refs_test_n100.tsv\n",
      "\n",
      "# Output directory\n",
      "output_dir: /ebio/abt3_projects/databases_no-backup/DeepMAsED/version2/deepmased-sm/n100-r30/test/\n",
      "\n",
      "# Temporary output directory (/dev/shm/ for shared memory)\n",
      "tmp_dir: /ebio/abt3_scratch/\n",
      "\n",
      "# Email for notifications (\"Skip\" to skip)\n",
      "email: nyoungblut@tuebingen.mpg.de\n",
      "\n",
      "# software parameters\n",
      "## Use \"Skip\" to skip  steps. If no params for rule, use \"\"\n",
      "## `reps:` is the number of replicate simulations\n",
      "## If `keep_reads: True`, then simulated reads are kept\n",
      "params:\n",
      "  # simulating metagenomes\n",
      "  reps: 30\n",
      "  MGSIM:\n",
      "    genome_download: \"\"\n",
      "    community_richness:\n",
      "      - 1\n",
      "    reads: --art-paired --art-mflen 250 --art-sdev 10\n",
      "    read_depth:\n",
      "      - 1000000\n",
      "  keep_reads: True #False\n",
      "  # coverage\n",
      "  nonpareil: -T kmer\n",
      "  nonpareil_summary: 1e9   # this is target seq. depth\n",
      "  # assemblying metagenomes\n",
      "  assemblers:\n",
      "    metaspades: -k auto --only-assembler\n",
      "    megahit: --min-count 3 --min-contig-len 1000 --presets meta-sensitive\n",
      "  # assembly filtering\n",
      "  contig_length_cutoff: 1000       # length in bp \n",
      "  # assessing assembly errors\n",
      "  minimap2: \"\"\n",
      "  metaquast: --min-contig 1000 --min-identity 95 --extensive-mis-size 100 --no-html --no-plots --no-icarus --no-gc --no-snps --no-sv\n",
      "  # mapping reads to contigs  \n",
      "  samtools: \"\"\n",
      "  keep_bam: True\n",
      "  # creating DL features\n",
      "  make_features: --window 6\n",
      "  # state-of-the-art\n",
      "  ## ALE\n",
      "  ALE: \"\"\n",
      "  ## VALET\n",
      "  VALET: \"\"\n",
      "  \n",
      "# snakemake pipeline\n",
      "pipeline:\n",
      "  snakemake_folder: ./\n",
      "  script_folder: ./bin/scripts/\n",
      "  rnd_seed: 9384"
     ]
    }
   ],
   "source": [
    "make_dir(file.path(work_dir, 'test'))\n",
    "config_file = file.path(work_dir, 'test', 'config.yaml')\n",
    "cat_file(config_file)"
   ]
  },
  {
   "cell_type": "markdown",
   "metadata": {
    "ExecuteTime": {
     "end_time": "2020-03-04T06:46:16.639327Z",
     "start_time": "2020-03-04T06:46:16.597Z"
    }
   },
   "source": [
    "**DeepMAsED-SM run**\n",
    "\n",
    "```\n",
    "(DeepMAsEDv2) @ rick:/ebio/abt3_projects/DeepMAsED/version2/deepmased/DeepMAsED-SM\n",
    "$ screen -L -S DM-SM-n100-r30-test ./snakemake_sge.sh /ebio/abt3_projects/databases_no-backup/DeepMAsED/version2/deepmased-sm/n100-r30/test/config.yaml 20\n",
    "```"
   ]
  },
  {
   "cell_type": "markdown",
   "metadata": {},
   "source": [
    "# --WAITING--"
   ]
  },
  {
   "cell_type": "markdown",
   "metadata": {},
   "source": [
    "# Summary"
   ]
  },
  {
   "cell_type": "markdown",
   "metadata": {},
   "source": [
    "## Load"
   ]
  },
  {
   "cell_type": "code",
   "execution_count": null,
   "metadata": {
    "ExecuteTime": {
     "end_time": "2020-03-10T09:53:53.631237Z",
     "start_time": "2020-03-10T09:53:53.598Z"
    }
   },
   "outputs": [],
   "source": [
    "#' function to read in feature tables\n",
    "read_feature_table = function(infile){\n",
    "    assembler = infile %>% dirname %>% basename\n",
    "    seq_depth = infile %>% dirname %>% dirname %>% basename\n",
    "    sim_rep = infile %>% dirname %>% dirname %>% dirname %>% basename\n",
    "    richness = infile %>% dirname %>% dirname %>% dirname %>% dirname %>% basename\n",
    "    #cmd = glue::glue('gunzip -c {file} | head -n 100000', file=infile)  # <-debug\n",
    "    cmd = glue::glue('gunzip -c {file}', file=infile)\n",
    "    data.table::fread(cmd=cmd, sep='\\t') %>%\n",
    "        as_tibble %>%\n",
    "        mutate(seq_depth = seq_depth,\n",
    "               sim_rep = sim_rep,\n",
    "               richness = richness)\n",
    "}"
   ]
  },
  {
   "cell_type": "code",
   "execution_count": null,
   "metadata": {
    "ExecuteTime": {
     "end_time": "2020-03-10T09:53:54.297132Z",
     "start_time": "2020-03-10T09:53:54.270Z"
    }
   },
   "outputs": [],
   "source": [
    "feats = list()"
   ]
  },
  {
   "cell_type": "markdown",
   "metadata": {},
   "source": [
    "### Train"
   ]
  },
  {
   "cell_type": "code",
   "execution_count": null,
   "metadata": {
    "ExecuteTime": {
     "end_time": "2020-03-10T09:53:54.834255Z",
     "start_time": "2020-03-10T09:53:54.773Z"
    }
   },
   "outputs": [],
   "source": [
    "F = list_files(file.path(work_dir, 'train', 'features'), 'features.tsv.gz')\n",
    "F %>% length %>% print\n",
    "F %>% head"
   ]
  },
  {
   "cell_type": "code",
   "execution_count": null,
   "metadata": {
    "ExecuteTime": {
     "start_time": "2020-03-10T09:53:55.415Z"
    }
   },
   "outputs": [],
   "source": [
    "# reading in tables\n",
    "doParallel::registerDoParallel(threads)\n",
    "feats[['train']] = F %>%\n",
    "    #head(n=3) %>%   # <-debug\n",
    "    as.list %>%\n",
    "    plyr::llply(read_feature_table, .parallel=TRUE) %>%\n",
    "    data.table::rbindlist(use.names=TRUE) \n",
    "\n",
    "feats[['train']] "
   ]
  },
  {
   "cell_type": "markdown",
   "metadata": {},
   "source": [
    "### Test"
   ]
  },
  {
   "cell_type": "code",
   "execution_count": null,
   "metadata": {
    "ExecuteTime": {
     "start_time": "2020-03-10T09:54:00.150Z"
    }
   },
   "outputs": [],
   "source": [
    "F = list_files(file.path(work_dir, 'test', 'features'), 'features.tsv.gz')\n",
    "F %>% length %>% print\n",
    "F %>% head"
   ]
  },
  {
   "cell_type": "code",
   "execution_count": null,
   "metadata": {
    "ExecuteTime": {
     "start_time": "2020-03-10T09:54:00.278Z"
    }
   },
   "outputs": [],
   "source": [
    "# reading in tables\n",
    "doParallel::registerDoParallel(threads)\n",
    "feats[['test']]  = F %>%\n",
    "    head(n=3) %>%   # <-debug\n",
    "    as.list %>%\n",
    "    plyr::llply(read_feature_table, .parallel=TRUE) %>%\n",
    "    data.table::rbindlist(use.names=TRUE) \n",
    "\n",
    "feats[['test']]"
   ]
  },
  {
   "cell_type": "code",
   "execution_count": null,
   "metadata": {
    "ExecuteTime": {
     "start_time": "2020-03-10T09:54:02.397Z"
    }
   },
   "outputs": [],
   "source": [
    "# combining\n",
    "feats = data.table::rbindlist(feats, use.names=TRUE, fill=FALSE, idcol='dataset') %>%\n",
    "    lazy_dt\n",
    "feats"
   ]
  },
  {
   "cell_type": "markdown",
   "metadata": {
    "ExecuteTime": {
     "end_time": "2020-03-10T09:40:06.274567Z",
     "start_time": "2020-03-10T09:40:06.187Z"
    }
   },
   "source": [
    "## Summarize misassemblies"
   ]
  },
  {
   "cell_type": "code",
   "execution_count": null,
   "metadata": {
    "ExecuteTime": {
     "start_time": "2020-03-10T09:54:07.317Z"
    }
   },
   "outputs": [],
   "source": [
    "# summarizing\n",
    "feats_s = feats %>%\n",
    "    distinct(dataset, contig, assembler, seq_depth, sim_rep, richness, Extensive_misassembly) %>%\n",
    "    group_by(dataset, contig, assembler, seq_depth, sim_rep, richness) %>%\n",
    "    summarize(n_contigs_mis = sum(Extensive_misassembly),\n",
    "              n_contigs = n()) %>%\n",
    "    as_tibble \n",
    "\n",
    "feats_s"
   ]
  },
  {
   "cell_type": "code",
   "execution_count": null,
   "metadata": {
    "ExecuteTime": {
     "start_time": "2020-03-10T09:54:08.868Z"
    }
   },
   "outputs": [],
   "source": [
    "# number of contigs\n",
    "p = feats_s %>%\n",
    "    ggplot(aes(assembler, n_contigs, color=dataset)) +\n",
    "    geom_boxplot() +\n",
    "    labs(x='Assembler', y='No. of contigs') +\n",
    "    theme_bw()\n",
    "\n",
    "plot(p)"
   ]
  },
  {
   "cell_type": "code",
   "execution_count": null,
   "metadata": {
    "ExecuteTime": {
     "start_time": "2020-03-10T09:54:09.340Z"
    }
   },
   "outputs": [],
   "source": [
    "# number of contigs\n",
    "p = feats_s %>%\n",
    "    mutate(perc_misasmbl = n_contigs_mis / n_contigs * 100) %>%\n",
    "    ggplot(aes(assembler, perc_misasmbl, color=dataset)) +\n",
    "    geom_boxplot() +\n",
    "    labs(x='Assembler', y='% misassembled contigs') +\n",
    "    theme_bw()\n",
    "\n",
    "plot(p)"
   ]
  },
  {
   "cell_type": "code",
   "execution_count": null,
   "metadata": {
    "ExecuteTime": {
     "start_time": "2020-03-10T09:54:18.053Z"
    }
   },
   "outputs": [],
   "source": [
    "send_email('http://127.0.0.1:9708/notebooks/notebooks/06_version2/01_simulation_datasets/00_n1000/00_n1000_r30_train-test.ipynb')"
   ]
  },
  {
   "cell_type": "markdown",
   "metadata": {},
   "source": [
    "# sessionInfo"
   ]
  },
  {
   "cell_type": "code",
   "execution_count": null,
   "metadata": {
    "ExecuteTime": {
     "end_time": "2020-03-10T09:21:14.628251Z",
     "start_time": "2020-03-10T09:21:13.208Z"
    }
   },
   "outputs": [],
   "source": [
    "sessionInfo()"
   ]
  },
  {
   "cell_type": "code",
   "execution_count": null,
   "metadata": {},
   "outputs": [],
   "source": []
  }
 ],
 "metadata": {
  "kernelspec": {
   "display_name": "R [conda env:Georg_animal_feces-tidyverse]",
   "language": "R",
   "name": "conda-env-Georg_animal_feces-tidyverse-r"
  },
  "language_info": {
   "codemirror_mode": "r",
   "file_extension": ".r",
   "mimetype": "text/x-r-source",
   "name": "R",
   "pygments_lexer": "r",
   "version": "3.6.2"
  },
  "notify_time": "30",
  "toc": {
   "base_numbering": 1,
   "nav_menu": {},
   "number_sections": true,
   "sideBar": true,
   "skip_h1_title": false,
   "title_cell": "Table of Contents",
   "title_sidebar": "Contents",
   "toc_cell": true,
   "toc_position": {},
   "toc_section_display": true,
   "toc_window_display": true
  }
 },
 "nbformat": 4,
 "nbformat_minor": 4
}
